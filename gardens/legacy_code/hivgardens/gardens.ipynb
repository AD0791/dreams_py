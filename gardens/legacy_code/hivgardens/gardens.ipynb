{
 "cells": [
  {
   "cell_type": "code",
   "execution_count": null,
   "metadata": {},
   "outputs": [],
   "source": [
    "%%capture\n",
    "\n",
    "from IPython.core.interactiveshell import InteractiveShell\n",
    "from pandas import Int32Dtype, read_excel\n",
    "\n",
    "\n",
    "from garden import(\n",
    "    gardening,\n",
    "    sdata,\n",
    "    garden_clean\n",
    ")\n",
    "from gdata import jardin_clean\n",
    "\n",
    "InteractiveShell.ast_node_interactivity = \"all\"\n",
    "\n"
   ]
  },
  {
   "cell_type": "code",
   "execution_count": 2,
   "metadata": {},
   "outputs": [
    {
     "data": {
      "text/plain": [
       "785"
      ]
     },
     "execution_count": 2,
     "metadata": {},
     "output_type": "execute_result"
    },
    {
     "data": {
      "text/plain": [
       "66626"
      ]
     },
     "execution_count": 2,
     "metadata": {},
     "output_type": "execute_result"
    },
    {
     "data": {
      "text/plain": [
       "919"
      ]
     },
     "execution_count": 2,
     "metadata": {},
     "output_type": "execute_result"
    }
   ],
   "source": [
    "gardening.id_patient.count()\n",
    "sdata.case_id.count()\n",
    "sdata.id_patient = sdata.id_patient.astype(Int32Dtype())\n",
    "garden_clean.code_dreams.count()"
   ]
  },
  {
   "cell_type": "code",
   "execution_count": 3,
   "metadata": {},
   "outputs": [
    {
     "data": {
      "text/plain": [
       "838"
      ]
     },
     "execution_count": 3,
     "metadata": {},
     "output_type": "execute_result"
    },
    {
     "data": {
      "text/plain": [
       "81"
      ]
     },
     "execution_count": 3,
     "metadata": {},
     "output_type": "execute_result"
    }
   ],
   "source": [
    "gc_found = sdata[sdata.code.isin(garden_clean.code_dreams)]\n",
    "gc_notfound = garden_clean[~garden_clean.code_dreams.isin(sdata.code)]\n",
    "gc_found.code.count()\n",
    "gc_notfound.code_dreams.count()"
   ]
  },
  {
   "cell_type": "code",
   "execution_count": 4,
   "metadata": {},
   "outputs": [
    {
     "data": {
      "text/plain": [
       "838"
      ]
     },
     "execution_count": 4,
     "metadata": {},
     "output_type": "execute_result"
    }
   ],
   "source": [
    "thegardens = gc_found[['id_patient','code']]\n",
    "thegardens.code.count()"
   ]
  },
  {
   "cell_type": "code",
   "execution_count": 5,
   "metadata": {},
   "outputs": [
    {
     "data": {
      "text/plain": [
       "785"
      ]
     },
     "execution_count": 5,
     "metadata": {},
     "output_type": "execute_result"
    }
   ],
   "source": [
    "reportedGardening = gardening.merge(thegardens,on=\"id_patient\", how='left')\n",
    "reportedGardening.code.count()"
   ]
  },
  {
   "cell_type": "code",
   "execution_count": 6,
   "metadata": {},
   "outputs": [
    {
     "data": {
      "text/plain": [
       "53"
      ]
     },
     "execution_count": 6,
     "metadata": {},
     "output_type": "execute_result"
    }
   ],
   "source": [
    "rg_notfound = thegardens[~thegardens.id_patient.isin(reportedGardening.id_patient)]\n",
    "rg_notfound.id_patient.count()"
   ]
  },
  {
   "cell_type": "code",
   "execution_count": 7,
   "metadata": {},
   "outputs": [
    {
     "data": {
      "text/plain": [
       "53"
      ]
     },
     "execution_count": 7,
     "metadata": {},
     "output_type": "execute_result"
    }
   ],
   "source": [
    "overTheAge = gc_found[gc_found.id_patient.isin(rg_notfound.id_patient)]\n",
    "overTheAge.id_patient.count()"
   ]
  },
  {
   "cell_type": "markdown",
   "metadata": {},
   "source": [
    "# Verification Code soumis dans dreamsMars"
   ]
  },
  {
   "cell_type": "code",
   "execution_count": 16,
   "metadata": {},
   "outputs": [
    {
     "data": {
      "text/html": [
       "<div>\n",
       "<style scoped>\n",
       "    .dataframe tbody tr th:only-of-type {\n",
       "        vertical-align: middle;\n",
       "    }\n",
       "\n",
       "    .dataframe tbody tr th {\n",
       "        vertical-align: top;\n",
       "    }\n",
       "\n",
       "    .dataframe thead th {\n",
       "        text-align: right;\n",
       "    }\n",
       "</style>\n",
       "<table border=\"1\" class=\"dataframe\">\n",
       "  <thead>\n",
       "    <tr style=\"text-align: right;\">\n",
       "      <th></th>\n",
       "      <th>info.case_id</th>\n",
       "      <th>code_dreams</th>\n",
       "      <th>code</th>\n",
       "      <th>closed</th>\n",
       "      <th>closed_date</th>\n",
       "      <th>start_date</th>\n",
       "      <th>info.last_modified_date</th>\n",
       "      <th>address_commune</th>\n",
       "      <th>address_department</th>\n",
       "      <th>cycle_number</th>\n",
       "      <th>cycle_1_start_date</th>\n",
       "      <th>gps</th>\n",
       "      <th>beneficiary_type</th>\n",
       "    </tr>\n",
       "  </thead>\n",
       "  <tbody>\n",
       "    <tr>\n",
       "      <th>0</th>\n",
       "      <td>cb3b1227-3f2f-4a3e-b8c4-3fa790f71755</td>\n",
       "      <td>PAP/DRMS/143179206</td>\n",
       "      <td>True</td>\n",
       "      <td>False</td>\n",
       "      <td>---</td>\n",
       "      <td>2022-03-24</td>\n",
       "      <td>2022-03-29 17:20:32</td>\n",
       "      <td>kenscoff</td>\n",
       "      <td>ouest</td>\n",
       "      <td>1</td>\n",
       "      <td>2022-03-29</td>\n",
       "      <td>18.4576377 -72.2754508 1186.41 5.36</td>\n",
       "      <td>dreams</td>\n",
       "    </tr>\n",
       "    <tr>\n",
       "      <th>1</th>\n",
       "      <td>e7019a38-ea7f-40fe-99cc-06e76880e957</td>\n",
       "      <td>PAP/DRMS/032035720</td>\n",
       "      <td>True</td>\n",
       "      <td>False</td>\n",
       "      <td>---</td>\n",
       "      <td>2022-03-24</td>\n",
       "      <td>2022-03-24 13:29:31</td>\n",
       "      <td>kenscoff</td>\n",
       "      <td>ouest</td>\n",
       "      <td>1</td>\n",
       "      <td>---</td>\n",
       "      <td>---</td>\n",
       "      <td>dreams</td>\n",
       "    </tr>\n",
       "    <tr>\n",
       "      <th>2</th>\n",
       "      <td>59e20aff-8473-4de8-9e1d-c42346919b07</td>\n",
       "      <td>PAP/DRMS/186270612</td>\n",
       "      <td>True</td>\n",
       "      <td>False</td>\n",
       "      <td>---</td>\n",
       "      <td>2022-03-24</td>\n",
       "      <td>2022-03-24 13:34:45</td>\n",
       "      <td>kenscoff</td>\n",
       "      <td>ouest</td>\n",
       "      <td>1</td>\n",
       "      <td>---</td>\n",
       "      <td>---</td>\n",
       "      <td>dreams</td>\n",
       "    </tr>\n",
       "    <tr>\n",
       "      <th>3</th>\n",
       "      <td>281c998a-42d6-4f05-80e7-ccdfacfce4ed</td>\n",
       "      <td>PAP/DRMS/032185411</td>\n",
       "      <td>True</td>\n",
       "      <td>False</td>\n",
       "      <td>---</td>\n",
       "      <td>2022-03-24</td>\n",
       "      <td>2022-03-24 13:39:55</td>\n",
       "      <td>kenscoff</td>\n",
       "      <td>ouest</td>\n",
       "      <td>1</td>\n",
       "      <td>---</td>\n",
       "      <td>---</td>\n",
       "      <td>dreams</td>\n",
       "    </tr>\n",
       "    <tr>\n",
       "      <th>4</th>\n",
       "      <td>ba6f08b2-5471-48d5-a4b9-132d1e6bed18</td>\n",
       "      <td>PAP/DRMS/014332901</td>\n",
       "      <td>True</td>\n",
       "      <td>False</td>\n",
       "      <td>---</td>\n",
       "      <td>2022-03-24</td>\n",
       "      <td>2022-03-24 13:52:27</td>\n",
       "      <td>kenscoff</td>\n",
       "      <td>ouest</td>\n",
       "      <td>1</td>\n",
       "      <td>---</td>\n",
       "      <td>---</td>\n",
       "      <td>dreams</td>\n",
       "    </tr>\n",
       "    <tr>\n",
       "      <th>...</th>\n",
       "      <td>...</td>\n",
       "      <td>...</td>\n",
       "      <td>...</td>\n",
       "      <td>...</td>\n",
       "      <td>...</td>\n",
       "      <td>...</td>\n",
       "      <td>...</td>\n",
       "      <td>...</td>\n",
       "      <td>...</td>\n",
       "      <td>...</td>\n",
       "      <td>...</td>\n",
       "      <td>...</td>\n",
       "      <td>...</td>\n",
       "    </tr>\n",
       "    <tr>\n",
       "      <th>93</th>\n",
       "      <td>fde86942-e7c0-4101-94fe-70696007df48</td>\n",
       "      <td>GON/DRMS/061297102</td>\n",
       "      <td>True</td>\n",
       "      <td>False</td>\n",
       "      <td>---</td>\n",
       "      <td>2022-03-11</td>\n",
       "      <td>2022-03-26 21:48:03</td>\n",
       "      <td>Liancourt</td>\n",
       "      <td>artibonite</td>\n",
       "      <td>1</td>\n",
       "      <td>2022-03-25</td>\n",
       "      <td>19.1163206 -72.5315407 59.0 6.23</td>\n",
       "      <td>dreams</td>\n",
       "    </tr>\n",
       "    <tr>\n",
       "      <th>120</th>\n",
       "      <td>361cf74c-6dc1-460c-8e0f-10b9ca38bccd</td>\n",
       "      <td>GON/DRMS/059195612</td>\n",
       "      <td>True</td>\n",
       "      <td>False</td>\n",
       "      <td>---</td>\n",
       "      <td>2022-03-10</td>\n",
       "      <td>2022-03-26 18:26:19</td>\n",
       "      <td>Liancourt</td>\n",
       "      <td>artibonite</td>\n",
       "      <td>1</td>\n",
       "      <td>2022-03-25</td>\n",
       "      <td>19.1157105 -72.5346552 37.0 13.93</td>\n",
       "      <td>dreams</td>\n",
       "    </tr>\n",
       "    <tr>\n",
       "      <th>121</th>\n",
       "      <td>cd399948-40c1-4c65-a3ac-8dce45d7de45</td>\n",
       "      <td>GON/DRMS/061242401</td>\n",
       "      <td>True</td>\n",
       "      <td>False</td>\n",
       "      <td>---</td>\n",
       "      <td>2022-03-10</td>\n",
       "      <td>2022-04-01 15:12:32</td>\n",
       "      <td>Liancourt</td>\n",
       "      <td>artibonite</td>\n",
       "      <td>1</td>\n",
       "      <td>2022-03-16</td>\n",
       "      <td>19.1195096 -72.5239807 5.0 4.09</td>\n",
       "      <td>dreams</td>\n",
       "    </tr>\n",
       "    <tr>\n",
       "      <th>122</th>\n",
       "      <td>5f184cc7-1838-4bf2-adef-e1855b89c328</td>\n",
       "      <td>GON/DRMS/061195506</td>\n",
       "      <td>True</td>\n",
       "      <td>False</td>\n",
       "      <td>---</td>\n",
       "      <td>2022-03-10</td>\n",
       "      <td>2022-03-23 17:23:47</td>\n",
       "      <td>Liancourt</td>\n",
       "      <td>artibonite</td>\n",
       "      <td>1</td>\n",
       "      <td>---</td>\n",
       "      <td>---</td>\n",
       "      <td>dreams</td>\n",
       "    </tr>\n",
       "    <tr>\n",
       "      <th>123</th>\n",
       "      <td>7be3f2b7-313f-44f8-90f7-0b85c672f807</td>\n",
       "      <td>GON/DRMS/061157013</td>\n",
       "      <td>True</td>\n",
       "      <td>False</td>\n",
       "      <td>---</td>\n",
       "      <td>2022-03-10</td>\n",
       "      <td>2022-04-01 14:44:30</td>\n",
       "      <td>Liancourt</td>\n",
       "      <td>artibonite</td>\n",
       "      <td>1</td>\n",
       "      <td>2022-03-16</td>\n",
       "      <td>19.1197949 -72.5237202 15.0 5.16</td>\n",
       "      <td>dreams</td>\n",
       "    </tr>\n",
       "  </tbody>\n",
       "</table>\n",
       "<p>80 rows × 13 columns</p>\n",
       "</div>"
      ],
      "text/plain": [
       "                             info.case_id         code_dreams  code  closed  \\\n",
       "0    cb3b1227-3f2f-4a3e-b8c4-3fa790f71755  PAP/DRMS/143179206  True   False   \n",
       "1    e7019a38-ea7f-40fe-99cc-06e76880e957  PAP/DRMS/032035720  True   False   \n",
       "2    59e20aff-8473-4de8-9e1d-c42346919b07  PAP/DRMS/186270612  True   False   \n",
       "3    281c998a-42d6-4f05-80e7-ccdfacfce4ed  PAP/DRMS/032185411  True   False   \n",
       "4    ba6f08b2-5471-48d5-a4b9-132d1e6bed18  PAP/DRMS/014332901  True   False   \n",
       "..                                    ...                 ...   ...     ...   \n",
       "93   fde86942-e7c0-4101-94fe-70696007df48  GON/DRMS/061297102  True   False   \n",
       "120  361cf74c-6dc1-460c-8e0f-10b9ca38bccd  GON/DRMS/059195612  True   False   \n",
       "121  cd399948-40c1-4c65-a3ac-8dce45d7de45  GON/DRMS/061242401  True   False   \n",
       "122  5f184cc7-1838-4bf2-adef-e1855b89c328  GON/DRMS/061195506  True   False   \n",
       "123  7be3f2b7-313f-44f8-90f7-0b85c672f807  GON/DRMS/061157013  True   False   \n",
       "\n",
       "    closed_date  start_date info.last_modified_date address_commune  \\\n",
       "0           ---  2022-03-24     2022-03-29 17:20:32        kenscoff   \n",
       "1           ---  2022-03-24     2022-03-24 13:29:31        kenscoff   \n",
       "2           ---  2022-03-24     2022-03-24 13:34:45        kenscoff   \n",
       "3           ---  2022-03-24     2022-03-24 13:39:55        kenscoff   \n",
       "4           ---  2022-03-24     2022-03-24 13:52:27        kenscoff   \n",
       "..          ...         ...                     ...             ...   \n",
       "93          ---  2022-03-11     2022-03-26 21:48:03       Liancourt   \n",
       "120         ---  2022-03-10     2022-03-26 18:26:19       Liancourt   \n",
       "121         ---  2022-03-10     2022-04-01 15:12:32       Liancourt   \n",
       "122         ---  2022-03-10     2022-03-23 17:23:47       Liancourt   \n",
       "123         ---  2022-03-10     2022-04-01 14:44:30       Liancourt   \n",
       "\n",
       "    address_department  cycle_number cycle_1_start_date  \\\n",
       "0                ouest             1         2022-03-29   \n",
       "1                ouest             1                ---   \n",
       "2                ouest             1                ---   \n",
       "3                ouest             1                ---   \n",
       "4                ouest             1                ---   \n",
       "..                 ...           ...                ...   \n",
       "93          artibonite             1         2022-03-25   \n",
       "120         artibonite             1         2022-03-25   \n",
       "121         artibonite             1         2022-03-16   \n",
       "122         artibonite             1                ---   \n",
       "123         artibonite             1         2022-03-16   \n",
       "\n",
       "                                     gps beneficiary_type  \n",
       "0    18.4576377 -72.2754508 1186.41 5.36           dreams  \n",
       "1                                    ---           dreams  \n",
       "2                                    ---           dreams  \n",
       "3                                    ---           dreams  \n",
       "4                                    ---           dreams  \n",
       "..                                   ...              ...  \n",
       "93      19.1163206 -72.5315407 59.0 6.23           dreams  \n",
       "120    19.1157105 -72.5346552 37.0 13.93           dreams  \n",
       "121      19.1195096 -72.5239807 5.0 4.09           dreams  \n",
       "122                                  ---           dreams  \n",
       "123     19.1197949 -72.5237202 15.0 5.16           dreams  \n",
       "\n",
       "[80 rows x 13 columns]"
      ]
     },
     "execution_count": 16,
     "metadata": {},
     "output_type": "execute_result"
    }
   ],
   "source": [
    "jardin_clean"
   ]
  },
  {
   "cell_type": "code",
   "execution_count": 8,
   "metadata": {},
   "outputs": [
    {
     "data": {
      "text/plain": [
       "80"
      ]
     },
     "execution_count": 8,
     "metadata": {},
     "output_type": "execute_result"
    }
   ],
   "source": [
    "jardin_clean.code_dreams.count()"
   ]
  },
  {
   "cell_type": "code",
   "execution_count": 9,
   "metadata": {},
   "outputs": [
    {
     "data": {
      "text/plain": [
       "70"
      ]
     },
     "execution_count": 9,
     "metadata": {},
     "output_type": "execute_result"
    },
    {
     "data": {
      "text/plain": [
       "10"
      ]
     },
     "execution_count": 9,
     "metadata": {},
     "output_type": "execute_result"
    }
   ],
   "source": [
    "_found = sdata[sdata.code.isin(jardin_clean.code_dreams)]\n",
    "_notfound = jardin_clean[~jardin_clean.code_dreams.isin(sdata.code)]\n",
    "_found.code.count()\n",
    "_notfound.code_dreams.count()"
   ]
  },
  {
   "cell_type": "code",
   "execution_count": 10,
   "metadata": {},
   "outputs": [
    {
     "data": {
      "text/plain": [
       "70"
      ]
     },
     "execution_count": 10,
     "metadata": {},
     "output_type": "execute_result"
    }
   ],
   "source": [
    "thejardins = _found[['id_patient','code']]\n",
    "thejardins.code.count()"
   ]
  },
  {
   "cell_type": "code",
   "execution_count": 11,
   "metadata": {},
   "outputs": [
    {
     "data": {
      "text/plain": [
       "70"
      ]
     },
     "execution_count": 11,
     "metadata": {},
     "output_type": "execute_result"
    }
   ],
   "source": [
    "reportedjardin = gardening.merge(thejardins,on=\"id_patient\", how='left')\n",
    "reportedjardin.code.count()"
   ]
  },
  {
   "cell_type": "code",
   "execution_count": 12,
   "metadata": {},
   "outputs": [
    {
     "data": {
      "text/plain": [
       "0"
      ]
     },
     "execution_count": 12,
     "metadata": {},
     "output_type": "execute_result"
    }
   ],
   "source": [
    "rj_notfound = thejardins[~thejardins.id_patient.isin(reportedjardin.id_patient)]\n",
    "rj_notfound.id_patient.count()"
   ]
  },
  {
   "cell_type": "code",
   "execution_count": 15,
   "metadata": {},
   "outputs": [
    {
     "data": {
      "text/plain": [
       "70"
      ]
     },
     "execution_count": 15,
     "metadata": {},
     "output_type": "execute_result"
    },
    {
     "data": {
      "text/html": [
       "<div>\n",
       "<style scoped>\n",
       "    .dataframe tbody tr th:only-of-type {\n",
       "        vertical-align: middle;\n",
       "    }\n",
       "\n",
       "    .dataframe tbody tr th {\n",
       "        vertical-align: top;\n",
       "    }\n",
       "\n",
       "    .dataframe thead th {\n",
       "        text-align: right;\n",
       "    }\n",
       "</style>\n",
       "<table border=\"1\" class=\"dataframe\">\n",
       "  <thead>\n",
       "    <tr style=\"text-align: right;\">\n",
       "      <th></th>\n",
       "      <th>case_id</th>\n",
       "      <th>id_patient</th>\n",
       "      <th>code</th>\n",
       "      <th>first_name</th>\n",
       "      <th>last_name</th>\n",
       "      <th>age</th>\n",
       "      <th>dob</th>\n",
       "      <th>interview_date</th>\n",
       "      <th>e__telefn</th>\n",
       "      <th>adress</th>\n",
       "      <th>...</th>\n",
       "      <th>interviewer_lastname</th>\n",
       "      <th>interviewer_role</th>\n",
       "      <th>interviewer_other_info</th>\n",
       "      <th>interview_location</th>\n",
       "      <th>is_your_parent_alive</th>\n",
       "      <th>mothers_name</th>\n",
       "      <th>fathers_name</th>\n",
       "      <th>who_is_your_law_parent</th>\n",
       "      <th>total</th>\n",
       "      <th>organisation</th>\n",
       "    </tr>\n",
       "  </thead>\n",
       "  <tbody>\n",
       "    <tr>\n",
       "      <th>1372</th>\n",
       "      <td>053f7022-c7b2-4e37-8e90-bfb906a259fa</td>\n",
       "      <td>78772</td>\n",
       "      <td>PAP/DRMS/032117017</td>\n",
       "      <td>Kendiana</td>\n",
       "      <td>Jeudy</td>\n",
       "      <td>13.0</td>\n",
       "      <td>2008-04-12</td>\n",
       "      <td>2019-11-29</td>\n",
       "      <td>37953653</td>\n",
       "      <td>Fermathe</td>\n",
       "      <td>...</td>\n",
       "      <td>Fanfan</td>\n",
       "      <td>ask</td>\n",
       "      <td>None</td>\n",
       "      <td>Fermathe</td>\n",
       "      <td>4.0</td>\n",
       "      <td>None</td>\n",
       "      <td>None</td>\n",
       "      <td>Jeudy Loudia</td>\n",
       "      <td>34.0</td>\n",
       "      <td>CARIS</td>\n",
       "    </tr>\n",
       "    <tr>\n",
       "      <th>1510</th>\n",
       "      <td>05d17708-2820-4e12-bb45-5f0b8e0ea703</td>\n",
       "      <td>112300</td>\n",
       "      <td>GON/DRMS/061242401</td>\n",
       "      <td>Nelda</td>\n",
       "      <td>Paul</td>\n",
       "      <td>19.0</td>\n",
       "      <td>2002-11-02</td>\n",
       "      <td>2020-12-21</td>\n",
       "      <td></td>\n",
       "      <td>Payen</td>\n",
       "      <td>...</td>\n",
       "      <td>Eriscart</td>\n",
       "      <td>mentor</td>\n",
       "      <td>None</td>\n",
       "      <td>Payen</td>\n",
       "      <td>0.0</td>\n",
       "      <td>Ilionique Phanor</td>\n",
       "      <td>Delano Paul</td>\n",
       "      <td></td>\n",
       "      <td>30.0</td>\n",
       "      <td>CARIS</td>\n",
       "    </tr>\n",
       "    <tr>\n",
       "      <th>2839</th>\n",
       "      <td>0b0ab791-eff3-4e42-8849-242a7b0de00a</td>\n",
       "      <td>97634</td>\n",
       "      <td>GON/DRMS/059209903</td>\n",
       "      <td>preskerdjine</td>\n",
       "      <td>fleurimond</td>\n",
       "      <td>15.0</td>\n",
       "      <td>2006-06-08</td>\n",
       "      <td>2020-09-13</td>\n",
       "      <td></td>\n",
       "      <td>rue dieuleme</td>\n",
       "      <td>...</td>\n",
       "      <td>Saint-Louis</td>\n",
       "      <td>mentor</td>\n",
       "      <td>None</td>\n",
       "      <td>liancourt</td>\n",
       "      <td>0.0</td>\n",
       "      <td>cleanne</td>\n",
       "      <td>presner</td>\n",
       "      <td></td>\n",
       "      <td>14.0</td>\n",
       "      <td>CARIS</td>\n",
       "    </tr>\n",
       "    <tr>\n",
       "      <th>4166</th>\n",
       "      <td>1015a788-0d4b-4158-9779-fd6231f2ee78</td>\n",
       "      <td>112301</td>\n",
       "      <td>GON/DRMS/061242402</td>\n",
       "      <td>Rolkinia</td>\n",
       "      <td>Dorzéma</td>\n",
       "      <td>19.0</td>\n",
       "      <td>2003-01-23</td>\n",
       "      <td>2020-12-23</td>\n",
       "      <td>32809271</td>\n",
       "      <td>Cité des oeuvres</td>\n",
       "      <td>...</td>\n",
       "      <td>Michaud</td>\n",
       "      <td>mentor</td>\n",
       "      <td>None</td>\n",
       "      <td>cité des oeuvres</td>\n",
       "      <td>0.0</td>\n",
       "      <td>Lismie Saint-Germain</td>\n",
       "      <td>Dorzéma Herold</td>\n",
       "      <td>Lismie saint-Germain</td>\n",
       "      <td>28.0</td>\n",
       "      <td>CARIS</td>\n",
       "    </tr>\n",
       "    <tr>\n",
       "      <th>5239</th>\n",
       "      <td>1443c1d7-0c65-4581-a71b-81938185df8f</td>\n",
       "      <td>117878</td>\n",
       "      <td>GON/DRMS/084264001</td>\n",
       "      <td>Negeline</td>\n",
       "      <td>Charles</td>\n",
       "      <td>19.0</td>\n",
       "      <td>2003-02-12</td>\n",
       "      <td>2020-09-29</td>\n",
       "      <td>38260226</td>\n",
       "      <td>Desarmes</td>\n",
       "      <td>...</td>\n",
       "      <td>Augustin</td>\n",
       "      <td>mentor</td>\n",
       "      <td>None</td>\n",
       "      <td>Desarmes</td>\n",
       "      <td>2.0</td>\n",
       "      <td></td>\n",
       "      <td>Alcine Negeste</td>\n",
       "      <td>Yolande Ovilmar</td>\n",
       "      <td>49.0</td>\n",
       "      <td>CARIS</td>\n",
       "    </tr>\n",
       "    <tr>\n",
       "      <th>...</th>\n",
       "      <td>...</td>\n",
       "      <td>...</td>\n",
       "      <td>...</td>\n",
       "      <td>...</td>\n",
       "      <td>...</td>\n",
       "      <td>...</td>\n",
       "      <td>...</td>\n",
       "      <td>...</td>\n",
       "      <td>...</td>\n",
       "      <td>...</td>\n",
       "      <td>...</td>\n",
       "      <td>...</td>\n",
       "      <td>...</td>\n",
       "      <td>...</td>\n",
       "      <td>...</td>\n",
       "      <td>...</td>\n",
       "      <td>...</td>\n",
       "      <td>...</td>\n",
       "      <td>...</td>\n",
       "      <td>...</td>\n",
       "      <td>...</td>\n",
       "    </tr>\n",
       "    <tr>\n",
       "      <th>56231</th>\n",
       "      <td>d7a727fc-1241-4b5e-96a8-00dfeb9805cb</td>\n",
       "      <td>81919</td>\n",
       "      <td>GON/DRMS/049048202</td>\n",
       "      <td>Marie Herlie</td>\n",
       "      <td>Calixte</td>\n",
       "      <td>20.0</td>\n",
       "      <td>2002-01-14</td>\n",
       "      <td>2020-07-08</td>\n",
       "      <td></td>\n",
       "      <td>Passe Royal</td>\n",
       "      <td>...</td>\n",
       "      <td>Maurice</td>\n",
       "      <td>mentor</td>\n",
       "      <td>None</td>\n",
       "      <td>Passe Royal</td>\n",
       "      <td>0.0</td>\n",
       "      <td>Calixte Mariline</td>\n",
       "      <td>Renan Casseus</td>\n",
       "      <td>manman</td>\n",
       "      <td>30.0</td>\n",
       "      <td>CARIS</td>\n",
       "    </tr>\n",
       "    <tr>\n",
       "      <th>60503</th>\n",
       "      <td>e880316c-0e9c-4d97-af93-9083065dbbf0</td>\n",
       "      <td>132286</td>\n",
       "      <td>GON/DRMS/084356409</td>\n",
       "      <td>Medeline</td>\n",
       "      <td>Edouard</td>\n",
       "      <td>15.0</td>\n",
       "      <td>2006-09-09</td>\n",
       "      <td>2021-12-18</td>\n",
       "      <td>36414698</td>\n",
       "      <td>majuin</td>\n",
       "      <td>...</td>\n",
       "      <td>Mystere</td>\n",
       "      <td>mentor</td>\n",
       "      <td>None</td>\n",
       "      <td>desarmes</td>\n",
       "      <td>0.0</td>\n",
       "      <td>Dolisca Jacqueline</td>\n",
       "      <td>Edouard Miritène</td>\n",
       "      <td>Dolisca Jacqueline</td>\n",
       "      <td>24.0</td>\n",
       "      <td>CARIS</td>\n",
       "    </tr>\n",
       "    <tr>\n",
       "      <th>61003</th>\n",
       "      <td>ea6df8ef-03b7-4c19-ac21-d4e55492a03f</td>\n",
       "      <td>91717</td>\n",
       "      <td>GON/DRMS/062189533</td>\n",
       "      <td>Dodena</td>\n",
       "      <td>Datilus</td>\n",
       "      <td>14.0</td>\n",
       "      <td>2007-11-27</td>\n",
       "      <td>2020-07-08</td>\n",
       "      <td>38144335</td>\n",
       "      <td>dezan</td>\n",
       "      <td>...</td>\n",
       "      <td>PHIDELUS</td>\n",
       "      <td>mentor</td>\n",
       "      <td>None</td>\n",
       "      <td>dezan</td>\n",
       "      <td>0.0</td>\n",
       "      <td>Nadine Joseph</td>\n",
       "      <td>Datilus Dieugrand</td>\n",
       "      <td>Nadine Joseph</td>\n",
       "      <td>28.0</td>\n",
       "      <td>CARIS</td>\n",
       "    </tr>\n",
       "    <tr>\n",
       "      <th>63737</th>\n",
       "      <td>f52ee4f8-9777-4484-8b9a-46e758be82f7</td>\n",
       "      <td>83483</td>\n",
       "      <td>GON/DRMS/049146415</td>\n",
       "      <td>Wistania</td>\n",
       "      <td>Charles</td>\n",
       "      <td>14.0</td>\n",
       "      <td>2008-02-12</td>\n",
       "      <td>2020-07-08</td>\n",
       "      <td></td>\n",
       "      <td>pas wayal</td>\n",
       "      <td>...</td>\n",
       "      <td>Dieujuste</td>\n",
       "      <td>mentor</td>\n",
       "      <td>None</td>\n",
       "      <td>pas Wayal</td>\n",
       "      <td>0.0</td>\n",
       "      <td>Geraldine</td>\n",
       "      <td>Luckner</td>\n",
       "      <td>Calixte Marie Yourie</td>\n",
       "      <td>15.0</td>\n",
       "      <td>CARIS</td>\n",
       "    </tr>\n",
       "    <tr>\n",
       "      <th>66313</th>\n",
       "      <td>fed69d20-f9ce-4536-ae22-f9876c71b7e2</td>\n",
       "      <td>92981</td>\n",
       "      <td>GON/DRMS/059195415</td>\n",
       "      <td>Christ yolanda</td>\n",
       "      <td>Darilus</td>\n",
       "      <td>14.0</td>\n",
       "      <td>2007-05-04</td>\n",
       "      <td>2020-09-20</td>\n",
       "      <td>40692028</td>\n",
       "      <td>liancourt</td>\n",
       "      <td>...</td>\n",
       "      <td>saget</td>\n",
       "      <td>mentor</td>\n",
       "      <td>None</td>\n",
       "      <td>liancourt</td>\n",
       "      <td>2.0</td>\n",
       "      <td></td>\n",
       "      <td></td>\n",
       "      <td></td>\n",
       "      <td>21.0</td>\n",
       "      <td>CARIS</td>\n",
       "    </tr>\n",
       "  </tbody>\n",
       "</table>\n",
       "<p>70 rows × 30 columns</p>\n",
       "</div>"
      ],
      "text/plain": [
       "                                    case_id  id_patient                code  \\\n",
       "1372   053f7022-c7b2-4e37-8e90-bfb906a259fa       78772  PAP/DRMS/032117017   \n",
       "1510   05d17708-2820-4e12-bb45-5f0b8e0ea703      112300  GON/DRMS/061242401   \n",
       "2839   0b0ab791-eff3-4e42-8849-242a7b0de00a       97634  GON/DRMS/059209903   \n",
       "4166   1015a788-0d4b-4158-9779-fd6231f2ee78      112301  GON/DRMS/061242402   \n",
       "5239   1443c1d7-0c65-4581-a71b-81938185df8f      117878  GON/DRMS/084264001   \n",
       "...                                     ...         ...                 ...   \n",
       "56231  d7a727fc-1241-4b5e-96a8-00dfeb9805cb       81919  GON/DRMS/049048202   \n",
       "60503  e880316c-0e9c-4d97-af93-9083065dbbf0      132286  GON/DRMS/084356409   \n",
       "61003  ea6df8ef-03b7-4c19-ac21-d4e55492a03f       91717  GON/DRMS/062189533   \n",
       "63737  f52ee4f8-9777-4484-8b9a-46e758be82f7       83483  GON/DRMS/049146415   \n",
       "66313  fed69d20-f9ce-4536-ae22-f9876c71b7e2       92981  GON/DRMS/059195415   \n",
       "\n",
       "           first_name   last_name   age         dob interview_date e__telefn  \\\n",
       "1372         Kendiana       Jeudy  13.0  2008-04-12     2019-11-29  37953653   \n",
       "1510            Nelda        Paul  19.0  2002-11-02     2020-12-21             \n",
       "2839     preskerdjine  fleurimond  15.0  2006-06-08     2020-09-13             \n",
       "4166         Rolkinia     Dorzéma  19.0  2003-01-23     2020-12-23  32809271   \n",
       "5239         Negeline     Charles  19.0  2003-02-12     2020-09-29  38260226   \n",
       "...               ...         ...   ...         ...            ...       ...   \n",
       "56231    Marie Herlie     Calixte  20.0  2002-01-14     2020-07-08             \n",
       "60503        Medeline     Edouard  15.0  2006-09-09     2021-12-18  36414698   \n",
       "61003          Dodena     Datilus  14.0  2007-11-27     2020-07-08  38144335   \n",
       "63737        Wistania     Charles  14.0  2008-02-12     2020-07-08             \n",
       "66313  Christ yolanda     Darilus  14.0  2007-05-04     2020-09-20  40692028   \n",
       "\n",
       "                 adress  ... interviewer_lastname  interviewer_role  \\\n",
       "1372           Fermathe  ...               Fanfan               ask   \n",
       "1510              Payen  ...             Eriscart            mentor   \n",
       "2839       rue dieuleme  ...          Saint-Louis            mentor   \n",
       "4166   Cité des oeuvres  ...              Michaud            mentor   \n",
       "5239           Desarmes  ...             Augustin            mentor   \n",
       "...                 ...  ...                  ...               ...   \n",
       "56231       Passe Royal  ...              Maurice            mentor   \n",
       "60503            majuin  ...              Mystere            mentor   \n",
       "61003             dezan  ...             PHIDELUS            mentor   \n",
       "63737         pas wayal  ...            Dieujuste            mentor   \n",
       "66313         liancourt  ...                saget            mentor   \n",
       "\n",
       "      interviewer_other_info  interview_location is_your_parent_alive  \\\n",
       "1372                    None            Fermathe                  4.0   \n",
       "1510                    None               Payen                  0.0   \n",
       "2839                    None           liancourt                  0.0   \n",
       "4166                    None    cité des oeuvres                  0.0   \n",
       "5239                    None            Desarmes                  2.0   \n",
       "...                      ...                 ...                  ...   \n",
       "56231                   None         Passe Royal                  0.0   \n",
       "60503                   None            desarmes                  0.0   \n",
       "61003                   None               dezan                  0.0   \n",
       "63737                   None           pas Wayal                  0.0   \n",
       "66313                   None           liancourt                  2.0   \n",
       "\n",
       "               mothers_name       fathers_name who_is_your_law_parent total  \\\n",
       "1372                   None               None           Jeudy Loudia  34.0   \n",
       "1510       Ilionique Phanor        Delano Paul                         30.0   \n",
       "2839                cleanne            presner                         14.0   \n",
       "4166   Lismie Saint-Germain     Dorzéma Herold   Lismie saint-Germain  28.0   \n",
       "5239                            Alcine Negeste        Yolande Ovilmar  49.0   \n",
       "...                     ...                ...                    ...   ...   \n",
       "56231      Calixte Mariline      Renan Casseus                 manman  30.0   \n",
       "60503    Dolisca Jacqueline   Edouard Miritène     Dolisca Jacqueline  24.0   \n",
       "61003         Nadine Joseph  Datilus Dieugrand          Nadine Joseph  28.0   \n",
       "63737             Geraldine            Luckner   Calixte Marie Yourie  15.0   \n",
       "66313                                                                  21.0   \n",
       "\n",
       "      organisation  \n",
       "1372         CARIS  \n",
       "1510         CARIS  \n",
       "2839         CARIS  \n",
       "4166         CARIS  \n",
       "5239         CARIS  \n",
       "...            ...  \n",
       "56231        CARIS  \n",
       "60503        CARIS  \n",
       "61003        CARIS  \n",
       "63737        CARIS  \n",
       "66313        CARIS  \n",
       "\n",
       "[70 rows x 30 columns]"
      ]
     },
     "execution_count": 15,
     "metadata": {},
     "output_type": "execute_result"
    }
   ],
   "source": [
    "ona70sur124 = _found[_found.id_patient.isin(reportedjardin.id_patient)]\n",
    "ona70sur124.id_patient.count()\n",
    "ona70sur124"
   ]
  },
  {
   "cell_type": "code",
   "execution_count": null,
   "metadata": {},
   "outputs": [],
   "source": []
  }
 ],
 "metadata": {
  "interpreter": {
   "hash": "4534460e0bdca1b390927d45471088fb3501d39abc4e3f2cee293892e17d7fc6"
  },
  "kernelspec": {
   "display_name": "Python 3.9.6 64-bit",
   "name": "python3"
  },
  "language_info": {
   "codemirror_mode": {
    "name": "ipython",
    "version": 3
   },
   "file_extension": ".py",
   "mimetype": "text/x-python",
   "name": "python",
   "nbconvert_exporter": "python",
   "pygments_lexer": "ipython3",
   "version": "3.10.2"
  },
  "orig_nbformat": 4
 },
 "nbformat": 4,
 "nbformat_minor": 2
}
