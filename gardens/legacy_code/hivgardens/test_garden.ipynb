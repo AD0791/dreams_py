{
 "cells": [
  {
   "cell_type": "code",
   "execution_count": 1,
   "metadata": {},
   "outputs": [
    {
     "name": "stderr",
     "output_type": "stream",
     "text": [
      "/Users/ad0791/Desktop/dreams_py/gardens/hivgardens/gdata.py:5: PerformanceWarning: DataFrame is highly fragmented.  This is usually the result of calling `frame.insert` many times, which has poor performance.  Consider joining all columns at once using pd.concat(axis=1) instead. To get a de-fragmented frame, use `newframe = frame.copy()`\n",
      "  jardins['code'] = jardins.code_dreams.str.fullmatch(\"^[A-Z]{3}/DRMS/(\\d{9})$\")\n"
     ]
    }
   ],
   "source": [
    "from gdata import jardins"
   ]
  },
  {
   "cell_type": "code",
   "execution_count": 2,
   "metadata": {},
   "outputs": [
    {
     "data": {
      "text/plain": [
       "124"
      ]
     },
     "execution_count": 2,
     "metadata": {},
     "output_type": "execute_result"
    }
   ],
   "source": [
    "jardins.fillna('---',inplace=True)\n",
    "jardins['info.case_id'].count()"
   ]
  },
  {
   "cell_type": "code",
   "execution_count": 3,
   "metadata": {},
   "outputs": [
    {
     "data": {
      "text/plain": [
       "True     82\n",
       "False    42\n",
       "Name: code, dtype: int64"
      ]
     },
     "execution_count": 3,
     "metadata": {},
     "output_type": "execute_result"
    }
   ],
   "source": [
    "jardins['code'] = jardins.code_dreams.str.fullmatch(\"^[A-Z]{3}/DRMS/(\\d{9})$\")\n",
    "jardins.code.value_counts()\n"
   ]
  },
  {
   "cell_type": "code",
   "execution_count": 4,
   "metadata": {},
   "outputs": [
    {
     "data": {
      "text/plain": [
       "82"
      ]
     },
     "execution_count": 4,
     "metadata": {},
     "output_type": "execute_result"
    }
   ],
   "source": [
    "jardins_code = jardins[jardins.code==True]\n",
    "jardins_code.code.count()"
   ]
  },
  {
   "cell_type": "code",
   "execution_count": 5,
   "metadata": {},
   "outputs": [
    {
     "data": {
      "text/html": [
       "<div>\n",
       "<style scoped>\n",
       "    .dataframe tbody tr th:only-of-type {\n",
       "        vertical-align: middle;\n",
       "    }\n",
       "\n",
       "    .dataframe tbody tr th {\n",
       "        vertical-align: top;\n",
       "    }\n",
       "\n",
       "    .dataframe thead th {\n",
       "        text-align: right;\n",
       "    }\n",
       "</style>\n",
       "<table border=\"1\" class=\"dataframe\">\n",
       "  <thead>\n",
       "    <tr style=\"text-align: right;\">\n",
       "      <th></th>\n",
       "      <th>info.case_id</th>\n",
       "      <th>code_dreams</th>\n",
       "      <th>code</th>\n",
       "      <th>closed</th>\n",
       "      <th>closed_date</th>\n",
       "      <th>start_date</th>\n",
       "      <th>info.last_modified_date</th>\n",
       "      <th>address_commune</th>\n",
       "      <th>address_department</th>\n",
       "      <th>cycle_number</th>\n",
       "      <th>cycle_1_start_date</th>\n",
       "      <th>gps</th>\n",
       "      <th>beneficiary_type</th>\n",
       "    </tr>\n",
       "  </thead>\n",
       "  <tbody>\n",
       "    <tr>\n",
       "      <th>0</th>\n",
       "      <td>cb3b1227-3f2f-4a3e-b8c4-3fa790f71755</td>\n",
       "      <td>PAP/DRMS/143179206</td>\n",
       "      <td>True</td>\n",
       "      <td>False</td>\n",
       "      <td>---</td>\n",
       "      <td>2022-03-24</td>\n",
       "      <td>2022-03-29 17:20:32</td>\n",
       "      <td>kenscoff</td>\n",
       "      <td>ouest</td>\n",
       "      <td>1</td>\n",
       "      <td>2022-03-29</td>\n",
       "      <td>18.4576377 -72.2754508 1186.41 5.36</td>\n",
       "      <td>dreams</td>\n",
       "    </tr>\n",
       "    <tr>\n",
       "      <th>1</th>\n",
       "      <td>e7019a38-ea7f-40fe-99cc-06e76880e957</td>\n",
       "      <td>PAP/DRMS/032035720</td>\n",
       "      <td>True</td>\n",
       "      <td>False</td>\n",
       "      <td>---</td>\n",
       "      <td>2022-03-24</td>\n",
       "      <td>2022-03-24 13:29:31</td>\n",
       "      <td>kenscoff</td>\n",
       "      <td>ouest</td>\n",
       "      <td>1</td>\n",
       "      <td>---</td>\n",
       "      <td>---</td>\n",
       "      <td>dreams</td>\n",
       "    </tr>\n",
       "    <tr>\n",
       "      <th>2</th>\n",
       "      <td>59e20aff-8473-4de8-9e1d-c42346919b07</td>\n",
       "      <td>PAP/DRMS/186270612</td>\n",
       "      <td>True</td>\n",
       "      <td>False</td>\n",
       "      <td>---</td>\n",
       "      <td>2022-03-24</td>\n",
       "      <td>2022-03-24 13:34:45</td>\n",
       "      <td>kenscoff</td>\n",
       "      <td>ouest</td>\n",
       "      <td>1</td>\n",
       "      <td>---</td>\n",
       "      <td>---</td>\n",
       "      <td>dreams</td>\n",
       "    </tr>\n",
       "    <tr>\n",
       "      <th>3</th>\n",
       "      <td>281c998a-42d6-4f05-80e7-ccdfacfce4ed</td>\n",
       "      <td>PAP/DRMS/032185411</td>\n",
       "      <td>True</td>\n",
       "      <td>False</td>\n",
       "      <td>---</td>\n",
       "      <td>2022-03-24</td>\n",
       "      <td>2022-03-24 13:39:55</td>\n",
       "      <td>kenscoff</td>\n",
       "      <td>ouest</td>\n",
       "      <td>1</td>\n",
       "      <td>---</td>\n",
       "      <td>---</td>\n",
       "      <td>dreams</td>\n",
       "    </tr>\n",
       "    <tr>\n",
       "      <th>4</th>\n",
       "      <td>ba6f08b2-5471-48d5-a4b9-132d1e6bed18</td>\n",
       "      <td>PAP/DRMS/014332901</td>\n",
       "      <td>True</td>\n",
       "      <td>False</td>\n",
       "      <td>---</td>\n",
       "      <td>2022-03-24</td>\n",
       "      <td>2022-03-24 13:52:27</td>\n",
       "      <td>kenscoff</td>\n",
       "      <td>ouest</td>\n",
       "      <td>1</td>\n",
       "      <td>---</td>\n",
       "      <td>---</td>\n",
       "      <td>dreams</td>\n",
       "    </tr>\n",
       "    <tr>\n",
       "      <th>...</th>\n",
       "      <td>...</td>\n",
       "      <td>...</td>\n",
       "      <td>...</td>\n",
       "      <td>...</td>\n",
       "      <td>...</td>\n",
       "      <td>...</td>\n",
       "      <td>...</td>\n",
       "      <td>...</td>\n",
       "      <td>...</td>\n",
       "      <td>...</td>\n",
       "      <td>...</td>\n",
       "      <td>...</td>\n",
       "      <td>...</td>\n",
       "    </tr>\n",
       "    <tr>\n",
       "      <th>93</th>\n",
       "      <td>fde86942-e7c0-4101-94fe-70696007df48</td>\n",
       "      <td>GON/DRMS/061297102</td>\n",
       "      <td>True</td>\n",
       "      <td>False</td>\n",
       "      <td>---</td>\n",
       "      <td>2022-03-11</td>\n",
       "      <td>2022-03-26 21:48:03</td>\n",
       "      <td>Liancourt</td>\n",
       "      <td>artibonite</td>\n",
       "      <td>1</td>\n",
       "      <td>2022-03-25</td>\n",
       "      <td>19.1163206 -72.5315407 59.0 6.23</td>\n",
       "      <td>dreams</td>\n",
       "    </tr>\n",
       "    <tr>\n",
       "      <th>120</th>\n",
       "      <td>361cf74c-6dc1-460c-8e0f-10b9ca38bccd</td>\n",
       "      <td>GON/DRMS/059195612</td>\n",
       "      <td>True</td>\n",
       "      <td>False</td>\n",
       "      <td>---</td>\n",
       "      <td>2022-03-10</td>\n",
       "      <td>2022-03-26 18:26:19</td>\n",
       "      <td>Liancourt</td>\n",
       "      <td>artibonite</td>\n",
       "      <td>1</td>\n",
       "      <td>2022-03-25</td>\n",
       "      <td>19.1157105 -72.5346552 37.0 13.93</td>\n",
       "      <td>dreams</td>\n",
       "    </tr>\n",
       "    <tr>\n",
       "      <th>121</th>\n",
       "      <td>cd399948-40c1-4c65-a3ac-8dce45d7de45</td>\n",
       "      <td>GON/DRMS/061242401</td>\n",
       "      <td>True</td>\n",
       "      <td>False</td>\n",
       "      <td>---</td>\n",
       "      <td>2022-03-10</td>\n",
       "      <td>2022-04-01 15:12:32</td>\n",
       "      <td>Liancourt</td>\n",
       "      <td>artibonite</td>\n",
       "      <td>1</td>\n",
       "      <td>2022-03-16</td>\n",
       "      <td>19.1195096 -72.5239807 5.0 4.09</td>\n",
       "      <td>dreams</td>\n",
       "    </tr>\n",
       "    <tr>\n",
       "      <th>122</th>\n",
       "      <td>5f184cc7-1838-4bf2-adef-e1855b89c328</td>\n",
       "      <td>GON/DRMS/061195506</td>\n",
       "      <td>True</td>\n",
       "      <td>False</td>\n",
       "      <td>---</td>\n",
       "      <td>2022-03-10</td>\n",
       "      <td>2022-03-23 17:23:47</td>\n",
       "      <td>Liancourt</td>\n",
       "      <td>artibonite</td>\n",
       "      <td>1</td>\n",
       "      <td>---</td>\n",
       "      <td>---</td>\n",
       "      <td>dreams</td>\n",
       "    </tr>\n",
       "    <tr>\n",
       "      <th>123</th>\n",
       "      <td>7be3f2b7-313f-44f8-90f7-0b85c672f807</td>\n",
       "      <td>GON/DRMS/061157013</td>\n",
       "      <td>True</td>\n",
       "      <td>False</td>\n",
       "      <td>---</td>\n",
       "      <td>2022-03-10</td>\n",
       "      <td>2022-04-01 14:44:30</td>\n",
       "      <td>Liancourt</td>\n",
       "      <td>artibonite</td>\n",
       "      <td>1</td>\n",
       "      <td>2022-03-16</td>\n",
       "      <td>19.1197949 -72.5237202 15.0 5.16</td>\n",
       "      <td>dreams</td>\n",
       "    </tr>\n",
       "  </tbody>\n",
       "</table>\n",
       "<p>82 rows × 13 columns</p>\n",
       "</div>"
      ],
      "text/plain": [
       "                             info.case_id         code_dreams  code  closed  \\\n",
       "0    cb3b1227-3f2f-4a3e-b8c4-3fa790f71755  PAP/DRMS/143179206  True   False   \n",
       "1    e7019a38-ea7f-40fe-99cc-06e76880e957  PAP/DRMS/032035720  True   False   \n",
       "2    59e20aff-8473-4de8-9e1d-c42346919b07  PAP/DRMS/186270612  True   False   \n",
       "3    281c998a-42d6-4f05-80e7-ccdfacfce4ed  PAP/DRMS/032185411  True   False   \n",
       "4    ba6f08b2-5471-48d5-a4b9-132d1e6bed18  PAP/DRMS/014332901  True   False   \n",
       "..                                    ...                 ...   ...     ...   \n",
       "93   fde86942-e7c0-4101-94fe-70696007df48  GON/DRMS/061297102  True   False   \n",
       "120  361cf74c-6dc1-460c-8e0f-10b9ca38bccd  GON/DRMS/059195612  True   False   \n",
       "121  cd399948-40c1-4c65-a3ac-8dce45d7de45  GON/DRMS/061242401  True   False   \n",
       "122  5f184cc7-1838-4bf2-adef-e1855b89c328  GON/DRMS/061195506  True   False   \n",
       "123  7be3f2b7-313f-44f8-90f7-0b85c672f807  GON/DRMS/061157013  True   False   \n",
       "\n",
       "    closed_date  start_date info.last_modified_date address_commune  \\\n",
       "0           ---  2022-03-24     2022-03-29 17:20:32        kenscoff   \n",
       "1           ---  2022-03-24     2022-03-24 13:29:31        kenscoff   \n",
       "2           ---  2022-03-24     2022-03-24 13:34:45        kenscoff   \n",
       "3           ---  2022-03-24     2022-03-24 13:39:55        kenscoff   \n",
       "4           ---  2022-03-24     2022-03-24 13:52:27        kenscoff   \n",
       "..          ...         ...                     ...             ...   \n",
       "93          ---  2022-03-11     2022-03-26 21:48:03       Liancourt   \n",
       "120         ---  2022-03-10     2022-03-26 18:26:19       Liancourt   \n",
       "121         ---  2022-03-10     2022-04-01 15:12:32       Liancourt   \n",
       "122         ---  2022-03-10     2022-03-23 17:23:47       Liancourt   \n",
       "123         ---  2022-03-10     2022-04-01 14:44:30       Liancourt   \n",
       "\n",
       "    address_department  cycle_number cycle_1_start_date  \\\n",
       "0                ouest             1         2022-03-29   \n",
       "1                ouest             1                ---   \n",
       "2                ouest             1                ---   \n",
       "3                ouest             1                ---   \n",
       "4                ouest             1                ---   \n",
       "..                 ...           ...                ...   \n",
       "93          artibonite             1         2022-03-25   \n",
       "120         artibonite             1         2022-03-25   \n",
       "121         artibonite             1         2022-03-16   \n",
       "122         artibonite             1                ---   \n",
       "123         artibonite             1         2022-03-16   \n",
       "\n",
       "                                     gps beneficiary_type  \n",
       "0    18.4576377 -72.2754508 1186.41 5.36           dreams  \n",
       "1                                    ---           dreams  \n",
       "2                                    ---           dreams  \n",
       "3                                    ---           dreams  \n",
       "4                                    ---           dreams  \n",
       "..                                   ...              ...  \n",
       "93      19.1163206 -72.5315407 59.0 6.23           dreams  \n",
       "120    19.1157105 -72.5346552 37.0 13.93           dreams  \n",
       "121      19.1195096 -72.5239807 5.0 4.09           dreams  \n",
       "122                                  ---           dreams  \n",
       "123     19.1197949 -72.5237202 15.0 5.16           dreams  \n",
       "\n",
       "[82 rows x 13 columns]"
      ]
     },
     "execution_count": 5,
     "metadata": {},
     "output_type": "execute_result"
    }
   ],
   "source": [
    "jardin = jardins_code[\n",
    "    [\n",
    "        'info.case_id',\n",
    "        'code_dreams',\n",
    "        'code',\n",
    "        'closed',\n",
    "        'closed_date',\n",
    "        'start_date',\n",
    "        'info.last_modified_date',\n",
    "        'address_commune',\n",
    "        'address_department',\n",
    "        'cycle_number',\n",
    "        'cycle_1_start_date',\n",
    "        'gps',\n",
    "        'beneficiary_type'\n",
    "    ]\n",
    "]\n",
    "jardin"
   ]
  },
  {
   "cell_type": "code",
   "execution_count": 6,
   "metadata": {},
   "outputs": [],
   "source": [
    "jardin_clean = jardin.drop_duplicates(subset=['code_dreams'])"
   ]
  },
  {
   "cell_type": "code",
   "execution_count": 7,
   "metadata": {},
   "outputs": [
    {
     "data": {
      "text/plain": [
       "80"
      ]
     },
     "execution_count": 7,
     "metadata": {},
     "output_type": "execute_result"
    }
   ],
   "source": [
    "jardin_clean.code.count()"
   ]
  },
  {
   "cell_type": "code",
   "execution_count": null,
   "metadata": {},
   "outputs": [],
   "source": []
  }
 ],
 "metadata": {
  "interpreter": {
   "hash": "b460384b52104c1e5b9cf54bee46a255d22b2bef338f75ac4ad5d48196028d3c"
  },
  "kernelspec": {
   "display_name": "Python 3.10.2 64-bit",
   "language": "python",
   "name": "python3"
  },
  "language_info": {
   "codemirror_mode": {
    "name": "ipython",
    "version": 3
   },
   "file_extension": ".py",
   "mimetype": "text/x-python",
   "name": "python",
   "nbconvert_exporter": "python",
   "pygments_lexer": "ipython3",
   "version": "3.10.2"
  },
  "orig_nbformat": 4
 },
 "nbformat": 4,
 "nbformat_minor": 2
}
