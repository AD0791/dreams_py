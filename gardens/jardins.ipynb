{
 "cells": [
  {
   "cell_type": "code",
   "execution_count": 1,
   "metadata": {},
   "outputs": [],
   "source": [
    "%%capture\n",
    "\n",
    "from IPython.core.interactiveshell import InteractiveShell\n",
    "InteractiveShell.ast_node_interactivity = \"all\"\n",
    "\n",
    "\n",
    "\n",
    "from core import GARDENING_SERVED\n",
    "from jardins import gbd, sdata\n",
    "\n"
   ]
  },
  {
   "cell_type": "code",
   "execution_count": 2,
   "metadata": {},
   "outputs": [
    {
     "data": {
      "text/plain": [
       "851"
      ]
     },
     "execution_count": 2,
     "metadata": {},
     "output_type": "execute_result"
    },
    {
     "data": {
      "text/plain": [
       "1984"
      ]
     },
     "execution_count": 2,
     "metadata": {},
     "output_type": "execute_result"
    },
    {
     "data": {
      "text/plain": [
       "57178"
      ]
     },
     "execution_count": 2,
     "metadata": {},
     "output_type": "execute_result"
    }
   ],
   "source": [
    "GARDENING_SERVED.id_patient.count()\n",
    "gbd.case_id.count()\n",
    "sdata.case_id.count()"
   ]
  },
  {
   "cell_type": "code",
   "execution_count": 7,
   "metadata": {},
   "outputs": [
    {
     "data": {
      "text/plain": [
       "GON/DRMS/060228920    1\n",
       "GIN/DRMS/049163802    1\n",
       "GON/DRMS/049146402    1\n",
       "GON/DRMS/095112817    1\n",
       "GON/DRMS/075198144    1\n",
       "                     ..\n",
       "GON/DRMS/059195609    1\n",
       "GON/DRMS/061196003    1\n",
       "GON/DRMS/049149104    1\n",
       "GON/DRMS/O65143518    1\n",
       "GON/DRMS/121138103    1\n",
       "Name: code_dreams, Length: 1061, dtype: int64"
      ]
     },
     "execution_count": 7,
     "metadata": {},
     "output_type": "execute_result"
    }
   ],
   "source": [
    "gbd.code_dreams.value_counts()"
   ]
  },
  {
   "cell_type": "code",
   "execution_count": 6,
   "metadata": {},
   "outputs": [
    {
     "data": {
      "text/plain": [
       "1061"
      ]
     },
     "execution_count": 6,
     "metadata": {},
     "output_type": "execute_result"
    }
   ],
   "source": [
    "gbd = gbd[gbd.code_dreams !=\"---\"]\n",
    "gbd = gbd.drop_duplicates(subset=['code_dreams'])\n",
    "gbd.case_id.count()"
   ]
  },
  {
   "cell_type": "code",
   "execution_count": 8,
   "metadata": {},
   "outputs": [
    {
     "data": {
      "text/plain": [
       "True     901\n",
       "False    160\n",
       "Name: is_code_valid, dtype: int64"
      ]
     },
     "execution_count": 8,
     "metadata": {},
     "output_type": "execute_result"
    }
   ],
   "source": [
    "GBD = gbd[['case_id','code_dreams','is_code_valid']]\n",
    "GBD.is_code_valid.value_counts()"
   ]
  },
  {
   "cell_type": "code",
   "execution_count": 9,
   "metadata": {},
   "outputs": [
    {
     "data": {
      "text/plain": [
       "160"
      ]
     },
     "execution_count": 9,
     "metadata": {},
     "output_type": "execute_result"
    },
    {
     "data": {
      "text/plain": [
       "901"
      ]
     },
     "execution_count": 9,
     "metadata": {},
     "output_type": "execute_result"
    }
   ],
   "source": [
    "BC = GBD[GBD.is_code_valid==False]\n",
    "GC = GBD[GBD.is_code_valid==True]\n",
    "\n",
    "BC.case_id.count()\n",
    "GC.case_id.count()"
   ]
  },
  {
   "cell_type": "markdown",
   "metadata": {},
   "source": [
    "# next steps"
   ]
  },
  {
   "cell_type": "code",
   "execution_count": 11,
   "metadata": {},
   "outputs": [],
   "source": [
    "GARDENING_SERVED = GARDENING_SERVED[['id_patient']]"
   ]
  },
  {
   "cell_type": "code",
   "execution_count": 22,
   "metadata": {},
   "outputs": [],
   "source": [
    "sdata.id_patient.fillna(0,inplace=True)"
   ]
  },
  {
   "cell_type": "code",
   "execution_count": 25,
   "metadata": {},
   "outputs": [],
   "source": [
    "GS_CODE = sdata.merge(GARDENING_SERVED,how=\"right\",on=\"id_patient\")"
   ]
  },
  {
   "cell_type": "code",
   "execution_count": 26,
   "metadata": {},
   "outputs": [
    {
     "name": "stderr",
     "output_type": "stream",
     "text": [
      "/var/folders/7v/rs0k237d6nj3vdxfc1h7xtcw0000gn/T/ipykernel_7079/2812652484.py:1: SettingWithCopyWarning: \n",
      "A value is trying to be set on a copy of a slice from a DataFrame\n",
      "\n",
      "See the caveats in the documentation: https://pandas.pydata.org/pandas-docs/stable/user_guide/indexing.html#returning-a-view-versus-a-copy\n",
      "  GC.rename(columns={'code_dreams':\"code\"}, inplace= True)\n"
     ]
    }
   ],
   "source": [
    "GC.rename(columns={'code_dreams':\"code\"}, inplace= True)"
   ]
  },
  {
   "cell_type": "code",
   "execution_count": 28,
   "metadata": {},
   "outputs": [],
   "source": [
    "GC = GC[['code']]"
   ]
  },
  {
   "cell_type": "code",
   "execution_count": 32,
   "metadata": {},
   "outputs": [
    {
     "data": {
      "text/html": [
       "<div>\n",
       "<style scoped>\n",
       "    .dataframe tbody tr th:only-of-type {\n",
       "        vertical-align: middle;\n",
       "    }\n",
       "\n",
       "    .dataframe tbody tr th {\n",
       "        vertical-align: top;\n",
       "    }\n",
       "\n",
       "    .dataframe thead th {\n",
       "        text-align: right;\n",
       "    }\n",
       "</style>\n",
       "<table border=\"1\" class=\"dataframe\">\n",
       "  <thead>\n",
       "    <tr style=\"text-align: right;\">\n",
       "      <th></th>\n",
       "      <th>code</th>\n",
       "      <th>case_id</th>\n",
       "      <th>id_patient</th>\n",
       "      <th>first_name</th>\n",
       "      <th>last_name</th>\n",
       "      <th>age</th>\n",
       "      <th>dob</th>\n",
       "      <th>interview_date</th>\n",
       "      <th>e__telefn</th>\n",
       "      <th>adress</th>\n",
       "      <th>...</th>\n",
       "      <th>interviewer_lastname</th>\n",
       "      <th>interviewer_role</th>\n",
       "      <th>interviewer_other_info</th>\n",
       "      <th>interview_location</th>\n",
       "      <th>is_your_parent_alive</th>\n",
       "      <th>mothers_name</th>\n",
       "      <th>fathers_name</th>\n",
       "      <th>who_is_your_law_parent</th>\n",
       "      <th>total</th>\n",
       "      <th>organisation</th>\n",
       "    </tr>\n",
       "  </thead>\n",
       "  <tbody>\n",
       "    <tr>\n",
       "      <th>0</th>\n",
       "      <td>CAP/DRMS/100071305</td>\n",
       "      <td>b0395aff-3bea-4eeb-b0df-5cefecbebd42</td>\n",
       "      <td>75394</td>\n",
       "      <td>Hershline</td>\n",
       "      <td>Docteur</td>\n",
       "      <td>16.0</td>\n",
       "      <td>2005-10-02</td>\n",
       "      <td>2020-06-04</td>\n",
       "      <td>41836825</td>\n",
       "      <td>lory</td>\n",
       "      <td>...</td>\n",
       "      <td>Saintilias</td>\n",
       "      <td>travay_sosyal_sikolg</td>\n",
       "      <td>None</td>\n",
       "      <td>lory</td>\n",
       "      <td>4.0</td>\n",
       "      <td>None</td>\n",
       "      <td>None</td>\n",
       "      <td>Rosilia Vincent</td>\n",
       "      <td>41.0</td>\n",
       "      <td>CARIS</td>\n",
       "    </tr>\n",
       "    <tr>\n",
       "      <th>1</th>\n",
       "      <td>CAP/DRMS/100071306</td>\n",
       "      <td>5ba07855-8aab-4cc9-8414-b82eb1cf5005</td>\n",
       "      <td>75395</td>\n",
       "      <td>stecie</td>\n",
       "      <td>Ambroise</td>\n",
       "      <td>19.0</td>\n",
       "      <td>2003-07-02</td>\n",
       "      <td>2020-06-04</td>\n",
       "      <td>43371952</td>\n",
       "      <td>lory</td>\n",
       "      <td>...</td>\n",
       "      <td>Saintilias</td>\n",
       "      <td>travay_sosyal_sikolg</td>\n",
       "      <td>None</td>\n",
       "      <td>lory</td>\n",
       "      <td>2.0</td>\n",
       "      <td>alène Ambroise</td>\n",
       "      <td></td>\n",
       "      <td>manman</td>\n",
       "      <td>31.0</td>\n",
       "      <td>CARIS</td>\n",
       "    </tr>\n",
       "    <tr>\n",
       "      <th>2</th>\n",
       "      <td>CAP/DRMS/104074502</td>\n",
       "      <td>4c27b463-9067-40b7-b99c-8758982d2673</td>\n",
       "      <td>75528</td>\n",
       "      <td>Jessenia</td>\n",
       "      <td>Cadet</td>\n",
       "      <td>20.0</td>\n",
       "      <td>2002-05-12</td>\n",
       "      <td>2020-06-25</td>\n",
       "      <td>32907848</td>\n",
       "      <td>Cite Blue H</td>\n",
       "      <td>...</td>\n",
       "      <td>Cepoudy</td>\n",
       "      <td>mentor</td>\n",
       "      <td>None</td>\n",
       "      <td>Blue H</td>\n",
       "      <td>2.0</td>\n",
       "      <td>Ilienne Siliac</td>\n",
       "      <td></td>\n",
       "      <td></td>\n",
       "      <td>46.0</td>\n",
       "      <td>CARIS</td>\n",
       "    </tr>\n",
       "    <tr>\n",
       "      <th>3</th>\n",
       "      <td>GON/DRMS/047068503</td>\n",
       "      <td>c9fe6c66-7a3e-4d6b-9ae7-b5d166264389</td>\n",
       "      <td>75987</td>\n",
       "      <td>Marielise</td>\n",
       "      <td>Jean Marie</td>\n",
       "      <td>19.0</td>\n",
       "      <td>2002-10-17</td>\n",
       "      <td>2020-07-13</td>\n",
       "      <td>34982901</td>\n",
       "      <td>Nalaplas</td>\n",
       "      <td>...</td>\n",
       "      <td>Previlus</td>\n",
       "      <td>mentor</td>\n",
       "      <td>None</td>\n",
       "      <td>nalaplas</td>\n",
       "      <td>0.0</td>\n",
       "      <td>Marie Claude Lebrain</td>\n",
       "      <td>Jean Marie Felixema</td>\n",
       "      <td>Paran</td>\n",
       "      <td>38.0</td>\n",
       "      <td>CARIS</td>\n",
       "    </tr>\n",
       "    <tr>\n",
       "      <th>4</th>\n",
       "      <td>GON/DRMS/059061002</td>\n",
       "      <td>d65a9a7c-eab0-4b5d-8e95-17aea2c144bc</td>\n",
       "      <td>75964</td>\n",
       "      <td>Marie Flore</td>\n",
       "      <td>DORENVIL</td>\n",
       "      <td>22.0</td>\n",
       "      <td>1999-08-17</td>\n",
       "      <td>2020-07-01</td>\n",
       "      <td></td>\n",
       "      <td>belanger</td>\n",
       "      <td>...</td>\n",
       "      <td>Saget</td>\n",
       "      <td>mentor</td>\n",
       "      <td>None</td>\n",
       "      <td>belanger</td>\n",
       "      <td>2.0</td>\n",
       "      <td>Josette Cerat</td>\n",
       "      <td></td>\n",
       "      <td></td>\n",
       "      <td>25.0</td>\n",
       "      <td>CARIS</td>\n",
       "    </tr>\n",
       "    <tr>\n",
       "      <th>...</th>\n",
       "      <td>...</td>\n",
       "      <td>...</td>\n",
       "      <td>...</td>\n",
       "      <td>...</td>\n",
       "      <td>...</td>\n",
       "      <td>...</td>\n",
       "      <td>...</td>\n",
       "      <td>...</td>\n",
       "      <td>...</td>\n",
       "      <td>...</td>\n",
       "      <td>...</td>\n",
       "      <td>...</td>\n",
       "      <td>...</td>\n",
       "      <td>...</td>\n",
       "      <td>...</td>\n",
       "      <td>...</td>\n",
       "      <td>...</td>\n",
       "      <td>...</td>\n",
       "      <td>...</td>\n",
       "      <td>...</td>\n",
       "      <td>...</td>\n",
       "    </tr>\n",
       "    <tr>\n",
       "      <th>846</th>\n",
       "      <td>CAP/DRMS/147182214</td>\n",
       "      <td>eccc803d-9d5a-405b-b703-4f54667ee966</td>\n",
       "      <td>101428</td>\n",
       "      <td>Windernie</td>\n",
       "      <td>Benjamin</td>\n",
       "      <td>17.0</td>\n",
       "      <td>2005-07-15</td>\n",
       "      <td>2020-08-06</td>\n",
       "      <td>38487341</td>\n",
       "      <td></td>\n",
       "      <td>...</td>\n",
       "      <td>Martin</td>\n",
       "      <td>mentor</td>\n",
       "      <td>None</td>\n",
       "      <td>Lory</td>\n",
       "      <td>2.0</td>\n",
       "      <td>Philorose  Saintilma</td>\n",
       "      <td></td>\n",
       "      <td>Philorose  Saintilma</td>\n",
       "      <td>18.0</td>\n",
       "      <td>CARIS</td>\n",
       "    </tr>\n",
       "    <tr>\n",
       "      <th>847</th>\n",
       "      <td>GON/DRMS/065213931</td>\n",
       "      <td>7ff8bc9b-fcd1-4369-b736-e0397e975088</td>\n",
       "      <td>104847</td>\n",
       "      <td>Dachca</td>\n",
       "      <td>Falaise</td>\n",
       "      <td>17.0</td>\n",
       "      <td>2004-09-25</td>\n",
       "      <td>2020-07-14</td>\n",
       "      <td>44006860</td>\n",
       "      <td>diklo</td>\n",
       "      <td>...</td>\n",
       "      <td>Gessé</td>\n",
       "      <td>mentor</td>\n",
       "      <td>None</td>\n",
       "      <td>Ekòl natyonal</td>\n",
       "      <td>0.0</td>\n",
       "      <td>Dila Larose</td>\n",
       "      <td>Willior Falaise</td>\n",
       "      <td>Dila Larose</td>\n",
       "      <td>25.0</td>\n",
       "      <td>CARIS</td>\n",
       "    </tr>\n",
       "    <tr>\n",
       "      <th>848</th>\n",
       "      <td>CAP/DRMS/163221903</td>\n",
       "      <td>a7b79147-7d38-4f4e-89eb-2ec00e9bfd37</td>\n",
       "      <td>105142</td>\n",
       "      <td>Lufranska</td>\n",
       "      <td>Régis</td>\n",
       "      <td>16.0</td>\n",
       "      <td>2006-01-01</td>\n",
       "      <td>2020-07-15</td>\n",
       "      <td>36492528</td>\n",
       "      <td>Fort St Michel</td>\n",
       "      <td>...</td>\n",
       "      <td>Bycinthe</td>\n",
       "      <td>mentor</td>\n",
       "      <td>None</td>\n",
       "      <td>Fort stMichel</td>\n",
       "      <td>0.0</td>\n",
       "      <td>Luciana Vixamar</td>\n",
       "      <td>Frandy Regis</td>\n",
       "      <td></td>\n",
       "      <td>18.0</td>\n",
       "      <td>CARIS</td>\n",
       "    </tr>\n",
       "    <tr>\n",
       "      <th>849</th>\n",
       "      <td>CAP/DRMS/105072904</td>\n",
       "      <td>02744f92-c7bb-49b9-b270-72f05ace53b6</td>\n",
       "      <td>105158</td>\n",
       "      <td>Sonise</td>\n",
       "      <td>Dorelus</td>\n",
       "      <td>14.0</td>\n",
       "      <td>2007-10-03</td>\n",
       "      <td>2020-07-22</td>\n",
       "      <td>40395729</td>\n",
       "      <td>Fort St Michel</td>\n",
       "      <td>...</td>\n",
       "      <td>Bycinthe</td>\n",
       "      <td>mentor</td>\n",
       "      <td>None</td>\n",
       "      <td>Fort St Michel</td>\n",
       "      <td>2.0</td>\n",
       "      <td>Dieula Francois</td>\n",
       "      <td></td>\n",
       "      <td></td>\n",
       "      <td>23.0</td>\n",
       "      <td>CARIS</td>\n",
       "    </tr>\n",
       "    <tr>\n",
       "      <th>850</th>\n",
       "      <td>CAP/DRMS/151201110</td>\n",
       "      <td>ecea031d-4fe0-451e-83d7-929f726b4508</td>\n",
       "      <td>105341</td>\n",
       "      <td>Loudridge</td>\n",
       "      <td>Etienne</td>\n",
       "      <td>20.0</td>\n",
       "      <td>2002-01-18</td>\n",
       "      <td>2020-07-22</td>\n",
       "      <td>41302356</td>\n",
       "      <td>Nan Beli</td>\n",
       "      <td>...</td>\n",
       "      <td>Lucien</td>\n",
       "      <td>mentor</td>\n",
       "      <td>None</td>\n",
       "      <td>Lory</td>\n",
       "      <td>2.0</td>\n",
       "      <td>Celia Previlus</td>\n",
       "      <td></td>\n",
       "      <td>Celia Previlus</td>\n",
       "      <td>21.0</td>\n",
       "      <td>CARIS</td>\n",
       "    </tr>\n",
       "  </tbody>\n",
       "</table>\n",
       "<p>851 rows × 30 columns</p>\n",
       "</div>"
      ],
      "text/plain": [
       "                   code                               case_id  id_patient  \\\n",
       "0    CAP/DRMS/100071305  b0395aff-3bea-4eeb-b0df-5cefecbebd42       75394   \n",
       "1    CAP/DRMS/100071306  5ba07855-8aab-4cc9-8414-b82eb1cf5005       75395   \n",
       "2    CAP/DRMS/104074502  4c27b463-9067-40b7-b99c-8758982d2673       75528   \n",
       "3    GON/DRMS/047068503  c9fe6c66-7a3e-4d6b-9ae7-b5d166264389       75987   \n",
       "4    GON/DRMS/059061002  d65a9a7c-eab0-4b5d-8e95-17aea2c144bc       75964   \n",
       "..                  ...                                   ...         ...   \n",
       "846  CAP/DRMS/147182214  eccc803d-9d5a-405b-b703-4f54667ee966      101428   \n",
       "847  GON/DRMS/065213931  7ff8bc9b-fcd1-4369-b736-e0397e975088      104847   \n",
       "848  CAP/DRMS/163221903  a7b79147-7d38-4f4e-89eb-2ec00e9bfd37      105142   \n",
       "849  CAP/DRMS/105072904  02744f92-c7bb-49b9-b270-72f05ace53b6      105158   \n",
       "850  CAP/DRMS/151201110  ecea031d-4fe0-451e-83d7-929f726b4508      105341   \n",
       "\n",
       "      first_name   last_name   age         dob interview_date e__telefn  \\\n",
       "0      Hershline     Docteur  16.0  2005-10-02     2020-06-04  41836825   \n",
       "1         stecie    Ambroise  19.0  2003-07-02     2020-06-04  43371952   \n",
       "2       Jessenia       Cadet  20.0  2002-05-12     2020-06-25  32907848   \n",
       "3      Marielise  Jean Marie  19.0  2002-10-17     2020-07-13  34982901   \n",
       "4    Marie Flore    DORENVIL  22.0  1999-08-17     2020-07-01             \n",
       "..           ...         ...   ...         ...            ...       ...   \n",
       "846    Windernie    Benjamin  17.0  2005-07-15     2020-08-06  38487341   \n",
       "847       Dachca     Falaise  17.0  2004-09-25     2020-07-14  44006860   \n",
       "848    Lufranska       Régis  16.0  2006-01-01     2020-07-15  36492528   \n",
       "849       Sonise     Dorelus  14.0  2007-10-03     2020-07-22  40395729   \n",
       "850    Loudridge     Etienne  20.0  2002-01-18     2020-07-22  41302356   \n",
       "\n",
       "             adress  ... interviewer_lastname      interviewer_role  \\\n",
       "0              lory  ...           Saintilias  travay_sosyal_sikolg   \n",
       "1              lory  ...           Saintilias  travay_sosyal_sikolg   \n",
       "2       Cite Blue H  ...              Cepoudy                mentor   \n",
       "3          Nalaplas  ...             Previlus                mentor   \n",
       "4          belanger  ...                Saget                mentor   \n",
       "..              ...  ...                  ...                   ...   \n",
       "846                  ...               Martin                mentor   \n",
       "847           diklo  ...                Gessé                mentor   \n",
       "848  Fort St Michel  ...             Bycinthe                mentor   \n",
       "849  Fort St Michel  ...             Bycinthe                mentor   \n",
       "850        Nan Beli  ...               Lucien                mentor   \n",
       "\n",
       "    interviewer_other_info  interview_location is_your_parent_alive  \\\n",
       "0                     None                lory                  4.0   \n",
       "1                     None                lory                  2.0   \n",
       "2                     None              Blue H                  2.0   \n",
       "3                     None            nalaplas                  0.0   \n",
       "4                     None            belanger                  2.0   \n",
       "..                     ...                 ...                  ...   \n",
       "846                   None                Lory                  2.0   \n",
       "847                   None       Ekòl natyonal                  0.0   \n",
       "848                   None       Fort stMichel                  0.0   \n",
       "849                   None      Fort St Michel                  2.0   \n",
       "850                   None                Lory                  2.0   \n",
       "\n",
       "             mothers_name         fathers_name who_is_your_law_parent total  \\\n",
       "0                    None                 None        Rosilia Vincent  41.0   \n",
       "1          alène Ambroise                                      manman  31.0   \n",
       "2          Ilienne Siliac                                              46.0   \n",
       "3    Marie Claude Lebrain  Jean Marie Felixema                  Paran  38.0   \n",
       "4           Josette Cerat                                              25.0   \n",
       "..                    ...                  ...                    ...   ...   \n",
       "846  Philorose  Saintilma                        Philorose  Saintilma  18.0   \n",
       "847           Dila Larose      Willior Falaise            Dila Larose  25.0   \n",
       "848       Luciana Vixamar         Frandy Regis                         18.0   \n",
       "849       Dieula Francois                                              23.0   \n",
       "850        Celia Previlus                              Celia Previlus  21.0   \n",
       "\n",
       "    organisation  \n",
       "0          CARIS  \n",
       "1          CARIS  \n",
       "2          CARIS  \n",
       "3          CARIS  \n",
       "4          CARIS  \n",
       "..           ...  \n",
       "846        CARIS  \n",
       "847        CARIS  \n",
       "848        CARIS  \n",
       "849        CARIS  \n",
       "850        CARIS  \n",
       "\n",
       "[851 rows x 30 columns]"
      ]
     },
     "execution_count": 32,
     "metadata": {},
     "output_type": "execute_result"
    }
   ],
   "source": [
    "GC.merge(GS_CODE,how='right',on='code')"
   ]
  },
  {
   "cell_type": "code",
   "execution_count": null,
   "metadata": {},
   "outputs": [],
   "source": []
  }
 ],
 "metadata": {
  "kernelspec": {
   "display_name": "Python 3.10.4 64-bit",
   "language": "python",
   "name": "python3"
  },
  "language_info": {
   "codemirror_mode": {
    "name": "ipython",
    "version": 3
   },
   "file_extension": ".py",
   "mimetype": "text/x-python",
   "name": "python",
   "nbconvert_exporter": "python",
   "pygments_lexer": "ipython3",
   "version": "3.10.4"
  },
  "orig_nbformat": 4,
  "vscode": {
   "interpreter": {
    "hash": "b460384b52104c1e5b9cf54bee46a255d22b2bef338f75ac4ad5d48196028d3c"
   }
  }
 },
 "nbformat": 4,
 "nbformat_minor": 2
}
