{
 "cells": [
  {
   "cell_type": "code",
   "execution_count": 1,
   "metadata": {},
   "outputs": [],
   "source": [
    "%%capture\n",
    "from active import actif_served\n",
    "from numpy import int16\n",
    "from IPython.core.interactiveshell import InteractiveShell\n",
    "InteractiveShell.ast_node_interactivity = \"all\""
   ]
  },
  {
   "cell_type": "code",
   "execution_count": 2,
   "metadata": {},
   "outputs": [
    {
     "data": {
      "text/plain": [
       "13175"
      ]
     },
     "execution_count": 2,
     "metadata": {},
     "output_type": "execute_result"
    }
   ],
   "source": [
    "actif_served.id_patient.count()"
   ]
  },
  {
   "cell_type": "code",
   "execution_count": 3,
   "metadata": {},
   "outputs": [
    {
     "data": {
      "text/plain": [
       "Index(['id_patient', 'id_parenting_group', 'departement', 'commune',\n",
       "       'nbre_pres_for_inter', 'nbre_parenting_coupe_present',\n",
       "       'has_comdom_topic', 'has_preventive_vbg',\n",
       "       'number_of_condoms_sensibilize',\n",
       "       'number_condoms_sensibilization_date_in_the_interval',\n",
       "       'number_condoms_reception_in_the_interval',\n",
       "       'number_hiv_test_awareness_date_in_the_interval', 'type_of_test_vih',\n",
       "       'number_autotest_date_in_the_interval',\n",
       "       'number_test_date_in_the_interval', 'test_results', 'autotest_result',\n",
       "       'number_hiv_treatment_start_date_in_the_interval',\n",
       "       'number_vbg_treatment_date_in_the_interval',\n",
       "       'number_gynecological_care_date_in_the_interval',\n",
       "       'number_prep_awareness_date_in_the_interval',\n",
       "       'number_prep_reference_date_in_the_interval',\n",
       "       'number_prep_initiation_date_in_the_interval',\n",
       "       'number_contraceptive_sensibilization_date_in_the_interval',\n",
       "       'number_contraceptive_reception_in_the_interval', 'age_in_year',\n",
       "       'age_range', 'ovc_age', 'date_interview', 'month_in_program_range',\n",
       "       'muso', 'gardening', 'has_a_service_with_date_in_the_past',\n",
       "       'parenting_detailed', 'parenting', 'curriculum_detailed', 'curriculum',\n",
       "       'condom', 'hts_awareness', 'hts_type_test', 'hts',\n",
       "       'hts_autotest_result', 'hts_test_result', 'hts_treatment_debut', 'vbg',\n",
       "       'gyneco', 'post_violence_care', 'socioeco_app', 'prep_awareness',\n",
       "       'prep_reference', 'prep', 'contraceptive_awareness', 'contraceptive',\n",
       "       'ps_1014', 'ps_1519', 'ps_2024'],\n",
       "      dtype='object')"
      ]
     },
     "execution_count": 3,
     "metadata": {},
     "output_type": "execute_result"
    }
   ],
   "source": [
    "actif_served.columns"
   ]
  },
  {
   "cell_type": "code",
   "execution_count": 4,
   "metadata": {},
   "outputs": [],
   "source": [
    "actif_served.to_excel('test.xlsx',index=False,na_rep=\"\")"
   ]
  },
  {
   "cell_type": "code",
   "execution_count": null,
   "metadata": {},
   "outputs": [],
   "source": []
  }
 ],
 "metadata": {
  "interpreter": {
   "hash": "b460384b52104c1e5b9cf54bee46a255d22b2bef338f75ac4ad5d48196028d3c"
  },
  "kernelspec": {
   "display_name": "Python 3.10.2 64-bit",
   "language": "python",
   "name": "python3"
  },
  "language_info": {
   "codemirror_mode": {
    "name": "ipython",
    "version": 3
   },
   "file_extension": ".py",
   "mimetype": "text/x-python",
   "name": "python",
   "nbconvert_exporter": "python",
   "pygments_lexer": "ipython3",
   "version": "3.10.2"
  },
  "orig_nbformat": 4
 },
 "nbformat": 4,
 "nbformat_minor": 2
}
