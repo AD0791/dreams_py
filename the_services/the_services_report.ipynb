{
 "cells": [
  {
   "cell_type": "markdown",
   "source": [
    "# Cohort - Curriculum - Condoms - HTS "
   ],
   "metadata": {}
  },
  {
   "cell_type": "code",
   "execution_count": 1,
   "source": [
    "%run \"../LOS.ipynb\""
   ],
   "outputs": [],
   "metadata": {}
  },
  {
   "cell_type": "code",
   "execution_count": 2,
   "source": [
    "import matplotlib.pyplot as plt\r\n",
    "%matplotlib inline\r\n",
    "import seaborn as sns\r\n",
    "\r\n",
    "from IPython.core.interactiveshell import InteractiveShell\r\n",
    "InteractiveShell.ast_node_interactivity = \"all\""
   ],
   "outputs": [],
   "metadata": {}
  },
  {
   "cell_type": "code",
   "execution_count": 3,
   "source": [
    "df = dreams_mastersheet"
   ],
   "outputs": [],
   "metadata": {}
  },
  {
   "cell_type": "code",
   "execution_count": 4,
   "source": [
    "pd.set_option(\"max_columns\",None)\r\n",
    "df.head(1)"
   ],
   "outputs": [
    {
     "output_type": "execute_result",
     "data": {
      "text/plain": [
       "   main_id muso_eligibility  actual_id_group group_she_take_sessions  code  \\\n",
       "0        0             no17             1895                    None  None   \n",
       "\n",
       "  last_name first_name   dob   age  number_of_different_topic  \\\n",
       "0      None       None  None -1000                      -1000   \n",
       "\n",
       "  first_session_date last_session_date last_hiv_test_date  \\\n",
       "0         0000-00-00        0000-00-00         0000-00-00   \n",
       "\n",
       "  last_sensibilisation_hiv_test_date acceptation_hiv_test test_results  \\\n",
       "0                         0000-00-00                didnt         None   \n",
       "\n",
       "  test_results_with_label last_condoms_reception_date sensibilisation_condom  \\\n",
       "0                    None                  0000-00-00                  didnt   \n",
       "\n",
       "  acceptation_condom last_vbg_treatment_date last_gynecological_care_date  \\\n",
       "0              didnt              0000-00-00                   0000-00-00   \n",
       "\n",
       "  last_sensibilisation_prep_date last_reference_prep_date  \\\n",
       "0                     0000-00-00               0000-00-00   \n",
       "\n",
       "  last_initiation_prep_date acceptation_prep actual_group_name  \\\n",
       "0                0000-00-00            didnt    Charlemagne 11   \n",
       "\n",
       "                                      actual_hub actual_commune  \\\n",
       "0  Ecole Nationale Charlemagne Peralte/Verrettes      Verrettes   \n",
       "\n",
       "   actual_commune_id actual_departement  actual_departement_id is_muso  \\\n",
       "0                 15         Artibonite                      4      no   \n",
       "\n",
       "  is_gardening  id  id_patient  f_under_1  f_1_4  f_5_9  f_10_14  f_15_17  \\\n",
       "0           no NaN         NaN        NaN    NaN    NaN      NaN      NaN   \n",
       "\n",
       "   f_18_25  f_25  m_under_1  m_1_4  m_5_9  m_10_14  m_15_17  m_18_25  m_25  \\\n",
       "0      NaN   NaN        NaN    NaN    NaN      NaN      NaN      NaN   NaN   \n",
       "\n",
       "   cf_18_24  cf_25  cm_18_24  cm_25 created_at updated_at  created_by  \\\n",
       "0       NaN    NaN       NaN    NaN        NaT       None         NaN   \n",
       "\n",
       "   updated_by     id  number                                formid  \\\n",
       "0         NaN  77516     NaN  282cdbc3-781f-465e-a13b-33c2c133b173   \n",
       "\n",
       "   non_konple_paran        siyen_paran a1_dat_entvyou_a_ft_jjmmaa_egz_010817  \\\n",
       "0  La mise Morantis  1600298364261.jpg                            2020-07-09   \n",
       "\n",
       "  b1_non_moun_mennen_entvyou_a c1_siyati_moun_ki_f_entvyou_a  d1_kad lot_kad  \\\n",
       "0                       Rosena                   St Fleurent  mentor    None   \n",
       "\n",
       "               h_kote_entvyou_a_ft a_non_patisipan_an    b_siyati  \\\n",
       "0  Centre rêve Charlemagne peralte            Metayou  Dorsainvil   \n",
       "\n",
       "  nan_ki_dat_ou_fet  c_laj    d_adrs e__telefn    f_komin g_seksyon_kominal  \\\n",
       "0        2003-12-25     16  Calvaire  32872507  verrettes                     \n",
       "\n",
       "   paran_ou_vivan i_non_manman j_non_papa k_reskonsab_devan_lalwa  \\\n",
       "0               0                                                   \n",
       "\n",
       "  b_gen_yon_granmoun_k_ap_asiste_entvyou_a  \\\n",
       "0                                      non   \n",
       "\n",
       "  c_4_lyen_moun_k_ap_asiste_a_ak_moun_y_ap_kesyone_a  \\\n",
       "0                                               None   \n",
       "\n",
       "   b5_konbyen_fwa_ou_al_dmi_tou_grangou_pandan_kat_dnye_semn_yo  \\\n",
       "0                                                NaN              \n",
       "\n",
       "   a_ske_ou_lekl  tranche_age_6a_15_19 b6_ki_klas_w_ap_f  \\\n",
       "0            NaN                   3.0              None   \n",
       "\n",
       "  b6_Ki_klas_w_ap_fe_listRepons c6_ske_ou_te_oblije_double_deja  \\\n",
       "0                                                          None   \n",
       "\n",
       "  c6b_kils_ki_peye_lekl_ou_10_14 lot_ki_peye  pc6b  \\\n",
       "0                           None        None  None   \n",
       "\n",
       "  c6b_Kiles_ki_peye_lekol_ou_Tranche_15_19 lot_presize_15_19  \\\n",
       "0                                     None              None   \n",
       "\n",
       "  bay_point_pou_lot_la_15-19 c61_depi_ki_l_ou_pa_al_lekl_ank  \\\n",
       "0                       None                                   \n",
       "\n",
       "  c62_ki_dnye_klas_ou_te_fini ki_denye_klas_ou_te_fe_lisrepons  \\\n",
       "0                                                          af7   \n",
       "\n",
       "  a7_ak_kils_w_ap_viv_10_14 presize_parent presize_fanmi presize_granmoune  \\\n",
       "0                      None           None          None              None   \n",
       "\n",
       "  lot_moune_wap_viv bay_pwen_pou_lot_moune_0123 a7_Ak_kiles_w_ap_viv_15_19  \\\n",
       "0              None                        None                          1   \n",
       "\n",
       "  presize_parent_15-19 presize_fanmi_15_17 presize_granmoune_15_17  \\\n",
       "0                                     None                    None   \n",
       "\n",
       "  lot_moune_kap_viv_15_17 bay_pwen_pou_lot_moun_0123  \\\n",
       "0                    None                       None   \n",
       "\n",
       "  a7_Ak_kiles_w_ap_viv_17_18 yon_sel_paran_persize_18_19  \\\n",
       "0                       None                        None   \n",
       "\n",
       "  yon_lot_fanmi_presize_18_19 yon_lot_granmoun_presize_18_19  \\\n",
       "0                        None                           None   \n",
       "\n",
       "  lot_presize_18_19 bay_pwen_pou_lot_moun_0123_-  \\\n",
       "0              None                         None   \n",
       "\n",
       "  b7_ki_lt_moun_k_ap_viv_av_w_10_14 konbyen_zanmi konbyen_fre_e_se  \\\n",
       "0                              None          None             None   \n",
       "\n",
       "  b7_ki_lot_moun_k_ap_viv_ave_w_15_17 konbye_zanmi_15_17  \\\n",
       "0                                None               None   \n",
       "\n",
       "  konbyen_fre_e_se_15_17 b7_ki_lot_moun_kap_viv_ave_w_18_19  \\\n",
       "0                   None                               None   \n",
       "\n",
       "  konbyen_zanmi_18_19 konbyen_fre_e_se_18_19  \\\n",
       "0                None                   None   \n",
       "\n",
       "  a8_eske_gen_yon_moun_ou_santi_ou_ka_al_kote_ presize_kiyes  \\\n",
       "0                                            2          None   \n",
       "\n",
       "  b8_eske_avan_sa_gen_yon_moun_ou_te_ka_al_kote_ ki_yes_moune_sa  \\\n",
       "0                                              0                   \n",
       "\n",
       "  presize_katye presize_lot_kote  \\\n",
       "0          None             None   \n",
       "\n",
       "  a10_si_ou_gen_pwoblm_kb_ske_w_gen_yon_moun_ou_ka_adrese  \\\n",
       "0                                                  1        \n",
       "\n",
       "  a111_a_kils_ou_adrese_w_dabitid presize_lot_moune_ou_adrese  \\\n",
       "0                            None                        None   \n",
       "\n",
       "  a112_si_ou_pa_gen_yon_moun_ou_ka_adrese_ske_ou presize_travay  \\\n",
       "0                                                          None   \n",
       "\n",
       "  bay_score_travaykomes_0_ou_1_ou_2 presize_lot_travay  \\\n",
       "0                              None               None   \n",
       "\n",
       "  bay_score_pou_lot_li_ye_a  ki_laj_ou_te_genyen_premye_fwa_ou_te_gen_menaj  \\\n",
       "0                      None                                            15.0   \n",
       "\n",
       "  si_ou_gen_menaj_deja_ou_konn_f_bagay_av_l  \\\n",
       "0                                        wi   \n",
       "\n",
       "   a12_ki_laj_ou_te_genyen_l_ou_te_kmanse_f_bagay_pou_premye_fwa  \\\n",
       "0                                                4.0               \n",
       "\n",
       "  b12_premye_fwa_ou_te_f_bagay_ske_se_te  \\\n",
       "0                                          \n",
       "\n",
       "  ske_w_ap_f_bagay_ak_yon_moun_pandan_3_dnye_mwa_sa_yo  \\\n",
       "0                                                        \n",
       "\n",
       "  ske_ou_svi_ak_kapt_deja_l_w_ap_f_bagay  \\\n",
       "0                                      0   \n",
       "\n",
       "  pandan_douz_dnye_mwa_yo_konbyen_fwa_ou_te_svi_ak_kapt  \\\n",
       "0                                                  3      \n",
       "\n",
       "  ske_ou_gen_pitit_10_14 ske_ou_gen_pitit_15_17 ske_ou_gen_pitit_18_19  \\\n",
       "0                   None                   None                   None   \n",
       "\n",
       "  konbyen_pitit_ou_genyen b181_ske_pitit_ou_ayo_ap_viv_avk_ou  \\\n",
       "0                    None                                None   \n",
       "\n",
       "  avk_kils_pitit_ou_ayo_ap_viv eske_ou_bay_kob_pou_pran_swen_piti_ou_ayo  \\\n",
       "0                         None                                      None   \n",
       "\n",
       "  ske_ou_f_ts_sida_deja eske_ou_konn_bwe_alkol  \\\n",
       "0                    wi                    oui   \n",
       "\n",
       "  a21_ske_ou_bw_alkl_osnon_itilize_lt_dwg_10_14  \\\n",
       "0                                          None   \n",
       "\n",
       "  a21_nan_ki_frenkans_ou_itilize_alkol eske_ou_konn_itilize_dwog  \\\n",
       "0                                    2                       non   \n",
       "\n",
       "  ske_ou_konn_itilize_dwg_10_14 ske_ou_konn_itilize_dwg_15_19  ris_imedia  \\\n",
       "0                          None                          None  Ris Imedia   \n",
       "\n",
       "  gwo_ris  ris_mwayen ti_ris  \\\n",
       "0    None  Ris Mwayen   None   \n",
       "\n",
       "  eske_ou_ta_renmen_patisipe_nan_aktivite_dreams_yo  \\\n",
       "0                                                wi   \n",
       "\n",
       "  eske_ou_dak_kategori_a_byen_idantifye_nivo_risk_ti_jn_fi_a  \\\n",
       "0                                                 wi           \n",
       "\n",
       "  poukisa_ou_voye_li komant_anket_a  calcul_age  paran       NN  debut  N2  \\\n",
       "0               None                       16.0      0  Metayou      5  ou   \n",
       "\n",
       "          pre  debutpre pre2        kkk premyelet   agetodate    DD randomID  \\\n",
       "0  Dorsainvil         8   il  verrettes       ver  1970-01-17  2503     XIR3   \n",
       "\n",
       "        codepaticipan  b5  qa6  P1a6  pc6  c6b0  c6b  c6b1919  pc6b1919  pc61  \\\n",
       "0  ouil/ver/2503/XIR3   0    0     3    0     0    0        0         0     0   \n",
       "\n",
       "   aa7  a7  aaa7  pa71517  aaaa7  pa71819  a7_1  b7  pb71517  pb71819  a8  b8  \\\n",
       "0    0   0     0        1      0        0     0   0        0        0   2   0   \n",
       "\n",
       "   a9  bb9  b9  a10  a11_1  aaa11_2_1  aa11_2_1  a11_2_1  a12  b12  a13  a14  \\\n",
       "0   0  0.0   0    1      0          0         0        0    4    0    0    0   \n",
       "\n",
       "   pb15  pa16  pa17  pb18  pb181  ppb181_17  pb181_19  point  pb182  pa20  \\\n",
       "0     3     2     4     0      0          0         0      0      0     3   \n",
       "\n",
       "   pa21  aaa22  a22  pa23  pa25  total completed_time started_time username  \\\n",
       "0     0      2    0     0     5     30           None         None   2yonie   \n",
       "\n",
       "               received_on form_link                               case_id  \\\n",
       "0  2020-09-28 19:01:57.255      None  fe6ffeb2-619d-4c32-b67e-c52b0a3c5dcf   \n",
       "\n",
       "  gen_moun_kap_asiste_moun_yap_poze_kesyon_an  \\\n",
       "0                                         non   \n",
       "\n",
       "  a_nan_kat_denye_semen_yo_ou_konn_domi_grangou  \\\n",
       "0                                                 \n",
       "\n",
       "  a71_laj_ou_te_genyen_lew_te_marye_ou_plase  \\\n",
       "0                                       None   \n",
       "\n",
       "   a9_ou_gen_lot_kote_ou_pa_santi_ou_ansekirite  \\\n",
       "0                                           0.0   \n",
       "\n",
       "  b9_list_kote_ou_pa_an_sekirite a1121_aktivite_pouw_rantre_kob_ou_vle_fe  \\\n",
       "0                           None                                     None   \n",
       "\n",
       "  a15_kiyes_ki_pi_gwo_a_patn_seksyel_avant_e_kunyea a17 b18_ske_ou_ansent  \\\n",
       "0                                                 2   4                 0   \n",
       "\n",
       "  b19_sa_deranjew_siw_pataje_rezilta c19_ou_enskri_nan_swen_asistans_vih  \\\n",
       "0                   gen_viris_sida_a                                 non   \n",
       "\n",
       "  c19_replacement_eske_w_ta_renmen_nou_fasilite_w_fe_tes_sida  \\\n",
       "0                                                 wi            \n",
       "\n",
       "  a20_swiv_tretman_pou_lot_ist ou_konn_enkonsyan_apre_alcohol_ou_dwog  \\\n",
       "0                            3                                      5   \n",
       "\n",
       "  ou_konnen_sant_pou_planin ou_konnen_kote_pou_sevis_sante_tretman_mal  \\\n",
       "0                        wi                                         wi   \n",
       "\n",
       "  tifi_a_nan_nivo_ti_ris_ou_wel_elijib             timeEnd  \\\n",
       "0                                 None 2020-09-17 03:51:57   \n",
       "\n",
       "            timeStart agent_username          created_ad organisation  \\\n",
       "0 2020-09-17 01:18:04         2yonie 2020-09-28 12:01:58        CARIS   \n",
       "\n",
       "       age_range   newage_range   ovcage_range date_entevyou  \\\n",
       "0  not_valid_age  not_valid_age  not_valid_age    2020-07-09   \n",
       "\n",
       "  curriculum_date_debut curriculum_date_end sens_prep_date ref_prep_date  \\\n",
       "0                   NaT                 NaT            NaT           NaT   \n",
       "\n",
       "  init_prep_date hts_date sens_hts_date condoms_date vbg_date gyneco_date  \\\n",
       "0            NaT      NaT           NaT          NaT      NaT         NaT   \n",
       "\n",
       "  id_fiscal_year    fiscal_year     timeOn_system  months_now_dateEntevyou  \\\n",
       "0         FY20Q4  Q3fy20-Q4fy20  required_Time_on                       13   \n",
       "\n",
       "  agyw_period_range curriculum_date_debut_fy curriculum_date_end_fy  hts_fy  \\\n",
       "0      13-24 months                   errata                 errata  errata   \n",
       "\n",
       "  sens_hts_fy condoms_fy  vbg_fy gyneco_fy init_prep_fy ref_prep_fy  \\\n",
       "0      errata     errata  errata    errata       errata      errata   \n",
       "\n",
       "  sens_prep_fy curriculum_servis_auMoins_1fois curriculum dreams_curriculum  \\\n",
       "0       errata        zero_services_curriculum   non-recu    curriculum_inc   \n",
       "\n",
       "  acc_hiv_test sens_condom acc_condom   acc_prep     hts sens_hts condoms  \\\n",
       "0    not_valid   not_valid  not_valid  not_valid  errata   errata  errata   \n",
       "\n",
       "  new_condoms     vbg  gyneco init_prep ref_prep sens_prep socio_eco_app  \\\n",
       "0          no  errata  errata    errata   errata    errata            no   \n",
       "\n",
       "  post_care_treatment score_eligible_AGYW recevoir_1services ps_10_14  \\\n",
       "0                  no            eligible                 no       no   \n",
       "\n",
       "  ps_15_19 ps_20_24  \n",
       "0       no       no  "
      ],
      "text/html": [
       "<div>\n",
       "<style scoped>\n",
       "    .dataframe tbody tr th:only-of-type {\n",
       "        vertical-align: middle;\n",
       "    }\n",
       "\n",
       "    .dataframe tbody tr th {\n",
       "        vertical-align: top;\n",
       "    }\n",
       "\n",
       "    .dataframe thead th {\n",
       "        text-align: right;\n",
       "    }\n",
       "</style>\n",
       "<table border=\"1\" class=\"dataframe\">\n",
       "  <thead>\n",
       "    <tr style=\"text-align: right;\">\n",
       "      <th></th>\n",
       "      <th>main_id</th>\n",
       "      <th>muso_eligibility</th>\n",
       "      <th>actual_id_group</th>\n",
       "      <th>group_she_take_sessions</th>\n",
       "      <th>code</th>\n",
       "      <th>last_name</th>\n",
       "      <th>first_name</th>\n",
       "      <th>dob</th>\n",
       "      <th>age</th>\n",
       "      <th>number_of_different_topic</th>\n",
       "      <th>first_session_date</th>\n",
       "      <th>last_session_date</th>\n",
       "      <th>last_hiv_test_date</th>\n",
       "      <th>last_sensibilisation_hiv_test_date</th>\n",
       "      <th>acceptation_hiv_test</th>\n",
       "      <th>test_results</th>\n",
       "      <th>test_results_with_label</th>\n",
       "      <th>last_condoms_reception_date</th>\n",
       "      <th>sensibilisation_condom</th>\n",
       "      <th>acceptation_condom</th>\n",
       "      <th>last_vbg_treatment_date</th>\n",
       "      <th>last_gynecological_care_date</th>\n",
       "      <th>last_sensibilisation_prep_date</th>\n",
       "      <th>last_reference_prep_date</th>\n",
       "      <th>last_initiation_prep_date</th>\n",
       "      <th>acceptation_prep</th>\n",
       "      <th>actual_group_name</th>\n",
       "      <th>actual_hub</th>\n",
       "      <th>actual_commune</th>\n",
       "      <th>actual_commune_id</th>\n",
       "      <th>actual_departement</th>\n",
       "      <th>actual_departement_id</th>\n",
       "      <th>is_muso</th>\n",
       "      <th>is_gardening</th>\n",
       "      <th>id</th>\n",
       "      <th>id_patient</th>\n",
       "      <th>f_under_1</th>\n",
       "      <th>f_1_4</th>\n",
       "      <th>f_5_9</th>\n",
       "      <th>f_10_14</th>\n",
       "      <th>f_15_17</th>\n",
       "      <th>f_18_25</th>\n",
       "      <th>f_25</th>\n",
       "      <th>m_under_1</th>\n",
       "      <th>m_1_4</th>\n",
       "      <th>m_5_9</th>\n",
       "      <th>m_10_14</th>\n",
       "      <th>m_15_17</th>\n",
       "      <th>m_18_25</th>\n",
       "      <th>m_25</th>\n",
       "      <th>cf_18_24</th>\n",
       "      <th>cf_25</th>\n",
       "      <th>cm_18_24</th>\n",
       "      <th>cm_25</th>\n",
       "      <th>created_at</th>\n",
       "      <th>updated_at</th>\n",
       "      <th>created_by</th>\n",
       "      <th>updated_by</th>\n",
       "      <th>id</th>\n",
       "      <th>number</th>\n",
       "      <th>formid</th>\n",
       "      <th>non_konple_paran</th>\n",
       "      <th>siyen_paran</th>\n",
       "      <th>a1_dat_entvyou_a_ft_jjmmaa_egz_010817</th>\n",
       "      <th>b1_non_moun_mennen_entvyou_a</th>\n",
       "      <th>c1_siyati_moun_ki_f_entvyou_a</th>\n",
       "      <th>d1_kad</th>\n",
       "      <th>lot_kad</th>\n",
       "      <th>h_kote_entvyou_a_ft</th>\n",
       "      <th>a_non_patisipan_an</th>\n",
       "      <th>b_siyati</th>\n",
       "      <th>nan_ki_dat_ou_fet</th>\n",
       "      <th>c_laj</th>\n",
       "      <th>d_adrs</th>\n",
       "      <th>e__telefn</th>\n",
       "      <th>f_komin</th>\n",
       "      <th>g_seksyon_kominal</th>\n",
       "      <th>paran_ou_vivan</th>\n",
       "      <th>i_non_manman</th>\n",
       "      <th>j_non_papa</th>\n",
       "      <th>k_reskonsab_devan_lalwa</th>\n",
       "      <th>b_gen_yon_granmoun_k_ap_asiste_entvyou_a</th>\n",
       "      <th>c_4_lyen_moun_k_ap_asiste_a_ak_moun_y_ap_kesyone_a</th>\n",
       "      <th>b5_konbyen_fwa_ou_al_dmi_tou_grangou_pandan_kat_dnye_semn_yo</th>\n",
       "      <th>a_ske_ou_lekl</th>\n",
       "      <th>tranche_age_6a_15_19</th>\n",
       "      <th>b6_ki_klas_w_ap_f</th>\n",
       "      <th>b6_Ki_klas_w_ap_fe_listRepons</th>\n",
       "      <th>c6_ske_ou_te_oblije_double_deja</th>\n",
       "      <th>c6b_kils_ki_peye_lekl_ou_10_14</th>\n",
       "      <th>lot_ki_peye</th>\n",
       "      <th>pc6b</th>\n",
       "      <th>c6b_Kiles_ki_peye_lekol_ou_Tranche_15_19</th>\n",
       "      <th>lot_presize_15_19</th>\n",
       "      <th>bay_point_pou_lot_la_15-19</th>\n",
       "      <th>c61_depi_ki_l_ou_pa_al_lekl_ank</th>\n",
       "      <th>c62_ki_dnye_klas_ou_te_fini</th>\n",
       "      <th>ki_denye_klas_ou_te_fe_lisrepons</th>\n",
       "      <th>a7_ak_kils_w_ap_viv_10_14</th>\n",
       "      <th>presize_parent</th>\n",
       "      <th>presize_fanmi</th>\n",
       "      <th>presize_granmoune</th>\n",
       "      <th>lot_moune_wap_viv</th>\n",
       "      <th>bay_pwen_pou_lot_moune_0123</th>\n",
       "      <th>a7_Ak_kiles_w_ap_viv_15_19</th>\n",
       "      <th>presize_parent_15-19</th>\n",
       "      <th>presize_fanmi_15_17</th>\n",
       "      <th>presize_granmoune_15_17</th>\n",
       "      <th>lot_moune_kap_viv_15_17</th>\n",
       "      <th>bay_pwen_pou_lot_moun_0123</th>\n",
       "      <th>a7_Ak_kiles_w_ap_viv_17_18</th>\n",
       "      <th>yon_sel_paran_persize_18_19</th>\n",
       "      <th>yon_lot_fanmi_presize_18_19</th>\n",
       "      <th>yon_lot_granmoun_presize_18_19</th>\n",
       "      <th>lot_presize_18_19</th>\n",
       "      <th>bay_pwen_pou_lot_moun_0123_-</th>\n",
       "      <th>b7_ki_lt_moun_k_ap_viv_av_w_10_14</th>\n",
       "      <th>konbyen_zanmi</th>\n",
       "      <th>konbyen_fre_e_se</th>\n",
       "      <th>b7_ki_lot_moun_k_ap_viv_ave_w_15_17</th>\n",
       "      <th>konbye_zanmi_15_17</th>\n",
       "      <th>konbyen_fre_e_se_15_17</th>\n",
       "      <th>b7_ki_lot_moun_kap_viv_ave_w_18_19</th>\n",
       "      <th>konbyen_zanmi_18_19</th>\n",
       "      <th>konbyen_fre_e_se_18_19</th>\n",
       "      <th>a8_eske_gen_yon_moun_ou_santi_ou_ka_al_kote_</th>\n",
       "      <th>presize_kiyes</th>\n",
       "      <th>b8_eske_avan_sa_gen_yon_moun_ou_te_ka_al_kote_</th>\n",
       "      <th>ki_yes_moune_sa</th>\n",
       "      <th>presize_katye</th>\n",
       "      <th>presize_lot_kote</th>\n",
       "      <th>a10_si_ou_gen_pwoblm_kb_ske_w_gen_yon_moun_ou_ka_adrese</th>\n",
       "      <th>a111_a_kils_ou_adrese_w_dabitid</th>\n",
       "      <th>presize_lot_moune_ou_adrese</th>\n",
       "      <th>a112_si_ou_pa_gen_yon_moun_ou_ka_adrese_ske_ou</th>\n",
       "      <th>presize_travay</th>\n",
       "      <th>bay_score_travaykomes_0_ou_1_ou_2</th>\n",
       "      <th>presize_lot_travay</th>\n",
       "      <th>bay_score_pou_lot_li_ye_a</th>\n",
       "      <th>ki_laj_ou_te_genyen_premye_fwa_ou_te_gen_menaj</th>\n",
       "      <th>si_ou_gen_menaj_deja_ou_konn_f_bagay_av_l</th>\n",
       "      <th>a12_ki_laj_ou_te_genyen_l_ou_te_kmanse_f_bagay_pou_premye_fwa</th>\n",
       "      <th>b12_premye_fwa_ou_te_f_bagay_ske_se_te</th>\n",
       "      <th>ske_w_ap_f_bagay_ak_yon_moun_pandan_3_dnye_mwa_sa_yo</th>\n",
       "      <th>ske_ou_svi_ak_kapt_deja_l_w_ap_f_bagay</th>\n",
       "      <th>pandan_douz_dnye_mwa_yo_konbyen_fwa_ou_te_svi_ak_kapt</th>\n",
       "      <th>ske_ou_gen_pitit_10_14</th>\n",
       "      <th>ske_ou_gen_pitit_15_17</th>\n",
       "      <th>ske_ou_gen_pitit_18_19</th>\n",
       "      <th>konbyen_pitit_ou_genyen</th>\n",
       "      <th>b181_ske_pitit_ou_ayo_ap_viv_avk_ou</th>\n",
       "      <th>avk_kils_pitit_ou_ayo_ap_viv</th>\n",
       "      <th>eske_ou_bay_kob_pou_pran_swen_piti_ou_ayo</th>\n",
       "      <th>ske_ou_f_ts_sida_deja</th>\n",
       "      <th>eske_ou_konn_bwe_alkol</th>\n",
       "      <th>a21_ske_ou_bw_alkl_osnon_itilize_lt_dwg_10_14</th>\n",
       "      <th>a21_nan_ki_frenkans_ou_itilize_alkol</th>\n",
       "      <th>eske_ou_konn_itilize_dwog</th>\n",
       "      <th>ske_ou_konn_itilize_dwg_10_14</th>\n",
       "      <th>ske_ou_konn_itilize_dwg_15_19</th>\n",
       "      <th>ris_imedia</th>\n",
       "      <th>gwo_ris</th>\n",
       "      <th>ris_mwayen</th>\n",
       "      <th>ti_ris</th>\n",
       "      <th>eske_ou_ta_renmen_patisipe_nan_aktivite_dreams_yo</th>\n",
       "      <th>eske_ou_dak_kategori_a_byen_idantifye_nivo_risk_ti_jn_fi_a</th>\n",
       "      <th>poukisa_ou_voye_li</th>\n",
       "      <th>komant_anket_a</th>\n",
       "      <th>calcul_age</th>\n",
       "      <th>paran</th>\n",
       "      <th>NN</th>\n",
       "      <th>debut</th>\n",
       "      <th>N2</th>\n",
       "      <th>pre</th>\n",
       "      <th>debutpre</th>\n",
       "      <th>pre2</th>\n",
       "      <th>kkk</th>\n",
       "      <th>premyelet</th>\n",
       "      <th>agetodate</th>\n",
       "      <th>DD</th>\n",
       "      <th>randomID</th>\n",
       "      <th>codepaticipan</th>\n",
       "      <th>b5</th>\n",
       "      <th>qa6</th>\n",
       "      <th>P1a6</th>\n",
       "      <th>pc6</th>\n",
       "      <th>c6b0</th>\n",
       "      <th>c6b</th>\n",
       "      <th>c6b1919</th>\n",
       "      <th>pc6b1919</th>\n",
       "      <th>pc61</th>\n",
       "      <th>aa7</th>\n",
       "      <th>a7</th>\n",
       "      <th>aaa7</th>\n",
       "      <th>pa71517</th>\n",
       "      <th>aaaa7</th>\n",
       "      <th>pa71819</th>\n",
       "      <th>a7_1</th>\n",
       "      <th>b7</th>\n",
       "      <th>pb71517</th>\n",
       "      <th>pb71819</th>\n",
       "      <th>a8</th>\n",
       "      <th>b8</th>\n",
       "      <th>a9</th>\n",
       "      <th>bb9</th>\n",
       "      <th>b9</th>\n",
       "      <th>a10</th>\n",
       "      <th>a11_1</th>\n",
       "      <th>aaa11_2_1</th>\n",
       "      <th>aa11_2_1</th>\n",
       "      <th>a11_2_1</th>\n",
       "      <th>a12</th>\n",
       "      <th>b12</th>\n",
       "      <th>a13</th>\n",
       "      <th>a14</th>\n",
       "      <th>pb15</th>\n",
       "      <th>pa16</th>\n",
       "      <th>pa17</th>\n",
       "      <th>pb18</th>\n",
       "      <th>pb181</th>\n",
       "      <th>ppb181_17</th>\n",
       "      <th>pb181_19</th>\n",
       "      <th>point</th>\n",
       "      <th>pb182</th>\n",
       "      <th>pa20</th>\n",
       "      <th>pa21</th>\n",
       "      <th>aaa22</th>\n",
       "      <th>a22</th>\n",
       "      <th>pa23</th>\n",
       "      <th>pa25</th>\n",
       "      <th>total</th>\n",
       "      <th>completed_time</th>\n",
       "      <th>started_time</th>\n",
       "      <th>username</th>\n",
       "      <th>received_on</th>\n",
       "      <th>form_link</th>\n",
       "      <th>case_id</th>\n",
       "      <th>gen_moun_kap_asiste_moun_yap_poze_kesyon_an</th>\n",
       "      <th>a_nan_kat_denye_semen_yo_ou_konn_domi_grangou</th>\n",
       "      <th>a71_laj_ou_te_genyen_lew_te_marye_ou_plase</th>\n",
       "      <th>a9_ou_gen_lot_kote_ou_pa_santi_ou_ansekirite</th>\n",
       "      <th>b9_list_kote_ou_pa_an_sekirite</th>\n",
       "      <th>a1121_aktivite_pouw_rantre_kob_ou_vle_fe</th>\n",
       "      <th>a15_kiyes_ki_pi_gwo_a_patn_seksyel_avant_e_kunyea</th>\n",
       "      <th>a17</th>\n",
       "      <th>b18_ske_ou_ansent</th>\n",
       "      <th>b19_sa_deranjew_siw_pataje_rezilta</th>\n",
       "      <th>c19_ou_enskri_nan_swen_asistans_vih</th>\n",
       "      <th>c19_replacement_eske_w_ta_renmen_nou_fasilite_w_fe_tes_sida</th>\n",
       "      <th>a20_swiv_tretman_pou_lot_ist</th>\n",
       "      <th>ou_konn_enkonsyan_apre_alcohol_ou_dwog</th>\n",
       "      <th>ou_konnen_sant_pou_planin</th>\n",
       "      <th>ou_konnen_kote_pou_sevis_sante_tretman_mal</th>\n",
       "      <th>tifi_a_nan_nivo_ti_ris_ou_wel_elijib</th>\n",
       "      <th>timeEnd</th>\n",
       "      <th>timeStart</th>\n",
       "      <th>agent_username</th>\n",
       "      <th>created_ad</th>\n",
       "      <th>organisation</th>\n",
       "      <th>age_range</th>\n",
       "      <th>newage_range</th>\n",
       "      <th>ovcage_range</th>\n",
       "      <th>date_entevyou</th>\n",
       "      <th>curriculum_date_debut</th>\n",
       "      <th>curriculum_date_end</th>\n",
       "      <th>sens_prep_date</th>\n",
       "      <th>ref_prep_date</th>\n",
       "      <th>init_prep_date</th>\n",
       "      <th>hts_date</th>\n",
       "      <th>sens_hts_date</th>\n",
       "      <th>condoms_date</th>\n",
       "      <th>vbg_date</th>\n",
       "      <th>gyneco_date</th>\n",
       "      <th>id_fiscal_year</th>\n",
       "      <th>fiscal_year</th>\n",
       "      <th>timeOn_system</th>\n",
       "      <th>months_now_dateEntevyou</th>\n",
       "      <th>agyw_period_range</th>\n",
       "      <th>curriculum_date_debut_fy</th>\n",
       "      <th>curriculum_date_end_fy</th>\n",
       "      <th>hts_fy</th>\n",
       "      <th>sens_hts_fy</th>\n",
       "      <th>condoms_fy</th>\n",
       "      <th>vbg_fy</th>\n",
       "      <th>gyneco_fy</th>\n",
       "      <th>init_prep_fy</th>\n",
       "      <th>ref_prep_fy</th>\n",
       "      <th>sens_prep_fy</th>\n",
       "      <th>curriculum_servis_auMoins_1fois</th>\n",
       "      <th>curriculum</th>\n",
       "      <th>dreams_curriculum</th>\n",
       "      <th>acc_hiv_test</th>\n",
       "      <th>sens_condom</th>\n",
       "      <th>acc_condom</th>\n",
       "      <th>acc_prep</th>\n",
       "      <th>hts</th>\n",
       "      <th>sens_hts</th>\n",
       "      <th>condoms</th>\n",
       "      <th>new_condoms</th>\n",
       "      <th>vbg</th>\n",
       "      <th>gyneco</th>\n",
       "      <th>init_prep</th>\n",
       "      <th>ref_prep</th>\n",
       "      <th>sens_prep</th>\n",
       "      <th>socio_eco_app</th>\n",
       "      <th>post_care_treatment</th>\n",
       "      <th>score_eligible_AGYW</th>\n",
       "      <th>recevoir_1services</th>\n",
       "      <th>ps_10_14</th>\n",
       "      <th>ps_15_19</th>\n",
       "      <th>ps_20_24</th>\n",
       "    </tr>\n",
       "  </thead>\n",
       "  <tbody>\n",
       "    <tr>\n",
       "      <th>0</th>\n",
       "      <td>0</td>\n",
       "      <td>no17</td>\n",
       "      <td>1895</td>\n",
       "      <td>None</td>\n",
       "      <td>None</td>\n",
       "      <td>None</td>\n",
       "      <td>None</td>\n",
       "      <td>None</td>\n",
       "      <td>-1000</td>\n",
       "      <td>-1000</td>\n",
       "      <td>0000-00-00</td>\n",
       "      <td>0000-00-00</td>\n",
       "      <td>0000-00-00</td>\n",
       "      <td>0000-00-00</td>\n",
       "      <td>didnt</td>\n",
       "      <td>None</td>\n",
       "      <td>None</td>\n",
       "      <td>0000-00-00</td>\n",
       "      <td>didnt</td>\n",
       "      <td>didnt</td>\n",
       "      <td>0000-00-00</td>\n",
       "      <td>0000-00-00</td>\n",
       "      <td>0000-00-00</td>\n",
       "      <td>0000-00-00</td>\n",
       "      <td>0000-00-00</td>\n",
       "      <td>didnt</td>\n",
       "      <td>Charlemagne 11</td>\n",
       "      <td>Ecole Nationale Charlemagne Peralte/Verrettes</td>\n",
       "      <td>Verrettes</td>\n",
       "      <td>15</td>\n",
       "      <td>Artibonite</td>\n",
       "      <td>4</td>\n",
       "      <td>no</td>\n",
       "      <td>no</td>\n",
       "      <td>NaN</td>\n",
       "      <td>NaN</td>\n",
       "      <td>NaN</td>\n",
       "      <td>NaN</td>\n",
       "      <td>NaN</td>\n",
       "      <td>NaN</td>\n",
       "      <td>NaN</td>\n",
       "      <td>NaN</td>\n",
       "      <td>NaN</td>\n",
       "      <td>NaN</td>\n",
       "      <td>NaN</td>\n",
       "      <td>NaN</td>\n",
       "      <td>NaN</td>\n",
       "      <td>NaN</td>\n",
       "      <td>NaN</td>\n",
       "      <td>NaN</td>\n",
       "      <td>NaN</td>\n",
       "      <td>NaN</td>\n",
       "      <td>NaN</td>\n",
       "      <td>NaN</td>\n",
       "      <td>NaT</td>\n",
       "      <td>None</td>\n",
       "      <td>NaN</td>\n",
       "      <td>NaN</td>\n",
       "      <td>77516</td>\n",
       "      <td>NaN</td>\n",
       "      <td>282cdbc3-781f-465e-a13b-33c2c133b173</td>\n",
       "      <td>La mise Morantis</td>\n",
       "      <td>1600298364261.jpg</td>\n",
       "      <td>2020-07-09</td>\n",
       "      <td>Rosena</td>\n",
       "      <td>St Fleurent</td>\n",
       "      <td>mentor</td>\n",
       "      <td>None</td>\n",
       "      <td>Centre rêve Charlemagne peralte</td>\n",
       "      <td>Metayou</td>\n",
       "      <td>Dorsainvil</td>\n",
       "      <td>2003-12-25</td>\n",
       "      <td>16</td>\n",
       "      <td>Calvaire</td>\n",
       "      <td>32872507</td>\n",
       "      <td>verrettes</td>\n",
       "      <td></td>\n",
       "      <td>0</td>\n",
       "      <td></td>\n",
       "      <td></td>\n",
       "      <td></td>\n",
       "      <td>non</td>\n",
       "      <td>None</td>\n",
       "      <td>NaN</td>\n",
       "      <td>NaN</td>\n",
       "      <td>3.0</td>\n",
       "      <td>None</td>\n",
       "      <td></td>\n",
       "      <td>None</td>\n",
       "      <td>None</td>\n",
       "      <td>None</td>\n",
       "      <td>None</td>\n",
       "      <td>None</td>\n",
       "      <td>None</td>\n",
       "      <td>None</td>\n",
       "      <td></td>\n",
       "      <td></td>\n",
       "      <td>af7</td>\n",
       "      <td>None</td>\n",
       "      <td>None</td>\n",
       "      <td>None</td>\n",
       "      <td>None</td>\n",
       "      <td>None</td>\n",
       "      <td>None</td>\n",
       "      <td>1</td>\n",
       "      <td></td>\n",
       "      <td>None</td>\n",
       "      <td>None</td>\n",
       "      <td>None</td>\n",
       "      <td>None</td>\n",
       "      <td>None</td>\n",
       "      <td>None</td>\n",
       "      <td>None</td>\n",
       "      <td>None</td>\n",
       "      <td>None</td>\n",
       "      <td>None</td>\n",
       "      <td>None</td>\n",
       "      <td>None</td>\n",
       "      <td>None</td>\n",
       "      <td>None</td>\n",
       "      <td>None</td>\n",
       "      <td>None</td>\n",
       "      <td>None</td>\n",
       "      <td>None</td>\n",
       "      <td>None</td>\n",
       "      <td>2</td>\n",
       "      <td>None</td>\n",
       "      <td>0</td>\n",
       "      <td></td>\n",
       "      <td>None</td>\n",
       "      <td>None</td>\n",
       "      <td>1</td>\n",
       "      <td>None</td>\n",
       "      <td>None</td>\n",
       "      <td></td>\n",
       "      <td>None</td>\n",
       "      <td>None</td>\n",
       "      <td>None</td>\n",
       "      <td>None</td>\n",
       "      <td>15.0</td>\n",
       "      <td>wi</td>\n",
       "      <td>4.0</td>\n",
       "      <td></td>\n",
       "      <td></td>\n",
       "      <td>0</td>\n",
       "      <td>3</td>\n",
       "      <td>None</td>\n",
       "      <td>None</td>\n",
       "      <td>None</td>\n",
       "      <td>None</td>\n",
       "      <td>None</td>\n",
       "      <td>None</td>\n",
       "      <td>None</td>\n",
       "      <td>wi</td>\n",
       "      <td>oui</td>\n",
       "      <td>None</td>\n",
       "      <td>2</td>\n",
       "      <td>non</td>\n",
       "      <td>None</td>\n",
       "      <td>None</td>\n",
       "      <td>Ris Imedia</td>\n",
       "      <td>None</td>\n",
       "      <td>Ris Mwayen</td>\n",
       "      <td>None</td>\n",
       "      <td>wi</td>\n",
       "      <td>wi</td>\n",
       "      <td>None</td>\n",
       "      <td></td>\n",
       "      <td>16.0</td>\n",
       "      <td>0</td>\n",
       "      <td>Metayou</td>\n",
       "      <td>5</td>\n",
       "      <td>ou</td>\n",
       "      <td>Dorsainvil</td>\n",
       "      <td>8</td>\n",
       "      <td>il</td>\n",
       "      <td>verrettes</td>\n",
       "      <td>ver</td>\n",
       "      <td>1970-01-17</td>\n",
       "      <td>2503</td>\n",
       "      <td>XIR3</td>\n",
       "      <td>ouil/ver/2503/XIR3</td>\n",
       "      <td>0</td>\n",
       "      <td>0</td>\n",
       "      <td>3</td>\n",
       "      <td>0</td>\n",
       "      <td>0</td>\n",
       "      <td>0</td>\n",
       "      <td>0</td>\n",
       "      <td>0</td>\n",
       "      <td>0</td>\n",
       "      <td>0</td>\n",
       "      <td>0</td>\n",
       "      <td>0</td>\n",
       "      <td>1</td>\n",
       "      <td>0</td>\n",
       "      <td>0</td>\n",
       "      <td>0</td>\n",
       "      <td>0</td>\n",
       "      <td>0</td>\n",
       "      <td>0</td>\n",
       "      <td>2</td>\n",
       "      <td>0</td>\n",
       "      <td>0</td>\n",
       "      <td>0.0</td>\n",
       "      <td>0</td>\n",
       "      <td>1</td>\n",
       "      <td>0</td>\n",
       "      <td>0</td>\n",
       "      <td>0</td>\n",
       "      <td>0</td>\n",
       "      <td>4</td>\n",
       "      <td>0</td>\n",
       "      <td>0</td>\n",
       "      <td>0</td>\n",
       "      <td>3</td>\n",
       "      <td>2</td>\n",
       "      <td>4</td>\n",
       "      <td>0</td>\n",
       "      <td>0</td>\n",
       "      <td>0</td>\n",
       "      <td>0</td>\n",
       "      <td>0</td>\n",
       "      <td>0</td>\n",
       "      <td>3</td>\n",
       "      <td>0</td>\n",
       "      <td>2</td>\n",
       "      <td>0</td>\n",
       "      <td>0</td>\n",
       "      <td>5</td>\n",
       "      <td>30</td>\n",
       "      <td>None</td>\n",
       "      <td>None</td>\n",
       "      <td>2yonie</td>\n",
       "      <td>2020-09-28 19:01:57.255</td>\n",
       "      <td>None</td>\n",
       "      <td>fe6ffeb2-619d-4c32-b67e-c52b0a3c5dcf</td>\n",
       "      <td>non</td>\n",
       "      <td></td>\n",
       "      <td>None</td>\n",
       "      <td>0.0</td>\n",
       "      <td>None</td>\n",
       "      <td>None</td>\n",
       "      <td>2</td>\n",
       "      <td>4</td>\n",
       "      <td>0</td>\n",
       "      <td>gen_viris_sida_a</td>\n",
       "      <td>non</td>\n",
       "      <td>wi</td>\n",
       "      <td>3</td>\n",
       "      <td>5</td>\n",
       "      <td>wi</td>\n",
       "      <td>wi</td>\n",
       "      <td>None</td>\n",
       "      <td>2020-09-17 03:51:57</td>\n",
       "      <td>2020-09-17 01:18:04</td>\n",
       "      <td>2yonie</td>\n",
       "      <td>2020-09-28 12:01:58</td>\n",
       "      <td>CARIS</td>\n",
       "      <td>not_valid_age</td>\n",
       "      <td>not_valid_age</td>\n",
       "      <td>not_valid_age</td>\n",
       "      <td>2020-07-09</td>\n",
       "      <td>NaT</td>\n",
       "      <td>NaT</td>\n",
       "      <td>NaT</td>\n",
       "      <td>NaT</td>\n",
       "      <td>NaT</td>\n",
       "      <td>NaT</td>\n",
       "      <td>NaT</td>\n",
       "      <td>NaT</td>\n",
       "      <td>NaT</td>\n",
       "      <td>NaT</td>\n",
       "      <td>FY20Q4</td>\n",
       "      <td>Q3fy20-Q4fy20</td>\n",
       "      <td>required_Time_on</td>\n",
       "      <td>13</td>\n",
       "      <td>13-24 months</td>\n",
       "      <td>errata</td>\n",
       "      <td>errata</td>\n",
       "      <td>errata</td>\n",
       "      <td>errata</td>\n",
       "      <td>errata</td>\n",
       "      <td>errata</td>\n",
       "      <td>errata</td>\n",
       "      <td>errata</td>\n",
       "      <td>errata</td>\n",
       "      <td>errata</td>\n",
       "      <td>zero_services_curriculum</td>\n",
       "      <td>non-recu</td>\n",
       "      <td>curriculum_inc</td>\n",
       "      <td>not_valid</td>\n",
       "      <td>not_valid</td>\n",
       "      <td>not_valid</td>\n",
       "      <td>not_valid</td>\n",
       "      <td>errata</td>\n",
       "      <td>errata</td>\n",
       "      <td>errata</td>\n",
       "      <td>no</td>\n",
       "      <td>errata</td>\n",
       "      <td>errata</td>\n",
       "      <td>errata</td>\n",
       "      <td>errata</td>\n",
       "      <td>errata</td>\n",
       "      <td>no</td>\n",
       "      <td>no</td>\n",
       "      <td>eligible</td>\n",
       "      <td>no</td>\n",
       "      <td>no</td>\n",
       "      <td>no</td>\n",
       "      <td>no</td>\n",
       "    </tr>\n",
       "  </tbody>\n",
       "</table>\n",
       "</div>"
      ]
     },
     "metadata": {},
     "execution_count": 4
    }
   ],
   "metadata": {}
  },
  {
   "cell_type": "code",
   "execution_count": 5,
   "source": [
    "#cohort_Q3fy20_fy21 =  df[(df.age_range != \"not_valid_age\")\r\n",
    "#   &(df.age_range!=\"25-29\")\r\n",
    "#   &(df.timeOn_system==\"required_Time_on\")  \r\n",
    "#  ]\r\n",
    "\r\n",
    "cohort = total_cohort_Q3fy20_fy21 =  df[(df.age_range != \"not_valid_age\")\r\n",
    "   &(df.age_range!=\"25-29\")\r\n",
    "   &(df.timeOn_system==\"required_Time_on\")  \r\n",
    "]\r\n",
    "\r\n",
    "total_cohort_Q3fy20_fy21 =  df[(df.age_range != \"not_valid_age\")\r\n",
    "   &(df.age_range!=\"25-29\")\r\n",
    "   &(df.timeOn_system==\"required_Time_on\")  \r\n",
    "  ].code.count()\r\n",
    "\r\n",
    "cohort_q3q4_total =  df[(df.age_range != \"not_valid_age\")\r\n",
    "   &(df.age_range!=\"25-29\")\r\n",
    "   &(df.timeOn_system==\"required_Time_on\")\r\n",
    "   &(df.fiscal_year == \"Q3fy20-Q4fy20\")\r\n",
    "  ].code.count()\r\n",
    "\r\n",
    "cohort_q1_total =  df[(df.age_range != \"not_valid_age\")\r\n",
    "   &(df.age_range!=\"25-29\")\r\n",
    "   &(df.timeOn_system==\"required_Time_on\")\r\n",
    "   &(df.fiscal_year == \"FY21Q1\")\r\n",
    "  ].code.count()\r\n",
    "\r\n",
    "cohort_q2_total =  df[(df.age_range != \"not_valid_age\")\r\n",
    "   &(df.age_range!=\"25-29\")\r\n",
    "   &(df.timeOn_system==\"required_Time_on\")\r\n",
    "   &(df.fiscal_year == \"FY21Q2\")\r\n",
    "  ].code.count()\r\n",
    "\r\n",
    "cohort_q3_total =  df[(df.age_range != \"not_valid_age\")\r\n",
    "   &(df.age_range!=\"25-29\")\r\n",
    "   &(df.timeOn_system==\"required_Time_on\")\r\n",
    "   &(df.fiscal_year == \"FY21Q3\")\r\n",
    "  ].code.count()\r\n",
    "\r\n",
    "cohort_q4_total =  df[(df.age_range != \"not_valid_age\")\r\n",
    "   &(df.age_range!=\"25-29\")\r\n",
    "   &(df.timeOn_system==\"required_Time_on\")\r\n",
    "   &(df.fiscal_year == \"FY21Q4\")\r\n",
    "  ].code.count()\r\n",
    "\r\n",
    "df.code.count()\r\n",
    "total_cohort_Q3fy20_fy21\r\n",
    "cohort_q3q4_total\r\n",
    "cohort_q1_total\r\n",
    "cohort_q2_total\r\n",
    "cohort_q3_total\r\n",
    "cohort_q4_total\r\n"
   ],
   "outputs": [
    {
     "output_type": "execute_result",
     "data": {
      "text/plain": [
       "27374"
      ]
     },
     "metadata": {},
     "execution_count": 5
    },
    {
     "output_type": "execute_result",
     "data": {
      "text/plain": [
       "18339"
      ]
     },
     "metadata": {},
     "execution_count": 5
    },
    {
     "output_type": "execute_result",
     "data": {
      "text/plain": [
       "12903"
      ]
     },
     "metadata": {},
     "execution_count": 5
    },
    {
     "output_type": "execute_result",
     "data": {
      "text/plain": [
       "2364"
      ]
     },
     "metadata": {},
     "execution_count": 5
    },
    {
     "output_type": "execute_result",
     "data": {
      "text/plain": [
       "1732"
      ]
     },
     "metadata": {},
     "execution_count": 5
    },
    {
     "output_type": "execute_result",
     "data": {
      "text/plain": [
       "1054"
      ]
     },
     "metadata": {},
     "execution_count": 5
    },
    {
     "output_type": "execute_result",
     "data": {
      "text/plain": [
       "286"
      ]
     },
     "metadata": {},
     "execution_count": 5
    }
   ],
   "metadata": {}
  },
  {
   "cell_type": "code",
   "execution_count": 6,
   "source": [
    "cohort.fiscal_year.unique()"
   ],
   "outputs": [
    {
     "output_type": "execute_result",
     "data": {
      "text/plain": [
       "array(['Q3fy20-Q4fy20', 'FY21Q1', 'FY21Q2', 'FY21Q3', 'FY21Q4'],\n",
       "      dtype=object)"
      ]
     },
     "metadata": {},
     "execution_count": 6
    }
   ],
   "metadata": {}
  },
  {
   "cell_type": "code",
   "execution_count": 7,
   "source": [
    "cohort_data = pd.DataFrame({\"fiscal\":cohort.fiscal_year.unique().tolist(),\r\n",
    "                            \"data\":[cohort_q3q4_total,\r\n",
    "                                    cohort_q1_total,\r\n",
    "                                    cohort_q2_total,\r\n",
    "                                    cohort_q3_total,\r\n",
    "                                    cohort_q4_total]    \r\n",
    "                        })"
   ],
   "outputs": [],
   "metadata": {}
  },
  {
   "cell_type": "code",
   "execution_count": 8,
   "source": [
    "plt.figure(figsize=(16,8))\r\n",
    "sns.set_style(\"darkgrid\")\r\n",
    "splot = sns.barplot(x=\"data\",y=\"fiscal\",data=cohort_data)\r\n",
    "splot.set_xlabel(\"\")\r\n",
    "splot.set_ylabel(\"\")\r\n",
    "plt.suptitle(\"AGYW, enrolled since 1 april 2020\")\r\n",
    "for p in splot.patches:\r\n",
    "    width = p.get_width()\r\n",
    "    plt.text(2+p.get_width(), p.get_y()+0.50*p.get_height(),\r\n",
    "             '{:1.0f}'.format(width), fontdict=dict(color=\"red\",fontsize=12))\r\n",
    "    \r\n",
    "plt.annotate(\r\n",
    "    \"source: HIVHaiti\",(0,0), (-80,-20), fontsize=10, \r\n",
    "             xycoords='axes fraction', textcoords='offset points', va='top'\r\n",
    ")\r\n",
    "\r\n",
    "plt.savefig(\"cohort_evolution\",dpi=400)"
   ],
   "outputs": [
    {
     "output_type": "execute_result",
     "data": {
      "text/plain": [
       "<Figure size 1152x576 with 0 Axes>"
      ]
     },
     "metadata": {},
     "execution_count": 8
    },
    {
     "output_type": "execute_result",
     "data": {
      "text/plain": [
       "Text(0.5, 0, '')"
      ]
     },
     "metadata": {},
     "execution_count": 8
    },
    {
     "output_type": "execute_result",
     "data": {
      "text/plain": [
       "Text(0, 0.5, '')"
      ]
     },
     "metadata": {},
     "execution_count": 8
    },
    {
     "output_type": "execute_result",
     "data": {
      "text/plain": [
       "Text(0.5, 0.98, 'AGYW, enrolled since 1 april 2020')"
      ]
     },
     "metadata": {},
     "execution_count": 8
    },
    {
     "output_type": "execute_result",
     "data": {
      "text/plain": [
       "Text(12905.0, 0.0, '12903')"
      ]
     },
     "metadata": {},
     "execution_count": 8
    },
    {
     "output_type": "execute_result",
     "data": {
      "text/plain": [
       "Text(2366.0, 1.0, '2364')"
      ]
     },
     "metadata": {},
     "execution_count": 8
    },
    {
     "output_type": "execute_result",
     "data": {
      "text/plain": [
       "Text(1734.0, 2.0, '1732')"
      ]
     },
     "metadata": {},
     "execution_count": 8
    },
    {
     "output_type": "execute_result",
     "data": {
      "text/plain": [
       "Text(1056.0, 3.0, '1054')"
      ]
     },
     "metadata": {},
     "execution_count": 8
    },
    {
     "output_type": "execute_result",
     "data": {
      "text/plain": [
       "Text(288.0, 4.0, '286')"
      ]
     },
     "metadata": {},
     "execution_count": 8
    },
    {
     "output_type": "execute_result",
     "data": {
      "text/plain": [
       "Text(-80, -20, 'source: HIVHaiti')"
      ]
     },
     "metadata": {},
     "execution_count": 8
    },
    {
     "output_type": "display_data",
     "data": {
      "text/plain": [
       "<Figure size 1152x576 with 1 Axes>"
      ],
      "image/svg+xml": "<?xml version=\"1.0\" encoding=\"utf-8\" standalone=\"no\"?>\r\n<!DOCTYPE svg PUBLIC \"-//W3C//DTD SVG 1.1//EN\"\r\n  \"http://www.w3.org/Graphics/SVG/1.1/DTD/svg11.dtd\">\r\n<svg height=\"536.025313pt\" version=\"1.1\" viewBox=\"0 0 987.2 536.025313\" width=\"987.2pt\" xmlns=\"http://www.w3.org/2000/svg\" xmlns:xlink=\"http://www.w3.org/1999/xlink\">\r\n <metadata>\r\n  <rdf:RDF xmlns:cc=\"http://creativecommons.org/ns#\" xmlns:dc=\"http://purl.org/dc/elements/1.1/\" xmlns:rdf=\"http://www.w3.org/1999/02/22-rdf-syntax-ns#\">\r\n   <cc:Work>\r\n    <dc:type rdf:resource=\"http://purl.org/dc/dcmitype/StillImage\"/>\r\n    <dc:date>2021-08-18T10:14:21.306983</dc:date>\r\n    <dc:format>image/svg+xml</dc:format>\r\n    <dc:creator>\r\n     <cc:Agent>\r\n      <dc:title>Matplotlib v3.4.1, https://matplotlib.org/</dc:title>\r\n     </cc:Agent>\r\n    </dc:creator>\r\n   </cc:Work>\r\n  </rdf:RDF>\r\n </metadata>\r\n <defs>\r\n  <style type=\"text/css\">*{stroke-linecap:butt;stroke-linejoin:round;}</style>\r\n </defs>\r\n <g id=\"figure_1\">\r\n  <g id=\"patch_1\">\r\n   <path d=\"M 0 536.025313 \r\nL 987.2 536.025313 \r\nL 987.2 0 \r\nL 0 0 \r\nz\r\n\" style=\"fill:none;\"/>\r\n  </g>\r\n  <g id=\"axes_1\">\r\n   <g id=\"patch_2\">\r\n    <path d=\"M 87.2 499.68 \r\nL 980 499.68 \r\nL 980 64.8 \r\nL 87.2 64.8 \r\nz\r\n\" style=\"fill:#eaeaf2;\"/>\r\n   </g>\r\n   <g id=\"matplotlib.axis_1\">\r\n    <g id=\"xtick_1\">\r\n     <g id=\"line2d_1\">\r\n      <path clip-path=\"url(#p7d4a7bff17)\" d=\"M 87.2 499.68 \r\nL 87.2 64.8 \r\n\" style=\"fill:none;stroke:#ffffff;stroke-linecap:round;stroke-width:0.8;\"/>\r\n     </g>\r\n     <g id=\"text_1\">\r\n      <!-- 0 -->\r\n      <g style=\"fill:#262626;\" transform=\"translate(84.419531 513.837813)scale(0.1 -0.1)\">\r\n       <defs>\r\n        <path d=\"M 266 2259 \r\nQ 266 3072 433 3567 \r\nQ 600 4063 929 4331 \r\nQ 1259 4600 1759 4600 \r\nQ 2128 4600 2406 4451 \r\nQ 2684 4303 2865 4023 \r\nQ 3047 3744 3150 3342 \r\nQ 3253 2941 3253 2259 \r\nQ 3253 1453 3087 958 \r\nQ 2922 463 2592 192 \r\nQ 2263 -78 1759 -78 \r\nQ 1097 -78 719 397 \r\nQ 266 969 266 2259 \r\nz\r\nM 844 2259 \r\nQ 844 1131 1108 757 \r\nQ 1372 384 1759 384 \r\nQ 2147 384 2411 759 \r\nQ 2675 1134 2675 2259 \r\nQ 2675 3391 2411 3762 \r\nQ 2147 4134 1753 4134 \r\nQ 1366 4134 1134 3806 \r\nQ 844 3388 844 2259 \r\nz\r\n\" id=\"ArialMT-30\" transform=\"scale(0.015625)\"/>\r\n       </defs>\r\n       <use xlink:href=\"#ArialMT-30\"/>\r\n      </g>\r\n     </g>\r\n    </g>\r\n    <g id=\"xtick_2\">\r\n     <g id=\"line2d_2\">\r\n      <path clip-path=\"url(#p7d4a7bff17)\" d=\"M 218.996592 499.68 \r\nL 218.996592 64.8 \r\n\" style=\"fill:none;stroke:#ffffff;stroke-linecap:round;stroke-width:0.8;\"/>\r\n     </g>\r\n     <g id=\"text_2\">\r\n      <!-- 2000 -->\r\n      <g style=\"fill:#262626;\" transform=\"translate(207.874717 513.837813)scale(0.1 -0.1)\">\r\n       <defs>\r\n        <path d=\"M 3222 541 \r\nL 3222 0 \r\nL 194 0 \r\nQ 188 203 259 391 \r\nQ 375 700 629 1000 \r\nQ 884 1300 1366 1694 \r\nQ 2113 2306 2375 2664 \r\nQ 2638 3022 2638 3341 \r\nQ 2638 3675 2398 3904 \r\nQ 2159 4134 1775 4134 \r\nQ 1369 4134 1125 3890 \r\nQ 881 3647 878 3216 \r\nL 300 3275 \r\nQ 359 3922 746 4261 \r\nQ 1134 4600 1788 4600 \r\nQ 2447 4600 2831 4234 \r\nQ 3216 3869 3216 3328 \r\nQ 3216 3053 3103 2787 \r\nQ 2991 2522 2730 2228 \r\nQ 2469 1934 1863 1422 \r\nQ 1356 997 1212 845 \r\nQ 1069 694 975 541 \r\nL 3222 541 \r\nz\r\n\" id=\"ArialMT-32\" transform=\"scale(0.015625)\"/>\r\n       </defs>\r\n       <use xlink:href=\"#ArialMT-32\"/>\r\n       <use x=\"55.615234\" xlink:href=\"#ArialMT-30\"/>\r\n       <use x=\"111.230469\" xlink:href=\"#ArialMT-30\"/>\r\n       <use x=\"166.845703\" xlink:href=\"#ArialMT-30\"/>\r\n      </g>\r\n     </g>\r\n    </g>\r\n    <g id=\"xtick_3\">\r\n     <g id=\"line2d_3\">\r\n      <path clip-path=\"url(#p7d4a7bff17)\" d=\"M 350.793184 499.68 \r\nL 350.793184 64.8 \r\n\" style=\"fill:none;stroke:#ffffff;stroke-linecap:round;stroke-width:0.8;\"/>\r\n     </g>\r\n     <g id=\"text_3\">\r\n      <!-- 4000 -->\r\n      <g style=\"fill:#262626;\" transform=\"translate(339.671309 513.837813)scale(0.1 -0.1)\">\r\n       <defs>\r\n        <path d=\"M 2069 0 \r\nL 2069 1097 \r\nL 81 1097 \r\nL 81 1613 \r\nL 2172 4581 \r\nL 2631 4581 \r\nL 2631 1613 \r\nL 3250 1613 \r\nL 3250 1097 \r\nL 2631 1097 \r\nL 2631 0 \r\nL 2069 0 \r\nz\r\nM 2069 1613 \r\nL 2069 3678 \r\nL 634 1613 \r\nL 2069 1613 \r\nz\r\n\" id=\"ArialMT-34\" transform=\"scale(0.015625)\"/>\r\n       </defs>\r\n       <use xlink:href=\"#ArialMT-34\"/>\r\n       <use x=\"55.615234\" xlink:href=\"#ArialMT-30\"/>\r\n       <use x=\"111.230469\" xlink:href=\"#ArialMT-30\"/>\r\n       <use x=\"166.845703\" xlink:href=\"#ArialMT-30\"/>\r\n      </g>\r\n     </g>\r\n    </g>\r\n    <g id=\"xtick_4\">\r\n     <g id=\"line2d_4\">\r\n      <path clip-path=\"url(#p7d4a7bff17)\" d=\"M 482.589776 499.68 \r\nL 482.589776 64.8 \r\n\" style=\"fill:none;stroke:#ffffff;stroke-linecap:round;stroke-width:0.8;\"/>\r\n     </g>\r\n     <g id=\"text_4\">\r\n      <!-- 6000 -->\r\n      <g style=\"fill:#262626;\" transform=\"translate(471.467901 513.837813)scale(0.1 -0.1)\">\r\n       <defs>\r\n        <path d=\"M 3184 3459 \r\nL 2625 3416 \r\nQ 2550 3747 2413 3897 \r\nQ 2184 4138 1850 4138 \r\nQ 1581 4138 1378 3988 \r\nQ 1113 3794 959 3422 \r\nQ 806 3050 800 2363 \r\nQ 1003 2672 1297 2822 \r\nQ 1591 2972 1913 2972 \r\nQ 2475 2972 2870 2558 \r\nQ 3266 2144 3266 1488 \r\nQ 3266 1056 3080 686 \r\nQ 2894 316 2569 119 \r\nQ 2244 -78 1831 -78 \r\nQ 1128 -78 684 439 \r\nQ 241 956 241 2144 \r\nQ 241 3472 731 4075 \r\nQ 1159 4600 1884 4600 \r\nQ 2425 4600 2770 4297 \r\nQ 3116 3994 3184 3459 \r\nz\r\nM 888 1484 \r\nQ 888 1194 1011 928 \r\nQ 1134 663 1356 523 \r\nQ 1578 384 1822 384 \r\nQ 2178 384 2434 671 \r\nQ 2691 959 2691 1453 \r\nQ 2691 1928 2437 2201 \r\nQ 2184 2475 1800 2475 \r\nQ 1419 2475 1153 2201 \r\nQ 888 1928 888 1484 \r\nz\r\n\" id=\"ArialMT-36\" transform=\"scale(0.015625)\"/>\r\n       </defs>\r\n       <use xlink:href=\"#ArialMT-36\"/>\r\n       <use x=\"55.615234\" xlink:href=\"#ArialMT-30\"/>\r\n       <use x=\"111.230469\" xlink:href=\"#ArialMT-30\"/>\r\n       <use x=\"166.845703\" xlink:href=\"#ArialMT-30\"/>\r\n      </g>\r\n     </g>\r\n    </g>\r\n    <g id=\"xtick_5\">\r\n     <g id=\"line2d_5\">\r\n      <path clip-path=\"url(#p7d4a7bff17)\" d=\"M 614.386369 499.68 \r\nL 614.386369 64.8 \r\n\" style=\"fill:none;stroke:#ffffff;stroke-linecap:round;stroke-width:0.8;\"/>\r\n     </g>\r\n     <g id=\"text_5\">\r\n      <!-- 8000 -->\r\n      <g style=\"fill:#262626;\" transform=\"translate(603.264494 513.837813)scale(0.1 -0.1)\">\r\n       <defs>\r\n        <path d=\"M 1131 2484 \r\nQ 781 2613 612 2850 \r\nQ 444 3088 444 3419 \r\nQ 444 3919 803 4259 \r\nQ 1163 4600 1759 4600 \r\nQ 2359 4600 2725 4251 \r\nQ 3091 3903 3091 3403 \r\nQ 3091 3084 2923 2848 \r\nQ 2756 2613 2416 2484 \r\nQ 2838 2347 3058 2040 \r\nQ 3278 1734 3278 1309 \r\nQ 3278 722 2862 322 \r\nQ 2447 -78 1769 -78 \r\nQ 1091 -78 675 323 \r\nQ 259 725 259 1325 \r\nQ 259 1772 486 2073 \r\nQ 713 2375 1131 2484 \r\nz\r\nM 1019 3438 \r\nQ 1019 3113 1228 2906 \r\nQ 1438 2700 1772 2700 \r\nQ 2097 2700 2305 2904 \r\nQ 2513 3109 2513 3406 \r\nQ 2513 3716 2298 3927 \r\nQ 2084 4138 1766 4138 \r\nQ 1444 4138 1231 3931 \r\nQ 1019 3725 1019 3438 \r\nz\r\nM 838 1322 \r\nQ 838 1081 952 856 \r\nQ 1066 631 1291 507 \r\nQ 1516 384 1775 384 \r\nQ 2178 384 2440 643 \r\nQ 2703 903 2703 1303 \r\nQ 2703 1709 2433 1975 \r\nQ 2163 2241 1756 2241 \r\nQ 1359 2241 1098 1978 \r\nQ 838 1716 838 1322 \r\nz\r\n\" id=\"ArialMT-38\" transform=\"scale(0.015625)\"/>\r\n       </defs>\r\n       <use xlink:href=\"#ArialMT-38\"/>\r\n       <use x=\"55.615234\" xlink:href=\"#ArialMT-30\"/>\r\n       <use x=\"111.230469\" xlink:href=\"#ArialMT-30\"/>\r\n       <use x=\"166.845703\" xlink:href=\"#ArialMT-30\"/>\r\n      </g>\r\n     </g>\r\n    </g>\r\n    <g id=\"xtick_6\">\r\n     <g id=\"line2d_6\">\r\n      <path clip-path=\"url(#p7d4a7bff17)\" d=\"M 746.182961 499.68 \r\nL 746.182961 64.8 \r\n\" style=\"fill:none;stroke:#ffffff;stroke-linecap:round;stroke-width:0.8;\"/>\r\n     </g>\r\n     <g id=\"text_6\">\r\n      <!-- 10000 -->\r\n      <g style=\"fill:#262626;\" transform=\"translate(732.280617 513.837813)scale(0.1 -0.1)\">\r\n       <defs>\r\n        <path d=\"M 2384 0 \r\nL 1822 0 \r\nL 1822 3584 \r\nQ 1619 3391 1289 3197 \r\nQ 959 3003 697 2906 \r\nL 697 3450 \r\nQ 1169 3672 1522 3987 \r\nQ 1875 4303 2022 4600 \r\nL 2384 4600 \r\nL 2384 0 \r\nz\r\n\" id=\"ArialMT-31\" transform=\"scale(0.015625)\"/>\r\n       </defs>\r\n       <use xlink:href=\"#ArialMT-31\"/>\r\n       <use x=\"55.615234\" xlink:href=\"#ArialMT-30\"/>\r\n       <use x=\"111.230469\" xlink:href=\"#ArialMT-30\"/>\r\n       <use x=\"166.845703\" xlink:href=\"#ArialMT-30\"/>\r\n       <use x=\"222.460938\" xlink:href=\"#ArialMT-30\"/>\r\n      </g>\r\n     </g>\r\n    </g>\r\n    <g id=\"xtick_7\">\r\n     <g id=\"line2d_7\">\r\n      <path clip-path=\"url(#p7d4a7bff17)\" d=\"M 877.979553 499.68 \r\nL 877.979553 64.8 \r\n\" style=\"fill:none;stroke:#ffffff;stroke-linecap:round;stroke-width:0.8;\"/>\r\n     </g>\r\n     <g id=\"text_7\">\r\n      <!-- 12000 -->\r\n      <g style=\"fill:#262626;\" transform=\"translate(864.077209 513.837813)scale(0.1 -0.1)\">\r\n       <use xlink:href=\"#ArialMT-31\"/>\r\n       <use x=\"55.615234\" xlink:href=\"#ArialMT-32\"/>\r\n       <use x=\"111.230469\" xlink:href=\"#ArialMT-30\"/>\r\n       <use x=\"166.845703\" xlink:href=\"#ArialMT-30\"/>\r\n       <use x=\"222.460938\" xlink:href=\"#ArialMT-30\"/>\r\n      </g>\r\n     </g>\r\n    </g>\r\n   </g>\r\n   <g id=\"matplotlib.axis_2\">\r\n    <g id=\"ytick_1\">\r\n     <g id=\"text_8\">\r\n      <!-- Q3fy20-Q4fy20 -->\r\n      <g style=\"fill:#262626;\" transform=\"translate(12.392188 111.930969)scale(0.1 -0.1)\">\r\n       <defs>\r\n        <path d=\"M 3966 491 \r\nQ 4388 200 4744 66 \r\nL 4566 -356 \r\nQ 4072 -178 3581 206 \r\nQ 3072 -78 2456 -78 \r\nQ 1834 -78 1328 222 \r\nQ 822 522 548 1065 \r\nQ 275 1609 275 2291 \r\nQ 275 2969 550 3525 \r\nQ 825 4081 1333 4372 \r\nQ 1841 4663 2469 4663 \r\nQ 3103 4663 3612 4361 \r\nQ 4122 4059 4389 3517 \r\nQ 4656 2975 4656 2294 \r\nQ 4656 1728 4484 1276 \r\nQ 4313 825 3966 491 \r\nz\r\nM 2631 1266 \r\nQ 3156 1119 3497 828 \r\nQ 4031 1316 4031 2294 \r\nQ 4031 2850 3842 3265 \r\nQ 3653 3681 3289 3911 \r\nQ 2925 4141 2472 4141 \r\nQ 1794 4141 1347 3677 \r\nQ 900 3213 900 2291 \r\nQ 900 1397 1342 919 \r\nQ 1784 441 2472 441 \r\nQ 2797 441 3084 563 \r\nQ 2800 747 2484 825 \r\nL 2631 1266 \r\nz\r\n\" id=\"ArialMT-51\" transform=\"scale(0.015625)\"/>\r\n        <path d=\"M 269 1209 \r\nL 831 1284 \r\nQ 928 806 1161 595 \r\nQ 1394 384 1728 384 \r\nQ 2125 384 2398 659 \r\nQ 2672 934 2672 1341 \r\nQ 2672 1728 2419 1979 \r\nQ 2166 2231 1775 2231 \r\nQ 1616 2231 1378 2169 \r\nL 1441 2663 \r\nQ 1497 2656 1531 2656 \r\nQ 1891 2656 2178 2843 \r\nQ 2466 3031 2466 3422 \r\nQ 2466 3731 2256 3934 \r\nQ 2047 4138 1716 4138 \r\nQ 1388 4138 1169 3931 \r\nQ 950 3725 888 3313 \r\nL 325 3413 \r\nQ 428 3978 793 4289 \r\nQ 1159 4600 1703 4600 \r\nQ 2078 4600 2393 4439 \r\nQ 2709 4278 2876 4000 \r\nQ 3044 3722 3044 3409 \r\nQ 3044 3113 2884 2869 \r\nQ 2725 2625 2413 2481 \r\nQ 2819 2388 3044 2092 \r\nQ 3269 1797 3269 1353 \r\nQ 3269 753 2831 336 \r\nQ 2394 -81 1725 -81 \r\nQ 1122 -81 723 278 \r\nQ 325 638 269 1209 \r\nz\r\n\" id=\"ArialMT-33\" transform=\"scale(0.015625)\"/>\r\n        <path d=\"M 556 0 \r\nL 556 2881 \r\nL 59 2881 \r\nL 59 3319 \r\nL 556 3319 \r\nL 556 3672 \r\nQ 556 4006 616 4169 \r\nQ 697 4388 901 4523 \r\nQ 1106 4659 1475 4659 \r\nQ 1713 4659 2000 4603 \r\nL 1916 4113 \r\nQ 1741 4144 1584 4144 \r\nQ 1328 4144 1222 4034 \r\nQ 1116 3925 1116 3625 \r\nL 1116 3319 \r\nL 1763 3319 \r\nL 1763 2881 \r\nL 1116 2881 \r\nL 1116 0 \r\nL 556 0 \r\nz\r\n\" id=\"ArialMT-66\" transform=\"scale(0.015625)\"/>\r\n        <path d=\"M 397 -1278 \r\nL 334 -750 \r\nQ 519 -800 656 -800 \r\nQ 844 -800 956 -737 \r\nQ 1069 -675 1141 -563 \r\nQ 1194 -478 1313 -144 \r\nQ 1328 -97 1363 -6 \r\nL 103 3319 \r\nL 709 3319 \r\nL 1400 1397 \r\nQ 1534 1031 1641 628 \r\nQ 1738 1016 1872 1384 \r\nL 2581 3319 \r\nL 3144 3319 \r\nL 1881 -56 \r\nQ 1678 -603 1566 -809 \r\nQ 1416 -1088 1222 -1217 \r\nQ 1028 -1347 759 -1347 \r\nQ 597 -1347 397 -1278 \r\nz\r\n\" id=\"ArialMT-79\" transform=\"scale(0.015625)\"/>\r\n        <path d=\"M 203 1375 \r\nL 203 1941 \r\nL 1931 1941 \r\nL 1931 1375 \r\nL 203 1375 \r\nz\r\n\" id=\"ArialMT-2d\" transform=\"scale(0.015625)\"/>\r\n       </defs>\r\n       <use xlink:href=\"#ArialMT-51\"/>\r\n       <use x=\"77.783203\" xlink:href=\"#ArialMT-33\"/>\r\n       <use x=\"133.398438\" xlink:href=\"#ArialMT-66\"/>\r\n       <use x=\"161.181641\" xlink:href=\"#ArialMT-79\"/>\r\n       <use x=\"211.181641\" xlink:href=\"#ArialMT-32\"/>\r\n       <use x=\"266.796875\" xlink:href=\"#ArialMT-30\"/>\r\n       <use x=\"322.412109\" xlink:href=\"#ArialMT-2d\"/>\r\n       <use x=\"355.712891\" xlink:href=\"#ArialMT-51\"/>\r\n       <use x=\"433.496094\" xlink:href=\"#ArialMT-34\"/>\r\n       <use x=\"489.111328\" xlink:href=\"#ArialMT-66\"/>\r\n       <use x=\"516.894531\" xlink:href=\"#ArialMT-79\"/>\r\n       <use x=\"566.894531\" xlink:href=\"#ArialMT-32\"/>\r\n       <use x=\"622.509766\" xlink:href=\"#ArialMT-30\"/>\r\n      </g>\r\n     </g>\r\n    </g>\r\n    <g id=\"ytick_2\">\r\n     <g id=\"text_9\">\r\n      <!-- FY21Q1 -->\r\n      <g style=\"fill:#262626;\" transform=\"translate(42.960938 198.842906)scale(0.1 -0.1)\">\r\n       <defs>\r\n        <path d=\"M 525 0 \r\nL 525 4581 \r\nL 3616 4581 \r\nL 3616 4041 \r\nL 1131 4041 \r\nL 1131 2622 \r\nL 3281 2622 \r\nL 3281 2081 \r\nL 1131 2081 \r\nL 1131 0 \r\nL 525 0 \r\nz\r\n\" id=\"ArialMT-46\" transform=\"scale(0.015625)\"/>\r\n        <path d=\"M 1784 0 \r\nL 1784 1941 \r\nL 19 4581 \r\nL 756 4581 \r\nL 1659 3200 \r\nQ 1909 2813 2125 2425 \r\nQ 2331 2784 2625 3234 \r\nL 3513 4581 \r\nL 4219 4581 \r\nL 2391 1941 \r\nL 2391 0 \r\nL 1784 0 \r\nz\r\n\" id=\"ArialMT-59\" transform=\"scale(0.015625)\"/>\r\n       </defs>\r\n       <use xlink:href=\"#ArialMT-46\"/>\r\n       <use x=\"61.083984\" xlink:href=\"#ArialMT-59\"/>\r\n       <use x=\"127.783203\" xlink:href=\"#ArialMT-32\"/>\r\n       <use x=\"183.398438\" xlink:href=\"#ArialMT-31\"/>\r\n       <use x=\"239.013672\" xlink:href=\"#ArialMT-51\"/>\r\n       <use x=\"316.796875\" xlink:href=\"#ArialMT-31\"/>\r\n      </g>\r\n     </g>\r\n    </g>\r\n    <g id=\"ytick_3\">\r\n     <g id=\"text_10\">\r\n      <!-- FY21Q2 -->\r\n      <g style=\"fill:#262626;\" transform=\"translate(42.960938 285.818906)scale(0.1 -0.1)\">\r\n       <use xlink:href=\"#ArialMT-46\"/>\r\n       <use x=\"61.083984\" xlink:href=\"#ArialMT-59\"/>\r\n       <use x=\"127.783203\" xlink:href=\"#ArialMT-32\"/>\r\n       <use x=\"183.398438\" xlink:href=\"#ArialMT-31\"/>\r\n       <use x=\"239.013672\" xlink:href=\"#ArialMT-51\"/>\r\n       <use x=\"316.796875\" xlink:href=\"#ArialMT-32\"/>\r\n      </g>\r\n     </g>\r\n    </g>\r\n    <g id=\"ytick_4\">\r\n     <g id=\"text_11\">\r\n      <!-- FY21Q3 -->\r\n      <g style=\"fill:#262626;\" transform=\"translate(42.960938 372.794906)scale(0.1 -0.1)\">\r\n       <use xlink:href=\"#ArialMT-46\"/>\r\n       <use x=\"61.083984\" xlink:href=\"#ArialMT-59\"/>\r\n       <use x=\"127.783203\" xlink:href=\"#ArialMT-32\"/>\r\n       <use x=\"183.398438\" xlink:href=\"#ArialMT-31\"/>\r\n       <use x=\"239.013672\" xlink:href=\"#ArialMT-51\"/>\r\n       <use x=\"316.796875\" xlink:href=\"#ArialMT-33\"/>\r\n      </g>\r\n     </g>\r\n    </g>\r\n    <g id=\"ytick_5\">\r\n     <g id=\"text_12\">\r\n      <!-- FY21Q4 -->\r\n      <g style=\"fill:#262626;\" transform=\"translate(42.960938 459.770906)scale(0.1 -0.1)\">\r\n       <use xlink:href=\"#ArialMT-46\"/>\r\n       <use x=\"61.083984\" xlink:href=\"#ArialMT-59\"/>\r\n       <use x=\"127.783203\" xlink:href=\"#ArialMT-32\"/>\r\n       <use x=\"183.398438\" xlink:href=\"#ArialMT-31\"/>\r\n       <use x=\"239.013672\" xlink:href=\"#ArialMT-51\"/>\r\n       <use x=\"316.796875\" xlink:href=\"#ArialMT-34\"/>\r\n      </g>\r\n     </g>\r\n    </g>\r\n   </g>\r\n   <g id=\"patch_3\">\r\n    <path clip-path=\"url(#p7d4a7bff17)\" d=\"M 87.2 73.4976 \r\nL 937.485714 73.4976 \r\nL 937.485714 143.0784 \r\nL 87.2 143.0784 \r\nz\r\n\" style=\"fill:#3274a1;stroke:#ffffff;stroke-linejoin:miter;\"/>\r\n   </g>\r\n   <g id=\"patch_4\">\r\n    <path clip-path=\"url(#p7d4a7bff17)\" d=\"M 87.2 160.4736 \r\nL 242.983572 160.4736 \r\nL 242.983572 230.0544 \r\nL 87.2 230.0544 \r\nz\r\n\" style=\"fill:#e1812c;stroke:#ffffff;stroke-linejoin:miter;\"/>\r\n   </g>\r\n   <g id=\"patch_5\">\r\n    <path clip-path=\"url(#p7d4a7bff17)\" d=\"M 87.2 247.4496 \r\nL 201.335849 247.4496 \r\nL 201.335849 317.0304 \r\nL 87.2 317.0304 \r\nz\r\n\" style=\"fill:#3a923a;stroke:#ffffff;stroke-linejoin:miter;\"/>\r\n   </g>\r\n   <g id=\"patch_6\">\r\n    <path clip-path=\"url(#p7d4a7bff17)\" d=\"M 87.2 334.4256 \r\nL 156.656804 334.4256 \r\nL 156.656804 404.0064 \r\nL 87.2 404.0064 \r\nz\r\n\" style=\"fill:#c03d3e;stroke:#ffffff;stroke-linejoin:miter;\"/>\r\n   </g>\r\n   <g id=\"patch_7\">\r\n    <path clip-path=\"url(#p7d4a7bff17)\" d=\"M 87.2 421.4016 \r\nL 106.046913 421.4016 \r\nL 106.046913 490.9824 \r\nL 87.2 490.9824 \r\nz\r\n\" style=\"fill:#9372b2;stroke:#ffffff;stroke-linejoin:miter;\"/>\r\n   </g>\r\n   <g id=\"line2d_8\">\r\n    <path clip-path=\"url(#p7d4a7bff17)\" d=\"M 0 0 \r\n\" style=\"fill:none;stroke:#424242;stroke-linecap:round;stroke-width:2.7;\"/>\r\n   </g>\r\n   <g id=\"line2d_9\">\r\n    <path clip-path=\"url(#p7d4a7bff17)\" d=\"M 0 0 \r\n\" style=\"fill:none;stroke:#424242;stroke-linecap:round;stroke-width:2.7;\"/>\r\n   </g>\r\n   <g id=\"line2d_10\">\r\n    <path clip-path=\"url(#p7d4a7bff17)\" d=\"M 0 0 \r\n\" style=\"fill:none;stroke:#424242;stroke-linecap:round;stroke-width:2.7;\"/>\r\n   </g>\r\n   <g id=\"line2d_11\">\r\n    <path clip-path=\"url(#p7d4a7bff17)\" d=\"M 0 0 \r\n\" style=\"fill:none;stroke:#424242;stroke-linecap:round;stroke-width:2.7;\"/>\r\n   </g>\r\n   <g id=\"line2d_12\">\r\n    <path clip-path=\"url(#p7d4a7bff17)\" d=\"M 0 0 \r\n\" style=\"fill:none;stroke:#424242;stroke-linecap:round;stroke-width:2.7;\"/>\r\n   </g>\r\n   <g id=\"patch_8\">\r\n    <path d=\"M 87.2 499.68 \r\nL 87.2 64.8 \r\n\" style=\"fill:none;stroke:#ffffff;stroke-linecap:square;stroke-linejoin:miter;stroke-width:0.8;\"/>\r\n   </g>\r\n   <g id=\"patch_9\">\r\n    <path d=\"M 980 499.68 \r\nL 980 64.8 \r\n\" style=\"fill:none;stroke:#ffffff;stroke-linecap:square;stroke-linejoin:miter;stroke-width:0.8;\"/>\r\n   </g>\r\n   <g id=\"patch_10\">\r\n    <path d=\"M 87.2 499.68 \r\nL 980 499.68 \r\n\" style=\"fill:none;stroke:#ffffff;stroke-linecap:square;stroke-linejoin:miter;stroke-width:0.8;\"/>\r\n   </g>\r\n   <g id=\"patch_11\">\r\n    <path d=\"M 87.2 64.8 \r\nL 980 64.8 \r\n\" style=\"fill:none;stroke:#ffffff;stroke-linecap:square;stroke-linejoin:miter;stroke-width:0.8;\"/>\r\n   </g>\r\n   <g id=\"text_13\">\r\n    <!-- 12903 -->\r\n    <g style=\"fill:#ff0000;\" transform=\"translate(937.617511 108.288)scale(0.12 -0.12)\">\r\n     <defs>\r\n      <path d=\"M 350 1059 \r\nL 891 1109 \r\nQ 959 728 1153 556 \r\nQ 1347 384 1650 384 \r\nQ 1909 384 2104 503 \r\nQ 2300 622 2425 820 \r\nQ 2550 1019 2634 1356 \r\nQ 2719 1694 2719 2044 \r\nQ 2719 2081 2716 2156 \r\nQ 2547 1888 2255 1720 \r\nQ 1963 1553 1622 1553 \r\nQ 1053 1553 659 1965 \r\nQ 266 2378 266 3053 \r\nQ 266 3750 677 4175 \r\nQ 1088 4600 1706 4600 \r\nQ 2153 4600 2523 4359 \r\nQ 2894 4119 3086 3673 \r\nQ 3278 3228 3278 2384 \r\nQ 3278 1506 3087 986 \r\nQ 2897 466 2520 194 \r\nQ 2144 -78 1638 -78 \r\nQ 1100 -78 759 220 \r\nQ 419 519 350 1059 \r\nz\r\nM 2653 3081 \r\nQ 2653 3566 2395 3850 \r\nQ 2138 4134 1775 4134 \r\nQ 1400 4134 1122 3828 \r\nQ 844 3522 844 3034 \r\nQ 844 2597 1108 2323 \r\nQ 1372 2050 1759 2050 \r\nQ 2150 2050 2401 2323 \r\nQ 2653 2597 2653 3081 \r\nz\r\n\" id=\"ArialMT-39\" transform=\"scale(0.015625)\"/>\r\n     </defs>\r\n     <use xlink:href=\"#ArialMT-31\"/>\r\n     <use x=\"55.615234\" xlink:href=\"#ArialMT-32\"/>\r\n     <use x=\"111.230469\" xlink:href=\"#ArialMT-39\"/>\r\n     <use x=\"166.845703\" xlink:href=\"#ArialMT-30\"/>\r\n     <use x=\"222.460938\" xlink:href=\"#ArialMT-33\"/>\r\n    </g>\r\n   </g>\r\n   <g id=\"text_14\">\r\n    <!-- 2364 -->\r\n    <g style=\"fill:#ff0000;\" transform=\"translate(243.115369 195.264)scale(0.12 -0.12)\">\r\n     <use xlink:href=\"#ArialMT-32\"/>\r\n     <use x=\"55.615234\" xlink:href=\"#ArialMT-33\"/>\r\n     <use x=\"111.230469\" xlink:href=\"#ArialMT-36\"/>\r\n     <use x=\"166.845703\" xlink:href=\"#ArialMT-34\"/>\r\n    </g>\r\n   </g>\r\n   <g id=\"text_15\">\r\n    <!-- 1732 -->\r\n    <g style=\"fill:#ff0000;\" transform=\"translate(201.467645 282.24)scale(0.12 -0.12)\">\r\n     <defs>\r\n      <path d=\"M 303 3981 \r\nL 303 4522 \r\nL 3269 4522 \r\nL 3269 4084 \r\nQ 2831 3619 2401 2847 \r\nQ 1972 2075 1738 1259 \r\nQ 1569 684 1522 0 \r\nL 944 0 \r\nQ 953 541 1156 1306 \r\nQ 1359 2072 1739 2783 \r\nQ 2119 3494 2547 3981 \r\nL 303 3981 \r\nz\r\n\" id=\"ArialMT-37\" transform=\"scale(0.015625)\"/>\r\n     </defs>\r\n     <use xlink:href=\"#ArialMT-31\"/>\r\n     <use x=\"55.615234\" xlink:href=\"#ArialMT-37\"/>\r\n     <use x=\"111.230469\" xlink:href=\"#ArialMT-33\"/>\r\n     <use x=\"166.845703\" xlink:href=\"#ArialMT-32\"/>\r\n    </g>\r\n   </g>\r\n   <g id=\"text_16\">\r\n    <!-- 1054 -->\r\n    <g style=\"fill:#ff0000;\" transform=\"translate(156.788601 369.216)scale(0.12 -0.12)\">\r\n     <defs>\r\n      <path d=\"M 266 1200 \r\nL 856 1250 \r\nQ 922 819 1161 601 \r\nQ 1400 384 1738 384 \r\nQ 2144 384 2425 690 \r\nQ 2706 997 2706 1503 \r\nQ 2706 1984 2436 2262 \r\nQ 2166 2541 1728 2541 \r\nQ 1456 2541 1237 2417 \r\nQ 1019 2294 894 2097 \r\nL 366 2166 \r\nL 809 4519 \r\nL 3088 4519 \r\nL 3088 3981 \r\nL 1259 3981 \r\nL 1013 2750 \r\nQ 1425 3038 1878 3038 \r\nQ 2478 3038 2890 2622 \r\nQ 3303 2206 3303 1553 \r\nQ 3303 931 2941 478 \r\nQ 2500 -78 1738 -78 \r\nQ 1113 -78 717 272 \r\nQ 322 622 266 1200 \r\nz\r\n\" id=\"ArialMT-35\" transform=\"scale(0.015625)\"/>\r\n     </defs>\r\n     <use xlink:href=\"#ArialMT-31\"/>\r\n     <use x=\"55.615234\" xlink:href=\"#ArialMT-30\"/>\r\n     <use x=\"111.230469\" xlink:href=\"#ArialMT-35\"/>\r\n     <use x=\"166.845703\" xlink:href=\"#ArialMT-34\"/>\r\n    </g>\r\n   </g>\r\n   <g id=\"text_17\">\r\n    <!-- 286 -->\r\n    <g style=\"fill:#ff0000;\" transform=\"translate(106.178709 456.192)scale(0.12 -0.12)\">\r\n     <use xlink:href=\"#ArialMT-32\"/>\r\n     <use x=\"55.615234\" xlink:href=\"#ArialMT-38\"/>\r\n     <use x=\"111.230469\" xlink:href=\"#ArialMT-36\"/>\r\n    </g>\r\n   </g>\r\n   <g id=\"text_18\">\r\n    <!-- source: HIVHaiti -->\r\n    <g style=\"fill:#262626;\" transform=\"translate(7.2 526.837813)scale(0.1 -0.1)\">\r\n     <defs>\r\n      <path d=\"M 197 991 \r\nL 753 1078 \r\nQ 800 744 1014 566 \r\nQ 1228 388 1613 388 \r\nQ 2000 388 2187 545 \r\nQ 2375 703 2375 916 \r\nQ 2375 1106 2209 1216 \r\nQ 2094 1291 1634 1406 \r\nQ 1016 1563 777 1677 \r\nQ 538 1791 414 1992 \r\nQ 291 2194 291 2438 \r\nQ 291 2659 392 2848 \r\nQ 494 3038 669 3163 \r\nQ 800 3259 1026 3326 \r\nQ 1253 3394 1513 3394 \r\nQ 1903 3394 2198 3281 \r\nQ 2494 3169 2634 2976 \r\nQ 2775 2784 2828 2463 \r\nL 2278 2388 \r\nQ 2241 2644 2061 2787 \r\nQ 1881 2931 1553 2931 \r\nQ 1166 2931 1000 2803 \r\nQ 834 2675 834 2503 \r\nQ 834 2394 903 2306 \r\nQ 972 2216 1119 2156 \r\nQ 1203 2125 1616 2013 \r\nQ 2213 1853 2448 1751 \r\nQ 2684 1650 2818 1456 \r\nQ 2953 1263 2953 975 \r\nQ 2953 694 2789 445 \r\nQ 2625 197 2315 61 \r\nQ 2006 -75 1616 -75 \r\nQ 969 -75 630 194 \r\nQ 291 463 197 991 \r\nz\r\n\" id=\"ArialMT-73\" transform=\"scale(0.015625)\"/>\r\n      <path d=\"M 213 1659 \r\nQ 213 2581 725 3025 \r\nQ 1153 3394 1769 3394 \r\nQ 2453 3394 2887 2945 \r\nQ 3322 2497 3322 1706 \r\nQ 3322 1066 3130 698 \r\nQ 2938 331 2570 128 \r\nQ 2203 -75 1769 -75 \r\nQ 1072 -75 642 372 \r\nQ 213 819 213 1659 \r\nz\r\nM 791 1659 \r\nQ 791 1022 1069 705 \r\nQ 1347 388 1769 388 \r\nQ 2188 388 2466 706 \r\nQ 2744 1025 2744 1678 \r\nQ 2744 2294 2464 2611 \r\nQ 2184 2928 1769 2928 \r\nQ 1347 2928 1069 2612 \r\nQ 791 2297 791 1659 \r\nz\r\n\" id=\"ArialMT-6f\" transform=\"scale(0.015625)\"/>\r\n      <path d=\"M 2597 0 \r\nL 2597 488 \r\nQ 2209 -75 1544 -75 \r\nQ 1250 -75 995 37 \r\nQ 741 150 617 320 \r\nQ 494 491 444 738 \r\nQ 409 903 409 1263 \r\nL 409 3319 \r\nL 972 3319 \r\nL 972 1478 \r\nQ 972 1038 1006 884 \r\nQ 1059 663 1231 536 \r\nQ 1403 409 1656 409 \r\nQ 1909 409 2131 539 \r\nQ 2353 669 2445 892 \r\nQ 2538 1116 2538 1541 \r\nL 2538 3319 \r\nL 3100 3319 \r\nL 3100 0 \r\nL 2597 0 \r\nz\r\n\" id=\"ArialMT-75\" transform=\"scale(0.015625)\"/>\r\n      <path d=\"M 416 0 \r\nL 416 3319 \r\nL 922 3319 \r\nL 922 2816 \r\nQ 1116 3169 1280 3281 \r\nQ 1444 3394 1641 3394 \r\nQ 1925 3394 2219 3213 \r\nL 2025 2691 \r\nQ 1819 2813 1613 2813 \r\nQ 1428 2813 1281 2702 \r\nQ 1134 2591 1072 2394 \r\nQ 978 2094 978 1738 \r\nL 978 0 \r\nL 416 0 \r\nz\r\n\" id=\"ArialMT-72\" transform=\"scale(0.015625)\"/>\r\n      <path d=\"M 2588 1216 \r\nL 3141 1144 \r\nQ 3050 572 2676 248 \r\nQ 2303 -75 1759 -75 \r\nQ 1078 -75 664 370 \r\nQ 250 816 250 1647 \r\nQ 250 2184 428 2587 \r\nQ 606 2991 970 3192 \r\nQ 1334 3394 1763 3394 \r\nQ 2303 3394 2647 3120 \r\nQ 2991 2847 3088 2344 \r\nL 2541 2259 \r\nQ 2463 2594 2264 2762 \r\nQ 2066 2931 1784 2931 \r\nQ 1359 2931 1093 2626 \r\nQ 828 2322 828 1663 \r\nQ 828 994 1084 691 \r\nQ 1341 388 1753 388 \r\nQ 2084 388 2306 591 \r\nQ 2528 794 2588 1216 \r\nz\r\n\" id=\"ArialMT-63\" transform=\"scale(0.015625)\"/>\r\n      <path d=\"M 2694 1069 \r\nL 3275 997 \r\nQ 3138 488 2766 206 \r\nQ 2394 -75 1816 -75 \r\nQ 1088 -75 661 373 \r\nQ 234 822 234 1631 \r\nQ 234 2469 665 2931 \r\nQ 1097 3394 1784 3394 \r\nQ 2450 3394 2872 2941 \r\nQ 3294 2488 3294 1666 \r\nQ 3294 1616 3291 1516 \r\nL 816 1516 \r\nQ 847 969 1125 678 \r\nQ 1403 388 1819 388 \r\nQ 2128 388 2347 550 \r\nQ 2566 713 2694 1069 \r\nz\r\nM 847 1978 \r\nL 2700 1978 \r\nQ 2663 2397 2488 2606 \r\nQ 2219 2931 1791 2931 \r\nQ 1403 2931 1139 2672 \r\nQ 875 2413 847 1978 \r\nz\r\n\" id=\"ArialMT-65\" transform=\"scale(0.015625)\"/>\r\n      <path d=\"M 578 2678 \r\nL 578 3319 \r\nL 1219 3319 \r\nL 1219 2678 \r\nL 578 2678 \r\nz\r\nM 578 0 \r\nL 578 641 \r\nL 1219 641 \r\nL 1219 0 \r\nL 578 0 \r\nz\r\n\" id=\"ArialMT-3a\" transform=\"scale(0.015625)\"/>\r\n      <path id=\"ArialMT-20\" transform=\"scale(0.015625)\"/>\r\n      <path d=\"M 513 0 \r\nL 513 4581 \r\nL 1119 4581 \r\nL 1119 2700 \r\nL 3500 2700 \r\nL 3500 4581 \r\nL 4106 4581 \r\nL 4106 0 \r\nL 3500 0 \r\nL 3500 2159 \r\nL 1119 2159 \r\nL 1119 0 \r\nL 513 0 \r\nz\r\n\" id=\"ArialMT-48\" transform=\"scale(0.015625)\"/>\r\n      <path d=\"M 597 0 \r\nL 597 4581 \r\nL 1203 4581 \r\nL 1203 0 \r\nL 597 0 \r\nz\r\n\" id=\"ArialMT-49\" transform=\"scale(0.015625)\"/>\r\n      <path d=\"M 1803 0 \r\nL 28 4581 \r\nL 684 4581 \r\nL 1875 1253 \r\nQ 2019 853 2116 503 \r\nQ 2222 878 2363 1253 \r\nL 3600 4581 \r\nL 4219 4581 \r\nL 2425 0 \r\nL 1803 0 \r\nz\r\n\" id=\"ArialMT-56\" transform=\"scale(0.015625)\"/>\r\n      <path d=\"M 2588 409 \r\nQ 2275 144 1986 34 \r\nQ 1697 -75 1366 -75 \r\nQ 819 -75 525 192 \r\nQ 231 459 231 875 \r\nQ 231 1119 342 1320 \r\nQ 453 1522 633 1644 \r\nQ 813 1766 1038 1828 \r\nQ 1203 1872 1538 1913 \r\nQ 2219 1994 2541 2106 \r\nQ 2544 2222 2544 2253 \r\nQ 2544 2597 2384 2738 \r\nQ 2169 2928 1744 2928 \r\nQ 1347 2928 1158 2789 \r\nQ 969 2650 878 2297 \r\nL 328 2372 \r\nQ 403 2725 575 2942 \r\nQ 747 3159 1072 3276 \r\nQ 1397 3394 1825 3394 \r\nQ 2250 3394 2515 3294 \r\nQ 2781 3194 2906 3042 \r\nQ 3031 2891 3081 2659 \r\nQ 3109 2516 3109 2141 \r\nL 3109 1391 \r\nQ 3109 606 3145 398 \r\nQ 3181 191 3288 0 \r\nL 2700 0 \r\nQ 2613 175 2588 409 \r\nz\r\nM 2541 1666 \r\nQ 2234 1541 1622 1453 \r\nQ 1275 1403 1131 1340 \r\nQ 988 1278 909 1158 \r\nQ 831 1038 831 891 \r\nQ 831 666 1001 516 \r\nQ 1172 366 1500 366 \r\nQ 1825 366 2078 508 \r\nQ 2331 650 2450 897 \r\nQ 2541 1088 2541 1459 \r\nL 2541 1666 \r\nz\r\n\" id=\"ArialMT-61\" transform=\"scale(0.015625)\"/>\r\n      <path d=\"M 425 3934 \r\nL 425 4581 \r\nL 988 4581 \r\nL 988 3934 \r\nL 425 3934 \r\nz\r\nM 425 0 \r\nL 425 3319 \r\nL 988 3319 \r\nL 988 0 \r\nL 425 0 \r\nz\r\n\" id=\"ArialMT-69\" transform=\"scale(0.015625)\"/>\r\n      <path d=\"M 1650 503 \r\nL 1731 6 \r\nQ 1494 -44 1306 -44 \r\nQ 1000 -44 831 53 \r\nQ 663 150 594 308 \r\nQ 525 466 525 972 \r\nL 525 2881 \r\nL 113 2881 \r\nL 113 3319 \r\nL 525 3319 \r\nL 525 4141 \r\nL 1084 4478 \r\nL 1084 3319 \r\nL 1650 3319 \r\nL 1650 2881 \r\nL 1084 2881 \r\nL 1084 941 \r\nQ 1084 700 1114 631 \r\nQ 1144 563 1211 522 \r\nQ 1278 481 1403 481 \r\nQ 1497 481 1650 503 \r\nz\r\n\" id=\"ArialMT-74\" transform=\"scale(0.015625)\"/>\r\n     </defs>\r\n     <use xlink:href=\"#ArialMT-73\"/>\r\n     <use x=\"50\" xlink:href=\"#ArialMT-6f\"/>\r\n     <use x=\"105.615234\" xlink:href=\"#ArialMT-75\"/>\r\n     <use x=\"161.230469\" xlink:href=\"#ArialMT-72\"/>\r\n     <use x=\"194.53125\" xlink:href=\"#ArialMT-63\"/>\r\n     <use x=\"244.53125\" xlink:href=\"#ArialMT-65\"/>\r\n     <use x=\"300.146484\" xlink:href=\"#ArialMT-3a\"/>\r\n     <use x=\"327.929688\" xlink:href=\"#ArialMT-20\"/>\r\n     <use x=\"355.712891\" xlink:href=\"#ArialMT-48\"/>\r\n     <use x=\"427.929688\" xlink:href=\"#ArialMT-49\"/>\r\n     <use x=\"455.712891\" xlink:href=\"#ArialMT-56\"/>\r\n     <use x=\"522.412109\" xlink:href=\"#ArialMT-48\"/>\r\n     <use x=\"594.628906\" xlink:href=\"#ArialMT-61\"/>\r\n     <use x=\"650.244141\" xlink:href=\"#ArialMT-69\"/>\r\n     <use x=\"672.460938\" xlink:href=\"#ArialMT-74\"/>\r\n     <use x=\"700.244141\" xlink:href=\"#ArialMT-69\"/>\r\n    </g>\r\n   </g>\r\n  </g>\r\n  <g id=\"text_19\">\r\n   <!-- AGYW, enrolled since 1 april 2020 -->\r\n   <g style=\"fill:#262626;\" transform=\"translate(427.820938 15.935625)scale(0.12 -0.12)\">\r\n    <defs>\r\n     <path d=\"M -9 0 \r\nL 1750 4581 \r\nL 2403 4581 \r\nL 4278 0 \r\nL 3588 0 \r\nL 3053 1388 \r\nL 1138 1388 \r\nL 634 0 \r\nL -9 0 \r\nz\r\nM 1313 1881 \r\nL 2866 1881 \r\nL 2388 3150 \r\nQ 2169 3728 2063 4100 \r\nQ 1975 3659 1816 3225 \r\nL 1313 1881 \r\nz\r\n\" id=\"ArialMT-41\" transform=\"scale(0.015625)\"/>\r\n     <path d=\"M 2638 1797 \r\nL 2638 2334 \r\nL 4578 2338 \r\nL 4578 638 \r\nQ 4131 281 3656 101 \r\nQ 3181 -78 2681 -78 \r\nQ 2006 -78 1454 211 \r\nQ 903 500 622 1047 \r\nQ 341 1594 341 2269 \r\nQ 341 2938 620 3517 \r\nQ 900 4097 1425 4378 \r\nQ 1950 4659 2634 4659 \r\nQ 3131 4659 3532 4498 \r\nQ 3934 4338 4162 4050 \r\nQ 4391 3763 4509 3300 \r\nL 3963 3150 \r\nQ 3859 3500 3706 3700 \r\nQ 3553 3900 3268 4020 \r\nQ 2984 4141 2638 4141 \r\nQ 2222 4141 1919 4014 \r\nQ 1616 3888 1430 3681 \r\nQ 1244 3475 1141 3228 \r\nQ 966 2803 966 2306 \r\nQ 966 1694 1177 1281 \r\nQ 1388 869 1791 669 \r\nQ 2194 469 2647 469 \r\nQ 3041 469 3416 620 \r\nQ 3791 772 3984 944 \r\nL 3984 1797 \r\nL 2638 1797 \r\nz\r\n\" id=\"ArialMT-47\" transform=\"scale(0.015625)\"/>\r\n     <path d=\"M 1294 0 \r\nL 78 4581 \r\nL 700 4581 \r\nL 1397 1578 \r\nQ 1509 1106 1591 641 \r\nQ 1766 1375 1797 1488 \r\nL 2669 4581 \r\nL 3400 4581 \r\nL 4056 2263 \r\nQ 4303 1400 4413 641 \r\nQ 4500 1075 4641 1638 \r\nL 5359 4581 \r\nL 5969 4581 \r\nL 4713 0 \r\nL 4128 0 \r\nL 3163 3491 \r\nQ 3041 3928 3019 4028 \r\nQ 2947 3713 2884 3491 \r\nL 1913 0 \r\nL 1294 0 \r\nz\r\n\" id=\"ArialMT-57\" transform=\"scale(0.015625)\"/>\r\n     <path d=\"M 569 0 \r\nL 569 641 \r\nL 1209 641 \r\nL 1209 0 \r\nQ 1209 -353 1084 -570 \r\nQ 959 -788 688 -906 \r\nL 531 -666 \r\nQ 709 -588 793 -436 \r\nQ 878 -284 888 0 \r\nL 569 0 \r\nz\r\n\" id=\"ArialMT-2c\" transform=\"scale(0.015625)\"/>\r\n     <path d=\"M 422 0 \r\nL 422 3319 \r\nL 928 3319 \r\nL 928 2847 \r\nQ 1294 3394 1984 3394 \r\nQ 2284 3394 2536 3286 \r\nQ 2788 3178 2913 3003 \r\nQ 3038 2828 3088 2588 \r\nQ 3119 2431 3119 2041 \r\nL 3119 0 \r\nL 2556 0 \r\nL 2556 2019 \r\nQ 2556 2363 2490 2533 \r\nQ 2425 2703 2258 2804 \r\nQ 2091 2906 1866 2906 \r\nQ 1506 2906 1245 2678 \r\nQ 984 2450 984 1813 \r\nL 984 0 \r\nL 422 0 \r\nz\r\n\" id=\"ArialMT-6e\" transform=\"scale(0.015625)\"/>\r\n     <path d=\"M 409 0 \r\nL 409 4581 \r\nL 972 4581 \r\nL 972 0 \r\nL 409 0 \r\nz\r\n\" id=\"ArialMT-6c\" transform=\"scale(0.015625)\"/>\r\n     <path d=\"M 2575 0 \r\nL 2575 419 \r\nQ 2259 -75 1647 -75 \r\nQ 1250 -75 917 144 \r\nQ 584 363 401 755 \r\nQ 219 1147 219 1656 \r\nQ 219 2153 384 2558 \r\nQ 550 2963 881 3178 \r\nQ 1213 3394 1622 3394 \r\nQ 1922 3394 2156 3267 \r\nQ 2391 3141 2538 2938 \r\nL 2538 4581 \r\nL 3097 4581 \r\nL 3097 0 \r\nL 2575 0 \r\nz\r\nM 797 1656 \r\nQ 797 1019 1065 703 \r\nQ 1334 388 1700 388 \r\nQ 2069 388 2326 689 \r\nQ 2584 991 2584 1609 \r\nQ 2584 2291 2321 2609 \r\nQ 2059 2928 1675 2928 \r\nQ 1300 2928 1048 2622 \r\nQ 797 2316 797 1656 \r\nz\r\n\" id=\"ArialMT-64\" transform=\"scale(0.015625)\"/>\r\n     <path d=\"M 422 -1272 \r\nL 422 3319 \r\nL 934 3319 \r\nL 934 2888 \r\nQ 1116 3141 1344 3267 \r\nQ 1572 3394 1897 3394 \r\nQ 2322 3394 2647 3175 \r\nQ 2972 2956 3137 2557 \r\nQ 3303 2159 3303 1684 \r\nQ 3303 1175 3120 767 \r\nQ 2938 359 2589 142 \r\nQ 2241 -75 1856 -75 \r\nQ 1575 -75 1351 44 \r\nQ 1128 163 984 344 \r\nL 984 -1272 \r\nL 422 -1272 \r\nz\r\nM 931 1641 \r\nQ 931 1000 1190 694 \r\nQ 1450 388 1819 388 \r\nQ 2194 388 2461 705 \r\nQ 2728 1022 2728 1688 \r\nQ 2728 2322 2467 2637 \r\nQ 2206 2953 1844 2953 \r\nQ 1484 2953 1207 2617 \r\nQ 931 2281 931 1641 \r\nz\r\n\" id=\"ArialMT-70\" transform=\"scale(0.015625)\"/>\r\n    </defs>\r\n    <use xlink:href=\"#ArialMT-41\"/>\r\n    <use x=\"66.699219\" xlink:href=\"#ArialMT-47\"/>\r\n    <use x=\"144.482422\" xlink:href=\"#ArialMT-59\"/>\r\n    <use x=\"211.181641\" xlink:href=\"#ArialMT-57\"/>\r\n    <use x=\"300.066406\" xlink:href=\"#ArialMT-2c\"/>\r\n    <use x=\"327.849609\" xlink:href=\"#ArialMT-20\"/>\r\n    <use x=\"355.632812\" xlink:href=\"#ArialMT-65\"/>\r\n    <use x=\"411.248047\" xlink:href=\"#ArialMT-6e\"/>\r\n    <use x=\"466.863281\" xlink:href=\"#ArialMT-72\"/>\r\n    <use x=\"500.164062\" xlink:href=\"#ArialMT-6f\"/>\r\n    <use x=\"555.779297\" xlink:href=\"#ArialMT-6c\"/>\r\n    <use x=\"577.996094\" xlink:href=\"#ArialMT-6c\"/>\r\n    <use x=\"600.212891\" xlink:href=\"#ArialMT-65\"/>\r\n    <use x=\"655.828125\" xlink:href=\"#ArialMT-64\"/>\r\n    <use x=\"711.443359\" xlink:href=\"#ArialMT-20\"/>\r\n    <use x=\"739.226562\" xlink:href=\"#ArialMT-73\"/>\r\n    <use x=\"789.226562\" xlink:href=\"#ArialMT-69\"/>\r\n    <use x=\"811.443359\" xlink:href=\"#ArialMT-6e\"/>\r\n    <use x=\"867.058594\" xlink:href=\"#ArialMT-63\"/>\r\n    <use x=\"917.058594\" xlink:href=\"#ArialMT-65\"/>\r\n    <use x=\"972.673828\" xlink:href=\"#ArialMT-20\"/>\r\n    <use x=\"1000.457031\" xlink:href=\"#ArialMT-31\"/>\r\n    <use x=\"1056.072266\" xlink:href=\"#ArialMT-20\"/>\r\n    <use x=\"1083.855469\" xlink:href=\"#ArialMT-61\"/>\r\n    <use x=\"1139.470703\" xlink:href=\"#ArialMT-70\"/>\r\n    <use x=\"1195.085938\" xlink:href=\"#ArialMT-72\"/>\r\n    <use x=\"1228.386719\" xlink:href=\"#ArialMT-69\"/>\r\n    <use x=\"1250.603516\" xlink:href=\"#ArialMT-6c\"/>\r\n    <use x=\"1272.820312\" xlink:href=\"#ArialMT-20\"/>\r\n    <use x=\"1300.603516\" xlink:href=\"#ArialMT-32\"/>\r\n    <use x=\"1356.21875\" xlink:href=\"#ArialMT-30\"/>\r\n    <use x=\"1411.833984\" xlink:href=\"#ArialMT-32\"/>\r\n    <use x=\"1467.449219\" xlink:href=\"#ArialMT-30\"/>\r\n   </g>\r\n  </g>\r\n </g>\r\n <defs>\r\n  <clipPath id=\"p7d4a7bff17\">\r\n   <rect height=\"434.88\" width=\"892.8\" x=\"87.2\" y=\"64.8\"/>\r\n  </clipPath>\r\n </defs>\r\n</svg>\r\n",
      "image/png": "[encoded data removed]"
     },
     "metadata": {
      "needs_background": "light"
     }
    }
   ],
   "metadata": {}
  },
  {
   "cell_type": "markdown",
   "source": [
    "## Curriculum State"
   ],
   "metadata": {}
  },
  {
   "cell_type": "code",
   "execution_count": 9,
   "source": [
    "total_curriculum_completed = df[(df.age_range != \"not_valid_age\")\r\n",
    "   &(df.age_range!=\"25-29\")\r\n",
    "   &(df.timeOn_system==\"required_Time_on\")\r\n",
    "   &(df.dreams_curriculum==\"curriculum_completed\")   \r\n",
    "  ].code.count()\r\n",
    "\r\n",
    "total_curriculum_incomplet = df[(df.age_range != \"not_valid_age\")\r\n",
    "   &(df.age_range!=\"25-29\")\r\n",
    "   &(df.timeOn_system==\"required_Time_on\")\r\n",
    "   &(df.curriculum==\"curriculum incomplet\")   \r\n",
    "  ].code.count()\r\n",
    "\r\n",
    "total_curriculum_non_recu = df[(df.age_range != \"not_valid_age\")\r\n",
    "   &(df.age_range!=\"25-29\")\r\n",
    "   &(df.timeOn_system==\"required_Time_on\")\r\n",
    "   &(df.curriculum==\"non-recu\")   \r\n",
    "  ].code.count()\r\n",
    "\r\n",
    "# df[(df.age_range != \"not_valid_age\")\r\n",
    "#   &(df.age_range!=\"25-29\")\r\n",
    "#   &(df.timeOn_system==\"required_Time_on\")\r\n",
    "#   &(df.dreams_curriculum==\"curriculum_inc\")   \r\n",
    "#  ].code.count()\r\n",
    "\r\n",
    "total_curriculum_completed\r\n",
    "total_curriculum_incomplet\r\n",
    "total_curriculum_non_recu\r\n"
   ],
   "outputs": [
    {
     "output_type": "execute_result",
     "data": {
      "text/plain": [
       "15204"
      ]
     },
     "metadata": {},
     "execution_count": 9
    },
    {
     "output_type": "execute_result",
     "data": {
      "text/plain": [
       "1959"
      ]
     },
     "metadata": {},
     "execution_count": 9
    },
    {
     "output_type": "execute_result",
     "data": {
      "text/plain": [
       "1176"
      ]
     },
     "metadata": {},
     "execution_count": 9
    }
   ],
   "metadata": {}
  },
  {
   "cell_type": "code",
   "execution_count": 10,
   "source": [
    "data_curriculum_incomplet = df[(df.age_range != \"not_valid_age\")\r\n",
    "   &(df.age_range!=\"25-29\")\r\n",
    "   &(df.timeOn_system==\"required_Time_on\")\r\n",
    "   &(df.curriculum==\"curriculum incomplet\")   \r\n",
    "  ]"
   ],
   "outputs": [],
   "metadata": {}
  },
  {
   "cell_type": "code",
   "execution_count": 11,
   "source": [
    "curriculum_data = pd.DataFrame({\r\n",
    "    \"state\":[\"Curriculum Completed\",\r\n",
    "                \"Curriculum incomplet\",\r\n",
    "                \"curriculum non recu\"\r\n",
    "            ],\r\n",
    "    \"data\": [\r\n",
    "        total_curriculum_completed,\r\n",
    "        total_curriculum_incomplet,\r\n",
    "        total_curriculum_non_recu\r\n",
    "    ]    \r\n",
    "})"
   ],
   "outputs": [],
   "metadata": {}
  },
  {
   "cell_type": "code",
   "execution_count": 12,
   "source": [
    "plt.subplots(figsize=(16,8))\r\n",
    "sns.set_style(\"darkgrid\")\r\n",
    "splot = sns.barplot(x=\"state\",y=\"data\",data=curriculum_data)\r\n",
    "splot.set_xlabel(\"\")\r\n",
    "splot.set_ylabel(\"\")\r\n",
    "plt.suptitle(\"AGYW  and their curriculum services status\")\r\n",
    "for p in splot.patches:\r\n",
    "    height = p.get_height()\r\n",
    "    plt.text(\r\n",
    "                    p.get_x() + p.get_width()/2, \r\n",
    "                    0.5*p.get_height() + p.get_y(),\r\n",
    "                    '{:1.0f}'.format(height), \r\n",
    "                    ha='center', va='center',\r\n",
    "                    size=15,\r\n",
    "                    fontdict=dict(color=\"white\",fontsize=15)\r\n",
    "                )\r\n",
    "    \r\n",
    "plt.annotate(\r\n",
    "    \"source: HIVHaiti\",(0,0), (-80,-20), fontsize=10, \r\n",
    "             xycoords='axes fraction', textcoords='offset points', va='top'\r\n",
    ")\r\n",
    "plt.savefig(\"Evolution_curriculum\",dpi=400)"
   ],
   "outputs": [
    {
     "output_type": "execute_result",
     "data": {
      "text/plain": [
       "(<Figure size 1152x576 with 1 Axes>, <AxesSubplot:>)"
      ]
     },
     "metadata": {},
     "execution_count": 12
    },
    {
     "output_type": "execute_result",
     "data": {
      "text/plain": [
       "Text(0.5, 0, '')"
      ]
     },
     "metadata": {},
     "execution_count": 12
    },
    {
     "output_type": "execute_result",
     "data": {
      "text/plain": [
       "Text(0, 0.5, '')"
      ]
     },
     "metadata": {},
     "execution_count": 12
    },
    {
     "output_type": "execute_result",
     "data": {
      "text/plain": [
       "Text(0.5, 0.98, 'AGYW  and their curriculum services status')"
      ]
     },
     "metadata": {},
     "execution_count": 12
    },
    {
     "output_type": "execute_result",
     "data": {
      "text/plain": [
       "Text(0.0, 7602.0, '15204')"
      ]
     },
     "metadata": {},
     "execution_count": 12
    },
    {
     "output_type": "execute_result",
     "data": {
      "text/plain": [
       "Text(1.0, 979.5, '1959')"
      ]
     },
     "metadata": {},
     "execution_count": 12
    },
    {
     "output_type": "execute_result",
     "data": {
      "text/plain": [
       "Text(2.0, 588.0, '1176')"
      ]
     },
     "metadata": {},
     "execution_count": 12
    },
    {
     "output_type": "execute_result",
     "data": {
      "text/plain": [
       "Text(-80, -20, 'source: HIVHaiti')"
      ]
     },
     "metadata": {},
     "execution_count": 12
    },
    {
     "output_type": "display_data",
     "data": {
      "text/plain": [
       "<Figure size 1152x576 with 1 Axes>"
      ],
      "image/svg+xml": "<?xml version=\"1.0\" encoding=\"utf-8\" standalone=\"no\"?>\r\n<!DOCTYPE svg PUBLIC \"-//W3C//DTD SVG 1.1//EN\"\r\n  \"http://www.w3.org/Graphics/SVG/1.1/DTD/svg11.dtd\">\r\n<svg height=\"536.025313pt\" version=\"1.1\" viewBox=\"0 0 987.2 536.025313\" width=\"987.2pt\" xmlns=\"http://www.w3.org/2000/svg\" xmlns:xlink=\"http://www.w3.org/1999/xlink\">\r\n <metadata>\r\n  <rdf:RDF xmlns:cc=\"http://creativecommons.org/ns#\" xmlns:dc=\"http://purl.org/dc/elements/1.1/\" xmlns:rdf=\"http://www.w3.org/1999/02/22-rdf-syntax-ns#\">\r\n   <cc:Work>\r\n    <dc:type rdf:resource=\"http://purl.org/dc/dcmitype/StillImage\"/>\r\n    <dc:date>2021-08-18T10:14:23.165084</dc:date>\r\n    <dc:format>image/svg+xml</dc:format>\r\n    <dc:creator>\r\n     <cc:Agent>\r\n      <dc:title>Matplotlib v3.4.1, https://matplotlib.org/</dc:title>\r\n     </cc:Agent>\r\n    </dc:creator>\r\n   </cc:Work>\r\n  </rdf:RDF>\r\n </metadata>\r\n <defs>\r\n  <style type=\"text/css\">*{stroke-linecap:butt;stroke-linejoin:round;}</style>\r\n </defs>\r\n <g id=\"figure_1\">\r\n  <g id=\"patch_1\">\r\n   <path d=\"M 0 536.025313 \r\nL 987.2 536.025313 \r\nL 987.2 0 \r\nL 0 0 \r\nz\r\n\" style=\"fill:#ffffff;\"/>\r\n  </g>\r\n  <g id=\"axes_1\">\r\n   <g id=\"patch_2\">\r\n    <path d=\"M 87.2 499.68 \r\nL 980 499.68 \r\nL 980 64.8 \r\nL 87.2 64.8 \r\nz\r\n\" style=\"fill:#eaeaf2;\"/>\r\n   </g>\r\n   <g id=\"matplotlib.axis_1\">\r\n    <g id=\"xtick_1\">\r\n     <g id=\"text_1\">\r\n      <!-- Curriculum Completed -->\r\n      <g style=\"fill:#262626;\" transform=\"translate(186.264062 513.959688)scale(0.1 -0.1)\">\r\n       <defs>\r\n        <path d=\"M 3763 1606 \r\nL 4369 1453 \r\nQ 4178 706 3683 314 \r\nQ 3188 -78 2472 -78 \r\nQ 1731 -78 1267 223 \r\nQ 803 525 561 1097 \r\nQ 319 1669 319 2325 \r\nQ 319 3041 592 3573 \r\nQ 866 4106 1370 4382 \r\nQ 1875 4659 2481 4659 \r\nQ 3169 4659 3637 4309 \r\nQ 4106 3959 4291 3325 \r\nL 3694 3184 \r\nQ 3534 3684 3231 3912 \r\nQ 2928 4141 2469 4141 \r\nQ 1941 4141 1586 3887 \r\nQ 1231 3634 1087 3207 \r\nQ 944 2781 944 2328 \r\nQ 944 1744 1114 1308 \r\nQ 1284 872 1643 656 \r\nQ 2003 441 2422 441 \r\nQ 2931 441 3284 734 \r\nQ 3638 1028 3763 1606 \r\nz\r\n\" id=\"ArialMT-43\" transform=\"scale(0.015625)\"/>\r\n        <path d=\"M 2597 0 \r\nL 2597 488 \r\nQ 2209 -75 1544 -75 \r\nQ 1250 -75 995 37 \r\nQ 741 150 617 320 \r\nQ 494 491 444 738 \r\nQ 409 903 409 1263 \r\nL 409 3319 \r\nL 972 3319 \r\nL 972 1478 \r\nQ 972 1038 1006 884 \r\nQ 1059 663 1231 536 \r\nQ 1403 409 1656 409 \r\nQ 1909 409 2131 539 \r\nQ 2353 669 2445 892 \r\nQ 2538 1116 2538 1541 \r\nL 2538 3319 \r\nL 3100 3319 \r\nL 3100 0 \r\nL 2597 0 \r\nz\r\n\" id=\"ArialMT-75\" transform=\"scale(0.015625)\"/>\r\n        <path d=\"M 416 0 \r\nL 416 3319 \r\nL 922 3319 \r\nL 922 2816 \r\nQ 1116 3169 1280 3281 \r\nQ 1444 3394 1641 3394 \r\nQ 1925 3394 2219 3213 \r\nL 2025 2691 \r\nQ 1819 2813 1613 2813 \r\nQ 1428 2813 1281 2702 \r\nQ 1134 2591 1072 2394 \r\nQ 978 2094 978 1738 \r\nL 978 0 \r\nL 416 0 \r\nz\r\n\" id=\"ArialMT-72\" transform=\"scale(0.015625)\"/>\r\n        <path d=\"M 425 3934 \r\nL 425 4581 \r\nL 988 4581 \r\nL 988 3934 \r\nL 425 3934 \r\nz\r\nM 425 0 \r\nL 425 3319 \r\nL 988 3319 \r\nL 988 0 \r\nL 425 0 \r\nz\r\n\" id=\"ArialMT-69\" transform=\"scale(0.015625)\"/>\r\n        <path d=\"M 2588 1216 \r\nL 3141 1144 \r\nQ 3050 572 2676 248 \r\nQ 2303 -75 1759 -75 \r\nQ 1078 -75 664 370 \r\nQ 250 816 250 1647 \r\nQ 250 2184 428 2587 \r\nQ 606 2991 970 3192 \r\nQ 1334 3394 1763 3394 \r\nQ 2303 3394 2647 3120 \r\nQ 2991 2847 3088 2344 \r\nL 2541 2259 \r\nQ 2463 2594 2264 2762 \r\nQ 2066 2931 1784 2931 \r\nQ 1359 2931 1093 2626 \r\nQ 828 2322 828 1663 \r\nQ 828 994 1084 691 \r\nQ 1341 388 1753 388 \r\nQ 2084 388 2306 591 \r\nQ 2528 794 2588 1216 \r\nz\r\n\" id=\"ArialMT-63\" transform=\"scale(0.015625)\"/>\r\n        <path d=\"M 409 0 \r\nL 409 4581 \r\nL 972 4581 \r\nL 972 0 \r\nL 409 0 \r\nz\r\n\" id=\"ArialMT-6c\" transform=\"scale(0.015625)\"/>\r\n        <path d=\"M 422 0 \r\nL 422 3319 \r\nL 925 3319 \r\nL 925 2853 \r\nQ 1081 3097 1340 3245 \r\nQ 1600 3394 1931 3394 \r\nQ 2300 3394 2536 3241 \r\nQ 2772 3088 2869 2813 \r\nQ 3263 3394 3894 3394 \r\nQ 4388 3394 4653 3120 \r\nQ 4919 2847 4919 2278 \r\nL 4919 0 \r\nL 4359 0 \r\nL 4359 2091 \r\nQ 4359 2428 4304 2576 \r\nQ 4250 2725 4106 2815 \r\nQ 3963 2906 3769 2906 \r\nQ 3419 2906 3187 2673 \r\nQ 2956 2441 2956 1928 \r\nL 2956 0 \r\nL 2394 0 \r\nL 2394 2156 \r\nQ 2394 2531 2256 2718 \r\nQ 2119 2906 1806 2906 \r\nQ 1569 2906 1367 2781 \r\nQ 1166 2656 1075 2415 \r\nQ 984 2175 984 1722 \r\nL 984 0 \r\nL 422 0 \r\nz\r\n\" id=\"ArialMT-6d\" transform=\"scale(0.015625)\"/>\r\n        <path id=\"ArialMT-20\" transform=\"scale(0.015625)\"/>\r\n        <path d=\"M 213 1659 \r\nQ 213 2581 725 3025 \r\nQ 1153 3394 1769 3394 \r\nQ 2453 3394 2887 2945 \r\nQ 3322 2497 3322 1706 \r\nQ 3322 1066 3130 698 \r\nQ 2938 331 2570 128 \r\nQ 2203 -75 1769 -75 \r\nQ 1072 -75 642 372 \r\nQ 213 819 213 1659 \r\nz\r\nM 791 1659 \r\nQ 791 1022 1069 705 \r\nQ 1347 388 1769 388 \r\nQ 2188 388 2466 706 \r\nQ 2744 1025 2744 1678 \r\nQ 2744 2294 2464 2611 \r\nQ 2184 2928 1769 2928 \r\nQ 1347 2928 1069 2612 \r\nQ 791 2297 791 1659 \r\nz\r\n\" id=\"ArialMT-6f\" transform=\"scale(0.015625)\"/>\r\n        <path d=\"M 422 -1272 \r\nL 422 3319 \r\nL 934 3319 \r\nL 934 2888 \r\nQ 1116 3141 1344 3267 \r\nQ 1572 3394 1897 3394 \r\nQ 2322 3394 2647 3175 \r\nQ 2972 2956 3137 2557 \r\nQ 3303 2159 3303 1684 \r\nQ 3303 1175 3120 767 \r\nQ 2938 359 2589 142 \r\nQ 2241 -75 1856 -75 \r\nQ 1575 -75 1351 44 \r\nQ 1128 163 984 344 \r\nL 984 -1272 \r\nL 422 -1272 \r\nz\r\nM 931 1641 \r\nQ 931 1000 1190 694 \r\nQ 1450 388 1819 388 \r\nQ 2194 388 2461 705 \r\nQ 2728 1022 2728 1688 \r\nQ 2728 2322 2467 2637 \r\nQ 2206 2953 1844 2953 \r\nQ 1484 2953 1207 2617 \r\nQ 931 2281 931 1641 \r\nz\r\n\" id=\"ArialMT-70\" transform=\"scale(0.015625)\"/>\r\n        <path d=\"M 2694 1069 \r\nL 3275 997 \r\nQ 3138 488 2766 206 \r\nQ 2394 -75 1816 -75 \r\nQ 1088 -75 661 373 \r\nQ 234 822 234 1631 \r\nQ 234 2469 665 2931 \r\nQ 1097 3394 1784 3394 \r\nQ 2450 3394 2872 2941 \r\nQ 3294 2488 3294 1666 \r\nQ 3294 1616 3291 1516 \r\nL 816 1516 \r\nQ 847 969 1125 678 \r\nQ 1403 388 1819 388 \r\nQ 2128 388 2347 550 \r\nQ 2566 713 2694 1069 \r\nz\r\nM 847 1978 \r\nL 2700 1978 \r\nQ 2663 2397 2488 2606 \r\nQ 2219 2931 1791 2931 \r\nQ 1403 2931 1139 2672 \r\nQ 875 2413 847 1978 \r\nz\r\n\" id=\"ArialMT-65\" transform=\"scale(0.015625)\"/>\r\n        <path d=\"M 1650 503 \r\nL 1731 6 \r\nQ 1494 -44 1306 -44 \r\nQ 1000 -44 831 53 \r\nQ 663 150 594 308 \r\nQ 525 466 525 972 \r\nL 525 2881 \r\nL 113 2881 \r\nL 113 3319 \r\nL 525 3319 \r\nL 525 4141 \r\nL 1084 4478 \r\nL 1084 3319 \r\nL 1650 3319 \r\nL 1650 2881 \r\nL 1084 2881 \r\nL 1084 941 \r\nQ 1084 700 1114 631 \r\nQ 1144 563 1211 522 \r\nQ 1278 481 1403 481 \r\nQ 1497 481 1650 503 \r\nz\r\n\" id=\"ArialMT-74\" transform=\"scale(0.015625)\"/>\r\n        <path d=\"M 2575 0 \r\nL 2575 419 \r\nQ 2259 -75 1647 -75 \r\nQ 1250 -75 917 144 \r\nQ 584 363 401 755 \r\nQ 219 1147 219 1656 \r\nQ 219 2153 384 2558 \r\nQ 550 2963 881 3178 \r\nQ 1213 3394 1622 3394 \r\nQ 1922 3394 2156 3267 \r\nQ 2391 3141 2538 2938 \r\nL 2538 4581 \r\nL 3097 4581 \r\nL 3097 0 \r\nL 2575 0 \r\nz\r\nM 797 1656 \r\nQ 797 1019 1065 703 \r\nQ 1334 388 1700 388 \r\nQ 2069 388 2326 689 \r\nQ 2584 991 2584 1609 \r\nQ 2584 2291 2321 2609 \r\nQ 2059 2928 1675 2928 \r\nQ 1300 2928 1048 2622 \r\nQ 797 2316 797 1656 \r\nz\r\n\" id=\"ArialMT-64\" transform=\"scale(0.015625)\"/>\r\n       </defs>\r\n       <use xlink:href=\"#ArialMT-43\"/>\r\n       <use x=\"72.216797\" xlink:href=\"#ArialMT-75\"/>\r\n       <use x=\"127.832031\" xlink:href=\"#ArialMT-72\"/>\r\n       <use x=\"161.132812\" xlink:href=\"#ArialMT-72\"/>\r\n       <use x=\"194.433594\" xlink:href=\"#ArialMT-69\"/>\r\n       <use x=\"216.650391\" xlink:href=\"#ArialMT-63\"/>\r\n       <use x=\"266.650391\" xlink:href=\"#ArialMT-75\"/>\r\n       <use x=\"322.265625\" xlink:href=\"#ArialMT-6c\"/>\r\n       <use x=\"344.482422\" xlink:href=\"#ArialMT-75\"/>\r\n       <use x=\"400.097656\" xlink:href=\"#ArialMT-6d\"/>\r\n       <use x=\"483.398438\" xlink:href=\"#ArialMT-20\"/>\r\n       <use x=\"511.181641\" xlink:href=\"#ArialMT-43\"/>\r\n       <use x=\"583.398438\" xlink:href=\"#ArialMT-6f\"/>\r\n       <use x=\"639.013672\" xlink:href=\"#ArialMT-6d\"/>\r\n       <use x=\"722.314453\" xlink:href=\"#ArialMT-70\"/>\r\n       <use x=\"777.929688\" xlink:href=\"#ArialMT-6c\"/>\r\n       <use x=\"800.146484\" xlink:href=\"#ArialMT-65\"/>\r\n       <use x=\"855.761719\" xlink:href=\"#ArialMT-74\"/>\r\n       <use x=\"883.544922\" xlink:href=\"#ArialMT-65\"/>\r\n       <use x=\"939.160156\" xlink:href=\"#ArialMT-64\"/>\r\n      </g>\r\n     </g>\r\n    </g>\r\n    <g id=\"xtick_2\">\r\n     <g id=\"text_2\">\r\n      <!-- Curriculum incomplet -->\r\n      <g style=\"fill:#262626;\" transform=\"translate(486.644531 513.959688)scale(0.1 -0.1)\">\r\n       <defs>\r\n        <path d=\"M 422 0 \r\nL 422 3319 \r\nL 928 3319 \r\nL 928 2847 \r\nQ 1294 3394 1984 3394 \r\nQ 2284 3394 2536 3286 \r\nQ 2788 3178 2913 3003 \r\nQ 3038 2828 3088 2588 \r\nQ 3119 2431 3119 2041 \r\nL 3119 0 \r\nL 2556 0 \r\nL 2556 2019 \r\nQ 2556 2363 2490 2533 \r\nQ 2425 2703 2258 2804 \r\nQ 2091 2906 1866 2906 \r\nQ 1506 2906 1245 2678 \r\nQ 984 2450 984 1813 \r\nL 984 0 \r\nL 422 0 \r\nz\r\n\" id=\"ArialMT-6e\" transform=\"scale(0.015625)\"/>\r\n       </defs>\r\n       <use xlink:href=\"#ArialMT-43\"/>\r\n       <use x=\"72.216797\" xlink:href=\"#ArialMT-75\"/>\r\n       <use x=\"127.832031\" xlink:href=\"#ArialMT-72\"/>\r\n       <use x=\"161.132812\" xlink:href=\"#ArialMT-72\"/>\r\n       <use x=\"194.433594\" xlink:href=\"#ArialMT-69\"/>\r\n       <use x=\"216.650391\" xlink:href=\"#ArialMT-63\"/>\r\n       <use x=\"266.650391\" xlink:href=\"#ArialMT-75\"/>\r\n       <use x=\"322.265625\" xlink:href=\"#ArialMT-6c\"/>\r\n       <use x=\"344.482422\" xlink:href=\"#ArialMT-75\"/>\r\n       <use x=\"400.097656\" xlink:href=\"#ArialMT-6d\"/>\r\n       <use x=\"483.398438\" xlink:href=\"#ArialMT-20\"/>\r\n       <use x=\"511.181641\" xlink:href=\"#ArialMT-69\"/>\r\n       <use x=\"533.398438\" xlink:href=\"#ArialMT-6e\"/>\r\n       <use x=\"589.013672\" xlink:href=\"#ArialMT-63\"/>\r\n       <use x=\"639.013672\" xlink:href=\"#ArialMT-6f\"/>\r\n       <use x=\"694.628906\" xlink:href=\"#ArialMT-6d\"/>\r\n       <use x=\"777.929688\" xlink:href=\"#ArialMT-70\"/>\r\n       <use x=\"833.544922\" xlink:href=\"#ArialMT-6c\"/>\r\n       <use x=\"855.761719\" xlink:href=\"#ArialMT-65\"/>\r\n       <use x=\"911.376953\" xlink:href=\"#ArialMT-74\"/>\r\n      </g>\r\n     </g>\r\n    </g>\r\n    <g id=\"xtick_3\">\r\n     <g id=\"text_3\">\r\n      <!-- curriculum non recu -->\r\n      <g style=\"fill:#262626;\" transform=\"translate(787.296875 513.837813)scale(0.1 -0.1)\">\r\n       <use xlink:href=\"#ArialMT-63\"/>\r\n       <use x=\"50\" xlink:href=\"#ArialMT-75\"/>\r\n       <use x=\"105.615234\" xlink:href=\"#ArialMT-72\"/>\r\n       <use x=\"138.916016\" xlink:href=\"#ArialMT-72\"/>\r\n       <use x=\"172.216797\" xlink:href=\"#ArialMT-69\"/>\r\n       <use x=\"194.433594\" xlink:href=\"#ArialMT-63\"/>\r\n       <use x=\"244.433594\" xlink:href=\"#ArialMT-75\"/>\r\n       <use x=\"300.048828\" xlink:href=\"#ArialMT-6c\"/>\r\n       <use x=\"322.265625\" xlink:href=\"#ArialMT-75\"/>\r\n       <use x=\"377.880859\" xlink:href=\"#ArialMT-6d\"/>\r\n       <use x=\"461.181641\" xlink:href=\"#ArialMT-20\"/>\r\n       <use x=\"488.964844\" xlink:href=\"#ArialMT-6e\"/>\r\n       <use x=\"544.580078\" xlink:href=\"#ArialMT-6f\"/>\r\n       <use x=\"600.195312\" xlink:href=\"#ArialMT-6e\"/>\r\n       <use x=\"655.810547\" xlink:href=\"#ArialMT-20\"/>\r\n       <use x=\"683.59375\" xlink:href=\"#ArialMT-72\"/>\r\n       <use x=\"716.894531\" xlink:href=\"#ArialMT-65\"/>\r\n       <use x=\"772.509766\" xlink:href=\"#ArialMT-63\"/>\r\n       <use x=\"822.509766\" xlink:href=\"#ArialMT-75\"/>\r\n      </g>\r\n     </g>\r\n    </g>\r\n   </g>\r\n   <g id=\"matplotlib.axis_2\">\r\n    <g id=\"ytick_1\">\r\n     <g id=\"line2d_1\">\r\n      <path clip-path=\"url(#p88805fae5a)\" d=\"M 87.2 499.68 \r\nL 980 499.68 \r\n\" style=\"fill:none;stroke:#ffffff;stroke-linecap:round;stroke-width:0.8;\"/>\r\n     </g>\r\n     <g id=\"text_4\">\r\n      <!-- 0 -->\r\n      <g style=\"fill:#262626;\" transform=\"translate(74.639063 503.258906)scale(0.1 -0.1)\">\r\n       <defs>\r\n        <path d=\"M 266 2259 \r\nQ 266 3072 433 3567 \r\nQ 600 4063 929 4331 \r\nQ 1259 4600 1759 4600 \r\nQ 2128 4600 2406 4451 \r\nQ 2684 4303 2865 4023 \r\nQ 3047 3744 3150 3342 \r\nQ 3253 2941 3253 2259 \r\nQ 3253 1453 3087 958 \r\nQ 2922 463 2592 192 \r\nQ 2263 -78 1759 -78 \r\nQ 1097 -78 719 397 \r\nQ 266 969 266 2259 \r\nz\r\nM 844 2259 \r\nQ 844 1131 1108 757 \r\nQ 1372 384 1759 384 \r\nQ 2147 384 2411 759 \r\nQ 2675 1134 2675 2259 \r\nQ 2675 3391 2411 3762 \r\nQ 2147 4134 1753 4134 \r\nQ 1366 4134 1134 3806 \r\nQ 844 3388 844 2259 \r\nz\r\n\" id=\"ArialMT-30\" transform=\"scale(0.015625)\"/>\r\n       </defs>\r\n       <use xlink:href=\"#ArialMT-30\"/>\r\n      </g>\r\n     </g>\r\n    </g>\r\n    <g id=\"ytick_2\">\r\n     <g id=\"line2d_2\">\r\n      <path clip-path=\"url(#p88805fae5a)\" d=\"M 87.2 445.198097 \r\nL 980 445.198097 \r\n\" style=\"fill:none;stroke:#ffffff;stroke-linecap:round;stroke-width:0.8;\"/>\r\n     </g>\r\n     <g id=\"text_5\">\r\n      <!-- 2000 -->\r\n      <g style=\"fill:#262626;\" transform=\"translate(57.95625 448.777003)scale(0.1 -0.1)\">\r\n       <defs>\r\n        <path d=\"M 3222 541 \r\nL 3222 0 \r\nL 194 0 \r\nQ 188 203 259 391 \r\nQ 375 700 629 1000 \r\nQ 884 1300 1366 1694 \r\nQ 2113 2306 2375 2664 \r\nQ 2638 3022 2638 3341 \r\nQ 2638 3675 2398 3904 \r\nQ 2159 4134 1775 4134 \r\nQ 1369 4134 1125 3890 \r\nQ 881 3647 878 3216 \r\nL 300 3275 \r\nQ 359 3922 746 4261 \r\nQ 1134 4600 1788 4600 \r\nQ 2447 4600 2831 4234 \r\nQ 3216 3869 3216 3328 \r\nQ 3216 3053 3103 2787 \r\nQ 2991 2522 2730 2228 \r\nQ 2469 1934 1863 1422 \r\nQ 1356 997 1212 845 \r\nQ 1069 694 975 541 \r\nL 3222 541 \r\nz\r\n\" id=\"ArialMT-32\" transform=\"scale(0.015625)\"/>\r\n       </defs>\r\n       <use xlink:href=\"#ArialMT-32\"/>\r\n       <use x=\"55.615234\" xlink:href=\"#ArialMT-30\"/>\r\n       <use x=\"111.230469\" xlink:href=\"#ArialMT-30\"/>\r\n       <use x=\"166.845703\" xlink:href=\"#ArialMT-30\"/>\r\n      </g>\r\n     </g>\r\n    </g>\r\n    <g id=\"ytick_3\">\r\n     <g id=\"line2d_3\">\r\n      <path clip-path=\"url(#p88805fae5a)\" d=\"M 87.2 390.716193 \r\nL 980 390.716193 \r\n\" style=\"fill:none;stroke:#ffffff;stroke-linecap:round;stroke-width:0.8;\"/>\r\n     </g>\r\n     <g id=\"text_6\">\r\n      <!-- 4000 -->\r\n      <g style=\"fill:#262626;\" transform=\"translate(57.95625 394.2951)scale(0.1 -0.1)\">\r\n       <defs>\r\n        <path d=\"M 2069 0 \r\nL 2069 1097 \r\nL 81 1097 \r\nL 81 1613 \r\nL 2172 4581 \r\nL 2631 4581 \r\nL 2631 1613 \r\nL 3250 1613 \r\nL 3250 1097 \r\nL 2631 1097 \r\nL 2631 0 \r\nL 2069 0 \r\nz\r\nM 2069 1613 \r\nL 2069 3678 \r\nL 634 1613 \r\nL 2069 1613 \r\nz\r\n\" id=\"ArialMT-34\" transform=\"scale(0.015625)\"/>\r\n       </defs>\r\n       <use xlink:href=\"#ArialMT-34\"/>\r\n       <use x=\"55.615234\" xlink:href=\"#ArialMT-30\"/>\r\n       <use x=\"111.230469\" xlink:href=\"#ArialMT-30\"/>\r\n       <use x=\"166.845703\" xlink:href=\"#ArialMT-30\"/>\r\n      </g>\r\n     </g>\r\n    </g>\r\n    <g id=\"ytick_4\">\r\n     <g id=\"line2d_4\">\r\n      <path clip-path=\"url(#p88805fae5a)\" d=\"M 87.2 336.23429 \r\nL 980 336.23429 \r\n\" style=\"fill:none;stroke:#ffffff;stroke-linecap:round;stroke-width:0.8;\"/>\r\n     </g>\r\n     <g id=\"text_7\">\r\n      <!-- 6000 -->\r\n      <g style=\"fill:#262626;\" transform=\"translate(57.95625 339.813196)scale(0.1 -0.1)\">\r\n       <defs>\r\n        <path d=\"M 3184 3459 \r\nL 2625 3416 \r\nQ 2550 3747 2413 3897 \r\nQ 2184 4138 1850 4138 \r\nQ 1581 4138 1378 3988 \r\nQ 1113 3794 959 3422 \r\nQ 806 3050 800 2363 \r\nQ 1003 2672 1297 2822 \r\nQ 1591 2972 1913 2972 \r\nQ 2475 2972 2870 2558 \r\nQ 3266 2144 3266 1488 \r\nQ 3266 1056 3080 686 \r\nQ 2894 316 2569 119 \r\nQ 2244 -78 1831 -78 \r\nQ 1128 -78 684 439 \r\nQ 241 956 241 2144 \r\nQ 241 3472 731 4075 \r\nQ 1159 4600 1884 4600 \r\nQ 2425 4600 2770 4297 \r\nQ 3116 3994 3184 3459 \r\nz\r\nM 888 1484 \r\nQ 888 1194 1011 928 \r\nQ 1134 663 1356 523 \r\nQ 1578 384 1822 384 \r\nQ 2178 384 2434 671 \r\nQ 2691 959 2691 1453 \r\nQ 2691 1928 2437 2201 \r\nQ 2184 2475 1800 2475 \r\nQ 1419 2475 1153 2201 \r\nQ 888 1928 888 1484 \r\nz\r\n\" id=\"ArialMT-36\" transform=\"scale(0.015625)\"/>\r\n       </defs>\r\n       <use xlink:href=\"#ArialMT-36\"/>\r\n       <use x=\"55.615234\" xlink:href=\"#ArialMT-30\"/>\r\n       <use x=\"111.230469\" xlink:href=\"#ArialMT-30\"/>\r\n       <use x=\"166.845703\" xlink:href=\"#ArialMT-30\"/>\r\n      </g>\r\n     </g>\r\n    </g>\r\n    <g id=\"ytick_5\">\r\n     <g id=\"line2d_5\">\r\n      <path clip-path=\"url(#p88805fae5a)\" d=\"M 87.2 281.752387 \r\nL 980 281.752387 \r\n\" style=\"fill:none;stroke:#ffffff;stroke-linecap:round;stroke-width:0.8;\"/>\r\n     </g>\r\n     <g id=\"text_8\">\r\n      <!-- 8000 -->\r\n      <g style=\"fill:#262626;\" transform=\"translate(57.95625 285.331293)scale(0.1 -0.1)\">\r\n       <defs>\r\n        <path d=\"M 1131 2484 \r\nQ 781 2613 612 2850 \r\nQ 444 3088 444 3419 \r\nQ 444 3919 803 4259 \r\nQ 1163 4600 1759 4600 \r\nQ 2359 4600 2725 4251 \r\nQ 3091 3903 3091 3403 \r\nQ 3091 3084 2923 2848 \r\nQ 2756 2613 2416 2484 \r\nQ 2838 2347 3058 2040 \r\nQ 3278 1734 3278 1309 \r\nQ 3278 722 2862 322 \r\nQ 2447 -78 1769 -78 \r\nQ 1091 -78 675 323 \r\nQ 259 725 259 1325 \r\nQ 259 1772 486 2073 \r\nQ 713 2375 1131 2484 \r\nz\r\nM 1019 3438 \r\nQ 1019 3113 1228 2906 \r\nQ 1438 2700 1772 2700 \r\nQ 2097 2700 2305 2904 \r\nQ 2513 3109 2513 3406 \r\nQ 2513 3716 2298 3927 \r\nQ 2084 4138 1766 4138 \r\nQ 1444 4138 1231 3931 \r\nQ 1019 3725 1019 3438 \r\nz\r\nM 838 1322 \r\nQ 838 1081 952 856 \r\nQ 1066 631 1291 507 \r\nQ 1516 384 1775 384 \r\nQ 2178 384 2440 643 \r\nQ 2703 903 2703 1303 \r\nQ 2703 1709 2433 1975 \r\nQ 2163 2241 1756 2241 \r\nQ 1359 2241 1098 1978 \r\nQ 838 1716 838 1322 \r\nz\r\n\" id=\"ArialMT-38\" transform=\"scale(0.015625)\"/>\r\n       </defs>\r\n       <use xlink:href=\"#ArialMT-38\"/>\r\n       <use x=\"55.615234\" xlink:href=\"#ArialMT-30\"/>\r\n       <use x=\"111.230469\" xlink:href=\"#ArialMT-30\"/>\r\n       <use x=\"166.845703\" xlink:href=\"#ArialMT-30\"/>\r\n      </g>\r\n     </g>\r\n    </g>\r\n    <g id=\"ytick_6\">\r\n     <g id=\"line2d_6\">\r\n      <path clip-path=\"url(#p88805fae5a)\" d=\"M 87.2 227.270484 \r\nL 980 227.270484 \r\n\" style=\"fill:none;stroke:#ffffff;stroke-linecap:round;stroke-width:0.8;\"/>\r\n     </g>\r\n     <g id=\"text_9\">\r\n      <!-- 10000 -->\r\n      <g style=\"fill:#262626;\" transform=\"translate(52.395313 230.84939)scale(0.1 -0.1)\">\r\n       <defs>\r\n        <path d=\"M 2384 0 \r\nL 1822 0 \r\nL 1822 3584 \r\nQ 1619 3391 1289 3197 \r\nQ 959 3003 697 2906 \r\nL 697 3450 \r\nQ 1169 3672 1522 3987 \r\nQ 1875 4303 2022 4600 \r\nL 2384 4600 \r\nL 2384 0 \r\nz\r\n\" id=\"ArialMT-31\" transform=\"scale(0.015625)\"/>\r\n       </defs>\r\n       <use xlink:href=\"#ArialMT-31\"/>\r\n       <use x=\"55.615234\" xlink:href=\"#ArialMT-30\"/>\r\n       <use x=\"111.230469\" xlink:href=\"#ArialMT-30\"/>\r\n       <use x=\"166.845703\" xlink:href=\"#ArialMT-30\"/>\r\n       <use x=\"222.460938\" xlink:href=\"#ArialMT-30\"/>\r\n      </g>\r\n     </g>\r\n    </g>\r\n    <g id=\"ytick_7\">\r\n     <g id=\"line2d_7\">\r\n      <path clip-path=\"url(#p88805fae5a)\" d=\"M 87.2 172.78858 \r\nL 980 172.78858 \r\n\" style=\"fill:none;stroke:#ffffff;stroke-linecap:round;stroke-width:0.8;\"/>\r\n     </g>\r\n     <g id=\"text_10\">\r\n      <!-- 12000 -->\r\n      <g style=\"fill:#262626;\" transform=\"translate(52.395313 176.367487)scale(0.1 -0.1)\">\r\n       <use xlink:href=\"#ArialMT-31\"/>\r\n       <use x=\"55.615234\" xlink:href=\"#ArialMT-32\"/>\r\n       <use x=\"111.230469\" xlink:href=\"#ArialMT-30\"/>\r\n       <use x=\"166.845703\" xlink:href=\"#ArialMT-30\"/>\r\n       <use x=\"222.460938\" xlink:href=\"#ArialMT-30\"/>\r\n      </g>\r\n     </g>\r\n    </g>\r\n    <g id=\"ytick_8\">\r\n     <g id=\"line2d_8\">\r\n      <path clip-path=\"url(#p88805fae5a)\" d=\"M 87.2 118.306677 \r\nL 980 118.306677 \r\n\" style=\"fill:none;stroke:#ffffff;stroke-linecap:round;stroke-width:0.8;\"/>\r\n     </g>\r\n     <g id=\"text_11\">\r\n      <!-- 14000 -->\r\n      <g style=\"fill:#262626;\" transform=\"translate(52.395313 121.885583)scale(0.1 -0.1)\">\r\n       <use xlink:href=\"#ArialMT-31\"/>\r\n       <use x=\"55.615234\" xlink:href=\"#ArialMT-34\"/>\r\n       <use x=\"111.230469\" xlink:href=\"#ArialMT-30\"/>\r\n       <use x=\"166.845703\" xlink:href=\"#ArialMT-30\"/>\r\n       <use x=\"222.460938\" xlink:href=\"#ArialMT-30\"/>\r\n      </g>\r\n     </g>\r\n    </g>\r\n   </g>\r\n   <g id=\"patch_3\">\r\n    <path clip-path=\"url(#p88805fae5a)\" d=\"M 116.96 499.68 \r\nL 355.04 499.68 \r\nL 355.04 85.508571 \r\nL 116.96 85.508571 \r\nz\r\n\" style=\"fill:#3274a1;stroke:#ffffff;stroke-linejoin:miter;\"/>\r\n   </g>\r\n   <g id=\"patch_4\">\r\n    <path clip-path=\"url(#p88805fae5a)\" d=\"M 414.56 499.68 \r\nL 652.64 499.68 \r\nL 652.64 446.314976 \r\nL 414.56 446.314976 \r\nz\r\n\" style=\"fill:#e1812c;stroke:#ffffff;stroke-linejoin:miter;\"/>\r\n   </g>\r\n   <g id=\"patch_5\">\r\n    <path clip-path=\"url(#p88805fae5a)\" d=\"M 712.16 499.68 \r\nL 950.24 499.68 \r\nL 950.24 467.644641 \r\nL 712.16 467.644641 \r\nz\r\n\" style=\"fill:#3a923a;stroke:#ffffff;stroke-linejoin:miter;\"/>\r\n   </g>\r\n   <g id=\"line2d_9\">\r\n    <path clip-path=\"url(#p88805fae5a)\" d=\"M 0 0 \r\n\" style=\"fill:none;stroke:#424242;stroke-linecap:round;stroke-width:2.7;\"/>\r\n   </g>\r\n   <g id=\"line2d_10\">\r\n    <path clip-path=\"url(#p88805fae5a)\" d=\"M 0 0 \r\n\" style=\"fill:none;stroke:#424242;stroke-linecap:round;stroke-width:2.7;\"/>\r\n   </g>\r\n   <g id=\"line2d_11\">\r\n    <path clip-path=\"url(#p88805fae5a)\" d=\"M 0 0 \r\n\" style=\"fill:none;stroke:#424242;stroke-linecap:round;stroke-width:2.7;\"/>\r\n   </g>\r\n   <g id=\"patch_6\">\r\n    <path d=\"M 87.2 499.68 \r\nL 87.2 64.8 \r\n\" style=\"fill:none;stroke:#ffffff;stroke-linecap:square;stroke-linejoin:miter;stroke-width:0.8;\"/>\r\n   </g>\r\n   <g id=\"patch_7\">\r\n    <path d=\"M 980 499.68 \r\nL 980 64.8 \r\n\" style=\"fill:none;stroke:#ffffff;stroke-linecap:square;stroke-linejoin:miter;stroke-width:0.8;\"/>\r\n   </g>\r\n   <g id=\"patch_8\">\r\n    <path d=\"M 87.2 499.68 \r\nL 980 499.68 \r\n\" style=\"fill:none;stroke:#ffffff;stroke-linecap:square;stroke-linejoin:miter;stroke-width:0.8;\"/>\r\n   </g>\r\n   <g id=\"patch_9\">\r\n    <path d=\"M 87.2 64.8 \r\nL 980 64.8 \r\n\" style=\"fill:none;stroke:#ffffff;stroke-linecap:square;stroke-linejoin:miter;stroke-width:0.8;\"/>\r\n   </g>\r\n   <g id=\"text_12\">\r\n    <!-- 15204 -->\r\n    <g style=\"fill:#ffffff;\" transform=\"translate(215.146484 296.47202)scale(0.15 -0.15)\">\r\n     <defs>\r\n      <path d=\"M 266 1200 \r\nL 856 1250 \r\nQ 922 819 1161 601 \r\nQ 1400 384 1738 384 \r\nQ 2144 384 2425 690 \r\nQ 2706 997 2706 1503 \r\nQ 2706 1984 2436 2262 \r\nQ 2166 2541 1728 2541 \r\nQ 1456 2541 1237 2417 \r\nQ 1019 2294 894 2097 \r\nL 366 2166 \r\nL 809 4519 \r\nL 3088 4519 \r\nL 3088 3981 \r\nL 1259 3981 \r\nL 1013 2750 \r\nQ 1425 3038 1878 3038 \r\nQ 2478 3038 2890 2622 \r\nQ 3303 2206 3303 1553 \r\nQ 3303 931 2941 478 \r\nQ 2500 -78 1738 -78 \r\nQ 1113 -78 717 272 \r\nQ 322 622 266 1200 \r\nz\r\n\" id=\"ArialMT-35\" transform=\"scale(0.015625)\"/>\r\n     </defs>\r\n     <use xlink:href=\"#ArialMT-31\"/>\r\n     <use x=\"55.615234\" xlink:href=\"#ArialMT-35\"/>\r\n     <use x=\"111.230469\" xlink:href=\"#ArialMT-32\"/>\r\n     <use x=\"166.845703\" xlink:href=\"#ArialMT-30\"/>\r\n     <use x=\"222.460938\" xlink:href=\"#ArialMT-34\"/>\r\n    </g>\r\n   </g>\r\n   <g id=\"text_13\">\r\n    <!-- 1959 -->\r\n    <g style=\"fill:#ffffff;\" transform=\"translate(516.917187 476.875222)scale(0.15 -0.15)\">\r\n     <defs>\r\n      <path d=\"M 350 1059 \r\nL 891 1109 \r\nQ 959 728 1153 556 \r\nQ 1347 384 1650 384 \r\nQ 1909 384 2104 503 \r\nQ 2300 622 2425 820 \r\nQ 2550 1019 2634 1356 \r\nQ 2719 1694 2719 2044 \r\nQ 2719 2081 2716 2156 \r\nQ 2547 1888 2255 1720 \r\nQ 1963 1553 1622 1553 \r\nQ 1053 1553 659 1965 \r\nQ 266 2378 266 3053 \r\nQ 266 3750 677 4175 \r\nQ 1088 4600 1706 4600 \r\nQ 2153 4600 2523 4359 \r\nQ 2894 4119 3086 3673 \r\nQ 3278 3228 3278 2384 \r\nQ 3278 1506 3087 986 \r\nQ 2897 466 2520 194 \r\nQ 2144 -78 1638 -78 \r\nQ 1100 -78 759 220 \r\nQ 419 519 350 1059 \r\nz\r\nM 2653 3081 \r\nQ 2653 3566 2395 3850 \r\nQ 2138 4134 1775 4134 \r\nQ 1400 4134 1122 3828 \r\nQ 844 3522 844 3034 \r\nQ 844 2597 1108 2323 \r\nQ 1372 2050 1759 2050 \r\nQ 2150 2050 2401 2323 \r\nQ 2653 2597 2653 3081 \r\nz\r\n\" id=\"ArialMT-39\" transform=\"scale(0.015625)\"/>\r\n     </defs>\r\n     <use xlink:href=\"#ArialMT-31\"/>\r\n     <use x=\"55.615234\" xlink:href=\"#ArialMT-39\"/>\r\n     <use x=\"111.230469\" xlink:href=\"#ArialMT-35\"/>\r\n     <use x=\"166.845703\" xlink:href=\"#ArialMT-39\"/>\r\n    </g>\r\n   </g>\r\n   <g id=\"text_14\">\r\n    <!-- 1176 -->\r\n    <g style=\"fill:#ffffff;\" transform=\"translate(815.070312 487.540055)scale(0.15 -0.15)\">\r\n     <defs>\r\n      <path d=\"M 303 3981 \r\nL 303 4522 \r\nL 3269 4522 \r\nL 3269 4084 \r\nQ 2831 3619 2401 2847 \r\nQ 1972 2075 1738 1259 \r\nQ 1569 684 1522 0 \r\nL 944 0 \r\nQ 953 541 1156 1306 \r\nQ 1359 2072 1739 2783 \r\nQ 2119 3494 2547 3981 \r\nL 303 3981 \r\nz\r\n\" id=\"ArialMT-37\" transform=\"scale(0.015625)\"/>\r\n     </defs>\r\n     <use xlink:href=\"#ArialMT-31\"/>\r\n     <use x=\"48.240234\" xlink:href=\"#ArialMT-31\"/>\r\n     <use x=\"103.855469\" xlink:href=\"#ArialMT-37\"/>\r\n     <use x=\"159.470703\" xlink:href=\"#ArialMT-36\"/>\r\n    </g>\r\n   </g>\r\n   <g id=\"text_15\">\r\n    <!-- source: HIVHaiti -->\r\n    <g style=\"fill:#262626;\" transform=\"translate(7.2 526.837813)scale(0.1 -0.1)\">\r\n     <defs>\r\n      <path d=\"M 197 991 \r\nL 753 1078 \r\nQ 800 744 1014 566 \r\nQ 1228 388 1613 388 \r\nQ 2000 388 2187 545 \r\nQ 2375 703 2375 916 \r\nQ 2375 1106 2209 1216 \r\nQ 2094 1291 1634 1406 \r\nQ 1016 1563 777 1677 \r\nQ 538 1791 414 1992 \r\nQ 291 2194 291 2438 \r\nQ 291 2659 392 2848 \r\nQ 494 3038 669 3163 \r\nQ 800 3259 1026 3326 \r\nQ 1253 3394 1513 3394 \r\nQ 1903 3394 2198 3281 \r\nQ 2494 3169 2634 2976 \r\nQ 2775 2784 2828 2463 \r\nL 2278 2388 \r\nQ 2241 2644 2061 2787 \r\nQ 1881 2931 1553 2931 \r\nQ 1166 2931 1000 2803 \r\nQ 834 2675 834 2503 \r\nQ 834 2394 903 2306 \r\nQ 972 2216 1119 2156 \r\nQ 1203 2125 1616 2013 \r\nQ 2213 1853 2448 1751 \r\nQ 2684 1650 2818 1456 \r\nQ 2953 1263 2953 975 \r\nQ 2953 694 2789 445 \r\nQ 2625 197 2315 61 \r\nQ 2006 -75 1616 -75 \r\nQ 969 -75 630 194 \r\nQ 291 463 197 991 \r\nz\r\n\" id=\"ArialMT-73\" transform=\"scale(0.015625)\"/>\r\n      <path d=\"M 578 2678 \r\nL 578 3319 \r\nL 1219 3319 \r\nL 1219 2678 \r\nL 578 2678 \r\nz\r\nM 578 0 \r\nL 578 641 \r\nL 1219 641 \r\nL 1219 0 \r\nL 578 0 \r\nz\r\n\" id=\"ArialMT-3a\" transform=\"scale(0.015625)\"/>\r\n      <path d=\"M 513 0 \r\nL 513 4581 \r\nL 1119 4581 \r\nL 1119 2700 \r\nL 3500 2700 \r\nL 3500 4581 \r\nL 4106 4581 \r\nL 4106 0 \r\nL 3500 0 \r\nL 3500 2159 \r\nL 1119 2159 \r\nL 1119 0 \r\nL 513 0 \r\nz\r\n\" id=\"ArialMT-48\" transform=\"scale(0.015625)\"/>\r\n      <path d=\"M 597 0 \r\nL 597 4581 \r\nL 1203 4581 \r\nL 1203 0 \r\nL 597 0 \r\nz\r\n\" id=\"ArialMT-49\" transform=\"scale(0.015625)\"/>\r\n      <path d=\"M 1803 0 \r\nL 28 4581 \r\nL 684 4581 \r\nL 1875 1253 \r\nQ 2019 853 2116 503 \r\nQ 2222 878 2363 1253 \r\nL 3600 4581 \r\nL 4219 4581 \r\nL 2425 0 \r\nL 1803 0 \r\nz\r\n\" id=\"ArialMT-56\" transform=\"scale(0.015625)\"/>\r\n      <path d=\"M 2588 409 \r\nQ 2275 144 1986 34 \r\nQ 1697 -75 1366 -75 \r\nQ 819 -75 525 192 \r\nQ 231 459 231 875 \r\nQ 231 1119 342 1320 \r\nQ 453 1522 633 1644 \r\nQ 813 1766 1038 1828 \r\nQ 1203 1872 1538 1913 \r\nQ 2219 1994 2541 2106 \r\nQ 2544 2222 2544 2253 \r\nQ 2544 2597 2384 2738 \r\nQ 2169 2928 1744 2928 \r\nQ 1347 2928 1158 2789 \r\nQ 969 2650 878 2297 \r\nL 328 2372 \r\nQ 403 2725 575 2942 \r\nQ 747 3159 1072 3276 \r\nQ 1397 3394 1825 3394 \r\nQ 2250 3394 2515 3294 \r\nQ 2781 3194 2906 3042 \r\nQ 3031 2891 3081 2659 \r\nQ 3109 2516 3109 2141 \r\nL 3109 1391 \r\nQ 3109 606 3145 398 \r\nQ 3181 191 3288 0 \r\nL 2700 0 \r\nQ 2613 175 2588 409 \r\nz\r\nM 2541 1666 \r\nQ 2234 1541 1622 1453 \r\nQ 1275 1403 1131 1340 \r\nQ 988 1278 909 1158 \r\nQ 831 1038 831 891 \r\nQ 831 666 1001 516 \r\nQ 1172 366 1500 366 \r\nQ 1825 366 2078 508 \r\nQ 2331 650 2450 897 \r\nQ 2541 1088 2541 1459 \r\nL 2541 1666 \r\nz\r\n\" id=\"ArialMT-61\" transform=\"scale(0.015625)\"/>\r\n     </defs>\r\n     <use xlink:href=\"#ArialMT-73\"/>\r\n     <use x=\"50\" xlink:href=\"#ArialMT-6f\"/>\r\n     <use x=\"105.615234\" xlink:href=\"#ArialMT-75\"/>\r\n     <use x=\"161.230469\" xlink:href=\"#ArialMT-72\"/>\r\n     <use x=\"194.53125\" xlink:href=\"#ArialMT-63\"/>\r\n     <use x=\"244.53125\" xlink:href=\"#ArialMT-65\"/>\r\n     <use x=\"300.146484\" xlink:href=\"#ArialMT-3a\"/>\r\n     <use x=\"327.929688\" xlink:href=\"#ArialMT-20\"/>\r\n     <use x=\"355.712891\" xlink:href=\"#ArialMT-48\"/>\r\n     <use x=\"427.929688\" xlink:href=\"#ArialMT-49\"/>\r\n     <use x=\"455.712891\" xlink:href=\"#ArialMT-56\"/>\r\n     <use x=\"522.412109\" xlink:href=\"#ArialMT-48\"/>\r\n     <use x=\"594.628906\" xlink:href=\"#ArialMT-61\"/>\r\n     <use x=\"650.244141\" xlink:href=\"#ArialMT-69\"/>\r\n     <use x=\"672.460938\" xlink:href=\"#ArialMT-74\"/>\r\n     <use x=\"700.244141\" xlink:href=\"#ArialMT-69\"/>\r\n    </g>\r\n   </g>\r\n  </g>\r\n  <g id=\"text_16\">\r\n   <!-- AGYW  and their curriculum services status -->\r\n   <g style=\"fill:#262626;\" transform=\"translate(403.503125 15.789375)scale(0.12 -0.12)\">\r\n    <defs>\r\n     <path d=\"M -9 0 \r\nL 1750 4581 \r\nL 2403 4581 \r\nL 4278 0 \r\nL 3588 0 \r\nL 3053 1388 \r\nL 1138 1388 \r\nL 634 0 \r\nL -9 0 \r\nz\r\nM 1313 1881 \r\nL 2866 1881 \r\nL 2388 3150 \r\nQ 2169 3728 2063 4100 \r\nQ 1975 3659 1816 3225 \r\nL 1313 1881 \r\nz\r\n\" id=\"ArialMT-41\" transform=\"scale(0.015625)\"/>\r\n     <path d=\"M 2638 1797 \r\nL 2638 2334 \r\nL 4578 2338 \r\nL 4578 638 \r\nQ 4131 281 3656 101 \r\nQ 3181 -78 2681 -78 \r\nQ 2006 -78 1454 211 \r\nQ 903 500 622 1047 \r\nQ 341 1594 341 2269 \r\nQ 341 2938 620 3517 \r\nQ 900 4097 1425 4378 \r\nQ 1950 4659 2634 4659 \r\nQ 3131 4659 3532 4498 \r\nQ 3934 4338 4162 4050 \r\nQ 4391 3763 4509 3300 \r\nL 3963 3150 \r\nQ 3859 3500 3706 3700 \r\nQ 3553 3900 3268 4020 \r\nQ 2984 4141 2638 4141 \r\nQ 2222 4141 1919 4014 \r\nQ 1616 3888 1430 3681 \r\nQ 1244 3475 1141 3228 \r\nQ 966 2803 966 2306 \r\nQ 966 1694 1177 1281 \r\nQ 1388 869 1791 669 \r\nQ 2194 469 2647 469 \r\nQ 3041 469 3416 620 \r\nQ 3791 772 3984 944 \r\nL 3984 1797 \r\nL 2638 1797 \r\nz\r\n\" id=\"ArialMT-47\" transform=\"scale(0.015625)\"/>\r\n     <path d=\"M 1784 0 \r\nL 1784 1941 \r\nL 19 4581 \r\nL 756 4581 \r\nL 1659 3200 \r\nQ 1909 2813 2125 2425 \r\nQ 2331 2784 2625 3234 \r\nL 3513 4581 \r\nL 4219 4581 \r\nL 2391 1941 \r\nL 2391 0 \r\nL 1784 0 \r\nz\r\n\" id=\"ArialMT-59\" transform=\"scale(0.015625)\"/>\r\n     <path d=\"M 1294 0 \r\nL 78 4581 \r\nL 700 4581 \r\nL 1397 1578 \r\nQ 1509 1106 1591 641 \r\nQ 1766 1375 1797 1488 \r\nL 2669 4581 \r\nL 3400 4581 \r\nL 4056 2263 \r\nQ 4303 1400 4413 641 \r\nQ 4500 1075 4641 1638 \r\nL 5359 4581 \r\nL 5969 4581 \r\nL 4713 0 \r\nL 4128 0 \r\nL 3163 3491 \r\nQ 3041 3928 3019 4028 \r\nQ 2947 3713 2884 3491 \r\nL 1913 0 \r\nL 1294 0 \r\nz\r\n\" id=\"ArialMT-57\" transform=\"scale(0.015625)\"/>\r\n     <path d=\"M 422 0 \r\nL 422 4581 \r\nL 984 4581 \r\nL 984 2938 \r\nQ 1378 3394 1978 3394 \r\nQ 2347 3394 2619 3248 \r\nQ 2891 3103 3008 2847 \r\nQ 3125 2591 3125 2103 \r\nL 3125 0 \r\nL 2563 0 \r\nL 2563 2103 \r\nQ 2563 2525 2380 2717 \r\nQ 2197 2909 1863 2909 \r\nQ 1613 2909 1392 2779 \r\nQ 1172 2650 1078 2428 \r\nQ 984 2206 984 1816 \r\nL 984 0 \r\nL 422 0 \r\nz\r\n\" id=\"ArialMT-68\" transform=\"scale(0.015625)\"/>\r\n     <path d=\"M 1344 0 \r\nL 81 3319 \r\nL 675 3319 \r\nL 1388 1331 \r\nQ 1503 1009 1600 663 \r\nQ 1675 925 1809 1294 \r\nL 2547 3319 \r\nL 3125 3319 \r\nL 1869 0 \r\nL 1344 0 \r\nz\r\n\" id=\"ArialMT-76\" transform=\"scale(0.015625)\"/>\r\n    </defs>\r\n    <use xlink:href=\"#ArialMT-41\"/>\r\n    <use x=\"66.699219\" xlink:href=\"#ArialMT-47\"/>\r\n    <use x=\"144.482422\" xlink:href=\"#ArialMT-59\"/>\r\n    <use x=\"211.181641\" xlink:href=\"#ArialMT-57\"/>\r\n    <use x=\"305.566406\" xlink:href=\"#ArialMT-20\"/>\r\n    <use x=\"333.349609\" xlink:href=\"#ArialMT-20\"/>\r\n    <use x=\"361.132812\" xlink:href=\"#ArialMT-61\"/>\r\n    <use x=\"416.748047\" xlink:href=\"#ArialMT-6e\"/>\r\n    <use x=\"472.363281\" xlink:href=\"#ArialMT-64\"/>\r\n    <use x=\"527.978516\" xlink:href=\"#ArialMT-20\"/>\r\n    <use x=\"555.761719\" xlink:href=\"#ArialMT-74\"/>\r\n    <use x=\"583.544922\" xlink:href=\"#ArialMT-68\"/>\r\n    <use x=\"639.160156\" xlink:href=\"#ArialMT-65\"/>\r\n    <use x=\"694.775391\" xlink:href=\"#ArialMT-69\"/>\r\n    <use x=\"716.992188\" xlink:href=\"#ArialMT-72\"/>\r\n    <use x=\"750.292969\" xlink:href=\"#ArialMT-20\"/>\r\n    <use x=\"778.076172\" xlink:href=\"#ArialMT-63\"/>\r\n    <use x=\"828.076172\" xlink:href=\"#ArialMT-75\"/>\r\n    <use x=\"883.691406\" xlink:href=\"#ArialMT-72\"/>\r\n    <use x=\"916.992188\" xlink:href=\"#ArialMT-72\"/>\r\n    <use x=\"950.292969\" xlink:href=\"#ArialMT-69\"/>\r\n    <use x=\"972.509766\" xlink:href=\"#ArialMT-63\"/>\r\n    <use x=\"1022.509766\" xlink:href=\"#ArialMT-75\"/>\r\n    <use x=\"1078.125\" xlink:href=\"#ArialMT-6c\"/>\r\n    <use x=\"1100.341797\" xlink:href=\"#ArialMT-75\"/>\r\n    <use x=\"1155.957031\" xlink:href=\"#ArialMT-6d\"/>\r\n    <use x=\"1239.257812\" xlink:href=\"#ArialMT-20\"/>\r\n    <use x=\"1267.041016\" xlink:href=\"#ArialMT-73\"/>\r\n    <use x=\"1317.041016\" xlink:href=\"#ArialMT-65\"/>\r\n    <use x=\"1372.65625\" xlink:href=\"#ArialMT-72\"/>\r\n    <use x=\"1405.957031\" xlink:href=\"#ArialMT-76\"/>\r\n    <use x=\"1455.957031\" xlink:href=\"#ArialMT-69\"/>\r\n    <use x=\"1478.173828\" xlink:href=\"#ArialMT-63\"/>\r\n    <use x=\"1528.173828\" xlink:href=\"#ArialMT-65\"/>\r\n    <use x=\"1583.789062\" xlink:href=\"#ArialMT-73\"/>\r\n    <use x=\"1633.789062\" xlink:href=\"#ArialMT-20\"/>\r\n    <use x=\"1661.572266\" xlink:href=\"#ArialMT-73\"/>\r\n    <use x=\"1711.572266\" xlink:href=\"#ArialMT-74\"/>\r\n    <use x=\"1739.355469\" xlink:href=\"#ArialMT-61\"/>\r\n    <use x=\"1794.970703\" xlink:href=\"#ArialMT-74\"/>\r\n    <use x=\"1822.753906\" xlink:href=\"#ArialMT-75\"/>\r\n    <use x=\"1878.369141\" xlink:href=\"#ArialMT-73\"/>\r\n   </g>\r\n  </g>\r\n </g>\r\n <defs>\r\n  <clipPath id=\"p88805fae5a\">\r\n   <rect height=\"434.88\" width=\"892.8\" x=\"87.2\" y=\"64.8\"/>\r\n  </clipPath>\r\n </defs>\r\n</svg>\r\n",
      "image/png": "[encoded data removed]"
     },
     "metadata": {}
    }
   ],
   "metadata": {}
  },
  {
   "cell_type": "markdown",
   "source": [
    "## Condoms"
   ],
   "metadata": {}
  },
  {
   "cell_type": "code",
   "execution_count": 13,
   "source": [
    "total_condoms = df[(df.age_range != \"not_valid_age\")\r\n",
    "   &(df.age_range!=\"25-29\")\r\n",
    "   &(df.timeOn_system==\"required_Time_on\")\r\n",
    "   &(df.condoms==\"tested_on_given_date\")   \r\n",
    "  ].code.count()\r\n",
    "\r\n",
    "total_condoms_non_recu_15_24 = df[(df.age_range != \"not_valid_age\")\r\n",
    "   &(df.age_range!=\"25-29\")\r\n",
    "   &(df.age_range!=\"10-14\")\r\n",
    "   &(df.timeOn_system==\"required_Time_on\")\r\n",
    "   &(df.condoms==\"errata\")   \r\n",
    "  ].code.count()\r\n",
    "\r\n",
    "total_condoms_non_recu = df[(df.age_range != \"not_valid_age\")\r\n",
    "   &(df.age_range!=\"25-29\")\r\n",
    "   &(df.timeOn_system==\"required_Time_on\")\r\n",
    "   &(df.condoms==\"errata\")   \r\n",
    "  ].code.count()\r\n",
    "\r\n",
    "\r\n",
    "total_condoms\r\n",
    "total_condoms_non_recu_15_24\r\n",
    "total_condoms_non_recu"
   ],
   "outputs": [
    {
     "output_type": "execute_result",
     "data": {
      "text/plain": [
       "3065"
      ]
     },
     "metadata": {},
     "execution_count": 13
    },
    {
     "output_type": "execute_result",
     "data": {
      "text/plain": [
       "8255"
      ]
     },
     "metadata": {},
     "execution_count": 13
    },
    {
     "output_type": "execute_result",
     "data": {
      "text/plain": [
       "15274"
      ]
     },
     "metadata": {},
     "execution_count": 13
    }
   ],
   "metadata": {}
  },
  {
   "cell_type": "code",
   "execution_count": 14,
   "source": [
    "condom_data = pd.DataFrame({\"state\":[\r\n",
    "                                    \"condom non recu pour les 15-24ans\",\r\n",
    "                                    \"condom non recu\",\r\n",
    "                                    \"condom recu\"\r\n",
    "                                 ],\r\n",
    "                            \"data\": [\r\n",
    "                               total_condoms_non_recu_15_24,\r\n",
    "                               total_condoms_non_recu,\r\n",
    "                               total_condoms\r\n",
    "                            ]\r\n",
    "})"
   ],
   "outputs": [],
   "metadata": {}
  },
  {
   "cell_type": "code",
   "execution_count": 15,
   "source": [
    "plt.subplots(figsize=(16,8))\r\n",
    "sns.set_style(\"darkgrid\")\r\n",
    "splot = sns.barplot(x=\"state\",y=\"data\",data=condom_data)\r\n",
    "splot.set_xlabel(\"\")\r\n",
    "splot.set_ylabel(\"\")\r\n",
    "plt.suptitle(\"AGYW  and their curriculum services status\")\r\n",
    "for p in splot.patches:\r\n",
    "    height = p.get_height()\r\n",
    "    plt.text(\r\n",
    "                p.get_x() + p.get_width()/2, \r\n",
    "                0.5*p.get_height() + p.get_y(),\r\n",
    "                '{:1.0f}'.format(height), \r\n",
    "                ha='center', va='center',\r\n",
    "                size=15,\r\n",
    "                fontdict=dict(color=\"white\",fontsize=15)\r\n",
    "            )\r\n",
    "    \r\n",
    "plt.annotate(\r\n",
    "    \"source: HIVHaiti\",(0,0), (-80,-20), fontsize=10, \r\n",
    "             xycoords='axes fraction', textcoords='offset points', va='top'\r\n",
    ")\r\n",
    "plt.savefig(\"Evolution_condom\",dpi=400)"
   ],
   "outputs": [
    {
     "output_type": "execute_result",
     "data": {
      "text/plain": [
       "(<Figure size 1152x576 with 1 Axes>, <AxesSubplot:>)"
      ]
     },
     "metadata": {},
     "execution_count": 15
    },
    {
     "output_type": "execute_result",
     "data": {
      "text/plain": [
       "Text(0.5, 0, '')"
      ]
     },
     "metadata": {},
     "execution_count": 15
    },
    {
     "output_type": "execute_result",
     "data": {
      "text/plain": [
       "Text(0, 0.5, '')"
      ]
     },
     "metadata": {},
     "execution_count": 15
    },
    {
     "output_type": "execute_result",
     "data": {
      "text/plain": [
       "Text(0.5, 0.98, 'AGYW  and their curriculum services status')"
      ]
     },
     "metadata": {},
     "execution_count": 15
    },
    {
     "output_type": "execute_result",
     "data": {
      "text/plain": [
       "Text(0.0, 4127.5, '8255')"
      ]
     },
     "metadata": {},
     "execution_count": 15
    },
    {
     "output_type": "execute_result",
     "data": {
      "text/plain": [
       "Text(1.0, 7637.0, '15274')"
      ]
     },
     "metadata": {},
     "execution_count": 15
    },
    {
     "output_type": "execute_result",
     "data": {
      "text/plain": [
       "Text(2.0, 1532.5, '3065')"
      ]
     },
     "metadata": {},
     "execution_count": 15
    },
    {
     "output_type": "execute_result",
     "data": {
      "text/plain": [
       "Text(-80, -20, 'source: HIVHaiti')"
      ]
     },
     "metadata": {},
     "execution_count": 15
    },
    {
     "output_type": "display_data",
     "data": {
      "text/plain": [
       "<Figure size 1152x576 with 1 Axes>"
      ],
      "image/svg+xml": "<?xml version=\"1.0\" encoding=\"utf-8\" standalone=\"no\"?>\r\n<!DOCTYPE svg PUBLIC \"-//W3C//DTD SVG 1.1//EN\"\r\n  \"http://www.w3.org/Graphics/SVG/1.1/DTD/svg11.dtd\">\r\n<svg height=\"536.025313pt\" version=\"1.1\" viewBox=\"0 0 987.2 536.025313\" width=\"987.2pt\" xmlns=\"http://www.w3.org/2000/svg\" xmlns:xlink=\"http://www.w3.org/1999/xlink\">\r\n <metadata>\r\n  <rdf:RDF xmlns:cc=\"http://creativecommons.org/ns#\" xmlns:dc=\"http://purl.org/dc/elements/1.1/\" xmlns:rdf=\"http://www.w3.org/1999/02/22-rdf-syntax-ns#\">\r\n   <cc:Work>\r\n    <dc:type rdf:resource=\"http://purl.org/dc/dcmitype/StillImage\"/>\r\n    <dc:date>2021-08-18T10:14:24.955804</dc:date>\r\n    <dc:format>image/svg+xml</dc:format>\r\n    <dc:creator>\r\n     <cc:Agent>\r\n      <dc:title>Matplotlib v3.4.1, https://matplotlib.org/</dc:title>\r\n     </cc:Agent>\r\n    </dc:creator>\r\n   </cc:Work>\r\n  </rdf:RDF>\r\n </metadata>\r\n <defs>\r\n  <style type=\"text/css\">*{stroke-linecap:butt;stroke-linejoin:round;}</style>\r\n </defs>\r\n <g id=\"figure_1\">\r\n  <g id=\"patch_1\">\r\n   <path d=\"M 0 536.025313 \r\nL 987.2 536.025313 \r\nL 987.2 0 \r\nL 0 0 \r\nz\r\n\" style=\"fill:#ffffff;\"/>\r\n  </g>\r\n  <g id=\"axes_1\">\r\n   <g id=\"patch_2\">\r\n    <path d=\"M 87.2 499.68 \r\nL 980 499.68 \r\nL 980 64.8 \r\nL 87.2 64.8 \r\nz\r\n\" style=\"fill:#eaeaf2;\"/>\r\n   </g>\r\n   <g id=\"matplotlib.axis_1\">\r\n    <g id=\"xtick_1\">\r\n     <g id=\"text_1\">\r\n      <!-- condom non recu pour les 15-24ans -->\r\n      <g style=\"fill:#262626;\" transform=\"translate(155.955469 513.8675)scale(0.1 -0.1)\">\r\n       <defs>\r\n        <path d=\"M 2588 1216 \r\nL 3141 1144 \r\nQ 3050 572 2676 248 \r\nQ 2303 -75 1759 -75 \r\nQ 1078 -75 664 370 \r\nQ 250 816 250 1647 \r\nQ 250 2184 428 2587 \r\nQ 606 2991 970 3192 \r\nQ 1334 3394 1763 3394 \r\nQ 2303 3394 2647 3120 \r\nQ 2991 2847 3088 2344 \r\nL 2541 2259 \r\nQ 2463 2594 2264 2762 \r\nQ 2066 2931 1784 2931 \r\nQ 1359 2931 1093 2626 \r\nQ 828 2322 828 1663 \r\nQ 828 994 1084 691 \r\nQ 1341 388 1753 388 \r\nQ 2084 388 2306 591 \r\nQ 2528 794 2588 1216 \r\nz\r\n\" id=\"ArialMT-63\" transform=\"scale(0.015625)\"/>\r\n        <path d=\"M 213 1659 \r\nQ 213 2581 725 3025 \r\nQ 1153 3394 1769 3394 \r\nQ 2453 3394 2887 2945 \r\nQ 3322 2497 3322 1706 \r\nQ 3322 1066 3130 698 \r\nQ 2938 331 2570 128 \r\nQ 2203 -75 1769 -75 \r\nQ 1072 -75 642 372 \r\nQ 213 819 213 1659 \r\nz\r\nM 791 1659 \r\nQ 791 1022 1069 705 \r\nQ 1347 388 1769 388 \r\nQ 2188 388 2466 706 \r\nQ 2744 1025 2744 1678 \r\nQ 2744 2294 2464 2611 \r\nQ 2184 2928 1769 2928 \r\nQ 1347 2928 1069 2612 \r\nQ 791 2297 791 1659 \r\nz\r\n\" id=\"ArialMT-6f\" transform=\"scale(0.015625)\"/>\r\n        <path d=\"M 422 0 \r\nL 422 3319 \r\nL 928 3319 \r\nL 928 2847 \r\nQ 1294 3394 1984 3394 \r\nQ 2284 3394 2536 3286 \r\nQ 2788 3178 2913 3003 \r\nQ 3038 2828 3088 2588 \r\nQ 3119 2431 3119 2041 \r\nL 3119 0 \r\nL 2556 0 \r\nL 2556 2019 \r\nQ 2556 2363 2490 2533 \r\nQ 2425 2703 2258 2804 \r\nQ 2091 2906 1866 2906 \r\nQ 1506 2906 1245 2678 \r\nQ 984 2450 984 1813 \r\nL 984 0 \r\nL 422 0 \r\nz\r\n\" id=\"ArialMT-6e\" transform=\"scale(0.015625)\"/>\r\n        <path d=\"M 2575 0 \r\nL 2575 419 \r\nQ 2259 -75 1647 -75 \r\nQ 1250 -75 917 144 \r\nQ 584 363 401 755 \r\nQ 219 1147 219 1656 \r\nQ 219 2153 384 2558 \r\nQ 550 2963 881 3178 \r\nQ 1213 3394 1622 3394 \r\nQ 1922 3394 2156 3267 \r\nQ 2391 3141 2538 2938 \r\nL 2538 4581 \r\nL 3097 4581 \r\nL 3097 0 \r\nL 2575 0 \r\nz\r\nM 797 1656 \r\nQ 797 1019 1065 703 \r\nQ 1334 388 1700 388 \r\nQ 2069 388 2326 689 \r\nQ 2584 991 2584 1609 \r\nQ 2584 2291 2321 2609 \r\nQ 2059 2928 1675 2928 \r\nQ 1300 2928 1048 2622 \r\nQ 797 2316 797 1656 \r\nz\r\n\" id=\"ArialMT-64\" transform=\"scale(0.015625)\"/>\r\n        <path d=\"M 422 0 \r\nL 422 3319 \r\nL 925 3319 \r\nL 925 2853 \r\nQ 1081 3097 1340 3245 \r\nQ 1600 3394 1931 3394 \r\nQ 2300 3394 2536 3241 \r\nQ 2772 3088 2869 2813 \r\nQ 3263 3394 3894 3394 \r\nQ 4388 3394 4653 3120 \r\nQ 4919 2847 4919 2278 \r\nL 4919 0 \r\nL 4359 0 \r\nL 4359 2091 \r\nQ 4359 2428 4304 2576 \r\nQ 4250 2725 4106 2815 \r\nQ 3963 2906 3769 2906 \r\nQ 3419 2906 3187 2673 \r\nQ 2956 2441 2956 1928 \r\nL 2956 0 \r\nL 2394 0 \r\nL 2394 2156 \r\nQ 2394 2531 2256 2718 \r\nQ 2119 2906 1806 2906 \r\nQ 1569 2906 1367 2781 \r\nQ 1166 2656 1075 2415 \r\nQ 984 2175 984 1722 \r\nL 984 0 \r\nL 422 0 \r\nz\r\n\" id=\"ArialMT-6d\" transform=\"scale(0.015625)\"/>\r\n        <path id=\"ArialMT-20\" transform=\"scale(0.015625)\"/>\r\n        <path d=\"M 416 0 \r\nL 416 3319 \r\nL 922 3319 \r\nL 922 2816 \r\nQ 1116 3169 1280 3281 \r\nQ 1444 3394 1641 3394 \r\nQ 1925 3394 2219 3213 \r\nL 2025 2691 \r\nQ 1819 2813 1613 2813 \r\nQ 1428 2813 1281 2702 \r\nQ 1134 2591 1072 2394 \r\nQ 978 2094 978 1738 \r\nL 978 0 \r\nL 416 0 \r\nz\r\n\" id=\"ArialMT-72\" transform=\"scale(0.015625)\"/>\r\n        <path d=\"M 2694 1069 \r\nL 3275 997 \r\nQ 3138 488 2766 206 \r\nQ 2394 -75 1816 -75 \r\nQ 1088 -75 661 373 \r\nQ 234 822 234 1631 \r\nQ 234 2469 665 2931 \r\nQ 1097 3394 1784 3394 \r\nQ 2450 3394 2872 2941 \r\nQ 3294 2488 3294 1666 \r\nQ 3294 1616 3291 1516 \r\nL 816 1516 \r\nQ 847 969 1125 678 \r\nQ 1403 388 1819 388 \r\nQ 2128 388 2347 550 \r\nQ 2566 713 2694 1069 \r\nz\r\nM 847 1978 \r\nL 2700 1978 \r\nQ 2663 2397 2488 2606 \r\nQ 2219 2931 1791 2931 \r\nQ 1403 2931 1139 2672 \r\nQ 875 2413 847 1978 \r\nz\r\n\" id=\"ArialMT-65\" transform=\"scale(0.015625)\"/>\r\n        <path d=\"M 2597 0 \r\nL 2597 488 \r\nQ 2209 -75 1544 -75 \r\nQ 1250 -75 995 37 \r\nQ 741 150 617 320 \r\nQ 494 491 444 738 \r\nQ 409 903 409 1263 \r\nL 409 3319 \r\nL 972 3319 \r\nL 972 1478 \r\nQ 972 1038 1006 884 \r\nQ 1059 663 1231 536 \r\nQ 1403 409 1656 409 \r\nQ 1909 409 2131 539 \r\nQ 2353 669 2445 892 \r\nQ 2538 1116 2538 1541 \r\nL 2538 3319 \r\nL 3100 3319 \r\nL 3100 0 \r\nL 2597 0 \r\nz\r\n\" id=\"ArialMT-75\" transform=\"scale(0.015625)\"/>\r\n        <path d=\"M 422 -1272 \r\nL 422 3319 \r\nL 934 3319 \r\nL 934 2888 \r\nQ 1116 3141 1344 3267 \r\nQ 1572 3394 1897 3394 \r\nQ 2322 3394 2647 3175 \r\nQ 2972 2956 3137 2557 \r\nQ 3303 2159 3303 1684 \r\nQ 3303 1175 3120 767 \r\nQ 2938 359 2589 142 \r\nQ 2241 -75 1856 -75 \r\nQ 1575 -75 1351 44 \r\nQ 1128 163 984 344 \r\nL 984 -1272 \r\nL 422 -1272 \r\nz\r\nM 931 1641 \r\nQ 931 1000 1190 694 \r\nQ 1450 388 1819 388 \r\nQ 2194 388 2461 705 \r\nQ 2728 1022 2728 1688 \r\nQ 2728 2322 2467 2637 \r\nQ 2206 2953 1844 2953 \r\nQ 1484 2953 1207 2617 \r\nQ 931 2281 931 1641 \r\nz\r\n\" id=\"ArialMT-70\" transform=\"scale(0.015625)\"/>\r\n        <path d=\"M 409 0 \r\nL 409 4581 \r\nL 972 4581 \r\nL 972 0 \r\nL 409 0 \r\nz\r\n\" id=\"ArialMT-6c\" transform=\"scale(0.015625)\"/>\r\n        <path d=\"M 197 991 \r\nL 753 1078 \r\nQ 800 744 1014 566 \r\nQ 1228 388 1613 388 \r\nQ 2000 388 2187 545 \r\nQ 2375 703 2375 916 \r\nQ 2375 1106 2209 1216 \r\nQ 2094 1291 1634 1406 \r\nQ 1016 1563 777 1677 \r\nQ 538 1791 414 1992 \r\nQ 291 2194 291 2438 \r\nQ 291 2659 392 2848 \r\nQ 494 3038 669 3163 \r\nQ 800 3259 1026 3326 \r\nQ 1253 3394 1513 3394 \r\nQ 1903 3394 2198 3281 \r\nQ 2494 3169 2634 2976 \r\nQ 2775 2784 2828 2463 \r\nL 2278 2388 \r\nQ 2241 2644 2061 2787 \r\nQ 1881 2931 1553 2931 \r\nQ 1166 2931 1000 2803 \r\nQ 834 2675 834 2503 \r\nQ 834 2394 903 2306 \r\nQ 972 2216 1119 2156 \r\nQ 1203 2125 1616 2013 \r\nQ 2213 1853 2448 1751 \r\nQ 2684 1650 2818 1456 \r\nQ 2953 1263 2953 975 \r\nQ 2953 694 2789 445 \r\nQ 2625 197 2315 61 \r\nQ 2006 -75 1616 -75 \r\nQ 969 -75 630 194 \r\nQ 291 463 197 991 \r\nz\r\n\" id=\"ArialMT-73\" transform=\"scale(0.015625)\"/>\r\n        <path d=\"M 2384 0 \r\nL 1822 0 \r\nL 1822 3584 \r\nQ 1619 3391 1289 3197 \r\nQ 959 3003 697 2906 \r\nL 697 3450 \r\nQ 1169 3672 1522 3987 \r\nQ 1875 4303 2022 4600 \r\nL 2384 4600 \r\nL 2384 0 \r\nz\r\n\" id=\"ArialMT-31\" transform=\"scale(0.015625)\"/>\r\n        <path d=\"M 266 1200 \r\nL 856 1250 \r\nQ 922 819 1161 601 \r\nQ 1400 384 1738 384 \r\nQ 2144 384 2425 690 \r\nQ 2706 997 2706 1503 \r\nQ 2706 1984 2436 2262 \r\nQ 2166 2541 1728 2541 \r\nQ 1456 2541 1237 2417 \r\nQ 1019 2294 894 2097 \r\nL 366 2166 \r\nL 809 4519 \r\nL 3088 4519 \r\nL 3088 3981 \r\nL 1259 3981 \r\nL 1013 2750 \r\nQ 1425 3038 1878 3038 \r\nQ 2478 3038 2890 2622 \r\nQ 3303 2206 3303 1553 \r\nQ 3303 931 2941 478 \r\nQ 2500 -78 1738 -78 \r\nQ 1113 -78 717 272 \r\nQ 322 622 266 1200 \r\nz\r\n\" id=\"ArialMT-35\" transform=\"scale(0.015625)\"/>\r\n        <path d=\"M 203 1375 \r\nL 203 1941 \r\nL 1931 1941 \r\nL 1931 1375 \r\nL 203 1375 \r\nz\r\n\" id=\"ArialMT-2d\" transform=\"scale(0.015625)\"/>\r\n        <path d=\"M 3222 541 \r\nL 3222 0 \r\nL 194 0 \r\nQ 188 203 259 391 \r\nQ 375 700 629 1000 \r\nQ 884 1300 1366 1694 \r\nQ 2113 2306 2375 2664 \r\nQ 2638 3022 2638 3341 \r\nQ 2638 3675 2398 3904 \r\nQ 2159 4134 1775 4134 \r\nQ 1369 4134 1125 3890 \r\nQ 881 3647 878 3216 \r\nL 300 3275 \r\nQ 359 3922 746 4261 \r\nQ 1134 4600 1788 4600 \r\nQ 2447 4600 2831 4234 \r\nQ 3216 3869 3216 3328 \r\nQ 3216 3053 3103 2787 \r\nQ 2991 2522 2730 2228 \r\nQ 2469 1934 1863 1422 \r\nQ 1356 997 1212 845 \r\nQ 1069 694 975 541 \r\nL 3222 541 \r\nz\r\n\" id=\"ArialMT-32\" transform=\"scale(0.015625)\"/>\r\n        <path d=\"M 2069 0 \r\nL 2069 1097 \r\nL 81 1097 \r\nL 81 1613 \r\nL 2172 4581 \r\nL 2631 4581 \r\nL 2631 1613 \r\nL 3250 1613 \r\nL 3250 1097 \r\nL 2631 1097 \r\nL 2631 0 \r\nL 2069 0 \r\nz\r\nM 2069 1613 \r\nL 2069 3678 \r\nL 634 1613 \r\nL 2069 1613 \r\nz\r\n\" id=\"ArialMT-34\" transform=\"scale(0.015625)\"/>\r\n        <path d=\"M 2588 409 \r\nQ 2275 144 1986 34 \r\nQ 1697 -75 1366 -75 \r\nQ 819 -75 525 192 \r\nQ 231 459 231 875 \r\nQ 231 1119 342 1320 \r\nQ 453 1522 633 1644 \r\nQ 813 1766 1038 1828 \r\nQ 1203 1872 1538 1913 \r\nQ 2219 1994 2541 2106 \r\nQ 2544 2222 2544 2253 \r\nQ 2544 2597 2384 2738 \r\nQ 2169 2928 1744 2928 \r\nQ 1347 2928 1158 2789 \r\nQ 969 2650 878 2297 \r\nL 328 2372 \r\nQ 403 2725 575 2942 \r\nQ 747 3159 1072 3276 \r\nQ 1397 3394 1825 3394 \r\nQ 2250 3394 2515 3294 \r\nQ 2781 3194 2906 3042 \r\nQ 3031 2891 3081 2659 \r\nQ 3109 2516 3109 2141 \r\nL 3109 1391 \r\nQ 3109 606 3145 398 \r\nQ 3181 191 3288 0 \r\nL 2700 0 \r\nQ 2613 175 2588 409 \r\nz\r\nM 2541 1666 \r\nQ 2234 1541 1622 1453 \r\nQ 1275 1403 1131 1340 \r\nQ 988 1278 909 1158 \r\nQ 831 1038 831 891 \r\nQ 831 666 1001 516 \r\nQ 1172 366 1500 366 \r\nQ 1825 366 2078 508 \r\nQ 2331 650 2450 897 \r\nQ 2541 1088 2541 1459 \r\nL 2541 1666 \r\nz\r\n\" id=\"ArialMT-61\" transform=\"scale(0.015625)\"/>\r\n       </defs>\r\n       <use xlink:href=\"#ArialMT-63\"/>\r\n       <use x=\"50\" xlink:href=\"#ArialMT-6f\"/>\r\n       <use x=\"105.615234\" xlink:href=\"#ArialMT-6e\"/>\r\n       <use x=\"161.230469\" xlink:href=\"#ArialMT-64\"/>\r\n       <use x=\"216.845703\" xlink:href=\"#ArialMT-6f\"/>\r\n       <use x=\"272.460938\" xlink:href=\"#ArialMT-6d\"/>\r\n       <use x=\"355.761719\" xlink:href=\"#ArialMT-20\"/>\r\n       <use x=\"383.544922\" xlink:href=\"#ArialMT-6e\"/>\r\n       <use x=\"439.160156\" xlink:href=\"#ArialMT-6f\"/>\r\n       <use x=\"494.775391\" xlink:href=\"#ArialMT-6e\"/>\r\n       <use x=\"550.390625\" xlink:href=\"#ArialMT-20\"/>\r\n       <use x=\"578.173828\" xlink:href=\"#ArialMT-72\"/>\r\n       <use x=\"611.474609\" xlink:href=\"#ArialMT-65\"/>\r\n       <use x=\"667.089844\" xlink:href=\"#ArialMT-63\"/>\r\n       <use x=\"717.089844\" xlink:href=\"#ArialMT-75\"/>\r\n       <use x=\"772.705078\" xlink:href=\"#ArialMT-20\"/>\r\n       <use x=\"800.488281\" xlink:href=\"#ArialMT-70\"/>\r\n       <use x=\"856.103516\" xlink:href=\"#ArialMT-6f\"/>\r\n       <use x=\"911.71875\" xlink:href=\"#ArialMT-75\"/>\r\n       <use x=\"967.333984\" xlink:href=\"#ArialMT-72\"/>\r\n       <use x=\"1000.634766\" xlink:href=\"#ArialMT-20\"/>\r\n       <use x=\"1028.417969\" xlink:href=\"#ArialMT-6c\"/>\r\n       <use x=\"1050.634766\" xlink:href=\"#ArialMT-65\"/>\r\n       <use x=\"1106.25\" xlink:href=\"#ArialMT-73\"/>\r\n       <use x=\"1156.25\" xlink:href=\"#ArialMT-20\"/>\r\n       <use x=\"1184.033203\" xlink:href=\"#ArialMT-31\"/>\r\n       <use x=\"1239.648438\" xlink:href=\"#ArialMT-35\"/>\r\n       <use x=\"1295.263672\" xlink:href=\"#ArialMT-2d\"/>\r\n       <use x=\"1328.564453\" xlink:href=\"#ArialMT-32\"/>\r\n       <use x=\"1384.179688\" xlink:href=\"#ArialMT-34\"/>\r\n       <use x=\"1439.794922\" xlink:href=\"#ArialMT-61\"/>\r\n       <use x=\"1495.410156\" xlink:href=\"#ArialMT-6e\"/>\r\n       <use x=\"1551.025391\" xlink:href=\"#ArialMT-73\"/>\r\n      </g>\r\n     </g>\r\n    </g>\r\n    <g id=\"xtick_2\">\r\n     <g id=\"text_2\">\r\n      <!-- condom non recu -->\r\n      <g style=\"fill:#262626;\" transform=\"translate(494.967969 513.837813)scale(0.1 -0.1)\">\r\n       <use xlink:href=\"#ArialMT-63\"/>\r\n       <use x=\"50\" xlink:href=\"#ArialMT-6f\"/>\r\n       <use x=\"105.615234\" xlink:href=\"#ArialMT-6e\"/>\r\n       <use x=\"161.230469\" xlink:href=\"#ArialMT-64\"/>\r\n       <use x=\"216.845703\" xlink:href=\"#ArialMT-6f\"/>\r\n       <use x=\"272.460938\" xlink:href=\"#ArialMT-6d\"/>\r\n       <use x=\"355.761719\" xlink:href=\"#ArialMT-20\"/>\r\n       <use x=\"383.544922\" xlink:href=\"#ArialMT-6e\"/>\r\n       <use x=\"439.160156\" xlink:href=\"#ArialMT-6f\"/>\r\n       <use x=\"494.775391\" xlink:href=\"#ArialMT-6e\"/>\r\n       <use x=\"550.390625\" xlink:href=\"#ArialMT-20\"/>\r\n       <use x=\"578.173828\" xlink:href=\"#ArialMT-72\"/>\r\n       <use x=\"611.474609\" xlink:href=\"#ArialMT-65\"/>\r\n       <use x=\"667.089844\" xlink:href=\"#ArialMT-63\"/>\r\n       <use x=\"717.089844\" xlink:href=\"#ArialMT-75\"/>\r\n      </g>\r\n     </g>\r\n    </g>\r\n    <g id=\"xtick_3\">\r\n     <g id=\"text_3\">\r\n      <!-- condom recu -->\r\n      <g style=\"fill:#262626;\" transform=\"translate(802.298437 513.837813)scale(0.1 -0.1)\">\r\n       <use xlink:href=\"#ArialMT-63\"/>\r\n       <use x=\"50\" xlink:href=\"#ArialMT-6f\"/>\r\n       <use x=\"105.615234\" xlink:href=\"#ArialMT-6e\"/>\r\n       <use x=\"161.230469\" xlink:href=\"#ArialMT-64\"/>\r\n       <use x=\"216.845703\" xlink:href=\"#ArialMT-6f\"/>\r\n       <use x=\"272.460938\" xlink:href=\"#ArialMT-6d\"/>\r\n       <use x=\"355.761719\" xlink:href=\"#ArialMT-20\"/>\r\n       <use x=\"383.544922\" xlink:href=\"#ArialMT-72\"/>\r\n       <use x=\"416.845703\" xlink:href=\"#ArialMT-65\"/>\r\n       <use x=\"472.460938\" xlink:href=\"#ArialMT-63\"/>\r\n       <use x=\"522.460938\" xlink:href=\"#ArialMT-75\"/>\r\n      </g>\r\n     </g>\r\n    </g>\r\n   </g>\r\n   <g id=\"matplotlib.axis_2\">\r\n    <g id=\"ytick_1\">\r\n     <g id=\"line2d_1\">\r\n      <path clip-path=\"url(#pfcd91f8f24)\" d=\"M 87.2 499.68 \r\nL 980 499.68 \r\n\" style=\"fill:none;stroke:#ffffff;stroke-linecap:round;stroke-width:0.8;\"/>\r\n     </g>\r\n     <g id=\"text_4\">\r\n      <!-- 0 -->\r\n      <g style=\"fill:#262626;\" transform=\"translate(74.639063 503.258906)scale(0.1 -0.1)\">\r\n       <defs>\r\n        <path d=\"M 266 2259 \r\nQ 266 3072 433 3567 \r\nQ 600 4063 929 4331 \r\nQ 1259 4600 1759 4600 \r\nQ 2128 4600 2406 4451 \r\nQ 2684 4303 2865 4023 \r\nQ 3047 3744 3150 3342 \r\nQ 3253 2941 3253 2259 \r\nQ 3253 1453 3087 958 \r\nQ 2922 463 2592 192 \r\nQ 2263 -78 1759 -78 \r\nQ 1097 -78 719 397 \r\nQ 266 969 266 2259 \r\nz\r\nM 844 2259 \r\nQ 844 1131 1108 757 \r\nQ 1372 384 1759 384 \r\nQ 2147 384 2411 759 \r\nQ 2675 1134 2675 2259 \r\nQ 2675 3391 2411 3762 \r\nQ 2147 4134 1753 4134 \r\nQ 1366 4134 1134 3806 \r\nQ 844 3388 844 2259 \r\nz\r\n\" id=\"ArialMT-30\" transform=\"scale(0.015625)\"/>\r\n       </defs>\r\n       <use xlink:href=\"#ArialMT-30\"/>\r\n      </g>\r\n     </g>\r\n    </g>\r\n    <g id=\"ytick_2\">\r\n     <g id=\"line2d_2\">\r\n      <path clip-path=\"url(#pfcd91f8f24)\" d=\"M 87.2 445.447785 \r\nL 980 445.447785 \r\n\" style=\"fill:none;stroke:#ffffff;stroke-linecap:round;stroke-width:0.8;\"/>\r\n     </g>\r\n     <g id=\"text_5\">\r\n      <!-- 2000 -->\r\n      <g style=\"fill:#262626;\" transform=\"translate(57.95625 449.026691)scale(0.1 -0.1)\">\r\n       <use xlink:href=\"#ArialMT-32\"/>\r\n       <use x=\"55.615234\" xlink:href=\"#ArialMT-30\"/>\r\n       <use x=\"111.230469\" xlink:href=\"#ArialMT-30\"/>\r\n       <use x=\"166.845703\" xlink:href=\"#ArialMT-30\"/>\r\n      </g>\r\n     </g>\r\n    </g>\r\n    <g id=\"ytick_3\">\r\n     <g id=\"line2d_3\">\r\n      <path clip-path=\"url(#pfcd91f8f24)\" d=\"M 87.2 391.215569 \r\nL 980 391.215569 \r\n\" style=\"fill:none;stroke:#ffffff;stroke-linecap:round;stroke-width:0.8;\"/>\r\n     </g>\r\n     <g id=\"text_6\">\r\n      <!-- 4000 -->\r\n      <g style=\"fill:#262626;\" transform=\"translate(57.95625 394.794476)scale(0.1 -0.1)\">\r\n       <use xlink:href=\"#ArialMT-34\"/>\r\n       <use x=\"55.615234\" xlink:href=\"#ArialMT-30\"/>\r\n       <use x=\"111.230469\" xlink:href=\"#ArialMT-30\"/>\r\n       <use x=\"166.845703\" xlink:href=\"#ArialMT-30\"/>\r\n      </g>\r\n     </g>\r\n    </g>\r\n    <g id=\"ytick_4\">\r\n     <g id=\"line2d_4\">\r\n      <path clip-path=\"url(#pfcd91f8f24)\" d=\"M 87.2 336.983354 \r\nL 980 336.983354 \r\n\" style=\"fill:none;stroke:#ffffff;stroke-linecap:round;stroke-width:0.8;\"/>\r\n     </g>\r\n     <g id=\"text_7\">\r\n      <!-- 6000 -->\r\n      <g style=\"fill:#262626;\" transform=\"translate(57.95625 340.56226)scale(0.1 -0.1)\">\r\n       <defs>\r\n        <path d=\"M 3184 3459 \r\nL 2625 3416 \r\nQ 2550 3747 2413 3897 \r\nQ 2184 4138 1850 4138 \r\nQ 1581 4138 1378 3988 \r\nQ 1113 3794 959 3422 \r\nQ 806 3050 800 2363 \r\nQ 1003 2672 1297 2822 \r\nQ 1591 2972 1913 2972 \r\nQ 2475 2972 2870 2558 \r\nQ 3266 2144 3266 1488 \r\nQ 3266 1056 3080 686 \r\nQ 2894 316 2569 119 \r\nQ 2244 -78 1831 -78 \r\nQ 1128 -78 684 439 \r\nQ 241 956 241 2144 \r\nQ 241 3472 731 4075 \r\nQ 1159 4600 1884 4600 \r\nQ 2425 4600 2770 4297 \r\nQ 3116 3994 3184 3459 \r\nz\r\nM 888 1484 \r\nQ 888 1194 1011 928 \r\nQ 1134 663 1356 523 \r\nQ 1578 384 1822 384 \r\nQ 2178 384 2434 671 \r\nQ 2691 959 2691 1453 \r\nQ 2691 1928 2437 2201 \r\nQ 2184 2475 1800 2475 \r\nQ 1419 2475 1153 2201 \r\nQ 888 1928 888 1484 \r\nz\r\n\" id=\"ArialMT-36\" transform=\"scale(0.015625)\"/>\r\n       </defs>\r\n       <use xlink:href=\"#ArialMT-36\"/>\r\n       <use x=\"55.615234\" xlink:href=\"#ArialMT-30\"/>\r\n       <use x=\"111.230469\" xlink:href=\"#ArialMT-30\"/>\r\n       <use x=\"166.845703\" xlink:href=\"#ArialMT-30\"/>\r\n      </g>\r\n     </g>\r\n    </g>\r\n    <g id=\"ytick_5\">\r\n     <g id=\"line2d_5\">\r\n      <path clip-path=\"url(#pfcd91f8f24)\" d=\"M 87.2 282.751139 \r\nL 980 282.751139 \r\n\" style=\"fill:none;stroke:#ffffff;stroke-linecap:round;stroke-width:0.8;\"/>\r\n     </g>\r\n     <g id=\"text_8\">\r\n      <!-- 8000 -->\r\n      <g style=\"fill:#262626;\" transform=\"translate(57.95625 286.330045)scale(0.1 -0.1)\">\r\n       <defs>\r\n        <path d=\"M 1131 2484 \r\nQ 781 2613 612 2850 \r\nQ 444 3088 444 3419 \r\nQ 444 3919 803 4259 \r\nQ 1163 4600 1759 4600 \r\nQ 2359 4600 2725 4251 \r\nQ 3091 3903 3091 3403 \r\nQ 3091 3084 2923 2848 \r\nQ 2756 2613 2416 2484 \r\nQ 2838 2347 3058 2040 \r\nQ 3278 1734 3278 1309 \r\nQ 3278 722 2862 322 \r\nQ 2447 -78 1769 -78 \r\nQ 1091 -78 675 323 \r\nQ 259 725 259 1325 \r\nQ 259 1772 486 2073 \r\nQ 713 2375 1131 2484 \r\nz\r\nM 1019 3438 \r\nQ 1019 3113 1228 2906 \r\nQ 1438 2700 1772 2700 \r\nQ 2097 2700 2305 2904 \r\nQ 2513 3109 2513 3406 \r\nQ 2513 3716 2298 3927 \r\nQ 2084 4138 1766 4138 \r\nQ 1444 4138 1231 3931 \r\nQ 1019 3725 1019 3438 \r\nz\r\nM 838 1322 \r\nQ 838 1081 952 856 \r\nQ 1066 631 1291 507 \r\nQ 1516 384 1775 384 \r\nQ 2178 384 2440 643 \r\nQ 2703 903 2703 1303 \r\nQ 2703 1709 2433 1975 \r\nQ 2163 2241 1756 2241 \r\nQ 1359 2241 1098 1978 \r\nQ 838 1716 838 1322 \r\nz\r\n\" id=\"ArialMT-38\" transform=\"scale(0.015625)\"/>\r\n       </defs>\r\n       <use xlink:href=\"#ArialMT-38\"/>\r\n       <use x=\"55.615234\" xlink:href=\"#ArialMT-30\"/>\r\n       <use x=\"111.230469\" xlink:href=\"#ArialMT-30\"/>\r\n       <use x=\"166.845703\" xlink:href=\"#ArialMT-30\"/>\r\n      </g>\r\n     </g>\r\n    </g>\r\n    <g id=\"ytick_6\">\r\n     <g id=\"line2d_6\">\r\n      <path clip-path=\"url(#pfcd91f8f24)\" d=\"M 87.2 228.518923 \r\nL 980 228.518923 \r\n\" style=\"fill:none;stroke:#ffffff;stroke-linecap:round;stroke-width:0.8;\"/>\r\n     </g>\r\n     <g id=\"text_9\">\r\n      <!-- 10000 -->\r\n      <g style=\"fill:#262626;\" transform=\"translate(52.395313 232.09783)scale(0.1 -0.1)\">\r\n       <use xlink:href=\"#ArialMT-31\"/>\r\n       <use x=\"55.615234\" xlink:href=\"#ArialMT-30\"/>\r\n       <use x=\"111.230469\" xlink:href=\"#ArialMT-30\"/>\r\n       <use x=\"166.845703\" xlink:href=\"#ArialMT-30\"/>\r\n       <use x=\"222.460938\" xlink:href=\"#ArialMT-30\"/>\r\n      </g>\r\n     </g>\r\n    </g>\r\n    <g id=\"ytick_7\">\r\n     <g id=\"line2d_7\">\r\n      <path clip-path=\"url(#pfcd91f8f24)\" d=\"M 87.2 174.286708 \r\nL 980 174.286708 \r\n\" style=\"fill:none;stroke:#ffffff;stroke-linecap:round;stroke-width:0.8;\"/>\r\n     </g>\r\n     <g id=\"text_10\">\r\n      <!-- 12000 -->\r\n      <g style=\"fill:#262626;\" transform=\"translate(52.395313 177.865614)scale(0.1 -0.1)\">\r\n       <use xlink:href=\"#ArialMT-31\"/>\r\n       <use x=\"55.615234\" xlink:href=\"#ArialMT-32\"/>\r\n       <use x=\"111.230469\" xlink:href=\"#ArialMT-30\"/>\r\n       <use x=\"166.845703\" xlink:href=\"#ArialMT-30\"/>\r\n       <use x=\"222.460938\" xlink:href=\"#ArialMT-30\"/>\r\n      </g>\r\n     </g>\r\n    </g>\r\n    <g id=\"ytick_8\">\r\n     <g id=\"line2d_8\">\r\n      <path clip-path=\"url(#pfcd91f8f24)\" d=\"M 87.2 120.054493 \r\nL 980 120.054493 \r\n\" style=\"fill:none;stroke:#ffffff;stroke-linecap:round;stroke-width:0.8;\"/>\r\n     </g>\r\n     <g id=\"text_11\">\r\n      <!-- 14000 -->\r\n      <g style=\"fill:#262626;\" transform=\"translate(52.395313 123.633399)scale(0.1 -0.1)\">\r\n       <use xlink:href=\"#ArialMT-31\"/>\r\n       <use x=\"55.615234\" xlink:href=\"#ArialMT-34\"/>\r\n       <use x=\"111.230469\" xlink:href=\"#ArialMT-30\"/>\r\n       <use x=\"166.845703\" xlink:href=\"#ArialMT-30\"/>\r\n       <use x=\"222.460938\" xlink:href=\"#ArialMT-30\"/>\r\n      </g>\r\n     </g>\r\n    </g>\r\n    <g id=\"ytick_9\">\r\n     <g id=\"line2d_9\">\r\n      <path clip-path=\"url(#pfcd91f8f24)\" d=\"M 87.2 65.822277 \r\nL 980 65.822277 \r\n\" style=\"fill:none;stroke:#ffffff;stroke-linecap:round;stroke-width:0.8;\"/>\r\n     </g>\r\n     <g id=\"text_12\">\r\n      <!-- 16000 -->\r\n      <g style=\"fill:#262626;\" transform=\"translate(52.395313 69.401184)scale(0.1 -0.1)\">\r\n       <use xlink:href=\"#ArialMT-31\"/>\r\n       <use x=\"55.615234\" xlink:href=\"#ArialMT-36\"/>\r\n       <use x=\"111.230469\" xlink:href=\"#ArialMT-30\"/>\r\n       <use x=\"166.845703\" xlink:href=\"#ArialMT-30\"/>\r\n       <use x=\"222.460938\" xlink:href=\"#ArialMT-30\"/>\r\n      </g>\r\n     </g>\r\n    </g>\r\n   </g>\r\n   <g id=\"patch_3\">\r\n    <path clip-path=\"url(#pfcd91f8f24)\" d=\"M 116.96 499.68 \r\nL 355.04 499.68 \r\nL 355.04 275.836531 \r\nL 116.96 275.836531 \r\nz\r\n\" style=\"fill:#3274a1;stroke:#ffffff;stroke-linejoin:miter;\"/>\r\n   </g>\r\n   <g id=\"patch_4\">\r\n    <path clip-path=\"url(#pfcd91f8f24)\" d=\"M 414.56 499.68 \r\nL 652.64 499.68 \r\nL 652.64 85.508571 \r\nL 414.56 85.508571 \r\nz\r\n\" style=\"fill:#e1812c;stroke:#ffffff;stroke-linejoin:miter;\"/>\r\n   </g>\r\n   <g id=\"patch_5\">\r\n    <path clip-path=\"url(#pfcd91f8f24)\" d=\"M 712.16 499.68 \r\nL 950.24 499.68 \r\nL 950.24 416.56913 \r\nL 712.16 416.56913 \r\nz\r\n\" style=\"fill:#3a923a;stroke:#ffffff;stroke-linejoin:miter;\"/>\r\n   </g>\r\n   <g id=\"line2d_10\">\r\n    <path clip-path=\"url(#pfcd91f8f24)\" d=\"M 0 0 \r\n\" style=\"fill:none;stroke:#424242;stroke-linecap:round;stroke-width:2.7;\"/>\r\n   </g>\r\n   <g id=\"line2d_11\">\r\n    <path clip-path=\"url(#pfcd91f8f24)\" d=\"M 0 0 \r\n\" style=\"fill:none;stroke:#424242;stroke-linecap:round;stroke-width:2.7;\"/>\r\n   </g>\r\n   <g id=\"line2d_12\">\r\n    <path clip-path=\"url(#pfcd91f8f24)\" d=\"M 0 0 \r\n\" style=\"fill:none;stroke:#424242;stroke-linecap:round;stroke-width:2.7;\"/>\r\n   </g>\r\n   <g id=\"patch_6\">\r\n    <path d=\"M 87.2 499.68 \r\nL 87.2 64.8 \r\n\" style=\"fill:none;stroke:#ffffff;stroke-linecap:square;stroke-linejoin:miter;stroke-width:0.8;\"/>\r\n   </g>\r\n   <g id=\"patch_7\">\r\n    <path d=\"M 980 499.68 \r\nL 980 64.8 \r\n\" style=\"fill:none;stroke:#ffffff;stroke-linecap:square;stroke-linejoin:miter;stroke-width:0.8;\"/>\r\n   </g>\r\n   <g id=\"patch_8\">\r\n    <path d=\"M 87.2 499.68 \r\nL 980 499.68 \r\n\" style=\"fill:none;stroke:#ffffff;stroke-linecap:square;stroke-linejoin:miter;stroke-width:0.8;\"/>\r\n   </g>\r\n   <g id=\"patch_9\">\r\n    <path d=\"M 87.2 64.8 \r\nL 980 64.8 \r\n\" style=\"fill:none;stroke:#ffffff;stroke-linecap:square;stroke-linejoin:miter;stroke-width:0.8;\"/>\r\n   </g>\r\n   <g id=\"text_13\">\r\n    <!-- 8255 -->\r\n    <g style=\"fill:#ffffff;\" transform=\"translate(219.317187 391.636)scale(0.15 -0.15)\">\r\n     <use xlink:href=\"#ArialMT-38\"/>\r\n     <use x=\"55.615234\" xlink:href=\"#ArialMT-32\"/>\r\n     <use x=\"111.230469\" xlink:href=\"#ArialMT-35\"/>\r\n     <use x=\"166.845703\" xlink:href=\"#ArialMT-35\"/>\r\n    </g>\r\n   </g>\r\n   <g id=\"text_14\">\r\n    <!-- 15274 -->\r\n    <g style=\"fill:#ffffff;\" transform=\"translate(512.746484 296.47202)scale(0.15 -0.15)\">\r\n     <defs>\r\n      <path d=\"M 303 3981 \r\nL 303 4522 \r\nL 3269 4522 \r\nL 3269 4084 \r\nQ 2831 3619 2401 2847 \r\nQ 1972 2075 1738 1259 \r\nQ 1569 684 1522 0 \r\nL 944 0 \r\nQ 953 541 1156 1306 \r\nQ 1359 2072 1739 2783 \r\nQ 2119 3494 2547 3981 \r\nL 303 3981 \r\nz\r\n\" id=\"ArialMT-37\" transform=\"scale(0.015625)\"/>\r\n     </defs>\r\n     <use xlink:href=\"#ArialMT-31\"/>\r\n     <use x=\"55.615234\" xlink:href=\"#ArialMT-35\"/>\r\n     <use x=\"111.230469\" xlink:href=\"#ArialMT-32\"/>\r\n     <use x=\"166.845703\" xlink:href=\"#ArialMT-37\"/>\r\n     <use x=\"222.460938\" xlink:href=\"#ArialMT-34\"/>\r\n    </g>\r\n   </g>\r\n   <g id=\"text_15\">\r\n    <!-- 3065 -->\r\n    <g style=\"fill:#ffffff;\" transform=\"translate(814.517187 462.002299)scale(0.15 -0.15)\">\r\n     <defs>\r\n      <path d=\"M 269 1209 \r\nL 831 1284 \r\nQ 928 806 1161 595 \r\nQ 1394 384 1728 384 \r\nQ 2125 384 2398 659 \r\nQ 2672 934 2672 1341 \r\nQ 2672 1728 2419 1979 \r\nQ 2166 2231 1775 2231 \r\nQ 1616 2231 1378 2169 \r\nL 1441 2663 \r\nQ 1497 2656 1531 2656 \r\nQ 1891 2656 2178 2843 \r\nQ 2466 3031 2466 3422 \r\nQ 2466 3731 2256 3934 \r\nQ 2047 4138 1716 4138 \r\nQ 1388 4138 1169 3931 \r\nQ 950 3725 888 3313 \r\nL 325 3413 \r\nQ 428 3978 793 4289 \r\nQ 1159 4600 1703 4600 \r\nQ 2078 4600 2393 4439 \r\nQ 2709 4278 2876 4000 \r\nQ 3044 3722 3044 3409 \r\nQ 3044 3113 2884 2869 \r\nQ 2725 2625 2413 2481 \r\nQ 2819 2388 3044 2092 \r\nQ 3269 1797 3269 1353 \r\nQ 3269 753 2831 336 \r\nQ 2394 -81 1725 -81 \r\nQ 1122 -81 723 278 \r\nQ 325 638 269 1209 \r\nz\r\n\" id=\"ArialMT-33\" transform=\"scale(0.015625)\"/>\r\n     </defs>\r\n     <use xlink:href=\"#ArialMT-33\"/>\r\n     <use x=\"55.615234\" xlink:href=\"#ArialMT-30\"/>\r\n     <use x=\"111.230469\" xlink:href=\"#ArialMT-36\"/>\r\n     <use x=\"166.845703\" xlink:href=\"#ArialMT-35\"/>\r\n    </g>\r\n   </g>\r\n   <g id=\"text_16\">\r\n    <!-- source: HIVHaiti -->\r\n    <g style=\"fill:#262626;\" transform=\"translate(7.2 526.837813)scale(0.1 -0.1)\">\r\n     <defs>\r\n      <path d=\"M 578 2678 \r\nL 578 3319 \r\nL 1219 3319 \r\nL 1219 2678 \r\nL 578 2678 \r\nz\r\nM 578 0 \r\nL 578 641 \r\nL 1219 641 \r\nL 1219 0 \r\nL 578 0 \r\nz\r\n\" id=\"ArialMT-3a\" transform=\"scale(0.015625)\"/>\r\n      <path d=\"M 513 0 \r\nL 513 4581 \r\nL 1119 4581 \r\nL 1119 2700 \r\nL 3500 2700 \r\nL 3500 4581 \r\nL 4106 4581 \r\nL 4106 0 \r\nL 3500 0 \r\nL 3500 2159 \r\nL 1119 2159 \r\nL 1119 0 \r\nL 513 0 \r\nz\r\n\" id=\"ArialMT-48\" transform=\"scale(0.015625)\"/>\r\n      <path d=\"M 597 0 \r\nL 597 4581 \r\nL 1203 4581 \r\nL 1203 0 \r\nL 597 0 \r\nz\r\n\" id=\"ArialMT-49\" transform=\"scale(0.015625)\"/>\r\n      <path d=\"M 1803 0 \r\nL 28 4581 \r\nL 684 4581 \r\nL 1875 1253 \r\nQ 2019 853 2116 503 \r\nQ 2222 878 2363 1253 \r\nL 3600 4581 \r\nL 4219 4581 \r\nL 2425 0 \r\nL 1803 0 \r\nz\r\n\" id=\"ArialMT-56\" transform=\"scale(0.015625)\"/>\r\n      <path d=\"M 425 3934 \r\nL 425 4581 \r\nL 988 4581 \r\nL 988 3934 \r\nL 425 3934 \r\nz\r\nM 425 0 \r\nL 425 3319 \r\nL 988 3319 \r\nL 988 0 \r\nL 425 0 \r\nz\r\n\" id=\"ArialMT-69\" transform=\"scale(0.015625)\"/>\r\n      <path d=\"M 1650 503 \r\nL 1731 6 \r\nQ 1494 -44 1306 -44 \r\nQ 1000 -44 831 53 \r\nQ 663 150 594 308 \r\nQ 525 466 525 972 \r\nL 525 2881 \r\nL 113 2881 \r\nL 113 3319 \r\nL 525 3319 \r\nL 525 4141 \r\nL 1084 4478 \r\nL 1084 3319 \r\nL 1650 3319 \r\nL 1650 2881 \r\nL 1084 2881 \r\nL 1084 941 \r\nQ 1084 700 1114 631 \r\nQ 1144 563 1211 522 \r\nQ 1278 481 1403 481 \r\nQ 1497 481 1650 503 \r\nz\r\n\" id=\"ArialMT-74\" transform=\"scale(0.015625)\"/>\r\n     </defs>\r\n     <use xlink:href=\"#ArialMT-73\"/>\r\n     <use x=\"50\" xlink:href=\"#ArialMT-6f\"/>\r\n     <use x=\"105.615234\" xlink:href=\"#ArialMT-75\"/>\r\n     <use x=\"161.230469\" xlink:href=\"#ArialMT-72\"/>\r\n     <use x=\"194.53125\" xlink:href=\"#ArialMT-63\"/>\r\n     <use x=\"244.53125\" xlink:href=\"#ArialMT-65\"/>\r\n     <use x=\"300.146484\" xlink:href=\"#ArialMT-3a\"/>\r\n     <use x=\"327.929688\" xlink:href=\"#ArialMT-20\"/>\r\n     <use x=\"355.712891\" xlink:href=\"#ArialMT-48\"/>\r\n     <use x=\"427.929688\" xlink:href=\"#ArialMT-49\"/>\r\n     <use x=\"455.712891\" xlink:href=\"#ArialMT-56\"/>\r\n     <use x=\"522.412109\" xlink:href=\"#ArialMT-48\"/>\r\n     <use x=\"594.628906\" xlink:href=\"#ArialMT-61\"/>\r\n     <use x=\"650.244141\" xlink:href=\"#ArialMT-69\"/>\r\n     <use x=\"672.460938\" xlink:href=\"#ArialMT-74\"/>\r\n     <use x=\"700.244141\" xlink:href=\"#ArialMT-69\"/>\r\n    </g>\r\n   </g>\r\n  </g>\r\n  <g id=\"text_17\">\r\n   <!-- AGYW  and their curriculum services status -->\r\n   <g style=\"fill:#262626;\" transform=\"translate(403.503125 15.789375)scale(0.12 -0.12)\">\r\n    <defs>\r\n     <path d=\"M -9 0 \r\nL 1750 4581 \r\nL 2403 4581 \r\nL 4278 0 \r\nL 3588 0 \r\nL 3053 1388 \r\nL 1138 1388 \r\nL 634 0 \r\nL -9 0 \r\nz\r\nM 1313 1881 \r\nL 2866 1881 \r\nL 2388 3150 \r\nQ 2169 3728 2063 4100 \r\nQ 1975 3659 1816 3225 \r\nL 1313 1881 \r\nz\r\n\" id=\"ArialMT-41\" transform=\"scale(0.015625)\"/>\r\n     <path d=\"M 2638 1797 \r\nL 2638 2334 \r\nL 4578 2338 \r\nL 4578 638 \r\nQ 4131 281 3656 101 \r\nQ 3181 -78 2681 -78 \r\nQ 2006 -78 1454 211 \r\nQ 903 500 622 1047 \r\nQ 341 1594 341 2269 \r\nQ 341 2938 620 3517 \r\nQ 900 4097 1425 4378 \r\nQ 1950 4659 2634 4659 \r\nQ 3131 4659 3532 4498 \r\nQ 3934 4338 4162 4050 \r\nQ 4391 3763 4509 3300 \r\nL 3963 3150 \r\nQ 3859 3500 3706 3700 \r\nQ 3553 3900 3268 4020 \r\nQ 2984 4141 2638 4141 \r\nQ 2222 4141 1919 4014 \r\nQ 1616 3888 1430 3681 \r\nQ 1244 3475 1141 3228 \r\nQ 966 2803 966 2306 \r\nQ 966 1694 1177 1281 \r\nQ 1388 869 1791 669 \r\nQ 2194 469 2647 469 \r\nQ 3041 469 3416 620 \r\nQ 3791 772 3984 944 \r\nL 3984 1797 \r\nL 2638 1797 \r\nz\r\n\" id=\"ArialMT-47\" transform=\"scale(0.015625)\"/>\r\n     <path d=\"M 1784 0 \r\nL 1784 1941 \r\nL 19 4581 \r\nL 756 4581 \r\nL 1659 3200 \r\nQ 1909 2813 2125 2425 \r\nQ 2331 2784 2625 3234 \r\nL 3513 4581 \r\nL 4219 4581 \r\nL 2391 1941 \r\nL 2391 0 \r\nL 1784 0 \r\nz\r\n\" id=\"ArialMT-59\" transform=\"scale(0.015625)\"/>\r\n     <path d=\"M 1294 0 \r\nL 78 4581 \r\nL 700 4581 \r\nL 1397 1578 \r\nQ 1509 1106 1591 641 \r\nQ 1766 1375 1797 1488 \r\nL 2669 4581 \r\nL 3400 4581 \r\nL 4056 2263 \r\nQ 4303 1400 4413 641 \r\nQ 4500 1075 4641 1638 \r\nL 5359 4581 \r\nL 5969 4581 \r\nL 4713 0 \r\nL 4128 0 \r\nL 3163 3491 \r\nQ 3041 3928 3019 4028 \r\nQ 2947 3713 2884 3491 \r\nL 1913 0 \r\nL 1294 0 \r\nz\r\n\" id=\"ArialMT-57\" transform=\"scale(0.015625)\"/>\r\n     <path d=\"M 422 0 \r\nL 422 4581 \r\nL 984 4581 \r\nL 984 2938 \r\nQ 1378 3394 1978 3394 \r\nQ 2347 3394 2619 3248 \r\nQ 2891 3103 3008 2847 \r\nQ 3125 2591 3125 2103 \r\nL 3125 0 \r\nL 2563 0 \r\nL 2563 2103 \r\nQ 2563 2525 2380 2717 \r\nQ 2197 2909 1863 2909 \r\nQ 1613 2909 1392 2779 \r\nQ 1172 2650 1078 2428 \r\nQ 984 2206 984 1816 \r\nL 984 0 \r\nL 422 0 \r\nz\r\n\" id=\"ArialMT-68\" transform=\"scale(0.015625)\"/>\r\n     <path d=\"M 1344 0 \r\nL 81 3319 \r\nL 675 3319 \r\nL 1388 1331 \r\nQ 1503 1009 1600 663 \r\nQ 1675 925 1809 1294 \r\nL 2547 3319 \r\nL 3125 3319 \r\nL 1869 0 \r\nL 1344 0 \r\nz\r\n\" id=\"ArialMT-76\" transform=\"scale(0.015625)\"/>\r\n    </defs>\r\n    <use xlink:href=\"#ArialMT-41\"/>\r\n    <use x=\"66.699219\" xlink:href=\"#ArialMT-47\"/>\r\n    <use x=\"144.482422\" xlink:href=\"#ArialMT-59\"/>\r\n    <use x=\"211.181641\" xlink:href=\"#ArialMT-57\"/>\r\n    <use x=\"305.566406\" xlink:href=\"#ArialMT-20\"/>\r\n    <use x=\"333.349609\" xlink:href=\"#ArialMT-20\"/>\r\n    <use x=\"361.132812\" xlink:href=\"#ArialMT-61\"/>\r\n    <use x=\"416.748047\" xlink:href=\"#ArialMT-6e\"/>\r\n    <use x=\"472.363281\" xlink:href=\"#ArialMT-64\"/>\r\n    <use x=\"527.978516\" xlink:href=\"#ArialMT-20\"/>\r\n    <use x=\"555.761719\" xlink:href=\"#ArialMT-74\"/>\r\n    <use x=\"583.544922\" xlink:href=\"#ArialMT-68\"/>\r\n    <use x=\"639.160156\" xlink:href=\"#ArialMT-65\"/>\r\n    <use x=\"694.775391\" xlink:href=\"#ArialMT-69\"/>\r\n    <use x=\"716.992188\" xlink:href=\"#ArialMT-72\"/>\r\n    <use x=\"750.292969\" xlink:href=\"#ArialMT-20\"/>\r\n    <use x=\"778.076172\" xlink:href=\"#ArialMT-63\"/>\r\n    <use x=\"828.076172\" xlink:href=\"#ArialMT-75\"/>\r\n    <use x=\"883.691406\" xlink:href=\"#ArialMT-72\"/>\r\n    <use x=\"916.992188\" xlink:href=\"#ArialMT-72\"/>\r\n    <use x=\"950.292969\" xlink:href=\"#ArialMT-69\"/>\r\n    <use x=\"972.509766\" xlink:href=\"#ArialMT-63\"/>\r\n    <use x=\"1022.509766\" xlink:href=\"#ArialMT-75\"/>\r\n    <use x=\"1078.125\" xlink:href=\"#ArialMT-6c\"/>\r\n    <use x=\"1100.341797\" xlink:href=\"#ArialMT-75\"/>\r\n    <use x=\"1155.957031\" xlink:href=\"#ArialMT-6d\"/>\r\n    <use x=\"1239.257812\" xlink:href=\"#ArialMT-20\"/>\r\n    <use x=\"1267.041016\" xlink:href=\"#ArialMT-73\"/>\r\n    <use x=\"1317.041016\" xlink:href=\"#ArialMT-65\"/>\r\n    <use x=\"1372.65625\" xlink:href=\"#ArialMT-72\"/>\r\n    <use x=\"1405.957031\" xlink:href=\"#ArialMT-76\"/>\r\n    <use x=\"1455.957031\" xlink:href=\"#ArialMT-69\"/>\r\n    <use x=\"1478.173828\" xlink:href=\"#ArialMT-63\"/>\r\n    <use x=\"1528.173828\" xlink:href=\"#ArialMT-65\"/>\r\n    <use x=\"1583.789062\" xlink:href=\"#ArialMT-73\"/>\r\n    <use x=\"1633.789062\" xlink:href=\"#ArialMT-20\"/>\r\n    <use x=\"1661.572266\" xlink:href=\"#ArialMT-73\"/>\r\n    <use x=\"1711.572266\" xlink:href=\"#ArialMT-74\"/>\r\n    <use x=\"1739.355469\" xlink:href=\"#ArialMT-61\"/>\r\n    <use x=\"1794.970703\" xlink:href=\"#ArialMT-74\"/>\r\n    <use x=\"1822.753906\" xlink:href=\"#ArialMT-75\"/>\r\n    <use x=\"1878.369141\" xlink:href=\"#ArialMT-73\"/>\r\n   </g>\r\n  </g>\r\n </g>\r\n <defs>\r\n  <clipPath id=\"pfcd91f8f24\">\r\n   <rect height=\"434.88\" width=\"892.8\" x=\"87.2\" y=\"64.8\"/>\r\n  </clipPath>\r\n </defs>\r\n</svg>\r\n",
      "image/png": "[encoded data removed]"
     },
     "metadata": {}
    }
   ],
   "metadata": {}
  },
  {
   "cell_type": "markdown",
   "source": [
    "## HTS"
   ],
   "metadata": {}
  },
  {
   "cell_type": "code",
   "execution_count": 16,
   "source": [
    "total_hts = df[(df.age_range != \"not_valid_age\")\r\n",
    "   &(df.age_range!=\"25-29\")\r\n",
    "   &(df.timeOn_system==\"required_Time_on\")\r\n",
    "   &(df.hts==\"tested_on_given_date\")   \r\n",
    "  ].code.count()\r\n",
    "\r\n",
    "total_hts_non_recu_18_24 = df[(df.newage_range != \"not_valid_age\")\r\n",
    "   &(df.newage_range!=\"25-29\")\r\n",
    "   &(df.newage_range!=\"10-17\")\r\n",
    "   &(df.timeOn_system==\"required_Time_on\")\r\n",
    "   &(df.hts==\"errata\")   \r\n",
    "  ].code.count()\r\n",
    "\r\n",
    "total_hts_non_recu = df[(df.age_range != \"not_valid_age\")\r\n",
    "   &(df.age_range!=\"25-29\")\r\n",
    "   &(df.timeOn_system==\"required_Time_on\")\r\n",
    "   &(df.hts==\"errata\")   \r\n",
    "  ].code.count()\r\n",
    "\r\n",
    "total_hts\r\n",
    "total_hts_non_recu_18_24\r\n",
    "total_hts_non_recu"
   ],
   "outputs": [
    {
     "output_type": "execute_result",
     "data": {
      "text/plain": [
       "1888"
      ]
     },
     "metadata": {},
     "execution_count": 16
    },
    {
     "output_type": "execute_result",
     "data": {
      "text/plain": [
       "5061"
      ]
     },
     "metadata": {},
     "execution_count": 16
    },
    {
     "output_type": "execute_result",
     "data": {
      "text/plain": [
       "16451"
      ]
     },
     "metadata": {},
     "execution_count": 16
    }
   ],
   "metadata": {}
  },
  {
   "cell_type": "code",
   "execution_count": 17,
   "source": [
    "hts_data = pd.DataFrame({\"state\":[\r\n",
    "                                    \"hts non recu pour les 18-24ans\",\r\n",
    "                                    \"hts non recu\",\r\n",
    "                                    \"hts recu\"\r\n",
    "                                 ],\r\n",
    "                            \"data\": [\r\n",
    "                               total_hts_non_recu_18_24,\r\n",
    "                               total_hts_non_recu,\r\n",
    "                               total_hts\r\n",
    "                            ]\r\n",
    "})"
   ],
   "outputs": [],
   "metadata": {}
  },
  {
   "cell_type": "code",
   "execution_count": 18,
   "source": [
    "plt.subplots(figsize=(16,8))\r\n",
    "sns.set_style(\"darkgrid\")\r\n",
    "splot = sns.barplot(x=\"state\",y=\"data\",data=hts_data)\r\n",
    "splot.set_xlabel(\"\")\r\n",
    "splot.set_ylabel(\"\")\r\n",
    "plt.suptitle(\"AGYW  and their HTS services status\")\r\n",
    "for p in splot.patches:\r\n",
    "    height = p.get_height()\r\n",
    "    plt.text(\r\n",
    "                p.get_x() + p.get_width()/2, \r\n",
    "                0.5*p.get_height() + p.get_y(),\r\n",
    "                '{:1.0f}'.format(height), \r\n",
    "                ha='center', va='center',\r\n",
    "                size=15,\r\n",
    "                fontdict=dict(color=\"white\",fontsize=15)\r\n",
    "            )\r\n",
    "    \r\n",
    "plt.annotate(\r\n",
    "    \"source: HIVHaiti\",(0,0), (-80,-20), fontsize=10, \r\n",
    "             xycoords='axes fraction', textcoords='offset points', va='top'\r\n",
    ")\r\n",
    "plt.savefig(\"Evolution_Test_Depistage_VIH\",dpi=400)"
   ],
   "outputs": [
    {
     "output_type": "execute_result",
     "data": {
      "text/plain": [
       "(<Figure size 1152x576 with 1 Axes>, <AxesSubplot:>)"
      ]
     },
     "metadata": {},
     "execution_count": 18
    },
    {
     "output_type": "execute_result",
     "data": {
      "text/plain": [
       "Text(0.5, 0, '')"
      ]
     },
     "metadata": {},
     "execution_count": 18
    },
    {
     "output_type": "execute_result",
     "data": {
      "text/plain": [
       "Text(0, 0.5, '')"
      ]
     },
     "metadata": {},
     "execution_count": 18
    },
    {
     "output_type": "execute_result",
     "data": {
      "text/plain": [
       "Text(0.5, 0.98, 'AGYW  and their HTS services status')"
      ]
     },
     "metadata": {},
     "execution_count": 18
    },
    {
     "output_type": "execute_result",
     "data": {
      "text/plain": [
       "Text(0.0, 2530.5, '5061')"
      ]
     },
     "metadata": {},
     "execution_count": 18
    },
    {
     "output_type": "execute_result",
     "data": {
      "text/plain": [
       "Text(1.0, 8225.5, '16451')"
      ]
     },
     "metadata": {},
     "execution_count": 18
    },
    {
     "output_type": "execute_result",
     "data": {
      "text/plain": [
       "Text(2.0, 944.0, '1888')"
      ]
     },
     "metadata": {},
     "execution_count": 18
    },
    {
     "output_type": "execute_result",
     "data": {
      "text/plain": [
       "Text(-80, -20, 'source: HIVHaiti')"
      ]
     },
     "metadata": {},
     "execution_count": 18
    },
    {
     "output_type": "display_data",
     "data": {
      "text/plain": [
       "<Figure size 1152x576 with 1 Axes>"
      ],
      "image/svg+xml": "<?xml version=\"1.0\" encoding=\"utf-8\" standalone=\"no\"?>\r\n<!DOCTYPE svg PUBLIC \"-//W3C//DTD SVG 1.1//EN\"\r\n  \"http://www.w3.org/Graphics/SVG/1.1/DTD/svg11.dtd\">\r\n<svg height=\"536.025313pt\" version=\"1.1\" viewBox=\"0 0 987.2 536.025313\" width=\"987.2pt\" xmlns=\"http://www.w3.org/2000/svg\" xmlns:xlink=\"http://www.w3.org/1999/xlink\">\r\n <metadata>\r\n  <rdf:RDF xmlns:cc=\"http://creativecommons.org/ns#\" xmlns:dc=\"http://purl.org/dc/elements/1.1/\" xmlns:rdf=\"http://www.w3.org/1999/02/22-rdf-syntax-ns#\">\r\n   <cc:Work>\r\n    <dc:type rdf:resource=\"http://purl.org/dc/dcmitype/StillImage\"/>\r\n    <dc:date>2021-08-18T10:14:26.783936</dc:date>\r\n    <dc:format>image/svg+xml</dc:format>\r\n    <dc:creator>\r\n     <cc:Agent>\r\n      <dc:title>Matplotlib v3.4.1, https://matplotlib.org/</dc:title>\r\n     </cc:Agent>\r\n    </dc:creator>\r\n   </cc:Work>\r\n  </rdf:RDF>\r\n </metadata>\r\n <defs>\r\n  <style type=\"text/css\">*{stroke-linecap:butt;stroke-linejoin:round;}</style>\r\n </defs>\r\n <g id=\"figure_1\">\r\n  <g id=\"patch_1\">\r\n   <path d=\"M 0 536.025313 \r\nL 987.2 536.025313 \r\nL 987.2 0 \r\nL 0 0 \r\nz\r\n\" style=\"fill:#ffffff;\"/>\r\n  </g>\r\n  <g id=\"axes_1\">\r\n   <g id=\"patch_2\">\r\n    <path d=\"M 87.2 499.68 \r\nL 980 499.68 \r\nL 980 64.8 \r\nL 87.2 64.8 \r\nz\r\n\" style=\"fill:#eaeaf2;\"/>\r\n   </g>\r\n   <g id=\"matplotlib.axis_1\">\r\n    <g id=\"xtick_1\">\r\n     <g id=\"text_1\">\r\n      <!-- hts non recu pour les 18-24ans -->\r\n      <g style=\"fill:#262626;\" transform=\"translate(167.072656 513.8675)scale(0.1 -0.1)\">\r\n       <defs>\r\n        <path d=\"M 422 0 \r\nL 422 4581 \r\nL 984 4581 \r\nL 984 2938 \r\nQ 1378 3394 1978 3394 \r\nQ 2347 3394 2619 3248 \r\nQ 2891 3103 3008 2847 \r\nQ 3125 2591 3125 2103 \r\nL 3125 0 \r\nL 2563 0 \r\nL 2563 2103 \r\nQ 2563 2525 2380 2717 \r\nQ 2197 2909 1863 2909 \r\nQ 1613 2909 1392 2779 \r\nQ 1172 2650 1078 2428 \r\nQ 984 2206 984 1816 \r\nL 984 0 \r\nL 422 0 \r\nz\r\n\" id=\"ArialMT-68\" transform=\"scale(0.015625)\"/>\r\n        <path d=\"M 1650 503 \r\nL 1731 6 \r\nQ 1494 -44 1306 -44 \r\nQ 1000 -44 831 53 \r\nQ 663 150 594 308 \r\nQ 525 466 525 972 \r\nL 525 2881 \r\nL 113 2881 \r\nL 113 3319 \r\nL 525 3319 \r\nL 525 4141 \r\nL 1084 4478 \r\nL 1084 3319 \r\nL 1650 3319 \r\nL 1650 2881 \r\nL 1084 2881 \r\nL 1084 941 \r\nQ 1084 700 1114 631 \r\nQ 1144 563 1211 522 \r\nQ 1278 481 1403 481 \r\nQ 1497 481 1650 503 \r\nz\r\n\" id=\"ArialMT-74\" transform=\"scale(0.015625)\"/>\r\n        <path d=\"M 197 991 \r\nL 753 1078 \r\nQ 800 744 1014 566 \r\nQ 1228 388 1613 388 \r\nQ 2000 388 2187 545 \r\nQ 2375 703 2375 916 \r\nQ 2375 1106 2209 1216 \r\nQ 2094 1291 1634 1406 \r\nQ 1016 1563 777 1677 \r\nQ 538 1791 414 1992 \r\nQ 291 2194 291 2438 \r\nQ 291 2659 392 2848 \r\nQ 494 3038 669 3163 \r\nQ 800 3259 1026 3326 \r\nQ 1253 3394 1513 3394 \r\nQ 1903 3394 2198 3281 \r\nQ 2494 3169 2634 2976 \r\nQ 2775 2784 2828 2463 \r\nL 2278 2388 \r\nQ 2241 2644 2061 2787 \r\nQ 1881 2931 1553 2931 \r\nQ 1166 2931 1000 2803 \r\nQ 834 2675 834 2503 \r\nQ 834 2394 903 2306 \r\nQ 972 2216 1119 2156 \r\nQ 1203 2125 1616 2013 \r\nQ 2213 1853 2448 1751 \r\nQ 2684 1650 2818 1456 \r\nQ 2953 1263 2953 975 \r\nQ 2953 694 2789 445 \r\nQ 2625 197 2315 61 \r\nQ 2006 -75 1616 -75 \r\nQ 969 -75 630 194 \r\nQ 291 463 197 991 \r\nz\r\n\" id=\"ArialMT-73\" transform=\"scale(0.015625)\"/>\r\n        <path id=\"ArialMT-20\" transform=\"scale(0.015625)\"/>\r\n        <path d=\"M 422 0 \r\nL 422 3319 \r\nL 928 3319 \r\nL 928 2847 \r\nQ 1294 3394 1984 3394 \r\nQ 2284 3394 2536 3286 \r\nQ 2788 3178 2913 3003 \r\nQ 3038 2828 3088 2588 \r\nQ 3119 2431 3119 2041 \r\nL 3119 0 \r\nL 2556 0 \r\nL 2556 2019 \r\nQ 2556 2363 2490 2533 \r\nQ 2425 2703 2258 2804 \r\nQ 2091 2906 1866 2906 \r\nQ 1506 2906 1245 2678 \r\nQ 984 2450 984 1813 \r\nL 984 0 \r\nL 422 0 \r\nz\r\n\" id=\"ArialMT-6e\" transform=\"scale(0.015625)\"/>\r\n        <path d=\"M 213 1659 \r\nQ 213 2581 725 3025 \r\nQ 1153 3394 1769 3394 \r\nQ 2453 3394 2887 2945 \r\nQ 3322 2497 3322 1706 \r\nQ 3322 1066 3130 698 \r\nQ 2938 331 2570 128 \r\nQ 2203 -75 1769 -75 \r\nQ 1072 -75 642 372 \r\nQ 213 819 213 1659 \r\nz\r\nM 791 1659 \r\nQ 791 1022 1069 705 \r\nQ 1347 388 1769 388 \r\nQ 2188 388 2466 706 \r\nQ 2744 1025 2744 1678 \r\nQ 2744 2294 2464 2611 \r\nQ 2184 2928 1769 2928 \r\nQ 1347 2928 1069 2612 \r\nQ 791 2297 791 1659 \r\nz\r\n\" id=\"ArialMT-6f\" transform=\"scale(0.015625)\"/>\r\n        <path d=\"M 416 0 \r\nL 416 3319 \r\nL 922 3319 \r\nL 922 2816 \r\nQ 1116 3169 1280 3281 \r\nQ 1444 3394 1641 3394 \r\nQ 1925 3394 2219 3213 \r\nL 2025 2691 \r\nQ 1819 2813 1613 2813 \r\nQ 1428 2813 1281 2702 \r\nQ 1134 2591 1072 2394 \r\nQ 978 2094 978 1738 \r\nL 978 0 \r\nL 416 0 \r\nz\r\n\" id=\"ArialMT-72\" transform=\"scale(0.015625)\"/>\r\n        <path d=\"M 2694 1069 \r\nL 3275 997 \r\nQ 3138 488 2766 206 \r\nQ 2394 -75 1816 -75 \r\nQ 1088 -75 661 373 \r\nQ 234 822 234 1631 \r\nQ 234 2469 665 2931 \r\nQ 1097 3394 1784 3394 \r\nQ 2450 3394 2872 2941 \r\nQ 3294 2488 3294 1666 \r\nQ 3294 1616 3291 1516 \r\nL 816 1516 \r\nQ 847 969 1125 678 \r\nQ 1403 388 1819 388 \r\nQ 2128 388 2347 550 \r\nQ 2566 713 2694 1069 \r\nz\r\nM 847 1978 \r\nL 2700 1978 \r\nQ 2663 2397 2488 2606 \r\nQ 2219 2931 1791 2931 \r\nQ 1403 2931 1139 2672 \r\nQ 875 2413 847 1978 \r\nz\r\n\" id=\"ArialMT-65\" transform=\"scale(0.015625)\"/>\r\n        <path d=\"M 2588 1216 \r\nL 3141 1144 \r\nQ 3050 572 2676 248 \r\nQ 2303 -75 1759 -75 \r\nQ 1078 -75 664 370 \r\nQ 250 816 250 1647 \r\nQ 250 2184 428 2587 \r\nQ 606 2991 970 3192 \r\nQ 1334 3394 1763 3394 \r\nQ 2303 3394 2647 3120 \r\nQ 2991 2847 3088 2344 \r\nL 2541 2259 \r\nQ 2463 2594 2264 2762 \r\nQ 2066 2931 1784 2931 \r\nQ 1359 2931 1093 2626 \r\nQ 828 2322 828 1663 \r\nQ 828 994 1084 691 \r\nQ 1341 388 1753 388 \r\nQ 2084 388 2306 591 \r\nQ 2528 794 2588 1216 \r\nz\r\n\" id=\"ArialMT-63\" transform=\"scale(0.015625)\"/>\r\n        <path d=\"M 2597 0 \r\nL 2597 488 \r\nQ 2209 -75 1544 -75 \r\nQ 1250 -75 995 37 \r\nQ 741 150 617 320 \r\nQ 494 491 444 738 \r\nQ 409 903 409 1263 \r\nL 409 3319 \r\nL 972 3319 \r\nL 972 1478 \r\nQ 972 1038 1006 884 \r\nQ 1059 663 1231 536 \r\nQ 1403 409 1656 409 \r\nQ 1909 409 2131 539 \r\nQ 2353 669 2445 892 \r\nQ 2538 1116 2538 1541 \r\nL 2538 3319 \r\nL 3100 3319 \r\nL 3100 0 \r\nL 2597 0 \r\nz\r\n\" id=\"ArialMT-75\" transform=\"scale(0.015625)\"/>\r\n        <path d=\"M 422 -1272 \r\nL 422 3319 \r\nL 934 3319 \r\nL 934 2888 \r\nQ 1116 3141 1344 3267 \r\nQ 1572 3394 1897 3394 \r\nQ 2322 3394 2647 3175 \r\nQ 2972 2956 3137 2557 \r\nQ 3303 2159 3303 1684 \r\nQ 3303 1175 3120 767 \r\nQ 2938 359 2589 142 \r\nQ 2241 -75 1856 -75 \r\nQ 1575 -75 1351 44 \r\nQ 1128 163 984 344 \r\nL 984 -1272 \r\nL 422 -1272 \r\nz\r\nM 931 1641 \r\nQ 931 1000 1190 694 \r\nQ 1450 388 1819 388 \r\nQ 2194 388 2461 705 \r\nQ 2728 1022 2728 1688 \r\nQ 2728 2322 2467 2637 \r\nQ 2206 2953 1844 2953 \r\nQ 1484 2953 1207 2617 \r\nQ 931 2281 931 1641 \r\nz\r\n\" id=\"ArialMT-70\" transform=\"scale(0.015625)\"/>\r\n        <path d=\"M 409 0 \r\nL 409 4581 \r\nL 972 4581 \r\nL 972 0 \r\nL 409 0 \r\nz\r\n\" id=\"ArialMT-6c\" transform=\"scale(0.015625)\"/>\r\n        <path d=\"M 2384 0 \r\nL 1822 0 \r\nL 1822 3584 \r\nQ 1619 3391 1289 3197 \r\nQ 959 3003 697 2906 \r\nL 697 3450 \r\nQ 1169 3672 1522 3987 \r\nQ 1875 4303 2022 4600 \r\nL 2384 4600 \r\nL 2384 0 \r\nz\r\n\" id=\"ArialMT-31\" transform=\"scale(0.015625)\"/>\r\n        <path d=\"M 1131 2484 \r\nQ 781 2613 612 2850 \r\nQ 444 3088 444 3419 \r\nQ 444 3919 803 4259 \r\nQ 1163 4600 1759 4600 \r\nQ 2359 4600 2725 4251 \r\nQ 3091 3903 3091 3403 \r\nQ 3091 3084 2923 2848 \r\nQ 2756 2613 2416 2484 \r\nQ 2838 2347 3058 2040 \r\nQ 3278 1734 3278 1309 \r\nQ 3278 722 2862 322 \r\nQ 2447 -78 1769 -78 \r\nQ 1091 -78 675 323 \r\nQ 259 725 259 1325 \r\nQ 259 1772 486 2073 \r\nQ 713 2375 1131 2484 \r\nz\r\nM 1019 3438 \r\nQ 1019 3113 1228 2906 \r\nQ 1438 2700 1772 2700 \r\nQ 2097 2700 2305 2904 \r\nQ 2513 3109 2513 3406 \r\nQ 2513 3716 2298 3927 \r\nQ 2084 4138 1766 4138 \r\nQ 1444 4138 1231 3931 \r\nQ 1019 3725 1019 3438 \r\nz\r\nM 838 1322 \r\nQ 838 1081 952 856 \r\nQ 1066 631 1291 507 \r\nQ 1516 384 1775 384 \r\nQ 2178 384 2440 643 \r\nQ 2703 903 2703 1303 \r\nQ 2703 1709 2433 1975 \r\nQ 2163 2241 1756 2241 \r\nQ 1359 2241 1098 1978 \r\nQ 838 1716 838 1322 \r\nz\r\n\" id=\"ArialMT-38\" transform=\"scale(0.015625)\"/>\r\n        <path d=\"M 203 1375 \r\nL 203 1941 \r\nL 1931 1941 \r\nL 1931 1375 \r\nL 203 1375 \r\nz\r\n\" id=\"ArialMT-2d\" transform=\"scale(0.015625)\"/>\r\n        <path d=\"M 3222 541 \r\nL 3222 0 \r\nL 194 0 \r\nQ 188 203 259 391 \r\nQ 375 700 629 1000 \r\nQ 884 1300 1366 1694 \r\nQ 2113 2306 2375 2664 \r\nQ 2638 3022 2638 3341 \r\nQ 2638 3675 2398 3904 \r\nQ 2159 4134 1775 4134 \r\nQ 1369 4134 1125 3890 \r\nQ 881 3647 878 3216 \r\nL 300 3275 \r\nQ 359 3922 746 4261 \r\nQ 1134 4600 1788 4600 \r\nQ 2447 4600 2831 4234 \r\nQ 3216 3869 3216 3328 \r\nQ 3216 3053 3103 2787 \r\nQ 2991 2522 2730 2228 \r\nQ 2469 1934 1863 1422 \r\nQ 1356 997 1212 845 \r\nQ 1069 694 975 541 \r\nL 3222 541 \r\nz\r\n\" id=\"ArialMT-32\" transform=\"scale(0.015625)\"/>\r\n        <path d=\"M 2069 0 \r\nL 2069 1097 \r\nL 81 1097 \r\nL 81 1613 \r\nL 2172 4581 \r\nL 2631 4581 \r\nL 2631 1613 \r\nL 3250 1613 \r\nL 3250 1097 \r\nL 2631 1097 \r\nL 2631 0 \r\nL 2069 0 \r\nz\r\nM 2069 1613 \r\nL 2069 3678 \r\nL 634 1613 \r\nL 2069 1613 \r\nz\r\n\" id=\"ArialMT-34\" transform=\"scale(0.015625)\"/>\r\n        <path d=\"M 2588 409 \r\nQ 2275 144 1986 34 \r\nQ 1697 -75 1366 -75 \r\nQ 819 -75 525 192 \r\nQ 231 459 231 875 \r\nQ 231 1119 342 1320 \r\nQ 453 1522 633 1644 \r\nQ 813 1766 1038 1828 \r\nQ 1203 1872 1538 1913 \r\nQ 2219 1994 2541 2106 \r\nQ 2544 2222 2544 2253 \r\nQ 2544 2597 2384 2738 \r\nQ 2169 2928 1744 2928 \r\nQ 1347 2928 1158 2789 \r\nQ 969 2650 878 2297 \r\nL 328 2372 \r\nQ 403 2725 575 2942 \r\nQ 747 3159 1072 3276 \r\nQ 1397 3394 1825 3394 \r\nQ 2250 3394 2515 3294 \r\nQ 2781 3194 2906 3042 \r\nQ 3031 2891 3081 2659 \r\nQ 3109 2516 3109 2141 \r\nL 3109 1391 \r\nQ 3109 606 3145 398 \r\nQ 3181 191 3288 0 \r\nL 2700 0 \r\nQ 2613 175 2588 409 \r\nz\r\nM 2541 1666 \r\nQ 2234 1541 1622 1453 \r\nQ 1275 1403 1131 1340 \r\nQ 988 1278 909 1158 \r\nQ 831 1038 831 891 \r\nQ 831 666 1001 516 \r\nQ 1172 366 1500 366 \r\nQ 1825 366 2078 508 \r\nQ 2331 650 2450 897 \r\nQ 2541 1088 2541 1459 \r\nL 2541 1666 \r\nz\r\n\" id=\"ArialMT-61\" transform=\"scale(0.015625)\"/>\r\n       </defs>\r\n       <use xlink:href=\"#ArialMT-68\"/>\r\n       <use x=\"55.615234\" xlink:href=\"#ArialMT-74\"/>\r\n       <use x=\"83.398438\" xlink:href=\"#ArialMT-73\"/>\r\n       <use x=\"133.398438\" xlink:href=\"#ArialMT-20\"/>\r\n       <use x=\"161.181641\" xlink:href=\"#ArialMT-6e\"/>\r\n       <use x=\"216.796875\" xlink:href=\"#ArialMT-6f\"/>\r\n       <use x=\"272.412109\" xlink:href=\"#ArialMT-6e\"/>\r\n       <use x=\"328.027344\" xlink:href=\"#ArialMT-20\"/>\r\n       <use x=\"355.810547\" xlink:href=\"#ArialMT-72\"/>\r\n       <use x=\"389.111328\" xlink:href=\"#ArialMT-65\"/>\r\n       <use x=\"444.726562\" xlink:href=\"#ArialMT-63\"/>\r\n       <use x=\"494.726562\" xlink:href=\"#ArialMT-75\"/>\r\n       <use x=\"550.341797\" xlink:href=\"#ArialMT-20\"/>\r\n       <use x=\"578.125\" xlink:href=\"#ArialMT-70\"/>\r\n       <use x=\"633.740234\" xlink:href=\"#ArialMT-6f\"/>\r\n       <use x=\"689.355469\" xlink:href=\"#ArialMT-75\"/>\r\n       <use x=\"744.970703\" xlink:href=\"#ArialMT-72\"/>\r\n       <use x=\"778.271484\" xlink:href=\"#ArialMT-20\"/>\r\n       <use x=\"806.054688\" xlink:href=\"#ArialMT-6c\"/>\r\n       <use x=\"828.271484\" xlink:href=\"#ArialMT-65\"/>\r\n       <use x=\"883.886719\" xlink:href=\"#ArialMT-73\"/>\r\n       <use x=\"933.886719\" xlink:href=\"#ArialMT-20\"/>\r\n       <use x=\"961.669922\" xlink:href=\"#ArialMT-31\"/>\r\n       <use x=\"1017.285156\" xlink:href=\"#ArialMT-38\"/>\r\n       <use x=\"1072.900391\" xlink:href=\"#ArialMT-2d\"/>\r\n       <use x=\"1106.201172\" xlink:href=\"#ArialMT-32\"/>\r\n       <use x=\"1161.816406\" xlink:href=\"#ArialMT-34\"/>\r\n       <use x=\"1217.431641\" xlink:href=\"#ArialMT-61\"/>\r\n       <use x=\"1273.046875\" xlink:href=\"#ArialMT-6e\"/>\r\n       <use x=\"1328.662109\" xlink:href=\"#ArialMT-73\"/>\r\n      </g>\r\n     </g>\r\n    </g>\r\n    <g id=\"xtick_2\">\r\n     <g id=\"text_2\">\r\n      <!-- hts non recu -->\r\n      <g style=\"fill:#262626;\" transform=\"translate(506.085156 513.837813)scale(0.1 -0.1)\">\r\n       <use xlink:href=\"#ArialMT-68\"/>\r\n       <use x=\"55.615234\" xlink:href=\"#ArialMT-74\"/>\r\n       <use x=\"83.398438\" xlink:href=\"#ArialMT-73\"/>\r\n       <use x=\"133.398438\" xlink:href=\"#ArialMT-20\"/>\r\n       <use x=\"161.181641\" xlink:href=\"#ArialMT-6e\"/>\r\n       <use x=\"216.796875\" xlink:href=\"#ArialMT-6f\"/>\r\n       <use x=\"272.412109\" xlink:href=\"#ArialMT-6e\"/>\r\n       <use x=\"328.027344\" xlink:href=\"#ArialMT-20\"/>\r\n       <use x=\"355.810547\" xlink:href=\"#ArialMT-72\"/>\r\n       <use x=\"389.111328\" xlink:href=\"#ArialMT-65\"/>\r\n       <use x=\"444.726562\" xlink:href=\"#ArialMT-63\"/>\r\n       <use x=\"494.726562\" xlink:href=\"#ArialMT-75\"/>\r\n      </g>\r\n     </g>\r\n    </g>\r\n    <g id=\"xtick_3\">\r\n     <g id=\"text_3\">\r\n      <!-- hts recu -->\r\n      <g style=\"fill:#262626;\" transform=\"translate(813.415625 513.837813)scale(0.1 -0.1)\">\r\n       <use xlink:href=\"#ArialMT-68\"/>\r\n       <use x=\"55.615234\" xlink:href=\"#ArialMT-74\"/>\r\n       <use x=\"83.398438\" xlink:href=\"#ArialMT-73\"/>\r\n       <use x=\"133.398438\" xlink:href=\"#ArialMT-20\"/>\r\n       <use x=\"161.181641\" xlink:href=\"#ArialMT-72\"/>\r\n       <use x=\"194.482422\" xlink:href=\"#ArialMT-65\"/>\r\n       <use x=\"250.097656\" xlink:href=\"#ArialMT-63\"/>\r\n       <use x=\"300.097656\" xlink:href=\"#ArialMT-75\"/>\r\n      </g>\r\n     </g>\r\n    </g>\r\n   </g>\r\n   <g id=\"matplotlib.axis_2\">\r\n    <g id=\"ytick_1\">\r\n     <g id=\"line2d_1\">\r\n      <path clip-path=\"url(#p581d1ea1ed)\" d=\"M 87.2 499.68 \r\nL 980 499.68 \r\n\" style=\"fill:none;stroke:#ffffff;stroke-linecap:round;stroke-width:0.8;\"/>\r\n     </g>\r\n     <g id=\"text_4\">\r\n      <!-- 0 -->\r\n      <g style=\"fill:#262626;\" transform=\"translate(74.639063 503.258906)scale(0.1 -0.1)\">\r\n       <defs>\r\n        <path d=\"M 266 2259 \r\nQ 266 3072 433 3567 \r\nQ 600 4063 929 4331 \r\nQ 1259 4600 1759 4600 \r\nQ 2128 4600 2406 4451 \r\nQ 2684 4303 2865 4023 \r\nQ 3047 3744 3150 3342 \r\nQ 3253 2941 3253 2259 \r\nQ 3253 1453 3087 958 \r\nQ 2922 463 2592 192 \r\nQ 2263 -78 1759 -78 \r\nQ 1097 -78 719 397 \r\nQ 266 969 266 2259 \r\nz\r\nM 844 2259 \r\nQ 844 1131 1108 757 \r\nQ 1372 384 1759 384 \r\nQ 2147 384 2411 759 \r\nQ 2675 1134 2675 2259 \r\nQ 2675 3391 2411 3762 \r\nQ 2147 4134 1753 4134 \r\nQ 1366 4134 1134 3806 \r\nQ 844 3388 844 2259 \r\nz\r\n\" id=\"ArialMT-30\" transform=\"scale(0.015625)\"/>\r\n       </defs>\r\n       <use xlink:href=\"#ArialMT-30\"/>\r\n      </g>\r\n     </g>\r\n    </g>\r\n    <g id=\"ytick_2\">\r\n     <g id=\"line2d_2\">\r\n      <path clip-path=\"url(#p581d1ea1ed)\" d=\"M 87.2 449.327872 \r\nL 980 449.327872 \r\n\" style=\"fill:none;stroke:#ffffff;stroke-linecap:round;stroke-width:0.8;\"/>\r\n     </g>\r\n     <g id=\"text_5\">\r\n      <!-- 2000 -->\r\n      <g style=\"fill:#262626;\" transform=\"translate(57.95625 452.906778)scale(0.1 -0.1)\">\r\n       <use xlink:href=\"#ArialMT-32\"/>\r\n       <use x=\"55.615234\" xlink:href=\"#ArialMT-30\"/>\r\n       <use x=\"111.230469\" xlink:href=\"#ArialMT-30\"/>\r\n       <use x=\"166.845703\" xlink:href=\"#ArialMT-30\"/>\r\n      </g>\r\n     </g>\r\n    </g>\r\n    <g id=\"ytick_3\">\r\n     <g id=\"line2d_3\">\r\n      <path clip-path=\"url(#p581d1ea1ed)\" d=\"M 87.2 398.975744 \r\nL 980 398.975744 \r\n\" style=\"fill:none;stroke:#ffffff;stroke-linecap:round;stroke-width:0.8;\"/>\r\n     </g>\r\n     <g id=\"text_6\">\r\n      <!-- 4000 -->\r\n      <g style=\"fill:#262626;\" transform=\"translate(57.95625 402.55465)scale(0.1 -0.1)\">\r\n       <use xlink:href=\"#ArialMT-34\"/>\r\n       <use x=\"55.615234\" xlink:href=\"#ArialMT-30\"/>\r\n       <use x=\"111.230469\" xlink:href=\"#ArialMT-30\"/>\r\n       <use x=\"166.845703\" xlink:href=\"#ArialMT-30\"/>\r\n      </g>\r\n     </g>\r\n    </g>\r\n    <g id=\"ytick_4\">\r\n     <g id=\"line2d_4\">\r\n      <path clip-path=\"url(#p581d1ea1ed)\" d=\"M 87.2 348.623616 \r\nL 980 348.623616 \r\n\" style=\"fill:none;stroke:#ffffff;stroke-linecap:round;stroke-width:0.8;\"/>\r\n     </g>\r\n     <g id=\"text_7\">\r\n      <!-- 6000 -->\r\n      <g style=\"fill:#262626;\" transform=\"translate(57.95625 352.202522)scale(0.1 -0.1)\">\r\n       <defs>\r\n        <path d=\"M 3184 3459 \r\nL 2625 3416 \r\nQ 2550 3747 2413 3897 \r\nQ 2184 4138 1850 4138 \r\nQ 1581 4138 1378 3988 \r\nQ 1113 3794 959 3422 \r\nQ 806 3050 800 2363 \r\nQ 1003 2672 1297 2822 \r\nQ 1591 2972 1913 2972 \r\nQ 2475 2972 2870 2558 \r\nQ 3266 2144 3266 1488 \r\nQ 3266 1056 3080 686 \r\nQ 2894 316 2569 119 \r\nQ 2244 -78 1831 -78 \r\nQ 1128 -78 684 439 \r\nQ 241 956 241 2144 \r\nQ 241 3472 731 4075 \r\nQ 1159 4600 1884 4600 \r\nQ 2425 4600 2770 4297 \r\nQ 3116 3994 3184 3459 \r\nz\r\nM 888 1484 \r\nQ 888 1194 1011 928 \r\nQ 1134 663 1356 523 \r\nQ 1578 384 1822 384 \r\nQ 2178 384 2434 671 \r\nQ 2691 959 2691 1453 \r\nQ 2691 1928 2437 2201 \r\nQ 2184 2475 1800 2475 \r\nQ 1419 2475 1153 2201 \r\nQ 888 1928 888 1484 \r\nz\r\n\" id=\"ArialMT-36\" transform=\"scale(0.015625)\"/>\r\n       </defs>\r\n       <use xlink:href=\"#ArialMT-36\"/>\r\n       <use x=\"55.615234\" xlink:href=\"#ArialMT-30\"/>\r\n       <use x=\"111.230469\" xlink:href=\"#ArialMT-30\"/>\r\n       <use x=\"166.845703\" xlink:href=\"#ArialMT-30\"/>\r\n      </g>\r\n     </g>\r\n    </g>\r\n    <g id=\"ytick_5\">\r\n     <g id=\"line2d_5\">\r\n      <path clip-path=\"url(#p581d1ea1ed)\" d=\"M 87.2 298.271488 \r\nL 980 298.271488 \r\n\" style=\"fill:none;stroke:#ffffff;stroke-linecap:round;stroke-width:0.8;\"/>\r\n     </g>\r\n     <g id=\"text_8\">\r\n      <!-- 8000 -->\r\n      <g style=\"fill:#262626;\" transform=\"translate(57.95625 301.850394)scale(0.1 -0.1)\">\r\n       <use xlink:href=\"#ArialMT-38\"/>\r\n       <use x=\"55.615234\" xlink:href=\"#ArialMT-30\"/>\r\n       <use x=\"111.230469\" xlink:href=\"#ArialMT-30\"/>\r\n       <use x=\"166.845703\" xlink:href=\"#ArialMT-30\"/>\r\n      </g>\r\n     </g>\r\n    </g>\r\n    <g id=\"ytick_6\">\r\n     <g id=\"line2d_6\">\r\n      <path clip-path=\"url(#p581d1ea1ed)\" d=\"M 87.2 247.91936 \r\nL 980 247.91936 \r\n\" style=\"fill:none;stroke:#ffffff;stroke-linecap:round;stroke-width:0.8;\"/>\r\n     </g>\r\n     <g id=\"text_9\">\r\n      <!-- 10000 -->\r\n      <g style=\"fill:#262626;\" transform=\"translate(52.395313 251.498266)scale(0.1 -0.1)\">\r\n       <use xlink:href=\"#ArialMT-31\"/>\r\n       <use x=\"55.615234\" xlink:href=\"#ArialMT-30\"/>\r\n       <use x=\"111.230469\" xlink:href=\"#ArialMT-30\"/>\r\n       <use x=\"166.845703\" xlink:href=\"#ArialMT-30\"/>\r\n       <use x=\"222.460938\" xlink:href=\"#ArialMT-30\"/>\r\n      </g>\r\n     </g>\r\n    </g>\r\n    <g id=\"ytick_7\">\r\n     <g id=\"line2d_7\">\r\n      <path clip-path=\"url(#p581d1ea1ed)\" d=\"M 87.2 197.567232 \r\nL 980 197.567232 \r\n\" style=\"fill:none;stroke:#ffffff;stroke-linecap:round;stroke-width:0.8;\"/>\r\n     </g>\r\n     <g id=\"text_10\">\r\n      <!-- 12000 -->\r\n      <g style=\"fill:#262626;\" transform=\"translate(52.395313 201.146138)scale(0.1 -0.1)\">\r\n       <use xlink:href=\"#ArialMT-31\"/>\r\n       <use x=\"55.615234\" xlink:href=\"#ArialMT-32\"/>\r\n       <use x=\"111.230469\" xlink:href=\"#ArialMT-30\"/>\r\n       <use x=\"166.845703\" xlink:href=\"#ArialMT-30\"/>\r\n       <use x=\"222.460938\" xlink:href=\"#ArialMT-30\"/>\r\n      </g>\r\n     </g>\r\n    </g>\r\n    <g id=\"ytick_8\">\r\n     <g id=\"line2d_8\">\r\n      <path clip-path=\"url(#p581d1ea1ed)\" d=\"M 87.2 147.215104 \r\nL 980 147.215104 \r\n\" style=\"fill:none;stroke:#ffffff;stroke-linecap:round;stroke-width:0.8;\"/>\r\n     </g>\r\n     <g id=\"text_11\">\r\n      <!-- 14000 -->\r\n      <g style=\"fill:#262626;\" transform=\"translate(52.395313 150.79401)scale(0.1 -0.1)\">\r\n       <use xlink:href=\"#ArialMT-31\"/>\r\n       <use x=\"55.615234\" xlink:href=\"#ArialMT-34\"/>\r\n       <use x=\"111.230469\" xlink:href=\"#ArialMT-30\"/>\r\n       <use x=\"166.845703\" xlink:href=\"#ArialMT-30\"/>\r\n       <use x=\"222.460938\" xlink:href=\"#ArialMT-30\"/>\r\n      </g>\r\n     </g>\r\n    </g>\r\n    <g id=\"ytick_9\">\r\n     <g id=\"line2d_9\">\r\n      <path clip-path=\"url(#p581d1ea1ed)\" d=\"M 87.2 96.862976 \r\nL 980 96.862976 \r\n\" style=\"fill:none;stroke:#ffffff;stroke-linecap:round;stroke-width:0.8;\"/>\r\n     </g>\r\n     <g id=\"text_12\">\r\n      <!-- 16000 -->\r\n      <g style=\"fill:#262626;\" transform=\"translate(52.395313 100.441883)scale(0.1 -0.1)\">\r\n       <use xlink:href=\"#ArialMT-31\"/>\r\n       <use x=\"55.615234\" xlink:href=\"#ArialMT-36\"/>\r\n       <use x=\"111.230469\" xlink:href=\"#ArialMT-30\"/>\r\n       <use x=\"166.845703\" xlink:href=\"#ArialMT-30\"/>\r\n       <use x=\"222.460938\" xlink:href=\"#ArialMT-30\"/>\r\n      </g>\r\n     </g>\r\n    </g>\r\n   </g>\r\n   <g id=\"patch_3\">\r\n    <path clip-path=\"url(#p581d1ea1ed)\" d=\"M 116.96 499.68 \r\nL 355.04 499.68 \r\nL 355.04 372.26394 \r\nL 116.96 372.26394 \r\nz\r\n\" style=\"fill:#3274a1;stroke:#ffffff;stroke-linejoin:miter;\"/>\r\n   </g>\r\n   <g id=\"patch_4\">\r\n    <path clip-path=\"url(#p581d1ea1ed)\" d=\"M 414.56 499.68 \r\nL 652.64 499.68 \r\nL 652.64 85.508571 \r\nL 414.56 85.508571 \r\nz\r\n\" style=\"fill:#e1812c;stroke:#ffffff;stroke-linejoin:miter;\"/>\r\n   </g>\r\n   <g id=\"patch_5\">\r\n    <path clip-path=\"url(#p581d1ea1ed)\" d=\"M 712.16 499.68 \r\nL 950.24 499.68 \r\nL 950.24 452.147591 \r\nL 712.16 452.147591 \r\nz\r\n\" style=\"fill:#3a923a;stroke:#ffffff;stroke-linejoin:miter;\"/>\r\n   </g>\r\n   <g id=\"line2d_10\">\r\n    <path clip-path=\"url(#p581d1ea1ed)\" d=\"M 0 0 \r\n\" style=\"fill:none;stroke:#424242;stroke-linecap:round;stroke-width:2.7;\"/>\r\n   </g>\r\n   <g id=\"line2d_11\">\r\n    <path clip-path=\"url(#p581d1ea1ed)\" d=\"M 0 0 \r\n\" style=\"fill:none;stroke:#424242;stroke-linecap:round;stroke-width:2.7;\"/>\r\n   </g>\r\n   <g id=\"line2d_12\">\r\n    <path clip-path=\"url(#p581d1ea1ed)\" d=\"M 0 0 \r\n\" style=\"fill:none;stroke:#424242;stroke-linecap:round;stroke-width:2.7;\"/>\r\n   </g>\r\n   <g id=\"patch_6\">\r\n    <path d=\"M 87.2 499.68 \r\nL 87.2 64.8 \r\n\" style=\"fill:none;stroke:#ffffff;stroke-linecap:square;stroke-linejoin:miter;stroke-width:0.8;\"/>\r\n   </g>\r\n   <g id=\"patch_7\">\r\n    <path d=\"M 980 499.68 \r\nL 980 64.8 \r\n\" style=\"fill:none;stroke:#ffffff;stroke-linecap:square;stroke-linejoin:miter;stroke-width:0.8;\"/>\r\n   </g>\r\n   <g id=\"patch_8\">\r\n    <path d=\"M 87.2 499.68 \r\nL 980 499.68 \r\n\" style=\"fill:none;stroke:#ffffff;stroke-linecap:square;stroke-linejoin:miter;stroke-width:0.8;\"/>\r\n   </g>\r\n   <g id=\"patch_9\">\r\n    <path d=\"M 87.2 64.8 \r\nL 980 64.8 \r\n\" style=\"fill:none;stroke:#ffffff;stroke-linecap:square;stroke-linejoin:miter;stroke-width:0.8;\"/>\r\n   </g>\r\n   <g id=\"text_13\">\r\n    <!-- 5061 -->\r\n    <g style=\"fill:#ffffff;\" transform=\"translate(219.317187 439.849704)scale(0.15 -0.15)\">\r\n     <defs>\r\n      <path d=\"M 266 1200 \r\nL 856 1250 \r\nQ 922 819 1161 601 \r\nQ 1400 384 1738 384 \r\nQ 2144 384 2425 690 \r\nQ 2706 997 2706 1503 \r\nQ 2706 1984 2436 2262 \r\nQ 2166 2541 1728 2541 \r\nQ 1456 2541 1237 2417 \r\nQ 1019 2294 894 2097 \r\nL 366 2166 \r\nL 809 4519 \r\nL 3088 4519 \r\nL 3088 3981 \r\nL 1259 3981 \r\nL 1013 2750 \r\nQ 1425 3038 1878 3038 \r\nQ 2478 3038 2890 2622 \r\nQ 3303 2206 3303 1553 \r\nQ 3303 931 2941 478 \r\nQ 2500 -78 1738 -78 \r\nQ 1113 -78 717 272 \r\nQ 322 622 266 1200 \r\nz\r\n\" id=\"ArialMT-35\" transform=\"scale(0.015625)\"/>\r\n     </defs>\r\n     <use xlink:href=\"#ArialMT-35\"/>\r\n     <use x=\"55.615234\" xlink:href=\"#ArialMT-30\"/>\r\n     <use x=\"111.230469\" xlink:href=\"#ArialMT-36\"/>\r\n     <use x=\"166.845703\" xlink:href=\"#ArialMT-31\"/>\r\n    </g>\r\n   </g>\r\n   <g id=\"text_14\">\r\n    <!-- 16451 -->\r\n    <g style=\"fill:#ffffff;\" transform=\"translate(512.746484 296.47202)scale(0.15 -0.15)\">\r\n     <use xlink:href=\"#ArialMT-31\"/>\r\n     <use x=\"55.615234\" xlink:href=\"#ArialMT-36\"/>\r\n     <use x=\"111.230469\" xlink:href=\"#ArialMT-34\"/>\r\n     <use x=\"166.845703\" xlink:href=\"#ArialMT-35\"/>\r\n     <use x=\"222.460938\" xlink:href=\"#ArialMT-31\"/>\r\n    </g>\r\n   </g>\r\n   <g id=\"text_15\">\r\n    <!-- 1888 -->\r\n    <g style=\"fill:#ffffff;\" transform=\"translate(814.517187 479.79153)scale(0.15 -0.15)\">\r\n     <use xlink:href=\"#ArialMT-31\"/>\r\n     <use x=\"55.615234\" xlink:href=\"#ArialMT-38\"/>\r\n     <use x=\"111.230469\" xlink:href=\"#ArialMT-38\"/>\r\n     <use x=\"166.845703\" xlink:href=\"#ArialMT-38\"/>\r\n    </g>\r\n   </g>\r\n   <g id=\"text_16\">\r\n    <!-- source: HIVHaiti -->\r\n    <g style=\"fill:#262626;\" transform=\"translate(7.2 526.837813)scale(0.1 -0.1)\">\r\n     <defs>\r\n      <path d=\"M 578 2678 \r\nL 578 3319 \r\nL 1219 3319 \r\nL 1219 2678 \r\nL 578 2678 \r\nz\r\nM 578 0 \r\nL 578 641 \r\nL 1219 641 \r\nL 1219 0 \r\nL 578 0 \r\nz\r\n\" id=\"ArialMT-3a\" transform=\"scale(0.015625)\"/>\r\n      <path d=\"M 513 0 \r\nL 513 4581 \r\nL 1119 4581 \r\nL 1119 2700 \r\nL 3500 2700 \r\nL 3500 4581 \r\nL 4106 4581 \r\nL 4106 0 \r\nL 3500 0 \r\nL 3500 2159 \r\nL 1119 2159 \r\nL 1119 0 \r\nL 513 0 \r\nz\r\n\" id=\"ArialMT-48\" transform=\"scale(0.015625)\"/>\r\n      <path d=\"M 597 0 \r\nL 597 4581 \r\nL 1203 4581 \r\nL 1203 0 \r\nL 597 0 \r\nz\r\n\" id=\"ArialMT-49\" transform=\"scale(0.015625)\"/>\r\n      <path d=\"M 1803 0 \r\nL 28 4581 \r\nL 684 4581 \r\nL 1875 1253 \r\nQ 2019 853 2116 503 \r\nQ 2222 878 2363 1253 \r\nL 3600 4581 \r\nL 4219 4581 \r\nL 2425 0 \r\nL 1803 0 \r\nz\r\n\" id=\"ArialMT-56\" transform=\"scale(0.015625)\"/>\r\n      <path d=\"M 425 3934 \r\nL 425 4581 \r\nL 988 4581 \r\nL 988 3934 \r\nL 425 3934 \r\nz\r\nM 425 0 \r\nL 425 3319 \r\nL 988 3319 \r\nL 988 0 \r\nL 425 0 \r\nz\r\n\" id=\"ArialMT-69\" transform=\"scale(0.015625)\"/>\r\n     </defs>\r\n     <use xlink:href=\"#ArialMT-73\"/>\r\n     <use x=\"50\" xlink:href=\"#ArialMT-6f\"/>\r\n     <use x=\"105.615234\" xlink:href=\"#ArialMT-75\"/>\r\n     <use x=\"161.230469\" xlink:href=\"#ArialMT-72\"/>\r\n     <use x=\"194.53125\" xlink:href=\"#ArialMT-63\"/>\r\n     <use x=\"244.53125\" xlink:href=\"#ArialMT-65\"/>\r\n     <use x=\"300.146484\" xlink:href=\"#ArialMT-3a\"/>\r\n     <use x=\"327.929688\" xlink:href=\"#ArialMT-20\"/>\r\n     <use x=\"355.712891\" xlink:href=\"#ArialMT-48\"/>\r\n     <use x=\"427.929688\" xlink:href=\"#ArialMT-49\"/>\r\n     <use x=\"455.712891\" xlink:href=\"#ArialMT-56\"/>\r\n     <use x=\"522.412109\" xlink:href=\"#ArialMT-48\"/>\r\n     <use x=\"594.628906\" xlink:href=\"#ArialMT-61\"/>\r\n     <use x=\"650.244141\" xlink:href=\"#ArialMT-69\"/>\r\n     <use x=\"672.460938\" xlink:href=\"#ArialMT-74\"/>\r\n     <use x=\"700.244141\" xlink:href=\"#ArialMT-69\"/>\r\n    </g>\r\n   </g>\r\n  </g>\r\n  <g id=\"text_17\">\r\n   <!-- AGYW  and their HTS services status -->\r\n   <g style=\"fill:#262626;\" transform=\"translate(419.1725 15.789375)scale(0.12 -0.12)\">\r\n    <defs>\r\n     <path d=\"M -9 0 \r\nL 1750 4581 \r\nL 2403 4581 \r\nL 4278 0 \r\nL 3588 0 \r\nL 3053 1388 \r\nL 1138 1388 \r\nL 634 0 \r\nL -9 0 \r\nz\r\nM 1313 1881 \r\nL 2866 1881 \r\nL 2388 3150 \r\nQ 2169 3728 2063 4100 \r\nQ 1975 3659 1816 3225 \r\nL 1313 1881 \r\nz\r\n\" id=\"ArialMT-41\" transform=\"scale(0.015625)\"/>\r\n     <path d=\"M 2638 1797 \r\nL 2638 2334 \r\nL 4578 2338 \r\nL 4578 638 \r\nQ 4131 281 3656 101 \r\nQ 3181 -78 2681 -78 \r\nQ 2006 -78 1454 211 \r\nQ 903 500 622 1047 \r\nQ 341 1594 341 2269 \r\nQ 341 2938 620 3517 \r\nQ 900 4097 1425 4378 \r\nQ 1950 4659 2634 4659 \r\nQ 3131 4659 3532 4498 \r\nQ 3934 4338 4162 4050 \r\nQ 4391 3763 4509 3300 \r\nL 3963 3150 \r\nQ 3859 3500 3706 3700 \r\nQ 3553 3900 3268 4020 \r\nQ 2984 4141 2638 4141 \r\nQ 2222 4141 1919 4014 \r\nQ 1616 3888 1430 3681 \r\nQ 1244 3475 1141 3228 \r\nQ 966 2803 966 2306 \r\nQ 966 1694 1177 1281 \r\nQ 1388 869 1791 669 \r\nQ 2194 469 2647 469 \r\nQ 3041 469 3416 620 \r\nQ 3791 772 3984 944 \r\nL 3984 1797 \r\nL 2638 1797 \r\nz\r\n\" id=\"ArialMT-47\" transform=\"scale(0.015625)\"/>\r\n     <path d=\"M 1784 0 \r\nL 1784 1941 \r\nL 19 4581 \r\nL 756 4581 \r\nL 1659 3200 \r\nQ 1909 2813 2125 2425 \r\nQ 2331 2784 2625 3234 \r\nL 3513 4581 \r\nL 4219 4581 \r\nL 2391 1941 \r\nL 2391 0 \r\nL 1784 0 \r\nz\r\n\" id=\"ArialMT-59\" transform=\"scale(0.015625)\"/>\r\n     <path d=\"M 1294 0 \r\nL 78 4581 \r\nL 700 4581 \r\nL 1397 1578 \r\nQ 1509 1106 1591 641 \r\nQ 1766 1375 1797 1488 \r\nL 2669 4581 \r\nL 3400 4581 \r\nL 4056 2263 \r\nQ 4303 1400 4413 641 \r\nQ 4500 1075 4641 1638 \r\nL 5359 4581 \r\nL 5969 4581 \r\nL 4713 0 \r\nL 4128 0 \r\nL 3163 3491 \r\nQ 3041 3928 3019 4028 \r\nQ 2947 3713 2884 3491 \r\nL 1913 0 \r\nL 1294 0 \r\nz\r\n\" id=\"ArialMT-57\" transform=\"scale(0.015625)\"/>\r\n     <path d=\"M 2575 0 \r\nL 2575 419 \r\nQ 2259 -75 1647 -75 \r\nQ 1250 -75 917 144 \r\nQ 584 363 401 755 \r\nQ 219 1147 219 1656 \r\nQ 219 2153 384 2558 \r\nQ 550 2963 881 3178 \r\nQ 1213 3394 1622 3394 \r\nQ 1922 3394 2156 3267 \r\nQ 2391 3141 2538 2938 \r\nL 2538 4581 \r\nL 3097 4581 \r\nL 3097 0 \r\nL 2575 0 \r\nz\r\nM 797 1656 \r\nQ 797 1019 1065 703 \r\nQ 1334 388 1700 388 \r\nQ 2069 388 2326 689 \r\nQ 2584 991 2584 1609 \r\nQ 2584 2291 2321 2609 \r\nQ 2059 2928 1675 2928 \r\nQ 1300 2928 1048 2622 \r\nQ 797 2316 797 1656 \r\nz\r\n\" id=\"ArialMT-64\" transform=\"scale(0.015625)\"/>\r\n     <path d=\"M 1659 0 \r\nL 1659 4041 \r\nL 150 4041 \r\nL 150 4581 \r\nL 3781 4581 \r\nL 3781 4041 \r\nL 2266 4041 \r\nL 2266 0 \r\nL 1659 0 \r\nz\r\n\" id=\"ArialMT-54\" transform=\"scale(0.015625)\"/>\r\n     <path d=\"M 288 1472 \r\nL 859 1522 \r\nQ 900 1178 1048 958 \r\nQ 1197 738 1509 602 \r\nQ 1822 466 2213 466 \r\nQ 2559 466 2825 569 \r\nQ 3091 672 3220 851 \r\nQ 3350 1031 3350 1244 \r\nQ 3350 1459 3225 1620 \r\nQ 3100 1781 2813 1891 \r\nQ 2628 1963 1997 2114 \r\nQ 1366 2266 1113 2400 \r\nQ 784 2572 623 2826 \r\nQ 463 3081 463 3397 \r\nQ 463 3744 659 4045 \r\nQ 856 4347 1234 4503 \r\nQ 1613 4659 2075 4659 \r\nQ 2584 4659 2973 4495 \r\nQ 3363 4331 3572 4012 \r\nQ 3781 3694 3797 3291 \r\nL 3216 3247 \r\nQ 3169 3681 2898 3903 \r\nQ 2628 4125 2100 4125 \r\nQ 1550 4125 1298 3923 \r\nQ 1047 3722 1047 3438 \r\nQ 1047 3191 1225 3031 \r\nQ 1400 2872 2139 2705 \r\nQ 2878 2538 3153 2413 \r\nQ 3553 2228 3743 1945 \r\nQ 3934 1663 3934 1294 \r\nQ 3934 928 3725 604 \r\nQ 3516 281 3123 101 \r\nQ 2731 -78 2241 -78 \r\nQ 1619 -78 1198 103 \r\nQ 778 284 539 648 \r\nQ 300 1013 288 1472 \r\nz\r\n\" id=\"ArialMT-53\" transform=\"scale(0.015625)\"/>\r\n     <path d=\"M 1344 0 \r\nL 81 3319 \r\nL 675 3319 \r\nL 1388 1331 \r\nQ 1503 1009 1600 663 \r\nQ 1675 925 1809 1294 \r\nL 2547 3319 \r\nL 3125 3319 \r\nL 1869 0 \r\nL 1344 0 \r\nz\r\n\" id=\"ArialMT-76\" transform=\"scale(0.015625)\"/>\r\n    </defs>\r\n    <use xlink:href=\"#ArialMT-41\"/>\r\n    <use x=\"66.699219\" xlink:href=\"#ArialMT-47\"/>\r\n    <use x=\"144.482422\" xlink:href=\"#ArialMT-59\"/>\r\n    <use x=\"211.181641\" xlink:href=\"#ArialMT-57\"/>\r\n    <use x=\"305.566406\" xlink:href=\"#ArialMT-20\"/>\r\n    <use x=\"333.349609\" xlink:href=\"#ArialMT-20\"/>\r\n    <use x=\"361.132812\" xlink:href=\"#ArialMT-61\"/>\r\n    <use x=\"416.748047\" xlink:href=\"#ArialMT-6e\"/>\r\n    <use x=\"472.363281\" xlink:href=\"#ArialMT-64\"/>\r\n    <use x=\"527.978516\" xlink:href=\"#ArialMT-20\"/>\r\n    <use x=\"555.761719\" xlink:href=\"#ArialMT-74\"/>\r\n    <use x=\"583.544922\" xlink:href=\"#ArialMT-68\"/>\r\n    <use x=\"639.160156\" xlink:href=\"#ArialMT-65\"/>\r\n    <use x=\"694.775391\" xlink:href=\"#ArialMT-69\"/>\r\n    <use x=\"716.992188\" xlink:href=\"#ArialMT-72\"/>\r\n    <use x=\"750.292969\" xlink:href=\"#ArialMT-20\"/>\r\n    <use x=\"778.076172\" xlink:href=\"#ArialMT-48\"/>\r\n    <use x=\"850.292969\" xlink:href=\"#ArialMT-54\"/>\r\n    <use x=\"911.376953\" xlink:href=\"#ArialMT-53\"/>\r\n    <use x=\"978.076172\" xlink:href=\"#ArialMT-20\"/>\r\n    <use x=\"1005.859375\" xlink:href=\"#ArialMT-73\"/>\r\n    <use x=\"1055.859375\" xlink:href=\"#ArialMT-65\"/>\r\n    <use x=\"1111.474609\" xlink:href=\"#ArialMT-72\"/>\r\n    <use x=\"1144.775391\" xlink:href=\"#ArialMT-76\"/>\r\n    <use x=\"1194.775391\" xlink:href=\"#ArialMT-69\"/>\r\n    <use x=\"1216.992188\" xlink:href=\"#ArialMT-63\"/>\r\n    <use x=\"1266.992188\" xlink:href=\"#ArialMT-65\"/>\r\n    <use x=\"1322.607422\" xlink:href=\"#ArialMT-73\"/>\r\n    <use x=\"1372.607422\" xlink:href=\"#ArialMT-20\"/>\r\n    <use x=\"1400.390625\" xlink:href=\"#ArialMT-73\"/>\r\n    <use x=\"1450.390625\" xlink:href=\"#ArialMT-74\"/>\r\n    <use x=\"1478.173828\" xlink:href=\"#ArialMT-61\"/>\r\n    <use x=\"1533.789062\" xlink:href=\"#ArialMT-74\"/>\r\n    <use x=\"1561.572266\" xlink:href=\"#ArialMT-75\"/>\r\n    <use x=\"1617.1875\" xlink:href=\"#ArialMT-73\"/>\r\n   </g>\r\n  </g>\r\n </g>\r\n <defs>\r\n  <clipPath id=\"p581d1ea1ed\">\r\n   <rect height=\"434.88\" width=\"892.8\" x=\"87.2\" y=\"64.8\"/>\r\n  </clipPath>\r\n </defs>\r\n</svg>\r\n",
      "image/png": "[encoded data removed]"
     },
     "metadata": {}
    }
   ],
   "metadata": {}
  },
  {
   "cell_type": "code",
   "execution_count": 19,
   "source": [
    "hts_total = df[(df.age_range != \"not_valid_age\")\r\n",
    "   &(df.age_range!=\"25-29\")\r\n",
    "   &(df.timeOn_system==\"required_Time_on\")\r\n",
    "   &(df.hts==\"tested_on_given_date\")   \r\n",
    "  ].code.count()\r\n",
    "\r\n",
    "hts_10_17 = df[(df.newage_range != \"not_valid_age\")\r\n",
    "   &(df.newage_range!=\"25-29\")\r\n",
    "   &(df.newage_range == \"10-17\")\r\n",
    "   &(df.timeOn_system==\"required_Time_on\")\r\n",
    "   &(df.hts==\"tested_on_given_date\")   \r\n",
    "  ].code.count()\r\n",
    "\r\n",
    "hts_18_24 = df[(df.newage_range != \"not_valid_age\")\r\n",
    "   &(df.newage_range!=\"25-29\")\r\n",
    "   &(df.newage_range!=\"10-17\")\r\n",
    "   &(df.timeOn_system==\"required_Time_on\")\r\n",
    "   &(df.hts==\"tested_on_given_date\")   \r\n",
    "  ].code.count()\r\n",
    "\r\n",
    "\r\n",
    "hts_data_age = pd.DataFrame({\"state\":[\r\n",
    "                                    \"hts recu\",\r\n",
    "                                    \"hts recu pour les 10-17ans\",\r\n",
    "                                    \"hts recu pour les 18-24ans\"\r\n",
    "                                 ],\r\n",
    "                            \"data\": [\r\n",
    "                               hts_total,\r\n",
    "                               hts_10_17,\r\n",
    "                               hts_18_24\r\n",
    "                            ]\r\n",
    "})"
   ],
   "outputs": [],
   "metadata": {}
  },
  {
   "cell_type": "code",
   "execution_count": 20,
   "source": [
    "plt.subplots(figsize=(16,8))\r\n",
    "sns.set_style(\"darkgrid\")\r\n",
    "splot = sns.barplot(x=\"state\",y=\"data\",data=hts_data_age)\r\n",
    "splot.set_xlabel(\"\")\r\n",
    "splot.set_ylabel(\"\")\r\n",
    "plt.suptitle(\"AGYW by age group and their HTS services status\")\r\n",
    "for p in splot.patches:\r\n",
    "    height = p.get_height()\r\n",
    "    plt.text(\r\n",
    "                p.get_x() + p.get_width()/2, \r\n",
    "                0.5*p.get_height() + p.get_y(),\r\n",
    "                '{:1.0f}'.format(height), \r\n",
    "                ha='center', va='center',\r\n",
    "                size=15,\r\n",
    "                fontdict=dict(color=\"white\",fontsize=15)\r\n",
    "            )\r\n",
    "    \r\n",
    "plt.annotate(\r\n",
    "    \"source: HIVHaiti\",(0,0), (-80,-20), fontsize=10, \r\n",
    "             xycoords='axes fraction', textcoords='offset points', va='top'\r\n",
    ")\r\n",
    "plt.savefig(\"Evolution_Test_Depistage_VIH_age\",dpi=400)"
   ],
   "outputs": [
    {
     "output_type": "execute_result",
     "data": {
      "text/plain": [
       "(<Figure size 1152x576 with 1 Axes>, <AxesSubplot:>)"
      ]
     },
     "metadata": {},
     "execution_count": 20
    },
    {
     "output_type": "execute_result",
     "data": {
      "text/plain": [
       "Text(0.5, 0, '')"
      ]
     },
     "metadata": {},
     "execution_count": 20
    },
    {
     "output_type": "execute_result",
     "data": {
      "text/plain": [
       "Text(0, 0.5, '')"
      ]
     },
     "metadata": {},
     "execution_count": 20
    },
    {
     "output_type": "execute_result",
     "data": {
      "text/plain": [
       "Text(0.5, 0.98, 'AGYW by age group and their HTS services status')"
      ]
     },
     "metadata": {},
     "execution_count": 20
    },
    {
     "output_type": "execute_result",
     "data": {
      "text/plain": [
       "Text(0.0, 944.0, '1888')"
      ]
     },
     "metadata": {},
     "execution_count": 20
    },
    {
     "output_type": "execute_result",
     "data": {
      "text/plain": [
       "Text(1.0, 434.0, '868')"
      ]
     },
     "metadata": {},
     "execution_count": 20
    },
    {
     "output_type": "execute_result",
     "data": {
      "text/plain": [
       "Text(2.0, 510.0, '1020')"
      ]
     },
     "metadata": {},
     "execution_count": 20
    },
    {
     "output_type": "execute_result",
     "data": {
      "text/plain": [
       "Text(-80, -20, 'source: HIVHaiti')"
      ]
     },
     "metadata": {},
     "execution_count": 20
    },
    {
     "output_type": "display_data",
     "data": {
      "text/plain": [
       "<Figure size 1152x576 with 1 Axes>"
      ],
      "image/svg+xml": "<?xml version=\"1.0\" encoding=\"utf-8\" standalone=\"no\"?>\r\n<!DOCTYPE svg PUBLIC \"-//W3C//DTD SVG 1.1//EN\"\r\n  \"http://www.w3.org/Graphics/SVG/1.1/DTD/svg11.dtd\">\r\n<svg height=\"536.025313pt\" version=\"1.1\" viewBox=\"0 0 987.2 536.025313\" width=\"987.2pt\" xmlns=\"http://www.w3.org/2000/svg\" xmlns:xlink=\"http://www.w3.org/1999/xlink\">\r\n <metadata>\r\n  <rdf:RDF xmlns:cc=\"http://creativecommons.org/ns#\" xmlns:dc=\"http://purl.org/dc/elements/1.1/\" xmlns:rdf=\"http://www.w3.org/1999/02/22-rdf-syntax-ns#\">\r\n   <cc:Work>\r\n    <dc:type rdf:resource=\"http://purl.org/dc/dcmitype/StillImage\"/>\r\n    <dc:date>2021-08-18T10:14:28.408135</dc:date>\r\n    <dc:format>image/svg+xml</dc:format>\r\n    <dc:creator>\r\n     <cc:Agent>\r\n      <dc:title>Matplotlib v3.4.1, https://matplotlib.org/</dc:title>\r\n     </cc:Agent>\r\n    </dc:creator>\r\n   </cc:Work>\r\n  </rdf:RDF>\r\n </metadata>\r\n <defs>\r\n  <style type=\"text/css\">*{stroke-linecap:butt;stroke-linejoin:round;}</style>\r\n </defs>\r\n <g id=\"figure_1\">\r\n  <g id=\"patch_1\">\r\n   <path d=\"M 0 536.025313 \r\nL 987.2 536.025313 \r\nL 987.2 0 \r\nL 0 0 \r\nz\r\n\" style=\"fill:#ffffff;\"/>\r\n  </g>\r\n  <g id=\"axes_1\">\r\n   <g id=\"patch_2\">\r\n    <path d=\"M 87.2 499.68 \r\nL 980 499.68 \r\nL 980 64.8 \r\nL 87.2 64.8 \r\nz\r\n\" style=\"fill:#eaeaf2;\"/>\r\n   </g>\r\n   <g id=\"matplotlib.axis_1\">\r\n    <g id=\"xtick_1\">\r\n     <g id=\"text_1\">\r\n      <!-- hts recu -->\r\n      <g style=\"fill:#262626;\" transform=\"translate(218.215625 513.837813)scale(0.1 -0.1)\">\r\n       <defs>\r\n        <path d=\"M 422 0 \r\nL 422 4581 \r\nL 984 4581 \r\nL 984 2938 \r\nQ 1378 3394 1978 3394 \r\nQ 2347 3394 2619 3248 \r\nQ 2891 3103 3008 2847 \r\nQ 3125 2591 3125 2103 \r\nL 3125 0 \r\nL 2563 0 \r\nL 2563 2103 \r\nQ 2563 2525 2380 2717 \r\nQ 2197 2909 1863 2909 \r\nQ 1613 2909 1392 2779 \r\nQ 1172 2650 1078 2428 \r\nQ 984 2206 984 1816 \r\nL 984 0 \r\nL 422 0 \r\nz\r\n\" id=\"ArialMT-68\" transform=\"scale(0.015625)\"/>\r\n        <path d=\"M 1650 503 \r\nL 1731 6 \r\nQ 1494 -44 1306 -44 \r\nQ 1000 -44 831 53 \r\nQ 663 150 594 308 \r\nQ 525 466 525 972 \r\nL 525 2881 \r\nL 113 2881 \r\nL 113 3319 \r\nL 525 3319 \r\nL 525 4141 \r\nL 1084 4478 \r\nL 1084 3319 \r\nL 1650 3319 \r\nL 1650 2881 \r\nL 1084 2881 \r\nL 1084 941 \r\nQ 1084 700 1114 631 \r\nQ 1144 563 1211 522 \r\nQ 1278 481 1403 481 \r\nQ 1497 481 1650 503 \r\nz\r\n\" id=\"ArialMT-74\" transform=\"scale(0.015625)\"/>\r\n        <path d=\"M 197 991 \r\nL 753 1078 \r\nQ 800 744 1014 566 \r\nQ 1228 388 1613 388 \r\nQ 2000 388 2187 545 \r\nQ 2375 703 2375 916 \r\nQ 2375 1106 2209 1216 \r\nQ 2094 1291 1634 1406 \r\nQ 1016 1563 777 1677 \r\nQ 538 1791 414 1992 \r\nQ 291 2194 291 2438 \r\nQ 291 2659 392 2848 \r\nQ 494 3038 669 3163 \r\nQ 800 3259 1026 3326 \r\nQ 1253 3394 1513 3394 \r\nQ 1903 3394 2198 3281 \r\nQ 2494 3169 2634 2976 \r\nQ 2775 2784 2828 2463 \r\nL 2278 2388 \r\nQ 2241 2644 2061 2787 \r\nQ 1881 2931 1553 2931 \r\nQ 1166 2931 1000 2803 \r\nQ 834 2675 834 2503 \r\nQ 834 2394 903 2306 \r\nQ 972 2216 1119 2156 \r\nQ 1203 2125 1616 2013 \r\nQ 2213 1853 2448 1751 \r\nQ 2684 1650 2818 1456 \r\nQ 2953 1263 2953 975 \r\nQ 2953 694 2789 445 \r\nQ 2625 197 2315 61 \r\nQ 2006 -75 1616 -75 \r\nQ 969 -75 630 194 \r\nQ 291 463 197 991 \r\nz\r\n\" id=\"ArialMT-73\" transform=\"scale(0.015625)\"/>\r\n        <path id=\"ArialMT-20\" transform=\"scale(0.015625)\"/>\r\n        <path d=\"M 416 0 \r\nL 416 3319 \r\nL 922 3319 \r\nL 922 2816 \r\nQ 1116 3169 1280 3281 \r\nQ 1444 3394 1641 3394 \r\nQ 1925 3394 2219 3213 \r\nL 2025 2691 \r\nQ 1819 2813 1613 2813 \r\nQ 1428 2813 1281 2702 \r\nQ 1134 2591 1072 2394 \r\nQ 978 2094 978 1738 \r\nL 978 0 \r\nL 416 0 \r\nz\r\n\" id=\"ArialMT-72\" transform=\"scale(0.015625)\"/>\r\n        <path d=\"M 2694 1069 \r\nL 3275 997 \r\nQ 3138 488 2766 206 \r\nQ 2394 -75 1816 -75 \r\nQ 1088 -75 661 373 \r\nQ 234 822 234 1631 \r\nQ 234 2469 665 2931 \r\nQ 1097 3394 1784 3394 \r\nQ 2450 3394 2872 2941 \r\nQ 3294 2488 3294 1666 \r\nQ 3294 1616 3291 1516 \r\nL 816 1516 \r\nQ 847 969 1125 678 \r\nQ 1403 388 1819 388 \r\nQ 2128 388 2347 550 \r\nQ 2566 713 2694 1069 \r\nz\r\nM 847 1978 \r\nL 2700 1978 \r\nQ 2663 2397 2488 2606 \r\nQ 2219 2931 1791 2931 \r\nQ 1403 2931 1139 2672 \r\nQ 875 2413 847 1978 \r\nz\r\n\" id=\"ArialMT-65\" transform=\"scale(0.015625)\"/>\r\n        <path d=\"M 2588 1216 \r\nL 3141 1144 \r\nQ 3050 572 2676 248 \r\nQ 2303 -75 1759 -75 \r\nQ 1078 -75 664 370 \r\nQ 250 816 250 1647 \r\nQ 250 2184 428 2587 \r\nQ 606 2991 970 3192 \r\nQ 1334 3394 1763 3394 \r\nQ 2303 3394 2647 3120 \r\nQ 2991 2847 3088 2344 \r\nL 2541 2259 \r\nQ 2463 2594 2264 2762 \r\nQ 2066 2931 1784 2931 \r\nQ 1359 2931 1093 2626 \r\nQ 828 2322 828 1663 \r\nQ 828 994 1084 691 \r\nQ 1341 388 1753 388 \r\nQ 2084 388 2306 591 \r\nQ 2528 794 2588 1216 \r\nz\r\n\" id=\"ArialMT-63\" transform=\"scale(0.015625)\"/>\r\n        <path d=\"M 2597 0 \r\nL 2597 488 \r\nQ 2209 -75 1544 -75 \r\nQ 1250 -75 995 37 \r\nQ 741 150 617 320 \r\nQ 494 491 444 738 \r\nQ 409 903 409 1263 \r\nL 409 3319 \r\nL 972 3319 \r\nL 972 1478 \r\nQ 972 1038 1006 884 \r\nQ 1059 663 1231 536 \r\nQ 1403 409 1656 409 \r\nQ 1909 409 2131 539 \r\nQ 2353 669 2445 892 \r\nQ 2538 1116 2538 1541 \r\nL 2538 3319 \r\nL 3100 3319 \r\nL 3100 0 \r\nL 2597 0 \r\nz\r\n\" id=\"ArialMT-75\" transform=\"scale(0.015625)\"/>\r\n       </defs>\r\n       <use xlink:href=\"#ArialMT-68\"/>\r\n       <use x=\"55.615234\" xlink:href=\"#ArialMT-74\"/>\r\n       <use x=\"83.398438\" xlink:href=\"#ArialMT-73\"/>\r\n       <use x=\"133.398438\" xlink:href=\"#ArialMT-20\"/>\r\n       <use x=\"161.181641\" xlink:href=\"#ArialMT-72\"/>\r\n       <use x=\"194.482422\" xlink:href=\"#ArialMT-65\"/>\r\n       <use x=\"250.097656\" xlink:href=\"#ArialMT-63\"/>\r\n       <use x=\"300.097656\" xlink:href=\"#ArialMT-75\"/>\r\n      </g>\r\n     </g>\r\n    </g>\r\n    <g id=\"xtick_2\">\r\n     <g id=\"text_2\">\r\n      <!-- hts recu pour les 10-17ans -->\r\n      <g style=\"fill:#262626;\" transform=\"translate(474.403125 513.8675)scale(0.1 -0.1)\">\r\n       <defs>\r\n        <path d=\"M 422 -1272 \r\nL 422 3319 \r\nL 934 3319 \r\nL 934 2888 \r\nQ 1116 3141 1344 3267 \r\nQ 1572 3394 1897 3394 \r\nQ 2322 3394 2647 3175 \r\nQ 2972 2956 3137 2557 \r\nQ 3303 2159 3303 1684 \r\nQ 3303 1175 3120 767 \r\nQ 2938 359 2589 142 \r\nQ 2241 -75 1856 -75 \r\nQ 1575 -75 1351 44 \r\nQ 1128 163 984 344 \r\nL 984 -1272 \r\nL 422 -1272 \r\nz\r\nM 931 1641 \r\nQ 931 1000 1190 694 \r\nQ 1450 388 1819 388 \r\nQ 2194 388 2461 705 \r\nQ 2728 1022 2728 1688 \r\nQ 2728 2322 2467 2637 \r\nQ 2206 2953 1844 2953 \r\nQ 1484 2953 1207 2617 \r\nQ 931 2281 931 1641 \r\nz\r\n\" id=\"ArialMT-70\" transform=\"scale(0.015625)\"/>\r\n        <path d=\"M 213 1659 \r\nQ 213 2581 725 3025 \r\nQ 1153 3394 1769 3394 \r\nQ 2453 3394 2887 2945 \r\nQ 3322 2497 3322 1706 \r\nQ 3322 1066 3130 698 \r\nQ 2938 331 2570 128 \r\nQ 2203 -75 1769 -75 \r\nQ 1072 -75 642 372 \r\nQ 213 819 213 1659 \r\nz\r\nM 791 1659 \r\nQ 791 1022 1069 705 \r\nQ 1347 388 1769 388 \r\nQ 2188 388 2466 706 \r\nQ 2744 1025 2744 1678 \r\nQ 2744 2294 2464 2611 \r\nQ 2184 2928 1769 2928 \r\nQ 1347 2928 1069 2612 \r\nQ 791 2297 791 1659 \r\nz\r\n\" id=\"ArialMT-6f\" transform=\"scale(0.015625)\"/>\r\n        <path d=\"M 409 0 \r\nL 409 4581 \r\nL 972 4581 \r\nL 972 0 \r\nL 409 0 \r\nz\r\n\" id=\"ArialMT-6c\" transform=\"scale(0.015625)\"/>\r\n        <path d=\"M 2384 0 \r\nL 1822 0 \r\nL 1822 3584 \r\nQ 1619 3391 1289 3197 \r\nQ 959 3003 697 2906 \r\nL 697 3450 \r\nQ 1169 3672 1522 3987 \r\nQ 1875 4303 2022 4600 \r\nL 2384 4600 \r\nL 2384 0 \r\nz\r\n\" id=\"ArialMT-31\" transform=\"scale(0.015625)\"/>\r\n        <path d=\"M 266 2259 \r\nQ 266 3072 433 3567 \r\nQ 600 4063 929 4331 \r\nQ 1259 4600 1759 4600 \r\nQ 2128 4600 2406 4451 \r\nQ 2684 4303 2865 4023 \r\nQ 3047 3744 3150 3342 \r\nQ 3253 2941 3253 2259 \r\nQ 3253 1453 3087 958 \r\nQ 2922 463 2592 192 \r\nQ 2263 -78 1759 -78 \r\nQ 1097 -78 719 397 \r\nQ 266 969 266 2259 \r\nz\r\nM 844 2259 \r\nQ 844 1131 1108 757 \r\nQ 1372 384 1759 384 \r\nQ 2147 384 2411 759 \r\nQ 2675 1134 2675 2259 \r\nQ 2675 3391 2411 3762 \r\nQ 2147 4134 1753 4134 \r\nQ 1366 4134 1134 3806 \r\nQ 844 3388 844 2259 \r\nz\r\n\" id=\"ArialMT-30\" transform=\"scale(0.015625)\"/>\r\n        <path d=\"M 203 1375 \r\nL 203 1941 \r\nL 1931 1941 \r\nL 1931 1375 \r\nL 203 1375 \r\nz\r\n\" id=\"ArialMT-2d\" transform=\"scale(0.015625)\"/>\r\n        <path d=\"M 303 3981 \r\nL 303 4522 \r\nL 3269 4522 \r\nL 3269 4084 \r\nQ 2831 3619 2401 2847 \r\nQ 1972 2075 1738 1259 \r\nQ 1569 684 1522 0 \r\nL 944 0 \r\nQ 953 541 1156 1306 \r\nQ 1359 2072 1739 2783 \r\nQ 2119 3494 2547 3981 \r\nL 303 3981 \r\nz\r\n\" id=\"ArialMT-37\" transform=\"scale(0.015625)\"/>\r\n        <path d=\"M 2588 409 \r\nQ 2275 144 1986 34 \r\nQ 1697 -75 1366 -75 \r\nQ 819 -75 525 192 \r\nQ 231 459 231 875 \r\nQ 231 1119 342 1320 \r\nQ 453 1522 633 1644 \r\nQ 813 1766 1038 1828 \r\nQ 1203 1872 1538 1913 \r\nQ 2219 1994 2541 2106 \r\nQ 2544 2222 2544 2253 \r\nQ 2544 2597 2384 2738 \r\nQ 2169 2928 1744 2928 \r\nQ 1347 2928 1158 2789 \r\nQ 969 2650 878 2297 \r\nL 328 2372 \r\nQ 403 2725 575 2942 \r\nQ 747 3159 1072 3276 \r\nQ 1397 3394 1825 3394 \r\nQ 2250 3394 2515 3294 \r\nQ 2781 3194 2906 3042 \r\nQ 3031 2891 3081 2659 \r\nQ 3109 2516 3109 2141 \r\nL 3109 1391 \r\nQ 3109 606 3145 398 \r\nQ 3181 191 3288 0 \r\nL 2700 0 \r\nQ 2613 175 2588 409 \r\nz\r\nM 2541 1666 \r\nQ 2234 1541 1622 1453 \r\nQ 1275 1403 1131 1340 \r\nQ 988 1278 909 1158 \r\nQ 831 1038 831 891 \r\nQ 831 666 1001 516 \r\nQ 1172 366 1500 366 \r\nQ 1825 366 2078 508 \r\nQ 2331 650 2450 897 \r\nQ 2541 1088 2541 1459 \r\nL 2541 1666 \r\nz\r\n\" id=\"ArialMT-61\" transform=\"scale(0.015625)\"/>\r\n        <path d=\"M 422 0 \r\nL 422 3319 \r\nL 928 3319 \r\nL 928 2847 \r\nQ 1294 3394 1984 3394 \r\nQ 2284 3394 2536 3286 \r\nQ 2788 3178 2913 3003 \r\nQ 3038 2828 3088 2588 \r\nQ 3119 2431 3119 2041 \r\nL 3119 0 \r\nL 2556 0 \r\nL 2556 2019 \r\nQ 2556 2363 2490 2533 \r\nQ 2425 2703 2258 2804 \r\nQ 2091 2906 1866 2906 \r\nQ 1506 2906 1245 2678 \r\nQ 984 2450 984 1813 \r\nL 984 0 \r\nL 422 0 \r\nz\r\n\" id=\"ArialMT-6e\" transform=\"scale(0.015625)\"/>\r\n       </defs>\r\n       <use xlink:href=\"#ArialMT-68\"/>\r\n       <use x=\"55.615234\" xlink:href=\"#ArialMT-74\"/>\r\n       <use x=\"83.398438\" xlink:href=\"#ArialMT-73\"/>\r\n       <use x=\"133.398438\" xlink:href=\"#ArialMT-20\"/>\r\n       <use x=\"161.181641\" xlink:href=\"#ArialMT-72\"/>\r\n       <use x=\"194.482422\" xlink:href=\"#ArialMT-65\"/>\r\n       <use x=\"250.097656\" xlink:href=\"#ArialMT-63\"/>\r\n       <use x=\"300.097656\" xlink:href=\"#ArialMT-75\"/>\r\n       <use x=\"355.712891\" xlink:href=\"#ArialMT-20\"/>\r\n       <use x=\"383.496094\" xlink:href=\"#ArialMT-70\"/>\r\n       <use x=\"439.111328\" xlink:href=\"#ArialMT-6f\"/>\r\n       <use x=\"494.726562\" xlink:href=\"#ArialMT-75\"/>\r\n       <use x=\"550.341797\" xlink:href=\"#ArialMT-72\"/>\r\n       <use x=\"583.642578\" xlink:href=\"#ArialMT-20\"/>\r\n       <use x=\"611.425781\" xlink:href=\"#ArialMT-6c\"/>\r\n       <use x=\"633.642578\" xlink:href=\"#ArialMT-65\"/>\r\n       <use x=\"689.257812\" xlink:href=\"#ArialMT-73\"/>\r\n       <use x=\"739.257812\" xlink:href=\"#ArialMT-20\"/>\r\n       <use x=\"767.041016\" xlink:href=\"#ArialMT-31\"/>\r\n       <use x=\"822.65625\" xlink:href=\"#ArialMT-30\"/>\r\n       <use x=\"878.271484\" xlink:href=\"#ArialMT-2d\"/>\r\n       <use x=\"911.572266\" xlink:href=\"#ArialMT-31\"/>\r\n       <use x=\"967.1875\" xlink:href=\"#ArialMT-37\"/>\r\n       <use x=\"1022.802734\" xlink:href=\"#ArialMT-61\"/>\r\n       <use x=\"1078.417969\" xlink:href=\"#ArialMT-6e\"/>\r\n       <use x=\"1134.033203\" xlink:href=\"#ArialMT-73\"/>\r\n      </g>\r\n     </g>\r\n    </g>\r\n    <g id=\"xtick_3\">\r\n     <g id=\"text_3\">\r\n      <!-- hts recu pour les 18-24ans -->\r\n      <g style=\"fill:#262626;\" transform=\"translate(772.003125 513.8675)scale(0.1 -0.1)\">\r\n       <defs>\r\n        <path d=\"M 1131 2484 \r\nQ 781 2613 612 2850 \r\nQ 444 3088 444 3419 \r\nQ 444 3919 803 4259 \r\nQ 1163 4600 1759 4600 \r\nQ 2359 4600 2725 4251 \r\nQ 3091 3903 3091 3403 \r\nQ 3091 3084 2923 2848 \r\nQ 2756 2613 2416 2484 \r\nQ 2838 2347 3058 2040 \r\nQ 3278 1734 3278 1309 \r\nQ 3278 722 2862 322 \r\nQ 2447 -78 1769 -78 \r\nQ 1091 -78 675 323 \r\nQ 259 725 259 1325 \r\nQ 259 1772 486 2073 \r\nQ 713 2375 1131 2484 \r\nz\r\nM 1019 3438 \r\nQ 1019 3113 1228 2906 \r\nQ 1438 2700 1772 2700 \r\nQ 2097 2700 2305 2904 \r\nQ 2513 3109 2513 3406 \r\nQ 2513 3716 2298 3927 \r\nQ 2084 4138 1766 4138 \r\nQ 1444 4138 1231 3931 \r\nQ 1019 3725 1019 3438 \r\nz\r\nM 838 1322 \r\nQ 838 1081 952 856 \r\nQ 1066 631 1291 507 \r\nQ 1516 384 1775 384 \r\nQ 2178 384 2440 643 \r\nQ 2703 903 2703 1303 \r\nQ 2703 1709 2433 1975 \r\nQ 2163 2241 1756 2241 \r\nQ 1359 2241 1098 1978 \r\nQ 838 1716 838 1322 \r\nz\r\n\" id=\"ArialMT-38\" transform=\"scale(0.015625)\"/>\r\n        <path d=\"M 3222 541 \r\nL 3222 0 \r\nL 194 0 \r\nQ 188 203 259 391 \r\nQ 375 700 629 1000 \r\nQ 884 1300 1366 1694 \r\nQ 2113 2306 2375 2664 \r\nQ 2638 3022 2638 3341 \r\nQ 2638 3675 2398 3904 \r\nQ 2159 4134 1775 4134 \r\nQ 1369 4134 1125 3890 \r\nQ 881 3647 878 3216 \r\nL 300 3275 \r\nQ 359 3922 746 4261 \r\nQ 1134 4600 1788 4600 \r\nQ 2447 4600 2831 4234 \r\nQ 3216 3869 3216 3328 \r\nQ 3216 3053 3103 2787 \r\nQ 2991 2522 2730 2228 \r\nQ 2469 1934 1863 1422 \r\nQ 1356 997 1212 845 \r\nQ 1069 694 975 541 \r\nL 3222 541 \r\nz\r\n\" id=\"ArialMT-32\" transform=\"scale(0.015625)\"/>\r\n        <path d=\"M 2069 0 \r\nL 2069 1097 \r\nL 81 1097 \r\nL 81 1613 \r\nL 2172 4581 \r\nL 2631 4581 \r\nL 2631 1613 \r\nL 3250 1613 \r\nL 3250 1097 \r\nL 2631 1097 \r\nL 2631 0 \r\nL 2069 0 \r\nz\r\nM 2069 1613 \r\nL 2069 3678 \r\nL 634 1613 \r\nL 2069 1613 \r\nz\r\n\" id=\"ArialMT-34\" transform=\"scale(0.015625)\"/>\r\n       </defs>\r\n       <use xlink:href=\"#ArialMT-68\"/>\r\n       <use x=\"55.615234\" xlink:href=\"#ArialMT-74\"/>\r\n       <use x=\"83.398438\" xlink:href=\"#ArialMT-73\"/>\r\n       <use x=\"133.398438\" xlink:href=\"#ArialMT-20\"/>\r\n       <use x=\"161.181641\" xlink:href=\"#ArialMT-72\"/>\r\n       <use x=\"194.482422\" xlink:href=\"#ArialMT-65\"/>\r\n       <use x=\"250.097656\" xlink:href=\"#ArialMT-63\"/>\r\n       <use x=\"300.097656\" xlink:href=\"#ArialMT-75\"/>\r\n       <use x=\"355.712891\" xlink:href=\"#ArialMT-20\"/>\r\n       <use x=\"383.496094\" xlink:href=\"#ArialMT-70\"/>\r\n       <use x=\"439.111328\" xlink:href=\"#ArialMT-6f\"/>\r\n       <use x=\"494.726562\" xlink:href=\"#ArialMT-75\"/>\r\n       <use x=\"550.341797\" xlink:href=\"#ArialMT-72\"/>\r\n       <use x=\"583.642578\" xlink:href=\"#ArialMT-20\"/>\r\n       <use x=\"611.425781\" xlink:href=\"#ArialMT-6c\"/>\r\n       <use x=\"633.642578\" xlink:href=\"#ArialMT-65\"/>\r\n       <use x=\"689.257812\" xlink:href=\"#ArialMT-73\"/>\r\n       <use x=\"739.257812\" xlink:href=\"#ArialMT-20\"/>\r\n       <use x=\"767.041016\" xlink:href=\"#ArialMT-31\"/>\r\n       <use x=\"822.65625\" xlink:href=\"#ArialMT-38\"/>\r\n       <use x=\"878.271484\" xlink:href=\"#ArialMT-2d\"/>\r\n       <use x=\"911.572266\" xlink:href=\"#ArialMT-32\"/>\r\n       <use x=\"967.1875\" xlink:href=\"#ArialMT-34\"/>\r\n       <use x=\"1022.802734\" xlink:href=\"#ArialMT-61\"/>\r\n       <use x=\"1078.417969\" xlink:href=\"#ArialMT-6e\"/>\r\n       <use x=\"1134.033203\" xlink:href=\"#ArialMT-73\"/>\r\n      </g>\r\n     </g>\r\n    </g>\r\n   </g>\r\n   <g id=\"matplotlib.axis_2\">\r\n    <g id=\"ytick_1\">\r\n     <g id=\"line2d_1\">\r\n      <path clip-path=\"url(#pd52a219c5a)\" d=\"M 87.2 499.68 \r\nL 980 499.68 \r\n\" style=\"fill:none;stroke:#ffffff;stroke-linecap:round;stroke-width:0.8;\"/>\r\n     </g>\r\n     <g id=\"text_4\">\r\n      <!-- 0 -->\r\n      <g style=\"fill:#262626;\" transform=\"translate(74.639063 503.258906)scale(0.1 -0.1)\">\r\n       <use xlink:href=\"#ArialMT-30\"/>\r\n      </g>\r\n     </g>\r\n    </g>\r\n    <g id=\"ytick_2\">\r\n     <g id=\"line2d_2\">\r\n      <path clip-path=\"url(#pd52a219c5a)\" d=\"M 87.2 444.837385 \r\nL 980 444.837385 \r\n\" style=\"fill:none;stroke:#ffffff;stroke-linecap:round;stroke-width:0.8;\"/>\r\n     </g>\r\n     <g id=\"text_5\">\r\n      <!-- 250 -->\r\n      <g style=\"fill:#262626;\" transform=\"translate(63.517188 448.416291)scale(0.1 -0.1)\">\r\n       <defs>\r\n        <path d=\"M 266 1200 \r\nL 856 1250 \r\nQ 922 819 1161 601 \r\nQ 1400 384 1738 384 \r\nQ 2144 384 2425 690 \r\nQ 2706 997 2706 1503 \r\nQ 2706 1984 2436 2262 \r\nQ 2166 2541 1728 2541 \r\nQ 1456 2541 1237 2417 \r\nQ 1019 2294 894 2097 \r\nL 366 2166 \r\nL 809 4519 \r\nL 3088 4519 \r\nL 3088 3981 \r\nL 1259 3981 \r\nL 1013 2750 \r\nQ 1425 3038 1878 3038 \r\nQ 2478 3038 2890 2622 \r\nQ 3303 2206 3303 1553 \r\nQ 3303 931 2941 478 \r\nQ 2500 -78 1738 -78 \r\nQ 1113 -78 717 272 \r\nQ 322 622 266 1200 \r\nz\r\n\" id=\"ArialMT-35\" transform=\"scale(0.015625)\"/>\r\n       </defs>\r\n       <use xlink:href=\"#ArialMT-32\"/>\r\n       <use x=\"55.615234\" xlink:href=\"#ArialMT-35\"/>\r\n       <use x=\"111.230469\" xlink:href=\"#ArialMT-30\"/>\r\n      </g>\r\n     </g>\r\n    </g>\r\n    <g id=\"ytick_3\">\r\n     <g id=\"line2d_3\">\r\n      <path clip-path=\"url(#pd52a219c5a)\" d=\"M 87.2 389.99477 \r\nL 980 389.99477 \r\n\" style=\"fill:none;stroke:#ffffff;stroke-linecap:round;stroke-width:0.8;\"/>\r\n     </g>\r\n     <g id=\"text_6\">\r\n      <!-- 500 -->\r\n      <g style=\"fill:#262626;\" transform=\"translate(63.517188 393.573676)scale(0.1 -0.1)\">\r\n       <use xlink:href=\"#ArialMT-35\"/>\r\n       <use x=\"55.615234\" xlink:href=\"#ArialMT-30\"/>\r\n       <use x=\"111.230469\" xlink:href=\"#ArialMT-30\"/>\r\n      </g>\r\n     </g>\r\n    </g>\r\n    <g id=\"ytick_4\">\r\n     <g id=\"line2d_4\">\r\n      <path clip-path=\"url(#pd52a219c5a)\" d=\"M 87.2 335.152155 \r\nL 980 335.152155 \r\n\" style=\"fill:none;stroke:#ffffff;stroke-linecap:round;stroke-width:0.8;\"/>\r\n     </g>\r\n     <g id=\"text_7\">\r\n      <!-- 750 -->\r\n      <g style=\"fill:#262626;\" transform=\"translate(63.517188 338.731061)scale(0.1 -0.1)\">\r\n       <use xlink:href=\"#ArialMT-37\"/>\r\n       <use x=\"55.615234\" xlink:href=\"#ArialMT-35\"/>\r\n       <use x=\"111.230469\" xlink:href=\"#ArialMT-30\"/>\r\n      </g>\r\n     </g>\r\n    </g>\r\n    <g id=\"ytick_5\">\r\n     <g id=\"line2d_5\">\r\n      <path clip-path=\"url(#pd52a219c5a)\" d=\"M 87.2 280.30954 \r\nL 980 280.30954 \r\n\" style=\"fill:none;stroke:#ffffff;stroke-linecap:round;stroke-width:0.8;\"/>\r\n     </g>\r\n     <g id=\"text_8\">\r\n      <!-- 1000 -->\r\n      <g style=\"fill:#262626;\" transform=\"translate(57.95625 283.888446)scale(0.1 -0.1)\">\r\n       <use xlink:href=\"#ArialMT-31\"/>\r\n       <use x=\"55.615234\" xlink:href=\"#ArialMT-30\"/>\r\n       <use x=\"111.230469\" xlink:href=\"#ArialMT-30\"/>\r\n       <use x=\"166.845703\" xlink:href=\"#ArialMT-30\"/>\r\n      </g>\r\n     </g>\r\n    </g>\r\n    <g id=\"ytick_6\">\r\n     <g id=\"line2d_6\">\r\n      <path clip-path=\"url(#pd52a219c5a)\" d=\"M 87.2 225.466925 \r\nL 980 225.466925 \r\n\" style=\"fill:none;stroke:#ffffff;stroke-linecap:round;stroke-width:0.8;\"/>\r\n     </g>\r\n     <g id=\"text_9\">\r\n      <!-- 1250 -->\r\n      <g style=\"fill:#262626;\" transform=\"translate(57.95625 229.045831)scale(0.1 -0.1)\">\r\n       <use xlink:href=\"#ArialMT-31\"/>\r\n       <use x=\"55.615234\" xlink:href=\"#ArialMT-32\"/>\r\n       <use x=\"111.230469\" xlink:href=\"#ArialMT-35\"/>\r\n       <use x=\"166.845703\" xlink:href=\"#ArialMT-30\"/>\r\n      </g>\r\n     </g>\r\n    </g>\r\n    <g id=\"ytick_7\">\r\n     <g id=\"line2d_7\">\r\n      <path clip-path=\"url(#pd52a219c5a)\" d=\"M 87.2 170.62431 \r\nL 980 170.62431 \r\n\" style=\"fill:none;stroke:#ffffff;stroke-linecap:round;stroke-width:0.8;\"/>\r\n     </g>\r\n     <g id=\"text_10\">\r\n      <!-- 1500 -->\r\n      <g style=\"fill:#262626;\" transform=\"translate(57.95625 174.203216)scale(0.1 -0.1)\">\r\n       <use xlink:href=\"#ArialMT-31\"/>\r\n       <use x=\"55.615234\" xlink:href=\"#ArialMT-35\"/>\r\n       <use x=\"111.230469\" xlink:href=\"#ArialMT-30\"/>\r\n       <use x=\"166.845703\" xlink:href=\"#ArialMT-30\"/>\r\n      </g>\r\n     </g>\r\n    </g>\r\n    <g id=\"ytick_8\">\r\n     <g id=\"line2d_8\">\r\n      <path clip-path=\"url(#pd52a219c5a)\" d=\"M 87.2 115.781695 \r\nL 980 115.781695 \r\n\" style=\"fill:none;stroke:#ffffff;stroke-linecap:round;stroke-width:0.8;\"/>\r\n     </g>\r\n     <g id=\"text_11\">\r\n      <!-- 1750 -->\r\n      <g style=\"fill:#262626;\" transform=\"translate(57.95625 119.360601)scale(0.1 -0.1)\">\r\n       <use xlink:href=\"#ArialMT-31\"/>\r\n       <use x=\"55.615234\" xlink:href=\"#ArialMT-37\"/>\r\n       <use x=\"111.230469\" xlink:href=\"#ArialMT-35\"/>\r\n       <use x=\"166.845703\" xlink:href=\"#ArialMT-30\"/>\r\n      </g>\r\n     </g>\r\n    </g>\r\n   </g>\r\n   <g id=\"patch_3\">\r\n    <path clip-path=\"url(#pd52a219c5a)\" d=\"M 116.96 499.68 \r\nL 355.04 499.68 \r\nL 355.04 85.508571 \r\nL 116.96 85.508571 \r\nz\r\n\" style=\"fill:#3274a1;stroke:#ffffff;stroke-linejoin:miter;\"/>\r\n   </g>\r\n   <g id=\"patch_4\">\r\n    <path clip-path=\"url(#pd52a219c5a)\" d=\"M 414.56 499.68 \r\nL 652.64 499.68 \r\nL 652.64 309.266441 \r\nL 414.56 309.266441 \r\nz\r\n\" style=\"fill:#e1812c;stroke:#ffffff;stroke-linejoin:miter;\"/>\r\n   </g>\r\n   <g id=\"patch_5\">\r\n    <path clip-path=\"url(#pd52a219c5a)\" d=\"M 712.16 499.68 \r\nL 950.24 499.68 \r\nL 950.24 275.922131 \r\nL 712.16 275.922131 \r\nz\r\n\" style=\"fill:#3a923a;stroke:#ffffff;stroke-linejoin:miter;\"/>\r\n   </g>\r\n   <g id=\"line2d_9\">\r\n    <path clip-path=\"url(#pd52a219c5a)\" d=\"M 0 0 \r\n\" style=\"fill:none;stroke:#424242;stroke-linecap:round;stroke-width:2.7;\"/>\r\n   </g>\r\n   <g id=\"line2d_10\">\r\n    <path clip-path=\"url(#pd52a219c5a)\" d=\"M 0 0 \r\n\" style=\"fill:none;stroke:#424242;stroke-linecap:round;stroke-width:2.7;\"/>\r\n   </g>\r\n   <g id=\"line2d_11\">\r\n    <path clip-path=\"url(#pd52a219c5a)\" d=\"M 0 0 \r\n\" style=\"fill:none;stroke:#424242;stroke-linecap:round;stroke-width:2.7;\"/>\r\n   </g>\r\n   <g id=\"patch_6\">\r\n    <path d=\"M 87.2 499.68 \r\nL 87.2 64.8 \r\n\" style=\"fill:none;stroke:#ffffff;stroke-linecap:square;stroke-linejoin:miter;stroke-width:0.8;\"/>\r\n   </g>\r\n   <g id=\"patch_7\">\r\n    <path d=\"M 980 499.68 \r\nL 980 64.8 \r\n\" style=\"fill:none;stroke:#ffffff;stroke-linecap:square;stroke-linejoin:miter;stroke-width:0.8;\"/>\r\n   </g>\r\n   <g id=\"patch_8\">\r\n    <path d=\"M 87.2 499.68 \r\nL 980 499.68 \r\n\" style=\"fill:none;stroke:#ffffff;stroke-linecap:square;stroke-linejoin:miter;stroke-width:0.8;\"/>\r\n   </g>\r\n   <g id=\"patch_9\">\r\n    <path d=\"M 87.2 64.8 \r\nL 980 64.8 \r\n\" style=\"fill:none;stroke:#ffffff;stroke-linecap:square;stroke-linejoin:miter;stroke-width:0.8;\"/>\r\n   </g>\r\n   <g id=\"text_12\">\r\n    <!-- 1888 -->\r\n    <g style=\"fill:#ffffff;\" transform=\"translate(219.317187 296.47202)scale(0.15 -0.15)\">\r\n     <use xlink:href=\"#ArialMT-31\"/>\r\n     <use x=\"55.615234\" xlink:href=\"#ArialMT-38\"/>\r\n     <use x=\"111.230469\" xlink:href=\"#ArialMT-38\"/>\r\n     <use x=\"166.845703\" xlink:href=\"#ArialMT-38\"/>\r\n    </g>\r\n   </g>\r\n   <g id=\"text_13\">\r\n    <!-- 868 -->\r\n    <g style=\"fill:#ffffff;\" transform=\"translate(521.087891 408.350955)scale(0.15 -0.15)\">\r\n     <defs>\r\n      <path d=\"M 3184 3459 \r\nL 2625 3416 \r\nQ 2550 3747 2413 3897 \r\nQ 2184 4138 1850 4138 \r\nQ 1581 4138 1378 3988 \r\nQ 1113 3794 959 3422 \r\nQ 806 3050 800 2363 \r\nQ 1003 2672 1297 2822 \r\nQ 1591 2972 1913 2972 \r\nQ 2475 2972 2870 2558 \r\nQ 3266 2144 3266 1488 \r\nQ 3266 1056 3080 686 \r\nQ 2894 316 2569 119 \r\nQ 2244 -78 1831 -78 \r\nQ 1128 -78 684 439 \r\nQ 241 956 241 2144 \r\nQ 241 3472 731 4075 \r\nQ 1159 4600 1884 4600 \r\nQ 2425 4600 2770 4297 \r\nQ 3116 3994 3184 3459 \r\nz\r\nM 888 1484 \r\nQ 888 1194 1011 928 \r\nQ 1134 663 1356 523 \r\nQ 1578 384 1822 384 \r\nQ 2178 384 2434 671 \r\nQ 2691 959 2691 1453 \r\nQ 2691 1928 2437 2201 \r\nQ 2184 2475 1800 2475 \r\nQ 1419 2475 1153 2201 \r\nQ 888 1928 888 1484 \r\nz\r\n\" id=\"ArialMT-36\" transform=\"scale(0.015625)\"/>\r\n     </defs>\r\n     <use xlink:href=\"#ArialMT-38\"/>\r\n     <use x=\"55.615234\" xlink:href=\"#ArialMT-36\"/>\r\n     <use x=\"111.230469\" xlink:href=\"#ArialMT-38\"/>\r\n    </g>\r\n   </g>\r\n   <g id=\"text_14\">\r\n    <!-- 1020 -->\r\n    <g style=\"fill:#ffffff;\" transform=\"translate(814.517187 391.6788)scale(0.15 -0.15)\">\r\n     <use xlink:href=\"#ArialMT-31\"/>\r\n     <use x=\"55.615234\" xlink:href=\"#ArialMT-30\"/>\r\n     <use x=\"111.230469\" xlink:href=\"#ArialMT-32\"/>\r\n     <use x=\"166.845703\" xlink:href=\"#ArialMT-30\"/>\r\n    </g>\r\n   </g>\r\n   <g id=\"text_15\">\r\n    <!-- source: HIVHaiti -->\r\n    <g style=\"fill:#262626;\" transform=\"translate(7.2 526.837813)scale(0.1 -0.1)\">\r\n     <defs>\r\n      <path d=\"M 578 2678 \r\nL 578 3319 \r\nL 1219 3319 \r\nL 1219 2678 \r\nL 578 2678 \r\nz\r\nM 578 0 \r\nL 578 641 \r\nL 1219 641 \r\nL 1219 0 \r\nL 578 0 \r\nz\r\n\" id=\"ArialMT-3a\" transform=\"scale(0.015625)\"/>\r\n      <path d=\"M 513 0 \r\nL 513 4581 \r\nL 1119 4581 \r\nL 1119 2700 \r\nL 3500 2700 \r\nL 3500 4581 \r\nL 4106 4581 \r\nL 4106 0 \r\nL 3500 0 \r\nL 3500 2159 \r\nL 1119 2159 \r\nL 1119 0 \r\nL 513 0 \r\nz\r\n\" id=\"ArialMT-48\" transform=\"scale(0.015625)\"/>\r\n      <path d=\"M 597 0 \r\nL 597 4581 \r\nL 1203 4581 \r\nL 1203 0 \r\nL 597 0 \r\nz\r\n\" id=\"ArialMT-49\" transform=\"scale(0.015625)\"/>\r\n      <path d=\"M 1803 0 \r\nL 28 4581 \r\nL 684 4581 \r\nL 1875 1253 \r\nQ 2019 853 2116 503 \r\nQ 2222 878 2363 1253 \r\nL 3600 4581 \r\nL 4219 4581 \r\nL 2425 0 \r\nL 1803 0 \r\nz\r\n\" id=\"ArialMT-56\" transform=\"scale(0.015625)\"/>\r\n      <path d=\"M 425 3934 \r\nL 425 4581 \r\nL 988 4581 \r\nL 988 3934 \r\nL 425 3934 \r\nz\r\nM 425 0 \r\nL 425 3319 \r\nL 988 3319 \r\nL 988 0 \r\nL 425 0 \r\nz\r\n\" id=\"ArialMT-69\" transform=\"scale(0.015625)\"/>\r\n     </defs>\r\n     <use xlink:href=\"#ArialMT-73\"/>\r\n     <use x=\"50\" xlink:href=\"#ArialMT-6f\"/>\r\n     <use x=\"105.615234\" xlink:href=\"#ArialMT-75\"/>\r\n     <use x=\"161.230469\" xlink:href=\"#ArialMT-72\"/>\r\n     <use x=\"194.53125\" xlink:href=\"#ArialMT-63\"/>\r\n     <use x=\"244.53125\" xlink:href=\"#ArialMT-65\"/>\r\n     <use x=\"300.146484\" xlink:href=\"#ArialMT-3a\"/>\r\n     <use x=\"327.929688\" xlink:href=\"#ArialMT-20\"/>\r\n     <use x=\"355.712891\" xlink:href=\"#ArialMT-48\"/>\r\n     <use x=\"427.929688\" xlink:href=\"#ArialMT-49\"/>\r\n     <use x=\"455.712891\" xlink:href=\"#ArialMT-56\"/>\r\n     <use x=\"522.412109\" xlink:href=\"#ArialMT-48\"/>\r\n     <use x=\"594.628906\" xlink:href=\"#ArialMT-61\"/>\r\n     <use x=\"650.244141\" xlink:href=\"#ArialMT-69\"/>\r\n     <use x=\"672.460938\" xlink:href=\"#ArialMT-74\"/>\r\n     <use x=\"700.244141\" xlink:href=\"#ArialMT-69\"/>\r\n    </g>\r\n   </g>\r\n  </g>\r\n  <g id=\"text_16\">\r\n   <!-- AGYW by age group and their HTS services status -->\r\n   <g style=\"fill:#262626;\" transform=\"translate(384.148438 15.935625)scale(0.12 -0.12)\">\r\n    <defs>\r\n     <path d=\"M -9 0 \r\nL 1750 4581 \r\nL 2403 4581 \r\nL 4278 0 \r\nL 3588 0 \r\nL 3053 1388 \r\nL 1138 1388 \r\nL 634 0 \r\nL -9 0 \r\nz\r\nM 1313 1881 \r\nL 2866 1881 \r\nL 2388 3150 \r\nQ 2169 3728 2063 4100 \r\nQ 1975 3659 1816 3225 \r\nL 1313 1881 \r\nz\r\n\" id=\"ArialMT-41\" transform=\"scale(0.015625)\"/>\r\n     <path d=\"M 2638 1797 \r\nL 2638 2334 \r\nL 4578 2338 \r\nL 4578 638 \r\nQ 4131 281 3656 101 \r\nQ 3181 -78 2681 -78 \r\nQ 2006 -78 1454 211 \r\nQ 903 500 622 1047 \r\nQ 341 1594 341 2269 \r\nQ 341 2938 620 3517 \r\nQ 900 4097 1425 4378 \r\nQ 1950 4659 2634 4659 \r\nQ 3131 4659 3532 4498 \r\nQ 3934 4338 4162 4050 \r\nQ 4391 3763 4509 3300 \r\nL 3963 3150 \r\nQ 3859 3500 3706 3700 \r\nQ 3553 3900 3268 4020 \r\nQ 2984 4141 2638 4141 \r\nQ 2222 4141 1919 4014 \r\nQ 1616 3888 1430 3681 \r\nQ 1244 3475 1141 3228 \r\nQ 966 2803 966 2306 \r\nQ 966 1694 1177 1281 \r\nQ 1388 869 1791 669 \r\nQ 2194 469 2647 469 \r\nQ 3041 469 3416 620 \r\nQ 3791 772 3984 944 \r\nL 3984 1797 \r\nL 2638 1797 \r\nz\r\n\" id=\"ArialMT-47\" transform=\"scale(0.015625)\"/>\r\n     <path d=\"M 1784 0 \r\nL 1784 1941 \r\nL 19 4581 \r\nL 756 4581 \r\nL 1659 3200 \r\nQ 1909 2813 2125 2425 \r\nQ 2331 2784 2625 3234 \r\nL 3513 4581 \r\nL 4219 4581 \r\nL 2391 1941 \r\nL 2391 0 \r\nL 1784 0 \r\nz\r\n\" id=\"ArialMT-59\" transform=\"scale(0.015625)\"/>\r\n     <path d=\"M 1294 0 \r\nL 78 4581 \r\nL 700 4581 \r\nL 1397 1578 \r\nQ 1509 1106 1591 641 \r\nQ 1766 1375 1797 1488 \r\nL 2669 4581 \r\nL 3400 4581 \r\nL 4056 2263 \r\nQ 4303 1400 4413 641 \r\nQ 4500 1075 4641 1638 \r\nL 5359 4581 \r\nL 5969 4581 \r\nL 4713 0 \r\nL 4128 0 \r\nL 3163 3491 \r\nQ 3041 3928 3019 4028 \r\nQ 2947 3713 2884 3491 \r\nL 1913 0 \r\nL 1294 0 \r\nz\r\n\" id=\"ArialMT-57\" transform=\"scale(0.015625)\"/>\r\n     <path d=\"M 941 0 \r\nL 419 0 \r\nL 419 4581 \r\nL 981 4581 \r\nL 981 2947 \r\nQ 1338 3394 1891 3394 \r\nQ 2197 3394 2470 3270 \r\nQ 2744 3147 2920 2923 \r\nQ 3097 2700 3197 2384 \r\nQ 3297 2069 3297 1709 \r\nQ 3297 856 2875 390 \r\nQ 2453 -75 1863 -75 \r\nQ 1275 -75 941 416 \r\nL 941 0 \r\nz\r\nM 934 1684 \r\nQ 934 1088 1097 822 \r\nQ 1363 388 1816 388 \r\nQ 2184 388 2453 708 \r\nQ 2722 1028 2722 1663 \r\nQ 2722 2313 2464 2622 \r\nQ 2206 2931 1841 2931 \r\nQ 1472 2931 1203 2611 \r\nQ 934 2291 934 1684 \r\nz\r\n\" id=\"ArialMT-62\" transform=\"scale(0.015625)\"/>\r\n     <path d=\"M 397 -1278 \r\nL 334 -750 \r\nQ 519 -800 656 -800 \r\nQ 844 -800 956 -737 \r\nQ 1069 -675 1141 -563 \r\nQ 1194 -478 1313 -144 \r\nQ 1328 -97 1363 -6 \r\nL 103 3319 \r\nL 709 3319 \r\nL 1400 1397 \r\nQ 1534 1031 1641 628 \r\nQ 1738 1016 1872 1384 \r\nL 2581 3319 \r\nL 3144 3319 \r\nL 1881 -56 \r\nQ 1678 -603 1566 -809 \r\nQ 1416 -1088 1222 -1217 \r\nQ 1028 -1347 759 -1347 \r\nQ 597 -1347 397 -1278 \r\nz\r\n\" id=\"ArialMT-79\" transform=\"scale(0.015625)\"/>\r\n     <path d=\"M 319 -275 \r\nL 866 -356 \r\nQ 900 -609 1056 -725 \r\nQ 1266 -881 1628 -881 \r\nQ 2019 -881 2231 -725 \r\nQ 2444 -569 2519 -288 \r\nQ 2563 -116 2559 434 \r\nQ 2191 0 1641 0 \r\nQ 956 0 581 494 \r\nQ 206 988 206 1678 \r\nQ 206 2153 378 2554 \r\nQ 550 2956 876 3175 \r\nQ 1203 3394 1644 3394 \r\nQ 2231 3394 2613 2919 \r\nL 2613 3319 \r\nL 3131 3319 \r\nL 3131 450 \r\nQ 3131 -325 2973 -648 \r\nQ 2816 -972 2473 -1159 \r\nQ 2131 -1347 1631 -1347 \r\nQ 1038 -1347 672 -1080 \r\nQ 306 -813 319 -275 \r\nz\r\nM 784 1719 \r\nQ 784 1066 1043 766 \r\nQ 1303 466 1694 466 \r\nQ 2081 466 2343 764 \r\nQ 2606 1063 2606 1700 \r\nQ 2606 2309 2336 2618 \r\nQ 2066 2928 1684 2928 \r\nQ 1309 2928 1046 2623 \r\nQ 784 2319 784 1719 \r\nz\r\n\" id=\"ArialMT-67\" transform=\"scale(0.015625)\"/>\r\n     <path d=\"M 2575 0 \r\nL 2575 419 \r\nQ 2259 -75 1647 -75 \r\nQ 1250 -75 917 144 \r\nQ 584 363 401 755 \r\nQ 219 1147 219 1656 \r\nQ 219 2153 384 2558 \r\nQ 550 2963 881 3178 \r\nQ 1213 3394 1622 3394 \r\nQ 1922 3394 2156 3267 \r\nQ 2391 3141 2538 2938 \r\nL 2538 4581 \r\nL 3097 4581 \r\nL 3097 0 \r\nL 2575 0 \r\nz\r\nM 797 1656 \r\nQ 797 1019 1065 703 \r\nQ 1334 388 1700 388 \r\nQ 2069 388 2326 689 \r\nQ 2584 991 2584 1609 \r\nQ 2584 2291 2321 2609 \r\nQ 2059 2928 1675 2928 \r\nQ 1300 2928 1048 2622 \r\nQ 797 2316 797 1656 \r\nz\r\n\" id=\"ArialMT-64\" transform=\"scale(0.015625)\"/>\r\n     <path d=\"M 1659 0 \r\nL 1659 4041 \r\nL 150 4041 \r\nL 150 4581 \r\nL 3781 4581 \r\nL 3781 4041 \r\nL 2266 4041 \r\nL 2266 0 \r\nL 1659 0 \r\nz\r\n\" id=\"ArialMT-54\" transform=\"scale(0.015625)\"/>\r\n     <path d=\"M 288 1472 \r\nL 859 1522 \r\nQ 900 1178 1048 958 \r\nQ 1197 738 1509 602 \r\nQ 1822 466 2213 466 \r\nQ 2559 466 2825 569 \r\nQ 3091 672 3220 851 \r\nQ 3350 1031 3350 1244 \r\nQ 3350 1459 3225 1620 \r\nQ 3100 1781 2813 1891 \r\nQ 2628 1963 1997 2114 \r\nQ 1366 2266 1113 2400 \r\nQ 784 2572 623 2826 \r\nQ 463 3081 463 3397 \r\nQ 463 3744 659 4045 \r\nQ 856 4347 1234 4503 \r\nQ 1613 4659 2075 4659 \r\nQ 2584 4659 2973 4495 \r\nQ 3363 4331 3572 4012 \r\nQ 3781 3694 3797 3291 \r\nL 3216 3247 \r\nQ 3169 3681 2898 3903 \r\nQ 2628 4125 2100 4125 \r\nQ 1550 4125 1298 3923 \r\nQ 1047 3722 1047 3438 \r\nQ 1047 3191 1225 3031 \r\nQ 1400 2872 2139 2705 \r\nQ 2878 2538 3153 2413 \r\nQ 3553 2228 3743 1945 \r\nQ 3934 1663 3934 1294 \r\nQ 3934 928 3725 604 \r\nQ 3516 281 3123 101 \r\nQ 2731 -78 2241 -78 \r\nQ 1619 -78 1198 103 \r\nQ 778 284 539 648 \r\nQ 300 1013 288 1472 \r\nz\r\n\" id=\"ArialMT-53\" transform=\"scale(0.015625)\"/>\r\n     <path d=\"M 1344 0 \r\nL 81 3319 \r\nL 675 3319 \r\nL 1388 1331 \r\nQ 1503 1009 1600 663 \r\nQ 1675 925 1809 1294 \r\nL 2547 3319 \r\nL 3125 3319 \r\nL 1869 0 \r\nL 1344 0 \r\nz\r\n\" id=\"ArialMT-76\" transform=\"scale(0.015625)\"/>\r\n    </defs>\r\n    <use xlink:href=\"#ArialMT-41\"/>\r\n    <use x=\"66.699219\" xlink:href=\"#ArialMT-47\"/>\r\n    <use x=\"144.482422\" xlink:href=\"#ArialMT-59\"/>\r\n    <use x=\"211.181641\" xlink:href=\"#ArialMT-57\"/>\r\n    <use x=\"305.566406\" xlink:href=\"#ArialMT-20\"/>\r\n    <use x=\"333.349609\" xlink:href=\"#ArialMT-62\"/>\r\n    <use x=\"388.964844\" xlink:href=\"#ArialMT-79\"/>\r\n    <use x=\"438.964844\" xlink:href=\"#ArialMT-20\"/>\r\n    <use x=\"466.748047\" xlink:href=\"#ArialMT-61\"/>\r\n    <use x=\"522.363281\" xlink:href=\"#ArialMT-67\"/>\r\n    <use x=\"577.978516\" xlink:href=\"#ArialMT-65\"/>\r\n    <use x=\"633.59375\" xlink:href=\"#ArialMT-20\"/>\r\n    <use x=\"661.376953\" xlink:href=\"#ArialMT-67\"/>\r\n    <use x=\"716.992188\" xlink:href=\"#ArialMT-72\"/>\r\n    <use x=\"750.292969\" xlink:href=\"#ArialMT-6f\"/>\r\n    <use x=\"805.908203\" xlink:href=\"#ArialMT-75\"/>\r\n    <use x=\"861.523438\" xlink:href=\"#ArialMT-70\"/>\r\n    <use x=\"917.138672\" xlink:href=\"#ArialMT-20\"/>\r\n    <use x=\"944.921875\" xlink:href=\"#ArialMT-61\"/>\r\n    <use x=\"1000.537109\" xlink:href=\"#ArialMT-6e\"/>\r\n    <use x=\"1056.152344\" xlink:href=\"#ArialMT-64\"/>\r\n    <use x=\"1111.767578\" xlink:href=\"#ArialMT-20\"/>\r\n    <use x=\"1139.550781\" xlink:href=\"#ArialMT-74\"/>\r\n    <use x=\"1167.333984\" xlink:href=\"#ArialMT-68\"/>\r\n    <use x=\"1222.949219\" xlink:href=\"#ArialMT-65\"/>\r\n    <use x=\"1278.564453\" xlink:href=\"#ArialMT-69\"/>\r\n    <use x=\"1300.78125\" xlink:href=\"#ArialMT-72\"/>\r\n    <use x=\"1334.082031\" xlink:href=\"#ArialMT-20\"/>\r\n    <use x=\"1361.865234\" xlink:href=\"#ArialMT-48\"/>\r\n    <use x=\"1434.082031\" xlink:href=\"#ArialMT-54\"/>\r\n    <use x=\"1495.166016\" xlink:href=\"#ArialMT-53\"/>\r\n    <use x=\"1561.865234\" xlink:href=\"#ArialMT-20\"/>\r\n    <use x=\"1589.648438\" xlink:href=\"#ArialMT-73\"/>\r\n    <use x=\"1639.648438\" xlink:href=\"#ArialMT-65\"/>\r\n    <use x=\"1695.263672\" xlink:href=\"#ArialMT-72\"/>\r\n    <use x=\"1728.564453\" xlink:href=\"#ArialMT-76\"/>\r\n    <use x=\"1778.564453\" xlink:href=\"#ArialMT-69\"/>\r\n    <use x=\"1800.78125\" xlink:href=\"#ArialMT-63\"/>\r\n    <use x=\"1850.78125\" xlink:href=\"#ArialMT-65\"/>\r\n    <use x=\"1906.396484\" xlink:href=\"#ArialMT-73\"/>\r\n    <use x=\"1956.396484\" xlink:href=\"#ArialMT-20\"/>\r\n    <use x=\"1984.179688\" xlink:href=\"#ArialMT-73\"/>\r\n    <use x=\"2034.179688\" xlink:href=\"#ArialMT-74\"/>\r\n    <use x=\"2061.962891\" xlink:href=\"#ArialMT-61\"/>\r\n    <use x=\"2117.578125\" xlink:href=\"#ArialMT-74\"/>\r\n    <use x=\"2145.361328\" xlink:href=\"#ArialMT-75\"/>\r\n    <use x=\"2200.976562\" xlink:href=\"#ArialMT-73\"/>\r\n   </g>\r\n  </g>\r\n </g>\r\n <defs>\r\n  <clipPath id=\"pd52a219c5a\">\r\n   <rect height=\"434.88\" width=\"892.8\" x=\"87.2\" y=\"64.8\"/>\r\n  </clipPath>\r\n </defs>\r\n</svg>\r\n",
      "image/png": "[encoded data removed]"
     },
     "metadata": {}
    }
   ],
   "metadata": {}
  },
  {
   "cell_type": "markdown",
   "source": [
    "## Submission list"
   ],
   "metadata": {}
  },
  {
   "cell_type": "code",
   "execution_count": 21,
   "source": [
    "hts_10_17_data = df[(df.newage_range != \"not_valid_age\")\r\n",
    "   &(df.newage_range!=\"25-29\")\r\n",
    "   &(df.newage_range == \"10-17\")\r\n",
    "   &(df.timeOn_system==\"required_Time_on\")\r\n",
    "   &(df.hts==\"tested_on_given_date\")   \r\n",
    "]\r\n",
    "\r\n",
    "hts_18_24_data = df[(df.newage_range != \"not_valid_age\")\r\n",
    "   &(df.newage_range!=\"25-29\")\r\n",
    "   &(df.newage_range!=\"10-17\")\r\n",
    "   &(df.timeOn_system==\"required_Time_on\")\r\n",
    "   &(df.hts==\"tested_on_given_date\")   \r\n",
    "]\r\n",
    "\r\n"
   ],
   "outputs": [],
   "metadata": {}
  },
  {
   "cell_type": "code",
   "execution_count": 22,
   "source": [
    "hts_18_24_data.hts_date.min().strftime(\"%Y-%m-%d\")\r\n",
    "hts_18_24_data.hts_date.max().strftime(\"%Y-%m-%d\")"
   ],
   "outputs": [
    {
     "output_type": "execute_result",
     "data": {
      "text/plain": [
       "'2020-06-08'"
      ]
     },
     "metadata": {},
     "execution_count": 22
    },
    {
     "output_type": "execute_result",
     "data": {
      "text/plain": [
       "'2021-08-13'"
      ]
     },
     "metadata": {},
     "execution_count": 22
    }
   ],
   "metadata": {}
  },
  {
   "cell_type": "code",
   "execution_count": 23,
   "source": [
    "hts_10_17_data.hts_date.min().strftime(\"%Y-%m-%d\")\r\n",
    "hts_10_17_data.hts_date.max().strftime(\"%Y-%m-%d\")"
   ],
   "outputs": [
    {
     "output_type": "execute_result",
     "data": {
      "text/plain": [
       "'2020-06-01'"
      ]
     },
     "metadata": {},
     "execution_count": 23
    },
    {
     "output_type": "execute_result",
     "data": {
      "text/plain": [
       "'2021-08-13'"
      ]
     },
     "metadata": {},
     "execution_count": 23
    }
   ],
   "metadata": {}
  },
  {
   "cell_type": "code",
   "execution_count": 24,
   "source": [
    "hts_10_17_data.to_excel(\"depistage_vih_1017.xlsx\",index=False,na_rep=\"NULL\")\r\n",
    "hts_18_24_data.to_excel(\"depistage_vih_1824.xlsx\",index=False,na_rep=\"NULL\")\r\n",
    "data_curriculum_incomplet.to_excel(\"curriculum_incomplet.xlsx\",index=False,na_rep=\"NULL\")"
   ],
   "outputs": [],
   "metadata": {}
  },
  {
   "cell_type": "code",
   "execution_count": null,
   "source": [],
   "outputs": [],
   "metadata": {}
  }
 ],
 "metadata": {
  "interpreter": {
   "hash": "4534460e0bdca1b390927d45471088fb3501d39abc4e3f2cee293892e17d7fc6"
  },
  "kernelspec": {
   "name": "python3",
   "display_name": "Python 3.9.6 64-bit"
  },
  "language_info": {
   "codemirror_mode": {
    "name": "ipython",
    "version": 3
   },
   "file_extension": ".py",
   "mimetype": "text/x-python",
   "name": "python",
   "nbconvert_exporter": "python",
   "pygments_lexer": "ipython3",
   "version": "3.9.6"
  },
  "orig_nbformat": 4
 },
 "nbformat": 4,
 "nbformat_minor": 2
}