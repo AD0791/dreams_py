{
 "metadata": {
  "language_info": {
   "codemirror_mode": {
    "name": "ipython",
    "version": 3
   },
   "file_extension": ".py",
   "mimetype": "text/x-python",
   "name": "python",
   "nbconvert_exporter": "python",
   "pygments_lexer": "ipython3",
   "version": "3.9.2"
  },
  "orig_nbformat": 2,
  "kernelspec": {
   "name": "python392jvsc74a57bd04534460e0bdca1b390927d45471088fb3501d39abc4e3f2cee293892e17d7fc6",
   "display_name": "Python 3.9.2 64-bit"
  }
 },
 "nbformat": 4,
 "nbformat_minor": 2,
 "cells": [
  {
   "cell_type": "code",
   "execution_count": 1,
   "metadata": {},
   "outputs": [],
   "source": [
    "import pandas as pd \n",
    "import numpy as np"
   ]
  },
  {
   "cell_type": "code",
   "execution_count": 5,
   "metadata": {},
   "outputs": [],
   "source": [
    "dreams_servis = pd.read_excel(\"LayeringOF_services.xlsx\")\n",
    "quick = pd.read_excel(\"quick.xlsx\",sheet_name=\"Sheet1\")"
   ]
  },
  {
   "cell_type": "code",
   "execution_count": 7,
   "metadata": {},
   "outputs": [],
   "source": [
    "dreams_servis.fillna(\"null\",inplace=True)"
   ]
  },
  {
   "cell_type": "code",
   "execution_count": 12,
   "metadata": {},
   "outputs": [],
   "source": [
    "quick.rename(columns = {\"Code Dreams\": \"code\"},inplace=True)"
   ]
  },
  {
   "cell_type": "code",
   "execution_count": 20,
   "metadata": {},
   "outputs": [],
   "source": [
    "dreams_servis.drop([\"main_id\",\t\"muso_eligibility\",\t\"actual_id_group\",\t\"group_she_take_sessions\"],axis='columns',inplace=True)"
   ]
  },
  {
   "cell_type": "code",
   "execution_count": 22,
   "metadata": {},
   "outputs": [],
   "source": [
    "information_Sophonie = dreams_servis.merge(quick,on='code',how='right')"
   ]
  },
  {
   "cell_type": "code",
   "execution_count": 23,
   "metadata": {},
   "outputs": [
    {
     "output_type": "execute_result",
     "data": {
      "text/plain": [
       "                 code last_name first_name                  dob  age  \\\n",
       "0  GON/DRMS/055192817   Gabriel   Sophonie  2005-01-20 00:00:00   16   \n",
       "1  PAP/DRMS/028151602   Gabriel   Sophonie  2001-09-27 00:00:00   19   \n",
       "\n",
       "   number_of_different_topic   first_session_date    last_session_date  \\\n",
       "0                         17  2020-08-03 00:00:00  2020-08-07 00:00:00   \n",
       "1                         18  2020-06-01 00:00:00  2020-06-01 00:00:00   \n",
       "\n",
       "  last_hiv_test_date test_results  ... condoms     vbg  gyneco  \\\n",
       "0         0000-00-00           0,  ...  errata  errata  errata   \n",
       "1         0000-00-00           0,  ...  errata  errata  errata   \n",
       "\n",
       "  post_care_treatment socio_eco_app       recevoir_1services  \\\n",
       "0                  no            no  1_services_dreams_recus   \n",
       "1                  no            no  1_services_dreams_recus   \n",
       "\n",
       "            ps_10_14  ps_15_19 ps_20_24  score_eligible_AGYW  \n",
       "0  curriculum-servis        no       no             eligible  \n",
       "1  curriculum-servis        no       no             eligible  \n",
       "\n",
       "[2 rows x 271 columns]"
      ],
      "text/html": "<div>\n<style scoped>\n    .dataframe tbody tr th:only-of-type {\n        vertical-align: middle;\n    }\n\n    .dataframe tbody tr th {\n        vertical-align: top;\n    }\n\n    .dataframe thead th {\n        text-align: right;\n    }\n</style>\n<table border=\"1\" class=\"dataframe\">\n  <thead>\n    <tr style=\"text-align: right;\">\n      <th></th>\n      <th>code</th>\n      <th>last_name</th>\n      <th>first_name</th>\n      <th>dob</th>\n      <th>age</th>\n      <th>number_of_different_topic</th>\n      <th>first_session_date</th>\n      <th>last_session_date</th>\n      <th>last_hiv_test_date</th>\n      <th>test_results</th>\n      <th>...</th>\n      <th>condoms</th>\n      <th>vbg</th>\n      <th>gyneco</th>\n      <th>post_care_treatment</th>\n      <th>socio_eco_app</th>\n      <th>recevoir_1services</th>\n      <th>ps_10_14</th>\n      <th>ps_15_19</th>\n      <th>ps_20_24</th>\n      <th>score_eligible_AGYW</th>\n    </tr>\n  </thead>\n  <tbody>\n    <tr>\n      <th>0</th>\n      <td>GON/DRMS/055192817</td>\n      <td>Gabriel</td>\n      <td>Sophonie</td>\n      <td>2005-01-20 00:00:00</td>\n      <td>16</td>\n      <td>17</td>\n      <td>2020-08-03 00:00:00</td>\n      <td>2020-08-07 00:00:00</td>\n      <td>0000-00-00</td>\n      <td>0,</td>\n      <td>...</td>\n      <td>errata</td>\n      <td>errata</td>\n      <td>errata</td>\n      <td>no</td>\n      <td>no</td>\n      <td>1_services_dreams_recus</td>\n      <td>curriculum-servis</td>\n      <td>no</td>\n      <td>no</td>\n      <td>eligible</td>\n    </tr>\n    <tr>\n      <th>1</th>\n      <td>PAP/DRMS/028151602</td>\n      <td>Gabriel</td>\n      <td>Sophonie</td>\n      <td>2001-09-27 00:00:00</td>\n      <td>19</td>\n      <td>18</td>\n      <td>2020-06-01 00:00:00</td>\n      <td>2020-06-01 00:00:00</td>\n      <td>0000-00-00</td>\n      <td>0,</td>\n      <td>...</td>\n      <td>errata</td>\n      <td>errata</td>\n      <td>errata</td>\n      <td>no</td>\n      <td>no</td>\n      <td>1_services_dreams_recus</td>\n      <td>curriculum-servis</td>\n      <td>no</td>\n      <td>no</td>\n      <td>eligible</td>\n    </tr>\n  </tbody>\n</table>\n<p>2 rows × 271 columns</p>\n</div>"
     },
     "metadata": {},
     "execution_count": 23
    }
   ],
   "source": [
    "information_Sophonie"
   ]
  },
  {
   "cell_type": "code",
   "execution_count": 25,
   "metadata": {},
   "outputs": [],
   "source": [
    "information_Sophonie.to_excel('info_sophonie.xlsx',index=False,na_rep=\"null\")"
   ]
  },
  {
   "cell_type": "code",
   "execution_count": null,
   "metadata": {},
   "outputs": [],
   "source": []
  }
 ]
}