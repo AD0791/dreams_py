{
 "cells": [
  {
   "cell_type": "code",
   "execution_count": 1,
   "source": [
    "# load the modules\r\n",
    "from dreams_services import DREAMS_MASTERSHEET as dreams_dt\r\n",
    "#multiples outputs\r\n",
    "from IPython.core.interactiveshell import InteractiveShell\r\n",
    "InteractiveShell.ast_node_interactivity = \"all\""
   ],
   "outputs": [],
   "metadata": {}
  },
  {
   "cell_type": "code",
   "execution_count": 10,
   "source": [
    "base_ovc = dreams_dt[\r\n",
    "    (dreams_dt.ovcage_range!=\"not_valid_age\")&\r\n",
    "    (dreams_dt.ovcage_range!=\"not_ovc_age\")&\r\n",
    "    (dreams_dt.timeOn_system==\"required_Time_on\")&\r\n",
    "    (dreams_dt.fiscal_year!=\"FY21Q4\")&\r\n",
    "    (dreams_dt.dreams_curriculum==\"curriculum_completed\")\r\n",
    "]\r\n",
    "base_ovc.code.count()"
   ],
   "outputs": [
    {
     "output_type": "execute_result",
     "data": {
      "text/plain": [
       "9767"
      ]
     },
     "metadata": {},
     "execution_count": 10
    }
   ],
   "metadata": {}
  },
  {
   "cell_type": "code",
   "execution_count": 3,
   "source": [
    "ovc_Q3 = base_ovc[\r\n",
    "    (base_ovc.fiscal_year==\"FY21Q3\")\r\n",
    "]\r\n",
    "\r\n",
    "ovc_Q4 =  base_ovc[\r\n",
    "    (base_ovc.fiscal_year==\"FY21Q4\")\r\n",
    "]\r\n",
    "\r\n",
    "ovc_Q3.code.count()\r\n",
    "ovc_Q4.code.count()"
   ],
   "outputs": [
    {
     "output_type": "execute_result",
     "data": {
      "text/plain": [
       "718"
      ]
     },
     "metadata": {},
     "execution_count": 3
    },
    {
     "output_type": "execute_result",
     "data": {
      "text/plain": [
       "204"
      ]
     },
     "metadata": {},
     "execution_count": 3
    }
   ],
   "metadata": {}
  },
  {
   "cell_type": "markdown",
   "source": [
    "# OVC_SERV FY21Q3 - OVC_SERV FY21Q3&FY21Q4\r\n",
    "\r\n",
    "* enrolled Q3 & served Q3 => OVC_SERV FY21Q3\r\n",
    "* enrolled Q4 & served Q4 => OVC_SERV FY21Q3&FY21Q4\r\n",
    "* enrolled Q3 & served Q3&Q4 => OVC_SERV FY21Q3&FY21Q4"
   ],
   "metadata": {}
  },
  {
   "cell_type": "code",
   "execution_count": 4,
   "source": [
    "enroled_Q3_served_Q3 = ovc_Q3[\r\n",
    "        (ovc_Q3.curriculum_date_end_fy==\"FY21Q3\")\r\n",
    "]\r\n",
    "\r\n"
   ],
   "outputs": [],
   "metadata": {}
  },
  {
   "cell_type": "code",
   "execution_count": 5,
   "source": [
    "enroled_Q3_served_Q3.curriculum_date_debut_fy.unique()\r\n",
    "enroled_Q3_served_Q3.curriculum_date_end_fy.unique()\r\n"
   ],
   "outputs": [
    {
     "output_type": "execute_result",
     "data": {
      "text/plain": [
       "array(['FY21Q3', 'FY20Q4', 'errata'], dtype=object)"
      ]
     },
     "metadata": {},
     "execution_count": 5
    },
    {
     "output_type": "execute_result",
     "data": {
      "text/plain": [
       "array(['FY21Q3'], dtype=object)"
      ]
     },
     "metadata": {},
     "execution_count": 5
    }
   ],
   "metadata": {}
  },
  {
   "cell_type": "code",
   "execution_count": 6,
   "source": [
    "enroled_Q4_served_Q4 = ovc_Q4[\r\n",
    "    ((ovc_Q4.curriculum_date_debut_fy==\"FY21Q4\")&\r\n",
    "    (ovc_Q4.curriculum_date_end_fy==\"FY21Q4\"))\r\n",
    "]\r\n",
    "\r\n"
   ],
   "outputs": [],
   "metadata": {}
  },
  {
   "cell_type": "code",
   "execution_count": 7,
   "source": [
    "enroled_Q4_served_Q4.curriculum_date_debut_fy.unique()\r\n",
    "enroled_Q4_served_Q4.curriculum_date_end_fy.unique()\r\n"
   ],
   "outputs": [
    {
     "output_type": "execute_result",
     "data": {
      "text/plain": [
       "array(['FY21Q4'], dtype=object)"
      ]
     },
     "metadata": {},
     "execution_count": 7
    },
    {
     "output_type": "execute_result",
     "data": {
      "text/plain": [
       "array(['FY21Q4'], dtype=object)"
      ]
     },
     "metadata": {},
     "execution_count": 7
    }
   ],
   "metadata": {}
  },
  {
   "cell_type": "code",
   "execution_count": 8,
   "source": [
    "enroled_Q3_served_Q3Q4 = ovc_Q3[\r\n",
    "        ((ovc_Q3.curriculum_date_debut_fy==\"FY21Q3\")&\r\n",
    "    (ovc_Q3.curriculum_date_end_fy==\"FY21Q4\"))\r\n",
    "]"
   ],
   "outputs": [],
   "metadata": {}
  },
  {
   "cell_type": "code",
   "execution_count": 9,
   "source": [
    "enroled_Q3_served_Q3Q4.curriculum_date_debut_fy.unique()\r\n",
    "enroled_Q3_served_Q3Q4.curriculum_date_end_fy.unique()\r\n"
   ],
   "outputs": [
    {
     "output_type": "execute_result",
     "data": {
      "text/plain": [
       "array(['FY21Q3'], dtype=object)"
      ]
     },
     "metadata": {},
     "execution_count": 9
    },
    {
     "output_type": "execute_result",
     "data": {
      "text/plain": [
       "array(['FY21Q4'], dtype=object)"
      ]
     },
     "metadata": {},
     "execution_count": 9
    }
   ],
   "metadata": {}
  },
  {
   "cell_type": "code",
   "execution_count": null,
   "source": [],
   "outputs": [],
   "metadata": {}
  }
 ],
 "metadata": {
  "orig_nbformat": 4,
  "language_info": {
   "name": "python",
   "version": "3.9.6",
   "mimetype": "text/x-python",
   "codemirror_mode": {
    "name": "ipython",
    "version": 3
   },
   "pygments_lexer": "ipython3",
   "nbconvert_exporter": "python",
   "file_extension": ".py"
  },
  "kernelspec": {
   "name": "python3",
   "display_name": "Python 3.9.6 64-bit"
  },
  "interpreter": {
   "hash": "4534460e0bdca1b390927d45471088fb3501d39abc4e3f2cee293892e17d7fc6"
  }
 },
 "nbformat": 4,
 "nbformat_minor": 2
}