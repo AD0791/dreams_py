{
 "cells": [
  {
   "cell_type": "code",
   "execution_count": 4,
   "source": [
    "# load the modules\r\n",
    "from dreams_services import DREAMS_MASTERSHEET as dreams_dt\r\n",
    "#multiples outputs\r\n",
    "from IPython.core.interactiveshell import InteractiveShell\r\n",
    "InteractiveShell.ast_node_interactivity = \"all\""
   ],
   "outputs": [],
   "metadata": {}
  },
  {
   "cell_type": "code",
   "execution_count": 8,
   "source": [
    "base_ovc = dreams_dt[\r\n",
    "    (dreams_dt.ovcage_range!=\"not_valid_age\")&\r\n",
    "    (dreams_dt.ovcage_range!=\"not_ovc_age\")&\r\n",
    "    (dreams_dt.timeOn_system==\"required_Time_on\")&\r\n",
    "    (dreams_dt.recevoir_1services==\"1_services_dreams_recus\")\r\n",
    "]\r\n",
    "base_ovc.code.count()"
   ],
   "outputs": [
    {
     "output_type": "execute_result",
     "data": {
      "text/plain": [
       "11270"
      ]
     },
     "metadata": {},
     "execution_count": 8
    }
   ],
   "metadata": {}
  },
  {
   "cell_type": "code",
   "execution_count": 12,
   "source": [
    "ovc_Q3 = base_ovc[\r\n",
    "    (base_ovc.fiscal_year==\"FY21Q3\")\r\n",
    "]\r\n",
    "\r\n",
    "ovc_Q4 =  base_ovc[\r\n",
    "    (base_ovc.fiscal_year==\"FY21Q4\")\r\n",
    "]\r\n",
    "\r\n",
    "ovc_Q3.code.count()\r\n",
    "ovc_Q4.code.count()"
   ],
   "outputs": [
    {
     "output_type": "execute_result",
     "data": {
      "text/plain": [
       "678"
      ]
     },
     "metadata": {},
     "execution_count": 12
    },
    {
     "output_type": "execute_result",
     "data": {
      "text/plain": [
       "195"
      ]
     },
     "metadata": {},
     "execution_count": 12
    }
   ],
   "metadata": {}
  },
  {
   "cell_type": "markdown",
   "source": [
    "# OVC_SERV FY21Q3 - OVC_SERV FY21Q3&FY21Q4\r\n",
    "\r\n",
    "* enrolled Q3 & served Q3 => OVC_SERV FY21Q3\r\n",
    "* enrolled Q4 & served Q4 => OVC_SERV FY21Q3&FY21Q4\r\n",
    "* enrolled Q3 & served Q3&Q4 => OVC_SERV FY21Q3&FY21Q4"
   ],
   "metadata": {}
  },
  {
   "cell_type": "code",
   "execution_count": null,
   "source": [],
   "outputs": [],
   "metadata": {}
  }
 ],
 "metadata": {
  "orig_nbformat": 4,
  "language_info": {
   "name": "python",
   "version": "3.9.6",
   "mimetype": "text/x-python",
   "codemirror_mode": {
    "name": "ipython",
    "version": 3
   },
   "pygments_lexer": "ipython3",
   "nbconvert_exporter": "python",
   "file_extension": ".py"
  },
  "kernelspec": {
   "name": "python3",
   "display_name": "Python 3.9.6 64-bit"
  },
  "interpreter": {
   "hash": "4534460e0bdca1b390927d45471088fb3501d39abc4e3f2cee293892e17d7fc6"
  }
 },
 "nbformat": 4,
 "nbformat_minor": 2
}