{
 "cells": [
  {
   "cell_type": "code",
   "execution_count": 1,
   "source": [
    "#%run \"../app/dreams\"\r\n",
    "from sys import path\r\n",
    "path.insert(0,'../app')\r\n",
    "from dreams import dreams_mastersheet\r\n",
    "\r\n",
    "\r\n",
    "import matplotlib.pyplot as plt\r\n",
    "%matplotlib inline\r\n",
    "import seaborn as sns\r\n",
    "from datetime import datetime\r\n",
    "\r\n",
    "from IPython.core.interactiveshell import InteractiveShell\r\n",
    "InteractiveShell.ast_node_interactivity = \"all\""
   ],
   "outputs": [],
   "metadata": {}
  },
  {
   "cell_type": "code",
   "execution_count": 2,
   "source": [
    "df = dreams_mastersheet"
   ],
   "outputs": [],
   "metadata": {}
  },
  {
   "cell_type": "code",
   "execution_count": null,
   "source": [
    "date_du_jour = datetime.today().strftime(\"%d_%m_%Y\")"
   ],
   "outputs": [],
   "metadata": {}
  },
  {
   "cell_type": "markdown",
   "source": [
    "# La cohort des beneficaires"
   ],
   "metadata": {}
  },
  {
   "cell_type": "code",
   "execution_count": null,
   "source": [
    "base = df[\r\n",
    "    (df.age_range!=\"not_valid_age\")\r\n",
    "    &(df.age_range!=\"25-29\")\r\n",
    "    &(df.timeOn_system==\"required_Time_on\")\r\n",
    "]\r\n",
    "base.code.count()\r\n",
    "base_table = base.pivot_table(index=\"age_range\",columns=\"fiscal_year\",\r\n",
    "                        values='code',\r\n",
    "                        aggfunc='count',\r\n",
    "                        fill_value=0,\r\n",
    "                        margins=True,\r\n",
    "                        margins_name=\"Grand Total\"                             \r\n",
    ")\r\n",
    "base_table"
   ],
   "outputs": [
    {
     "output_type": "execute_result",
     "data": {
      "text/plain": [
       "19709"
      ]
     },
     "metadata": {},
     "execution_count": 6
    },
    {
     "output_type": "execute_result",
     "data": {
      "text/html": [
       "<div>\n",
       "<style scoped>\n",
       "    .dataframe tbody tr th:only-of-type {\n",
       "        vertical-align: middle;\n",
       "    }\n",
       "\n",
       "    .dataframe tbody tr th {\n",
       "        vertical-align: top;\n",
       "    }\n",
       "\n",
       "    .dataframe thead th {\n",
       "        text-align: right;\n",
       "    }\n",
       "</style>\n",
       "<table border=\"1\" class=\"dataframe\">\n",
       "  <thead>\n",
       "    <tr style=\"text-align: right;\">\n",
       "      <th>fiscal_year</th>\n",
       "      <th>FY21Q1</th>\n",
       "      <th>FY21Q2</th>\n",
       "      <th>FY21Q3</th>\n",
       "      <th>FY21Q4</th>\n",
       "      <th>Q3fy20-Q4fy20</th>\n",
       "      <th>Grand Total</th>\n",
       "    </tr>\n",
       "    <tr>\n",
       "      <th>age_range</th>\n",
       "      <th></th>\n",
       "      <th></th>\n",
       "      <th></th>\n",
       "      <th></th>\n",
       "      <th></th>\n",
       "      <th></th>\n",
       "    </tr>\n",
       "  </thead>\n",
       "  <tbody>\n",
       "    <tr>\n",
       "      <th>10-14</th>\n",
       "      <td>929</td>\n",
       "      <td>814</td>\n",
       "      <td>739</td>\n",
       "      <td>379</td>\n",
       "      <td>5081</td>\n",
       "      <td>7942</td>\n",
       "    </tr>\n",
       "    <tr>\n",
       "      <th>15-19</th>\n",
       "      <td>1013</td>\n",
       "      <td>712</td>\n",
       "      <td>457</td>\n",
       "      <td>270</td>\n",
       "      <td>5317</td>\n",
       "      <td>7769</td>\n",
       "    </tr>\n",
       "    <tr>\n",
       "      <th>20-24</th>\n",
       "      <td>522</td>\n",
       "      <td>344</td>\n",
       "      <td>203</td>\n",
       "      <td>115</td>\n",
       "      <td>2814</td>\n",
       "      <td>3998</td>\n",
       "    </tr>\n",
       "    <tr>\n",
       "      <th>Grand Total</th>\n",
       "      <td>2464</td>\n",
       "      <td>1870</td>\n",
       "      <td>1399</td>\n",
       "      <td>764</td>\n",
       "      <td>13212</td>\n",
       "      <td>19709</td>\n",
       "    </tr>\n",
       "  </tbody>\n",
       "</table>\n",
       "</div>"
      ],
      "text/plain": [
       "fiscal_year  FY21Q1  FY21Q2  FY21Q3  FY21Q4  Q3fy20-Q4fy20  Grand Total\n",
       "age_range                                                              \n",
       "10-14           929     814     739     379           5081         7942\n",
       "15-19          1013     712     457     270           5317         7769\n",
       "20-24           522     344     203     115           2814         3998\n",
       "Grand Total    2464    1870    1399     764          13212        19709"
      ]
     },
     "metadata": {},
     "execution_count": 6
    }
   ],
   "metadata": {}
  },
  {
   "cell_type": "code",
   "execution_count": null,
   "source": [
    "base18plus = df[\r\n",
    "    (df.newage_range!=\"not_valid_age\")\r\n",
    "    &(df.newage_range!=\"25-29\")\r\n",
    "    &(df.newage_range!=\"10-17\")\r\n",
    "    &(df.timeOn_system==\"required_Time_on\")\r\n",
    "]\r\n",
    "base18plus.code.count()\r\n",
    "base18plus_table = base18plus.pivot_table(index=\"newage_range\",columns=\"fiscal_year\",\r\n",
    "                        values='code',\r\n",
    "                        aggfunc='count',\r\n",
    "                        fill_value=0,\r\n",
    "                        margins=True,\r\n",
    "                        margins_name=\"Grand Total\"                             \r\n",
    ")\r\n",
    "base18plus_table"
   ],
   "outputs": [
    {
     "output_type": "execute_result",
     "data": {
      "text/plain": [
       "6582"
      ]
     },
     "metadata": {},
     "execution_count": 7
    },
    {
     "output_type": "execute_result",
     "data": {
      "text/html": [
       "<div>\n",
       "<style scoped>\n",
       "    .dataframe tbody tr th:only-of-type {\n",
       "        vertical-align: middle;\n",
       "    }\n",
       "\n",
       "    .dataframe tbody tr th {\n",
       "        vertical-align: top;\n",
       "    }\n",
       "\n",
       "    .dataframe thead th {\n",
       "        text-align: right;\n",
       "    }\n",
       "</style>\n",
       "<table border=\"1\" class=\"dataframe\">\n",
       "  <thead>\n",
       "    <tr style=\"text-align: right;\">\n",
       "      <th>fiscal_year</th>\n",
       "      <th>FY21Q1</th>\n",
       "      <th>FY21Q2</th>\n",
       "      <th>FY21Q3</th>\n",
       "      <th>FY21Q4</th>\n",
       "      <th>Q3fy20-Q4fy20</th>\n",
       "      <th>Grand Total</th>\n",
       "    </tr>\n",
       "    <tr>\n",
       "      <th>newage_range</th>\n",
       "      <th></th>\n",
       "      <th></th>\n",
       "      <th></th>\n",
       "      <th></th>\n",
       "      <th></th>\n",
       "      <th></th>\n",
       "    </tr>\n",
       "  </thead>\n",
       "  <tbody>\n",
       "    <tr>\n",
       "      <th>18-19</th>\n",
       "      <td>346</td>\n",
       "      <td>240</td>\n",
       "      <td>143</td>\n",
       "      <td>76</td>\n",
       "      <td>1779</td>\n",
       "      <td>2584</td>\n",
       "    </tr>\n",
       "    <tr>\n",
       "      <th>20-24</th>\n",
       "      <td>522</td>\n",
       "      <td>344</td>\n",
       "      <td>203</td>\n",
       "      <td>115</td>\n",
       "      <td>2814</td>\n",
       "      <td>3998</td>\n",
       "    </tr>\n",
       "    <tr>\n",
       "      <th>Grand Total</th>\n",
       "      <td>868</td>\n",
       "      <td>584</td>\n",
       "      <td>346</td>\n",
       "      <td>191</td>\n",
       "      <td>4593</td>\n",
       "      <td>6582</td>\n",
       "    </tr>\n",
       "  </tbody>\n",
       "</table>\n",
       "</div>"
      ],
      "text/plain": [
       "fiscal_year   FY21Q1  FY21Q2  FY21Q3  FY21Q4  Q3fy20-Q4fy20  Grand Total\n",
       "newage_range                                                            \n",
       "18-19            346     240     143      76           1779         2584\n",
       "20-24            522     344     203     115           2814         3998\n",
       "Grand Total      868     584     346     191           4593         6582"
      ]
     },
     "metadata": {},
     "execution_count": 7
    }
   ],
   "metadata": {}
  },
  {
   "cell_type": "markdown",
   "source": [
    "# curriculum"
   ],
   "metadata": {}
  },
  {
   "cell_type": "code",
   "execution_count": null,
   "source": [
    "curriculum_complet = base[\r\n",
    "    (base.dreams_curriculum==\"curriculum_completed\")\r\n",
    "]\r\n",
    "curriculum_complet.code.count()\r\n",
    "\r\n",
    "curriculum_table = curriculum_complet.pivot_table(index=\"age_range\",columns=\"fiscal_year\",\r\n",
    "                        values='code',\r\n",
    "                        aggfunc='count',\r\n",
    "                        fill_value=0,\r\n",
    "                        margins=True,\r\n",
    "                        margins_name=\"Grand Total\"                             \r\n",
    ")\r\n",
    "curriculum_table"
   ],
   "outputs": [
    {
     "output_type": "execute_result",
     "data": {
      "text/plain": [
       "16544"
      ]
     },
     "metadata": {},
     "execution_count": 8
    },
    {
     "output_type": "execute_result",
     "data": {
      "text/html": [
       "<div>\n",
       "<style scoped>\n",
       "    .dataframe tbody tr th:only-of-type {\n",
       "        vertical-align: middle;\n",
       "    }\n",
       "\n",
       "    .dataframe tbody tr th {\n",
       "        vertical-align: top;\n",
       "    }\n",
       "\n",
       "    .dataframe thead th {\n",
       "        text-align: right;\n",
       "    }\n",
       "</style>\n",
       "<table border=\"1\" class=\"dataframe\">\n",
       "  <thead>\n",
       "    <tr style=\"text-align: right;\">\n",
       "      <th>fiscal_year</th>\n",
       "      <th>FY21Q1</th>\n",
       "      <th>FY21Q2</th>\n",
       "      <th>FY21Q3</th>\n",
       "      <th>FY21Q4</th>\n",
       "      <th>Q3fy20-Q4fy20</th>\n",
       "      <th>Grand Total</th>\n",
       "    </tr>\n",
       "    <tr>\n",
       "      <th>age_range</th>\n",
       "      <th></th>\n",
       "      <th></th>\n",
       "      <th></th>\n",
       "      <th></th>\n",
       "      <th></th>\n",
       "      <th></th>\n",
       "    </tr>\n",
       "  </thead>\n",
       "  <tbody>\n",
       "    <tr>\n",
       "      <th>10-14</th>\n",
       "      <td>743</td>\n",
       "      <td>624</td>\n",
       "      <td>626</td>\n",
       "      <td>278</td>\n",
       "      <td>4351</td>\n",
       "      <td>6622</td>\n",
       "    </tr>\n",
       "    <tr>\n",
       "      <th>15-19</th>\n",
       "      <td>818</td>\n",
       "      <td>536</td>\n",
       "      <td>388</td>\n",
       "      <td>234</td>\n",
       "      <td>4549</td>\n",
       "      <td>6525</td>\n",
       "    </tr>\n",
       "    <tr>\n",
       "      <th>20-24</th>\n",
       "      <td>413</td>\n",
       "      <td>275</td>\n",
       "      <td>154</td>\n",
       "      <td>94</td>\n",
       "      <td>2461</td>\n",
       "      <td>3397</td>\n",
       "    </tr>\n",
       "    <tr>\n",
       "      <th>Grand Total</th>\n",
       "      <td>1974</td>\n",
       "      <td>1435</td>\n",
       "      <td>1168</td>\n",
       "      <td>606</td>\n",
       "      <td>11361</td>\n",
       "      <td>16544</td>\n",
       "    </tr>\n",
       "  </tbody>\n",
       "</table>\n",
       "</div>"
      ],
      "text/plain": [
       "fiscal_year  FY21Q1  FY21Q2  FY21Q3  FY21Q4  Q3fy20-Q4fy20  Grand Total\n",
       "age_range                                                              \n",
       "10-14           743     624     626     278           4351         6622\n",
       "15-19           818     536     388     234           4549         6525\n",
       "20-24           413     275     154      94           2461         3397\n",
       "Grand Total    1974    1435    1168     606          11361        16544"
      ]
     },
     "metadata": {},
     "execution_count": 8
    }
   ],
   "metadata": {}
  },
  {
   "cell_type": "code",
   "execution_count": null,
   "source": [
    "curriculum_inc = base[\r\n",
    "    (base.dreams_curriculum==\"curriculum_inc\")\r\n",
    "]\r\n",
    "curriculum_inc.code.count()\r\n",
    "\r\n",
    "curriculum_inc_table = curriculum_inc.pivot_table(index=\"age_range\",columns=\"fiscal_year\",\r\n",
    "                        values='code',\r\n",
    "                        aggfunc='count',\r\n",
    "                        fill_value=0,\r\n",
    "                        margins=True,\r\n",
    "                        margins_name=\"Grand Total\"                             \r\n",
    ")\r\n",
    "curriculum_inc_table"
   ],
   "outputs": [
    {
     "output_type": "execute_result",
     "data": {
      "text/plain": [
       "3165"
      ]
     },
     "metadata": {},
     "execution_count": 9
    },
    {
     "output_type": "execute_result",
     "data": {
      "text/html": [
       "<div>\n",
       "<style scoped>\n",
       "    .dataframe tbody tr th:only-of-type {\n",
       "        vertical-align: middle;\n",
       "    }\n",
       "\n",
       "    .dataframe tbody tr th {\n",
       "        vertical-align: top;\n",
       "    }\n",
       "\n",
       "    .dataframe thead th {\n",
       "        text-align: right;\n",
       "    }\n",
       "</style>\n",
       "<table border=\"1\" class=\"dataframe\">\n",
       "  <thead>\n",
       "    <tr style=\"text-align: right;\">\n",
       "      <th>fiscal_year</th>\n",
       "      <th>FY21Q1</th>\n",
       "      <th>FY21Q2</th>\n",
       "      <th>FY21Q3</th>\n",
       "      <th>FY21Q4</th>\n",
       "      <th>Q3fy20-Q4fy20</th>\n",
       "      <th>Grand Total</th>\n",
       "    </tr>\n",
       "    <tr>\n",
       "      <th>age_range</th>\n",
       "      <th></th>\n",
       "      <th></th>\n",
       "      <th></th>\n",
       "      <th></th>\n",
       "      <th></th>\n",
       "      <th></th>\n",
       "    </tr>\n",
       "  </thead>\n",
       "  <tbody>\n",
       "    <tr>\n",
       "      <th>10-14</th>\n",
       "      <td>186</td>\n",
       "      <td>190</td>\n",
       "      <td>113</td>\n",
       "      <td>101</td>\n",
       "      <td>730</td>\n",
       "      <td>1320</td>\n",
       "    </tr>\n",
       "    <tr>\n",
       "      <th>15-19</th>\n",
       "      <td>195</td>\n",
       "      <td>176</td>\n",
       "      <td>69</td>\n",
       "      <td>36</td>\n",
       "      <td>768</td>\n",
       "      <td>1244</td>\n",
       "    </tr>\n",
       "    <tr>\n",
       "      <th>20-24</th>\n",
       "      <td>109</td>\n",
       "      <td>69</td>\n",
       "      <td>49</td>\n",
       "      <td>21</td>\n",
       "      <td>353</td>\n",
       "      <td>601</td>\n",
       "    </tr>\n",
       "    <tr>\n",
       "      <th>Grand Total</th>\n",
       "      <td>490</td>\n",
       "      <td>435</td>\n",
       "      <td>231</td>\n",
       "      <td>158</td>\n",
       "      <td>1851</td>\n",
       "      <td>3165</td>\n",
       "    </tr>\n",
       "  </tbody>\n",
       "</table>\n",
       "</div>"
      ],
      "text/plain": [
       "fiscal_year  FY21Q1  FY21Q2  FY21Q3  FY21Q4  Q3fy20-Q4fy20  Grand Total\n",
       "age_range                                                              \n",
       "10-14           186     190     113     101            730         1320\n",
       "15-19           195     176      69      36            768         1244\n",
       "20-24           109      69      49      21            353          601\n",
       "Grand Total     490     435     231     158           1851         3165"
      ]
     },
     "metadata": {},
     "execution_count": 9
    }
   ],
   "metadata": {}
  },
  {
   "cell_type": "markdown",
   "source": [
    "# Condoms"
   ],
   "metadata": {}
  },
  {
   "cell_type": "code",
   "execution_count": null,
   "source": [
    "condoms = base[\r\n",
    "    (base.condoms==\"tested_on_given_date\")\r\n",
    "]\r\n",
    "\r\n",
    "condoms.code.count()\r\n",
    "\r\n",
    "new_condoms = base[\r\n",
    "    (base.new_condoms==\"sensOuRecu\")\r\n",
    "]\r\n",
    "\r\n",
    "new_condoms.code.count()"
   ],
   "outputs": [
    {
     "output_type": "execute_result",
     "data": {
      "text/plain": [
       "3387"
      ]
     },
     "metadata": {},
     "execution_count": 10
    },
    {
     "output_type": "execute_result",
     "data": {
      "text/plain": [
       "3774"
      ]
     },
     "metadata": {},
     "execution_count": 10
    }
   ],
   "metadata": {}
  },
  {
   "cell_type": "code",
   "execution_count": null,
   "source": [
    "condoms.pivot_table(index=\"age_range\",columns=\"fiscal_year\",\r\n",
    "                        values='code',\r\n",
    "                        aggfunc='count',\r\n",
    "                        fill_value=0,\r\n",
    "                        margins=True,\r\n",
    "                        margins_name=\"Grand Total\"                             \r\n",
    ")"
   ],
   "outputs": [
    {
     "output_type": "execute_result",
     "data": {
      "text/html": [
       "<div>\n",
       "<style scoped>\n",
       "    .dataframe tbody tr th:only-of-type {\n",
       "        vertical-align: middle;\n",
       "    }\n",
       "\n",
       "    .dataframe tbody tr th {\n",
       "        vertical-align: top;\n",
       "    }\n",
       "\n",
       "    .dataframe thead th {\n",
       "        text-align: right;\n",
       "    }\n",
       "</style>\n",
       "<table border=\"1\" class=\"dataframe\">\n",
       "  <thead>\n",
       "    <tr style=\"text-align: right;\">\n",
       "      <th>fiscal_year</th>\n",
       "      <th>FY21Q1</th>\n",
       "      <th>FY21Q2</th>\n",
       "      <th>FY21Q3</th>\n",
       "      <th>FY21Q4</th>\n",
       "      <th>Q3fy20-Q4fy20</th>\n",
       "      <th>Grand Total</th>\n",
       "    </tr>\n",
       "    <tr>\n",
       "      <th>age_range</th>\n",
       "      <th></th>\n",
       "      <th></th>\n",
       "      <th></th>\n",
       "      <th></th>\n",
       "      <th></th>\n",
       "      <th></th>\n",
       "    </tr>\n",
       "  </thead>\n",
       "  <tbody>\n",
       "    <tr>\n",
       "      <th>10-14</th>\n",
       "      <td>83</td>\n",
       "      <td>100</td>\n",
       "      <td>45</td>\n",
       "      <td>25</td>\n",
       "      <td>221</td>\n",
       "      <td>474</td>\n",
       "    </tr>\n",
       "    <tr>\n",
       "      <th>15-19</th>\n",
       "      <td>308</td>\n",
       "      <td>173</td>\n",
       "      <td>136</td>\n",
       "      <td>94</td>\n",
       "      <td>987</td>\n",
       "      <td>1698</td>\n",
       "    </tr>\n",
       "    <tr>\n",
       "      <th>20-24</th>\n",
       "      <td>240</td>\n",
       "      <td>94</td>\n",
       "      <td>61</td>\n",
       "      <td>42</td>\n",
       "      <td>778</td>\n",
       "      <td>1215</td>\n",
       "    </tr>\n",
       "    <tr>\n",
       "      <th>Grand Total</th>\n",
       "      <td>631</td>\n",
       "      <td>367</td>\n",
       "      <td>242</td>\n",
       "      <td>161</td>\n",
       "      <td>1986</td>\n",
       "      <td>3387</td>\n",
       "    </tr>\n",
       "  </tbody>\n",
       "</table>\n",
       "</div>"
      ],
      "text/plain": [
       "fiscal_year  FY21Q1  FY21Q2  FY21Q3  FY21Q4  Q3fy20-Q4fy20  Grand Total\n",
       "age_range                                                              \n",
       "10-14            83     100      45      25            221          474\n",
       "15-19           308     173     136      94            987         1698\n",
       "20-24           240      94      61      42            778         1215\n",
       "Grand Total     631     367     242     161           1986         3387"
      ]
     },
     "metadata": {},
     "execution_count": 11
    }
   ],
   "metadata": {}
  },
  {
   "cell_type": "code",
   "execution_count": null,
   "source": [
    "condoms_table = new_condoms.pivot_table(index=\"age_range\",columns=\"fiscal_year\",\r\n",
    "                        values='code',\r\n",
    "                        aggfunc='count',\r\n",
    "                        fill_value=0,\r\n",
    "                        margins=True,\r\n",
    "                        margins_name=\"Grand Total\"                             \r\n",
    ")\r\n",
    "condoms_table"
   ],
   "outputs": [
    {
     "output_type": "execute_result",
     "data": {
      "text/html": [
       "<div>\n",
       "<style scoped>\n",
       "    .dataframe tbody tr th:only-of-type {\n",
       "        vertical-align: middle;\n",
       "    }\n",
       "\n",
       "    .dataframe tbody tr th {\n",
       "        vertical-align: top;\n",
       "    }\n",
       "\n",
       "    .dataframe thead th {\n",
       "        text-align: right;\n",
       "    }\n",
       "</style>\n",
       "<table border=\"1\" class=\"dataframe\">\n",
       "  <thead>\n",
       "    <tr style=\"text-align: right;\">\n",
       "      <th>fiscal_year</th>\n",
       "      <th>FY21Q1</th>\n",
       "      <th>FY21Q2</th>\n",
       "      <th>FY21Q3</th>\n",
       "      <th>FY21Q4</th>\n",
       "      <th>Q3fy20-Q4fy20</th>\n",
       "      <th>Grand Total</th>\n",
       "    </tr>\n",
       "    <tr>\n",
       "      <th>age_range</th>\n",
       "      <th></th>\n",
       "      <th></th>\n",
       "      <th></th>\n",
       "      <th></th>\n",
       "      <th></th>\n",
       "      <th></th>\n",
       "    </tr>\n",
       "  </thead>\n",
       "  <tbody>\n",
       "    <tr>\n",
       "      <th>10-14</th>\n",
       "      <td>86</td>\n",
       "      <td>105</td>\n",
       "      <td>95</td>\n",
       "      <td>61</td>\n",
       "      <td>260</td>\n",
       "      <td>607</td>\n",
       "    </tr>\n",
       "    <tr>\n",
       "      <th>15-19</th>\n",
       "      <td>337</td>\n",
       "      <td>218</td>\n",
       "      <td>168</td>\n",
       "      <td>106</td>\n",
       "      <td>1051</td>\n",
       "      <td>1880</td>\n",
       "    </tr>\n",
       "    <tr>\n",
       "      <th>20-24</th>\n",
       "      <td>258</td>\n",
       "      <td>123</td>\n",
       "      <td>68</td>\n",
       "      <td>43</td>\n",
       "      <td>795</td>\n",
       "      <td>1287</td>\n",
       "    </tr>\n",
       "    <tr>\n",
       "      <th>Grand Total</th>\n",
       "      <td>681</td>\n",
       "      <td>446</td>\n",
       "      <td>331</td>\n",
       "      <td>210</td>\n",
       "      <td>2106</td>\n",
       "      <td>3774</td>\n",
       "    </tr>\n",
       "  </tbody>\n",
       "</table>\n",
       "</div>"
      ],
      "text/plain": [
       "fiscal_year  FY21Q1  FY21Q2  FY21Q3  FY21Q4  Q3fy20-Q4fy20  Grand Total\n",
       "age_range                                                              \n",
       "10-14            86     105      95      61            260          607\n",
       "15-19           337     218     168     106           1051         1880\n",
       "20-24           258     123      68      43            795         1287\n",
       "Grand Total     681     446     331     210           2106         3774"
      ]
     },
     "metadata": {},
     "execution_count": 12
    }
   ],
   "metadata": {}
  },
  {
   "cell_type": "markdown",
   "source": [
    "# depistage VIH"
   ],
   "metadata": {}
  },
  {
   "cell_type": "code",
   "execution_count": null,
   "source": [
    "vih = base[\r\n",
    "    (base.hts==\"tested_on_given_date\")\r\n",
    "]\r\n",
    "vih.code.count()"
   ],
   "outputs": [
    {
     "output_type": "execute_result",
     "data": {
      "text/plain": [
       "2035"
      ]
     },
     "metadata": {},
     "execution_count": 13
    }
   ],
   "metadata": {}
  },
  {
   "cell_type": "code",
   "execution_count": null,
   "source": [
    "depistage_table = vih.pivot_table(index=\"age_range\",columns=\"fiscal_year\",\r\n",
    "                        values='code',\r\n",
    "                        aggfunc='count',\r\n",
    "                        fill_value=0,\r\n",
    "                        margins=True,\r\n",
    "                        margins_name=\"Grand Total\"                             \r\n",
    ")\r\n",
    "depistage_table"
   ],
   "outputs": [
    {
     "output_type": "execute_result",
     "data": {
      "text/html": [
       "<div>\n",
       "<style scoped>\n",
       "    .dataframe tbody tr th:only-of-type {\n",
       "        vertical-align: middle;\n",
       "    }\n",
       "\n",
       "    .dataframe tbody tr th {\n",
       "        vertical-align: top;\n",
       "    }\n",
       "\n",
       "    .dataframe thead th {\n",
       "        text-align: right;\n",
       "    }\n",
       "</style>\n",
       "<table border=\"1\" class=\"dataframe\">\n",
       "  <thead>\n",
       "    <tr style=\"text-align: right;\">\n",
       "      <th>fiscal_year</th>\n",
       "      <th>FY21Q1</th>\n",
       "      <th>FY21Q2</th>\n",
       "      <th>FY21Q3</th>\n",
       "      <th>FY21Q4</th>\n",
       "      <th>Q3fy20-Q4fy20</th>\n",
       "      <th>Grand Total</th>\n",
       "    </tr>\n",
       "    <tr>\n",
       "      <th>age_range</th>\n",
       "      <th></th>\n",
       "      <th></th>\n",
       "      <th></th>\n",
       "      <th></th>\n",
       "      <th></th>\n",
       "      <th></th>\n",
       "    </tr>\n",
       "  </thead>\n",
       "  <tbody>\n",
       "    <tr>\n",
       "      <th>10-14</th>\n",
       "      <td>34</td>\n",
       "      <td>10</td>\n",
       "      <td>20</td>\n",
       "      <td>1</td>\n",
       "      <td>384</td>\n",
       "      <td>449</td>\n",
       "    </tr>\n",
       "    <tr>\n",
       "      <th>15-19</th>\n",
       "      <td>93</td>\n",
       "      <td>26</td>\n",
       "      <td>27</td>\n",
       "      <td>7</td>\n",
       "      <td>662</td>\n",
       "      <td>815</td>\n",
       "    </tr>\n",
       "    <tr>\n",
       "      <th>20-24</th>\n",
       "      <td>155</td>\n",
       "      <td>27</td>\n",
       "      <td>32</td>\n",
       "      <td>10</td>\n",
       "      <td>547</td>\n",
       "      <td>771</td>\n",
       "    </tr>\n",
       "    <tr>\n",
       "      <th>Grand Total</th>\n",
       "      <td>282</td>\n",
       "      <td>63</td>\n",
       "      <td>79</td>\n",
       "      <td>18</td>\n",
       "      <td>1593</td>\n",
       "      <td>2035</td>\n",
       "    </tr>\n",
       "  </tbody>\n",
       "</table>\n",
       "</div>"
      ],
      "text/plain": [
       "fiscal_year  FY21Q1  FY21Q2  FY21Q3  FY21Q4  Q3fy20-Q4fy20  Grand Total\n",
       "age_range                                                              \n",
       "10-14            34      10      20       1            384          449\n",
       "15-19            93      26      27       7            662          815\n",
       "20-24           155      27      32      10            547          771\n",
       "Grand Total     282      63      79      18           1593         2035"
      ]
     },
     "metadata": {},
     "execution_count": 14
    }
   ],
   "metadata": {}
  },
  {
   "cell_type": "markdown",
   "source": [
    "# Post Care Treatment"
   ],
   "metadata": {}
  },
  {
   "cell_type": "code",
   "execution_count": null,
   "source": [
    "post_violence_care = base[\r\n",
    "    (base.post_care_treatment==\"service_gyneco_vbg\")\r\n",
    "]\r\n",
    "post_violence_care.code.count()"
   ],
   "outputs": [
    {
     "output_type": "execute_result",
     "data": {
      "text/plain": [
       "97"
      ]
     },
     "metadata": {},
     "execution_count": 15
    }
   ],
   "metadata": {}
  },
  {
   "cell_type": "code",
   "execution_count": null,
   "source": [
    "pvc_table = post_violence_care.pivot_table(index=\"age_range\",columns=\"fiscal_year\",\r\n",
    "                        values='code',\r\n",
    "                        aggfunc='count',\r\n",
    "                        fill_value=0,\r\n",
    "                        margins=True,\r\n",
    "                        margins_name=\"Grand Total\"                             \r\n",
    ")\r\n",
    "pvc_table"
   ],
   "outputs": [
    {
     "output_type": "execute_result",
     "data": {
      "text/html": [
       "<div>\n",
       "<style scoped>\n",
       "    .dataframe tbody tr th:only-of-type {\n",
       "        vertical-align: middle;\n",
       "    }\n",
       "\n",
       "    .dataframe tbody tr th {\n",
       "        vertical-align: top;\n",
       "    }\n",
       "\n",
       "    .dataframe thead th {\n",
       "        text-align: right;\n",
       "    }\n",
       "</style>\n",
       "<table border=\"1\" class=\"dataframe\">\n",
       "  <thead>\n",
       "    <tr style=\"text-align: right;\">\n",
       "      <th>fiscal_year</th>\n",
       "      <th>FY21Q1</th>\n",
       "      <th>FY21Q2</th>\n",
       "      <th>FY21Q4</th>\n",
       "      <th>Q3fy20-Q4fy20</th>\n",
       "      <th>Grand Total</th>\n",
       "    </tr>\n",
       "    <tr>\n",
       "      <th>age_range</th>\n",
       "      <th></th>\n",
       "      <th></th>\n",
       "      <th></th>\n",
       "      <th></th>\n",
       "      <th></th>\n",
       "    </tr>\n",
       "  </thead>\n",
       "  <tbody>\n",
       "    <tr>\n",
       "      <th>10-14</th>\n",
       "      <td>3</td>\n",
       "      <td>0</td>\n",
       "      <td>0</td>\n",
       "      <td>16</td>\n",
       "      <td>19</td>\n",
       "    </tr>\n",
       "    <tr>\n",
       "      <th>15-19</th>\n",
       "      <td>3</td>\n",
       "      <td>1</td>\n",
       "      <td>1</td>\n",
       "      <td>38</td>\n",
       "      <td>43</td>\n",
       "    </tr>\n",
       "    <tr>\n",
       "      <th>20-24</th>\n",
       "      <td>0</td>\n",
       "      <td>0</td>\n",
       "      <td>0</td>\n",
       "      <td>35</td>\n",
       "      <td>35</td>\n",
       "    </tr>\n",
       "    <tr>\n",
       "      <th>Grand Total</th>\n",
       "      <td>6</td>\n",
       "      <td>1</td>\n",
       "      <td>1</td>\n",
       "      <td>89</td>\n",
       "      <td>97</td>\n",
       "    </tr>\n",
       "  </tbody>\n",
       "</table>\n",
       "</div>"
      ],
      "text/plain": [
       "fiscal_year  FY21Q1  FY21Q2  FY21Q4  Q3fy20-Q4fy20  Grand Total\n",
       "age_range                                                      \n",
       "10-14             3       0       0             16           19\n",
       "15-19             3       1       1             38           43\n",
       "20-24             0       0       0             35           35\n",
       "Grand Total       6       1       1             89           97"
      ]
     },
     "metadata": {},
     "execution_count": 16
    }
   ],
   "metadata": {}
  },
  {
   "cell_type": "markdown",
   "source": [
    "# socio economique Approche"
   ],
   "metadata": {}
  },
  {
   "cell_type": "code",
   "execution_count": null,
   "source": [
    "combin_socio_eco =  base[\r\n",
    "    (base.socio_eco_app==\"service_muso_gardening\")\r\n",
    "]\r\n",
    "\r\n",
    "combin_socio_eco.code.count()"
   ],
   "outputs": [
    {
     "output_type": "execute_result",
     "data": {
      "text/plain": [
       "530"
      ]
     },
     "metadata": {},
     "execution_count": 17
    }
   ],
   "metadata": {}
  },
  {
   "cell_type": "code",
   "execution_count": null,
   "source": [
    "cse_table= combin_socio_eco.pivot_table(index=\"age_range\",columns=\"fiscal_year\",\r\n",
    "                        values='code',\r\n",
    "                        aggfunc='count',\r\n",
    "                        fill_value=0,\r\n",
    "                        margins=True,\r\n",
    "                        margins_name=\"Grand Total\"                             \r\n",
    ")\r\n",
    "cse_table"
   ],
   "outputs": [
    {
     "output_type": "execute_result",
     "data": {
      "text/html": [
       "<div>\n",
       "<style scoped>\n",
       "    .dataframe tbody tr th:only-of-type {\n",
       "        vertical-align: middle;\n",
       "    }\n",
       "\n",
       "    .dataframe tbody tr th {\n",
       "        vertical-align: top;\n",
       "    }\n",
       "\n",
       "    .dataframe thead th {\n",
       "        text-align: right;\n",
       "    }\n",
       "</style>\n",
       "<table border=\"1\" class=\"dataframe\">\n",
       "  <thead>\n",
       "    <tr style=\"text-align: right;\">\n",
       "      <th>fiscal_year</th>\n",
       "      <th>FY21Q1</th>\n",
       "      <th>FY21Q3</th>\n",
       "      <th>FY21Q4</th>\n",
       "      <th>Q3fy20-Q4fy20</th>\n",
       "      <th>Grand Total</th>\n",
       "    </tr>\n",
       "    <tr>\n",
       "      <th>age_range</th>\n",
       "      <th></th>\n",
       "      <th></th>\n",
       "      <th></th>\n",
       "      <th></th>\n",
       "      <th></th>\n",
       "    </tr>\n",
       "  </thead>\n",
       "  <tbody>\n",
       "    <tr>\n",
       "      <th>10-14</th>\n",
       "      <td>1</td>\n",
       "      <td>0</td>\n",
       "      <td>1</td>\n",
       "      <td>152</td>\n",
       "      <td>154</td>\n",
       "    </tr>\n",
       "    <tr>\n",
       "      <th>15-19</th>\n",
       "      <td>4</td>\n",
       "      <td>1</td>\n",
       "      <td>0</td>\n",
       "      <td>173</td>\n",
       "      <td>178</td>\n",
       "    </tr>\n",
       "    <tr>\n",
       "      <th>20-24</th>\n",
       "      <td>1</td>\n",
       "      <td>0</td>\n",
       "      <td>0</td>\n",
       "      <td>197</td>\n",
       "      <td>198</td>\n",
       "    </tr>\n",
       "    <tr>\n",
       "      <th>Grand Total</th>\n",
       "      <td>6</td>\n",
       "      <td>1</td>\n",
       "      <td>1</td>\n",
       "      <td>522</td>\n",
       "      <td>530</td>\n",
       "    </tr>\n",
       "  </tbody>\n",
       "</table>\n",
       "</div>"
      ],
      "text/plain": [
       "fiscal_year  FY21Q1  FY21Q3  FY21Q4  Q3fy20-Q4fy20  Grand Total\n",
       "age_range                                                      \n",
       "10-14             1       0       1            152          154\n",
       "15-19             4       1       0            173          178\n",
       "20-24             1       0       0            197          198\n",
       "Grand Total       6       1       1            522          530"
      ]
     },
     "metadata": {},
     "execution_count": 18
    }
   ],
   "metadata": {}
  },
  {
   "cell_type": "markdown",
   "source": [
    "# PREP"
   ],
   "metadata": {}
  },
  {
   "cell_type": "code",
   "execution_count": null,
   "source": [
    "prep_sens = base[\r\n",
    "    (base.sens_prep==\"tested_on_given_date\")\r\n",
    "]\r\n",
    "prep_sens.code.count()\r\n",
    "\r\n",
    "prep_sens_table = prep_sens.pivot_table(index=\"age_range\",columns=\"fiscal_year\",\r\n",
    "                        values='code',\r\n",
    "                        aggfunc='count',\r\n",
    "                        fill_value=0,\r\n",
    "                        margins=True,\r\n",
    "                        margins_name=\"Grand Total\"                             \r\n",
    ")\r\n",
    "prep_sens_table\r\n"
   ],
   "outputs": [
    {
     "output_type": "execute_result",
     "data": {
      "text/plain": [
       "577"
      ]
     },
     "metadata": {},
     "execution_count": 19
    },
    {
     "output_type": "execute_result",
     "data": {
      "text/html": [
       "<div>\n",
       "<style scoped>\n",
       "    .dataframe tbody tr th:only-of-type {\n",
       "        vertical-align: middle;\n",
       "    }\n",
       "\n",
       "    .dataframe tbody tr th {\n",
       "        vertical-align: top;\n",
       "    }\n",
       "\n",
       "    .dataframe thead th {\n",
       "        text-align: right;\n",
       "    }\n",
       "</style>\n",
       "<table border=\"1\" class=\"dataframe\">\n",
       "  <thead>\n",
       "    <tr style=\"text-align: right;\">\n",
       "      <th>fiscal_year</th>\n",
       "      <th>FY21Q1</th>\n",
       "      <th>FY21Q2</th>\n",
       "      <th>FY21Q3</th>\n",
       "      <th>FY21Q4</th>\n",
       "      <th>Q3fy20-Q4fy20</th>\n",
       "      <th>Grand Total</th>\n",
       "    </tr>\n",
       "    <tr>\n",
       "      <th>age_range</th>\n",
       "      <th></th>\n",
       "      <th></th>\n",
       "      <th></th>\n",
       "      <th></th>\n",
       "      <th></th>\n",
       "      <th></th>\n",
       "    </tr>\n",
       "  </thead>\n",
       "  <tbody>\n",
       "    <tr>\n",
       "      <th>10-14</th>\n",
       "      <td>2</td>\n",
       "      <td>1</td>\n",
       "      <td>6</td>\n",
       "      <td>0</td>\n",
       "      <td>14</td>\n",
       "      <td>23</td>\n",
       "    </tr>\n",
       "    <tr>\n",
       "      <th>15-19</th>\n",
       "      <td>49</td>\n",
       "      <td>17</td>\n",
       "      <td>42</td>\n",
       "      <td>4</td>\n",
       "      <td>92</td>\n",
       "      <td>204</td>\n",
       "    </tr>\n",
       "    <tr>\n",
       "      <th>20-24</th>\n",
       "      <td>117</td>\n",
       "      <td>18</td>\n",
       "      <td>37</td>\n",
       "      <td>7</td>\n",
       "      <td>171</td>\n",
       "      <td>350</td>\n",
       "    </tr>\n",
       "    <tr>\n",
       "      <th>Grand Total</th>\n",
       "      <td>168</td>\n",
       "      <td>36</td>\n",
       "      <td>85</td>\n",
       "      <td>11</td>\n",
       "      <td>277</td>\n",
       "      <td>577</td>\n",
       "    </tr>\n",
       "  </tbody>\n",
       "</table>\n",
       "</div>"
      ],
      "text/plain": [
       "fiscal_year  FY21Q1  FY21Q2  FY21Q3  FY21Q4  Q3fy20-Q4fy20  Grand Total\n",
       "age_range                                                              \n",
       "10-14             2       1       6       0             14           23\n",
       "15-19            49      17      42       4             92          204\n",
       "20-24           117      18      37       7            171          350\n",
       "Grand Total     168      36      85      11            277          577"
      ]
     },
     "metadata": {},
     "execution_count": 19
    }
   ],
   "metadata": {}
  },
  {
   "cell_type": "code",
   "execution_count": null,
   "source": [
    "prep_accept = base[\r\n",
    "    (base.acc_prep==\"accept\")\r\n",
    "]\r\n",
    "prep_accept.code.count()\r\n",
    "prep_accept_table = prep_accept.pivot_table(index=\"age_range\",columns=\"fiscal_year\",\r\n",
    "                        values='code',\r\n",
    "                        aggfunc='count',\r\n",
    "                        fill_value=0,\r\n",
    "                        margins=True,\r\n",
    "                        margins_name=\"Grand Total\"                             \r\n",
    ")\r\n",
    "prep_accept_table\r\n"
   ],
   "outputs": [
    {
     "output_type": "execute_result",
     "data": {
      "text/plain": [
       "52"
      ]
     },
     "metadata": {},
     "execution_count": 20
    },
    {
     "output_type": "execute_result",
     "data": {
      "text/html": [
       "<div>\n",
       "<style scoped>\n",
       "    .dataframe tbody tr th:only-of-type {\n",
       "        vertical-align: middle;\n",
       "    }\n",
       "\n",
       "    .dataframe tbody tr th {\n",
       "        vertical-align: top;\n",
       "    }\n",
       "\n",
       "    .dataframe thead th {\n",
       "        text-align: right;\n",
       "    }\n",
       "</style>\n",
       "<table border=\"1\" class=\"dataframe\">\n",
       "  <thead>\n",
       "    <tr style=\"text-align: right;\">\n",
       "      <th>fiscal_year</th>\n",
       "      <th>FY21Q1</th>\n",
       "      <th>FY21Q2</th>\n",
       "      <th>FY21Q3</th>\n",
       "      <th>FY21Q4</th>\n",
       "      <th>Q3fy20-Q4fy20</th>\n",
       "      <th>Grand Total</th>\n",
       "    </tr>\n",
       "    <tr>\n",
       "      <th>age_range</th>\n",
       "      <th></th>\n",
       "      <th></th>\n",
       "      <th></th>\n",
       "      <th></th>\n",
       "      <th></th>\n",
       "      <th></th>\n",
       "    </tr>\n",
       "  </thead>\n",
       "  <tbody>\n",
       "    <tr>\n",
       "      <th>10-14</th>\n",
       "      <td>0</td>\n",
       "      <td>0</td>\n",
       "      <td>0</td>\n",
       "      <td>0</td>\n",
       "      <td>4</td>\n",
       "      <td>4</td>\n",
       "    </tr>\n",
       "    <tr>\n",
       "      <th>15-19</th>\n",
       "      <td>6</td>\n",
       "      <td>0</td>\n",
       "      <td>1</td>\n",
       "      <td>2</td>\n",
       "      <td>14</td>\n",
       "      <td>23</td>\n",
       "    </tr>\n",
       "    <tr>\n",
       "      <th>20-24</th>\n",
       "      <td>8</td>\n",
       "      <td>3</td>\n",
       "      <td>1</td>\n",
       "      <td>0</td>\n",
       "      <td>13</td>\n",
       "      <td>25</td>\n",
       "    </tr>\n",
       "    <tr>\n",
       "      <th>Grand Total</th>\n",
       "      <td>14</td>\n",
       "      <td>3</td>\n",
       "      <td>2</td>\n",
       "      <td>2</td>\n",
       "      <td>31</td>\n",
       "      <td>52</td>\n",
       "    </tr>\n",
       "  </tbody>\n",
       "</table>\n",
       "</div>"
      ],
      "text/plain": [
       "fiscal_year  FY21Q1  FY21Q2  FY21Q3  FY21Q4  Q3fy20-Q4fy20  Grand Total\n",
       "age_range                                                              \n",
       "10-14             0       0       0       0              4            4\n",
       "15-19             6       0       1       2             14           23\n",
       "20-24             8       3       1       0             13           25\n",
       "Grand Total      14       3       2       2             31           52"
      ]
     },
     "metadata": {},
     "execution_count": 20
    }
   ],
   "metadata": {}
  },
  {
   "cell_type": "code",
   "execution_count": 21,
   "source": [
    "prep_ref = base[\r\n",
    "    (base.ref_prep==\"tested_on_given_date\")\r\n",
    "]\r\n",
    "prep_ref.code.count()\r\n",
    "prep_ref_table = prep_ref.pivot_table(\r\n",
    "                        index=\"age_range\",\r\n",
    "                        columns=\"fiscal_year\",\r\n",
    "                        values='code',\r\n",
    "                        aggfunc='count',\r\n",
    "                        fill_value=0,\r\n",
    "                        margins=True,\r\n",
    "                        margins_name=\"Grand Total\"                             \r\n",
    ")\r\n",
    "prep_ref_table"
   ],
   "outputs": [
    {
     "output_type": "execute_result",
     "data": {
      "text/plain": [
       "50"
      ]
     },
     "metadata": {},
     "execution_count": 21
    },
    {
     "output_type": "execute_result",
     "data": {
      "text/html": [
       "<div>\n",
       "<style scoped>\n",
       "    .dataframe tbody tr th:only-of-type {\n",
       "        vertical-align: middle;\n",
       "    }\n",
       "\n",
       "    .dataframe tbody tr th {\n",
       "        vertical-align: top;\n",
       "    }\n",
       "\n",
       "    .dataframe thead th {\n",
       "        text-align: right;\n",
       "    }\n",
       "</style>\n",
       "<table border=\"1\" class=\"dataframe\">\n",
       "  <thead>\n",
       "    <tr style=\"text-align: right;\">\n",
       "      <th>fiscal_year</th>\n",
       "      <th>FY21Q1</th>\n",
       "      <th>FY21Q2</th>\n",
       "      <th>FY21Q3</th>\n",
       "      <th>FY21Q4</th>\n",
       "      <th>Q3fy20-Q4fy20</th>\n",
       "      <th>Grand Total</th>\n",
       "    </tr>\n",
       "    <tr>\n",
       "      <th>age_range</th>\n",
       "      <th></th>\n",
       "      <th></th>\n",
       "      <th></th>\n",
       "      <th></th>\n",
       "      <th></th>\n",
       "      <th></th>\n",
       "    </tr>\n",
       "  </thead>\n",
       "  <tbody>\n",
       "    <tr>\n",
       "      <th>10-14</th>\n",
       "      <td>0</td>\n",
       "      <td>0</td>\n",
       "      <td>0</td>\n",
       "      <td>0</td>\n",
       "      <td>4</td>\n",
       "      <td>4</td>\n",
       "    </tr>\n",
       "    <tr>\n",
       "      <th>15-19</th>\n",
       "      <td>6</td>\n",
       "      <td>0</td>\n",
       "      <td>1</td>\n",
       "      <td>1</td>\n",
       "      <td>13</td>\n",
       "      <td>21</td>\n",
       "    </tr>\n",
       "    <tr>\n",
       "      <th>20-24</th>\n",
       "      <td>8</td>\n",
       "      <td>3</td>\n",
       "      <td>1</td>\n",
       "      <td>0</td>\n",
       "      <td>13</td>\n",
       "      <td>25</td>\n",
       "    </tr>\n",
       "    <tr>\n",
       "      <th>Grand Total</th>\n",
       "      <td>14</td>\n",
       "      <td>3</td>\n",
       "      <td>2</td>\n",
       "      <td>1</td>\n",
       "      <td>30</td>\n",
       "      <td>50</td>\n",
       "    </tr>\n",
       "  </tbody>\n",
       "</table>\n",
       "</div>"
      ],
      "text/plain": [
       "fiscal_year  FY21Q1  FY21Q2  FY21Q3  FY21Q4  Q3fy20-Q4fy20  Grand Total\n",
       "age_range                                                              \n",
       "10-14             0       0       0       0              4            4\n",
       "15-19             6       0       1       1             13           21\n",
       "20-24             8       3       1       0             13           25\n",
       "Grand Total      14       3       2       1             30           50"
      ]
     },
     "metadata": {},
     "execution_count": 21
    }
   ],
   "metadata": {}
  },
  {
   "cell_type": "code",
   "execution_count": 22,
   "source": [
    "\r\n",
    "prep = base[\r\n",
    "    (base.init_prep==\"tested_on_given_date\")\r\n",
    "]\r\n",
    "prep.code.count()\r\n",
    "\r\n",
    "prep_table = prep.pivot_table(index=\"age_range\",columns=\"fiscal_year\",\r\n",
    "                        values='code',\r\n",
    "                        aggfunc='count',\r\n",
    "                        fill_value=0,\r\n",
    "                        margins=True,\r\n",
    "                        margins_name=\"Grand Total\"                             \r\n",
    ")\r\n",
    "prep_table\r\n",
    "\r\n"
   ],
   "outputs": [
    {
     "output_type": "execute_result",
     "data": {
      "text/plain": [
       "47"
      ]
     },
     "metadata": {},
     "execution_count": 22
    },
    {
     "output_type": "execute_result",
     "data": {
      "text/html": [
       "<div>\n",
       "<style scoped>\n",
       "    .dataframe tbody tr th:only-of-type {\n",
       "        vertical-align: middle;\n",
       "    }\n",
       "\n",
       "    .dataframe tbody tr th {\n",
       "        vertical-align: top;\n",
       "    }\n",
       "\n",
       "    .dataframe thead th {\n",
       "        text-align: right;\n",
       "    }\n",
       "</style>\n",
       "<table border=\"1\" class=\"dataframe\">\n",
       "  <thead>\n",
       "    <tr style=\"text-align: right;\">\n",
       "      <th>fiscal_year</th>\n",
       "      <th>FY21Q1</th>\n",
       "      <th>FY21Q2</th>\n",
       "      <th>FY21Q3</th>\n",
       "      <th>FY21Q4</th>\n",
       "      <th>Q3fy20-Q4fy20</th>\n",
       "      <th>Grand Total</th>\n",
       "    </tr>\n",
       "    <tr>\n",
       "      <th>age_range</th>\n",
       "      <th></th>\n",
       "      <th></th>\n",
       "      <th></th>\n",
       "      <th></th>\n",
       "      <th></th>\n",
       "      <th></th>\n",
       "    </tr>\n",
       "  </thead>\n",
       "  <tbody>\n",
       "    <tr>\n",
       "      <th>10-14</th>\n",
       "      <td>0</td>\n",
       "      <td>0</td>\n",
       "      <td>0</td>\n",
       "      <td>0</td>\n",
       "      <td>4</td>\n",
       "      <td>4</td>\n",
       "    </tr>\n",
       "    <tr>\n",
       "      <th>15-19</th>\n",
       "      <td>6</td>\n",
       "      <td>0</td>\n",
       "      <td>1</td>\n",
       "      <td>1</td>\n",
       "      <td>12</td>\n",
       "      <td>20</td>\n",
       "    </tr>\n",
       "    <tr>\n",
       "      <th>20-24</th>\n",
       "      <td>8</td>\n",
       "      <td>3</td>\n",
       "      <td>1</td>\n",
       "      <td>0</td>\n",
       "      <td>11</td>\n",
       "      <td>23</td>\n",
       "    </tr>\n",
       "    <tr>\n",
       "      <th>Grand Total</th>\n",
       "      <td>14</td>\n",
       "      <td>3</td>\n",
       "      <td>2</td>\n",
       "      <td>1</td>\n",
       "      <td>27</td>\n",
       "      <td>47</td>\n",
       "    </tr>\n",
       "  </tbody>\n",
       "</table>\n",
       "</div>"
      ],
      "text/plain": [
       "fiscal_year  FY21Q1  FY21Q2  FY21Q3  FY21Q4  Q3fy20-Q4fy20  Grand Total\n",
       "age_range                                                              \n",
       "10-14             0       0       0       0              4            4\n",
       "15-19             6       0       1       1             12           20\n",
       "20-24             8       3       1       0             11           23\n",
       "Grand Total      14       3       2       1             27           47"
      ]
     },
     "metadata": {},
     "execution_count": 22
    }
   ],
   "metadata": {}
  },
  {
   "cell_type": "code",
   "execution_count": 23,
   "source": [
    "\r\n",
    "prep_accept[prep_accept.code.isin(prep_ref.code)].code.count()\r\n",
    "prep_accept[~prep_accept.code.isin(prep_ref.code)].code.count()\r\n",
    "\r\n",
    "accepter_non_referer = prep_accept[~prep_accept.code.isin(prep_ref.code)]"
   ],
   "outputs": [
    {
     "output_type": "execute_result",
     "data": {
      "text/plain": [
       "46"
      ]
     },
     "metadata": {},
     "execution_count": 23
    },
    {
     "output_type": "execute_result",
     "data": {
      "text/plain": [
       "6"
      ]
     },
     "metadata": {},
     "execution_count": 23
    }
   ],
   "metadata": {}
  },
  {
   "cell_type": "code",
   "execution_count": 24,
   "source": [
    "prep_ref[prep_ref.code.isin(prep_accept.code)].code.count()\r\n",
    "prep_ref[~prep_ref.code.isin(prep_accept.code)].code.count()\r\n",
    "\r\n",
    "\r\n",
    "ref_non_accept = prep_ref[~prep_ref.code.isin(prep_accept.code)]"
   ],
   "outputs": [
    {
     "output_type": "execute_result",
     "data": {
      "text/plain": [
       "46"
      ]
     },
     "metadata": {},
     "execution_count": 24
    },
    {
     "output_type": "execute_result",
     "data": {
      "text/plain": [
       "4"
      ]
     },
     "metadata": {},
     "execution_count": 24
    }
   ],
   "metadata": {}
  },
  {
   "cell_type": "code",
   "execution_count": 25,
   "source": [
    "prep_ref[prep_ref.code.isin(prep.code)].code.count()\r\n",
    "prep_ref[~prep_ref.code.isin(prep.code)].code.count()"
   ],
   "outputs": [
    {
     "output_type": "execute_result",
     "data": {
      "text/plain": [
       "46"
      ]
     },
     "metadata": {},
     "execution_count": 25
    },
    {
     "output_type": "execute_result",
     "data": {
      "text/plain": [
       "4"
      ]
     },
     "metadata": {},
     "execution_count": 25
    }
   ],
   "metadata": {}
  },
  {
   "cell_type": "code",
   "execution_count": 26,
   "source": [
    "prep[prep.code.isin(prep_ref.code)].code.count()\r\n",
    "prep[~prep.code.isin(prep_ref.code)].code.count()"
   ],
   "outputs": [
    {
     "output_type": "execute_result",
     "data": {
      "text/plain": [
       "46"
      ]
     },
     "metadata": {},
     "execution_count": 26
    },
    {
     "output_type": "execute_result",
     "data": {
      "text/plain": [
       "1"
      ]
     },
     "metadata": {},
     "execution_count": 26
    }
   ],
   "metadata": {}
  },
  {
   "cell_type": "code",
   "execution_count": 27,
   "source": [
    "\r\n",
    "search_missing_prep = pd.ExcelWriter(f\"find_missing_prep.xlsx\",engine=\"xlsxwriter\")\r\n",
    "\r\n",
    "accepter_non_referer.to_excel(search_missing_prep,sheet_name=\"accepter_non_referer\",index=True,na_rep=\"NULL\")\r\n",
    "ref_non_accept.to_excel(search_missing_prep,sheet_name=\"ref_non_accept\",index=True,na_rep=\"NULL\")\r\n",
    "search_missing_prep.save()"
   ],
   "outputs": [
    {
     "output_type": "error",
     "ename": "NameError",
     "evalue": "name 'pd' is not defined",
     "traceback": [
      "\u001b[1;31m---------------------------------------------------------------------------\u001b[0m",
      "\u001b[1;31mNameError\u001b[0m                                 Traceback (most recent call last)",
      "\u001b[1;32m<ipython-input-27-581492d70395>\u001b[0m in \u001b[0;36m<module>\u001b[1;34m\u001b[0m\n\u001b[1;32m----> 1\u001b[1;33m \u001b[0msearch_missing_prep\u001b[0m \u001b[1;33m=\u001b[0m \u001b[0mpd\u001b[0m\u001b[1;33m.\u001b[0m\u001b[0mExcelWriter\u001b[0m\u001b[1;33m(\u001b[0m\u001b[1;34mf\"find_missing_prep.xlsx\"\u001b[0m\u001b[1;33m,\u001b[0m\u001b[0mengine\u001b[0m\u001b[1;33m=\u001b[0m\u001b[1;34m\"xlsxwriter\"\u001b[0m\u001b[1;33m)\u001b[0m\u001b[1;33m\u001b[0m\u001b[1;33m\u001b[0m\u001b[0m\n\u001b[0m\u001b[0;32m      2\u001b[0m \u001b[1;33m\u001b[0m\u001b[0m\n\u001b[0;32m      3\u001b[0m \u001b[0maccepter_non_referer\u001b[0m\u001b[1;33m.\u001b[0m\u001b[0mto_excel\u001b[0m\u001b[1;33m(\u001b[0m\u001b[0msearch_missing_prep\u001b[0m\u001b[1;33m,\u001b[0m\u001b[0msheet_name\u001b[0m\u001b[1;33m=\u001b[0m\u001b[1;34m\"accepter_non_referer\"\u001b[0m\u001b[1;33m,\u001b[0m\u001b[0mindex\u001b[0m\u001b[1;33m=\u001b[0m\u001b[1;32mTrue\u001b[0m\u001b[1;33m,\u001b[0m\u001b[0mna_rep\u001b[0m\u001b[1;33m=\u001b[0m\u001b[1;34m\"NULL\"\u001b[0m\u001b[1;33m)\u001b[0m\u001b[1;33m\u001b[0m\u001b[1;33m\u001b[0m\u001b[0m\n\u001b[0;32m      4\u001b[0m \u001b[0mref_non_accept\u001b[0m\u001b[1;33m.\u001b[0m\u001b[0mto_excel\u001b[0m\u001b[1;33m(\u001b[0m\u001b[0msearch_missing_prep\u001b[0m\u001b[1;33m,\u001b[0m\u001b[0msheet_name\u001b[0m\u001b[1;33m=\u001b[0m\u001b[1;34m\"ref_non_accept\"\u001b[0m\u001b[1;33m,\u001b[0m\u001b[0mindex\u001b[0m\u001b[1;33m=\u001b[0m\u001b[1;32mTrue\u001b[0m\u001b[1;33m,\u001b[0m\u001b[0mna_rep\u001b[0m\u001b[1;33m=\u001b[0m\u001b[1;34m\"NULL\"\u001b[0m\u001b[1;33m)\u001b[0m\u001b[1;33m\u001b[0m\u001b[1;33m\u001b[0m\u001b[0m\n\u001b[0;32m      5\u001b[0m \u001b[0msearch_missing_prep\u001b[0m\u001b[1;33m.\u001b[0m\u001b[0msave\u001b[0m\u001b[1;33m(\u001b[0m\u001b[1;33m)\u001b[0m\u001b[1;33m\u001b[0m\u001b[1;33m\u001b[0m\u001b[0m\n",
      "\u001b[1;31mNameError\u001b[0m: name 'pd' is not defined"
     ]
    }
   ],
   "metadata": {}
  },
  {
   "cell_type": "markdown",
   "source": [
    "# jardinage"
   ],
   "metadata": {}
  },
  {
   "cell_type": "code",
   "execution_count": null,
   "source": [
    "\r\n",
    "\r\n",
    "garden = base[\r\n",
    "    (base.is_gardening==\"yes\")\r\n",
    "]\r\n",
    "garden.code.count()\r\n",
    "\r\n",
    "garden_table = garden.pivot_table(index=\"age_range\",columns=\"fiscal_year\",\r\n",
    "                        values='code',\r\n",
    "                        aggfunc='count',\r\n",
    "                        fill_value=0,\r\n",
    "                        margins=True,\r\n",
    "                        margins_name=\"Grand Total\"                             \r\n",
    ")\r\n",
    "garden_table\r\n",
    "\r\n"
   ],
   "outputs": [
    {
     "output_type": "execute_result",
     "data": {
      "text/plain": [
       "478"
      ]
     },
     "metadata": {},
     "execution_count": 26
    },
    {
     "output_type": "execute_result",
     "data": {
      "text/html": [
       "<div>\n",
       "<style scoped>\n",
       "    .dataframe tbody tr th:only-of-type {\n",
       "        vertical-align: middle;\n",
       "    }\n",
       "\n",
       "    .dataframe tbody tr th {\n",
       "        vertical-align: top;\n",
       "    }\n",
       "\n",
       "    .dataframe thead th {\n",
       "        text-align: right;\n",
       "    }\n",
       "</style>\n",
       "<table border=\"1\" class=\"dataframe\">\n",
       "  <thead>\n",
       "    <tr style=\"text-align: right;\">\n",
       "      <th>fiscal_year</th>\n",
       "      <th>FY21Q1</th>\n",
       "      <th>FY21Q3</th>\n",
       "      <th>FY21Q4</th>\n",
       "      <th>Q3fy20-Q4fy20</th>\n",
       "      <th>Grand Total</th>\n",
       "    </tr>\n",
       "    <tr>\n",
       "      <th>age_range</th>\n",
       "      <th></th>\n",
       "      <th></th>\n",
       "      <th></th>\n",
       "      <th></th>\n",
       "      <th></th>\n",
       "    </tr>\n",
       "  </thead>\n",
       "  <tbody>\n",
       "    <tr>\n",
       "      <th>10-14</th>\n",
       "      <td>1</td>\n",
       "      <td>0</td>\n",
       "      <td>1</td>\n",
       "      <td>147</td>\n",
       "      <td>149</td>\n",
       "    </tr>\n",
       "    <tr>\n",
       "      <th>15-19</th>\n",
       "      <td>4</td>\n",
       "      <td>1</td>\n",
       "      <td>0</td>\n",
       "      <td>159</td>\n",
       "      <td>164</td>\n",
       "    </tr>\n",
       "    <tr>\n",
       "      <th>20-24</th>\n",
       "      <td>1</td>\n",
       "      <td>0</td>\n",
       "      <td>0</td>\n",
       "      <td>164</td>\n",
       "      <td>165</td>\n",
       "    </tr>\n",
       "    <tr>\n",
       "      <th>Grand Total</th>\n",
       "      <td>6</td>\n",
       "      <td>1</td>\n",
       "      <td>1</td>\n",
       "      <td>470</td>\n",
       "      <td>478</td>\n",
       "    </tr>\n",
       "  </tbody>\n",
       "</table>\n",
       "</div>"
      ],
      "text/plain": [
       "fiscal_year  FY21Q1  FY21Q3  FY21Q4  Q3fy20-Q4fy20  Grand Total\n",
       "age_range                                                      \n",
       "10-14             1       0       1            147          149\n",
       "15-19             4       1       0            159          164\n",
       "20-24             1       0       0            164          165\n",
       "Grand Total       6       1       1            470          478"
      ]
     },
     "metadata": {},
     "execution_count": 26
    }
   ],
   "metadata": {}
  },
  {
   "cell_type": "markdown",
   "source": [
    "# MUSO"
   ],
   "metadata": {}
  },
  {
   "cell_type": "code",
   "execution_count": null,
   "source": [
    "muso = base[\r\n",
    "    (base.is_muso==\"yes\")\r\n",
    "]\r\n",
    "muso.code.count()\r\n",
    "\r\n",
    "muso_table = muso.pivot_table(index=\"age_range\",columns=\"fiscal_year\",\r\n",
    "                        values='code',\r\n",
    "                        aggfunc='count',\r\n",
    "                        fill_value=0,\r\n",
    "                        margins=True,\r\n",
    "                        margins_name=\"Grand Total\"                             \r\n",
    ")\r\n",
    "muso_table"
   ],
   "outputs": [
    {
     "output_type": "execute_result",
     "data": {
      "text/plain": [
       "65"
      ]
     },
     "metadata": {},
     "execution_count": 27
    },
    {
     "output_type": "execute_result",
     "data": {
      "text/html": [
       "<div>\n",
       "<style scoped>\n",
       "    .dataframe tbody tr th:only-of-type {\n",
       "        vertical-align: middle;\n",
       "    }\n",
       "\n",
       "    .dataframe tbody tr th {\n",
       "        vertical-align: top;\n",
       "    }\n",
       "\n",
       "    .dataframe thead th {\n",
       "        text-align: right;\n",
       "    }\n",
       "</style>\n",
       "<table border=\"1\" class=\"dataframe\">\n",
       "  <thead>\n",
       "    <tr style=\"text-align: right;\">\n",
       "      <th>fiscal_year</th>\n",
       "      <th>Q3fy20-Q4fy20</th>\n",
       "      <th>Grand Total</th>\n",
       "    </tr>\n",
       "    <tr>\n",
       "      <th>age_range</th>\n",
       "      <th></th>\n",
       "      <th></th>\n",
       "    </tr>\n",
       "  </thead>\n",
       "  <tbody>\n",
       "    <tr>\n",
       "      <th>10-14</th>\n",
       "      <td>5</td>\n",
       "      <td>5</td>\n",
       "    </tr>\n",
       "    <tr>\n",
       "      <th>15-19</th>\n",
       "      <td>16</td>\n",
       "      <td>16</td>\n",
       "    </tr>\n",
       "    <tr>\n",
       "      <th>20-24</th>\n",
       "      <td>44</td>\n",
       "      <td>44</td>\n",
       "    </tr>\n",
       "    <tr>\n",
       "      <th>Grand Total</th>\n",
       "      <td>65</td>\n",
       "      <td>65</td>\n",
       "    </tr>\n",
       "  </tbody>\n",
       "</table>\n",
       "</div>"
      ],
      "text/plain": [
       "fiscal_year  Q3fy20-Q4fy20  Grand Total\n",
       "age_range                              \n",
       "10-14                    5            5\n",
       "15-19                   16           16\n",
       "20-24                   44           44\n",
       "Grand Total             65           65"
      ]
     },
     "metadata": {},
     "execution_count": 27
    }
   ],
   "metadata": {}
  },
  {
   "cell_type": "markdown",
   "source": [
    "# Primary Services"
   ],
   "metadata": {}
  },
  {
   "cell_type": "code",
   "execution_count": null,
   "source": [
    "ps14 = base[\r\n",
    "    (base.ps_10_14==\"curriculum-servis\")\r\n",
    "]\r\n",
    "ps14.code.count()\r\n",
    "\r\n",
    "ps19 = base[\r\n",
    "    (base.ps_15_19==\"condoms&curriculum\")\r\n",
    "]\r\n",
    "ps19.code.count()\r\n",
    "\r\n",
    "ps24 = base[\r\n",
    "    (base.ps_20_24==\"condoms&curriculum\")\r\n",
    "]\r\n",
    "ps24.code.count()"
   ],
   "outputs": [
    {
     "output_type": "execute_result",
     "data": {
      "text/plain": [
       "6613"
      ]
     },
     "metadata": {},
     "execution_count": 28
    },
    {
     "output_type": "execute_result",
     "data": {
      "text/plain": [
       "1661"
      ]
     },
     "metadata": {},
     "execution_count": 28
    },
    {
     "output_type": "execute_result",
     "data": {
      "text/plain": [
       "1140"
      ]
     },
     "metadata": {},
     "execution_count": 28
    }
   ],
   "metadata": {}
  },
  {
   "cell_type": "code",
   "execution_count": null,
   "source": [
    "ps14_table = ps14.pivot_table(index=\"age_range\",columns=\"fiscal_year\",\r\n",
    "                        values='code',\r\n",
    "                        aggfunc='count',\r\n",
    "                        fill_value=0,\r\n",
    "                        margins=True,\r\n",
    "                        margins_name=\"Grand Total\"                             \r\n",
    ")\r\n",
    "ps14_table"
   ],
   "outputs": [
    {
     "output_type": "execute_result",
     "data": {
      "text/html": [
       "<div>\n",
       "<style scoped>\n",
       "    .dataframe tbody tr th:only-of-type {\n",
       "        vertical-align: middle;\n",
       "    }\n",
       "\n",
       "    .dataframe tbody tr th {\n",
       "        vertical-align: top;\n",
       "    }\n",
       "\n",
       "    .dataframe thead th {\n",
       "        text-align: right;\n",
       "    }\n",
       "</style>\n",
       "<table border=\"1\" class=\"dataframe\">\n",
       "  <thead>\n",
       "    <tr style=\"text-align: right;\">\n",
       "      <th>fiscal_year</th>\n",
       "      <th>FY21Q1</th>\n",
       "      <th>FY21Q2</th>\n",
       "      <th>FY21Q3</th>\n",
       "      <th>FY21Q4</th>\n",
       "      <th>Q3fy20-Q4fy20</th>\n",
       "      <th>Grand Total</th>\n",
       "    </tr>\n",
       "    <tr>\n",
       "      <th>age_range</th>\n",
       "      <th></th>\n",
       "      <th></th>\n",
       "      <th></th>\n",
       "      <th></th>\n",
       "      <th></th>\n",
       "      <th></th>\n",
       "    </tr>\n",
       "  </thead>\n",
       "  <tbody>\n",
       "    <tr>\n",
       "      <th>10-14</th>\n",
       "      <td>743</td>\n",
       "      <td>626</td>\n",
       "      <td>618</td>\n",
       "      <td>274</td>\n",
       "      <td>4352</td>\n",
       "      <td>6613</td>\n",
       "    </tr>\n",
       "    <tr>\n",
       "      <th>Grand Total</th>\n",
       "      <td>743</td>\n",
       "      <td>626</td>\n",
       "      <td>618</td>\n",
       "      <td>274</td>\n",
       "      <td>4352</td>\n",
       "      <td>6613</td>\n",
       "    </tr>\n",
       "  </tbody>\n",
       "</table>\n",
       "</div>"
      ],
      "text/plain": [
       "fiscal_year  FY21Q1  FY21Q2  FY21Q3  FY21Q4  Q3fy20-Q4fy20  Grand Total\n",
       "age_range                                                              \n",
       "10-14           743     626     618     274           4352         6613\n",
       "Grand Total     743     626     618     274           4352         6613"
      ]
     },
     "metadata": {},
     "execution_count": 29
    }
   ],
   "metadata": {}
  },
  {
   "cell_type": "code",
   "execution_count": null,
   "source": [
    "\r\n",
    "ps19_table= ps19.pivot_table(index=\"age_range\",columns=\"fiscal_year\",\r\n",
    "                        values='code',\r\n",
    "                        aggfunc='count',\r\n",
    "                        fill_value=0,\r\n",
    "                        margins=True,\r\n",
    "                        margins_name=\"Grand Total\"                             \r\n",
    ")\r\n",
    "ps19_table"
   ],
   "outputs": [
    {
     "output_type": "execute_result",
     "data": {
      "text/html": [
       "<div>\n",
       "<style scoped>\n",
       "    .dataframe tbody tr th:only-of-type {\n",
       "        vertical-align: middle;\n",
       "    }\n",
       "\n",
       "    .dataframe tbody tr th {\n",
       "        vertical-align: top;\n",
       "    }\n",
       "\n",
       "    .dataframe thead th {\n",
       "        text-align: right;\n",
       "    }\n",
       "</style>\n",
       "<table border=\"1\" class=\"dataframe\">\n",
       "  <thead>\n",
       "    <tr style=\"text-align: right;\">\n",
       "      <th>fiscal_year</th>\n",
       "      <th>FY21Q1</th>\n",
       "      <th>FY21Q2</th>\n",
       "      <th>FY21Q3</th>\n",
       "      <th>FY21Q4</th>\n",
       "      <th>Q3fy20-Q4fy20</th>\n",
       "      <th>Grand Total</th>\n",
       "    </tr>\n",
       "    <tr>\n",
       "      <th>age_range</th>\n",
       "      <th></th>\n",
       "      <th></th>\n",
       "      <th></th>\n",
       "      <th></th>\n",
       "      <th></th>\n",
       "      <th></th>\n",
       "    </tr>\n",
       "  </thead>\n",
       "  <tbody>\n",
       "    <tr>\n",
       "      <th>15-19</th>\n",
       "      <td>305</td>\n",
       "      <td>172</td>\n",
       "      <td>155</td>\n",
       "      <td>82</td>\n",
       "      <td>947</td>\n",
       "      <td>1661</td>\n",
       "    </tr>\n",
       "    <tr>\n",
       "      <th>Grand Total</th>\n",
       "      <td>305</td>\n",
       "      <td>172</td>\n",
       "      <td>155</td>\n",
       "      <td>82</td>\n",
       "      <td>947</td>\n",
       "      <td>1661</td>\n",
       "    </tr>\n",
       "  </tbody>\n",
       "</table>\n",
       "</div>"
      ],
      "text/plain": [
       "fiscal_year  FY21Q1  FY21Q2  FY21Q3  FY21Q4  Q3fy20-Q4fy20  Grand Total\n",
       "age_range                                                              \n",
       "15-19           305     172     155      82            947         1661\n",
       "Grand Total     305     172     155      82            947         1661"
      ]
     },
     "metadata": {},
     "execution_count": 30
    }
   ],
   "metadata": {}
  },
  {
   "cell_type": "code",
   "execution_count": null,
   "source": [
    "ps24_table = ps24.pivot_table(index=\"age_range\",columns=\"fiscal_year\",\r\n",
    "                        values='code',\r\n",
    "                        aggfunc='count',\r\n",
    "                        fill_value=0,\r\n",
    "                        margins=True,\r\n",
    "                        margins_name=\"Grand Total\"                             \r\n",
    ")\r\n",
    "ps24_table"
   ],
   "outputs": [
    {
     "output_type": "execute_result",
     "data": {
      "text/html": [
       "<div>\n",
       "<style scoped>\n",
       "    .dataframe tbody tr th:only-of-type {\n",
       "        vertical-align: middle;\n",
       "    }\n",
       "\n",
       "    .dataframe tbody tr th {\n",
       "        vertical-align: top;\n",
       "    }\n",
       "\n",
       "    .dataframe thead th {\n",
       "        text-align: right;\n",
       "    }\n",
       "</style>\n",
       "<table border=\"1\" class=\"dataframe\">\n",
       "  <thead>\n",
       "    <tr style=\"text-align: right;\">\n",
       "      <th>fiscal_year</th>\n",
       "      <th>FY21Q1</th>\n",
       "      <th>FY21Q2</th>\n",
       "      <th>FY21Q3</th>\n",
       "      <th>FY21Q4</th>\n",
       "      <th>Q3fy20-Q4fy20</th>\n",
       "      <th>Grand Total</th>\n",
       "    </tr>\n",
       "    <tr>\n",
       "      <th>age_range</th>\n",
       "      <th></th>\n",
       "      <th></th>\n",
       "      <th></th>\n",
       "      <th></th>\n",
       "      <th></th>\n",
       "      <th></th>\n",
       "    </tr>\n",
       "  </thead>\n",
       "  <tbody>\n",
       "    <tr>\n",
       "      <th>20-24</th>\n",
       "      <td>230</td>\n",
       "      <td>99</td>\n",
       "      <td>51</td>\n",
       "      <td>31</td>\n",
       "      <td>729</td>\n",
       "      <td>1140</td>\n",
       "    </tr>\n",
       "    <tr>\n",
       "      <th>Grand Total</th>\n",
       "      <td>230</td>\n",
       "      <td>99</td>\n",
       "      <td>51</td>\n",
       "      <td>31</td>\n",
       "      <td>729</td>\n",
       "      <td>1140</td>\n",
       "    </tr>\n",
       "  </tbody>\n",
       "</table>\n",
       "</div>"
      ],
      "text/plain": [
       "fiscal_year  FY21Q1  FY21Q2  FY21Q3  FY21Q4  Q3fy20-Q4fy20  Grand Total\n",
       "age_range                                                              \n",
       "20-24           230      99      51      31            729         1140\n",
       "Grand Total     230      99      51      31            729         1140"
      ]
     },
     "metadata": {},
     "execution_count": 31
    }
   ],
   "metadata": {}
  },
  {
   "cell_type": "markdown",
   "source": [
    "# reporting"
   ],
   "metadata": {}
  },
  {
   "cell_type": "code",
   "execution_count": null,
   "source": [
    "table_report = pd.ExcelWriter(f\"DREAMS_services_Quarter_enroled_{date_du_jour}.xlsx\",engine=\"xlsxwriter\")\r\n",
    "ps14_table.to_excel(table_report,sheet_name=\"ps14_table\",index=True,na_rep=\"NULL\")\r\n",
    "ps19_table.to_excel(table_report,sheet_name=\"ps19_table\",index=True,na_rep=\"NULL\")\r\n",
    "ps24_table.to_excel(table_report,sheet_name=\"ps24_table\",index=True,na_rep=\"NULL\")\r\n",
    "prep_table.to_excel(table_report,sheet_name=\"prep_table\",index=True,na_rep=\"NULL\")\r\n",
    "prep_sens_table.to_excel(table_report,sheet_name=\"prep_sens_table\",index=True,na_rep=\"NULL\")\r\n",
    "prep_sens_table.to_excel(table_report,sheet_name=\"prep_sens_table\",index=True,na_rep=\"NULL\")\r\n",
    "prep_sens_table.to_excel(table_report,sheet_name=\"prep_sens_table\",index=True,na_rep=\"NULL\")\r\n",
    "cse_table.to_excel(table_report,sheet_name=\"cse_table\",index=True,na_rep=\"NULL\")\r\n",
    "pvc_table.to_excel(table_report,sheet_name=\"pvc_table\",index=True,na_rep=\"NULL\")\r\n",
    "depistage_table.to_excel(table_report,sheet_name=\"depistage_table\",index=True,na_rep=\"NULL\")\r\n",
    "condoms_table.to_excel(table_report,sheet_name=\"condoms_table\",index=True,na_rep=\"NULL\")\r\n",
    "depistage_table.to_excel(table_report,sheet_name=\"depistage_table\",index=True,na_rep=\"NULL\")\r\n",
    "curriculum_table.to_excel(table_report,sheet_name=\"curriculum_table\",index=True,na_rep=\"NULL\")\r\n",
    "base_table.to_excel(table_report,sheet_name=\"base_table\",index=True,na_rep=\"NULL\")\r\n",
    "table_report.save()"
   ],
   "outputs": [],
   "metadata": {}
  },
  {
   "cell_type": "code",
   "execution_count": null,
   "source": [],
   "outputs": [],
   "metadata": {}
  }
 ],
 "metadata": {
  "orig_nbformat": 4,
  "language_info": {
   "name": "python",
   "version": "3.9.6",
   "mimetype": "text/x-python",
   "codemirror_mode": {
    "name": "ipython",
    "version": 3
   },
   "pygments_lexer": "ipython3",
   "nbconvert_exporter": "python",
   "file_extension": ".py"
  },
  "kernelspec": {
   "name": "python3",
   "display_name": "Python 3.9.6 64-bit"
  },
  "interpreter": {
   "hash": "4534460e0bdca1b390927d45471088fb3501d39abc4e3f2cee293892e17d7fc6"
  }
 },
 "nbformat": 4,
 "nbformat_minor": 2
}