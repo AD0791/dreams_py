{
 "cells": [
  {
   "cell_type": "code",
   "execution_count": 1,
   "source": [
    "%run \"../LOS.ipynb\"\r\n",
    "\r\n",
    "import matplotlib.pyplot as plt\r\n",
    "%matplotlib inline\r\n",
    "import seaborn as sns\r\n",
    "\r\n",
    "from IPython.core.interactiveshell import InteractiveShell\r\n",
    "InteractiveShell.ast_node_interactivity = \"all\""
   ],
   "outputs": [],
   "metadata": {}
  },
  {
   "cell_type": "code",
   "execution_count": 2,
   "source": [
    "df = dreams_mastersheet"
   ],
   "outputs": [],
   "metadata": {}
  },
  {
   "cell_type": "code",
   "execution_count": 3,
   "source": [
    "date_du_jour = datetime.today().strftime(\"%d_%m_%Y\")"
   ],
   "outputs": [],
   "metadata": {}
  },
  {
   "cell_type": "markdown",
   "source": [
    "# La cohort des beneficaires"
   ],
   "metadata": {}
  },
  {
   "cell_type": "code",
   "execution_count": 4,
   "source": [
    "base = df[\r\n",
    "    (df.age_range!=\"not_valid_age\")\r\n",
    "    &(df.age_range!=\"25-29\")\r\n",
    "    &(df.timeOn_system==\"required_Time_on\")\r\n",
    "]\r\n",
    "base.code.count()"
   ],
   "outputs": [
    {
     "output_type": "execute_result",
     "data": {
      "text/plain": [
       "18910"
      ]
     },
     "metadata": {},
     "execution_count": 4
    }
   ],
   "metadata": {}
  },
  {
   "cell_type": "code",
   "execution_count": 5,
   "source": [
    "base_table = base.pivot_table(index=\"age_range\",columns=\"fiscal_year\",\r\n",
    "                        values='code',\r\n",
    "                        aggfunc='count',\r\n",
    "                        fill_value=0,\r\n",
    "                        margins=True,\r\n",
    "                        margins_name=\"Grand Total\"                             \r\n",
    ")\r\n",
    "base_table"
   ],
   "outputs": [
    {
     "output_type": "execute_result",
     "data": {
      "text/plain": [
       "fiscal_year  FY21Q1  FY21Q2  FY21Q3  FY21Q4  Q3fy20-Q4fy20  Grand Total\n",
       "age_range                                                              \n",
       "10-14           905     796     655     281           5039         7676\n",
       "15-19           979     674     358     163           5224         7398\n",
       "20-24           513     329     164      66           2764         3836\n",
       "Grand Total    2397    1799    1177     510          13027        18910"
      ],
      "text/html": [
       "<div>\n",
       "<style scoped>\n",
       "    .dataframe tbody tr th:only-of-type {\n",
       "        vertical-align: middle;\n",
       "    }\n",
       "\n",
       "    .dataframe tbody tr th {\n",
       "        vertical-align: top;\n",
       "    }\n",
       "\n",
       "    .dataframe thead th {\n",
       "        text-align: right;\n",
       "    }\n",
       "</style>\n",
       "<table border=\"1\" class=\"dataframe\">\n",
       "  <thead>\n",
       "    <tr style=\"text-align: right;\">\n",
       "      <th>fiscal_year</th>\n",
       "      <th>FY21Q1</th>\n",
       "      <th>FY21Q2</th>\n",
       "      <th>FY21Q3</th>\n",
       "      <th>FY21Q4</th>\n",
       "      <th>Q3fy20-Q4fy20</th>\n",
       "      <th>Grand Total</th>\n",
       "    </tr>\n",
       "    <tr>\n",
       "      <th>age_range</th>\n",
       "      <th></th>\n",
       "      <th></th>\n",
       "      <th></th>\n",
       "      <th></th>\n",
       "      <th></th>\n",
       "      <th></th>\n",
       "    </tr>\n",
       "  </thead>\n",
       "  <tbody>\n",
       "    <tr>\n",
       "      <th>10-14</th>\n",
       "      <td>905</td>\n",
       "      <td>796</td>\n",
       "      <td>655</td>\n",
       "      <td>281</td>\n",
       "      <td>5039</td>\n",
       "      <td>7676</td>\n",
       "    </tr>\n",
       "    <tr>\n",
       "      <th>15-19</th>\n",
       "      <td>979</td>\n",
       "      <td>674</td>\n",
       "      <td>358</td>\n",
       "      <td>163</td>\n",
       "      <td>5224</td>\n",
       "      <td>7398</td>\n",
       "    </tr>\n",
       "    <tr>\n",
       "      <th>20-24</th>\n",
       "      <td>513</td>\n",
       "      <td>329</td>\n",
       "      <td>164</td>\n",
       "      <td>66</td>\n",
       "      <td>2764</td>\n",
       "      <td>3836</td>\n",
       "    </tr>\n",
       "    <tr>\n",
       "      <th>Grand Total</th>\n",
       "      <td>2397</td>\n",
       "      <td>1799</td>\n",
       "      <td>1177</td>\n",
       "      <td>510</td>\n",
       "      <td>13027</td>\n",
       "      <td>18910</td>\n",
       "    </tr>\n",
       "  </tbody>\n",
       "</table>\n",
       "</div>"
      ]
     },
     "metadata": {},
     "execution_count": 5
    }
   ],
   "metadata": {}
  },
  {
   "cell_type": "markdown",
   "source": [
    "# curriculum"
   ],
   "metadata": {}
  },
  {
   "cell_type": "code",
   "execution_count": 6,
   "source": [
    "curriculum_complet = base[\r\n",
    "    (base.dreams_curriculum==\"curriculum_completed\")\r\n",
    "]\r\n",
    "curriculum_complet.code.count()"
   ],
   "outputs": [
    {
     "output_type": "execute_result",
     "data": {
      "text/plain": [
       "15747"
      ]
     },
     "metadata": {},
     "execution_count": 6
    }
   ],
   "metadata": {}
  },
  {
   "cell_type": "code",
   "execution_count": 7,
   "source": [
    "curriculum_table = curriculum_complet.pivot_table(index=\"age_range\",columns=\"fiscal_year\",\r\n",
    "                        values='code',\r\n",
    "                        aggfunc='count',\r\n",
    "                        fill_value=0,\r\n",
    "                        margins=True,\r\n",
    "                        margins_name=\"Grand Total\"                             \r\n",
    ")\r\n",
    "curriculum_table"
   ],
   "outputs": [
    {
     "output_type": "execute_result",
     "data": {
      "text/plain": [
       "fiscal_year  FY21Q1  FY21Q2  FY21Q3  FY21Q4  Q3fy20-Q4fy20  Grand Total\n",
       "age_range                                                              \n",
       "10-14           718     609     535     179           4304         6345\n",
       "15-19           780     500     299     124           4460         6163\n",
       "20-24           399     259     117      50           2414         3239\n",
       "Grand Total    1897    1368     951     353          11178        15747"
      ],
      "text/html": [
       "<div>\n",
       "<style scoped>\n",
       "    .dataframe tbody tr th:only-of-type {\n",
       "        vertical-align: middle;\n",
       "    }\n",
       "\n",
       "    .dataframe tbody tr th {\n",
       "        vertical-align: top;\n",
       "    }\n",
       "\n",
       "    .dataframe thead th {\n",
       "        text-align: right;\n",
       "    }\n",
       "</style>\n",
       "<table border=\"1\" class=\"dataframe\">\n",
       "  <thead>\n",
       "    <tr style=\"text-align: right;\">\n",
       "      <th>fiscal_year</th>\n",
       "      <th>FY21Q1</th>\n",
       "      <th>FY21Q2</th>\n",
       "      <th>FY21Q3</th>\n",
       "      <th>FY21Q4</th>\n",
       "      <th>Q3fy20-Q4fy20</th>\n",
       "      <th>Grand Total</th>\n",
       "    </tr>\n",
       "    <tr>\n",
       "      <th>age_range</th>\n",
       "      <th></th>\n",
       "      <th></th>\n",
       "      <th></th>\n",
       "      <th></th>\n",
       "      <th></th>\n",
       "      <th></th>\n",
       "    </tr>\n",
       "  </thead>\n",
       "  <tbody>\n",
       "    <tr>\n",
       "      <th>10-14</th>\n",
       "      <td>718</td>\n",
       "      <td>609</td>\n",
       "      <td>535</td>\n",
       "      <td>179</td>\n",
       "      <td>4304</td>\n",
       "      <td>6345</td>\n",
       "    </tr>\n",
       "    <tr>\n",
       "      <th>15-19</th>\n",
       "      <td>780</td>\n",
       "      <td>500</td>\n",
       "      <td>299</td>\n",
       "      <td>124</td>\n",
       "      <td>4460</td>\n",
       "      <td>6163</td>\n",
       "    </tr>\n",
       "    <tr>\n",
       "      <th>20-24</th>\n",
       "      <td>399</td>\n",
       "      <td>259</td>\n",
       "      <td>117</td>\n",
       "      <td>50</td>\n",
       "      <td>2414</td>\n",
       "      <td>3239</td>\n",
       "    </tr>\n",
       "    <tr>\n",
       "      <th>Grand Total</th>\n",
       "      <td>1897</td>\n",
       "      <td>1368</td>\n",
       "      <td>951</td>\n",
       "      <td>353</td>\n",
       "      <td>11178</td>\n",
       "      <td>15747</td>\n",
       "    </tr>\n",
       "  </tbody>\n",
       "</table>\n",
       "</div>"
      ]
     },
     "metadata": {},
     "execution_count": 7
    }
   ],
   "metadata": {}
  },
  {
   "cell_type": "markdown",
   "source": [
    "# Condoms"
   ],
   "metadata": {}
  },
  {
   "cell_type": "code",
   "execution_count": 8,
   "source": [
    "condoms = base[\r\n",
    "    (base.condoms==\"tested_on_given_date\")\r\n",
    "]\r\n",
    "\r\n",
    "condoms.code.count()\r\n",
    "\r\n",
    "new_condoms = base[\r\n",
    "    (base.new_condoms==\"sensOuRecu\")\r\n",
    "]\r\n",
    "\r\n",
    "new_condoms.code.count()"
   ],
   "outputs": [
    {
     "output_type": "execute_result",
     "data": {
      "text/plain": [
       "3215"
      ]
     },
     "metadata": {},
     "execution_count": 8
    },
    {
     "output_type": "execute_result",
     "data": {
      "text/plain": [
       "3451"
      ]
     },
     "metadata": {},
     "execution_count": 8
    }
   ],
   "metadata": {}
  },
  {
   "cell_type": "code",
   "execution_count": 9,
   "source": [
    "condoms.pivot_table(index=\"age_range\",columns=\"fiscal_year\",\r\n",
    "                        values='code',\r\n",
    "                        aggfunc='count',\r\n",
    "                        fill_value=0,\r\n",
    "                        margins=True,\r\n",
    "                        margins_name=\"Grand Total\"                             \r\n",
    ")"
   ],
   "outputs": [
    {
     "output_type": "execute_result",
     "data": {
      "text/plain": [
       "fiscal_year  FY21Q1  FY21Q2  FY21Q3  FY21Q4  Q3fy20-Q4fy20  Grand Total\n",
       "age_range                                                              \n",
       "10-14            82     101      42      24            224          473\n",
       "15-19           304     170     110      53            970         1607\n",
       "20-24           236      89      49      22            739         1135\n",
       "Grand Total     622     360     201      99           1933         3215"
      ],
      "text/html": [
       "<div>\n",
       "<style scoped>\n",
       "    .dataframe tbody tr th:only-of-type {\n",
       "        vertical-align: middle;\n",
       "    }\n",
       "\n",
       "    .dataframe tbody tr th {\n",
       "        vertical-align: top;\n",
       "    }\n",
       "\n",
       "    .dataframe thead th {\n",
       "        text-align: right;\n",
       "    }\n",
       "</style>\n",
       "<table border=\"1\" class=\"dataframe\">\n",
       "  <thead>\n",
       "    <tr style=\"text-align: right;\">\n",
       "      <th>fiscal_year</th>\n",
       "      <th>FY21Q1</th>\n",
       "      <th>FY21Q2</th>\n",
       "      <th>FY21Q3</th>\n",
       "      <th>FY21Q4</th>\n",
       "      <th>Q3fy20-Q4fy20</th>\n",
       "      <th>Grand Total</th>\n",
       "    </tr>\n",
       "    <tr>\n",
       "      <th>age_range</th>\n",
       "      <th></th>\n",
       "      <th></th>\n",
       "      <th></th>\n",
       "      <th></th>\n",
       "      <th></th>\n",
       "      <th></th>\n",
       "    </tr>\n",
       "  </thead>\n",
       "  <tbody>\n",
       "    <tr>\n",
       "      <th>10-14</th>\n",
       "      <td>82</td>\n",
       "      <td>101</td>\n",
       "      <td>42</td>\n",
       "      <td>24</td>\n",
       "      <td>224</td>\n",
       "      <td>473</td>\n",
       "    </tr>\n",
       "    <tr>\n",
       "      <th>15-19</th>\n",
       "      <td>304</td>\n",
       "      <td>170</td>\n",
       "      <td>110</td>\n",
       "      <td>53</td>\n",
       "      <td>970</td>\n",
       "      <td>1607</td>\n",
       "    </tr>\n",
       "    <tr>\n",
       "      <th>20-24</th>\n",
       "      <td>236</td>\n",
       "      <td>89</td>\n",
       "      <td>49</td>\n",
       "      <td>22</td>\n",
       "      <td>739</td>\n",
       "      <td>1135</td>\n",
       "    </tr>\n",
       "    <tr>\n",
       "      <th>Grand Total</th>\n",
       "      <td>622</td>\n",
       "      <td>360</td>\n",
       "      <td>201</td>\n",
       "      <td>99</td>\n",
       "      <td>1933</td>\n",
       "      <td>3215</td>\n",
       "    </tr>\n",
       "  </tbody>\n",
       "</table>\n",
       "</div>"
      ]
     },
     "metadata": {},
     "execution_count": 9
    }
   ],
   "metadata": {}
  },
  {
   "cell_type": "code",
   "execution_count": 10,
   "source": [
    "condoms_table = new_condoms.pivot_table(index=\"age_range\",columns=\"fiscal_year\",\r\n",
    "                        values='code',\r\n",
    "                        aggfunc='count',\r\n",
    "                        fill_value=0,\r\n",
    "                        margins=True,\r\n",
    "                        margins_name=\"Grand Total\"                             \r\n",
    ")\r\n",
    "condoms_table"
   ],
   "outputs": [
    {
     "output_type": "execute_result",
     "data": {
      "text/plain": [
       "fiscal_year  FY21Q1  FY21Q2  FY21Q3  FY21Q4  Q3fy20-Q4fy20  Grand Total\n",
       "age_range                                                              \n",
       "10-14            82     106      83      45            240          556\n",
       "15-19           318     202     132      55           1005         1712\n",
       "20-24           247     112      54      22            748         1183\n",
       "Grand Total     647     420     269     122           1993         3451"
      ],
      "text/html": [
       "<div>\n",
       "<style scoped>\n",
       "    .dataframe tbody tr th:only-of-type {\n",
       "        vertical-align: middle;\n",
       "    }\n",
       "\n",
       "    .dataframe tbody tr th {\n",
       "        vertical-align: top;\n",
       "    }\n",
       "\n",
       "    .dataframe thead th {\n",
       "        text-align: right;\n",
       "    }\n",
       "</style>\n",
       "<table border=\"1\" class=\"dataframe\">\n",
       "  <thead>\n",
       "    <tr style=\"text-align: right;\">\n",
       "      <th>fiscal_year</th>\n",
       "      <th>FY21Q1</th>\n",
       "      <th>FY21Q2</th>\n",
       "      <th>FY21Q3</th>\n",
       "      <th>FY21Q4</th>\n",
       "      <th>Q3fy20-Q4fy20</th>\n",
       "      <th>Grand Total</th>\n",
       "    </tr>\n",
       "    <tr>\n",
       "      <th>age_range</th>\n",
       "      <th></th>\n",
       "      <th></th>\n",
       "      <th></th>\n",
       "      <th></th>\n",
       "      <th></th>\n",
       "      <th></th>\n",
       "    </tr>\n",
       "  </thead>\n",
       "  <tbody>\n",
       "    <tr>\n",
       "      <th>10-14</th>\n",
       "      <td>82</td>\n",
       "      <td>106</td>\n",
       "      <td>83</td>\n",
       "      <td>45</td>\n",
       "      <td>240</td>\n",
       "      <td>556</td>\n",
       "    </tr>\n",
       "    <tr>\n",
       "      <th>15-19</th>\n",
       "      <td>318</td>\n",
       "      <td>202</td>\n",
       "      <td>132</td>\n",
       "      <td>55</td>\n",
       "      <td>1005</td>\n",
       "      <td>1712</td>\n",
       "    </tr>\n",
       "    <tr>\n",
       "      <th>20-24</th>\n",
       "      <td>247</td>\n",
       "      <td>112</td>\n",
       "      <td>54</td>\n",
       "      <td>22</td>\n",
       "      <td>748</td>\n",
       "      <td>1183</td>\n",
       "    </tr>\n",
       "    <tr>\n",
       "      <th>Grand Total</th>\n",
       "      <td>647</td>\n",
       "      <td>420</td>\n",
       "      <td>269</td>\n",
       "      <td>122</td>\n",
       "      <td>1993</td>\n",
       "      <td>3451</td>\n",
       "    </tr>\n",
       "  </tbody>\n",
       "</table>\n",
       "</div>"
      ]
     },
     "metadata": {},
     "execution_count": 10
    }
   ],
   "metadata": {}
  },
  {
   "cell_type": "markdown",
   "source": [
    "# depistage VIH"
   ],
   "metadata": {}
  },
  {
   "cell_type": "code",
   "execution_count": 11,
   "source": [
    "vih = base[\r\n",
    "    (base.hts==\"tested_on_given_date\")\r\n",
    "]\r\n",
    "vih.code.count()"
   ],
   "outputs": [
    {
     "output_type": "execute_result",
     "data": {
      "text/plain": [
       "1964"
      ]
     },
     "metadata": {},
     "execution_count": 11
    }
   ],
   "metadata": {}
  },
  {
   "cell_type": "code",
   "execution_count": 12,
   "source": [
    "depistage_table = vih.pivot_table(index=\"age_range\",columns=\"fiscal_year\",\r\n",
    "                        values='code',\r\n",
    "                        aggfunc='count',\r\n",
    "                        fill_value=0,\r\n",
    "                        margins=True,\r\n",
    "                        margins_name=\"Grand Total\"                             \r\n",
    ")\r\n",
    "depistage_table"
   ],
   "outputs": [
    {
     "output_type": "execute_result",
     "data": {
      "text/plain": [
       "fiscal_year  FY21Q1  FY21Q2  FY21Q3  FY21Q4  Q3fy20-Q4fy20  Grand Total\n",
       "age_range                                                              \n",
       "10-14            33      10      21       1            386          451\n",
       "15-19            89      25      26       4            648          792\n",
       "20-24           154      24      31       6            506          721\n",
       "Grand Total     276      59      78      11           1540         1964"
      ],
      "text/html": [
       "<div>\n",
       "<style scoped>\n",
       "    .dataframe tbody tr th:only-of-type {\n",
       "        vertical-align: middle;\n",
       "    }\n",
       "\n",
       "    .dataframe tbody tr th {\n",
       "        vertical-align: top;\n",
       "    }\n",
       "\n",
       "    .dataframe thead th {\n",
       "        text-align: right;\n",
       "    }\n",
       "</style>\n",
       "<table border=\"1\" class=\"dataframe\">\n",
       "  <thead>\n",
       "    <tr style=\"text-align: right;\">\n",
       "      <th>fiscal_year</th>\n",
       "      <th>FY21Q1</th>\n",
       "      <th>FY21Q2</th>\n",
       "      <th>FY21Q3</th>\n",
       "      <th>FY21Q4</th>\n",
       "      <th>Q3fy20-Q4fy20</th>\n",
       "      <th>Grand Total</th>\n",
       "    </tr>\n",
       "    <tr>\n",
       "      <th>age_range</th>\n",
       "      <th></th>\n",
       "      <th></th>\n",
       "      <th></th>\n",
       "      <th></th>\n",
       "      <th></th>\n",
       "      <th></th>\n",
       "    </tr>\n",
       "  </thead>\n",
       "  <tbody>\n",
       "    <tr>\n",
       "      <th>10-14</th>\n",
       "      <td>33</td>\n",
       "      <td>10</td>\n",
       "      <td>21</td>\n",
       "      <td>1</td>\n",
       "      <td>386</td>\n",
       "      <td>451</td>\n",
       "    </tr>\n",
       "    <tr>\n",
       "      <th>15-19</th>\n",
       "      <td>89</td>\n",
       "      <td>25</td>\n",
       "      <td>26</td>\n",
       "      <td>4</td>\n",
       "      <td>648</td>\n",
       "      <td>792</td>\n",
       "    </tr>\n",
       "    <tr>\n",
       "      <th>20-24</th>\n",
       "      <td>154</td>\n",
       "      <td>24</td>\n",
       "      <td>31</td>\n",
       "      <td>6</td>\n",
       "      <td>506</td>\n",
       "      <td>721</td>\n",
       "    </tr>\n",
       "    <tr>\n",
       "      <th>Grand Total</th>\n",
       "      <td>276</td>\n",
       "      <td>59</td>\n",
       "      <td>78</td>\n",
       "      <td>11</td>\n",
       "      <td>1540</td>\n",
       "      <td>1964</td>\n",
       "    </tr>\n",
       "  </tbody>\n",
       "</table>\n",
       "</div>"
      ]
     },
     "metadata": {},
     "execution_count": 12
    }
   ],
   "metadata": {}
  },
  {
   "cell_type": "markdown",
   "source": [
    "# Post Care Treatment"
   ],
   "metadata": {}
  },
  {
   "cell_type": "code",
   "execution_count": 13,
   "source": [
    "post_violence_care = base[\r\n",
    "    (base.post_care_treatment==\"service_gyneco_vbg\")\r\n",
    "]\r\n",
    "post_violence_care.code.count()"
   ],
   "outputs": [
    {
     "output_type": "execute_result",
     "data": {
      "text/plain": [
       "86"
      ]
     },
     "metadata": {},
     "execution_count": 13
    }
   ],
   "metadata": {}
  },
  {
   "cell_type": "code",
   "execution_count": 14,
   "source": [
    "pvc_table = post_violence_care.pivot_table(index=\"age_range\",columns=\"fiscal_year\",\r\n",
    "                        values='code',\r\n",
    "                        aggfunc='count',\r\n",
    "                        fill_value=0,\r\n",
    "                        margins=True,\r\n",
    "                        margins_name=\"Grand Total\"                             \r\n",
    ")\r\n",
    "pvc_table"
   ],
   "outputs": [
    {
     "output_type": "execute_result",
     "data": {
      "text/plain": [
       "fiscal_year  FY21Q1  FY21Q2  Q3fy20-Q4fy20  Grand Total\n",
       "age_range                                              \n",
       "10-14             3       0             16           19\n",
       "15-19             3       1             36           40\n",
       "20-24             0       0             27           27\n",
       "Grand Total       6       1             79           86"
      ],
      "text/html": [
       "<div>\n",
       "<style scoped>\n",
       "    .dataframe tbody tr th:only-of-type {\n",
       "        vertical-align: middle;\n",
       "    }\n",
       "\n",
       "    .dataframe tbody tr th {\n",
       "        vertical-align: top;\n",
       "    }\n",
       "\n",
       "    .dataframe thead th {\n",
       "        text-align: right;\n",
       "    }\n",
       "</style>\n",
       "<table border=\"1\" class=\"dataframe\">\n",
       "  <thead>\n",
       "    <tr style=\"text-align: right;\">\n",
       "      <th>fiscal_year</th>\n",
       "      <th>FY21Q1</th>\n",
       "      <th>FY21Q2</th>\n",
       "      <th>Q3fy20-Q4fy20</th>\n",
       "      <th>Grand Total</th>\n",
       "    </tr>\n",
       "    <tr>\n",
       "      <th>age_range</th>\n",
       "      <th></th>\n",
       "      <th></th>\n",
       "      <th></th>\n",
       "      <th></th>\n",
       "    </tr>\n",
       "  </thead>\n",
       "  <tbody>\n",
       "    <tr>\n",
       "      <th>10-14</th>\n",
       "      <td>3</td>\n",
       "      <td>0</td>\n",
       "      <td>16</td>\n",
       "      <td>19</td>\n",
       "    </tr>\n",
       "    <tr>\n",
       "      <th>15-19</th>\n",
       "      <td>3</td>\n",
       "      <td>1</td>\n",
       "      <td>36</td>\n",
       "      <td>40</td>\n",
       "    </tr>\n",
       "    <tr>\n",
       "      <th>20-24</th>\n",
       "      <td>0</td>\n",
       "      <td>0</td>\n",
       "      <td>27</td>\n",
       "      <td>27</td>\n",
       "    </tr>\n",
       "    <tr>\n",
       "      <th>Grand Total</th>\n",
       "      <td>6</td>\n",
       "      <td>1</td>\n",
       "      <td>79</td>\n",
       "      <td>86</td>\n",
       "    </tr>\n",
       "  </tbody>\n",
       "</table>\n",
       "</div>"
      ]
     },
     "metadata": {},
     "execution_count": 14
    }
   ],
   "metadata": {}
  },
  {
   "cell_type": "markdown",
   "source": [
    "# socio economique Approche"
   ],
   "metadata": {}
  },
  {
   "cell_type": "code",
   "execution_count": 27,
   "source": [
    "combin_socio_eco =  base[\r\n",
    "    (base.socio_eco_app==\"service_muso_gardening\")\r\n",
    "]\r\n",
    "\r\n",
    "combin_socio_eco.code.count()"
   ],
   "outputs": [
    {
     "output_type": "execute_result",
     "data": {
      "text/plain": [
       "377"
      ]
     },
     "metadata": {},
     "execution_count": 27
    }
   ],
   "metadata": {}
  },
  {
   "cell_type": "code",
   "execution_count": 28,
   "source": [
    "cse_table= combin_socio_eco.pivot_table(index=\"age_range\",columns=\"fiscal_year\",\r\n",
    "                        values='code',\r\n",
    "                        aggfunc='count',\r\n",
    "                        fill_value=0,\r\n",
    "                        margins=True,\r\n",
    "                        margins_name=\"Grand Total\"                             \r\n",
    ")\r\n",
    "cse_table"
   ],
   "outputs": [
    {
     "output_type": "execute_result",
     "data": {
      "text/plain": [
       "fiscal_year  Q3fy20-Q4fy20  Grand Total\n",
       "age_range                              \n",
       "10-14                  125          125\n",
       "15-19                  134          134\n",
       "20-24                  118          118\n",
       "Grand Total            377          377"
      ],
      "text/html": [
       "<div>\n",
       "<style scoped>\n",
       "    .dataframe tbody tr th:only-of-type {\n",
       "        vertical-align: middle;\n",
       "    }\n",
       "\n",
       "    .dataframe tbody tr th {\n",
       "        vertical-align: top;\n",
       "    }\n",
       "\n",
       "    .dataframe thead th {\n",
       "        text-align: right;\n",
       "    }\n",
       "</style>\n",
       "<table border=\"1\" class=\"dataframe\">\n",
       "  <thead>\n",
       "    <tr style=\"text-align: right;\">\n",
       "      <th>fiscal_year</th>\n",
       "      <th>Q3fy20-Q4fy20</th>\n",
       "      <th>Grand Total</th>\n",
       "    </tr>\n",
       "    <tr>\n",
       "      <th>age_range</th>\n",
       "      <th></th>\n",
       "      <th></th>\n",
       "    </tr>\n",
       "  </thead>\n",
       "  <tbody>\n",
       "    <tr>\n",
       "      <th>10-14</th>\n",
       "      <td>125</td>\n",
       "      <td>125</td>\n",
       "    </tr>\n",
       "    <tr>\n",
       "      <th>15-19</th>\n",
       "      <td>134</td>\n",
       "      <td>134</td>\n",
       "    </tr>\n",
       "    <tr>\n",
       "      <th>20-24</th>\n",
       "      <td>118</td>\n",
       "      <td>118</td>\n",
       "    </tr>\n",
       "    <tr>\n",
       "      <th>Grand Total</th>\n",
       "      <td>377</td>\n",
       "      <td>377</td>\n",
       "    </tr>\n",
       "  </tbody>\n",
       "</table>\n",
       "</div>"
      ]
     },
     "metadata": {},
     "execution_count": 28
    }
   ],
   "metadata": {}
  },
  {
   "cell_type": "markdown",
   "source": [
    "# PREP"
   ],
   "metadata": {}
  },
  {
   "cell_type": "code",
   "execution_count": 29,
   "source": [
    "prep = base[\r\n",
    "    (base.init_prep==\"tested_on_given_date\")\r\n",
    "]\r\n",
    "prep.code.count()"
   ],
   "outputs": [
    {
     "output_type": "execute_result",
     "data": {
      "text/plain": [
       "34"
      ]
     },
     "metadata": {},
     "execution_count": 29
    }
   ],
   "metadata": {}
  },
  {
   "cell_type": "code",
   "execution_count": 30,
   "source": [
    "prep_table = prep.pivot_table(index=\"age_range\",columns=\"fiscal_year\",\r\n",
    "                        values='code',\r\n",
    "                        aggfunc='count',\r\n",
    "                        fill_value=0,\r\n",
    "                        margins=True,\r\n",
    "                        margins_name=\"Grand Total\"                             \r\n",
    ")\r\n",
    "prep_table"
   ],
   "outputs": [
    {
     "output_type": "execute_result",
     "data": {
      "text/plain": [
       "fiscal_year  FY21Q1  FY21Q2  Q3fy20-Q4fy20  Grand Total\n",
       "age_range                                              \n",
       "10-14             0       0              4            4\n",
       "15-19             4       0             10           14\n",
       "20-24             6       2              8           16\n",
       "Grand Total      10       2             22           34"
      ],
      "text/html": [
       "<div>\n",
       "<style scoped>\n",
       "    .dataframe tbody tr th:only-of-type {\n",
       "        vertical-align: middle;\n",
       "    }\n",
       "\n",
       "    .dataframe tbody tr th {\n",
       "        vertical-align: top;\n",
       "    }\n",
       "\n",
       "    .dataframe thead th {\n",
       "        text-align: right;\n",
       "    }\n",
       "</style>\n",
       "<table border=\"1\" class=\"dataframe\">\n",
       "  <thead>\n",
       "    <tr style=\"text-align: right;\">\n",
       "      <th>fiscal_year</th>\n",
       "      <th>FY21Q1</th>\n",
       "      <th>FY21Q2</th>\n",
       "      <th>Q3fy20-Q4fy20</th>\n",
       "      <th>Grand Total</th>\n",
       "    </tr>\n",
       "    <tr>\n",
       "      <th>age_range</th>\n",
       "      <th></th>\n",
       "      <th></th>\n",
       "      <th></th>\n",
       "      <th></th>\n",
       "    </tr>\n",
       "  </thead>\n",
       "  <tbody>\n",
       "    <tr>\n",
       "      <th>10-14</th>\n",
       "      <td>0</td>\n",
       "      <td>0</td>\n",
       "      <td>4</td>\n",
       "      <td>4</td>\n",
       "    </tr>\n",
       "    <tr>\n",
       "      <th>15-19</th>\n",
       "      <td>4</td>\n",
       "      <td>0</td>\n",
       "      <td>10</td>\n",
       "      <td>14</td>\n",
       "    </tr>\n",
       "    <tr>\n",
       "      <th>20-24</th>\n",
       "      <td>6</td>\n",
       "      <td>2</td>\n",
       "      <td>8</td>\n",
       "      <td>16</td>\n",
       "    </tr>\n",
       "    <tr>\n",
       "      <th>Grand Total</th>\n",
       "      <td>10</td>\n",
       "      <td>2</td>\n",
       "      <td>22</td>\n",
       "      <td>34</td>\n",
       "    </tr>\n",
       "  </tbody>\n",
       "</table>\n",
       "</div>"
      ]
     },
     "metadata": {},
     "execution_count": 30
    }
   ],
   "metadata": {}
  },
  {
   "cell_type": "code",
   "execution_count": 31,
   "source": [
    "prep_sens = base[\r\n",
    "    (base.sens_prep==\"tested_on_given_date\")\r\n",
    "]\r\n",
    "prep_sens.code.count()"
   ],
   "outputs": [
    {
     "output_type": "execute_result",
     "data": {
      "text/plain": [
       "491"
      ]
     },
     "metadata": {},
     "execution_count": 31
    }
   ],
   "metadata": {}
  },
  {
   "cell_type": "code",
   "execution_count": 32,
   "source": [
    "prep_sens_table = prep_sens.pivot_table(index=\"age_range\",columns=\"fiscal_year\",\r\n",
    "                        values='code',\r\n",
    "                        aggfunc='count',\r\n",
    "                        fill_value=0,\r\n",
    "                        margins=True,\r\n",
    "                        margins_name=\"Grand Total\"                             \r\n",
    ")\r\n",
    "prep_sens_table"
   ],
   "outputs": [
    {
     "output_type": "execute_result",
     "data": {
      "text/plain": [
       "fiscal_year  FY21Q1  FY21Q2  FY21Q3  FY21Q4  Q3fy20-Q4fy20  Grand Total\n",
       "age_range                                                              \n",
       "10-14             1       1       6       0             15           23\n",
       "15-19            45      16      38       0             73          172\n",
       "20-24           114      15      33       3            131          296\n",
       "Grand Total     160      32      77       3            219          491"
      ],
      "text/html": [
       "<div>\n",
       "<style scoped>\n",
       "    .dataframe tbody tr th:only-of-type {\n",
       "        vertical-align: middle;\n",
       "    }\n",
       "\n",
       "    .dataframe tbody tr th {\n",
       "        vertical-align: top;\n",
       "    }\n",
       "\n",
       "    .dataframe thead th {\n",
       "        text-align: right;\n",
       "    }\n",
       "</style>\n",
       "<table border=\"1\" class=\"dataframe\">\n",
       "  <thead>\n",
       "    <tr style=\"text-align: right;\">\n",
       "      <th>fiscal_year</th>\n",
       "      <th>FY21Q1</th>\n",
       "      <th>FY21Q2</th>\n",
       "      <th>FY21Q3</th>\n",
       "      <th>FY21Q4</th>\n",
       "      <th>Q3fy20-Q4fy20</th>\n",
       "      <th>Grand Total</th>\n",
       "    </tr>\n",
       "    <tr>\n",
       "      <th>age_range</th>\n",
       "      <th></th>\n",
       "      <th></th>\n",
       "      <th></th>\n",
       "      <th></th>\n",
       "      <th></th>\n",
       "      <th></th>\n",
       "    </tr>\n",
       "  </thead>\n",
       "  <tbody>\n",
       "    <tr>\n",
       "      <th>10-14</th>\n",
       "      <td>1</td>\n",
       "      <td>1</td>\n",
       "      <td>6</td>\n",
       "      <td>0</td>\n",
       "      <td>15</td>\n",
       "      <td>23</td>\n",
       "    </tr>\n",
       "    <tr>\n",
       "      <th>15-19</th>\n",
       "      <td>45</td>\n",
       "      <td>16</td>\n",
       "      <td>38</td>\n",
       "      <td>0</td>\n",
       "      <td>73</td>\n",
       "      <td>172</td>\n",
       "    </tr>\n",
       "    <tr>\n",
       "      <th>20-24</th>\n",
       "      <td>114</td>\n",
       "      <td>15</td>\n",
       "      <td>33</td>\n",
       "      <td>3</td>\n",
       "      <td>131</td>\n",
       "      <td>296</td>\n",
       "    </tr>\n",
       "    <tr>\n",
       "      <th>Grand Total</th>\n",
       "      <td>160</td>\n",
       "      <td>32</td>\n",
       "      <td>77</td>\n",
       "      <td>3</td>\n",
       "      <td>219</td>\n",
       "      <td>491</td>\n",
       "    </tr>\n",
       "  </tbody>\n",
       "</table>\n",
       "</div>"
      ]
     },
     "metadata": {},
     "execution_count": 32
    }
   ],
   "metadata": {}
  },
  {
   "cell_type": "markdown",
   "source": [
    "# Primary Services"
   ],
   "metadata": {}
  },
  {
   "cell_type": "code",
   "execution_count": 33,
   "source": [
    "ps14 = base[\r\n",
    "    (base.ps_10_14==\"curriculum-servis\")\r\n",
    "]\r\n",
    "ps14.code.count()\r\n",
    "\r\n",
    "ps19 = base[\r\n",
    "    (base.ps_15_19==\"condoms&curriculum\")\r\n",
    "]\r\n",
    "ps19.code.count()\r\n",
    "\r\n",
    "ps24 = base[\r\n",
    "    (base.ps_20_24==\"condoms&curriculum\")\r\n",
    "]\r\n",
    "ps24.code.count()"
   ],
   "outputs": [
    {
     "output_type": "execute_result",
     "data": {
      "text/plain": [
       "6345"
      ]
     },
     "metadata": {},
     "execution_count": 33
    },
    {
     "output_type": "execute_result",
     "data": {
      "text/plain": [
       "1514"
      ]
     },
     "metadata": {},
     "execution_count": 33
    },
    {
     "output_type": "execute_result",
     "data": {
      "text/plain": [
       "1059"
      ]
     },
     "metadata": {},
     "execution_count": 33
    }
   ],
   "metadata": {}
  },
  {
   "cell_type": "code",
   "execution_count": 34,
   "source": [
    "ps14_table = ps14.pivot_table(index=\"age_range\",columns=\"fiscal_year\",\r\n",
    "                        values='code',\r\n",
    "                        aggfunc='count',\r\n",
    "                        fill_value=0,\r\n",
    "                        margins=True,\r\n",
    "                        margins_name=\"Grand Total\"                             \r\n",
    ")\r\n",
    "ps14_table"
   ],
   "outputs": [
    {
     "output_type": "execute_result",
     "data": {
      "text/plain": [
       "fiscal_year  FY21Q1  FY21Q2  FY21Q3  FY21Q4  Q3fy20-Q4fy20  Grand Total\n",
       "age_range                                                              \n",
       "10-14           718     609     535     179           4304         6345\n",
       "Grand Total     718     609     535     179           4304         6345"
      ],
      "text/html": [
       "<div>\n",
       "<style scoped>\n",
       "    .dataframe tbody tr th:only-of-type {\n",
       "        vertical-align: middle;\n",
       "    }\n",
       "\n",
       "    .dataframe tbody tr th {\n",
       "        vertical-align: top;\n",
       "    }\n",
       "\n",
       "    .dataframe thead th {\n",
       "        text-align: right;\n",
       "    }\n",
       "</style>\n",
       "<table border=\"1\" class=\"dataframe\">\n",
       "  <thead>\n",
       "    <tr style=\"text-align: right;\">\n",
       "      <th>fiscal_year</th>\n",
       "      <th>FY21Q1</th>\n",
       "      <th>FY21Q2</th>\n",
       "      <th>FY21Q3</th>\n",
       "      <th>FY21Q4</th>\n",
       "      <th>Q3fy20-Q4fy20</th>\n",
       "      <th>Grand Total</th>\n",
       "    </tr>\n",
       "    <tr>\n",
       "      <th>age_range</th>\n",
       "      <th></th>\n",
       "      <th></th>\n",
       "      <th></th>\n",
       "      <th></th>\n",
       "      <th></th>\n",
       "      <th></th>\n",
       "    </tr>\n",
       "  </thead>\n",
       "  <tbody>\n",
       "    <tr>\n",
       "      <th>10-14</th>\n",
       "      <td>718</td>\n",
       "      <td>609</td>\n",
       "      <td>535</td>\n",
       "      <td>179</td>\n",
       "      <td>4304</td>\n",
       "      <td>6345</td>\n",
       "    </tr>\n",
       "    <tr>\n",
       "      <th>Grand Total</th>\n",
       "      <td>718</td>\n",
       "      <td>609</td>\n",
       "      <td>535</td>\n",
       "      <td>179</td>\n",
       "      <td>4304</td>\n",
       "      <td>6345</td>\n",
       "    </tr>\n",
       "  </tbody>\n",
       "</table>\n",
       "</div>"
      ]
     },
     "metadata": {},
     "execution_count": 34
    }
   ],
   "metadata": {}
  },
  {
   "cell_type": "code",
   "execution_count": 35,
   "source": [
    "\r\n",
    "ps19_table= ps19.pivot_table(index=\"age_range\",columns=\"fiscal_year\",\r\n",
    "                        values='code',\r\n",
    "                        aggfunc='count',\r\n",
    "                        fill_value=0,\r\n",
    "                        margins=True,\r\n",
    "                        margins_name=\"Grand Total\"                             \r\n",
    ")\r\n",
    "ps19_table"
   ],
   "outputs": [
    {
     "output_type": "execute_result",
     "data": {
      "text/plain": [
       "fiscal_year  FY21Q1  FY21Q2  FY21Q3  FY21Q4  Q3fy20-Q4fy20  Grand Total\n",
       "age_range                                                              \n",
       "15-19           292     161     124      25            912         1514\n",
       "Grand Total     292     161     124      25            912         1514"
      ],
      "text/html": [
       "<div>\n",
       "<style scoped>\n",
       "    .dataframe tbody tr th:only-of-type {\n",
       "        vertical-align: middle;\n",
       "    }\n",
       "\n",
       "    .dataframe tbody tr th {\n",
       "        vertical-align: top;\n",
       "    }\n",
       "\n",
       "    .dataframe thead th {\n",
       "        text-align: right;\n",
       "    }\n",
       "</style>\n",
       "<table border=\"1\" class=\"dataframe\">\n",
       "  <thead>\n",
       "    <tr style=\"text-align: right;\">\n",
       "      <th>fiscal_year</th>\n",
       "      <th>FY21Q1</th>\n",
       "      <th>FY21Q2</th>\n",
       "      <th>FY21Q3</th>\n",
       "      <th>FY21Q4</th>\n",
       "      <th>Q3fy20-Q4fy20</th>\n",
       "      <th>Grand Total</th>\n",
       "    </tr>\n",
       "    <tr>\n",
       "      <th>age_range</th>\n",
       "      <th></th>\n",
       "      <th></th>\n",
       "      <th></th>\n",
       "      <th></th>\n",
       "      <th></th>\n",
       "      <th></th>\n",
       "    </tr>\n",
       "  </thead>\n",
       "  <tbody>\n",
       "    <tr>\n",
       "      <th>15-19</th>\n",
       "      <td>292</td>\n",
       "      <td>161</td>\n",
       "      <td>124</td>\n",
       "      <td>25</td>\n",
       "      <td>912</td>\n",
       "      <td>1514</td>\n",
       "    </tr>\n",
       "    <tr>\n",
       "      <th>Grand Total</th>\n",
       "      <td>292</td>\n",
       "      <td>161</td>\n",
       "      <td>124</td>\n",
       "      <td>25</td>\n",
       "      <td>912</td>\n",
       "      <td>1514</td>\n",
       "    </tr>\n",
       "  </tbody>\n",
       "</table>\n",
       "</div>"
      ]
     },
     "metadata": {},
     "execution_count": 35
    }
   ],
   "metadata": {}
  },
  {
   "cell_type": "code",
   "execution_count": 36,
   "source": [
    "ps24_table = ps24.pivot_table(index=\"age_range\",columns=\"fiscal_year\",\r\n",
    "                        values='code',\r\n",
    "                        aggfunc='count',\r\n",
    "                        fill_value=0,\r\n",
    "                        margins=True,\r\n",
    "                        margins_name=\"Grand Total\"                             \r\n",
    ")\r\n",
    "ps24_table"
   ],
   "outputs": [
    {
     "output_type": "execute_result",
     "data": {
      "text/plain": [
       "fiscal_year  FY21Q1  FY21Q2  FY21Q3  FY21Q4  Q3fy20-Q4fy20  Grand Total\n",
       "age_range                                                              \n",
       "20-24           221      92      40       8            698         1059\n",
       "Grand Total     221      92      40       8            698         1059"
      ],
      "text/html": [
       "<div>\n",
       "<style scoped>\n",
       "    .dataframe tbody tr th:only-of-type {\n",
       "        vertical-align: middle;\n",
       "    }\n",
       "\n",
       "    .dataframe tbody tr th {\n",
       "        vertical-align: top;\n",
       "    }\n",
       "\n",
       "    .dataframe thead th {\n",
       "        text-align: right;\n",
       "    }\n",
       "</style>\n",
       "<table border=\"1\" class=\"dataframe\">\n",
       "  <thead>\n",
       "    <tr style=\"text-align: right;\">\n",
       "      <th>fiscal_year</th>\n",
       "      <th>FY21Q1</th>\n",
       "      <th>FY21Q2</th>\n",
       "      <th>FY21Q3</th>\n",
       "      <th>FY21Q4</th>\n",
       "      <th>Q3fy20-Q4fy20</th>\n",
       "      <th>Grand Total</th>\n",
       "    </tr>\n",
       "    <tr>\n",
       "      <th>age_range</th>\n",
       "      <th></th>\n",
       "      <th></th>\n",
       "      <th></th>\n",
       "      <th></th>\n",
       "      <th></th>\n",
       "      <th></th>\n",
       "    </tr>\n",
       "  </thead>\n",
       "  <tbody>\n",
       "    <tr>\n",
       "      <th>20-24</th>\n",
       "      <td>221</td>\n",
       "      <td>92</td>\n",
       "      <td>40</td>\n",
       "      <td>8</td>\n",
       "      <td>698</td>\n",
       "      <td>1059</td>\n",
       "    </tr>\n",
       "    <tr>\n",
       "      <th>Grand Total</th>\n",
       "      <td>221</td>\n",
       "      <td>92</td>\n",
       "      <td>40</td>\n",
       "      <td>8</td>\n",
       "      <td>698</td>\n",
       "      <td>1059</td>\n",
       "    </tr>\n",
       "  </tbody>\n",
       "</table>\n",
       "</div>"
      ]
     },
     "metadata": {},
     "execution_count": 36
    }
   ],
   "metadata": {}
  },
  {
   "cell_type": "markdown",
   "source": [
    "# reporting"
   ],
   "metadata": {}
  },
  {
   "cell_type": "code",
   "execution_count": 38,
   "source": [
    "table_report = pd.ExcelWriter(f\"DREAMS_services_Quarter_enroled_{date_du_jour}.xlsx\",engine=\"xlsxwriter\")\r\n",
    "ps14_table.to_excel(table_report,sheet_name=\"ps14_table\",index=True,na_rep=\"NULL\")\r\n",
    "ps19_table.to_excel(table_report,sheet_name=\"ps19_table\",index=True,na_rep=\"NULL\")\r\n",
    "ps24_table.to_excel(table_report,sheet_name=\"ps24_table\",index=True,na_rep=\"NULL\")\r\n",
    "prep_table.to_excel(table_report,sheet_name=\"prep_table\",index=True,na_rep=\"NULL\")\r\n",
    "prep_sens_table.to_excel(table_report,sheet_name=\"prep_sens_table\",index=True,na_rep=\"NULL\")\r\n",
    "prep_sens_table.to_excel(table_report,sheet_name=\"prep_sens_table\",index=True,na_rep=\"NULL\")\r\n",
    "prep_sens_table.to_excel(table_report,sheet_name=\"prep_sens_table\",index=True,na_rep=\"NULL\")\r\n",
    "cse_table.to_excel(table_report,sheet_name=\"cse_table\",index=True,na_rep=\"NULL\")\r\n",
    "pvc_table.to_excel(table_report,sheet_name=\"pvc_table\",index=True,na_rep=\"NULL\")\r\n",
    "depistage_table.to_excel(table_report,sheet_name=\"depistage_table\",index=True,na_rep=\"NULL\")\r\n",
    "condoms_table.to_excel(table_report,sheet_name=\"condoms_table\",index=True,na_rep=\"NULL\")\r\n",
    "depistage_table.to_excel(table_report,sheet_name=\"depistage_table\",index=True,na_rep=\"NULL\")\r\n",
    "curriculum_table.to_excel(table_report,sheet_name=\"curriculum_table\",index=True,na_rep=\"NULL\")\r\n",
    "base_table.to_excel(table_report,sheet_name=\"base_table\",index=True,na_rep=\"NULL\")\r\n",
    "table_report.save()"
   ],
   "outputs": [],
   "metadata": {}
  },
  {
   "cell_type": "code",
   "execution_count": null,
   "source": [],
   "outputs": [],
   "metadata": {}
  }
 ],
 "metadata": {
  "orig_nbformat": 4,
  "language_info": {
   "name": "python",
   "version": "3.9.6",
   "mimetype": "text/x-python",
   "codemirror_mode": {
    "name": "ipython",
    "version": 3
   },
   "pygments_lexer": "ipython3",
   "nbconvert_exporter": "python",
   "file_extension": ".py"
  },
  "kernelspec": {
   "name": "python3",
   "display_name": "Python 3.9.6 64-bit"
  },
  "interpreter": {
   "hash": "4534460e0bdca1b390927d45471088fb3501d39abc4e3f2cee293892e17d7fc6"
  }
 },
 "nbformat": 4,
 "nbformat_minor": 2
}