{
 "cells": [
  {
   "cell_type": "code",
   "execution_count": 1,
   "source": [
    "%run \"../LOS.ipynb\"\r\n",
    "\r\n",
    "import matplotlib.pyplot as plt\r\n",
    "%matplotlib inline\r\n",
    "import seaborn as sns\r\n",
    "\r\n",
    "from IPython.core.interactiveshell import InteractiveShell\r\n",
    "InteractiveShell.ast_node_interactivity = \"all\""
   ],
   "outputs": [],
   "metadata": {}
  },
  {
   "cell_type": "code",
   "execution_count": 2,
   "source": [
    "df = dreams_mastersheet"
   ],
   "outputs": [],
   "metadata": {}
  },
  {
   "cell_type": "code",
   "execution_count": 3,
   "source": [
    "date_du_jour = datetime.today().strftime(\"%d_%m_%Y\")"
   ],
   "outputs": [],
   "metadata": {}
  },
  {
   "cell_type": "markdown",
   "source": [
    "# La cohort des beneficaires"
   ],
   "metadata": {}
  },
  {
   "cell_type": "code",
   "execution_count": 4,
   "source": [
    "base = df[\r\n",
    "    (df.age_range!=\"not_valid_age\")\r\n",
    "    &(df.age_range!=\"25-29\")\r\n",
    "    &(df.timeOn_system==\"required_Time_on\")\r\n",
    "]\r\n",
    "base.code.count()\r\n",
    "base_table = base.pivot_table(index=\"age_range\",columns=\"fiscal_year\",\r\n",
    "                        values='code',\r\n",
    "                        aggfunc='count',\r\n",
    "                        fill_value=0,\r\n",
    "                        margins=True,\r\n",
    "                        margins_name=\"Grand Total\"                             \r\n",
    ")\r\n",
    "base_table"
   ],
   "outputs": [
    {
     "output_type": "execute_result",
     "data": {
      "text/plain": [
       "19579"
      ]
     },
     "metadata": {},
     "execution_count": 4
    },
    {
     "output_type": "execute_result",
     "data": {
      "text/html": [
       "<div>\n",
       "<style scoped>\n",
       "    .dataframe tbody tr th:only-of-type {\n",
       "        vertical-align: middle;\n",
       "    }\n",
       "\n",
       "    .dataframe tbody tr th {\n",
       "        vertical-align: top;\n",
       "    }\n",
       "\n",
       "    .dataframe thead th {\n",
       "        text-align: right;\n",
       "    }\n",
       "</style>\n",
       "<table border=\"1\" class=\"dataframe\">\n",
       "  <thead>\n",
       "    <tr style=\"text-align: right;\">\n",
       "      <th>fiscal_year</th>\n",
       "      <th>FY21Q1</th>\n",
       "      <th>FY21Q2</th>\n",
       "      <th>FY21Q3</th>\n",
       "      <th>FY21Q4</th>\n",
       "      <th>Q3fy20-Q4fy20</th>\n",
       "      <th>Grand Total</th>\n",
       "    </tr>\n",
       "    <tr>\n",
       "      <th>age_range</th>\n",
       "      <th></th>\n",
       "      <th></th>\n",
       "      <th></th>\n",
       "      <th></th>\n",
       "      <th></th>\n",
       "      <th></th>\n",
       "    </tr>\n",
       "  </thead>\n",
       "  <tbody>\n",
       "    <tr>\n",
       "      <th>10-14</th>\n",
       "      <td>930</td>\n",
       "      <td>817</td>\n",
       "      <td>724</td>\n",
       "      <td>350</td>\n",
       "      <td>5101</td>\n",
       "      <td>7922</td>\n",
       "    </tr>\n",
       "    <tr>\n",
       "      <th>15-19</th>\n",
       "      <td>1008</td>\n",
       "      <td>711</td>\n",
       "      <td>437</td>\n",
       "      <td>242</td>\n",
       "      <td>5297</td>\n",
       "      <td>7695</td>\n",
       "    </tr>\n",
       "    <tr>\n",
       "      <th>20-24</th>\n",
       "      <td>521</td>\n",
       "      <td>340</td>\n",
       "      <td>195</td>\n",
       "      <td>98</td>\n",
       "      <td>2808</td>\n",
       "      <td>3962</td>\n",
       "    </tr>\n",
       "    <tr>\n",
       "      <th>Grand Total</th>\n",
       "      <td>2459</td>\n",
       "      <td>1868</td>\n",
       "      <td>1356</td>\n",
       "      <td>690</td>\n",
       "      <td>13206</td>\n",
       "      <td>19579</td>\n",
       "    </tr>\n",
       "  </tbody>\n",
       "</table>\n",
       "</div>"
      ],
      "text/plain": [
       "fiscal_year  FY21Q1  FY21Q2  FY21Q3  FY21Q4  Q3fy20-Q4fy20  Grand Total\n",
       "age_range                                                              \n",
       "10-14           930     817     724     350           5101         7922\n",
       "15-19          1008     711     437     242           5297         7695\n",
       "20-24           521     340     195      98           2808         3962\n",
       "Grand Total    2459    1868    1356     690          13206        19579"
      ]
     },
     "metadata": {},
     "execution_count": 4
    }
   ],
   "metadata": {}
  },
  {
   "cell_type": "code",
   "execution_count": 5,
   "source": [
    "base18plus = df[\r\n",
    "    (df.newage_range!=\"not_valid_age\")\r\n",
    "    &(df.newage_range!=\"25-29\")\r\n",
    "    &(df.newage_range!=\"10-17\")\r\n",
    "    &(df.timeOn_system==\"required_Time_on\")\r\n",
    "]\r\n",
    "base18plus.code.count()\r\n",
    "base18plus_table = base18plus.pivot_table(index=\"newage_range\",columns=\"fiscal_year\",\r\n",
    "                        values='code',\r\n",
    "                        aggfunc='count',\r\n",
    "                        fill_value=0,\r\n",
    "                        margins=True,\r\n",
    "                        margins_name=\"Grand Total\"                             \r\n",
    ")\r\n",
    "base18plus_table"
   ],
   "outputs": [
    {
     "output_type": "execute_result",
     "data": {
      "text/plain": [
       "6526"
      ]
     },
     "metadata": {},
     "execution_count": 5
    },
    {
     "output_type": "execute_result",
     "data": {
      "text/html": [
       "<div>\n",
       "<style scoped>\n",
       "    .dataframe tbody tr th:only-of-type {\n",
       "        vertical-align: middle;\n",
       "    }\n",
       "\n",
       "    .dataframe tbody tr th {\n",
       "        vertical-align: top;\n",
       "    }\n",
       "\n",
       "    .dataframe thead th {\n",
       "        text-align: right;\n",
       "    }\n",
       "</style>\n",
       "<table border=\"1\" class=\"dataframe\">\n",
       "  <thead>\n",
       "    <tr style=\"text-align: right;\">\n",
       "      <th>fiscal_year</th>\n",
       "      <th>FY21Q1</th>\n",
       "      <th>FY21Q2</th>\n",
       "      <th>FY21Q3</th>\n",
       "      <th>FY21Q4</th>\n",
       "      <th>Q3fy20-Q4fy20</th>\n",
       "      <th>Grand Total</th>\n",
       "    </tr>\n",
       "    <tr>\n",
       "      <th>newage_range</th>\n",
       "      <th></th>\n",
       "      <th></th>\n",
       "      <th></th>\n",
       "      <th></th>\n",
       "      <th></th>\n",
       "      <th></th>\n",
       "    </tr>\n",
       "  </thead>\n",
       "  <tbody>\n",
       "    <tr>\n",
       "      <th>18-19</th>\n",
       "      <td>342</td>\n",
       "      <td>242</td>\n",
       "      <td>132</td>\n",
       "      <td>70</td>\n",
       "      <td>1778</td>\n",
       "      <td>2564</td>\n",
       "    </tr>\n",
       "    <tr>\n",
       "      <th>20-24</th>\n",
       "      <td>521</td>\n",
       "      <td>340</td>\n",
       "      <td>195</td>\n",
       "      <td>98</td>\n",
       "      <td>2808</td>\n",
       "      <td>3962</td>\n",
       "    </tr>\n",
       "    <tr>\n",
       "      <th>Grand Total</th>\n",
       "      <td>863</td>\n",
       "      <td>582</td>\n",
       "      <td>327</td>\n",
       "      <td>168</td>\n",
       "      <td>4586</td>\n",
       "      <td>6526</td>\n",
       "    </tr>\n",
       "  </tbody>\n",
       "</table>\n",
       "</div>"
      ],
      "text/plain": [
       "fiscal_year   FY21Q1  FY21Q2  FY21Q3  FY21Q4  Q3fy20-Q4fy20  Grand Total\n",
       "newage_range                                                            \n",
       "18-19            342     242     132      70           1778         2564\n",
       "20-24            521     340     195      98           2808         3962\n",
       "Grand Total      863     582     327     168           4586         6526"
      ]
     },
     "metadata": {},
     "execution_count": 5
    }
   ],
   "metadata": {}
  },
  {
   "cell_type": "markdown",
   "source": [
    "# curriculum"
   ],
   "metadata": {}
  },
  {
   "cell_type": "code",
   "execution_count": 6,
   "source": [
    "curriculum_complet = base[\r\n",
    "    (base.dreams_curriculum==\"curriculum_completed\")\r\n",
    "]\r\n",
    "curriculum_complet.code.count()\r\n",
    "\r\n",
    "curriculum_table = curriculum_complet.pivot_table(index=\"age_range\",columns=\"fiscal_year\",\r\n",
    "                        values='code',\r\n",
    "                        aggfunc='count',\r\n",
    "                        fill_value=0,\r\n",
    "                        margins=True,\r\n",
    "                        margins_name=\"Grand Total\"                             \r\n",
    ")\r\n",
    "curriculum_table"
   ],
   "outputs": [
    {
     "output_type": "execute_result",
     "data": {
      "text/plain": [
       "16440"
      ]
     },
     "metadata": {},
     "execution_count": 6
    },
    {
     "output_type": "execute_result",
     "data": {
      "text/html": [
       "<div>\n",
       "<style scoped>\n",
       "    .dataframe tbody tr th:only-of-type {\n",
       "        vertical-align: middle;\n",
       "    }\n",
       "\n",
       "    .dataframe tbody tr th {\n",
       "        vertical-align: top;\n",
       "    }\n",
       "\n",
       "    .dataframe thead th {\n",
       "        text-align: right;\n",
       "    }\n",
       "</style>\n",
       "<table border=\"1\" class=\"dataframe\">\n",
       "  <thead>\n",
       "    <tr style=\"text-align: right;\">\n",
       "      <th>fiscal_year</th>\n",
       "      <th>FY21Q1</th>\n",
       "      <th>FY21Q2</th>\n",
       "      <th>FY21Q3</th>\n",
       "      <th>FY21Q4</th>\n",
       "      <th>Q3fy20-Q4fy20</th>\n",
       "      <th>Grand Total</th>\n",
       "    </tr>\n",
       "    <tr>\n",
       "      <th>age_range</th>\n",
       "      <th></th>\n",
       "      <th></th>\n",
       "      <th></th>\n",
       "      <th></th>\n",
       "      <th></th>\n",
       "      <th></th>\n",
       "    </tr>\n",
       "  </thead>\n",
       "  <tbody>\n",
       "    <tr>\n",
       "      <th>10-14</th>\n",
       "      <td>744</td>\n",
       "      <td>627</td>\n",
       "      <td>598</td>\n",
       "      <td>255</td>\n",
       "      <td>4367</td>\n",
       "      <td>6591</td>\n",
       "    </tr>\n",
       "    <tr>\n",
       "      <th>15-19</th>\n",
       "      <td>813</td>\n",
       "      <td>535</td>\n",
       "      <td>379</td>\n",
       "      <td>220</td>\n",
       "      <td>4533</td>\n",
       "      <td>6480</td>\n",
       "    </tr>\n",
       "    <tr>\n",
       "      <th>20-24</th>\n",
       "      <td>411</td>\n",
       "      <td>271</td>\n",
       "      <td>146</td>\n",
       "      <td>85</td>\n",
       "      <td>2456</td>\n",
       "      <td>3369</td>\n",
       "    </tr>\n",
       "    <tr>\n",
       "      <th>Grand Total</th>\n",
       "      <td>1968</td>\n",
       "      <td>1433</td>\n",
       "      <td>1123</td>\n",
       "      <td>560</td>\n",
       "      <td>11356</td>\n",
       "      <td>16440</td>\n",
       "    </tr>\n",
       "  </tbody>\n",
       "</table>\n",
       "</div>"
      ],
      "text/plain": [
       "fiscal_year  FY21Q1  FY21Q2  FY21Q3  FY21Q4  Q3fy20-Q4fy20  Grand Total\n",
       "age_range                                                              \n",
       "10-14           744     627     598     255           4367         6591\n",
       "15-19           813     535     379     220           4533         6480\n",
       "20-24           411     271     146      85           2456         3369\n",
       "Grand Total    1968    1433    1123     560          11356        16440"
      ]
     },
     "metadata": {},
     "execution_count": 6
    }
   ],
   "metadata": {}
  },
  {
   "cell_type": "code",
   "execution_count": 7,
   "source": [
    "curriculum_inc = base[\r\n",
    "    (base.dreams_curriculum==\"curriculum_inc\")\r\n",
    "]\r\n",
    "curriculum_inc.code.count()\r\n",
    "\r\n",
    "curriculum_inc_table = curriculum_inc.pivot_table(index=\"age_range\",columns=\"fiscal_year\",\r\n",
    "                        values='code',\r\n",
    "                        aggfunc='count',\r\n",
    "                        fill_value=0,\r\n",
    "                        margins=True,\r\n",
    "                        margins_name=\"Grand Total\"                             \r\n",
    ")\r\n",
    "curriculum_inc_table"
   ],
   "outputs": [
    {
     "output_type": "execute_result",
     "data": {
      "text/plain": [
       "3139"
      ]
     },
     "metadata": {},
     "execution_count": 7
    },
    {
     "output_type": "execute_result",
     "data": {
      "text/html": [
       "<div>\n",
       "<style scoped>\n",
       "    .dataframe tbody tr th:only-of-type {\n",
       "        vertical-align: middle;\n",
       "    }\n",
       "\n",
       "    .dataframe tbody tr th {\n",
       "        vertical-align: top;\n",
       "    }\n",
       "\n",
       "    .dataframe thead th {\n",
       "        text-align: right;\n",
       "    }\n",
       "</style>\n",
       "<table border=\"1\" class=\"dataframe\">\n",
       "  <thead>\n",
       "    <tr style=\"text-align: right;\">\n",
       "      <th>fiscal_year</th>\n",
       "      <th>FY21Q1</th>\n",
       "      <th>FY21Q2</th>\n",
       "      <th>FY21Q3</th>\n",
       "      <th>FY21Q4</th>\n",
       "      <th>Q3fy20-Q4fy20</th>\n",
       "      <th>Grand Total</th>\n",
       "    </tr>\n",
       "    <tr>\n",
       "      <th>age_range</th>\n",
       "      <th></th>\n",
       "      <th></th>\n",
       "      <th></th>\n",
       "      <th></th>\n",
       "      <th></th>\n",
       "      <th></th>\n",
       "    </tr>\n",
       "  </thead>\n",
       "  <tbody>\n",
       "    <tr>\n",
       "      <th>10-14</th>\n",
       "      <td>186</td>\n",
       "      <td>190</td>\n",
       "      <td>126</td>\n",
       "      <td>95</td>\n",
       "      <td>734</td>\n",
       "      <td>1331</td>\n",
       "    </tr>\n",
       "    <tr>\n",
       "      <th>15-19</th>\n",
       "      <td>195</td>\n",
       "      <td>176</td>\n",
       "      <td>58</td>\n",
       "      <td>22</td>\n",
       "      <td>764</td>\n",
       "      <td>1215</td>\n",
       "    </tr>\n",
       "    <tr>\n",
       "      <th>20-24</th>\n",
       "      <td>110</td>\n",
       "      <td>69</td>\n",
       "      <td>49</td>\n",
       "      <td>13</td>\n",
       "      <td>352</td>\n",
       "      <td>593</td>\n",
       "    </tr>\n",
       "    <tr>\n",
       "      <th>Grand Total</th>\n",
       "      <td>491</td>\n",
       "      <td>435</td>\n",
       "      <td>233</td>\n",
       "      <td>130</td>\n",
       "      <td>1850</td>\n",
       "      <td>3139</td>\n",
       "    </tr>\n",
       "  </tbody>\n",
       "</table>\n",
       "</div>"
      ],
      "text/plain": [
       "fiscal_year  FY21Q1  FY21Q2  FY21Q3  FY21Q4  Q3fy20-Q4fy20  Grand Total\n",
       "age_range                                                              \n",
       "10-14           186     190     126      95            734         1331\n",
       "15-19           195     176      58      22            764         1215\n",
       "20-24           110      69      49      13            352          593\n",
       "Grand Total     491     435     233     130           1850         3139"
      ]
     },
     "metadata": {},
     "execution_count": 7
    }
   ],
   "metadata": {}
  },
  {
   "cell_type": "markdown",
   "source": [
    "# Condoms"
   ],
   "metadata": {}
  },
  {
   "cell_type": "code",
   "execution_count": 8,
   "source": [
    "condoms = base[\r\n",
    "    (base.condoms==\"tested_on_given_date\")\r\n",
    "]\r\n",
    "\r\n",
    "condoms.code.count()\r\n",
    "\r\n",
    "new_condoms = base[\r\n",
    "    (base.new_condoms==\"sensOuRecu\")\r\n",
    "]\r\n",
    "\r\n",
    "new_condoms.code.count()"
   ],
   "outputs": [
    {
     "output_type": "execute_result",
     "data": {
      "text/plain": [
       "3300"
      ]
     },
     "metadata": {},
     "execution_count": 8
    },
    {
     "output_type": "execute_result",
     "data": {
      "text/plain": [
       "3579"
      ]
     },
     "metadata": {},
     "execution_count": 8
    }
   ],
   "metadata": {}
  },
  {
   "cell_type": "code",
   "execution_count": 9,
   "source": [
    "condoms.pivot_table(index=\"age_range\",columns=\"fiscal_year\",\r\n",
    "                        values='code',\r\n",
    "                        aggfunc='count',\r\n",
    "                        fill_value=0,\r\n",
    "                        margins=True,\r\n",
    "                        margins_name=\"Grand Total\"                             \r\n",
    ")"
   ],
   "outputs": [
    {
     "output_type": "execute_result",
     "data": {
      "text/html": [
       "<div>\n",
       "<style scoped>\n",
       "    .dataframe tbody tr th:only-of-type {\n",
       "        vertical-align: middle;\n",
       "    }\n",
       "\n",
       "    .dataframe tbody tr th {\n",
       "        vertical-align: top;\n",
       "    }\n",
       "\n",
       "    .dataframe thead th {\n",
       "        text-align: right;\n",
       "    }\n",
       "</style>\n",
       "<table border=\"1\" class=\"dataframe\">\n",
       "  <thead>\n",
       "    <tr style=\"text-align: right;\">\n",
       "      <th>fiscal_year</th>\n",
       "      <th>FY21Q1</th>\n",
       "      <th>FY21Q2</th>\n",
       "      <th>FY21Q3</th>\n",
       "      <th>FY21Q4</th>\n",
       "      <th>Q3fy20-Q4fy20</th>\n",
       "      <th>Grand Total</th>\n",
       "    </tr>\n",
       "    <tr>\n",
       "      <th>age_range</th>\n",
       "      <th></th>\n",
       "      <th></th>\n",
       "      <th></th>\n",
       "      <th></th>\n",
       "      <th></th>\n",
       "      <th></th>\n",
       "    </tr>\n",
       "  </thead>\n",
       "  <tbody>\n",
       "    <tr>\n",
       "      <th>10-14</th>\n",
       "      <td>82</td>\n",
       "      <td>101</td>\n",
       "      <td>45</td>\n",
       "      <td>25</td>\n",
       "      <td>221</td>\n",
       "      <td>474</td>\n",
       "    </tr>\n",
       "    <tr>\n",
       "      <th>15-19</th>\n",
       "      <td>307</td>\n",
       "      <td>171</td>\n",
       "      <td>132</td>\n",
       "      <td>80</td>\n",
       "      <td>972</td>\n",
       "      <td>1662</td>\n",
       "    </tr>\n",
       "    <tr>\n",
       "      <th>20-24</th>\n",
       "      <td>238</td>\n",
       "      <td>92</td>\n",
       "      <td>57</td>\n",
       "      <td>28</td>\n",
       "      <td>749</td>\n",
       "      <td>1164</td>\n",
       "    </tr>\n",
       "    <tr>\n",
       "      <th>Grand Total</th>\n",
       "      <td>627</td>\n",
       "      <td>364</td>\n",
       "      <td>234</td>\n",
       "      <td>133</td>\n",
       "      <td>1942</td>\n",
       "      <td>3300</td>\n",
       "    </tr>\n",
       "  </tbody>\n",
       "</table>\n",
       "</div>"
      ],
      "text/plain": [
       "fiscal_year  FY21Q1  FY21Q2  FY21Q3  FY21Q4  Q3fy20-Q4fy20  Grand Total\n",
       "age_range                                                              \n",
       "10-14            82     101      45      25            221          474\n",
       "15-19           307     171     132      80            972         1662\n",
       "20-24           238      92      57      28            749         1164\n",
       "Grand Total     627     364     234     133           1942         3300"
      ]
     },
     "metadata": {},
     "execution_count": 9
    }
   ],
   "metadata": {}
  },
  {
   "cell_type": "code",
   "execution_count": 10,
   "source": [
    "condoms_table = new_condoms.pivot_table(index=\"age_range\",columns=\"fiscal_year\",\r\n",
    "                        values='code',\r\n",
    "                        aggfunc='count',\r\n",
    "                        fill_value=0,\r\n",
    "                        margins=True,\r\n",
    "                        margins_name=\"Grand Total\"                             \r\n",
    ")\r\n",
    "condoms_table"
   ],
   "outputs": [
    {
     "output_type": "execute_result",
     "data": {
      "text/html": [
       "<div>\n",
       "<style scoped>\n",
       "    .dataframe tbody tr th:only-of-type {\n",
       "        vertical-align: middle;\n",
       "    }\n",
       "\n",
       "    .dataframe tbody tr th {\n",
       "        vertical-align: top;\n",
       "    }\n",
       "\n",
       "    .dataframe thead th {\n",
       "        text-align: right;\n",
       "    }\n",
       "</style>\n",
       "<table border=\"1\" class=\"dataframe\">\n",
       "  <thead>\n",
       "    <tr style=\"text-align: right;\">\n",
       "      <th>fiscal_year</th>\n",
       "      <th>FY21Q1</th>\n",
       "      <th>FY21Q2</th>\n",
       "      <th>FY21Q3</th>\n",
       "      <th>FY21Q4</th>\n",
       "      <th>Q3fy20-Q4fy20</th>\n",
       "      <th>Grand Total</th>\n",
       "    </tr>\n",
       "    <tr>\n",
       "      <th>age_range</th>\n",
       "      <th></th>\n",
       "      <th></th>\n",
       "      <th></th>\n",
       "      <th></th>\n",
       "      <th></th>\n",
       "      <th></th>\n",
       "    </tr>\n",
       "  </thead>\n",
       "  <tbody>\n",
       "    <tr>\n",
       "      <th>10-14</th>\n",
       "      <td>82</td>\n",
       "      <td>106</td>\n",
       "      <td>91</td>\n",
       "      <td>50</td>\n",
       "      <td>244</td>\n",
       "      <td>573</td>\n",
       "    </tr>\n",
       "    <tr>\n",
       "      <th>15-19</th>\n",
       "      <td>325</td>\n",
       "      <td>207</td>\n",
       "      <td>159</td>\n",
       "      <td>86</td>\n",
       "      <td>1014</td>\n",
       "      <td>1791</td>\n",
       "    </tr>\n",
       "    <tr>\n",
       "      <th>20-24</th>\n",
       "      <td>249</td>\n",
       "      <td>115</td>\n",
       "      <td>64</td>\n",
       "      <td>28</td>\n",
       "      <td>759</td>\n",
       "      <td>1215</td>\n",
       "    </tr>\n",
       "    <tr>\n",
       "      <th>Grand Total</th>\n",
       "      <td>656</td>\n",
       "      <td>428</td>\n",
       "      <td>314</td>\n",
       "      <td>164</td>\n",
       "      <td>2017</td>\n",
       "      <td>3579</td>\n",
       "    </tr>\n",
       "  </tbody>\n",
       "</table>\n",
       "</div>"
      ],
      "text/plain": [
       "fiscal_year  FY21Q1  FY21Q2  FY21Q3  FY21Q4  Q3fy20-Q4fy20  Grand Total\n",
       "age_range                                                              \n",
       "10-14            82     106      91      50            244          573\n",
       "15-19           325     207     159      86           1014         1791\n",
       "20-24           249     115      64      28            759         1215\n",
       "Grand Total     656     428     314     164           2017         3579"
      ]
     },
     "metadata": {},
     "execution_count": 10
    }
   ],
   "metadata": {}
  },
  {
   "cell_type": "markdown",
   "source": [
    "# depistage VIH"
   ],
   "metadata": {}
  },
  {
   "cell_type": "code",
   "execution_count": 11,
   "source": [
    "vih = base[\r\n",
    "    (base.hts==\"tested_on_given_date\")\r\n",
    "]\r\n",
    "vih.code.count()"
   ],
   "outputs": [
    {
     "output_type": "execute_result",
     "data": {
      "text/plain": [
       "1967"
      ]
     },
     "metadata": {},
     "execution_count": 11
    }
   ],
   "metadata": {}
  },
  {
   "cell_type": "code",
   "execution_count": 12,
   "source": [
    "depistage_table = vih.pivot_table(index=\"age_range\",columns=\"fiscal_year\",\r\n",
    "                        values='code',\r\n",
    "                        aggfunc='count',\r\n",
    "                        fill_value=0,\r\n",
    "                        margins=True,\r\n",
    "                        margins_name=\"Grand Total\"                             \r\n",
    ")\r\n",
    "depistage_table"
   ],
   "outputs": [
    {
     "output_type": "execute_result",
     "data": {
      "text/html": [
       "<div>\n",
       "<style scoped>\n",
       "    .dataframe tbody tr th:only-of-type {\n",
       "        vertical-align: middle;\n",
       "    }\n",
       "\n",
       "    .dataframe tbody tr th {\n",
       "        vertical-align: top;\n",
       "    }\n",
       "\n",
       "    .dataframe thead th {\n",
       "        text-align: right;\n",
       "    }\n",
       "</style>\n",
       "<table border=\"1\" class=\"dataframe\">\n",
       "  <thead>\n",
       "    <tr style=\"text-align: right;\">\n",
       "      <th>fiscal_year</th>\n",
       "      <th>FY21Q1</th>\n",
       "      <th>FY21Q2</th>\n",
       "      <th>FY21Q3</th>\n",
       "      <th>FY21Q4</th>\n",
       "      <th>Q3fy20-Q4fy20</th>\n",
       "      <th>Grand Total</th>\n",
       "    </tr>\n",
       "    <tr>\n",
       "      <th>age_range</th>\n",
       "      <th></th>\n",
       "      <th></th>\n",
       "      <th></th>\n",
       "      <th></th>\n",
       "      <th></th>\n",
       "      <th></th>\n",
       "    </tr>\n",
       "  </thead>\n",
       "  <tbody>\n",
       "    <tr>\n",
       "      <th>10-14</th>\n",
       "      <td>33</td>\n",
       "      <td>10</td>\n",
       "      <td>21</td>\n",
       "      <td>1</td>\n",
       "      <td>385</td>\n",
       "      <td>450</td>\n",
       "    </tr>\n",
       "    <tr>\n",
       "      <th>15-19</th>\n",
       "      <td>90</td>\n",
       "      <td>25</td>\n",
       "      <td>26</td>\n",
       "      <td>4</td>\n",
       "      <td>648</td>\n",
       "      <td>793</td>\n",
       "    </tr>\n",
       "    <tr>\n",
       "      <th>20-24</th>\n",
       "      <td>153</td>\n",
       "      <td>25</td>\n",
       "      <td>31</td>\n",
       "      <td>6</td>\n",
       "      <td>509</td>\n",
       "      <td>724</td>\n",
       "    </tr>\n",
       "    <tr>\n",
       "      <th>Grand Total</th>\n",
       "      <td>276</td>\n",
       "      <td>60</td>\n",
       "      <td>78</td>\n",
       "      <td>11</td>\n",
       "      <td>1542</td>\n",
       "      <td>1967</td>\n",
       "    </tr>\n",
       "  </tbody>\n",
       "</table>\n",
       "</div>"
      ],
      "text/plain": [
       "fiscal_year  FY21Q1  FY21Q2  FY21Q3  FY21Q4  Q3fy20-Q4fy20  Grand Total\n",
       "age_range                                                              \n",
       "10-14            33      10      21       1            385          450\n",
       "15-19            90      25      26       4            648          793\n",
       "20-24           153      25      31       6            509          724\n",
       "Grand Total     276      60      78      11           1542         1967"
      ]
     },
     "metadata": {},
     "execution_count": 12
    }
   ],
   "metadata": {}
  },
  {
   "cell_type": "markdown",
   "source": [
    "# Post Care Treatment"
   ],
   "metadata": {}
  },
  {
   "cell_type": "code",
   "execution_count": 13,
   "source": [
    "post_violence_care = base[\r\n",
    "    (base.post_care_treatment==\"service_gyneco_vbg\")\r\n",
    "]\r\n",
    "post_violence_care.code.count()"
   ],
   "outputs": [
    {
     "output_type": "execute_result",
     "data": {
      "text/plain": [
       "85"
      ]
     },
     "metadata": {},
     "execution_count": 13
    }
   ],
   "metadata": {}
  },
  {
   "cell_type": "code",
   "execution_count": 14,
   "source": [
    "pvc_table = post_violence_care.pivot_table(index=\"age_range\",columns=\"fiscal_year\",\r\n",
    "                        values='code',\r\n",
    "                        aggfunc='count',\r\n",
    "                        fill_value=0,\r\n",
    "                        margins=True,\r\n",
    "                        margins_name=\"Grand Total\"                             \r\n",
    ")\r\n",
    "pvc_table"
   ],
   "outputs": [
    {
     "output_type": "execute_result",
     "data": {
      "text/html": [
       "<div>\n",
       "<style scoped>\n",
       "    .dataframe tbody tr th:only-of-type {\n",
       "        vertical-align: middle;\n",
       "    }\n",
       "\n",
       "    .dataframe tbody tr th {\n",
       "        vertical-align: top;\n",
       "    }\n",
       "\n",
       "    .dataframe thead th {\n",
       "        text-align: right;\n",
       "    }\n",
       "</style>\n",
       "<table border=\"1\" class=\"dataframe\">\n",
       "  <thead>\n",
       "    <tr style=\"text-align: right;\">\n",
       "      <th>fiscal_year</th>\n",
       "      <th>FY21Q1</th>\n",
       "      <th>FY21Q2</th>\n",
       "      <th>Q3fy20-Q4fy20</th>\n",
       "      <th>Grand Total</th>\n",
       "    </tr>\n",
       "    <tr>\n",
       "      <th>age_range</th>\n",
       "      <th></th>\n",
       "      <th></th>\n",
       "      <th></th>\n",
       "      <th></th>\n",
       "    </tr>\n",
       "  </thead>\n",
       "  <tbody>\n",
       "    <tr>\n",
       "      <th>10-14</th>\n",
       "      <td>3</td>\n",
       "      <td>0</td>\n",
       "      <td>16</td>\n",
       "      <td>19</td>\n",
       "    </tr>\n",
       "    <tr>\n",
       "      <th>15-19</th>\n",
       "      <td>3</td>\n",
       "      <td>1</td>\n",
       "      <td>35</td>\n",
       "      <td>39</td>\n",
       "    </tr>\n",
       "    <tr>\n",
       "      <th>20-24</th>\n",
       "      <td>0</td>\n",
       "      <td>0</td>\n",
       "      <td>27</td>\n",
       "      <td>27</td>\n",
       "    </tr>\n",
       "    <tr>\n",
       "      <th>Grand Total</th>\n",
       "      <td>6</td>\n",
       "      <td>1</td>\n",
       "      <td>78</td>\n",
       "      <td>85</td>\n",
       "    </tr>\n",
       "  </tbody>\n",
       "</table>\n",
       "</div>"
      ],
      "text/plain": [
       "fiscal_year  FY21Q1  FY21Q2  Q3fy20-Q4fy20  Grand Total\n",
       "age_range                                              \n",
       "10-14             3       0             16           19\n",
       "15-19             3       1             35           39\n",
       "20-24             0       0             27           27\n",
       "Grand Total       6       1             78           85"
      ]
     },
     "metadata": {},
     "execution_count": 14
    }
   ],
   "metadata": {}
  },
  {
   "cell_type": "markdown",
   "source": [
    "# socio economique Approche"
   ],
   "metadata": {}
  },
  {
   "cell_type": "code",
   "execution_count": 15,
   "source": [
    "combin_socio_eco =  base[\r\n",
    "    (base.socio_eco_app==\"service_muso_gardening\")\r\n",
    "]\r\n",
    "\r\n",
    "combin_socio_eco.code.count()"
   ],
   "outputs": [
    {
     "output_type": "execute_result",
     "data": {
      "text/plain": [
       "515"
      ]
     },
     "metadata": {},
     "execution_count": 15
    }
   ],
   "metadata": {}
  },
  {
   "cell_type": "code",
   "execution_count": 16,
   "source": [
    "cse_table= combin_socio_eco.pivot_table(index=\"age_range\",columns=\"fiscal_year\",\r\n",
    "                        values='code',\r\n",
    "                        aggfunc='count',\r\n",
    "                        fill_value=0,\r\n",
    "                        margins=True,\r\n",
    "                        margins_name=\"Grand Total\"                             \r\n",
    ")\r\n",
    "cse_table"
   ],
   "outputs": [
    {
     "output_type": "execute_result",
     "data": {
      "text/html": [
       "<div>\n",
       "<style scoped>\n",
       "    .dataframe tbody tr th:only-of-type {\n",
       "        vertical-align: middle;\n",
       "    }\n",
       "\n",
       "    .dataframe tbody tr th {\n",
       "        vertical-align: top;\n",
       "    }\n",
       "\n",
       "    .dataframe thead th {\n",
       "        text-align: right;\n",
       "    }\n",
       "</style>\n",
       "<table border=\"1\" class=\"dataframe\">\n",
       "  <thead>\n",
       "    <tr style=\"text-align: right;\">\n",
       "      <th>fiscal_year</th>\n",
       "      <th>FY21Q1</th>\n",
       "      <th>FY21Q3</th>\n",
       "      <th>Q3fy20-Q4fy20</th>\n",
       "      <th>Grand Total</th>\n",
       "    </tr>\n",
       "    <tr>\n",
       "      <th>age_range</th>\n",
       "      <th></th>\n",
       "      <th></th>\n",
       "      <th></th>\n",
       "      <th></th>\n",
       "    </tr>\n",
       "  </thead>\n",
       "  <tbody>\n",
       "    <tr>\n",
       "      <th>10-14</th>\n",
       "      <td>0</td>\n",
       "      <td>0</td>\n",
       "      <td>149</td>\n",
       "      <td>149</td>\n",
       "    </tr>\n",
       "    <tr>\n",
       "      <th>15-19</th>\n",
       "      <td>1</td>\n",
       "      <td>1</td>\n",
       "      <td>167</td>\n",
       "      <td>169</td>\n",
       "    </tr>\n",
       "    <tr>\n",
       "      <th>20-24</th>\n",
       "      <td>1</td>\n",
       "      <td>0</td>\n",
       "      <td>196</td>\n",
       "      <td>197</td>\n",
       "    </tr>\n",
       "    <tr>\n",
       "      <th>Grand Total</th>\n",
       "      <td>2</td>\n",
       "      <td>1</td>\n",
       "      <td>512</td>\n",
       "      <td>515</td>\n",
       "    </tr>\n",
       "  </tbody>\n",
       "</table>\n",
       "</div>"
      ],
      "text/plain": [
       "fiscal_year  FY21Q1  FY21Q3  Q3fy20-Q4fy20  Grand Total\n",
       "age_range                                              \n",
       "10-14             0       0            149          149\n",
       "15-19             1       1            167          169\n",
       "20-24             1       0            196          197\n",
       "Grand Total       2       1            512          515"
      ]
     },
     "metadata": {},
     "execution_count": 16
    }
   ],
   "metadata": {}
  },
  {
   "cell_type": "markdown",
   "source": [
    "# PREP"
   ],
   "metadata": {}
  },
  {
   "cell_type": "code",
   "execution_count": 17,
   "source": [
    "prep_sens = base[\r\n",
    "    (base.sens_prep==\"tested_on_given_date\")\r\n",
    "]\r\n",
    "prep_sens.code.count()\r\n",
    "\r\n",
    "prep_sens_table = prep_sens.pivot_table(index=\"age_range\",columns=\"fiscal_year\",\r\n",
    "                        values='code',\r\n",
    "                        aggfunc='count',\r\n",
    "                        fill_value=0,\r\n",
    "                        margins=True,\r\n",
    "                        margins_name=\"Grand Total\"                             \r\n",
    ")\r\n",
    "prep_sens_table\r\n"
   ],
   "outputs": [
    {
     "output_type": "execute_result",
     "data": {
      "text/plain": [
       "506"
      ]
     },
     "metadata": {},
     "execution_count": 17
    },
    {
     "output_type": "execute_result",
     "data": {
      "text/html": [
       "<div>\n",
       "<style scoped>\n",
       "    .dataframe tbody tr th:only-of-type {\n",
       "        vertical-align: middle;\n",
       "    }\n",
       "\n",
       "    .dataframe tbody tr th {\n",
       "        vertical-align: top;\n",
       "    }\n",
       "\n",
       "    .dataframe thead th {\n",
       "        text-align: right;\n",
       "    }\n",
       "</style>\n",
       "<table border=\"1\" class=\"dataframe\">\n",
       "  <thead>\n",
       "    <tr style=\"text-align: right;\">\n",
       "      <th>fiscal_year</th>\n",
       "      <th>FY21Q1</th>\n",
       "      <th>FY21Q2</th>\n",
       "      <th>FY21Q3</th>\n",
       "      <th>FY21Q4</th>\n",
       "      <th>Q3fy20-Q4fy20</th>\n",
       "      <th>Grand Total</th>\n",
       "    </tr>\n",
       "    <tr>\n",
       "      <th>age_range</th>\n",
       "      <th></th>\n",
       "      <th></th>\n",
       "      <th></th>\n",
       "      <th></th>\n",
       "      <th></th>\n",
       "      <th></th>\n",
       "    </tr>\n",
       "  </thead>\n",
       "  <tbody>\n",
       "    <tr>\n",
       "      <th>10-14</th>\n",
       "      <td>1</td>\n",
       "      <td>1</td>\n",
       "      <td>6</td>\n",
       "      <td>0</td>\n",
       "      <td>14</td>\n",
       "      <td>22</td>\n",
       "    </tr>\n",
       "    <tr>\n",
       "      <th>15-19</th>\n",
       "      <td>47</td>\n",
       "      <td>17</td>\n",
       "      <td>38</td>\n",
       "      <td>1</td>\n",
       "      <td>76</td>\n",
       "      <td>179</td>\n",
       "    </tr>\n",
       "    <tr>\n",
       "      <th>20-24</th>\n",
       "      <td>115</td>\n",
       "      <td>17</td>\n",
       "      <td>33</td>\n",
       "      <td>3</td>\n",
       "      <td>137</td>\n",
       "      <td>305</td>\n",
       "    </tr>\n",
       "    <tr>\n",
       "      <th>Grand Total</th>\n",
       "      <td>163</td>\n",
       "      <td>35</td>\n",
       "      <td>77</td>\n",
       "      <td>4</td>\n",
       "      <td>227</td>\n",
       "      <td>506</td>\n",
       "    </tr>\n",
       "  </tbody>\n",
       "</table>\n",
       "</div>"
      ],
      "text/plain": [
       "fiscal_year  FY21Q1  FY21Q2  FY21Q3  FY21Q4  Q3fy20-Q4fy20  Grand Total\n",
       "age_range                                                              \n",
       "10-14             1       1       6       0             14           22\n",
       "15-19            47      17      38       1             76          179\n",
       "20-24           115      17      33       3            137          305\n",
       "Grand Total     163      35      77       4            227          506"
      ]
     },
     "metadata": {},
     "execution_count": 17
    }
   ],
   "metadata": {}
  },
  {
   "cell_type": "code",
   "execution_count": 18,
   "source": [
    "prep_accept = base[\r\n",
    "    (base.acc_prep==\"accept\")\r\n",
    "]\r\n",
    "prep_accept.code.count()\r\n",
    "prep_accept_table = prep_accept.pivot_table(index=\"age_range\",columns=\"fiscal_year\",\r\n",
    "                        values='code',\r\n",
    "                        aggfunc='count',\r\n",
    "                        fill_value=0,\r\n",
    "                        margins=True,\r\n",
    "                        margins_name=\"Grand Total\"                             \r\n",
    ")\r\n",
    "prep_accept_table\r\n"
   ],
   "outputs": [
    {
     "output_type": "execute_result",
     "data": {
      "text/plain": [
       "48"
      ]
     },
     "metadata": {},
     "execution_count": 18
    },
    {
     "output_type": "execute_result",
     "data": {
      "text/html": [
       "<div>\n",
       "<style scoped>\n",
       "    .dataframe tbody tr th:only-of-type {\n",
       "        vertical-align: middle;\n",
       "    }\n",
       "\n",
       "    .dataframe tbody tr th {\n",
       "        vertical-align: top;\n",
       "    }\n",
       "\n",
       "    .dataframe thead th {\n",
       "        text-align: right;\n",
       "    }\n",
       "</style>\n",
       "<table border=\"1\" class=\"dataframe\">\n",
       "  <thead>\n",
       "    <tr style=\"text-align: right;\">\n",
       "      <th>fiscal_year</th>\n",
       "      <th>FY21Q1</th>\n",
       "      <th>FY21Q2</th>\n",
       "      <th>FY21Q3</th>\n",
       "      <th>FY21Q4</th>\n",
       "      <th>Q3fy20-Q4fy20</th>\n",
       "      <th>Grand Total</th>\n",
       "    </tr>\n",
       "    <tr>\n",
       "      <th>age_range</th>\n",
       "      <th></th>\n",
       "      <th></th>\n",
       "      <th></th>\n",
       "      <th></th>\n",
       "      <th></th>\n",
       "      <th></th>\n",
       "    </tr>\n",
       "  </thead>\n",
       "  <tbody>\n",
       "    <tr>\n",
       "      <th>10-14</th>\n",
       "      <td>0</td>\n",
       "      <td>0</td>\n",
       "      <td>0</td>\n",
       "      <td>0</td>\n",
       "      <td>4</td>\n",
       "      <td>4</td>\n",
       "    </tr>\n",
       "    <tr>\n",
       "      <th>15-19</th>\n",
       "      <td>7</td>\n",
       "      <td>0</td>\n",
       "      <td>0</td>\n",
       "      <td>2</td>\n",
       "      <td>12</td>\n",
       "      <td>21</td>\n",
       "    </tr>\n",
       "    <tr>\n",
       "      <th>20-24</th>\n",
       "      <td>8</td>\n",
       "      <td>3</td>\n",
       "      <td>1</td>\n",
       "      <td>0</td>\n",
       "      <td>11</td>\n",
       "      <td>23</td>\n",
       "    </tr>\n",
       "    <tr>\n",
       "      <th>Grand Total</th>\n",
       "      <td>15</td>\n",
       "      <td>3</td>\n",
       "      <td>1</td>\n",
       "      <td>2</td>\n",
       "      <td>27</td>\n",
       "      <td>48</td>\n",
       "    </tr>\n",
       "  </tbody>\n",
       "</table>\n",
       "</div>"
      ],
      "text/plain": [
       "fiscal_year  FY21Q1  FY21Q2  FY21Q3  FY21Q4  Q3fy20-Q4fy20  Grand Total\n",
       "age_range                                                              \n",
       "10-14             0       0       0       0              4            4\n",
       "15-19             7       0       0       2             12           21\n",
       "20-24             8       3       1       0             11           23\n",
       "Grand Total      15       3       1       2             27           48"
      ]
     },
     "metadata": {},
     "execution_count": 18
    }
   ],
   "metadata": {}
  },
  {
   "cell_type": "code",
   "execution_count": 19,
   "source": [
    "prep_ref = base[\r\n",
    "    (base.ref_prep==\"tested_on_given_date\")\r\n",
    "]\r\n",
    "prep_ref.code.count()\r\n",
    "prep_ref_table = prep_ref.pivot_table(\r\n",
    "                        index=\"age_range\",\r\n",
    "                        columns=\"fiscal_year\",\r\n",
    "                        values='code',\r\n",
    "                        aggfunc='count',\r\n",
    "                        fill_value=0,\r\n",
    "                        margins=True,\r\n",
    "                        margins_name=\"Grand Total\"                             \r\n",
    ")\r\n",
    "prep_ref_table"
   ],
   "outputs": [
    {
     "output_type": "execute_result",
     "data": {
      "text/plain": [
       "46"
      ]
     },
     "metadata": {},
     "execution_count": 19
    },
    {
     "output_type": "execute_result",
     "data": {
      "text/html": [
       "<div>\n",
       "<style scoped>\n",
       "    .dataframe tbody tr th:only-of-type {\n",
       "        vertical-align: middle;\n",
       "    }\n",
       "\n",
       "    .dataframe tbody tr th {\n",
       "        vertical-align: top;\n",
       "    }\n",
       "\n",
       "    .dataframe thead th {\n",
       "        text-align: right;\n",
       "    }\n",
       "</style>\n",
       "<table border=\"1\" class=\"dataframe\">\n",
       "  <thead>\n",
       "    <tr style=\"text-align: right;\">\n",
       "      <th>fiscal_year</th>\n",
       "      <th>FY21Q1</th>\n",
       "      <th>FY21Q2</th>\n",
       "      <th>FY21Q3</th>\n",
       "      <th>FY21Q4</th>\n",
       "      <th>Q3fy20-Q4fy20</th>\n",
       "      <th>Grand Total</th>\n",
       "    </tr>\n",
       "    <tr>\n",
       "      <th>age_range</th>\n",
       "      <th></th>\n",
       "      <th></th>\n",
       "      <th></th>\n",
       "      <th></th>\n",
       "      <th></th>\n",
       "      <th></th>\n",
       "    </tr>\n",
       "  </thead>\n",
       "  <tbody>\n",
       "    <tr>\n",
       "      <th>10-14</th>\n",
       "      <td>0</td>\n",
       "      <td>0</td>\n",
       "      <td>0</td>\n",
       "      <td>0</td>\n",
       "      <td>4</td>\n",
       "      <td>4</td>\n",
       "    </tr>\n",
       "    <tr>\n",
       "      <th>15-19</th>\n",
       "      <td>6</td>\n",
       "      <td>0</td>\n",
       "      <td>0</td>\n",
       "      <td>1</td>\n",
       "      <td>12</td>\n",
       "      <td>19</td>\n",
       "    </tr>\n",
       "    <tr>\n",
       "      <th>20-24</th>\n",
       "      <td>8</td>\n",
       "      <td>3</td>\n",
       "      <td>1</td>\n",
       "      <td>0</td>\n",
       "      <td>11</td>\n",
       "      <td>23</td>\n",
       "    </tr>\n",
       "    <tr>\n",
       "      <th>Grand Total</th>\n",
       "      <td>14</td>\n",
       "      <td>3</td>\n",
       "      <td>1</td>\n",
       "      <td>1</td>\n",
       "      <td>27</td>\n",
       "      <td>46</td>\n",
       "    </tr>\n",
       "  </tbody>\n",
       "</table>\n",
       "</div>"
      ],
      "text/plain": [
       "fiscal_year  FY21Q1  FY21Q2  FY21Q3  FY21Q4  Q3fy20-Q4fy20  Grand Total\n",
       "age_range                                                              \n",
       "10-14             0       0       0       0              4            4\n",
       "15-19             6       0       0       1             12           19\n",
       "20-24             8       3       1       0             11           23\n",
       "Grand Total      14       3       1       1             27           46"
      ]
     },
     "metadata": {},
     "execution_count": 19
    }
   ],
   "metadata": {}
  },
  {
   "cell_type": "code",
   "execution_count": 20,
   "source": [
    "\r\n",
    "prep = base[\r\n",
    "    (base.init_prep==\"tested_on_given_date\")\r\n",
    "]\r\n",
    "prep.code.count()\r\n",
    "\r\n",
    "prep_table = prep.pivot_table(index=\"age_range\",columns=\"fiscal_year\",\r\n",
    "                        values='code',\r\n",
    "                        aggfunc='count',\r\n",
    "                        fill_value=0,\r\n",
    "                        margins=True,\r\n",
    "                        margins_name=\"Grand Total\"                             \r\n",
    ")\r\n",
    "prep_table\r\n",
    "\r\n"
   ],
   "outputs": [
    {
     "output_type": "execute_result",
     "data": {
      "text/plain": [
       "42"
      ]
     },
     "metadata": {},
     "execution_count": 20
    },
    {
     "output_type": "execute_result",
     "data": {
      "text/html": [
       "<div>\n",
       "<style scoped>\n",
       "    .dataframe tbody tr th:only-of-type {\n",
       "        vertical-align: middle;\n",
       "    }\n",
       "\n",
       "    .dataframe tbody tr th {\n",
       "        vertical-align: top;\n",
       "    }\n",
       "\n",
       "    .dataframe thead th {\n",
       "        text-align: right;\n",
       "    }\n",
       "</style>\n",
       "<table border=\"1\" class=\"dataframe\">\n",
       "  <thead>\n",
       "    <tr style=\"text-align: right;\">\n",
       "      <th>fiscal_year</th>\n",
       "      <th>FY21Q1</th>\n",
       "      <th>FY21Q2</th>\n",
       "      <th>FY21Q3</th>\n",
       "      <th>FY21Q4</th>\n",
       "      <th>Q3fy20-Q4fy20</th>\n",
       "      <th>Grand Total</th>\n",
       "    </tr>\n",
       "    <tr>\n",
       "      <th>age_range</th>\n",
       "      <th></th>\n",
       "      <th></th>\n",
       "      <th></th>\n",
       "      <th></th>\n",
       "      <th></th>\n",
       "      <th></th>\n",
       "    </tr>\n",
       "  </thead>\n",
       "  <tbody>\n",
       "    <tr>\n",
       "      <th>10-14</th>\n",
       "      <td>0</td>\n",
       "      <td>0</td>\n",
       "      <td>0</td>\n",
       "      <td>0</td>\n",
       "      <td>4</td>\n",
       "      <td>4</td>\n",
       "    </tr>\n",
       "    <tr>\n",
       "      <th>15-19</th>\n",
       "      <td>6</td>\n",
       "      <td>0</td>\n",
       "      <td>0</td>\n",
       "      <td>1</td>\n",
       "      <td>10</td>\n",
       "      <td>17</td>\n",
       "    </tr>\n",
       "    <tr>\n",
       "      <th>20-24</th>\n",
       "      <td>8</td>\n",
       "      <td>3</td>\n",
       "      <td>1</td>\n",
       "      <td>0</td>\n",
       "      <td>9</td>\n",
       "      <td>21</td>\n",
       "    </tr>\n",
       "    <tr>\n",
       "      <th>Grand Total</th>\n",
       "      <td>14</td>\n",
       "      <td>3</td>\n",
       "      <td>1</td>\n",
       "      <td>1</td>\n",
       "      <td>23</td>\n",
       "      <td>42</td>\n",
       "    </tr>\n",
       "  </tbody>\n",
       "</table>\n",
       "</div>"
      ],
      "text/plain": [
       "fiscal_year  FY21Q1  FY21Q2  FY21Q3  FY21Q4  Q3fy20-Q4fy20  Grand Total\n",
       "age_range                                                              \n",
       "10-14             0       0       0       0              4            4\n",
       "15-19             6       0       0       1             10           17\n",
       "20-24             8       3       1       0              9           21\n",
       "Grand Total      14       3       1       1             23           42"
      ]
     },
     "metadata": {},
     "execution_count": 20
    }
   ],
   "metadata": {}
  },
  {
   "cell_type": "code",
   "execution_count": 21,
   "source": [
    "\r\n",
    "prep_accept[prep_accept.code.isin(prep_ref.code)].code.count()\r\n",
    "prep_accept[~prep_accept.code.isin(prep_ref.code)].code.count()\r\n",
    "\r\n",
    "accepter_non_referer = prep_accept[~prep_accept.code.isin(prep_ref.code)]"
   ],
   "outputs": [
    {
     "output_type": "execute_result",
     "data": {
      "text/plain": [
       "42"
      ]
     },
     "metadata": {},
     "execution_count": 21
    },
    {
     "output_type": "execute_result",
     "data": {
      "text/plain": [
       "6"
      ]
     },
     "metadata": {},
     "execution_count": 21
    }
   ],
   "metadata": {}
  },
  {
   "cell_type": "code",
   "execution_count": 22,
   "source": [
    "prep_ref[prep_ref.code.isin(prep_accept.code)].code.count()\r\n",
    "prep_ref[~prep_ref.code.isin(prep_accept.code)].code.count()\r\n",
    "\r\n",
    "\r\n",
    "ref_non_accept = prep_ref[~prep_ref.code.isin(prep_accept.code)]"
   ],
   "outputs": [
    {
     "output_type": "execute_result",
     "data": {
      "text/plain": [
       "42"
      ]
     },
     "metadata": {},
     "execution_count": 22
    },
    {
     "output_type": "execute_result",
     "data": {
      "text/plain": [
       "4"
      ]
     },
     "metadata": {},
     "execution_count": 22
    }
   ],
   "metadata": {}
  },
  {
   "cell_type": "code",
   "execution_count": 23,
   "source": [
    "prep_ref[prep_ref.code.isin(prep.code)].code.count()\r\n",
    "prep_ref[~prep_ref.code.isin(prep.code)].code.count()"
   ],
   "outputs": [
    {
     "output_type": "execute_result",
     "data": {
      "text/plain": [
       "42"
      ]
     },
     "metadata": {},
     "execution_count": 23
    },
    {
     "output_type": "execute_result",
     "data": {
      "text/plain": [
       "4"
      ]
     },
     "metadata": {},
     "execution_count": 23
    }
   ],
   "metadata": {}
  },
  {
   "cell_type": "code",
   "execution_count": 24,
   "source": [
    "prep[prep.code.isin(prep_ref.code)].code.count()\r\n",
    "prep[~prep.code.isin(prep_ref.code)].code.count()"
   ],
   "outputs": [
    {
     "output_type": "execute_result",
     "data": {
      "text/plain": [
       "42"
      ]
     },
     "metadata": {},
     "execution_count": 24
    },
    {
     "output_type": "execute_result",
     "data": {
      "text/plain": [
       "0"
      ]
     },
     "metadata": {},
     "execution_count": 24
    }
   ],
   "metadata": {}
  },
  {
   "cell_type": "code",
   "execution_count": 25,
   "source": [
    "\r\n",
    "search_missing_prep = pd.ExcelWriter(f\"find_missing_prep.xlsx\",engine=\"xlsxwriter\")\r\n",
    "\r\n",
    "accepter_non_referer.to_excel(search_missing_prep,sheet_name=\"accepter_non_referer\",index=True,na_rep=\"NULL\")\r\n",
    "ref_non_accept.to_excel(search_missing_prep,sheet_name=\"ref_non_accept\",index=True,na_rep=\"NULL\")\r\n",
    "search_missing_prep.save()"
   ],
   "outputs": [],
   "metadata": {}
  },
  {
   "cell_type": "markdown",
   "source": [
    "# jardinage"
   ],
   "metadata": {}
  },
  {
   "cell_type": "code",
   "execution_count": 26,
   "source": [
    "\r\n",
    "\r\n",
    "garden = base[\r\n",
    "    (base.is_gardening==\"yes\")\r\n",
    "]\r\n",
    "garden.code.count()\r\n",
    "\r\n",
    "garden_table = garden.pivot_table(index=\"age_range\",columns=\"fiscal_year\",\r\n",
    "                        values='code',\r\n",
    "                        aggfunc='count',\r\n",
    "                        fill_value=0,\r\n",
    "                        margins=True,\r\n",
    "                        margins_name=\"Grand Total\"                             \r\n",
    ")\r\n",
    "garden_table\r\n",
    "\r\n"
   ],
   "outputs": [
    {
     "output_type": "execute_result",
     "data": {
      "text/plain": [
       "463"
      ]
     },
     "metadata": {},
     "execution_count": 26
    },
    {
     "output_type": "execute_result",
     "data": {
      "text/html": [
       "<div>\n",
       "<style scoped>\n",
       "    .dataframe tbody tr th:only-of-type {\n",
       "        vertical-align: middle;\n",
       "    }\n",
       "\n",
       "    .dataframe tbody tr th {\n",
       "        vertical-align: top;\n",
       "    }\n",
       "\n",
       "    .dataframe thead th {\n",
       "        text-align: right;\n",
       "    }\n",
       "</style>\n",
       "<table border=\"1\" class=\"dataframe\">\n",
       "  <thead>\n",
       "    <tr style=\"text-align: right;\">\n",
       "      <th>fiscal_year</th>\n",
       "      <th>FY21Q1</th>\n",
       "      <th>FY21Q3</th>\n",
       "      <th>Q3fy20-Q4fy20</th>\n",
       "      <th>Grand Total</th>\n",
       "    </tr>\n",
       "    <tr>\n",
       "      <th>age_range</th>\n",
       "      <th></th>\n",
       "      <th></th>\n",
       "      <th></th>\n",
       "      <th></th>\n",
       "    </tr>\n",
       "  </thead>\n",
       "  <tbody>\n",
       "    <tr>\n",
       "      <th>10-14</th>\n",
       "      <td>0</td>\n",
       "      <td>0</td>\n",
       "      <td>144</td>\n",
       "      <td>144</td>\n",
       "    </tr>\n",
       "    <tr>\n",
       "      <th>15-19</th>\n",
       "      <td>1</td>\n",
       "      <td>1</td>\n",
       "      <td>153</td>\n",
       "      <td>155</td>\n",
       "    </tr>\n",
       "    <tr>\n",
       "      <th>20-24</th>\n",
       "      <td>1</td>\n",
       "      <td>0</td>\n",
       "      <td>163</td>\n",
       "      <td>164</td>\n",
       "    </tr>\n",
       "    <tr>\n",
       "      <th>Grand Total</th>\n",
       "      <td>2</td>\n",
       "      <td>1</td>\n",
       "      <td>460</td>\n",
       "      <td>463</td>\n",
       "    </tr>\n",
       "  </tbody>\n",
       "</table>\n",
       "</div>"
      ],
      "text/plain": [
       "fiscal_year  FY21Q1  FY21Q3  Q3fy20-Q4fy20  Grand Total\n",
       "age_range                                              \n",
       "10-14             0       0            144          144\n",
       "15-19             1       1            153          155\n",
       "20-24             1       0            163          164\n",
       "Grand Total       2       1            460          463"
      ]
     },
     "metadata": {},
     "execution_count": 26
    }
   ],
   "metadata": {}
  },
  {
   "cell_type": "markdown",
   "source": [
    "# MUSO"
   ],
   "metadata": {}
  },
  {
   "cell_type": "code",
   "execution_count": 27,
   "source": [
    "muso = base[\r\n",
    "    (base.is_muso==\"yes\")\r\n",
    "]\r\n",
    "muso.code.count()\r\n",
    "\r\n",
    "muso_table = muso.pivot_table(index=\"age_range\",columns=\"fiscal_year\",\r\n",
    "                        values='code',\r\n",
    "                        aggfunc='count',\r\n",
    "                        fill_value=0,\r\n",
    "                        margins=True,\r\n",
    "                        margins_name=\"Grand Total\"                             \r\n",
    ")\r\n",
    "muso_table"
   ],
   "outputs": [
    {
     "output_type": "execute_result",
     "data": {
      "text/plain": [
       "65"
      ]
     },
     "metadata": {},
     "execution_count": 27
    },
    {
     "output_type": "execute_result",
     "data": {
      "text/html": [
       "<div>\n",
       "<style scoped>\n",
       "    .dataframe tbody tr th:only-of-type {\n",
       "        vertical-align: middle;\n",
       "    }\n",
       "\n",
       "    .dataframe tbody tr th {\n",
       "        vertical-align: top;\n",
       "    }\n",
       "\n",
       "    .dataframe thead th {\n",
       "        text-align: right;\n",
       "    }\n",
       "</style>\n",
       "<table border=\"1\" class=\"dataframe\">\n",
       "  <thead>\n",
       "    <tr style=\"text-align: right;\">\n",
       "      <th>fiscal_year</th>\n",
       "      <th>Q3fy20-Q4fy20</th>\n",
       "      <th>Grand Total</th>\n",
       "    </tr>\n",
       "    <tr>\n",
       "      <th>age_range</th>\n",
       "      <th></th>\n",
       "      <th></th>\n",
       "    </tr>\n",
       "  </thead>\n",
       "  <tbody>\n",
       "    <tr>\n",
       "      <th>10-14</th>\n",
       "      <td>5</td>\n",
       "      <td>5</td>\n",
       "    </tr>\n",
       "    <tr>\n",
       "      <th>15-19</th>\n",
       "      <td>16</td>\n",
       "      <td>16</td>\n",
       "    </tr>\n",
       "    <tr>\n",
       "      <th>20-24</th>\n",
       "      <td>44</td>\n",
       "      <td>44</td>\n",
       "    </tr>\n",
       "    <tr>\n",
       "      <th>Grand Total</th>\n",
       "      <td>65</td>\n",
       "      <td>65</td>\n",
       "    </tr>\n",
       "  </tbody>\n",
       "</table>\n",
       "</div>"
      ],
      "text/plain": [
       "fiscal_year  Q3fy20-Q4fy20  Grand Total\n",
       "age_range                              \n",
       "10-14                    5            5\n",
       "15-19                   16           16\n",
       "20-24                   44           44\n",
       "Grand Total             65           65"
      ]
     },
     "metadata": {},
     "execution_count": 27
    }
   ],
   "metadata": {}
  },
  {
   "cell_type": "markdown",
   "source": [
    "# Primary Services"
   ],
   "metadata": {}
  },
  {
   "cell_type": "code",
   "execution_count": 28,
   "source": [
    "ps14 = base[\r\n",
    "    (base.ps_10_14==\"curriculum-servis\")\r\n",
    "]\r\n",
    "ps14.code.count()\r\n",
    "\r\n",
    "ps19 = base[\r\n",
    "    (base.ps_15_19==\"condoms&curriculum\")\r\n",
    "]\r\n",
    "ps19.code.count()\r\n",
    "\r\n",
    "ps24 = base[\r\n",
    "    (base.ps_20_24==\"condoms&curriculum\")\r\n",
    "]\r\n",
    "ps24.code.count()"
   ],
   "outputs": [
    {
     "output_type": "execute_result",
     "data": {
      "text/plain": [
       "6591"
      ]
     },
     "metadata": {},
     "execution_count": 28
    },
    {
     "output_type": "execute_result",
     "data": {
      "text/plain": [
       "1613"
      ]
     },
     "metadata": {},
     "execution_count": 28
    },
    {
     "output_type": "execute_result",
     "data": {
      "text/plain": [
       "1100"
      ]
     },
     "metadata": {},
     "execution_count": 28
    }
   ],
   "metadata": {}
  },
  {
   "cell_type": "code",
   "execution_count": 29,
   "source": [
    "ps14_table = ps14.pivot_table(index=\"age_range\",columns=\"fiscal_year\",\r\n",
    "                        values='code',\r\n",
    "                        aggfunc='count',\r\n",
    "                        fill_value=0,\r\n",
    "                        margins=True,\r\n",
    "                        margins_name=\"Grand Total\"                             \r\n",
    ")\r\n",
    "ps14_table"
   ],
   "outputs": [
    {
     "output_type": "execute_result",
     "data": {
      "text/html": [
       "<div>\n",
       "<style scoped>\n",
       "    .dataframe tbody tr th:only-of-type {\n",
       "        vertical-align: middle;\n",
       "    }\n",
       "\n",
       "    .dataframe tbody tr th {\n",
       "        vertical-align: top;\n",
       "    }\n",
       "\n",
       "    .dataframe thead th {\n",
       "        text-align: right;\n",
       "    }\n",
       "</style>\n",
       "<table border=\"1\" class=\"dataframe\">\n",
       "  <thead>\n",
       "    <tr style=\"text-align: right;\">\n",
       "      <th>fiscal_year</th>\n",
       "      <th>FY21Q1</th>\n",
       "      <th>FY21Q2</th>\n",
       "      <th>FY21Q3</th>\n",
       "      <th>FY21Q4</th>\n",
       "      <th>Q3fy20-Q4fy20</th>\n",
       "      <th>Grand Total</th>\n",
       "    </tr>\n",
       "    <tr>\n",
       "      <th>age_range</th>\n",
       "      <th></th>\n",
       "      <th></th>\n",
       "      <th></th>\n",
       "      <th></th>\n",
       "      <th></th>\n",
       "      <th></th>\n",
       "    </tr>\n",
       "  </thead>\n",
       "  <tbody>\n",
       "    <tr>\n",
       "      <th>10-14</th>\n",
       "      <td>744</td>\n",
       "      <td>627</td>\n",
       "      <td>598</td>\n",
       "      <td>255</td>\n",
       "      <td>4367</td>\n",
       "      <td>6591</td>\n",
       "    </tr>\n",
       "    <tr>\n",
       "      <th>Grand Total</th>\n",
       "      <td>744</td>\n",
       "      <td>627</td>\n",
       "      <td>598</td>\n",
       "      <td>255</td>\n",
       "      <td>4367</td>\n",
       "      <td>6591</td>\n",
       "    </tr>\n",
       "  </tbody>\n",
       "</table>\n",
       "</div>"
      ],
      "text/plain": [
       "fiscal_year  FY21Q1  FY21Q2  FY21Q3  FY21Q4  Q3fy20-Q4fy20  Grand Total\n",
       "age_range                                                              \n",
       "10-14           744     627     598     255           4367         6591\n",
       "Grand Total     744     627     598     255           4367         6591"
      ]
     },
     "metadata": {},
     "execution_count": 29
    }
   ],
   "metadata": {}
  },
  {
   "cell_type": "code",
   "execution_count": 30,
   "source": [
    "\r\n",
    "ps19_table= ps19.pivot_table(index=\"age_range\",columns=\"fiscal_year\",\r\n",
    "                        values='code',\r\n",
    "                        aggfunc='count',\r\n",
    "                        fill_value=0,\r\n",
    "                        margins=True,\r\n",
    "                        margins_name=\"Grand Total\"                             \r\n",
    ")\r\n",
    "ps19_table"
   ],
   "outputs": [
    {
     "output_type": "execute_result",
     "data": {
      "text/html": [
       "<div>\n",
       "<style scoped>\n",
       "    .dataframe tbody tr th:only-of-type {\n",
       "        vertical-align: middle;\n",
       "    }\n",
       "\n",
       "    .dataframe tbody tr th {\n",
       "        vertical-align: top;\n",
       "    }\n",
       "\n",
       "    .dataframe thead th {\n",
       "        text-align: right;\n",
       "    }\n",
       "</style>\n",
       "<table border=\"1\" class=\"dataframe\">\n",
       "  <thead>\n",
       "    <tr style=\"text-align: right;\">\n",
       "      <th>fiscal_year</th>\n",
       "      <th>FY21Q1</th>\n",
       "      <th>FY21Q2</th>\n",
       "      <th>FY21Q3</th>\n",
       "      <th>FY21Q4</th>\n",
       "      <th>Q3fy20-Q4fy20</th>\n",
       "      <th>Grand Total</th>\n",
       "    </tr>\n",
       "    <tr>\n",
       "      <th>age_range</th>\n",
       "      <th></th>\n",
       "      <th></th>\n",
       "      <th></th>\n",
       "      <th></th>\n",
       "      <th></th>\n",
       "      <th></th>\n",
       "    </tr>\n",
       "  </thead>\n",
       "  <tbody>\n",
       "    <tr>\n",
       "      <th>15-19</th>\n",
       "      <td>298</td>\n",
       "      <td>166</td>\n",
       "      <td>151</td>\n",
       "      <td>76</td>\n",
       "      <td>922</td>\n",
       "      <td>1613</td>\n",
       "    </tr>\n",
       "    <tr>\n",
       "      <th>Grand Total</th>\n",
       "      <td>298</td>\n",
       "      <td>166</td>\n",
       "      <td>151</td>\n",
       "      <td>76</td>\n",
       "      <td>922</td>\n",
       "      <td>1613</td>\n",
       "    </tr>\n",
       "  </tbody>\n",
       "</table>\n",
       "</div>"
      ],
      "text/plain": [
       "fiscal_year  FY21Q1  FY21Q2  FY21Q3  FY21Q4  Q3fy20-Q4fy20  Grand Total\n",
       "age_range                                                              \n",
       "15-19           298     166     151      76            922         1613\n",
       "Grand Total     298     166     151      76            922         1613"
      ]
     },
     "metadata": {},
     "execution_count": 30
    }
   ],
   "metadata": {}
  },
  {
   "cell_type": "code",
   "execution_count": 31,
   "source": [
    "ps24_table = ps24.pivot_table(index=\"age_range\",columns=\"fiscal_year\",\r\n",
    "                        values='code',\r\n",
    "                        aggfunc='count',\r\n",
    "                        fill_value=0,\r\n",
    "                        margins=True,\r\n",
    "                        margins_name=\"Grand Total\"                             \r\n",
    ")\r\n",
    "ps24_table"
   ],
   "outputs": [
    {
     "output_type": "execute_result",
     "data": {
      "text/html": [
       "<div>\n",
       "<style scoped>\n",
       "    .dataframe tbody tr th:only-of-type {\n",
       "        vertical-align: middle;\n",
       "    }\n",
       "\n",
       "    .dataframe tbody tr th {\n",
       "        vertical-align: top;\n",
       "    }\n",
       "\n",
       "    .dataframe thead th {\n",
       "        text-align: right;\n",
       "    }\n",
       "</style>\n",
       "<table border=\"1\" class=\"dataframe\">\n",
       "  <thead>\n",
       "    <tr style=\"text-align: right;\">\n",
       "      <th>fiscal_year</th>\n",
       "      <th>FY21Q1</th>\n",
       "      <th>FY21Q2</th>\n",
       "      <th>FY21Q3</th>\n",
       "      <th>FY21Q4</th>\n",
       "      <th>Q3fy20-Q4fy20</th>\n",
       "      <th>Grand Total</th>\n",
       "    </tr>\n",
       "    <tr>\n",
       "      <th>age_range</th>\n",
       "      <th></th>\n",
       "      <th></th>\n",
       "      <th></th>\n",
       "      <th></th>\n",
       "      <th></th>\n",
       "      <th></th>\n",
       "    </tr>\n",
       "  </thead>\n",
       "  <tbody>\n",
       "    <tr>\n",
       "      <th>20-24</th>\n",
       "      <td>223</td>\n",
       "      <td>96</td>\n",
       "      <td>50</td>\n",
       "      <td>25</td>\n",
       "      <td>706</td>\n",
       "      <td>1100</td>\n",
       "    </tr>\n",
       "    <tr>\n",
       "      <th>Grand Total</th>\n",
       "      <td>223</td>\n",
       "      <td>96</td>\n",
       "      <td>50</td>\n",
       "      <td>25</td>\n",
       "      <td>706</td>\n",
       "      <td>1100</td>\n",
       "    </tr>\n",
       "  </tbody>\n",
       "</table>\n",
       "</div>"
      ],
      "text/plain": [
       "fiscal_year  FY21Q1  FY21Q2  FY21Q3  FY21Q4  Q3fy20-Q4fy20  Grand Total\n",
       "age_range                                                              \n",
       "20-24           223      96      50      25            706         1100\n",
       "Grand Total     223      96      50      25            706         1100"
      ]
     },
     "metadata": {},
     "execution_count": 31
    }
   ],
   "metadata": {}
  },
  {
   "cell_type": "markdown",
   "source": [
    "# reporting"
   ],
   "metadata": {}
  },
  {
   "cell_type": "code",
   "execution_count": 32,
   "source": [
    "table_report = pd.ExcelWriter(f\"DREAMS_services_Quarter_enroled_{date_du_jour}.xlsx\",engine=\"xlsxwriter\")\r\n",
    "ps14_table.to_excel(table_report,sheet_name=\"ps14_table\",index=True,na_rep=\"NULL\")\r\n",
    "ps19_table.to_excel(table_report,sheet_name=\"ps19_table\",index=True,na_rep=\"NULL\")\r\n",
    "ps24_table.to_excel(table_report,sheet_name=\"ps24_table\",index=True,na_rep=\"NULL\")\r\n",
    "prep_table.to_excel(table_report,sheet_name=\"prep_table\",index=True,na_rep=\"NULL\")\r\n",
    "prep_sens_table.to_excel(table_report,sheet_name=\"prep_sens_table\",index=True,na_rep=\"NULL\")\r\n",
    "prep_sens_table.to_excel(table_report,sheet_name=\"prep_sens_table\",index=True,na_rep=\"NULL\")\r\n",
    "prep_sens_table.to_excel(table_report,sheet_name=\"prep_sens_table\",index=True,na_rep=\"NULL\")\r\n",
    "cse_table.to_excel(table_report,sheet_name=\"cse_table\",index=True,na_rep=\"NULL\")\r\n",
    "pvc_table.to_excel(table_report,sheet_name=\"pvc_table\",index=True,na_rep=\"NULL\")\r\n",
    "depistage_table.to_excel(table_report,sheet_name=\"depistage_table\",index=True,na_rep=\"NULL\")\r\n",
    "condoms_table.to_excel(table_report,sheet_name=\"condoms_table\",index=True,na_rep=\"NULL\")\r\n",
    "depistage_table.to_excel(table_report,sheet_name=\"depistage_table\",index=True,na_rep=\"NULL\")\r\n",
    "curriculum_table.to_excel(table_report,sheet_name=\"curriculum_table\",index=True,na_rep=\"NULL\")\r\n",
    "base_table.to_excel(table_report,sheet_name=\"base_table\",index=True,na_rep=\"NULL\")\r\n",
    "table_report.save()"
   ],
   "outputs": [],
   "metadata": {}
  },
  {
   "cell_type": "code",
   "execution_count": null,
   "source": [],
   "outputs": [],
   "metadata": {}
  }
 ],
 "metadata": {
  "orig_nbformat": 4,
  "language_info": {
   "name": "python",
   "version": "3.9.6",
   "mimetype": "text/x-python",
   "codemirror_mode": {
    "name": "ipython",
    "version": 3
   },
   "pygments_lexer": "ipython3",
   "nbconvert_exporter": "python",
   "file_extension": ".py"
  },
  "kernelspec": {
   "name": "python3",
   "display_name": "Python 3.9.6 64-bit"
  },
  "interpreter": {
   "hash": "4534460e0bdca1b390927d45471088fb3501d39abc4e3f2cee293892e17d7fc6"
  }
 },
 "nbformat": 4,
 "nbformat_minor": 2
}