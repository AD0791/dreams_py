{
 "cells": [
  {
   "cell_type": "code",
   "execution_count": 1,
   "metadata": {},
   "outputs": [],
   "source": [
    "import os\n",
    "from datetime import datetime\n",
    "#from datetime import date\n",
    "import pymysql\n",
    "from sqlalchemy import create_engine\n",
    "from decouple import config \n",
    "from dotenv import load_dotenv\n",
    "import pandas as pd\n",
    "from numpy import int16\n",
    "\n",
    "\n",
    "from IPython.core.interactiveshell import InteractiveShell\n",
    "InteractiveShell.ast_node_interactivity = \"all\"\n",
    "\n",
    "load_dotenv()\n",
    "# get the environment variables needed\n",
    "USER= config('USRCaris')\n",
    "PASSWORD= config('PASSCaris')\n",
    "HOSTNAME= config('HOSTCaris')\n",
    "DBNAME= config('DBCaris')\n",
    "\n",
    "# get the engine to connect and fetch\n",
    "engine = create_engine(f\"mysql+pymysql://{USER}:{PASSWORD}@{HOSTNAME}/{DBNAME}\")\n",
    "query = '''\n",
    "SELECT \n",
    "    (COALESCE(a.score_17a, 0) + COALESCE(a.score_21, 0) + COALESCE(a.score_21a, 0) + COALESCE(a.score_22, 0) + COALESCE(a.score_22a, 0) + COALESCE(a.score_23, 0)) AS vbg_score_total,\n",
    "    p.patient_code AS dreams_code,\n",
    "    dga.nbr_presence,\n",
    "    a.*\n",
    "FROM\n",
    "    (SELECT \n",
    "        CASE\n",
    "                WHEN d.a17 = '0' THEN 0\n",
    "                WHEN d.a17 = '4' THEN 4\n",
    "                WHEN d.a17 = '04' THEN 4\n",
    "                WHEN d.a17 = '004' THEN 4\n",
    "            END AS score_17a,\n",
    "            CASE\n",
    "                WHEN d.eske_ou_konn_bwe_alkol = 'oui' THEN 4\n",
    "                WHEN d.eske_ou_konn_bwe_alkol = 'non' THEN 0\n",
    "            END AS score_21,\n",
    "            COALESCE(d.a21_ske_ou_bw_alkl_osnon_itilize_lt_dwg_10_14, a21_nan_ki_frenkans_ou_itilize_alkol) AS score_21a,\n",
    "            CASE\n",
    "                WHEN d.eske_ou_konn_itilize_dwog = 'oui' THEN 4\n",
    "                WHEN d.eske_ou_konn_itilize_dwog = 'non' THEN 0\n",
    "            END AS score_22,\n",
    "            COALESCE(d.ske_ou_konn_itilize_dwg_10_14, ske_ou_konn_itilize_dwg_15_19) AS score_22a,\n",
    "            CASE\n",
    "                WHEN d.ou_konn_enkonsyan_apre_alcohol_ou_dwog = '5' THEN 3\n",
    "                WHEN d.ou_konn_enkonsyan_apre_alcohol_ou_dwog = '0' THEN 0\n",
    "            END AS score_23,\n",
    "            d.*\n",
    "    FROM\n",
    "        caris_db.dreams_surveys_data d) a\n",
    "        LEFT JOIN\n",
    "    dream_member dm ON dm.case_id = a.case_id\n",
    "        LEFT JOIN\n",
    "    patient p ON p.id = dm.id_patient\n",
    "        LEFT JOIN\n",
    "    (SELECT \n",
    "        COUNT(DISTINCT dgs.topic) AS nbr_presence, id_patient\n",
    "    FROM\n",
    "        dream_group_attendance dga1\n",
    "    LEFT JOIN dream_group_session dgs ON dga1.id_group_session = dgs.id\n",
    "    WHERE\n",
    "        dga1.value = 'P'\n",
    "    GROUP BY dga1.id_patient) dga ON dga.id_patient = dm.id_patient\n",
    "WHERE\n",
    "    a.total > 14\n",
    "ORDER BY (COALESCE(a.score_17a, 0) + COALESCE(a.score_21, 0) + COALESCE(a.score_21a, 0) + COALESCE(a.score_22, 0) + COALESCE(a.score_22a, 0) + COALESCE(a.score_23, 0)) DESC\n",
    "'''\n",
    "\n",
    "# close the pool of connection\n",
    "engine.dispose()\n",
    "\n",
    "vbg = pd.read_sql_query(query,engine,parse_dates=True)\n",
    "# get the test excel file from Query\n",
    "vbg.to_excel('./vbg.xlsx',index=False,na_rep=\"NULL\")"
   ]
  },
  {
   "cell_type": "code",
   "execution_count": 2,
   "metadata": {},
   "outputs": [
    {
     "data": {
      "text/plain": [
       "49642"
      ]
     },
     "execution_count": 2,
     "metadata": {},
     "output_type": "execute_result"
    }
   ],
   "source": [
    "vbg.vbg_score_total.count()"
   ]
  },
  {
   "cell_type": "code",
   "execution_count": null,
   "metadata": {},
   "outputs": [],
   "source": []
  }
 ],
 "metadata": {
  "interpreter": {
   "hash": "4534460e0bdca1b390927d45471088fb3501d39abc4e3f2cee293892e17d7fc6"
  },
  "kernelspec": {
   "display_name": "Python 3.9.7 64-bit",
   "name": "python3"
  },
  "language_info": {
   "codemirror_mode": {
    "name": "ipython",
    "version": 3
   },
   "file_extension": ".py",
   "mimetype": "text/x-python",
   "name": "python",
   "nbconvert_exporter": "python",
   "pygments_lexer": "ipython3",
   "version": "3.10.2"
  },
  "orig_nbformat": 4
 },
 "nbformat": 4,
 "nbformat_minor": 2
}
