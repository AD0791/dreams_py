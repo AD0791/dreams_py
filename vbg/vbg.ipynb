{
 "cells": [
  {
   "cell_type": "code",
   "execution_count": 1,
   "source": [
    "import os\r\n",
    "from datetime import datetime\r\n",
    "#from datetime import date\r\n",
    "import pymysql\r\n",
    "from sqlalchemy import create_engine\r\n",
    "from decouple import config \r\n",
    "from dotenv import load_dotenv\r\n",
    "import pandas as pd\r\n",
    "from numpy import int16\r\n",
    "\r\n",
    "\r\n",
    "from IPython.core.interactiveshell import InteractiveShell\r\n",
    "InteractiveShell.ast_node_interactivity = \"all\"\r\n",
    "\r\n",
    "load_dotenv()\r\n",
    "# get the environment variables needed\r\n",
    "USER= config('USRCaris')\r\n",
    "PASSWORD= config('PASSCaris')\r\n",
    "HOSTNAME= config('HOSTCaris')\r\n",
    "DBNAME= config('DBCaris')\r\n",
    "\r\n",
    "# get the engine to connect and fetch\r\n",
    "engine = create_engine(f\"mysql+pymysql://{USER}:{PASSWORD}@{HOSTNAME}/{DBNAME}\")\r\n",
    "query = '''\r\n",
    "SELECT \r\n",
    "    (COALESCE(a.score_17a, 0) + COALESCE(a.score_21, 0) + COALESCE(a.score_21a, 0) + COALESCE(a.score_22, 0) + COALESCE(a.score_22a, 0) + COALESCE(a.score_23, 0)) AS vbg_score_total,\r\n",
    "    p.patient_code AS dreams_code,\r\n",
    "    dga.nbr_presence,\r\n",
    "    a.*\r\n",
    "FROM\r\n",
    "    (SELECT \r\n",
    "        CASE\r\n",
    "                WHEN d.a17 = '0' THEN 0\r\n",
    "                WHEN d.a17 = '4' THEN 4\r\n",
    "                WHEN d.a17 = '04' THEN 4\r\n",
    "                WHEN d.a17 = '004' THEN 4\r\n",
    "            END AS score_17a,\r\n",
    "            CASE\r\n",
    "                WHEN d.eske_ou_konn_bwe_alkol = 'oui' THEN 4\r\n",
    "                WHEN d.eske_ou_konn_bwe_alkol = 'non' THEN 0\r\n",
    "            END AS score_21,\r\n",
    "            COALESCE(d.a21_ske_ou_bw_alkl_osnon_itilize_lt_dwg_10_14, a21_nan_ki_frenkans_ou_itilize_alkol) AS score_21a,\r\n",
    "            CASE\r\n",
    "                WHEN d.eske_ou_konn_itilize_dwog = 'oui' THEN 4\r\n",
    "                WHEN d.eske_ou_konn_itilize_dwog = 'non' THEN 0\r\n",
    "            END AS score_22,\r\n",
    "            COALESCE(d.ske_ou_konn_itilize_dwg_10_14, ske_ou_konn_itilize_dwg_15_19) AS score_22a,\r\n",
    "            CASE\r\n",
    "                WHEN d.ou_konn_enkonsyan_apre_alcohol_ou_dwog = '5' THEN 3\r\n",
    "                WHEN d.ou_konn_enkonsyan_apre_alcohol_ou_dwog = '0' THEN 0\r\n",
    "            END AS score_23,\r\n",
    "            d.*\r\n",
    "    FROM\r\n",
    "        caris_db.dreams_surveys_data d) a\r\n",
    "        LEFT JOIN\r\n",
    "    dream_member dm ON dm.case_id = a.case_id\r\n",
    "        LEFT JOIN\r\n",
    "    patient p ON p.id = dm.id_patient\r\n",
    "        LEFT JOIN\r\n",
    "    (SELECT \r\n",
    "        COUNT(DISTINCT dgs.topic) AS nbr_presence, id_patient\r\n",
    "    FROM\r\n",
    "        dream_group_attendance dga1\r\n",
    "    LEFT JOIN dream_group_session dgs ON dga1.id_group_session = dgs.id\r\n",
    "    WHERE\r\n",
    "        dga1.value = 'P'\r\n",
    "    GROUP BY dga1.id_patient) dga ON dga.id_patient = dm.id_patient\r\n",
    "WHERE\r\n",
    "    a.total > 14\r\n",
    "ORDER BY (COALESCE(a.score_17a, 0) + COALESCE(a.score_21, 0) + COALESCE(a.score_21a, 0) + COALESCE(a.score_22, 0) + COALESCE(a.score_22a, 0) + COALESCE(a.score_23, 0)) DESC\r\n",
    "'''\r\n",
    "\r\n",
    "# close the pool of connection\r\n",
    "engine.dispose()\r\n",
    "\r\n",
    "vbg = pd.read_sql_query(query,engine,parse_dates=True)\r\n",
    "# get the test excel file from Query\r\n",
    "vbg.to_excel('./vbg.xlsx',index=False,na_rep=\"NULL\")"
   ],
   "outputs": [],
   "metadata": {}
  },
  {
   "cell_type": "code",
   "execution_count": 3,
   "source": [
    "vbg.vbg_score_total.count()"
   ],
   "outputs": [
    {
     "output_type": "execute_result",
     "data": {
      "text/plain": [
       "39241"
      ]
     },
     "metadata": {},
     "execution_count": 3
    }
   ],
   "metadata": {}
  },
  {
   "cell_type": "code",
   "execution_count": null,
   "source": [],
   "outputs": [],
   "metadata": {}
  }
 ],
 "metadata": {
  "orig_nbformat": 4,
  "language_info": {
   "name": "python",
   "version": "3.9.6",
   "mimetype": "text/x-python",
   "codemirror_mode": {
    "name": "ipython",
    "version": 3
   },
   "pygments_lexer": "ipython3",
   "nbconvert_exporter": "python",
   "file_extension": ".py"
  },
  "kernelspec": {
   "name": "python3",
   "display_name": "Python 3.9.6 64-bit"
  },
  "interpreter": {
   "hash": "4534460e0bdca1b390927d45471088fb3501d39abc4e3f2cee293892e17d7fc6"
  }
 },
 "nbformat": 4,
 "nbformat_minor": 2
}