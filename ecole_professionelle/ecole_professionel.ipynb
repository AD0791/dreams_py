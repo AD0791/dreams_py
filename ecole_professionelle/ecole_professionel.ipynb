{
 "cells": [
  {
   "cell_type": "code",
   "execution_count": 4,
   "source": [
    "import sys\r\n",
    "sys.path.insert(0,'../app')\r\n",
    "from dreams import dreams_mastersheet\r\n",
    "\r\n",
    "\r\n"
   ],
   "outputs": [],
   "metadata": {}
  },
  {
   "cell_type": "code",
   "execution_count": 42,
   "source": [
    "from fuzzywuzzy import fuzz \r\n",
    "import pandas as pd\r\n",
    "from IPython.core.interactiveshell import InteractiveShell\r\n",
    "InteractiveShell.ast_node_interactivity = \"all\""
   ],
   "outputs": [],
   "metadata": {}
  },
  {
   "cell_type": "code",
   "execution_count": 36,
   "source": [
    "ecoleprofesionnelle = pd.read_excel('FORMATIONPROFESSIONNELLE.xlsx',parse_dates=True)"
   ],
   "outputs": [],
   "metadata": {}
  },
  {
   "cell_type": "code",
   "execution_count": 43,
   "source": [
    "ecoleprofesionnelle.columns\r\n",
    "dreams_mastersheet.columns"
   ],
   "outputs": [
    {
     "output_type": "execute_result",
     "data": {
      "text/plain": [
       "Index(['Nom de l'ecole professionnelle', 'Commune', 'Option', 'Nom', 'Prenom',\n",
       "       'Date de naissance ', 'Frais d'inscription', '1 er versement ',\n",
       "       'Ck/1 er Versement', 'Agent', 'Date', 'Paye', 'Date.1', 'Commentaire ',\n",
       "       'epconc'],\n",
       "      dtype='object')"
      ]
     },
     "metadata": {},
     "execution_count": 43
    },
    {
     "output_type": "execute_result",
     "data": {
      "text/plain": [
       "Index(['main_id', 'muso_eligibility', 'actual_id_group',\n",
       "       'group_she_take_sessions', 'code', 'last_name', 'first_name', 'dob',\n",
       "       'age', 'number_of_different_topic',\n",
       "       ...\n",
       "       'init_prep', 'ref_prep', 'sens_prep', 'socio_eco_app',\n",
       "       'post_care_treatment', 'score_eligible_AGYW', 'recevoir_1services',\n",
       "       'ps_10_14', 'ps_15_19', 'ps_20_24'],\n",
       "      dtype='object', length=311)"
      ]
     },
     "metadata": {},
     "execution_count": 43
    }
   ],
   "metadata": {}
  },
  {
   "cell_type": "code",
   "execution_count": 44,
   "source": [
    "def epconc_handler(df):\r\n",
    "    return f\"{df.Nom} {df.Prenom} {df.Commune}\"\r\n",
    "\r\n",
    "def dconc_handler(df):\r\n",
    "    return f\"{df.first_name} {df.last_name} {df.actual_commune}\""
   ],
   "outputs": [],
   "metadata": {}
  },
  {
   "cell_type": "code",
   "execution_count": 45,
   "source": [
    "ecoleprofesionnelle['epconc'] = ecoleprofesionnelle.apply(lambda df: epconc_handler(df),axis=1)\r\n",
    "dreams_mastersheet['dconc'] = dreams_mastersheet.apply(lambda df: dconc_handler(df),axis=1)"
   ],
   "outputs": [],
   "metadata": {}
  },
  {
   "cell_type": "code",
   "execution_count": null,
   "source": [],
   "outputs": [],
   "metadata": {}
  }
 ],
 "metadata": {
  "orig_nbformat": 4,
  "language_info": {
   "name": "python",
   "version": "3.9.6",
   "mimetype": "text/x-python",
   "codemirror_mode": {
    "name": "ipython",
    "version": 3
   },
   "pygments_lexer": "ipython3",
   "nbconvert_exporter": "python",
   "file_extension": ".py"
  },
  "kernelspec": {
   "name": "python3",
   "display_name": "Python 3.9.6 64-bit"
  },
  "interpreter": {
   "hash": "4534460e0bdca1b390927d45471088fb3501d39abc4e3f2cee293892e17d7fc6"
  }
 },
 "nbformat": 4,
 "nbformat_minor": 2
}