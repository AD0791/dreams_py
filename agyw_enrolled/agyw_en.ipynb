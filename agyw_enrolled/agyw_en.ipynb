{
 "cells": [
  {
   "cell_type": "code",
   "execution_count": 1,
   "metadata": {},
   "outputs": [],
   "source": [
    "from IPython.core.interactiveshell import InteractiveShell\n",
    "from dataframe_image import export\n",
    "import openpyxl\n",
    "from pandas import (\n",
    "    Int32Dtype,\n",
    "    ExcelWriter\n",
    ")\n",
    "\n",
    "\n",
    "from agyw_enrolled import (\n",
    "    total_en,\n",
    "    agyw_en,\n",
    "    sdata\n",
    ")\n",
    "from en_helpers import (\n",
    "    name_handler,\n",
    "    commune_to_department\n",
    ")\n",
    "\n",
    "\n",
    "\n",
    "InteractiveShell.ast_node_interactivity = \"all\""
   ]
  },
  {
   "cell_type": "code",
   "execution_count": 2,
   "metadata": {},
   "outputs": [
    {
     "name": "stderr",
     "output_type": "stream",
     "text": [
      "/usr/local/lib/python3.10/site-packages/dataframe_image/_pandas_accessor.py:69: FutureWarning: this method is deprecated in favour of `Styler.to_html()`\n",
      "  html = '<div>' + obj.render() + '</div>'\n",
      "[0401/142740.735462:INFO:headless_shell.cc(659)] Written to file /var/folders/7v/rs0k237d6nj3vdxfc1h7xtcw0000gn/T/tmp25z1r9i9/temp.png.\n"
     ]
    },
    {
     "data": {
      "text/html": [
       "<style type=\"text/css\">\n",
       "#T_71c35_row0_col0, #T_71c35_row0_col1 {\n",
       "  background-color: yellow;\n",
       "}\n",
       "</style>\n",
       "<table id=\"T_71c35\">\n",
       "  <thead>\n",
       "    <tr>\n",
       "      <th class=\"blank level0\" >&nbsp;</th>\n",
       "      <th id=\"T_71c35_level0_col0\" class=\"col_heading level0 col0\" >organisation</th>\n",
       "      <th id=\"T_71c35_level0_col1\" class=\"col_heading level0 col1\" >total</th>\n",
       "    </tr>\n",
       "  </thead>\n",
       "  <tbody>\n",
       "    <tr>\n",
       "      <th id=\"T_71c35_level0_row0\" class=\"row_heading level0 row0\" >0</th>\n",
       "      <td id=\"T_71c35_row0_col0\" class=\"data row0 col0\" >CARIS</td>\n",
       "      <td id=\"T_71c35_row0_col1\" class=\"data row0 col1\" >5384</td>\n",
       "    </tr>\n",
       "  </tbody>\n",
       "</table>\n"
      ],
      "text/plain": [
       "<pandas.io.formats.style.Styler at 0x10ee16980>"
      ]
     },
     "execution_count": 2,
     "metadata": {},
     "output_type": "execute_result"
    }
   ],
   "source": [
    "total_en.total = total_en.total.astype(Int32Dtype())\n",
    "total_en_mh = total_en.style.highlight_max()\n",
    "export(total_en_mh,'total_enrolement.png')\n",
    "total_en_mh"
   ]
  },
  {
   "cell_type": "code",
   "execution_count": 3,
   "metadata": {},
   "outputs": [
    {
     "data": {
      "text/plain": [
       "5384"
      ]
     },
     "execution_count": 3,
     "metadata": {},
     "output_type": "execute_result"
    },
    {
     "data": {
      "text/plain": [
       "66206"
      ]
     },
     "execution_count": 3,
     "metadata": {},
     "output_type": "execute_result"
    }
   ],
   "source": [
    "agyw_en.case_id.count()\n",
    "sdata.case_id.count()"
   ]
  },
  {
   "cell_type": "code",
   "execution_count": 4,
   "metadata": {},
   "outputs": [
    {
     "data": {
      "text/plain": [
       "5384"
      ]
     },
     "execution_count": 4,
     "metadata": {},
     "output_type": "execute_result"
    }
   ],
   "source": [
    "case_agywEN = agyw_en [['case_id']]\n",
    "case_agywEN.case_id.count()"
   ]
  },
  {
   "cell_type": "code",
   "execution_count": 5,
   "metadata": {},
   "outputs": [
    {
     "data": {
      "text/plain": [
       "5384"
      ]
     },
     "execution_count": 5,
     "metadata": {},
     "output_type": "execute_result"
    }
   ],
   "source": [
    "agywEN_found = case_agywEN.merge(sdata,how='left',on='case_id')\n",
    "agywEN_found.case_id.count()"
   ]
  },
  {
   "cell_type": "code",
   "execution_count": 6,
   "metadata": {},
   "outputs": [],
   "source": [
    "agywEN_found.commune = agywEN_found.commune.str.lower()\n",
    "agywEN_found['commune_handled'] = agywEN_found.loc[:,'commune'].apply(name_handler)\n",
    "agywEN_found['department'] = agywEN_found.loc[:,'commune_handled'].apply(commune_to_department)"
   ]
  },
  {
   "cell_type": "code",
   "execution_count": 7,
   "metadata": {},
   "outputs": [
    {
     "data": {
      "text/plain": [
       "array(['petion_ville', 'kenscoff', 'carrefour', 'dessalines', 'verrettes',\n",
       "       'saintmarc', 'la_chapelle', 'limonade', 'portauprince', 'delmas',\n",
       "       'caphatien', 'quartiermorin', 'liancourt', 'gressier',\n",
       "       'grandesaline', 'montrouis', 'petite_rivire_de_lartibonite',\n",
       "       'desdunes', 'tabarre', 'plainedunord', 'milot', 'chantal',\n",
       "       'granderiviredunord', 'troudunord'], dtype=object)"
      ]
     },
     "execution_count": 7,
     "metadata": {},
     "output_type": "execute_result"
    },
    {
     "data": {
      "text/plain": [
       "array([None, 'Ouest', 'Artibonite', 'Nord'], dtype=object)"
      ]
     },
     "execution_count": 7,
     "metadata": {},
     "output_type": "execute_result"
    },
    {
     "data": {
      "text/plain": [
       "array(['Ouest', 'Artibonite', 'Nord', 'Sud'], dtype=object)"
      ]
     },
     "execution_count": 7,
     "metadata": {},
     "output_type": "execute_result"
    }
   ],
   "source": [
    "agywEN_found.commune_handled.unique()\n",
    "agywEN_found.actual_departement.unique()\n",
    "agywEN_found.department.unique()"
   ]
  },
  {
   "cell_type": "code",
   "execution_count": 9,
   "metadata": {},
   "outputs": [
    {
     "data": {
      "text/html": [
       "<style type=\"text/css\">\n",
       "#T_96773_row4_col0 {\n",
       "  background-color: yellow;\n",
       "}\n",
       "</style>\n",
       "<table id=\"T_96773\">\n",
       "  <thead>\n",
       "    <tr>\n",
       "      <th class=\"blank level0\" >&nbsp;</th>\n",
       "      <th id=\"T_96773_level0_col0\" class=\"col_heading level0 col0\" >case_id</th>\n",
       "    </tr>\n",
       "    <tr>\n",
       "      <th class=\"index_name level0\" >department</th>\n",
       "      <th class=\"blank col0\" >&nbsp;</th>\n",
       "    </tr>\n",
       "  </thead>\n",
       "  <tbody>\n",
       "    <tr>\n",
       "      <th id=\"T_96773_level0_row0\" class=\"row_heading level0 row0\" >Artibonite</th>\n",
       "      <td id=\"T_96773_row0_col0\" class=\"data row0 col0\" >2747</td>\n",
       "    </tr>\n",
       "    <tr>\n",
       "      <th id=\"T_96773_level0_row1\" class=\"row_heading level0 row1\" >Nord</th>\n",
       "      <td id=\"T_96773_row1_col0\" class=\"data row1 col0\" >448</td>\n",
       "    </tr>\n",
       "    <tr>\n",
       "      <th id=\"T_96773_level0_row2\" class=\"row_heading level0 row2\" >Ouest</th>\n",
       "      <td id=\"T_96773_row2_col0\" class=\"data row2 col0\" >2188</td>\n",
       "    </tr>\n",
       "    <tr>\n",
       "      <th id=\"T_96773_level0_row3\" class=\"row_heading level0 row3\" >Sud</th>\n",
       "      <td id=\"T_96773_row3_col0\" class=\"data row3 col0\" >1</td>\n",
       "    </tr>\n",
       "    <tr>\n",
       "      <th id=\"T_96773_level0_row4\" class=\"row_heading level0 row4\" >Total</th>\n",
       "      <td id=\"T_96773_row4_col0\" class=\"data row4 col0\" >5384</td>\n",
       "    </tr>\n",
       "  </tbody>\n",
       "</table>\n"
      ],
      "text/plain": [
       "<pandas.io.formats.style.Styler at 0x11f0ae9b0>"
      ]
     },
     "execution_count": 9,
     "metadata": {},
     "output_type": "execute_result"
    },
    {
     "name": "stderr",
     "output_type": "stream",
     "text": [
      "/usr/local/lib/python3.10/site-packages/dataframe_image/_pandas_accessor.py:69: FutureWarning: this method is deprecated in favour of `Styler.to_html()`\n",
      "  html = '<div>' + obj.render() + '</div>'\n",
      "[0401/142906.929007:INFO:headless_shell.cc(659)] Written to file /var/folders/7v/rs0k237d6nj3vdxfc1h7xtcw0000gn/T/tmprydd47c4/temp.png.\n"
     ]
    }
   ],
   "source": [
    "department_agywEN = agywEN_found.pivot_table(\n",
    "    values=\"case_id\",\n",
    "    index=\"department\",\n",
    "    aggfunc=\"count\",\n",
    "    margins=True,\n",
    "    margins_name=\"Total\"\n",
    ")\n",
    "department_agywEN_mh = department_agywEN.style.highlight_max()\n",
    "department_agywEN_mh\n",
    "export(department_agywEN_mh,'rep_department_agywEN.png')"
   ]
  },
  {
   "cell_type": "code",
   "execution_count": 11,
   "metadata": {},
   "outputs": [
    {
     "data": {
      "text/html": [
       "<style type=\"text/css\">\n",
       "#T_7b109_row24_col0 {\n",
       "  background-color: yellow;\n",
       "}\n",
       "</style>\n",
       "<table id=\"T_7b109\">\n",
       "  <thead>\n",
       "    <tr>\n",
       "      <th class=\"blank level0\" >&nbsp;</th>\n",
       "      <th id=\"T_7b109_level0_col0\" class=\"col_heading level0 col0\" >case_id</th>\n",
       "    </tr>\n",
       "    <tr>\n",
       "      <th class=\"index_name level0\" >commune</th>\n",
       "      <th class=\"blank col0\" >&nbsp;</th>\n",
       "    </tr>\n",
       "  </thead>\n",
       "  <tbody>\n",
       "    <tr>\n",
       "      <th id=\"T_7b109_level0_row0\" class=\"row_heading level0 row0\" >cap-hatien</th>\n",
       "      <td id=\"T_7b109_row0_col0\" class=\"data row0 col0\" >220</td>\n",
       "    </tr>\n",
       "    <tr>\n",
       "      <th id=\"T_7b109_level0_row1\" class=\"row_heading level0 row1\" >carrefour</th>\n",
       "      <td id=\"T_7b109_row1_col0\" class=\"data row1 col0\" >273</td>\n",
       "    </tr>\n",
       "    <tr>\n",
       "      <th id=\"T_7b109_level0_row2\" class=\"row_heading level0 row2\" >chantal</th>\n",
       "      <td id=\"T_7b109_row2_col0\" class=\"data row2 col0\" >1</td>\n",
       "    </tr>\n",
       "    <tr>\n",
       "      <th id=\"T_7b109_level0_row3\" class=\"row_heading level0 row3\" >delmas</th>\n",
       "      <td id=\"T_7b109_row3_col0\" class=\"data row3 col0\" >123</td>\n",
       "    </tr>\n",
       "    <tr>\n",
       "      <th id=\"T_7b109_level0_row4\" class=\"row_heading level0 row4\" >desdunes</th>\n",
       "      <td id=\"T_7b109_row4_col0\" class=\"data row4 col0\" >87</td>\n",
       "    </tr>\n",
       "    <tr>\n",
       "      <th id=\"T_7b109_level0_row5\" class=\"row_heading level0 row5\" >dessalines</th>\n",
       "      <td id=\"T_7b109_row5_col0\" class=\"data row5 col0\" >539</td>\n",
       "    </tr>\n",
       "    <tr>\n",
       "      <th id=\"T_7b109_level0_row6\" class=\"row_heading level0 row6\" >grande-rivire-du-nord</th>\n",
       "      <td id=\"T_7b109_row6_col0\" class=\"data row6 col0\" >1</td>\n",
       "    </tr>\n",
       "    <tr>\n",
       "      <th id=\"T_7b109_level0_row7\" class=\"row_heading level0 row7\" >grande-saline</th>\n",
       "      <td id=\"T_7b109_row7_col0\" class=\"data row7 col0\" >206</td>\n",
       "    </tr>\n",
       "    <tr>\n",
       "      <th id=\"T_7b109_level0_row8\" class=\"row_heading level0 row8\" >gressier</th>\n",
       "      <td id=\"T_7b109_row8_col0\" class=\"data row8 col0\" >256</td>\n",
       "    </tr>\n",
       "    <tr>\n",
       "      <th id=\"T_7b109_level0_row9\" class=\"row_heading level0 row9\" >kenscoff</th>\n",
       "      <td id=\"T_7b109_row9_col0\" class=\"data row9 col0\" >919</td>\n",
       "    </tr>\n",
       "    <tr>\n",
       "      <th id=\"T_7b109_level0_row10\" class=\"row_heading level0 row10\" >la_chapelle</th>\n",
       "      <td id=\"T_7b109_row10_col0\" class=\"data row10 col0\" >275</td>\n",
       "    </tr>\n",
       "    <tr>\n",
       "      <th id=\"T_7b109_level0_row11\" class=\"row_heading level0 row11\" >liancourt</th>\n",
       "      <td id=\"T_7b109_row11_col0\" class=\"data row11 col0\" >28</td>\n",
       "    </tr>\n",
       "    <tr>\n",
       "      <th id=\"T_7b109_level0_row12\" class=\"row_heading level0 row12\" >limonade</th>\n",
       "      <td id=\"T_7b109_row12_col0\" class=\"data row12 col0\" >49</td>\n",
       "    </tr>\n",
       "    <tr>\n",
       "      <th id=\"T_7b109_level0_row13\" class=\"row_heading level0 row13\" >milot</th>\n",
       "      <td id=\"T_7b109_row13_col0\" class=\"data row13 col0\" >17</td>\n",
       "    </tr>\n",
       "    <tr>\n",
       "      <th id=\"T_7b109_level0_row14\" class=\"row_heading level0 row14\" >montrouis</th>\n",
       "      <td id=\"T_7b109_row14_col0\" class=\"data row14 col0\" >106</td>\n",
       "    </tr>\n",
       "    <tr>\n",
       "      <th id=\"T_7b109_level0_row15\" class=\"row_heading level0 row15\" >petion_ville</th>\n",
       "      <td id=\"T_7b109_row15_col0\" class=\"data row15 col0\" >194</td>\n",
       "    </tr>\n",
       "    <tr>\n",
       "      <th id=\"T_7b109_level0_row16\" class=\"row_heading level0 row16\" >petite_rivire_de_lartibonite</th>\n",
       "      <td id=\"T_7b109_row16_col0\" class=\"data row16 col0\" >259</td>\n",
       "    </tr>\n",
       "    <tr>\n",
       "      <th id=\"T_7b109_level0_row17\" class=\"row_heading level0 row17\" >plaine-du-nord</th>\n",
       "      <td id=\"T_7b109_row17_col0\" class=\"data row17 col0\" >112</td>\n",
       "    </tr>\n",
       "    <tr>\n",
       "      <th id=\"T_7b109_level0_row18\" class=\"row_heading level0 row18\" >port-au-prince</th>\n",
       "      <td id=\"T_7b109_row18_col0\" class=\"data row18 col0\" >276</td>\n",
       "    </tr>\n",
       "    <tr>\n",
       "      <th id=\"T_7b109_level0_row19\" class=\"row_heading level0 row19\" >quartier-morin</th>\n",
       "      <td id=\"T_7b109_row19_col0\" class=\"data row19 col0\" >48</td>\n",
       "    </tr>\n",
       "    <tr>\n",
       "      <th id=\"T_7b109_level0_row20\" class=\"row_heading level0 row20\" >saint-marc</th>\n",
       "      <td id=\"T_7b109_row20_col0\" class=\"data row20 col0\" >762</td>\n",
       "    </tr>\n",
       "    <tr>\n",
       "      <th id=\"T_7b109_level0_row21\" class=\"row_heading level0 row21\" >tabarre</th>\n",
       "      <td id=\"T_7b109_row21_col0\" class=\"data row21 col0\" >147</td>\n",
       "    </tr>\n",
       "    <tr>\n",
       "      <th id=\"T_7b109_level0_row22\" class=\"row_heading level0 row22\" >trou-du-nord</th>\n",
       "      <td id=\"T_7b109_row22_col0\" class=\"data row22 col0\" >1</td>\n",
       "    </tr>\n",
       "    <tr>\n",
       "      <th id=\"T_7b109_level0_row23\" class=\"row_heading level0 row23\" >verrettes</th>\n",
       "      <td id=\"T_7b109_row23_col0\" class=\"data row23 col0\" >485</td>\n",
       "    </tr>\n",
       "    <tr>\n",
       "      <th id=\"T_7b109_level0_row24\" class=\"row_heading level0 row24\" >Total</th>\n",
       "      <td id=\"T_7b109_row24_col0\" class=\"data row24 col0\" >5384</td>\n",
       "    </tr>\n",
       "  </tbody>\n",
       "</table>\n"
      ],
      "text/plain": [
       "<pandas.io.formats.style.Styler at 0x1261b2bf0>"
      ]
     },
     "execution_count": 11,
     "metadata": {},
     "output_type": "execute_result"
    },
    {
     "name": "stderr",
     "output_type": "stream",
     "text": [
      "/usr/local/lib/python3.10/site-packages/dataframe_image/_pandas_accessor.py:69: FutureWarning: this method is deprecated in favour of `Styler.to_html()`\n",
      "  html = '<div>' + obj.render() + '</div>'\n",
      "[0401/142941.034928:INFO:headless_shell.cc(659)] Written to file /var/folders/7v/rs0k237d6nj3vdxfc1h7xtcw0000gn/T/tmp0byv963a/temp.png.\n"
     ]
    }
   ],
   "source": [
    "commune_agywEN = agywEN_found.pivot_table(\n",
    "    values=\"case_id\",\n",
    "    index=\"commune\",\n",
    "    aggfunc=\"count\",\n",
    "    margins=True,\n",
    "    margins_name=\"Total\"\n",
    ")\n",
    "commune_agywEN_mh = commune_agywEN.style.highlight_max()\n",
    "commune_agywEN_mh\n",
    "export(commune_agywEN_mh,'rep_commune_agywEN.png')"
   ]
  },
  {
   "cell_type": "code",
   "execution_count": 15,
   "metadata": {},
   "outputs": [],
   "source": [
    "personne_sud  = agywEN_found[agywEN_found.commune == 'chantal']\n",
    "personne_sud.to_excel('agyw_chantal_sud.xlsx',na_rep=\"\",index=False)"
   ]
  },
  {
   "cell_type": "code",
   "execution_count": 13,
   "metadata": {},
   "outputs": [],
   "source": [
    "report_agywEN = ExcelWriter(f\"rapport_repartiton_enrolement.xlsx\",engine=\"openpyxl\")\n",
    "total_en_mh.to_excel(report_agywEN,sheet_name=\"total\",index=False,na_rep=\"\")\n",
    "department_agywEN_mh.to_excel(report_agywEN,sheet_name=\"rep_department\",index=True,na_rep=\"\")\n",
    "commune_agywEN_mh.to_excel(report_agywEN,sheet_name=\"rep_commune\",index=True,na_rep=\"\")\n",
    "report_agywEN.save() "
   ]
  },
  {
   "cell_type": "code",
   "execution_count": null,
   "metadata": {},
   "outputs": [],
   "source": []
  }
 ],
 "metadata": {
  "interpreter": {
   "hash": "b460384b52104c1e5b9cf54bee46a255d22b2bef338f75ac4ad5d48196028d3c"
  },
  "kernelspec": {
   "display_name": "Python 3.10.2 64-bit",
   "language": "python",
   "name": "python3"
  },
  "language_info": {
   "codemirror_mode": {
    "name": "ipython",
    "version": 3
   },
   "file_extension": ".py",
   "mimetype": "text/x-python",
   "name": "python",
   "nbconvert_exporter": "python",
   "pygments_lexer": "ipython3",
   "version": "3.10.4"
  },
  "orig_nbformat": 4
 },
 "nbformat": 4,
 "nbformat_minor": 2
}
