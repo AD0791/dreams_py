{
 "cells": [
  {
   "cell_type": "code",
   "execution_count": 1,
   "source": [
    "import os\r\n",
    "from datetime import datetime\r\n",
    "#from datetime import date\r\n",
    "import pymysql\r\n",
    "from sqlalchemy import create_engine\r\n",
    "from decouple import config \r\n",
    "from dotenv import load_dotenv\r\n",
    "import pandas as pd\r\n",
    "from numpy import int16\r\n",
    "\r\n",
    "\r\n",
    "from IPython.core.interactiveshell import InteractiveShell\r\n",
    "InteractiveShell.ast_node_interactivity = \"all\"\r\n",
    "\r\n",
    "load_dotenv()\r\n",
    "# get the environment variables needed\r\n",
    "USER= config('USRCaris')\r\n",
    "PASSWORD= config('PASSCaris')\r\n",
    "HOSTNAME= config('HOSTCaris')\r\n",
    "DBNAME= config('DBCaris')\r\n",
    "\r\n",
    "# get the engine to connect and fetch\r\n",
    "engine = create_engine(f\"mysql+pymysql://{USER}:{PASSWORD}@{HOSTNAME}/{DBNAME}\")\r\n",
    "query = '''\r\n",
    "SELECT \r\n",
    "    dm.id_patient AS main_id,\r\n",
    "    IF(TIMESTAMPDIFF(YEAR,\r\n",
    "            dsd.nan_ki_dat_ou_fet,\r\n",
    "            NOW()) >= 18,\r\n",
    "        IF(dsd.a7_Ak_kiles_w_ap_viv_15_19 = '3'\r\n",
    "                OR dsd.a1121_aktivite_pouw_rantre_kob_ou_vle_fe = '0'\r\n",
    "                or dsd.c6b_Kiles_ki_peye_lekol_ou_Tranche_15_19 = '3'\r\n",
    "                or dsd.eske_ou_bay_kob_pou_pran_swen_piti_ou_ayo = 'oui',\r\n",
    "            'yes_sup18',\r\n",
    "            'no18'),\r\n",
    "        if(\r\n",
    "\t\t\tdsd.a7_ak_kils_w_ap_viv_10_14 = '6'\r\n",
    "            OR dsd.a1121_aktivite_pouw_rantre_kob_ou_vle_fe = '0'\r\n",
    "            OR dsd.c6b_kils_ki_peye_lekl_ou_10_14 = '5'\r\n",
    "            or dsd.eske_ou_bay_kob_pou_pran_swen_piti_ou_ayo = 'oui',\r\n",
    "            'yes_inf17'\r\n",
    "            ,'no17'\t)\r\n",
    "\t\t) AS muso_eligibility,\r\n",
    "    dm.id_group AS actual_id_group,\r\n",
    "    b.groups AS group_she_take_sessions,\r\n",
    "    p.patient_code AS code,\r\n",
    "    ben.last_name,\r\n",
    "    ben.first_name,\r\n",
    "    ben.dob,\r\n",
    "    TIMESTAMPDIFF(YEAR, ben.dob, NOW()) AS age,\r\n",
    "    b.pres AS number_of_different_topic,\r\n",
    "    b.first_session_date,\r\n",
    "    b.last_session_date,\r\n",
    "    MAX(dhi.test_date) AS last_hiv_test_date,\r\n",
    "    MAX(dhi.hiv_test_awareness_date) AS last_sensibilisation_hiv_test_date,\r\n",
    "    GROUP_CONCAT(distinct dhi.hiv_test_acceptation, ',') acceptation_hiv_test,\r\n",
    "    GROUP_CONCAT(DISTINCT dhi.test_result, ',') AS test_results,\r\n",
    "    GROUP_CONCAT(DISTINCT ltlr.name, ',') AS test_results_with_label,\r\n",
    "    MAX(dhi.condoms_reception_date) AS last_condoms_reception_date,\r\n",
    "    group_concat(distinct dhi.has_been_sensibilize_for_condom, ',') as sensibilisation_condom,\r\n",
    "    group_concat(distinct dhi.accept_condom, ',') as acceptation_condom,\r\n",
    "    MAX(dhi.vbg_treatment_date) AS last_vbg_treatment_date,\r\n",
    "    MAX(dhi.gynecological_care_date) AS last_gynecological_care_date,\r\n",
    "    MAX(dhi.prep_awareness_date) AS last_sensibilisation_prep_date,\r\n",
    "    MAX(dhi.prep_reference_date) AS last_reference_prep_date,\r\n",
    "    MAX(dhi.prep_initiation_date) AS last_initiation_prep_date,\r\n",
    "    GROUP_CONCAT(distinct dhi.prep_acceptation, ',') AS acceptation_prep,\r\n",
    "    dg.name AS actual_group_name,\r\n",
    "    dh.name AS actual_hub,\r\n",
    "    lc.name AS actual_commune,\r\n",
    "    dh.commune AS actual_commune_id,\r\n",
    "    ld.name AS actual_departement,\r\n",
    "    lc.departement AS actual_departement_id,\r\n",
    "    IF(mgm.id_patient IS NOT NULL,\r\n",
    "        'yes',\r\n",
    "        'no') AS is_muso,\r\n",
    "    IF(gb.case_id IS NOT NULL, 'yes', 'no') AS is_gardening,\r\n",
    "    tf.*,\r\n",
    "    dsd.*\r\n",
    "FROM\r\n",
    "    dream_member dm\r\n",
    "        LEFT JOIN\r\n",
    "    (SELECT \r\n",
    "        SUM(a.value = 'P') AS pres,\r\n",
    "            a.id_patient,\r\n",
    "            GROUP_CONCAT(DISTINCT a.id_group, ',') AS groups,\r\n",
    "            MIN(a.date) AS first_session_date,\r\n",
    "            MAX(a.date) AS last_session_date\r\n",
    "    FROM\r\n",
    "        (SELECT \r\n",
    "        dga.*, dgs.topic, dgs.date, dgs.id_group\r\n",
    "    FROM\r\n",
    "        dream_group_attendance dga\r\n",
    "    LEFT JOIN dream_group_session dgs ON dgs.id = dga.id_group_session\r\n",
    "    WHERE\r\n",
    "        dga.value = 'P'\r\n",
    "    GROUP BY dga.id_patient , dgs.topic) a\r\n",
    "    GROUP BY a.id_patient) b ON b.id_patient = dm.id_patient\r\n",
    "        LEFT JOIN\r\n",
    "    beneficiary ben ON ben.id_patient = dm.id_patient\r\n",
    "        LEFT JOIN\r\n",
    "    patient p ON p.id = dm.id_patient\r\n",
    "        LEFT JOIN\r\n",
    "    caris_db.dream_hivinfos dhi ON dhi.id_patient = dm.id_patient\r\n",
    "        LEFT JOIN\r\n",
    "    lookup_testing_lab_result ltlr ON ltlr.id = dhi.test_result\r\n",
    "        LEFT JOIN\r\n",
    "    caris_db.dream_group dg ON dg.id = dm.id_group\r\n",
    "        LEFT JOIN\r\n",
    "    dream_hub dh ON dh.id = dg.id_dream_hub\r\n",
    "        LEFT JOIN\r\n",
    "    lookup_commune lc ON lc.id = dh.commune\r\n",
    "        LEFT JOIN\r\n",
    "    lookup_departement ld ON ld.id = lc.departement\r\n",
    "        LEFT JOIN\r\n",
    "    dreams_surveys_data dsd ON dsd.case_id = dm.case_id\r\n",
    "        LEFT JOIN\r\n",
    "    tracking_familymember tf ON tf.id_patient = dm.id_patient\r\n",
    "        LEFT JOIN\r\n",
    "    muso_group_members mgm ON mgm.id_patient = dm.id_patient\r\n",
    "        LEFT JOIN\r\n",
    "    gardening_beneficiary gb ON gb.code_dreams = p.patient_code\r\n",
    "GROUP BY dm.id_patient\r\n",
    "'''\r\n",
    "\r\n",
    "# close the pool of connection\r\n",
    "engine.dispose()\r\n",
    "\r\n",
    "dreams_mastersheet = pd.read_sql_query(query,engine,parse_dates=True)\r\n",
    "# get the test excel file from Query\r\n",
    "dreams_mastersheet.to_excel('./dreams_services.xlsx',index=False,na_rep=\"NULL\")"
   ],
   "outputs": [],
   "metadata": {}
  },
  {
   "cell_type": "code",
   "execution_count": 2,
   "source": [
    "\r\n",
    "# tranche d'age classique pr les services agyw\r\n",
    "# tranche age mineur majeur pour les services agyw\r\n",
    "# ovc age\r\n",
    "def tranche_age_classique(age):\r\n",
    "    \"\"\"age classique\"\"\"\r\n",
    "    if age>=10 and age<=14:\r\n",
    "        return \"10-14\"\r\n",
    "    elif age>=15 and age<=19:\r\n",
    "        return \"15-19\"\r\n",
    "    elif age>=20 and age<=24:\r\n",
    "        return \"20-24\"\r\n",
    "    elif age>=25 and age<=29:\r\n",
    "        return \"25-29\"\r\n",
    "    else:\r\n",
    "        return \"not_valid_age\"\r\n",
    "        \r\n",
    "def tranche_age_mineur_majeur(age):\r\n",
    "    \"\"\"minor and major age\"\"\"\r\n",
    "    if age>=10 and age<=17:\r\n",
    "        return \"10-17\"\r\n",
    "    elif age>=18 and age<=19:\r\n",
    "        return \"18-19\"\r\n",
    "    elif age>=20 and age<=24:\r\n",
    "        return \"20-24\"\r\n",
    "    elif age>=25 and age<=29:\r\n",
    "        return \"25-29\"\r\n",
    "    else:\r\n",
    "        return \"not_valid_age\"\r\n",
    "    \r\n",
    "def ovc_age(age):\r\n",
    "    \"\"\"ovc valid age\"\"\"\r\n",
    "    if age>=10 and age<=14:\r\n",
    "        return \"10-14\"\r\n",
    "    if age>=15 and age<=17:\r\n",
    "        return \"15-17\"\r\n",
    "    elif age>=18 and age<=24:\r\n",
    "        return \"not_ovc_age\"\r\n",
    "    else:\r\n",
    "        return \"not_valid_age\"\r\n",
    "    \r\n",
    "\r\n",
    "def calculation_fiscalYear21(date):\r\n",
    "    if date.year == 2021 and date.month>=1 and date.month<=3:\r\n",
    "        return \"FY21Q2\"\r\n",
    "    elif date.year == 2020 and date.month>=10 and date.month<=12:\r\n",
    "        return \"FY21Q1\"\r\n",
    "    elif date.year == 2021 and date.month>=4 and date.month<=6:\r\n",
    "        return \"FY21Q3\"\r\n",
    "    elif date.year == 2021 and date.month>=7 and date.month<=9:\r\n",
    "        return \"FY21Q4\"\r\n",
    "    elif date.year == 2020 and date.month>=4 and date.month<=6:\r\n",
    "        return \"FY20Q3\"\r\n",
    "    elif date.year == 2020 and date.month>=7 and date.month<=9:\r\n",
    "        return \"FY20Q4\"\r\n",
    "    else:\r\n",
    "        return \"not_valid\"\r\n",
    "\r\n",
    "def fiscalYear21(mod):\r\n",
    "    if mod == \"FY20Q3\" or mod == \"FY20Q4\":\r\n",
    "        return \"Q3fy20-Q4fy20\"\r\n",
    "    else:\r\n",
    "        return mod\r\n",
    "\r\n",
    "    \r\n",
    "def validTimeOnSystem(date):\r\n",
    "    #if date<= datetime.strptime(\"2020-06-30\",\"%Y-%m-%d\"):\r\n",
    "    if date>= datetime.strptime(\"2020-04-01\",\"%Y-%m-%d\") and date<= datetime.now():\r\n",
    "    #if date>= datetime.strptime(\"2020-04-01\",\"%Y-%m-%d\") and date<= datetime.strptime(\"2021-06-30\",\"%Y-%m-%d\"):\r\n",
    "        return \"required_Time_on\"\r\n",
    "    else:\r\n",
    "        return \"not_valid_time_on\"\r\n",
    "        \r\n",
    "    \r\n",
    "\r\n",
    "    \r\n",
    "def between_now_date_entevyou(date):\r\n",
    "    #return (datetime.strptime(\"2021-06-30\",\"%Y-%m-%d\").year - date.year) * 12 + (datetime.strptime(\"2021-06-30\",\"%Y-%m-%d\").month - date.month)\r\n",
    "    return (datetime.now().year - date.year) * 12 + (datetime.now().month - date.month)\r\n",
    "\r\n",
    "\r\n",
    "\r\n",
    "\r\n",
    "def agywPeriods(months):\r\n",
    "    if months <= 6:\r\n",
    "        return \"0-6 months\"\r\n",
    "    elif months>=7 and months<=12:\r\n",
    "        return \"7-12 months\"\r\n",
    "    elif months>=13 and months<=24:\r\n",
    "        return \"13-24 months\"\r\n",
    "    else:\r\n",
    "        return \"25+ months\"\r\n",
    "    \r\n",
    "\r\n",
    "def curriculum_atLeastOneService(topics):\r\n",
    "    return \"servis_auMoins_1fois\" if topics>=1 and topics<=19 else \"zero_services_curriculum\" #topics<=18\r\n",
    "\r\n",
    "\r\n",
    "def status_curriculum(topics):\r\n",
    "    if topics>=1 and topics<=13:\r\n",
    "        return \"curriculum incomplet\"\r\n",
    "    elif topics>=14 and topics<=19: #topics<=18\r\n",
    "        return \"curriculum complet\"\r\n",
    "    else:\r\n",
    "        return \"non-recu\"\r\n",
    "\r\n",
    "def id_quarter_services(date):\r\n",
    "    if type(date) == type(pd.NaT):\r\n",
    "        return 'errata'\r\n",
    "    if (type(date) != type(pd.NaT)) and (date.year == 2021 and date.month>=1 and date.month<=3):\r\n",
    "        return \"FY21Q2\"\r\n",
    "    elif (type(date) != type(pd.NaT)) and (date.year == 2020 and date.month>=10 and date.month<=12):\r\n",
    "        return \"FY21Q1\"\r\n",
    "    elif (type(date) != type(pd.NaT)) and (date.year == 2021 and date.month>=4 and date.month<=6):\r\n",
    "        return \"FY21Q3\"\r\n",
    "    elif (type(date) != type(pd.NaT)) and (date.year == 2021 and date.month>=7 and date.month<=9):\r\n",
    "        return \"FY21Q4\"\r\n",
    "    elif (type(date) != type(pd.NaT)) and (date.year == 2020 and date.month>=1 and date.month<=3):\r\n",
    "        return \"FY20Q2\"\r\n",
    "    elif (type(date) != type(pd.NaT)) and (date.year == 2019 and date.month>=10 and date.month<=12):\r\n",
    "        return \"FY20Q1\"\r\n",
    "    elif (type(date) != type(pd.NaT)) and (date.year == 2020 and date.month>=4 and date.month<=6):\r\n",
    "        return \"FY20Q3\"\r\n",
    "    elif (type(date) != type(pd.NaT)) and (date.year == 2020 and date.month>=7 and date.month<=9):\r\n",
    "        return \"FY20Q4\"\r\n",
    "    elif (type(date) != type(pd.NaT)) and (date.year == 2019 and date.month>=1 and date.month<=3):\r\n",
    "        return \"FY19Q2\"\r\n",
    "    elif (type(date) != type(pd.NaT)) and (date.year == 2018 and date.month>=10 and date.month<=12):\r\n",
    "        return \"FY19Q1\"\r\n",
    "    elif (type(date) != type(pd.NaT)) and (date.year == 2019 and date.month>=4 and date.month<=6):\r\n",
    "        return \"FY19Q3\"\r\n",
    "    elif (type(date) != type(pd.NaT)) and (date.year == 2019 and date.month>=7 and date.month<=9):\r\n",
    "        return \"FY19Q4\"\r\n",
    "    else:\r\n",
    "        return \"not_valid_fy\"\r\n",
    "    \r\n",
    "def valid_services(date):\r\n",
    "    if type(date) == type(pd.NaT):\r\n",
    "        return 'errata'\r\n",
    "    elif (type(date) != type(pd.NaT))and(date.year==2020 or date.year==2021):\r\n",
    "        return 'tested_on_given_date'\r\n",
    "    else:\r\n",
    "        return 'not_valid_date'\r\n",
    "    \r\n",
    "def condoms_services(df):\r\n",
    "    return \"sensOuRecu\" if df.condoms=='tested_on_given_date' or df.sens_condom == \"sens\" else \"no\"\r\n",
    "    \r\n",
    "def acceptation_services(choices):\r\n",
    "    if choices == \"0,\":\r\n",
    "        return \"refus\"\r\n",
    "    elif choices == '0,,1,' or choices == '1,':\r\n",
    "        return \"accept\"\r\n",
    "    else:\r\n",
    "        return \"not_valid\"\r\n",
    "\r\n",
    "def sensibilisation_services(choices):\r\n",
    "    if choices == \"0,\":\r\n",
    "        return \"non-sens\"\r\n",
    "    elif choices == '0,,1,' or choices == '1,':\r\n",
    "        return \"sens\"\r\n",
    "    else:\r\n",
    "        return \"not_valid\"\r\n",
    "    \r\n",
    "def post_care_app(df):\r\n",
    "    return 'service_gyneco_vbg' if (df.vbg==\"tested_on_given_date\") or (df.gyneco=='tested_on_given_date') else 'no'\r\n",
    "\r\n",
    "def socioEco_app(df):\r\n",
    "    return 'service_muso_gardening' if (df.is_muso=='yes') or (df.is_gardening=='yes') else 'no'\r\n",
    "\r\n",
    "\r\n",
    "def unServiceDreams(df):\r\n",
    "     return '1_services_dreams_recus' if (df.curriculum_servis_auMoins_1fois == \"servis_auMoins_1fois\") or (df.condoms=='tested_on_given_date') or (df.hts=='tested_on_given_date') or (df.post_care_treatment==\"service_gyneco_vbg\") or (df.socio_eco_app==\"service_muso_gardening\") else 'no'\r\n",
    "\r\n",
    "def new_unServiceDreams(df): \r\n",
    "     if (df.curriculum_servis_auMoins_1fois == \"servis_auMoins_1fois\") \\\r\n",
    "          or (df.new_condoms == \"sensOuRecu\") \\\r\n",
    "          or (df.hts=='tested_on_given_date') \\\r\n",
    "          or (df.post_care_treatment==\"service_gyneco_vbg\") \\\r\n",
    "          or (df.socio_eco_app==\"service_muso_gardening\") \\\r\n",
    "          or (df.init_prep==\"tested_on_given_date\"):\r\n",
    "               return '1_services_dreams_recus'\r\n",
    "     else: \r\n",
    "               return'no'\r\n",
    "           \r\n",
    "           \r\n",
    "def isAGYW(total):\r\n",
    "    return 'eligible' if total>=14 else 'no_eligible'\r\n",
    "\r\n",
    "           \r\n",
    "\r\n",
    "def service_primaire_10_14(df):\r\n",
    "    return 'curriculum-servis' if (df.curriculum==\"curriculum complet\" and df.age_range == \"10-14\") else \"no\"\r\n",
    "\r\n",
    "def service_primaire_15_19(df):\r\n",
    "    return 'condoms&curriculum' if (df.curriculum==\"curriculum complet\" and df.age_range == \"15-19\" and df.condoms=='tested_on_given_date') else 'no'\r\n",
    "\r\n",
    "def service_primaire_20_24(df):\r\n",
    "    return 'condoms&hts&curriculum' if (df.curriculum==\"curriculum complet\" and df.condoms=='tested_on_given_date' and df.hts=='tested_on_given_date' and df.age_range == \"20-24\") else 'no'\r\n",
    "\r\n",
    "def new_service_primaire_20_24(df):\r\n",
    "    return 'condoms&curriculum' if (df.curriculum==\"curriculum complet\" and df.condoms=='tested_on_given_date' and df.age_range == \"20-24\") else 'no'\r\n",
    "    \r\n",
    "def new_service_primaire_15_19(df):\r\n",
    "    return 'condoms&curriculum' if (df.curriculum==\"curriculum complet\" and df.new_condoms==\"sensOuRecu\" and df.age_range == \"15-19\") else 'no'\r\n",
    "\r\n",
    "\r\n",
    "def newI_service_primaire_20_24(df):\r\n",
    "    return 'condoms&curriculum' if (df.curriculum==\"curriculum complet\" and df.new_condoms==\"sensOuRecu\" and df.age_range == \"20-24\") else 'no'\r\n",
    "\r\n",
    "def curriculum_condense(curriculum):\r\n",
    "    return \"curriculum_completed\" if curriculum == \"curriculum complet\" else \"curriculum_inc\""
   ],
   "outputs": [],
   "metadata": {}
  },
  {
   "cell_type": "markdown",
   "source": [
    "# AGE"
   ],
   "metadata": {}
  },
  {
   "cell_type": "code",
   "execution_count": 3,
   "source": [
    "# how many NA\r\n",
    "dreams_mastersheet.age.isna().sum()"
   ],
   "outputs": [
    {
     "output_type": "execute_result",
     "data": {
      "text/plain": [
       "2"
      ]
     },
     "metadata": {},
     "execution_count": 3
    }
   ],
   "metadata": {}
  },
  {
   "cell_type": "code",
   "execution_count": 4,
   "source": [
    "# turn to integer\r\n",
    "dreams_mastersheet.age = dreams_mastersheet.age.fillna(-1000)\r\n",
    "dreams_mastersheet.age = dreams_mastersheet.age.astype(int16)\r\n",
    "dreams_mastersheet.age"
   ],
   "outputs": [
    {
     "output_type": "execute_result",
     "data": {
      "text/plain": [
       "0       -1000\n",
       "1          16\n",
       "2          19\n",
       "3          20\n",
       "4          19\n",
       "         ... \n",
       "28595      14\n",
       "28596      20\n",
       "28597      19\n",
       "28598      15\n",
       "28599      10\n",
       "Name: age, Length: 28600, dtype: int16"
      ]
     },
     "metadata": {},
     "execution_count": 4
    }
   ],
   "metadata": {}
  },
  {
   "cell_type": "code",
   "execution_count": 5,
   "source": [
    "dreams_mastersheet['age_range'] = dreams_mastersheet.age.map(tranche_age_classique)\r\n",
    "dreams_mastersheet['newage_range'] = dreams_mastersheet.age.map(tranche_age_mineur_majeur)\r\n",
    "dreams_mastersheet['ovcage_range'] = dreams_mastersheet.age.map(ovc_age)\r\n",
    "\r\n",
    "\r\n",
    "dreams_mastersheet.newage_range.unique()\r\n",
    "dreams_mastersheet.age_range.unique()\r\n",
    "dreams_mastersheet.ovcage_range.unique()"
   ],
   "outputs": [
    {
     "output_type": "execute_result",
     "data": {
      "text/plain": [
       "array(['not_valid_age', '10-17', '18-19', '20-24', '25-29'], dtype=object)"
      ]
     },
     "metadata": {},
     "execution_count": 5
    },
    {
     "output_type": "execute_result",
     "data": {
      "text/plain": [
       "array(['not_valid_age', '15-19', '20-24', '10-14', '25-29'], dtype=object)"
      ]
     },
     "metadata": {},
     "execution_count": 5
    },
    {
     "output_type": "execute_result",
     "data": {
      "text/plain": [
       "array(['not_valid_age', '15-17', 'not_ovc_age', '10-14'], dtype=object)"
      ]
     },
     "metadata": {},
     "execution_count": 5
    }
   ],
   "metadata": {}
  },
  {
   "cell_type": "markdown",
   "source": [
    "# Date Aspect"
   ],
   "metadata": {}
  },
  {
   "cell_type": "code",
   "execution_count": 6,
   "source": [
    "dreams_mastersheet.a1_dat_entvyou_a_ft_jjmmaa_egz_010817.isna().sum()\r\n",
    "dreams_mastersheet[\"date_entevyou\"] = pd.to_datetime( dreams_mastersheet.a1_dat_entvyou_a_ft_jjmmaa_egz_010817)\r\n",
    "dreams_mastersheet.date_entevyou"
   ],
   "outputs": [
    {
     "output_type": "execute_result",
     "data": {
      "text/plain": [
       "0"
      ]
     },
     "metadata": {},
     "execution_count": 6
    },
    {
     "output_type": "execute_result",
     "data": {
      "text/plain": [
       "0       2020-07-09\n",
       "1       2019-12-18\n",
       "2       2019-12-18\n",
       "3       2019-12-18\n",
       "4       2019-12-18\n",
       "           ...    \n",
       "28595   2020-12-21\n",
       "28596   2021-08-28\n",
       "28597   2020-01-05\n",
       "28598   2020-08-13\n",
       "28599   2020-12-22\n",
       "Name: date_entevyou, Length: 28600, dtype: datetime64[ns]"
      ]
     },
     "metadata": {},
     "execution_count": 6
    }
   ],
   "metadata": {}
  },
  {
   "cell_type": "code",
   "execution_count": 7,
   "source": [
    "dreams_mastersheet.first_session_date.isna().sum()\r\n",
    "dreams_mastersheet.last_session_date.isna().sum()\r\n",
    "dreams_mastersheet.first_session_date = dreams_mastersheet.first_session_date.fillna('0000-00-00')\r\n",
    "dreams_mastersheet.last_session_date = dreams_mastersheet.last_session_date.fillna('0000-00-00')\r\n",
    "\r\n",
    "dreams_mastersheet[\"curriculum_date_debut\"] = pd.to_datetime( dreams_mastersheet.first_session_date,errors='coerce')\r\n",
    "dreams_mastersheet[\"curriculum_date_end\"] = pd.to_datetime( dreams_mastersheet.last_session_date,errors='coerce')\r\n",
    "\r\n",
    "dreams_mastersheet.curriculum_date_debut.dt.year.unique()\r\n",
    "dreams_mastersheet.curriculum_date_end.dt.year.unique()"
   ],
   "outputs": [
    {
     "output_type": "execute_result",
     "data": {
      "text/plain": [
       "1720"
      ]
     },
     "metadata": {},
     "execution_count": 7
    },
    {
     "output_type": "execute_result",
     "data": {
      "text/plain": [
       "1720"
      ]
     },
     "metadata": {},
     "execution_count": 7
    },
    {
     "output_type": "execute_result",
     "data": {
      "text/plain": [
       "array([  nan, 2020., 2021., 2019.])"
      ]
     },
     "metadata": {},
     "execution_count": 7
    },
    {
     "output_type": "execute_result",
     "data": {
      "text/plain": [
       "array([  nan, 2020., 2021.])"
      ]
     },
     "metadata": {},
     "execution_count": 7
    }
   ],
   "metadata": {}
  },
  {
   "cell_type": "code",
   "execution_count": 8,
   "source": [
    "\r\n",
    "dreams_mastersheet.last_sensibilisation_prep_date.isna().sum()\r\n",
    "dreams_mastersheet.last_reference_prep_date.isna().sum()\r\n",
    "dreams_mastersheet.last_initiation_prep_date.isna().sum()\r\n",
    "\r\n",
    "dreams_mastersheet.last_sensibilisation_prep_date = dreams_mastersheet.last_sensibilisation_prep_date.fillna('0000-00-00')\r\n",
    "dreams_mastersheet[\"sens_prep_date\"] = pd.to_datetime( dreams_mastersheet.last_sensibilisation_prep_date,errors='coerce')\r\n",
    "\r\n",
    "dreams_mastersheet.last_reference_prep_date = dreams_mastersheet.last_reference_prep_date.fillna('0000-00-00')\r\n",
    "dreams_mastersheet[\"ref_prep_date\"] = pd.to_datetime( dreams_mastersheet.last_reference_prep_date,errors='coerce')\r\n",
    "\r\n",
    "dreams_mastersheet.last_initiation_prep_date = dreams_mastersheet.last_initiation_prep_date.fillna('0000-00-00')\r\n",
    "dreams_mastersheet[\"init_prep_date\"] = pd.to_datetime( dreams_mastersheet.last_initiation_prep_date,errors='coerce')\r\n",
    "\r\n",
    "dreams_mastersheet.init_prep_date.dt.year.unique()\r\n"
   ],
   "outputs": [
    {
     "output_type": "execute_result",
     "data": {
      "text/plain": [
       "23546"
      ]
     },
     "metadata": {},
     "execution_count": 8
    },
    {
     "output_type": "execute_result",
     "data": {
      "text/plain": [
       "23674"
      ]
     },
     "metadata": {},
     "execution_count": 8
    },
    {
     "output_type": "execute_result",
     "data": {
      "text/plain": [
       "23676"
      ]
     },
     "metadata": {},
     "execution_count": 8
    },
    {
     "output_type": "execute_result",
     "data": {
      "text/plain": [
       "array([  nan, 2021.])"
      ]
     },
     "metadata": {},
     "execution_count": 8
    }
   ],
   "metadata": {}
  },
  {
   "cell_type": "code",
   "execution_count": 9,
   "source": [
    "dreams_mastersheet.last_hiv_test_date.isna().sum()\r\n",
    "dreams_mastersheet.last_sensibilisation_hiv_test_date.isna().sum()\r\n",
    "dreams_mastersheet.last_condoms_reception_date.isna().sum()\r\n",
    "dreams_mastersheet.last_vbg_treatment_date.isna().sum()\r\n",
    "dreams_mastersheet.last_gynecological_care_date.isna().sum()\r\n",
    "\r\n",
    "dreams_mastersheet.last_hiv_test_date = dreams_mastersheet.last_hiv_test_date.fillna('0000-00-00')\r\n",
    "dreams_mastersheet[\"hts_date\"] = pd.to_datetime( dreams_mastersheet.last_hiv_test_date,errors='coerce')\r\n",
    "\r\n",
    "dreams_mastersheet.last_sensibilisation_hiv_test_date = dreams_mastersheet.last_sensibilisation_hiv_test_date.fillna('0000-00-00')\r\n",
    "dreams_mastersheet[\"sens_hts_date\"] = pd.to_datetime( dreams_mastersheet.last_sensibilisation_hiv_test_date,errors='coerce')\r\n",
    "\r\n",
    "\r\n",
    "dreams_mastersheet.last_condoms_reception_date = dreams_mastersheet.last_condoms_reception_date.fillna('0000-00-00')\r\n",
    "dreams_mastersheet['condoms_date'] = pd.to_datetime(dreams_mastersheet.last_condoms_reception_date,errors='coerce')\r\n",
    "\r\n",
    "dreams_mastersheet.last_vbg_treatment_date = dreams_mastersheet.last_vbg_treatment_date.fillna('0000-00-00')\r\n",
    "dreams_mastersheet['vbg_date'] = pd.to_datetime(dreams_mastersheet.last_vbg_treatment_date,errors='coerce')\r\n",
    "\r\n",
    "dreams_mastersheet.last_gynecological_care_date = dreams_mastersheet.last_gynecological_care_date.fillna('0000-00-00')\r\n",
    "dreams_mastersheet['gyneco_date'] = pd.to_datetime(dreams_mastersheet.last_gynecological_care_date,errors='coerce')\r\n",
    "\r\n",
    "dreams_mastersheet.sens_hts_date.dt.year.unique()\r\n",
    "dreams_mastersheet.hts_date.dt.year.unique()\r\n",
    "dreams_mastersheet.condoms_date.dt.year.unique()\r\n",
    "dreams_mastersheet.vbg_date.dt.year.unique()\r\n",
    "dreams_mastersheet.gyneco_date.dt.year.unique()"
   ],
   "outputs": [
    {
     "output_type": "execute_result",
     "data": {
      "text/plain": [
       "12106"
      ]
     },
     "metadata": {},
     "execution_count": 9
    },
    {
     "output_type": "execute_result",
     "data": {
      "text/plain": [
       "24683"
      ]
     },
     "metadata": {},
     "execution_count": 9
    },
    {
     "output_type": "execute_result",
     "data": {
      "text/plain": [
       "12116"
      ]
     },
     "metadata": {},
     "execution_count": 9
    },
    {
     "output_type": "execute_result",
     "data": {
      "text/plain": [
       "12110"
      ]
     },
     "metadata": {},
     "execution_count": 9
    },
    {
     "output_type": "execute_result",
     "data": {
      "text/plain": [
       "28526"
      ]
     },
     "metadata": {},
     "execution_count": 9
    },
    {
     "output_type": "execute_result",
     "data": {
      "text/plain": [
       "array([  nan, 2021.])"
      ]
     },
     "metadata": {},
     "execution_count": 9
    },
    {
     "output_type": "execute_result",
     "data": {
      "text/plain": [
       "array([  nan, 2020., 2021.])"
      ]
     },
     "metadata": {},
     "execution_count": 9
    },
    {
     "output_type": "execute_result",
     "data": {
      "text/plain": [
       "array([  nan, 2020., 2021.])"
      ]
     },
     "metadata": {},
     "execution_count": 9
    },
    {
     "output_type": "execute_result",
     "data": {
      "text/plain": [
       "array([  nan, 2020., 2021.])"
      ]
     },
     "metadata": {},
     "execution_count": 9
    },
    {
     "output_type": "execute_result",
     "data": {
      "text/plain": [
       "array([  nan, 2020., 2021.])"
      ]
     },
     "metadata": {},
     "execution_count": 9
    }
   ],
   "metadata": {}
  },
  {
   "cell_type": "code",
   "execution_count": 10,
   "source": [
    "dreams_mastersheet[\"id_fiscal_year\"] = dreams_mastersheet.date_entevyou.map(calculation_fiscalYear21)\r\n",
    "dreams_mastersheet[\"fiscal_year\"] = dreams_mastersheet.id_fiscal_year.map(fiscalYear21)\r\n",
    "dreams_mastersheet[\"timeOn_system\"] = dreams_mastersheet.date_entevyou.map(validTimeOnSystem)\r\n",
    "dreams_mastersheet[\"months_now_dateEntevyou\"] = dreams_mastersheet.date_entevyou.map(between_now_date_entevyou)\r\n",
    "dreams_mastersheet[\"agyw_period_range\"] = dreams_mastersheet.months_now_dateEntevyou.map(agywPeriods)\r\n",
    "\r\n",
    "\r\n",
    "\r\n",
    "dreams_mastersheet.id_fiscal_year.unique()\r\n",
    "dreams_mastersheet.fiscal_year.unique()\r\n",
    "dreams_mastersheet.timeOn_system.unique()\r\n",
    "#dreams_mastersheet.months_now_dateEntevyou.unique()\r\n",
    "dreams_mastersheet.agyw_period_range.unique()"
   ],
   "outputs": [
    {
     "output_type": "execute_result",
     "data": {
      "text/plain": [
       "array(['FY20Q4', 'not_valid', 'FY20Q3', 'FY21Q1', 'FY21Q2', 'FY21Q3',\n",
       "       'FY21Q4'], dtype=object)"
      ]
     },
     "metadata": {},
     "execution_count": 10
    },
    {
     "output_type": "execute_result",
     "data": {
      "text/plain": [
       "array(['Q3fy20-Q4fy20', 'not_valid', 'FY21Q1', 'FY21Q2', 'FY21Q3',\n",
       "       'FY21Q4'], dtype=object)"
      ]
     },
     "metadata": {},
     "execution_count": 10
    },
    {
     "output_type": "execute_result",
     "data": {
      "text/plain": [
       "array(['required_Time_on', 'not_valid_time_on'], dtype=object)"
      ]
     },
     "metadata": {},
     "execution_count": 10
    },
    {
     "output_type": "execute_result",
     "data": {
      "text/plain": [
       "array(['13-24 months', '25+ months', '7-12 months', '0-6 months'],\n",
       "      dtype=object)"
      ]
     },
     "metadata": {},
     "execution_count": 10
    }
   ],
   "metadata": {}
  },
  {
   "cell_type": "code",
   "execution_count": 11,
   "source": [
    "dreams_mastersheet['curriculum_date_debut_fy'] = dreams_mastersheet.curriculum_date_debut.map(id_quarter_services)\r\n",
    "dreams_mastersheet['curriculum_date_end_fy'] = dreams_mastersheet.curriculum_date_end.map(id_quarter_services)\r\n",
    "dreams_mastersheet.curriculum_date_debut_fy.unique()\r\n",
    "dreams_mastersheet.curriculum_date_end_fy.unique()"
   ],
   "outputs": [
    {
     "output_type": "execute_result",
     "data": {
      "text/plain": [
       "array(['errata', 'FY20Q4', 'FY20Q3', 'FY20Q2', 'FY21Q3', 'FY21Q4',\n",
       "       'FY21Q2', 'FY19Q3', 'FY21Q1'], dtype=object)"
      ]
     },
     "metadata": {},
     "execution_count": 11
    },
    {
     "output_type": "execute_result",
     "data": {
      "text/plain": [
       "array(['errata', 'FY20Q4', 'FY20Q3', 'FY20Q2', 'FY21Q4', 'FY21Q2',\n",
       "       'FY21Q3', 'FY21Q1'], dtype=object)"
      ]
     },
     "metadata": {},
     "execution_count": 11
    }
   ],
   "metadata": {}
  },
  {
   "cell_type": "code",
   "execution_count": 12,
   "source": [
    "dreams_mastersheet['hts_fy'] = dreams_mastersheet.hts_date.map(id_quarter_services)\r\n",
    "dreams_mastersheet['sens_hts_fy'] = dreams_mastersheet.sens_hts_date.map(id_quarter_services)\r\n",
    "dreams_mastersheet['condoms_fy'] = dreams_mastersheet.condoms_date.map(id_quarter_services)\r\n",
    "dreams_mastersheet['vbg_fy'] = dreams_mastersheet.vbg_date.map(id_quarter_services)\r\n",
    "dreams_mastersheet['gyneco_fy'] = dreams_mastersheet.gyneco_date.map(id_quarter_services)\r\n",
    "dreams_mastersheet['init_prep_fy'] = dreams_mastersheet.init_prep_date.map(id_quarter_services)\r\n",
    "dreams_mastersheet['ref_prep_fy'] = dreams_mastersheet.ref_prep_date.map(id_quarter_services)\r\n",
    "dreams_mastersheet['sens_prep_fy'] = dreams_mastersheet.sens_prep_date.map(id_quarter_services)\r\n",
    "\r\n",
    "dreams_mastersheet.hts_fy.unique()\r\n",
    "dreams_mastersheet.condoms_fy.unique()\r\n",
    "dreams_mastersheet.vbg_fy.unique()\r\n",
    "dreams_mastersheet.gyneco_fy.unique()\r\n",
    "dreams_mastersheet.init_prep_fy.unique()\r\n",
    "dreams_mastersheet.sens_hts_fy.unique()\r\n",
    "dreams_mastersheet.ref_prep_fy.unique()\r\n",
    "dreams_mastersheet.sens_prep_fy.unique()"
   ],
   "outputs": [
    {
     "output_type": "execute_result",
     "data": {
      "text/plain": [
       "array(['errata', 'FY20Q2', 'FY20Q4', 'FY21Q4', 'FY20Q3', 'FY21Q3',\n",
       "       'FY21Q1', 'FY21Q2'], dtype=object)"
      ]
     },
     "metadata": {},
     "execution_count": 12
    },
    {
     "output_type": "execute_result",
     "data": {
      "text/plain": [
       "array(['errata', 'FY20Q4', 'FY20Q2', 'FY21Q4', 'FY21Q3', 'FY20Q3',\n",
       "       'FY21Q1', 'FY21Q2'], dtype=object)"
      ]
     },
     "metadata": {},
     "execution_count": 12
    },
    {
     "output_type": "execute_result",
     "data": {
      "text/plain": [
       "array(['errata', 'FY20Q4', 'FY20Q3', 'FY21Q4', 'FY21Q3'], dtype=object)"
      ]
     },
     "metadata": {},
     "execution_count": 12
    },
    {
     "output_type": "execute_result",
     "data": {
      "text/plain": [
       "array(['errata', 'FY20Q4', 'FY21Q4'], dtype=object)"
      ]
     },
     "metadata": {},
     "execution_count": 12
    },
    {
     "output_type": "execute_result",
     "data": {
      "text/plain": [
       "array(['errata', 'FY21Q4'], dtype=object)"
      ]
     },
     "metadata": {},
     "execution_count": 12
    },
    {
     "output_type": "execute_result",
     "data": {
      "text/plain": [
       "array(['errata', 'FY21Q4', 'FY21Q3'], dtype=object)"
      ]
     },
     "metadata": {},
     "execution_count": 12
    },
    {
     "output_type": "execute_result",
     "data": {
      "text/plain": [
       "array(['errata', 'FY21Q4'], dtype=object)"
      ]
     },
     "metadata": {},
     "execution_count": 12
    },
    {
     "output_type": "execute_result",
     "data": {
      "text/plain": [
       "array(['errata', 'FY21Q4', 'FY21Q3'], dtype=object)"
      ]
     },
     "metadata": {},
     "execution_count": 12
    }
   ],
   "metadata": {}
  },
  {
   "cell_type": "markdown",
   "source": [
    "# Services"
   ],
   "metadata": {}
  },
  {
   "cell_type": "code",
   "execution_count": 13,
   "source": [
    "dreams_mastersheet.number_of_different_topic.isna().sum()\r\n",
    "dreams_mastersheet.number_of_different_topic = dreams_mastersheet.number_of_different_topic.fillna(-1000)\r\n",
    "dreams_mastersheet.number_of_different_topic = dreams_mastersheet.number_of_different_topic.astype(int16)\r\n",
    "dreams_mastersheet.number_of_different_topic.unique()\r\n",
    "\r\n",
    "dreams_mastersheet['curriculum_servis_auMoins_1fois'] = dreams_mastersheet.number_of_different_topic.map(curriculum_atLeastOneService)\r\n",
    "dreams_mastersheet['curriculum'] = dreams_mastersheet.number_of_different_topic.map(status_curriculum)\r\n",
    "dreams_mastersheet[\"dreams_curriculum\"] = dreams_mastersheet.curriculum.map(curriculum_condense)\r\n",
    "\r\n",
    "\r\n",
    "\r\n",
    "dreams_mastersheet.curriculum_servis_auMoins_1fois.unique()\r\n",
    "dreams_mastersheet.curriculum.unique()\r\n",
    "dreams_mastersheet.dreams_curriculum.unique()\r\n"
   ],
   "outputs": [
    {
     "output_type": "execute_result",
     "data": {
      "text/plain": [
       "1720"
      ]
     },
     "metadata": {},
     "execution_count": 13
    },
    {
     "output_type": "execute_result",
     "data": {
      "text/plain": [
       "array([-1000,    18,    10,    13,    17,    14,    15,     6,    16,\n",
       "          11,     3,     2,     7,     9,     8,     1,     4,    12,\n",
       "           5], dtype=int16)"
      ]
     },
     "metadata": {},
     "execution_count": 13
    },
    {
     "output_type": "execute_result",
     "data": {
      "text/plain": [
       "array(['zero_services_curriculum', 'servis_auMoins_1fois'], dtype=object)"
      ]
     },
     "metadata": {},
     "execution_count": 13
    },
    {
     "output_type": "execute_result",
     "data": {
      "text/plain": [
       "array(['non-recu', 'curriculum complet', 'curriculum incomplet'],\n",
       "      dtype=object)"
      ]
     },
     "metadata": {},
     "execution_count": 13
    },
    {
     "output_type": "execute_result",
     "data": {
      "text/plain": [
       "array(['curriculum_inc', 'curriculum_completed'], dtype=object)"
      ]
     },
     "metadata": {},
     "execution_count": 13
    }
   ],
   "metadata": {}
  },
  {
   "cell_type": "code",
   "execution_count": 14,
   "source": [
    "dreams_mastersheet.acceptation_hiv_test.isna().sum()\r\n",
    "dreams_mastersheet.sensibilisation_condom.isna().sum()\r\n",
    "dreams_mastersheet.acceptation_condom.isna().sum()\r\n",
    "dreams_mastersheet.acceptation_prep.isna().sum()\r\n",
    "\r\n",
    "dreams_mastersheet.acceptation_hiv_test = dreams_mastersheet.acceptation_hiv_test.fillna(\"didnt\")\r\n",
    "dreams_mastersheet.sensibilisation_condom = dreams_mastersheet.sensibilisation_condom.fillna(\"didnt\")\r\n",
    "dreams_mastersheet.acceptation_condom = dreams_mastersheet.acceptation_condom.fillna(\"didnt\")\r\n",
    "dreams_mastersheet.acceptation_prep = dreams_mastersheet.acceptation_prep.fillna(\"didnt\")\r\n",
    "\r\n",
    "\r\n",
    "dreams_mastersheet[\"acc_hiv_test\"] = dreams_mastersheet.acceptation_hiv_test.map(acceptation_services)\r\n",
    "dreams_mastersheet[\"sens_condom\"] = dreams_mastersheet.sensibilisation_condom.map(sensibilisation_services)\r\n",
    "dreams_mastersheet[\"acc_condom\"] = dreams_mastersheet.acceptation_condom.map(acceptation_services)\r\n",
    "dreams_mastersheet[\"acc_prep\"] = dreams_mastersheet.acceptation_prep.map(acceptation_services)\r\n",
    "\r\n",
    "\r\n",
    "dreams_mastersheet.acc_hiv_test.unique()\r\n",
    "dreams_mastersheet.sens_condom.unique()\r\n",
    "dreams_mastersheet.acc_condom.unique()\r\n",
    "dreams_mastersheet.acc_prep.unique()\r\n",
    "\r\n"
   ],
   "outputs": [
    {
     "output_type": "execute_result",
     "data": {
      "text/plain": [
       "24674"
      ]
     },
     "metadata": {},
     "execution_count": 14
    },
    {
     "output_type": "execute_result",
     "data": {
      "text/plain": [
       "23485"
      ]
     },
     "metadata": {},
     "execution_count": 14
    },
    {
     "output_type": "execute_result",
     "data": {
      "text/plain": [
       "23504"
      ]
     },
     "metadata": {},
     "execution_count": 14
    },
    {
     "output_type": "execute_result",
     "data": {
      "text/plain": [
       "23545"
      ]
     },
     "metadata": {},
     "execution_count": 14
    },
    {
     "output_type": "execute_result",
     "data": {
      "text/plain": [
       "array(['not_valid', 'refus', 'accept'], dtype=object)"
      ]
     },
     "metadata": {},
     "execution_count": 14
    },
    {
     "output_type": "execute_result",
     "data": {
      "text/plain": [
       "array(['not_valid', 'non-sens', 'sens'], dtype=object)"
      ]
     },
     "metadata": {},
     "execution_count": 14
    },
    {
     "output_type": "execute_result",
     "data": {
      "text/plain": [
       "array(['not_valid', 'refus', 'accept'], dtype=object)"
      ]
     },
     "metadata": {},
     "execution_count": 14
    },
    {
     "output_type": "execute_result",
     "data": {
      "text/plain": [
       "array(['not_valid', 'refus', 'accept'], dtype=object)"
      ]
     },
     "metadata": {},
     "execution_count": 14
    }
   ],
   "metadata": {}
  },
  {
   "cell_type": "code",
   "execution_count": 15,
   "source": [
    "\r\n",
    "dreams_mastersheet['hts'] = dreams_mastersheet.hts_date.map(valid_services)\r\n",
    "dreams_mastersheet['sens_hts'] = dreams_mastersheet.sens_hts_date.map(valid_services)\r\n",
    "dreams_mastersheet['condoms'] = dreams_mastersheet.condoms_date.map(valid_services)\r\n",
    "dreams_mastersheet['new_condoms'] = dreams_mastersheet.apply(lambda df: condoms_services(df),axis=1)\r\n",
    "dreams_mastersheet['vbg'] = dreams_mastersheet.vbg_date.map(valid_services)\r\n",
    "dreams_mastersheet['gyneco'] = dreams_mastersheet.gyneco_date.map(valid_services)\r\n",
    "dreams_mastersheet['init_prep'] = dreams_mastersheet.init_prep_date.map(valid_services)\r\n",
    "dreams_mastersheet['ref_prep'] = dreams_mastersheet.ref_prep_date.map(valid_services)\r\n",
    "dreams_mastersheet['sens_prep'] = dreams_mastersheet.sens_prep_date.map(valid_services)\r\n",
    "\r\n",
    "dreams_mastersheet['socio_eco_app'] = dreams_mastersheet.apply(lambda df: socioEco_app(df),axis=1)\r\n",
    "dreams_mastersheet['post_care_treatment'] = dreams_mastersheet.apply(lambda df: post_care_app(df),axis=1)\r\n",
    "\r\n",
    "\r\n",
    "dreams_mastersheet.hts.unique()\r\n",
    "dreams_mastersheet.sens_hts.unique()\r\n",
    "dreams_mastersheet.condoms.unique()\r\n",
    "dreams_mastersheet.new_condoms.unique()\r\n",
    "dreams_mastersheet.vbg.unique()\r\n",
    "dreams_mastersheet.gyneco.unique()\r\n",
    "dreams_mastersheet.init_prep.unique()\r\n",
    "dreams_mastersheet.ref_prep.unique()\r\n",
    "dreams_mastersheet.sens_prep.unique()\r\n",
    "dreams_mastersheet.socio_eco_app.unique()\r\n",
    "dreams_mastersheet.post_care_treatment.unique()"
   ],
   "outputs": [
    {
     "output_type": "execute_result",
     "data": {
      "text/plain": [
       "array(['errata', 'tested_on_given_date'], dtype=object)"
      ]
     },
     "metadata": {},
     "execution_count": 15
    },
    {
     "output_type": "execute_result",
     "data": {
      "text/plain": [
       "array(['errata', 'tested_on_given_date'], dtype=object)"
      ]
     },
     "metadata": {},
     "execution_count": 15
    },
    {
     "output_type": "execute_result",
     "data": {
      "text/plain": [
       "array(['errata', 'tested_on_given_date'], dtype=object)"
      ]
     },
     "metadata": {},
     "execution_count": 15
    },
    {
     "output_type": "execute_result",
     "data": {
      "text/plain": [
       "array(['no', 'sensOuRecu'], dtype=object)"
      ]
     },
     "metadata": {},
     "execution_count": 15
    },
    {
     "output_type": "execute_result",
     "data": {
      "text/plain": [
       "array(['errata', 'tested_on_given_date'], dtype=object)"
      ]
     },
     "metadata": {},
     "execution_count": 15
    },
    {
     "output_type": "execute_result",
     "data": {
      "text/plain": [
       "array(['errata', 'tested_on_given_date'], dtype=object)"
      ]
     },
     "metadata": {},
     "execution_count": 15
    },
    {
     "output_type": "execute_result",
     "data": {
      "text/plain": [
       "array(['errata', 'tested_on_given_date'], dtype=object)"
      ]
     },
     "metadata": {},
     "execution_count": 15
    },
    {
     "output_type": "execute_result",
     "data": {
      "text/plain": [
       "array(['errata', 'tested_on_given_date'], dtype=object)"
      ]
     },
     "metadata": {},
     "execution_count": 15
    },
    {
     "output_type": "execute_result",
     "data": {
      "text/plain": [
       "array(['errata', 'tested_on_given_date'], dtype=object)"
      ]
     },
     "metadata": {},
     "execution_count": 15
    },
    {
     "output_type": "execute_result",
     "data": {
      "text/plain": [
       "array(['no', 'service_muso_gardening'], dtype=object)"
      ]
     },
     "metadata": {},
     "execution_count": 15
    },
    {
     "output_type": "execute_result",
     "data": {
      "text/plain": [
       "array(['no', 'service_gyneco_vbg'], dtype=object)"
      ]
     },
     "metadata": {},
     "execution_count": 15
    }
   ],
   "metadata": {}
  },
  {
   "cell_type": "markdown",
   "source": [
    "# Wildcard"
   ],
   "metadata": {}
  },
  {
   "cell_type": "code",
   "execution_count": 16,
   "source": [
    "dreams_mastersheet.total.unique()\r\n",
    "dreams_mastersheet['score_eligible_AGYW'] = dreams_mastersheet.total.map(isAGYW)\r\n",
    "dreams_mastersheet.score_eligible_AGYW.unique()"
   ],
   "outputs": [
    {
     "output_type": "execute_result",
     "data": {
      "text/plain": [
       "array([30, 27, 46, 34, 24, 45, 50, 20, 39, 42, 22, 10, 19, 47, 52, 15, 21,\n",
       "       35, 54, 25, 29, 36, 56, 40, 53, 37, 32, 26, 14, 18, 49, 38, 43, 28,\n",
       "       16, 17, 31, 23, 65, 41, 62, 33,  9, 57, 55,  3, 44, 48, 68, 51,  5,\n",
       "       58, 63, 72, 66, 67, 74, 61, 60, 70, 64, 59, 12, 13, 75, 71, 69, 81,\n",
       "       86, 73, 77, 83, 78, 80, 84, 76], dtype=int64)"
      ]
     },
     "metadata": {},
     "execution_count": 16
    },
    {
     "output_type": "execute_result",
     "data": {
      "text/plain": [
       "array(['eligible', 'no_eligible'], dtype=object)"
      ]
     },
     "metadata": {},
     "execution_count": 16
    }
   ],
   "metadata": {}
  },
  {
   "cell_type": "code",
   "execution_count": 17,
   "source": [
    "dreams_mastersheet['recevoir_1services'] = dreams_mastersheet.apply(lambda df: new_unServiceDreams(df),axis=1)\r\n",
    "dreams_mastersheet.recevoir_1services.unique()"
   ],
   "outputs": [
    {
     "output_type": "execute_result",
     "data": {
      "text/plain": [
       "array(['no', '1_services_dreams_recus'], dtype=object)"
      ]
     },
     "metadata": {},
     "execution_count": 17
    }
   ],
   "metadata": {}
  },
  {
   "cell_type": "code",
   "execution_count": 18,
   "source": [
    "dreams_mastersheet['ps_10_14'] = dreams_mastersheet.apply(lambda df: service_primaire_10_14(df),axis=1)\r\n",
    "dreams_mastersheet['ps_15_19'] = dreams_mastersheet.apply(lambda df: new_service_primaire_15_19(df), axis=1)\r\n",
    "dreams_mastersheet['ps_20_24'] = dreams_mastersheet.apply(lambda df: newI_service_primaire_20_24(df), axis=1)\r\n",
    "\r\n",
    "dreams_mastersheet.ps_10_14.unique()\r\n",
    "dreams_mastersheet.ps_15_19.unique()\r\n",
    "dreams_mastersheet.ps_20_24.unique()"
   ],
   "outputs": [
    {
     "output_type": "execute_result",
     "data": {
      "text/plain": [
       "array(['no', 'curriculum-servis'], dtype=object)"
      ]
     },
     "metadata": {},
     "execution_count": 18
    },
    {
     "output_type": "execute_result",
     "data": {
      "text/plain": [
       "array(['no', 'condoms&curriculum'], dtype=object)"
      ]
     },
     "metadata": {},
     "execution_count": 18
    },
    {
     "output_type": "execute_result",
     "data": {
      "text/plain": [
       "array(['no', 'condoms&curriculum'], dtype=object)"
      ]
     },
     "metadata": {},
     "execution_count": 18
    }
   ],
   "metadata": {}
  },
  {
   "cell_type": "markdown",
   "source": [
    "# Workbook"
   ],
   "metadata": {}
  },
  {
   "cell_type": "code",
   "execution_count": 19,
   "source": [
    "dreams_mastersheet.to_excel('./LayeringOF_services.xlsx',index=False,na_rep=\"NULL\")"
   ],
   "outputs": [],
   "metadata": {}
  },
  {
   "cell_type": "markdown",
   "source": [
    "# Indicator Solution"
   ],
   "metadata": {}
  },
  {
   "cell_type": "markdown",
   "source": [
    "Q2DATA = pd.read_excel(\"./static/Q2FY21.xlsx\", parse_dates=True, sheet_name='Q2')\r\n",
    "Q2DATA.code.count()\r\n"
   ],
   "metadata": {}
  },
  {
   "cell_type": "markdown",
   "source": [
    "Q2Code = Q2DATA[['code']]\r\n",
    "Q2Code"
   ],
   "metadata": {}
  },
  {
   "cell_type": "markdown",
   "source": [
    "DF = dreams_mastersheet "
   ],
   "metadata": {}
  },
  {
   "cell_type": "markdown",
   "source": [
    "\r\n",
    "Q2_find_data = DF[DF.code.isin(Q2Code.code)]\r\n",
    "Q2_find_data.code.count()"
   ],
   "metadata": {}
  },
  {
   "cell_type": "markdown",
   "source": [
    "no_Q2_data = DF[~DF.code.isin(Q2Code.code)]\r\n",
    "no_Q2_data.code.count()"
   ],
   "metadata": {}
  },
  {
   "cell_type": "markdown",
   "source": [
    "DF.code.count()"
   ],
   "metadata": {}
  },
  {
   "cell_type": "markdown",
   "source": [
    "no_Q2_data.to_excel('no_Q2_data.xlsx',na_rep='NULL',index=False)"
   ],
   "metadata": {}
  },
  {
   "cell_type": "markdown",
   "source": [
    "# TRY ME"
   ],
   "metadata": {}
  },
  {
   "cell_type": "markdown",
   "source": [
    "df_prior_Q2 = pd.read_excel('./datim_studies/static/agyw_prev.xlsx',sheet_name=\"DREAMS\",parse_dates=True)\r\n",
    "df_prior_Q2.code.count()"
   ],
   "metadata": {}
  },
  {
   "cell_type": "markdown",
   "source": [
    "prior_Q2_data = df_prior_Q2[~df_prior_Q2.code.isin(Q2Code.code)]\r\n",
    "prior_Q2_data.code.count()\r\n",
    "\r\n",
    "find_Q2_data = df_prior_Q2[df_prior_Q2.code.isin(Q2Code.code)]\r\n",
    "find_Q2_data.code.count()"
   ],
   "metadata": {}
  },
  {
   "cell_type": "markdown",
   "source": [
    "prior_Q2_data.to_excel('prior_Q2_data.xlsx',na_rep='NULL',index=False)"
   ],
   "metadata": {}
  },
  {
   "cell_type": "code",
   "execution_count": 20,
   "source": [
    "#df = dreams_mastersheet\r\n",
    "#base = df[\r\n",
    "#    (df.age_range!=\"not_valid_age\")\r\n",
    "#    &(df.age_range!=\"25-29\")\r\n",
    "#]\r\n",
    "\r\n",
    "\r\n",
    "#base_once = base[base.recevoir_1services == '1_services_dreams_recus']\r\n",
    "\r\n",
    "\r\n",
    "#base_once_table = base_once.pivot_table(index=\"age_range\",columns=\"agyw_period_range\",\r\n",
    "#                        values='code',\r\n",
    "#                        aggfunc='count',\r\n",
    "#                        fill_value=0,\r\n",
    "#                        margins=True,\r\n",
    "#                        margins_name=\"Grand Total\"                             \r\n",
    "#)\r\n",
    "\r\n",
    "#base_once_table"
   ],
   "outputs": [
    {
     "output_type": "execute_result",
     "data": {
      "text/plain": [
       "agyw_period_range  0-6 months  13-24 months  25+ months  7-12 months  \\\n",
       "age_range                                                              \n",
       "10-14                    1400          4075        1113         2727   \n",
       "15-19                     916          4811        3126         2735   \n",
       "20-24                     403          2288        1545         1529   \n",
       "Grand Total              2719         11174        5784         6991   \n",
       "\n",
       "agyw_period_range  Grand Total  \n",
       "age_range                       \n",
       "10-14                     9315  \n",
       "15-19                    11588  \n",
       "20-24                     5765  \n",
       "Grand Total              26668  "
      ],
      "text/html": [
       "<div>\n",
       "<style scoped>\n",
       "    .dataframe tbody tr th:only-of-type {\n",
       "        vertical-align: middle;\n",
       "    }\n",
       "\n",
       "    .dataframe tbody tr th {\n",
       "        vertical-align: top;\n",
       "    }\n",
       "\n",
       "    .dataframe thead th {\n",
       "        text-align: right;\n",
       "    }\n",
       "</style>\n",
       "<table border=\"1\" class=\"dataframe\">\n",
       "  <thead>\n",
       "    <tr style=\"text-align: right;\">\n",
       "      <th>agyw_period_range</th>\n",
       "      <th>0-6 months</th>\n",
       "      <th>13-24 months</th>\n",
       "      <th>25+ months</th>\n",
       "      <th>7-12 months</th>\n",
       "      <th>Grand Total</th>\n",
       "    </tr>\n",
       "    <tr>\n",
       "      <th>age_range</th>\n",
       "      <th></th>\n",
       "      <th></th>\n",
       "      <th></th>\n",
       "      <th></th>\n",
       "      <th></th>\n",
       "    </tr>\n",
       "  </thead>\n",
       "  <tbody>\n",
       "    <tr>\n",
       "      <th>10-14</th>\n",
       "      <td>1400</td>\n",
       "      <td>4075</td>\n",
       "      <td>1113</td>\n",
       "      <td>2727</td>\n",
       "      <td>9315</td>\n",
       "    </tr>\n",
       "    <tr>\n",
       "      <th>15-19</th>\n",
       "      <td>916</td>\n",
       "      <td>4811</td>\n",
       "      <td>3126</td>\n",
       "      <td>2735</td>\n",
       "      <td>11588</td>\n",
       "    </tr>\n",
       "    <tr>\n",
       "      <th>20-24</th>\n",
       "      <td>403</td>\n",
       "      <td>2288</td>\n",
       "      <td>1545</td>\n",
       "      <td>1529</td>\n",
       "      <td>5765</td>\n",
       "    </tr>\n",
       "    <tr>\n",
       "      <th>Grand Total</th>\n",
       "      <td>2719</td>\n",
       "      <td>11174</td>\n",
       "      <td>5784</td>\n",
       "      <td>6991</td>\n",
       "      <td>26668</td>\n",
       "    </tr>\n",
       "  </tbody>\n",
       "</table>\n",
       "</div>"
      ]
     },
     "metadata": {},
     "execution_count": 20
    }
   ],
   "metadata": {}
  },
  {
   "cell_type": "code",
   "execution_count": 22,
   "source": [
    "#base_once_table.to_excel('./static/beneficiaries_servedOnce_inception_now.xlsx',index=True)"
   ],
   "outputs": [],
   "metadata": {}
  },
  {
   "cell_type": "code",
   "execution_count": 23,
   "source": [
    "\r\n",
    "#base_13plus = base_once[\r\n",
    "#    (base_once.agyw_period_range != '0-6 months')\r\n",
    "#    &(base_once.agyw_period_range != '7-12 months')    \r\n",
    "#]\r\n",
    "\r\n",
    "#base_13plus.code.count()"
   ],
   "outputs": [
    {
     "output_type": "execute_result",
     "data": {
      "text/plain": [
       "16958"
      ]
     },
     "metadata": {},
     "execution_count": 23
    }
   ],
   "metadata": {}
  },
  {
   "cell_type": "code",
   "execution_count": 25,
   "source": [
    "#base_13plus.to_excel('./static/inception_now_13plus.xlsx',index=True)"
   ],
   "outputs": [],
   "metadata": {}
  },
  {
   "cell_type": "code",
   "execution_count": null,
   "source": [],
   "outputs": [],
   "metadata": {}
  }
 ],
 "metadata": {
  "orig_nbformat": 4,
  "language_info": {
   "name": "python",
   "version": "3.9.6",
   "mimetype": "text/x-python",
   "codemirror_mode": {
    "name": "ipython",
    "version": 3
   },
   "pygments_lexer": "ipython3",
   "nbconvert_exporter": "python",
   "file_extension": ".py"
  },
  "kernelspec": {
   "name": "python3",
   "display_name": "Python 3.9.6 64-bit"
  },
  "interpreter": {
   "hash": "4534460e0bdca1b390927d45471088fb3501d39abc4e3f2cee293892e17d7fc6"
  }
 },
 "nbformat": 4,
 "nbformat_minor": 2
}