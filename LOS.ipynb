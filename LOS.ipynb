{
 "cells": [
  {
   "cell_type": "code",
   "execution_count": 1,
   "metadata": {},
   "outputs": [
    {
     "ename": "OperationalError",
     "evalue": "(pymysql.err.OperationalError) (2013, 'Lost connection to MySQL server during query ([WinError 10053] An established connection was aborted by the software in your host machine)')\n[SQL: \nSELECT \n    dm.id_patient AS main_id,\n    IF(TIMESTAMPDIFF(YEAR,\n            dsd.nan_ki_dat_ou_fet,\n            NOW()) >= 18,\n        IF(dsd.a7_Ak_kiles_w_ap_viv_15_19 = '3'\n                OR dsd.a1121_aktivite_pouw_rantre_kob_ou_vle_fe = '0'\n                or dsd.c6b_Kiles_ki_peye_lekol_ou_Tranche_15_19 = '3'\n                or dsd.eske_ou_bay_kob_pou_pran_swen_piti_ou_ayo = 'oui',\n            'yes_sup18',\n            'no18'),\n        if(\n\t\t\tdsd.a7_ak_kils_w_ap_viv_10_14 = '6'\n            OR dsd.a1121_aktivite_pouw_rantre_kob_ou_vle_fe = '0'\n            OR dsd.c6b_kils_ki_peye_lekl_ou_10_14 = '5'\n            or dsd.eske_ou_bay_kob_pou_pran_swen_piti_ou_ayo = 'oui',\n            'yes_inf17'\n            ,'no17'\t)\n\t\t) AS muso_eligibility,\n    dm.id_group AS actual_id_group,\n    b.groups AS group_she_take_sessions,\n    p.patient_code AS code,\n    ben.last_name,\n    ben.first_name,\n    ben.dob,\n    TIMESTAMPDIFF(YEAR, ben.dob, NOW()) AS age,\n    b.pres AS number_of_different_topic,\n    b.first_session_date,\n    b.last_session_date,\n    MAX(dhi.test_date) AS last_hiv_test_date,\n    MAX(dhi.hiv_test_awareness_date) AS last_sensibilisation_hiv_test_date,\n    GROUP_CONCAT(distinct dhi.hiv_test_acceptation, ',') acceptation_hiv_test,\n    GROUP_CONCAT(DISTINCT dhi.test_result, ',') AS test_results,\n    GROUP_CONCAT(DISTINCT ltlr.name, ',') AS test_results_with_label,\n    MAX(dhi.condoms_reception_date) AS last_condoms_reception_date,\n    group_concat(distinct dhi.has_been_sensibilize_for_condom, ',') as sensibilisation_condom,\n    group_concat(distinct dhi.accept_condom, ',') as acceptation_condom,\n    MAX(dhi.vbg_treatment_date) AS last_vbg_treatment_date,\n    MAX(dhi.gynecological_care_date) AS last_gynecological_care_date,\n    MAX(dhi.prep_awareness_date) AS last_sensibilisation_prep_date,\n    MAX(dhi.prep_reference_date) AS last_reference_prep_date,\n    MAX(dhi.prep_initiation_date) AS last_initiation_prep_date,\n    GROUP_CONCAT(distinct dhi.prep_acceptation, ',') AS acceptation_prep,\n    dg.name AS actual_group_name,\n    dh.name AS actual_hub,\n    lc.name AS actual_commune,\n    dh.commune AS actual_commune_id,\n    ld.name AS actual_departement,\n    lc.departement AS actual_departement_id,\n    IF(mgm.id_patient IS NOT NULL,\n        'yes',\n        'no') AS is_muso,\n    IF(gb.case_id IS NOT NULL, 'yes', 'no') AS is_gardening,\n    tf.*,\n    dsd.*\nFROM\n    dream_member dm\n        LEFT JOIN\n    (SELECT \n        SUM(a.value = 'P') AS pres,\n            a.id_patient,\n            GROUP_CONCAT(DISTINCT a.id_group, ',') AS groups,\n            MIN(a.date) AS first_session_date,\n            MAX(a.date) AS last_session_date\n    FROM\n        (SELECT \n        dga.*, dgs.topic, dgs.date, dgs.id_group\n    FROM\n        dream_group_attendance dga\n    LEFT JOIN dream_group_session dgs ON dgs.id = dga.id_group_session\n    WHERE\n        dga.value = 'P'\n    GROUP BY dga.id_patient , dgs.topic) a\n    GROUP BY a.id_patient) b ON b.id_patient = dm.id_patient\n        LEFT JOIN\n    beneficiary ben ON ben.id_patient = dm.id_patient\n        LEFT JOIN\n    patient p ON p.id = dm.id_patient\n        LEFT JOIN\n    caris_db.dream_hivinfos dhi ON dhi.id_patient = dm.id_patient\n        LEFT JOIN\n    lookup_testing_lab_result ltlr ON ltlr.id = dhi.test_result\n        LEFT JOIN\n    caris_db.dream_group dg ON dg.id = dm.id_group\n        LEFT JOIN\n    dream_hub dh ON dh.id = dg.id_dream_hub\n        LEFT JOIN\n    lookup_commune lc ON lc.id = dh.commune\n        LEFT JOIN\n    lookup_departement ld ON ld.id = lc.departement\n        LEFT JOIN\n    dreams_surveys_data dsd ON dsd.case_id = dm.case_id\n        LEFT JOIN\n    tracking_familymember tf ON tf.id_patient = dm.id_patient\n        LEFT JOIN\n    muso_group_members mgm ON mgm.id_patient = dm.id_patient\n        LEFT JOIN\n    gardening_beneficiary gb ON gb.code_dreams = p.patient_code\nGROUP BY dm.id_patient\n]\n(Background on this error at: http://sqlalche.me/e/14/e3q8)",
     "output_type": "error",
     "traceback": [
      "\u001b[1;31m---------------------------------------------------------------------------\u001b[0m",
      "\u001b[1;31mConnectionAbortedError\u001b[0m                    Traceback (most recent call last)",
      "\u001b[1;32m~\\AppData\\Local\\Programs\\Python\\Python39\\lib\\site-packages\\pymysql\\connections.py\u001b[0m in \u001b[0;36m_read_bytes\u001b[1;34m(self, num_bytes)\u001b[0m\n\u001b[0;32m    731\u001b[0m             \u001b[1;32mtry\u001b[0m\u001b[1;33m:\u001b[0m\u001b[1;33m\u001b[0m\u001b[1;33m\u001b[0m\u001b[0m\n\u001b[1;32m--> 732\u001b[1;33m                 \u001b[0mdata\u001b[0m \u001b[1;33m=\u001b[0m \u001b[0mself\u001b[0m\u001b[1;33m.\u001b[0m\u001b[0m_rfile\u001b[0m\u001b[1;33m.\u001b[0m\u001b[0mread\u001b[0m\u001b[1;33m(\u001b[0m\u001b[0mnum_bytes\u001b[0m\u001b[1;33m)\u001b[0m\u001b[1;33m\u001b[0m\u001b[1;33m\u001b[0m\u001b[0m\n\u001b[0m\u001b[0;32m    733\u001b[0m                 \u001b[1;32mbreak\u001b[0m\u001b[1;33m\u001b[0m\u001b[1;33m\u001b[0m\u001b[0m\n",
      "\u001b[1;32m~\\AppData\\Local\\Programs\\Python\\Python39\\lib\\socket.py\u001b[0m in \u001b[0;36mreadinto\u001b[1;34m(self, b)\u001b[0m\n\u001b[0;32m    703\u001b[0m             \u001b[1;32mtry\u001b[0m\u001b[1;33m:\u001b[0m\u001b[1;33m\u001b[0m\u001b[1;33m\u001b[0m\u001b[0m\n\u001b[1;32m--> 704\u001b[1;33m                 \u001b[1;32mreturn\u001b[0m \u001b[0mself\u001b[0m\u001b[1;33m.\u001b[0m\u001b[0m_sock\u001b[0m\u001b[1;33m.\u001b[0m\u001b[0mrecv_into\u001b[0m\u001b[1;33m(\u001b[0m\u001b[0mb\u001b[0m\u001b[1;33m)\u001b[0m\u001b[1;33m\u001b[0m\u001b[1;33m\u001b[0m\u001b[0m\n\u001b[0m\u001b[0;32m    705\u001b[0m             \u001b[1;32mexcept\u001b[0m \u001b[0mtimeout\u001b[0m\u001b[1;33m:\u001b[0m\u001b[1;33m\u001b[0m\u001b[1;33m\u001b[0m\u001b[0m\n",
      "\u001b[1;31mConnectionAbortedError\u001b[0m: [WinError 10053] An established connection was aborted by the software in your host machine",
      "\nDuring handling of the above exception, another exception occurred:\n",
      "\u001b[1;31mOperationalError\u001b[0m                          Traceback (most recent call last)",
      "\u001b[1;32m~\\AppData\\Local\\Programs\\Python\\Python39\\lib\\site-packages\\sqlalchemy\\engine\\base.py\u001b[0m in \u001b[0;36m_execute_context\u001b[1;34m(self, dialect, constructor, statement, parameters, execution_options, *args, **kw)\u001b[0m\n\u001b[0;32m   1704\u001b[0m                 \u001b[1;32mif\u001b[0m \u001b[1;32mnot\u001b[0m \u001b[0mevt_handled\u001b[0m\u001b[1;33m:\u001b[0m\u001b[1;33m\u001b[0m\u001b[1;33m\u001b[0m\u001b[0m\n\u001b[1;32m-> 1705\u001b[1;33m                     self.dialect.do_execute(\n\u001b[0m\u001b[0;32m   1706\u001b[0m                         \u001b[0mcursor\u001b[0m\u001b[1;33m,\u001b[0m \u001b[0mstatement\u001b[0m\u001b[1;33m,\u001b[0m \u001b[0mparameters\u001b[0m\u001b[1;33m,\u001b[0m \u001b[0mcontext\u001b[0m\u001b[1;33m\u001b[0m\u001b[1;33m\u001b[0m\u001b[0m\n",
      "\u001b[1;32m~\\AppData\\Local\\Programs\\Python\\Python39\\lib\\site-packages\\sqlalchemy\\engine\\default.py\u001b[0m in \u001b[0;36mdo_execute\u001b[1;34m(self, cursor, statement, parameters, context)\u001b[0m\n\u001b[0;32m    715\u001b[0m     \u001b[1;32mdef\u001b[0m \u001b[0mdo_execute\u001b[0m\u001b[1;33m(\u001b[0m\u001b[0mself\u001b[0m\u001b[1;33m,\u001b[0m \u001b[0mcursor\u001b[0m\u001b[1;33m,\u001b[0m \u001b[0mstatement\u001b[0m\u001b[1;33m,\u001b[0m \u001b[0mparameters\u001b[0m\u001b[1;33m,\u001b[0m \u001b[0mcontext\u001b[0m\u001b[1;33m=\u001b[0m\u001b[1;32mNone\u001b[0m\u001b[1;33m)\u001b[0m\u001b[1;33m:\u001b[0m\u001b[1;33m\u001b[0m\u001b[1;33m\u001b[0m\u001b[0m\n\u001b[1;32m--> 716\u001b[1;33m         \u001b[0mcursor\u001b[0m\u001b[1;33m.\u001b[0m\u001b[0mexecute\u001b[0m\u001b[1;33m(\u001b[0m\u001b[0mstatement\u001b[0m\u001b[1;33m,\u001b[0m \u001b[0mparameters\u001b[0m\u001b[1;33m)\u001b[0m\u001b[1;33m\u001b[0m\u001b[1;33m\u001b[0m\u001b[0m\n\u001b[0m\u001b[0;32m    717\u001b[0m \u001b[1;33m\u001b[0m\u001b[0m\n",
      "\u001b[1;32m~\\AppData\\Local\\Programs\\Python\\Python39\\lib\\site-packages\\pymysql\\cursors.py\u001b[0m in \u001b[0;36mexecute\u001b[1;34m(self, query, args)\u001b[0m\n\u001b[0;32m    147\u001b[0m \u001b[1;33m\u001b[0m\u001b[0m\n\u001b[1;32m--> 148\u001b[1;33m         \u001b[0mresult\u001b[0m \u001b[1;33m=\u001b[0m \u001b[0mself\u001b[0m\u001b[1;33m.\u001b[0m\u001b[0m_query\u001b[0m\u001b[1;33m(\u001b[0m\u001b[0mquery\u001b[0m\u001b[1;33m)\u001b[0m\u001b[1;33m\u001b[0m\u001b[1;33m\u001b[0m\u001b[0m\n\u001b[0m\u001b[0;32m    149\u001b[0m         \u001b[0mself\u001b[0m\u001b[1;33m.\u001b[0m\u001b[0m_executed\u001b[0m \u001b[1;33m=\u001b[0m \u001b[0mquery\u001b[0m\u001b[1;33m\u001b[0m\u001b[1;33m\u001b[0m\u001b[0m\n",
      "\u001b[1;32m~\\AppData\\Local\\Programs\\Python\\Python39\\lib\\site-packages\\pymysql\\cursors.py\u001b[0m in \u001b[0;36m_query\u001b[1;34m(self, q)\u001b[0m\n\u001b[0;32m    309\u001b[0m         \u001b[0mself\u001b[0m\u001b[1;33m.\u001b[0m\u001b[0m_clear_result\u001b[0m\u001b[1;33m(\u001b[0m\u001b[1;33m)\u001b[0m\u001b[1;33m\u001b[0m\u001b[1;33m\u001b[0m\u001b[0m\n\u001b[1;32m--> 310\u001b[1;33m         \u001b[0mconn\u001b[0m\u001b[1;33m.\u001b[0m\u001b[0mquery\u001b[0m\u001b[1;33m(\u001b[0m\u001b[0mq\u001b[0m\u001b[1;33m)\u001b[0m\u001b[1;33m\u001b[0m\u001b[1;33m\u001b[0m\u001b[0m\n\u001b[0m\u001b[0;32m    311\u001b[0m         \u001b[0mself\u001b[0m\u001b[1;33m.\u001b[0m\u001b[0m_do_get_result\u001b[0m\u001b[1;33m(\u001b[0m\u001b[1;33m)\u001b[0m\u001b[1;33m\u001b[0m\u001b[1;33m\u001b[0m\u001b[0m\n",
      "\u001b[1;32m~\\AppData\\Local\\Programs\\Python\\Python39\\lib\\site-packages\\pymysql\\connections.py\u001b[0m in \u001b[0;36mquery\u001b[1;34m(self, sql, unbuffered)\u001b[0m\n\u001b[0;32m    547\u001b[0m         \u001b[0mself\u001b[0m\u001b[1;33m.\u001b[0m\u001b[0m_execute_command\u001b[0m\u001b[1;33m(\u001b[0m\u001b[0mCOMMAND\u001b[0m\u001b[1;33m.\u001b[0m\u001b[0mCOM_QUERY\u001b[0m\u001b[1;33m,\u001b[0m \u001b[0msql\u001b[0m\u001b[1;33m)\u001b[0m\u001b[1;33m\u001b[0m\u001b[1;33m\u001b[0m\u001b[0m\n\u001b[1;32m--> 548\u001b[1;33m         \u001b[0mself\u001b[0m\u001b[1;33m.\u001b[0m\u001b[0m_affected_rows\u001b[0m \u001b[1;33m=\u001b[0m \u001b[0mself\u001b[0m\u001b[1;33m.\u001b[0m\u001b[0m_read_query_result\u001b[0m\u001b[1;33m(\u001b[0m\u001b[0munbuffered\u001b[0m\u001b[1;33m=\u001b[0m\u001b[0munbuffered\u001b[0m\u001b[1;33m)\u001b[0m\u001b[1;33m\u001b[0m\u001b[1;33m\u001b[0m\u001b[0m\n\u001b[0m\u001b[0;32m    549\u001b[0m         \u001b[1;32mreturn\u001b[0m \u001b[0mself\u001b[0m\u001b[1;33m.\u001b[0m\u001b[0m_affected_rows\u001b[0m\u001b[1;33m\u001b[0m\u001b[1;33m\u001b[0m\u001b[0m\n",
      "\u001b[1;32m~\\AppData\\Local\\Programs\\Python\\Python39\\lib\\site-packages\\pymysql\\connections.py\u001b[0m in \u001b[0;36m_read_query_result\u001b[1;34m(self, unbuffered)\u001b[0m\n\u001b[0;32m    774\u001b[0m             \u001b[0mresult\u001b[0m \u001b[1;33m=\u001b[0m \u001b[0mMySQLResult\u001b[0m\u001b[1;33m(\u001b[0m\u001b[0mself\u001b[0m\u001b[1;33m)\u001b[0m\u001b[1;33m\u001b[0m\u001b[1;33m\u001b[0m\u001b[0m\n\u001b[1;32m--> 775\u001b[1;33m             \u001b[0mresult\u001b[0m\u001b[1;33m.\u001b[0m\u001b[0mread\u001b[0m\u001b[1;33m(\u001b[0m\u001b[1;33m)\u001b[0m\u001b[1;33m\u001b[0m\u001b[1;33m\u001b[0m\u001b[0m\n\u001b[0m\u001b[0;32m    776\u001b[0m         \u001b[0mself\u001b[0m\u001b[1;33m.\u001b[0m\u001b[0m_result\u001b[0m \u001b[1;33m=\u001b[0m \u001b[0mresult\u001b[0m\u001b[1;33m\u001b[0m\u001b[1;33m\u001b[0m\u001b[0m\n",
      "\u001b[1;32m~\\AppData\\Local\\Programs\\Python\\Python39\\lib\\site-packages\\pymysql\\connections.py\u001b[0m in \u001b[0;36mread\u001b[1;34m(self)\u001b[0m\n\u001b[0;32m   1162\u001b[0m             \u001b[1;32melse\u001b[0m\u001b[1;33m:\u001b[0m\u001b[1;33m\u001b[0m\u001b[1;33m\u001b[0m\u001b[0m\n\u001b[1;32m-> 1163\u001b[1;33m                 \u001b[0mself\u001b[0m\u001b[1;33m.\u001b[0m\u001b[0m_read_result_packet\u001b[0m\u001b[1;33m(\u001b[0m\u001b[0mfirst_packet\u001b[0m\u001b[1;33m)\u001b[0m\u001b[1;33m\u001b[0m\u001b[1;33m\u001b[0m\u001b[0m\n\u001b[0m\u001b[0;32m   1164\u001b[0m         \u001b[1;32mfinally\u001b[0m\u001b[1;33m:\u001b[0m\u001b[1;33m\u001b[0m\u001b[1;33m\u001b[0m\u001b[0m\n",
      "\u001b[1;32m~\\AppData\\Local\\Programs\\Python\\Python39\\lib\\site-packages\\pymysql\\connections.py\u001b[0m in \u001b[0;36m_read_result_packet\u001b[1;34m(self, first_packet)\u001b[0m\n\u001b[0;32m   1235\u001b[0m         \u001b[0mself\u001b[0m\u001b[1;33m.\u001b[0m\u001b[0m_get_descriptions\u001b[0m\u001b[1;33m(\u001b[0m\u001b[1;33m)\u001b[0m\u001b[1;33m\u001b[0m\u001b[1;33m\u001b[0m\u001b[0m\n\u001b[1;32m-> 1236\u001b[1;33m         \u001b[0mself\u001b[0m\u001b[1;33m.\u001b[0m\u001b[0m_read_rowdata_packet\u001b[0m\u001b[1;33m(\u001b[0m\u001b[1;33m)\u001b[0m\u001b[1;33m\u001b[0m\u001b[1;33m\u001b[0m\u001b[0m\n\u001b[0m\u001b[0;32m   1237\u001b[0m \u001b[1;33m\u001b[0m\u001b[0m\n",
      "\u001b[1;32m~\\AppData\\Local\\Programs\\Python\\Python39\\lib\\site-packages\\pymysql\\connections.py\u001b[0m in \u001b[0;36m_read_rowdata_packet\u001b[1;34m(self)\u001b[0m\n\u001b[0;32m   1269\u001b[0m         \u001b[1;32mwhile\u001b[0m \u001b[1;32mTrue\u001b[0m\u001b[1;33m:\u001b[0m\u001b[1;33m\u001b[0m\u001b[1;33m\u001b[0m\u001b[0m\n\u001b[1;32m-> 1270\u001b[1;33m             \u001b[0mpacket\u001b[0m \u001b[1;33m=\u001b[0m \u001b[0mself\u001b[0m\u001b[1;33m.\u001b[0m\u001b[0mconnection\u001b[0m\u001b[1;33m.\u001b[0m\u001b[0m_read_packet\u001b[0m\u001b[1;33m(\u001b[0m\u001b[1;33m)\u001b[0m\u001b[1;33m\u001b[0m\u001b[1;33m\u001b[0m\u001b[0m\n\u001b[0m\u001b[0;32m   1271\u001b[0m             \u001b[1;32mif\u001b[0m \u001b[0mself\u001b[0m\u001b[1;33m.\u001b[0m\u001b[0m_check_packet_is_eof\u001b[0m\u001b[1;33m(\u001b[0m\u001b[0mpacket\u001b[0m\u001b[1;33m)\u001b[0m\u001b[1;33m:\u001b[0m\u001b[1;33m\u001b[0m\u001b[1;33m\u001b[0m\u001b[0m\n",
      "\u001b[1;32m~\\AppData\\Local\\Programs\\Python\\Python39\\lib\\site-packages\\pymysql\\connections.py\u001b[0m in \u001b[0;36m_read_packet\u001b[1;34m(self, packet_type)\u001b[0m\n\u001b[0;32m    710\u001b[0m \u001b[1;33m\u001b[0m\u001b[0m\n\u001b[1;32m--> 711\u001b[1;33m             \u001b[0mrecv_data\u001b[0m \u001b[1;33m=\u001b[0m \u001b[0mself\u001b[0m\u001b[1;33m.\u001b[0m\u001b[0m_read_bytes\u001b[0m\u001b[1;33m(\u001b[0m\u001b[0mbytes_to_read\u001b[0m\u001b[1;33m)\u001b[0m\u001b[1;33m\u001b[0m\u001b[1;33m\u001b[0m\u001b[0m\n\u001b[0m\u001b[0;32m    712\u001b[0m             \u001b[1;32mif\u001b[0m \u001b[0mDEBUG\u001b[0m\u001b[1;33m:\u001b[0m\u001b[1;33m\u001b[0m\u001b[1;33m\u001b[0m\u001b[0m\n",
      "\u001b[1;32m~\\AppData\\Local\\Programs\\Python\\Python39\\lib\\site-packages\\pymysql\\connections.py\u001b[0m in \u001b[0;36m_read_bytes\u001b[1;34m(self, num_bytes)\u001b[0m\n\u001b[0;32m    737\u001b[0m                 \u001b[0mself\u001b[0m\u001b[1;33m.\u001b[0m\u001b[0m_force_close\u001b[0m\u001b[1;33m(\u001b[0m\u001b[1;33m)\u001b[0m\u001b[1;33m\u001b[0m\u001b[1;33m\u001b[0m\u001b[0m\n\u001b[1;32m--> 738\u001b[1;33m                 raise err.OperationalError(\n\u001b[0m\u001b[0;32m    739\u001b[0m                     \u001b[0mCR\u001b[0m\u001b[1;33m.\u001b[0m\u001b[0mCR_SERVER_LOST\u001b[0m\u001b[1;33m,\u001b[0m\u001b[1;33m\u001b[0m\u001b[1;33m\u001b[0m\u001b[0m\n",
      "\u001b[1;31mOperationalError\u001b[0m: (2013, 'Lost connection to MySQL server during query ([WinError 10053] An established connection was aborted by the software in your host machine)')",
      "\nThe above exception was the direct cause of the following exception:\n",
      "\u001b[1;31mOperationalError\u001b[0m                          Traceback (most recent call last)",
      "\u001b[1;32m<ipython-input-1-42eb65f825b8>\u001b[0m in \u001b[0;36m<module>\u001b[1;34m\u001b[0m\n\u001b[0;32m    127\u001b[0m \u001b[0mengine\u001b[0m\u001b[1;33m.\u001b[0m\u001b[0mdispose\u001b[0m\u001b[1;33m(\u001b[0m\u001b[1;33m)\u001b[0m\u001b[1;33m\u001b[0m\u001b[1;33m\u001b[0m\u001b[0m\n\u001b[0;32m    128\u001b[0m \u001b[1;33m\u001b[0m\u001b[0m\n\u001b[1;32m--> 129\u001b[1;33m \u001b[0mdreams_mastersheet\u001b[0m \u001b[1;33m=\u001b[0m \u001b[0mpd\u001b[0m\u001b[1;33m.\u001b[0m\u001b[0mread_sql_query\u001b[0m\u001b[1;33m(\u001b[0m\u001b[0mquery\u001b[0m\u001b[1;33m,\u001b[0m\u001b[0mengine\u001b[0m\u001b[1;33m,\u001b[0m\u001b[0mparse_dates\u001b[0m\u001b[1;33m=\u001b[0m\u001b[1;32mTrue\u001b[0m\u001b[1;33m)\u001b[0m\u001b[1;33m\u001b[0m\u001b[1;33m\u001b[0m\u001b[0m\n\u001b[0m\u001b[0;32m    130\u001b[0m \u001b[1;31m# get the test excel file from Query\u001b[0m\u001b[1;33m\u001b[0m\u001b[1;33m\u001b[0m\u001b[0m\n\u001b[0;32m    131\u001b[0m \u001b[0mdreams_mastersheet\u001b[0m\u001b[1;33m.\u001b[0m\u001b[0mto_excel\u001b[0m\u001b[1;33m(\u001b[0m\u001b[1;34m'./dreams_services.xlsx'\u001b[0m\u001b[1;33m,\u001b[0m\u001b[0mindex\u001b[0m\u001b[1;33m=\u001b[0m\u001b[1;32mFalse\u001b[0m\u001b[1;33m,\u001b[0m\u001b[0mna_rep\u001b[0m\u001b[1;33m=\u001b[0m\u001b[1;34m\"NULL\"\u001b[0m\u001b[1;33m)\u001b[0m\u001b[1;33m\u001b[0m\u001b[1;33m\u001b[0m\u001b[0m\n",
      "\u001b[1;32m~\\AppData\\Local\\Programs\\Python\\Python39\\lib\\site-packages\\pandas\\io\\sql.py\u001b[0m in \u001b[0;36mread_sql_query\u001b[1;34m(sql, con, index_col, coerce_float, params, parse_dates, chunksize)\u001b[0m\n\u001b[0;32m    386\u001b[0m     \"\"\"\n\u001b[0;32m    387\u001b[0m     \u001b[0mpandas_sql\u001b[0m \u001b[1;33m=\u001b[0m \u001b[0mpandasSQL_builder\u001b[0m\u001b[1;33m(\u001b[0m\u001b[0mcon\u001b[0m\u001b[1;33m)\u001b[0m\u001b[1;33m\u001b[0m\u001b[1;33m\u001b[0m\u001b[0m\n\u001b[1;32m--> 388\u001b[1;33m     return pandas_sql.read_query(\n\u001b[0m\u001b[0;32m    389\u001b[0m         \u001b[0msql\u001b[0m\u001b[1;33m,\u001b[0m\u001b[1;33m\u001b[0m\u001b[1;33m\u001b[0m\u001b[0m\n\u001b[0;32m    390\u001b[0m         \u001b[0mindex_col\u001b[0m\u001b[1;33m=\u001b[0m\u001b[0mindex_col\u001b[0m\u001b[1;33m,\u001b[0m\u001b[1;33m\u001b[0m\u001b[1;33m\u001b[0m\u001b[0m\n",
      "\u001b[1;32m~\\AppData\\Local\\Programs\\Python\\Python39\\lib\\site-packages\\pandas\\io\\sql.py\u001b[0m in \u001b[0;36mread_query\u001b[1;34m(self, sql, index_col, coerce_float, parse_dates, params, chunksize)\u001b[0m\n\u001b[0;32m   1306\u001b[0m         \u001b[0margs\u001b[0m \u001b[1;33m=\u001b[0m \u001b[0m_convert_params\u001b[0m\u001b[1;33m(\u001b[0m\u001b[0msql\u001b[0m\u001b[1;33m,\u001b[0m \u001b[0mparams\u001b[0m\u001b[1;33m)\u001b[0m\u001b[1;33m\u001b[0m\u001b[1;33m\u001b[0m\u001b[0m\n\u001b[0;32m   1307\u001b[0m \u001b[1;33m\u001b[0m\u001b[0m\n\u001b[1;32m-> 1308\u001b[1;33m         \u001b[0mresult\u001b[0m \u001b[1;33m=\u001b[0m \u001b[0mself\u001b[0m\u001b[1;33m.\u001b[0m\u001b[0mexecute\u001b[0m\u001b[1;33m(\u001b[0m\u001b[1;33m*\u001b[0m\u001b[0margs\u001b[0m\u001b[1;33m)\u001b[0m\u001b[1;33m\u001b[0m\u001b[1;33m\u001b[0m\u001b[0m\n\u001b[0m\u001b[0;32m   1309\u001b[0m         \u001b[0mcolumns\u001b[0m \u001b[1;33m=\u001b[0m \u001b[0mresult\u001b[0m\u001b[1;33m.\u001b[0m\u001b[0mkeys\u001b[0m\u001b[1;33m(\u001b[0m\u001b[1;33m)\u001b[0m\u001b[1;33m\u001b[0m\u001b[1;33m\u001b[0m\u001b[0m\n\u001b[0;32m   1310\u001b[0m \u001b[1;33m\u001b[0m\u001b[0m\n",
      "\u001b[1;32m~\\AppData\\Local\\Programs\\Python\\Python39\\lib\\site-packages\\pandas\\io\\sql.py\u001b[0m in \u001b[0;36mexecute\u001b[1;34m(self, *args, **kwargs)\u001b[0m\n\u001b[0;32m   1174\u001b[0m     \u001b[1;32mdef\u001b[0m \u001b[0mexecute\u001b[0m\u001b[1;33m(\u001b[0m\u001b[0mself\u001b[0m\u001b[1;33m,\u001b[0m \u001b[1;33m*\u001b[0m\u001b[0margs\u001b[0m\u001b[1;33m,\u001b[0m \u001b[1;33m**\u001b[0m\u001b[0mkwargs\u001b[0m\u001b[1;33m)\u001b[0m\u001b[1;33m:\u001b[0m\u001b[1;33m\u001b[0m\u001b[1;33m\u001b[0m\u001b[0m\n\u001b[0;32m   1175\u001b[0m         \u001b[1;34m\"\"\"Simple passthrough to SQLAlchemy connectable\"\"\"\u001b[0m\u001b[1;33m\u001b[0m\u001b[1;33m\u001b[0m\u001b[0m\n\u001b[1;32m-> 1176\u001b[1;33m         \u001b[1;32mreturn\u001b[0m \u001b[0mself\u001b[0m\u001b[1;33m.\u001b[0m\u001b[0mconnectable\u001b[0m\u001b[1;33m.\u001b[0m\u001b[0mexecution_options\u001b[0m\u001b[1;33m(\u001b[0m\u001b[1;33m)\u001b[0m\u001b[1;33m.\u001b[0m\u001b[0mexecute\u001b[0m\u001b[1;33m(\u001b[0m\u001b[1;33m*\u001b[0m\u001b[0margs\u001b[0m\u001b[1;33m,\u001b[0m \u001b[1;33m**\u001b[0m\u001b[0mkwargs\u001b[0m\u001b[1;33m)\u001b[0m\u001b[1;33m\u001b[0m\u001b[1;33m\u001b[0m\u001b[0m\n\u001b[0m\u001b[0;32m   1177\u001b[0m \u001b[1;33m\u001b[0m\u001b[0m\n\u001b[0;32m   1178\u001b[0m     def read_table(\n",
      "\u001b[1;32m<string>\u001b[0m in \u001b[0;36mexecute\u001b[1;34m(self, statement, *multiparams, **params)\u001b[0m\n",
      "\u001b[1;32m~\\AppData\\Local\\Programs\\Python\\Python39\\lib\\site-packages\\sqlalchemy\\util\\deprecations.py\u001b[0m in \u001b[0;36mwarned\u001b[1;34m(fn, *args, **kwargs)\u001b[0m\n\u001b[0;32m    388\u001b[0m         \u001b[1;32mif\u001b[0m \u001b[1;32mnot\u001b[0m \u001b[0mskip_warning\u001b[0m\u001b[1;33m:\u001b[0m\u001b[1;33m\u001b[0m\u001b[1;33m\u001b[0m\u001b[0m\n\u001b[0;32m    389\u001b[0m             \u001b[0m_warn_with_version\u001b[0m\u001b[1;33m(\u001b[0m\u001b[0mmessage\u001b[0m\u001b[1;33m,\u001b[0m \u001b[0mversion\u001b[0m\u001b[1;33m,\u001b[0m \u001b[0mwtype\u001b[0m\u001b[1;33m,\u001b[0m \u001b[0mstacklevel\u001b[0m\u001b[1;33m=\u001b[0m\u001b[1;36m3\u001b[0m\u001b[1;33m)\u001b[0m\u001b[1;33m\u001b[0m\u001b[1;33m\u001b[0m\u001b[0m\n\u001b[1;32m--> 390\u001b[1;33m         \u001b[1;32mreturn\u001b[0m \u001b[0mfn\u001b[0m\u001b[1;33m(\u001b[0m\u001b[1;33m*\u001b[0m\u001b[0margs\u001b[0m\u001b[1;33m,\u001b[0m \u001b[1;33m**\u001b[0m\u001b[0mkwargs\u001b[0m\u001b[1;33m)\u001b[0m\u001b[1;33m\u001b[0m\u001b[1;33m\u001b[0m\u001b[0m\n\u001b[0m\u001b[0;32m    391\u001b[0m \u001b[1;33m\u001b[0m\u001b[0m\n\u001b[0;32m    392\u001b[0m     \u001b[0mdoc\u001b[0m \u001b[1;33m=\u001b[0m \u001b[0mfunc\u001b[0m\u001b[1;33m.\u001b[0m\u001b[0m__doc__\u001b[0m \u001b[1;32mis\u001b[0m \u001b[1;32mnot\u001b[0m \u001b[1;32mNone\u001b[0m \u001b[1;32mand\u001b[0m \u001b[0mfunc\u001b[0m\u001b[1;33m.\u001b[0m\u001b[0m__doc__\u001b[0m \u001b[1;32mor\u001b[0m \u001b[1;34m\"\"\u001b[0m\u001b[1;33m\u001b[0m\u001b[1;33m\u001b[0m\u001b[0m\n",
      "\u001b[1;32m~\\AppData\\Local\\Programs\\Python\\Python39\\lib\\site-packages\\sqlalchemy\\engine\\base.py\u001b[0m in \u001b[0;36mexecute\u001b[1;34m(self, statement, *multiparams, **params)\u001b[0m\n\u001b[0;32m   3035\u001b[0m         \"\"\"\n\u001b[0;32m   3036\u001b[0m         \u001b[0mconnection\u001b[0m \u001b[1;33m=\u001b[0m \u001b[0mself\u001b[0m\u001b[1;33m.\u001b[0m\u001b[0mconnect\u001b[0m\u001b[1;33m(\u001b[0m\u001b[0mclose_with_result\u001b[0m\u001b[1;33m=\u001b[0m\u001b[1;32mTrue\u001b[0m\u001b[1;33m)\u001b[0m\u001b[1;33m\u001b[0m\u001b[1;33m\u001b[0m\u001b[0m\n\u001b[1;32m-> 3037\u001b[1;33m         \u001b[1;32mreturn\u001b[0m \u001b[0mconnection\u001b[0m\u001b[1;33m.\u001b[0m\u001b[0mexecute\u001b[0m\u001b[1;33m(\u001b[0m\u001b[0mstatement\u001b[0m\u001b[1;33m,\u001b[0m \u001b[1;33m*\u001b[0m\u001b[0mmultiparams\u001b[0m\u001b[1;33m,\u001b[0m \u001b[1;33m**\u001b[0m\u001b[0mparams\u001b[0m\u001b[1;33m)\u001b[0m\u001b[1;33m\u001b[0m\u001b[1;33m\u001b[0m\u001b[0m\n\u001b[0m\u001b[0;32m   3038\u001b[0m \u001b[1;33m\u001b[0m\u001b[0m\n\u001b[0;32m   3039\u001b[0m     @util.deprecated_20(\n",
      "\u001b[1;32m~\\AppData\\Local\\Programs\\Python\\Python39\\lib\\site-packages\\sqlalchemy\\engine\\base.py\u001b[0m in \u001b[0;36mexecute\u001b[1;34m(self, statement, *multiparams, **params)\u001b[0m\n\u001b[0;32m   1183\u001b[0m             )\n\u001b[0;32m   1184\u001b[0m \u001b[1;33m\u001b[0m\u001b[0m\n\u001b[1;32m-> 1185\u001b[1;33m             return self._exec_driver_sql(\n\u001b[0m\u001b[0;32m   1186\u001b[0m                 \u001b[0mstatement\u001b[0m\u001b[1;33m,\u001b[0m\u001b[1;33m\u001b[0m\u001b[1;33m\u001b[0m\u001b[0m\n\u001b[0;32m   1187\u001b[0m                 \u001b[0mmultiparams\u001b[0m\u001b[1;33m,\u001b[0m\u001b[1;33m\u001b[0m\u001b[1;33m\u001b[0m\u001b[0m\n",
      "\u001b[1;32m~\\AppData\\Local\\Programs\\Python\\Python39\\lib\\site-packages\\sqlalchemy\\engine\\base.py\u001b[0m in \u001b[0;36m_exec_driver_sql\u001b[1;34m(self, statement, multiparams, params, execution_options, future)\u001b[0m\n\u001b[0;32m   1482\u001b[0m \u001b[1;33m\u001b[0m\u001b[0m\n\u001b[0;32m   1483\u001b[0m         \u001b[0mdialect\u001b[0m \u001b[1;33m=\u001b[0m \u001b[0mself\u001b[0m\u001b[1;33m.\u001b[0m\u001b[0mdialect\u001b[0m\u001b[1;33m\u001b[0m\u001b[1;33m\u001b[0m\u001b[0m\n\u001b[1;32m-> 1484\u001b[1;33m         ret = self._execute_context(\n\u001b[0m\u001b[0;32m   1485\u001b[0m             \u001b[0mdialect\u001b[0m\u001b[1;33m,\u001b[0m\u001b[1;33m\u001b[0m\u001b[1;33m\u001b[0m\u001b[0m\n\u001b[0;32m   1486\u001b[0m             \u001b[0mdialect\u001b[0m\u001b[1;33m.\u001b[0m\u001b[0mexecution_ctx_cls\u001b[0m\u001b[1;33m.\u001b[0m\u001b[0m_init_statement\u001b[0m\u001b[1;33m,\u001b[0m\u001b[1;33m\u001b[0m\u001b[1;33m\u001b[0m\u001b[0m\n",
      "\u001b[1;32m~\\AppData\\Local\\Programs\\Python\\Python39\\lib\\site-packages\\sqlalchemy\\engine\\base.py\u001b[0m in \u001b[0;36m_execute_context\u001b[1;34m(self, dialect, constructor, statement, parameters, execution_options, *args, **kw)\u001b[0m\n\u001b[0;32m   1746\u001b[0m \u001b[1;33m\u001b[0m\u001b[0m\n\u001b[0;32m   1747\u001b[0m         \u001b[1;32mexcept\u001b[0m \u001b[0mBaseException\u001b[0m \u001b[1;32mas\u001b[0m \u001b[0me\u001b[0m\u001b[1;33m:\u001b[0m\u001b[1;33m\u001b[0m\u001b[1;33m\u001b[0m\u001b[0m\n\u001b[1;32m-> 1748\u001b[1;33m             self._handle_dbapi_exception(\n\u001b[0m\u001b[0;32m   1749\u001b[0m                 \u001b[0me\u001b[0m\u001b[1;33m,\u001b[0m \u001b[0mstatement\u001b[0m\u001b[1;33m,\u001b[0m \u001b[0mparameters\u001b[0m\u001b[1;33m,\u001b[0m \u001b[0mcursor\u001b[0m\u001b[1;33m,\u001b[0m \u001b[0mcontext\u001b[0m\u001b[1;33m\u001b[0m\u001b[1;33m\u001b[0m\u001b[0m\n\u001b[0;32m   1750\u001b[0m             )\n",
      "\u001b[1;32m~\\AppData\\Local\\Programs\\Python\\Python39\\lib\\site-packages\\sqlalchemy\\engine\\base.py\u001b[0m in \u001b[0;36m_handle_dbapi_exception\u001b[1;34m(self, e, statement, parameters, cursor, context)\u001b[0m\n\u001b[0;32m   1927\u001b[0m                 \u001b[0mutil\u001b[0m\u001b[1;33m.\u001b[0m\u001b[0mraise_\u001b[0m\u001b[1;33m(\u001b[0m\u001b[0mnewraise\u001b[0m\u001b[1;33m,\u001b[0m \u001b[0mwith_traceback\u001b[0m\u001b[1;33m=\u001b[0m\u001b[0mexc_info\u001b[0m\u001b[1;33m[\u001b[0m\u001b[1;36m2\u001b[0m\u001b[1;33m]\u001b[0m\u001b[1;33m,\u001b[0m \u001b[0mfrom_\u001b[0m\u001b[1;33m=\u001b[0m\u001b[0me\u001b[0m\u001b[1;33m)\u001b[0m\u001b[1;33m\u001b[0m\u001b[1;33m\u001b[0m\u001b[0m\n\u001b[0;32m   1928\u001b[0m             \u001b[1;32melif\u001b[0m \u001b[0mshould_wrap\u001b[0m\u001b[1;33m:\u001b[0m\u001b[1;33m\u001b[0m\u001b[1;33m\u001b[0m\u001b[0m\n\u001b[1;32m-> 1929\u001b[1;33m                 util.raise_(\n\u001b[0m\u001b[0;32m   1930\u001b[0m                     \u001b[0msqlalchemy_exception\u001b[0m\u001b[1;33m,\u001b[0m \u001b[0mwith_traceback\u001b[0m\u001b[1;33m=\u001b[0m\u001b[0mexc_info\u001b[0m\u001b[1;33m[\u001b[0m\u001b[1;36m2\u001b[0m\u001b[1;33m]\u001b[0m\u001b[1;33m,\u001b[0m \u001b[0mfrom_\u001b[0m\u001b[1;33m=\u001b[0m\u001b[0me\u001b[0m\u001b[1;33m\u001b[0m\u001b[1;33m\u001b[0m\u001b[0m\n\u001b[0;32m   1931\u001b[0m                 )\n",
      "\u001b[1;32m~\\AppData\\Local\\Programs\\Python\\Python39\\lib\\site-packages\\sqlalchemy\\util\\compat.py\u001b[0m in \u001b[0;36mraise_\u001b[1;34m(***failed resolving arguments***)\u001b[0m\n\u001b[0;32m    209\u001b[0m \u001b[1;33m\u001b[0m\u001b[0m\n\u001b[0;32m    210\u001b[0m         \u001b[1;32mtry\u001b[0m\u001b[1;33m:\u001b[0m\u001b[1;33m\u001b[0m\u001b[1;33m\u001b[0m\u001b[0m\n\u001b[1;32m--> 211\u001b[1;33m             \u001b[1;32mraise\u001b[0m \u001b[0mexception\u001b[0m\u001b[1;33m\u001b[0m\u001b[1;33m\u001b[0m\u001b[0m\n\u001b[0m\u001b[0;32m    212\u001b[0m         \u001b[1;32mfinally\u001b[0m\u001b[1;33m:\u001b[0m\u001b[1;33m\u001b[0m\u001b[1;33m\u001b[0m\u001b[0m\n\u001b[0;32m    213\u001b[0m             \u001b[1;31m# credit to\u001b[0m\u001b[1;33m\u001b[0m\u001b[1;33m\u001b[0m\u001b[0m\n",
      "\u001b[1;32m~\\AppData\\Local\\Programs\\Python\\Python39\\lib\\site-packages\\sqlalchemy\\engine\\base.py\u001b[0m in \u001b[0;36m_execute_context\u001b[1;34m(self, dialect, constructor, statement, parameters, execution_options, *args, **kw)\u001b[0m\n\u001b[0;32m   1703\u001b[0m                             \u001b[1;32mbreak\u001b[0m\u001b[1;33m\u001b[0m\u001b[1;33m\u001b[0m\u001b[0m\n\u001b[0;32m   1704\u001b[0m                 \u001b[1;32mif\u001b[0m \u001b[1;32mnot\u001b[0m \u001b[0mevt_handled\u001b[0m\u001b[1;33m:\u001b[0m\u001b[1;33m\u001b[0m\u001b[1;33m\u001b[0m\u001b[0m\n\u001b[1;32m-> 1705\u001b[1;33m                     self.dialect.do_execute(\n\u001b[0m\u001b[0;32m   1706\u001b[0m                         \u001b[0mcursor\u001b[0m\u001b[1;33m,\u001b[0m \u001b[0mstatement\u001b[0m\u001b[1;33m,\u001b[0m \u001b[0mparameters\u001b[0m\u001b[1;33m,\u001b[0m \u001b[0mcontext\u001b[0m\u001b[1;33m\u001b[0m\u001b[1;33m\u001b[0m\u001b[0m\n\u001b[0;32m   1707\u001b[0m                     )\n",
      "\u001b[1;32m~\\AppData\\Local\\Programs\\Python\\Python39\\lib\\site-packages\\sqlalchemy\\engine\\default.py\u001b[0m in \u001b[0;36mdo_execute\u001b[1;34m(self, cursor, statement, parameters, context)\u001b[0m\n\u001b[0;32m    714\u001b[0m \u001b[1;33m\u001b[0m\u001b[0m\n\u001b[0;32m    715\u001b[0m     \u001b[1;32mdef\u001b[0m \u001b[0mdo_execute\u001b[0m\u001b[1;33m(\u001b[0m\u001b[0mself\u001b[0m\u001b[1;33m,\u001b[0m \u001b[0mcursor\u001b[0m\u001b[1;33m,\u001b[0m \u001b[0mstatement\u001b[0m\u001b[1;33m,\u001b[0m \u001b[0mparameters\u001b[0m\u001b[1;33m,\u001b[0m \u001b[0mcontext\u001b[0m\u001b[1;33m=\u001b[0m\u001b[1;32mNone\u001b[0m\u001b[1;33m)\u001b[0m\u001b[1;33m:\u001b[0m\u001b[1;33m\u001b[0m\u001b[1;33m\u001b[0m\u001b[0m\n\u001b[1;32m--> 716\u001b[1;33m         \u001b[0mcursor\u001b[0m\u001b[1;33m.\u001b[0m\u001b[0mexecute\u001b[0m\u001b[1;33m(\u001b[0m\u001b[0mstatement\u001b[0m\u001b[1;33m,\u001b[0m \u001b[0mparameters\u001b[0m\u001b[1;33m)\u001b[0m\u001b[1;33m\u001b[0m\u001b[1;33m\u001b[0m\u001b[0m\n\u001b[0m\u001b[0;32m    717\u001b[0m \u001b[1;33m\u001b[0m\u001b[0m\n\u001b[0;32m    718\u001b[0m     \u001b[1;32mdef\u001b[0m \u001b[0mdo_execute_no_params\u001b[0m\u001b[1;33m(\u001b[0m\u001b[0mself\u001b[0m\u001b[1;33m,\u001b[0m \u001b[0mcursor\u001b[0m\u001b[1;33m,\u001b[0m \u001b[0mstatement\u001b[0m\u001b[1;33m,\u001b[0m \u001b[0mcontext\u001b[0m\u001b[1;33m=\u001b[0m\u001b[1;32mNone\u001b[0m\u001b[1;33m)\u001b[0m\u001b[1;33m:\u001b[0m\u001b[1;33m\u001b[0m\u001b[1;33m\u001b[0m\u001b[0m\n",
      "\u001b[1;32m~\\AppData\\Local\\Programs\\Python\\Python39\\lib\\site-packages\\pymysql\\cursors.py\u001b[0m in \u001b[0;36mexecute\u001b[1;34m(self, query, args)\u001b[0m\n\u001b[0;32m    146\u001b[0m         \u001b[0mquery\u001b[0m \u001b[1;33m=\u001b[0m \u001b[0mself\u001b[0m\u001b[1;33m.\u001b[0m\u001b[0mmogrify\u001b[0m\u001b[1;33m(\u001b[0m\u001b[0mquery\u001b[0m\u001b[1;33m,\u001b[0m \u001b[0margs\u001b[0m\u001b[1;33m)\u001b[0m\u001b[1;33m\u001b[0m\u001b[1;33m\u001b[0m\u001b[0m\n\u001b[0;32m    147\u001b[0m \u001b[1;33m\u001b[0m\u001b[0m\n\u001b[1;32m--> 148\u001b[1;33m         \u001b[0mresult\u001b[0m \u001b[1;33m=\u001b[0m \u001b[0mself\u001b[0m\u001b[1;33m.\u001b[0m\u001b[0m_query\u001b[0m\u001b[1;33m(\u001b[0m\u001b[0mquery\u001b[0m\u001b[1;33m)\u001b[0m\u001b[1;33m\u001b[0m\u001b[1;33m\u001b[0m\u001b[0m\n\u001b[0m\u001b[0;32m    149\u001b[0m         \u001b[0mself\u001b[0m\u001b[1;33m.\u001b[0m\u001b[0m_executed\u001b[0m \u001b[1;33m=\u001b[0m \u001b[0mquery\u001b[0m\u001b[1;33m\u001b[0m\u001b[1;33m\u001b[0m\u001b[0m\n\u001b[0;32m    150\u001b[0m         \u001b[1;32mreturn\u001b[0m \u001b[0mresult\u001b[0m\u001b[1;33m\u001b[0m\u001b[1;33m\u001b[0m\u001b[0m\n",
      "\u001b[1;32m~\\AppData\\Local\\Programs\\Python\\Python39\\lib\\site-packages\\pymysql\\cursors.py\u001b[0m in \u001b[0;36m_query\u001b[1;34m(self, q)\u001b[0m\n\u001b[0;32m    308\u001b[0m         \u001b[0mself\u001b[0m\u001b[1;33m.\u001b[0m\u001b[0m_last_executed\u001b[0m \u001b[1;33m=\u001b[0m \u001b[0mq\u001b[0m\u001b[1;33m\u001b[0m\u001b[1;33m\u001b[0m\u001b[0m\n\u001b[0;32m    309\u001b[0m         \u001b[0mself\u001b[0m\u001b[1;33m.\u001b[0m\u001b[0m_clear_result\u001b[0m\u001b[1;33m(\u001b[0m\u001b[1;33m)\u001b[0m\u001b[1;33m\u001b[0m\u001b[1;33m\u001b[0m\u001b[0m\n\u001b[1;32m--> 310\u001b[1;33m         \u001b[0mconn\u001b[0m\u001b[1;33m.\u001b[0m\u001b[0mquery\u001b[0m\u001b[1;33m(\u001b[0m\u001b[0mq\u001b[0m\u001b[1;33m)\u001b[0m\u001b[1;33m\u001b[0m\u001b[1;33m\u001b[0m\u001b[0m\n\u001b[0m\u001b[0;32m    311\u001b[0m         \u001b[0mself\u001b[0m\u001b[1;33m.\u001b[0m\u001b[0m_do_get_result\u001b[0m\u001b[1;33m(\u001b[0m\u001b[1;33m)\u001b[0m\u001b[1;33m\u001b[0m\u001b[1;33m\u001b[0m\u001b[0m\n\u001b[0;32m    312\u001b[0m         \u001b[1;32mreturn\u001b[0m \u001b[0mself\u001b[0m\u001b[1;33m.\u001b[0m\u001b[0mrowcount\u001b[0m\u001b[1;33m\u001b[0m\u001b[1;33m\u001b[0m\u001b[0m\n",
      "\u001b[1;32m~\\AppData\\Local\\Programs\\Python\\Python39\\lib\\site-packages\\pymysql\\connections.py\u001b[0m in \u001b[0;36mquery\u001b[1;34m(self, sql, unbuffered)\u001b[0m\n\u001b[0;32m    546\u001b[0m             \u001b[0msql\u001b[0m \u001b[1;33m=\u001b[0m \u001b[0msql\u001b[0m\u001b[1;33m.\u001b[0m\u001b[0mencode\u001b[0m\u001b[1;33m(\u001b[0m\u001b[0mself\u001b[0m\u001b[1;33m.\u001b[0m\u001b[0mencoding\u001b[0m\u001b[1;33m,\u001b[0m \u001b[1;34m\"surrogateescape\"\u001b[0m\u001b[1;33m)\u001b[0m\u001b[1;33m\u001b[0m\u001b[1;33m\u001b[0m\u001b[0m\n\u001b[0;32m    547\u001b[0m         \u001b[0mself\u001b[0m\u001b[1;33m.\u001b[0m\u001b[0m_execute_command\u001b[0m\u001b[1;33m(\u001b[0m\u001b[0mCOMMAND\u001b[0m\u001b[1;33m.\u001b[0m\u001b[0mCOM_QUERY\u001b[0m\u001b[1;33m,\u001b[0m \u001b[0msql\u001b[0m\u001b[1;33m)\u001b[0m\u001b[1;33m\u001b[0m\u001b[1;33m\u001b[0m\u001b[0m\n\u001b[1;32m--> 548\u001b[1;33m         \u001b[0mself\u001b[0m\u001b[1;33m.\u001b[0m\u001b[0m_affected_rows\u001b[0m \u001b[1;33m=\u001b[0m \u001b[0mself\u001b[0m\u001b[1;33m.\u001b[0m\u001b[0m_read_query_result\u001b[0m\u001b[1;33m(\u001b[0m\u001b[0munbuffered\u001b[0m\u001b[1;33m=\u001b[0m\u001b[0munbuffered\u001b[0m\u001b[1;33m)\u001b[0m\u001b[1;33m\u001b[0m\u001b[1;33m\u001b[0m\u001b[0m\n\u001b[0m\u001b[0;32m    549\u001b[0m         \u001b[1;32mreturn\u001b[0m \u001b[0mself\u001b[0m\u001b[1;33m.\u001b[0m\u001b[0m_affected_rows\u001b[0m\u001b[1;33m\u001b[0m\u001b[1;33m\u001b[0m\u001b[0m\n\u001b[0;32m    550\u001b[0m \u001b[1;33m\u001b[0m\u001b[0m\n",
      "\u001b[1;32m~\\AppData\\Local\\Programs\\Python\\Python39\\lib\\site-packages\\pymysql\\connections.py\u001b[0m in \u001b[0;36m_read_query_result\u001b[1;34m(self, unbuffered)\u001b[0m\n\u001b[0;32m    773\u001b[0m         \u001b[1;32melse\u001b[0m\u001b[1;33m:\u001b[0m\u001b[1;33m\u001b[0m\u001b[1;33m\u001b[0m\u001b[0m\n\u001b[0;32m    774\u001b[0m             \u001b[0mresult\u001b[0m \u001b[1;33m=\u001b[0m \u001b[0mMySQLResult\u001b[0m\u001b[1;33m(\u001b[0m\u001b[0mself\u001b[0m\u001b[1;33m)\u001b[0m\u001b[1;33m\u001b[0m\u001b[1;33m\u001b[0m\u001b[0m\n\u001b[1;32m--> 775\u001b[1;33m             \u001b[0mresult\u001b[0m\u001b[1;33m.\u001b[0m\u001b[0mread\u001b[0m\u001b[1;33m(\u001b[0m\u001b[1;33m)\u001b[0m\u001b[1;33m\u001b[0m\u001b[1;33m\u001b[0m\u001b[0m\n\u001b[0m\u001b[0;32m    776\u001b[0m         \u001b[0mself\u001b[0m\u001b[1;33m.\u001b[0m\u001b[0m_result\u001b[0m \u001b[1;33m=\u001b[0m \u001b[0mresult\u001b[0m\u001b[1;33m\u001b[0m\u001b[1;33m\u001b[0m\u001b[0m\n\u001b[0;32m    777\u001b[0m         \u001b[1;32mif\u001b[0m \u001b[0mresult\u001b[0m\u001b[1;33m.\u001b[0m\u001b[0mserver_status\u001b[0m \u001b[1;32mis\u001b[0m \u001b[1;32mnot\u001b[0m \u001b[1;32mNone\u001b[0m\u001b[1;33m:\u001b[0m\u001b[1;33m\u001b[0m\u001b[1;33m\u001b[0m\u001b[0m\n",
      "\u001b[1;32m~\\AppData\\Local\\Programs\\Python\\Python39\\lib\\site-packages\\pymysql\\connections.py\u001b[0m in \u001b[0;36mread\u001b[1;34m(self)\u001b[0m\n\u001b[0;32m   1161\u001b[0m                 \u001b[0mself\u001b[0m\u001b[1;33m.\u001b[0m\u001b[0m_read_load_local_packet\u001b[0m\u001b[1;33m(\u001b[0m\u001b[0mfirst_packet\u001b[0m\u001b[1;33m)\u001b[0m\u001b[1;33m\u001b[0m\u001b[1;33m\u001b[0m\u001b[0m\n\u001b[0;32m   1162\u001b[0m             \u001b[1;32melse\u001b[0m\u001b[1;33m:\u001b[0m\u001b[1;33m\u001b[0m\u001b[1;33m\u001b[0m\u001b[0m\n\u001b[1;32m-> 1163\u001b[1;33m                 \u001b[0mself\u001b[0m\u001b[1;33m.\u001b[0m\u001b[0m_read_result_packet\u001b[0m\u001b[1;33m(\u001b[0m\u001b[0mfirst_packet\u001b[0m\u001b[1;33m)\u001b[0m\u001b[1;33m\u001b[0m\u001b[1;33m\u001b[0m\u001b[0m\n\u001b[0m\u001b[0;32m   1164\u001b[0m         \u001b[1;32mfinally\u001b[0m\u001b[1;33m:\u001b[0m\u001b[1;33m\u001b[0m\u001b[1;33m\u001b[0m\u001b[0m\n\u001b[0;32m   1165\u001b[0m             \u001b[0mself\u001b[0m\u001b[1;33m.\u001b[0m\u001b[0mconnection\u001b[0m \u001b[1;33m=\u001b[0m \u001b[1;32mNone\u001b[0m\u001b[1;33m\u001b[0m\u001b[1;33m\u001b[0m\u001b[0m\n",
      "\u001b[1;32m~\\AppData\\Local\\Programs\\Python\\Python39\\lib\\site-packages\\pymysql\\connections.py\u001b[0m in \u001b[0;36m_read_result_packet\u001b[1;34m(self, first_packet)\u001b[0m\n\u001b[0;32m   1234\u001b[0m         \u001b[0mself\u001b[0m\u001b[1;33m.\u001b[0m\u001b[0mfield_count\u001b[0m \u001b[1;33m=\u001b[0m \u001b[0mfirst_packet\u001b[0m\u001b[1;33m.\u001b[0m\u001b[0mread_length_encoded_integer\u001b[0m\u001b[1;33m(\u001b[0m\u001b[1;33m)\u001b[0m\u001b[1;33m\u001b[0m\u001b[1;33m\u001b[0m\u001b[0m\n\u001b[0;32m   1235\u001b[0m         \u001b[0mself\u001b[0m\u001b[1;33m.\u001b[0m\u001b[0m_get_descriptions\u001b[0m\u001b[1;33m(\u001b[0m\u001b[1;33m)\u001b[0m\u001b[1;33m\u001b[0m\u001b[1;33m\u001b[0m\u001b[0m\n\u001b[1;32m-> 1236\u001b[1;33m         \u001b[0mself\u001b[0m\u001b[1;33m.\u001b[0m\u001b[0m_read_rowdata_packet\u001b[0m\u001b[1;33m(\u001b[0m\u001b[1;33m)\u001b[0m\u001b[1;33m\u001b[0m\u001b[1;33m\u001b[0m\u001b[0m\n\u001b[0m\u001b[0;32m   1237\u001b[0m \u001b[1;33m\u001b[0m\u001b[0m\n\u001b[0;32m   1238\u001b[0m     \u001b[1;32mdef\u001b[0m \u001b[0m_read_rowdata_packet_unbuffered\u001b[0m\u001b[1;33m(\u001b[0m\u001b[0mself\u001b[0m\u001b[1;33m)\u001b[0m\u001b[1;33m:\u001b[0m\u001b[1;33m\u001b[0m\u001b[1;33m\u001b[0m\u001b[0m\n",
      "\u001b[1;32m~\\AppData\\Local\\Programs\\Python\\Python39\\lib\\site-packages\\pymysql\\connections.py\u001b[0m in \u001b[0;36m_read_rowdata_packet\u001b[1;34m(self)\u001b[0m\n\u001b[0;32m   1268\u001b[0m         \u001b[0mrows\u001b[0m \u001b[1;33m=\u001b[0m \u001b[1;33m[\u001b[0m\u001b[1;33m]\u001b[0m\u001b[1;33m\u001b[0m\u001b[1;33m\u001b[0m\u001b[0m\n\u001b[0;32m   1269\u001b[0m         \u001b[1;32mwhile\u001b[0m \u001b[1;32mTrue\u001b[0m\u001b[1;33m:\u001b[0m\u001b[1;33m\u001b[0m\u001b[1;33m\u001b[0m\u001b[0m\n\u001b[1;32m-> 1270\u001b[1;33m             \u001b[0mpacket\u001b[0m \u001b[1;33m=\u001b[0m \u001b[0mself\u001b[0m\u001b[1;33m.\u001b[0m\u001b[0mconnection\u001b[0m\u001b[1;33m.\u001b[0m\u001b[0m_read_packet\u001b[0m\u001b[1;33m(\u001b[0m\u001b[1;33m)\u001b[0m\u001b[1;33m\u001b[0m\u001b[1;33m\u001b[0m\u001b[0m\n\u001b[0m\u001b[0;32m   1271\u001b[0m             \u001b[1;32mif\u001b[0m \u001b[0mself\u001b[0m\u001b[1;33m.\u001b[0m\u001b[0m_check_packet_is_eof\u001b[0m\u001b[1;33m(\u001b[0m\u001b[0mpacket\u001b[0m\u001b[1;33m)\u001b[0m\u001b[1;33m:\u001b[0m\u001b[1;33m\u001b[0m\u001b[1;33m\u001b[0m\u001b[0m\n\u001b[0;32m   1272\u001b[0m                 \u001b[0mself\u001b[0m\u001b[1;33m.\u001b[0m\u001b[0mconnection\u001b[0m \u001b[1;33m=\u001b[0m \u001b[1;32mNone\u001b[0m  \u001b[1;31m# release reference to kill cyclic reference.\u001b[0m\u001b[1;33m\u001b[0m\u001b[1;33m\u001b[0m\u001b[0m\n",
      "\u001b[1;32m~\\AppData\\Local\\Programs\\Python\\Python39\\lib\\site-packages\\pymysql\\connections.py\u001b[0m in \u001b[0;36m_read_packet\u001b[1;34m(self, packet_type)\u001b[0m\n\u001b[0;32m    709\u001b[0m             \u001b[0mself\u001b[0m\u001b[1;33m.\u001b[0m\u001b[0m_next_seq_id\u001b[0m \u001b[1;33m=\u001b[0m \u001b[1;33m(\u001b[0m\u001b[0mself\u001b[0m\u001b[1;33m.\u001b[0m\u001b[0m_next_seq_id\u001b[0m \u001b[1;33m+\u001b[0m \u001b[1;36m1\u001b[0m\u001b[1;33m)\u001b[0m \u001b[1;33m%\u001b[0m \u001b[1;36m256\u001b[0m\u001b[1;33m\u001b[0m\u001b[1;33m\u001b[0m\u001b[0m\n\u001b[0;32m    710\u001b[0m \u001b[1;33m\u001b[0m\u001b[0m\n\u001b[1;32m--> 711\u001b[1;33m             \u001b[0mrecv_data\u001b[0m \u001b[1;33m=\u001b[0m \u001b[0mself\u001b[0m\u001b[1;33m.\u001b[0m\u001b[0m_read_bytes\u001b[0m\u001b[1;33m(\u001b[0m\u001b[0mbytes_to_read\u001b[0m\u001b[1;33m)\u001b[0m\u001b[1;33m\u001b[0m\u001b[1;33m\u001b[0m\u001b[0m\n\u001b[0m\u001b[0;32m    712\u001b[0m             \u001b[1;32mif\u001b[0m \u001b[0mDEBUG\u001b[0m\u001b[1;33m:\u001b[0m\u001b[1;33m\u001b[0m\u001b[1;33m\u001b[0m\u001b[0m\n\u001b[0;32m    713\u001b[0m                 \u001b[0mdump_packet\u001b[0m\u001b[1;33m(\u001b[0m\u001b[0mrecv_data\u001b[0m\u001b[1;33m)\u001b[0m\u001b[1;33m\u001b[0m\u001b[1;33m\u001b[0m\u001b[0m\n",
      "\u001b[1;32m~\\AppData\\Local\\Programs\\Python\\Python39\\lib\\site-packages\\pymysql\\connections.py\u001b[0m in \u001b[0;36m_read_bytes\u001b[1;34m(self, num_bytes)\u001b[0m\n\u001b[0;32m    736\u001b[0m                     \u001b[1;32mcontinue\u001b[0m\u001b[1;33m\u001b[0m\u001b[1;33m\u001b[0m\u001b[0m\n\u001b[0;32m    737\u001b[0m                 \u001b[0mself\u001b[0m\u001b[1;33m.\u001b[0m\u001b[0m_force_close\u001b[0m\u001b[1;33m(\u001b[0m\u001b[1;33m)\u001b[0m\u001b[1;33m\u001b[0m\u001b[1;33m\u001b[0m\u001b[0m\n\u001b[1;32m--> 738\u001b[1;33m                 raise err.OperationalError(\n\u001b[0m\u001b[0;32m    739\u001b[0m                     \u001b[0mCR\u001b[0m\u001b[1;33m.\u001b[0m\u001b[0mCR_SERVER_LOST\u001b[0m\u001b[1;33m,\u001b[0m\u001b[1;33m\u001b[0m\u001b[1;33m\u001b[0m\u001b[0m\n\u001b[0;32m    740\u001b[0m                     \u001b[1;34m\"Lost connection to MySQL server during query (%s)\"\u001b[0m \u001b[1;33m%\u001b[0m \u001b[1;33m(\u001b[0m\u001b[0me\u001b[0m\u001b[1;33m,\u001b[0m\u001b[1;33m)\u001b[0m\u001b[1;33m,\u001b[0m\u001b[1;33m\u001b[0m\u001b[1;33m\u001b[0m\u001b[0m\n",
      "\u001b[1;31mOperationalError\u001b[0m: (pymysql.err.OperationalError) (2013, 'Lost connection to MySQL server during query ([WinError 10053] An established connection was aborted by the software in your host machine)')\n[SQL: \nSELECT \n    dm.id_patient AS main_id,\n    IF(TIMESTAMPDIFF(YEAR,\n            dsd.nan_ki_dat_ou_fet,\n            NOW()) >= 18,\n        IF(dsd.a7_Ak_kiles_w_ap_viv_15_19 = '3'\n                OR dsd.a1121_aktivite_pouw_rantre_kob_ou_vle_fe = '0'\n                or dsd.c6b_Kiles_ki_peye_lekol_ou_Tranche_15_19 = '3'\n                or dsd.eske_ou_bay_kob_pou_pran_swen_piti_ou_ayo = 'oui',\n            'yes_sup18',\n            'no18'),\n        if(\n\t\t\tdsd.a7_ak_kils_w_ap_viv_10_14 = '6'\n            OR dsd.a1121_aktivite_pouw_rantre_kob_ou_vle_fe = '0'\n            OR dsd.c6b_kils_ki_peye_lekl_ou_10_14 = '5'\n            or dsd.eske_ou_bay_kob_pou_pran_swen_piti_ou_ayo = 'oui',\n            'yes_inf17'\n            ,'no17'\t)\n\t\t) AS muso_eligibility,\n    dm.id_group AS actual_id_group,\n    b.groups AS group_she_take_sessions,\n    p.patient_code AS code,\n    ben.last_name,\n    ben.first_name,\n    ben.dob,\n    TIMESTAMPDIFF(YEAR, ben.dob, NOW()) AS age,\n    b.pres AS number_of_different_topic,\n    b.first_session_date,\n    b.last_session_date,\n    MAX(dhi.test_date) AS last_hiv_test_date,\n    MAX(dhi.hiv_test_awareness_date) AS last_sensibilisation_hiv_test_date,\n    GROUP_CONCAT(distinct dhi.hiv_test_acceptation, ',') acceptation_hiv_test,\n    GROUP_CONCAT(DISTINCT dhi.test_result, ',') AS test_results,\n    GROUP_CONCAT(DISTINCT ltlr.name, ',') AS test_results_with_label,\n    MAX(dhi.condoms_reception_date) AS last_condoms_reception_date,\n    group_concat(distinct dhi.has_been_sensibilize_for_condom, ',') as sensibilisation_condom,\n    group_concat(distinct dhi.accept_condom, ',') as acceptation_condom,\n    MAX(dhi.vbg_treatment_date) AS last_vbg_treatment_date,\n    MAX(dhi.gynecological_care_date) AS last_gynecological_care_date,\n    MAX(dhi.prep_awareness_date) AS last_sensibilisation_prep_date,\n    MAX(dhi.prep_reference_date) AS last_reference_prep_date,\n    MAX(dhi.prep_initiation_date) AS last_initiation_prep_date,\n    GROUP_CONCAT(distinct dhi.prep_acceptation, ',') AS acceptation_prep,\n    dg.name AS actual_group_name,\n    dh.name AS actual_hub,\n    lc.name AS actual_commune,\n    dh.commune AS actual_commune_id,\n    ld.name AS actual_departement,\n    lc.departement AS actual_departement_id,\n    IF(mgm.id_patient IS NOT NULL,\n        'yes',\n        'no') AS is_muso,\n    IF(gb.case_id IS NOT NULL, 'yes', 'no') AS is_gardening,\n    tf.*,\n    dsd.*\nFROM\n    dream_member dm\n        LEFT JOIN\n    (SELECT \n        SUM(a.value = 'P') AS pres,\n            a.id_patient,\n            GROUP_CONCAT(DISTINCT a.id_group, ',') AS groups,\n            MIN(a.date) AS first_session_date,\n            MAX(a.date) AS last_session_date\n    FROM\n        (SELECT \n        dga.*, dgs.topic, dgs.date, dgs.id_group\n    FROM\n        dream_group_attendance dga\n    LEFT JOIN dream_group_session dgs ON dgs.id = dga.id_group_session\n    WHERE\n        dga.value = 'P'\n    GROUP BY dga.id_patient , dgs.topic) a\n    GROUP BY a.id_patient) b ON b.id_patient = dm.id_patient\n        LEFT JOIN\n    beneficiary ben ON ben.id_patient = dm.id_patient\n        LEFT JOIN\n    patient p ON p.id = dm.id_patient\n        LEFT JOIN\n    caris_db.dream_hivinfos dhi ON dhi.id_patient = dm.id_patient\n        LEFT JOIN\n    lookup_testing_lab_result ltlr ON ltlr.id = dhi.test_result\n        LEFT JOIN\n    caris_db.dream_group dg ON dg.id = dm.id_group\n        LEFT JOIN\n    dream_hub dh ON dh.id = dg.id_dream_hub\n        LEFT JOIN\n    lookup_commune lc ON lc.id = dh.commune\n        LEFT JOIN\n    lookup_departement ld ON ld.id = lc.departement\n        LEFT JOIN\n    dreams_surveys_data dsd ON dsd.case_id = dm.case_id\n        LEFT JOIN\n    tracking_familymember tf ON tf.id_patient = dm.id_patient\n        LEFT JOIN\n    muso_group_members mgm ON mgm.id_patient = dm.id_patient\n        LEFT JOIN\n    gardening_beneficiary gb ON gb.code_dreams = p.patient_code\nGROUP BY dm.id_patient\n]\n(Background on this error at: http://sqlalche.me/e/14/e3q8)"
     ]
    }
   ],
   "source": [
    "import os\n",
    "from datetime import datetime\n",
    "#from datetime import date\n",
    "import pymysql\n",
    "from sqlalchemy import create_engine\n",
    "from decouple import config \n",
    "from dotenv import load_dotenv\n",
    "import pandas as pd\n",
    "from numpy import int16\n",
    "\n",
    "\n",
    "from IPython.core.interactiveshell import InteractiveShell\n",
    "InteractiveShell.ast_node_interactivity = \"all\"\n",
    "\n",
    "load_dotenv()\n",
    "# get the environment variables needed\n",
    "USER= config('USRCaris')\n",
    "PASSWORD= config('PASSCaris')\n",
    "HOSTNAME= config('HOSTCaris')\n",
    "DBNAME= config('DBCaris')\n",
    "\n",
    "# get the engine to connect and fetch\n",
    "engine = create_engine(f\"mysql+pymysql://{USER}:{PASSWORD}@{HOSTNAME}/{DBNAME}\")\n",
    "query = '''\n",
    "SELECT \n",
    "    dm.id_patient AS main_id,\n",
    "    IF(TIMESTAMPDIFF(YEAR,\n",
    "            dsd.nan_ki_dat_ou_fet,\n",
    "            NOW()) >= 18,\n",
    "        IF(dsd.a7_Ak_kiles_w_ap_viv_15_19 = '3'\n",
    "                OR dsd.a1121_aktivite_pouw_rantre_kob_ou_vle_fe = '0'\n",
    "                or dsd.c6b_Kiles_ki_peye_lekol_ou_Tranche_15_19 = '3'\n",
    "                or dsd.eske_ou_bay_kob_pou_pran_swen_piti_ou_ayo = 'oui',\n",
    "            'yes_sup18',\n",
    "            'no18'),\n",
    "        if(\n",
    "\t\t\tdsd.a7_ak_kils_w_ap_viv_10_14 = '6'\n",
    "            OR dsd.a1121_aktivite_pouw_rantre_kob_ou_vle_fe = '0'\n",
    "            OR dsd.c6b_kils_ki_peye_lekl_ou_10_14 = '5'\n",
    "            or dsd.eske_ou_bay_kob_pou_pran_swen_piti_ou_ayo = 'oui',\n",
    "            'yes_inf17'\n",
    "            ,'no17'\t)\n",
    "\t\t) AS muso_eligibility,\n",
    "    dm.id_group AS actual_id_group,\n",
    "    b.groups AS group_she_take_sessions,\n",
    "    p.patient_code AS code,\n",
    "    ben.last_name,\n",
    "    ben.first_name,\n",
    "    ben.dob,\n",
    "    TIMESTAMPDIFF(YEAR, ben.dob, NOW()) AS age,\n",
    "    b.pres AS number_of_different_topic,\n",
    "    b.first_session_date,\n",
    "    b.last_session_date,\n",
    "    MAX(dhi.test_date) AS last_hiv_test_date,\n",
    "    MAX(dhi.hiv_test_awareness_date) AS last_sensibilisation_hiv_test_date,\n",
    "    GROUP_CONCAT(distinct dhi.hiv_test_acceptation, ',') acceptation_hiv_test,\n",
    "    GROUP_CONCAT(DISTINCT dhi.test_result, ',') AS test_results,\n",
    "    GROUP_CONCAT(DISTINCT ltlr.name, ',') AS test_results_with_label,\n",
    "    MAX(dhi.condoms_reception_date) AS last_condoms_reception_date,\n",
    "    group_concat(distinct dhi.has_been_sensibilize_for_condom, ',') as sensibilisation_condom,\n",
    "    group_concat(distinct dhi.accept_condom, ',') as acceptation_condom,\n",
    "    MAX(dhi.vbg_treatment_date) AS last_vbg_treatment_date,\n",
    "    MAX(dhi.gynecological_care_date) AS last_gynecological_care_date,\n",
    "    MAX(dhi.prep_awareness_date) AS last_sensibilisation_prep_date,\n",
    "    MAX(dhi.prep_reference_date) AS last_reference_prep_date,\n",
    "    MAX(dhi.prep_initiation_date) AS last_initiation_prep_date,\n",
    "    GROUP_CONCAT(distinct dhi.prep_acceptation, ',') AS acceptation_prep,\n",
    "    dg.name AS actual_group_name,\n",
    "    dh.name AS actual_hub,\n",
    "    lc.name AS actual_commune,\n",
    "    dh.commune AS actual_commune_id,\n",
    "    ld.name AS actual_departement,\n",
    "    lc.departement AS actual_departement_id,\n",
    "    IF(mgm.id_patient IS NOT NULL,\n",
    "        'yes',\n",
    "        'no') AS is_muso,\n",
    "    IF(gb.case_id IS NOT NULL, 'yes', 'no') AS is_gardening,\n",
    "    tf.*,\n",
    "    dsd.*\n",
    "FROM\n",
    "    dream_member dm\n",
    "        LEFT JOIN\n",
    "    (SELECT \n",
    "        SUM(a.value = 'P') AS pres,\n",
    "            a.id_patient,\n",
    "            GROUP_CONCAT(DISTINCT a.id_group, ',') AS groups,\n",
    "            MIN(a.date) AS first_session_date,\n",
    "            MAX(a.date) AS last_session_date\n",
    "    FROM\n",
    "        (SELECT \n",
    "        dga.*, dgs.topic, dgs.date, dgs.id_group\n",
    "    FROM\n",
    "        dream_group_attendance dga\n",
    "    LEFT JOIN dream_group_session dgs ON dgs.id = dga.id_group_session\n",
    "    WHERE\n",
    "        dga.value = 'P'\n",
    "    GROUP BY dga.id_patient , dgs.topic) a\n",
    "    GROUP BY a.id_patient) b ON b.id_patient = dm.id_patient\n",
    "        LEFT JOIN\n",
    "    beneficiary ben ON ben.id_patient = dm.id_patient\n",
    "        LEFT JOIN\n",
    "    patient p ON p.id = dm.id_patient\n",
    "        LEFT JOIN\n",
    "    caris_db.dream_hivinfos dhi ON dhi.id_patient = dm.id_patient\n",
    "        LEFT JOIN\n",
    "    lookup_testing_lab_result ltlr ON ltlr.id = dhi.test_result\n",
    "        LEFT JOIN\n",
    "    caris_db.dream_group dg ON dg.id = dm.id_group\n",
    "        LEFT JOIN\n",
    "    dream_hub dh ON dh.id = dg.id_dream_hub\n",
    "        LEFT JOIN\n",
    "    lookup_commune lc ON lc.id = dh.commune\n",
    "        LEFT JOIN\n",
    "    lookup_departement ld ON ld.id = lc.departement\n",
    "        LEFT JOIN\n",
    "    dreams_surveys_data dsd ON dsd.case_id = dm.case_id\n",
    "        LEFT JOIN\n",
    "    tracking_familymember tf ON tf.id_patient = dm.id_patient\n",
    "        LEFT JOIN\n",
    "    muso_group_members mgm ON mgm.id_patient = dm.id_patient\n",
    "        LEFT JOIN\n",
    "    gardening_beneficiary gb ON gb.code_dreams = p.patient_code\n",
    "GROUP BY dm.id_patient\n",
    "'''\n",
    "\n",
    "# close the pool of connection\n",
    "engine.dispose()\n",
    "\n",
    "dreams_mastersheet = pd.read_sql_query(query,engine,parse_dates=True)\n",
    "# get the test excel file from Query\n",
    "dreams_mastersheet.to_excel('./dreams_services.xlsx',index=False,na_rep=\"NULL\")"
   ]
  },
  {
   "cell_type": "code",
   "execution_count": null,
   "metadata": {},
   "outputs": [],
   "source": [
    "\n",
    "# tranche d'age classique pr les services agyw\n",
    "# tranche age mineur majeur pour les services agyw\n",
    "# ovc age\n",
    "def tranche_age_classique(age):\n",
    "    \"\"\"age classique\"\"\"\n",
    "    if age>=10 and age<=14:\n",
    "        return \"10-14\"\n",
    "    elif age>=15 and age<=19:\n",
    "        return \"15-19\"\n",
    "    elif age>=20 and age<=24:\n",
    "        return \"20-24\"\n",
    "    elif age>=25 and age<=29:\n",
    "        return \"25-29\"\n",
    "    else:\n",
    "        return \"not_valid_age\"\n",
    "        \n",
    "def tranche_age_mineur_majeur(age):\n",
    "    \"\"\"minor and major age\"\"\"\n",
    "    if age>=10 and age<=17:\n",
    "        return \"10-17\"\n",
    "    elif age>=18 and age<=19:\n",
    "        return \"18-19\"\n",
    "    elif age>=20 and age<=24:\n",
    "        return \"20-24\"\n",
    "    elif age>=25 and age<=29:\n",
    "        return \"25-29\"\n",
    "    else:\n",
    "        return \"not_valid_age\"\n",
    "    \n",
    "def ovc_age(age):\n",
    "    \"\"\"ovc valid age\"\"\"\n",
    "    if age>=10 and age<=14:\n",
    "        return \"10-14\"\n",
    "    if age>=15 and age<=17:\n",
    "        return \"15-17\"\n",
    "    elif age>=18 and age<=24:\n",
    "        return \"not_ovc_age\"\n",
    "    else:\n",
    "        return \"not_valid_age\"\n",
    "    \n",
    "\n",
    "def calculation_fiscalYear21(date):\n",
    "    if date.year == 2021 and date.month>=1 and date.month<=3:\n",
    "        return \"FY21Q2\"\n",
    "    elif date.year == 2020 and date.month>=10 and date.month<=12:\n",
    "        return \"FY21Q1\"\n",
    "    elif date.year == 2021 and date.month>=4 and date.month<=6:\n",
    "        return \"FY21Q3\"\n",
    "    elif date.year == 2021 and date.month>=7 and date.month<=9:\n",
    "        return \"FY21Q4\"\n",
    "    elif date.year == 2020 and date.month>=4 and date.month<=6:\n",
    "        return \"FY20Q3\"\n",
    "    elif date.year == 2020 and date.month>=7 and date.month<=9:\n",
    "        return \"FY20Q4\"\n",
    "    else:\n",
    "        return \"not_valid\"\n",
    "\n",
    "def fiscalYear21(mod):\n",
    "    if mod == \"FY20Q3\" or mod == \"FY20Q4\":\n",
    "        return \"Q3fy20-Q4fy20\"\n",
    "    else:\n",
    "        return mod\n",
    "\n",
    "    \n",
    "def validTimeOnSystem(date):\n",
    "    #if date<= datetime.strptime(\"2020-06-30\",\"%Y-%m-%d\"):\n",
    "    if date>= datetime.strptime(\"2020-04-01\",\"%Y-%m-%d\") and date<= datetime.now():\n",
    "    #if date>= datetime.strptime(\"2020-04-01\",\"%Y-%m-%d\") and date<= datetime.strptime(\"2021-06-30\",\"%Y-%m-%d\"):\n",
    "        return \"required_Time_on\"\n",
    "    else:\n",
    "        return \"not_valid_time_on\"\n",
    "        \n",
    "    \n",
    "\n",
    "    \n",
    "def between_now_date_entevyou(date):\n",
    "    #return (datetime.strptime(\"2021-06-30\",\"%Y-%m-%d\").year - date.year) * 12 + (datetime.strptime(\"2021-06-30\",\"%Y-%m-%d\").month - date.month)\n",
    "    return (datetime.now().year - date.year) * 12 + (datetime.now().month - date.month)\n",
    "\n",
    "\n",
    "\n",
    "\n",
    "def agywPeriods(months):\n",
    "    if months <= 6:\n",
    "        return \"0-6 months\"\n",
    "    elif months>=7 and months<=12:\n",
    "        return \"7-12 months\"\n",
    "    elif months>=13 and months<=24:\n",
    "        return \"13-24 months\"\n",
    "    else:\n",
    "        return \"25+ months\"\n",
    "    \n",
    "\n",
    "def curriculum_atLeastOneService(topics):\n",
    "    return \"servis_auMoins_1fois\" if topics>=1 and topics<=19 else \"zero_services_curriculum\" #topics<=18\n",
    "\n",
    "\n",
    "def status_curriculum(topics):\n",
    "    if topics>=1 and topics<=13:\n",
    "        return \"curriculum incomplet\"\n",
    "    elif topics>=14 and topics<=19: #topics<=18\n",
    "        return \"curriculum complet\"\n",
    "    else:\n",
    "        return \"non-recu\"\n",
    "\n",
    "def id_quarter_services(date):\n",
    "    if type(date) == type(pd.NaT):\n",
    "        return 'errata'\n",
    "    if (type(date) != type(pd.NaT)) and (date.year == 2021 and date.month>=1 and date.month<=3):\n",
    "        return \"FY21Q2\"\n",
    "    elif (type(date) != type(pd.NaT)) and (date.year == 2020 and date.month>=10 and date.month<=12):\n",
    "        return \"FY21Q1\"\n",
    "    elif (type(date) != type(pd.NaT)) and (date.year == 2021 and date.month>=4 and date.month<=6):\n",
    "        return \"FY21Q3\"\n",
    "    elif (type(date) != type(pd.NaT)) and (date.year == 2021 and date.month>=7 and date.month<=9):\n",
    "        return \"FY21Q4\"\n",
    "    elif (type(date) != type(pd.NaT)) and (date.year == 2020 and date.month>=1 and date.month<=3):\n",
    "        return \"FY20Q2\"\n",
    "    elif (type(date) != type(pd.NaT)) and (date.year == 2019 and date.month>=10 and date.month<=12):\n",
    "        return \"FY20Q1\"\n",
    "    elif (type(date) != type(pd.NaT)) and (date.year == 2020 and date.month>=4 and date.month<=6):\n",
    "        return \"FY20Q3\"\n",
    "    elif (type(date) != type(pd.NaT)) and (date.year == 2020 and date.month>=7 and date.month<=9):\n",
    "        return \"FY20Q4\"\n",
    "    elif (type(date) != type(pd.NaT)) and (date.year == 2019 and date.month>=1 and date.month<=3):\n",
    "        return \"FY19Q2\"\n",
    "    elif (type(date) != type(pd.NaT)) and (date.year == 2018 and date.month>=10 and date.month<=12):\n",
    "        return \"FY19Q1\"\n",
    "    elif (type(date) != type(pd.NaT)) and (date.year == 2019 and date.month>=4 and date.month<=6):\n",
    "        return \"FY19Q3\"\n",
    "    elif (type(date) != type(pd.NaT)) and (date.year == 2019 and date.month>=7 and date.month<=9):\n",
    "        return \"FY19Q4\"\n",
    "    else:\n",
    "        return \"not_valid_fy\"\n",
    "    \n",
    "def valid_services(date):\n",
    "    if type(date) == type(pd.NaT):\n",
    "        return 'errata'\n",
    "    elif (type(date) != type(pd.NaT))and(date.year==2020 or date.year==2021):\n",
    "        return 'tested_on_given_date'\n",
    "    else:\n",
    "        return 'not_valid_date'\n",
    "    \n",
    "def condoms_services(df):\n",
    "    return \"sensOuRecu\" if df.condoms=='tested_on_given_date' or df.sens_condom == \"sens\" else \"no\"\n",
    "    \n",
    "def acceptation_services(choices):\n",
    "    if choices == \"0,\":\n",
    "        return \"refus\"\n",
    "    elif choices == '0,,1,' or choices == '1,':\n",
    "        return \"accept\"\n",
    "    else:\n",
    "        return \"not_valid\"\n",
    "\n",
    "def sensibilisation_services(choices):\n",
    "    if choices == \"0,\":\n",
    "        return \"non-sens\"\n",
    "    elif choices == '0,,1,' or choices == '1,':\n",
    "        return \"sens\"\n",
    "    else:\n",
    "        return \"not_valid\"\n",
    "    \n",
    "def post_care_app(df):\n",
    "    return 'service_gyneco_vbg' if (df.vbg==\"tested_on_given_date\") or (df.gyneco=='tested_on_given_date') else 'no'\n",
    "\n",
    "def socioEco_app(df):\n",
    "    return 'service_muso_gardening' if (df.is_muso=='yes') or (df.is_gardening=='yes') else 'no'\n",
    "\n",
    "\n",
    "def unServiceDreams(df):\n",
    "     return '1_services_dreams_recus' if (df.curriculum_servis_auMoins_1fois == \"servis_auMoins_1fois\") or (df.condoms=='tested_on_given_date') or (df.hts=='tested_on_given_date') or (df.post_care_treatment==\"service_gyneco_vbg\") or (df.socio_eco_app==\"service_muso_gardening\") else 'no'\n",
    "\n",
    "def new_unServiceDreams(df): \n",
    "     if (df.curriculum_servis_auMoins_1fois == \"servis_auMoins_1fois\") \\\n",
    "          or (df.new_condoms == \"sensOuRecu\") \\\n",
    "          or (df.hts=='tested_on_given_date') \\\n",
    "          or (df.post_care_treatment==\"service_gyneco_vbg\") \\\n",
    "          or (df.socio_eco_app==\"service_muso_gardening\") \\\n",
    "          or (df.init_prep==\"tested_on_given_date\"):\n",
    "               return '1_services_dreams_recus'\n",
    "     else: \n",
    "               return'no'\n",
    "           \n",
    "           \n",
    "def isAGYW(total):\n",
    "    return 'eligible' if total>=14 else 'no_eligible'\n",
    "\n",
    "           \n",
    "\n",
    "def service_primaire_10_14(df):\n",
    "    return 'curriculum-servis' if (df.curriculum==\"curriculum complet\" and df.age_range == \"10-14\") else \"no\"\n",
    "\n",
    "def service_primaire_15_19(df):\n",
    "    return 'condoms&curriculum' if (df.curriculum==\"curriculum complet\" and df.age_range == \"15-19\" and df.condoms=='tested_on_given_date') else 'no'\n",
    "\n",
    "def service_primaire_20_24(df):\n",
    "    return 'condoms&hts&curriculum' if (df.curriculum==\"curriculum complet\" and df.condoms=='tested_on_given_date' and df.hts=='tested_on_given_date' and df.age_range == \"20-24\") else 'no'\n",
    "\n",
    "def new_service_primaire_20_24(df):\n",
    "    return 'condoms&curriculum' if (df.curriculum==\"curriculum complet\" and df.condoms=='tested_on_given_date' and df.age_range == \"20-24\") else 'no'\n",
    "    \n",
    "def new_service_primaire_15_19(df):\n",
    "    return 'condoms&curriculum' if (df.curriculum==\"curriculum complet\" and df.new_condoms==\"sensOuRecu\" and df.age_range == \"15-19\") else 'no'\n",
    "\n",
    "\n",
    "def newI_service_primaire_20_24(df):\n",
    "    return 'condoms&curriculum' if (df.curriculum==\"curriculum complet\" and df.new_condoms==\"sensOuRecu\" and df.age_range == \"20-24\") else 'no'\n",
    "\n",
    "def curriculum_condense(curriculum):\n",
    "    return \"curriculum_completed\" if curriculum == \"curriculum complet\" else \"curriculum_inc\""
   ]
  },
  {
   "cell_type": "markdown",
   "metadata": {},
   "source": [
    "# AGE"
   ]
  },
  {
   "cell_type": "code",
   "execution_count": null,
   "metadata": {},
   "outputs": [
    {
     "data": {
      "text/plain": [
       "2"
      ]
     },
     "execution_count": 3,
     "metadata": {},
     "output_type": "execute_result"
    }
   ],
   "source": [
    "# how many NA\n",
    "dreams_mastersheet.age.isna().sum()"
   ]
  },
  {
   "cell_type": "code",
   "execution_count": null,
   "metadata": {},
   "outputs": [
    {
     "data": {
      "text/plain": [
       "0       -1000\n",
       "1          16\n",
       "2          19\n",
       "3          20\n",
       "4          19\n",
       "         ... \n",
       "32443      15\n",
       "32444      11\n",
       "32445      15\n",
       "32446      17\n",
       "32447      15\n",
       "Name: age, Length: 32448, dtype: int16"
      ]
     },
     "execution_count": 4,
     "metadata": {},
     "output_type": "execute_result"
    }
   ],
   "source": [
    "# turn to integer\n",
    "dreams_mastersheet.age = dreams_mastersheet.age.fillna(-1000)\n",
    "dreams_mastersheet.age = dreams_mastersheet.age.astype(int16)\n",
    "dreams_mastersheet.age"
   ]
  },
  {
   "cell_type": "code",
   "execution_count": null,
   "metadata": {},
   "outputs": [
    {
     "data": {
      "text/plain": [
       "array(['not_valid_age', '10-17', '18-19', '20-24', '25-29'], dtype=object)"
      ]
     },
     "execution_count": 5,
     "metadata": {},
     "output_type": "execute_result"
    },
    {
     "data": {
      "text/plain": [
       "array(['not_valid_age', '15-19', '20-24', '10-14', '25-29'], dtype=object)"
      ]
     },
     "execution_count": 5,
     "metadata": {},
     "output_type": "execute_result"
    },
    {
     "data": {
      "text/plain": [
       "array(['not_valid_age', '15-17', 'not_ovc_age', '10-14'], dtype=object)"
      ]
     },
     "execution_count": 5,
     "metadata": {},
     "output_type": "execute_result"
    }
   ],
   "source": [
    "dreams_mastersheet['age_range'] = dreams_mastersheet.age.map(tranche_age_classique)\n",
    "dreams_mastersheet['newage_range'] = dreams_mastersheet.age.map(tranche_age_mineur_majeur)\n",
    "dreams_mastersheet['ovcage_range'] = dreams_mastersheet.age.map(ovc_age)\n",
    "\n",
    "\n",
    "dreams_mastersheet.newage_range.unique()\n",
    "dreams_mastersheet.age_range.unique()\n",
    "dreams_mastersheet.ovcage_range.unique()"
   ]
  },
  {
   "cell_type": "markdown",
   "metadata": {},
   "source": [
    "# Date Aspect"
   ]
  },
  {
   "cell_type": "code",
   "execution_count": null,
   "metadata": {},
   "outputs": [
    {
     "data": {
      "text/plain": [
       "0"
      ]
     },
     "execution_count": 6,
     "metadata": {},
     "output_type": "execute_result"
    },
    {
     "data": {
      "text/plain": [
       "0       2020-07-09\n",
       "1       2019-12-18\n",
       "2       2019-12-18\n",
       "3       2019-12-18\n",
       "4       2019-12-18\n",
       "           ...    \n",
       "32443   2021-10-07\n",
       "32444   2021-10-07\n",
       "32445   2021-07-16\n",
       "32446   2021-07-16\n",
       "32447   2018-08-31\n",
       "Name: date_entevyou, Length: 32448, dtype: datetime64[ns]"
      ]
     },
     "execution_count": 6,
     "metadata": {},
     "output_type": "execute_result"
    }
   ],
   "source": [
    "dreams_mastersheet.a1_dat_entvyou_a_ft_jjmmaa_egz_010817.isna().sum()\n",
    "dreams_mastersheet[\"date_entevyou\"] = pd.to_datetime( dreams_mastersheet.a1_dat_entvyou_a_ft_jjmmaa_egz_010817)\n",
    "dreams_mastersheet.date_entevyou"
   ]
  },
  {
   "cell_type": "code",
   "execution_count": null,
   "metadata": {},
   "outputs": [
    {
     "data": {
      "text/plain": [
       "1444"
      ]
     },
     "execution_count": 7,
     "metadata": {},
     "output_type": "execute_result"
    },
    {
     "data": {
      "text/plain": [
       "1444"
      ]
     },
     "execution_count": 7,
     "metadata": {},
     "output_type": "execute_result"
    },
    {
     "data": {
      "text/plain": [
       "array([  nan, 2020., 2021., 2019.])"
      ]
     },
     "execution_count": 7,
     "metadata": {},
     "output_type": "execute_result"
    },
    {
     "data": {
      "text/plain": [
       "array([  nan, 2020., 2021.])"
      ]
     },
     "execution_count": 7,
     "metadata": {},
     "output_type": "execute_result"
    }
   ],
   "source": [
    "dreams_mastersheet.first_session_date.isna().sum()\n",
    "dreams_mastersheet.last_session_date.isna().sum()\n",
    "dreams_mastersheet.first_session_date = dreams_mastersheet.first_session_date.fillna('0000-00-00')\n",
    "dreams_mastersheet.last_session_date = dreams_mastersheet.last_session_date.fillna('0000-00-00')\n",
    "\n",
    "dreams_mastersheet[\"curriculum_date_debut\"] = pd.to_datetime( dreams_mastersheet.first_session_date,errors='coerce')\n",
    "dreams_mastersheet[\"curriculum_date_end\"] = pd.to_datetime( dreams_mastersheet.last_session_date,errors='coerce')\n",
    "\n",
    "dreams_mastersheet.curriculum_date_debut.dt.year.unique()\n",
    "dreams_mastersheet.curriculum_date_end.dt.year.unique()"
   ]
  },
  {
   "cell_type": "code",
   "execution_count": null,
   "metadata": {},
   "outputs": [
    {
     "data": {
      "text/plain": [
       "19864"
      ]
     },
     "execution_count": 8,
     "metadata": {},
     "output_type": "execute_result"
    },
    {
     "data": {
      "text/plain": [
       "20270"
      ]
     },
     "execution_count": 8,
     "metadata": {},
     "output_type": "execute_result"
    },
    {
     "data": {
      "text/plain": [
       "20281"
      ]
     },
     "execution_count": 8,
     "metadata": {},
     "output_type": "execute_result"
    },
    {
     "data": {
      "text/plain": [
       "array([  nan, 2021.])"
      ]
     },
     "execution_count": 8,
     "metadata": {},
     "output_type": "execute_result"
    }
   ],
   "source": [
    "\n",
    "dreams_mastersheet.last_sensibilisation_prep_date.isna().sum()\n",
    "dreams_mastersheet.last_reference_prep_date.isna().sum()\n",
    "dreams_mastersheet.last_initiation_prep_date.isna().sum()\n",
    "\n",
    "dreams_mastersheet.last_sensibilisation_prep_date = dreams_mastersheet.last_sensibilisation_prep_date.fillna('0000-00-00')\n",
    "dreams_mastersheet[\"sens_prep_date\"] = pd.to_datetime( dreams_mastersheet.last_sensibilisation_prep_date,errors='coerce')\n",
    "\n",
    "dreams_mastersheet.last_reference_prep_date = dreams_mastersheet.last_reference_prep_date.fillna('0000-00-00')\n",
    "dreams_mastersheet[\"ref_prep_date\"] = pd.to_datetime( dreams_mastersheet.last_reference_prep_date,errors='coerce')\n",
    "\n",
    "dreams_mastersheet.last_initiation_prep_date = dreams_mastersheet.last_initiation_prep_date.fillna('0000-00-00')\n",
    "dreams_mastersheet[\"init_prep_date\"] = pd.to_datetime( dreams_mastersheet.last_initiation_prep_date,errors='coerce')\n",
    "\n",
    "dreams_mastersheet.init_prep_date.dt.year.unique()\n"
   ]
  },
  {
   "cell_type": "code",
   "execution_count": null,
   "metadata": {},
   "outputs": [
    {
     "data": {
      "text/plain": [
       "10868"
      ]
     },
     "execution_count": 9,
     "metadata": {},
     "output_type": "execute_result"
    },
    {
     "data": {
      "text/plain": [
       "20767"
      ]
     },
     "execution_count": 9,
     "metadata": {},
     "output_type": "execute_result"
    },
    {
     "data": {
      "text/plain": [
       "10877"
      ]
     },
     "execution_count": 9,
     "metadata": {},
     "output_type": "execute_result"
    },
    {
     "data": {
      "text/plain": [
       "10876"
      ]
     },
     "execution_count": 9,
     "metadata": {},
     "output_type": "execute_result"
    },
    {
     "data": {
      "text/plain": [
       "32255"
      ]
     },
     "execution_count": 9,
     "metadata": {},
     "output_type": "execute_result"
    },
    {
     "data": {
      "text/plain": [
       "array([  nan, 2021.])"
      ]
     },
     "execution_count": 9,
     "metadata": {},
     "output_type": "execute_result"
    },
    {
     "data": {
      "text/plain": [
       "array([  nan, 2020., 2021.])"
      ]
     },
     "execution_count": 9,
     "metadata": {},
     "output_type": "execute_result"
    },
    {
     "data": {
      "text/plain": [
       "array([  nan, 2021., 2020.])"
      ]
     },
     "execution_count": 9,
     "metadata": {},
     "output_type": "execute_result"
    },
    {
     "data": {
      "text/plain": [
       "array([  nan, 2020., 2021.])"
      ]
     },
     "execution_count": 9,
     "metadata": {},
     "output_type": "execute_result"
    },
    {
     "data": {
      "text/plain": [
       "array([  nan, 2020., 2021.])"
      ]
     },
     "execution_count": 9,
     "metadata": {},
     "output_type": "execute_result"
    }
   ],
   "source": [
    "dreams_mastersheet.last_hiv_test_date.isna().sum()\n",
    "dreams_mastersheet.last_sensibilisation_hiv_test_date.isna().sum()\n",
    "dreams_mastersheet.last_condoms_reception_date.isna().sum()\n",
    "dreams_mastersheet.last_vbg_treatment_date.isna().sum()\n",
    "dreams_mastersheet.last_gynecological_care_date.isna().sum()\n",
    "\n",
    "dreams_mastersheet.last_hiv_test_date = dreams_mastersheet.last_hiv_test_date.fillna('0000-00-00')\n",
    "dreams_mastersheet[\"hts_date\"] = pd.to_datetime( dreams_mastersheet.last_hiv_test_date,errors='coerce')\n",
    "\n",
    "dreams_mastersheet.last_sensibilisation_hiv_test_date = dreams_mastersheet.last_sensibilisation_hiv_test_date.fillna('0000-00-00')\n",
    "dreams_mastersheet[\"sens_hts_date\"] = pd.to_datetime( dreams_mastersheet.last_sensibilisation_hiv_test_date,errors='coerce')\n",
    "\n",
    "\n",
    "dreams_mastersheet.last_condoms_reception_date = dreams_mastersheet.last_condoms_reception_date.fillna('0000-00-00')\n",
    "dreams_mastersheet['condoms_date'] = pd.to_datetime(dreams_mastersheet.last_condoms_reception_date,errors='coerce')\n",
    "\n",
    "dreams_mastersheet.last_vbg_treatment_date = dreams_mastersheet.last_vbg_treatment_date.fillna('0000-00-00')\n",
    "dreams_mastersheet['vbg_date'] = pd.to_datetime(dreams_mastersheet.last_vbg_treatment_date,errors='coerce')\n",
    "\n",
    "dreams_mastersheet.last_gynecological_care_date = dreams_mastersheet.last_gynecological_care_date.fillna('0000-00-00')\n",
    "dreams_mastersheet['gyneco_date'] = pd.to_datetime(dreams_mastersheet.last_gynecological_care_date,errors='coerce')\n",
    "\n",
    "dreams_mastersheet.sens_hts_date.dt.year.unique()\n",
    "dreams_mastersheet.hts_date.dt.year.unique()\n",
    "dreams_mastersheet.condoms_date.dt.year.unique()\n",
    "dreams_mastersheet.vbg_date.dt.year.unique()\n",
    "dreams_mastersheet.gyneco_date.dt.year.unique()"
   ]
  },
  {
   "cell_type": "code",
   "execution_count": null,
   "metadata": {},
   "outputs": [
    {
     "data": {
      "text/plain": [
       "array(['FY20Q4', 'not_valid', 'FY20Q3', 'FY21Q1', 'FY21Q2', 'FY21Q3',\n",
       "       'FY21Q4'], dtype=object)"
      ]
     },
     "execution_count": 10,
     "metadata": {},
     "output_type": "execute_result"
    },
    {
     "data": {
      "text/plain": [
       "array(['Q3fy20-Q4fy20', 'not_valid', 'FY21Q1', 'FY21Q2', 'FY21Q3',\n",
       "       'FY21Q4'], dtype=object)"
      ]
     },
     "execution_count": 10,
     "metadata": {},
     "output_type": "execute_result"
    },
    {
     "data": {
      "text/plain": [
       "array(['required_Time_on', 'not_valid_time_on'], dtype=object)"
      ]
     },
     "execution_count": 10,
     "metadata": {},
     "output_type": "execute_result"
    },
    {
     "data": {
      "text/plain": [
       "array(['13-24 months', '25+ months', '0-6 months', '7-12 months'],\n",
       "      dtype=object)"
      ]
     },
     "execution_count": 10,
     "metadata": {},
     "output_type": "execute_result"
    }
   ],
   "source": [
    "dreams_mastersheet[\"id_fiscal_year\"] = dreams_mastersheet.date_entevyou.map(calculation_fiscalYear21)\n",
    "dreams_mastersheet[\"fiscal_year\"] = dreams_mastersheet.id_fiscal_year.map(fiscalYear21)\n",
    "dreams_mastersheet[\"timeOn_system\"] = dreams_mastersheet.date_entevyou.map(validTimeOnSystem)\n",
    "dreams_mastersheet[\"months_now_dateEntevyou\"] = dreams_mastersheet.date_entevyou.map(between_now_date_entevyou)\n",
    "dreams_mastersheet[\"agyw_period_range\"] = dreams_mastersheet.months_now_dateEntevyou.map(agywPeriods)\n",
    "\n",
    "\n",
    "\n",
    "dreams_mastersheet.id_fiscal_year.unique()\n",
    "dreams_mastersheet.fiscal_year.unique()\n",
    "dreams_mastersheet.timeOn_system.unique()\n",
    "#dreams_mastersheet.months_now_dateEntevyou.unique()\n",
    "dreams_mastersheet.agyw_period_range.unique()"
   ]
  },
  {
   "cell_type": "code",
   "execution_count": null,
   "metadata": {},
   "outputs": [
    {
     "data": {
      "text/plain": [
       "array(['errata', 'FY20Q4', 'FY20Q3', 'FY20Q2', 'FY21Q3', 'FY21Q4',\n",
       "       'FY21Q2', 'FY19Q3', 'FY21Q1', 'not_valid_fy'], dtype=object)"
      ]
     },
     "execution_count": 11,
     "metadata": {},
     "output_type": "execute_result"
    },
    {
     "data": {
      "text/plain": [
       "array(['errata', 'FY20Q4', 'FY20Q3', 'FY20Q2', 'FY21Q4', 'FY21Q2',\n",
       "       'FY21Q3', 'FY21Q1', 'not_valid_fy'], dtype=object)"
      ]
     },
     "execution_count": 11,
     "metadata": {},
     "output_type": "execute_result"
    }
   ],
   "source": [
    "dreams_mastersheet['curriculum_date_debut_fy'] = dreams_mastersheet.curriculum_date_debut.map(id_quarter_services)\n",
    "dreams_mastersheet['curriculum_date_end_fy'] = dreams_mastersheet.curriculum_date_end.map(id_quarter_services)\n",
    "dreams_mastersheet.curriculum_date_debut_fy.unique()\n",
    "dreams_mastersheet.curriculum_date_end_fy.unique()"
   ]
  },
  {
   "cell_type": "code",
   "execution_count": null,
   "metadata": {},
   "outputs": [
    {
     "data": {
      "text/plain": [
       "array(['errata', 'FY20Q2', 'FY20Q4', 'FY21Q4', 'FY20Q3', 'FY21Q3',\n",
       "       'FY21Q1', 'not_valid_fy', 'FY21Q2'], dtype=object)"
      ]
     },
     "execution_count": 12,
     "metadata": {},
     "output_type": "execute_result"
    },
    {
     "data": {
      "text/plain": [
       "array(['errata', 'FY21Q4', 'FY20Q4', 'FY20Q2', 'FY21Q3', 'FY20Q3',\n",
       "       'FY21Q1', 'FY21Q2'], dtype=object)"
      ]
     },
     "execution_count": 12,
     "metadata": {},
     "output_type": "execute_result"
    },
    {
     "data": {
      "text/plain": [
       "array(['errata', 'FY20Q4', 'FY20Q3', 'FY21Q4', 'FY21Q3'], dtype=object)"
      ]
     },
     "execution_count": 12,
     "metadata": {},
     "output_type": "execute_result"
    },
    {
     "data": {
      "text/plain": [
       "array(['errata', 'FY20Q4', 'FY21Q4'], dtype=object)"
      ]
     },
     "execution_count": 12,
     "metadata": {},
     "output_type": "execute_result"
    },
    {
     "data": {
      "text/plain": [
       "array(['errata', 'FY21Q4'], dtype=object)"
      ]
     },
     "execution_count": 12,
     "metadata": {},
     "output_type": "execute_result"
    },
    {
     "data": {
      "text/plain": [
       "array(['errata', 'FY21Q4', 'FY21Q3', 'not_valid_fy'], dtype=object)"
      ]
     },
     "execution_count": 12,
     "metadata": {},
     "output_type": "execute_result"
    },
    {
     "data": {
      "text/plain": [
       "array(['errata', 'FY21Q4'], dtype=object)"
      ]
     },
     "execution_count": 12,
     "metadata": {},
     "output_type": "execute_result"
    },
    {
     "data": {
      "text/plain": [
       "array(['errata', 'FY21Q4', 'FY21Q3'], dtype=object)"
      ]
     },
     "execution_count": 12,
     "metadata": {},
     "output_type": "execute_result"
    }
   ],
   "source": [
    "dreams_mastersheet['hts_fy'] = dreams_mastersheet.hts_date.map(id_quarter_services)\n",
    "dreams_mastersheet['sens_hts_fy'] = dreams_mastersheet.sens_hts_date.map(id_quarter_services)\n",
    "dreams_mastersheet['condoms_fy'] = dreams_mastersheet.condoms_date.map(id_quarter_services)\n",
    "dreams_mastersheet['vbg_fy'] = dreams_mastersheet.vbg_date.map(id_quarter_services)\n",
    "dreams_mastersheet['gyneco_fy'] = dreams_mastersheet.gyneco_date.map(id_quarter_services)\n",
    "dreams_mastersheet['init_prep_fy'] = dreams_mastersheet.init_prep_date.map(id_quarter_services)\n",
    "dreams_mastersheet['ref_prep_fy'] = dreams_mastersheet.ref_prep_date.map(id_quarter_services)\n",
    "dreams_mastersheet['sens_prep_fy'] = dreams_mastersheet.sens_prep_date.map(id_quarter_services)\n",
    "\n",
    "dreams_mastersheet.hts_fy.unique()\n",
    "dreams_mastersheet.condoms_fy.unique()\n",
    "dreams_mastersheet.vbg_fy.unique()\n",
    "dreams_mastersheet.gyneco_fy.unique()\n",
    "dreams_mastersheet.init_prep_fy.unique()\n",
    "dreams_mastersheet.sens_hts_fy.unique()\n",
    "dreams_mastersheet.ref_prep_fy.unique()\n",
    "dreams_mastersheet.sens_prep_fy.unique()"
   ]
  },
  {
   "cell_type": "markdown",
   "metadata": {},
   "source": [
    "# Services"
   ]
  },
  {
   "cell_type": "code",
   "execution_count": null,
   "metadata": {},
   "outputs": [
    {
     "data": {
      "text/plain": [
       "1444"
      ]
     },
     "execution_count": 13,
     "metadata": {},
     "output_type": "execute_result"
    },
    {
     "data": {
      "text/plain": [
       "array([-1000,    18,    10,    13,    17,    14,    15,     6,    16,\n",
       "          11,     3,     2,     7,     9,     8,     1,    20,    21,\n",
       "           4,    12,    19,     5], dtype=int16)"
      ]
     },
     "execution_count": 13,
     "metadata": {},
     "output_type": "execute_result"
    },
    {
     "data": {
      "text/plain": [
       "array(['zero_services_curriculum', 'servis_auMoins_1fois'], dtype=object)"
      ]
     },
     "execution_count": 13,
     "metadata": {},
     "output_type": "execute_result"
    },
    {
     "data": {
      "text/plain": [
       "array(['non-recu', 'curriculum complet', 'curriculum incomplet'],\n",
       "      dtype=object)"
      ]
     },
     "execution_count": 13,
     "metadata": {},
     "output_type": "execute_result"
    },
    {
     "data": {
      "text/plain": [
       "array(['curriculum_inc', 'curriculum_completed'], dtype=object)"
      ]
     },
     "execution_count": 13,
     "metadata": {},
     "output_type": "execute_result"
    }
   ],
   "source": [
    "dreams_mastersheet.number_of_different_topic.isna().sum()\n",
    "dreams_mastersheet.number_of_different_topic = dreams_mastersheet.number_of_different_topic.fillna(-1000)\n",
    "dreams_mastersheet.number_of_different_topic = dreams_mastersheet.number_of_different_topic.astype(int16)\n",
    "dreams_mastersheet.number_of_different_topic.unique()\n",
    "\n",
    "dreams_mastersheet['curriculum_servis_auMoins_1fois'] = dreams_mastersheet.number_of_different_topic.map(curriculum_atLeastOneService)\n",
    "dreams_mastersheet['curriculum'] = dreams_mastersheet.number_of_different_topic.map(status_curriculum)\n",
    "dreams_mastersheet[\"dreams_curriculum\"] = dreams_mastersheet.curriculum.map(curriculum_condense)\n",
    "\n",
    "\n",
    "\n",
    "dreams_mastersheet.curriculum_servis_auMoins_1fois.unique()\n",
    "dreams_mastersheet.curriculum.unique()\n",
    "dreams_mastersheet.dreams_curriculum.unique()\n"
   ]
  },
  {
   "cell_type": "code",
   "execution_count": null,
   "metadata": {},
   "outputs": [
    {
     "data": {
      "text/plain": [
       "20757"
      ]
     },
     "execution_count": 14,
     "metadata": {},
     "output_type": "execute_result"
    },
    {
     "data": {
      "text/plain": [
       "19558"
      ]
     },
     "execution_count": 14,
     "metadata": {},
     "output_type": "execute_result"
    },
    {
     "data": {
      "text/plain": [
       "19685"
      ]
     },
     "execution_count": 14,
     "metadata": {},
     "output_type": "execute_result"
    },
    {
     "data": {
      "text/plain": [
       "19858"
      ]
     },
     "execution_count": 14,
     "metadata": {},
     "output_type": "execute_result"
    },
    {
     "data": {
      "text/plain": [
       "array(['not_valid', 'refus', 'accept'], dtype=object)"
      ]
     },
     "execution_count": 14,
     "metadata": {},
     "output_type": "execute_result"
    },
    {
     "data": {
      "text/plain": [
       "array(['not_valid', 'sens', 'non-sens'], dtype=object)"
      ]
     },
     "execution_count": 14,
     "metadata": {},
     "output_type": "execute_result"
    },
    {
     "data": {
      "text/plain": [
       "array(['not_valid', 'accept', 'refus'], dtype=object)"
      ]
     },
     "execution_count": 14,
     "metadata": {},
     "output_type": "execute_result"
    },
    {
     "data": {
      "text/plain": [
       "array(['not_valid', 'refus', 'accept'], dtype=object)"
      ]
     },
     "execution_count": 14,
     "metadata": {},
     "output_type": "execute_result"
    }
   ],
   "source": [
    "dreams_mastersheet.acceptation_hiv_test.isna().sum()\n",
    "dreams_mastersheet.sensibilisation_condom.isna().sum()\n",
    "dreams_mastersheet.acceptation_condom.isna().sum()\n",
    "dreams_mastersheet.acceptation_prep.isna().sum()\n",
    "\n",
    "dreams_mastersheet.acceptation_hiv_test = dreams_mastersheet.acceptation_hiv_test.fillna(\"didnt\")\n",
    "dreams_mastersheet.sensibilisation_condom = dreams_mastersheet.sensibilisation_condom.fillna(\"didnt\")\n",
    "dreams_mastersheet.acceptation_condom = dreams_mastersheet.acceptation_condom.fillna(\"didnt\")\n",
    "dreams_mastersheet.acceptation_prep = dreams_mastersheet.acceptation_prep.fillna(\"didnt\")\n",
    "\n",
    "\n",
    "dreams_mastersheet[\"acc_hiv_test\"] = dreams_mastersheet.acceptation_hiv_test.map(acceptation_services)\n",
    "dreams_mastersheet[\"sens_condom\"] = dreams_mastersheet.sensibilisation_condom.map(sensibilisation_services)\n",
    "dreams_mastersheet[\"acc_condom\"] = dreams_mastersheet.acceptation_condom.map(acceptation_services)\n",
    "dreams_mastersheet[\"acc_prep\"] = dreams_mastersheet.acceptation_prep.map(acceptation_services)\n",
    "\n",
    "\n",
    "dreams_mastersheet.acc_hiv_test.unique()\n",
    "dreams_mastersheet.sens_condom.unique()\n",
    "dreams_mastersheet.acc_condom.unique()\n",
    "dreams_mastersheet.acc_prep.unique()\n",
    "\n"
   ]
  },
  {
   "cell_type": "code",
   "execution_count": null,
   "metadata": {},
   "outputs": [
    {
     "data": {
      "text/plain": [
       "array(['errata', 'tested_on_given_date'], dtype=object)"
      ]
     },
     "execution_count": 15,
     "metadata": {},
     "output_type": "execute_result"
    },
    {
     "data": {
      "text/plain": [
       "array(['errata', 'tested_on_given_date'], dtype=object)"
      ]
     },
     "execution_count": 15,
     "metadata": {},
     "output_type": "execute_result"
    },
    {
     "data": {
      "text/plain": [
       "array(['errata', 'tested_on_given_date'], dtype=object)"
      ]
     },
     "execution_count": 15,
     "metadata": {},
     "output_type": "execute_result"
    },
    {
     "data": {
      "text/plain": [
       "array(['no', 'sensOuRecu'], dtype=object)"
      ]
     },
     "execution_count": 15,
     "metadata": {},
     "output_type": "execute_result"
    },
    {
     "data": {
      "text/plain": [
       "array(['errata', 'tested_on_given_date'], dtype=object)"
      ]
     },
     "execution_count": 15,
     "metadata": {},
     "output_type": "execute_result"
    },
    {
     "data": {
      "text/plain": [
       "array(['errata', 'tested_on_given_date'], dtype=object)"
      ]
     },
     "execution_count": 15,
     "metadata": {},
     "output_type": "execute_result"
    },
    {
     "data": {
      "text/plain": [
       "array(['errata', 'tested_on_given_date'], dtype=object)"
      ]
     },
     "execution_count": 15,
     "metadata": {},
     "output_type": "execute_result"
    },
    {
     "data": {
      "text/plain": [
       "array(['errata', 'tested_on_given_date'], dtype=object)"
      ]
     },
     "execution_count": 15,
     "metadata": {},
     "output_type": "execute_result"
    },
    {
     "data": {
      "text/plain": [
       "array(['errata', 'tested_on_given_date'], dtype=object)"
      ]
     },
     "execution_count": 15,
     "metadata": {},
     "output_type": "execute_result"
    },
    {
     "data": {
      "text/plain": [
       "array(['no', 'service_muso_gardening'], dtype=object)"
      ]
     },
     "execution_count": 15,
     "metadata": {},
     "output_type": "execute_result"
    },
    {
     "data": {
      "text/plain": [
       "array(['no', 'service_gyneco_vbg'], dtype=object)"
      ]
     },
     "execution_count": 15,
     "metadata": {},
     "output_type": "execute_result"
    }
   ],
   "source": [
    "\n",
    "dreams_mastersheet['hts'] = dreams_mastersheet.hts_date.map(valid_services)\n",
    "dreams_mastersheet['sens_hts'] = dreams_mastersheet.sens_hts_date.map(valid_services)\n",
    "dreams_mastersheet['condoms'] = dreams_mastersheet.condoms_date.map(valid_services)\n",
    "dreams_mastersheet['new_condoms'] = dreams_mastersheet.apply(lambda df: condoms_services(df),axis=1)\n",
    "dreams_mastersheet['vbg'] = dreams_mastersheet.vbg_date.map(valid_services)\n",
    "dreams_mastersheet['gyneco'] = dreams_mastersheet.gyneco_date.map(valid_services)\n",
    "dreams_mastersheet['init_prep'] = dreams_mastersheet.init_prep_date.map(valid_services)\n",
    "dreams_mastersheet['ref_prep'] = dreams_mastersheet.ref_prep_date.map(valid_services)\n",
    "dreams_mastersheet['sens_prep'] = dreams_mastersheet.sens_prep_date.map(valid_services)\n",
    "\n",
    "dreams_mastersheet['socio_eco_app'] = dreams_mastersheet.apply(lambda df: socioEco_app(df),axis=1)\n",
    "dreams_mastersheet['post_care_treatment'] = dreams_mastersheet.apply(lambda df: post_care_app(df),axis=1)\n",
    "\n",
    "\n",
    "dreams_mastersheet.hts.unique()\n",
    "dreams_mastersheet.sens_hts.unique()\n",
    "dreams_mastersheet.condoms.unique()\n",
    "dreams_mastersheet.new_condoms.unique()\n",
    "dreams_mastersheet.vbg.unique()\n",
    "dreams_mastersheet.gyneco.unique()\n",
    "dreams_mastersheet.init_prep.unique()\n",
    "dreams_mastersheet.ref_prep.unique()\n",
    "dreams_mastersheet.sens_prep.unique()\n",
    "dreams_mastersheet.socio_eco_app.unique()\n",
    "dreams_mastersheet.post_care_treatment.unique()"
   ]
  },
  {
   "cell_type": "markdown",
   "metadata": {},
   "source": [
    "# Wildcard"
   ]
  },
  {
   "cell_type": "code",
   "execution_count": null,
   "metadata": {},
   "outputs": [
    {
     "data": {
      "text/plain": [
       "array([30, 27, 46, 34, 24, 45, 50, 20, 39, 42, 22, 10, 19, 47, 52, 15, 21,\n",
       "       35, 54, 25, 29, 36, 56, 40, 53, 37, 32, 26, 14, 18, 49, 38, 43, 28,\n",
       "       16, 17, 31, 23, 65, 41, 62, 33,  9, 57, 55,  3, 44, 48, 68, 51,  5,\n",
       "       58, 63, 72, 66, 67, 74, 61, 60, 70, 64, 59, 12, 13, 75, 71, 69, 81,\n",
       "       86, 73, 77, 83, 78, 80, 84, 76], dtype=int64)"
      ]
     },
     "execution_count": 16,
     "metadata": {},
     "output_type": "execute_result"
    },
    {
     "data": {
      "text/plain": [
       "array(['eligible', 'no_eligible'], dtype=object)"
      ]
     },
     "execution_count": 16,
     "metadata": {},
     "output_type": "execute_result"
    }
   ],
   "source": [
    "dreams_mastersheet.total.unique()\n",
    "dreams_mastersheet['score_eligible_AGYW'] = dreams_mastersheet.total.map(isAGYW)\n",
    "dreams_mastersheet.score_eligible_AGYW.unique()"
   ]
  },
  {
   "cell_type": "code",
   "execution_count": null,
   "metadata": {},
   "outputs": [
    {
     "data": {
      "text/plain": [
       "array(['no', '1_services_dreams_recus'], dtype=object)"
      ]
     },
     "execution_count": 17,
     "metadata": {},
     "output_type": "execute_result"
    }
   ],
   "source": [
    "dreams_mastersheet['recevoir_1services'] = dreams_mastersheet.apply(lambda df: new_unServiceDreams(df),axis=1)\n",
    "dreams_mastersheet.recevoir_1services.unique()"
   ]
  },
  {
   "cell_type": "code",
   "execution_count": null,
   "metadata": {},
   "outputs": [
    {
     "data": {
      "text/plain": [
       "array(['no', 'curriculum-servis'], dtype=object)"
      ]
     },
     "execution_count": 18,
     "metadata": {},
     "output_type": "execute_result"
    },
    {
     "data": {
      "text/plain": [
       "array(['no', 'condoms&curriculum'], dtype=object)"
      ]
     },
     "execution_count": 18,
     "metadata": {},
     "output_type": "execute_result"
    },
    {
     "data": {
      "text/plain": [
       "array(['no', 'condoms&curriculum'], dtype=object)"
      ]
     },
     "execution_count": 18,
     "metadata": {},
     "output_type": "execute_result"
    }
   ],
   "source": [
    "dreams_mastersheet['ps_10_14'] = dreams_mastersheet.apply(lambda df: service_primaire_10_14(df),axis=1)\n",
    "dreams_mastersheet['ps_15_19'] = dreams_mastersheet.apply(lambda df: new_service_primaire_15_19(df), axis=1)\n",
    "dreams_mastersheet['ps_20_24'] = dreams_mastersheet.apply(lambda df: newI_service_primaire_20_24(df), axis=1)\n",
    "\n",
    "dreams_mastersheet.ps_10_14.unique()\n",
    "dreams_mastersheet.ps_15_19.unique()\n",
    "dreams_mastersheet.ps_20_24.unique()"
   ]
  },
  {
   "cell_type": "markdown",
   "metadata": {},
   "source": [
    "# Workbook"
   ]
  },
  {
   "cell_type": "code",
   "execution_count": null,
   "metadata": {},
   "outputs": [],
   "source": [
    "dreams_mastersheet.to_excel('./LayeringOF_services.xlsx',index=False,na_rep=\"NULL\")"
   ]
  },
  {
   "cell_type": "markdown",
   "metadata": {},
   "source": [
    "# Indicator Solution"
   ]
  },
  {
   "cell_type": "markdown",
   "metadata": {},
   "source": [
    "Q2DATA = pd.read_excel(\"./static/Q2FY21.xlsx\", parse_dates=True, sheet_name='Q2')\n",
    "Q2DATA.code.count()\n"
   ]
  },
  {
   "cell_type": "markdown",
   "metadata": {},
   "source": [
    "Q2Code = Q2DATA[['code']]\n",
    "Q2Code"
   ]
  },
  {
   "cell_type": "markdown",
   "metadata": {},
   "source": [
    "DF = dreams_mastersheet "
   ]
  },
  {
   "cell_type": "markdown",
   "metadata": {},
   "source": [
    "\n",
    "Q2_find_data = DF[DF.code.isin(Q2Code.code)]\n",
    "Q2_find_data.code.count()"
   ]
  },
  {
   "cell_type": "markdown",
   "metadata": {},
   "source": [
    "no_Q2_data = DF[~DF.code.isin(Q2Code.code)]\n",
    "no_Q2_data.code.count()"
   ]
  },
  {
   "cell_type": "markdown",
   "metadata": {},
   "source": [
    "DF.code.count()"
   ]
  },
  {
   "cell_type": "markdown",
   "metadata": {},
   "source": [
    "no_Q2_data.to_excel('no_Q2_data.xlsx',na_rep='NULL',index=False)"
   ]
  },
  {
   "cell_type": "markdown",
   "metadata": {},
   "source": [
    "# TRY ME"
   ]
  },
  {
   "cell_type": "markdown",
   "metadata": {},
   "source": [
    "df_prior_Q2 = pd.read_excel('./datim_studies/static/agyw_prev.xlsx',sheet_name=\"DREAMS\",parse_dates=True)\n",
    "df_prior_Q2.code.count()"
   ]
  },
  {
   "cell_type": "markdown",
   "metadata": {},
   "source": [
    "prior_Q2_data = df_prior_Q2[~df_prior_Q2.code.isin(Q2Code.code)]\n",
    "prior_Q2_data.code.count()\n",
    "\n",
    "find_Q2_data = df_prior_Q2[df_prior_Q2.code.isin(Q2Code.code)]\n",
    "find_Q2_data.code.count()"
   ]
  },
  {
   "cell_type": "markdown",
   "metadata": {},
   "source": [
    "prior_Q2_data.to_excel('prior_Q2_data.xlsx',na_rep='NULL',index=False)"
   ]
  },
  {
   "cell_type": "code",
   "execution_count": null,
   "metadata": {},
   "outputs": [],
   "source": [
    "#df = dreams_mastersheet\n",
    "#base = df[\n",
    "#    (df.age_range!=\"not_valid_age\")\n",
    "#    &(df.age_range!=\"25-29\")\n",
    "#]\n",
    "\n",
    "\n",
    "#base_once = base[base.recevoir_1services == '1_services_dreams_recus']\n",
    "\n",
    "\n",
    "#base_once_table = base_once.pivot_table(index=\"age_range\",columns=\"agyw_period_range\",\n",
    "#                        values='code',\n",
    "#                        aggfunc='count',\n",
    "#                        fill_value=0,\n",
    "#                        margins=True,\n",
    "#                        margins_name=\"Grand Total\"                             \n",
    "#)\n",
    "\n",
    "#base_once_table"
   ]
  },
  {
   "cell_type": "code",
   "execution_count": null,
   "metadata": {},
   "outputs": [],
   "source": [
    "#base_once_table.to_excel('./static/beneficiaries_servedOnce_inception_now.xlsx',index=True)"
   ]
  },
  {
   "cell_type": "code",
   "execution_count": null,
   "metadata": {},
   "outputs": [],
   "source": [
    "\n",
    "#base_13plus = base_once[\n",
    "#    (base_once.agyw_period_range != '0-6 months')\n",
    "#    &(base_once.agyw_period_range != '7-12 months')    \n",
    "#]\n",
    "\n",
    "#base_13plus.code.count()"
   ]
  },
  {
   "cell_type": "code",
   "execution_count": null,
   "metadata": {},
   "outputs": [],
   "source": [
    "#base_13plus.to_excel('./static/inception_now_13plus.xlsx',index=True)"
   ]
  },
  {
   "cell_type": "code",
   "execution_count": null,
   "metadata": {},
   "outputs": [],
   "source": []
  }
 ],
 "metadata": {
  "interpreter": {
   "hash": "4534460e0bdca1b390927d45471088fb3501d39abc4e3f2cee293892e17d7fc6"
  },
  "kernelspec": {
   "display_name": "Python 3.9.7 64-bit",
   "name": "python3"
  },
  "language_info": {
   "codemirror_mode": {
    "name": "ipython",
    "version": 3
   },
   "file_extension": ".py",
   "mimetype": "text/x-python",
   "name": "python",
   "nbconvert_exporter": "python",
   "pygments_lexer": "ipython3",
   "version": "3.9.7"
  },
  "orig_nbformat": 4
 },
 "nbformat": 4,
 "nbformat_minor": 2
}
