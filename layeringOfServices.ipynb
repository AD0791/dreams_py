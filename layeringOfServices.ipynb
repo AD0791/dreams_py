{
 "cells": [
  {
   "cell_type": "code",
   "execution_count": 2,
   "id": "perceived-jordan",
   "metadata": {},
   "outputs": [],
   "source": [
    "import os\n",
    "from datetime import datetime\n",
    "#from datetime import date\n",
    "import pymysql\n",
    "from sqlalchemy import create_engine\n",
    "from decouple import config \n",
    "from dotenv import load_dotenv\n",
    "import pandas as pd\n",
    "from numpy import int16"
   ]
  },
  {
   "cell_type": "code",
   "execution_count": 3,
   "id": "placed-hostel",
   "metadata": {},
   "outputs": [],
   "source": [
    "load_dotenv()\n",
    "# get the environment variables needed\n",
    "USER= config('USRCaris')\n",
    "PASSWORD= config('PASSCaris')\n",
    "HOSTNAME= config('HOSTCaris')\n",
    "DBNAME= config('DBCaris')"
   ]
  },
  {
   "cell_type": "code",
   "execution_count": 4,
   "id": "owned-headline",
   "metadata": {},
   "outputs": [],
   "source": [
    "# get the engine to connect and fetch\n",
    "engine = create_engine(f\"mysql+pymysql://{USER}:{PASSWORD}@{HOSTNAME}/{DBNAME}\")\n",
    "query = '''\n",
    "SELECT \n",
    "    dm.id_patient AS main_id,\n",
    "    IF(TIMESTAMPDIFF(YEAR,\n",
    "            dsd.nan_ki_dat_ou_fet,\n",
    "            NOW()) >= 18,\n",
    "        IF(dsd.a7_Ak_kiles_w_ap_viv_15_19 = '3'\n",
    "                OR dsd.a1121_aktivite_pouw_rantre_kob_ou_vle_fe = '0'\n",
    "                or dsd.c6b_Kiles_ki_peye_lekol_ou_Tranche_15_19 = '3'\n",
    "                or dsd.eske_ou_bay_kob_pou_pran_swen_piti_ou_ayo = 'oui',\n",
    "            'yes_sup18',\n",
    "            'no18'),\n",
    "        if(\n",
    "\t\t\tdsd.a7_ak_kils_w_ap_viv_10_14 = '6'\n",
    "            OR dsd.a1121_aktivite_pouw_rantre_kob_ou_vle_fe = '0'\n",
    "            OR dsd.c6b_kils_ki_peye_lekl_ou_10_14 = '5'\n",
    "            or dsd.eske_ou_bay_kob_pou_pran_swen_piti_ou_ayo = 'oui',\n",
    "            'yes_inf17'\n",
    "            ,'no17'\t)\n",
    "\t\t) AS muso_eligibility,\n",
    "    dm.id_group AS actual_id_group,\n",
    "    b.groups AS group_she_take_sessions,\n",
    "    p.patient_code AS code,\n",
    "    ben.last_name,\n",
    "    ben.first_name,\n",
    "    ben.dob,\n",
    "    TIMESTAMPDIFF(YEAR, ben.dob, NOW()) AS age,\n",
    "    b.pres AS number_of_different_topic,\n",
    "    b.first_session_date,\n",
    "    b.last_session_date,\n",
    "    MAX(dhi.test_date) AS last_hiv_test_date,\n",
    "    GROUP_CONCAT(DISTINCT dhi.test_result, ',') AS test_results,\n",
    "    GROUP_CONCAT(DISTINCT ltlr.name, ',') AS test_results_with_label,\n",
    "    MAX(dhi.condoms_reception_date) AS last_condoms_reception_date,\n",
    "    MAX(dhi.vbg_treatment_date) AS last_vbg_treatment_date,\n",
    "    MAX(dhi.gynecological_care_date) AS last_gynecological_care_date,\n",
    "    dg.name AS actual_group_name,\n",
    "    dh.name AS actual_hub,\n",
    "    lc.name AS actual_commune,\n",
    "    dh.commune AS actual_commune_id,\n",
    "    ld.name AS actual_departement,\n",
    "    lc.departement AS actual_departement_id,\n",
    "    IF(mgm.id_patient IS NOT NULL,\n",
    "        'yes',\n",
    "        'no') AS is_muso,\n",
    "    IF(gb.case_id IS NOT NULL, 'yes', 'no') AS is_gardening,\n",
    "    tf.*,\n",
    "    dsd.*\n",
    "FROM\n",
    "    dream_member dm\n",
    "        LEFT JOIN\n",
    "    (SELECT \n",
    "        SUM(a.value = 'P') AS pres,\n",
    "            a.id_patient,\n",
    "            GROUP_CONCAT(DISTINCT a.id_group, ',') AS groups,\n",
    "            MIN(a.date) AS first_session_date,\n",
    "            MAX(a.date) AS last_session_date\n",
    "    FROM\n",
    "        (SELECT \n",
    "        dga.*, dgs.topic, dgs.date, dgs.id_group\n",
    "    FROM\n",
    "        dream_group_attendance dga\n",
    "    LEFT JOIN dream_group_session dgs ON dgs.id = dga.id_group_session\n",
    "    WHERE\n",
    "        dga.value = 'P'\n",
    "    GROUP BY dga.id_patient , dgs.topic) a\n",
    "    GROUP BY a.id_patient) b ON b.id_patient = dm.id_patient\n",
    "        LEFT JOIN\n",
    "    beneficiary ben ON ben.id_patient = dm.id_patient\n",
    "        LEFT JOIN\n",
    "    patient p ON p.id = dm.id_patient\n",
    "        LEFT JOIN\n",
    "    caris_db.dream_hivinfos dhi ON dhi.id_patient = dm.id_patient\n",
    "        LEFT JOIN\n",
    "    lookup_testing_lab_result ltlr ON ltlr.id = dhi.test_result\n",
    "        LEFT JOIN\n",
    "    caris_db.dream_group dg ON dg.id = dm.id_group\n",
    "        LEFT JOIN\n",
    "    dream_hub dh ON dh.id = dg.id_dream_hub\n",
    "        LEFT JOIN\n",
    "    lookup_commune lc ON lc.id = dh.commune\n",
    "        LEFT JOIN\n",
    "    lookup_departement ld ON ld.id = lc.departement\n",
    "        LEFT JOIN\n",
    "    dreams_surveys_data dsd ON dsd.case_id = dm.case_id\n",
    "        LEFT JOIN\n",
    "    tracking_familymember tf ON tf.id_patient = dm.id_patient\n",
    "        LEFT JOIN\n",
    "    muso_group_members mgm ON mgm.id_patient = dm.id_patient\n",
    "        LEFT JOIN\n",
    "    gardening_beneficiary gb ON gb.code_dreams = p.patient_code\n",
    "GROUP BY dm.id_patient\n",
    "'''\n",
    "\n",
    "dreams_mastersheet = pd.read_sql_query(query,engine,parse_dates=True)\n",
    "# get the test excel file from Query\n",
    "dreams_mastersheet.to_excel('./dreams_services.xlsx',index=False,na_rep=\"NULL\")"
   ]
  },
  {
   "cell_type": "code",
   "execution_count": 5,
   "id": "demographic-slovenia",
   "metadata": {},
   "outputs": [],
   "source": [
    "# close the pool of connection\n",
    "engine.dispose()"
   ]
  },
  {
   "cell_type": "markdown",
   "id": "infrared-watch",
   "metadata": {},
   "source": [
    "## Work on the age aspect"
   ]
  },
  {
   "cell_type": "code",
   "execution_count": 6,
   "id": "perfect-native",
   "metadata": {},
   "outputs": [
    {
     "data": {
      "text/plain": [
       "2"
      ]
     },
     "execution_count": 6,
     "metadata": {},
     "output_type": "execute_result"
    }
   ],
   "source": [
    "# how many NA\n",
    "dreams_mastersheet.age.isna().sum()"
   ]
  },
  {
   "cell_type": "code",
   "execution_count": 7,
   "id": "excess-texture",
   "metadata": {},
   "outputs": [],
   "source": [
    "# turn to integer\n",
    "dreams_mastersheet.age = dreams_mastersheet.age.fillna(-1000)\n",
    "dreams_mastersheet.age = dreams_mastersheet.age.astype(int16)"
   ]
  },
  {
   "cell_type": "code",
   "execution_count": 8,
   "id": "exceptional-catalyst",
   "metadata": {},
   "outputs": [
    {
     "data": {
      "text/plain": [
       "0       -1000\n",
       "1          16\n",
       "2          19\n",
       "3          20\n",
       "4          19\n",
       "         ... \n",
       "20731      17\n",
       "20732      11\n",
       "20733      17\n",
       "20734      10\n",
       "20735      10\n",
       "Name: age, Length: 20736, dtype: int16"
      ]
     },
     "execution_count": 8,
     "metadata": {},
     "output_type": "execute_result"
    }
   ],
   "source": [
    "dreams_mastersheet.age"
   ]
  },
  {
   "cell_type": "code",
   "execution_count": 9,
   "id": "diagnostic-blind",
   "metadata": {},
   "outputs": [],
   "source": [
    "# tranche d'age classique pr les services agyw\n",
    "# tranche age mineur majeur pour les services agyw\n",
    "\n",
    "\n",
    "\n",
    "def tranche_age_classique(age):\n",
    "        if age>=10 and age<=14:\n",
    "            return \"10-14\"\n",
    "        elif age>=15 and age<=19:\n",
    "            return \"15-19\"\n",
    "        elif age>=20 and age<=24:\n",
    "            return \"20-24\"\n",
    "        elif age>=25 and age<=29:\n",
    "            return \"25-29\"\n",
    "        else:\n",
    "            return \"not_valid_age\"\n",
    "        \n",
    "def tranche_age_mineur_majeur(age):\n",
    "        if age>=10 and age<=17:\n",
    "            return \"10-17\"\n",
    "        elif age>=18 and age<=19:\n",
    "            return \"18-19\"\n",
    "        elif age>=20 and age<=24:\n",
    "            return \"20-24\"\n",
    "        elif age>=25 and age<=29:\n",
    "            return \"25-29\"\n",
    "        else:\n",
    "            return \"not_valid_age\""
   ]
  },
  {
   "cell_type": "code",
   "execution_count": 10,
   "id": "molecular-advertiser",
   "metadata": {},
   "outputs": [],
   "source": [
    "dreams_mastersheet['age_range'] = dreams_mastersheet.age.map(tranche_age_classique)\n",
    "dreams_mastersheet['newage_range'] = dreams_mastersheet.age.map(tranche_age_mineur_majeur)"
   ]
  },
  {
   "cell_type": "code",
   "execution_count": 11,
   "id": "pacific-success",
   "metadata": {},
   "outputs": [
    {
     "data": {
      "text/plain": [
       "array(['not_valid_age', '15-19', '20-24', '10-14', '25-29'], dtype=object)"
      ]
     },
     "execution_count": 11,
     "metadata": {},
     "output_type": "execute_result"
    }
   ],
   "source": [
    "#dreams_mastersheet.newage_range\n",
    "dreams_mastersheet.age_range.unique()"
   ]
  },
  {
   "cell_type": "markdown",
   "id": "juvenile-wagner",
   "metadata": {},
   "source": [
    "## Work on the interview date aspect"
   ]
  },
  {
   "cell_type": "code",
   "execution_count": 12,
   "id": "motivated-consideration",
   "metadata": {},
   "outputs": [
    {
     "data": {
      "text/plain": [
       "0"
      ]
     },
     "execution_count": 12,
     "metadata": {},
     "output_type": "execute_result"
    }
   ],
   "source": [
    "dreams_mastersheet.a1_dat_entvyou_a_ft_jjmmaa_egz_010817.isna().sum()"
   ]
  },
  {
   "cell_type": "code",
   "execution_count": 13,
   "id": "atomic-efficiency",
   "metadata": {},
   "outputs": [],
   "source": [
    "dreams_mastersheet[\"date_entevyou\"] = pd.to_datetime( dreams_mastersheet.a1_dat_entvyou_a_ft_jjmmaa_egz_010817)"
   ]
  },
  {
   "cell_type": "code",
   "execution_count": 14,
   "id": "controlling-island",
   "metadata": {},
   "outputs": [
    {
     "data": {
      "text/plain": [
       "0       2020-07-09\n",
       "1       2019-12-18\n",
       "2       2019-12-18\n",
       "3       2019-12-18\n",
       "4       2019-12-18\n",
       "           ...    \n",
       "20731   2018-08-20\n",
       "20732   2021-04-14\n",
       "20733   2020-10-26\n",
       "20734   2021-04-14\n",
       "20735   2021-04-17\n",
       "Name: date_entevyou, Length: 20736, dtype: datetime64[ns]"
      ]
     },
     "execution_count": 14,
     "metadata": {},
     "output_type": "execute_result"
    }
   ],
   "source": [
    "dreams_mastersheet.date_entevyou"
   ]
  },
  {
   "cell_type": "code",
   "execution_count": 15,
   "id": "personal-lottery",
   "metadata": {},
   "outputs": [],
   "source": [
    "def fiscalYear21(date):\n",
    "    if date.year == 2021 and date.month>=1 and date.month<=3:\n",
    "        return \"FY21Q2\"\n",
    "    elif date.year == 2020 and date.month>=10 and date.month<=12:\n",
    "        return \"FY21Q1\"\n",
    "    elif date.year == 2021 and date.month>=4 and date.month<=6:\n",
    "        return \"FY21Q3\"\n",
    "    elif date.year == 2021 and date.month>=7 and date.month<=9:\n",
    "        return \"FY21Q4\"\n",
    "    else:\n",
    "        return \"not_valid_fy\"\n",
    "    \n",
    "\n",
    "    \n",
    "\n",
    "def validTimeOnSystem(date):\n",
    "    if date>= datetime.strptime(\"2020-04-01\",\"%Y-%m-%d\") and date<= datetime.now():\n",
    "        return \"required_Time_on\"\n",
    "    else:\n",
    "        return \"not_valid_time_on\"\n",
    "        \n",
    "    \n",
    "\n",
    "    \n",
    "def between_now_date_entevyou(date):\n",
    "    return (datetime.now().year - date.year) * 12 + (datetime.now().month - date.month)\n",
    "\n",
    "\n",
    "\n",
    "\n",
    "def agywPeriods(months):\n",
    "    if months <= 6:\n",
    "        return \"0-6 months\"\n",
    "    elif months>=7 and months<=12:\n",
    "        return \"7-12 months\"\n",
    "    elif months>=13 and months<=24:\n",
    "        return \"13-24 months\"\n",
    "    else:\n",
    "        return \"25+ months\""
   ]
  },
  {
   "cell_type": "code",
   "execution_count": 16,
   "id": "reasonable-notion",
   "metadata": {},
   "outputs": [],
   "source": [
    "dreams_mastersheet[\"fiscal_year\"] = dreams_mastersheet.date_entevyou.map(fiscalYear21)\n",
    "dreams_mastersheet[\"timeOn_system\"] = dreams_mastersheet.date_entevyou.map(validTimeOnSystem)\n",
    "dreams_mastersheet[\"months_now_dateEntevyou\"] = dreams_mastersheet.date_entevyou.map(between_now_date_entevyou)\n",
    "dreams_mastersheet[\"agyw_period_range\"] = dreams_mastersheet.months_now_dateEntevyou.map(agywPeriods)"
   ]
  },
  {
   "cell_type": "code",
   "execution_count": 17,
   "id": "dated-despite",
   "metadata": {},
   "outputs": [
    {
     "data": {
      "text/plain": [
       "array(['7-12 months', '13-24 months', '25+ months', '0-6 months'],\n",
       "      dtype=object)"
      ]
     },
     "execution_count": 17,
     "metadata": {},
     "output_type": "execute_result"
    }
   ],
   "source": [
    "#dreams_mastersheet.fiscal_year.unique()\n",
    "#dreams_mastersheet.timeOn_system.unique()\n",
    "#dreams_mastersheet.months_now_dateEntevyou.unique()\n",
    "dreams_mastersheet.agyw_period_range.unique()"
   ]
  },
  {
   "cell_type": "markdown",
   "id": "leading-filing",
   "metadata": {},
   "source": [
    "## Curriculum services aspect"
   ]
  },
  {
   "cell_type": "code",
   "execution_count": 18,
   "id": "constitutional-idaho",
   "metadata": {},
   "outputs": [
    {
     "data": {
      "text/plain": [
       "1588"
      ]
     },
     "execution_count": 18,
     "metadata": {},
     "output_type": "execute_result"
    }
   ],
   "source": [
    "dreams_mastersheet.number_of_different_topic.isna().sum()"
   ]
  },
  {
   "cell_type": "code",
   "execution_count": 19,
   "id": "polish-incidence",
   "metadata": {},
   "outputs": [],
   "source": [
    "dreams_mastersheet.number_of_different_topic = dreams_mastersheet.number_of_different_topic.fillna(-1000)\n",
    "dreams_mastersheet.number_of_different_topic = dreams_mastersheet.number_of_different_topic.astype(int16)"
   ]
  },
  {
   "cell_type": "code",
   "execution_count": 20,
   "id": "floral-little",
   "metadata": {},
   "outputs": [
    {
     "data": {
      "text/plain": [
       "array([-1000,    18,    10,    13,    17,    14,    15,     6,    16,\n",
       "          11,     3,     2,     7,     9,     8,     1,     4,    12,\n",
       "           5], dtype=int16)"
      ]
     },
     "execution_count": 20,
     "metadata": {},
     "output_type": "execute_result"
    }
   ],
   "source": [
    "dreams_mastersheet.number_of_different_topic.unique()"
   ]
  },
  {
   "cell_type": "code",
   "execution_count": 21,
   "id": "polished-duration",
   "metadata": {},
   "outputs": [],
   "source": [
    "def curriculum_atLeastOneService(topics):\n",
    "    return \"servis_auMoins_1fois\" if topics>=1 and topics<=18 else \"zero_services_curriculum\"\n",
    "\n",
    "\n",
    "def status_curriculum(topics):\n",
    "    if topics>=1 and topics<=13:\n",
    "        return \"curriculum incomplet\"\n",
    "    elif topics>=14 and topics<=18:\n",
    "        return \"curriculum complet\"\n",
    "    else:\n",
    "        return \"non-recu\"\n",
    "\n"
   ]
  },
  {
   "cell_type": "markdown",
   "id": "transsexual-mystery",
   "metadata": {},
   "source": [
    "### - Au moins un services du Curriculum"
   ]
  },
  {
   "cell_type": "code",
   "execution_count": 22,
   "id": "threatened-blind",
   "metadata": {},
   "outputs": [],
   "source": [
    "dreams_mastersheet['curriculum_servis_auMoins_1fois'] = dreams_mastersheet.number_of_different_topic.map(curriculum_atLeastOneService)"
   ]
  },
  {
   "cell_type": "code",
   "execution_count": 23,
   "id": "auburn-university",
   "metadata": {},
   "outputs": [
    {
     "data": {
      "text/plain": [
       "array(['zero_services_curriculum', 'servis_auMoins_1fois'], dtype=object)"
      ]
     },
     "execution_count": 23,
     "metadata": {},
     "output_type": "execute_result"
    }
   ],
   "source": [
    "dreams_mastersheet.curriculum_servis_auMoins_1fois.unique()"
   ]
  },
  {
   "cell_type": "markdown",
   "id": "incorporated-tomorrow",
   "metadata": {},
   "source": [
    "### - Curriculum Status"
   ]
  },
  {
   "cell_type": "code",
   "execution_count": 24,
   "id": "processed-lincoln",
   "metadata": {},
   "outputs": [],
   "source": [
    "dreams_mastersheet['curriculum'] = dreams_mastersheet.number_of_different_topic.map(status_curriculum)"
   ]
  },
  {
   "cell_type": "code",
   "execution_count": 25,
   "id": "polar-cuisine",
   "metadata": {},
   "outputs": [
    {
     "data": {
      "text/plain": [
       "array(['non-recu', 'curriculum complet', 'curriculum incomplet'],\n",
       "      dtype=object)"
      ]
     },
     "execution_count": 25,
     "metadata": {},
     "output_type": "execute_result"
    }
   ],
   "source": [
    "dreams_mastersheet.curriculum.unique()\n",
    "# complet est service primaire pour 10-14"
   ]
  },
  {
   "cell_type": "markdown",
   "id": "medical-medication",
   "metadata": {},
   "source": [
    "## hts, vbg, condoms, gyneco  services aspect"
   ]
  },
  {
   "cell_type": "code",
   "execution_count": 26,
   "id": "liquid-polyester",
   "metadata": {},
   "outputs": [],
   "source": [
    "def hcvg_valid_services(date):\n",
    "    if type(date) == type(pd.NaT):\n",
    "        return 'errata'\n",
    "    elif (type(date) != type(pd.NaT))and(date.year==2020 or date.year==2021):\n",
    "        return 'tested_on_given_date'\n",
    "    else:\n",
    "        return 'not_valid_date'"
   ]
  },
  {
   "cell_type": "code",
   "execution_count": 27,
   "id": "lightweight-chuck",
   "metadata": {},
   "outputs": [
    {
     "data": {
      "text/plain": [
       "8580"
      ]
     },
     "execution_count": 27,
     "metadata": {},
     "output_type": "execute_result"
    }
   ],
   "source": [
    "dreams_mastersheet.last_hiv_test_date.isna().sum()"
   ]
  },
  {
   "cell_type": "code",
   "execution_count": 28,
   "id": "cultural-thumbnail",
   "metadata": {},
   "outputs": [
    {
     "data": {
      "text/plain": [
       "8589"
      ]
     },
     "execution_count": 28,
     "metadata": {},
     "output_type": "execute_result"
    }
   ],
   "source": [
    "dreams_mastersheet.last_condoms_reception_date.isna().sum()"
   ]
  },
  {
   "cell_type": "code",
   "execution_count": 29,
   "id": "saving-component",
   "metadata": {},
   "outputs": [
    {
     "data": {
      "text/plain": [
       "8581"
      ]
     },
     "execution_count": 29,
     "metadata": {},
     "output_type": "execute_result"
    }
   ],
   "source": [
    "dreams_mastersheet.last_vbg_treatment_date.isna().sum()"
   ]
  },
  {
   "cell_type": "code",
   "execution_count": 30,
   "id": "dangerous-criticism",
   "metadata": {},
   "outputs": [
    {
     "data": {
      "text/plain": [
       "20664"
      ]
     },
     "execution_count": 30,
     "metadata": {},
     "output_type": "execute_result"
    }
   ],
   "source": [
    "dreams_mastersheet.last_gynecological_care_date.isna().sum()"
   ]
  },
  {
   "cell_type": "code",
   "execution_count": 31,
   "id": "diagnostic-branch",
   "metadata": {},
   "outputs": [],
   "source": [
    "dreams_mastersheet.last_hiv_test_date = dreams_mastersheet.last_hiv_test_date.fillna('0000-00-00')\n",
    "dreams_mastersheet[\"hts_date\"] = pd.to_datetime( dreams_mastersheet.last_hiv_test_date,errors='coerce')\n",
    "\n",
    "dreams_mastersheet.last_condoms_reception_date = dreams_mastersheet.last_condoms_reception_date.fillna('0000-00-00')\n",
    "dreams_mastersheet['condoms_date'] = pd.to_datetime(dreams_mastersheet.last_condoms_reception_date,errors='coerce')\n",
    "\n",
    "dreams_mastersheet.last_vbg_treatment_date = dreams_mastersheet.last_vbg_treatment_date.fillna('0000-00-00')\n",
    "dreams_mastersheet['vbg_date'] = pd.to_datetime(dreams_mastersheet.last_vbg_treatment_date,errors='coerce')\n",
    "\n",
    "dreams_mastersheet.last_gynecological_care_date = dreams_mastersheet.last_gynecological_care_date.fillna('0000-00-00')\n",
    "dreams_mastersheet['gyneco_date'] = pd.to_datetime(dreams_mastersheet.last_gynecological_care_date,errors='coerce')\n"
   ]
  },
  {
   "cell_type": "code",
   "execution_count": 32,
   "id": "based-bosnia",
   "metadata": {},
   "outputs": [
    {
     "data": {
      "text/plain": [
       "array([  nan, 2020., 2021.])"
      ]
     },
     "execution_count": 32,
     "metadata": {},
     "output_type": "execute_result"
    }
   ],
   "source": [
    "dreams_mastersheet.hts_date.dt.year.unique()"
   ]
  },
  {
   "cell_type": "code",
   "execution_count": 33,
   "id": "final-pattern",
   "metadata": {},
   "outputs": [
    {
     "data": {
      "text/plain": [
       "array([  nan, 2020., 2021.])"
      ]
     },
     "execution_count": 33,
     "metadata": {},
     "output_type": "execute_result"
    }
   ],
   "source": [
    "dreams_mastersheet.condoms_date.dt.year.unique()"
   ]
  },
  {
   "cell_type": "code",
   "execution_count": 34,
   "id": "demonstrated-nutrition",
   "metadata": {},
   "outputs": [
    {
     "data": {
      "text/plain": [
       "array([  nan, 2020.])"
      ]
     },
     "execution_count": 34,
     "metadata": {},
     "output_type": "execute_result"
    }
   ],
   "source": [
    "dreams_mastersheet.vbg_date.dt.year.unique()"
   ]
  },
  {
   "cell_type": "code",
   "execution_count": 35,
   "id": "green-innocent",
   "metadata": {},
   "outputs": [
    {
     "data": {
      "text/plain": [
       "array([  nan, 2020.])"
      ]
     },
     "execution_count": 35,
     "metadata": {},
     "output_type": "execute_result"
    }
   ],
   "source": [
    "dreams_mastersheet.gyneco_date.dt.year.unique()"
   ]
  },
  {
   "cell_type": "code",
   "execution_count": 36,
   "id": "expensive-fisher",
   "metadata": {},
   "outputs": [],
   "source": [
    "dreams_mastersheet['hts'] = dreams_mastersheet.hts_date.map(hcvg_valid_services)\n",
    "dreams_mastersheet['condoms'] = dreams_mastersheet.condoms_date.map(hcvg_valid_services)\n",
    "dreams_mastersheet['vbg'] = dreams_mastersheet.vbg_date.map(hcvg_valid_services)\n",
    "dreams_mastersheet['gyneco'] = dreams_mastersheet.gyneco_date.map(hcvg_valid_services)"
   ]
  },
  {
   "cell_type": "code",
   "execution_count": 37,
   "id": "selective-diamond",
   "metadata": {},
   "outputs": [
    {
     "data": {
      "text/plain": [
       "array(['errata', 'tested_on_given_date'], dtype=object)"
      ]
     },
     "execution_count": 37,
     "metadata": {},
     "output_type": "execute_result"
    }
   ],
   "source": [
    "dreams_mastersheet.hts.unique()"
   ]
  },
  {
   "cell_type": "code",
   "execution_count": 38,
   "id": "increasing-danger",
   "metadata": {},
   "outputs": [
    {
     "data": {
      "text/plain": [
       "array(['errata', 'tested_on_given_date'], dtype=object)"
      ]
     },
     "execution_count": 38,
     "metadata": {},
     "output_type": "execute_result"
    }
   ],
   "source": [
    "dreams_mastersheet.condoms.unique()"
   ]
  },
  {
   "cell_type": "code",
   "execution_count": 39,
   "id": "bearing-rubber",
   "metadata": {},
   "outputs": [
    {
     "data": {
      "text/plain": [
       "array(['errata', 'tested_on_given_date'], dtype=object)"
      ]
     },
     "execution_count": 39,
     "metadata": {},
     "output_type": "execute_result"
    }
   ],
   "source": [
    "dreams_mastersheet.vbg.unique()"
   ]
  },
  {
   "cell_type": "code",
   "execution_count": 40,
   "id": "representative-broadcast",
   "metadata": {},
   "outputs": [
    {
     "data": {
      "text/plain": [
       "array(['errata', 'tested_on_given_date'], dtype=object)"
      ]
     },
     "execution_count": 40,
     "metadata": {},
     "output_type": "execute_result"
    }
   ],
   "source": [
    "dreams_mastersheet.gyneco.unique()"
   ]
  },
  {
   "cell_type": "markdown",
   "id": "olive-fitness",
   "metadata": {},
   "source": [
    "## Post Care aspect"
   ]
  },
  {
   "cell_type": "code",
   "execution_count": 41,
   "id": "arctic-playlist",
   "metadata": {},
   "outputs": [],
   "source": [
    "def post_care_app(df):\n",
    "    return 'service_gyneco_vbg' if (df.vbg==\"tested_on_given_date\") or (df.gyneco=='tested_on_given_date') else 'no'"
   ]
  },
  {
   "cell_type": "code",
   "execution_count": 42,
   "id": "comfortable-helping",
   "metadata": {},
   "outputs": [],
   "source": [
    "dreams_mastersheet['post_care_treatment'] = dreams_mastersheet.apply(lambda df: post_care_app(df),axis=1)"
   ]
  },
  {
   "cell_type": "code",
   "execution_count": 43,
   "id": "foreign-range",
   "metadata": {},
   "outputs": [
    {
     "data": {
      "text/plain": [
       "array(['no', 'service_gyneco_vbg'], dtype=object)"
      ]
     },
     "execution_count": 43,
     "metadata": {},
     "output_type": "execute_result"
    }
   ],
   "source": [
    "dreams_mastersheet.post_care_treatment.unique()"
   ]
  },
  {
   "cell_type": "markdown",
   "id": "interesting-version",
   "metadata": {},
   "source": [
    "## Muso Gardening =  socio eco approach Aspect"
   ]
  },
  {
   "cell_type": "code",
   "execution_count": 44,
   "id": "excellent-canyon",
   "metadata": {},
   "outputs": [
    {
     "data": {
      "text/plain": [
       "0"
      ]
     },
     "execution_count": 44,
     "metadata": {},
     "output_type": "execute_result"
    }
   ],
   "source": [
    "dreams_mastersheet.is_muso.isna().sum()"
   ]
  },
  {
   "cell_type": "code",
   "execution_count": 45,
   "id": "verified-capability",
   "metadata": {},
   "outputs": [
    {
     "data": {
      "text/plain": [
       "0"
      ]
     },
     "execution_count": 45,
     "metadata": {},
     "output_type": "execute_result"
    }
   ],
   "source": [
    "dreams_mastersheet.is_gardening.isna().sum()"
   ]
  },
  {
   "cell_type": "code",
   "execution_count": 46,
   "id": "systematic-plain",
   "metadata": {},
   "outputs": [
    {
     "data": {
      "text/plain": [
       "array(['no', 'yes'], dtype=object)"
      ]
     },
     "execution_count": 46,
     "metadata": {},
     "output_type": "execute_result"
    }
   ],
   "source": [
    "dreams_mastersheet.is_muso.unique()"
   ]
  },
  {
   "cell_type": "code",
   "execution_count": 47,
   "id": "dated-ocean",
   "metadata": {},
   "outputs": [
    {
     "data": {
      "text/plain": [
       "array(['no', 'yes'], dtype=object)"
      ]
     },
     "execution_count": 47,
     "metadata": {},
     "output_type": "execute_result"
    }
   ],
   "source": [
    "dreams_mastersheet.is_gardening.unique()"
   ]
  },
  {
   "cell_type": "code",
   "execution_count": 48,
   "id": "suburban-effectiveness",
   "metadata": {},
   "outputs": [],
   "source": [
    "def socioEco_app(df):\n",
    "    return 'service_muso_gardening' if (df.is_muso=='yes') or (df.is_gardening=='yes') else 'no'"
   ]
  },
  {
   "cell_type": "code",
   "execution_count": 49,
   "id": "thousand-spirit",
   "metadata": {},
   "outputs": [],
   "source": [
    "dreams_mastersheet['socio_eco_app'] = dreams_mastersheet.apply(lambda df: socioEco_app(df),axis=1)"
   ]
  },
  {
   "cell_type": "code",
   "execution_count": 50,
   "id": "native-rhythm",
   "metadata": {},
   "outputs": [
    {
     "data": {
      "text/plain": [
       "array(['no', 'service_muso_gardening'], dtype=object)"
      ]
     },
     "execution_count": 50,
     "metadata": {},
     "output_type": "execute_result"
    }
   ],
   "source": [
    "dreams_mastersheet.socio_eco_app.unique()"
   ]
  },
  {
   "cell_type": "markdown",
   "id": "imported-tribute",
   "metadata": {},
   "source": [
    "## Au moins un service recu Aspect"
   ]
  },
  {
   "cell_type": "code",
   "execution_count": 51,
   "id": "apparent-heritage",
   "metadata": {},
   "outputs": [],
   "source": [
    "def unServiceDreams(df):\n",
    "     return '1_services_dreams_recus' if (df.curriculum_servis_auMoins_1fois == \"servis_auMoins_1fois\") or (df.condoms=='tested_on_given_date') or (df.hts=='tested_on_given_date') or (df.post_care_treatment==\"service_gyneco_vbg\") or (df.socio_eco_app==\"service_muso_gardening\") else 'no'"
   ]
  },
  {
   "cell_type": "code",
   "execution_count": 52,
   "id": "centered-cancer",
   "metadata": {},
   "outputs": [],
   "source": [
    "dreams_mastersheet['recevoir_1services'] = dreams_mastersheet.apply(lambda df: unServiceDreams(df),axis=1)"
   ]
  },
  {
   "cell_type": "code",
   "execution_count": 53,
   "id": "bearing-tribune",
   "metadata": {},
   "outputs": [
    {
     "data": {
      "text/plain": [
       "array(['no', '1_services_dreams_recus'], dtype=object)"
      ]
     },
     "execution_count": 53,
     "metadata": {},
     "output_type": "execute_result"
    }
   ],
   "source": [
    "dreams_mastersheet.recevoir_1services.unique()"
   ]
  },
  {
   "cell_type": "markdown",
   "id": "expired-library",
   "metadata": {},
   "source": [
    "## Les Services Primaires"
   ]
  },
  {
   "cell_type": "code",
   "execution_count": 54,
   "id": "political-jurisdiction",
   "metadata": {},
   "outputs": [],
   "source": [
    "def service_primaire_10_14(df):\n",
    "    return 'curriculum-servis' if df.curriculum==\"curriculum complet\" else \"incompletcomplet|non-recu\"\n",
    "\n",
    "def service_primaire_15_19(df):\n",
    "    return 'condoms&curriculum' if (df.curriculum==\"curriculum complet\") and (df.condoms=='tested_on_given_date') else 'no'\n",
    "\n",
    "def service_primaire_20_24(df):\n",
    "    return 'condoms&hts&curriculum' if (df.curriculum==\"curriculum complet\") and (df.condoms=='tested_on_given_date') and (df.hts=='tested_on_given_date') else 'no'"
   ]
  },
  {
   "cell_type": "code",
   "execution_count": 55,
   "id": "supreme-statement",
   "metadata": {},
   "outputs": [],
   "source": [
    "dreams_mastersheet['ps_10_14'] = dreams_mastersheet.apply(lambda df: service_primaire_10_14(df),axis=1)\n",
    "dreams_mastersheet['ps_15_19'] = dreams_mastersheet.apply(lambda df: service_primaire_15_19(df), axis=1)\n",
    "dreams_mastersheet['ps_20_24'] = dreams_mastersheet.apply(lambda df: service_primaire_20_24(df), axis=1)"
   ]
  },
  {
   "cell_type": "code",
   "execution_count": 56,
   "id": "honest-terminal",
   "metadata": {},
   "outputs": [
    {
     "data": {
      "text/plain": [
       "array(['incompletcomplet|non-recu', 'curriculum-servis'], dtype=object)"
      ]
     },
     "execution_count": 56,
     "metadata": {},
     "output_type": "execute_result"
    }
   ],
   "source": [
    "dreams_mastersheet.ps_10_14.unique()"
   ]
  },
  {
   "cell_type": "code",
   "execution_count": 57,
   "id": "german-union",
   "metadata": {},
   "outputs": [
    {
     "data": {
      "text/plain": [
       "array(['no', 'condoms&curriculum'], dtype=object)"
      ]
     },
     "execution_count": 57,
     "metadata": {},
     "output_type": "execute_result"
    }
   ],
   "source": [
    "dreams_mastersheet.ps_15_19.unique()"
   ]
  },
  {
   "cell_type": "code",
   "execution_count": 58,
   "id": "still-appeal",
   "metadata": {},
   "outputs": [
    {
     "data": {
      "text/plain": [
       "array(['no', 'condoms&hts&curriculum'], dtype=object)"
      ]
     },
     "execution_count": 58,
     "metadata": {},
     "output_type": "execute_result"
    }
   ],
   "source": [
    "dreams_mastersheet.ps_20_24.unique()"
   ]
  },
  {
   "cell_type": "markdown",
   "id": "latter-possible",
   "metadata": {},
   "source": [
    "## Screening"
   ]
  },
  {
   "cell_type": "code",
   "execution_count": 59,
   "id": "exposed-timber",
   "metadata": {},
   "outputs": [
    {
     "data": {
      "text/plain": [
       "array([30, 27, 46, 34, 24, 45, 50, 20, 39, 42, 22, 10, 19, 47, 52, 15, 21,\n",
       "       35, 54, 25, 29, 36, 56, 40, 53, 37, 32, 26, 14, 18, 49, 38, 43, 28,\n",
       "       16, 17, 31, 23, 65, 41, 62, 33,  9, 57, 55,  3, 44, 48, 68, 51,  5,\n",
       "       58, 63, 72, 66, 67, 74, 61, 60, 70, 64, 59, 12, 13, 75, 71, 69, 81,\n",
       "       86, 73, 77, 83, 78, 80, 84], dtype=int64)"
      ]
     },
     "execution_count": 59,
     "metadata": {},
     "output_type": "execute_result"
    }
   ],
   "source": [
    "dreams_mastersheet.total.unique()"
   ]
  },
  {
   "cell_type": "code",
   "execution_count": 60,
   "id": "conscious-crown",
   "metadata": {},
   "outputs": [],
   "source": [
    "def isAGYW(total):\n",
    "    return 'eligible' if total>=14 else 'no_eligible'"
   ]
  },
  {
   "cell_type": "code",
   "execution_count": 61,
   "id": "marine-access",
   "metadata": {},
   "outputs": [],
   "source": [
    "dreams_mastersheet['score_eligible_AGYW'] = dreams_mastersheet.total.map(isAGYW)"
   ]
  },
  {
   "cell_type": "code",
   "execution_count": 62,
   "id": "expected-toyota",
   "metadata": {},
   "outputs": [
    {
     "data": {
      "text/plain": [
       "array(['eligible', 'no_eligible'], dtype=object)"
      ]
     },
     "execution_count": 62,
     "metadata": {},
     "output_type": "execute_result"
    }
   ],
   "source": [
    "dreams_mastersheet.score_eligible_AGYW.unique()"
   ]
  },
  {
   "cell_type": "markdown",
   "id": "grateful-kansas",
   "metadata": {},
   "source": [
    "## GET the complete EXCEL workbook"
   ]
  },
  {
   "cell_type": "code",
   "execution_count": 63,
   "id": "macro-opportunity",
   "metadata": {},
   "outputs": [],
   "source": [
    "dreams_mastersheet.to_excel('./LayeringOF_services.xlsx',index=False,na_rep=\"NULL\")"
   ]
  },
  {
   "cell_type": "markdown",
   "id": "danish-latex",
   "metadata": {},
   "source": [
    "---"
   ]
  },
  {
   "cell_type": "code",
   "execution_count": null,
   "id": "returning-hammer",
   "metadata": {},
   "outputs": [],
   "source": []
  }
 ],
 "metadata": {
  "kernelspec": {
   "display_name": "Python 3",
   "language": "python",
   "name": "python3"
  },
  "language_info": {
   "codemirror_mode": {
    "name": "ipython",
    "version": 3
   },
   "file_extension": ".py",
   "mimetype": "text/x-python",
   "name": "python",
   "nbconvert_exporter": "python",
   "pygments_lexer": "ipython3",
   "version": "3.9.2"
  }
 },
 "nbformat": 4,
 "nbformat_minor": 5
}
