{
 "cells": [
  {
   "cell_type": "code",
   "execution_count": null,
   "metadata": {},
   "outputs": [],
   "source": [
    "%run \"../layeringOfServices.ipynb\"\r\n",
    "#multiples outputs\r\n",
    "from IPython.core.interactiveshell import InteractiveShell\r\n",
    "InteractiveShell.ast_node_interactivity = \"all\""
   ]
  },
  {
   "cell_type": "code",
   "execution_count": 19,
   "metadata": {},
   "outputs": [],
   "source": [
    "capschool1014 = pd.read_excel(\"./Soumission/beneficiairesDREAMSpourCap-Haitienschooling2020-2021.xlsx\",sheet_name=\"10-14\")\r\n",
    "capschool1518 = pd.read_excel(\"./Soumission/beneficiairesDREAMSpourCap-Haitienschooling2020-2021.xlsx\",sheet_name=\"15-18\")\r\n",
    "gonaschool1014 = pd.read_excel(\"./Soumission/beneficiairesDREAMSpourGonaivesschooling2020-2021.xlsx\",sheet_name=\"10-14\")\r\n",
    "gonaschool1518 = pd.read_excel(\"./Soumission/beneficiairesDREAMSpourGonaivesschooling2020-2021.xlsx\",sheet_name=\"15-18\")\r\n",
    "papschool1014 = pd.read_excel(\"./Soumission/beneficiairesDREAMSpourPort-au-Princesupportscolaire.xlsx\",sheet_name=\"10-14\")\r\n",
    "papschool1518 = pd.read_excel(\"./Soumission/beneficiairesDREAMSpourPort-au-Princesupportscolaire.xlsx\",sheet_name=\"15-18\")"
   ]
  },
  {
   "cell_type": "code",
   "execution_count": 8,
   "metadata": {},
   "outputs": [],
   "source": [
    "dreams_mastersheet.b6_ki_klas_w_ap_f = dreams_mastersheet.b6_ki_klas_w_ap_f.fillna(\"null\")"
   ]
  },
  {
   "cell_type": "code",
   "execution_count": 9,
   "metadata": {},
   "outputs": [
    {
     "data": {
      "text/plain": [
       "array(['null', 'Rheto', 'ns3', ..., ',3eme', '6em Annee Fondamental',\n",
       "       'University'], dtype=object)"
      ]
     },
     "execution_count": 9,
     "metadata": {},
     "output_type": "execute_result"
    }
   ],
   "source": [
    "dreams_mastersheet.b6_ki_klas_w_ap_f.unique()"
   ]
  },
  {
   "cell_type": "code",
   "execution_count": 12,
   "metadata": {},
   "outputs": [],
   "source": [
    "df = dreams_mastersheet[[\"code\",\"b6_ki_klas_w_ap_f\"]]"
   ]
  },
  {
   "cell_type": "code",
   "execution_count": 27,
   "metadata": {},
   "outputs": [],
   "source": [
    "%%capture\r\n",
    "df.rename(columns={\"code\":\"dreams_code\",\"b6_ki_klas_w_ap_f\":\"annee_scolaire\"},inplace=True)"
   ]
  },
  {
   "cell_type": "markdown",
   "metadata": {},
   "source": [
    "## schooling"
   ]
  },
  {
   "cell_type": "code",
   "execution_count": 28,
   "metadata": {},
   "outputs": [
    {
     "data": {
      "text/plain": [
       "25225"
      ]
     },
     "execution_count": 28,
     "metadata": {},
     "output_type": "execute_result"
    },
    {
     "data": {
      "text/plain": [
       "131"
      ]
     },
     "execution_count": 28,
     "metadata": {},
     "output_type": "execute_result"
    },
    {
     "data": {
      "text/plain": [
       "112"
      ]
     },
     "execution_count": 28,
     "metadata": {},
     "output_type": "execute_result"
    },
    {
     "data": {
      "text/plain": [
       "426"
      ]
     },
     "execution_count": 28,
     "metadata": {},
     "output_type": "execute_result"
    },
    {
     "data": {
      "text/plain": [
       "524"
      ]
     },
     "execution_count": 28,
     "metadata": {},
     "output_type": "execute_result"
    },
    {
     "data": {
      "text/plain": [
       "863"
      ]
     },
     "execution_count": 28,
     "metadata": {},
     "output_type": "execute_result"
    },
    {
     "data": {
      "text/plain": [
       "511"
      ]
     },
     "execution_count": 28,
     "metadata": {},
     "output_type": "execute_result"
    }
   ],
   "source": [
    "df.dreams_code.count()\r\n",
    "\r\n",
    "capschool1014.dreams_code.count()\r\n",
    "capschool1518.dreams_code.count()\r\n",
    "\r\n",
    "gonaschool1014.dreams_code.count()\r\n",
    "gonaschool1518.dreams_code.count()\r\n",
    "\r\n",
    "papschool1014.dreams_code.count()\r\n",
    "papschool1518.dreams_code.count()"
   ]
  },
  {
   "cell_type": "code",
   "execution_count": 29,
   "metadata": {},
   "outputs": [],
   "source": [
    "class_cap1014 = df.merge(capschool1014,on=\"dreams_code\",how=\"inner\")\r\n",
    "class_cap1518 = df.merge(capschool1518,on=\"dreams_code\",how=\"inner\")\r\n",
    "\r\n",
    "class_gona1014 = df.merge(gonaschool1014,on=\"dreams_code\",how=\"inner\")\r\n",
    "class_gona1518 = df.merge(gonaschool1518,on=\"dreams_code\",how=\"inner\")\r\n",
    "\r\n",
    "class_pap1014 = df.merge(papschool1014,on=\"dreams_code\",how=\"inner\")\r\n",
    "class_pap1518 = df.merge(papschool1518,on=\"dreams_code\",how=\"inner\")"
   ]
  },
  {
   "cell_type": "code",
   "execution_count": 30,
   "metadata": {},
   "outputs": [
    {
     "data": {
      "text/plain": [
       "131"
      ]
     },
     "execution_count": 30,
     "metadata": {},
     "output_type": "execute_result"
    },
    {
     "data": {
      "text/plain": [
       "112"
      ]
     },
     "execution_count": 30,
     "metadata": {},
     "output_type": "execute_result"
    },
    {
     "data": {
      "text/plain": [
       "426"
      ]
     },
     "execution_count": 30,
     "metadata": {},
     "output_type": "execute_result"
    },
    {
     "data": {
      "text/plain": [
       "524"
      ]
     },
     "execution_count": 30,
     "metadata": {},
     "output_type": "execute_result"
    },
    {
     "data": {
      "text/plain": [
       "863"
      ]
     },
     "execution_count": 30,
     "metadata": {},
     "output_type": "execute_result"
    },
    {
     "data": {
      "text/plain": [
       "511"
      ]
     },
     "execution_count": 30,
     "metadata": {},
     "output_type": "execute_result"
    }
   ],
   "source": [
    "class_cap1014.dreams_code.count()\r\n",
    "class_cap1518.dreams_code.count()\r\n",
    "\r\n",
    "class_gona1014.dreams_code.count()\r\n",
    "class_gona1518.dreams_code.count()\r\n",
    "\r\n",
    "class_pap1014.dreams_code.count()\r\n",
    "class_pap1518.dreams_code.count()"
   ]
  },
  {
   "cell_type": "code",
   "execution_count": 31,
   "metadata": {},
   "outputs": [],
   "source": [
    "all_class = pd.ExcelWriter(\"all_class.xlsx\",engine=\"xlsxwriter\")\r\n",
    "class_cap1014.to_excel(all_class,index=False,na_rep=\"NULL\",sheet_name=\"cap1014\")\r\n",
    "class_cap1518.to_excel(all_class,index=False,na_rep=\"NULL\",sheet_name=\"cap1518\")\r\n",
    "\r\n",
    "class_gona1014.to_excel(all_class,index=False,na_rep=\"NULL\",sheet_name=\"gona1014\")\r\n",
    "class_gona1518.to_excel(all_class,index=False,na_rep=\"NULL\",sheet_name=\"gona1518\")\r\n",
    "\r\n",
    "class_pap1014.to_excel(all_class,index=False,na_rep=\"NULL\",sheet_name=\"pap1014\")\r\n",
    "class_pap1518.to_excel(all_class,index=False,na_rep=\"NULL\",sheet_name=\"pap1518\")\r\n",
    "all_class.save()"
   ]
  },
  {
   "cell_type": "code",
   "execution_count": null,
   "metadata": {},
   "outputs": [],
   "source": []
  }
 ],
 "metadata": {
  "interpreter": {
   "hash": "4534460e0bdca1b390927d45471088fb3501d39abc4e3f2cee293892e17d7fc6"
  },
  "kernelspec": {
   "display_name": "Python 3.9.2 64-bit",
   "name": "python3"
  },
  "language_info": {
   "codemirror_mode": {
    "name": "ipython",
    "version": 3
   },
   "file_extension": ".py",
   "mimetype": "text/x-python",
   "name": "python",
   "nbconvert_exporter": "python",
   "pygments_lexer": "ipython3",
   "version": "3.9.2"
  },
  "orig_nbformat": 4
 },
 "nbformat": 4,
 "nbformat_minor": 2
}