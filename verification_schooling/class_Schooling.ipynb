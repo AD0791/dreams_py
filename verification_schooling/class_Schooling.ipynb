{
 "cells": [
  {
   "cell_type": "code",
   "execution_count": 2,
   "source": [
    "%run \"../LOS.ipynb\"\r\n",
    "#multiples outputs\r\n",
    "from IPython.core.interactiveshell import InteractiveShell\r\n",
    "InteractiveShell.ast_node_interactivity = \"all\""
   ],
   "outputs": [],
   "metadata": {}
  },
  {
   "cell_type": "code",
   "execution_count": 3,
   "source": [
    "capschool1014 = pd.read_excel(\"./Soumission/beneficiairesDREAMSpourCap-Haitienschooling2020-2021.xlsx\",sheet_name=\"10-14\")\r\n",
    "capschool1518 = pd.read_excel(\"./Soumission/beneficiairesDREAMSpourCap-Haitienschooling2020-2021.xlsx\",sheet_name=\"15-18\")\r\n",
    "gonaschool1014 = pd.read_excel(\"./Soumission/beneficiairesDREAMSpourGonaivesschooling2020-2021.xlsx\",sheet_name=\"10-14\")\r\n",
    "gonaschool1518 = pd.read_excel(\"./Soumission/beneficiairesDREAMSpourGonaivesschooling2020-2021.xlsx\",sheet_name=\"15-18\")\r\n",
    "papschool1014 = pd.read_excel(\"./Soumission/beneficiairesDREAMSpourPort-au-Princesupportscolaire.xlsx\",sheet_name=\"10-14\")\r\n",
    "papschool1518 = pd.read_excel(\"./Soumission/beneficiairesDREAMSpourPort-au-Princesupportscolaire.xlsx\",sheet_name=\"15-18\")"
   ],
   "outputs": [],
   "metadata": {}
  },
  {
   "cell_type": "code",
   "execution_count": 6,
   "source": [
    "dreams_mastersheet.b6_ki_klas_w_ap_f = dreams_mastersheet.b6_ki_klas_w_ap_f.fillna(\"null\")\r\n",
    "dreams_mastersheet.a_ske_ou_lekl = dreams_mastersheet.a_ske_ou_lekl.fillna(\"null\")\r\n",
    "dreams_mastersheet.tranche_age_6a_15_19 = dreams_mastersheet.tranche_age_6a_15_19.fillna(\"null\")"
   ],
   "outputs": [],
   "metadata": {}
  },
  {
   "cell_type": "code",
   "execution_count": 7,
   "source": [
    "dreams_mastersheet.b6_ki_klas_w_ap_f.unique()\r\n",
    "dreams_mastersheet.a_ske_ou_lekl.unique()\r\n",
    "dreams_mastersheet.tranche_age_6a_15_19.unique()"
   ],
   "outputs": [
    {
     "output_type": "execute_result",
     "data": {
      "text/plain": [
       "array(['null', 'Rheto', 'ns3', ..., ',3eme', '6em Annee Fondamental',\n",
       "       'University'], dtype=object)"
      ]
     },
     "metadata": {},
     "execution_count": 7
    },
    {
     "output_type": "execute_result",
     "data": {
      "text/plain": [
       "array(['null', 0.0, 6.0], dtype=object)"
      ]
     },
     "metadata": {},
     "execution_count": 7
    },
    {
     "output_type": "execute_result",
     "data": {
      "text/plain": [
       "array([3.0, 0.0, 'null'], dtype=object)"
      ]
     },
     "metadata": {},
     "execution_count": 7
    }
   ],
   "metadata": {}
  },
  {
   "cell_type": "code",
   "execution_count": 8,
   "source": [
    "df = dreams_mastersheet[[\"code\",\"b6_ki_klas_w_ap_f\",\"a_ske_ou_lekl\",\"tranche_age_6a_15_19\"]]"
   ],
   "outputs": [],
   "metadata": {}
  },
  {
   "cell_type": "code",
   "execution_count": 9,
   "source": [
    "%%capture\r\n",
    "df.rename(columns={\"code\":\"dreams_code\",\r\n",
    "                   \"b6_ki_klas_w_ap_f\":\"annee_scolaire\",\r\n",
    "                   \"a_ske_ou_lekl\":\"etre_a_lecole_1014\",\r\n",
    "                   \"tranche_age_6a_15_19\": \"etre_a_lecole_1524\"\r\n",
    "                   },inplace=True)"
   ],
   "outputs": [],
   "metadata": {}
  },
  {
   "cell_type": "markdown",
   "source": [
    "## schooling"
   ],
   "metadata": {}
  },
  {
   "cell_type": "code",
   "execution_count": 10,
   "source": [
    "df.dreams_code.count()\r\n",
    "\r\n",
    "capschool1014.dreams_code.count()\r\n",
    "capschool1518.dreams_code.count()\r\n",
    "\r\n",
    "gonaschool1014.dreams_code.count()\r\n",
    "gonaschool1518.dreams_code.count()\r\n",
    "\r\n",
    "papschool1014.dreams_code.count()\r\n",
    "papschool1518.dreams_code.count()"
   ],
   "outputs": [
    {
     "output_type": "execute_result",
     "data": {
      "text/plain": [
       "25291"
      ]
     },
     "metadata": {},
     "execution_count": 10
    },
    {
     "output_type": "execute_result",
     "data": {
      "text/plain": [
       "131"
      ]
     },
     "metadata": {},
     "execution_count": 10
    },
    {
     "output_type": "execute_result",
     "data": {
      "text/plain": [
       "112"
      ]
     },
     "metadata": {},
     "execution_count": 10
    },
    {
     "output_type": "execute_result",
     "data": {
      "text/plain": [
       "426"
      ]
     },
     "metadata": {},
     "execution_count": 10
    },
    {
     "output_type": "execute_result",
     "data": {
      "text/plain": [
       "524"
      ]
     },
     "metadata": {},
     "execution_count": 10
    },
    {
     "output_type": "execute_result",
     "data": {
      "text/plain": [
       "863"
      ]
     },
     "metadata": {},
     "execution_count": 10
    },
    {
     "output_type": "execute_result",
     "data": {
      "text/plain": [
       "511"
      ]
     },
     "metadata": {},
     "execution_count": 10
    }
   ],
   "metadata": {}
  },
  {
   "cell_type": "code",
   "execution_count": 11,
   "source": [
    "class_cap1014 = df.merge(capschool1014,on=\"dreams_code\",how=\"inner\")\r\n",
    "class_cap1518 = df.merge(capschool1518,on=\"dreams_code\",how=\"inner\")\r\n",
    "\r\n",
    "class_gona1014 = df.merge(gonaschool1014,on=\"dreams_code\",how=\"inner\")\r\n",
    "class_gona1518 = df.merge(gonaschool1518,on=\"dreams_code\",how=\"inner\")\r\n",
    "\r\n",
    "class_pap1014 = df.merge(papschool1014,on=\"dreams_code\",how=\"inner\")\r\n",
    "class_pap1518 = df.merge(papschool1518,on=\"dreams_code\",how=\"inner\")"
   ],
   "outputs": [],
   "metadata": {}
  },
  {
   "cell_type": "code",
   "execution_count": 12,
   "source": [
    "class_cap1014.dreams_code.count()\r\n",
    "class_cap1518.dreams_code.count()\r\n",
    "\r\n",
    "class_gona1014.dreams_code.count()\r\n",
    "class_gona1518.dreams_code.count()\r\n",
    "\r\n",
    "class_pap1014.dreams_code.count()\r\n",
    "class_pap1518.dreams_code.count()"
   ],
   "outputs": [
    {
     "output_type": "execute_result",
     "data": {
      "text/plain": [
       "131"
      ]
     },
     "metadata": {},
     "execution_count": 12
    },
    {
     "output_type": "execute_result",
     "data": {
      "text/plain": [
       "112"
      ]
     },
     "metadata": {},
     "execution_count": 12
    },
    {
     "output_type": "execute_result",
     "data": {
      "text/plain": [
       "426"
      ]
     },
     "metadata": {},
     "execution_count": 12
    },
    {
     "output_type": "execute_result",
     "data": {
      "text/plain": [
       "524"
      ]
     },
     "metadata": {},
     "execution_count": 12
    },
    {
     "output_type": "execute_result",
     "data": {
      "text/plain": [
       "863"
      ]
     },
     "metadata": {},
     "execution_count": 12
    },
    {
     "output_type": "execute_result",
     "data": {
      "text/plain": [
       "511"
      ]
     },
     "metadata": {},
     "execution_count": 12
    }
   ],
   "metadata": {}
  },
  {
   "cell_type": "code",
   "execution_count": 13,
   "source": [
    "all_class = pd.ExcelWriter(\"all_class.xlsx\",engine=\"xlsxwriter\")\r\n",
    "class_cap1014.to_excel(all_class,index=False,na_rep=\"NULL\",sheet_name=\"cap1014\")\r\n",
    "class_cap1518.to_excel(all_class,index=False,na_rep=\"NULL\",sheet_name=\"cap1518\")\r\n",
    "\r\n",
    "class_gona1014.to_excel(all_class,index=False,na_rep=\"NULL\",sheet_name=\"gona1014\")\r\n",
    "class_gona1518.to_excel(all_class,index=False,na_rep=\"NULL\",sheet_name=\"gona1518\")\r\n",
    "\r\n",
    "class_pap1014.to_excel(all_class,index=False,na_rep=\"NULL\",sheet_name=\"pap1014\")\r\n",
    "class_pap1518.to_excel(all_class,index=False,na_rep=\"NULL\",sheet_name=\"pap1518\")\r\n",
    "all_class.save()"
   ],
   "outputs": [],
   "metadata": {}
  },
  {
   "cell_type": "code",
   "execution_count": null,
   "source": [],
   "outputs": [],
   "metadata": {}
  }
 ],
 "metadata": {
  "interpreter": {
   "hash": "4534460e0bdca1b390927d45471088fb3501d39abc4e3f2cee293892e17d7fc6"
  },
  "kernelspec": {
   "display_name": "Python 3.9.2 64-bit",
   "name": "python3"
  },
  "language_info": {
   "codemirror_mode": {
    "name": "ipython",
    "version": 3
   },
   "file_extension": ".py",
   "mimetype": "text/x-python",
   "name": "python",
   "nbconvert_exporter": "python",
   "pygments_lexer": "ipython3",
   "version": "3.9.2"
  },
  "orig_nbformat": 4
 },
 "nbformat": 4,
 "nbformat_minor": 2
}