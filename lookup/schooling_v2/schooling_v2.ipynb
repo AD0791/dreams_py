{
 "cells": [
  {
   "cell_type": "code",
   "execution_count": 1,
   "metadata": {},
   "outputs": [],
   "source": [
    "from pandas import DataFrame,  read_excel, merge\n",
    "from datetime import datetime\n",
    "from IPython.core.interactiveshell import InteractiveShell\n",
    "\n",
    "from schoolingv2 import sdata, KAP\n",
    "\n",
    "InteractiveShell.ast_node_interactivity = \"all\""
   ]
  },
  {
   "cell_type": "code",
   "execution_count": 3,
   "metadata": {},
   "outputs": [
    {
     "data": {
      "text/plain": [
       "30977"
      ]
     },
     "execution_count": 3,
     "metadata": {},
     "output_type": "execute_result"
    },
    {
     "data": {
      "text/plain": [
       "69702"
      ]
     },
     "execution_count": 3,
     "metadata": {},
     "output_type": "execute_result"
    }
   ],
   "source": [
    "KAP.case_id.count()\n",
    "sdata.case_id.count()"
   ]
  },
  {
   "cell_type": "markdown",
   "metadata": {},
   "source": [
    "# How many on the systeme?"
   ]
  },
  {
   "cell_type": "code",
   "execution_count": 4,
   "metadata": {},
   "outputs": [
    {
     "data": {
      "text/plain": [
       "68"
      ]
     },
     "execution_count": 4,
     "metadata": {},
     "output_type": "execute_result"
    }
   ],
   "source": [
    "the68 = read_excel(\"Dreams_Schooling_non_retrouves_68.xlsx\")\n",
    "the68.find.count()\n",
    "the68.fillna('---',inplace=True)"
   ]
  },
  {
   "cell_type": "code",
   "execution_count": 5,
   "metadata": {},
   "outputs": [
    {
     "data": {
      "text/plain": [
       "50"
      ]
     },
     "execution_count": 5,
     "metadata": {},
     "output_type": "execute_result"
    },
    {
     "data": {
      "text/plain": [
       "18"
      ]
     },
     "execution_count": 5,
     "metadata": {},
     "output_type": "execute_result"
    }
   ],
   "source": [
    "ontheSysteme = the68[the68.case_id!=\"---\"]\n",
    "notOntheSysteme = the68[the68.case_id==\"---\"]\n",
    "\n",
    "ontheSysteme.case_id.count()\n",
    "notOntheSysteme.find.count()"
   ]
  },
  {
   "cell_type": "markdown",
   "metadata": {},
   "source": [
    "# How many in parenting Groups?\n",
    "---\n",
    "1. id on sdata => id_parenting_group exist\n",
    "2. id on the KAP eligible \n"
   ]
  },
  {
   "cell_type": "code",
   "execution_count": 8,
   "metadata": {},
   "outputs": [
    {
     "data": {
      "text/plain": [
       "50"
      ]
     },
     "execution_count": 8,
     "metadata": {},
     "output_type": "execute_result"
    }
   ],
   "source": [
    "ots_id = sdata[sdata.case_id.isin(ontheSysteme.case_id)]\n",
    "ots_id.case_id.count()\n"
   ]
  },
  {
   "cell_type": "code",
   "execution_count": 6,
   "metadata": {},
   "outputs": [
    {
     "data": {
      "text/plain": [
       "\" check_ots_id = ots_id[['case_id']]\\ncheck_ots = ontheSysteme[['case_id']]\\ncheckglobal = merge(check_ots,check_ots_id,suffixes=('','_y'),indicator=True)\\ncheckglobal.case_id.count() \""
      ]
     },
     "execution_count": 6,
     "metadata": {},
     "output_type": "execute_result"
    }
   ],
   "source": [
    "\"\"\" check_ots_id = ots_id[['case_id']]\n",
    "check_ots = ontheSysteme[['case_id']]\n",
    "checkglobal = merge(check_ots,check_ots_id,suffixes=('','_y'),indicator=True)\n",
    "checkglobal.case_id.count() \"\"\""
   ]
  },
  {
   "cell_type": "code",
   "execution_count": 11,
   "metadata": {},
   "outputs": [
    {
     "data": {
      "text/plain": [
       "array([nan])"
      ]
     },
     "execution_count": 11,
     "metadata": {},
     "output_type": "execute_result"
    }
   ],
   "source": [
    "ots_id.actual_id_parenting_group.unique()"
   ]
  },
  {
   "cell_type": "code",
   "execution_count": 24,
   "metadata": {},
   "outputs": [
    {
     "data": {
      "text/plain": [
       "49"
      ]
     },
     "execution_count": 24,
     "metadata": {},
     "output_type": "execute_result"
    }
   ],
   "source": [
    "ots_eligible_KAP = KAP[KAP.case_id.isin(ots_id.case_id)]\n",
    "ots_eligible_KAP.case_id.count()"
   ]
  },
  {
   "cell_type": "code",
   "execution_count": 28,
   "metadata": {},
   "outputs": [
    {
     "data": {
      "text/plain": [
       "49"
      ]
     },
     "execution_count": 28,
     "metadata": {},
     "output_type": "execute_result"
    },
    {
     "data": {
      "text/plain": [
       "1"
      ]
     },
     "execution_count": 28,
     "metadata": {},
     "output_type": "execute_result"
    }
   ],
   "source": [
    "ots_valid_id = ots_id[ots_id.case_id.isin(KAP.case_id)]\n",
    "ots_valid_id.case_id.count()\n",
    "ots_invalid = ots_id[~ots_id.case_id.isin(KAP.case_id)]\n",
    "ots_invalid.case_id.count()"
   ]
  },
  {
   "cell_type": "code",
   "execution_count": 32,
   "metadata": {},
   "outputs": [
    {
     "name": "stderr",
     "output_type": "stream",
     "text": [
      "/var/folders/7v/rs0k237d6nj3vdxfc1h7xtcw0000gn/T/ipykernel_21755/1921374906.py:1: SettingWithCopyWarning: \n",
      "A value is trying to be set on a copy of a slice from a DataFrame\n",
      "\n",
      "See the caveats in the documentation: https://pandas.pydata.org/pandas-docs/stable/user_guide/indexing.html#returning-a-view-versus-a-copy\n",
      "  ots_valid_id.code.fillna(\"---\",inplace=True)\n"
     ]
    }
   ],
   "source": [
    "ots_valid_id.code.fillna(\"---\",inplace=True)"
   ]
  },
  {
   "cell_type": "code",
   "execution_count": 35,
   "metadata": {},
   "outputs": [
    {
     "data": {
      "text/plain": [
       "39"
      ]
     },
     "execution_count": 35,
     "metadata": {},
     "output_type": "execute_result"
    },
    {
     "data": {
      "text/plain": [
       "10"
      ]
     },
     "execution_count": 35,
     "metadata": {},
     "output_type": "execute_result"
    }
   ],
   "source": [
    "valid_no_code = ots_valid_id[ots_valid_id.code == \"---\"]\n",
    "valid = ots_valid_id[ots_valid_id.code != \"---\"]\n",
    "\n",
    "valid.case_id.count()\n",
    "valid_no_code.case_id.count()"
   ]
  },
  {
   "cell_type": "code",
   "execution_count": 49,
   "metadata": {},
   "outputs": [
    {
     "data": {
      "text/html": [
       "<div>\n",
       "<style scoped>\n",
       "    .dataframe tbody tr th:only-of-type {\n",
       "        vertical-align: middle;\n",
       "    }\n",
       "\n",
       "    .dataframe tbody tr th {\n",
       "        vertical-align: top;\n",
       "    }\n",
       "\n",
       "    .dataframe thead th {\n",
       "        text-align: right;\n",
       "    }\n",
       "</style>\n",
       "<table border=\"1\" class=\"dataframe\">\n",
       "  <thead>\n",
       "    <tr style=\"text-align: right;\">\n",
       "      <th></th>\n",
       "      <th>Nombre</th>\n",
       "      <th>description</th>\n",
       "    </tr>\n",
       "  </thead>\n",
       "  <tbody>\n",
       "    <tr>\n",
       "      <th>total_recu</th>\n",
       "      <td>68</td>\n",
       "      <td>Le nombre total de noms soumis par les agents ...</td>\n",
       "    </tr>\n",
       "    <tr>\n",
       "      <th>Not_on_systeme</th>\n",
       "      <td>18</td>\n",
       "      <td>Le Nombre de nom que les datas Caris/FOSREF n'...</td>\n",
       "    </tr>\n",
       "    <tr>\n",
       "      <th>invalid</th>\n",
       "      <td>1</td>\n",
       "      <td>Le nombre d'agyw non eligible pour la parental...</td>\n",
       "    </tr>\n",
       "    <tr>\n",
       "      <th>valid</th>\n",
       "      <td>39</td>\n",
       "      <td>Le nombre d'agyw eligible pour parentalite et ...</td>\n",
       "    </tr>\n",
       "    <tr>\n",
       "      <th>valid_no_code</th>\n",
       "      <td>10</td>\n",
       "      <td>Le nombre d'agyw eligible mais qui n'ont pas d...</td>\n",
       "    </tr>\n",
       "  </tbody>\n",
       "</table>\n",
       "</div>"
      ],
      "text/plain": [
       "                Nombre                                        description\n",
       "total_recu          68  Le nombre total de noms soumis par les agents ...\n",
       "Not_on_systeme      18  Le Nombre de nom que les datas Caris/FOSREF n'...\n",
       "invalid              1  Le nombre d'agyw non eligible pour la parental...\n",
       "valid               39  Le nombre d'agyw eligible pour parentalite et ...\n",
       "valid_no_code       10  Le nombre d'agyw eligible mais qui n'ont pas d..."
      ]
     },
     "execution_count": 49,
     "metadata": {},
     "output_type": "execute_result"
    }
   ],
   "source": [
    "resume = DataFrame.from_dict(\n",
    "    {\n",
    "        \"total_recu\": [the68.case_id.count(), \"Le nombre total de noms soumis par les agents schooling a M&E\"],\n",
    "        \"Not_on_systeme\": [notOntheSysteme.find.count(), \"Le Nombre de nom que les datas Caris/FOSREF n'ont pas pu trouver sur le systeme\"],\n",
    "        \"invalid\": [ots_invalid.case_id.count(),\"Le nombre d'agyw non eligible pour la parentalite des noms soumis\"],\n",
    "        \"valid\": [valid.case_id.count(),\"Le nombre d'agyw eligible pour parentalite et que l'on peut faire les suivies de paiements\"],\n",
    "        \"valid_no_code\":[valid_no_code.case_id.count(),\"Le nombre d'agyw eligible mais qui n'ont pas de code. ce faisant on peut pas encore proceder aux paiements\"]\n",
    "    },\n",
    "    orient=\"index\",\n",
    "    columns=[\"Nombre\",\"description\"]\n",
    ")\n",
    "resume"
   ]
  },
  {
   "cell_type": "markdown",
   "metadata": {},
   "source": [
    "# conclusion"
   ]
  },
  {
   "cell_type": "code",
   "execution_count": 48,
   "metadata": {},
   "outputs": [],
   "source": [
    "resume.to_excel(\"./report_dreams_schooling_68.xlsx\",na_rep=\"\",index=True)\n",
    "\n",
    "notOntheSysteme.to_excel(\"./notOnTheSysteme_68.xlsx\",na_rep=\"\",index=False)\n",
    "\n",
    "ots_invalid.to_excel(\"./invalid_68.xlsx\",na_rep=\"\",index=False)\n",
    "\n",
    "valid_no_code.to_excel(\"./valid_NoCode_68.xlsx\",na_rep=\"\",index=False)\n",
    "valid.to_excel(\"./valid_68.xlsx\",na_rep=\"\",index=False)"
   ]
  },
  {
   "cell_type": "code",
   "execution_count": null,
   "metadata": {},
   "outputs": [],
   "source": []
  }
 ],
 "metadata": {
  "interpreter": {
   "hash": "b460384b52104c1e5b9cf54bee46a255d22b2bef338f75ac4ad5d48196028d3c"
  },
  "kernelspec": {
   "display_name": "Python 3.10.4 64-bit",
   "language": "python",
   "name": "python3"
  },
  "language_info": {
   "codemirror_mode": {
    "name": "ipython",
    "version": 3
   },
   "file_extension": ".py",
   "mimetype": "text/x-python",
   "name": "python",
   "nbconvert_exporter": "python",
   "pygments_lexer": "ipython3",
   "version": "3.10.4"
  },
  "orig_nbformat": 4
 },
 "nbformat": 4,
 "nbformat_minor": 2
}
