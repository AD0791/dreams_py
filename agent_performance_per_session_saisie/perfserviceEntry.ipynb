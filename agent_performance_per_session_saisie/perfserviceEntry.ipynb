{
 "cells": [
  {
   "cell_type": "code",
   "execution_count": 1,
   "metadata": {},
   "outputs": [],
   "source": [
    "from IPython.core.interactiveshell import InteractiveShell\n",
    "InteractiveShell.ast_node_interactivity = \"all\"\n",
    "import os\n",
    "from datetime import datetime\n",
    "#from datetime import date\n",
    "import pymysql\n",
    "from sqlalchemy import create_engine\n",
    "from decouple import config \n",
    "from dotenv import load_dotenv\n",
    "from pandas import (\n",
    "    read_sql_query, \n",
    "    DataFrame,\n",
    "    ExcelWriter,\n",
    "    options\n",
    ")\n",
    "from dataframe_image import export\n",
    "\n",
    "\n",
    "from enum import Enum\n",
    "import openpyxl\n",
    "import matplotlib.pyplot as plt\n",
    "import seaborn as sns\n",
    "%matplotlib inline"
   ]
  },
  {
   "cell_type": "code",
   "execution_count": 2,
   "metadata": {},
   "outputs": [],
   "source": [
    "class Period(Enum):\n",
    "    date = '2022-04-01'\n",
    "    week='2022-07-03'\n",
    "    date_du_jour = datetime.today().strftime(\"%d_%m_%Y\")"
   ]
  },
  {
   "cell_type": "code",
   "execution_count": 3,
   "metadata": {},
   "outputs": [
    {
     "data": {
      "text/plain": [
       "True"
      ]
     },
     "execution_count": 3,
     "metadata": {},
     "output_type": "execute_result"
    }
   ],
   "source": [
    "load_dotenv()\n",
    "# get the environment variables needed\n",
    "USER = config('USRCaris')\n",
    "PASSWORD = config('PASSCaris')\n",
    "HOSTNAME = config('HOSTCaris')\n",
    "DBNAME = config('DBCaris')\n",
    "\n",
    "# get the engine to connect and fetch\n",
    "engine = create_engine(\n",
    "    f\"mysql+pymysql://{USER}:{PASSWORD}@{HOSTNAME}/{DBNAME}\")\n",
    "\n"
   ]
  },
  {
   "cell_type": "code",
   "execution_count": 4,
   "metadata": {},
   "outputs": [],
   "source": [
    "query_presenceQty = f'''\n",
    "SELECT \n",
    "    a.*, COUNT(*) AS qte_pres_by_creator\n",
    "FROM\n",
    "    (SELECT \n",
    "            dgs.created_by,\n",
    "            au.email AS email,\n",
    "            au.username\n",
    "    FROM\n",
    "        caris_db.dream_group_session dgs\n",
    "    LEFT JOIN dream_group_attendance dga ON dgs.id = dga.id_group_session\n",
    "    LEFT JOIN dream_group dg ON dgs.id_group = dg.id\n",
    "    LEFT JOIN dream_hub dh ON dg.id_dream_hub = dh.id\n",
    "    LEFT JOIN lookup_commune lc ON lc.id = dh.commune\n",
    "    LEFT JOIN lookup_departement ld ON ld.id = lc.departement\n",
    "    LEFT JOIN auth_users au ON au.id = dgs.created_by\n",
    "    WHERE\n",
    "        dga.value = 'P'\n",
    "            AND dgs.date >= '{Period.date.value}') a\n",
    "GROUP BY a.created_by\n",
    "'''\n",
    "\n",
    "query_beneficiariesQty = f'''\n",
    "SELECT *, COUNT(*) AS qte_by_creator FROM\n",
    "    (SELECT\n",
    "        dgs.id AS id_session,\n",
    "            topic,\n",
    "            date,\n",
    "            dga.id_patient AS id_patient,\n",
    "            dgs.created_by,\n",
    "            lc.name AS commune,\n",
    "            ld.name AS departement,\n",
    "            dh.name AS hub,\n",
    "            au.email AS email,\n",
    "            au.username,\n",
    "            b.first_name,\n",
    "            b.last_name,\n",
    "            p.patient_code as dreams_code\n",
    "    FROM\n",
    "        caris_db.dream_group_session dgs\n",
    "    INNER JOIN dream_group_attendance dga ON dgs.id = dga.id_group_session\n",
    "        LEFT JOIN dream_group dg ON dgs.id_group = dg.id\n",
    "    LEFT JOIN dream_hub dh ON dg.id_dream_hub = dh.id\n",
    "    LEFT JOIN lookup_commune lc ON lc.id = dh.commune\n",
    "    LEFT JOIN lookup_departement ld ON ld.id = lc.departement\n",
    "    LEFT JOIN auth_users au ON au.id = dgs.created_by\n",
    "    left join beneficiary b on dga.id_patient=b.id_patient\n",
    "    left join patient p on p.id=dga.id_patient\n",
    "    WHERE\n",
    "        dga.value = 'P'\n",
    "            AND dgs.date >= '{Period.date.value}') a\n",
    "            group by a.id_patient, a.username\n",
    "'''\n"
   ]
  },
  {
   "cell_type": "code",
   "execution_count": 5,
   "metadata": {},
   "outputs": [],
   "source": [
    "query_presenceWeek = f'''\n",
    "SELECT \n",
    "    a.*, COUNT(*) AS qte_pres_by_creator\n",
    "FROM\n",
    "    (SELECT \n",
    "            dgs.created_by,\n",
    "            au.email AS email,\n",
    "            au.username\n",
    "    FROM\n",
    "        caris_db.dream_group_session dgs\n",
    "    LEFT JOIN dream_group_attendance dga ON dgs.id = dga.id_group_session\n",
    "    LEFT JOIN dream_group dg ON dgs.id_group = dg.id\n",
    "    LEFT JOIN dream_hub dh ON dg.id_dream_hub = dh.id\n",
    "    LEFT JOIN lookup_commune lc ON lc.id = dh.commune\n",
    "    LEFT JOIN lookup_departement ld ON ld.id = lc.departement\n",
    "    LEFT JOIN auth_users au ON au.id = dgs.created_by\n",
    "    WHERE\n",
    "        dga.value = 'P'\n",
    "            AND dgs.date >= '{Period.week.value}') a\n",
    "GROUP BY a.created_by\n",
    "'''\n",
    "\n",
    "query_beneficiariesWeek = f'''\n",
    "SELECT *, COUNT(*) AS qte_by_creator FROM\n",
    "    (SELECT\n",
    "        dgs.id AS id_session,\n",
    "            topic,\n",
    "            date,\n",
    "            dga.id_patient AS id_patient,\n",
    "            dgs.created_by,\n",
    "            lc.name AS commune,\n",
    "            ld.name AS departement,\n",
    "            dh.name AS hub,\n",
    "            au.email AS email,\n",
    "            au.username,\n",
    "            b.first_name,\n",
    "            b.last_name,\n",
    "            p.patient_code as dreams_code\n",
    "    FROM\n",
    "        caris_db.dream_group_session dgs\n",
    "    INNER JOIN dream_group_attendance dga ON dgs.id = dga.id_group_session\n",
    "        LEFT JOIN dream_group dg ON dgs.id_group = dg.id\n",
    "    LEFT JOIN dream_hub dh ON dg.id_dream_hub = dh.id\n",
    "    LEFT JOIN lookup_commune lc ON lc.id = dh.commune\n",
    "    LEFT JOIN lookup_departement ld ON ld.id = lc.departement\n",
    "    LEFT JOIN auth_users au ON au.id = dgs.created_by\n",
    "    left join beneficiary b on dga.id_patient=b.id_patient\n",
    "    left join patient p on p.id=dga.id_patient\n",
    "    WHERE\n",
    "        dga.value = 'P'\n",
    "            AND dgs.date >= '{Period.week.value}') a\n",
    "            group by a.id_patient, a.username\n",
    "'''\n"
   ]
  },
  {
   "cell_type": "code",
   "execution_count": 6,
   "metadata": {},
   "outputs": [],
   "source": [
    "query_parentingBene = f'''\n",
    "SELECT \n",
    "    *, COUNT(*) AS qte_by_creator\n",
    "FROM\n",
    "    (SELECT \n",
    "        dpgs.id_group AS id_session,\n",
    "            topic,\n",
    "            date,\n",
    "            dpga.id_patient AS id_patient,\n",
    "            dpgs.created_by,\n",
    "            lc.name AS commune,\n",
    "            ld.name AS departement,\n",
    "            dh.name AS hub,\n",
    "            au.email AS email,\n",
    "            au.username,\n",
    "            b.first_name,\n",
    "            b.last_name,\n",
    "            p.patient_code AS dreams_code\n",
    "    FROM\n",
    "        caris_db.dream_parenting_group_session dpgs\n",
    "    LEFT JOIN dream_parenting_group_attendance dpga ON dpgs.id = dpga.id_parenting_group_session\n",
    "    LEFT JOIN dream_group dg ON dpgs.id_group = dg.id\n",
    "    LEFT JOIN dream_hub dh ON dg.id_dream_hub = dh.id\n",
    "    LEFT JOIN lookup_commune lc ON lc.id = dh.commune\n",
    "    LEFT JOIN lookup_departement ld ON ld.id = lc.departement\n",
    "    LEFT JOIN auth_users au ON au.id = dpgs.created_by\n",
    "    LEFT JOIN beneficiary b ON dpga.id_patient = b.id_patient\n",
    "    LEFT JOIN patient p ON p.id = dpga.id_patient\n",
    "    WHERE\n",
    "        ((dpga.parent_g = 'P')\n",
    "            OR (dpga.parent_vd = 'P')\n",
    "            OR (dpga.yg_g = 'P')\n",
    "            OR (dpga.yg_vd = 'P'))\n",
    "            AND (dpgs.date >= '{Period.date.value}')) a\n",
    "GROUP BY a.id_patient , a.username\n",
    "'''\n",
    "\n",
    "query_parentingQty = f'''\n",
    "SELECT \n",
    "    a.*, COUNT(*) AS qte_by_creator\n",
    "FROM\n",
    "    (SELECT \n",
    "        dpgs.created_by, au.email AS email, au.username\n",
    "    FROM\n",
    "        caris_db.dream_parenting_group_session dpgs\n",
    "    LEFT JOIN dream_parenting_group_attendance dpga ON dpgs.id = dpga.id_parenting_group_session\n",
    "    LEFT JOIN dream_group dg ON dpgs.id_group = dg.id\n",
    "    LEFT JOIN dream_hub dh ON dg.id_dream_hub = dh.id\n",
    "    LEFT JOIN lookup_commune lc ON lc.id = dh.commune\n",
    "    LEFT JOIN lookup_departement ld ON ld.id = lc.departement\n",
    "    LEFT JOIN auth_users au ON au.id = dpgs.created_by\n",
    "    WHERE ((dpga.parent_g = 'P') OR (dpga.parent_vd= 'P') OR (dpga.yg_g='P') OR (dpga.yg_vd='P') )\n",
    "            AND (dpgs.date >= '{Period.date.value}') ) a\n",
    "GROUP BY a.created_by\n",
    "'''\n",
    "\n",
    "\n",
    "\n",
    "\n"
   ]
  },
  {
   "cell_type": "code",
   "execution_count": 7,
   "metadata": {},
   "outputs": [],
   "source": [
    "pres_byAgent= read_sql_query(query_presenceQty, engine, parse_dates=True)\n",
    "ben_byAgent = read_sql_query(query_beneficiariesQty, engine, parse_dates=True)\n",
    "\n",
    "pres_byAgent_week= read_sql_query(query_presenceWeek, engine, parse_dates=True)\n",
    "ben_byAgent_week = read_sql_query(query_beneficiariesWeek, engine, parse_dates=True)\n",
    "\n",
    "pres_parenting= read_sql_query(query_parentingQty, engine, parse_dates=True)\n",
    "parenting_byAgent = read_sql_query(query_parentingBene, engine, parse_dates=True)\n",
    "\n",
    "\n",
    "# close the pool of connection\n",
    "engine.dispose()"
   ]
  },
  {
   "cell_type": "code",
   "execution_count": 8,
   "metadata": {},
   "outputs": [],
   "source": [
    "pres_byAgent.rename(columns={'qte_pres_by_creator':'nombre_pres'},inplace=True)\n",
    "ben_byAgent.rename(columns={'qte_by_creator':'nombre_pres'},inplace=True)\n",
    "\n",
    "pres_byAgent_week.rename(columns={'qte_pres_by_creator':'nombre_pres'},inplace=True)\n",
    "ben_byAgent_week.rename(columns={'qte_by_creator':'nombre_pres'},inplace=True)\n",
    "\n",
    "pres_parenting.rename(columns={'qte_by_creator':'nombre_pres'},inplace=True)\n",
    "parenting_byAgent.rename(columns={'qte_by_creator':'nombre_pres'},inplace=True)"
   ]
  },
  {
   "cell_type": "code",
   "execution_count": 9,
   "metadata": {},
   "outputs": [],
   "source": [
    "pres_byAgent.fillna(\"noID\",inplace=True)\n",
    "ben_byAgent.fillna(\"noID\",inplace=True)"
   ]
  },
  {
   "cell_type": "code",
   "execution_count": 10,
   "metadata": {},
   "outputs": [
    {
     "name": "stdout",
     "output_type": "stream",
     "text": [
      "Nombre de presence totale pour la semaine:  475\n",
      "Nombre de presence totale pour la semaine:  475\n",
      "Nombre de filles pour la semaine:  82\n",
      "-------------\n",
      "Nombre de presence totale:  60762\n",
      "Nombre de presence totale:  60762\n",
      "Nombre de filles:  3370\n",
      "-----------\n",
      "Nombre de presence totale parenting:  547\n",
      "Nombre de presence totale parenting:  547\n",
      "Nombre de filles:  62\n"
     ]
    }
   ],
   "source": [
    "print('Nombre de presence totale pour la semaine: ',pres_byAgent_week.nombre_pres.sum())\n",
    "print('Nombre de presence totale pour la semaine: ',ben_byAgent_week.nombre_pres.sum())\n",
    "print('Nombre de filles pour la semaine: ',ben_byAgent_week.id_patient.count())\n",
    "print('-------------')\n",
    "print('Nombre de presence totale: ',pres_byAgent.nombre_pres.sum())\n",
    "print('Nombre de presence totale: ',ben_byAgent.nombre_pres.sum())\n",
    "print('Nombre de filles: ',ben_byAgent.id_patient.count())\n",
    "print('-----------')\n",
    "print('Nombre de presence totale parenting: ',pres_parenting.nombre_pres.sum())\n",
    "print('Nombre de presence totale parenting: ',parenting_byAgent.nombre_pres.sum())\n",
    "print('Nombre de filles: ',parenting_byAgent.id_patient.count())"
   ]
  },
  {
   "cell_type": "markdown",
   "metadata": {},
   "source": [
    "# First Component"
   ]
  },
  {
   "cell_type": "code",
   "execution_count": 11,
   "metadata": {},
   "outputs": [
    {
     "data": {
      "text/html": [
       "<style type=\"text/css\">\n",
       "#T_be6e7_row3_col2 {\n",
       "  background-color: yellow;\n",
       "}\n",
       "</style>\n",
       "<table id=\"T_be6e7\">\n",
       "  <thead>\n",
       "    <tr>\n",
       "      <th class=\"blank level0\" >&nbsp;</th>\n",
       "      <th id=\"T_be6e7_level0_col0\" class=\"col_heading level0 col0\" >username</th>\n",
       "      <th id=\"T_be6e7_level0_col1\" class=\"col_heading level0 col1\" >email</th>\n",
       "      <th id=\"T_be6e7_level0_col2\" class=\"col_heading level0 col2\" >nombre_pres</th>\n",
       "    </tr>\n",
       "  </thead>\n",
       "  <tbody>\n",
       "    <tr>\n",
       "      <th id=\"T_be6e7_level0_row0\" class=\"row_heading level0 row0\" >0</th>\n",
       "      <td id=\"T_be6e7_row0_col0\" class=\"data row0 col0\" >mcazy</td>\n",
       "      <td id=\"T_be6e7_row0_col1\" class=\"data row0 col1\" >mdaniel.cazy@carisfoundationintl.org</td>\n",
       "      <td id=\"T_be6e7_row0_col2\" class=\"data row0 col2\" >105</td>\n",
       "    </tr>\n",
       "    <tr>\n",
       "      <th id=\"T_be6e7_level0_row1\" class=\"row_heading level0 row1\" >1</th>\n",
       "      <td id=\"T_be6e7_row1_col0\" class=\"data row1 col0\" >yvelise88</td>\n",
       "      <td id=\"T_be6e7_row1_col1\" class=\"data row1 col1\" >yvelise.merilan@carisfoundationintl.org</td>\n",
       "      <td id=\"T_be6e7_row1_col2\" class=\"data row1 col2\" >154</td>\n",
       "    </tr>\n",
       "    <tr>\n",
       "      <th id=\"T_be6e7_level0_row2\" class=\"row_heading level0 row2\" >2</th>\n",
       "      <td id=\"T_be6e7_row2_col0\" class=\"data row2 col0\" >fbyron</td>\n",
       "      <td id=\"T_be6e7_row2_col1\" class=\"data row2 col1\" >byronfabrice9@gmail.com</td>\n",
       "      <td id=\"T_be6e7_row2_col2\" class=\"data row2 col2\" >2704</td>\n",
       "    </tr>\n",
       "    <tr>\n",
       "      <th id=\"T_be6e7_level0_row3\" class=\"row_heading level0 row3\" >3</th>\n",
       "      <td id=\"T_be6e7_row3_col0\" class=\"data row3 col0\" >billyjolicoeur</td>\n",
       "      <td id=\"T_be6e7_row3_col1\" class=\"data row3 col1\" >billyjolicoeur95@gmail.com</td>\n",
       "      <td id=\"T_be6e7_row3_col2\" class=\"data row3 col2\" >19565</td>\n",
       "    </tr>\n",
       "    <tr>\n",
       "      <th id=\"T_be6e7_level0_row4\" class=\"row_heading level0 row4\" >4</th>\n",
       "      <td id=\"T_be6e7_row4_col0\" class=\"data row4 col0\" >FredlyEliona</td>\n",
       "      <td id=\"T_be6e7_row4_col1\" class=\"data row4 col1\" >elionafredly7@gmail.com</td>\n",
       "      <td id=\"T_be6e7_row4_col2\" class=\"data row4 col2\" >11050</td>\n",
       "    </tr>\n",
       "    <tr>\n",
       "      <th id=\"T_be6e7_level0_row5\" class=\"row_heading level0 row5\" >5</th>\n",
       "      <td id=\"T_be6e7_row5_col0\" class=\"data row5 col0\" >dchelot</td>\n",
       "      <td id=\"T_be6e7_row5_col1\" class=\"data row5 col1\" >blonnichel@yahoo.fr</td>\n",
       "      <td id=\"T_be6e7_row5_col2\" class=\"data row5 col2\" >4618</td>\n",
       "    </tr>\n",
       "    <tr>\n",
       "      <th id=\"T_be6e7_level0_row6\" class=\"row_heading level0 row6\" >6</th>\n",
       "      <td id=\"T_be6e7_row6_col0\" class=\"data row6 col0\" >pggd1234</td>\n",
       "      <td id=\"T_be6e7_row6_col1\" class=\"data row6 col1\" >gerald.poteau@carisfoundationintl.org</td>\n",
       "      <td id=\"T_be6e7_row6_col2\" class=\"data row6 col2\" >7977</td>\n",
       "    </tr>\n",
       "    <tr>\n",
       "      <th id=\"T_be6e7_level0_row7\" class=\"row_heading level0 row7\" >7</th>\n",
       "      <td id=\"T_be6e7_row7_col0\" class=\"data row7 col0\" >Armando</td>\n",
       "      <td id=\"T_be6e7_row7_col1\" class=\"data row7 col1\" >diegoarmando.dorlean@carisfoundationintl.org</td>\n",
       "      <td id=\"T_be6e7_row7_col2\" class=\"data row7 col2\" >3313</td>\n",
       "    </tr>\n",
       "    <tr>\n",
       "      <th id=\"T_be6e7_level0_row8\" class=\"row_heading level0 row8\" >8</th>\n",
       "      <td id=\"T_be6e7_row8_col0\" class=\"data row8 col0\" >Ernstbelabre</td>\n",
       "      <td id=\"T_be6e7_row8_col1\" class=\"data row8 col1\" >ernst.belabre@carisfoundationintl.org</td>\n",
       "      <td id=\"T_be6e7_row8_col2\" class=\"data row8 col2\" >3232</td>\n",
       "    </tr>\n",
       "    <tr>\n",
       "      <th id=\"T_be6e7_level0_row9\" class=\"row_heading level0 row9\" >9</th>\n",
       "      <td id=\"T_be6e7_row9_col0\" class=\"data row9 col0\" >France14</td>\n",
       "      <td id=\"T_be6e7_row9_col1\" class=\"data row9 col1\" >francenelstjean.saed@yahoo.com</td>\n",
       "      <td id=\"T_be6e7_row9_col2\" class=\"data row9 col2\" >5177</td>\n",
       "    </tr>\n",
       "    <tr>\n",
       "      <th id=\"T_be6e7_level0_row10\" class=\"row_heading level0 row10\" >10</th>\n",
       "      <td id=\"T_be6e7_row10_col0\" class=\"data row10 col0\" >despeignes</td>\n",
       "      <td id=\"T_be6e7_row10_col1\" class=\"data row10 col1\" >roselord.despeignes@carisfoundationintl.org</td>\n",
       "      <td id=\"T_be6e7_row10_col2\" class=\"data row10 col2\" >112</td>\n",
       "    </tr>\n",
       "    <tr>\n",
       "      <th id=\"T_be6e7_level0_row11\" class=\"row_heading level0 row11\" >11</th>\n",
       "      <td id=\"T_be6e7_row11_col0\" class=\"data row11 col0\" >BonWoodRidchard</td>\n",
       "      <td id=\"T_be6e7_row11_col1\" class=\"data row11 col1\" >twoody103@gmail.com</td>\n",
       "      <td id=\"T_be6e7_row11_col2\" class=\"data row11 col2\" >2755</td>\n",
       "    </tr>\n",
       "  </tbody>\n",
       "</table>\n"
      ],
      "text/plain": [
       "<pandas.io.formats.style.Styler at 0x11cc7d7b0>"
      ]
     },
     "execution_count": 11,
     "metadata": {},
     "output_type": "execute_result"
    },
    {
     "name": "stdout",
     "output_type": "stream",
     "text": [
      "---------------------------------------------------------------------------------------------\n"
     ]
    },
    {
     "data": {
      "text/html": [
       "<style type=\"text/css\">\n",
       "#T_2123e_row1_col2 {\n",
       "  background-color: yellow;\n",
       "}\n",
       "</style>\n",
       "<table id=\"T_2123e\">\n",
       "  <thead>\n",
       "    <tr>\n",
       "      <th class=\"blank level0\" >&nbsp;</th>\n",
       "      <th id=\"T_2123e_level0_col0\" class=\"col_heading level0 col0\" >username</th>\n",
       "      <th id=\"T_2123e_level0_col1\" class=\"col_heading level0 col1\" >email</th>\n",
       "      <th id=\"T_2123e_level0_col2\" class=\"col_heading level0 col2\" >nombre_pres</th>\n",
       "    </tr>\n",
       "  </thead>\n",
       "  <tbody>\n",
       "    <tr>\n",
       "      <th id=\"T_2123e_level0_row0\" class=\"row_heading level0 row0\" >0</th>\n",
       "      <td id=\"T_2123e_row0_col0\" class=\"data row0 col0\" >fbyron</td>\n",
       "      <td id=\"T_2123e_row0_col1\" class=\"data row0 col1\" >byronfabrice9@gmail.com</td>\n",
       "      <td id=\"T_2123e_row0_col2\" class=\"data row0 col2\" >129</td>\n",
       "    </tr>\n",
       "    <tr>\n",
       "      <th id=\"T_2123e_level0_row1\" class=\"row_heading level0 row1\" >1</th>\n",
       "      <td id=\"T_2123e_row1_col0\" class=\"data row1 col0\" >dchelot</td>\n",
       "      <td id=\"T_2123e_row1_col1\" class=\"data row1 col1\" >blonnichel@yahoo.fr</td>\n",
       "      <td id=\"T_2123e_row1_col2\" class=\"data row1 col2\" >210</td>\n",
       "    </tr>\n",
       "    <tr>\n",
       "      <th id=\"T_2123e_level0_row2\" class=\"row_heading level0 row2\" >2</th>\n",
       "      <td id=\"T_2123e_row2_col0\" class=\"data row2 col0\" >France14</td>\n",
       "      <td id=\"T_2123e_row2_col1\" class=\"data row2 col1\" >francenelstjean.saed@yahoo.com</td>\n",
       "      <td id=\"T_2123e_row2_col2\" class=\"data row2 col2\" >136</td>\n",
       "    </tr>\n",
       "  </tbody>\n",
       "</table>\n"
      ],
      "text/plain": [
       "<pandas.io.formats.style.Styler at 0x11cbf4550>"
      ]
     },
     "execution_count": 11,
     "metadata": {},
     "output_type": "execute_result"
    },
    {
     "name": "stdout",
     "output_type": "stream",
     "text": [
      "---------------------------------------------------------------------------------------------\n"
     ]
    },
    {
     "data": {
      "text/html": [
       "<style type=\"text/css\">\n",
       "#T_61f15_row0_col2 {\n",
       "  background-color: yellow;\n",
       "}\n",
       "</style>\n",
       "<table id=\"T_61f15\">\n",
       "  <thead>\n",
       "    <tr>\n",
       "      <th class=\"blank level0\" >&nbsp;</th>\n",
       "      <th id=\"T_61f15_level0_col0\" class=\"col_heading level0 col0\" >username</th>\n",
       "      <th id=\"T_61f15_level0_col1\" class=\"col_heading level0 col1\" >email</th>\n",
       "      <th id=\"T_61f15_level0_col2\" class=\"col_heading level0 col2\" >nombre_pres</th>\n",
       "    </tr>\n",
       "  </thead>\n",
       "  <tbody>\n",
       "    <tr>\n",
       "      <th id=\"T_61f15_level0_row0\" class=\"row_heading level0 row0\" >0</th>\n",
       "      <td id=\"T_61f15_row0_col0\" class=\"data row0 col0\" >fbyron</td>\n",
       "      <td id=\"T_61f15_row0_col1\" class=\"data row0 col1\" >byronfabrice9@gmail.com</td>\n",
       "      <td id=\"T_61f15_row0_col2\" class=\"data row0 col2\" >547</td>\n",
       "    </tr>\n",
       "  </tbody>\n",
       "</table>\n"
      ],
      "text/plain": [
       "<pandas.io.formats.style.Styler at 0x1058a5930>"
      ]
     },
     "execution_count": 11,
     "metadata": {},
     "output_type": "execute_result"
    }
   ],
   "source": [
    "pres_byAgent = pres_byAgent[['username','email','nombre_pres']]\n",
    "if pres_byAgent.empty:\n",
    "    pres_byAgent\n",
    "else:\n",
    "    pres_byAgent.style.highlight_max(subset=['nombre_pres'])\n",
    "    \n",
    "print('---------------------------------------------------------------------------------------------')\n",
    "\n",
    "pres_byAgent_week = pres_byAgent_week[['username','email','nombre_pres']]\n",
    "if pres_byAgent_week.empty:\n",
    "    pres_byAgent_week\n",
    "else:\n",
    "    pres_byAgent_week.style.highlight_max(subset=['nombre_pres'])\n",
    "\n",
    "\n",
    "\n",
    "print('---------------------------------------------------------------------------------------------')\n",
    "\n",
    "pres_parenting = pres_parenting[['username','email','nombre_pres']]\n",
    "if pres_parenting.empty:\n",
    "    pres_parenting\n",
    "else:\n",
    "    pres_parenting.style.highlight_max(subset=['nombre_pres'])   \n",
    "\n",
    "\n",
    "#ordered_pres_byAgent = pres_byAgent.nombre_pres.sort_values().to_list()\n",
    "#ordered_pres_parenting = pres_parenting.nombre_pres.sort_values().to_list()"
   ]
  },
  {
   "cell_type": "markdown",
   "metadata": {},
   "source": [
    "# Graphe Component I"
   ]
  },
  {
   "cell_type": "code",
   "execution_count": 12,
   "metadata": {},
   "outputs": [
    {
     "data": {
      "text/plain": [
       "<Figure size 1152x576 with 0 Axes>"
      ]
     },
     "execution_count": 12,
     "metadata": {},
     "output_type": "execute_result"
    },
    {
     "data": {
      "text/plain": [
       "Text(0.5, 0, '')"
      ]
     },
     "execution_count": 12,
     "metadata": {},
     "output_type": "execute_result"
    },
    {
     "data": {
      "text/plain": [
       "Text(0, 0.5, '')"
      ]
     },
     "execution_count": 12,
     "metadata": {},
     "output_type": "execute_result"
    },
    {
     "data": {
      "text/plain": [
       "Text(0.5, 0.98, 'Nombre de presence Currriculum par agents depuis le 2022-04-01')"
      ]
     },
     "execution_count": 12,
     "metadata": {},
     "output_type": "execute_result"
    },
    {
     "data": {
      "text/plain": [
       "Text(19565.25, 0.0, '19565')"
      ]
     },
     "execution_count": 12,
     "metadata": {},
     "output_type": "execute_result"
    },
    {
     "data": {
      "text/plain": [
       "Text(11050.25, 1.0, '11050')"
      ]
     },
     "execution_count": 12,
     "metadata": {},
     "output_type": "execute_result"
    },
    {
     "data": {
      "text/plain": [
       "Text(7977.25, 2.0, '7977')"
      ]
     },
     "execution_count": 12,
     "metadata": {},
     "output_type": "execute_result"
    },
    {
     "data": {
      "text/plain": [
       "Text(5177.25, 3.0, '5177')"
      ]
     },
     "execution_count": 12,
     "metadata": {},
     "output_type": "execute_result"
    },
    {
     "data": {
      "text/plain": [
       "Text(4618.25, 4.0, '4618')"
      ]
     },
     "execution_count": 12,
     "metadata": {},
     "output_type": "execute_result"
    },
    {
     "data": {
      "text/plain": [
       "Text(3313.25, 5.0, '3313')"
      ]
     },
     "execution_count": 12,
     "metadata": {},
     "output_type": "execute_result"
    },
    {
     "data": {
      "text/plain": [
       "Text(3232.25, 6.0, '3232')"
      ]
     },
     "execution_count": 12,
     "metadata": {},
     "output_type": "execute_result"
    },
    {
     "data": {
      "text/plain": [
       "Text(2755.25, 7.0, '2755')"
      ]
     },
     "execution_count": 12,
     "metadata": {},
     "output_type": "execute_result"
    },
    {
     "data": {
      "text/plain": [
       "Text(2704.25, 8.0, '2704')"
      ]
     },
     "execution_count": 12,
     "metadata": {},
     "output_type": "execute_result"
    },
    {
     "data": {
      "text/plain": [
       "Text(154.25, 9.0, '154')"
      ]
     },
     "execution_count": 12,
     "metadata": {},
     "output_type": "execute_result"
    },
    {
     "data": {
      "text/plain": [
       "Text(112.25, 10.0, '112')"
      ]
     },
     "execution_count": 12,
     "metadata": {},
     "output_type": "execute_result"
    },
    {
     "data": {
      "text/plain": [
       "Text(105.25, 11.0, '105')"
      ]
     },
     "execution_count": 12,
     "metadata": {},
     "output_type": "execute_result"
    },
    {
     "data": {
      "text/plain": [
       "Text(-80, -20, 'source: HIVHaiti')"
      ]
     },
     "execution_count": 12,
     "metadata": {},
     "output_type": "execute_result"
    },
    {
     "data": {
      "image/png": "[encoded data removed]",
      "text/plain": [
       "<Figure size 1152x576 with 1 Axes>"
      ]
     },
     "metadata": {
      "needs_background": "light"
     },
     "output_type": "display_data"
    }
   ],
   "source": [
    "try:\n",
    "    plt.figure(figsize=(16,8))\n",
    "    #plt.subplots(figsize=(16,8))\n",
    "    sns.set_style(\"darkgrid\")\n",
    "    splot = sns.barplot(x=\"nombre_pres\",y=\"username\",data=pres_byAgent,color=\"Green\",order=pres_byAgent.sort_values(\"nombre_pres\",ascending=False).username,ci=False)\n",
    "    splot.set_xlabel(\"\")\n",
    "    splot.set_ylabel(\"\")\n",
    "    plt.suptitle(f\"Nombre de presence Currriculum par agents depuis le {Period.date.value}\")\n",
    "    for p in splot.patches:\n",
    "        width = p.get_width()\n",
    "        plt.text(0.25+p.get_width(), p.get_y()+0.50*p.get_height(),\n",
    "                '{:1.0f}'.format(width),fontdict=dict(color=\"red\",fontsize=12))\n",
    "\n",
    "    plt.annotate(\n",
    "        \"source: HIVHaiti\",(0,0), (-80,-20), fontsize=10, \n",
    "                xycoords='axes fraction', textcoords='offset points', va='top'\n",
    "    )\n",
    "    plt.savefig(f\"saisie_curriculum\",dpi=1000)\n",
    "except ValueError:\n",
    "    print(f\"no activities where registered\")"
   ]
  },
  {
   "cell_type": "code",
   "execution_count": 13,
   "metadata": {},
   "outputs": [
    {
     "data": {
      "text/plain": [
       "<Figure size 1152x576 with 0 Axes>"
      ]
     },
     "execution_count": 13,
     "metadata": {},
     "output_type": "execute_result"
    },
    {
     "data": {
      "text/plain": [
       "Text(0.5, 0, '')"
      ]
     },
     "execution_count": 13,
     "metadata": {},
     "output_type": "execute_result"
    },
    {
     "data": {
      "text/plain": [
       "Text(0, 0.5, '')"
      ]
     },
     "execution_count": 13,
     "metadata": {},
     "output_type": "execute_result"
    },
    {
     "data": {
      "text/plain": [
       "Text(0.5, 0.98, 'Nombre de presence Currriculum par agents pour la semaine du 2022-07-03')"
      ]
     },
     "execution_count": 13,
     "metadata": {},
     "output_type": "execute_result"
    },
    {
     "data": {
      "text/plain": [
       "Text(210.25, 0.0, '210')"
      ]
     },
     "execution_count": 13,
     "metadata": {},
     "output_type": "execute_result"
    },
    {
     "data": {
      "text/plain": [
       "Text(136.25, 1.0, '136')"
      ]
     },
     "execution_count": 13,
     "metadata": {},
     "output_type": "execute_result"
    },
    {
     "data": {
      "text/plain": [
       "Text(129.25, 2.0, '129')"
      ]
     },
     "execution_count": 13,
     "metadata": {},
     "output_type": "execute_result"
    },
    {
     "data": {
      "text/plain": [
       "Text(-80, -20, 'source: HIVHaiti')"
      ]
     },
     "execution_count": 13,
     "metadata": {},
     "output_type": "execute_result"
    },
    {
     "data": {
      "image/png": "[encoded data removed]",
      "text/plain": [
       "<Figure size 1152x576 with 1 Axes>"
      ]
     },
     "metadata": {},
     "output_type": "display_data"
    }
   ],
   "source": [
    "try:\n",
    "    plt.figure(figsize=(16,8))\n",
    "    #plt.subplots(figsize=(16,8))\n",
    "    sns.set_style(\"darkgrid\")\n",
    "    splot = sns.barplot(x=\"nombre_pres\",y=\"username\",data=pres_byAgent_week,color=\"Blue\",order=pres_byAgent_week.sort_values(\"nombre_pres\",ascending=False).username,ci=False)\n",
    "    splot.set_xlabel(\"\")\n",
    "    splot.set_ylabel(\"\")\n",
    "    plt.suptitle(f\"Nombre de presence Currriculum par agents pour la semaine du {Period.week.value}\")\n",
    "    for p in splot.patches:\n",
    "        width = p.get_width()\n",
    "        plt.text(0.25+p.get_width(), p.get_y()+0.50*p.get_height(),\n",
    "                '{:1.0f}'.format(width),fontdict=dict(color=\"red\",fontsize=12))\n",
    "\n",
    "    plt.annotate(\n",
    "        \"source: HIVHaiti\",(0,0), (-80,-20), fontsize=10, \n",
    "                xycoords='axes fraction', textcoords='offset points', va='top'\n",
    "    )\n",
    "    plt.savefig(f\"saisie_curriculum_week\",dpi=1000)\n",
    "except ValueError:\n",
    "    print(f\"no activities where registered pour cette semaine {Period.week.value}\")"
   ]
  },
  {
   "cell_type": "code",
   "execution_count": 14,
   "metadata": {},
   "outputs": [
    {
     "data": {
      "text/plain": [
       "<Figure size 1152x576 with 0 Axes>"
      ]
     },
     "execution_count": 14,
     "metadata": {},
     "output_type": "execute_result"
    },
    {
     "data": {
      "text/plain": [
       "Text(0.5, 0, '')"
      ]
     },
     "execution_count": 14,
     "metadata": {},
     "output_type": "execute_result"
    },
    {
     "data": {
      "text/plain": [
       "Text(0, 0.5, '')"
      ]
     },
     "execution_count": 14,
     "metadata": {},
     "output_type": "execute_result"
    },
    {
     "data": {
      "text/plain": [
       "Text(0.5, 0.98, 'Nombre de presence parenting par agents depuis le 2022-04-01')"
      ]
     },
     "execution_count": 14,
     "metadata": {},
     "output_type": "execute_result"
    },
    {
     "data": {
      "text/plain": [
       "Text(547.25, 0.0, '547')"
      ]
     },
     "execution_count": 14,
     "metadata": {},
     "output_type": "execute_result"
    },
    {
     "data": {
      "text/plain": [
       "Text(-80, -20, 'source: HIVHaiti')"
      ]
     },
     "execution_count": 14,
     "metadata": {},
     "output_type": "execute_result"
    },
    {
     "data": {
      "image/png": "[encoded data removed]",
      "text/plain": [
       "<Figure size 1152x576 with 1 Axes>"
      ]
     },
     "metadata": {},
     "output_type": "display_data"
    }
   ],
   "source": [
    "try:\n",
    "    plt.figure(figsize=(16,8))\n",
    "    #plt.subplots(figsize=(16,8))\n",
    "    sns.set_style(\"darkgrid\")\n",
    "    splot = sns.barplot(x=\"nombre_pres\",y=\"username\",data=pres_parenting,color=\"Green\",order=pres_parenting.sort_values(\"nombre_pres\",ascending=False).username,ci=False)\n",
    "    splot.set_xlabel(\"\")\n",
    "    splot.set_ylabel(\"\")\n",
    "    plt.suptitle(f\"Nombre de presence parenting par agents depuis le {Period.date.value}\")\n",
    "    for p in splot.patches:\n",
    "        width = p.get_width()\n",
    "        plt.text(0.25+p.get_width(), p.get_y()+0.50*p.get_height(),\n",
    "                '{:1.0f}'.format(width),fontdict=dict(color=\"red\",fontsize=12))\n",
    "    plt.annotate(\n",
    "        \"source: HIVHaiti\",(0,0), (-80,-20), fontsize=10, \n",
    "                xycoords='axes fraction', textcoords='offset points', va='top'\n",
    "    )\n",
    "    plt.savefig(f\"saisie_parenting\",dpi=1000)\n",
    "except ValueError:\n",
    "    print(f\"no activities where registered\")"
   ]
  },
  {
   "cell_type": "markdown",
   "metadata": {},
   "source": [
    "# Validation of the pivot table"
   ]
  },
  {
   "cell_type": "code",
   "execution_count": 15,
   "metadata": {},
   "outputs": [],
   "source": [
    "def validation_pivot(pt):\n",
    "    if not pt.empty:\n",
    "        pt = pt.pivot_table(values='id_patient',index='username',columns='commune',aggfunc='count',fill_value=0,margins=True, margins_name='Total')\n",
    "    if pt.empty:\n",
    "        pt =  DataFrame({\"resultats\":[\"No data entry\"]})\n",
    "    return pt"
   ]
  },
  {
   "cell_type": "markdown",
   "metadata": {},
   "source": [
    "# Component 2"
   ]
  },
  {
   "cell_type": "code",
   "execution_count": 16,
   "metadata": {},
   "outputs": [
    {
     "data": {
      "text/html": [
       "<style type=\"text/css\">\n",
       "#T_3e311_row5_col10, #T_3e311_row5_col14, #T_3e311_row5_col17, #T_3e311_row6_col18, #T_3e311_row12_col0, #T_3e311_row12_col1, #T_3e311_row12_col2, #T_3e311_row12_col3, #T_3e311_row12_col4, #T_3e311_row12_col5, #T_3e311_row12_col6, #T_3e311_row12_col7, #T_3e311_row12_col8, #T_3e311_row12_col9, #T_3e311_row12_col10, #T_3e311_row12_col11, #T_3e311_row12_col12, #T_3e311_row12_col13, #T_3e311_row12_col14, #T_3e311_row12_col15, #T_3e311_row12_col16, #T_3e311_row12_col17, #T_3e311_row12_col18, #T_3e311_row12_col19, #T_3e311_row12_col20, #T_3e311_row12_col21 {\n",
       "  background-color: yellow;\n",
       "}\n",
       "</style>\n",
       "<table id=\"T_3e311\">\n",
       "  <thead>\n",
       "    <tr>\n",
       "      <th class=\"index_name level0\" >commune</th>\n",
       "      <th id=\"T_3e311_level0_col0\" class=\"col_heading level0 col0\" >Cap-Haïtien</th>\n",
       "      <th id=\"T_3e311_level0_col1\" class=\"col_heading level0 col1\" >Carrefour</th>\n",
       "      <th id=\"T_3e311_level0_col2\" class=\"col_heading level0 col2\" >Delmas</th>\n",
       "      <th id=\"T_3e311_level0_col3\" class=\"col_heading level0 col3\" >Desdunes</th>\n",
       "      <th id=\"T_3e311_level0_col4\" class=\"col_heading level0 col4\" >Dessalines</th>\n",
       "      <th id=\"T_3e311_level0_col5\" class=\"col_heading level0 col5\" >Grande Saline</th>\n",
       "      <th id=\"T_3e311_level0_col6\" class=\"col_heading level0 col6\" >Gressier</th>\n",
       "      <th id=\"T_3e311_level0_col7\" class=\"col_heading level0 col7\" >Kenscoff</th>\n",
       "      <th id=\"T_3e311_level0_col8\" class=\"col_heading level0 col8\" >La Chapelle</th>\n",
       "      <th id=\"T_3e311_level0_col9\" class=\"col_heading level0 col9\" >Liancourt</th>\n",
       "      <th id=\"T_3e311_level0_col10\" class=\"col_heading level0 col10\" >Limonade</th>\n",
       "      <th id=\"T_3e311_level0_col11\" class=\"col_heading level0 col11\" >Milot</th>\n",
       "      <th id=\"T_3e311_level0_col12\" class=\"col_heading level0 col12\" >Montrouis</th>\n",
       "      <th id=\"T_3e311_level0_col13\" class=\"col_heading level0 col13\" >Petite Rivière de l'Artibonite</th>\n",
       "      <th id=\"T_3e311_level0_col14\" class=\"col_heading level0 col14\" >Plaine-du-Nord</th>\n",
       "      <th id=\"T_3e311_level0_col15\" class=\"col_heading level0 col15\" >Port-au-Prince</th>\n",
       "      <th id=\"T_3e311_level0_col16\" class=\"col_heading level0 col16\" >Pétionville</th>\n",
       "      <th id=\"T_3e311_level0_col17\" class=\"col_heading level0 col17\" >Quartier-Morin</th>\n",
       "      <th id=\"T_3e311_level0_col18\" class=\"col_heading level0 col18\" >Saint-Marc</th>\n",
       "      <th id=\"T_3e311_level0_col19\" class=\"col_heading level0 col19\" >Tabarre</th>\n",
       "      <th id=\"T_3e311_level0_col20\" class=\"col_heading level0 col20\" >Verrettes</th>\n",
       "      <th id=\"T_3e311_level0_col21\" class=\"col_heading level0 col21\" >Total</th>\n",
       "    </tr>\n",
       "    <tr>\n",
       "      <th class=\"index_name level0\" >username</th>\n",
       "      <th class=\"blank col0\" >&nbsp;</th>\n",
       "      <th class=\"blank col1\" >&nbsp;</th>\n",
       "      <th class=\"blank col2\" >&nbsp;</th>\n",
       "      <th class=\"blank col3\" >&nbsp;</th>\n",
       "      <th class=\"blank col4\" >&nbsp;</th>\n",
       "      <th class=\"blank col5\" >&nbsp;</th>\n",
       "      <th class=\"blank col6\" >&nbsp;</th>\n",
       "      <th class=\"blank col7\" >&nbsp;</th>\n",
       "      <th class=\"blank col8\" >&nbsp;</th>\n",
       "      <th class=\"blank col9\" >&nbsp;</th>\n",
       "      <th class=\"blank col10\" >&nbsp;</th>\n",
       "      <th class=\"blank col11\" >&nbsp;</th>\n",
       "      <th class=\"blank col12\" >&nbsp;</th>\n",
       "      <th class=\"blank col13\" >&nbsp;</th>\n",
       "      <th class=\"blank col14\" >&nbsp;</th>\n",
       "      <th class=\"blank col15\" >&nbsp;</th>\n",
       "      <th class=\"blank col16\" >&nbsp;</th>\n",
       "      <th class=\"blank col17\" >&nbsp;</th>\n",
       "      <th class=\"blank col18\" >&nbsp;</th>\n",
       "      <th class=\"blank col19\" >&nbsp;</th>\n",
       "      <th class=\"blank col20\" >&nbsp;</th>\n",
       "      <th class=\"blank col21\" >&nbsp;</th>\n",
       "    </tr>\n",
       "  </thead>\n",
       "  <tbody>\n",
       "    <tr>\n",
       "      <th id=\"T_3e311_level0_row0\" class=\"row_heading level0 row0\" >Armando</th>\n",
       "      <td id=\"T_3e311_row0_col0\" class=\"data row0 col0\" >0</td>\n",
       "      <td id=\"T_3e311_row0_col1\" class=\"data row0 col1\" >0</td>\n",
       "      <td id=\"T_3e311_row0_col2\" class=\"data row0 col2\" >0</td>\n",
       "      <td id=\"T_3e311_row0_col3\" class=\"data row0 col3\" >0</td>\n",
       "      <td id=\"T_3e311_row0_col4\" class=\"data row0 col4\" >0</td>\n",
       "      <td id=\"T_3e311_row0_col5\" class=\"data row0 col5\" >26</td>\n",
       "      <td id=\"T_3e311_row0_col6\" class=\"data row0 col6\" >3</td>\n",
       "      <td id=\"T_3e311_row0_col7\" class=\"data row0 col7\" >0</td>\n",
       "      <td id=\"T_3e311_row0_col8\" class=\"data row0 col8\" >0</td>\n",
       "      <td id=\"T_3e311_row0_col9\" class=\"data row0 col9\" >63</td>\n",
       "      <td id=\"T_3e311_row0_col10\" class=\"data row0 col10\" >0</td>\n",
       "      <td id=\"T_3e311_row0_col11\" class=\"data row0 col11\" >0</td>\n",
       "      <td id=\"T_3e311_row0_col12\" class=\"data row0 col12\" >0</td>\n",
       "      <td id=\"T_3e311_row0_col13\" class=\"data row0 col13\" >0</td>\n",
       "      <td id=\"T_3e311_row0_col14\" class=\"data row0 col14\" >0</td>\n",
       "      <td id=\"T_3e311_row0_col15\" class=\"data row0 col15\" >0</td>\n",
       "      <td id=\"T_3e311_row0_col16\" class=\"data row0 col16\" >0</td>\n",
       "      <td id=\"T_3e311_row0_col17\" class=\"data row0 col17\" >0</td>\n",
       "      <td id=\"T_3e311_row0_col18\" class=\"data row0 col18\" >0</td>\n",
       "      <td id=\"T_3e311_row0_col19\" class=\"data row0 col19\" >0</td>\n",
       "      <td id=\"T_3e311_row0_col20\" class=\"data row0 col20\" >30</td>\n",
       "      <td id=\"T_3e311_row0_col21\" class=\"data row0 col21\" >122</td>\n",
       "    </tr>\n",
       "    <tr>\n",
       "      <th id=\"T_3e311_level0_row1\" class=\"row_heading level0 row1\" >BonWoodRidchard</th>\n",
       "      <td id=\"T_3e311_row1_col0\" class=\"data row1 col0\" >38</td>\n",
       "      <td id=\"T_3e311_row1_col1\" class=\"data row1 col1\" >9</td>\n",
       "      <td id=\"T_3e311_row1_col2\" class=\"data row1 col2\" >23</td>\n",
       "      <td id=\"T_3e311_row1_col3\" class=\"data row1 col3\" >0</td>\n",
       "      <td id=\"T_3e311_row1_col4\" class=\"data row1 col4\" >0</td>\n",
       "      <td id=\"T_3e311_row1_col5\" class=\"data row1 col5\" >0</td>\n",
       "      <td id=\"T_3e311_row1_col6\" class=\"data row1 col6\" >0</td>\n",
       "      <td id=\"T_3e311_row1_col7\" class=\"data row1 col7\" >7</td>\n",
       "      <td id=\"T_3e311_row1_col8\" class=\"data row1 col8\" >0</td>\n",
       "      <td id=\"T_3e311_row1_col9\" class=\"data row1 col9\" >0</td>\n",
       "      <td id=\"T_3e311_row1_col10\" class=\"data row1 col10\" >0</td>\n",
       "      <td id=\"T_3e311_row1_col11\" class=\"data row1 col11\" >0</td>\n",
       "      <td id=\"T_3e311_row1_col12\" class=\"data row1 col12\" >11</td>\n",
       "      <td id=\"T_3e311_row1_col13\" class=\"data row1 col13\" >32</td>\n",
       "      <td id=\"T_3e311_row1_col14\" class=\"data row1 col14\" >0</td>\n",
       "      <td id=\"T_3e311_row1_col15\" class=\"data row1 col15\" >4</td>\n",
       "      <td id=\"T_3e311_row1_col16\" class=\"data row1 col16\" >0</td>\n",
       "      <td id=\"T_3e311_row1_col17\" class=\"data row1 col17\" >0</td>\n",
       "      <td id=\"T_3e311_row1_col18\" class=\"data row1 col18\" >0</td>\n",
       "      <td id=\"T_3e311_row1_col19\" class=\"data row1 col19\" >27</td>\n",
       "      <td id=\"T_3e311_row1_col20\" class=\"data row1 col20\" >0</td>\n",
       "      <td id=\"T_3e311_row1_col21\" class=\"data row1 col21\" >151</td>\n",
       "    </tr>\n",
       "    <tr>\n",
       "      <th id=\"T_3e311_level0_row2\" class=\"row_heading level0 row2\" >Ernstbelabre</th>\n",
       "      <td id=\"T_3e311_row2_col0\" class=\"data row2 col0\" >0</td>\n",
       "      <td id=\"T_3e311_row2_col1\" class=\"data row2 col1\" >0</td>\n",
       "      <td id=\"T_3e311_row2_col2\" class=\"data row2 col2\" >0</td>\n",
       "      <td id=\"T_3e311_row2_col3\" class=\"data row2 col3\" >0</td>\n",
       "      <td id=\"T_3e311_row2_col4\" class=\"data row2 col4\" >0</td>\n",
       "      <td id=\"T_3e311_row2_col5\" class=\"data row2 col5\" >75</td>\n",
       "      <td id=\"T_3e311_row2_col6\" class=\"data row2 col6\" >28</td>\n",
       "      <td id=\"T_3e311_row2_col7\" class=\"data row2 col7\" >0</td>\n",
       "      <td id=\"T_3e311_row2_col8\" class=\"data row2 col8\" >0</td>\n",
       "      <td id=\"T_3e311_row2_col9\" class=\"data row2 col9\" >0</td>\n",
       "      <td id=\"T_3e311_row2_col10\" class=\"data row2 col10\" >0</td>\n",
       "      <td id=\"T_3e311_row2_col11\" class=\"data row2 col11\" >0</td>\n",
       "      <td id=\"T_3e311_row2_col12\" class=\"data row2 col12\" >0</td>\n",
       "      <td id=\"T_3e311_row2_col13\" class=\"data row2 col13\" >0</td>\n",
       "      <td id=\"T_3e311_row2_col14\" class=\"data row2 col14\" >0</td>\n",
       "      <td id=\"T_3e311_row2_col15\" class=\"data row2 col15\" >0</td>\n",
       "      <td id=\"T_3e311_row2_col16\" class=\"data row2 col16\" >0</td>\n",
       "      <td id=\"T_3e311_row2_col17\" class=\"data row2 col17\" >0</td>\n",
       "      <td id=\"T_3e311_row2_col18\" class=\"data row2 col18\" >0</td>\n",
       "      <td id=\"T_3e311_row2_col19\" class=\"data row2 col19\" >0</td>\n",
       "      <td id=\"T_3e311_row2_col20\" class=\"data row2 col20\" >86</td>\n",
       "      <td id=\"T_3e311_row2_col21\" class=\"data row2 col21\" >189</td>\n",
       "    </tr>\n",
       "    <tr>\n",
       "      <th id=\"T_3e311_level0_row3\" class=\"row_heading level0 row3\" >France14</th>\n",
       "      <td id=\"T_3e311_row3_col0\" class=\"data row3 col0\" >0</td>\n",
       "      <td id=\"T_3e311_row3_col1\" class=\"data row3 col1\" >0</td>\n",
       "      <td id=\"T_3e311_row3_col2\" class=\"data row3 col2\" >0</td>\n",
       "      <td id=\"T_3e311_row3_col3\" class=\"data row3 col3\" >0</td>\n",
       "      <td id=\"T_3e311_row3_col4\" class=\"data row3 col4\" >357</td>\n",
       "      <td id=\"T_3e311_row3_col5\" class=\"data row3 col5\" >0</td>\n",
       "      <td id=\"T_3e311_row3_col6\" class=\"data row3 col6\" >0</td>\n",
       "      <td id=\"T_3e311_row3_col7\" class=\"data row3 col7\" >0</td>\n",
       "      <td id=\"T_3e311_row3_col8\" class=\"data row3 col8\" >0</td>\n",
       "      <td id=\"T_3e311_row3_col9\" class=\"data row3 col9\" >0</td>\n",
       "      <td id=\"T_3e311_row3_col10\" class=\"data row3 col10\" >0</td>\n",
       "      <td id=\"T_3e311_row3_col11\" class=\"data row3 col11\" >0</td>\n",
       "      <td id=\"T_3e311_row3_col12\" class=\"data row3 col12\" >0</td>\n",
       "      <td id=\"T_3e311_row3_col13\" class=\"data row3 col13\" >0</td>\n",
       "      <td id=\"T_3e311_row3_col14\" class=\"data row3 col14\" >0</td>\n",
       "      <td id=\"T_3e311_row3_col15\" class=\"data row3 col15\" >0</td>\n",
       "      <td id=\"T_3e311_row3_col16\" class=\"data row3 col16\" >0</td>\n",
       "      <td id=\"T_3e311_row3_col17\" class=\"data row3 col17\" >0</td>\n",
       "      <td id=\"T_3e311_row3_col18\" class=\"data row3 col18\" >0</td>\n",
       "      <td id=\"T_3e311_row3_col19\" class=\"data row3 col19\" >0</td>\n",
       "      <td id=\"T_3e311_row3_col20\" class=\"data row3 col20\" >0</td>\n",
       "      <td id=\"T_3e311_row3_col21\" class=\"data row3 col21\" >357</td>\n",
       "    </tr>\n",
       "    <tr>\n",
       "      <th id=\"T_3e311_level0_row4\" class=\"row_heading level0 row4\" >FredlyEliona</th>\n",
       "      <td id=\"T_3e311_row4_col0\" class=\"data row4 col0\" >0</td>\n",
       "      <td id=\"T_3e311_row4_col1\" class=\"data row4 col1\" >121</td>\n",
       "      <td id=\"T_3e311_row4_col2\" class=\"data row4 col2\" >0</td>\n",
       "      <td id=\"T_3e311_row4_col3\" class=\"data row4 col3\" >15</td>\n",
       "      <td id=\"T_3e311_row4_col4\" class=\"data row4 col4\" >0</td>\n",
       "      <td id=\"T_3e311_row4_col5\" class=\"data row4 col5\" >41</td>\n",
       "      <td id=\"T_3e311_row4_col6\" class=\"data row4 col6\" >32</td>\n",
       "      <td id=\"T_3e311_row4_col7\" class=\"data row4 col7\" >49</td>\n",
       "      <td id=\"T_3e311_row4_col8\" class=\"data row4 col8\" >98</td>\n",
       "      <td id=\"T_3e311_row4_col9\" class=\"data row4 col9\" >0</td>\n",
       "      <td id=\"T_3e311_row4_col10\" class=\"data row4 col10\" >0</td>\n",
       "      <td id=\"T_3e311_row4_col11\" class=\"data row4 col11\" >27</td>\n",
       "      <td id=\"T_3e311_row4_col12\" class=\"data row4 col12\" >3</td>\n",
       "      <td id=\"T_3e311_row4_col13\" class=\"data row4 col13\" >16</td>\n",
       "      <td id=\"T_3e311_row4_col14\" class=\"data row4 col14\" >0</td>\n",
       "      <td id=\"T_3e311_row4_col15\" class=\"data row4 col15\" >99</td>\n",
       "      <td id=\"T_3e311_row4_col16\" class=\"data row4 col16\" >6</td>\n",
       "      <td id=\"T_3e311_row4_col17\" class=\"data row4 col17\" >0</td>\n",
       "      <td id=\"T_3e311_row4_col18\" class=\"data row4 col18\" >0</td>\n",
       "      <td id=\"T_3e311_row4_col19\" class=\"data row4 col19\" >63</td>\n",
       "      <td id=\"T_3e311_row4_col20\" class=\"data row4 col20\" >48</td>\n",
       "      <td id=\"T_3e311_row4_col21\" class=\"data row4 col21\" >618</td>\n",
       "    </tr>\n",
       "    <tr>\n",
       "      <th id=\"T_3e311_level0_row5\" class=\"row_heading level0 row5\" >billyjolicoeur</th>\n",
       "      <td id=\"T_3e311_row5_col0\" class=\"data row5 col0\" >176</td>\n",
       "      <td id=\"T_3e311_row5_col1\" class=\"data row5 col1\" >26</td>\n",
       "      <td id=\"T_3e311_row5_col2\" class=\"data row5 col2\" >36</td>\n",
       "      <td id=\"T_3e311_row5_col3\" class=\"data row5 col3\" >0</td>\n",
       "      <td id=\"T_3e311_row5_col4\" class=\"data row5 col4\" >0</td>\n",
       "      <td id=\"T_3e311_row5_col5\" class=\"data row5 col5\" >0</td>\n",
       "      <td id=\"T_3e311_row5_col6\" class=\"data row5 col6\" >39</td>\n",
       "      <td id=\"T_3e311_row5_col7\" class=\"data row5 col7\" >181</td>\n",
       "      <td id=\"T_3e311_row5_col8\" class=\"data row5 col8\" >43</td>\n",
       "      <td id=\"T_3e311_row5_col9\" class=\"data row5 col9\" >0</td>\n",
       "      <td id=\"T_3e311_row5_col10\" class=\"data row5 col10\" >36</td>\n",
       "      <td id=\"T_3e311_row5_col11\" class=\"data row5 col11\" >13</td>\n",
       "      <td id=\"T_3e311_row5_col12\" class=\"data row5 col12\" >25</td>\n",
       "      <td id=\"T_3e311_row5_col13\" class=\"data row5 col13\" >26</td>\n",
       "      <td id=\"T_3e311_row5_col14\" class=\"data row5 col14\" >72</td>\n",
       "      <td id=\"T_3e311_row5_col15\" class=\"data row5 col15\" >64</td>\n",
       "      <td id=\"T_3e311_row5_col16\" class=\"data row5 col16\" >163</td>\n",
       "      <td id=\"T_3e311_row5_col17\" class=\"data row5 col17\" >36</td>\n",
       "      <td id=\"T_3e311_row5_col18\" class=\"data row5 col18\" >0</td>\n",
       "      <td id=\"T_3e311_row5_col19\" class=\"data row5 col19\" >25</td>\n",
       "      <td id=\"T_3e311_row5_col20\" class=\"data row5 col20\" >50</td>\n",
       "      <td id=\"T_3e311_row5_col21\" class=\"data row5 col21\" >1011</td>\n",
       "    </tr>\n",
       "    <tr>\n",
       "      <th id=\"T_3e311_level0_row6\" class=\"row_heading level0 row6\" >dchelot</th>\n",
       "      <td id=\"T_3e311_row6_col0\" class=\"data row6 col0\" >0</td>\n",
       "      <td id=\"T_3e311_row6_col1\" class=\"data row6 col1\" >0</td>\n",
       "      <td id=\"T_3e311_row6_col2\" class=\"data row6 col2\" >0</td>\n",
       "      <td id=\"T_3e311_row6_col3\" class=\"data row6 col3\" >0</td>\n",
       "      <td id=\"T_3e311_row6_col4\" class=\"data row6 col4\" >0</td>\n",
       "      <td id=\"T_3e311_row6_col5\" class=\"data row6 col5\" >0</td>\n",
       "      <td id=\"T_3e311_row6_col6\" class=\"data row6 col6\" >0</td>\n",
       "      <td id=\"T_3e311_row6_col7\" class=\"data row6 col7\" >0</td>\n",
       "      <td id=\"T_3e311_row6_col8\" class=\"data row6 col8\" >0</td>\n",
       "      <td id=\"T_3e311_row6_col9\" class=\"data row6 col9\" >0</td>\n",
       "      <td id=\"T_3e311_row6_col10\" class=\"data row6 col10\" >0</td>\n",
       "      <td id=\"T_3e311_row6_col11\" class=\"data row6 col11\" >0</td>\n",
       "      <td id=\"T_3e311_row6_col12\" class=\"data row6 col12\" >0</td>\n",
       "      <td id=\"T_3e311_row6_col13\" class=\"data row6 col13\" >0</td>\n",
       "      <td id=\"T_3e311_row6_col14\" class=\"data row6 col14\" >0</td>\n",
       "      <td id=\"T_3e311_row6_col15\" class=\"data row6 col15\" >0</td>\n",
       "      <td id=\"T_3e311_row6_col16\" class=\"data row6 col16\" >0</td>\n",
       "      <td id=\"T_3e311_row6_col17\" class=\"data row6 col17\" >0</td>\n",
       "      <td id=\"T_3e311_row6_col18\" class=\"data row6 col18\" >344</td>\n",
       "      <td id=\"T_3e311_row6_col19\" class=\"data row6 col19\" >0</td>\n",
       "      <td id=\"T_3e311_row6_col20\" class=\"data row6 col20\" >0</td>\n",
       "      <td id=\"T_3e311_row6_col21\" class=\"data row6 col21\" >344</td>\n",
       "    </tr>\n",
       "    <tr>\n",
       "      <th id=\"T_3e311_level0_row7\" class=\"row_heading level0 row7\" >despeignes</th>\n",
       "      <td id=\"T_3e311_row7_col0\" class=\"data row7 col0\" >0</td>\n",
       "      <td id=\"T_3e311_row7_col1\" class=\"data row7 col1\" >0</td>\n",
       "      <td id=\"T_3e311_row7_col2\" class=\"data row7 col2\" >0</td>\n",
       "      <td id=\"T_3e311_row7_col3\" class=\"data row7 col3\" >0</td>\n",
       "      <td id=\"T_3e311_row7_col4\" class=\"data row7 col4\" >0</td>\n",
       "      <td id=\"T_3e311_row7_col5\" class=\"data row7 col5\" >0</td>\n",
       "      <td id=\"T_3e311_row7_col6\" class=\"data row7 col6\" >8</td>\n",
       "      <td id=\"T_3e311_row7_col7\" class=\"data row7 col7\" >0</td>\n",
       "      <td id=\"T_3e311_row7_col8\" class=\"data row7 col8\" >0</td>\n",
       "      <td id=\"T_3e311_row7_col9\" class=\"data row7 col9\" >0</td>\n",
       "      <td id=\"T_3e311_row7_col10\" class=\"data row7 col10\" >0</td>\n",
       "      <td id=\"T_3e311_row7_col11\" class=\"data row7 col11\" >0</td>\n",
       "      <td id=\"T_3e311_row7_col12\" class=\"data row7 col12\" >0</td>\n",
       "      <td id=\"T_3e311_row7_col13\" class=\"data row7 col13\" >0</td>\n",
       "      <td id=\"T_3e311_row7_col14\" class=\"data row7 col14\" >0</td>\n",
       "      <td id=\"T_3e311_row7_col15\" class=\"data row7 col15\" >0</td>\n",
       "      <td id=\"T_3e311_row7_col16\" class=\"data row7 col16\" >0</td>\n",
       "      <td id=\"T_3e311_row7_col17\" class=\"data row7 col17\" >0</td>\n",
       "      <td id=\"T_3e311_row7_col18\" class=\"data row7 col18\" >0</td>\n",
       "      <td id=\"T_3e311_row7_col19\" class=\"data row7 col19\" >0</td>\n",
       "      <td id=\"T_3e311_row7_col20\" class=\"data row7 col20\" >0</td>\n",
       "      <td id=\"T_3e311_row7_col21\" class=\"data row7 col21\" >8</td>\n",
       "    </tr>\n",
       "    <tr>\n",
       "      <th id=\"T_3e311_level0_row8\" class=\"row_heading level0 row8\" >fbyron</th>\n",
       "      <td id=\"T_3e311_row8_col0\" class=\"data row8 col0\" >34</td>\n",
       "      <td id=\"T_3e311_row8_col1\" class=\"data row8 col1\" >42</td>\n",
       "      <td id=\"T_3e311_row8_col2\" class=\"data row8 col2\" >7</td>\n",
       "      <td id=\"T_3e311_row8_col3\" class=\"data row8 col3\" >41</td>\n",
       "      <td id=\"T_3e311_row8_col4\" class=\"data row8 col4\" >0</td>\n",
       "      <td id=\"T_3e311_row8_col5\" class=\"data row8 col5\" >0</td>\n",
       "      <td id=\"T_3e311_row8_col6\" class=\"data row8 col6\" >0</td>\n",
       "      <td id=\"T_3e311_row8_col7\" class=\"data row8 col7\" >0</td>\n",
       "      <td id=\"T_3e311_row8_col8\" class=\"data row8 col8\" >0</td>\n",
       "      <td id=\"T_3e311_row8_col9\" class=\"data row8 col9\" >0</td>\n",
       "      <td id=\"T_3e311_row8_col10\" class=\"data row8 col10\" >0</td>\n",
       "      <td id=\"T_3e311_row8_col11\" class=\"data row8 col11\" >0</td>\n",
       "      <td id=\"T_3e311_row8_col12\" class=\"data row8 col12\" >0</td>\n",
       "      <td id=\"T_3e311_row8_col13\" class=\"data row8 col13\" >21</td>\n",
       "      <td id=\"T_3e311_row8_col14\" class=\"data row8 col14\" >0</td>\n",
       "      <td id=\"T_3e311_row8_col15\" class=\"data row8 col15\" >0</td>\n",
       "      <td id=\"T_3e311_row8_col16\" class=\"data row8 col16\" >20</td>\n",
       "      <td id=\"T_3e311_row8_col17\" class=\"data row8 col17\" >0</td>\n",
       "      <td id=\"T_3e311_row8_col18\" class=\"data row8 col18\" >0</td>\n",
       "      <td id=\"T_3e311_row8_col19\" class=\"data row8 col19\" >0</td>\n",
       "      <td id=\"T_3e311_row8_col20\" class=\"data row8 col20\" >0</td>\n",
       "      <td id=\"T_3e311_row8_col21\" class=\"data row8 col21\" >165</td>\n",
       "    </tr>\n",
       "    <tr>\n",
       "      <th id=\"T_3e311_level0_row9\" class=\"row_heading level0 row9\" >mcazy</th>\n",
       "      <td id=\"T_3e311_row9_col0\" class=\"data row9 col0\" >0</td>\n",
       "      <td id=\"T_3e311_row9_col1\" class=\"data row9 col1\" >0</td>\n",
       "      <td id=\"T_3e311_row9_col2\" class=\"data row9 col2\" >0</td>\n",
       "      <td id=\"T_3e311_row9_col3\" class=\"data row9 col3\" >0</td>\n",
       "      <td id=\"T_3e311_row9_col4\" class=\"data row9 col4\" >0</td>\n",
       "      <td id=\"T_3e311_row9_col5\" class=\"data row9 col5\" >0</td>\n",
       "      <td id=\"T_3e311_row9_col6\" class=\"data row9 col6\" >15</td>\n",
       "      <td id=\"T_3e311_row9_col7\" class=\"data row9 col7\" >0</td>\n",
       "      <td id=\"T_3e311_row9_col8\" class=\"data row9 col8\" >0</td>\n",
       "      <td id=\"T_3e311_row9_col9\" class=\"data row9 col9\" >0</td>\n",
       "      <td id=\"T_3e311_row9_col10\" class=\"data row9 col10\" >0</td>\n",
       "      <td id=\"T_3e311_row9_col11\" class=\"data row9 col11\" >0</td>\n",
       "      <td id=\"T_3e311_row9_col12\" class=\"data row9 col12\" >0</td>\n",
       "      <td id=\"T_3e311_row9_col13\" class=\"data row9 col13\" >0</td>\n",
       "      <td id=\"T_3e311_row9_col14\" class=\"data row9 col14\" >0</td>\n",
       "      <td id=\"T_3e311_row9_col15\" class=\"data row9 col15\" >0</td>\n",
       "      <td id=\"T_3e311_row9_col16\" class=\"data row9 col16\" >0</td>\n",
       "      <td id=\"T_3e311_row9_col17\" class=\"data row9 col17\" >0</td>\n",
       "      <td id=\"T_3e311_row9_col18\" class=\"data row9 col18\" >0</td>\n",
       "      <td id=\"T_3e311_row9_col19\" class=\"data row9 col19\" >0</td>\n",
       "      <td id=\"T_3e311_row9_col20\" class=\"data row9 col20\" >0</td>\n",
       "      <td id=\"T_3e311_row9_col21\" class=\"data row9 col21\" >15</td>\n",
       "    </tr>\n",
       "    <tr>\n",
       "      <th id=\"T_3e311_level0_row10\" class=\"row_heading level0 row10\" >pggd1234</th>\n",
       "      <td id=\"T_3e311_row10_col0\" class=\"data row10 col0\" >6</td>\n",
       "      <td id=\"T_3e311_row10_col1\" class=\"data row10 col1\" >0</td>\n",
       "      <td id=\"T_3e311_row10_col2\" class=\"data row10 col2\" >0</td>\n",
       "      <td id=\"T_3e311_row10_col3\" class=\"data row10 col3\" >23</td>\n",
       "      <td id=\"T_3e311_row10_col4\" class=\"data row10 col4\" >17</td>\n",
       "      <td id=\"T_3e311_row10_col5\" class=\"data row10 col5\" >93</td>\n",
       "      <td id=\"T_3e311_row10_col6\" class=\"data row10 col6\" >51</td>\n",
       "      <td id=\"T_3e311_row10_col7\" class=\"data row10 col7\" >0</td>\n",
       "      <td id=\"T_3e311_row10_col8\" class=\"data row10 col8\" >0</td>\n",
       "      <td id=\"T_3e311_row10_col9\" class=\"data row10 col9\" >8</td>\n",
       "      <td id=\"T_3e311_row10_col10\" class=\"data row10 col10\" >0</td>\n",
       "      <td id=\"T_3e311_row10_col11\" class=\"data row10 col11\" >0</td>\n",
       "      <td id=\"T_3e311_row10_col12\" class=\"data row10 col12\" >0</td>\n",
       "      <td id=\"T_3e311_row10_col13\" class=\"data row10 col13\" >12</td>\n",
       "      <td id=\"T_3e311_row10_col14\" class=\"data row10 col14\" >0</td>\n",
       "      <td id=\"T_3e311_row10_col15\" class=\"data row10 col15\" >0</td>\n",
       "      <td id=\"T_3e311_row10_col16\" class=\"data row10 col16\" >0</td>\n",
       "      <td id=\"T_3e311_row10_col17\" class=\"data row10 col17\" >0</td>\n",
       "      <td id=\"T_3e311_row10_col18\" class=\"data row10 col18\" >0</td>\n",
       "      <td id=\"T_3e311_row10_col19\" class=\"data row10 col19\" >0</td>\n",
       "      <td id=\"T_3e311_row10_col20\" class=\"data row10 col20\" >166</td>\n",
       "      <td id=\"T_3e311_row10_col21\" class=\"data row10 col21\" >376</td>\n",
       "    </tr>\n",
       "    <tr>\n",
       "      <th id=\"T_3e311_level0_row11\" class=\"row_heading level0 row11\" >yvelise88</th>\n",
       "      <td id=\"T_3e311_row11_col0\" class=\"data row11 col0\" >0</td>\n",
       "      <td id=\"T_3e311_row11_col1\" class=\"data row11 col1\" >0</td>\n",
       "      <td id=\"T_3e311_row11_col2\" class=\"data row11 col2\" >0</td>\n",
       "      <td id=\"T_3e311_row11_col3\" class=\"data row11 col3\" >0</td>\n",
       "      <td id=\"T_3e311_row11_col4\" class=\"data row11 col4\" >0</td>\n",
       "      <td id=\"T_3e311_row11_col5\" class=\"data row11 col5\" >0</td>\n",
       "      <td id=\"T_3e311_row11_col6\" class=\"data row11 col6\" >14</td>\n",
       "      <td id=\"T_3e311_row11_col7\" class=\"data row11 col7\" >0</td>\n",
       "      <td id=\"T_3e311_row11_col8\" class=\"data row11 col8\" >0</td>\n",
       "      <td id=\"T_3e311_row11_col9\" class=\"data row11 col9\" >0</td>\n",
       "      <td id=\"T_3e311_row11_col10\" class=\"data row11 col10\" >0</td>\n",
       "      <td id=\"T_3e311_row11_col11\" class=\"data row11 col11\" >0</td>\n",
       "      <td id=\"T_3e311_row11_col12\" class=\"data row11 col12\" >0</td>\n",
       "      <td id=\"T_3e311_row11_col13\" class=\"data row11 col13\" >0</td>\n",
       "      <td id=\"T_3e311_row11_col14\" class=\"data row11 col14\" >0</td>\n",
       "      <td id=\"T_3e311_row11_col15\" class=\"data row11 col15\" >0</td>\n",
       "      <td id=\"T_3e311_row11_col16\" class=\"data row11 col16\" >0</td>\n",
       "      <td id=\"T_3e311_row11_col17\" class=\"data row11 col17\" >0</td>\n",
       "      <td id=\"T_3e311_row11_col18\" class=\"data row11 col18\" >0</td>\n",
       "      <td id=\"T_3e311_row11_col19\" class=\"data row11 col19\" >0</td>\n",
       "      <td id=\"T_3e311_row11_col20\" class=\"data row11 col20\" >0</td>\n",
       "      <td id=\"T_3e311_row11_col21\" class=\"data row11 col21\" >14</td>\n",
       "    </tr>\n",
       "    <tr>\n",
       "      <th id=\"T_3e311_level0_row12\" class=\"row_heading level0 row12\" >Total</th>\n",
       "      <td id=\"T_3e311_row12_col0\" class=\"data row12 col0\" >254</td>\n",
       "      <td id=\"T_3e311_row12_col1\" class=\"data row12 col1\" >198</td>\n",
       "      <td id=\"T_3e311_row12_col2\" class=\"data row12 col2\" >66</td>\n",
       "      <td id=\"T_3e311_row12_col3\" class=\"data row12 col3\" >79</td>\n",
       "      <td id=\"T_3e311_row12_col4\" class=\"data row12 col4\" >374</td>\n",
       "      <td id=\"T_3e311_row12_col5\" class=\"data row12 col5\" >235</td>\n",
       "      <td id=\"T_3e311_row12_col6\" class=\"data row12 col6\" >190</td>\n",
       "      <td id=\"T_3e311_row12_col7\" class=\"data row12 col7\" >237</td>\n",
       "      <td id=\"T_3e311_row12_col8\" class=\"data row12 col8\" >141</td>\n",
       "      <td id=\"T_3e311_row12_col9\" class=\"data row12 col9\" >71</td>\n",
       "      <td id=\"T_3e311_row12_col10\" class=\"data row12 col10\" >36</td>\n",
       "      <td id=\"T_3e311_row12_col11\" class=\"data row12 col11\" >40</td>\n",
       "      <td id=\"T_3e311_row12_col12\" class=\"data row12 col12\" >39</td>\n",
       "      <td id=\"T_3e311_row12_col13\" class=\"data row12 col13\" >107</td>\n",
       "      <td id=\"T_3e311_row12_col14\" class=\"data row12 col14\" >72</td>\n",
       "      <td id=\"T_3e311_row12_col15\" class=\"data row12 col15\" >167</td>\n",
       "      <td id=\"T_3e311_row12_col16\" class=\"data row12 col16\" >189</td>\n",
       "      <td id=\"T_3e311_row12_col17\" class=\"data row12 col17\" >36</td>\n",
       "      <td id=\"T_3e311_row12_col18\" class=\"data row12 col18\" >344</td>\n",
       "      <td id=\"T_3e311_row12_col19\" class=\"data row12 col19\" >115</td>\n",
       "      <td id=\"T_3e311_row12_col20\" class=\"data row12 col20\" >380</td>\n",
       "      <td id=\"T_3e311_row12_col21\" class=\"data row12 col21\" >3370</td>\n",
       "    </tr>\n",
       "  </tbody>\n",
       "</table>\n"
      ],
      "text/plain": [
       "<pandas.io.formats.style.Styler at 0x11d042650>"
      ]
     },
     "execution_count": 16,
     "metadata": {},
     "output_type": "execute_result"
    },
    {
     "name": "stdout",
     "output_type": "stream",
     "text": [
      "-----------------------------------------------------------------------------------------------------\n"
     ]
    },
    {
     "data": {
      "text/html": [
       "<style type=\"text/css\">\n",
       "#T_1bd81_row0_col1, #T_1bd81_row1_col2, #T_1bd81_row2_col0, #T_1bd81_row3_col0, #T_1bd81_row3_col1, #T_1bd81_row3_col2, #T_1bd81_row3_col3 {\n",
       "  background-color: yellow;\n",
       "}\n",
       "</style>\n",
       "<table id=\"T_1bd81\">\n",
       "  <thead>\n",
       "    <tr>\n",
       "      <th class=\"index_name level0\" >commune</th>\n",
       "      <th id=\"T_1bd81_level0_col0\" class=\"col_heading level0 col0\" >Desdunes</th>\n",
       "      <th id=\"T_1bd81_level0_col1\" class=\"col_heading level0 col1\" >Dessalines</th>\n",
       "      <th id=\"T_1bd81_level0_col2\" class=\"col_heading level0 col2\" >Saint-Marc</th>\n",
       "      <th id=\"T_1bd81_level0_col3\" class=\"col_heading level0 col3\" >Total</th>\n",
       "    </tr>\n",
       "    <tr>\n",
       "      <th class=\"index_name level0\" >username</th>\n",
       "      <th class=\"blank col0\" >&nbsp;</th>\n",
       "      <th class=\"blank col1\" >&nbsp;</th>\n",
       "      <th class=\"blank col2\" >&nbsp;</th>\n",
       "      <th class=\"blank col3\" >&nbsp;</th>\n",
       "    </tr>\n",
       "  </thead>\n",
       "  <tbody>\n",
       "    <tr>\n",
       "      <th id=\"T_1bd81_level0_row0\" class=\"row_heading level0 row0\" >France14</th>\n",
       "      <td id=\"T_1bd81_row0_col0\" class=\"data row0 col0\" >0</td>\n",
       "      <td id=\"T_1bd81_row0_col1\" class=\"data row0 col1\" >17</td>\n",
       "      <td id=\"T_1bd81_row0_col2\" class=\"data row0 col2\" >0</td>\n",
       "      <td id=\"T_1bd81_row0_col3\" class=\"data row0 col3\" >17</td>\n",
       "    </tr>\n",
       "    <tr>\n",
       "      <th id=\"T_1bd81_level0_row1\" class=\"row_heading level0 row1\" >dchelot</th>\n",
       "      <td id=\"T_1bd81_row1_col0\" class=\"data row1 col0\" >0</td>\n",
       "      <td id=\"T_1bd81_row1_col1\" class=\"data row1 col1\" >0</td>\n",
       "      <td id=\"T_1bd81_row1_col2\" class=\"data row1 col2\" >42</td>\n",
       "      <td id=\"T_1bd81_row1_col3\" class=\"data row1 col3\" >42</td>\n",
       "    </tr>\n",
       "    <tr>\n",
       "      <th id=\"T_1bd81_level0_row2\" class=\"row_heading level0 row2\" >fbyron</th>\n",
       "      <td id=\"T_1bd81_row2_col0\" class=\"data row2 col0\" >23</td>\n",
       "      <td id=\"T_1bd81_row2_col1\" class=\"data row2 col1\" >0</td>\n",
       "      <td id=\"T_1bd81_row2_col2\" class=\"data row2 col2\" >0</td>\n",
       "      <td id=\"T_1bd81_row2_col3\" class=\"data row2 col3\" >23</td>\n",
       "    </tr>\n",
       "    <tr>\n",
       "      <th id=\"T_1bd81_level0_row3\" class=\"row_heading level0 row3\" >Total</th>\n",
       "      <td id=\"T_1bd81_row3_col0\" class=\"data row3 col0\" >23</td>\n",
       "      <td id=\"T_1bd81_row3_col1\" class=\"data row3 col1\" >17</td>\n",
       "      <td id=\"T_1bd81_row3_col2\" class=\"data row3 col2\" >42</td>\n",
       "      <td id=\"T_1bd81_row3_col3\" class=\"data row3 col3\" >82</td>\n",
       "    </tr>\n",
       "  </tbody>\n",
       "</table>\n"
      ],
      "text/plain": [
       "<pandas.io.formats.style.Styler at 0x11d17fd00>"
      ]
     },
     "execution_count": 16,
     "metadata": {},
     "output_type": "execute_result"
    },
    {
     "name": "stdout",
     "output_type": "stream",
     "text": [
      "-----------------------------------------------------------------------------------------------------\n"
     ]
    },
    {
     "data": {
      "text/html": [
       "<style type=\"text/css\">\n",
       "#T_389b9_row0_col0, #T_389b9_row0_col1, #T_389b9_row0_col2, #T_389b9_row0_col3, #T_389b9_row0_col4, #T_389b9_row1_col0, #T_389b9_row1_col1, #T_389b9_row1_col2, #T_389b9_row1_col3, #T_389b9_row1_col4 {\n",
       "  background-color: yellow;\n",
       "}\n",
       "</style>\n",
       "<table id=\"T_389b9\">\n",
       "  <thead>\n",
       "    <tr>\n",
       "      <th class=\"index_name level0\" >commune</th>\n",
       "      <th id=\"T_389b9_level0_col0\" class=\"col_heading level0 col0\" >Grande Saline</th>\n",
       "      <th id=\"T_389b9_level0_col1\" class=\"col_heading level0 col1\" >Pétionville</th>\n",
       "      <th id=\"T_389b9_level0_col2\" class=\"col_heading level0 col2\" >Saint-Marc</th>\n",
       "      <th id=\"T_389b9_level0_col3\" class=\"col_heading level0 col3\" >Tabarre</th>\n",
       "      <th id=\"T_389b9_level0_col4\" class=\"col_heading level0 col4\" >Total</th>\n",
       "    </tr>\n",
       "    <tr>\n",
       "      <th class=\"index_name level0\" >username</th>\n",
       "      <th class=\"blank col0\" >&nbsp;</th>\n",
       "      <th class=\"blank col1\" >&nbsp;</th>\n",
       "      <th class=\"blank col2\" >&nbsp;</th>\n",
       "      <th class=\"blank col3\" >&nbsp;</th>\n",
       "      <th class=\"blank col4\" >&nbsp;</th>\n",
       "    </tr>\n",
       "  </thead>\n",
       "  <tbody>\n",
       "    <tr>\n",
       "      <th id=\"T_389b9_level0_row0\" class=\"row_heading level0 row0\" >fbyron</th>\n",
       "      <td id=\"T_389b9_row0_col0\" class=\"data row0 col0\" >8</td>\n",
       "      <td id=\"T_389b9_row0_col1\" class=\"data row0 col1\" >29</td>\n",
       "      <td id=\"T_389b9_row0_col2\" class=\"data row0 col2\" >4</td>\n",
       "      <td id=\"T_389b9_row0_col3\" class=\"data row0 col3\" >21</td>\n",
       "      <td id=\"T_389b9_row0_col4\" class=\"data row0 col4\" >62</td>\n",
       "    </tr>\n",
       "    <tr>\n",
       "      <th id=\"T_389b9_level0_row1\" class=\"row_heading level0 row1\" >Total</th>\n",
       "      <td id=\"T_389b9_row1_col0\" class=\"data row1 col0\" >8</td>\n",
       "      <td id=\"T_389b9_row1_col1\" class=\"data row1 col1\" >29</td>\n",
       "      <td id=\"T_389b9_row1_col2\" class=\"data row1 col2\" >4</td>\n",
       "      <td id=\"T_389b9_row1_col3\" class=\"data row1 col3\" >21</td>\n",
       "      <td id=\"T_389b9_row1_col4\" class=\"data row1 col4\" >62</td>\n",
       "    </tr>\n",
       "  </tbody>\n",
       "</table>\n"
      ],
      "text/plain": [
       "<pandas.io.formats.style.Styler at 0x11d07e5f0>"
      ]
     },
     "execution_count": 16,
     "metadata": {},
     "output_type": "execute_result"
    },
    {
     "name": "stderr",
     "output_type": "stream",
     "text": [
      "/usr/local/lib/python3.10/site-packages/dataframe_image/_pandas_accessor.py:69: FutureWarning: this method is deprecated in favour of `Styler.to_html()`\n",
      "  html = '<div>' + obj.render() + '</div>'\n",
      "objc[26838]: Class WebSwapCGLLayer is implemented in both /System/Library/Frameworks/WebKit.framework/Versions/A/Frameworks/WebCore.framework/Versions/A/Frameworks/libANGLE-shared.dylib (0x7ffa506f5318) and /Applications/Google Chrome.app/Contents/Frameworks/Google Chrome Framework.framework/Versions/103.0.5060.114/Libraries/libGLESv2.dylib (0x111ee4d18). One of the two will be used. Which one is undefined.\n",
      "[0711/105326.702900:INFO:headless_shell.cc(660)] Written to file /var/folders/7v/rs0k237d6nj3vdxfc1h7xtcw0000gn/T/tmpmcr3zgkm/temp.png.\n",
      "objc[26852]: Class WebSwapCGLLayer is implemented in both /System/Library/Frameworks/WebKit.framework/Versions/A/Frameworks/WebCore.framework/Versions/A/Frameworks/libANGLE-shared.dylib (0x7ffa506f5318) and /Applications/Google Chrome.app/Contents/Frameworks/Google Chrome Framework.framework/Versions/103.0.5060.114/Libraries/libGLESv2.dylib (0x10b7ead18). One of the two will be used. Which one is undefined.\n",
      "[0711/105328.774719:INFO:headless_shell.cc(660)] Written to file /var/folders/7v/rs0k237d6nj3vdxfc1h7xtcw0000gn/T/tmp0i99ey62/temp.png.\n",
      "objc[26867]: Class WebSwapCGLLayer is implemented in both /System/Library/Frameworks/WebKit.framework/Versions/A/Frameworks/WebCore.framework/Versions/A/Frameworks/libANGLE-shared.dylib (0x7ffa506f5318) and /Applications/Google Chrome.app/Contents/Frameworks/Google Chrome Framework.framework/Versions/103.0.5060.114/Libraries/libGLESv2.dylib (0x110a36d18). One of the two will be used. Which one is undefined.\n",
      "[0711/105331.407105:INFO:headless_shell.cc(660)] Written to file /var/folders/7v/rs0k237d6nj3vdxfc1h7xtcw0000gn/T/tmpefy0qmbu/temp.png.\n",
      "objc[26877]: Class WebSwapCGLLayer is implemented in both /System/Library/Frameworks/WebKit.framework/Versions/A/Frameworks/WebCore.framework/Versions/A/Frameworks/libANGLE-shared.dylib (0x7ffa506f5318) and /Applications/Google Chrome.app/Contents/Frameworks/Google Chrome Framework.framework/Versions/103.0.5060.114/Libraries/libGLESv2.dylib (0x1057dfd18). One of the two will be used. Which one is undefined.\n",
      "[0711/105333.750651:INFO:headless_shell.cc(660)] Written to file /var/folders/7v/rs0k237d6nj3vdxfc1h7xtcw0000gn/T/tmp4mtp_lw8/temp.png.\n"
     ]
    }
   ],
   "source": [
    "options.display.latex.repr = True\n",
    "\n",
    "#ben_table = ben_byAgent.pivot_table(values='id_patient',index='username',columns='commune',aggfunc='count',fill_value=0,margins=True, margins_name='Total')\n",
    "ben_table = validation_pivot(ben_byAgent)\n",
    "ben_table = ben_table.style.highlight_max()\n",
    "ben_table\n",
    "\n",
    "print('-----------------------------------------------------------------------------------------------------')\n",
    "\n",
    "ben_table_week = validation_pivot(ben_byAgent_week)\n",
    "ben_table_week = ben_table_week.style.highlight_max()\n",
    "ben_table_week\n",
    "\n",
    "\n",
    "print('-----------------------------------------------------------------------------------------------------')\n",
    "\n",
    "#parenting_table = parenting_byAgent.pivot_table(values='id_patient',index='username',columns='commune',aggfunc='count',fill_value=0,margins=True, margins_name='Total')\n",
    "parenting_table = validation_pivot(parenting_byAgent)\n",
    "parenting_table = parenting_table.style.highlight_max()\n",
    "parenting_table\n",
    "\n",
    "export(ben_table,'ben_table.png')\n",
    "export(ben_table_week, 'ben_table_week.png')\n",
    "export(parenting_table,'parenting_table.png')"
   ]
  },
  {
   "cell_type": "markdown",
   "metadata": {},
   "source": [
    "# 3 component "
   ]
  },
  {
   "cell_type": "code",
   "execution_count": 17,
   "metadata": {},
   "outputs": [
    {
     "data": {
      "text/html": [
       "<style type=\"text/css\">\n",
       "#T_290f1_row0_col0, #T_290f1_row0_col1 {\n",
       "  background-color: yellow;\n",
       "}\n",
       "</style>\n",
       "<table id=\"T_290f1\">\n",
       "  <thead>\n",
       "    <tr>\n",
       "      <th class=\"blank level0\" >&nbsp;</th>\n",
       "      <th id=\"T_290f1_level0_col0\" class=\"col_heading level0 col0\" >Nombre de fille</th>\n",
       "      <th id=\"T_290f1_level0_col1\" class=\"col_heading level0 col1\" >Nombre de presence</th>\n",
       "    </tr>\n",
       "  </thead>\n",
       "  <tbody>\n",
       "    <tr>\n",
       "      <th id=\"T_290f1_level0_row0\" class=\"row_heading level0 row0\" >0</th>\n",
       "      <td id=\"T_290f1_row0_col0\" class=\"data row0 col0\" >3370</td>\n",
       "      <td id=\"T_290f1_row0_col1\" class=\"data row0 col1\" >60762</td>\n",
       "    </tr>\n",
       "  </tbody>\n",
       "</table>\n"
      ],
      "text/plain": [
       "<pandas.io.formats.style.Styler at 0x11d21f2e0>"
      ]
     },
     "execution_count": 17,
     "metadata": {},
     "output_type": "execute_result"
    },
    {
     "name": "stdout",
     "output_type": "stream",
     "text": [
      "-----------------------------------------------------------------------\n"
     ]
    },
    {
     "data": {
      "text/html": [
       "<style type=\"text/css\">\n",
       "#T_f48a8_row0_col0, #T_f48a8_row0_col1 {\n",
       "  background-color: yellow;\n",
       "}\n",
       "</style>\n",
       "<table id=\"T_f48a8\">\n",
       "  <thead>\n",
       "    <tr>\n",
       "      <th class=\"blank level0\" >&nbsp;</th>\n",
       "      <th id=\"T_f48a8_level0_col0\" class=\"col_heading level0 col0\" >Nombre de fille</th>\n",
       "      <th id=\"T_f48a8_level0_col1\" class=\"col_heading level0 col1\" >Nombre de presence</th>\n",
       "    </tr>\n",
       "  </thead>\n",
       "  <tbody>\n",
       "    <tr>\n",
       "      <th id=\"T_f48a8_level0_row0\" class=\"row_heading level0 row0\" >0</th>\n",
       "      <td id=\"T_f48a8_row0_col0\" class=\"data row0 col0\" >82</td>\n",
       "      <td id=\"T_f48a8_row0_col1\" class=\"data row0 col1\" >475</td>\n",
       "    </tr>\n",
       "  </tbody>\n",
       "</table>\n"
      ],
      "text/plain": [
       "<pandas.io.formats.style.Styler at 0x11d1f9d20>"
      ]
     },
     "execution_count": 17,
     "metadata": {},
     "output_type": "execute_result"
    },
    {
     "name": "stdout",
     "output_type": "stream",
     "text": [
      "-----------------------------------------------------------------------\n"
     ]
    },
    {
     "data": {
      "text/html": [
       "<style type=\"text/css\">\n",
       "#T_47565_row0_col0, #T_47565_row0_col1 {\n",
       "  background-color: yellow;\n",
       "}\n",
       "</style>\n",
       "<table id=\"T_47565\">\n",
       "  <thead>\n",
       "    <tr>\n",
       "      <th class=\"blank level0\" >&nbsp;</th>\n",
       "      <th id=\"T_47565_level0_col0\" class=\"col_heading level0 col0\" >Nombre de fille/parent parenting</th>\n",
       "      <th id=\"T_47565_level0_col1\" class=\"col_heading level0 col1\" >Nombre de presence</th>\n",
       "    </tr>\n",
       "  </thead>\n",
       "  <tbody>\n",
       "    <tr>\n",
       "      <th id=\"T_47565_level0_row0\" class=\"row_heading level0 row0\" >0</th>\n",
       "      <td id=\"T_47565_row0_col0\" class=\"data row0 col0\" >62</td>\n",
       "      <td id=\"T_47565_row0_col1\" class=\"data row0 col1\" >547</td>\n",
       "    </tr>\n",
       "  </tbody>\n",
       "</table>\n"
      ],
      "text/plain": [
       "<pandas.io.formats.style.Styler at 0x11cd384c0>"
      ]
     },
     "execution_count": 17,
     "metadata": {},
     "output_type": "execute_result"
    },
    {
     "name": "stderr",
     "output_type": "stream",
     "text": [
      "objc[26893]: Class WebSwapCGLLayer is implemented in both /System/Library/Frameworks/WebKit.framework/Versions/A/Frameworks/WebCore.framework/Versions/A/Frameworks/libANGLE-shared.dylib (0x7ffa506f5318) and /Applications/Google Chrome.app/Contents/Frameworks/Google Chrome Framework.framework/Versions/103.0.5060.114/Libraries/libGLESv2.dylib (0x10e35bd18). One of the two will be used. Which one is undefined.\n",
      "[0711/105336.123398:INFO:headless_shell.cc(660)] Written to file /var/folders/7v/rs0k237d6nj3vdxfc1h7xtcw0000gn/T/tmpbds515ir/temp.png.\n",
      "objc[26904]: Class WebSwapCGLLayer is implemented in both /System/Library/Frameworks/WebKit.framework/Versions/A/Frameworks/WebCore.framework/Versions/A/Frameworks/libANGLE-shared.dylib (0x7ffa506f5318) and /Applications/Google Chrome.app/Contents/Frameworks/Google Chrome Framework.framework/Versions/103.0.5060.114/Libraries/libGLESv2.dylib (0x10a1e5d18). One of the two will be used. Which one is undefined.\n",
      "[0711/105337.750192:INFO:headless_shell.cc(660)] Written to file /var/folders/7v/rs0k237d6nj3vdxfc1h7xtcw0000gn/T/tmpixsl8001/temp.png.\n",
      "objc[26920]: Class WebSwapCGLLayer is implemented in both /System/Library/Frameworks/WebKit.framework/Versions/A/Frameworks/WebCore.framework/Versions/A/Frameworks/libANGLE-shared.dylib (0x7ffa506f5318) and /Applications/Google Chrome.app/Contents/Frameworks/Google Chrome Framework.framework/Versions/103.0.5060.114/Libraries/libGLESv2.dylib (0x109424d18). One of the two will be used. Which one is undefined.\n",
      "[0711/105339.823897:INFO:headless_shell.cc(660)] Written to file /var/folders/7v/rs0k237d6nj3vdxfc1h7xtcw0000gn/T/tmp_7siol29/temp.png.\n"
     ]
    }
   ],
   "source": [
    "options.display.latex.repr = True\n",
    "\n",
    "curriculum_result = DataFrame(\n",
    "    [\n",
    "        {'Nombre de fille': ben_byAgent.id_patient.count(),\n",
    "        'Nombre de presence': pres_byAgent.nombre_pres.sum()}\n",
    "    ]\n",
    ")\n",
    "curriculum_result.style.highlight_max()\n",
    "\n",
    "print('-----------------------------------------------------------------------')\n",
    "\n",
    "curriculum_result_week = DataFrame(\n",
    "    [\n",
    "        {'Nombre de fille': ben_byAgent_week.id_patient.count(),\n",
    "        'Nombre de presence': pres_byAgent_week.nombre_pres.sum()}\n",
    "    ]\n",
    ")\n",
    "curriculum_result_week.style.highlight_max()\n",
    "\n",
    "\n",
    "print('-----------------------------------------------------------------------')\n",
    "\n",
    "parenting_result = DataFrame(\n",
    "    [\n",
    "        {'Nombre de fille/parent parenting': parenting_byAgent.id_patient.count(),\n",
    "        'Nombre de presence': pres_parenting.nombre_pres.sum()}\n",
    "    ]\n",
    ")\n",
    "parenting_result.style.highlight_max()\n",
    "\n",
    "export(curriculum_result,'curriculum_result.png')\n",
    "export(curriculum_result_week,'curriculum_result_week.png')\n",
    "export(parenting_result,'parenting_result.png')"
   ]
  },
  {
   "cell_type": "markdown",
   "metadata": {},
   "source": [
    "# Report"
   ]
  },
  {
   "cell_type": "code",
   "execution_count": null,
   "metadata": {},
   "outputs": [],
   "source": [
    "all_report = ExcelWriter(f\"rapport_performance.xlsx\",engine=\"openpyxl\")\n",
    "curriculum_result.to_excel(all_report,sheet_name=\"resultat_curriculum\",index=False,na_rep=\"\")\n",
    "pres_byAgent.to_excel(all_report,sheet_name=\"presence_agent_curriculum\",index=False,na_rep=\"\")\n",
    "ben_table.to_excel(all_report,sheet_name=\"ben_communes_curriculum\",index=True,na_rep=\"\")\n",
    "parenting_result.to_excel(all_report,sheet_name=\"resultat_parenting\",index=False,na_rep=\"\")\n",
    "pres_parenting.to_excel(all_report,sheet_name=\"pres_agent_parenting\",index=False,na_rep=\"\")\n",
    "parenting_table.to_excel(all_report,sheet_name=\"ben_communes_parenting\",index=True,na_rep=\"\")\n",
    "all_report.save() "
   ]
  },
  {
   "cell_type": "code",
   "execution_count": null,
   "metadata": {},
   "outputs": [],
   "source": [
    "week_report = ExcelWriter(f\"rapport_pour_la_semaine.xlsx\",engine=\"openpyxl\")\n",
    "curriculum_result_week.to_excel(week_report,sheet_name=\"resultat_curriculum\",index=False,na_rep=\"\")\n",
    "pres_byAgent_week.to_excel(week_report,sheet_name=\"presence_agent_curriculum\",index=False,na_rep=\"\")\n",
    "ben_table_week.to_excel(week_report,sheet_name=\"ben_communes_curriculum\",index=True,na_rep=\"\")\n",
    "week_report.save() "
   ]
  }
 ],
 "metadata": {
  "interpreter": {
   "hash": "b460384b52104c1e5b9cf54bee46a255d22b2bef338f75ac4ad5d48196028d3c"
  },
  "kernelspec": {
   "display_name": "Python 3.10.4 64-bit",
   "language": "python",
   "name": "python3"
  },
  "language_info": {
   "codemirror_mode": {
    "name": "ipython",
    "version": 3
   },
   "file_extension": ".py",
   "mimetype": "text/x-python",
   "name": "python",
   "nbconvert_exporter": "python",
   "pygments_lexer": "ipython3",
   "version": "3.10.4"
  },
  "orig_nbformat": 4
 },
 "nbformat": 4,
 "nbformat_minor": 2
}
