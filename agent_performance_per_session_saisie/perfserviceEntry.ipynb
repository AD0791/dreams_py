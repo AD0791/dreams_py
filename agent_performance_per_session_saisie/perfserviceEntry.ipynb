{
 "cells": [
  {
   "cell_type": "code",
   "execution_count": 1,
   "metadata": {},
   "outputs": [],
   "source": [
    "from IPython.core.interactiveshell import InteractiveShell\n",
    "InteractiveShell.ast_node_interactivity = \"all\"\n",
    "import os\n",
    "from datetime import datetime\n",
    "#from datetime import date\n",
    "import pymysql\n",
    "from sqlalchemy import create_engine, text\n",
    "from decouple import config \n",
    "from dotenv import load_dotenv\n",
    "from pandas import (\n",
    "    read_sql_query, \n",
    "    DataFrame,\n",
    "    ExcelWriter,\n",
    "    options\n",
    ")\n",
    "from dataframe_image import export\n",
    "\n",
    "from enum import Enum\n",
    "import openpyxl\n",
    "import matplotlib.pyplot as plt\n",
    "import seaborn as sns\n",
    "%matplotlib inline"
   ]
  },
  {
   "cell_type": "code",
   "execution_count": 2,
   "metadata": {},
   "outputs": [],
   "source": [
    "class Period(Enum):\n",
    "    date = '2022-10-01'\n",
    "    week='2023-03-01'\n",
    "    date_du_jour = datetime.today().strftime(\"%d_%m_%Y\")"
   ]
  },
  {
   "cell_type": "code",
   "execution_count": 3,
   "metadata": {},
   "outputs": [
    {
     "data": {
      "text/plain": [
       "True"
      ]
     },
     "execution_count": 3,
     "metadata": {},
     "output_type": "execute_result"
    }
   ],
   "source": [
    "load_dotenv()\n",
    "# get the environment variables needed\n",
    "USER = config('USRCaris')\n",
    "PASSWORD = config('PASSCaris')\n",
    "HOSTNAME = config('HOSTCaris')\n",
    "DBNAME = config('DBCaris')\n",
    "\n",
    "# get the engine to connect and fetch\n",
    "engine = create_engine(\n",
    "    f\"mysql+pymysql://{USER}:{PASSWORD}@{HOSTNAME}/{DBNAME}\")\n",
    "\n"
   ]
  },
  {
   "cell_type": "code",
   "execution_count": 4,
   "metadata": {},
   "outputs": [],
   "source": [
    "query_presenceQty = f'''\n",
    "SELECT \n",
    "    a.*, COUNT(*) AS qte_pres_by_creator\n",
    "FROM\n",
    "    (SELECT \n",
    "            dgs.created_by,\n",
    "            au.email AS email,\n",
    "            au.username\n",
    "    FROM\n",
    "        caris_db.dream_group_session dgs\n",
    "    LEFT JOIN dream_group_attendance dga ON dgs.id = dga.id_group_session\n",
    "    LEFT JOIN dream_group dg ON dgs.id_group = dg.id\n",
    "    LEFT JOIN dream_hub dh ON dg.id_dream_hub = dh.id\n",
    "    LEFT JOIN lookup_commune lc ON lc.id = dh.commune\n",
    "    LEFT JOIN lookup_departement ld ON ld.id = lc.departement\n",
    "    LEFT JOIN auth_users au ON au.id = dgs.created_by\n",
    "    WHERE\n",
    "        dga.value = 'P'\n",
    "            AND dgs.date >= '{Period.date.value}') a\n",
    "GROUP BY a.created_by\n",
    "'''\n",
    "\n",
    "query_beneficiariesQty = f'''\n",
    "SELECT *, COUNT(*) AS qte_by_creator FROM\n",
    "    (SELECT\n",
    "        dgs.id AS id_session,\n",
    "            topic,\n",
    "            date,\n",
    "            dga.id_patient AS id_patient,\n",
    "            dgs.created_by,\n",
    "            lc.name AS commune,\n",
    "            ld.name AS departement,\n",
    "            dh.name AS hub,\n",
    "            au.email AS email,\n",
    "            au.username,\n",
    "            b.first_name,\n",
    "            b.last_name,\n",
    "            p.patient_code as dreams_code\n",
    "    FROM\n",
    "        caris_db.dream_group_session dgs\n",
    "    INNER JOIN dream_group_attendance dga ON dgs.id = dga.id_group_session\n",
    "        LEFT JOIN dream_group dg ON dgs.id_group = dg.id\n",
    "    LEFT JOIN dream_hub dh ON dg.id_dream_hub = dh.id\n",
    "    LEFT JOIN lookup_commune lc ON lc.id = dh.commune\n",
    "    LEFT JOIN lookup_departement ld ON ld.id = lc.departement\n",
    "    LEFT JOIN auth_users au ON au.id = dgs.created_by\n",
    "    left join beneficiary b on dga.id_patient=b.id_patient\n",
    "    left join patient p on p.id=dga.id_patient\n",
    "    WHERE\n",
    "        dga.value = 'P'\n",
    "            AND dgs.date >= '{Period.date.value}') a\n",
    "            group by a.id_patient, a.username\n",
    "'''\n"
   ]
  },
  {
   "cell_type": "code",
   "execution_count": 5,
   "metadata": {},
   "outputs": [],
   "source": [
    "query_presenceWeek = f'''\n",
    "SELECT \n",
    "    a.*, COUNT(*) AS qte_pres_by_creator\n",
    "FROM\n",
    "    (SELECT \n",
    "            dgs.created_by,\n",
    "            au.email AS email,\n",
    "            au.username\n",
    "    FROM\n",
    "        caris_db.dream_group_session dgs\n",
    "    LEFT JOIN dream_group_attendance dga ON dgs.id = dga.id_group_session\n",
    "    LEFT JOIN dream_group dg ON dgs.id_group = dg.id\n",
    "    LEFT JOIN dream_hub dh ON dg.id_dream_hub = dh.id\n",
    "    LEFT JOIN lookup_commune lc ON lc.id = dh.commune\n",
    "    LEFT JOIN lookup_departement ld ON ld.id = lc.departement\n",
    "    LEFT JOIN auth_users au ON au.id = dgs.created_by\n",
    "    WHERE\n",
    "        dga.value = 'P'\n",
    "            AND dgs.date >= '{Period.week.value}') a\n",
    "GROUP BY a.created_by\n",
    "'''\n",
    "\n",
    "query_beneficiariesWeek = f'''\n",
    "SELECT *, COUNT(*) AS qte_by_creator FROM\n",
    "    (SELECT\n",
    "        dgs.id AS id_session,\n",
    "            topic,\n",
    "            date,\n",
    "            dga.id_patient AS id_patient,\n",
    "            dgs.created_by,\n",
    "            lc.name AS commune,\n",
    "            ld.name AS departement,\n",
    "            dh.name AS hub,\n",
    "            au.email AS email,\n",
    "            au.username,\n",
    "            b.first_name,\n",
    "            b.last_name,\n",
    "            p.patient_code as dreams_code\n",
    "    FROM\n",
    "        caris_db.dream_group_session dgs\n",
    "    INNER JOIN dream_group_attendance dga ON dgs.id = dga.id_group_session\n",
    "        LEFT JOIN dream_group dg ON dgs.id_group = dg.id\n",
    "    LEFT JOIN dream_hub dh ON dg.id_dream_hub = dh.id\n",
    "    LEFT JOIN lookup_commune lc ON lc.id = dh.commune\n",
    "    LEFT JOIN lookup_departement ld ON ld.id = lc.departement\n",
    "    LEFT JOIN auth_users au ON au.id = dgs.created_by\n",
    "    left join beneficiary b on dga.id_patient=b.id_patient\n",
    "    left join patient p on p.id=dga.id_patient\n",
    "    WHERE\n",
    "        dga.value = 'P'\n",
    "            AND dgs.date >= '{Period.week.value}') a\n",
    "            group by a.id_patient, a.username\n",
    "'''\n"
   ]
  },
  {
   "cell_type": "code",
   "execution_count": 6,
   "metadata": {},
   "outputs": [],
   "source": [
    "query_parentingBene = f'''\n",
    "SELECT \n",
    "    *, COUNT(*) AS qte_by_creator\n",
    "FROM\n",
    "    (SELECT \n",
    "        dpgs.id_group AS id_session,\n",
    "            topic,\n",
    "            date,\n",
    "            dpga.id_patient AS id_patient,\n",
    "            dpgs.created_by,\n",
    "            lc.name AS commune,\n",
    "            ld.name AS departement,\n",
    "            dh.name AS hub,\n",
    "            au.email AS email,\n",
    "            au.username,\n",
    "            b.first_name,\n",
    "            b.last_name,\n",
    "            p.patient_code AS dreams_code\n",
    "    FROM\n",
    "        caris_db.dream_parenting_group_session dpgs\n",
    "    LEFT JOIN dream_parenting_group_attendance dpga ON dpgs.id = dpga.id_parenting_group_session\n",
    "    LEFT JOIN dream_group dg ON dpgs.id_group = dg.id\n",
    "    LEFT JOIN dream_hub dh ON dg.id_dream_hub = dh.id\n",
    "    LEFT JOIN lookup_commune lc ON lc.id = dh.commune\n",
    "    LEFT JOIN lookup_departement ld ON ld.id = lc.departement\n",
    "    LEFT JOIN auth_users au ON au.id = dpgs.created_by\n",
    "    LEFT JOIN beneficiary b ON dpga.id_patient = b.id_patient\n",
    "    LEFT JOIN patient p ON p.id = dpga.id_patient\n",
    "    WHERE\n",
    "        ((dpga.parent_g = 'P')\n",
    "            OR (dpga.parent_vd = 'P')\n",
    "            OR (dpga.yg_g = 'P')\n",
    "            OR (dpga.yg_vd = 'P'))\n",
    "            AND (dpgs.date >= '{Period.date.value}')) a\n",
    "GROUP BY a.id_patient , a.username\n",
    "'''\n",
    "\n",
    "query_parentingQty = f'''\n",
    "SELECT \n",
    "    a.*, COUNT(*) AS qte_by_creator\n",
    "FROM\n",
    "    (SELECT \n",
    "        dpgs.created_by, au.email AS email, au.username\n",
    "    FROM\n",
    "        caris_db.dream_parenting_group_session dpgs\n",
    "    LEFT JOIN dream_parenting_group_attendance dpga ON dpgs.id = dpga.id_parenting_group_session\n",
    "    LEFT JOIN dream_group dg ON dpgs.id_group = dg.id\n",
    "    LEFT JOIN dream_hub dh ON dg.id_dream_hub = dh.id\n",
    "    LEFT JOIN lookup_commune lc ON lc.id = dh.commune\n",
    "    LEFT JOIN lookup_departement ld ON ld.id = lc.departement\n",
    "    LEFT JOIN auth_users au ON au.id = dpgs.created_by\n",
    "    WHERE ((dpga.parent_g = 'P') OR (dpga.parent_vd= 'P') OR (dpga.yg_g='P') OR (dpga.yg_vd='P') )\n",
    "            AND (dpgs.date >= '{Period.date.value}') ) a\n",
    "GROUP BY a.created_by\n",
    "'''\n",
    "\n",
    "\n",
    "\n",
    "\n"
   ]
  },
  {
   "cell_type": "code",
   "execution_count": 7,
   "metadata": {},
   "outputs": [],
   "source": [
    "pres_byAgent= read_sql_query(text(query_presenceQty), engine.connect(), parse_dates=True)\n",
    "ben_byAgent = read_sql_query(text(query_beneficiariesQty), engine.connect(), parse_dates=True)\n",
    "\n",
    "pres_byAgent_week= read_sql_query(text(query_presenceWeek), engine.connect(), parse_dates=True)\n",
    "ben_byAgent_week = read_sql_query(text(query_beneficiariesWeek), engine.connect(), parse_dates=True)\n",
    "\n",
    "pres_parenting= read_sql_query(text(query_parentingQty), engine.connect(), parse_dates=True)\n",
    "parenting_byAgent = read_sql_query(text(query_parentingBene), engine.connect(), parse_dates=True)\n",
    "\n",
    "\n",
    "# close the pool of connection\n",
    "engine.dispose()"
   ]
  },
  {
   "cell_type": "code",
   "execution_count": 8,
   "metadata": {},
   "outputs": [],
   "source": [
    "pres_byAgent.rename(columns={'qte_pres_by_creator':'nombre_pres'},inplace=True)\n",
    "ben_byAgent.rename(columns={'qte_by_creator':'nombre_pres'},inplace=True)\n",
    "\n",
    "pres_byAgent_week.rename(columns={'qte_pres_by_creator':'nombre_pres'},inplace=True)\n",
    "ben_byAgent_week.rename(columns={'qte_by_creator':'nombre_pres'},inplace=True)\n",
    "\n",
    "pres_parenting.rename(columns={'qte_by_creator':'nombre_pres'},inplace=True)\n",
    "parenting_byAgent.rename(columns={'qte_by_creator':'nombre_pres'},inplace=True)"
   ]
  },
  {
   "cell_type": "code",
   "execution_count": 9,
   "metadata": {},
   "outputs": [],
   "source": [
    "pres_byAgent.fillna(\"noID\",inplace=True)\n",
    "ben_byAgent.fillna(\"noID\",inplace=True)"
   ]
  },
  {
   "cell_type": "code",
   "execution_count": 10,
   "metadata": {},
   "outputs": [
    {
     "name": "stdout",
     "output_type": "stream",
     "text": [
      "Nombre de presence totale pour la semaine:  0\n",
      "Nombre de presence totale pour la semaine:  0\n",
      "Nombre de filles pour la semaine:  0\n",
      "-------------\n",
      "Nombre de presence totale:  87703\n",
      "Nombre de presence totale:  87703\n",
      "Nombre de filles:  4509\n",
      "-----------\n",
      "Nombre de presence totale parenting:  386\n",
      "Nombre de presence totale parenting:  386\n",
      "Nombre de filles:  29\n"
     ]
    }
   ],
   "source": [
    "print('Nombre de presence totale pour la semaine: ',pres_byAgent_week.nombre_pres.sum())\n",
    "print('Nombre de presence totale pour la semaine: ',ben_byAgent_week.nombre_pres.sum())\n",
    "print('Nombre de filles pour la semaine: ',ben_byAgent_week.id_patient.count())\n",
    "print('-------------')\n",
    "print('Nombre de presence totale: ',pres_byAgent.nombre_pres.sum())\n",
    "print('Nombre de presence totale: ',ben_byAgent.nombre_pres.sum())\n",
    "print('Nombre de filles: ',ben_byAgent.id_patient.count())\n",
    "print('-----------')\n",
    "print('Nombre de presence totale parenting: ',pres_parenting.nombre_pres.sum())\n",
    "print('Nombre de presence totale parenting: ',parenting_byAgent.nombre_pres.sum())\n",
    "print('Nombre de filles: ',parenting_byAgent.id_patient.count())"
   ]
  },
  {
   "cell_type": "markdown",
   "metadata": {},
   "source": [
    "# First Component"
   ]
  },
  {
   "cell_type": "code",
   "execution_count": 11,
   "metadata": {},
   "outputs": [
    {
     "data": {
      "text/html": [
       "<style type=\"text/css\">\n",
       "#T_ac419_row1_col2 {\n",
       "  background-color: yellow;\n",
       "}\n",
       "</style>\n",
       "<table id=\"T_ac419\">\n",
       "  <thead>\n",
       "    <tr>\n",
       "      <th class=\"blank level0\" >&nbsp;</th>\n",
       "      <th id=\"T_ac419_level0_col0\" class=\"col_heading level0 col0\" >username</th>\n",
       "      <th id=\"T_ac419_level0_col1\" class=\"col_heading level0 col1\" >email</th>\n",
       "      <th id=\"T_ac419_level0_col2\" class=\"col_heading level0 col2\" >nombre_pres</th>\n",
       "    </tr>\n",
       "  </thead>\n",
       "  <tbody>\n",
       "    <tr>\n",
       "      <th id=\"T_ac419_level0_row0\" class=\"row_heading level0 row0\" >0</th>\n",
       "      <td id=\"T_ac419_row0_col0\" class=\"data row0 col0\" >fbyron</td>\n",
       "      <td id=\"T_ac419_row0_col1\" class=\"data row0 col1\" >byronfabrice9@gmail.com</td>\n",
       "      <td id=\"T_ac419_row0_col2\" class=\"data row0 col2\" >6638</td>\n",
       "    </tr>\n",
       "    <tr>\n",
       "      <th id=\"T_ac419_level0_row1\" class=\"row_heading level0 row1\" >1</th>\n",
       "      <td id=\"T_ac419_row1_col0\" class=\"data row1 col0\" >billyjolicoeur</td>\n",
       "      <td id=\"T_ac419_row1_col1\" class=\"data row1 col1\" >billyjolicoeur95@gmail.com</td>\n",
       "      <td id=\"T_ac419_row1_col2\" class=\"data row1 col2\" >48941</td>\n",
       "    </tr>\n",
       "    <tr>\n",
       "      <th id=\"T_ac419_level0_row2\" class=\"row_heading level0 row2\" >2</th>\n",
       "      <td id=\"T_ac419_row2_col0\" class=\"data row2 col0\" >FredlyEliona</td>\n",
       "      <td id=\"T_ac419_row2_col1\" class=\"data row2 col1\" >elionafredly7@gmail.com</td>\n",
       "      <td id=\"T_ac419_row2_col2\" class=\"data row2 col2\" >21423</td>\n",
       "    </tr>\n",
       "    <tr>\n",
       "      <th id=\"T_ac419_level0_row3\" class=\"row_heading level0 row3\" >3</th>\n",
       "      <td id=\"T_ac419_row3_col0\" class=\"data row3 col0\" >dchelot</td>\n",
       "      <td id=\"T_ac419_row3_col1\" class=\"data row3 col1\" >blonnichel@yahoo.fr</td>\n",
       "      <td id=\"T_ac419_row3_col2\" class=\"data row3 col2\" >5757</td>\n",
       "    </tr>\n",
       "    <tr>\n",
       "      <th id=\"T_ac419_level0_row4\" class=\"row_heading level0 row4\" >4</th>\n",
       "      <td id=\"T_ac419_row4_col0\" class=\"data row4 col0\" >pggd1234</td>\n",
       "      <td id=\"T_ac419_row4_col1\" class=\"data row4 col1\" >gerald.poteau@carisfoundationintl.org</td>\n",
       "      <td id=\"T_ac419_row4_col2\" class=\"data row4 col2\" >1404</td>\n",
       "    </tr>\n",
       "    <tr>\n",
       "      <th id=\"T_ac419_level0_row5\" class=\"row_heading level0 row5\" >5</th>\n",
       "      <td id=\"T_ac419_row5_col0\" class=\"data row5 col0\" >Armando</td>\n",
       "      <td id=\"T_ac419_row5_col1\" class=\"data row5 col1\" >diegoarmando.dorlean@carisfoundationintl.org</td>\n",
       "      <td id=\"T_ac419_row5_col2\" class=\"data row5 col2\" >60</td>\n",
       "    </tr>\n",
       "    <tr>\n",
       "      <th id=\"T_ac419_level0_row6\" class=\"row_heading level0 row6\" >6</th>\n",
       "      <td id=\"T_ac419_row6_col0\" class=\"data row6 col0\" >Ernstbelabre</td>\n",
       "      <td id=\"T_ac419_row6_col1\" class=\"data row6 col1\" >ernst.belabre@carisfoundationintl.org</td>\n",
       "      <td id=\"T_ac419_row6_col2\" class=\"data row6 col2\" >874</td>\n",
       "    </tr>\n",
       "    <tr>\n",
       "      <th id=\"T_ac419_level0_row7\" class=\"row_heading level0 row7\" >7</th>\n",
       "      <td id=\"T_ac419_row7_col0\" class=\"data row7 col0\" >France14</td>\n",
       "      <td id=\"T_ac419_row7_col1\" class=\"data row7 col1\" >francenelstjean.saed@yahoo.com</td>\n",
       "      <td id=\"T_ac419_row7_col2\" class=\"data row7 col2\" >2086</td>\n",
       "    </tr>\n",
       "    <tr>\n",
       "      <th id=\"T_ac419_level0_row8\" class=\"row_heading level0 row8\" >8</th>\n",
       "      <td id=\"T_ac419_row8_col0\" class=\"data row8 col0\" >despeignes</td>\n",
       "      <td id=\"T_ac419_row8_col1\" class=\"data row8 col1\" >roselord.despeignes@carisfoundationintl.org</td>\n",
       "      <td id=\"T_ac419_row8_col2\" class=\"data row8 col2\" >520</td>\n",
       "    </tr>\n",
       "  </tbody>\n",
       "</table>\n"
      ],
      "text/plain": [
       "<pandas.io.formats.style.Styler at 0x11aeeb750>"
      ]
     },
     "execution_count": 11,
     "metadata": {},
     "output_type": "execute_result"
    },
    {
     "name": "stdout",
     "output_type": "stream",
     "text": [
      "---------------------------------------------------------------------------------------------\n"
     ]
    },
    {
     "data": {
      "text/html": [
       "<div>\n",
       "<style scoped>\n",
       "    .dataframe tbody tr th:only-of-type {\n",
       "        vertical-align: middle;\n",
       "    }\n",
       "\n",
       "    .dataframe tbody tr th {\n",
       "        vertical-align: top;\n",
       "    }\n",
       "\n",
       "    .dataframe thead th {\n",
       "        text-align: right;\n",
       "    }\n",
       "</style>\n",
       "<table border=\"1\" class=\"dataframe\">\n",
       "  <thead>\n",
       "    <tr style=\"text-align: right;\">\n",
       "      <th></th>\n",
       "      <th>username</th>\n",
       "      <th>email</th>\n",
       "      <th>nombre_pres</th>\n",
       "    </tr>\n",
       "  </thead>\n",
       "  <tbody>\n",
       "  </tbody>\n",
       "</table>\n",
       "</div>"
      ],
      "text/plain": [
       "Empty DataFrame\n",
       "Columns: [username, email, nombre_pres]\n",
       "Index: []"
      ]
     },
     "execution_count": 11,
     "metadata": {},
     "output_type": "execute_result"
    },
    {
     "name": "stdout",
     "output_type": "stream",
     "text": [
      "---------------------------------------------------------------------------------------------\n"
     ]
    },
    {
     "data": {
      "text/html": [
       "<style type=\"text/css\">\n",
       "#T_a1a77_row0_col2 {\n",
       "  background-color: yellow;\n",
       "}\n",
       "</style>\n",
       "<table id=\"T_a1a77\">\n",
       "  <thead>\n",
       "    <tr>\n",
       "      <th class=\"blank level0\" >&nbsp;</th>\n",
       "      <th id=\"T_a1a77_level0_col0\" class=\"col_heading level0 col0\" >username</th>\n",
       "      <th id=\"T_a1a77_level0_col1\" class=\"col_heading level0 col1\" >email</th>\n",
       "      <th id=\"T_a1a77_level0_col2\" class=\"col_heading level0 col2\" >nombre_pres</th>\n",
       "    </tr>\n",
       "  </thead>\n",
       "  <tbody>\n",
       "    <tr>\n",
       "      <th id=\"T_a1a77_level0_row0\" class=\"row_heading level0 row0\" >0</th>\n",
       "      <td id=\"T_a1a77_row0_col0\" class=\"data row0 col0\" >fbyron</td>\n",
       "      <td id=\"T_a1a77_row0_col1\" class=\"data row0 col1\" >byronfabrice9@gmail.com</td>\n",
       "      <td id=\"T_a1a77_row0_col2\" class=\"data row0 col2\" >379</td>\n",
       "    </tr>\n",
       "    <tr>\n",
       "      <th id=\"T_a1a77_level0_row1\" class=\"row_heading level0 row1\" >1</th>\n",
       "      <td id=\"T_a1a77_row1_col0\" class=\"data row1 col0\" >billyjolicoeur</td>\n",
       "      <td id=\"T_a1a77_row1_col1\" class=\"data row1 col1\" >billyjolicoeur95@gmail.com</td>\n",
       "      <td id=\"T_a1a77_row1_col2\" class=\"data row1 col2\" >7</td>\n",
       "    </tr>\n",
       "  </tbody>\n",
       "</table>\n"
      ],
      "text/plain": [
       "<pandas.io.formats.style.Styler at 0x124a3b590>"
      ]
     },
     "execution_count": 11,
     "metadata": {},
     "output_type": "execute_result"
    }
   ],
   "source": [
    "pres_byAgent = pres_byAgent[['username','email','nombre_pres']]\n",
    "if pres_byAgent.empty:\n",
    "    pres_byAgent\n",
    "else:\n",
    "    pres_byAgent.style.highlight_max(subset=['nombre_pres'])\n",
    "    \n",
    "print('---------------------------------------------------------------------------------------------')\n",
    "\n",
    "pres_byAgent_week = pres_byAgent_week[['username','email','nombre_pres']]\n",
    "if pres_byAgent_week.empty:\n",
    "    pres_byAgent_week\n",
    "else:\n",
    "    pres_byAgent_week.style.highlight_max(subset=['nombre_pres'])\n",
    "\n",
    "\n",
    "\n",
    "print('---------------------------------------------------------------------------------------------')\n",
    "\n",
    "pres_parenting = pres_parenting[['username','email','nombre_pres']]\n",
    "if pres_parenting.empty:\n",
    "    pres_parenting\n",
    "else:\n",
    "    pres_parenting.style.highlight_max(subset=['nombre_pres'])   \n",
    "\n",
    "\n",
    "#ordered_pres_byAgent = pres_byAgent.nombre_pres.sort_values().to_list()\n",
    "#ordered_pres_parenting = pres_parenting.nombre_pres.sort_values().to_list()"
   ]
  },
  {
   "cell_type": "markdown",
   "metadata": {},
   "source": [
    "# Graphe Component I"
   ]
  },
  {
   "cell_type": "code",
   "execution_count": 12,
   "metadata": {},
   "outputs": [
    {
     "data": {
      "text/plain": [
       "<Figure size 1600x800 with 0 Axes>"
      ]
     },
     "execution_count": 12,
     "metadata": {},
     "output_type": "execute_result"
    },
    {
     "name": "stderr",
     "output_type": "stream",
     "text": [
      "/var/folders/7v/rs0k237d6nj3vdxfc1h7xtcw0000gn/T/ipykernel_81134/2753399533.py:5: FutureWarning: \n",
      "\n",
      "The `ci` parameter is deprecated. Use `errorbar=('ci', False)` for the same effect.\n",
      "\n",
      "  splot = sns.barplot(x=\"nombre_pres\",y=\"username\",data=pres_byAgent,color=\"Green\",order=pres_byAgent.sort_values(\"nombre_pres\",ascending=False).username,ci=False)\n"
     ]
    },
    {
     "data": {
      "text/plain": [
       "Text(0.5, 0, '')"
      ]
     },
     "execution_count": 12,
     "metadata": {},
     "output_type": "execute_result"
    },
    {
     "data": {
      "text/plain": [
       "Text(0, 0.5, '')"
      ]
     },
     "execution_count": 12,
     "metadata": {},
     "output_type": "execute_result"
    },
    {
     "data": {
      "text/plain": [
       "Text(0.5, 0.98, 'Nombre de presence Currriculum par agents depuis le 2022-10-01')"
      ]
     },
     "execution_count": 12,
     "metadata": {},
     "output_type": "execute_result"
    },
    {
     "data": {
      "text/plain": [
       "Text(48941.25, 0.0, '48941')"
      ]
     },
     "execution_count": 12,
     "metadata": {},
     "output_type": "execute_result"
    },
    {
     "data": {
      "text/plain": [
       "Text(21423.25, 1.0, '21423')"
      ]
     },
     "execution_count": 12,
     "metadata": {},
     "output_type": "execute_result"
    },
    {
     "data": {
      "text/plain": [
       "Text(6638.25, 2.0, '6638')"
      ]
     },
     "execution_count": 12,
     "metadata": {},
     "output_type": "execute_result"
    },
    {
     "data": {
      "text/plain": [
       "Text(5757.25, 3.0, '5757')"
      ]
     },
     "execution_count": 12,
     "metadata": {},
     "output_type": "execute_result"
    },
    {
     "data": {
      "text/plain": [
       "Text(2086.25, 4.0, '2086')"
      ]
     },
     "execution_count": 12,
     "metadata": {},
     "output_type": "execute_result"
    },
    {
     "data": {
      "text/plain": [
       "Text(1404.25, 5.0, '1404')"
      ]
     },
     "execution_count": 12,
     "metadata": {},
     "output_type": "execute_result"
    },
    {
     "data": {
      "text/plain": [
       "Text(874.25, 6.0, '874')"
      ]
     },
     "execution_count": 12,
     "metadata": {},
     "output_type": "execute_result"
    },
    {
     "data": {
      "text/plain": [
       "Text(520.25, 7.0, '520')"
      ]
     },
     "execution_count": 12,
     "metadata": {},
     "output_type": "execute_result"
    },
    {
     "data": {
      "text/plain": [
       "Text(60.25, 8.0, '60')"
      ]
     },
     "execution_count": 12,
     "metadata": {},
     "output_type": "execute_result"
    },
    {
     "data": {
      "text/plain": [
       "Text(-80, -20, 'source: HIVHaiti')"
      ]
     },
     "execution_count": 12,
     "metadata": {},
     "output_type": "execute_result"
    },
    {
     "data": {
      "image/png": "[encoded data removed]",
      "text/plain": [
       "<Figure size 1600x800 with 1 Axes>"
      ]
     },
     "metadata": {},
     "output_type": "display_data"
    }
   ],
   "source": [
    "try:\n",
    "    plt.figure(figsize=(16,8))\n",
    "    #plt.subplots(figsize=(16,8))\n",
    "    sns.set_style(\"darkgrid\")\n",
    "    splot = sns.barplot(x=\"nombre_pres\",y=\"username\",data=pres_byAgent,color=\"Green\",order=pres_byAgent.sort_values(\"nombre_pres\",ascending=False).username,ci=False)\n",
    "    splot.set_xlabel(\"\")\n",
    "    splot.set_ylabel(\"\")\n",
    "    plt.suptitle(f\"Nombre de presence Currriculum par agents depuis le {Period.date.value}\")\n",
    "    for p in splot.patches:\n",
    "        width = p.get_width()\n",
    "        plt.text(0.25+p.get_width(), p.get_y()+0.50*p.get_height(),\n",
    "                '{:1.0f}'.format(width),fontdict=dict(color=\"red\",fontsize=12))\n",
    "\n",
    "    plt.annotate(\n",
    "        \"source: HIVHaiti\",(0,0), (-80,-20), fontsize=10, \n",
    "                xycoords='axes fraction', textcoords='offset points', va='top'\n",
    "    )\n",
    "    plt.savefig(f\"saisie_curriculum\",dpi=1000)\n",
    "except ValueError:\n",
    "    print(f\"no activities where registered\")"
   ]
  },
  {
   "cell_type": "code",
   "execution_count": 13,
   "metadata": {},
   "outputs": [
    {
     "data": {
      "text/plain": [
       "<Figure size 1600x800 with 0 Axes>"
      ]
     },
     "execution_count": 13,
     "metadata": {},
     "output_type": "execute_result"
    },
    {
     "name": "stdout",
     "output_type": "stream",
     "text": [
      "no activities where registered pour cette semaine 2023-03-01\n"
     ]
    },
    {
     "name": "stderr",
     "output_type": "stream",
     "text": [
      "/var/folders/7v/rs0k237d6nj3vdxfc1h7xtcw0000gn/T/ipykernel_81134/1837674988.py:5: FutureWarning: \n",
      "\n",
      "The `ci` parameter is deprecated. Use `errorbar=('ci', False)` for the same effect.\n",
      "\n",
      "  splot = sns.barplot(x=\"nombre_pres\",y=\"username\",data=pres_byAgent_week,color=\"Blue\",order=pres_byAgent_week.sort_values(\"nombre_pres\",ascending=False).username,ci=False)\n"
     ]
    },
    {
     "data": {
      "text/plain": [
       "<Figure size 1600x800 with 0 Axes>"
      ]
     },
     "metadata": {},
     "output_type": "display_data"
    }
   ],
   "source": [
    "try:\n",
    "    plt.figure(figsize=(16,8))\n",
    "    #plt.subplots(figsize=(16,8))\n",
    "    sns.set_style(\"darkgrid\")\n",
    "    splot = sns.barplot(x=\"nombre_pres\",y=\"username\",data=pres_byAgent_week,color=\"Blue\",order=pres_byAgent_week.sort_values(\"nombre_pres\",ascending=False).username,ci=False)\n",
    "    splot.set_xlabel(\"\")\n",
    "    splot.set_ylabel(\"\")\n",
    "    plt.suptitle(f\"Nombre de presence Currriculum par agents pour la semaine du {Period.week.value}\")\n",
    "    for p in splot.patches:\n",
    "        width = p.get_width()\n",
    "        plt.text(0.25+p.get_width(), p.get_y()+0.50*p.get_height(),\n",
    "                '{:1.0f}'.format(width),fontdict=dict(color=\"red\",fontsize=12))\n",
    "\n",
    "    plt.annotate(\n",
    "        \"source: HIVHaiti\",(0,0), (-80,-20), fontsize=10,\n",
    "                xycoords='axes fraction', textcoords='offset points', va='top'\n",
    "    )\n",
    "    plt.savefig(f\"saisie_curriculum_week\",dpi=1000)\n",
    "except ValueError:\n",
    "    print(f\"no activities where registered pour cette semaine {Period.week.value}\")"
   ]
  },
  {
   "cell_type": "code",
   "execution_count": 14,
   "metadata": {},
   "outputs": [
    {
     "data": {
      "text/plain": [
       "<Figure size 1600x800 with 0 Axes>"
      ]
     },
     "execution_count": 14,
     "metadata": {},
     "output_type": "execute_result"
    },
    {
     "name": "stderr",
     "output_type": "stream",
     "text": [
      "/var/folders/7v/rs0k237d6nj3vdxfc1h7xtcw0000gn/T/ipykernel_81134/962419866.py:5: FutureWarning: \n",
      "\n",
      "The `ci` parameter is deprecated. Use `errorbar=('ci', False)` for the same effect.\n",
      "\n",
      "  splot = sns.barplot(x=\"nombre_pres\",y=\"username\",data=pres_parenting,color=\"Green\",order=pres_parenting.sort_values(\"nombre_pres\",ascending=False).username,ci=False)\n"
     ]
    },
    {
     "data": {
      "text/plain": [
       "Text(0.5, 0, '')"
      ]
     },
     "execution_count": 14,
     "metadata": {},
     "output_type": "execute_result"
    },
    {
     "data": {
      "text/plain": [
       "Text(0, 0.5, '')"
      ]
     },
     "execution_count": 14,
     "metadata": {},
     "output_type": "execute_result"
    },
    {
     "data": {
      "text/plain": [
       "Text(0.5, 0.98, 'Nombre de presence parenting par agents depuis le 2022-10-01')"
      ]
     },
     "execution_count": 14,
     "metadata": {},
     "output_type": "execute_result"
    },
    {
     "data": {
      "text/plain": [
       "Text(379.25, 0.0, '379')"
      ]
     },
     "execution_count": 14,
     "metadata": {},
     "output_type": "execute_result"
    },
    {
     "data": {
      "text/plain": [
       "Text(7.25, 1.0, '7')"
      ]
     },
     "execution_count": 14,
     "metadata": {},
     "output_type": "execute_result"
    },
    {
     "data": {
      "text/plain": [
       "Text(-80, -20, 'source: HIVHaiti')"
      ]
     },
     "execution_count": 14,
     "metadata": {},
     "output_type": "execute_result"
    },
    {
     "data": {
      "image/png": "[encoded data removed]",
      "text/plain": [
       "<Figure size 1600x800 with 1 Axes>"
      ]
     },
     "metadata": {},
     "output_type": "display_data"
    }
   ],
   "source": [
    "try:\n",
    "    plt.figure(figsize=(16,8))\n",
    "    #plt.subplots(figsize=(16,8))\n",
    "    sns.set_style(\"darkgrid\")\n",
    "    splot = sns.barplot(x=\"nombre_pres\",y=\"username\",data=pres_parenting,color=\"Green\",order=pres_parenting.sort_values(\"nombre_pres\",ascending=False).username,ci=False)\n",
    "    splot.set_xlabel(\"\")\n",
    "    splot.set_ylabel(\"\")\n",
    "    plt.suptitle(f\"Nombre de presence parenting par agents depuis le {Period.date.value}\")\n",
    "    for p in splot.patches:\n",
    "        width = p.get_width()\n",
    "        plt.text(0.25+p.get_width(), p.get_y()+0.50*p.get_height(),\n",
    "                '{:1.0f}'.format(width),fontdict=dict(color=\"red\",fontsize=12))\n",
    "    plt.annotate(\n",
    "        \"source: HIVHaiti\",(0,0), (-80,-20), fontsize=10, \n",
    "                xycoords='axes fraction', textcoords='offset points', va='top'\n",
    "    )\n",
    "    plt.savefig(f\"saisie_parenting\",dpi=1000)\n",
    "except ValueError:\n",
    "    print(f\"no activities where registered\")"
   ]
  },
  {
   "cell_type": "markdown",
   "metadata": {},
   "source": [
    "# Validation of the pivot table"
   ]
  },
  {
   "cell_type": "code",
   "execution_count": 15,
   "metadata": {},
   "outputs": [],
   "source": [
    "def validation_pivot(pt):\n",
    "    if not pt.empty:\n",
    "        pt = pt.pivot_table(values='id_patient',index='username',columns='commune',aggfunc='count',fill_value=0,margins=True, margins_name='Total')\n",
    "    if pt.empty:\n",
    "        pt =  DataFrame({\"resultats\":[\"No data entry\"]})\n",
    "    return pt"
   ]
  },
  {
   "cell_type": "markdown",
   "metadata": {},
   "source": [
    "# Component 2"
   ]
  },
  {
   "cell_type": "code",
   "execution_count": 16,
   "metadata": {},
   "outputs": [
    {
     "data": {
      "text/html": [
       "<style type=\"text/css\">\n",
       "#T_ba4ad_row2_col4, #T_ba4ad_row4_col2, #T_ba4ad_row4_col10, #T_ba4ad_row4_col11, #T_ba4ad_row4_col12, #T_ba4ad_row4_col14, #T_ba4ad_row4_col17, #T_ba4ad_row7_col3, #T_ba4ad_row7_col9, #T_ba4ad_row9_col0, #T_ba4ad_row9_col1, #T_ba4ad_row9_col2, #T_ba4ad_row9_col3, #T_ba4ad_row9_col4, #T_ba4ad_row9_col5, #T_ba4ad_row9_col6, #T_ba4ad_row9_col7, #T_ba4ad_row9_col8, #T_ba4ad_row9_col9, #T_ba4ad_row9_col10, #T_ba4ad_row9_col11, #T_ba4ad_row9_col12, #T_ba4ad_row9_col13, #T_ba4ad_row9_col14, #T_ba4ad_row9_col15, #T_ba4ad_row9_col16, #T_ba4ad_row9_col17, #T_ba4ad_row9_col18, #T_ba4ad_row9_col19, #T_ba4ad_row9_col20, #T_ba4ad_row9_col21 {\n",
       "  background-color: yellow;\n",
       "}\n",
       "</style>\n",
       "<table id=\"T_ba4ad\">\n",
       "  <thead>\n",
       "    <tr>\n",
       "      <th class=\"index_name level0\" >commune</th>\n",
       "      <th id=\"T_ba4ad_level0_col0\" class=\"col_heading level0 col0\" >Cap-Haïtien</th>\n",
       "      <th id=\"T_ba4ad_level0_col1\" class=\"col_heading level0 col1\" >Carrefour</th>\n",
       "      <th id=\"T_ba4ad_level0_col2\" class=\"col_heading level0 col2\" >Delmas</th>\n",
       "      <th id=\"T_ba4ad_level0_col3\" class=\"col_heading level0 col3\" >Desdunes</th>\n",
       "      <th id=\"T_ba4ad_level0_col4\" class=\"col_heading level0 col4\" >Dessalines</th>\n",
       "      <th id=\"T_ba4ad_level0_col5\" class=\"col_heading level0 col5\" >Grande Saline</th>\n",
       "      <th id=\"T_ba4ad_level0_col6\" class=\"col_heading level0 col6\" >Gressier</th>\n",
       "      <th id=\"T_ba4ad_level0_col7\" class=\"col_heading level0 col7\" >Kenscoff</th>\n",
       "      <th id=\"T_ba4ad_level0_col8\" class=\"col_heading level0 col8\" >La Chapelle</th>\n",
       "      <th id=\"T_ba4ad_level0_col9\" class=\"col_heading level0 col9\" >Liancourt</th>\n",
       "      <th id=\"T_ba4ad_level0_col10\" class=\"col_heading level0 col10\" >Limonade</th>\n",
       "      <th id=\"T_ba4ad_level0_col11\" class=\"col_heading level0 col11\" >Milot</th>\n",
       "      <th id=\"T_ba4ad_level0_col12\" class=\"col_heading level0 col12\" >Montrouis</th>\n",
       "      <th id=\"T_ba4ad_level0_col13\" class=\"col_heading level0 col13\" >Petite Rivière de l'Artibonite</th>\n",
       "      <th id=\"T_ba4ad_level0_col14\" class=\"col_heading level0 col14\" >Plaine-du-Nord</th>\n",
       "      <th id=\"T_ba4ad_level0_col15\" class=\"col_heading level0 col15\" >Port-au-Prince</th>\n",
       "      <th id=\"T_ba4ad_level0_col16\" class=\"col_heading level0 col16\" >Pétionville</th>\n",
       "      <th id=\"T_ba4ad_level0_col17\" class=\"col_heading level0 col17\" >Quartier-Morin</th>\n",
       "      <th id=\"T_ba4ad_level0_col18\" class=\"col_heading level0 col18\" >Saint-Marc</th>\n",
       "      <th id=\"T_ba4ad_level0_col19\" class=\"col_heading level0 col19\" >Tabarre</th>\n",
       "      <th id=\"T_ba4ad_level0_col20\" class=\"col_heading level0 col20\" >Verrettes</th>\n",
       "      <th id=\"T_ba4ad_level0_col21\" class=\"col_heading level0 col21\" >Total</th>\n",
       "    </tr>\n",
       "    <tr>\n",
       "      <th class=\"index_name level0\" >username</th>\n",
       "      <th class=\"blank col0\" >&nbsp;</th>\n",
       "      <th class=\"blank col1\" >&nbsp;</th>\n",
       "      <th class=\"blank col2\" >&nbsp;</th>\n",
       "      <th class=\"blank col3\" >&nbsp;</th>\n",
       "      <th class=\"blank col4\" >&nbsp;</th>\n",
       "      <th class=\"blank col5\" >&nbsp;</th>\n",
       "      <th class=\"blank col6\" >&nbsp;</th>\n",
       "      <th class=\"blank col7\" >&nbsp;</th>\n",
       "      <th class=\"blank col8\" >&nbsp;</th>\n",
       "      <th class=\"blank col9\" >&nbsp;</th>\n",
       "      <th class=\"blank col10\" >&nbsp;</th>\n",
       "      <th class=\"blank col11\" >&nbsp;</th>\n",
       "      <th class=\"blank col12\" >&nbsp;</th>\n",
       "      <th class=\"blank col13\" >&nbsp;</th>\n",
       "      <th class=\"blank col14\" >&nbsp;</th>\n",
       "      <th class=\"blank col15\" >&nbsp;</th>\n",
       "      <th class=\"blank col16\" >&nbsp;</th>\n",
       "      <th class=\"blank col17\" >&nbsp;</th>\n",
       "      <th class=\"blank col18\" >&nbsp;</th>\n",
       "      <th class=\"blank col19\" >&nbsp;</th>\n",
       "      <th class=\"blank col20\" >&nbsp;</th>\n",
       "      <th class=\"blank col21\" >&nbsp;</th>\n",
       "    </tr>\n",
       "  </thead>\n",
       "  <tbody>\n",
       "    <tr>\n",
       "      <th id=\"T_ba4ad_level0_row0\" class=\"row_heading level0 row0\" >Armando</th>\n",
       "      <td id=\"T_ba4ad_row0_col0\" class=\"data row0 col0\" >0</td>\n",
       "      <td id=\"T_ba4ad_row0_col1\" class=\"data row0 col1\" >0</td>\n",
       "      <td id=\"T_ba4ad_row0_col2\" class=\"data row0 col2\" >0</td>\n",
       "      <td id=\"T_ba4ad_row0_col3\" class=\"data row0 col3\" >0</td>\n",
       "      <td id=\"T_ba4ad_row0_col4\" class=\"data row0 col4\" >0</td>\n",
       "      <td id=\"T_ba4ad_row0_col5\" class=\"data row0 col5\" >3</td>\n",
       "      <td id=\"T_ba4ad_row0_col6\" class=\"data row0 col6\" >0</td>\n",
       "      <td id=\"T_ba4ad_row0_col7\" class=\"data row0 col7\" >0</td>\n",
       "      <td id=\"T_ba4ad_row0_col8\" class=\"data row0 col8\" >0</td>\n",
       "      <td id=\"T_ba4ad_row0_col9\" class=\"data row0 col9\" >0</td>\n",
       "      <td id=\"T_ba4ad_row0_col10\" class=\"data row0 col10\" >0</td>\n",
       "      <td id=\"T_ba4ad_row0_col11\" class=\"data row0 col11\" >0</td>\n",
       "      <td id=\"T_ba4ad_row0_col12\" class=\"data row0 col12\" >0</td>\n",
       "      <td id=\"T_ba4ad_row0_col13\" class=\"data row0 col13\" >0</td>\n",
       "      <td id=\"T_ba4ad_row0_col14\" class=\"data row0 col14\" >0</td>\n",
       "      <td id=\"T_ba4ad_row0_col15\" class=\"data row0 col15\" >0</td>\n",
       "      <td id=\"T_ba4ad_row0_col16\" class=\"data row0 col16\" >0</td>\n",
       "      <td id=\"T_ba4ad_row0_col17\" class=\"data row0 col17\" >0</td>\n",
       "      <td id=\"T_ba4ad_row0_col18\" class=\"data row0 col18\" >0</td>\n",
       "      <td id=\"T_ba4ad_row0_col19\" class=\"data row0 col19\" >0</td>\n",
       "      <td id=\"T_ba4ad_row0_col20\" class=\"data row0 col20\" >0</td>\n",
       "      <td id=\"T_ba4ad_row0_col21\" class=\"data row0 col21\" >3</td>\n",
       "    </tr>\n",
       "    <tr>\n",
       "      <th id=\"T_ba4ad_level0_row1\" class=\"row_heading level0 row1\" >Ernstbelabre</th>\n",
       "      <td id=\"T_ba4ad_row1_col0\" class=\"data row1 col0\" >0</td>\n",
       "      <td id=\"T_ba4ad_row1_col1\" class=\"data row1 col1\" >0</td>\n",
       "      <td id=\"T_ba4ad_row1_col2\" class=\"data row1 col2\" >0</td>\n",
       "      <td id=\"T_ba4ad_row1_col3\" class=\"data row1 col3\" >0</td>\n",
       "      <td id=\"T_ba4ad_row1_col4\" class=\"data row1 col4\" >0</td>\n",
       "      <td id=\"T_ba4ad_row1_col5\" class=\"data row1 col5\" >32</td>\n",
       "      <td id=\"T_ba4ad_row1_col6\" class=\"data row1 col6\" >16</td>\n",
       "      <td id=\"T_ba4ad_row1_col7\" class=\"data row1 col7\" >0</td>\n",
       "      <td id=\"T_ba4ad_row1_col8\" class=\"data row1 col8\" >0</td>\n",
       "      <td id=\"T_ba4ad_row1_col9\" class=\"data row1 col9\" >0</td>\n",
       "      <td id=\"T_ba4ad_row1_col10\" class=\"data row1 col10\" >0</td>\n",
       "      <td id=\"T_ba4ad_row1_col11\" class=\"data row1 col11\" >0</td>\n",
       "      <td id=\"T_ba4ad_row1_col12\" class=\"data row1 col12\" >0</td>\n",
       "      <td id=\"T_ba4ad_row1_col13\" class=\"data row1 col13\" >0</td>\n",
       "      <td id=\"T_ba4ad_row1_col14\" class=\"data row1 col14\" >0</td>\n",
       "      <td id=\"T_ba4ad_row1_col15\" class=\"data row1 col15\" >0</td>\n",
       "      <td id=\"T_ba4ad_row1_col16\" class=\"data row1 col16\" >0</td>\n",
       "      <td id=\"T_ba4ad_row1_col17\" class=\"data row1 col17\" >0</td>\n",
       "      <td id=\"T_ba4ad_row1_col18\" class=\"data row1 col18\" >24</td>\n",
       "      <td id=\"T_ba4ad_row1_col19\" class=\"data row1 col19\" >0</td>\n",
       "      <td id=\"T_ba4ad_row1_col20\" class=\"data row1 col20\" >0</td>\n",
       "      <td id=\"T_ba4ad_row1_col21\" class=\"data row1 col21\" >72</td>\n",
       "    </tr>\n",
       "    <tr>\n",
       "      <th id=\"T_ba4ad_level0_row2\" class=\"row_heading level0 row2\" >France14</th>\n",
       "      <td id=\"T_ba4ad_row2_col0\" class=\"data row2 col0\" >0</td>\n",
       "      <td id=\"T_ba4ad_row2_col1\" class=\"data row2 col1\" >0</td>\n",
       "      <td id=\"T_ba4ad_row2_col2\" class=\"data row2 col2\" >0</td>\n",
       "      <td id=\"T_ba4ad_row2_col3\" class=\"data row2 col3\" >0</td>\n",
       "      <td id=\"T_ba4ad_row2_col4\" class=\"data row2 col4\" >125</td>\n",
       "      <td id=\"T_ba4ad_row2_col5\" class=\"data row2 col5\" >0</td>\n",
       "      <td id=\"T_ba4ad_row2_col6\" class=\"data row2 col6\" >0</td>\n",
       "      <td id=\"T_ba4ad_row2_col7\" class=\"data row2 col7\" >0</td>\n",
       "      <td id=\"T_ba4ad_row2_col8\" class=\"data row2 col8\" >0</td>\n",
       "      <td id=\"T_ba4ad_row2_col9\" class=\"data row2 col9\" >0</td>\n",
       "      <td id=\"T_ba4ad_row2_col10\" class=\"data row2 col10\" >0</td>\n",
       "      <td id=\"T_ba4ad_row2_col11\" class=\"data row2 col11\" >0</td>\n",
       "      <td id=\"T_ba4ad_row2_col12\" class=\"data row2 col12\" >0</td>\n",
       "      <td id=\"T_ba4ad_row2_col13\" class=\"data row2 col13\" >0</td>\n",
       "      <td id=\"T_ba4ad_row2_col14\" class=\"data row2 col14\" >0</td>\n",
       "      <td id=\"T_ba4ad_row2_col15\" class=\"data row2 col15\" >0</td>\n",
       "      <td id=\"T_ba4ad_row2_col16\" class=\"data row2 col16\" >0</td>\n",
       "      <td id=\"T_ba4ad_row2_col17\" class=\"data row2 col17\" >0</td>\n",
       "      <td id=\"T_ba4ad_row2_col18\" class=\"data row2 col18\" >0</td>\n",
       "      <td id=\"T_ba4ad_row2_col19\" class=\"data row2 col19\" >0</td>\n",
       "      <td id=\"T_ba4ad_row2_col20\" class=\"data row2 col20\" >0</td>\n",
       "      <td id=\"T_ba4ad_row2_col21\" class=\"data row2 col21\" >125</td>\n",
       "    </tr>\n",
       "    <tr>\n",
       "      <th id=\"T_ba4ad_level0_row3\" class=\"row_heading level0 row3\" >FredlyEliona</th>\n",
       "      <td id=\"T_ba4ad_row3_col0\" class=\"data row3 col0\" >31</td>\n",
       "      <td id=\"T_ba4ad_row3_col1\" class=\"data row3 col1\" >114</td>\n",
       "      <td id=\"T_ba4ad_row3_col2\" class=\"data row3 col2\" >0</td>\n",
       "      <td id=\"T_ba4ad_row3_col3\" class=\"data row3 col3\" >0</td>\n",
       "      <td id=\"T_ba4ad_row3_col4\" class=\"data row3 col4\" >0</td>\n",
       "      <td id=\"T_ba4ad_row3_col5\" class=\"data row3 col5\" >0</td>\n",
       "      <td id=\"T_ba4ad_row3_col6\" class=\"data row3 col6\" >118</td>\n",
       "      <td id=\"T_ba4ad_row3_col7\" class=\"data row3 col7\" >49</td>\n",
       "      <td id=\"T_ba4ad_row3_col8\" class=\"data row3 col8\" >216</td>\n",
       "      <td id=\"T_ba4ad_row3_col9\" class=\"data row3 col9\" >0</td>\n",
       "      <td id=\"T_ba4ad_row3_col10\" class=\"data row3 col10\" >0</td>\n",
       "      <td id=\"T_ba4ad_row3_col11\" class=\"data row3 col11\" >0</td>\n",
       "      <td id=\"T_ba4ad_row3_col12\" class=\"data row3 col12\" >0</td>\n",
       "      <td id=\"T_ba4ad_row3_col13\" class=\"data row3 col13\" >12</td>\n",
       "      <td id=\"T_ba4ad_row3_col14\" class=\"data row3 col14\" >0</td>\n",
       "      <td id=\"T_ba4ad_row3_col15\" class=\"data row3 col15\" >288</td>\n",
       "      <td id=\"T_ba4ad_row3_col16\" class=\"data row3 col16\" >30</td>\n",
       "      <td id=\"T_ba4ad_row3_col17\" class=\"data row3 col17\" >0</td>\n",
       "      <td id=\"T_ba4ad_row3_col18\" class=\"data row3 col18\" >0</td>\n",
       "      <td id=\"T_ba4ad_row3_col19\" class=\"data row3 col19\" >12</td>\n",
       "      <td id=\"T_ba4ad_row3_col20\" class=\"data row3 col20\" >184</td>\n",
       "      <td id=\"T_ba4ad_row3_col21\" class=\"data row3 col21\" >1054</td>\n",
       "    </tr>\n",
       "    <tr>\n",
       "      <th id=\"T_ba4ad_level0_row4\" class=\"row_heading level0 row4\" >billyjolicoeur</th>\n",
       "      <td id=\"T_ba4ad_row4_col0\" class=\"data row4 col0\" >206</td>\n",
       "      <td id=\"T_ba4ad_row4_col1\" class=\"data row4 col1\" >21</td>\n",
       "      <td id=\"T_ba4ad_row4_col2\" class=\"data row4 col2\" >89</td>\n",
       "      <td id=\"T_ba4ad_row4_col3\" class=\"data row4 col3\" >0</td>\n",
       "      <td id=\"T_ba4ad_row4_col4\" class=\"data row4 col4\" >0</td>\n",
       "      <td id=\"T_ba4ad_row4_col5\" class=\"data row4 col5\" >42</td>\n",
       "      <td id=\"T_ba4ad_row4_col6\" class=\"data row4 col6\" >130</td>\n",
       "      <td id=\"T_ba4ad_row4_col7\" class=\"data row4 col7\" >638</td>\n",
       "      <td id=\"T_ba4ad_row4_col8\" class=\"data row4 col8\" >128</td>\n",
       "      <td id=\"T_ba4ad_row4_col9\" class=\"data row4 col9\" >0</td>\n",
       "      <td id=\"T_ba4ad_row4_col10\" class=\"data row4 col10\" >36</td>\n",
       "      <td id=\"T_ba4ad_row4_col11\" class=\"data row4 col11\" >24</td>\n",
       "      <td id=\"T_ba4ad_row4_col12\" class=\"data row4 col12\" >66</td>\n",
       "      <td id=\"T_ba4ad_row4_col13\" class=\"data row4 col13\" >22</td>\n",
       "      <td id=\"T_ba4ad_row4_col14\" class=\"data row4 col14\" >37</td>\n",
       "      <td id=\"T_ba4ad_row4_col15\" class=\"data row4 col15\" >9</td>\n",
       "      <td id=\"T_ba4ad_row4_col16\" class=\"data row4 col16\" >172</td>\n",
       "      <td id=\"T_ba4ad_row4_col17\" class=\"data row4 col17\" >42</td>\n",
       "      <td id=\"T_ba4ad_row4_col18\" class=\"data row4 col18\" >432</td>\n",
       "      <td id=\"T_ba4ad_row4_col19\" class=\"data row4 col19\" >123</td>\n",
       "      <td id=\"T_ba4ad_row4_col20\" class=\"data row4 col20\" >153</td>\n",
       "      <td id=\"T_ba4ad_row4_col21\" class=\"data row4 col21\" >2370</td>\n",
       "    </tr>\n",
       "    <tr>\n",
       "      <th id=\"T_ba4ad_level0_row5\" class=\"row_heading level0 row5\" >dchelot</th>\n",
       "      <td id=\"T_ba4ad_row5_col0\" class=\"data row5 col0\" >0</td>\n",
       "      <td id=\"T_ba4ad_row5_col1\" class=\"data row5 col1\" >0</td>\n",
       "      <td id=\"T_ba4ad_row5_col2\" class=\"data row5 col2\" >0</td>\n",
       "      <td id=\"T_ba4ad_row5_col3\" class=\"data row5 col3\" >0</td>\n",
       "      <td id=\"T_ba4ad_row5_col4\" class=\"data row5 col4\" >0</td>\n",
       "      <td id=\"T_ba4ad_row5_col5\" class=\"data row5 col5\" >0</td>\n",
       "      <td id=\"T_ba4ad_row5_col6\" class=\"data row5 col6\" >0</td>\n",
       "      <td id=\"T_ba4ad_row5_col7\" class=\"data row5 col7\" >0</td>\n",
       "      <td id=\"T_ba4ad_row5_col8\" class=\"data row5 col8\" >0</td>\n",
       "      <td id=\"T_ba4ad_row5_col9\" class=\"data row5 col9\" >0</td>\n",
       "      <td id=\"T_ba4ad_row5_col10\" class=\"data row5 col10\" >0</td>\n",
       "      <td id=\"T_ba4ad_row5_col11\" class=\"data row5 col11\" >0</td>\n",
       "      <td id=\"T_ba4ad_row5_col12\" class=\"data row5 col12\" >0</td>\n",
       "      <td id=\"T_ba4ad_row5_col13\" class=\"data row5 col13\" >0</td>\n",
       "      <td id=\"T_ba4ad_row5_col14\" class=\"data row5 col14\" >0</td>\n",
       "      <td id=\"T_ba4ad_row5_col15\" class=\"data row5 col15\" >0</td>\n",
       "      <td id=\"T_ba4ad_row5_col16\" class=\"data row5 col16\" >0</td>\n",
       "      <td id=\"T_ba4ad_row5_col17\" class=\"data row5 col17\" >0</td>\n",
       "      <td id=\"T_ba4ad_row5_col18\" class=\"data row5 col18\" >376</td>\n",
       "      <td id=\"T_ba4ad_row5_col19\" class=\"data row5 col19\" >0</td>\n",
       "      <td id=\"T_ba4ad_row5_col20\" class=\"data row5 col20\" >0</td>\n",
       "      <td id=\"T_ba4ad_row5_col21\" class=\"data row5 col21\" >376</td>\n",
       "    </tr>\n",
       "    <tr>\n",
       "      <th id=\"T_ba4ad_level0_row6\" class=\"row_heading level0 row6\" >despeignes</th>\n",
       "      <td id=\"T_ba4ad_row6_col0\" class=\"data row6 col0\" >0</td>\n",
       "      <td id=\"T_ba4ad_row6_col1\" class=\"data row6 col1\" >0</td>\n",
       "      <td id=\"T_ba4ad_row6_col2\" class=\"data row6 col2\" >0</td>\n",
       "      <td id=\"T_ba4ad_row6_col3\" class=\"data row6 col3\" >0</td>\n",
       "      <td id=\"T_ba4ad_row6_col4\" class=\"data row6 col4\" >0</td>\n",
       "      <td id=\"T_ba4ad_row6_col5\" class=\"data row6 col5\" >0</td>\n",
       "      <td id=\"T_ba4ad_row6_col6\" class=\"data row6 col6\" >0</td>\n",
       "      <td id=\"T_ba4ad_row6_col7\" class=\"data row6 col7\" >0</td>\n",
       "      <td id=\"T_ba4ad_row6_col8\" class=\"data row6 col8\" >0</td>\n",
       "      <td id=\"T_ba4ad_row6_col9\" class=\"data row6 col9\" >0</td>\n",
       "      <td id=\"T_ba4ad_row6_col10\" class=\"data row6 col10\" >0</td>\n",
       "      <td id=\"T_ba4ad_row6_col11\" class=\"data row6 col11\" >0</td>\n",
       "      <td id=\"T_ba4ad_row6_col12\" class=\"data row6 col12\" >0</td>\n",
       "      <td id=\"T_ba4ad_row6_col13\" class=\"data row6 col13\" >5</td>\n",
       "      <td id=\"T_ba4ad_row6_col14\" class=\"data row6 col14\" >0</td>\n",
       "      <td id=\"T_ba4ad_row6_col15\" class=\"data row6 col15\" >0</td>\n",
       "      <td id=\"T_ba4ad_row6_col16\" class=\"data row6 col16\" >0</td>\n",
       "      <td id=\"T_ba4ad_row6_col17\" class=\"data row6 col17\" >0</td>\n",
       "      <td id=\"T_ba4ad_row6_col18\" class=\"data row6 col18\" >28</td>\n",
       "      <td id=\"T_ba4ad_row6_col19\" class=\"data row6 col19\" >0</td>\n",
       "      <td id=\"T_ba4ad_row6_col20\" class=\"data row6 col20\" >0</td>\n",
       "      <td id=\"T_ba4ad_row6_col21\" class=\"data row6 col21\" >33</td>\n",
       "    </tr>\n",
       "    <tr>\n",
       "      <th id=\"T_ba4ad_level0_row7\" class=\"row_heading level0 row7\" >fbyron</th>\n",
       "      <td id=\"T_ba4ad_row7_col0\" class=\"data row7 col0\" >0</td>\n",
       "      <td id=\"T_ba4ad_row7_col1\" class=\"data row7 col1\" >48</td>\n",
       "      <td id=\"T_ba4ad_row7_col2\" class=\"data row7 col2\" >0</td>\n",
       "      <td id=\"T_ba4ad_row7_col3\" class=\"data row7 col3\" >32</td>\n",
       "      <td id=\"T_ba4ad_row7_col4\" class=\"data row7 col4\" >0</td>\n",
       "      <td id=\"T_ba4ad_row7_col5\" class=\"data row7 col5\" >55</td>\n",
       "      <td id=\"T_ba4ad_row7_col6\" class=\"data row7 col6\" >0</td>\n",
       "      <td id=\"T_ba4ad_row7_col7\" class=\"data row7 col7\" >16</td>\n",
       "      <td id=\"T_ba4ad_row7_col8\" class=\"data row7 col8\" >0</td>\n",
       "      <td id=\"T_ba4ad_row7_col9\" class=\"data row7 col9\" >42</td>\n",
       "      <td id=\"T_ba4ad_row7_col10\" class=\"data row7 col10\" >0</td>\n",
       "      <td id=\"T_ba4ad_row7_col11\" class=\"data row7 col11\" >0</td>\n",
       "      <td id=\"T_ba4ad_row7_col12\" class=\"data row7 col12\" >0</td>\n",
       "      <td id=\"T_ba4ad_row7_col13\" class=\"data row7 col13\" >10</td>\n",
       "      <td id=\"T_ba4ad_row7_col14\" class=\"data row7 col14\" >0</td>\n",
       "      <td id=\"T_ba4ad_row7_col15\" class=\"data row7 col15\" >21</td>\n",
       "      <td id=\"T_ba4ad_row7_col16\" class=\"data row7 col16\" >25</td>\n",
       "      <td id=\"T_ba4ad_row7_col17\" class=\"data row7 col17\" >0</td>\n",
       "      <td id=\"T_ba4ad_row7_col18\" class=\"data row7 col18\" >41</td>\n",
       "      <td id=\"T_ba4ad_row7_col19\" class=\"data row7 col19\" >33</td>\n",
       "      <td id=\"T_ba4ad_row7_col20\" class=\"data row7 col20\" >61</td>\n",
       "      <td id=\"T_ba4ad_row7_col21\" class=\"data row7 col21\" >384</td>\n",
       "    </tr>\n",
       "    <tr>\n",
       "      <th id=\"T_ba4ad_level0_row8\" class=\"row_heading level0 row8\" >pggd1234</th>\n",
       "      <td id=\"T_ba4ad_row8_col0\" class=\"data row8 col0\" >0</td>\n",
       "      <td id=\"T_ba4ad_row8_col1\" class=\"data row8 col1\" >0</td>\n",
       "      <td id=\"T_ba4ad_row8_col2\" class=\"data row8 col2\" >0</td>\n",
       "      <td id=\"T_ba4ad_row8_col3\" class=\"data row8 col3\" >0</td>\n",
       "      <td id=\"T_ba4ad_row8_col4\" class=\"data row8 col4\" >0</td>\n",
       "      <td id=\"T_ba4ad_row8_col5\" class=\"data row8 col5\" >58</td>\n",
       "      <td id=\"T_ba4ad_row8_col6\" class=\"data row8 col6\" >0</td>\n",
       "      <td id=\"T_ba4ad_row8_col7\" class=\"data row8 col7\" >0</td>\n",
       "      <td id=\"T_ba4ad_row8_col8\" class=\"data row8 col8\" >0</td>\n",
       "      <td id=\"T_ba4ad_row8_col9\" class=\"data row8 col9\" >0</td>\n",
       "      <td id=\"T_ba4ad_row8_col10\" class=\"data row8 col10\" >0</td>\n",
       "      <td id=\"T_ba4ad_row8_col11\" class=\"data row8 col11\" >0</td>\n",
       "      <td id=\"T_ba4ad_row8_col12\" class=\"data row8 col12\" >0</td>\n",
       "      <td id=\"T_ba4ad_row8_col13\" class=\"data row8 col13\" >0</td>\n",
       "      <td id=\"T_ba4ad_row8_col14\" class=\"data row8 col14\" >0</td>\n",
       "      <td id=\"T_ba4ad_row8_col15\" class=\"data row8 col15\" >0</td>\n",
       "      <td id=\"T_ba4ad_row8_col16\" class=\"data row8 col16\" >0</td>\n",
       "      <td id=\"T_ba4ad_row8_col17\" class=\"data row8 col17\" >0</td>\n",
       "      <td id=\"T_ba4ad_row8_col18\" class=\"data row8 col18\" >34</td>\n",
       "      <td id=\"T_ba4ad_row8_col19\" class=\"data row8 col19\" >0</td>\n",
       "      <td id=\"T_ba4ad_row8_col20\" class=\"data row8 col20\" >0</td>\n",
       "      <td id=\"T_ba4ad_row8_col21\" class=\"data row8 col21\" >92</td>\n",
       "    </tr>\n",
       "    <tr>\n",
       "      <th id=\"T_ba4ad_level0_row9\" class=\"row_heading level0 row9\" >Total</th>\n",
       "      <td id=\"T_ba4ad_row9_col0\" class=\"data row9 col0\" >237</td>\n",
       "      <td id=\"T_ba4ad_row9_col1\" class=\"data row9 col1\" >183</td>\n",
       "      <td id=\"T_ba4ad_row9_col2\" class=\"data row9 col2\" >89</td>\n",
       "      <td id=\"T_ba4ad_row9_col3\" class=\"data row9 col3\" >32</td>\n",
       "      <td id=\"T_ba4ad_row9_col4\" class=\"data row9 col4\" >125</td>\n",
       "      <td id=\"T_ba4ad_row9_col5\" class=\"data row9 col5\" >190</td>\n",
       "      <td id=\"T_ba4ad_row9_col6\" class=\"data row9 col6\" >264</td>\n",
       "      <td id=\"T_ba4ad_row9_col7\" class=\"data row9 col7\" >703</td>\n",
       "      <td id=\"T_ba4ad_row9_col8\" class=\"data row9 col8\" >344</td>\n",
       "      <td id=\"T_ba4ad_row9_col9\" class=\"data row9 col9\" >42</td>\n",
       "      <td id=\"T_ba4ad_row9_col10\" class=\"data row9 col10\" >36</td>\n",
       "      <td id=\"T_ba4ad_row9_col11\" class=\"data row9 col11\" >24</td>\n",
       "      <td id=\"T_ba4ad_row9_col12\" class=\"data row9 col12\" >66</td>\n",
       "      <td id=\"T_ba4ad_row9_col13\" class=\"data row9 col13\" >49</td>\n",
       "      <td id=\"T_ba4ad_row9_col14\" class=\"data row9 col14\" >37</td>\n",
       "      <td id=\"T_ba4ad_row9_col15\" class=\"data row9 col15\" >318</td>\n",
       "      <td id=\"T_ba4ad_row9_col16\" class=\"data row9 col16\" >227</td>\n",
       "      <td id=\"T_ba4ad_row9_col17\" class=\"data row9 col17\" >42</td>\n",
       "      <td id=\"T_ba4ad_row9_col18\" class=\"data row9 col18\" >935</td>\n",
       "      <td id=\"T_ba4ad_row9_col19\" class=\"data row9 col19\" >168</td>\n",
       "      <td id=\"T_ba4ad_row9_col20\" class=\"data row9 col20\" >398</td>\n",
       "      <td id=\"T_ba4ad_row9_col21\" class=\"data row9 col21\" >4509</td>\n",
       "    </tr>\n",
       "  </tbody>\n",
       "</table>\n"
      ],
      "text/plain": [
       "<pandas.io.formats.style.Styler at 0x124c29b90>"
      ]
     },
     "execution_count": 16,
     "metadata": {},
     "output_type": "execute_result"
    },
    {
     "name": "stdout",
     "output_type": "stream",
     "text": [
      "-----------------------------------------------------------------------------------------------------\n"
     ]
    },
    {
     "data": {
      "text/html": [
       "<style type=\"text/css\">\n",
       "#T_afbf8_row0_col0 {\n",
       "  background-color: yellow;\n",
       "}\n",
       "</style>\n",
       "<table id=\"T_afbf8\">\n",
       "  <thead>\n",
       "    <tr>\n",
       "      <th class=\"blank level0\" >&nbsp;</th>\n",
       "      <th id=\"T_afbf8_level0_col0\" class=\"col_heading level0 col0\" >resultats</th>\n",
       "    </tr>\n",
       "  </thead>\n",
       "  <tbody>\n",
       "    <tr>\n",
       "      <th id=\"T_afbf8_level0_row0\" class=\"row_heading level0 row0\" >0</th>\n",
       "      <td id=\"T_afbf8_row0_col0\" class=\"data row0 col0\" >No data entry</td>\n",
       "    </tr>\n",
       "  </tbody>\n",
       "</table>\n"
      ],
      "text/plain": [
       "<pandas.io.formats.style.Styler at 0x12440c150>"
      ]
     },
     "execution_count": 16,
     "metadata": {},
     "output_type": "execute_result"
    },
    {
     "name": "stdout",
     "output_type": "stream",
     "text": [
      "-----------------------------------------------------------------------------------------------------\n"
     ]
    },
    {
     "data": {
      "text/html": [
       "<style type=\"text/css\">\n",
       "#T_a0873_row0_col0, #T_a0873_row1_col1, #T_a0873_row2_col0, #T_a0873_row2_col1, #T_a0873_row2_col2 {\n",
       "  background-color: yellow;\n",
       "}\n",
       "</style>\n",
       "<table id=\"T_a0873\">\n",
       "  <thead>\n",
       "    <tr>\n",
       "      <th class=\"index_name level0\" >commune</th>\n",
       "      <th id=\"T_a0873_level0_col0\" class=\"col_heading level0 col0\" >Gressier</th>\n",
       "      <th id=\"T_a0873_level0_col1\" class=\"col_heading level0 col1\" >Verrettes</th>\n",
       "      <th id=\"T_a0873_level0_col2\" class=\"col_heading level0 col2\" >Total</th>\n",
       "    </tr>\n",
       "    <tr>\n",
       "      <th class=\"index_name level0\" >username</th>\n",
       "      <th class=\"blank col0\" >&nbsp;</th>\n",
       "      <th class=\"blank col1\" >&nbsp;</th>\n",
       "      <th class=\"blank col2\" >&nbsp;</th>\n",
       "    </tr>\n",
       "  </thead>\n",
       "  <tbody>\n",
       "    <tr>\n",
       "      <th id=\"T_a0873_level0_row0\" class=\"row_heading level0 row0\" >billyjolicoeur</th>\n",
       "      <td id=\"T_a0873_row0_col0\" class=\"data row0 col0\" >1</td>\n",
       "      <td id=\"T_a0873_row0_col1\" class=\"data row0 col1\" >0</td>\n",
       "      <td id=\"T_a0873_row0_col2\" class=\"data row0 col2\" >1</td>\n",
       "    </tr>\n",
       "    <tr>\n",
       "      <th id=\"T_a0873_level0_row1\" class=\"row_heading level0 row1\" >fbyron</th>\n",
       "      <td id=\"T_a0873_row1_col0\" class=\"data row1 col0\" >0</td>\n",
       "      <td id=\"T_a0873_row1_col1\" class=\"data row1 col1\" >28</td>\n",
       "      <td id=\"T_a0873_row1_col2\" class=\"data row1 col2\" >28</td>\n",
       "    </tr>\n",
       "    <tr>\n",
       "      <th id=\"T_a0873_level0_row2\" class=\"row_heading level0 row2\" >Total</th>\n",
       "      <td id=\"T_a0873_row2_col0\" class=\"data row2 col0\" >1</td>\n",
       "      <td id=\"T_a0873_row2_col1\" class=\"data row2 col1\" >28</td>\n",
       "      <td id=\"T_a0873_row2_col2\" class=\"data row2 col2\" >29</td>\n",
       "    </tr>\n",
       "  </tbody>\n",
       "</table>\n"
      ],
      "text/plain": [
       "<pandas.io.formats.style.Styler at 0x11af1c110>"
      ]
     },
     "execution_count": 16,
     "metadata": {},
     "output_type": "execute_result"
    },
    {
     "name": "stderr",
     "output_type": "stream",
     "text": [
      "[83941:259:0327/083257.910667:ERROR:process_singleton_posix.cc(334)] Failed to create /Users/ad0791/Library/Application Support/Google/Chrome/SingletonLock: File exists (17)\n",
      "[83948:259:0327/083258.007620:ERROR:mach_port_rendezvous.cc(311)] bootstrap_look_up com.google.Chrome.MachPortRendezvousServer.1: Permission denied (1100)\n",
      "[83950:259:0327/083258.011190:ERROR:mach_port_rendezvous.cc(311)] bootstrap_look_up com.google.Chrome.MachPortRendezvousServer.1: Permission denied (1100)\n",
      "[83950:259:0327/083258.018825:ERROR:child_thread_impl.cc(230)] Mach rendezvous failed, terminating process (parent died?)\n",
      "objc[83948]: Class WebSwapCGLLayer is implemented in both /System/Library/Frameworks/WebKit.framework/Versions/A/Frameworks/WebCore.framework/Versions/A/Frameworks/libANGLE-shared.dylib (0x7ffb4d7b5ec8) and /Applications/Google Chrome.app/Contents/Frameworks/Google Chrome Framework.framework/Versions/111.0.5563.110/Libraries/libGLESv2.dylib (0x10c495850). One of the two will be used. Which one is undefined.\n",
      "[83948:259:0327/083258.876210:ERROR:child_thread_impl.cc(230)] Mach rendezvous failed, terminating process (parent died?)\n"
     ]
    },
    {
     "ename": "CalledProcessError",
     "evalue": "Command '['--enable-logging', '--disable-gpu', '--headless=new', '--crash-dumps-dir=/tmp', '--force-device-scale-factor=1', '--window-size=1400,900', '--hide-scrollbars', '--screenshot=/var/folders/7v/rs0k237d6nj3vdxfc1h7xtcw0000gn/T/tmp91vc61ol/temp.png', '/var/folders/7v/rs0k237d6nj3vdxfc1h7xtcw0000gn/T/tmp91vc61ol/temp.html']' returned non-zero exit status 21.",
     "output_type": "error",
     "traceback": [
      "\u001b[0;31m---------------------------------------------------------------------------\u001b[0m",
      "\u001b[0;31mCalledProcessError\u001b[0m                        Traceback (most recent call last)",
      "Cell \u001b[0;32mIn[16], line 22\u001b[0m\n\u001b[1;32m     19\u001b[0m parenting_table \u001b[39m=\u001b[39m parenting_table\u001b[39m.\u001b[39mstyle\u001b[39m.\u001b[39mhighlight_max()\n\u001b[1;32m     20\u001b[0m parenting_table\n\u001b[0;32m---> 22\u001b[0m export(ben_table,\u001b[39m'\u001b[39;49m\u001b[39mben_table.png\u001b[39;49m\u001b[39m'\u001b[39;49m)\n\u001b[1;32m     23\u001b[0m export(ben_table_week, \u001b[39m'\u001b[39m\u001b[39mben_table_week.png\u001b[39m\u001b[39m'\u001b[39m)\n\u001b[1;32m     24\u001b[0m export(parenting_table,\u001b[39m'\u001b[39m\u001b[39mparenting_table.png\u001b[39m\u001b[39m'\u001b[39m)\n",
      "File \u001b[0;32m/usr/local/lib/python3.11/site-packages/dataframe_image/_pandas_accessor.py:41\u001b[0m, in \u001b[0;36mexport\u001b[0;34m(obj, filename, fontsize, max_rows, max_cols, table_conversion, chrome_path, dpi)\u001b[0m\n\u001b[1;32m     31\u001b[0m \u001b[39mdef\u001b[39;00m \u001b[39mexport\u001b[39m(\n\u001b[1;32m     32\u001b[0m     obj,\n\u001b[1;32m     33\u001b[0m     filename,\n\u001b[0;32m   (...)\u001b[0m\n\u001b[1;32m     39\u001b[0m     dpi\u001b[39m=\u001b[39m\u001b[39mNone\u001b[39;00m,\n\u001b[1;32m     40\u001b[0m ):\n\u001b[0;32m---> 41\u001b[0m     \u001b[39mreturn\u001b[39;00m _export(obj, filename, fontsize, max_rows, max_cols, table_conversion, chrome_path, dpi)\n",
      "File \u001b[0;32m/usr/local/lib/python3.11/site-packages/dataframe_image/_pandas_accessor.py:119\u001b[0m, in \u001b[0;36m_export\u001b[0;34m(obj, filename, fontsize, max_rows, max_cols, table_conversion, chrome_path, dpi)\u001b[0m\n\u001b[1;32m    116\u001b[0m \u001b[39melse\u001b[39;00m:\n\u001b[1;32m    117\u001b[0m     html \u001b[39m=\u001b[39m obj\u001b[39m.\u001b[39mto_html(max_rows\u001b[39m=\u001b[39mmax_rows, max_cols\u001b[39m=\u001b[39mmax_cols, notebook\u001b[39m=\u001b[39m\u001b[39mTrue\u001b[39;00m)\n\u001b[0;32m--> 119\u001b[0m img_str \u001b[39m=\u001b[39m converter(html)\n\u001b[1;32m    121\u001b[0m \u001b[39mtry\u001b[39;00m:\n\u001b[1;32m    122\u001b[0m     \u001b[39mwith\u001b[39;00m \u001b[39mopen\u001b[39m(filename, \u001b[39m\"\u001b[39m\u001b[39mwb\u001b[39m\u001b[39m\"\u001b[39m) \u001b[39mas\u001b[39;00m f:\n",
      "File \u001b[0;32m/usr/local/lib/python3.11/site-packages/dataframe_image/_screenshot.py:198\u001b[0m, in \u001b[0;36mScreenshot.run\u001b[0;34m(self, html)\u001b[0m\n\u001b[1;32m    196\u001b[0m \u001b[39mdef\u001b[39;00m \u001b[39mrun\u001b[39m(\u001b[39mself\u001b[39m, html):\n\u001b[1;32m    197\u001b[0m     \u001b[39mself\u001b[39m\u001b[39m.\u001b[39mhtml \u001b[39m=\u001b[39m html\n\u001b[0;32m--> 198\u001b[0m     img \u001b[39m=\u001b[39m \u001b[39mself\u001b[39;49m\u001b[39m.\u001b[39;49mtake_screenshot()\n\u001b[1;32m    199\u001b[0m     img_str \u001b[39m=\u001b[39m \u001b[39mself\u001b[39m\u001b[39m.\u001b[39mfinalize_image(img)\n\u001b[1;32m    200\u001b[0m     \u001b[39mreturn\u001b[39;00m img_str\n",
      "File \u001b[0;32m/usr/local/lib/python3.11/site-packages/dataframe_image/_screenshot.py:137\u001b[0m, in \u001b[0;36mScreenshot.take_screenshot\u001b[0;34m(self, ss_width, ss_height)\u001b[0m\n\u001b[1;32m    129\u001b[0m     args\u001b[39m.\u001b[39mappend(\u001b[39mf\u001b[39m\u001b[39m\"\u001b[39m\u001b[39m--window-size=\u001b[39m\u001b[39m{\u001b[39;00mss_width\u001b[39m}\u001b[39;00m\u001b[39m,\u001b[39m\u001b[39m{\u001b[39;00mss_height\u001b[39m}\u001b[39;00m\u001b[39m\"\u001b[39m)\n\u001b[1;32m    131\u001b[0m args \u001b[39m+\u001b[39m\u001b[39m=\u001b[39m [\n\u001b[1;32m    132\u001b[0m     \u001b[39m\"\u001b[39m\u001b[39m--hide-scrollbars\u001b[39m\u001b[39m\"\u001b[39m,\n\u001b[1;32m    133\u001b[0m     \u001b[39mf\u001b[39m\u001b[39m\"\u001b[39m\u001b[39m--screenshot=\u001b[39m\u001b[39m{\u001b[39;00m\u001b[39mstr\u001b[39m(temp_img)\u001b[39m}\u001b[39;00m\u001b[39m\"\u001b[39m,\n\u001b[1;32m    134\u001b[0m     \u001b[39mstr\u001b[39m(temp_html),\n\u001b[1;32m    135\u001b[0m ]\n\u001b[0;32m--> 137\u001b[0m \u001b[39mself\u001b[39;49m\u001b[39m.\u001b[39;49mgenerate_image_from_html(args)\n\u001b[1;32m    139\u001b[0m im \u001b[39m=\u001b[39m Image\u001b[39m.\u001b[39mopen(temp_img)\n\u001b[1;32m    140\u001b[0m \u001b[39mreturn\u001b[39;00m \u001b[39mself\u001b[39m\u001b[39m.\u001b[39mpossibly_enlarge(im)\n",
      "File \u001b[0;32m/usr/local/lib/python3.11/site-packages/dataframe_image/_screenshot.py:143\u001b[0m, in \u001b[0;36mScreenshot.generate_image_from_html\u001b[0;34m(self, args)\u001b[0m\n\u001b[1;32m    142\u001b[0m \u001b[39mdef\u001b[39;00m \u001b[39mgenerate_image_from_html\u001b[39m(\u001b[39mself\u001b[39m, args):\n\u001b[0;32m--> 143\u001b[0m     subprocess\u001b[39m.\u001b[39;49mrun(executable\u001b[39m=\u001b[39;49m\u001b[39mself\u001b[39;49m\u001b[39m.\u001b[39;49mchrome_path, args\u001b[39m=\u001b[39;49margs, check\u001b[39m=\u001b[39;49m\u001b[39mTrue\u001b[39;49;00m)\n",
      "File \u001b[0;32m/usr/local/Cellar/python@3.11/3.11.2_1/Frameworks/Python.framework/Versions/3.11/lib/python3.11/subprocess.py:571\u001b[0m, in \u001b[0;36mrun\u001b[0;34m(input, capture_output, timeout, check, *popenargs, **kwargs)\u001b[0m\n\u001b[1;32m    569\u001b[0m     retcode \u001b[39m=\u001b[39m process\u001b[39m.\u001b[39mpoll()\n\u001b[1;32m    570\u001b[0m     \u001b[39mif\u001b[39;00m check \u001b[39mand\u001b[39;00m retcode:\n\u001b[0;32m--> 571\u001b[0m         \u001b[39mraise\u001b[39;00m CalledProcessError(retcode, process\u001b[39m.\u001b[39margs,\n\u001b[1;32m    572\u001b[0m                                  output\u001b[39m=\u001b[39mstdout, stderr\u001b[39m=\u001b[39mstderr)\n\u001b[1;32m    573\u001b[0m \u001b[39mreturn\u001b[39;00m CompletedProcess(process\u001b[39m.\u001b[39margs, retcode, stdout, stderr)\n",
      "\u001b[0;31mCalledProcessError\u001b[0m: Command '['--enable-logging', '--disable-gpu', '--headless=new', '--crash-dumps-dir=/tmp', '--force-device-scale-factor=1', '--window-size=1400,900', '--hide-scrollbars', '--screenshot=/var/folders/7v/rs0k237d6nj3vdxfc1h7xtcw0000gn/T/tmp91vc61ol/temp.png', '/var/folders/7v/rs0k237d6nj3vdxfc1h7xtcw0000gn/T/tmp91vc61ol/temp.html']' returned non-zero exit status 21."
     ]
    }
   ],
   "source": [
    "options.display.latex.repr = True\n",
    "\n",
    "#ben_table = ben_byAgent.pivot_table(values='id_patient',index='username',columns='commune',aggfunc='count',fill_value=0,margins=True, margins_name='Total')\n",
    "ben_table = validation_pivot(ben_byAgent)\n",
    "ben_table = ben_table.style.highlight_max()\n",
    "ben_table\n",
    "\n",
    "print('-----------------------------------------------------------------------------------------------------')\n",
    "\n",
    "ben_table_week = validation_pivot(ben_byAgent_week)\n",
    "ben_table_week = ben_table_week.style.highlight_max()\n",
    "ben_table_week\n",
    "\n",
    "\n",
    "print('-----------------------------------------------------------------------------------------------------')\n",
    "\n",
    "#parenting_table = parenting_byAgent.pivot_table(values='id_patient',index='username',columns='commune',aggfunc='count',fill_value=0,margins=True, margins_name='Total')\n",
    "parenting_table = validation_pivot(parenting_byAgent)\n",
    "parenting_table = parenting_table.style.highlight_max()\n",
    "parenting_table\n",
    "\n",
    "export(ben_table,'ben_table.png')\n",
    "export(ben_table_week, 'ben_table_week.png')\n",
    "export(parenting_table,'parenting_table.png')"
   ]
  },
  {
   "cell_type": "markdown",
   "metadata": {},
   "source": [
    "# 3 component "
   ]
  },
  {
   "cell_type": "code",
   "execution_count": null,
   "metadata": {},
   "outputs": [
    {
     "data": {
      "text/html": [
       "<style type=\"text/css\">\n",
       "#T_4eb1b_row0_col0, #T_4eb1b_row0_col1 {\n",
       "  background-color: yellow;\n",
       "}\n",
       "</style>\n",
       "<table id=\"T_4eb1b\">\n",
       "  <thead>\n",
       "    <tr>\n",
       "      <th class=\"blank level0\" >&nbsp;</th>\n",
       "      <th id=\"T_4eb1b_level0_col0\" class=\"col_heading level0 col0\" >Nombre de fille</th>\n",
       "      <th id=\"T_4eb1b_level0_col1\" class=\"col_heading level0 col1\" >Nombre de presence</th>\n",
       "    </tr>\n",
       "  </thead>\n",
       "  <tbody>\n",
       "    <tr>\n",
       "      <th id=\"T_4eb1b_level0_row0\" class=\"row_heading level0 row0\" >0</th>\n",
       "      <td id=\"T_4eb1b_row0_col0\" class=\"data row0 col0\" >3889</td>\n",
       "      <td id=\"T_4eb1b_row0_col1\" class=\"data row0 col1\" >74841</td>\n",
       "    </tr>\n",
       "  </tbody>\n",
       "</table>\n"
      ],
      "text/plain": [
       "<pandas.io.formats.style.Styler at 0x125f6f820>"
      ]
     },
     "execution_count": 17,
     "metadata": {},
     "output_type": "execute_result"
    },
    {
     "name": "stdout",
     "output_type": "stream",
     "text": [
      "-----------------------------------------------------------------------\n"
     ]
    },
    {
     "data": {
      "text/html": [
       "<style type=\"text/css\">\n",
       "#T_5f6da_row0_col0, #T_5f6da_row0_col1 {\n",
       "  background-color: yellow;\n",
       "}\n",
       "</style>\n",
       "<table id=\"T_5f6da\">\n",
       "  <thead>\n",
       "    <tr>\n",
       "      <th class=\"blank level0\" >&nbsp;</th>\n",
       "      <th id=\"T_5f6da_level0_col0\" class=\"col_heading level0 col0\" >Nombre de fille</th>\n",
       "      <th id=\"T_5f6da_level0_col1\" class=\"col_heading level0 col1\" >Nombre de presence</th>\n",
       "    </tr>\n",
       "  </thead>\n",
       "  <tbody>\n",
       "    <tr>\n",
       "      <th id=\"T_5f6da_level0_row0\" class=\"row_heading level0 row0\" >0</th>\n",
       "      <td id=\"T_5f6da_row0_col0\" class=\"data row0 col0\" >0</td>\n",
       "      <td id=\"T_5f6da_row0_col1\" class=\"data row0 col1\" >0</td>\n",
       "    </tr>\n",
       "  </tbody>\n",
       "</table>\n"
      ],
      "text/plain": [
       "<pandas.io.formats.style.Styler at 0x1264aead0>"
      ]
     },
     "execution_count": 17,
     "metadata": {},
     "output_type": "execute_result"
    },
    {
     "name": "stdout",
     "output_type": "stream",
     "text": [
      "-----------------------------------------------------------------------\n"
     ]
    },
    {
     "data": {
      "text/html": [
       "<style type=\"text/css\">\n",
       "#T_54e72_row0_col0, #T_54e72_row0_col1 {\n",
       "  background-color: yellow;\n",
       "}\n",
       "</style>\n",
       "<table id=\"T_54e72\">\n",
       "  <thead>\n",
       "    <tr>\n",
       "      <th class=\"blank level0\" >&nbsp;</th>\n",
       "      <th id=\"T_54e72_level0_col0\" class=\"col_heading level0 col0\" >Nombre de fille/parent parenting</th>\n",
       "      <th id=\"T_54e72_level0_col1\" class=\"col_heading level0 col1\" >Nombre de presence</th>\n",
       "    </tr>\n",
       "  </thead>\n",
       "  <tbody>\n",
       "    <tr>\n",
       "      <th id=\"T_54e72_level0_row0\" class=\"row_heading level0 row0\" >0</th>\n",
       "      <td id=\"T_54e72_row0_col0\" class=\"data row0 col0\" >14</td>\n",
       "      <td id=\"T_54e72_row0_col1\" class=\"data row0 col1\" >176</td>\n",
       "    </tr>\n",
       "  </tbody>\n",
       "</table>\n"
      ],
      "text/plain": [
       "<pandas.io.formats.style.Styler at 0x12647b400>"
      ]
     },
     "execution_count": 17,
     "metadata": {},
     "output_type": "execute_result"
    },
    {
     "name": "stderr",
     "output_type": "stream",
     "text": [
      "objc[23004]: Class WebSwapCGLLayer is implemented in both /System/Library/Frameworks/WebKit.framework/Versions/A/Frameworks/WebCore.framework/Versions/A/Frameworks/libANGLE-shared.dylib (0x7ffb44204ec8) and /Applications/Google Chrome.app/Contents/Frameworks/Google Chrome Framework.framework/Versions/110.0.5481.177/Libraries/libGLESv2.dylib (0x112da3220). One of the two will be used. Which one is undefined.\n",
      "[0306/090127.536639:INFO:headless_shell.cc(107)] 14033 bytes written to file /var/folders/7v/rs0k237d6nj3vdxfc1h7xtcw0000gn/T/tmpoyyi1efd/temp.png\n",
      "objc[23014]: Class WebSwapCGLLayer is implemented in both /System/Library/Frameworks/WebKit.framework/Versions/A/Frameworks/WebCore.framework/Versions/A/Frameworks/libANGLE-shared.dylib (0x7ffb44204ec8) and /Applications/Google Chrome.app/Contents/Frameworks/Google Chrome Framework.framework/Versions/110.0.5481.177/Libraries/libGLESv2.dylib (0x12223d220). One of the two will be used. Which one is undefined.\n",
      "[0306/090128.692259:INFO:headless_shell.cc(107)] 12751 bytes written to file /var/folders/7v/rs0k237d6nj3vdxfc1h7xtcw0000gn/T/tmprylaob8s/temp.png\n",
      "objc[23024]: Class WebSwapCGLLayer is implemented in both /System/Library/Frameworks/WebKit.framework/Versions/A/Frameworks/WebCore.framework/Versions/A/Frameworks/libANGLE-shared.dylib (0x7ffb44204ec8) and /Applications/Google Chrome.app/Contents/Frameworks/Google Chrome Framework.framework/Versions/110.0.5481.177/Libraries/libGLESv2.dylib (0x1216bc220). One of the two will be used. Which one is undefined.\n",
      "[0306/090129.807495:INFO:headless_shell.cc(107)] 14271 bytes written to file /var/folders/7v/rs0k237d6nj3vdxfc1h7xtcw0000gn/T/tmpjo286uv8/temp.png\n"
     ]
    }
   ],
   "source": [
    "options.display.latex.repr = True\n",
    "\n",
    "curriculum_result = DataFrame(\n",
    "    [\n",
    "        {'Nombre de fille': ben_byAgent.id_patient.count(),\n",
    "        'Nombre de presence': pres_byAgent.nombre_pres.sum()}\n",
    "    ]\n",
    ")\n",
    "curriculum_result.style.highlight_max()\n",
    "\n",
    "print('-----------------------------------------------------------------------')\n",
    "\n",
    "curriculum_result_week = DataFrame(\n",
    "    [\n",
    "        {'Nombre de fille': ben_byAgent_week.id_patient.count(),\n",
    "        'Nombre de presence': pres_byAgent_week.nombre_pres.sum()}\n",
    "    ]\n",
    ")\n",
    "curriculum_result_week.style.highlight_max()\n",
    "\n",
    "\n",
    "print('-----------------------------------------------------------------------')\n",
    "\n",
    "parenting_result = DataFrame(\n",
    "    [\n",
    "        {'Nombre de fille/parent parenting': parenting_byAgent.id_patient.count(),\n",
    "        'Nombre de presence': pres_parenting.nombre_pres.sum()}\n",
    "    ]\n",
    ")\n",
    "parenting_result.style.highlight_max()\n",
    "\n",
    "export(curriculum_result,'curriculum_result.png')\n",
    "export(curriculum_result_week,'curriculum_result_week.png')\n",
    "export(parenting_result,'parenting_result.png')"
   ]
  },
  {
   "cell_type": "markdown",
   "metadata": {},
   "source": [
    "# Report"
   ]
  },
  {
   "cell_type": "code",
   "execution_count": null,
   "metadata": {},
   "outputs": [
    {
     "name": "stderr",
     "output_type": "stream",
     "text": [
      "/var/folders/7v/rs0k237d6nj3vdxfc1h7xtcw0000gn/T/ipykernel_20079/2495277387.py:8: FutureWarning: save is not part of the public API, usage can give unexpected results and will be removed in a future version\n",
      "  all_report.save()\n"
     ]
    }
   ],
   "source": [
    "all_report = ExcelWriter(f\"rapport_performance.xlsx\",engine=\"openpyxl\")\n",
    "curriculum_result.to_excel(all_report,sheet_name=\"resultat_curriculum\",index=False,na_rep=\"\")\n",
    "pres_byAgent.to_excel(all_report,sheet_name=\"presence_agent_curriculum\",index=False,na_rep=\"\")\n",
    "ben_table.to_excel(all_report,sheet_name=\"ben_communes_curriculum\",index=True,na_rep=\"\")\n",
    "parenting_result.to_excel(all_report,sheet_name=\"resultat_parenting\",index=False,na_rep=\"\")\n",
    "pres_parenting.to_excel(all_report,sheet_name=\"pres_agent_parenting\",index=False,na_rep=\"\")\n",
    "parenting_table.to_excel(all_report,sheet_name=\"ben_communes_parenting\",index=True,na_rep=\"\")\n",
    "all_report.save()"
   ]
  },
  {
   "cell_type": "code",
   "execution_count": null,
   "metadata": {},
   "outputs": [
    {
     "name": "stderr",
     "output_type": "stream",
     "text": [
      "/var/folders/7v/rs0k237d6nj3vdxfc1h7xtcw0000gn/T/ipykernel_20079/3985802063.py:5: FutureWarning: save is not part of the public API, usage can give unexpected results and will be removed in a future version\n",
      "  week_report.save()\n"
     ]
    }
   ],
   "source": [
    "week_report = ExcelWriter(f\"rapport_pour_la_semaine.xlsx\",engine=\"openpyxl\")\n",
    "curriculum_result_week.to_excel(week_report,sheet_name=\"resultat_curriculum\",index=False,na_rep=\"\")\n",
    "pres_byAgent_week.to_excel(week_report,sheet_name=\"presence_agent_curriculum\",index=False,na_rep=\"\")\n",
    "ben_table_week.to_excel(week_report,sheet_name=\"ben_communes_curriculum\",index=True,na_rep=\"\")\n",
    "week_report.save()"
   ]
  }
 ],
 "metadata": {
  "interpreter": {
   "hash": "b460384b52104c1e5b9cf54bee46a255d22b2bef338f75ac4ad5d48196028d3c"
  },
  "kernelspec": {
   "display_name": "Python 3.10.4 64-bit",
   "language": "python",
   "name": "python3"
  },
  "language_info": {
   "codemirror_mode": {
    "name": "ipython",
    "version": 3
   },
   "file_extension": ".py",
   "mimetype": "text/x-python",
   "name": "python",
   "nbconvert_exporter": "python",
   "pygments_lexer": "ipython3",
   "version": "3.11.2"
  },
  "orig_nbformat": 4
 },
 "nbformat": 4,
 "nbformat_minor": 2
}
