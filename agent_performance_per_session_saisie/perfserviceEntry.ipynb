{
 "cells": [
  {
   "cell_type": "code",
   "execution_count": 1,
   "metadata": {},
   "outputs": [],
   "source": [
    "from IPython.core.interactiveshell import InteractiveShell\n",
    "InteractiveShell.ast_node_interactivity = \"all\"\n",
    "import os\n",
    "from datetime import datetime\n",
    "#from datetime import date\n",
    "import pymysql\n",
    "from sqlalchemy import create_engine\n",
    "from decouple import config \n",
    "from dotenv import load_dotenv\n",
    "from pandas import (\n",
    "    read_sql_query, \n",
    "    DataFrame,\n",
    "    ExcelWriter,\n",
    "    options\n",
    ")\n",
    "from dataframe_image import export\n",
    "\n",
    "\n",
    "from enum import Enum\n",
    "import openpyxl\n",
    "import matplotlib.pyplot as plt\n",
    "import seaborn as sns\n",
    "%matplotlib inline"
   ]
  },
  {
   "cell_type": "code",
   "execution_count": 2,
   "metadata": {},
   "outputs": [],
   "source": [
    "class Period(Enum):\n",
    "    date = '2021-10-01'\n",
    "    wb=''\n",
    "    date_du_jour = datetime.today().strftime(\"%d_%m_%Y\")"
   ]
  },
  {
   "cell_type": "code",
   "execution_count": 3,
   "metadata": {},
   "outputs": [
    {
     "data": {
      "text/plain": [
       "True"
      ]
     },
     "execution_count": 3,
     "metadata": {},
     "output_type": "execute_result"
    }
   ],
   "source": [
    "load_dotenv()\n",
    "# get the environment variables needed\n",
    "USER = config('USRCaris')\n",
    "PASSWORD = config('PASSCaris')\n",
    "HOSTNAME = config('HOSTCaris')\n",
    "DBNAME = config('DBCaris')\n",
    "\n",
    "# get the engine to connect and fetch\n",
    "engine = create_engine(\n",
    "    f\"mysql+pymysql://{USER}:{PASSWORD}@{HOSTNAME}/{DBNAME}\")\n",
    "\n",
    "query_presenceQty = f'''\n",
    "SELECT \n",
    "    a.*, COUNT(*) AS qte_pres_by_creator\n",
    "FROM\n",
    "    (SELECT \n",
    "            dgs.created_by,\n",
    "            au.email AS email,\n",
    "            au.username\n",
    "    FROM\n",
    "        caris_db.dream_group_session dgs\n",
    "    LEFT JOIN dream_group_attendance dga ON dgs.id = dga.id_group_session\n",
    "    LEFT JOIN dream_group dg ON dgs.id_group = dg.id\n",
    "    LEFT JOIN dream_hub dh ON dg.id_dream_hub = dh.id\n",
    "    LEFT JOIN lookup_commune lc ON lc.id = dh.commune\n",
    "    LEFT JOIN lookup_departement ld ON ld.id = lc.departement\n",
    "    LEFT JOIN auth_users au ON au.id = dgs.created_by\n",
    "    WHERE\n",
    "        dga.value = 'P'\n",
    "            AND dgs.date >= '{Period.date.value}') a\n",
    "GROUP BY a.created_by\n",
    "'''\n",
    "\n",
    "query_beneficiariesQty = f'''\n",
    "SELECT *, COUNT(*)AS qte_by_creator FROM\n",
    "    (SELECT\n",
    "        dgs.id AS id_session,\n",
    "            topic,\n",
    "            date,\n",
    "            dga.id_patient AS id_patient,\n",
    "            dgs.created_by,\n",
    "            lc.name AS commune,\n",
    "            ld.name AS departement,\n",
    "            dh.name AS hub,\n",
    "            au.email AS email,\n",
    "            au.username,\n",
    "            b.first_name,\n",
    "            b.last_name,\n",
    "            p.patient_code as dreams_code\n",
    "    FROM\n",
    "        caris_db.dream_group_session dgs\n",
    "    INNER JOIN dream_group_attendance dga ON dgs.id = dga.id_group_session\n",
    "        LEFT JOIN dream_group dg ON dgs.id_group = dg.id\n",
    "    LEFT JOIN dream_hub dh ON dg.id_dream_hub = dh.id\n",
    "    LEFT JOIN lookup_commune lc ON lc.id = dh.commune\n",
    "    LEFT JOIN lookup_departement ld ON ld.id = lc.departement\n",
    "    LEFT JOIN auth_users au ON au.id = dgs.created_by\n",
    "    left join beneficiary b on dga.id_patient=b.id_patient\n",
    "    left join patient p on p.id=dga.id_patient\n",
    "    WHERE\n",
    "        dga.value = 'P'\n",
    "            AND dgs.date >= '{Period.date.value}') a\n",
    "            group by a.id_patient, a.username\n",
    "'''\n",
    "\n",
    "query_parentingBene = f'''\n",
    "SELECT \n",
    "    *, COUNT(*) AS qte_by_creator\n",
    "FROM\n",
    "    (SELECT \n",
    "        dpgs.id_group AS id_session,\n",
    "            topic,\n",
    "            date,\n",
    "            dpga.id_patient AS id_patient,\n",
    "            dpgs.created_by,\n",
    "            lc.name AS commune,\n",
    "            ld.name AS departement,\n",
    "            dh.name AS hub,\n",
    "            au.email AS email,\n",
    "            au.username,\n",
    "            b.first_name,\n",
    "            b.last_name,\n",
    "            p.patient_code AS dreams_code\n",
    "    FROM\n",
    "        caris_db.dream_parenting_group_session dpgs\n",
    "    LEFT JOIN dream_parenting_group_attendance dpga ON dpgs.id = dpga.id_parenting_group_session\n",
    "    LEFT JOIN dream_group dg ON dpgs.id_group = dg.id\n",
    "    LEFT JOIN dream_hub dh ON dg.id_dream_hub = dh.id\n",
    "    LEFT JOIN lookup_commune lc ON lc.id = dh.commune\n",
    "    LEFT JOIN lookup_departement ld ON ld.id = lc.departement\n",
    "    LEFT JOIN auth_users au ON au.id = dpgs.created_by\n",
    "    LEFT JOIN beneficiary b ON dpga.id_patient = b.id_patient\n",
    "    LEFT JOIN patient p ON p.id = dpga.id_patient\n",
    "    WHERE\n",
    "        ((dpga.parent_g = 'P')\n",
    "            OR (dpga.parent_vd = 'P')\n",
    "            OR (dpga.yg_g = 'P')\n",
    "            OR (dpga.yg_vd = 'P'))\n",
    "            AND (dpgs.date >= '{Period.date.value}')) a\n",
    "GROUP BY a.id_patient , a.username\n",
    "'''\n",
    "\n",
    "query_parentingQty = f'''\n",
    "SELECT \n",
    "    a.*, COUNT(*) AS qte_by_creator\n",
    "FROM\n",
    "    (SELECT \n",
    "        dpgs.created_by, au.email AS email, au.username\n",
    "    FROM\n",
    "        caris_db.dream_parenting_group_session dpgs\n",
    "    LEFT JOIN dream_parenting_group_attendance dpga ON dpgs.id = dpga.id_parenting_group_session\n",
    "    LEFT JOIN dream_group dg ON dpgs.id_group = dg.id\n",
    "    LEFT JOIN dream_hub dh ON dg.id_dream_hub = dh.id\n",
    "    LEFT JOIN lookup_commune lc ON lc.id = dh.commune\n",
    "    LEFT JOIN lookup_departement ld ON ld.id = lc.departement\n",
    "    LEFT JOIN auth_users au ON au.id = dpgs.created_by\n",
    "    WHERE ((dpga.parent_g = 'P') OR (dpga.parent_vd= 'P') OR (dpga.yg_g='P') OR (dpga.yg_vd='P') )\n",
    "            AND (dpgs.date >= '{Period.date.value}') ) a\n",
    "GROUP BY a.created_by\n",
    "'''\n",
    "\n",
    "\n",
    "\n",
    "\n",
    "pres_byAgent= read_sql_query(query_presenceQty, engine, parse_dates=True)\n",
    "ben_byAgent = read_sql_query(query_beneficiariesQty, engine, parse_dates=True)\n",
    "\n",
    "pres_parenting= read_sql_query(query_parentingQty, engine, parse_dates=True)\n",
    "parenting_byAgent = read_sql_query(query_parentingBene, engine, parse_dates=True)\n",
    "\n",
    "\n",
    "# close the pool of connection\n",
    "engine.dispose()\n"
   ]
  },
  {
   "cell_type": "code",
   "execution_count": 4,
   "metadata": {},
   "outputs": [],
   "source": [
    "pres_byAgent.rename(columns={'qte_pres_by_creator':'nombre_pres'},inplace=True)\n",
    "ben_byAgent.rename(columns={'qte_by_creator':'nombre_pres'},inplace=True)\n",
    "pres_parenting.rename(columns={'qte_by_creator':'nombre_pres'},inplace=True)\n",
    "parenting_byAgent.rename(columns={'qte_by_creator':'nombre_pres'},inplace=True)"
   ]
  },
  {
   "cell_type": "code",
   "execution_count": 5,
   "metadata": {},
   "outputs": [
    {
     "name": "stdout",
     "output_type": "stream",
     "text": [
      "Nombre de presence totale:  73177\n",
      "Nombre de presence totale:  73177\n",
      "Nombre de filles:  5723\n",
      "Nombre de presence totale parenting:  471\n",
      "Nombre de presence totale parenting:  471\n",
      "Nombre de filles:  108\n"
     ]
    }
   ],
   "source": [
    "print('Nombre de presence totale: ',pres_byAgent.nombre_pres.sum())\n",
    "print('Nombre de presence totale: ',ben_byAgent.nombre_pres.sum())\n",
    "print('Nombre de filles: ',ben_byAgent.id_patient.count())\n",
    "print('Nombre de presence totale parenting: ',pres_parenting.nombre_pres.sum())\n",
    "print('Nombre de presence totale parenting: ',parenting_byAgent.nombre_pres.sum())\n",
    "print('Nombre de filles: ',parenting_byAgent.id_patient.count())"
   ]
  },
  {
   "cell_type": "markdown",
   "metadata": {},
   "source": [
    "# First Component"
   ]
  },
  {
   "cell_type": "code",
   "execution_count": 6,
   "metadata": {},
   "outputs": [
    {
     "data": {
      "text/html": [
       "<style type=\"text/css\">\n",
       "#T_b1ce8_row10_col2 {\n",
       "  background-color: yellow;\n",
       "}\n",
       "</style>\n",
       "<table id=\"T_b1ce8_\">\n",
       "  <thead>\n",
       "    <tr>\n",
       "      <th class=\"blank level0\" >&nbsp;</th>\n",
       "      <th class=\"col_heading level0 col0\" >username</th>\n",
       "      <th class=\"col_heading level0 col1\" >email</th>\n",
       "      <th class=\"col_heading level0 col2\" >nombre_pres</th>\n",
       "    </tr>\n",
       "  </thead>\n",
       "  <tbody>\n",
       "    <tr>\n",
       "      <th id=\"T_b1ce8_level0_row0\" class=\"row_heading level0 row0\" >0</th>\n",
       "      <td id=\"T_b1ce8_row0_col0\" class=\"data row0 col0\" >johanejules</td>\n",
       "      <td id=\"T_b1ce8_row0_col1\" class=\"data row0 col1\" >johane.jules@carisfoundationintl.org</td>\n",
       "      <td id=\"T_b1ce8_row0_col2\" class=\"data row0 col2\" >16</td>\n",
       "    </tr>\n",
       "    <tr>\n",
       "      <th id=\"T_b1ce8_level0_row1\" class=\"row_heading level0 row1\" >1</th>\n",
       "      <td id=\"T_b1ce8_row1_col0\" class=\"data row1 col0\" >fbyron</td>\n",
       "      <td id=\"T_b1ce8_row1_col1\" class=\"data row1 col1\" >byronfabrice9@gmail.com</td>\n",
       "      <td id=\"T_b1ce8_row1_col2\" class=\"data row1 col2\" >6832</td>\n",
       "    </tr>\n",
       "    <tr>\n",
       "      <th id=\"T_b1ce8_level0_row2\" class=\"row_heading level0 row2\" >2</th>\n",
       "      <td id=\"T_b1ce8_row2_col0\" class=\"data row2 col0\" >billyjolicoeur</td>\n",
       "      <td id=\"T_b1ce8_row2_col1\" class=\"data row2 col1\" >billyjolicoeur95@gmail.com</td>\n",
       "      <td id=\"T_b1ce8_row2_col2\" class=\"data row2 col2\" >16802</td>\n",
       "    </tr>\n",
       "    <tr>\n",
       "      <th id=\"T_b1ce8_level0_row3\" class=\"row_heading level0 row3\" >3</th>\n",
       "      <td id=\"T_b1ce8_row3_col0\" class=\"data row3 col0\" >FredlyEliona</td>\n",
       "      <td id=\"T_b1ce8_row3_col1\" class=\"data row3 col1\" >elionafredly7@gmail.com</td>\n",
       "      <td id=\"T_b1ce8_row3_col2\" class=\"data row3 col2\" >6905</td>\n",
       "    </tr>\n",
       "    <tr>\n",
       "      <th id=\"T_b1ce8_level0_row4\" class=\"row_heading level0 row4\" >4</th>\n",
       "      <td id=\"T_b1ce8_row4_col0\" class=\"data row4 col0\" >dchelot</td>\n",
       "      <td id=\"T_b1ce8_row4_col1\" class=\"data row4 col1\" >blonnichel@yahoo.fr</td>\n",
       "      <td id=\"T_b1ce8_row4_col2\" class=\"data row4 col2\" >3501</td>\n",
       "    </tr>\n",
       "    <tr>\n",
       "      <th id=\"T_b1ce8_level0_row5\" class=\"row_heading level0 row5\" >5</th>\n",
       "      <td id=\"T_b1ce8_row5_col0\" class=\"data row5 col0\" >pggd1234</td>\n",
       "      <td id=\"T_b1ce8_row5_col1\" class=\"data row5 col1\" >gerald.poteau@carisfoundationintl.org</td>\n",
       "      <td id=\"T_b1ce8_row5_col2\" class=\"data row5 col2\" >3631</td>\n",
       "    </tr>\n",
       "    <tr>\n",
       "      <th id=\"T_b1ce8_level0_row6\" class=\"row_heading level0 row6\" >6</th>\n",
       "      <td id=\"T_b1ce8_row6_col0\" class=\"data row6 col0\" >Armando</td>\n",
       "      <td id=\"T_b1ce8_row6_col1\" class=\"data row6 col1\" >diegoarmando.dorlean@carisfoundationintl.org</td>\n",
       "      <td id=\"T_b1ce8_row6_col2\" class=\"data row6 col2\" >9392</td>\n",
       "    </tr>\n",
       "    <tr>\n",
       "      <th id=\"T_b1ce8_level0_row7\" class=\"row_heading level0 row7\" >7</th>\n",
       "      <td id=\"T_b1ce8_row7_col0\" class=\"data row7 col0\" >Ernstbelabre</td>\n",
       "      <td id=\"T_b1ce8_row7_col1\" class=\"data row7 col1\" >ernst.belabre@carisfoundationintl.org</td>\n",
       "      <td id=\"T_b1ce8_row7_col2\" class=\"data row7 col2\" >4042</td>\n",
       "    </tr>\n",
       "    <tr>\n",
       "      <th id=\"T_b1ce8_level0_row8\" class=\"row_heading level0 row8\" >8</th>\n",
       "      <td id=\"T_b1ce8_row8_col0\" class=\"data row8 col0\" >France14</td>\n",
       "      <td id=\"T_b1ce8_row8_col1\" class=\"data row8 col1\" >francenelstjean.saed@yahoo.com</td>\n",
       "      <td id=\"T_b1ce8_row8_col2\" class=\"data row8 col2\" >2961</td>\n",
       "    </tr>\n",
       "    <tr>\n",
       "      <th id=\"T_b1ce8_level0_row9\" class=\"row_heading level0 row9\" >9</th>\n",
       "      <td id=\"T_b1ce8_row9_col0\" class=\"data row9 col0\" >despeignes</td>\n",
       "      <td id=\"T_b1ce8_row9_col1\" class=\"data row9 col1\" >roselord.despeignes@carisfoundationintl.org</td>\n",
       "      <td id=\"T_b1ce8_row9_col2\" class=\"data row9 col2\" >1084</td>\n",
       "    </tr>\n",
       "    <tr>\n",
       "      <th id=\"T_b1ce8_level0_row10\" class=\"row_heading level0 row10\" >10</th>\n",
       "      <td id=\"T_b1ce8_row10_col0\" class=\"data row10 col0\" >BonWoodRidchard</td>\n",
       "      <td id=\"T_b1ce8_row10_col1\" class=\"data row10 col1\" >twoody103@gmail.com</td>\n",
       "      <td id=\"T_b1ce8_row10_col2\" class=\"data row10 col2\" >18011</td>\n",
       "    </tr>\n",
       "  </tbody>\n",
       "</table>\n"
      ],
      "text/plain": [
       "<pandas.io.formats.style.Styler at 0x10a57d820>"
      ]
     },
     "execution_count": 6,
     "metadata": {},
     "output_type": "execute_result"
    },
    {
     "name": "stdout",
     "output_type": "stream",
     "text": [
      "---------------------------------------------------------------------------------------------\n"
     ]
    },
    {
     "data": {
      "text/html": [
       "<style type=\"text/css\">\n",
       "#T_a4600_row0_col2 {\n",
       "  background-color: yellow;\n",
       "}\n",
       "</style>\n",
       "<table id=\"T_a4600_\">\n",
       "  <thead>\n",
       "    <tr>\n",
       "      <th class=\"blank level0\" >&nbsp;</th>\n",
       "      <th class=\"col_heading level0 col0\" >username</th>\n",
       "      <th class=\"col_heading level0 col1\" >email</th>\n",
       "      <th class=\"col_heading level0 col2\" >nombre_pres</th>\n",
       "    </tr>\n",
       "  </thead>\n",
       "  <tbody>\n",
       "    <tr>\n",
       "      <th id=\"T_a4600_level0_row0\" class=\"row_heading level0 row0\" >0</th>\n",
       "      <td id=\"T_a4600_row0_col0\" class=\"data row0 col0\" >fbyron</td>\n",
       "      <td id=\"T_a4600_row0_col1\" class=\"data row0 col1\" >byronfabrice9@gmail.com</td>\n",
       "      <td id=\"T_a4600_row0_col2\" class=\"data row0 col2\" >330</td>\n",
       "    </tr>\n",
       "    <tr>\n",
       "      <th id=\"T_a4600_level0_row1\" class=\"row_heading level0 row1\" >1</th>\n",
       "      <td id=\"T_a4600_row1_col0\" class=\"data row1 col0\" >billyjolicoeur</td>\n",
       "      <td id=\"T_a4600_row1_col1\" class=\"data row1 col1\" >billyjolicoeur95@gmail.com</td>\n",
       "      <td id=\"T_a4600_row1_col2\" class=\"data row1 col2\" >114</td>\n",
       "    </tr>\n",
       "    <tr>\n",
       "      <th id=\"T_a4600_level0_row2\" class=\"row_heading level0 row2\" >2</th>\n",
       "      <td id=\"T_a4600_row2_col0\" class=\"data row2 col0\" >France14</td>\n",
       "      <td id=\"T_a4600_row2_col1\" class=\"data row2 col1\" >francenelstjean.saed@yahoo.com</td>\n",
       "      <td id=\"T_a4600_row2_col2\" class=\"data row2 col2\" >27</td>\n",
       "    </tr>\n",
       "  </tbody>\n",
       "</table>\n"
      ],
      "text/plain": [
       "<pandas.io.formats.style.Styler at 0x123e11430>"
      ]
     },
     "execution_count": 6,
     "metadata": {},
     "output_type": "execute_result"
    }
   ],
   "source": [
    "pres_byAgent = pres_byAgent[['username','email','nombre_pres']]\n",
    "pres_byAgent.style.highlight_max(subset=['nombre_pres'])\n",
    "\n",
    "print('---------------------------------------------------------------------------------------------')\n",
    "\n",
    "pres_parenting = pres_parenting[['username','email','nombre_pres']]\n",
    "pres_parenting.style.highlight_max(subset=['nombre_pres'])\n",
    "\n",
    "\n",
    "#ordered_pres_byAgent = pres_byAgent.nombre_pres.sort_values().to_list()\n",
    "#ordered_pres_parenting = pres_parenting.nombre_pres.sort_values().to_list()"
   ]
  },
  {
   "cell_type": "markdown",
   "metadata": {},
   "source": [
    "# Graphe Component I"
   ]
  },
  {
   "cell_type": "code",
   "execution_count": 7,
   "metadata": {},
   "outputs": [
    {
     "data": {
      "text/plain": [
       "<Figure size 1152x576 with 0 Axes>"
      ]
     },
     "execution_count": 7,
     "metadata": {},
     "output_type": "execute_result"
    },
    {
     "data": {
      "text/plain": [
       "Text(0.5, 0, '')"
      ]
     },
     "execution_count": 7,
     "metadata": {},
     "output_type": "execute_result"
    },
    {
     "data": {
      "text/plain": [
       "Text(0, 0.5, '')"
      ]
     },
     "execution_count": 7,
     "metadata": {},
     "output_type": "execute_result"
    },
    {
     "data": {
      "text/plain": [
       "Text(0.5, 0.98, 'Nombre de presence Currriculum par agents depuis le 2021-10-01')"
      ]
     },
     "execution_count": 7,
     "metadata": {},
     "output_type": "execute_result"
    },
    {
     "data": {
      "text/plain": [
       "Text(18011.25, 0.0, '18011')"
      ]
     },
     "execution_count": 7,
     "metadata": {},
     "output_type": "execute_result"
    },
    {
     "data": {
      "text/plain": [
       "Text(16802.25, 1.0, '16802')"
      ]
     },
     "execution_count": 7,
     "metadata": {},
     "output_type": "execute_result"
    },
    {
     "data": {
      "text/plain": [
       "Text(9392.25, 2.0, '9392')"
      ]
     },
     "execution_count": 7,
     "metadata": {},
     "output_type": "execute_result"
    },
    {
     "data": {
      "text/plain": [
       "Text(6905.25, 3.0, '6905')"
      ]
     },
     "execution_count": 7,
     "metadata": {},
     "output_type": "execute_result"
    },
    {
     "data": {
      "text/plain": [
       "Text(6832.25, 4.0, '6832')"
      ]
     },
     "execution_count": 7,
     "metadata": {},
     "output_type": "execute_result"
    },
    {
     "data": {
      "text/plain": [
       "Text(4042.25, 5.0, '4042')"
      ]
     },
     "execution_count": 7,
     "metadata": {},
     "output_type": "execute_result"
    },
    {
     "data": {
      "text/plain": [
       "Text(3631.25, 6.0, '3631')"
      ]
     },
     "execution_count": 7,
     "metadata": {},
     "output_type": "execute_result"
    },
    {
     "data": {
      "text/plain": [
       "Text(3501.25, 7.0, '3501')"
      ]
     },
     "execution_count": 7,
     "metadata": {},
     "output_type": "execute_result"
    },
    {
     "data": {
      "text/plain": [
       "Text(2961.25, 8.0, '2961')"
      ]
     },
     "execution_count": 7,
     "metadata": {},
     "output_type": "execute_result"
    },
    {
     "data": {
      "text/plain": [
       "Text(1084.25, 9.0, '1084')"
      ]
     },
     "execution_count": 7,
     "metadata": {},
     "output_type": "execute_result"
    },
    {
     "data": {
      "text/plain": [
       "Text(16.25, 10.0, '16')"
      ]
     },
     "execution_count": 7,
     "metadata": {},
     "output_type": "execute_result"
    },
    {
     "data": {
      "text/plain": [
       "Text(-80, -20, 'source: HIVHaiti')"
      ]
     },
     "execution_count": 7,
     "metadata": {},
     "output_type": "execute_result"
    },
    {
     "data": {
      "image/png": "[encoded data removed]",
      "text/plain": [
       "<Figure size 1152x576 with 1 Axes>"
      ]
     },
     "metadata": {
      "needs_background": "light"
     },
     "output_type": "display_data"
    }
   ],
   "source": [
    "plt.figure(figsize=(16,8))\n",
    "#plt.subplots(figsize=(16,8))\n",
    "sns.set_style(\"darkgrid\")\n",
    "splot = sns.barplot(x=\"nombre_pres\",y=\"username\",data=pres_byAgent,color=\"Green\",order=pres_byAgent.sort_values(\"nombre_pres\",ascending=False).username,ci=False)\n",
    "splot.set_xlabel(\"\")\n",
    "splot.set_ylabel(\"\")\n",
    "plt.suptitle(f\"Nombre de presence Currriculum par agents depuis le {Period.date.value}\")\n",
    "for p in splot.patches:\n",
    "    width = p.get_width()\n",
    "    plt.text(0.25+p.get_width(), p.get_y()+0.50*p.get_height(),\n",
    "             '{:1.0f}'.format(width),fontdict=dict(color=\"red\",fontsize=12))\n",
    "\n",
    "plt.annotate(\n",
    "    \"source: HIVHaiti\",(0,0), (-80,-20), fontsize=10, \n",
    "             xycoords='axes fraction', textcoords='offset points', va='top'\n",
    ")\n",
    "plt.savefig(f\"saisie_curriculum\",dpi=1000)\n"
   ]
  },
  {
   "cell_type": "code",
   "execution_count": 8,
   "metadata": {},
   "outputs": [
    {
     "data": {
      "text/plain": [
       "<Figure size 1152x576 with 0 Axes>"
      ]
     },
     "execution_count": 8,
     "metadata": {},
     "output_type": "execute_result"
    },
    {
     "data": {
      "text/plain": [
       "Text(0.5, 0, '')"
      ]
     },
     "execution_count": 8,
     "metadata": {},
     "output_type": "execute_result"
    },
    {
     "data": {
      "text/plain": [
       "Text(0, 0.5, '')"
      ]
     },
     "execution_count": 8,
     "metadata": {},
     "output_type": "execute_result"
    },
    {
     "data": {
      "text/plain": [
       "Text(0.5, 0.98, 'Nombre de presence parenting par agents depuis le 2021-10-01')"
      ]
     },
     "execution_count": 8,
     "metadata": {},
     "output_type": "execute_result"
    },
    {
     "data": {
      "text/plain": [
       "Text(330.25, 0.0, '330')"
      ]
     },
     "execution_count": 8,
     "metadata": {},
     "output_type": "execute_result"
    },
    {
     "data": {
      "text/plain": [
       "Text(114.25, 1.0, '114')"
      ]
     },
     "execution_count": 8,
     "metadata": {},
     "output_type": "execute_result"
    },
    {
     "data": {
      "text/plain": [
       "Text(27.25, 2.0, '27')"
      ]
     },
     "execution_count": 8,
     "metadata": {},
     "output_type": "execute_result"
    },
    {
     "data": {
      "text/plain": [
       "Text(-80, -20, 'source: HIVHaiti')"
      ]
     },
     "execution_count": 8,
     "metadata": {},
     "output_type": "execute_result"
    },
    {
     "data": {
      "image/png": "[encoded data removed]",
      "text/plain": [
       "<Figure size 1152x576 with 1 Axes>"
      ]
     },
     "metadata": {},
     "output_type": "display_data"
    }
   ],
   "source": [
    "plt.figure(figsize=(16,8))\n",
    "#plt.subplots(figsize=(16,8))\n",
    "sns.set_style(\"darkgrid\")\n",
    "splot = sns.barplot(x=\"nombre_pres\",y=\"username\",data=pres_parenting,color=\"Green\",order=pres_parenting.sort_values(\"nombre_pres\",ascending=False).username,ci=False)\n",
    "splot.set_xlabel(\"\")\n",
    "splot.set_ylabel(\"\")\n",
    "plt.suptitle(f\"Nombre de presence parenting par agents depuis le {Period.date.value}\")\n",
    "for p in splot.patches:\n",
    "    width = p.get_width()\n",
    "    plt.text(0.25+p.get_width(), p.get_y()+0.50*p.get_height(),\n",
    "             '{:1.0f}'.format(width),fontdict=dict(color=\"red\",fontsize=12))\n",
    "plt.annotate(\n",
    "    \"source: HIVHaiti\",(0,0), (-80,-20), fontsize=10, \n",
    "             xycoords='axes fraction', textcoords='offset points', va='top'\n",
    ")\n",
    "plt.savefig(f\"saisie_parenting\",dpi=1000)"
   ]
  },
  {
   "cell_type": "markdown",
   "metadata": {},
   "source": [
    "# Validation of the pivot table"
   ]
  },
  {
   "cell_type": "code",
   "execution_count": 9,
   "metadata": {},
   "outputs": [],
   "source": [
    "def validation_pivot(pt):\n",
    "    if not pt.empty:\n",
    "        pt = pt.pivot_table(values='id_patient',index='username',columns='commune',aggfunc='count',fill_value=0,margins=True, margins_name='Total')\n",
    "    if pt.empty:\n",
    "        pt =  DataFrame({\"resultats\":[\"No data entry\"]})\n",
    "    return pt"
   ]
  },
  {
   "cell_type": "markdown",
   "metadata": {},
   "source": [
    "# Component 2"
   ]
  },
  {
   "cell_type": "code",
   "execution_count": 10,
   "metadata": {},
   "outputs": [
    {
     "data": {
      "text/html": [
       "<style type=\"text/css\">\n",
       "#T_74c9b_row1_col12, #T_74c9b_row5_col10, #T_74c9b_row5_col11, #T_74c9b_row5_col14, #T_74c9b_row11_col0, #T_74c9b_row11_col1, #T_74c9b_row11_col2, #T_74c9b_row11_col3, #T_74c9b_row11_col4, #T_74c9b_row11_col5, #T_74c9b_row11_col6, #T_74c9b_row11_col7, #T_74c9b_row11_col8, #T_74c9b_row11_col9, #T_74c9b_row11_col10, #T_74c9b_row11_col11, #T_74c9b_row11_col12, #T_74c9b_row11_col13, #T_74c9b_row11_col14, #T_74c9b_row11_col15, #T_74c9b_row11_col16, #T_74c9b_row11_col17, #T_74c9b_row11_col18, #T_74c9b_row11_col19, #T_74c9b_row11_col20, #T_74c9b_row11_col21 {\n",
       "  background-color: yellow;\n",
       "}\n",
       "</style>\n",
       "<table id=\"T_74c9b_\">\n",
       "  <thead>\n",
       "    <tr>\n",
       "      <th class=\"index_name level0\" >commune</th>\n",
       "      <th class=\"col_heading level0 col0\" >Cap-Haïtien</th>\n",
       "      <th class=\"col_heading level0 col1\" >Carrefour</th>\n",
       "      <th class=\"col_heading level0 col2\" >Delmas</th>\n",
       "      <th class=\"col_heading level0 col3\" >Desdunes</th>\n",
       "      <th class=\"col_heading level0 col4\" >Dessalines</th>\n",
       "      <th class=\"col_heading level0 col5\" >Grande Saline</th>\n",
       "      <th class=\"col_heading level0 col6\" >Gressier</th>\n",
       "      <th class=\"col_heading level0 col7\" >Kenscoff</th>\n",
       "      <th class=\"col_heading level0 col8\" >La Chapelle</th>\n",
       "      <th class=\"col_heading level0 col9\" >Liancourt</th>\n",
       "      <th class=\"col_heading level0 col10\" >Limonade</th>\n",
       "      <th class=\"col_heading level0 col11\" >Milot</th>\n",
       "      <th class=\"col_heading level0 col12\" >Montrouis</th>\n",
       "      <th class=\"col_heading level0 col13\" >Petite Rivière de l'Artibonite</th>\n",
       "      <th class=\"col_heading level0 col14\" >Plaine-du-Nord</th>\n",
       "      <th class=\"col_heading level0 col15\" >Port-au-Prince</th>\n",
       "      <th class=\"col_heading level0 col16\" >Pétionville</th>\n",
       "      <th class=\"col_heading level0 col17\" >Quartier-Morin</th>\n",
       "      <th class=\"col_heading level0 col18\" >Saint-Marc</th>\n",
       "      <th class=\"col_heading level0 col19\" >Tabarre</th>\n",
       "      <th class=\"col_heading level0 col20\" >Verrettes</th>\n",
       "      <th class=\"col_heading level0 col21\" >Total</th>\n",
       "    </tr>\n",
       "    <tr>\n",
       "      <th class=\"index_name level0\" >username</th>\n",
       "      <th class=\"blank col0\" >&nbsp;</th>\n",
       "      <th class=\"blank col1\" >&nbsp;</th>\n",
       "      <th class=\"blank col2\" >&nbsp;</th>\n",
       "      <th class=\"blank col3\" >&nbsp;</th>\n",
       "      <th class=\"blank col4\" >&nbsp;</th>\n",
       "      <th class=\"blank col5\" >&nbsp;</th>\n",
       "      <th class=\"blank col6\" >&nbsp;</th>\n",
       "      <th class=\"blank col7\" >&nbsp;</th>\n",
       "      <th class=\"blank col8\" >&nbsp;</th>\n",
       "      <th class=\"blank col9\" >&nbsp;</th>\n",
       "      <th class=\"blank col10\" >&nbsp;</th>\n",
       "      <th class=\"blank col11\" >&nbsp;</th>\n",
       "      <th class=\"blank col12\" >&nbsp;</th>\n",
       "      <th class=\"blank col13\" >&nbsp;</th>\n",
       "      <th class=\"blank col14\" >&nbsp;</th>\n",
       "      <th class=\"blank col15\" >&nbsp;</th>\n",
       "      <th class=\"blank col16\" >&nbsp;</th>\n",
       "      <th class=\"blank col17\" >&nbsp;</th>\n",
       "      <th class=\"blank col18\" >&nbsp;</th>\n",
       "      <th class=\"blank col19\" >&nbsp;</th>\n",
       "      <th class=\"blank col20\" >&nbsp;</th>\n",
       "      <th class=\"blank col21\" >&nbsp;</th>\n",
       "    </tr>\n",
       "  </thead>\n",
       "  <tbody>\n",
       "    <tr>\n",
       "      <th id=\"T_74c9b_level0_row0\" class=\"row_heading level0 row0\" >Armando</th>\n",
       "      <td id=\"T_74c9b_row0_col0\" class=\"data row0 col0\" >0</td>\n",
       "      <td id=\"T_74c9b_row0_col1\" class=\"data row0 col1\" >0</td>\n",
       "      <td id=\"T_74c9b_row0_col2\" class=\"data row0 col2\" >0</td>\n",
       "      <td id=\"T_74c9b_row0_col3\" class=\"data row0 col3\" >0</td>\n",
       "      <td id=\"T_74c9b_row0_col4\" class=\"data row0 col4\" >0</td>\n",
       "      <td id=\"T_74c9b_row0_col5\" class=\"data row0 col5\" >0</td>\n",
       "      <td id=\"T_74c9b_row0_col6\" class=\"data row0 col6\" >0</td>\n",
       "      <td id=\"T_74c9b_row0_col7\" class=\"data row0 col7\" >0</td>\n",
       "      <td id=\"T_74c9b_row0_col8\" class=\"data row0 col8\" >0</td>\n",
       "      <td id=\"T_74c9b_row0_col9\" class=\"data row0 col9\" >29</td>\n",
       "      <td id=\"T_74c9b_row0_col10\" class=\"data row0 col10\" >0</td>\n",
       "      <td id=\"T_74c9b_row0_col11\" class=\"data row0 col11\" >0</td>\n",
       "      <td id=\"T_74c9b_row0_col12\" class=\"data row0 col12\" >0</td>\n",
       "      <td id=\"T_74c9b_row0_col13\" class=\"data row0 col13\" >0</td>\n",
       "      <td id=\"T_74c9b_row0_col14\" class=\"data row0 col14\" >0</td>\n",
       "      <td id=\"T_74c9b_row0_col15\" class=\"data row0 col15\" >0</td>\n",
       "      <td id=\"T_74c9b_row0_col16\" class=\"data row0 col16\" >0</td>\n",
       "      <td id=\"T_74c9b_row0_col17\" class=\"data row0 col17\" >0</td>\n",
       "      <td id=\"T_74c9b_row0_col18\" class=\"data row0 col18\" >8</td>\n",
       "      <td id=\"T_74c9b_row0_col19\" class=\"data row0 col19\" >0</td>\n",
       "      <td id=\"T_74c9b_row0_col20\" class=\"data row0 col20\" >323</td>\n",
       "      <td id=\"T_74c9b_row0_col21\" class=\"data row0 col21\" >360</td>\n",
       "    </tr>\n",
       "    <tr>\n",
       "      <th id=\"T_74c9b_level0_row1\" class=\"row_heading level0 row1\" >BonWoodRidchard</th>\n",
       "      <td id=\"T_74c9b_row1_col0\" class=\"data row1 col0\" >0</td>\n",
       "      <td id=\"T_74c9b_row1_col1\" class=\"data row1 col1\" >92</td>\n",
       "      <td id=\"T_74c9b_row1_col2\" class=\"data row1 col2\" >49</td>\n",
       "      <td id=\"T_74c9b_row1_col3\" class=\"data row1 col3\" >544</td>\n",
       "      <td id=\"T_74c9b_row1_col4\" class=\"data row1 col4\" >0</td>\n",
       "      <td id=\"T_74c9b_row1_col5\" class=\"data row1 col5\" >196</td>\n",
       "      <td id=\"T_74c9b_row1_col6\" class=\"data row1 col6\" >16</td>\n",
       "      <td id=\"T_74c9b_row1_col7\" class=\"data row1 col7\" >23</td>\n",
       "      <td id=\"T_74c9b_row1_col8\" class=\"data row1 col8\" >0</td>\n",
       "      <td id=\"T_74c9b_row1_col9\" class=\"data row1 col9\" >0</td>\n",
       "      <td id=\"T_74c9b_row1_col10\" class=\"data row1 col10\" >0</td>\n",
       "      <td id=\"T_74c9b_row1_col11\" class=\"data row1 col11\" >0</td>\n",
       "      <td id=\"T_74c9b_row1_col12\" class=\"data row1 col12\" >85</td>\n",
       "      <td id=\"T_74c9b_row1_col13\" class=\"data row1 col13\" >0</td>\n",
       "      <td id=\"T_74c9b_row1_col14\" class=\"data row1 col14\" >0</td>\n",
       "      <td id=\"T_74c9b_row1_col15\" class=\"data row1 col15\" >707</td>\n",
       "      <td id=\"T_74c9b_row1_col16\" class=\"data row1 col16\" >312</td>\n",
       "      <td id=\"T_74c9b_row1_col17\" class=\"data row1 col17\" >0</td>\n",
       "      <td id=\"T_74c9b_row1_col18\" class=\"data row1 col18\" >93</td>\n",
       "      <td id=\"T_74c9b_row1_col19\" class=\"data row1 col19\" >70</td>\n",
       "      <td id=\"T_74c9b_row1_col20\" class=\"data row1 col20\" >0</td>\n",
       "      <td id=\"T_74c9b_row1_col21\" class=\"data row1 col21\" >2187</td>\n",
       "    </tr>\n",
       "    <tr>\n",
       "      <th id=\"T_74c9b_level0_row2\" class=\"row_heading level0 row2\" >Ernstbelabre</th>\n",
       "      <td id=\"T_74c9b_row2_col0\" class=\"data row2 col0\" >0</td>\n",
       "      <td id=\"T_74c9b_row2_col1\" class=\"data row2 col1\" >2</td>\n",
       "      <td id=\"T_74c9b_row2_col2\" class=\"data row2 col2\" >0</td>\n",
       "      <td id=\"T_74c9b_row2_col3\" class=\"data row2 col3\" >0</td>\n",
       "      <td id=\"T_74c9b_row2_col4\" class=\"data row2 col4\" >19</td>\n",
       "      <td id=\"T_74c9b_row2_col5\" class=\"data row2 col5\" >81</td>\n",
       "      <td id=\"T_74c9b_row2_col6\" class=\"data row2 col6\" >9</td>\n",
       "      <td id=\"T_74c9b_row2_col7\" class=\"data row2 col7\" >0</td>\n",
       "      <td id=\"T_74c9b_row2_col8\" class=\"data row2 col8\" >0</td>\n",
       "      <td id=\"T_74c9b_row2_col9\" class=\"data row2 col9\" >0</td>\n",
       "      <td id=\"T_74c9b_row2_col10\" class=\"data row2 col10\" >0</td>\n",
       "      <td id=\"T_74c9b_row2_col11\" class=\"data row2 col11\" >0</td>\n",
       "      <td id=\"T_74c9b_row2_col12\" class=\"data row2 col12\" >0</td>\n",
       "      <td id=\"T_74c9b_row2_col13\" class=\"data row2 col13\" >0</td>\n",
       "      <td id=\"T_74c9b_row2_col14\" class=\"data row2 col14\" >0</td>\n",
       "      <td id=\"T_74c9b_row2_col15\" class=\"data row2 col15\" >0</td>\n",
       "      <td id=\"T_74c9b_row2_col16\" class=\"data row2 col16\" >0</td>\n",
       "      <td id=\"T_74c9b_row2_col17\" class=\"data row2 col17\" >0</td>\n",
       "      <td id=\"T_74c9b_row2_col18\" class=\"data row2 col18\" >118</td>\n",
       "      <td id=\"T_74c9b_row2_col19\" class=\"data row2 col19\" >0</td>\n",
       "      <td id=\"T_74c9b_row2_col20\" class=\"data row2 col20\" >34</td>\n",
       "      <td id=\"T_74c9b_row2_col21\" class=\"data row2 col21\" >263</td>\n",
       "    </tr>\n",
       "    <tr>\n",
       "      <th id=\"T_74c9b_level0_row3\" class=\"row_heading level0 row3\" >France14</th>\n",
       "      <td id=\"T_74c9b_row3_col0\" class=\"data row3 col0\" >0</td>\n",
       "      <td id=\"T_74c9b_row3_col1\" class=\"data row3 col1\" >0</td>\n",
       "      <td id=\"T_74c9b_row3_col2\" class=\"data row3 col2\" >0</td>\n",
       "      <td id=\"T_74c9b_row3_col3\" class=\"data row3 col3\" >18</td>\n",
       "      <td id=\"T_74c9b_row3_col4\" class=\"data row3 col4\" >177</td>\n",
       "      <td id=\"T_74c9b_row3_col5\" class=\"data row3 col5\" >0</td>\n",
       "      <td id=\"T_74c9b_row3_col6\" class=\"data row3 col6\" >0</td>\n",
       "      <td id=\"T_74c9b_row3_col7\" class=\"data row3 col7\" >0</td>\n",
       "      <td id=\"T_74c9b_row3_col8\" class=\"data row3 col8\" >0</td>\n",
       "      <td id=\"T_74c9b_row3_col9\" class=\"data row3 col9\" >0</td>\n",
       "      <td id=\"T_74c9b_row3_col10\" class=\"data row3 col10\" >0</td>\n",
       "      <td id=\"T_74c9b_row3_col11\" class=\"data row3 col11\" >0</td>\n",
       "      <td id=\"T_74c9b_row3_col12\" class=\"data row3 col12\" >0</td>\n",
       "      <td id=\"T_74c9b_row3_col13\" class=\"data row3 col13\" >0</td>\n",
       "      <td id=\"T_74c9b_row3_col14\" class=\"data row3 col14\" >0</td>\n",
       "      <td id=\"T_74c9b_row3_col15\" class=\"data row3 col15\" >0</td>\n",
       "      <td id=\"T_74c9b_row3_col16\" class=\"data row3 col16\" >0</td>\n",
       "      <td id=\"T_74c9b_row3_col17\" class=\"data row3 col17\" >0</td>\n",
       "      <td id=\"T_74c9b_row3_col18\" class=\"data row3 col18\" >0</td>\n",
       "      <td id=\"T_74c9b_row3_col19\" class=\"data row3 col19\" >0</td>\n",
       "      <td id=\"T_74c9b_row3_col20\" class=\"data row3 col20\" >0</td>\n",
       "      <td id=\"T_74c9b_row3_col21\" class=\"data row3 col21\" >195</td>\n",
       "    </tr>\n",
       "    <tr>\n",
       "      <th id=\"T_74c9b_level0_row4\" class=\"row_heading level0 row4\" >FredlyEliona</th>\n",
       "      <td id=\"T_74c9b_row4_col0\" class=\"data row4 col0\" >0</td>\n",
       "      <td id=\"T_74c9b_row4_col1\" class=\"data row4 col1\" >72</td>\n",
       "      <td id=\"T_74c9b_row4_col2\" class=\"data row4 col2\" >153</td>\n",
       "      <td id=\"T_74c9b_row4_col3\" class=\"data row4 col3\" >8</td>\n",
       "      <td id=\"T_74c9b_row4_col4\" class=\"data row4 col4\" >0</td>\n",
       "      <td id=\"T_74c9b_row4_col5\" class=\"data row4 col5\" >0</td>\n",
       "      <td id=\"T_74c9b_row4_col6\" class=\"data row4 col6\" >0</td>\n",
       "      <td id=\"T_74c9b_row4_col7\" class=\"data row4 col7\" >30</td>\n",
       "      <td id=\"T_74c9b_row4_col8\" class=\"data row4 col8\" >0</td>\n",
       "      <td id=\"T_74c9b_row4_col9\" class=\"data row4 col9\" >0</td>\n",
       "      <td id=\"T_74c9b_row4_col10\" class=\"data row4 col10\" >0</td>\n",
       "      <td id=\"T_74c9b_row4_col11\" class=\"data row4 col11\" >0</td>\n",
       "      <td id=\"T_74c9b_row4_col12\" class=\"data row4 col12\" >0</td>\n",
       "      <td id=\"T_74c9b_row4_col13\" class=\"data row4 col13\" >128</td>\n",
       "      <td id=\"T_74c9b_row4_col14\" class=\"data row4 col14\" >0</td>\n",
       "      <td id=\"T_74c9b_row4_col15\" class=\"data row4 col15\" >85</td>\n",
       "      <td id=\"T_74c9b_row4_col16\" class=\"data row4 col16\" >11</td>\n",
       "      <td id=\"T_74c9b_row4_col17\" class=\"data row4 col17\" >0</td>\n",
       "      <td id=\"T_74c9b_row4_col18\" class=\"data row4 col18\" >0</td>\n",
       "      <td id=\"T_74c9b_row4_col19\" class=\"data row4 col19\" >23</td>\n",
       "      <td id=\"T_74c9b_row4_col20\" class=\"data row4 col20\" >0</td>\n",
       "      <td id=\"T_74c9b_row4_col21\" class=\"data row4 col21\" >510</td>\n",
       "    </tr>\n",
       "    <tr>\n",
       "      <th id=\"T_74c9b_level0_row5\" class=\"row_heading level0 row5\" >billyjolicoeur</th>\n",
       "      <td id=\"T_74c9b_row5_col0\" class=\"data row5 col0\" >100</td>\n",
       "      <td id=\"T_74c9b_row5_col1\" class=\"data row5 col1\" >0</td>\n",
       "      <td id=\"T_74c9b_row5_col2\" class=\"data row5 col2\" >0</td>\n",
       "      <td id=\"T_74c9b_row5_col3\" class=\"data row5 col3\" >0</td>\n",
       "      <td id=\"T_74c9b_row5_col4\" class=\"data row5 col4\" >0</td>\n",
       "      <td id=\"T_74c9b_row5_col5\" class=\"data row5 col5\" >0</td>\n",
       "      <td id=\"T_74c9b_row5_col6\" class=\"data row5 col6\" >0</td>\n",
       "      <td id=\"T_74c9b_row5_col7\" class=\"data row5 col7\" >552</td>\n",
       "      <td id=\"T_74c9b_row5_col8\" class=\"data row5 col8\" >0</td>\n",
       "      <td id=\"T_74c9b_row5_col9\" class=\"data row5 col9\" >0</td>\n",
       "      <td id=\"T_74c9b_row5_col10\" class=\"data row5 col10\" >269</td>\n",
       "      <td id=\"T_74c9b_row5_col11\" class=\"data row5 col11\" >28</td>\n",
       "      <td id=\"T_74c9b_row5_col12\" class=\"data row5 col12\" >0</td>\n",
       "      <td id=\"T_74c9b_row5_col13\" class=\"data row5 col13\" >0</td>\n",
       "      <td id=\"T_74c9b_row5_col14\" class=\"data row5 col14\" >27</td>\n",
       "      <td id=\"T_74c9b_row5_col15\" class=\"data row5 col15\" >16</td>\n",
       "      <td id=\"T_74c9b_row5_col16\" class=\"data row5 col16\" >52</td>\n",
       "      <td id=\"T_74c9b_row5_col17\" class=\"data row5 col17\" >33</td>\n",
       "      <td id=\"T_74c9b_row5_col18\" class=\"data row5 col18\" >0</td>\n",
       "      <td id=\"T_74c9b_row5_col19\" class=\"data row5 col19\" >85</td>\n",
       "      <td id=\"T_74c9b_row5_col20\" class=\"data row5 col20\" >0</td>\n",
       "      <td id=\"T_74c9b_row5_col21\" class=\"data row5 col21\" >1162</td>\n",
       "    </tr>\n",
       "    <tr>\n",
       "      <th id=\"T_74c9b_level0_row6\" class=\"row_heading level0 row6\" >dchelot</th>\n",
       "      <td id=\"T_74c9b_row6_col0\" class=\"data row6 col0\" >0</td>\n",
       "      <td id=\"T_74c9b_row6_col1\" class=\"data row6 col1\" >0</td>\n",
       "      <td id=\"T_74c9b_row6_col2\" class=\"data row6 col2\" >0</td>\n",
       "      <td id=\"T_74c9b_row6_col3\" class=\"data row6 col3\" >0</td>\n",
       "      <td id=\"T_74c9b_row6_col4\" class=\"data row6 col4\" >0</td>\n",
       "      <td id=\"T_74c9b_row6_col5\" class=\"data row6 col5\" >0</td>\n",
       "      <td id=\"T_74c9b_row6_col6\" class=\"data row6 col6\" >0</td>\n",
       "      <td id=\"T_74c9b_row6_col7\" class=\"data row6 col7\" >0</td>\n",
       "      <td id=\"T_74c9b_row6_col8\" class=\"data row6 col8\" >0</td>\n",
       "      <td id=\"T_74c9b_row6_col9\" class=\"data row6 col9\" >25</td>\n",
       "      <td id=\"T_74c9b_row6_col10\" class=\"data row6 col10\" >0</td>\n",
       "      <td id=\"T_74c9b_row6_col11\" class=\"data row6 col11\" >0</td>\n",
       "      <td id=\"T_74c9b_row6_col12\" class=\"data row6 col12\" >0</td>\n",
       "      <td id=\"T_74c9b_row6_col13\" class=\"data row6 col13\" >0</td>\n",
       "      <td id=\"T_74c9b_row6_col14\" class=\"data row6 col14\" >0</td>\n",
       "      <td id=\"T_74c9b_row6_col15\" class=\"data row6 col15\" >0</td>\n",
       "      <td id=\"T_74c9b_row6_col16\" class=\"data row6 col16\" >0</td>\n",
       "      <td id=\"T_74c9b_row6_col17\" class=\"data row6 col17\" >0</td>\n",
       "      <td id=\"T_74c9b_row6_col18\" class=\"data row6 col18\" >224</td>\n",
       "      <td id=\"T_74c9b_row6_col19\" class=\"data row6 col19\" >0</td>\n",
       "      <td id=\"T_74c9b_row6_col20\" class=\"data row6 col20\" >26</td>\n",
       "      <td id=\"T_74c9b_row6_col21\" class=\"data row6 col21\" >275</td>\n",
       "    </tr>\n",
       "    <tr>\n",
       "      <th id=\"T_74c9b_level0_row7\" class=\"row_heading level0 row7\" >despeignes</th>\n",
       "      <td id=\"T_74c9b_row7_col0\" class=\"data row7 col0\" >0</td>\n",
       "      <td id=\"T_74c9b_row7_col1\" class=\"data row7 col1\" >0</td>\n",
       "      <td id=\"T_74c9b_row7_col2\" class=\"data row7 col2\" >0</td>\n",
       "      <td id=\"T_74c9b_row7_col3\" class=\"data row7 col3\" >0</td>\n",
       "      <td id=\"T_74c9b_row7_col4\" class=\"data row7 col4\" >0</td>\n",
       "      <td id=\"T_74c9b_row7_col5\" class=\"data row7 col5\" >14</td>\n",
       "      <td id=\"T_74c9b_row7_col6\" class=\"data row7 col6\" >0</td>\n",
       "      <td id=\"T_74c9b_row7_col7\" class=\"data row7 col7\" >0</td>\n",
       "      <td id=\"T_74c9b_row7_col8\" class=\"data row7 col8\" >19</td>\n",
       "      <td id=\"T_74c9b_row7_col9\" class=\"data row7 col9\" >0</td>\n",
       "      <td id=\"T_74c9b_row7_col10\" class=\"data row7 col10\" >0</td>\n",
       "      <td id=\"T_74c9b_row7_col11\" class=\"data row7 col11\" >0</td>\n",
       "      <td id=\"T_74c9b_row7_col12\" class=\"data row7 col12\" >0</td>\n",
       "      <td id=\"T_74c9b_row7_col13\" class=\"data row7 col13\" >0</td>\n",
       "      <td id=\"T_74c9b_row7_col14\" class=\"data row7 col14\" >0</td>\n",
       "      <td id=\"T_74c9b_row7_col15\" class=\"data row7 col15\" >0</td>\n",
       "      <td id=\"T_74c9b_row7_col16\" class=\"data row7 col16\" >0</td>\n",
       "      <td id=\"T_74c9b_row7_col17\" class=\"data row7 col17\" >0</td>\n",
       "      <td id=\"T_74c9b_row7_col18\" class=\"data row7 col18\" >3</td>\n",
       "      <td id=\"T_74c9b_row7_col19\" class=\"data row7 col19\" >0</td>\n",
       "      <td id=\"T_74c9b_row7_col20\" class=\"data row7 col20\" >40</td>\n",
       "      <td id=\"T_74c9b_row7_col21\" class=\"data row7 col21\" >76</td>\n",
       "    </tr>\n",
       "    <tr>\n",
       "      <th id=\"T_74c9b_level0_row8\" class=\"row_heading level0 row8\" >fbyron</th>\n",
       "      <td id=\"T_74c9b_row8_col0\" class=\"data row8 col0\" >26</td>\n",
       "      <td id=\"T_74c9b_row8_col1\" class=\"data row8 col1\" >18</td>\n",
       "      <td id=\"T_74c9b_row8_col2\" class=\"data row8 col2\" >23</td>\n",
       "      <td id=\"T_74c9b_row8_col3\" class=\"data row8 col3\" >15</td>\n",
       "      <td id=\"T_74c9b_row8_col4\" class=\"data row8 col4\" >0</td>\n",
       "      <td id=\"T_74c9b_row8_col5\" class=\"data row8 col5\" >0</td>\n",
       "      <td id=\"T_74c9b_row8_col6\" class=\"data row8 col6\" >5</td>\n",
       "      <td id=\"T_74c9b_row8_col7\" class=\"data row8 col7\" >26</td>\n",
       "      <td id=\"T_74c9b_row8_col8\" class=\"data row8 col8\" >0</td>\n",
       "      <td id=\"T_74c9b_row8_col9\" class=\"data row8 col9\" >0</td>\n",
       "      <td id=\"T_74c9b_row8_col10\" class=\"data row8 col10\" >0</td>\n",
       "      <td id=\"T_74c9b_row8_col11\" class=\"data row8 col11\" >0</td>\n",
       "      <td id=\"T_74c9b_row8_col12\" class=\"data row8 col12\" >0</td>\n",
       "      <td id=\"T_74c9b_row8_col13\" class=\"data row8 col13\" >132</td>\n",
       "      <td id=\"T_74c9b_row8_col14\" class=\"data row8 col14\" >0</td>\n",
       "      <td id=\"T_74c9b_row8_col15\" class=\"data row8 col15\" >109</td>\n",
       "      <td id=\"T_74c9b_row8_col16\" class=\"data row8 col16\" >117</td>\n",
       "      <td id=\"T_74c9b_row8_col17\" class=\"data row8 col17\" >0</td>\n",
       "      <td id=\"T_74c9b_row8_col18\" class=\"data row8 col18\" >16</td>\n",
       "      <td id=\"T_74c9b_row8_col19\" class=\"data row8 col19\" >15</td>\n",
       "      <td id=\"T_74c9b_row8_col20\" class=\"data row8 col20\" >0</td>\n",
       "      <td id=\"T_74c9b_row8_col21\" class=\"data row8 col21\" >502</td>\n",
       "    </tr>\n",
       "    <tr>\n",
       "      <th id=\"T_74c9b_level0_row9\" class=\"row_heading level0 row9\" >johanejules</th>\n",
       "      <td id=\"T_74c9b_row9_col0\" class=\"data row9 col0\" >0</td>\n",
       "      <td id=\"T_74c9b_row9_col1\" class=\"data row9 col1\" >0</td>\n",
       "      <td id=\"T_74c9b_row9_col2\" class=\"data row9 col2\" >0</td>\n",
       "      <td id=\"T_74c9b_row9_col3\" class=\"data row9 col3\" >0</td>\n",
       "      <td id=\"T_74c9b_row9_col4\" class=\"data row9 col4\" >0</td>\n",
       "      <td id=\"T_74c9b_row9_col5\" class=\"data row9 col5\" >0</td>\n",
       "      <td id=\"T_74c9b_row9_col6\" class=\"data row9 col6\" >0</td>\n",
       "      <td id=\"T_74c9b_row9_col7\" class=\"data row9 col7\" >0</td>\n",
       "      <td id=\"T_74c9b_row9_col8\" class=\"data row9 col8\" >0</td>\n",
       "      <td id=\"T_74c9b_row9_col9\" class=\"data row9 col9\" >0</td>\n",
       "      <td id=\"T_74c9b_row9_col10\" class=\"data row9 col10\" >0</td>\n",
       "      <td id=\"T_74c9b_row9_col11\" class=\"data row9 col11\" >0</td>\n",
       "      <td id=\"T_74c9b_row9_col12\" class=\"data row9 col12\" >0</td>\n",
       "      <td id=\"T_74c9b_row9_col13\" class=\"data row9 col13\" >0</td>\n",
       "      <td id=\"T_74c9b_row9_col14\" class=\"data row9 col14\" >0</td>\n",
       "      <td id=\"T_74c9b_row9_col15\" class=\"data row9 col15\" >0</td>\n",
       "      <td id=\"T_74c9b_row9_col16\" class=\"data row9 col16\" >2</td>\n",
       "      <td id=\"T_74c9b_row9_col17\" class=\"data row9 col17\" >0</td>\n",
       "      <td id=\"T_74c9b_row9_col18\" class=\"data row9 col18\" >0</td>\n",
       "      <td id=\"T_74c9b_row9_col19\" class=\"data row9 col19\" >0</td>\n",
       "      <td id=\"T_74c9b_row9_col20\" class=\"data row9 col20\" >0</td>\n",
       "      <td id=\"T_74c9b_row9_col21\" class=\"data row9 col21\" >2</td>\n",
       "    </tr>\n",
       "    <tr>\n",
       "      <th id=\"T_74c9b_level0_row10\" class=\"row_heading level0 row10\" >pggd1234</th>\n",
       "      <td id=\"T_74c9b_row10_col0\" class=\"data row10 col0\" >0</td>\n",
       "      <td id=\"T_74c9b_row10_col1\" class=\"data row10 col1\" >0</td>\n",
       "      <td id=\"T_74c9b_row10_col2\" class=\"data row10 col2\" >0</td>\n",
       "      <td id=\"T_74c9b_row10_col3\" class=\"data row10 col3\" >0</td>\n",
       "      <td id=\"T_74c9b_row10_col4\" class=\"data row10 col4\" >0</td>\n",
       "      <td id=\"T_74c9b_row10_col5\" class=\"data row10 col5\" >67</td>\n",
       "      <td id=\"T_74c9b_row10_col6\" class=\"data row10 col6\" >0</td>\n",
       "      <td id=\"T_74c9b_row10_col7\" class=\"data row10 col7\" >0</td>\n",
       "      <td id=\"T_74c9b_row10_col8\" class=\"data row10 col8\" >8</td>\n",
       "      <td id=\"T_74c9b_row10_col9\" class=\"data row10 col9\" >0</td>\n",
       "      <td id=\"T_74c9b_row10_col10\" class=\"data row10 col10\" >0</td>\n",
       "      <td id=\"T_74c9b_row10_col11\" class=\"data row10 col11\" >0</td>\n",
       "      <td id=\"T_74c9b_row10_col12\" class=\"data row10 col12\" >0</td>\n",
       "      <td id=\"T_74c9b_row10_col13\" class=\"data row10 col13\" >0</td>\n",
       "      <td id=\"T_74c9b_row10_col14\" class=\"data row10 col14\" >0</td>\n",
       "      <td id=\"T_74c9b_row10_col15\" class=\"data row10 col15\" >0</td>\n",
       "      <td id=\"T_74c9b_row10_col16\" class=\"data row10 col16\" >2</td>\n",
       "      <td id=\"T_74c9b_row10_col17\" class=\"data row10 col17\" >34</td>\n",
       "      <td id=\"T_74c9b_row10_col18\" class=\"data row10 col18\" >42</td>\n",
       "      <td id=\"T_74c9b_row10_col19\" class=\"data row10 col19\" >0</td>\n",
       "      <td id=\"T_74c9b_row10_col20\" class=\"data row10 col20\" >38</td>\n",
       "      <td id=\"T_74c9b_row10_col21\" class=\"data row10 col21\" >191</td>\n",
       "    </tr>\n",
       "    <tr>\n",
       "      <th id=\"T_74c9b_level0_row11\" class=\"row_heading level0 row11\" >Total</th>\n",
       "      <td id=\"T_74c9b_row11_col0\" class=\"data row11 col0\" >126</td>\n",
       "      <td id=\"T_74c9b_row11_col1\" class=\"data row11 col1\" >184</td>\n",
       "      <td id=\"T_74c9b_row11_col2\" class=\"data row11 col2\" >225</td>\n",
       "      <td id=\"T_74c9b_row11_col3\" class=\"data row11 col3\" >585</td>\n",
       "      <td id=\"T_74c9b_row11_col4\" class=\"data row11 col4\" >196</td>\n",
       "      <td id=\"T_74c9b_row11_col5\" class=\"data row11 col5\" >358</td>\n",
       "      <td id=\"T_74c9b_row11_col6\" class=\"data row11 col6\" >30</td>\n",
       "      <td id=\"T_74c9b_row11_col7\" class=\"data row11 col7\" >631</td>\n",
       "      <td id=\"T_74c9b_row11_col8\" class=\"data row11 col8\" >27</td>\n",
       "      <td id=\"T_74c9b_row11_col9\" class=\"data row11 col9\" >54</td>\n",
       "      <td id=\"T_74c9b_row11_col10\" class=\"data row11 col10\" >269</td>\n",
       "      <td id=\"T_74c9b_row11_col11\" class=\"data row11 col11\" >28</td>\n",
       "      <td id=\"T_74c9b_row11_col12\" class=\"data row11 col12\" >85</td>\n",
       "      <td id=\"T_74c9b_row11_col13\" class=\"data row11 col13\" >260</td>\n",
       "      <td id=\"T_74c9b_row11_col14\" class=\"data row11 col14\" >27</td>\n",
       "      <td id=\"T_74c9b_row11_col15\" class=\"data row11 col15\" >917</td>\n",
       "      <td id=\"T_74c9b_row11_col16\" class=\"data row11 col16\" >496</td>\n",
       "      <td id=\"T_74c9b_row11_col17\" class=\"data row11 col17\" >67</td>\n",
       "      <td id=\"T_74c9b_row11_col18\" class=\"data row11 col18\" >504</td>\n",
       "      <td id=\"T_74c9b_row11_col19\" class=\"data row11 col19\" >193</td>\n",
       "      <td id=\"T_74c9b_row11_col20\" class=\"data row11 col20\" >461</td>\n",
       "      <td id=\"T_74c9b_row11_col21\" class=\"data row11 col21\" >5723</td>\n",
       "    </tr>\n",
       "  </tbody>\n",
       "</table>\n"
      ],
      "text/plain": [
       "<pandas.io.formats.style.Styler at 0x12454b6a0>"
      ]
     },
     "execution_count": 10,
     "metadata": {},
     "output_type": "execute_result"
    },
    {
     "name": "stdout",
     "output_type": "stream",
     "text": [
      "-----------------------------------------------------------------------------------------------------\n"
     ]
    },
    {
     "data": {
      "text/html": [
       "<style type=\"text/css\">\n",
       "#T_6e921_row0_col1, #T_6e921_row1_col6, #T_6e921_row2_col0, #T_6e921_row2_col2, #T_6e921_row2_col3, #T_6e921_row2_col4, #T_6e921_row2_col5, #T_6e921_row2_col7, #T_6e921_row3_col0, #T_6e921_row3_col1, #T_6e921_row3_col2, #T_6e921_row3_col3, #T_6e921_row3_col4, #T_6e921_row3_col5, #T_6e921_row3_col6, #T_6e921_row3_col7, #T_6e921_row3_col8 {\n",
       "  background-color: yellow;\n",
       "}\n",
       "</style>\n",
       "<table id=\"T_6e921_\">\n",
       "  <thead>\n",
       "    <tr>\n",
       "      <th class=\"index_name level0\" >commune</th>\n",
       "      <th class=\"col_heading level0 col0\" >Cap-Haïtien</th>\n",
       "      <th class=\"col_heading level0 col1\" >Dessalines</th>\n",
       "      <th class=\"col_heading level0 col2\" >Gressier</th>\n",
       "      <th class=\"col_heading level0 col3\" >Liancourt</th>\n",
       "      <th class=\"col_heading level0 col4\" >Limonade</th>\n",
       "      <th class=\"col_heading level0 col5\" >Petite Rivière de l'Artibonite</th>\n",
       "      <th class=\"col_heading level0 col6\" >Pétionville</th>\n",
       "      <th class=\"col_heading level0 col7\" >Tabarre</th>\n",
       "      <th class=\"col_heading level0 col8\" >Total</th>\n",
       "    </tr>\n",
       "    <tr>\n",
       "      <th class=\"index_name level0\" >username</th>\n",
       "      <th class=\"blank col0\" >&nbsp;</th>\n",
       "      <th class=\"blank col1\" >&nbsp;</th>\n",
       "      <th class=\"blank col2\" >&nbsp;</th>\n",
       "      <th class=\"blank col3\" >&nbsp;</th>\n",
       "      <th class=\"blank col4\" >&nbsp;</th>\n",
       "      <th class=\"blank col5\" >&nbsp;</th>\n",
       "      <th class=\"blank col6\" >&nbsp;</th>\n",
       "      <th class=\"blank col7\" >&nbsp;</th>\n",
       "      <th class=\"blank col8\" >&nbsp;</th>\n",
       "    </tr>\n",
       "  </thead>\n",
       "  <tbody>\n",
       "    <tr>\n",
       "      <th id=\"T_6e921_level0_row0\" class=\"row_heading level0 row0\" >France14</th>\n",
       "      <td id=\"T_6e921_row0_col0\" class=\"data row0 col0\" >0</td>\n",
       "      <td id=\"T_6e921_row0_col1\" class=\"data row0 col1\" >27</td>\n",
       "      <td id=\"T_6e921_row0_col2\" class=\"data row0 col2\" >0</td>\n",
       "      <td id=\"T_6e921_row0_col3\" class=\"data row0 col3\" >0</td>\n",
       "      <td id=\"T_6e921_row0_col4\" class=\"data row0 col4\" >0</td>\n",
       "      <td id=\"T_6e921_row0_col5\" class=\"data row0 col5\" >0</td>\n",
       "      <td id=\"T_6e921_row0_col6\" class=\"data row0 col6\" >0</td>\n",
       "      <td id=\"T_6e921_row0_col7\" class=\"data row0 col7\" >0</td>\n",
       "      <td id=\"T_6e921_row0_col8\" class=\"data row0 col8\" >27</td>\n",
       "    </tr>\n",
       "    <tr>\n",
       "      <th id=\"T_6e921_level0_row1\" class=\"row_heading level0 row1\" >billyjolicoeur</th>\n",
       "      <td id=\"T_6e921_row1_col0\" class=\"data row1 col0\" >0</td>\n",
       "      <td id=\"T_6e921_row1_col1\" class=\"data row1 col1\" >0</td>\n",
       "      <td id=\"T_6e921_row1_col2\" class=\"data row1 col2\" >0</td>\n",
       "      <td id=\"T_6e921_row1_col3\" class=\"data row1 col3\" >0</td>\n",
       "      <td id=\"T_6e921_row1_col4\" class=\"data row1 col4\" >0</td>\n",
       "      <td id=\"T_6e921_row1_col5\" class=\"data row1 col5\" >0</td>\n",
       "      <td id=\"T_6e921_row1_col6\" class=\"data row1 col6\" >8</td>\n",
       "      <td id=\"T_6e921_row1_col7\" class=\"data row1 col7\" >0</td>\n",
       "      <td id=\"T_6e921_row1_col8\" class=\"data row1 col8\" >8</td>\n",
       "    </tr>\n",
       "    <tr>\n",
       "      <th id=\"T_6e921_level0_row2\" class=\"row_heading level0 row2\" >fbyron</th>\n",
       "      <td id=\"T_6e921_row2_col0\" class=\"data row2 col0\" >26</td>\n",
       "      <td id=\"T_6e921_row2_col1\" class=\"data row2 col1\" >0</td>\n",
       "      <td id=\"T_6e921_row2_col2\" class=\"data row2 col2\" >11</td>\n",
       "      <td id=\"T_6e921_row2_col3\" class=\"data row2 col3\" >10</td>\n",
       "      <td id=\"T_6e921_row2_col4\" class=\"data row2 col4\" >5</td>\n",
       "      <td id=\"T_6e921_row2_col5\" class=\"data row2 col5\" >7</td>\n",
       "      <td id=\"T_6e921_row2_col6\" class=\"data row2 col6\" >0</td>\n",
       "      <td id=\"T_6e921_row2_col7\" class=\"data row2 col7\" >14</td>\n",
       "      <td id=\"T_6e921_row2_col8\" class=\"data row2 col8\" >73</td>\n",
       "    </tr>\n",
       "    <tr>\n",
       "      <th id=\"T_6e921_level0_row3\" class=\"row_heading level0 row3\" >Total</th>\n",
       "      <td id=\"T_6e921_row3_col0\" class=\"data row3 col0\" >26</td>\n",
       "      <td id=\"T_6e921_row3_col1\" class=\"data row3 col1\" >27</td>\n",
       "      <td id=\"T_6e921_row3_col2\" class=\"data row3 col2\" >11</td>\n",
       "      <td id=\"T_6e921_row3_col3\" class=\"data row3 col3\" >10</td>\n",
       "      <td id=\"T_6e921_row3_col4\" class=\"data row3 col4\" >5</td>\n",
       "      <td id=\"T_6e921_row3_col5\" class=\"data row3 col5\" >7</td>\n",
       "      <td id=\"T_6e921_row3_col6\" class=\"data row3 col6\" >8</td>\n",
       "      <td id=\"T_6e921_row3_col7\" class=\"data row3 col7\" >14</td>\n",
       "      <td id=\"T_6e921_row3_col8\" class=\"data row3 col8\" >108</td>\n",
       "    </tr>\n",
       "  </tbody>\n",
       "</table>\n"
      ],
      "text/plain": [
       "<pandas.io.formats.style.Styler at 0x10a477580>"
      ]
     },
     "execution_count": 10,
     "metadata": {},
     "output_type": "execute_result"
    },
    {
     "name": "stderr",
     "output_type": "stream",
     "text": [
      "[1231/022249.570157:INFO:headless_shell.cc(653)] Written to file /var/folders/7v/rs0k237d6nj3vdxfc1h7xtcw0000gn/T/tmp3h8ebfa9/temp.png.\n",
      "[1231/022252.004029:INFO:headless_shell.cc(653)] Written to file /var/folders/7v/rs0k237d6nj3vdxfc1h7xtcw0000gn/T/tmpf2axx6q_/temp.png.\n",
      "[1231/022254.642146:INFO:headless_shell.cc(653)] Written to file /var/folders/7v/rs0k237d6nj3vdxfc1h7xtcw0000gn/T/tmpkz_i8xxl/temp.png.\n"
     ]
    }
   ],
   "source": [
    "options.display.latex.repr = True\n",
    "\n",
    "#ben_table = ben_byAgent.pivot_table(values='id_patient',index='username',columns='commune',aggfunc='count',fill_value=0,margins=True, margins_name='Total')\n",
    "ben_table = validation_pivot(ben_byAgent)\n",
    "ben_table = ben_table.style.highlight_max()\n",
    "ben_table\n",
    "\n",
    "print('-----------------------------------------------------------------------------------------------------')\n",
    "\n",
    "#parenting_table = parenting_byAgent.pivot_table(values='id_patient',index='username',columns='commune',aggfunc='count',fill_value=0,margins=True, margins_name='Total')\n",
    "parenting_table = validation_pivot(parenting_byAgent)\n",
    "parenting_table = parenting_table.style.highlight_max()\n",
    "parenting_table\n",
    "\n",
    "export(ben_table,'ben_table.png')\n",
    "export(parenting_table,'parenting_table.png')"
   ]
  },
  {
   "cell_type": "markdown",
   "metadata": {},
   "source": [
    "# 3 component "
   ]
  },
  {
   "cell_type": "code",
   "execution_count": 11,
   "metadata": {},
   "outputs": [
    {
     "data": {
      "text/html": [
       "<style type=\"text/css\">\n",
       "#T_0a110_row0_col0, #T_0a110_row0_col1 {\n",
       "  background-color: yellow;\n",
       "}\n",
       "</style>\n",
       "<table id=\"T_0a110_\">\n",
       "  <thead>\n",
       "    <tr>\n",
       "      <th class=\"blank level0\" >&nbsp;</th>\n",
       "      <th class=\"col_heading level0 col0\" >Nombre de fille</th>\n",
       "      <th class=\"col_heading level0 col1\" >Nombre de presence</th>\n",
       "    </tr>\n",
       "  </thead>\n",
       "  <tbody>\n",
       "    <tr>\n",
       "      <th id=\"T_0a110_level0_row0\" class=\"row_heading level0 row0\" >0</th>\n",
       "      <td id=\"T_0a110_row0_col0\" class=\"data row0 col0\" >5723</td>\n",
       "      <td id=\"T_0a110_row0_col1\" class=\"data row0 col1\" >73177</td>\n",
       "    </tr>\n",
       "  </tbody>\n",
       "</table>\n"
      ],
      "text/plain": [
       "<pandas.io.formats.style.Styler at 0x1244eb460>"
      ]
     },
     "execution_count": 11,
     "metadata": {},
     "output_type": "execute_result"
    },
    {
     "name": "stdout",
     "output_type": "stream",
     "text": [
      "-----------------------------------------------------------------------\n"
     ]
    },
    {
     "data": {
      "text/html": [
       "<style type=\"text/css\">\n",
       "#T_6be1e_row0_col0, #T_6be1e_row0_col1 {\n",
       "  background-color: yellow;\n",
       "}\n",
       "</style>\n",
       "<table id=\"T_6be1e_\">\n",
       "  <thead>\n",
       "    <tr>\n",
       "      <th class=\"blank level0\" >&nbsp;</th>\n",
       "      <th class=\"col_heading level0 col0\" >Nombre de fille/parent parenting</th>\n",
       "      <th class=\"col_heading level0 col1\" >Nombre de presence</th>\n",
       "    </tr>\n",
       "  </thead>\n",
       "  <tbody>\n",
       "    <tr>\n",
       "      <th id=\"T_6be1e_level0_row0\" class=\"row_heading level0 row0\" >0</th>\n",
       "      <td id=\"T_6be1e_row0_col0\" class=\"data row0 col0\" >108</td>\n",
       "      <td id=\"T_6be1e_row0_col1\" class=\"data row0 col1\" >471</td>\n",
       "    </tr>\n",
       "  </tbody>\n",
       "</table>\n"
      ],
      "text/plain": [
       "<pandas.io.formats.style.Styler at 0x12447aca0>"
      ]
     },
     "execution_count": 11,
     "metadata": {},
     "output_type": "execute_result"
    },
    {
     "name": "stderr",
     "output_type": "stream",
     "text": [
      "[1231/022256.450412:INFO:headless_shell.cc(653)] Written to file /var/folders/7v/rs0k237d6nj3vdxfc1h7xtcw0000gn/T/tmpbylievp0/temp.png.\n",
      "[1231/022257.836367:INFO:headless_shell.cc(653)] Written to file /var/folders/7v/rs0k237d6nj3vdxfc1h7xtcw0000gn/T/tmpmytj09rf/temp.png.\n"
     ]
    }
   ],
   "source": [
    "options.display.latex.repr = True\n",
    "\n",
    "curriculum_result = DataFrame(\n",
    "    [\n",
    "        {'Nombre de fille': ben_byAgent.id_patient.count(),\n",
    "        'Nombre de presence': pres_byAgent.nombre_pres.sum()}\n",
    "    ]\n",
    ")\n",
    "curriculum_result.style.highlight_max()\n",
    "\n",
    "print('-----------------------------------------------------------------------')\n",
    "\n",
    "parenting_result = DataFrame(\n",
    "    [\n",
    "        {'Nombre de fille/parent parenting': parenting_byAgent.id_patient.count(),\n",
    "        'Nombre de presence': pres_parenting.nombre_pres.sum()}\n",
    "    ]\n",
    ")\n",
    "parenting_result.style.highlight_max()\n",
    "\n",
    "export(curriculum_result,'curriculum_result.png')\n",
    "export(parenting_result,'parenting_result.png')"
   ]
  },
  {
   "cell_type": "markdown",
   "metadata": {},
   "source": [
    "# Report"
   ]
  },
  {
   "cell_type": "code",
   "execution_count": 12,
   "metadata": {},
   "outputs": [],
   "source": [
    "all_report = ExcelWriter(f\"rapport_performance.xlsx\",engine=\"openpyxl\")\n",
    "curriculum_result.to_excel(all_report,sheet_name=\"resultat_curriculum\",index=False,na_rep=\"\")\n",
    "pres_byAgent.to_excel(all_report,sheet_name=\"presence_agent_curriculum\",index=False,na_rep=\"\")\n",
    "ben_table.to_excel(all_report,sheet_name=\"ben_communes_curriculum\",index=True,na_rep=\"\")\n",
    "parenting_result.to_excel(all_report,sheet_name=\"resultat_parenting\",index=False,na_rep=\"\")\n",
    "pres_parenting.to_excel(all_report,sheet_name=\"pres_agent_parenting\",index=False,na_rep=\"\")\n",
    "parenting_table.to_excel(all_report,sheet_name=\"ben_communes_parenting\",index=True,na_rep=\"\")\n",
    "all_report.save()"
   ]
  }
 ],
 "metadata": {
  "interpreter": {
   "hash": "4534460e0bdca1b390927d45471088fb3501d39abc4e3f2cee293892e17d7fc6"
  },
  "kernelspec": {
   "display_name": "Python 3.9.7 64-bit",
   "language": "python",
   "name": "python3"
  },
  "language_info": {
   "codemirror_mode": {
    "name": "ipython",
    "version": 3
   },
   "file_extension": ".py",
   "mimetype": "text/x-python",
   "name": "python",
   "nbconvert_exporter": "python",
   "pygments_lexer": "ipython3",
   "version": "3.9.7"
  },
  "orig_nbformat": 4
 },
 "nbformat": 4,
 "nbformat_minor": 2
}
