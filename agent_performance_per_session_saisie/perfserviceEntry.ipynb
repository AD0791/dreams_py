{
 "cells": [
  {
   "cell_type": "code",
   "execution_count": 1,
   "metadata": {},
   "outputs": [],
   "source": [
    "from IPython.core.interactiveshell import InteractiveShell\n",
    "InteractiveShell.ast_node_interactivity = \"all\"\n",
    "import os\n",
    "from datetime import datetime\n",
    "#from datetime import date\n",
    "import pymysql\n",
    "from sqlalchemy import create_engine, text\n",
    "from decouple import config \n",
    "from dotenv import load_dotenv\n",
    "from pandas import (\n",
    "    read_sql_query, \n",
    "    DataFrame,\n",
    "    ExcelWriter,\n",
    "    options\n",
    ")\n",
    "from dataframe_image import export\n",
    "\n",
    "from enum import Enum\n",
    "import openpyxl\n",
    "import matplotlib.pyplot as plt\n",
    "import seaborn as sns\n",
    "%matplotlib inline"
   ]
  },
  {
   "cell_type": "code",
   "execution_count": 2,
   "metadata": {},
   "outputs": [],
   "source": [
    "class Period(Enum):\n",
    "    date = '2023-08-14'\n",
    "    week='2023-08-14'\n",
    "    date_du_jour = datetime.today().strftime(\"%d_%m_%Y\")"
   ]
  },
  {
   "cell_type": "code",
   "execution_count": 3,
   "metadata": {},
   "outputs": [
    {
     "data": {
      "text/plain": [
       "True"
      ]
     },
     "execution_count": 3,
     "metadata": {},
     "output_type": "execute_result"
    }
   ],
   "source": [
    "load_dotenv()\n",
    "# get the environment variables needed\n",
    "USER = config('USRCaris')\n",
    "PASSWORD = config('PASSCaris')\n",
    "HOSTNAME = config('HOSTCaris')\n",
    "DBNAME = config('DBCaris')\n",
    "\n",
    "# get the engine to connect and fetch\n",
    "engine = create_engine(\n",
    "    f\"mysql+pymysql://{USER}:{PASSWORD}@{HOSTNAME}/{DBNAME}\")\n",
    "\n"
   ]
  },
  {
   "cell_type": "code",
   "execution_count": 4,
   "metadata": {},
   "outputs": [],
   "source": [
    "query_presenceQty = f'''\n",
    "SELECT \n",
    "    a.*, COUNT(*) AS qte_pres_by_creator\n",
    "FROM\n",
    "    (SELECT \n",
    "            dgs.created_by,\n",
    "            au.email AS email,\n",
    "            au.username\n",
    "    FROM\n",
    "        caris_db.dream_group_session dgs\n",
    "    LEFT JOIN dream_group_attendance dga ON dgs.id = dga.id_group_session\n",
    "    LEFT JOIN dream_group dg ON dgs.id_group = dg.id\n",
    "    LEFT JOIN dream_hub dh ON dg.id_dream_hub = dh.id\n",
    "    LEFT JOIN lookup_commune lc ON lc.id = dh.commune\n",
    "    LEFT JOIN lookup_departement ld ON ld.id = lc.departement\n",
    "    LEFT JOIN auth_users au ON au.id = dgs.created_by\n",
    "    WHERE\n",
    "        dga.value = 'P'\n",
    "            AND dgs.date >= '{Period.date.value}') a\n",
    "GROUP BY a.created_by\n",
    "'''\n",
    "\n",
    "query_beneficiariesQty = f'''\n",
    "SELECT *, COUNT(*) AS qte_by_creator FROM\n",
    "    (SELECT\n",
    "        dgs.id AS id_session,\n",
    "            topic,\n",
    "            date,\n",
    "            dga.id_patient AS id_patient,\n",
    "            dgs.created_by,\n",
    "            lc.name AS commune,\n",
    "            ld.name AS departement,\n",
    "            dh.name AS hub,\n",
    "            au.email AS email,\n",
    "            au.username,\n",
    "            b.first_name,\n",
    "            b.last_name,\n",
    "            p.patient_code as dreams_code\n",
    "    FROM\n",
    "        caris_db.dream_group_session dgs\n",
    "    INNER JOIN dream_group_attendance dga ON dgs.id = dga.id_group_session\n",
    "        LEFT JOIN dream_group dg ON dgs.id_group = dg.id\n",
    "    LEFT JOIN dream_hub dh ON dg.id_dream_hub = dh.id\n",
    "    LEFT JOIN lookup_commune lc ON lc.id = dh.commune\n",
    "    LEFT JOIN lookup_departement ld ON ld.id = lc.departement\n",
    "    LEFT JOIN auth_users au ON au.id = dgs.created_by\n",
    "    left join beneficiary b on dga.id_patient=b.id_patient\n",
    "    left join patient p on p.id=dga.id_patient\n",
    "    WHERE\n",
    "        dga.value = 'P'\n",
    "            AND dgs.date >= '{Period.date.value}') a\n",
    "            group by a.id_patient, a.username\n",
    "'''\n"
   ]
  },
  {
   "cell_type": "code",
   "execution_count": 5,
   "metadata": {},
   "outputs": [],
   "source": [
    "query_presenceWeek = f'''\n",
    "SELECT \n",
    "    a.*, COUNT(*) AS qte_pres_by_creator\n",
    "FROM\n",
    "    (SELECT \n",
    "            dgs.created_by,\n",
    "            au.email AS email,\n",
    "            au.username\n",
    "    FROM\n",
    "        caris_db.dream_group_session dgs\n",
    "    LEFT JOIN dream_group_attendance dga ON dgs.id = dga.id_group_session\n",
    "    LEFT JOIN dream_group dg ON dgs.id_group = dg.id\n",
    "    LEFT JOIN dream_hub dh ON dg.id_dream_hub = dh.id\n",
    "    LEFT JOIN lookup_commune lc ON lc.id = dh.commune\n",
    "    LEFT JOIN lookup_departement ld ON ld.id = lc.departement\n",
    "    LEFT JOIN auth_users au ON au.id = dgs.created_by\n",
    "    WHERE\n",
    "        dga.value = 'P'\n",
    "            AND dgs.date >= '{Period.week.value}') a\n",
    "GROUP BY a.created_by\n",
    "'''\n",
    "\n",
    "query_beneficiariesWeek = f'''\n",
    "SELECT *, COUNT(*) AS qte_by_creator FROM\n",
    "    (SELECT\n",
    "        dgs.id AS id_session,\n",
    "            topic,\n",
    "            date,\n",
    "            dga.id_patient AS id_patient,\n",
    "            dgs.created_by,\n",
    "            lc.name AS commune,\n",
    "            ld.name AS departement,\n",
    "            dh.name AS hub,\n",
    "            au.email AS email,\n",
    "            au.username,\n",
    "            b.first_name,\n",
    "            b.last_name,\n",
    "            p.patient_code as dreams_code\n",
    "    FROM\n",
    "        caris_db.dream_group_session dgs\n",
    "    INNER JOIN dream_group_attendance dga ON dgs.id = dga.id_group_session\n",
    "        LEFT JOIN dream_group dg ON dgs.id_group = dg.id\n",
    "    LEFT JOIN dream_hub dh ON dg.id_dream_hub = dh.id\n",
    "    LEFT JOIN lookup_commune lc ON lc.id = dh.commune\n",
    "    LEFT JOIN lookup_departement ld ON ld.id = lc.departement\n",
    "    LEFT JOIN auth_users au ON au.id = dgs.created_by\n",
    "    left join beneficiary b on dga.id_patient=b.id_patient\n",
    "    left join patient p on p.id=dga.id_patient\n",
    "    WHERE\n",
    "        dga.value = 'P'\n",
    "            AND dgs.date >= '{Period.week.value}') a\n",
    "            group by a.id_patient, a.username\n",
    "'''\n"
   ]
  },
  {
   "cell_type": "code",
   "execution_count": 6,
   "metadata": {},
   "outputs": [],
   "source": [
    "query_parentingBene = f'''\n",
    "SELECT \n",
    "    *, COUNT(*) AS qte_by_creator\n",
    "FROM\n",
    "    (SELECT \n",
    "        dpgs.id_group AS id_session,\n",
    "            topic,\n",
    "            date,\n",
    "            dpga.id_patient AS id_patient,\n",
    "            dpgs.created_by,\n",
    "            lc.name AS commune,\n",
    "            ld.name AS departement,\n",
    "            dh.name AS hub,\n",
    "            au.email AS email,\n",
    "            au.username,\n",
    "            b.first_name,\n",
    "            b.last_name,\n",
    "            p.patient_code AS dreams_code\n",
    "    FROM\n",
    "        caris_db.dream_parenting_group_session dpgs\n",
    "    LEFT JOIN dream_parenting_group_attendance dpga ON dpgs.id = dpga.id_parenting_group_session\n",
    "    LEFT JOIN dream_group dg ON dpgs.id_group = dg.id\n",
    "    LEFT JOIN dream_hub dh ON dg.id_dream_hub = dh.id\n",
    "    LEFT JOIN lookup_commune lc ON lc.id = dh.commune\n",
    "    LEFT JOIN lookup_departement ld ON ld.id = lc.departement\n",
    "    LEFT JOIN auth_users au ON au.id = dpgs.created_by\n",
    "    LEFT JOIN beneficiary b ON dpga.id_patient = b.id_patient\n",
    "    LEFT JOIN patient p ON p.id = dpga.id_patient\n",
    "    WHERE\n",
    "        ((dpga.parent_g = 'P')\n",
    "            OR (dpga.parent_vd = 'P')\n",
    "            OR (dpga.yg_g = 'P')\n",
    "            OR (dpga.yg_vd = 'P'))\n",
    "            AND (dpgs.date >= '{Period.date.value}')) a\n",
    "GROUP BY a.id_patient , a.username\n",
    "'''\n",
    "\n",
    "query_parentingQty = f'''\n",
    "SELECT \n",
    "    a.*, COUNT(*) AS qte_by_creator\n",
    "FROM\n",
    "    (SELECT \n",
    "        dpgs.created_by, au.email AS email, au.username\n",
    "    FROM\n",
    "        caris_db.dream_parenting_group_session dpgs\n",
    "    LEFT JOIN dream_parenting_group_attendance dpga ON dpgs.id = dpga.id_parenting_group_session\n",
    "    LEFT JOIN dream_group dg ON dpgs.id_group = dg.id\n",
    "    LEFT JOIN dream_hub dh ON dg.id_dream_hub = dh.id\n",
    "    LEFT JOIN lookup_commune lc ON lc.id = dh.commune\n",
    "    LEFT JOIN lookup_departement ld ON ld.id = lc.departement\n",
    "    LEFT JOIN auth_users au ON au.id = dpgs.created_by\n",
    "    WHERE ((dpga.parent_g = 'P') OR (dpga.parent_vd= 'P') OR (dpga.yg_g='P') OR (dpga.yg_vd='P') )\n",
    "            AND (dpgs.date >= '{Period.date.value}') ) a\n",
    "GROUP BY a.created_by\n",
    "'''\n",
    "\n",
    "\n",
    "\n",
    "\n"
   ]
  },
  {
   "cell_type": "code",
   "execution_count": 7,
   "metadata": {},
   "outputs": [],
   "source": [
    "pres_byAgent= read_sql_query(text(query_presenceQty), engine.connect(), parse_dates=True)\n",
    "ben_byAgent = read_sql_query(text(query_beneficiariesQty), engine.connect(), parse_dates=True)\n",
    "\n",
    "pres_byAgent_week= read_sql_query(text(query_presenceWeek), engine.connect(), parse_dates=True)\n",
    "ben_byAgent_week = read_sql_query(text(query_beneficiariesWeek), engine.connect(), parse_dates=True)\n",
    "\n",
    "pres_parenting= read_sql_query(text(query_parentingQty), engine.connect(), parse_dates=True)\n",
    "parenting_byAgent = read_sql_query(text(query_parentingBene), engine.connect(), parse_dates=True)\n",
    "\n",
    "\n",
    "# close the pool of connection\n",
    "engine.dispose()"
   ]
  },
  {
   "cell_type": "code",
   "execution_count": 8,
   "metadata": {},
   "outputs": [],
   "source": [
    "pres_byAgent.rename(columns={'qte_pres_by_creator':'nombre_pres'},inplace=True)\n",
    "ben_byAgent.rename(columns={'qte_by_creator':'nombre_pres'},inplace=True)\n",
    "\n",
    "pres_byAgent_week.rename(columns={'qte_pres_by_creator':'nombre_pres'},inplace=True)\n",
    "ben_byAgent_week.rename(columns={'qte_by_creator':'nombre_pres'},inplace=True)\n",
    "\n",
    "pres_parenting.rename(columns={'qte_by_creator':'nombre_pres'},inplace=True)\n",
    "parenting_byAgent.rename(columns={'qte_by_creator':'nombre_pres'},inplace=True)"
   ]
  },
  {
   "cell_type": "code",
   "execution_count": 9,
   "metadata": {},
   "outputs": [],
   "source": [
    "pres_byAgent.fillna(\"noID\",inplace=True)\n",
    "ben_byAgent.fillna(\"noID\",inplace=True)"
   ]
  },
  {
   "cell_type": "code",
   "execution_count": 10,
   "metadata": {},
   "outputs": [
    {
     "name": "stdout",
     "output_type": "stream",
     "text": [
      "Nombre de presence totale pour la semaine:  0\n",
      "Nombre de presence totale pour la semaine:  0\n",
      "Nombre de filles pour la semaine:  0\n",
      "-------------\n",
      "Nombre de presence totale:  0\n",
      "Nombre de presence totale:  0\n",
      "Nombre de filles:  0\n",
      "-----------\n",
      "Nombre de presence totale parenting:  0\n",
      "Nombre de presence totale parenting:  0\n",
      "Nombre de filles:  0\n"
     ]
    }
   ],
   "source": [
    "print('Nombre de presence totale pour la semaine: ',pres_byAgent_week.nombre_pres.sum())\n",
    "print('Nombre de presence totale pour la semaine: ',ben_byAgent_week.nombre_pres.sum())\n",
    "print('Nombre de filles pour la semaine: ',ben_byAgent_week.id_patient.count())\n",
    "print('-------------')\n",
    "print('Nombre de presence totale: ',pres_byAgent.nombre_pres.sum())\n",
    "print('Nombre de presence totale: ',ben_byAgent.nombre_pres.sum())\n",
    "print('Nombre de filles: ',ben_byAgent.id_patient.count())\n",
    "print('-----------')\n",
    "print('Nombre de presence totale parenting: ',pres_parenting.nombre_pres.sum())\n",
    "print('Nombre de presence totale parenting: ',parenting_byAgent.nombre_pres.sum())\n",
    "print('Nombre de filles: ',parenting_byAgent.id_patient.count())"
   ]
  },
  {
   "cell_type": "markdown",
   "metadata": {},
   "source": [
    "# First Component"
   ]
  },
  {
   "cell_type": "code",
   "execution_count": 11,
   "metadata": {},
   "outputs": [
    {
     "data": {
      "text/html": [
       "<div>\n",
       "<style scoped>\n",
       "    .dataframe tbody tr th:only-of-type {\n",
       "        vertical-align: middle;\n",
       "    }\n",
       "\n",
       "    .dataframe tbody tr th {\n",
       "        vertical-align: top;\n",
       "    }\n",
       "\n",
       "    .dataframe thead th {\n",
       "        text-align: right;\n",
       "    }\n",
       "</style>\n",
       "<table border=\"1\" class=\"dataframe\">\n",
       "  <thead>\n",
       "    <tr style=\"text-align: right;\">\n",
       "      <th></th>\n",
       "      <th>username</th>\n",
       "      <th>email</th>\n",
       "      <th>nombre_pres</th>\n",
       "    </tr>\n",
       "  </thead>\n",
       "  <tbody>\n",
       "  </tbody>\n",
       "</table>\n",
       "</div>"
      ],
      "text/plain": [
       "Empty DataFrame\n",
       "Columns: [username, email, nombre_pres]\n",
       "Index: []"
      ]
     },
     "execution_count": 11,
     "metadata": {},
     "output_type": "execute_result"
    },
    {
     "name": "stdout",
     "output_type": "stream",
     "text": [
      "---------------------------------------------------------------------------------------------\n"
     ]
    },
    {
     "data": {
      "text/html": [
       "<div>\n",
       "<style scoped>\n",
       "    .dataframe tbody tr th:only-of-type {\n",
       "        vertical-align: middle;\n",
       "    }\n",
       "\n",
       "    .dataframe tbody tr th {\n",
       "        vertical-align: top;\n",
       "    }\n",
       "\n",
       "    .dataframe thead th {\n",
       "        text-align: right;\n",
       "    }\n",
       "</style>\n",
       "<table border=\"1\" class=\"dataframe\">\n",
       "  <thead>\n",
       "    <tr style=\"text-align: right;\">\n",
       "      <th></th>\n",
       "      <th>username</th>\n",
       "      <th>email</th>\n",
       "      <th>nombre_pres</th>\n",
       "    </tr>\n",
       "  </thead>\n",
       "  <tbody>\n",
       "  </tbody>\n",
       "</table>\n",
       "</div>"
      ],
      "text/plain": [
       "Empty DataFrame\n",
       "Columns: [username, email, nombre_pres]\n",
       "Index: []"
      ]
     },
     "execution_count": 11,
     "metadata": {},
     "output_type": "execute_result"
    },
    {
     "name": "stdout",
     "output_type": "stream",
     "text": [
      "---------------------------------------------------------------------------------------------\n"
     ]
    },
    {
     "data": {
      "text/html": [
       "<div>\n",
       "<style scoped>\n",
       "    .dataframe tbody tr th:only-of-type {\n",
       "        vertical-align: middle;\n",
       "    }\n",
       "\n",
       "    .dataframe tbody tr th {\n",
       "        vertical-align: top;\n",
       "    }\n",
       "\n",
       "    .dataframe thead th {\n",
       "        text-align: right;\n",
       "    }\n",
       "</style>\n",
       "<table border=\"1\" class=\"dataframe\">\n",
       "  <thead>\n",
       "    <tr style=\"text-align: right;\">\n",
       "      <th></th>\n",
       "      <th>username</th>\n",
       "      <th>email</th>\n",
       "      <th>nombre_pres</th>\n",
       "    </tr>\n",
       "  </thead>\n",
       "  <tbody>\n",
       "  </tbody>\n",
       "</table>\n",
       "</div>"
      ],
      "text/plain": [
       "Empty DataFrame\n",
       "Columns: [username, email, nombre_pres]\n",
       "Index: []"
      ]
     },
     "execution_count": 11,
     "metadata": {},
     "output_type": "execute_result"
    }
   ],
   "source": [
    "pres_byAgent = pres_byAgent[['username','email','nombre_pres']]\n",
    "if pres_byAgent.empty:\n",
    "    pres_byAgent\n",
    "else:\n",
    "    pres_byAgent.style.highlight_max(subset=['nombre_pres'])\n",
    "    \n",
    "print('---------------------------------------------------------------------------------------------')\n",
    "\n",
    "pres_byAgent_week = pres_byAgent_week[['username','email','nombre_pres']]\n",
    "if pres_byAgent_week.empty:\n",
    "    pres_byAgent_week\n",
    "else:\n",
    "    pres_byAgent_week.style.highlight_max(subset=['nombre_pres'])\n",
    "\n",
    "\n",
    "\n",
    "print('---------------------------------------------------------------------------------------------')\n",
    "\n",
    "pres_parenting = pres_parenting[['username','email','nombre_pres']]\n",
    "if pres_parenting.empty:\n",
    "    pres_parenting\n",
    "else:\n",
    "    pres_parenting.style.highlight_max(subset=['nombre_pres'])   \n",
    "\n",
    "\n",
    "#ordered_pres_byAgent = pres_byAgent.nombre_pres.sort_values().to_list()\n",
    "#ordered_pres_parenting = pres_parenting.nombre_pres.sort_values().to_list()"
   ]
  },
  {
   "cell_type": "markdown",
   "metadata": {},
   "source": [
    "# Graphe Component I"
   ]
  },
  {
   "cell_type": "code",
   "execution_count": 12,
   "metadata": {},
   "outputs": [
    {
     "data": {
      "text/plain": [
       "<Figure size 1600x800 with 0 Axes>"
      ]
     },
     "execution_count": 12,
     "metadata": {},
     "output_type": "execute_result"
    },
    {
     "name": "stdout",
     "output_type": "stream",
     "text": [
      "no activities where registered\n"
     ]
    },
    {
     "name": "stderr",
     "output_type": "stream",
     "text": [
      "/var/folders/7v/rs0k237d6nj3vdxfc1h7xtcw0000gn/T/ipykernel_38144/179321933.py:5: FutureWarning: \n",
      "\n",
      "The `ci` parameter is deprecated. Use `errorbar=('ci', False)` for the same effect.\n",
      "\n",
      "  splot = sns.barplot(x=\"nombre_pres\",y=\"username\",data=pres_byAgent,color=\"Green\",order=pres_byAgent.sort_values(\"nombre_pres\",ascending=False).username,ci=False)\n"
     ]
    },
    {
     "data": {
      "text/plain": [
       "<Figure size 1600x800 with 0 Axes>"
      ]
     },
     "metadata": {},
     "output_type": "display_data"
    }
   ],
   "source": [
    "try:\n",
    "    plt.figure(figsize=(16,8))\n",
    "    #plt.subplots(figsize=(16,8))\n",
    "    sns.set_style(\"darkgrid\")\n",
    "    splot = sns.barplot(x=\"nombre_pres\",y=\"username\",data=pres_byAgent,color=\"Green\",order=pres_byAgent.sort_values(\"nombre_pres\",ascending=False).username,ci=False)\n",
    "    splot.set_xlabel(\"\")\n",
    "    splot.set_ylabel(\"\")\n",
    "    plt.suptitle(f\"Nombre de presence Currriculum par agents depuis le {Period.date.value}\")\n",
    "    for p in splot.patches:\n",
    "        width = p.get_width()\n",
    "        plt.text(0.25+p.get_width(), p.get_y()+0.50*p.get_height(),\n",
    "                '{:1.0f}'.format(width),fontdict=dict(color=\"red\",fontsize=12))\n",
    "\n",
    "    plt.annotate(\n",
    "        \"source: HIVHaiti\",(0,0), (-80,-20), fontsize=10, \n",
    "                xycoords='axes fraction', textcoords='offset points', va='top'\n",
    "    )\n",
    "except ValueError:\n",
    "    print(f\"no activities where registered\")"
   ]
  },
  {
   "cell_type": "code",
   "execution_count": 13,
   "metadata": {},
   "outputs": [
    {
     "data": {
      "text/plain": [
       "<Figure size 1600x800 with 0 Axes>"
      ]
     },
     "execution_count": 13,
     "metadata": {},
     "output_type": "execute_result"
    },
    {
     "name": "stdout",
     "output_type": "stream",
     "text": [
      "no activities where registered pour cette semaine 2023-08-14\n"
     ]
    },
    {
     "name": "stderr",
     "output_type": "stream",
     "text": [
      "/var/folders/7v/rs0k237d6nj3vdxfc1h7xtcw0000gn/T/ipykernel_38144/3506290151.py:5: FutureWarning: \n",
      "\n",
      "The `ci` parameter is deprecated. Use `errorbar=('ci', False)` for the same effect.\n",
      "\n",
      "  splot = sns.barplot(x=\"nombre_pres\",y=\"username\",data=pres_byAgent_week,color=\"Blue\",order=pres_byAgent_week.sort_values(\"nombre_pres\",ascending=False).username,ci=False)\n"
     ]
    },
    {
     "data": {
      "text/plain": [
       "<Figure size 1600x800 with 0 Axes>"
      ]
     },
     "metadata": {},
     "output_type": "display_data"
    }
   ],
   "source": [
    "try:\n",
    "    plt.figure(figsize=(16,8))\n",
    "    #plt.subplots(figsize=(16,8))\n",
    "    sns.set_style(\"darkgrid\")\n",
    "    splot = sns.barplot(x=\"nombre_pres\",y=\"username\",data=pres_byAgent_week,color=\"Blue\",order=pres_byAgent_week.sort_values(\"nombre_pres\",ascending=False).username,ci=False)\n",
    "    splot.set_xlabel(\"\")\n",
    "    splot.set_ylabel(\"\")\n",
    "    plt.suptitle(f\"Nombre de presence Currriculum par agents pour la semaine du {Period.week.value}\")\n",
    "    for p in splot.patches:\n",
    "        width = p.get_width()\n",
    "        plt.text(0.25+p.get_width(), p.get_y()+0.50*p.get_height(),\n",
    "                '{:1.0f}'.format(width),fontdict=dict(color=\"red\",fontsize=12))\n",
    "\n",
    "    plt.annotate(\n",
    "        \"source: HIVHaiti\",(0,0), (-80,-20), fontsize=10,\n",
    "                xycoords='axes fraction', textcoords='offset points', va='top'\n",
    "    )\n",
    "except ValueError:\n",
    "    print(f\"no activities where registered pour cette semaine {Period.week.value}\")"
   ]
  },
  {
   "cell_type": "code",
   "execution_count": 14,
   "metadata": {},
   "outputs": [
    {
     "data": {
      "text/plain": [
       "<Figure size 1600x800 with 0 Axes>"
      ]
     },
     "execution_count": 14,
     "metadata": {},
     "output_type": "execute_result"
    },
    {
     "name": "stdout",
     "output_type": "stream",
     "text": [
      "no activities where registered\n"
     ]
    },
    {
     "name": "stderr",
     "output_type": "stream",
     "text": [
      "/var/folders/7v/rs0k237d6nj3vdxfc1h7xtcw0000gn/T/ipykernel_38144/1359894003.py:5: FutureWarning: \n",
      "\n",
      "The `ci` parameter is deprecated. Use `errorbar=('ci', False)` for the same effect.\n",
      "\n",
      "  splot = sns.barplot(x=\"nombre_pres\",y=\"username\",data=pres_parenting,color=\"Green\",order=pres_parenting.sort_values(\"nombre_pres\",ascending=False).username,ci=False)\n"
     ]
    },
    {
     "data": {
      "text/plain": [
       "<Figure size 1600x800 with 0 Axes>"
      ]
     },
     "metadata": {},
     "output_type": "display_data"
    }
   ],
   "source": [
    "try:\n",
    "    plt.figure(figsize=(16,8))\n",
    "    #plt.subplots(figsize=(16,8))\n",
    "    sns.set_style(\"darkgrid\")\n",
    "    splot = sns.barplot(x=\"nombre_pres\",y=\"username\",data=pres_parenting,color=\"Green\",order=pres_parenting.sort_values(\"nombre_pres\",ascending=False).username,ci=False)\n",
    "    splot.set_xlabel(\"\")\n",
    "    splot.set_ylabel(\"\")\n",
    "    plt.suptitle(f\"Nombre de presence parenting par agents depuis le {Period.date.value}\")\n",
    "    for p in splot.patches:\n",
    "        width = p.get_width()\n",
    "        plt.text(0.25+p.get_width(), p.get_y()+0.50*p.get_height(),\n",
    "                '{:1.0f}'.format(width),fontdict=dict(color=\"red\",fontsize=12))\n",
    "    plt.annotate(\n",
    "        \"source: HIVHaiti\",(0,0), (-80,-20), fontsize=10, \n",
    "                xycoords='axes fraction', textcoords='offset points', va='top'\n",
    "    )\n",
    "except ValueError:\n",
    "    print(f\"no activities where registered\")"
   ]
  },
  {
   "cell_type": "markdown",
   "metadata": {},
   "source": [
    "# Validation of the pivot table"
   ]
  },
  {
   "cell_type": "code",
   "execution_count": 15,
   "metadata": {},
   "outputs": [],
   "source": [
    "def validation_pivot(pt):\n",
    "    if not pt.empty:\n",
    "        pt = pt.pivot_table(values='id_patient',index='username',columns='commune',aggfunc='count',fill_value=0,margins=True, margins_name='Total')\n",
    "    if pt.empty:\n",
    "        pt =  DataFrame({\"resultats\":[\"No data entry\"]})\n",
    "    return pt"
   ]
  },
  {
   "cell_type": "markdown",
   "metadata": {},
   "source": [
    "# Component 2"
   ]
  },
  {
   "cell_type": "code",
   "execution_count": 16,
   "metadata": {},
   "outputs": [
    {
     "data": {
      "text/html": [
       "<div>\n",
       "<style scoped>\n",
       "    .dataframe tbody tr th:only-of-type {\n",
       "        vertical-align: middle;\n",
       "    }\n",
       "\n",
       "    .dataframe tbody tr th {\n",
       "        vertical-align: top;\n",
       "    }\n",
       "\n",
       "    .dataframe thead th {\n",
       "        text-align: right;\n",
       "    }\n",
       "</style>\n",
       "<table border=\"1\" class=\"dataframe\">\n",
       "  <thead>\n",
       "    <tr style=\"text-align: right;\">\n",
       "      <th></th>\n",
       "      <th>resultats</th>\n",
       "    </tr>\n",
       "  </thead>\n",
       "  <tbody>\n",
       "    <tr>\n",
       "      <th>0</th>\n",
       "      <td>No data entry</td>\n",
       "    </tr>\n",
       "  </tbody>\n",
       "</table>\n",
       "</div>"
      ],
      "text/plain": [
       "       resultats\n",
       "0  No data entry"
      ]
     },
     "execution_count": 16,
     "metadata": {},
     "output_type": "execute_result"
    },
    {
     "name": "stdout",
     "output_type": "stream",
     "text": [
      "-----------------------------------------------------------------------------------------------------\n"
     ]
    },
    {
     "data": {
      "text/html": [
       "<div>\n",
       "<style scoped>\n",
       "    .dataframe tbody tr th:only-of-type {\n",
       "        vertical-align: middle;\n",
       "    }\n",
       "\n",
       "    .dataframe tbody tr th {\n",
       "        vertical-align: top;\n",
       "    }\n",
       "\n",
       "    .dataframe thead th {\n",
       "        text-align: right;\n",
       "    }\n",
       "</style>\n",
       "<table border=\"1\" class=\"dataframe\">\n",
       "  <thead>\n",
       "    <tr style=\"text-align: right;\">\n",
       "      <th></th>\n",
       "      <th>resultats</th>\n",
       "    </tr>\n",
       "  </thead>\n",
       "  <tbody>\n",
       "    <tr>\n",
       "      <th>0</th>\n",
       "      <td>No data entry</td>\n",
       "    </tr>\n",
       "  </tbody>\n",
       "</table>\n",
       "</div>"
      ],
      "text/plain": [
       "       resultats\n",
       "0  No data entry"
      ]
     },
     "execution_count": 16,
     "metadata": {},
     "output_type": "execute_result"
    },
    {
     "name": "stdout",
     "output_type": "stream",
     "text": [
      "-----------------------------------------------------------------------------------------------------\n"
     ]
    },
    {
     "data": {
      "text/html": [
       "<div>\n",
       "<style scoped>\n",
       "    .dataframe tbody tr th:only-of-type {\n",
       "        vertical-align: middle;\n",
       "    }\n",
       "\n",
       "    .dataframe tbody tr th {\n",
       "        vertical-align: top;\n",
       "    }\n",
       "\n",
       "    .dataframe thead th {\n",
       "        text-align: right;\n",
       "    }\n",
       "</style>\n",
       "<table border=\"1\" class=\"dataframe\">\n",
       "  <thead>\n",
       "    <tr style=\"text-align: right;\">\n",
       "      <th></th>\n",
       "      <th>resultats</th>\n",
       "    </tr>\n",
       "  </thead>\n",
       "  <tbody>\n",
       "    <tr>\n",
       "      <th>0</th>\n",
       "      <td>No data entry</td>\n",
       "    </tr>\n",
       "  </tbody>\n",
       "</table>\n",
       "</div>"
      ],
      "text/plain": [
       "       resultats\n",
       "0  No data entry"
      ]
     },
     "execution_count": 16,
     "metadata": {},
     "output_type": "execute_result"
    }
   ],
   "source": [
    "\n",
    "#ben_table = ben_byAgent.pivot_table(values='id_patient',index='username',columns='commune',aggfunc='count',fill_value=0,margins=True, margins_name='Total')\n",
    "ben_table = validation_pivot(ben_byAgent)\n",
    "ben_table\n",
    "\n",
    "print('-----------------------------------------------------------------------------------------------------')\n",
    "\n",
    "ben_table_week = validation_pivot(ben_byAgent_week)\n",
    "ben_table_week\n",
    "\n",
    "\n",
    "print('-----------------------------------------------------------------------------------------------------')\n",
    "\n",
    "#parenting_table = parenting_byAgent.pivot_table(values='id_patient',index='username',columns='commune',aggfunc='count',fill_value=0,margins=True, margins_name='Total')\n",
    "parenting_table = validation_pivot(parenting_byAgent)\n",
    "parenting_table"
   ]
  },
  {
   "cell_type": "markdown",
   "metadata": {},
   "source": [
    "# 3 component "
   ]
  },
  {
   "cell_type": "code",
   "execution_count": 17,
   "metadata": {},
   "outputs": [
    {
     "data": {
      "text/html": [
       "<div>\n",
       "<style scoped>\n",
       "    .dataframe tbody tr th:only-of-type {\n",
       "        vertical-align: middle;\n",
       "    }\n",
       "\n",
       "    .dataframe tbody tr th {\n",
       "        vertical-align: top;\n",
       "    }\n",
       "\n",
       "    .dataframe thead th {\n",
       "        text-align: right;\n",
       "    }\n",
       "</style>\n",
       "<table border=\"1\" class=\"dataframe\">\n",
       "  <thead>\n",
       "    <tr style=\"text-align: right;\">\n",
       "      <th></th>\n",
       "      <th>Nombre de fille</th>\n",
       "      <th>Nombre de presence</th>\n",
       "    </tr>\n",
       "  </thead>\n",
       "  <tbody>\n",
       "    <tr>\n",
       "      <th>0</th>\n",
       "      <td>0</td>\n",
       "      <td>0</td>\n",
       "    </tr>\n",
       "  </tbody>\n",
       "</table>\n",
       "</div>"
      ],
      "text/plain": [
       "   Nombre de fille  Nombre de presence\n",
       "0                0                   0"
      ]
     },
     "execution_count": 17,
     "metadata": {},
     "output_type": "execute_result"
    },
    {
     "name": "stdout",
     "output_type": "stream",
     "text": [
      "-----------------------------------------------------------------------\n"
     ]
    },
    {
     "data": {
      "text/html": [
       "<div>\n",
       "<style scoped>\n",
       "    .dataframe tbody tr th:only-of-type {\n",
       "        vertical-align: middle;\n",
       "    }\n",
       "\n",
       "    .dataframe tbody tr th {\n",
       "        vertical-align: top;\n",
       "    }\n",
       "\n",
       "    .dataframe thead th {\n",
       "        text-align: right;\n",
       "    }\n",
       "</style>\n",
       "<table border=\"1\" class=\"dataframe\">\n",
       "  <thead>\n",
       "    <tr style=\"text-align: right;\">\n",
       "      <th></th>\n",
       "      <th>Nombre de fille</th>\n",
       "      <th>Nombre de presence</th>\n",
       "    </tr>\n",
       "  </thead>\n",
       "  <tbody>\n",
       "    <tr>\n",
       "      <th>0</th>\n",
       "      <td>0</td>\n",
       "      <td>0</td>\n",
       "    </tr>\n",
       "  </tbody>\n",
       "</table>\n",
       "</div>"
      ],
      "text/plain": [
       "   Nombre de fille  Nombre de presence\n",
       "0                0                   0"
      ]
     },
     "execution_count": 17,
     "metadata": {},
     "output_type": "execute_result"
    },
    {
     "name": "stdout",
     "output_type": "stream",
     "text": [
      "-----------------------------------------------------------------------\n"
     ]
    },
    {
     "data": {
      "text/html": [
       "<div>\n",
       "<style scoped>\n",
       "    .dataframe tbody tr th:only-of-type {\n",
       "        vertical-align: middle;\n",
       "    }\n",
       "\n",
       "    .dataframe tbody tr th {\n",
       "        vertical-align: top;\n",
       "    }\n",
       "\n",
       "    .dataframe thead th {\n",
       "        text-align: right;\n",
       "    }\n",
       "</style>\n",
       "<table border=\"1\" class=\"dataframe\">\n",
       "  <thead>\n",
       "    <tr style=\"text-align: right;\">\n",
       "      <th></th>\n",
       "      <th>Nombre de fille/parent parenting</th>\n",
       "      <th>Nombre de presence</th>\n",
       "    </tr>\n",
       "  </thead>\n",
       "  <tbody>\n",
       "    <tr>\n",
       "      <th>0</th>\n",
       "      <td>0</td>\n",
       "      <td>0</td>\n",
       "    </tr>\n",
       "  </tbody>\n",
       "</table>\n",
       "</div>"
      ],
      "text/plain": [
       "   Nombre de fille/parent parenting  Nombre de presence\n",
       "0                                 0                   0"
      ]
     },
     "execution_count": 17,
     "metadata": {},
     "output_type": "execute_result"
    }
   ],
   "source": [
    "\n",
    "curriculum_result = DataFrame(\n",
    "    [\n",
    "        {'Nombre de fille': ben_byAgent.id_patient.count(),\n",
    "        'Nombre de presence': pres_byAgent.nombre_pres.sum()}\n",
    "    ]\n",
    ")\n",
    "curriculum_result\n",
    "\n",
    "print('-----------------------------------------------------------------------')\n",
    "\n",
    "curriculum_result_week = DataFrame(\n",
    "    [\n",
    "        {'Nombre de fille': ben_byAgent_week.id_patient.count(),\n",
    "        'Nombre de presence': pres_byAgent_week.nombre_pres.sum()}\n",
    "    ]\n",
    ")\n",
    "curriculum_result_week\n",
    "\n",
    "\n",
    "print('-----------------------------------------------------------------------')\n",
    "\n",
    "parenting_result = DataFrame(\n",
    "    [\n",
    "        {'Nombre de fille/parent parenting': parenting_byAgent.id_patient.count(),\n",
    "        'Nombre de presence': pres_parenting.nombre_pres.sum()}\n",
    "    ]\n",
    ")\n",
    "parenting_result"
   ]
  },
  {
   "cell_type": "markdown",
   "metadata": {},
   "source": [
    "# Report"
   ]
  },
  {
   "cell_type": "code",
   "execution_count": 18,
   "metadata": {},
   "outputs": [
    {
     "name": "stderr",
     "output_type": "stream",
     "text": [
      "/var/folders/7v/rs0k237d6nj3vdxfc1h7xtcw0000gn/T/ipykernel_38144/2495277387.py:8: FutureWarning: save is not part of the public API, usage can give unexpected results and will be removed in a future version\n",
      "  all_report.save()\n"
     ]
    }
   ],
   "source": [
    "all_report = ExcelWriter(f\"rapport_performance.xlsx\",engine=\"openpyxl\")\n",
    "curriculum_result.to_excel(all_report,sheet_name=\"resultat_curriculum\",index=False,na_rep=\"\")\n",
    "pres_byAgent.to_excel(all_report,sheet_name=\"presence_agent_curriculum\",index=False,na_rep=\"\")\n",
    "ben_table.to_excel(all_report,sheet_name=\"ben_communes_curriculum\",index=True,na_rep=\"\")\n",
    "parenting_result.to_excel(all_report,sheet_name=\"resultat_parenting\",index=False,na_rep=\"\")\n",
    "pres_parenting.to_excel(all_report,sheet_name=\"pres_agent_parenting\",index=False,na_rep=\"\")\n",
    "parenting_table.to_excel(all_report,sheet_name=\"ben_communes_parenting\",index=True,na_rep=\"\")\n",
    "all_report.save()"
   ]
  },
  {
   "cell_type": "code",
   "execution_count": 19,
   "metadata": {},
   "outputs": [
    {
     "name": "stderr",
     "output_type": "stream",
     "text": [
      "/var/folders/7v/rs0k237d6nj3vdxfc1h7xtcw0000gn/T/ipykernel_38144/3985802063.py:5: FutureWarning: save is not part of the public API, usage can give unexpected results and will be removed in a future version\n",
      "  week_report.save()\n"
     ]
    }
   ],
   "source": [
    "week_report = ExcelWriter(f\"rapport_pour_la_semaine.xlsx\",engine=\"openpyxl\")\n",
    "curriculum_result_week.to_excel(week_report,sheet_name=\"resultat_curriculum\",index=False,na_rep=\"\")\n",
    "pres_byAgent_week.to_excel(week_report,sheet_name=\"presence_agent_curriculum\",index=False,na_rep=\"\")\n",
    "ben_table_week.to_excel(week_report,sheet_name=\"ben_communes_curriculum\",index=True,na_rep=\"\")\n",
    "week_report.save()"
   ]
  }
 ],
 "metadata": {
  "interpreter": {
   "hash": "b460384b52104c1e5b9cf54bee46a255d22b2bef338f75ac4ad5d48196028d3c"
  },
  "kernelspec": {
   "display_name": "Python 3.10.4 64-bit",
   "language": "python",
   "name": "python3"
  },
  "language_info": {
   "codemirror_mode": {
    "name": "ipython",
    "version": 3
   },
   "file_extension": ".py",
   "mimetype": "text/x-python",
   "name": "python",
   "nbconvert_exporter": "python",
   "pygments_lexer": "ipython3",
   "version": "3.11.2"
  },
  "orig_nbformat": 4
 },
 "nbformat": 4,
 "nbformat_minor": 2
}
