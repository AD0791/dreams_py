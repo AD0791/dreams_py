{
  "cells": [
    {
      "cell_type": "code",
      "execution_count": 1,
      "metadata": {},
      "outputs": [],
      "source": [
        "from IPython.core.interactiveshell import InteractiveShell\n",
        "InteractiveShell.ast_node_interactivity = \"all\"\n",
        "import os\n",
        "from datetime import datetime\n",
        "#from datetime import date\n",
        "import pymysql\n",
        "from sqlalchemy import create_engine, text\n",
        "from decouple import config \n",
        "from dotenv import load_dotenv\n",
        "from pandas import (\n",
        "    read_sql_query, \n",
        "    DataFrame,\n",
        "    ExcelWriter,\n",
        "    options\n",
        ")\n",
        "from dataframe_image import export\n",
        "\n",
        "from enum import Enum\n",
        "import openpyxl\n",
        "import matplotlib.pyplot as plt\n",
        "import seaborn as sns\n",
        "%matplotlib inline\n"
      ]
    },
    {
      "cell_type": "code",
      "execution_count": 2,
      "metadata": {},
      "outputs": [],
      "source": [
        "class Period(Enum):\n",
        "    date = '2023-10-01'\n",
        "    week='2024-01-29'\n",
        "    date_du_jour = datetime.today().strftime(\"%d_%m_%Y\")\n"
      ]
    },
    {
      "cell_type": "code",
      "execution_count": 3,
      "metadata": {},
      "outputs": [
        {
          "data": {
            "text/plain": [
              "True"
            ]
          },
          "execution_count": 3,
          "metadata": {},
          "output_type": "execute_result"
        }
      ],
      "source": [
        "load_dotenv(\"../actual_caris_host.env\")\n",
        "# get the environment variables needed\n",
        "USER = config('USRCaris')\n",
        "PASSWORD = config('PASSCaris')\n",
        "HOSTNAME = config('HOSTCaris')\n",
        "DBNAME = config('DBCaris')\n",
        "\n",
        "# get the engine to connect and fetch\n",
        "engine = create_engine(\n",
        "    f\"mysql+pymysql://{USER}:{PASSWORD}@{HOSTNAME}/{DBNAME}\")\n",
        "\n"
      ]
    },
    {
      "cell_type": "code",
      "execution_count": 4,
      "metadata": {},
      "outputs": [],
      "source": [
        "query_presenceQty = f'''\n",
        "SELECT \n",
        "    a.*, COUNT(*) AS qte_pres_by_creator\n",
        "FROM\n",
        "    (SELECT \n",
        "            dgs.created_by,\n",
        "            au.email AS email,\n",
        "            au.username\n",
        "    FROM\n",
        "        caris_db.dream_group_session dgs\n",
        "    LEFT JOIN dream_group_attendance dga ON dgs.id = dga.id_group_session\n",
        "    LEFT JOIN dream_group dg ON dgs.id_group = dg.id\n",
        "    LEFT JOIN dream_hub dh ON dg.id_dream_hub = dh.id\n",
        "    LEFT JOIN lookup_commune lc ON lc.id = dh.commune\n",
        "    LEFT JOIN lookup_departement ld ON ld.id = lc.departement\n",
        "    LEFT JOIN auth_users au ON au.id = dgs.created_by\n",
        "    WHERE\n",
        "        dga.value = 'P'\n",
        "            AND dgs.created_at >= '{Period.date.value}') a\n",
        "GROUP BY a.created_by\n",
        "'''\n",
        "\n",
        "query_beneficiariesQty = f'''\n",
        "SELECT *, COUNT(*) AS qte_by_creator FROM\n",
        "    (SELECT\n",
        "        dgs.id AS id_session,\n",
        "            topic,\n",
        "            date,\n",
        "            dga.id_patient AS id_patient,\n",
        "            dgs.created_by,\n",
        "            lc.name AS commune,\n",
        "            ld.name AS departement,\n",
        "            dh.name AS hub,\n",
        "            au.email AS email,\n",
        "            au.username,\n",
        "            b.first_name,\n",
        "            b.last_name,\n",
        "            p.patient_code as dreams_code\n",
        "    FROM\n",
        "        caris_db.dream_group_session dgs\n",
        "    INNER JOIN dream_group_attendance dga ON dgs.id = dga.id_group_session\n",
        "        LEFT JOIN dream_group dg ON dgs.id_group = dg.id\n",
        "    LEFT JOIN dream_hub dh ON dg.id_dream_hub = dh.id\n",
        "    LEFT JOIN lookup_commune lc ON lc.id = dh.commune\n",
        "    LEFT JOIN lookup_departement ld ON ld.id = lc.departement\n",
        "    LEFT JOIN auth_users au ON au.id = dgs.created_by\n",
        "    left join beneficiary b on dga.id_patient=b.id_patient\n",
        "    left join patient p on p.id=dga.id_patient\n",
        "    WHERE\n",
        "        dga.value = 'P'\n",
        "            AND dgs.created_at >= '{Period.date.value}') a\n",
        "            group by a.id_patient, a.username\n",
        "'''\n"
      ]
    },
    {
      "cell_type": "code",
      "execution_count": 5,
      "metadata": {},
      "outputs": [],
      "source": [
        "query_presenceWeek = f'''\n",
        "SELECT \n",
        "    a.*, COUNT(*) AS qte_pres_by_creator\n",
        "FROM\n",
        "    (SELECT \n",
        "            dgs.created_by,\n",
        "            au.email AS email,\n",
        "            au.username\n",
        "    FROM\n",
        "        caris_db.dream_group_session dgs\n",
        "    LEFT JOIN dream_group_attendance dga ON dgs.id = dga.id_group_session\n",
        "    LEFT JOIN dream_group dg ON dgs.id_group = dg.id\n",
        "    LEFT JOIN dream_hub dh ON dg.id_dream_hub = dh.id\n",
        "    LEFT JOIN lookup_commune lc ON lc.id = dh.commune\n",
        "    LEFT JOIN lookup_departement ld ON ld.id = lc.departement\n",
        "    LEFT JOIN auth_users au ON au.id = dgs.created_by\n",
        "    WHERE\n",
        "        dga.value = 'P'\n",
        "            AND dgs.created_at >= '{Period.week.value}') a\n",
        "GROUP BY a.created_by\n",
        "'''\n",
        "\n",
        "query_beneficiariesWeek = f'''\n",
        "SELECT *, COUNT(*) AS qte_by_creator FROM\n",
        "    (SELECT\n",
        "        dgs.id AS id_session,\n",
        "            topic,\n",
        "            date,\n",
        "            dga.id_patient AS id_patient,\n",
        "            dgs.created_by,\n",
        "            lc.name AS commune,\n",
        "            ld.name AS departement,\n",
        "            dh.name AS hub,\n",
        "            au.email AS email,\n",
        "            au.username,\n",
        "            b.first_name,\n",
        "            b.last_name,\n",
        "            p.patient_code as dreams_code\n",
        "    FROM\n",
        "        caris_db.dream_group_session dgs\n",
        "    INNER JOIN dream_group_attendance dga ON dgs.id = dga.id_group_session\n",
        "        LEFT JOIN dream_group dg ON dgs.id_group = dg.id\n",
        "    LEFT JOIN dream_hub dh ON dg.id_dream_hub = dh.id\n",
        "    LEFT JOIN lookup_commune lc ON lc.id = dh.commune\n",
        "    LEFT JOIN lookup_departement ld ON ld.id = lc.departement\n",
        "    LEFT JOIN auth_users au ON au.id = dgs.created_by\n",
        "    left join beneficiary b on dga.id_patient=b.id_patient\n",
        "    left join patient p on p.id=dga.id_patient\n",
        "    WHERE\n",
        "        dga.value = 'P'\n",
        "            AND dgs.created_at >= '{Period.week.value}') a\n",
        "            group by a.id_patient, a.username\n",
        "'''\n"
      ]
    },
    {
      "cell_type": "code",
      "execution_count": 6,
      "metadata": {},
      "outputs": [],
      "source": [
        "query_parentingBene = f'''\n",
        "SELECT \n",
        "    *, COUNT(*) AS qte_by_creator\n",
        "FROM\n",
        "    (SELECT \n",
        "        dpgs.id_group AS id_session,\n",
        "            topic,\n",
        "            date,\n",
        "            dpga.id_patient AS id_patient,\n",
        "            dpgs.created_by,\n",
        "            lc.name AS commune,\n",
        "            ld.name AS departement,\n",
        "            dh.name AS hub,\n",
        "            au.email AS email,\n",
        "            au.username,\n",
        "            b.first_name,\n",
        "            b.last_name,\n",
        "            p.patient_code AS dreams_code\n",
        "    FROM\n",
        "        caris_db.dream_parenting_group_session dpgs\n",
        "    LEFT JOIN dream_parenting_group_attendance dpga ON dpgs.id = dpga.id_parenting_group_session\n",
        "    LEFT JOIN dream_group dg ON dpgs.id_group = dg.id\n",
        "    LEFT JOIN dream_hub dh ON dg.id_dream_hub = dh.id\n",
        "    LEFT JOIN lookup_commune lc ON lc.id = dh.commune\n",
        "    LEFT JOIN lookup_departement ld ON ld.id = lc.departement\n",
        "    LEFT JOIN auth_users au ON au.id = dpgs.created_by\n",
        "    LEFT JOIN beneficiary b ON dpga.id_patient = b.id_patient\n",
        "    LEFT JOIN patient p ON p.id = dpga.id_patient\n",
        "    WHERE\n",
        "        ((dpga.parent_g = 'P')\n",
        "            OR (dpga.parent_vd = 'P')\n",
        "            OR (dpga.yg_g = 'P')\n",
        "            OR (dpga.yg_vd = 'P'))\n",
        "            AND (dpgs.date >= '{Period.date.value}')) a\n",
        "GROUP BY a.id_patient , a.username\n",
        "'''\n",
        "\n",
        "query_parentingQty = f'''\n",
        "SELECT \n",
        "    a.*, COUNT(*) AS qte_by_creator\n",
        "FROM\n",
        "    (SELECT \n",
        "        dpgs.created_by, au.email AS email, au.username\n",
        "    FROM\n",
        "        caris_db.dream_parenting_group_session dpgs\n",
        "    LEFT JOIN dream_parenting_group_attendance dpga ON dpgs.id = dpga.id_parenting_group_session\n",
        "    LEFT JOIN dream_group dg ON dpgs.id_group = dg.id\n",
        "    LEFT JOIN dream_hub dh ON dg.id_dream_hub = dh.id\n",
        "    LEFT JOIN lookup_commune lc ON lc.id = dh.commune\n",
        "    LEFT JOIN lookup_departement ld ON ld.id = lc.departement\n",
        "    LEFT JOIN auth_users au ON au.id = dpgs.created_by\n",
        "    WHERE ((dpga.parent_g = 'P') OR (dpga.parent_vd= 'P') OR (dpga.yg_g='P') OR (dpga.yg_vd='P') )\n",
        "            AND (dpgs.date >= '{Period.date.value}') ) a\n",
        "GROUP BY a.created_by\n",
        "'''\n",
        "\n",
        "\n",
        "\n",
        "\n"
      ]
    },
    {
      "cell_type": "code",
      "execution_count": 7,
      "metadata": {},
      "outputs": [],
      "source": [
        "pres_byAgent= read_sql_query(text(query_presenceQty), engine.connect(), parse_dates=True)\n",
        "ben_byAgent = read_sql_query(text(query_beneficiariesQty), engine.connect(), parse_dates=True)\n",
        "\n",
        "pres_byAgent_week= read_sql_query(text(query_presenceWeek), engine.connect(), parse_dates=True)\n",
        "ben_byAgent_week = read_sql_query(text(query_beneficiariesWeek), engine.connect(), parse_dates=True)\n",
        "\n",
        "pres_parenting= read_sql_query(text(query_parentingQty), engine.connect(), parse_dates=True)\n",
        "parenting_byAgent = read_sql_query(text(query_parentingBene), engine.connect(), parse_dates=True)\n",
        "\n",
        "\n",
        "# close the pool of connection\n",
        "engine.dispose()\n"
      ]
    },
    {
      "cell_type": "code",
      "execution_count": 8,
      "metadata": {},
      "outputs": [],
      "source": [
        "pres_byAgent.rename(columns={'qte_pres_by_creator':'nombre_pres'},inplace=True)\n",
        "ben_byAgent.rename(columns={'qte_by_creator':'nombre_pres'},inplace=True)\n",
        "\n",
        "pres_byAgent_week.rename(columns={'qte_pres_by_creator':'nombre_pres'},inplace=True)\n",
        "ben_byAgent_week.rename(columns={'qte_by_creator':'nombre_pres'},inplace=True)\n",
        "\n",
        "pres_parenting.rename(columns={'qte_by_creator':'nombre_pres'},inplace=True)\n",
        "parenting_byAgent.rename(columns={'qte_by_creator':'nombre_pres'},inplace=True)\n"
      ]
    },
    {
      "cell_type": "code",
      "execution_count": 9,
      "metadata": {},
      "outputs": [],
      "source": [
        "pres_byAgent.fillna(\"noID\",inplace=True)\n",
        "ben_byAgent.fillna(\"noID\",inplace=True)\n"
      ]
    },
    {
      "cell_type": "code",
      "execution_count": 10,
      "metadata": {},
      "outputs": [
        {
          "name": "stdout",
          "output_type": "stream",
          "text": [
            "Nombre de presence totale pour la semaine:  6796\n",
            "Nombre de presence totale pour la semaine:  6796\n",
            "Nombre de filles pour la semaine:  332\n",
            "-------------\n",
            "Nombre de presence totale:  42215\n",
            "Nombre de presence totale:  42215\n",
            "Nombre de filles:  2066\n",
            "-----------\n",
            "Nombre de presence totale parenting:  0\n",
            "Nombre de presence totale parenting:  0\n",
            "Nombre de filles:  0\n"
          ]
        }
      ],
      "source": [
        "print('Nombre de presence totale pour la semaine: ',pres_byAgent_week.nombre_pres.sum())\n",
        "print('Nombre de presence totale pour la semaine: ',ben_byAgent_week.nombre_pres.sum())\n",
        "print('Nombre de filles pour la semaine: ',ben_byAgent_week.id_patient.count())\n",
        "print('-------------')\n",
        "print('Nombre de presence totale: ',pres_byAgent.nombre_pres.sum())\n",
        "print('Nombre de presence totale: ',ben_byAgent.nombre_pres.sum())\n",
        "print('Nombre de filles: ',ben_byAgent.id_patient.count())\n",
        "print('-----------')\n",
        "print('Nombre de presence totale parenting: ',pres_parenting.nombre_pres.sum())\n",
        "print('Nombre de presence totale parenting: ',parenting_byAgent.nombre_pres.sum())\n",
        "print('Nombre de filles: ',parenting_byAgent.id_patient.count())\n"
      ]
    },
    {
      "cell_type": "markdown",
      "metadata": {},
      "source": [
        "# First Component"
      ]
    },
    {
      "cell_type": "code",
      "execution_count": 11,
      "metadata": {},
      "outputs": [
        {
          "data": {
            "text/html": [
              "<style type=\"text/css\">\n",
              "#T_49689_row2_col2 {\n",
              "  background-color: yellow;\n",
              "}\n",
              "</style>\n",
              "<table id=\"T_49689\">\n",
              "  <thead>\n",
              "    <tr>\n",
              "      <th class=\"blank level0\" >&nbsp;</th>\n",
              "      <th id=\"T_49689_level0_col0\" class=\"col_heading level0 col0\" >username</th>\n",
              "      <th id=\"T_49689_level0_col1\" class=\"col_heading level0 col1\" >email</th>\n",
              "      <th id=\"T_49689_level0_col2\" class=\"col_heading level0 col2\" >nombre_pres</th>\n",
              "    </tr>\n",
              "  </thead>\n",
              "  <tbody>\n",
              "    <tr>\n",
              "      <th id=\"T_49689_level0_row0\" class=\"row_heading level0 row0\" >0</th>\n",
              "      <td id=\"T_49689_row0_col0\" class=\"data row0 col0\" >France14</td>\n",
              "      <td id=\"T_49689_row0_col1\" class=\"data row0 col1\" >francenelstjean.saed@yahoo.com</td>\n",
              "      <td id=\"T_49689_row0_col2\" class=\"data row0 col2\" >3935</td>\n",
              "    </tr>\n",
              "    <tr>\n",
              "      <th id=\"T_49689_level0_row1\" class=\"row_heading level0 row1\" >1</th>\n",
              "      <td id=\"T_49689_row1_col0\" class=\"data row1 col0\" >fbyron</td>\n",
              "      <td id=\"T_49689_row1_col1\" class=\"data row1 col1\" >byronfabrice9@gmail.com</td>\n",
              "      <td id=\"T_49689_row1_col2\" class=\"data row1 col2\" >10398</td>\n",
              "    </tr>\n",
              "    <tr>\n",
              "      <th id=\"T_49689_level0_row2\" class=\"row_heading level0 row2\" >2</th>\n",
              "      <td id=\"T_49689_row2_col0\" class=\"data row2 col0\" >billyjolicoeur</td>\n",
              "      <td id=\"T_49689_row2_col1\" class=\"data row2 col1\" >billyjolicoeur95@gmail.com</td>\n",
              "      <td id=\"T_49689_row2_col2\" class=\"data row2 col2\" >22441</td>\n",
              "    </tr>\n",
              "    <tr>\n",
              "      <th id=\"T_49689_level0_row3\" class=\"row_heading level0 row3\" >3</th>\n",
              "      <td id=\"T_49689_row3_col0\" class=\"data row3 col0\" >FredlyEliona</td>\n",
              "      <td id=\"T_49689_row3_col1\" class=\"data row3 col1\" >elionafredly7@gmail.com</td>\n",
              "      <td id=\"T_49689_row3_col2\" class=\"data row3 col2\" >4029</td>\n",
              "    </tr>\n",
              "    <tr>\n",
              "      <th id=\"T_49689_level0_row4\" class=\"row_heading level0 row4\" >4</th>\n",
              "      <td id=\"T_49689_row4_col0\" class=\"data row4 col0\" >pggd1234</td>\n",
              "      <td id=\"T_49689_row4_col1\" class=\"data row4 col1\" >gerald.poteau@carisfoundationintl.org</td>\n",
              "      <td id=\"T_49689_row4_col2\" class=\"data row4 col2\" >335</td>\n",
              "    </tr>\n",
              "    <tr>\n",
              "      <th id=\"T_49689_level0_row5\" class=\"row_heading level0 row5\" >5</th>\n",
              "      <td id=\"T_49689_row5_col0\" class=\"data row5 col0\" >Armando</td>\n",
              "      <td id=\"T_49689_row5_col1\" class=\"data row5 col1\" >diegoarmando.dorlean@carisfoundationintl.org</td>\n",
              "      <td id=\"T_49689_row5_col2\" class=\"data row5 col2\" >733</td>\n",
              "    </tr>\n",
              "    <tr>\n",
              "      <th id=\"T_49689_level0_row6\" class=\"row_heading level0 row6\" >6</th>\n",
              "      <td id=\"T_49689_row6_col0\" class=\"data row6 col0\" >Ernstbelabre</td>\n",
              "      <td id=\"T_49689_row6_col1\" class=\"data row6 col1\" >ernst.belabre@carisfoundationintl.org</td>\n",
              "      <td id=\"T_49689_row6_col2\" class=\"data row6 col2\" >293</td>\n",
              "    </tr>\n",
              "    <tr>\n",
              "      <th id=\"T_49689_level0_row7\" class=\"row_heading level0 row7\" >7</th>\n",
              "      <td id=\"T_49689_row7_col0\" class=\"data row7 col0\" >despeignes</td>\n",
              "      <td id=\"T_49689_row7_col1\" class=\"data row7 col1\" >roselord.despeignes@carisfoundationintl.org</td>\n",
              "      <td id=\"T_49689_row7_col2\" class=\"data row7 col2\" >51</td>\n",
              "    </tr>\n",
              "  </tbody>\n",
              "</table>\n"
            ],
            "text/plain": [
              "<pandas.io.formats.style.Styler at 0x12a518110>"
            ]
          },
          "execution_count": 11,
          "metadata": {},
          "output_type": "execute_result"
        },
        {
          "name": "stdout",
          "output_type": "stream",
          "text": [
            "---------------------------------------------------------------------------------------------\n"
          ]
        },
        {
          "data": {
            "text/html": [
              "<style type=\"text/css\">\n",
              "#T_a663f_row0_col2 {\n",
              "  background-color: yellow;\n",
              "}\n",
              "</style>\n",
              "<table id=\"T_a663f\">\n",
              "  <thead>\n",
              "    <tr>\n",
              "      <th class=\"blank level0\" >&nbsp;</th>\n",
              "      <th id=\"T_a663f_level0_col0\" class=\"col_heading level0 col0\" >username</th>\n",
              "      <th id=\"T_a663f_level0_col1\" class=\"col_heading level0 col1\" >email</th>\n",
              "      <th id=\"T_a663f_level0_col2\" class=\"col_heading level0 col2\" >nombre_pres</th>\n",
              "    </tr>\n",
              "  </thead>\n",
              "  <tbody>\n",
              "    <tr>\n",
              "      <th id=\"T_a663f_level0_row0\" class=\"row_heading level0 row0\" >0</th>\n",
              "      <td id=\"T_a663f_row0_col0\" class=\"data row0 col0\" >billyjolicoeur</td>\n",
              "      <td id=\"T_a663f_row0_col1\" class=\"data row0 col1\" >billyjolicoeur95@gmail.com</td>\n",
              "      <td id=\"T_a663f_row0_col2\" class=\"data row0 col2\" >5230</td>\n",
              "    </tr>\n",
              "    <tr>\n",
              "      <th id=\"T_a663f_level0_row1\" class=\"row_heading level0 row1\" >1</th>\n",
              "      <td id=\"T_a663f_row1_col0\" class=\"data row1 col0\" >fbyron</td>\n",
              "      <td id=\"T_a663f_row1_col1\" class=\"data row1 col1\" >byronfabrice9@gmail.com</td>\n",
              "      <td id=\"T_a663f_row1_col2\" class=\"data row1 col2\" >1566</td>\n",
              "    </tr>\n",
              "  </tbody>\n",
              "</table>\n"
            ],
            "text/plain": [
              "<pandas.io.formats.style.Styler at 0x125201e10>"
            ]
          },
          "execution_count": 11,
          "metadata": {},
          "output_type": "execute_result"
        },
        {
          "name": "stdout",
          "output_type": "stream",
          "text": [
            "---------------------------------------------------------------------------------------------\n"
          ]
        },
        {
          "data": {
            "text/html": [
              "<div>\n",
              "<style scoped>\n",
              "    .dataframe tbody tr th:only-of-type {\n",
              "        vertical-align: middle;\n",
              "    }\n",
              "\n",
              "    .dataframe tbody tr th {\n",
              "        vertical-align: top;\n",
              "    }\n",
              "\n",
              "    .dataframe thead th {\n",
              "        text-align: right;\n",
              "    }\n",
              "</style>\n",
              "<table border=\"1\" class=\"dataframe\">\n",
              "  <thead>\n",
              "    <tr style=\"text-align: right;\">\n",
              "      <th></th>\n",
              "      <th>username</th>\n",
              "      <th>email</th>\n",
              "      <th>nombre_pres</th>\n",
              "    </tr>\n",
              "  </thead>\n",
              "  <tbody>\n",
              "  </tbody>\n",
              "</table>\n",
              "</div>"
            ],
            "text/plain": [
              "Empty DataFrame\n",
              "Columns: [username, email, nombre_pres]\n",
              "Index: []"
            ]
          },
          "execution_count": 11,
          "metadata": {},
          "output_type": "execute_result"
        }
      ],
      "source": [
        "pres_byAgent = pres_byAgent[['username','email','nombre_pres']]\n",
        "if pres_byAgent.empty:\n",
        "    pres_byAgent\n",
        "else:\n",
        "    pres_byAgent.style.highlight_max(subset=['nombre_pres'])\n",
        "    \n",
        "print('---------------------------------------------------------------------------------------------')\n",
        "\n",
        "pres_byAgent_week = pres_byAgent_week[['username','email','nombre_pres']]\n",
        "if pres_byAgent_week.empty:\n",
        "    pres_byAgent_week\n",
        "else:\n",
        "    pres_byAgent_week.style.highlight_max(subset=['nombre_pres'])\n",
        "\n",
        "\n",
        "\n",
        "print('---------------------------------------------------------------------------------------------')\n",
        "\n",
        "pres_parenting = pres_parenting[['username','email','nombre_pres']]\n",
        "if pres_parenting.empty:\n",
        "    pres_parenting\n",
        "else:\n",
        "    pres_parenting.style.highlight_max(subset=['nombre_pres'])   \n",
        "\n",
        "\n",
        "#ordered_pres_byAgent = pres_byAgent.nombre_pres.sort_values().to_list()\n",
        "#ordered_pres_parenting = pres_parenting.nombre_pres.sort_values().to_list()\n"
      ]
    },
    {
      "cell_type": "markdown",
      "metadata": {},
      "source": [
        "# Graphe Component I"
      ]
    },
    {
      "cell_type": "code",
      "execution_count": 12,
      "metadata": {},
      "outputs": [
        {
          "data": {
            "text/plain": [
              "<Figure size 1600x800 with 0 Axes>"
            ]
          },
          "execution_count": 12,
          "metadata": {},
          "output_type": "execute_result"
        },
        {
          "name": "stderr",
          "output_type": "stream",
          "text": [
            "/var/folders/7v/rs0k237d6nj3vdxfc1h7xtcw0000gn/T/ipykernel_64341/234194627.py:5: FutureWarning: \n",
            "\n",
            "The `ci` parameter is deprecated. Use `errorbar=('ci', False)` for the same effect.\n",
            "\n",
            "  splot = sns.barplot(x=\"nombre_pres\",y=\"username\",data=pres_byAgent,color=\"Green\",order=pres_byAgent.sort_values(\"nombre_pres\",ascending=False).username,ci=False)\n"
          ]
        },
        {
          "data": {
            "text/plain": [
              "Text(0.5, 0, '')"
            ]
          },
          "execution_count": 12,
          "metadata": {},
          "output_type": "execute_result"
        },
        {
          "data": {
            "text/plain": [
              "Text(0, 0.5, '')"
            ]
          },
          "execution_count": 12,
          "metadata": {},
          "output_type": "execute_result"
        },
        {
          "data": {
            "text/plain": [
              "Text(0.5, 0.98, 'Nombre de presence Currriculum par agents depuis le 2023-10-01')"
            ]
          },
          "execution_count": 12,
          "metadata": {},
          "output_type": "execute_result"
        },
        {
          "data": {
            "text/plain": [
              "Text(22441.25, 0.0, '22441')"
            ]
          },
          "execution_count": 12,
          "metadata": {},
          "output_type": "execute_result"
        },
        {
          "data": {
            "text/plain": [
              "Text(10398.25, 1.0, '10398')"
            ]
          },
          "execution_count": 12,
          "metadata": {},
          "output_type": "execute_result"
        },
        {
          "data": {
            "text/plain": [
              "Text(4029.25, 2.0, '4029')"
            ]
          },
          "execution_count": 12,
          "metadata": {},
          "output_type": "execute_result"
        },
        {
          "data": {
            "text/plain": [
              "Text(3935.25, 3.0, '3935')"
            ]
          },
          "execution_count": 12,
          "metadata": {},
          "output_type": "execute_result"
        },
        {
          "data": {
            "text/plain": [
              "Text(733.25, 4.0, '733')"
            ]
          },
          "execution_count": 12,
          "metadata": {},
          "output_type": "execute_result"
        },
        {
          "data": {
            "text/plain": [
              "Text(335.25, 5.0, '335')"
            ]
          },
          "execution_count": 12,
          "metadata": {},
          "output_type": "execute_result"
        },
        {
          "data": {
            "text/plain": [
              "Text(293.25, 6.0, '293')"
            ]
          },
          "execution_count": 12,
          "metadata": {},
          "output_type": "execute_result"
        },
        {
          "data": {
            "text/plain": [
              "Text(51.25, 7.0, '51')"
            ]
          },
          "execution_count": 12,
          "metadata": {},
          "output_type": "execute_result"
        },
        {
          "data": {
            "text/plain": [
              "Text(-80, -20, 'source: HIVHaiti')"
            ]
          },
          "execution_count": 12,
          "metadata": {},
          "output_type": "execute_result"
        },
        {
          "data": {
            "image/png": "[encoded data removed]",
            "text/plain": [
              "<Figure size 1600x800 with 1 Axes>"
            ]
          },
          "metadata": {},
          "output_type": "display_data"
        }
      ],
      "source": [
        "try:\n",
        "    plt.figure(figsize=(16,8))\n",
        "    #plt.subplots(figsize=(16,8))\n",
        "    sns.set_style(\"darkgrid\")\n",
        "    splot = sns.barplot(x=\"nombre_pres\",y=\"username\",data=pres_byAgent,color=\"Green\",order=pres_byAgent.sort_values(\"nombre_pres\",ascending=False).username,ci=False)\n",
        "    splot.set_xlabel(\"\")\n",
        "    splot.set_ylabel(\"\")\n",
        "    plt.suptitle(f\"Nombre de presence Currriculum par agents depuis le {Period.date.value}\")\n",
        "    for p in splot.patches:\n",
        "        width = p.get_width()\n",
        "        plt.text(0.25+p.get_width(), p.get_y()+0.50*p.get_height(),\n",
        "                '{:1.0f}'.format(width),fontdict=dict(color=\"red\",fontsize=12))\n",
        "\n",
        "    plt.annotate(\n",
        "        \"source: HIVHaiti\",(0,0), (-80,-20), fontsize=10, \n",
        "                xycoords='axes fraction', textcoords='offset points', va='top'\n",
        "    )\n",
        "except ValueError:\n",
        "    print(f\"no activities where registered\")\n"
      ]
    },
    {
      "cell_type": "code",
      "execution_count": 13,
      "metadata": {},
      "outputs": [
        {
          "data": {
            "text/plain": [
              "<Figure size 1600x800 with 0 Axes>"
            ]
          },
          "execution_count": 13,
          "metadata": {},
          "output_type": "execute_result"
        },
        {
          "name": "stderr",
          "output_type": "stream",
          "text": [
            "/var/folders/7v/rs0k237d6nj3vdxfc1h7xtcw0000gn/T/ipykernel_64341/1676519049.py:5: FutureWarning: \n",
            "\n",
            "The `ci` parameter is deprecated. Use `errorbar=('ci', False)` for the same effect.\n",
            "\n",
            "  splot = sns.barplot(x=\"nombre_pres\",y=\"username\",data=pres_byAgent_week,color=\"Blue\",order=pres_byAgent_week.sort_values(\"nombre_pres\",ascending=False).username,ci=False)\n"
          ]
        },
        {
          "data": {
            "text/plain": [
              "Text(0.5, 0, '')"
            ]
          },
          "execution_count": 13,
          "metadata": {},
          "output_type": "execute_result"
        },
        {
          "data": {
            "text/plain": [
              "Text(0, 0.5, '')"
            ]
          },
          "execution_count": 13,
          "metadata": {},
          "output_type": "execute_result"
        },
        {
          "data": {
            "text/plain": [
              "Text(0.5, 0.98, 'Nombre de presence Currriculum par agents pour la semaine du 2024-01-29')"
            ]
          },
          "execution_count": 13,
          "metadata": {},
          "output_type": "execute_result"
        },
        {
          "data": {
            "text/plain": [
              "Text(5230.25, 0.0, '5230')"
            ]
          },
          "execution_count": 13,
          "metadata": {},
          "output_type": "execute_result"
        },
        {
          "data": {
            "text/plain": [
              "Text(1566.25, 1.0, '1566')"
            ]
          },
          "execution_count": 13,
          "metadata": {},
          "output_type": "execute_result"
        },
        {
          "data": {
            "text/plain": [
              "Text(-80, -20, 'source: HIVHaiti')"
            ]
          },
          "execution_count": 13,
          "metadata": {},
          "output_type": "execute_result"
        },
        {
          "data": {
            "image/png": "[encoded data removed]",
            "text/plain": [
              "<Figure size 1600x800 with 1 Axes>"
            ]
          },
          "metadata": {},
          "output_type": "display_data"
        }
      ],
      "source": [
        "try:\n",
        "    plt.figure(figsize=(16,8))\n",
        "    #plt.subplots(figsize=(16,8))\n",
        "    sns.set_style(\"darkgrid\")\n",
        "    splot = sns.barplot(x=\"nombre_pres\",y=\"username\",data=pres_byAgent_week,color=\"Blue\",order=pres_byAgent_week.sort_values(\"nombre_pres\",ascending=False).username,ci=False)\n",
        "    splot.set_xlabel(\"\")\n",
        "    splot.set_ylabel(\"\")\n",
        "    plt.suptitle(f\"Nombre de presence Currriculum par agents pour la semaine du {Period.week.value}\")\n",
        "    for p in splot.patches:\n",
        "        width = p.get_width()\n",
        "        plt.text(0.25+p.get_width(), p.get_y()+0.50*p.get_height(),\n",
        "                '{:1.0f}'.format(width),fontdict=dict(color=\"red\",fontsize=12))\n",
        "\n",
        "    plt.annotate(\n",
        "        \"source: HIVHaiti\",(0,0), (-80,-20), fontsize=10,\n",
        "                xycoords='axes fraction', textcoords='offset points', va='top'\n",
        "    )\n",
        "except ValueError:\n",
        "    print(f\"no activities where registered pour cette semaine {Period.week.value}\")\n"
      ]
    },
    {
      "cell_type": "code",
      "execution_count": 14,
      "metadata": {},
      "outputs": [
        {
          "data": {
            "text/plain": [
              "<Figure size 1600x800 with 0 Axes>"
            ]
          },
          "execution_count": 14,
          "metadata": {},
          "output_type": "execute_result"
        },
        {
          "name": "stdout",
          "output_type": "stream",
          "text": [
            "no activities where registered\n"
          ]
        },
        {
          "name": "stderr",
          "output_type": "stream",
          "text": [
            "/var/folders/7v/rs0k237d6nj3vdxfc1h7xtcw0000gn/T/ipykernel_64341/318641596.py:5: FutureWarning: \n",
            "\n",
            "The `ci` parameter is deprecated. Use `errorbar=('ci', False)` for the same effect.\n",
            "\n",
            "  splot = sns.barplot(x=\"nombre_pres\",y=\"username\",data=pres_parenting,color=\"Green\",order=pres_parenting.sort_values(\"nombre_pres\",ascending=False).username,ci=False)\n"
          ]
        },
        {
          "data": {
            "text/plain": [
              "<Figure size 1600x800 with 0 Axes>"
            ]
          },
          "metadata": {},
          "output_type": "display_data"
        }
      ],
      "source": [
        "try:\n",
        "    plt.figure(figsize=(16,8))\n",
        "    #plt.subplots(figsize=(16,8))\n",
        "    sns.set_style(\"darkgrid\")\n",
        "    splot = sns.barplot(x=\"nombre_pres\",y=\"username\",data=pres_parenting,color=\"Green\",order=pres_parenting.sort_values(\"nombre_pres\",ascending=False).username,ci=False)\n",
        "    splot.set_xlabel(\"\")\n",
        "    splot.set_ylabel(\"\")\n",
        "    plt.suptitle(f\"Nombre de presence parenting par agents depuis le {Period.date.value}\")\n",
        "    for p in splot.patches:\n",
        "        width = p.get_width()\n",
        "        plt.text(0.25+p.get_width(), p.get_y()+0.50*p.get_height(),\n",
        "                '{:1.0f}'.format(width),fontdict=dict(color=\"red\",fontsize=12))\n",
        "    plt.annotate(\n",
        "        \"source: HIVHaiti\",(0,0), (-80,-20), fontsize=10, \n",
        "                xycoords='axes fraction', textcoords='offset points', va='top'\n",
        "    )\n",
        "except ValueError:\n",
        "    print(f\"no activities where registered\")\n"
      ]
    },
    {
      "cell_type": "markdown",
      "metadata": {},
      "source": [
        "# Validation of the pivot table"
      ]
    },
    {
      "cell_type": "code",
      "execution_count": 15,
      "metadata": {},
      "outputs": [],
      "source": [
        "def validation_pivot(pt):\n",
        "    if not pt.empty:\n",
        "        pt = pt.pivot_table(values='id_patient',index='username',columns='commune',aggfunc='count',fill_value=0,margins=True, margins_name='Total')\n",
        "    if pt.empty:\n",
        "        pt =  DataFrame({\"resultats\":[\"No data entry\"]})\n",
        "    return pt\n"
      ]
    },
    {
      "cell_type": "markdown",
      "metadata": {},
      "source": [
        "# Component 2"
      ]
    },
    {
      "cell_type": "code",
      "execution_count": 16,
      "metadata": {},
      "outputs": [
        {
          "data": {
            "text/html": [
              "<div>\n",
              "<style scoped>\n",
              "    .dataframe tbody tr th:only-of-type {\n",
              "        vertical-align: middle;\n",
              "    }\n",
              "\n",
              "    .dataframe tbody tr th {\n",
              "        vertical-align: top;\n",
              "    }\n",
              "\n",
              "    .dataframe thead th {\n",
              "        text-align: right;\n",
              "    }\n",
              "</style>\n",
              "<table border=\"1\" class=\"dataframe\">\n",
              "  <thead>\n",
              "    <tr style=\"text-align: right;\">\n",
              "      <th>commune</th>\n",
              "      <th>Camp Perrin</th>\n",
              "      <th>Cap Haitien</th>\n",
              "      <th>Carrefour</th>\n",
              "      <th>Delmas</th>\n",
              "      <th>Desdunes</th>\n",
              "      <th>Dessalines/Marchandes</th>\n",
              "      <th>Grande Saline</th>\n",
              "      <th>Gressier</th>\n",
              "      <th>Kenscoff</th>\n",
              "      <th>Limonade</th>\n",
              "      <th>Petion-Ville</th>\n",
              "      <th>Petite Riviere de l'Art</th>\n",
              "      <th>Plaine du Nord</th>\n",
              "      <th>Port-au-Prince</th>\n",
              "      <th>Saint-Marc</th>\n",
              "      <th>Tabarre</th>\n",
              "      <th>Verrettes</th>\n",
              "      <th>Total</th>\n",
              "    </tr>\n",
              "    <tr>\n",
              "      <th>username</th>\n",
              "      <th></th>\n",
              "      <th></th>\n",
              "      <th></th>\n",
              "      <th></th>\n",
              "      <th></th>\n",
              "      <th></th>\n",
              "      <th></th>\n",
              "      <th></th>\n",
              "      <th></th>\n",
              "      <th></th>\n",
              "      <th></th>\n",
              "      <th></th>\n",
              "      <th></th>\n",
              "      <th></th>\n",
              "      <th></th>\n",
              "      <th></th>\n",
              "      <th></th>\n",
              "      <th></th>\n",
              "    </tr>\n",
              "  </thead>\n",
              "  <tbody>\n",
              "    <tr>\n",
              "      <th>Armando</th>\n",
              "      <td>0</td>\n",
              "      <td>27</td>\n",
              "      <td>0</td>\n",
              "      <td>0</td>\n",
              "      <td>0</td>\n",
              "      <td>0</td>\n",
              "      <td>0</td>\n",
              "      <td>0</td>\n",
              "      <td>0</td>\n",
              "      <td>0</td>\n",
              "      <td>0</td>\n",
              "      <td>0</td>\n",
              "      <td>0</td>\n",
              "      <td>0</td>\n",
              "      <td>0</td>\n",
              "      <td>0</td>\n",
              "      <td>0</td>\n",
              "      <td>27</td>\n",
              "    </tr>\n",
              "    <tr>\n",
              "      <th>Ernstbelabre</th>\n",
              "      <td>0</td>\n",
              "      <td>0</td>\n",
              "      <td>0</td>\n",
              "      <td>0</td>\n",
              "      <td>0</td>\n",
              "      <td>0</td>\n",
              "      <td>13</td>\n",
              "      <td>0</td>\n",
              "      <td>0</td>\n",
              "      <td>0</td>\n",
              "      <td>0</td>\n",
              "      <td>11</td>\n",
              "      <td>0</td>\n",
              "      <td>0</td>\n",
              "      <td>0</td>\n",
              "      <td>0</td>\n",
              "      <td>0</td>\n",
              "      <td>24</td>\n",
              "    </tr>\n",
              "    <tr>\n",
              "      <th>France14</th>\n",
              "      <td>0</td>\n",
              "      <td>0</td>\n",
              "      <td>0</td>\n",
              "      <td>0</td>\n",
              "      <td>0</td>\n",
              "      <td>91</td>\n",
              "      <td>67</td>\n",
              "      <td>0</td>\n",
              "      <td>0</td>\n",
              "      <td>0</td>\n",
              "      <td>0</td>\n",
              "      <td>31</td>\n",
              "      <td>0</td>\n",
              "      <td>0</td>\n",
              "      <td>0</td>\n",
              "      <td>0</td>\n",
              "      <td>0</td>\n",
              "      <td>189</td>\n",
              "    </tr>\n",
              "    <tr>\n",
              "      <th>FredlyEliona</th>\n",
              "      <td>0</td>\n",
              "      <td>0</td>\n",
              "      <td>0</td>\n",
              "      <td>47</td>\n",
              "      <td>0</td>\n",
              "      <td>0</td>\n",
              "      <td>0</td>\n",
              "      <td>0</td>\n",
              "      <td>0</td>\n",
              "      <td>0</td>\n",
              "      <td>0</td>\n",
              "      <td>0</td>\n",
              "      <td>0</td>\n",
              "      <td>0</td>\n",
              "      <td>43</td>\n",
              "      <td>93</td>\n",
              "      <td>0</td>\n",
              "      <td>183</td>\n",
              "    </tr>\n",
              "    <tr>\n",
              "      <th>billyjolicoeur</th>\n",
              "      <td>101</td>\n",
              "      <td>0</td>\n",
              "      <td>297</td>\n",
              "      <td>23</td>\n",
              "      <td>0</td>\n",
              "      <td>0</td>\n",
              "      <td>0</td>\n",
              "      <td>98</td>\n",
              "      <td>147</td>\n",
              "      <td>0</td>\n",
              "      <td>60</td>\n",
              "      <td>0</td>\n",
              "      <td>0</td>\n",
              "      <td>0</td>\n",
              "      <td>21</td>\n",
              "      <td>92</td>\n",
              "      <td>228</td>\n",
              "      <td>1067</td>\n",
              "    </tr>\n",
              "    <tr>\n",
              "      <th>despeignes</th>\n",
              "      <td>0</td>\n",
              "      <td>0</td>\n",
              "      <td>0</td>\n",
              "      <td>0</td>\n",
              "      <td>3</td>\n",
              "      <td>0</td>\n",
              "      <td>0</td>\n",
              "      <td>0</td>\n",
              "      <td>0</td>\n",
              "      <td>0</td>\n",
              "      <td>0</td>\n",
              "      <td>0</td>\n",
              "      <td>0</td>\n",
              "      <td>0</td>\n",
              "      <td>0</td>\n",
              "      <td>0</td>\n",
              "      <td>0</td>\n",
              "      <td>3</td>\n",
              "    </tr>\n",
              "    <tr>\n",
              "      <th>fbyron</th>\n",
              "      <td>0</td>\n",
              "      <td>0</td>\n",
              "      <td>0</td>\n",
              "      <td>22</td>\n",
              "      <td>0</td>\n",
              "      <td>0</td>\n",
              "      <td>0</td>\n",
              "      <td>4</td>\n",
              "      <td>137</td>\n",
              "      <td>0</td>\n",
              "      <td>29</td>\n",
              "      <td>0</td>\n",
              "      <td>0</td>\n",
              "      <td>70</td>\n",
              "      <td>196</td>\n",
              "      <td>88</td>\n",
              "      <td>0</td>\n",
              "      <td>546</td>\n",
              "    </tr>\n",
              "    <tr>\n",
              "      <th>pggd1234</th>\n",
              "      <td>0</td>\n",
              "      <td>0</td>\n",
              "      <td>0</td>\n",
              "      <td>0</td>\n",
              "      <td>0</td>\n",
              "      <td>0</td>\n",
              "      <td>6</td>\n",
              "      <td>0</td>\n",
              "      <td>0</td>\n",
              "      <td>13</td>\n",
              "      <td>0</td>\n",
              "      <td>0</td>\n",
              "      <td>8</td>\n",
              "      <td>0</td>\n",
              "      <td>0</td>\n",
              "      <td>0</td>\n",
              "      <td>0</td>\n",
              "      <td>27</td>\n",
              "    </tr>\n",
              "    <tr>\n",
              "      <th>Total</th>\n",
              "      <td>101</td>\n",
              "      <td>27</td>\n",
              "      <td>297</td>\n",
              "      <td>92</td>\n",
              "      <td>3</td>\n",
              "      <td>91</td>\n",
              "      <td>86</td>\n",
              "      <td>102</td>\n",
              "      <td>284</td>\n",
              "      <td>13</td>\n",
              "      <td>89</td>\n",
              "      <td>42</td>\n",
              "      <td>8</td>\n",
              "      <td>70</td>\n",
              "      <td>260</td>\n",
              "      <td>273</td>\n",
              "      <td>228</td>\n",
              "      <td>2066</td>\n",
              "    </tr>\n",
              "  </tbody>\n",
              "</table>\n",
              "</div>"
            ],
            "text/plain": [
              "commune         Camp Perrin  Cap Haitien  Carrefour  Delmas  Desdunes  \\\n",
              "username                                                                \n",
              "Armando                   0           27          0       0         0   \n",
              "Ernstbelabre              0            0          0       0         0   \n",
              "France14                  0            0          0       0         0   \n",
              "FredlyEliona              0            0          0      47         0   \n",
              "billyjolicoeur          101            0        297      23         0   \n",
              "despeignes                0            0          0       0         3   \n",
              "fbyron                    0            0          0      22         0   \n",
              "pggd1234                  0            0          0       0         0   \n",
              "Total                   101           27        297      92         3   \n",
              "\n",
              "commune         Dessalines/Marchandes  Grande Saline  Gressier  Kenscoff  \\\n",
              "username                                                                   \n",
              "Armando                             0              0         0         0   \n",
              "Ernstbelabre                        0             13         0         0   \n",
              "France14                           91             67         0         0   \n",
              "FredlyEliona                        0              0         0         0   \n",
              "billyjolicoeur                      0              0        98       147   \n",
              "despeignes                          0              0         0         0   \n",
              "fbyron                              0              0         4       137   \n",
              "pggd1234                            0              6         0         0   \n",
              "Total                              91             86       102       284   \n",
              "\n",
              "commune         Limonade  Petion-Ville  Petite Riviere de l'Art  \\\n",
              "username                                                          \n",
              "Armando                0             0                        0   \n",
              "Ernstbelabre           0             0                       11   \n",
              "France14               0             0                       31   \n",
              "FredlyEliona           0             0                        0   \n",
              "billyjolicoeur         0            60                        0   \n",
              "despeignes             0             0                        0   \n",
              "fbyron                 0            29                        0   \n",
              "pggd1234              13             0                        0   \n",
              "Total                 13            89                       42   \n",
              "\n",
              "commune         Plaine du Nord  Port-au-Prince  Saint-Marc  Tabarre  \\\n",
              "username                                                              \n",
              "Armando                      0               0           0        0   \n",
              "Ernstbelabre                 0               0           0        0   \n",
              "France14                     0               0           0        0   \n",
              "FredlyEliona                 0               0          43       93   \n",
              "billyjolicoeur               0               0          21       92   \n",
              "despeignes                   0               0           0        0   \n",
              "fbyron                       0              70         196       88   \n",
              "pggd1234                     8               0           0        0   \n",
              "Total                        8              70         260      273   \n",
              "\n",
              "commune         Verrettes  Total  \n",
              "username                          \n",
              "Armando                 0     27  \n",
              "Ernstbelabre            0     24  \n",
              "France14                0    189  \n",
              "FredlyEliona            0    183  \n",
              "billyjolicoeur        228   1067  \n",
              "despeignes              0      3  \n",
              "fbyron                  0    546  \n",
              "pggd1234                0     27  \n",
              "Total                 228   2066  "
            ]
          },
          "execution_count": 16,
          "metadata": {},
          "output_type": "execute_result"
        },
        {
          "name": "stdout",
          "output_type": "stream",
          "text": [
            "-----------------------------------------------------------------------------------------------------\n"
          ]
        },
        {
          "data": {
            "text/html": [
              "<div>\n",
              "<style scoped>\n",
              "    .dataframe tbody tr th:only-of-type {\n",
              "        vertical-align: middle;\n",
              "    }\n",
              "\n",
              "    .dataframe tbody tr th {\n",
              "        vertical-align: top;\n",
              "    }\n",
              "\n",
              "    .dataframe thead th {\n",
              "        text-align: right;\n",
              "    }\n",
              "</style>\n",
              "<table border=\"1\" class=\"dataframe\">\n",
              "  <thead>\n",
              "    <tr style=\"text-align: right;\">\n",
              "      <th>commune</th>\n",
              "      <th>Delmas</th>\n",
              "      <th>Port-au-Prince</th>\n",
              "      <th>Saint-Marc</th>\n",
              "      <th>Verrettes</th>\n",
              "      <th>Total</th>\n",
              "    </tr>\n",
              "    <tr>\n",
              "      <th>username</th>\n",
              "      <th></th>\n",
              "      <th></th>\n",
              "      <th></th>\n",
              "      <th></th>\n",
              "      <th></th>\n",
              "    </tr>\n",
              "  </thead>\n",
              "  <tbody>\n",
              "    <tr>\n",
              "      <th>billyjolicoeur</th>\n",
              "      <td>0</td>\n",
              "      <td>0</td>\n",
              "      <td>21</td>\n",
              "      <td>228</td>\n",
              "      <td>249</td>\n",
              "    </tr>\n",
              "    <tr>\n",
              "      <th>fbyron</th>\n",
              "      <td>22</td>\n",
              "      <td>24</td>\n",
              "      <td>37</td>\n",
              "      <td>0</td>\n",
              "      <td>83</td>\n",
              "    </tr>\n",
              "    <tr>\n",
              "      <th>Total</th>\n",
              "      <td>22</td>\n",
              "      <td>24</td>\n",
              "      <td>58</td>\n",
              "      <td>228</td>\n",
              "      <td>332</td>\n",
              "    </tr>\n",
              "  </tbody>\n",
              "</table>\n",
              "</div>"
            ],
            "text/plain": [
              "commune         Delmas  Port-au-Prince  Saint-Marc  Verrettes  Total\n",
              "username                                                            \n",
              "billyjolicoeur       0               0          21        228    249\n",
              "fbyron              22              24          37          0     83\n",
              "Total               22              24          58        228    332"
            ]
          },
          "execution_count": 16,
          "metadata": {},
          "output_type": "execute_result"
        },
        {
          "name": "stdout",
          "output_type": "stream",
          "text": [
            "-----------------------------------------------------------------------------------------------------\n"
          ]
        },
        {
          "data": {
            "text/html": [
              "<div>\n",
              "<style scoped>\n",
              "    .dataframe tbody tr th:only-of-type {\n",
              "        vertical-align: middle;\n",
              "    }\n",
              "\n",
              "    .dataframe tbody tr th {\n",
              "        vertical-align: top;\n",
              "    }\n",
              "\n",
              "    .dataframe thead th {\n",
              "        text-align: right;\n",
              "    }\n",
              "</style>\n",
              "<table border=\"1\" class=\"dataframe\">\n",
              "  <thead>\n",
              "    <tr style=\"text-align: right;\">\n",
              "      <th></th>\n",
              "      <th>resultats</th>\n",
              "    </tr>\n",
              "  </thead>\n",
              "  <tbody>\n",
              "    <tr>\n",
              "      <th>0</th>\n",
              "      <td>No data entry</td>\n",
              "    </tr>\n",
              "  </tbody>\n",
              "</table>\n",
              "</div>"
            ],
            "text/plain": [
              "       resultats\n",
              "0  No data entry"
            ]
          },
          "execution_count": 16,
          "metadata": {},
          "output_type": "execute_result"
        }
      ],
      "source": [
        "\n",
        "#ben_table = ben_byAgent.pivot_table(values='id_patient',index='username',columns='commune',aggfunc='count',fill_value=0,margins=True, margins_name='Total')\n",
        "ben_table = validation_pivot(ben_byAgent)\n",
        "ben_table\n",
        "\n",
        "print('-----------------------------------------------------------------------------------------------------')\n",
        "\n",
        "ben_table_week = validation_pivot(ben_byAgent_week)\n",
        "ben_table_week\n",
        "\n",
        "\n",
        "print('-----------------------------------------------------------------------------------------------------')\n",
        "\n",
        "#parenting_table = parenting_byAgent.pivot_table(values='id_patient',index='username',columns='commune',aggfunc='count',fill_value=0,margins=True, margins_name='Total')\n",
        "parenting_table = validation_pivot(parenting_byAgent)\n",
        "parenting_table\n"
      ]
    },
    {
      "cell_type": "markdown",
      "metadata": {},
      "source": [
        "# 3 component "
      ]
    },
    {
      "cell_type": "code",
      "execution_count": 17,
      "metadata": {},
      "outputs": [
        {
          "data": {
            "text/html": [
              "<div>\n",
              "<style scoped>\n",
              "    .dataframe tbody tr th:only-of-type {\n",
              "        vertical-align: middle;\n",
              "    }\n",
              "\n",
              "    .dataframe tbody tr th {\n",
              "        vertical-align: top;\n",
              "    }\n",
              "\n",
              "    .dataframe thead th {\n",
              "        text-align: right;\n",
              "    }\n",
              "</style>\n",
              "<table border=\"1\" class=\"dataframe\">\n",
              "  <thead>\n",
              "    <tr style=\"text-align: right;\">\n",
              "      <th></th>\n",
              "      <th>Nombre de fille</th>\n",
              "      <th>Nombre de presence</th>\n",
              "    </tr>\n",
              "  </thead>\n",
              "  <tbody>\n",
              "    <tr>\n",
              "      <th>0</th>\n",
              "      <td>2066</td>\n",
              "      <td>42215</td>\n",
              "    </tr>\n",
              "  </tbody>\n",
              "</table>\n",
              "</div>"
            ],
            "text/plain": [
              "   Nombre de fille  Nombre de presence\n",
              "0             2066               42215"
            ]
          },
          "execution_count": 17,
          "metadata": {},
          "output_type": "execute_result"
        },
        {
          "name": "stdout",
          "output_type": "stream",
          "text": [
            "-----------------------------------------------------------------------\n"
          ]
        },
        {
          "data": {
            "text/html": [
              "<div>\n",
              "<style scoped>\n",
              "    .dataframe tbody tr th:only-of-type {\n",
              "        vertical-align: middle;\n",
              "    }\n",
              "\n",
              "    .dataframe tbody tr th {\n",
              "        vertical-align: top;\n",
              "    }\n",
              "\n",
              "    .dataframe thead th {\n",
              "        text-align: right;\n",
              "    }\n",
              "</style>\n",
              "<table border=\"1\" class=\"dataframe\">\n",
              "  <thead>\n",
              "    <tr style=\"text-align: right;\">\n",
              "      <th></th>\n",
              "      <th>Nombre de fille</th>\n",
              "      <th>Nombre de presence</th>\n",
              "    </tr>\n",
              "  </thead>\n",
              "  <tbody>\n",
              "    <tr>\n",
              "      <th>0</th>\n",
              "      <td>332</td>\n",
              "      <td>6796</td>\n",
              "    </tr>\n",
              "  </tbody>\n",
              "</table>\n",
              "</div>"
            ],
            "text/plain": [
              "   Nombre de fille  Nombre de presence\n",
              "0              332                6796"
            ]
          },
          "execution_count": 17,
          "metadata": {},
          "output_type": "execute_result"
        },
        {
          "name": "stdout",
          "output_type": "stream",
          "text": [
            "-----------------------------------------------------------------------\n"
          ]
        },
        {
          "data": {
            "text/html": [
              "<div>\n",
              "<style scoped>\n",
              "    .dataframe tbody tr th:only-of-type {\n",
              "        vertical-align: middle;\n",
              "    }\n",
              "\n",
              "    .dataframe tbody tr th {\n",
              "        vertical-align: top;\n",
              "    }\n",
              "\n",
              "    .dataframe thead th {\n",
              "        text-align: right;\n",
              "    }\n",
              "</style>\n",
              "<table border=\"1\" class=\"dataframe\">\n",
              "  <thead>\n",
              "    <tr style=\"text-align: right;\">\n",
              "      <th></th>\n",
              "      <th>Nombre de fille/parent parenting</th>\n",
              "      <th>Nombre de presence</th>\n",
              "    </tr>\n",
              "  </thead>\n",
              "  <tbody>\n",
              "    <tr>\n",
              "      <th>0</th>\n",
              "      <td>0</td>\n",
              "      <td>0</td>\n",
              "    </tr>\n",
              "  </tbody>\n",
              "</table>\n",
              "</div>"
            ],
            "text/plain": [
              "   Nombre de fille/parent parenting  Nombre de presence\n",
              "0                                 0                   0"
            ]
          },
          "execution_count": 17,
          "metadata": {},
          "output_type": "execute_result"
        }
      ],
      "source": [
        "\n",
        "curriculum_result = DataFrame(\n",
        "    [\n",
        "        {'Nombre de fille': ben_byAgent.id_patient.count(),\n",
        "        'Nombre de presence': pres_byAgent.nombre_pres.sum()}\n",
        "    ]\n",
        ")\n",
        "curriculum_result\n",
        "\n",
        "print('-----------------------------------------------------------------------')\n",
        "\n",
        "curriculum_result_week = DataFrame(\n",
        "    [\n",
        "        {'Nombre de fille': ben_byAgent_week.id_patient.count(),\n",
        "        'Nombre de presence': pres_byAgent_week.nombre_pres.sum()}\n",
        "    ]\n",
        ")\n",
        "curriculum_result_week\n",
        "\n",
        "\n",
        "print('-----------------------------------------------------------------------')\n",
        "\n",
        "parenting_result = DataFrame(\n",
        "    [\n",
        "        {'Nombre de fille/parent parenting': parenting_byAgent.id_patient.count(),\n",
        "        'Nombre de presence': pres_parenting.nombre_pres.sum()}\n",
        "    ]\n",
        ")\n",
        "parenting_result\n"
      ]
    },
    {
      "cell_type": "markdown",
      "metadata": {},
      "source": [
        "# Report"
      ]
    },
    {
      "cell_type": "code",
      "execution_count": 18,
      "metadata": {},
      "outputs": [
        {
          "name": "stderr",
          "output_type": "stream",
          "text": [
            "/var/folders/7v/rs0k237d6nj3vdxfc1h7xtcw0000gn/T/ipykernel_64341/3588351584.py:8: FutureWarning: save is not part of the public API, usage can give unexpected results and will be removed in a future version\n",
            "  all_report.save()\n"
          ]
        }
      ],
      "source": [
        "all_report = ExcelWriter(f\"rapport_performance.xlsx\",engine=\"openpyxl\")\n",
        "curriculum_result.to_excel(all_report,sheet_name=\"resultat_curriculum\",index=False,na_rep=\"\")\n",
        "pres_byAgent.to_excel(all_report,sheet_name=\"presence_agent_curriculum\",index=False,na_rep=\"\")\n",
        "ben_table.to_excel(all_report,sheet_name=\"ben_communes_curriculum\",index=True,na_rep=\"\")\n",
        "parenting_result.to_excel(all_report,sheet_name=\"resultat_parenting\",index=False,na_rep=\"\")\n",
        "pres_parenting.to_excel(all_report,sheet_name=\"pres_agent_parenting\",index=False,na_rep=\"\")\n",
        "parenting_table.to_excel(all_report,sheet_name=\"ben_communes_parenting\",index=True,na_rep=\"\")\n",
        "all_report.save()\n"
      ]
    },
    {
      "cell_type": "code",
      "execution_count": 19,
      "metadata": {},
      "outputs": [
        {
          "name": "stderr",
          "output_type": "stream",
          "text": [
            "/var/folders/7v/rs0k237d6nj3vdxfc1h7xtcw0000gn/T/ipykernel_64341/1393307214.py:5: FutureWarning: save is not part of the public API, usage can give unexpected results and will be removed in a future version\n",
            "  week_report.save()\n"
          ]
        }
      ],
      "source": [
        "week_report = ExcelWriter(f\"rapport_pour_la_semaine.xlsx\",engine=\"openpyxl\")\n",
        "curriculum_result_week.to_excel(week_report,sheet_name=\"resultat_curriculum\",index=False,na_rep=\"\")\n",
        "pres_byAgent_week.to_excel(week_report,sheet_name=\"presence_agent_curriculum\",index=False,na_rep=\"\")\n",
        "ben_table_week.to_excel(week_report,sheet_name=\"ben_communes_curriculum\",index=True,na_rep=\"\")\n",
        "week_report.save()\n"
      ]
    }
  ],
  "metadata": {
    "interpreter": {
      "hash": "b460384b52104c1e5b9cf54bee46a255d22b2bef338f75ac4ad5d48196028d3c"
    },
    "kernelspec": {
      "display_name": "Python 3.10.4 64-bit",
      "language": "python",
      "name": "python3"
    },
    "language_info": {
      "codemirror_mode": {
        "name": "ipython",
        "version": 3
      },
      "file_extension": ".py",
      "mimetype": "text/x-python",
      "name": "python",
      "nbconvert_exporter": "python",
      "pygments_lexer": "ipython3",
      "version": "3.11.7"
    },
    "orig_nbformat": 4
  },
  "nbformat": 4,
  "nbformat_minor": 2
}
