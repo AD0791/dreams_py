{
 "cells": [
  {
   "cell_type": "code",
   "execution_count": 1,
   "metadata": {},
   "outputs": [],
   "source": [
    "from IPython.core.interactiveshell import InteractiveShell\n",
    "InteractiveShell.ast_node_interactivity = \"all\"\n",
    "import os\n",
    "from datetime import datetime\n",
    "#from datetime import date\n",
    "import pymysql\n",
    "from sqlalchemy import create_engine\n",
    "from decouple import config \n",
    "from dotenv import load_dotenv\n",
    "from pandas import (\n",
    "    read_sql_query, \n",
    "    DataFrame,\n",
    "    ExcelWriter,\n",
    "    options\n",
    ")\n",
    "from dataframe_image import export\n",
    "\n",
    "\n",
    "from enum import Enum\n",
    "import openpyxl\n",
    "import matplotlib.pyplot as plt\n",
    "import seaborn as sns\n",
    "%matplotlib inline"
   ]
  },
  {
   "cell_type": "code",
   "execution_count": 2,
   "metadata": {},
   "outputs": [],
   "source": [
    "class Period(Enum):\n",
    "    date = '2021-10-01'\n",
    "    wb=''\n",
    "    date_du_jour = datetime.today().strftime(\"%d_%m_%Y\")"
   ]
  },
  {
   "cell_type": "code",
   "execution_count": 3,
   "metadata": {},
   "outputs": [
    {
     "data": {
      "text/plain": [
       "True"
      ]
     },
     "execution_count": 3,
     "metadata": {},
     "output_type": "execute_result"
    }
   ],
   "source": [
    "load_dotenv()\n",
    "# get the environment variables needed\n",
    "USER = config('USRCaris')\n",
    "PASSWORD = config('PASSCaris')\n",
    "HOSTNAME = config('HOSTCaris')\n",
    "DBNAME = config('DBCaris')\n",
    "\n",
    "# get the engine to connect and fetch\n",
    "engine = create_engine(\n",
    "    f\"mysql+pymysql://{USER}:{PASSWORD}@{HOSTNAME}/{DBNAME}\")\n",
    "\n",
    "query_presenceQty = f'''\n",
    "SELECT \n",
    "    a.*, COUNT(*) AS qte_pres_by_creator\n",
    "FROM\n",
    "    (SELECT \n",
    "            dgs.created_by,\n",
    "            au.email AS email,\n",
    "            au.username\n",
    "    FROM\n",
    "        caris_db.dream_group_session dgs\n",
    "    LEFT JOIN dream_group_attendance dga ON dgs.id = dga.id_group_session\n",
    "    LEFT JOIN dream_group dg ON dgs.id_group = dg.id\n",
    "    LEFT JOIN dream_hub dh ON dg.id_dream_hub = dh.id\n",
    "    LEFT JOIN lookup_commune lc ON lc.id = dh.commune\n",
    "    LEFT JOIN lookup_departement ld ON ld.id = lc.departement\n",
    "    LEFT JOIN auth_users au ON au.id = dgs.created_by\n",
    "    WHERE\n",
    "        dga.value = 'P'\n",
    "            AND dgs.date >= '{Period.date.value}') a\n",
    "GROUP BY a.created_by\n",
    "'''\n",
    "\n",
    "query_beneficiariesQty = f'''\n",
    "SELECT *, COUNT(*) AS qte_by_creator FROM\n",
    "    (SELECT\n",
    "        dgs.id AS id_session,\n",
    "            topic,\n",
    "            date,\n",
    "            dga.id_patient AS id_patient,\n",
    "            dgs.created_by,\n",
    "            lc.name AS commune,\n",
    "            ld.name AS departement,\n",
    "            dh.name AS hub,\n",
    "            au.email AS email,\n",
    "            au.username,\n",
    "            b.first_name,\n",
    "            b.last_name,\n",
    "            p.patient_code as dreams_code\n",
    "    FROM\n",
    "        caris_db.dream_group_session dgs\n",
    "    INNER JOIN dream_group_attendance dga ON dgs.id = dga.id_group_session\n",
    "        LEFT JOIN dream_group dg ON dgs.id_group = dg.id\n",
    "    LEFT JOIN dream_hub dh ON dg.id_dream_hub = dh.id\n",
    "    LEFT JOIN lookup_commune lc ON lc.id = dh.commune\n",
    "    LEFT JOIN lookup_departement ld ON ld.id = lc.departement\n",
    "    LEFT JOIN auth_users au ON au.id = dgs.created_by\n",
    "    left join beneficiary b on dga.id_patient=b.id_patient\n",
    "    left join patient p on p.id=dga.id_patient\n",
    "    WHERE\n",
    "        dga.value = 'P'\n",
    "            AND dgs.date >= '{Period.date.value}') a\n",
    "            group by a.id_patient, a.username\n",
    "'''\n",
    "\n",
    "query_parentingBene = f'''\n",
    "SELECT \n",
    "    *, COUNT(*) AS qte_by_creator\n",
    "FROM\n",
    "    (SELECT \n",
    "        dpgs.id_group AS id_session,\n",
    "            topic,\n",
    "            date,\n",
    "            dpga.id_patient AS id_patient,\n",
    "            dpgs.created_by,\n",
    "            lc.name AS commune,\n",
    "            ld.name AS departement,\n",
    "            dh.name AS hub,\n",
    "            au.email AS email,\n",
    "            au.username,\n",
    "            b.first_name,\n",
    "            b.last_name,\n",
    "            p.patient_code AS dreams_code\n",
    "    FROM\n",
    "        caris_db.dream_parenting_group_session dpgs\n",
    "    LEFT JOIN dream_parenting_group_attendance dpga ON dpgs.id = dpga.id_parenting_group_session\n",
    "    LEFT JOIN dream_group dg ON dpgs.id_group = dg.id\n",
    "    LEFT JOIN dream_hub dh ON dg.id_dream_hub = dh.id\n",
    "    LEFT JOIN lookup_commune lc ON lc.id = dh.commune\n",
    "    LEFT JOIN lookup_departement ld ON ld.id = lc.departement\n",
    "    LEFT JOIN auth_users au ON au.id = dpgs.created_by\n",
    "    LEFT JOIN beneficiary b ON dpga.id_patient = b.id_patient\n",
    "    LEFT JOIN patient p ON p.id = dpga.id_patient\n",
    "    WHERE\n",
    "        ((dpga.parent_g = 'P')\n",
    "            OR (dpga.parent_vd = 'P')\n",
    "            OR (dpga.yg_g = 'P')\n",
    "            OR (dpga.yg_vd = 'P'))\n",
    "            AND (dpgs.date >= '{Period.date.value}')) a\n",
    "GROUP BY a.id_patient , a.username\n",
    "'''\n",
    "\n",
    "query_parentingQty = f'''\n",
    "SELECT \n",
    "    a.*, COUNT(*) AS qte_by_creator\n",
    "FROM\n",
    "    (SELECT \n",
    "        dpgs.created_by, au.email AS email, au.username\n",
    "    FROM\n",
    "        caris_db.dream_parenting_group_session dpgs\n",
    "    LEFT JOIN dream_parenting_group_attendance dpga ON dpgs.id = dpga.id_parenting_group_session\n",
    "    LEFT JOIN dream_group dg ON dpgs.id_group = dg.id\n",
    "    LEFT JOIN dream_hub dh ON dg.id_dream_hub = dh.id\n",
    "    LEFT JOIN lookup_commune lc ON lc.id = dh.commune\n",
    "    LEFT JOIN lookup_departement ld ON ld.id = lc.departement\n",
    "    LEFT JOIN auth_users au ON au.id = dpgs.created_by\n",
    "    WHERE ((dpga.parent_g = 'P') OR (dpga.parent_vd= 'P') OR (dpga.yg_g='P') OR (dpga.yg_vd='P') )\n",
    "            AND (dpgs.date >= '{Period.date.value}') ) a\n",
    "GROUP BY a.created_by\n",
    "'''\n",
    "\n",
    "\n",
    "\n",
    "\n",
    "pres_byAgent= read_sql_query(query_presenceQty, engine, parse_dates=True)\n",
    "ben_byAgent = read_sql_query(query_beneficiariesQty, engine, parse_dates=True)\n",
    "\n",
    "pres_parenting= read_sql_query(query_parentingQty, engine, parse_dates=True)\n",
    "parenting_byAgent = read_sql_query(query_parentingBene, engine, parse_dates=True)\n",
    "\n",
    "\n",
    "# close the pool of connection\n",
    "engine.dispose()\n"
   ]
  },
  {
   "cell_type": "code",
   "execution_count": 4,
   "metadata": {},
   "outputs": [],
   "source": [
    "pres_byAgent.rename(columns={'qte_pres_by_creator':'nombre_pres'},inplace=True)\n",
    "ben_byAgent.rename(columns={'qte_by_creator':'nombre_pres'},inplace=True)\n",
    "pres_parenting.rename(columns={'qte_by_creator':'nombre_pres'},inplace=True)\n",
    "parenting_byAgent.rename(columns={'qte_by_creator':'nombre_pres'},inplace=True)"
   ]
  },
  {
   "cell_type": "code",
   "execution_count": 5,
   "metadata": {},
   "outputs": [],
   "source": [
    "pres_byAgent.fillna(\"noID\",inplace=True)\n",
    "ben_byAgent.fillna(\"noID\",inplace=True)"
   ]
  },
  {
   "cell_type": "code",
   "execution_count": 6,
   "metadata": {},
   "outputs": [
    {
     "name": "stdout",
     "output_type": "stream",
     "text": [
      "Nombre de presence totale:  145767\n",
      "Nombre de presence totale:  145767\n",
      "Nombre de filles:  10501\n",
      "Nombre de presence totale parenting:  939\n",
      "Nombre de presence totale parenting:  939\n",
      "Nombre de filles:  150\n"
     ]
    }
   ],
   "source": [
    "print('Nombre de presence totale: ',pres_byAgent.nombre_pres.sum())\n",
    "print('Nombre de presence totale: ',ben_byAgent.nombre_pres.sum())\n",
    "print('Nombre de filles: ',ben_byAgent.id_patient.count())\n",
    "print('Nombre de presence totale parenting: ',pres_parenting.nombre_pres.sum())\n",
    "print('Nombre de presence totale parenting: ',parenting_byAgent.nombre_pres.sum())\n",
    "print('Nombre de filles: ',parenting_byAgent.id_patient.count())"
   ]
  },
  {
   "cell_type": "markdown",
   "metadata": {},
   "source": [
    "# First Component"
   ]
  },
  {
   "cell_type": "code",
   "execution_count": 7,
   "metadata": {},
   "outputs": [
    {
     "data": {
      "text/html": [
       "<style type=\"text/css\">\n",
       "#T_59180_row4_col2 {\n",
       "  background-color: yellow;\n",
       "}\n",
       "</style>\n",
       "<table id=\"T_59180\">\n",
       "  <thead>\n",
       "    <tr>\n",
       "      <th class=\"blank level0\" >&nbsp;</th>\n",
       "      <th id=\"T_59180_level0_col0\" class=\"col_heading level0 col0\" >username</th>\n",
       "      <th id=\"T_59180_level0_col1\" class=\"col_heading level0 col1\" >email</th>\n",
       "      <th id=\"T_59180_level0_col2\" class=\"col_heading level0 col2\" >nombre_pres</th>\n",
       "    </tr>\n",
       "  </thead>\n",
       "  <tbody>\n",
       "    <tr>\n",
       "      <th id=\"T_59180_level0_row0\" class=\"row_heading level0 row0\" >0</th>\n",
       "      <td id=\"T_59180_row0_col0\" class=\"data row0 col0\" >noID</td>\n",
       "      <td id=\"T_59180_row0_col1\" class=\"data row0 col1\" >noID</td>\n",
       "      <td id=\"T_59180_row0_col2\" class=\"data row0 col2\" >1813</td>\n",
       "    </tr>\n",
       "    <tr>\n",
       "      <th id=\"T_59180_level0_row1\" class=\"row_heading level0 row1\" >1</th>\n",
       "      <td id=\"T_59180_row1_col0\" class=\"data row1 col0\" >mcazy</td>\n",
       "      <td id=\"T_59180_row1_col1\" class=\"data row1 col1\" >mdaniel.cazy@carisfoundationintl.org</td>\n",
       "      <td id=\"T_59180_row1_col2\" class=\"data row1 col2\" >102</td>\n",
       "    </tr>\n",
       "    <tr>\n",
       "      <th id=\"T_59180_level0_row2\" class=\"row_heading level0 row2\" >2</th>\n",
       "      <td id=\"T_59180_row2_col0\" class=\"data row2 col0\" >johanejules</td>\n",
       "      <td id=\"T_59180_row2_col1\" class=\"data row2 col1\" >johane.jules@carisfoundationintl.org</td>\n",
       "      <td id=\"T_59180_row2_col2\" class=\"data row2 col2\" >16</td>\n",
       "    </tr>\n",
       "    <tr>\n",
       "      <th id=\"T_59180_level0_row3\" class=\"row_heading level0 row3\" >3</th>\n",
       "      <td id=\"T_59180_row3_col0\" class=\"data row3 col0\" >fbyron</td>\n",
       "      <td id=\"T_59180_row3_col1\" class=\"data row3 col1\" >byronfabrice9@gmail.com</td>\n",
       "      <td id=\"T_59180_row3_col2\" class=\"data row3 col2\" >13540</td>\n",
       "    </tr>\n",
       "    <tr>\n",
       "      <th id=\"T_59180_level0_row4\" class=\"row_heading level0 row4\" >4</th>\n",
       "      <td id=\"T_59180_row4_col0\" class=\"data row4 col0\" >billyjolicoeur</td>\n",
       "      <td id=\"T_59180_row4_col1\" class=\"data row4 col1\" >billyjolicoeur95@gmail.com</td>\n",
       "      <td id=\"T_59180_row4_col2\" class=\"data row4 col2\" >42416</td>\n",
       "    </tr>\n",
       "    <tr>\n",
       "      <th id=\"T_59180_level0_row5\" class=\"row_heading level0 row5\" >5</th>\n",
       "      <td id=\"T_59180_row5_col0\" class=\"data row5 col0\" >FredlyEliona</td>\n",
       "      <td id=\"T_59180_row5_col1\" class=\"data row5 col1\" >elionafredly7@gmail.com</td>\n",
       "      <td id=\"T_59180_row5_col2\" class=\"data row5 col2\" >11867</td>\n",
       "    </tr>\n",
       "    <tr>\n",
       "      <th id=\"T_59180_level0_row6\" class=\"row_heading level0 row6\" >6</th>\n",
       "      <td id=\"T_59180_row6_col0\" class=\"data row6 col0\" >dchelot</td>\n",
       "      <td id=\"T_59180_row6_col1\" class=\"data row6 col1\" >blonnichel@yahoo.fr</td>\n",
       "      <td id=\"T_59180_row6_col2\" class=\"data row6 col2\" >9865</td>\n",
       "    </tr>\n",
       "    <tr>\n",
       "      <th id=\"T_59180_level0_row7\" class=\"row_heading level0 row7\" >7</th>\n",
       "      <td id=\"T_59180_row7_col0\" class=\"data row7 col0\" >pggd1234</td>\n",
       "      <td id=\"T_59180_row7_col1\" class=\"data row7 col1\" >gerald.poteau@carisfoundationintl.org</td>\n",
       "      <td id=\"T_59180_row7_col2\" class=\"data row7 col2\" >6610</td>\n",
       "    </tr>\n",
       "    <tr>\n",
       "      <th id=\"T_59180_level0_row8\" class=\"row_heading level0 row8\" >8</th>\n",
       "      <td id=\"T_59180_row8_col0\" class=\"data row8 col0\" >Armando</td>\n",
       "      <td id=\"T_59180_row8_col1\" class=\"data row8 col1\" >diegoarmando.dorlean@carisfoundationintl.org</td>\n",
       "      <td id=\"T_59180_row8_col2\" class=\"data row8 col2\" >24208</td>\n",
       "    </tr>\n",
       "    <tr>\n",
       "      <th id=\"T_59180_level0_row9\" class=\"row_heading level0 row9\" >9</th>\n",
       "      <td id=\"T_59180_row9_col0\" class=\"data row9 col0\" >Ernstbelabre</td>\n",
       "      <td id=\"T_59180_row9_col1\" class=\"data row9 col1\" >ernst.belabre@carisfoundationintl.org</td>\n",
       "      <td id=\"T_59180_row9_col2\" class=\"data row9 col2\" >5758</td>\n",
       "    </tr>\n",
       "    <tr>\n",
       "      <th id=\"T_59180_level0_row10\" class=\"row_heading level0 row10\" >10</th>\n",
       "      <td id=\"T_59180_row10_col0\" class=\"data row10 col0\" >France14</td>\n",
       "      <td id=\"T_59180_row10_col1\" class=\"data row10 col1\" >francenelstjean.saed@yahoo.com</td>\n",
       "      <td id=\"T_59180_row10_col2\" class=\"data row10 col2\" >6574</td>\n",
       "    </tr>\n",
       "    <tr>\n",
       "      <th id=\"T_59180_level0_row11\" class=\"row_heading level0 row11\" >11</th>\n",
       "      <td id=\"T_59180_row11_col0\" class=\"data row11 col0\" >despeignes</td>\n",
       "      <td id=\"T_59180_row11_col1\" class=\"data row11 col1\" >roselord.despeignes@carisfoundationintl.org</td>\n",
       "      <td id=\"T_59180_row11_col2\" class=\"data row11 col2\" >1084</td>\n",
       "    </tr>\n",
       "    <tr>\n",
       "      <th id=\"T_59180_level0_row12\" class=\"row_heading level0 row12\" >12</th>\n",
       "      <td id=\"T_59180_row12_col0\" class=\"data row12 col0\" >BonWoodRidchard</td>\n",
       "      <td id=\"T_59180_row12_col1\" class=\"data row12 col1\" >twoody103@gmail.com</td>\n",
       "      <td id=\"T_59180_row12_col2\" class=\"data row12 col2\" >21914</td>\n",
       "    </tr>\n",
       "  </tbody>\n",
       "</table>\n"
      ],
      "text/plain": [
       "<pandas.io.formats.style.Styler at 0x12769bf70>"
      ]
     },
     "execution_count": 7,
     "metadata": {},
     "output_type": "execute_result"
    },
    {
     "name": "stdout",
     "output_type": "stream",
     "text": [
      "---------------------------------------------------------------------------------------------\n"
     ]
    },
    {
     "data": {
      "text/html": [
       "<style type=\"text/css\">\n",
       "#T_c91aa_row0_col2 {\n",
       "  background-color: yellow;\n",
       "}\n",
       "</style>\n",
       "<table id=\"T_c91aa\">\n",
       "  <thead>\n",
       "    <tr>\n",
       "      <th class=\"blank level0\" >&nbsp;</th>\n",
       "      <th id=\"T_c91aa_level0_col0\" class=\"col_heading level0 col0\" >username</th>\n",
       "      <th id=\"T_c91aa_level0_col1\" class=\"col_heading level0 col1\" >email</th>\n",
       "      <th id=\"T_c91aa_level0_col2\" class=\"col_heading level0 col2\" >nombre_pres</th>\n",
       "    </tr>\n",
       "  </thead>\n",
       "  <tbody>\n",
       "    <tr>\n",
       "      <th id=\"T_c91aa_level0_row0\" class=\"row_heading level0 row0\" >0</th>\n",
       "      <td id=\"T_c91aa_row0_col0\" class=\"data row0 col0\" >fbyron</td>\n",
       "      <td id=\"T_c91aa_row0_col1\" class=\"data row0 col1\" >byronfabrice9@gmail.com</td>\n",
       "      <td id=\"T_c91aa_row0_col2\" class=\"data row0 col2\" >798</td>\n",
       "    </tr>\n",
       "    <tr>\n",
       "      <th id=\"T_c91aa_level0_row1\" class=\"row_heading level0 row1\" >1</th>\n",
       "      <td id=\"T_c91aa_row1_col0\" class=\"data row1 col0\" >billyjolicoeur</td>\n",
       "      <td id=\"T_c91aa_row1_col1\" class=\"data row1 col1\" >billyjolicoeur95@gmail.com</td>\n",
       "      <td id=\"T_c91aa_row1_col2\" class=\"data row1 col2\" >114</td>\n",
       "    </tr>\n",
       "    <tr>\n",
       "      <th id=\"T_c91aa_level0_row2\" class=\"row_heading level0 row2\" >2</th>\n",
       "      <td id=\"T_c91aa_row2_col0\" class=\"data row2 col0\" >France14</td>\n",
       "      <td id=\"T_c91aa_row2_col1\" class=\"data row2 col1\" >francenelstjean.saed@yahoo.com</td>\n",
       "      <td id=\"T_c91aa_row2_col2\" class=\"data row2 col2\" >27</td>\n",
       "    </tr>\n",
       "  </tbody>\n",
       "</table>\n"
      ],
      "text/plain": [
       "<pandas.io.formats.style.Styler at 0x10e3be260>"
      ]
     },
     "execution_count": 7,
     "metadata": {},
     "output_type": "execute_result"
    }
   ],
   "source": [
    "pres_byAgent = pres_byAgent[['username','email','nombre_pres']]\n",
    "if pres_byAgent.empty:\n",
    "    pres_byAgent\n",
    "else:\n",
    "    pres_byAgent.style.highlight_max(subset=['nombre_pres'])\n",
    "    \n",
    "print('---------------------------------------------------------------------------------------------')\n",
    "\n",
    "pres_parenting = pres_parenting[['username','email','nombre_pres']]\n",
    "if pres_parenting.empty:\n",
    "    pres_parenting\n",
    "else:\n",
    "    pres_parenting.style.highlight_max(subset=['nombre_pres'])   \n",
    "\n",
    "\n",
    "#ordered_pres_byAgent = pres_byAgent.nombre_pres.sort_values().to_list()\n",
    "#ordered_pres_parenting = pres_parenting.nombre_pres.sort_values().to_list()"
   ]
  },
  {
   "cell_type": "markdown",
   "metadata": {},
   "source": [
    "# Graphe Component I"
   ]
  },
  {
   "cell_type": "code",
   "execution_count": 8,
   "metadata": {},
   "outputs": [
    {
     "data": {
      "text/plain": [
       "<Figure size 1152x576 with 0 Axes>"
      ]
     },
     "execution_count": 8,
     "metadata": {},
     "output_type": "execute_result"
    },
    {
     "data": {
      "text/plain": [
       "Text(0.5, 0, '')"
      ]
     },
     "execution_count": 8,
     "metadata": {},
     "output_type": "execute_result"
    },
    {
     "data": {
      "text/plain": [
       "Text(0, 0.5, '')"
      ]
     },
     "execution_count": 8,
     "metadata": {},
     "output_type": "execute_result"
    },
    {
     "data": {
      "text/plain": [
       "Text(0.5, 0.98, 'Nombre de presence Currriculum par agents depuis le 2021-10-01')"
      ]
     },
     "execution_count": 8,
     "metadata": {},
     "output_type": "execute_result"
    },
    {
     "data": {
      "text/plain": [
       "Text(42416.25, 0.0, '42416')"
      ]
     },
     "execution_count": 8,
     "metadata": {},
     "output_type": "execute_result"
    },
    {
     "data": {
      "text/plain": [
       "Text(24208.25, 1.0, '24208')"
      ]
     },
     "execution_count": 8,
     "metadata": {},
     "output_type": "execute_result"
    },
    {
     "data": {
      "text/plain": [
       "Text(21914.25, 2.0, '21914')"
      ]
     },
     "execution_count": 8,
     "metadata": {},
     "output_type": "execute_result"
    },
    {
     "data": {
      "text/plain": [
       "Text(13540.25, 3.0, '13540')"
      ]
     },
     "execution_count": 8,
     "metadata": {},
     "output_type": "execute_result"
    },
    {
     "data": {
      "text/plain": [
       "Text(11867.25, 4.0, '11867')"
      ]
     },
     "execution_count": 8,
     "metadata": {},
     "output_type": "execute_result"
    },
    {
     "data": {
      "text/plain": [
       "Text(9865.25, 5.0, '9865')"
      ]
     },
     "execution_count": 8,
     "metadata": {},
     "output_type": "execute_result"
    },
    {
     "data": {
      "text/plain": [
       "Text(6610.25, 6.0, '6610')"
      ]
     },
     "execution_count": 8,
     "metadata": {},
     "output_type": "execute_result"
    },
    {
     "data": {
      "text/plain": [
       "Text(6574.25, 7.0, '6574')"
      ]
     },
     "execution_count": 8,
     "metadata": {},
     "output_type": "execute_result"
    },
    {
     "data": {
      "text/plain": [
       "Text(5758.25, 8.0, '5758')"
      ]
     },
     "execution_count": 8,
     "metadata": {},
     "output_type": "execute_result"
    },
    {
     "data": {
      "text/plain": [
       "Text(1813.25, 9.0, '1813')"
      ]
     },
     "execution_count": 8,
     "metadata": {},
     "output_type": "execute_result"
    },
    {
     "data": {
      "text/plain": [
       "Text(1084.25, 10.0, '1084')"
      ]
     },
     "execution_count": 8,
     "metadata": {},
     "output_type": "execute_result"
    },
    {
     "data": {
      "text/plain": [
       "Text(102.25, 11.0, '102')"
      ]
     },
     "execution_count": 8,
     "metadata": {},
     "output_type": "execute_result"
    },
    {
     "data": {
      "text/plain": [
       "Text(16.25, 12.0, '16')"
      ]
     },
     "execution_count": 8,
     "metadata": {},
     "output_type": "execute_result"
    },
    {
     "data": {
      "text/plain": [
       "Text(-80, -20, 'source: HIVHaiti')"
      ]
     },
     "execution_count": 8,
     "metadata": {},
     "output_type": "execute_result"
    },
    {
     "data": {
      "image/png": "[encoded data removed]",
      "text/plain": [
       "<Figure size 1152x576 with 1 Axes>"
      ]
     },
     "metadata": {
      "needs_background": "light"
     },
     "output_type": "display_data"
    }
   ],
   "source": [
    "try:\n",
    "    plt.figure(figsize=(16,8))\n",
    "    #plt.subplots(figsize=(16,8))\n",
    "    sns.set_style(\"darkgrid\")\n",
    "    splot = sns.barplot(x=\"nombre_pres\",y=\"username\",data=pres_byAgent,color=\"Green\",order=pres_byAgent.sort_values(\"nombre_pres\",ascending=False).username,ci=False)\n",
    "    splot.set_xlabel(\"\")\n",
    "    splot.set_ylabel(\"\")\n",
    "    plt.suptitle(f\"Nombre de presence Currriculum par agents depuis le {Period.date.value}\")\n",
    "    for p in splot.patches:\n",
    "        width = p.get_width()\n",
    "        plt.text(0.25+p.get_width(), p.get_y()+0.50*p.get_height(),\n",
    "                '{:1.0f}'.format(width),fontdict=dict(color=\"red\",fontsize=12))\n",
    "\n",
    "    plt.annotate(\n",
    "        \"source: HIVHaiti\",(0,0), (-80,-20), fontsize=10, \n",
    "                xycoords='axes fraction', textcoords='offset points', va='top'\n",
    "    )\n",
    "    plt.savefig(f\"saisie_curriculum\",dpi=1000)\n",
    "except ValueError:\n",
    "    print(f\"no activities where registered\")"
   ]
  },
  {
   "cell_type": "code",
   "execution_count": 9,
   "metadata": {},
   "outputs": [
    {
     "data": {
      "text/plain": [
       "<Figure size 1152x576 with 0 Axes>"
      ]
     },
     "execution_count": 9,
     "metadata": {},
     "output_type": "execute_result"
    },
    {
     "data": {
      "text/plain": [
       "Text(0.5, 0, '')"
      ]
     },
     "execution_count": 9,
     "metadata": {},
     "output_type": "execute_result"
    },
    {
     "data": {
      "text/plain": [
       "Text(0, 0.5, '')"
      ]
     },
     "execution_count": 9,
     "metadata": {},
     "output_type": "execute_result"
    },
    {
     "data": {
      "text/plain": [
       "Text(0.5, 0.98, 'Nombre de presence parenting par agents depuis le 2021-10-01')"
      ]
     },
     "execution_count": 9,
     "metadata": {},
     "output_type": "execute_result"
    },
    {
     "data": {
      "text/plain": [
       "Text(798.25, 0.0, '798')"
      ]
     },
     "execution_count": 9,
     "metadata": {},
     "output_type": "execute_result"
    },
    {
     "data": {
      "text/plain": [
       "Text(114.25, 1.0, '114')"
      ]
     },
     "execution_count": 9,
     "metadata": {},
     "output_type": "execute_result"
    },
    {
     "data": {
      "text/plain": [
       "Text(27.25, 2.0, '27')"
      ]
     },
     "execution_count": 9,
     "metadata": {},
     "output_type": "execute_result"
    },
    {
     "data": {
      "text/plain": [
       "Text(-80, -20, 'source: HIVHaiti')"
      ]
     },
     "execution_count": 9,
     "metadata": {},
     "output_type": "execute_result"
    },
    {
     "data": {
      "image/png": "[encoded data removed]",
      "text/plain": [
       "<Figure size 1152x576 with 1 Axes>"
      ]
     },
     "metadata": {},
     "output_type": "display_data"
    }
   ],
   "source": [
    "try:\n",
    "    plt.figure(figsize=(16,8))\n",
    "    #plt.subplots(figsize=(16,8))\n",
    "    sns.set_style(\"darkgrid\")\n",
    "    splot = sns.barplot(x=\"nombre_pres\",y=\"username\",data=pres_parenting,color=\"Green\",order=pres_parenting.sort_values(\"nombre_pres\",ascending=False).username,ci=False)\n",
    "    splot.set_xlabel(\"\")\n",
    "    splot.set_ylabel(\"\")\n",
    "    plt.suptitle(f\"Nombre de presence parenting par agents depuis le {Period.date.value}\")\n",
    "    for p in splot.patches:\n",
    "        width = p.get_width()\n",
    "        plt.text(0.25+p.get_width(), p.get_y()+0.50*p.get_height(),\n",
    "                '{:1.0f}'.format(width),fontdict=dict(color=\"red\",fontsize=12))\n",
    "    plt.annotate(\n",
    "        \"source: HIVHaiti\",(0,0), (-80,-20), fontsize=10, \n",
    "                xycoords='axes fraction', textcoords='offset points', va='top'\n",
    "    )\n",
    "    plt.savefig(f\"saisie_parenting\",dpi=1000)\n",
    "except ValueError:\n",
    "    print(f\"no activities where registered\")"
   ]
  },
  {
   "cell_type": "markdown",
   "metadata": {},
   "source": [
    "# Validation of the pivot table"
   ]
  },
  {
   "cell_type": "code",
   "execution_count": 10,
   "metadata": {},
   "outputs": [],
   "source": [
    "def validation_pivot(pt):\n",
    "    if not pt.empty:\n",
    "        pt = pt.pivot_table(values='id_patient',index='username',columns='commune',aggfunc='count',fill_value=0,margins=True, margins_name='Total')\n",
    "    if pt.empty:\n",
    "        pt =  DataFrame({\"resultats\":[\"No data entry\"]})\n",
    "    return pt"
   ]
  },
  {
   "cell_type": "markdown",
   "metadata": {},
   "source": [
    "# Component 2"
   ]
  },
  {
   "cell_type": "code",
   "execution_count": 11,
   "metadata": {},
   "outputs": [
    {
     "data": {
      "text/html": [
       "<style type=\"text/css\">\n",
       "#T_333f1_row5_col11, #T_333f1_row13_col0, #T_333f1_row13_col1, #T_333f1_row13_col2, #T_333f1_row13_col3, #T_333f1_row13_col4, #T_333f1_row13_col5, #T_333f1_row13_col6, #T_333f1_row13_col7, #T_333f1_row13_col8, #T_333f1_row13_col9, #T_333f1_row13_col10, #T_333f1_row13_col11, #T_333f1_row13_col12, #T_333f1_row13_col13, #T_333f1_row13_col14, #T_333f1_row13_col15, #T_333f1_row13_col16, #T_333f1_row13_col17, #T_333f1_row13_col18, #T_333f1_row13_col19, #T_333f1_row13_col20, #T_333f1_row13_col21 {\n",
       "  background-color: yellow;\n",
       "}\n",
       "</style>\n",
       "<table id=\"T_333f1\">\n",
       "  <thead>\n",
       "    <tr>\n",
       "      <th class=\"index_name level0\" >commune</th>\n",
       "      <th id=\"T_333f1_level0_col0\" class=\"col_heading level0 col0\" >Cap-Haïtien</th>\n",
       "      <th id=\"T_333f1_level0_col1\" class=\"col_heading level0 col1\" >Carrefour</th>\n",
       "      <th id=\"T_333f1_level0_col2\" class=\"col_heading level0 col2\" >Delmas</th>\n",
       "      <th id=\"T_333f1_level0_col3\" class=\"col_heading level0 col3\" >Desdunes</th>\n",
       "      <th id=\"T_333f1_level0_col4\" class=\"col_heading level0 col4\" >Dessalines</th>\n",
       "      <th id=\"T_333f1_level0_col5\" class=\"col_heading level0 col5\" >Grande Saline</th>\n",
       "      <th id=\"T_333f1_level0_col6\" class=\"col_heading level0 col6\" >Gressier</th>\n",
       "      <th id=\"T_333f1_level0_col7\" class=\"col_heading level0 col7\" >Kenscoff</th>\n",
       "      <th id=\"T_333f1_level0_col8\" class=\"col_heading level0 col8\" >La Chapelle</th>\n",
       "      <th id=\"T_333f1_level0_col9\" class=\"col_heading level0 col9\" >Liancourt</th>\n",
       "      <th id=\"T_333f1_level0_col10\" class=\"col_heading level0 col10\" >Limonade</th>\n",
       "      <th id=\"T_333f1_level0_col11\" class=\"col_heading level0 col11\" >Milot</th>\n",
       "      <th id=\"T_333f1_level0_col12\" class=\"col_heading level0 col12\" >Montrouis</th>\n",
       "      <th id=\"T_333f1_level0_col13\" class=\"col_heading level0 col13\" >Petite Rivière de l'Artibonite</th>\n",
       "      <th id=\"T_333f1_level0_col14\" class=\"col_heading level0 col14\" >Plaine-du-Nord</th>\n",
       "      <th id=\"T_333f1_level0_col15\" class=\"col_heading level0 col15\" >Port-au-Prince</th>\n",
       "      <th id=\"T_333f1_level0_col16\" class=\"col_heading level0 col16\" >Pétionville</th>\n",
       "      <th id=\"T_333f1_level0_col17\" class=\"col_heading level0 col17\" >Quartier-Morin</th>\n",
       "      <th id=\"T_333f1_level0_col18\" class=\"col_heading level0 col18\" >Saint-Marc</th>\n",
       "      <th id=\"T_333f1_level0_col19\" class=\"col_heading level0 col19\" >Tabarre</th>\n",
       "      <th id=\"T_333f1_level0_col20\" class=\"col_heading level0 col20\" >Verrettes</th>\n",
       "      <th id=\"T_333f1_level0_col21\" class=\"col_heading level0 col21\" >Total</th>\n",
       "    </tr>\n",
       "    <tr>\n",
       "      <th class=\"index_name level0\" >username</th>\n",
       "      <th class=\"blank col0\" >&nbsp;</th>\n",
       "      <th class=\"blank col1\" >&nbsp;</th>\n",
       "      <th class=\"blank col2\" >&nbsp;</th>\n",
       "      <th class=\"blank col3\" >&nbsp;</th>\n",
       "      <th class=\"blank col4\" >&nbsp;</th>\n",
       "      <th class=\"blank col5\" >&nbsp;</th>\n",
       "      <th class=\"blank col6\" >&nbsp;</th>\n",
       "      <th class=\"blank col7\" >&nbsp;</th>\n",
       "      <th class=\"blank col8\" >&nbsp;</th>\n",
       "      <th class=\"blank col9\" >&nbsp;</th>\n",
       "      <th class=\"blank col10\" >&nbsp;</th>\n",
       "      <th class=\"blank col11\" >&nbsp;</th>\n",
       "      <th class=\"blank col12\" >&nbsp;</th>\n",
       "      <th class=\"blank col13\" >&nbsp;</th>\n",
       "      <th class=\"blank col14\" >&nbsp;</th>\n",
       "      <th class=\"blank col15\" >&nbsp;</th>\n",
       "      <th class=\"blank col16\" >&nbsp;</th>\n",
       "      <th class=\"blank col17\" >&nbsp;</th>\n",
       "      <th class=\"blank col18\" >&nbsp;</th>\n",
       "      <th class=\"blank col19\" >&nbsp;</th>\n",
       "      <th class=\"blank col20\" >&nbsp;</th>\n",
       "      <th class=\"blank col21\" >&nbsp;</th>\n",
       "    </tr>\n",
       "  </thead>\n",
       "  <tbody>\n",
       "    <tr>\n",
       "      <th id=\"T_333f1_level0_row0\" class=\"row_heading level0 row0\" >Armando</th>\n",
       "      <td id=\"T_333f1_row0_col0\" class=\"data row0 col0\" >0</td>\n",
       "      <td id=\"T_333f1_row0_col1\" class=\"data row0 col1\" >0</td>\n",
       "      <td id=\"T_333f1_row0_col2\" class=\"data row0 col2\" >0</td>\n",
       "      <td id=\"T_333f1_row0_col3\" class=\"data row0 col3\" >10</td>\n",
       "      <td id=\"T_333f1_row0_col4\" class=\"data row0 col4\" >0</td>\n",
       "      <td id=\"T_333f1_row0_col5\" class=\"data row0 col5\" >2</td>\n",
       "      <td id=\"T_333f1_row0_col6\" class=\"data row0 col6\" >53</td>\n",
       "      <td id=\"T_333f1_row0_col7\" class=\"data row0 col7\" >0</td>\n",
       "      <td id=\"T_333f1_row0_col8\" class=\"data row0 col8\" >90</td>\n",
       "      <td id=\"T_333f1_row0_col9\" class=\"data row0 col9\" >34</td>\n",
       "      <td id=\"T_333f1_row0_col10\" class=\"data row0 col10\" >0</td>\n",
       "      <td id=\"T_333f1_row0_col11\" class=\"data row0 col11\" >0</td>\n",
       "      <td id=\"T_333f1_row0_col12\" class=\"data row0 col12\" >10</td>\n",
       "      <td id=\"T_333f1_row0_col13\" class=\"data row0 col13\" >0</td>\n",
       "      <td id=\"T_333f1_row0_col14\" class=\"data row0 col14\" >0</td>\n",
       "      <td id=\"T_333f1_row0_col15\" class=\"data row0 col15\" >125</td>\n",
       "      <td id=\"T_333f1_row0_col16\" class=\"data row0 col16\" >0</td>\n",
       "      <td id=\"T_333f1_row0_col17\" class=\"data row0 col17\" >0</td>\n",
       "      <td id=\"T_333f1_row0_col18\" class=\"data row0 col18\" >49</td>\n",
       "      <td id=\"T_333f1_row0_col19\" class=\"data row0 col19\" >0</td>\n",
       "      <td id=\"T_333f1_row0_col20\" class=\"data row0 col20\" >597</td>\n",
       "      <td id=\"T_333f1_row0_col21\" class=\"data row0 col21\" >970</td>\n",
       "    </tr>\n",
       "    <tr>\n",
       "      <th id=\"T_333f1_level0_row1\" class=\"row_heading level0 row1\" >BonWoodRidchard</th>\n",
       "      <td id=\"T_333f1_row1_col0\" class=\"data row1 col0\" >20</td>\n",
       "      <td id=\"T_333f1_row1_col1\" class=\"data row1 col1\" >149</td>\n",
       "      <td id=\"T_333f1_row1_col2\" class=\"data row1 col2\" >49</td>\n",
       "      <td id=\"T_333f1_row1_col3\" class=\"data row1 col3\" >544</td>\n",
       "      <td id=\"T_333f1_row1_col4\" class=\"data row1 col4\" >0</td>\n",
       "      <td id=\"T_333f1_row1_col5\" class=\"data row1 col5\" >196</td>\n",
       "      <td id=\"T_333f1_row1_col6\" class=\"data row1 col6\" >16</td>\n",
       "      <td id=\"T_333f1_row1_col7\" class=\"data row1 col7\" >245</td>\n",
       "      <td id=\"T_333f1_row1_col8\" class=\"data row1 col8\" >40</td>\n",
       "      <td id=\"T_333f1_row1_col9\" class=\"data row1 col9\" >0</td>\n",
       "      <td id=\"T_333f1_row1_col10\" class=\"data row1 col10\" >0</td>\n",
       "      <td id=\"T_333f1_row1_col11\" class=\"data row1 col11\" >0</td>\n",
       "      <td id=\"T_333f1_row1_col12\" class=\"data row1 col12\" >86</td>\n",
       "      <td id=\"T_333f1_row1_col13\" class=\"data row1 col13\" >0</td>\n",
       "      <td id=\"T_333f1_row1_col14\" class=\"data row1 col14\" >0</td>\n",
       "      <td id=\"T_333f1_row1_col15\" class=\"data row1 col15\" >715</td>\n",
       "      <td id=\"T_333f1_row1_col16\" class=\"data row1 col16\" >312</td>\n",
       "      <td id=\"T_333f1_row1_col17\" class=\"data row1 col17\" >0</td>\n",
       "      <td id=\"T_333f1_row1_col18\" class=\"data row1 col18\" >93</td>\n",
       "      <td id=\"T_333f1_row1_col19\" class=\"data row1 col19\" >70</td>\n",
       "      <td id=\"T_333f1_row1_col20\" class=\"data row1 col20\" >0</td>\n",
       "      <td id=\"T_333f1_row1_col21\" class=\"data row1 col21\" >2535</td>\n",
       "    </tr>\n",
       "    <tr>\n",
       "      <th id=\"T_333f1_level0_row2\" class=\"row_heading level0 row2\" >Ernstbelabre</th>\n",
       "      <td id=\"T_333f1_row2_col0\" class=\"data row2 col0\" >254</td>\n",
       "      <td id=\"T_333f1_row2_col1\" class=\"data row2 col1\" >2</td>\n",
       "      <td id=\"T_333f1_row2_col2\" class=\"data row2 col2\" >0</td>\n",
       "      <td id=\"T_333f1_row2_col3\" class=\"data row2 col3\" >0</td>\n",
       "      <td id=\"T_333f1_row2_col4\" class=\"data row2 col4\" >19</td>\n",
       "      <td id=\"T_333f1_row2_col5\" class=\"data row2 col5\" >81</td>\n",
       "      <td id=\"T_333f1_row2_col6\" class=\"data row2 col6\" >9</td>\n",
       "      <td id=\"T_333f1_row2_col7\" class=\"data row2 col7\" >0</td>\n",
       "      <td id=\"T_333f1_row2_col8\" class=\"data row2 col8\" >0</td>\n",
       "      <td id=\"T_333f1_row2_col9\" class=\"data row2 col9\" >0</td>\n",
       "      <td id=\"T_333f1_row2_col10\" class=\"data row2 col10\" >136</td>\n",
       "      <td id=\"T_333f1_row2_col11\" class=\"data row2 col11\" >0</td>\n",
       "      <td id=\"T_333f1_row2_col12\" class=\"data row2 col12\" >24</td>\n",
       "      <td id=\"T_333f1_row2_col13\" class=\"data row2 col13\" >0</td>\n",
       "      <td id=\"T_333f1_row2_col14\" class=\"data row2 col14\" >138</td>\n",
       "      <td id=\"T_333f1_row2_col15\" class=\"data row2 col15\" >0</td>\n",
       "      <td id=\"T_333f1_row2_col16\" class=\"data row2 col16\" >0</td>\n",
       "      <td id=\"T_333f1_row2_col17\" class=\"data row2 col17\" >0</td>\n",
       "      <td id=\"T_333f1_row2_col18\" class=\"data row2 col18\" >118</td>\n",
       "      <td id=\"T_333f1_row2_col19\" class=\"data row2 col19\" >0</td>\n",
       "      <td id=\"T_333f1_row2_col20\" class=\"data row2 col20\" >34</td>\n",
       "      <td id=\"T_333f1_row2_col21\" class=\"data row2 col21\" >815</td>\n",
       "    </tr>\n",
       "    <tr>\n",
       "      <th id=\"T_333f1_level0_row3\" class=\"row_heading level0 row3\" >France14</th>\n",
       "      <td id=\"T_333f1_row3_col0\" class=\"data row3 col0\" >0</td>\n",
       "      <td id=\"T_333f1_row3_col1\" class=\"data row3 col1\" >0</td>\n",
       "      <td id=\"T_333f1_row3_col2\" class=\"data row3 col2\" >0</td>\n",
       "      <td id=\"T_333f1_row3_col3\" class=\"data row3 col3\" >18</td>\n",
       "      <td id=\"T_333f1_row3_col4\" class=\"data row3 col4\" >447</td>\n",
       "      <td id=\"T_333f1_row3_col5\" class=\"data row3 col5\" >0</td>\n",
       "      <td id=\"T_333f1_row3_col6\" class=\"data row3 col6\" >0</td>\n",
       "      <td id=\"T_333f1_row3_col7\" class=\"data row3 col7\" >0</td>\n",
       "      <td id=\"T_333f1_row3_col8\" class=\"data row3 col8\" >0</td>\n",
       "      <td id=\"T_333f1_row3_col9\" class=\"data row3 col9\" >0</td>\n",
       "      <td id=\"T_333f1_row3_col10\" class=\"data row3 col10\" >0</td>\n",
       "      <td id=\"T_333f1_row3_col11\" class=\"data row3 col11\" >0</td>\n",
       "      <td id=\"T_333f1_row3_col12\" class=\"data row3 col12\" >0</td>\n",
       "      <td id=\"T_333f1_row3_col13\" class=\"data row3 col13\" >0</td>\n",
       "      <td id=\"T_333f1_row3_col14\" class=\"data row3 col14\" >0</td>\n",
       "      <td id=\"T_333f1_row3_col15\" class=\"data row3 col15\" >0</td>\n",
       "      <td id=\"T_333f1_row3_col16\" class=\"data row3 col16\" >0</td>\n",
       "      <td id=\"T_333f1_row3_col17\" class=\"data row3 col17\" >0</td>\n",
       "      <td id=\"T_333f1_row3_col18\" class=\"data row3 col18\" >0</td>\n",
       "      <td id=\"T_333f1_row3_col19\" class=\"data row3 col19\" >0</td>\n",
       "      <td id=\"T_333f1_row3_col20\" class=\"data row3 col20\" >0</td>\n",
       "      <td id=\"T_333f1_row3_col21\" class=\"data row3 col21\" >465</td>\n",
       "    </tr>\n",
       "    <tr>\n",
       "      <th id=\"T_333f1_level0_row4\" class=\"row_heading level0 row4\" >FredlyEliona</th>\n",
       "      <td id=\"T_333f1_row4_col0\" class=\"data row4 col0\" >0</td>\n",
       "      <td id=\"T_333f1_row4_col1\" class=\"data row4 col1\" >96</td>\n",
       "      <td id=\"T_333f1_row4_col2\" class=\"data row4 col2\" >176</td>\n",
       "      <td id=\"T_333f1_row4_col3\" class=\"data row4 col3\" >29</td>\n",
       "      <td id=\"T_333f1_row4_col4\" class=\"data row4 col4\" >0</td>\n",
       "      <td id=\"T_333f1_row4_col5\" class=\"data row4 col5\" >17</td>\n",
       "      <td id=\"T_333f1_row4_col6\" class=\"data row4 col6\" >14</td>\n",
       "      <td id=\"T_333f1_row4_col7\" class=\"data row4 col7\" >107</td>\n",
       "      <td id=\"T_333f1_row4_col8\" class=\"data row4 col8\" >0</td>\n",
       "      <td id=\"T_333f1_row4_col9\" class=\"data row4 col9\" >0</td>\n",
       "      <td id=\"T_333f1_row4_col10\" class=\"data row4 col10\" >0</td>\n",
       "      <td id=\"T_333f1_row4_col11\" class=\"data row4 col11\" >0</td>\n",
       "      <td id=\"T_333f1_row4_col12\" class=\"data row4 col12\" >0</td>\n",
       "      <td id=\"T_333f1_row4_col13\" class=\"data row4 col13\" >173</td>\n",
       "      <td id=\"T_333f1_row4_col14\" class=\"data row4 col14\" >0</td>\n",
       "      <td id=\"T_333f1_row4_col15\" class=\"data row4 col15\" >85</td>\n",
       "      <td id=\"T_333f1_row4_col16\" class=\"data row4 col16\" >25</td>\n",
       "      <td id=\"T_333f1_row4_col17\" class=\"data row4 col17\" >0</td>\n",
       "      <td id=\"T_333f1_row4_col18\" class=\"data row4 col18\" >0</td>\n",
       "      <td id=\"T_333f1_row4_col19\" class=\"data row4 col19\" >23</td>\n",
       "      <td id=\"T_333f1_row4_col20\" class=\"data row4 col20\" >0</td>\n",
       "      <td id=\"T_333f1_row4_col21\" class=\"data row4 col21\" >745</td>\n",
       "    </tr>\n",
       "    <tr>\n",
       "      <th id=\"T_333f1_level0_row5\" class=\"row_heading level0 row5\" >billyjolicoeur</th>\n",
       "      <td id=\"T_333f1_row5_col0\" class=\"data row5 col0\" >339</td>\n",
       "      <td id=\"T_333f1_row5_col1\" class=\"data row5 col1\" >6</td>\n",
       "      <td id=\"T_333f1_row5_col2\" class=\"data row5 col2\" >0</td>\n",
       "      <td id=\"T_333f1_row5_col3\" class=\"data row5 col3\" >99</td>\n",
       "      <td id=\"T_333f1_row5_col4\" class=\"data row5 col4\" >0</td>\n",
       "      <td id=\"T_333f1_row5_col5\" class=\"data row5 col5\" >14</td>\n",
       "      <td id=\"T_333f1_row5_col6\" class=\"data row5 col6\" >49</td>\n",
       "      <td id=\"T_333f1_row5_col7\" class=\"data row5 col7\" >1312</td>\n",
       "      <td id=\"T_333f1_row5_col8\" class=\"data row5 col8\" >73</td>\n",
       "      <td id=\"T_333f1_row5_col9\" class=\"data row5 col9\" >0</td>\n",
       "      <td id=\"T_333f1_row5_col10\" class=\"data row5 col10\" >269</td>\n",
       "      <td id=\"T_333f1_row5_col11\" class=\"data row5 col11\" >30</td>\n",
       "      <td id=\"T_333f1_row5_col12\" class=\"data row5 col12\" >20</td>\n",
       "      <td id=\"T_333f1_row5_col13\" class=\"data row5 col13\" >38</td>\n",
       "      <td id=\"T_333f1_row5_col14\" class=\"data row5 col14\" >104</td>\n",
       "      <td id=\"T_333f1_row5_col15\" class=\"data row5 col15\" >38</td>\n",
       "      <td id=\"T_333f1_row5_col16\" class=\"data row5 col16\" >103</td>\n",
       "      <td id=\"T_333f1_row5_col17\" class=\"data row5 col17\" >39</td>\n",
       "      <td id=\"T_333f1_row5_col18\" class=\"data row5 col18\" >0</td>\n",
       "      <td id=\"T_333f1_row5_col19\" class=\"data row5 col19\" >148</td>\n",
       "      <td id=\"T_333f1_row5_col20\" class=\"data row5 col20\" >0</td>\n",
       "      <td id=\"T_333f1_row5_col21\" class=\"data row5 col21\" >2681</td>\n",
       "    </tr>\n",
       "    <tr>\n",
       "      <th id=\"T_333f1_level0_row6\" class=\"row_heading level0 row6\" >dchelot</th>\n",
       "      <td id=\"T_333f1_row6_col0\" class=\"data row6 col0\" >0</td>\n",
       "      <td id=\"T_333f1_row6_col1\" class=\"data row6 col1\" >0</td>\n",
       "      <td id=\"T_333f1_row6_col2\" class=\"data row6 col2\" >0</td>\n",
       "      <td id=\"T_333f1_row6_col3\" class=\"data row6 col3\" >0</td>\n",
       "      <td id=\"T_333f1_row6_col4\" class=\"data row6 col4\" >0</td>\n",
       "      <td id=\"T_333f1_row6_col5\" class=\"data row6 col5\" >0</td>\n",
       "      <td id=\"T_333f1_row6_col6\" class=\"data row6 col6\" >0</td>\n",
       "      <td id=\"T_333f1_row6_col7\" class=\"data row6 col7\" >0</td>\n",
       "      <td id=\"T_333f1_row6_col8\" class=\"data row6 col8\" >0</td>\n",
       "      <td id=\"T_333f1_row6_col9\" class=\"data row6 col9\" >25</td>\n",
       "      <td id=\"T_333f1_row6_col10\" class=\"data row6 col10\" >0</td>\n",
       "      <td id=\"T_333f1_row6_col11\" class=\"data row6 col11\" >0</td>\n",
       "      <td id=\"T_333f1_row6_col12\" class=\"data row6 col12\" >0</td>\n",
       "      <td id=\"T_333f1_row6_col13\" class=\"data row6 col13\" >0</td>\n",
       "      <td id=\"T_333f1_row6_col14\" class=\"data row6 col14\" >0</td>\n",
       "      <td id=\"T_333f1_row6_col15\" class=\"data row6 col15\" >0</td>\n",
       "      <td id=\"T_333f1_row6_col16\" class=\"data row6 col16\" >0</td>\n",
       "      <td id=\"T_333f1_row6_col17\" class=\"data row6 col17\" >0</td>\n",
       "      <td id=\"T_333f1_row6_col18\" class=\"data row6 col18\" >517</td>\n",
       "      <td id=\"T_333f1_row6_col19\" class=\"data row6 col19\" >0</td>\n",
       "      <td id=\"T_333f1_row6_col20\" class=\"data row6 col20\" >74</td>\n",
       "      <td id=\"T_333f1_row6_col21\" class=\"data row6 col21\" >616</td>\n",
       "    </tr>\n",
       "    <tr>\n",
       "      <th id=\"T_333f1_level0_row7\" class=\"row_heading level0 row7\" >despeignes</th>\n",
       "      <td id=\"T_333f1_row7_col0\" class=\"data row7 col0\" >0</td>\n",
       "      <td id=\"T_333f1_row7_col1\" class=\"data row7 col1\" >0</td>\n",
       "      <td id=\"T_333f1_row7_col2\" class=\"data row7 col2\" >0</td>\n",
       "      <td id=\"T_333f1_row7_col3\" class=\"data row7 col3\" >0</td>\n",
       "      <td id=\"T_333f1_row7_col4\" class=\"data row7 col4\" >0</td>\n",
       "      <td id=\"T_333f1_row7_col5\" class=\"data row7 col5\" >14</td>\n",
       "      <td id=\"T_333f1_row7_col6\" class=\"data row7 col6\" >0</td>\n",
       "      <td id=\"T_333f1_row7_col7\" class=\"data row7 col7\" >0</td>\n",
       "      <td id=\"T_333f1_row7_col8\" class=\"data row7 col8\" >19</td>\n",
       "      <td id=\"T_333f1_row7_col9\" class=\"data row7 col9\" >0</td>\n",
       "      <td id=\"T_333f1_row7_col10\" class=\"data row7 col10\" >0</td>\n",
       "      <td id=\"T_333f1_row7_col11\" class=\"data row7 col11\" >0</td>\n",
       "      <td id=\"T_333f1_row7_col12\" class=\"data row7 col12\" >0</td>\n",
       "      <td id=\"T_333f1_row7_col13\" class=\"data row7 col13\" >0</td>\n",
       "      <td id=\"T_333f1_row7_col14\" class=\"data row7 col14\" >0</td>\n",
       "      <td id=\"T_333f1_row7_col15\" class=\"data row7 col15\" >0</td>\n",
       "      <td id=\"T_333f1_row7_col16\" class=\"data row7 col16\" >0</td>\n",
       "      <td id=\"T_333f1_row7_col17\" class=\"data row7 col17\" >0</td>\n",
       "      <td id=\"T_333f1_row7_col18\" class=\"data row7 col18\" >3</td>\n",
       "      <td id=\"T_333f1_row7_col19\" class=\"data row7 col19\" >0</td>\n",
       "      <td id=\"T_333f1_row7_col20\" class=\"data row7 col20\" >40</td>\n",
       "      <td id=\"T_333f1_row7_col21\" class=\"data row7 col21\" >76</td>\n",
       "    </tr>\n",
       "    <tr>\n",
       "      <th id=\"T_333f1_level0_row8\" class=\"row_heading level0 row8\" >fbyron</th>\n",
       "      <td id=\"T_333f1_row8_col0\" class=\"data row8 col0\" >26</td>\n",
       "      <td id=\"T_333f1_row8_col1\" class=\"data row8 col1\" >48</td>\n",
       "      <td id=\"T_333f1_row8_col2\" class=\"data row8 col2\" >27</td>\n",
       "      <td id=\"T_333f1_row8_col3\" class=\"data row8 col3\" >49</td>\n",
       "      <td id=\"T_333f1_row8_col4\" class=\"data row8 col4\" >0</td>\n",
       "      <td id=\"T_333f1_row8_col5\" class=\"data row8 col5\" >347</td>\n",
       "      <td id=\"T_333f1_row8_col6\" class=\"data row8 col6\" >56</td>\n",
       "      <td id=\"T_333f1_row8_col7\" class=\"data row8 col7\" >54</td>\n",
       "      <td id=\"T_333f1_row8_col8\" class=\"data row8 col8\" >0</td>\n",
       "      <td id=\"T_333f1_row8_col9\" class=\"data row8 col9\" >0</td>\n",
       "      <td id=\"T_333f1_row8_col10\" class=\"data row8 col10\" >0</td>\n",
       "      <td id=\"T_333f1_row8_col11\" class=\"data row8 col11\" >0</td>\n",
       "      <td id=\"T_333f1_row8_col12\" class=\"data row8 col12\" >0</td>\n",
       "      <td id=\"T_333f1_row8_col13\" class=\"data row8 col13\" >153</td>\n",
       "      <td id=\"T_333f1_row8_col14\" class=\"data row8 col14\" >0</td>\n",
       "      <td id=\"T_333f1_row8_col15\" class=\"data row8 col15\" >126</td>\n",
       "      <td id=\"T_333f1_row8_col16\" class=\"data row8 col16\" >117</td>\n",
       "      <td id=\"T_333f1_row8_col17\" class=\"data row8 col17\" >0</td>\n",
       "      <td id=\"T_333f1_row8_col18\" class=\"data row8 col18\" >16</td>\n",
       "      <td id=\"T_333f1_row8_col19\" class=\"data row8 col19\" >80</td>\n",
       "      <td id=\"T_333f1_row8_col20\" class=\"data row8 col20\" >0</td>\n",
       "      <td id=\"T_333f1_row8_col21\" class=\"data row8 col21\" >1099</td>\n",
       "    </tr>\n",
       "    <tr>\n",
       "      <th id=\"T_333f1_level0_row9\" class=\"row_heading level0 row9\" >johanejules</th>\n",
       "      <td id=\"T_333f1_row9_col0\" class=\"data row9 col0\" >0</td>\n",
       "      <td id=\"T_333f1_row9_col1\" class=\"data row9 col1\" >0</td>\n",
       "      <td id=\"T_333f1_row9_col2\" class=\"data row9 col2\" >0</td>\n",
       "      <td id=\"T_333f1_row9_col3\" class=\"data row9 col3\" >0</td>\n",
       "      <td id=\"T_333f1_row9_col4\" class=\"data row9 col4\" >0</td>\n",
       "      <td id=\"T_333f1_row9_col5\" class=\"data row9 col5\" >0</td>\n",
       "      <td id=\"T_333f1_row9_col6\" class=\"data row9 col6\" >0</td>\n",
       "      <td id=\"T_333f1_row9_col7\" class=\"data row9 col7\" >0</td>\n",
       "      <td id=\"T_333f1_row9_col8\" class=\"data row9 col8\" >0</td>\n",
       "      <td id=\"T_333f1_row9_col9\" class=\"data row9 col9\" >0</td>\n",
       "      <td id=\"T_333f1_row9_col10\" class=\"data row9 col10\" >0</td>\n",
       "      <td id=\"T_333f1_row9_col11\" class=\"data row9 col11\" >0</td>\n",
       "      <td id=\"T_333f1_row9_col12\" class=\"data row9 col12\" >0</td>\n",
       "      <td id=\"T_333f1_row9_col13\" class=\"data row9 col13\" >0</td>\n",
       "      <td id=\"T_333f1_row9_col14\" class=\"data row9 col14\" >0</td>\n",
       "      <td id=\"T_333f1_row9_col15\" class=\"data row9 col15\" >0</td>\n",
       "      <td id=\"T_333f1_row9_col16\" class=\"data row9 col16\" >2</td>\n",
       "      <td id=\"T_333f1_row9_col17\" class=\"data row9 col17\" >0</td>\n",
       "      <td id=\"T_333f1_row9_col18\" class=\"data row9 col18\" >0</td>\n",
       "      <td id=\"T_333f1_row9_col19\" class=\"data row9 col19\" >0</td>\n",
       "      <td id=\"T_333f1_row9_col20\" class=\"data row9 col20\" >0</td>\n",
       "      <td id=\"T_333f1_row9_col21\" class=\"data row9 col21\" >2</td>\n",
       "    </tr>\n",
       "    <tr>\n",
       "      <th id=\"T_333f1_level0_row10\" class=\"row_heading level0 row10\" >mcazy</th>\n",
       "      <td id=\"T_333f1_row10_col0\" class=\"data row10 col0\" >0</td>\n",
       "      <td id=\"T_333f1_row10_col1\" class=\"data row10 col1\" >0</td>\n",
       "      <td id=\"T_333f1_row10_col2\" class=\"data row10 col2\" >0</td>\n",
       "      <td id=\"T_333f1_row10_col3\" class=\"data row10 col3\" >0</td>\n",
       "      <td id=\"T_333f1_row10_col4\" class=\"data row10 col4\" >0</td>\n",
       "      <td id=\"T_333f1_row10_col5\" class=\"data row10 col5\" >0</td>\n",
       "      <td id=\"T_333f1_row10_col6\" class=\"data row10 col6\" >0</td>\n",
       "      <td id=\"T_333f1_row10_col7\" class=\"data row10 col7\" >0</td>\n",
       "      <td id=\"T_333f1_row10_col8\" class=\"data row10 col8\" >0</td>\n",
       "      <td id=\"T_333f1_row10_col9\" class=\"data row10 col9\" >0</td>\n",
       "      <td id=\"T_333f1_row10_col10\" class=\"data row10 col10\" >0</td>\n",
       "      <td id=\"T_333f1_row10_col11\" class=\"data row10 col11\" >0</td>\n",
       "      <td id=\"T_333f1_row10_col12\" class=\"data row10 col12\" >6</td>\n",
       "      <td id=\"T_333f1_row10_col13\" class=\"data row10 col13\" >0</td>\n",
       "      <td id=\"T_333f1_row10_col14\" class=\"data row10 col14\" >0</td>\n",
       "      <td id=\"T_333f1_row10_col15\" class=\"data row10 col15\" >0</td>\n",
       "      <td id=\"T_333f1_row10_col16\" class=\"data row10 col16\" >0</td>\n",
       "      <td id=\"T_333f1_row10_col17\" class=\"data row10 col17\" >0</td>\n",
       "      <td id=\"T_333f1_row10_col18\" class=\"data row10 col18\" >0</td>\n",
       "      <td id=\"T_333f1_row10_col19\" class=\"data row10 col19\" >0</td>\n",
       "      <td id=\"T_333f1_row10_col20\" class=\"data row10 col20\" >0</td>\n",
       "      <td id=\"T_333f1_row10_col21\" class=\"data row10 col21\" >6</td>\n",
       "    </tr>\n",
       "    <tr>\n",
       "      <th id=\"T_333f1_level0_row11\" class=\"row_heading level0 row11\" >noID</th>\n",
       "      <td id=\"T_333f1_row11_col0\" class=\"data row11 col0\" >0</td>\n",
       "      <td id=\"T_333f1_row11_col1\" class=\"data row11 col1\" >0</td>\n",
       "      <td id=\"T_333f1_row11_col2\" class=\"data row11 col2\" >0</td>\n",
       "      <td id=\"T_333f1_row11_col3\" class=\"data row11 col3\" >0</td>\n",
       "      <td id=\"T_333f1_row11_col4\" class=\"data row11 col4\" >42</td>\n",
       "      <td id=\"T_333f1_row11_col5\" class=\"data row11 col5\" >0</td>\n",
       "      <td id=\"T_333f1_row11_col6\" class=\"data row11 col6\" >0</td>\n",
       "      <td id=\"T_333f1_row11_col7\" class=\"data row11 col7\" >0</td>\n",
       "      <td id=\"T_333f1_row11_col8\" class=\"data row11 col8\" >0</td>\n",
       "      <td id=\"T_333f1_row11_col9\" class=\"data row11 col9\" >0</td>\n",
       "      <td id=\"T_333f1_row11_col10\" class=\"data row11 col10\" >0</td>\n",
       "      <td id=\"T_333f1_row11_col11\" class=\"data row11 col11\" >0</td>\n",
       "      <td id=\"T_333f1_row11_col12\" class=\"data row11 col12\" >0</td>\n",
       "      <td id=\"T_333f1_row11_col13\" class=\"data row11 col13\" >0</td>\n",
       "      <td id=\"T_333f1_row11_col14\" class=\"data row11 col14\" >0</td>\n",
       "      <td id=\"T_333f1_row11_col15\" class=\"data row11 col15\" >65</td>\n",
       "      <td id=\"T_333f1_row11_col16\" class=\"data row11 col16\" >0</td>\n",
       "      <td id=\"T_333f1_row11_col17\" class=\"data row11 col17\" >0</td>\n",
       "      <td id=\"T_333f1_row11_col18\" class=\"data row11 col18\" >0</td>\n",
       "      <td id=\"T_333f1_row11_col19\" class=\"data row11 col19\" >0</td>\n",
       "      <td id=\"T_333f1_row11_col20\" class=\"data row11 col20\" >0</td>\n",
       "      <td id=\"T_333f1_row11_col21\" class=\"data row11 col21\" >107</td>\n",
       "    </tr>\n",
       "    <tr>\n",
       "      <th id=\"T_333f1_level0_row12\" class=\"row_heading level0 row12\" >pggd1234</th>\n",
       "      <td id=\"T_333f1_row12_col0\" class=\"data row12 col0\" >0</td>\n",
       "      <td id=\"T_333f1_row12_col1\" class=\"data row12 col1\" >0</td>\n",
       "      <td id=\"T_333f1_row12_col2\" class=\"data row12 col2\" >0</td>\n",
       "      <td id=\"T_333f1_row12_col3\" class=\"data row12 col3\" >27</td>\n",
       "      <td id=\"T_333f1_row12_col4\" class=\"data row12 col4\" >0</td>\n",
       "      <td id=\"T_333f1_row12_col5\" class=\"data row12 col5\" >69</td>\n",
       "      <td id=\"T_333f1_row12_col6\" class=\"data row12 col6\" >0</td>\n",
       "      <td id=\"T_333f1_row12_col7\" class=\"data row12 col7\" >0</td>\n",
       "      <td id=\"T_333f1_row12_col8\" class=\"data row12 col8\" >8</td>\n",
       "      <td id=\"T_333f1_row12_col9\" class=\"data row12 col9\" >17</td>\n",
       "      <td id=\"T_333f1_row12_col10\" class=\"data row12 col10\" >0</td>\n",
       "      <td id=\"T_333f1_row12_col11\" class=\"data row12 col11\" >0</td>\n",
       "      <td id=\"T_333f1_row12_col12\" class=\"data row12 col12\" >43</td>\n",
       "      <td id=\"T_333f1_row12_col13\" class=\"data row12 col13\" >15</td>\n",
       "      <td id=\"T_333f1_row12_col14\" class=\"data row12 col14\" >0</td>\n",
       "      <td id=\"T_333f1_row12_col15\" class=\"data row12 col15\" >5</td>\n",
       "      <td id=\"T_333f1_row12_col16\" class=\"data row12 col16\" >2</td>\n",
       "      <td id=\"T_333f1_row12_col17\" class=\"data row12 col17\" >34</td>\n",
       "      <td id=\"T_333f1_row12_col18\" class=\"data row12 col18\" >84</td>\n",
       "      <td id=\"T_333f1_row12_col19\" class=\"data row12 col19\" >0</td>\n",
       "      <td id=\"T_333f1_row12_col20\" class=\"data row12 col20\" >80</td>\n",
       "      <td id=\"T_333f1_row12_col21\" class=\"data row12 col21\" >384</td>\n",
       "    </tr>\n",
       "    <tr>\n",
       "      <th id=\"T_333f1_level0_row13\" class=\"row_heading level0 row13\" >Total</th>\n",
       "      <td id=\"T_333f1_row13_col0\" class=\"data row13 col0\" >639</td>\n",
       "      <td id=\"T_333f1_row13_col1\" class=\"data row13 col1\" >301</td>\n",
       "      <td id=\"T_333f1_row13_col2\" class=\"data row13 col2\" >252</td>\n",
       "      <td id=\"T_333f1_row13_col3\" class=\"data row13 col3\" >776</td>\n",
       "      <td id=\"T_333f1_row13_col4\" class=\"data row13 col4\" >508</td>\n",
       "      <td id=\"T_333f1_row13_col5\" class=\"data row13 col5\" >740</td>\n",
       "      <td id=\"T_333f1_row13_col6\" class=\"data row13 col6\" >197</td>\n",
       "      <td id=\"T_333f1_row13_col7\" class=\"data row13 col7\" >1718</td>\n",
       "      <td id=\"T_333f1_row13_col8\" class=\"data row13 col8\" >230</td>\n",
       "      <td id=\"T_333f1_row13_col9\" class=\"data row13 col9\" >76</td>\n",
       "      <td id=\"T_333f1_row13_col10\" class=\"data row13 col10\" >405</td>\n",
       "      <td id=\"T_333f1_row13_col11\" class=\"data row13 col11\" >30</td>\n",
       "      <td id=\"T_333f1_row13_col12\" class=\"data row13 col12\" >189</td>\n",
       "      <td id=\"T_333f1_row13_col13\" class=\"data row13 col13\" >379</td>\n",
       "      <td id=\"T_333f1_row13_col14\" class=\"data row13 col14\" >242</td>\n",
       "      <td id=\"T_333f1_row13_col15\" class=\"data row13 col15\" >1159</td>\n",
       "      <td id=\"T_333f1_row13_col16\" class=\"data row13 col16\" >561</td>\n",
       "      <td id=\"T_333f1_row13_col17\" class=\"data row13 col17\" >73</td>\n",
       "      <td id=\"T_333f1_row13_col18\" class=\"data row13 col18\" >880</td>\n",
       "      <td id=\"T_333f1_row13_col19\" class=\"data row13 col19\" >321</td>\n",
       "      <td id=\"T_333f1_row13_col20\" class=\"data row13 col20\" >825</td>\n",
       "      <td id=\"T_333f1_row13_col21\" class=\"data row13 col21\" >10501</td>\n",
       "    </tr>\n",
       "  </tbody>\n",
       "</table>\n"
      ],
      "text/plain": [
       "<pandas.io.formats.style.Styler at 0x1276b0cd0>"
      ]
     },
     "execution_count": 11,
     "metadata": {},
     "output_type": "execute_result"
    },
    {
     "name": "stdout",
     "output_type": "stream",
     "text": [
      "-----------------------------------------------------------------------------------------------------\n"
     ]
    },
    {
     "data": {
      "text/html": [
       "<style type=\"text/css\">\n",
       "#T_d76e5_row0_col1, #T_d76e5_row1_col8, #T_d76e5_row2_col0, #T_d76e5_row2_col2, #T_d76e5_row2_col3, #T_d76e5_row2_col4, #T_d76e5_row2_col5, #T_d76e5_row2_col6, #T_d76e5_row2_col7, #T_d76e5_row2_col9, #T_d76e5_row3_col0, #T_d76e5_row3_col1, #T_d76e5_row3_col2, #T_d76e5_row3_col3, #T_d76e5_row3_col4, #T_d76e5_row3_col5, #T_d76e5_row3_col6, #T_d76e5_row3_col7, #T_d76e5_row3_col8, #T_d76e5_row3_col9, #T_d76e5_row3_col10 {\n",
       "  background-color: yellow;\n",
       "}\n",
       "</style>\n",
       "<table id=\"T_d76e5\">\n",
       "  <thead>\n",
       "    <tr>\n",
       "      <th class=\"index_name level0\" >commune</th>\n",
       "      <th id=\"T_d76e5_level0_col0\" class=\"col_heading level0 col0\" >Cap-Haïtien</th>\n",
       "      <th id=\"T_d76e5_level0_col1\" class=\"col_heading level0 col1\" >Dessalines</th>\n",
       "      <th id=\"T_d76e5_level0_col2\" class=\"col_heading level0 col2\" >Grande Saline</th>\n",
       "      <th id=\"T_d76e5_level0_col3\" class=\"col_heading level0 col3\" >Gressier</th>\n",
       "      <th id=\"T_d76e5_level0_col4\" class=\"col_heading level0 col4\" >Kenscoff</th>\n",
       "      <th id=\"T_d76e5_level0_col5\" class=\"col_heading level0 col5\" >Liancourt</th>\n",
       "      <th id=\"T_d76e5_level0_col6\" class=\"col_heading level0 col6\" >Limonade</th>\n",
       "      <th id=\"T_d76e5_level0_col7\" class=\"col_heading level0 col7\" >Petite Rivière de l'Artibonite</th>\n",
       "      <th id=\"T_d76e5_level0_col8\" class=\"col_heading level0 col8\" >Pétionville</th>\n",
       "      <th id=\"T_d76e5_level0_col9\" class=\"col_heading level0 col9\" >Tabarre</th>\n",
       "      <th id=\"T_d76e5_level0_col10\" class=\"col_heading level0 col10\" >Total</th>\n",
       "    </tr>\n",
       "    <tr>\n",
       "      <th class=\"index_name level0\" >username</th>\n",
       "      <th class=\"blank col0\" >&nbsp;</th>\n",
       "      <th class=\"blank col1\" >&nbsp;</th>\n",
       "      <th class=\"blank col2\" >&nbsp;</th>\n",
       "      <th class=\"blank col3\" >&nbsp;</th>\n",
       "      <th class=\"blank col4\" >&nbsp;</th>\n",
       "      <th class=\"blank col5\" >&nbsp;</th>\n",
       "      <th class=\"blank col6\" >&nbsp;</th>\n",
       "      <th class=\"blank col7\" >&nbsp;</th>\n",
       "      <th class=\"blank col8\" >&nbsp;</th>\n",
       "      <th class=\"blank col9\" >&nbsp;</th>\n",
       "      <th class=\"blank col10\" >&nbsp;</th>\n",
       "    </tr>\n",
       "  </thead>\n",
       "  <tbody>\n",
       "    <tr>\n",
       "      <th id=\"T_d76e5_level0_row0\" class=\"row_heading level0 row0\" >France14</th>\n",
       "      <td id=\"T_d76e5_row0_col0\" class=\"data row0 col0\" >0</td>\n",
       "      <td id=\"T_d76e5_row0_col1\" class=\"data row0 col1\" >27</td>\n",
       "      <td id=\"T_d76e5_row0_col2\" class=\"data row0 col2\" >0</td>\n",
       "      <td id=\"T_d76e5_row0_col3\" class=\"data row0 col3\" >0</td>\n",
       "      <td id=\"T_d76e5_row0_col4\" class=\"data row0 col4\" >0</td>\n",
       "      <td id=\"T_d76e5_row0_col5\" class=\"data row0 col5\" >0</td>\n",
       "      <td id=\"T_d76e5_row0_col6\" class=\"data row0 col6\" >0</td>\n",
       "      <td id=\"T_d76e5_row0_col7\" class=\"data row0 col7\" >0</td>\n",
       "      <td id=\"T_d76e5_row0_col8\" class=\"data row0 col8\" >0</td>\n",
       "      <td id=\"T_d76e5_row0_col9\" class=\"data row0 col9\" >0</td>\n",
       "      <td id=\"T_d76e5_row0_col10\" class=\"data row0 col10\" >27</td>\n",
       "    </tr>\n",
       "    <tr>\n",
       "      <th id=\"T_d76e5_level0_row1\" class=\"row_heading level0 row1\" >billyjolicoeur</th>\n",
       "      <td id=\"T_d76e5_row1_col0\" class=\"data row1 col0\" >0</td>\n",
       "      <td id=\"T_d76e5_row1_col1\" class=\"data row1 col1\" >0</td>\n",
       "      <td id=\"T_d76e5_row1_col2\" class=\"data row1 col2\" >0</td>\n",
       "      <td id=\"T_d76e5_row1_col3\" class=\"data row1 col3\" >0</td>\n",
       "      <td id=\"T_d76e5_row1_col4\" class=\"data row1 col4\" >0</td>\n",
       "      <td id=\"T_d76e5_row1_col5\" class=\"data row1 col5\" >0</td>\n",
       "      <td id=\"T_d76e5_row1_col6\" class=\"data row1 col6\" >0</td>\n",
       "      <td id=\"T_d76e5_row1_col7\" class=\"data row1 col7\" >0</td>\n",
       "      <td id=\"T_d76e5_row1_col8\" class=\"data row1 col8\" >8</td>\n",
       "      <td id=\"T_d76e5_row1_col9\" class=\"data row1 col9\" >0</td>\n",
       "      <td id=\"T_d76e5_row1_col10\" class=\"data row1 col10\" >8</td>\n",
       "    </tr>\n",
       "    <tr>\n",
       "      <th id=\"T_d76e5_level0_row2\" class=\"row_heading level0 row2\" >fbyron</th>\n",
       "      <td id=\"T_d76e5_row2_col0\" class=\"data row2 col0\" >26</td>\n",
       "      <td id=\"T_d76e5_row2_col1\" class=\"data row2 col1\" >0</td>\n",
       "      <td id=\"T_d76e5_row2_col2\" class=\"data row2 col2\" >9</td>\n",
       "      <td id=\"T_d76e5_row2_col3\" class=\"data row2 col3\" >11</td>\n",
       "      <td id=\"T_d76e5_row2_col4\" class=\"data row2 col4\" >33</td>\n",
       "      <td id=\"T_d76e5_row2_col5\" class=\"data row2 col5\" >10</td>\n",
       "      <td id=\"T_d76e5_row2_col6\" class=\"data row2 col6\" >5</td>\n",
       "      <td id=\"T_d76e5_row2_col7\" class=\"data row2 col7\" >7</td>\n",
       "      <td id=\"T_d76e5_row2_col8\" class=\"data row2 col8\" >0</td>\n",
       "      <td id=\"T_d76e5_row2_col9\" class=\"data row2 col9\" >14</td>\n",
       "      <td id=\"T_d76e5_row2_col10\" class=\"data row2 col10\" >115</td>\n",
       "    </tr>\n",
       "    <tr>\n",
       "      <th id=\"T_d76e5_level0_row3\" class=\"row_heading level0 row3\" >Total</th>\n",
       "      <td id=\"T_d76e5_row3_col0\" class=\"data row3 col0\" >26</td>\n",
       "      <td id=\"T_d76e5_row3_col1\" class=\"data row3 col1\" >27</td>\n",
       "      <td id=\"T_d76e5_row3_col2\" class=\"data row3 col2\" >9</td>\n",
       "      <td id=\"T_d76e5_row3_col3\" class=\"data row3 col3\" >11</td>\n",
       "      <td id=\"T_d76e5_row3_col4\" class=\"data row3 col4\" >33</td>\n",
       "      <td id=\"T_d76e5_row3_col5\" class=\"data row3 col5\" >10</td>\n",
       "      <td id=\"T_d76e5_row3_col6\" class=\"data row3 col6\" >5</td>\n",
       "      <td id=\"T_d76e5_row3_col7\" class=\"data row3 col7\" >7</td>\n",
       "      <td id=\"T_d76e5_row3_col8\" class=\"data row3 col8\" >8</td>\n",
       "      <td id=\"T_d76e5_row3_col9\" class=\"data row3 col9\" >14</td>\n",
       "      <td id=\"T_d76e5_row3_col10\" class=\"data row3 col10\" >150</td>\n",
       "    </tr>\n",
       "  </tbody>\n",
       "</table>\n"
      ],
      "text/plain": [
       "<pandas.io.formats.style.Styler at 0x128388070>"
      ]
     },
     "execution_count": 11,
     "metadata": {},
     "output_type": "execute_result"
    },
    {
     "name": "stderr",
     "output_type": "stream",
     "text": [
      "/usr/local/lib/python3.10/site-packages/dataframe_image/_pandas_accessor.py:69: FutureWarning: this method is deprecated in favour of `Styler.to_html()`\n",
      "  html = '<div>' + obj.render() + '</div>'\n",
      "[0324/091004.332917:INFO:headless_shell.cc(659)] Written to file /var/folders/7v/rs0k237d6nj3vdxfc1h7xtcw0000gn/T/tmppzhd5v_j/temp.png.\n",
      "[0324/091006.904025:INFO:headless_shell.cc(659)] Written to file /var/folders/7v/rs0k237d6nj3vdxfc1h7xtcw0000gn/T/tmpl8x5hp2i/temp.png.\n",
      "[0324/091011.660620:INFO:headless_shell.cc(659)] Written to file /var/folders/7v/rs0k237d6nj3vdxfc1h7xtcw0000gn/T/tmpqyom2vnl/temp.png.\n",
      "[0324/091015.008954:INFO:headless_shell.cc(659)] Written to file /var/folders/7v/rs0k237d6nj3vdxfc1h7xtcw0000gn/T/tmp9u79whwl/temp.png.\n"
     ]
    }
   ],
   "source": [
    "options.display.latex.repr = True\n",
    "\n",
    "#ben_table = ben_byAgent.pivot_table(values='id_patient',index='username',columns='commune',aggfunc='count',fill_value=0,margins=True, margins_name='Total')\n",
    "ben_table = validation_pivot(ben_byAgent)\n",
    "ben_table = ben_table.style.highlight_max()\n",
    "ben_table\n",
    "\n",
    "print('-----------------------------------------------------------------------------------------------------')\n",
    "\n",
    "#parenting_table = parenting_byAgent.pivot_table(values='id_patient',index='username',columns='commune',aggfunc='count',fill_value=0,margins=True, margins_name='Total')\n",
    "parenting_table = validation_pivot(parenting_byAgent)\n",
    "parenting_table = parenting_table.style.highlight_max()\n",
    "parenting_table\n",
    "\n",
    "export(ben_table,'ben_table.png')\n",
    "export(parenting_table,'parenting_table.png')"
   ]
  },
  {
   "cell_type": "markdown",
   "metadata": {},
   "source": [
    "# 3 component "
   ]
  },
  {
   "cell_type": "code",
   "execution_count": 12,
   "metadata": {},
   "outputs": [
    {
     "data": {
      "text/html": [
       "<style type=\"text/css\">\n",
       "#T_44b72_row0_col0, #T_44b72_row0_col1 {\n",
       "  background-color: yellow;\n",
       "}\n",
       "</style>\n",
       "<table id=\"T_44b72\">\n",
       "  <thead>\n",
       "    <tr>\n",
       "      <th class=\"blank level0\" >&nbsp;</th>\n",
       "      <th id=\"T_44b72_level0_col0\" class=\"col_heading level0 col0\" >Nombre de fille</th>\n",
       "      <th id=\"T_44b72_level0_col1\" class=\"col_heading level0 col1\" >Nombre de presence</th>\n",
       "    </tr>\n",
       "  </thead>\n",
       "  <tbody>\n",
       "    <tr>\n",
       "      <th id=\"T_44b72_level0_row0\" class=\"row_heading level0 row0\" >0</th>\n",
       "      <td id=\"T_44b72_row0_col0\" class=\"data row0 col0\" >10501</td>\n",
       "      <td id=\"T_44b72_row0_col1\" class=\"data row0 col1\" >145767</td>\n",
       "    </tr>\n",
       "  </tbody>\n",
       "</table>\n"
      ],
      "text/plain": [
       "<pandas.io.formats.style.Styler at 0x1276b0580>"
      ]
     },
     "execution_count": 12,
     "metadata": {},
     "output_type": "execute_result"
    },
    {
     "name": "stdout",
     "output_type": "stream",
     "text": [
      "-----------------------------------------------------------------------\n"
     ]
    },
    {
     "data": {
      "text/html": [
       "<style type=\"text/css\">\n",
       "#T_53be6_row0_col0, #T_53be6_row0_col1 {\n",
       "  background-color: yellow;\n",
       "}\n",
       "</style>\n",
       "<table id=\"T_53be6\">\n",
       "  <thead>\n",
       "    <tr>\n",
       "      <th class=\"blank level0\" >&nbsp;</th>\n",
       "      <th id=\"T_53be6_level0_col0\" class=\"col_heading level0 col0\" >Nombre de fille/parent parenting</th>\n",
       "      <th id=\"T_53be6_level0_col1\" class=\"col_heading level0 col1\" >Nombre de presence</th>\n",
       "    </tr>\n",
       "  </thead>\n",
       "  <tbody>\n",
       "    <tr>\n",
       "      <th id=\"T_53be6_level0_row0\" class=\"row_heading level0 row0\" >0</th>\n",
       "      <td id=\"T_53be6_row0_col0\" class=\"data row0 col0\" >150</td>\n",
       "      <td id=\"T_53be6_row0_col1\" class=\"data row0 col1\" >939</td>\n",
       "    </tr>\n",
       "  </tbody>\n",
       "</table>\n"
      ],
      "text/plain": [
       "<pandas.io.formats.style.Styler at 0x1283db2b0>"
      ]
     },
     "execution_count": 12,
     "metadata": {},
     "output_type": "execute_result"
    },
    {
     "name": "stderr",
     "output_type": "stream",
     "text": [
      "[0324/091018.927582:INFO:headless_shell.cc(659)] Written to file /var/folders/7v/rs0k237d6nj3vdxfc1h7xtcw0000gn/T/tmp8lluhlab/temp.png.\n",
      "[0324/091021.074435:INFO:headless_shell.cc(659)] Written to file /var/folders/7v/rs0k237d6nj3vdxfc1h7xtcw0000gn/T/tmpgi9s2jjq/temp.png.\n"
     ]
    }
   ],
   "source": [
    "options.display.latex.repr = True\n",
    "\n",
    "curriculum_result = DataFrame(\n",
    "    [\n",
    "        {'Nombre de fille': ben_byAgent.id_patient.count(),\n",
    "        'Nombre de presence': pres_byAgent.nombre_pres.sum()}\n",
    "    ]\n",
    ")\n",
    "curriculum_result.style.highlight_max()\n",
    "\n",
    "print('-----------------------------------------------------------------------')\n",
    "\n",
    "parenting_result = DataFrame(\n",
    "    [\n",
    "        {'Nombre de fille/parent parenting': parenting_byAgent.id_patient.count(),\n",
    "        'Nombre de presence': pres_parenting.nombre_pres.sum()}\n",
    "    ]\n",
    ")\n",
    "parenting_result.style.highlight_max()\n",
    "\n",
    "export(curriculum_result,'curriculum_result.png')\n",
    "export(parenting_result,'parenting_result.png')"
   ]
  },
  {
   "cell_type": "markdown",
   "metadata": {},
   "source": [
    "# Report"
   ]
  },
  {
   "cell_type": "code",
   "execution_count": 13,
   "metadata": {},
   "outputs": [],
   "source": [
    "all_report = ExcelWriter(f\"rapport_performance.xlsx\",engine=\"openpyxl\")\n",
    "curriculum_result.to_excel(all_report,sheet_name=\"resultat_curriculum\",index=False,na_rep=\"\")\n",
    "pres_byAgent.to_excel(all_report,sheet_name=\"presence_agent_curriculum\",index=False,na_rep=\"\")\n",
    "ben_table.to_excel(all_report,sheet_name=\"ben_communes_curriculum\",index=True,na_rep=\"\")\n",
    "parenting_result.to_excel(all_report,sheet_name=\"resultat_parenting\",index=False,na_rep=\"\")\n",
    "pres_parenting.to_excel(all_report,sheet_name=\"pres_agent_parenting\",index=False,na_rep=\"\")\n",
    "parenting_table.to_excel(all_report,sheet_name=\"ben_communes_parenting\",index=True,na_rep=\"\")\n",
    "all_report.save() "
   ]
  },
  {
   "cell_type": "code",
   "execution_count": null,
   "metadata": {},
   "outputs": [],
   "source": []
  }
 ],
 "metadata": {
  "interpreter": {
   "hash": "4534460e0bdca1b390927d45471088fb3501d39abc4e3f2cee293892e17d7fc6"
  },
  "kernelspec": {
   "display_name": "Python 3.9.7 64-bit",
   "language": "python",
   "name": "python3"
  },
  "language_info": {
   "codemirror_mode": {
    "name": "ipython",
    "version": 3
   },
   "file_extension": ".py",
   "mimetype": "text/x-python",
   "name": "python",
   "nbconvert_exporter": "python",
   "pygments_lexer": "ipython3",
   "version": "3.10.2"
  },
  "orig_nbformat": 4
 },
 "nbformat": 4,
 "nbformat_minor": 2
}
