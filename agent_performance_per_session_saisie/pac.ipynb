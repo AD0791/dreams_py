{
 "cells": [
  {
   "cell_type": "code",
   "execution_count": 1,
   "metadata": {},
   "outputs": [],
   "source": [
    "import os\n",
    "from datetime import datetime\n",
    "#from datetime import date\n",
    "import pymysql\n",
    "from sqlalchemy import create_engine\n",
    "from decouple import config \n",
    "from dotenv import load_dotenv\n",
    "import pandas as pd\n",
    "import numpy as np\n",
    "from enum import Enum\n",
    "\n",
    "\n",
    "from IPython.core.interactiveshell import InteractiveShell\n",
    "InteractiveShell.ast_node_interactivity = \"all\""
   ]
  },
  {
   "cell_type": "code",
   "execution_count": 2,
   "metadata": {},
   "outputs": [
    {
     "data": {
      "text/plain": [
       "True"
      ]
     },
     "execution_count": 2,
     "metadata": {},
     "output_type": "execute_result"
    }
   ],
   "source": [
    "load_dotenv()\n",
    "# get the environment variables needed\n",
    "USER = config('USRCaris')\n",
    "PASSWORD = config('PASSCaris')\n",
    "HOSTNAME = config('HOSTCaris')\n",
    "DBNAME = config('DBCaris')\n",
    "\n",
    "# get the engine to connect and fetch\n",
    "engine = create_engine(\n",
    "    f\"mysql+pymysql://{USER}:{PASSWORD}@{HOSTNAME}/{DBNAME}\")\n",
    "query = '''\n",
    "SELECT \n",
    "    p.patient_code,\n",
    "    b.first_name,\n",
    "    b.last_name,\n",
    "    b.dob,\n",
    "    dsd.a1_dat_entvyou_a_ft_jjmmaa_egz_010817 AS interview_date,\n",
    "    dgs.date AS session_date,\n",
    "    dg.name AS group_name,\n",
    "    dh.name AS hub_name,\n",
    "    lc.name AS hub_commune,\n",
    "    ld.name AS hub_departement,\n",
    "    dsd.f_komin AS interview_commune,\n",
    "    ldt.name AS topic,\n",
    "    au.email as created_by,\n",
    "    au.username,\n",
    "    dgs.created_at as date_session_were_entered\n",
    "FROM\n",
    "    caris_db.dream_group_attendance dga\n",
    "        LEFT JOIN\n",
    "    dream_member dm ON dm.id_patient = dga.id_patient\n",
    "        LEFT JOIN\n",
    "    dreams_surveys_data dsd ON dsd.case_id = dm.case_id\n",
    "        LEFT JOIN\n",
    "    dream_group_session dgs ON dgs.id = dga.id_group_session\n",
    "        LEFT JOIN\n",
    "    dream_group dg ON dg.id = dgs.id_group\n",
    "        LEFT JOIN\n",
    "    dream_hub dh ON dh.id = dg.id_dream_hub\n",
    "        LEFT JOIN\n",
    "    lookup_commune lc ON lc.id = dh.commune\n",
    "        LEFT JOIN\n",
    "    lookup_departement ld ON ld.id = lc.departement\n",
    "        LEFT JOIN\n",
    "    lookup_dreams_topic ldt ON ldt.id = dgs.topic\n",
    "        LEFT JOIN\n",
    "    patient p ON p.id = dga.id_patient\n",
    "        LEFT JOIN\n",
    "    beneficiary b ON b.id_patient = dga.id_patient\n",
    "        left join \n",
    "            auth_users au  on au.id=dgs.created_by\n",
    "WHERE\n",
    "    dga.value = 'P'\n",
    "'''\n",
    "\n",
    "evaluation_performance_attendance = pd.read_sql_query(query, engine, parse_dates=True)\n",
    "\n",
    "\n",
    "# close the pool of connection\n",
    "engine.dispose()\n"
   ]
  },
  {
   "cell_type": "code",
   "execution_count": 3,
   "metadata": {},
   "outputs": [],
   "source": [
    "## get the test excel file from Query (au besoin de verification)\n",
    "#evaluation_performance_attendance.to_excel('epa.xlsx',index=False,na_rep=\"NULL\")"
   ]
  },
  {
   "cell_type": "markdown",
   "metadata": {
    "tags": []
   },
   "source": [
    "## Duplication aspect"
   ]
  },
  {
   "cell_type": "code",
   "execution_count": 4,
   "metadata": {},
   "outputs": [
    {
     "data": {
      "text/plain": [
       "patient_code                         object\n",
       "first_name                           object\n",
       "last_name                            object\n",
       "dob                                  object\n",
       "interview_date                       object\n",
       "session_date                         object\n",
       "group_name                           object\n",
       "hub_name                             object\n",
       "hub_commune                          object\n",
       "hub_departement                      object\n",
       "interview_commune                    object\n",
       "topic                                object\n",
       "created_by                           object\n",
       "username                             object\n",
       "date_session_were_entered    datetime64[ns]\n",
       "dtype: object"
      ]
     },
     "execution_count": 4,
     "metadata": {},
     "output_type": "execute_result"
    }
   ],
   "source": [
    "evaluation_performance_attendance.dtypes"
   ]
  },
  {
   "cell_type": "code",
   "execution_count": 5,
   "metadata": {},
   "outputs": [],
   "source": [
    "epa_deduplicate = evaluation_performance_attendance.drop_duplicates(subset=['patient_code'])"
   ]
  },
  {
   "cell_type": "code",
   "execution_count": 6,
   "metadata": {},
   "outputs": [
    {
     "data": {
      "text/plain": [
       "(624669, 15)"
      ]
     },
     "execution_count": 6,
     "metadata": {},
     "output_type": "execute_result"
    },
    {
     "data": {
      "text/plain": [
       "(31436, 15)"
      ]
     },
     "execution_count": 6,
     "metadata": {},
     "output_type": "execute_result"
    }
   ],
   "source": [
    "evaluation_performance_attendance.shape\n",
    "epa_deduplicate.shape"
   ]
  },
  {
   "cell_type": "markdown",
   "metadata": {},
   "source": [
    "## Period of control aspect"
   ]
  },
  {
   "cell_type": "code",
   "execution_count": 7,
   "metadata": {},
   "outputs": [],
   "source": [
    "class Constante(Enum):\n",
    "    march_1_2021 = '2021-03-01'\n",
    "    specific = \"2021-10-14\"\n",
    "    workbook = \"rapport_agents_saisie_des_sessions_13Octobre2021.xlsx\""
   ]
  },
  {
   "cell_type": "code",
   "execution_count": 8,
   "metadata": {},
   "outputs": [],
   "source": [
    "presencesaisie_startmars_endnow = evaluation_performance_attendance[evaluation_performance_attendance[\"date_session_were_entered\"]>=Constante.march_1_2021.value]\n",
    "presencesaisie_specific = evaluation_performance_attendance[evaluation_performance_attendance[\"date_session_were_entered\"]>=Constante.specific.value] \n",
    "epa_startmars_endnow= epa_deduplicate[epa_deduplicate['date_session_were_entered']>=Constante.march_1_2021.value]"
   ]
  },
  {
   "cell_type": "code",
   "execution_count": 9,
   "metadata": {},
   "outputs": [
    {
     "data": {
      "text/plain": [
       "(303080, 15)"
      ]
     },
     "execution_count": 9,
     "metadata": {},
     "output_type": "execute_result"
    },
    {
     "data": {
      "text/plain": [
       "(6305, 15)"
      ]
     },
     "execution_count": 9,
     "metadata": {},
     "output_type": "execute_result"
    },
    {
     "data": {
      "text/plain": [
       "(13290, 15)"
      ]
     },
     "execution_count": 9,
     "metadata": {},
     "output_type": "execute_result"
    }
   ],
   "source": [
    "presencesaisie_startmars_endnow.shape\n",
    "presencesaisie_specific.shape\n",
    "epa_startmars_endnow.shape"
   ]
  },
  {
   "cell_type": "markdown",
   "metadata": {},
   "source": [
    "## Count by agents in descending order"
   ]
  },
  {
   "cell_type": "code",
   "execution_count": 10,
   "metadata": {},
   "outputs": [],
   "source": [
    "performance_session_global  = epa_startmars_endnow.groupby(['created_by']).count()\n",
    "presence_global = presencesaisie_startmars_endnow.groupby(['created_by']).count()\n",
    "presence_specific = presencesaisie_specific.groupby(['created_by']).count()"
   ]
  },
  {
   "cell_type": "code",
   "execution_count": 11,
   "metadata": {},
   "outputs": [],
   "source": [
    "performance_session_global.sort_values(ascending=False, by='patient_code',inplace=True)\n",
    "presence_global.sort_values(ascending=False, by='patient_code',inplace=True)\n",
    "presence_specific.sort_values(ascending=False, by='patient_code',inplace=True)\n"
   ]
  },
  {
   "cell_type": "code",
   "execution_count": 12,
   "metadata": {},
   "outputs": [
    {
     "data": {
      "text/html": [
       "<div>\n",
       "<style scoped>\n",
       "    .dataframe tbody tr th:only-of-type {\n",
       "        vertical-align: middle;\n",
       "    }\n",
       "\n",
       "    .dataframe tbody tr th {\n",
       "        vertical-align: top;\n",
       "    }\n",
       "\n",
       "    .dataframe thead th {\n",
       "        text-align: right;\n",
       "    }\n",
       "</style>\n",
       "<table border=\"1\" class=\"dataframe\">\n",
       "  <thead>\n",
       "    <tr style=\"text-align: right;\">\n",
       "      <th></th>\n",
       "      <th>nombre_de_filles</th>\n",
       "      <th>nombre_de_presence_saisie_depuis_le_2021-03-01</th>\n",
       "      <th>nombre_de_presence_saisie_au_2021-10-14</th>\n",
       "    </tr>\n",
       "    <tr>\n",
       "      <th>created_by</th>\n",
       "      <th></th>\n",
       "      <th></th>\n",
       "      <th></th>\n",
       "    </tr>\n",
       "  </thead>\n",
       "  <tbody>\n",
       "    <tr>\n",
       "      <th>billyjolicoeur95@gmail.com</th>\n",
       "      <td>3849</td>\n",
       "      <td>67197</td>\n",
       "      <td>0.0</td>\n",
       "    </tr>\n",
       "    <tr>\n",
       "      <th>blonnichel@yahoo.fr</th>\n",
       "      <td>1331</td>\n",
       "      <td>20282</td>\n",
       "      <td>0.0</td>\n",
       "    </tr>\n",
       "    <tr>\n",
       "      <th>byronfabrice9@gmail.com</th>\n",
       "      <td>1825</td>\n",
       "      <td>30795</td>\n",
       "      <td>0.0</td>\n",
       "    </tr>\n",
       "    <tr>\n",
       "      <th>coldina2020@gmail.com</th>\n",
       "      <td>30</td>\n",
       "      <td>1848</td>\n",
       "      <td>0.0</td>\n",
       "    </tr>\n",
       "    <tr>\n",
       "      <th>diegoarmando.dorlean@carisfoundationintl.org</th>\n",
       "      <td>427</td>\n",
       "      <td>47295</td>\n",
       "      <td>2741.0</td>\n",
       "    </tr>\n",
       "    <tr>\n",
       "      <th>elionafredly7@gmail.com</th>\n",
       "      <td>1752</td>\n",
       "      <td>36434</td>\n",
       "      <td>0.0</td>\n",
       "    </tr>\n",
       "    <tr>\n",
       "      <th>ernst.belabre@carisfoundationintl.org</th>\n",
       "      <td>1493</td>\n",
       "      <td>31799</td>\n",
       "      <td>2252.0</td>\n",
       "    </tr>\n",
       "    <tr>\n",
       "      <th>francenelstjean.saed@yahoo.com</th>\n",
       "      <td>629</td>\n",
       "      <td>10095</td>\n",
       "      <td>0.0</td>\n",
       "    </tr>\n",
       "    <tr>\n",
       "      <th>gerald.poteau@carisfoundationintl.org</th>\n",
       "      <td>456</td>\n",
       "      <td>19453</td>\n",
       "      <td>1312.0</td>\n",
       "    </tr>\n",
       "    <tr>\n",
       "      <th>jhonip77@yahoo.fr</th>\n",
       "      <td>249</td>\n",
       "      <td>4984</td>\n",
       "      <td>0.0</td>\n",
       "    </tr>\n",
       "    <tr>\n",
       "      <th>johane.jules@carisfoundationintl.org</th>\n",
       "      <td>5</td>\n",
       "      <td>718</td>\n",
       "      <td>0.0</td>\n",
       "    </tr>\n",
       "    <tr>\n",
       "      <th>mdaniel.cazy@carisfoundationintl.org</th>\n",
       "      <td>88</td>\n",
       "      <td>7203</td>\n",
       "      <td>0.0</td>\n",
       "    </tr>\n",
       "    <tr>\n",
       "      <th>roselord.despeignes@carisfoundationintl.org</th>\n",
       "      <td>177</td>\n",
       "      <td>1968</td>\n",
       "      <td>0.0</td>\n",
       "    </tr>\n",
       "    <tr>\n",
       "      <th>twoody103@gmail.com</th>\n",
       "      <td>924</td>\n",
       "      <td>17535</td>\n",
       "      <td>0.0</td>\n",
       "    </tr>\n",
       "    <tr>\n",
       "      <th>yvelise.merilan@carisfoundationintl.org</th>\n",
       "      <td>55</td>\n",
       "      <td>5474</td>\n",
       "      <td>0.0</td>\n",
       "    </tr>\n",
       "  </tbody>\n",
       "</table>\n",
       "</div>"
      ],
      "text/plain": [
       "                                              nombre_de_filles  \\\n",
       "created_by                                                       \n",
       "billyjolicoeur95@gmail.com                                3849   \n",
       "blonnichel@yahoo.fr                                       1331   \n",
       "byronfabrice9@gmail.com                                   1825   \n",
       "coldina2020@gmail.com                                       30   \n",
       "diegoarmando.dorlean@carisfoundationintl.org               427   \n",
       "elionafredly7@gmail.com                                   1752   \n",
       "ernst.belabre@carisfoundationintl.org                     1493   \n",
       "francenelstjean.saed@yahoo.com                             629   \n",
       "gerald.poteau@carisfoundationintl.org                      456   \n",
       "jhonip77@yahoo.fr                                          249   \n",
       "johane.jules@carisfoundationintl.org                         5   \n",
       "mdaniel.cazy@carisfoundationintl.org                        88   \n",
       "roselord.despeignes@carisfoundationintl.org                177   \n",
       "twoody103@gmail.com                                        924   \n",
       "yvelise.merilan@carisfoundationintl.org                     55   \n",
       "\n",
       "                                              nombre_de_presence_saisie_depuis_le_2021-03-01  \\\n",
       "created_by                                                                                     \n",
       "billyjolicoeur95@gmail.com                                                             67197   \n",
       "blonnichel@yahoo.fr                                                                    20282   \n",
       "byronfabrice9@gmail.com                                                                30795   \n",
       "coldina2020@gmail.com                                                                   1848   \n",
       "diegoarmando.dorlean@carisfoundationintl.org                                           47295   \n",
       "elionafredly7@gmail.com                                                                36434   \n",
       "ernst.belabre@carisfoundationintl.org                                                  31799   \n",
       "francenelstjean.saed@yahoo.com                                                         10095   \n",
       "gerald.poteau@carisfoundationintl.org                                                  19453   \n",
       "jhonip77@yahoo.fr                                                                       4984   \n",
       "johane.jules@carisfoundationintl.org                                                     718   \n",
       "mdaniel.cazy@carisfoundationintl.org                                                    7203   \n",
       "roselord.despeignes@carisfoundationintl.org                                             1968   \n",
       "twoody103@gmail.com                                                                    17535   \n",
       "yvelise.merilan@carisfoundationintl.org                                                 5474   \n",
       "\n",
       "                                              nombre_de_presence_saisie_au_2021-10-14  \n",
       "created_by                                                                             \n",
       "billyjolicoeur95@gmail.com                                                        0.0  \n",
       "blonnichel@yahoo.fr                                                               0.0  \n",
       "byronfabrice9@gmail.com                                                           0.0  \n",
       "coldina2020@gmail.com                                                             0.0  \n",
       "diegoarmando.dorlean@carisfoundationintl.org                                   2741.0  \n",
       "elionafredly7@gmail.com                                                           0.0  \n",
       "ernst.belabre@carisfoundationintl.org                                          2252.0  \n",
       "francenelstjean.saed@yahoo.com                                                    0.0  \n",
       "gerald.poteau@carisfoundationintl.org                                          1312.0  \n",
       "jhonip77@yahoo.fr                                                                 0.0  \n",
       "johane.jules@carisfoundationintl.org                                              0.0  \n",
       "mdaniel.cazy@carisfoundationintl.org                                              0.0  \n",
       "roselord.despeignes@carisfoundationintl.org                                       0.0  \n",
       "twoody103@gmail.com                                                               0.0  \n",
       "yvelise.merilan@carisfoundationintl.org                                           0.0  "
      ]
     },
     "execution_count": 12,
     "metadata": {},
     "output_type": "execute_result"
    }
   ],
   "source": [
    "performance_session  = pd.DataFrame( {\"nombre_de_filles\": performance_session_global['patient_code'], f\"nombre_de_presence_saisie_depuis_le_{Constante.march_1_2021.value}\":presence_global[\"patient_code\"],\n",
    "                                      f\"nombre_de_presence_saisie_au_{Constante.specific.value}\":presence_specific[\"patient_code\"]})\n",
    "performance_session.fillna(0,inplace=True)\n",
    "performance_session"
   ]
  },
  {
   "cell_type": "markdown",
   "metadata": {},
   "source": [
    "## MODIFY BELOW TO GET THE DIFFERENCE GIVEN LAST WEEK"
   ]
  },
  {
   "cell_type": "code",
   "execution_count": 13,
   "metadata": {},
   "outputs": [
    {
     "name": "stderr",
     "output_type": "stream",
     "text": [
      "<ipython-input-13-592847cd28f5>:4: UserWarning: Pandas doesn't allow columns to be created via a new attribute name - see https://pandas.pydata.org/pandas-docs/stable/indexing.html#attribute-access\n",
      "  performance_session.nombre_de_filles_saisie_par_rapport_a_la_semaine_derniere = performance_session.nombre_de_filles_saisie_par_rapport_a_periode_precedente.astype(\"int16\")\n"
     ]
    }
   ],
   "source": [
    "week_before_perf = pd.read_excel(Constante.workbook.value, sheet_name=\"filles_saisies_global\", index_col=\"created_by\")\n",
    "performance_session[\"nombre_de_filles_saisie_par_rapport_a_periode_precedente\"] =  performance_session[\"nombre_de_filles\"] - week_before_perf[\"nombre_de_filles\"]\n",
    "performance_session.fillna(0.0,inplace=True)\n",
    "performance_session.nombre_de_filles_saisie_par_rapport_a_la_semaine_derniere = performance_session.nombre_de_filles_saisie_par_rapport_a_periode_precedente.astype(\"int16\")\n",
    "performance_session.nombre_de_filles_saisie_par_rapport_a_periode_precedente = performance_session.nombre_de_filles_saisie_par_rapport_a_periode_precedente.astype(\"int16\")\n",
    "performance_session[f\"nombre_de_presence_saisie_au_{Constante.specific.value}\"] = performance_session[f\"nombre_de_presence_saisie_au_{Constante.specific.value}\"].astype('int16')"
   ]
  },
  {
   "cell_type": "code",
   "execution_count": 14,
   "metadata": {},
   "outputs": [],
   "source": [
    "columns_performance_session = performance_session.columns.sort_values().tolist()\n",
    "performance_session = performance_session.reindex(columns=columns_performance_session)"
   ]
  },
  {
   "cell_type": "code",
   "execution_count": 15,
   "metadata": {},
   "outputs": [],
   "source": [
    "performance_session.drop(columns=[\"nombre_de_presence_saisie_depuis_le_2021-03-01\"], inplace=True)"
   ]
  },
  {
   "cell_type": "code",
   "execution_count": 16,
   "metadata": {},
   "outputs": [
    {
     "data": {
      "text/html": [
       "<div>\n",
       "<style scoped>\n",
       "    .dataframe tbody tr th:only-of-type {\n",
       "        vertical-align: middle;\n",
       "    }\n",
       "\n",
       "    .dataframe tbody tr th {\n",
       "        vertical-align: top;\n",
       "    }\n",
       "\n",
       "    .dataframe thead th {\n",
       "        text-align: right;\n",
       "    }\n",
       "</style>\n",
       "<table border=\"1\" class=\"dataframe\">\n",
       "  <thead>\n",
       "    <tr style=\"text-align: right;\">\n",
       "      <th></th>\n",
       "      <th>nombre_de_filles</th>\n",
       "      <th>nombre_de_filles_saisie_par_rapport_a_periode_precedente</th>\n",
       "      <th>nombre_de_presence_saisie_au_2021-10-14</th>\n",
       "    </tr>\n",
       "    <tr>\n",
       "      <th>created_by</th>\n",
       "      <th></th>\n",
       "      <th></th>\n",
       "      <th></th>\n",
       "    </tr>\n",
       "  </thead>\n",
       "  <tbody>\n",
       "    <tr>\n",
       "      <th>billyjolicoeur95@gmail.com</th>\n",
       "      <td>3849</td>\n",
       "      <td>0</td>\n",
       "      <td>0</td>\n",
       "    </tr>\n",
       "    <tr>\n",
       "      <th>blonnichel@yahoo.fr</th>\n",
       "      <td>1331</td>\n",
       "      <td>0</td>\n",
       "      <td>0</td>\n",
       "    </tr>\n",
       "    <tr>\n",
       "      <th>byronfabrice9@gmail.com</th>\n",
       "      <td>1825</td>\n",
       "      <td>0</td>\n",
       "      <td>0</td>\n",
       "    </tr>\n",
       "    <tr>\n",
       "      <th>coldina2020@gmail.com</th>\n",
       "      <td>30</td>\n",
       "      <td>0</td>\n",
       "      <td>0</td>\n",
       "    </tr>\n",
       "    <tr>\n",
       "      <th>diegoarmando.dorlean@carisfoundationintl.org</th>\n",
       "      <td>427</td>\n",
       "      <td>2</td>\n",
       "      <td>2741</td>\n",
       "    </tr>\n",
       "    <tr>\n",
       "      <th>elionafredly7@gmail.com</th>\n",
       "      <td>1752</td>\n",
       "      <td>0</td>\n",
       "      <td>0</td>\n",
       "    </tr>\n",
       "    <tr>\n",
       "      <th>ernst.belabre@carisfoundationintl.org</th>\n",
       "      <td>1493</td>\n",
       "      <td>142</td>\n",
       "      <td>2252</td>\n",
       "    </tr>\n",
       "    <tr>\n",
       "      <th>francenelstjean.saed@yahoo.com</th>\n",
       "      <td>629</td>\n",
       "      <td>0</td>\n",
       "      <td>0</td>\n",
       "    </tr>\n",
       "    <tr>\n",
       "      <th>gerald.poteau@carisfoundationintl.org</th>\n",
       "      <td>456</td>\n",
       "      <td>34</td>\n",
       "      <td>1312</td>\n",
       "    </tr>\n",
       "    <tr>\n",
       "      <th>jhonip77@yahoo.fr</th>\n",
       "      <td>249</td>\n",
       "      <td>0</td>\n",
       "      <td>0</td>\n",
       "    </tr>\n",
       "    <tr>\n",
       "      <th>johane.jules@carisfoundationintl.org</th>\n",
       "      <td>5</td>\n",
       "      <td>0</td>\n",
       "      <td>0</td>\n",
       "    </tr>\n",
       "    <tr>\n",
       "      <th>mdaniel.cazy@carisfoundationintl.org</th>\n",
       "      <td>88</td>\n",
       "      <td>0</td>\n",
       "      <td>0</td>\n",
       "    </tr>\n",
       "    <tr>\n",
       "      <th>roselord.despeignes@carisfoundationintl.org</th>\n",
       "      <td>177</td>\n",
       "      <td>0</td>\n",
       "      <td>0</td>\n",
       "    </tr>\n",
       "    <tr>\n",
       "      <th>twoody103@gmail.com</th>\n",
       "      <td>924</td>\n",
       "      <td>0</td>\n",
       "      <td>0</td>\n",
       "    </tr>\n",
       "    <tr>\n",
       "      <th>yvelise.merilan@carisfoundationintl.org</th>\n",
       "      <td>55</td>\n",
       "      <td>0</td>\n",
       "      <td>0</td>\n",
       "    </tr>\n",
       "  </tbody>\n",
       "</table>\n",
       "</div>"
      ],
      "text/plain": [
       "                                              nombre_de_filles  \\\n",
       "created_by                                                       \n",
       "billyjolicoeur95@gmail.com                                3849   \n",
       "blonnichel@yahoo.fr                                       1331   \n",
       "byronfabrice9@gmail.com                                   1825   \n",
       "coldina2020@gmail.com                                       30   \n",
       "diegoarmando.dorlean@carisfoundationintl.org               427   \n",
       "elionafredly7@gmail.com                                   1752   \n",
       "ernst.belabre@carisfoundationintl.org                     1493   \n",
       "francenelstjean.saed@yahoo.com                             629   \n",
       "gerald.poteau@carisfoundationintl.org                      456   \n",
       "jhonip77@yahoo.fr                                          249   \n",
       "johane.jules@carisfoundationintl.org                         5   \n",
       "mdaniel.cazy@carisfoundationintl.org                        88   \n",
       "roselord.despeignes@carisfoundationintl.org                177   \n",
       "twoody103@gmail.com                                        924   \n",
       "yvelise.merilan@carisfoundationintl.org                     55   \n",
       "\n",
       "                                              nombre_de_filles_saisie_par_rapport_a_periode_precedente  \\\n",
       "created_by                                                                                               \n",
       "billyjolicoeur95@gmail.com                                                                    0          \n",
       "blonnichel@yahoo.fr                                                                           0          \n",
       "byronfabrice9@gmail.com                                                                       0          \n",
       "coldina2020@gmail.com                                                                         0          \n",
       "diegoarmando.dorlean@carisfoundationintl.org                                                  2          \n",
       "elionafredly7@gmail.com                                                                       0          \n",
       "ernst.belabre@carisfoundationintl.org                                                       142          \n",
       "francenelstjean.saed@yahoo.com                                                                0          \n",
       "gerald.poteau@carisfoundationintl.org                                                        34          \n",
       "jhonip77@yahoo.fr                                                                             0          \n",
       "johane.jules@carisfoundationintl.org                                                          0          \n",
       "mdaniel.cazy@carisfoundationintl.org                                                          0          \n",
       "roselord.despeignes@carisfoundationintl.org                                                   0          \n",
       "twoody103@gmail.com                                                                           0          \n",
       "yvelise.merilan@carisfoundationintl.org                                                       0          \n",
       "\n",
       "                                              nombre_de_presence_saisie_au_2021-10-14  \n",
       "created_by                                                                             \n",
       "billyjolicoeur95@gmail.com                                                          0  \n",
       "blonnichel@yahoo.fr                                                                 0  \n",
       "byronfabrice9@gmail.com                                                             0  \n",
       "coldina2020@gmail.com                                                               0  \n",
       "diegoarmando.dorlean@carisfoundationintl.org                                     2741  \n",
       "elionafredly7@gmail.com                                                             0  \n",
       "ernst.belabre@carisfoundationintl.org                                            2252  \n",
       "francenelstjean.saed@yahoo.com                                                      0  \n",
       "gerald.poteau@carisfoundationintl.org                                            1312  \n",
       "jhonip77@yahoo.fr                                                                   0  \n",
       "johane.jules@carisfoundationintl.org                                                0  \n",
       "mdaniel.cazy@carisfoundationintl.org                                                0  \n",
       "roselord.despeignes@carisfoundationintl.org                                         0  \n",
       "twoody103@gmail.com                                                                 0  \n",
       "yvelise.merilan@carisfoundationintl.org                                             0  "
      ]
     },
     "execution_count": 16,
     "metadata": {},
     "output_type": "execute_result"
    }
   ],
   "source": [
    "performance_session"
   ]
  },
  {
   "cell_type": "markdown",
   "metadata": {},
   "source": [
    "## Agent per Commune"
   ]
  },
  {
   "cell_type": "code",
   "execution_count": 17,
   "metadata": {},
   "outputs": [],
   "source": [
    "performance_agents_par_commune = epa_startmars_endnow.pivot_table(index='created_by',columns='hub_commune',values='patient_code',aggfunc='count',fill_value=0,margins=True, margins_name=\"Grand Total\")\n",
    "#performance_agents_par_commune.reset_index(inplace=True)"
   ]
  },
  {
   "cell_type": "code",
   "execution_count": 18,
   "metadata": {},
   "outputs": [],
   "source": [
    "performance_agents_par_commune.sort_values(by=(\"Grand Total\") ,ascending=False,inplace=True)"
   ]
  },
  {
   "cell_type": "code",
   "execution_count": 19,
   "metadata": {},
   "outputs": [
    {
     "data": {
      "text/html": [
       "<div>\n",
       "<style scoped>\n",
       "    .dataframe tbody tr th:only-of-type {\n",
       "        vertical-align: middle;\n",
       "    }\n",
       "\n",
       "    .dataframe tbody tr th {\n",
       "        vertical-align: top;\n",
       "    }\n",
       "\n",
       "    .dataframe thead th {\n",
       "        text-align: right;\n",
       "    }\n",
       "</style>\n",
       "<table border=\"1\" class=\"dataframe\">\n",
       "  <thead>\n",
       "    <tr style=\"text-align: right;\">\n",
       "      <th>hub_commune</th>\n",
       "      <th>Cap-Haïtien</th>\n",
       "      <th>Carrefour</th>\n",
       "      <th>Delmas</th>\n",
       "      <th>Desdunes</th>\n",
       "      <th>Dessalines</th>\n",
       "      <th>Grande Saline</th>\n",
       "      <th>Gressier</th>\n",
       "      <th>Kenscoff</th>\n",
       "      <th>La Chapelle</th>\n",
       "      <th>Liancourt</th>\n",
       "      <th>...</th>\n",
       "      <th>Montrouis</th>\n",
       "      <th>Petite Rivière de l'Artibonite</th>\n",
       "      <th>Plaine-du-Nord</th>\n",
       "      <th>Port-au-Prince</th>\n",
       "      <th>Pétionville</th>\n",
       "      <th>Quartier-Morin</th>\n",
       "      <th>Saint-Marc</th>\n",
       "      <th>Tabarre</th>\n",
       "      <th>Verrettes</th>\n",
       "      <th>Grand Total</th>\n",
       "    </tr>\n",
       "    <tr>\n",
       "      <th>created_by</th>\n",
       "      <th></th>\n",
       "      <th></th>\n",
       "      <th></th>\n",
       "      <th></th>\n",
       "      <th></th>\n",
       "      <th></th>\n",
       "      <th></th>\n",
       "      <th></th>\n",
       "      <th></th>\n",
       "      <th></th>\n",
       "      <th></th>\n",
       "      <th></th>\n",
       "      <th></th>\n",
       "      <th></th>\n",
       "      <th></th>\n",
       "      <th></th>\n",
       "      <th></th>\n",
       "      <th></th>\n",
       "      <th></th>\n",
       "      <th></th>\n",
       "      <th></th>\n",
       "    </tr>\n",
       "  </thead>\n",
       "  <tbody>\n",
       "    <tr>\n",
       "      <th>Grand Total</th>\n",
       "      <td>1466</td>\n",
       "      <td>1094</td>\n",
       "      <td>459</td>\n",
       "      <td>185</td>\n",
       "      <td>683</td>\n",
       "      <td>460</td>\n",
       "      <td>679</td>\n",
       "      <td>1705</td>\n",
       "      <td>559</td>\n",
       "      <td>161</td>\n",
       "      <td>...</td>\n",
       "      <td>166</td>\n",
       "      <td>533</td>\n",
       "      <td>388</td>\n",
       "      <td>767</td>\n",
       "      <td>381</td>\n",
       "      <td>283</td>\n",
       "      <td>1259</td>\n",
       "      <td>243</td>\n",
       "      <td>866</td>\n",
       "      <td>13290</td>\n",
       "    </tr>\n",
       "    <tr>\n",
       "      <th>billyjolicoeur95@gmail.com</th>\n",
       "      <td>760</td>\n",
       "      <td>173</td>\n",
       "      <td>220</td>\n",
       "      <td>18</td>\n",
       "      <td>0</td>\n",
       "      <td>0</td>\n",
       "      <td>73</td>\n",
       "      <td>957</td>\n",
       "      <td>20</td>\n",
       "      <td>23</td>\n",
       "      <td>...</td>\n",
       "      <td>0</td>\n",
       "      <td>176</td>\n",
       "      <td>266</td>\n",
       "      <td>73</td>\n",
       "      <td>109</td>\n",
       "      <td>186</td>\n",
       "      <td>35</td>\n",
       "      <td>125</td>\n",
       "      <td>10</td>\n",
       "      <td>3849</td>\n",
       "    </tr>\n",
       "    <tr>\n",
       "      <th>byronfabrice9@gmail.com</th>\n",
       "      <td>137</td>\n",
       "      <td>260</td>\n",
       "      <td>28</td>\n",
       "      <td>0</td>\n",
       "      <td>58</td>\n",
       "      <td>69</td>\n",
       "      <td>182</td>\n",
       "      <td>329</td>\n",
       "      <td>51</td>\n",
       "      <td>0</td>\n",
       "      <td>...</td>\n",
       "      <td>0</td>\n",
       "      <td>125</td>\n",
       "      <td>74</td>\n",
       "      <td>199</td>\n",
       "      <td>125</td>\n",
       "      <td>31</td>\n",
       "      <td>41</td>\n",
       "      <td>42</td>\n",
       "      <td>0</td>\n",
       "      <td>1825</td>\n",
       "    </tr>\n",
       "    <tr>\n",
       "      <th>elionafredly7@gmail.com</th>\n",
       "      <td>324</td>\n",
       "      <td>291</td>\n",
       "      <td>40</td>\n",
       "      <td>0</td>\n",
       "      <td>0</td>\n",
       "      <td>35</td>\n",
       "      <td>273</td>\n",
       "      <td>68</td>\n",
       "      <td>0</td>\n",
       "      <td>0</td>\n",
       "      <td>...</td>\n",
       "      <td>0</td>\n",
       "      <td>32</td>\n",
       "      <td>21</td>\n",
       "      <td>382</td>\n",
       "      <td>22</td>\n",
       "      <td>14</td>\n",
       "      <td>28</td>\n",
       "      <td>42</td>\n",
       "      <td>62</td>\n",
       "      <td>1752</td>\n",
       "    </tr>\n",
       "    <tr>\n",
       "      <th>ernst.belabre@carisfoundationintl.org</th>\n",
       "      <td>56</td>\n",
       "      <td>274</td>\n",
       "      <td>0</td>\n",
       "      <td>58</td>\n",
       "      <td>0</td>\n",
       "      <td>56</td>\n",
       "      <td>107</td>\n",
       "      <td>0</td>\n",
       "      <td>205</td>\n",
       "      <td>28</td>\n",
       "      <td>...</td>\n",
       "      <td>2</td>\n",
       "      <td>28</td>\n",
       "      <td>2</td>\n",
       "      <td>0</td>\n",
       "      <td>0</td>\n",
       "      <td>44</td>\n",
       "      <td>382</td>\n",
       "      <td>0</td>\n",
       "      <td>186</td>\n",
       "      <td>1493</td>\n",
       "    </tr>\n",
       "    <tr>\n",
       "      <th>blonnichel@yahoo.fr</th>\n",
       "      <td>0</td>\n",
       "      <td>0</td>\n",
       "      <td>0</td>\n",
       "      <td>0</td>\n",
       "      <td>0</td>\n",
       "      <td>0</td>\n",
       "      <td>0</td>\n",
       "      <td>0</td>\n",
       "      <td>80</td>\n",
       "      <td>83</td>\n",
       "      <td>...</td>\n",
       "      <td>82</td>\n",
       "      <td>0</td>\n",
       "      <td>0</td>\n",
       "      <td>0</td>\n",
       "      <td>0</td>\n",
       "      <td>0</td>\n",
       "      <td>656</td>\n",
       "      <td>0</td>\n",
       "      <td>430</td>\n",
       "      <td>1331</td>\n",
       "    </tr>\n",
       "    <tr>\n",
       "      <th>twoody103@gmail.com</th>\n",
       "      <td>81</td>\n",
       "      <td>95</td>\n",
       "      <td>138</td>\n",
       "      <td>0</td>\n",
       "      <td>6</td>\n",
       "      <td>182</td>\n",
       "      <td>44</td>\n",
       "      <td>163</td>\n",
       "      <td>0</td>\n",
       "      <td>0</td>\n",
       "      <td>...</td>\n",
       "      <td>0</td>\n",
       "      <td>39</td>\n",
       "      <td>6</td>\n",
       "      <td>60</td>\n",
       "      <td>57</td>\n",
       "      <td>3</td>\n",
       "      <td>0</td>\n",
       "      <td>20</td>\n",
       "      <td>2</td>\n",
       "      <td>924</td>\n",
       "    </tr>\n",
       "    <tr>\n",
       "      <th>francenelstjean.saed@yahoo.com</th>\n",
       "      <td>0</td>\n",
       "      <td>0</td>\n",
       "      <td>0</td>\n",
       "      <td>2</td>\n",
       "      <td>619</td>\n",
       "      <td>4</td>\n",
       "      <td>0</td>\n",
       "      <td>0</td>\n",
       "      <td>0</td>\n",
       "      <td>0</td>\n",
       "      <td>...</td>\n",
       "      <td>0</td>\n",
       "      <td>4</td>\n",
       "      <td>0</td>\n",
       "      <td>0</td>\n",
       "      <td>0</td>\n",
       "      <td>0</td>\n",
       "      <td>0</td>\n",
       "      <td>0</td>\n",
       "      <td>0</td>\n",
       "      <td>629</td>\n",
       "    </tr>\n",
       "    <tr>\n",
       "      <th>gerald.poteau@carisfoundationintl.org</th>\n",
       "      <td>0</td>\n",
       "      <td>1</td>\n",
       "      <td>5</td>\n",
       "      <td>37</td>\n",
       "      <td>0</td>\n",
       "      <td>55</td>\n",
       "      <td>0</td>\n",
       "      <td>6</td>\n",
       "      <td>79</td>\n",
       "      <td>0</td>\n",
       "      <td>...</td>\n",
       "      <td>21</td>\n",
       "      <td>27</td>\n",
       "      <td>3</td>\n",
       "      <td>45</td>\n",
       "      <td>42</td>\n",
       "      <td>0</td>\n",
       "      <td>62</td>\n",
       "      <td>4</td>\n",
       "      <td>66</td>\n",
       "      <td>456</td>\n",
       "    </tr>\n",
       "    <tr>\n",
       "      <th>diegoarmando.dorlean@carisfoundationintl.org</th>\n",
       "      <td>83</td>\n",
       "      <td>0</td>\n",
       "      <td>1</td>\n",
       "      <td>4</td>\n",
       "      <td>0</td>\n",
       "      <td>59</td>\n",
       "      <td>0</td>\n",
       "      <td>19</td>\n",
       "      <td>97</td>\n",
       "      <td>3</td>\n",
       "      <td>...</td>\n",
       "      <td>10</td>\n",
       "      <td>59</td>\n",
       "      <td>6</td>\n",
       "      <td>0</td>\n",
       "      <td>3</td>\n",
       "      <td>0</td>\n",
       "      <td>5</td>\n",
       "      <td>0</td>\n",
       "      <td>67</td>\n",
       "      <td>427</td>\n",
       "    </tr>\n",
       "    <tr>\n",
       "      <th>jhonip77@yahoo.fr</th>\n",
       "      <td>21</td>\n",
       "      <td>0</td>\n",
       "      <td>17</td>\n",
       "      <td>65</td>\n",
       "      <td>0</td>\n",
       "      <td>0</td>\n",
       "      <td>0</td>\n",
       "      <td>54</td>\n",
       "      <td>0</td>\n",
       "      <td>24</td>\n",
       "      <td>...</td>\n",
       "      <td>19</td>\n",
       "      <td>5</td>\n",
       "      <td>2</td>\n",
       "      <td>0</td>\n",
       "      <td>12</td>\n",
       "      <td>0</td>\n",
       "      <td>14</td>\n",
       "      <td>0</td>\n",
       "      <td>0</td>\n",
       "      <td>249</td>\n",
       "    </tr>\n",
       "    <tr>\n",
       "      <th>roselord.despeignes@carisfoundationintl.org</th>\n",
       "      <td>0</td>\n",
       "      <td>0</td>\n",
       "      <td>0</td>\n",
       "      <td>1</td>\n",
       "      <td>0</td>\n",
       "      <td>0</td>\n",
       "      <td>0</td>\n",
       "      <td>0</td>\n",
       "      <td>27</td>\n",
       "      <td>0</td>\n",
       "      <td>...</td>\n",
       "      <td>32</td>\n",
       "      <td>38</td>\n",
       "      <td>0</td>\n",
       "      <td>0</td>\n",
       "      <td>0</td>\n",
       "      <td>0</td>\n",
       "      <td>36</td>\n",
       "      <td>0</td>\n",
       "      <td>43</td>\n",
       "      <td>177</td>\n",
       "    </tr>\n",
       "    <tr>\n",
       "      <th>mdaniel.cazy@carisfoundationintl.org</th>\n",
       "      <td>0</td>\n",
       "      <td>0</td>\n",
       "      <td>1</td>\n",
       "      <td>0</td>\n",
       "      <td>0</td>\n",
       "      <td>0</td>\n",
       "      <td>0</td>\n",
       "      <td>67</td>\n",
       "      <td>0</td>\n",
       "      <td>0</td>\n",
       "      <td>...</td>\n",
       "      <td>0</td>\n",
       "      <td>0</td>\n",
       "      <td>0</td>\n",
       "      <td>0</td>\n",
       "      <td>10</td>\n",
       "      <td>0</td>\n",
       "      <td>0</td>\n",
       "      <td>10</td>\n",
       "      <td>0</td>\n",
       "      <td>88</td>\n",
       "    </tr>\n",
       "    <tr>\n",
       "      <th>yvelise.merilan@carisfoundationintl.org</th>\n",
       "      <td>0</td>\n",
       "      <td>0</td>\n",
       "      <td>9</td>\n",
       "      <td>0</td>\n",
       "      <td>0</td>\n",
       "      <td>0</td>\n",
       "      <td>0</td>\n",
       "      <td>39</td>\n",
       "      <td>0</td>\n",
       "      <td>0</td>\n",
       "      <td>...</td>\n",
       "      <td>0</td>\n",
       "      <td>0</td>\n",
       "      <td>0</td>\n",
       "      <td>7</td>\n",
       "      <td>0</td>\n",
       "      <td>0</td>\n",
       "      <td>0</td>\n",
       "      <td>0</td>\n",
       "      <td>0</td>\n",
       "      <td>55</td>\n",
       "    </tr>\n",
       "    <tr>\n",
       "      <th>coldina2020@gmail.com</th>\n",
       "      <td>4</td>\n",
       "      <td>0</td>\n",
       "      <td>0</td>\n",
       "      <td>0</td>\n",
       "      <td>0</td>\n",
       "      <td>0</td>\n",
       "      <td>0</td>\n",
       "      <td>0</td>\n",
       "      <td>0</td>\n",
       "      <td>0</td>\n",
       "      <td>...</td>\n",
       "      <td>0</td>\n",
       "      <td>0</td>\n",
       "      <td>8</td>\n",
       "      <td>0</td>\n",
       "      <td>0</td>\n",
       "      <td>5</td>\n",
       "      <td>0</td>\n",
       "      <td>0</td>\n",
       "      <td>0</td>\n",
       "      <td>30</td>\n",
       "    </tr>\n",
       "    <tr>\n",
       "      <th>johane.jules@carisfoundationintl.org</th>\n",
       "      <td>0</td>\n",
       "      <td>0</td>\n",
       "      <td>0</td>\n",
       "      <td>0</td>\n",
       "      <td>0</td>\n",
       "      <td>0</td>\n",
       "      <td>0</td>\n",
       "      <td>3</td>\n",
       "      <td>0</td>\n",
       "      <td>0</td>\n",
       "      <td>...</td>\n",
       "      <td>0</td>\n",
       "      <td>0</td>\n",
       "      <td>0</td>\n",
       "      <td>1</td>\n",
       "      <td>1</td>\n",
       "      <td>0</td>\n",
       "      <td>0</td>\n",
       "      <td>0</td>\n",
       "      <td>0</td>\n",
       "      <td>5</td>\n",
       "    </tr>\n",
       "  </tbody>\n",
       "</table>\n",
       "<p>16 rows × 22 columns</p>\n",
       "</div>"
      ],
      "text/plain": [
       "hub_commune                                   Cap-Haïtien  Carrefour  Delmas  \\\n",
       "created_by                                                                     \n",
       "Grand Total                                          1466       1094     459   \n",
       "billyjolicoeur95@gmail.com                            760        173     220   \n",
       "byronfabrice9@gmail.com                               137        260      28   \n",
       "elionafredly7@gmail.com                               324        291      40   \n",
       "ernst.belabre@carisfoundationintl.org                  56        274       0   \n",
       "blonnichel@yahoo.fr                                     0          0       0   \n",
       "twoody103@gmail.com                                    81         95     138   \n",
       "francenelstjean.saed@yahoo.com                          0          0       0   \n",
       "gerald.poteau@carisfoundationintl.org                   0          1       5   \n",
       "diegoarmando.dorlean@carisfoundationintl.org           83          0       1   \n",
       "jhonip77@yahoo.fr                                      21          0      17   \n",
       "roselord.despeignes@carisfoundationintl.org             0          0       0   \n",
       "mdaniel.cazy@carisfoundationintl.org                    0          0       1   \n",
       "yvelise.merilan@carisfoundationintl.org                 0          0       9   \n",
       "coldina2020@gmail.com                                   4          0       0   \n",
       "johane.jules@carisfoundationintl.org                    0          0       0   \n",
       "\n",
       "hub_commune                                   Desdunes  Dessalines  \\\n",
       "created_by                                                           \n",
       "Grand Total                                        185         683   \n",
       "billyjolicoeur95@gmail.com                          18           0   \n",
       "byronfabrice9@gmail.com                              0          58   \n",
       "elionafredly7@gmail.com                              0           0   \n",
       "ernst.belabre@carisfoundationintl.org               58           0   \n",
       "blonnichel@yahoo.fr                                  0           0   \n",
       "twoody103@gmail.com                                  0           6   \n",
       "francenelstjean.saed@yahoo.com                       2         619   \n",
       "gerald.poteau@carisfoundationintl.org               37           0   \n",
       "diegoarmando.dorlean@carisfoundationintl.org         4           0   \n",
       "jhonip77@yahoo.fr                                   65           0   \n",
       "roselord.despeignes@carisfoundationintl.org          1           0   \n",
       "mdaniel.cazy@carisfoundationintl.org                 0           0   \n",
       "yvelise.merilan@carisfoundationintl.org              0           0   \n",
       "coldina2020@gmail.com                                0           0   \n",
       "johane.jules@carisfoundationintl.org                 0           0   \n",
       "\n",
       "hub_commune                                   Grande Saline  Gressier  \\\n",
       "created_by                                                              \n",
       "Grand Total                                             460       679   \n",
       "billyjolicoeur95@gmail.com                                0        73   \n",
       "byronfabrice9@gmail.com                                  69       182   \n",
       "elionafredly7@gmail.com                                  35       273   \n",
       "ernst.belabre@carisfoundationintl.org                    56       107   \n",
       "blonnichel@yahoo.fr                                       0         0   \n",
       "twoody103@gmail.com                                     182        44   \n",
       "francenelstjean.saed@yahoo.com                            4         0   \n",
       "gerald.poteau@carisfoundationintl.org                    55         0   \n",
       "diegoarmando.dorlean@carisfoundationintl.org             59         0   \n",
       "jhonip77@yahoo.fr                                         0         0   \n",
       "roselord.despeignes@carisfoundationintl.org               0         0   \n",
       "mdaniel.cazy@carisfoundationintl.org                      0         0   \n",
       "yvelise.merilan@carisfoundationintl.org                   0         0   \n",
       "coldina2020@gmail.com                                     0         0   \n",
       "johane.jules@carisfoundationintl.org                      0         0   \n",
       "\n",
       "hub_commune                                   Kenscoff  La Chapelle  \\\n",
       "created_by                                                            \n",
       "Grand Total                                       1705          559   \n",
       "billyjolicoeur95@gmail.com                         957           20   \n",
       "byronfabrice9@gmail.com                            329           51   \n",
       "elionafredly7@gmail.com                             68            0   \n",
       "ernst.belabre@carisfoundationintl.org                0          205   \n",
       "blonnichel@yahoo.fr                                  0           80   \n",
       "twoody103@gmail.com                                163            0   \n",
       "francenelstjean.saed@yahoo.com                       0            0   \n",
       "gerald.poteau@carisfoundationintl.org                6           79   \n",
       "diegoarmando.dorlean@carisfoundationintl.org        19           97   \n",
       "jhonip77@yahoo.fr                                   54            0   \n",
       "roselord.despeignes@carisfoundationintl.org          0           27   \n",
       "mdaniel.cazy@carisfoundationintl.org                67            0   \n",
       "yvelise.merilan@carisfoundationintl.org             39            0   \n",
       "coldina2020@gmail.com                                0            0   \n",
       "johane.jules@carisfoundationintl.org                 3            0   \n",
       "\n",
       "hub_commune                                   Liancourt  ...  Montrouis  \\\n",
       "created_by                                               ...              \n",
       "Grand Total                                         161  ...        166   \n",
       "billyjolicoeur95@gmail.com                           23  ...          0   \n",
       "byronfabrice9@gmail.com                               0  ...          0   \n",
       "elionafredly7@gmail.com                               0  ...          0   \n",
       "ernst.belabre@carisfoundationintl.org                28  ...          2   \n",
       "blonnichel@yahoo.fr                                  83  ...         82   \n",
       "twoody103@gmail.com                                   0  ...          0   \n",
       "francenelstjean.saed@yahoo.com                        0  ...          0   \n",
       "gerald.poteau@carisfoundationintl.org                 0  ...         21   \n",
       "diegoarmando.dorlean@carisfoundationintl.org          3  ...         10   \n",
       "jhonip77@yahoo.fr                                    24  ...         19   \n",
       "roselord.despeignes@carisfoundationintl.org           0  ...         32   \n",
       "mdaniel.cazy@carisfoundationintl.org                  0  ...          0   \n",
       "yvelise.merilan@carisfoundationintl.org               0  ...          0   \n",
       "coldina2020@gmail.com                                 0  ...          0   \n",
       "johane.jules@carisfoundationintl.org                  0  ...          0   \n",
       "\n",
       "hub_commune                                   Petite Rivière de l'Artibonite  \\\n",
       "created_by                                                                     \n",
       "Grand Total                                                              533   \n",
       "billyjolicoeur95@gmail.com                                               176   \n",
       "byronfabrice9@gmail.com                                                  125   \n",
       "elionafredly7@gmail.com                                                   32   \n",
       "ernst.belabre@carisfoundationintl.org                                     28   \n",
       "blonnichel@yahoo.fr                                                        0   \n",
       "twoody103@gmail.com                                                       39   \n",
       "francenelstjean.saed@yahoo.com                                             4   \n",
       "gerald.poteau@carisfoundationintl.org                                     27   \n",
       "diegoarmando.dorlean@carisfoundationintl.org                              59   \n",
       "jhonip77@yahoo.fr                                                          5   \n",
       "roselord.despeignes@carisfoundationintl.org                               38   \n",
       "mdaniel.cazy@carisfoundationintl.org                                       0   \n",
       "yvelise.merilan@carisfoundationintl.org                                    0   \n",
       "coldina2020@gmail.com                                                      0   \n",
       "johane.jules@carisfoundationintl.org                                       0   \n",
       "\n",
       "hub_commune                                   Plaine-du-Nord  Port-au-Prince  \\\n",
       "created_by                                                                     \n",
       "Grand Total                                              388             767   \n",
       "billyjolicoeur95@gmail.com                               266              73   \n",
       "byronfabrice9@gmail.com                                   74             199   \n",
       "elionafredly7@gmail.com                                   21             382   \n",
       "ernst.belabre@carisfoundationintl.org                      2               0   \n",
       "blonnichel@yahoo.fr                                        0               0   \n",
       "twoody103@gmail.com                                        6              60   \n",
       "francenelstjean.saed@yahoo.com                             0               0   \n",
       "gerald.poteau@carisfoundationintl.org                      3              45   \n",
       "diegoarmando.dorlean@carisfoundationintl.org               6               0   \n",
       "jhonip77@yahoo.fr                                          2               0   \n",
       "roselord.despeignes@carisfoundationintl.org                0               0   \n",
       "mdaniel.cazy@carisfoundationintl.org                       0               0   \n",
       "yvelise.merilan@carisfoundationintl.org                    0               7   \n",
       "coldina2020@gmail.com                                      8               0   \n",
       "johane.jules@carisfoundationintl.org                       0               1   \n",
       "\n",
       "hub_commune                                   Pétionville  Quartier-Morin  \\\n",
       "created_by                                                                  \n",
       "Grand Total                                           381             283   \n",
       "billyjolicoeur95@gmail.com                            109             186   \n",
       "byronfabrice9@gmail.com                               125              31   \n",
       "elionafredly7@gmail.com                                22              14   \n",
       "ernst.belabre@carisfoundationintl.org                   0              44   \n",
       "blonnichel@yahoo.fr                                     0               0   \n",
       "twoody103@gmail.com                                    57               3   \n",
       "francenelstjean.saed@yahoo.com                          0               0   \n",
       "gerald.poteau@carisfoundationintl.org                  42               0   \n",
       "diegoarmando.dorlean@carisfoundationintl.org            3               0   \n",
       "jhonip77@yahoo.fr                                      12               0   \n",
       "roselord.despeignes@carisfoundationintl.org             0               0   \n",
       "mdaniel.cazy@carisfoundationintl.org                   10               0   \n",
       "yvelise.merilan@carisfoundationintl.org                 0               0   \n",
       "coldina2020@gmail.com                                   0               5   \n",
       "johane.jules@carisfoundationintl.org                    1               0   \n",
       "\n",
       "hub_commune                                   Saint-Marc  Tabarre  Verrettes  \\\n",
       "created_by                                                                     \n",
       "Grand Total                                         1259      243        866   \n",
       "billyjolicoeur95@gmail.com                            35      125         10   \n",
       "byronfabrice9@gmail.com                               41       42          0   \n",
       "elionafredly7@gmail.com                               28       42         62   \n",
       "ernst.belabre@carisfoundationintl.org                382        0        186   \n",
       "blonnichel@yahoo.fr                                  656        0        430   \n",
       "twoody103@gmail.com                                    0       20          2   \n",
       "francenelstjean.saed@yahoo.com                         0        0          0   \n",
       "gerald.poteau@carisfoundationintl.org                 62        4         66   \n",
       "diegoarmando.dorlean@carisfoundationintl.org           5        0         67   \n",
       "jhonip77@yahoo.fr                                     14        0          0   \n",
       "roselord.despeignes@carisfoundationintl.org           36        0         43   \n",
       "mdaniel.cazy@carisfoundationintl.org                   0       10          0   \n",
       "yvelise.merilan@carisfoundationintl.org                0        0          0   \n",
       "coldina2020@gmail.com                                  0        0          0   \n",
       "johane.jules@carisfoundationintl.org                   0        0          0   \n",
       "\n",
       "hub_commune                                   Grand Total  \n",
       "created_by                                                 \n",
       "Grand Total                                         13290  \n",
       "billyjolicoeur95@gmail.com                           3849  \n",
       "byronfabrice9@gmail.com                              1825  \n",
       "elionafredly7@gmail.com                              1752  \n",
       "ernst.belabre@carisfoundationintl.org                1493  \n",
       "blonnichel@yahoo.fr                                  1331  \n",
       "twoody103@gmail.com                                   924  \n",
       "francenelstjean.saed@yahoo.com                        629  \n",
       "gerald.poteau@carisfoundationintl.org                 456  \n",
       "diegoarmando.dorlean@carisfoundationintl.org          427  \n",
       "jhonip77@yahoo.fr                                     249  \n",
       "roselord.despeignes@carisfoundationintl.org           177  \n",
       "mdaniel.cazy@carisfoundationintl.org                   88  \n",
       "yvelise.merilan@carisfoundationintl.org                55  \n",
       "coldina2020@gmail.com                                  30  \n",
       "johane.jules@carisfoundationintl.org                    5  \n",
       "\n",
       "[16 rows x 22 columns]"
      ]
     },
     "execution_count": 19,
     "metadata": {},
     "output_type": "execute_result"
    }
   ],
   "source": [
    "performance_agents_par_commune"
   ]
  },
  {
   "cell_type": "markdown",
   "metadata": {},
   "source": [
    "## Reporting Performance de mars 2021 a date"
   ]
  },
  {
   "cell_type": "code",
   "execution_count": 20,
   "metadata": {},
   "outputs": [],
   "source": [
    "import openpyxl"
   ]
  },
  {
   "cell_type": "code",
   "execution_count": 21,
   "metadata": {},
   "outputs": [],
   "source": [
    "pac = pd.ExcelWriter('rapport_agents_saisie_des_sessions.xlsx',engine='openpyxl')\n",
    "performance_session.to_excel(pac,sheet_name='filles_saisies_global')\n",
    "performance_agents_par_commune.to_excel(pac,sheet_name=\"filles_saisies_par_communes\")\n",
    "pac.save()"
   ]
  },
  {
   "cell_type": "markdown",
   "metadata": {},
   "source": [
    "## Verification sheet"
   ]
  },
  {
   "cell_type": "code",
   "execution_count": 22,
   "metadata": {},
   "outputs": [],
   "source": [
    "def fiscalYear21(date):\n",
    "    if date.year == 2021 and date.month>=1 and date.month<=3:\n",
    "        return \"FY21Q2\"\n",
    "    elif date.year == 2020 and date.month>=10 and date.month<=12:\n",
    "        return \"FY21Q1\"\n",
    "    elif date.year == 2021 and date.month>=4 and date.month<=6:\n",
    "        return \"FY21Q3\"\n",
    "    elif date.year == 2021 and date.month>=7 and date.month<=9:\n",
    "        return \"FY21Q4\"\n",
    "    else:\n",
    "        return \"Q3fy20-Q4fy20\"\n",
    "    \n",
    "def validTimeOnSystem(date):\n",
    "    if date>= datetime.strptime(\"2020-04-01\",\"%Y-%m-%d\") and date<= datetime.now():\n",
    "        return \"required_Time_on\"\n",
    "    else:\n",
    "        return \"not_valid_time_on\""
   ]
  },
  {
   "cell_type": "code",
   "execution_count": 23,
   "metadata": {},
   "outputs": [
    {
     "data": {
      "text/plain": [
       "0"
      ]
     },
     "execution_count": 23,
     "metadata": {},
     "output_type": "execute_result"
    }
   ],
   "source": [
    "epa_startmars_endnow.interview_date.isna().sum()"
   ]
  },
  {
   "cell_type": "code",
   "execution_count": 24,
   "metadata": {},
   "outputs": [],
   "source": [
    "%%capture\n",
    "epa_startmars_endnow[\"date_entevyou\"] = pd.to_datetime( epa_startmars_endnow.interview_date)"
   ]
  },
  {
   "cell_type": "code",
   "execution_count": 25,
   "metadata": {},
   "outputs": [
    {
     "data": {
      "text/plain": [
       "321589   2020-11-20\n",
       "321607   2020-11-20\n",
       "321620   2020-10-07\n",
       "321621   2020-10-05\n",
       "321622   2020-10-07\n",
       "            ...    \n",
       "623530   2021-08-31\n",
       "623531   2021-08-26\n",
       "623532   2018-09-10\n",
       "623533   2018-10-12\n",
       "623534   2018-08-09\n",
       "Name: date_entevyou, Length: 13290, dtype: datetime64[ns]"
      ]
     },
     "execution_count": 25,
     "metadata": {},
     "output_type": "execute_result"
    }
   ],
   "source": [
    "epa_startmars_endnow.date_entevyou"
   ]
  },
  {
   "cell_type": "code",
   "execution_count": 26,
   "metadata": {},
   "outputs": [],
   "source": [
    "%%capture\n",
    "epa_startmars_endnow[\"fiscal_year\"] = epa_startmars_endnow.date_entevyou.map(fiscalYear21)\n",
    "epa_startmars_endnow[\"time_On_System\"] = epa_startmars_endnow.date_entevyou.map(validTimeOnSystem)"
   ]
  },
  {
   "cell_type": "code",
   "execution_count": 27,
   "metadata": {},
   "outputs": [
    {
     "data": {
      "text/plain": [
       "Index(['patient_code', 'first_name', 'last_name', 'dob', 'interview_date',\n",
       "       'session_date', 'group_name', 'hub_name', 'hub_commune',\n",
       "       'hub_departement', 'interview_commune', 'topic', 'created_by',\n",
       "       'username', 'date_session_were_entered', 'date_entevyou', 'fiscal_year',\n",
       "       'time_On_System'],\n",
       "      dtype='object')"
      ]
     },
     "execution_count": 27,
     "metadata": {},
     "output_type": "execute_result"
    }
   ],
   "source": [
    "epa_startmars_endnow.columns"
   ]
  },
  {
   "cell_type": "code",
   "execution_count": 28,
   "metadata": {},
   "outputs": [
    {
     "data": {
      "text/plain": [
       "321589    2009-03-28\n",
       "321607    2007-08-16\n",
       "321620    2003-02-01\n",
       "321621    2004-12-24\n",
       "321622    2004-10-13\n",
       "             ...    \n",
       "623530    2002-12-17\n",
       "623531    2008-06-06\n",
       "623532    2005-11-26\n",
       "623533    2005-12-30\n",
       "623534    1999-02-04\n",
       "Name: dob, Length: 13290, dtype: object"
      ]
     },
     "execution_count": 28,
     "metadata": {},
     "output_type": "execute_result"
    }
   ],
   "source": [
    "epa_startmars_endnow.dob"
   ]
  },
  {
   "cell_type": "code",
   "execution_count": 29,
   "metadata": {},
   "outputs": [],
   "source": [
    "from dateutil.relativedelta import relativedelta"
   ]
  },
  {
   "cell_type": "code",
   "execution_count": 30,
   "metadata": {},
   "outputs": [],
   "source": [
    "def get_age(date):\n",
    "    return relativedelta(datetime.today(),date).years\n",
    "\n",
    "def tranche_age_classique(age):\n",
    "        if age>=10 and age<=14:\n",
    "            return \"10-14\"\n",
    "        elif age>=15 and age<=19:\n",
    "            return \"15-19\"\n",
    "        elif age>=20 and age<=24:\n",
    "            return \"20-24\"\n",
    "        elif age>=25 and age<=29:\n",
    "            return \"25-29\"\n",
    "        else:\n",
    "            return \"not_valid_age\"\n",
    "        \n",
    "def tranche_age_mineur_majeur(age):\n",
    "        if age>=10 and age<=17:\n",
    "            return \"10-17\"\n",
    "        elif age>=18 and age<=19:\n",
    "            return \"18-19\"\n",
    "        elif age>=20 and age<=24:\n",
    "            return \"20-24\"\n",
    "        elif age>=25 and age<=29:\n",
    "            return \"25-29\"\n",
    "        else:\n",
    "            return \"not_valid_age\""
   ]
  },
  {
   "cell_type": "code",
   "execution_count": 31,
   "metadata": {},
   "outputs": [],
   "source": [
    "%%capture\n",
    "epa_startmars_endnow[\"age\"] = epa_startmars_endnow.dob.map(get_age)\n",
    "epa_startmars_endnow[\"age_range\"] = epa_startmars_endnow.age.map(tranche_age_classique)\n",
    "epa_startmars_endnow[\"newage_range\"] = epa_startmars_endnow.age.map(tranche_age_mineur_majeur)"
   ]
  },
  {
   "cell_type": "code",
   "execution_count": 32,
   "metadata": {},
   "outputs": [
    {
     "data": {
      "text/plain": [
       "array([ 12,  14,  18,  16,  17,  15,  19,  13,  11,  10,  20,  24,  22,\n",
       "        23,  21,  25,   3,   9,   2,   7,  26, 121,   6,   4], dtype=int64)"
      ]
     },
     "execution_count": 32,
     "metadata": {},
     "output_type": "execute_result"
    },
    {
     "data": {
      "text/plain": [
       "array(['10-14', '15-19', '20-24', '25-29', 'not_valid_age'], dtype=object)"
      ]
     },
     "execution_count": 32,
     "metadata": {},
     "output_type": "execute_result"
    },
    {
     "data": {
      "text/plain": [
       "array(['10-17', '18-19', '20-24', '25-29', 'not_valid_age'], dtype=object)"
      ]
     },
     "execution_count": 32,
     "metadata": {},
     "output_type": "execute_result"
    }
   ],
   "source": [
    "epa_startmars_endnow.age.unique()\n",
    "epa_startmars_endnow.age_range.unique()\n",
    "epa_startmars_endnow.newage_range.unique()"
   ]
  },
  {
   "cell_type": "code",
   "execution_count": 33,
   "metadata": {},
   "outputs": [
    {
     "data": {
      "text/plain": [
       "Index(['patient_code', 'first_name', 'last_name', 'dob', 'interview_date',\n",
       "       'session_date', 'group_name', 'hub_name', 'hub_commune',\n",
       "       'hub_departement', 'interview_commune', 'topic', 'created_by',\n",
       "       'username', 'date_session_were_entered', 'date_entevyou', 'fiscal_year',\n",
       "       'time_On_System', 'age', 'age_range', 'newage_range'],\n",
       "      dtype='object')"
      ]
     },
     "execution_count": 33,
     "metadata": {},
     "output_type": "execute_result"
    }
   ],
   "source": [
    "epa_startmars_endnow.columns"
   ]
  },
  {
   "cell_type": "code",
   "execution_count": 34,
   "metadata": {},
   "outputs": [],
   "source": [
    "epa_fy21 = epa_startmars_endnow[(epa_startmars_endnow.age_range !=\"not_valid_age\") & (epa_startmars_endnow.age_range != \"25-29\") & (epa_startmars_endnow.fiscal_year != \"Q3fy20-Q4fy20\")]\n",
    "all_epa = epa_startmars_endnow[(epa_startmars_endnow.age_range !=\"not_valid_age\") & (epa_startmars_endnow.age_range != \"25-29\")]\n",
    "\n",
    "valid_epa_fy21 = epa_startmars_endnow[(epa_startmars_endnow.time_On_System == \"required_Time_on\")&(epa_startmars_endnow.age_range !=\"not_valid_age\") & (epa_startmars_endnow.age_range != \"25-29\") & (epa_startmars_endnow.fiscal_year != \"Q3fy20-Q4fy20\")]\n",
    "valid_all_epa = epa_startmars_endnow[(epa_startmars_endnow.time_On_System == \"required_Time_on\")&(epa_startmars_endnow.age_range !=\"not_valid_age\") & (epa_startmars_endnow.age_range != \"25-29\")]"
   ]
  },
  {
   "cell_type": "code",
   "execution_count": 35,
   "metadata": {},
   "outputs": [
    {
     "name": "stdout",
     "output_type": "stream",
     "text": [
      "epa_startmars\n"
     ]
    },
    {
     "data": {
      "text/plain": [
       "13290"
      ]
     },
     "execution_count": 35,
     "metadata": {},
     "output_type": "execute_result"
    },
    {
     "name": "stdout",
     "output_type": "stream",
     "text": [
      "epa_fy21\n"
     ]
    },
    {
     "data": {
      "text/plain": [
       "8248"
      ]
     },
     "execution_count": 35,
     "metadata": {},
     "output_type": "execute_result"
    },
    {
     "name": "stdout",
     "output_type": "stream",
     "text": [
      "all_epa\n"
     ]
    },
    {
     "data": {
      "text/plain": [
       "13139"
      ]
     },
     "execution_count": 35,
     "metadata": {},
     "output_type": "execute_result"
    },
    {
     "name": "stdout",
     "output_type": "stream",
     "text": [
      "valid epa_fy21\n"
     ]
    },
    {
     "data": {
      "text/plain": [
       "8248"
      ]
     },
     "execution_count": 35,
     "metadata": {},
     "output_type": "execute_result"
    },
    {
     "name": "stdout",
     "output_type": "stream",
     "text": [
      "valid_all_epa\n"
     ]
    },
    {
     "data": {
      "text/plain": [
       "10304"
      ]
     },
     "execution_count": 35,
     "metadata": {},
     "output_type": "execute_result"
    },
    {
     "name": "stdout",
     "output_type": "stream",
     "text": [
      "not valid\n"
     ]
    },
    {
     "data": {
      "text/plain": [
       "2986"
      ]
     },
     "execution_count": 35,
     "metadata": {},
     "output_type": "execute_result"
    }
   ],
   "source": [
    "print(\"epa_startmars\")\n",
    "epa_startmars_endnow.patient_code.count()\n",
    "print(\"epa_fy21\")\n",
    "epa_fy21.patient_code.count()\n",
    "print(\"all_epa\")\n",
    "all_epa.patient_code.count()\n",
    "print(\"valid epa_fy21\")\n",
    "valid_epa_fy21.patient_code.count()\n",
    "print(\"valid_all_epa\")\n",
    "valid_all_epa.patient_code.count()\n",
    "print(\"not valid\")\n",
    "epa_startmars_endnow.patient_code.count() - valid_all_epa.patient_code.count()\n",
    "\n"
   ]
  },
  {
   "cell_type": "code",
   "execution_count": 36,
   "metadata": {},
   "outputs": [
    {
     "data": {
      "text/plain": [
       "<Figure size 1152x576 with 0 Axes>"
      ]
     },
     "execution_count": 36,
     "metadata": {},
     "output_type": "execute_result"
    },
    {
     "data": {
      "text/plain": [
       "Text(0.5, 0, '')"
      ]
     },
     "execution_count": 36,
     "metadata": {},
     "output_type": "execute_result"
    },
    {
     "data": {
      "text/plain": [
       "Text(0, 0.5, '')"
      ]
     },
     "execution_count": 36,
     "metadata": {},
     "output_type": "execute_result"
    },
    {
     "data": {
      "text/plain": [
       "Text(0.5, 0.98, 'AGYW, entered since march 2021 by the data clerk, presence in currilum')"
      ]
     },
     "execution_count": 36,
     "metadata": {},
     "output_type": "execute_result"
    },
    {
     "data": {
      "text/plain": [
       "Text(2118.0, 0.0, '2116')"
      ]
     },
     "execution_count": 36,
     "metadata": {},
     "output_type": "execute_result"
    },
    {
     "data": {
      "text/plain": [
       "Text(1924.0, 1.0, '1922')"
      ]
     },
     "execution_count": 36,
     "metadata": {},
     "output_type": "execute_result"
    },
    {
     "data": {
      "text/plain": [
       "Text(1986.0, 2.0, '1984')"
      ]
     },
     "execution_count": 36,
     "metadata": {},
     "output_type": "execute_result"
    },
    {
     "data": {
      "text/plain": [
       "Text(2228.0, 3.0, '2226')"
      ]
     },
     "execution_count": 36,
     "metadata": {},
     "output_type": "execute_result"
    },
    {
     "data": {
      "text/plain": [
       "Text(-80, -20, 'source: HIVHaiti')"
      ]
     },
     "execution_count": 36,
     "metadata": {},
     "output_type": "execute_result"
    },
    {
     "data": {
      "image/png": "[encoded data removed]",
      "text/plain": [
       "<Figure size 1152x576 with 1 Axes>"
      ]
     },
     "metadata": {
      "needs_background": "light"
     },
     "output_type": "display_data"
    }
   ],
   "source": [
    "import matplotlib.pyplot as plt\n",
    "%matplotlib inline\n",
    "import seaborn as sns\n",
    "\n",
    "pivot_epa = epa_fy21.pivot_table(columns=\"fiscal_year\",values=\"patient_code\",fill_value=0,aggfunc='count')\n",
    "\n",
    "X= list(pivot_epa.columns)\n",
    "Y= pivot_epa.values.tolist()[0]\n",
    "data = []\n",
    "colonnes = []\n",
    "\n",
    "for x,y in zip(X,Y):\n",
    "    data.append(y)\n",
    "    colonnes.append(x)\n",
    "\n",
    "\n",
    "df = pd.DataFrame({\"fy\":colonnes, \"dt\":data})\n",
    "\n",
    "plt.figure(figsize=(16,8))\n",
    "sns.set_style(\"darkgrid\")\n",
    "splot = sns.barplot(x=\"dt\",y=\"fy\",data=df)\n",
    "splot.set_xlabel(\"\")\n",
    "splot.set_ylabel(\"\")\n",
    "plt.suptitle(\"AGYW, entered since march 2021 by the data clerk, presence in currilum\")\n",
    "for p in splot.patches:\n",
    "    width = p.get_width()\n",
    "    plt.text(2+p.get_width(), p.get_y()+0.50*p.get_height(),\n",
    "             '{:1.0f}'.format(width), fontdict=dict(color=\"red\",fontsize=12))\n",
    "    \n",
    "plt.annotate(\n",
    "    \"source: HIVHaiti\",(0,0), (-80,-20), fontsize=10, \n",
    "             xycoords='axes fraction', textcoords='offset points', va='top'\n",
    ")\n",
    "\n",
    "plt.savefig(\"curriculum_Presence\",dpi=400)"
   ]
  },
  {
   "cell_type": "code",
   "execution_count": 37,
   "metadata": {},
   "outputs": [
    {
     "data": {
      "text/plain": [
       "<Figure size 1152x576 with 0 Axes>"
      ]
     },
     "execution_count": 37,
     "metadata": {},
     "output_type": "execute_result"
    },
    {
     "data": {
      "text/plain": [
       "Text(0.5, 0, '')"
      ]
     },
     "execution_count": 37,
     "metadata": {},
     "output_type": "execute_result"
    },
    {
     "data": {
      "text/plain": [
       "Text(0, 0.5, '')"
      ]
     },
     "execution_count": 37,
     "metadata": {},
     "output_type": "execute_result"
    },
    {
     "data": {
      "text/plain": [
       "Text(0.5, 0.98, 'AGYW, entered since march 2021 by the data clerk, presence in currilum')"
      ]
     },
     "execution_count": 37,
     "metadata": {},
     "output_type": "execute_result"
    },
    {
     "data": {
      "text/plain": [
       "Text(2118.0, 0.0, '2116')"
      ]
     },
     "execution_count": 37,
     "metadata": {},
     "output_type": "execute_result"
    },
    {
     "data": {
      "text/plain": [
       "Text(1924.0, 1.0, '1922')"
      ]
     },
     "execution_count": 37,
     "metadata": {},
     "output_type": "execute_result"
    },
    {
     "data": {
      "text/plain": [
       "Text(1986.0, 2.0, '1984')"
      ]
     },
     "execution_count": 37,
     "metadata": {},
     "output_type": "execute_result"
    },
    {
     "data": {
      "text/plain": [
       "Text(2228.0, 3.0, '2226')"
      ]
     },
     "execution_count": 37,
     "metadata": {},
     "output_type": "execute_result"
    },
    {
     "data": {
      "text/plain": [
       "Text(2058.0, 4.0, '2056')"
      ]
     },
     "execution_count": 37,
     "metadata": {},
     "output_type": "execute_result"
    },
    {
     "data": {
      "image/png": "[encoded data removed]",
      "text/plain": [
       "<Figure size 1152x576 with 1 Axes>"
      ]
     },
     "metadata": {},
     "output_type": "display_data"
    }
   ],
   "source": [
    "pivot_all_epa = valid_all_epa.pivot_table(columns=\"fiscal_year\",values=\"patient_code\",fill_value=0,aggfunc='count')\n",
    "\n",
    "X= list(pivot_all_epa.columns)\n",
    "Y= pivot_all_epa.values.tolist()[0]\n",
    "data = []\n",
    "colonnes = []\n",
    "\n",
    "for x,y in zip(X,Y):\n",
    "    data.append(y)\n",
    "    colonnes.append(x)\n",
    "\n",
    "\n",
    "df = pd.DataFrame({\"fy\":colonnes, \"dt\":data})\n",
    "\n",
    "plt.figure(figsize=(16,8))\n",
    "sns.set_style(\"darkgrid\")\n",
    "splot = sns.barplot(x=\"dt\",y=\"fy\",data=df)\n",
    "splot.set_xlabel(\"\")\n",
    "splot.set_ylabel(\"\")\n",
    "plt.suptitle(\"AGYW, entered since march 2021 by the data clerk, presence in currilum\")\n",
    "for p in splot.patches:\n",
    "    width = p.get_width()\n",
    "    plt.text(2+p.get_width(), p.get_y()+0.50*p.get_height(),\n",
    "             '{:1.0f}'.format(width),fontdict=dict(color=\"red\",fontsize=12))\n",
    "\n",
    "plt.savefig(\"curriculum_all_fiscal\",dpi=1000)"
   ]
  },
  {
   "cell_type": "code",
   "execution_count": null,
   "metadata": {},
   "outputs": [],
   "source": []
  }
 ],
 "metadata": {
  "interpreter": {
   "hash": "4534460e0bdca1b390927d45471088fb3501d39abc4e3f2cee293892e17d7fc6"
  },
  "kernelspec": {
   "display_name": "Python 3.9.7 64-bit",
   "name": "python3"
  },
  "language_info": {
   "codemirror_mode": {
    "name": "ipython",
    "version": 3
   },
   "file_extension": ".py",
   "mimetype": "text/x-python",
   "name": "python",
   "nbconvert_exporter": "python",
   "pygments_lexer": "ipython3",
   "version": "3.9.7"
  }
 },
 "nbformat": 4,
 "nbformat_minor": 5
}
