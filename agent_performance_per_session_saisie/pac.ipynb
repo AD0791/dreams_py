{
 "cells": [
  {
   "cell_type": "code",
   "execution_count": 1,
   "source": [
    "import os\r\n",
    "from datetime import datetime\r\n",
    "#from datetime import date\r\n",
    "import pymysql\r\n",
    "from sqlalchemy import create_engine\r\n",
    "from decouple import config \r\n",
    "from dotenv import load_dotenv\r\n",
    "import pandas as pd\r\n",
    "import numpy as np\r\n",
    "from enum import Enum\r\n",
    "\r\n",
    "\r\n",
    "from IPython.core.interactiveshell import InteractiveShell\r\n",
    "InteractiveShell.ast_node_interactivity = \"all\""
   ],
   "outputs": [],
   "metadata": {}
  },
  {
   "cell_type": "code",
   "execution_count": 2,
   "source": [
    "load_dotenv()\r\n",
    "# get the environment variables needed\r\n",
    "USER= config('USRCaris')\r\n",
    "PASSWORD= config('PASSCaris')\r\n",
    "HOSTNAME= config('HOSTCaris')\r\n",
    "DBNAME= config('DBCaris')\r\n",
    "\r\n",
    "# get the engine to connect and fetch\r\n",
    "engine = create_engine(f\"mysql+pymysql://{USER}:{PASSWORD}@{HOSTNAME}/{DBNAME}\")\r\n",
    "query = '''\r\n",
    "SELECT \r\n",
    "    p.patient_code,\r\n",
    "    b.first_name,\r\n",
    "    b.last_name,\r\n",
    "    b.dob,\r\n",
    "    dsd.a1_dat_entvyou_a_ft_jjmmaa_egz_010817 AS interview_date,\r\n",
    "    dgs.date AS session_date,\r\n",
    "    dg.name AS group_name,\r\n",
    "    dh.name AS hub_name,\r\n",
    "    lc.name AS hub_commune,\r\n",
    "    ld.name AS hub_departement,\r\n",
    "    dsd.f_komin AS interview_commune,\r\n",
    "    ldt.name AS topic,\r\n",
    "    au.email as created_by,\r\n",
    "    au.username,\r\n",
    "    dgs.created_at as date_session_were_entered\r\n",
    "FROM\r\n",
    "    caris_db.dream_group_attendance dga\r\n",
    "        LEFT JOIN\r\n",
    "    dream_member dm ON dm.id_patient = dga.id_patient\r\n",
    "        LEFT JOIN\r\n",
    "    dreams_surveys_data dsd ON dsd.case_id = dm.case_id\r\n",
    "        LEFT JOIN\r\n",
    "    dream_group_session dgs ON dgs.id = dga.id_group_session\r\n",
    "        LEFT JOIN\r\n",
    "    dream_group dg ON dg.id = dgs.id_group\r\n",
    "        LEFT JOIN\r\n",
    "    dream_hub dh ON dh.id = dg.id_dream_hub\r\n",
    "        LEFT JOIN\r\n",
    "    lookup_commune lc ON lc.id = dh.commune\r\n",
    "        LEFT JOIN\r\n",
    "    lookup_departement ld ON ld.id = lc.departement\r\n",
    "        LEFT JOIN\r\n",
    "    lookup_dreams_topic ldt ON ldt.id = dgs.topic\r\n",
    "        LEFT JOIN\r\n",
    "    patient p ON p.id = dga.id_patient\r\n",
    "        LEFT JOIN\r\n",
    "    beneficiary b ON b.id_patient = dga.id_patient\r\n",
    "        left join \r\n",
    "            auth_users au  on au.id=dgs.created_by\r\n",
    "WHERE\r\n",
    "    dga.value = 'P'\r\n",
    "'''\r\n",
    "\r\n",
    "evaluation_performance_attendance = pd.read_sql_query(query,engine,parse_dates=True)\r\n",
    "\r\n",
    "\r\n",
    "# close the pool of connection\r\n",
    "engine.dispose()"
   ],
   "outputs": [
    {
     "output_type": "execute_result",
     "data": {
      "text/plain": [
       "True"
      ]
     },
     "metadata": {},
     "execution_count": 2
    }
   ],
   "metadata": {}
  },
  {
   "cell_type": "code",
   "execution_count": null,
   "source": [
    "## get the test excel file from Query (au besoin de verification)\r\n",
    "evaluation_performance_attendance.to_excel('epa.xlsx',index=False,na_rep=\"NULL\")"
   ],
   "outputs": [],
   "metadata": {}
  },
  {
   "cell_type": "markdown",
   "source": [
    "## Duplication aspect"
   ],
   "metadata": {
    "tags": []
   }
  },
  {
   "cell_type": "code",
   "execution_count": null,
   "source": [
    "evaluation_performance_attendance.dtypes"
   ],
   "outputs": [
    {
     "output_type": "execute_result",
     "data": {
      "text/plain": [
       "patient_code                         object\n",
       "first_name                           object\n",
       "last_name                            object\n",
       "dob                                  object\n",
       "interview_date                       object\n",
       "session_date                         object\n",
       "group_name                           object\n",
       "hub_name                             object\n",
       "hub_commune                          object\n",
       "hub_departement                      object\n",
       "interview_commune                    object\n",
       "topic                                object\n",
       "created_by                           object\n",
       "username                             object\n",
       "date_session_were_entered    datetime64[ns]\n",
       "dtype: object"
      ]
     },
     "metadata": {},
     "execution_count": 4
    }
   ],
   "metadata": {}
  },
  {
   "cell_type": "code",
   "execution_count": null,
   "source": [
    "epa_deduplicate = evaluation_performance_attendance.drop_duplicates(subset=['patient_code'])"
   ],
   "outputs": [],
   "metadata": {}
  },
  {
   "cell_type": "code",
   "execution_count": null,
   "source": [
    "evaluation_performance_attendance.shape\r\n",
    "epa_deduplicate.shape"
   ],
   "outputs": [
    {
     "output_type": "execute_result",
     "data": {
      "text/plain": [
       "(429665, 15)"
      ]
     },
     "metadata": {},
     "execution_count": 6
    },
    {
     "output_type": "execute_result",
     "data": {
      "text/plain": [
       "(24689, 15)"
      ]
     },
     "metadata": {},
     "execution_count": 6
    }
   ],
   "metadata": {}
  },
  {
   "cell_type": "markdown",
   "source": [
    "## Period of control aspect"
   ],
   "metadata": {}
  },
  {
   "cell_type": "code",
   "execution_count": null,
   "source": [
    "class Constante(Enum):\r\n",
    "    march_1_2021 = '2021-03-01'\r\n",
    "    specific = \"2021-08-02\""
   ],
   "outputs": [],
   "metadata": {}
  },
  {
   "cell_type": "code",
   "execution_count": null,
   "source": [
    "presencesaisie_startmars_endnow = evaluation_performance_attendance[evaluation_performance_attendance[\"date_session_were_entered\"]>=Constante.march_1_2021.value]\r\n",
    "presencesaisie_specific = evaluation_performance_attendance[evaluation_performance_attendance[\"date_session_were_entered\"]>=Constante.specific.value] \r\n",
    "epa_startmars_endnow= epa_deduplicate[epa_deduplicate['date_session_were_entered']>=Constante.march_1_2021.value]"
   ],
   "outputs": [],
   "metadata": {}
  },
  {
   "cell_type": "code",
   "execution_count": null,
   "source": [
    "presencesaisie_startmars_endnow.shape\r\n",
    "presencesaisie_specific.shape\r\n",
    "epa_startmars_endnow.shape"
   ],
   "outputs": [
    {
     "output_type": "execute_result",
     "data": {
      "text/plain": [
       "(110320, 15)"
      ]
     },
     "metadata": {},
     "execution_count": 9
    },
    {
     "output_type": "execute_result",
     "data": {
      "text/plain": [
       "(4229, 15)"
      ]
     },
     "metadata": {},
     "execution_count": 9
    },
    {
     "output_type": "execute_result",
     "data": {
      "text/plain": [
       "(6612, 15)"
      ]
     },
     "metadata": {},
     "execution_count": 9
    }
   ],
   "metadata": {}
  },
  {
   "cell_type": "markdown",
   "source": [
    "## Count by agents in descending order"
   ],
   "metadata": {}
  },
  {
   "cell_type": "code",
   "execution_count": null,
   "source": [
    "performance_session_global  = epa_startmars_endnow.groupby(['created_by']).count()\r\n",
    "presence_global = presencesaisie_startmars_endnow.groupby(['created_by']).count()\r\n",
    "presence_specific = presencesaisie_specific.groupby(['created_by']).count()"
   ],
   "outputs": [],
   "metadata": {}
  },
  {
   "cell_type": "code",
   "execution_count": null,
   "source": [
    "performance_session_global.sort_values(ascending=False, by='patient_code',inplace=True)\r\n",
    "presence_global.sort_values(ascending=False, by='patient_code',inplace=True)\r\n",
    "presence_specific.sort_values(ascending=False, by='patient_code',inplace=True)\r\n"
   ],
   "outputs": [],
   "metadata": {}
  },
  {
   "cell_type": "code",
   "execution_count": null,
   "source": [
    "performance_session  = pd.DataFrame( {\"nombre_de_filles\": performance_session_global['patient_code'], f\"nombre_de_presence_saisie_depuis_le_{Constante.march_1_2021.value}\":presence_global[\"patient_code\"],\r\n",
    "                                      f\"nombre_de_presence_saisie_depuis_le_{Constante.specific.value}\":presence_specific[\"patient_code\"]})\r\n",
    "performance_session.fillna(0,inplace=True)\r\n",
    "performance_session"
   ],
   "outputs": [
    {
     "output_type": "execute_result",
     "data": {
      "text/plain": [
       "                                              nombre_de_filles  \\\n",
       "created_by                                                       \n",
       "billyjolicoeur95@gmail.com                                2062   \n",
       "blonnichel@yahoo.fr                                        625   \n",
       "byronfabrice9@gmail.com                                   1139   \n",
       "coldina2020@gmail.com                                       12   \n",
       "diegoarmando.dorlean@carisfoundationintl.org               214   \n",
       "elionafredly7@gmail.com                                    913   \n",
       "ernst.belabre@carisfoundationintl.org                      453   \n",
       "francenelstjean.saed@yahoo.com                             378   \n",
       "gerald.poteau@carisfoundationintl.org                      199   \n",
       "jhonip77@yahoo.fr                                          160   \n",
       "roselord.despeignes@carisfoundationintl.org                144   \n",
       "twoody103@gmail.com                                        313   \n",
       "\n",
       "                                              nombre_de_presence_saisie_depuis_le_2021-03-01  \\\n",
       "created_by                                                                                     \n",
       "billyjolicoeur95@gmail.com                                                             35696   \n",
       "blonnichel@yahoo.fr                                                                    10934   \n",
       "byronfabrice9@gmail.com                                                                17730   \n",
       "coldina2020@gmail.com                                                                    403   \n",
       "diegoarmando.dorlean@carisfoundationintl.org                                            3417   \n",
       "elionafredly7@gmail.com                                                                18160   \n",
       "ernst.belabre@carisfoundationintl.org                                                   5449   \n",
       "francenelstjean.saed@yahoo.com                                                          5928   \n",
       "gerald.poteau@carisfoundationintl.org                                                   2325   \n",
       "jhonip77@yahoo.fr                                                                       3246   \n",
       "roselord.despeignes@carisfoundationintl.org                                             1402   \n",
       "twoody103@gmail.com                                                                     5630   \n",
       "\n",
       "                                              nombre_de_presence_saisie_depuis_le_2021-08-02  \n",
       "created_by                                                                                    \n",
       "billyjolicoeur95@gmail.com                                                             666.0  \n",
       "blonnichel@yahoo.fr                                                                    513.0  \n",
       "byronfabrice9@gmail.com                                                                969.0  \n",
       "coldina2020@gmail.com                                                                  126.0  \n",
       "diegoarmando.dorlean@carisfoundationintl.org                                             0.0  \n",
       "elionafredly7@gmail.com                                                               1029.0  \n",
       "ernst.belabre@carisfoundationintl.org                                                    0.0  \n",
       "francenelstjean.saed@yahoo.com                                                         476.0  \n",
       "gerald.poteau@carisfoundationintl.org                                                    0.0  \n",
       "jhonip77@yahoo.fr                                                                        0.0  \n",
       "roselord.despeignes@carisfoundationintl.org                                              0.0  \n",
       "twoody103@gmail.com                                                                    450.0  "
      ],
      "text/html": [
       "<div>\n",
       "<style scoped>\n",
       "    .dataframe tbody tr th:only-of-type {\n",
       "        vertical-align: middle;\n",
       "    }\n",
       "\n",
       "    .dataframe tbody tr th {\n",
       "        vertical-align: top;\n",
       "    }\n",
       "\n",
       "    .dataframe thead th {\n",
       "        text-align: right;\n",
       "    }\n",
       "</style>\n",
       "<table border=\"1\" class=\"dataframe\">\n",
       "  <thead>\n",
       "    <tr style=\"text-align: right;\">\n",
       "      <th></th>\n",
       "      <th>nombre_de_filles</th>\n",
       "      <th>nombre_de_presence_saisie_depuis_le_2021-03-01</th>\n",
       "      <th>nombre_de_presence_saisie_depuis_le_2021-08-02</th>\n",
       "    </tr>\n",
       "    <tr>\n",
       "      <th>created_by</th>\n",
       "      <th></th>\n",
       "      <th></th>\n",
       "      <th></th>\n",
       "    </tr>\n",
       "  </thead>\n",
       "  <tbody>\n",
       "    <tr>\n",
       "      <th>billyjolicoeur95@gmail.com</th>\n",
       "      <td>2062</td>\n",
       "      <td>35696</td>\n",
       "      <td>666.0</td>\n",
       "    </tr>\n",
       "    <tr>\n",
       "      <th>blonnichel@yahoo.fr</th>\n",
       "      <td>625</td>\n",
       "      <td>10934</td>\n",
       "      <td>513.0</td>\n",
       "    </tr>\n",
       "    <tr>\n",
       "      <th>byronfabrice9@gmail.com</th>\n",
       "      <td>1139</td>\n",
       "      <td>17730</td>\n",
       "      <td>969.0</td>\n",
       "    </tr>\n",
       "    <tr>\n",
       "      <th>coldina2020@gmail.com</th>\n",
       "      <td>12</td>\n",
       "      <td>403</td>\n",
       "      <td>126.0</td>\n",
       "    </tr>\n",
       "    <tr>\n",
       "      <th>diegoarmando.dorlean@carisfoundationintl.org</th>\n",
       "      <td>214</td>\n",
       "      <td>3417</td>\n",
       "      <td>0.0</td>\n",
       "    </tr>\n",
       "    <tr>\n",
       "      <th>elionafredly7@gmail.com</th>\n",
       "      <td>913</td>\n",
       "      <td>18160</td>\n",
       "      <td>1029.0</td>\n",
       "    </tr>\n",
       "    <tr>\n",
       "      <th>ernst.belabre@carisfoundationintl.org</th>\n",
       "      <td>453</td>\n",
       "      <td>5449</td>\n",
       "      <td>0.0</td>\n",
       "    </tr>\n",
       "    <tr>\n",
       "      <th>francenelstjean.saed@yahoo.com</th>\n",
       "      <td>378</td>\n",
       "      <td>5928</td>\n",
       "      <td>476.0</td>\n",
       "    </tr>\n",
       "    <tr>\n",
       "      <th>gerald.poteau@carisfoundationintl.org</th>\n",
       "      <td>199</td>\n",
       "      <td>2325</td>\n",
       "      <td>0.0</td>\n",
       "    </tr>\n",
       "    <tr>\n",
       "      <th>jhonip77@yahoo.fr</th>\n",
       "      <td>160</td>\n",
       "      <td>3246</td>\n",
       "      <td>0.0</td>\n",
       "    </tr>\n",
       "    <tr>\n",
       "      <th>roselord.despeignes@carisfoundationintl.org</th>\n",
       "      <td>144</td>\n",
       "      <td>1402</td>\n",
       "      <td>0.0</td>\n",
       "    </tr>\n",
       "    <tr>\n",
       "      <th>twoody103@gmail.com</th>\n",
       "      <td>313</td>\n",
       "      <td>5630</td>\n",
       "      <td>450.0</td>\n",
       "    </tr>\n",
       "  </tbody>\n",
       "</table>\n",
       "</div>"
      ]
     },
     "metadata": {},
     "execution_count": 12
    }
   ],
   "metadata": {}
  },
  {
   "cell_type": "markdown",
   "source": [
    "## MODIFY BELOW TO GET THE DIFFERENCE GIVEN LAST WEEK"
   ],
   "metadata": {}
  },
  {
   "cell_type": "code",
   "execution_count": null,
   "source": [
    "week_before_perf = pd.read_excel(\"rapport_agents_saisie_des_sessions_26Juillet2021.xlsx\", sheet_name=\"filles_saisies_global\", index_col=\"created_by\")\r\n",
    "performance_session[\"nombre_de_filles_saisie_par_rapport_a_la_semaine_derniere\"] =  performance_session[\"nombre_de_filles\"] - week_before_perf[\"nombre_de_filles\"]\r\n",
    "performance_session.fillna(0.0,inplace=True)\r\n",
    "performance_session.nombre_de_filles_saisie_par_rapport_a_la_semaine_derniere = performance_session.nombre_de_filles_saisie_par_rapport_a_la_semaine_derniere.astype(\"int16\")\r\n",
    "performance_session[f\"nombre_de_presence_saisie_depuis_le_{Constante.specific.value}\"] = performance_session[f\"nombre_de_presence_saisie_depuis_le_{Constante.specific.value}\"].astype('int16')"
   ],
   "outputs": [],
   "metadata": {}
  },
  {
   "cell_type": "code",
   "execution_count": null,
   "source": [
    "columns_performance_session = performance_session.columns.sort_values().tolist()\r\n",
    "performance_session = performance_session.reindex(columns=columns_performance_session)"
   ],
   "outputs": [],
   "metadata": {}
  },
  {
   "cell_type": "code",
   "execution_count": null,
   "source": [
    "performance_session"
   ],
   "outputs": [
    {
     "output_type": "execute_result",
     "data": {
      "text/plain": [
       "                                              nombre_de_filles  \\\n",
       "created_by                                                       \n",
       "billyjolicoeur95@gmail.com                                2062   \n",
       "blonnichel@yahoo.fr                                        625   \n",
       "byronfabrice9@gmail.com                                   1139   \n",
       "coldina2020@gmail.com                                       12   \n",
       "diegoarmando.dorlean@carisfoundationintl.org               214   \n",
       "elionafredly7@gmail.com                                    913   \n",
       "ernst.belabre@carisfoundationintl.org                      453   \n",
       "francenelstjean.saed@yahoo.com                             378   \n",
       "gerald.poteau@carisfoundationintl.org                      199   \n",
       "jhonip77@yahoo.fr                                          160   \n",
       "roselord.despeignes@carisfoundationintl.org                144   \n",
       "twoody103@gmail.com                                        313   \n",
       "\n",
       "                                              nombre_de_filles_saisie_par_rapport_a_la_semaine_derniere  \\\n",
       "created_by                                                                                                \n",
       "billyjolicoeur95@gmail.com                                                                  271           \n",
       "blonnichel@yahoo.fr                                                                          62           \n",
       "byronfabrice9@gmail.com                                                                     171           \n",
       "coldina2020@gmail.com                                                                         0           \n",
       "diegoarmando.dorlean@carisfoundationintl.org                                                 17           \n",
       "elionafredly7@gmail.com                                                                     142           \n",
       "ernst.belabre@carisfoundationintl.org                                                        77           \n",
       "francenelstjean.saed@yahoo.com                                                               18           \n",
       "gerald.poteau@carisfoundationintl.org                                                         9           \n",
       "jhonip77@yahoo.fr                                                                             0           \n",
       "roselord.despeignes@carisfoundationintl.org                                                  13           \n",
       "twoody103@gmail.com                                                                          54           \n",
       "\n",
       "                                              nombre_de_presence_saisie_depuis_le_2021-03-01  \\\n",
       "created_by                                                                                     \n",
       "billyjolicoeur95@gmail.com                                                             35696   \n",
       "blonnichel@yahoo.fr                                                                    10934   \n",
       "byronfabrice9@gmail.com                                                                17730   \n",
       "coldina2020@gmail.com                                                                    403   \n",
       "diegoarmando.dorlean@carisfoundationintl.org                                            3417   \n",
       "elionafredly7@gmail.com                                                                18160   \n",
       "ernst.belabre@carisfoundationintl.org                                                   5449   \n",
       "francenelstjean.saed@yahoo.com                                                          5928   \n",
       "gerald.poteau@carisfoundationintl.org                                                   2325   \n",
       "jhonip77@yahoo.fr                                                                       3246   \n",
       "roselord.despeignes@carisfoundationintl.org                                             1402   \n",
       "twoody103@gmail.com                                                                     5630   \n",
       "\n",
       "                                              nombre_de_presence_saisie_depuis_le_2021-08-02  \n",
       "created_by                                                                                    \n",
       "billyjolicoeur95@gmail.com                                                               666  \n",
       "blonnichel@yahoo.fr                                                                      513  \n",
       "byronfabrice9@gmail.com                                                                  969  \n",
       "coldina2020@gmail.com                                                                    126  \n",
       "diegoarmando.dorlean@carisfoundationintl.org                                               0  \n",
       "elionafredly7@gmail.com                                                                 1029  \n",
       "ernst.belabre@carisfoundationintl.org                                                      0  \n",
       "francenelstjean.saed@yahoo.com                                                           476  \n",
       "gerald.poteau@carisfoundationintl.org                                                      0  \n",
       "jhonip77@yahoo.fr                                                                          0  \n",
       "roselord.despeignes@carisfoundationintl.org                                                0  \n",
       "twoody103@gmail.com                                                                      450  "
      ],
      "text/html": [
       "<div>\n",
       "<style scoped>\n",
       "    .dataframe tbody tr th:only-of-type {\n",
       "        vertical-align: middle;\n",
       "    }\n",
       "\n",
       "    .dataframe tbody tr th {\n",
       "        vertical-align: top;\n",
       "    }\n",
       "\n",
       "    .dataframe thead th {\n",
       "        text-align: right;\n",
       "    }\n",
       "</style>\n",
       "<table border=\"1\" class=\"dataframe\">\n",
       "  <thead>\n",
       "    <tr style=\"text-align: right;\">\n",
       "      <th></th>\n",
       "      <th>nombre_de_filles</th>\n",
       "      <th>nombre_de_filles_saisie_par_rapport_a_la_semaine_derniere</th>\n",
       "      <th>nombre_de_presence_saisie_depuis_le_2021-03-01</th>\n",
       "      <th>nombre_de_presence_saisie_depuis_le_2021-08-02</th>\n",
       "    </tr>\n",
       "    <tr>\n",
       "      <th>created_by</th>\n",
       "      <th></th>\n",
       "      <th></th>\n",
       "      <th></th>\n",
       "      <th></th>\n",
       "    </tr>\n",
       "  </thead>\n",
       "  <tbody>\n",
       "    <tr>\n",
       "      <th>billyjolicoeur95@gmail.com</th>\n",
       "      <td>2062</td>\n",
       "      <td>271</td>\n",
       "      <td>35696</td>\n",
       "      <td>666</td>\n",
       "    </tr>\n",
       "    <tr>\n",
       "      <th>blonnichel@yahoo.fr</th>\n",
       "      <td>625</td>\n",
       "      <td>62</td>\n",
       "      <td>10934</td>\n",
       "      <td>513</td>\n",
       "    </tr>\n",
       "    <tr>\n",
       "      <th>byronfabrice9@gmail.com</th>\n",
       "      <td>1139</td>\n",
       "      <td>171</td>\n",
       "      <td>17730</td>\n",
       "      <td>969</td>\n",
       "    </tr>\n",
       "    <tr>\n",
       "      <th>coldina2020@gmail.com</th>\n",
       "      <td>12</td>\n",
       "      <td>0</td>\n",
       "      <td>403</td>\n",
       "      <td>126</td>\n",
       "    </tr>\n",
       "    <tr>\n",
       "      <th>diegoarmando.dorlean@carisfoundationintl.org</th>\n",
       "      <td>214</td>\n",
       "      <td>17</td>\n",
       "      <td>3417</td>\n",
       "      <td>0</td>\n",
       "    </tr>\n",
       "    <tr>\n",
       "      <th>elionafredly7@gmail.com</th>\n",
       "      <td>913</td>\n",
       "      <td>142</td>\n",
       "      <td>18160</td>\n",
       "      <td>1029</td>\n",
       "    </tr>\n",
       "    <tr>\n",
       "      <th>ernst.belabre@carisfoundationintl.org</th>\n",
       "      <td>453</td>\n",
       "      <td>77</td>\n",
       "      <td>5449</td>\n",
       "      <td>0</td>\n",
       "    </tr>\n",
       "    <tr>\n",
       "      <th>francenelstjean.saed@yahoo.com</th>\n",
       "      <td>378</td>\n",
       "      <td>18</td>\n",
       "      <td>5928</td>\n",
       "      <td>476</td>\n",
       "    </tr>\n",
       "    <tr>\n",
       "      <th>gerald.poteau@carisfoundationintl.org</th>\n",
       "      <td>199</td>\n",
       "      <td>9</td>\n",
       "      <td>2325</td>\n",
       "      <td>0</td>\n",
       "    </tr>\n",
       "    <tr>\n",
       "      <th>jhonip77@yahoo.fr</th>\n",
       "      <td>160</td>\n",
       "      <td>0</td>\n",
       "      <td>3246</td>\n",
       "      <td>0</td>\n",
       "    </tr>\n",
       "    <tr>\n",
       "      <th>roselord.despeignes@carisfoundationintl.org</th>\n",
       "      <td>144</td>\n",
       "      <td>13</td>\n",
       "      <td>1402</td>\n",
       "      <td>0</td>\n",
       "    </tr>\n",
       "    <tr>\n",
       "      <th>twoody103@gmail.com</th>\n",
       "      <td>313</td>\n",
       "      <td>54</td>\n",
       "      <td>5630</td>\n",
       "      <td>450</td>\n",
       "    </tr>\n",
       "  </tbody>\n",
       "</table>\n",
       "</div>"
      ]
     },
     "metadata": {},
     "execution_count": 15
    }
   ],
   "metadata": {}
  },
  {
   "cell_type": "markdown",
   "source": [
    "## Agent per Commune"
   ],
   "metadata": {}
  },
  {
   "cell_type": "code",
   "execution_count": null,
   "source": [
    "performance_agents_par_commune = epa_startmars_endnow.pivot_table(index='created_by',columns='hub_commune',values=['patient_code'],aggfunc='count',fill_value=0,margins=True, margins_name=\"Grand Total\")\r\n",
    "#performance_agents_par_commune.reset_index(inplace=True)"
   ],
   "outputs": [],
   "metadata": {}
  },
  {
   "cell_type": "code",
   "execution_count": null,
   "source": [
    "performance_agents_par_commune.sort_values(by=('patient_code',\"Grand Total\") ,ascending=False,inplace=True)"
   ],
   "outputs": [],
   "metadata": {}
  },
  {
   "cell_type": "code",
   "execution_count": null,
   "source": [
    "performance_agents_par_commune"
   ],
   "outputs": [
    {
     "output_type": "execute_result",
     "data": {
      "text/plain": [
       "                                             patient_code                   \\\n",
       "hub_commune                                   Cap-Haïtien Carrefour Delmas   \n",
       "created_by                                                                   \n",
       "Grand Total                                           485       597    187   \n",
       "billyjolicoeur95@gmail.com                            305       159    124   \n",
       "byronfabrice9@gmail.com                                70       140      5   \n",
       "elionafredly7@gmail.com                                31       216     39   \n",
       "blonnichel@yahoo.fr                                     0         0      0   \n",
       "ernst.belabre@carisfoundationintl.org                  38         0      0   \n",
       "francenelstjean.saed@yahoo.com                          0         0      0   \n",
       "twoody103@gmail.com                                    20        82      2   \n",
       "diegoarmando.dorlean@carisfoundationintl.org            0         0      0   \n",
       "gerald.poteau@carisfoundationintl.org                   0         0      0   \n",
       "jhonip77@yahoo.fr                                      21         0     17   \n",
       "roselord.despeignes@carisfoundationintl.org             0         0      0   \n",
       "coldina2020@gmail.com                                   0         0      0   \n",
       "\n",
       "                                                                  \\\n",
       "hub_commune                                  Desdunes Dessalines   \n",
       "created_by                                                         \n",
       "Grand Total                                        96        430   \n",
       "billyjolicoeur95@gmail.com                         18          0   \n",
       "byronfabrice9@gmail.com                             0         58   \n",
       "elionafredly7@gmail.com                             0          0   \n",
       "blonnichel@yahoo.fr                                 0          0   \n",
       "ernst.belabre@carisfoundationintl.org              36          0   \n",
       "francenelstjean.saed@yahoo.com                      2        372   \n",
       "twoody103@gmail.com                                 0          0   \n",
       "diegoarmando.dorlean@carisfoundationintl.org        0          0   \n",
       "gerald.poteau@carisfoundationintl.org               5          0   \n",
       "jhonip77@yahoo.fr                                  34          0   \n",
       "roselord.despeignes@carisfoundationintl.org         1          0   \n",
       "coldina2020@gmail.com                               0          0   \n",
       "\n",
       "                                                                              \\\n",
       "hub_commune                                  Grande Saline Gressier Kenscoff   \n",
       "created_by                                                                     \n",
       "Grand Total                                            171      548     1130   \n",
       "billyjolicoeur95@gmail.com                               0       73      611   \n",
       "byronfabrice9@gmail.com                                  0      171      299   \n",
       "elionafredly7@gmail.com                                  0      273       68   \n",
       "blonnichel@yahoo.fr                                      0        0        0   \n",
       "ernst.belabre@carisfoundationintl.org                   53        0        0   \n",
       "francenelstjean.saed@yahoo.com                           4        0        0   \n",
       "twoody103@gmail.com                                      0       31       98   \n",
       "diegoarmando.dorlean@carisfoundationintl.org            59        0        0   \n",
       "gerald.poteau@carisfoundationintl.org                   55        0        0   \n",
       "jhonip77@yahoo.fr                                        0        0       54   \n",
       "roselord.despeignes@carisfoundationintl.org              0        0        0   \n",
       "coldina2020@gmail.com                                    0        0        0   \n",
       "\n",
       "                                                                    ...  \\\n",
       "hub_commune                                  La Chapelle Liancourt  ...   \n",
       "created_by                                                          ...   \n",
       "Grand Total                                          324        57  ...   \n",
       "billyjolicoeur95@gmail.com                            20         0  ...   \n",
       "byronfabrice9@gmail.com                               37         0  ...   \n",
       "elionafredly7@gmail.com                                0         0  ...   \n",
       "blonnichel@yahoo.fr                                   50        40  ...   \n",
       "ernst.belabre@carisfoundationintl.org                118        17  ...   \n",
       "francenelstjean.saed@yahoo.com                         0         0  ...   \n",
       "twoody103@gmail.com                                    0         0  ...   \n",
       "diegoarmando.dorlean@carisfoundationintl.org          74         0  ...   \n",
       "gerald.poteau@carisfoundationintl.org                  4         0  ...   \n",
       "jhonip77@yahoo.fr                                      0         0  ...   \n",
       "roselord.despeignes@carisfoundationintl.org           21         0  ...   \n",
       "coldina2020@gmail.com                                  0         0  ...   \n",
       "\n",
       "                                                        \\\n",
       "hub_commune                                  Montrouis   \n",
       "created_by                                               \n",
       "Grand Total                                        151   \n",
       "billyjolicoeur95@gmail.com                           0   \n",
       "byronfabrice9@gmail.com                              0   \n",
       "elionafredly7@gmail.com                              0   \n",
       "blonnichel@yahoo.fr                                 82   \n",
       "ernst.belabre@carisfoundationintl.org                0   \n",
       "francenelstjean.saed@yahoo.com                       0   \n",
       "twoody103@gmail.com                                  0   \n",
       "diegoarmando.dorlean@carisfoundationintl.org         0   \n",
       "gerald.poteau@carisfoundationintl.org               21   \n",
       "jhonip77@yahoo.fr                                   16   \n",
       "roselord.despeignes@carisfoundationintl.org         32   \n",
       "coldina2020@gmail.com                                0   \n",
       "\n",
       "                                                                             \\\n",
       "hub_commune                                  Petite Rivière de l'Artibonite   \n",
       "created_by                                                                    \n",
       "Grand Total                                                             296   \n",
       "billyjolicoeur95@gmail.com                                              126   \n",
       "byronfabrice9@gmail.com                                                  37   \n",
       "elionafredly7@gmail.com                                                  13   \n",
       "blonnichel@yahoo.fr                                                       0   \n",
       "ernst.belabre@carisfoundationintl.org                                    15   \n",
       "francenelstjean.saed@yahoo.com                                            0   \n",
       "twoody103@gmail.com                                                       8   \n",
       "diegoarmando.dorlean@carisfoundationintl.org                             41   \n",
       "gerald.poteau@carisfoundationintl.org                                    20   \n",
       "jhonip77@yahoo.fr                                                         0   \n",
       "roselord.despeignes@carisfoundationintl.org                              36   \n",
       "coldina2020@gmail.com                                                     0   \n",
       "\n",
       "                                                                            \\\n",
       "hub_commune                                  Plaine-du-Nord Port-au-Prince   \n",
       "created_by                                                                   \n",
       "Grand Total                                             100            326   \n",
       "billyjolicoeur95@gmail.com                               80             40   \n",
       "byronfabrice9@gmail.com                                  14            117   \n",
       "elionafredly7@gmail.com                                   0            137   \n",
       "blonnichel@yahoo.fr                                       0              0   \n",
       "ernst.belabre@carisfoundationintl.org                     2              0   \n",
       "francenelstjean.saed@yahoo.com                            0              0   \n",
       "twoody103@gmail.com                                       0             32   \n",
       "diegoarmando.dorlean@carisfoundationintl.org              0              0   \n",
       "gerald.poteau@carisfoundationintl.org                     0              0   \n",
       "jhonip77@yahoo.fr                                         2              0   \n",
       "roselord.despeignes@carisfoundationintl.org               0              0   \n",
       "coldina2020@gmail.com                                     2              0   \n",
       "\n",
       "                                                                         \\\n",
       "hub_commune                                  Pétionville Quartier-Morin   \n",
       "created_by                                                                \n",
       "Grand Total                                          188             30   \n",
       "billyjolicoeur95@gmail.com                           107              0   \n",
       "byronfabrice9@gmail.com                               52              7   \n",
       "elionafredly7@gmail.com                                7              0   \n",
       "blonnichel@yahoo.fr                                    0              0   \n",
       "ernst.belabre@carisfoundationintl.org                  0             23   \n",
       "francenelstjean.saed@yahoo.com                         0              0   \n",
       "twoody103@gmail.com                                   22              0   \n",
       "diegoarmando.dorlean@carisfoundationintl.org           0              0   \n",
       "gerald.poteau@carisfoundationintl.org                  0              0   \n",
       "jhonip77@yahoo.fr                                      0              0   \n",
       "roselord.despeignes@carisfoundationintl.org            0              0   \n",
       "coldina2020@gmail.com                                  0              0   \n",
       "\n",
       "                                                                           \\\n",
       "hub_commune                                  Saint-Marc Tabarre Verrettes   \n",
       "created_by                                                                  \n",
       "Grand Total                                         443      99       494   \n",
       "billyjolicoeur95@gmail.com                           35      71        10   \n",
       "byronfabrice9@gmail.com                              41      26         0   \n",
       "elionafredly7@gmail.com                              28       2        62   \n",
       "blonnichel@yahoo.fr                                 265       0       188   \n",
       "ernst.belabre@carisfoundationintl.org                19       0       101   \n",
       "francenelstjean.saed@yahoo.com                        0       0         0   \n",
       "twoody103@gmail.com                                   0       0         0   \n",
       "diegoarmando.dorlean@carisfoundationintl.org          0       0        40   \n",
       "gerald.poteau@carisfoundationintl.org                42       0        52   \n",
       "jhonip77@yahoo.fr                                     0       0         0   \n",
       "roselord.despeignes@carisfoundationintl.org          13       0        41   \n",
       "coldina2020@gmail.com                                 0       0         0   \n",
       "\n",
       "                                                          \n",
       "hub_commune                                  Grand Total  \n",
       "created_by                                                \n",
       "Grand Total                                         6612  \n",
       "billyjolicoeur95@gmail.com                          2062  \n",
       "byronfabrice9@gmail.com                             1139  \n",
       "elionafredly7@gmail.com                              913  \n",
       "blonnichel@yahoo.fr                                  625  \n",
       "ernst.belabre@carisfoundationintl.org                453  \n",
       "francenelstjean.saed@yahoo.com                       378  \n",
       "twoody103@gmail.com                                  313  \n",
       "diegoarmando.dorlean@carisfoundationintl.org         214  \n",
       "gerald.poteau@carisfoundationintl.org                199  \n",
       "jhonip77@yahoo.fr                                    160  \n",
       "roselord.despeignes@carisfoundationintl.org          144  \n",
       "coldina2020@gmail.com                                 12  \n",
       "\n",
       "[13 rows x 22 columns]"
      ],
      "text/html": [
       "<div>\n",
       "<style scoped>\n",
       "    .dataframe tbody tr th:only-of-type {\n",
       "        vertical-align: middle;\n",
       "    }\n",
       "\n",
       "    .dataframe tbody tr th {\n",
       "        vertical-align: top;\n",
       "    }\n",
       "\n",
       "    .dataframe thead tr th {\n",
       "        text-align: left;\n",
       "    }\n",
       "\n",
       "    .dataframe thead tr:last-of-type th {\n",
       "        text-align: right;\n",
       "    }\n",
       "</style>\n",
       "<table border=\"1\" class=\"dataframe\">\n",
       "  <thead>\n",
       "    <tr>\n",
       "      <th></th>\n",
       "      <th colspan=\"21\" halign=\"left\">patient_code</th>\n",
       "    </tr>\n",
       "    <tr>\n",
       "      <th>hub_commune</th>\n",
       "      <th>Cap-Haïtien</th>\n",
       "      <th>Carrefour</th>\n",
       "      <th>Delmas</th>\n",
       "      <th>Desdunes</th>\n",
       "      <th>Dessalines</th>\n",
       "      <th>Grande Saline</th>\n",
       "      <th>Gressier</th>\n",
       "      <th>Kenscoff</th>\n",
       "      <th>La Chapelle</th>\n",
       "      <th>Liancourt</th>\n",
       "      <th>...</th>\n",
       "      <th>Montrouis</th>\n",
       "      <th>Petite Rivière de l'Artibonite</th>\n",
       "      <th>Plaine-du-Nord</th>\n",
       "      <th>Port-au-Prince</th>\n",
       "      <th>Pétionville</th>\n",
       "      <th>Quartier-Morin</th>\n",
       "      <th>Saint-Marc</th>\n",
       "      <th>Tabarre</th>\n",
       "      <th>Verrettes</th>\n",
       "      <th>Grand Total</th>\n",
       "    </tr>\n",
       "    <tr>\n",
       "      <th>created_by</th>\n",
       "      <th></th>\n",
       "      <th></th>\n",
       "      <th></th>\n",
       "      <th></th>\n",
       "      <th></th>\n",
       "      <th></th>\n",
       "      <th></th>\n",
       "      <th></th>\n",
       "      <th></th>\n",
       "      <th></th>\n",
       "      <th></th>\n",
       "      <th></th>\n",
       "      <th></th>\n",
       "      <th></th>\n",
       "      <th></th>\n",
       "      <th></th>\n",
       "      <th></th>\n",
       "      <th></th>\n",
       "      <th></th>\n",
       "      <th></th>\n",
       "      <th></th>\n",
       "    </tr>\n",
       "  </thead>\n",
       "  <tbody>\n",
       "    <tr>\n",
       "      <th>Grand Total</th>\n",
       "      <td>485</td>\n",
       "      <td>597</td>\n",
       "      <td>187</td>\n",
       "      <td>96</td>\n",
       "      <td>430</td>\n",
       "      <td>171</td>\n",
       "      <td>548</td>\n",
       "      <td>1130</td>\n",
       "      <td>324</td>\n",
       "      <td>57</td>\n",
       "      <td>...</td>\n",
       "      <td>151</td>\n",
       "      <td>296</td>\n",
       "      <td>100</td>\n",
       "      <td>326</td>\n",
       "      <td>188</td>\n",
       "      <td>30</td>\n",
       "      <td>443</td>\n",
       "      <td>99</td>\n",
       "      <td>494</td>\n",
       "      <td>6612</td>\n",
       "    </tr>\n",
       "    <tr>\n",
       "      <th>billyjolicoeur95@gmail.com</th>\n",
       "      <td>305</td>\n",
       "      <td>159</td>\n",
       "      <td>124</td>\n",
       "      <td>18</td>\n",
       "      <td>0</td>\n",
       "      <td>0</td>\n",
       "      <td>73</td>\n",
       "      <td>611</td>\n",
       "      <td>20</td>\n",
       "      <td>0</td>\n",
       "      <td>...</td>\n",
       "      <td>0</td>\n",
       "      <td>126</td>\n",
       "      <td>80</td>\n",
       "      <td>40</td>\n",
       "      <td>107</td>\n",
       "      <td>0</td>\n",
       "      <td>35</td>\n",
       "      <td>71</td>\n",
       "      <td>10</td>\n",
       "      <td>2062</td>\n",
       "    </tr>\n",
       "    <tr>\n",
       "      <th>byronfabrice9@gmail.com</th>\n",
       "      <td>70</td>\n",
       "      <td>140</td>\n",
       "      <td>5</td>\n",
       "      <td>0</td>\n",
       "      <td>58</td>\n",
       "      <td>0</td>\n",
       "      <td>171</td>\n",
       "      <td>299</td>\n",
       "      <td>37</td>\n",
       "      <td>0</td>\n",
       "      <td>...</td>\n",
       "      <td>0</td>\n",
       "      <td>37</td>\n",
       "      <td>14</td>\n",
       "      <td>117</td>\n",
       "      <td>52</td>\n",
       "      <td>7</td>\n",
       "      <td>41</td>\n",
       "      <td>26</td>\n",
       "      <td>0</td>\n",
       "      <td>1139</td>\n",
       "    </tr>\n",
       "    <tr>\n",
       "      <th>elionafredly7@gmail.com</th>\n",
       "      <td>31</td>\n",
       "      <td>216</td>\n",
       "      <td>39</td>\n",
       "      <td>0</td>\n",
       "      <td>0</td>\n",
       "      <td>0</td>\n",
       "      <td>273</td>\n",
       "      <td>68</td>\n",
       "      <td>0</td>\n",
       "      <td>0</td>\n",
       "      <td>...</td>\n",
       "      <td>0</td>\n",
       "      <td>13</td>\n",
       "      <td>0</td>\n",
       "      <td>137</td>\n",
       "      <td>7</td>\n",
       "      <td>0</td>\n",
       "      <td>28</td>\n",
       "      <td>2</td>\n",
       "      <td>62</td>\n",
       "      <td>913</td>\n",
       "    </tr>\n",
       "    <tr>\n",
       "      <th>blonnichel@yahoo.fr</th>\n",
       "      <td>0</td>\n",
       "      <td>0</td>\n",
       "      <td>0</td>\n",
       "      <td>0</td>\n",
       "      <td>0</td>\n",
       "      <td>0</td>\n",
       "      <td>0</td>\n",
       "      <td>0</td>\n",
       "      <td>50</td>\n",
       "      <td>40</td>\n",
       "      <td>...</td>\n",
       "      <td>82</td>\n",
       "      <td>0</td>\n",
       "      <td>0</td>\n",
       "      <td>0</td>\n",
       "      <td>0</td>\n",
       "      <td>0</td>\n",
       "      <td>265</td>\n",
       "      <td>0</td>\n",
       "      <td>188</td>\n",
       "      <td>625</td>\n",
       "    </tr>\n",
       "    <tr>\n",
       "      <th>ernst.belabre@carisfoundationintl.org</th>\n",
       "      <td>38</td>\n",
       "      <td>0</td>\n",
       "      <td>0</td>\n",
       "      <td>36</td>\n",
       "      <td>0</td>\n",
       "      <td>53</td>\n",
       "      <td>0</td>\n",
       "      <td>0</td>\n",
       "      <td>118</td>\n",
       "      <td>17</td>\n",
       "      <td>...</td>\n",
       "      <td>0</td>\n",
       "      <td>15</td>\n",
       "      <td>2</td>\n",
       "      <td>0</td>\n",
       "      <td>0</td>\n",
       "      <td>23</td>\n",
       "      <td>19</td>\n",
       "      <td>0</td>\n",
       "      <td>101</td>\n",
       "      <td>453</td>\n",
       "    </tr>\n",
       "    <tr>\n",
       "      <th>francenelstjean.saed@yahoo.com</th>\n",
       "      <td>0</td>\n",
       "      <td>0</td>\n",
       "      <td>0</td>\n",
       "      <td>2</td>\n",
       "      <td>372</td>\n",
       "      <td>4</td>\n",
       "      <td>0</td>\n",
       "      <td>0</td>\n",
       "      <td>0</td>\n",
       "      <td>0</td>\n",
       "      <td>...</td>\n",
       "      <td>0</td>\n",
       "      <td>0</td>\n",
       "      <td>0</td>\n",
       "      <td>0</td>\n",
       "      <td>0</td>\n",
       "      <td>0</td>\n",
       "      <td>0</td>\n",
       "      <td>0</td>\n",
       "      <td>0</td>\n",
       "      <td>378</td>\n",
       "    </tr>\n",
       "    <tr>\n",
       "      <th>twoody103@gmail.com</th>\n",
       "      <td>20</td>\n",
       "      <td>82</td>\n",
       "      <td>2</td>\n",
       "      <td>0</td>\n",
       "      <td>0</td>\n",
       "      <td>0</td>\n",
       "      <td>31</td>\n",
       "      <td>98</td>\n",
       "      <td>0</td>\n",
       "      <td>0</td>\n",
       "      <td>...</td>\n",
       "      <td>0</td>\n",
       "      <td>8</td>\n",
       "      <td>0</td>\n",
       "      <td>32</td>\n",
       "      <td>22</td>\n",
       "      <td>0</td>\n",
       "      <td>0</td>\n",
       "      <td>0</td>\n",
       "      <td>0</td>\n",
       "      <td>313</td>\n",
       "    </tr>\n",
       "    <tr>\n",
       "      <th>diegoarmando.dorlean@carisfoundationintl.org</th>\n",
       "      <td>0</td>\n",
       "      <td>0</td>\n",
       "      <td>0</td>\n",
       "      <td>0</td>\n",
       "      <td>0</td>\n",
       "      <td>59</td>\n",
       "      <td>0</td>\n",
       "      <td>0</td>\n",
       "      <td>74</td>\n",
       "      <td>0</td>\n",
       "      <td>...</td>\n",
       "      <td>0</td>\n",
       "      <td>41</td>\n",
       "      <td>0</td>\n",
       "      <td>0</td>\n",
       "      <td>0</td>\n",
       "      <td>0</td>\n",
       "      <td>0</td>\n",
       "      <td>0</td>\n",
       "      <td>40</td>\n",
       "      <td>214</td>\n",
       "    </tr>\n",
       "    <tr>\n",
       "      <th>gerald.poteau@carisfoundationintl.org</th>\n",
       "      <td>0</td>\n",
       "      <td>0</td>\n",
       "      <td>0</td>\n",
       "      <td>5</td>\n",
       "      <td>0</td>\n",
       "      <td>55</td>\n",
       "      <td>0</td>\n",
       "      <td>0</td>\n",
       "      <td>4</td>\n",
       "      <td>0</td>\n",
       "      <td>...</td>\n",
       "      <td>21</td>\n",
       "      <td>20</td>\n",
       "      <td>0</td>\n",
       "      <td>0</td>\n",
       "      <td>0</td>\n",
       "      <td>0</td>\n",
       "      <td>42</td>\n",
       "      <td>0</td>\n",
       "      <td>52</td>\n",
       "      <td>199</td>\n",
       "    </tr>\n",
       "    <tr>\n",
       "      <th>jhonip77@yahoo.fr</th>\n",
       "      <td>21</td>\n",
       "      <td>0</td>\n",
       "      <td>17</td>\n",
       "      <td>34</td>\n",
       "      <td>0</td>\n",
       "      <td>0</td>\n",
       "      <td>0</td>\n",
       "      <td>54</td>\n",
       "      <td>0</td>\n",
       "      <td>0</td>\n",
       "      <td>...</td>\n",
       "      <td>16</td>\n",
       "      <td>0</td>\n",
       "      <td>2</td>\n",
       "      <td>0</td>\n",
       "      <td>0</td>\n",
       "      <td>0</td>\n",
       "      <td>0</td>\n",
       "      <td>0</td>\n",
       "      <td>0</td>\n",
       "      <td>160</td>\n",
       "    </tr>\n",
       "    <tr>\n",
       "      <th>roselord.despeignes@carisfoundationintl.org</th>\n",
       "      <td>0</td>\n",
       "      <td>0</td>\n",
       "      <td>0</td>\n",
       "      <td>1</td>\n",
       "      <td>0</td>\n",
       "      <td>0</td>\n",
       "      <td>0</td>\n",
       "      <td>0</td>\n",
       "      <td>21</td>\n",
       "      <td>0</td>\n",
       "      <td>...</td>\n",
       "      <td>32</td>\n",
       "      <td>36</td>\n",
       "      <td>0</td>\n",
       "      <td>0</td>\n",
       "      <td>0</td>\n",
       "      <td>0</td>\n",
       "      <td>13</td>\n",
       "      <td>0</td>\n",
       "      <td>41</td>\n",
       "      <td>144</td>\n",
       "    </tr>\n",
       "    <tr>\n",
       "      <th>coldina2020@gmail.com</th>\n",
       "      <td>0</td>\n",
       "      <td>0</td>\n",
       "      <td>0</td>\n",
       "      <td>0</td>\n",
       "      <td>0</td>\n",
       "      <td>0</td>\n",
       "      <td>0</td>\n",
       "      <td>0</td>\n",
       "      <td>0</td>\n",
       "      <td>0</td>\n",
       "      <td>...</td>\n",
       "      <td>0</td>\n",
       "      <td>0</td>\n",
       "      <td>2</td>\n",
       "      <td>0</td>\n",
       "      <td>0</td>\n",
       "      <td>0</td>\n",
       "      <td>0</td>\n",
       "      <td>0</td>\n",
       "      <td>0</td>\n",
       "      <td>12</td>\n",
       "    </tr>\n",
       "  </tbody>\n",
       "</table>\n",
       "<p>13 rows × 22 columns</p>\n",
       "</div>"
      ]
     },
     "metadata": {},
     "execution_count": 18
    }
   ],
   "metadata": {}
  },
  {
   "cell_type": "markdown",
   "source": [
    "## Reporting Performance de mars 2021 a date"
   ],
   "metadata": {}
  },
  {
   "cell_type": "code",
   "execution_count": null,
   "source": [
    "pac = pd.ExcelWriter('rapport_agents_saisie_des_sessions.xlsx',engine='xlsxwriter')\r\n",
    "performance_session.to_excel(pac,sheet_name='filles_saisies_global')\r\n",
    "performance_agents_par_commune.to_excel(pac,sheet_name=\"filles_saisies_par_communes\")\r\n",
    "pac.save()"
   ],
   "outputs": [],
   "metadata": {}
  },
  {
   "cell_type": "markdown",
   "source": [
    "## Verification sheet"
   ],
   "metadata": {}
  },
  {
   "cell_type": "code",
   "execution_count": null,
   "source": [
    "def fiscalYear21(date):\r\n",
    "    if date.year == 2021 and date.month>=1 and date.month<=3:\r\n",
    "        return \"FY21Q2\"\r\n",
    "    elif date.year == 2020 and date.month>=10 and date.month<=12:\r\n",
    "        return \"FY21Q1\"\r\n",
    "    elif date.year == 2021 and date.month>=4 and date.month<=6:\r\n",
    "        return \"FY21Q3\"\r\n",
    "    elif date.year == 2021 and date.month>=7 and date.month<=9:\r\n",
    "        return \"FY21Q4\"\r\n",
    "    else:\r\n",
    "        return \"Q3fy20-Q4fy20\"\r\n",
    "    \r\n",
    "def validTimeOnSystem(date):\r\n",
    "    if date>= datetime.strptime(\"2020-04-01\",\"%Y-%m-%d\") and date<= datetime.now():\r\n",
    "        return \"required_Time_on\"\r\n",
    "    else:\r\n",
    "        return \"not_valid_time_on\""
   ],
   "outputs": [],
   "metadata": {}
  },
  {
   "cell_type": "code",
   "execution_count": null,
   "source": [
    "epa_startmars_endnow.interview_date.isna().sum()"
   ],
   "outputs": [
    {
     "output_type": "execute_result",
     "data": {
      "text/plain": [
       "0"
      ]
     },
     "metadata": {},
     "execution_count": 21
    }
   ],
   "metadata": {}
  },
  {
   "cell_type": "code",
   "execution_count": null,
   "source": [
    "%%capture\r\n",
    "epa_startmars_endnow[\"date_entevyou\"] = pd.to_datetime( epa_startmars_endnow.interview_date)"
   ],
   "outputs": [],
   "metadata": {}
  },
  {
   "cell_type": "code",
   "execution_count": null,
   "source": [
    "epa_startmars_endnow.date_entevyou"
   ],
   "outputs": [
    {
     "output_type": "execute_result",
     "data": {
      "text/plain": [
       "319345   2020-11-20\n",
       "319363   2020-11-20\n",
       "319376   2020-10-07\n",
       "319377   2020-10-05\n",
       "319378   2020-10-07\n",
       "            ...    \n",
       "429554   2021-06-22\n",
       "429555   2020-12-22\n",
       "429621   2020-08-25\n",
       "429622   2021-06-23\n",
       "429623   2021-02-22\n",
       "Name: date_entevyou, Length: 6612, dtype: datetime64[ns]"
      ]
     },
     "metadata": {},
     "execution_count": 23
    }
   ],
   "metadata": {}
  },
  {
   "cell_type": "code",
   "execution_count": null,
   "source": [
    "%%capture\r\n",
    "epa_startmars_endnow[\"fiscal_year\"] = epa_startmars_endnow.date_entevyou.map(fiscalYear21)\r\n",
    "epa_startmars_endnow[\"time_On_System\"] = epa_startmars_endnow.date_entevyou.map(validTimeOnSystem)"
   ],
   "outputs": [],
   "metadata": {}
  },
  {
   "cell_type": "code",
   "execution_count": null,
   "source": [
    "epa_startmars_endnow.columns"
   ],
   "outputs": [
    {
     "output_type": "execute_result",
     "data": {
      "text/plain": [
       "Index(['patient_code', 'first_name', 'last_name', 'dob', 'interview_date',\n",
       "       'session_date', 'group_name', 'hub_name', 'hub_commune',\n",
       "       'hub_departement', 'interview_commune', 'topic', 'created_by',\n",
       "       'username', 'date_session_were_entered', 'date_entevyou', 'fiscal_year',\n",
       "       'time_On_System'],\n",
       "      dtype='object')"
      ]
     },
     "metadata": {},
     "execution_count": 25
    }
   ],
   "metadata": {}
  },
  {
   "cell_type": "code",
   "execution_count": null,
   "source": [
    "epa_startmars_endnow.dob"
   ],
   "outputs": [
    {
     "output_type": "execute_result",
     "data": {
      "text/plain": [
       "319345    2009-03-28\n",
       "319363    2007-08-16\n",
       "319376    2003-02-01\n",
       "319377    2004-12-24\n",
       "319378    2004-10-13\n",
       "             ...    \n",
       "429554    2006-01-17\n",
       "429555    2002-12-03\n",
       "429621    1999-09-22\n",
       "429622    2000-10-16\n",
       "429623    1997-12-24\n",
       "Name: dob, Length: 6612, dtype: object"
      ]
     },
     "metadata": {},
     "execution_count": 26
    }
   ],
   "metadata": {}
  },
  {
   "cell_type": "code",
   "execution_count": null,
   "source": [
    "from dateutil.relativedelta import relativedelta"
   ],
   "outputs": [],
   "metadata": {}
  },
  {
   "cell_type": "code",
   "execution_count": null,
   "source": [
    "def get_age(date):\r\n",
    "    return relativedelta(datetime.today(),date).years\r\n",
    "\r\n",
    "def tranche_age_classique(age):\r\n",
    "        if age>=10 and age<=14:\r\n",
    "            return \"10-14\"\r\n",
    "        elif age>=15 and age<=19:\r\n",
    "            return \"15-19\"\r\n",
    "        elif age>=20 and age<=24:\r\n",
    "            return \"20-24\"\r\n",
    "        elif age>=25 and age<=29:\r\n",
    "            return \"25-29\"\r\n",
    "        else:\r\n",
    "            return \"not_valid_age\"\r\n",
    "        \r\n",
    "def tranche_age_mineur_majeur(age):\r\n",
    "        if age>=10 and age<=17:\r\n",
    "            return \"10-17\"\r\n",
    "        elif age>=18 and age<=19:\r\n",
    "            return \"18-19\"\r\n",
    "        elif age>=20 and age<=24:\r\n",
    "            return \"20-24\"\r\n",
    "        elif age>=25 and age<=29:\r\n",
    "            return \"25-29\"\r\n",
    "        else:\r\n",
    "            return \"not_valid_age\""
   ],
   "outputs": [],
   "metadata": {}
  },
  {
   "cell_type": "code",
   "execution_count": null,
   "source": [
    "%%capture\r\n",
    "epa_startmars_endnow[\"age\"] = epa_startmars_endnow.dob.map(get_age)\r\n",
    "epa_startmars_endnow[\"age_range\"] = epa_startmars_endnow.age.map(tranche_age_classique)\r\n",
    "epa_startmars_endnow[\"newage_range\"] = epa_startmars_endnow.age.map(tranche_age_mineur_majeur)"
   ],
   "outputs": [],
   "metadata": {}
  },
  {
   "cell_type": "code",
   "execution_count": null,
   "source": [
    "epa_startmars_endnow.age.unique()\r\n",
    "epa_startmars_endnow.age_range.unique()\r\n",
    "epa_startmars_endnow.newage_range.unique()"
   ],
   "outputs": [
    {
     "output_type": "execute_result",
     "data": {
      "text/plain": [
       "array([12, 13, 18, 16, 15, 17, 19, 11, 10, 20, 14, 24, 21, 22, 23, 25,  2,\n",
       "        8,  3], dtype=int64)"
      ]
     },
     "metadata": {},
     "execution_count": 30
    },
    {
     "output_type": "execute_result",
     "data": {
      "text/plain": [
       "array(['10-14', '15-19', '20-24', '25-29', 'not_valid_age'], dtype=object)"
      ]
     },
     "metadata": {},
     "execution_count": 30
    },
    {
     "output_type": "execute_result",
     "data": {
      "text/plain": [
       "array(['10-17', '18-19', '20-24', '25-29', 'not_valid_age'], dtype=object)"
      ]
     },
     "metadata": {},
     "execution_count": 30
    }
   ],
   "metadata": {}
  },
  {
   "cell_type": "code",
   "execution_count": null,
   "source": [
    "epa_startmars_endnow.columns"
   ],
   "outputs": [
    {
     "output_type": "execute_result",
     "data": {
      "text/plain": [
       "Index(['patient_code', 'first_name', 'last_name', 'dob', 'interview_date',\n",
       "       'session_date', 'group_name', 'hub_name', 'hub_commune',\n",
       "       'hub_departement', 'interview_commune', 'topic', 'created_by',\n",
       "       'username', 'date_session_were_entered', 'date_entevyou', 'fiscal_year',\n",
       "       'time_On_System', 'age', 'age_range', 'newage_range'],\n",
       "      dtype='object')"
      ]
     },
     "metadata": {},
     "execution_count": 31
    }
   ],
   "metadata": {}
  },
  {
   "cell_type": "code",
   "execution_count": null,
   "source": [
    "epa_fy21 = epa_startmars_endnow[(epa_startmars_endnow.age_range !=\"not_valid_age\") & (epa_startmars_endnow.age_range != \"25-29\") & (epa_startmars_endnow.fiscal_year != \"Q3fy20-Q4fy20\")]\r\n",
    "all_epa = epa_startmars_endnow[(epa_startmars_endnow.age_range !=\"not_valid_age\") & (epa_startmars_endnow.age_range != \"25-29\")]\r\n",
    "\r\n",
    "valid_epa_fy21 = epa_startmars_endnow[(epa_startmars_endnow.time_On_System == \"required_Time_on\")&(epa_startmars_endnow.age_range !=\"not_valid_age\") & (epa_startmars_endnow.age_range != \"25-29\") & (epa_startmars_endnow.fiscal_year != \"Q3fy20-Q4fy20\")]\r\n",
    "valid_all_epa = epa_startmars_endnow[(epa_startmars_endnow.time_On_System == \"required_Time_on\")&(epa_startmars_endnow.age_range !=\"not_valid_age\") & (epa_startmars_endnow.age_range != \"25-29\")]"
   ],
   "outputs": [],
   "metadata": {}
  },
  {
   "cell_type": "code",
   "execution_count": null,
   "source": [
    "print(\"epa_startmars\")\r\n",
    "epa_startmars_endnow.patient_code.count()\r\n",
    "print(\"epa_fy21\")\r\n",
    "epa_fy21.patient_code.count()\r\n",
    "print(\"all_epa\")\r\n",
    "all_epa.patient_code.count()\r\n",
    "print(\"valid epa_fy21\")\r\n",
    "valid_epa_fy21.patient_code.count()\r\n",
    "print(\"valid_all_epa\")\r\n",
    "valid_all_epa.patient_code.count()\r\n",
    "print(\"not valid\")\r\n",
    "epa_startmars_endnow.patient_code.count() - valid_all_epa.patient_code.count()\r\n",
    "\r\n"
   ],
   "outputs": [
    {
     "output_type": "stream",
     "name": "stdout",
     "text": [
      "epa_startmars\n"
     ]
    },
    {
     "output_type": "execute_result",
     "data": {
      "text/plain": [
       "6612"
      ]
     },
     "metadata": {},
     "execution_count": 33
    },
    {
     "output_type": "stream",
     "name": "stdout",
     "text": [
      "epa_fy21\n"
     ]
    },
    {
     "output_type": "execute_result",
     "data": {
      "text/plain": [
       "4180"
      ]
     },
     "metadata": {},
     "execution_count": 33
    },
    {
     "output_type": "stream",
     "name": "stdout",
     "text": [
      "all_epa\n"
     ]
    },
    {
     "output_type": "execute_result",
     "data": {
      "text/plain": [
       "6537"
      ]
     },
     "metadata": {},
     "execution_count": 33
    },
    {
     "output_type": "stream",
     "name": "stdout",
     "text": [
      "valid epa_fy21\n"
     ]
    },
    {
     "output_type": "execute_result",
     "data": {
      "text/plain": [
       "4180"
      ]
     },
     "metadata": {},
     "execution_count": 33
    },
    {
     "output_type": "stream",
     "name": "stdout",
     "text": [
      "valid_all_epa\n"
     ]
    },
    {
     "output_type": "execute_result",
     "data": {
      "text/plain": [
       "5112"
      ]
     },
     "metadata": {},
     "execution_count": 33
    },
    {
     "output_type": "stream",
     "name": "stdout",
     "text": [
      "not valid\n"
     ]
    },
    {
     "output_type": "execute_result",
     "data": {
      "text/plain": [
       "1500"
      ]
     },
     "metadata": {},
     "execution_count": 33
    }
   ],
   "metadata": {}
  },
  {
   "cell_type": "code",
   "execution_count": null,
   "source": [
    "import matplotlib.pyplot as plt\r\n",
    "%matplotlib inline\r\n",
    "import seaborn as sns\r\n",
    "\r\n",
    "pivot_epa = epa_fy21.pivot_table(columns=\"fiscal_year\",values=\"patient_code\",fill_value=0,aggfunc='count')\r\n",
    "\r\n",
    "X= list(pivot_epa.columns)\r\n",
    "Y= pivot_epa.values.tolist()[0]\r\n",
    "data = []\r\n",
    "colonnes = []\r\n",
    "\r\n",
    "for x,y in zip(X,Y):\r\n",
    "    data.append(y)\r\n",
    "    colonnes.append(x)\r\n",
    "\r\n",
    "\r\n",
    "df = pd.DataFrame({\"fy\":colonnes, \"dt\":data})\r\n",
    "\r\n",
    "plt.figure(figsize=(16,8))\r\n",
    "sns.set_style(\"darkgrid\")\r\n",
    "splot = sns.barplot(x=\"dt\",y=\"fy\",data=df)\r\n",
    "splot.set_xlabel(\"\")\r\n",
    "splot.set_ylabel(\"\")\r\n",
    "plt.suptitle(\"AGYW, entered since march 2021 by the data clerk, presence in currilum\")\r\n",
    "for p in splot.patches:\r\n",
    "    width = p.get_width()\r\n",
    "    plt.text(2+p.get_width(), p.get_y()+0.50*p.get_height(),\r\n",
    "             '{:1.0f}'.format(width), fontdict=dict(color=\"red\",fontsize=12))\r\n",
    "    \r\n",
    "plt.annotate(\r\n",
    "    \"source: HIVHaiti\",(0,0), (-80,-20), fontsize=10, \r\n",
    "             xycoords='axes fraction', textcoords='offset points', va='top'\r\n",
    ")\r\n",
    "\r\n",
    "plt.savefig(\"curriculum_Presence\",dpi=400)"
   ],
   "outputs": [
    {
     "output_type": "execute_result",
     "data": {
      "text/plain": [
       "<Figure size 1152x576 with 0 Axes>"
      ]
     },
     "metadata": {},
     "execution_count": 34
    },
    {
     "output_type": "execute_result",
     "data": {
      "text/plain": [
       "Text(0.5, 0, '')"
      ]
     },
     "metadata": {},
     "execution_count": 34
    },
    {
     "output_type": "execute_result",
     "data": {
      "text/plain": [
       "Text(0, 0.5, '')"
      ]
     },
     "metadata": {},
     "execution_count": 34
    },
    {
     "output_type": "execute_result",
     "data": {
      "text/plain": [
       "Text(0.5, 0.98, 'AGYW, entered since march 2021 by the data clerk, presence in currilum')"
      ]
     },
     "metadata": {},
     "execution_count": 34
    },
    {
     "output_type": "execute_result",
     "data": {
      "text/plain": [
       "Text(1830.0, 0.0, '1828')"
      ]
     },
     "metadata": {},
     "execution_count": 34
    },
    {
     "output_type": "execute_result",
     "data": {
      "text/plain": [
       "Text(1581.0, 1.0, '1579')"
      ]
     },
     "metadata": {},
     "execution_count": 34
    },
    {
     "output_type": "execute_result",
     "data": {
      "text/plain": [
       "Text(604.0, 2.0, '602')"
      ]
     },
     "metadata": {},
     "execution_count": 34
    },
    {
     "output_type": "execute_result",
     "data": {
      "text/plain": [
       "Text(173.0, 3.0, '171')"
      ]
     },
     "metadata": {},
     "execution_count": 34
    },
    {
     "output_type": "execute_result",
     "data": {
      "text/plain": [
       "Text(-80, -20, 'source: HIVHaiti')"
      ]
     },
     "metadata": {},
     "execution_count": 34
    },
    {
     "output_type": "display_data",
     "data": {
      "text/plain": [
       "<Figure size 1152x576 with 1 Axes>"
      ],
      "image/png": "[encoded data removed]"
     },
     "metadata": {
      "needs_background": "light"
     }
    }
   ],
   "metadata": {}
  },
  {
   "cell_type": "code",
   "execution_count": null,
   "source": [
    "pivot_all_epa = valid_all_epa.pivot_table(columns=\"fiscal_year\",values=\"patient_code\",fill_value=0,aggfunc='count')\r\n",
    "\r\n",
    "X= list(pivot_all_epa.columns)\r\n",
    "Y= pivot_all_epa.values.tolist()[0]\r\n",
    "data = []\r\n",
    "colonnes = []\r\n",
    "\r\n",
    "for x,y in zip(X,Y):\r\n",
    "    data.append(y)\r\n",
    "    colonnes.append(x)\r\n",
    "\r\n",
    "\r\n",
    "df = pd.DataFrame({\"fy\":colonnes, \"dt\":data})\r\n",
    "\r\n",
    "plt.figure(figsize=(16,8))\r\n",
    "sns.set_style(\"darkgrid\")\r\n",
    "splot = sns.barplot(x=\"dt\",y=\"fy\",data=df)\r\n",
    "splot.set_xlabel(\"\")\r\n",
    "splot.set_ylabel(\"\")\r\n",
    "plt.suptitle(\"AGYW, entered since march 2021 by the data clerk, presence in currilum\")\r\n",
    "for p in splot.patches:\r\n",
    "    width = p.get_width()\r\n",
    "    plt.text(2+p.get_width(), p.get_y()+0.50*p.get_height(),\r\n",
    "             '{:1.0f}'.format(width),fontdict=dict(color=\"red\",fontsize=12))\r\n",
    "\r\n",
    "plt.savefig(\"curriculum_all_fiscal\",dpi=1000)"
   ],
   "outputs": [
    {
     "output_type": "execute_result",
     "data": {
      "text/plain": [
       "<Figure size 1152x576 with 0 Axes>"
      ]
     },
     "metadata": {},
     "execution_count": 35
    },
    {
     "output_type": "execute_result",
     "data": {
      "text/plain": [
       "Text(0.5, 0, '')"
      ]
     },
     "metadata": {},
     "execution_count": 35
    },
    {
     "output_type": "execute_result",
     "data": {
      "text/plain": [
       "Text(0, 0.5, '')"
      ]
     },
     "metadata": {},
     "execution_count": 35
    },
    {
     "output_type": "execute_result",
     "data": {
      "text/plain": [
       "Text(0.5, 0.98, 'AGYW, entered since march 2021 by the data clerk, presence in currilum')"
      ]
     },
     "metadata": {},
     "execution_count": 35
    },
    {
     "output_type": "execute_result",
     "data": {
      "text/plain": [
       "Text(1830.0, 0.0, '1828')"
      ]
     },
     "metadata": {},
     "execution_count": 35
    },
    {
     "output_type": "execute_result",
     "data": {
      "text/plain": [
       "Text(1581.0, 1.0, '1579')"
      ]
     },
     "metadata": {},
     "execution_count": 35
    },
    {
     "output_type": "execute_result",
     "data": {
      "text/plain": [
       "Text(604.0, 2.0, '602')"
      ]
     },
     "metadata": {},
     "execution_count": 35
    },
    {
     "output_type": "execute_result",
     "data": {
      "text/plain": [
       "Text(173.0, 3.0, '171')"
      ]
     },
     "metadata": {},
     "execution_count": 35
    },
    {
     "output_type": "execute_result",
     "data": {
      "text/plain": [
       "Text(934.0, 4.0, '932')"
      ]
     },
     "metadata": {},
     "execution_count": 35
    },
    {
     "output_type": "display_data",
     "data": {
      "text/plain": [
       "<Figure size 1152x576 with 1 Axes>"
      ],
      "image/png": "[encoded data removed]"
     },
     "metadata": {}
    }
   ],
   "metadata": {}
  },
  {
   "cell_type": "code",
   "execution_count": null,
   "source": [],
   "outputs": [],
   "metadata": {}
  }
 ],
 "metadata": {
  "interpreter": {
   "hash": "4534460e0bdca1b390927d45471088fb3501d39abc4e3f2cee293892e17d7fc6"
  },
  "kernelspec": {
   "name": "python3",
   "display_name": "Python 3.9.6 64-bit"
  },
  "language_info": {
   "codemirror_mode": {
    "name": "ipython",
    "version": 3
   },
   "file_extension": ".py",
   "mimetype": "text/x-python",
   "name": "python",
   "nbconvert_exporter": "python",
   "pygments_lexer": "ipython3",
   "version": "3.9.6"
  }
 },
 "nbformat": 4,
 "nbformat_minor": 5
}