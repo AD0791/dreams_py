{
 "cells": [
  {
   "cell_type": "code",
   "execution_count": 1,
   "id": "vanilla-expense",
   "metadata": {},
   "outputs": [],
   "source": [
    "import os\n",
    "from datetime import datetime\n",
    "#from datetime import date\n",
    "import pymysql\n",
    "from sqlalchemy import create_engine\n",
    "from decouple import config \n",
    "from dotenv import load_dotenv\n",
    "import pandas as pd\n",
    "import numpy as np"
   ]
  },
  {
   "cell_type": "code",
   "execution_count": 2,
   "id": "civilian-workshop",
   "metadata": {},
   "outputs": [],
   "source": [
    "load_dotenv()\n",
    "# get the environment variables needed\n",
    "USER= config('USRCaris')\n",
    "PASSWORD= config('PASSCaris')\n",
    "HOSTNAME= config('HOSTCaris')\n",
    "DBNAME= config('DBCaris')\n",
    "\n",
    "# get the engine to connect and fetch\n",
    "engine = create_engine(f\"mysql+pymysql://{USER}:{PASSWORD}@{HOSTNAME}/{DBNAME}\")\n",
    "query = '''\n",
    "SELECT \n",
    "    p.patient_code,\n",
    "    b.first_name,\n",
    "    b.last_name,\n",
    "    b.dob,\n",
    "    dsd.a1_dat_entvyou_a_ft_jjmmaa_egz_010817 AS interview_date,\n",
    "    dgs.date AS session_date,\n",
    "    dg.name AS group_name,\n",
    "    dh.name AS hub_name,\n",
    "    lc.name AS hub_commune,\n",
    "    ld.name AS hub_departement,\n",
    "    dsd.f_komin AS interview_commune,\n",
    "    ldt.name AS topic,\n",
    "    au.email as created_by,\n",
    "    au.username,\n",
    "    dgs.created_at as date_session_were_entered\n",
    "FROM\n",
    "    caris_db.dream_group_attendance dga\n",
    "        LEFT JOIN\n",
    "    dream_member dm ON dm.id_patient = dga.id_patient\n",
    "        LEFT JOIN\n",
    "    dreams_surveys_data dsd ON dsd.case_id = dm.case_id\n",
    "        LEFT JOIN\n",
    "    dream_group_session dgs ON dgs.id = dga.id_group_session\n",
    "        LEFT JOIN\n",
    "    dream_group dg ON dg.id = dgs.id_group\n",
    "        LEFT JOIN\n",
    "    dream_hub dh ON dh.id = dg.id_dream_hub\n",
    "        LEFT JOIN\n",
    "    lookup_commune lc ON lc.id = dh.commune\n",
    "        LEFT JOIN\n",
    "    lookup_departement ld ON ld.id = lc.departement\n",
    "        LEFT JOIN\n",
    "    lookup_dreams_topic ldt ON ldt.id = dgs.topic\n",
    "        LEFT JOIN\n",
    "    patient p ON p.id = dga.id_patient\n",
    "        LEFT JOIN\n",
    "    beneficiary b ON b.id_patient = dga.id_patient\n",
    "        left join \n",
    "            auth_users au  on au.id=dgs.created_by\n",
    "WHERE\n",
    "    dga.value = 'P'\n",
    "'''\n",
    "\n",
    "evaluation_performance_attendance = pd.read_sql_query(query,engine,parse_dates=True)\n",
    "\n",
    "\n",
    "# close the pool of connection\n",
    "engine.dispose()"
   ]
  },
  {
   "cell_type": "code",
   "execution_count": 3,
   "id": "planned-geology",
   "metadata": {},
   "outputs": [],
   "source": [
    "## get the test excel file from Query (au besoin de verification)\n",
    "evaluation_performance_attendance.to_excel('epa.xlsx',index=False,na_rep=\"NULL\")"
   ]
  },
  {
   "cell_type": "code",
   "execution_count": 4,
   "id": "powerful-canada",
   "metadata": {},
   "outputs": [
    {
     "output_type": "execute_result",
     "data": {
      "text/plain": [
       "(361435, 15)"
      ]
     },
     "metadata": {},
     "execution_count": 4
    }
   ],
   "source": [
    "evaluation_performance_attendance.shape"
   ]
  },
  {
   "cell_type": "markdown",
   "id": "variable-netherlands",
   "metadata": {
    "tags": []
   },
   "source": [
    "## Duplication aspect"
   ]
  },
  {
   "cell_type": "code",
   "execution_count": 5,
   "id": "greek-miniature",
   "metadata": {},
   "outputs": [
    {
     "output_type": "execute_result",
     "data": {
      "text/plain": [
       "patient_code                         object\n",
       "first_name                           object\n",
       "last_name                            object\n",
       "dob                                  object\n",
       "interview_date                       object\n",
       "session_date                         object\n",
       "group_name                           object\n",
       "hub_name                             object\n",
       "hub_commune                          object\n",
       "hub_departement                      object\n",
       "interview_commune                    object\n",
       "topic                                object\n",
       "created_by                           object\n",
       "username                             object\n",
       "date_session_were_entered    datetime64[ns]\n",
       "dtype: object"
      ]
     },
     "metadata": {},
     "execution_count": 5
    }
   ],
   "source": [
    "evaluation_performance_attendance.dtypes"
   ]
  },
  {
   "cell_type": "code",
   "execution_count": 6,
   "id": "fuzzy-meter",
   "metadata": {},
   "outputs": [],
   "source": [
    "epa_deduplicate = evaluation_performance_attendance.drop_duplicates(subset=['patient_code'])"
   ]
  },
  {
   "cell_type": "code",
   "execution_count": 7,
   "id": "elect-spotlight",
   "metadata": {},
   "outputs": [
    {
     "output_type": "execute_result",
     "data": {
      "text/plain": [
       "(20789, 15)"
      ]
     },
     "metadata": {},
     "execution_count": 7
    }
   ],
   "source": [
    "epa_deduplicate.shape"
   ]
  },
  {
   "cell_type": "markdown",
   "id": "brave-uniform",
   "metadata": {},
   "source": [
    "## Period of control aspect"
   ]
  },
  {
   "cell_type": "code",
   "execution_count": 8,
   "id": "steady-arrival",
   "metadata": {},
   "outputs": [],
   "source": [
    " epa_startmars_endnow= epa_deduplicate[epa_deduplicate['date_session_were_entered']>='2021-03-01']"
   ]
  },
  {
   "cell_type": "code",
   "execution_count": 9,
   "id": "detected-locking",
   "metadata": {},
   "outputs": [
    {
     "output_type": "execute_result",
     "data": {
      "text/plain": [
       "(2712, 15)"
      ]
     },
     "metadata": {},
     "execution_count": 9
    }
   ],
   "source": [
    "epa_startmars_endnow.shape"
   ]
  },
  {
   "cell_type": "markdown",
   "id": "following-exclusive",
   "metadata": {},
   "source": [
    "## Count by agents in descending order"
   ]
  },
  {
   "cell_type": "code",
   "execution_count": 10,
   "id": "sought-mystery",
   "metadata": {},
   "outputs": [],
   "source": [
    "performance_session_global  = epa_startmars_endnow.groupby(['created_by']).count()"
   ]
  },
  {
   "cell_type": "code",
   "execution_count": 11,
   "id": "italic-intelligence",
   "metadata": {},
   "outputs": [],
   "source": [
    "performance_session_global.sort_values(ascending=False, by='patient_code',inplace=True)"
   ]
  },
  {
   "cell_type": "code",
   "execution_count": 12,
   "id": "solar-advancement",
   "metadata": {},
   "outputs": [],
   "source": [
    "performance_session  = pd.DataFrame( {\"nombre_de_filles\": performance_session_global['patient_code']})"
   ]
  },
  {
   "cell_type": "code",
   "execution_count": 13,
   "id": "advised-breakdown",
   "metadata": {},
   "outputs": [
    {
     "output_type": "execute_result",
     "data": {
      "text/plain": [
       "                                              nombre_de_filles\n",
       "created_by                                                    \n",
       "billyjolicoeur95@gmail.com                                 922\n",
       "byronfabrice9@gmail.com                                    533\n",
       "elionafredly7@gmail.com                                    445\n",
       "blonnichel@yahoo.fr                                        159\n",
       "ernst.belabre@carisfoundationintl.org                      157\n",
       "diegoarmando.dorlean@carisfoundationintl.org               100\n",
       "francenelstjean.saed@yahoo.com                              98\n",
       "gerald.poteau@carisfoundationintl.org                       93\n",
       "twoody103@gmail.com                                         90\n",
       "roselord.despeignes@carisfoundationintl.org                 61\n",
       "jhonip77@yahoo.fr                                           54"
      ],
      "text/html": "<div>\n<style scoped>\n    .dataframe tbody tr th:only-of-type {\n        vertical-align: middle;\n    }\n\n    .dataframe tbody tr th {\n        vertical-align: top;\n    }\n\n    .dataframe thead th {\n        text-align: right;\n    }\n</style>\n<table border=\"1\" class=\"dataframe\">\n  <thead>\n    <tr style=\"text-align: right;\">\n      <th></th>\n      <th>nombre_de_filles</th>\n    </tr>\n    <tr>\n      <th>created_by</th>\n      <th></th>\n    </tr>\n  </thead>\n  <tbody>\n    <tr>\n      <th>billyjolicoeur95@gmail.com</th>\n      <td>922</td>\n    </tr>\n    <tr>\n      <th>byronfabrice9@gmail.com</th>\n      <td>533</td>\n    </tr>\n    <tr>\n      <th>elionafredly7@gmail.com</th>\n      <td>445</td>\n    </tr>\n    <tr>\n      <th>blonnichel@yahoo.fr</th>\n      <td>159</td>\n    </tr>\n    <tr>\n      <th>ernst.belabre@carisfoundationintl.org</th>\n      <td>157</td>\n    </tr>\n    <tr>\n      <th>diegoarmando.dorlean@carisfoundationintl.org</th>\n      <td>100</td>\n    </tr>\n    <tr>\n      <th>francenelstjean.saed@yahoo.com</th>\n      <td>98</td>\n    </tr>\n    <tr>\n      <th>gerald.poteau@carisfoundationintl.org</th>\n      <td>93</td>\n    </tr>\n    <tr>\n      <th>twoody103@gmail.com</th>\n      <td>90</td>\n    </tr>\n    <tr>\n      <th>roselord.despeignes@carisfoundationintl.org</th>\n      <td>61</td>\n    </tr>\n    <tr>\n      <th>jhonip77@yahoo.fr</th>\n      <td>54</td>\n    </tr>\n  </tbody>\n</table>\n</div>"
     },
     "metadata": {},
     "execution_count": 13
    }
   ],
   "source": [
    "performance_session"
   ]
  },
  {
   "cell_type": "markdown",
   "id": "geographic-florist",
   "metadata": {},
   "source": [
    "## Agent per Commune"
   ]
  },
  {
   "cell_type": "code",
   "execution_count": 14,
   "id": "civilian-desperate",
   "metadata": {},
   "outputs": [],
   "source": [
    "performance_agents_par_commune = epa_startmars_endnow.pivot_table(index='created_by',columns='hub_commune',values=['patient_code'],aggfunc='count',fill_value=0,margins=True, margins_name=\"Grand Total\")\n",
    "#performance_agents_par_commune.reset_index(inplace=True)"
   ]
  },
  {
   "cell_type": "code",
   "execution_count": 15,
   "id": "chronic-exercise",
   "metadata": {},
   "outputs": [],
   "source": [
    "performance_agents_par_commune.sort_values(by=('patient_code',\"Grand Total\") ,ascending=False,inplace=True)"
   ]
  },
  {
   "cell_type": "code",
   "execution_count": 16,
   "id": "confused-creator",
   "metadata": {},
   "outputs": [
    {
     "output_type": "execute_result",
     "data": {
      "text/plain": [
       "                                             patient_code                   \\\n",
       "hub_commune                                   Cap-Haïtien Carrefour Delmas   \n",
       "created_by                                                                   \n",
       "Grand Total                                           125       180    164   \n",
       "billyjolicoeur95@gmail.com                            100        50    123   \n",
       "byronfabrice9@gmail.com                                19        63      0   \n",
       "elionafredly7@gmail.com                                 0        22     39   \n",
       "blonnichel@yahoo.fr                                     0         0      0   \n",
       "ernst.belabre@carisfoundationintl.org                   0         0      0   \n",
       "diegoarmando.dorlean@carisfoundationintl.org            0         0      0   \n",
       "francenelstjean.saed@yahoo.com                          0         0      0   \n",
       "gerald.poteau@carisfoundationintl.org                   0         0      0   \n",
       "twoody103@gmail.com                                     6        45      2   \n",
       "roselord.despeignes@carisfoundationintl.org             0         0      0   \n",
       "jhonip77@yahoo.fr                                       0         0      0   \n",
       "\n",
       "                                                                       \\\n",
       "hub_commune                                  Dessalines Grande Saline   \n",
       "created_by                                                              \n",
       "Grand Total                                          94           121   \n",
       "billyjolicoeur95@gmail.com                            0             0   \n",
       "byronfabrice9@gmail.com                               0             0   \n",
       "elionafredly7@gmail.com                               0             0   \n",
       "blonnichel@yahoo.fr                                   0             0   \n",
       "ernst.belabre@carisfoundationintl.org                 0            22   \n",
       "diegoarmando.dorlean@carisfoundationintl.org          0            59   \n",
       "francenelstjean.saed@yahoo.com                       94             4   \n",
       "gerald.poteau@carisfoundationintl.org                 0            36   \n",
       "twoody103@gmail.com                                   0             0   \n",
       "roselord.despeignes@carisfoundationintl.org           0             0   \n",
       "jhonip77@yahoo.fr                                     0             0   \n",
       "\n",
       "                                                                            \\\n",
       "hub_commune                                  Gressier Kenscoff La Chapelle   \n",
       "created_by                                                                   \n",
       "Grand Total                                       434      535          56   \n",
       "billyjolicoeur95@gmail.com                         72      201           0   \n",
       "byronfabrice9@gmail.com                           140      215           0   \n",
       "elionafredly7@gmail.com                           194       64           0   \n",
       "blonnichel@yahoo.fr                                 0        0          13   \n",
       "ernst.belabre@carisfoundationintl.org               0        0          43   \n",
       "diegoarmando.dorlean@carisfoundationintl.org        0        0           0   \n",
       "francenelstjean.saed@yahoo.com                      0        0           0   \n",
       "gerald.poteau@carisfoundationintl.org               0        0           0   \n",
       "twoody103@gmail.com                                28        1           0   \n",
       "roselord.despeignes@carisfoundationintl.org         0        0           0   \n",
       "jhonip77@yahoo.fr                                   0       54           0   \n",
       "\n",
       "                                                                       \\\n",
       "hub_commune                                  Liancourt Limonade Milot   \n",
       "created_by                                                              \n",
       "Grand Total                                         40      113    40   \n",
       "billyjolicoeur95@gmail.com                           0       73    39   \n",
       "byronfabrice9@gmail.com                              0       19     0   \n",
       "elionafredly7@gmail.com                              0       21     0   \n",
       "blonnichel@yahoo.fr                                 40        0     0   \n",
       "ernst.belabre@carisfoundationintl.org                0        0     0   \n",
       "diegoarmando.dorlean@carisfoundationintl.org         0        0     0   \n",
       "francenelstjean.saed@yahoo.com                       0        0     0   \n",
       "gerald.poteau@carisfoundationintl.org                0        0     0   \n",
       "twoody103@gmail.com                                  0        0     1   \n",
       "roselord.despeignes@carisfoundationintl.org          0        0     0   \n",
       "jhonip77@yahoo.fr                                    0        0     0   \n",
       "\n",
       "                                                        \\\n",
       "hub_commune                                  Montrouis   \n",
       "created_by                                               \n",
       "Grand Total                                         20   \n",
       "billyjolicoeur95@gmail.com                           0   \n",
       "byronfabrice9@gmail.com                              0   \n",
       "elionafredly7@gmail.com                              0   \n",
       "blonnichel@yahoo.fr                                 20   \n",
       "ernst.belabre@carisfoundationintl.org                0   \n",
       "diegoarmando.dorlean@carisfoundationintl.org         0   \n",
       "francenelstjean.saed@yahoo.com                       0   \n",
       "gerald.poteau@carisfoundationintl.org                0   \n",
       "twoody103@gmail.com                                  0   \n",
       "roselord.despeignes@carisfoundationintl.org          0   \n",
       "jhonip77@yahoo.fr                                    0   \n",
       "\n",
       "                                                                             \\\n",
       "hub_commune                                  Petite Rivière de l'Artibonite   \n",
       "created_by                                                                    \n",
       "Grand Total                                                             172   \n",
       "billyjolicoeur95@gmail.com                                               58   \n",
       "byronfabrice9@gmail.com                                                   6   \n",
       "elionafredly7@gmail.com                                                  11   \n",
       "blonnichel@yahoo.fr                                                       0   \n",
       "ernst.belabre@carisfoundationintl.org                                     0   \n",
       "diegoarmando.dorlean@carisfoundationintl.org                             41   \n",
       "francenelstjean.saed@yahoo.com                                            0   \n",
       "gerald.poteau@carisfoundationintl.org                                    20   \n",
       "twoody103@gmail.com                                                       2   \n",
       "roselord.despeignes@carisfoundationintl.org                              34   \n",
       "jhonip77@yahoo.fr                                                         0   \n",
       "\n",
       "                                                                         \\\n",
       "hub_commune                                  Port-au-Prince Pétionville   \n",
       "created_by                                                                \n",
       "Grand Total                                              10         152   \n",
       "billyjolicoeur95@gmail.com                                0         107   \n",
       "byronfabrice9@gmail.com                                   6          40   \n",
       "elionafredly7@gmail.com                                   4           0   \n",
       "blonnichel@yahoo.fr                                       0           0   \n",
       "ernst.belabre@carisfoundationintl.org                     0           0   \n",
       "diegoarmando.dorlean@carisfoundationintl.org              0           0   \n",
       "francenelstjean.saed@yahoo.com                            0           0   \n",
       "gerald.poteau@carisfoundationintl.org                     0           0   \n",
       "twoody103@gmail.com                                       0           5   \n",
       "roselord.despeignes@carisfoundationintl.org               0           0   \n",
       "jhonip77@yahoo.fr                                         0           0   \n",
       "\n",
       "                                                                           \\\n",
       "hub_commune                                  Saint-Marc Tabarre Verrettes   \n",
       "created_by                                                                  \n",
       "Grand Total                                         146      96       214   \n",
       "billyjolicoeur95@gmail.com                           28      71         0   \n",
       "byronfabrice9@gmail.com                               0      25         0   \n",
       "elionafredly7@gmail.com                              28       0        62   \n",
       "blonnichel@yahoo.fr                                  74       0        12   \n",
       "ernst.belabre@carisfoundationintl.org                 0       0        92   \n",
       "diegoarmando.dorlean@carisfoundationintl.org          0       0         0   \n",
       "francenelstjean.saed@yahoo.com                        0       0         0   \n",
       "gerald.poteau@carisfoundationintl.org                12       0        25   \n",
       "twoody103@gmail.com                                   0       0         0   \n",
       "roselord.despeignes@carisfoundationintl.org           4       0        23   \n",
       "jhonip77@yahoo.fr                                     0       0         0   \n",
       "\n",
       "                                                          \n",
       "hub_commune                                  Grand Total  \n",
       "created_by                                                \n",
       "Grand Total                                         2712  \n",
       "billyjolicoeur95@gmail.com                           922  \n",
       "byronfabrice9@gmail.com                              533  \n",
       "elionafredly7@gmail.com                              445  \n",
       "blonnichel@yahoo.fr                                  159  \n",
       "ernst.belabre@carisfoundationintl.org                157  \n",
       "diegoarmando.dorlean@carisfoundationintl.org         100  \n",
       "francenelstjean.saed@yahoo.com                        98  \n",
       "gerald.poteau@carisfoundationintl.org                 93  \n",
       "twoody103@gmail.com                                   90  \n",
       "roselord.despeignes@carisfoundationintl.org           61  \n",
       "jhonip77@yahoo.fr                                     54  "
      ],
      "text/html": "<div>\n<style scoped>\n    .dataframe tbody tr th:only-of-type {\n        vertical-align: middle;\n    }\n\n    .dataframe tbody tr th {\n        vertical-align: top;\n    }\n\n    .dataframe thead tr th {\n        text-align: left;\n    }\n\n    .dataframe thead tr:last-of-type th {\n        text-align: right;\n    }\n</style>\n<table border=\"1\" class=\"dataframe\">\n  <thead>\n    <tr>\n      <th></th>\n      <th colspan=\"19\" halign=\"left\">patient_code</th>\n    </tr>\n    <tr>\n      <th>hub_commune</th>\n      <th>Cap-Haïtien</th>\n      <th>Carrefour</th>\n      <th>Delmas</th>\n      <th>Dessalines</th>\n      <th>Grande Saline</th>\n      <th>Gressier</th>\n      <th>Kenscoff</th>\n      <th>La Chapelle</th>\n      <th>Liancourt</th>\n      <th>Limonade</th>\n      <th>Milot</th>\n      <th>Montrouis</th>\n      <th>Petite Rivière de l'Artibonite</th>\n      <th>Port-au-Prince</th>\n      <th>Pétionville</th>\n      <th>Saint-Marc</th>\n      <th>Tabarre</th>\n      <th>Verrettes</th>\n      <th>Grand Total</th>\n    </tr>\n    <tr>\n      <th>created_by</th>\n      <th></th>\n      <th></th>\n      <th></th>\n      <th></th>\n      <th></th>\n      <th></th>\n      <th></th>\n      <th></th>\n      <th></th>\n      <th></th>\n      <th></th>\n      <th></th>\n      <th></th>\n      <th></th>\n      <th></th>\n      <th></th>\n      <th></th>\n      <th></th>\n      <th></th>\n    </tr>\n  </thead>\n  <tbody>\n    <tr>\n      <th>Grand Total</th>\n      <td>125</td>\n      <td>180</td>\n      <td>164</td>\n      <td>94</td>\n      <td>121</td>\n      <td>434</td>\n      <td>535</td>\n      <td>56</td>\n      <td>40</td>\n      <td>113</td>\n      <td>40</td>\n      <td>20</td>\n      <td>172</td>\n      <td>10</td>\n      <td>152</td>\n      <td>146</td>\n      <td>96</td>\n      <td>214</td>\n      <td>2712</td>\n    </tr>\n    <tr>\n      <th>billyjolicoeur95@gmail.com</th>\n      <td>100</td>\n      <td>50</td>\n      <td>123</td>\n      <td>0</td>\n      <td>0</td>\n      <td>72</td>\n      <td>201</td>\n      <td>0</td>\n      <td>0</td>\n      <td>73</td>\n      <td>39</td>\n      <td>0</td>\n      <td>58</td>\n      <td>0</td>\n      <td>107</td>\n      <td>28</td>\n      <td>71</td>\n      <td>0</td>\n      <td>922</td>\n    </tr>\n    <tr>\n      <th>byronfabrice9@gmail.com</th>\n      <td>19</td>\n      <td>63</td>\n      <td>0</td>\n      <td>0</td>\n      <td>0</td>\n      <td>140</td>\n      <td>215</td>\n      <td>0</td>\n      <td>0</td>\n      <td>19</td>\n      <td>0</td>\n      <td>0</td>\n      <td>6</td>\n      <td>6</td>\n      <td>40</td>\n      <td>0</td>\n      <td>25</td>\n      <td>0</td>\n      <td>533</td>\n    </tr>\n    <tr>\n      <th>elionafredly7@gmail.com</th>\n      <td>0</td>\n      <td>22</td>\n      <td>39</td>\n      <td>0</td>\n      <td>0</td>\n      <td>194</td>\n      <td>64</td>\n      <td>0</td>\n      <td>0</td>\n      <td>21</td>\n      <td>0</td>\n      <td>0</td>\n      <td>11</td>\n      <td>4</td>\n      <td>0</td>\n      <td>28</td>\n      <td>0</td>\n      <td>62</td>\n      <td>445</td>\n    </tr>\n    <tr>\n      <th>blonnichel@yahoo.fr</th>\n      <td>0</td>\n      <td>0</td>\n      <td>0</td>\n      <td>0</td>\n      <td>0</td>\n      <td>0</td>\n      <td>0</td>\n      <td>13</td>\n      <td>40</td>\n      <td>0</td>\n      <td>0</td>\n      <td>20</td>\n      <td>0</td>\n      <td>0</td>\n      <td>0</td>\n      <td>74</td>\n      <td>0</td>\n      <td>12</td>\n      <td>159</td>\n    </tr>\n    <tr>\n      <th>ernst.belabre@carisfoundationintl.org</th>\n      <td>0</td>\n      <td>0</td>\n      <td>0</td>\n      <td>0</td>\n      <td>22</td>\n      <td>0</td>\n      <td>0</td>\n      <td>43</td>\n      <td>0</td>\n      <td>0</td>\n      <td>0</td>\n      <td>0</td>\n      <td>0</td>\n      <td>0</td>\n      <td>0</td>\n      <td>0</td>\n      <td>0</td>\n      <td>92</td>\n      <td>157</td>\n    </tr>\n    <tr>\n      <th>diegoarmando.dorlean@carisfoundationintl.org</th>\n      <td>0</td>\n      <td>0</td>\n      <td>0</td>\n      <td>0</td>\n      <td>59</td>\n      <td>0</td>\n      <td>0</td>\n      <td>0</td>\n      <td>0</td>\n      <td>0</td>\n      <td>0</td>\n      <td>0</td>\n      <td>41</td>\n      <td>0</td>\n      <td>0</td>\n      <td>0</td>\n      <td>0</td>\n      <td>0</td>\n      <td>100</td>\n    </tr>\n    <tr>\n      <th>francenelstjean.saed@yahoo.com</th>\n      <td>0</td>\n      <td>0</td>\n      <td>0</td>\n      <td>94</td>\n      <td>4</td>\n      <td>0</td>\n      <td>0</td>\n      <td>0</td>\n      <td>0</td>\n      <td>0</td>\n      <td>0</td>\n      <td>0</td>\n      <td>0</td>\n      <td>0</td>\n      <td>0</td>\n      <td>0</td>\n      <td>0</td>\n      <td>0</td>\n      <td>98</td>\n    </tr>\n    <tr>\n      <th>gerald.poteau@carisfoundationintl.org</th>\n      <td>0</td>\n      <td>0</td>\n      <td>0</td>\n      <td>0</td>\n      <td>36</td>\n      <td>0</td>\n      <td>0</td>\n      <td>0</td>\n      <td>0</td>\n      <td>0</td>\n      <td>0</td>\n      <td>0</td>\n      <td>20</td>\n      <td>0</td>\n      <td>0</td>\n      <td>12</td>\n      <td>0</td>\n      <td>25</td>\n      <td>93</td>\n    </tr>\n    <tr>\n      <th>twoody103@gmail.com</th>\n      <td>6</td>\n      <td>45</td>\n      <td>2</td>\n      <td>0</td>\n      <td>0</td>\n      <td>28</td>\n      <td>1</td>\n      <td>0</td>\n      <td>0</td>\n      <td>0</td>\n      <td>1</td>\n      <td>0</td>\n      <td>2</td>\n      <td>0</td>\n      <td>5</td>\n      <td>0</td>\n      <td>0</td>\n      <td>0</td>\n      <td>90</td>\n    </tr>\n    <tr>\n      <th>roselord.despeignes@carisfoundationintl.org</th>\n      <td>0</td>\n      <td>0</td>\n      <td>0</td>\n      <td>0</td>\n      <td>0</td>\n      <td>0</td>\n      <td>0</td>\n      <td>0</td>\n      <td>0</td>\n      <td>0</td>\n      <td>0</td>\n      <td>0</td>\n      <td>34</td>\n      <td>0</td>\n      <td>0</td>\n      <td>4</td>\n      <td>0</td>\n      <td>23</td>\n      <td>61</td>\n    </tr>\n    <tr>\n      <th>jhonip77@yahoo.fr</th>\n      <td>0</td>\n      <td>0</td>\n      <td>0</td>\n      <td>0</td>\n      <td>0</td>\n      <td>0</td>\n      <td>54</td>\n      <td>0</td>\n      <td>0</td>\n      <td>0</td>\n      <td>0</td>\n      <td>0</td>\n      <td>0</td>\n      <td>0</td>\n      <td>0</td>\n      <td>0</td>\n      <td>0</td>\n      <td>0</td>\n      <td>54</td>\n    </tr>\n  </tbody>\n</table>\n</div>"
     },
     "metadata": {},
     "execution_count": 16
    }
   ],
   "source": [
    "performance_agents_par_commune"
   ]
  },
  {
   "cell_type": "markdown",
   "id": "coral-deadline",
   "metadata": {},
   "source": [
    "## Reporting Performance de mars 2021 a date"
   ]
  },
  {
   "cell_type": "code",
   "execution_count": 17,
   "id": "cosmetic-blank",
   "metadata": {},
   "outputs": [],
   "source": [
    "pac = pd.ExcelWriter('rapport_agents_saisie_des_sessions.xlsx',engine='xlsxwriter')\n",
    "performance_session.to_excel(pac,sheet_name='filles_saisies_global')\n",
    "performance_agents_par_commune.to_excel(pac,sheet_name=\"filles_saisies_par_communes\")\n",
    "pac.save()"
   ]
  }
 ],
 "metadata": {
  "kernelspec": {
   "name": "python392jvsc74a57bd04534460e0bdca1b390927d45471088fb3501d39abc4e3f2cee293892e17d7fc6",
   "display_name": "Python 3.9.2 64-bit"
  },
  "language_info": {
   "codemirror_mode": {
    "name": "ipython",
    "version": 3
   },
   "file_extension": ".py",
   "mimetype": "text/x-python",
   "name": "python",
   "nbconvert_exporter": "python",
   "pygments_lexer": "ipython3",
   "version": "3.9.2"
  }
 },
 "nbformat": 4,
 "nbformat_minor": 5
}