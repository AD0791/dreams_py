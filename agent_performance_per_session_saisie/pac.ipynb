{
 "cells": [
  {
   "cell_type": "code",
   "execution_count": null,
   "source": [
    "import os\r\n",
    "from datetime import datetime\r\n",
    "#from datetime import date\r\n",
    "import pymysql\r\n",
    "from sqlalchemy import create_engine\r\n",
    "from decouple import config \r\n",
    "from dotenv import load_dotenv\r\n",
    "import pandas as pd\r\n",
    "import numpy as np\r\n",
    "from enum import Enum\r\n",
    "\r\n",
    "\r\n",
    "from IPython.core.interactiveshell import InteractiveShell\r\n",
    "InteractiveShell.ast_node_interactivity = \"all\""
   ],
   "outputs": [],
   "metadata": {}
  },
  {
   "cell_type": "code",
   "execution_count": null,
   "source": [
    "load_dotenv()\r\n",
    "# get the environment variables needed\r\n",
    "USER= config('USRCaris')\r\n",
    "PASSWORD= config('PASSCaris')\r\n",
    "HOSTNAME= config('HOSTCaris')\r\n",
    "DBNAME= config('DBCaris')\r\n",
    "\r\n",
    "# get the engine to connect and fetch\r\n",
    "engine = create_engine(f\"mysql+pymysql://{USER}:{PASSWORD}@{HOSTNAME}/{DBNAME}\")\r\n",
    "query = '''\r\n",
    "SELECT \r\n",
    "    p.patient_code,\r\n",
    "    b.first_name,\r\n",
    "    b.last_name,\r\n",
    "    b.dob,\r\n",
    "    dsd.a1_dat_entvyou_a_ft_jjmmaa_egz_010817 AS interview_date,\r\n",
    "    dgs.date AS session_date,\r\n",
    "    dg.name AS group_name,\r\n",
    "    dh.name AS hub_name,\r\n",
    "    lc.name AS hub_commune,\r\n",
    "    ld.name AS hub_departement,\r\n",
    "    dsd.f_komin AS interview_commune,\r\n",
    "    ldt.name AS topic,\r\n",
    "    au.email as created_by,\r\n",
    "    au.username,\r\n",
    "    dgs.created_at as date_session_were_entered\r\n",
    "FROM\r\n",
    "    caris_db.dream_group_attendance dga\r\n",
    "        LEFT JOIN\r\n",
    "    dream_member dm ON dm.id_patient = dga.id_patient\r\n",
    "        LEFT JOIN\r\n",
    "    dreams_surveys_data dsd ON dsd.case_id = dm.case_id\r\n",
    "        LEFT JOIN\r\n",
    "    dream_group_session dgs ON dgs.id = dga.id_group_session\r\n",
    "        LEFT JOIN\r\n",
    "    dream_group dg ON dg.id = dgs.id_group\r\n",
    "        LEFT JOIN\r\n",
    "    dream_hub dh ON dh.id = dg.id_dream_hub\r\n",
    "        LEFT JOIN\r\n",
    "    lookup_commune lc ON lc.id = dh.commune\r\n",
    "        LEFT JOIN\r\n",
    "    lookup_departement ld ON ld.id = lc.departement\r\n",
    "        LEFT JOIN\r\n",
    "    lookup_dreams_topic ldt ON ldt.id = dgs.topic\r\n",
    "        LEFT JOIN\r\n",
    "    patient p ON p.id = dga.id_patient\r\n",
    "        LEFT JOIN\r\n",
    "    beneficiary b ON b.id_patient = dga.id_patient\r\n",
    "        left join \r\n",
    "            auth_users au  on au.id=dgs.created_by\r\n",
    "WHERE\r\n",
    "    dga.value = 'P'\r\n",
    "'''\r\n",
    "\r\n",
    "evaluation_performance_attendance = pd.read_sql_query(query,engine,parse_dates=True)\r\n",
    "\r\n",
    "\r\n",
    "# close the pool of connection\r\n",
    "engine.dispose()"
   ],
   "outputs": [],
   "metadata": {}
  },
  {
   "cell_type": "code",
   "execution_count": null,
   "source": [
    "## get the test excel file from Query (au besoin de verification)\r\n",
    "evaluation_performance_attendance.to_excel('epa.xlsx',index=False,na_rep=\"NULL\")"
   ],
   "outputs": [],
   "metadata": {}
  },
  {
   "cell_type": "markdown",
   "source": [
    "## Duplication aspect"
   ],
   "metadata": {
    "tags": []
   }
  },
  {
   "cell_type": "code",
   "execution_count": null,
   "source": [
    "evaluation_performance_attendance.dtypes"
   ],
   "outputs": [],
   "metadata": {}
  },
  {
   "cell_type": "code",
   "execution_count": null,
   "source": [
    "epa_deduplicate = evaluation_performance_attendance.drop_duplicates(subset=['patient_code'])"
   ],
   "outputs": [],
   "metadata": {}
  },
  {
   "cell_type": "code",
   "execution_count": null,
   "source": [
    "evaluation_performance_attendance.shape\r\n",
    "epa_deduplicate.shape"
   ],
   "outputs": [],
   "metadata": {}
  },
  {
   "cell_type": "markdown",
   "source": [
    "## Period of control aspect"
   ],
   "metadata": {}
  },
  {
   "cell_type": "code",
   "execution_count": null,
   "source": [
    "class Constante(Enum):\r\n",
    "    march_1_2021 = '2021-03-01'\r\n",
    "    specific = \"2021-07-26\""
   ],
   "outputs": [],
   "metadata": {}
  },
  {
   "cell_type": "code",
   "execution_count": null,
   "source": [
    "presencesaisie_startmars_endnow = evaluation_performance_attendance[evaluation_performance_attendance[\"date_session_were_entered\"]>=Constante.march_1_2021.value]\r\n",
    "presencesaisie_specific = evaluation_performance_attendance[evaluation_performance_attendance[\"date_session_were_entered\"]>=Constante.specific.value] \r\n",
    "epa_startmars_endnow= epa_deduplicate[epa_deduplicate['date_session_were_entered']>=Constante.march_1_2021.value]"
   ],
   "outputs": [],
   "metadata": {}
  },
  {
   "cell_type": "code",
   "execution_count": null,
   "source": [
    "presencesaisie_startmars_endnow.shape\r\n",
    "presencesaisie_specific.shape\r\n",
    "epa_startmars_endnow.shape"
   ],
   "outputs": [],
   "metadata": {}
  },
  {
   "cell_type": "markdown",
   "source": [
    "## Count by agents in descending order"
   ],
   "metadata": {}
  },
  {
   "cell_type": "code",
   "execution_count": null,
   "source": [
    "performance_session_global  = epa_startmars_endnow.groupby(['created_by']).count()\r\n",
    "presence_global = presencesaisie_startmars_endnow.groupby(['created_by']).count()\r\n",
    "presence_specific = presencesaisie_specific.groupby(['created_by']).count()"
   ],
   "outputs": [],
   "metadata": {}
  },
  {
   "cell_type": "code",
   "execution_count": null,
   "source": [
    "performance_session_global.sort_values(ascending=False, by='patient_code',inplace=True)\r\n",
    "presence_global.sort_values(ascending=False, by='patient_code',inplace=True)\r\n",
    "presence_specific.sort_values(ascending=False, by='patient_code',inplace=True)\r\n"
   ],
   "outputs": [],
   "metadata": {}
  },
  {
   "cell_type": "code",
   "execution_count": null,
   "source": [
    "performance_session  = pd.DataFrame( {\"nombre_de_filles\": performance_session_global['patient_code'], f\"nombre_de_presence_saisie_depuis_le_{Constante.march_1_2021.value}\":presence_global[\"patient_code\"],\r\n",
    "                                      f\"nombre_de_presence_saisie_depuis_le_{Constante.specific.value}\":presence_specific[\"patient_code\"]})\r\n",
    "performance_session.fillna(0,inplace=True)\r\n",
    "performance_session"
   ],
   "outputs": [],
   "metadata": {}
  },
  {
   "cell_type": "markdown",
   "source": [
    "## MODIFY BELOW TO GET THE DIFFERENCE GIVEN LAST WEEK"
   ],
   "metadata": {}
  },
  {
   "cell_type": "code",
   "execution_count": null,
   "source": [
    "week_before_perf = pd.read_excel(\"rapport_agents_saisie_des_sessions_26Juillet2021.xlsx\", sheet_name=\"filles_saisies_global\", index_col=\"created_by\")\r\n",
    "#performance_session[\"nombre_de_filles_saisie_par_rapport_a_la_semaine_derniere\"] =  performance_session[\"nombre_de_filles\"] - week_before_perf[\"nombre_de_filles\"]\r\n",
    "#performance_session.nombre_de_filles_saisie_par_rapport_a_la_semaine_derniere = performance_session.nombre_de_filles_saisie_par_rapport_a_la_semaine_derniere.astype(\"int16\")"
   ],
   "outputs": [],
   "metadata": {}
  },
  {
   "cell_type": "code",
   "execution_count": null,
   "source": [
    "performance_session.fillna(0,inplace=True)\r\n",
    "performance_session[f\"nombre_de_presence_saisie_depuis_le_{Constante.specific.value}\"] = performance_session[f\"nombre_de_presence_saisie_depuis_le_{Constante.specific.value}\"].astype('int16')"
   ],
   "outputs": [],
   "metadata": {}
  },
  {
   "cell_type": "code",
   "execution_count": null,
   "source": [
    "columns_performance_session = performance_session.columns.sort_values().tolist()\r\n",
    "performance_session = performance_session.reindex(columns=columns_performance_session)"
   ],
   "outputs": [],
   "metadata": {}
  },
  {
   "cell_type": "code",
   "execution_count": null,
   "source": [
    "performance_session"
   ],
   "outputs": [],
   "metadata": {}
  },
  {
   "cell_type": "markdown",
   "source": [
    "## Agent per Commune"
   ],
   "metadata": {}
  },
  {
   "cell_type": "code",
   "execution_count": null,
   "source": [
    "performance_agents_par_commune = epa_startmars_endnow.pivot_table(index='created_by',columns='hub_commune',values=['patient_code'],aggfunc='count',fill_value=0,margins=True, margins_name=\"Grand Total\")\r\n",
    "#performance_agents_par_commune.reset_index(inplace=True)"
   ],
   "outputs": [],
   "metadata": {}
  },
  {
   "cell_type": "code",
   "execution_count": null,
   "source": [
    "performance_agents_par_commune.sort_values(by=('patient_code',\"Grand Total\") ,ascending=False,inplace=True)"
   ],
   "outputs": [],
   "metadata": {}
  },
  {
   "cell_type": "code",
   "execution_count": null,
   "source": [
    "performance_agents_par_commune"
   ],
   "outputs": [],
   "metadata": {}
  },
  {
   "cell_type": "markdown",
   "source": [
    "## Reporting Performance de mars 2021 a date"
   ],
   "metadata": {}
  },
  {
   "cell_type": "code",
   "execution_count": null,
   "source": [
    "pac = pd.ExcelWriter('rapport_agents_saisie_des_sessions.xlsx',engine='xlsxwriter')\r\n",
    "performance_session.to_excel(pac,sheet_name='filles_saisies_global')\r\n",
    "performance_agents_par_commune.to_excel(pac,sheet_name=\"filles_saisies_par_communes\")\r\n",
    "pac.save()"
   ],
   "outputs": [],
   "metadata": {}
  },
  {
   "cell_type": "markdown",
   "source": [
    "## Verification sheet"
   ],
   "metadata": {}
  },
  {
   "cell_type": "code",
   "execution_count": null,
   "source": [
    "def fiscalYear21(date):\r\n",
    "    if date.year == 2021 and date.month>=1 and date.month<=3:\r\n",
    "        return \"FY21Q2\"\r\n",
    "    elif date.year == 2020 and date.month>=10 and date.month<=12:\r\n",
    "        return \"FY21Q1\"\r\n",
    "    elif date.year == 2021 and date.month>=4 and date.month<=6:\r\n",
    "        return \"FY21Q3\"\r\n",
    "    elif date.year == 2021 and date.month>=7 and date.month<=9:\r\n",
    "        return \"FY21Q4\"\r\n",
    "    else:\r\n",
    "        return \"Q3fy20-Q4fy20\"\r\n",
    "    \r\n",
    "def validTimeOnSystem(date):\r\n",
    "    if date>= datetime.strptime(\"2020-04-01\",\"%Y-%m-%d\") and date<= datetime.now():\r\n",
    "        return \"required_Time_on\"\r\n",
    "    else:\r\n",
    "        return \"not_valid_time_on\""
   ],
   "outputs": [],
   "metadata": {}
  },
  {
   "cell_type": "code",
   "execution_count": null,
   "source": [
    "epa_startmars_endnow.interview_date.isna().sum()"
   ],
   "outputs": [],
   "metadata": {}
  },
  {
   "cell_type": "code",
   "execution_count": null,
   "source": [
    "%%capture\r\n",
    "epa_startmars_endnow[\"date_entevyou\"] = pd.to_datetime( epa_startmars_endnow.interview_date)"
   ],
   "outputs": [],
   "metadata": {}
  },
  {
   "cell_type": "code",
   "execution_count": null,
   "source": [
    "epa_startmars_endnow.date_entevyou"
   ],
   "outputs": [],
   "metadata": {}
  },
  {
   "cell_type": "code",
   "execution_count": null,
   "source": [
    "%%capture\r\n",
    "epa_startmars_endnow[\"fiscal_year\"] = epa_startmars_endnow.date_entevyou.map(fiscalYear21)\r\n",
    "epa_startmars_endnow[\"time_On_System\"] = epa_startmars_endnow.date_entevyou.map(validTimeOnSystem)"
   ],
   "outputs": [],
   "metadata": {}
  },
  {
   "cell_type": "code",
   "execution_count": null,
   "source": [
    "epa_startmars_endnow.columns"
   ],
   "outputs": [],
   "metadata": {}
  },
  {
   "cell_type": "code",
   "execution_count": null,
   "source": [
    "epa_startmars_endnow.dob"
   ],
   "outputs": [],
   "metadata": {}
  },
  {
   "cell_type": "code",
   "execution_count": null,
   "source": [
    "from dateutil.relativedelta import relativedelta"
   ],
   "outputs": [],
   "metadata": {}
  },
  {
   "cell_type": "code",
   "execution_count": null,
   "source": [
    "def get_age(date):\r\n",
    "    return relativedelta(datetime.today(),date).years\r\n",
    "\r\n",
    "def tranche_age_classique(age):\r\n",
    "        if age>=10 and age<=14:\r\n",
    "            return \"10-14\"\r\n",
    "        elif age>=15 and age<=19:\r\n",
    "            return \"15-19\"\r\n",
    "        elif age>=20 and age<=24:\r\n",
    "            return \"20-24\"\r\n",
    "        elif age>=25 and age<=29:\r\n",
    "            return \"25-29\"\r\n",
    "        else:\r\n",
    "            return \"not_valid_age\"\r\n",
    "        \r\n",
    "def tranche_age_mineur_majeur(age):\r\n",
    "        if age>=10 and age<=17:\r\n",
    "            return \"10-17\"\r\n",
    "        elif age>=18 and age<=19:\r\n",
    "            return \"18-19\"\r\n",
    "        elif age>=20 and age<=24:\r\n",
    "            return \"20-24\"\r\n",
    "        elif age>=25 and age<=29:\r\n",
    "            return \"25-29\"\r\n",
    "        else:\r\n",
    "            return \"not_valid_age\""
   ],
   "outputs": [],
   "metadata": {}
  },
  {
   "cell_type": "code",
   "execution_count": null,
   "source": [
    "%%capture\r\n",
    "epa_startmars_endnow[\"age\"] = epa_startmars_endnow.dob.map(get_age)\r\n",
    "epa_startmars_endnow[\"age_range\"] = epa_startmars_endnow.age.map(tranche_age_classique)\r\n",
    "epa_startmars_endnow[\"newage_range\"] = epa_startmars_endnow.age.map(tranche_age_mineur_majeur)"
   ],
   "outputs": [],
   "metadata": {}
  },
  {
   "cell_type": "code",
   "execution_count": null,
   "source": [
    "epa_startmars_endnow.age.unique()\r\n",
    "epa_startmars_endnow.age_range.unique()\r\n",
    "epa_startmars_endnow.newage_range.unique()"
   ],
   "outputs": [],
   "metadata": {}
  },
  {
   "cell_type": "code",
   "execution_count": null,
   "source": [
    "epa_startmars_endnow.columns"
   ],
   "outputs": [],
   "metadata": {}
  },
  {
   "cell_type": "code",
   "execution_count": null,
   "source": [
    "epa_fy21 = epa_startmars_endnow[(epa_startmars_endnow.age_range !=\"not_valid_age\") & (epa_startmars_endnow.age_range != \"25-29\") & (epa_startmars_endnow.fiscal_year != \"Q3fy20-Q4fy20\")]\r\n",
    "all_epa = epa_startmars_endnow[(epa_startmars_endnow.age_range !=\"not_valid_age\") & (epa_startmars_endnow.age_range != \"25-29\")]\r\n",
    "\r\n",
    "valid_epa_fy21 = epa_startmars_endnow[(epa_startmars_endnow.time_On_System == \"required_Time_on\")&(epa_startmars_endnow.age_range !=\"not_valid_age\") & (epa_startmars_endnow.age_range != \"25-29\") & (epa_startmars_endnow.fiscal_year != \"Q3fy20-Q4fy20\")]\r\n",
    "valid_all_epa = epa_startmars_endnow[(epa_startmars_endnow.time_On_System == \"required_Time_on\")&(epa_startmars_endnow.age_range !=\"not_valid_age\") & (epa_startmars_endnow.age_range != \"25-29\")]"
   ],
   "outputs": [],
   "metadata": {}
  },
  {
   "cell_type": "code",
   "execution_count": null,
   "source": [
    "print(\"epa_startmars\")\r\n",
    "epa_startmars_endnow.patient_code.count()\r\n",
    "print(\"epa_fy21\")\r\n",
    "epa_fy21.patient_code.count()\r\n",
    "print(\"all_epa\")\r\n",
    "all_epa.patient_code.count()\r\n",
    "print(\"valid epa_fy21\")\r\n",
    "valid_epa_fy21.patient_code.count()\r\n",
    "print(\"valid_all_epa\")\r\n",
    "valid_all_epa.patient_code.count()\r\n",
    "print(\"not valid\")\r\n",
    "epa_startmars_endnow.patient_code.count() - valid_all_epa.patient_code.count()\r\n",
    "\r\n"
   ],
   "outputs": [],
   "metadata": {}
  },
  {
   "cell_type": "code",
   "execution_count": null,
   "source": [
    "import matplotlib.pyplot as plt\r\n",
    "%matplotlib inline\r\n",
    "import seaborn as sns\r\n",
    "\r\n",
    "pivot_epa = epa_fy21.pivot_table(columns=\"fiscal_year\",values=\"patient_code\",fill_value=0,aggfunc='count')\r\n",
    "\r\n",
    "X= list(pivot_epa.columns)\r\n",
    "Y= pivot_epa.values.tolist()[0]\r\n",
    "data = []\r\n",
    "colonnes = []\r\n",
    "\r\n",
    "for x,y in zip(X,Y):\r\n",
    "    data.append(y)\r\n",
    "    colonnes.append(x)\r\n",
    "\r\n",
    "\r\n",
    "df = pd.DataFrame({\"fy\":colonnes, \"dt\":data})\r\n",
    "\r\n",
    "plt.figure(figsize=(16,8))\r\n",
    "sns.set_style(\"darkgrid\")\r\n",
    "splot = sns.barplot(x=\"dt\",y=\"fy\",data=df)\r\n",
    "splot.set_xlabel(\"\")\r\n",
    "splot.set_ylabel(\"\")\r\n",
    "plt.suptitle(\"AGYW, entered since march 2021 by the data clerk, presence in currilum\")\r\n",
    "for p in splot.patches:\r\n",
    "    width = p.get_width()\r\n",
    "    plt.text(2+p.get_width(), p.get_y()+0.50*p.get_height(),\r\n",
    "             '{:1.0f}'.format(width), fontdict=dict(color=\"red\",fontsize=12))\r\n",
    "    \r\n",
    "plt.annotate(\r\n",
    "    \"source: HIVHaiti\",(0,0), (-80,-20), fontsize=10, \r\n",
    "             xycoords='axes fraction', textcoords='offset points', va='top'\r\n",
    ")\r\n",
    "\r\n",
    "plt.savefig(\"curriculum_Presence\",dpi=400)"
   ],
   "outputs": [],
   "metadata": {}
  },
  {
   "cell_type": "code",
   "execution_count": null,
   "source": [
    "pivot_all_epa = valid_all_epa.pivot_table(columns=\"fiscal_year\",values=\"patient_code\",fill_value=0,aggfunc='count')\r\n",
    "\r\n",
    "X= list(pivot_all_epa.columns)\r\n",
    "Y= pivot_all_epa.values.tolist()[0]\r\n",
    "data = []\r\n",
    "colonnes = []\r\n",
    "\r\n",
    "for x,y in zip(X,Y):\r\n",
    "    data.append(y)\r\n",
    "    colonnes.append(x)\r\n",
    "\r\n",
    "\r\n",
    "df = pd.DataFrame({\"fy\":colonnes, \"dt\":data})\r\n",
    "\r\n",
    "plt.figure(figsize=(16,8))\r\n",
    "sns.set_style(\"darkgrid\")\r\n",
    "splot = sns.barplot(x=\"dt\",y=\"fy\",data=df)\r\n",
    "splot.set_xlabel(\"\")\r\n",
    "splot.set_ylabel(\"\")\r\n",
    "plt.suptitle(\"AGYW, entered since march 2021 by the data clerk, presence in currilum\")\r\n",
    "for p in splot.patches:\r\n",
    "    width = p.get_width()\r\n",
    "    plt.text(2+p.get_width(), p.get_y()+0.50*p.get_height(),\r\n",
    "             '{:1.0f}'.format(width),fontdict=dict(color=\"red\",fontsize=12))\r\n",
    "\r\n",
    "plt.savefig(\"curriculum_all_fiscal\",dpi=1000)"
   ],
   "outputs": [],
   "metadata": {}
  },
  {
   "cell_type": "code",
   "execution_count": null,
   "source": [],
   "outputs": [],
   "metadata": {}
  }
 ],
 "metadata": {
  "interpreter": {
   "hash": "4534460e0bdca1b390927d45471088fb3501d39abc4e3f2cee293892e17d7fc6"
  },
  "kernelspec": {
   "name": "python3",
   "display_name": "Python 3.9.6 64-bit"
  },
  "language_info": {
   "codemirror_mode": {
    "name": "ipython",
    "version": 3
   },
   "file_extension": ".py",
   "mimetype": "text/x-python",
   "name": "python",
   "nbconvert_exporter": "python",
   "pygments_lexer": "ipython3",
   "version": "3.9.6"
  }
 },
 "nbformat": 4,
 "nbformat_minor": 5
}