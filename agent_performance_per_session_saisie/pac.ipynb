{
 "cells": [
  {
   "cell_type": "code",
   "execution_count": 1,
   "metadata": {},
   "outputs": [],
   "source": [
    "import os\r\n",
    "from datetime import datetime\r\n",
    "#from datetime import date\r\n",
    "import pymysql\r\n",
    "from sqlalchemy import create_engine\r\n",
    "from decouple import config \r\n",
    "from dotenv import load_dotenv\r\n",
    "import pandas as pd\r\n",
    "import numpy as np\r\n",
    "from enum import Enum\r\n",
    "\r\n",
    "\r\n",
    "from IPython.core.interactiveshell import InteractiveShell\r\n",
    "InteractiveShell.ast_node_interactivity = \"all\""
   ]
  },
  {
   "cell_type": "code",
   "execution_count": 2,
   "metadata": {},
   "outputs": [
    {
     "data": {
      "text/plain": [
       "True"
      ]
     },
     "execution_count": 2,
     "metadata": {},
     "output_type": "execute_result"
    }
   ],
   "source": [
    "load_dotenv()\n",
    "# get the environment variables needed\n",
    "USER= config('USRCaris')\n",
    "PASSWORD= config('PASSCaris')\n",
    "HOSTNAME= config('HOSTCaris')\n",
    "DBNAME= config('DBCaris')\n",
    "\n",
    "# get the engine to connect and fetch\n",
    "engine = create_engine(f\"mysql+pymysql://{USER}:{PASSWORD}@{HOSTNAME}/{DBNAME}\")\n",
    "query = '''\n",
    "SELECT \n",
    "    p.patient_code,\n",
    "    b.first_name,\n",
    "    b.last_name,\n",
    "    b.dob,\n",
    "    dsd.a1_dat_entvyou_a_ft_jjmmaa_egz_010817 AS interview_date,\n",
    "    dgs.date AS session_date,\n",
    "    dg.name AS group_name,\n",
    "    dh.name AS hub_name,\n",
    "    lc.name AS hub_commune,\n",
    "    ld.name AS hub_departement,\n",
    "    dsd.f_komin AS interview_commune,\n",
    "    ldt.name AS topic,\n",
    "    au.email as created_by,\n",
    "    au.username,\n",
    "    dgs.created_at as date_session_were_entered\n",
    "FROM\n",
    "    caris_db.dream_group_attendance dga\n",
    "        LEFT JOIN\n",
    "    dream_member dm ON dm.id_patient = dga.id_patient\n",
    "        LEFT JOIN\n",
    "    dreams_surveys_data dsd ON dsd.case_id = dm.case_id\n",
    "        LEFT JOIN\n",
    "    dream_group_session dgs ON dgs.id = dga.id_group_session\n",
    "        LEFT JOIN\n",
    "    dream_group dg ON dg.id = dgs.id_group\n",
    "        LEFT JOIN\n",
    "    dream_hub dh ON dh.id = dg.id_dream_hub\n",
    "        LEFT JOIN\n",
    "    lookup_commune lc ON lc.id = dh.commune\n",
    "        LEFT JOIN\n",
    "    lookup_departement ld ON ld.id = lc.departement\n",
    "        LEFT JOIN\n",
    "    lookup_dreams_topic ldt ON ldt.id = dgs.topic\n",
    "        LEFT JOIN\n",
    "    patient p ON p.id = dga.id_patient\n",
    "        LEFT JOIN\n",
    "    beneficiary b ON b.id_patient = dga.id_patient\n",
    "        left join \n",
    "            auth_users au  on au.id=dgs.created_by\n",
    "WHERE\n",
    "    dga.value = 'P'\n",
    "'''\n",
    "\n",
    "evaluation_performance_attendance = pd.read_sql_query(query,engine,parse_dates=True)\n",
    "\n",
    "\n",
    "# close the pool of connection\n",
    "engine.dispose()"
   ]
  },
  {
   "cell_type": "code",
   "execution_count": 3,
   "metadata": {},
   "outputs": [],
   "source": [
    "## get the test excel file from Query (au besoin de verification)\n",
    "evaluation_performance_attendance.to_excel('epa.xlsx',index=False,na_rep=\"NULL\")"
   ]
  },
  {
   "cell_type": "markdown",
   "metadata": {
    "tags": []
   },
   "source": [
    "## Duplication aspect"
   ]
  },
  {
   "cell_type": "code",
   "execution_count": 4,
   "metadata": {},
   "outputs": [
    {
     "data": {
      "text/plain": [
       "patient_code                         object\n",
       "first_name                           object\n",
       "last_name                            object\n",
       "dob                                  object\n",
       "interview_date                       object\n",
       "session_date                         object\n",
       "group_name                           object\n",
       "hub_name                             object\n",
       "hub_commune                          object\n",
       "hub_departement                      object\n",
       "interview_commune                    object\n",
       "topic                                object\n",
       "created_by                           object\n",
       "username                             object\n",
       "date_session_were_entered    datetime64[ns]\n",
       "dtype: object"
      ]
     },
     "execution_count": 4,
     "metadata": {},
     "output_type": "execute_result"
    }
   ],
   "source": [
    "evaluation_performance_attendance.dtypes"
   ]
  },
  {
   "cell_type": "code",
   "execution_count": 5,
   "metadata": {},
   "outputs": [],
   "source": [
    "epa_deduplicate = evaluation_performance_attendance.drop_duplicates(subset=['patient_code'])"
   ]
  },
  {
   "cell_type": "code",
   "execution_count": 6,
   "metadata": {},
   "outputs": [
    {
     "data": {
      "text/plain": [
       "(397022, 15)"
      ]
     },
     "execution_count": 6,
     "metadata": {},
     "output_type": "execute_result"
    },
    {
     "data": {
      "text/plain": [
       "(22967, 15)"
      ]
     },
     "execution_count": 6,
     "metadata": {},
     "output_type": "execute_result"
    }
   ],
   "source": [
    "evaluation_performance_attendance.shape\r\n",
    "epa_deduplicate.shape"
   ]
  },
  {
   "cell_type": "markdown",
   "metadata": {},
   "source": [
    "## Period of control aspect"
   ]
  },
  {
   "cell_type": "code",
   "execution_count": 7,
   "metadata": {},
   "outputs": [],
   "source": [
    "class Constante(Enum):\r\n",
    "    march_1_2021 = '2021-03-01'\r\n",
    "    specific = \"2021-06-21\""
   ]
  },
  {
   "cell_type": "code",
   "execution_count": 8,
   "metadata": {},
   "outputs": [],
   "source": [
    "presencesaisie_startmars_endnow = evaluation_performance_attendance[evaluation_performance_attendance[\"date_session_were_entered\"]>=Constante.march_1_2021.value]\r\n",
    "presencesaisie_specific = evaluation_performance_attendance[evaluation_performance_attendance[\"date_session_were_entered\"]>=Constante.specific.value] \r\n",
    "epa_startmars_endnow= epa_deduplicate[epa_deduplicate['date_session_were_entered']>=Constante.march_1_2021.value]"
   ]
  },
  {
   "cell_type": "code",
   "execution_count": 9,
   "metadata": {},
   "outputs": [
    {
     "data": {
      "text/plain": [
       "(77697, 15)"
      ]
     },
     "execution_count": 9,
     "metadata": {},
     "output_type": "execute_result"
    },
    {
     "data": {
      "text/plain": [
       "(4362, 15)"
      ]
     },
     "execution_count": 9,
     "metadata": {},
     "output_type": "execute_result"
    },
    {
     "data": {
      "text/plain": [
       "(4890, 15)"
      ]
     },
     "execution_count": 9,
     "metadata": {},
     "output_type": "execute_result"
    }
   ],
   "source": [
    "presencesaisie_startmars_endnow.shape\r\n",
    "presencesaisie_specific.shape\r\n",
    "epa_startmars_endnow.shape"
   ]
  },
  {
   "cell_type": "markdown",
   "metadata": {},
   "source": [
    "## Count by agents in descending order"
   ]
  },
  {
   "cell_type": "code",
   "execution_count": 10,
   "metadata": {},
   "outputs": [],
   "source": [
    "performance_session_global  = epa_startmars_endnow.groupby(['created_by']).count()\r\n",
    "presence_global = presencesaisie_startmars_endnow.groupby(['created_by']).count()\r\n",
    "presence_specific = presencesaisie_specific.groupby(['created_by']).count()"
   ]
  },
  {
   "cell_type": "code",
   "execution_count": 11,
   "metadata": {},
   "outputs": [],
   "source": [
    "performance_session_global.sort_values(ascending=False, by='patient_code',inplace=True)\r\n",
    "presence_global.sort_values(ascending=False, by='patient_code',inplace=True)\r\n",
    "presence_specific.sort_values(ascending=False, by='patient_code',inplace=True)\r\n"
   ]
  },
  {
   "cell_type": "code",
   "execution_count": 12,
   "metadata": {},
   "outputs": [
    {
     "data": {
      "text/html": [
       "<div>\n",
       "<style scoped>\n",
       "    .dataframe tbody tr th:only-of-type {\n",
       "        vertical-align: middle;\n",
       "    }\n",
       "\n",
       "    .dataframe tbody tr th {\n",
       "        vertical-align: top;\n",
       "    }\n",
       "\n",
       "    .dataframe thead th {\n",
       "        text-align: right;\n",
       "    }\n",
       "</style>\n",
       "<table border=\"1\" class=\"dataframe\">\n",
       "  <thead>\n",
       "    <tr style=\"text-align: right;\">\n",
       "      <th></th>\n",
       "      <th>nombre_de_filles</th>\n",
       "      <th>nombre_de_presence_saisie_depuis_le_2021-03-01</th>\n",
       "      <th>nombre_de_presence_saisie_depuis_le_2021-06-21</th>\n",
       "    </tr>\n",
       "    <tr>\n",
       "      <th>created_by</th>\n",
       "      <th></th>\n",
       "      <th></th>\n",
       "      <th></th>\n",
       "    </tr>\n",
       "  </thead>\n",
       "  <tbody>\n",
       "    <tr>\n",
       "      <th>billyjolicoeur95@gmail.com</th>\n",
       "      <td>1470</td>\n",
       "      <td>25436</td>\n",
       "      <td>1764.0</td>\n",
       "    </tr>\n",
       "    <tr>\n",
       "      <th>blonnichel@yahoo.fr</th>\n",
       "      <td>560</td>\n",
       "      <td>9300</td>\n",
       "      <td>588.0</td>\n",
       "    </tr>\n",
       "    <tr>\n",
       "      <th>byronfabrice9@gmail.com</th>\n",
       "      <td>850</td>\n",
       "      <td>12048</td>\n",
       "      <td>255.0</td>\n",
       "    </tr>\n",
       "    <tr>\n",
       "      <th>diegoarmando.dorlean@carisfoundationintl.org</th>\n",
       "      <td>176</td>\n",
       "      <td>1877</td>\n",
       "      <td>92.0</td>\n",
       "    </tr>\n",
       "    <tr>\n",
       "      <th>elionafredly7@gmail.com</th>\n",
       "      <td>771</td>\n",
       "      <td>14428</td>\n",
       "      <td>900.0</td>\n",
       "    </tr>\n",
       "    <tr>\n",
       "      <th>ernst.belabre@carisfoundationintl.org</th>\n",
       "      <td>308</td>\n",
       "      <td>3232</td>\n",
       "      <td>228.0</td>\n",
       "    </tr>\n",
       "    <tr>\n",
       "      <th>francenelstjean.saed@yahoo.com</th>\n",
       "      <td>187</td>\n",
       "      <td>2606</td>\n",
       "      <td>NaN</td>\n",
       "    </tr>\n",
       "    <tr>\n",
       "      <th>gerald.poteau@carisfoundationintl.org</th>\n",
       "      <td>149</td>\n",
       "      <td>1754</td>\n",
       "      <td>156.0</td>\n",
       "    </tr>\n",
       "    <tr>\n",
       "      <th>jhonip77@yahoo.fr</th>\n",
       "      <td>109</td>\n",
       "      <td>2403</td>\n",
       "      <td>223.0</td>\n",
       "    </tr>\n",
       "    <tr>\n",
       "      <th>roselord.despeignes@carisfoundationintl.org</th>\n",
       "      <td>94</td>\n",
       "      <td>727</td>\n",
       "      <td>102.0</td>\n",
       "    </tr>\n",
       "    <tr>\n",
       "      <th>twoody103@gmail.com</th>\n",
       "      <td>216</td>\n",
       "      <td>3886</td>\n",
       "      <td>54.0</td>\n",
       "    </tr>\n",
       "  </tbody>\n",
       "</table>\n",
       "</div>"
      ],
      "text/plain": [
       "                                              nombre_de_filles  \\\n",
       "created_by                                                       \n",
       "billyjolicoeur95@gmail.com                                1470   \n",
       "blonnichel@yahoo.fr                                        560   \n",
       "byronfabrice9@gmail.com                                    850   \n",
       "diegoarmando.dorlean@carisfoundationintl.org               176   \n",
       "elionafredly7@gmail.com                                    771   \n",
       "ernst.belabre@carisfoundationintl.org                      308   \n",
       "francenelstjean.saed@yahoo.com                             187   \n",
       "gerald.poteau@carisfoundationintl.org                      149   \n",
       "jhonip77@yahoo.fr                                          109   \n",
       "roselord.despeignes@carisfoundationintl.org                 94   \n",
       "twoody103@gmail.com                                        216   \n",
       "\n",
       "                                              nombre_de_presence_saisie_depuis_le_2021-03-01  \\\n",
       "created_by                                                                                     \n",
       "billyjolicoeur95@gmail.com                                                             25436   \n",
       "blonnichel@yahoo.fr                                                                     9300   \n",
       "byronfabrice9@gmail.com                                                                12048   \n",
       "diegoarmando.dorlean@carisfoundationintl.org                                            1877   \n",
       "elionafredly7@gmail.com                                                                14428   \n",
       "ernst.belabre@carisfoundationintl.org                                                   3232   \n",
       "francenelstjean.saed@yahoo.com                                                          2606   \n",
       "gerald.poteau@carisfoundationintl.org                                                   1754   \n",
       "jhonip77@yahoo.fr                                                                       2403   \n",
       "roselord.despeignes@carisfoundationintl.org                                              727   \n",
       "twoody103@gmail.com                                                                     3886   \n",
       "\n",
       "                                              nombre_de_presence_saisie_depuis_le_2021-06-21  \n",
       "created_by                                                                                    \n",
       "billyjolicoeur95@gmail.com                                                            1764.0  \n",
       "blonnichel@yahoo.fr                                                                    588.0  \n",
       "byronfabrice9@gmail.com                                                                255.0  \n",
       "diegoarmando.dorlean@carisfoundationintl.org                                            92.0  \n",
       "elionafredly7@gmail.com                                                                900.0  \n",
       "ernst.belabre@carisfoundationintl.org                                                  228.0  \n",
       "francenelstjean.saed@yahoo.com                                                           NaN  \n",
       "gerald.poteau@carisfoundationintl.org                                                  156.0  \n",
       "jhonip77@yahoo.fr                                                                      223.0  \n",
       "roselord.despeignes@carisfoundationintl.org                                            102.0  \n",
       "twoody103@gmail.com                                                                     54.0  "
      ]
     },
     "execution_count": 12,
     "metadata": {},
     "output_type": "execute_result"
    }
   ],
   "source": [
    "performance_session  = pd.DataFrame( {\"nombre_de_filles\": performance_session_global['patient_code'], f\"nombre_de_presence_saisie_depuis_le_{Constante.march_1_2021.value}\":presence_global[\"patient_code\"],\r\n",
    "                                      f\"nombre_de_presence_saisie_depuis_le_{Constante.specific.value}\":presence_specific[\"patient_code\"]})\r\n",
    "performance_session"
   ]
  },
  {
   "cell_type": "markdown",
   "metadata": {},
   "source": [
    "## MODIFY BELOW TO GET THE DIFFERENCE GIVEN LAST WEEK"
   ]
  },
  {
   "cell_type": "code",
   "execution_count": 13,
   "metadata": {},
   "outputs": [],
   "source": [
    "week_before_perf = pd.read_excel(\"rapport_agents_saisie_des_sessions_21Juin2021.xlsx\", sheet_name=\"filles_saisies_global\", index_col=\"created_by\")\r\n",
    "performance_session[\"nombre_de_filles_week_before\"] =  performance_session[\"nombre_de_filles\"] - week_before_perf[\"nombre_de_filles\"]\r\n",
    "performance_session.nombre_de_filles_week_before = performance_session.nombre_de_filles_week_before.astype(\"int16\")"
   ]
  },
  {
   "cell_type": "code",
   "execution_count": 14,
   "metadata": {},
   "outputs": [],
   "source": [
    "performance_session.fillna(0,inplace=True)\r\n",
    "performance_session[f\"nombre_de_presence_saisie_depuis_le_{Constante.specific.value}\"] = performance_session[f\"nombre_de_presence_saisie_depuis_le_{Constante.specific.value}\"].astype('int16')"
   ]
  },
  {
   "cell_type": "code",
   "execution_count": 15,
   "metadata": {},
   "outputs": [],
   "source": [
    "columns_performance_session = performance_session.columns.sort_values().tolist()\r\n",
    "performance_session = performance_session.reindex(columns=columns_performance_session)"
   ]
  },
  {
   "cell_type": "code",
   "execution_count": 16,
   "metadata": {},
   "outputs": [
    {
     "data": {
      "text/html": [
       "<div>\n",
       "<style scoped>\n",
       "    .dataframe tbody tr th:only-of-type {\n",
       "        vertical-align: middle;\n",
       "    }\n",
       "\n",
       "    .dataframe tbody tr th {\n",
       "        vertical-align: top;\n",
       "    }\n",
       "\n",
       "    .dataframe thead th {\n",
       "        text-align: right;\n",
       "    }\n",
       "</style>\n",
       "<table border=\"1\" class=\"dataframe\">\n",
       "  <thead>\n",
       "    <tr style=\"text-align: right;\">\n",
       "      <th></th>\n",
       "      <th>nombre_de_filles</th>\n",
       "      <th>nombre_de_filles_week_before</th>\n",
       "      <th>nombre_de_presence_saisie_depuis_le_2021-03-01</th>\n",
       "      <th>nombre_de_presence_saisie_depuis_le_2021-06-21</th>\n",
       "    </tr>\n",
       "    <tr>\n",
       "      <th>created_by</th>\n",
       "      <th></th>\n",
       "      <th></th>\n",
       "      <th></th>\n",
       "      <th></th>\n",
       "    </tr>\n",
       "  </thead>\n",
       "  <tbody>\n",
       "    <tr>\n",
       "      <th>billyjolicoeur95@gmail.com</th>\n",
       "      <td>1470</td>\n",
       "      <td>98</td>\n",
       "      <td>25436</td>\n",
       "      <td>1764</td>\n",
       "    </tr>\n",
       "    <tr>\n",
       "      <th>blonnichel@yahoo.fr</th>\n",
       "      <td>560</td>\n",
       "      <td>52</td>\n",
       "      <td>9300</td>\n",
       "      <td>588</td>\n",
       "    </tr>\n",
       "    <tr>\n",
       "      <th>byronfabrice9@gmail.com</th>\n",
       "      <td>850</td>\n",
       "      <td>28</td>\n",
       "      <td>12048</td>\n",
       "      <td>255</td>\n",
       "    </tr>\n",
       "    <tr>\n",
       "      <th>diegoarmando.dorlean@carisfoundationintl.org</th>\n",
       "      <td>176</td>\n",
       "      <td>22</td>\n",
       "      <td>1877</td>\n",
       "      <td>92</td>\n",
       "    </tr>\n",
       "    <tr>\n",
       "      <th>elionafredly7@gmail.com</th>\n",
       "      <td>771</td>\n",
       "      <td>50</td>\n",
       "      <td>14428</td>\n",
       "      <td>900</td>\n",
       "    </tr>\n",
       "    <tr>\n",
       "      <th>ernst.belabre@carisfoundationintl.org</th>\n",
       "      <td>308</td>\n",
       "      <td>53</td>\n",
       "      <td>3232</td>\n",
       "      <td>228</td>\n",
       "    </tr>\n",
       "    <tr>\n",
       "      <th>francenelstjean.saed@yahoo.com</th>\n",
       "      <td>187</td>\n",
       "      <td>0</td>\n",
       "      <td>2606</td>\n",
       "      <td>0</td>\n",
       "    </tr>\n",
       "    <tr>\n",
       "      <th>gerald.poteau@carisfoundationintl.org</th>\n",
       "      <td>149</td>\n",
       "      <td>39</td>\n",
       "      <td>1754</td>\n",
       "      <td>156</td>\n",
       "    </tr>\n",
       "    <tr>\n",
       "      <th>jhonip77@yahoo.fr</th>\n",
       "      <td>109</td>\n",
       "      <td>13</td>\n",
       "      <td>2403</td>\n",
       "      <td>223</td>\n",
       "    </tr>\n",
       "    <tr>\n",
       "      <th>roselord.despeignes@carisfoundationintl.org</th>\n",
       "      <td>94</td>\n",
       "      <td>21</td>\n",
       "      <td>727</td>\n",
       "      <td>102</td>\n",
       "    </tr>\n",
       "    <tr>\n",
       "      <th>twoody103@gmail.com</th>\n",
       "      <td>216</td>\n",
       "      <td>3</td>\n",
       "      <td>3886</td>\n",
       "      <td>54</td>\n",
       "    </tr>\n",
       "  </tbody>\n",
       "</table>\n",
       "</div>"
      ],
      "text/plain": [
       "                                              nombre_de_filles  \\\n",
       "created_by                                                       \n",
       "billyjolicoeur95@gmail.com                                1470   \n",
       "blonnichel@yahoo.fr                                        560   \n",
       "byronfabrice9@gmail.com                                    850   \n",
       "diegoarmando.dorlean@carisfoundationintl.org               176   \n",
       "elionafredly7@gmail.com                                    771   \n",
       "ernst.belabre@carisfoundationintl.org                      308   \n",
       "francenelstjean.saed@yahoo.com                             187   \n",
       "gerald.poteau@carisfoundationintl.org                      149   \n",
       "jhonip77@yahoo.fr                                          109   \n",
       "roselord.despeignes@carisfoundationintl.org                 94   \n",
       "twoody103@gmail.com                                        216   \n",
       "\n",
       "                                              nombre_de_filles_week_before  \\\n",
       "created_by                                                                   \n",
       "billyjolicoeur95@gmail.com                                              98   \n",
       "blonnichel@yahoo.fr                                                     52   \n",
       "byronfabrice9@gmail.com                                                 28   \n",
       "diegoarmando.dorlean@carisfoundationintl.org                            22   \n",
       "elionafredly7@gmail.com                                                 50   \n",
       "ernst.belabre@carisfoundationintl.org                                   53   \n",
       "francenelstjean.saed@yahoo.com                                           0   \n",
       "gerald.poteau@carisfoundationintl.org                                   39   \n",
       "jhonip77@yahoo.fr                                                       13   \n",
       "roselord.despeignes@carisfoundationintl.org                             21   \n",
       "twoody103@gmail.com                                                      3   \n",
       "\n",
       "                                              nombre_de_presence_saisie_depuis_le_2021-03-01  \\\n",
       "created_by                                                                                     \n",
       "billyjolicoeur95@gmail.com                                                             25436   \n",
       "blonnichel@yahoo.fr                                                                     9300   \n",
       "byronfabrice9@gmail.com                                                                12048   \n",
       "diegoarmando.dorlean@carisfoundationintl.org                                            1877   \n",
       "elionafredly7@gmail.com                                                                14428   \n",
       "ernst.belabre@carisfoundationintl.org                                                   3232   \n",
       "francenelstjean.saed@yahoo.com                                                          2606   \n",
       "gerald.poteau@carisfoundationintl.org                                                   1754   \n",
       "jhonip77@yahoo.fr                                                                       2403   \n",
       "roselord.despeignes@carisfoundationintl.org                                              727   \n",
       "twoody103@gmail.com                                                                     3886   \n",
       "\n",
       "                                              nombre_de_presence_saisie_depuis_le_2021-06-21  \n",
       "created_by                                                                                    \n",
       "billyjolicoeur95@gmail.com                                                              1764  \n",
       "blonnichel@yahoo.fr                                                                      588  \n",
       "byronfabrice9@gmail.com                                                                  255  \n",
       "diegoarmando.dorlean@carisfoundationintl.org                                              92  \n",
       "elionafredly7@gmail.com                                                                  900  \n",
       "ernst.belabre@carisfoundationintl.org                                                    228  \n",
       "francenelstjean.saed@yahoo.com                                                             0  \n",
       "gerald.poteau@carisfoundationintl.org                                                    156  \n",
       "jhonip77@yahoo.fr                                                                        223  \n",
       "roselord.despeignes@carisfoundationintl.org                                              102  \n",
       "twoody103@gmail.com                                                                       54  "
      ]
     },
     "execution_count": 16,
     "metadata": {},
     "output_type": "execute_result"
    }
   ],
   "source": [
    "performance_session"
   ]
  },
  {
   "cell_type": "markdown",
   "metadata": {},
   "source": [
    "## Agent per Commune"
   ]
  },
  {
   "cell_type": "code",
   "execution_count": 17,
   "metadata": {},
   "outputs": [],
   "source": [
    "performance_agents_par_commune = epa_startmars_endnow.pivot_table(index='created_by',columns='hub_commune',values=['patient_code'],aggfunc='count',fill_value=0,margins=True, margins_name=\"Grand Total\")\n",
    "#performance_agents_par_commune.reset_index(inplace=True)"
   ]
  },
  {
   "cell_type": "code",
   "execution_count": 18,
   "metadata": {},
   "outputs": [],
   "source": [
    "performance_agents_par_commune.sort_values(by=('patient_code',\"Grand Total\") ,ascending=False,inplace=True)"
   ]
  },
  {
   "cell_type": "code",
   "execution_count": 19,
   "metadata": {},
   "outputs": [
    {
     "data": {
      "text/html": [
       "<div>\n",
       "<style scoped>\n",
       "    .dataframe tbody tr th:only-of-type {\n",
       "        vertical-align: middle;\n",
       "    }\n",
       "\n",
       "    .dataframe tbody tr th {\n",
       "        vertical-align: top;\n",
       "    }\n",
       "\n",
       "    .dataframe thead tr th {\n",
       "        text-align: left;\n",
       "    }\n",
       "\n",
       "    .dataframe thead tr:last-of-type th {\n",
       "        text-align: right;\n",
       "    }\n",
       "</style>\n",
       "<table border=\"1\" class=\"dataframe\">\n",
       "  <thead>\n",
       "    <tr>\n",
       "      <th></th>\n",
       "      <th colspan=\"21\" halign=\"left\">patient_code</th>\n",
       "    </tr>\n",
       "    <tr>\n",
       "      <th>hub_commune</th>\n",
       "      <th>Cap-Haïtien</th>\n",
       "      <th>Carrefour</th>\n",
       "      <th>Delmas</th>\n",
       "      <th>Desdunes</th>\n",
       "      <th>Dessalines</th>\n",
       "      <th>Grande Saline</th>\n",
       "      <th>Gressier</th>\n",
       "      <th>Kenscoff</th>\n",
       "      <th>La Chapelle</th>\n",
       "      <th>Liancourt</th>\n",
       "      <th>...</th>\n",
       "      <th>Montrouis</th>\n",
       "      <th>Petite Rivière de l'Artibonite</th>\n",
       "      <th>Plaine-du-Nord</th>\n",
       "      <th>Port-au-Prince</th>\n",
       "      <th>Pétionville</th>\n",
       "      <th>Quartier-Morin</th>\n",
       "      <th>Saint-Marc</th>\n",
       "      <th>Tabarre</th>\n",
       "      <th>Verrettes</th>\n",
       "      <th>Grand Total</th>\n",
       "    </tr>\n",
       "    <tr>\n",
       "      <th>created_by</th>\n",
       "      <th></th>\n",
       "      <th></th>\n",
       "      <th></th>\n",
       "      <th></th>\n",
       "      <th></th>\n",
       "      <th></th>\n",
       "      <th></th>\n",
       "      <th></th>\n",
       "      <th></th>\n",
       "      <th></th>\n",
       "      <th></th>\n",
       "      <th></th>\n",
       "      <th></th>\n",
       "      <th></th>\n",
       "      <th></th>\n",
       "      <th></th>\n",
       "      <th></th>\n",
       "      <th></th>\n",
       "      <th></th>\n",
       "      <th></th>\n",
       "      <th></th>\n",
       "    </tr>\n",
       "  </thead>\n",
       "  <tbody>\n",
       "    <tr>\n",
       "      <th>Grand Total</th>\n",
       "      <td>303</td>\n",
       "      <td>270</td>\n",
       "      <td>164</td>\n",
       "      <td>62</td>\n",
       "      <td>239</td>\n",
       "      <td>121</td>\n",
       "      <td>537</td>\n",
       "      <td>811</td>\n",
       "      <td>254</td>\n",
       "      <td>40</td>\n",
       "      <td>...</td>\n",
       "      <td>44</td>\n",
       "      <td>189</td>\n",
       "      <td>64</td>\n",
       "      <td>238</td>\n",
       "      <td>164</td>\n",
       "      <td>30</td>\n",
       "      <td>417</td>\n",
       "      <td>98</td>\n",
       "      <td>426</td>\n",
       "      <td>4890</td>\n",
       "    </tr>\n",
       "    <tr>\n",
       "      <th>billyjolicoeur95@gmail.com</th>\n",
       "      <td>139</td>\n",
       "      <td>72</td>\n",
       "      <td>123</td>\n",
       "      <td>18</td>\n",
       "      <td>0</td>\n",
       "      <td>0</td>\n",
       "      <td>72</td>\n",
       "      <td>398</td>\n",
       "      <td>0</td>\n",
       "      <td>0</td>\n",
       "      <td>...</td>\n",
       "      <td>0</td>\n",
       "      <td>58</td>\n",
       "      <td>62</td>\n",
       "      <td>39</td>\n",
       "      <td>107</td>\n",
       "      <td>0</td>\n",
       "      <td>28</td>\n",
       "      <td>71</td>\n",
       "      <td>0</td>\n",
       "      <td>1470</td>\n",
       "    </tr>\n",
       "    <tr>\n",
       "      <th>byronfabrice9@gmail.com</th>\n",
       "      <td>70</td>\n",
       "      <td>63</td>\n",
       "      <td>0</td>\n",
       "      <td>0</td>\n",
       "      <td>58</td>\n",
       "      <td>0</td>\n",
       "      <td>161</td>\n",
       "      <td>230</td>\n",
       "      <td>37</td>\n",
       "      <td>0</td>\n",
       "      <td>...</td>\n",
       "      <td>0</td>\n",
       "      <td>6</td>\n",
       "      <td>0</td>\n",
       "      <td>47</td>\n",
       "      <td>40</td>\n",
       "      <td>7</td>\n",
       "      <td>41</td>\n",
       "      <td>25</td>\n",
       "      <td>0</td>\n",
       "      <td>850</td>\n",
       "    </tr>\n",
       "    <tr>\n",
       "      <th>elionafredly7@gmail.com</th>\n",
       "      <td>31</td>\n",
       "      <td>90</td>\n",
       "      <td>39</td>\n",
       "      <td>0</td>\n",
       "      <td>0</td>\n",
       "      <td>0</td>\n",
       "      <td>273</td>\n",
       "      <td>64</td>\n",
       "      <td>0</td>\n",
       "      <td>0</td>\n",
       "      <td>...</td>\n",
       "      <td>0</td>\n",
       "      <td>11</td>\n",
       "      <td>0</td>\n",
       "      <td>127</td>\n",
       "      <td>7</td>\n",
       "      <td>0</td>\n",
       "      <td>28</td>\n",
       "      <td>2</td>\n",
       "      <td>62</td>\n",
       "      <td>771</td>\n",
       "    </tr>\n",
       "    <tr>\n",
       "      <th>blonnichel@yahoo.fr</th>\n",
       "      <td>0</td>\n",
       "      <td>0</td>\n",
       "      <td>0</td>\n",
       "      <td>0</td>\n",
       "      <td>0</td>\n",
       "      <td>0</td>\n",
       "      <td>0</td>\n",
       "      <td>0</td>\n",
       "      <td>50</td>\n",
       "      <td>40</td>\n",
       "      <td>...</td>\n",
       "      <td>20</td>\n",
       "      <td>0</td>\n",
       "      <td>0</td>\n",
       "      <td>0</td>\n",
       "      <td>0</td>\n",
       "      <td>0</td>\n",
       "      <td>265</td>\n",
       "      <td>0</td>\n",
       "      <td>185</td>\n",
       "      <td>560</td>\n",
       "    </tr>\n",
       "    <tr>\n",
       "      <th>ernst.belabre@carisfoundationintl.org</th>\n",
       "      <td>24</td>\n",
       "      <td>0</td>\n",
       "      <td>0</td>\n",
       "      <td>36</td>\n",
       "      <td>0</td>\n",
       "      <td>22</td>\n",
       "      <td>0</td>\n",
       "      <td>0</td>\n",
       "      <td>88</td>\n",
       "      <td>0</td>\n",
       "      <td>...</td>\n",
       "      <td>0</td>\n",
       "      <td>15</td>\n",
       "      <td>0</td>\n",
       "      <td>0</td>\n",
       "      <td>0</td>\n",
       "      <td>23</td>\n",
       "      <td>8</td>\n",
       "      <td>0</td>\n",
       "      <td>92</td>\n",
       "      <td>308</td>\n",
       "    </tr>\n",
       "    <tr>\n",
       "      <th>twoody103@gmail.com</th>\n",
       "      <td>18</td>\n",
       "      <td>45</td>\n",
       "      <td>2</td>\n",
       "      <td>0</td>\n",
       "      <td>0</td>\n",
       "      <td>0</td>\n",
       "      <td>31</td>\n",
       "      <td>65</td>\n",
       "      <td>0</td>\n",
       "      <td>0</td>\n",
       "      <td>...</td>\n",
       "      <td>0</td>\n",
       "      <td>2</td>\n",
       "      <td>0</td>\n",
       "      <td>25</td>\n",
       "      <td>10</td>\n",
       "      <td>0</td>\n",
       "      <td>0</td>\n",
       "      <td>0</td>\n",
       "      <td>0</td>\n",
       "      <td>216</td>\n",
       "    </tr>\n",
       "    <tr>\n",
       "      <th>francenelstjean.saed@yahoo.com</th>\n",
       "      <td>0</td>\n",
       "      <td>0</td>\n",
       "      <td>0</td>\n",
       "      <td>2</td>\n",
       "      <td>181</td>\n",
       "      <td>4</td>\n",
       "      <td>0</td>\n",
       "      <td>0</td>\n",
       "      <td>0</td>\n",
       "      <td>0</td>\n",
       "      <td>...</td>\n",
       "      <td>0</td>\n",
       "      <td>0</td>\n",
       "      <td>0</td>\n",
       "      <td>0</td>\n",
       "      <td>0</td>\n",
       "      <td>0</td>\n",
       "      <td>0</td>\n",
       "      <td>0</td>\n",
       "      <td>0</td>\n",
       "      <td>187</td>\n",
       "    </tr>\n",
       "    <tr>\n",
       "      <th>diegoarmando.dorlean@carisfoundationintl.org</th>\n",
       "      <td>0</td>\n",
       "      <td>0</td>\n",
       "      <td>0</td>\n",
       "      <td>0</td>\n",
       "      <td>0</td>\n",
       "      <td>59</td>\n",
       "      <td>0</td>\n",
       "      <td>0</td>\n",
       "      <td>54</td>\n",
       "      <td>0</td>\n",
       "      <td>...</td>\n",
       "      <td>0</td>\n",
       "      <td>41</td>\n",
       "      <td>0</td>\n",
       "      <td>0</td>\n",
       "      <td>0</td>\n",
       "      <td>0</td>\n",
       "      <td>0</td>\n",
       "      <td>0</td>\n",
       "      <td>22</td>\n",
       "      <td>176</td>\n",
       "    </tr>\n",
       "    <tr>\n",
       "      <th>gerald.poteau@carisfoundationintl.org</th>\n",
       "      <td>0</td>\n",
       "      <td>0</td>\n",
       "      <td>0</td>\n",
       "      <td>5</td>\n",
       "      <td>0</td>\n",
       "      <td>36</td>\n",
       "      <td>0</td>\n",
       "      <td>0</td>\n",
       "      <td>4</td>\n",
       "      <td>0</td>\n",
       "      <td>...</td>\n",
       "      <td>8</td>\n",
       "      <td>20</td>\n",
       "      <td>0</td>\n",
       "      <td>0</td>\n",
       "      <td>0</td>\n",
       "      <td>0</td>\n",
       "      <td>34</td>\n",
       "      <td>0</td>\n",
       "      <td>42</td>\n",
       "      <td>149</td>\n",
       "    </tr>\n",
       "    <tr>\n",
       "      <th>jhonip77@yahoo.fr</th>\n",
       "      <td>21</td>\n",
       "      <td>0</td>\n",
       "      <td>0</td>\n",
       "      <td>0</td>\n",
       "      <td>0</td>\n",
       "      <td>0</td>\n",
       "      <td>0</td>\n",
       "      <td>54</td>\n",
       "      <td>0</td>\n",
       "      <td>0</td>\n",
       "      <td>...</td>\n",
       "      <td>16</td>\n",
       "      <td>0</td>\n",
       "      <td>2</td>\n",
       "      <td>0</td>\n",
       "      <td>0</td>\n",
       "      <td>0</td>\n",
       "      <td>0</td>\n",
       "      <td>0</td>\n",
       "      <td>0</td>\n",
       "      <td>109</td>\n",
       "    </tr>\n",
       "    <tr>\n",
       "      <th>roselord.despeignes@carisfoundationintl.org</th>\n",
       "      <td>0</td>\n",
       "      <td>0</td>\n",
       "      <td>0</td>\n",
       "      <td>1</td>\n",
       "      <td>0</td>\n",
       "      <td>0</td>\n",
       "      <td>0</td>\n",
       "      <td>0</td>\n",
       "      <td>21</td>\n",
       "      <td>0</td>\n",
       "      <td>...</td>\n",
       "      <td>0</td>\n",
       "      <td>36</td>\n",
       "      <td>0</td>\n",
       "      <td>0</td>\n",
       "      <td>0</td>\n",
       "      <td>0</td>\n",
       "      <td>13</td>\n",
       "      <td>0</td>\n",
       "      <td>23</td>\n",
       "      <td>94</td>\n",
       "    </tr>\n",
       "  </tbody>\n",
       "</table>\n",
       "<p>12 rows × 22 columns</p>\n",
       "</div>"
      ],
      "text/plain": [
       "                                             patient_code                   \\\n",
       "hub_commune                                   Cap-Haïtien Carrefour Delmas   \n",
       "created_by                                                                   \n",
       "Grand Total                                           303       270    164   \n",
       "billyjolicoeur95@gmail.com                            139        72    123   \n",
       "byronfabrice9@gmail.com                                70        63      0   \n",
       "elionafredly7@gmail.com                                31        90     39   \n",
       "blonnichel@yahoo.fr                                     0         0      0   \n",
       "ernst.belabre@carisfoundationintl.org                  24         0      0   \n",
       "twoody103@gmail.com                                    18        45      2   \n",
       "francenelstjean.saed@yahoo.com                          0         0      0   \n",
       "diegoarmando.dorlean@carisfoundationintl.org            0         0      0   \n",
       "gerald.poteau@carisfoundationintl.org                   0         0      0   \n",
       "jhonip77@yahoo.fr                                      21         0      0   \n",
       "roselord.despeignes@carisfoundationintl.org             0         0      0   \n",
       "\n",
       "                                                                  \\\n",
       "hub_commune                                  Desdunes Dessalines   \n",
       "created_by                                                         \n",
       "Grand Total                                        62        239   \n",
       "billyjolicoeur95@gmail.com                         18          0   \n",
       "byronfabrice9@gmail.com                             0         58   \n",
       "elionafredly7@gmail.com                             0          0   \n",
       "blonnichel@yahoo.fr                                 0          0   \n",
       "ernst.belabre@carisfoundationintl.org              36          0   \n",
       "twoody103@gmail.com                                 0          0   \n",
       "francenelstjean.saed@yahoo.com                      2        181   \n",
       "diegoarmando.dorlean@carisfoundationintl.org        0          0   \n",
       "gerald.poteau@carisfoundationintl.org               5          0   \n",
       "jhonip77@yahoo.fr                                   0          0   \n",
       "roselord.despeignes@carisfoundationintl.org         1          0   \n",
       "\n",
       "                                                                              \\\n",
       "hub_commune                                  Grande Saline Gressier Kenscoff   \n",
       "created_by                                                                     \n",
       "Grand Total                                            121      537      811   \n",
       "billyjolicoeur95@gmail.com                               0       72      398   \n",
       "byronfabrice9@gmail.com                                  0      161      230   \n",
       "elionafredly7@gmail.com                                  0      273       64   \n",
       "blonnichel@yahoo.fr                                      0        0        0   \n",
       "ernst.belabre@carisfoundationintl.org                   22        0        0   \n",
       "twoody103@gmail.com                                      0       31       65   \n",
       "francenelstjean.saed@yahoo.com                           4        0        0   \n",
       "diegoarmando.dorlean@carisfoundationintl.org            59        0        0   \n",
       "gerald.poteau@carisfoundationintl.org                   36        0        0   \n",
       "jhonip77@yahoo.fr                                        0        0       54   \n",
       "roselord.despeignes@carisfoundationintl.org              0        0        0   \n",
       "\n",
       "                                                                    ...  \\\n",
       "hub_commune                                  La Chapelle Liancourt  ...   \n",
       "created_by                                                          ...   \n",
       "Grand Total                                          254        40  ...   \n",
       "billyjolicoeur95@gmail.com                             0         0  ...   \n",
       "byronfabrice9@gmail.com                               37         0  ...   \n",
       "elionafredly7@gmail.com                                0         0  ...   \n",
       "blonnichel@yahoo.fr                                   50        40  ...   \n",
       "ernst.belabre@carisfoundationintl.org                 88         0  ...   \n",
       "twoody103@gmail.com                                    0         0  ...   \n",
       "francenelstjean.saed@yahoo.com                         0         0  ...   \n",
       "diegoarmando.dorlean@carisfoundationintl.org          54         0  ...   \n",
       "gerald.poteau@carisfoundationintl.org                  4         0  ...   \n",
       "jhonip77@yahoo.fr                                      0         0  ...   \n",
       "roselord.despeignes@carisfoundationintl.org           21         0  ...   \n",
       "\n",
       "                                                        \\\n",
       "hub_commune                                  Montrouis   \n",
       "created_by                                               \n",
       "Grand Total                                         44   \n",
       "billyjolicoeur95@gmail.com                           0   \n",
       "byronfabrice9@gmail.com                              0   \n",
       "elionafredly7@gmail.com                              0   \n",
       "blonnichel@yahoo.fr                                 20   \n",
       "ernst.belabre@carisfoundationintl.org                0   \n",
       "twoody103@gmail.com                                  0   \n",
       "francenelstjean.saed@yahoo.com                       0   \n",
       "diegoarmando.dorlean@carisfoundationintl.org         0   \n",
       "gerald.poteau@carisfoundationintl.org                8   \n",
       "jhonip77@yahoo.fr                                   16   \n",
       "roselord.despeignes@carisfoundationintl.org          0   \n",
       "\n",
       "                                                                             \\\n",
       "hub_commune                                  Petite Rivière de l'Artibonite   \n",
       "created_by                                                                    \n",
       "Grand Total                                                             189   \n",
       "billyjolicoeur95@gmail.com                                               58   \n",
       "byronfabrice9@gmail.com                                                   6   \n",
       "elionafredly7@gmail.com                                                  11   \n",
       "blonnichel@yahoo.fr                                                       0   \n",
       "ernst.belabre@carisfoundationintl.org                                    15   \n",
       "twoody103@gmail.com                                                       2   \n",
       "francenelstjean.saed@yahoo.com                                            0   \n",
       "diegoarmando.dorlean@carisfoundationintl.org                             41   \n",
       "gerald.poteau@carisfoundationintl.org                                    20   \n",
       "jhonip77@yahoo.fr                                                         0   \n",
       "roselord.despeignes@carisfoundationintl.org                              36   \n",
       "\n",
       "                                                                            \\\n",
       "hub_commune                                  Plaine-du-Nord Port-au-Prince   \n",
       "created_by                                                                   \n",
       "Grand Total                                              64            238   \n",
       "billyjolicoeur95@gmail.com                               62             39   \n",
       "byronfabrice9@gmail.com                                   0             47   \n",
       "elionafredly7@gmail.com                                   0            127   \n",
       "blonnichel@yahoo.fr                                       0              0   \n",
       "ernst.belabre@carisfoundationintl.org                     0              0   \n",
       "twoody103@gmail.com                                       0             25   \n",
       "francenelstjean.saed@yahoo.com                            0              0   \n",
       "diegoarmando.dorlean@carisfoundationintl.org              0              0   \n",
       "gerald.poteau@carisfoundationintl.org                     0              0   \n",
       "jhonip77@yahoo.fr                                         2              0   \n",
       "roselord.despeignes@carisfoundationintl.org               0              0   \n",
       "\n",
       "                                                                         \\\n",
       "hub_commune                                  Pétionville Quartier-Morin   \n",
       "created_by                                                                \n",
       "Grand Total                                          164             30   \n",
       "billyjolicoeur95@gmail.com                           107              0   \n",
       "byronfabrice9@gmail.com                               40              7   \n",
       "elionafredly7@gmail.com                                7              0   \n",
       "blonnichel@yahoo.fr                                    0              0   \n",
       "ernst.belabre@carisfoundationintl.org                  0             23   \n",
       "twoody103@gmail.com                                   10              0   \n",
       "francenelstjean.saed@yahoo.com                         0              0   \n",
       "diegoarmando.dorlean@carisfoundationintl.org           0              0   \n",
       "gerald.poteau@carisfoundationintl.org                  0              0   \n",
       "jhonip77@yahoo.fr                                      0              0   \n",
       "roselord.despeignes@carisfoundationintl.org            0              0   \n",
       "\n",
       "                                                                           \\\n",
       "hub_commune                                  Saint-Marc Tabarre Verrettes   \n",
       "created_by                                                                  \n",
       "Grand Total                                         417      98       426   \n",
       "billyjolicoeur95@gmail.com                           28      71         0   \n",
       "byronfabrice9@gmail.com                              41      25         0   \n",
       "elionafredly7@gmail.com                              28       2        62   \n",
       "blonnichel@yahoo.fr                                 265       0       185   \n",
       "ernst.belabre@carisfoundationintl.org                 8       0        92   \n",
       "twoody103@gmail.com                                   0       0         0   \n",
       "francenelstjean.saed@yahoo.com                        0       0         0   \n",
       "diegoarmando.dorlean@carisfoundationintl.org          0       0        22   \n",
       "gerald.poteau@carisfoundationintl.org                34       0        42   \n",
       "jhonip77@yahoo.fr                                     0       0         0   \n",
       "roselord.despeignes@carisfoundationintl.org          13       0        23   \n",
       "\n",
       "                                                          \n",
       "hub_commune                                  Grand Total  \n",
       "created_by                                                \n",
       "Grand Total                                         4890  \n",
       "billyjolicoeur95@gmail.com                          1470  \n",
       "byronfabrice9@gmail.com                              850  \n",
       "elionafredly7@gmail.com                              771  \n",
       "blonnichel@yahoo.fr                                  560  \n",
       "ernst.belabre@carisfoundationintl.org                308  \n",
       "twoody103@gmail.com                                  216  \n",
       "francenelstjean.saed@yahoo.com                       187  \n",
       "diegoarmando.dorlean@carisfoundationintl.org         176  \n",
       "gerald.poteau@carisfoundationintl.org                149  \n",
       "jhonip77@yahoo.fr                                    109  \n",
       "roselord.despeignes@carisfoundationintl.org           94  \n",
       "\n",
       "[12 rows x 22 columns]"
      ]
     },
     "execution_count": 19,
     "metadata": {},
     "output_type": "execute_result"
    }
   ],
   "source": [
    "performance_agents_par_commune"
   ]
  },
  {
   "cell_type": "markdown",
   "metadata": {},
   "source": [
    "## Reporting Performance de mars 2021 a date"
   ]
  },
  {
   "cell_type": "code",
   "execution_count": 20,
   "metadata": {},
   "outputs": [],
   "source": [
    "pac = pd.ExcelWriter('rapport_agents_saisie_des_sessions.xlsx',engine='xlsxwriter')\n",
    "performance_session.to_excel(pac,sheet_name='filles_saisies_global')\n",
    "performance_agents_par_commune.to_excel(pac,sheet_name=\"filles_saisies_par_communes\")\n",
    "pac.save()"
   ]
  },
  {
   "cell_type": "markdown",
   "metadata": {},
   "source": [
    "## Verification sheet"
   ]
  },
  {
   "cell_type": "code",
   "execution_count": 21,
   "metadata": {},
   "outputs": [],
   "source": [
    "def fiscalYear21(date):\r\n",
    "    if date.year == 2021 and date.month>=1 and date.month<=3:\r\n",
    "        return \"FY21Q2\"\r\n",
    "    elif date.year == 2020 and date.month>=10 and date.month<=12:\r\n",
    "        return \"FY21Q1\"\r\n",
    "    elif date.year == 2021 and date.month>=4 and date.month<=6:\r\n",
    "        return \"FY21Q3\"\r\n",
    "    elif date.year == 2021 and date.month>=7 and date.month<=9:\r\n",
    "        return \"FY21Q4\"\r\n",
    "    else:\r\n",
    "        return \"not_valid_fy\""
   ]
  },
  {
   "cell_type": "code",
   "execution_count": 22,
   "metadata": {},
   "outputs": [
    {
     "data": {
      "text/plain": [
       "0"
      ]
     },
     "execution_count": 22,
     "metadata": {},
     "output_type": "execute_result"
    }
   ],
   "source": [
    "epa_startmars_endnow.interview_date.isna().sum()"
   ]
  },
  {
   "cell_type": "code",
   "execution_count": 23,
   "metadata": {},
   "outputs": [],
   "source": [
    "%%capture\r\n",
    "epa_startmars_endnow[\"date_entevyou\"] = pd.to_datetime( epa_startmars_endnow.interview_date)"
   ]
  },
  {
   "cell_type": "code",
   "execution_count": 24,
   "metadata": {},
   "outputs": [
    {
     "data": {
      "text/plain": [
       "319325   2020-11-20\n",
       "319343   2020-11-20\n",
       "319356   2020-10-07\n",
       "319357   2020-10-05\n",
       "319358   2020-10-07\n",
       "            ...    \n",
       "396966   2020-12-23\n",
       "396967   2020-06-03\n",
       "396968   2020-06-02\n",
       "396969   2021-02-16\n",
       "396970   2021-02-11\n",
       "Name: date_entevyou, Length: 4890, dtype: datetime64[ns]"
      ]
     },
     "execution_count": 24,
     "metadata": {},
     "output_type": "execute_result"
    }
   ],
   "source": [
    "epa_startmars_endnow.date_entevyou"
   ]
  },
  {
   "cell_type": "code",
   "execution_count": 25,
   "metadata": {},
   "outputs": [],
   "source": [
    "%%capture\r\n",
    "epa_startmars_endnow[\"fiscal_year\"] = epa_startmars_endnow.date_entevyou.map(fiscalYear21)"
   ]
  },
  {
   "cell_type": "code",
   "execution_count": 26,
   "metadata": {},
   "outputs": [
    {
     "data": {
      "text/plain": [
       "Index(['patient_code', 'first_name', 'last_name', 'dob', 'interview_date',\n",
       "       'session_date', 'group_name', 'hub_name', 'hub_commune',\n",
       "       'hub_departement', 'interview_commune', 'topic', 'created_by',\n",
       "       'username', 'date_session_were_entered', 'date_entevyou',\n",
       "       'fiscal_year'],\n",
       "      dtype='object')"
      ]
     },
     "execution_count": 26,
     "metadata": {},
     "output_type": "execute_result"
    }
   ],
   "source": [
    "epa_startmars_endnow.columns"
   ]
  },
  {
   "cell_type": "code",
   "execution_count": 27,
   "metadata": {},
   "outputs": [
    {
     "data": {
      "text/plain": [
       "319325    2009-03-28\n",
       "319343    2007-08-16\n",
       "319356    2003-02-01\n",
       "319357    2004-12-24\n",
       "319358    2004-10-13\n",
       "             ...    \n",
       "396966    1996-08-03\n",
       "396967    2000-08-13\n",
       "396968    2001-04-06\n",
       "396969    2004-04-28\n",
       "396970    1996-04-15\n",
       "Name: dob, Length: 4890, dtype: object"
      ]
     },
     "execution_count": 27,
     "metadata": {},
     "output_type": "execute_result"
    }
   ],
   "source": [
    "epa_startmars_endnow.dob"
   ]
  },
  {
   "cell_type": "code",
   "execution_count": 28,
   "metadata": {},
   "outputs": [],
   "source": [
    "from dateutil.relativedelta import relativedelta"
   ]
  },
  {
   "cell_type": "code",
   "execution_count": 29,
   "metadata": {},
   "outputs": [],
   "source": [
    "def get_age(date):\r\n",
    "    return relativedelta(datetime.today(),date).years\r\n",
    "\r\n",
    "def tranche_age_classique(age):\r\n",
    "        if age>=10 and age<=14:\r\n",
    "            return \"10-14\"\r\n",
    "        elif age>=15 and age<=19:\r\n",
    "            return \"15-19\"\r\n",
    "        elif age>=20 and age<=24:\r\n",
    "            return \"20-24\"\r\n",
    "        elif age>=25 and age<=29:\r\n",
    "            return \"25-29\"\r\n",
    "        else:\r\n",
    "            return \"not_valid_age\"\r\n",
    "        \r\n",
    "def tranche_age_mineur_majeur(age):\r\n",
    "        if age>=10 and age<=17:\r\n",
    "            return \"10-17\"\r\n",
    "        elif age>=18 and age<=19:\r\n",
    "            return \"18-19\"\r\n",
    "        elif age>=20 and age<=24:\r\n",
    "            return \"20-24\"\r\n",
    "        elif age>=25 and age<=29:\r\n",
    "            return \"25-29\"\r\n",
    "        else:\r\n",
    "            return \"not_valid_age\""
   ]
  },
  {
   "cell_type": "code",
   "execution_count": 30,
   "metadata": {},
   "outputs": [],
   "source": [
    "%%capture\r\n",
    "epa_startmars_endnow[\"age\"] = epa_startmars_endnow.dob.map(get_age)\r\n",
    "epa_startmars_endnow[\"age_range\"] = epa_startmars_endnow.age.map(tranche_age_classique)\r\n",
    "epa_startmars_endnow[\"newage_range\"] = epa_startmars_endnow.age.map(tranche_age_mineur_majeur)"
   ]
  },
  {
   "cell_type": "code",
   "execution_count": 31,
   "metadata": {},
   "outputs": [
    {
     "data": {
      "text/plain": [
       "array([12, 13, 18, 16, 15, 17, 19, 11, 10, 20, 14, 24, 21, 22, 23, 25,  2,\n",
       "        8,  3], dtype=int64)"
      ]
     },
     "execution_count": 31,
     "metadata": {},
     "output_type": "execute_result"
    },
    {
     "data": {
      "text/plain": [
       "array(['10-14', '15-19', '20-24', '25-29', 'not_valid_age'], dtype=object)"
      ]
     },
     "execution_count": 31,
     "metadata": {},
     "output_type": "execute_result"
    },
    {
     "data": {
      "text/plain": [
       "array(['10-17', '18-19', '20-24', '25-29', 'not_valid_age'], dtype=object)"
      ]
     },
     "execution_count": 31,
     "metadata": {},
     "output_type": "execute_result"
    }
   ],
   "source": [
    "epa_startmars_endnow.age.unique()\r\n",
    "epa_startmars_endnow.age_range.unique()\r\n",
    "epa_startmars_endnow.newage_range.unique()"
   ]
  },
  {
   "cell_type": "code",
   "execution_count": 32,
   "metadata": {},
   "outputs": [
    {
     "data": {
      "text/plain": [
       "Index(['patient_code', 'first_name', 'last_name', 'dob', 'interview_date',\n",
       "       'session_date', 'group_name', 'hub_name', 'hub_commune',\n",
       "       'hub_departement', 'interview_commune', 'topic', 'created_by',\n",
       "       'username', 'date_session_were_entered', 'date_entevyou', 'fiscal_year',\n",
       "       'age', 'age_range', 'newage_range'],\n",
       "      dtype='object')"
      ]
     },
     "execution_count": 32,
     "metadata": {},
     "output_type": "execute_result"
    }
   ],
   "source": [
    "epa_startmars_endnow.columns"
   ]
  },
  {
   "cell_type": "code",
   "execution_count": 33,
   "metadata": {},
   "outputs": [],
   "source": [
    "epa_fy21 = epa_startmars_endnow[(epa_startmars_endnow.age_range !=\"not_valid_age\") & (epa_startmars_endnow.age_range != \"25-29\") & (epa_startmars_endnow.fiscal_year != \"not_valid_fy\")]"
   ]
  },
  {
   "cell_type": "code",
   "execution_count": 34,
   "metadata": {},
   "outputs": [
    {
     "data": {
      "text/plain": [
       "3013"
      ]
     },
     "execution_count": 34,
     "metadata": {},
     "output_type": "execute_result"
    }
   ],
   "source": [
    "epa_fy21.patient_code.count()"
   ]
  },
  {
   "cell_type": "code",
   "execution_count": 35,
   "metadata": {},
   "outputs": [
    {
     "data": {
      "text/plain": [
       "(<Figure size 1152x576 with 1 Axes>, <AxesSubplot:>)"
      ]
     },
     "execution_count": 35,
     "metadata": {},
     "output_type": "execute_result"
    },
    {
     "data": {
      "text/plain": [
       "Text(0.5, 0, '')"
      ]
     },
     "execution_count": 35,
     "metadata": {},
     "output_type": "execute_result"
    },
    {
     "data": {
      "text/plain": [
       "Text(0, 0.5, '')"
      ]
     },
     "execution_count": 35,
     "metadata": {},
     "output_type": "execute_result"
    },
    {
     "data": {
      "text/plain": [
       "Text(0.5, 0.98, 'AGYW, entered in march 2021 by the data clerk, presence in currilum')"
      ]
     },
     "execution_count": 35,
     "metadata": {},
     "output_type": "execute_result"
    },
    {
     "data": {
      "text/plain": [
       "Text(1586.0, 0.0, '1584')"
      ]
     },
     "execution_count": 35,
     "metadata": {},
     "output_type": "execute_result"
    },
    {
     "data": {
      "text/plain": [
       "Text(1250.0, 1.0, '1248')"
      ]
     },
     "execution_count": 35,
     "metadata": {},
     "output_type": "execute_result"
    },
    {
     "data": {
      "text/plain": [
       "Text(183.0, 2.0, '181')"
      ]
     },
     "execution_count": 35,
     "metadata": {},
     "output_type": "execute_result"
    },
    {
     "data": {
      "image/png": "[encoded data removed]",
      "text/plain": [
       "<Figure size 1152x576 with 1 Axes>"
      ]
     },
     "metadata": {
      "needs_background": "light"
     },
     "output_type": "display_data"
    }
   ],
   "source": [
    "import matplotlib.pyplot as plt\r\n",
    "%matplotlib inline\r\n",
    "import seaborn as sns\r\n",
    "\r\n",
    "pivot_epa = epa_fy21.pivot_table(columns=\"fiscal_year\",values=\"patient_code\",fill_value=0,aggfunc='count')\r\n",
    "\r\n",
    "X= list(pivot_epa.columns)\r\n",
    "Y= pivot_epa.values.tolist()[0]\r\n",
    "data = []\r\n",
    "colonnes = []\r\n",
    "\r\n",
    "for x,y in zip(X,Y):\r\n",
    "    data.append(y)\r\n",
    "    colonnes.append(x)\r\n",
    "\r\n",
    "\r\n",
    "df = pd.DataFrame({\"fy\":colonnes, \"dt\":data})\r\n",
    "\r\n",
    "plt.subplots(figsize=(16,8))\r\n",
    "splot = sns.barplot(x=\"dt\",y=\"fy\",data=df)\r\n",
    "splot.set_xlabel(\"\")\r\n",
    "splot.set_ylabel(\"\")\r\n",
    "plt.suptitle(\"AGYW, entered in march 2021 by the data clerk, presence in currilum\")\r\n",
    "for p in splot.patches:\r\n",
    "    width = p.get_width()\r\n",
    "    plt.text(2+p.get_width(), p.get_y()+0.50*p.get_height(),\r\n",
    "             '{:1.0f}'.format(width))\r\n",
    "\r\n",
    "plt.savefig(\"curriculum_Presence\",dpi=400)"
   ]
  },
  {
   "cell_type": "code",
   "execution_count": null,
   "metadata": {},
   "outputs": [],
   "source": []
  }
 ],
 "metadata": {
  "interpreter": {
   "hash": "4534460e0bdca1b390927d45471088fb3501d39abc4e3f2cee293892e17d7fc6"
  },
  "kernelspec": {
   "display_name": "Python 3.9.2 64-bit",
   "name": "python3"
  },
  "language_info": {
   "codemirror_mode": {
    "name": "ipython",
    "version": 3
   },
   "file_extension": ".py",
   "mimetype": "text/x-python",
   "name": "python",
   "nbconvert_exporter": "python",
   "pygments_lexer": "ipython3",
   "version": "3.9.2"
  }
 },
 "nbformat": 4,
 "nbformat_minor": 5
}