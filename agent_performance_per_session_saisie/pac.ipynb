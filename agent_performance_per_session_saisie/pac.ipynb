{
 "cells": [
  {
   "cell_type": "code",
   "execution_count": 1,
   "source": [
    "import os\r\n",
    "from datetime import datetime\r\n",
    "#from datetime import date\r\n",
    "import pymysql\r\n",
    "from sqlalchemy import create_engine\r\n",
    "from decouple import config \r\n",
    "from dotenv import load_dotenv\r\n",
    "import pandas as pd\r\n",
    "import numpy as np\r\n",
    "from enum import Enum\r\n",
    "\r\n",
    "\r\n",
    "from IPython.core.interactiveshell import InteractiveShell\r\n",
    "InteractiveShell.ast_node_interactivity = \"all\""
   ],
   "outputs": [],
   "metadata": {}
  },
  {
   "cell_type": "code",
   "execution_count": 2,
   "source": [
    "load_dotenv()\r\n",
    "# get the environment variables needed\r\n",
    "USER= config('USRCaris')\r\n",
    "PASSWORD= config('PASSCaris')\r\n",
    "HOSTNAME= config('HOSTCaris')\r\n",
    "DBNAME= config('DBCaris')\r\n",
    "\r\n",
    "# get the engine to connect and fetch\r\n",
    "engine = create_engine(f\"mysql+pymysql://{USER}:{PASSWORD}@{HOSTNAME}/{DBNAME}\")\r\n",
    "query = '''\r\n",
    "SELECT \r\n",
    "    p.patient_code,\r\n",
    "    b.first_name,\r\n",
    "    b.last_name,\r\n",
    "    b.dob,\r\n",
    "    dsd.a1_dat_entvyou_a_ft_jjmmaa_egz_010817 AS interview_date,\r\n",
    "    dgs.date AS session_date,\r\n",
    "    dg.name AS group_name,\r\n",
    "    dh.name AS hub_name,\r\n",
    "    lc.name AS hub_commune,\r\n",
    "    ld.name AS hub_departement,\r\n",
    "    dsd.f_komin AS interview_commune,\r\n",
    "    ldt.name AS topic,\r\n",
    "    au.email as created_by,\r\n",
    "    au.username,\r\n",
    "    dgs.created_at as date_session_were_entered\r\n",
    "FROM\r\n",
    "    caris_db.dream_group_attendance dga\r\n",
    "        LEFT JOIN\r\n",
    "    dream_member dm ON dm.id_patient = dga.id_patient\r\n",
    "        LEFT JOIN\r\n",
    "    dreams_surveys_data dsd ON dsd.case_id = dm.case_id\r\n",
    "        LEFT JOIN\r\n",
    "    dream_group_session dgs ON dgs.id = dga.id_group_session\r\n",
    "        LEFT JOIN\r\n",
    "    dream_group dg ON dg.id = dgs.id_group\r\n",
    "        LEFT JOIN\r\n",
    "    dream_hub dh ON dh.id = dg.id_dream_hub\r\n",
    "        LEFT JOIN\r\n",
    "    lookup_commune lc ON lc.id = dh.commune\r\n",
    "        LEFT JOIN\r\n",
    "    lookup_departement ld ON ld.id = lc.departement\r\n",
    "        LEFT JOIN\r\n",
    "    lookup_dreams_topic ldt ON ldt.id = dgs.topic\r\n",
    "        LEFT JOIN\r\n",
    "    patient p ON p.id = dga.id_patient\r\n",
    "        LEFT JOIN\r\n",
    "    beneficiary b ON b.id_patient = dga.id_patient\r\n",
    "        left join \r\n",
    "            auth_users au  on au.id=dgs.created_by\r\n",
    "WHERE\r\n",
    "    dga.value = 'P'\r\n",
    "'''\r\n",
    "\r\n",
    "evaluation_performance_attendance = pd.read_sql_query(query,engine,parse_dates=True)\r\n",
    "\r\n",
    "\r\n",
    "# close the pool of connection\r\n",
    "engine.dispose()"
   ],
   "outputs": [
    {
     "output_type": "execute_result",
     "data": {
      "text/plain": [
       "True"
      ]
     },
     "metadata": {},
     "execution_count": 2
    }
   ],
   "metadata": {}
  },
  {
   "cell_type": "code",
   "execution_count": 3,
   "source": [
    "## get the test excel file from Query (au besoin de verification)\r\n",
    "evaluation_performance_attendance.to_excel('epa.xlsx',index=False,na_rep=\"NULL\")"
   ],
   "outputs": [],
   "metadata": {}
  },
  {
   "cell_type": "markdown",
   "source": [
    "## Duplication aspect"
   ],
   "metadata": {
    "tags": []
   }
  },
  {
   "cell_type": "code",
   "execution_count": 4,
   "source": [
    "evaluation_performance_attendance.dtypes"
   ],
   "outputs": [
    {
     "output_type": "execute_result",
     "data": {
      "text/plain": [
       "patient_code                         object\n",
       "first_name                           object\n",
       "last_name                            object\n",
       "dob                                  object\n",
       "interview_date                       object\n",
       "session_date                         object\n",
       "group_name                           object\n",
       "hub_name                             object\n",
       "hub_commune                          object\n",
       "hub_departement                      object\n",
       "interview_commune                    object\n",
       "topic                                object\n",
       "created_by                           object\n",
       "username                             object\n",
       "date_session_were_entered    datetime64[ns]\n",
       "dtype: object"
      ]
     },
     "metadata": {},
     "execution_count": 4
    }
   ],
   "metadata": {}
  },
  {
   "cell_type": "code",
   "execution_count": 5,
   "source": [
    "epa_deduplicate = evaluation_performance_attendance.drop_duplicates(subset=['patient_code'])"
   ],
   "outputs": [],
   "metadata": {}
  },
  {
   "cell_type": "code",
   "execution_count": 6,
   "source": [
    "evaluation_performance_attendance.shape\r\n",
    "epa_deduplicate.shape"
   ],
   "outputs": [
    {
     "output_type": "execute_result",
     "data": {
      "text/plain": [
       "(492366, 15)"
      ]
     },
     "metadata": {},
     "execution_count": 6
    },
    {
     "output_type": "execute_result",
     "data": {
      "text/plain": [
       "(27671, 15)"
      ]
     },
     "metadata": {},
     "execution_count": 6
    }
   ],
   "metadata": {}
  },
  {
   "cell_type": "markdown",
   "source": [
    "## Period of control aspect"
   ],
   "metadata": {}
  },
  {
   "cell_type": "code",
   "execution_count": 7,
   "source": [
    "class Constante(Enum):\r\n",
    "    march_1_2021 = '2021-03-01'\r\n",
    "    specific = \"2021-09-09\"\r\n",
    "    workbook = \"rapport_agents_saisie_des_sessions_06Septembre2021.xlsx\""
   ],
   "outputs": [],
   "metadata": {}
  },
  {
   "cell_type": "code",
   "execution_count": 8,
   "source": [
    "presencesaisie_startmars_endnow = evaluation_performance_attendance[evaluation_performance_attendance[\"date_session_were_entered\"]>=Constante.march_1_2021.value]\r\n",
    "presencesaisie_specific = evaluation_performance_attendance[evaluation_performance_attendance[\"date_session_were_entered\"]>=Constante.specific.value] \r\n",
    "epa_startmars_endnow= epa_deduplicate[epa_deduplicate['date_session_were_entered']>=Constante.march_1_2021.value]"
   ],
   "outputs": [],
   "metadata": {}
  },
  {
   "cell_type": "code",
   "execution_count": 9,
   "source": [
    "presencesaisie_startmars_endnow.shape\r\n",
    "presencesaisie_specific.shape\r\n",
    "epa_startmars_endnow.shape"
   ],
   "outputs": [
    {
     "output_type": "execute_result",
     "data": {
      "text/plain": [
       "(170813, 15)"
      ]
     },
     "metadata": {},
     "execution_count": 9
    },
    {
     "output_type": "execute_result",
     "data": {
      "text/plain": [
       "(3205, 15)"
      ]
     },
     "metadata": {},
     "execution_count": 9
    },
    {
     "output_type": "execute_result",
     "data": {
      "text/plain": [
       "(9527, 15)"
      ]
     },
     "metadata": {},
     "execution_count": 9
    }
   ],
   "metadata": {}
  },
  {
   "cell_type": "markdown",
   "source": [
    "## Count by agents in descending order"
   ],
   "metadata": {}
  },
  {
   "cell_type": "code",
   "execution_count": 10,
   "source": [
    "performance_session_global  = epa_startmars_endnow.groupby(['created_by']).count()\r\n",
    "presence_global = presencesaisie_startmars_endnow.groupby(['created_by']).count()\r\n",
    "presence_specific = presencesaisie_specific.groupby(['created_by']).count()"
   ],
   "outputs": [],
   "metadata": {}
  },
  {
   "cell_type": "code",
   "execution_count": 11,
   "source": [
    "performance_session_global.sort_values(ascending=False, by='patient_code',inplace=True)\r\n",
    "presence_global.sort_values(ascending=False, by='patient_code',inplace=True)\r\n",
    "presence_specific.sort_values(ascending=False, by='patient_code',inplace=True)\r\n"
   ],
   "outputs": [],
   "metadata": {}
  },
  {
   "cell_type": "code",
   "execution_count": 12,
   "source": [
    "performance_session  = pd.DataFrame( {\"nombre_de_filles\": performance_session_global['patient_code'], f\"nombre_de_presence_saisie_depuis_le_{Constante.march_1_2021.value}\":presence_global[\"patient_code\"],\r\n",
    "                                      f\"nombre_de_presence_saisie_depuis_le_{Constante.specific.value}\":presence_specific[\"patient_code\"]})\r\n",
    "performance_session.fillna(0,inplace=True)\r\n",
    "performance_session"
   ],
   "outputs": [
    {
     "output_type": "execute_result",
     "data": {
      "text/html": [
       "<div>\n",
       "<style scoped>\n",
       "    .dataframe tbody tr th:only-of-type {\n",
       "        vertical-align: middle;\n",
       "    }\n",
       "\n",
       "    .dataframe tbody tr th {\n",
       "        vertical-align: top;\n",
       "    }\n",
       "\n",
       "    .dataframe thead th {\n",
       "        text-align: right;\n",
       "    }\n",
       "</style>\n",
       "<table border=\"1\" class=\"dataframe\">\n",
       "  <thead>\n",
       "    <tr style=\"text-align: right;\">\n",
       "      <th></th>\n",
       "      <th>nombre_de_filles</th>\n",
       "      <th>nombre_de_presence_saisie_depuis_le_2021-03-01</th>\n",
       "      <th>nombre_de_presence_saisie_depuis_le_2021-09-09</th>\n",
       "    </tr>\n",
       "    <tr>\n",
       "      <th>created_by</th>\n",
       "      <th></th>\n",
       "      <th></th>\n",
       "      <th></th>\n",
       "    </tr>\n",
       "  </thead>\n",
       "  <tbody>\n",
       "    <tr>\n",
       "      <th>billyjolicoeur95@gmail.com</th>\n",
       "      <td>3011</td>\n",
       "      <td>52425</td>\n",
       "      <td>36.0</td>\n",
       "    </tr>\n",
       "    <tr>\n",
       "      <th>blonnichel@yahoo.fr</th>\n",
       "      <td>994</td>\n",
       "      <td>17109</td>\n",
       "      <td>365.0</td>\n",
       "    </tr>\n",
       "    <tr>\n",
       "      <th>byronfabrice9@gmail.com</th>\n",
       "      <td>1621</td>\n",
       "      <td>25640</td>\n",
       "      <td>189.0</td>\n",
       "    </tr>\n",
       "    <tr>\n",
       "      <th>coldina2020@gmail.com</th>\n",
       "      <td>22</td>\n",
       "      <td>1175</td>\n",
       "      <td>97.0</td>\n",
       "    </tr>\n",
       "    <tr>\n",
       "      <th>diegoarmando.dorlean@carisfoundationintl.org</th>\n",
       "      <td>280</td>\n",
       "      <td>8834</td>\n",
       "      <td>2008.0</td>\n",
       "    </tr>\n",
       "    <tr>\n",
       "      <th>elionafredly7@gmail.com</th>\n",
       "      <td>1277</td>\n",
       "      <td>27541</td>\n",
       "      <td>0.0</td>\n",
       "    </tr>\n",
       "    <tr>\n",
       "      <th>ernst.belabre@carisfoundationintl.org</th>\n",
       "      <td>574</td>\n",
       "      <td>8688</td>\n",
       "      <td>352.0</td>\n",
       "    </tr>\n",
       "    <tr>\n",
       "      <th>francenelstjean.saed@yahoo.com</th>\n",
       "      <td>486</td>\n",
       "      <td>8362</td>\n",
       "      <td>0.0</td>\n",
       "    </tr>\n",
       "    <tr>\n",
       "      <th>gerald.poteau@carisfoundationintl.org</th>\n",
       "      <td>310</td>\n",
       "      <td>4430</td>\n",
       "      <td>0.0</td>\n",
       "    </tr>\n",
       "    <tr>\n",
       "      <th>jhonip77@yahoo.fr</th>\n",
       "      <td>177</td>\n",
       "      <td>3674</td>\n",
       "      <td>0.0</td>\n",
       "    </tr>\n",
       "    <tr>\n",
       "      <th>roselord.despeignes@carisfoundationintl.org</th>\n",
       "      <td>177</td>\n",
       "      <td>1968</td>\n",
       "      <td>0.0</td>\n",
       "    </tr>\n",
       "    <tr>\n",
       "      <th>twoody103@gmail.com</th>\n",
       "      <td>598</td>\n",
       "      <td>10967</td>\n",
       "      <td>158.0</td>\n",
       "    </tr>\n",
       "  </tbody>\n",
       "</table>\n",
       "</div>"
      ],
      "text/plain": [
       "                                              nombre_de_filles  \\\n",
       "created_by                                                       \n",
       "billyjolicoeur95@gmail.com                                3011   \n",
       "blonnichel@yahoo.fr                                        994   \n",
       "byronfabrice9@gmail.com                                   1621   \n",
       "coldina2020@gmail.com                                       22   \n",
       "diegoarmando.dorlean@carisfoundationintl.org               280   \n",
       "elionafredly7@gmail.com                                   1277   \n",
       "ernst.belabre@carisfoundationintl.org                      574   \n",
       "francenelstjean.saed@yahoo.com                             486   \n",
       "gerald.poteau@carisfoundationintl.org                      310   \n",
       "jhonip77@yahoo.fr                                          177   \n",
       "roselord.despeignes@carisfoundationintl.org                177   \n",
       "twoody103@gmail.com                                        598   \n",
       "\n",
       "                                              nombre_de_presence_saisie_depuis_le_2021-03-01  \\\n",
       "created_by                                                                                     \n",
       "billyjolicoeur95@gmail.com                                                             52425   \n",
       "blonnichel@yahoo.fr                                                                    17109   \n",
       "byronfabrice9@gmail.com                                                                25640   \n",
       "coldina2020@gmail.com                                                                   1175   \n",
       "diegoarmando.dorlean@carisfoundationintl.org                                            8834   \n",
       "elionafredly7@gmail.com                                                                27541   \n",
       "ernst.belabre@carisfoundationintl.org                                                   8688   \n",
       "francenelstjean.saed@yahoo.com                                                          8362   \n",
       "gerald.poteau@carisfoundationintl.org                                                   4430   \n",
       "jhonip77@yahoo.fr                                                                       3674   \n",
       "roselord.despeignes@carisfoundationintl.org                                             1968   \n",
       "twoody103@gmail.com                                                                    10967   \n",
       "\n",
       "                                              nombre_de_presence_saisie_depuis_le_2021-09-09  \n",
       "created_by                                                                                    \n",
       "billyjolicoeur95@gmail.com                                                              36.0  \n",
       "blonnichel@yahoo.fr                                                                    365.0  \n",
       "byronfabrice9@gmail.com                                                                189.0  \n",
       "coldina2020@gmail.com                                                                   97.0  \n",
       "diegoarmando.dorlean@carisfoundationintl.org                                          2008.0  \n",
       "elionafredly7@gmail.com                                                                  0.0  \n",
       "ernst.belabre@carisfoundationintl.org                                                  352.0  \n",
       "francenelstjean.saed@yahoo.com                                                           0.0  \n",
       "gerald.poteau@carisfoundationintl.org                                                    0.0  \n",
       "jhonip77@yahoo.fr                                                                        0.0  \n",
       "roselord.despeignes@carisfoundationintl.org                                              0.0  \n",
       "twoody103@gmail.com                                                                    158.0  "
      ]
     },
     "metadata": {},
     "execution_count": 12
    }
   ],
   "metadata": {}
  },
  {
   "cell_type": "markdown",
   "source": [
    "## MODIFY BELOW TO GET THE DIFFERENCE GIVEN LAST WEEK"
   ],
   "metadata": {}
  },
  {
   "cell_type": "code",
   "execution_count": 13,
   "source": [
    "week_before_perf = pd.read_excel(Constante.workbook.value, sheet_name=\"filles_saisies_global\", index_col=\"created_by\")\r\n",
    "performance_session[\"nombre_de_filles_saisie_par_rapport_a_la_semaine_derniere\"] =  performance_session[\"nombre_de_filles\"] - week_before_perf[\"nombre_de_filles\"]\r\n",
    "performance_session.fillna(0.0,inplace=True)\r\n",
    "performance_session.nombre_de_filles_saisie_par_rapport_a_la_semaine_derniere = performance_session.nombre_de_filles_saisie_par_rapport_a_la_semaine_derniere.astype(\"int16\")\r\n",
    "performance_session[f\"nombre_de_presence_saisie_depuis_le_{Constante.specific.value}\"] = performance_session[f\"nombre_de_presence_saisie_depuis_le_{Constante.specific.value}\"].astype('int16')"
   ],
   "outputs": [],
   "metadata": {}
  },
  {
   "cell_type": "code",
   "execution_count": 14,
   "source": [
    "columns_performance_session = performance_session.columns.sort_values().tolist()\r\n",
    "performance_session = performance_session.reindex(columns=columns_performance_session)"
   ],
   "outputs": [],
   "metadata": {}
  },
  {
   "cell_type": "code",
   "execution_count": 15,
   "source": [
    "performance_session"
   ],
   "outputs": [
    {
     "output_type": "execute_result",
     "data": {
      "text/html": [
       "<div>\n",
       "<style scoped>\n",
       "    .dataframe tbody tr th:only-of-type {\n",
       "        vertical-align: middle;\n",
       "    }\n",
       "\n",
       "    .dataframe tbody tr th {\n",
       "        vertical-align: top;\n",
       "    }\n",
       "\n",
       "    .dataframe thead th {\n",
       "        text-align: right;\n",
       "    }\n",
       "</style>\n",
       "<table border=\"1\" class=\"dataframe\">\n",
       "  <thead>\n",
       "    <tr style=\"text-align: right;\">\n",
       "      <th></th>\n",
       "      <th>nombre_de_filles</th>\n",
       "      <th>nombre_de_filles_saisie_par_rapport_a_la_semaine_derniere</th>\n",
       "      <th>nombre_de_presence_saisie_depuis_le_2021-03-01</th>\n",
       "      <th>nombre_de_presence_saisie_depuis_le_2021-09-09</th>\n",
       "    </tr>\n",
       "    <tr>\n",
       "      <th>created_by</th>\n",
       "      <th></th>\n",
       "      <th></th>\n",
       "      <th></th>\n",
       "      <th></th>\n",
       "    </tr>\n",
       "  </thead>\n",
       "  <tbody>\n",
       "    <tr>\n",
       "      <th>billyjolicoeur95@gmail.com</th>\n",
       "      <td>3011</td>\n",
       "      <td>61</td>\n",
       "      <td>52425</td>\n",
       "      <td>36</td>\n",
       "    </tr>\n",
       "    <tr>\n",
       "      <th>blonnichel@yahoo.fr</th>\n",
       "      <td>994</td>\n",
       "      <td>49</td>\n",
       "      <td>17109</td>\n",
       "      <td>365</td>\n",
       "    </tr>\n",
       "    <tr>\n",
       "      <th>byronfabrice9@gmail.com</th>\n",
       "      <td>1621</td>\n",
       "      <td>19</td>\n",
       "      <td>25640</td>\n",
       "      <td>189</td>\n",
       "    </tr>\n",
       "    <tr>\n",
       "      <th>coldina2020@gmail.com</th>\n",
       "      <td>22</td>\n",
       "      <td>3</td>\n",
       "      <td>1175</td>\n",
       "      <td>97</td>\n",
       "    </tr>\n",
       "    <tr>\n",
       "      <th>diegoarmando.dorlean@carisfoundationintl.org</th>\n",
       "      <td>280</td>\n",
       "      <td>6</td>\n",
       "      <td>8834</td>\n",
       "      <td>2008</td>\n",
       "    </tr>\n",
       "    <tr>\n",
       "      <th>elionafredly7@gmail.com</th>\n",
       "      <td>1277</td>\n",
       "      <td>47</td>\n",
       "      <td>27541</td>\n",
       "      <td>0</td>\n",
       "    </tr>\n",
       "    <tr>\n",
       "      <th>ernst.belabre@carisfoundationintl.org</th>\n",
       "      <td>574</td>\n",
       "      <td>13</td>\n",
       "      <td>8688</td>\n",
       "      <td>352</td>\n",
       "    </tr>\n",
       "    <tr>\n",
       "      <th>francenelstjean.saed@yahoo.com</th>\n",
       "      <td>486</td>\n",
       "      <td>0</td>\n",
       "      <td>8362</td>\n",
       "      <td>0</td>\n",
       "    </tr>\n",
       "    <tr>\n",
       "      <th>gerald.poteau@carisfoundationintl.org</th>\n",
       "      <td>310</td>\n",
       "      <td>0</td>\n",
       "      <td>4430</td>\n",
       "      <td>0</td>\n",
       "    </tr>\n",
       "    <tr>\n",
       "      <th>jhonip77@yahoo.fr</th>\n",
       "      <td>177</td>\n",
       "      <td>0</td>\n",
       "      <td>3674</td>\n",
       "      <td>0</td>\n",
       "    </tr>\n",
       "    <tr>\n",
       "      <th>roselord.despeignes@carisfoundationintl.org</th>\n",
       "      <td>177</td>\n",
       "      <td>0</td>\n",
       "      <td>1968</td>\n",
       "      <td>0</td>\n",
       "    </tr>\n",
       "    <tr>\n",
       "      <th>twoody103@gmail.com</th>\n",
       "      <td>598</td>\n",
       "      <td>7</td>\n",
       "      <td>10967</td>\n",
       "      <td>158</td>\n",
       "    </tr>\n",
       "  </tbody>\n",
       "</table>\n",
       "</div>"
      ],
      "text/plain": [
       "                                              nombre_de_filles  \\\n",
       "created_by                                                       \n",
       "billyjolicoeur95@gmail.com                                3011   \n",
       "blonnichel@yahoo.fr                                        994   \n",
       "byronfabrice9@gmail.com                                   1621   \n",
       "coldina2020@gmail.com                                       22   \n",
       "diegoarmando.dorlean@carisfoundationintl.org               280   \n",
       "elionafredly7@gmail.com                                   1277   \n",
       "ernst.belabre@carisfoundationintl.org                      574   \n",
       "francenelstjean.saed@yahoo.com                             486   \n",
       "gerald.poteau@carisfoundationintl.org                      310   \n",
       "jhonip77@yahoo.fr                                          177   \n",
       "roselord.despeignes@carisfoundationintl.org                177   \n",
       "twoody103@gmail.com                                        598   \n",
       "\n",
       "                                              nombre_de_filles_saisie_par_rapport_a_la_semaine_derniere  \\\n",
       "created_by                                                                                                \n",
       "billyjolicoeur95@gmail.com                                                                   61           \n",
       "blonnichel@yahoo.fr                                                                          49           \n",
       "byronfabrice9@gmail.com                                                                      19           \n",
       "coldina2020@gmail.com                                                                         3           \n",
       "diegoarmando.dorlean@carisfoundationintl.org                                                  6           \n",
       "elionafredly7@gmail.com                                                                      47           \n",
       "ernst.belabre@carisfoundationintl.org                                                        13           \n",
       "francenelstjean.saed@yahoo.com                                                                0           \n",
       "gerald.poteau@carisfoundationintl.org                                                         0           \n",
       "jhonip77@yahoo.fr                                                                             0           \n",
       "roselord.despeignes@carisfoundationintl.org                                                   0           \n",
       "twoody103@gmail.com                                                                           7           \n",
       "\n",
       "                                              nombre_de_presence_saisie_depuis_le_2021-03-01  \\\n",
       "created_by                                                                                     \n",
       "billyjolicoeur95@gmail.com                                                             52425   \n",
       "blonnichel@yahoo.fr                                                                    17109   \n",
       "byronfabrice9@gmail.com                                                                25640   \n",
       "coldina2020@gmail.com                                                                   1175   \n",
       "diegoarmando.dorlean@carisfoundationintl.org                                            8834   \n",
       "elionafredly7@gmail.com                                                                27541   \n",
       "ernst.belabre@carisfoundationintl.org                                                   8688   \n",
       "francenelstjean.saed@yahoo.com                                                          8362   \n",
       "gerald.poteau@carisfoundationintl.org                                                   4430   \n",
       "jhonip77@yahoo.fr                                                                       3674   \n",
       "roselord.despeignes@carisfoundationintl.org                                             1968   \n",
       "twoody103@gmail.com                                                                    10967   \n",
       "\n",
       "                                              nombre_de_presence_saisie_depuis_le_2021-09-09  \n",
       "created_by                                                                                    \n",
       "billyjolicoeur95@gmail.com                                                                36  \n",
       "blonnichel@yahoo.fr                                                                      365  \n",
       "byronfabrice9@gmail.com                                                                  189  \n",
       "coldina2020@gmail.com                                                                     97  \n",
       "diegoarmando.dorlean@carisfoundationintl.org                                            2008  \n",
       "elionafredly7@gmail.com                                                                    0  \n",
       "ernst.belabre@carisfoundationintl.org                                                    352  \n",
       "francenelstjean.saed@yahoo.com                                                             0  \n",
       "gerald.poteau@carisfoundationintl.org                                                      0  \n",
       "jhonip77@yahoo.fr                                                                          0  \n",
       "roselord.despeignes@carisfoundationintl.org                                                0  \n",
       "twoody103@gmail.com                                                                      158  "
      ]
     },
     "metadata": {},
     "execution_count": 15
    }
   ],
   "metadata": {}
  },
  {
   "cell_type": "markdown",
   "source": [
    "## Agent per Commune"
   ],
   "metadata": {}
  },
  {
   "cell_type": "code",
   "execution_count": 16,
   "source": [
    "performance_agents_par_commune = epa_startmars_endnow.pivot_table(index='created_by',columns='hub_commune',values='patient_code',aggfunc='count',fill_value=0,margins=True, margins_name=\"Grand Total\")\r\n",
    "#performance_agents_par_commune.reset_index(inplace=True)"
   ],
   "outputs": [],
   "metadata": {}
  },
  {
   "cell_type": "code",
   "execution_count": 17,
   "source": [
    "performance_agents_par_commune.sort_values(by=(\"Grand Total\") ,ascending=False,inplace=True)"
   ],
   "outputs": [],
   "metadata": {}
  },
  {
   "cell_type": "code",
   "execution_count": 18,
   "source": [
    "performance_agents_par_commune"
   ],
   "outputs": [
    {
     "output_type": "execute_result",
     "data": {
      "text/html": [
       "<div>\n",
       "<style scoped>\n",
       "    .dataframe tbody tr th:only-of-type {\n",
       "        vertical-align: middle;\n",
       "    }\n",
       "\n",
       "    .dataframe tbody tr th {\n",
       "        vertical-align: top;\n",
       "    }\n",
       "\n",
       "    .dataframe thead th {\n",
       "        text-align: right;\n",
       "    }\n",
       "</style>\n",
       "<table border=\"1\" class=\"dataframe\">\n",
       "  <thead>\n",
       "    <tr style=\"text-align: right;\">\n",
       "      <th>hub_commune</th>\n",
       "      <th>Cap-Haïtien</th>\n",
       "      <th>Carrefour</th>\n",
       "      <th>Delmas</th>\n",
       "      <th>Desdunes</th>\n",
       "      <th>Dessalines</th>\n",
       "      <th>Grande Saline</th>\n",
       "      <th>Gressier</th>\n",
       "      <th>Kenscoff</th>\n",
       "      <th>La Chapelle</th>\n",
       "      <th>Liancourt</th>\n",
       "      <th>...</th>\n",
       "      <th>Montrouis</th>\n",
       "      <th>Petite Rivière de l'Artibonite</th>\n",
       "      <th>Plaine-du-Nord</th>\n",
       "      <th>Port-au-Prince</th>\n",
       "      <th>Pétionville</th>\n",
       "      <th>Quartier-Morin</th>\n",
       "      <th>Saint-Marc</th>\n",
       "      <th>Tabarre</th>\n",
       "      <th>Verrettes</th>\n",
       "      <th>Grand Total</th>\n",
       "    </tr>\n",
       "    <tr>\n",
       "      <th>created_by</th>\n",
       "      <th></th>\n",
       "      <th></th>\n",
       "      <th></th>\n",
       "      <th></th>\n",
       "      <th></th>\n",
       "      <th></th>\n",
       "      <th></th>\n",
       "      <th></th>\n",
       "      <th></th>\n",
       "      <th></th>\n",
       "      <th></th>\n",
       "      <th></th>\n",
       "      <th></th>\n",
       "      <th></th>\n",
       "      <th></th>\n",
       "      <th></th>\n",
       "      <th></th>\n",
       "      <th></th>\n",
       "      <th></th>\n",
       "      <th></th>\n",
       "      <th></th>\n",
       "    </tr>\n",
       "  </thead>\n",
       "  <tbody>\n",
       "    <tr>\n",
       "      <th>Grand Total</th>\n",
       "      <td>663</td>\n",
       "      <td>770</td>\n",
       "      <td>350</td>\n",
       "      <td>168</td>\n",
       "      <td>538</td>\n",
       "      <td>270</td>\n",
       "      <td>572</td>\n",
       "      <td>1304</td>\n",
       "      <td>448</td>\n",
       "      <td>130</td>\n",
       "      <td>...</td>\n",
       "      <td>163</td>\n",
       "      <td>431</td>\n",
       "      <td>288</td>\n",
       "      <td>575</td>\n",
       "      <td>308</td>\n",
       "      <td>194</td>\n",
       "      <td>724</td>\n",
       "      <td>213</td>\n",
       "      <td>646</td>\n",
       "      <td>9527</td>\n",
       "    </tr>\n",
       "    <tr>\n",
       "      <th>billyjolicoeur95@gmail.com</th>\n",
       "      <td>480</td>\n",
       "      <td>173</td>\n",
       "      <td>220</td>\n",
       "      <td>18</td>\n",
       "      <td>0</td>\n",
       "      <td>0</td>\n",
       "      <td>73</td>\n",
       "      <td>722</td>\n",
       "      <td>20</td>\n",
       "      <td>23</td>\n",
       "      <td>...</td>\n",
       "      <td>0</td>\n",
       "      <td>140</td>\n",
       "      <td>199</td>\n",
       "      <td>47</td>\n",
       "      <td>108</td>\n",
       "      <td>120</td>\n",
       "      <td>35</td>\n",
       "      <td>125</td>\n",
       "      <td>10</td>\n",
       "      <td>3011</td>\n",
       "    </tr>\n",
       "    <tr>\n",
       "      <th>byronfabrice9@gmail.com</th>\n",
       "      <td>70</td>\n",
       "      <td>260</td>\n",
       "      <td>28</td>\n",
       "      <td>0</td>\n",
       "      <td>58</td>\n",
       "      <td>0</td>\n",
       "      <td>182</td>\n",
       "      <td>329</td>\n",
       "      <td>37</td>\n",
       "      <td>0</td>\n",
       "      <td>...</td>\n",
       "      <td>0</td>\n",
       "      <td>114</td>\n",
       "      <td>70</td>\n",
       "      <td>173</td>\n",
       "      <td>124</td>\n",
       "      <td>25</td>\n",
       "      <td>41</td>\n",
       "      <td>40</td>\n",
       "      <td>0</td>\n",
       "      <td>1621</td>\n",
       "    </tr>\n",
       "    <tr>\n",
       "      <th>elionafredly7@gmail.com</th>\n",
       "      <td>31</td>\n",
       "      <td>242</td>\n",
       "      <td>39</td>\n",
       "      <td>0</td>\n",
       "      <td>0</td>\n",
       "      <td>35</td>\n",
       "      <td>273</td>\n",
       "      <td>68</td>\n",
       "      <td>0</td>\n",
       "      <td>0</td>\n",
       "      <td>...</td>\n",
       "      <td>0</td>\n",
       "      <td>21</td>\n",
       "      <td>0</td>\n",
       "      <td>296</td>\n",
       "      <td>22</td>\n",
       "      <td>14</td>\n",
       "      <td>28</td>\n",
       "      <td>28</td>\n",
       "      <td>62</td>\n",
       "      <td>1277</td>\n",
       "    </tr>\n",
       "    <tr>\n",
       "      <th>blonnichel@yahoo.fr</th>\n",
       "      <td>0</td>\n",
       "      <td>0</td>\n",
       "      <td>0</td>\n",
       "      <td>0</td>\n",
       "      <td>0</td>\n",
       "      <td>0</td>\n",
       "      <td>0</td>\n",
       "      <td>0</td>\n",
       "      <td>80</td>\n",
       "      <td>83</td>\n",
       "      <td>...</td>\n",
       "      <td>82</td>\n",
       "      <td>0</td>\n",
       "      <td>0</td>\n",
       "      <td>0</td>\n",
       "      <td>0</td>\n",
       "      <td>0</td>\n",
       "      <td>523</td>\n",
       "      <td>0</td>\n",
       "      <td>226</td>\n",
       "      <td>994</td>\n",
       "    </tr>\n",
       "    <tr>\n",
       "      <th>twoody103@gmail.com</th>\n",
       "      <td>21</td>\n",
       "      <td>95</td>\n",
       "      <td>46</td>\n",
       "      <td>0</td>\n",
       "      <td>0</td>\n",
       "      <td>64</td>\n",
       "      <td>44</td>\n",
       "      <td>131</td>\n",
       "      <td>0</td>\n",
       "      <td>0</td>\n",
       "      <td>...</td>\n",
       "      <td>0</td>\n",
       "      <td>35</td>\n",
       "      <td>5</td>\n",
       "      <td>59</td>\n",
       "      <td>54</td>\n",
       "      <td>0</td>\n",
       "      <td>0</td>\n",
       "      <td>20</td>\n",
       "      <td>0</td>\n",
       "      <td>598</td>\n",
       "    </tr>\n",
       "    <tr>\n",
       "      <th>ernst.belabre@carisfoundationintl.org</th>\n",
       "      <td>38</td>\n",
       "      <td>0</td>\n",
       "      <td>0</td>\n",
       "      <td>56</td>\n",
       "      <td>0</td>\n",
       "      <td>53</td>\n",
       "      <td>0</td>\n",
       "      <td>0</td>\n",
       "      <td>127</td>\n",
       "      <td>21</td>\n",
       "      <td>...</td>\n",
       "      <td>2</td>\n",
       "      <td>15</td>\n",
       "      <td>2</td>\n",
       "      <td>0</td>\n",
       "      <td>0</td>\n",
       "      <td>35</td>\n",
       "      <td>19</td>\n",
       "      <td>0</td>\n",
       "      <td>173</td>\n",
       "      <td>574</td>\n",
       "    </tr>\n",
       "    <tr>\n",
       "      <th>francenelstjean.saed@yahoo.com</th>\n",
       "      <td>0</td>\n",
       "      <td>0</td>\n",
       "      <td>0</td>\n",
       "      <td>2</td>\n",
       "      <td>480</td>\n",
       "      <td>4</td>\n",
       "      <td>0</td>\n",
       "      <td>0</td>\n",
       "      <td>0</td>\n",
       "      <td>0</td>\n",
       "      <td>...</td>\n",
       "      <td>0</td>\n",
       "      <td>0</td>\n",
       "      <td>0</td>\n",
       "      <td>0</td>\n",
       "      <td>0</td>\n",
       "      <td>0</td>\n",
       "      <td>0</td>\n",
       "      <td>0</td>\n",
       "      <td>0</td>\n",
       "      <td>486</td>\n",
       "    </tr>\n",
       "    <tr>\n",
       "      <th>gerald.poteau@carisfoundationintl.org</th>\n",
       "      <td>0</td>\n",
       "      <td>0</td>\n",
       "      <td>0</td>\n",
       "      <td>37</td>\n",
       "      <td>0</td>\n",
       "      <td>55</td>\n",
       "      <td>0</td>\n",
       "      <td>0</td>\n",
       "      <td>60</td>\n",
       "      <td>0</td>\n",
       "      <td>...</td>\n",
       "      <td>21</td>\n",
       "      <td>27</td>\n",
       "      <td>3</td>\n",
       "      <td>0</td>\n",
       "      <td>0</td>\n",
       "      <td>0</td>\n",
       "      <td>42</td>\n",
       "      <td>0</td>\n",
       "      <td>65</td>\n",
       "      <td>310</td>\n",
       "    </tr>\n",
       "    <tr>\n",
       "      <th>diegoarmando.dorlean@carisfoundationintl.org</th>\n",
       "      <td>0</td>\n",
       "      <td>0</td>\n",
       "      <td>0</td>\n",
       "      <td>3</td>\n",
       "      <td>0</td>\n",
       "      <td>59</td>\n",
       "      <td>0</td>\n",
       "      <td>0</td>\n",
       "      <td>97</td>\n",
       "      <td>3</td>\n",
       "      <td>...</td>\n",
       "      <td>10</td>\n",
       "      <td>41</td>\n",
       "      <td>0</td>\n",
       "      <td>0</td>\n",
       "      <td>0</td>\n",
       "      <td>0</td>\n",
       "      <td>0</td>\n",
       "      <td>0</td>\n",
       "      <td>67</td>\n",
       "      <td>280</td>\n",
       "    </tr>\n",
       "    <tr>\n",
       "      <th>jhonip77@yahoo.fr</th>\n",
       "      <td>21</td>\n",
       "      <td>0</td>\n",
       "      <td>17</td>\n",
       "      <td>51</td>\n",
       "      <td>0</td>\n",
       "      <td>0</td>\n",
       "      <td>0</td>\n",
       "      <td>54</td>\n",
       "      <td>0</td>\n",
       "      <td>0</td>\n",
       "      <td>...</td>\n",
       "      <td>16</td>\n",
       "      <td>0</td>\n",
       "      <td>2</td>\n",
       "      <td>0</td>\n",
       "      <td>0</td>\n",
       "      <td>0</td>\n",
       "      <td>0</td>\n",
       "      <td>0</td>\n",
       "      <td>0</td>\n",
       "      <td>177</td>\n",
       "    </tr>\n",
       "    <tr>\n",
       "      <th>roselord.despeignes@carisfoundationintl.org</th>\n",
       "      <td>0</td>\n",
       "      <td>0</td>\n",
       "      <td>0</td>\n",
       "      <td>1</td>\n",
       "      <td>0</td>\n",
       "      <td>0</td>\n",
       "      <td>0</td>\n",
       "      <td>0</td>\n",
       "      <td>27</td>\n",
       "      <td>0</td>\n",
       "      <td>...</td>\n",
       "      <td>32</td>\n",
       "      <td>38</td>\n",
       "      <td>0</td>\n",
       "      <td>0</td>\n",
       "      <td>0</td>\n",
       "      <td>0</td>\n",
       "      <td>36</td>\n",
       "      <td>0</td>\n",
       "      <td>43</td>\n",
       "      <td>177</td>\n",
       "    </tr>\n",
       "    <tr>\n",
       "      <th>coldina2020@gmail.com</th>\n",
       "      <td>2</td>\n",
       "      <td>0</td>\n",
       "      <td>0</td>\n",
       "      <td>0</td>\n",
       "      <td>0</td>\n",
       "      <td>0</td>\n",
       "      <td>0</td>\n",
       "      <td>0</td>\n",
       "      <td>0</td>\n",
       "      <td>0</td>\n",
       "      <td>...</td>\n",
       "      <td>0</td>\n",
       "      <td>0</td>\n",
       "      <td>7</td>\n",
       "      <td>0</td>\n",
       "      <td>0</td>\n",
       "      <td>0</td>\n",
       "      <td>0</td>\n",
       "      <td>0</td>\n",
       "      <td>0</td>\n",
       "      <td>22</td>\n",
       "    </tr>\n",
       "  </tbody>\n",
       "</table>\n",
       "<p>13 rows × 22 columns</p>\n",
       "</div>"
      ],
      "text/plain": [
       "hub_commune                                   Cap-Haïtien  Carrefour  Delmas  \\\n",
       "created_by                                                                     \n",
       "Grand Total                                           663        770     350   \n",
       "billyjolicoeur95@gmail.com                            480        173     220   \n",
       "byronfabrice9@gmail.com                                70        260      28   \n",
       "elionafredly7@gmail.com                                31        242      39   \n",
       "blonnichel@yahoo.fr                                     0          0       0   \n",
       "twoody103@gmail.com                                    21         95      46   \n",
       "ernst.belabre@carisfoundationintl.org                  38          0       0   \n",
       "francenelstjean.saed@yahoo.com                          0          0       0   \n",
       "gerald.poteau@carisfoundationintl.org                   0          0       0   \n",
       "diegoarmando.dorlean@carisfoundationintl.org            0          0       0   \n",
       "jhonip77@yahoo.fr                                      21          0      17   \n",
       "roselord.despeignes@carisfoundationintl.org             0          0       0   \n",
       "coldina2020@gmail.com                                   2          0       0   \n",
       "\n",
       "hub_commune                                   Desdunes  Dessalines  \\\n",
       "created_by                                                           \n",
       "Grand Total                                        168         538   \n",
       "billyjolicoeur95@gmail.com                          18           0   \n",
       "byronfabrice9@gmail.com                              0          58   \n",
       "elionafredly7@gmail.com                              0           0   \n",
       "blonnichel@yahoo.fr                                  0           0   \n",
       "twoody103@gmail.com                                  0           0   \n",
       "ernst.belabre@carisfoundationintl.org               56           0   \n",
       "francenelstjean.saed@yahoo.com                       2         480   \n",
       "gerald.poteau@carisfoundationintl.org               37           0   \n",
       "diegoarmando.dorlean@carisfoundationintl.org         3           0   \n",
       "jhonip77@yahoo.fr                                   51           0   \n",
       "roselord.despeignes@carisfoundationintl.org          1           0   \n",
       "coldina2020@gmail.com                                0           0   \n",
       "\n",
       "hub_commune                                   Grande Saline  Gressier  \\\n",
       "created_by                                                              \n",
       "Grand Total                                             270       572   \n",
       "billyjolicoeur95@gmail.com                                0        73   \n",
       "byronfabrice9@gmail.com                                   0       182   \n",
       "elionafredly7@gmail.com                                  35       273   \n",
       "blonnichel@yahoo.fr                                       0         0   \n",
       "twoody103@gmail.com                                      64        44   \n",
       "ernst.belabre@carisfoundationintl.org                    53         0   \n",
       "francenelstjean.saed@yahoo.com                            4         0   \n",
       "gerald.poteau@carisfoundationintl.org                    55         0   \n",
       "diegoarmando.dorlean@carisfoundationintl.org             59         0   \n",
       "jhonip77@yahoo.fr                                         0         0   \n",
       "roselord.despeignes@carisfoundationintl.org               0         0   \n",
       "coldina2020@gmail.com                                     0         0   \n",
       "\n",
       "hub_commune                                   Kenscoff  La Chapelle  \\\n",
       "created_by                                                            \n",
       "Grand Total                                       1304          448   \n",
       "billyjolicoeur95@gmail.com                         722           20   \n",
       "byronfabrice9@gmail.com                            329           37   \n",
       "elionafredly7@gmail.com                             68            0   \n",
       "blonnichel@yahoo.fr                                  0           80   \n",
       "twoody103@gmail.com                                131            0   \n",
       "ernst.belabre@carisfoundationintl.org                0          127   \n",
       "francenelstjean.saed@yahoo.com                       0            0   \n",
       "gerald.poteau@carisfoundationintl.org                0           60   \n",
       "diegoarmando.dorlean@carisfoundationintl.org         0           97   \n",
       "jhonip77@yahoo.fr                                   54            0   \n",
       "roselord.despeignes@carisfoundationintl.org          0           27   \n",
       "coldina2020@gmail.com                                0            0   \n",
       "\n",
       "hub_commune                                   Liancourt  ...  Montrouis  \\\n",
       "created_by                                               ...              \n",
       "Grand Total                                         130  ...        163   \n",
       "billyjolicoeur95@gmail.com                           23  ...          0   \n",
       "byronfabrice9@gmail.com                               0  ...          0   \n",
       "elionafredly7@gmail.com                               0  ...          0   \n",
       "blonnichel@yahoo.fr                                  83  ...         82   \n",
       "twoody103@gmail.com                                   0  ...          0   \n",
       "ernst.belabre@carisfoundationintl.org                21  ...          2   \n",
       "francenelstjean.saed@yahoo.com                        0  ...          0   \n",
       "gerald.poteau@carisfoundationintl.org                 0  ...         21   \n",
       "diegoarmando.dorlean@carisfoundationintl.org          3  ...         10   \n",
       "jhonip77@yahoo.fr                                     0  ...         16   \n",
       "roselord.despeignes@carisfoundationintl.org           0  ...         32   \n",
       "coldina2020@gmail.com                                 0  ...          0   \n",
       "\n",
       "hub_commune                                   Petite Rivière de l'Artibonite  \\\n",
       "created_by                                                                     \n",
       "Grand Total                                                              431   \n",
       "billyjolicoeur95@gmail.com                                               140   \n",
       "byronfabrice9@gmail.com                                                  114   \n",
       "elionafredly7@gmail.com                                                   21   \n",
       "blonnichel@yahoo.fr                                                        0   \n",
       "twoody103@gmail.com                                                       35   \n",
       "ernst.belabre@carisfoundationintl.org                                     15   \n",
       "francenelstjean.saed@yahoo.com                                             0   \n",
       "gerald.poteau@carisfoundationintl.org                                     27   \n",
       "diegoarmando.dorlean@carisfoundationintl.org                              41   \n",
       "jhonip77@yahoo.fr                                                          0   \n",
       "roselord.despeignes@carisfoundationintl.org                               38   \n",
       "coldina2020@gmail.com                                                      0   \n",
       "\n",
       "hub_commune                                   Plaine-du-Nord  Port-au-Prince  \\\n",
       "created_by                                                                     \n",
       "Grand Total                                              288             575   \n",
       "billyjolicoeur95@gmail.com                               199              47   \n",
       "byronfabrice9@gmail.com                                   70             173   \n",
       "elionafredly7@gmail.com                                    0             296   \n",
       "blonnichel@yahoo.fr                                        0               0   \n",
       "twoody103@gmail.com                                        5              59   \n",
       "ernst.belabre@carisfoundationintl.org                      2               0   \n",
       "francenelstjean.saed@yahoo.com                             0               0   \n",
       "gerald.poteau@carisfoundationintl.org                      3               0   \n",
       "diegoarmando.dorlean@carisfoundationintl.org               0               0   \n",
       "jhonip77@yahoo.fr                                          2               0   \n",
       "roselord.despeignes@carisfoundationintl.org                0               0   \n",
       "coldina2020@gmail.com                                      7               0   \n",
       "\n",
       "hub_commune                                   Pétionville  Quartier-Morin  \\\n",
       "created_by                                                                  \n",
       "Grand Total                                           308             194   \n",
       "billyjolicoeur95@gmail.com                            108             120   \n",
       "byronfabrice9@gmail.com                               124              25   \n",
       "elionafredly7@gmail.com                                22              14   \n",
       "blonnichel@yahoo.fr                                     0               0   \n",
       "twoody103@gmail.com                                    54               0   \n",
       "ernst.belabre@carisfoundationintl.org                   0              35   \n",
       "francenelstjean.saed@yahoo.com                          0               0   \n",
       "gerald.poteau@carisfoundationintl.org                   0               0   \n",
       "diegoarmando.dorlean@carisfoundationintl.org            0               0   \n",
       "jhonip77@yahoo.fr                                       0               0   \n",
       "roselord.despeignes@carisfoundationintl.org             0               0   \n",
       "coldina2020@gmail.com                                   0               0   \n",
       "\n",
       "hub_commune                                   Saint-Marc  Tabarre  Verrettes  \\\n",
       "created_by                                                                     \n",
       "Grand Total                                          724      213        646   \n",
       "billyjolicoeur95@gmail.com                            35      125         10   \n",
       "byronfabrice9@gmail.com                               41       40          0   \n",
       "elionafredly7@gmail.com                               28       28         62   \n",
       "blonnichel@yahoo.fr                                  523        0        226   \n",
       "twoody103@gmail.com                                    0       20          0   \n",
       "ernst.belabre@carisfoundationintl.org                 19        0        173   \n",
       "francenelstjean.saed@yahoo.com                         0        0          0   \n",
       "gerald.poteau@carisfoundationintl.org                 42        0         65   \n",
       "diegoarmando.dorlean@carisfoundationintl.org           0        0         67   \n",
       "jhonip77@yahoo.fr                                      0        0          0   \n",
       "roselord.despeignes@carisfoundationintl.org           36        0         43   \n",
       "coldina2020@gmail.com                                  0        0          0   \n",
       "\n",
       "hub_commune                                   Grand Total  \n",
       "created_by                                                 \n",
       "Grand Total                                          9527  \n",
       "billyjolicoeur95@gmail.com                           3011  \n",
       "byronfabrice9@gmail.com                              1621  \n",
       "elionafredly7@gmail.com                              1277  \n",
       "blonnichel@yahoo.fr                                   994  \n",
       "twoody103@gmail.com                                   598  \n",
       "ernst.belabre@carisfoundationintl.org                 574  \n",
       "francenelstjean.saed@yahoo.com                        486  \n",
       "gerald.poteau@carisfoundationintl.org                 310  \n",
       "diegoarmando.dorlean@carisfoundationintl.org          280  \n",
       "jhonip77@yahoo.fr                                     177  \n",
       "roselord.despeignes@carisfoundationintl.org           177  \n",
       "coldina2020@gmail.com                                  22  \n",
       "\n",
       "[13 rows x 22 columns]"
      ]
     },
     "metadata": {},
     "execution_count": 18
    }
   ],
   "metadata": {}
  },
  {
   "cell_type": "markdown",
   "source": [
    "## Reporting Performance de mars 2021 a date"
   ],
   "metadata": {}
  },
  {
   "cell_type": "code",
   "execution_count": 19,
   "source": [
    "pac = pd.ExcelWriter('rapport_agents_saisie_des_sessions.xlsx',engine='xlsxwriter')\r\n",
    "performance_session.to_excel(pac,sheet_name='filles_saisies_global')\r\n",
    "performance_agents_par_commune.to_excel(pac,sheet_name=\"filles_saisies_par_communes\")\r\n",
    "pac.save()"
   ],
   "outputs": [],
   "metadata": {}
  },
  {
   "cell_type": "markdown",
   "source": [
    "## Verification sheet"
   ],
   "metadata": {}
  },
  {
   "cell_type": "code",
   "execution_count": 20,
   "source": [
    "def fiscalYear21(date):\r\n",
    "    if date.year == 2021 and date.month>=1 and date.month<=3:\r\n",
    "        return \"FY21Q2\"\r\n",
    "    elif date.year == 2020 and date.month>=10 and date.month<=12:\r\n",
    "        return \"FY21Q1\"\r\n",
    "    elif date.year == 2021 and date.month>=4 and date.month<=6:\r\n",
    "        return \"FY21Q3\"\r\n",
    "    elif date.year == 2021 and date.month>=7 and date.month<=9:\r\n",
    "        return \"FY21Q4\"\r\n",
    "    else:\r\n",
    "        return \"Q3fy20-Q4fy20\"\r\n",
    "    \r\n",
    "def validTimeOnSystem(date):\r\n",
    "    if date>= datetime.strptime(\"2020-04-01\",\"%Y-%m-%d\") and date<= datetime.now():\r\n",
    "        return \"required_Time_on\"\r\n",
    "    else:\r\n",
    "        return \"not_valid_time_on\""
   ],
   "outputs": [],
   "metadata": {}
  },
  {
   "cell_type": "code",
   "execution_count": 21,
   "source": [
    "epa_startmars_endnow.interview_date.isna().sum()"
   ],
   "outputs": [
    {
     "output_type": "execute_result",
     "data": {
      "text/plain": [
       "0"
      ]
     },
     "metadata": {},
     "execution_count": 21
    }
   ],
   "metadata": {}
  },
  {
   "cell_type": "code",
   "execution_count": 22,
   "source": [
    "%%capture\r\n",
    "epa_startmars_endnow[\"date_entevyou\"] = pd.to_datetime( epa_startmars_endnow.interview_date)"
   ],
   "outputs": [],
   "metadata": {}
  },
  {
   "cell_type": "code",
   "execution_count": 23,
   "source": [
    "epa_startmars_endnow.date_entevyou"
   ],
   "outputs": [
    {
     "output_type": "execute_result",
     "data": {
      "text/plain": [
       "321553   2020-11-20\n",
       "321571   2020-11-20\n",
       "321584   2020-10-07\n",
       "321585   2020-10-05\n",
       "321586   2020-10-07\n",
       "            ...    \n",
       "492286   2021-07-22\n",
       "492287   2021-08-27\n",
       "492288   2021-08-28\n",
       "492289   2021-06-18\n",
       "492290   2021-08-19\n",
       "Name: date_entevyou, Length: 9527, dtype: datetime64[ns]"
      ]
     },
     "metadata": {},
     "execution_count": 23
    }
   ],
   "metadata": {}
  },
  {
   "cell_type": "code",
   "execution_count": 24,
   "source": [
    "%%capture\r\n",
    "epa_startmars_endnow[\"fiscal_year\"] = epa_startmars_endnow.date_entevyou.map(fiscalYear21)\r\n",
    "epa_startmars_endnow[\"time_On_System\"] = epa_startmars_endnow.date_entevyou.map(validTimeOnSystem)"
   ],
   "outputs": [],
   "metadata": {}
  },
  {
   "cell_type": "code",
   "execution_count": 25,
   "source": [
    "epa_startmars_endnow.columns"
   ],
   "outputs": [
    {
     "output_type": "execute_result",
     "data": {
      "text/plain": [
       "Index(['patient_code', 'first_name', 'last_name', 'dob', 'interview_date',\n",
       "       'session_date', 'group_name', 'hub_name', 'hub_commune',\n",
       "       'hub_departement', 'interview_commune', 'topic', 'created_by',\n",
       "       'username', 'date_session_were_entered', 'date_entevyou', 'fiscal_year',\n",
       "       'time_On_System'],\n",
       "      dtype='object')"
      ]
     },
     "metadata": {},
     "execution_count": 25
    }
   ],
   "metadata": {}
  },
  {
   "cell_type": "code",
   "execution_count": 26,
   "source": [
    "epa_startmars_endnow.dob"
   ],
   "outputs": [
    {
     "output_type": "execute_result",
     "data": {
      "text/plain": [
       "321553    2009-03-28\n",
       "321571    2007-08-16\n",
       "321584    2003-02-01\n",
       "321585    2004-12-24\n",
       "321586    2004-10-13\n",
       "             ...    \n",
       "492286    2004-08-01\n",
       "492287    2011-05-07\n",
       "492288    2005-05-17\n",
       "492289    2006-07-14\n",
       "492290    2007-03-07\n",
       "Name: dob, Length: 9527, dtype: object"
      ]
     },
     "metadata": {},
     "execution_count": 26
    }
   ],
   "metadata": {}
  },
  {
   "cell_type": "code",
   "execution_count": 27,
   "source": [
    "from dateutil.relativedelta import relativedelta"
   ],
   "outputs": [],
   "metadata": {}
  },
  {
   "cell_type": "code",
   "execution_count": 28,
   "source": [
    "def get_age(date):\r\n",
    "    return relativedelta(datetime.today(),date).years\r\n",
    "\r\n",
    "def tranche_age_classique(age):\r\n",
    "        if age>=10 and age<=14:\r\n",
    "            return \"10-14\"\r\n",
    "        elif age>=15 and age<=19:\r\n",
    "            return \"15-19\"\r\n",
    "        elif age>=20 and age<=24:\r\n",
    "            return \"20-24\"\r\n",
    "        elif age>=25 and age<=29:\r\n",
    "            return \"25-29\"\r\n",
    "        else:\r\n",
    "            return \"not_valid_age\"\r\n",
    "        \r\n",
    "def tranche_age_mineur_majeur(age):\r\n",
    "        if age>=10 and age<=17:\r\n",
    "            return \"10-17\"\r\n",
    "        elif age>=18 and age<=19:\r\n",
    "            return \"18-19\"\r\n",
    "        elif age>=20 and age<=24:\r\n",
    "            return \"20-24\"\r\n",
    "        elif age>=25 and age<=29:\r\n",
    "            return \"25-29\"\r\n",
    "        else:\r\n",
    "            return \"not_valid_age\""
   ],
   "outputs": [],
   "metadata": {}
  },
  {
   "cell_type": "code",
   "execution_count": 29,
   "source": [
    "%%capture\r\n",
    "epa_startmars_endnow[\"age\"] = epa_startmars_endnow.dob.map(get_age)\r\n",
    "epa_startmars_endnow[\"age_range\"] = epa_startmars_endnow.age.map(tranche_age_classique)\r\n",
    "epa_startmars_endnow[\"newage_range\"] = epa_startmars_endnow.age.map(tranche_age_mineur_majeur)"
   ],
   "outputs": [],
   "metadata": {}
  },
  {
   "cell_type": "code",
   "execution_count": 30,
   "source": [
    "epa_startmars_endnow.age.unique()\r\n",
    "epa_startmars_endnow.age_range.unique()\r\n",
    "epa_startmars_endnow.newage_range.unique()"
   ],
   "outputs": [
    {
     "output_type": "execute_result",
     "data": {
      "text/plain": [
       "array([ 12,  14,  18,  16,  15,  17,  19,  13,  11,  10,  20,  24,  22,\n",
       "        23,  21,  25,   2,   9,   3,   7,  26, 121,   6,   4,   1],\n",
       "      dtype=int64)"
      ]
     },
     "metadata": {},
     "execution_count": 30
    },
    {
     "output_type": "execute_result",
     "data": {
      "text/plain": [
       "array(['10-14', '15-19', '20-24', '25-29', 'not_valid_age'], dtype=object)"
      ]
     },
     "metadata": {},
     "execution_count": 30
    },
    {
     "output_type": "execute_result",
     "data": {
      "text/plain": [
       "array(['10-17', '18-19', '20-24', '25-29', 'not_valid_age'], dtype=object)"
      ]
     },
     "metadata": {},
     "execution_count": 30
    }
   ],
   "metadata": {}
  },
  {
   "cell_type": "code",
   "execution_count": 31,
   "source": [
    "epa_startmars_endnow.columns"
   ],
   "outputs": [
    {
     "output_type": "execute_result",
     "data": {
      "text/plain": [
       "Index(['patient_code', 'first_name', 'last_name', 'dob', 'interview_date',\n",
       "       'session_date', 'group_name', 'hub_name', 'hub_commune',\n",
       "       'hub_departement', 'interview_commune', 'topic', 'created_by',\n",
       "       'username', 'date_session_were_entered', 'date_entevyou', 'fiscal_year',\n",
       "       'time_On_System', 'age', 'age_range', 'newage_range'],\n",
       "      dtype='object')"
      ]
     },
     "metadata": {},
     "execution_count": 31
    }
   ],
   "metadata": {}
  },
  {
   "cell_type": "code",
   "execution_count": 32,
   "source": [
    "epa_fy21 = epa_startmars_endnow[(epa_startmars_endnow.age_range !=\"not_valid_age\") & (epa_startmars_endnow.age_range != \"25-29\") & (epa_startmars_endnow.fiscal_year != \"Q3fy20-Q4fy20\")]\r\n",
    "all_epa = epa_startmars_endnow[(epa_startmars_endnow.age_range !=\"not_valid_age\") & (epa_startmars_endnow.age_range != \"25-29\")]\r\n",
    "\r\n",
    "valid_epa_fy21 = epa_startmars_endnow[(epa_startmars_endnow.time_On_System == \"required_Time_on\")&(epa_startmars_endnow.age_range !=\"not_valid_age\") & (epa_startmars_endnow.age_range != \"25-29\") & (epa_startmars_endnow.fiscal_year != \"Q3fy20-Q4fy20\")]\r\n",
    "valid_all_epa = epa_startmars_endnow[(epa_startmars_endnow.time_On_System == \"required_Time_on\")&(epa_startmars_endnow.age_range !=\"not_valid_age\") & (epa_startmars_endnow.age_range != \"25-29\")]"
   ],
   "outputs": [],
   "metadata": {}
  },
  {
   "cell_type": "code",
   "execution_count": 33,
   "source": [
    "print(\"epa_startmars\")\r\n",
    "epa_startmars_endnow.patient_code.count()\r\n",
    "print(\"epa_fy21\")\r\n",
    "epa_fy21.patient_code.count()\r\n",
    "print(\"all_epa\")\r\n",
    "all_epa.patient_code.count()\r\n",
    "print(\"valid epa_fy21\")\r\n",
    "valid_epa_fy21.patient_code.count()\r\n",
    "print(\"valid_all_epa\")\r\n",
    "valid_all_epa.patient_code.count()\r\n",
    "print(\"not valid\")\r\n",
    "epa_startmars_endnow.patient_code.count() - valid_all_epa.patient_code.count()\r\n",
    "\r\n"
   ],
   "outputs": [
    {
     "output_type": "stream",
     "name": "stdout",
     "text": [
      "epa_startmars\n"
     ]
    },
    {
     "output_type": "execute_result",
     "data": {
      "text/plain": [
       "9527"
      ]
     },
     "metadata": {},
     "execution_count": 33
    },
    {
     "output_type": "stream",
     "name": "stdout",
     "text": [
      "epa_fy21\n"
     ]
    },
    {
     "output_type": "execute_result",
     "data": {
      "text/plain": [
       "6000"
      ]
     },
     "metadata": {},
     "execution_count": 33
    },
    {
     "output_type": "stream",
     "name": "stdout",
     "text": [
      "all_epa\n"
     ]
    },
    {
     "output_type": "execute_result",
     "data": {
      "text/plain": [
       "9410"
      ]
     },
     "metadata": {},
     "execution_count": 33
    },
    {
     "output_type": "stream",
     "name": "stdout",
     "text": [
      "valid epa_fy21\n"
     ]
    },
    {
     "output_type": "execute_result",
     "data": {
      "text/plain": [
       "6000"
      ]
     },
     "metadata": {},
     "execution_count": 33
    },
    {
     "output_type": "stream",
     "name": "stdout",
     "text": [
      "valid_all_epa\n"
     ]
    },
    {
     "output_type": "execute_result",
     "data": {
      "text/plain": [
       "7375"
      ]
     },
     "metadata": {},
     "execution_count": 33
    },
    {
     "output_type": "stream",
     "name": "stdout",
     "text": [
      "not valid\n"
     ]
    },
    {
     "output_type": "execute_result",
     "data": {
      "text/plain": [
       "2152"
      ]
     },
     "metadata": {},
     "execution_count": 33
    }
   ],
   "metadata": {}
  },
  {
   "cell_type": "code",
   "execution_count": 34,
   "source": [
    "import matplotlib.pyplot as plt\r\n",
    "%matplotlib inline\r\n",
    "import seaborn as sns\r\n",
    "\r\n",
    "pivot_epa = epa_fy21.pivot_table(columns=\"fiscal_year\",values=\"patient_code\",fill_value=0,aggfunc='count')\r\n",
    "\r\n",
    "X= list(pivot_epa.columns)\r\n",
    "Y= pivot_epa.values.tolist()[0]\r\n",
    "data = []\r\n",
    "colonnes = []\r\n",
    "\r\n",
    "for x,y in zip(X,Y):\r\n",
    "    data.append(y)\r\n",
    "    colonnes.append(x)\r\n",
    "\r\n",
    "\r\n",
    "df = pd.DataFrame({\"fy\":colonnes, \"dt\":data})\r\n",
    "\r\n",
    "plt.figure(figsize=(16,8))\r\n",
    "sns.set_style(\"darkgrid\")\r\n",
    "splot = sns.barplot(x=\"dt\",y=\"fy\",data=df)\r\n",
    "splot.set_xlabel(\"\")\r\n",
    "splot.set_ylabel(\"\")\r\n",
    "plt.suptitle(\"AGYW, entered since march 2021 by the data clerk, presence in currilum\")\r\n",
    "for p in splot.patches:\r\n",
    "    width = p.get_width()\r\n",
    "    plt.text(2+p.get_width(), p.get_y()+0.50*p.get_height(),\r\n",
    "             '{:1.0f}'.format(width), fontdict=dict(color=\"red\",fontsize=12))\r\n",
    "    \r\n",
    "plt.annotate(\r\n",
    "    \"source: HIVHaiti\",(0,0), (-80,-20), fontsize=10, \r\n",
    "             xycoords='axes fraction', textcoords='offset points', va='top'\r\n",
    ")\r\n",
    "\r\n",
    "plt.savefig(\"curriculum_Presence\",dpi=400)"
   ],
   "outputs": [
    {
     "output_type": "execute_result",
     "data": {
      "text/plain": [
       "<Figure size 1152x576 with 0 Axes>"
      ]
     },
     "metadata": {},
     "execution_count": 34
    },
    {
     "output_type": "execute_result",
     "data": {
      "text/plain": [
       "Text(0.5, 0, '')"
      ]
     },
     "metadata": {},
     "execution_count": 34
    },
    {
     "output_type": "execute_result",
     "data": {
      "text/plain": [
       "Text(0, 0.5, '')"
      ]
     },
     "metadata": {},
     "execution_count": 34
    },
    {
     "output_type": "execute_result",
     "data": {
      "text/plain": [
       "Text(0.5, 0.98, 'AGYW, entered since march 2021 by the data clerk, presence in currilum')"
      ]
     },
     "metadata": {},
     "execution_count": 34
    },
    {
     "output_type": "execute_result",
     "data": {
      "text/plain": [
       "Text(2023.0, 0.0, '2021')"
      ]
     },
     "metadata": {},
     "execution_count": 34
    },
    {
     "output_type": "execute_result",
     "data": {
      "text/plain": [
       "Text(1808.0, 1.0, '1806')"
      ]
     },
     "metadata": {},
     "execution_count": 34
    },
    {
     "output_type": "execute_result",
     "data": {
      "text/plain": [
       "Text(1375.0, 2.0, '1373')"
      ]
     },
     "metadata": {},
     "execution_count": 34
    },
    {
     "output_type": "execute_result",
     "data": {
      "text/plain": [
       "Text(802.0, 3.0, '800')"
      ]
     },
     "metadata": {},
     "execution_count": 34
    },
    {
     "output_type": "execute_result",
     "data": {
      "text/plain": [
       "Text(-80, -20, 'source: HIVHaiti')"
      ]
     },
     "metadata": {},
     "execution_count": 34
    },
    {
     "output_type": "display_data",
     "data": {
      "image/png": "[encoded data removed]",
      "text/plain": [
       "<Figure size 1152x576 with 1 Axes>"
      ]
     },
     "metadata": {
      "needs_background": "light"
     }
    }
   ],
   "metadata": {}
  },
  {
   "cell_type": "code",
   "execution_count": 35,
   "source": [
    "pivot_all_epa = valid_all_epa.pivot_table(columns=\"fiscal_year\",values=\"patient_code\",fill_value=0,aggfunc='count')\r\n",
    "\r\n",
    "X= list(pivot_all_epa.columns)\r\n",
    "Y= pivot_all_epa.values.tolist()[0]\r\n",
    "data = []\r\n",
    "colonnes = []\r\n",
    "\r\n",
    "for x,y in zip(X,Y):\r\n",
    "    data.append(y)\r\n",
    "    colonnes.append(x)\r\n",
    "\r\n",
    "\r\n",
    "df = pd.DataFrame({\"fy\":colonnes, \"dt\":data})\r\n",
    "\r\n",
    "plt.figure(figsize=(16,8))\r\n",
    "sns.set_style(\"darkgrid\")\r\n",
    "splot = sns.barplot(x=\"dt\",y=\"fy\",data=df)\r\n",
    "splot.set_xlabel(\"\")\r\n",
    "splot.set_ylabel(\"\")\r\n",
    "plt.suptitle(\"AGYW, entered since march 2021 by the data clerk, presence in currilum\")\r\n",
    "for p in splot.patches:\r\n",
    "    width = p.get_width()\r\n",
    "    plt.text(2+p.get_width(), p.get_y()+0.50*p.get_height(),\r\n",
    "             '{:1.0f}'.format(width),fontdict=dict(color=\"red\",fontsize=12))\r\n",
    "\r\n",
    "plt.savefig(\"curriculum_all_fiscal\",dpi=1000)"
   ],
   "outputs": [
    {
     "output_type": "execute_result",
     "data": {
      "text/plain": [
       "<Figure size 1152x576 with 0 Axes>"
      ]
     },
     "metadata": {},
     "execution_count": 35
    },
    {
     "output_type": "execute_result",
     "data": {
      "text/plain": [
       "Text(0.5, 0, '')"
      ]
     },
     "metadata": {},
     "execution_count": 35
    },
    {
     "output_type": "execute_result",
     "data": {
      "text/plain": [
       "Text(0, 0.5, '')"
      ]
     },
     "metadata": {},
     "execution_count": 35
    },
    {
     "output_type": "execute_result",
     "data": {
      "text/plain": [
       "Text(0.5, 0.98, 'AGYW, entered since march 2021 by the data clerk, presence in currilum')"
      ]
     },
     "metadata": {},
     "execution_count": 35
    },
    {
     "output_type": "execute_result",
     "data": {
      "text/plain": [
       "Text(2023.0, 0.0, '2021')"
      ]
     },
     "metadata": {},
     "execution_count": 35
    },
    {
     "output_type": "execute_result",
     "data": {
      "text/plain": [
       "Text(1808.0, 1.0, '1806')"
      ]
     },
     "metadata": {},
     "execution_count": 35
    },
    {
     "output_type": "execute_result",
     "data": {
      "text/plain": [
       "Text(1375.0, 2.0, '1373')"
      ]
     },
     "metadata": {},
     "execution_count": 35
    },
    {
     "output_type": "execute_result",
     "data": {
      "text/plain": [
       "Text(802.0, 3.0, '800')"
      ]
     },
     "metadata": {},
     "execution_count": 35
    },
    {
     "output_type": "execute_result",
     "data": {
      "text/plain": [
       "Text(1377.0, 4.0, '1375')"
      ]
     },
     "metadata": {},
     "execution_count": 35
    },
    {
     "output_type": "display_data",
     "data": {
      "image/png": "[encoded data removed]",
      "text/plain": [
       "<Figure size 1152x576 with 1 Axes>"
      ]
     },
     "metadata": {}
    }
   ],
   "metadata": {}
  },
  {
   "cell_type": "code",
   "execution_count": null,
   "source": [],
   "outputs": [],
   "metadata": {}
  }
 ],
 "metadata": {
  "interpreter": {
   "hash": "4534460e0bdca1b390927d45471088fb3501d39abc4e3f2cee293892e17d7fc6"
  },
  "kernelspec": {
   "name": "python3",
   "display_name": "Python 3.9.6 64-bit"
  },
  "language_info": {
   "codemirror_mode": {
    "name": "ipython",
    "version": 3
   },
   "file_extension": ".py",
   "mimetype": "text/x-python",
   "name": "python",
   "nbconvert_exporter": "python",
   "pygments_lexer": "ipython3",
   "version": "3.9.6"
  }
 },
 "nbformat": 4,
 "nbformat_minor": 5
}