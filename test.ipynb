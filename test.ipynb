{
 "cells": [
  {
   "cell_type": "code",
   "execution_count": 1,
   "id": "afraid-ranch",
   "metadata": {},
   "outputs": [],
   "source": [
    "import pandas as pd\n",
    "import numpy as np"
   ]
  },
  {
   "cell_type": "markdown",
   "id": "higher-graphics",
   "metadata": {},
   "source": [
    "## Testing Area"
   ]
  },
  {
   "cell_type": "code",
   "execution_count": 9,
   "id": "certain-values",
   "metadata": {},
   "outputs": [],
   "source": [
    "eligibility = pd.read_excel('./eligibility.xlsx',sheet_name='Sheet2')\n",
    "survey_data = pd.read_excel('./survey_data/survey_data.xlsx',sheet_name='Sheet3')"
   ]
  },
  {
   "cell_type": "code",
   "execution_count": 12,
   "id": "passive-elizabeth",
   "metadata": {},
   "outputs": [
    {
     "data": {
      "text/plain": [
       "(5757, 32)"
      ]
     },
     "execution_count": 12,
     "metadata": {},
     "output_type": "execute_result"
    }
   ],
   "source": [
    "eligibility.shape"
   ]
  },
  {
   "cell_type": "code",
   "execution_count": 13,
   "id": "provincial-tsunami",
   "metadata": {},
   "outputs": [
    {
     "data": {
      "text/plain": [
       "(5609, 2)"
      ]
     },
     "execution_count": 13,
     "metadata": {},
     "output_type": "execute_result"
    }
   ],
   "source": [
    "survey_data.shape"
   ]
  },
  {
   "cell_type": "code",
   "execution_count": 18,
   "id": "existing-patrol",
   "metadata": {},
   "outputs": [],
   "source": [
    "eligibility.fillna(\"A_NULL\",inplace=True)\n",
    "survey_data.fillna(\"A_NULL\",inplace=True)"
   ]
  },
  {
   "cell_type": "code",
   "execution_count": 33,
   "id": "processed-input",
   "metadata": {},
   "outputs": [],
   "source": [
    "screener_non_servis = survey_data.merge(eligibility,on='case_id',how='right')"
   ]
  },
  {
   "cell_type": "code",
   "execution_count": 25,
   "id": "developed-direction",
   "metadata": {},
   "outputs": [],
   "source": [
    "screener_non_servis.to_excel('screener_non_servis.xlsx',index=False,na_rep='NULL')"
   ]
  },
  {
   "cell_type": "code",
   "execution_count": 34,
   "id": "meaning-arnold",
   "metadata": {},
   "outputs": [
    {
     "data": {
      "text/plain": [
       "array(['no', nan], dtype=object)"
      ]
     },
     "execution_count": 34,
     "metadata": {},
     "output_type": "execute_result"
    }
   ],
   "source": [
    "screener_non_servis.already_in_a_group.unique()"
   ]
  },
  {
   "cell_type": "code",
   "execution_count": null,
   "id": "expressed-incident",
   "metadata": {},
   "outputs": [],
   "source": []
  }
 ],
 "metadata": {
  "kernelspec": {
   "display_name": "Python 3",
   "language": "python",
   "name": "python3"
  },
  "language_info": {
   "codemirror_mode": {
    "name": "ipython",
    "version": 3
   },
   "file_extension": ".py",
   "mimetype": "text/x-python",
   "name": "python",
   "nbconvert_exporter": "python",
   "pygments_lexer": "ipython3",
   "version": "3.9.2"
  }
 },
 "nbformat": 4,
 "nbformat_minor": 5
}
