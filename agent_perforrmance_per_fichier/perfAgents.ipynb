{
 "cells": [
  {
   "cell_type": "code",
   "execution_count": 21,
   "metadata": {},
   "outputs": [],
   "source": [
    "import os\r\n",
    "from datetime import datetime\r\n",
    "#from datetime import date\r\n",
    "import pymysql\r\n",
    "from sqlalchemy import create_engine\r\n",
    "from decouple import config \r\n",
    "from dotenv import load_dotenv\r\n",
    "import pandas as pd\r\n",
    "from numpy import int16\r\n",
    "from enum import Enum"
   ]
  },
  {
   "cell_type": "code",
   "execution_count": 32,
   "metadata": {},
   "outputs": [],
   "source": [
    "# Using enum class create enumerations\r\n",
    "class Constante(Enum):\r\n",
    "   march_1_2021 = \"2021-03-01\"\r\n",
    "   specific = \"2021-06-21\""
   ]
  },
  {
   "cell_type": "code",
   "execution_count": 33,
   "metadata": {},
   "outputs": [],
   "source": [
    "load_dotenv()\r\n",
    "# get the environment variables needed\r\n",
    "USER= config('USRCaris')\r\n",
    "PASSWORD= config('PASSCaris')\r\n",
    "HOSTNAME= config('HOSTCaris')\r\n",
    "DBNAME= config('DBCaris')\r\n",
    "\r\n",
    "# get the engine to connect and fetch\r\n",
    "engine = create_engine(f\"mysql+pymysql://{USER}:{PASSWORD}@{HOSTNAME}/{DBNAME}\")\r\n",
    "query = f'''\r\n",
    "    SELECT \r\n",
    "    agent_username, COUNT(*) AS nbre,\r\n",
    "    dsd.organisation,\r\n",
    "    dsd.created_ad as entry_date\r\n",
    "FROM\r\n",
    "    caris_db.dreams_surveys_data dsd\r\n",
    "WHERE\r\n",
    "    dsd.created_ad >= '{Constante.specific.value}'\r\n",
    "GROUP BY agent_username\r\n",
    "'''\r\n",
    "\r\n",
    "agent = pd.read_sql_query(query,engine,parse_dates=True)\r\n",
    "# get the test excel file from Query\r\n",
    "\r\n",
    "# close the pool of connection\r\n",
    "engine.dispose()"
   ]
  },
  {
   "cell_type": "markdown",
   "metadata": {},
   "source": [
    "## Agent DREAMS sortant du Systeme"
   ]
  },
  {
   "cell_type": "code",
   "execution_count": 34,
   "metadata": {},
   "outputs": [
    {
     "data": {
      "text/html": [
       "<div>\n",
       "<style scoped>\n",
       "    .dataframe tbody tr th:only-of-type {\n",
       "        vertical-align: middle;\n",
       "    }\n",
       "\n",
       "    .dataframe tbody tr th {\n",
       "        vertical-align: top;\n",
       "    }\n",
       "\n",
       "    .dataframe thead th {\n",
       "        text-align: right;\n",
       "    }\n",
       "</style>\n",
       "<table border=\"1\" class=\"dataframe\">\n",
       "  <thead>\n",
       "    <tr style=\"text-align: right;\">\n",
       "      <th></th>\n",
       "      <th>username</th>\n",
       "      <th>nbre</th>\n",
       "      <th>organisation</th>\n",
       "      <th>entry_date</th>\n",
       "    </tr>\n",
       "  </thead>\n",
       "  <tbody>\n",
       "    <tr>\n",
       "      <th>0</th>\n",
       "      <td>1yvrose</td>\n",
       "      <td>22</td>\n",
       "      <td>CARIS</td>\n",
       "      <td>2021-06-25 05:45:47</td>\n",
       "    </tr>\n",
       "    <tr>\n",
       "      <th>1</th>\n",
       "      <td>2ernst</td>\n",
       "      <td>43</td>\n",
       "      <td>CARIS</td>\n",
       "      <td>2021-06-24 08:11:54</td>\n",
       "    </tr>\n",
       "    <tr>\n",
       "      <th>2</th>\n",
       "      <td>6francenel</td>\n",
       "      <td>30</td>\n",
       "      <td>CARIS</td>\n",
       "      <td>2021-06-23 15:40:37</td>\n",
       "    </tr>\n",
       "    <tr>\n",
       "      <th>3</th>\n",
       "      <td>6frazyouseline</td>\n",
       "      <td>2</td>\n",
       "      <td>CARIS</td>\n",
       "      <td>2021-06-28 09:02:32</td>\n",
       "    </tr>\n",
       "    <tr>\n",
       "      <th>4</th>\n",
       "      <td>6lovemyschinider</td>\n",
       "      <td>28</td>\n",
       "      <td>CARIS</td>\n",
       "      <td>2021-06-25 19:21:23</td>\n",
       "    </tr>\n",
       "    <tr>\n",
       "      <th>5</th>\n",
       "      <td>6paulina</td>\n",
       "      <td>85</td>\n",
       "      <td>CARIS</td>\n",
       "      <td>2021-06-23 12:59:38</td>\n",
       "    </tr>\n",
       "  </tbody>\n",
       "</table>\n",
       "</div>"
      ],
      "text/plain": [
       "           username  nbre organisation          entry_date\n",
       "0           1yvrose    22        CARIS 2021-06-25 05:45:47\n",
       "1            2ernst    43        CARIS 2021-06-24 08:11:54\n",
       "2        6francenel    30        CARIS 2021-06-23 15:40:37\n",
       "3    6frazyouseline     2        CARIS 2021-06-28 09:02:32\n",
       "4  6lovemyschinider    28        CARIS 2021-06-25 19:21:23\n",
       "5          6paulina    85        CARIS 2021-06-23 12:59:38"
      ]
     },
     "execution_count": 34,
     "metadata": {},
     "output_type": "execute_result"
    }
   ],
   "source": [
    "agent.rename(columns={'agent_username':'username'},inplace=True)\r\n",
    "agent"
   ]
  },
  {
   "cell_type": "code",
   "execution_count": 35,
   "metadata": {},
   "outputs": [],
   "source": [
    "agent_name = pd.read_excel(\"caris-test_users_7453177b42914ad2978e3c465e39dab1.xlsx\")"
   ]
  },
  {
   "cell_type": "code",
   "execution_count": 36,
   "metadata": {},
   "outputs": [],
   "source": [
    "agent_name = agent_name[[\"username\",\"name\"]]"
   ]
  },
  {
   "cell_type": "markdown",
   "metadata": {},
   "source": [
    "## Liste de tous les agents avec Leur nom"
   ]
  },
  {
   "cell_type": "code",
   "execution_count": 37,
   "metadata": {},
   "outputs": [
    {
     "data": {
      "text/html": [
       "<div>\n",
       "<style scoped>\n",
       "    .dataframe tbody tr th:only-of-type {\n",
       "        vertical-align: middle;\n",
       "    }\n",
       "\n",
       "    .dataframe tbody tr th {\n",
       "        vertical-align: top;\n",
       "    }\n",
       "\n",
       "    .dataframe thead th {\n",
       "        text-align: right;\n",
       "    }\n",
       "</style>\n",
       "<table border=\"1\" class=\"dataframe\">\n",
       "  <thead>\n",
       "    <tr style=\"text-align: right;\">\n",
       "      <th></th>\n",
       "      <th>username</th>\n",
       "      <th>name</th>\n",
       "    </tr>\n",
       "  </thead>\n",
       "  <tbody>\n",
       "    <tr>\n",
       "      <th>0</th>\n",
       "      <td>1aldonzar</td>\n",
       "      <td>elcie aldonzar</td>\n",
       "    </tr>\n",
       "    <tr>\n",
       "      <th>1</th>\n",
       "      <td>1alexandra</td>\n",
       "      <td>Alexandra Joseph</td>\n",
       "    </tr>\n",
       "    <tr>\n",
       "      <th>2</th>\n",
       "      <td>1annuelle</td>\n",
       "      <td>Annuelle Eustache</td>\n",
       "    </tr>\n",
       "    <tr>\n",
       "      <th>3</th>\n",
       "      <td>1claudius</td>\n",
       "      <td>Claudius Gladys</td>\n",
       "    </tr>\n",
       "    <tr>\n",
       "      <th>4</th>\n",
       "      <td>1coldina</td>\n",
       "      <td>Coldina Duverny</td>\n",
       "    </tr>\n",
       "    <tr>\n",
       "      <th>...</th>\n",
       "      <td>...</td>\n",
       "      <td>...</td>\n",
       "    </tr>\n",
       "    <tr>\n",
       "      <th>742</th>\n",
       "      <td>s2julnor</td>\n",
       "      <td>Julnor Beaubrun</td>\n",
       "    </tr>\n",
       "    <tr>\n",
       "      <th>743</th>\n",
       "      <td>s2mirlene</td>\n",
       "      <td>Vernet Mirlene</td>\n",
       "    </tr>\n",
       "    <tr>\n",
       "      <th>744</th>\n",
       "      <td>stfleur</td>\n",
       "      <td>Jesula St Fleur</td>\n",
       "    </tr>\n",
       "    <tr>\n",
       "      <th>745</th>\n",
       "      <td>sylvietest</td>\n",
       "      <td>sylvie rousseau</td>\n",
       "    </tr>\n",
       "    <tr>\n",
       "      <th>746</th>\n",
       "      <td>yandre</td>\n",
       "      <td>Yves Andre</td>\n",
       "    </tr>\n",
       "  </tbody>\n",
       "</table>\n",
       "<p>747 rows × 2 columns</p>\n",
       "</div>"
      ],
      "text/plain": [
       "       username               name\n",
       "0     1aldonzar     elcie aldonzar\n",
       "1    1alexandra   Alexandra Joseph\n",
       "2     1annuelle  Annuelle Eustache\n",
       "3     1claudius    Claudius Gladys\n",
       "4      1coldina    Coldina Duverny\n",
       "..          ...                ...\n",
       "742    s2julnor    Julnor Beaubrun\n",
       "743   s2mirlene     Vernet Mirlene\n",
       "744     stfleur    Jesula St Fleur\n",
       "745  sylvietest    sylvie rousseau\n",
       "746      yandre         Yves Andre\n",
       "\n",
       "[747 rows x 2 columns]"
      ]
     },
     "execution_count": 37,
     "metadata": {},
     "output_type": "execute_result"
    }
   ],
   "source": [
    "agent_name"
   ]
  },
  {
   "cell_type": "markdown",
   "metadata": {},
   "source": [
    "## MERGE (Vlookup)"
   ]
  },
  {
   "cell_type": "code",
   "execution_count": 38,
   "metadata": {},
   "outputs": [],
   "source": [
    "performanceAgents = agent_name.merge(agent,on=\"username\",how=\"inner\")"
   ]
  },
  {
   "cell_type": "code",
   "execution_count": 39,
   "metadata": {},
   "outputs": [],
   "source": [
    "performanceAgents.to_excel(\"performancedesAgents.xlsx\",index=False,na_rep=\"NULL\")"
   ]
  },
  {
   "cell_type": "code",
   "execution_count": 40,
   "metadata": {},
   "outputs": [
    {
     "data": {
      "text/html": [
       "<div>\n",
       "<style scoped>\n",
       "    .dataframe tbody tr th:only-of-type {\n",
       "        vertical-align: middle;\n",
       "    }\n",
       "\n",
       "    .dataframe tbody tr th {\n",
       "        vertical-align: top;\n",
       "    }\n",
       "\n",
       "    .dataframe thead th {\n",
       "        text-align: right;\n",
       "    }\n",
       "</style>\n",
       "<table border=\"1\" class=\"dataframe\">\n",
       "  <thead>\n",
       "    <tr style=\"text-align: right;\">\n",
       "      <th></th>\n",
       "      <th>username</th>\n",
       "      <th>name</th>\n",
       "      <th>nbre</th>\n",
       "      <th>organisation</th>\n",
       "      <th>entry_date</th>\n",
       "    </tr>\n",
       "  </thead>\n",
       "  <tbody>\n",
       "    <tr>\n",
       "      <th>0</th>\n",
       "      <td>1yvrose</td>\n",
       "      <td>Yvrose Bertrand</td>\n",
       "      <td>22</td>\n",
       "      <td>CARIS</td>\n",
       "      <td>2021-06-25 05:45:47</td>\n",
       "    </tr>\n",
       "    <tr>\n",
       "      <th>1</th>\n",
       "      <td>2ernst</td>\n",
       "      <td>Ernst Belabre</td>\n",
       "      <td>43</td>\n",
       "      <td>CARIS</td>\n",
       "      <td>2021-06-24 08:11:54</td>\n",
       "    </tr>\n",
       "    <tr>\n",
       "      <th>2</th>\n",
       "      <td>6francenel</td>\n",
       "      <td>Francenel Dessalines</td>\n",
       "      <td>30</td>\n",
       "      <td>CARIS</td>\n",
       "      <td>2021-06-23 15:40:37</td>\n",
       "    </tr>\n",
       "    <tr>\n",
       "      <th>3</th>\n",
       "      <td>6frazyouseline</td>\n",
       "      <td>Fraz-Youseline Dorcent</td>\n",
       "      <td>2</td>\n",
       "      <td>CARIS</td>\n",
       "      <td>2021-06-28 09:02:32</td>\n",
       "    </tr>\n",
       "    <tr>\n",
       "      <th>4</th>\n",
       "      <td>6lovemyschinider</td>\n",
       "      <td>Lovemy Schinider Brutus</td>\n",
       "      <td>28</td>\n",
       "      <td>CARIS</td>\n",
       "      <td>2021-06-25 19:21:23</td>\n",
       "    </tr>\n",
       "    <tr>\n",
       "      <th>5</th>\n",
       "      <td>6paulina</td>\n",
       "      <td>Paulina Larose</td>\n",
       "      <td>85</td>\n",
       "      <td>CARIS</td>\n",
       "      <td>2021-06-23 12:59:38</td>\n",
       "    </tr>\n",
       "  </tbody>\n",
       "</table>\n",
       "</div>"
      ],
      "text/plain": [
       "           username                     name  nbre organisation  \\\n",
       "0           1yvrose          Yvrose Bertrand    22        CARIS   \n",
       "1            2ernst            Ernst Belabre    43        CARIS   \n",
       "2        6francenel     Francenel Dessalines    30        CARIS   \n",
       "3    6frazyouseline   Fraz-Youseline Dorcent     2        CARIS   \n",
       "4  6lovemyschinider  Lovemy Schinider Brutus    28        CARIS   \n",
       "5          6paulina           Paulina Larose    85        CARIS   \n",
       "\n",
       "           entry_date  \n",
       "0 2021-06-25 05:45:47  \n",
       "1 2021-06-24 08:11:54  \n",
       "2 2021-06-23 15:40:37  \n",
       "3 2021-06-28 09:02:32  \n",
       "4 2021-06-25 19:21:23  \n",
       "5 2021-06-23 12:59:38  "
      ]
     },
     "execution_count": 40,
     "metadata": {},
     "output_type": "execute_result"
    }
   ],
   "source": [
    "performanceAgents"
   ]
  },
  {
   "cell_type": "code",
   "execution_count": 41,
   "metadata": {},
   "outputs": [
    {
     "data": {
      "text/plain": [
       "210"
      ]
     },
     "execution_count": 41,
     "metadata": {},
     "output_type": "execute_result"
    }
   ],
   "source": [
    "performanceAgents.nbre.sum()"
   ]
  }
 ],
 "metadata": {
  "interpreter": {
   "hash": "4534460e0bdca1b390927d45471088fb3501d39abc4e3f2cee293892e17d7fc6"
  },
  "kernelspec": {
   "display_name": "Python 3.9.2 64-bit",
   "name": "python3"
  },
  "language_info": {
   "codemirror_mode": {
    "name": "ipython",
    "version": 3
   },
   "file_extension": ".py",
   "mimetype": "text/x-python",
   "name": "python",
   "nbconvert_exporter": "python",
   "pygments_lexer": "ipython3",
   "version": "3.9.2"
  }
 },
 "nbformat": 4,
 "nbformat_minor": 5
}