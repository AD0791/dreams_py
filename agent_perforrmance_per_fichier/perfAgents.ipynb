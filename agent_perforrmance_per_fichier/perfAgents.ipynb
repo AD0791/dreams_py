{
 "cells": [
  {
   "cell_type": "code",
   "execution_count": 16,
   "metadata": {},
   "outputs": [],
   "source": [
    "import os\n",
    "from datetime import datetime\n",
    "#from datetime import date\n",
    "import pymysql\n",
    "from sqlalchemy import create_engine\n",
    "from decouple import config \n",
    "from dotenv import load_dotenv\n",
    "import pandas as pd\n",
    "from numpy import int16\n",
    "from enum import Enum"
   ]
  },
  {
   "cell_type": "code",
   "execution_count": 17,
   "metadata": {},
   "outputs": [],
   "source": [
    "# Using enum class create enumerations\n",
    "class Constante(Enum):\n",
    "   march_1_2021 = \"2021-03-01\"\n",
    "   specific = \"2021-10-19\""
   ]
  },
  {
   "cell_type": "code",
   "execution_count": 18,
   "metadata": {},
   "outputs": [],
   "source": [
    "load_dotenv()\n",
    "# get the environment variables needed\n",
    "USER= config('USRCaris')\n",
    "PASSWORD= config('PASSCaris')\n",
    "HOSTNAME= config('HOSTCaris')\n",
    "DBNAME= config('DBCaris')\n",
    "\n",
    "# get the engine to connect and fetch\n",
    "engine = create_engine(f\"mysql+pymysql://{USER}:{PASSWORD}@{HOSTNAME}/{DBNAME}\")\n",
    "query = f'''\n",
    "    SELECT \n",
    "    agent_username, COUNT(*) AS nbre,\n",
    "    dsd.organisation,\n",
    "    dsd.timeEnd as entry_date\n",
    "FROM\n",
    "    caris_db.dreams_surveys_data dsd\n",
    "WHERE\n",
    "    dsd.timeEnd >= '{Constante.specific.value}'\n",
    "GROUP BY agent_username\n",
    "'''\n",
    "\n",
    "agent = pd.read_sql_query(query,engine,parse_dates=True)\n",
    "# get the test excel file from Query\n",
    "\n",
    "# close the pool of connection\n",
    "engine.dispose()"
   ]
  },
  {
   "cell_type": "markdown",
   "metadata": {},
   "source": [
    "## Agent DREAMS sortant du Systeme"
   ]
  },
  {
   "cell_type": "code",
   "execution_count": 19,
   "metadata": {},
   "outputs": [
    {
     "data": {
      "text/html": [
       "<div>\n",
       "<style scoped>\n",
       "    .dataframe tbody tr th:only-of-type {\n",
       "        vertical-align: middle;\n",
       "    }\n",
       "\n",
       "    .dataframe tbody tr th {\n",
       "        vertical-align: top;\n",
       "    }\n",
       "\n",
       "    .dataframe thead th {\n",
       "        text-align: right;\n",
       "    }\n",
       "</style>\n",
       "<table border=\"1\" class=\"dataframe\">\n",
       "  <thead>\n",
       "    <tr style=\"text-align: right;\">\n",
       "      <th></th>\n",
       "      <th>username</th>\n",
       "      <th>nbre</th>\n",
       "      <th>organisation</th>\n",
       "      <th>entry_date</th>\n",
       "    </tr>\n",
       "  </thead>\n",
       "  <tbody>\n",
       "    <tr>\n",
       "      <th>0</th>\n",
       "      <td>2ernst</td>\n",
       "      <td>51</td>\n",
       "      <td>Caris</td>\n",
       "      <td>2021-10-21 09:32:20</td>\n",
       "    </tr>\n",
       "    <tr>\n",
       "      <th>1</th>\n",
       "      <td>2roselord</td>\n",
       "      <td>35</td>\n",
       "      <td>Caris</td>\n",
       "      <td>2021-10-20 18:02:12</td>\n",
       "    </tr>\n",
       "    <tr>\n",
       "      <th>2</th>\n",
       "      <td>2woodridchard</td>\n",
       "      <td>75</td>\n",
       "      <td>Caris</td>\n",
       "      <td>2021-10-26 17:20:36</td>\n",
       "    </tr>\n",
       "    <tr>\n",
       "      <th>3</th>\n",
       "      <td>6celimene</td>\n",
       "      <td>22</td>\n",
       "      <td>Caris</td>\n",
       "      <td>2021-10-26 00:54:47</td>\n",
       "    </tr>\n",
       "    <tr>\n",
       "      <th>4</th>\n",
       "      <td>6charma</td>\n",
       "      <td>41</td>\n",
       "      <td>Caris</td>\n",
       "      <td>2021-10-25 19:17:52</td>\n",
       "    </tr>\n",
       "    <tr>\n",
       "      <th>5</th>\n",
       "      <td>6francenel</td>\n",
       "      <td>17</td>\n",
       "      <td>Caris</td>\n",
       "      <td>2021-10-24 14:47:18</td>\n",
       "    </tr>\n",
       "    <tr>\n",
       "      <th>6</th>\n",
       "      <td>6gerana</td>\n",
       "      <td>70</td>\n",
       "      <td>Caris</td>\n",
       "      <td>2021-10-24 02:17:37</td>\n",
       "    </tr>\n",
       "    <tr>\n",
       "      <th>7</th>\n",
       "      <td>6idalise</td>\n",
       "      <td>16</td>\n",
       "      <td>Caris</td>\n",
       "      <td>2021-10-28 13:05:50</td>\n",
       "    </tr>\n",
       "    <tr>\n",
       "      <th>8</th>\n",
       "      <td>6jesumene</td>\n",
       "      <td>16</td>\n",
       "      <td>Caris</td>\n",
       "      <td>2021-10-19 02:20:01</td>\n",
       "    </tr>\n",
       "    <tr>\n",
       "      <th>9</th>\n",
       "      <td>6martine</td>\n",
       "      <td>76</td>\n",
       "      <td>Caris</td>\n",
       "      <td>2021-10-19 04:29:23</td>\n",
       "    </tr>\n",
       "    <tr>\n",
       "      <th>10</th>\n",
       "      <td>6stephanie</td>\n",
       "      <td>10</td>\n",
       "      <td>Caris</td>\n",
       "      <td>2021-10-26 12:25:51</td>\n",
       "    </tr>\n",
       "    <tr>\n",
       "      <th>11</th>\n",
       "      <td>6ylanda</td>\n",
       "      <td>41</td>\n",
       "      <td>Caris</td>\n",
       "      <td>2021-10-20 00:12:02</td>\n",
       "    </tr>\n",
       "  </tbody>\n",
       "</table>\n",
       "</div>"
      ],
      "text/plain": [
       "         username  nbre organisation          entry_date\n",
       "0          2ernst    51        Caris 2021-10-21 09:32:20\n",
       "1       2roselord    35        Caris 2021-10-20 18:02:12\n",
       "2   2woodridchard    75        Caris 2021-10-26 17:20:36\n",
       "3       6celimene    22        Caris 2021-10-26 00:54:47\n",
       "4         6charma    41        Caris 2021-10-25 19:17:52\n",
       "5      6francenel    17        Caris 2021-10-24 14:47:18\n",
       "6         6gerana    70        Caris 2021-10-24 02:17:37\n",
       "7        6idalise    16        Caris 2021-10-28 13:05:50\n",
       "8       6jesumene    16        Caris 2021-10-19 02:20:01\n",
       "9        6martine    76        Caris 2021-10-19 04:29:23\n",
       "10     6stephanie    10        Caris 2021-10-26 12:25:51\n",
       "11        6ylanda    41        Caris 2021-10-20 00:12:02"
      ]
     },
     "execution_count": 19,
     "metadata": {},
     "output_type": "execute_result"
    }
   ],
   "source": [
    "agent.rename(columns={'agent_username':'username'},inplace=True)\n",
    "agent"
   ]
  },
  {
   "cell_type": "code",
   "execution_count": 20,
   "metadata": {},
   "outputs": [],
   "source": [
    "agent_name = pd.read_excel(\"caris-test_users_7453177b42914ad2978e3c465e39dab1.xlsx\")"
   ]
  },
  {
   "cell_type": "code",
   "execution_count": 21,
   "metadata": {},
   "outputs": [],
   "source": [
    "agent_name = agent_name[[\"username\",\"name\"]]"
   ]
  },
  {
   "cell_type": "markdown",
   "metadata": {},
   "source": [
    "## Liste de tous les agents avec Leur nom"
   ]
  },
  {
   "cell_type": "code",
   "execution_count": 22,
   "metadata": {},
   "outputs": [
    {
     "data": {
      "text/html": [
       "<div>\n",
       "<style scoped>\n",
       "    .dataframe tbody tr th:only-of-type {\n",
       "        vertical-align: middle;\n",
       "    }\n",
       "\n",
       "    .dataframe tbody tr th {\n",
       "        vertical-align: top;\n",
       "    }\n",
       "\n",
       "    .dataframe thead th {\n",
       "        text-align: right;\n",
       "    }\n",
       "</style>\n",
       "<table border=\"1\" class=\"dataframe\">\n",
       "  <thead>\n",
       "    <tr style=\"text-align: right;\">\n",
       "      <th></th>\n",
       "      <th>username</th>\n",
       "      <th>name</th>\n",
       "    </tr>\n",
       "  </thead>\n",
       "  <tbody>\n",
       "    <tr>\n",
       "      <th>0</th>\n",
       "      <td>1aldonzar</td>\n",
       "      <td>elcie aldonzar</td>\n",
       "    </tr>\n",
       "    <tr>\n",
       "      <th>1</th>\n",
       "      <td>1alexandra</td>\n",
       "      <td>Alexandra Joseph</td>\n",
       "    </tr>\n",
       "    <tr>\n",
       "      <th>2</th>\n",
       "      <td>1annuelle</td>\n",
       "      <td>Annuelle Eustache</td>\n",
       "    </tr>\n",
       "    <tr>\n",
       "      <th>3</th>\n",
       "      <td>1claudius</td>\n",
       "      <td>Claudius Gladys</td>\n",
       "    </tr>\n",
       "    <tr>\n",
       "      <th>4</th>\n",
       "      <td>1coldina</td>\n",
       "      <td>Coldina Duverny</td>\n",
       "    </tr>\n",
       "    <tr>\n",
       "      <th>...</th>\n",
       "      <td>...</td>\n",
       "      <td>...</td>\n",
       "    </tr>\n",
       "    <tr>\n",
       "      <th>742</th>\n",
       "      <td>s2julnor</td>\n",
       "      <td>Julnor Beaubrun</td>\n",
       "    </tr>\n",
       "    <tr>\n",
       "      <th>743</th>\n",
       "      <td>s2mirlene</td>\n",
       "      <td>Vernet Mirlene</td>\n",
       "    </tr>\n",
       "    <tr>\n",
       "      <th>744</th>\n",
       "      <td>stfleur</td>\n",
       "      <td>Jesula St Fleur</td>\n",
       "    </tr>\n",
       "    <tr>\n",
       "      <th>745</th>\n",
       "      <td>sylvietest</td>\n",
       "      <td>sylvie rousseau</td>\n",
       "    </tr>\n",
       "    <tr>\n",
       "      <th>746</th>\n",
       "      <td>yandre</td>\n",
       "      <td>Yves Andre</td>\n",
       "    </tr>\n",
       "  </tbody>\n",
       "</table>\n",
       "<p>747 rows × 2 columns</p>\n",
       "</div>"
      ],
      "text/plain": [
       "       username               name\n",
       "0     1aldonzar     elcie aldonzar\n",
       "1    1alexandra   Alexandra Joseph\n",
       "2     1annuelle  Annuelle Eustache\n",
       "3     1claudius    Claudius Gladys\n",
       "4      1coldina    Coldina Duverny\n",
       "..          ...                ...\n",
       "742    s2julnor    Julnor Beaubrun\n",
       "743   s2mirlene     Vernet Mirlene\n",
       "744     stfleur    Jesula St Fleur\n",
       "745  sylvietest    sylvie rousseau\n",
       "746      yandre         Yves Andre\n",
       "\n",
       "[747 rows x 2 columns]"
      ]
     },
     "execution_count": 22,
     "metadata": {},
     "output_type": "execute_result"
    }
   ],
   "source": [
    "agent_name"
   ]
  },
  {
   "cell_type": "markdown",
   "metadata": {},
   "source": [
    "## MERGE (Vlookup)"
   ]
  },
  {
   "cell_type": "code",
   "execution_count": 23,
   "metadata": {},
   "outputs": [],
   "source": [
    "performanceAgents = agent_name.merge(agent,on=\"username\",how=\"inner\")"
   ]
  },
  {
   "cell_type": "code",
   "execution_count": 24,
   "metadata": {},
   "outputs": [
    {
     "data": {
      "text/html": [
       "<div>\n",
       "<style scoped>\n",
       "    .dataframe tbody tr th:only-of-type {\n",
       "        vertical-align: middle;\n",
       "    }\n",
       "\n",
       "    .dataframe tbody tr th {\n",
       "        vertical-align: top;\n",
       "    }\n",
       "\n",
       "    .dataframe thead th {\n",
       "        text-align: right;\n",
       "    }\n",
       "</style>\n",
       "<table border=\"1\" class=\"dataframe\">\n",
       "  <thead>\n",
       "    <tr style=\"text-align: right;\">\n",
       "      <th></th>\n",
       "      <th>username</th>\n",
       "      <th>name</th>\n",
       "      <th>nbre</th>\n",
       "      <th>organisation</th>\n",
       "      <th>entry_date</th>\n",
       "    </tr>\n",
       "  </thead>\n",
       "  <tbody>\n",
       "    <tr>\n",
       "      <th>0</th>\n",
       "      <td>2ernst</td>\n",
       "      <td>Ernst Belabre</td>\n",
       "      <td>51</td>\n",
       "      <td>Caris</td>\n",
       "      <td>2021-10-21 09:32:20</td>\n",
       "    </tr>\n",
       "    <tr>\n",
       "      <th>1</th>\n",
       "      <td>2roselord</td>\n",
       "      <td>Rose-Lord Despeignes</td>\n",
       "      <td>35</td>\n",
       "      <td>Caris</td>\n",
       "      <td>2021-10-20 18:02:12</td>\n",
       "    </tr>\n",
       "    <tr>\n",
       "      <th>2</th>\n",
       "      <td>2woodridchard</td>\n",
       "      <td>Wood-Ridchard Bon</td>\n",
       "      <td>75</td>\n",
       "      <td>Caris</td>\n",
       "      <td>2021-10-26 17:20:36</td>\n",
       "    </tr>\n",
       "    <tr>\n",
       "      <th>3</th>\n",
       "      <td>6celimene</td>\n",
       "      <td>Celimene Laine</td>\n",
       "      <td>22</td>\n",
       "      <td>Caris</td>\n",
       "      <td>2021-10-26 00:54:47</td>\n",
       "    </tr>\n",
       "    <tr>\n",
       "      <th>4</th>\n",
       "      <td>6charma</td>\n",
       "      <td>Charma Dangervil</td>\n",
       "      <td>41</td>\n",
       "      <td>Caris</td>\n",
       "      <td>2021-10-25 19:17:52</td>\n",
       "    </tr>\n",
       "    <tr>\n",
       "      <th>5</th>\n",
       "      <td>6francenel</td>\n",
       "      <td>Francenel Dessalines</td>\n",
       "      <td>17</td>\n",
       "      <td>Caris</td>\n",
       "      <td>2021-10-24 14:47:18</td>\n",
       "    </tr>\n",
       "    <tr>\n",
       "      <th>6</th>\n",
       "      <td>6gerana</td>\n",
       "      <td>Gerana David</td>\n",
       "      <td>70</td>\n",
       "      <td>Caris</td>\n",
       "      <td>2021-10-24 02:17:37</td>\n",
       "    </tr>\n",
       "    <tr>\n",
       "      <th>7</th>\n",
       "      <td>6idalise</td>\n",
       "      <td>Idalise Michaud</td>\n",
       "      <td>16</td>\n",
       "      <td>Caris</td>\n",
       "      <td>2021-10-28 13:05:50</td>\n",
       "    </tr>\n",
       "    <tr>\n",
       "      <th>8</th>\n",
       "      <td>6jesumene</td>\n",
       "      <td>Jesumène Jean-Louis</td>\n",
       "      <td>16</td>\n",
       "      <td>Caris</td>\n",
       "      <td>2021-10-19 02:20:01</td>\n",
       "    </tr>\n",
       "    <tr>\n",
       "      <th>9</th>\n",
       "      <td>6martine</td>\n",
       "      <td>Martine Clerjeune</td>\n",
       "      <td>76</td>\n",
       "      <td>Caris</td>\n",
       "      <td>2021-10-19 04:29:23</td>\n",
       "    </tr>\n",
       "    <tr>\n",
       "      <th>10</th>\n",
       "      <td>6stephanie</td>\n",
       "      <td>Stéphanie Nelson</td>\n",
       "      <td>10</td>\n",
       "      <td>Caris</td>\n",
       "      <td>2021-10-26 12:25:51</td>\n",
       "    </tr>\n",
       "    <tr>\n",
       "      <th>11</th>\n",
       "      <td>6ylanda</td>\n",
       "      <td>Ylanda Previlus</td>\n",
       "      <td>41</td>\n",
       "      <td>Caris</td>\n",
       "      <td>2021-10-20 00:12:02</td>\n",
       "    </tr>\n",
       "  </tbody>\n",
       "</table>\n",
       "</div>"
      ],
      "text/plain": [
       "         username                  name  nbre organisation          entry_date\n",
       "0          2ernst         Ernst Belabre    51        Caris 2021-10-21 09:32:20\n",
       "1       2roselord  Rose-Lord Despeignes    35        Caris 2021-10-20 18:02:12\n",
       "2   2woodridchard     Wood-Ridchard Bon    75        Caris 2021-10-26 17:20:36\n",
       "3       6celimene        Celimene Laine    22        Caris 2021-10-26 00:54:47\n",
       "4         6charma      Charma Dangervil    41        Caris 2021-10-25 19:17:52\n",
       "5      6francenel  Francenel Dessalines    17        Caris 2021-10-24 14:47:18\n",
       "6         6gerana          Gerana David    70        Caris 2021-10-24 02:17:37\n",
       "7        6idalise       Idalise Michaud    16        Caris 2021-10-28 13:05:50\n",
       "8       6jesumene   Jesumène Jean-Louis    16        Caris 2021-10-19 02:20:01\n",
       "9        6martine     Martine Clerjeune    76        Caris 2021-10-19 04:29:23\n",
       "10     6stephanie      Stéphanie Nelson    10        Caris 2021-10-26 12:25:51\n",
       "11        6ylanda       Ylanda Previlus    41        Caris 2021-10-20 00:12:02"
      ]
     },
     "execution_count": 24,
     "metadata": {},
     "output_type": "execute_result"
    }
   ],
   "source": [
    "performanceAgents"
   ]
  },
  {
   "cell_type": "code",
   "execution_count": 25,
   "metadata": {},
   "outputs": [
    {
     "data": {
      "text/plain": [
       "470"
      ]
     },
     "execution_count": 25,
     "metadata": {},
     "output_type": "execute_result"
    }
   ],
   "source": [
    "performanceAgents.nbre.sum()"
   ]
  },
  {
   "cell_type": "code",
   "execution_count": 26,
   "metadata": {},
   "outputs": [],
   "source": [
    "import matplotlib.pyplot as plt\n",
    "import seaborn as sns\n",
    "%matplotlib inline"
   ]
  },
  {
   "cell_type": "code",
   "execution_count": 27,
   "metadata": {},
   "outputs": [],
   "source": [
    "from datetime import datetime\n",
    "date_du_jour = datetime.today().strftime(\"%d_%m_%Y\")"
   ]
  },
  {
   "cell_type": "code",
   "execution_count": 28,
   "metadata": {},
   "outputs": [],
   "source": [
    "orderdata = performanceAgents.nbre.sort_values().to_list()"
   ]
  },
  {
   "cell_type": "code",
   "execution_count": 29,
   "metadata": {},
   "outputs": [
    {
     "data": {
      "image/png": "[encoded data removed]",
      "text/plain": [
       "<Figure size 1152x576 with 1 Axes>"
      ]
     },
     "metadata": {
      "needs_background": "light"
     },
     "output_type": "display_data"
    }
   ],
   "source": [
    "plt.figure(figsize=(16,8))\n",
    "#plt.subplots(figsize=(16,8))\n",
    "sns.set_style(\"darkgrid\")\n",
    "splot = sns.barplot(x=\"nbre\",y=\"name\",data=performanceAgents,color=\"Green\",order=performanceAgents.sort_values(\"nbre\",ascending=False).name,ci=False)\n",
    "splot.set_xlabel(\"\")\n",
    "splot.set_ylabel(\"\")\n",
    "plt.suptitle(f\"Nombre de formulaire d'enrollement saisie par les DataClerks depuis le  {Constante.specific.value}\")\n",
    "for p in splot.patches:\n",
    "    width = p.get_width()\n",
    "    plt.text(0.25+p.get_width(), p.get_y()+0.50*p.get_height(),\n",
    "             '{:1.0f}'.format(width),fontdict=dict(color=\"red\",fontsize=12))\n",
    "\n",
    "plt.annotate(\n",
    "    \"source: HIVHaiti\",(0,0), (-80,-20), fontsize=10, \n",
    "             xycoords='axes fraction', textcoords='offset points', va='top'\n",
    ")\n",
    "\n",
    "plt.savefig(f\"saisie_screening_{date_du_jour}\",dpi=1000)"
   ]
  },
  {
   "cell_type": "code",
   "execution_count": 30,
   "metadata": {},
   "outputs": [],
   "source": [
    "performanceAgents.to_excel(f\"performance_formulaire_denrolement_{date_du_jour}.xlsx\",index=False,na_rep=\"NULL\")\n",
    "#performanceAgents.to_excel(f\"performance_formulaire_denrolement_depuis_1Mars2021.xlsx\",index=False,na_rep=\"NULL\")"
   ]
  }
 ],
 "metadata": {
  "interpreter": {
   "hash": "4534460e0bdca1b390927d45471088fb3501d39abc4e3f2cee293892e17d7fc6"
  },
  "kernelspec": {
   "display_name": "Python 3.9.7 64-bit",
   "name": "python3"
  },
  "language_info": {
   "codemirror_mode": {
    "name": "ipython",
    "version": 3
   },
   "file_extension": ".py",
   "mimetype": "text/x-python",
   "name": "python",
   "nbconvert_exporter": "python",
   "pygments_lexer": "ipython3",
   "version": "3.9.7"
  }
 },
 "nbformat": 4,
 "nbformat_minor": 5
}
