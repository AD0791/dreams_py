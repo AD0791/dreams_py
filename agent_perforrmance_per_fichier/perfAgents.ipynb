{
 "cells": [
  {
   "cell_type": "code",
   "execution_count": 1,
   "source": [
    "import os\r\n",
    "from datetime import datetime\r\n",
    "#from datetime import date\r\n",
    "import pymysql\r\n",
    "from sqlalchemy import create_engine\r\n",
    "from decouple import config \r\n",
    "from dotenv import load_dotenv\r\n",
    "import pandas as pd\r\n",
    "from numpy import int16\r\n",
    "from enum import Enum"
   ],
   "outputs": [],
   "metadata": {}
  },
  {
   "cell_type": "code",
   "execution_count": 2,
   "source": [
    "# Using enum class create enumerations\r\n",
    "class Constante(Enum):\r\n",
    "   march_1_2021 = \"2021-03-01\"\r\n",
    "   specific = \"2021-09-20\""
   ],
   "outputs": [],
   "metadata": {}
  },
  {
   "cell_type": "code",
   "execution_count": 3,
   "source": [
    "load_dotenv()\r\n",
    "# get the environment variables needed\r\n",
    "USER= config('USRCaris')\r\n",
    "PASSWORD= config('PASSCaris')\r\n",
    "HOSTNAME= config('HOSTCaris')\r\n",
    "DBNAME= config('DBCaris')\r\n",
    "\r\n",
    "# get the engine to connect and fetch\r\n",
    "engine = create_engine(f\"mysql+pymysql://{USER}:{PASSWORD}@{HOSTNAME}/{DBNAME}\")\r\n",
    "query = f'''\r\n",
    "    SELECT \r\n",
    "    agent_username, COUNT(*) AS nbre,\r\n",
    "    dsd.organisation,\r\n",
    "    dsd.timeEnd as entry_date\r\n",
    "FROM\r\n",
    "    caris_db.dreams_surveys_data dsd\r\n",
    "WHERE\r\n",
    "    dsd.timeEnd >= '{Constante.specific.value}'\r\n",
    "GROUP BY agent_username\r\n",
    "'''\r\n",
    "\r\n",
    "agent = pd.read_sql_query(query,engine,parse_dates=True)\r\n",
    "# get the test excel file from Query\r\n",
    "\r\n",
    "# close the pool of connection\r\n",
    "engine.dispose()"
   ],
   "outputs": [],
   "metadata": {}
  },
  {
   "cell_type": "markdown",
   "source": [
    "## Agent DREAMS sortant du Systeme"
   ],
   "metadata": {}
  },
  {
   "cell_type": "code",
   "execution_count": 4,
   "source": [
    "agent.rename(columns={'agent_username':'username'},inplace=True)\r\n",
    "agent"
   ],
   "outputs": [
    {
     "output_type": "execute_result",
     "data": {
      "text/html": [
       "<div>\n",
       "<style scoped>\n",
       "    .dataframe tbody tr th:only-of-type {\n",
       "        vertical-align: middle;\n",
       "    }\n",
       "\n",
       "    .dataframe tbody tr th {\n",
       "        vertical-align: top;\n",
       "    }\n",
       "\n",
       "    .dataframe thead th {\n",
       "        text-align: right;\n",
       "    }\n",
       "</style>\n",
       "<table border=\"1\" class=\"dataframe\">\n",
       "  <thead>\n",
       "    <tr style=\"text-align: right;\">\n",
       "      <th></th>\n",
       "      <th>username</th>\n",
       "      <th>nbre</th>\n",
       "      <th>organisation</th>\n",
       "      <th>entry_date</th>\n",
       "    </tr>\n",
       "  </thead>\n",
       "  <tbody>\n",
       "    <tr>\n",
       "      <th>0</th>\n",
       "      <td>1wilna</td>\n",
       "      <td>1</td>\n",
       "      <td>Caris</td>\n",
       "      <td>2021-09-13 16:31:50</td>\n",
       "    </tr>\n",
       "    <tr>\n",
       "      <th>1</th>\n",
       "      <td>2davy</td>\n",
       "      <td>50</td>\n",
       "      <td>CARIS</td>\n",
       "      <td>2021-09-13 16:51:49</td>\n",
       "    </tr>\n",
       "    <tr>\n",
       "      <th>2</th>\n",
       "      <td>2eliona</td>\n",
       "      <td>6</td>\n",
       "      <td>Caris</td>\n",
       "      <td>2021-09-15 14:35:41</td>\n",
       "    </tr>\n",
       "    <tr>\n",
       "      <th>3</th>\n",
       "      <td>2ernst</td>\n",
       "      <td>75</td>\n",
       "      <td>CARIS</td>\n",
       "      <td>2021-09-13 09:02:17</td>\n",
       "    </tr>\n",
       "    <tr>\n",
       "      <th>4</th>\n",
       "      <td>2gerald</td>\n",
       "      <td>3</td>\n",
       "      <td>CARIS</td>\n",
       "      <td>2021-09-17 15:52:39</td>\n",
       "    </tr>\n",
       "    <tr>\n",
       "      <th>5</th>\n",
       "      <td>2roselord</td>\n",
       "      <td>7</td>\n",
       "      <td>CARIS</td>\n",
       "      <td>2021-09-14 19:13:58</td>\n",
       "    </tr>\n",
       "    <tr>\n",
       "      <th>6</th>\n",
       "      <td>2wilnes</td>\n",
       "      <td>54</td>\n",
       "      <td>CARIS</td>\n",
       "      <td>2021-09-21 16:03:09</td>\n",
       "    </tr>\n",
       "    <tr>\n",
       "      <th>7</th>\n",
       "      <td>6dasline</td>\n",
       "      <td>33</td>\n",
       "      <td>CARIS</td>\n",
       "      <td>2021-09-19 15:31:49</td>\n",
       "    </tr>\n",
       "    <tr>\n",
       "      <th>8</th>\n",
       "      <td>6gerana</td>\n",
       "      <td>15</td>\n",
       "      <td>CARIS</td>\n",
       "      <td>2021-09-13 16:42:52</td>\n",
       "    </tr>\n",
       "    <tr>\n",
       "      <th>9</th>\n",
       "      <td>6kettelande</td>\n",
       "      <td>17</td>\n",
       "      <td>CARIS</td>\n",
       "      <td>2021-09-16 05:17:09</td>\n",
       "    </tr>\n",
       "    <tr>\n",
       "      <th>10</th>\n",
       "      <td>6mirtha</td>\n",
       "      <td>26</td>\n",
       "      <td>CARIS</td>\n",
       "      <td>2021-09-13 20:20:10</td>\n",
       "    </tr>\n",
       "    <tr>\n",
       "      <th>11</th>\n",
       "      <td>6stephanie</td>\n",
       "      <td>17</td>\n",
       "      <td>Caris</td>\n",
       "      <td>2021-09-14 18:10:34</td>\n",
       "    </tr>\n",
       "  </tbody>\n",
       "</table>\n",
       "</div>"
      ],
      "text/plain": [
       "       username  nbre organisation          entry_date\n",
       "0        1wilna     1        Caris 2021-09-13 16:31:50\n",
       "1         2davy    50        CARIS 2021-09-13 16:51:49\n",
       "2       2eliona     6        Caris 2021-09-15 14:35:41\n",
       "3        2ernst    75        CARIS 2021-09-13 09:02:17\n",
       "4       2gerald     3        CARIS 2021-09-17 15:52:39\n",
       "5     2roselord     7        CARIS 2021-09-14 19:13:58\n",
       "6       2wilnes    54        CARIS 2021-09-21 16:03:09\n",
       "7      6dasline    33        CARIS 2021-09-19 15:31:49\n",
       "8       6gerana    15        CARIS 2021-09-13 16:42:52\n",
       "9   6kettelande    17        CARIS 2021-09-16 05:17:09\n",
       "10      6mirtha    26        CARIS 2021-09-13 20:20:10\n",
       "11   6stephanie    17        Caris 2021-09-14 18:10:34"
      ]
     },
     "metadata": {},
     "execution_count": 4
    }
   ],
   "metadata": {}
  },
  {
   "cell_type": "code",
   "execution_count": 5,
   "source": [
    "agent_name = pd.read_excel(\"caris-test_users_7453177b42914ad2978e3c465e39dab1.xlsx\")"
   ],
   "outputs": [],
   "metadata": {}
  },
  {
   "cell_type": "code",
   "execution_count": 6,
   "source": [
    "agent_name = agent_name[[\"username\",\"name\"]]"
   ],
   "outputs": [],
   "metadata": {}
  },
  {
   "cell_type": "markdown",
   "source": [
    "## Liste de tous les agents avec Leur nom"
   ],
   "metadata": {}
  },
  {
   "cell_type": "code",
   "execution_count": 7,
   "source": [
    "agent_name"
   ],
   "outputs": [
    {
     "output_type": "execute_result",
     "data": {
      "text/html": [
       "<div>\n",
       "<style scoped>\n",
       "    .dataframe tbody tr th:only-of-type {\n",
       "        vertical-align: middle;\n",
       "    }\n",
       "\n",
       "    .dataframe tbody tr th {\n",
       "        vertical-align: top;\n",
       "    }\n",
       "\n",
       "    .dataframe thead th {\n",
       "        text-align: right;\n",
       "    }\n",
       "</style>\n",
       "<table border=\"1\" class=\"dataframe\">\n",
       "  <thead>\n",
       "    <tr style=\"text-align: right;\">\n",
       "      <th></th>\n",
       "      <th>username</th>\n",
       "      <th>name</th>\n",
       "    </tr>\n",
       "  </thead>\n",
       "  <tbody>\n",
       "    <tr>\n",
       "      <th>0</th>\n",
       "      <td>1aldonzar</td>\n",
       "      <td>elcie aldonzar</td>\n",
       "    </tr>\n",
       "    <tr>\n",
       "      <th>1</th>\n",
       "      <td>1alexandra</td>\n",
       "      <td>Alexandra Joseph</td>\n",
       "    </tr>\n",
       "    <tr>\n",
       "      <th>2</th>\n",
       "      <td>1annuelle</td>\n",
       "      <td>Annuelle Eustache</td>\n",
       "    </tr>\n",
       "    <tr>\n",
       "      <th>3</th>\n",
       "      <td>1claudius</td>\n",
       "      <td>Claudius Gladys</td>\n",
       "    </tr>\n",
       "    <tr>\n",
       "      <th>4</th>\n",
       "      <td>1coldina</td>\n",
       "      <td>Coldina Duverny</td>\n",
       "    </tr>\n",
       "    <tr>\n",
       "      <th>...</th>\n",
       "      <td>...</td>\n",
       "      <td>...</td>\n",
       "    </tr>\n",
       "    <tr>\n",
       "      <th>742</th>\n",
       "      <td>s2julnor</td>\n",
       "      <td>Julnor Beaubrun</td>\n",
       "    </tr>\n",
       "    <tr>\n",
       "      <th>743</th>\n",
       "      <td>s2mirlene</td>\n",
       "      <td>Vernet Mirlene</td>\n",
       "    </tr>\n",
       "    <tr>\n",
       "      <th>744</th>\n",
       "      <td>stfleur</td>\n",
       "      <td>Jesula St Fleur</td>\n",
       "    </tr>\n",
       "    <tr>\n",
       "      <th>745</th>\n",
       "      <td>sylvietest</td>\n",
       "      <td>sylvie rousseau</td>\n",
       "    </tr>\n",
       "    <tr>\n",
       "      <th>746</th>\n",
       "      <td>yandre</td>\n",
       "      <td>Yves Andre</td>\n",
       "    </tr>\n",
       "  </tbody>\n",
       "</table>\n",
       "<p>747 rows × 2 columns</p>\n",
       "</div>"
      ],
      "text/plain": [
       "       username               name\n",
       "0     1aldonzar     elcie aldonzar\n",
       "1    1alexandra   Alexandra Joseph\n",
       "2     1annuelle  Annuelle Eustache\n",
       "3     1claudius    Claudius Gladys\n",
       "4      1coldina    Coldina Duverny\n",
       "..          ...                ...\n",
       "742    s2julnor    Julnor Beaubrun\n",
       "743   s2mirlene     Vernet Mirlene\n",
       "744     stfleur    Jesula St Fleur\n",
       "745  sylvietest    sylvie rousseau\n",
       "746      yandre         Yves Andre\n",
       "\n",
       "[747 rows x 2 columns]"
      ]
     },
     "metadata": {},
     "execution_count": 7
    }
   ],
   "metadata": {}
  },
  {
   "cell_type": "markdown",
   "source": [
    "## MERGE (Vlookup)"
   ],
   "metadata": {}
  },
  {
   "cell_type": "code",
   "execution_count": 8,
   "source": [
    "performanceAgents = agent_name.merge(agent,on=\"username\",how=\"inner\")"
   ],
   "outputs": [],
   "metadata": {}
  },
  {
   "cell_type": "code",
   "execution_count": 9,
   "source": [
    "performanceAgents"
   ],
   "outputs": [
    {
     "output_type": "execute_result",
     "data": {
      "text/html": [
       "<div>\n",
       "<style scoped>\n",
       "    .dataframe tbody tr th:only-of-type {\n",
       "        vertical-align: middle;\n",
       "    }\n",
       "\n",
       "    .dataframe tbody tr th {\n",
       "        vertical-align: top;\n",
       "    }\n",
       "\n",
       "    .dataframe thead th {\n",
       "        text-align: right;\n",
       "    }\n",
       "</style>\n",
       "<table border=\"1\" class=\"dataframe\">\n",
       "  <thead>\n",
       "    <tr style=\"text-align: right;\">\n",
       "      <th></th>\n",
       "      <th>username</th>\n",
       "      <th>name</th>\n",
       "      <th>nbre</th>\n",
       "      <th>organisation</th>\n",
       "      <th>entry_date</th>\n",
       "    </tr>\n",
       "  </thead>\n",
       "  <tbody>\n",
       "    <tr>\n",
       "      <th>0</th>\n",
       "      <td>1wilna</td>\n",
       "      <td>Wilna Presume</td>\n",
       "      <td>1</td>\n",
       "      <td>Caris</td>\n",
       "      <td>2021-09-13 16:31:50</td>\n",
       "    </tr>\n",
       "    <tr>\n",
       "      <th>1</th>\n",
       "      <td>2davy</td>\n",
       "      <td>Jean Davy Mexil</td>\n",
       "      <td>50</td>\n",
       "      <td>CARIS</td>\n",
       "      <td>2021-09-13 16:51:49</td>\n",
       "    </tr>\n",
       "    <tr>\n",
       "      <th>2</th>\n",
       "      <td>2eliona</td>\n",
       "      <td>Eliona Fredly</td>\n",
       "      <td>6</td>\n",
       "      <td>Caris</td>\n",
       "      <td>2021-09-15 14:35:41</td>\n",
       "    </tr>\n",
       "    <tr>\n",
       "      <th>3</th>\n",
       "      <td>2ernst</td>\n",
       "      <td>Ernst Belabre</td>\n",
       "      <td>75</td>\n",
       "      <td>CARIS</td>\n",
       "      <td>2021-09-13 09:02:17</td>\n",
       "    </tr>\n",
       "    <tr>\n",
       "      <th>4</th>\n",
       "      <td>2gerald</td>\n",
       "      <td>Gerald Poteau</td>\n",
       "      <td>3</td>\n",
       "      <td>CARIS</td>\n",
       "      <td>2021-09-17 15:52:39</td>\n",
       "    </tr>\n",
       "    <tr>\n",
       "      <th>5</th>\n",
       "      <td>2roselord</td>\n",
       "      <td>Rose-Lord Despeignes</td>\n",
       "      <td>7</td>\n",
       "      <td>CARIS</td>\n",
       "      <td>2021-09-14 19:13:58</td>\n",
       "    </tr>\n",
       "    <tr>\n",
       "      <th>6</th>\n",
       "      <td>2wilnes</td>\n",
       "      <td>Gerant Louis Wilnes</td>\n",
       "      <td>54</td>\n",
       "      <td>CARIS</td>\n",
       "      <td>2021-09-21 16:03:09</td>\n",
       "    </tr>\n",
       "    <tr>\n",
       "      <th>7</th>\n",
       "      <td>6dasline</td>\n",
       "      <td>Dasline Sajet</td>\n",
       "      <td>33</td>\n",
       "      <td>CARIS</td>\n",
       "      <td>2021-09-19 15:31:49</td>\n",
       "    </tr>\n",
       "    <tr>\n",
       "      <th>8</th>\n",
       "      <td>6gerana</td>\n",
       "      <td>Gerana David</td>\n",
       "      <td>15</td>\n",
       "      <td>CARIS</td>\n",
       "      <td>2021-09-13 16:42:52</td>\n",
       "    </tr>\n",
       "    <tr>\n",
       "      <th>9</th>\n",
       "      <td>6kettelande</td>\n",
       "      <td>Kettelande Benjamin</td>\n",
       "      <td>17</td>\n",
       "      <td>CARIS</td>\n",
       "      <td>2021-09-16 05:17:09</td>\n",
       "    </tr>\n",
       "    <tr>\n",
       "      <th>10</th>\n",
       "      <td>6mirtha</td>\n",
       "      <td>Mirtha Osalva</td>\n",
       "      <td>26</td>\n",
       "      <td>CARIS</td>\n",
       "      <td>2021-09-13 20:20:10</td>\n",
       "    </tr>\n",
       "    <tr>\n",
       "      <th>11</th>\n",
       "      <td>6stephanie</td>\n",
       "      <td>Stéphanie Nelson</td>\n",
       "      <td>17</td>\n",
       "      <td>Caris</td>\n",
       "      <td>2021-09-14 18:10:34</td>\n",
       "    </tr>\n",
       "  </tbody>\n",
       "</table>\n",
       "</div>"
      ],
      "text/plain": [
       "       username                  name  nbre organisation          entry_date\n",
       "0        1wilna         Wilna Presume     1        Caris 2021-09-13 16:31:50\n",
       "1         2davy       Jean Davy Mexil    50        CARIS 2021-09-13 16:51:49\n",
       "2       2eliona         Eliona Fredly     6        Caris 2021-09-15 14:35:41\n",
       "3        2ernst         Ernst Belabre    75        CARIS 2021-09-13 09:02:17\n",
       "4       2gerald         Gerald Poteau     3        CARIS 2021-09-17 15:52:39\n",
       "5     2roselord  Rose-Lord Despeignes     7        CARIS 2021-09-14 19:13:58\n",
       "6       2wilnes   Gerant Louis Wilnes    54        CARIS 2021-09-21 16:03:09\n",
       "7      6dasline         Dasline Sajet    33        CARIS 2021-09-19 15:31:49\n",
       "8       6gerana          Gerana David    15        CARIS 2021-09-13 16:42:52\n",
       "9   6kettelande   Kettelande Benjamin    17        CARIS 2021-09-16 05:17:09\n",
       "10      6mirtha         Mirtha Osalva    26        CARIS 2021-09-13 20:20:10\n",
       "11   6stephanie      Stéphanie Nelson    17        Caris 2021-09-14 18:10:34"
      ]
     },
     "metadata": {},
     "execution_count": 9
    }
   ],
   "metadata": {}
  },
  {
   "cell_type": "code",
   "execution_count": 10,
   "source": [
    "performanceAgents.nbre.sum()"
   ],
   "outputs": [
    {
     "output_type": "execute_result",
     "data": {
      "text/plain": [
       "304"
      ]
     },
     "metadata": {},
     "execution_count": 10
    }
   ],
   "metadata": {}
  },
  {
   "cell_type": "code",
   "execution_count": 11,
   "source": [
    "import matplotlib.pyplot as plt\r\n",
    "import seaborn as sns\r\n",
    "%matplotlib inline"
   ],
   "outputs": [],
   "metadata": {}
  },
  {
   "cell_type": "code",
   "execution_count": 12,
   "source": [
    "from datetime import datetime\r\n",
    "date_du_jour = datetime.today().strftime(\"%d_%m_%Y\")"
   ],
   "outputs": [],
   "metadata": {}
  },
  {
   "cell_type": "code",
   "execution_count": 13,
   "source": [
    "orderdata = performanceAgents.nbre.sort_values().to_list()"
   ],
   "outputs": [],
   "metadata": {}
  },
  {
   "cell_type": "code",
   "execution_count": 14,
   "source": [
    "plt.figure(figsize=(16,8))\r\n",
    "#plt.subplots(figsize=(16,8))\r\n",
    "sns.set_style(\"darkgrid\")\r\n",
    "splot = sns.barplot(x=\"nbre\",y=\"name\",data=performanceAgents,color=\"Green\",order=performanceAgents.sort_values(\"nbre\",ascending=False).name,ci=False)\r\n",
    "splot.set_xlabel(\"\")\r\n",
    "splot.set_ylabel(\"\")\r\n",
    "plt.suptitle(f\"Nombre de formulaire d'enrollement saisie par les DataClerks depuis le  {Constante.specific.value}\")\r\n",
    "for p in splot.patches:\r\n",
    "    width = p.get_width()\r\n",
    "    plt.text(0.25+p.get_width(), p.get_y()+0.50*p.get_height(),\r\n",
    "             '{:1.0f}'.format(width),fontdict=dict(color=\"red\",fontsize=12))\r\n",
    "\r\n",
    "plt.annotate(\r\n",
    "    \"source: HIVHaiti\",(0,0), (-80,-20), fontsize=10, \r\n",
    "             xycoords='axes fraction', textcoords='offset points', va='top'\r\n",
    ")\r\n",
    "\r\n",
    "plt.savefig(f\"saisie_screening_{date_du_jour}\",dpi=1000)"
   ],
   "outputs": [
    {
     "output_type": "display_data",
     "data": {
      "image/png": "[encoded data removed]",
      "text/plain": [
       "<Figure size 1152x576 with 1 Axes>"
      ]
     },
     "metadata": {
      "needs_background": "light"
     }
    }
   ],
   "metadata": {}
  },
  {
   "cell_type": "code",
   "execution_count": 15,
   "source": [
    "performanceAgents.to_excel(f\"performance_formulaire_denrolement_{date_du_jour}.xlsx\",index=False,na_rep=\"NULL\")\r\n",
    "#performanceAgents.to_excel(f\"performance_formulaire_denrolement_depuis_1Mars2021.xlsx\",index=False,na_rep=\"NULL\")"
   ],
   "outputs": [],
   "metadata": {}
  }
 ],
 "metadata": {
  "interpreter": {
   "hash": "4534460e0bdca1b390927d45471088fb3501d39abc4e3f2cee293892e17d7fc6"
  },
  "kernelspec": {
   "name": "python3",
   "display_name": "Python 3.9.7 64-bit"
  },
  "language_info": {
   "codemirror_mode": {
    "name": "ipython",
    "version": 3
   },
   "file_extension": ".py",
   "mimetype": "text/x-python",
   "name": "python",
   "nbconvert_exporter": "python",
   "pygments_lexer": "ipython3",
   "version": "3.9.7"
  }
 },
 "nbformat": 4,
 "nbformat_minor": 5
}