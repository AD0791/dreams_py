{
  "cells": [
    {
      "cell_type": "code",
      "execution_count": 1,
      "id": "382c9b7f",
      "metadata": {},
      "outputs": [],
      "source": [
        "import os\n",
        "from datetime import datetime\n",
        "#from datetime import date``\n",
        "import pymysql\n",
        "from sqlalchemy import create_engine, text\n",
        "from decouple import config \n",
        "from dotenv import load_dotenv\n",
        "import pandas as pd\n",
        "from numpy import int16\n",
        "from enum import Enum\n",
        "from dataframe_image import export\n",
        "from datetime import datetime\n"
      ]
    },
    {
      "cell_type": "code",
      "execution_count": 2,
      "id": "98fbbdc6",
      "metadata": {},
      "outputs": [],
      "source": [
        "# Using enum class create enumerations\n",
        "class Constante(Enum):\n",
        "   glob = \"\"\n",
        "   specific = \"2024-01-01\"\n",
        "   end = datetime.today().strftime(\"%Y-%m-%d\")\n"
      ]
    },
    {
      "cell_type": "code",
      "execution_count": 3,
      "id": "1a836d19",
      "metadata": {},
      "outputs": [],
      "source": [
        "load_dotenv(\"../actual_caris_host.env\")\n",
        "# get the environment variables needed\n",
        "USER= config('USRCaris')\n",
        "PASSWORD= config('PASSCaris')\n",
        "HOSTNAME= config('HOSTCaris')\n",
        "DBNAME= config('DBCaris')\n",
        "# get the engine to connect and fetch\n",
        "engine = create_engine(f\"mysql+pymysql://{USER}:{PASSWORD}@{HOSTNAME}/{DBNAME}\")\n",
        "query = f'''\n",
        "    SELECT \n",
        "    agent_username, COUNT(*) AS nbre,\n",
        "    dsd.organisation,\n",
        "    dsd.timeEnd as entry_date\n",
        "FROM\n",
        "    caris_db.dreams_surveys_data dsd\n",
        "WHERE\n",
        "    dsd.timeEnd >= '{Constante.specific.value}'\n",
        "    and\n",
        "    dsd.timeEnd <= '{Constante.end.value}'\n",
        "GROUP BY agent_username\n",
        "'''\n",
        "agent = pd.read_sql_query(text(query),engine.connect(),parse_dates=True)\n",
        "# get the test excel file from Query\n",
        "# close the pool of connection\n",
        "engine.dispose()\n"
      ]
    },
    {
      "attachments": {},
      "cell_type": "markdown",
      "id": "dea2740c",
      "metadata": {},
      "source": [
        "## Agent DREAMS sortant du Systeme"
      ]
    },
    {
      "cell_type": "code",
      "execution_count": 4,
      "id": "b8269ff9",
      "metadata": {},
      "outputs": [],
      "source": [
        "agent.rename(columns={'agent_username':'username'},inplace=True)\n"
      ]
    },
    {
      "cell_type": "code",
      "execution_count": 5,
      "id": "1efffd50",
      "metadata": {},
      "outputs": [
        {
          "data": {
            "text/html": [
              "<div>\n",
              "<style scoped>\n",
              "    .dataframe tbody tr th:only-of-type {\n",
              "        vertical-align: middle;\n",
              "    }\n",
              "\n",
              "    .dataframe tbody tr th {\n",
              "        vertical-align: top;\n",
              "    }\n",
              "\n",
              "    .dataframe thead th {\n",
              "        text-align: right;\n",
              "    }\n",
              "</style>\n",
              "<table border=\"1\" class=\"dataframe\">\n",
              "  <thead>\n",
              "    <tr style=\"text-align: right;\">\n",
              "      <th></th>\n",
              "      <th>username</th>\n",
              "      <th>nbre</th>\n",
              "      <th>organisation</th>\n",
              "      <th>entry_date</th>\n",
              "    </tr>\n",
              "  </thead>\n",
              "  <tbody>\n",
              "    <tr>\n",
              "      <th>0</th>\n",
              "      <td>2fabrice</td>\n",
              "      <td>26</td>\n",
              "      <td>Caris</td>\n",
              "      <td>2024-01-12 20:57:02</td>\n",
              "    </tr>\n",
              "    <tr>\n",
              "      <th>1</th>\n",
              "      <td>2eliona</td>\n",
              "      <td>12</td>\n",
              "      <td>Caris</td>\n",
              "      <td>2024-01-12 21:13:34</td>\n",
              "    </tr>\n",
              "    <tr>\n",
              "      <th>2</th>\n",
              "      <td>2woodridchard</td>\n",
              "      <td>40</td>\n",
              "      <td>Caris</td>\n",
              "      <td>2024-01-12 15:12:33</td>\n",
              "    </tr>\n",
              "    <tr>\n",
              "      <th>3</th>\n",
              "      <td>1mondesir</td>\n",
              "      <td>9</td>\n",
              "      <td>Caris</td>\n",
              "      <td>2024-01-09 20:57:33</td>\n",
              "    </tr>\n",
              "  </tbody>\n",
              "</table>\n",
              "</div>"
            ],
            "text/plain": [
              "        username  nbre organisation          entry_date\n",
              "0       2fabrice    26        Caris 2024-01-12 20:57:02\n",
              "1        2eliona    12        Caris 2024-01-12 21:13:34\n",
              "2  2woodridchard    40        Caris 2024-01-12 15:12:33\n",
              "3      1mondesir     9        Caris 2024-01-09 20:57:33"
            ]
          },
          "execution_count": 5,
          "metadata": {},
          "output_type": "execute_result"
        }
      ],
      "source": [
        "agent\n"
      ]
    },
    {
      "cell_type": "code",
      "execution_count": 6,
      "id": "95307189",
      "metadata": {},
      "outputs": [],
      "source": [
        "agent_name = pd.read_excel(\"caris-test_users_454b1dc1e6b84462acd0dd16a54c42d6.xlsx\")\n",
        "agent_past_data = pd.read_excel(\"performance_formulaire_denrolement.xlsx\")\n"
      ]
    },
    {
      "cell_type": "code",
      "execution_count": 7,
      "id": "891646e8",
      "metadata": {},
      "outputs": [],
      "source": [
        "agent_name = agent_name[[\"username\",\"name\"]]\n"
      ]
    },
    {
      "attachments": {},
      "cell_type": "markdown",
      "id": "5c3c143b",
      "metadata": {},
      "source": [
        "## Liste de tous les agents avec Leur nom"
      ]
    },
    {
      "cell_type": "code",
      "execution_count": 8,
      "id": "e735acc1",
      "metadata": {},
      "outputs": [
        {
          "data": {
            "text/html": [
              "<div>\n",
              "<style scoped>\n",
              "    .dataframe tbody tr th:only-of-type {\n",
              "        vertical-align: middle;\n",
              "    }\n",
              "\n",
              "    .dataframe tbody tr th {\n",
              "        vertical-align: top;\n",
              "    }\n",
              "\n",
              "    .dataframe thead th {\n",
              "        text-align: right;\n",
              "    }\n",
              "</style>\n",
              "<table border=\"1\" class=\"dataframe\">\n",
              "  <thead>\n",
              "    <tr style=\"text-align: right;\">\n",
              "      <th></th>\n",
              "      <th>username</th>\n",
              "      <th>name</th>\n",
              "    </tr>\n",
              "  </thead>\n",
              "  <tbody>\n",
              "    <tr>\n",
              "      <th>0</th>\n",
              "      <td>1aldonzar</td>\n",
              "      <td>elcie aldonzar</td>\n",
              "    </tr>\n",
              "    <tr>\n",
              "      <th>1</th>\n",
              "      <td>1annuelle</td>\n",
              "      <td>Annuelle Eustache</td>\n",
              "    </tr>\n",
              "    <tr>\n",
              "      <th>2</th>\n",
              "      <td>1bycinthe</td>\n",
              "      <td>Roberthe Bycinthe</td>\n",
              "    </tr>\n",
              "    <tr>\n",
              "      <th>3</th>\n",
              "      <td>1chrislyne</td>\n",
              "      <td>Chrislyne Bien Aimée</td>\n",
              "    </tr>\n",
              "    <tr>\n",
              "      <th>4</th>\n",
              "      <td>1claudius</td>\n",
              "      <td>Claudius Gladys</td>\n",
              "    </tr>\n",
              "    <tr>\n",
              "      <th>...</th>\n",
              "      <td>...</td>\n",
              "      <td>...</td>\n",
              "    </tr>\n",
              "    <tr>\n",
              "      <th>849</th>\n",
              "      <td>vvillard</td>\n",
              "      <td>Vilner Villard</td>\n",
              "    </tr>\n",
              "    <tr>\n",
              "      <th>850</th>\n",
              "      <td>wbeauplan</td>\n",
              "      <td>Willins Beauplan</td>\n",
              "    </tr>\n",
              "    <tr>\n",
              "      <th>851</th>\n",
              "      <td>yandre</td>\n",
              "      <td>Yves Andre</td>\n",
              "    </tr>\n",
              "    <tr>\n",
              "      <th>852</th>\n",
              "      <td>yvon</td>\n",
              "      <td>Yvon Antoine</td>\n",
              "    </tr>\n",
              "    <tr>\n",
              "      <th>853</th>\n",
              "      <td>zillorsaint</td>\n",
              "      <td>Zaro Illorsaint</td>\n",
              "    </tr>\n",
              "  </tbody>\n",
              "</table>\n",
              "<p>854 rows × 2 columns</p>\n",
              "</div>"
            ],
            "text/plain": [
              "        username                  name\n",
              "0      1aldonzar        elcie aldonzar\n",
              "1      1annuelle     Annuelle Eustache\n",
              "2      1bycinthe     Roberthe Bycinthe\n",
              "3     1chrislyne  Chrislyne Bien Aimée\n",
              "4      1claudius       Claudius Gladys\n",
              "..           ...                   ...\n",
              "849     vvillard        Vilner Villard\n",
              "850    wbeauplan      Willins Beauplan\n",
              "851       yandre            Yves Andre\n",
              "852         yvon          Yvon Antoine\n",
              "853  zillorsaint       Zaro Illorsaint\n",
              "\n",
              "[854 rows x 2 columns]"
            ]
          },
          "execution_count": 8,
          "metadata": {},
          "output_type": "execute_result"
        }
      ],
      "source": [
        "agent_name\n"
      ]
    },
    {
      "cell_type": "code",
      "execution_count": 9,
      "id": "9d582757",
      "metadata": {},
      "outputs": [],
      "source": [
        "agent_name = agent_name.merge(agent,on=\"username\",how=\"inner\")\n"
      ]
    },
    {
      "cell_type": "code",
      "execution_count": 10,
      "id": "3386eef9",
      "metadata": {},
      "outputs": [],
      "source": [
        "agent_name.sort_values(by=['nbre'],ascending=False,inplace=True)\n"
      ]
    },
    {
      "cell_type": "code",
      "execution_count": 11,
      "id": "6e86d92e",
      "metadata": {},
      "outputs": [
        {
          "data": {
            "text/html": [
              "<div>\n",
              "<style scoped>\n",
              "    .dataframe tbody tr th:only-of-type {\n",
              "        vertical-align: middle;\n",
              "    }\n",
              "\n",
              "    .dataframe tbody tr th {\n",
              "        vertical-align: top;\n",
              "    }\n",
              "\n",
              "    .dataframe thead th {\n",
              "        text-align: right;\n",
              "    }\n",
              "</style>\n",
              "<table border=\"1\" class=\"dataframe\">\n",
              "  <thead>\n",
              "    <tr style=\"text-align: right;\">\n",
              "      <th></th>\n",
              "      <th>username</th>\n",
              "      <th>name</th>\n",
              "      <th>nbre</th>\n",
              "      <th>organisation</th>\n",
              "      <th>entry_date</th>\n",
              "    </tr>\n",
              "  </thead>\n",
              "  <tbody>\n",
              "    <tr>\n",
              "      <th>3</th>\n",
              "      <td>2woodridchard</td>\n",
              "      <td>Wood-Ridchard Bon</td>\n",
              "      <td>40</td>\n",
              "      <td>Caris</td>\n",
              "      <td>2024-01-12 15:12:33</td>\n",
              "    </tr>\n",
              "    <tr>\n",
              "      <th>2</th>\n",
              "      <td>2fabrice</td>\n",
              "      <td>Fabrice Byron</td>\n",
              "      <td>26</td>\n",
              "      <td>Caris</td>\n",
              "      <td>2024-01-12 20:57:02</td>\n",
              "    </tr>\n",
              "    <tr>\n",
              "      <th>1</th>\n",
              "      <td>2eliona</td>\n",
              "      <td>Eliona Fredly</td>\n",
              "      <td>12</td>\n",
              "      <td>Caris</td>\n",
              "      <td>2024-01-12 21:13:34</td>\n",
              "    </tr>\n",
              "    <tr>\n",
              "      <th>0</th>\n",
              "      <td>1mondesir</td>\n",
              "      <td>Elande Mondésir</td>\n",
              "      <td>9</td>\n",
              "      <td>Caris</td>\n",
              "      <td>2024-01-09 20:57:33</td>\n",
              "    </tr>\n",
              "  </tbody>\n",
              "</table>\n",
              "</div>"
            ],
            "text/plain": [
              "        username               name  nbre organisation          entry_date\n",
              "3  2woodridchard  Wood-Ridchard Bon    40        Caris 2024-01-12 15:12:33\n",
              "2       2fabrice      Fabrice Byron    26        Caris 2024-01-12 20:57:02\n",
              "1        2eliona      Eliona Fredly    12        Caris 2024-01-12 21:13:34\n",
              "0      1mondesir    Elande Mondésir     9        Caris 2024-01-09 20:57:33"
            ]
          },
          "execution_count": 11,
          "metadata": {},
          "output_type": "execute_result"
        }
      ],
      "source": [
        "agent_name\n"
      ]
    },
    {
      "cell_type": "code",
      "execution_count": 12,
      "id": "d2c069e1",
      "metadata": {},
      "outputs": [],
      "source": [
        "agent_past_data = agent_past_data[[\"username\",\"nbre\"]]\n"
      ]
    },
    {
      "cell_type": "code",
      "execution_count": 13,
      "id": "37f38a87",
      "metadata": {},
      "outputs": [],
      "source": [
        "agent_past_data.rename(columns={'nbre':'past_entry'},inplace=True)\n"
      ]
    },
    {
      "cell_type": "code",
      "execution_count": 14,
      "id": "897ee7a7",
      "metadata": {},
      "outputs": [],
      "source": [
        "agent_name = agent_name.merge(agent_past_data,on=\"username\",how=\"left\")\n",
        "agent_name.fillna(0,inplace=True)\n"
      ]
    },
    {
      "cell_type": "code",
      "execution_count": 15,
      "id": "8b5b1a86",
      "metadata": {},
      "outputs": [],
      "source": [
        "agent_name['nbre_new_entry'] = agent_name['nbre'] - agent_name['past_entry']\n"
      ]
    },
    {
      "cell_type": "code",
      "execution_count": 16,
      "id": "3f45e13f",
      "metadata": {},
      "outputs": [
        {
          "data": {
            "text/html": [
              "<div>\n",
              "<style scoped>\n",
              "    .dataframe tbody tr th:only-of-type {\n",
              "        vertical-align: middle;\n",
              "    }\n",
              "\n",
              "    .dataframe tbody tr th {\n",
              "        vertical-align: top;\n",
              "    }\n",
              "\n",
              "    .dataframe thead th {\n",
              "        text-align: right;\n",
              "    }\n",
              "</style>\n",
              "<table border=\"1\" class=\"dataframe\">\n",
              "  <thead>\n",
              "    <tr style=\"text-align: right;\">\n",
              "      <th></th>\n",
              "      <th>username</th>\n",
              "      <th>name</th>\n",
              "      <th>nbre</th>\n",
              "      <th>organisation</th>\n",
              "      <th>entry_date</th>\n",
              "      <th>past_entry</th>\n",
              "      <th>nbre_new_entry</th>\n",
              "    </tr>\n",
              "  </thead>\n",
              "  <tbody>\n",
              "    <tr>\n",
              "      <th>0</th>\n",
              "      <td>2woodridchard</td>\n",
              "      <td>Wood-Ridchard Bon</td>\n",
              "      <td>40</td>\n",
              "      <td>Caris</td>\n",
              "      <td>2024-01-12 15:12:33</td>\n",
              "      <td>0.0</td>\n",
              "      <td>40.0</td>\n",
              "    </tr>\n",
              "    <tr>\n",
              "      <th>1</th>\n",
              "      <td>2fabrice</td>\n",
              "      <td>Fabrice Byron</td>\n",
              "      <td>26</td>\n",
              "      <td>Caris</td>\n",
              "      <td>2024-01-12 20:57:02</td>\n",
              "      <td>68.0</td>\n",
              "      <td>-42.0</td>\n",
              "    </tr>\n",
              "    <tr>\n",
              "      <th>2</th>\n",
              "      <td>2eliona</td>\n",
              "      <td>Eliona Fredly</td>\n",
              "      <td>12</td>\n",
              "      <td>Caris</td>\n",
              "      <td>2024-01-12 21:13:34</td>\n",
              "      <td>22.0</td>\n",
              "      <td>-10.0</td>\n",
              "    </tr>\n",
              "    <tr>\n",
              "      <th>3</th>\n",
              "      <td>1mondesir</td>\n",
              "      <td>Elande Mondésir</td>\n",
              "      <td>9</td>\n",
              "      <td>Caris</td>\n",
              "      <td>2024-01-09 20:57:33</td>\n",
              "      <td>216.0</td>\n",
              "      <td>-207.0</td>\n",
              "    </tr>\n",
              "  </tbody>\n",
              "</table>\n",
              "</div>"
            ],
            "text/plain": [
              "        username               name  nbre organisation          entry_date  \\\n",
              "0  2woodridchard  Wood-Ridchard Bon    40        Caris 2024-01-12 15:12:33   \n",
              "1       2fabrice      Fabrice Byron    26        Caris 2024-01-12 20:57:02   \n",
              "2        2eliona      Eliona Fredly    12        Caris 2024-01-12 21:13:34   \n",
              "3      1mondesir    Elande Mondésir     9        Caris 2024-01-09 20:57:33   \n",
              "\n",
              "   past_entry  nbre_new_entry  \n",
              "0         0.0            40.0  \n",
              "1        68.0           -42.0  \n",
              "2        22.0           -10.0  \n",
              "3       216.0          -207.0  "
            ]
          },
          "execution_count": 16,
          "metadata": {},
          "output_type": "execute_result"
        }
      ],
      "source": [
        "agent_name\n"
      ]
    },
    {
      "cell_type": "code",
      "execution_count": 17,
      "id": "c5c12940",
      "metadata": {},
      "outputs": [],
      "source": [
        "agent_name = agent_name[['username','name','nbre','nbre_new_entry','organisation','entry_date']]\n"
      ]
    },
    {
      "cell_type": "code",
      "execution_count": 18,
      "id": "f646d44a",
      "metadata": {},
      "outputs": [
        {
          "name": "stderr",
          "output_type": "stream",
          "text": [
            "/var/folders/7v/rs0k237d6nj3vdxfc1h7xtcw0000gn/T/ipykernel_30089/3287235938.py:1: SettingWithCopyWarning: \n",
            "A value is trying to be set on a copy of a slice from a DataFrame.\n",
            "Try using .loc[row_indexer,col_indexer] = value instead\n",
            "\n",
            "See the caveats in the documentation: https://pandas.pydata.org/pandas-docs/stable/user_guide/indexing.html#returning-a-view-versus-a-copy\n",
            "  agent_name.nbre_new_entry = agent_name.nbre_new_entry.astype(int)\n"
          ]
        }
      ],
      "source": [
        "agent_name.nbre_new_entry = agent_name.nbre_new_entry.astype(int)\n"
      ]
    },
    {
      "cell_type": "code",
      "execution_count": 19,
      "id": "81a893ff",
      "metadata": {},
      "outputs": [
        {
          "data": {
            "text/html": [
              "<div>\n",
              "<style scoped>\n",
              "    .dataframe tbody tr th:only-of-type {\n",
              "        vertical-align: middle;\n",
              "    }\n",
              "\n",
              "    .dataframe tbody tr th {\n",
              "        vertical-align: top;\n",
              "    }\n",
              "\n",
              "    .dataframe thead th {\n",
              "        text-align: right;\n",
              "    }\n",
              "</style>\n",
              "<table border=\"1\" class=\"dataframe\">\n",
              "  <thead>\n",
              "    <tr style=\"text-align: right;\">\n",
              "      <th></th>\n",
              "      <th>username</th>\n",
              "      <th>name</th>\n",
              "      <th>nbre</th>\n",
              "      <th>nbre_new_entry</th>\n",
              "      <th>organisation</th>\n",
              "      <th>entry_date</th>\n",
              "    </tr>\n",
              "  </thead>\n",
              "  <tbody>\n",
              "    <tr>\n",
              "      <th>0</th>\n",
              "      <td>2woodridchard</td>\n",
              "      <td>Wood-Ridchard Bon</td>\n",
              "      <td>40</td>\n",
              "      <td>40</td>\n",
              "      <td>Caris</td>\n",
              "      <td>2024-01-12 15:12:33</td>\n",
              "    </tr>\n",
              "    <tr>\n",
              "      <th>1</th>\n",
              "      <td>2fabrice</td>\n",
              "      <td>Fabrice Byron</td>\n",
              "      <td>26</td>\n",
              "      <td>-42</td>\n",
              "      <td>Caris</td>\n",
              "      <td>2024-01-12 20:57:02</td>\n",
              "    </tr>\n",
              "    <tr>\n",
              "      <th>2</th>\n",
              "      <td>2eliona</td>\n",
              "      <td>Eliona Fredly</td>\n",
              "      <td>12</td>\n",
              "      <td>-10</td>\n",
              "      <td>Caris</td>\n",
              "      <td>2024-01-12 21:13:34</td>\n",
              "    </tr>\n",
              "    <tr>\n",
              "      <th>3</th>\n",
              "      <td>1mondesir</td>\n",
              "      <td>Elande Mondésir</td>\n",
              "      <td>9</td>\n",
              "      <td>-207</td>\n",
              "      <td>Caris</td>\n",
              "      <td>2024-01-09 20:57:33</td>\n",
              "    </tr>\n",
              "  </tbody>\n",
              "</table>\n",
              "</div>"
            ],
            "text/plain": [
              "        username               name  nbre  nbre_new_entry organisation  \\\n",
              "0  2woodridchard  Wood-Ridchard Bon    40              40        Caris   \n",
              "1       2fabrice      Fabrice Byron    26             -42        Caris   \n",
              "2        2eliona      Eliona Fredly    12             -10        Caris   \n",
              "3      1mondesir    Elande Mondésir     9            -207        Caris   \n",
              "\n",
              "           entry_date  \n",
              "0 2024-01-12 15:12:33  \n",
              "1 2024-01-12 20:57:02  \n",
              "2 2024-01-12 21:13:34  \n",
              "3 2024-01-09 20:57:33  "
            ]
          },
          "execution_count": 19,
          "metadata": {},
          "output_type": "execute_result"
        }
      ],
      "source": [
        "agent_name\n"
      ]
    },
    {
      "attachments": {},
      "cell_type": "markdown",
      "id": "03be432a",
      "metadata": {},
      "source": [
        "## MERGE (Vlookup)"
      ]
    },
    {
      "cell_type": "code",
      "execution_count": 20,
      "id": "e3414d5b",
      "metadata": {},
      "outputs": [],
      "source": [
        "performanceAgents = agent_name\n"
      ]
    },
    {
      "cell_type": "code",
      "execution_count": 21,
      "id": "a35226c5",
      "metadata": {},
      "outputs": [
        {
          "data": {
            "text/plain": [
              "87"
            ]
          },
          "execution_count": 21,
          "metadata": {},
          "output_type": "execute_result"
        }
      ],
      "source": [
        "performanceAgents.nbre.sum()\n"
      ]
    },
    {
      "cell_type": "code",
      "execution_count": 22,
      "id": "f8202ca6",
      "metadata": {},
      "outputs": [
        {
          "data": {
            "text/html": [
              "<div>\n",
              "<style scoped>\n",
              "    .dataframe tbody tr th:only-of-type {\n",
              "        vertical-align: middle;\n",
              "    }\n",
              "\n",
              "    .dataframe tbody tr th {\n",
              "        vertical-align: top;\n",
              "    }\n",
              "\n",
              "    .dataframe thead th {\n",
              "        text-align: right;\n",
              "    }\n",
              "</style>\n",
              "<table border=\"1\" class=\"dataframe\">\n",
              "  <thead>\n",
              "    <tr style=\"text-align: right;\">\n",
              "      <th></th>\n",
              "      <th>username</th>\n",
              "      <th>name</th>\n",
              "      <th>nbre</th>\n",
              "      <th>nbre_new_entry</th>\n",
              "      <th>organisation</th>\n",
              "      <th>entry_date</th>\n",
              "    </tr>\n",
              "  </thead>\n",
              "  <tbody>\n",
              "    <tr>\n",
              "      <th>0</th>\n",
              "      <td>2woodridchard</td>\n",
              "      <td>Wood-Ridchard Bon</td>\n",
              "      <td>40</td>\n",
              "      <td>40</td>\n",
              "      <td>Caris</td>\n",
              "      <td>2024-01-12 15:12:33</td>\n",
              "    </tr>\n",
              "    <tr>\n",
              "      <th>1</th>\n",
              "      <td>2fabrice</td>\n",
              "      <td>Fabrice Byron</td>\n",
              "      <td>26</td>\n",
              "      <td>-42</td>\n",
              "      <td>Caris</td>\n",
              "      <td>2024-01-12 20:57:02</td>\n",
              "    </tr>\n",
              "    <tr>\n",
              "      <th>2</th>\n",
              "      <td>2eliona</td>\n",
              "      <td>Eliona Fredly</td>\n",
              "      <td>12</td>\n",
              "      <td>-10</td>\n",
              "      <td>Caris</td>\n",
              "      <td>2024-01-12 21:13:34</td>\n",
              "    </tr>\n",
              "    <tr>\n",
              "      <th>3</th>\n",
              "      <td>1mondesir</td>\n",
              "      <td>Elande Mondésir</td>\n",
              "      <td>9</td>\n",
              "      <td>-207</td>\n",
              "      <td>Caris</td>\n",
              "      <td>2024-01-09 20:57:33</td>\n",
              "    </tr>\n",
              "  </tbody>\n",
              "</table>\n",
              "</div>"
            ],
            "text/plain": [
              "        username               name  nbre  nbre_new_entry organisation  \\\n",
              "0  2woodridchard  Wood-Ridchard Bon    40              40        Caris   \n",
              "1       2fabrice      Fabrice Byron    26             -42        Caris   \n",
              "2        2eliona      Eliona Fredly    12             -10        Caris   \n",
              "3      1mondesir    Elande Mondésir     9            -207        Caris   \n",
              "\n",
              "           entry_date  \n",
              "0 2024-01-12 15:12:33  \n",
              "1 2024-01-12 20:57:02  \n",
              "2 2024-01-12 21:13:34  \n",
              "3 2024-01-09 20:57:33  "
            ]
          },
          "execution_count": 22,
          "metadata": {},
          "output_type": "execute_result"
        }
      ],
      "source": [
        "performanceAgents\n"
      ]
    },
    {
      "cell_type": "code",
      "execution_count": 23,
      "id": "e7a30934",
      "metadata": {},
      "outputs": [],
      "source": [
        "import matplotlib.pyplot as plt\n",
        "import seaborn as sns\n",
        "%matplotlib inline\n"
      ]
    },
    {
      "cell_type": "code",
      "execution_count": 24,
      "id": "a408764f",
      "metadata": {},
      "outputs": [],
      "source": [
        "from datetime import datetime\n",
        "date_du_jour = datetime.today().strftime(\"%d_%m_%Y\")\n"
      ]
    },
    {
      "cell_type": "code",
      "execution_count": 25,
      "id": "aa8db1d0",
      "metadata": {},
      "outputs": [],
      "source": [
        "orderdata = performanceAgents.nbre.sort_values().to_list()\n"
      ]
    },
    {
      "cell_type": "code",
      "execution_count": 26,
      "id": "8f613dd7",
      "metadata": {},
      "outputs": [
        {
          "name": "stderr",
          "output_type": "stream",
          "text": [
            "/var/folders/7v/rs0k237d6nj3vdxfc1h7xtcw0000gn/T/ipykernel_30089/605691686.py:5: FutureWarning: \n",
            "\n",
            "The `ci` parameter is deprecated. Use `errorbar=('ci', False)` for the same effect.\n",
            "\n",
            "  splot = sns.barplot(x=\"nbre\",y=\"name\",data=performanceAgents,color=\"Green\",order=performanceAgents.sort_values(\"nbre\",ascending=False).name,ci=False)\n"
          ]
        },
        {
          "data": {
            "image/png": "[encoded data removed]",
            "text/plain": [
              "<Figure size 1600x800 with 1 Axes>"
            ]
          },
          "metadata": {},
          "output_type": "display_data"
        }
      ],
      "source": [
        "try:\n",
        "    plt.figure(figsize=(16,8))\n",
        "    #plt.subplots(figsize=(16,8))\n",
        "    sns.set_style(\"darkgrid\")\n",
        "    splot = sns.barplot(x=\"nbre\",y=\"name\",data=performanceAgents,color=\"Green\",order=performanceAgents.sort_values(\"nbre\",ascending=False).name,ci=False)\n",
        "    splot.set_xlabel(\"\")\n",
        "    splot.set_ylabel(\"\")\n",
        "    plt.suptitle(f\"Nombre de formulaire d'enrollement saisie par les DataClerks depuis le  {Constante.specific.value}\")\n",
        "    for p in splot.patches:\n",
        "        width = p.get_width()\n",
        "        plt.text(0.25+p.get_width(), p.get_y()+0.50*p.get_height(),\n",
        "                '{:1.0f}'.format(width),fontdict=dict(color=\"red\",fontsize=12))\n",
        "\n",
        "    plt.annotate(\n",
        "        \"source: HIVHaiti\",(0,0), (-80,-20), fontsize=10, \n",
        "                xycoords='axes fraction', textcoords='offset points', va='top'\n",
        "    )\n",
        "\n",
        "    #plt.savefig(f\"saisie_screening_{date_du_jour}\",dpi=1000)\n",
        "except ValueError:\n",
        "    print(\"No data is avalaible\")\n"
      ]
    },
    {
      "cell_type": "code",
      "execution_count": 27,
      "id": "6f65374e",
      "metadata": {},
      "outputs": [
        {
          "data": {
            "text/plain": [
              "87"
            ]
          },
          "execution_count": 27,
          "metadata": {},
          "output_type": "execute_result"
        }
      ],
      "source": [
        "performanceAgents.nbre.sum()\n"
      ]
    },
    {
      "cell_type": "code",
      "execution_count": 28,
      "id": "2318daf3",
      "metadata": {},
      "outputs": [
        {
          "data": {
            "text/plain": [
              "-219"
            ]
          },
          "execution_count": 28,
          "metadata": {},
          "output_type": "execute_result"
        }
      ],
      "source": [
        "performanceAgents.nbre_new_entry.sum()\n"
      ]
    },
    {
      "cell_type": "code",
      "execution_count": 29,
      "id": "9ef7c66b",
      "metadata": {},
      "outputs": [],
      "source": [
        "performanceAgents.to_excel(f\"performance_formulaire_denrolement.xlsx\",index=False,na_rep=\"NULL\")\n",
        "#performanceAgents.to_excel(f\"performance_formulaire_denrolement_{date_du_jour}.xlsx\",index=False,na_rep=\"NULL\")\n",
        "#performanceAgents.to_excel(f\"performance_formulaire_denrolement_depuis_1Mars2021.xlsx\",index=False,na_rep=\"NULL\")\n"
      ]
    },
    {
      "cell_type": "code",
      "execution_count": null,
      "id": "ee347cab",
      "metadata": {},
      "outputs": [],
      "source": []
    }
  ],
  "metadata": {
    "interpreter": {
      "hash": "b460384b52104c1e5b9cf54bee46a255d22b2bef338f75ac4ad5d48196028d3c"
    },
    "kernelspec": {
      "display_name": "Python 3.10.4 64-bit",
      "language": "python",
      "name": "python3"
    },
    "language_info": {
      "codemirror_mode": {
        "name": "ipython",
        "version": 3
      },
      "file_extension": ".py",
      "mimetype": "text/x-python",
      "name": "python",
      "nbconvert_exporter": "python",
      "pygments_lexer": "ipython3",
      "version": "3.11.2"
    }
  },
  "nbformat": 4,
  "nbformat_minor": 5
}
