{
 "cells": [
  {
   "cell_type": "code",
   "execution_count": 46,
   "source": [
    "import os\r\n",
    "from datetime import datetime\r\n",
    "#from datetime import date\r\n",
    "import pymysql\r\n",
    "from sqlalchemy import create_engine\r\n",
    "from decouple import config \r\n",
    "from dotenv import load_dotenv\r\n",
    "import pandas as pd\r\n",
    "from numpy import int16\r\n",
    "from enum import Enum"
   ],
   "outputs": [],
   "metadata": {}
  },
  {
   "cell_type": "code",
   "execution_count": 47,
   "source": [
    "# Using enum class create enumerations\r\n",
    "class Constante(Enum):\r\n",
    "   march_1_2021 = \"2021-03-01\"\r\n",
    "   specific = \"2021-09-06\""
   ],
   "outputs": [],
   "metadata": {}
  },
  {
   "cell_type": "code",
   "execution_count": 48,
   "source": [
    "load_dotenv()\r\n",
    "# get the environment variables needed\r\n",
    "USER= config('USRCaris')\r\n",
    "PASSWORD= config('PASSCaris')\r\n",
    "HOSTNAME= config('HOSTCaris')\r\n",
    "DBNAME= config('DBCaris')\r\n",
    "\r\n",
    "# get the engine to connect and fetch\r\n",
    "engine = create_engine(f\"mysql+pymysql://{USER}:{PASSWORD}@{HOSTNAME}/{DBNAME}\")\r\n",
    "query = f'''\r\n",
    "    SELECT \r\n",
    "    agent_username, COUNT(*) AS nbre,\r\n",
    "    dsd.organisation,\r\n",
    "    dsd.timeEnd as entry_date\r\n",
    "FROM\r\n",
    "    caris_db.dreams_surveys_data dsd\r\n",
    "WHERE\r\n",
    "    dsd.timeEnd >= '{Constante.specific.value}'\r\n",
    "GROUP BY agent_username\r\n",
    "'''\r\n",
    "\r\n",
    "agent = pd.read_sql_query(query,engine,parse_dates=True)\r\n",
    "# get the test excel file from Query\r\n",
    "\r\n",
    "# close the pool of connection\r\n",
    "engine.dispose()"
   ],
   "outputs": [],
   "metadata": {}
  },
  {
   "cell_type": "markdown",
   "source": [
    "## Agent DREAMS sortant du Systeme"
   ],
   "metadata": {}
  },
  {
   "cell_type": "code",
   "execution_count": 49,
   "source": [
    "agent.rename(columns={'agent_username':'username'},inplace=True)\r\n",
    "agent"
   ],
   "outputs": [
    {
     "output_type": "execute_result",
     "data": {
      "text/html": [
       "<div>\n",
       "<style scoped>\n",
       "    .dataframe tbody tr th:only-of-type {\n",
       "        vertical-align: middle;\n",
       "    }\n",
       "\n",
       "    .dataframe tbody tr th {\n",
       "        vertical-align: top;\n",
       "    }\n",
       "\n",
       "    .dataframe thead th {\n",
       "        text-align: right;\n",
       "    }\n",
       "</style>\n",
       "<table border=\"1\" class=\"dataframe\">\n",
       "  <thead>\n",
       "    <tr style=\"text-align: right;\">\n",
       "      <th></th>\n",
       "      <th>username</th>\n",
       "      <th>nbre</th>\n",
       "      <th>organisation</th>\n",
       "      <th>entry_date</th>\n",
       "    </tr>\n",
       "  </thead>\n",
       "  <tbody>\n",
       "    <tr>\n",
       "      <th>0</th>\n",
       "      <td>2davy</td>\n",
       "      <td>16</td>\n",
       "      <td>CARIS</td>\n",
       "      <td>2021-09-06 19:36:29</td>\n",
       "    </tr>\n",
       "    <tr>\n",
       "      <th>1</th>\n",
       "      <td>2diegoarmando</td>\n",
       "      <td>5</td>\n",
       "      <td>CARIS</td>\n",
       "      <td>2021-09-06 15:28:13</td>\n",
       "    </tr>\n",
       "    <tr>\n",
       "      <th>2</th>\n",
       "      <td>2eliona</td>\n",
       "      <td>15</td>\n",
       "      <td>CARIS</td>\n",
       "      <td>2021-09-06 19:12:16</td>\n",
       "    </tr>\n",
       "    <tr>\n",
       "      <th>3</th>\n",
       "      <td>2ernst</td>\n",
       "      <td>23</td>\n",
       "      <td>CARIS</td>\n",
       "      <td>2021-09-08 07:54:39</td>\n",
       "    </tr>\n",
       "    <tr>\n",
       "      <th>4</th>\n",
       "      <td>2gerald</td>\n",
       "      <td>43</td>\n",
       "      <td>CARIS</td>\n",
       "      <td>2021-09-07 14:56:34</td>\n",
       "    </tr>\n",
       "    <tr>\n",
       "      <th>5</th>\n",
       "      <td>2roselord</td>\n",
       "      <td>21</td>\n",
       "      <td>CARIS</td>\n",
       "      <td>2021-09-07 14:34:33</td>\n",
       "    </tr>\n",
       "    <tr>\n",
       "      <th>6</th>\n",
       "      <td>2wilnes</td>\n",
       "      <td>8</td>\n",
       "      <td>CARIS</td>\n",
       "      <td>2021-09-08 18:49:40</td>\n",
       "    </tr>\n",
       "    <tr>\n",
       "      <th>7</th>\n",
       "      <td>2woodridchard</td>\n",
       "      <td>46</td>\n",
       "      <td>CARIS</td>\n",
       "      <td>2021-09-07 15:11:17</td>\n",
       "    </tr>\n",
       "    <tr>\n",
       "      <th>8</th>\n",
       "      <td>6celimene</td>\n",
       "      <td>2</td>\n",
       "      <td>CARIS</td>\n",
       "      <td>2021-09-08 15:25:52</td>\n",
       "    </tr>\n",
       "    <tr>\n",
       "      <th>9</th>\n",
       "      <td>6gerana</td>\n",
       "      <td>24</td>\n",
       "      <td>CARIS</td>\n",
       "      <td>2021-09-07 16:18:41</td>\n",
       "    </tr>\n",
       "    <tr>\n",
       "      <th>10</th>\n",
       "      <td>6idalise</td>\n",
       "      <td>1</td>\n",
       "      <td>CARIS</td>\n",
       "      <td>2021-09-06 16:35:54</td>\n",
       "    </tr>\n",
       "    <tr>\n",
       "      <th>11</th>\n",
       "      <td>6kettelande</td>\n",
       "      <td>10</td>\n",
       "      <td>CARIS</td>\n",
       "      <td>2021-09-07 01:56:57</td>\n",
       "    </tr>\n",
       "  </tbody>\n",
       "</table>\n",
       "</div>"
      ],
      "text/plain": [
       "         username  nbre organisation          entry_date\n",
       "0           2davy    16        CARIS 2021-09-06 19:36:29\n",
       "1   2diegoarmando     5        CARIS 2021-09-06 15:28:13\n",
       "2         2eliona    15        CARIS 2021-09-06 19:12:16\n",
       "3          2ernst    23        CARIS 2021-09-08 07:54:39\n",
       "4         2gerald    43        CARIS 2021-09-07 14:56:34\n",
       "5       2roselord    21        CARIS 2021-09-07 14:34:33\n",
       "6         2wilnes     8        CARIS 2021-09-08 18:49:40\n",
       "7   2woodridchard    46        CARIS 2021-09-07 15:11:17\n",
       "8       6celimene     2        CARIS 2021-09-08 15:25:52\n",
       "9         6gerana    24        CARIS 2021-09-07 16:18:41\n",
       "10       6idalise     1        CARIS 2021-09-06 16:35:54\n",
       "11    6kettelande    10        CARIS 2021-09-07 01:56:57"
      ]
     },
     "metadata": {},
     "execution_count": 49
    }
   ],
   "metadata": {}
  },
  {
   "cell_type": "code",
   "execution_count": 50,
   "source": [
    "agent_name = pd.read_excel(\"caris-test_users_7453177b42914ad2978e3c465e39dab1.xlsx\")"
   ],
   "outputs": [],
   "metadata": {}
  },
  {
   "cell_type": "code",
   "execution_count": 51,
   "source": [
    "agent_name = agent_name[[\"username\",\"name\"]]"
   ],
   "outputs": [],
   "metadata": {}
  },
  {
   "cell_type": "markdown",
   "source": [
    "## Liste de tous les agents avec Leur nom"
   ],
   "metadata": {}
  },
  {
   "cell_type": "code",
   "execution_count": 52,
   "source": [
    "agent_name"
   ],
   "outputs": [
    {
     "output_type": "execute_result",
     "data": {
      "text/html": [
       "<div>\n",
       "<style scoped>\n",
       "    .dataframe tbody tr th:only-of-type {\n",
       "        vertical-align: middle;\n",
       "    }\n",
       "\n",
       "    .dataframe tbody tr th {\n",
       "        vertical-align: top;\n",
       "    }\n",
       "\n",
       "    .dataframe thead th {\n",
       "        text-align: right;\n",
       "    }\n",
       "</style>\n",
       "<table border=\"1\" class=\"dataframe\">\n",
       "  <thead>\n",
       "    <tr style=\"text-align: right;\">\n",
       "      <th></th>\n",
       "      <th>username</th>\n",
       "      <th>name</th>\n",
       "    </tr>\n",
       "  </thead>\n",
       "  <tbody>\n",
       "    <tr>\n",
       "      <th>0</th>\n",
       "      <td>1aldonzar</td>\n",
       "      <td>elcie aldonzar</td>\n",
       "    </tr>\n",
       "    <tr>\n",
       "      <th>1</th>\n",
       "      <td>1alexandra</td>\n",
       "      <td>Alexandra Joseph</td>\n",
       "    </tr>\n",
       "    <tr>\n",
       "      <th>2</th>\n",
       "      <td>1annuelle</td>\n",
       "      <td>Annuelle Eustache</td>\n",
       "    </tr>\n",
       "    <tr>\n",
       "      <th>3</th>\n",
       "      <td>1claudius</td>\n",
       "      <td>Claudius Gladys</td>\n",
       "    </tr>\n",
       "    <tr>\n",
       "      <th>4</th>\n",
       "      <td>1coldina</td>\n",
       "      <td>Coldina Duverny</td>\n",
       "    </tr>\n",
       "    <tr>\n",
       "      <th>...</th>\n",
       "      <td>...</td>\n",
       "      <td>...</td>\n",
       "    </tr>\n",
       "    <tr>\n",
       "      <th>742</th>\n",
       "      <td>s2julnor</td>\n",
       "      <td>Julnor Beaubrun</td>\n",
       "    </tr>\n",
       "    <tr>\n",
       "      <th>743</th>\n",
       "      <td>s2mirlene</td>\n",
       "      <td>Vernet Mirlene</td>\n",
       "    </tr>\n",
       "    <tr>\n",
       "      <th>744</th>\n",
       "      <td>stfleur</td>\n",
       "      <td>Jesula St Fleur</td>\n",
       "    </tr>\n",
       "    <tr>\n",
       "      <th>745</th>\n",
       "      <td>sylvietest</td>\n",
       "      <td>sylvie rousseau</td>\n",
       "    </tr>\n",
       "    <tr>\n",
       "      <th>746</th>\n",
       "      <td>yandre</td>\n",
       "      <td>Yves Andre</td>\n",
       "    </tr>\n",
       "  </tbody>\n",
       "</table>\n",
       "<p>747 rows × 2 columns</p>\n",
       "</div>"
      ],
      "text/plain": [
       "       username               name\n",
       "0     1aldonzar     elcie aldonzar\n",
       "1    1alexandra   Alexandra Joseph\n",
       "2     1annuelle  Annuelle Eustache\n",
       "3     1claudius    Claudius Gladys\n",
       "4      1coldina    Coldina Duverny\n",
       "..          ...                ...\n",
       "742    s2julnor    Julnor Beaubrun\n",
       "743   s2mirlene     Vernet Mirlene\n",
       "744     stfleur    Jesula St Fleur\n",
       "745  sylvietest    sylvie rousseau\n",
       "746      yandre         Yves Andre\n",
       "\n",
       "[747 rows x 2 columns]"
      ]
     },
     "metadata": {},
     "execution_count": 52
    }
   ],
   "metadata": {}
  },
  {
   "cell_type": "markdown",
   "source": [
    "## MERGE (Vlookup)"
   ],
   "metadata": {}
  },
  {
   "cell_type": "code",
   "execution_count": 53,
   "source": [
    "performanceAgents = agent_name.merge(agent,on=\"username\",how=\"inner\")"
   ],
   "outputs": [],
   "metadata": {}
  },
  {
   "cell_type": "code",
   "execution_count": 54,
   "source": [
    "performanceAgents"
   ],
   "outputs": [
    {
     "output_type": "execute_result",
     "data": {
      "text/html": [
       "<div>\n",
       "<style scoped>\n",
       "    .dataframe tbody tr th:only-of-type {\n",
       "        vertical-align: middle;\n",
       "    }\n",
       "\n",
       "    .dataframe tbody tr th {\n",
       "        vertical-align: top;\n",
       "    }\n",
       "\n",
       "    .dataframe thead th {\n",
       "        text-align: right;\n",
       "    }\n",
       "</style>\n",
       "<table border=\"1\" class=\"dataframe\">\n",
       "  <thead>\n",
       "    <tr style=\"text-align: right;\">\n",
       "      <th></th>\n",
       "      <th>username</th>\n",
       "      <th>name</th>\n",
       "      <th>nbre</th>\n",
       "      <th>organisation</th>\n",
       "      <th>entry_date</th>\n",
       "    </tr>\n",
       "  </thead>\n",
       "  <tbody>\n",
       "    <tr>\n",
       "      <th>0</th>\n",
       "      <td>2davy</td>\n",
       "      <td>Jean Davy Mexil</td>\n",
       "      <td>16</td>\n",
       "      <td>CARIS</td>\n",
       "      <td>2021-09-06 19:36:29</td>\n",
       "    </tr>\n",
       "    <tr>\n",
       "      <th>1</th>\n",
       "      <td>2diegoarmando</td>\n",
       "      <td>Diego Armando Dorlean</td>\n",
       "      <td>5</td>\n",
       "      <td>CARIS</td>\n",
       "      <td>2021-09-06 15:28:13</td>\n",
       "    </tr>\n",
       "    <tr>\n",
       "      <th>2</th>\n",
       "      <td>2eliona</td>\n",
       "      <td>Eliona Fredly</td>\n",
       "      <td>15</td>\n",
       "      <td>CARIS</td>\n",
       "      <td>2021-09-06 19:12:16</td>\n",
       "    </tr>\n",
       "    <tr>\n",
       "      <th>3</th>\n",
       "      <td>2ernst</td>\n",
       "      <td>Ernst Belabre</td>\n",
       "      <td>23</td>\n",
       "      <td>CARIS</td>\n",
       "      <td>2021-09-08 07:54:39</td>\n",
       "    </tr>\n",
       "    <tr>\n",
       "      <th>4</th>\n",
       "      <td>2gerald</td>\n",
       "      <td>Gerald Poteau</td>\n",
       "      <td>43</td>\n",
       "      <td>CARIS</td>\n",
       "      <td>2021-09-07 14:56:34</td>\n",
       "    </tr>\n",
       "    <tr>\n",
       "      <th>5</th>\n",
       "      <td>2roselord</td>\n",
       "      <td>Rose-Lord Despeignes</td>\n",
       "      <td>21</td>\n",
       "      <td>CARIS</td>\n",
       "      <td>2021-09-07 14:34:33</td>\n",
       "    </tr>\n",
       "    <tr>\n",
       "      <th>6</th>\n",
       "      <td>2wilnes</td>\n",
       "      <td>Gerant Louis Wilnes</td>\n",
       "      <td>8</td>\n",
       "      <td>CARIS</td>\n",
       "      <td>2021-09-08 18:49:40</td>\n",
       "    </tr>\n",
       "    <tr>\n",
       "      <th>7</th>\n",
       "      <td>2woodridchard</td>\n",
       "      <td>Wood-Ridchard Bon</td>\n",
       "      <td>46</td>\n",
       "      <td>CARIS</td>\n",
       "      <td>2021-09-07 15:11:17</td>\n",
       "    </tr>\n",
       "    <tr>\n",
       "      <th>8</th>\n",
       "      <td>6celimene</td>\n",
       "      <td>Celimene Laine</td>\n",
       "      <td>2</td>\n",
       "      <td>CARIS</td>\n",
       "      <td>2021-09-08 15:25:52</td>\n",
       "    </tr>\n",
       "    <tr>\n",
       "      <th>9</th>\n",
       "      <td>6gerana</td>\n",
       "      <td>Gerana David</td>\n",
       "      <td>24</td>\n",
       "      <td>CARIS</td>\n",
       "      <td>2021-09-07 16:18:41</td>\n",
       "    </tr>\n",
       "    <tr>\n",
       "      <th>10</th>\n",
       "      <td>6idalise</td>\n",
       "      <td>Idalise Michaud</td>\n",
       "      <td>1</td>\n",
       "      <td>CARIS</td>\n",
       "      <td>2021-09-06 16:35:54</td>\n",
       "    </tr>\n",
       "    <tr>\n",
       "      <th>11</th>\n",
       "      <td>6kettelande</td>\n",
       "      <td>Kettelande Benjamin</td>\n",
       "      <td>10</td>\n",
       "      <td>CARIS</td>\n",
       "      <td>2021-09-07 01:56:57</td>\n",
       "    </tr>\n",
       "  </tbody>\n",
       "</table>\n",
       "</div>"
      ],
      "text/plain": [
       "         username                   name  nbre organisation  \\\n",
       "0           2davy        Jean Davy Mexil    16        CARIS   \n",
       "1   2diegoarmando  Diego Armando Dorlean     5        CARIS   \n",
       "2         2eliona          Eliona Fredly    15        CARIS   \n",
       "3          2ernst          Ernst Belabre    23        CARIS   \n",
       "4         2gerald          Gerald Poteau    43        CARIS   \n",
       "5       2roselord   Rose-Lord Despeignes    21        CARIS   \n",
       "6         2wilnes    Gerant Louis Wilnes     8        CARIS   \n",
       "7   2woodridchard      Wood-Ridchard Bon    46        CARIS   \n",
       "8       6celimene         Celimene Laine     2        CARIS   \n",
       "9         6gerana           Gerana David    24        CARIS   \n",
       "10       6idalise        Idalise Michaud     1        CARIS   \n",
       "11    6kettelande    Kettelande Benjamin    10        CARIS   \n",
       "\n",
       "            entry_date  \n",
       "0  2021-09-06 19:36:29  \n",
       "1  2021-09-06 15:28:13  \n",
       "2  2021-09-06 19:12:16  \n",
       "3  2021-09-08 07:54:39  \n",
       "4  2021-09-07 14:56:34  \n",
       "5  2021-09-07 14:34:33  \n",
       "6  2021-09-08 18:49:40  \n",
       "7  2021-09-07 15:11:17  \n",
       "8  2021-09-08 15:25:52  \n",
       "9  2021-09-07 16:18:41  \n",
       "10 2021-09-06 16:35:54  \n",
       "11 2021-09-07 01:56:57  "
      ]
     },
     "metadata": {},
     "execution_count": 54
    }
   ],
   "metadata": {}
  },
  {
   "cell_type": "code",
   "execution_count": 55,
   "source": [
    "performanceAgents.nbre.sum()"
   ],
   "outputs": [
    {
     "output_type": "execute_result",
     "data": {
      "text/plain": [
       "214"
      ]
     },
     "metadata": {},
     "execution_count": 55
    }
   ],
   "metadata": {}
  },
  {
   "cell_type": "code",
   "execution_count": 56,
   "source": [
    "import matplotlib.pyplot as plt\r\n",
    "import seaborn as sns\r\n",
    "%matplotlib inline"
   ],
   "outputs": [],
   "metadata": {}
  },
  {
   "cell_type": "code",
   "execution_count": 57,
   "source": [
    "from datetime import datetime\r\n",
    "date_du_jour = datetime.today().strftime(\"%d_%m_%Y\")"
   ],
   "outputs": [],
   "metadata": {}
  },
  {
   "cell_type": "code",
   "execution_count": 58,
   "source": [
    "orderdata = performanceAgents.nbre.sort_values().to_list()"
   ],
   "outputs": [],
   "metadata": {}
  },
  {
   "cell_type": "code",
   "execution_count": 59,
   "source": [
    "plt.figure(figsize=(16,8))\r\n",
    "#plt.subplots(figsize=(16,8))\r\n",
    "sns.set_style(\"darkgrid\")\r\n",
    "splot = sns.barplot(x=\"nbre\",y=\"name\",data=performanceAgents,color=\"Green\",order=performanceAgents.sort_values(\"nbre\",ascending=False).name,ci=False)\r\n",
    "splot.set_xlabel(\"\")\r\n",
    "splot.set_ylabel(\"\")\r\n",
    "plt.suptitle(f\"Nombre de formulaire d'enrollement saisie par les DataClerks depuis le  {Constante.specific.value}\")\r\n",
    "for p in splot.patches:\r\n",
    "    width = p.get_width()\r\n",
    "    plt.text(0.25+p.get_width(), p.get_y()+0.50*p.get_height(),\r\n",
    "             '{:1.0f}'.format(width),fontdict=dict(color=\"red\",fontsize=12))\r\n",
    "\r\n",
    "plt.annotate(\r\n",
    "    \"source: HIVHaiti\",(0,0), (-80,-20), fontsize=10, \r\n",
    "             xycoords='axes fraction', textcoords='offset points', va='top'\r\n",
    ")\r\n",
    "\r\n",
    "plt.savefig(f\"saisie_screening_{date_du_jour}\",dpi=1000)"
   ],
   "outputs": [
    {
     "output_type": "display_data",
     "data": {
      "image/png": "[encoded data removed]",
      "text/plain": [
       "<Figure size 1152x576 with 1 Axes>"
      ]
     },
     "metadata": {
      "needs_background": "light"
     }
    }
   ],
   "metadata": {}
  },
  {
   "cell_type": "code",
   "execution_count": 60,
   "source": [
    "performanceAgents.to_excel(f\"performance_formulaire_denrolement_{date_du_jour}.xlsx\",index=False,na_rep=\"NULL\")\r\n",
    "#performanceAgents.to_excel(f\"performance_formulaire_denrolement_depuis_1Mars2021.xlsx\",index=False,na_rep=\"NULL\")"
   ],
   "outputs": [],
   "metadata": {}
  }
 ],
 "metadata": {
  "interpreter": {
   "hash": "4534460e0bdca1b390927d45471088fb3501d39abc4e3f2cee293892e17d7fc6"
  },
  "kernelspec": {
   "name": "python3",
   "display_name": "Python 3.9.6 64-bit"
  },
  "language_info": {
   "codemirror_mode": {
    "name": "ipython",
    "version": 3
   },
   "file_extension": ".py",
   "mimetype": "text/x-python",
   "name": "python",
   "nbconvert_exporter": "python",
   "pygments_lexer": "ipython3",
   "version": "3.9.6"
  }
 },
 "nbformat": 4,
 "nbformat_minor": 5
}