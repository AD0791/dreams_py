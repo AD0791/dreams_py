{
 "cells": [
  {
   "cell_type": "code",
   "execution_count": 1,
   "id": "382c9b7f",
   "metadata": {},
   "outputs": [],
   "source": [
    "import os\n",
    "from datetime import datetime\n",
    "#from datetime import date``\n",
    "import pymysql\n",
    "from sqlalchemy import create_engine\n",
    "from decouple import config \n",
    "from dotenv import load_dotenv\n",
    "import pandas as pd\n",
    "from numpy import int16\n",
    "from enum import Enum\n",
    "from dataframe_image import export"
   ]
  },
  {
   "cell_type": "code",
   "execution_count": 2,
   "id": "98fbbdc6",
   "metadata": {},
   "outputs": [],
   "source": [
    "# Using enum class create enumerations\n",
    "class Constante(Enum):\n",
    "   glob = \"\"\n",
    "   specific = \"2022-04-01\"\n",
    "   end = \"2022-06-30\""
   ]
  },
  {
   "cell_type": "code",
   "execution_count": 3,
   "id": "1a836d19",
   "metadata": {},
   "outputs": [],
   "source": [
    "load_dotenv()\n",
    "# get the environment variables needed\n",
    "USER= config('USRCaris')\n",
    "PASSWORD= config('PASSCaris')\n",
    "HOSTNAME= config('HOSTCaris')\n",
    "DBNAME= config('DBCaris')\n",
    "\n",
    "# get the engine to connect and fetch\n",
    "engine = create_engine(f\"mysql+pymysql://{USER}:{PASSWORD}@{HOSTNAME}/{DBNAME}\")\n",
    "query = f'''\n",
    "    SELECT \n",
    "    agent_username, COUNT(*) AS nbre,\n",
    "    dsd.organisation,\n",
    "    dsd.timeEnd as entry_date\n",
    "FROM\n",
    "    caris_db.dreams_surveys_data dsd\n",
    "WHERE\n",
    "    dsd.timeEnd >= '{Constante.specific.value}'\n",
    "    and\n",
    "    dsd.timeEnd <= '{Constante.end.value}'\n",
    "GROUP BY agent_username\n",
    "'''\n",
    "\n",
    "agent = pd.read_sql_query(query,engine,parse_dates=True)\n",
    "# get the test excel file from Query\n",
    "\n",
    "# close the pool of connection\n",
    "engine.dispose()"
   ]
  },
  {
   "cell_type": "markdown",
   "id": "dea2740c",
   "metadata": {},
   "source": [
    "## Agent DREAMS sortant du Systeme"
   ]
  },
  {
   "cell_type": "code",
   "execution_count": 4,
   "id": "b8269ff9",
   "metadata": {},
   "outputs": [
    {
     "data": {
      "text/html": [
       "<div>\n",
       "<style scoped>\n",
       "    .dataframe tbody tr th:only-of-type {\n",
       "        vertical-align: middle;\n",
       "    }\n",
       "\n",
       "    .dataframe tbody tr th {\n",
       "        vertical-align: top;\n",
       "    }\n",
       "\n",
       "    .dataframe thead th {\n",
       "        text-align: right;\n",
       "    }\n",
       "</style>\n",
       "<table border=\"1\" class=\"dataframe\">\n",
       "  <thead>\n",
       "    <tr style=\"text-align: right;\">\n",
       "      <th></th>\n",
       "      <th>username</th>\n",
       "      <th>nbre</th>\n",
       "      <th>organisation</th>\n",
       "      <th>entry_date</th>\n",
       "    </tr>\n",
       "  </thead>\n",
       "  <tbody>\n",
       "    <tr>\n",
       "      <th>0</th>\n",
       "      <td>2billy</td>\n",
       "      <td>29</td>\n",
       "      <td>CARIS</td>\n",
       "      <td>2022-04-02 16:15:15</td>\n",
       "    </tr>\n",
       "    <tr>\n",
       "      <th>1</th>\n",
       "      <td>2davy</td>\n",
       "      <td>218</td>\n",
       "      <td>CARIS</td>\n",
       "      <td>2022-04-05 11:36:15</td>\n",
       "    </tr>\n",
       "    <tr>\n",
       "      <th>2</th>\n",
       "      <td>2eliona</td>\n",
       "      <td>13</td>\n",
       "      <td>CARIS</td>\n",
       "      <td>2022-04-07 17:47:46</td>\n",
       "    </tr>\n",
       "    <tr>\n",
       "      <th>3</th>\n",
       "      <td>2fabrice</td>\n",
       "      <td>86</td>\n",
       "      <td>CARIS</td>\n",
       "      <td>2022-04-07 17:28:01</td>\n",
       "    </tr>\n",
       "    <tr>\n",
       "      <th>4</th>\n",
       "      <td>2wilnes</td>\n",
       "      <td>107</td>\n",
       "      <td>CARIS</td>\n",
       "      <td>2022-04-02 13:18:25</td>\n",
       "    </tr>\n",
       "    <tr>\n",
       "      <th>5</th>\n",
       "      <td>2woodridchard</td>\n",
       "      <td>107</td>\n",
       "      <td>CARIS</td>\n",
       "      <td>2022-04-02 14:24:14</td>\n",
       "    </tr>\n",
       "    <tr>\n",
       "      <th>6</th>\n",
       "      <td>6dasline</td>\n",
       "      <td>50</td>\n",
       "      <td>CARIS</td>\n",
       "      <td>2022-04-03 15:05:32</td>\n",
       "    </tr>\n",
       "    <tr>\n",
       "      <th>7</th>\n",
       "      <td>6mana</td>\n",
       "      <td>4</td>\n",
       "      <td>CARIS</td>\n",
       "      <td>2022-04-01 17:10:01</td>\n",
       "    </tr>\n",
       "    <tr>\n",
       "      <th>8</th>\n",
       "      <td>6mirtha</td>\n",
       "      <td>4</td>\n",
       "      <td>CARIS</td>\n",
       "      <td>2022-04-08 16:29:33</td>\n",
       "    </tr>\n",
       "    <tr>\n",
       "      <th>9</th>\n",
       "      <td>6reline</td>\n",
       "      <td>8</td>\n",
       "      <td>CARIS</td>\n",
       "      <td>2022-04-09 13:49:10</td>\n",
       "    </tr>\n",
       "    <tr>\n",
       "      <th>10</th>\n",
       "      <td>6solanda</td>\n",
       "      <td>2</td>\n",
       "      <td>CARIS</td>\n",
       "      <td>2022-04-07 22:25:06</td>\n",
       "    </tr>\n",
       "    <tr>\n",
       "      <th>11</th>\n",
       "      <td>6yolene</td>\n",
       "      <td>16</td>\n",
       "      <td>CARIS</td>\n",
       "      <td>2022-04-02 19:33:31</td>\n",
       "    </tr>\n",
       "  </tbody>\n",
       "</table>\n",
       "</div>"
      ],
      "text/plain": [
       "         username  nbre organisation          entry_date\n",
       "0          2billy    29        CARIS 2022-04-02 16:15:15\n",
       "1           2davy   218        CARIS 2022-04-05 11:36:15\n",
       "2         2eliona    13        CARIS 2022-04-07 17:47:46\n",
       "3        2fabrice    86        CARIS 2022-04-07 17:28:01\n",
       "4         2wilnes   107        CARIS 2022-04-02 13:18:25\n",
       "5   2woodridchard   107        CARIS 2022-04-02 14:24:14\n",
       "6        6dasline    50        CARIS 2022-04-03 15:05:32\n",
       "7           6mana     4        CARIS 2022-04-01 17:10:01\n",
       "8         6mirtha     4        CARIS 2022-04-08 16:29:33\n",
       "9         6reline     8        CARIS 2022-04-09 13:49:10\n",
       "10       6solanda     2        CARIS 2022-04-07 22:25:06\n",
       "11        6yolene    16        CARIS 2022-04-02 19:33:31"
      ]
     },
     "execution_count": 4,
     "metadata": {},
     "output_type": "execute_result"
    }
   ],
   "source": [
    "agent.rename(columns={'agent_username':'username'},inplace=True)\n",
    "agent"
   ]
  },
  {
   "cell_type": "code",
   "execution_count": 5,
   "id": "95307189",
   "metadata": {},
   "outputs": [],
   "source": [
    "agent_name = pd.read_excel(\"caris-test_users_28d6565d382d48b4b97c742c6a7872e0.xlsx\")"
   ]
  },
  {
   "cell_type": "code",
   "execution_count": 6,
   "id": "891646e8",
   "metadata": {},
   "outputs": [],
   "source": [
    "agent_name = agent_name[[\"username\",\"name\"]]"
   ]
  },
  {
   "cell_type": "markdown",
   "id": "5c3c143b",
   "metadata": {},
   "source": [
    "## Liste de tous les agents avec Leur nom"
   ]
  },
  {
   "cell_type": "code",
   "execution_count": 7,
   "id": "e735acc1",
   "metadata": {},
   "outputs": [
    {
     "data": {
      "text/html": [
       "<div>\n",
       "<style scoped>\n",
       "    .dataframe tbody tr th:only-of-type {\n",
       "        vertical-align: middle;\n",
       "    }\n",
       "\n",
       "    .dataframe tbody tr th {\n",
       "        vertical-align: top;\n",
       "    }\n",
       "\n",
       "    .dataframe thead th {\n",
       "        text-align: right;\n",
       "    }\n",
       "</style>\n",
       "<table border=\"1\" class=\"dataframe\">\n",
       "  <thead>\n",
       "    <tr style=\"text-align: right;\">\n",
       "      <th></th>\n",
       "      <th>username</th>\n",
       "      <th>name</th>\n",
       "    </tr>\n",
       "  </thead>\n",
       "  <tbody>\n",
       "    <tr>\n",
       "      <th>0</th>\n",
       "      <td>1aldonzar</td>\n",
       "      <td>elcie aldonzar</td>\n",
       "    </tr>\n",
       "    <tr>\n",
       "      <th>1</th>\n",
       "      <td>1alexandra</td>\n",
       "      <td>Alexandra Joseph</td>\n",
       "    </tr>\n",
       "    <tr>\n",
       "      <th>2</th>\n",
       "      <td>1annuelle</td>\n",
       "      <td>Annuelle Eustache</td>\n",
       "    </tr>\n",
       "    <tr>\n",
       "      <th>3</th>\n",
       "      <td>1cadet</td>\n",
       "      <td>Memie Cadet</td>\n",
       "    </tr>\n",
       "    <tr>\n",
       "      <th>4</th>\n",
       "      <td>1claudius</td>\n",
       "      <td>Claudius Gladys</td>\n",
       "    </tr>\n",
       "    <tr>\n",
       "      <th>...</th>\n",
       "      <td>...</td>\n",
       "      <td>...</td>\n",
       "    </tr>\n",
       "    <tr>\n",
       "      <th>761</th>\n",
       "      <td>s2julnor</td>\n",
       "      <td>Julnor Beaubrun</td>\n",
       "    </tr>\n",
       "    <tr>\n",
       "      <th>762</th>\n",
       "      <td>s2mirlene</td>\n",
       "      <td>Vernet Mirlene</td>\n",
       "    </tr>\n",
       "    <tr>\n",
       "      <th>763</th>\n",
       "      <td>stfleur</td>\n",
       "      <td>Jesula St Fleur</td>\n",
       "    </tr>\n",
       "    <tr>\n",
       "      <th>764</th>\n",
       "      <td>sylvietest</td>\n",
       "      <td>sylvie rousseau</td>\n",
       "    </tr>\n",
       "    <tr>\n",
       "      <th>765</th>\n",
       "      <td>yandre</td>\n",
       "      <td>Yves Andre</td>\n",
       "    </tr>\n",
       "  </tbody>\n",
       "</table>\n",
       "<p>766 rows × 2 columns</p>\n",
       "</div>"
      ],
      "text/plain": [
       "       username               name\n",
       "0     1aldonzar     elcie aldonzar\n",
       "1    1alexandra   Alexandra Joseph\n",
       "2     1annuelle  Annuelle Eustache\n",
       "3        1cadet        Memie Cadet\n",
       "4     1claudius    Claudius Gladys\n",
       "..          ...                ...\n",
       "761    s2julnor    Julnor Beaubrun\n",
       "762   s2mirlene     Vernet Mirlene\n",
       "763     stfleur    Jesula St Fleur\n",
       "764  sylvietest    sylvie rousseau\n",
       "765      yandre         Yves Andre\n",
       "\n",
       "[766 rows x 2 columns]"
      ]
     },
     "execution_count": 7,
     "metadata": {},
     "output_type": "execute_result"
    }
   ],
   "source": [
    "agent_name"
   ]
  },
  {
   "cell_type": "markdown",
   "id": "03be432a",
   "metadata": {},
   "source": [
    "## MERGE (Vlookup)"
   ]
  },
  {
   "cell_type": "code",
   "execution_count": 8,
   "id": "e3414d5b",
   "metadata": {},
   "outputs": [],
   "source": [
    "performanceAgents = agent_name.merge(agent,on=\"username\",how=\"inner\")"
   ]
  },
  {
   "cell_type": "code",
   "execution_count": 9,
   "id": "ab104cf9",
   "metadata": {},
   "outputs": [
    {
     "data": {
      "text/html": [
       "<div>\n",
       "<style scoped>\n",
       "    .dataframe tbody tr th:only-of-type {\n",
       "        vertical-align: middle;\n",
       "    }\n",
       "\n",
       "    .dataframe tbody tr th {\n",
       "        vertical-align: top;\n",
       "    }\n",
       "\n",
       "    .dataframe thead th {\n",
       "        text-align: right;\n",
       "    }\n",
       "</style>\n",
       "<table border=\"1\" class=\"dataframe\">\n",
       "  <thead>\n",
       "    <tr style=\"text-align: right;\">\n",
       "      <th></th>\n",
       "      <th>username</th>\n",
       "      <th>name</th>\n",
       "      <th>nbre</th>\n",
       "      <th>organisation</th>\n",
       "      <th>entry_date</th>\n",
       "    </tr>\n",
       "  </thead>\n",
       "  <tbody>\n",
       "    <tr>\n",
       "      <th>0</th>\n",
       "      <td>2billy</td>\n",
       "      <td>Billy jolicoeur</td>\n",
       "      <td>29</td>\n",
       "      <td>CARIS</td>\n",
       "      <td>2022-04-02 16:15:15</td>\n",
       "    </tr>\n",
       "    <tr>\n",
       "      <th>1</th>\n",
       "      <td>2davy</td>\n",
       "      <td>Jean Davy Mexil</td>\n",
       "      <td>218</td>\n",
       "      <td>CARIS</td>\n",
       "      <td>2022-04-05 11:36:15</td>\n",
       "    </tr>\n",
       "    <tr>\n",
       "      <th>2</th>\n",
       "      <td>2eliona</td>\n",
       "      <td>Eliona Fredly</td>\n",
       "      <td>13</td>\n",
       "      <td>CARIS</td>\n",
       "      <td>2022-04-07 17:47:46</td>\n",
       "    </tr>\n",
       "    <tr>\n",
       "      <th>3</th>\n",
       "      <td>2fabrice</td>\n",
       "      <td>Fabrice Byron</td>\n",
       "      <td>86</td>\n",
       "      <td>CARIS</td>\n",
       "      <td>2022-04-07 17:28:01</td>\n",
       "    </tr>\n",
       "    <tr>\n",
       "      <th>4</th>\n",
       "      <td>2wilnes</td>\n",
       "      <td>Gerant Louis Wilnes</td>\n",
       "      <td>107</td>\n",
       "      <td>CARIS</td>\n",
       "      <td>2022-04-02 13:18:25</td>\n",
       "    </tr>\n",
       "    <tr>\n",
       "      <th>5</th>\n",
       "      <td>2woodridchard</td>\n",
       "      <td>Wood-Ridchard Bon</td>\n",
       "      <td>107</td>\n",
       "      <td>CARIS</td>\n",
       "      <td>2022-04-02 14:24:14</td>\n",
       "    </tr>\n",
       "    <tr>\n",
       "      <th>6</th>\n",
       "      <td>6dasline</td>\n",
       "      <td>Dasline Sajet</td>\n",
       "      <td>50</td>\n",
       "      <td>CARIS</td>\n",
       "      <td>2022-04-03 15:05:32</td>\n",
       "    </tr>\n",
       "    <tr>\n",
       "      <th>7</th>\n",
       "      <td>6mana</td>\n",
       "      <td>Mana Viné</td>\n",
       "      <td>4</td>\n",
       "      <td>CARIS</td>\n",
       "      <td>2022-04-01 17:10:01</td>\n",
       "    </tr>\n",
       "    <tr>\n",
       "      <th>8</th>\n",
       "      <td>6mirtha</td>\n",
       "      <td>Mirtha Osalva</td>\n",
       "      <td>4</td>\n",
       "      <td>CARIS</td>\n",
       "      <td>2022-04-08 16:29:33</td>\n",
       "    </tr>\n",
       "    <tr>\n",
       "      <th>9</th>\n",
       "      <td>6reline</td>\n",
       "      <td>Reline Augustin</td>\n",
       "      <td>8</td>\n",
       "      <td>CARIS</td>\n",
       "      <td>2022-04-09 13:49:10</td>\n",
       "    </tr>\n",
       "    <tr>\n",
       "      <th>10</th>\n",
       "      <td>6solanda</td>\n",
       "      <td>Solanda Danestan</td>\n",
       "      <td>2</td>\n",
       "      <td>CARIS</td>\n",
       "      <td>2022-04-07 22:25:06</td>\n",
       "    </tr>\n",
       "    <tr>\n",
       "      <th>11</th>\n",
       "      <td>6yolene</td>\n",
       "      <td>Yolène Théophile</td>\n",
       "      <td>16</td>\n",
       "      <td>CARIS</td>\n",
       "      <td>2022-04-02 19:33:31</td>\n",
       "    </tr>\n",
       "  </tbody>\n",
       "</table>\n",
       "</div>"
      ],
      "text/plain": [
       "         username                 name  nbre organisation          entry_date\n",
       "0          2billy      Billy jolicoeur    29        CARIS 2022-04-02 16:15:15\n",
       "1           2davy      Jean Davy Mexil   218        CARIS 2022-04-05 11:36:15\n",
       "2         2eliona        Eliona Fredly    13        CARIS 2022-04-07 17:47:46\n",
       "3        2fabrice        Fabrice Byron    86        CARIS 2022-04-07 17:28:01\n",
       "4         2wilnes  Gerant Louis Wilnes   107        CARIS 2022-04-02 13:18:25\n",
       "5   2woodridchard    Wood-Ridchard Bon   107        CARIS 2022-04-02 14:24:14\n",
       "6        6dasline        Dasline Sajet    50        CARIS 2022-04-03 15:05:32\n",
       "7           6mana            Mana Viné     4        CARIS 2022-04-01 17:10:01\n",
       "8         6mirtha        Mirtha Osalva     4        CARIS 2022-04-08 16:29:33\n",
       "9         6reline      Reline Augustin     8        CARIS 2022-04-09 13:49:10\n",
       "10       6solanda     Solanda Danestan     2        CARIS 2022-04-07 22:25:06\n",
       "11        6yolene     Yolène Théophile    16        CARIS 2022-04-02 19:33:31"
      ]
     },
     "execution_count": 9,
     "metadata": {},
     "output_type": "execute_result"
    }
   ],
   "source": [
    "performanceAgents"
   ]
  },
  {
   "cell_type": "code",
   "execution_count": 10,
   "id": "a35226c5",
   "metadata": {},
   "outputs": [
    {
     "data": {
      "text/plain": [
       "644"
      ]
     },
     "execution_count": 10,
     "metadata": {},
     "output_type": "execute_result"
    }
   ],
   "source": [
    "performanceAgents.nbre.sum()"
   ]
  },
  {
   "cell_type": "code",
   "execution_count": 11,
   "id": "e7a30934",
   "metadata": {},
   "outputs": [],
   "source": [
    "import matplotlib.pyplot as plt\n",
    "import seaborn as sns\n",
    "%matplotlib inline"
   ]
  },
  {
   "cell_type": "code",
   "execution_count": 12,
   "id": "a408764f",
   "metadata": {},
   "outputs": [],
   "source": [
    "from datetime import datetime\n",
    "date_du_jour = datetime.today().strftime(\"%d_%m_%Y\")"
   ]
  },
  {
   "cell_type": "code",
   "execution_count": 13,
   "id": "aa8db1d0",
   "metadata": {},
   "outputs": [],
   "source": [
    "orderdata = performanceAgents.nbre.sort_values().to_list()"
   ]
  },
  {
   "cell_type": "code",
   "execution_count": 14,
   "id": "8f613dd7",
   "metadata": {},
   "outputs": [
    {
     "data": {
      "image/png": "[encoded data removed]",
      "text/plain": [
       "<Figure size 1152x576 with 1 Axes>"
      ]
     },
     "metadata": {
      "needs_background": "light"
     },
     "output_type": "display_data"
    }
   ],
   "source": [
    "try:\n",
    "    plt.figure(figsize=(16,8))\n",
    "    #plt.subplots(figsize=(16,8))\n",
    "    sns.set_style(\"darkgrid\")\n",
    "    splot = sns.barplot(x=\"nbre\",y=\"name\",data=performanceAgents,color=\"Green\",order=performanceAgents.sort_values(\"nbre\",ascending=False).name,ci=False)\n",
    "    splot.set_xlabel(\"\")\n",
    "    splot.set_ylabel(\"\")\n",
    "    plt.suptitle(f\"Nombre de formulaire d'enrollement saisie par les DataClerks depuis le  {Constante.specific.value}\")\n",
    "    for p in splot.patches:\n",
    "        width = p.get_width()\n",
    "        plt.text(0.25+p.get_width(), p.get_y()+0.50*p.get_height(),\n",
    "                '{:1.0f}'.format(width),fontdict=dict(color=\"red\",fontsize=12))\n",
    "\n",
    "    plt.annotate(\n",
    "        \"source: HIVHaiti\",(0,0), (-80,-20), fontsize=10, \n",
    "                xycoords='axes fraction', textcoords='offset points', va='top'\n",
    "    )\n",
    "\n",
    "    #plt.savefig(f\"saisie_screening_{date_du_jour}\",dpi=1000)\n",
    "    plt.savefig(f\"saisie_screening\",dpi=1000)\n",
    "except ValueError:\n",
    "    print(\"No data is avalaible\")"
   ]
  },
  {
   "cell_type": "code",
   "execution_count": 15,
   "id": "6f65374e",
   "metadata": {},
   "outputs": [
    {
     "data": {
      "text/plain": [
       "644"
      ]
     },
     "execution_count": 15,
     "metadata": {},
     "output_type": "execute_result"
    }
   ],
   "source": [
    "performanceAgents.nbre.sum()\n"
   ]
  },
  {
   "cell_type": "code",
   "execution_count": 16,
   "id": "7afeceb0",
   "metadata": {},
   "outputs": [
    {
     "name": "stderr",
     "output_type": "stream",
     "text": [
      "objc[3154]: Class WebSwapCGLLayer is implemented in both /System/Library/Frameworks/WebKit.framework/Versions/A/Frameworks/WebCore.framework/Versions/A/Frameworks/libANGLE-shared.dylib (0x7ffa49f5c318) and /Applications/Google Chrome.app/Contents/Frameworks/Google Chrome Framework.framework/Versions/100.0.4896.75/Libraries/libGLESv2.dylib (0x119fa1f48). One of the two will be used. Which one is undefined.\n",
      "[0410/093419.401329:INFO:headless_shell.cc(659)] Written to file /var/folders/7v/rs0k237d6nj3vdxfc1h7xtcw0000gn/T/tmpbv776uzw/temp.png.\n"
     ]
    }
   ],
   "source": [
    "export(pd.DataFrame({f\"Nombre total d'enrolement depuis le {Constante.specific.value}\": [performanceAgents.nbre.sum()]}),'total_enrolement.png')\n"
   ]
  },
  {
   "cell_type": "code",
   "execution_count": 17,
   "id": "9ef7c66b",
   "metadata": {},
   "outputs": [],
   "source": [
    "performanceAgents.to_excel(f\"performance_formulaire_denrolement.xlsx\",index=False,na_rep=\"NULL\")\n",
    "#performanceAgents.to_excel(f\"performance_formulaire_denrolement_{date_du_jour}.xlsx\",index=False,na_rep=\"NULL\")\n",
    "#performanceAgents.to_excel(f\"performance_formulaire_denrolement_depuis_1Mars2021.xlsx\",index=False,na_rep=\"NULL\")"
   ]
  },
  {
   "cell_type": "code",
   "execution_count": null,
   "id": "258104a2",
   "metadata": {},
   "outputs": [],
   "source": []
  }
 ],
 "metadata": {
  "interpreter": {
   "hash": "4534460e0bdca1b390927d45471088fb3501d39abc4e3f2cee293892e17d7fc6"
  },
  "kernelspec": {
   "display_name": "Python 3.9.7 64-bit",
   "name": "python3"
  },
  "language_info": {
   "codemirror_mode": {
    "name": "ipython",
    "version": 3
   },
   "file_extension": ".py",
   "mimetype": "text/x-python",
   "name": "python",
   "nbconvert_exporter": "python",
   "pygments_lexer": "ipython3",
   "version": "3.9.9"
  }
 },
 "nbformat": 4,
 "nbformat_minor": 5
}
