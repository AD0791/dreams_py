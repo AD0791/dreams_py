{
 "cells": [
  {
   "cell_type": "code",
   "execution_count": 1,
   "id": "382c9b7f",
   "metadata": {},
   "outputs": [],
   "source": [
    "import os\n",
    "from datetime import datetime\n",
    "#from datetime import date``\n",
    "import pymysql\n",
    "from sqlalchemy import create_engine\n",
    "from decouple import config \n",
    "from dotenv import load_dotenv\n",
    "import pandas as pd\n",
    "from numpy import int16\n",
    "from enum import Enum\n",
    "from dataframe_image import export"
   ]
  },
  {
   "cell_type": "code",
   "execution_count": 2,
   "id": "98fbbdc6",
   "metadata": {},
   "outputs": [],
   "source": [
    "# Using enum class create enumerations\n",
    "class Constante(Enum):\n",
    "   glob = \"\"\n",
    "   specific = \"2022-03-28\"\n",
    "   end = \"2022-04-31\""
   ]
  },
  {
   "cell_type": "code",
   "execution_count": 3,
   "id": "1a836d19",
   "metadata": {},
   "outputs": [],
   "source": [
    "load_dotenv()\n",
    "# get the environment variables needed\n",
    "USER= config('USRCaris')\n",
    "PASSWORD= config('PASSCaris')\n",
    "HOSTNAME= config('HOSTCaris')\n",
    "DBNAME= config('DBCaris')\n",
    "\n",
    "# get the engine to connect and fetch\n",
    "engine = create_engine(f\"mysql+pymysql://{USER}:{PASSWORD}@{HOSTNAME}/{DBNAME}\")\n",
    "query = f'''\n",
    "    SELECT \n",
    "    agent_username, COUNT(*) AS nbre,\n",
    "    dsd.organisation,\n",
    "    dsd.timeEnd as entry_date\n",
    "FROM\n",
    "    caris_db.dreams_surveys_data dsd\n",
    "WHERE\n",
    "    dsd.timeEnd >= '{Constante.specific.value}'\n",
    "    and\n",
    "    dsd.timeEnd <= '{Constante.end.value}'\n",
    "GROUP BY agent_username\n",
    "'''\n",
    "\n",
    "agent = pd.read_sql_query(query,engine,parse_dates=True)\n",
    "# get the test excel file from Query\n",
    "\n",
    "# close the pool of connection\n",
    "engine.dispose()"
   ]
  },
  {
   "cell_type": "markdown",
   "id": "dea2740c",
   "metadata": {},
   "source": [
    "## Agent DREAMS sortant du Systeme"
   ]
  },
  {
   "cell_type": "code",
   "execution_count": 4,
   "id": "b8269ff9",
   "metadata": {},
   "outputs": [
    {
     "data": {
      "text/html": [
       "<div>\n",
       "<style scoped>\n",
       "    .dataframe tbody tr th:only-of-type {\n",
       "        vertical-align: middle;\n",
       "    }\n",
       "\n",
       "    .dataframe tbody tr th {\n",
       "        vertical-align: top;\n",
       "    }\n",
       "\n",
       "    .dataframe thead th {\n",
       "        text-align: right;\n",
       "    }\n",
       "</style>\n",
       "<table border=\"1\" class=\"dataframe\">\n",
       "  <thead>\n",
       "    <tr style=\"text-align: right;\">\n",
       "      <th></th>\n",
       "      <th>username</th>\n",
       "      <th>nbre</th>\n",
       "      <th>organisation</th>\n",
       "      <th>entry_date</th>\n",
       "    </tr>\n",
       "  </thead>\n",
       "  <tbody>\n",
       "    <tr>\n",
       "      <th>0</th>\n",
       "      <td>2billy</td>\n",
       "      <td>29</td>\n",
       "      <td>CARIS</td>\n",
       "      <td>2022-04-02 16:15:15</td>\n",
       "    </tr>\n",
       "    <tr>\n",
       "      <th>1</th>\n",
       "      <td>2davy</td>\n",
       "      <td>141</td>\n",
       "      <td>CARIS</td>\n",
       "      <td>2022-04-04 12:36:22</td>\n",
       "    </tr>\n",
       "    <tr>\n",
       "      <th>2</th>\n",
       "      <td>2eliona</td>\n",
       "      <td>15</td>\n",
       "      <td>CARIS</td>\n",
       "      <td>2022-03-28 18:51:48</td>\n",
       "    </tr>\n",
       "    <tr>\n",
       "      <th>3</th>\n",
       "      <td>2fabrice</td>\n",
       "      <td>31</td>\n",
       "      <td>CARIS</td>\n",
       "      <td>2022-04-02 18:27:36</td>\n",
       "    </tr>\n",
       "    <tr>\n",
       "      <th>4</th>\n",
       "      <td>2wilnes</td>\n",
       "      <td>81</td>\n",
       "      <td>CARIS</td>\n",
       "      <td>2022-04-02 13:18:25</td>\n",
       "    </tr>\n",
       "    <tr>\n",
       "      <th>5</th>\n",
       "      <td>2woodridchard</td>\n",
       "      <td>82</td>\n",
       "      <td>CARIS</td>\n",
       "      <td>2022-04-02 14:24:14</td>\n",
       "    </tr>\n",
       "    <tr>\n",
       "      <th>6</th>\n",
       "      <td>6dasline</td>\n",
       "      <td>50</td>\n",
       "      <td>CARIS</td>\n",
       "      <td>2022-04-03 15:05:32</td>\n",
       "    </tr>\n",
       "    <tr>\n",
       "      <th>7</th>\n",
       "      <td>6midlyne</td>\n",
       "      <td>9</td>\n",
       "      <td>CARIS</td>\n",
       "      <td>2022-03-28 01:22:34</td>\n",
       "    </tr>\n",
       "    <tr>\n",
       "      <th>8</th>\n",
       "      <td>6solanda</td>\n",
       "      <td>6</td>\n",
       "      <td>CARIS</td>\n",
       "      <td>2022-03-29 00:23:54</td>\n",
       "    </tr>\n",
       "    <tr>\n",
       "      <th>9</th>\n",
       "      <td>6stephanie</td>\n",
       "      <td>20</td>\n",
       "      <td>CARIS</td>\n",
       "      <td>2022-03-28 12:36:58</td>\n",
       "    </tr>\n",
       "    <tr>\n",
       "      <th>10</th>\n",
       "      <td>6yolene</td>\n",
       "      <td>6</td>\n",
       "      <td>CARIS</td>\n",
       "      <td>2022-04-02 19:33:31</td>\n",
       "    </tr>\n",
       "    <tr>\n",
       "      <th>11</th>\n",
       "      <td>6yousena</td>\n",
       "      <td>14</td>\n",
       "      <td>CARIS</td>\n",
       "      <td>2022-03-29 07:07:15</td>\n",
       "    </tr>\n",
       "  </tbody>\n",
       "</table>\n",
       "</div>"
      ],
      "text/plain": [
       "         username  nbre organisation          entry_date\n",
       "0          2billy    29        CARIS 2022-04-02 16:15:15\n",
       "1           2davy   141        CARIS 2022-04-04 12:36:22\n",
       "2         2eliona    15        CARIS 2022-03-28 18:51:48\n",
       "3        2fabrice    31        CARIS 2022-04-02 18:27:36\n",
       "4         2wilnes    81        CARIS 2022-04-02 13:18:25\n",
       "5   2woodridchard    82        CARIS 2022-04-02 14:24:14\n",
       "6        6dasline    50        CARIS 2022-04-03 15:05:32\n",
       "7        6midlyne     9        CARIS 2022-03-28 01:22:34\n",
       "8        6solanda     6        CARIS 2022-03-29 00:23:54\n",
       "9      6stephanie    20        CARIS 2022-03-28 12:36:58\n",
       "10        6yolene     6        CARIS 2022-04-02 19:33:31\n",
       "11       6yousena    14        CARIS 2022-03-29 07:07:15"
      ]
     },
     "execution_count": 4,
     "metadata": {},
     "output_type": "execute_result"
    }
   ],
   "source": [
    "agent.rename(columns={'agent_username':'username'},inplace=True)\n",
    "agent"
   ]
  },
  {
   "cell_type": "code",
   "execution_count": 5,
   "id": "95307189",
   "metadata": {},
   "outputs": [],
   "source": [
    "agent_name = pd.read_excel(\"caris-test_users_28d6565d382d48b4b97c742c6a7872e0.xlsx\")"
   ]
  },
  {
   "cell_type": "code",
   "execution_count": 6,
   "id": "891646e8",
   "metadata": {},
   "outputs": [],
   "source": [
    "agent_name = agent_name[[\"username\",\"name\"]]"
   ]
  },
  {
   "cell_type": "markdown",
   "id": "5c3c143b",
   "metadata": {},
   "source": [
    "## Liste de tous les agents avec Leur nom"
   ]
  },
  {
   "cell_type": "code",
   "execution_count": 7,
   "id": "e735acc1",
   "metadata": {},
   "outputs": [
    {
     "data": {
      "text/html": [
       "<div>\n",
       "<style scoped>\n",
       "    .dataframe tbody tr th:only-of-type {\n",
       "        vertical-align: middle;\n",
       "    }\n",
       "\n",
       "    .dataframe tbody tr th {\n",
       "        vertical-align: top;\n",
       "    }\n",
       "\n",
       "    .dataframe thead th {\n",
       "        text-align: right;\n",
       "    }\n",
       "</style>\n",
       "<table border=\"1\" class=\"dataframe\">\n",
       "  <thead>\n",
       "    <tr style=\"text-align: right;\">\n",
       "      <th></th>\n",
       "      <th>username</th>\n",
       "      <th>name</th>\n",
       "    </tr>\n",
       "  </thead>\n",
       "  <tbody>\n",
       "    <tr>\n",
       "      <th>0</th>\n",
       "      <td>1aldonzar</td>\n",
       "      <td>elcie aldonzar</td>\n",
       "    </tr>\n",
       "    <tr>\n",
       "      <th>1</th>\n",
       "      <td>1alexandra</td>\n",
       "      <td>Alexandra Joseph</td>\n",
       "    </tr>\n",
       "    <tr>\n",
       "      <th>2</th>\n",
       "      <td>1annuelle</td>\n",
       "      <td>Annuelle Eustache</td>\n",
       "    </tr>\n",
       "    <tr>\n",
       "      <th>3</th>\n",
       "      <td>1cadet</td>\n",
       "      <td>Memie Cadet</td>\n",
       "    </tr>\n",
       "    <tr>\n",
       "      <th>4</th>\n",
       "      <td>1claudius</td>\n",
       "      <td>Claudius Gladys</td>\n",
       "    </tr>\n",
       "    <tr>\n",
       "      <th>...</th>\n",
       "      <td>...</td>\n",
       "      <td>...</td>\n",
       "    </tr>\n",
       "    <tr>\n",
       "      <th>761</th>\n",
       "      <td>s2julnor</td>\n",
       "      <td>Julnor Beaubrun</td>\n",
       "    </tr>\n",
       "    <tr>\n",
       "      <th>762</th>\n",
       "      <td>s2mirlene</td>\n",
       "      <td>Vernet Mirlene</td>\n",
       "    </tr>\n",
       "    <tr>\n",
       "      <th>763</th>\n",
       "      <td>stfleur</td>\n",
       "      <td>Jesula St Fleur</td>\n",
       "    </tr>\n",
       "    <tr>\n",
       "      <th>764</th>\n",
       "      <td>sylvietest</td>\n",
       "      <td>sylvie rousseau</td>\n",
       "    </tr>\n",
       "    <tr>\n",
       "      <th>765</th>\n",
       "      <td>yandre</td>\n",
       "      <td>Yves Andre</td>\n",
       "    </tr>\n",
       "  </tbody>\n",
       "</table>\n",
       "<p>766 rows × 2 columns</p>\n",
       "</div>"
      ],
      "text/plain": [
       "       username               name\n",
       "0     1aldonzar     elcie aldonzar\n",
       "1    1alexandra   Alexandra Joseph\n",
       "2     1annuelle  Annuelle Eustache\n",
       "3        1cadet        Memie Cadet\n",
       "4     1claudius    Claudius Gladys\n",
       "..          ...                ...\n",
       "761    s2julnor    Julnor Beaubrun\n",
       "762   s2mirlene     Vernet Mirlene\n",
       "763     stfleur    Jesula St Fleur\n",
       "764  sylvietest    sylvie rousseau\n",
       "765      yandre         Yves Andre\n",
       "\n",
       "[766 rows x 2 columns]"
      ]
     },
     "execution_count": 7,
     "metadata": {},
     "output_type": "execute_result"
    }
   ],
   "source": [
    "agent_name"
   ]
  },
  {
   "cell_type": "markdown",
   "id": "03be432a",
   "metadata": {},
   "source": [
    "## MERGE (Vlookup)"
   ]
  },
  {
   "cell_type": "code",
   "execution_count": 8,
   "id": "e3414d5b",
   "metadata": {},
   "outputs": [],
   "source": [
    "performanceAgents = agent_name.merge(agent,on=\"username\",how=\"inner\")"
   ]
  },
  {
   "cell_type": "code",
   "execution_count": 9,
   "id": "ab104cf9",
   "metadata": {},
   "outputs": [
    {
     "data": {
      "text/html": [
       "<div>\n",
       "<style scoped>\n",
       "    .dataframe tbody tr th:only-of-type {\n",
       "        vertical-align: middle;\n",
       "    }\n",
       "\n",
       "    .dataframe tbody tr th {\n",
       "        vertical-align: top;\n",
       "    }\n",
       "\n",
       "    .dataframe thead th {\n",
       "        text-align: right;\n",
       "    }\n",
       "</style>\n",
       "<table border=\"1\" class=\"dataframe\">\n",
       "  <thead>\n",
       "    <tr style=\"text-align: right;\">\n",
       "      <th></th>\n",
       "      <th>username</th>\n",
       "      <th>name</th>\n",
       "      <th>nbre</th>\n",
       "      <th>organisation</th>\n",
       "      <th>entry_date</th>\n",
       "    </tr>\n",
       "  </thead>\n",
       "  <tbody>\n",
       "    <tr>\n",
       "      <th>0</th>\n",
       "      <td>2billy</td>\n",
       "      <td>Billy jolicoeur</td>\n",
       "      <td>29</td>\n",
       "      <td>CARIS</td>\n",
       "      <td>2022-04-02 16:15:15</td>\n",
       "    </tr>\n",
       "    <tr>\n",
       "      <th>1</th>\n",
       "      <td>2davy</td>\n",
       "      <td>Jean Davy Mexil</td>\n",
       "      <td>141</td>\n",
       "      <td>CARIS</td>\n",
       "      <td>2022-04-04 12:36:22</td>\n",
       "    </tr>\n",
       "    <tr>\n",
       "      <th>2</th>\n",
       "      <td>2eliona</td>\n",
       "      <td>Eliona Fredly</td>\n",
       "      <td>15</td>\n",
       "      <td>CARIS</td>\n",
       "      <td>2022-03-28 18:51:48</td>\n",
       "    </tr>\n",
       "    <tr>\n",
       "      <th>3</th>\n",
       "      <td>2fabrice</td>\n",
       "      <td>Fabrice Byron</td>\n",
       "      <td>31</td>\n",
       "      <td>CARIS</td>\n",
       "      <td>2022-04-02 18:27:36</td>\n",
       "    </tr>\n",
       "    <tr>\n",
       "      <th>4</th>\n",
       "      <td>2wilnes</td>\n",
       "      <td>Gerant Louis Wilnes</td>\n",
       "      <td>81</td>\n",
       "      <td>CARIS</td>\n",
       "      <td>2022-04-02 13:18:25</td>\n",
       "    </tr>\n",
       "    <tr>\n",
       "      <th>5</th>\n",
       "      <td>2woodridchard</td>\n",
       "      <td>Wood-Ridchard Bon</td>\n",
       "      <td>82</td>\n",
       "      <td>CARIS</td>\n",
       "      <td>2022-04-02 14:24:14</td>\n",
       "    </tr>\n",
       "    <tr>\n",
       "      <th>6</th>\n",
       "      <td>6dasline</td>\n",
       "      <td>Dasline Sajet</td>\n",
       "      <td>50</td>\n",
       "      <td>CARIS</td>\n",
       "      <td>2022-04-03 15:05:32</td>\n",
       "    </tr>\n",
       "    <tr>\n",
       "      <th>7</th>\n",
       "      <td>6midlyne</td>\n",
       "      <td>Midlyne Dorvil</td>\n",
       "      <td>9</td>\n",
       "      <td>CARIS</td>\n",
       "      <td>2022-03-28 01:22:34</td>\n",
       "    </tr>\n",
       "    <tr>\n",
       "      <th>8</th>\n",
       "      <td>6solanda</td>\n",
       "      <td>Solanda Danestan</td>\n",
       "      <td>6</td>\n",
       "      <td>CARIS</td>\n",
       "      <td>2022-03-29 00:23:54</td>\n",
       "    </tr>\n",
       "    <tr>\n",
       "      <th>9</th>\n",
       "      <td>6stephanie</td>\n",
       "      <td>Stéphanie Nelson</td>\n",
       "      <td>20</td>\n",
       "      <td>CARIS</td>\n",
       "      <td>2022-03-28 12:36:58</td>\n",
       "    </tr>\n",
       "    <tr>\n",
       "      <th>10</th>\n",
       "      <td>6yolene</td>\n",
       "      <td>Yolène Théophile</td>\n",
       "      <td>6</td>\n",
       "      <td>CARIS</td>\n",
       "      <td>2022-04-02 19:33:31</td>\n",
       "    </tr>\n",
       "    <tr>\n",
       "      <th>11</th>\n",
       "      <td>6yousena</td>\n",
       "      <td>Yousena Démosthene</td>\n",
       "      <td>14</td>\n",
       "      <td>CARIS</td>\n",
       "      <td>2022-03-29 07:07:15</td>\n",
       "    </tr>\n",
       "  </tbody>\n",
       "</table>\n",
       "</div>"
      ],
      "text/plain": [
       "         username                 name  nbre organisation          entry_date\n",
       "0          2billy      Billy jolicoeur    29        CARIS 2022-04-02 16:15:15\n",
       "1           2davy      Jean Davy Mexil   141        CARIS 2022-04-04 12:36:22\n",
       "2         2eliona        Eliona Fredly    15        CARIS 2022-03-28 18:51:48\n",
       "3        2fabrice        Fabrice Byron    31        CARIS 2022-04-02 18:27:36\n",
       "4         2wilnes  Gerant Louis Wilnes    81        CARIS 2022-04-02 13:18:25\n",
       "5   2woodridchard    Wood-Ridchard Bon    82        CARIS 2022-04-02 14:24:14\n",
       "6        6dasline        Dasline Sajet    50        CARIS 2022-04-03 15:05:32\n",
       "7        6midlyne       Midlyne Dorvil     9        CARIS 2022-03-28 01:22:34\n",
       "8        6solanda     Solanda Danestan     6        CARIS 2022-03-29 00:23:54\n",
       "9      6stephanie     Stéphanie Nelson    20        CARIS 2022-03-28 12:36:58\n",
       "10        6yolene     Yolène Théophile     6        CARIS 2022-04-02 19:33:31\n",
       "11       6yousena   Yousena Démosthene    14        CARIS 2022-03-29 07:07:15"
      ]
     },
     "execution_count": 9,
     "metadata": {},
     "output_type": "execute_result"
    }
   ],
   "source": [
    "performanceAgents"
   ]
  },
  {
   "cell_type": "code",
   "execution_count": 10,
   "id": "a35226c5",
   "metadata": {},
   "outputs": [
    {
     "data": {
      "text/plain": [
       "484"
      ]
     },
     "execution_count": 10,
     "metadata": {},
     "output_type": "execute_result"
    }
   ],
   "source": [
    "performanceAgents.nbre.sum()"
   ]
  },
  {
   "cell_type": "code",
   "execution_count": 11,
   "id": "e7a30934",
   "metadata": {},
   "outputs": [],
   "source": [
    "import matplotlib.pyplot as plt\n",
    "import seaborn as sns\n",
    "%matplotlib inline"
   ]
  },
  {
   "cell_type": "code",
   "execution_count": 12,
   "id": "a408764f",
   "metadata": {},
   "outputs": [],
   "source": [
    "from datetime import datetime\n",
    "date_du_jour = datetime.today().strftime(\"%d_%m_%Y\")"
   ]
  },
  {
   "cell_type": "code",
   "execution_count": 13,
   "id": "aa8db1d0",
   "metadata": {},
   "outputs": [],
   "source": [
    "orderdata = performanceAgents.nbre.sort_values().to_list()"
   ]
  },
  {
   "cell_type": "code",
   "execution_count": 14,
   "id": "8f613dd7",
   "metadata": {},
   "outputs": [
    {
     "data": {
      "image/png": "[encoded data removed]",
      "text/plain": [
       "<Figure size 1152x576 with 1 Axes>"
      ]
     },
     "metadata": {
      "needs_background": "light"
     },
     "output_type": "display_data"
    }
   ],
   "source": [
    "try:\n",
    "    plt.figure(figsize=(16,8))\n",
    "    #plt.subplots(figsize=(16,8))\n",
    "    sns.set_style(\"darkgrid\")\n",
    "    splot = sns.barplot(x=\"nbre\",y=\"name\",data=performanceAgents,color=\"Green\",order=performanceAgents.sort_values(\"nbre\",ascending=False).name,ci=False)\n",
    "    splot.set_xlabel(\"\")\n",
    "    splot.set_ylabel(\"\")\n",
    "    plt.suptitle(f\"Nombre de formulaire d'enrollement saisie par les DataClerks depuis le  {Constante.specific.value}\")\n",
    "    for p in splot.patches:\n",
    "        width = p.get_width()\n",
    "        plt.text(0.25+p.get_width(), p.get_y()+0.50*p.get_height(),\n",
    "                '{:1.0f}'.format(width),fontdict=dict(color=\"red\",fontsize=12))\n",
    "\n",
    "    plt.annotate(\n",
    "        \"source: HIVHaiti\",(0,0), (-80,-20), fontsize=10, \n",
    "                xycoords='axes fraction', textcoords='offset points', va='top'\n",
    "    )\n",
    "\n",
    "    #plt.savefig(f\"saisie_screening_{date_du_jour}\",dpi=1000)\n",
    "    plt.savefig(f\"saisie_screening\",dpi=1000)\n",
    "except ValueError:\n",
    "    print(\"No data is avalaible\")"
   ]
  },
  {
   "cell_type": "code",
   "execution_count": 15,
   "id": "6f65374e",
   "metadata": {},
   "outputs": [
    {
     "data": {
      "text/plain": [
       "484"
      ]
     },
     "execution_count": 15,
     "metadata": {},
     "output_type": "execute_result"
    }
   ],
   "source": [
    "performanceAgents.nbre.sum()\n"
   ]
  },
  {
   "cell_type": "code",
   "execution_count": 16,
   "id": "7afeceb0",
   "metadata": {},
   "outputs": [
    {
     "name": "stderr",
     "output_type": "stream",
     "text": [
      "[0404/091120.994539:INFO:headless_shell.cc(659)] Written to file /var/folders/7v/rs0k237d6nj3vdxfc1h7xtcw0000gn/T/tmpnllxkh7q/temp.png.\n"
     ]
    }
   ],
   "source": [
    "export(pd.DataFrame({f\"Nombre total d'enrolement depuis le {Constante.specific.value}\": [performanceAgents.nbre.sum()]}),'total_enrolement.png')\n"
   ]
  },
  {
   "cell_type": "code",
   "execution_count": 17,
   "id": "9ef7c66b",
   "metadata": {},
   "outputs": [],
   "source": [
    "performanceAgents.to_excel(f\"performance_formulaire_denrolement.xlsx\",index=False,na_rep=\"NULL\")\n",
    "#performanceAgents.to_excel(f\"performance_formulaire_denrolement_{date_du_jour}.xlsx\",index=False,na_rep=\"NULL\")\n",
    "#performanceAgents.to_excel(f\"performance_formulaire_denrolement_depuis_1Mars2021.xlsx\",index=False,na_rep=\"NULL\")"
   ]
  },
  {
   "cell_type": "code",
   "execution_count": null,
   "id": "258104a2",
   "metadata": {},
   "outputs": [],
   "source": []
  }
 ],
 "metadata": {
  "interpreter": {
   "hash": "4534460e0bdca1b390927d45471088fb3501d39abc4e3f2cee293892e17d7fc6"
  },
  "kernelspec": {
   "display_name": "Python 3.9.7 64-bit",
   "name": "python3"
  },
  "language_info": {
   "codemirror_mode": {
    "name": "ipython",
    "version": 3
   },
   "file_extension": ".py",
   "mimetype": "text/x-python",
   "name": "python",
   "nbconvert_exporter": "python",
   "pygments_lexer": "ipython3",
   "version": "3.9.9"
  }
 },
 "nbformat": 4,
 "nbformat_minor": 5
}
