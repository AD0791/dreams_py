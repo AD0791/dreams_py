{
 "cells": [
  {
   "cell_type": "code",
   "execution_count": 1,
   "metadata": {},
   "outputs": [],
   "source": [
    "from pandas import read_excel, to_datetime, DataFrame, read_sql_query, to_datetime\n",
    "from datetime import datetime\n",
    "import warnings\n",
    "warnings.filterwarnings('ignore')\n",
    "from dateutil.parser import parse\n",
    "from selenium import webdriver\n",
    "from webdriver_manager.chrome import ChromeDriverManager\n",
    "from selenium.webdriver.common.by import By\n",
    "import time\n",
    "from IPython.core.interactiveshell import InteractiveShell\n",
    "InteractiveShell.ast_node_interactivity = 'all'\n",
    "import os\n",
    "from dotenv import load_dotenv\n",
    "#import plotly.express as px\n",
    "import openpyxl\n",
    "import pymysql\n",
    "\n",
    "from sqlalchemy import create_engine\n",
    "from decouple import config \n",
    "\n",
    "from dateutil.relativedelta import relativedelta\n",
    "from dateutil.parser import parse\n",
    "from datetime import datetime\n",
    "date_du_jour = datetime.today().strftime(\"%d_%m_%Y\")"
   ]
  },
  {
   "cell_type": "code",
   "execution_count": 2,
   "metadata": {},
   "outputs": [
    {
     "data": {
      "text/plain": [
       "True"
      ]
     },
     "execution_count": 2,
     "metadata": {},
     "output_type": "execute_result"
    }
   ],
   "source": [
    "load_dotenv('id_cc.env')\n",
    "# get the environment variables needed\n",
    "USER= config('USRCaris')\n",
    "PASSWORD= config('PASSCaris')\n",
    "HOSTNAME= config('HOSTCaris')\n",
    "DBNAME= config('DBCaris')\n",
    "\n",
    "# get the engine to connect and fetch\n",
    "engine = create_engine(f\"mysql+pymysql://{USER}:{PASSWORD}@{HOSTNAME}/{DBNAME}\")"
   ]
  },
  {
   "cell_type": "code",
   "execution_count": 3,
   "metadata": {},
   "outputs": [],
   "source": [
    "query = '''\n",
    "SELECT \n",
    "    dm.id_patient as id_patient,\n",
    "    d.case_id,\n",
    "    p.patient_code AS code,\n",
    "    d.a_non_patisipan_an AS first_name,\n",
    "    d.b_siyati AS last_name,\n",
    "    TIMESTAMPDIFF(YEAR,\n",
    "        d.nan_ki_dat_ou_fet,\n",
    "        now()) AS age,\n",
    "    d.nan_ki_dat_ou_fet AS dob,\n",
    "    d.a1_dat_entvyou_a_ft_jjmmaa_egz_010817 AS interview_date,\n",
    "    d.e__telefn,\n",
    "    d.d_adrs AS adress,\n",
    "    IF(dm.id IS NOT NULL, 'yes', 'no') AS already_in_a_group,\n",
    "    dm.id_group AS actual_id_group,\n",
    "    dg.name AS actual_group_name,\n",
    "    dm.id_parenting_group AS actual_id_parenting_group,\n",
    "    dpg.name AS actual_parenting_group_name,\n",
    "    dh.name AS actual_hub,\n",
    "    ld.name AS actual_departement,\n",
    "    d.f_komin AS commune,\n",
    "    d.g_seksyon_kominal AS commune_section,\n",
    "    d.b1_non_moun_mennen_entvyou_a AS interviewer_firstname,\n",
    "    d.c1_siyati_moun_ki_f_entvyou_a AS interviewer_lastname,\n",
    "    d.d1_kad AS interviewer_role,\n",
    "    d.lot_kad AS interviewer_other_info,\n",
    "    d.h_kote_entvyou_a_ft AS interview_location,\n",
    "    d.paran_ou_vivan AS is_your_parent_alive,\n",
    "    d.i_non_manman AS mothers_name,\n",
    "    d.j_non_papa AS fathers_name,\n",
    "    d.k_reskonsab_devan_lalwa AS who_is_your_law_parent,\n",
    "    d.total,\n",
    "    d.organisation,\n",
    "    d.form_link\n",
    "FROM\n",
    "    caris_db.dreams_surveys_data d\n",
    "        LEFT JOIN\n",
    "    dream_member dm ON dm.case_id = d.case_id\n",
    "        LEFT JOIN\n",
    "    patient p ON p.id = dm.id_patient\n",
    "        LEFT JOIN\n",
    "    dream_group dg ON dg.id = dm.id_group\n",
    "        LEFT JOIN\n",
    "    dream_group dpg ON dpg.id = dm.id_parenting_group\n",
    "        LEFT JOIN\n",
    "    dream_hub dh ON dh.id = dg.id_dream_hub\n",
    "        LEFT JOIN\n",
    "    lookup_commune lc ON lc.id = dh.commune\n",
    "        LEFT JOIN\n",
    "    lookup_departement ld ON ld.id = lc.departement\n",
    "'''\n"
   ]
  },
  {
   "cell_type": "code",
   "execution_count": 4,
   "metadata": {},
   "outputs": [],
   "source": [
    "sdata= read_sql_query(query,engine,parse_dates=True)\n",
    "#sdata.id_patient = sdata.id_patient.astype(int16)\n",
    "#sdata.age = sdata.age.astype(int16)\n",
    "SDATA = sdata[sdata.total>=14]\n",
    "\n",
    "# close the pool of connection\n",
    "engine.dispose()"
   ]
  },
  {
   "cell_type": "code",
   "execution_count": 5,
   "metadata": {},
   "outputs": [
    {
     "data": {
      "text/plain": [
       "True"
      ]
     },
     "execution_count": 5,
     "metadata": {},
     "output_type": "execute_result"
    },
    {
     "name": "stderr",
     "output_type": "stream",
     "text": [
      "[WDM] - Downloading: 100%|██████████| 8.72M/8.72M [00:07<00:00, 1.27MB/s]\n"
     ]
    }
   ],
   "source": [
    "#Connecting to Commcare\n",
    "load_dotenv('id_cc.env')\n",
    "email = os.getenv('COMCARE_EMAIL')\n",
    "password_cc = os.getenv('COMCARE_PASSWORD')\n",
    "\n",
    "#Defining the driver\n",
    "driver = webdriver.Chrome(ChromeDriverManager().install())\n",
    "driver.implicitly_wait(1000)\n",
    "\n",
    "#Creating login function\n",
    "def dreams_schooling():\n",
    "    driver.get(\n",
    "        'https://www.commcarehq.org/a/caris-test/data/export/custom/new/case/download/ae3ce02aad63402d0108435a413d38cb/'\n",
    "    )\n",
    "    #driver.find_element_by_xpath('//*[@id=\"id_auth-username\"]').send_keys(email)\n",
    "    driver.find_element(By.XPATH,'//*[@id=\"id_auth-username\"]').send_keys(email)\n",
    "    #driver.find_element_by_xpath('//*[@id=\"id_auth-password\"]').send_keys(password_cc)\n",
    "    driver.find_element(By.XPATH,'//*[@id=\"id_auth-password\"]').send_keys(password_cc)\n",
    "    driver.find_element(By.CSS_SELECTOR,'button[type=submit]').click()\n",
    "\n",
    "#Muso beneficiaries\n",
    "dreams_schooling()\n",
    "\n",
    "#Download the database \"All gardens\"\n",
    "#driver.find_element_by_xpath('//*[@id=\"download-export-form\"]/form/div[2]/div/div[2]/div[1]/button/span[1]').click()\n",
    "driver.find_element(By.XPATH,\"//*[@id='download-export-form']/form/div[2]/div/div[2]/div[1]/button/span[1]\").click()\n",
    "#driver.find_element_by_xpath('//*[@id=\"download-progress\"]/div/div/div[2]/div[1]/form/a/span[1]').click()    \n",
    "driver.find_element(By.XPATH,\"//*[@id='download-progress']/div/div/div[2]/div[1]/form/a/span[1]\").click()    \n",
    "\n",
    "#-----------------------------------------------------------------------------------------------------------------------\n",
    "\n",
    "#Household count\n",
    "def dreams_schooling_household():\n",
    "    driver.get(\n",
    "        'https://www.commcarehq.org/a/caris-test/data/export/custom/new/case/download/0202f95655479a37cb7c8cc4f5a9ae8c/'\n",
    "    )\n",
    "    \n",
    "dreams_schooling_household()\n",
    "\n",
    "#Download the database \"Household count\"\n",
    "#driver.find_element_by_xpath('//*[@id=\"download-export-form\"]/form/div[2]/div/div[2]/div[1]/button/span[1]').click()\n",
    "driver.find_element(By.XPATH,'//*[@id=\"download-export-form\"]/form/div[2]/div/div[2]/div[1]/button/span[1]').click()\n",
    "#driver.find_element_by_xpath('//*[@id=\"download-progress\"]/div/div/div[2]/div[1]/form/a/span[1]').click()\n",
    "driver.find_element(By.XPATH,'//*[@id=\"download-progress\"]/div/div/div[2]/div[1]/form/a/span[1]').click()"
   ]
  },
  {
   "cell_type": "code",
   "execution_count": 6,
   "metadata": {},
   "outputs": [],
   "source": [
    "schooling_dreams = read_excel(f\"~/Downloads/schooling_dreams {str(datetime.today().strftime('%Y-%m-%d'))}.xlsx\")\n",
    "dreams_schooling_household = read_excel(f\"~/Downloads/dreams_schooling_household {str(datetime.today().strftime('%Y-%m-%d'))}.xlsx\")"
   ]
  },
  {
   "cell_type": "markdown",
   "metadata": {},
   "source": [
    "## Schooling DREAMS"
   ]
  },
  {
   "cell_type": "code",
   "execution_count": 7,
   "metadata": {},
   "outputs": [],
   "source": [
    "schooling_dreams.rename(\n",
    "    columns={\n",
    "        'dreams_code':\"code\"\n",
    "    },\n",
    "    inplace=True\n",
    ")\n",
    "dreams_schooling_household.rename(\n",
    "    columns={\n",
    "        'dreams_code':\"code\"\n",
    "    },\n",
    "    inplace=True\n",
    ")"
   ]
  },
  {
   "cell_type": "code",
   "execution_count": 8,
   "metadata": {},
   "outputs": [],
   "source": [
    "schooling_dreams = schooling_dreams.merge(SDATA[['id_patient','code','age','dob']],on=\"code\",how=\"left\")"
   ]
  },
  {
   "cell_type": "code",
   "execution_count": 9,
   "metadata": {},
   "outputs": [],
   "source": [
    "year = ['2022-2023','2023-2024']\n",
    "schooling_dreams = schooling_dreams[schooling_dreams['schooling_year'].isin(year)]"
   ]
  },
  {
   "cell_type": "code",
   "execution_count": 10,
   "metadata": {},
   "outputs": [],
   "source": [
    "schooling_dreams = schooling_dreams[schooling_dreams.closed == False]\n",
    "vouchers = schooling_dreams[schooling_dreams.is_schooling_vouchers_elligible=='1']\n",
    "payed_schooling_dreams = schooling_dreams[schooling_dreams.eskew_peye == \"1\"]\n",
    "vouchers_payed = payed_schooling_dreams[payed_schooling_dreams.is_schooling_vouchers_elligible=='1']"
   ]
  },
  {
   "cell_type": "code",
   "execution_count": 11,
   "metadata": {},
   "outputs": [
    {
     "data": {
      "text/plain": [
       "294"
      ]
     },
     "execution_count": 11,
     "metadata": {},
     "output_type": "execute_result"
    },
    {
     "data": {
      "text/plain": [
       "291"
      ]
     },
     "execution_count": 11,
     "metadata": {},
     "output_type": "execute_result"
    },
    {
     "data": {
      "text/plain": [
       "222"
      ]
     },
     "execution_count": 11,
     "metadata": {},
     "output_type": "execute_result"
    }
   ],
   "source": [
    "schooling_dreams.caseid.count()\n",
    "vouchers.caseid.count()\n",
    "payed_schooling_dreams.caseid.count()"
   ]
  },
  {
   "cell_type": "code",
   "execution_count": 12,
   "metadata": {},
   "outputs": [],
   "source": [
    "from datetime import datetime\n",
    "from numpy import int16\n",
    "\n",
    "def get_age(date):\n",
    "    return datetime.now().year - date.year\n",
    "\n",
    "def tranche_age_classique(age):\n",
    "    \"\"\"age classique\"\"\"\n",
    "    if age>=10 and age<=14:\n",
    "        return \"10-14\"\n",
    "    elif age>=15 and age<=19:\n",
    "        return \"15-19\"\n",
    "    elif age>=20 and age<=24:\n",
    "        return \"20-24\"\n",
    "    elif age>=25 and age<=29:\n",
    "        return \"25-29\"\n",
    "    else:\n",
    "        return \"not_valid_age\"\n",
    "        \n",
    "def tranche_age_mineur_majeur(age):\n",
    "    \"\"\"minor and major age\"\"\"\n",
    "    if age>=10 and age<=17:\n",
    "        return \"10-17\"\n",
    "    elif age>=18 and age<=19:\n",
    "        return \"18-19\"\n",
    "    elif age>=20 and age<=24:\n",
    "        return \"20-24\"\n",
    "    elif age>=25 and age<=29:\n",
    "        return \"25-29\"\n",
    "    else:\n",
    "        return \"not_valid_age\"\n",
    "    \n",
    "def ovc_age(age):\n",
    "    \"\"\"ovc valid age\"\"\"\n",
    "    if age>=10 and age<=14:\n",
    "        return \"10-14\"\n",
    "    if age>=15 and age<=17:\n",
    "        return \"15-17\"\n",
    "    elif age>=18 and age<=24:\n",
    "        return \"not_ovc_age\"\n",
    "    else:\n",
    "        return \"not_valid_age\""
   ]
  },
  {
   "cell_type": "code",
   "execution_count": 13,
   "metadata": {},
   "outputs": [],
   "source": [
    "payed_schooling_dreams.dob = to_datetime(payed_schooling_dreams.dob,errors=\"coerce\")"
   ]
  },
  {
   "cell_type": "code",
   "execution_count": 14,
   "metadata": {},
   "outputs": [],
   "source": [
    "payed_schooling_dreams.loc[:,'tranche_age'] = payed_schooling_dreams.loc[:,\"age\"].apply(lambda age: tranche_age_classique(age))\n",
    "payed_schooling_dreams.loc[:,'tranche_age_min_maj'] = payed_schooling_dreams.loc[:,\"age\"].apply(lambda age: tranche_age_mineur_majeur(age))\n",
    "payed_schooling_dreams.loc[:,'tranche_age_ovc'] = payed_schooling_dreams.loc[:,\"age\"].apply(lambda age: ovc_age(age))\n"
   ]
  },
  {
   "cell_type": "code",
   "execution_count": 15,
   "metadata": {},
   "outputs": [
    {
     "data": {
      "text/html": [
       "<div>\n",
       "<style scoped>\n",
       "    .dataframe tbody tr th:only-of-type {\n",
       "        vertical-align: middle;\n",
       "    }\n",
       "\n",
       "    .dataframe tbody tr th {\n",
       "        vertical-align: top;\n",
       "    }\n",
       "\n",
       "    .dataframe thead th {\n",
       "        text-align: right;\n",
       "    }\n",
       "</style>\n",
       "<table border=\"1\" class=\"dataframe\">\n",
       "  <thead>\n",
       "    <tr style=\"text-align: right;\">\n",
       "      <th></th>\n",
       "      <th>caseid</th>\n",
       "    </tr>\n",
       "    <tr>\n",
       "      <th>tranche_age</th>\n",
       "      <th></th>\n",
       "    </tr>\n",
       "  </thead>\n",
       "  <tbody>\n",
       "    <tr>\n",
       "      <th>10-14</th>\n",
       "      <td>165</td>\n",
       "    </tr>\n",
       "    <tr>\n",
       "      <th>15-19</th>\n",
       "      <td>54</td>\n",
       "    </tr>\n",
       "    <tr>\n",
       "      <th>20-24</th>\n",
       "      <td>3</td>\n",
       "    </tr>\n",
       "    <tr>\n",
       "      <th>Total</th>\n",
       "      <td>222</td>\n",
       "    </tr>\n",
       "  </tbody>\n",
       "</table>\n",
       "</div>"
      ],
      "text/plain": [
       "             caseid\n",
       "tranche_age        \n",
       "10-14           165\n",
       "15-19            54\n",
       "20-24             3\n",
       "Total           222"
      ]
     },
     "execution_count": 15,
     "metadata": {},
     "output_type": "execute_result"
    },
    {
     "data": {
      "text/html": [
       "<div>\n",
       "<style scoped>\n",
       "    .dataframe tbody tr th:only-of-type {\n",
       "        vertical-align: middle;\n",
       "    }\n",
       "\n",
       "    .dataframe tbody tr th {\n",
       "        vertical-align: top;\n",
       "    }\n",
       "\n",
       "    .dataframe thead th {\n",
       "        text-align: right;\n",
       "    }\n",
       "</style>\n",
       "<table border=\"1\" class=\"dataframe\">\n",
       "  <thead>\n",
       "    <tr style=\"text-align: right;\">\n",
       "      <th></th>\n",
       "      <th>caseid</th>\n",
       "    </tr>\n",
       "    <tr>\n",
       "      <th>tranche_age_min_maj</th>\n",
       "      <th></th>\n",
       "    </tr>\n",
       "  </thead>\n",
       "  <tbody>\n",
       "    <tr>\n",
       "      <th>10-17</th>\n",
       "      <td>209</td>\n",
       "    </tr>\n",
       "    <tr>\n",
       "      <th>18-19</th>\n",
       "      <td>10</td>\n",
       "    </tr>\n",
       "    <tr>\n",
       "      <th>20-24</th>\n",
       "      <td>3</td>\n",
       "    </tr>\n",
       "    <tr>\n",
       "      <th>Total</th>\n",
       "      <td>222</td>\n",
       "    </tr>\n",
       "  </tbody>\n",
       "</table>\n",
       "</div>"
      ],
      "text/plain": [
       "                     caseid\n",
       "tranche_age_min_maj        \n",
       "10-17                   209\n",
       "18-19                    10\n",
       "20-24                     3\n",
       "Total                   222"
      ]
     },
     "execution_count": 15,
     "metadata": {},
     "output_type": "execute_result"
    }
   ],
   "source": [
    "payed_schooling_dreams.pivot_table(\n",
    "    values=\"caseid\",\n",
    "    index=\"tranche_age\",\n",
    "    aggfunc='count',\n",
    "    fill_value=0,\n",
    "    margins=True,\n",
    "    margins_name=\"Total\"\n",
    ")\n",
    "payed_schooling_dreams.pivot_table(\n",
    "    values=\"caseid\",\n",
    "    index=\"tranche_age_min_maj\",\n",
    "    aggfunc='count',\n",
    "    fill_value=0,\n",
    "    margins=True,\n",
    "    margins_name=\"Total\"\n",
    ")"
   ]
  },
  {
   "cell_type": "code",
   "execution_count": 16,
   "metadata": {},
   "outputs": [
    {
     "data": {
      "text/plain": [
       "222"
      ]
     },
     "execution_count": 16,
     "metadata": {},
     "output_type": "execute_result"
    },
    {
     "data": {
      "text/plain": [
       "219"
      ]
     },
     "execution_count": 16,
     "metadata": {},
     "output_type": "execute_result"
    }
   ],
   "source": [
    "payed_schooling_dreams.caseid.count()\n",
    "vouchers_payed.caseid.count()"
   ]
  },
  {
   "cell_type": "code",
   "execution_count": 17,
   "metadata": {},
   "outputs": [],
   "source": [
    "payed_schooling_dreams.to_excel('./payed_schooling_dreams.xlsx',index=False)"
   ]
  },
  {
   "cell_type": "markdown",
   "metadata": {},
   "source": [
    "## Household\n",
    "---\n",
    "\n"
   ]
  },
  {
   "cell_type": "code",
   "execution_count": 18,
   "metadata": {},
   "outputs": [
    {
     "data": {
      "text/plain": [
       "234"
      ]
     },
     "execution_count": 18,
     "metadata": {},
     "output_type": "execute_result"
    }
   ],
   "source": [
    "dreams_schooling_household.caseid.count()"
   ]
  },
  {
   "cell_type": "code",
   "execution_count": 19,
   "metadata": {},
   "outputs": [
    {
     "data": {
      "text/plain": [
       "number                                        229\n",
       "caseid                                        229\n",
       "name                                           48\n",
       "arv                                             2\n",
       "commune                                         4\n",
       "dob                                            74\n",
       "code                                           80\n",
       "est-ce_que_cette_personne_est_un_caregiver      2\n",
       "office                                          1\n",
       "often_sick                                      2\n",
       "positif                                         3\n",
       "sexe                                            2\n",
       "test                                            2\n",
       "indices.schooling_dreams                       80\n",
       "closed                                          1\n",
       "closed_by_username                              1\n",
       "closed_date                                     1\n",
       "last_modified_by_user_username                  7\n",
       "last_modified_date                             81\n",
       "opened_by_username                              7\n",
       "opened_date                                    81\n",
       "owner_name                                      1\n",
       "case_link                                     229\n",
       "dtype: int64"
      ]
     },
     "execution_count": 19,
     "metadata": {},
     "output_type": "execute_result"
    }
   ],
   "source": [
    "dreams_schooling_household = dreams_schooling_household[dreams_schooling_household.closed==False]\n",
    "dreams_schooling_household.nunique()"
   ]
  },
  {
   "cell_type": "code",
   "execution_count": 20,
   "metadata": {},
   "outputs": [
    {
     "data": {
      "text/html": [
       "<div>\n",
       "<style scoped>\n",
       "    .dataframe tbody tr th:only-of-type {\n",
       "        vertical-align: middle;\n",
       "    }\n",
       "\n",
       "    .dataframe tbody tr th {\n",
       "        vertical-align: top;\n",
       "    }\n",
       "\n",
       "    .dataframe thead th {\n",
       "        text-align: right;\n",
       "    }\n",
       "</style>\n",
       "<table border=\"1\" class=\"dataframe\">\n",
       "  <thead>\n",
       "    <tr style=\"text-align: right;\">\n",
       "      <th></th>\n",
       "      <th>number</th>\n",
       "      <th>caseid</th>\n",
       "      <th>name</th>\n",
       "      <th>arv</th>\n",
       "      <th>commune</th>\n",
       "      <th>dob</th>\n",
       "      <th>code</th>\n",
       "      <th>est-ce_que_cette_personne_est_un_caregiver</th>\n",
       "      <th>office</th>\n",
       "      <th>often_sick</th>\n",
       "      <th>...</th>\n",
       "      <th>indices.schooling_dreams</th>\n",
       "      <th>closed</th>\n",
       "      <th>closed_by_username</th>\n",
       "      <th>closed_date</th>\n",
       "      <th>last_modified_by_user_username</th>\n",
       "      <th>last_modified_date</th>\n",
       "      <th>opened_by_username</th>\n",
       "      <th>opened_date</th>\n",
       "      <th>owner_name</th>\n",
       "      <th>case_link</th>\n",
       "    </tr>\n",
       "  </thead>\n",
       "  <tbody>\n",
       "    <tr>\n",
       "      <th>3</th>\n",
       "      <td>3</td>\n",
       "      <td>24b4cad1-95f3-4b00-8d01-524c9bfbbc9f</td>\n",
       "      <td>4</td>\n",
       "      <td>non</td>\n",
       "      <td>petion_ville</td>\n",
       "      <td>2018-09-12</td>\n",
       "      <td>PAP/DRMS/239424613</td>\n",
       "      <td>0.0</td>\n",
       "      <td>PAP</td>\n",
       "      <td>non</td>\n",
       "      <td>...</td>\n",
       "      <td>1e87fc29-aca7-46ba-9ab6-c96c87b09d4f</td>\n",
       "      <td>False</td>\n",
       "      <td>---</td>\n",
       "      <td>---</td>\n",
       "      <td>s2toussaint</td>\n",
       "      <td>2022-09-12 19:31:45</td>\n",
       "      <td>s2toussaint</td>\n",
       "      <td>2022-09-12 19:31:45</td>\n",
       "      <td>PAP</td>\n",
       "      <td>https://www.commcarehq.org/a/caris-test/report...</td>\n",
       "    </tr>\n",
       "    <tr>\n",
       "      <th>4</th>\n",
       "      <td>4</td>\n",
       "      <td>f32564f3-311f-489a-b677-93b5286f4d89</td>\n",
       "      <td>32</td>\n",
       "      <td>---</td>\n",
       "      <td>petion_ville</td>\n",
       "      <td>1990-09-12</td>\n",
       "      <td>PAP/DRMS/239424613</td>\n",
       "      <td>1.0</td>\n",
       "      <td>PAP</td>\n",
       "      <td>---</td>\n",
       "      <td>...</td>\n",
       "      <td>1e87fc29-aca7-46ba-9ab6-c96c87b09d4f</td>\n",
       "      <td>False</td>\n",
       "      <td>---</td>\n",
       "      <td>---</td>\n",
       "      <td>s2toussaint</td>\n",
       "      <td>2022-09-12 19:31:45</td>\n",
       "      <td>s2toussaint</td>\n",
       "      <td>2022-09-12 19:31:45</td>\n",
       "      <td>PAP</td>\n",
       "      <td>https://www.commcarehq.org/a/caris-test/report...</td>\n",
       "    </tr>\n",
       "    <tr>\n",
       "      <th>5</th>\n",
       "      <td>5</td>\n",
       "      <td>026ecd36-f30c-4a9a-8b3a-4737632f9b1a</td>\n",
       "      <td>4</td>\n",
       "      <td>non</td>\n",
       "      <td>petion_ville</td>\n",
       "      <td>2018-09-12</td>\n",
       "      <td>PAP/DRMS/239424613</td>\n",
       "      <td>0.0</td>\n",
       "      <td>PAP</td>\n",
       "      <td>non</td>\n",
       "      <td>...</td>\n",
       "      <td>1e87fc29-aca7-46ba-9ab6-c96c87b09d4f</td>\n",
       "      <td>False</td>\n",
       "      <td>---</td>\n",
       "      <td>---</td>\n",
       "      <td>s2toussaint</td>\n",
       "      <td>2022-09-12 19:31:45</td>\n",
       "      <td>s2toussaint</td>\n",
       "      <td>2022-09-12 19:31:45</td>\n",
       "      <td>PAP</td>\n",
       "      <td>https://www.commcarehq.org/a/caris-test/report...</td>\n",
       "    </tr>\n",
       "    <tr>\n",
       "      <th>6</th>\n",
       "      <td>6</td>\n",
       "      <td>abc66e51-ef2b-45f6-b668-5a8e31218251</td>\n",
       "      <td>6</td>\n",
       "      <td>non</td>\n",
       "      <td>petion_ville</td>\n",
       "      <td>2016-09-11</td>\n",
       "      <td>PAP/DRMS/239424613</td>\n",
       "      <td>0.0</td>\n",
       "      <td>PAP</td>\n",
       "      <td>non</td>\n",
       "      <td>...</td>\n",
       "      <td>1e87fc29-aca7-46ba-9ab6-c96c87b09d4f</td>\n",
       "      <td>False</td>\n",
       "      <td>---</td>\n",
       "      <td>---</td>\n",
       "      <td>s2toussaint</td>\n",
       "      <td>2022-09-12 19:31:45</td>\n",
       "      <td>s2toussaint</td>\n",
       "      <td>2022-09-12 19:31:45</td>\n",
       "      <td>PAP</td>\n",
       "      <td>https://www.commcarehq.org/a/caris-test/report...</td>\n",
       "    </tr>\n",
       "    <tr>\n",
       "      <th>7</th>\n",
       "      <td>7</td>\n",
       "      <td>3052e750-03b9-4f33-af12-4ecfdbc27e6e</td>\n",
       "      <td>12</td>\n",
       "      <td>non</td>\n",
       "      <td>petion_ville</td>\n",
       "      <td>2010-09-12</td>\n",
       "      <td>PAP/DRMS/133431906</td>\n",
       "      <td>0.0</td>\n",
       "      <td>PAP</td>\n",
       "      <td>non</td>\n",
       "      <td>...</td>\n",
       "      <td>a07c3aa7-2096-4821-a1b7-bba7e283e20c</td>\n",
       "      <td>False</td>\n",
       "      <td>---</td>\n",
       "      <td>---</td>\n",
       "      <td>s2toussaint</td>\n",
       "      <td>2022-09-12 19:35:54</td>\n",
       "      <td>s2toussaint</td>\n",
       "      <td>2022-09-12 19:35:54</td>\n",
       "      <td>PAP</td>\n",
       "      <td>https://www.commcarehq.org/a/caris-test/report...</td>\n",
       "    </tr>\n",
       "    <tr>\n",
       "      <th>...</th>\n",
       "      <td>...</td>\n",
       "      <td>...</td>\n",
       "      <td>...</td>\n",
       "      <td>...</td>\n",
       "      <td>...</td>\n",
       "      <td>...</td>\n",
       "      <td>...</td>\n",
       "      <td>...</td>\n",
       "      <td>...</td>\n",
       "      <td>...</td>\n",
       "      <td>...</td>\n",
       "      <td>...</td>\n",
       "      <td>...</td>\n",
       "      <td>...</td>\n",
       "      <td>...</td>\n",
       "      <td>...</td>\n",
       "      <td>...</td>\n",
       "      <td>...</td>\n",
       "      <td>...</td>\n",
       "      <td>...</td>\n",
       "      <td>...</td>\n",
       "    </tr>\n",
       "    <tr>\n",
       "      <th>229</th>\n",
       "      <td>229</td>\n",
       "      <td>f0541206-0af7-4414-a683-f461c83ef4bf</td>\n",
       "      <td>40</td>\n",
       "      <td>---</td>\n",
       "      <td>petion_ville</td>\n",
       "      <td>1982-09-23</td>\n",
       "      <td>PAP/DRMS/190449304</td>\n",
       "      <td>1.0</td>\n",
       "      <td>PAP</td>\n",
       "      <td>---</td>\n",
       "      <td>...</td>\n",
       "      <td>3780b985-c424-4b85-bb27-1306d1c8dfd9</td>\n",
       "      <td>False</td>\n",
       "      <td>---</td>\n",
       "      <td>---</td>\n",
       "      <td>2jgerald</td>\n",
       "      <td>2022-09-23 16:01:23</td>\n",
       "      <td>2jgerald</td>\n",
       "      <td>2022-09-23 16:01:23</td>\n",
       "      <td>PAP</td>\n",
       "      <td>https://www.commcarehq.org/a/caris-test/report...</td>\n",
       "    </tr>\n",
       "    <tr>\n",
       "      <th>230</th>\n",
       "      <td>230</td>\n",
       "      <td>568c0f2d-0ee4-4878-8eb8-3d0a619f8f8d</td>\n",
       "      <td>14</td>\n",
       "      <td>non</td>\n",
       "      <td>petion_ville</td>\n",
       "      <td>2008-09-22</td>\n",
       "      <td>PAP/DRMS/190449214</td>\n",
       "      <td>0.0</td>\n",
       "      <td>PAP</td>\n",
       "      <td>non</td>\n",
       "      <td>...</td>\n",
       "      <td>1538c87f-6f51-40fd-976a-1d1eb6a97a9f</td>\n",
       "      <td>False</td>\n",
       "      <td>---</td>\n",
       "      <td>---</td>\n",
       "      <td>2jgerald</td>\n",
       "      <td>2022-09-23 16:02:24</td>\n",
       "      <td>2jgerald</td>\n",
       "      <td>2022-09-23 16:02:24</td>\n",
       "      <td>PAP</td>\n",
       "      <td>https://www.commcarehq.org/a/caris-test/report...</td>\n",
       "    </tr>\n",
       "    <tr>\n",
       "      <th>231</th>\n",
       "      <td>231</td>\n",
       "      <td>5284b283-1b37-4b11-bf1c-47ab785c5fa5</td>\n",
       "      <td>32</td>\n",
       "      <td>---</td>\n",
       "      <td>petion_ville</td>\n",
       "      <td>1990-09-23</td>\n",
       "      <td>PAP/DRMS/190449214</td>\n",
       "      <td>1.0</td>\n",
       "      <td>PAP</td>\n",
       "      <td>---</td>\n",
       "      <td>...</td>\n",
       "      <td>1538c87f-6f51-40fd-976a-1d1eb6a97a9f</td>\n",
       "      <td>False</td>\n",
       "      <td>---</td>\n",
       "      <td>---</td>\n",
       "      <td>2jgerald</td>\n",
       "      <td>2022-09-23 16:02:24</td>\n",
       "      <td>2jgerald</td>\n",
       "      <td>2022-09-23 16:02:24</td>\n",
       "      <td>PAP</td>\n",
       "      <td>https://www.commcarehq.org/a/caris-test/report...</td>\n",
       "    </tr>\n",
       "    <tr>\n",
       "      <th>232</th>\n",
       "      <td>232</td>\n",
       "      <td>c5a8555e-6b8a-47f1-999d-80bf1e44aa82</td>\n",
       "      <td>11</td>\n",
       "      <td>non</td>\n",
       "      <td>petion_ville</td>\n",
       "      <td>2011-09-23</td>\n",
       "      <td>PAP/DRMS/043401809</td>\n",
       "      <td>0.0</td>\n",
       "      <td>PAP</td>\n",
       "      <td>non</td>\n",
       "      <td>...</td>\n",
       "      <td>0920d44b-8568-4568-9f0e-67f0cb384af2</td>\n",
       "      <td>False</td>\n",
       "      <td>---</td>\n",
       "      <td>---</td>\n",
       "      <td>2sfenelon</td>\n",
       "      <td>2022-09-23 18:59:05</td>\n",
       "      <td>2sfenelon</td>\n",
       "      <td>2022-09-23 18:59:05</td>\n",
       "      <td>PAP</td>\n",
       "      <td>https://www.commcarehq.org/a/caris-test/report...</td>\n",
       "    </tr>\n",
       "    <tr>\n",
       "      <th>233</th>\n",
       "      <td>233</td>\n",
       "      <td>6b48e3bd-7993-4989-b104-3a3bd7592d0d</td>\n",
       "      <td>39</td>\n",
       "      <td>---</td>\n",
       "      <td>petion_ville</td>\n",
       "      <td>1983-09-23</td>\n",
       "      <td>PAP/DRMS/043401809</td>\n",
       "      <td>1.0</td>\n",
       "      <td>PAP</td>\n",
       "      <td>---</td>\n",
       "      <td>...</td>\n",
       "      <td>0920d44b-8568-4568-9f0e-67f0cb384af2</td>\n",
       "      <td>False</td>\n",
       "      <td>---</td>\n",
       "      <td>---</td>\n",
       "      <td>2sfenelon</td>\n",
       "      <td>2022-09-23 18:59:05</td>\n",
       "      <td>2sfenelon</td>\n",
       "      <td>2022-09-23 18:59:05</td>\n",
       "      <td>PAP</td>\n",
       "      <td>https://www.commcarehq.org/a/caris-test/report...</td>\n",
       "    </tr>\n",
       "  </tbody>\n",
       "</table>\n",
       "<p>229 rows × 23 columns</p>\n",
       "</div>"
      ],
      "text/plain": [
       "     number                                caseid  name  arv       commune  \\\n",
       "3         3  24b4cad1-95f3-4b00-8d01-524c9bfbbc9f     4  non  petion_ville   \n",
       "4         4  f32564f3-311f-489a-b677-93b5286f4d89    32  ---  petion_ville   \n",
       "5         5  026ecd36-f30c-4a9a-8b3a-4737632f9b1a     4  non  petion_ville   \n",
       "6         6  abc66e51-ef2b-45f6-b668-5a8e31218251     6  non  petion_ville   \n",
       "7         7  3052e750-03b9-4f33-af12-4ecfdbc27e6e    12  non  petion_ville   \n",
       "..      ...                                   ...   ...  ...           ...   \n",
       "229     229  f0541206-0af7-4414-a683-f461c83ef4bf    40  ---  petion_ville   \n",
       "230     230  568c0f2d-0ee4-4878-8eb8-3d0a619f8f8d    14  non  petion_ville   \n",
       "231     231  5284b283-1b37-4b11-bf1c-47ab785c5fa5    32  ---  petion_ville   \n",
       "232     232  c5a8555e-6b8a-47f1-999d-80bf1e44aa82    11  non  petion_ville   \n",
       "233     233  6b48e3bd-7993-4989-b104-3a3bd7592d0d    39  ---  petion_ville   \n",
       "\n",
       "            dob                code  \\\n",
       "3    2018-09-12  PAP/DRMS/239424613   \n",
       "4    1990-09-12  PAP/DRMS/239424613   \n",
       "5    2018-09-12  PAP/DRMS/239424613   \n",
       "6    2016-09-11  PAP/DRMS/239424613   \n",
       "7    2010-09-12  PAP/DRMS/133431906   \n",
       "..          ...                 ...   \n",
       "229  1982-09-23  PAP/DRMS/190449304   \n",
       "230  2008-09-22  PAP/DRMS/190449214   \n",
       "231  1990-09-23  PAP/DRMS/190449214   \n",
       "232  2011-09-23  PAP/DRMS/043401809   \n",
       "233  1983-09-23  PAP/DRMS/043401809   \n",
       "\n",
       "     est-ce_que_cette_personne_est_un_caregiver office often_sick  ...  \\\n",
       "3                                           0.0    PAP        non  ...   \n",
       "4                                           1.0    PAP        ---  ...   \n",
       "5                                           0.0    PAP        non  ...   \n",
       "6                                           0.0    PAP        non  ...   \n",
       "7                                           0.0    PAP        non  ...   \n",
       "..                                          ...    ...        ...  ...   \n",
       "229                                         1.0    PAP        ---  ...   \n",
       "230                                         0.0    PAP        non  ...   \n",
       "231                                         1.0    PAP        ---  ...   \n",
       "232                                         0.0    PAP        non  ...   \n",
       "233                                         1.0    PAP        ---  ...   \n",
       "\n",
       "                 indices.schooling_dreams  closed closed_by_username  \\\n",
       "3    1e87fc29-aca7-46ba-9ab6-c96c87b09d4f   False                ---   \n",
       "4    1e87fc29-aca7-46ba-9ab6-c96c87b09d4f   False                ---   \n",
       "5    1e87fc29-aca7-46ba-9ab6-c96c87b09d4f   False                ---   \n",
       "6    1e87fc29-aca7-46ba-9ab6-c96c87b09d4f   False                ---   \n",
       "7    a07c3aa7-2096-4821-a1b7-bba7e283e20c   False                ---   \n",
       "..                                    ...     ...                ...   \n",
       "229  3780b985-c424-4b85-bb27-1306d1c8dfd9   False                ---   \n",
       "230  1538c87f-6f51-40fd-976a-1d1eb6a97a9f   False                ---   \n",
       "231  1538c87f-6f51-40fd-976a-1d1eb6a97a9f   False                ---   \n",
       "232  0920d44b-8568-4568-9f0e-67f0cb384af2   False                ---   \n",
       "233  0920d44b-8568-4568-9f0e-67f0cb384af2   False                ---   \n",
       "\n",
       "    closed_date  last_modified_by_user_username   last_modified_date  \\\n",
       "3           ---                     s2toussaint  2022-09-12 19:31:45   \n",
       "4           ---                     s2toussaint  2022-09-12 19:31:45   \n",
       "5           ---                     s2toussaint  2022-09-12 19:31:45   \n",
       "6           ---                     s2toussaint  2022-09-12 19:31:45   \n",
       "7           ---                     s2toussaint  2022-09-12 19:35:54   \n",
       "..          ...                             ...                  ...   \n",
       "229         ---                        2jgerald  2022-09-23 16:01:23   \n",
       "230         ---                        2jgerald  2022-09-23 16:02:24   \n",
       "231         ---                        2jgerald  2022-09-23 16:02:24   \n",
       "232         ---                       2sfenelon  2022-09-23 18:59:05   \n",
       "233         ---                       2sfenelon  2022-09-23 18:59:05   \n",
       "\n",
       "    opened_by_username          opened_date owner_name  \\\n",
       "3          s2toussaint  2022-09-12 19:31:45        PAP   \n",
       "4          s2toussaint  2022-09-12 19:31:45        PAP   \n",
       "5          s2toussaint  2022-09-12 19:31:45        PAP   \n",
       "6          s2toussaint  2022-09-12 19:31:45        PAP   \n",
       "7          s2toussaint  2022-09-12 19:35:54        PAP   \n",
       "..                 ...                  ...        ...   \n",
       "229           2jgerald  2022-09-23 16:01:23        PAP   \n",
       "230           2jgerald  2022-09-23 16:02:24        PAP   \n",
       "231           2jgerald  2022-09-23 16:02:24        PAP   \n",
       "232          2sfenelon  2022-09-23 18:59:05        PAP   \n",
       "233          2sfenelon  2022-09-23 18:59:05        PAP   \n",
       "\n",
       "                                             case_link  \n",
       "3    https://www.commcarehq.org/a/caris-test/report...  \n",
       "4    https://www.commcarehq.org/a/caris-test/report...  \n",
       "5    https://www.commcarehq.org/a/caris-test/report...  \n",
       "6    https://www.commcarehq.org/a/caris-test/report...  \n",
       "7    https://www.commcarehq.org/a/caris-test/report...  \n",
       "..                                                 ...  \n",
       "229  https://www.commcarehq.org/a/caris-test/report...  \n",
       "230  https://www.commcarehq.org/a/caris-test/report...  \n",
       "231  https://www.commcarehq.org/a/caris-test/report...  \n",
       "232  https://www.commcarehq.org/a/caris-test/report...  \n",
       "233  https://www.commcarehq.org/a/caris-test/report...  \n",
       "\n",
       "[229 rows x 23 columns]"
      ]
     },
     "execution_count": 20,
     "metadata": {},
     "output_type": "execute_result"
    }
   ],
   "source": [
    "dreams_schooling_household"
   ]
  },
  {
   "cell_type": "code",
   "execution_count": 21,
   "metadata": {},
   "outputs": [
    {
     "name": "stdout",
     "output_type": "stream",
     "text": [
      "direct beneficiaire\n"
     ]
    },
    {
     "data": {
      "text/plain": [
       "80"
      ]
     },
     "execution_count": 21,
     "metadata": {},
     "output_type": "execute_result"
    }
   ],
   "source": [
    "print('direct beneficiaire')\n",
    "dreams_schooling_household.code.nunique()"
   ]
  },
  {
   "cell_type": "code",
   "execution_count": 22,
   "metadata": {},
   "outputs": [],
   "source": [
    "directbene = DataFrame()\n",
    "directbene['code'] = dreams_schooling_household.code.drop_duplicates()\n",
    "directbene = directbene.merge(SDATA[['code','age']],on=\"code\",how='left')\n",
    "\n",
    "directbene.loc[:,'tranche_age'] = directbene.loc[:,\"age\"].apply(lambda age: tranche_age_classique(age))\n",
    "directbene.loc[:,'tranche_age_min_maj'] = directbene.loc[:,\"age\"].apply(lambda age: tranche_age_mineur_majeur(age))\n",
    "directbene.loc[:,'tranche_age_ovc'] = directbene.loc[:,\"age\"].apply(lambda age: ovc_age(age))"
   ]
  },
  {
   "cell_type": "code",
   "execution_count": 23,
   "metadata": {},
   "outputs": [
    {
     "data": {
      "text/html": [
       "<div>\n",
       "<style scoped>\n",
       "    .dataframe tbody tr th:only-of-type {\n",
       "        vertical-align: middle;\n",
       "    }\n",
       "\n",
       "    .dataframe tbody tr th {\n",
       "        vertical-align: top;\n",
       "    }\n",
       "\n",
       "    .dataframe thead th {\n",
       "        text-align: right;\n",
       "    }\n",
       "</style>\n",
       "<table border=\"1\" class=\"dataframe\">\n",
       "  <thead>\n",
       "    <tr style=\"text-align: right;\">\n",
       "      <th></th>\n",
       "      <th>code</th>\n",
       "    </tr>\n",
       "    <tr>\n",
       "      <th>tranche_age_ovc</th>\n",
       "      <th></th>\n",
       "    </tr>\n",
       "  </thead>\n",
       "  <tbody>\n",
       "    <tr>\n",
       "      <th>10-14</th>\n",
       "      <td>44</td>\n",
       "    </tr>\n",
       "    <tr>\n",
       "      <th>15-17</th>\n",
       "      <td>26</td>\n",
       "    </tr>\n",
       "    <tr>\n",
       "      <th>not_ovc_age</th>\n",
       "      <td>10</td>\n",
       "    </tr>\n",
       "    <tr>\n",
       "      <th>Total</th>\n",
       "      <td>80</td>\n",
       "    </tr>\n",
       "  </tbody>\n",
       "</table>\n",
       "</div>"
      ],
      "text/plain": [
       "                 code\n",
       "tranche_age_ovc      \n",
       "10-14              44\n",
       "15-17              26\n",
       "not_ovc_age        10\n",
       "Total              80"
      ]
     },
     "execution_count": 23,
     "metadata": {},
     "output_type": "execute_result"
    },
    {
     "data": {
      "text/html": [
       "<div>\n",
       "<style scoped>\n",
       "    .dataframe tbody tr th:only-of-type {\n",
       "        vertical-align: middle;\n",
       "    }\n",
       "\n",
       "    .dataframe tbody tr th {\n",
       "        vertical-align: top;\n",
       "    }\n",
       "\n",
       "    .dataframe thead th {\n",
       "        text-align: right;\n",
       "    }\n",
       "</style>\n",
       "<table border=\"1\" class=\"dataframe\">\n",
       "  <thead>\n",
       "    <tr style=\"text-align: right;\">\n",
       "      <th></th>\n",
       "      <th>code</th>\n",
       "    </tr>\n",
       "    <tr>\n",
       "      <th>tranche_age_min_maj</th>\n",
       "      <th></th>\n",
       "    </tr>\n",
       "  </thead>\n",
       "  <tbody>\n",
       "    <tr>\n",
       "      <th>10-17</th>\n",
       "      <td>70</td>\n",
       "    </tr>\n",
       "    <tr>\n",
       "      <th>18-19</th>\n",
       "      <td>6</td>\n",
       "    </tr>\n",
       "    <tr>\n",
       "      <th>20-24</th>\n",
       "      <td>4</td>\n",
       "    </tr>\n",
       "    <tr>\n",
       "      <th>Total</th>\n",
       "      <td>80</td>\n",
       "    </tr>\n",
       "  </tbody>\n",
       "</table>\n",
       "</div>"
      ],
      "text/plain": [
       "                     code\n",
       "tranche_age_min_maj      \n",
       "10-17                  70\n",
       "18-19                   6\n",
       "20-24                   4\n",
       "Total                  80"
      ]
     },
     "execution_count": 23,
     "metadata": {},
     "output_type": "execute_result"
    }
   ],
   "source": [
    "directbene.pivot_table(\n",
    "    values=\"code\",\n",
    "    index=\"tranche_age_ovc\",\n",
    "    aggfunc='count',\n",
    "    fill_value=0,\n",
    "    margins=True,\n",
    "    margins_name=\"Total\"\n",
    ")\n",
    "\n",
    "directbene.pivot_table(\n",
    "    values=\"code\",\n",
    "    index=\"tranche_age_min_maj\",\n",
    "    aggfunc='count',\n",
    "    fill_value=0,\n",
    "    margins=True,\n",
    "    margins_name=\"Total\"\n",
    ")"
   ]
  },
  {
   "cell_type": "code",
   "execution_count": 24,
   "metadata": {},
   "outputs": [
    {
     "data": {
      "text/plain": [
       "80"
      ]
     },
     "execution_count": 24,
     "metadata": {},
     "output_type": "execute_result"
    }
   ],
   "source": [
    "caregiver = dreams_schooling_household[dreams_schooling_household['est-ce_que_cette_personne_est_un_caregiver']==1]\n",
    "caregiver.caseid.count()"
   ]
  },
  {
   "cell_type": "code",
   "execution_count": 25,
   "metadata": {},
   "outputs": [
    {
     "name": "stdout",
     "output_type": "stream",
     "text": [
      "indirect beneficiaire\n"
     ]
    },
    {
     "data": {
      "text/plain": [
       "148"
      ]
     },
     "execution_count": 25,
     "metadata": {},
     "output_type": "execute_result"
    }
   ],
   "source": [
    "print('indirect beneficiaire')\n",
    "ib = dreams_schooling_household[dreams_schooling_household['est-ce_que_cette_personne_est_un_caregiver']==0]\n",
    "ib.caseid.count()"
   ]
  },
  {
   "cell_type": "markdown",
   "metadata": {},
   "source": [
    "## temp export"
   ]
  },
  {
   "cell_type": "code",
   "execution_count": 26,
   "metadata": {},
   "outputs": [],
   "source": [
    "caregiver.to_excel('caregiver_dreams_schooling_household.xlsx',index=False)\n",
    "ib.to_excel('ib_dreams_schooling_household.xlsx',index=False)\n",
    "directbene.to_excel('directbene.xlsx',index=False)\n",
    "#vouchers_payed[~vouchers_payed.code.isin(directbene.code)].to_excel('missing_comptage.xlsx',index=False)"
   ]
  },
  {
   "cell_type": "code",
   "execution_count": 27,
   "metadata": {},
   "outputs": [],
   "source": [
    "driver.quit()"
   ]
  },
  {
   "cell_type": "markdown",
   "metadata": {},
   "source": [
    "## Datim"
   ]
  },
  {
   "cell_type": "code",
   "execution_count": 28,
   "metadata": {},
   "outputs": [
    {
     "data": {
      "text/plain": [
       "Index(['number', 'caseid', 'name', 'arv', 'commune', 'dob', 'code',\n",
       "       'est-ce_que_cette_personne_est_un_caregiver', 'office', 'often_sick',\n",
       "       'positif', 'sexe', 'test', 'indices.schooling_dreams', 'closed',\n",
       "       'closed_by_username', 'closed_date', 'last_modified_by_user_username',\n",
       "       'last_modified_date', 'opened_by_username', 'opened_date', 'owner_name',\n",
       "       'case_link'],\n",
       "      dtype='object')"
      ]
     },
     "execution_count": 28,
     "metadata": {},
     "output_type": "execute_result"
    },
    {
     "data": {
      "text/plain": [
       "Index(['number', 'caseid', 'name', 'arv', 'commune', 'dob', 'code',\n",
       "       'est-ce_que_cette_personne_est_un_caregiver', 'office', 'often_sick',\n",
       "       'positif', 'sexe', 'test', 'indices.schooling_dreams', 'closed',\n",
       "       'closed_by_username', 'closed_date', 'last_modified_by_user_username',\n",
       "       'last_modified_date', 'opened_by_username', 'opened_date', 'owner_name',\n",
       "       'case_link'],\n",
       "      dtype='object')"
      ]
     },
     "execution_count": 28,
     "metadata": {},
     "output_type": "execute_result"
    }
   ],
   "source": [
    "caregiver.columns\n",
    "ib.columns"
   ]
  },
  {
   "cell_type": "code",
   "execution_count": 29,
   "metadata": {},
   "outputs": [
    {
     "data": {
      "text/plain": [
       "array(['non', 'dont_know'], dtype=object)"
      ]
     },
     "execution_count": 29,
     "metadata": {},
     "output_type": "execute_result"
    },
    {
     "data": {
      "text/plain": [
       "array(['---'], dtype=object)"
      ]
     },
     "execution_count": 29,
     "metadata": {},
     "output_type": "execute_result"
    }
   ],
   "source": [
    "ib.positif.unique()\n",
    "caregiver.positif.unique()"
   ]
  },
  {
   "cell_type": "code",
   "execution_count": 30,
   "metadata": {},
   "outputs": [
    {
     "data": {
      "text/plain": [
       "array(['petion_ville', 'port-au-prince', 'tabarre', 'delmas'],\n",
       "      dtype=object)"
      ]
     },
     "execution_count": 30,
     "metadata": {},
     "output_type": "execute_result"
    },
    {
     "data": {
      "text/plain": [
       "array(['petion_ville', 'port-au-prince', 'delmas', 'tabarre'],\n",
       "      dtype=object)"
      ]
     },
     "execution_count": 30,
     "metadata": {},
     "output_type": "execute_result"
    }
   ],
   "source": [
    "caregiver.commune.unique()\n",
    "ib.commune.unique()"
   ]
  },
  {
   "cell_type": "code",
   "execution_count": 31,
   "metadata": {},
   "outputs": [
    {
     "data": {
      "text/plain": [
       "array([1, 2])"
      ]
     },
     "execution_count": 31,
     "metadata": {},
     "output_type": "execute_result"
    },
    {
     "data": {
      "text/plain": [
       "array(['1990-09-12', '1980-09-11', '1974-09-12', '1984-09-11',\n",
       "       '1987-09-12', '1979-09-12', '1982-09-12', '1978-09-12',\n",
       "       '1967-09-13', '1970-09-12', '1973-09-11', '1960-09-12',\n",
       "       '1969-09-12', '1976-09-11', '1993-09-11', '1986-09-12',\n",
       "       '1977-09-22', '1983-09-23', '1978-09-23', '1979-09-23',\n",
       "       '1981-09-22', '1984-09-22', '1991-09-23', '1970-09-23',\n",
       "       '1980-09-22', '1973-09-22', '1976-09-22', '1975-09-23',\n",
       "       '1993-09-22', '1988-09-22', '1985-09-22', '1972-09-22',\n",
       "       '1962-09-23', '1990-09-23', '1995-09-23', '1994-09-23',\n",
       "       '1982-09-23', '1986-09-23', '1971-09-23', '1989-09-22',\n",
       "       '1992-09-22', '1952-09-23'], dtype=object)"
      ]
     },
     "execution_count": 31,
     "metadata": {},
     "output_type": "execute_result"
    }
   ],
   "source": [
    "caregiver.sexe.unique()\n",
    "caregiver.dob.unique()"
   ]
  },
  {
   "cell_type": "code",
   "execution_count": 32,
   "metadata": {},
   "outputs": [
    {
     "data": {
      "text/plain": [
       "array(['2018-09-12', '2016-09-11', '2010-09-12', '2020-09-11',\n",
       "       '2012-09-11', '2014-09-12', '2011-09-12', '2013-09-11',\n",
       "       '2009-09-11', '2019-09-12', '2006-09-12', '2005-09-11',\n",
       "       '2007-09-12', '2015-09-12', '2021-09-11', '2017-09-22',\n",
       "       '2014-09-23', '2016-09-22', '2020-09-22', '2012-09-22',\n",
       "       '2015-09-23', '2019-09-23', '2008-09-22', '2006-09-23',\n",
       "       '2009-09-22', '2013-09-22', '2007-09-23', '2010-09-23',\n",
       "       '2021-09-22', '2011-09-23', '2018-09-23', '2005-09-22'],\n",
       "      dtype=object)"
      ]
     },
     "execution_count": 32,
     "metadata": {},
     "output_type": "execute_result"
    },
    {
     "data": {
      "text/plain": [
       "array([1, 2])"
      ]
     },
     "execution_count": 32,
     "metadata": {},
     "output_type": "execute_result"
    }
   ],
   "source": [
    "ib.dob.unique()\n",
    "ib.sexe.unique()"
   ]
  },
  {
   "cell_type": "code",
   "execution_count": 33,
   "metadata": {},
   "outputs": [],
   "source": [
    "def get_age(date):\n",
    "    return relativedelta(parse(end_date), date).years\n",
    "\n",
    "#Function 2\n",
    "def age_range(age):\n",
    "    if age < 1:\n",
    "        return '< 1'\n",
    "    elif age in range(1, 5):\n",
    "        return '1 - 4'\n",
    "    elif age in range(5, 10):\n",
    "        return '5 - 9'\n",
    "    elif age in range(10, 15):\n",
    "        return '10 - 14'\n",
    "    elif age in range(15, 18):\n",
    "        return '15 - 17'\n",
    "    else:\n",
    "        return '18+'"
   ]
  },
  {
   "cell_type": "code",
   "execution_count": 34,
   "metadata": {},
   "outputs": [],
   "source": [
    "caregiver.dob = to_datetime(caregiver.dob, errors='coerce')\n",
    "ib.dob = to_datetime(ib.dob, errors='coerce')"
   ]
  },
  {
   "cell_type": "code",
   "execution_count": 35,
   "metadata": {},
   "outputs": [],
   "source": [
    "end_date = '2022-09-30'"
   ]
  },
  {
   "cell_type": "code",
   "execution_count": 36,
   "metadata": {},
   "outputs": [],
   "source": [
    "caregiver['age'] = caregiver.dob.map(get_age)\n",
    "ib['age'] = ib.dob.map(get_age)"
   ]
  },
  {
   "cell_type": "code",
   "execution_count": 37,
   "metadata": {},
   "outputs": [],
   "source": [
    "caregiver['age_range'] = caregiver.age.map(age_range)\n",
    "ib['age_range'] = ib.age.map(age_range)"
   ]
  },
  {
   "cell_type": "code",
   "execution_count": 38,
   "metadata": {},
   "outputs": [
    {
     "data": {
      "text/plain": [
       "array(['18+'], dtype=object)"
      ]
     },
     "execution_count": 38,
     "metadata": {},
     "output_type": "execute_result"
    },
    {
     "data": {
      "text/plain": [
       "array(['1 - 4', '5 - 9', '10 - 14', '15 - 17'], dtype=object)"
      ]
     },
     "execution_count": 38,
     "metadata": {},
     "output_type": "execute_result"
    }
   ],
   "source": [
    "caregiver.age_range.unique()\n",
    "ib.age_range.unique()"
   ]
  },
  {
   "cell_type": "code",
   "execution_count": 39,
   "metadata": {},
   "outputs": [],
   "source": [
    "caregiver.sexe.replace([1,2],['Male','Female'], inplace=True)\n",
    "ib.sexe.replace([1,2],['Male','Female'], inplace=True)"
   ]
  },
  {
   "cell_type": "markdown",
   "metadata": {},
   "source": [
    "### The DATIM"
   ]
  },
  {
   "cell_type": "code",
   "execution_count": 40,
   "metadata": {},
   "outputs": [
    {
     "data": {
      "text/html": [
       "<div>\n",
       "<style scoped>\n",
       "    .dataframe tbody tr th:only-of-type {\n",
       "        vertical-align: middle;\n",
       "    }\n",
       "\n",
       "    .dataframe tbody tr th {\n",
       "        vertical-align: top;\n",
       "    }\n",
       "\n",
       "    .dataframe thead tr th {\n",
       "        text-align: left;\n",
       "    }\n",
       "\n",
       "    .dataframe thead tr:last-of-type th {\n",
       "        text-align: right;\n",
       "    }\n",
       "</style>\n",
       "<table border=\"1\" class=\"dataframe\">\n",
       "  <thead>\n",
       "    <tr>\n",
       "      <th>sexe</th>\n",
       "      <th colspan=\"6\" halign=\"left\">Female</th>\n",
       "      <th colspan=\"6\" halign=\"left\">Male</th>\n",
       "    </tr>\n",
       "    <tr>\n",
       "      <th>age_range</th>\n",
       "      <th>&lt; 1</th>\n",
       "      <th>1 - 4</th>\n",
       "      <th>5 - 9</th>\n",
       "      <th>10 - 14</th>\n",
       "      <th>15 - 17</th>\n",
       "      <th>18+</th>\n",
       "      <th>&lt; 1</th>\n",
       "      <th>1 - 4</th>\n",
       "      <th>5 - 9</th>\n",
       "      <th>10 - 14</th>\n",
       "      <th>15 - 17</th>\n",
       "      <th>18+</th>\n",
       "    </tr>\n",
       "    <tr>\n",
       "      <th>commune</th>\n",
       "      <th></th>\n",
       "      <th></th>\n",
       "      <th></th>\n",
       "      <th></th>\n",
       "      <th></th>\n",
       "      <th></th>\n",
       "      <th></th>\n",
       "      <th></th>\n",
       "      <th></th>\n",
       "      <th></th>\n",
       "      <th></th>\n",
       "      <th></th>\n",
       "    </tr>\n",
       "  </thead>\n",
       "  <tbody>\n",
       "    <tr>\n",
       "      <th>delmas</th>\n",
       "      <td>0.0</td>\n",
       "      <td>0.0</td>\n",
       "      <td>0.0</td>\n",
       "      <td>0.0</td>\n",
       "      <td>0.0</td>\n",
       "      <td>13</td>\n",
       "      <td>0.0</td>\n",
       "      <td>0.0</td>\n",
       "      <td>0.0</td>\n",
       "      <td>0.0</td>\n",
       "      <td>0.0</td>\n",
       "      <td>1</td>\n",
       "    </tr>\n",
       "    <tr>\n",
       "      <th>petion_ville</th>\n",
       "      <td>0.0</td>\n",
       "      <td>0.0</td>\n",
       "      <td>0.0</td>\n",
       "      <td>0.0</td>\n",
       "      <td>0.0</td>\n",
       "      <td>37</td>\n",
       "      <td>0.0</td>\n",
       "      <td>0.0</td>\n",
       "      <td>0.0</td>\n",
       "      <td>0.0</td>\n",
       "      <td>0.0</td>\n",
       "      <td>6</td>\n",
       "    </tr>\n",
       "    <tr>\n",
       "      <th>port-au-prince</th>\n",
       "      <td>0.0</td>\n",
       "      <td>0.0</td>\n",
       "      <td>0.0</td>\n",
       "      <td>0.0</td>\n",
       "      <td>0.0</td>\n",
       "      <td>16</td>\n",
       "      <td>0.0</td>\n",
       "      <td>0.0</td>\n",
       "      <td>0.0</td>\n",
       "      <td>0.0</td>\n",
       "      <td>0.0</td>\n",
       "      <td>1</td>\n",
       "    </tr>\n",
       "    <tr>\n",
       "      <th>tabarre</th>\n",
       "      <td>0.0</td>\n",
       "      <td>0.0</td>\n",
       "      <td>0.0</td>\n",
       "      <td>0.0</td>\n",
       "      <td>0.0</td>\n",
       "      <td>4</td>\n",
       "      <td>0.0</td>\n",
       "      <td>0.0</td>\n",
       "      <td>0.0</td>\n",
       "      <td>0.0</td>\n",
       "      <td>0.0</td>\n",
       "      <td>2</td>\n",
       "    </tr>\n",
       "    <tr>\n",
       "      <th>Total</th>\n",
       "      <td>0.0</td>\n",
       "      <td>0.0</td>\n",
       "      <td>0.0</td>\n",
       "      <td>0.0</td>\n",
       "      <td>0.0</td>\n",
       "      <td>70</td>\n",
       "      <td>0.0</td>\n",
       "      <td>0.0</td>\n",
       "      <td>0.0</td>\n",
       "      <td>0.0</td>\n",
       "      <td>0.0</td>\n",
       "      <td>10</td>\n",
       "    </tr>\n",
       "  </tbody>\n",
       "</table>\n",
       "</div>"
      ],
      "text/plain": [
       "sexe           Female                                 Male              \\\n",
       "age_range         < 1 1 - 4 5 - 9 10 - 14 15 - 17 18+  < 1 1 - 4 5 - 9   \n",
       "commune                                                                  \n",
       "delmas            0.0   0.0   0.0     0.0     0.0  13  0.0   0.0   0.0   \n",
       "petion_ville      0.0   0.0   0.0     0.0     0.0  37  0.0   0.0   0.0   \n",
       "port-au-prince    0.0   0.0   0.0     0.0     0.0  16  0.0   0.0   0.0   \n",
       "tabarre           0.0   0.0   0.0     0.0     0.0   4  0.0   0.0   0.0   \n",
       "Total             0.0   0.0   0.0     0.0     0.0  70  0.0   0.0   0.0   \n",
       "\n",
       "sexe                                \n",
       "age_range      10 - 14 15 - 17 18+  \n",
       "commune                             \n",
       "delmas             0.0     0.0   1  \n",
       "petion_ville       0.0     0.0   6  \n",
       "port-au-prince     0.0     0.0   1  \n",
       "tabarre            0.0     0.0   2  \n",
       "Total              0.0     0.0  10  "
      ]
     },
     "execution_count": 40,
     "metadata": {},
     "output_type": "execute_result"
    }
   ],
   "source": [
    "Datim_caregiver = caregiver.pivot_table(index = 'commune', values = 'caseid', columns = ['sexe', 'age_range'], aggfunc = len, margins = True, margins_name = 'Total')\n",
    "\n",
    "columns = [('Female', '< 1'),\n",
    " ('Female', '1 - 4'),\n",
    " ('Female', '5 - 9'),\n",
    " ('Female', '10 - 14'),\n",
    " ('Female', '15 - 17'),\n",
    " ('Female', '18+'),\n",
    " ('Male', '< 1'),\n",
    " ('Male', '1 - 4'),\n",
    " ('Male', '5 - 9'),\n",
    " ('Male', '10 - 14'),\n",
    " ('Male', '15 - 17'),\n",
    " ('Male', '18+')]\n",
    "\n",
    "Datim_caregiver = Datim_caregiver.reindex(columns = columns)\n",
    "Datim_caregiver.fillna(0, inplace = True)\n",
    "\n",
    "Datim_caregiver"
   ]
  },
  {
   "cell_type": "code",
   "execution_count": 41,
   "metadata": {},
   "outputs": [
    {
     "data": {
      "text/html": [
       "<div>\n",
       "<style scoped>\n",
       "    .dataframe tbody tr th:only-of-type {\n",
       "        vertical-align: middle;\n",
       "    }\n",
       "\n",
       "    .dataframe tbody tr th {\n",
       "        vertical-align: top;\n",
       "    }\n",
       "\n",
       "    .dataframe thead tr th {\n",
       "        text-align: left;\n",
       "    }\n",
       "\n",
       "    .dataframe thead tr:last-of-type th {\n",
       "        text-align: right;\n",
       "    }\n",
       "</style>\n",
       "<table border=\"1\" class=\"dataframe\">\n",
       "  <thead>\n",
       "    <tr>\n",
       "      <th>sexe</th>\n",
       "      <th colspan=\"6\" halign=\"left\">Female</th>\n",
       "      <th colspan=\"6\" halign=\"left\">Male</th>\n",
       "    </tr>\n",
       "    <tr>\n",
       "      <th>age_range</th>\n",
       "      <th>&lt; 1</th>\n",
       "      <th>1 - 4</th>\n",
       "      <th>5 - 9</th>\n",
       "      <th>10 - 14</th>\n",
       "      <th>15 - 17</th>\n",
       "      <th>18+</th>\n",
       "      <th>&lt; 1</th>\n",
       "      <th>1 - 4</th>\n",
       "      <th>5 - 9</th>\n",
       "      <th>10 - 14</th>\n",
       "      <th>15 - 17</th>\n",
       "      <th>18+</th>\n",
       "    </tr>\n",
       "    <tr>\n",
       "      <th>commune</th>\n",
       "      <th></th>\n",
       "      <th></th>\n",
       "      <th></th>\n",
       "      <th></th>\n",
       "      <th></th>\n",
       "      <th></th>\n",
       "      <th></th>\n",
       "      <th></th>\n",
       "      <th></th>\n",
       "      <th></th>\n",
       "      <th></th>\n",
       "      <th></th>\n",
       "    </tr>\n",
       "  </thead>\n",
       "  <tbody>\n",
       "    <tr>\n",
       "      <th>delmas</th>\n",
       "      <td>0.0</td>\n",
       "      <td>2.0</td>\n",
       "      <td>2.0</td>\n",
       "      <td>3.0</td>\n",
       "      <td>2.0</td>\n",
       "      <td>0.0</td>\n",
       "      <td>0.0</td>\n",
       "      <td>2.0</td>\n",
       "      <td>1.0</td>\n",
       "      <td>5.0</td>\n",
       "      <td>3.0</td>\n",
       "      <td>0.0</td>\n",
       "    </tr>\n",
       "    <tr>\n",
       "      <th>petion_ville</th>\n",
       "      <td>0.0</td>\n",
       "      <td>10.0</td>\n",
       "      <td>8.0</td>\n",
       "      <td>16.0</td>\n",
       "      <td>7.0</td>\n",
       "      <td>0.0</td>\n",
       "      <td>0.0</td>\n",
       "      <td>12.0</td>\n",
       "      <td>15.0</td>\n",
       "      <td>13.0</td>\n",
       "      <td>6.0</td>\n",
       "      <td>0.0</td>\n",
       "    </tr>\n",
       "    <tr>\n",
       "      <th>port-au-prince</th>\n",
       "      <td>0.0</td>\n",
       "      <td>2.0</td>\n",
       "      <td>2.0</td>\n",
       "      <td>8.0</td>\n",
       "      <td>1.0</td>\n",
       "      <td>0.0</td>\n",
       "      <td>0.0</td>\n",
       "      <td>3.0</td>\n",
       "      <td>9.0</td>\n",
       "      <td>5.0</td>\n",
       "      <td>3.0</td>\n",
       "      <td>0.0</td>\n",
       "    </tr>\n",
       "    <tr>\n",
       "      <th>tabarre</th>\n",
       "      <td>0.0</td>\n",
       "      <td>3.0</td>\n",
       "      <td>3.0</td>\n",
       "      <td>0.0</td>\n",
       "      <td>0.0</td>\n",
       "      <td>0.0</td>\n",
       "      <td>0.0</td>\n",
       "      <td>0.0</td>\n",
       "      <td>1.0</td>\n",
       "      <td>0.0</td>\n",
       "      <td>1.0</td>\n",
       "      <td>0.0</td>\n",
       "    </tr>\n",
       "    <tr>\n",
       "      <th>Total</th>\n",
       "      <td>0.0</td>\n",
       "      <td>17.0</td>\n",
       "      <td>15.0</td>\n",
       "      <td>27.0</td>\n",
       "      <td>10.0</td>\n",
       "      <td>0.0</td>\n",
       "      <td>0.0</td>\n",
       "      <td>17.0</td>\n",
       "      <td>26.0</td>\n",
       "      <td>23.0</td>\n",
       "      <td>13.0</td>\n",
       "      <td>0.0</td>\n",
       "    </tr>\n",
       "  </tbody>\n",
       "</table>\n",
       "</div>"
      ],
      "text/plain": [
       "sexe           Female                                  Male              \\\n",
       "age_range         < 1 1 - 4 5 - 9 10 - 14 15 - 17  18+  < 1 1 - 4 5 - 9   \n",
       "commune                                                                   \n",
       "delmas            0.0   2.0   2.0     3.0     2.0  0.0  0.0   2.0   1.0   \n",
       "petion_ville      0.0  10.0   8.0    16.0     7.0  0.0  0.0  12.0  15.0   \n",
       "port-au-prince    0.0   2.0   2.0     8.0     1.0  0.0  0.0   3.0   9.0   \n",
       "tabarre           0.0   3.0   3.0     0.0     0.0  0.0  0.0   0.0   1.0   \n",
       "Total             0.0  17.0  15.0    27.0    10.0  0.0  0.0  17.0  26.0   \n",
       "\n",
       "sexe                                 \n",
       "age_range      10 - 14 15 - 17  18+  \n",
       "commune                              \n",
       "delmas             5.0     3.0  0.0  \n",
       "petion_ville      13.0     6.0  0.0  \n",
       "port-au-prince     5.0     3.0  0.0  \n",
       "tabarre            0.0     1.0  0.0  \n",
       "Total             23.0    13.0  0.0  "
      ]
     },
     "execution_count": 41,
     "metadata": {},
     "output_type": "execute_result"
    }
   ],
   "source": [
    "Datim_ib = ib.pivot_table(index = 'commune', values = 'caseid', columns = ['sexe', 'age_range'], aggfunc = len, margins = True, margins_name = 'Total')\n",
    "\n",
    "columns = [('Female', '< 1'),\n",
    " ('Female', '1 - 4'),\n",
    " ('Female', '5 - 9'),\n",
    " ('Female', '10 - 14'),\n",
    " ('Female', '15 - 17'),\n",
    " ('Female', '18+'),\n",
    " ('Male', '< 1'),\n",
    " ('Male', '1 - 4'),\n",
    " ('Male', '5 - 9'),\n",
    " ('Male', '10 - 14'),\n",
    " ('Male', '15 - 17'),\n",
    " ('Male', '18+')]\n",
    "\n",
    "Datim_ib = Datim_ib.reindex(columns = columns)\n",
    "Datim_ib.fillna(0, inplace = True)\n",
    "\n",
    "Datim_ib"
   ]
  },
  {
   "cell_type": "code",
   "execution_count": 42,
   "metadata": {},
   "outputs": [],
   "source": [
    "#Datim_caregiver.to_excel(f\"Datim_caregiver{date_du_jour}.xlsx\")\n",
    "#Datim_ib.to_excel(f\"Datim_ib{date_du_jour}.xlsx\")"
   ]
  },
  {
   "cell_type": "code",
   "execution_count": null,
   "metadata": {},
   "outputs": [],
   "source": []
  }
 ],
 "metadata": {
  "kernelspec": {
   "display_name": "Python 3.10.6 64-bit",
   "language": "python",
   "name": "python3"
  },
  "language_info": {
   "codemirror_mode": {
    "name": "ipython",
    "version": 3
   },
   "file_extension": ".py",
   "mimetype": "text/x-python",
   "name": "python",
   "nbconvert_exporter": "python",
   "pygments_lexer": "ipython3",
   "version": "3.10.9"
  },
  "orig_nbformat": 4,
  "vscode": {
   "interpreter": {
    "hash": "b460384b52104c1e5b9cf54bee46a255d22b2bef338f75ac4ad5d48196028d3c"
   }
  }
 },
 "nbformat": 4,
 "nbformat_minor": 2
}
