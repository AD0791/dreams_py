{
 "cells": [
  {
   "cell_type": "code",
   "execution_count": 1,
   "metadata": {},
   "outputs": [],
   "source": [
    "from pandas import DataFrame, read_sql_query, Int32Dtype, read_excel\n",
    "from datetime import datetime\n",
    "from IPython.core.interactiveshell import InteractiveShell\n",
    "import pymysql\n",
    "from sqlalchemy import create_engine, text\n",
    "from decouple import config \n",
    "from dotenv import load_dotenv\n",
    "InteractiveShell.ast_node_interactivity = \"all\"\n",
    "from datim import datim_query"
   ]
  },
  {
   "cell_type": "code",
   "execution_count": 2,
   "metadata": {},
   "outputs": [
    {
     "data": {
      "text/plain": [
       "' INFO=\"mother_tracking_info\"\\n_INFO=\"patient\"\\ndataset.to_excel(f\"../../pvvih_sansComptage/{_INFO}.xlsx\",index=False) '"
      ]
     },
     "execution_count": 2,
     "metadata": {},
     "output_type": "execute_result"
    }
   ],
   "source": [
    "_QUERY=\"\"\"\n",
    "select * from patient;\n",
    "\"\"\"\n",
    "QUERY=\"\"\"\n",
    "SELECT\n",
    "    p.patient_code,\n",
    "    tmi.*\n",
    "FROM\n",
    "    tracking_motherbasicinfo tmi\n",
    "LEFT JOIN\n",
    "    patient p \n",
    "ON\n",
    "    p.id = tmi.id_patient;\n",
    "\"\"\"\n",
    "\n",
    "MUSO_WITH_COMPTAGEMENAGE = \"\"\"\n",
    "SELECT *\n",
    "FROM\n",
    "    caris_db.view_muso_household_report\n",
    "where (!isnull(indice_householdcount) or (is_household_applicable ='yes' ))\n",
    "\"\"\"\n",
    "\n",
    "\"\"\" INFO=\"mother_tracking_info\"\n",
    "_INFO=\"patient\"\n",
    "dataset.to_excel(f\"../../pvvih_sansComptage/{_INFO}.xlsx\",index=False) \"\"\""
   ]
  },
  {
   "cell_type": "code",
   "execution_count": 3,
   "metadata": {},
   "outputs": [],
   "source": [
    "# Non-applicable \n",
    "MHC22 = f\"\"\"\n",
    "SELECT \n",
    "    b.caseid, mhc22.*\n",
    "FROM\n",
    "    (SELECT \n",
    "        *\n",
    "    FROM\n",
    "        caris_db.view_muso_household_report\n",
    "    WHERE\n",
    "        (!ISNULL(indice_householdcount)\n",
    "            OR (is_household_applicable = 'yes'))) mhc22\n",
    "        LEFT JOIN\n",
    "    (SELECT \n",
    "        patient_code, muso_case_id AS caseid\n",
    "    FROM\n",
    "        caris_db.patient) b ON mhc22.patient_code = b.patient_code\n",
    "\"\"\"\n",
    "\n",
    "\n",
    "\n",
    "# applicable \n",
    "NOMHC22 = f\"\"\"\n",
    "SELECT \n",
    "    b.caseid, nomhc22.*\n",
    "FROM\n",
    "    (SELECT \n",
    "        *\n",
    "    FROM\n",
    "        caris_db.view_muso_household_report\n",
    "    WHERE\n",
    "        (ISNULL(indice_householdcount)\n",
    "            AND (is_household_applicable = 'no'\n",
    "            OR ISNULL(is_household_applicable)))) nomhc22\n",
    "        LEFT JOIN\n",
    "    (SELECT \n",
    "        patient_code, muso_case_id AS caseid\n",
    "    FROM\n",
    "        caris_db.patient) b ON nomhc22.patient_code = b.patient_code\n",
    "\"\"\"\n",
    "\n",
    "MUSO_HOUSEHOLD_22 = f\"\"\"\n",
    "SELECT \n",
    "    b.caseid, mh22.*\n",
    "FROM\n",
    "    (SELECT \n",
    "        *\n",
    "    FROM\n",
    "        caris_db.muso_household_2022) mh22\n",
    "        LEFT JOIN\n",
    "    (SELECT \n",
    "        id, muso_case_id AS caseid\n",
    "    FROM\n",
    "        caris_db.patient) b ON mh22.id_patient = b.id\n",
    "\"\"\"\n",
    "\n",
    "# Non-applicable \n",
    "MHC22 = f\"\"\"\n",
    "SELECT \n",
    "    b.caseid, mhc22.*\n",
    "FROM\n",
    "    (SELECT \n",
    "        *\n",
    "    FROM\n",
    "        caris_db.view_muso_household_report\n",
    "    WHERE\n",
    "        (!ISNULL(indice_householdcount)\n",
    "            OR (is_household_applicable = 'yes'))) mhc22\n",
    "        LEFT JOIN\n",
    "    (SELECT \n",
    "        patient_code, muso_case_id AS caseid\n",
    "    FROM\n",
    "        caris_db.patient) b ON mhc22.patient_code = b.patient_code\n",
    "\"\"\"\n",
    "\n",
    "\n",
    "\n",
    "# applicable \n",
    "NOMHC22 = f\"\"\"\n",
    "SELECT \n",
    "    b.caseid, nomhc22.*\n",
    "FROM\n",
    "    (SELECT \n",
    "        *\n",
    "    FROM\n",
    "        caris_db.view_muso_household_report\n",
    "    WHERE\n",
    "        (ISNULL(indice_householdcount)\n",
    "            AND (is_household_applicable = 'no'\n",
    "            OR ISNULL(is_household_applicable)))) nomhc22\n",
    "        LEFT JOIN\n",
    "    (SELECT \n",
    "        patient_code, muso_case_id AS caseid\n",
    "    FROM\n",
    "        caris_db.patient) b ON nomhc22.patient_code = b.patient_code\n",
    "\"\"\"\n",
    "\n",
    "MUSO_HOUSEHOLD_22 = f\"\"\"\n",
    "SELECT \n",
    "    b.caseid, mh22.*\n",
    "FROM\n",
    "    (SELECT \n",
    "        *\n",
    "    FROM\n",
    "        caris_db.muso_household_2022) mh22\n",
    "        LEFT JOIN\n",
    "    (SELECT \n",
    "        id, muso_case_id AS caseid\n",
    "    FROM\n",
    "        caris_db.patient) b ON mh22.id_patient = b.id\n",
    "\"\"\""
   ]
  },
  {
   "cell_type": "code",
   "execution_count": 4,
   "metadata": {},
   "outputs": [],
   "source": [
    "HUBS = f\"\"\"\n",
    "SELECT \n",
    "    dh.name AS hub,\n",
    "    dh.address,\n",
    "    lc.name AS commune,\n",
    "    ld.name AS departement,\n",
    "    dh.is_inactive,\n",
    "    dh.inactive_date,\n",
    "    dh.creation_date,\n",
    "    dh.created_at\n",
    "FROM\n",
    "    caris_db.dream_hub dh\n",
    "        LEFT JOIN\n",
    "    caris_db.lookup_commune lc ON lc.id = dh.commune\n",
    "        LEFT JOIN\n",
    "    caris_db.lookup_departement ld ON ld.id = lc.departement\n",
    "GROUP BY hub\n",
    "HAVING hub != ''\n",
    "\"\"\""
   ]
  },
  {
   "cell_type": "code",
   "execution_count": 5,
   "metadata": {},
   "outputs": [],
   "source": [
    "from enum import Enum"
   ]
  },
  {
   "cell_type": "code",
   "execution_count": 6,
   "metadata": {},
   "outputs": [
    {
     "data": {
      "text/plain": [
       "'USE caris_db;'"
      ]
     },
     "execution_count": 6,
     "metadata": {},
     "output_type": "execute_result"
    }
   ],
   "source": [
    "class EidDate(Enum):\n",
    "    start_date=\"2023-10-01\"\n",
    "    end_date=\"2024-04-30\"\n",
    "\n",
    "'USE caris_db;'\n",
    "\n",
    "EID = f\"\"\"\n",
    "select Patient_code,Code_mere,if(Code_mere in (select patient_code from patient),'yes','no') as Liaison_mere,left(patient_code,8) as Site_or_lab_code, hospital,Office, if(Network is not null,Network,'Autres') as Network, date_of_birth, gender, start_date as arv_start,if(Office='CAP', 'HUJ',lab) as Lab, date_blood_taken, date_caris_received_sample, date_lab_received_sample, Result,\n",
    "if(timestampdiff(day,date_of_birth,date_blood_taken)<=61,if(timestampdiff(day,date_of_birth,date_blood_taken)>=0,'0_2',''),if(timestampdiff(day,date_of_birth,date_blood_taken)<=365,if(timestampdiff(day,date_of_birth,date_blood_taken)>61,'2_12',''),'')) as tranche_age\n",
    ",if(arv is not null,'yes','') as on_arv, timestampdiff(day,date_lab_received_sample,now()) as total_jours_Labo, timestampdiff(day,date_blood_taken,pcr_result_date) as from_specimen_to_result, timestampdiff(day,date_blood_taken,date_caris_received_sample) as from_specimen_to_caris,\n",
    "timestampdiff(day,date_caris_received_sample,date_lab_received_sample) as from_caris_to_lab, timestampdiff(day,date_lab_received_sample,pcr_result_date) as from_lab_to_result,\n",
    "if(!(pcr_result_date is null or pcr_result_date ='0000-00-00') and !(date_lab_received_sample is null or date_lab_received_sample ='0000-00-00'),timestampdiff(day,date_lab_received_sample,pcr_result_date) , IF(!(date_lab_received_sample is null or date_lab_received_sample ='0000-00-00'), timestampdiff(day,date_lab_received_sample,now()),\"not_in_lab\")) as days_in_lab,\n",
    "case \n",
    "\twhen if(!(pcr_result_date is null or pcr_result_date ='0000-00-00') and !(date_lab_received_sample is null or date_lab_received_sample ='0000-00-00'),timestampdiff(day,date_lab_received_sample,pcr_result_date) , IF(!(date_lab_received_sample is null or date_lab_received_sample ='0000-00-00'), timestampdiff(day,date_lab_received_sample,now()),\"not_in_lab\"))>15 then 'Ndays_Labo_more_than_15'\n",
    "    when if(!(pcr_result_date is null or pcr_result_date ='0000-00-00') and !(date_lab_received_sample is null or date_lab_received_sample ='0000-00-00'),timestampdiff(day,date_lab_received_sample,pcr_result_date) , IF(!(date_lab_received_sample is null or date_lab_received_sample ='0000-00-00'), timestampdiff(day,date_lab_received_sample,now()),\"not_in_lab\"))<=15 then 'Ndays_Labo_equal_or_less_than_15'\n",
    "    else'not in lab' \n",
    "end as Nbres_jours_Labo, \n",
    "if(!(date_lab_received_sample is null or date_lab_received_sample ='0000-00-00'),timestampdiff(day,date_caris_received_sample,date_lab_received_sample),timestampdiff(day,date_caris_received_sample,now())) as days_between_caris_lab,\n",
    "case \n",
    "\twhen if(!(date_lab_received_sample is null or date_lab_received_sample ='0000-00-00') ,timestampdiff(day,date_caris_received_sample,date_lab_received_sample),timestampdiff(day,date_caris_received_sample,now())) >5 then 'Ndays_Caris_more_than_5'\n",
    "    when if(!(date_lab_received_sample is null or date_lab_received_sample ='0000-00-00'),timestampdiff(day,date_caris_received_sample,date_lab_received_sample),timestampdiff(day,date_caris_received_sample,now())) <=5 then 'Ndays_Caris_equal_or_less_than_5'\n",
    "end as Nbres_jours_Caris,\n",
    "if(pcr_result=1,if(patient_info is not null,if(is_abandoned=0 and is_dead=0,'no','yes'),''),'') as pos_dead_abandon\n",
    ",death_date\n",
    ",abandoned_date\n",
    ",pcr_result_date,\n",
    "case \n",
    "    when month(date_blood_taken) between 10 and 12 then 'Q1'\n",
    "    when month(date_blood_taken) between 1 and 3 then 'Q2'\n",
    "    when month(date_blood_taken) between 4 and 6 then 'Q3'\n",
    "    else 'Q4'\n",
    "End as Quarter,  -- month(date_blood_taken)  as month_blood_taken,\n",
    "if( month(date_blood_taken) between 10 and 12 ,year(date_blood_taken)+1,year(date_blood_taken) ) as Year\n",
    "from(\n",
    "select patient_code,tme.id_patient as id_in_mere ,concat(tme.mother_city_code,'/',tme.mother_hospital_code,'/',tme.mother_code) as Code_mere, date_of_birth, tracking_infant.id_patient as patient_info, date_blood_taken, pcr_result,arv.id_patient as arv, is_dead, is_abandoned, death_date, abandoned_date, pcr_result_date, date_caris_received_sample, date_lab_received_sample,\n",
    "lookup_testing_specimen_result.name as _result, if(lookup_testing_specimen_result.name=\"\", 'En cours',lookup_testing_specimen_result.name) as Result,lookup_hospital.name as hospital,lookup_network.name as Network,lookup_hospital.office as Office, lookup_testing_gender.name as gender, tracking_regime.start_date, lookup_lab.name as lab from(\n",
    "    select * from testing_specimen t1 where timestampdiff(day,date_of_birth,date_blood_taken)<=365 and date_blood_taken between '{EidDate.start_date.value}' and '{EidDate.end_date.value}'\n",
    "    and date_blood_taken=(select min(date_blood_taken) from testing_specimen t2 where t1.id_patient=t2.id_patient)\n",
    ")test_1\n",
    "left join patient pa on pa.id=test_1.id_patient\n",
    "left join testing_mereenfant tme on pa.id= tme.id_patient\n",
    "left join\n",
    "(select * from(\n",
    "    select id_patient from tracking_followup where on_arv=1\n",
    "    union\n",
    "    select id_patient from tracking_regime where category='regime_infant_treatment'\n",
    "    )o\n",
    ")arv on arv.id_patient=test_1.id_patient\n",
    "left join tracking_infant on tracking_infant.id_patient=test_1.id_patient\n",
    "left join lookup_testing_specimen_result on pcr_result=lookup_testing_specimen_result.id\n",
    "left join lookup_hospital on concat(lookup_hospital.city_code,'/',lookup_hospital.hospital_code)=left(patient_code,8)\n",
    "left join tracking_regime on tracking_regime.id_patient=test_1.id_patient\n",
    "left join lookup_testing_gender on lookup_testing_gender.id=gender\n",
    "left join lookup_lab on lookup_hospital.id_lab=lookup_lab.id\n",
    "left join lookup_network on lookup_hospital.network=lookup_network.id\n",
    "where timestampdiff(day,test_1.date_of_birth,test_1.date_blood_taken)<=365 and test_1.date_blood_taken between '{EidDate.start_date.value}' and '{EidDate.end_date.value}' and linked_to_id_patient=0\n",
    "group by test_1.id_patient\n",
    ")final\n",
    "\"\"\""
   ]
  },
  {
   "cell_type": "code",
   "execution_count": 7,
   "metadata": {},
   "outputs": [
    {
     "data": {
      "text/plain": [
       "True"
      ]
     },
     "execution_count": 7,
     "metadata": {},
     "output_type": "execute_result"
    }
   ],
   "source": [
    "load_dotenv(\"../actual_caris_host.env\")\n",
    "# get the environment variables needed\n",
    "USER= config('USRCaris')\n",
    "PASSWORD= config('PASSCaris')\n",
    "HOSTNAME= config('HOSTCaris')\n",
    "DBNAME= config('DBCaris')\n",
    "\n",
    "# get the engine to connect and fetch\n",
    "engine = create_engine(f\"mysql+pymysql://{USER}:{PASSWORD}@{HOSTNAME}/{DBNAME}\")"
   ]
  },
  {
   "cell_type": "code",
   "execution_count": 8,
   "metadata": {},
   "outputs": [],
   "source": [
    "mhc22 = read_sql_query(text(MHC22),engine.connect(),parse_dates=True)\n",
    "nomhc22 = read_sql_query(text(NOMHC22),engine.connect(),parse_dates=True)\n",
    "mh22 = read_sql_query(text(MUSO_HOUSEHOLD_22),engine.connect(),parse_dates=True)\n",
    "eid = read_sql_query(text(EID),engine.connect(),parse_dates=True)\n",
    "#nomhc22 = read_sql_query(NOMHC22,engine,parse_dates=True)\n",
    "#all_hub = read_sql_query(HUBS,engine,parse_dates=True)"
   ]
  },
  {
   "cell_type": "code",
   "execution_count": 9,
   "metadata": {},
   "outputs": [],
   "source": [
    "engine.dispose()"
   ]
  },
  {
   "cell_type": "code",
   "execution_count": 10,
   "metadata": {},
   "outputs": [],
   "source": [
    "mhc22.to_excel('./mhc22.xlsx',index=False)\n",
    "nomhc22.to_excel('./nomhc22.xlsx',index=False)\n",
    "mh22.to_excel('./mh22.xlsx',index=False)\n",
    "eid.to_excel('./eid.xlsx',index=False)\n",
    "#all_hub.to_excel('./all_hub.xlsx',index=False)"
   ]
  }
 ],
 "metadata": {
  "kernelspec": {
   "display_name": "Python 3.10.6 64-bit",
   "language": "python",
   "name": "python3"
  },
  "language_info": {
   "codemirror_mode": {
    "name": "ipython",
    "version": 3
   },
   "file_extension": ".py",
   "mimetype": "text/x-python",
   "name": "python",
   "nbconvert_exporter": "python",
   "pygments_lexer": "ipython3",
   "version": "3.11.7"
  },
  "orig_nbformat": 4,
  "vscode": {
   "interpreter": {
    "hash": "b460384b52104c1e5b9cf54bee46a255d22b2bef338f75ac4ad5d48196028d3c"
   }
  }
 },
 "nbformat": 4,
 "nbformat_minor": 2
}
