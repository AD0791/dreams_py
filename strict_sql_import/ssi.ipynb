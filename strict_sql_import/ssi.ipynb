{
 "cells": [
  {
   "cell_type": "code",
   "execution_count": 1,
   "metadata": {},
   "outputs": [],
   "source": [
    "from pandas import DataFrame, read_sql_query, Int32Dtype, read_excel\n",
    "from datetime import datetime\n",
    "from IPython.core.interactiveshell import InteractiveShell\n",
    "import pymysql\n",
    "from sqlalchemy import create_engine, text\n",
    "from decouple import config \n",
    "from dotenv import load_dotenv\n",
    "InteractiveShell.ast_node_interactivity = \"all\"\n",
    "from datim import datim_query"
   ]
  },
  {
   "cell_type": "code",
   "execution_count": 2,
   "metadata": {},
   "outputs": [
    {
     "data": {
      "text/plain": [
       "' INFO=\"mother_tracking_info\"\\n_INFO=\"patient\"\\ndataset.to_excel(f\"../../pvvih_sansComptage/{_INFO}.xlsx\",index=False) '"
      ]
     },
     "execution_count": 2,
     "metadata": {},
     "output_type": "execute_result"
    }
   ],
   "source": [
    "_QUERY=\"\"\"\n",
    "select * from patient;\n",
    "\"\"\"\n",
    "QUERY=\"\"\"\n",
    "SELECT\n",
    "    p.patient_code,\n",
    "    tmi.*\n",
    "FROM\n",
    "    tracking_motherbasicinfo tmi\n",
    "LEFT JOIN\n",
    "    patient p \n",
    "ON\n",
    "    p.id = tmi.id_patient;\n",
    "\"\"\"\n",
    "\n",
    "MUSO_WITH_COMPTAGEMENAGE = \"\"\"\n",
    "SELECT *\n",
    "FROM\n",
    "    caris_db.view_muso_household_report\n",
    "where (!isnull(indice_householdcount) or (is_household_applicable ='yes' ))\n",
    "\"\"\"\n",
    "\n",
    "\"\"\" INFO=\"mother_tracking_info\"\n",
    "_INFO=\"patient\"\n",
    "dataset.to_excel(f\"../../pvvih_sansComptage/{_INFO}.xlsx\",index=False) \"\"\""
   ]
  },
  {
   "cell_type": "code",
   "execution_count": 3,
   "metadata": {},
   "outputs": [],
   "source": [
    "# Non-applicable \n",
    "MHC22 = f\"\"\"\n",
    "SELECT \n",
    "    b.caseid, mhc22.*\n",
    "FROM\n",
    "    (SELECT \n",
    "        *\n",
    "    FROM\n",
    "        caris_db.view_muso_household_report\n",
    "    WHERE\n",
    "        (!ISNULL(indice_householdcount)\n",
    "            OR (is_household_applicable = 'yes'))) mhc22\n",
    "        LEFT JOIN\n",
    "    (SELECT \n",
    "        patient_code, muso_case_id AS caseid\n",
    "    FROM\n",
    "        caris_db.patient) b ON mhc22.patient_code = b.patient_code\n",
    "\"\"\"\n",
    "\n",
    "\n",
    "\n",
    "# applicable \n",
    "NOMHC22 = f\"\"\"\n",
    "SELECT \n",
    "    b.caseid, nomhc22.*\n",
    "FROM\n",
    "    (SELECT \n",
    "        *\n",
    "    FROM\n",
    "        caris_db.view_muso_household_report\n",
    "    WHERE\n",
    "        (ISNULL(indice_householdcount)\n",
    "            AND (is_household_applicable = 'no'\n",
    "            OR ISNULL(is_household_applicable)))) nomhc22\n",
    "        LEFT JOIN\n",
    "    (SELECT \n",
    "        patient_code, muso_case_id AS caseid\n",
    "    FROM\n",
    "        caris_db.patient) b ON nomhc22.patient_code = b.patient_code\n",
    "\"\"\"\n",
    "\n",
    "MUSO_HOUSEHOLD_22 = f\"\"\"\n",
    "SELECT \n",
    "    b.caseid, mh22.*\n",
    "FROM\n",
    "    (SELECT \n",
    "        *\n",
    "    FROM\n",
    "        caris_db.muso_household_2022) mh22\n",
    "        LEFT JOIN\n",
    "    (SELECT \n",
    "        id, muso_case_id AS caseid\n",
    "    FROM\n",
    "        caris_db.patient) b ON mh22.id_patient = b.id\n",
    "\"\"\"\n",
    "\n",
    "# Non-applicable \n",
    "MHC22 = f\"\"\"\n",
    "SELECT \n",
    "    b.caseid, mhc22.*\n",
    "FROM\n",
    "    (SELECT \n",
    "        *\n",
    "    FROM\n",
    "        caris_db.view_muso_household_report\n",
    "    WHERE\n",
    "        (!ISNULL(indice_householdcount)\n",
    "            OR (is_household_applicable = 'yes'))) mhc22\n",
    "        LEFT JOIN\n",
    "    (SELECT \n",
    "        patient_code, muso_case_id AS caseid\n",
    "    FROM\n",
    "        caris_db.patient) b ON mhc22.patient_code = b.patient_code\n",
    "\"\"\"\n",
    "\n",
    "\n",
    "\n",
    "# applicable \n",
    "NOMHC22 = f\"\"\"\n",
    "SELECT \n",
    "    b.caseid, nomhc22.*\n",
    "FROM\n",
    "    (SELECT \n",
    "        *\n",
    "    FROM\n",
    "        caris_db.view_muso_household_report\n",
    "    WHERE\n",
    "        (ISNULL(indice_householdcount)\n",
    "            AND (is_household_applicable = 'no'\n",
    "            OR ISNULL(is_household_applicable)))) nomhc22\n",
    "        LEFT JOIN\n",
    "    (SELECT \n",
    "        patient_code, muso_case_id AS caseid\n",
    "    FROM\n",
    "        caris_db.patient) b ON nomhc22.patient_code = b.patient_code\n",
    "\"\"\"\n",
    "\n",
    "MUSO_HOUSEHOLD_22 = f\"\"\"\n",
    "SELECT \n",
    "    b.caseid, mh22.*\n",
    "FROM\n",
    "    (SELECT \n",
    "        *\n",
    "    FROM\n",
    "        caris_db.muso_household_2022) mh22\n",
    "        LEFT JOIN\n",
    "    (SELECT \n",
    "        id, muso_case_id AS caseid\n",
    "    FROM\n",
    "        caris_db.patient) b ON mh22.id_patient = b.id\n",
    "\"\"\""
   ]
  },
  {
   "cell_type": "code",
   "execution_count": 4,
   "metadata": {},
   "outputs": [],
   "source": [
    "HUBS = f\"\"\"\n",
    "SELECT \n",
    "    dh.name AS hub,\n",
    "    dh.address,\n",
    "    lc.name AS commune,\n",
    "    ld.name AS departement,\n",
    "    dh.is_inactive,\n",
    "    dh.inactive_date,\n",
    "    dh.creation_date,\n",
    "    dh.created_at\n",
    "FROM\n",
    "    caris_db.dream_hub dh\n",
    "        LEFT JOIN\n",
    "    caris_db.lookup_commune lc ON lc.id = dh.commune\n",
    "        LEFT JOIN\n",
    "    caris_db.lookup_departement ld ON ld.id = lc.departement\n",
    "GROUP BY hub\n",
    "HAVING hub != ''\n",
    "\"\"\""
   ]
  },
  {
   "cell_type": "code",
   "execution_count": 5,
   "metadata": {},
   "outputs": [
    {
     "data": {
      "text/plain": [
       "True"
      ]
     },
     "execution_count": 5,
     "metadata": {},
     "output_type": "execute_result"
    }
   ],
   "source": [
    "load_dotenv(\"../actual_caris_host.env\")\n",
    "# get the environment variables needed\n",
    "USER= config('USRCaris')\n",
    "PASSWORD= config('PASSCaris')\n",
    "HOSTNAME= config('HOSTCaris')\n",
    "DBNAME= config('DBCaris')\n",
    "\n",
    "# get the engine to connect and fetch\n",
    "engine = create_engine(f\"mysql+pymysql://{USER}:{PASSWORD}@{HOSTNAME}/{DBNAME}\")"
   ]
  },
  {
   "cell_type": "code",
   "execution_count": 6,
   "metadata": {},
   "outputs": [],
   "source": [
    "mhc22 = read_sql_query(text(MHC22),engine.connect(),parse_dates=True)\n",
    "nomhc22 = read_sql_query(text(NOMHC22),engine.connect(),parse_dates=True)\n",
    "mh22 = read_sql_query(text(MUSO_HOUSEHOLD_22),engine.connect(),parse_dates=True)\n",
    "#nomhc22 = read_sql_query(NOMHC22,engine,parse_dates=True)\n",
    "#all_hub = read_sql_query(HUBS,engine,parse_dates=True)"
   ]
  },
  {
   "cell_type": "code",
   "execution_count": 7,
   "metadata": {},
   "outputs": [],
   "source": [
    "engine.dispose()"
   ]
  },
  {
   "cell_type": "code",
   "execution_count": 8,
   "metadata": {},
   "outputs": [],
   "source": [
    "mhc22.to_excel('./mhc22.xlsx',index=False)\n",
    "nomhc22.to_excel('./nomhc22.xlsx',index=False)\n",
    "mh22.to_excel('./mh22.xlsx',index=False)\n",
    "#all_hub.to_excel('./all_hub.xlsx',index=False)"
   ]
  }
 ],
 "metadata": {
  "kernelspec": {
   "display_name": "Python 3.10.6 64-bit",
   "language": "python",
   "name": "python3"
  },
  "language_info": {
   "codemirror_mode": {
    "name": "ipython",
    "version": 3
   },
   "file_extension": ".py",
   "mimetype": "text/x-python",
   "name": "python",
   "nbconvert_exporter": "python",
   "pygments_lexer": "ipython3",
   "version": "3.11.7"
  },
  "orig_nbformat": 4,
  "vscode": {
   "interpreter": {
    "hash": "b460384b52104c1e5b9cf54bee46a255d22b2bef338f75ac4ad5d48196028d3c"
   }
  }
 },
 "nbformat": 4,
 "nbformat_minor": 2
}
