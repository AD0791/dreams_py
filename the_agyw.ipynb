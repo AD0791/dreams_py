{
 "cells": [
  {
   "cell_type": "code",
   "execution_count": 1,
   "metadata": {},
   "outputs": [],
   "source": [
    "from pandas import DataFrame, read_sql_query, Int32Dtype, read_excel\n",
    "from datetime import datetime\n",
    "from IPython.core.interactiveshell import InteractiveShell\n",
    "import pymysql\n",
    "from sqlalchemy import create_engine\n",
    "from decouple import config \n",
    "from dotenv import load_dotenv\n",
    "InteractiveShell.ast_node_interactivity = \"all\""
   ]
  },
  {
   "cell_type": "code",
   "execution_count": 2,
   "metadata": {},
   "outputs": [
    {
     "data": {
      "text/plain": [
       "True"
      ]
     },
     "execution_count": 2,
     "metadata": {},
     "output_type": "execute_result"
    }
   ],
   "source": [
    "load_dotenv()\n",
    "# get the environment variables needed\n",
    "USER= config('USRCaris')\n",
    "PASSWORD= config('PASSCaris')\n",
    "HOSTNAME= config('HOSTCaris')\n",
    "DBNAME= config('DBCaris')\n",
    "\n",
    "# get the engine to connect and fetch\n",
    "engine = create_engine(f\"mysql+pymysql://{USER}:{PASSWORD}@{HOSTNAME}/{DBNAME}\")\n",
    "query = f\"\"\"\n",
    "SELECT\n",
    "    dh.office,\n",
    "    d.case_id,\n",
    "    dm.id_patient AS id_patient,\n",
    "    p.patient_code AS code,\n",
    "    d.a_non_patisipan_an AS first_name,\n",
    "    d.b_siyati AS last_name,\n",
    "    TIMESTAMPDIFF(YEAR,\n",
    "        d.nan_ki_dat_ou_fet,\n",
    "        NOW()) AS age,\n",
    "    IF(TIMESTAMPDIFF(YEAR,\n",
    "            d.nan_ki_dat_ou_fet,\n",
    "            NOW()) >= 10\n",
    "            AND TIMESTAMPDIFF(YEAR,\n",
    "            d.nan_ki_dat_ou_fet,\n",
    "            NOW()) <= 14,\n",
    "        '10-14',\n",
    "        IF(TIMESTAMPDIFF(YEAR,\n",
    "                d.nan_ki_dat_ou_fet,\n",
    "                NOW()) >= 15\n",
    "                AND TIMESTAMPDIFF(YEAR,\n",
    "                d.nan_ki_dat_ou_fet,\n",
    "                NOW()) <= 19,\n",
    "            '15-19',\n",
    "            IF(TIMESTAMPDIFF(YEAR,\n",
    "                    d.nan_ki_dat_ou_fet,\n",
    "                    NOW()) >= 20\n",
    "                    AND TIMESTAMPDIFF(YEAR,\n",
    "                    d.nan_ki_dat_ou_fet,\n",
    "                    NOW()) <= 24,\n",
    "                '20-24',\n",
    "                IF(TIMESTAMPDIFF(YEAR,\n",
    "                        d.nan_ki_dat_ou_fet,\n",
    "                        NOW()) >= 25\n",
    "                        AND TIMESTAMPDIFF(YEAR,\n",
    "                        d.nan_ki_dat_ou_fet,\n",
    "                        NOW()) <= 29,\n",
    "                    '25-29',\n",
    "                    'not_valid_age')))) AS age_range,\n",
    "    IF(TIMESTAMPDIFF(YEAR,\n",
    "            d.nan_ki_dat_ou_fet,\n",
    "            NOW()) >= 10\n",
    "            AND TIMESTAMPDIFF(YEAR,\n",
    "            d.nan_ki_dat_ou_fet,\n",
    "            NOW()) <= 14,\n",
    "        '10-14',\n",
    "        IF(TIMESTAMPDIFF(YEAR,\n",
    "                d.nan_ki_dat_ou_fet,\n",
    "                NOW()) >= 15\n",
    "                AND TIMESTAMPDIFF(YEAR,\n",
    "                d.nan_ki_dat_ou_fet,\n",
    "                NOW()) <= 17,\n",
    "            '15-17',\n",
    "            IF(TIMESTAMPDIFF(YEAR,\n",
    "                    d.nan_ki_dat_ou_fet,\n",
    "                    NOW()) >= 18\n",
    "                    AND TIMESTAMPDIFF(YEAR,\n",
    "                    d.nan_ki_dat_ou_fet,\n",
    "                    NOW()) <= 24,\n",
    "                '18-24',\n",
    "                IF(TIMESTAMPDIFF(YEAR,\n",
    "                        d.nan_ki_dat_ou_fet,\n",
    "                        NOW()) >= 25\n",
    "                        AND TIMESTAMPDIFF(YEAR,\n",
    "                        d.nan_ki_dat_ou_fet,\n",
    "                        NOW()) <= 29,\n",
    "                    '25-29',\n",
    "                    'not_valid_age')))) AS ovc_age,\n",
    "    d.nan_ki_dat_ou_fet AS dob,\n",
    "    IF(TIMESTAMPDIFF(MONTH,\n",
    "            d.a1_dat_entvyou_a_ft_jjmmaa_egz_010817,\n",
    "            NOW()) >= 0\n",
    "            AND TIMESTAMPDIFF(MONTH,\n",
    "            d.a1_dat_entvyou_a_ft_jjmmaa_egz_010817,\n",
    "            NOW()) <= 6,\n",
    "        '0-6 months',\n",
    "        IF(TIMESTAMPDIFF(MONTH,\n",
    "                d.a1_dat_entvyou_a_ft_jjmmaa_egz_010817,\n",
    "                NOW()) >= 7\n",
    "                AND TIMESTAMPDIFF(MONTH,\n",
    "                d.a1_dat_entvyou_a_ft_jjmmaa_egz_010817,\n",
    "                NOW()) <= 12,\n",
    "            '07-12 months',\n",
    "            IF(TIMESTAMPDIFF(MONTH,\n",
    "                    d.a1_dat_entvyou_a_ft_jjmmaa_egz_010817,\n",
    "                    NOW()) >= 13\n",
    "                    AND TIMESTAMPDIFF(MONTH,\n",
    "                    d.a1_dat_entvyou_a_ft_jjmmaa_egz_010817,\n",
    "                    NOW()) <= 24,\n",
    "                '13-24 months',\n",
    "                '25+ months'))) AS month_in_program_range,\n",
    "    d.a1_dat_entvyou_a_ft_jjmmaa_egz_010817 AS interview_date,\n",
    "    d.e__telefn,\n",
    "    d.d_adrs AS adress,\n",
    "    IF(dm.id IS NOT NULL, 'yes', 'no') AS already_in_a_group,\n",
    "    dm.id_group AS actual_id_group,\n",
    "    dg.name AS actual_group_name,\n",
    "    dm.id_parenting_group AS actual_id_parenting_group,\n",
    "    dpg.name AS actual_parenting_group_name,\n",
    "    dh.name AS actual_hub,\n",
    "    ld.name AS actual_departement,\n",
    "    d.f_komin AS commune,\n",
    "    d.g_seksyon_kominal AS commune_section,\n",
    "    d.b1_non_moun_mennen_entvyou_a AS interviewer_firstname,\n",
    "    d.c1_siyati_moun_ki_f_entvyou_a AS interviewer_lastname,\n",
    "    d.d1_kad AS interviewer_role,\n",
    "    d.lot_kad AS interviewer_other_info,\n",
    "    d.h_kote_entvyou_a_ft AS interview_location,\n",
    "    d.paran_ou_vivan AS is_your_parent_alive,\n",
    "    d.i_non_manman AS mothers_name,\n",
    "    d.j_non_papa AS fathers_name,\n",
    "    d.k_reskonsab_devan_lalwa AS who_is_your_law_parent,\n",
    "    d.total,\n",
    "    d.organisation,\n",
    "    d.form_link\n",
    "FROM\n",
    "    caris_db.dreams_surveys_data d\n",
    "        LEFT JOIN\n",
    "    dream_member dm ON dm.case_id = d.case_id\n",
    "        LEFT JOIN\n",
    "    patient p ON p.id = dm.id_patient\n",
    "        LEFT JOIN\n",
    "    dream_group dg ON dg.id = dm.id_group\n",
    "        LEFT JOIN\n",
    "    dream_group dpg ON dpg.id = dm.id_parenting_group\n",
    "        LEFT JOIN\n",
    "    dream_hub dh ON dh.id = dg.id_dream_hub\n",
    "        LEFT JOIN\n",
    "    lookup_commune lc ON lc.id = dh.commune\n",
    "        LEFT JOIN\n",
    "    lookup_departement ld ON ld.id = lc.departement\n",
    "\"\"\"\n",
    "\n",
    "\n",
    "ASDATA= read_sql_query(query,engine,parse_dates=True)\n",
    "ASDATA.id_patient = ASDATA.id_patient.astype(Int32Dtype())\n",
    "ASDATA.age = ASDATA.age.astype(Int32Dtype())\n",
    "\n",
    "sdata= read_sql_query(query,engine,parse_dates=True)\n",
    "sdata.id_patient = sdata.id_patient.astype(Int32Dtype())\n",
    "sdata.age = sdata.age.astype(Int32Dtype())\n",
    "SDATA = sdata[sdata.total>=14]\n",
    "\n",
    "# close the pool of connection\n",
    "engine.dispose()"
   ]
  },
  {
   "cell_type": "code",
   "execution_count": 3,
   "metadata": {},
   "outputs": [
    {
     "data": {
      "text/plain": [
       "78273"
      ]
     },
     "execution_count": 3,
     "metadata": {},
     "output_type": "execute_result"
    },
    {
     "data": {
      "text/plain": [
       "63590"
      ]
     },
     "execution_count": 3,
     "metadata": {},
     "output_type": "execute_result"
    }
   ],
   "source": [
    "ASDATA.case_id.count()\n",
    "SDATA.case_id.count()"
   ]
  },
  {
   "cell_type": "code",
   "execution_count": 4,
   "metadata": {},
   "outputs": [],
   "source": [
    "ASDATA.to_excel(\"all_sdata.xlsx\",index=False,na_rep=\"---\")\n",
    "SDATA.to_excel(\"eligible_sdata.xlsx\",index=False,na_rep=\"---\")"
   ]
  }
 ],
 "metadata": {
  "kernelspec": {
   "display_name": "Python 3.10.4 64-bit",
   "language": "python",
   "name": "python3"
  },
  "language_info": {
   "codemirror_mode": {
    "name": "ipython",
    "version": 3
   },
   "file_extension": ".py",
   "mimetype": "text/x-python",
   "name": "python",
   "nbconvert_exporter": "python",
   "pygments_lexer": "ipython3",
   "version": "3.10.9"
  },
  "orig_nbformat": 4,
  "vscode": {
   "interpreter": {
    "hash": "b460384b52104c1e5b9cf54bee46a255d22b2bef338f75ac4ad5d48196028d3c"
   }
  }
 },
 "nbformat": 4,
 "nbformat_minor": 2
}
