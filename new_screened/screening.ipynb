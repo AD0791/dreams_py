{
 "cells": [
  {
   "cell_type": "code",
   "execution_count": 1,
   "metadata": {},
   "outputs": [
    {
     "name": "stderr",
     "output_type": "stream",
     "text": [
      "/Users/ad0791/Desktop/CARIS/dreams_py/new_screened/screening.py:80: SettingWithCopyWarning: \n",
      "A value is trying to be set on a copy of a slice from a DataFrame.\n",
      "Try using .loc[row_indexer,col_indexer] = value instead\n",
      "\n",
      "See the caveats in the documentation: https://pandas.pydata.org/pandas-docs/stable/user_guide/indexing.html#returning-a-view-versus-a-copy\n",
      "  to_be_served.interview_date = to_be_served.loc[:, 'interview_date'].apply(\n",
      "/Users/ad0791/Desktop/CARIS/dreams_py/new_screened/screening.py:82: SettingWithCopyWarning: \n",
      "A value is trying to be set on a copy of a slice from a DataFrame.\n",
      "Try using .loc[row_indexer,col_indexer] = value instead\n",
      "\n",
      "See the caveats in the documentation: https://pandas.pydata.org/pandas-docs/stable/user_guide/indexing.html#returning-a-view-versus-a-copy\n",
      "  to_be_served.total = to_be_served.total.astype(Int32Dtype())\n"
     ]
    }
   ],
   "source": [
    "from screening import to_be_served, sdata\n",
    "from pandas import ExcelWriter, DataFrame\n",
    "import openpyxl"
   ]
  },
  {
   "cell_type": "code",
   "execution_count": 2,
   "metadata": {},
   "outputs": [],
   "source": [
    "from IPython.core.interactiveshell import InteractiveShell\n",
    "InteractiveShell.ast_node_interactivity = \"all\"\n"
   ]
  },
  {
   "cell_type": "code",
   "execution_count": 3,
   "metadata": {},
   "outputs": [
    {
     "data": {
      "text/plain": [
       "'1994-02-14'"
      ]
     },
     "execution_count": 3,
     "metadata": {},
     "output_type": "execute_result"
    },
    {
     "data": {
      "text/plain": [
       "'2022-11-03'"
      ]
     },
     "execution_count": 3,
     "metadata": {},
     "output_type": "execute_result"
    }
   ],
   "source": [
    "to_be_served.interview_date.min().strftime(\"%Y-%m-%d\")\n",
    "to_be_served.interview_date.max().strftime(\"%Y-%m-%d\")"
   ]
  },
  {
   "cell_type": "code",
   "execution_count": 4,
   "metadata": {},
   "outputs": [
    {
     "data": {
      "text/plain": [
       "<IntegerArray>\n",
       "[19, 35, 49, 26, 31, 54, 18, 51, 17, 23, 28, 24, 25, 20, 55, 67, 42, 44, 14,\n",
       " 22, 21, 36, 15, 27, 34, 16, 43, 48, 40, 30, 46, 37, 32, 33, 50, 29, 45, 41,\n",
       " 39, 59, 38, 63, 47, 57, 52, 58, 60, 65, 53, 56, 64, 61, 71, 62, 68, 72, 77,\n",
       " 66, 70, 69, 78, 75]\n",
       "Length: 62, dtype: Int32"
      ]
     },
     "execution_count": 4,
     "metadata": {},
     "output_type": "execute_result"
    }
   ],
   "source": [
    "to_be_served.total.unique()"
   ]
  },
  {
   "cell_type": "code",
   "execution_count": 5,
   "metadata": {},
   "outputs": [
    {
     "data": {
      "text/plain": [
       "605"
      ]
     },
     "execution_count": 5,
     "metadata": {},
     "output_type": "execute_result"
    },
    {
     "data": {
      "text/plain": [
       "699"
      ]
     },
     "execution_count": 5,
     "metadata": {},
     "output_type": "execute_result"
    },
    {
     "data": {
      "text/plain": [
       "857"
      ]
     },
     "execution_count": 5,
     "metadata": {},
     "output_type": "execute_result"
    },
    {
     "data": {
      "text/plain": [
       "1464"
      ]
     },
     "execution_count": 5,
     "metadata": {},
     "output_type": "execute_result"
    },
    {
     "data": {
      "text/plain": [
       "1937"
      ]
     },
     "execution_count": 5,
     "metadata": {},
     "output_type": "execute_result"
    },
    {
     "data": {
      "text/plain": [
       "1517"
      ]
     },
     "execution_count": 5,
     "metadata": {},
     "output_type": "execute_result"
    },
    {
     "data": {
      "text/plain": [
       "1054"
      ]
     },
     "execution_count": 5,
     "metadata": {},
     "output_type": "execute_result"
    },
    {
     "data": {
      "text/plain": [
       "6081"
      ]
     },
     "execution_count": 5,
     "metadata": {},
     "output_type": "execute_result"
    }
   ],
   "source": [
    "unserved_Q1FY23 = to_be_served[(to_be_served.interview_date >=\"2022-10-01\") & (to_be_served.interview_date <=\"2022-12-31\")]\n",
    "\n",
    "unserved_Q1FY22 = to_be_served[(to_be_served.interview_date >=\"2021-10-01\") & (to_be_served.interview_date <=\"2021-12-31\")]\n",
    "unserved_Q2FY22 = to_be_served[(to_be_served.interview_date >=\"2022-01-01\") & (to_be_served.interview_date <=\"2022-03-31\")]\n",
    "unserved_Q3FY22 = to_be_served[(to_be_served.interview_date >=\"2022-04-01\") & (to_be_served.interview_date <=\"2022-06-30\")]\n",
    "unserved_Q4FY22 = to_be_served[(to_be_served.interview_date >=\"2022-07-01\") & (to_be_served.interview_date <=\"2022-09-30\")]\n",
    "\n",
    "unserved_FY21 = to_be_served[(to_be_served.interview_date >=\"2020-10-01\") & (to_be_served.interview_date <=\"2021-09-30\")]\n",
    "\n",
    "unserved_FY20 = to_be_served[(to_be_served.interview_date >=\"2019-10-01\") & (to_be_served.interview_date <=\"2020-09-30\")]\n",
    "\n",
    "unserved_Before_FY20 = to_be_served[to_be_served.interview_date <= \"2019-10-01\"]\n",
    "\n",
    "unserved_Q1FY23.shape[0]\n",
    "\n",
    "unserved_Q1FY22.case_id.count()\n",
    "unserved_Q2FY22.case_id.count()\n",
    "unserved_Q3FY22.case_id.count()\n",
    "unserved_Q4FY22.case_id.count()\n",
    "\n",
    "unserved_FY21.case_id.count()\n",
    "\n",
    "unserved_FY20.case_id.count()\n",
    "\n",
    "unserved_Before_FY20.case_id.count()\n",
    "\n"
   ]
  },
  {
   "cell_type": "code",
   "execution_count": 6,
   "metadata": {},
   "outputs": [
    {
     "data": {
      "text/plain": [
       "<DatetimeArray>\n",
       "['2012-06-15 00:00:00+00:00', '1999-10-05 00:00:00+00:00',\n",
       " '2006-04-26 00:00:00+00:00', '2002-07-09 00:00:00+00:00',\n",
       " '1999-11-18 00:00:00+00:00', '2006-12-26 00:00:00+00:00',\n",
       " '2010-08-05 00:00:00+00:00', '2008-02-12 00:00:00+00:00',\n",
       " '2006-06-04 00:00:00+00:00', '2010-02-04 00:00:00+00:00',\n",
       " ...\n",
       " '2012-09-08 00:00:00+00:00', '2006-05-31 00:00:00+00:00',\n",
       " '2008-01-04 00:00:00+00:00', '2005-05-02 00:00:00+00:00',\n",
       " '1999-02-12 00:00:00+00:00', '2005-06-20 00:00:00+00:00',\n",
       " '2005-06-18 00:00:00+00:00', '2007-02-18 00:00:00+00:00',\n",
       " '2004-08-22 00:00:00+00:00', '2008-07-07 00:00:00+00:00']\n",
       "Length: 1487, dtype: datetime64[ns, UTC]"
      ]
     },
     "execution_count": 6,
     "metadata": {},
     "output_type": "execute_result"
    }
   ],
   "source": [
    "from pandas import to_datetime\n",
    "to_datetime(unserved_Q4FY22.dob, utc=True).unique()\n"
   ]
  },
  {
   "cell_type": "code",
   "execution_count": 7,
   "metadata": {},
   "outputs": [
    {
     "name": "stderr",
     "output_type": "stream",
     "text": [
      "/var/folders/7v/rs0k237d6nj3vdxfc1h7xtcw0000gn/T/ipykernel_63652/4084108181.py:27: FutureWarning: save is not part of the public API, usage can give unexpected results and will be removed in a future version\n",
      "  toBeServed.save()\n"
     ]
    }
   ],
   "source": [
    "\n",
    "repartition_Q1FY23 = DataFrame.from_dict(unserved_Q1FY23.commune.value_counts().to_dict(),orient='index',columns=['nombre_de_beneficiaires'])\n",
    "repartition_Q1FY22 = DataFrame.from_dict(unserved_Q1FY22.commune.value_counts().to_dict(),orient='index',columns=['nombre_de_beneficiaires'])\n",
    "repartition_Q2FY22 = DataFrame.from_dict(unserved_Q2FY22.commune.value_counts().to_dict(),orient='index',columns=['nombre_de_beneficiaires'])\n",
    "repartition_Q3FY22 = DataFrame.from_dict(unserved_Q3FY22.commune.value_counts().to_dict(),orient='index',columns=['nombre_de_beneficiaires'])\n",
    "repartition_Q4FY22 = DataFrame.from_dict(unserved_Q4FY22.commune.value_counts().to_dict(),orient='index',columns=['nombre_de_beneficiaires'])\n",
    "repartition_FY21 = DataFrame.from_dict(unserved_FY21.commune.value_counts().to_dict(),orient='index',columns=['nombre_de_beneficiaires'])\n",
    "repartition_FY20 = DataFrame.from_dict(unserved_FY20.commune.value_counts().to_dict(),orient='index',columns=['nombre_de_beneficiaires'])\n",
    "repartition_Before_FY20 = DataFrame.from_dict(unserved_Before_FY20.commune.value_counts().to_dict(),orient='index',columns=['nombre_de_beneficiaires'])\n",
    "\n",
    "\n",
    "toBeServed = ExcelWriter('agyw_non_servis.xlsx', engine='openpyxl')\n",
    "repartition_Q1FY23.to_excel(toBeServed,sheet_name=\"res_Q1FY23\",index=True,na_rep=\"\") \n",
    "repartition_Q1FY22.to_excel(toBeServed,sheet_name=\"res_Q1FY22\",index=True,na_rep=\"\") \n",
    "unserved_Q1FY22.to_excel(toBeServed,sheet_name=\"Q1FY22\",index=False,na_rep=\"\")\n",
    "repartition_Q2FY22.to_excel(toBeServed,sheet_name=\"res_Q2FY22\",index=True,na_rep=\"\") \n",
    "unserved_Q2FY22.to_excel(toBeServed,sheet_name=\"Q2FY22\",index=False,na_rep=\"\")\n",
    "repartition_Q3FY22.to_excel(toBeServed,sheet_name=\"res_Q3FY22\",index=True,na_rep=\"\") \n",
    "unserved_Q3FY22.to_excel(toBeServed,sheet_name=\"Q3FY22\",index=False,na_rep=\"\")\n",
    "repartition_Q4FY22.to_excel(toBeServed,sheet_name=\"res_Q4FY22\",index=True,na_rep=\"\") \n",
    "unserved_Q4FY22.to_excel(toBeServed,sheet_name=\"Q4FY22\",index=False,na_rep=\"\")\n",
    "repartition_FY21.to_excel(toBeServed,sheet_name=\"res_FY21\",index=True,na_rep=\"\") \n",
    "unserved_FY21.to_excel(toBeServed,sheet_name=\"FY21\",index=False,na_rep=\"\")\n",
    "repartition_FY20.to_excel(toBeServed,sheet_name=\"res_FY20\",index=True,na_rep=\"\") \n",
    "unserved_FY20.to_excel(toBeServed,sheet_name=\"FY20\",index=False,na_rep=\"\")\n",
    "repartition_Before_FY20.to_excel(toBeServed,sheet_name=\"res_Before_FY20\",index=True,na_rep=\"\") \n",
    "unserved_Before_FY20.to_excel(toBeServed,sheet_name=\"BeforeFY20\",index=False,na_rep=\"\")\n",
    "toBeServed.save()"
   ]
  },
  {
   "cell_type": "code",
   "execution_count": 8,
   "metadata": {},
   "outputs": [],
   "source": [
    "DataFrame({\n",
    "    \"Non_servis_Q1FY23\": [unserved_Q1FY23.case_id.count()],\n",
    "    \"Non_servis_Q1FY22\": [unserved_Q1FY22.case_id.count()],\n",
    "    \"Non_servis_Q2FY22\": [unserved_Q2FY22.case_id.count()],\n",
    "    \"Non_servis_Q3FY22\": [unserved_Q3FY22.case_id.count()],\n",
    "    \"Non_servis_Q4FY22\": [unserved_Q4FY22.case_id.count()],\n",
    "    \"Non_servis_FY21\": [unserved_FY21.case_id.count()],\n",
    "    \"Non_servis_FY20\": [unserved_FY20.case_id.count()],\n",
    "    \"Non_servis_Before_FY20\": [unserved_Before_FY20.case_id.count()],\n",
    "}).to_excel('Tableau_des_agyw__non_servis.xlsx',index=False,na_rep=\"\")"
   ]
  },
  {
   "cell_type": "markdown",
   "metadata": {},
   "source": [
    "## Quick Overview\n"
   ]
  },
  {
   "cell_type": "code",
   "execution_count": 12,
   "metadata": {},
   "outputs": [
    {
     "data": {
      "text/plain": [
       "18334"
      ]
     },
     "execution_count": 12,
     "metadata": {},
     "output_type": "execute_result"
    },
    {
     "data": {
      "text/plain": [
       "2355"
      ]
     },
     "execution_count": 12,
     "metadata": {},
     "output_type": "execute_result"
    },
    {
     "data": {
      "text/plain": [
       "22617"
      ]
     },
     "execution_count": 12,
     "metadata": {},
     "output_type": "execute_result"
    },
    {
     "data": {
      "text/plain": [
       "13210"
      ]
     },
     "execution_count": 12,
     "metadata": {},
     "output_type": "execute_result"
    },
    {
     "data": {
      "text/plain": [
       "17554"
      ]
     },
     "execution_count": 12,
     "metadata": {},
     "output_type": "execute_result"
    },
    {
     "data": {
      "text/plain": [
       "678"
      ]
     },
     "execution_count": 12,
     "metadata": {},
     "output_type": "execute_result"
    }
   ],
   "source": [
    "\n",
    "enrolled_FY18 = sdata[(sdata.interview_date >=\"2017-10-01\") & (sdata.interview_date <=\"2018-09-30\")]\n",
    "enrolled_FY19 = sdata[(sdata.interview_date >=\"2018-10-01\") & (sdata.interview_date <=\"2019-09-30\")]\n",
    "enrolled_FY20 = sdata[(sdata.interview_date >=\"2019-10-01\") & (sdata.interview_date <=\"2020-09-30\")]\n",
    "enrolled_FY21 = sdata[(sdata.interview_date >=\"2020-10-01\") & (sdata.interview_date <=\"2021-09-30\")]\n",
    "enrolled_FY22 = sdata[(sdata.interview_date >=\"2021-10-01\") & (sdata.interview_date <=\"2022-09-30\")]\n",
    "enrolled_FY23 = sdata[(sdata.interview_date >=\"2022-10-01\") & (sdata.interview_date <=\"2023-09-30\")]\n",
    "\n",
    "\n",
    "enrolled_FY18.shape[0] \n",
    "enrolled_FY19.shape[0]  \n",
    "enrolled_FY20.shape[0] \n",
    "enrolled_FY21.shape[0]  \n",
    "enrolled_FY22.shape[0] \n",
    "enrolled_FY23.shape[0] \n"
   ]
  },
  {
   "cell_type": "code",
   "execution_count": 13,
   "metadata": {},
   "outputs": [
    {
     "data": {
      "text/plain": [
       "5540"
      ]
     },
     "execution_count": 13,
     "metadata": {},
     "output_type": "execute_result"
    },
    {
     "data": {
      "text/plain": [
       "460"
      ]
     },
     "execution_count": 13,
     "metadata": {},
     "output_type": "execute_result"
    },
    {
     "data": {
      "text/plain": [
       "1054"
      ]
     },
     "execution_count": 13,
     "metadata": {},
     "output_type": "execute_result"
    },
    {
     "data": {
      "text/plain": [
       "1517"
      ]
     },
     "execution_count": 13,
     "metadata": {},
     "output_type": "execute_result"
    },
    {
     "data": {
      "text/plain": [
       "4957"
      ]
     },
     "execution_count": 13,
     "metadata": {},
     "output_type": "execute_result"
    },
    {
     "data": {
      "text/plain": [
       "605"
      ]
     },
     "execution_count": 13,
     "metadata": {},
     "output_type": "execute_result"
    }
   ],
   "source": [
    "\n",
    "enrolled_FY18_not_served = to_be_served[(to_be_served.interview_date >=\"2017-10-01\") & (to_be_served.interview_date <=\"2018-09-30\")]\n",
    "enrolled_FY19_not_served = to_be_served[(to_be_served.interview_date >=\"2018-10-01\") & (to_be_served.interview_date <=\"2019-09-30\")]\n",
    "enrolled_FY20_not_served = to_be_served[(to_be_served.interview_date >=\"2019-10-01\") & (to_be_served.interview_date <=\"2020-09-30\")]\n",
    "enrolled_FY21_not_served = to_be_served[(to_be_served.interview_date >=\"2020-10-01\") & (to_be_served.interview_date <=\"2021-09-30\")]\n",
    "enrolled_FY22_not_served = to_be_served[(to_be_served.interview_date >=\"2021-10-01\") & (to_be_served.interview_date <=\"2022-09-30\")]\n",
    "enrolled_FY23_not_served = to_be_served[(to_be_served.interview_date >=\"2022-10-01\") & (to_be_served.interview_date <=\"2023-09-30\")]\n",
    "\n",
    "\n",
    "enrolled_FY18_not_served.shape[0] \n",
    "enrolled_FY19_not_served.shape[0]  \n",
    "enrolled_FY20_not_served.shape[0] \n",
    "enrolled_FY21_not_served.shape[0]  \n",
    "enrolled_FY22_not_served.shape[0] \n",
    "enrolled_FY23_not_served.shape[0]"
   ]
  },
  {
   "cell_type": "code",
   "execution_count": null,
   "metadata": {},
   "outputs": [],
   "source": []
  }
 ],
 "metadata": {
  "interpreter": {
   "hash": "b460384b52104c1e5b9cf54bee46a255d22b2bef338f75ac4ad5d48196028d3c"
  },
  "kernelspec": {
   "display_name": "Python 3.10.2 64-bit",
   "language": "python",
   "name": "python3"
  },
  "language_info": {
   "codemirror_mode": {
    "name": "ipython",
    "version": 3
   },
   "file_extension": ".py",
   "mimetype": "text/x-python",
   "name": "python",
   "nbconvert_exporter": "python",
   "pygments_lexer": "ipython3",
   "version": "3.10.8"
  },
  "orig_nbformat": 4
 },
 "nbformat": 4,
 "nbformat_minor": 2
}
