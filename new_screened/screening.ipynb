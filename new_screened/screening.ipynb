{
 "cells": [
  {
   "cell_type": "code",
   "execution_count": 1,
   "metadata": {},
   "outputs": [
    {
     "name": "stderr",
     "output_type": "stream",
     "text": [
      "/Users/ad0791/Desktop/CARIS/dreams_py/new_screened/screening.py:79: SettingWithCopyWarning: \n",
      "A value is trying to be set on a copy of a slice from a DataFrame.\n",
      "Try using .loc[row_indexer,col_indexer] = value instead\n",
      "\n",
      "See the caveats in the documentation: https://pandas.pydata.org/pandas-docs/stable/user_guide/indexing.html#returning-a-view-versus-a-copy\n",
      "  to_be_served.interview_date = to_be_served.loc[:, 'interview_date'].apply(\n",
      "/Users/ad0791/Desktop/CARIS/dreams_py/new_screened/screening.py:81: SettingWithCopyWarning: \n",
      "A value is trying to be set on a copy of a slice from a DataFrame.\n",
      "Try using .loc[row_indexer,col_indexer] = value instead\n",
      "\n",
      "See the caveats in the documentation: https://pandas.pydata.org/pandas-docs/stable/user_guide/indexing.html#returning-a-view-versus-a-copy\n",
      "  to_be_served.total = to_be_served.total.astype(Int32Dtype())\n"
     ]
    }
   ],
   "source": [
    "from screening import to_be_served\n",
    "from pandas import ExcelWriter, DataFrame\n",
    "import openpyxl"
   ]
  },
  {
   "cell_type": "code",
   "execution_count": 2,
   "metadata": {},
   "outputs": [],
   "source": [
    "from IPython.core.interactiveshell import InteractiveShell\n",
    "InteractiveShell.ast_node_interactivity = \"all\"\n"
   ]
  },
  {
   "cell_type": "code",
   "execution_count": 3,
   "metadata": {},
   "outputs": [
    {
     "data": {
      "text/plain": [
       "'1994-02-14'"
      ]
     },
     "execution_count": 3,
     "metadata": {},
     "output_type": "execute_result"
    },
    {
     "data": {
      "text/plain": [
       "'2022-06-30'"
      ]
     },
     "execution_count": 3,
     "metadata": {},
     "output_type": "execute_result"
    }
   ],
   "source": [
    "to_be_served.interview_date.min().strftime(\"%Y-%m-%d\")\n",
    "to_be_served.interview_date.max().strftime(\"%Y-%m-%d\")"
   ]
  },
  {
   "cell_type": "code",
   "execution_count": 4,
   "metadata": {},
   "outputs": [
    {
     "data": {
      "text/plain": [
       "<IntegerArray>\n",
       "[31, 35, 49, 26, 54, 18, 17, 23, 28, 25, 20, 55, 19, 42, 29, 44, 14, 22, 21,\n",
       " 36, 15, 27, 24, 16, 33, 43, 40, 30, 46, 37, 32, 34, 39, 45, 41, 51, 38, 63,\n",
       " 47, 57, 52, 58, 65, 68, 50, 60, 56, 64, 53, 61, 48, 59, 71, 62, 72, 67, 75,\n",
       " 77, 70, 69, 78, 66]\n",
       "Length: 62, dtype: Int32"
      ]
     },
     "execution_count": 4,
     "metadata": {},
     "output_type": "execute_result"
    }
   ],
   "source": [
    "to_be_served.total.unique()"
   ]
  },
  {
   "cell_type": "code",
   "execution_count": 5,
   "metadata": {},
   "outputs": [
    {
     "data": {
      "text/plain": [
       "905"
      ]
     },
     "execution_count": 5,
     "metadata": {},
     "output_type": "execute_result"
    },
    {
     "data": {
      "text/plain": [
       "1131"
      ]
     },
     "execution_count": 5,
     "metadata": {},
     "output_type": "execute_result"
    },
    {
     "data": {
      "text/plain": [
       "1881"
      ]
     },
     "execution_count": 5,
     "metadata": {},
     "output_type": "execute_result"
    },
    {
     "data": {
      "text/plain": [
       "0"
      ]
     },
     "execution_count": 5,
     "metadata": {},
     "output_type": "execute_result"
    },
    {
     "data": {
      "text/plain": [
       "1593"
      ]
     },
     "execution_count": 5,
     "metadata": {},
     "output_type": "execute_result"
    },
    {
     "data": {
      "text/plain": [
       "1076"
      ]
     },
     "execution_count": 5,
     "metadata": {},
     "output_type": "execute_result"
    },
    {
     "data": {
      "text/plain": [
       "6152"
      ]
     },
     "execution_count": 5,
     "metadata": {},
     "output_type": "execute_result"
    }
   ],
   "source": [
    "unserved_Q1FY22 = to_be_served[(to_be_served.interview_date >=\"2021-10-01\") & (to_be_served.interview_date <=\"2021-12-31\")]\n",
    "unserved_Q2FY22 = to_be_served[(to_be_served.interview_date >=\"2022-01-01\") & (to_be_served.interview_date <=\"2022-03-31\")]\n",
    "unserved_Q3FY22 = to_be_served[(to_be_served.interview_date >=\"2022-04-01\") & (to_be_served.interview_date <=\"2022-06-30\")]\n",
    "unserved_Q4FY22 = to_be_served[(to_be_served.interview_date >=\"2022-07-01\") & (to_be_served.interview_date <=\"2022-09-30\")]\n",
    "unserved_FY21 = to_be_served[(to_be_served.interview_date >=\"2020-10-01\") & (to_be_served.interview_date <=\"2021-09-30\")]\n",
    "unserved_FY20 = to_be_served[(to_be_served.interview_date >=\"2019-10-01\") & (to_be_served.interview_date <=\"2020-09-30\")]\n",
    "unserved_Before_FY20 = to_be_served[to_be_served.interview_date <= \"2019-10-01\"]\n",
    "\n",
    "\n",
    "unserved_Q1FY22.case_id.count()\n",
    "unserved_Q2FY22.case_id.count()\n",
    "unserved_Q3FY22.case_id.count()\n",
    "unserved_Q4FY22.case_id.count()\n",
    "unserved_FY21.case_id.count()\n",
    "unserved_FY20.case_id.count()\n",
    "unserved_Before_FY20.case_id.count()\n",
    "\n",
    "#unserved_Q3FY22 = to_be_served[(to_be_served.interview_date >=\"2022-04-01\") & (to_be_served.interview_date <=\"2022-0-31\")]\n"
   ]
  },
  {
   "cell_type": "code",
   "execution_count": 6,
   "metadata": {},
   "outputs": [],
   "source": [
    "\n",
    "repartition_Q1FY22 = DataFrame.from_dict(unserved_Q1FY22.commune.value_counts().to_dict(),orient='index',columns=['nombre_de_beneficiaires'])\n",
    "repartition_Q2FY22 = DataFrame.from_dict(unserved_Q2FY22.commune.value_counts().to_dict(),orient='index',columns=['nombre_de_beneficiaires'])\n",
    "repartition_Q3FY22 = DataFrame.from_dict(unserved_Q3FY22.commune.value_counts().to_dict(),orient='index',columns=['nombre_de_beneficiaires'])\n",
    "repartition_Q4FY22 = DataFrame.from_dict(unserved_Q4FY22.commune.value_counts().to_dict(),orient='index',columns=['nombre_de_beneficiaires'])\n",
    "repartition_FY21 = DataFrame.from_dict(unserved_FY21.commune.value_counts().to_dict(),orient='index',columns=['nombre_de_beneficiaires'])\n",
    "repartition_FY20 = DataFrame.from_dict(unserved_FY20.commune.value_counts().to_dict(),orient='index',columns=['nombre_de_beneficiaires'])\n",
    "repartition_Before_FY20 = DataFrame.from_dict(unserved_Before_FY20.commune.value_counts().to_dict(),orient='index',columns=['nombre_de_beneficiaires'])\n",
    "\n",
    "\n",
    "toBeServed = ExcelWriter('agyw_non_servis.xlsx', engine='openpyxl')\n",
    "repartition_Q1FY22.to_excel(toBeServed,sheet_name=\"res_Q1FY22\",index=True,na_rep=\"\") \n",
    "unserved_Q1FY22.to_excel(toBeServed,sheet_name=\"Q1FY22\",index=False,na_rep=\"\")\n",
    "repartition_Q2FY22.to_excel(toBeServed,sheet_name=\"res_Q2FY22\",index=True,na_rep=\"\") \n",
    "unserved_Q2FY22.to_excel(toBeServed,sheet_name=\"Q2FY22\",index=False,na_rep=\"\")\n",
    "repartition_Q3FY22.to_excel(toBeServed,sheet_name=\"res_Q3FY22\",index=True,na_rep=\"\") \n",
    "unserved_Q3FY22.to_excel(toBeServed,sheet_name=\"Q3FY22\",index=False,na_rep=\"\")\n",
    "repartition_Q4FY22.to_excel(toBeServed,sheet_name=\"res_Q4FY22\",index=True,na_rep=\"\") \n",
    "unserved_Q4FY22.to_excel(toBeServed,sheet_name=\"Q4FY22\",index=False,na_rep=\"\")\n",
    "repartition_FY21.to_excel(toBeServed,sheet_name=\"res_FY21\",index=True,na_rep=\"\") \n",
    "unserved_FY21.to_excel(toBeServed,sheet_name=\"FY21\",index=False,na_rep=\"\")\n",
    "repartition_FY20.to_excel(toBeServed,sheet_name=\"res_FY20\",index=True,na_rep=\"\") \n",
    "unserved_FY20.to_excel(toBeServed,sheet_name=\"FY20\",index=False,na_rep=\"\")\n",
    "repartition_Before_FY20.to_excel(toBeServed,sheet_name=\"res_Before_FY20\",index=True,na_rep=\"\") \n",
    "unserved_Before_FY20.to_excel(toBeServed,sheet_name=\"BeforeFY20\",index=False,na_rep=\"\")\n",
    "toBeServed.save()"
   ]
  },
  {
   "cell_type": "code",
   "execution_count": null,
   "metadata": {},
   "outputs": [],
   "source": [
    "DataFrame({\n",
    "    \"Non_servis_Q1FY22\": [unserved_Q1FY22.case_id.count()],\n",
    "    \"Non_servis_Q2FY22\": [unserved_Q2FY22.case_id.count()],\n",
    "    \"Non_servis_Q3FY22\": [unserved_Q3FY22.case_id.count()],\n",
    "    \"Non_servis_Q4FY22\": [unserved_Q4FY22.case_id.count()],\n",
    "    \"Non_servis_FY21\": [unserved_FY21.case_id.count()],\n",
    "    \"Non_servis_FY20\": [unserved_FY20.case_id.count()],\n",
    "    \"Non_servis_Before_FY20\": [unserved_Before_FY20.case_id.count()],\n",
    "}).to_excel('Tableau_des_agyw__non_servis.xlsx',index=False,na_rep=\"\")"
   ]
  },
  {
   "cell_type": "code",
   "execution_count": null,
   "metadata": {},
   "outputs": [],
   "source": []
  }
 ],
 "metadata": {
  "interpreter": {
   "hash": "b460384b52104c1e5b9cf54bee46a255d22b2bef338f75ac4ad5d48196028d3c"
  },
  "kernelspec": {
   "display_name": "Python 3.10.2 64-bit",
   "language": "python",
   "name": "python3"
  },
  "language_info": {
   "codemirror_mode": {
    "name": "ipython",
    "version": 3
   },
   "file_extension": ".py",
   "mimetype": "text/x-python",
   "name": "python",
   "nbconvert_exporter": "python",
   "pygments_lexer": "ipython3",
   "version": "3.10.4"
  },
  "orig_nbformat": 4
 },
 "nbformat": 4,
 "nbformat_minor": 2
}
