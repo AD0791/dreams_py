{
 "cells": [
  {
   "cell_type": "markdown",
   "metadata": {},
   "source": [
    "# Detect the ones who are only screened \n",
    "\n",
    "> run eligibility notebook\n",
    "\n",
    "> run survey data notebook\n",
    "\n"
   ]
  },
  {
   "cell_type": "code",
   "execution_count": 39,
   "metadata": {},
   "outputs": [],
   "source": [
    "%run \"../eligibility.ipynb\"\n",
    "%run \"../survey_data/survey_data.ipynb\""
   ]
  },
  {
   "cell_type": "code",
   "execution_count": 40,
   "metadata": {},
   "outputs": [],
   "source": [
    "from IPython.core.interactiveshell import InteractiveShell\n",
    "InteractiveShell.ast_node_interactivity = \"all\"\n"
   ]
  },
  {
   "cell_type": "code",
   "execution_count": 41,
   "metadata": {},
   "outputs": [
    {
     "data": {
      "text/plain": [
       "(55349, 19)"
      ]
     },
     "execution_count": 41,
     "metadata": {},
     "output_type": "execute_result"
    },
    {
     "data": {
      "text/plain": [
       "(42062, 31)"
      ]
     },
     "execution_count": 41,
     "metadata": {},
     "output_type": "execute_result"
    }
   ],
   "source": [
    "survey_data.shape\n",
    "eligibility.shape"
   ]
  },
  {
   "cell_type": "code",
   "execution_count": 42,
   "metadata": {},
   "outputs": [
    {
     "data": {
      "text/plain": [
       "Index(['case_id', 'organisation', 'first_name', 'last_name', 'dob',\n",
       "       'interview_date', 'adress', 'commune', 'commune_section',\n",
       "       'interviewer_firstname', 'interviewer_lastname', 'is_your_parent_alive',\n",
       "       'mothers_name', 'fathers_name', 'who_is_your_law_parent', 'total',\n",
       "       'is_eligible_for_dep_hiv', 'age', 'already_in_a_group'],\n",
       "      dtype='object')"
      ]
     },
     "execution_count": 42,
     "metadata": {},
     "output_type": "execute_result"
    },
    {
     "data": {
      "text/plain": [
       "Index(['case_id', 'dreams_code', 'organisation', 'id', 'phone',\n",
       "       'not_selectable', 'first_name', 'last_name', 'dob', 'interview_date',\n",
       "       'adress', 'commune', 'commune_section', 'interviewer_firstname',\n",
       "       'interviewer_lastname', 'is_your_parent_alive', 'mothers_name',\n",
       "       'fathers_name', 'total', 'who_is_your_law_parent', 'group_name',\n",
       "       'id_group', 'hub_name', 'id_hub', 'eske_ou_lekol_deja',\n",
       "       'depi_kile_ou_pa_al_lekol_with_label',\n",
       "       'c61_depi_ki_l_ou_pa_al_lekl_ank', 'c6_ske_ou_te_oblije_double_deja',\n",
       "       'kiyes_ki_peye_lekol_pou_ou', 'age', 'kpi_score'],\n",
       "      dtype='object')"
      ]
     },
     "execution_count": 42,
     "metadata": {},
     "output_type": "execute_result"
    }
   ],
   "source": [
    "survey_data.columns\n",
    "eligibility.columns"
   ]
  },
  {
   "cell_type": "code",
   "execution_count": 43,
   "metadata": {},
   "outputs": [],
   "source": [
    "#survey_data[survey_data.organisation==\"CARIS\"]"
   ]
  },
  {
   "cell_type": "markdown",
   "metadata": {},
   "source": [
    "## Eligibility"
   ]
  },
  {
   "cell_type": "code",
   "execution_count": 44,
   "metadata": {},
   "outputs": [],
   "source": [
    "eligibility.dreams_code.fillna(\"null\",inplace=True)"
   ]
  },
  {
   "cell_type": "code",
   "execution_count": 45,
   "metadata": {},
   "outputs": [],
   "source": [
    "def tranche_age_classique(age):\n",
    "        if age>=10 and age<=14:\n",
    "            return \"10-14\"\n",
    "        elif age>=15 and age<=19:\n",
    "            return \"15-19\"\n",
    "        elif age>=20 and age<=24:\n",
    "            return \"20-24\"\n",
    "        elif age>=25 and age<=29:\n",
    "            return \"25-29\"\n",
    "        else:\n",
    "            return \"not_valid_age\"\n",
    "        \n",
    "def tranche_age_mineur_majeur(age):\n",
    "        if age>=10 and age<=17:\n",
    "            return \"10-17\"\n",
    "        elif age>=18 and age<=19:\n",
    "            return \"18-19\"\n",
    "        elif age>=20 and age<=24:\n",
    "            return \"20-24\"\n",
    "        elif age>=25 and age<=29:\n",
    "            return \"25-29\"\n",
    "        else:\n",
    "            return \"not_valid_age\""
   ]
  },
  {
   "cell_type": "code",
   "execution_count": 46,
   "metadata": {},
   "outputs": [],
   "source": [
    "eligibility['age_range'] = eligibility.age.map(tranche_age_classique)\n",
    "eligibility['newage_range'] = eligibility.age.map(tranche_age_mineur_majeur)"
   ]
  },
  {
   "cell_type": "code",
   "execution_count": 47,
   "metadata": {},
   "outputs": [],
   "source": [
    "import pandas as pd\n",
    "from datetime import datetime"
   ]
  },
  {
   "cell_type": "code",
   "execution_count": 48,
   "metadata": {},
   "outputs": [],
   "source": [
    "eligibility[\"date_entevyou\"] = pd.to_datetime( eligibility.interview_date)"
   ]
  },
  {
   "cell_type": "code",
   "execution_count": 49,
   "metadata": {},
   "outputs": [],
   "source": [
    "def fiscalYear21(date):\n",
    "    if date.year == 2021 and date.month>=1 and date.month<=3:\n",
    "        return \"FY21Q2\"\n",
    "    elif date.year == 2020 and date.month>=10 and date.month<=12:\n",
    "        return \"FY21Q1\"\n",
    "    elif date.year == 2021 and date.month>=4 and date.month<=6:\n",
    "        return \"FY21Q3\"\n",
    "    elif date.year == 2021 and date.month>=7 and date.month<=9:\n",
    "        return \"FY21Q4\"\n",
    "    else:\n",
    "        return \"Q3fy21-Q4fy21\"\n",
    "    \n",
    "\n",
    "    \n",
    "\n",
    "def validTimeOnSystem(date):\n",
    "    if date>= datetime.strptime(\"2020-10-01\",\"%Y-%m-%d\") and date<= datetime.now():\n",
    "        return \"required_Time_on\"\n",
    "    else:\n",
    "        return \"not_valid_time_on\"\n"
   ]
  },
  {
   "cell_type": "code",
   "execution_count": 50,
   "metadata": {},
   "outputs": [],
   "source": [
    "eligibility[\"fiscal_year\"] = eligibility.date_entevyou.map(fiscalYear21)\n",
    "eligibility[\"timeOn_system\"] = eligibility.date_entevyou.map(validTimeOnSystem)"
   ]
  },
  {
   "cell_type": "code",
   "execution_count": 51,
   "metadata": {},
   "outputs": [],
   "source": [
    "almost_eligibility = eligibility[(eligibility.dreams_code == \"null\")&\n",
    "                                 (eligibility.timeOn_system==\"required_Time_on\")&\n",
    "                                 (eligibility.age_range!=\"25-29\")&\n",
    "                                 (eligibility.age_range!=\"not_valid_age\")]"
   ]
  },
  {
   "cell_type": "code",
   "execution_count": 52,
   "metadata": {},
   "outputs": [
    {
     "data": {
      "text/plain": [
       "3080"
      ]
     },
     "execution_count": 52,
     "metadata": {},
     "output_type": "execute_result"
    }
   ],
   "source": [
    "almost_eligibility.dreams_code.count()"
   ]
  },
  {
   "cell_type": "code",
   "execution_count": 53,
   "metadata": {},
   "outputs": [],
   "source": [
    "def firstlastdob(df):\n",
    "    return f\"{df.first_name} {df.last_name} {df.dob}\""
   ]
  },
  {
   "cell_type": "code",
   "execution_count": 54,
   "metadata": {},
   "outputs": [],
   "source": [
    "%%capture\n",
    "almost_eligibility[\"unduplicate_me\"] = almost_eligibility.apply(lambda df: firstlastdob(df),axis=1)\n",
    "clean_eligibility =  almost_eligibility.drop_duplicates(subset=[\"unduplicate_me\"])\n"
   ]
  },
  {
   "cell_type": "code",
   "execution_count": 55,
   "metadata": {},
   "outputs": [
    {
     "data": {
      "text/plain": [
       "3040"
      ]
     },
     "execution_count": 55,
     "metadata": {},
     "output_type": "execute_result"
    }
   ],
   "source": [
    "clean_eligibility.dreams_code.count()"
   ]
  },
  {
   "cell_type": "markdown",
   "metadata": {},
   "source": [
    "## Survey data"
   ]
  },
  {
   "cell_type": "code",
   "execution_count": 56,
   "metadata": {},
   "outputs": [],
   "source": [
    "survey_data[\"remove_duplicate\"] = survey_data.apply(lambda df: firstlastdob(df),axis=1)"
   ]
  },
  {
   "cell_type": "code",
   "execution_count": 57,
   "metadata": {},
   "outputs": [],
   "source": [
    "survey_data[\"date_entevyou\"] = pd.to_datetime( survey_data.interview_date)\n",
    "survey_data[\"fiscal_year\"] = survey_data.date_entevyou.map(fiscalYear21)\n",
    "survey_data[\"timeOn_system\"] = survey_data.date_entevyou.map(validTimeOnSystem)\n",
    "survey_data['age_range'] = survey_data.age.map(tranche_age_classique)\n",
    "survey_data['newage_range'] = survey_data.age.map(tranche_age_mineur_majeur)"
   ]
  },
  {
   "cell_type": "code",
   "execution_count": 58,
   "metadata": {},
   "outputs": [],
   "source": [
    "almost_survey_data = survey_data[(survey_data.already_in_a_group == \"no\")&\n",
    "                                 (survey_data.timeOn_system==\"required_Time_on\")&\n",
    "                                 (survey_data.age_range!=\"25-29\")&\n",
    "                                 (survey_data.age_range!=\"not_valid_age\")&\n",
    "                                 (survey_data.total>=14)]"
   ]
  },
  {
   "cell_type": "code",
   "execution_count": 59,
   "metadata": {},
   "outputs": [
    {
     "data": {
      "text/plain": [
       "3080"
      ]
     },
     "execution_count": 59,
     "metadata": {},
     "output_type": "execute_result"
    }
   ],
   "source": [
    "almost_survey_data.case_id.count()"
   ]
  },
  {
   "cell_type": "code",
   "execution_count": 60,
   "metadata": {},
   "outputs": [],
   "source": [
    "clean_survey_data =  almost_survey_data.drop_duplicates(subset=[\"remove_duplicate\"])"
   ]
  },
  {
   "cell_type": "code",
   "execution_count": 61,
   "metadata": {},
   "outputs": [
    {
     "data": {
      "text/plain": [
       "3040"
      ]
     },
     "execution_count": 61,
     "metadata": {},
     "output_type": "execute_result"
    }
   ],
   "source": [
    "clean_survey_data.case_id.count()"
   ]
  },
  {
   "cell_type": "markdown",
   "metadata": {},
   "source": [
    "## what we want"
   ]
  },
  {
   "cell_type": "code",
   "execution_count": 62,
   "metadata": {},
   "outputs": [],
   "source": [
    "id_form_survey_data = clean_survey_data[[\"case_id\",\"already_in_a_group\"]]"
   ]
  },
  {
   "cell_type": "code",
   "execution_count": 63,
   "metadata": {},
   "outputs": [],
   "source": [
    "update_screening_data = id_form_survey_data.merge(clean_eligibility, on=\"case_id\",how='right')"
   ]
  },
  {
   "cell_type": "code",
   "execution_count": 64,
   "metadata": {},
   "outputs": [
    {
     "data": {
      "text/plain": [
       "3040"
      ]
     },
     "execution_count": 64,
     "metadata": {},
     "output_type": "execute_result"
    }
   ],
   "source": [
    "update_screening_data.case_id.count()"
   ]
  },
  {
   "cell_type": "code",
   "execution_count": 65,
   "metadata": {},
   "outputs": [],
   "source": [
    "update_screening_data.to_excel(\"update_screened.xlsx\",index=False,na_rep=\"NULL\")"
   ]
  },
  {
   "cell_type": "code",
   "execution_count": 66,
   "metadata": {},
   "outputs": [
    {
     "data": {
      "text/plain": [
       "'2020-10-03'"
      ]
     },
     "execution_count": 66,
     "metadata": {},
     "output_type": "execute_result"
    },
    {
     "data": {
      "text/plain": [
       "'2021-09-14'"
      ]
     },
     "execution_count": 66,
     "metadata": {},
     "output_type": "execute_result"
    }
   ],
   "source": [
    "update_screening_data.date_entevyou.min().strftime(\"%Y-%m-%d\")\n",
    "update_screening_data.date_entevyou.max().strftime(\"%Y-%m-%d\")"
   ]
  },
  {
   "cell_type": "markdown",
   "metadata": {},
   "source": [
    "## verification des 4360 Mastersheets"
   ]
  },
  {
   "cell_type": "code",
   "execution_count": 67,
   "metadata": {},
   "outputs": [],
   "source": [
    "old_data = pd.read_excel(\"old_screened_4360.xlsx\")"
   ]
  },
  {
   "cell_type": "code",
   "execution_count": 68,
   "metadata": {},
   "outputs": [],
   "source": [
    "how_much_isin_old_data = update_screening_data[update_screening_data.case_id.isin(old_data.case_id)]"
   ]
  },
  {
   "cell_type": "code",
   "execution_count": 69,
   "metadata": {},
   "outputs": [],
   "source": [
    "how_much_isnotin_old_data  = update_screening_data[~update_screening_data.case_id.isin(old_data.case_id)]"
   ]
  },
  {
   "cell_type": "markdown",
   "metadata": {},
   "source": [
    "## count and date"
   ]
  },
  {
   "cell_type": "code",
   "execution_count": 70,
   "metadata": {},
   "outputs": [
    {
     "data": {
      "text/plain": [
       "4360"
      ]
     },
     "execution_count": 70,
     "metadata": {},
     "output_type": "execute_result"
    },
    {
     "data": {
      "text/plain": [
       "'2020-04-18'"
      ]
     },
     "execution_count": 70,
     "metadata": {},
     "output_type": "execute_result"
    },
    {
     "data": {
      "text/plain": [
       "'2021-06-13'"
      ]
     },
     "execution_count": 70,
     "metadata": {},
     "output_type": "execute_result"
    }
   ],
   "source": [
    "old_data.case_id.count()\n",
    "old_data.date_entevyou.min().strftime(\"%Y-%m-%d\")\n",
    "old_data.date_entevyou.max().strftime(\"%Y-%m-%d\")"
   ]
  },
  {
   "cell_type": "code",
   "execution_count": 71,
   "metadata": {},
   "outputs": [
    {
     "data": {
      "text/plain": [
       "689"
      ]
     },
     "execution_count": 71,
     "metadata": {},
     "output_type": "execute_result"
    },
    {
     "data": {
      "text/plain": [
       "'2020-10-03'"
      ]
     },
     "execution_count": 71,
     "metadata": {},
     "output_type": "execute_result"
    },
    {
     "data": {
      "text/plain": [
       "'2021-06-12'"
      ]
     },
     "execution_count": 71,
     "metadata": {},
     "output_type": "execute_result"
    }
   ],
   "source": [
    "how_much_isin_old_data.case_id.count()\n",
    "how_much_isin_old_data.date_entevyou.min().strftime(\"%Y-%m-%d\")\n",
    "how_much_isin_old_data.date_entevyou.max().strftime(\"%Y-%m-%d\")"
   ]
  },
  {
   "cell_type": "code",
   "execution_count": 72,
   "metadata": {},
   "outputs": [
    {
     "data": {
      "text/plain": [
       "2351"
      ]
     },
     "execution_count": 72,
     "metadata": {},
     "output_type": "execute_result"
    },
    {
     "data": {
      "text/plain": [
       "'2020-11-14'"
      ]
     },
     "execution_count": 72,
     "metadata": {},
     "output_type": "execute_result"
    },
    {
     "data": {
      "text/plain": [
       "'2021-09-14'"
      ]
     },
     "execution_count": 72,
     "metadata": {},
     "output_type": "execute_result"
    }
   ],
   "source": [
    "how_much_isnotin_old_data.case_id.count()\n",
    "how_much_isnotin_old_data.date_entevyou.min().strftime(\"%Y-%m-%d\")\n",
    "how_much_isnotin_old_data.date_entevyou.max().strftime(\"%Y-%m-%d\")"
   ]
  },
  {
   "cell_type": "markdown",
   "metadata": {},
   "source": [
    "## Verification with the newest from the list of JULY"
   ]
  },
  {
   "cell_type": "code",
   "execution_count": 73,
   "metadata": {},
   "outputs": [
    {
     "data": {
      "text/plain": [
       "1328"
      ]
     },
     "execution_count": 73,
     "metadata": {},
     "output_type": "execute_result"
    },
    {
     "data": {
      "text/plain": [
       "'2020-06-14'"
      ]
     },
     "execution_count": 73,
     "metadata": {},
     "output_type": "execute_result"
    },
    {
     "data": {
      "text/plain": [
       "'2021-07-09'"
      ]
     },
     "execution_count": 73,
     "metadata": {},
     "output_type": "execute_result"
    }
   ],
   "source": [
    "onejuly = pd.read_excel(\"old_new_enroled_July.xlsx\")\n",
    "onejuly.case_id.count()\n",
    "onejuly.date_entevyou.min().strftime(\"%Y-%m-%d\")\n",
    "onejuly.date_entevyou.max().strftime(\"%Y-%m-%d\")"
   ]
  },
  {
   "cell_type": "code",
   "execution_count": 74,
   "metadata": {},
   "outputs": [
    {
     "data": {
      "text/plain": [
       "499"
      ]
     },
     "execution_count": 74,
     "metadata": {},
     "output_type": "execute_result"
    },
    {
     "data": {
      "text/plain": [
       "'2020-11-14'"
      ]
     },
     "execution_count": 74,
     "metadata": {},
     "output_type": "execute_result"
    },
    {
     "data": {
      "text/plain": [
       "'2021-07-03'"
      ]
     },
     "execution_count": 74,
     "metadata": {},
     "output_type": "execute_result"
    }
   ],
   "source": [
    "how_much_isin_onejuly = how_much_isnotin_old_data[how_much_isnotin_old_data.case_id.isin(onejuly.case_id)]\n",
    "how_much_isin_onejuly.case_id.count()\n",
    "how_much_isin_onejuly.date_entevyou.min().strftime(\"%Y-%m-%d\")\n",
    "how_much_isin_onejuly.date_entevyou.max().strftime(\"%Y-%m-%d\")"
   ]
  },
  {
   "cell_type": "code",
   "execution_count": 75,
   "metadata": {},
   "outputs": [
    {
     "data": {
      "text/plain": [
       "1852"
      ]
     },
     "execution_count": 75,
     "metadata": {},
     "output_type": "execute_result"
    },
    {
     "data": {
      "text/plain": [
       "'2020-11-14'"
      ]
     },
     "execution_count": 75,
     "metadata": {},
     "output_type": "execute_result"
    },
    {
     "data": {
      "text/plain": [
       "'2021-09-14'"
      ]
     },
     "execution_count": 75,
     "metadata": {},
     "output_type": "execute_result"
    }
   ],
   "source": [
    "how_much_isnotin_onejuly = how_much_isnotin_old_data[~how_much_isnotin_old_data.case_id.isin(onejuly.case_id)]\n",
    "how_much_isnotin_onejuly.case_id.count()\n",
    "how_much_isnotin_onejuly.date_entevyou.min().strftime(\"%Y-%m-%d\")\n",
    "how_much_isnotin_onejuly.date_entevyou.max().strftime(\"%Y-%m-%d\")"
   ]
  },
  {
   "cell_type": "markdown",
   "metadata": {},
   "source": [
    "## SAVE and PICTURE"
   ]
  },
  {
   "cell_type": "code",
   "execution_count": 76,
   "metadata": {},
   "outputs": [],
   "source": [
    "#how_much_isin_old_data.to_excel(\"evolution_des_4360.xlsx\",na_rep=\"NULL\", index=False)\n",
    "#how_much_isin_onejuly.to_excel(\"evolution_des_1328.xlsx\",na_rep=\"NULL\",index=False)\n",
    "#how_much_isnotin_onejuly.to_excel(\"new_screened_after_1328.xlsx\",na_rep=\"NULL\",index=False)\n",
    "#how_much_isnotin_old_data.to_excel(\"new_screened_after_4360.xlsx\",na_rep=\"NULL\",index=False)\n",
    "how_much_isnotin_old_data.to_excel(\"LesfillesScreeners.xlsx\",na_rep=\"NULL\",index=False)\n",
    "\n",
    "\n"
   ]
  },
  {
   "cell_type": "markdown",
   "metadata": {},
   "source": [
    "df = pd.DataFrame({\"stage\":[\"Liste_des_4360\",\"Evolution_liste_4360\",\"new_enroles_4360\",\"Liste_des_1328\",\"Evolution_liste_1328\",\"new_enroles_1328\"],\n",
    "                   \"data\":[\n",
    "                        old_data.case_id.count(),\n",
    "                        how_much_isin_old_data.case_id.count(),\n",
    "                        how_much_isnotin_old_data.case_id.count(),\n",
    "                        onejuly.case_id.count(),\n",
    "                        how_much_isin_onejuly.case_id.count(),\n",
    "                        how_much_isnotin_onejuly.case_id.count()\n",
    "                    ]}\n",
    ")\n",
    "\n",
    "df"
   ]
  },
  {
   "cell_type": "markdown",
   "metadata": {},
   "source": [
    "import matplotlib.pyplot as plt\n",
    "%matplotlib inline\n",
    "import seaborn as sns"
   ]
  },
  {
   "cell_type": "markdown",
   "metadata": {},
   "source": [
    "plt.subplots(figsize=(16,8))\n",
    "sns.set_style(\"darkgrid\")\n",
    "splot = sns.barplot(x=\"stage\",y=\"data\",data=df)\n",
    "splot.set_xlabel(\"\")\n",
    "splot.set_ylabel(\"\")\n",
    "plt.suptitle(\"La situation des formulaires d'enrolement sur le systeme\")\n",
    "for p in splot.patches:\n",
    "    height = p.get_height()\n",
    "    plt.text(\n",
    "                    p.get_x() + p.get_width()/2, \n",
    "                    0.5*p.get_height() + p.get_y(),\n",
    "                    '{:1.0f}'.format(height), \n",
    "                    ha='center', va='center',\n",
    "                    size=15,\n",
    "                    fontdict=dict(color=\"white\",fontsize=15)\n",
    "                )\n",
    "    \n",
    "plt.annotate(\n",
    "    \"source: HIVHaiti\",(0,0), (-80,-20), fontsize=10, \n",
    "             xycoords='axes fraction', textcoords='offset points', va='top'\n",
    ")\n",
    "plt.savefig(\"Evolution_screening\",dpi=400)"
   ]
  },
  {
   "cell_type": "code",
   "execution_count": null,
   "metadata": {},
   "outputs": [],
   "source": []
  }
 ],
 "metadata": {
  "interpreter": {
   "hash": "4534460e0bdca1b390927d45471088fb3501d39abc4e3f2cee293892e17d7fc6"
  },
  "kernelspec": {
   "display_name": "Python 3.9.7 64-bit",
   "name": "python3"
  },
  "language_info": {
   "codemirror_mode": {
    "name": "ipython",
    "version": 3
   },
   "file_extension": ".py",
   "mimetype": "text/x-python",
   "name": "python",
   "nbconvert_exporter": "python",
   "pygments_lexer": "ipython3",
   "version": "3.9.7"
  },
  "orig_nbformat": 2
 },
 "nbformat": 4,
 "nbformat_minor": 2
}
