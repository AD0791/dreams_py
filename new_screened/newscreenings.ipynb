{
 "cells": [
  {
   "cell_type": "markdown",
   "source": [
    "# Detect the ones who are only screened \r\n",
    "\r\n",
    "> run eligibility notebook\r\n",
    "\r\n",
    "> run survey data notebook\r\n",
    "\r\n"
   ],
   "metadata": {}
  },
  {
   "cell_type": "code",
   "execution_count": 1,
   "source": [
    "%run \"../eligibility.ipynb\"\r\n",
    "%run \"../survey_data/survey_data.ipynb\""
   ],
   "outputs": [],
   "metadata": {}
  },
  {
   "cell_type": "code",
   "execution_count": 2,
   "source": [
    "from IPython.core.interactiveshell import InteractiveShell\r\n",
    "InteractiveShell.ast_node_interactivity = \"all\"\r\n"
   ],
   "outputs": [],
   "metadata": {}
  },
  {
   "cell_type": "code",
   "execution_count": 3,
   "source": [
    "survey_data.shape\r\n",
    "eligibility.shape"
   ],
   "outputs": [
    {
     "output_type": "execute_result",
     "data": {
      "text/plain": [
       "(52677, 19)"
      ]
     },
     "metadata": {},
     "execution_count": 3
    },
    {
     "output_type": "execute_result",
     "data": {
      "text/plain": [
       "(39818, 31)"
      ]
     },
     "metadata": {},
     "execution_count": 3
    }
   ],
   "metadata": {}
  },
  {
   "cell_type": "code",
   "execution_count": 4,
   "source": [
    "survey_data.columns\r\n",
    "eligibility.columns"
   ],
   "outputs": [
    {
     "output_type": "execute_result",
     "data": {
      "text/plain": [
       "Index(['case_id', 'organisation', 'first_name', 'last_name', 'dob',\n",
       "       'interview_date', 'adress', 'commune', 'commune_section',\n",
       "       'interviewer_firstname', 'interviewer_lastname', 'is_your_parent_alive',\n",
       "       'mothers_name', 'fathers_name', 'who_is_your_law_parent', 'total',\n",
       "       'is_eligible_for_dep_hiv', 'age', 'already_in_a_group'],\n",
       "      dtype='object')"
      ]
     },
     "metadata": {},
     "execution_count": 4
    },
    {
     "output_type": "execute_result",
     "data": {
      "text/plain": [
       "Index(['case_id', 'dreams_code', 'organisation', 'id', 'phone',\n",
       "       'not_selectable', 'first_name', 'last_name', 'dob', 'interview_date',\n",
       "       'adress', 'commune', 'commune_section', 'interviewer_firstname',\n",
       "       'interviewer_lastname', 'is_your_parent_alive', 'mothers_name',\n",
       "       'fathers_name', 'total', 'who_is_your_law_parent', 'group_name',\n",
       "       'id_group', 'hub_name', 'id_hub', 'eske_ou_lekol_deja',\n",
       "       'depi_kile_ou_pa_al_lekol_with_label',\n",
       "       'c61_depi_ki_l_ou_pa_al_lekl_ank', 'c6_ske_ou_te_oblije_double_deja',\n",
       "       'kiyes_ki_peye_lekol_pou_ou', 'age', 'kpi_score'],\n",
       "      dtype='object')"
      ]
     },
     "metadata": {},
     "execution_count": 4
    }
   ],
   "metadata": {}
  },
  {
   "cell_type": "code",
   "execution_count": 5,
   "source": [
    "#survey_data[survey_data.organisation==\"CARIS\"]"
   ],
   "outputs": [],
   "metadata": {}
  },
  {
   "cell_type": "markdown",
   "source": [
    "## Eligibility"
   ],
   "metadata": {}
  },
  {
   "cell_type": "code",
   "execution_count": 6,
   "source": [
    "eligibility.dreams_code.fillna(\"null\",inplace=True)"
   ],
   "outputs": [],
   "metadata": {}
  },
  {
   "cell_type": "code",
   "execution_count": 7,
   "source": [
    "def tranche_age_classique(age):\r\n",
    "        if age>=10 and age<=14:\r\n",
    "            return \"10-14\"\r\n",
    "        elif age>=15 and age<=19:\r\n",
    "            return \"15-19\"\r\n",
    "        elif age>=20 and age<=24:\r\n",
    "            return \"20-24\"\r\n",
    "        elif age>=25 and age<=29:\r\n",
    "            return \"25-29\"\r\n",
    "        else:\r\n",
    "            return \"not_valid_age\"\r\n",
    "        \r\n",
    "def tranche_age_mineur_majeur(age):\r\n",
    "        if age>=10 and age<=17:\r\n",
    "            return \"10-17\"\r\n",
    "        elif age>=18 and age<=19:\r\n",
    "            return \"18-19\"\r\n",
    "        elif age>=20 and age<=24:\r\n",
    "            return \"20-24\"\r\n",
    "        elif age>=25 and age<=29:\r\n",
    "            return \"25-29\"\r\n",
    "        else:\r\n",
    "            return \"not_valid_age\""
   ],
   "outputs": [],
   "metadata": {}
  },
  {
   "cell_type": "code",
   "execution_count": 8,
   "source": [
    "eligibility['age_range'] = eligibility.age.map(tranche_age_classique)\r\n",
    "eligibility['newage_range'] = eligibility.age.map(tranche_age_mineur_majeur)"
   ],
   "outputs": [],
   "metadata": {}
  },
  {
   "cell_type": "code",
   "execution_count": 9,
   "source": [
    "import pandas as pd\r\n",
    "from datetime import datetime"
   ],
   "outputs": [],
   "metadata": {}
  },
  {
   "cell_type": "code",
   "execution_count": 10,
   "source": [
    "eligibility[\"date_entevyou\"] = pd.to_datetime( eligibility.interview_date)"
   ],
   "outputs": [],
   "metadata": {}
  },
  {
   "cell_type": "code",
   "execution_count": 11,
   "source": [
    "def fiscalYear21(date):\r\n",
    "    if date.year == 2021 and date.month>=1 and date.month<=3:\r\n",
    "        return \"FY21Q2\"\r\n",
    "    elif date.year == 2020 and date.month>=10 and date.month<=12:\r\n",
    "        return \"FY21Q1\"\r\n",
    "    elif date.year == 2021 and date.month>=4 and date.month<=6:\r\n",
    "        return \"FY21Q3\"\r\n",
    "    elif date.year == 2021 and date.month>=7 and date.month<=9:\r\n",
    "        return \"FY21Q4\"\r\n",
    "    else:\r\n",
    "        return \"Q3fy21-Q4fy21\"\r\n",
    "    \r\n",
    "\r\n",
    "    \r\n",
    "\r\n",
    "def validTimeOnSystem(date):\r\n",
    "    if date>= datetime.strptime(\"2020-04-01\",\"%Y-%m-%d\") and date<= datetime.now():\r\n",
    "        return \"required_Time_on\"\r\n",
    "    else:\r\n",
    "        return \"not_valid_time_on\"\r\n"
   ],
   "outputs": [],
   "metadata": {}
  },
  {
   "cell_type": "code",
   "execution_count": 12,
   "source": [
    "eligibility[\"fiscal_year\"] = eligibility.date_entevyou.map(fiscalYear21)\r\n",
    "eligibility[\"timeOn_system\"] = eligibility.date_entevyou.map(validTimeOnSystem)"
   ],
   "outputs": [],
   "metadata": {}
  },
  {
   "cell_type": "code",
   "execution_count": 13,
   "source": [
    "almost_eligibility = eligibility[(eligibility.dreams_code == \"null\")&\r\n",
    "                                 (eligibility.timeOn_system==\"required_Time_on\")&\r\n",
    "                                 (eligibility.age_range!=\"25-29\")&\r\n",
    "                                 (eligibility.age_range!=\"not_valid_age\")]"
   ],
   "outputs": [],
   "metadata": {}
  },
  {
   "cell_type": "code",
   "execution_count": 14,
   "source": [
    "almost_eligibility.dreams_code.count()"
   ],
   "outputs": [
    {
     "output_type": "execute_result",
     "data": {
      "text/plain": [
       "4725"
      ]
     },
     "metadata": {},
     "execution_count": 14
    }
   ],
   "metadata": {}
  },
  {
   "cell_type": "code",
   "execution_count": 15,
   "source": [
    "def firstlastdob(df):\r\n",
    "    return f\"{df.first_name} {df.last_name} {df.dob}\""
   ],
   "outputs": [],
   "metadata": {}
  },
  {
   "cell_type": "code",
   "execution_count": 16,
   "source": [
    "%%capture\r\n",
    "almost_eligibility[\"unduplicate_me\"] = almost_eligibility.apply(lambda df: firstlastdob(df),axis=1)\r\n",
    "clean_eligibility =  almost_eligibility.drop_duplicates(subset=[\"unduplicate_me\"])\r\n"
   ],
   "outputs": [],
   "metadata": {}
  },
  {
   "cell_type": "code",
   "execution_count": 17,
   "source": [
    "clean_eligibility.dreams_code.count()"
   ],
   "outputs": [
    {
     "output_type": "execute_result",
     "data": {
      "text/plain": [
       "4692"
      ]
     },
     "metadata": {},
     "execution_count": 17
    }
   ],
   "metadata": {}
  },
  {
   "cell_type": "markdown",
   "source": [
    "## Survey data"
   ],
   "metadata": {}
  },
  {
   "cell_type": "code",
   "execution_count": 18,
   "source": [
    "survey_data[\"remove_duplicate\"] = survey_data.apply(lambda df: firstlastdob(df),axis=1)"
   ],
   "outputs": [],
   "metadata": {}
  },
  {
   "cell_type": "code",
   "execution_count": 19,
   "source": [
    "survey_data[\"date_entevyou\"] = pd.to_datetime( survey_data.interview_date)\r\n",
    "survey_data[\"fiscal_year\"] = survey_data.date_entevyou.map(fiscalYear21)\r\n",
    "survey_data[\"timeOn_system\"] = survey_data.date_entevyou.map(validTimeOnSystem)\r\n",
    "survey_data['age_range'] = survey_data.age.map(tranche_age_classique)\r\n",
    "survey_data['newage_range'] = survey_data.age.map(tranche_age_mineur_majeur)"
   ],
   "outputs": [],
   "metadata": {}
  },
  {
   "cell_type": "code",
   "execution_count": 20,
   "source": [
    "almost_survey_data = survey_data[(survey_data.already_in_a_group == \"no\")&\r\n",
    "                                 (survey_data.timeOn_system==\"required_Time_on\")&\r\n",
    "                                 (survey_data.age_range!=\"25-29\")&\r\n",
    "                                 (survey_data.age_range!=\"not_valid_age\")&\r\n",
    "                                 (survey_data.total>=14)]"
   ],
   "outputs": [],
   "metadata": {}
  },
  {
   "cell_type": "code",
   "execution_count": 21,
   "source": [
    "almost_survey_data.case_id.count()"
   ],
   "outputs": [
    {
     "output_type": "execute_result",
     "data": {
      "text/plain": [
       "4724"
      ]
     },
     "metadata": {},
     "execution_count": 21
    }
   ],
   "metadata": {}
  },
  {
   "cell_type": "code",
   "execution_count": 22,
   "source": [
    "clean_survey_data =  almost_survey_data.drop_duplicates(subset=[\"remove_duplicate\"])"
   ],
   "outputs": [],
   "metadata": {}
  },
  {
   "cell_type": "code",
   "execution_count": 23,
   "source": [
    "clean_survey_data.case_id.count()"
   ],
   "outputs": [
    {
     "output_type": "execute_result",
     "data": {
      "text/plain": [
       "4691"
      ]
     },
     "metadata": {},
     "execution_count": 23
    }
   ],
   "metadata": {}
  },
  {
   "cell_type": "markdown",
   "source": [
    "## what we want"
   ],
   "metadata": {}
  },
  {
   "cell_type": "code",
   "execution_count": 24,
   "source": [
    "id_form_survey_data = clean_survey_data[[\"case_id\",\"already_in_a_group\"]]"
   ],
   "outputs": [],
   "metadata": {}
  },
  {
   "cell_type": "code",
   "execution_count": 25,
   "source": [
    "update_screening_data = id_form_survey_data.merge(clean_eligibility, on=\"case_id\",how='right')"
   ],
   "outputs": [],
   "metadata": {}
  },
  {
   "cell_type": "code",
   "execution_count": 26,
   "source": [
    "update_screening_data.case_id.count()"
   ],
   "outputs": [
    {
     "output_type": "execute_result",
     "data": {
      "text/plain": [
       "4692"
      ]
     },
     "metadata": {},
     "execution_count": 26
    }
   ],
   "metadata": {}
  },
  {
   "cell_type": "code",
   "execution_count": 27,
   "source": [
    "update_screening_data.to_excel(\"update_screened.xlsx\",index=False,na_rep=\"NULL\")"
   ],
   "outputs": [],
   "metadata": {}
  },
  {
   "cell_type": "code",
   "execution_count": 28,
   "source": [
    "update_screening_data.date_entevyou.min().strftime(\"%Y-%m-%d\")\r\n",
    "update_screening_data.date_entevyou.max().strftime(\"%Y-%m-%d\")"
   ],
   "outputs": [
    {
     "output_type": "execute_result",
     "data": {
      "text/plain": [
       "'2020-05-25'"
      ]
     },
     "metadata": {},
     "execution_count": 28
    },
    {
     "output_type": "execute_result",
     "data": {
      "text/plain": [
       "'2021-08-02'"
      ]
     },
     "metadata": {},
     "execution_count": 28
    }
   ],
   "metadata": {}
  },
  {
   "cell_type": "markdown",
   "source": [
    "## verification des 4360 Mastersheets"
   ],
   "metadata": {}
  },
  {
   "cell_type": "code",
   "execution_count": 29,
   "source": [
    "old_data = pd.read_excel(\"old_screened_4360.xlsx\")"
   ],
   "outputs": [],
   "metadata": {}
  },
  {
   "cell_type": "code",
   "execution_count": 30,
   "source": [
    "how_much_isin_old_data = update_screening_data[update_screening_data.case_id.isin(old_data.case_id)]"
   ],
   "outputs": [],
   "metadata": {}
  },
  {
   "cell_type": "code",
   "execution_count": 31,
   "source": [
    "how_much_isnotin_old_data  = update_screening_data[~update_screening_data.case_id.isin(old_data.case_id)]"
   ],
   "outputs": [],
   "metadata": {}
  },
  {
   "cell_type": "markdown",
   "source": [
    "## count and date"
   ],
   "metadata": {}
  },
  {
   "cell_type": "code",
   "execution_count": 32,
   "source": [
    "old_data.case_id.count()\r\n",
    "old_data.date_entevyou.min().strftime(\"%Y-%m-%d\")\r\n",
    "old_data.date_entevyou.max().strftime(\"%Y-%m-%d\")"
   ],
   "outputs": [
    {
     "output_type": "execute_result",
     "data": {
      "text/plain": [
       "4360"
      ]
     },
     "metadata": {},
     "execution_count": 32
    },
    {
     "output_type": "execute_result",
     "data": {
      "text/plain": [
       "'2020-04-18'"
      ]
     },
     "metadata": {},
     "execution_count": 32
    },
    {
     "output_type": "execute_result",
     "data": {
      "text/plain": [
       "'2021-06-13'"
      ]
     },
     "metadata": {},
     "execution_count": 32
    }
   ],
   "metadata": {}
  },
  {
   "cell_type": "code",
   "execution_count": 33,
   "source": [
    "how_much_isin_old_data.case_id.count()\r\n",
    "how_much_isin_old_data.date_entevyou.min().strftime(\"%Y-%m-%d\")\r\n",
    "how_much_isin_old_data.date_entevyou.max().strftime(\"%Y-%m-%d\")"
   ],
   "outputs": [
    {
     "output_type": "execute_result",
     "data": {
      "text/plain": [
       "2838"
      ]
     },
     "metadata": {},
     "execution_count": 33
    },
    {
     "output_type": "execute_result",
     "data": {
      "text/plain": [
       "'2020-05-25'"
      ]
     },
     "metadata": {},
     "execution_count": 33
    },
    {
     "output_type": "execute_result",
     "data": {
      "text/plain": [
       "'2021-06-13'"
      ]
     },
     "metadata": {},
     "execution_count": 33
    }
   ],
   "metadata": {}
  },
  {
   "cell_type": "code",
   "execution_count": 34,
   "source": [
    "how_much_isnotin_old_data.case_id.count()\r\n",
    "how_much_isnotin_old_data.date_entevyou.min().strftime(\"%Y-%m-%d\")\r\n",
    "how_much_isnotin_old_data.date_entevyou.max().strftime(\"%Y-%m-%d\")"
   ],
   "outputs": [
    {
     "output_type": "execute_result",
     "data": {
      "text/plain": [
       "1854"
      ]
     },
     "metadata": {},
     "execution_count": 34
    },
    {
     "output_type": "execute_result",
     "data": {
      "text/plain": [
       "'2020-06-14'"
      ]
     },
     "metadata": {},
     "execution_count": 34
    },
    {
     "output_type": "execute_result",
     "data": {
      "text/plain": [
       "'2021-08-02'"
      ]
     },
     "metadata": {},
     "execution_count": 34
    }
   ],
   "metadata": {}
  },
  {
   "cell_type": "markdown",
   "source": [
    "## Verification with the newest from the list of JULY"
   ],
   "metadata": {}
  },
  {
   "cell_type": "code",
   "execution_count": 35,
   "source": [
    "onejuly = pd.read_excel(\"old_new_enroled_July.xlsx\")\r\n",
    "onejuly.case_id.count()\r\n",
    "onejuly.date_entevyou.min().strftime(\"%Y-%m-%d\")\r\n",
    "onejuly.date_entevyou.max().strftime(\"%Y-%m-%d\")"
   ],
   "outputs": [
    {
     "output_type": "execute_result",
     "data": {
      "text/plain": [
       "1328"
      ]
     },
     "metadata": {},
     "execution_count": 35
    },
    {
     "output_type": "execute_result",
     "data": {
      "text/plain": [
       "'2020-06-14'"
      ]
     },
     "metadata": {},
     "execution_count": 35
    },
    {
     "output_type": "execute_result",
     "data": {
      "text/plain": [
       "'2021-07-09'"
      ]
     },
     "metadata": {},
     "execution_count": 35
    }
   ],
   "metadata": {}
  },
  {
   "cell_type": "code",
   "execution_count": 36,
   "source": [
    "how_much_isin_onejuly = how_much_isnotin_old_data[how_much_isnotin_old_data.case_id.isin(onejuly.case_id)]\r\n",
    "how_much_isin_onejuly.case_id.count()\r\n",
    "how_much_isin_onejuly.date_entevyou.min().strftime(\"%Y-%m-%d\")\r\n",
    "how_much_isin_onejuly.date_entevyou.max().strftime(\"%Y-%m-%d\")"
   ],
   "outputs": [
    {
     "output_type": "execute_result",
     "data": {
      "text/plain": [
       "1112"
      ]
     },
     "metadata": {},
     "execution_count": 36
    },
    {
     "output_type": "execute_result",
     "data": {
      "text/plain": [
       "'2020-06-14'"
      ]
     },
     "metadata": {},
     "execution_count": 36
    },
    {
     "output_type": "execute_result",
     "data": {
      "text/plain": [
       "'2021-07-09'"
      ]
     },
     "metadata": {},
     "execution_count": 36
    }
   ],
   "metadata": {}
  },
  {
   "cell_type": "code",
   "execution_count": 37,
   "source": [
    "how_much_isnotin_onejuly = how_much_isnotin_old_data[~how_much_isnotin_old_data.case_id.isin(onejuly.case_id)]\r\n",
    "how_much_isnotin_onejuly.case_id.count()\r\n",
    "how_much_isnotin_onejuly.date_entevyou.min().strftime(\"%Y-%m-%d\")\r\n",
    "how_much_isnotin_onejuly.date_entevyou.max().strftime(\"%Y-%m-%d\")"
   ],
   "outputs": [
    {
     "output_type": "execute_result",
     "data": {
      "text/plain": [
       "742"
      ]
     },
     "metadata": {},
     "execution_count": 37
    },
    {
     "output_type": "execute_result",
     "data": {
      "text/plain": [
       "'2020-08-26'"
      ]
     },
     "metadata": {},
     "execution_count": 37
    },
    {
     "output_type": "execute_result",
     "data": {
      "text/plain": [
       "'2021-08-02'"
      ]
     },
     "metadata": {},
     "execution_count": 37
    }
   ],
   "metadata": {}
  },
  {
   "cell_type": "markdown",
   "source": [
    "## SAVE and PICTURE"
   ],
   "metadata": {}
  },
  {
   "cell_type": "code",
   "execution_count": 38,
   "source": [
    "how_much_isin_old_data.to_excel(\"Evolution_de_la_liste_restant_aServir.xlsx\",na_rep=\"NULL\", index=False)"
   ],
   "outputs": [],
   "metadata": {}
  },
  {
   "cell_type": "code",
   "execution_count": 39,
   "source": [
    "how_much_isnotin_old_data.to_excel(\"Les_nouvelles_enroles_a_date.xlsx\",na_rep=\"NULL\",index=False)"
   ],
   "outputs": [],
   "metadata": {}
  },
  {
   "cell_type": "code",
   "execution_count": 40,
   "source": [
    "how_much_isin_onejuly.to_excel(\"evolution_des_1328.xlsx\",na_rep=\"NULL\",index=False)"
   ],
   "outputs": [],
   "metadata": {}
  },
  {
   "cell_type": "code",
   "execution_count": 41,
   "source": [
    "how_much_isnotin_onejuly.to_excel(\"new_screened_after_1328.xlsx\",na_rep=\"NULL\",index=False)"
   ],
   "outputs": [],
   "metadata": {}
  },
  {
   "cell_type": "code",
   "execution_count": 42,
   "source": [
    "df = pd.DataFrame({\"stage\":[\"Liste_des_4360\",\"Evolution_liste_4360\",\"new_enroles_4360\",\"Liste_des_1328\",\"Evolution_liste_1328\",\"new_enroles_1328\"],\r\n",
    "                   \"data\":[\r\n",
    "                        old_data.case_id.count(),\r\n",
    "                        how_much_isin_old_data.case_id.count(),\r\n",
    "                        how_much_isnotin_old_data.case_id.count(),\r\n",
    "                        onejuly.case_id.count(),\r\n",
    "                        how_much_isin_onejuly.case_id.count(),\r\n",
    "                        how_much_isnotin_onejuly.case_id.count()\r\n",
    "                    ]}\r\n",
    ")\r\n",
    "\r\n",
    "df"
   ],
   "outputs": [
    {
     "output_type": "execute_result",
     "data": {
      "text/plain": [
       "                  stage  data\n",
       "0        Liste_des_4360  4360\n",
       "1  Evolution_liste_4360  2838\n",
       "2      new_enroles_4360  1854\n",
       "3        Liste_des_1328  1328\n",
       "4  Evolution_liste_1328  1112\n",
       "5      new_enroles_1328   742"
      ],
      "text/html": [
       "<div>\n",
       "<style scoped>\n",
       "    .dataframe tbody tr th:only-of-type {\n",
       "        vertical-align: middle;\n",
       "    }\n",
       "\n",
       "    .dataframe tbody tr th {\n",
       "        vertical-align: top;\n",
       "    }\n",
       "\n",
       "    .dataframe thead th {\n",
       "        text-align: right;\n",
       "    }\n",
       "</style>\n",
       "<table border=\"1\" class=\"dataframe\">\n",
       "  <thead>\n",
       "    <tr style=\"text-align: right;\">\n",
       "      <th></th>\n",
       "      <th>stage</th>\n",
       "      <th>data</th>\n",
       "    </tr>\n",
       "  </thead>\n",
       "  <tbody>\n",
       "    <tr>\n",
       "      <th>0</th>\n",
       "      <td>Liste_des_4360</td>\n",
       "      <td>4360</td>\n",
       "    </tr>\n",
       "    <tr>\n",
       "      <th>1</th>\n",
       "      <td>Evolution_liste_4360</td>\n",
       "      <td>2838</td>\n",
       "    </tr>\n",
       "    <tr>\n",
       "      <th>2</th>\n",
       "      <td>new_enroles_4360</td>\n",
       "      <td>1854</td>\n",
       "    </tr>\n",
       "    <tr>\n",
       "      <th>3</th>\n",
       "      <td>Liste_des_1328</td>\n",
       "      <td>1328</td>\n",
       "    </tr>\n",
       "    <tr>\n",
       "      <th>4</th>\n",
       "      <td>Evolution_liste_1328</td>\n",
       "      <td>1112</td>\n",
       "    </tr>\n",
       "    <tr>\n",
       "      <th>5</th>\n",
       "      <td>new_enroles_1328</td>\n",
       "      <td>742</td>\n",
       "    </tr>\n",
       "  </tbody>\n",
       "</table>\n",
       "</div>"
      ]
     },
     "metadata": {},
     "execution_count": 42
    }
   ],
   "metadata": {}
  },
  {
   "cell_type": "code",
   "execution_count": 43,
   "source": [
    "import matplotlib.pyplot as plt\r\n",
    "%matplotlib inline\r\n",
    "import seaborn as sns"
   ],
   "outputs": [],
   "metadata": {}
  },
  {
   "cell_type": "code",
   "execution_count": 44,
   "source": [
    "plt.subplots(figsize=(16,8))\r\n",
    "sns.set_style(\"darkgrid\")\r\n",
    "splot = sns.barplot(x=\"stage\",y=\"data\",data=df)\r\n",
    "splot.set_xlabel(\"\")\r\n",
    "splot.set_ylabel(\"\")\r\n",
    "plt.suptitle(\"La situation des formulaires d'enrolement sur le systeme\")\r\n",
    "for p in splot.patches:\r\n",
    "    height = p.get_height()\r\n",
    "    plt.text(\r\n",
    "                    p.get_x() + p.get_width()/2, \r\n",
    "                    0.5*p.get_height() + p.get_y(),\r\n",
    "                    '{:1.0f}'.format(height), \r\n",
    "                    ha='center', va='center',\r\n",
    "                    size=15,\r\n",
    "                    fontdict=dict(color=\"white\",fontsize=15)\r\n",
    "                )\r\n",
    "    \r\n",
    "plt.annotate(\r\n",
    "    \"source: HIVHaiti\",(0,0), (-80,-20), fontsize=10, \r\n",
    "             xycoords='axes fraction', textcoords='offset points', va='top'\r\n",
    ")\r\n",
    "plt.savefig(\"Evolution_screening\",dpi=400)"
   ],
   "outputs": [
    {
     "output_type": "execute_result",
     "data": {
      "text/plain": [
       "(<Figure size 1152x576 with 1 Axes>, <AxesSubplot:>)"
      ]
     },
     "metadata": {},
     "execution_count": 44
    },
    {
     "output_type": "execute_result",
     "data": {
      "text/plain": [
       "Text(0.5, 0, '')"
      ]
     },
     "metadata": {},
     "execution_count": 44
    },
    {
     "output_type": "execute_result",
     "data": {
      "text/plain": [
       "Text(0, 0.5, '')"
      ]
     },
     "metadata": {},
     "execution_count": 44
    },
    {
     "output_type": "execute_result",
     "data": {
      "text/plain": [
       "Text(0.5, 0.98, \"La situation des formulaires d'enrolement sur le systeme\")"
      ]
     },
     "metadata": {},
     "execution_count": 44
    },
    {
     "output_type": "execute_result",
     "data": {
      "text/plain": [
       "Text(0.0, 2180.0, '4360')"
      ]
     },
     "metadata": {},
     "execution_count": 44
    },
    {
     "output_type": "execute_result",
     "data": {
      "text/plain": [
       "Text(1.0, 1419.0, '2838')"
      ]
     },
     "metadata": {},
     "execution_count": 44
    },
    {
     "output_type": "execute_result",
     "data": {
      "text/plain": [
       "Text(2.0, 927.0, '1854')"
      ]
     },
     "metadata": {},
     "execution_count": 44
    },
    {
     "output_type": "execute_result",
     "data": {
      "text/plain": [
       "Text(3.0, 664.0, '1328')"
      ]
     },
     "metadata": {},
     "execution_count": 44
    },
    {
     "output_type": "execute_result",
     "data": {
      "text/plain": [
       "Text(4.0, 556.0, '1112')"
      ]
     },
     "metadata": {},
     "execution_count": 44
    },
    {
     "output_type": "execute_result",
     "data": {
      "text/plain": [
       "Text(5.0, 371.0, '742')"
      ]
     },
     "metadata": {},
     "execution_count": 44
    },
    {
     "output_type": "execute_result",
     "data": {
      "text/plain": [
       "Text(-80, -20, 'source: HIVHaiti')"
      ]
     },
     "metadata": {},
     "execution_count": 44
    },
    {
     "output_type": "display_data",
     "data": {
      "text/plain": [
       "<Figure size 1152x576 with 1 Axes>"
      ],
      "image/png": "[encoded data removed]"
     },
     "metadata": {
      "needs_background": "light"
     }
    }
   ],
   "metadata": {}
  },
  {
   "cell_type": "code",
   "execution_count": null,
   "source": [],
   "outputs": [],
   "metadata": {}
  }
 ],
 "metadata": {
  "interpreter": {
   "hash": "4534460e0bdca1b390927d45471088fb3501d39abc4e3f2cee293892e17d7fc6"
  },
  "kernelspec": {
   "name": "python3",
   "display_name": "Python 3.9.6 64-bit"
  },
  "language_info": {
   "codemirror_mode": {
    "name": "ipython",
    "version": 3
   },
   "file_extension": ".py",
   "mimetype": "text/x-python",
   "name": "python",
   "nbconvert_exporter": "python",
   "pygments_lexer": "ipython3",
   "version": "3.9.6"
  },
  "orig_nbformat": 2
 },
 "nbformat": 4,
 "nbformat_minor": 2
}