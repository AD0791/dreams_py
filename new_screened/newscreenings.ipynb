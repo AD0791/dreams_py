{
 "cells": [
  {
   "cell_type": "markdown",
   "source": [
    "# Detect the ones who are only screened \r\n",
    "\r\n",
    "> run eligibility notebook\r\n",
    "\r\n",
    "> run survey data notebook\r\n",
    "\r\n"
   ],
   "metadata": {}
  },
  {
   "cell_type": "code",
   "execution_count": 1,
   "source": [
    "%run \"../eligibility.ipynb\"\r\n",
    "%run \"../survey_data/survey_data.ipynb\""
   ],
   "outputs": [],
   "metadata": {}
  },
  {
   "cell_type": "code",
   "execution_count": 2,
   "source": [
    "from IPython.core.interactiveshell import InteractiveShell\r\n",
    "InteractiveShell.ast_node_interactivity = \"all\"\r\n"
   ],
   "outputs": [],
   "metadata": {}
  },
  {
   "cell_type": "code",
   "execution_count": 3,
   "source": [
    "survey_data.shape\r\n",
    "eligibility.shape"
   ],
   "outputs": [
    {
     "output_type": "execute_result",
     "data": {
      "text/plain": [
       "(55004, 19)"
      ]
     },
     "metadata": {},
     "execution_count": 3
    },
    {
     "output_type": "execute_result",
     "data": {
      "text/plain": [
       "(41781, 31)"
      ]
     },
     "metadata": {},
     "execution_count": 3
    }
   ],
   "metadata": {}
  },
  {
   "cell_type": "code",
   "execution_count": 4,
   "source": [
    "survey_data.columns\r\n",
    "eligibility.columns"
   ],
   "outputs": [
    {
     "output_type": "execute_result",
     "data": {
      "text/plain": [
       "Index(['case_id', 'organisation', 'first_name', 'last_name', 'dob',\n",
       "       'interview_date', 'adress', 'commune', 'commune_section',\n",
       "       'interviewer_firstname', 'interviewer_lastname', 'is_your_parent_alive',\n",
       "       'mothers_name', 'fathers_name', 'who_is_your_law_parent', 'total',\n",
       "       'is_eligible_for_dep_hiv', 'age', 'already_in_a_group'],\n",
       "      dtype='object')"
      ]
     },
     "metadata": {},
     "execution_count": 4
    },
    {
     "output_type": "execute_result",
     "data": {
      "text/plain": [
       "Index(['case_id', 'dreams_code', 'organisation', 'id', 'phone',\n",
       "       'not_selectable', 'first_name', 'last_name', 'dob', 'interview_date',\n",
       "       'adress', 'commune', 'commune_section', 'interviewer_firstname',\n",
       "       'interviewer_lastname', 'is_your_parent_alive', 'mothers_name',\n",
       "       'fathers_name', 'total', 'who_is_your_law_parent', 'group_name',\n",
       "       'id_group', 'hub_name', 'id_hub', 'eske_ou_lekol_deja',\n",
       "       'depi_kile_ou_pa_al_lekol_with_label',\n",
       "       'c61_depi_ki_l_ou_pa_al_lekl_ank', 'c6_ske_ou_te_oblije_double_deja',\n",
       "       'kiyes_ki_peye_lekol_pou_ou', 'age', 'kpi_score'],\n",
       "      dtype='object')"
      ]
     },
     "metadata": {},
     "execution_count": 4
    }
   ],
   "metadata": {}
  },
  {
   "cell_type": "code",
   "execution_count": 5,
   "source": [
    "#survey_data[survey_data.organisation==\"CARIS\"]"
   ],
   "outputs": [],
   "metadata": {}
  },
  {
   "cell_type": "markdown",
   "source": [
    "## Eligibility"
   ],
   "metadata": {}
  },
  {
   "cell_type": "code",
   "execution_count": 83,
   "source": [
    "eligibility.dreams_code.fillna(\"null\",inplace=True)"
   ],
   "outputs": [],
   "metadata": {}
  },
  {
   "cell_type": "code",
   "execution_count": 84,
   "source": [
    "def tranche_age_classique(age):\r\n",
    "        if age>=10 and age<=14:\r\n",
    "            return \"10-14\"\r\n",
    "        elif age>=15 and age<=19:\r\n",
    "            return \"15-19\"\r\n",
    "        elif age>=20 and age<=24:\r\n",
    "            return \"20-24\"\r\n",
    "        elif age>=25 and age<=29:\r\n",
    "            return \"25-29\"\r\n",
    "        else:\r\n",
    "            return \"not_valid_age\"\r\n",
    "        \r\n",
    "def tranche_age_mineur_majeur(age):\r\n",
    "        if age>=10 and age<=17:\r\n",
    "            return \"10-17\"\r\n",
    "        elif age>=18 and age<=19:\r\n",
    "            return \"18-19\"\r\n",
    "        elif age>=20 and age<=24:\r\n",
    "            return \"20-24\"\r\n",
    "        elif age>=25 and age<=29:\r\n",
    "            return \"25-29\"\r\n",
    "        else:\r\n",
    "            return \"not_valid_age\""
   ],
   "outputs": [],
   "metadata": {}
  },
  {
   "cell_type": "code",
   "execution_count": 85,
   "source": [
    "eligibility['age_range'] = eligibility.age.map(tranche_age_classique)\r\n",
    "eligibility['newage_range'] = eligibility.age.map(tranche_age_mineur_majeur)"
   ],
   "outputs": [],
   "metadata": {}
  },
  {
   "cell_type": "code",
   "execution_count": 86,
   "source": [
    "import pandas as pd\r\n",
    "from datetime import datetime"
   ],
   "outputs": [],
   "metadata": {}
  },
  {
   "cell_type": "code",
   "execution_count": 87,
   "source": [
    "eligibility[\"date_entevyou\"] = pd.to_datetime( eligibility.interview_date)"
   ],
   "outputs": [],
   "metadata": {}
  },
  {
   "cell_type": "code",
   "execution_count": 88,
   "source": [
    "def fiscalYear21(date):\r\n",
    "    if date.year == 2021 and date.month>=1 and date.month<=3:\r\n",
    "        return \"FY21Q2\"\r\n",
    "    elif date.year == 2020 and date.month>=10 and date.month<=12:\r\n",
    "        return \"FY21Q1\"\r\n",
    "    elif date.year == 2021 and date.month>=4 and date.month<=6:\r\n",
    "        return \"FY21Q3\"\r\n",
    "    elif date.year == 2021 and date.month>=7 and date.month<=9:\r\n",
    "        return \"FY21Q4\"\r\n",
    "    else:\r\n",
    "        return \"Q3fy21-Q4fy21\"\r\n",
    "    \r\n",
    "\r\n",
    "    \r\n",
    "\r\n",
    "def validTimeOnSystem(date):\r\n",
    "    if date>= datetime.strptime(\"2020-01-01\",\"%Y-%m-%d\") and date<= datetime.now():\r\n",
    "        return \"required_Time_on\"\r\n",
    "    else:\r\n",
    "        return \"not_valid_time_on\"\r\n"
   ],
   "outputs": [],
   "metadata": {}
  },
  {
   "cell_type": "code",
   "execution_count": 89,
   "source": [
    "eligibility[\"fiscal_year\"] = eligibility.date_entevyou.map(fiscalYear21)\r\n",
    "eligibility[\"timeOn_system\"] = eligibility.date_entevyou.map(validTimeOnSystem)"
   ],
   "outputs": [],
   "metadata": {}
  },
  {
   "cell_type": "code",
   "execution_count": 90,
   "source": [
    "almost_eligibility = eligibility[(eligibility.dreams_code == \"null\")&\r\n",
    "                                 (eligibility.timeOn_system==\"required_Time_on\")&\r\n",
    "                                 (eligibility.age_range!=\"25-29\")&\r\n",
    "                                 (eligibility.age_range!=\"not_valid_age\")]"
   ],
   "outputs": [],
   "metadata": {}
  },
  {
   "cell_type": "code",
   "execution_count": 91,
   "source": [
    "almost_eligibility.dreams_code.count()"
   ],
   "outputs": [
    {
     "output_type": "execute_result",
     "data": {
      "text/plain": [
       "4740"
      ]
     },
     "metadata": {},
     "execution_count": 91
    }
   ],
   "metadata": {}
  },
  {
   "cell_type": "code",
   "execution_count": 92,
   "source": [
    "def firstlastdob(df):\r\n",
    "    return f\"{df.first_name} {df.last_name} {df.dob}\""
   ],
   "outputs": [],
   "metadata": {}
  },
  {
   "cell_type": "code",
   "execution_count": 93,
   "source": [
    "%%capture\r\n",
    "almost_eligibility[\"unduplicate_me\"] = almost_eligibility.apply(lambda df: firstlastdob(df),axis=1)\r\n",
    "clean_eligibility =  almost_eligibility.drop_duplicates(subset=[\"unduplicate_me\"])\r\n"
   ],
   "outputs": [],
   "metadata": {}
  },
  {
   "cell_type": "code",
   "execution_count": 94,
   "source": [
    "clean_eligibility.dreams_code.count()"
   ],
   "outputs": [
    {
     "output_type": "execute_result",
     "data": {
      "text/plain": [
       "4690"
      ]
     },
     "metadata": {},
     "execution_count": 94
    }
   ],
   "metadata": {}
  },
  {
   "cell_type": "markdown",
   "source": [
    "## Survey data"
   ],
   "metadata": {}
  },
  {
   "cell_type": "code",
   "execution_count": 95,
   "source": [
    "survey_data[\"remove_duplicate\"] = survey_data.apply(lambda df: firstlastdob(df),axis=1)"
   ],
   "outputs": [],
   "metadata": {}
  },
  {
   "cell_type": "code",
   "execution_count": 96,
   "source": [
    "survey_data[\"date_entevyou\"] = pd.to_datetime( survey_data.interview_date)\r\n",
    "survey_data[\"fiscal_year\"] = survey_data.date_entevyou.map(fiscalYear21)\r\n",
    "survey_data[\"timeOn_system\"] = survey_data.date_entevyou.map(validTimeOnSystem)\r\n",
    "survey_data['age_range'] = survey_data.age.map(tranche_age_classique)\r\n",
    "survey_data['newage_range'] = survey_data.age.map(tranche_age_mineur_majeur)"
   ],
   "outputs": [],
   "metadata": {}
  },
  {
   "cell_type": "code",
   "execution_count": 97,
   "source": [
    "almost_survey_data = survey_data[(survey_data.already_in_a_group == \"no\")&\r\n",
    "                                 (survey_data.timeOn_system==\"required_Time_on\")&\r\n",
    "                                 (survey_data.age_range!=\"25-29\")&\r\n",
    "                                 (survey_data.age_range!=\"not_valid_age\")&\r\n",
    "                                 (survey_data.total>=14)]"
   ],
   "outputs": [],
   "metadata": {}
  },
  {
   "cell_type": "code",
   "execution_count": 98,
   "source": [
    "almost_survey_data.case_id.count()"
   ],
   "outputs": [
    {
     "output_type": "execute_result",
     "data": {
      "text/plain": [
       "4739"
      ]
     },
     "metadata": {},
     "execution_count": 98
    }
   ],
   "metadata": {}
  },
  {
   "cell_type": "code",
   "execution_count": 99,
   "source": [
    "clean_survey_data =  almost_survey_data.drop_duplicates(subset=[\"remove_duplicate\"])"
   ],
   "outputs": [],
   "metadata": {}
  },
  {
   "cell_type": "code",
   "execution_count": 100,
   "source": [
    "clean_survey_data.case_id.count()"
   ],
   "outputs": [
    {
     "output_type": "execute_result",
     "data": {
      "text/plain": [
       "4689"
      ]
     },
     "metadata": {},
     "execution_count": 100
    }
   ],
   "metadata": {}
  },
  {
   "cell_type": "markdown",
   "source": [
    "## what we want"
   ],
   "metadata": {}
  },
  {
   "cell_type": "code",
   "execution_count": 101,
   "source": [
    "id_form_survey_data = clean_survey_data[[\"case_id\",\"already_in_a_group\"]]"
   ],
   "outputs": [],
   "metadata": {}
  },
  {
   "cell_type": "code",
   "execution_count": 102,
   "source": [
    "update_screening_data = id_form_survey_data.merge(clean_eligibility, on=\"case_id\",how='right')"
   ],
   "outputs": [],
   "metadata": {}
  },
  {
   "cell_type": "code",
   "execution_count": 103,
   "source": [
    "update_screening_data.case_id.count()"
   ],
   "outputs": [
    {
     "output_type": "execute_result",
     "data": {
      "text/plain": [
       "4690"
      ]
     },
     "metadata": {},
     "execution_count": 103
    }
   ],
   "metadata": {}
  },
  {
   "cell_type": "code",
   "execution_count": 104,
   "source": [
    "update_screening_data.to_excel(\"update_screened.xlsx\",index=False,na_rep=\"NULL\")"
   ],
   "outputs": [],
   "metadata": {}
  },
  {
   "cell_type": "code",
   "execution_count": 105,
   "source": [
    "update_screening_data.date_entevyou.min().strftime(\"%Y-%m-%d\")\r\n",
    "update_screening_data.date_entevyou.max().strftime(\"%Y-%m-%d\")"
   ],
   "outputs": [
    {
     "output_type": "execute_result",
     "data": {
      "text/plain": [
       "'2020-01-01'"
      ]
     },
     "metadata": {},
     "execution_count": 105
    },
    {
     "output_type": "execute_result",
     "data": {
      "text/plain": [
       "'2021-09-08'"
      ]
     },
     "metadata": {},
     "execution_count": 105
    }
   ],
   "metadata": {}
  },
  {
   "cell_type": "markdown",
   "source": [
    "## verification des 4360 Mastersheets"
   ],
   "metadata": {}
  },
  {
   "cell_type": "code",
   "execution_count": 106,
   "source": [
    "old_data = pd.read_excel(\"old_screened_4360.xlsx\")"
   ],
   "outputs": [],
   "metadata": {}
  },
  {
   "cell_type": "code",
   "execution_count": 107,
   "source": [
    "how_much_isin_old_data = update_screening_data[update_screening_data.case_id.isin(old_data.case_id)]"
   ],
   "outputs": [],
   "metadata": {}
  },
  {
   "cell_type": "code",
   "execution_count": 108,
   "source": [
    "how_much_isnotin_old_data  = update_screening_data[~update_screening_data.case_id.isin(old_data.case_id)]"
   ],
   "outputs": [],
   "metadata": {}
  },
  {
   "cell_type": "markdown",
   "source": [
    "## count and date"
   ],
   "metadata": {}
  },
  {
   "cell_type": "code",
   "execution_count": 109,
   "source": [
    "old_data.case_id.count()\r\n",
    "old_data.date_entevyou.min().strftime(\"%Y-%m-%d\")\r\n",
    "old_data.date_entevyou.max().strftime(\"%Y-%m-%d\")"
   ],
   "outputs": [
    {
     "output_type": "execute_result",
     "data": {
      "text/plain": [
       "4360"
      ]
     },
     "metadata": {},
     "execution_count": 109
    },
    {
     "output_type": "execute_result",
     "data": {
      "text/plain": [
       "'2020-04-18'"
      ]
     },
     "metadata": {},
     "execution_count": 109
    },
    {
     "output_type": "execute_result",
     "data": {
      "text/plain": [
       "'2021-06-13'"
      ]
     },
     "metadata": {},
     "execution_count": 109
    }
   ],
   "metadata": {}
  },
  {
   "cell_type": "code",
   "execution_count": 110,
   "source": [
    "how_much_isin_old_data.case_id.count()\r\n",
    "how_much_isin_old_data.date_entevyou.min().strftime(\"%Y-%m-%d\")\r\n",
    "how_much_isin_old_data.date_entevyou.max().strftime(\"%Y-%m-%d\")"
   ],
   "outputs": [
    {
     "output_type": "execute_result",
     "data": {
      "text/plain": [
       "1901"
      ]
     },
     "metadata": {},
     "execution_count": 110
    },
    {
     "output_type": "execute_result",
     "data": {
      "text/plain": [
       "'2020-05-25'"
      ]
     },
     "metadata": {},
     "execution_count": 110
    },
    {
     "output_type": "execute_result",
     "data": {
      "text/plain": [
       "'2021-06-12'"
      ]
     },
     "metadata": {},
     "execution_count": 110
    }
   ],
   "metadata": {}
  },
  {
   "cell_type": "code",
   "execution_count": 111,
   "source": [
    "how_much_isnotin_old_data.case_id.count()\r\n",
    "how_much_isnotin_old_data.date_entevyou.min().strftime(\"%Y-%m-%d\")\r\n",
    "how_much_isnotin_old_data.date_entevyou.max().strftime(\"%Y-%m-%d\")"
   ],
   "outputs": [
    {
     "output_type": "execute_result",
     "data": {
      "text/plain": [
       "2789"
      ]
     },
     "metadata": {},
     "execution_count": 111
    },
    {
     "output_type": "execute_result",
     "data": {
      "text/plain": [
       "'2020-01-01'"
      ]
     },
     "metadata": {},
     "execution_count": 111
    },
    {
     "output_type": "execute_result",
     "data": {
      "text/plain": [
       "'2021-09-08'"
      ]
     },
     "metadata": {},
     "execution_count": 111
    }
   ],
   "metadata": {}
  },
  {
   "cell_type": "markdown",
   "source": [
    "## Verification with the newest from the list of JULY"
   ],
   "metadata": {}
  },
  {
   "cell_type": "code",
   "execution_count": 112,
   "source": [
    "onejuly = pd.read_excel(\"old_new_enroled_July.xlsx\")\r\n",
    "onejuly.case_id.count()\r\n",
    "onejuly.date_entevyou.min().strftime(\"%Y-%m-%d\")\r\n",
    "onejuly.date_entevyou.max().strftime(\"%Y-%m-%d\")"
   ],
   "outputs": [
    {
     "output_type": "execute_result",
     "data": {
      "text/plain": [
       "1328"
      ]
     },
     "metadata": {},
     "execution_count": 112
    },
    {
     "output_type": "execute_result",
     "data": {
      "text/plain": [
       "'2020-06-14'"
      ]
     },
     "metadata": {},
     "execution_count": 112
    },
    {
     "output_type": "execute_result",
     "data": {
      "text/plain": [
       "'2021-07-09'"
      ]
     },
     "metadata": {},
     "execution_count": 112
    }
   ],
   "metadata": {}
  },
  {
   "cell_type": "code",
   "execution_count": 113,
   "source": [
    "how_much_isin_onejuly = how_much_isnotin_old_data[how_much_isnotin_old_data.case_id.isin(onejuly.case_id)]\r\n",
    "how_much_isin_onejuly.case_id.count()\r\n",
    "how_much_isin_onejuly.date_entevyou.min().strftime(\"%Y-%m-%d\")\r\n",
    "how_much_isin_onejuly.date_entevyou.max().strftime(\"%Y-%m-%d\")"
   ],
   "outputs": [
    {
     "output_type": "execute_result",
     "data": {
      "text/plain": [
       "546"
      ]
     },
     "metadata": {},
     "execution_count": 113
    },
    {
     "output_type": "execute_result",
     "data": {
      "text/plain": [
       "'2020-06-14'"
      ]
     },
     "metadata": {},
     "execution_count": 113
    },
    {
     "output_type": "execute_result",
     "data": {
      "text/plain": [
       "'2021-07-03'"
      ]
     },
     "metadata": {},
     "execution_count": 113
    }
   ],
   "metadata": {}
  },
  {
   "cell_type": "code",
   "execution_count": 114,
   "source": [
    "how_much_isnotin_onejuly = how_much_isnotin_old_data[~how_much_isnotin_old_data.case_id.isin(onejuly.case_id)]\r\n",
    "how_much_isnotin_onejuly.case_id.count()\r\n",
    "how_much_isnotin_onejuly.date_entevyou.min().strftime(\"%Y-%m-%d\")\r\n",
    "how_much_isnotin_onejuly.date_entevyou.max().strftime(\"%Y-%m-%d\")"
   ],
   "outputs": [
    {
     "output_type": "execute_result",
     "data": {
      "text/plain": [
       "2243"
      ]
     },
     "metadata": {},
     "execution_count": 114
    },
    {
     "output_type": "execute_result",
     "data": {
      "text/plain": [
       "'2020-01-01'"
      ]
     },
     "metadata": {},
     "execution_count": 114
    },
    {
     "output_type": "execute_result",
     "data": {
      "text/plain": [
       "'2021-09-08'"
      ]
     },
     "metadata": {},
     "execution_count": 114
    }
   ],
   "metadata": {}
  },
  {
   "cell_type": "markdown",
   "source": [
    "## SAVE and PICTURE"
   ],
   "metadata": {}
  },
  {
   "cell_type": "code",
   "execution_count": 122,
   "source": [
    "#how_much_isin_old_data.to_excel(\"evolution_des_4360.xlsx\",na_rep=\"NULL\", index=False)\r\n",
    "#how_much_isin_onejuly.to_excel(\"evolution_des_1328.xlsx\",na_rep=\"NULL\",index=False)\r\n",
    "#how_much_isnotin_onejuly.to_excel(\"new_screened_after_1328.xlsx\",na_rep=\"NULL\",index=False)\r\n",
    "#how_much_isnotin_old_data.to_excel(\"new_screened_after_4360.xlsx\",na_rep=\"NULL\",index=False)\r\n",
    "how_much_isnotin_old_data.to_excel(\"LesfillesScreeners.xlsx\",na_rep=\"NULL\",index=False)\r\n",
    "\r\n",
    "\r\n"
   ],
   "outputs": [],
   "metadata": {}
  },
  {
   "cell_type": "markdown",
   "source": [
    "df = pd.DataFrame({\"stage\":[\"Liste_des_4360\",\"Evolution_liste_4360\",\"new_enroles_4360\",\"Liste_des_1328\",\"Evolution_liste_1328\",\"new_enroles_1328\"],\r\n",
    "                   \"data\":[\r\n",
    "                        old_data.case_id.count(),\r\n",
    "                        how_much_isin_old_data.case_id.count(),\r\n",
    "                        how_much_isnotin_old_data.case_id.count(),\r\n",
    "                        onejuly.case_id.count(),\r\n",
    "                        how_much_isin_onejuly.case_id.count(),\r\n",
    "                        how_much_isnotin_onejuly.case_id.count()\r\n",
    "                    ]}\r\n",
    ")\r\n",
    "\r\n",
    "df"
   ],
   "metadata": {}
  },
  {
   "cell_type": "markdown",
   "source": [
    "import matplotlib.pyplot as plt\r\n",
    "%matplotlib inline\r\n",
    "import seaborn as sns"
   ],
   "metadata": {}
  },
  {
   "cell_type": "markdown",
   "source": [
    "plt.subplots(figsize=(16,8))\r\n",
    "sns.set_style(\"darkgrid\")\r\n",
    "splot = sns.barplot(x=\"stage\",y=\"data\",data=df)\r\n",
    "splot.set_xlabel(\"\")\r\n",
    "splot.set_ylabel(\"\")\r\n",
    "plt.suptitle(\"La situation des formulaires d'enrolement sur le systeme\")\r\n",
    "for p in splot.patches:\r\n",
    "    height = p.get_height()\r\n",
    "    plt.text(\r\n",
    "                    p.get_x() + p.get_width()/2, \r\n",
    "                    0.5*p.get_height() + p.get_y(),\r\n",
    "                    '{:1.0f}'.format(height), \r\n",
    "                    ha='center', va='center',\r\n",
    "                    size=15,\r\n",
    "                    fontdict=dict(color=\"white\",fontsize=15)\r\n",
    "                )\r\n",
    "    \r\n",
    "plt.annotate(\r\n",
    "    \"source: HIVHaiti\",(0,0), (-80,-20), fontsize=10, \r\n",
    "             xycoords='axes fraction', textcoords='offset points', va='top'\r\n",
    ")\r\n",
    "plt.savefig(\"Evolution_screening\",dpi=400)"
   ],
   "metadata": {}
  },
  {
   "cell_type": "code",
   "execution_count": null,
   "source": [],
   "outputs": [],
   "metadata": {}
  }
 ],
 "metadata": {
  "interpreter": {
   "hash": "4534460e0bdca1b390927d45471088fb3501d39abc4e3f2cee293892e17d7fc6"
  },
  "kernelspec": {
   "name": "python3",
   "display_name": "Python 3.9.6 64-bit"
  },
  "language_info": {
   "codemirror_mode": {
    "name": "ipython",
    "version": 3
   },
   "file_extension": ".py",
   "mimetype": "text/x-python",
   "name": "python",
   "nbconvert_exporter": "python",
   "pygments_lexer": "ipython3",
   "version": "3.9.6"
  },
  "orig_nbformat": 2
 },
 "nbformat": 4,
 "nbformat_minor": 2
}