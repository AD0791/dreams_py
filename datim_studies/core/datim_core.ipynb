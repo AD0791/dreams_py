{
 "cells": [
  {
   "cell_type": "code",
   "execution_count": 1,
   "source": [
    "\r\n",
    "from agyw_core import AgywPrev, AgywPrevCommune\r\n",
    "from re import sub\r\n",
    "from IPython.core.interactiveshell import InteractiveShell\r\n",
    "InteractiveShell.ast_node_interactivity = \"all\"\r\n",
    "\r\n",
    "from datetime import datetime\r\n",
    "date_du_jour = datetime.today().strftime(\"%d_%m_%Y\")"
   ],
   "outputs": [],
   "metadata": {}
  },
  {
   "cell_type": "code",
   "execution_count": 2,
   "source": [
    "from openpyxl import Workbook\r\n",
    "from openpyxl.styles.colors import Color\r\n",
    "from openpyxl.styles.fills import PatternFill\r\n",
    "from openpyxl.styles import Font\r\n",
    "from openpyxl.styles.alignment import Alignment\r\n",
    "from openpyxl.utils.dataframe import dataframe_to_rows\r\n",
    "from openpyxl.styles.borders import Border, Side\r\n"
   ],
   "outputs": [],
   "metadata": {}
  },
  {
   "cell_type": "code",
   "execution_count": 3,
   "source": [
    "\r\n",
    "my_blue = Color(rgb=\"0000FF\")\r\n",
    "blue_fill = PatternFill(patternType=\"solid\",fgColor=my_blue)\r\n",
    "my_red = Color(rgb=\"FF0000\")\r\n",
    "red_fill = PatternFill(patternType=\"solid\",fgColor=my_red)\r\n",
    "bold_12 = Font(size=12,bold=True)\r\n",
    "text_datim_title = Alignment(horizontal=\"center\",vertical=\"bottom\",wrapText=True)\r\n",
    "thin_border = Border(left=Side(style='thin'), \r\n",
    "                     right=Side(style='thin'), \r\n",
    "                     top=Side(style='thin'), \r\n",
    "                     bottom=Side(style='thin'))\r\n",
    "\r\n",
    "\r\n",
    "\r\n",
    "#wb.sheetnames\r\n",
    "\r\n",
    "def name_handler(s):\r\n",
    "    s = sub(r\"[^\\w\\s]\", '', s)\r\n",
    "    # Replace all runs of whitespace with a single dash\r\n",
    "    s = sub(r\"\\s+\", '_', s)\r\n",
    "    return s\r\n",
    "\r\n"
   ],
   "outputs": [],
   "metadata": {}
  },
  {
   "cell_type": "code",
   "execution_count": 4,
   "source": [
    "%%capture\r\n",
    "datim = AgywPrev()"
   ],
   "outputs": [],
   "metadata": {}
  },
  {
   "cell_type": "code",
   "execution_count": 5,
   "source": [
    "%%capture\r\n",
    "wb = Workbook()\r\n",
    "ws = wb.active\r\n",
    "ws.title = datim.who_am_i\r\n",
    "\r\n",
    "ws['A1'].fill = blue_fill\r\n",
    "ws['A9'].fill = blue_fill\r\n",
    "ws['A17'].fill = blue_fill\r\n",
    "\r\n",
    "for rows in ws.iter_rows(min_row=7,max_row=7,min_col=1,max_col=40):\r\n",
    "    for cell in rows:\r\n",
    "        cell.fill = red_fill\r\n",
    "for rows in ws.iter_rows(min_row=8,max_row=8,min_col=1,max_col=40):\r\n",
    "    for cell in rows:\r\n",
    "        cell.fill = red_fill\r\n",
    "for rows in ws.iter_rows(min_row=15,max_row=15,min_col=1,max_col=40):\r\n",
    "    for cell in rows:\r\n",
    "        cell.fill = red_fill\r\n",
    "for rows in ws.iter_rows(min_row=16,max_row=16,min_col=1,max_col=40):\r\n",
    "    for cell in rows:\r\n",
    "        cell.fill = red_fill\r\n",
    "\r\n",
    "ws.merge_cells(\"B1:C1\")\r\n",
    "ws.cell(row=1,column=2).value = AgywPrev.datim_titleI()\r\n",
    "ws.cell(row=1,column=2).font = bold_12\r\n",
    "ws.cell(row=1,column=2).alignment =  text_datim_title\r\n",
    "\r\n",
    "ws.merge_cells(\"B9:C9\")\r\n",
    "ws.cell(row=9,column=2).value = AgywPrev.datim_titleII()\r\n",
    "ws.cell(row=9,column=2).font = bold_12\r\n",
    "ws.cell(row=9,column=2).alignment =  text_datim_title\r\n",
    "\r\n",
    "ws.merge_cells(\"B17:C17\")\r\n",
    "ws.cell(row=17,column=2).value = AgywPrev.datim_titleIII()\r\n",
    "ws.cell(row=17,column=2).font = bold_12\r\n",
    "ws.cell(row=17,column=2).alignment =  text_datim_title\r\n",
    "\r\n",
    "ws['G5'] = datim.total_datimI\r\n",
    "ws['G13'] = datim.total_datimII\r\n",
    "ws['G20'] = datim.total_datimIII\r\n",
    "ws['I13'] = datim.total_datim_general\r\n",
    "\r\n",
    "rdf_datim_I = dataframe_to_rows(datim.datim_agyw_prevI(),index=False,header=True)\r\n",
    "for ridx, row in enumerate(rdf_datim_I,1):\r\n",
    "    for cidx, value in enumerate(row,1):\r\n",
    "        cells = ws.cell(ridx+1,cidx,value)\r\n",
    "        cells.border = thin_border\r\n",
    "        cells\r\n",
    "\r\n",
    "rdf_datim_II = dataframe_to_rows(datim.datim_agyw_prevII(),index=False,header=True)\r\n",
    "for ridx, row in enumerate(rdf_datim_II,1):\r\n",
    "    for cidx, value in enumerate(row,1):\r\n",
    "        cells = ws.cell(ridx+9,cidx,value)\r\n",
    "        cells.border = thin_border\r\n",
    "        cells\r\n",
    "\r\n",
    "rdf_datim_III = dataframe_to_rows(datim.datim_agyw_prevIII(),index=False,header=True)\r\n",
    "for ridx, row in enumerate(rdf_datim_III,1):\r\n",
    "    for cidx, value in enumerate(row,1):\r\n",
    "        cells = ws.cell(ridx+17,cidx,value)\r\n",
    "        cells.border = thin_border\r\n",
    "        cells\r\n"
   ],
   "outputs": [],
   "metadata": {}
  },
  {
   "cell_type": "code",
   "execution_count": 6,
   "source": [
    "%%capture\r\n",
    "worksheets = []\r\n",
    "datimcommunes = []\r\n",
    "for columns in datim.data_mastersheet.actual_commune.unique():\r\n",
    "    globals()[f\"ws_{name_handler(columns)}\"] = wb.create_sheet(title=AgywPrevCommune(f\"{columns}\").who_am_i)\r\n",
    "    globals()[f\"datim_{name_handler(columns)}\"] =AgywPrevCommune(f\"{columns}\")\r\n",
    "    worksheets.append(globals().get(f\"ws_{name_handler(columns)}\"))\r\n",
    "    datimcommunes.append(globals().get(f\"datim_{name_handler(columns)}\"))\r\n",
    "\r\n",
    "\r\n"
   ],
   "outputs": [],
   "metadata": {}
  },
  {
   "cell_type": "code",
   "execution_count": 7,
   "source": [
    "worksheets\r\n",
    "datimcommunes"
   ],
   "outputs": [
    {
     "output_type": "execute_result",
     "data": {
      "text/plain": [
       "[<Worksheet \"DATIM Verrettes\">,\n",
       " <Worksheet \"DATIM Delmas\">,\n",
       " <Worksheet \"DATIM Port-au-Prince\">,\n",
       " <Worksheet \"DATIM Carrefour\">,\n",
       " <Worksheet \"DATIM Limonade\">,\n",
       " <Worksheet \"DATIM Plaine-du-Nord\">,\n",
       " <Worksheet \"DATIM Cap-Haïtien\">,\n",
       " <Worksheet \"DATIM Kenscoff\">,\n",
       " <Worksheet \"DATIM Dessalines\">,\n",
       " <Worksheet \"DATIM Pétionville\">,\n",
       " <Worksheet \"DATIM Milot\">,\n",
       " <Worksheet \"DATIM Quartier-Morin\">,\n",
       " <Worksheet \"DATIM La Chapelle\">,\n",
       " <Worksheet \"DATIM Gressier\">,\n",
       " <Worksheet \"DATIM Saint-Marc\">,\n",
       " <Worksheet \"DATIM Petite Rivière de l'Artibonite\">,\n",
       " <Worksheet \"DATIM Grande Saline\">,\n",
       " <Worksheet \"DATIM Liancourt\">,\n",
       " <Worksheet \"DATIM Tabarre\">,\n",
       " <Worksheet \"DATIM Montrouis\">,\n",
       " <Worksheet \"DATIM Desdunes\">]"
      ]
     },
     "metadata": {},
     "execution_count": 7
    },
    {
     "output_type": "execute_result",
     "data": {
      "text/plain": [
       "[<AgywPrevCommune DATIM Verrettes>,\n",
       " <AgywPrevCommune DATIM Delmas>,\n",
       " <AgywPrevCommune DATIM Port-au-Prince>,\n",
       " <AgywPrevCommune DATIM Carrefour>,\n",
       " <AgywPrevCommune DATIM Limonade>,\n",
       " <AgywPrevCommune DATIM Plaine-du-Nord>,\n",
       " <AgywPrevCommune DATIM Cap-Haïtien>,\n",
       " <AgywPrevCommune DATIM Kenscoff>,\n",
       " <AgywPrevCommune DATIM Dessalines>,\n",
       " <AgywPrevCommune DATIM Pétionville>,\n",
       " <AgywPrevCommune DATIM Milot>,\n",
       " <AgywPrevCommune DATIM Quartier-Morin>,\n",
       " <AgywPrevCommune DATIM La Chapelle>,\n",
       " <AgywPrevCommune DATIM Gressier>,\n",
       " <AgywPrevCommune DATIM Saint-Marc>,\n",
       " <AgywPrevCommune DATIM Petite Rivière de l'Artibonite>,\n",
       " <AgywPrevCommune DATIM Grande Saline>,\n",
       " <AgywPrevCommune DATIM Liancourt>,\n",
       " <AgywPrevCommune DATIM Tabarre>,\n",
       " <AgywPrevCommune DATIM Montrouis>,\n",
       " <AgywPrevCommune DATIM Desdunes>]"
      ]
     },
     "metadata": {},
     "execution_count": 7
    }
   ],
   "metadata": {}
  },
  {
   "cell_type": "code",
   "execution_count": 8,
   "source": [
    "%%capture\r\n",
    "for wscommunes, dcommunes in zip(worksheets,datimcommunes):\r\n",
    "    wscommunes['A1'].fill = blue_fill\r\n",
    "    wscommunes['A9'].fill = blue_fill\r\n",
    "    wscommunes['A17'].fill = blue_fill\r\n",
    "    for rows in wscommunes.iter_rows(min_row=7,max_row=7,min_col=1,max_col=40):\r\n",
    "        for cell in rows:\r\n",
    "            cell.fill = red_fill\r\n",
    "    for rows in wscommunes.iter_rows(min_row=8,max_row=8,min_col=1,max_col=40):\r\n",
    "        for cell in rows:\r\n",
    "            cell.fill = red_fill\r\n",
    "    for rows in wscommunes.iter_rows(min_row=15,max_row=15,min_col=1,max_col=40):\r\n",
    "        for cell in rows:\r\n",
    "            cell.fill = red_fill\r\n",
    "    for rows in wscommunes.iter_rows(min_row=16,max_row=16,min_col=1,max_col=40):\r\n",
    "        for cell in rows:\r\n",
    "            cell.fill = red_fill\r\n",
    "\r\n",
    "    wscommunes.merge_cells(\"B1:C1\")\r\n",
    "    wscommunes.cell(row=1,column=2).value = AgywPrevCommune.datim_titleI()\r\n",
    "    wscommunes.cell(row=1,column=2).font = bold_12\r\n",
    "    wscommunes.cell(row=1,column=2).alignment =  text_datim_title\r\n",
    "    wscommunes.merge_cells(\"B9:C9\")\r\n",
    "    wscommunes.cell(row=9,column=2).value = AgywPrevCommune.datim_titleII()\r\n",
    "    wscommunes.cell(row=9,column=2).font = bold_12\r\n",
    "    wscommunes.cell(row=9,column=2).alignment =  text_datim_title\r\n",
    "    wscommunes.merge_cells(\"B17:C17\")\r\n",
    "    wscommunes.cell(row=17,column=2).value = AgywPrevCommune.datim_titleIII()\r\n",
    "    wscommunes.cell(row=17,column=2).font = bold_12\r\n",
    "    wscommunes.cell(row=17,column=2).alignment =  text_datim_title\r\n",
    "    wscommunes['G5'] = dcommunes.total_datimI\r\n",
    "    wscommunes['G13'] = dcommunes.total_datimII\r\n",
    "    wscommunes['G20'] = dcommunes.total_datimIII\r\n",
    "    wscommunes['I13'] = dcommunes.total_datim_general\r\n",
    "\r\n",
    "    for ridx, row in enumerate(dataframe_to_rows(dcommunes.datim_agyw_prevI(),index=False,header=True),1):\r\n",
    "        for cidx, value in enumerate(row,1):\r\n",
    "            cells = wscommunes.cell(ridx+1,cidx,value)\r\n",
    "            cells.border = thin_border\r\n",
    "            cells\r\n",
    "\r\n",
    "    for ridx, row in enumerate(dataframe_to_rows(dcommunes.datim_agyw_prevII(),index=False,header=True),1):\r\n",
    "        for cidx, value in enumerate(row,1):\r\n",
    "            cells = wscommunes.cell(ridx+9,cidx,value)\r\n",
    "            cells.border = thin_border\r\n",
    "            cells\r\n",
    "\r\n",
    "    for ridx, row in enumerate(dataframe_to_rows(dcommunes.datim_agyw_prevIII(),index=False,header=True),1):\r\n",
    "        for cidx, value in enumerate(row,1):\r\n",
    "            cells = wscommunes.cell(ridx+17,cidx,value)\r\n",
    "            cells.border = thin_border\r\n",
    "            cells\r\n"
   ],
   "outputs": [],
   "metadata": {}
  },
  {
   "cell_type": "code",
   "execution_count": 9,
   "source": [
    "#wb.save(f\"AGYWPREV_{date_du_jour}.xlsx\")\r\n",
    "wb.save(f\"AGYWPREV_{date_du_jour}_Q1.xlsx\")"
   ],
   "outputs": [],
   "metadata": {}
  },
  {
   "cell_type": "markdown",
   "source": [
    "# Arrondissement"
   ],
   "metadata": {}
  },
  {
   "cell_type": "code",
   "execution_count": 10,
   "source": [
    "%%capture\r\n",
    "wb_arrondissment = Workbook()\r\n",
    "ws1 = wb_arrondissment.active\r\n",
    "ws1.title = datim.who_am_i\r\n",
    "\r\n",
    "ws1['A1'].fill = blue_fill\r\n",
    "ws1['A9'].fill = blue_fill\r\n",
    "ws1['A17'].fill = blue_fill\r\n",
    "\r\n",
    "for rows in ws1.iter_rows(min_row=7,max_row=7,min_col=1,max_col=40):\r\n",
    "    for cell in rows:\r\n",
    "        cell.fill = red_fill\r\n",
    "for rows in ws1.iter_rows(min_row=8,max_row=8,min_col=1,max_col=40):\r\n",
    "    for cell in rows:\r\n",
    "        cell.fill = red_fill\r\n",
    "for rows in ws1.iter_rows(min_row=15,max_row=15,min_col=1,max_col=40):\r\n",
    "    for cell in rows:\r\n",
    "        cell.fill = red_fill\r\n",
    "for rows in ws1.iter_rows(min_row=16,max_row=16,min_col=1,max_col=40):\r\n",
    "    for cell in rows:\r\n",
    "        cell.fill = red_fill\r\n",
    "\r\n",
    "ws1.merge_cells(\"B1:C1\")\r\n",
    "ws1.cell(row=1,column=2).value = AgywPrev.datim_titleI()\r\n",
    "ws1.cell(row=1,column=2).font = bold_12\r\n",
    "ws1.cell(row=1,column=2).alignment =  text_datim_title\r\n",
    "\r\n",
    "ws1.merge_cells(\"B9:C9\")\r\n",
    "ws1.cell(row=9,column=2).value = AgywPrev.datim_titleII()\r\n",
    "ws1.cell(row=9,column=2).font = bold_12\r\n",
    "ws1.cell(row=9,column=2).alignment =  text_datim_title\r\n",
    "\r\n",
    "ws1.merge_cells(\"B17:C17\")\r\n",
    "ws1.cell(row=17,column=2).value = AgywPrev.datim_titleIII()\r\n",
    "ws1.cell(row=17,column=2).font = bold_12\r\n",
    "ws1.cell(row=17,column=2).alignment =  text_datim_title\r\n",
    "\r\n",
    "ws1['G5'] = datim.total_datimI\r\n",
    "ws1['G13'] = datim.total_datimII\r\n",
    "ws1['G20'] = datim.total_datimIII\r\n",
    "ws1['I13'] = datim.total_datim_general\r\n",
    "\r\n",
    "rdf_datim_I = dataframe_to_rows(datim.datim_agyw_prevI(),index=False,header=True)\r\n",
    "for ridx, row in enumerate(rdf_datim_I,1):\r\n",
    "    for cidx, value in enumerate(row,1):\r\n",
    "        cells = ws1.cell(ridx+1,cidx,value)\r\n",
    "        cells.border = thin_border\r\n",
    "        cells\r\n",
    "\r\n",
    "rdf_datim_II = dataframe_to_rows(datim.datim_agyw_prevII(),index=False,header=True)\r\n",
    "for ridx, row in enumerate(rdf_datim_II,1):\r\n",
    "    for cidx, value in enumerate(row,1):\r\n",
    "        cells = ws1.cell(ridx+9,cidx,value)\r\n",
    "        cells.border = thin_border\r\n",
    "        cells\r\n",
    "\r\n",
    "rdf_datim_III = dataframe_to_rows(datim.datim_agyw_prevIII(),index=False,header=True)\r\n",
    "for ridx, row in enumerate(rdf_datim_III,1):\r\n",
    "    for cidx, value in enumerate(row,1):\r\n",
    "        cells = ws1.cell(ridx+17,cidx,value)\r\n",
    "        cells.border = thin_border\r\n",
    "        cells\r\n"
   ],
   "outputs": [],
   "metadata": {}
  },
  {
   "cell_type": "code",
   "execution_count": 11,
   "source": [
    "%%capture\r\n",
    "\r\n",
    "wsPAP = wb_arrondissment.create_sheet(\"Arrondissment_PAP\")\r\n",
    "wsPAP['A1'].fill = blue_fill\r\n",
    "wsPAP['A9'].fill = blue_fill\r\n",
    "wsPAP['A17'].fill = blue_fill\r\n",
    "\r\n",
    "for rows in wsPAP.iter_rows(min_row=7,max_row=7,min_col=1,max_col=40):\r\n",
    "    for cell in rows:\r\n",
    "        cell.fill = red_fill\r\n",
    "for rows in wsPAP.iter_rows(min_row=8,max_row=8,min_col=1,max_col=40):\r\n",
    "    for cell in rows:\r\n",
    "        cell.fill = red_fill\r\n",
    "for rows in wsPAP.iter_rows(min_row=15,max_row=15,min_col=1,max_col=40):\r\n",
    "    for cell in rows:\r\n",
    "        cell.fill = red_fill\r\n",
    "for rows in wsPAP.iter_rows(min_row=16,max_row=16,min_col=1,max_col=40):\r\n",
    "    for cell in rows:\r\n",
    "        cell.fill = red_fill\r\n",
    "\r\n",
    "wsPAP.merge_cells(\"B1:C1\")\r\n",
    "wsPAP.cell(row=1,column=2).value = AgywPrev.datim_titleI()\r\n",
    "wsPAP.cell(row=1,column=2).font = bold_12\r\n",
    "wsPAP.cell(row=1,column=2).alignment =  text_datim_title\r\n",
    "\r\n",
    "wsPAP.merge_cells(\"B9:C9\")\r\n",
    "wsPAP.cell(row=9,column=2).value = AgywPrev.datim_titleII()\r\n",
    "wsPAP.cell(row=9,column=2).font = bold_12\r\n",
    "wsPAP.cell(row=9,column=2).alignment =  text_datim_title\r\n",
    "\r\n",
    "wsPAP.merge_cells(\"B17:C17\")\r\n",
    "wsPAP.cell(row=17,column=2).value = AgywPrev.datim_titleIII()\r\n",
    "wsPAP.cell(row=17,column=2).font = bold_12\r\n",
    "wsPAP.cell(row=17,column=2).alignment =  text_datim_title\r\n",
    "\r\n",
    "total_datimI_PAP = sum([\r\n",
    "    datim_PortauPrince.total_datimI,\r\n",
    "    datim_Delmas.total_datimI,\r\n",
    "    datim_Pétionville.total_datimI,\r\n",
    "    datim_Tabarre.total_datimI,\r\n",
    "    datim_Gressier.total_datimI,\r\n",
    "    datim_Kenscoff.total_datimI,\r\n",
    "    datim_Carrefour.total_datimI\r\n",
    "])\r\n",
    "total_datimII_PAP = sum([\r\n",
    "    datim_PortauPrince.total_datimII,\r\n",
    "    datim_Delmas.total_datimII,\r\n",
    "    datim_Pétionville.total_datimII,\r\n",
    "    datim_Tabarre.total_datimII,\r\n",
    "    datim_Gressier.total_datimII,\r\n",
    "    datim_Kenscoff.total_datimII,\r\n",
    "    datim_Carrefour.total_datimII\r\n",
    "])\r\n",
    "total_datimIII_PAP = sum([\r\n",
    "    datim_PortauPrince.total_datimIII,\r\n",
    "    datim_Delmas.total_datimIII,\r\n",
    "    datim_Pétionville.total_datimIII,\r\n",
    "    datim_Tabarre.total_datimIII,\r\n",
    "    datim_Gressier.total_datimIII,\r\n",
    "    datim_Kenscoff.total_datimIII,\r\n",
    "    datim_Carrefour.total_datimIII\r\n",
    "])\r\n",
    "total_datim_general_PAP = sum([\r\n",
    "    datim_PortauPrince.total_datim_general,\r\n",
    "    datim_Delmas.total_datim_general,\r\n",
    "    datim_Pétionville.total_datim_general,\r\n",
    "    datim_Tabarre.total_datim_general,\r\n",
    "    datim_Gressier.total_datim_general,\r\n",
    "    datim_Kenscoff.total_datim_general,\r\n",
    "    datim_Carrefour.total_datim_general\r\n",
    "])\r\n",
    "\r\n",
    "wsPAP['G5'] = total_datimI_PAP\r\n",
    "wsPAP['G13'] = total_datimII_PAP\r\n",
    "wsPAP['G20'] = total_datimIII_PAP\r\n",
    "wsPAP['I13'] = total_datim_general_PAP\r\n",
    "\r\n",
    "\r\n",
    "datimI_PAP = datim_PortauPrince.datim_agyw_prevI().set_index(\"Age\")\\\r\n",
    "    .add(datim_Delmas.datim_agyw_prevI().set_index(\"Age\"))\\\r\n",
    "    .add(datim_Pétionville.datim_agyw_prevI().set_index(\"Age\"))\\\r\n",
    "    .add(datim_Tabarre.datim_agyw_prevI().set_index(\"Age\"))\\\r\n",
    "    .add(datim_Gressier.datim_agyw_prevI().set_index(\"Age\"))\\\r\n",
    "    .add(datim_Kenscoff.datim_agyw_prevI().set_index(\"Age\"))\\\r\n",
    "    .add(datim_Carrefour.datim_agyw_prevI().set_index(\"Age\"))\\\r\n",
    "        .reset_index().rename_axis(None, axis=1)\r\n",
    "        \r\n",
    "datimII_PAP = datim_PortauPrince.datim_agyw_prevII().set_index(\"Age\")\\\r\n",
    "    .add(datim_Delmas.datim_agyw_prevII().set_index(\"Age\"))\\\r\n",
    "    .add(datim_Pétionville.datim_agyw_prevII().set_index(\"Age\"))\\\r\n",
    "    .add(datim_Tabarre.datim_agyw_prevII().set_index(\"Age\"))\\\r\n",
    "    .add(datim_Gressier.datim_agyw_prevII().set_index(\"Age\"))\\\r\n",
    "    .add(datim_Kenscoff.datim_agyw_prevII().set_index(\"Age\"))\\\r\n",
    "    .add(datim_Carrefour.datim_agyw_prevII().set_index(\"Age\"))\\\r\n",
    "        .reset_index().rename_axis(None, axis=1)\r\n",
    "        \r\n",
    "datimIII_PAP = datim_PortauPrince.datim_agyw_prevIII().set_index(\"Age\")\\\r\n",
    "    .add(datim_Delmas.datim_agyw_prevIII().set_index(\"Age\"))\\\r\n",
    "    .add(datim_Pétionville.datim_agyw_prevIII().set_index(\"Age\"))\\\r\n",
    "    .add(datim_Tabarre.datim_agyw_prevIII().set_index(\"Age\"))\\\r\n",
    "    .add(datim_Gressier.datim_agyw_prevIII().set_index(\"Age\"))\\\r\n",
    "    .add(datim_Kenscoff.datim_agyw_prevIII().set_index(\"Age\"))\\\r\n",
    "    .add(datim_Carrefour.datim_agyw_prevIII().set_index(\"Age\"))\\\r\n",
    "        .reset_index().rename_axis(None, axis=1)\r\n",
    "\r\n",
    "rdf_datim_I = dataframe_to_rows(datimI_PAP,index=False,header=True)\r\n",
    "for ridx, row in enumerate(rdf_datim_I,1):\r\n",
    "    for cidx, value in enumerate(row,1):\r\n",
    "        cells = wsPAP.cell(ridx+1,cidx,value)\r\n",
    "        cells.border = thin_border\r\n",
    "        cells\r\n",
    "\r\n",
    "rdf_datim_II = dataframe_to_rows(datimII_PAP,index=False,header=True)\r\n",
    "for ridx, row in enumerate(rdf_datim_II,1):\r\n",
    "    for cidx, value in enumerate(row,1):\r\n",
    "        cells = wsPAP.cell(ridx+9,cidx,value)\r\n",
    "        cells.border = thin_border\r\n",
    "        cells\r\n",
    "\r\n",
    "rdf_datim_III = dataframe_to_rows(datimIII_PAP,index=False,header=True)\r\n",
    "for ridx, row in enumerate(rdf_datim_III,1):\r\n",
    "    for cidx, value in enumerate(row,1):\r\n",
    "        cells = wsPAP.cell(ridx+17,cidx,value)\r\n",
    "        cells.border = thin_border\r\n",
    "        cells\r\n"
   ],
   "outputs": [
    {
     "output_type": "execute_result",
     "data": {
      "text/plain": [
       "<Cell 'Arrondissment_PAP'.A2>"
      ]
     },
     "metadata": {},
     "execution_count": 11
    },
    {
     "output_type": "execute_result",
     "data": {
      "text/plain": [
       "<Cell 'Arrondissment_PAP'.B2>"
      ]
     },
     "metadata": {},
     "execution_count": 11
    },
    {
     "output_type": "execute_result",
     "data": {
      "text/plain": [
       "<Cell 'Arrondissment_PAP'.C2>"
      ]
     },
     "metadata": {},
     "execution_count": 11
    },
    {
     "output_type": "execute_result",
     "data": {
      "text/plain": [
       "<Cell 'Arrondissment_PAP'.D2>"
      ]
     },
     "metadata": {},
     "execution_count": 11
    },
    {
     "output_type": "execute_result",
     "data": {
      "text/plain": [
       "<Cell 'Arrondissment_PAP'.E2>"
      ]
     },
     "metadata": {},
     "execution_count": 11
    },
    {
     "output_type": "execute_result",
     "data": {
      "text/plain": [
       "<Cell 'Arrondissment_PAP'.F2>"
      ]
     },
     "metadata": {},
     "execution_count": 11
    },
    {
     "output_type": "execute_result",
     "data": {
      "text/plain": [
       "<Cell 'Arrondissment_PAP'.A3>"
      ]
     },
     "metadata": {},
     "execution_count": 11
    },
    {
     "output_type": "execute_result",
     "data": {
      "text/plain": [
       "<Cell 'Arrondissment_PAP'.B3>"
      ]
     },
     "metadata": {},
     "execution_count": 11
    },
    {
     "output_type": "execute_result",
     "data": {
      "text/plain": [
       "<Cell 'Arrondissment_PAP'.C3>"
      ]
     },
     "metadata": {},
     "execution_count": 11
    },
    {
     "output_type": "execute_result",
     "data": {
      "text/plain": [
       "<Cell 'Arrondissment_PAP'.D3>"
      ]
     },
     "metadata": {},
     "execution_count": 11
    },
    {
     "output_type": "execute_result",
     "data": {
      "text/plain": [
       "<Cell 'Arrondissment_PAP'.E3>"
      ]
     },
     "metadata": {},
     "execution_count": 11
    },
    {
     "output_type": "execute_result",
     "data": {
      "text/plain": [
       "<Cell 'Arrondissment_PAP'.F3>"
      ]
     },
     "metadata": {},
     "execution_count": 11
    },
    {
     "output_type": "execute_result",
     "data": {
      "text/plain": [
       "<Cell 'Arrondissment_PAP'.A4>"
      ]
     },
     "metadata": {},
     "execution_count": 11
    },
    {
     "output_type": "execute_result",
     "data": {
      "text/plain": [
       "<Cell 'Arrondissment_PAP'.B4>"
      ]
     },
     "metadata": {},
     "execution_count": 11
    },
    {
     "output_type": "execute_result",
     "data": {
      "text/plain": [
       "<Cell 'Arrondissment_PAP'.C4>"
      ]
     },
     "metadata": {},
     "execution_count": 11
    },
    {
     "output_type": "execute_result",
     "data": {
      "text/plain": [
       "<Cell 'Arrondissment_PAP'.D4>"
      ]
     },
     "metadata": {},
     "execution_count": 11
    },
    {
     "output_type": "execute_result",
     "data": {
      "text/plain": [
       "<Cell 'Arrondissment_PAP'.E4>"
      ]
     },
     "metadata": {},
     "execution_count": 11
    },
    {
     "output_type": "execute_result",
     "data": {
      "text/plain": [
       "<Cell 'Arrondissment_PAP'.F4>"
      ]
     },
     "metadata": {},
     "execution_count": 11
    },
    {
     "output_type": "execute_result",
     "data": {
      "text/plain": [
       "<Cell 'Arrondissment_PAP'.A5>"
      ]
     },
     "metadata": {},
     "execution_count": 11
    },
    {
     "output_type": "execute_result",
     "data": {
      "text/plain": [
       "<Cell 'Arrondissment_PAP'.B5>"
      ]
     },
     "metadata": {},
     "execution_count": 11
    },
    {
     "output_type": "execute_result",
     "data": {
      "text/plain": [
       "<Cell 'Arrondissment_PAP'.C5>"
      ]
     },
     "metadata": {},
     "execution_count": 11
    },
    {
     "output_type": "execute_result",
     "data": {
      "text/plain": [
       "<Cell 'Arrondissment_PAP'.D5>"
      ]
     },
     "metadata": {},
     "execution_count": 11
    },
    {
     "output_type": "execute_result",
     "data": {
      "text/plain": [
       "<Cell 'Arrondissment_PAP'.E5>"
      ]
     },
     "metadata": {},
     "execution_count": 11
    },
    {
     "output_type": "execute_result",
     "data": {
      "text/plain": [
       "<Cell 'Arrondissment_PAP'.F5>"
      ]
     },
     "metadata": {},
     "execution_count": 11
    },
    {
     "output_type": "execute_result",
     "data": {
      "text/plain": [
       "<Cell 'Arrondissment_PAP'.A10>"
      ]
     },
     "metadata": {},
     "execution_count": 11
    },
    {
     "output_type": "execute_result",
     "data": {
      "text/plain": [
       "<Cell 'Arrondissment_PAP'.B10>"
      ]
     },
     "metadata": {},
     "execution_count": 11
    },
    {
     "output_type": "execute_result",
     "data": {
      "text/plain": [
       "<Cell 'Arrondissment_PAP'.C10>"
      ]
     },
     "metadata": {},
     "execution_count": 11
    },
    {
     "output_type": "execute_result",
     "data": {
      "text/plain": [
       "<Cell 'Arrondissment_PAP'.D10>"
      ]
     },
     "metadata": {},
     "execution_count": 11
    },
    {
     "output_type": "execute_result",
     "data": {
      "text/plain": [
       "<Cell 'Arrondissment_PAP'.E10>"
      ]
     },
     "metadata": {},
     "execution_count": 11
    },
    {
     "output_type": "execute_result",
     "data": {
      "text/plain": [
       "<Cell 'Arrondissment_PAP'.F10>"
      ]
     },
     "metadata": {},
     "execution_count": 11
    },
    {
     "output_type": "execute_result",
     "data": {
      "text/plain": [
       "<Cell 'Arrondissment_PAP'.A11>"
      ]
     },
     "metadata": {},
     "execution_count": 11
    },
    {
     "output_type": "execute_result",
     "data": {
      "text/plain": [
       "<Cell 'Arrondissment_PAP'.B11>"
      ]
     },
     "metadata": {},
     "execution_count": 11
    },
    {
     "output_type": "execute_result",
     "data": {
      "text/plain": [
       "<Cell 'Arrondissment_PAP'.C11>"
      ]
     },
     "metadata": {},
     "execution_count": 11
    },
    {
     "output_type": "execute_result",
     "data": {
      "text/plain": [
       "<Cell 'Arrondissment_PAP'.D11>"
      ]
     },
     "metadata": {},
     "execution_count": 11
    },
    {
     "output_type": "execute_result",
     "data": {
      "text/plain": [
       "<Cell 'Arrondissment_PAP'.E11>"
      ]
     },
     "metadata": {},
     "execution_count": 11
    },
    {
     "output_type": "execute_result",
     "data": {
      "text/plain": [
       "<Cell 'Arrondissment_PAP'.F11>"
      ]
     },
     "metadata": {},
     "execution_count": 11
    },
    {
     "output_type": "execute_result",
     "data": {
      "text/plain": [
       "<Cell 'Arrondissment_PAP'.A12>"
      ]
     },
     "metadata": {},
     "execution_count": 11
    },
    {
     "output_type": "execute_result",
     "data": {
      "text/plain": [
       "<Cell 'Arrondissment_PAP'.B12>"
      ]
     },
     "metadata": {},
     "execution_count": 11
    },
    {
     "output_type": "execute_result",
     "data": {
      "text/plain": [
       "<Cell 'Arrondissment_PAP'.C12>"
      ]
     },
     "metadata": {},
     "execution_count": 11
    },
    {
     "output_type": "execute_result",
     "data": {
      "text/plain": [
       "<Cell 'Arrondissment_PAP'.D12>"
      ]
     },
     "metadata": {},
     "execution_count": 11
    },
    {
     "output_type": "execute_result",
     "data": {
      "text/plain": [
       "<Cell 'Arrondissment_PAP'.E12>"
      ]
     },
     "metadata": {},
     "execution_count": 11
    },
    {
     "output_type": "execute_result",
     "data": {
      "text/plain": [
       "<Cell 'Arrondissment_PAP'.F12>"
      ]
     },
     "metadata": {},
     "execution_count": 11
    },
    {
     "output_type": "execute_result",
     "data": {
      "text/plain": [
       "<Cell 'Arrondissment_PAP'.A13>"
      ]
     },
     "metadata": {},
     "execution_count": 11
    },
    {
     "output_type": "execute_result",
     "data": {
      "text/plain": [
       "<Cell 'Arrondissment_PAP'.B13>"
      ]
     },
     "metadata": {},
     "execution_count": 11
    },
    {
     "output_type": "execute_result",
     "data": {
      "text/plain": [
       "<Cell 'Arrondissment_PAP'.C13>"
      ]
     },
     "metadata": {},
     "execution_count": 11
    },
    {
     "output_type": "execute_result",
     "data": {
      "text/plain": [
       "<Cell 'Arrondissment_PAP'.D13>"
      ]
     },
     "metadata": {},
     "execution_count": 11
    },
    {
     "output_type": "execute_result",
     "data": {
      "text/plain": [
       "<Cell 'Arrondissment_PAP'.E13>"
      ]
     },
     "metadata": {},
     "execution_count": 11
    },
    {
     "output_type": "execute_result",
     "data": {
      "text/plain": [
       "<Cell 'Arrondissment_PAP'.F13>"
      ]
     },
     "metadata": {},
     "execution_count": 11
    },
    {
     "output_type": "execute_result",
     "data": {
      "text/plain": [
       "<Cell 'Arrondissment_PAP'.A18>"
      ]
     },
     "metadata": {},
     "execution_count": 11
    },
    {
     "output_type": "execute_result",
     "data": {
      "text/plain": [
       "<Cell 'Arrondissment_PAP'.B18>"
      ]
     },
     "metadata": {},
     "execution_count": 11
    },
    {
     "output_type": "execute_result",
     "data": {
      "text/plain": [
       "<Cell 'Arrondissment_PAP'.C18>"
      ]
     },
     "metadata": {},
     "execution_count": 11
    },
    {
     "output_type": "execute_result",
     "data": {
      "text/plain": [
       "<Cell 'Arrondissment_PAP'.D18>"
      ]
     },
     "metadata": {},
     "execution_count": 11
    },
    {
     "output_type": "execute_result",
     "data": {
      "text/plain": [
       "<Cell 'Arrondissment_PAP'.E18>"
      ]
     },
     "metadata": {},
     "execution_count": 11
    },
    {
     "output_type": "execute_result",
     "data": {
      "text/plain": [
       "<Cell 'Arrondissment_PAP'.F18>"
      ]
     },
     "metadata": {},
     "execution_count": 11
    },
    {
     "output_type": "execute_result",
     "data": {
      "text/plain": [
       "<Cell 'Arrondissment_PAP'.A19>"
      ]
     },
     "metadata": {},
     "execution_count": 11
    },
    {
     "output_type": "execute_result",
     "data": {
      "text/plain": [
       "<Cell 'Arrondissment_PAP'.B19>"
      ]
     },
     "metadata": {},
     "execution_count": 11
    },
    {
     "output_type": "execute_result",
     "data": {
      "text/plain": [
       "<Cell 'Arrondissment_PAP'.C19>"
      ]
     },
     "metadata": {},
     "execution_count": 11
    },
    {
     "output_type": "execute_result",
     "data": {
      "text/plain": [
       "<Cell 'Arrondissment_PAP'.D19>"
      ]
     },
     "metadata": {},
     "execution_count": 11
    },
    {
     "output_type": "execute_result",
     "data": {
      "text/plain": [
       "<Cell 'Arrondissment_PAP'.E19>"
      ]
     },
     "metadata": {},
     "execution_count": 11
    },
    {
     "output_type": "execute_result",
     "data": {
      "text/plain": [
       "<Cell 'Arrondissment_PAP'.F19>"
      ]
     },
     "metadata": {},
     "execution_count": 11
    },
    {
     "output_type": "execute_result",
     "data": {
      "text/plain": [
       "<Cell 'Arrondissment_PAP'.A20>"
      ]
     },
     "metadata": {},
     "execution_count": 11
    },
    {
     "output_type": "execute_result",
     "data": {
      "text/plain": [
       "<Cell 'Arrondissment_PAP'.B20>"
      ]
     },
     "metadata": {},
     "execution_count": 11
    },
    {
     "output_type": "execute_result",
     "data": {
      "text/plain": [
       "<Cell 'Arrondissment_PAP'.C20>"
      ]
     },
     "metadata": {},
     "execution_count": 11
    },
    {
     "output_type": "execute_result",
     "data": {
      "text/plain": [
       "<Cell 'Arrondissment_PAP'.D20>"
      ]
     },
     "metadata": {},
     "execution_count": 11
    },
    {
     "output_type": "execute_result",
     "data": {
      "text/plain": [
       "<Cell 'Arrondissment_PAP'.E20>"
      ]
     },
     "metadata": {},
     "execution_count": 11
    },
    {
     "output_type": "execute_result",
     "data": {
      "text/plain": [
       "<Cell 'Arrondissment_PAP'.F20>"
      ]
     },
     "metadata": {},
     "execution_count": 11
    },
    {
     "output_type": "execute_result",
     "data": {
      "text/plain": [
       "<Cell 'Arrondissment_PAP'.A21>"
      ]
     },
     "metadata": {},
     "execution_count": 11
    },
    {
     "output_type": "execute_result",
     "data": {
      "text/plain": [
       "<Cell 'Arrondissment_PAP'.B21>"
      ]
     },
     "metadata": {},
     "execution_count": 11
    },
    {
     "output_type": "execute_result",
     "data": {
      "text/plain": [
       "<Cell 'Arrondissment_PAP'.C21>"
      ]
     },
     "metadata": {},
     "execution_count": 11
    },
    {
     "output_type": "execute_result",
     "data": {
      "text/plain": [
       "<Cell 'Arrondissment_PAP'.D21>"
      ]
     },
     "metadata": {},
     "execution_count": 11
    },
    {
     "output_type": "execute_result",
     "data": {
      "text/plain": [
       "<Cell 'Arrondissment_PAP'.E21>"
      ]
     },
     "metadata": {},
     "execution_count": 11
    },
    {
     "output_type": "execute_result",
     "data": {
      "text/plain": [
       "<Cell 'Arrondissment_PAP'.F21>"
      ]
     },
     "metadata": {},
     "execution_count": 11
    }
   ],
   "metadata": {}
  },
  {
   "cell_type": "code",
   "execution_count": 12,
   "source": [
    "%%capture\r\n",
    "\r\n",
    "wsCAP = wb_arrondissment.create_sheet(\"Arrondissment_CAP\")\r\n",
    "wsCAP['A1'].fill = blue_fill\r\n",
    "wsCAP['A9'].fill = blue_fill\r\n",
    "wsCAP['A17'].fill = blue_fill\r\n",
    "\r\n",
    "for rows in wsCAP.iter_rows(min_row=7,max_row=7,min_col=1,max_col=40):\r\n",
    "    for cell in rows:\r\n",
    "        cell.fill = red_fill\r\n",
    "for rows in wsCAP.iter_rows(min_row=8,max_row=8,min_col=1,max_col=40):\r\n",
    "    for cell in rows:\r\n",
    "        cell.fill = red_fill\r\n",
    "for rows in wsCAP.iter_rows(min_row=15,max_row=15,min_col=1,max_col=40):\r\n",
    "    for cell in rows:\r\n",
    "        cell.fill = red_fill\r\n",
    "for rows in wsCAP.iter_rows(min_row=16,max_row=16,min_col=1,max_col=40):\r\n",
    "    for cell in rows:\r\n",
    "        cell.fill = red_fill\r\n",
    "\r\n",
    "wsCAP.merge_cells(\"B1:C1\")\r\n",
    "wsCAP.cell(row=1,column=2).value = AgywPrev.datim_titleI()\r\n",
    "wsCAP.cell(row=1,column=2).font = bold_12\r\n",
    "wsCAP.cell(row=1,column=2).alignment =  text_datim_title\r\n",
    "\r\n",
    "wsCAP.merge_cells(\"B9:C9\")\r\n",
    "wsCAP.cell(row=9,column=2).value = AgywPrev.datim_titleII()\r\n",
    "wsCAP.cell(row=9,column=2).font = bold_12\r\n",
    "wsCAP.cell(row=9,column=2).alignment =  text_datim_title\r\n",
    "\r\n",
    "wsCAP.merge_cells(\"B17:C17\")\r\n",
    "wsCAP.cell(row=17,column=2).value = AgywPrev.datim_titleIII()\r\n",
    "wsCAP.cell(row=17,column=2).font = bold_12\r\n",
    "wsCAP.cell(row=17,column=2).alignment =  text_datim_title\r\n",
    "\r\n",
    "total_datimI_CAP = sum([\r\n",
    "    datim_CapHaïtien.total_datimI,\r\n",
    "    datim_PlaineduNord.total_datimI,\r\n",
    "    datim_Milot.total_datimI,\r\n",
    "    datim_Limonade.total_datimI,\r\n",
    "    datim_QuartierMorin.total_datimI\r\n",
    "])\r\n",
    "total_datimII_CAP = sum([\r\n",
    "    datim_CapHaïtien.total_datimII,\r\n",
    "    datim_PlaineduNord.total_datimII,\r\n",
    "    datim_Milot.total_datimII,\r\n",
    "    datim_Limonade.total_datimII,\r\n",
    "    datim_QuartierMorin.total_datimII\r\n",
    "])\r\n",
    "total_datimIII_CAP = sum([\r\n",
    "    datim_CapHaïtien.total_datimIII,\r\n",
    "    datim_PlaineduNord.total_datimIII,\r\n",
    "    datim_Milot.total_datimIII,\r\n",
    "    datim_Limonade.total_datimIII,\r\n",
    "    datim_QuartierMorin.total_datimIII\r\n",
    "])\r\n",
    "total_datim_general_CAP = sum([\r\n",
    "    datim_CapHaïtien.total_datim_general,\r\n",
    "    datim_PlaineduNord.total_datim_general,\r\n",
    "    datim_Milot.total_datim_general,\r\n",
    "    datim_Limonade.total_datim_general,\r\n",
    "    datim_QuartierMorin.total_datim_general\r\n",
    "])\r\n",
    "\r\n",
    "wsCAP['G5'] = total_datimI_CAP\r\n",
    "wsCAP['G13'] = total_datimII_CAP\r\n",
    "wsCAP['G20'] = total_datimIII_CAP\r\n",
    "wsCAP['I13'] = total_datim_general_CAP\r\n",
    "\r\n",
    "\r\n",
    "datimI_CAP = datim_CapHaïtien.datim_agyw_prevI().set_index(\"Age\")\\\r\n",
    "    .add(datim_PlaineduNord.datim_agyw_prevI().set_index(\"Age\"))\\\r\n",
    "    .add(datim_Milot.datim_agyw_prevI().set_index(\"Age\"))\\\r\n",
    "    .add(datim_Limonade.datim_agyw_prevI().set_index(\"Age\"))\\\r\n",
    "    .add(datim_QuartierMorin.datim_agyw_prevI().set_index(\"Age\"))\\\r\n",
    "        .reset_index().rename_axis(None, axis=1)\r\n",
    "        \r\n",
    "datimII_CAP = datim_CapHaïtien.datim_agyw_prevII().set_index(\"Age\")\\\r\n",
    "    .add(datim_PlaineduNord.datim_agyw_prevII().set_index(\"Age\"))\\\r\n",
    "    .add(datim_Milot.datim_agyw_prevII().set_index(\"Age\"))\\\r\n",
    "    .add(datim_Limonade.datim_agyw_prevII().set_index(\"Age\"))\\\r\n",
    "    .add(datim_QuartierMorin.datim_agyw_prevII().set_index(\"Age\"))\\\r\n",
    "        .reset_index().rename_axis(None, axis=1)\r\n",
    "        \r\n",
    "datimIII_CAP = datim_CapHaïtien.datim_agyw_prevIII().set_index(\"Age\")\\\r\n",
    "    .add(datim_PlaineduNord.datim_agyw_prevIII().set_index(\"Age\"))\\\r\n",
    "    .add(datim_Milot.datim_agyw_prevI().set_index(\"Age\"))\\\r\n",
    "    .add(datim_Limonade.datim_agyw_prevIII().set_index(\"Age\"))\\\r\n",
    "    .add(datim_QuartierMorin.datim_agyw_prevIII().set_index(\"Age\"))\\\r\n",
    "        .reset_index().rename_axis(None, axis=1)\r\n",
    "\r\n",
    "rdf_datim_I = dataframe_to_rows(datimI_CAP,index=False,header=True)\r\n",
    "for ridx, row in enumerate(rdf_datim_I,1):\r\n",
    "    for cidx, value in enumerate(row,1):\r\n",
    "        cells = wsCAP.cell(ridx+1,cidx,value)\r\n",
    "        cells.border = thin_border\r\n",
    "        cells\r\n",
    "\r\n",
    "rdf_datim_II = dataframe_to_rows(datimII_CAP,index=False,header=True)\r\n",
    "for ridx, row in enumerate(rdf_datim_II,1):\r\n",
    "    for cidx, value in enumerate(row,1):\r\n",
    "        cells = wsCAP.cell(ridx+9,cidx,value)\r\n",
    "        cells.border = thin_border\r\n",
    "        cells\r\n",
    "\r\n",
    "rdf_datim_III = dataframe_to_rows(datimIII_CAP,index=False,header=True)\r\n",
    "for ridx, row in enumerate(rdf_datim_III,1):\r\n",
    "    for cidx, value in enumerate(row,1):\r\n",
    "        cells = wsCAP.cell(ridx+17,cidx,value)\r\n",
    "        cells.border = thin_border\r\n",
    "        cells\r\n"
   ],
   "outputs": [
    {
     "output_type": "execute_result",
     "data": {
      "text/plain": [
       "<Cell 'Arrondissment_CAP'.A2>"
      ]
     },
     "metadata": {},
     "execution_count": 12
    },
    {
     "output_type": "execute_result",
     "data": {
      "text/plain": [
       "<Cell 'Arrondissment_CAP'.B2>"
      ]
     },
     "metadata": {},
     "execution_count": 12
    },
    {
     "output_type": "execute_result",
     "data": {
      "text/plain": [
       "<Cell 'Arrondissment_CAP'.C2>"
      ]
     },
     "metadata": {},
     "execution_count": 12
    },
    {
     "output_type": "execute_result",
     "data": {
      "text/plain": [
       "<Cell 'Arrondissment_CAP'.D2>"
      ]
     },
     "metadata": {},
     "execution_count": 12
    },
    {
     "output_type": "execute_result",
     "data": {
      "text/plain": [
       "<Cell 'Arrondissment_CAP'.E2>"
      ]
     },
     "metadata": {},
     "execution_count": 12
    },
    {
     "output_type": "execute_result",
     "data": {
      "text/plain": [
       "<Cell 'Arrondissment_CAP'.F2>"
      ]
     },
     "metadata": {},
     "execution_count": 12
    },
    {
     "output_type": "execute_result",
     "data": {
      "text/plain": [
       "<Cell 'Arrondissment_CAP'.A3>"
      ]
     },
     "metadata": {},
     "execution_count": 12
    },
    {
     "output_type": "execute_result",
     "data": {
      "text/plain": [
       "<Cell 'Arrondissment_CAP'.B3>"
      ]
     },
     "metadata": {},
     "execution_count": 12
    },
    {
     "output_type": "execute_result",
     "data": {
      "text/plain": [
       "<Cell 'Arrondissment_CAP'.C3>"
      ]
     },
     "metadata": {},
     "execution_count": 12
    },
    {
     "output_type": "execute_result",
     "data": {
      "text/plain": [
       "<Cell 'Arrondissment_CAP'.D3>"
      ]
     },
     "metadata": {},
     "execution_count": 12
    },
    {
     "output_type": "execute_result",
     "data": {
      "text/plain": [
       "<Cell 'Arrondissment_CAP'.E3>"
      ]
     },
     "metadata": {},
     "execution_count": 12
    },
    {
     "output_type": "execute_result",
     "data": {
      "text/plain": [
       "<Cell 'Arrondissment_CAP'.F3>"
      ]
     },
     "metadata": {},
     "execution_count": 12
    },
    {
     "output_type": "execute_result",
     "data": {
      "text/plain": [
       "<Cell 'Arrondissment_CAP'.A4>"
      ]
     },
     "metadata": {},
     "execution_count": 12
    },
    {
     "output_type": "execute_result",
     "data": {
      "text/plain": [
       "<Cell 'Arrondissment_CAP'.B4>"
      ]
     },
     "metadata": {},
     "execution_count": 12
    },
    {
     "output_type": "execute_result",
     "data": {
      "text/plain": [
       "<Cell 'Arrondissment_CAP'.C4>"
      ]
     },
     "metadata": {},
     "execution_count": 12
    },
    {
     "output_type": "execute_result",
     "data": {
      "text/plain": [
       "<Cell 'Arrondissment_CAP'.D4>"
      ]
     },
     "metadata": {},
     "execution_count": 12
    },
    {
     "output_type": "execute_result",
     "data": {
      "text/plain": [
       "<Cell 'Arrondissment_CAP'.E4>"
      ]
     },
     "metadata": {},
     "execution_count": 12
    },
    {
     "output_type": "execute_result",
     "data": {
      "text/plain": [
       "<Cell 'Arrondissment_CAP'.F4>"
      ]
     },
     "metadata": {},
     "execution_count": 12
    },
    {
     "output_type": "execute_result",
     "data": {
      "text/plain": [
       "<Cell 'Arrondissment_CAP'.A5>"
      ]
     },
     "metadata": {},
     "execution_count": 12
    },
    {
     "output_type": "execute_result",
     "data": {
      "text/plain": [
       "<Cell 'Arrondissment_CAP'.B5>"
      ]
     },
     "metadata": {},
     "execution_count": 12
    },
    {
     "output_type": "execute_result",
     "data": {
      "text/plain": [
       "<Cell 'Arrondissment_CAP'.C5>"
      ]
     },
     "metadata": {},
     "execution_count": 12
    },
    {
     "output_type": "execute_result",
     "data": {
      "text/plain": [
       "<Cell 'Arrondissment_CAP'.D5>"
      ]
     },
     "metadata": {},
     "execution_count": 12
    },
    {
     "output_type": "execute_result",
     "data": {
      "text/plain": [
       "<Cell 'Arrondissment_CAP'.E5>"
      ]
     },
     "metadata": {},
     "execution_count": 12
    },
    {
     "output_type": "execute_result",
     "data": {
      "text/plain": [
       "<Cell 'Arrondissment_CAP'.F5>"
      ]
     },
     "metadata": {},
     "execution_count": 12
    },
    {
     "output_type": "execute_result",
     "data": {
      "text/plain": [
       "<Cell 'Arrondissment_CAP'.A10>"
      ]
     },
     "metadata": {},
     "execution_count": 12
    },
    {
     "output_type": "execute_result",
     "data": {
      "text/plain": [
       "<Cell 'Arrondissment_CAP'.B10>"
      ]
     },
     "metadata": {},
     "execution_count": 12
    },
    {
     "output_type": "execute_result",
     "data": {
      "text/plain": [
       "<Cell 'Arrondissment_CAP'.C10>"
      ]
     },
     "metadata": {},
     "execution_count": 12
    },
    {
     "output_type": "execute_result",
     "data": {
      "text/plain": [
       "<Cell 'Arrondissment_CAP'.D10>"
      ]
     },
     "metadata": {},
     "execution_count": 12
    },
    {
     "output_type": "execute_result",
     "data": {
      "text/plain": [
       "<Cell 'Arrondissment_CAP'.E10>"
      ]
     },
     "metadata": {},
     "execution_count": 12
    },
    {
     "output_type": "execute_result",
     "data": {
      "text/plain": [
       "<Cell 'Arrondissment_CAP'.F10>"
      ]
     },
     "metadata": {},
     "execution_count": 12
    },
    {
     "output_type": "execute_result",
     "data": {
      "text/plain": [
       "<Cell 'Arrondissment_CAP'.A11>"
      ]
     },
     "metadata": {},
     "execution_count": 12
    },
    {
     "output_type": "execute_result",
     "data": {
      "text/plain": [
       "<Cell 'Arrondissment_CAP'.B11>"
      ]
     },
     "metadata": {},
     "execution_count": 12
    },
    {
     "output_type": "execute_result",
     "data": {
      "text/plain": [
       "<Cell 'Arrondissment_CAP'.C11>"
      ]
     },
     "metadata": {},
     "execution_count": 12
    },
    {
     "output_type": "execute_result",
     "data": {
      "text/plain": [
       "<Cell 'Arrondissment_CAP'.D11>"
      ]
     },
     "metadata": {},
     "execution_count": 12
    },
    {
     "output_type": "execute_result",
     "data": {
      "text/plain": [
       "<Cell 'Arrondissment_CAP'.E11>"
      ]
     },
     "metadata": {},
     "execution_count": 12
    },
    {
     "output_type": "execute_result",
     "data": {
      "text/plain": [
       "<Cell 'Arrondissment_CAP'.F11>"
      ]
     },
     "metadata": {},
     "execution_count": 12
    },
    {
     "output_type": "execute_result",
     "data": {
      "text/plain": [
       "<Cell 'Arrondissment_CAP'.A12>"
      ]
     },
     "metadata": {},
     "execution_count": 12
    },
    {
     "output_type": "execute_result",
     "data": {
      "text/plain": [
       "<Cell 'Arrondissment_CAP'.B12>"
      ]
     },
     "metadata": {},
     "execution_count": 12
    },
    {
     "output_type": "execute_result",
     "data": {
      "text/plain": [
       "<Cell 'Arrondissment_CAP'.C12>"
      ]
     },
     "metadata": {},
     "execution_count": 12
    },
    {
     "output_type": "execute_result",
     "data": {
      "text/plain": [
       "<Cell 'Arrondissment_CAP'.D12>"
      ]
     },
     "metadata": {},
     "execution_count": 12
    },
    {
     "output_type": "execute_result",
     "data": {
      "text/plain": [
       "<Cell 'Arrondissment_CAP'.E12>"
      ]
     },
     "metadata": {},
     "execution_count": 12
    },
    {
     "output_type": "execute_result",
     "data": {
      "text/plain": [
       "<Cell 'Arrondissment_CAP'.F12>"
      ]
     },
     "metadata": {},
     "execution_count": 12
    },
    {
     "output_type": "execute_result",
     "data": {
      "text/plain": [
       "<Cell 'Arrondissment_CAP'.A13>"
      ]
     },
     "metadata": {},
     "execution_count": 12
    },
    {
     "output_type": "execute_result",
     "data": {
      "text/plain": [
       "<Cell 'Arrondissment_CAP'.B13>"
      ]
     },
     "metadata": {},
     "execution_count": 12
    },
    {
     "output_type": "execute_result",
     "data": {
      "text/plain": [
       "<Cell 'Arrondissment_CAP'.C13>"
      ]
     },
     "metadata": {},
     "execution_count": 12
    },
    {
     "output_type": "execute_result",
     "data": {
      "text/plain": [
       "<Cell 'Arrondissment_CAP'.D13>"
      ]
     },
     "metadata": {},
     "execution_count": 12
    },
    {
     "output_type": "execute_result",
     "data": {
      "text/plain": [
       "<Cell 'Arrondissment_CAP'.E13>"
      ]
     },
     "metadata": {},
     "execution_count": 12
    },
    {
     "output_type": "execute_result",
     "data": {
      "text/plain": [
       "<Cell 'Arrondissment_CAP'.F13>"
      ]
     },
     "metadata": {},
     "execution_count": 12
    },
    {
     "output_type": "execute_result",
     "data": {
      "text/plain": [
       "<Cell 'Arrondissment_CAP'.A18>"
      ]
     },
     "metadata": {},
     "execution_count": 12
    },
    {
     "output_type": "execute_result",
     "data": {
      "text/plain": [
       "<Cell 'Arrondissment_CAP'.B18>"
      ]
     },
     "metadata": {},
     "execution_count": 12
    },
    {
     "output_type": "execute_result",
     "data": {
      "text/plain": [
       "<Cell 'Arrondissment_CAP'.C18>"
      ]
     },
     "metadata": {},
     "execution_count": 12
    },
    {
     "output_type": "execute_result",
     "data": {
      "text/plain": [
       "<Cell 'Arrondissment_CAP'.D18>"
      ]
     },
     "metadata": {},
     "execution_count": 12
    },
    {
     "output_type": "execute_result",
     "data": {
      "text/plain": [
       "<Cell 'Arrondissment_CAP'.E18>"
      ]
     },
     "metadata": {},
     "execution_count": 12
    },
    {
     "output_type": "execute_result",
     "data": {
      "text/plain": [
       "<Cell 'Arrondissment_CAP'.F18>"
      ]
     },
     "metadata": {},
     "execution_count": 12
    },
    {
     "output_type": "execute_result",
     "data": {
      "text/plain": [
       "<Cell 'Arrondissment_CAP'.A19>"
      ]
     },
     "metadata": {},
     "execution_count": 12
    },
    {
     "output_type": "execute_result",
     "data": {
      "text/plain": [
       "<Cell 'Arrondissment_CAP'.B19>"
      ]
     },
     "metadata": {},
     "execution_count": 12
    },
    {
     "output_type": "execute_result",
     "data": {
      "text/plain": [
       "<Cell 'Arrondissment_CAP'.C19>"
      ]
     },
     "metadata": {},
     "execution_count": 12
    },
    {
     "output_type": "execute_result",
     "data": {
      "text/plain": [
       "<Cell 'Arrondissment_CAP'.D19>"
      ]
     },
     "metadata": {},
     "execution_count": 12
    },
    {
     "output_type": "execute_result",
     "data": {
      "text/plain": [
       "<Cell 'Arrondissment_CAP'.E19>"
      ]
     },
     "metadata": {},
     "execution_count": 12
    },
    {
     "output_type": "execute_result",
     "data": {
      "text/plain": [
       "<Cell 'Arrondissment_CAP'.F19>"
      ]
     },
     "metadata": {},
     "execution_count": 12
    },
    {
     "output_type": "execute_result",
     "data": {
      "text/plain": [
       "<Cell 'Arrondissment_CAP'.A20>"
      ]
     },
     "metadata": {},
     "execution_count": 12
    },
    {
     "output_type": "execute_result",
     "data": {
      "text/plain": [
       "<Cell 'Arrondissment_CAP'.B20>"
      ]
     },
     "metadata": {},
     "execution_count": 12
    },
    {
     "output_type": "execute_result",
     "data": {
      "text/plain": [
       "<Cell 'Arrondissment_CAP'.C20>"
      ]
     },
     "metadata": {},
     "execution_count": 12
    },
    {
     "output_type": "execute_result",
     "data": {
      "text/plain": [
       "<Cell 'Arrondissment_CAP'.D20>"
      ]
     },
     "metadata": {},
     "execution_count": 12
    },
    {
     "output_type": "execute_result",
     "data": {
      "text/plain": [
       "<Cell 'Arrondissment_CAP'.E20>"
      ]
     },
     "metadata": {},
     "execution_count": 12
    },
    {
     "output_type": "execute_result",
     "data": {
      "text/plain": [
       "<Cell 'Arrondissment_CAP'.F20>"
      ]
     },
     "metadata": {},
     "execution_count": 12
    },
    {
     "output_type": "execute_result",
     "data": {
      "text/plain": [
       "<Cell 'Arrondissment_CAP'.A21>"
      ]
     },
     "metadata": {},
     "execution_count": 12
    },
    {
     "output_type": "execute_result",
     "data": {
      "text/plain": [
       "<Cell 'Arrondissment_CAP'.B21>"
      ]
     },
     "metadata": {},
     "execution_count": 12
    },
    {
     "output_type": "execute_result",
     "data": {
      "text/plain": [
       "<Cell 'Arrondissment_CAP'.C21>"
      ]
     },
     "metadata": {},
     "execution_count": 12
    },
    {
     "output_type": "execute_result",
     "data": {
      "text/plain": [
       "<Cell 'Arrondissment_CAP'.D21>"
      ]
     },
     "metadata": {},
     "execution_count": 12
    },
    {
     "output_type": "execute_result",
     "data": {
      "text/plain": [
       "<Cell 'Arrondissment_CAP'.E21>"
      ]
     },
     "metadata": {},
     "execution_count": 12
    },
    {
     "output_type": "execute_result",
     "data": {
      "text/plain": [
       "<Cell 'Arrondissment_CAP'.F21>"
      ]
     },
     "metadata": {},
     "execution_count": 12
    }
   ],
   "metadata": {}
  },
  {
   "cell_type": "code",
   "execution_count": 13,
   "source": [
    "%%capture\r\n",
    "\r\n",
    "wsSM = wb_arrondissment.create_sheet(\"Arrondissment_SM\")\r\n",
    "wsSM['A1'].fill = blue_fill\r\n",
    "wsSM['A9'].fill = blue_fill\r\n",
    "wsSM['A17'].fill = blue_fill\r\n",
    "\r\n",
    "for rows in wsSM.iter_rows(min_row=7,max_row=7,min_col=1,max_col=40):\r\n",
    "    for cell in rows:\r\n",
    "        cell.fill = red_fill\r\n",
    "for rows in wsSM.iter_rows(min_row=8,max_row=8,min_col=1,max_col=40):\r\n",
    "    for cell in rows:\r\n",
    "        cell.fill = red_fill\r\n",
    "for rows in wsSM.iter_rows(min_row=15,max_row=15,min_col=1,max_col=40):\r\n",
    "    for cell in rows:\r\n",
    "        cell.fill = red_fill\r\n",
    "for rows in wsSM.iter_rows(min_row=16,max_row=16,min_col=1,max_col=40):\r\n",
    "    for cell in rows:\r\n",
    "        cell.fill = red_fill\r\n",
    "\r\n",
    "wsSM.merge_cells(\"B1:C1\")\r\n",
    "wsSM.cell(row=1,column=2).value = AgywPrev.datim_titleI()\r\n",
    "wsSM.cell(row=1,column=2).font = bold_12\r\n",
    "wsSM.cell(row=1,column=2).alignment =  text_datim_title\r\n",
    "\r\n",
    "wsSM.merge_cells(\"B9:C9\")\r\n",
    "wsSM.cell(row=9,column=2).value = AgywPrev.datim_titleII()\r\n",
    "wsSM.cell(row=9,column=2).font = bold_12\r\n",
    "wsSM.cell(row=9,column=2).alignment =  text_datim_title\r\n",
    "\r\n",
    "wsSM.merge_cells(\"B17:C17\")\r\n",
    "wsSM.cell(row=17,column=2).value = AgywPrev.datim_titleIII()\r\n",
    "wsSM.cell(row=17,column=2).font = bold_12\r\n",
    "wsSM.cell(row=17,column=2).alignment =  text_datim_title\r\n",
    "\r\n",
    "total_datimI_SM = sum([\r\n",
    "    datim_SaintMarc.total_datimI,\r\n",
    "    datim_Verrettes.total_datimI,\r\n",
    "    datim_La_Chapelle.total_datimI,\r\n",
    "    datim_Montrouis.total_datimI,\r\n",
    "    datim_Liancourt.total_datimI\r\n",
    "])\r\n",
    "total_datimII_SM = sum([\r\n",
    "    datim_SaintMarc.total_datimII,\r\n",
    "    datim_Verrettes.total_datimII,\r\n",
    "    datim_La_Chapelle.total_datimII,\r\n",
    "    datim_Montrouis.total_datimII,\r\n",
    "    datim_Liancourt.total_datimII\r\n",
    "])\r\n",
    "total_datimIII_SM = sum([\r\n",
    "    datim_SaintMarc.total_datimIII,\r\n",
    "    datim_Verrettes.total_datimIII,\r\n",
    "    datim_La_Chapelle.total_datimIII,\r\n",
    "    datim_Montrouis.total_datimIII,\r\n",
    "    datim_Liancourt.total_datimIII\r\n",
    "])\r\n",
    "total_datim_general_SM = sum([\r\n",
    "    datim_SaintMarc.total_datim_general,\r\n",
    "    datim_Verrettes.total_datim_general,\r\n",
    "    datim_La_Chapelle.total_datim_general,\r\n",
    "    datim_Montrouis.total_datim_general,\r\n",
    "    datim_Liancourt.total_datim_general\r\n",
    "])\r\n",
    "\r\n",
    "wsSM['G5'] = total_datimI_SM\r\n",
    "wsSM['G13'] = total_datimII_SM\r\n",
    "wsSM['G20'] = total_datimIII_SM\r\n",
    "wsSM['I13'] = total_datim_general_SM\r\n",
    "\r\n",
    "\r\n",
    "datimI_SM = datim_SaintMarc.datim_agyw_prevI().set_index(\"Age\")\\\r\n",
    "    .add(datim_Verrettes.datim_agyw_prevI().set_index(\"Age\"))\\\r\n",
    "    .add(datim_La_Chapelle.datim_agyw_prevI().set_index(\"Age\"))\\\r\n",
    "    .add(datim_Montrouis.datim_agyw_prevI().set_index(\"Age\"))\\\r\n",
    "    .add(datim_Liancourt.datim_agyw_prevI().set_index(\"Age\"))\\\r\n",
    "        .reset_index().rename_axis(None, axis=1)\r\n",
    "        \r\n",
    "datimII_SM = datim_SaintMarc.datim_agyw_prevII().set_index(\"Age\")\\\r\n",
    "    .add(datim_Verrettes.datim_agyw_prevII().set_index(\"Age\"))\\\r\n",
    "    .add(datim_La_Chapelle.datim_agyw_prevII().set_index(\"Age\"))\\\r\n",
    "    .add(datim_Montrouis.datim_agyw_prevII().set_index(\"Age\"))\\\r\n",
    "    .add(datim_Liancourt.datim_agyw_prevII().set_index(\"Age\"))\\\r\n",
    "        .reset_index().rename_axis(None, axis=1)\r\n",
    "        \r\n",
    "datimIII_SM = datim_SaintMarc.datim_agyw_prevIII().set_index(\"Age\")\\\r\n",
    "    .add(datim_Verrettes.datim_agyw_prevIII().set_index(\"Age\"))\\\r\n",
    "    .add(datim_La_Chapelle.datim_agyw_prevIII().set_index(\"Age\"))\\\r\n",
    "    .add(datim_Montrouis.datim_agyw_prevIII().set_index(\"Age\"))\\\r\n",
    "    .add(datim_Liancourt.datim_agyw_prevIII().set_index(\"Age\"))\\\r\n",
    "        .reset_index().rename_axis(None, axis=1)\r\n",
    "\r\n",
    "rdf_datim_I = dataframe_to_rows(datimI_SM,index=False,header=True)\r\n",
    "for ridx, row in enumerate(rdf_datim_I,1):\r\n",
    "    for cidx, value in enumerate(row,1):\r\n",
    "        cells = wsSM.cell(ridx+1,cidx,value)\r\n",
    "        cells.border = thin_border\r\n",
    "        cells\r\n",
    "\r\n",
    "rdf_datim_II = dataframe_to_rows(datimII_SM,index=False,header=True)\r\n",
    "for ridx, row in enumerate(rdf_datim_II,1):\r\n",
    "    for cidx, value in enumerate(row,1):\r\n",
    "        cells = wsSM.cell(ridx+9,cidx,value)\r\n",
    "        cells.border = thin_border\r\n",
    "        cells\r\n",
    "\r\n",
    "rdf_datim_III = dataframe_to_rows(datimIII_SM,index=False,header=True)\r\n",
    "for ridx, row in enumerate(rdf_datim_III,1):\r\n",
    "    for cidx, value in enumerate(row,1):\r\n",
    "        cells = wsSM.cell(ridx+17,cidx,value)\r\n",
    "        cells.border = thin_border\r\n",
    "        cells\r\n"
   ],
   "outputs": [
    {
     "output_type": "execute_result",
     "data": {
      "text/plain": [
       "<Cell 'Arrondissment_SM'.A2>"
      ]
     },
     "metadata": {},
     "execution_count": 13
    },
    {
     "output_type": "execute_result",
     "data": {
      "text/plain": [
       "<Cell 'Arrondissment_SM'.B2>"
      ]
     },
     "metadata": {},
     "execution_count": 13
    },
    {
     "output_type": "execute_result",
     "data": {
      "text/plain": [
       "<Cell 'Arrondissment_SM'.C2>"
      ]
     },
     "metadata": {},
     "execution_count": 13
    },
    {
     "output_type": "execute_result",
     "data": {
      "text/plain": [
       "<Cell 'Arrondissment_SM'.D2>"
      ]
     },
     "metadata": {},
     "execution_count": 13
    },
    {
     "output_type": "execute_result",
     "data": {
      "text/plain": [
       "<Cell 'Arrondissment_SM'.E2>"
      ]
     },
     "metadata": {},
     "execution_count": 13
    },
    {
     "output_type": "execute_result",
     "data": {
      "text/plain": [
       "<Cell 'Arrondissment_SM'.F2>"
      ]
     },
     "metadata": {},
     "execution_count": 13
    },
    {
     "output_type": "execute_result",
     "data": {
      "text/plain": [
       "<Cell 'Arrondissment_SM'.A3>"
      ]
     },
     "metadata": {},
     "execution_count": 13
    },
    {
     "output_type": "execute_result",
     "data": {
      "text/plain": [
       "<Cell 'Arrondissment_SM'.B3>"
      ]
     },
     "metadata": {},
     "execution_count": 13
    },
    {
     "output_type": "execute_result",
     "data": {
      "text/plain": [
       "<Cell 'Arrondissment_SM'.C3>"
      ]
     },
     "metadata": {},
     "execution_count": 13
    },
    {
     "output_type": "execute_result",
     "data": {
      "text/plain": [
       "<Cell 'Arrondissment_SM'.D3>"
      ]
     },
     "metadata": {},
     "execution_count": 13
    },
    {
     "output_type": "execute_result",
     "data": {
      "text/plain": [
       "<Cell 'Arrondissment_SM'.E3>"
      ]
     },
     "metadata": {},
     "execution_count": 13
    },
    {
     "output_type": "execute_result",
     "data": {
      "text/plain": [
       "<Cell 'Arrondissment_SM'.F3>"
      ]
     },
     "metadata": {},
     "execution_count": 13
    },
    {
     "output_type": "execute_result",
     "data": {
      "text/plain": [
       "<Cell 'Arrondissment_SM'.A4>"
      ]
     },
     "metadata": {},
     "execution_count": 13
    },
    {
     "output_type": "execute_result",
     "data": {
      "text/plain": [
       "<Cell 'Arrondissment_SM'.B4>"
      ]
     },
     "metadata": {},
     "execution_count": 13
    },
    {
     "output_type": "execute_result",
     "data": {
      "text/plain": [
       "<Cell 'Arrondissment_SM'.C4>"
      ]
     },
     "metadata": {},
     "execution_count": 13
    },
    {
     "output_type": "execute_result",
     "data": {
      "text/plain": [
       "<Cell 'Arrondissment_SM'.D4>"
      ]
     },
     "metadata": {},
     "execution_count": 13
    },
    {
     "output_type": "execute_result",
     "data": {
      "text/plain": [
       "<Cell 'Arrondissment_SM'.E4>"
      ]
     },
     "metadata": {},
     "execution_count": 13
    },
    {
     "output_type": "execute_result",
     "data": {
      "text/plain": [
       "<Cell 'Arrondissment_SM'.F4>"
      ]
     },
     "metadata": {},
     "execution_count": 13
    },
    {
     "output_type": "execute_result",
     "data": {
      "text/plain": [
       "<Cell 'Arrondissment_SM'.A5>"
      ]
     },
     "metadata": {},
     "execution_count": 13
    },
    {
     "output_type": "execute_result",
     "data": {
      "text/plain": [
       "<Cell 'Arrondissment_SM'.B5>"
      ]
     },
     "metadata": {},
     "execution_count": 13
    },
    {
     "output_type": "execute_result",
     "data": {
      "text/plain": [
       "<Cell 'Arrondissment_SM'.C5>"
      ]
     },
     "metadata": {},
     "execution_count": 13
    },
    {
     "output_type": "execute_result",
     "data": {
      "text/plain": [
       "<Cell 'Arrondissment_SM'.D5>"
      ]
     },
     "metadata": {},
     "execution_count": 13
    },
    {
     "output_type": "execute_result",
     "data": {
      "text/plain": [
       "<Cell 'Arrondissment_SM'.E5>"
      ]
     },
     "metadata": {},
     "execution_count": 13
    },
    {
     "output_type": "execute_result",
     "data": {
      "text/plain": [
       "<Cell 'Arrondissment_SM'.F5>"
      ]
     },
     "metadata": {},
     "execution_count": 13
    },
    {
     "output_type": "execute_result",
     "data": {
      "text/plain": [
       "<Cell 'Arrondissment_SM'.A10>"
      ]
     },
     "metadata": {},
     "execution_count": 13
    },
    {
     "output_type": "execute_result",
     "data": {
      "text/plain": [
       "<Cell 'Arrondissment_SM'.B10>"
      ]
     },
     "metadata": {},
     "execution_count": 13
    },
    {
     "output_type": "execute_result",
     "data": {
      "text/plain": [
       "<Cell 'Arrondissment_SM'.C10>"
      ]
     },
     "metadata": {},
     "execution_count": 13
    },
    {
     "output_type": "execute_result",
     "data": {
      "text/plain": [
       "<Cell 'Arrondissment_SM'.D10>"
      ]
     },
     "metadata": {},
     "execution_count": 13
    },
    {
     "output_type": "execute_result",
     "data": {
      "text/plain": [
       "<Cell 'Arrondissment_SM'.E10>"
      ]
     },
     "metadata": {},
     "execution_count": 13
    },
    {
     "output_type": "execute_result",
     "data": {
      "text/plain": [
       "<Cell 'Arrondissment_SM'.F10>"
      ]
     },
     "metadata": {},
     "execution_count": 13
    },
    {
     "output_type": "execute_result",
     "data": {
      "text/plain": [
       "<Cell 'Arrondissment_SM'.A11>"
      ]
     },
     "metadata": {},
     "execution_count": 13
    },
    {
     "output_type": "execute_result",
     "data": {
      "text/plain": [
       "<Cell 'Arrondissment_SM'.B11>"
      ]
     },
     "metadata": {},
     "execution_count": 13
    },
    {
     "output_type": "execute_result",
     "data": {
      "text/plain": [
       "<Cell 'Arrondissment_SM'.C11>"
      ]
     },
     "metadata": {},
     "execution_count": 13
    },
    {
     "output_type": "execute_result",
     "data": {
      "text/plain": [
       "<Cell 'Arrondissment_SM'.D11>"
      ]
     },
     "metadata": {},
     "execution_count": 13
    },
    {
     "output_type": "execute_result",
     "data": {
      "text/plain": [
       "<Cell 'Arrondissment_SM'.E11>"
      ]
     },
     "metadata": {},
     "execution_count": 13
    },
    {
     "output_type": "execute_result",
     "data": {
      "text/plain": [
       "<Cell 'Arrondissment_SM'.F11>"
      ]
     },
     "metadata": {},
     "execution_count": 13
    },
    {
     "output_type": "execute_result",
     "data": {
      "text/plain": [
       "<Cell 'Arrondissment_SM'.A12>"
      ]
     },
     "metadata": {},
     "execution_count": 13
    },
    {
     "output_type": "execute_result",
     "data": {
      "text/plain": [
       "<Cell 'Arrondissment_SM'.B12>"
      ]
     },
     "metadata": {},
     "execution_count": 13
    },
    {
     "output_type": "execute_result",
     "data": {
      "text/plain": [
       "<Cell 'Arrondissment_SM'.C12>"
      ]
     },
     "metadata": {},
     "execution_count": 13
    },
    {
     "output_type": "execute_result",
     "data": {
      "text/plain": [
       "<Cell 'Arrondissment_SM'.D12>"
      ]
     },
     "metadata": {},
     "execution_count": 13
    },
    {
     "output_type": "execute_result",
     "data": {
      "text/plain": [
       "<Cell 'Arrondissment_SM'.E12>"
      ]
     },
     "metadata": {},
     "execution_count": 13
    },
    {
     "output_type": "execute_result",
     "data": {
      "text/plain": [
       "<Cell 'Arrondissment_SM'.F12>"
      ]
     },
     "metadata": {},
     "execution_count": 13
    },
    {
     "output_type": "execute_result",
     "data": {
      "text/plain": [
       "<Cell 'Arrondissment_SM'.A13>"
      ]
     },
     "metadata": {},
     "execution_count": 13
    },
    {
     "output_type": "execute_result",
     "data": {
      "text/plain": [
       "<Cell 'Arrondissment_SM'.B13>"
      ]
     },
     "metadata": {},
     "execution_count": 13
    },
    {
     "output_type": "execute_result",
     "data": {
      "text/plain": [
       "<Cell 'Arrondissment_SM'.C13>"
      ]
     },
     "metadata": {},
     "execution_count": 13
    },
    {
     "output_type": "execute_result",
     "data": {
      "text/plain": [
       "<Cell 'Arrondissment_SM'.D13>"
      ]
     },
     "metadata": {},
     "execution_count": 13
    },
    {
     "output_type": "execute_result",
     "data": {
      "text/plain": [
       "<Cell 'Arrondissment_SM'.E13>"
      ]
     },
     "metadata": {},
     "execution_count": 13
    },
    {
     "output_type": "execute_result",
     "data": {
      "text/plain": [
       "<Cell 'Arrondissment_SM'.F13>"
      ]
     },
     "metadata": {},
     "execution_count": 13
    },
    {
     "output_type": "execute_result",
     "data": {
      "text/plain": [
       "<Cell 'Arrondissment_SM'.A18>"
      ]
     },
     "metadata": {},
     "execution_count": 13
    },
    {
     "output_type": "execute_result",
     "data": {
      "text/plain": [
       "<Cell 'Arrondissment_SM'.B18>"
      ]
     },
     "metadata": {},
     "execution_count": 13
    },
    {
     "output_type": "execute_result",
     "data": {
      "text/plain": [
       "<Cell 'Arrondissment_SM'.C18>"
      ]
     },
     "metadata": {},
     "execution_count": 13
    },
    {
     "output_type": "execute_result",
     "data": {
      "text/plain": [
       "<Cell 'Arrondissment_SM'.D18>"
      ]
     },
     "metadata": {},
     "execution_count": 13
    },
    {
     "output_type": "execute_result",
     "data": {
      "text/plain": [
       "<Cell 'Arrondissment_SM'.E18>"
      ]
     },
     "metadata": {},
     "execution_count": 13
    },
    {
     "output_type": "execute_result",
     "data": {
      "text/plain": [
       "<Cell 'Arrondissment_SM'.F18>"
      ]
     },
     "metadata": {},
     "execution_count": 13
    },
    {
     "output_type": "execute_result",
     "data": {
      "text/plain": [
       "<Cell 'Arrondissment_SM'.A19>"
      ]
     },
     "metadata": {},
     "execution_count": 13
    },
    {
     "output_type": "execute_result",
     "data": {
      "text/plain": [
       "<Cell 'Arrondissment_SM'.B19>"
      ]
     },
     "metadata": {},
     "execution_count": 13
    },
    {
     "output_type": "execute_result",
     "data": {
      "text/plain": [
       "<Cell 'Arrondissment_SM'.C19>"
      ]
     },
     "metadata": {},
     "execution_count": 13
    },
    {
     "output_type": "execute_result",
     "data": {
      "text/plain": [
       "<Cell 'Arrondissment_SM'.D19>"
      ]
     },
     "metadata": {},
     "execution_count": 13
    },
    {
     "output_type": "execute_result",
     "data": {
      "text/plain": [
       "<Cell 'Arrondissment_SM'.E19>"
      ]
     },
     "metadata": {},
     "execution_count": 13
    },
    {
     "output_type": "execute_result",
     "data": {
      "text/plain": [
       "<Cell 'Arrondissment_SM'.F19>"
      ]
     },
     "metadata": {},
     "execution_count": 13
    },
    {
     "output_type": "execute_result",
     "data": {
      "text/plain": [
       "<Cell 'Arrondissment_SM'.A20>"
      ]
     },
     "metadata": {},
     "execution_count": 13
    },
    {
     "output_type": "execute_result",
     "data": {
      "text/plain": [
       "<Cell 'Arrondissment_SM'.B20>"
      ]
     },
     "metadata": {},
     "execution_count": 13
    },
    {
     "output_type": "execute_result",
     "data": {
      "text/plain": [
       "<Cell 'Arrondissment_SM'.C20>"
      ]
     },
     "metadata": {},
     "execution_count": 13
    },
    {
     "output_type": "execute_result",
     "data": {
      "text/plain": [
       "<Cell 'Arrondissment_SM'.D20>"
      ]
     },
     "metadata": {},
     "execution_count": 13
    },
    {
     "output_type": "execute_result",
     "data": {
      "text/plain": [
       "<Cell 'Arrondissment_SM'.E20>"
      ]
     },
     "metadata": {},
     "execution_count": 13
    },
    {
     "output_type": "execute_result",
     "data": {
      "text/plain": [
       "<Cell 'Arrondissment_SM'.F20>"
      ]
     },
     "metadata": {},
     "execution_count": 13
    },
    {
     "output_type": "execute_result",
     "data": {
      "text/plain": [
       "<Cell 'Arrondissment_SM'.A21>"
      ]
     },
     "metadata": {},
     "execution_count": 13
    },
    {
     "output_type": "execute_result",
     "data": {
      "text/plain": [
       "<Cell 'Arrondissment_SM'.B21>"
      ]
     },
     "metadata": {},
     "execution_count": 13
    },
    {
     "output_type": "execute_result",
     "data": {
      "text/plain": [
       "<Cell 'Arrondissment_SM'.C21>"
      ]
     },
     "metadata": {},
     "execution_count": 13
    },
    {
     "output_type": "execute_result",
     "data": {
      "text/plain": [
       "<Cell 'Arrondissment_SM'.D21>"
      ]
     },
     "metadata": {},
     "execution_count": 13
    },
    {
     "output_type": "execute_result",
     "data": {
      "text/plain": [
       "<Cell 'Arrondissment_SM'.E21>"
      ]
     },
     "metadata": {},
     "execution_count": 13
    },
    {
     "output_type": "execute_result",
     "data": {
      "text/plain": [
       "<Cell 'Arrondissment_SM'.F21>"
      ]
     },
     "metadata": {},
     "execution_count": 13
    }
   ],
   "metadata": {}
  },
  {
   "cell_type": "code",
   "execution_count": 14,
   "source": [
    "%%capture\r\n",
    "\r\n",
    "wsDESS = wb_arrondissment.create_sheet(\"Arrondissment_DESS\")\r\n",
    "wsDESS['A1'].fill = blue_fill\r\n",
    "wsDESS['A9'].fill = blue_fill\r\n",
    "wsDESS['A17'].fill = blue_fill\r\n",
    "\r\n",
    "for rows in wsDESS.iter_rows(min_row=7,max_row=7,min_col=1,max_col=40):\r\n",
    "    for cell in rows:\r\n",
    "        cell.fill = red_fill\r\n",
    "for rows in wsDESS.iter_rows(min_row=8,max_row=8,min_col=1,max_col=40):\r\n",
    "    for cell in rows:\r\n",
    "        cell.fill = red_fill\r\n",
    "for rows in wsDESS.iter_rows(min_row=15,max_row=15,min_col=1,max_col=40):\r\n",
    "    for cell in rows:\r\n",
    "        cell.fill = red_fill\r\n",
    "for rows in wsDESS.iter_rows(min_row=16,max_row=16,min_col=1,max_col=40):\r\n",
    "    for cell in rows:\r\n",
    "        cell.fill = red_fill\r\n",
    "\r\n",
    "wsDESS.merge_cells(\"B1:C1\")\r\n",
    "wsDESS.cell(row=1,column=2).value = AgywPrev.datim_titleI()\r\n",
    "wsDESS.cell(row=1,column=2).font = bold_12\r\n",
    "wsDESS.cell(row=1,column=2).alignment =  text_datim_title\r\n",
    "\r\n",
    "wsDESS.merge_cells(\"B9:C9\")\r\n",
    "wsDESS.cell(row=9,column=2).value = AgywPrev.datim_titleII()\r\n",
    "wsDESS.cell(row=9,column=2).font = bold_12\r\n",
    "wsDESS.cell(row=9,column=2).alignment =  text_datim_title\r\n",
    "\r\n",
    "wsDESS.merge_cells(\"B17:C17\")\r\n",
    "wsDESS.cell(row=17,column=2).value = AgywPrev.datim_titleIII()\r\n",
    "wsDESS.cell(row=17,column=2).font = bold_12\r\n",
    "wsDESS.cell(row=17,column=2).alignment =  text_datim_title\r\n",
    "\r\n",
    "total_datimI_DESS = sum([\r\n",
    "    datim_Dessalines.total_datimI,\r\n",
    "    datim_Desdunes.total_datimI,\r\n",
    "    datim_Grande_Saline.total_datimI,\r\n",
    "    datim_Petite_Rivière_de_lArtibonite.total_datimI\r\n",
    "])\r\n",
    "total_datimII_DESS = sum([\r\n",
    "    datim_Dessalines.total_datimII,\r\n",
    "    datim_Desdunes.total_datimII,\r\n",
    "    datim_Grande_Saline.total_datimII,\r\n",
    "    datim_Petite_Rivière_de_lArtibonite.total_datimII\r\n",
    "])\r\n",
    "total_datimIII_DESS = sum([\r\n",
    "    datim_Dessalines.total_datimIII,\r\n",
    "    datim_Desdunes.total_datimIII,\r\n",
    "    datim_Grande_Saline.total_datimIII,\r\n",
    "    datim_Petite_Rivière_de_lArtibonite.total_datimIII\r\n",
    "])\r\n",
    "total_datim_general_SM = sum([\r\n",
    "    datim_Dessalines.total_datim_general,\r\n",
    "    datim_Desdunes.total_datim_general,\r\n",
    "    datim_Grande_Saline.total_datim_general,\r\n",
    "    datim_Petite_Rivière_de_lArtibonite.total_datim_general\r\n",
    "])\r\n",
    "\r\n",
    "wsDESS['G5'] = total_datimI_DESS\r\n",
    "wsDESS['G13'] = total_datimII_DESS\r\n",
    "wsDESS['G20'] = total_datimIII_DESS\r\n",
    "wsDESS['I13'] = total_datim_general_SM\r\n",
    "\r\n",
    "\r\n",
    "datimI_DESS = datim_Dessalines.datim_agyw_prevI().set_index(\"Age\")\\\r\n",
    "    .add(datim_Desdunes.datim_agyw_prevI().set_index(\"Age\"))\\\r\n",
    "    .add(datim_Grande_Saline.datim_agyw_prevI().set_index(\"Age\"))\\\r\n",
    "    .add(datim_Petite_Rivière_de_lArtibonite.datim_agyw_prevI().set_index(\"Age\"))\\\r\n",
    "        .reset_index().rename_axis(None, axis=1)\r\n",
    "        \r\n",
    "datimII_DESS = datim_Dessalines.datim_agyw_prevII().set_index(\"Age\")\\\r\n",
    "    .add(datim_Desdunes.datim_agyw_prevII().set_index(\"Age\"))\\\r\n",
    "    .add(datim_Grande_Saline.datim_agyw_prevII().set_index(\"Age\"))\\\r\n",
    "    .add(datim_Petite_Rivière_de_lArtibonite.datim_agyw_prevII().set_index(\"Age\"))\\\r\n",
    "        .reset_index().rename_axis(None, axis=1)\r\n",
    "        \r\n",
    "datimIII_DESS = datim_Dessalines.datim_agyw_prevIII().set_index(\"Age\")\\\r\n",
    "    .add(datim_Desdunes.datim_agyw_prevIII().set_index(\"Age\"))\\\r\n",
    "    .add(datim_Grande_Saline.datim_agyw_prevIII().set_index(\"Age\"))\\\r\n",
    "    .add(datim_Petite_Rivière_de_lArtibonite.datim_agyw_prevIII().set_index(\"Age\"))\\\r\n",
    "        .reset_index().rename_axis(None, axis=1)\r\n",
    "\r\n",
    "rdf_datim_I = dataframe_to_rows(datimI_DESS,index=False,header=True)\r\n",
    "for ridx, row in enumerate(rdf_datim_I,1):\r\n",
    "    for cidx, value in enumerate(row,1):\r\n",
    "        cells = wsDESS.cell(ridx+1,cidx,value)\r\n",
    "        cells.border = thin_border\r\n",
    "        cells\r\n",
    "\r\n",
    "rdf_datim_II = dataframe_to_rows(datimII_DESS,index=False,header=True)\r\n",
    "for ridx, row in enumerate(rdf_datim_II,1):\r\n",
    "    for cidx, value in enumerate(row,1):\r\n",
    "        cells = wsDESS.cell(ridx+9,cidx,value)\r\n",
    "        cells.border = thin_border\r\n",
    "        cells\r\n",
    "\r\n",
    "rdf_datim_III = dataframe_to_rows(datimIII_DESS,index=False,header=True)\r\n",
    "for ridx, row in enumerate(rdf_datim_III,1):\r\n",
    "    for cidx, value in enumerate(row,1):\r\n",
    "        cells = wsDESS.cell(ridx+17,cidx,value)\r\n",
    "        cells.border = thin_border\r\n",
    "        cells\r\n"
   ],
   "outputs": [
    {
     "output_type": "execute_result",
     "data": {
      "text/plain": [
       "<Cell 'Arrondissment_DESS'.A2>"
      ]
     },
     "metadata": {},
     "execution_count": 14
    },
    {
     "output_type": "execute_result",
     "data": {
      "text/plain": [
       "<Cell 'Arrondissment_DESS'.B2>"
      ]
     },
     "metadata": {},
     "execution_count": 14
    },
    {
     "output_type": "execute_result",
     "data": {
      "text/plain": [
       "<Cell 'Arrondissment_DESS'.C2>"
      ]
     },
     "metadata": {},
     "execution_count": 14
    },
    {
     "output_type": "execute_result",
     "data": {
      "text/plain": [
       "<Cell 'Arrondissment_DESS'.D2>"
      ]
     },
     "metadata": {},
     "execution_count": 14
    },
    {
     "output_type": "execute_result",
     "data": {
      "text/plain": [
       "<Cell 'Arrondissment_DESS'.E2>"
      ]
     },
     "metadata": {},
     "execution_count": 14
    },
    {
     "output_type": "execute_result",
     "data": {
      "text/plain": [
       "<Cell 'Arrondissment_DESS'.F2>"
      ]
     },
     "metadata": {},
     "execution_count": 14
    },
    {
     "output_type": "execute_result",
     "data": {
      "text/plain": [
       "<Cell 'Arrondissment_DESS'.A3>"
      ]
     },
     "metadata": {},
     "execution_count": 14
    },
    {
     "output_type": "execute_result",
     "data": {
      "text/plain": [
       "<Cell 'Arrondissment_DESS'.B3>"
      ]
     },
     "metadata": {},
     "execution_count": 14
    },
    {
     "output_type": "execute_result",
     "data": {
      "text/plain": [
       "<Cell 'Arrondissment_DESS'.C3>"
      ]
     },
     "metadata": {},
     "execution_count": 14
    },
    {
     "output_type": "execute_result",
     "data": {
      "text/plain": [
       "<Cell 'Arrondissment_DESS'.D3>"
      ]
     },
     "metadata": {},
     "execution_count": 14
    },
    {
     "output_type": "execute_result",
     "data": {
      "text/plain": [
       "<Cell 'Arrondissment_DESS'.E3>"
      ]
     },
     "metadata": {},
     "execution_count": 14
    },
    {
     "output_type": "execute_result",
     "data": {
      "text/plain": [
       "<Cell 'Arrondissment_DESS'.F3>"
      ]
     },
     "metadata": {},
     "execution_count": 14
    },
    {
     "output_type": "execute_result",
     "data": {
      "text/plain": [
       "<Cell 'Arrondissment_DESS'.A4>"
      ]
     },
     "metadata": {},
     "execution_count": 14
    },
    {
     "output_type": "execute_result",
     "data": {
      "text/plain": [
       "<Cell 'Arrondissment_DESS'.B4>"
      ]
     },
     "metadata": {},
     "execution_count": 14
    },
    {
     "output_type": "execute_result",
     "data": {
      "text/plain": [
       "<Cell 'Arrondissment_DESS'.C4>"
      ]
     },
     "metadata": {},
     "execution_count": 14
    },
    {
     "output_type": "execute_result",
     "data": {
      "text/plain": [
       "<Cell 'Arrondissment_DESS'.D4>"
      ]
     },
     "metadata": {},
     "execution_count": 14
    },
    {
     "output_type": "execute_result",
     "data": {
      "text/plain": [
       "<Cell 'Arrondissment_DESS'.E4>"
      ]
     },
     "metadata": {},
     "execution_count": 14
    },
    {
     "output_type": "execute_result",
     "data": {
      "text/plain": [
       "<Cell 'Arrondissment_DESS'.F4>"
      ]
     },
     "metadata": {},
     "execution_count": 14
    },
    {
     "output_type": "execute_result",
     "data": {
      "text/plain": [
       "<Cell 'Arrondissment_DESS'.A5>"
      ]
     },
     "metadata": {},
     "execution_count": 14
    },
    {
     "output_type": "execute_result",
     "data": {
      "text/plain": [
       "<Cell 'Arrondissment_DESS'.B5>"
      ]
     },
     "metadata": {},
     "execution_count": 14
    },
    {
     "output_type": "execute_result",
     "data": {
      "text/plain": [
       "<Cell 'Arrondissment_DESS'.C5>"
      ]
     },
     "metadata": {},
     "execution_count": 14
    },
    {
     "output_type": "execute_result",
     "data": {
      "text/plain": [
       "<Cell 'Arrondissment_DESS'.D5>"
      ]
     },
     "metadata": {},
     "execution_count": 14
    },
    {
     "output_type": "execute_result",
     "data": {
      "text/plain": [
       "<Cell 'Arrondissment_DESS'.E5>"
      ]
     },
     "metadata": {},
     "execution_count": 14
    },
    {
     "output_type": "execute_result",
     "data": {
      "text/plain": [
       "<Cell 'Arrondissment_DESS'.F5>"
      ]
     },
     "metadata": {},
     "execution_count": 14
    },
    {
     "output_type": "execute_result",
     "data": {
      "text/plain": [
       "<Cell 'Arrondissment_DESS'.A10>"
      ]
     },
     "metadata": {},
     "execution_count": 14
    },
    {
     "output_type": "execute_result",
     "data": {
      "text/plain": [
       "<Cell 'Arrondissment_DESS'.B10>"
      ]
     },
     "metadata": {},
     "execution_count": 14
    },
    {
     "output_type": "execute_result",
     "data": {
      "text/plain": [
       "<Cell 'Arrondissment_DESS'.C10>"
      ]
     },
     "metadata": {},
     "execution_count": 14
    },
    {
     "output_type": "execute_result",
     "data": {
      "text/plain": [
       "<Cell 'Arrondissment_DESS'.D10>"
      ]
     },
     "metadata": {},
     "execution_count": 14
    },
    {
     "output_type": "execute_result",
     "data": {
      "text/plain": [
       "<Cell 'Arrondissment_DESS'.E10>"
      ]
     },
     "metadata": {},
     "execution_count": 14
    },
    {
     "output_type": "execute_result",
     "data": {
      "text/plain": [
       "<Cell 'Arrondissment_DESS'.F10>"
      ]
     },
     "metadata": {},
     "execution_count": 14
    },
    {
     "output_type": "execute_result",
     "data": {
      "text/plain": [
       "<Cell 'Arrondissment_DESS'.A11>"
      ]
     },
     "metadata": {},
     "execution_count": 14
    },
    {
     "output_type": "execute_result",
     "data": {
      "text/plain": [
       "<Cell 'Arrondissment_DESS'.B11>"
      ]
     },
     "metadata": {},
     "execution_count": 14
    },
    {
     "output_type": "execute_result",
     "data": {
      "text/plain": [
       "<Cell 'Arrondissment_DESS'.C11>"
      ]
     },
     "metadata": {},
     "execution_count": 14
    },
    {
     "output_type": "execute_result",
     "data": {
      "text/plain": [
       "<Cell 'Arrondissment_DESS'.D11>"
      ]
     },
     "metadata": {},
     "execution_count": 14
    },
    {
     "output_type": "execute_result",
     "data": {
      "text/plain": [
       "<Cell 'Arrondissment_DESS'.E11>"
      ]
     },
     "metadata": {},
     "execution_count": 14
    },
    {
     "output_type": "execute_result",
     "data": {
      "text/plain": [
       "<Cell 'Arrondissment_DESS'.F11>"
      ]
     },
     "metadata": {},
     "execution_count": 14
    },
    {
     "output_type": "execute_result",
     "data": {
      "text/plain": [
       "<Cell 'Arrondissment_DESS'.A12>"
      ]
     },
     "metadata": {},
     "execution_count": 14
    },
    {
     "output_type": "execute_result",
     "data": {
      "text/plain": [
       "<Cell 'Arrondissment_DESS'.B12>"
      ]
     },
     "metadata": {},
     "execution_count": 14
    },
    {
     "output_type": "execute_result",
     "data": {
      "text/plain": [
       "<Cell 'Arrondissment_DESS'.C12>"
      ]
     },
     "metadata": {},
     "execution_count": 14
    },
    {
     "output_type": "execute_result",
     "data": {
      "text/plain": [
       "<Cell 'Arrondissment_DESS'.D12>"
      ]
     },
     "metadata": {},
     "execution_count": 14
    },
    {
     "output_type": "execute_result",
     "data": {
      "text/plain": [
       "<Cell 'Arrondissment_DESS'.E12>"
      ]
     },
     "metadata": {},
     "execution_count": 14
    },
    {
     "output_type": "execute_result",
     "data": {
      "text/plain": [
       "<Cell 'Arrondissment_DESS'.F12>"
      ]
     },
     "metadata": {},
     "execution_count": 14
    },
    {
     "output_type": "execute_result",
     "data": {
      "text/plain": [
       "<Cell 'Arrondissment_DESS'.A13>"
      ]
     },
     "metadata": {},
     "execution_count": 14
    },
    {
     "output_type": "execute_result",
     "data": {
      "text/plain": [
       "<Cell 'Arrondissment_DESS'.B13>"
      ]
     },
     "metadata": {},
     "execution_count": 14
    },
    {
     "output_type": "execute_result",
     "data": {
      "text/plain": [
       "<Cell 'Arrondissment_DESS'.C13>"
      ]
     },
     "metadata": {},
     "execution_count": 14
    },
    {
     "output_type": "execute_result",
     "data": {
      "text/plain": [
       "<Cell 'Arrondissment_DESS'.D13>"
      ]
     },
     "metadata": {},
     "execution_count": 14
    },
    {
     "output_type": "execute_result",
     "data": {
      "text/plain": [
       "<Cell 'Arrondissment_DESS'.E13>"
      ]
     },
     "metadata": {},
     "execution_count": 14
    },
    {
     "output_type": "execute_result",
     "data": {
      "text/plain": [
       "<Cell 'Arrondissment_DESS'.F13>"
      ]
     },
     "metadata": {},
     "execution_count": 14
    },
    {
     "output_type": "execute_result",
     "data": {
      "text/plain": [
       "<Cell 'Arrondissment_DESS'.A18>"
      ]
     },
     "metadata": {},
     "execution_count": 14
    },
    {
     "output_type": "execute_result",
     "data": {
      "text/plain": [
       "<Cell 'Arrondissment_DESS'.B18>"
      ]
     },
     "metadata": {},
     "execution_count": 14
    },
    {
     "output_type": "execute_result",
     "data": {
      "text/plain": [
       "<Cell 'Arrondissment_DESS'.C18>"
      ]
     },
     "metadata": {},
     "execution_count": 14
    },
    {
     "output_type": "execute_result",
     "data": {
      "text/plain": [
       "<Cell 'Arrondissment_DESS'.D18>"
      ]
     },
     "metadata": {},
     "execution_count": 14
    },
    {
     "output_type": "execute_result",
     "data": {
      "text/plain": [
       "<Cell 'Arrondissment_DESS'.E18>"
      ]
     },
     "metadata": {},
     "execution_count": 14
    },
    {
     "output_type": "execute_result",
     "data": {
      "text/plain": [
       "<Cell 'Arrondissment_DESS'.F18>"
      ]
     },
     "metadata": {},
     "execution_count": 14
    },
    {
     "output_type": "execute_result",
     "data": {
      "text/plain": [
       "<Cell 'Arrondissment_DESS'.A19>"
      ]
     },
     "metadata": {},
     "execution_count": 14
    },
    {
     "output_type": "execute_result",
     "data": {
      "text/plain": [
       "<Cell 'Arrondissment_DESS'.B19>"
      ]
     },
     "metadata": {},
     "execution_count": 14
    },
    {
     "output_type": "execute_result",
     "data": {
      "text/plain": [
       "<Cell 'Arrondissment_DESS'.C19>"
      ]
     },
     "metadata": {},
     "execution_count": 14
    },
    {
     "output_type": "execute_result",
     "data": {
      "text/plain": [
       "<Cell 'Arrondissment_DESS'.D19>"
      ]
     },
     "metadata": {},
     "execution_count": 14
    },
    {
     "output_type": "execute_result",
     "data": {
      "text/plain": [
       "<Cell 'Arrondissment_DESS'.E19>"
      ]
     },
     "metadata": {},
     "execution_count": 14
    },
    {
     "output_type": "execute_result",
     "data": {
      "text/plain": [
       "<Cell 'Arrondissment_DESS'.F19>"
      ]
     },
     "metadata": {},
     "execution_count": 14
    },
    {
     "output_type": "execute_result",
     "data": {
      "text/plain": [
       "<Cell 'Arrondissment_DESS'.A20>"
      ]
     },
     "metadata": {},
     "execution_count": 14
    },
    {
     "output_type": "execute_result",
     "data": {
      "text/plain": [
       "<Cell 'Arrondissment_DESS'.B20>"
      ]
     },
     "metadata": {},
     "execution_count": 14
    },
    {
     "output_type": "execute_result",
     "data": {
      "text/plain": [
       "<Cell 'Arrondissment_DESS'.C20>"
      ]
     },
     "metadata": {},
     "execution_count": 14
    },
    {
     "output_type": "execute_result",
     "data": {
      "text/plain": [
       "<Cell 'Arrondissment_DESS'.D20>"
      ]
     },
     "metadata": {},
     "execution_count": 14
    },
    {
     "output_type": "execute_result",
     "data": {
      "text/plain": [
       "<Cell 'Arrondissment_DESS'.E20>"
      ]
     },
     "metadata": {},
     "execution_count": 14
    },
    {
     "output_type": "execute_result",
     "data": {
      "text/plain": [
       "<Cell 'Arrondissment_DESS'.F20>"
      ]
     },
     "metadata": {},
     "execution_count": 14
    },
    {
     "output_type": "execute_result",
     "data": {
      "text/plain": [
       "<Cell 'Arrondissment_DESS'.A21>"
      ]
     },
     "metadata": {},
     "execution_count": 14
    },
    {
     "output_type": "execute_result",
     "data": {
      "text/plain": [
       "<Cell 'Arrondissment_DESS'.B21>"
      ]
     },
     "metadata": {},
     "execution_count": 14
    },
    {
     "output_type": "execute_result",
     "data": {
      "text/plain": [
       "<Cell 'Arrondissment_DESS'.C21>"
      ]
     },
     "metadata": {},
     "execution_count": 14
    },
    {
     "output_type": "execute_result",
     "data": {
      "text/plain": [
       "<Cell 'Arrondissment_DESS'.D21>"
      ]
     },
     "metadata": {},
     "execution_count": 14
    },
    {
     "output_type": "execute_result",
     "data": {
      "text/plain": [
       "<Cell 'Arrondissment_DESS'.E21>"
      ]
     },
     "metadata": {},
     "execution_count": 14
    },
    {
     "output_type": "execute_result",
     "data": {
      "text/plain": [
       "<Cell 'Arrondissment_DESS'.F21>"
      ]
     },
     "metadata": {},
     "execution_count": 14
    }
   ],
   "metadata": {}
  },
  {
   "cell_type": "code",
   "execution_count": 15,
   "source": [
    "wb_arrondissment.save(f\"AGYWPREV_ARRONDISSEMENT_{date_du_jour}_Q1.xlsx\")"
   ],
   "outputs": [],
   "metadata": {}
  }
 ],
 "metadata": {
  "orig_nbformat": 4,
  "language_info": {
   "name": "python",
   "version": "3.9.6",
   "mimetype": "text/x-python",
   "codemirror_mode": {
    "name": "ipython",
    "version": 3
   },
   "pygments_lexer": "ipython3",
   "nbconvert_exporter": "python",
   "file_extension": ".py"
  },
  "kernelspec": {
   "name": "python3",
   "display_name": "Python 3.9.6 64-bit"
  },
  "interpreter": {
   "hash": "4534460e0bdca1b390927d45471088fb3501d39abc4e3f2cee293892e17d7fc6"
  }
 },
 "nbformat": 4,
 "nbformat_minor": 2
}