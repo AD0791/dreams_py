{
 "cells": [
  {
   "cell_type": "code",
   "execution_count": 1,
   "metadata": {},
   "outputs": [
    {
     "name": "stderr",
     "output_type": "stream",
     "text": [
      "/Users/ad0791/Desktop/CARIS/dreams_py/new_screened_narrative_info/sn_script.py:167: SettingWithCopyWarning: \n",
      "A value is trying to be set on a copy of a slice from a DataFrame.\n",
      "Try using .loc[row_indexer,col_indexer] = value instead\n",
      "\n",
      "See the caveats in the documentation: https://pandas.pydata.org/pandas-docs/stable/user_guide/indexing.html#returning-a-view-versus-a-copy\n",
      "  to_be_served.interview_date = to_be_served.loc[:, 'interview_date'].apply(\n",
      "/Users/ad0791/Desktop/CARIS/dreams_py/new_screened_narrative_info/sn_script.py:169: SettingWithCopyWarning: \n",
      "A value is trying to be set on a copy of a slice from a DataFrame.\n",
      "Try using .loc[row_indexer,col_indexer] = value instead\n",
      "\n",
      "See the caveats in the documentation: https://pandas.pydata.org/pandas-docs/stable/user_guide/indexing.html#returning-a-view-versus-a-copy\n",
      "  to_be_served.total = to_be_served.total.astype(Int32Dtype())\n"
     ]
    }
   ],
   "source": [
    "from sn_script import to_be_served, sdata, eligible, served\n",
    "from pandas import ExcelWriter, DataFrame\n",
    "import openpyxl\n"
   ]
  },
  {
   "cell_type": "code",
   "execution_count": 2,
   "metadata": {},
   "outputs": [],
   "source": [
    "from IPython.core.interactiveshell import InteractiveShell\n",
    "InteractiveShell.ast_node_interactivity = \"all\"\n"
   ]
  },
  {
   "cell_type": "markdown",
   "metadata": {},
   "source": [
    "## MIN / MAX interview date AGYW"
   ]
  },
  {
   "cell_type": "code",
   "execution_count": 3,
   "metadata": {},
   "outputs": [
    {
     "data": {
      "text/plain": [
       "'1900-07-17'"
      ]
     },
     "execution_count": 3,
     "metadata": {},
     "output_type": "execute_result"
    },
    {
     "data": {
      "text/plain": [
       "'2023-10-15'"
      ]
     },
     "execution_count": 3,
     "metadata": {},
     "output_type": "execute_result"
    }
   ],
   "source": [
    "served.interview_date.min().strftime(\"%Y-%m-%d\")\n",
    "served.interview_date.max().strftime(\"%Y-%m-%d\")\n"
   ]
  },
  {
   "cell_type": "code",
   "execution_count": 4,
   "metadata": {},
   "outputs": [
    {
     "data": {
      "text/plain": [
       "'1900-07-17'"
      ]
     },
     "execution_count": 4,
     "metadata": {},
     "output_type": "execute_result"
    },
    {
     "data": {
      "text/plain": [
       "'2023-10-24'"
      ]
     },
     "execution_count": 4,
     "metadata": {},
     "output_type": "execute_result"
    }
   ],
   "source": [
    "eligible.interview_date.min().strftime(\"%Y-%m-%d\")\n",
    "eligible.interview_date.max().strftime(\"%Y-%m-%d\")\n"
   ]
  },
  {
   "cell_type": "code",
   "execution_count": 5,
   "metadata": {},
   "outputs": [
    {
     "data": {
      "text/plain": [
       "'1994-02-14'"
      ]
     },
     "execution_count": 5,
     "metadata": {},
     "output_type": "execute_result"
    },
    {
     "data": {
      "text/plain": [
       "'2023-10-24'"
      ]
     },
     "execution_count": 5,
     "metadata": {},
     "output_type": "execute_result"
    }
   ],
   "source": [
    "to_be_served.interview_date.min().strftime(\"%Y-%m-%d\")\n",
    "to_be_served.interview_date.max().strftime(\"%Y-%m-%d\")\n"
   ]
  },
  {
   "cell_type": "markdown",
   "metadata": {},
   "source": [
    "## Number of newly enrolled beneficiaries"
   ]
  },
  {
   "cell_type": "code",
   "execution_count": 6,
   "metadata": {},
   "outputs": [
    {
     "data": {
      "text/plain": [
       "8242"
      ]
     },
     "execution_count": 6,
     "metadata": {},
     "output_type": "execute_result"
    },
    {
     "data": {
      "text/plain": [
       "2431"
      ]
     },
     "execution_count": 6,
     "metadata": {},
     "output_type": "execute_result"
    },
    {
     "data": {
      "text/plain": [
       "1777"
      ]
     },
     "execution_count": 6,
     "metadata": {},
     "output_type": "execute_result"
    },
    {
     "data": {
      "text/plain": [
       "2396"
      ]
     },
     "execution_count": 6,
     "metadata": {},
     "output_type": "execute_result"
    },
    {
     "data": {
      "text/plain": [
       "1638"
      ]
     },
     "execution_count": 6,
     "metadata": {},
     "output_type": "execute_result"
    }
   ],
   "source": [
    "\n",
    "eligible_FY23 = eligible[(eligible.interview_date >=\"2022-10-01\") & (eligible.interview_date <=\"2023-09-30\")]\n",
    "eligible_FY23_Q1 = eligible[(eligible.interview_date >=\"2022-10-01\") & (eligible.interview_date <=\"2022-12-31\")]\n",
    "eligible_FY23_Q2 = eligible[(eligible.interview_date >=\"2023-01-01\") & (eligible.interview_date <=\"2023-03-31\")]\n",
    "eligible_FY23_Q3 = eligible[(eligible.interview_date >=\"2023-04-01\") & (eligible.interview_date <=\"2023-06-30\")]\n",
    "eligible_FY23_Q4 = eligible[(eligible.interview_date >=\"2023-07-01\") & (eligible.interview_date <=\"2023-09-30\")]\n",
    "\n",
    "\n",
    "eligible_FY23.shape[0] \n",
    "eligible_FY23_Q1.shape[0]\n",
    "eligible_FY23_Q2.shape[0]\n",
    "eligible_FY23_Q3.shape[0]\n",
    "eligible_FY23_Q4.shape[0]\n"
   ]
  },
  {
   "cell_type": "code",
   "execution_count": 7,
   "metadata": {},
   "outputs": [
    {
     "data": {
      "text/plain": [
       "316"
      ]
     },
     "execution_count": 7,
     "metadata": {},
     "output_type": "execute_result"
    },
    {
     "data": {
      "text/plain": [
       "316"
      ]
     },
     "execution_count": 7,
     "metadata": {},
     "output_type": "execute_result"
    },
    {
     "data": {
      "text/plain": [
       "0"
      ]
     },
     "execution_count": 7,
     "metadata": {},
     "output_type": "execute_result"
    },
    {
     "data": {
      "text/plain": [
       "0"
      ]
     },
     "execution_count": 7,
     "metadata": {},
     "output_type": "execute_result"
    }
   ],
   "source": [
    "eligible_FY24 = eligible[(eligible.interview_date >=\"2023-10-01\") & (eligible.interview_date <=\"2024-09-30\")]\n",
    "eligible_FY24_Q1 = eligible[(eligible.interview_date >=\"2023-10-01\") & (eligible.interview_date <=\"2023-12-31\")]\n",
    "eligible_FY24_Q2 = eligible[(eligible.interview_date >=\"2024-01-01\") & (eligible.interview_date <=\"2024-03-31\")]\n",
    "eligible_FY24_Q3 = eligible[(eligible.interview_date >=\"2024-04-01\") & (eligible.interview_date <=\"2024-06-30\")]\n",
    "eligible_FY24_Q4 = eligible[(eligible.interview_date >=\"2024-07-01\") & (eligible.interview_date <=\"2024-09-30\")]\n",
    "\n",
    "\n",
    "eligible_FY24.shape[0] \n",
    "eligible_FY24_Q1.shape[0]\n",
    "eligible_FY24_Q2.shape[0]\n",
    "eligible_FY24_Q3.shape[0]\n"
   ]
  },
  {
   "cell_type": "markdown",
   "metadata": {},
   "source": [
    "# To be served"
   ]
  },
  {
   "cell_type": "code",
   "execution_count": 8,
   "metadata": {},
   "outputs": [
    {
     "data": {
      "text/plain": [
       "3584"
      ]
     },
     "execution_count": 8,
     "metadata": {},
     "output_type": "execute_result"
    },
    {
     "data": {
      "text/plain": [
       "762"
      ]
     },
     "execution_count": 8,
     "metadata": {},
     "output_type": "execute_result"
    },
    {
     "data": {
      "text/plain": [
       "539"
      ]
     },
     "execution_count": 8,
     "metadata": {},
     "output_type": "execute_result"
    },
    {
     "data": {
      "text/plain": [
       "1268"
      ]
     },
     "execution_count": 8,
     "metadata": {},
     "output_type": "execute_result"
    },
    {
     "data": {
      "text/plain": [
       "1015"
      ]
     },
     "execution_count": 8,
     "metadata": {},
     "output_type": "execute_result"
    }
   ],
   "source": [
    "to_be_served_FY23 = to_be_served[(to_be_served.interview_date >=\"2022-10-01\") & (to_be_served.interview_date <=\"2023-09-30\")]\n",
    "to_be_served_FY23_Q1 = to_be_served[(to_be_served.interview_date >=\"2022-10-01\") & (to_be_served.interview_date <=\"2022-12-31\")]\n",
    "to_be_served_FY23_Q2 = to_be_served[(to_be_served.interview_date >=\"2023-01-01\") & (to_be_served.interview_date <=\"2023-03-31\")]\n",
    "to_be_served_FY23_Q3 = to_be_served[(to_be_served.interview_date >=\"2023-04-01\") & (to_be_served.interview_date <=\"2023-06-30\")]\n",
    "to_be_served_FY23_Q4 = to_be_served[(to_be_served.interview_date >=\"2023-07-01\") & (to_be_served.interview_date <=\"2023-09-30\")]\n",
    "\n",
    "\n",
    "to_be_served_FY23.shape[0] \n",
    "to_be_served_FY23_Q1.shape[0]\n",
    "to_be_served_FY23_Q2.shape[0]\n",
    "to_be_served_FY23_Q3.shape[0]\n",
    "to_be_served_FY23_Q4.shape[0]\n"
   ]
  },
  {
   "cell_type": "code",
   "execution_count": 9,
   "metadata": {},
   "outputs": [
    {
     "data": {
      "text/plain": [
       "224"
      ]
     },
     "execution_count": 9,
     "metadata": {},
     "output_type": "execute_result"
    },
    {
     "data": {
      "text/plain": [
       "224"
      ]
     },
     "execution_count": 9,
     "metadata": {},
     "output_type": "execute_result"
    },
    {
     "data": {
      "text/plain": [
       "0"
      ]
     },
     "execution_count": 9,
     "metadata": {},
     "output_type": "execute_result"
    },
    {
     "data": {
      "text/plain": [
       "0"
      ]
     },
     "execution_count": 9,
     "metadata": {},
     "output_type": "execute_result"
    },
    {
     "data": {
      "text/plain": [
       "0"
      ]
     },
     "execution_count": 9,
     "metadata": {},
     "output_type": "execute_result"
    }
   ],
   "source": [
    "to_be_served_FY24 = to_be_served[(to_be_served.interview_date >=\"2023-10-01\") & (to_be_served.interview_date <=\"2024-09-30\")]\n",
    "to_be_served_FY24_Q1 = to_be_served[(to_be_served.interview_date >=\"2023-10-01\") & (to_be_served.interview_date <=\"2023-12-31\")]\n",
    "to_be_served_FY24_Q2 = to_be_served[(to_be_served.interview_date >=\"2024-01-01\") & (to_be_served.interview_date <=\"2024-03-31\")]\n",
    "to_be_served_FY24_Q3 = to_be_served[(to_be_served.interview_date >=\"2024-04-01\") & (to_be_served.interview_date <=\"2024-06-30\")]\n",
    "to_be_served_FY24_Q4 = to_be_served[(to_be_served.interview_date >=\"2024-07-01\") & (to_be_served.interview_date <=\"2024-09-30\")]\n",
    "\n",
    "\n",
    "to_be_served_FY24.shape[0] \n",
    "to_be_served_FY24_Q1.shape[0]\n",
    "to_be_served_FY24_Q2.shape[0]\n",
    "to_be_served_FY24_Q3.shape[0]\n",
    "to_be_served_FY24_Q4.shape[0]\n"
   ]
  },
  {
   "cell_type": "code",
   "execution_count": null,
   "metadata": {},
   "outputs": [],
   "source": []
  }
 ],
 "metadata": {
  "interpreter": {
   "hash": "b460384b52104c1e5b9cf54bee46a255d22b2bef338f75ac4ad5d48196028d3c"
  },
  "kernelspec": {
   "display_name": "Python 3.10.2 64-bit",
   "language": "python",
   "name": "python3"
  },
  "language_info": {
   "codemirror_mode": {
    "name": "ipython",
    "version": 3
   },
   "file_extension": ".py",
   "mimetype": "text/x-python",
   "name": "python",
   "nbconvert_exporter": "python",
   "pygments_lexer": "ipython3",
   "version": "3.11.2"
  },
  "orig_nbformat": 4
 },
 "nbformat": 4,
 "nbformat_minor": 2
}
