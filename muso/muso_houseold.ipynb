{
 "cells": [
  {
   "cell_type": "code",
   "execution_count": 11,
   "metadata": {},
   "outputs": [],
   "source": [
    "from requests import get\n",
    "from requests.auth import HTTPBasicAuth\n",
    "from IPython.core.interactiveshell import InteractiveShell\n",
    "from pandas import DataFrame\n",
    "\n",
    "\n",
    "\n",
    "InteractiveShell.ast_node_interactivity = \"all\""
   ]
  },
  {
   "cell_type": "code",
   "execution_count": 2,
   "metadata": {},
   "outputs": [
    {
     "name": "stdout",
     "output_type": "stream",
     "text": [
      "{'limit': 1000, 'next': '?xmlns=http%3A%2F%2Fopenrosa.org%2Fformdesigner%2FDD8FE78F-C33C-4D7D-A63B-AEDFF3A85279&limit=1000&offset=1000', 'offset': 0, 'previous': None, 'total_count': 1150}\n"
     ]
    },
    {
     "data": {
      "text/plain": [
       "1150"
      ]
     },
     "execution_count": 2,
     "metadata": {},
     "output_type": "execute_result"
    }
   ],
   "source": [
    "oauth = HTTPBasicAuth('monitoring.evaluation.impactyouth@carisfoundationintl.org','P@$$w0rd!2#4')\n",
    "pay ={\"xmlns\":\"http://openrosa.org/formdesigner/DD8FE78F-C33C-4D7D-A63B-AEDFF3A85279\",\"limit\":1000}\n",
    "forms = get('https://www.commcarehq.org/a/caris-test/api/v0.5/form/',auth=oauth,params=pay).json()\n",
    "__objects = forms[\"objects\"]\n",
    "__meta = forms[\"meta\"]\n",
    "print(__meta)\n",
    "\n",
    "while __meta[\"next\"]:\n",
    "    __forms = get(f\"https://www.commcarehq.org/a/caris-test/api/v0.5/form/{__meta['next']}\",auth=oauth).json()\n",
    "    __objects += __forms[\"objects\"]\n",
    "    __meta = __forms[\"meta\"]\n",
    "\n",
    "len(__objects)"
   ]
  },
  {
   "cell_type": "code",
   "execution_count": 12,
   "metadata": {},
   "outputs": [
    {
     "data": {
      "text/html": [
       "<div>\n",
       "<style scoped>\n",
       "    .dataframe tbody tr th:only-of-type {\n",
       "        vertical-align: middle;\n",
       "    }\n",
       "\n",
       "    .dataframe tbody tr th {\n",
       "        vertical-align: top;\n",
       "    }\n",
       "\n",
       "    .dataframe thead th {\n",
       "        text-align: right;\n",
       "    }\n",
       "</style>\n",
       "<table border=\"1\" class=\"dataframe\">\n",
       "  <thead>\n",
       "    <tr style=\"text-align: right;\">\n",
       "      <th></th>\n",
       "      <th>username</th>\n",
       "      <th>timeEnd</th>\n",
       "    </tr>\n",
       "  </thead>\n",
       "  <tbody>\n",
       "    <tr>\n",
       "      <th>0</th>\n",
       "      <td>5djeff</td>\n",
       "      <td>2022-02-21T20:09:04.285000Z</td>\n",
       "    </tr>\n",
       "    <tr>\n",
       "      <th>1</th>\n",
       "      <td>5djeff</td>\n",
       "      <td>2022-02-21T20:08:34.829000Z</td>\n",
       "    </tr>\n",
       "    <tr>\n",
       "      <th>2</th>\n",
       "      <td>5djeff</td>\n",
       "      <td>2022-02-21T20:08:10.887000Z</td>\n",
       "    </tr>\n",
       "    <tr>\n",
       "      <th>3</th>\n",
       "      <td>5djeff</td>\n",
       "      <td>2022-02-21T20:07:31.388000Z</td>\n",
       "    </tr>\n",
       "    <tr>\n",
       "      <th>4</th>\n",
       "      <td>5djeff</td>\n",
       "      <td>2022-02-21T20:07:05.759000Z</td>\n",
       "    </tr>\n",
       "    <tr>\n",
       "      <th>...</th>\n",
       "      <td>...</td>\n",
       "      <td>...</td>\n",
       "    </tr>\n",
       "    <tr>\n",
       "      <th>1145</th>\n",
       "      <td>mcarthur</td>\n",
       "      <td>2022-02-16T20:26:50.145000Z</td>\n",
       "    </tr>\n",
       "    <tr>\n",
       "      <th>1146</th>\n",
       "      <td>mcarthur</td>\n",
       "      <td>2022-02-16T20:02:48.005000Z</td>\n",
       "    </tr>\n",
       "    <tr>\n",
       "      <th>1147</th>\n",
       "      <td>mcarthur</td>\n",
       "      <td>2022-02-16T20:00:56.130000Z</td>\n",
       "    </tr>\n",
       "    <tr>\n",
       "      <th>1148</th>\n",
       "      <td>mcarthur</td>\n",
       "      <td>2022-02-16T19:23:52.369000Z</td>\n",
       "    </tr>\n",
       "    <tr>\n",
       "      <th>1149</th>\n",
       "      <td>gfaudener</td>\n",
       "      <td>2022-02-16T17:25:28.929000Z</td>\n",
       "    </tr>\n",
       "  </tbody>\n",
       "</table>\n",
       "<p>1150 rows × 2 columns</p>\n",
       "</div>"
      ],
      "text/plain": [
       "       username                      timeEnd\n",
       "0        5djeff  2022-02-21T20:09:04.285000Z\n",
       "1        5djeff  2022-02-21T20:08:34.829000Z\n",
       "2        5djeff  2022-02-21T20:08:10.887000Z\n",
       "3        5djeff  2022-02-21T20:07:31.388000Z\n",
       "4        5djeff  2022-02-21T20:07:05.759000Z\n",
       "...         ...                          ...\n",
       "1145   mcarthur  2022-02-16T20:26:50.145000Z\n",
       "1146   mcarthur  2022-02-16T20:02:48.005000Z\n",
       "1147   mcarthur  2022-02-16T20:00:56.130000Z\n",
       "1148   mcarthur  2022-02-16T19:23:52.369000Z\n",
       "1149  gfaudener  2022-02-16T17:25:28.929000Z\n",
       "\n",
       "[1150 rows x 2 columns]"
      ]
     },
     "execution_count": 12,
     "metadata": {},
     "output_type": "execute_result"
    }
   ],
   "source": [
    "DataFrame(list(\n",
    "    map(\n",
    "        lambda k: {\n",
    "            \"username\":k['metadata']['username'],\n",
    "            \"timeEnd\": k['metadata']['timeEnd']\n",
    "        } \n",
    "        ,__objects\n",
    "    )\n",
    "))"
   ]
  },
  {
   "cell_type": "code",
   "execution_count": null,
   "metadata": {},
   "outputs": [],
   "source": []
  }
 ],
 "metadata": {
  "interpreter": {
   "hash": "b460384b52104c1e5b9cf54bee46a255d22b2bef338f75ac4ad5d48196028d3c"
  },
  "kernelspec": {
   "display_name": "Python 3.10.2 64-bit",
   "language": "python",
   "name": "python3"
  },
  "language_info": {
   "codemirror_mode": {
    "name": "ipython",
    "version": 3
   },
   "file_extension": ".py",
   "mimetype": "text/x-python",
   "name": "python",
   "nbconvert_exporter": "python",
   "pygments_lexer": "ipython3",
   "version": "3.10.2"
  },
  "orig_nbformat": 4
 },
 "nbformat": 4,
 "nbformat_minor": 2
}
