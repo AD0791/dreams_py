{
 "cells": [
  {
   "cell_type": "code",
   "execution_count": 1,
   "source": [
    "from IPython.core.interactiveshell import InteractiveShell\r\n",
    "InteractiveShell.ast_node_interactivity = \"all\"\r\n",
    "\r\n",
    "from base_dreams_session import mastersheet_served,agyw_served, agyw_served_period"
   ],
   "outputs": [],
   "metadata": {}
  },
  {
   "cell_type": "code",
   "execution_count": 2,
   "source": [
    "from numpy import int16\r\n",
    "import pandas as pd"
   ],
   "outputs": [],
   "metadata": {}
  },
  {
   "cell_type": "code",
   "execution_count": 31,
   "source": [
    "mastersheet_served=mastersheet_served.loc[:,~mastersheet_served.columns.duplicated()]\r\n",
    "\r\n",
    "actif_mastersheet = mastersheet_served[mastersheet_served.id_patient.isin(agyw_served_period.id_patient)]\r\n",
    "actif_served =agyw_served[agyw_served.id_patient.isin(agyw_served_period.id_patient)]\r\n",
    "ua_mastersheet = mastersheet_served[~mastersheet_served.id_patient.isin(agyw_served_period.id_patient)]\r\n",
    "ua_served = agyw_served[~agyw_served.id_patient.isin(agyw_served_period.id_patient)]\r\n",
    "\r\n",
    "actif_mastersheet.id_patient.count()\r\n",
    "actif_served.id_patient.count()\r\n",
    "ua_mastersheet.id_patient.count()\r\n",
    "ua_served.id_patient.count()"
   ],
   "outputs": [
    {
     "output_type": "execute_result",
     "data": {
      "text/plain": [
       "12555"
      ]
     },
     "metadata": {},
     "execution_count": 31
    },
    {
     "output_type": "execute_result",
     "data": {
      "text/plain": [
       "12555"
      ]
     },
     "metadata": {},
     "execution_count": 31
    },
    {
     "output_type": "execute_result",
     "data": {
      "text/plain": [
       "17264"
      ]
     },
     "metadata": {},
     "execution_count": 31
    },
    {
     "output_type": "execute_result",
     "data": {
      "text/plain": [
       "15814"
      ]
     },
     "metadata": {},
     "execution_count": 31
    }
   ],
   "metadata": {}
  },
  {
   "cell_type": "code",
   "execution_count": null,
   "source": [],
   "outputs": [],
   "metadata": {}
  }
 ],
 "metadata": {
  "orig_nbformat": 4,
  "language_info": {
   "name": "python",
   "version": "3.9.6",
   "mimetype": "text/x-python",
   "codemirror_mode": {
    "name": "ipython",
    "version": 3
   },
   "pygments_lexer": "ipython3",
   "nbconvert_exporter": "python",
   "file_extension": ".py"
  },
  "kernelspec": {
   "name": "python3",
   "display_name": "Python 3.9.6 64-bit"
  },
  "interpreter": {
   "hash": "4534460e0bdca1b390927d45471088fb3501d39abc4e3f2cee293892e17d7fc6"
  }
 },
 "nbformat": 4,
 "nbformat_minor": 2
}