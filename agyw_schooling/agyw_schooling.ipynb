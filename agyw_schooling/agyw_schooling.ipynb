{
 "cells": [
  {
   "cell_type": "code",
   "execution_count": 1,
   "source": [
    "import os\r\n",
    "from datetime import datetime\r\n",
    "#from datetime import date\r\n",
    "import pymysql\r\n",
    "from sqlalchemy import create_engine\r\n",
    "from decouple import config \r\n",
    "from dotenv import load_dotenv\r\n",
    "import pandas as pd\r\n",
    "import numpy as np"
   ],
   "outputs": [],
   "metadata": {}
  },
  {
   "cell_type": "code",
   "execution_count": 2,
   "source": [
    "load_dotenv()\r\n",
    "# get the environment variables needed\r\n",
    "USER= config('USRCaris')\r\n",
    "PASSWORD= config('PASSCaris')\r\n",
    "HOSTNAME= config('HOSTCaris')\r\n",
    "DBNAME= config('DBCaris')"
   ],
   "outputs": [],
   "metadata": {}
  },
  {
   "cell_type": "code",
   "execution_count": 3,
   "source": [
    "# get the engine to connect and fetch\r\n",
    "engine = create_engine(f\"mysql+pymysql://{USER}:{PASSWORD}@{HOSTNAME}/{DBNAME}\")\r\n",
    "query_1014 = '''\r\n",
    "    SELECT \r\n",
    "    (COALESCE(a.score_2, 0) + COALESCE(a.score_5b, 0) + COALESCE(a.score_6a, 0) + COALESCE(a.score_6c, 0) + COALESCE(a.score_61b, 0) + COALESCE(a.score_17a, 0)) AS schooling_score_total,\r\n",
    "    p.patient_code AS dreams_code,\r\n",
    "    dga.nbr_presence,\r\n",
    "    a.*\r\n",
    "FROM\r\n",
    "    (SELECT \r\n",
    "        CASE\r\n",
    "                WHEN d.paran_ou_vivan = '0' THEN 0\r\n",
    "                WHEN d.paran_ou_vivan = '2' THEN 2\r\n",
    "                WHEN d.paran_ou_vivan = '4' THEN 5\r\n",
    "            END AS score_2,\r\n",
    "            CASE\r\n",
    "                WHEN d.b5_konbyen_fwa_ou_al_dmi_tou_grangou_pandan_kat_dnye_semn_yo = '1' THEN 1\r\n",
    "                WHEN d.b5_konbyen_fwa_ou_al_dmi_tou_grangou_pandan_kat_dnye_semn_yo = '2' THEN 2\r\n",
    "                WHEN d.b5_konbyen_fwa_ou_al_dmi_tou_grangou_pandan_kat_dnye_semn_yo = '3' THEN 5\r\n",
    "            END AS score_5b,\r\n",
    "            CASE\r\n",
    "                WHEN d.a_ske_ou_lekl = '0' THEN 2\r\n",
    "                WHEN d.a_ske_ou_lekl = '6' THEN 0\r\n",
    "            END AS score_6a,\r\n",
    "            d.c6_ske_ou_te_oblije_double_deja = 0 AS score_6c,\r\n",
    "            CASE\r\n",
    "                WHEN d.c6b_kils_ki_peye_lekl_ou_10_14 = '00' THEN 0\r\n",
    "                WHEN d.c6b_kils_ki_peye_lekl_ou_10_14 = '0' THEN 1\r\n",
    "                WHEN d.c6b_kils_ki_peye_lekl_ou_10_14 = '5' THEN 5\r\n",
    "                WHEN d.c6b_kils_ki_peye_lekl_ou_10_14 = '000' THEN - 50\r\n",
    "                WHEN d.c6b_kils_ki_peye_lekl_ou_10_14 = '05' THEN 5\r\n",
    "                WHEN d.c6b_kils_ki_peye_lekl_ou_10_14 = '001' THEN 2\r\n",
    "                WHEN d.c6b_kils_ki_peye_lekl_ou_10_14 = '8' THEN 10\r\n",
    "            END AS score_61b,\r\n",
    "            CASE\r\n",
    "                WHEN d.a17 = '0' THEN 0\r\n",
    "                WHEN d.a17 = '4' THEN 10\r\n",
    "                WHEN d.a17 = '04' THEN 10\r\n",
    "                WHEN d.a17 = '004' THEN 10\r\n",
    "            END AS score_17a,\r\n",
    "            d.*\r\n",
    "    FROM\r\n",
    "        caris_db.dreams_surveys_data d) a\r\n",
    "        LEFT JOIN\r\n",
    "    dream_member dm ON dm.case_id = a.case_id\r\n",
    "        LEFT JOIN\r\n",
    "    patient p ON p.id = dm.id_patient\r\n",
    "        LEFT JOIN\r\n",
    "    (SELECT \r\n",
    "        COUNT(DISTINCT dgs.topic) AS nbr_presence, id_patient\r\n",
    "    FROM\r\n",
    "        dream_group_attendance dga1\r\n",
    "    LEFT JOIN dream_group_session dgs ON dga1.id_group_session = dgs.id\r\n",
    "    WHERE\r\n",
    "        dga1.value = 'P'\r\n",
    "    GROUP BY dga1.id_patient) dga ON dga.id_patient = dm.id_patient\r\n",
    "WHERE\r\n",
    "    a.total > 14\r\n",
    "ORDER BY (a.score_2 + a.score_5b + a.score_6a + a.score_6c + a.score_61b + a.score_17a) DESC\r\n",
    "'''\r\n",
    "\r\n",
    "dreams_schooling_1014 = pd.read_sql_query(query_1014,engine,parse_dates=True)"
   ],
   "outputs": [],
   "metadata": {}
  },
  {
   "cell_type": "code",
   "execution_count": 4,
   "source": [
    "# get the engine to connect and fetch\r\n",
    "query_1518 = '''\r\n",
    "    SELECT \r\n",
    "    (COALESCE(a.score_2, 0) + COALESCE(a.score_5b, 0) + COALESCE(a.score_6a, 0) + COALESCE(a.score_6c, 0) + COALESCE(a.score_61b, 0) + COALESCE(a.score_17a, 0)) AS schooling_score_total,\r\n",
    "    p.patient_code AS dreams_code,\r\n",
    "    dga.nbr_presence,\r\n",
    "    a.*\r\n",
    "FROM\r\n",
    "    (SELECT \r\n",
    "        CASE\r\n",
    "                WHEN d.paran_ou_vivan = '0' THEN 0\r\n",
    "                WHEN d.paran_ou_vivan = '2' THEN 2\r\n",
    "                WHEN d.paran_ou_vivan = '4' THEN 3\r\n",
    "            END AS score_2,\r\n",
    "            CASE\r\n",
    "                WHEN d.b5_konbyen_fwa_ou_al_dmi_tou_grangou_pandan_kat_dnye_semn_yo = '1' THEN 1\r\n",
    "                WHEN d.b5_konbyen_fwa_ou_al_dmi_tou_grangou_pandan_kat_dnye_semn_yo = '2' THEN 2\r\n",
    "                WHEN d.b5_konbyen_fwa_ou_al_dmi_tou_grangou_pandan_kat_dnye_semn_yo = '3' THEN 5\r\n",
    "            END AS score_5b,\r\n",
    "            CASE\r\n",
    "                WHEN d.tranche_age_6a_15_19 = '0' THEN 0\r\n",
    "                WHEN d.tranche_age_6a_15_19 = '3' THEN 2\r\n",
    "            END AS score_6a,\r\n",
    "            d.c6_ske_ou_te_oblije_double_deja  AS score_6c,\r\n",
    "            CASE\r\n",
    "                WHEN d.c6b_Kiles_ki_peye_lekol_ou_Tranche_15_19 = '0' THEN 0\r\n",
    "                WHEN d.c6b_Kiles_ki_peye_lekol_ou_Tranche_15_19 = '00' THEN 1\r\n",
    "                WHEN d.c6b_Kiles_ki_peye_lekol_ou_Tranche_15_19 = '3' THEN 3\r\n",
    "                WHEN d.c6b_Kiles_ki_peye_lekol_ou_Tranche_15_19 = '000' THEN - 50\r\n",
    "                WHEN d.c6b_Kiles_ki_peye_lekol_ou_Tranche_15_19 = '03' THEN 5\r\n",
    "                WHEN d.c6b_Kiles_ki_peye_lekol_ou_Tranche_15_19 = '01' THEN 2\r\n",
    "                WHEN d.c6b_Kiles_ki_peye_lekol_ou_Tranche_15_19 = '6' THEN 10\r\n",
    "            END AS score_61b,\r\n",
    "\t\t\tCASE\r\n",
    "                WHEN d.a17 = '0' THEN 0\r\n",
    "                WHEN d.a17 = '4' THEN 10\r\n",
    "                WHEN d.a17 = '04' THEN 10\r\n",
    "                WHEN d.a17 = '004' THEN 10\r\n",
    "            END AS score_17a,\r\n",
    "            d.*\r\n",
    "    FROM\r\n",
    "        caris_db.dreams_surveys_data d) a\r\n",
    "        LEFT JOIN\r\n",
    "    dream_member dm ON dm.case_id = a.case_id\r\n",
    "        LEFT JOIN\r\n",
    "    patient p ON p.id = dm.id_patient\r\n",
    "        LEFT JOIN\r\n",
    "    (SELECT \r\n",
    "        COUNT(DISTINCT dgs.topic) AS nbr_presence, id_patient\r\n",
    "    FROM\r\n",
    "        dream_group_attendance dga1\r\n",
    "    LEFT JOIN dream_group_session dgs ON dga1.id_group_session = dgs.id\r\n",
    "    WHERE\r\n",
    "        dga1.value = 'P'\r\n",
    "    GROUP BY dga1.id_patient) dga ON dga.id_patient = dm.id_patient\r\n",
    "WHERE\r\n",
    "    a.total > 14\r\n",
    "ORDER BY (a.score_2 + a.score_5b + a.score_6a + a.score_6c + a.score_61b + a.score_17a) DESC\r\n",
    "'''\r\n",
    "\r\n",
    "dreams_schooling_1518 = pd.read_sql_query(query_1518,engine,parse_dates=True)"
   ],
   "outputs": [],
   "metadata": {}
  },
  {
   "cell_type": "code",
   "execution_count": 5,
   "source": [
    "# close the pool of connection\r\n",
    "engine.dispose()"
   ],
   "outputs": [],
   "metadata": {}
  },
  {
   "cell_type": "markdown",
   "source": [
    "## Disponible"
   ],
   "metadata": {}
  },
  {
   "cell_type": "code",
   "execution_count": 6,
   "source": [
    "dreams_schooling_1014.dtypes"
   ],
   "outputs": [
    {
     "output_type": "execute_result",
     "data": {
      "text/plain": [
       "schooling_score_total             int64\n",
       "dreams_code                      object\n",
       "nbr_presence                    float64\n",
       "score_2                           int64\n",
       "score_5b                        float64\n",
       "                              ...      \n",
       "timeEnd                  datetime64[ns]\n",
       "timeStart                datetime64[ns]\n",
       "agent_username                   object\n",
       "created_ad               datetime64[ns]\n",
       "organisation                     object\n",
       "Length: 210, dtype: object"
      ]
     },
     "metadata": {},
     "execution_count": 6
    }
   ],
   "metadata": {}
  },
  {
   "cell_type": "code",
   "execution_count": 7,
   "source": [
    "dreams_schooling_1014.shape"
   ],
   "outputs": [
    {
     "output_type": "execute_result",
     "data": {
      "text/plain": [
       "(40743, 210)"
      ]
     },
     "metadata": {},
     "execution_count": 7
    }
   ],
   "metadata": {}
  },
  {
   "cell_type": "code",
   "execution_count": 8,
   "source": [
    "dreams_schooling_1518.dtypes"
   ],
   "outputs": [
    {
     "output_type": "execute_result",
     "data": {
      "text/plain": [
       "schooling_score_total           float64\n",
       "dreams_code                      object\n",
       "nbr_presence                    float64\n",
       "score_2                           int64\n",
       "score_5b                        float64\n",
       "                              ...      \n",
       "timeEnd                  datetime64[ns]\n",
       "timeStart                datetime64[ns]\n",
       "agent_username                   object\n",
       "created_ad               datetime64[ns]\n",
       "organisation                     object\n",
       "Length: 210, dtype: object"
      ]
     },
     "metadata": {},
     "execution_count": 8
    }
   ],
   "metadata": {}
  },
  {
   "cell_type": "code",
   "execution_count": 9,
   "source": [
    "dreams_schooling_1518.shape"
   ],
   "outputs": [
    {
     "output_type": "execute_result",
     "data": {
      "text/plain": [
       "(40743, 210)"
      ]
     },
     "metadata": {},
     "execution_count": 9
    }
   ],
   "metadata": {}
  },
  {
   "cell_type": "markdown",
   "source": [
    "## Excellence"
   ],
   "metadata": {}
  },
  {
   "cell_type": "code",
   "execution_count": 10,
   "source": [
    "dreams_schooling_1014.to_excel('dreams_schooling_1014.xlsx',index=False,na_rep=\"\")\r\n",
    "dreams_schooling_1518.to_excel('dreams_schooling_1518.xlsx',index=False,na_rep=\"\")"
   ],
   "outputs": [],
   "metadata": {}
  },
  {
   "cell_type": "code",
   "execution_count": 11,
   "source": [
    "dreams_schooling_1014.id.count()"
   ],
   "outputs": [
    {
     "output_type": "execute_result",
     "data": {
      "text/plain": [
       "40743"
      ]
     },
     "metadata": {},
     "execution_count": 11
    }
   ],
   "metadata": {}
  },
  {
   "cell_type": "code",
   "execution_count": 12,
   "source": [
    "\r\n",
    "dreams_schooling_1518.id.count()"
   ],
   "outputs": [
    {
     "output_type": "execute_result",
     "data": {
      "text/plain": [
       "40743"
      ]
     },
     "metadata": {},
     "execution_count": 12
    }
   ],
   "metadata": {}
  },
  {
   "cell_type": "code",
   "execution_count": null,
   "source": [],
   "outputs": [],
   "metadata": {}
  }
 ],
 "metadata": {
  "kernelspec": {
   "name": "python3",
   "display_name": "Python 3.9.7 64-bit"
  },
  "language_info": {
   "codemirror_mode": {
    "name": "ipython",
    "version": 3
   },
   "file_extension": ".py",
   "mimetype": "text/x-python",
   "name": "python",
   "nbconvert_exporter": "python",
   "pygments_lexer": "ipython3",
   "version": "3.9.7"
  },
  "interpreter": {
   "hash": "4534460e0bdca1b390927d45471088fb3501d39abc4e3f2cee293892e17d7fc6"
  }
 },
 "nbformat": 4,
 "nbformat_minor": 5
}