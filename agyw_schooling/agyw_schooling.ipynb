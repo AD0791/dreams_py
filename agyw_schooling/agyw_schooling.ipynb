{
 "cells": [
  {
   "cell_type": "code",
   "execution_count": 1,
   "id": "3fa6539d",
   "metadata": {},
   "outputs": [],
   "source": [
    "import os\n",
    "from datetime import datetime\n",
    "#from datetime import date\n",
    "import pymysql\n",
    "from sqlalchemy import create_engine\n",
    "from decouple import config \n",
    "from dotenv import load_dotenv\n",
    "import pandas as pd\n",
    "import numpy as np"
   ]
  },
  {
   "cell_type": "code",
   "execution_count": 2,
   "id": "6ff936ed",
   "metadata": {},
   "outputs": [],
   "source": [
    "load_dotenv()\n",
    "# get the environment variables needed\n",
    "USER= config('USRCaris')\n",
    "PASSWORD= config('PASSCaris')\n",
    "HOSTNAME= config('HOSTCaris')\n",
    "DBNAME= config('DBCaris')"
   ]
  },
  {
   "cell_type": "code",
   "execution_count": 3,
   "id": "81d1e370",
   "metadata": {},
   "outputs": [],
   "source": [
    "# get the engine to connect and fetch\n",
    "engine = create_engine(f\"mysql+pymysql://{USER}:{PASSWORD}@{HOSTNAME}/{DBNAME}\")\n",
    "query_1014 = '''\n",
    "    SELECT\n",
    "    p.id as id_patient, \n",
    "    (COALESCE(a.score_2, 0) + COALESCE(a.score_5b, 0) + COALESCE(a.score_6a, 0) + COALESCE(a.score_6c, 0) + COALESCE(a.score_61b, 0) + COALESCE(a.score_17a, 0)) AS schooling_score_total,\n",
    "    p.patient_code AS dreams_code,\n",
    "    dga.nbr_presence,\n",
    "    a.*\n",
    "FROM\n",
    "    (SELECT \n",
    "        CASE\n",
    "                WHEN d.paran_ou_vivan = '0' THEN 0\n",
    "                WHEN d.paran_ou_vivan = '2' THEN 2\n",
    "                WHEN d.paran_ou_vivan = '4' THEN 5\n",
    "            END AS score_2,\n",
    "            CASE\n",
    "                WHEN d.b5_konbyen_fwa_ou_al_dmi_tou_grangou_pandan_kat_dnye_semn_yo = '1' THEN 1\n",
    "                WHEN d.b5_konbyen_fwa_ou_al_dmi_tou_grangou_pandan_kat_dnye_semn_yo = '2' THEN 2\n",
    "                WHEN d.b5_konbyen_fwa_ou_al_dmi_tou_grangou_pandan_kat_dnye_semn_yo = '3' THEN 5\n",
    "            END AS score_5b,\n",
    "            CASE\n",
    "                WHEN d.a_ske_ou_lekl = '0' THEN 2\n",
    "                WHEN d.a_ske_ou_lekl = '6' THEN 0\n",
    "            END AS score_6a,\n",
    "            d.c6_ske_ou_te_oblije_double_deja = 0 AS score_6c,\n",
    "            CASE\n",
    "                WHEN d.c6b_kils_ki_peye_lekl_ou_10_14 = '00' THEN 0\n",
    "                WHEN d.c6b_kils_ki_peye_lekl_ou_10_14 = '0' THEN 1\n",
    "                WHEN d.c6b_kils_ki_peye_lekl_ou_10_14 = '5' THEN 5\n",
    "                WHEN d.c6b_kils_ki_peye_lekl_ou_10_14 = '000' THEN - 50\n",
    "                WHEN d.c6b_kils_ki_peye_lekl_ou_10_14 = '05' THEN 5\n",
    "                WHEN d.c6b_kils_ki_peye_lekl_ou_10_14 = '001' THEN 2\n",
    "                WHEN d.c6b_kils_ki_peye_lekl_ou_10_14 = '8' THEN 10\n",
    "            END AS score_61b,\n",
    "            CASE\n",
    "                WHEN d.a17 = '0' THEN 0\n",
    "                WHEN d.a17 = '4' THEN 10\n",
    "                WHEN d.a17 = '04' THEN 10\n",
    "                WHEN d.a17 = '004' THEN 10\n",
    "            END AS score_17a,\n",
    "            d.*\n",
    "    FROM\n",
    "        caris_db.dreams_surveys_data d) a\n",
    "        LEFT JOIN\n",
    "    dream_member dm ON dm.case_id = a.case_id\n",
    "        LEFT JOIN\n",
    "    patient p ON p.id = dm.id_patient\n",
    "        LEFT JOIN\n",
    "    (SELECT \n",
    "        COUNT(DISTINCT dgs.topic) AS nbr_presence, id_patient\n",
    "    FROM\n",
    "        dream_group_attendance dga1\n",
    "    LEFT JOIN dream_group_session dgs ON dga1.id_group_session = dgs.id\n",
    "    WHERE\n",
    "        dga1.value = 'P'\n",
    "    GROUP BY dga1.id_patient) dga ON dga.id_patient = dm.id_patient\n",
    "WHERE\n",
    "    a.total > 14\n",
    "    and \n",
    "    timestampdiff(year,a.nan_ki_dat_ou_fet,now()) between 10 and 14\n",
    "ORDER BY (a.score_2 + a.score_5b + a.score_6a + a.score_6c + a.score_61b + a.score_17a) DESC\n",
    "'''\n",
    "\n",
    "dreams_schooling_1014 = pd.read_sql_query(query_1014,engine,parse_dates=True)"
   ]
  },
  {
   "cell_type": "code",
   "execution_count": 4,
   "id": "cdf42890",
   "metadata": {},
   "outputs": [],
   "source": [
    "# get the engine to connect and fetch\n",
    "query_1518 = '''\n",
    "    SELECT \n",
    "    p.id as id_patient,\n",
    "    (COALESCE(a.score_2, 0) + COALESCE(a.score_5b, 0) + COALESCE(a.score_6a, 0) + COALESCE(a.score_6c, 0) + COALESCE(a.score_61b, 0) + COALESCE(a.score_17a, 0)) AS schooling_score_total,\n",
    "    p.patient_code AS dreams_code,\n",
    "    dga.nbr_presence,\n",
    "    a.*\n",
    "FROM\n",
    "    (SELECT \n",
    "        CASE\n",
    "                WHEN d.paran_ou_vivan = '0' THEN 0\n",
    "                WHEN d.paran_ou_vivan = '2' THEN 2\n",
    "                WHEN d.paran_ou_vivan = '4' THEN 3\n",
    "            END AS score_2,\n",
    "            CASE\n",
    "                WHEN d.b5_konbyen_fwa_ou_al_dmi_tou_grangou_pandan_kat_dnye_semn_yo = '1' THEN 1\n",
    "                WHEN d.b5_konbyen_fwa_ou_al_dmi_tou_grangou_pandan_kat_dnye_semn_yo = '2' THEN 2\n",
    "                WHEN d.b5_konbyen_fwa_ou_al_dmi_tou_grangou_pandan_kat_dnye_semn_yo = '3' THEN 5\n",
    "            END AS score_5b,\n",
    "            CASE\n",
    "                WHEN d.tranche_age_6a_15_19 = '0' THEN 0\n",
    "                WHEN d.tranche_age_6a_15_19 = '3' THEN 2\n",
    "            END AS score_6a,\n",
    "            d.c6_ske_ou_te_oblije_double_deja  AS score_6c,\n",
    "            CASE\n",
    "                WHEN d.c6b_Kiles_ki_peye_lekol_ou_Tranche_15_19 = '0' THEN 0\n",
    "                WHEN d.c6b_Kiles_ki_peye_lekol_ou_Tranche_15_19 = '00' THEN 1\n",
    "                WHEN d.c6b_Kiles_ki_peye_lekol_ou_Tranche_15_19 = '3' THEN 3\n",
    "                WHEN d.c6b_Kiles_ki_peye_lekol_ou_Tranche_15_19 = '000' THEN - 50\n",
    "                WHEN d.c6b_Kiles_ki_peye_lekol_ou_Tranche_15_19 = '03' THEN 5\n",
    "                WHEN d.c6b_Kiles_ki_peye_lekol_ou_Tranche_15_19 = '01' THEN 2\n",
    "                WHEN d.c6b_Kiles_ki_peye_lekol_ou_Tranche_15_19 = '6' THEN 10\n",
    "            END AS score_61b,\n",
    "\t\t\tCASE\n",
    "                WHEN d.a17 = '0' THEN 0\n",
    "                WHEN d.a17 = '4' THEN 10\n",
    "                WHEN d.a17 = '04' THEN 10\n",
    "                WHEN d.a17 = '004' THEN 10\n",
    "            END AS score_17a,\n",
    "            d.*\n",
    "    FROM\n",
    "        caris_db.dreams_surveys_data d) a\n",
    "        LEFT JOIN\n",
    "    dream_member dm ON dm.case_id = a.case_id\n",
    "        LEFT JOIN\n",
    "    patient p ON p.id = dm.id_patient\n",
    "        LEFT JOIN\n",
    "    (SELECT \n",
    "        COUNT(DISTINCT dgs.topic) AS nbr_presence, id_patient\n",
    "    FROM\n",
    "        dream_group_attendance dga1\n",
    "    LEFT JOIN dream_group_session dgs ON dga1.id_group_session = dgs.id\n",
    "    WHERE\n",
    "        dga1.value = 'P'\n",
    "    GROUP BY dga1.id_patient) dga ON dga.id_patient = dm.id_patient\n",
    "WHERE\n",
    "    a.total > 14\n",
    "    and\n",
    "    timestampdiff(year,a.nan_ki_dat_ou_fet,now()) between 15 and 18\n",
    "ORDER BY (a.score_2 + a.score_5b + a.score_6a + a.score_6c + a.score_61b + a.score_17a) DESC\n",
    "'''\n",
    "\n",
    "dreams_schooling_1518 = pd.read_sql_query(query_1518,engine,parse_dates=True)"
   ]
  },
  {
   "cell_type": "code",
   "execution_count": 5,
   "id": "692153b9",
   "metadata": {},
   "outputs": [],
   "source": [
    "# close the pool of connection\n",
    "engine.dispose()"
   ]
  },
  {
   "cell_type": "markdown",
   "id": "9841660f",
   "metadata": {},
   "source": [
    "## Disponible"
   ]
  },
  {
   "cell_type": "code",
   "execution_count": 6,
   "id": "1506642a",
   "metadata": {},
   "outputs": [
    {
     "data": {
      "text/plain": [
       "id_patient                      float64\n",
       "schooling_score_total             int64\n",
       "dreams_code                      object\n",
       "nbr_presence                    float64\n",
       "score_2                           int64\n",
       "                              ...      \n",
       "timeEnd                  datetime64[ns]\n",
       "timeStart                datetime64[ns]\n",
       "agent_username                   object\n",
       "created_ad               datetime64[ns]\n",
       "organisation                     object\n",
       "Length: 211, dtype: object"
      ]
     },
     "execution_count": 6,
     "metadata": {},
     "output_type": "execute_result"
    }
   ],
   "source": [
    "dreams_schooling_1014.dtypes"
   ]
  },
  {
   "cell_type": "code",
   "execution_count": 7,
   "id": "1e668712",
   "metadata": {},
   "outputs": [
    {
     "data": {
      "text/plain": [
       "(17024, 211)"
      ]
     },
     "execution_count": 7,
     "metadata": {},
     "output_type": "execute_result"
    }
   ],
   "source": [
    "dreams_schooling_1014.shape"
   ]
  },
  {
   "cell_type": "code",
   "execution_count": 8,
   "id": "10914d67",
   "metadata": {},
   "outputs": [
    {
     "data": {
      "text/plain": [
       "id_patient                      float64\n",
       "schooling_score_total           float64\n",
       "dreams_code                      object\n",
       "nbr_presence                    float64\n",
       "score_2                           int64\n",
       "                              ...      \n",
       "timeEnd                  datetime64[ns]\n",
       "timeStart                datetime64[ns]\n",
       "agent_username                   object\n",
       "created_ad               datetime64[ns]\n",
       "organisation                     object\n",
       "Length: 211, dtype: object"
      ]
     },
     "execution_count": 8,
     "metadata": {},
     "output_type": "execute_result"
    }
   ],
   "source": [
    "dreams_schooling_1518.dtypes"
   ]
  },
  {
   "cell_type": "code",
   "execution_count": 9,
   "id": "7e1750b3",
   "metadata": {},
   "outputs": [
    {
     "data": {
      "text/plain": [
       "(21345, 211)"
      ]
     },
     "execution_count": 9,
     "metadata": {},
     "output_type": "execute_result"
    }
   ],
   "source": [
    "dreams_schooling_1518.shape"
   ]
  },
  {
   "cell_type": "markdown",
   "id": "f7c8b851",
   "metadata": {},
   "source": [
    "## Excellence"
   ]
  },
  {
   "cell_type": "code",
   "execution_count": 10,
   "id": "0c17c5b6",
   "metadata": {},
   "outputs": [],
   "source": [
    "dreams_schooling_1014.to_excel('dreams_schooling_1014.xlsx',index=False,na_rep=\"\")\n",
    "dreams_schooling_1518.to_excel('dreams_schooling_1518.xlsx',index=False,na_rep=\"\")"
   ]
  },
  {
   "cell_type": "code",
   "execution_count": 11,
   "id": "86f55e90",
   "metadata": {},
   "outputs": [
    {
     "data": {
      "text/plain": [
       "17024"
      ]
     },
     "execution_count": 11,
     "metadata": {},
     "output_type": "execute_result"
    }
   ],
   "source": [
    "dreams_schooling_1014.id.count()"
   ]
  },
  {
   "cell_type": "code",
   "execution_count": 12,
   "id": "81b811dc",
   "metadata": {},
   "outputs": [
    {
     "data": {
      "text/plain": [
       "21345"
      ]
     },
     "execution_count": 12,
     "metadata": {},
     "output_type": "execute_result"
    }
   ],
   "source": [
    "\n",
    "dreams_schooling_1518.id.count()"
   ]
  }
 ],
 "metadata": {
  "kernelspec": {
   "display_name": "Python 3.10.8 64-bit",
   "language": "python",
   "name": "python3"
  },
  "language_info": {
   "codemirror_mode": {
    "name": "ipython",
    "version": 3
   },
   "file_extension": ".py",
   "mimetype": "text/x-python",
   "name": "python",
   "nbconvert_exporter": "python",
   "pygments_lexer": "ipython3",
   "version": "3.10.9"
  },
  "vscode": {
   "interpreter": {
    "hash": "b460384b52104c1e5b9cf54bee46a255d22b2bef338f75ac4ad5d48196028d3c"
   }
  }
 },
 "nbformat": 4,
 "nbformat_minor": 5
}
