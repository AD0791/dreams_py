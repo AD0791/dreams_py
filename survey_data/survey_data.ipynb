{
 "cells": [
  {
   "cell_type": "code",
   "execution_count": 3,
   "id": "abroad-clear",
   "metadata": {},
   "outputs": [],
   "source": [
    "import os\n",
    "from datetime import datetime\n",
    "#from datetime import date\n",
    "import pymysql\n",
    "from sqlalchemy import create_engine\n",
    "from decouple import config \n",
    "from dotenv import load_dotenv\n",
    "import pandas as pd\n",
    "import numpy as np"
   ]
  },
  {
   "cell_type": "code",
   "execution_count": 5,
   "id": "healthy-salmon",
   "metadata": {},
   "outputs": [],
   "source": [
    "load_dotenv()\n",
    "# get the environment variables needed\n",
    "USER= config('USRCaris')\n",
    "PASSWORD= config('PASSCaris')\n",
    "HOSTNAME= config('HOSTCaris')\n",
    "DBNAME= config('DBCaris')\n",
    "\n",
    "# get the engine to connect and fetch\n",
    "engine = create_engine(f\"mysql+pymysql://{USER}:{PASSWORD}@{HOSTNAME}/{DBNAME}\")\n",
    "query = '''\n",
    "SELECT\n",
    "d.case_id,\n",
    "d.organisation,\n",
    "d.a_non_patisipan_an as first_name,\n",
    "d.b_siyati as last_name,\n",
    "d.nan_ki_dat_ou_fet as dob,\n",
    "d.a1_dat_entvyou_a_ft_jjmmaa_egz_010817 as interview_date,\n",
    "d.d_adrs as adress,\n",
    "d.f_komin  as commune,\n",
    "d.g_seksyon_kominal as commune_section,\n",
    "d.b1_non_moun_mennen_entvyou_a as interviewer_firstname,\n",
    "d.c1_siyati_moun_ki_f_entvyou_a as interviewer_lastname,\n",
    "d.paran_ou_vivan as is_your_parent_alive,\n",
    "d.i_non_manman as mothers_name,\n",
    "d.j_non_papa as fathers_name,\n",
    "d.k_reskonsab_devan_lalwa as who_is_your_law_parent,\n",
    "d.total,\n",
    "IF(timestampdiff(YEAR,d.nan_ki_dat_ou_fet, d.a1_dat_entvyou_a_ft_jjmmaa_egz_010817) between 15 and 24, 'YES','NO')  as   is_eligible_for_dep_hiv,\n",
    "timestampdiff(YEAR,d.nan_ki_dat_ou_fet, d.a1_dat_entvyou_a_ft_jjmmaa_egz_010817)  as age,\n",
    "if(dm2.id is not null, 'yes','no') as already_in_a_group\n",
    "FROM caris_db.dreams_surveys_data d\n",
    "LEFT JOIN dream_member dm2 on dm2.case_id=d.case_id\n",
    "'''\n",
    "\n",
    "survey_data = pd.read_sql_query(query,engine,parse_dates=True)\n",
    "# get the test excel file from Query\n",
    "\n",
    "# close the pool of connection\n",
    "engine.dispose()"
   ]
  },
  {
   "cell_type": "code",
   "execution_count": 6,
   "id": "smoking-ferry",
   "metadata": {},
   "outputs": [
    {
     "data": {
      "text/plain": [
       "(49486, 19)"
      ]
     },
     "execution_count": 6,
     "metadata": {},
     "output_type": "execute_result"
    }
   ],
   "source": [
    "survey_data.shape"
   ]
  },
  {
   "cell_type": "code",
   "execution_count": 7,
   "id": "committed-publicity",
   "metadata": {},
   "outputs": [],
   "source": [
    "survey_data.to_excel('survey_data.xlsx',index=False,na_rep=\"NULL\")"
   ]
  },
  {
   "cell_type": "code",
   "execution_count": null,
   "id": "special-multimedia",
   "metadata": {},
   "outputs": [],
   "source": []
  }
 ],
 "metadata": {
  "kernelspec": {
   "display_name": "Python 3",
   "language": "python",
   "name": "python3"
  },
  "language_info": {
   "codemirror_mode": {
    "name": "ipython",
    "version": 3
   },
   "file_extension": ".py",
   "mimetype": "text/x-python",
   "name": "python",
   "nbconvert_exporter": "python",
   "pygments_lexer": "ipython3",
   "version": "3.9.2"
  }
 },
 "nbformat": 4,
 "nbformat_minor": 5
}
