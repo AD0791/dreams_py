{
 "cells": [
  {
   "cell_type": "code",
   "execution_count": 2,
   "metadata": {},
   "outputs": [],
   "source": [
    "%run \"../layeringOfServices.ipynb\""
   ]
  },
  {
   "cell_type": "code",
   "execution_count": 7,
   "metadata": {},
   "outputs": [],
   "source": [
    "from IPython.core.interactiveshell import InteractiveShell\r\n",
    "InteractiveShell.ast_node_interactivity = \"all\""
   ]
  },
  {
   "cell_type": "markdown",
   "metadata": {},
   "source": [
    "## Old hts communes "
   ]
  },
  {
   "cell_type": "code",
   "execution_count": 4,
   "metadata": {},
   "outputs": [],
   "source": [
    "hts_5Mai2021 = pd.read_excel(\"hts_5Mai2021.xlsx\")"
   ]
  },
  {
   "cell_type": "code",
   "execution_count": 8,
   "metadata": {},
   "outputs": [
    {
     "data": {
      "text/plain": [
       "'2020-04-07'"
      ]
     },
     "execution_count": 8,
     "metadata": {},
     "output_type": "execute_result"
    },
    {
     "data": {
      "text/plain": [
       "'2021-04-10'"
      ]
     },
     "execution_count": 8,
     "metadata": {},
     "output_type": "execute_result"
    }
   ],
   "source": [
    "hts_5Mai2021.date_entevyou.min().strftime(\"%Y-%m-%d\")\r\n",
    "hts_5Mai2021.date_entevyou.max().strftime(\"%Y-%m-%d\")"
   ]
  },
  {
   "cell_type": "code",
   "execution_count": 9,
   "metadata": {},
   "outputs": [
    {
     "data": {
      "text/plain": [
       "array(['Dessalines', 'Kenscoff', 'Gressier', 'Cap-Haïtien', 'Milot',\n",
       "       'Plaine-du-Nord', 'Quartier-Morin', 'Limonade', 'Verrettes',\n",
       "       'Liancourt', 'Carrefour', 'Delmas', 'Pétionville', 'Saint-Marc',\n",
       "       'La Chapelle', 'Port-au-Prince', \"Petite Rivière de l'Artibonite\",\n",
       "       'Grande Saline', 'Tabarre', 'Montrouis', 'Desdunes'], dtype=object)"
      ]
     },
     "execution_count": 9,
     "metadata": {},
     "output_type": "execute_result"
    }
   ],
   "source": [
    "hts_5Mai2021.actual_commune.unique()"
   ]
  },
  {
   "cell_type": "code",
   "execution_count": 10,
   "metadata": {},
   "outputs": [],
   "source": [
    "from re import sub\r\n",
    "def name_handler(s):\r\n",
    "    s = sub(r\"[^\\w\\s]\", '', s)\r\n",
    "    # Replace all runs of whitespace with a single dash\r\n",
    "    s = sub(r\"\\s+\", '_', s)\r\n",
    "    return s\r\n",
    "\r\n"
   ]
  },
  {
   "cell_type": "code",
   "execution_count": 12,
   "metadata": {},
   "outputs": [],
   "source": [
    "hts_5Mai2021_communes = []\r\n",
    "for columns in hts_5Mai2021_communes.unique():\r\n",
    "    globals()[f\"hts5Juin_{name_handler(columns)}\"] = hts_5Mai2021[hts_5Mai2021.actual_commune == columns]\r\n",
    "    hts_5Mai2021_communes.append(globals().get(f\"hts5Juin_{name_handler(columns)}\"))"
   ]
  },
  {
   "cell_type": "code",
   "execution_count": null,
   "metadata": {},
   "outputs": [],
   "source": []
  }
 ],
 "metadata": {
  "interpreter": {
   "hash": "4534460e0bdca1b390927d45471088fb3501d39abc4e3f2cee293892e17d7fc6"
  },
  "kernelspec": {
   "display_name": "Python 3.9.2 64-bit",
   "name": "python3"
  },
  "language_info": {
   "codemirror_mode": {
    "name": "ipython",
    "version": 3
   },
   "file_extension": ".py",
   "mimetype": "text/x-python",
   "name": "python",
   "nbconvert_exporter": "python",
   "pygments_lexer": "ipython3",
   "version": "3.9.2"
  },
  "orig_nbformat": 4
 },
 "nbformat": 4,
 "nbformat_minor": 2
}