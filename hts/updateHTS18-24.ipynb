{
 "cells": [
  {
   "cell_type": "code",
   "execution_count": 1,
   "source": [
    "%run \"../LOS.ipynb\""
   ],
   "outputs": [],
   "metadata": {}
  },
  {
   "cell_type": "code",
   "execution_count": 28,
   "source": [
    "import matplotlib.pyplot as plt\r\n",
    "%matplotlib inline\r\n",
    "import seaborn as sns\r\n"
   ],
   "outputs": [],
   "metadata": {}
  },
  {
   "cell_type": "code",
   "execution_count": 2,
   "source": [
    "from IPython.core.interactiveshell import InteractiveShell\r\n",
    "InteractiveShell.ast_node_interactivity = \"all\"\r\n",
    "import pandas as pd\r\n",
    "from datetime import datetime"
   ],
   "outputs": [],
   "metadata": {}
  },
  {
   "cell_type": "code",
   "execution_count": 3,
   "source": [
    "from re import sub\r\n",
    "def name_handler(s):\r\n",
    "    s = sub(r\"[^\\w\\s]\", '', s)\r\n",
    "    # Replace all runs of whitespace with a single dash\r\n",
    "    s = sub(r\"\\s+\", '_', s)\r\n",
    "    return s\r\n",
    "\r\n"
   ],
   "outputs": [],
   "metadata": {}
  },
  {
   "cell_type": "code",
   "execution_count": 4,
   "source": [
    "tested_hts = dreams_mastersheet[(dreams_mastersheet.timeOn_system == \"required_Time_on\")&(dreams_mastersheet.hts == \"tested_on_given_date\")&(dreams_mastersheet.newage_range != \"10-17\")&(dreams_mastersheet.newage_range != \"25-29\")&(dreams_mastersheet.newage_range != \"not_valid_age\")]"
   ],
   "outputs": [],
   "metadata": {}
  },
  {
   "cell_type": "code",
   "execution_count": 5,
   "source": [
    "tested_hts_21 = tested_hts[tested_hts.fiscal_year != \"Q3fy20-Q4fy20\"]"
   ],
   "outputs": [],
   "metadata": {}
  },
  {
   "cell_type": "markdown",
   "source": [
    "## Nouvelles Filles HTS"
   ],
   "metadata": {}
  },
  {
   "cell_type": "code",
   "execution_count": 6,
   "source": [
    "hts_new = dreams_mastersheet[(dreams_mastersheet.timeOn_system == \"required_Time_on\")&(dreams_mastersheet.hts == \"errata\")&(dreams_mastersheet.newage_range != \"10-17\")&(dreams_mastersheet.newage_range != \"25-29\")&(dreams_mastersheet.newage_range != \"not_valid_age\")]"
   ],
   "outputs": [],
   "metadata": {}
  },
  {
   "cell_type": "code",
   "execution_count": 7,
   "source": [
    "date_du_jour = datetime.today().strftime(\"%d_%m_%Y\")"
   ],
   "outputs": [],
   "metadata": {}
  },
  {
   "cell_type": "code",
   "execution_count": 8,
   "source": [
    "hts_new.to_excel(f\"verification_{date_du_jour}.xlsx\",index=False,na_rep=\"NULL\")"
   ],
   "outputs": [],
   "metadata": {}
  },
  {
   "cell_type": "markdown",
   "source": [
    "## Oldest\r\n",
    "\r\n",
    "> verification\r\n",
    "\r\n",
    "Pick the verification as the starting point"
   ],
   "metadata": {}
  },
  {
   "cell_type": "code",
   "execution_count": 9,
   "source": [
    "old_hts = pd.read_excel(\"verification.xlsx\")"
   ],
   "outputs": [],
   "metadata": {}
  },
  {
   "cell_type": "code",
   "execution_count": 10,
   "source": [
    "old_hts.code.count()\r\n",
    "hts_new.code.count()\r\n",
    "tested_hts.code.count()\r\n",
    "tested_hts_21.code.count()"
   ],
   "outputs": [
    {
     "output_type": "execute_result",
     "data": {
      "text/plain": [
       "4799"
      ]
     },
     "metadata": {},
     "execution_count": 10
    },
    {
     "output_type": "execute_result",
     "data": {
      "text/plain": [
       "4988"
      ]
     },
     "metadata": {},
     "execution_count": 10
    },
    {
     "output_type": "execute_result",
     "data": {
      "text/plain": [
       "594"
      ]
     },
     "metadata": {},
     "execution_count": 10
    },
    {
     "output_type": "execute_result",
     "data": {
      "text/plain": [
       "47"
      ]
     },
     "metadata": {},
     "execution_count": 10
    }
   ],
   "metadata": {}
  },
  {
   "cell_type": "code",
   "execution_count": 11,
   "source": [
    "hts_new.date_entevyou.min().strftime(\"%Y-%m-%d\")\r\n",
    "hts_new.date_entevyou.max().strftime(\"%Y-%m-%d\")"
   ],
   "outputs": [
    {
     "output_type": "execute_result",
     "data": {
      "text/plain": [
       "'2020-04-07'"
      ]
     },
     "metadata": {},
     "execution_count": 11
    },
    {
     "output_type": "execute_result",
     "data": {
      "text/plain": [
       "'2021-07-03'"
      ]
     },
     "metadata": {},
     "execution_count": 11
    }
   ],
   "metadata": {}
  },
  {
   "cell_type": "code",
   "execution_count": 12,
   "source": [
    "old_hts.date_entevyou.min().strftime(\"%Y-%m-%d\")\r\n",
    "old_hts.date_entevyou.max().strftime(\"%Y-%m-%d\")"
   ],
   "outputs": [
    {
     "output_type": "execute_result",
     "data": {
      "text/plain": [
       "'2020-04-07'"
      ]
     },
     "metadata": {},
     "execution_count": 12
    },
    {
     "output_type": "execute_result",
     "data": {
      "text/plain": [
       "'2021-06-15'"
      ]
     },
     "metadata": {},
     "execution_count": 12
    }
   ],
   "metadata": {}
  },
  {
   "cell_type": "code",
   "execution_count": 13,
   "source": [
    "tested_hts.date_entevyou.min().strftime(\"%Y-%m-%d\")\r\n",
    "tested_hts.date_entevyou.max().strftime(\"%Y-%m-%d\")"
   ],
   "outputs": [
    {
     "output_type": "execute_result",
     "data": {
      "text/plain": [
       "'2020-04-18'"
      ]
     },
     "metadata": {},
     "execution_count": 13
    },
    {
     "output_type": "execute_result",
     "data": {
      "text/plain": [
       "'2021-06-05'"
      ]
     },
     "metadata": {},
     "execution_count": 13
    }
   ],
   "metadata": {}
  },
  {
   "cell_type": "code",
   "execution_count": 14,
   "source": [
    "tested_hts_21.date_entevyou.min().strftime(\"%Y-%m-%d\")\r\n",
    "tested_hts_21.date_entevyou.max().strftime(\"%Y-%m-%d\")"
   ],
   "outputs": [
    {
     "output_type": "execute_result",
     "data": {
      "text/plain": [
       "'2020-10-05'"
      ]
     },
     "metadata": {},
     "execution_count": 14
    },
    {
     "output_type": "execute_result",
     "data": {
      "text/plain": [
       "'2021-06-05'"
      ]
     },
     "metadata": {},
     "execution_count": 14
    }
   ],
   "metadata": {}
  },
  {
   "cell_type": "code",
   "execution_count": 15,
   "source": [
    "howmuch_htsNew_isin_htsold = hts_new[hts_new.code.isin(old_hts.code)]"
   ],
   "outputs": [],
   "metadata": {}
  },
  {
   "cell_type": "code",
   "execution_count": 16,
   "source": [
    "howmuch_htsNew_isnot_htsold = hts_new[~hts_new.code.isin(old_hts.code)]"
   ],
   "outputs": [],
   "metadata": {}
  },
  {
   "cell_type": "code",
   "execution_count": 17,
   "source": [
    "howmuch_tested_isin_htsold = tested_hts[tested_hts.code.isin(old_hts.code)]"
   ],
   "outputs": [],
   "metadata": {}
  },
  {
   "cell_type": "code",
   "execution_count": 18,
   "source": [
    "howmuch_tested21_isin_htsold =  tested_hts_21[tested_hts_21.code.isin(old_hts.code)]"
   ],
   "outputs": [],
   "metadata": {}
  },
  {
   "cell_type": "code",
   "execution_count": 19,
   "source": [
    "howmuch_htsNew_isin_htsold.code.count()\r\n",
    "howmuch_htsNew_isnot_htsold.code.count()\r\n",
    "howmuch_tested_isin_htsold.code.count()\r\n",
    "howmuch_tested21_isin_htsold.code.count()"
   ],
   "outputs": [
    {
     "output_type": "execute_result",
     "data": {
      "text/plain": [
       "4750"
      ]
     },
     "metadata": {},
     "execution_count": 19
    },
    {
     "output_type": "execute_result",
     "data": {
      "text/plain": [
       "238"
      ]
     },
     "metadata": {},
     "execution_count": 19
    },
    {
     "output_type": "execute_result",
     "data": {
      "text/plain": [
       "16"
      ]
     },
     "metadata": {},
     "execution_count": 19
    },
    {
     "output_type": "execute_result",
     "data": {
      "text/plain": [
       "13"
      ]
     },
     "metadata": {},
     "execution_count": 19
    }
   ],
   "metadata": {}
  },
  {
   "cell_type": "code",
   "execution_count": 20,
   "source": [
    "howmuch_htsNew_isin_htsold.date_entevyou.min().strftime(\"%Y-%m-%d\")\r\n",
    "howmuch_htsNew_isin_htsold.date_entevyou.max().strftime(\"%Y-%m-%d\")"
   ],
   "outputs": [
    {
     "output_type": "execute_result",
     "data": {
      "text/plain": [
       "'2020-04-07'"
      ]
     },
     "metadata": {},
     "execution_count": 20
    },
    {
     "output_type": "execute_result",
     "data": {
      "text/plain": [
       "'2021-06-15'"
      ]
     },
     "metadata": {},
     "execution_count": 20
    }
   ],
   "metadata": {}
  },
  {
   "cell_type": "code",
   "execution_count": 21,
   "source": [
    "howmuch_htsNew_isnot_htsold.date_entevyou.min().strftime(\"%Y-%m-%d\")\r\n",
    "howmuch_htsNew_isnot_htsold.date_entevyou.max().strftime(\"%Y-%m-%d\")"
   ],
   "outputs": [
    {
     "output_type": "execute_result",
     "data": {
      "text/plain": [
       "'2020-05-29'"
      ]
     },
     "metadata": {},
     "execution_count": 21
    },
    {
     "output_type": "execute_result",
     "data": {
      "text/plain": [
       "'2021-07-03'"
      ]
     },
     "metadata": {},
     "execution_count": 21
    }
   ],
   "metadata": {}
  },
  {
   "cell_type": "code",
   "execution_count": 22,
   "source": [
    "howmuch_tested_isin_htsold.date_entevyou.min().strftime(\"%Y-%m-%d\")\r\n",
    "howmuch_tested_isin_htsold.date_entevyou.max().strftime(\"%Y-%m-%d\")"
   ],
   "outputs": [
    {
     "output_type": "execute_result",
     "data": {
      "text/plain": [
       "'2020-04-18'"
      ]
     },
     "metadata": {},
     "execution_count": 22
    },
    {
     "output_type": "execute_result",
     "data": {
      "text/plain": [
       "'2021-04-18'"
      ]
     },
     "metadata": {},
     "execution_count": 22
    }
   ],
   "metadata": {}
  },
  {
   "cell_type": "code",
   "execution_count": 23,
   "source": [
    "howmuch_tested21_isin_htsold.date_entevyou.min().strftime(\"%Y-%m-%d\")\r\n",
    "howmuch_tested21_isin_htsold.date_entevyou.max().strftime(\"%Y-%m-%d\")"
   ],
   "outputs": [
    {
     "output_type": "execute_result",
     "data": {
      "text/plain": [
       "'2020-10-06'"
      ]
     },
     "metadata": {},
     "execution_count": 23
    },
    {
     "output_type": "execute_result",
     "data": {
      "text/plain": [
       "'2021-04-18'"
      ]
     },
     "metadata": {},
     "execution_count": 23
    }
   ],
   "metadata": {}
  },
  {
   "cell_type": "markdown",
   "source": [
    "## Report Component"
   ],
   "metadata": {}
  },
  {
   "cell_type": "code",
   "execution_count": 24,
   "source": [
    "hts_new_communes = []\r\n",
    "for columns in hts_new.actual_commune.unique():\r\n",
    "    globals()[f\"hts_new_{name_handler(columns)}\"] = hts_new[hts_new.actual_commune == columns]\r\n",
    "    hts_new_communes.append(globals().get(f\"hts_new_{name_handler(columns)}\"))"
   ],
   "outputs": [],
   "metadata": {}
  },
  {
   "cell_type": "code",
   "execution_count": 25,
   "source": [
    "new_communes_general = hts_new.actual_commune.unique().tolist()\r\n",
    "hts_new_dict = {}\r\n",
    "for columns, communes in zip(hts_new.actual_commune.unique(), new_communes_general):\r\n",
    "    hts_new_dict[f\"{name_handler(communes)}\"] =  globals().get(f\"hts_new_{name_handler(columns)}\").code.count()\r\n",
    "    \r\n",
    "    \r\n",
    "hts_new_df = pd.DataFrame.from_dict(hts_new_dict, orient=\"index\", columns=None)\r\n",
    "hts_new_df.columns = [\"nombre_filles_pour_depistage_hts\"]\r\n",
    "hts_new_df"
   ],
   "outputs": [
    {
     "output_type": "execute_result",
     "data": {
      "text/plain": [
       "                               nombre_filles_pour_depistage_hts\n",
       "Dessalines                                                  177\n",
       "Kenscoff                                                    787\n",
       "Gressier                                                    270\n",
       "CapHaïtien                                                  242\n",
       "Milot                                                        78\n",
       "PlaineduNord                                                 89\n",
       "QuartierMorin                                                37\n",
       "Limonade                                                    119\n",
       "Verrettes                                                   553\n",
       "Liancourt                                                    40\n",
       "Carrefour                                                   377\n",
       "Delmas                                                      182\n",
       "Pétionville                                                 169\n",
       "SaintMarc                                                   340\n",
       "La_Chapelle                                                 283\n",
       "PortauPrince                                                215\n",
       "Petite_Rivière_de_lArtibonite                               222\n",
       "Grande_Saline                                               415\n",
       "Tabarre                                                      90\n",
       "Montrouis                                                    89\n",
       "Desdunes                                                    214"
      ],
      "text/html": [
       "<div>\n",
       "<style scoped>\n",
       "    .dataframe tbody tr th:only-of-type {\n",
       "        vertical-align: middle;\n",
       "    }\n",
       "\n",
       "    .dataframe tbody tr th {\n",
       "        vertical-align: top;\n",
       "    }\n",
       "\n",
       "    .dataframe thead th {\n",
       "        text-align: right;\n",
       "    }\n",
       "</style>\n",
       "<table border=\"1\" class=\"dataframe\">\n",
       "  <thead>\n",
       "    <tr style=\"text-align: right;\">\n",
       "      <th></th>\n",
       "      <th>nombre_filles_pour_depistage_hts</th>\n",
       "    </tr>\n",
       "  </thead>\n",
       "  <tbody>\n",
       "    <tr>\n",
       "      <th>Dessalines</th>\n",
       "      <td>177</td>\n",
       "    </tr>\n",
       "    <tr>\n",
       "      <th>Kenscoff</th>\n",
       "      <td>787</td>\n",
       "    </tr>\n",
       "    <tr>\n",
       "      <th>Gressier</th>\n",
       "      <td>270</td>\n",
       "    </tr>\n",
       "    <tr>\n",
       "      <th>CapHaïtien</th>\n",
       "      <td>242</td>\n",
       "    </tr>\n",
       "    <tr>\n",
       "      <th>Milot</th>\n",
       "      <td>78</td>\n",
       "    </tr>\n",
       "    <tr>\n",
       "      <th>PlaineduNord</th>\n",
       "      <td>89</td>\n",
       "    </tr>\n",
       "    <tr>\n",
       "      <th>QuartierMorin</th>\n",
       "      <td>37</td>\n",
       "    </tr>\n",
       "    <tr>\n",
       "      <th>Limonade</th>\n",
       "      <td>119</td>\n",
       "    </tr>\n",
       "    <tr>\n",
       "      <th>Verrettes</th>\n",
       "      <td>553</td>\n",
       "    </tr>\n",
       "    <tr>\n",
       "      <th>Liancourt</th>\n",
       "      <td>40</td>\n",
       "    </tr>\n",
       "    <tr>\n",
       "      <th>Carrefour</th>\n",
       "      <td>377</td>\n",
       "    </tr>\n",
       "    <tr>\n",
       "      <th>Delmas</th>\n",
       "      <td>182</td>\n",
       "    </tr>\n",
       "    <tr>\n",
       "      <th>Pétionville</th>\n",
       "      <td>169</td>\n",
       "    </tr>\n",
       "    <tr>\n",
       "      <th>SaintMarc</th>\n",
       "      <td>340</td>\n",
       "    </tr>\n",
       "    <tr>\n",
       "      <th>La_Chapelle</th>\n",
       "      <td>283</td>\n",
       "    </tr>\n",
       "    <tr>\n",
       "      <th>PortauPrince</th>\n",
       "      <td>215</td>\n",
       "    </tr>\n",
       "    <tr>\n",
       "      <th>Petite_Rivière_de_lArtibonite</th>\n",
       "      <td>222</td>\n",
       "    </tr>\n",
       "    <tr>\n",
       "      <th>Grande_Saline</th>\n",
       "      <td>415</td>\n",
       "    </tr>\n",
       "    <tr>\n",
       "      <th>Tabarre</th>\n",
       "      <td>90</td>\n",
       "    </tr>\n",
       "    <tr>\n",
       "      <th>Montrouis</th>\n",
       "      <td>89</td>\n",
       "    </tr>\n",
       "    <tr>\n",
       "      <th>Desdunes</th>\n",
       "      <td>214</td>\n",
       "    </tr>\n",
       "  </tbody>\n",
       "</table>\n",
       "</div>"
      ]
     },
     "metadata": {},
     "execution_count": 25
    }
   ],
   "metadata": {}
  },
  {
   "cell_type": "code",
   "execution_count": null,
   "source": [
    "liste_hts_new = pd.ExcelWriter(f\"rapportage_liste_filles_hts_{date_du_jour}.xlsx\",engine=\"xlsxwriter\")\r\n",
    "hts_new_df.to_excel(liste_hts_new,sheet_name=\"Total_filles_pr_commune\",index=True)\r\n",
    "hts_new.to_excel(liste_hts_new,sheet_name=\"liste_des_filles_global\",index=False,na_rep=\"NULL\")\r\n",
    "for columns,communes in zip(hts_new.actual_commune.unique(), new_communes_general):\r\n",
    "    globals().get(f\"hts_new_{name_handler(columns)}\").to_excel(liste_hts_new,sheet_name=f\"{name_handler(communes)}\",index=False,na_rep=\"NULL\")\r\n",
    "liste_hts_new.save()\r\n",
    "#liste_hts_new.close()"
   ],
   "outputs": [],
   "metadata": {}
  },
  {
   "cell_type": "code",
   "execution_count": null,
   "source": [],
   "outputs": [],
   "metadata": {}
  }
 ],
 "metadata": {
  "interpreter": {
   "hash": "4534460e0bdca1b390927d45471088fb3501d39abc4e3f2cee293892e17d7fc6"
  },
  "kernelspec": {
   "display_name": "Python 3.9.2 64-bit",
   "name": "python3"
  },
  "language_info": {
   "codemirror_mode": {
    "name": "ipython",
    "version": 3
   },
   "file_extension": ".py",
   "mimetype": "text/x-python",
   "name": "python",
   "nbconvert_exporter": "python",
   "pygments_lexer": "ipython3",
   "version": "3.9.2"
  },
  "orig_nbformat": 4
 },
 "nbformat": 4,
 "nbformat_minor": 2
}