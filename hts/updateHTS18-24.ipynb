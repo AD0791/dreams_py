{
 "cells": [
  {
   "cell_type": "code",
   "execution_count": 114,
   "metadata": {},
   "outputs": [],
   "source": [
    "%run \"../layeringOfServices.ipynb\""
   ]
  },
  {
   "cell_type": "code",
   "execution_count": 115,
   "metadata": {},
   "outputs": [],
   "source": [
    "from IPython.core.interactiveshell import InteractiveShell\r\n",
    "InteractiveShell.ast_node_interactivity = \"all\"\r\n",
    "import pandas as pd\r\n",
    "from datetime import datetime"
   ]
  },
  {
   "cell_type": "code",
   "execution_count": 116,
   "metadata": {},
   "outputs": [],
   "source": [
    "from re import sub\r\n",
    "def name_handler(s):\r\n",
    "    s = sub(r\"[^\\w\\s]\", '', s)\r\n",
    "    # Replace all runs of whitespace with a single dash\r\n",
    "    s = sub(r\"\\s+\", '_', s)\r\n",
    "    return s\r\n",
    "\r\n"
   ]
  },
  {
   "cell_type": "code",
   "execution_count": 117,
   "metadata": {},
   "outputs": [],
   "source": [
    "tested_hts = dreams_mastersheet[(dreams_mastersheet.timeOn_system == \"required_Time_on\")&(dreams_mastersheet.hts == \"tested_on_given_date\")&(dreams_mastersheet.newage_range != \"10-17\")&(dreams_mastersheet.newage_range != \"25-29\")&(dreams_mastersheet.newage_range != \"not_valid_age\")]"
   ]
  },
  {
   "cell_type": "code",
   "execution_count": 118,
   "metadata": {},
   "outputs": [],
   "source": [
    "tested_hts_21 = tested_hts[tested_hts.fiscal_year != \"not_valid_fy\"]"
   ]
  },
  {
   "cell_type": "markdown",
   "metadata": {},
   "source": [
    "## Nouvelles Filles HTS"
   ]
  },
  {
   "cell_type": "code",
   "execution_count": 119,
   "metadata": {},
   "outputs": [],
   "source": [
    "hts_new = dreams_mastersheet[(dreams_mastersheet.timeOn_system == \"required_Time_on\")&(dreams_mastersheet.hts == \"errata\")&(dreams_mastersheet.newage_range != \"10-17\")&(dreams_mastersheet.newage_range != \"25-29\")&(dreams_mastersheet.newage_range != \"not_valid_age\")]"
   ]
  },
  {
   "cell_type": "code",
   "execution_count": 120,
   "metadata": {},
   "outputs": [],
   "source": [
    "date_du_jour = datetime.today().strftime(\"%d_%m_%Y\")"
   ]
  },
  {
   "cell_type": "code",
   "execution_count": 121,
   "metadata": {},
   "outputs": [],
   "source": [
    "hts_new.to_excel(f\"verification_{date_du_jour}.xlsx\",index=False,na_rep=\"NULL\")"
   ]
  },
  {
   "cell_type": "markdown",
   "metadata": {},
   "source": [
    "## Oldest\r\n",
    "\r\n",
    "> verification\r\n",
    "\r\n",
    "Pick the verification as the starting point"
   ]
  },
  {
   "cell_type": "code",
   "execution_count": 122,
   "metadata": {},
   "outputs": [],
   "source": [
    "old_hts = pd.read_excel(\"verification.xlsx\")"
   ]
  },
  {
   "cell_type": "code",
   "execution_count": 123,
   "metadata": {},
   "outputs": [
    {
     "data": {
      "text/plain": [
       "4799"
      ]
     },
     "execution_count": 123,
     "metadata": {},
     "output_type": "execute_result"
    },
    {
     "data": {
      "text/plain": [
       "4930"
      ]
     },
     "execution_count": 123,
     "metadata": {},
     "output_type": "execute_result"
    },
    {
     "data": {
      "text/plain": [
       "577"
      ]
     },
     "execution_count": 123,
     "metadata": {},
     "output_type": "execute_result"
    },
    {
     "data": {
      "text/plain": [
       "34"
      ]
     },
     "execution_count": 123,
     "metadata": {},
     "output_type": "execute_result"
    }
   ],
   "source": [
    "old_hts.code.count()\r\n",
    "hts_new.code.count()\r\n",
    "tested_hts.code.count()\r\n",
    "tested_hts_21.code.count()"
   ]
  },
  {
   "cell_type": "code",
   "execution_count": 124,
   "metadata": {},
   "outputs": [
    {
     "data": {
      "text/plain": [
       "'2020-04-07'"
      ]
     },
     "execution_count": 124,
     "metadata": {},
     "output_type": "execute_result"
    },
    {
     "data": {
      "text/plain": [
       "'2021-06-23'"
      ]
     },
     "execution_count": 124,
     "metadata": {},
     "output_type": "execute_result"
    }
   ],
   "source": [
    "hts_new.date_entevyou.min().strftime(\"%Y-%m-%d\")\r\n",
    "hts_new.date_entevyou.max().strftime(\"%Y-%m-%d\")"
   ]
  },
  {
   "cell_type": "code",
   "execution_count": 125,
   "metadata": {},
   "outputs": [
    {
     "data": {
      "text/plain": [
       "'2020-04-07'"
      ]
     },
     "execution_count": 125,
     "metadata": {},
     "output_type": "execute_result"
    },
    {
     "data": {
      "text/plain": [
       "'2021-06-15'"
      ]
     },
     "execution_count": 125,
     "metadata": {},
     "output_type": "execute_result"
    }
   ],
   "source": [
    "old_hts.date_entevyou.min().strftime(\"%Y-%m-%d\")\r\n",
    "old_hts.date_entevyou.max().strftime(\"%Y-%m-%d\")"
   ]
  },
  {
   "cell_type": "code",
   "execution_count": 126,
   "metadata": {},
   "outputs": [
    {
     "data": {
      "text/plain": [
       "'2020-04-18'"
      ]
     },
     "execution_count": 126,
     "metadata": {},
     "output_type": "execute_result"
    },
    {
     "data": {
      "text/plain": [
       "'2021-06-05'"
      ]
     },
     "execution_count": 126,
     "metadata": {},
     "output_type": "execute_result"
    }
   ],
   "source": [
    "tested_hts.date_entevyou.min().strftime(\"%Y-%m-%d\")\r\n",
    "tested_hts.date_entevyou.max().strftime(\"%Y-%m-%d\")"
   ]
  },
  {
   "cell_type": "code",
   "execution_count": 127,
   "metadata": {},
   "outputs": [
    {
     "data": {
      "text/plain": [
       "'2020-10-05'"
      ]
     },
     "execution_count": 127,
     "metadata": {},
     "output_type": "execute_result"
    },
    {
     "data": {
      "text/plain": [
       "'2021-06-05'"
      ]
     },
     "execution_count": 127,
     "metadata": {},
     "output_type": "execute_result"
    }
   ],
   "source": [
    "tested_hts_21.date_entevyou.min().strftime(\"%Y-%m-%d\")\r\n",
    "tested_hts_21.date_entevyou.max().strftime(\"%Y-%m-%d\")"
   ]
  },
  {
   "cell_type": "code",
   "execution_count": 128,
   "metadata": {},
   "outputs": [],
   "source": [
    "howmuch_htsNew_isin_htsold = hts_new[hts_new.code.isin(old_hts.code)]"
   ]
  },
  {
   "cell_type": "code",
   "execution_count": 129,
   "metadata": {},
   "outputs": [],
   "source": [
    "howmuch_htsNew_isnot_htsold = hts_new[~hts_new.code.isin(old_hts.code)]"
   ]
  },
  {
   "cell_type": "code",
   "execution_count": 130,
   "metadata": {},
   "outputs": [],
   "source": [
    "howmuch_tested_isin_htsold = tested_hts[tested_hts.code.isin(old_hts.code)]"
   ]
  },
  {
   "cell_type": "code",
   "execution_count": 131,
   "metadata": {},
   "outputs": [],
   "source": [
    "howmuch_tested21_isin_htsold =  tested_hts_21[tested_hts_21.code.isin(old_hts.code)]"
   ]
  },
  {
   "cell_type": "code",
   "execution_count": 132,
   "metadata": {},
   "outputs": [
    {
     "data": {
      "text/plain": [
       "4776"
      ]
     },
     "execution_count": 132,
     "metadata": {},
     "output_type": "execute_result"
    },
    {
     "data": {
      "text/plain": [
       "154"
      ]
     },
     "execution_count": 132,
     "metadata": {},
     "output_type": "execute_result"
    },
    {
     "data": {
      "text/plain": [
       "9"
      ]
     },
     "execution_count": 132,
     "metadata": {},
     "output_type": "execute_result"
    },
    {
     "data": {
      "text/plain": [
       "7"
      ]
     },
     "execution_count": 132,
     "metadata": {},
     "output_type": "execute_result"
    }
   ],
   "source": [
    "howmuch_htsNew_isin_htsold.code.count()\r\n",
    "howmuch_htsNew_isnot_htsold.code.count()\r\n",
    "howmuch_tested_isin_htsold.code.count()\r\n",
    "howmuch_tested21_isin_htsold.code.count()"
   ]
  },
  {
   "cell_type": "code",
   "execution_count": 133,
   "metadata": {},
   "outputs": [
    {
     "data": {
      "text/plain": [
       "'2020-04-07'"
      ]
     },
     "execution_count": 133,
     "metadata": {},
     "output_type": "execute_result"
    },
    {
     "data": {
      "text/plain": [
       "'2021-06-15'"
      ]
     },
     "execution_count": 133,
     "metadata": {},
     "output_type": "execute_result"
    }
   ],
   "source": [
    "howmuch_htsNew_isin_htsold.date_entevyou.min().strftime(\"%Y-%m-%d\")\r\n",
    "howmuch_htsNew_isin_htsold.date_entevyou.max().strftime(\"%Y-%m-%d\")"
   ]
  },
  {
   "cell_type": "code",
   "execution_count": 134,
   "metadata": {},
   "outputs": [
    {
     "data": {
      "text/plain": [
       "'2020-05-29'"
      ]
     },
     "execution_count": 134,
     "metadata": {},
     "output_type": "execute_result"
    },
    {
     "data": {
      "text/plain": [
       "'2021-06-23'"
      ]
     },
     "execution_count": 134,
     "metadata": {},
     "output_type": "execute_result"
    }
   ],
   "source": [
    "howmuch_htsNew_isnot_htsold.date_entevyou.min().strftime(\"%Y-%m-%d\")\r\n",
    "howmuch_htsNew_isnot_htsold.date_entevyou.max().strftime(\"%Y-%m-%d\")"
   ]
  },
  {
   "cell_type": "code",
   "execution_count": 135,
   "metadata": {},
   "outputs": [
    {
     "data": {
      "text/plain": [
       "'2020-04-18'"
      ]
     },
     "execution_count": 135,
     "metadata": {},
     "output_type": "execute_result"
    },
    {
     "data": {
      "text/plain": [
       "'2021-03-08'"
      ]
     },
     "execution_count": 135,
     "metadata": {},
     "output_type": "execute_result"
    }
   ],
   "source": [
    "howmuch_tested_isin_htsold.date_entevyou.min().strftime(\"%Y-%m-%d\")\r\n",
    "howmuch_tested_isin_htsold.date_entevyou.max().strftime(\"%Y-%m-%d\")"
   ]
  },
  {
   "cell_type": "code",
   "execution_count": 136,
   "metadata": {},
   "outputs": [
    {
     "data": {
      "text/plain": [
       "'2020-11-10'"
      ]
     },
     "execution_count": 136,
     "metadata": {},
     "output_type": "execute_result"
    },
    {
     "data": {
      "text/plain": [
       "'2021-03-08'"
      ]
     },
     "execution_count": 136,
     "metadata": {},
     "output_type": "execute_result"
    }
   ],
   "source": [
    "howmuch_tested21_isin_htsold.date_entevyou.min().strftime(\"%Y-%m-%d\")\r\n",
    "howmuch_tested21_isin_htsold.date_entevyou.max().strftime(\"%Y-%m-%d\")"
   ]
  },
  {
   "cell_type": "markdown",
   "metadata": {},
   "source": [
    "## Report Component"
   ]
  },
  {
   "cell_type": "code",
   "execution_count": 137,
   "metadata": {},
   "outputs": [],
   "source": [
    "hts_new_communes = []\r\n",
    "for columns in hts_new.actual_commune.unique():\r\n",
    "    globals()[f\"hts_new_{name_handler(columns)}\"] = hts_new[hts_new.actual_commune == columns]\r\n",
    "    hts_new_communes.append(globals().get(f\"hts_new_{name_handler(columns)}\"))"
   ]
  },
  {
   "cell_type": "code",
   "execution_count": 138,
   "metadata": {},
   "outputs": [
    {
     "data": {
      "text/html": [
       "<div>\n",
       "<style scoped>\n",
       "    .dataframe tbody tr th:only-of-type {\n",
       "        vertical-align: middle;\n",
       "    }\n",
       "\n",
       "    .dataframe tbody tr th {\n",
       "        vertical-align: top;\n",
       "    }\n",
       "\n",
       "    .dataframe thead th {\n",
       "        text-align: right;\n",
       "    }\n",
       "</style>\n",
       "<table border=\"1\" class=\"dataframe\">\n",
       "  <thead>\n",
       "    <tr style=\"text-align: right;\">\n",
       "      <th></th>\n",
       "      <th>nombre_filles_pour_depistage_hts</th>\n",
       "    </tr>\n",
       "  </thead>\n",
       "  <tbody>\n",
       "    <tr>\n",
       "      <th>Dessalines</th>\n",
       "      <td>171</td>\n",
       "    </tr>\n",
       "    <tr>\n",
       "      <th>Kenscoff</th>\n",
       "      <td>780</td>\n",
       "    </tr>\n",
       "    <tr>\n",
       "      <th>Gressier</th>\n",
       "      <td>271</td>\n",
       "    </tr>\n",
       "    <tr>\n",
       "      <th>CapHaïtien</th>\n",
       "      <td>237</td>\n",
       "    </tr>\n",
       "    <tr>\n",
       "      <th>Milot</th>\n",
       "      <td>76</td>\n",
       "    </tr>\n",
       "    <tr>\n",
       "      <th>PlaineduNord</th>\n",
       "      <td>89</td>\n",
       "    </tr>\n",
       "    <tr>\n",
       "      <th>QuartierMorin</th>\n",
       "      <td>37</td>\n",
       "    </tr>\n",
       "    <tr>\n",
       "      <th>Limonade</th>\n",
       "      <td>116</td>\n",
       "    </tr>\n",
       "    <tr>\n",
       "      <th>Verrettes</th>\n",
       "      <td>543</td>\n",
       "    </tr>\n",
       "    <tr>\n",
       "      <th>Liancourt</th>\n",
       "      <td>29</td>\n",
       "    </tr>\n",
       "    <tr>\n",
       "      <th>Carrefour</th>\n",
       "      <td>374</td>\n",
       "    </tr>\n",
       "    <tr>\n",
       "      <th>Delmas</th>\n",
       "      <td>182</td>\n",
       "    </tr>\n",
       "    <tr>\n",
       "      <th>Pétionville</th>\n",
       "      <td>169</td>\n",
       "    </tr>\n",
       "    <tr>\n",
       "      <th>SaintMarc</th>\n",
       "      <td>338</td>\n",
       "    </tr>\n",
       "    <tr>\n",
       "      <th>La_Chapelle</th>\n",
       "      <td>281</td>\n",
       "    </tr>\n",
       "    <tr>\n",
       "      <th>PortauPrince</th>\n",
       "      <td>201</td>\n",
       "    </tr>\n",
       "    <tr>\n",
       "      <th>Petite_Rivière_de_lArtibonite</th>\n",
       "      <td>223</td>\n",
       "    </tr>\n",
       "    <tr>\n",
       "      <th>Grande_Saline</th>\n",
       "      <td>418</td>\n",
       "    </tr>\n",
       "    <tr>\n",
       "      <th>Tabarre</th>\n",
       "      <td>92</td>\n",
       "    </tr>\n",
       "    <tr>\n",
       "      <th>Montrouis</th>\n",
       "      <td>88</td>\n",
       "    </tr>\n",
       "    <tr>\n",
       "      <th>Desdunes</th>\n",
       "      <td>215</td>\n",
       "    </tr>\n",
       "  </tbody>\n",
       "</table>\n",
       "</div>"
      ],
      "text/plain": [
       "                               nombre_filles_pour_depistage_hts\n",
       "Dessalines                                                  171\n",
       "Kenscoff                                                    780\n",
       "Gressier                                                    271\n",
       "CapHaïtien                                                  237\n",
       "Milot                                                        76\n",
       "PlaineduNord                                                 89\n",
       "QuartierMorin                                                37\n",
       "Limonade                                                    116\n",
       "Verrettes                                                   543\n",
       "Liancourt                                                    29\n",
       "Carrefour                                                   374\n",
       "Delmas                                                      182\n",
       "Pétionville                                                 169\n",
       "SaintMarc                                                   338\n",
       "La_Chapelle                                                 281\n",
       "PortauPrince                                                201\n",
       "Petite_Rivière_de_lArtibonite                               223\n",
       "Grande_Saline                                               418\n",
       "Tabarre                                                      92\n",
       "Montrouis                                                    88\n",
       "Desdunes                                                    215"
      ]
     },
     "execution_count": 138,
     "metadata": {},
     "output_type": "execute_result"
    }
   ],
   "source": [
    "new_communes_general = hts_new.actual_commune.unique().tolist()\r\n",
    "hts_new_dict = {}\r\n",
    "for columns, communes in zip(hts_new.actual_commune.unique(), new_communes_general):\r\n",
    "    hts_new_dict[f\"{name_handler(communes)}\"] =  globals().get(f\"hts_new_{name_handler(columns)}\").code.count()\r\n",
    "    \r\n",
    "    \r\n",
    "hts_new_df = pd.DataFrame.from_dict(hts_new_dict, orient=\"index\", columns=None)\r\n",
    "hts_new_df.columns = [\"nombre_filles_pour_depistage_hts\"]\r\n",
    "hts_new_df"
   ]
  },
  {
   "cell_type": "code",
   "execution_count": 139,
   "metadata": {},
   "outputs": [],
   "source": [
    "liste_hts_new = pd.ExcelWriter(f\"rapportage_liste_filles_hts_{date_du_jour}.xlsx\",engine=\"xlsxwriter\")\r\n",
    "hts_new_df.to_excel(liste_hts_new,sheet_name=\"Total_filles_pr_commune\",index=True)\r\n",
    "hts_new.to_excel(liste_hts_new,sheet_name=\"liste_des_filles_global\",index=False,na_rep=\"NULL\")\r\n",
    "for columns,communes in zip(hts_new.actual_commune.unique(), new_communes_general):\r\n",
    "    globals().get(f\"hts_new_{name_handler(columns)}\").to_excel(liste_hts_new,sheet_name=f\"{name_handler(communes)}\",index=False,na_rep=\"NULL\")\r\n",
    "liste_hts_new.save()"
   ]
  },
  {
   "cell_type": "code",
   "execution_count": null,
   "metadata": {},
   "outputs": [],
   "source": []
  }
 ],
 "metadata": {
  "interpreter": {
   "hash": "4534460e0bdca1b390927d45471088fb3501d39abc4e3f2cee293892e17d7fc6"
  },
  "kernelspec": {
   "display_name": "Python 3.9.2 64-bit",
   "name": "python3"
  },
  "language_info": {
   "codemirror_mode": {
    "name": "ipython",
    "version": 3
   },
   "file_extension": ".py",
   "mimetype": "text/x-python",
   "name": "python",
   "nbconvert_exporter": "python",
   "pygments_lexer": "ipython3",
   "version": "3.9.2"
  },
  "orig_nbformat": 4
 },
 "nbformat": 4,
 "nbformat_minor": 2
}