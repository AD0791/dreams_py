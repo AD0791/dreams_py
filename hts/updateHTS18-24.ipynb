{
 "cells": [
  {
   "cell_type": "code",
   "execution_count": 1,
   "source": [
    "%run \"../app/dreams\""
   ],
   "outputs": [],
   "metadata": {}
  },
  {
   "cell_type": "code",
   "execution_count": 2,
   "source": [
    "import matplotlib.pyplot as plt\r\n",
    "%matplotlib inline\r\n",
    "import seaborn as sns\r\n"
   ],
   "outputs": [],
   "metadata": {}
  },
  {
   "cell_type": "code",
   "execution_count": 3,
   "source": [
    "from IPython.core.interactiveshell import InteractiveShell\r\n",
    "InteractiveShell.ast_node_interactivity = \"all\"\r\n",
    "import pandas as pd\r\n",
    "from datetime import datetime"
   ],
   "outputs": [],
   "metadata": {}
  },
  {
   "cell_type": "code",
   "execution_count": 68,
   "source": [
    "from re import sub\r\n",
    "def name_handler(s):\r\n",
    "    s = sub(r\"[^\\w\\s]\", '', s)\r\n",
    "    # Replace all runs of whitespace with a single dash\r\n",
    "    s = sub(r\"\\s+\", '', s)\r\n",
    "    return s\r\n",
    "\r\n"
   ],
   "outputs": [],
   "metadata": {}
  },
  {
   "cell_type": "code",
   "execution_count": 5,
   "source": [
    "tested_hts = dreams_mastersheet[(dreams_mastersheet.timeOn_system == \"required_Time_on\")&(dreams_mastersheet.hts == \"tested_on_given_date\")&(dreams_mastersheet.newage_range != \"10-17\")&(dreams_mastersheet.newage_range != \"25-29\")&(dreams_mastersheet.newage_range != \"not_valid_age\")]"
   ],
   "outputs": [],
   "metadata": {}
  },
  {
   "cell_type": "code",
   "execution_count": 6,
   "source": [
    "tested_hts_21 = tested_hts[tested_hts.fiscal_year != \"Q3fy20-Q4fy20\"]"
   ],
   "outputs": [],
   "metadata": {}
  },
  {
   "cell_type": "markdown",
   "source": [
    "## Nouvelles Filles HTS"
   ],
   "metadata": {}
  },
  {
   "cell_type": "code",
   "execution_count": 7,
   "source": [
    "hts_new = dreams_mastersheet[(dreams_mastersheet.timeOn_system == \"required_Time_on\")&(dreams_mastersheet.hts == \"errata\")&(dreams_mastersheet.newage_range != \"10-17\")&(dreams_mastersheet.newage_range != \"25-29\")&(dreams_mastersheet.newage_range != \"not_valid_age\")]"
   ],
   "outputs": [],
   "metadata": {}
  },
  {
   "cell_type": "code",
   "execution_count": 8,
   "source": [
    "date_du_jour = datetime.today().strftime(\"%d_%m_%Y\")"
   ],
   "outputs": [],
   "metadata": {}
  },
  {
   "cell_type": "code",
   "execution_count": 9,
   "source": [
    "hts_new.to_excel(f\"verification_{date_du_jour}.xlsx\",index=False,na_rep=\"NULL\")"
   ],
   "outputs": [],
   "metadata": {}
  },
  {
   "cell_type": "markdown",
   "source": [
    "## Oldest\r\n",
    "\r\n",
    "> verification\r\n",
    "\r\n",
    "Pick the verification as the starting point"
   ],
   "metadata": {}
  },
  {
   "cell_type": "code",
   "execution_count": 10,
   "source": [
    "old_hts = pd.read_excel(\"verification.xlsx\")"
   ],
   "outputs": [],
   "metadata": {}
  },
  {
   "cell_type": "code",
   "execution_count": 11,
   "source": [
    "old_hts.code.count()\r\n",
    "hts_new.code.count()\r\n",
    "tested_hts.code.count()\r\n",
    "tested_hts_21.code.count()"
   ],
   "outputs": [
    {
     "output_type": "execute_result",
     "data": {
      "text/plain": [
       "4799"
      ]
     },
     "metadata": {},
     "execution_count": 11
    },
    {
     "output_type": "execute_result",
     "data": {
      "text/plain": [
       "5149"
      ]
     },
     "metadata": {},
     "execution_count": 11
    },
    {
     "output_type": "execute_result",
     "data": {
      "text/plain": [
       "1063"
      ]
     },
     "metadata": {},
     "execution_count": 11
    },
    {
     "output_type": "execute_result",
     "data": {
      "text/plain": [
       "301"
      ]
     },
     "metadata": {},
     "execution_count": 11
    }
   ],
   "metadata": {}
  },
  {
   "cell_type": "code",
   "execution_count": 12,
   "source": [
    "hts_new.date_entevyou.min().strftime(\"%Y-%m-%d\")\r\n",
    "hts_new.date_entevyou.max().strftime(\"%Y-%m-%d\")"
   ],
   "outputs": [
    {
     "output_type": "execute_result",
     "data": {
      "text/plain": [
       "'2020-04-07'"
      ]
     },
     "metadata": {},
     "execution_count": 12
    },
    {
     "output_type": "execute_result",
     "data": {
      "text/plain": [
       "'2021-08-21'"
      ]
     },
     "metadata": {},
     "execution_count": 12
    }
   ],
   "metadata": {}
  },
  {
   "cell_type": "code",
   "execution_count": 13,
   "source": [
    "old_hts.date_entevyou.min().strftime(\"%Y-%m-%d\")\r\n",
    "old_hts.date_entevyou.max().strftime(\"%Y-%m-%d\")"
   ],
   "outputs": [
    {
     "output_type": "execute_result",
     "data": {
      "text/plain": [
       "'2020-04-07'"
      ]
     },
     "metadata": {},
     "execution_count": 13
    },
    {
     "output_type": "execute_result",
     "data": {
      "text/plain": [
       "'2021-06-15'"
      ]
     },
     "metadata": {},
     "execution_count": 13
    }
   ],
   "metadata": {}
  },
  {
   "cell_type": "code",
   "execution_count": 14,
   "source": [
    "tested_hts.date_entevyou.min().strftime(\"%Y-%m-%d\")\r\n",
    "tested_hts.date_entevyou.max().strftime(\"%Y-%m-%d\")"
   ],
   "outputs": [
    {
     "output_type": "execute_result",
     "data": {
      "text/plain": [
       "'2020-04-18'"
      ]
     },
     "metadata": {},
     "execution_count": 14
    },
    {
     "output_type": "execute_result",
     "data": {
      "text/plain": [
       "'2021-07-26'"
      ]
     },
     "metadata": {},
     "execution_count": 14
    }
   ],
   "metadata": {}
  },
  {
   "cell_type": "code",
   "execution_count": 15,
   "source": [
    "tested_hts_21.date_entevyou.min().strftime(\"%Y-%m-%d\")\r\n",
    "tested_hts_21.date_entevyou.max().strftime(\"%Y-%m-%d\")"
   ],
   "outputs": [
    {
     "output_type": "execute_result",
     "data": {
      "text/plain": [
       "'2020-10-02'"
      ]
     },
     "metadata": {},
     "execution_count": 15
    },
    {
     "output_type": "execute_result",
     "data": {
      "text/plain": [
       "'2021-07-26'"
      ]
     },
     "metadata": {},
     "execution_count": 15
    }
   ],
   "metadata": {}
  },
  {
   "cell_type": "code",
   "execution_count": 16,
   "source": [
    "howmuch_htsNew_isin_htsold = hts_new[hts_new.code.isin(old_hts.code)]"
   ],
   "outputs": [],
   "metadata": {}
  },
  {
   "cell_type": "code",
   "execution_count": 17,
   "source": [
    "howmuch_htsNew_isnot_htsold = hts_new[~hts_new.code.isin(old_hts.code)]"
   ],
   "outputs": [],
   "metadata": {}
  },
  {
   "cell_type": "code",
   "execution_count": 18,
   "source": [
    "howmuch_tested_isin_htsold = tested_hts[tested_hts.code.isin(old_hts.code)]"
   ],
   "outputs": [],
   "metadata": {}
  },
  {
   "cell_type": "code",
   "execution_count": 19,
   "source": [
    "howmuch_tested21_isin_htsold =  tested_hts_21[tested_hts_21.code.isin(old_hts.code)]"
   ],
   "outputs": [],
   "metadata": {}
  },
  {
   "cell_type": "code",
   "execution_count": 20,
   "source": [
    "howmuch_htsNew_isin_htsold.code.count()\r\n",
    "howmuch_htsNew_isnot_htsold.code.count()\r\n",
    "howmuch_tested_isin_htsold.code.count()\r\n",
    "howmuch_tested21_isin_htsold.code.count()"
   ],
   "outputs": [
    {
     "output_type": "execute_result",
     "data": {
      "text/plain": [
       "4342"
      ]
     },
     "metadata": {},
     "execution_count": 20
    },
    {
     "output_type": "execute_result",
     "data": {
      "text/plain": [
       "807"
      ]
     },
     "metadata": {},
     "execution_count": 20
    },
    {
     "output_type": "execute_result",
     "data": {
      "text/plain": [
       "379"
      ]
     },
     "metadata": {},
     "execution_count": 20
    },
    {
     "output_type": "execute_result",
     "data": {
      "text/plain": [
       "179"
      ]
     },
     "metadata": {},
     "execution_count": 20
    }
   ],
   "metadata": {}
  },
  {
   "cell_type": "code",
   "execution_count": 21,
   "source": [
    "howmuch_htsNew_isin_htsold.date_entevyou.min().strftime(\"%Y-%m-%d\")\r\n",
    "howmuch_htsNew_isin_htsold.date_entevyou.max().strftime(\"%Y-%m-%d\")"
   ],
   "outputs": [
    {
     "output_type": "execute_result",
     "data": {
      "text/plain": [
       "'2020-04-07'"
      ]
     },
     "metadata": {},
     "execution_count": 21
    },
    {
     "output_type": "execute_result",
     "data": {
      "text/plain": [
       "'2021-06-15'"
      ]
     },
     "metadata": {},
     "execution_count": 21
    }
   ],
   "metadata": {}
  },
  {
   "cell_type": "code",
   "execution_count": 22,
   "source": [
    "howmuch_htsNew_isnot_htsold.date_entevyou.min().strftime(\"%Y-%m-%d\")\r\n",
    "howmuch_htsNew_isnot_htsold.date_entevyou.max().strftime(\"%Y-%m-%d\")"
   ],
   "outputs": [
    {
     "output_type": "execute_result",
     "data": {
      "text/plain": [
       "'2020-05-28'"
      ]
     },
     "metadata": {},
     "execution_count": 22
    },
    {
     "output_type": "execute_result",
     "data": {
      "text/plain": [
       "'2021-08-21'"
      ]
     },
     "metadata": {},
     "execution_count": 22
    }
   ],
   "metadata": {}
  },
  {
   "cell_type": "code",
   "execution_count": 23,
   "source": [
    "howmuch_tested_isin_htsold.date_entevyou.min().strftime(\"%Y-%m-%d\")\r\n",
    "howmuch_tested_isin_htsold.date_entevyou.max().strftime(\"%Y-%m-%d\")"
   ],
   "outputs": [
    {
     "output_type": "execute_result",
     "data": {
      "text/plain": [
       "'2020-04-18'"
      ]
     },
     "metadata": {},
     "execution_count": 23
    },
    {
     "output_type": "execute_result",
     "data": {
      "text/plain": [
       "'2021-05-18'"
      ]
     },
     "metadata": {},
     "execution_count": 23
    }
   ],
   "metadata": {}
  },
  {
   "cell_type": "code",
   "execution_count": 24,
   "source": [
    "howmuch_tested21_isin_htsold.date_entevyou.min().strftime(\"%Y-%m-%d\")\r\n",
    "howmuch_tested21_isin_htsold.date_entevyou.max().strftime(\"%Y-%m-%d\")"
   ],
   "outputs": [
    {
     "output_type": "execute_result",
     "data": {
      "text/plain": [
       "'2020-10-02'"
      ]
     },
     "metadata": {},
     "execution_count": 24
    },
    {
     "output_type": "execute_result",
     "data": {
      "text/plain": [
       "'2021-05-18'"
      ]
     },
     "metadata": {},
     "execution_count": 24
    }
   ],
   "metadata": {}
  },
  {
   "cell_type": "markdown",
   "source": [
    "## Report Component"
   ],
   "metadata": {}
  },
  {
   "cell_type": "code",
   "execution_count": 25,
   "source": [
    "hts_new_communes = []\r\n",
    "for columns in hts_new.actual_commune.unique():\r\n",
    "    globals()[f\"hts_new_{name_handler(columns)}\"] = hts_new[hts_new.actual_commune == columns]\r\n",
    "    hts_new_communes.append(globals().get(f\"hts_new_{name_handler(columns)}\"))"
   ],
   "outputs": [],
   "metadata": {}
  },
  {
   "cell_type": "code",
   "execution_count": 26,
   "source": [
    "new_communes_general = hts_new.actual_commune.unique().tolist()\r\n",
    "hts_new_dict = {}\r\n",
    "for columns, communes in zip(hts_new.actual_commune.unique(), new_communes_general):\r\n",
    "    hts_new_dict[f\"{name_handler(communes)}\"] =  globals().get(f\"hts_new_{name_handler(columns)}\").code.count()\r\n",
    "    \r\n",
    "    \r\n",
    "hts_new_df = pd.DataFrame.from_dict(hts_new_dict, orient=\"index\", columns=None)\r\n",
    "hts_new_df.columns = [\"nombre_filles_pour_depistage_hts\"]\r\n",
    "hts_new_df"
   ],
   "outputs": [
    {
     "output_type": "execute_result",
     "data": {
      "text/html": [
       "<div>\n",
       "<style scoped>\n",
       "    .dataframe tbody tr th:only-of-type {\n",
       "        vertical-align: middle;\n",
       "    }\n",
       "\n",
       "    .dataframe tbody tr th {\n",
       "        vertical-align: top;\n",
       "    }\n",
       "\n",
       "    .dataframe thead th {\n",
       "        text-align: right;\n",
       "    }\n",
       "</style>\n",
       "<table border=\"1\" class=\"dataframe\">\n",
       "  <thead>\n",
       "    <tr style=\"text-align: right;\">\n",
       "      <th></th>\n",
       "      <th>nombre_filles_pour_depistage_hts</th>\n",
       "    </tr>\n",
       "  </thead>\n",
       "  <tbody>\n",
       "    <tr>\n",
       "      <th>Dessalines</th>\n",
       "      <td>191</td>\n",
       "    </tr>\n",
       "    <tr>\n",
       "      <th>Kenscoff</th>\n",
       "      <td>491</td>\n",
       "    </tr>\n",
       "    <tr>\n",
       "      <th>Gressier</th>\n",
       "      <td>285</td>\n",
       "    </tr>\n",
       "    <tr>\n",
       "      <th>CapHaïtien</th>\n",
       "      <td>245</td>\n",
       "    </tr>\n",
       "    <tr>\n",
       "      <th>Milot</th>\n",
       "      <td>79</td>\n",
       "    </tr>\n",
       "    <tr>\n",
       "      <th>PlaineduNord</th>\n",
       "      <td>110</td>\n",
       "    </tr>\n",
       "    <tr>\n",
       "      <th>QuartierMorin</th>\n",
       "      <td>47</td>\n",
       "    </tr>\n",
       "    <tr>\n",
       "      <th>Limonade</th>\n",
       "      <td>124</td>\n",
       "    </tr>\n",
       "    <tr>\n",
       "      <th>Verrettes</th>\n",
       "      <td>581</td>\n",
       "    </tr>\n",
       "    <tr>\n",
       "      <th>Liancourt</th>\n",
       "      <td>43</td>\n",
       "    </tr>\n",
       "    <tr>\n",
       "      <th>Carrefour</th>\n",
       "      <td>473</td>\n",
       "    </tr>\n",
       "    <tr>\n",
       "      <th>Delmas</th>\n",
       "      <td>230</td>\n",
       "    </tr>\n",
       "    <tr>\n",
       "      <th>Pétionville</th>\n",
       "      <td>178</td>\n",
       "    </tr>\n",
       "    <tr>\n",
       "      <th>SaintMarc</th>\n",
       "      <td>359</td>\n",
       "    </tr>\n",
       "    <tr>\n",
       "      <th>La_Chapelle</th>\n",
       "      <td>338</td>\n",
       "    </tr>\n",
       "    <tr>\n",
       "      <th>PortauPrince</th>\n",
       "      <td>234</td>\n",
       "    </tr>\n",
       "    <tr>\n",
       "      <th>Petite_Rivière_de_lArtibonite</th>\n",
       "      <td>265</td>\n",
       "    </tr>\n",
       "    <tr>\n",
       "      <th>Grande_Saline</th>\n",
       "      <td>417</td>\n",
       "    </tr>\n",
       "    <tr>\n",
       "      <th>Montrouis</th>\n",
       "      <td>112</td>\n",
       "    </tr>\n",
       "    <tr>\n",
       "      <th>Tabarre</th>\n",
       "      <td>111</td>\n",
       "    </tr>\n",
       "    <tr>\n",
       "      <th>Desdunes</th>\n",
       "      <td>236</td>\n",
       "    </tr>\n",
       "  </tbody>\n",
       "</table>\n",
       "</div>"
      ],
      "text/plain": [
       "                               nombre_filles_pour_depistage_hts\n",
       "Dessalines                                                  191\n",
       "Kenscoff                                                    491\n",
       "Gressier                                                    285\n",
       "CapHaïtien                                                  245\n",
       "Milot                                                        79\n",
       "PlaineduNord                                                110\n",
       "QuartierMorin                                                47\n",
       "Limonade                                                    124\n",
       "Verrettes                                                   581\n",
       "Liancourt                                                    43\n",
       "Carrefour                                                   473\n",
       "Delmas                                                      230\n",
       "Pétionville                                                 178\n",
       "SaintMarc                                                   359\n",
       "La_Chapelle                                                 338\n",
       "PortauPrince                                                234\n",
       "Petite_Rivière_de_lArtibonite                               265\n",
       "Grande_Saline                                               417\n",
       "Montrouis                                                   112\n",
       "Tabarre                                                     111\n",
       "Desdunes                                                    236"
      ]
     },
     "metadata": {},
     "execution_count": 26
    }
   ],
   "metadata": {}
  },
  {
   "cell_type": "code",
   "execution_count": 27,
   "source": [
    "liste_hts_new = pd.ExcelWriter(f\"rapportage_liste_filles_hts_{date_du_jour}.xlsx\",engine=\"xlsxwriter\")\r\n",
    "hts_new_df.to_excel(liste_hts_new,sheet_name=\"Total_filles_pr_commune\",index=True)\r\n",
    "hts_new.to_excel(liste_hts_new,sheet_name=\"liste_des_filles_global\",index=False,na_rep=\"NULL\")\r\n",
    "for columns,communes in zip(hts_new.actual_commune.unique(), new_communes_general):\r\n",
    "    globals().get(f\"hts_new_{name_handler(columns)}\").to_excel(liste_hts_new,sheet_name=f\"{name_handler(communes)}\",index=False,na_rep=\"NULL\")\r\n",
    "liste_hts_new.save()\r\n",
    "#liste_hts_new.close()"
   ],
   "outputs": [],
   "metadata": {}
  },
  {
   "cell_type": "markdown",
   "source": [
    "# Filles restant a depister par Hub\r\n",
    "\r\n",
    "- old data verification an\r\n",
    "- depistage effectivement retracable sur le systeme\r\n",
    "- > le reste des depistage a faire par hub maintenant"
   ],
   "metadata": {}
  },
  {
   "cell_type": "code",
   "execution_count": 58,
   "source": [
    "old_hts.code.count()\r\n",
    "terrain_test = pd.read_excel('../the_services/depistage_vih_1824.xlsx')\r\n",
    "# 18-24 tester so far\r\n",
    "terrain_test.code.count()\r\n",
    "personne_4799_tester = old_hts[old_hts.code.isin(terrain_test.code)]\r\n",
    "personne_4799_tester.code.count()\r\n",
    "personne_4799_non_tester = old_hts[~old_hts.code.isin(terrain_test.code)]\r\n",
    "personne_4799_non_tester.code.count()\r\n"
   ],
   "outputs": [
    {
     "output_type": "execute_result",
     "data": {
      "text/plain": [
       "4799"
      ]
     },
     "metadata": {},
     "execution_count": 58
    },
    {
     "output_type": "execute_result",
     "data": {
      "text/plain": [
       "1063"
      ]
     },
     "metadata": {},
     "execution_count": 58
    },
    {
     "output_type": "execute_result",
     "data": {
      "text/plain": [
       "379"
      ]
     },
     "metadata": {},
     "execution_count": 58
    },
    {
     "output_type": "execute_result",
     "data": {
      "text/plain": [
       "4420"
      ]
     },
     "metadata": {},
     "execution_count": 58
    }
   ],
   "metadata": {}
  },
  {
   "cell_type": "code",
   "execution_count": 69,
   "source": [
    "personne_4799_non_tester_hub = []\r\n",
    "for columns in personne_4799_non_tester.actual_hub.unique():\r\n",
    "    globals()[f\"personne_4799_non_tester_{name_handler(columns)}\"] = personne_4799_non_tester[personne_4799_non_tester.actual_hub == columns]\r\n",
    "    personne_4799_non_tester_hub.append(globals().get(f\"personne_4799_non_tester_{name_handler(columns)}\"))"
   ],
   "outputs": [],
   "metadata": {}
  },
  {
   "cell_type": "code",
   "execution_count": 70,
   "source": [
    "new_hub_general = personne_4799_non_tester.actual_hub.unique().tolist()\r\n",
    "personne_4799_non_tester_dict = {}\r\n",
    "for columns, hubs in zip(personne_4799_non_tester.actual_hub.unique(), new_hub_general):\r\n",
    "    personne_4799_non_tester_dict[f\"{name_handler(hubs)}\"] =  globals().get(f\"personne_4799_non_tester_{name_handler(columns)}\").code.count()\r\n",
    "    \r\n",
    "    \r\n",
    "personne_4799_non_tester_df = pd.DataFrame.from_dict(personne_4799_non_tester_dict, orient=\"index\", columns=None)\r\n",
    "personne_4799_non_tester_df.columns = [\"nombre_filles_pour_depistage_hts\"]\r\n",
    "personne_4799_non_tester_df"
   ],
   "outputs": [
    {
     "output_type": "execute_result",
     "data": {
      "text/html": [
       "<div>\n",
       "<style scoped>\n",
       "    .dataframe tbody tr th:only-of-type {\n",
       "        vertical-align: middle;\n",
       "    }\n",
       "\n",
       "    .dataframe tbody tr th {\n",
       "        vertical-align: top;\n",
       "    }\n",
       "\n",
       "    .dataframe thead th {\n",
       "        text-align: right;\n",
       "    }\n",
       "</style>\n",
       "<table border=\"1\" class=\"dataframe\">\n",
       "  <thead>\n",
       "    <tr style=\"text-align: right;\">\n",
       "      <th></th>\n",
       "      <th>nombre_filles_pour_depistage_hts</th>\n",
       "    </tr>\n",
       "  </thead>\n",
       "  <tbody>\n",
       "    <tr>\n",
       "      <th>CollègeLeopoldSegharSengor</th>\n",
       "      <td>80</td>\n",
       "    </tr>\n",
       "    <tr>\n",
       "      <th>LocalSOHADERK</th>\n",
       "      <td>14</td>\n",
       "    </tr>\n",
       "    <tr>\n",
       "      <th>EgliseCommunautairecatholiquedeRobin</th>\n",
       "      <td>109</td>\n",
       "    </tr>\n",
       "    <tr>\n",
       "      <th>InstitutionMixteWigSaintPierre</th>\n",
       "      <td>59</td>\n",
       "    </tr>\n",
       "    <tr>\n",
       "      <th>InstitutionMixteWigSaintPierreMariani3</th>\n",
       "      <td>10</td>\n",
       "    </tr>\n",
       "    <tr>\n",
       "      <th>...</th>\n",
       "      <td>...</td>\n",
       "    </tr>\n",
       "    <tr>\n",
       "      <th>ecoletheligenesteve</th>\n",
       "      <td>6</td>\n",
       "    </tr>\n",
       "    <tr>\n",
       "      <th>Ecoletheligenesteve</th>\n",
       "      <td>5</td>\n",
       "    </tr>\n",
       "    <tr>\n",
       "      <th>CollegehenryChristoph</th>\n",
       "      <td>12</td>\n",
       "    </tr>\n",
       "    <tr>\n",
       "      <th>TEKNIK</th>\n",
       "      <td>5</td>\n",
       "    </tr>\n",
       "    <tr>\n",
       "      <th>YvesCine</th>\n",
       "      <td>4</td>\n",
       "    </tr>\n",
       "  </tbody>\n",
       "</table>\n",
       "<p>134 rows × 1 columns</p>\n",
       "</div>"
      ],
      "text/plain": [
       "                                        nombre_filles_pour_depistage_hts\n",
       "CollègeLeopoldSegharSengor                                            80\n",
       "LocalSOHADERK                                                         14\n",
       "EgliseCommunautairecatholiquedeRobin                                 109\n",
       "InstitutionMixteWigSaintPierre                                        59\n",
       "InstitutionMixteWigSaintPierreMariani3                                10\n",
       "...                                                                  ...\n",
       "ecoletheligenesteve                                                    6\n",
       "Ecoletheligenesteve                                                    5\n",
       "CollegehenryChristoph                                                 12\n",
       "TEKNIK                                                                 5\n",
       "YvesCine                                                               4\n",
       "\n",
       "[134 rows x 1 columns]"
      ]
     },
     "metadata": {},
     "execution_count": 70
    }
   ],
   "metadata": {}
  },
  {
   "cell_type": "code",
   "execution_count": 163,
   "source": [
    "def excel_handler(s):\r\n",
    "    s = sub(r\"[^\\w\\s]\", '', s)\r\n",
    "    # Replace all runs of whitespace with a single space\r\n",
    "    s = sub(r\"\\s+\", '', s)\r\n",
    "    #s = sub(r\"^(\\b[A-Z]\\w*\\s*)+$\",'',s)\r\n",
    "    s = sub(r\"\\b(\\w)\",'',s)\r\n",
    "    s = sub(r\"\\b(\\w)\",'',s)\r\n",
    "    s = sub(r\"\\b(\\w)\",'',s)\r\n",
    "    s = sub(r\"\\b(\\w)\",'',s)\r\n",
    "    s = sub(r\"\\b(\\w)\",'',s)\r\n",
    "    s = sub(r\"\\b(\\w)\",'',s)\r\n",
    "    s = sub(r\"\\b(\\w)\",'',s)\r\n",
    "    s = sub(r\"\\b(\\w)\",'',s)\r\n",
    "    s = sub(r\"\\b(\\w)\",'',s)\r\n",
    "    s = sub(r\"\\b(\\w)\",'',s)\r\n",
    "    s = sub(r\"\\b(\\w)\",'',s)\r\n",
    "    s = sub(r\"\\b(\\w)\",'',s)\r\n",
    "    s = sub(r\"\\b(\\w)\",'',s)\r\n",
    "    s = sub(r\"\\b(\\w)\",'',s)\r\n",
    "    s = sub(r\"\\b(\\w)\",'',s)\r\n",
    "    s = sub(r\"\\b(\\w)\",'',s)\r\n",
    "    s = sub(r\"\\b(\\w)\",'',s)\r\n",
    "    s = sub(r\"\\b(\\w)\",'',s)\r\n",
    "    s = sub(r\"\\b(\\w)\",'',s)\r\n",
    "    s = sub(r\"\\b(\\w)\",'',s)\r\n",
    "    s = sub(r\"\\b(\\w)\",'',s)\r\n",
    "    s = sub(r\"\\b(\\w)\",'',s)\r\n",
    "    s = sub(r\"\\b(\\w)\",'',s)\r\n",
    "\r\n",
    "    return s"
   ],
   "outputs": [],
   "metadata": {}
  },
  {
   "cell_type": "code",
   "execution_count": 150,
   "source": [
    "import xlsxwriter"
   ],
   "outputs": [],
   "metadata": {}
  },
  {
   "cell_type": "code",
   "execution_count": 164,
   "source": [
    "\r\n",
    "liste_personne_4799_non_tester = pd.ExcelWriter(f\"rapportage_liste_filles_hts_restant_{date_du_jour}.xlsx\",engine=\"xlsxwriter\")\r\n",
    "personne_4799_non_tester_df.to_excel(liste_personne_4799_non_tester,sheet_name=\"Total_filles_pr_commune\",index=True)\r\n",
    "personne_4799_non_tester.to_excel(liste_personne_4799_non_tester,sheet_name=\"liste_des_filles_global\",index=False,na_rep=\"NULL\")\r\n",
    "for columns,hub in zip(personne_4799_non_tester.actual_hub.unique(), new_hub_general):\r\n",
    "    try:\r\n",
    "        globals().get(f\"personne_4799_non_tester_{name_handler(columns)}\").to_excel(liste_personne_4799_non_tester,sheet_name=f\"{name_handler(hub)}\",index=False,na_rep=\"NULL\")\r\n",
    "    except xlsxwriter.exceptions.InvalidWorksheetName :\r\n",
    "        globals().get(f\"personne_4799_non_tester_{name_handler(columns)}\").to_excel(liste_personne_4799_non_tester,sheet_name=f\"{excel_handler(hub)}\",index=False,na_rep=\"NULL\")\r\n",
    "    except xlsxwriter.exceptions.DuplicateWorksheetName :\r\n",
    "        globals().get(f\"personne_4799_non_tester_{name_handler(columns)}\").to_excel(liste_personne_4799_non_tester,sheet_name=f\"{excel_handler(hub)}_1\",index=False,na_rep=\"NULL\")\r\n",
    "                \r\n",
    "liste_personne_4799_non_tester.save()"
   ],
   "outputs": [],
   "metadata": {}
  },
  {
   "cell_type": "code",
   "execution_count": null,
   "source": [],
   "outputs": [],
   "metadata": {}
  }
 ],
 "metadata": {
  "interpreter": {
   "hash": "4534460e0bdca1b390927d45471088fb3501d39abc4e3f2cee293892e17d7fc6"
  },
  "kernelspec": {
   "name": "python3",
   "display_name": "Python 3.9.6 64-bit"
  },
  "language_info": {
   "codemirror_mode": {
    "name": "ipython",
    "version": 3
   },
   "file_extension": ".py",
   "mimetype": "text/x-python",
   "name": "python",
   "nbconvert_exporter": "python",
   "pygments_lexer": "ipython3",
   "version": "3.9.6"
  },
  "orig_nbformat": 4
 },
 "nbformat": 4,
 "nbformat_minor": 2
}