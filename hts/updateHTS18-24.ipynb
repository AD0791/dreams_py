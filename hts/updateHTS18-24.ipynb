{
 "cells": [
  {
   "cell_type": "code",
   "execution_count": 1,
   "metadata": {},
   "outputs": [],
   "source": [
    "%run \"../layeringOfServices.ipynb\""
   ]
  },
  {
   "cell_type": "code",
   "execution_count": 21,
   "metadata": {},
   "outputs": [],
   "source": [
    "from IPython.core.interactiveshell import InteractiveShell\r\n",
    "InteractiveShell.ast_node_interactivity = \"all\"\r\n",
    "import pandas as pd"
   ]
  },
  {
   "cell_type": "code",
   "execution_count": null,
   "metadata": {},
   "outputs": [],
   "source": [
    "from re import sub\r\n",
    "def name_handler(s):\r\n",
    "    s = sub(r\"[^\\w\\s]\", '', s)\r\n",
    "    # Replace all runs of whitespace with a single dash\r\n",
    "    s = sub(r\"\\s+\", '_', s)\r\n",
    "    return s\r\n",
    "\r\n"
   ]
  },
  {
   "cell_type": "markdown",
   "metadata": {},
   "source": [
    "## Old hts communes "
   ]
  },
  {
   "cell_type": "markdown",
   "metadata": {},
   "source": [
    "hts_5Mai2021 = pd.read_excel(\"hts_5Mai2021.xlsx\")"
   ]
  },
  {
   "cell_type": "markdown",
   "metadata": {},
   "source": [
    "hts_5Mai2021.date_entevyou.min().strftime(\"%Y-%m-%d\")\r\n",
    "hts_5Mai2021.date_entevyou.max().strftime(\"%Y-%m-%d\")"
   ]
  },
  {
   "cell_type": "markdown",
   "metadata": {},
   "source": [
    "hts_5Mai2021.actual_commune.unique()"
   ]
  },
  {
   "cell_type": "markdown",
   "metadata": {},
   "source": [
    "hts_5Mai2021_communes = []\r\n",
    "for columns in hts_5Mai2021.actual_commune.unique():\r\n",
    "    globals()[f\"hts5Juin_{name_handler(columns)}\"] = hts_5Mai2021[hts_5Mai2021.actual_commune == columns]\r\n",
    "    hts_5Mai2021_communes.append(globals().get(f\"hts5Juin_{name_handler(columns)}\"))"
   ]
  },
  {
   "cell_type": "markdown",
   "metadata": {},
   "source": [
    "communes_names_General = hts_5Mai2021.actual_commune.unique().tolist()\r\n",
    "hts_5Mai2021_dict = {}\r\n",
    "for columns, communes in zip(hts_5Mai2021.actual_commune.unique(), communes_names_General):\r\n",
    "    hts_5Mai2021_dict[f\"{name_handler(communes)}\"] =  globals().get(f\"hts5Juin_{name_handler(columns)}\").code.count()\r\n",
    "    \r\n",
    "    \r\n",
    "hts_cincoMayo_df = pd.DataFrame.from_dict(hts_5Mai2021_dict, orient=\"index\", columns=None)\r\n",
    "hts_cincoMayo_df.columns = [\"nombre_filles_pour_depistage_hts\"]\r\n",
    "hts_cincoMayo_df"
   ]
  },
  {
   "cell_type": "markdown",
   "metadata": {},
   "source": [
    "liste_hts_5Mai2021 = pd.ExcelWriter(\"rapportage_liste_filles_hts_5Mai2021.xlsx\",engine=\"xlsxwriter\")\r\n",
    "hts_cincoMayo_df.to_excel(liste_hts_5Mai2021,sheet_name=\"Total_filles_pr_commune\",index=True)\r\n",
    "hts_5Mai2021.to_excel(liste_hts_5Mai2021,sheet_name=\"liste_des_filles_global\",index=False,na_rep=\"NULL\")\r\n",
    "for columns,communes in zip(hts_5Mai2021.actual_commune.unique(), communes_names_General):\r\n",
    "    globals().get(f\"hts5Juin_{name_handler(columns)}\").to_excel(liste_hts_5Mai2021,sheet_name=f\"{name_handler(communes)}\",index=False,na_rep=\"NULL\")\r\n",
    "liste_hts_5Mai2021.save()\r\n"
   ]
  },
  {
   "cell_type": "markdown",
   "metadata": {},
   "source": [
    "## Nouvelles Filles HTS"
   ]
  },
  {
   "cell_type": "code",
   "execution_count": 90,
   "metadata": {},
   "outputs": [
    {
     "data": {
      "text/plain": [
       "4799"
      ]
     },
     "execution_count": 90,
     "metadata": {},
     "output_type": "execute_result"
    }
   ],
   "source": [
    "hts_new = dreams_mastersheet[(dreams_mastersheet.timeOn_system == \"required_Time_on\")&(dreams_mastersheet.hts == \"errata\")&(dreams_mastersheet.newage_range != \"10-17\")&(dreams_mastersheet.newage_range != \"25-29\")&(dreams_mastersheet.newage_range != \"not_valid_age\")]\r\n",
    "\r\n",
    "hts_new.code.count()\r\n"
   ]
  },
  {
   "cell_type": "markdown",
   "metadata": {},
   "source": [
    "hts_5Mai2021.code.count()"
   ]
  },
  {
   "cell_type": "markdown",
   "metadata": {},
   "source": [
    "hts_5Mai2021.date_entevyou.min().strftime(\"%Y-%m-%d\")\r\n",
    "hts_5Mai2021.date_entevyou.max().strftime(\"%Y-%m-%d\")\r\n"
   ]
  },
  {
   "cell_type": "code",
   "execution_count": 93,
   "metadata": {},
   "outputs": [
    {
     "data": {
      "text/plain": [
       "'2020-04-07'"
      ]
     },
     "execution_count": 93,
     "metadata": {},
     "output_type": "execute_result"
    },
    {
     "data": {
      "text/plain": [
       "'2021-06-15'"
      ]
     },
     "execution_count": 93,
     "metadata": {},
     "output_type": "execute_result"
    }
   ],
   "source": [
    "hts_new.date_entevyou.min().strftime(\"%Y-%m-%d\")\r\n",
    "hts_new.date_entevyou.max().strftime(\"%Y-%m-%d\")"
   ]
  },
  {
   "cell_type": "markdown",
   "metadata": {},
   "source": [
    "### Newest Girls is given the 5 mai 2021 files max date\r\n",
    "\r\n",
    "> remember to change this"
   ]
  },
  {
   "cell_type": "markdown",
   "metadata": {},
   "source": [
    "hts_new_validate = hts_new[~hts_new.code.isin(hts_5Mai2021.code.to_list())]\r\n",
    "hts_new_validate.code.count()"
   ]
  },
  {
   "cell_type": "markdown",
   "metadata": {},
   "source": [
    "hts_new.merge(hts_5Mai2021, on='code', how='outer', suffixes=['', '_'], indicator=True)"
   ]
  },
  {
   "cell_type": "markdown",
   "metadata": {},
   "source": [
    "a = hts_5Mai2021.code.to_list()\r\n",
    "b = hts_new.code.to_list() \r\n",
    "len([elem for elem in b if elem not in a ])\r\n"
   ]
  },
  {
   "cell_type": "code",
   "execution_count": 96,
   "metadata": {},
   "outputs": [],
   "source": [
    "hts_new_communes = []\r\n",
    "for columns in hts_new.actual_commune.unique():\r\n",
    "    globals()[f\"hts_new_{name_handler(columns)}\"] = hts_new[hts_new.actual_commune == columns]\r\n",
    "    hts_new_communes.append(globals().get(f\"hts_new_validate_{name_handler(columns)}\"))"
   ]
  },
  {
   "cell_type": "code",
   "execution_count": 97,
   "metadata": {},
   "outputs": [
    {
     "data": {
      "text/html": [
       "<div>\n",
       "<style scoped>\n",
       "    .dataframe tbody tr th:only-of-type {\n",
       "        vertical-align: middle;\n",
       "    }\n",
       "\n",
       "    .dataframe tbody tr th {\n",
       "        vertical-align: top;\n",
       "    }\n",
       "\n",
       "    .dataframe thead th {\n",
       "        text-align: right;\n",
       "    }\n",
       "</style>\n",
       "<table border=\"1\" class=\"dataframe\">\n",
       "  <thead>\n",
       "    <tr style=\"text-align: right;\">\n",
       "      <th></th>\n",
       "      <th>nombre_filles_pour_depistage_hts</th>\n",
       "    </tr>\n",
       "  </thead>\n",
       "  <tbody>\n",
       "    <tr>\n",
       "      <th>Dessalines</th>\n",
       "      <td>165</td>\n",
       "    </tr>\n",
       "    <tr>\n",
       "      <th>Kenscoff</th>\n",
       "      <td>730</td>\n",
       "    </tr>\n",
       "    <tr>\n",
       "      <th>Gressier</th>\n",
       "      <td>270</td>\n",
       "    </tr>\n",
       "    <tr>\n",
       "      <th>CapHaïtien</th>\n",
       "      <td>236</td>\n",
       "    </tr>\n",
       "    <tr>\n",
       "      <th>Milot</th>\n",
       "      <td>75</td>\n",
       "    </tr>\n",
       "    <tr>\n",
       "      <th>PlaineduNord</th>\n",
       "      <td>91</td>\n",
       "    </tr>\n",
       "    <tr>\n",
       "      <th>QuartierMorin</th>\n",
       "      <td>38</td>\n",
       "    </tr>\n",
       "    <tr>\n",
       "      <th>Limonade</th>\n",
       "      <td>111</td>\n",
       "    </tr>\n",
       "    <tr>\n",
       "      <th>Verrettes</th>\n",
       "      <td>537</td>\n",
       "    </tr>\n",
       "    <tr>\n",
       "      <th>Liancourt</th>\n",
       "      <td>28</td>\n",
       "    </tr>\n",
       "    <tr>\n",
       "      <th>Carrefour</th>\n",
       "      <td>365</td>\n",
       "    </tr>\n",
       "    <tr>\n",
       "      <th>Delmas</th>\n",
       "      <td>182</td>\n",
       "    </tr>\n",
       "    <tr>\n",
       "      <th>Pétionville</th>\n",
       "      <td>166</td>\n",
       "    </tr>\n",
       "    <tr>\n",
       "      <th>SaintMarc</th>\n",
       "      <td>337</td>\n",
       "    </tr>\n",
       "    <tr>\n",
       "      <th>La_Chapelle</th>\n",
       "      <td>280</td>\n",
       "    </tr>\n",
       "    <tr>\n",
       "      <th>PortauPrince</th>\n",
       "      <td>189</td>\n",
       "    </tr>\n",
       "    <tr>\n",
       "      <th>Petite_Rivière_de_lArtibonite</th>\n",
       "      <td>222</td>\n",
       "    </tr>\n",
       "    <tr>\n",
       "      <th>Grande_Saline</th>\n",
       "      <td>407</td>\n",
       "    </tr>\n",
       "    <tr>\n",
       "      <th>Tabarre</th>\n",
       "      <td>92</td>\n",
       "    </tr>\n",
       "    <tr>\n",
       "      <th>Montrouis</th>\n",
       "      <td>65</td>\n",
       "    </tr>\n",
       "    <tr>\n",
       "      <th>Desdunes</th>\n",
       "      <td>213</td>\n",
       "    </tr>\n",
       "  </tbody>\n",
       "</table>\n",
       "</div>"
      ],
      "text/plain": [
       "                               nombre_filles_pour_depistage_hts\n",
       "Dessalines                                                  165\n",
       "Kenscoff                                                    730\n",
       "Gressier                                                    270\n",
       "CapHaïtien                                                  236\n",
       "Milot                                                        75\n",
       "PlaineduNord                                                 91\n",
       "QuartierMorin                                                38\n",
       "Limonade                                                    111\n",
       "Verrettes                                                   537\n",
       "Liancourt                                                    28\n",
       "Carrefour                                                   365\n",
       "Delmas                                                      182\n",
       "Pétionville                                                 166\n",
       "SaintMarc                                                   337\n",
       "La_Chapelle                                                 280\n",
       "PortauPrince                                                189\n",
       "Petite_Rivière_de_lArtibonite                               222\n",
       "Grande_Saline                                               407\n",
       "Tabarre                                                      92\n",
       "Montrouis                                                    65\n",
       "Desdunes                                                    213"
      ]
     },
     "execution_count": 97,
     "metadata": {},
     "output_type": "execute_result"
    }
   ],
   "source": [
    "new_communes_general = hts_new.actual_commune.unique().tolist()\r\n",
    "hts_new_dict = {}\r\n",
    "for columns, communes in zip(hts_new.actual_commune.unique(), new_communes_general):\r\n",
    "    hts_new_dict[f\"{name_handler(communes)}\"] =  globals().get(f\"hts_new_{name_handler(columns)}\").code.count()\r\n",
    "    \r\n",
    "    \r\n",
    "hts_new_df = pd.DataFrame.from_dict(hts_new_dict, orient=\"index\", columns=None)\r\n",
    "hts_new_df.columns = [\"nombre_filles_pour_depistage_hts\"]\r\n",
    "hts_new_df"
   ]
  },
  {
   "cell_type": "code",
   "execution_count": 98,
   "metadata": {},
   "outputs": [],
   "source": [
    "liste_hts_new = pd.ExcelWriter(\"rapportage_liste_filles_hts_23Juin2021.xlsx\",engine=\"xlsxwriter\")\r\n",
    "hts_new_df.to_excel(liste_hts_new,sheet_name=\"Total_filles_pr_commune\",index=True)\r\n",
    "hts_new.to_excel(liste_hts_new,sheet_name=\"liste_des_filles_global\",index=False,na_rep=\"NULL\")\r\n",
    "for columns,communes in zip(hts_new.actual_commune.unique(), communes_names_General):\r\n",
    "    globals().get(f\"hts5Juin_{name_handler(columns)}\").to_excel(liste_hts_new,sheet_name=f\"{name_handler(communes)}\",index=False,na_rep=\"NULL\")\r\n",
    "liste_hts_new.save()"
   ]
  },
  {
   "cell_type": "code",
   "execution_count": 99,
   "metadata": {},
   "outputs": [],
   "source": [
    "hts_new.to_excel(\"verification.xlsx\",index=False,na_rep=\"NULL\")"
   ]
  },
  {
   "cell_type": "code",
   "execution_count": null,
   "metadata": {},
   "outputs": [],
   "source": []
  }
 ],
 "metadata": {
  "interpreter": {
   "hash": "4534460e0bdca1b390927d45471088fb3501d39abc4e3f2cee293892e17d7fc6"
  },
  "kernelspec": {
   "display_name": "Python 3.9.2 64-bit",
   "name": "python3"
  },
  "language_info": {
   "codemirror_mode": {
    "name": "ipython",
    "version": 3
   },
   "file_extension": ".py",
   "mimetype": "text/x-python",
   "name": "python",
   "nbconvert_exporter": "python",
   "pygments_lexer": "ipython3",
   "version": "3.9.2"
  },
  "orig_nbformat": 4
 },
 "nbformat": 4,
 "nbformat_minor": 2
}