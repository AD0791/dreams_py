{
 "cells": [
  {
   "attachments": {},
   "cell_type": "markdown",
   "metadata": {},
   "source": [
    "# Import required packages"
   ]
  },
  {
   "cell_type": "code",
   "execution_count": 1,
   "metadata": {},
   "outputs": [],
   "source": [
    "#Import required packages\n",
    "\n",
    "# import pandas as pd\n",
    "# import numpy as np\n",
    "# import seaborn as sns\n",
    "# import matplotlib.pyplot as plt\n",
    "# # from pyecharts import Bar\n",
    "# import plotly.express as px\n",
    "# from datetime import datetime\n",
    "# from dateutil.relativedelta import relativedelta\n",
    "# from dateutil.parser import parse\n",
    "# import warnings\n",
    "# warnings.filterwarnings('ignore')\n",
    "# from selenium import webdriver\n",
    "# from webdriver_manager.chrome import ChromeDriverManager\n",
    "# from selenium.webdriver.common.by import By\n",
    "# from IPython.core.interactiveshell import InteractiveShell\n",
    "# InteractiveShell.ast_node_interactivity = \"all\"\n",
    "# import os\n",
    "# from dotenv import load_dotenv\n",
    "# #import plotly.express as px\n",
    "# import openpyxl\n",
    "import pymysql\n",
    "from sqlalchemy import create_engine, text\n",
    "# # from decouple import config \n",
    "from numpy import nan\n",
    "#Import required packages\n",
    "import pandas as pd\n",
    "import numpy as np\n",
    "import seaborn as sns\n",
    "import matplotlib.pyplot as plt\n",
    "# from pyecharts import Bar\n",
    "import plotly.express as px\n",
    "from datetime import datetime\n",
    "from dateutil.relativedelta import relativedelta\n",
    "from dateutil.parser import parse\n",
    "import warnings\n",
    "warnings.filterwarnings('ignore')\n",
    "from selenium import webdriver\n",
    "from webdriver_manager.chrome import ChromeDriverManager\n",
    "from selenium.webdriver.common.by import By\n",
    "from IPython.core.interactiveshell import InteractiveShell\n",
    "InteractiveShell.ast_node_interactivity = \"all\"\n",
    "import os\n",
    "from dotenv import load_dotenv"
   ]
  },
  {
   "cell_type": "code",
   "execution_count": 2,
   "metadata": {},
   "outputs": [],
   "source": [
    "end_date = '2023-09-30'\n",
    "#end_date = datetime.today().strftime('%Y-%m-%d')\n",
    "year = ['2022-2023', '2023-2024']\n",
    "period = 'FY23Q2'"
   ]
  },
  {
   "attachments": {},
   "cell_type": "markdown",
   "metadata": {},
   "source": [
    "# Download databases"
   ]
  },
  {
   "cell_type": "code",
   "execution_count": 3,
   "metadata": {},
   "outputs": [
    {
     "data": {
      "text/plain": [
       "True"
      ]
     },
     "execution_count": 3,
     "metadata": {},
     "output_type": "execute_result"
    },
    {
     "name": "stderr",
     "output_type": "stream",
     "text": [
      "[WDM] - Downloading: 100%|██████████| 8.29M/8.29M [00:04<00:00, 1.76MB/s]\n"
     ]
    }
   ],
   "source": [
    "#Connecting to Commcare\n",
    "load_dotenv('id_cc.env')\n",
    "email = os.getenv('COMCARE_EMAIL')\n",
    "password = os.getenv('COMCARE_PASSWORD')\n",
    "\n",
    "#Defining the driver\n",
    "driver = webdriver.Chrome(ChromeDriverManager().install())\n",
    "driver.implicitly_wait(1000)\n",
    "\n",
    "#-------------------------------------------------------------------------------------------------------------------------------------------\n",
    "\n",
    "#Positive_kids_Information\n",
    "def positive_kids():\n",
    "    driver.get(\n",
    "    \"https://www.commcarehq.org/a/caris-test/data/export/custom/new/case/download/67352311fba5d3a5e285283aa4951676/\"\n",
    "    )\n",
    "    driver.find_element(By.XPATH,'//*[@id=\"id_auth-username\"]').send_keys(email)\n",
    "    driver.find_element(By.XPATH,'//*[@id=\"id_auth-password\"]').send_keys(password)\n",
    "    driver.find_element(By.CSS_SELECTOR,'button[type=submit]').click()\n",
    "    \n",
    "positive_kids()\n",
    "\n",
    "#Download positive database\n",
    "driver.find_element(By.XPATH,\"//*[@id='download-export-form']/form/div[2]/div/div[2]/div[1]/button/span[1]\").click()\n",
    "driver.find_element(By.XPATH,\"//*[@id='download-progress']/div/div/div[2]/div[1]/form/a/span[1]\").click()   \n",
    "#-----------------------------------------------------------------------------------------------------------------------------------------\n",
    "\n",
    "#OEV_kids_information\n",
    "\n",
    "def oev_kids():\n",
    "    driver.get(\n",
    "    \"https://www.commcarehq.org/a/caris-test/data/export/custom/new/case/download/690dc95932c1877d83a175978e1fa797/\"\n",
    "        )\n",
    "\n",
    "oev_kids()\n",
    "#Download oev database\n",
    "driver.find_element(By.XPATH,'//*[@id=\"download-export-form\"]/form/div[2]/div/div[2]/div[1]/button/span[1]').click()\n",
    "driver.find_element(By.XPATH,'//*[@id=\"download-progress\"]/div/div/div[2]/div[1]/form/a/span[1]').click()\n",
    "\n"
   ]
  },
  {
   "cell_type": "code",
   "execution_count": 4,
   "metadata": {},
   "outputs": [],
   "source": [
    "#------------------------------------------------------------------------------------------------------------------------------------------\n",
    "\n",
    "#Siblings\n",
    "def siblings():\n",
    "    driver.get(\n",
    "    \"https://www.commcarehq.org/a/caris-test/data/export/custom/new/case/download/690dc95932c1877d83a175978efa7448/\"\n",
    "    )\n",
    "\n",
    "siblings()\n",
    "\n",
    "#Download siblings\n",
    "driver.find_element(By.XPATH,'//*[@id=\"download-export-form\"]/form/div[2]/div/div[2]/div[1]/button/span[1]').click()\n",
    "driver.find_element(By.XPATH,'//*[@id=\"download-progress\"]/div/div/div[2]/div[1]/form/a/span[1]').click()\n",
    "\n",
    "#-------------------------------------------------------------------------------------------------------------------------------------------\n",
    "\n",
    "def dreams_schooling():\n",
    "    driver.get(\n",
    "        'https://www.commcarehq.org/a/caris-test/data/export/custom/new/case/download/ae3ce02aad63402d0108435a413d38cb/'\n",
    "    )\n",
    "\n",
    "#Muso beneficiaries\n",
    "dreams_schooling()\n",
    "driver.find_element(By.XPATH,\"//*[@id='download-export-form']/form/div[2]/div/div[2]/div[1]/button/span[1]\").click()\n",
    "driver.find_element(By.XPATH,\"//*[@id='download-progress']/div/div/div[2]/div[1]/form/a/span[1]\").click()"
   ]
  },
  {
   "cell_type": "code",
   "execution_count": 5,
   "metadata": {},
   "outputs": [],
   "source": [
    "\n",
    "def cwv():\n",
    "    driver.get(\n",
    "    'https://www.commcarehq.org/a/caris-test/data/export/custom/new/case/download/b02bef5ab09e219d3e30e9e16d14290f/'\n",
    "    )\n",
    "\n",
    "   #World Vision beneficiaries\n",
    "cwv()\n",
    "driver.find_element(By.XPATH,'//*[@id=\"download-export-form\"]/form/div[2]/div/div[2]/div[1]/button/span[1]').click()\n",
    "driver.find_element(By.XPATH,'//*[@id=\"download-progress\"]/div/div/div[2]/div[1]/form/a/span[1]').click()  \n"
   ]
  },
  {
   "cell_type": "code",
   "execution_count": 6,
   "metadata": {},
   "outputs": [
    {
     "data": {
      "text/plain": [
       "True"
      ]
     },
     "execution_count": 6,
     "metadata": {},
     "output_type": "execute_result"
    }
   ],
   "source": [
    "# get the environment variables needed\n",
    "load_dotenv()\n",
    "user = os.getenv('USRCaris')\n",
    "password = os.getenv('PASSCaris')\n",
    "host = os.getenv('HOSTCaris')\n",
    "db = os.getenv('DBCaris')\n",
    "\n",
    "conn_text = f'mysql+pymysql://{user}:{password}@{host}/{db}'\n",
    "engine = create_engine(conn_text)\n",
    "\n"
   ]
  },
  {
   "cell_type": "code",
   "execution_count": 7,
   "metadata": {},
   "outputs": [],
   "source": [
    "sql = '''\n",
    "SELECT \n",
    "    dm.id_patient as id_patient,\n",
    "    d.case_id,\n",
    "    p.patient_code AS code,\n",
    "    d.a_non_patisipan_an AS first_name,\n",
    "    d.b_siyati AS last_name,\n",
    "    TIMESTAMPDIFF(YEAR,\n",
    "        d.nan_ki_dat_ou_fet,\n",
    "        now()) AS age,\n",
    "    d.nan_ki_dat_ou_fet AS dob,\n",
    "    d.a1_dat_entvyou_a_ft_jjmmaa_egz_010817 AS interview_date,\n",
    "    d.e__telefn,\n",
    "    d.d_adrs AS adress,\n",
    "    IF(dm.id IS NOT NULL, 'yes', 'no') AS already_in_a_group,\n",
    "    dm.id_group AS actual_id_group,\n",
    "    dg.name AS actual_group_name,\n",
    "    dm.id_parenting_group AS actual_id_parenting_group,\n",
    "    dpg.name AS actual_parenting_group_name,\n",
    "    dh.name AS actual_hub,\n",
    "    ld.name AS actual_departement,\n",
    "    d.f_komin AS commune,\n",
    "    d.g_seksyon_kominal AS commune_section,\n",
    "    d.b1_non_moun_mennen_entvyou_a AS interviewer_firstname,\n",
    "    d.c1_siyati_moun_ki_f_entvyou_a AS interviewer_lastname,\n",
    "    d.d1_kad AS interviewer_role,\n",
    "    d.lot_kad AS interviewer_other_info,\n",
    "    d.h_kote_entvyou_a_ft AS interview_location,\n",
    "    d.paran_ou_vivan AS is_your_parent_alive,\n",
    "    d.i_non_manman AS mothers_name,\n",
    "    d.j_non_papa AS fathers_name,\n",
    "    d.k_reskonsab_devan_lalwa AS who_is_your_law_parent,\n",
    "    d.total,\n",
    "    d.organisation,\n",
    "    d.form_link\n",
    "FROM\n",
    "    caris_db.dreams_surveys_data d\n",
    "        LEFT JOIN\n",
    "    dream_member dm ON dm.case_id = d.case_id\n",
    "        LEFT JOIN\n",
    "    patient p ON p.id = dm.id_patient\n",
    "        LEFT JOIN\n",
    "    dream_group dg ON dg.id = dm.id_group\n",
    "        LEFT JOIN\n",
    "    dream_group dpg ON dpg.id = dm.id_parenting_group\n",
    "        LEFT JOIN\n",
    "    dream_hub dh ON dh.id = dg.id_dream_hub\n",
    "        LEFT JOIN\n",
    "    lookup_commune lc ON lc.id = dh.commune\n",
    "        LEFT JOIN\n",
    "    lookup_departement ld ON ld.id = lc.departement\n",
    "'''\n",
    "\n",
    "sdata= pd.read_sql_query(text(sql), engine.connect(), parse_dates = True)\n",
    "\n",
    "#fermeture de la connexion\n",
    "engine.dispose()\n",
    "\n",
    "#sdata.id_patient = sdata.id_patient.astype(int16)\n",
    "#sdata.age = sdata.age.astype(int16)\n",
    "SDATA = sdata[sdata.total>=14]\n"
   ]
  },
  {
   "attachments": {},
   "cell_type": "markdown",
   "metadata": {},
   "source": [
    "# Importing all databases"
   ]
  },
  {
   "cell_type": "code",
   "execution_count": 8,
   "metadata": {},
   "outputs": [],
   "source": [
    "#Importing databases\n",
    "positive = pd.read_excel(f\"~/Downloads/schooling Enfant positif {str(datetime.today().strftime('%Y-%m-%d'))}.xlsx\", parse_dates = True)\n",
    "oev = pd.read_excel(f\"~/Downloads/schooling oev {str(datetime.today().strftime('%Y-%m-%d'))}.xlsx\", parse_dates = True)\n",
    "siblings = pd.read_excel(f\"~/Downloads/schooling sibling  {str(datetime.today().strftime('%Y-%m-%d'))}.xlsx\", parse_dates = True)\n",
    "dreams = pd.read_excel(f\"~/Downloads/schooling_dreams {str(datetime.today().strftime('%Y-%m-%d'))}.xlsx\")\n",
    "wv = pd.read_excel(f\"~/Downloads/schooling_cwv_enrollment (created 2023-01-04) {str(datetime.today().strftime('%Y-%m-%d'))}.xlsx\")"
   ]
  },
  {
   "cell_type": "code",
   "execution_count": 9,
   "metadata": {},
   "outputs": [],
   "source": [
    "dreams.rename(\n",
    "    columns={\n",
    "        'dreams_code':\"code\",\n",
    "        \"fullname\":\"not_fullname\",\n",
    "        \"nom_patisipan_dreams\":\"fullname\",\n",
    "        \"Office\":\"office\",\n",
    "        \"infant_dob\":\"forget_dob\"\n",
    "    },\n",
    "    inplace=True\n",
    ")\n",
    "\n",
    "dreams = dreams.merge(SDATA[['code','dob']],on=\"code\",how=\"left\")"
   ]
  },
  {
   "attachments": {},
   "cell_type": "markdown",
   "metadata": {},
   "source": [
    "# Data wrangling"
   ]
  },
  {
   "cell_type": "code",
   "execution_count": 10,
   "metadata": {},
   "outputs": [],
   "source": [
    "#Rename some columns\n",
    "\n",
    "positive.rename(columns = {'mention_reussie': 'eskew_pase'}, inplace = True)\n",
    "\n",
    "oev.rename(columns = {'parent_patient_code':'patient_code',\n",
    "                     'school_commune_1': 'school_commune',\n",
    "                     'is_infant_success_school_year': 'eskew_pase'}, inplace = True)\n",
    "\n",
    "siblings.rename(columns = {'parent_patient_code':'patient_code',\n",
    "                           'is_infant_success_school_year': 'eskew_pase'}, inplace = True)\n",
    "\n",
    "dreams.rename(columns = {'code':'patient_code',\n",
    "                     'school_commune_1': 'school_commune',\n",
    "                     'is_infant_success_school_year': 'eskew_pase',\n",
    "                     'dob':\"infant_dob\"\n",
    "                     }, inplace = True)\n",
    "\n",
    "wv['patient_code'] = \"\"\n",
    "wv.rename(columns = {'school_commune_1': 'school_commune',\n",
    "                    'is_infant_success_school_year': 'eskew_pase',\n",
    "                    'full_name': 'fullname',\n",
    "                    'gender_sex': 'gender',\n",
    "                    'Office': 'office'}, inplace = True)"
   ]
  },
  {
   "cell_type": "code",
   "execution_count": 11,
   "metadata": {},
   "outputs": [],
   "source": [
    "#---------------------------------------------------------------------------------------------------------------------------------------------------\n",
    "#Add a categorical column\n",
    "positive['type'] = 'positif'\n",
    "oev['type'] = 'oev'\n",
    "siblings['type'] = 'fratrie'\n",
    "dreams['type'] = 'dreams'\n",
    "wv['type'] = 'WorldVision'\n",
    "\n",
    "\n",
    "positive['is_schooling_vouchers_elligible'] = nan\n",
    "oev['is_schooling_vouchers_elligible'] = nan\n",
    "siblings['is_schooling_vouchers_elligible'] = nan\n",
    "\n",
    "#filtering\n",
    "c_positive = positive[positive['schooling_year'].isin(year)]\n",
    "c_positive = c_positive.drop_duplicates('patient_code').reset_index(drop = True)\n",
    "c_oev = oev[oev['schooling_year'].isin(year)]\n",
    "c_siblings = siblings[siblings['schooling_year'].isin(year)]\n",
    "c_dreams = dreams[dreams['schooling_year'].isin(year)]\n",
    "c_wv = wv[wv['schooling_year'].isin(year)]"
   ]
  },
  {
   "cell_type": "code",
   "execution_count": 12,
   "metadata": {},
   "outputs": [],
   "source": [
    "\n",
    "#---------------------------------------------------------------------------------------------------------------------------------------------------\n",
    "#Subsets from main databases\n",
    "\n",
    "# Interest columns\n",
    "col = ['caseid', 'dat_peyman_fet','fullname', 'infant_dob', 'gender', 'infant_commune', 'type', 'office', 'patient_code', 'closed', 'school_commune', \n",
    "       'schooling_year', 'eskew_peye', 'eskew_pase', \"siw_pa_peye_ki_rezon\",'is_schooling_vouchers_elligible','owner_name']\n",
    "\n",
    "c_positive = c_positive[col]\n",
    "c_oev = c_oev[col]\n",
    "c_siblings = c_siblings[col]\n",
    "c_dreams = c_dreams[col]\n",
    "c_wv = c_wv[col]"
   ]
  },
  {
   "cell_type": "code",
   "execution_count": 13,
   "metadata": {},
   "outputs": [],
   "source": [
    "\n",
    "\n",
    "\n",
    "\n",
    "schooling_survey = pd.concat([c_positive,c_oev,c_siblings,c_dreams, c_wv],ignore_index=True)\n",
    "#schooling_data_1 = pd.concat([c_positive, c_oev])\n",
    "#schooling_survey_0 = schooling_data_1.append(c_siblings).reset_index(drop=True)\n",
    "#schooling_survey = schooling_survey_0.append(c_dreams).reset_index(drop=True)\n",
    "\n",
    "# #---------------------------------------------------------------------------------------------------------------------------------------------------\n",
    "#Creating age column\n",
    "c_positive['infant_dob'] = pd.to_datetime(c_positive['infant_dob'], errors = 'coerce')\n",
    "c_oev['infant_dob'] = pd.to_datetime(c_oev['infant_dob'], errors = 'coerce')\n",
    "c_siblings['infant_dob'] = pd.to_datetime(c_siblings['infant_dob'], errors = 'coerce')\n",
    "c_dreams.infant_dob.fillna(\"1901-01-01\",inplace=True)\n",
    "c_dreams['infant_dob'] = pd.to_datetime(c_dreams['infant_dob'], errors = 'coerce')\n",
    "c_wv.infant_dob.fillna(\"1901-01-01\",inplace=True)\n",
    "c_wv['infant_dob'] = pd.to_datetime(c_wv['infant_dob'], errors = 'coerce')\n",
    "\n",
    "#FUnction 1\n",
    "def get_age(date):\n",
    "    return relativedelta(parse(end_date), date).years\n",
    "\n",
    "#Function 2\n",
    "def age_range(age):\n",
    "    if age < 1:\n",
    "        return '< 1'\n",
    "    elif age in range(1, 5):\n",
    "        return '1 - 4'\n",
    "    elif age in range(5, 10):\n",
    "        return '5 - 9'\n",
    "    elif age in range(10, 15):\n",
    "        return '10 - 14'\n",
    "    elif age in range(15, 18):\n",
    "        return '15 - 17'\n",
    "    else:\n",
    "        return '18+'\n",
    "\n",
    "\n",
    "# schooling_survey['infant_dob'] = pd.to_datetime(schooling_survey['infant_dob'], errors = 'coerce')\n",
    "# schooling_survey['age'] = schooling_survey['infant_dob'].map(get_age)\n",
    "# schooling_survey['age_range'] = schooling_survey['age'].map(age_range)\n"
   ]
  },
  {
   "cell_type": "code",
   "execution_count": 14,
   "metadata": {},
   "outputs": [
    {
     "data": {
      "text/plain": [
       "array(['---', 'wi', 'non', 'wi_fra', 'non_fra', nan], dtype=object)"
      ]
     },
     "execution_count": 14,
     "metadata": {},
     "output_type": "execute_result"
    },
    {
     "data": {
      "text/plain": [
       "array(['---', 'wi', 'non', 'wi_fra', 'non_fra'], dtype=object)"
      ]
     },
     "execution_count": 14,
     "metadata": {},
     "output_type": "execute_result"
    }
   ],
   "source": [
    "schooling_survey.eskew_pase.unique()\n",
    "schooling_survey['eskew_pase'].fillna(\"---\",inplace=True)\n",
    "schooling_survey.eskew_pase.unique()"
   ]
  },
  {
   "cell_type": "code",
   "execution_count": 15,
   "metadata": {},
   "outputs": [],
   "source": [
    "schooling_survey['eskew_pase'].replace(['wi_fra', 'non_fra','---'], ['wi', 'non','---'], inplace = True)"
   ]
  },
  {
   "cell_type": "code",
   "execution_count": 16,
   "metadata": {},
   "outputs": [],
   "source": [
    "\n",
    "schooling_survey.loc[(schooling_survey.caseid==\"776e79a8-5aa3-448a-bace-78b0cb6b5a01\"),'gender'] = 2\n",
    "schooling_survey.loc[(schooling_survey.caseid==\"d6e46bbe-1afd-4d49-baab-31d8d62b54de\"),'gender'] = 2\n",
    "schooling_survey.loc[(schooling_survey.caseid==\"c8f43474-104c-4f5b-8a2c-c1b6861a4177\"),'gender'] = 2\n",
    "schooling_survey.loc[(schooling_survey.caseid==\"44a135b6-aac3-4735-8858-7698ff34295c\"),'gender'] = 2\n",
    "schooling_survey.loc[(schooling_survey.caseid==\"8eb8f6a2-c5b3-4705-898f-fcfdb7e67b35\"),'gender'] = 2\n",
    "schooling_survey.loc[(schooling_survey.caseid==\"bfca3538-9f60-416d-9e19-d9ee4d804a15\"),'gender'] = 1\n",
    "schooling_survey.loc[(schooling_survey.caseid==\"2a427341-208b-447f-8354-c6c1b32b4fd5\"),'gender'] = 1\n",
    "schooling_survey.loc[(schooling_survey.caseid==\"4fcd130f-218c-4866-a894-777db5c837cc\"),'gender'] = 1\n",
    "schooling_survey.loc[(schooling_survey.caseid==\"cf9c7581-a0a2-4750-b519-8bfa3f3c5701\"),'gender'] = 1"
   ]
  },
  {
   "cell_type": "code",
   "execution_count": 17,
   "metadata": {},
   "outputs": [
    {
     "data": {
      "text/plain": [
       "array(['2', '1', nan, '2.0', 'F', '0.0', 2, 1, 'M'], dtype=object)"
      ]
     },
     "execution_count": 17,
     "metadata": {},
     "output_type": "execute_result"
    },
    {
     "data": {
      "text/plain": [
       "array(['Female', 'Male', nan, '0.0', 'M'], dtype=object)"
      ]
     },
     "execution_count": 17,
     "metadata": {},
     "output_type": "execute_result"
    }
   ],
   "source": [
    "schooling_survey.gender.unique()\n",
    "schooling_survey['gender'].replace([1,'1', '2','F',2,'2.0'], ['Male','Male', 'Female','Female','Female','Female'], inplace = True)\n",
    "schooling_survey.gender.unique()"
   ]
  },
  {
   "cell_type": "code",
   "execution_count": 18,
   "metadata": {},
   "outputs": [
    {
     "data": {
      "text/plain": [
       "array(['Saint-Raphaël', \"Saint-Michel de l'Attalaye\", 'Carrefour',\n",
       "       'Port-au-Prince', 'Hinche', 'Cité Soleil', 'Saint-Marc', 'Delmas',\n",
       "       'Tabarre', 'Arcahaie'], dtype=object)"
      ]
     },
     "execution_count": 18,
     "metadata": {},
     "output_type": "execute_result"
    },
    {
     "data": {
      "text/plain": [
       "array(['---', 'Saint-Raphaël', 'Pignon', \"Saint-Michel de l'Attalaye\",\n",
       "       'Port-au-Prince', 'Cité Soleil', 'Hinche', 'Tabarre', 'Saint-Marc',\n",
       "       'Delmas'], dtype=object)"
      ]
     },
     "execution_count": 18,
     "metadata": {},
     "output_type": "execute_result"
    }
   ],
   "source": [
    "schooling_survey[schooling_survey.office.isna()].infant_commune.unique()\n",
    "schooling_survey[schooling_survey.office.isna()].school_commune.unique()"
   ]
  },
  {
   "cell_type": "code",
   "execution_count": 19,
   "metadata": {},
   "outputs": [],
   "source": [
    "schooling_survey['office'].fillna(\"---\",inplace=True)"
   ]
  },
  {
   "cell_type": "code",
   "execution_count": 20,
   "metadata": {},
   "outputs": [
    {
     "data": {
      "text/plain": [
       "6229"
      ]
     },
     "execution_count": 20,
     "metadata": {},
     "output_type": "execute_result"
    },
    {
     "data": {
      "text/html": [
       "<div>\n",
       "<style scoped>\n",
       "    .dataframe tbody tr th:only-of-type {\n",
       "        vertical-align: middle;\n",
       "    }\n",
       "\n",
       "    .dataframe tbody tr th {\n",
       "        vertical-align: top;\n",
       "    }\n",
       "\n",
       "    .dataframe thead th {\n",
       "        text-align: right;\n",
       "    }\n",
       "</style>\n",
       "<table border=\"1\" class=\"dataframe\">\n",
       "  <thead>\n",
       "    <tr style=\"text-align: right;\">\n",
       "      <th></th>\n",
       "      <th>caseid</th>\n",
       "      <th>dat_peyman_fet</th>\n",
       "      <th>fullname</th>\n",
       "      <th>infant_dob</th>\n",
       "      <th>gender</th>\n",
       "      <th>infant_commune</th>\n",
       "      <th>type</th>\n",
       "      <th>office</th>\n",
       "      <th>patient_code</th>\n",
       "      <th>closed</th>\n",
       "      <th>school_commune</th>\n",
       "      <th>schooling_year</th>\n",
       "      <th>eskew_peye</th>\n",
       "      <th>eskew_pase</th>\n",
       "      <th>siw_pa_peye_ki_rezon</th>\n",
       "      <th>is_schooling_vouchers_elligible</th>\n",
       "      <th>owner_name</th>\n",
       "    </tr>\n",
       "  </thead>\n",
       "  <tbody>\n",
       "    <tr>\n",
       "      <th>0</th>\n",
       "      <td>85da2fb5-dbb4-4ba7-93c6-cb8ace08bf4d</td>\n",
       "      <td>2023-02-16</td>\n",
       "      <td>Danise Telfort</td>\n",
       "      <td>2008-07-24</td>\n",
       "      <td>Female</td>\n",
       "      <td>Pilate</td>\n",
       "      <td>positif</td>\n",
       "      <td>CAP</td>\n",
       "      <td>PIL/HOEP/ST00856</td>\n",
       "      <td>False</td>\n",
       "      <td>---</td>\n",
       "      <td>2022-2023</td>\n",
       "      <td>wi</td>\n",
       "      <td>---</td>\n",
       "      <td>---</td>\n",
       "      <td>NaN</td>\n",
       "      <td>CAP</td>\n",
       "    </tr>\n",
       "    <tr>\n",
       "      <th>1</th>\n",
       "      <td>992fe86f-bbf0-496d-9b66-2f6f4005713a</td>\n",
       "      <td>2022-12-06</td>\n",
       "      <td>Stephenson Jean</td>\n",
       "      <td>2010-11-16</td>\n",
       "      <td>Male</td>\n",
       "      <td>Aquin</td>\n",
       "      <td>positif</td>\n",
       "      <td>CAY</td>\n",
       "      <td>FDN/CBET/SO00103</td>\n",
       "      <td>False</td>\n",
       "      <td>---</td>\n",
       "      <td>2022-2023</td>\n",
       "      <td>wi</td>\n",
       "      <td>---</td>\n",
       "      <td>---</td>\n",
       "      <td>NaN</td>\n",
       "      <td>CAY</td>\n",
       "    </tr>\n",
       "  </tbody>\n",
       "</table>\n",
       "</div>"
      ],
      "text/plain": [
       "                                 caseid dat_peyman_fet         fullname  \\\n",
       "0  85da2fb5-dbb4-4ba7-93c6-cb8ace08bf4d     2023-02-16   Danise Telfort   \n",
       "1  992fe86f-bbf0-496d-9b66-2f6f4005713a     2022-12-06  Stephenson Jean   \n",
       "\n",
       "   infant_dob  gender infant_commune     type office      patient_code  \\\n",
       "0  2008-07-24  Female         Pilate  positif    CAP  PIL/HOEP/ST00856   \n",
       "1  2010-11-16    Male          Aquin  positif    CAY  FDN/CBET/SO00103   \n",
       "\n",
       "   closed school_commune schooling_year eskew_peye eskew_pase  \\\n",
       "0   False            ---      2022-2023         wi        ---   \n",
       "1   False            ---      2022-2023         wi        ---   \n",
       "\n",
       "  siw_pa_peye_ki_rezon is_schooling_vouchers_elligible owner_name  \n",
       "0                  ---                             NaN        CAP  \n",
       "1                  ---                             NaN        CAY  "
      ]
     },
     "execution_count": 20,
     "metadata": {},
     "output_type": "execute_result"
    }
   ],
   "source": [
    "#--------------------------------------------------------------------------------------------------------------------------------------------------\n",
    "schooling_survey.shape[0]\n",
    "#schooling_survey['office'].fillna('CAP', inplace = True)\n",
    "schooling_survey['office'] = np.where(schooling_survey['office'] == '---', schooling_survey['owner_name'], schooling_survey['office'])\n",
    "schooling_survey.head(2)"
   ]
  },
  {
   "cell_type": "code",
   "execution_count": 21,
   "metadata": {},
   "outputs": [],
   "source": [
    "schooling_survey.siw_pa_peye_ki_rezon = schooling_survey.siw_pa_peye_ki_rezon.str.replace(\" \",\"\")\n",
    "schooling_survey.siw_pa_peye_ki_rezon = schooling_survey.siw_pa_peye_ki_rezon.str.lower()"
   ]
  },
  {
   "attachments": {},
   "cell_type": "markdown",
   "metadata": {},
   "source": [
    "# Surveyed kids"
   ]
  },
  {
   "cell_type": "code",
   "execution_count": 22,
   "metadata": {},
   "outputs": [
    {
     "data": {
      "text/html": [
       "<div>\n",
       "<style scoped>\n",
       "    .dataframe tbody tr th:only-of-type {\n",
       "        vertical-align: middle;\n",
       "    }\n",
       "\n",
       "    .dataframe tbody tr th {\n",
       "        vertical-align: top;\n",
       "    }\n",
       "\n",
       "    .dataframe thead th {\n",
       "        text-align: right;\n",
       "    }\n",
       "</style>\n",
       "<table border=\"1\" class=\"dataframe\">\n",
       "  <thead>\n",
       "    <tr style=\"text-align: right;\">\n",
       "      <th></th>\n",
       "      <th>index</th>\n",
       "      <th>Total</th>\n",
       "    </tr>\n",
       "  </thead>\n",
       "  <tbody>\n",
       "    <tr>\n",
       "      <th>0</th>\n",
       "      <td>positive_surveyed</td>\n",
       "      <td>1104</td>\n",
       "    </tr>\n",
       "    <tr>\n",
       "      <th>1</th>\n",
       "      <td>oev_surveyed</td>\n",
       "      <td>2569</td>\n",
       "    </tr>\n",
       "    <tr>\n",
       "      <th>2</th>\n",
       "      <td>siblings_surveyed</td>\n",
       "      <td>1136</td>\n",
       "    </tr>\n",
       "    <tr>\n",
       "      <th>3</th>\n",
       "      <td>dreams_surveyed</td>\n",
       "      <td>534</td>\n",
       "    </tr>\n",
       "    <tr>\n",
       "      <th>4</th>\n",
       "      <td>worldvision_surveyed</td>\n",
       "      <td>886</td>\n",
       "    </tr>\n",
       "  </tbody>\n",
       "</table>\n",
       "</div>"
      ],
      "text/plain": [
       "                  index  Total\n",
       "0     positive_surveyed   1104\n",
       "1          oev_surveyed   2569\n",
       "2     siblings_surveyed   1136\n",
       "3       dreams_surveyed    534\n",
       "4  worldvision_surveyed    886"
      ]
     },
     "execution_count": 22,
     "metadata": {},
     "output_type": "execute_result"
    }
   ],
   "source": [
    "positive_surveyed = schooling_survey[schooling_survey['type'] == 'positif']\n",
    "oev_surveyed = schooling_survey[schooling_survey['type'] == 'oev']\n",
    "siblings_surveyed = schooling_survey[schooling_survey['type'] == 'fratrie']\n",
    "dreams_surveyed = schooling_survey[schooling_survey['type'] == 'dreams']\n",
    "cwv_surveyed = schooling_survey[schooling_survey['type'] == 'WorldVision']\n",
    "\n",
    "df_surveyed = pd.DataFrame(data = [positive_surveyed.shape[0], oev_surveyed.shape[0], \n",
    "                                   siblings_surveyed.shape[0], dreams_surveyed.shape[0], cwv_surveyed.shape[0]], \n",
    "                           index = ['positive_surveyed', 'oev_surveyed', 'siblings_surveyed','dreams_surveyed', 'worldvision_surveyed'], \n",
    "                 columns = ['Total'])\n",
    "df_surveyed.reset_index(inplace = True)\n",
    "df_surveyed"
   ]
  },
  {
   "cell_type": "code",
   "execution_count": 23,
   "metadata": {},
   "outputs": [
    {
     "data": {
      "text/plain": [
       "6229"
      ]
     },
     "execution_count": 23,
     "metadata": {},
     "output_type": "execute_result"
    }
   ],
   "source": [
    "df_surveyed['Total'].sum()"
   ]
  },
  {
   "attachments": {},
   "cell_type": "markdown",
   "metadata": {},
   "source": [
    "# Barplot for surveyed kids"
   ]
  },
  {
   "cell_type": "code",
   "execution_count": 24,
   "metadata": {},
   "outputs": [
    {
     "data": {
      "text/plain": [
       "<Axes: xlabel='index', ylabel='Total'>"
      ]
     },
     "execution_count": 24,
     "metadata": {},
     "output_type": "execute_result"
    },
    {
     "data": {
      "image/png": "[encoded data removed]",
      "text/plain": [
       "<Figure size 640x480 with 1 Axes>"
      ]
     },
     "metadata": {},
     "output_type": "display_data"
    }
   ],
   "source": [
    "survey = sns.barplot(x='index', y='Total', data = df_surveyed)\n",
    "survey"
   ]
  },
  {
   "cell_type": "code",
   "execution_count": 25,
   "metadata": {},
   "outputs": [],
   "source": [
    "# plt.barh(df_surveyed['index'], df_surveyed['Total'])"
   ]
  },
  {
   "attachments": {},
   "cell_type": "markdown",
   "metadata": {},
   "source": [
    "# Schooling Beneficiaries"
   ]
  },
  {
   "cell_type": "code",
   "execution_count": 26,
   "metadata": {},
   "outputs": [],
   "source": [
    "# siw_pa_peye_ki_rezon\n",
    "raison_enfant_positif = [\n",
    "    \"AU\",\n",
    "    \"Payé par parent\",\n",
    "    \"payé par ONG compassion\",\n",
    "    \"yon lot ONG PEYE pou li\",\n",
    "    \"peye dèt 2020- 2021\",\n",
    "    \"wi yo payé,nou poko jwenn reçu a\",\n",
    "    \"Nou peye men nou poko jwenn resi a\",\n",
    "    \"yo peye pou yo nou poko jwenn resi a\",\n",
    "    \"nou peye,men nou poko genyen reçu a\"\n",
    "]\n",
    "\n",
    "# siw_pa_peye_ki_rezon\n",
    "raison_oev = [\n",
    "    \"AU\",\n",
    "    \"Payé par parent\",\n",
    "    \"lekol la peye men moun ki responsab pr pran fich depo a pa disponib\",\n",
    "    \"wi yo peye,nou poko jwenn reçu a\",\n",
    "    \"wi yo payé,nou poko jwenn reçu a\"\n",
    "]\n",
    "\n",
    "# siw_pa_peye_ki_rezon\n",
    "raison_siblings = [\n",
    "    \"AU\",\n",
    "    \"li payé,men nou poko gen reçu pou li\",\n",
    "    \"yon Lot ONG PEYE pou li\",\n",
    "    \"wi yo payé,nou poko jwenn reçu a\"\n",
    "]\n",
    "\n",
    "# siw_pa_peye_ki_rezon\n",
    "touslesraisons = [\n",
    "    \"AU\",\n",
    "    \"Payé par parent\",\n",
    "    \"payé par ONG compassion\",\n",
    "    \"peye dèt 2020- 2021\",\n",
    "    \"wi yo payé,nou poko jwenn reçu a\",\n",
    "    \"Nou peye men nou poko jwenn resi a\",\n",
    "    \"yo peye pou yo nou poko jwenn resi a\",\n",
    "    \"nou peye,men nou poko genyen reçu a\",\n",
    "    \"Payé par parent\",\n",
    "    \"lekol la peye men moun ki responsab pr pran fich depo a pa disponib\",\n",
    "    \"wi yo peye,nou poko jwenn reçu a\",\n",
    "    \"li payé,men nou poko gen reçu pou li\",\n",
    "    \"yon Lot ONG PEYE pou li\"\n",
    "]\n",
    "\n",
    "\n",
    "raison_enfant_positif = [item.replace(\" \",\"\") for item in raison_enfant_positif]\n",
    "raison_oev = [item.replace(\" \",\"\") for item in raison_oev]\n",
    "raison_siblings = [item.replace(\" \",\"\") for item in raison_siblings]\n",
    "touslesraisons = [item.replace(\" \",\"\") for item in touslesraisons]\n",
    "\n",
    "raison_enfant_positif = [item.lower() for item in raison_enfant_positif]\n",
    "raison_oev = [item.lower() for item in raison_oev]\n",
    "raison_siblings = [item.lower() for item in raison_siblings]\n",
    "touslesraisons = [item.lower() for item in touslesraisons]\n"
   ]
  },
  {
   "cell_type": "code",
   "execution_count": 27,
   "metadata": {},
   "outputs": [
    {
     "data": {
      "text/plain": [
       "1"
      ]
     },
     "execution_count": 27,
     "metadata": {},
     "output_type": "execute_result"
    },
    {
     "data": {
      "text/plain": [
       "3"
      ]
     },
     "execution_count": 27,
     "metadata": {},
     "output_type": "execute_result"
    },
    {
     "data": {
      "text/plain": [
       "0"
      ]
     },
     "execution_count": 27,
     "metadata": {},
     "output_type": "execute_result"
    }
   ],
   "source": [
    "positive_surveyed[positive_surveyed.siw_pa_peye_ki_rezon.isin(raison_enfant_positif)].caseid.count()\n",
    "oev_surveyed[oev_surveyed.siw_pa_peye_ki_rezon.isin(raison_oev)].caseid.count()\n",
    "siblings_surveyed[siblings_surveyed.siw_pa_peye_ki_rezon.isin(raison_siblings)].caseid.count()\n"
   ]
  },
  {
   "cell_type": "code",
   "execution_count": 28,
   "metadata": {},
   "outputs": [
    {
     "data": {
      "text/html": [
       "<div>\n",
       "<style scoped>\n",
       "    .dataframe tbody tr th:only-of-type {\n",
       "        vertical-align: middle;\n",
       "    }\n",
       "\n",
       "    .dataframe tbody tr th {\n",
       "        vertical-align: top;\n",
       "    }\n",
       "\n",
       "    .dataframe thead th {\n",
       "        text-align: right;\n",
       "    }\n",
       "</style>\n",
       "<table border=\"1\" class=\"dataframe\">\n",
       "  <thead>\n",
       "    <tr style=\"text-align: right;\">\n",
       "      <th></th>\n",
       "      <th>index</th>\n",
       "      <th>Total</th>\n",
       "    </tr>\n",
       "  </thead>\n",
       "  <tbody>\n",
       "    <tr>\n",
       "      <th>0</th>\n",
       "      <td>positive_benef</td>\n",
       "      <td>991</td>\n",
       "    </tr>\n",
       "    <tr>\n",
       "      <th>1</th>\n",
       "      <td>oev_benef</td>\n",
       "      <td>2199</td>\n",
       "    </tr>\n",
       "    <tr>\n",
       "      <th>2</th>\n",
       "      <td>siblings_benef</td>\n",
       "      <td>979</td>\n",
       "    </tr>\n",
       "    <tr>\n",
       "      <th>3</th>\n",
       "      <td>dreams_benef</td>\n",
       "      <td>462</td>\n",
       "    </tr>\n",
       "    <tr>\n",
       "      <th>4</th>\n",
       "      <td>worldvision_benef</td>\n",
       "      <td>747</td>\n",
       "    </tr>\n",
       "  </tbody>\n",
       "</table>\n",
       "</div>"
      ],
      "text/plain": [
       "               index  Total\n",
       "0     positive_benef    991\n",
       "1          oev_benef   2199\n",
       "2     siblings_benef    979\n",
       "3       dreams_benef    462\n",
       "4  worldvision_benef    747"
      ]
     },
     "execution_count": 28,
     "metadata": {},
     "output_type": "execute_result"
    }
   ],
   "source": [
    "\n",
    "\n",
    "pos_benef = positive_surveyed[\n",
    "       (positive_surveyed['eskew_peye'] == 'wi') |\n",
    "       (positive_surveyed.siw_pa_peye_ki_rezon.isin(raison_enfant_positif))\n",
    "]\n",
    "oev_benef = oev_surveyed[\n",
    "    (oev_surveyed['eskew_peye'] == 'wi') |\n",
    "    (oev_surveyed.siw_pa_peye_ki_rezon.isin(raison_oev))\n",
    "]\n",
    "sib_benef = siblings_surveyed[\n",
    "    (siblings_surveyed['eskew_peye'] == 'wi') |\n",
    "    (siblings_surveyed.siw_pa_peye_ki_rezon.isin(raison_siblings))\n",
    "]\n",
    "dreams_benef = dreams_surveyed.query(\n",
    "    'closed==False & eskew_peye==\"1\"'\n",
    ")\n",
    "\n",
    "cwv_benef = cwv_surveyed[cwv_surveyed['eskew_peye'] == '1']\n",
    "\n",
    "df_benef = pd.DataFrame(data = [\n",
    "    pos_benef.shape[0], \n",
    "    oev_benef.shape[0], \n",
    "    sib_benef.shape[0],\n",
    "    dreams_benef.shape[0],\n",
    "    cwv_benef.shape[0]\n",
    "    ], \n",
    "    index = [\n",
    "        'positive_benef',\n",
    "        'oev_benef',\n",
    "        'siblings_benef',\n",
    "        'dreams_benef',\n",
    "        'worldvision_benef'\n",
    "    ], \n",
    "    columns = ['Total']\n",
    ")\n",
    "df_benef.reset_index(inplace = True)\n",
    "df_benef"
   ]
  },
  {
   "cell_type": "code",
   "execution_count": 29,
   "metadata": {},
   "outputs": [
    {
     "data": {
      "text/plain": [
       "5378"
      ]
     },
     "execution_count": 29,
     "metadata": {},
     "output_type": "execute_result"
    }
   ],
   "source": [
    "df_benef['Total'].sum()"
   ]
  },
  {
   "cell_type": "code",
   "execution_count": 30,
   "metadata": {},
   "outputs": [
    {
     "data": {
      "text/plain": [
       "1"
      ]
     },
     "execution_count": 30,
     "metadata": {},
     "output_type": "execute_result"
    },
    {
     "data": {
      "text/plain": [
       "3"
      ]
     },
     "execution_count": 30,
     "metadata": {},
     "output_type": "execute_result"
    },
    {
     "data": {
      "text/plain": [
       "0"
      ]
     },
     "execution_count": 30,
     "metadata": {},
     "output_type": "execute_result"
    }
   ],
   "source": [
    "pos_benef[pos_benef.siw_pa_peye_ki_rezon.isin(raison_enfant_positif)].caseid.count()\n",
    "oev_benef[oev_benef.siw_pa_peye_ki_rezon.isin(raison_oev)].caseid.count()\n",
    "sib_benef[sib_benef.siw_pa_peye_ki_rezon.isin(raison_siblings)].caseid.count()"
   ]
  },
  {
   "attachments": {},
   "cell_type": "markdown",
   "metadata": {},
   "source": [
    "# Bar plot for payment"
   ]
  },
  {
   "cell_type": "code",
   "execution_count": 31,
   "metadata": {},
   "outputs": [
    {
     "data": {
      "text/plain": [
       "<Axes: xlabel='index', ylabel='Total'>"
      ]
     },
     "execution_count": 31,
     "metadata": {},
     "output_type": "execute_result"
    },
    {
     "data": {
      "image/png": "[encoded data removed]",
      "text/plain": [
       "<Figure size 640x480 with 1 Axes>"
      ]
     },
     "metadata": {},
     "output_type": "display_data"
    }
   ],
   "source": [
    "payment = sns.barplot(x='index', y='Total', data = df_benef)\n",
    "payment"
   ]
  },
  {
   "cell_type": "code",
   "execution_count": 32,
   "metadata": {},
   "outputs": [],
   "source": [
    "schooling_benef = pd.concat([pos_benef,oev_benef,sib_benef,dreams_benef, cwv_benef],ignore_index=True)\n"
   ]
  },
  {
   "cell_type": "code",
   "execution_count": 33,
   "metadata": {},
   "outputs": [],
   "source": [
    "# \"\"\" schooling_benef = schooling_survey[\n",
    "#     (schooling_survey['eskew_peye'] == 'wi') |\n",
    "#     (schooling_survey.siw_pa_peye_ki_rezon.isin(touslesraisons))\n",
    "# ] \"\"\"\n",
    "\n",
    "# # schooling_benef = pd.concat([pos_benef,oev_benef,sib_benef,dreams_benef],ignore_index=True)\n",
    "# PT = schooling_benef.pivot_table(index = 'age_range', columns = 'type',values = 'caseid', aggfunc = len)\n",
    "\n",
    "# PT = PT.reindex(['< 1', '1 - 4', '5 - 9', '10 - 14', '15 - 17', '18+'])\n",
    "# PT.rename(columns = {'caseid': \"Nombre de paiement enregistré\"}, inplace = True)\n",
    "# PT = PT.append(PT.sum(numeric_only=True).rename('Total'))\n",
    "# # PT = PT.reindex(columns = columns)\n",
    "# PT"
   ]
  },
  {
   "cell_type": "code",
   "execution_count": 34,
   "metadata": {},
   "outputs": [
    {
     "data": {
      "text/plain": [
       "\" Datim = schooling_benef.pivot_table(index = 'infant_commune', values = 'caseid', columns = ['gender', 'age_range'], aggfunc = len,\\n                                   margins = True, margins_name = 'Total')\\n\\ncolumns = [('Female', '< 1'),\\n ('Female', '1 - 4'),\\n ('Female', '5 - 9'),\\n ('Female', '10 - 14'),\\n ('Female', '15 - 17'),\\n ('Female', '18+'),\\n ('Male', '< 1'),\\n ('Male', '1 - 4'),\\n ('Male', '5 - 9'),\\n ('Male', '10 - 14'),\\n ('Male', '15 - 17'),\\n ('Male', '18+')]\\n\\nDatim = Datim.reindex(columns = columns)\\nDatim.fillna(0, inplace = True)\\n# Datim.columns = ['_'.join(col) for col in Datim.columns.values]\\n# Datim.rename(columns = {'':'Co'})\\nDatim \""
      ]
     },
     "execution_count": 34,
     "metadata": {},
     "output_type": "execute_result"
    }
   ],
   "source": [
    "\"\"\" Datim = schooling_benef.pivot_table(index = 'infant_commune', values = 'caseid', columns = ['gender', 'age_range'], aggfunc = len,\n",
    "                                   margins = True, margins_name = 'Total')\n",
    "\n",
    "columns = [('Female', '< 1'),\n",
    " ('Female', '1 - 4'),\n",
    " ('Female', '5 - 9'),\n",
    " ('Female', '10 - 14'),\n",
    " ('Female', '15 - 17'),\n",
    " ('Female', '18+'),\n",
    " ('Male', '< 1'),\n",
    " ('Male', '1 - 4'),\n",
    " ('Male', '5 - 9'),\n",
    " ('Male', '10 - 14'),\n",
    " ('Male', '15 - 17'),\n",
    " ('Male', '18+')]\n",
    "\n",
    "Datim = Datim.reindex(columns = columns)\n",
    "Datim.fillna(0, inplace = True)\n",
    "# Datim.columns = ['_'.join(col) for col in Datim.columns.values]\n",
    "# Datim.rename(columns = {'':'Co'})\n",
    "Datim \"\"\""
   ]
  },
  {
   "cell_type": "code",
   "execution_count": 35,
   "metadata": {},
   "outputs": [
    {
     "data": {
      "text/html": [
       "<div>\n",
       "<style scoped>\n",
       "    .dataframe tbody tr th:only-of-type {\n",
       "        vertical-align: middle;\n",
       "    }\n",
       "\n",
       "    .dataframe tbody tr th {\n",
       "        vertical-align: top;\n",
       "    }\n",
       "\n",
       "    .dataframe thead th {\n",
       "        text-align: right;\n",
       "    }\n",
       "</style>\n",
       "<table border=\"1\" class=\"dataframe\">\n",
       "  <thead>\n",
       "    <tr style=\"text-align: right;\">\n",
       "      <th></th>\n",
       "      <th>office</th>\n",
       "      <th>Questionnaire</th>\n",
       "      <th>Paiement</th>\n",
       "    </tr>\n",
       "  </thead>\n",
       "  <tbody>\n",
       "    <tr>\n",
       "      <th>0</th>\n",
       "      <td>CAP</td>\n",
       "      <td>891</td>\n",
       "      <td>780</td>\n",
       "    </tr>\n",
       "    <tr>\n",
       "      <th>1</th>\n",
       "      <td>CAY</td>\n",
       "      <td>229</td>\n",
       "      <td>189</td>\n",
       "    </tr>\n",
       "    <tr>\n",
       "      <th>2</th>\n",
       "      <td>GON</td>\n",
       "      <td>375</td>\n",
       "      <td>290</td>\n",
       "    </tr>\n",
       "    <tr>\n",
       "      <th>3</th>\n",
       "      <td>JER</td>\n",
       "      <td>172</td>\n",
       "      <td>163</td>\n",
       "    </tr>\n",
       "    <tr>\n",
       "      <th>4</th>\n",
       "      <td>PAP</td>\n",
       "      <td>4341</td>\n",
       "      <td>3735</td>\n",
       "    </tr>\n",
       "    <tr>\n",
       "      <th>5</th>\n",
       "      <td>PDP</td>\n",
       "      <td>221</td>\n",
       "      <td>217</td>\n",
       "    </tr>\n",
       "    <tr>\n",
       "      <th>6</th>\n",
       "      <td>Total</td>\n",
       "      <td>6229</td>\n",
       "      <td>5378</td>\n",
       "    </tr>\n",
       "  </tbody>\n",
       "</table>\n",
       "</div>"
      ],
      "text/plain": [
       "  office  Questionnaire  Paiement\n",
       "0    CAP            891       780\n",
       "1    CAY            229       189\n",
       "2    GON            375       290\n",
       "3    JER            172       163\n",
       "4    PAP           4341      3735\n",
       "5    PDP            221       217\n",
       "6  Total           6229      5378"
      ]
     },
     "execution_count": 35,
     "metadata": {},
     "output_type": "execute_result"
    }
   ],
   "source": [
    "# Beneficiaries by office\n",
    "schooling_survey.loc[(schooling_survey.office == 'IMIS BICENTENAIRE'), 'office'] = 'PAP'\n",
    "schooling_survey.loc[(schooling_survey.office == 'Jérémie'), 'office'] = 'JER'\n",
    "office_surv = schooling_survey.pivot_table(index = 'office', values = 'caseid', aggfunc = len, margins = True, margins_name = 'Total')\n",
    "office_surv.rename(columns = {'caseid': 'Questionnaire'}, inplace = True)\n",
    "\n",
    "#-------------------------------------------------------------------------------------------------------------------\n",
    "office_pay = schooling_benef.pivot_table(index = 'office', values = 'caseid', aggfunc = len, margins = True, margins_name = 'Total')\n",
    "office_pay.rename(columns = {'caseid': 'Paiement'}, inplace = True)\n",
    "\n",
    "office_data = office_surv.merge(office_pay, on = 'office', how = 'left')\n",
    "# office_data.append(office_data.sum(numeric_only=True).rename('Total'))\n",
    "office_data.reset_index(inplace = True)\n",
    "# office_data['Pourcentage'] = round((office_data['Paiement']/office_data['Questionnaire'])*100, 0).astype(str) + '%'\n",
    "# office_data\n",
    "\n",
    "# office_data.append(office_data.sum(numeric_only=True), ignore_index=True)\n",
    "# office_data['office'].replace('NaN', 'Total', inplace = True)\n",
    "\n",
    "# office_data.reset_index(inplace = True)\n",
    "office_data"
   ]
  },
  {
   "cell_type": "code",
   "execution_count": 36,
   "metadata": {},
   "outputs": [
    {
     "data": {
      "text/html": [
       "<div>\n",
       "<style scoped>\n",
       "    .dataframe tbody tr th:only-of-type {\n",
       "        vertical-align: middle;\n",
       "    }\n",
       "\n",
       "    .dataframe tbody tr th {\n",
       "        vertical-align: top;\n",
       "    }\n",
       "\n",
       "    .dataframe thead th {\n",
       "        text-align: right;\n",
       "    }\n",
       "</style>\n",
       "<table border=\"1\" class=\"dataframe\">\n",
       "  <thead>\n",
       "    <tr style=\"text-align: right;\">\n",
       "      <th>type</th>\n",
       "      <th>WorldVision</th>\n",
       "      <th>dreams</th>\n",
       "      <th>fratrie</th>\n",
       "      <th>oev</th>\n",
       "      <th>positif</th>\n",
       "      <th>Total</th>\n",
       "    </tr>\n",
       "    <tr>\n",
       "      <th>office</th>\n",
       "      <th></th>\n",
       "      <th></th>\n",
       "      <th></th>\n",
       "      <th></th>\n",
       "      <th></th>\n",
       "      <th></th>\n",
       "    </tr>\n",
       "  </thead>\n",
       "  <tbody>\n",
       "    <tr>\n",
       "      <th>CAP</th>\n",
       "      <td>25.0</td>\n",
       "      <td>66.0</td>\n",
       "      <td>184.0</td>\n",
       "      <td>284.0</td>\n",
       "      <td>221.0</td>\n",
       "      <td>780</td>\n",
       "    </tr>\n",
       "    <tr>\n",
       "      <th>CAY</th>\n",
       "      <td>0.0</td>\n",
       "      <td>0.0</td>\n",
       "      <td>20.0</td>\n",
       "      <td>99.0</td>\n",
       "      <td>70.0</td>\n",
       "      <td>189</td>\n",
       "    </tr>\n",
       "    <tr>\n",
       "      <th>GON</th>\n",
       "      <td>33.0</td>\n",
       "      <td>5.0</td>\n",
       "      <td>38.0</td>\n",
       "      <td>126.0</td>\n",
       "      <td>88.0</td>\n",
       "      <td>290</td>\n",
       "    </tr>\n",
       "    <tr>\n",
       "      <th>JER</th>\n",
       "      <td>12.0</td>\n",
       "      <td>0.0</td>\n",
       "      <td>29.0</td>\n",
       "      <td>103.0</td>\n",
       "      <td>20.0</td>\n",
       "      <td>164</td>\n",
       "    </tr>\n",
       "    <tr>\n",
       "      <th>PAP</th>\n",
       "      <td>667.0</td>\n",
       "      <td>391.0</td>\n",
       "      <td>663.0</td>\n",
       "      <td>1498.0</td>\n",
       "      <td>519.0</td>\n",
       "      <td>3738</td>\n",
       "    </tr>\n",
       "    <tr>\n",
       "      <th>PDP</th>\n",
       "      <td>10.0</td>\n",
       "      <td>0.0</td>\n",
       "      <td>45.0</td>\n",
       "      <td>89.0</td>\n",
       "      <td>73.0</td>\n",
       "      <td>217</td>\n",
       "    </tr>\n",
       "    <tr>\n",
       "      <th>Total</th>\n",
       "      <td>747.0</td>\n",
       "      <td>462.0</td>\n",
       "      <td>979.0</td>\n",
       "      <td>2199.0</td>\n",
       "      <td>991.0</td>\n",
       "      <td>5378</td>\n",
       "    </tr>\n",
       "  </tbody>\n",
       "</table>\n",
       "</div>"
      ],
      "text/plain": [
       "type    WorldVision  dreams  fratrie     oev  positif  Total\n",
       "office                                                      \n",
       "CAP            25.0    66.0    184.0   284.0    221.0    780\n",
       "CAY             0.0     0.0     20.0    99.0     70.0    189\n",
       "GON            33.0     5.0     38.0   126.0     88.0    290\n",
       "JER            12.0     0.0     29.0   103.0     20.0    164\n",
       "PAP           667.0   391.0    663.0  1498.0    519.0   3738\n",
       "PDP            10.0     0.0     45.0    89.0     73.0    217\n",
       "Total         747.0   462.0    979.0  2199.0    991.0   5378"
      ]
     },
     "execution_count": 36,
     "metadata": {},
     "output_type": "execute_result"
    }
   ],
   "source": [
    "schooling_benef.loc[(schooling_benef.office == 'IMIS BICENTENAIRE'), 'office'] = 'PAP'\n",
    "schooling_benef.loc[(schooling_benef.office == 'Jérémie'), 'office'] = 'JER'\n",
    "\n",
    "data_desag = schooling_benef.pivot_table(index = 'office', columns = 'type', values = 'caseid', aggfunc = len, margins = True, margins_name = 'Total')\n",
    "# data_desag.reset_index(inplace = True)\n",
    "data_desag.fillna(0, inplace = True)\n",
    "data_desag"
   ]
  },
  {
   "cell_type": "code",
   "execution_count": 37,
   "metadata": {},
   "outputs": [
    {
     "data": {
      "text/html": [
       "<div>\n",
       "<style scoped>\n",
       "    .dataframe tbody tr th:only-of-type {\n",
       "        vertical-align: middle;\n",
       "    }\n",
       "\n",
       "    .dataframe tbody tr th {\n",
       "        vertical-align: top;\n",
       "    }\n",
       "\n",
       "    .dataframe thead th {\n",
       "        text-align: right;\n",
       "    }\n",
       "</style>\n",
       "<table border=\"1\" class=\"dataframe\">\n",
       "  <thead>\n",
       "    <tr style=\"text-align: right;\">\n",
       "      <th>type</th>\n",
       "      <th>WorldVision</th>\n",
       "      <th>dreams</th>\n",
       "      <th>fratrie</th>\n",
       "      <th>oev</th>\n",
       "      <th>positif</th>\n",
       "      <th>Total</th>\n",
       "    </tr>\n",
       "    <tr>\n",
       "      <th>office</th>\n",
       "      <th></th>\n",
       "      <th></th>\n",
       "      <th></th>\n",
       "      <th></th>\n",
       "      <th></th>\n",
       "      <th></th>\n",
       "    </tr>\n",
       "  </thead>\n",
       "  <tbody>\n",
       "    <tr>\n",
       "      <th>CAP</th>\n",
       "      <td>30.0</td>\n",
       "      <td>90.0</td>\n",
       "      <td>196.0</td>\n",
       "      <td>337.0</td>\n",
       "      <td>238.0</td>\n",
       "      <td>891</td>\n",
       "    </tr>\n",
       "    <tr>\n",
       "      <th>CAY</th>\n",
       "      <td>0.0</td>\n",
       "      <td>0.0</td>\n",
       "      <td>31.0</td>\n",
       "      <td>120.0</td>\n",
       "      <td>78.0</td>\n",
       "      <td>229</td>\n",
       "    </tr>\n",
       "    <tr>\n",
       "      <th>GON</th>\n",
       "      <td>73.0</td>\n",
       "      <td>6.0</td>\n",
       "      <td>51.0</td>\n",
       "      <td>147.0</td>\n",
       "      <td>98.0</td>\n",
       "      <td>375</td>\n",
       "    </tr>\n",
       "    <tr>\n",
       "      <th>JER</th>\n",
       "      <td>14.0</td>\n",
       "      <td>0.0</td>\n",
       "      <td>30.0</td>\n",
       "      <td>106.0</td>\n",
       "      <td>22.0</td>\n",
       "      <td>172</td>\n",
       "    </tr>\n",
       "    <tr>\n",
       "      <th>PAP</th>\n",
       "      <td>759.0</td>\n",
       "      <td>438.0</td>\n",
       "      <td>781.0</td>\n",
       "      <td>1769.0</td>\n",
       "      <td>594.0</td>\n",
       "      <td>4341</td>\n",
       "    </tr>\n",
       "    <tr>\n",
       "      <th>PDP</th>\n",
       "      <td>10.0</td>\n",
       "      <td>0.0</td>\n",
       "      <td>47.0</td>\n",
       "      <td>90.0</td>\n",
       "      <td>74.0</td>\n",
       "      <td>221</td>\n",
       "    </tr>\n",
       "    <tr>\n",
       "      <th>Total</th>\n",
       "      <td>886.0</td>\n",
       "      <td>534.0</td>\n",
       "      <td>1136.0</td>\n",
       "      <td>2569.0</td>\n",
       "      <td>1104.0</td>\n",
       "      <td>6229</td>\n",
       "    </tr>\n",
       "  </tbody>\n",
       "</table>\n",
       "</div>"
      ],
      "text/plain": [
       "type    WorldVision  dreams  fratrie     oev  positif  Total\n",
       "office                                                      \n",
       "CAP            30.0    90.0    196.0   337.0    238.0    891\n",
       "CAY             0.0     0.0     31.0   120.0     78.0    229\n",
       "GON            73.0     6.0     51.0   147.0     98.0    375\n",
       "JER            14.0     0.0     30.0   106.0     22.0    172\n",
       "PAP           759.0   438.0    781.0  1769.0    594.0   4341\n",
       "PDP            10.0     0.0     47.0    90.0     74.0    221\n",
       "Total         886.0   534.0   1136.0  2569.0   1104.0   6229"
      ]
     },
     "execution_count": 37,
     "metadata": {},
     "output_type": "execute_result"
    }
   ],
   "source": [
    "data_all = schooling_survey.pivot_table(index = 'office', columns = 'type', values = 'caseid', aggfunc = len, margins = True, margins_name = 'Total')\n",
    "# data_all.reset_index(inplace = True)\n",
    "data_all.fillna(0, inplace = True)\n",
    "data_all"
   ]
  },
  {
   "cell_type": "code",
   "execution_count": 38,
   "metadata": {},
   "outputs": [],
   "source": [
    "# schooling_benef_17 = schooling_benef[schooling_benef['age_range'] != '18+']\n",
    "# schooling_benef_17.shape[0]"
   ]
  },
  {
   "attachments": {},
   "cell_type": "markdown",
   "metadata": {},
   "source": [
    "# Exporting output"
   ]
  },
  {
   "cell_type": "code",
   "execution_count": 39,
   "metadata": {},
   "outputs": [],
   "source": [
    "#############\n",
    "\n",
    "schooling_survey.to_excel(f\"Schooling_data_consolidated_{period}_{str(datetime.today().strftime('%Y-%m-%d'))}.xlsx\", index = False)\n",
    "#schooling_benef.to_excel(f\"Schooling_data_consolidated_ALLPAYED_{period}_{str(datetime.today().strftime('%Y-%m-%d'))}.xlsx\", index = False)\n",
    "# Datim.to_excel('Datim_FY22Q2.xlsx')"
   ]
  },
  {
   "cell_type": "code",
   "execution_count": null,
   "metadata": {},
   "outputs": [],
   "source": [
    "import openpyxl\n",
    "\n",
    "with pd.ExcelWriter(f\"Data-Schooling_Commcare_{period}_{str(datetime.today().strftime('%Y-%m-%d'))}.xlsx\", \n",
    "                    engine = 'openpyxl') as writer:\n",
    "    office_data.to_excel(writer, sheet_name = 'Data_commcare', index = False)\n",
    "    data_all.to_excel(writer, sheet_name = 'Survey_data')\n",
    "    data_desag.to_excel(writer, sheet_name = 'Payment_data')"
   ]
  },
  {
   "cell_type": "code",
   "execution_count": null,
   "metadata": {},
   "outputs": [],
   "source": [
    "schooling_benef.to_excel(\"./schooling_beneficiaries.xlsx\",index=False)"
   ]
  },
  {
   "cell_type": "code",
   "execution_count": null,
   "metadata": {},
   "outputs": [],
   "source": [
    "driver.quit()"
   ]
  },
  {
   "attachments": {},
   "cell_type": "markdown",
   "metadata": {},
   "source": [
    "---"
   ]
  }
 ],
 "metadata": {
  "kernelspec": {
   "display_name": "Python 3 (ipykernel)",
   "language": "python",
   "name": "python3"
  },
  "language_info": {
   "codemirror_mode": {
    "name": "ipython",
    "version": 3
   },
   "file_extension": ".py",
   "mimetype": "text/x-python",
   "name": "python",
   "nbconvert_exporter": "python",
   "pygments_lexer": "ipython3",
   "version": "3.11.2"
  },
  "vscode": {
   "interpreter": {
    "hash": "b460384b52104c1e5b9cf54bee46a255d22b2bef338f75ac4ad5d48196028d3c"
   }
  }
 },
 "nbformat": 4,
 "nbformat_minor": 4
}
