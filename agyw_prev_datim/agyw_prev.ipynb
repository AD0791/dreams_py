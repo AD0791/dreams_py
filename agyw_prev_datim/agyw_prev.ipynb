{
 "cells": [
  {
   "cell_type": "markdown",
   "id": "thermal-bunch",
   "metadata": {},
   "source": [
    "# AGYW_PREV DATIM"
   ]
  },
  {
   "cell_type": "code",
   "execution_count": 2,
   "id": "small-hobby",
   "metadata": {
    "tags": []
   },
   "outputs": [],
   "source": [
    "# load the modules\n",
    "from layeringOfServices import DREAMS_MASTERSHEET\n",
    "#multiples outputs\n",
    "from IPython.core.interactiveshell import InteractiveShell\n",
    "InteractiveShell.ast_node_interactivity = \"all\""
   ]
  },
  {
   "cell_type": "code",
   "execution_count": 31,
   "metadata": {},
   "outputs": [],
   "source": [
    "from re import sub\n",
    "from pandas import DataFrame"
   ]
  },
  {
   "cell_type": "markdown",
   "id": "accessible-drunk",
   "metadata": {},
   "source": [
    "## AGYW_PREV"
   ]
  },
  {
   "cell_type": "code",
   "execution_count": 53,
   "id": "similar-thumbnail",
   "metadata": {},
   "outputs": [],
   "source": [
    "class AgywPrev:\n",
    "    \"\"\"A class with properties and methods given the results of the indicator AGYW_PREV DATIM\"\"\" \n",
    "    __who_am_I =\"DATIM\"\n",
    "    __datim1_title=\"Number of individual AGYW that have fully completed the entire DREAMS primary package of services but have not received any services beyond the primary package.\"\n",
    "    __datim2_title=\"Number of individual AGYW that have fully completed the entire DREAMS primary package of services AND at least one additional secondary service.\"\n",
    "    __datim3_title=\"Number of individual AGYW that have fully completed at least one DREAMS primary package of services but not the full primary package of services.\"\n",
    "    \n",
    "    def __repr__(self):\n",
    "        return f\"<AgywPrev {self.__i_am}>\"\n",
    "    \n",
    "    def __str__(self):\n",
    "        return f\"<AgywPrev {self.__i_am}>\"\n",
    "    \n",
    "    @classmethod\n",
    "    def datim_titleI(cls):\n",
    "        return cls.__datim1_title\n",
    "    \n",
    "    @classmethod\n",
    "    def datim_titleII(cls):\n",
    "        return cls.__datim2_title\n",
    "    \n",
    "    @classmethod\n",
    "    def datim_titleIII(cls):\n",
    "        return cls.__datim3_title\n",
    "    \n",
    "    \n",
    "    def __init__(self,commune=None):\n",
    "        self.__commune = commune\n",
    "        self.__i_am = f\"{AgywPrev.__who_am_I}\"\n",
    "        self.__data =  DREAMS_MASTERSHEET\n",
    "        self. __total_mastersheet = self.__data.code.count()\n",
    "        if self.__commune == None:\n",
    "            self.__dreams_valid = self.__data[(self.__data.age_range !=\"not_valid_age\") & (self.__data.age_range != \"25-29\") & (self.__data.timeOn_system == \"required_Time_on\")]\n",
    "        else:\n",
    "            self.__dreams_valid = self.__data[(self.__data.age_range !=\"not_valid_age\") & (self.__data.age_range != \"25-29\") & (self.__data.timeOn_system == \"required_Time_on\")&(self.__data.actual_commune == f\"{self.__commune}\")]\n",
    "        self.__total_dreams_valid = self.__dreams_valid.code.count()\n",
    "        self.__dreams_valid[\"primary_only\"] = self.__dreams_valid.apply(lambda df: self.__primFunc(df),axis=1)\n",
    "        self.__dreams_valid[\"primary_and_OneSecondary_services\"] = self.__dreams_valid.apply(lambda df: self.__primLeastOneSecFunc(df),axis=1)\n",
    "        self.__dreams_valid[\"partial_primary_services\"] = self.__dreams_valid.apply(lambda df: self.__primPartFunc(df),axis=1)\n",
    "        self.__agyw_prevI = self.__dreams_valid[self.__dreams_valid.primary_only == \"full_primary_only\"]\n",
    "        self.__agyw_prevII = self.__dreams_valid[self.__dreams_valid.primary_and_OneSecondary_services == \"full_primary_leastOneSecondary\"]\n",
    "        self.__agyw_prevIII = self.__dreams_valid[self.__dreams_valid.partial_primary_services == \"primary_part_services\"]  \n",
    "        self.__agyw_prevI_total = self.__agyw_prevI.code.count()\n",
    "        self.__agyw_prevII_total = self.__agyw_prevII.code.count()\n",
    "        self.__agyw_prevIII_total = self.__agyw_prevIII.code.count()\n",
    "        self.__total_datim = self.__agyw_prevI_total + self.__agyw_prevII_total + self.__agyw_prevIII_total\n",
    "        \n",
    "        \n",
    "    @property\n",
    "    def who_am_i(self):\n",
    "        return self.__i_am\n",
    "    \n",
    "    @property\n",
    "    def mastersheet_dataframe(self):\n",
    "        return self.__data\n",
    "\n",
    "    @property\n",
    "    def total_mastersheet(self):\n",
    "        return self.__total_mastersheet\n",
    "\n",
    "    @property\n",
    "    def total_dreams_valid(self):\n",
    "        return self.__total_dreams_valid\n",
    "    \n",
    "    def __primFunc(self,df):\n",
    "        if (df.ps_10_14 == \"curriculum-servis\" and df.hts == \"errata\" and df.condoms == \"errata\" and df.post_care_treatment == \"no\" and df.socio_eco_app == \"no\" ):\n",
    "            return \"full_primary_only\"\n",
    "        elif (df.ps_15_19 == \"condoms&curriculum\" and df.hts == \"errata\"  and df.post_care_treatment == \"no\" and df.socio_eco_app == \"no\" ):\n",
    "            return \"full_primary_only\"\n",
    "        elif (df.ps_20_24 == \"condoms&hts&curriculum\" and df.post_care_treatment == \"no\" and df.socio_eco_app == \"no\" ):\n",
    "            return \"full_primary_only\"\n",
    "        else:\n",
    "            return \"invalid\"\n",
    "    \n",
    "    def __primLeastOneSecFunc(self,df):\n",
    "        if (df.ps_10_14 == \"curriculum-servis\") and (df.hts == \"tested_on_given_date\" or df.condoms == \"tested_on_given_date\" or df.post_care_treatment == \"service_gyneco_vbg\" or df.socio_eco_app == \"service_muso_gardening\" ):\n",
    "            return \"full_primary_leastOneSecondary\"\n",
    "        elif (df.ps_15_19 == \"condoms&curriculum\") and (df.hts == \"tested_on_given_date\" or df.post_care_treatment == \"service_gyneco_vbg\" or df.socio_eco_app == \"service_muso_gardening\" ):\n",
    "            return \"full_primary_leastOneSecondary\"\n",
    "        elif (df.ps_20_24 == \"condoms&hts&curriculum\") and (df.post_care_treatment == \"service_gyneco_vbg\" or df.socio_eco_app == \"service_muso_gardening\" ):\n",
    "            return \"full_primary_leastOneSecondary\"\n",
    "        else:\n",
    "            return \"invalid\"\n",
    "        \n",
    "    def __primPartFunc(self,df):\n",
    "        if (df.age_range == \"15-19\") and ((df.condoms == \"tested_on_given_date\" and df.dreams_curriculum == \"curriculum_inc\") or (df.condoms == \"errata\" and df.dreams_curriculum == \"curriculum_completed\")):\n",
    "            return \"primary_part_services\"\n",
    "        elif (df.age_range == \"20-24\") and ((df.dreams_curriculum == \"curriculum_completed\" and df.condoms==\"errata\" and df.hts==\"errata\")or(df.dreams_curriculum == \"curriculum_completed\" and df.condoms==\"tested_on_given_date\" and df.hts==\"errata\")or(df.dreams_curriculum == \"curriculum_completed\" and df.condoms==\"errata\" and df.hts==\"tested_on_given_date\")or(df.dreams_curriculum == \"curriculum_inc\" and df.condoms==\"tested_on_given_date\" and df.hts==\"errata\")or(df.dreams_curriculum == \"curriculum_inc\" and df.condoms==\"errata\" and df.hts==\"tested_on_given_date\")or(df.dreams_curriculum == \"curriculum_inc\" and df.condoms==\"tested_on_given_date\" and df.hts==\"tested_on_given_date\")):\n",
    "            return \"primary_part_services\"\n",
    "        else:\n",
    "            return \"invalid\"\n",
    "         \n",
    "    @property\n",
    "    def total_datimI(self):\n",
    "        return self.__agyw_prevI_total\n",
    "    \n",
    "    @property\n",
    "    def total_datimII(self):\n",
    "        return self.__agyw_prevII_total\n",
    "    \n",
    "    @property\n",
    "    def total_datimIII(self):\n",
    "        return self.__agyw_prevIII_total\n",
    "    \n",
    "    @property\n",
    "    def total_datim_general(self):\n",
    "        return self.__total_datim\n",
    "\n",
    "\n",
    "    def datim_agyw_prevI(self):\n",
    "        try:\n",
    "            pivotableI = self.__agyw_prevI.rename(columns={\"age_range\":\"Age\", \"agyw_period_range\":\"Time\"})\n",
    "            agyw_prevI_pivot = pivotableI.pivot_table(index=\"Age\",columns=\"Time\", values=\"code\",aggfunc=\"count\",fill_value=0,margins=True,margins_name=\"Total\")\n",
    "            agyw_prevI_pivot_final = agyw_prevI_pivot.reset_index().rename_axis(None, axis=1)[:-1]\n",
    "            agyw_prevI_results_final = DataFrame( agyw_prevI_pivot_final.to_records(index=False))\n",
    "        except ValueError:\n",
    "            agyw_prevI_results_final = DataFrame({\"Age\":[\"10-14\",                     \"15-19\",\n",
    "                \"20-24\"],\n",
    "                \"0-6 months\":[0,0,0],\n",
    "                \"07-12 months\":[0,0,0],\n",
    "                \"13-24 months\":[0,0,0]\n",
    "            })\n",
    "        return agyw_prevI_results_final\n",
    "    \n",
    "    def datim_agyw_prevII(self):\n",
    "        try:\n",
    "            pivotableII = self.__agyw_prevII.rename(columns={\"age_range\":\"Age\", \"agyw_period_range\":\"Time\"})\n",
    "            agyw_prevII_pivot = pivotableII.pivot_table(index=\"Age\",columns=\"Time\", values=\"code\",aggfunc=\"count\",fill_value=0,margins=True,margins_name=\"Total\")\n",
    "            agyw_prevII_pivot_final = agyw_prevII_pivot.reset_index().rename_axis(None, axis=1)[:-1]\n",
    "            agyw_prevII_results_final = DataFrame( agyw_prevII_pivot_final.to_records(index=False))\n",
    "        except ValueError:\n",
    "            agyw_prevII_results_final = DataFrame({\"Age\":[\"10-14\",                     \"15-19\",\n",
    "                \"20-24\"],\n",
    "                \"0-6 months\":[0,0,0],\n",
    "                \"07-12 months\":[0,0,0],\n",
    "                \"13-24 months\":[0,0,0]\n",
    "            })\n",
    "        return agyw_prevII_results_final\n",
    "    \n",
    "    def datim_agyw_prevIII(self):\n",
    "        try:\n",
    "            pivotableIII = self.__agyw_prevIII.rename(columns={\"age_range\":\"Age\", \"agyw_period_range\":\"Time\"})\n",
    "            agyw_prevIII_pivot = pivotableIII.pivot_table(index=\"Age\",columns=\"Time\", values=\"code\",aggfunc=\"count\",fill_value=0,margins=True,margins_name=\"Total\")\n",
    "            agyw_prevIII_pivot_final = agyw_prevIII_pivot.reset_index().rename_axis(None, axis=1)[:-1]\n",
    "            agyw_prevIII_results_final = DataFrame( agyw_prevIII_pivot_final.to_records(index=False))\n",
    "        except ValueError:\n",
    "            agyw_prevIII_results_final = DataFrame({\"Age\":[\"10-14\",                     \"15-19\",\n",
    "                \"20-24\"],\n",
    "                \"0-6 months\":[0,0,0],\n",
    "                \"07-12 months\":[0,0,0],\n",
    "                \"13-24 months\":[0,0,0]\n",
    "            })\n",
    "        return agyw_prevIII_results_final\n",
    "\n"
   ]
  },
  {
   "cell_type": "code",
   "execution_count": 54,
   "id": "union-warning",
   "metadata": {},
   "outputs": [],
   "source": [
    "%%capture\n",
    "datim = AgywPrev()"
   ]
  },
  {
   "cell_type": "code",
   "execution_count": 55,
   "id": "fossil-significance",
   "metadata": {},
   "outputs": [
    {
     "output_type": "execute_result",
     "data": {
      "text/plain": [
       "23677"
      ]
     },
     "metadata": {},
     "execution_count": 55
    },
    {
     "output_type": "execute_result",
     "data": {
      "text/plain": [
       "15414"
      ]
     },
     "metadata": {},
     "execution_count": 55
    },
    {
     "output_type": "execute_result",
     "data": {
      "text/plain": [
       "'DATIM'"
      ]
     },
     "metadata": {},
     "execution_count": 55
    },
    {
     "output_type": "execute_result",
     "data": {
      "text/plain": [
       "5283"
      ]
     },
     "metadata": {},
     "execution_count": 55
    },
    {
     "output_type": "execute_result",
     "data": {
      "text/plain": [
       "926"
      ]
     },
     "metadata": {},
     "execution_count": 55
    },
    {
     "output_type": "execute_result",
     "data": {
      "text/plain": [
       "6658"
      ]
     },
     "metadata": {},
     "execution_count": 55
    },
    {
     "output_type": "execute_result",
     "data": {
      "text/plain": [
       "12867"
      ]
     },
     "metadata": {},
     "execution_count": 55
    },
    {
     "output_type": "execute_result",
     "data": {
      "text/plain": [
       "'Number of individual AGYW that have fully completed the entire DREAMS primary package of services but have not received any services beyond the primary package.'"
      ]
     },
     "metadata": {},
     "execution_count": 55
    },
    {
     "output_type": "execute_result",
     "data": {
      "text/plain": [
       "     Age  0-6 months  07-12 months  13-24 months  Total\n",
       "0  10-14         508          3743           185   4436\n",
       "1  15-19          87           605            40    732\n",
       "2  20-24           0           112             3    115"
      ],
      "text/html": "<div>\n<style scoped>\n    .dataframe tbody tr th:only-of-type {\n        vertical-align: middle;\n    }\n\n    .dataframe tbody tr th {\n        vertical-align: top;\n    }\n\n    .dataframe thead th {\n        text-align: right;\n    }\n</style>\n<table border=\"1\" class=\"dataframe\">\n  <thead>\n    <tr style=\"text-align: right;\">\n      <th></th>\n      <th>Age</th>\n      <th>0-6 months</th>\n      <th>07-12 months</th>\n      <th>13-24 months</th>\n      <th>Total</th>\n    </tr>\n  </thead>\n  <tbody>\n    <tr>\n      <th>0</th>\n      <td>10-14</td>\n      <td>508</td>\n      <td>3743</td>\n      <td>185</td>\n      <td>4436</td>\n    </tr>\n    <tr>\n      <th>1</th>\n      <td>15-19</td>\n      <td>87</td>\n      <td>605</td>\n      <td>40</td>\n      <td>732</td>\n    </tr>\n    <tr>\n      <th>2</th>\n      <td>20-24</td>\n      <td>0</td>\n      <td>112</td>\n      <td>3</td>\n      <td>115</td>\n    </tr>\n  </tbody>\n</table>\n</div>"
     },
     "metadata": {},
     "execution_count": 55
    },
    {
     "output_type": "execute_result",
     "data": {
      "text/plain": [
       "'Number of individual AGYW that have fully completed the entire DREAMS primary package of services AND at least one additional secondary service.'"
      ]
     },
     "metadata": {},
     "execution_count": 55
    },
    {
     "output_type": "execute_result",
     "data": {
      "text/plain": [
       "     Age  0-6 months  07-12 months  13-24 months  Total\n",
       "0  10-14          31           587            31    649\n",
       "1  15-19           0           247            15    262\n",
       "2  20-24           0            15             0     15"
      ],
      "text/html": "<div>\n<style scoped>\n    .dataframe tbody tr th:only-of-type {\n        vertical-align: middle;\n    }\n\n    .dataframe tbody tr th {\n        vertical-align: top;\n    }\n\n    .dataframe thead th {\n        text-align: right;\n    }\n</style>\n<table border=\"1\" class=\"dataframe\">\n  <thead>\n    <tr style=\"text-align: right;\">\n      <th></th>\n      <th>Age</th>\n      <th>0-6 months</th>\n      <th>07-12 months</th>\n      <th>13-24 months</th>\n      <th>Total</th>\n    </tr>\n  </thead>\n  <tbody>\n    <tr>\n      <th>0</th>\n      <td>10-14</td>\n      <td>31</td>\n      <td>587</td>\n      <td>31</td>\n      <td>649</td>\n    </tr>\n    <tr>\n      <th>1</th>\n      <td>15-19</td>\n      <td>0</td>\n      <td>247</td>\n      <td>15</td>\n      <td>262</td>\n    </tr>\n    <tr>\n      <th>2</th>\n      <td>20-24</td>\n      <td>0</td>\n      <td>15</td>\n      <td>0</td>\n      <td>15</td>\n    </tr>\n  </tbody>\n</table>\n</div>"
     },
     "metadata": {},
     "execution_count": 55
    },
    {
     "output_type": "execute_result",
     "data": {
      "text/plain": [
       "'Number of individual AGYW that have fully completed at least one DREAMS primary package of services but not the full primary package of services.'"
      ]
     },
     "metadata": {},
     "execution_count": 55
    },
    {
     "output_type": "execute_result",
     "data": {
      "text/plain": [
       "     Age  0-6 months  07-12 months  13-24 months  Total\n",
       "0  15-19         431          3436           204   4071\n",
       "1  20-24         250          2180           157   2587"
      ],
      "text/html": "<div>\n<style scoped>\n    .dataframe tbody tr th:only-of-type {\n        vertical-align: middle;\n    }\n\n    .dataframe tbody tr th {\n        vertical-align: top;\n    }\n\n    .dataframe thead th {\n        text-align: right;\n    }\n</style>\n<table border=\"1\" class=\"dataframe\">\n  <thead>\n    <tr style=\"text-align: right;\">\n      <th></th>\n      <th>Age</th>\n      <th>0-6 months</th>\n      <th>07-12 months</th>\n      <th>13-24 months</th>\n      <th>Total</th>\n    </tr>\n  </thead>\n  <tbody>\n    <tr>\n      <th>0</th>\n      <td>15-19</td>\n      <td>431</td>\n      <td>3436</td>\n      <td>204</td>\n      <td>4071</td>\n    </tr>\n    <tr>\n      <th>1</th>\n      <td>20-24</td>\n      <td>250</td>\n      <td>2180</td>\n      <td>157</td>\n      <td>2587</td>\n    </tr>\n  </tbody>\n</table>\n</div>"
     },
     "metadata": {},
     "execution_count": 55
    }
   ],
   "source": [
    "datim.total_mastersheet \n",
    "datim.total_dreams_valid\n",
    "datim.who_am_i\n",
    "datim.total_datimI\n",
    "datim.total_datimII\n",
    "datim.total_datimIII\n",
    "datim.total_datim_general\n",
    "AgywPrev.datim_titleI()\n",
    "datim.datim_agyw_prevI()\n",
    "AgywPrev.datim_titleII()\n",
    "datim.datim_agyw_prevII()\n",
    "AgywPrev.datim_titleIII()\n",
    "datim.datim_agyw_prevIII()"
   ]
  },
  {
   "cell_type": "code",
   "execution_count": 56,
   "id": "quality-territory",
   "metadata": {},
   "outputs": [
    {
     "output_type": "execute_result",
     "data": {
      "text/plain": [
       "<AgywPrev DATIM>"
      ]
     },
     "metadata": {},
     "execution_count": 56
    }
   ],
   "source": [
    "datim"
   ]
  },
  {
   "cell_type": "markdown",
   "id": "offshore-apparel",
   "metadata": {},
   "source": [
    "## AGYW_Prev_Commune"
   ]
  },
  {
   "cell_type": "code",
   "execution_count": 57,
   "id": "innovative-heating",
   "metadata": {},
   "outputs": [],
   "source": [
    "class AgywPrevCommune(AgywPrev):\n",
    "    \"\"\"A class that extend AgywPrev with the purpose of the indicator AGYW_PREV DATIM by commune\"\"\"\n",
    "    __who_am_I =\"DATIM\"\n",
    "    def __init__(self,name):\n",
    "        self.__name = name\n",
    "        self.__i_am = f\"{AgywPrevCommune.__who_am_I} {self.__name}\"\n",
    "        #self.__data =  DREAMS_MASTERSHEET\n",
    "        super().__init__(self.__name)\n",
    "        \n",
    "    @property\n",
    "    def who_am_i(self):\n",
    "        return self.__i_am\n",
    "    \n",
    "    def __repr__(self):\n",
    "        return f\"<AgywPrevCommune {self.__i_am}>\"\n",
    "    \n",
    "    def __str__(self):\n",
    "        return f\"<AgywPrevCommune {self.__i_am}>\"\n",
    "      \n",
    "        \n",
    "    \n",
    "        \n",
    "        \n",
    "\n",
    "        "
   ]
  },
  {
   "cell_type": "code",
   "execution_count": 58,
   "id": "stone-bowling",
   "metadata": {},
   "outputs": [
    {
     "output_type": "execute_result",
     "data": {
      "text/plain": [
       "array(['Verrettes', 'Delmas', 'Port-au-Prince', 'Carrefour', 'Limonade',\n",
       "       'Plaine-du-Nord', 'Cap-Haïtien', 'Kenscoff', 'Dessalines',\n",
       "       'Pétionville', 'Gressier', 'Saint-Marc', 'Tabarre', 'La Chapelle',\n",
       "       'Milot', 'Liancourt', 'Quartier-Morin',\n",
       "       \"Petite Rivière de l'Artibonite\", 'Grande Saline', 'Montrouis',\n",
       "       'Desdunes'], dtype=object)"
      ]
     },
     "metadata": {},
     "execution_count": 58
    }
   ],
   "source": [
    "DREAMS_MASTERSHEET.actual_commune.unique()"
   ]
  },
  {
   "cell_type": "markdown",
   "id": "broke-radiation",
   "metadata": {},
   "source": [
    "## dynamic"
   ]
  },
  {
   "cell_type": "code",
   "execution_count": 59,
   "id": "ruled-blink",
   "metadata": {},
   "outputs": [],
   "source": [
    "%%capture\n",
    "def name_handler(s):\n",
    "    s = sub(r\"[^\\w\\s]\", '', s)\n",
    "    # Replace all runs of whitespace with a single dash\n",
    "    s = sub(r\"\\s+\", '_', s)\n",
    "    return s\n",
    "\n",
    "datimcommunes = []\n",
    "\n",
    "for columns in DREAMS_MASTERSHEET.actual_commune.unique():\n",
    "    globals()[f\"datim_{name_handler(columns)}\"] = AgywPrevCommune(f\"{columns}\")\n",
    "    datimcommunes.append(globals().get(f\"datim_{name_handler(columns)}\"))\n",
    "   "
   ]
  },
  {
   "cell_type": "code",
   "execution_count": 60,
   "metadata": {},
   "outputs": [
    {
     "output_type": "execute_result",
     "data": {
      "text/plain": [
       "[<AgywPrevCommune DATIM Verrettes>,\n",
       " <AgywPrevCommune DATIM Delmas>,\n",
       " <AgywPrevCommune DATIM Port-au-Prince>,\n",
       " <AgywPrevCommune DATIM Carrefour>,\n",
       " <AgywPrevCommune DATIM Limonade>,\n",
       " <AgywPrevCommune DATIM Plaine-du-Nord>,\n",
       " <AgywPrevCommune DATIM Cap-Haïtien>,\n",
       " <AgywPrevCommune DATIM Kenscoff>,\n",
       " <AgywPrevCommune DATIM Dessalines>,\n",
       " <AgywPrevCommune DATIM Pétionville>,\n",
       " <AgywPrevCommune DATIM Gressier>,\n",
       " <AgywPrevCommune DATIM Saint-Marc>,\n",
       " <AgywPrevCommune DATIM Tabarre>,\n",
       " <AgywPrevCommune DATIM La Chapelle>,\n",
       " <AgywPrevCommune DATIM Milot>,\n",
       " <AgywPrevCommune DATIM Liancourt>,\n",
       " <AgywPrevCommune DATIM Quartier-Morin>,\n",
       " <AgywPrevCommune DATIM Petite Rivière de l'Artibonite>,\n",
       " <AgywPrevCommune DATIM Grande Saline>,\n",
       " <AgywPrevCommune DATIM Montrouis>,\n",
       " <AgywPrevCommune DATIM Desdunes>]"
      ]
     },
     "metadata": {},
     "execution_count": 60
    }
   ],
   "source": [
    "datimcommunes"
   ]
  },
  {
   "cell_type": "code",
   "execution_count": 62,
   "id": "cellular-religion",
   "metadata": {},
   "outputs": [
    {
     "output_type": "execute_result",
     "data": {
      "text/plain": [
       "23677"
      ]
     },
     "metadata": {},
     "execution_count": 62
    },
    {
     "output_type": "execute_result",
     "data": {
      "text/plain": [
       "1787"
      ]
     },
     "metadata": {},
     "execution_count": 62
    },
    {
     "output_type": "execute_result",
     "data": {
      "text/plain": [
       "'DATIM Verrettes'"
      ]
     },
     "metadata": {},
     "execution_count": 62
    },
    {
     "output_type": "execute_result",
     "data": {
      "text/plain": [
       "580"
      ]
     },
     "metadata": {},
     "execution_count": 62
    },
    {
     "output_type": "execute_result",
     "data": {
      "text/plain": [
       "123"
      ]
     },
     "metadata": {},
     "execution_count": 62
    },
    {
     "output_type": "execute_result",
     "data": {
      "text/plain": [
       "781"
      ]
     },
     "metadata": {},
     "execution_count": 62
    },
    {
     "output_type": "execute_result",
     "data": {
      "text/plain": [
       "1484"
      ]
     },
     "metadata": {},
     "execution_count": 62
    },
    {
     "output_type": "execute_result",
     "data": {
      "text/plain": [
       "'Number of individual AGYW that have fully completed the entire DREAMS primary package of services but have not received any services beyond the primary package.'"
      ]
     },
     "metadata": {},
     "execution_count": 62
    },
    {
     "output_type": "execute_result",
     "data": {
      "text/plain": [
       "     Age  0-6 months  07-12 months  13-24 months  Total\n",
       "0  10-14           8           490             3    501\n",
       "1  15-19           8            70             0     78\n",
       "2  20-24           0             1             0      1"
      ],
      "text/html": "<div>\n<style scoped>\n    .dataframe tbody tr th:only-of-type {\n        vertical-align: middle;\n    }\n\n    .dataframe tbody tr th {\n        vertical-align: top;\n    }\n\n    .dataframe thead th {\n        text-align: right;\n    }\n</style>\n<table border=\"1\" class=\"dataframe\">\n  <thead>\n    <tr style=\"text-align: right;\">\n      <th></th>\n      <th>Age</th>\n      <th>0-6 months</th>\n      <th>07-12 months</th>\n      <th>13-24 months</th>\n      <th>Total</th>\n    </tr>\n  </thead>\n  <tbody>\n    <tr>\n      <th>0</th>\n      <td>10-14</td>\n      <td>8</td>\n      <td>490</td>\n      <td>3</td>\n      <td>501</td>\n    </tr>\n    <tr>\n      <th>1</th>\n      <td>15-19</td>\n      <td>8</td>\n      <td>70</td>\n      <td>0</td>\n      <td>78</td>\n    </tr>\n    <tr>\n      <th>2</th>\n      <td>20-24</td>\n      <td>0</td>\n      <td>1</td>\n      <td>0</td>\n      <td>1</td>\n    </tr>\n  </tbody>\n</table>\n</div>"
     },
     "metadata": {},
     "execution_count": 62
    },
    {
     "output_type": "execute_result",
     "data": {
      "text/plain": [
       "'Number of individual AGYW that have fully completed the entire DREAMS primary package of services AND at least one additional secondary service.'"
      ]
     },
     "metadata": {},
     "execution_count": 62
    },
    {
     "output_type": "execute_result",
     "data": {
      "text/plain": [
       "     Age  0-6 months  07-12 months  Total\n",
       "0  10-14           6            90     96\n",
       "1  15-19           0            24     24\n",
       "2  20-24           0             3      3"
      ],
      "text/html": "<div>\n<style scoped>\n    .dataframe tbody tr th:only-of-type {\n        vertical-align: middle;\n    }\n\n    .dataframe tbody tr th {\n        vertical-align: top;\n    }\n\n    .dataframe thead th {\n        text-align: right;\n    }\n</style>\n<table border=\"1\" class=\"dataframe\">\n  <thead>\n    <tr style=\"text-align: right;\">\n      <th></th>\n      <th>Age</th>\n      <th>0-6 months</th>\n      <th>07-12 months</th>\n      <th>Total</th>\n    </tr>\n  </thead>\n  <tbody>\n    <tr>\n      <th>0</th>\n      <td>10-14</td>\n      <td>6</td>\n      <td>90</td>\n      <td>96</td>\n    </tr>\n    <tr>\n      <th>1</th>\n      <td>15-19</td>\n      <td>0</td>\n      <td>24</td>\n      <td>24</td>\n    </tr>\n    <tr>\n      <th>2</th>\n      <td>20-24</td>\n      <td>0</td>\n      <td>3</td>\n      <td>3</td>\n    </tr>\n  </tbody>\n</table>\n</div>"
     },
     "metadata": {},
     "execution_count": 62
    },
    {
     "output_type": "execute_result",
     "data": {
      "text/plain": [
       "'Number of individual AGYW that have fully completed at least one DREAMS primary package of services but not the full primary package of services.'"
      ]
     },
     "metadata": {},
     "execution_count": 62
    },
    {
     "output_type": "execute_result",
     "data": {
      "text/plain": [
       "     Age  0-6 months  07-12 months  13-24 months  Total\n",
       "0  15-19          10           480             4    494\n",
       "1  20-24           9           277             1    287"
      ],
      "text/html": "<div>\n<style scoped>\n    .dataframe tbody tr th:only-of-type {\n        vertical-align: middle;\n    }\n\n    .dataframe tbody tr th {\n        vertical-align: top;\n    }\n\n    .dataframe thead th {\n        text-align: right;\n    }\n</style>\n<table border=\"1\" class=\"dataframe\">\n  <thead>\n    <tr style=\"text-align: right;\">\n      <th></th>\n      <th>Age</th>\n      <th>0-6 months</th>\n      <th>07-12 months</th>\n      <th>13-24 months</th>\n      <th>Total</th>\n    </tr>\n  </thead>\n  <tbody>\n    <tr>\n      <th>0</th>\n      <td>15-19</td>\n      <td>10</td>\n      <td>480</td>\n      <td>4</td>\n      <td>494</td>\n    </tr>\n    <tr>\n      <th>1</th>\n      <td>20-24</td>\n      <td>9</td>\n      <td>277</td>\n      <td>1</td>\n      <td>287</td>\n    </tr>\n  </tbody>\n</table>\n</div>"
     },
     "metadata": {},
     "execution_count": 62
    },
    {
     "output_type": "stream",
     "name": "stdout",
     "text": [
      " \n \n \n \n"
     ]
    },
    {
     "output_type": "execute_result",
     "data": {
      "text/plain": [
       "23677"
      ]
     },
     "metadata": {},
     "execution_count": 62
    },
    {
     "output_type": "execute_result",
     "data": {
      "text/plain": [
       "481"
      ]
     },
     "metadata": {},
     "execution_count": 62
    },
    {
     "output_type": "execute_result",
     "data": {
      "text/plain": [
       "'DATIM Delmas'"
      ]
     },
     "metadata": {},
     "execution_count": 62
    },
    {
     "output_type": "execute_result",
     "data": {
      "text/plain": [
       "146"
      ]
     },
     "metadata": {},
     "execution_count": 62
    },
    {
     "output_type": "execute_result",
     "data": {
      "text/plain": [
       "23"
      ]
     },
     "metadata": {},
     "execution_count": 62
    },
    {
     "output_type": "execute_result",
     "data": {
      "text/plain": [
       "276"
      ]
     },
     "metadata": {},
     "execution_count": 62
    },
    {
     "output_type": "execute_result",
     "data": {
      "text/plain": [
       "445"
      ]
     },
     "metadata": {},
     "execution_count": 62
    },
    {
     "output_type": "execute_result",
     "data": {
      "text/plain": [
       "'Number of individual AGYW that have fully completed the entire DREAMS primary package of services but have not received any services beyond the primary package.'"
      ]
     },
     "metadata": {},
     "execution_count": 62
    },
    {
     "output_type": "execute_result",
     "data": {
      "text/plain": [
       "     Age  0-6 months  07-12 months  13-24 months  Total\n",
       "0  10-14          41            65            17    123\n",
       "1  15-19           0            18             3     21\n",
       "2  20-24           0             2             0      2"
      ],
      "text/html": "<div>\n<style scoped>\n    .dataframe tbody tr th:only-of-type {\n        vertical-align: middle;\n    }\n\n    .dataframe tbody tr th {\n        vertical-align: top;\n    }\n\n    .dataframe thead th {\n        text-align: right;\n    }\n</style>\n<table border=\"1\" class=\"dataframe\">\n  <thead>\n    <tr style=\"text-align: right;\">\n      <th></th>\n      <th>Age</th>\n      <th>0-6 months</th>\n      <th>07-12 months</th>\n      <th>13-24 months</th>\n      <th>Total</th>\n    </tr>\n  </thead>\n  <tbody>\n    <tr>\n      <th>0</th>\n      <td>10-14</td>\n      <td>41</td>\n      <td>65</td>\n      <td>17</td>\n      <td>123</td>\n    </tr>\n    <tr>\n      <th>1</th>\n      <td>15-19</td>\n      <td>0</td>\n      <td>18</td>\n      <td>3</td>\n      <td>21</td>\n    </tr>\n    <tr>\n      <th>2</th>\n      <td>20-24</td>\n      <td>0</td>\n      <td>2</td>\n      <td>0</td>\n      <td>2</td>\n    </tr>\n  </tbody>\n</table>\n</div>"
     },
     "metadata": {},
     "execution_count": 62
    },
    {
     "output_type": "execute_result",
     "data": {
      "text/plain": [
       "'Number of individual AGYW that have fully completed the entire DREAMS primary package of services AND at least one additional secondary service.'"
      ]
     },
     "metadata": {},
     "execution_count": 62
    },
    {
     "output_type": "execute_result",
     "data": {
      "text/plain": [
       "     Age  07-12 months  13-24 months  Total\n",
       "0  10-14            10             5     15\n",
       "1  15-19             4             4      8"
      ],
      "text/html": "<div>\n<style scoped>\n    .dataframe tbody tr th:only-of-type {\n        vertical-align: middle;\n    }\n\n    .dataframe tbody tr th {\n        vertical-align: top;\n    }\n\n    .dataframe thead th {\n        text-align: right;\n    }\n</style>\n<table border=\"1\" class=\"dataframe\">\n  <thead>\n    <tr style=\"text-align: right;\">\n      <th></th>\n      <th>Age</th>\n      <th>07-12 months</th>\n      <th>13-24 months</th>\n      <th>Total</th>\n    </tr>\n  </thead>\n  <tbody>\n    <tr>\n      <th>0</th>\n      <td>10-14</td>\n      <td>10</td>\n      <td>5</td>\n      <td>15</td>\n    </tr>\n    <tr>\n      <th>1</th>\n      <td>15-19</td>\n      <td>4</td>\n      <td>4</td>\n      <td>8</td>\n    </tr>\n  </tbody>\n</table>\n</div>"
     },
     "metadata": {},
     "execution_count": 62
    },
    {
     "output_type": "execute_result",
     "data": {
      "text/plain": [
       "'Number of individual AGYW that have fully completed at least one DREAMS primary package of services but not the full primary package of services.'"
      ]
     },
     "metadata": {},
     "execution_count": 62
    },
    {
     "output_type": "execute_result",
     "data": {
      "text/plain": [
       "     Age  0-6 months  07-12 months  13-24 months  Total\n",
       "0  15-19          35           103            28    166\n",
       "1  20-24          17            66            27    110"
      ],
      "text/html": "<div>\n<style scoped>\n    .dataframe tbody tr th:only-of-type {\n        vertical-align: middle;\n    }\n\n    .dataframe tbody tr th {\n        vertical-align: top;\n    }\n\n    .dataframe thead th {\n        text-align: right;\n    }\n</style>\n<table border=\"1\" class=\"dataframe\">\n  <thead>\n    <tr style=\"text-align: right;\">\n      <th></th>\n      <th>Age</th>\n      <th>0-6 months</th>\n      <th>07-12 months</th>\n      <th>13-24 months</th>\n      <th>Total</th>\n    </tr>\n  </thead>\n  <tbody>\n    <tr>\n      <th>0</th>\n      <td>15-19</td>\n      <td>35</td>\n      <td>103</td>\n      <td>28</td>\n      <td>166</td>\n    </tr>\n    <tr>\n      <th>1</th>\n      <td>20-24</td>\n      <td>17</td>\n      <td>66</td>\n      <td>27</td>\n      <td>110</td>\n    </tr>\n  </tbody>\n</table>\n</div>"
     },
     "metadata": {},
     "execution_count": 62
    },
    {
     "output_type": "stream",
     "name": "stdout",
     "text": [
      " \n \n \n \n"
     ]
    },
    {
     "output_type": "execute_result",
     "data": {
      "text/plain": [
       "23677"
      ]
     },
     "metadata": {},
     "execution_count": 62
    },
    {
     "output_type": "execute_result",
     "data": {
      "text/plain": [
       "545"
      ]
     },
     "metadata": {},
     "execution_count": 62
    },
    {
     "output_type": "execute_result",
     "data": {
      "text/plain": [
       "'DATIM Port-au-Prince'"
      ]
     },
     "metadata": {},
     "execution_count": 62
    },
    {
     "output_type": "execute_result",
     "data": {
      "text/plain": [
       "175"
      ]
     },
     "metadata": {},
     "execution_count": 62
    },
    {
     "output_type": "execute_result",
     "data": {
      "text/plain": [
       "14"
      ]
     },
     "metadata": {},
     "execution_count": 62
    },
    {
     "output_type": "execute_result",
     "data": {
      "text/plain": [
       "306"
      ]
     },
     "metadata": {},
     "execution_count": 62
    },
    {
     "output_type": "execute_result",
     "data": {
      "text/plain": [
       "495"
      ]
     },
     "metadata": {},
     "execution_count": 62
    },
    {
     "output_type": "execute_result",
     "data": {
      "text/plain": [
       "'Number of individual AGYW that have fully completed the entire DREAMS primary package of services but have not received any services beyond the primary package.'"
      ]
     },
     "metadata": {},
     "execution_count": 62
    },
    {
     "output_type": "execute_result",
     "data": {
      "text/plain": [
       "     Age  0-6 months  07-12 months  13-24 months  Total\n",
       "0  10-14           4           150             2    156\n",
       "1  15-19           2            12             0     14\n",
       "2  20-24           0             5             0      5"
      ],
      "text/html": "<div>\n<style scoped>\n    .dataframe tbody tr th:only-of-type {\n        vertical-align: middle;\n    }\n\n    .dataframe tbody tr th {\n        vertical-align: top;\n    }\n\n    .dataframe thead th {\n        text-align: right;\n    }\n</style>\n<table border=\"1\" class=\"dataframe\">\n  <thead>\n    <tr style=\"text-align: right;\">\n      <th></th>\n      <th>Age</th>\n      <th>0-6 months</th>\n      <th>07-12 months</th>\n      <th>13-24 months</th>\n      <th>Total</th>\n    </tr>\n  </thead>\n  <tbody>\n    <tr>\n      <th>0</th>\n      <td>10-14</td>\n      <td>4</td>\n      <td>150</td>\n      <td>2</td>\n      <td>156</td>\n    </tr>\n    <tr>\n      <th>1</th>\n      <td>15-19</td>\n      <td>2</td>\n      <td>12</td>\n      <td>0</td>\n      <td>14</td>\n    </tr>\n    <tr>\n      <th>2</th>\n      <td>20-24</td>\n      <td>0</td>\n      <td>5</td>\n      <td>0</td>\n      <td>5</td>\n    </tr>\n  </tbody>\n</table>\n</div>"
     },
     "metadata": {},
     "execution_count": 62
    },
    {
     "output_type": "execute_result",
     "data": {
      "text/plain": [
       "'Number of individual AGYW that have fully completed the entire DREAMS primary package of services AND at least one additional secondary service.'"
      ]
     },
     "metadata": {},
     "execution_count": 62
    },
    {
     "output_type": "execute_result",
     "data": {
      "text/plain": [
       "     Age  07-12 months  Total\n",
       "0  10-14            11     11\n",
       "1  15-19             3      3"
      ],
      "text/html": "<div>\n<style scoped>\n    .dataframe tbody tr th:only-of-type {\n        vertical-align: middle;\n    }\n\n    .dataframe tbody tr th {\n        vertical-align: top;\n    }\n\n    .dataframe thead th {\n        text-align: right;\n    }\n</style>\n<table border=\"1\" class=\"dataframe\">\n  <thead>\n    <tr style=\"text-align: right;\">\n      <th></th>\n      <th>Age</th>\n      <th>07-12 months</th>\n      <th>Total</th>\n    </tr>\n  </thead>\n  <tbody>\n    <tr>\n      <th>0</th>\n      <td>10-14</td>\n      <td>11</td>\n      <td>11</td>\n    </tr>\n    <tr>\n      <th>1</th>\n      <td>15-19</td>\n      <td>3</td>\n      <td>3</td>\n    </tr>\n  </tbody>\n</table>\n</div>"
     },
     "metadata": {},
     "execution_count": 62
    },
    {
     "output_type": "execute_result",
     "data": {
      "text/plain": [
       "'Number of individual AGYW that have fully completed at least one DREAMS primary package of services but not the full primary package of services.'"
      ]
     },
     "metadata": {},
     "execution_count": 62
    },
    {
     "output_type": "execute_result",
     "data": {
      "text/plain": [
       "     Age  0-6 months  07-12 months  13-24 months  Total\n",
       "0  15-19          14           183             7    204\n",
       "1  20-24           4            92             6    102"
      ],
      "text/html": "<div>\n<style scoped>\n    .dataframe tbody tr th:only-of-type {\n        vertical-align: middle;\n    }\n\n    .dataframe tbody tr th {\n        vertical-align: top;\n    }\n\n    .dataframe thead th {\n        text-align: right;\n    }\n</style>\n<table border=\"1\" class=\"dataframe\">\n  <thead>\n    <tr style=\"text-align: right;\">\n      <th></th>\n      <th>Age</th>\n      <th>0-6 months</th>\n      <th>07-12 months</th>\n      <th>13-24 months</th>\n      <th>Total</th>\n    </tr>\n  </thead>\n  <tbody>\n    <tr>\n      <th>0</th>\n      <td>15-19</td>\n      <td>14</td>\n      <td>183</td>\n      <td>7</td>\n      <td>204</td>\n    </tr>\n    <tr>\n      <th>1</th>\n      <td>20-24</td>\n      <td>4</td>\n      <td>92</td>\n      <td>6</td>\n      <td>102</td>\n    </tr>\n  </tbody>\n</table>\n</div>"
     },
     "metadata": {},
     "execution_count": 62
    },
    {
     "output_type": "stream",
     "name": "stdout",
     "text": [
      " \n \n \n \n"
     ]
    },
    {
     "output_type": "execute_result",
     "data": {
      "text/plain": [
       "23677"
      ]
     },
     "metadata": {},
     "execution_count": 62
    },
    {
     "output_type": "execute_result",
     "data": {
      "text/plain": [
       "1321"
      ]
     },
     "metadata": {},
     "execution_count": 62
    },
    {
     "output_type": "execute_result",
     "data": {
      "text/plain": [
       "'DATIM Carrefour'"
      ]
     },
     "metadata": {},
     "execution_count": 62
    },
    {
     "output_type": "execute_result",
     "data": {
      "text/plain": [
       "555"
      ]
     },
     "metadata": {},
     "execution_count": 62
    },
    {
     "output_type": "execute_result",
     "data": {
      "text/plain": [
       "43"
      ]
     },
     "metadata": {},
     "execution_count": 62
    },
    {
     "output_type": "execute_result",
     "data": {
      "text/plain": [
       "563"
      ]
     },
     "metadata": {},
     "execution_count": 62
    },
    {
     "output_type": "execute_result",
     "data": {
      "text/plain": [
       "1161"
      ]
     },
     "metadata": {},
     "execution_count": 62
    },
    {
     "output_type": "execute_result",
     "data": {
      "text/plain": [
       "'Number of individual AGYW that have fully completed the entire DREAMS primary package of services but have not received any services beyond the primary package.'"
      ]
     },
     "metadata": {},
     "execution_count": 62
    },
    {
     "output_type": "execute_result",
     "data": {
      "text/plain": [
       "     Age  0-6 months  07-12 months  13-24 months  Total\n",
       "0  10-14          50           404            24    478\n",
       "1  15-19          20            48             6     74\n",
       "2  20-24           0             3             0      3"
      ],
      "text/html": "<div>\n<style scoped>\n    .dataframe tbody tr th:only-of-type {\n        vertical-align: middle;\n    }\n\n    .dataframe tbody tr th {\n        vertical-align: top;\n    }\n\n    .dataframe thead th {\n        text-align: right;\n    }\n</style>\n<table border=\"1\" class=\"dataframe\">\n  <thead>\n    <tr style=\"text-align: right;\">\n      <th></th>\n      <th>Age</th>\n      <th>0-6 months</th>\n      <th>07-12 months</th>\n      <th>13-24 months</th>\n      <th>Total</th>\n    </tr>\n  </thead>\n  <tbody>\n    <tr>\n      <th>0</th>\n      <td>10-14</td>\n      <td>50</td>\n      <td>404</td>\n      <td>24</td>\n      <td>478</td>\n    </tr>\n    <tr>\n      <th>1</th>\n      <td>15-19</td>\n      <td>20</td>\n      <td>48</td>\n      <td>6</td>\n      <td>74</td>\n    </tr>\n    <tr>\n      <th>2</th>\n      <td>20-24</td>\n      <td>0</td>\n      <td>3</td>\n      <td>0</td>\n      <td>3</td>\n    </tr>\n  </tbody>\n</table>\n</div>"
     },
     "metadata": {},
     "execution_count": 62
    },
    {
     "output_type": "execute_result",
     "data": {
      "text/plain": [
       "'Number of individual AGYW that have fully completed the entire DREAMS primary package of services AND at least one additional secondary service.'"
      ]
     },
     "metadata": {},
     "execution_count": 62
    },
    {
     "output_type": "execute_result",
     "data": {
      "text/plain": [
       "     Age  0-6 months  07-12 months  13-24 months  Total\n",
       "0  10-14           5            31             3     39\n",
       "1  15-19           0             4             0      4"
      ],
      "text/html": "<div>\n<style scoped>\n    .dataframe tbody tr th:only-of-type {\n        vertical-align: middle;\n    }\n\n    .dataframe tbody tr th {\n        vertical-align: top;\n    }\n\n    .dataframe thead th {\n        text-align: right;\n    }\n</style>\n<table border=\"1\" class=\"dataframe\">\n  <thead>\n    <tr style=\"text-align: right;\">\n      <th></th>\n      <th>Age</th>\n      <th>0-6 months</th>\n      <th>07-12 months</th>\n      <th>13-24 months</th>\n      <th>Total</th>\n    </tr>\n  </thead>\n  <tbody>\n    <tr>\n      <th>0</th>\n      <td>10-14</td>\n      <td>5</td>\n      <td>31</td>\n      <td>3</td>\n      <td>39</td>\n    </tr>\n    <tr>\n      <th>1</th>\n      <td>15-19</td>\n      <td>0</td>\n      <td>4</td>\n      <td>0</td>\n      <td>4</td>\n    </tr>\n  </tbody>\n</table>\n</div>"
     },
     "metadata": {},
     "execution_count": 62
    },
    {
     "output_type": "execute_result",
     "data": {
      "text/plain": [
       "'Number of individual AGYW that have fully completed at least one DREAMS primary package of services but not the full primary package of services.'"
      ]
     },
     "metadata": {},
     "execution_count": 62
    },
    {
     "output_type": "execute_result",
     "data": {
      "text/plain": [
       "     Age  0-6 months  07-12 months  13-24 months  Total\n",
       "0  15-19          40           266            49    355\n",
       "1  20-24          33           151            24    208"
      ],
      "text/html": "<div>\n<style scoped>\n    .dataframe tbody tr th:only-of-type {\n        vertical-align: middle;\n    }\n\n    .dataframe tbody tr th {\n        vertical-align: top;\n    }\n\n    .dataframe thead th {\n        text-align: right;\n    }\n</style>\n<table border=\"1\" class=\"dataframe\">\n  <thead>\n    <tr style=\"text-align: right;\">\n      <th></th>\n      <th>Age</th>\n      <th>0-6 months</th>\n      <th>07-12 months</th>\n      <th>13-24 months</th>\n      <th>Total</th>\n    </tr>\n  </thead>\n  <tbody>\n    <tr>\n      <th>0</th>\n      <td>15-19</td>\n      <td>40</td>\n      <td>266</td>\n      <td>49</td>\n      <td>355</td>\n    </tr>\n    <tr>\n      <th>1</th>\n      <td>20-24</td>\n      <td>33</td>\n      <td>151</td>\n      <td>24</td>\n      <td>208</td>\n    </tr>\n  </tbody>\n</table>\n</div>"
     },
     "metadata": {},
     "execution_count": 62
    },
    {
     "output_type": "stream",
     "name": "stdout",
     "text": [
      " \n \n \n \n"
     ]
    },
    {
     "output_type": "execute_result",
     "data": {
      "text/plain": [
       "23677"
      ]
     },
     "metadata": {},
     "execution_count": 62
    },
    {
     "output_type": "execute_result",
     "data": {
      "text/plain": [
       "482"
      ]
     },
     "metadata": {},
     "execution_count": 62
    },
    {
     "output_type": "execute_result",
     "data": {
      "text/plain": [
       "'DATIM Limonade'"
      ]
     },
     "metadata": {},
     "execution_count": 62
    },
    {
     "output_type": "execute_result",
     "data": {
      "text/plain": [
       "122"
      ]
     },
     "metadata": {},
     "execution_count": 62
    },
    {
     "output_type": "execute_result",
     "data": {
      "text/plain": [
       "33"
      ]
     },
     "metadata": {},
     "execution_count": 62
    },
    {
     "output_type": "execute_result",
     "data": {
      "text/plain": [
       "212"
      ]
     },
     "metadata": {},
     "execution_count": 62
    },
    {
     "output_type": "execute_result",
     "data": {
      "text/plain": [
       "367"
      ]
     },
     "metadata": {},
     "execution_count": 62
    },
    {
     "output_type": "execute_result",
     "data": {
      "text/plain": [
       "'Number of individual AGYW that have fully completed the entire DREAMS primary package of services but have not received any services beyond the primary package.'"
      ]
     },
     "metadata": {},
     "execution_count": 62
    },
    {
     "output_type": "execute_result",
     "data": {
      "text/plain": [
       "     Age  0-6 months  07-12 months  13-24 months  Total\n",
       "0  10-14          31            75             2    108\n",
       "1  15-19           0            10             0     10\n",
       "2  20-24           0             4             0      4"
      ],
      "text/html": "<div>\n<style scoped>\n    .dataframe tbody tr th:only-of-type {\n        vertical-align: middle;\n    }\n\n    .dataframe tbody tr th {\n        vertical-align: top;\n    }\n\n    .dataframe thead th {\n        text-align: right;\n    }\n</style>\n<table border=\"1\" class=\"dataframe\">\n  <thead>\n    <tr style=\"text-align: right;\">\n      <th></th>\n      <th>Age</th>\n      <th>0-6 months</th>\n      <th>07-12 months</th>\n      <th>13-24 months</th>\n      <th>Total</th>\n    </tr>\n  </thead>\n  <tbody>\n    <tr>\n      <th>0</th>\n      <td>10-14</td>\n      <td>31</td>\n      <td>75</td>\n      <td>2</td>\n      <td>108</td>\n    </tr>\n    <tr>\n      <th>1</th>\n      <td>15-19</td>\n      <td>0</td>\n      <td>10</td>\n      <td>0</td>\n      <td>10</td>\n    </tr>\n    <tr>\n      <th>2</th>\n      <td>20-24</td>\n      <td>0</td>\n      <td>4</td>\n      <td>0</td>\n      <td>4</td>\n    </tr>\n  </tbody>\n</table>\n</div>"
     },
     "metadata": {},
     "execution_count": 62
    },
    {
     "output_type": "execute_result",
     "data": {
      "text/plain": [
       "'Number of individual AGYW that have fully completed the entire DREAMS primary package of services AND at least one additional secondary service.'"
      ]
     },
     "metadata": {},
     "execution_count": 62
    },
    {
     "output_type": "execute_result",
     "data": {
      "text/plain": [
       "     Age  0-6 months  07-12 months  Total\n",
       "0  10-14           2            21     23\n",
       "1  15-19           0            10     10"
      ],
      "text/html": "<div>\n<style scoped>\n    .dataframe tbody tr th:only-of-type {\n        vertical-align: middle;\n    }\n\n    .dataframe tbody tr th {\n        vertical-align: top;\n    }\n\n    .dataframe thead th {\n        text-align: right;\n    }\n</style>\n<table border=\"1\" class=\"dataframe\">\n  <thead>\n    <tr style=\"text-align: right;\">\n      <th></th>\n      <th>Age</th>\n      <th>0-6 months</th>\n      <th>07-12 months</th>\n      <th>Total</th>\n    </tr>\n  </thead>\n  <tbody>\n    <tr>\n      <th>0</th>\n      <td>10-14</td>\n      <td>2</td>\n      <td>21</td>\n      <td>23</td>\n    </tr>\n    <tr>\n      <th>1</th>\n      <td>15-19</td>\n      <td>0</td>\n      <td>10</td>\n      <td>10</td>\n    </tr>\n  </tbody>\n</table>\n</div>"
     },
     "metadata": {},
     "execution_count": 62
    },
    {
     "output_type": "execute_result",
     "data": {
      "text/plain": [
       "'Number of individual AGYW that have fully completed at least one DREAMS primary package of services but not the full primary package of services.'"
      ]
     },
     "metadata": {},
     "execution_count": 62
    },
    {
     "output_type": "execute_result",
     "data": {
      "text/plain": [
       "     Age  0-6 months  07-12 months  13-24 months  Total\n",
       "0  15-19          16           135             7    158\n",
       "1  20-24           4            47             3     54"
      ],
      "text/html": "<div>\n<style scoped>\n    .dataframe tbody tr th:only-of-type {\n        vertical-align: middle;\n    }\n\n    .dataframe tbody tr th {\n        vertical-align: top;\n    }\n\n    .dataframe thead th {\n        text-align: right;\n    }\n</style>\n<table border=\"1\" class=\"dataframe\">\n  <thead>\n    <tr style=\"text-align: right;\">\n      <th></th>\n      <th>Age</th>\n      <th>0-6 months</th>\n      <th>07-12 months</th>\n      <th>13-24 months</th>\n      <th>Total</th>\n    </tr>\n  </thead>\n  <tbody>\n    <tr>\n      <th>0</th>\n      <td>15-19</td>\n      <td>16</td>\n      <td>135</td>\n      <td>7</td>\n      <td>158</td>\n    </tr>\n    <tr>\n      <th>1</th>\n      <td>20-24</td>\n      <td>4</td>\n      <td>47</td>\n      <td>3</td>\n      <td>54</td>\n    </tr>\n  </tbody>\n</table>\n</div>"
     },
     "metadata": {},
     "execution_count": 62
    },
    {
     "output_type": "stream",
     "name": "stdout",
     "text": [
      " \n \n \n \n"
     ]
    },
    {
     "output_type": "execute_result",
     "data": {
      "text/plain": [
       "23677"
      ]
     },
     "metadata": {},
     "execution_count": 62
    },
    {
     "output_type": "execute_result",
     "data": {
      "text/plain": [
       "240"
      ]
     },
     "metadata": {},
     "execution_count": 62
    },
    {
     "output_type": "execute_result",
     "data": {
      "text/plain": [
       "'DATIM Plaine-du-Nord'"
      ]
     },
     "metadata": {},
     "execution_count": 62
    },
    {
     "output_type": "execute_result",
     "data": {
      "text/plain": [
       "44"
      ]
     },
     "metadata": {},
     "execution_count": 62
    },
    {
     "output_type": "execute_result",
     "data": {
      "text/plain": [
       "5"
      ]
     },
     "metadata": {},
     "execution_count": 62
    },
    {
     "output_type": "execute_result",
     "data": {
      "text/plain": [
       "87"
      ]
     },
     "metadata": {},
     "execution_count": 62
    },
    {
     "output_type": "execute_result",
     "data": {
      "text/plain": [
       "136"
      ]
     },
     "metadata": {},
     "execution_count": 62
    },
    {
     "output_type": "execute_result",
     "data": {
      "text/plain": [
       "'Number of individual AGYW that have fully completed the entire DREAMS primary package of services but have not received any services beyond the primary package.'"
      ]
     },
     "metadata": {},
     "execution_count": 62
    },
    {
     "output_type": "execute_result",
     "data": {
      "text/plain": [
       "     Age  07-12 months  13-24 months  Total\n",
       "0  10-14            39             3     42\n",
       "1  20-24             2             0      2"
      ],
      "text/html": "<div>\n<style scoped>\n    .dataframe tbody tr th:only-of-type {\n        vertical-align: middle;\n    }\n\n    .dataframe tbody tr th {\n        vertical-align: top;\n    }\n\n    .dataframe thead th {\n        text-align: right;\n    }\n</style>\n<table border=\"1\" class=\"dataframe\">\n  <thead>\n    <tr style=\"text-align: right;\">\n      <th></th>\n      <th>Age</th>\n      <th>07-12 months</th>\n      <th>13-24 months</th>\n      <th>Total</th>\n    </tr>\n  </thead>\n  <tbody>\n    <tr>\n      <th>0</th>\n      <td>10-14</td>\n      <td>39</td>\n      <td>3</td>\n      <td>42</td>\n    </tr>\n    <tr>\n      <th>1</th>\n      <td>20-24</td>\n      <td>2</td>\n      <td>0</td>\n      <td>2</td>\n    </tr>\n  </tbody>\n</table>\n</div>"
     },
     "metadata": {},
     "execution_count": 62
    },
    {
     "output_type": "execute_result",
     "data": {
      "text/plain": [
       "'Number of individual AGYW that have fully completed the entire DREAMS primary package of services AND at least one additional secondary service.'"
      ]
     },
     "metadata": {},
     "execution_count": 62
    },
    {
     "output_type": "execute_result",
     "data": {
      "text/plain": [
       "     Age  07-12 months  Total\n",
       "0  10-14             4      4\n",
       "1  15-19             1      1"
      ],
      "text/html": "<div>\n<style scoped>\n    .dataframe tbody tr th:only-of-type {\n        vertical-align: middle;\n    }\n\n    .dataframe tbody tr th {\n        vertical-align: top;\n    }\n\n    .dataframe thead th {\n        text-align: right;\n    }\n</style>\n<table border=\"1\" class=\"dataframe\">\n  <thead>\n    <tr style=\"text-align: right;\">\n      <th></th>\n      <th>Age</th>\n      <th>07-12 months</th>\n      <th>Total</th>\n    </tr>\n  </thead>\n  <tbody>\n    <tr>\n      <th>0</th>\n      <td>10-14</td>\n      <td>4</td>\n      <td>4</td>\n    </tr>\n    <tr>\n      <th>1</th>\n      <td>15-19</td>\n      <td>1</td>\n      <td>1</td>\n    </tr>\n  </tbody>\n</table>\n</div>"
     },
     "metadata": {},
     "execution_count": 62
    },
    {
     "output_type": "execute_result",
     "data": {
      "text/plain": [
       "'Number of individual AGYW that have fully completed at least one DREAMS primary package of services but not the full primary package of services.'"
      ]
     },
     "metadata": {},
     "execution_count": 62
    },
    {
     "output_type": "execute_result",
     "data": {
      "text/plain": [
       "     Age  07-12 months  13-24 months  Total\n",
       "0  15-19            60             4     64\n",
       "1  20-24            22             1     23"
      ],
      "text/html": "<div>\n<style scoped>\n    .dataframe tbody tr th:only-of-type {\n        vertical-align: middle;\n    }\n\n    .dataframe tbody tr th {\n        vertical-align: top;\n    }\n\n    .dataframe thead th {\n        text-align: right;\n    }\n</style>\n<table border=\"1\" class=\"dataframe\">\n  <thead>\n    <tr style=\"text-align: right;\">\n      <th></th>\n      <th>Age</th>\n      <th>07-12 months</th>\n      <th>13-24 months</th>\n      <th>Total</th>\n    </tr>\n  </thead>\n  <tbody>\n    <tr>\n      <th>0</th>\n      <td>15-19</td>\n      <td>60</td>\n      <td>4</td>\n      <td>64</td>\n    </tr>\n    <tr>\n      <th>1</th>\n      <td>20-24</td>\n      <td>22</td>\n      <td>1</td>\n      <td>23</td>\n    </tr>\n  </tbody>\n</table>\n</div>"
     },
     "metadata": {},
     "execution_count": 62
    },
    {
     "output_type": "stream",
     "name": "stdout",
     "text": [
      " \n \n \n \n"
     ]
    },
    {
     "output_type": "execute_result",
     "data": {
      "text/plain": [
       "23677"
      ]
     },
     "metadata": {},
     "execution_count": 62
    },
    {
     "output_type": "execute_result",
     "data": {
      "text/plain": [
       "849"
      ]
     },
     "metadata": {},
     "execution_count": 62
    },
    {
     "output_type": "execute_result",
     "data": {
      "text/plain": [
       "'DATIM Cap-Haïtien'"
      ]
     },
     "metadata": {},
     "execution_count": 62
    },
    {
     "output_type": "execute_result",
     "data": {
      "text/plain": [
       "227"
      ]
     },
     "metadata": {},
     "execution_count": 62
    },
    {
     "output_type": "execute_result",
     "data": {
      "text/plain": [
       "12"
      ]
     },
     "metadata": {},
     "execution_count": 62
    },
    {
     "output_type": "execute_result",
     "data": {
      "text/plain": [
       "357"
      ]
     },
     "metadata": {},
     "execution_count": 62
    },
    {
     "output_type": "execute_result",
     "data": {
      "text/plain": [
       "596"
      ]
     },
     "metadata": {},
     "execution_count": 62
    },
    {
     "output_type": "execute_result",
     "data": {
      "text/plain": [
       "'Number of individual AGYW that have fully completed the entire DREAMS primary package of services but have not received any services beyond the primary package.'"
      ]
     },
     "metadata": {},
     "execution_count": 62
    },
    {
     "output_type": "execute_result",
     "data": {
      "text/plain": [
       "     Age  0-6 months  07-12 months  13-24 months  Total\n",
       "0  10-14          21           191             8    220\n",
       "1  15-19           0             5             0      5\n",
       "2  20-24           0             2             0      2"
      ],
      "text/html": "<div>\n<style scoped>\n    .dataframe tbody tr th:only-of-type {\n        vertical-align: middle;\n    }\n\n    .dataframe tbody tr th {\n        vertical-align: top;\n    }\n\n    .dataframe thead th {\n        text-align: right;\n    }\n</style>\n<table border=\"1\" class=\"dataframe\">\n  <thead>\n    <tr style=\"text-align: right;\">\n      <th></th>\n      <th>Age</th>\n      <th>0-6 months</th>\n      <th>07-12 months</th>\n      <th>13-24 months</th>\n      <th>Total</th>\n    </tr>\n  </thead>\n  <tbody>\n    <tr>\n      <th>0</th>\n      <td>10-14</td>\n      <td>21</td>\n      <td>191</td>\n      <td>8</td>\n      <td>220</td>\n    </tr>\n    <tr>\n      <th>1</th>\n      <td>15-19</td>\n      <td>0</td>\n      <td>5</td>\n      <td>0</td>\n      <td>5</td>\n    </tr>\n    <tr>\n      <th>2</th>\n      <td>20-24</td>\n      <td>0</td>\n      <td>2</td>\n      <td>0</td>\n      <td>2</td>\n    </tr>\n  </tbody>\n</table>\n</div>"
     },
     "metadata": {},
     "execution_count": 62
    },
    {
     "output_type": "execute_result",
     "data": {
      "text/plain": [
       "'Number of individual AGYW that have fully completed the entire DREAMS primary package of services AND at least one additional secondary service.'"
      ]
     },
     "metadata": {},
     "execution_count": 62
    },
    {
     "output_type": "execute_result",
     "data": {
      "text/plain": [
       "     Age  07-12 months  Total\n",
       "0  10-14            12     12"
      ],
      "text/html": "<div>\n<style scoped>\n    .dataframe tbody tr th:only-of-type {\n        vertical-align: middle;\n    }\n\n    .dataframe tbody tr th {\n        vertical-align: top;\n    }\n\n    .dataframe thead th {\n        text-align: right;\n    }\n</style>\n<table border=\"1\" class=\"dataframe\">\n  <thead>\n    <tr style=\"text-align: right;\">\n      <th></th>\n      <th>Age</th>\n      <th>07-12 months</th>\n      <th>Total</th>\n    </tr>\n  </thead>\n  <tbody>\n    <tr>\n      <th>0</th>\n      <td>10-14</td>\n      <td>12</td>\n      <td>12</td>\n    </tr>\n  </tbody>\n</table>\n</div>"
     },
     "metadata": {},
     "execution_count": 62
    },
    {
     "output_type": "execute_result",
     "data": {
      "text/plain": [
       "'Number of individual AGYW that have fully completed at least one DREAMS primary package of services but not the full primary package of services.'"
      ]
     },
     "metadata": {},
     "execution_count": 62
    },
    {
     "output_type": "execute_result",
     "data": {
      "text/plain": [
       "     Age  0-6 months  07-12 months  13-24 months  Total\n",
       "0  15-19          13           206            10    229\n",
       "1  20-24          10           117             1    128"
      ],
      "text/html": "<div>\n<style scoped>\n    .dataframe tbody tr th:only-of-type {\n        vertical-align: middle;\n    }\n\n    .dataframe tbody tr th {\n        vertical-align: top;\n    }\n\n    .dataframe thead th {\n        text-align: right;\n    }\n</style>\n<table border=\"1\" class=\"dataframe\">\n  <thead>\n    <tr style=\"text-align: right;\">\n      <th></th>\n      <th>Age</th>\n      <th>0-6 months</th>\n      <th>07-12 months</th>\n      <th>13-24 months</th>\n      <th>Total</th>\n    </tr>\n  </thead>\n  <tbody>\n    <tr>\n      <th>0</th>\n      <td>15-19</td>\n      <td>13</td>\n      <td>206</td>\n      <td>10</td>\n      <td>229</td>\n    </tr>\n    <tr>\n      <th>1</th>\n      <td>20-24</td>\n      <td>10</td>\n      <td>117</td>\n      <td>1</td>\n      <td>128</td>\n    </tr>\n  </tbody>\n</table>\n</div>"
     },
     "metadata": {},
     "execution_count": 62
    },
    {
     "output_type": "stream",
     "name": "stdout",
     "text": [
      " \n \n \n \n"
     ]
    },
    {
     "output_type": "execute_result",
     "data": {
      "text/plain": [
       "23677"
      ]
     },
     "metadata": {},
     "execution_count": 62
    },
    {
     "output_type": "execute_result",
     "data": {
      "text/plain": [
       "2333"
      ]
     },
     "metadata": {},
     "execution_count": 62
    },
    {
     "output_type": "execute_result",
     "data": {
      "text/plain": [
       "'DATIM Kenscoff'"
      ]
     },
     "metadata": {},
     "execution_count": 62
    },
    {
     "output_type": "execute_result",
     "data": {
      "text/plain": [
       "1058"
      ]
     },
     "metadata": {},
     "execution_count": 62
    },
    {
     "output_type": "execute_result",
     "data": {
      "text/plain": [
       "132"
      ]
     },
     "metadata": {},
     "execution_count": 62
    },
    {
     "output_type": "execute_result",
     "data": {
      "text/plain": [
       "880"
      ]
     },
     "metadata": {},
     "execution_count": 62
    },
    {
     "output_type": "execute_result",
     "data": {
      "text/plain": [
       "2070"
      ]
     },
     "metadata": {},
     "execution_count": 62
    },
    {
     "output_type": "execute_result",
     "data": {
      "text/plain": [
       "'Number of individual AGYW that have fully completed the entire DREAMS primary package of services but have not received any services beyond the primary package.'"
      ]
     },
     "metadata": {},
     "execution_count": 62
    },
    {
     "output_type": "execute_result",
     "data": {
      "text/plain": [
       "     Age  0-6 months  07-12 months  13-24 months  Total\n",
       "0  10-14          47           651           113    811\n",
       "1  15-19          23           179            26    228\n",
       "2  20-24           0            16             3     19"
      ],
      "text/html": "<div>\n<style scoped>\n    .dataframe tbody tr th:only-of-type {\n        vertical-align: middle;\n    }\n\n    .dataframe tbody tr th {\n        vertical-align: top;\n    }\n\n    .dataframe thead th {\n        text-align: right;\n    }\n</style>\n<table border=\"1\" class=\"dataframe\">\n  <thead>\n    <tr style=\"text-align: right;\">\n      <th></th>\n      <th>Age</th>\n      <th>0-6 months</th>\n      <th>07-12 months</th>\n      <th>13-24 months</th>\n      <th>Total</th>\n    </tr>\n  </thead>\n  <tbody>\n    <tr>\n      <th>0</th>\n      <td>10-14</td>\n      <td>47</td>\n      <td>651</td>\n      <td>113</td>\n      <td>811</td>\n    </tr>\n    <tr>\n      <th>1</th>\n      <td>15-19</td>\n      <td>23</td>\n      <td>179</td>\n      <td>26</td>\n      <td>228</td>\n    </tr>\n    <tr>\n      <th>2</th>\n      <td>20-24</td>\n      <td>0</td>\n      <td>16</td>\n      <td>3</td>\n      <td>19</td>\n    </tr>\n  </tbody>\n</table>\n</div>"
     },
     "metadata": {},
     "execution_count": 62
    },
    {
     "output_type": "execute_result",
     "data": {
      "text/plain": [
       "'Number of individual AGYW that have fully completed the entire DREAMS primary package of services AND at least one additional secondary service.'"
      ]
     },
     "metadata": {},
     "execution_count": 62
    },
    {
     "output_type": "execute_result",
     "data": {
      "text/plain": [
       "     Age  0-6 months  07-12 months  13-24 months  Total\n",
       "0  10-14           2            66            19     87\n",
       "1  15-19           0            35            10     45"
      ],
      "text/html": "<div>\n<style scoped>\n    .dataframe tbody tr th:only-of-type {\n        vertical-align: middle;\n    }\n\n    .dataframe tbody tr th {\n        vertical-align: top;\n    }\n\n    .dataframe thead th {\n        text-align: right;\n    }\n</style>\n<table border=\"1\" class=\"dataframe\">\n  <thead>\n    <tr style=\"text-align: right;\">\n      <th></th>\n      <th>Age</th>\n      <th>0-6 months</th>\n      <th>07-12 months</th>\n      <th>13-24 months</th>\n      <th>Total</th>\n    </tr>\n  </thead>\n  <tbody>\n    <tr>\n      <th>0</th>\n      <td>10-14</td>\n      <td>2</td>\n      <td>66</td>\n      <td>19</td>\n      <td>87</td>\n    </tr>\n    <tr>\n      <th>1</th>\n      <td>15-19</td>\n      <td>0</td>\n      <td>35</td>\n      <td>10</td>\n      <td>45</td>\n    </tr>\n  </tbody>\n</table>\n</div>"
     },
     "metadata": {},
     "execution_count": 62
    },
    {
     "output_type": "execute_result",
     "data": {
      "text/plain": [
       "'Number of individual AGYW that have fully completed at least one DREAMS primary package of services but not the full primary package of services.'"
      ]
     },
     "metadata": {},
     "execution_count": 62
    },
    {
     "output_type": "execute_result",
     "data": {
      "text/plain": [
       "     Age  0-6 months  07-12 months  13-24 months  Total\n",
       "0  15-19          19           378            81    478\n",
       "1  20-24          16           307            79    402"
      ],
      "text/html": "<div>\n<style scoped>\n    .dataframe tbody tr th:only-of-type {\n        vertical-align: middle;\n    }\n\n    .dataframe tbody tr th {\n        vertical-align: top;\n    }\n\n    .dataframe thead th {\n        text-align: right;\n    }\n</style>\n<table border=\"1\" class=\"dataframe\">\n  <thead>\n    <tr style=\"text-align: right;\">\n      <th></th>\n      <th>Age</th>\n      <th>0-6 months</th>\n      <th>07-12 months</th>\n      <th>13-24 months</th>\n      <th>Total</th>\n    </tr>\n  </thead>\n  <tbody>\n    <tr>\n      <th>0</th>\n      <td>15-19</td>\n      <td>19</td>\n      <td>378</td>\n      <td>81</td>\n      <td>478</td>\n    </tr>\n    <tr>\n      <th>1</th>\n      <td>20-24</td>\n      <td>16</td>\n      <td>307</td>\n      <td>79</td>\n      <td>402</td>\n    </tr>\n  </tbody>\n</table>\n</div>"
     },
     "metadata": {},
     "execution_count": 62
    },
    {
     "output_type": "stream",
     "name": "stdout",
     "text": [
      " \n \n \n \n"
     ]
    },
    {
     "output_type": "execute_result",
     "data": {
      "text/plain": [
       "23677"
      ]
     },
     "metadata": {},
     "execution_count": 62
    },
    {
     "output_type": "execute_result",
     "data": {
      "text/plain": [
       "1023"
      ]
     },
     "metadata": {},
     "execution_count": 62
    },
    {
     "output_type": "execute_result",
     "data": {
      "text/plain": [
       "'DATIM Dessalines'"
      ]
     },
     "metadata": {},
     "execution_count": 62
    },
    {
     "output_type": "execute_result",
     "data": {
      "text/plain": [
       "473"
      ]
     },
     "metadata": {},
     "execution_count": 62
    },
    {
     "output_type": "execute_result",
     "data": {
      "text/plain": [
       "52"
      ]
     },
     "metadata": {},
     "execution_count": 62
    },
    {
     "output_type": "execute_result",
     "data": {
      "text/plain": [
       "370"
      ]
     },
     "metadata": {},
     "execution_count": 62
    },
    {
     "output_type": "execute_result",
     "data": {
      "text/plain": [
       "895"
      ]
     },
     "metadata": {},
     "execution_count": 62
    },
    {
     "output_type": "execute_result",
     "data": {
      "text/plain": [
       "'Number of individual AGYW that have fully completed the entire DREAMS primary package of services but have not received any services beyond the primary package.'"
      ]
     },
     "metadata": {},
     "execution_count": 62
    },
    {
     "output_type": "execute_result",
     "data": {
      "text/plain": [
       "     Age  0-6 months  07-12 months  Total\n",
       "0  10-14          24           375    399\n",
       "1  15-19           0            58     58\n",
       "2  20-24           0            16     16"
      ],
      "text/html": "<div>\n<style scoped>\n    .dataframe tbody tr th:only-of-type {\n        vertical-align: middle;\n    }\n\n    .dataframe tbody tr th {\n        vertical-align: top;\n    }\n\n    .dataframe thead th {\n        text-align: right;\n    }\n</style>\n<table border=\"1\" class=\"dataframe\">\n  <thead>\n    <tr style=\"text-align: right;\">\n      <th></th>\n      <th>Age</th>\n      <th>0-6 months</th>\n      <th>07-12 months</th>\n      <th>Total</th>\n    </tr>\n  </thead>\n  <tbody>\n    <tr>\n      <th>0</th>\n      <td>10-14</td>\n      <td>24</td>\n      <td>375</td>\n      <td>399</td>\n    </tr>\n    <tr>\n      <th>1</th>\n      <td>15-19</td>\n      <td>0</td>\n      <td>58</td>\n      <td>58</td>\n    </tr>\n    <tr>\n      <th>2</th>\n      <td>20-24</td>\n      <td>0</td>\n      <td>16</td>\n      <td>16</td>\n    </tr>\n  </tbody>\n</table>\n</div>"
     },
     "metadata": {},
     "execution_count": 62
    },
    {
     "output_type": "execute_result",
     "data": {
      "text/plain": [
       "'Number of individual AGYW that have fully completed the entire DREAMS primary package of services AND at least one additional secondary service.'"
      ]
     },
     "metadata": {},
     "execution_count": 62
    },
    {
     "output_type": "execute_result",
     "data": {
      "text/plain": [
       "     Age  07-12 months  Total\n",
       "0  10-14            24     24\n",
       "1  15-19            28     28"
      ],
      "text/html": "<div>\n<style scoped>\n    .dataframe tbody tr th:only-of-type {\n        vertical-align: middle;\n    }\n\n    .dataframe tbody tr th {\n        vertical-align: top;\n    }\n\n    .dataframe thead th {\n        text-align: right;\n    }\n</style>\n<table border=\"1\" class=\"dataframe\">\n  <thead>\n    <tr style=\"text-align: right;\">\n      <th></th>\n      <th>Age</th>\n      <th>07-12 months</th>\n      <th>Total</th>\n    </tr>\n  </thead>\n  <tbody>\n    <tr>\n      <th>0</th>\n      <td>10-14</td>\n      <td>24</td>\n      <td>24</td>\n    </tr>\n    <tr>\n      <th>1</th>\n      <td>15-19</td>\n      <td>28</td>\n      <td>28</td>\n    </tr>\n  </tbody>\n</table>\n</div>"
     },
     "metadata": {},
     "execution_count": 62
    },
    {
     "output_type": "execute_result",
     "data": {
      "text/plain": [
       "'Number of individual AGYW that have fully completed at least one DREAMS primary package of services but not the full primary package of services.'"
      ]
     },
     "metadata": {},
     "execution_count": 62
    },
    {
     "output_type": "execute_result",
     "data": {
      "text/plain": [
       "     Age  0-6 months  07-12 months  Total\n",
       "0  15-19          32           268    300\n",
       "1  20-24           6            64     70"
      ],
      "text/html": "<div>\n<style scoped>\n    .dataframe tbody tr th:only-of-type {\n        vertical-align: middle;\n    }\n\n    .dataframe tbody tr th {\n        vertical-align: top;\n    }\n\n    .dataframe thead th {\n        text-align: right;\n    }\n</style>\n<table border=\"1\" class=\"dataframe\">\n  <thead>\n    <tr style=\"text-align: right;\">\n      <th></th>\n      <th>Age</th>\n      <th>0-6 months</th>\n      <th>07-12 months</th>\n      <th>Total</th>\n    </tr>\n  </thead>\n  <tbody>\n    <tr>\n      <th>0</th>\n      <td>15-19</td>\n      <td>32</td>\n      <td>268</td>\n      <td>300</td>\n    </tr>\n    <tr>\n      <th>1</th>\n      <td>20-24</td>\n      <td>6</td>\n      <td>64</td>\n      <td>70</td>\n    </tr>\n  </tbody>\n</table>\n</div>"
     },
     "metadata": {},
     "execution_count": 62
    },
    {
     "output_type": "stream",
     "name": "stdout",
     "text": [
      " \n \n \n \n"
     ]
    },
    {
     "output_type": "execute_result",
     "data": {
      "text/plain": [
       "23677"
      ]
     },
     "metadata": {},
     "execution_count": 62
    },
    {
     "output_type": "execute_result",
     "data": {
      "text/plain": [
       "369"
      ]
     },
     "metadata": {},
     "execution_count": 62
    },
    {
     "output_type": "execute_result",
     "data": {
      "text/plain": [
       "'DATIM Pétionville'"
      ]
     },
     "metadata": {},
     "execution_count": 62
    },
    {
     "output_type": "execute_result",
     "data": {
      "text/plain": [
       "85"
      ]
     },
     "metadata": {},
     "execution_count": 62
    },
    {
     "output_type": "execute_result",
     "data": {
      "text/plain": [
       "11"
      ]
     },
     "metadata": {},
     "execution_count": 62
    },
    {
     "output_type": "execute_result",
     "data": {
      "text/plain": [
       "183"
      ]
     },
     "metadata": {},
     "execution_count": 62
    },
    {
     "output_type": "execute_result",
     "data": {
      "text/plain": [
       "279"
      ]
     },
     "metadata": {},
     "execution_count": 62
    },
    {
     "output_type": "execute_result",
     "data": {
      "text/plain": [
       "'Number of individual AGYW that have fully completed the entire DREAMS primary package of services but have not received any services beyond the primary package.'"
      ]
     },
     "metadata": {},
     "execution_count": 62
    },
    {
     "output_type": "execute_result",
     "data": {
      "text/plain": [
       "     Age  0-6 months  07-12 months  13-24 months  Total\n",
       "0  10-14          18            52             9     79\n",
       "1  15-19           0             3             0      3\n",
       "2  20-24           0             3             0      3"
      ],
      "text/html": "<div>\n<style scoped>\n    .dataframe tbody tr th:only-of-type {\n        vertical-align: middle;\n    }\n\n    .dataframe tbody tr th {\n        vertical-align: top;\n    }\n\n    .dataframe thead th {\n        text-align: right;\n    }\n</style>\n<table border=\"1\" class=\"dataframe\">\n  <thead>\n    <tr style=\"text-align: right;\">\n      <th></th>\n      <th>Age</th>\n      <th>0-6 months</th>\n      <th>07-12 months</th>\n      <th>13-24 months</th>\n      <th>Total</th>\n    </tr>\n  </thead>\n  <tbody>\n    <tr>\n      <th>0</th>\n      <td>10-14</td>\n      <td>18</td>\n      <td>52</td>\n      <td>9</td>\n      <td>79</td>\n    </tr>\n    <tr>\n      <th>1</th>\n      <td>15-19</td>\n      <td>0</td>\n      <td>3</td>\n      <td>0</td>\n      <td>3</td>\n    </tr>\n    <tr>\n      <th>2</th>\n      <td>20-24</td>\n      <td>0</td>\n      <td>3</td>\n      <td>0</td>\n      <td>3</td>\n    </tr>\n  </tbody>\n</table>\n</div>"
     },
     "metadata": {},
     "execution_count": 62
    },
    {
     "output_type": "execute_result",
     "data": {
      "text/plain": [
       "'Number of individual AGYW that have fully completed the entire DREAMS primary package of services AND at least one additional secondary service.'"
      ]
     },
     "metadata": {},
     "execution_count": 62
    },
    {
     "output_type": "execute_result",
     "data": {
      "text/plain": [
       "     Age  07-12 months  13-24 months  Total\n",
       "0  10-14             4             2      6\n",
       "1  15-19             4             0      4\n",
       "2  20-24             1             0      1"
      ],
      "text/html": "<div>\n<style scoped>\n    .dataframe tbody tr th:only-of-type {\n        vertical-align: middle;\n    }\n\n    .dataframe tbody tr th {\n        vertical-align: top;\n    }\n\n    .dataframe thead th {\n        text-align: right;\n    }\n</style>\n<table border=\"1\" class=\"dataframe\">\n  <thead>\n    <tr style=\"text-align: right;\">\n      <th></th>\n      <th>Age</th>\n      <th>07-12 months</th>\n      <th>13-24 months</th>\n      <th>Total</th>\n    </tr>\n  </thead>\n  <tbody>\n    <tr>\n      <th>0</th>\n      <td>10-14</td>\n      <td>4</td>\n      <td>2</td>\n      <td>6</td>\n    </tr>\n    <tr>\n      <th>1</th>\n      <td>15-19</td>\n      <td>4</td>\n      <td>0</td>\n      <td>4</td>\n    </tr>\n    <tr>\n      <th>2</th>\n      <td>20-24</td>\n      <td>1</td>\n      <td>0</td>\n      <td>1</td>\n    </tr>\n  </tbody>\n</table>\n</div>"
     },
     "metadata": {},
     "execution_count": 62
    },
    {
     "output_type": "execute_result",
     "data": {
      "text/plain": [
       "'Number of individual AGYW that have fully completed at least one DREAMS primary package of services but not the full primary package of services.'"
      ]
     },
     "metadata": {},
     "execution_count": 62
    },
    {
     "output_type": "execute_result",
     "data": {
      "text/plain": [
       "     Age  0-6 months  07-12 months  13-24 months  Total\n",
       "0  15-19          18            91            11    120\n",
       "1  20-24          11            45             7     63"
      ],
      "text/html": "<div>\n<style scoped>\n    .dataframe tbody tr th:only-of-type {\n        vertical-align: middle;\n    }\n\n    .dataframe tbody tr th {\n        vertical-align: top;\n    }\n\n    .dataframe thead th {\n        text-align: right;\n    }\n</style>\n<table border=\"1\" class=\"dataframe\">\n  <thead>\n    <tr style=\"text-align: right;\">\n      <th></th>\n      <th>Age</th>\n      <th>0-6 months</th>\n      <th>07-12 months</th>\n      <th>13-24 months</th>\n      <th>Total</th>\n    </tr>\n  </thead>\n  <tbody>\n    <tr>\n      <th>0</th>\n      <td>15-19</td>\n      <td>18</td>\n      <td>91</td>\n      <td>11</td>\n      <td>120</td>\n    </tr>\n    <tr>\n      <th>1</th>\n      <td>20-24</td>\n      <td>11</td>\n      <td>45</td>\n      <td>7</td>\n      <td>63</td>\n    </tr>\n  </tbody>\n</table>\n</div>"
     },
     "metadata": {},
     "execution_count": 62
    },
    {
     "output_type": "stream",
     "name": "stdout",
     "text": [
      " \n \n \n \n"
     ]
    },
    {
     "output_type": "execute_result",
     "data": {
      "text/plain": [
       "23677"
      ]
     },
     "metadata": {},
     "execution_count": 62
    },
    {
     "output_type": "execute_result",
     "data": {
      "text/plain": [
       "776"
      ]
     },
     "metadata": {},
     "execution_count": 62
    },
    {
     "output_type": "execute_result",
     "data": {
      "text/plain": [
       "'DATIM Gressier'"
      ]
     },
     "metadata": {},
     "execution_count": 62
    },
    {
     "output_type": "execute_result",
     "data": {
      "text/plain": [
       "227"
      ]
     },
     "metadata": {},
     "execution_count": 62
    },
    {
     "output_type": "execute_result",
     "data": {
      "text/plain": [
       "28"
      ]
     },
     "metadata": {},
     "execution_count": 62
    },
    {
     "output_type": "execute_result",
     "data": {
      "text/plain": [
       "330"
      ]
     },
     "metadata": {},
     "execution_count": 62
    },
    {
     "output_type": "execute_result",
     "data": {
      "text/plain": [
       "585"
      ]
     },
     "metadata": {},
     "execution_count": 62
    },
    {
     "output_type": "execute_result",
     "data": {
      "text/plain": [
       "'Number of individual AGYW that have fully completed the entire DREAMS primary package of services but have not received any services beyond the primary package.'"
      ]
     },
     "metadata": {},
     "execution_count": 62
    },
    {
     "output_type": "execute_result",
     "data": {
      "text/plain": [
       "     Age  0-6 months  07-12 months  Total\n",
       "0  10-14          90           100    190\n",
       "1  15-19           0            29     29\n",
       "2  20-24           0             8      8"
      ],
      "text/html": "<div>\n<style scoped>\n    .dataframe tbody tr th:only-of-type {\n        vertical-align: middle;\n    }\n\n    .dataframe tbody tr th {\n        vertical-align: top;\n    }\n\n    .dataframe thead th {\n        text-align: right;\n    }\n</style>\n<table border=\"1\" class=\"dataframe\">\n  <thead>\n    <tr style=\"text-align: right;\">\n      <th></th>\n      <th>Age</th>\n      <th>0-6 months</th>\n      <th>07-12 months</th>\n      <th>Total</th>\n    </tr>\n  </thead>\n  <tbody>\n    <tr>\n      <th>0</th>\n      <td>10-14</td>\n      <td>90</td>\n      <td>100</td>\n      <td>190</td>\n    </tr>\n    <tr>\n      <th>1</th>\n      <td>15-19</td>\n      <td>0</td>\n      <td>29</td>\n      <td>29</td>\n    </tr>\n    <tr>\n      <th>2</th>\n      <td>20-24</td>\n      <td>0</td>\n      <td>8</td>\n      <td>8</td>\n    </tr>\n  </tbody>\n</table>\n</div>"
     },
     "metadata": {},
     "execution_count": 62
    },
    {
     "output_type": "execute_result",
     "data": {
      "text/plain": [
       "'Number of individual AGYW that have fully completed the entire DREAMS primary package of services AND at least one additional secondary service.'"
      ]
     },
     "metadata": {},
     "execution_count": 62
    },
    {
     "output_type": "execute_result",
     "data": {
      "text/plain": [
       "     Age  07-12 months  Total\n",
       "0  10-14            22     22\n",
       "1  15-19             5      5\n",
       "2  20-24             1      1"
      ],
      "text/html": "<div>\n<style scoped>\n    .dataframe tbody tr th:only-of-type {\n        vertical-align: middle;\n    }\n\n    .dataframe tbody tr th {\n        vertical-align: top;\n    }\n\n    .dataframe thead th {\n        text-align: right;\n    }\n</style>\n<table border=\"1\" class=\"dataframe\">\n  <thead>\n    <tr style=\"text-align: right;\">\n      <th></th>\n      <th>Age</th>\n      <th>07-12 months</th>\n      <th>Total</th>\n    </tr>\n  </thead>\n  <tbody>\n    <tr>\n      <th>0</th>\n      <td>10-14</td>\n      <td>22</td>\n      <td>22</td>\n    </tr>\n    <tr>\n      <th>1</th>\n      <td>15-19</td>\n      <td>5</td>\n      <td>5</td>\n    </tr>\n    <tr>\n      <th>2</th>\n      <td>20-24</td>\n      <td>1</td>\n      <td>1</td>\n    </tr>\n  </tbody>\n</table>\n</div>"
     },
     "metadata": {},
     "execution_count": 62
    },
    {
     "output_type": "execute_result",
     "data": {
      "text/plain": [
       "'Number of individual AGYW that have fully completed at least one DREAMS primary package of services but not the full primary package of services.'"
      ]
     },
     "metadata": {},
     "execution_count": 62
    },
    {
     "output_type": "execute_result",
     "data": {
      "text/plain": [
       "     Age  0-6 months  07-12 months  13-24 months  Total\n",
       "0  15-19          82            99             1    182\n",
       "1  20-24          60            88             0    148"
      ],
      "text/html": "<div>\n<style scoped>\n    .dataframe tbody tr th:only-of-type {\n        vertical-align: middle;\n    }\n\n    .dataframe tbody tr th {\n        vertical-align: top;\n    }\n\n    .dataframe thead th {\n        text-align: right;\n    }\n</style>\n<table border=\"1\" class=\"dataframe\">\n  <thead>\n    <tr style=\"text-align: right;\">\n      <th></th>\n      <th>Age</th>\n      <th>0-6 months</th>\n      <th>07-12 months</th>\n      <th>13-24 months</th>\n      <th>Total</th>\n    </tr>\n  </thead>\n  <tbody>\n    <tr>\n      <th>0</th>\n      <td>15-19</td>\n      <td>82</td>\n      <td>99</td>\n      <td>1</td>\n      <td>182</td>\n    </tr>\n    <tr>\n      <th>1</th>\n      <td>20-24</td>\n      <td>60</td>\n      <td>88</td>\n      <td>0</td>\n      <td>148</td>\n    </tr>\n  </tbody>\n</table>\n</div>"
     },
     "metadata": {},
     "execution_count": 62
    },
    {
     "output_type": "stream",
     "name": "stdout",
     "text": [
      " \n \n \n \n"
     ]
    },
    {
     "output_type": "execute_result",
     "data": {
      "text/plain": [
       "23677"
      ]
     },
     "metadata": {},
     "execution_count": 62
    },
    {
     "output_type": "execute_result",
     "data": {
      "text/plain": [
       "1026"
      ]
     },
     "metadata": {},
     "execution_count": 62
    },
    {
     "output_type": "execute_result",
     "data": {
      "text/plain": [
       "'DATIM Saint-Marc'"
      ]
     },
     "metadata": {},
     "execution_count": 62
    },
    {
     "output_type": "execute_result",
     "data": {
      "text/plain": [
       "306"
      ]
     },
     "metadata": {},
     "execution_count": 62
    },
    {
     "output_type": "execute_result",
     "data": {
      "text/plain": [
       "77"
      ]
     },
     "metadata": {},
     "execution_count": 62
    },
    {
     "output_type": "execute_result",
     "data": {
      "text/plain": [
       "483"
      ]
     },
     "metadata": {},
     "execution_count": 62
    },
    {
     "output_type": "execute_result",
     "data": {
      "text/plain": [
       "866"
      ]
     },
     "metadata": {},
     "execution_count": 62
    },
    {
     "output_type": "execute_result",
     "data": {
      "text/plain": [
       "'Number of individual AGYW that have fully completed the entire DREAMS primary package of services but have not received any services beyond the primary package.'"
      ]
     },
     "metadata": {},
     "execution_count": 62
    },
    {
     "output_type": "execute_result",
     "data": {
      "text/plain": [
       "     Age  0-6 months  07-12 months  Total\n",
       "0  10-14          90           158    248\n",
       "1  15-19          14            38     52\n",
       "2  20-24           0             6      6"
      ],
      "text/html": "<div>\n<style scoped>\n    .dataframe tbody tr th:only-of-type {\n        vertical-align: middle;\n    }\n\n    .dataframe tbody tr th {\n        vertical-align: top;\n    }\n\n    .dataframe thead th {\n        text-align: right;\n    }\n</style>\n<table border=\"1\" class=\"dataframe\">\n  <thead>\n    <tr style=\"text-align: right;\">\n      <th></th>\n      <th>Age</th>\n      <th>0-6 months</th>\n      <th>07-12 months</th>\n      <th>Total</th>\n    </tr>\n  </thead>\n  <tbody>\n    <tr>\n      <th>0</th>\n      <td>10-14</td>\n      <td>90</td>\n      <td>158</td>\n      <td>248</td>\n    </tr>\n    <tr>\n      <th>1</th>\n      <td>15-19</td>\n      <td>14</td>\n      <td>38</td>\n      <td>52</td>\n    </tr>\n    <tr>\n      <th>2</th>\n      <td>20-24</td>\n      <td>0</td>\n      <td>6</td>\n      <td>6</td>\n    </tr>\n  </tbody>\n</table>\n</div>"
     },
     "metadata": {},
     "execution_count": 62
    },
    {
     "output_type": "execute_result",
     "data": {
      "text/plain": [
       "'Number of individual AGYW that have fully completed the entire DREAMS primary package of services AND at least one additional secondary service.'"
      ]
     },
     "metadata": {},
     "execution_count": 62
    },
    {
     "output_type": "execute_result",
     "data": {
      "text/plain": [
       "     Age  0-6 months  07-12 months  Total\n",
       "0  10-14           9            45     54\n",
       "1  15-19           0            23     23"
      ],
      "text/html": "<div>\n<style scoped>\n    .dataframe tbody tr th:only-of-type {\n        vertical-align: middle;\n    }\n\n    .dataframe tbody tr th {\n        vertical-align: top;\n    }\n\n    .dataframe thead th {\n        text-align: right;\n    }\n</style>\n<table border=\"1\" class=\"dataframe\">\n  <thead>\n    <tr style=\"text-align: right;\">\n      <th></th>\n      <th>Age</th>\n      <th>0-6 months</th>\n      <th>07-12 months</th>\n      <th>Total</th>\n    </tr>\n  </thead>\n  <tbody>\n    <tr>\n      <th>0</th>\n      <td>10-14</td>\n      <td>9</td>\n      <td>45</td>\n      <td>54</td>\n    </tr>\n    <tr>\n      <th>1</th>\n      <td>15-19</td>\n      <td>0</td>\n      <td>23</td>\n      <td>23</td>\n    </tr>\n  </tbody>\n</table>\n</div>"
     },
     "metadata": {},
     "execution_count": 62
    },
    {
     "output_type": "execute_result",
     "data": {
      "text/plain": [
       "'Number of individual AGYW that have fully completed at least one DREAMS primary package of services but not the full primary package of services.'"
      ]
     },
     "metadata": {},
     "execution_count": 62
    },
    {
     "output_type": "execute_result",
     "data": {
      "text/plain": [
       "     Age  0-6 months  07-12 months  Total\n",
       "0  15-19          57           222    279\n",
       "1  20-24          19           185    204"
      ],
      "text/html": "<div>\n<style scoped>\n    .dataframe tbody tr th:only-of-type {\n        vertical-align: middle;\n    }\n\n    .dataframe tbody tr th {\n        vertical-align: top;\n    }\n\n    .dataframe thead th {\n        text-align: right;\n    }\n</style>\n<table border=\"1\" class=\"dataframe\">\n  <thead>\n    <tr style=\"text-align: right;\">\n      <th></th>\n      <th>Age</th>\n      <th>0-6 months</th>\n      <th>07-12 months</th>\n      <th>Total</th>\n    </tr>\n  </thead>\n  <tbody>\n    <tr>\n      <th>0</th>\n      <td>15-19</td>\n      <td>57</td>\n      <td>222</td>\n      <td>279</td>\n    </tr>\n    <tr>\n      <th>1</th>\n      <td>20-24</td>\n      <td>19</td>\n      <td>185</td>\n      <td>204</td>\n    </tr>\n  </tbody>\n</table>\n</div>"
     },
     "metadata": {},
     "execution_count": 62
    },
    {
     "output_type": "stream",
     "name": "stdout",
     "text": [
      " \n \n \n \n"
     ]
    },
    {
     "output_type": "execute_result",
     "data": {
      "text/plain": [
       "23677"
      ]
     },
     "metadata": {},
     "execution_count": 62
    },
    {
     "output_type": "execute_result",
     "data": {
      "text/plain": [
       "380"
      ]
     },
     "metadata": {},
     "execution_count": 62
    },
    {
     "output_type": "execute_result",
     "data": {
      "text/plain": [
       "'DATIM Tabarre'"
      ]
     },
     "metadata": {},
     "execution_count": 62
    },
    {
     "output_type": "execute_result",
     "data": {
      "text/plain": [
       "136"
      ]
     },
     "metadata": {},
     "execution_count": 62
    },
    {
     "output_type": "execute_result",
     "data": {
      "text/plain": [
       "37"
      ]
     },
     "metadata": {},
     "execution_count": 62
    },
    {
     "output_type": "execute_result",
     "data": {
      "text/plain": [
       "147"
      ]
     },
     "metadata": {},
     "execution_count": 62
    },
    {
     "output_type": "execute_result",
     "data": {
      "text/plain": [
       "320"
      ]
     },
     "metadata": {},
     "execution_count": 62
    },
    {
     "output_type": "execute_result",
     "data": {
      "text/plain": [
       "'Number of individual AGYW that have fully completed the entire DREAMS primary package of services but have not received any services beyond the primary package.'"
      ]
     },
     "metadata": {},
     "execution_count": 62
    },
    {
     "output_type": "execute_result",
     "data": {
      "text/plain": [
       "     Age  0-6 months  07-12 months  Total\n",
       "0  10-14           2           115    117\n",
       "1  15-19           0            14     14\n",
       "2  20-24           0             5      5"
      ],
      "text/html": "<div>\n<style scoped>\n    .dataframe tbody tr th:only-of-type {\n        vertical-align: middle;\n    }\n\n    .dataframe tbody tr th {\n        vertical-align: top;\n    }\n\n    .dataframe thead th {\n        text-align: right;\n    }\n</style>\n<table border=\"1\" class=\"dataframe\">\n  <thead>\n    <tr style=\"text-align: right;\">\n      <th></th>\n      <th>Age</th>\n      <th>0-6 months</th>\n      <th>07-12 months</th>\n      <th>Total</th>\n    </tr>\n  </thead>\n  <tbody>\n    <tr>\n      <th>0</th>\n      <td>10-14</td>\n      <td>2</td>\n      <td>115</td>\n      <td>117</td>\n    </tr>\n    <tr>\n      <th>1</th>\n      <td>15-19</td>\n      <td>0</td>\n      <td>14</td>\n      <td>14</td>\n    </tr>\n    <tr>\n      <th>2</th>\n      <td>20-24</td>\n      <td>0</td>\n      <td>5</td>\n      <td>5</td>\n    </tr>\n  </tbody>\n</table>\n</div>"
     },
     "metadata": {},
     "execution_count": 62
    },
    {
     "output_type": "execute_result",
     "data": {
      "text/plain": [
       "'Number of individual AGYW that have fully completed the entire DREAMS primary package of services AND at least one additional secondary service.'"
      ]
     },
     "metadata": {},
     "execution_count": 62
    },
    {
     "output_type": "execute_result",
     "data": {
      "text/plain": [
       "     Age  07-12 months  Total\n",
       "0  10-14            26     26\n",
       "1  15-19            11     11"
      ],
      "text/html": "<div>\n<style scoped>\n    .dataframe tbody tr th:only-of-type {\n        vertical-align: middle;\n    }\n\n    .dataframe tbody tr th {\n        vertical-align: top;\n    }\n\n    .dataframe thead th {\n        text-align: right;\n    }\n</style>\n<table border=\"1\" class=\"dataframe\">\n  <thead>\n    <tr style=\"text-align: right;\">\n      <th></th>\n      <th>Age</th>\n      <th>07-12 months</th>\n      <th>Total</th>\n    </tr>\n  </thead>\n  <tbody>\n    <tr>\n      <th>0</th>\n      <td>10-14</td>\n      <td>26</td>\n      <td>26</td>\n    </tr>\n    <tr>\n      <th>1</th>\n      <td>15-19</td>\n      <td>11</td>\n      <td>11</td>\n    </tr>\n  </tbody>\n</table>\n</div>"
     },
     "metadata": {},
     "execution_count": 62
    },
    {
     "output_type": "execute_result",
     "data": {
      "text/plain": [
       "'Number of individual AGYW that have fully completed at least one DREAMS primary package of services but not the full primary package of services.'"
      ]
     },
     "metadata": {},
     "execution_count": 62
    },
    {
     "output_type": "execute_result",
     "data": {
      "text/plain": [
       "     Age  0-6 months  07-12 months  13-24 months  Total\n",
       "0  15-19           9            89             0     98\n",
       "1  20-24           3            45             1     49"
      ],
      "text/html": "<div>\n<style scoped>\n    .dataframe tbody tr th:only-of-type {\n        vertical-align: middle;\n    }\n\n    .dataframe tbody tr th {\n        vertical-align: top;\n    }\n\n    .dataframe thead th {\n        text-align: right;\n    }\n</style>\n<table border=\"1\" class=\"dataframe\">\n  <thead>\n    <tr style=\"text-align: right;\">\n      <th></th>\n      <th>Age</th>\n      <th>0-6 months</th>\n      <th>07-12 months</th>\n      <th>13-24 months</th>\n      <th>Total</th>\n    </tr>\n  </thead>\n  <tbody>\n    <tr>\n      <th>0</th>\n      <td>15-19</td>\n      <td>9</td>\n      <td>89</td>\n      <td>0</td>\n      <td>98</td>\n    </tr>\n    <tr>\n      <th>1</th>\n      <td>20-24</td>\n      <td>3</td>\n      <td>45</td>\n      <td>1</td>\n      <td>49</td>\n    </tr>\n  </tbody>\n</table>\n</div>"
     },
     "metadata": {},
     "execution_count": 62
    },
    {
     "output_type": "stream",
     "name": "stdout",
     "text": [
      " \n \n \n \n"
     ]
    },
    {
     "output_type": "execute_result",
     "data": {
      "text/plain": [
       "23677"
      ]
     },
     "metadata": {},
     "execution_count": 62
    },
    {
     "output_type": "execute_result",
     "data": {
      "text/plain": [
       "502"
      ]
     },
     "metadata": {},
     "execution_count": 62
    },
    {
     "output_type": "execute_result",
     "data": {
      "text/plain": [
       "'DATIM La Chapelle'"
      ]
     },
     "metadata": {},
     "execution_count": 62
    },
    {
     "output_type": "execute_result",
     "data": {
      "text/plain": [
       "124"
      ]
     },
     "metadata": {},
     "execution_count": 62
    },
    {
     "output_type": "execute_result",
     "data": {
      "text/plain": [
       "0"
      ]
     },
     "metadata": {},
     "execution_count": 62
    },
    {
     "output_type": "execute_result",
     "data": {
      "text/plain": [
       "305"
      ]
     },
     "metadata": {},
     "execution_count": 62
    },
    {
     "output_type": "execute_result",
     "data": {
      "text/plain": [
       "429"
      ]
     },
     "metadata": {},
     "execution_count": 62
    },
    {
     "output_type": "execute_result",
     "data": {
      "text/plain": [
       "'Number of individual AGYW that have fully completed the entire DREAMS primary package of services but have not received any services beyond the primary package.'"
      ]
     },
     "metadata": {},
     "execution_count": 62
    },
    {
     "output_type": "execute_result",
     "data": {
      "text/plain": [
       "     Age  0-6 months  07-12 months  Total\n",
       "0  10-14          25            98    123\n",
       "1  15-19           0             1      1"
      ],
      "text/html": "<div>\n<style scoped>\n    .dataframe tbody tr th:only-of-type {\n        vertical-align: middle;\n    }\n\n    .dataframe tbody tr th {\n        vertical-align: top;\n    }\n\n    .dataframe thead th {\n        text-align: right;\n    }\n</style>\n<table border=\"1\" class=\"dataframe\">\n  <thead>\n    <tr style=\"text-align: right;\">\n      <th></th>\n      <th>Age</th>\n      <th>0-6 months</th>\n      <th>07-12 months</th>\n      <th>Total</th>\n    </tr>\n  </thead>\n  <tbody>\n    <tr>\n      <th>0</th>\n      <td>10-14</td>\n      <td>25</td>\n      <td>98</td>\n      <td>123</td>\n    </tr>\n    <tr>\n      <th>1</th>\n      <td>15-19</td>\n      <td>0</td>\n      <td>1</td>\n      <td>1</td>\n    </tr>\n  </tbody>\n</table>\n</div>"
     },
     "metadata": {},
     "execution_count": 62
    },
    {
     "output_type": "execute_result",
     "data": {
      "text/plain": [
       "'Number of individual AGYW that have fully completed the entire DREAMS primary package of services AND at least one additional secondary service.'"
      ]
     },
     "metadata": {},
     "execution_count": 62
    },
    {
     "output_type": "execute_result",
     "data": {
      "text/plain": [
       "     Age  0-6 months  07-12 months  13-24 months\n",
       "0  10-14           0             0             0\n",
       "1  15-19           0             0             0\n",
       "2  20-24           0             0             0"
      ],
      "text/html": "<div>\n<style scoped>\n    .dataframe tbody tr th:only-of-type {\n        vertical-align: middle;\n    }\n\n    .dataframe tbody tr th {\n        vertical-align: top;\n    }\n\n    .dataframe thead th {\n        text-align: right;\n    }\n</style>\n<table border=\"1\" class=\"dataframe\">\n  <thead>\n    <tr style=\"text-align: right;\">\n      <th></th>\n      <th>Age</th>\n      <th>0-6 months</th>\n      <th>07-12 months</th>\n      <th>13-24 months</th>\n    </tr>\n  </thead>\n  <tbody>\n    <tr>\n      <th>0</th>\n      <td>10-14</td>\n      <td>0</td>\n      <td>0</td>\n      <td>0</td>\n    </tr>\n    <tr>\n      <th>1</th>\n      <td>15-19</td>\n      <td>0</td>\n      <td>0</td>\n      <td>0</td>\n    </tr>\n    <tr>\n      <th>2</th>\n      <td>20-24</td>\n      <td>0</td>\n      <td>0</td>\n      <td>0</td>\n    </tr>\n  </tbody>\n</table>\n</div>"
     },
     "metadata": {},
     "execution_count": 62
    },
    {
     "output_type": "execute_result",
     "data": {
      "text/plain": [
       "'Number of individual AGYW that have fully completed at least one DREAMS primary package of services but not the full primary package of services.'"
      ]
     },
     "metadata": {},
     "execution_count": 62
    },
    {
     "output_type": "execute_result",
     "data": {
      "text/plain": [
       "     Age  0-6 months  07-12 months  Total\n",
       "0  15-19          48           119    167\n",
       "1  20-24          35           103    138"
      ],
      "text/html": "<div>\n<style scoped>\n    .dataframe tbody tr th:only-of-type {\n        vertical-align: middle;\n    }\n\n    .dataframe tbody tr th {\n        vertical-align: top;\n    }\n\n    .dataframe thead th {\n        text-align: right;\n    }\n</style>\n<table border=\"1\" class=\"dataframe\">\n  <thead>\n    <tr style=\"text-align: right;\">\n      <th></th>\n      <th>Age</th>\n      <th>0-6 months</th>\n      <th>07-12 months</th>\n      <th>Total</th>\n    </tr>\n  </thead>\n  <tbody>\n    <tr>\n      <th>0</th>\n      <td>15-19</td>\n      <td>48</td>\n      <td>119</td>\n      <td>167</td>\n    </tr>\n    <tr>\n      <th>1</th>\n      <td>20-24</td>\n      <td>35</td>\n      <td>103</td>\n      <td>138</td>\n    </tr>\n  </tbody>\n</table>\n</div>"
     },
     "metadata": {},
     "execution_count": 62
    },
    {
     "output_type": "stream",
     "name": "stdout",
     "text": [
      " \n \n \n \n"
     ]
    },
    {
     "output_type": "execute_result",
     "data": {
      "text/plain": [
       "23677"
      ]
     },
     "metadata": {},
     "execution_count": 62
    },
    {
     "output_type": "execute_result",
     "data": {
      "text/plain": [
       "334"
      ]
     },
     "metadata": {},
     "execution_count": 62
    },
    {
     "output_type": "execute_result",
     "data": {
      "text/plain": [
       "'DATIM Milot'"
      ]
     },
     "metadata": {},
     "execution_count": 62
    },
    {
     "output_type": "execute_result",
     "data": {
      "text/plain": [
       "101"
      ]
     },
     "metadata": {},
     "execution_count": 62
    },
    {
     "output_type": "execute_result",
     "data": {
      "text/plain": [
       "23"
      ]
     },
     "metadata": {},
     "execution_count": 62
    },
    {
     "output_type": "execute_result",
     "data": {
      "text/plain": [
       "111"
      ]
     },
     "metadata": {},
     "execution_count": 62
    },
    {
     "output_type": "execute_result",
     "data": {
      "text/plain": [
       "235"
      ]
     },
     "metadata": {},
     "execution_count": 62
    },
    {
     "output_type": "execute_result",
     "data": {
      "text/plain": [
       "'Number of individual AGYW that have fully completed the entire DREAMS primary package of services but have not received any services beyond the primary package.'"
      ]
     },
     "metadata": {},
     "execution_count": 62
    },
    {
     "output_type": "execute_result",
     "data": {
      "text/plain": [
       "     Age  0-6 months  07-12 months  13-24 months  Total\n",
       "0  10-14          19            68             4     91\n",
       "1  15-19           3             2             5     10"
      ],
      "text/html": "<div>\n<style scoped>\n    .dataframe tbody tr th:only-of-type {\n        vertical-align: middle;\n    }\n\n    .dataframe tbody tr th {\n        vertical-align: top;\n    }\n\n    .dataframe thead th {\n        text-align: right;\n    }\n</style>\n<table border=\"1\" class=\"dataframe\">\n  <thead>\n    <tr style=\"text-align: right;\">\n      <th></th>\n      <th>Age</th>\n      <th>0-6 months</th>\n      <th>07-12 months</th>\n      <th>13-24 months</th>\n      <th>Total</th>\n    </tr>\n  </thead>\n  <tbody>\n    <tr>\n      <th>0</th>\n      <td>10-14</td>\n      <td>19</td>\n      <td>68</td>\n      <td>4</td>\n      <td>91</td>\n    </tr>\n    <tr>\n      <th>1</th>\n      <td>15-19</td>\n      <td>3</td>\n      <td>2</td>\n      <td>5</td>\n      <td>10</td>\n    </tr>\n  </tbody>\n</table>\n</div>"
     },
     "metadata": {},
     "execution_count": 62
    },
    {
     "output_type": "execute_result",
     "data": {
      "text/plain": [
       "'Number of individual AGYW that have fully completed the entire DREAMS primary package of services AND at least one additional secondary service.'"
      ]
     },
     "metadata": {},
     "execution_count": 62
    },
    {
     "output_type": "execute_result",
     "data": {
      "text/plain": [
       "     Age  0-6 months  07-12 months  13-24 months  Total\n",
       "0  10-14           3            15             2     20\n",
       "1  15-19           0             2             1      3"
      ],
      "text/html": "<div>\n<style scoped>\n    .dataframe tbody tr th:only-of-type {\n        vertical-align: middle;\n    }\n\n    .dataframe tbody tr th {\n        vertical-align: top;\n    }\n\n    .dataframe thead th {\n        text-align: right;\n    }\n</style>\n<table border=\"1\" class=\"dataframe\">\n  <thead>\n    <tr style=\"text-align: right;\">\n      <th></th>\n      <th>Age</th>\n      <th>0-6 months</th>\n      <th>07-12 months</th>\n      <th>13-24 months</th>\n      <th>Total</th>\n    </tr>\n  </thead>\n  <tbody>\n    <tr>\n      <th>0</th>\n      <td>10-14</td>\n      <td>3</td>\n      <td>15</td>\n      <td>2</td>\n      <td>20</td>\n    </tr>\n    <tr>\n      <th>1</th>\n      <td>15-19</td>\n      <td>0</td>\n      <td>2</td>\n      <td>1</td>\n      <td>3</td>\n    </tr>\n  </tbody>\n</table>\n</div>"
     },
     "metadata": {},
     "execution_count": 62
    },
    {
     "output_type": "execute_result",
     "data": {
      "text/plain": [
       "'Number of individual AGYW that have fully completed at least one DREAMS primary package of services but not the full primary package of services.'"
      ]
     },
     "metadata": {},
     "execution_count": 62
    },
    {
     "output_type": "execute_result",
     "data": {
      "text/plain": [
       "     Age  0-6 months  07-12 months  13-24 months  Total\n",
       "0  15-19           5            63             2     70\n",
       "1  20-24           0            34             7     41"
      ],
      "text/html": "<div>\n<style scoped>\n    .dataframe tbody tr th:only-of-type {\n        vertical-align: middle;\n    }\n\n    .dataframe tbody tr th {\n        vertical-align: top;\n    }\n\n    .dataframe thead th {\n        text-align: right;\n    }\n</style>\n<table border=\"1\" class=\"dataframe\">\n  <thead>\n    <tr style=\"text-align: right;\">\n      <th></th>\n      <th>Age</th>\n      <th>0-6 months</th>\n      <th>07-12 months</th>\n      <th>13-24 months</th>\n      <th>Total</th>\n    </tr>\n  </thead>\n  <tbody>\n    <tr>\n      <th>0</th>\n      <td>15-19</td>\n      <td>5</td>\n      <td>63</td>\n      <td>2</td>\n      <td>70</td>\n    </tr>\n    <tr>\n      <th>1</th>\n      <td>20-24</td>\n      <td>0</td>\n      <td>34</td>\n      <td>7</td>\n      <td>41</td>\n    </tr>\n  </tbody>\n</table>\n</div>"
     },
     "metadata": {},
     "execution_count": 62
    },
    {
     "output_type": "stream",
     "name": "stdout",
     "text": [
      " \n \n \n \n"
     ]
    },
    {
     "output_type": "execute_result",
     "data": {
      "text/plain": [
       "23677"
      ]
     },
     "metadata": {},
     "execution_count": 62
    },
    {
     "output_type": "execute_result",
     "data": {
      "text/plain": [
       "187"
      ]
     },
     "metadata": {},
     "execution_count": 62
    },
    {
     "output_type": "execute_result",
     "data": {
      "text/plain": [
       "'DATIM Liancourt'"
      ]
     },
     "metadata": {},
     "execution_count": 62
    },
    {
     "output_type": "execute_result",
     "data": {
      "text/plain": [
       "42"
      ]
     },
     "metadata": {},
     "execution_count": 62
    },
    {
     "output_type": "execute_result",
     "data": {
      "text/plain": [
       "104"
      ]
     },
     "metadata": {},
     "execution_count": 62
    },
    {
     "output_type": "execute_result",
     "data": {
      "text/plain": [
       "41"
      ]
     },
     "metadata": {},
     "execution_count": 62
    },
    {
     "output_type": "execute_result",
     "data": {
      "text/plain": [
       "187"
      ]
     },
     "metadata": {},
     "execution_count": 62
    },
    {
     "output_type": "execute_result",
     "data": {
      "text/plain": [
       "'Number of individual AGYW that have fully completed the entire DREAMS primary package of services but have not received any services beyond the primary package.'"
      ]
     },
     "metadata": {},
     "execution_count": 62
    },
    {
     "output_type": "execute_result",
     "data": {
      "text/plain": [
       "     Age  0-6 months  07-12 months  Total\n",
       "0  10-14           4             9     13\n",
       "1  15-19          17             4     21\n",
       "2  20-24           0             8      8"
      ],
      "text/html": "<div>\n<style scoped>\n    .dataframe tbody tr th:only-of-type {\n        vertical-align: middle;\n    }\n\n    .dataframe tbody tr th {\n        vertical-align: top;\n    }\n\n    .dataframe thead th {\n        text-align: right;\n    }\n</style>\n<table border=\"1\" class=\"dataframe\">\n  <thead>\n    <tr style=\"text-align: right;\">\n      <th></th>\n      <th>Age</th>\n      <th>0-6 months</th>\n      <th>07-12 months</th>\n      <th>Total</th>\n    </tr>\n  </thead>\n  <tbody>\n    <tr>\n      <th>0</th>\n      <td>10-14</td>\n      <td>4</td>\n      <td>9</td>\n      <td>13</td>\n    </tr>\n    <tr>\n      <th>1</th>\n      <td>15-19</td>\n      <td>17</td>\n      <td>4</td>\n      <td>21</td>\n    </tr>\n    <tr>\n      <th>2</th>\n      <td>20-24</td>\n      <td>0</td>\n      <td>8</td>\n      <td>8</td>\n    </tr>\n  </tbody>\n</table>\n</div>"
     },
     "metadata": {},
     "execution_count": 62
    },
    {
     "output_type": "execute_result",
     "data": {
      "text/plain": [
       "'Number of individual AGYW that have fully completed the entire DREAMS primary package of services AND at least one additional secondary service.'"
      ]
     },
     "metadata": {},
     "execution_count": 62
    },
    {
     "output_type": "execute_result",
     "data": {
      "text/plain": [
       "     Age  0-6 months  07-12 months  Total\n",
       "0  10-14           4            55     59\n",
       "1  15-19           0            38     38\n",
       "2  20-24           0             7      7"
      ],
      "text/html": "<div>\n<style scoped>\n    .dataframe tbody tr th:only-of-type {\n        vertical-align: middle;\n    }\n\n    .dataframe tbody tr th {\n        vertical-align: top;\n    }\n\n    .dataframe thead th {\n        text-align: right;\n    }\n</style>\n<table border=\"1\" class=\"dataframe\">\n  <thead>\n    <tr style=\"text-align: right;\">\n      <th></th>\n      <th>Age</th>\n      <th>0-6 months</th>\n      <th>07-12 months</th>\n      <th>Total</th>\n    </tr>\n  </thead>\n  <tbody>\n    <tr>\n      <th>0</th>\n      <td>10-14</td>\n      <td>4</td>\n      <td>55</td>\n      <td>59</td>\n    </tr>\n    <tr>\n      <th>1</th>\n      <td>15-19</td>\n      <td>0</td>\n      <td>38</td>\n      <td>38</td>\n    </tr>\n    <tr>\n      <th>2</th>\n      <td>20-24</td>\n      <td>0</td>\n      <td>7</td>\n      <td>7</td>\n    </tr>\n  </tbody>\n</table>\n</div>"
     },
     "metadata": {},
     "execution_count": 62
    },
    {
     "output_type": "execute_result",
     "data": {
      "text/plain": [
       "'Number of individual AGYW that have fully completed at least one DREAMS primary package of services but not the full primary package of services.'"
      ]
     },
     "metadata": {},
     "execution_count": 62
    },
    {
     "output_type": "execute_result",
     "data": {
      "text/plain": [
       "     Age  0-6 months  07-12 months  Total\n",
       "0  15-19           2            25     27\n",
       "1  20-24           7             7     14"
      ],
      "text/html": "<div>\n<style scoped>\n    .dataframe tbody tr th:only-of-type {\n        vertical-align: middle;\n    }\n\n    .dataframe tbody tr th {\n        vertical-align: top;\n    }\n\n    .dataframe thead th {\n        text-align: right;\n    }\n</style>\n<table border=\"1\" class=\"dataframe\">\n  <thead>\n    <tr style=\"text-align: right;\">\n      <th></th>\n      <th>Age</th>\n      <th>0-6 months</th>\n      <th>07-12 months</th>\n      <th>Total</th>\n    </tr>\n  </thead>\n  <tbody>\n    <tr>\n      <th>0</th>\n      <td>15-19</td>\n      <td>2</td>\n      <td>25</td>\n      <td>27</td>\n    </tr>\n    <tr>\n      <th>1</th>\n      <td>20-24</td>\n      <td>7</td>\n      <td>7</td>\n      <td>14</td>\n    </tr>\n  </tbody>\n</table>\n</div>"
     },
     "metadata": {},
     "execution_count": 62
    },
    {
     "output_type": "stream",
     "name": "stdout",
     "text": [
      " \n \n \n \n"
     ]
    },
    {
     "output_type": "execute_result",
     "data": {
      "text/plain": [
       "23677"
      ]
     },
     "metadata": {},
     "execution_count": 62
    },
    {
     "output_type": "execute_result",
     "data": {
      "text/plain": [
       "122"
      ]
     },
     "metadata": {},
     "execution_count": 62
    },
    {
     "output_type": "execute_result",
     "data": {
      "text/plain": [
       "'DATIM Quartier-Morin'"
      ]
     },
     "metadata": {},
     "execution_count": 62
    },
    {
     "output_type": "execute_result",
     "data": {
      "text/plain": [
       "15"
      ]
     },
     "metadata": {},
     "execution_count": 62
    },
    {
     "output_type": "execute_result",
     "data": {
      "text/plain": [
       "0"
      ]
     },
     "metadata": {},
     "execution_count": 62
    },
    {
     "output_type": "execute_result",
     "data": {
      "text/plain": [
       "25"
      ]
     },
     "metadata": {},
     "execution_count": 62
    },
    {
     "output_type": "execute_result",
     "data": {
      "text/plain": [
       "40"
      ]
     },
     "metadata": {},
     "execution_count": 62
    },
    {
     "output_type": "execute_result",
     "data": {
      "text/plain": [
       "'Number of individual AGYW that have fully completed the entire DREAMS primary package of services but have not received any services beyond the primary package.'"
      ]
     },
     "metadata": {},
     "execution_count": 62
    },
    {
     "output_type": "execute_result",
     "data": {
      "text/plain": [
       "     Age  07-12 months  Total\n",
       "0  10-14            15     15"
      ],
      "text/html": "<div>\n<style scoped>\n    .dataframe tbody tr th:only-of-type {\n        vertical-align: middle;\n    }\n\n    .dataframe tbody tr th {\n        vertical-align: top;\n    }\n\n    .dataframe thead th {\n        text-align: right;\n    }\n</style>\n<table border=\"1\" class=\"dataframe\">\n  <thead>\n    <tr style=\"text-align: right;\">\n      <th></th>\n      <th>Age</th>\n      <th>07-12 months</th>\n      <th>Total</th>\n    </tr>\n  </thead>\n  <tbody>\n    <tr>\n      <th>0</th>\n      <td>10-14</td>\n      <td>15</td>\n      <td>15</td>\n    </tr>\n  </tbody>\n</table>\n</div>"
     },
     "metadata": {},
     "execution_count": 62
    },
    {
     "output_type": "execute_result",
     "data": {
      "text/plain": [
       "'Number of individual AGYW that have fully completed the entire DREAMS primary package of services AND at least one additional secondary service.'"
      ]
     },
     "metadata": {},
     "execution_count": 62
    },
    {
     "output_type": "execute_result",
     "data": {
      "text/plain": [
       "     Age  0-6 months  07-12 months  13-24 months\n",
       "0  10-14           0             0             0\n",
       "1  15-19           0             0             0\n",
       "2  20-24           0             0             0"
      ],
      "text/html": "<div>\n<style scoped>\n    .dataframe tbody tr th:only-of-type {\n        vertical-align: middle;\n    }\n\n    .dataframe tbody tr th {\n        vertical-align: top;\n    }\n\n    .dataframe thead th {\n        text-align: right;\n    }\n</style>\n<table border=\"1\" class=\"dataframe\">\n  <thead>\n    <tr style=\"text-align: right;\">\n      <th></th>\n      <th>Age</th>\n      <th>0-6 months</th>\n      <th>07-12 months</th>\n      <th>13-24 months</th>\n    </tr>\n  </thead>\n  <tbody>\n    <tr>\n      <th>0</th>\n      <td>10-14</td>\n      <td>0</td>\n      <td>0</td>\n      <td>0</td>\n    </tr>\n    <tr>\n      <th>1</th>\n      <td>15-19</td>\n      <td>0</td>\n      <td>0</td>\n      <td>0</td>\n    </tr>\n    <tr>\n      <th>2</th>\n      <td>20-24</td>\n      <td>0</td>\n      <td>0</td>\n      <td>0</td>\n    </tr>\n  </tbody>\n</table>\n</div>"
     },
     "metadata": {},
     "execution_count": 62
    },
    {
     "output_type": "execute_result",
     "data": {
      "text/plain": [
       "'Number of individual AGYW that have fully completed at least one DREAMS primary package of services but not the full primary package of services.'"
      ]
     },
     "metadata": {},
     "execution_count": 62
    },
    {
     "output_type": "execute_result",
     "data": {
      "text/plain": [
       "     Age  07-12 months  Total\n",
       "0  15-19            23     23\n",
       "1  20-24             2      2"
      ],
      "text/html": "<div>\n<style scoped>\n    .dataframe tbody tr th:only-of-type {\n        vertical-align: middle;\n    }\n\n    .dataframe tbody tr th {\n        vertical-align: top;\n    }\n\n    .dataframe thead th {\n        text-align: right;\n    }\n</style>\n<table border=\"1\" class=\"dataframe\">\n  <thead>\n    <tr style=\"text-align: right;\">\n      <th></th>\n      <th>Age</th>\n      <th>07-12 months</th>\n      <th>Total</th>\n    </tr>\n  </thead>\n  <tbody>\n    <tr>\n      <th>0</th>\n      <td>15-19</td>\n      <td>23</td>\n      <td>23</td>\n    </tr>\n    <tr>\n      <th>1</th>\n      <td>20-24</td>\n      <td>2</td>\n      <td>2</td>\n    </tr>\n  </tbody>\n</table>\n</div>"
     },
     "metadata": {},
     "execution_count": 62
    },
    {
     "output_type": "stream",
     "name": "stdout",
     "text": [
      " \n \n \n \n"
     ]
    },
    {
     "output_type": "execute_result",
     "data": {
      "text/plain": [
       "23677"
      ]
     },
     "metadata": {},
     "execution_count": 62
    },
    {
     "output_type": "execute_result",
     "data": {
      "text/plain": [
       "698"
      ]
     },
     "metadata": {},
     "execution_count": 62
    },
    {
     "output_type": "execute_result",
     "data": {
      "text/plain": [
       "\"DATIM Petite Rivière de l'Artibonite\""
      ]
     },
     "metadata": {},
     "execution_count": 62
    },
    {
     "output_type": "execute_result",
     "data": {
      "text/plain": [
       "204"
      ]
     },
     "metadata": {},
     "execution_count": 62
    },
    {
     "output_type": "execute_result",
     "data": {
      "text/plain": [
       "42"
      ]
     },
     "metadata": {},
     "execution_count": 62
    },
    {
     "output_type": "execute_result",
     "data": {
      "text/plain": [
       "243"
      ]
     },
     "metadata": {},
     "execution_count": 62
    },
    {
     "output_type": "execute_result",
     "data": {
      "text/plain": [
       "489"
      ]
     },
     "metadata": {},
     "execution_count": 62
    },
    {
     "output_type": "execute_result",
     "data": {
      "text/plain": [
       "'Number of individual AGYW that have fully completed the entire DREAMS primary package of services but have not received any services beyond the primary package.'"
      ]
     },
     "metadata": {},
     "execution_count": 62
    },
    {
     "output_type": "execute_result",
     "data": {
      "text/plain": [
       "     Age  0-6 months  07-12 months  Total\n",
       "0  10-14          14           129    143\n",
       "1  15-19           0            40     40\n",
       "2  20-24           0            21     21"
      ],
      "text/html": "<div>\n<style scoped>\n    .dataframe tbody tr th:only-of-type {\n        vertical-align: middle;\n    }\n\n    .dataframe tbody tr th {\n        vertical-align: top;\n    }\n\n    .dataframe thead th {\n        text-align: right;\n    }\n</style>\n<table border=\"1\" class=\"dataframe\">\n  <thead>\n    <tr style=\"text-align: right;\">\n      <th></th>\n      <th>Age</th>\n      <th>0-6 months</th>\n      <th>07-12 months</th>\n      <th>Total</th>\n    </tr>\n  </thead>\n  <tbody>\n    <tr>\n      <th>0</th>\n      <td>10-14</td>\n      <td>14</td>\n      <td>129</td>\n      <td>143</td>\n    </tr>\n    <tr>\n      <th>1</th>\n      <td>15-19</td>\n      <td>0</td>\n      <td>40</td>\n      <td>40</td>\n    </tr>\n    <tr>\n      <th>2</th>\n      <td>20-24</td>\n      <td>0</td>\n      <td>21</td>\n      <td>21</td>\n    </tr>\n  </tbody>\n</table>\n</div>"
     },
     "metadata": {},
     "execution_count": 62
    },
    {
     "output_type": "execute_result",
     "data": {
      "text/plain": [
       "'Number of individual AGYW that have fully completed the entire DREAMS primary package of services AND at least one additional secondary service.'"
      ]
     },
     "metadata": {},
     "execution_count": 62
    },
    {
     "output_type": "execute_result",
     "data": {
      "text/plain": [
       "     Age  07-12 months  Total\n",
       "0  10-14            23     23\n",
       "1  15-19            19     19"
      ],
      "text/html": "<div>\n<style scoped>\n    .dataframe tbody tr th:only-of-type {\n        vertical-align: middle;\n    }\n\n    .dataframe tbody tr th {\n        vertical-align: top;\n    }\n\n    .dataframe thead th {\n        text-align: right;\n    }\n</style>\n<table border=\"1\" class=\"dataframe\">\n  <thead>\n    <tr style=\"text-align: right;\">\n      <th></th>\n      <th>Age</th>\n      <th>07-12 months</th>\n      <th>Total</th>\n    </tr>\n  </thead>\n  <tbody>\n    <tr>\n      <th>0</th>\n      <td>10-14</td>\n      <td>23</td>\n      <td>23</td>\n    </tr>\n    <tr>\n      <th>1</th>\n      <td>15-19</td>\n      <td>19</td>\n      <td>19</td>\n    </tr>\n  </tbody>\n</table>\n</div>"
     },
     "metadata": {},
     "execution_count": 62
    },
    {
     "output_type": "execute_result",
     "data": {
      "text/plain": [
       "'Number of individual AGYW that have fully completed at least one DREAMS primary package of services but not the full primary package of services.'"
      ]
     },
     "metadata": {},
     "execution_count": 62
    },
    {
     "output_type": "execute_result",
     "data": {
      "text/plain": [
       "     Age  0-6 months  07-12 months  Total\n",
       "0  15-19          25           115    140\n",
       "1  20-24          15            88    103"
      ],
      "text/html": "<div>\n<style scoped>\n    .dataframe tbody tr th:only-of-type {\n        vertical-align: middle;\n    }\n\n    .dataframe tbody tr th {\n        vertical-align: top;\n    }\n\n    .dataframe thead th {\n        text-align: right;\n    }\n</style>\n<table border=\"1\" class=\"dataframe\">\n  <thead>\n    <tr style=\"text-align: right;\">\n      <th></th>\n      <th>Age</th>\n      <th>0-6 months</th>\n      <th>07-12 months</th>\n      <th>Total</th>\n    </tr>\n  </thead>\n  <tbody>\n    <tr>\n      <th>0</th>\n      <td>15-19</td>\n      <td>25</td>\n      <td>115</td>\n      <td>140</td>\n    </tr>\n    <tr>\n      <th>1</th>\n      <td>20-24</td>\n      <td>15</td>\n      <td>88</td>\n      <td>103</td>\n    </tr>\n  </tbody>\n</table>\n</div>"
     },
     "metadata": {},
     "execution_count": 62
    },
    {
     "output_type": "stream",
     "name": "stdout",
     "text": [
      " \n \n \n \n"
     ]
    },
    {
     "output_type": "execute_result",
     "data": {
      "text/plain": [
       "23677"
      ]
     },
     "metadata": {},
     "execution_count": 62
    },
    {
     "output_type": "execute_result",
     "data": {
      "text/plain": [
       "1092"
      ]
     },
     "metadata": {},
     "execution_count": 62
    },
    {
     "output_type": "execute_result",
     "data": {
      "text/plain": [
       "'DATIM Grande Saline'"
      ]
     },
     "metadata": {},
     "execution_count": 62
    },
    {
     "output_type": "execute_result",
     "data": {
      "text/plain": [
       "349"
      ]
     },
     "metadata": {},
     "execution_count": 62
    },
    {
     "output_type": "execute_result",
     "data": {
      "text/plain": [
       "58"
      ]
     },
     "metadata": {},
     "execution_count": 62
    },
    {
     "output_type": "execute_result",
     "data": {
      "text/plain": [
       "579"
      ]
     },
     "metadata": {},
     "execution_count": 62
    },
    {
     "output_type": "execute_result",
     "data": {
      "text/plain": [
       "986"
      ]
     },
     "metadata": {},
     "execution_count": 62
    },
    {
     "output_type": "execute_result",
     "data": {
      "text/plain": [
       "'Number of individual AGYW that have fully completed the entire DREAMS primary package of services but have not received any services beyond the primary package.'"
      ]
     },
     "metadata": {},
     "execution_count": 62
    },
    {
     "output_type": "execute_result",
     "data": {
      "text/plain": [
       "     Age  0-6 months  07-12 months  Total\n",
       "0  10-14          10           307    317\n",
       "1  15-19           0            22     22\n",
       "2  20-24           0            10     10"
      ],
      "text/html": "<div>\n<style scoped>\n    .dataframe tbody tr th:only-of-type {\n        vertical-align: middle;\n    }\n\n    .dataframe tbody tr th {\n        vertical-align: top;\n    }\n\n    .dataframe thead th {\n        text-align: right;\n    }\n</style>\n<table border=\"1\" class=\"dataframe\">\n  <thead>\n    <tr style=\"text-align: right;\">\n      <th></th>\n      <th>Age</th>\n      <th>0-6 months</th>\n      <th>07-12 months</th>\n      <th>Total</th>\n    </tr>\n  </thead>\n  <tbody>\n    <tr>\n      <th>0</th>\n      <td>10-14</td>\n      <td>10</td>\n      <td>307</td>\n      <td>317</td>\n    </tr>\n    <tr>\n      <th>1</th>\n      <td>15-19</td>\n      <td>0</td>\n      <td>22</td>\n      <td>22</td>\n    </tr>\n    <tr>\n      <th>2</th>\n      <td>20-24</td>\n      <td>0</td>\n      <td>10</td>\n      <td>10</td>\n    </tr>\n  </tbody>\n</table>\n</div>"
     },
     "metadata": {},
     "execution_count": 62
    },
    {
     "output_type": "execute_result",
     "data": {
      "text/plain": [
       "'Number of individual AGYW that have fully completed the entire DREAMS primary package of services AND at least one additional secondary service.'"
      ]
     },
     "metadata": {},
     "execution_count": 62
    },
    {
     "output_type": "execute_result",
     "data": {
      "text/plain": [
       "     Age  07-12 months  Total\n",
       "0  10-14            48     48\n",
       "1  15-19             9      9\n",
       "2  20-24             1      1"
      ],
      "text/html": "<div>\n<style scoped>\n    .dataframe tbody tr th:only-of-type {\n        vertical-align: middle;\n    }\n\n    .dataframe tbody tr th {\n        vertical-align: top;\n    }\n\n    .dataframe thead th {\n        text-align: right;\n    }\n</style>\n<table border=\"1\" class=\"dataframe\">\n  <thead>\n    <tr style=\"text-align: right;\">\n      <th></th>\n      <th>Age</th>\n      <th>07-12 months</th>\n      <th>Total</th>\n    </tr>\n  </thead>\n  <tbody>\n    <tr>\n      <th>0</th>\n      <td>10-14</td>\n      <td>48</td>\n      <td>48</td>\n    </tr>\n    <tr>\n      <th>1</th>\n      <td>15-19</td>\n      <td>9</td>\n      <td>9</td>\n    </tr>\n    <tr>\n      <th>2</th>\n      <td>20-24</td>\n      <td>1</td>\n      <td>1</td>\n    </tr>\n  </tbody>\n</table>\n</div>"
     },
     "metadata": {},
     "execution_count": 62
    },
    {
     "output_type": "execute_result",
     "data": {
      "text/plain": [
       "'Number of individual AGYW that have fully completed at least one DREAMS primary package of services but not the full primary package of services.'"
      ]
     },
     "metadata": {},
     "execution_count": 62
    },
    {
     "output_type": "execute_result",
     "data": {
      "text/plain": [
       "     Age  07-12 months  Total\n",
       "0  15-19           318    318\n",
       "1  20-24           261    261"
      ],
      "text/html": "<div>\n<style scoped>\n    .dataframe tbody tr th:only-of-type {\n        vertical-align: middle;\n    }\n\n    .dataframe tbody tr th {\n        vertical-align: top;\n    }\n\n    .dataframe thead th {\n        text-align: right;\n    }\n</style>\n<table border=\"1\" class=\"dataframe\">\n  <thead>\n    <tr style=\"text-align: right;\">\n      <th></th>\n      <th>Age</th>\n      <th>07-12 months</th>\n      <th>Total</th>\n    </tr>\n  </thead>\n  <tbody>\n    <tr>\n      <th>0</th>\n      <td>15-19</td>\n      <td>318</td>\n      <td>318</td>\n    </tr>\n    <tr>\n      <th>1</th>\n      <td>20-24</td>\n      <td>261</td>\n      <td>261</td>\n    </tr>\n  </tbody>\n</table>\n</div>"
     },
     "metadata": {},
     "execution_count": 62
    },
    {
     "output_type": "stream",
     "name": "stdout",
     "text": [
      " \n \n \n \n"
     ]
    },
    {
     "output_type": "execute_result",
     "data": {
      "text/plain": [
       "23677"
      ]
     },
     "metadata": {},
     "execution_count": 62
    },
    {
     "output_type": "execute_result",
     "data": {
      "text/plain": [
       "310"
      ]
     },
     "metadata": {},
     "execution_count": 62
    },
    {
     "output_type": "execute_result",
     "data": {
      "text/plain": [
       "'DATIM Montrouis'"
      ]
     },
     "metadata": {},
     "execution_count": 62
    },
    {
     "output_type": "execute_result",
     "data": {
      "text/plain": [
       "129"
      ]
     },
     "metadata": {},
     "execution_count": 62
    },
    {
     "output_type": "execute_result",
     "data": {
      "text/plain": [
       "50"
      ]
     },
     "metadata": {},
     "execution_count": 62
    },
    {
     "output_type": "execute_result",
     "data": {
      "text/plain": [
       "113"
      ]
     },
     "metadata": {},
     "execution_count": 62
    },
    {
     "output_type": "execute_result",
     "data": {
      "text/plain": [
       "292"
      ]
     },
     "metadata": {},
     "execution_count": 62
    },
    {
     "output_type": "execute_result",
     "data": {
      "text/plain": [
       "'Number of individual AGYW that have fully completed the entire DREAMS primary package of services but have not received any services beyond the primary package.'"
      ]
     },
     "metadata": {},
     "execution_count": 62
    },
    {
     "output_type": "execute_result",
     "data": {
      "text/plain": [
       "     Age  07-12 months  Total\n",
       "0  10-14           110    110\n",
       "1  15-19            19     19"
      ],
      "text/html": "<div>\n<style scoped>\n    .dataframe tbody tr th:only-of-type {\n        vertical-align: middle;\n    }\n\n    .dataframe tbody tr th {\n        vertical-align: top;\n    }\n\n    .dataframe thead th {\n        text-align: right;\n    }\n</style>\n<table border=\"1\" class=\"dataframe\">\n  <thead>\n    <tr style=\"text-align: right;\">\n      <th></th>\n      <th>Age</th>\n      <th>07-12 months</th>\n      <th>Total</th>\n    </tr>\n  </thead>\n  <tbody>\n    <tr>\n      <th>0</th>\n      <td>10-14</td>\n      <td>110</td>\n      <td>110</td>\n    </tr>\n    <tr>\n      <th>1</th>\n      <td>15-19</td>\n      <td>19</td>\n      <td>19</td>\n    </tr>\n  </tbody>\n</table>\n</div>"
     },
     "metadata": {},
     "execution_count": 62
    },
    {
     "output_type": "execute_result",
     "data": {
      "text/plain": [
       "'Number of individual AGYW that have fully completed the entire DREAMS primary package of services AND at least one additional secondary service.'"
      ]
     },
     "metadata": {},
     "execution_count": 62
    },
    {
     "output_type": "execute_result",
     "data": {
      "text/plain": [
       "     Age  07-12 months  Total\n",
       "0  10-14            39     39\n",
       "1  15-19            11     11"
      ],
      "text/html": "<div>\n<style scoped>\n    .dataframe tbody tr th:only-of-type {\n        vertical-align: middle;\n    }\n\n    .dataframe tbody tr th {\n        vertical-align: top;\n    }\n\n    .dataframe thead th {\n        text-align: right;\n    }\n</style>\n<table border=\"1\" class=\"dataframe\">\n  <thead>\n    <tr style=\"text-align: right;\">\n      <th></th>\n      <th>Age</th>\n      <th>07-12 months</th>\n      <th>Total</th>\n    </tr>\n  </thead>\n  <tbody>\n    <tr>\n      <th>0</th>\n      <td>10-14</td>\n      <td>39</td>\n      <td>39</td>\n    </tr>\n    <tr>\n      <th>1</th>\n      <td>15-19</td>\n      <td>11</td>\n      <td>11</td>\n    </tr>\n  </tbody>\n</table>\n</div>"
     },
     "metadata": {},
     "execution_count": 62
    },
    {
     "output_type": "execute_result",
     "data": {
      "text/plain": [
       "'Number of individual AGYW that have fully completed at least one DREAMS primary package of services but not the full primary package of services.'"
      ]
     },
     "metadata": {},
     "execution_count": 62
    },
    {
     "output_type": "execute_result",
     "data": {
      "text/plain": [
       "     Age  07-12 months  Total\n",
       "0  15-19            81     81\n",
       "1  20-24            32     32"
      ],
      "text/html": "<div>\n<style scoped>\n    .dataframe tbody tr th:only-of-type {\n        vertical-align: middle;\n    }\n\n    .dataframe tbody tr th {\n        vertical-align: top;\n    }\n\n    .dataframe thead th {\n        text-align: right;\n    }\n</style>\n<table border=\"1\" class=\"dataframe\">\n  <thead>\n    <tr style=\"text-align: right;\">\n      <th></th>\n      <th>Age</th>\n      <th>07-12 months</th>\n      <th>Total</th>\n    </tr>\n  </thead>\n  <tbody>\n    <tr>\n      <th>0</th>\n      <td>15-19</td>\n      <td>81</td>\n      <td>81</td>\n    </tr>\n    <tr>\n      <th>1</th>\n      <td>20-24</td>\n      <td>32</td>\n      <td>32</td>\n    </tr>\n  </tbody>\n</table>\n</div>"
     },
     "metadata": {},
     "execution_count": 62
    },
    {
     "output_type": "stream",
     "name": "stdout",
     "text": [
      " \n \n \n \n"
     ]
    },
    {
     "output_type": "execute_result",
     "data": {
      "text/plain": [
       "23677"
      ]
     },
     "metadata": {},
     "execution_count": 62
    },
    {
     "output_type": "execute_result",
     "data": {
      "text/plain": [
       "557"
      ]
     },
     "metadata": {},
     "execution_count": 62
    },
    {
     "output_type": "execute_result",
     "data": {
      "text/plain": [
       "'DATIM Desdunes'"
      ]
     },
     "metadata": {},
     "execution_count": 62
    },
    {
     "output_type": "execute_result",
     "data": {
      "text/plain": [
       "185"
      ]
     },
     "metadata": {},
     "execution_count": 62
    },
    {
     "output_type": "execute_result",
     "data": {
      "text/plain": [
       "59"
      ]
     },
     "metadata": {},
     "execution_count": 62
    },
    {
     "output_type": "execute_result",
     "data": {
      "text/plain": [
       "266"
      ]
     },
     "metadata": {},
     "execution_count": 62
    },
    {
     "output_type": "execute_result",
     "data": {
      "text/plain": [
       "510"
      ]
     },
     "metadata": {},
     "execution_count": 62
    },
    {
     "output_type": "execute_result",
     "data": {
      "text/plain": [
       "'Number of individual AGYW that have fully completed the entire DREAMS primary package of services but have not received any services beyond the primary package.'"
      ]
     },
     "metadata": {},
     "execution_count": 62
    },
    {
     "output_type": "execute_result",
     "data": {
      "text/plain": [
       "     Age  0-6 months  07-12 months  Total\n",
       "0  10-14          10           142    152\n",
       "1  15-19           0            33     33"
      ],
      "text/html": "<div>\n<style scoped>\n    .dataframe tbody tr th:only-of-type {\n        vertical-align: middle;\n    }\n\n    .dataframe tbody tr th {\n        vertical-align: top;\n    }\n\n    .dataframe thead th {\n        text-align: right;\n    }\n</style>\n<table border=\"1\" class=\"dataframe\">\n  <thead>\n    <tr style=\"text-align: right;\">\n      <th></th>\n      <th>Age</th>\n      <th>0-6 months</th>\n      <th>07-12 months</th>\n      <th>Total</th>\n    </tr>\n  </thead>\n  <tbody>\n    <tr>\n      <th>0</th>\n      <td>10-14</td>\n      <td>10</td>\n      <td>142</td>\n      <td>152</td>\n    </tr>\n    <tr>\n      <th>1</th>\n      <td>15-19</td>\n      <td>0</td>\n      <td>33</td>\n      <td>33</td>\n    </tr>\n  </tbody>\n</table>\n</div>"
     },
     "metadata": {},
     "execution_count": 62
    },
    {
     "output_type": "execute_result",
     "data": {
      "text/plain": [
       "'Number of individual AGYW that have fully completed the entire DREAMS primary package of services AND at least one additional secondary service.'"
      ]
     },
     "metadata": {},
     "execution_count": 62
    },
    {
     "output_type": "execute_result",
     "data": {
      "text/plain": [
       "     Age  07-12 months  Total\n",
       "0  10-14            41     41\n",
       "1  15-19            16     16\n",
       "2  20-24             2      2"
      ],
      "text/html": "<div>\n<style scoped>\n    .dataframe tbody tr th:only-of-type {\n        vertical-align: middle;\n    }\n\n    .dataframe tbody tr th {\n        vertical-align: top;\n    }\n\n    .dataframe thead th {\n        text-align: right;\n    }\n</style>\n<table border=\"1\" class=\"dataframe\">\n  <thead>\n    <tr style=\"text-align: right;\">\n      <th></th>\n      <th>Age</th>\n      <th>07-12 months</th>\n      <th>Total</th>\n    </tr>\n  </thead>\n  <tbody>\n    <tr>\n      <th>0</th>\n      <td>10-14</td>\n      <td>41</td>\n      <td>41</td>\n    </tr>\n    <tr>\n      <th>1</th>\n      <td>15-19</td>\n      <td>16</td>\n      <td>16</td>\n    </tr>\n    <tr>\n      <th>2</th>\n      <td>20-24</td>\n      <td>2</td>\n      <td>2</td>\n    </tr>\n  </tbody>\n</table>\n</div>"
     },
     "metadata": {},
     "execution_count": 62
    },
    {
     "output_type": "execute_result",
     "data": {
      "text/plain": [
       "'Number of individual AGYW that have fully completed at least one DREAMS primary package of services but not the full primary package of services.'"
      ]
     },
     "metadata": {},
     "execution_count": 62
    },
    {
     "output_type": "execute_result",
     "data": {
      "text/plain": [
       "     Age  0-6 months  07-12 months  Total\n",
       "0  15-19           6           112    118\n",
       "1  20-24           1           147    148"
      ],
      "text/html": "<div>\n<style scoped>\n    .dataframe tbody tr th:only-of-type {\n        vertical-align: middle;\n    }\n\n    .dataframe tbody tr th {\n        vertical-align: top;\n    }\n\n    .dataframe thead th {\n        text-align: right;\n    }\n</style>\n<table border=\"1\" class=\"dataframe\">\n  <thead>\n    <tr style=\"text-align: right;\">\n      <th></th>\n      <th>Age</th>\n      <th>0-6 months</th>\n      <th>07-12 months</th>\n      <th>Total</th>\n    </tr>\n  </thead>\n  <tbody>\n    <tr>\n      <th>0</th>\n      <td>15-19</td>\n      <td>6</td>\n      <td>112</td>\n      <td>118</td>\n    </tr>\n    <tr>\n      <th>1</th>\n      <td>20-24</td>\n      <td>1</td>\n      <td>147</td>\n      <td>148</td>\n    </tr>\n  </tbody>\n</table>\n</div>"
     },
     "metadata": {},
     "execution_count": 62
    },
    {
     "output_type": "stream",
     "name": "stdout",
     "text": [
      " \n \n \n \n"
     ]
    }
   ],
   "source": [
    "for dcommunes in datimcommunes:\n",
    "    dcommunes.total_mastersheet \n",
    "    dcommunes.total_dreams_valid\n",
    "    dcommunes.who_am_i\n",
    "    dcommunes.total_datimI\n",
    "    dcommunes.total_datimII\n",
    "    dcommunes.total_datimIII\n",
    "    dcommunes.total_datim_general\n",
    "    AgywPrevCommune.datim_titleI()\n",
    "    dcommunes.datim_agyw_prevI()\n",
    "    AgywPrevCommune.datim_titleII()\n",
    "    dcommunes.datim_agyw_prevII()\n",
    "    AgywPrevCommune.datim_titleIII()\n",
    "    dcommunes.datim_agyw_prevIII()\n",
    "    print(\" \")\n",
    "    print(\" \")\n",
    "    print(\" \")\n",
    "    print(\" \")"
   ]
  },
  {
   "cell_type": "code",
   "execution_count": 61,
   "id": "amazing-press",
   "metadata": {},
   "outputs": [
    {
     "output_type": "execute_result",
     "data": {
      "text/plain": [
       "     Age  0-6 months  07-12 months  13-24 months\n",
       "0  10-14           0             0             0\n",
       "1  15-19           0             0             0\n",
       "2  20-24           0             0             0"
      ],
      "text/html": "<div>\n<style scoped>\n    .dataframe tbody tr th:only-of-type {\n        vertical-align: middle;\n    }\n\n    .dataframe tbody tr th {\n        vertical-align: top;\n    }\n\n    .dataframe thead th {\n        text-align: right;\n    }\n</style>\n<table border=\"1\" class=\"dataframe\">\n  <thead>\n    <tr style=\"text-align: right;\">\n      <th></th>\n      <th>Age</th>\n      <th>0-6 months</th>\n      <th>07-12 months</th>\n      <th>13-24 months</th>\n    </tr>\n  </thead>\n  <tbody>\n    <tr>\n      <th>0</th>\n      <td>10-14</td>\n      <td>0</td>\n      <td>0</td>\n      <td>0</td>\n    </tr>\n    <tr>\n      <th>1</th>\n      <td>15-19</td>\n      <td>0</td>\n      <td>0</td>\n      <td>0</td>\n    </tr>\n    <tr>\n      <th>2</th>\n      <td>20-24</td>\n      <td>0</td>\n      <td>0</td>\n      <td>0</td>\n    </tr>\n  </tbody>\n</table>\n</div>"
     },
     "metadata": {},
     "execution_count": 61
    }
   ],
   "source": [
    "datim_La_Chapelle.datim_agyw_prevII()"
   ]
  },
  {
   "cell_type": "code",
   "execution_count": null,
   "metadata": {},
   "outputs": [],
   "source": []
  }
 ],
 "metadata": {
  "kernelspec": {
   "name": "python392jvsc74a57bd04534460e0bdca1b390927d45471088fb3501d39abc4e3f2cee293892e17d7fc6",
   "display_name": "Python 3.9.2 64-bit"
  },
  "language_info": {
   "codemirror_mode": {
    "name": "ipython",
    "version": 3
   },
   "file_extension": ".py",
   "mimetype": "text/x-python",
   "name": "python",
   "nbconvert_exporter": "python",
   "pygments_lexer": "ipython3",
   "version": "3.9.2"
  }
 },
 "nbformat": 4,
 "nbformat_minor": 5
}