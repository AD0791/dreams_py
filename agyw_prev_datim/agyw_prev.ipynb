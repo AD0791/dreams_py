{
 "cells": [
  {
   "source": [
    "# AGYW_PREV DATIM"
   ],
   "cell_type": "markdown",
   "metadata": {}
  },
  {
   "cell_type": "code",
   "execution_count": null,
   "metadata": {},
   "outputs": [],
   "source": [
    "# load the modules\n",
    "#%run layeringOfServices.py\n",
    "from layeringOfServices import dreams_mastersheet\n",
    "#multiples outputs\n",
    "from IPython.core.interactiveshell import InteractiveShell\n",
    "InteractiveShell.ast_node_interactivity = \"all\""
   ]
  },
  {
   "cell_type": "code",
   "execution_count": null,
   "metadata": {},
   "outputs": [],
   "source": [
    "dreams_mastersheet.dtypes\n"
   ]
  },
  {
   "source": [
    "## Datim Pour les 3 definitions\n",
    "\n",
    "----\n",
    "\n",
    "1. Number of individual AGYW that have fully completed the entire DREAMS primary package of services but have not received any services beyond the primary package.\n",
    "\n",
    "2. Number of individual AGYW that have fully completed the entire DREAMS primary package of services AND at least one additional secondary service.\n",
    "\n",
    "3. Number of individual AGYW that have fully completed at least one DREAMS primary package of services but not the full primary package of services.\n",
    "\n",
    "\n"
   ],
   "cell_type": "markdown",
   "metadata": {}
  },
  {
   "source": [
    "----"
   ],
   "cell_type": "markdown",
   "metadata": {}
  },
  {
   "source": [
    "## Task it "
   ],
   "cell_type": "markdown",
   "metadata": {}
  },
  {
   "cell_type": "code",
   "execution_count": null,
   "metadata": {},
   "outputs": [],
   "source": [
    "# Nbre d'observation\n",
    "dreams_mastersheet.code.count()"
   ]
  },
  {
   "cell_type": "code",
   "execution_count": null,
   "metadata": {},
   "outputs": [],
   "source": [
    "# les tranches d'age\n",
    "dreams_1014 = dreams_mastersheet[dreams_mastersheet.age_range == \"10-14\"]\n",
    "dreams_1519 = dreams_mastersheet[dreams_mastersheet.age_range == \"15-19\"]\n",
    "dreams_2024 = dreams_mastersheet[dreams_mastersheet.age_range == \"20-24\"]"
   ]
  },
  {
   "cell_type": "code",
   "execution_count": null,
   "metadata": {},
   "outputs": [],
   "source": [
    "dreams_1014.code.count()\n",
    "dreams_1519.code.count()\n",
    "dreams_2024.code.count()"
   ]
  },
  {
   "cell_type": "code",
   "execution_count": null,
   "metadata": {},
   "outputs": [],
   "source": [
    "dreams_1014 = dreams_1014[dreams_1014.timeOn_system == \"required_Time_on\"]\n",
    "dreams_1519 = dreams_1519[dreams_1519.timeOn_system == \"required_Time_on\"]\n",
    "dreams_2024 = dreams_2024[dreams_2024.timeOn_system == \"required_Time_on\"]"
   ]
  },
  {
   "cell_type": "code",
   "execution_count": null,
   "metadata": {},
   "outputs": [],
   "source": [
    "dreams_1014.code.count()\n",
    "dreams_1519.code.count()\n",
    "dreams_2024.code.count()"
   ]
  },
  {
   "cell_type": "code",
   "execution_count": null,
   "metadata": {},
   "outputs": [],
   "source": [
    "dreams_valid = dreams_mastersheet[dreams_mastersheet.timeOn_system == \"required_Time_on\"]\n",
    "\n",
    "dreams_valid = dreams_valid[(dreams_valid.age_range !=\"not_valid_age\") & (dreams_valid.age_range != \"25-29\")]\n",
    "\n",
    "dreams_valid.code.count()"
   ]
  },
  {
   "source": [
    "## Process Primary Only\n",
    "--- \n",
    "Number of individual AGYW that have fully completed the entire DREAMS primary package of services but have not received any services beyond the primary package."
   ],
   "cell_type": "markdown",
   "metadata": {}
  },
  {
   "cell_type": "code",
   "execution_count": null,
   "metadata": {},
   "outputs": [],
   "source": [
    "# primary services function\n",
    "\n",
    "def primFunc(df):\n",
    "    if (df.ps_10_14 == \"curriculum-servis\" and df.hts == \"errata\" and df.condoms == \"errata\" and df.post_care_treatment == \"no\" and df.socio_eco_app == \"no\" ):\n",
    "        return \"full_primary_only\"\n",
    "    elif (df.ps_15_19 == \"condoms&curriculum\" and df.hts == \"errata\"  and df.post_care_treatment == \"no\" and df.socio_eco_app == \"no\" ):\n",
    "        return \"full_primary_only\"\n",
    "    elif (df.ps_20_24 == \"condoms&hts&curriculum\" and df.post_care_treatment == \"no\" and df.socio_eco_app == \"no\" ):\n",
    "        return \"full_primary_only\"\n",
    "    else:\n",
    "        \"invalid\""
   ]
  },
  {
   "cell_type": "code",
   "execution_count": null,
   "metadata": {},
   "outputs": [],
   "source": [
    "dreams_1014[\"primary_only\"] = dreams_1014.apply(lambda df: primFunc(df),axis=1)\n",
    "dreams_1519[\"primary_only\"] = dreams_1519.apply(lambda df: primFunc(df),axis=1)\n",
    "dreams_2024[\"primary_only\"] = dreams_2024.apply(lambda df: primFunc(df),axis=1)\n",
    "\n",
    "dreams_valid[\"primary_only\"] = dreams_valid.apply(lambda df: primFunc(df),axis=1)"
   ]
  },
  {
   "cell_type": "code",
   "execution_count": null,
   "metadata": {},
   "outputs": [],
   "source": [
    "dreams_valid = dreams_valid[dreams_valid.primary_only == \"full_primary_only\"].code.count()\n",
    "dreams_valid"
   ]
  },
  {
   "cell_type": "code",
   "execution_count": null,
   "metadata": {},
   "outputs": [],
   "source": [
    "dreams_1014 = dreams_1014[dreams_1014.primary_only == \"full_primary_only\"].code.count()\n",
    "dreams_1014"
   ]
  },
  {
   "cell_type": "code",
   "execution_count": null,
   "metadata": {},
   "outputs": [],
   "source": [
    "dreams_1519 = dreams_1519[dreams_1519.primary_only == \"full_primary_only\"].code.count()\n",
    "dreams_1519"
   ]
  },
  {
   "cell_type": "code",
   "execution_count": null,
   "metadata": {},
   "outputs": [],
   "source": [
    "dreams_2024 = dreams_2024[dreams_2024.primary_only == \"full_primary_only\"].code.count()\n",
    "dreams_2024"
   ]
  },
  {
   "cell_type": "code",
   "execution_count": null,
   "metadata": {},
   "outputs": [],
   "source": [
    "dreams_valid_pivot = dreams_valid.pivot_table(index=[\"age_range\"],columns=[\"agyw_period_range\"], values=\"code\",aggfunc=\"count\",fill_value=0,margins=True,margins_name=\"Total\")\n",
    "dreams_valid_pivot.rename_axis(index={\"age_range\":\"Age\"},columns={\"agyw_period_range\":\"Time\"},inplace=True)\n",
    "dreams_valid_pivot_final = dreams_valid_pivot[:-1]\n",
    "dreams_valid_pivot_final"
   ]
  },
  {
   "cell_type": "code",
   "execution_count": null,
   "metadata": {},
   "outputs": [],
   "source": [
    "dreams_1014_pivot = dreams_1014.pivot_table(index=[\"age_range\"],columns=[\"agyw_period_range\"], values=\"code\",aggfunc=\"count\",fill_value=0,margins=True,margins_name=\"Total\")\n",
    "dreams_1014_pivot.rename_axis(index={\"age_range\":\"Age\"},columns={\"agyw_period_range\":\"Time\"},inplace=True)\n",
    "dreams_1014_pivot_final = dreams_1014_pivot[:-1]\n",
    "dreams_1014_pivot_final"
   ]
  },
  {
   "cell_type": "code",
   "execution_count": null,
   "metadata": {},
   "outputs": [],
   "source": [
    "dreams_1519_pivot = dreams_1519.pivot_table(index=[\"age_range\"],columns=[\"agyw_period_range\"], values=\"code\",aggfunc=\"count\",fill_value=0,margins=True,margins_name=\"Total\")\n",
    "dreams_1519_pivot.rename_axis(index={\"age_range\":\"Age\"},columns={\"agyw_period_range\":\"Time\"},inplace=True)\n",
    "dreams_1519_pivot_final = dreams_1519_pivot[:-1]\n",
    "dreams_1519_pivot_final"
   ]
  },
  {
   "cell_type": "code",
   "execution_count": null,
   "metadata": {},
   "outputs": [],
   "source": [
    "dreams_2024_pivot = dreams_2024.pivot_table(index=[\"age_range\"],columns=[\"agyw_period_range\"], values=\"code\",aggfunc=\"count\",fill_value=0,margins=True,margins_name=\"Total\")\n",
    "dreams_2024_pivot.rename_axis(index={\"age_range\":\"Age\"},columns={\"agyw_period_range\":\"Time\"},inplace=True)\n",
    "dreams_2024_pivot_final = dreams_2024_pivot[:-1]\n",
    "dreams_2024_pivot_final"
   ]
  }
 ],
 "metadata": {
  "kernelspec": {
   "name": "python392jvsc74a57bd04534460e0bdca1b390927d45471088fb3501d39abc4e3f2cee293892e17d7fc6",
   "display_name": "Python 3.9.2 64-bit"
  },
  "language_info": {
   "codemirror_mode": {
    "name": "ipython",
    "version": 3
   },
   "file_extension": ".py",
   "mimetype": "text/x-python",
   "name": "python",
   "nbconvert_exporter": "python",
   "pygments_lexer": "ipython3",
   "version": "3.9.2"
  }
 },
 "nbformat": 4,
 "nbformat_minor": 5
}