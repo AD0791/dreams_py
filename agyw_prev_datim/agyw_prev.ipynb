{
 "cells": [
  {
   "source": [
    "# AGYW_PREV DATIM"
   ],
   "cell_type": "markdown",
   "metadata": {}
  },
  {
   "cell_type": "code",
   "execution_count": 1,
   "metadata": {},
   "outputs": [],
   "source": [
    "# load the modules\n",
    "#%run layeringOfServices.py\n",
    "from layeringOfServices import dreams_mastersheet\n",
    "#multiples outputs\n",
    "from IPython.core.interactiveshell import InteractiveShell\n",
    "InteractiveShell.ast_node_interactivity = \"all\""
   ]
  },
  {
   "cell_type": "code",
   "execution_count": 9,
   "metadata": {},
   "outputs": [
    {
     "output_type": "execute_result",
     "data": {
      "text/plain": [
       "main_id                     int64\n",
       "muso_eligibility           object\n",
       "actual_id_group             int64\n",
       "group_she_take_sessions    object\n",
       "code                       object\n",
       "                            ...  \n",
       "recevoir_1services         object\n",
       "ps_10_14                   object\n",
       "ps_15_19                   object\n",
       "ps_20_24                   object\n",
       "score_eligible_AGYW        object\n",
       "Length: 283, dtype: object"
      ]
     },
     "metadata": {},
     "execution_count": 9
    }
   ],
   "source": [
    "dreams_mastersheet.dtypes\n"
   ]
  },
  {
   "source": [
    "## Datim Pour les 3 definitions\n",
    "\n",
    "----\n",
    "\n",
    "1. Number of individual AGYW that have fully completed the entire DREAMS primary package of services but have not received any services beyond the primary package.\n",
    "\n",
    "2. Number of individual AGYW that have fully completed the entire DREAMS primary package of services AND at least one additional secondary service.\n",
    "\n",
    "3. Number of individual AGYW that have fully completed at least one DREAMS primary package of services but not the full primary package of services.\n",
    "\n",
    "\n"
   ],
   "cell_type": "markdown",
   "metadata": {}
  },
  {
   "source": [
    "----"
   ],
   "cell_type": "markdown",
   "metadata": {}
  },
  {
   "source": [
    "## Task it "
   ],
   "cell_type": "markdown",
   "metadata": {}
  },
  {
   "cell_type": "code",
   "execution_count": 4,
   "metadata": {},
   "outputs": [
    {
     "output_type": "execute_result",
     "data": {
      "text/plain": [
       "22955"
      ]
     },
     "metadata": {},
     "execution_count": 4
    }
   ],
   "source": [
    "# Nbre d'observation\n",
    "dreams_mastersheet.code.count()"
   ]
  },
  {
   "cell_type": "code",
   "execution_count": 4,
   "metadata": {},
   "outputs": [],
   "source": [
    "# les tranches d'age\n",
    "dreams_1014 = dreams_mastersheet[dreams_mastersheet.age_range == \"10-14\"]\n",
    "dreams_1519 = dreams_mastersheet[dreams_mastersheet.age_range == \"15-19\"]\n",
    "dreams_2024 = dreams_mastersheet[dreams_mastersheet.age_range == \"20-24\"]"
   ]
  },
  {
   "cell_type": "code",
   "execution_count": 10,
   "metadata": {},
   "outputs": [
    {
     "output_type": "execute_result",
     "data": {
      "text/plain": [
       "8062"
      ]
     },
     "metadata": {},
     "execution_count": 10
    },
    {
     "output_type": "execute_result",
     "data": {
      "text/plain": [
       "10019"
      ]
     },
     "metadata": {},
     "execution_count": 10
    },
    {
     "output_type": "execute_result",
     "data": {
      "text/plain": [
       "4674"
      ]
     },
     "metadata": {},
     "execution_count": 10
    }
   ],
   "source": [
    "dreams_1014.code.count()\n",
    "dreams_1519.code.count()\n",
    "dreams_2024.code.count()"
   ]
  },
  {
   "cell_type": "code",
   "execution_count": 11,
   "metadata": {},
   "outputs": [],
   "source": [
    "dreams_1014 = dreams_1014[dreams_1014.timeOn_system == \"required_Time_on\"]\n",
    "dreams_1519 = dreams_1519[dreams_1519.timeOn_system == \"required_Time_on\"]\n",
    "dreams_2024 = dreams_2024[dreams_2024.timeOn_system == \"required_Time_on\"]"
   ]
  },
  {
   "cell_type": "code",
   "execution_count": 12,
   "metadata": {},
   "outputs": [
    {
     "output_type": "execute_result",
     "data": {
      "text/plain": [
       "6021"
      ]
     },
     "metadata": {},
     "execution_count": 12
    },
    {
     "output_type": "execute_result",
     "data": {
      "text/plain": [
       "5833"
      ]
     },
     "metadata": {},
     "execution_count": 12
    },
    {
     "output_type": "execute_result",
     "data": {
      "text/plain": [
       "3080"
      ]
     },
     "metadata": {},
     "execution_count": 12
    }
   ],
   "source": [
    "dreams_1014.code.count()\n",
    "dreams_1519.code.count()\n",
    "dreams_2024.code.count()"
   ]
  },
  {
   "cell_type": "code",
   "execution_count": null,
   "metadata": {},
   "outputs": [],
   "source": []
  }
 ],
 "metadata": {
  "kernelspec": {
   "name": "python392jvsc74a57bd04534460e0bdca1b390927d45471088fb3501d39abc4e3f2cee293892e17d7fc6",
   "display_name": "Python 3.9.2 64-bit"
  },
  "language_info": {
   "codemirror_mode": {
    "name": "ipython",
    "version": 3
   },
   "file_extension": ".py",
   "mimetype": "text/x-python",
   "name": "python",
   "nbconvert_exporter": "python",
   "pygments_lexer": "ipython3",
   "version": "3.9.2"
  }
 },
 "nbformat": 4,
 "nbformat_minor": 5
}