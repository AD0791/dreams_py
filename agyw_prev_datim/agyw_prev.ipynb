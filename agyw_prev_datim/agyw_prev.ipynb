{
 "cells": [
  {
   "source": [
    "# AGYW_PREV DATIM"
   ],
   "cell_type": "markdown",
   "metadata": {}
  },
  {
   "cell_type": "code",
   "execution_count": 1,
   "metadata": {},
   "outputs": [],
   "source": [
    "# load the modules\n",
    "from layeringOfServices import DREAMS_MASTERSHEET\n",
    "#multiples outputs\n",
    "from IPython.core.interactiveshell import InteractiveShell\n",
    "InteractiveShell.ast_node_interactivity = \"all\""
   ]
  },
  {
   "source": [
    "## Datim Pour les 3 definitions\n",
    "\n",
    "----\n",
    "\n",
    "1. Number of individual AGYW that have fully completed the entire DREAMS primary package of services but have not received any services beyond the primary package.\n",
    "\n",
    "2. Number of individual AGYW that have fully completed the entire DREAMS primary package of services AND at least one additional secondary service.\n",
    "\n",
    "3. Number of individual AGYW that have fully completed at least one DREAMS primary package of services but not the full primary package of services.\n",
    "\n",
    "\n"
   ],
   "cell_type": "markdown",
   "metadata": {}
  },
  {
   "source": [
    "----"
   ],
   "cell_type": "markdown",
   "metadata": {}
  },
  {
   "source": [
    "## Task it "
   ],
   "cell_type": "markdown",
   "metadata": {}
  },
  {
   "cell_type": "code",
   "execution_count": 2,
   "metadata": {},
   "outputs": [
    {
     "output_type": "execute_result",
     "data": {
      "text/plain": [
       "23112"
      ]
     },
     "metadata": {},
     "execution_count": 2
    }
   ],
   "source": [
    "# Nbre d'observation\n",
    "DREAMS_MASTERSHEET.code.count()"
   ]
  },
  {
   "cell_type": "code",
   "execution_count": 3,
   "metadata": {},
   "outputs": [],
   "source": [
    "# les tranches d'age & tIME_ON\n",
    "#DREAMS_1014 = DREAMS_MASTERSHEET[(DREAMS_MASTERSHEET.age_range == \"10-14\") & (DREAMS_MASTERSHEET.timeOn_system == \"required_Time_on\")]\n",
    "#DREAMS_1519 = DREAMS_MASTERSHEET[(DREAMS_MASTERSHEET.age_range == \"15-19\")& (DREAMS_MASTERSHEET.timeOn_system == \"required_Time_on\")]\n",
    "#DREAMS_2024 = DREAMS_MASTERSHEET[(DREAMS_MASTERSHEET.age_range == \"20-24\") & (DREAMS_MASTERSHEET.timeOn_system == \"required_Time_on\")]\n",
    "DREAMS_VALID = DREAMS_MASTERSHEET[(DREAMS_MASTERSHEET.age_range !=\"not_valid_age\") & (DREAMS_MASTERSHEET.age_range != \"25-29\") & (DREAMS_MASTERSHEET.timeOn_system == \"required_Time_on\")]"
   ]
  },
  {
   "cell_type": "code",
   "execution_count": 4,
   "metadata": {},
   "outputs": [
    {
     "output_type": "execute_result",
     "data": {
      "text/plain": [
       "15015"
      ]
     },
     "metadata": {},
     "execution_count": 4
    }
   ],
   "source": [
    "#DREAMS_1014.code.count()\n",
    "#DREAMS_1519.code.count()\n",
    "#DREAMS_2024.code.count()\n",
    "DREAMS_VALID.code.count()"
   ]
  },
  {
   "source": [
    "## Process Primary Only\n",
    "--- \n",
    "Number of individual AGYW that have fully completed the entire DREAMS primary package of services but have not received any services beyond the primary package."
   ],
   "cell_type": "markdown",
   "metadata": {}
  },
  {
   "cell_type": "code",
   "execution_count": 5,
   "metadata": {},
   "outputs": [],
   "source": [
    "# primary services function\n",
    "\n",
    "def primFunc(df):\n",
    "    if (df.ps_10_14 == \"curriculum-servis\" and df.hts == \"errata\" and df.condoms == \"errata\" and df.post_care_treatment == \"no\" and df.socio_eco_app == \"no\" ):\n",
    "        return \"full_primary_only\"\n",
    "    elif (df.ps_15_19 == \"condoms&curriculum\" and df.hts == \"errata\"  and df.post_care_treatment == \"no\" and df.socio_eco_app == \"no\" ):\n",
    "        return \"full_primary_only\"\n",
    "    elif (df.ps_20_24 == \"condoms&hts&curriculum\" and df.post_care_treatment == \"no\" and df.socio_eco_app == \"no\" ):\n",
    "        return \"full_primary_only\"\n",
    "    else:\n",
    "        return \"invalid\""
   ]
  },
  {
   "cell_type": "code",
   "execution_count": 6,
   "metadata": {},
   "outputs": [
    {
     "output_type": "error",
     "ename": "NameError",
     "evalue": "name 'DREAMS_1014' is not defined",
     "traceback": [
      "\u001b[1;31m---------------------------------------------------------------------------\u001b[0m",
      "\u001b[1;31mNameError\u001b[0m                                 Traceback (most recent call last)",
      "\u001b[1;32m<ipython-input-6-f7f7f629d23a>\u001b[0m in \u001b[0;36m<module>\u001b[1;34m\u001b[0m\n\u001b[1;32m----> 1\u001b[1;33m \u001b[0mDREAMS_1014\u001b[0m\u001b[1;33m[\u001b[0m\u001b[1;34m\"primary_only\"\u001b[0m\u001b[1;33m]\u001b[0m \u001b[1;33m=\u001b[0m \u001b[0mDREAMS_1014\u001b[0m\u001b[1;33m.\u001b[0m\u001b[0mapply\u001b[0m\u001b[1;33m(\u001b[0m\u001b[1;32mlambda\u001b[0m \u001b[0mdf\u001b[0m\u001b[1;33m:\u001b[0m \u001b[0mprimFunc\u001b[0m\u001b[1;33m(\u001b[0m\u001b[0mdf\u001b[0m\u001b[1;33m)\u001b[0m\u001b[1;33m,\u001b[0m\u001b[0maxis\u001b[0m\u001b[1;33m=\u001b[0m\u001b[1;36m1\u001b[0m\u001b[1;33m)\u001b[0m\u001b[1;33m\u001b[0m\u001b[1;33m\u001b[0m\u001b[0m\n\u001b[0m\u001b[0;32m      2\u001b[0m \u001b[0mDREAMS_1519\u001b[0m\u001b[1;33m[\u001b[0m\u001b[1;34m\"primary_only\"\u001b[0m\u001b[1;33m]\u001b[0m \u001b[1;33m=\u001b[0m \u001b[0mDREAMS_1519\u001b[0m\u001b[1;33m.\u001b[0m\u001b[0mapply\u001b[0m\u001b[1;33m(\u001b[0m\u001b[1;32mlambda\u001b[0m \u001b[0mdf\u001b[0m\u001b[1;33m:\u001b[0m \u001b[0mprimFunc\u001b[0m\u001b[1;33m(\u001b[0m\u001b[0mdf\u001b[0m\u001b[1;33m)\u001b[0m\u001b[1;33m,\u001b[0m\u001b[0maxis\u001b[0m\u001b[1;33m=\u001b[0m\u001b[1;36m1\u001b[0m\u001b[1;33m)\u001b[0m\u001b[1;33m\u001b[0m\u001b[1;33m\u001b[0m\u001b[0m\n\u001b[0;32m      3\u001b[0m \u001b[0mDREAMS_2024\u001b[0m\u001b[1;33m[\u001b[0m\u001b[1;34m\"primary_only\"\u001b[0m\u001b[1;33m]\u001b[0m \u001b[1;33m=\u001b[0m \u001b[0mDREAMS_2024\u001b[0m\u001b[1;33m.\u001b[0m\u001b[0mapply\u001b[0m\u001b[1;33m(\u001b[0m\u001b[1;32mlambda\u001b[0m \u001b[0mdf\u001b[0m\u001b[1;33m:\u001b[0m \u001b[0mprimFunc\u001b[0m\u001b[1;33m(\u001b[0m\u001b[0mdf\u001b[0m\u001b[1;33m)\u001b[0m\u001b[1;33m,\u001b[0m\u001b[0maxis\u001b[0m\u001b[1;33m=\u001b[0m\u001b[1;36m1\u001b[0m\u001b[1;33m)\u001b[0m\u001b[1;33m\u001b[0m\u001b[1;33m\u001b[0m\u001b[0m\n\u001b[0;32m      4\u001b[0m \u001b[1;33m\u001b[0m\u001b[0m\n\u001b[0;32m      5\u001b[0m \u001b[0mDREAMS_VALID\u001b[0m\u001b[1;33m[\u001b[0m\u001b[1;34m\"primary_only\"\u001b[0m\u001b[1;33m]\u001b[0m \u001b[1;33m=\u001b[0m \u001b[0mDREAMS_VALID\u001b[0m\u001b[1;33m.\u001b[0m\u001b[0mapply\u001b[0m\u001b[1;33m(\u001b[0m\u001b[1;32mlambda\u001b[0m \u001b[0mdf\u001b[0m\u001b[1;33m:\u001b[0m \u001b[0mprimFunc\u001b[0m\u001b[1;33m(\u001b[0m\u001b[0mdf\u001b[0m\u001b[1;33m)\u001b[0m\u001b[1;33m,\u001b[0m\u001b[0maxis\u001b[0m\u001b[1;33m=\u001b[0m\u001b[1;36m1\u001b[0m\u001b[1;33m)\u001b[0m\u001b[1;33m\u001b[0m\u001b[1;33m\u001b[0m\u001b[0m\n",
      "\u001b[1;31mNameError\u001b[0m: name 'DREAMS_1014' is not defined"
     ]
    }
   ],
   "source": [
    "%%capture\n",
    "DREAMS_1014[\"primary_only\"] = DREAMS_1014.apply(lambda df: primFunc(df),axis=1)\n",
    "DREAMS_1519[\"primary_only\"] = DREAMS_1519.apply(lambda df: primFunc(df),axis=1)\n",
    "DREAMS_2024[\"primary_only\"] = DREAMS_2024.apply(lambda df: primFunc(df),axis=1)\n",
    "\n",
    "DREAMS_VALID[\"primary_only\"] = DREAMS_VALID.apply(lambda df: primFunc(df),axis=1)"
   ]
  },
  {
   "cell_type": "code",
   "execution_count": 8,
   "metadata": {},
   "outputs": [
    {
     "output_type": "execute_result",
     "data": {
      "text/plain": [
       "5127"
      ]
     },
     "metadata": {},
     "execution_count": 8
    }
   ],
   "source": [
    "agyw_prevI = DREAMS_VALID[DREAMS_VALID.primary_only == \"full_primary_only\"]\n",
    "agyw_prevI_1014 = DREAMS_1014[DREAMS_1014.primary_only == \"full_primary_only\"]\n",
    "agyw_prevI_1519 =DREAMS_1519[DREAMS_1519.primary_only == \"full_primary_only\"]\n",
    "agyw_prevI_2024 = DREAMS_2024[DREAMS_2024.primary_only == \"full_primary_only\"]\n",
    "\n",
    "# check\n",
    "agyw_prevI.code.count()\n"
   ]
  },
  {
   "source": [
    "### Pivot Datim 1"
   ],
   "cell_type": "markdown",
   "metadata": {}
  },
  {
   "cell_type": "code",
   "execution_count": 9,
   "metadata": {},
   "outputs": [
    {
     "output_type": "execute_result",
     "data": {
      "text/plain": [
       "Time   0-6 months  07-12 months  13-24 months  Total\n",
       "Age                                                 \n",
       "10-14         458          3831             4   4293\n",
       "15-19         105           615             0    720\n",
       "20-24           1           113             0    114"
      ],
      "text/html": "<div>\n<style scoped>\n    .dataframe tbody tr th:only-of-type {\n        vertical-align: middle;\n    }\n\n    .dataframe tbody tr th {\n        vertical-align: top;\n    }\n\n    .dataframe thead th {\n        text-align: right;\n    }\n</style>\n<table border=\"1\" class=\"dataframe\">\n  <thead>\n    <tr style=\"text-align: right;\">\n      <th>Time</th>\n      <th>0-6 months</th>\n      <th>07-12 months</th>\n      <th>13-24 months</th>\n      <th>Total</th>\n    </tr>\n    <tr>\n      <th>Age</th>\n      <th></th>\n      <th></th>\n      <th></th>\n      <th></th>\n    </tr>\n  </thead>\n  <tbody>\n    <tr>\n      <th>10-14</th>\n      <td>458</td>\n      <td>3831</td>\n      <td>4</td>\n      <td>4293</td>\n    </tr>\n    <tr>\n      <th>15-19</th>\n      <td>105</td>\n      <td>615</td>\n      <td>0</td>\n      <td>720</td>\n    </tr>\n    <tr>\n      <th>20-24</th>\n      <td>1</td>\n      <td>113</td>\n      <td>0</td>\n      <td>114</td>\n    </tr>\n  </tbody>\n</table>\n</div>"
     },
     "metadata": {},
     "execution_count": 9
    }
   ],
   "source": [
    "agyw_prevI_pivot = agyw_prevI.pivot_table(index=[\"age_range\"],columns=[\"agyw_period_range\"], values=\"code\",aggfunc=\"count\",fill_value=0,margins=True,margins_name=\"Total\")\n",
    "agyw_prevI_pivot.rename_axis(index={\"age_range\":\"Age\"},columns={\"agyw_period_range\":\"Time\"},inplace=True)\n",
    "agyw_prevI_pivot_final = agyw_prevI_pivot[:-1]\n",
    "agyw_prevI_pivot_final"
   ]
  },
  {
   "cell_type": "code",
   "execution_count": 10,
   "metadata": {},
   "outputs": [
    {
     "output_type": "execute_result",
     "data": {
      "text/plain": [
       "Time   0-6 months  07-12 months  13-24 months  Total\n",
       "Age                                                 \n",
       "10-14         458          3831             4   4293"
      ],
      "text/html": "<div>\n<style scoped>\n    .dataframe tbody tr th:only-of-type {\n        vertical-align: middle;\n    }\n\n    .dataframe tbody tr th {\n        vertical-align: top;\n    }\n\n    .dataframe thead th {\n        text-align: right;\n    }\n</style>\n<table border=\"1\" class=\"dataframe\">\n  <thead>\n    <tr style=\"text-align: right;\">\n      <th>Time</th>\n      <th>0-6 months</th>\n      <th>07-12 months</th>\n      <th>13-24 months</th>\n      <th>Total</th>\n    </tr>\n    <tr>\n      <th>Age</th>\n      <th></th>\n      <th></th>\n      <th></th>\n      <th></th>\n    </tr>\n  </thead>\n  <tbody>\n    <tr>\n      <th>10-14</th>\n      <td>458</td>\n      <td>3831</td>\n      <td>4</td>\n      <td>4293</td>\n    </tr>\n  </tbody>\n</table>\n</div>"
     },
     "metadata": {},
     "execution_count": 10
    },
    {
     "output_type": "execute_result",
     "data": {
      "text/plain": [
       "Time   0-6 months  07-12 months  Total\n",
       "Age                                   \n",
       "15-19         105           615    720"
      ],
      "text/html": "<div>\n<style scoped>\n    .dataframe tbody tr th:only-of-type {\n        vertical-align: middle;\n    }\n\n    .dataframe tbody tr th {\n        vertical-align: top;\n    }\n\n    .dataframe thead th {\n        text-align: right;\n    }\n</style>\n<table border=\"1\" class=\"dataframe\">\n  <thead>\n    <tr style=\"text-align: right;\">\n      <th>Time</th>\n      <th>0-6 months</th>\n      <th>07-12 months</th>\n      <th>Total</th>\n    </tr>\n    <tr>\n      <th>Age</th>\n      <th></th>\n      <th></th>\n      <th></th>\n    </tr>\n  </thead>\n  <tbody>\n    <tr>\n      <th>15-19</th>\n      <td>105</td>\n      <td>615</td>\n      <td>720</td>\n    </tr>\n  </tbody>\n</table>\n</div>"
     },
     "metadata": {},
     "execution_count": 10
    },
    {
     "output_type": "execute_result",
     "data": {
      "text/plain": [
       "Time   0-6 months  07-12 months  Total\n",
       "Age                                   \n",
       "20-24           1           113    114"
      ],
      "text/html": "<div>\n<style scoped>\n    .dataframe tbody tr th:only-of-type {\n        vertical-align: middle;\n    }\n\n    .dataframe tbody tr th {\n        vertical-align: top;\n    }\n\n    .dataframe thead th {\n        text-align: right;\n    }\n</style>\n<table border=\"1\" class=\"dataframe\">\n  <thead>\n    <tr style=\"text-align: right;\">\n      <th>Time</th>\n      <th>0-6 months</th>\n      <th>07-12 months</th>\n      <th>Total</th>\n    </tr>\n    <tr>\n      <th>Age</th>\n      <th></th>\n      <th></th>\n      <th></th>\n    </tr>\n  </thead>\n  <tbody>\n    <tr>\n      <th>20-24</th>\n      <td>1</td>\n      <td>113</td>\n      <td>114</td>\n    </tr>\n  </tbody>\n</table>\n</div>"
     },
     "metadata": {},
     "execution_count": 10
    }
   ],
   "source": [
    "agyw_prevI_1014_pivot = agyw_prevI_1014.pivot_table(index=[\"age_range\"],columns=[\"agyw_period_range\"], values=\"code\",aggfunc=\"count\",fill_value=0,margins=True,margins_name=\"Total\")\n",
    "agyw_prevI_1014_pivot.rename_axis(index={\"age_range\":\"Age\"},columns={\"agyw_period_range\":\"Time\"},inplace=True)\n",
    "agyw_prevI_1014_pivot_final = agyw_prevI_1014_pivot[:-1]\n",
    "agyw_prevI_1014_pivot_final\n",
    "\n",
    "\n",
    "\n",
    "agyw_prevI_1519_pivot = agyw_prevI_1519.pivot_table(index=[\"age_range\"],columns=[\"agyw_period_range\"], values=\"code\",aggfunc=\"count\",fill_value=0,margins=True,margins_name=\"Total\")\n",
    "agyw_prevI_1519_pivot.rename_axis(index={\"age_range\":\"Age\"},columns={\"agyw_period_range\":\"Time\"},inplace=True)\n",
    "agyw_prevI_1519_pivot_final = agyw_prevI_1519_pivot[:-1]\n",
    "agyw_prevI_1519_pivot_final\n",
    "\n",
    "\n",
    "\n",
    "\n",
    "agyw_prevI_2024_pivot = agyw_prevI_2024.pivot_table(index=[\"age_range\"],columns=[\"agyw_period_range\"], values=\"code\",aggfunc=\"count\",fill_value=0,margins=True,margins_name=\"Total\")\n",
    "agyw_prevI_2024_pivot.rename_axis(index={\"age_range\":\"Age\"},columns={\"agyw_period_range\":\"Time\"},inplace=True)\n",
    "agyw_prevI_2024_pivot_final = agyw_prevI_2024_pivot[:-1]\n",
    "agyw_prevI_2024_pivot_final"
   ]
  },
  {
   "source": [
    "## Process Primary and at least One Secondary\n",
    "\n",
    "---\n",
    "\n",
    "Number of individual AGYW that have fully completed the entire DREAMS primary package of services AND at least one additional secondary service."
   ],
   "cell_type": "markdown",
   "metadata": {}
  },
  {
   "cell_type": "code",
   "execution_count": 11,
   "metadata": {},
   "outputs": [],
   "source": [
    "# primary and least one Secondary services function\n",
    "\n",
    "def primLeastOneSecFunc(df):\n",
    "    if (df.ps_10_14 == \"curriculum-servis\") and (df.hts == \"tested_on_given_date\" or df.condoms == \"tested_on_given_date\" or df.post_care_treatment == \"service_gyneco_vbg\" or df.socio_eco_app == \"service_muso_gardening\" ):\n",
    "        return \"full_primary_leastOneSecondary\"\n",
    "    elif (df.ps_15_19 == \"condoms&curriculum\") and (df.hts == \"tested_on_given_date\" or df.post_care_treatment == \"service_gyneco_vbg\" or df.socio_eco_app == \"service_muso_gardening\" ):\n",
    "        return \"full_primary_leastOneSecondary\"\n",
    "    elif (df.ps_20_24 == \"condoms&hts&curriculum\") and (df.post_care_treatment == \"service_gyneco_vbg\" or df.socio_eco_app == \"service_muso_gardening\" ):\n",
    "        return \"full_primary_leastOneSecondary\"\n",
    "    else:\n",
    "        return \"invalid\""
   ]
  },
  {
   "cell_type": "code",
   "execution_count": 12,
   "metadata": {},
   "outputs": [],
   "source": [
    "%%capture\n",
    "DREAMS_1014[\"primary_and_OneSecondary_services\"] = DREAMS_1014.apply(lambda df: primLeastOneSecFunc(df),axis=1)\n",
    "DREAMS_1519[\"primary_and_OneSecondary_services\"] = DREAMS_1519.apply(lambda df: primLeastOneSecFunc(df),axis=1)\n",
    "DREAMS_2024[\"primary_and_OneSecondary_services\"] = DREAMS_2024.apply(lambda df: primLeastOneSecFunc(df),axis=1)\n",
    "\n",
    "DREAMS_VALID[\"primary_and_OneSecondary_services\"] = DREAMS_VALID.apply(lambda df: primLeastOneSecFunc(df),axis=1)"
   ]
  },
  {
   "cell_type": "code",
   "execution_count": 13,
   "metadata": {},
   "outputs": [
    {
     "output_type": "execute_result",
     "data": {
      "text/plain": [
       "919"
      ]
     },
     "metadata": {},
     "execution_count": 13
    }
   ],
   "source": [
    "agyw_prevII = DREAMS_VALID[DREAMS_VALID.primary_and_OneSecondary_services == \"full_primary_leastOneSecondary\"]\n",
    "agyw_prevII_1014 = DREAMS_1014[DREAMS_1014.primary_and_OneSecondary_services == \"full_primary_leastOneSecondary\"]\n",
    "agyw_prevII_1519 =DREAMS_1519[DREAMS_1519.primary_and_OneSecondary_services == \"full_primary_leastOneSecondary\"]\n",
    "agyw_prevII_2024 = DREAMS_2024[DREAMS_2024.primary_and_OneSecondary_services == \"full_primary_leastOneSecondary\"]\n",
    "\n",
    "# check\n",
    "agyw_prevII.code.count()"
   ]
  },
  {
   "source": [
    "### Pivot Datim 2 "
   ],
   "cell_type": "markdown",
   "metadata": {}
  },
  {
   "cell_type": "code",
   "execution_count": 14,
   "metadata": {},
   "outputs": [
    {
     "output_type": "execute_result",
     "data": {
      "text/plain": [
       "Time   0-6 months  07-12 months  Total\n",
       "Age                                   \n",
       "10-14          34           606    640\n",
       "15-19           4           260    264\n",
       "20-24           0            15     15"
      ],
      "text/html": "<div>\n<style scoped>\n    .dataframe tbody tr th:only-of-type {\n        vertical-align: middle;\n    }\n\n    .dataframe tbody tr th {\n        vertical-align: top;\n    }\n\n    .dataframe thead th {\n        text-align: right;\n    }\n</style>\n<table border=\"1\" class=\"dataframe\">\n  <thead>\n    <tr style=\"text-align: right;\">\n      <th>Time</th>\n      <th>0-6 months</th>\n      <th>07-12 months</th>\n      <th>Total</th>\n    </tr>\n    <tr>\n      <th>Age</th>\n      <th></th>\n      <th></th>\n      <th></th>\n    </tr>\n  </thead>\n  <tbody>\n    <tr>\n      <th>10-14</th>\n      <td>34</td>\n      <td>606</td>\n      <td>640</td>\n    </tr>\n    <tr>\n      <th>15-19</th>\n      <td>4</td>\n      <td>260</td>\n      <td>264</td>\n    </tr>\n    <tr>\n      <th>20-24</th>\n      <td>0</td>\n      <td>15</td>\n      <td>15</td>\n    </tr>\n  </tbody>\n</table>\n</div>"
     },
     "metadata": {},
     "execution_count": 14
    }
   ],
   "source": [
    "agyw_prevII_pivot = agyw_prevII.pivot_table(index=[\"age_range\"],columns=[\"agyw_period_range\"], values=\"code\",aggfunc=\"count\",fill_value=0,margins=True,margins_name=\"Total\")\n",
    "agyw_prevII_pivot.rename_axis(index={\"age_range\":\"Age\"},columns={\"agyw_period_range\":\"Time\"},inplace=True)\n",
    "agyw_prevII_pivot_final = agyw_prevII_pivot[:-1]\n",
    "agyw_prevII_pivot_final"
   ]
  },
  {
   "cell_type": "code",
   "execution_count": 15,
   "metadata": {},
   "outputs": [
    {
     "output_type": "execute_result",
     "data": {
      "text/plain": [
       "Time   0-6 months  07-12 months  Total\n",
       "Age                                   \n",
       "10-14          34           606    640"
      ],
      "text/html": "<div>\n<style scoped>\n    .dataframe tbody tr th:only-of-type {\n        vertical-align: middle;\n    }\n\n    .dataframe tbody tr th {\n        vertical-align: top;\n    }\n\n    .dataframe thead th {\n        text-align: right;\n    }\n</style>\n<table border=\"1\" class=\"dataframe\">\n  <thead>\n    <tr style=\"text-align: right;\">\n      <th>Time</th>\n      <th>0-6 months</th>\n      <th>07-12 months</th>\n      <th>Total</th>\n    </tr>\n    <tr>\n      <th>Age</th>\n      <th></th>\n      <th></th>\n      <th></th>\n    </tr>\n  </thead>\n  <tbody>\n    <tr>\n      <th>10-14</th>\n      <td>34</td>\n      <td>606</td>\n      <td>640</td>\n    </tr>\n  </tbody>\n</table>\n</div>"
     },
     "metadata": {},
     "execution_count": 15
    },
    {
     "output_type": "execute_result",
     "data": {
      "text/plain": [
       "Time   0-6 months  07-12 months  Total\n",
       "Age                                   \n",
       "15-19           4           260    264"
      ],
      "text/html": "<div>\n<style scoped>\n    .dataframe tbody tr th:only-of-type {\n        vertical-align: middle;\n    }\n\n    .dataframe tbody tr th {\n        vertical-align: top;\n    }\n\n    .dataframe thead th {\n        text-align: right;\n    }\n</style>\n<table border=\"1\" class=\"dataframe\">\n  <thead>\n    <tr style=\"text-align: right;\">\n      <th>Time</th>\n      <th>0-6 months</th>\n      <th>07-12 months</th>\n      <th>Total</th>\n    </tr>\n    <tr>\n      <th>Age</th>\n      <th></th>\n      <th></th>\n      <th></th>\n    </tr>\n  </thead>\n  <tbody>\n    <tr>\n      <th>15-19</th>\n      <td>4</td>\n      <td>260</td>\n      <td>264</td>\n    </tr>\n  </tbody>\n</table>\n</div>"
     },
     "metadata": {},
     "execution_count": 15
    },
    {
     "output_type": "execute_result",
     "data": {
      "text/plain": [
       "Time   07-12 months  Total\n",
       "Age                       \n",
       "20-24            15     15"
      ],
      "text/html": "<div>\n<style scoped>\n    .dataframe tbody tr th:only-of-type {\n        vertical-align: middle;\n    }\n\n    .dataframe tbody tr th {\n        vertical-align: top;\n    }\n\n    .dataframe thead th {\n        text-align: right;\n    }\n</style>\n<table border=\"1\" class=\"dataframe\">\n  <thead>\n    <tr style=\"text-align: right;\">\n      <th>Time</th>\n      <th>07-12 months</th>\n      <th>Total</th>\n    </tr>\n    <tr>\n      <th>Age</th>\n      <th></th>\n      <th></th>\n    </tr>\n  </thead>\n  <tbody>\n    <tr>\n      <th>20-24</th>\n      <td>15</td>\n      <td>15</td>\n    </tr>\n  </tbody>\n</table>\n</div>"
     },
     "metadata": {},
     "execution_count": 15
    }
   ],
   "source": [
    "agyw_prevII_1014_pivot = agyw_prevII_1014.pivot_table(index=[\"age_range\"],columns=[\"agyw_period_range\"], values=\"code\",aggfunc=\"count\",fill_value=0,margins=True,margins_name=\"Total\")\n",
    "agyw_prevII_1014_pivot.rename_axis(index={\"age_range\":\"Age\"},columns={\"agyw_period_range\":\"Time\"},inplace=True)\n",
    "agyw_prevII_1014_pivot_final = agyw_prevII_1014_pivot[:-1]\n",
    "agyw_prevII_1014_pivot_final\n",
    "\n",
    "\n",
    "\n",
    "agyw_prevII_1519_pivot = agyw_prevII_1519.pivot_table(index=[\"age_range\"],columns=[\"agyw_period_range\"], values=\"code\",aggfunc=\"count\",fill_value=0,margins=True,margins_name=\"Total\")\n",
    "agyw_prevII_1519_pivot.rename_axis(index={\"age_range\":\"Age\"},columns={\"agyw_period_range\":\"Time\"},inplace=True)\n",
    "agyw_prevII_1519_pivot_final = agyw_prevII_1519_pivot[:-1]\n",
    "agyw_prevII_1519_pivot_final\n",
    "\n",
    "\n",
    "\n",
    "\n",
    "agyw_prevII_2024_pivot = agyw_prevII_2024.pivot_table(index=[\"age_range\"],columns=[\"agyw_period_range\"], values=\"code\",aggfunc=\"count\",fill_value=0,margins=True,margins_name=\"Total\")\n",
    "agyw_prevII_2024_pivot.rename_axis(index={\"age_range\":\"Age\"},columns={\"agyw_period_range\":\"Time\"},inplace=True)\n",
    "agyw_prevII_2024_pivot_final = agyw_prevII_2024_pivot[:-1]\n",
    "agyw_prevII_2024_pivot_final"
   ]
  },
  {
   "source": [
    "## Process Primary Part Only\n",
    "\n",
    "---\n",
    "\n",
    "Number of individual AGYW that have fully completed at least one DREAMS primary package of services but not the full primary package of services."
   ],
   "cell_type": "markdown",
   "metadata": {}
  },
  {
   "cell_type": "code",
   "execution_count": 16,
   "metadata": {},
   "outputs": [],
   "source": [
    "def primPartFunc(df):\n",
    "    if (df.age_range == \"15-19\") and ((df.condoms == \"tested_on_given_date\" and df.dreams_curriculum == \"curriculum_inc\") or (df.condoms == \"errata\" and df.dreams_curriculum == \"curriculum_completed\")):\n",
    "        return \"primary_part_services\"\n",
    "    elif (df.age_range == \"20-24\") and ((df.dreams_curriculum == \"curriculum_completed\" and df.condoms==\"errata\" and df.hts==\"errata\")or(df.dreams_curriculum == \"curriculum_completed\" and df.condoms==\"tested_on_given_date\" and df.hts==\"errata\")or(df.dreams_curriculum == \"curriculum_completed\" and df.condoms==\"errata\" and df.hts==\"tested_on_given_date\")or(df.dreams_curriculum == \"curriculum_inc\" and df.condoms==\"tested_on_given_date\" and df.hts==\"errata\")or(df.dreams_curriculum == \"curriculum_inc\" and df.condoms==\"errata\" and df.hts==\"tested_on_given_date\")or(df.dreams_curriculum == \"curriculum_inc\" and df.condoms==\"tested_on_given_date\" and df.hts==\"tested_on_given_date\")):\n",
    "        return \"primary_part_services\"\n",
    "    else:\n",
    "        return \"invalid\" "
   ]
  },
  {
   "cell_type": "code",
   "execution_count": 17,
   "metadata": {},
   "outputs": [],
   "source": [
    "%%capture\n",
    "DREAMS_1519[\"partial_primary_services\"] = DREAMS_1519.apply(lambda df: primPartFunc(df),axis=1)\n",
    "DREAMS_2024[\"partial_primary_services\"] = DREAMS_2024.apply(lambda df: primPartFunc(df),axis=1)\n",
    "\n",
    "DREAMS_VALID[\"partial_primary_services\"] = DREAMS_VALID.apply(lambda df: primPartFunc(df),axis=1)"
   ]
  },
  {
   "cell_type": "code",
   "execution_count": 18,
   "metadata": {},
   "outputs": [
    {
     "output_type": "execute_result",
     "data": {
      "text/plain": [
       "6460"
      ]
     },
     "metadata": {},
     "execution_count": 18
    }
   ],
   "source": [
    "agyw_prevIII = DREAMS_VALID[DREAMS_VALID.partial_primary_services == \"primary_part_services\"]\n",
    "\n",
    "agyw_prevIII_1519 =DREAMS_1519[DREAMS_1519.partial_primary_services == \"primary_part_services\"]\n",
    "agyw_prevIII_2024 = DREAMS_2024[DREAMS_2024.partial_primary_services == \"primary_part_services\"]\n",
    "\n",
    "# check\n",
    "agyw_prevIII.code.count()"
   ]
  },
  {
   "source": [
    "### Pivot datim 3"
   ],
   "cell_type": "markdown",
   "metadata": {}
  },
  {
   "cell_type": "code",
   "execution_count": 19,
   "metadata": {},
   "outputs": [
    {
     "output_type": "execute_result",
     "data": {
      "text/plain": [
       "Time   0-6 months  07-12 months  13-24 months  Total\n",
       "Age                                                 \n",
       "15-19         408          3509             7   3924\n",
       "20-24         272          2262             2   2536"
      ],
      "text/html": "<div>\n<style scoped>\n    .dataframe tbody tr th:only-of-type {\n        vertical-align: middle;\n    }\n\n    .dataframe tbody tr th {\n        vertical-align: top;\n    }\n\n    .dataframe thead th {\n        text-align: right;\n    }\n</style>\n<table border=\"1\" class=\"dataframe\">\n  <thead>\n    <tr style=\"text-align: right;\">\n      <th>Time</th>\n      <th>0-6 months</th>\n      <th>07-12 months</th>\n      <th>13-24 months</th>\n      <th>Total</th>\n    </tr>\n    <tr>\n      <th>Age</th>\n      <th></th>\n      <th></th>\n      <th></th>\n      <th></th>\n    </tr>\n  </thead>\n  <tbody>\n    <tr>\n      <th>15-19</th>\n      <td>408</td>\n      <td>3509</td>\n      <td>7</td>\n      <td>3924</td>\n    </tr>\n    <tr>\n      <th>20-24</th>\n      <td>272</td>\n      <td>2262</td>\n      <td>2</td>\n      <td>2536</td>\n    </tr>\n  </tbody>\n</table>\n</div>"
     },
     "metadata": {},
     "execution_count": 19
    }
   ],
   "source": [
    "agyw_prevIII_pivot = agyw_prevIII.pivot_table(index=[\"age_range\"],columns=[\"agyw_period_range\"], values=\"code\",aggfunc=\"count\",fill_value=0,margins=True,margins_name=\"Total\")\n",
    "agyw_prevIII_pivot.rename_axis(index={\"age_range\":\"Age\"},columns={\"agyw_period_range\":\"Time\"},inplace=True)\n",
    "agyw_prevIII_pivot_final = agyw_prevIII_pivot[:-1]\n",
    "agyw_prevIII_pivot_final"
   ]
  },
  {
   "cell_type": "code",
   "execution_count": 20,
   "metadata": {},
   "outputs": [
    {
     "output_type": "execute_result",
     "data": {
      "text/plain": [
       "Time   0-6 months  07-12 months  13-24 months  Total\n",
       "Age                                                 \n",
       "15-19         408          3509             7   3924"
      ],
      "text/html": "<div>\n<style scoped>\n    .dataframe tbody tr th:only-of-type {\n        vertical-align: middle;\n    }\n\n    .dataframe tbody tr th {\n        vertical-align: top;\n    }\n\n    .dataframe thead th {\n        text-align: right;\n    }\n</style>\n<table border=\"1\" class=\"dataframe\">\n  <thead>\n    <tr style=\"text-align: right;\">\n      <th>Time</th>\n      <th>0-6 months</th>\n      <th>07-12 months</th>\n      <th>13-24 months</th>\n      <th>Total</th>\n    </tr>\n    <tr>\n      <th>Age</th>\n      <th></th>\n      <th></th>\n      <th></th>\n      <th></th>\n    </tr>\n  </thead>\n  <tbody>\n    <tr>\n      <th>15-19</th>\n      <td>408</td>\n      <td>3509</td>\n      <td>7</td>\n      <td>3924</td>\n    </tr>\n  </tbody>\n</table>\n</div>"
     },
     "metadata": {},
     "execution_count": 20
    },
    {
     "output_type": "execute_result",
     "data": {
      "text/plain": [
       "Time   0-6 months  07-12 months  13-24 months  Total\n",
       "Age                                                 \n",
       "20-24         272          2262             2   2536"
      ],
      "text/html": "<div>\n<style scoped>\n    .dataframe tbody tr th:only-of-type {\n        vertical-align: middle;\n    }\n\n    .dataframe tbody tr th {\n        vertical-align: top;\n    }\n\n    .dataframe thead th {\n        text-align: right;\n    }\n</style>\n<table border=\"1\" class=\"dataframe\">\n  <thead>\n    <tr style=\"text-align: right;\">\n      <th>Time</th>\n      <th>0-6 months</th>\n      <th>07-12 months</th>\n      <th>13-24 months</th>\n      <th>Total</th>\n    </tr>\n    <tr>\n      <th>Age</th>\n      <th></th>\n      <th></th>\n      <th></th>\n      <th></th>\n    </tr>\n  </thead>\n  <tbody>\n    <tr>\n      <th>20-24</th>\n      <td>272</td>\n      <td>2262</td>\n      <td>2</td>\n      <td>2536</td>\n    </tr>\n  </tbody>\n</table>\n</div>"
     },
     "metadata": {},
     "execution_count": 20
    }
   ],
   "source": [
    "\n",
    "agyw_prevIII_1519_pivot = agyw_prevIII_1519.pivot_table(index=[\"age_range\"],columns=[\"agyw_period_range\"], values=\"code\",aggfunc=\"count\",fill_value=0,margins=True,margins_name=\"Total\")\n",
    "agyw_prevIII_1519_pivot.rename_axis(index={\"age_range\":\"Age\"},columns={\"agyw_period_range\":\"Time\"},inplace=True)\n",
    "agyw_prevIII_1519_pivot_final = agyw_prevIII_1519_pivot[:-1]\n",
    "agyw_prevIII_1519_pivot_final\n",
    "\n",
    "\n",
    "\n",
    "\n",
    "agyw_prevIII_2024_pivot = agyw_prevIII_2024.pivot_table(index=[\"age_range\"],columns=[\"agyw_period_range\"], values=\"code\",aggfunc=\"count\",fill_value=0,margins=True,margins_name=\"Total\")\n",
    "agyw_prevIII_2024_pivot.rename_axis(index={\"age_range\":\"Age\"},columns={\"agyw_period_range\":\"Time\"},inplace=True)\n",
    "agyw_prevIII_2024_pivot_final = agyw_prevIII_2024_pivot[:-1]\n",
    "agyw_prevIII_2024_pivot_final"
   ]
  },
  {
   "cell_type": "code",
   "execution_count": 22,
   "metadata": {},
   "outputs": [
    {
     "output_type": "execute_result",
     "data": {
      "text/plain": [
       "array(['Kenscoff', 'Dessalines', 'Pétionville', 'Delmas', 'Gressier',\n",
       "       'Carrefour', 'Saint-Marc', 'Tabarre', 'Verrettes', 'La Chapelle',\n",
       "       'Cap-Haïtien', 'Milot', 'Plaine-du-Nord', 'Liancourt',\n",
       "       'Quartier-Morin', 'Limonade', \"Petite Rivière de l'Artibonite\",\n",
       "       'Montrouis', 'Port-au-Prince', 'Grande Saline', 'Desdunes'],\n",
       "      dtype=object)"
      ]
     },
     "metadata": {},
     "execution_count": 22
    }
   ],
   "source": [
    "DREAMS_VALID.actual_commune.unique()"
   ]
  },
  {
   "source": [
    "# OOP Solution"
   ],
   "cell_type": "markdown",
   "metadata": {}
  },
  {
   "cell_type": "code",
   "execution_count": 69,
   "metadata": {},
   "outputs": [],
   "source": [
    "class AgywPrev:\n",
    "    __mastersheet = DREAMS_MASTERSHEET\n",
    "    __total_mastersheet = AgywPrev.__mastersheet.code.count()\n",
    "\n",
    "    def __init__(self):\n",
    "        self. __total_mastersheet = AgywPrev.__mastersheet.code.count()\n",
    "        self.__DREAMS_VALID = AgywPrev.__mastersheet[(AgywPrev.__mastersheet.age_range !=\"not_valid_age\") & (AgywPrev.__mastersheet.age_range != \"25-29\") & (AgywPrev.__mastersheet.timeOn_system == \"required_Time_on\")]\n",
    "\n",
    "    @property\n",
    "    def total_mastersheet(self):\n",
    "        return self.__total_mastersheet\n"
   ]
  },
  {
   "cell_type": "code",
   "execution_count": 70,
   "metadata": {},
   "outputs": [],
   "source": [
    "test = AgywPrev()"
   ]
  },
  {
   "cell_type": "code",
   "execution_count": 74,
   "metadata": {},
   "outputs": [
    {
     "output_type": "execute_result",
     "data": {
      "text/plain": [
       "23080"
      ]
     },
     "metadata": {},
     "execution_count": 74
    }
   ],
   "source": [
    "test.total_mastersheet "
   ]
  },
  {
   "cell_type": "code",
   "execution_count": null,
   "metadata": {},
   "outputs": [],
   "source": []
  }
 ],
 "metadata": {
  "kernelspec": {
   "name": "python392jvsc74a57bd04534460e0bdca1b390927d45471088fb3501d39abc4e3f2cee293892e17d7fc6",
   "display_name": "Python 3.9.2 64-bit"
  },
  "language_info": {
   "codemirror_mode": {
    "name": "ipython",
    "version": 3
   },
   "file_extension": ".py",
   "mimetype": "text/x-python",
   "name": "python",
   "nbconvert_exporter": "python",
   "pygments_lexer": "ipython3",
   "version": "3.9.2"
  }
 },
 "nbformat": 4,
 "nbformat_minor": 5
}