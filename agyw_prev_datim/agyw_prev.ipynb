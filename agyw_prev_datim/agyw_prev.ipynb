{
 "cells": [
  {
   "cell_type": "markdown",
   "source": [
    "# AGYW_PREV DATIM"
   ],
   "metadata": {}
  },
  {
   "cell_type": "code",
   "execution_count": 1,
   "source": [
    "# load the modules\r\n",
    "from layeringOfServices import DREAMS_MASTERSHEET\r\n",
    "#multiples outputs\r\n",
    "from IPython.core.interactiveshell import InteractiveShell\r\n",
    "InteractiveShell.ast_node_interactivity = \"all\""
   ],
   "outputs": [],
   "metadata": {
    "tags": []
   }
  },
  {
   "cell_type": "code",
   "execution_count": null,
   "source": [
    "from re import sub\r\n",
    "from pandas import DataFrame"
   ],
   "outputs": [],
   "metadata": {}
  },
  {
   "cell_type": "code",
   "execution_count": null,
   "source": [
    "DREAMS_MASTERSHEET.init_prep.unique()\r\n",
    "DREAMS_MASTERSHEET.new_condoms.unique()"
   ],
   "outputs": [
    {
     "output_type": "execute_result",
     "data": {
      "text/plain": [
       "array(['errata', 'tested_on_given_date'], dtype=object)"
      ]
     },
     "metadata": {},
     "execution_count": 56
    },
    {
     "output_type": "execute_result",
     "data": {
      "text/plain": [
       "array(['no', 'sensOuRecu'], dtype=object)"
      ]
     },
     "metadata": {},
     "execution_count": 56
    }
   ],
   "metadata": {}
  },
  {
   "cell_type": "markdown",
   "source": [
    "## AGYW_PREV"
   ],
   "metadata": {}
  },
  {
   "cell_type": "code",
   "execution_count": null,
   "source": [
    "pipo = list(DREAMS_MASTERSHEET.agyw_period_range.unique())\r\n",
    "pipo.append(\"Total\")\r\n",
    "sorted(list(DREAMS_MASTERSHEET.age_range.unique())[1:4])"
   ],
   "outputs": [
    {
     "output_type": "execute_result",
     "data": {
      "text/plain": [
       "['10-14', '15-19', '20-24']"
      ]
     },
     "metadata": {},
     "execution_count": 31
    }
   ],
   "metadata": {}
  },
  {
   "cell_type": "code",
   "execution_count": null,
   "source": [
    "sorted(pipo)\r\n"
   ],
   "outputs": [
    {
     "output_type": "execute_result",
     "data": {
      "text/plain": [
       "['0-6 months', '07-12 months', '13-24 months', '25+ months', 'Total']"
      ]
     },
     "metadata": {},
     "execution_count": 32
    }
   ],
   "metadata": {}
  },
  {
   "cell_type": "code",
   "execution_count": null,
   "source": [
    "class AgywPrev:\r\n",
    "    \"\"\"A class with properties and methods given the results of the indicator AGYW_PREV DATIM\"\"\" \r\n",
    "    __who_am_I =\"DATIM\"\r\n",
    "    __datim1_title=\"Number of individual AGYW that have fully completed the entire DREAMS primary package of services but have not received any services beyond the primary package.\"\r\n",
    "    __datim2_title=\"Number of individual AGYW that have fully completed the entire DREAMS primary package of services AND at least one additional secondary service.\"\r\n",
    "    __datim3_title=\"Number of individual AGYW that have fully completed at least one DREAMS primary package of services but not the full primary package of services.\"\r\n",
    "    \r\n",
    "    def __repr__(self):\r\n",
    "        return f\"<AgywPrev {self.__i_am}>\"\r\n",
    "    \r\n",
    "    def __str__(self):\r\n",
    "        return f\"<AgywPrev {self.__i_am}>\"\r\n",
    "    \r\n",
    "    @classmethod\r\n",
    "    def datim_titleI(cls):\r\n",
    "        return cls.__datim1_title\r\n",
    "    \r\n",
    "    @classmethod\r\n",
    "    def datim_titleII(cls):\r\n",
    "        return cls.__datim2_title\r\n",
    "    \r\n",
    "    @classmethod\r\n",
    "    def datim_titleIII(cls):\r\n",
    "        return cls.__datim3_title\r\n",
    "    \r\n",
    "    \r\n",
    "    def __init__(self,commune=None):\r\n",
    "        self.__commune = commune\r\n",
    "        self.__i_am = f\"{AgywPrev.__who_am_I}\"\r\n",
    "        self.__data =  DREAMS_MASTERSHEET\r\n",
    "        self. __total_mastersheet = self.__data.code.count()\r\n",
    "        if self.__commune == None:\r\n",
    "            self.__dreams_valid = self.__data[(self.__data.age_range !=\"not_valid_age\") & (self.__data.age_range != \"25-29\") & (self.__data.timeOn_system == \"required_Time_on\")]\r\n",
    "        else:\r\n",
    "            self.__dreams_valid = self.__data[(self.__data.age_range !=\"not_valid_age\") & (self.__data.age_range != \"25-29\") & (self.__data.timeOn_system == \"required_Time_on\")&(self.__data.actual_commune == f\"{self.__commune}\")]\r\n",
    "        self.__total_dreams_valid = self.__dreams_valid.code.count()\r\n",
    "        self.__dreams_valid[\"primary_only\"] = self.__dreams_valid.apply(lambda df: self.__primFunc(df),axis=1)\r\n",
    "        self.__dreams_valid[\"primary_and_OneSecondary_services\"] = self.__dreams_valid.apply(lambda df: self.__primLeastOneSecFunc(df),axis=1)\r\n",
    "        self.__dreams_valid[\"partial_primary_services\"] = self.__dreams_valid.apply(lambda df: self.__primPartFunc(df),axis=1)\r\n",
    "        self.__agyw_prevI = self.__dreams_valid[self.__dreams_valid.primary_only == \"full_primary_only\"]\r\n",
    "        self.__agyw_prevII = self.__dreams_valid[self.__dreams_valid.primary_and_OneSecondary_services == \"full_primary_leastOneSecondary\"]\r\n",
    "        self.__agyw_prevIII = self.__dreams_valid[self.__dreams_valid.partial_primary_services == \"primary_part_services\"]  \r\n",
    "        self.__agyw_prevI_total = self.__agyw_prevI.code.count()\r\n",
    "        self.__agyw_prevII_total = self.__agyw_prevII.code.count()\r\n",
    "        self.__agyw_prevIII_total = self.__agyw_prevIII.code.count()\r\n",
    "        self.__total_datim = self.__agyw_prevI_total + self.__agyw_prevII_total + self.__agyw_prevIII_total\r\n",
    "        \r\n",
    "        \r\n",
    "    @property\r\n",
    "    def who_am_i(self):\r\n",
    "        return self.__i_am\r\n",
    "    \r\n",
    "    @property\r\n",
    "    def data_mastersheet(self):\r\n",
    "        return self.__data\r\n",
    "    \r\n",
    "    @property\r\n",
    "    def data_dreams_valid(self):\r\n",
    "        return self.__dreams_valid\r\n",
    "\r\n",
    "    @property\r\n",
    "    def total_mastersheet(self):\r\n",
    "        return self.__total_mastersheet\r\n",
    "\r\n",
    "    @property\r\n",
    "    def total_dreams_valid(self):\r\n",
    "        return self.__total_dreams_valid\r\n",
    "    \r\n",
    "    def __primFunc(self,df):\r\n",
    "        if (df.ps_10_14 == \"curriculum-servis\" and df.hts == \"errata\" and df.init_prep==\"errata\" and df.new_condoms == \"no\" and df.post_care_treatment == \"no\" and df.socio_eco_app == \"no\" ): #df.condoms == \"errata\"\r\n",
    "            return \"full_primary_only\"\r\n",
    "        elif (df.ps_15_19 == \"condoms&curriculum\" and df.hts == \"errata\" and df.init_prep==\"errata\"  and df.post_care_treatment == \"no\" and df.socio_eco_app == \"no\" ):\r\n",
    "            return \"full_primary_only\"\r\n",
    "        #elif (df.ps_20_24 == \"condoms&hts&curriculum\"  and df.post_care_treatment == \"no\" and df.socio_eco_app == \"no\" ):\r\n",
    "        elif (df.ps_20_24 == \"condoms&curriculum\" and df.hts == \"errata\" and df.init_prep==\"errata\"  and df.post_care_treatment == \"no\" and df.socio_eco_app == \"no\" ):\r\n",
    "            return \"full_primary_only\"\r\n",
    "        else:\r\n",
    "            return \"invalid\"\r\n",
    "    \r\n",
    "    def __primLeastOneSecFunc(self,df):\r\n",
    "        if (df.ps_10_14 == \"curriculum-servis\") and (df.hts == \"tested_on_given_date\" or df.init_prep==\"tested_on_given_date\" or df.new_condoms == \"sensOuRecu\" or df.post_care_treatment == \"service_gyneco_vbg\" or df.socio_eco_app == \"service_muso_gardening\" ):\r\n",
    "            return \"full_primary_leastOneSecondary\"\r\n",
    "        elif (df.ps_15_19 == \"condoms&curriculum\") and (df.hts == \"tested_on_given_date\" or df.init_prep==\"tested_on_given_date\" or df.post_care_treatment == \"service_gyneco_vbg\" or df.socio_eco_app == \"service_muso_gardening\" ):\r\n",
    "            return \"full_primary_leastOneSecondary\"\r\n",
    "        #elif (df.ps_20_24 == \"condoms&hts&curriculum\") and (df.post_care_treatment == \"service_gyneco_vbg\" or df.socio_eco_app == \"service_muso_gardening\" ):\r\n",
    "        elif (df.ps_20_24 == \"condoms&curriculum\") and (df.hts == \"tested_on_given_date\" or df.init_prep==\"tested_on_given_date\"  or df.post_care_treatment == \"service_gyneco_vbg\" or df.socio_eco_app == \"service_muso_gardening\" ):\r\n",
    "            return \"full_primary_leastOneSecondary\"\r\n",
    "        else:\r\n",
    "            return \"invalid\"\r\n",
    "        \r\n",
    "    def __primPartFunc(self,df):\r\n",
    "        if (df.age_range == \"15-19\") and ((df.new_condoms == \"sensOuRecu\" and df.dreams_curriculum == \"curriculum_inc\") or (df.new_condoms == \"no\" and df.dreams_curriculum == \"curriculum_completed\")): #df.condoms == \"tested_on_given_date\"\r\n",
    "            return \"primary_part_services\"\r\n",
    "        #elif (df.age_range == \"20-24\") and ((df.dreams_curriculum == \"curriculum_completed\" and df.condoms==\"errata\" and df.hts==\"errata\")or(df.dreams_curriculum == \"curriculum_completed\" and df.condoms==\"tested_on_given_date\" and df.hts==\"errata\")or(df.dreams_curriculum == \"curriculum_completed\" and df.condoms==\"errata\" and df.hts==\"tested_on_given_date\")or(df.dreams_curriculum == \"curriculum_inc\" and df.condoms==\"tested_on_given_date\" and df.hts==\"errata\")or(df.dreams_curriculum == \"curriculum_inc\" and df.condoms==\"errata\" and df.hts==\"tested_on_given_date\")or(df.dreams_curriculum == \"curriculum_inc\" and df.condoms==\"tested_on_given_date\" and df.hts==\"tested_on_given_date\")):\r\n",
    "        elif (df.age_range == \"20-24\") and ((df.new_condoms == \"sensOuRecu\" and df.dreams_curriculum == \"curriculum_inc\") or (df.new_condoms == \"no\" and df.dreams_curriculum == \"curriculum_completed\")):\r\n",
    "            return \"primary_part_services\"\r\n",
    "        else:\r\n",
    "            return \"invalid\"\r\n",
    "         \r\n",
    "    @property\r\n",
    "    def total_datimI(self):\r\n",
    "        return self.__agyw_prevI_total\r\n",
    "    \r\n",
    "    @property\r\n",
    "    def total_datimII(self):\r\n",
    "        return self.__agyw_prevII_total\r\n",
    "    \r\n",
    "    @property\r\n",
    "    def total_datimIII(self):\r\n",
    "        return self.__agyw_prevIII_total\r\n",
    "    \r\n",
    "    @property\r\n",
    "    def total_datim_general(self):\r\n",
    "        return self.__total_datim\r\n",
    "    \r\n",
    "    @property\r\n",
    "    def data_agyw_prevI(self):\r\n",
    "        return self.__agyw_prevI\r\n",
    "\r\n",
    "    @property\r\n",
    "    def data_agyw_prevII(self):\r\n",
    "        return self.__agyw_prevII\r\n",
    "\r\n",
    "    @property\r\n",
    "    def data_agyw_prevIII(self):\r\n",
    "        return self.__agyw_prevIII\r\n",
    "\r\n",
    "    __PERIOD_DATIM = sorted(list(DREAMS_MASTERSHEET.agyw_period_range.unique()))\r\n",
    "    __PERIOD_DATIM.append(\"Total\")\r\n",
    "    __AGE_DATIM = sorted(list(DREAMS_MASTERSHEET.age_range.unique())[1:4])\r\n",
    "    def datim_agyw_prevI(self):\r\n",
    "        \r\n",
    "        try:\r\n",
    "            pivotableI = self.__agyw_prevI.rename(columns={\"age_range\":\"Age\", \"agyw_period_range\":\"Time\"})\r\n",
    "            agyw_prevI_pivot = pivotableI.pivot_table(index=\"Age\",columns=\"Time\", values=\"code\",aggfunc=\"count\",fill_value=0,margins=True,margins_name=\"Total\",dropna=False)[:-1]\r\n",
    "            columns_pivotI = list(agyw_prevI_pivot.columns)\r\n",
    "            indexes_pivotI = list(agyw_prevI_pivot.index)\r\n",
    "            for period in AgywPrev.__PERIOD_DATIM:\r\n",
    "                if period not in columns_pivotI:\r\n",
    "                    agyw_prevI_pivot[period] = 0\r\n",
    "            for age in AgywPrev.__AGE_DATIM:\r\n",
    "                if age not in indexes_pivotI:\r\n",
    "                    agyw_prevI_pivot.loc[age] = 0\r\n",
    "            agyw_prevI_pivot = agyw_prevI_pivot.reindex(index=AgywPrev.__AGE_DATIM, columns =AgywPrev.__PERIOD_DATIM)\r\n",
    "            agyw_prevI_pivot_final = agyw_prevI_pivot.reset_index().rename_axis(None, axis=1)\r\n",
    "            agyw_prevI_results_final = DataFrame( agyw_prevI_pivot_final.to_records(index=False))\r\n",
    "        except ValueError:\r\n",
    "            agyw_prevI_results_final = DataFrame({\"Age\":[\"10-14\",\"15-19\",\r\n",
    "                \"20-24\"],\r\n",
    "                \"0-6 months\":[0,0,0],\r\n",
    "                \"07-12 months\":[0,0,0],\r\n",
    "                \"13-24 months\":[0,0,0],\r\n",
    "                \"25+ months\":[0,0,0],\r\n",
    "                \"Total\":[0,0,0]\r\n",
    "            })\r\n",
    "        return agyw_prevI_results_final\r\n",
    "    \r\n",
    "    def datim_agyw_prevII(self):\r\n",
    "        try:\r\n",
    "            pivotableII = self.__agyw_prevII.rename(columns={\"age_range\":\"Age\", \"agyw_period_range\":\"Time\"})\r\n",
    "            agyw_prevII_pivot = pivotableII.pivot_table(index=\"Age\",columns=\"Time\", values=\"code\",aggfunc=\"count\",fill_value=0,margins=True,margins_name=\"Total\",dropna=False)[:-1]\r\n",
    "            columns_pivotII = list(agyw_prevII_pivot.columns)\r\n",
    "            indexes_pivotII = list(agyw_prevII_pivot.index)\r\n",
    "            for period in AgywPrev.__PERIOD_DATIM:\r\n",
    "                if period not in columns_pivotII:\r\n",
    "                    agyw_prevII_pivot[period] = 0\r\n",
    "            for age in AgywPrev.__AGE_DATIM:\r\n",
    "                if age not in indexes_pivotII:\r\n",
    "                    agyw_prevII_pivot.loc[age] = 0\r\n",
    "            agyw_prevII_pivot = agyw_prevII_pivot.reindex(index=AgywPrev.__AGE_DATIM,columns =AgywPrev.__PERIOD_DATIM)            \r\n",
    "            agyw_prevII_pivot_final = agyw_prevII_pivot.reset_index().rename_axis(None, axis=1)\r\n",
    "            agyw_prevII_results_final = DataFrame( agyw_prevII_pivot_final.to_records(index=False))\r\n",
    "        except ValueError:\r\n",
    "            agyw_prevII_results_final = DataFrame({\"Age\":[\"10-14\", \"15-19\",\r\n",
    "                \"20-24\"],\r\n",
    "                \"0-6 months\":[0,0,0],\r\n",
    "                \"07-12 months\":[0,0,0],\r\n",
    "                \"13-24 months\":[0,0,0],\r\n",
    "                \"25+ months\":[0,0,0],\r\n",
    "                \"Total\":[0,0,0]\r\n",
    "            })\r\n",
    "        return agyw_prevII_results_final\r\n",
    "    \r\n",
    "    def datim_agyw_prevIII(self):\r\n",
    "        try:\r\n",
    "            pivotableIII = self.__agyw_prevIII.rename(columns={\"age_range\":\"Age\", \"agyw_period_range\":\"Time\"})\r\n",
    "            agyw_prevIII_pivot = pivotableIII.pivot_table(index=\"Age\",columns=\"Time\", values=\"code\",aggfunc=\"count\",fill_value=0,margins=True,margins_name=\"Total\",dropna=False)[:-1]\r\n",
    "            columns_pivotIII = list(agyw_prevIII_pivot.columns)\r\n",
    "            indexes_pivotIII = list(agyw_prevIII_pivot.index)\r\n",
    "            for period in AgywPrev.__PERIOD_DATIM:\r\n",
    "                if period not in columns_pivotIII:\r\n",
    "                    agyw_prevIII_pivot[period] = 0\r\n",
    "            for age in AgywPrev.__AGE_DATIM:\r\n",
    "                if age not in indexes_pivotIII:\r\n",
    "                    agyw_prevIII_pivot.loc[age] = 0\r\n",
    "            agyw_prevIII_pivot = agyw_prevIII_pivot.reindex(index=AgywPrev.__AGE_DATIM,columns =AgywPrev.__PERIOD_DATIM)\r\n",
    "            agyw_prevIII_pivot_final = agyw_prevIII_pivot.reset_index().rename_axis(None, axis=1)\r\n",
    "            agyw_prevIII_results_final = DataFrame( agyw_prevIII_pivot_final.to_records(index=False))\r\n",
    "        except ValueError:\r\n",
    "            agyw_prevIII_results_final = DataFrame({\"Age\":[\"10-14\",                     \"15-19\",\r\n",
    "                \"20-24\"],\r\n",
    "                \"0-6 months\":[0,0,0],\r\n",
    "                \"07-12 months\":[0,0,0],\r\n",
    "                \"13-24 months\":[0,0,0],\r\n",
    "                \"25+ months\":[0,0,0],\r\n",
    "                \"Total\":[0,0,0]\r\n",
    "            })\r\n",
    "        return agyw_prevIII_results_final"
   ],
   "outputs": [],
   "metadata": {}
  },
  {
   "cell_type": "code",
   "execution_count": null,
   "source": [
    "%%capture\r\n",
    "datim = AgywPrev()"
   ],
   "outputs": [],
   "metadata": {}
  },
  {
   "cell_type": "code",
   "execution_count": null,
   "source": [
    "datim.total_mastersheet \r\n",
    "datim.total_dreams_valid\r\n",
    "datim.who_am_i\r\n",
    "datim.total_datimI\r\n",
    "datim.total_datimII\r\n",
    "datim.total_datimIII\r\n",
    "datim.total_datim_general\r\n",
    "AgywPrev.datim_titleI()\r\n",
    "datim.datim_agyw_prevI()\r\n",
    "AgywPrev.datim_titleII()\r\n",
    "datim.datim_agyw_prevII()\r\n",
    "AgywPrev.datim_titleIII()\r\n",
    "datim.datim_agyw_prevIII()"
   ],
   "outputs": [
    {
     "output_type": "execute_result",
     "data": {
      "text/plain": [
       "27198"
      ]
     },
     "metadata": {},
     "execution_count": 59
    },
    {
     "output_type": "execute_result",
     "data": {
      "text/plain": [
       "18178"
      ]
     },
     "metadata": {},
     "execution_count": 59
    },
    {
     "output_type": "execute_result",
     "data": {
      "text/plain": [
       "'DATIM'"
      ]
     },
     "metadata": {},
     "execution_count": 59
    },
    {
     "output_type": "execute_result",
     "data": {
      "text/plain": [
       "6825"
      ]
     },
     "metadata": {},
     "execution_count": 59
    },
    {
     "output_type": "execute_result",
     "data": {
      "text/plain": [
       "1392"
      ]
     },
     "metadata": {},
     "execution_count": 59
    },
    {
     "output_type": "execute_result",
     "data": {
      "text/plain": [
       "6807"
      ]
     },
     "metadata": {},
     "execution_count": 59
    },
    {
     "output_type": "execute_result",
     "data": {
      "text/plain": [
       "15024"
      ]
     },
     "metadata": {},
     "execution_count": 59
    },
    {
     "output_type": "execute_result",
     "data": {
      "text/plain": [
       "'Number of individual AGYW that have fully completed the entire DREAMS primary package of services but have not received any services beyond the primary package.'"
      ]
     },
     "metadata": {},
     "execution_count": 59
    },
    {
     "output_type": "execute_result",
     "data": {
      "text/plain": [
       "     Age  0-6 months  07-12 months  13-24 months  25+ months  Total\n",
       "0  10-14         752          1881          2520           0   5153\n",
       "1  15-19         133           468           424           0   1025\n",
       "2  20-24          42           322           283           0    647"
      ],
      "text/html": [
       "<div>\n",
       "<style scoped>\n",
       "    .dataframe tbody tr th:only-of-type {\n",
       "        vertical-align: middle;\n",
       "    }\n",
       "\n",
       "    .dataframe tbody tr th {\n",
       "        vertical-align: top;\n",
       "    }\n",
       "\n",
       "    .dataframe thead th {\n",
       "        text-align: right;\n",
       "    }\n",
       "</style>\n",
       "<table border=\"1\" class=\"dataframe\">\n",
       "  <thead>\n",
       "    <tr style=\"text-align: right;\">\n",
       "      <th></th>\n",
       "      <th>Age</th>\n",
       "      <th>0-6 months</th>\n",
       "      <th>07-12 months</th>\n",
       "      <th>13-24 months</th>\n",
       "      <th>25+ months</th>\n",
       "      <th>Total</th>\n",
       "    </tr>\n",
       "  </thead>\n",
       "  <tbody>\n",
       "    <tr>\n",
       "      <th>0</th>\n",
       "      <td>10-14</td>\n",
       "      <td>752</td>\n",
       "      <td>1881</td>\n",
       "      <td>2520</td>\n",
       "      <td>0</td>\n",
       "      <td>5153</td>\n",
       "    </tr>\n",
       "    <tr>\n",
       "      <th>1</th>\n",
       "      <td>15-19</td>\n",
       "      <td>133</td>\n",
       "      <td>468</td>\n",
       "      <td>424</td>\n",
       "      <td>0</td>\n",
       "      <td>1025</td>\n",
       "    </tr>\n",
       "    <tr>\n",
       "      <th>2</th>\n",
       "      <td>20-24</td>\n",
       "      <td>42</td>\n",
       "      <td>322</td>\n",
       "      <td>283</td>\n",
       "      <td>0</td>\n",
       "      <td>647</td>\n",
       "    </tr>\n",
       "  </tbody>\n",
       "</table>\n",
       "</div>"
      ]
     },
     "metadata": {},
     "execution_count": 59
    },
    {
     "output_type": "execute_result",
     "data": {
      "text/plain": [
       "'Number of individual AGYW that have fully completed the entire DREAMS primary package of services AND at least one additional secondary service.'"
      ]
     },
     "metadata": {},
     "execution_count": 59
    },
    {
     "output_type": "execute_result",
     "data": {
      "text/plain": [
       "     Age  0-6 months  07-12 months  13-24 months  25+ months  Total\n",
       "0  10-14          68           377           359           0    804\n",
       "1  15-19          30           121           177           0    328\n",
       "2  20-24          28            97           135           0    260"
      ],
      "text/html": [
       "<div>\n",
       "<style scoped>\n",
       "    .dataframe tbody tr th:only-of-type {\n",
       "        vertical-align: middle;\n",
       "    }\n",
       "\n",
       "    .dataframe tbody tr th {\n",
       "        vertical-align: top;\n",
       "    }\n",
       "\n",
       "    .dataframe thead th {\n",
       "        text-align: right;\n",
       "    }\n",
       "</style>\n",
       "<table border=\"1\" class=\"dataframe\">\n",
       "  <thead>\n",
       "    <tr style=\"text-align: right;\">\n",
       "      <th></th>\n",
       "      <th>Age</th>\n",
       "      <th>0-6 months</th>\n",
       "      <th>07-12 months</th>\n",
       "      <th>13-24 months</th>\n",
       "      <th>25+ months</th>\n",
       "      <th>Total</th>\n",
       "    </tr>\n",
       "  </thead>\n",
       "  <tbody>\n",
       "    <tr>\n",
       "      <th>0</th>\n",
       "      <td>10-14</td>\n",
       "      <td>68</td>\n",
       "      <td>377</td>\n",
       "      <td>359</td>\n",
       "      <td>0</td>\n",
       "      <td>804</td>\n",
       "    </tr>\n",
       "    <tr>\n",
       "      <th>1</th>\n",
       "      <td>15-19</td>\n",
       "      <td>30</td>\n",
       "      <td>121</td>\n",
       "      <td>177</td>\n",
       "      <td>0</td>\n",
       "      <td>328</td>\n",
       "    </tr>\n",
       "    <tr>\n",
       "      <th>2</th>\n",
       "      <td>20-24</td>\n",
       "      <td>28</td>\n",
       "      <td>97</td>\n",
       "      <td>135</td>\n",
       "      <td>0</td>\n",
       "      <td>260</td>\n",
       "    </tr>\n",
       "  </tbody>\n",
       "</table>\n",
       "</div>"
      ]
     },
     "metadata": {},
     "execution_count": 59
    },
    {
     "output_type": "execute_result",
     "data": {
      "text/plain": [
       "'Number of individual AGYW that have fully completed at least one DREAMS primary package of services but not the full primary package of services.'"
      ]
     },
     "metadata": {},
     "execution_count": 59
    },
    {
     "output_type": "execute_result",
     "data": {
      "text/plain": [
       "     Age  0-6 months  07-12 months  13-24 months  25+ months  Total\n",
       "0  10-14           0             0             0           0      0\n",
       "1  15-19         434          1693          2531           0   4658\n",
       "2  20-24         164           818          1167           0   2149"
      ],
      "text/html": [
       "<div>\n",
       "<style scoped>\n",
       "    .dataframe tbody tr th:only-of-type {\n",
       "        vertical-align: middle;\n",
       "    }\n",
       "\n",
       "    .dataframe tbody tr th {\n",
       "        vertical-align: top;\n",
       "    }\n",
       "\n",
       "    .dataframe thead th {\n",
       "        text-align: right;\n",
       "    }\n",
       "</style>\n",
       "<table border=\"1\" class=\"dataframe\">\n",
       "  <thead>\n",
       "    <tr style=\"text-align: right;\">\n",
       "      <th></th>\n",
       "      <th>Age</th>\n",
       "      <th>0-6 months</th>\n",
       "      <th>07-12 months</th>\n",
       "      <th>13-24 months</th>\n",
       "      <th>25+ months</th>\n",
       "      <th>Total</th>\n",
       "    </tr>\n",
       "  </thead>\n",
       "  <tbody>\n",
       "    <tr>\n",
       "      <th>0</th>\n",
       "      <td>10-14</td>\n",
       "      <td>0</td>\n",
       "      <td>0</td>\n",
       "      <td>0</td>\n",
       "      <td>0</td>\n",
       "      <td>0</td>\n",
       "    </tr>\n",
       "    <tr>\n",
       "      <th>1</th>\n",
       "      <td>15-19</td>\n",
       "      <td>434</td>\n",
       "      <td>1693</td>\n",
       "      <td>2531</td>\n",
       "      <td>0</td>\n",
       "      <td>4658</td>\n",
       "    </tr>\n",
       "    <tr>\n",
       "      <th>2</th>\n",
       "      <td>20-24</td>\n",
       "      <td>164</td>\n",
       "      <td>818</td>\n",
       "      <td>1167</td>\n",
       "      <td>0</td>\n",
       "      <td>2149</td>\n",
       "    </tr>\n",
       "  </tbody>\n",
       "</table>\n",
       "</div>"
      ]
     },
     "metadata": {},
     "execution_count": 59
    }
   ],
   "metadata": {}
  },
  {
   "cell_type": "code",
   "execution_count": null,
   "source": [
    "datim"
   ],
   "outputs": [
    {
     "output_type": "execute_result",
     "data": {
      "text/plain": [
       "<AgywPrev DATIM>"
      ]
     },
     "metadata": {},
     "execution_count": 60
    }
   ],
   "metadata": {}
  },
  {
   "cell_type": "markdown",
   "source": [
    "## AGYW_Prev_Commune"
   ],
   "metadata": {}
  },
  {
   "cell_type": "code",
   "execution_count": null,
   "source": [
    "class AgywPrevCommune(AgywPrev):\r\n",
    "    \"\"\"A class that extend AgywPrev with the purpose of the indicator AGYW_PREV DATIM by commune\"\"\"\r\n",
    "    __who_am_I =\"DATIM\"\r\n",
    "    def __init__(self,name):\r\n",
    "        self.__name = name\r\n",
    "        self.__i_am = f\"{AgywPrevCommune.__who_am_I} {self.__name}\"\r\n",
    "        #self.__data =  DREAMS_MASTERSHEET\r\n",
    "        super().__init__(self.__name)\r\n",
    "        \r\n",
    "    @property\r\n",
    "    def who_am_i(self):\r\n",
    "        return self.__i_am\r\n",
    "    \r\n",
    "    def __repr__(self):\r\n",
    "        return f\"<AgywPrevCommune {self.__i_am}>\"\r\n",
    "    \r\n",
    "    def __str__(self):\r\n",
    "        return f\"<AgywPrevCommune {self.__i_am}>\"\r\n",
    "      \r\n",
    "        \r\n",
    "    \r\n",
    "        \r\n",
    "        \r\n",
    "\r\n",
    "        "
   ],
   "outputs": [],
   "metadata": {}
  },
  {
   "cell_type": "code",
   "execution_count": null,
   "source": [
    "DREAMS_MASTERSHEET.actual_commune.unique()"
   ],
   "outputs": [
    {
     "output_type": "execute_result",
     "data": {
      "text/plain": [
       "array(['Verrettes', 'Delmas', 'Port-au-Prince', 'Carrefour', 'Limonade',\n",
       "       'Plaine-du-Nord', 'Cap-Haïtien', 'Kenscoff', 'Dessalines',\n",
       "       'Pétionville', 'Gressier', 'Saint-Marc', 'Tabarre', 'La Chapelle',\n",
       "       'Milot', 'Liancourt', 'Quartier-Morin',\n",
       "       \"Petite Rivière de l'Artibonite\", 'Grande Saline', 'Montrouis',\n",
       "       'Desdunes'], dtype=object)"
      ]
     },
     "metadata": {},
     "execution_count": 62
    }
   ],
   "metadata": {}
  },
  {
   "cell_type": "markdown",
   "source": [
    "## dynamic"
   ],
   "metadata": {}
  },
  {
   "cell_type": "code",
   "execution_count": null,
   "source": [
    "%%capture\r\n",
    "def name_handler(s):\r\n",
    "    s = sub(r\"[^\\w\\s]\", '', s)\r\n",
    "    # Replace all runs of whitespace with a single dash\r\n",
    "    s = sub(r\"\\s+\", '_', s)\r\n",
    "    return s\r\n",
    "\r\n",
    "datimcommunes = []\r\n",
    "\r\n",
    "for columns in DREAMS_MASTERSHEET.actual_commune.unique():\r\n",
    "    globals()[f\"datim_{name_handler(columns)}\"] = AgywPrevCommune(f\"{columns}\")\r\n",
    "    datimcommunes.append(globals().get(f\"datim_{name_handler(columns)}\"))\r\n",
    "   "
   ],
   "outputs": [],
   "metadata": {}
  },
  {
   "cell_type": "code",
   "execution_count": null,
   "source": [
    "datimcommunes"
   ],
   "outputs": [
    {
     "output_type": "execute_result",
     "data": {
      "text/plain": [
       "[<AgywPrevCommune DATIM Verrettes>,\n",
       " <AgywPrevCommune DATIM Delmas>,\n",
       " <AgywPrevCommune DATIM Port-au-Prince>,\n",
       " <AgywPrevCommune DATIM Carrefour>,\n",
       " <AgywPrevCommune DATIM Limonade>,\n",
       " <AgywPrevCommune DATIM Plaine-du-Nord>,\n",
       " <AgywPrevCommune DATIM Cap-Haïtien>,\n",
       " <AgywPrevCommune DATIM Kenscoff>,\n",
       " <AgywPrevCommune DATIM Dessalines>,\n",
       " <AgywPrevCommune DATIM Pétionville>,\n",
       " <AgywPrevCommune DATIM Gressier>,\n",
       " <AgywPrevCommune DATIM Saint-Marc>,\n",
       " <AgywPrevCommune DATIM Tabarre>,\n",
       " <AgywPrevCommune DATIM La Chapelle>,\n",
       " <AgywPrevCommune DATIM Milot>,\n",
       " <AgywPrevCommune DATIM Liancourt>,\n",
       " <AgywPrevCommune DATIM Quartier-Morin>,\n",
       " <AgywPrevCommune DATIM Petite Rivière de l'Artibonite>,\n",
       " <AgywPrevCommune DATIM Grande Saline>,\n",
       " <AgywPrevCommune DATIM Montrouis>,\n",
       " <AgywPrevCommune DATIM Desdunes>]"
      ]
     },
     "metadata": {},
     "execution_count": 64
    }
   ],
   "metadata": {}
  },
  {
   "cell_type": "code",
   "execution_count": null,
   "source": [
    "#for dcommunes in datimcommunes:\r\n",
    "#    dcommunes.total_mastersheet \r\n",
    "#    dcommunes.total_dreams_valid\r\n",
    "##    dcommunes.who_am_i\r\n",
    "  #  dcommunes.total_datimI\r\n",
    "   # dcommunes.total_datimII\r\n",
    "  #  dcommunes.total_datimIII\r\n",
    "  ##  dcommunes.total_datim_general\r\n",
    "  #  AgywPrevCommune.datim_titleI()\r\n",
    "  #  dcommunes.datim_agyw_prevI()\r\n",
    "  #  AgywPrevCommune.datim_titleII()\r\n",
    "  ##  dcommunes.datim_agyw_prevII()\r\n",
    "   # AgywPrevCommune.datim_titleIII()\r\n",
    "   # dcommunes.datim_agyw_prevIII()\r\n",
    "   # print(\" \")\r\n",
    "   # print(\" \")\r\n",
    "   # print(\" \")\r\n",
    "   # print(\" \")"
   ],
   "outputs": [],
   "metadata": {}
  },
  {
   "cell_type": "code",
   "execution_count": null,
   "source": [
    "import pandas as pd\r\n",
    "import matplotlib.pyplot as plt\r\n",
    "%matplotlib inline\r\n",
    "import seaborn as sns\r\n",
    "import numpy as np"
   ],
   "outputs": [],
   "metadata": {}
  },
  {
   "cell_type": "code",
   "execution_count": null,
   "source": [
    "datim.total_datim_general\r\n",
    "target= 18000\r\n",
    "\r\n",
    "data_plot = pd.DataFrame({\"state\":[\"Target\",\"AGYW_PREV results\"],\r\n",
    "                            \"data\": [target,datim.total_datim_general]                        \r\n",
    "})"
   ],
   "outputs": [
    {
     "output_type": "execute_result",
     "data": {
      "text/plain": [
       "15024"
      ]
     },
     "metadata": {},
     "execution_count": 67
    }
   ],
   "metadata": {}
  },
  {
   "cell_type": "code",
   "execution_count": null,
   "source": [
    "plt.subplots(figsize=(16,8))\r\n",
    "sns.set_theme(style=\"white\", context=\"talk\")\r\n",
    "sns.set_style(\"darkgrid\")\r\n",
    "sns.set_palette(\"Set1\")\r\n",
    "splot = sns.barplot(x=\"state\",y=\"data\",data=data_plot)\r\n",
    "splot.set_xlabel(\"\")\r\n",
    "splot.set_ylabel(\"\")\r\n",
    "plt.suptitle(\"AGYW_PREV datim indicator  and the periodic target\")\r\n",
    "for p in splot.patches:\r\n",
    "    height = p.get_height()\r\n",
    "    plt.text(\r\n",
    "                p.get_x() + p.get_width()/2, \r\n",
    "                0.5*p.get_height() + p.get_y(),\r\n",
    "                '{:1.0f}'.format(height), \r\n",
    "                ha='center', va='center',\r\n",
    "                size=15,\r\n",
    "                fontdict=dict(color=\"white\",fontsize=15)\r\n",
    "            )\r\n",
    "    \r\n",
    "plt.annotate(\r\n",
    "    \"source: HIVHaiti\",(0,0), (-80,-20), fontsize=10, \r\n",
    "             xycoords='axes fraction', textcoords='offset points', va='top'\r\n",
    ")\r\n",
    "plt.savefig(\"agyw_prev_evolution\",dpi=1000)"
   ],
   "outputs": [
    {
     "output_type": "execute_result",
     "data": {
      "text/plain": [
       "(<Figure size 1152x576 with 1 Axes>, <AxesSubplot:>)"
      ]
     },
     "metadata": {},
     "execution_count": 68
    },
    {
     "output_type": "execute_result",
     "data": {
      "text/plain": [
       "Text(0.5, 0, '')"
      ]
     },
     "metadata": {},
     "execution_count": 68
    },
    {
     "output_type": "execute_result",
     "data": {
      "text/plain": [
       "Text(0, 0.5, '')"
      ]
     },
     "metadata": {},
     "execution_count": 68
    },
    {
     "output_type": "execute_result",
     "data": {
      "text/plain": [
       "Text(0.5, 0.98, 'AGYW_PREV datim indicator  and the periodic target')"
      ]
     },
     "metadata": {},
     "execution_count": 68
    },
    {
     "output_type": "execute_result",
     "data": {
      "text/plain": [
       "Text(0.0, 9000.0, '18000')"
      ]
     },
     "metadata": {},
     "execution_count": 68
    },
    {
     "output_type": "execute_result",
     "data": {
      "text/plain": [
       "Text(1.0, 7512.0, '15024')"
      ]
     },
     "metadata": {},
     "execution_count": 68
    },
    {
     "output_type": "execute_result",
     "data": {
      "text/plain": [
       "Text(-80, -20, 'source: HIVHaiti')"
      ]
     },
     "metadata": {},
     "execution_count": 68
    },
    {
     "output_type": "error",
     "ename": "KeyboardInterrupt",
     "evalue": "",
     "traceback": [
      "\u001b[1;31m---------------------------------------------------------------------------\u001b[0m",
      "\u001b[1;31mAttributeError\u001b[0m                            Traceback (most recent call last)",
      "\u001b[1;32m~\\AppData\\Local\\Programs\\Python\\Python39\\lib\\site-packages\\PIL\\ImageFile.py\u001b[0m in \u001b[0;36m_save\u001b[1;34m(im, fp, tile, bufsize)\u001b[0m\n\u001b[0;32m    499\u001b[0m     \u001b[1;32mtry\u001b[0m\u001b[1;33m:\u001b[0m\u001b[1;33m\u001b[0m\u001b[1;33m\u001b[0m\u001b[0m\n\u001b[1;32m--> 500\u001b[1;33m         \u001b[0mfh\u001b[0m \u001b[1;33m=\u001b[0m \u001b[0mfp\u001b[0m\u001b[1;33m.\u001b[0m\u001b[0mfileno\u001b[0m\u001b[1;33m(\u001b[0m\u001b[1;33m)\u001b[0m\u001b[1;33m\u001b[0m\u001b[1;33m\u001b[0m\u001b[0m\n\u001b[0m\u001b[0;32m    501\u001b[0m         \u001b[0mfp\u001b[0m\u001b[1;33m.\u001b[0m\u001b[0mflush\u001b[0m\u001b[1;33m(\u001b[0m\u001b[1;33m)\u001b[0m\u001b[1;33m\u001b[0m\u001b[1;33m\u001b[0m\u001b[0m\n",
      "\u001b[1;31mAttributeError\u001b[0m: '_idat' object has no attribute 'fileno'",
      "\nDuring handling of the above exception, another exception occurred:\n",
      "\u001b[1;31mKeyboardInterrupt\u001b[0m                         Traceback (most recent call last)",
      "\u001b[1;32m<ipython-input-68-98948a1c0b0b>\u001b[0m in \u001b[0;36m<module>\u001b[1;34m\u001b[0m\n\u001b[0;32m     22\u001b[0m              \u001b[0mxycoords\u001b[0m\u001b[1;33m=\u001b[0m\u001b[1;34m'axes fraction'\u001b[0m\u001b[1;33m,\u001b[0m \u001b[0mtextcoords\u001b[0m\u001b[1;33m=\u001b[0m\u001b[1;34m'offset points'\u001b[0m\u001b[1;33m,\u001b[0m \u001b[0mva\u001b[0m\u001b[1;33m=\u001b[0m\u001b[1;34m'top'\u001b[0m\u001b[1;33m\u001b[0m\u001b[1;33m\u001b[0m\u001b[0m\n\u001b[0;32m     23\u001b[0m )\n\u001b[1;32m---> 24\u001b[1;33m \u001b[0mplt\u001b[0m\u001b[1;33m.\u001b[0m\u001b[0msavefig\u001b[0m\u001b[1;33m(\u001b[0m\u001b[1;34m\"agyw_prev_evolution\"\u001b[0m\u001b[1;33m,\u001b[0m\u001b[0mdpi\u001b[0m\u001b[1;33m=\u001b[0m\u001b[1;36m1000\u001b[0m\u001b[1;33m)\u001b[0m\u001b[1;33m\u001b[0m\u001b[1;33m\u001b[0m\u001b[0m\n\u001b[0m",
      "\u001b[1;32m~\\AppData\\Local\\Programs\\Python\\Python39\\lib\\site-packages\\matplotlib\\pyplot.py\u001b[0m in \u001b[0;36msavefig\u001b[1;34m(*args, **kwargs)\u001b[0m\n\u001b[0;32m    935\u001b[0m \u001b[1;32mdef\u001b[0m \u001b[0msavefig\u001b[0m\u001b[1;33m(\u001b[0m\u001b[1;33m*\u001b[0m\u001b[0margs\u001b[0m\u001b[1;33m,\u001b[0m \u001b[1;33m**\u001b[0m\u001b[0mkwargs\u001b[0m\u001b[1;33m)\u001b[0m\u001b[1;33m:\u001b[0m\u001b[1;33m\u001b[0m\u001b[1;33m\u001b[0m\u001b[0m\n\u001b[0;32m    936\u001b[0m     \u001b[0mfig\u001b[0m \u001b[1;33m=\u001b[0m \u001b[0mgcf\u001b[0m\u001b[1;33m(\u001b[0m\u001b[1;33m)\u001b[0m\u001b[1;33m\u001b[0m\u001b[1;33m\u001b[0m\u001b[0m\n\u001b[1;32m--> 937\u001b[1;33m     \u001b[0mres\u001b[0m \u001b[1;33m=\u001b[0m \u001b[0mfig\u001b[0m\u001b[1;33m.\u001b[0m\u001b[0msavefig\u001b[0m\u001b[1;33m(\u001b[0m\u001b[1;33m*\u001b[0m\u001b[0margs\u001b[0m\u001b[1;33m,\u001b[0m \u001b[1;33m**\u001b[0m\u001b[0mkwargs\u001b[0m\u001b[1;33m)\u001b[0m\u001b[1;33m\u001b[0m\u001b[1;33m\u001b[0m\u001b[0m\n\u001b[0m\u001b[0;32m    938\u001b[0m     \u001b[0mfig\u001b[0m\u001b[1;33m.\u001b[0m\u001b[0mcanvas\u001b[0m\u001b[1;33m.\u001b[0m\u001b[0mdraw_idle\u001b[0m\u001b[1;33m(\u001b[0m\u001b[1;33m)\u001b[0m   \u001b[1;31m# need this if 'transparent=True' to reset colors\u001b[0m\u001b[1;33m\u001b[0m\u001b[1;33m\u001b[0m\u001b[0m\n\u001b[0;32m    939\u001b[0m     \u001b[1;32mreturn\u001b[0m \u001b[0mres\u001b[0m\u001b[1;33m\u001b[0m\u001b[1;33m\u001b[0m\u001b[0m\n",
      "\u001b[1;32m~\\AppData\\Local\\Programs\\Python\\Python39\\lib\\site-packages\\matplotlib\\figure.py\u001b[0m in \u001b[0;36msavefig\u001b[1;34m(self, fname, transparent, **kwargs)\u001b[0m\n\u001b[0;32m   2960\u001b[0m                 \u001b[0mpatch\u001b[0m\u001b[1;33m.\u001b[0m\u001b[0mset_edgecolor\u001b[0m\u001b[1;33m(\u001b[0m\u001b[1;34m'none'\u001b[0m\u001b[1;33m)\u001b[0m\u001b[1;33m\u001b[0m\u001b[1;33m\u001b[0m\u001b[0m\n\u001b[0;32m   2961\u001b[0m \u001b[1;33m\u001b[0m\u001b[0m\n\u001b[1;32m-> 2962\u001b[1;33m         \u001b[0mself\u001b[0m\u001b[1;33m.\u001b[0m\u001b[0mcanvas\u001b[0m\u001b[1;33m.\u001b[0m\u001b[0mprint_figure\u001b[0m\u001b[1;33m(\u001b[0m\u001b[0mfname\u001b[0m\u001b[1;33m,\u001b[0m \u001b[1;33m**\u001b[0m\u001b[0mkwargs\u001b[0m\u001b[1;33m)\u001b[0m\u001b[1;33m\u001b[0m\u001b[1;33m\u001b[0m\u001b[0m\n\u001b[0m\u001b[0;32m   2963\u001b[0m \u001b[1;33m\u001b[0m\u001b[0m\n\u001b[0;32m   2964\u001b[0m         \u001b[1;32mif\u001b[0m \u001b[0mtransparent\u001b[0m\u001b[1;33m:\u001b[0m\u001b[1;33m\u001b[0m\u001b[1;33m\u001b[0m\u001b[0m\n",
      "\u001b[1;32m~\\AppData\\Local\\Programs\\Python\\Python39\\lib\\site-packages\\matplotlib\\backend_bases.py\u001b[0m in \u001b[0;36mprint_figure\u001b[1;34m(self, filename, dpi, facecolor, edgecolor, orientation, format, bbox_inches, pad_inches, bbox_extra_artists, backend, **kwargs)\u001b[0m\n\u001b[0;32m   2253\u001b[0m                 \u001b[1;31m# force the figure dpi to 72), so we need to set it again here.\u001b[0m\u001b[1;33m\u001b[0m\u001b[1;33m\u001b[0m\u001b[1;33m\u001b[0m\u001b[0m\n\u001b[0;32m   2254\u001b[0m                 \u001b[1;32mwith\u001b[0m \u001b[0mcbook\u001b[0m\u001b[1;33m.\u001b[0m\u001b[0m_setattr_cm\u001b[0m\u001b[1;33m(\u001b[0m\u001b[0mself\u001b[0m\u001b[1;33m.\u001b[0m\u001b[0mfigure\u001b[0m\u001b[1;33m,\u001b[0m \u001b[0mdpi\u001b[0m\u001b[1;33m=\u001b[0m\u001b[0mdpi\u001b[0m\u001b[1;33m)\u001b[0m\u001b[1;33m:\u001b[0m\u001b[1;33m\u001b[0m\u001b[1;33m\u001b[0m\u001b[0m\n\u001b[1;32m-> 2255\u001b[1;33m                     result = print_method(\n\u001b[0m\u001b[0;32m   2256\u001b[0m                         \u001b[0mfilename\u001b[0m\u001b[1;33m,\u001b[0m\u001b[1;33m\u001b[0m\u001b[1;33m\u001b[0m\u001b[0m\n\u001b[0;32m   2257\u001b[0m                         \u001b[0mfacecolor\u001b[0m\u001b[1;33m=\u001b[0m\u001b[0mfacecolor\u001b[0m\u001b[1;33m,\u001b[0m\u001b[1;33m\u001b[0m\u001b[1;33m\u001b[0m\u001b[0m\n",
      "\u001b[1;32m~\\AppData\\Local\\Programs\\Python\\Python39\\lib\\site-packages\\matplotlib\\backend_bases.py\u001b[0m in \u001b[0;36mwrapper\u001b[1;34m(*args, **kwargs)\u001b[0m\n\u001b[0;32m   1667\u001b[0m             \u001b[0mkwargs\u001b[0m\u001b[1;33m.\u001b[0m\u001b[0mpop\u001b[0m\u001b[1;33m(\u001b[0m\u001b[0marg\u001b[0m\u001b[1;33m)\u001b[0m\u001b[1;33m\u001b[0m\u001b[1;33m\u001b[0m\u001b[0m\n\u001b[0;32m   1668\u001b[0m \u001b[1;33m\u001b[0m\u001b[0m\n\u001b[1;32m-> 1669\u001b[1;33m         \u001b[1;32mreturn\u001b[0m \u001b[0mfunc\u001b[0m\u001b[1;33m(\u001b[0m\u001b[1;33m*\u001b[0m\u001b[0margs\u001b[0m\u001b[1;33m,\u001b[0m \u001b[1;33m**\u001b[0m\u001b[0mkwargs\u001b[0m\u001b[1;33m)\u001b[0m\u001b[1;33m\u001b[0m\u001b[1;33m\u001b[0m\u001b[0m\n\u001b[0m\u001b[0;32m   1670\u001b[0m \u001b[1;33m\u001b[0m\u001b[0m\n\u001b[0;32m   1671\u001b[0m     \u001b[1;32mreturn\u001b[0m \u001b[0mwrapper\u001b[0m\u001b[1;33m\u001b[0m\u001b[1;33m\u001b[0m\u001b[0m\n",
      "\u001b[1;32m~\\AppData\\Local\\Programs\\Python\\Python39\\lib\\site-packages\\matplotlib\\backends\\backend_agg.py\u001b[0m in \u001b[0;36mprint_png\u001b[1;34m(self, filename_or_obj, metadata, pil_kwargs, *args)\u001b[0m\n\u001b[0;32m    507\u001b[0m         \"\"\"\n\u001b[0;32m    508\u001b[0m         \u001b[0mFigureCanvasAgg\u001b[0m\u001b[1;33m.\u001b[0m\u001b[0mdraw\u001b[0m\u001b[1;33m(\u001b[0m\u001b[0mself\u001b[0m\u001b[1;33m)\u001b[0m\u001b[1;33m\u001b[0m\u001b[1;33m\u001b[0m\u001b[0m\n\u001b[1;32m--> 509\u001b[1;33m         mpl.image.imsave(\n\u001b[0m\u001b[0;32m    510\u001b[0m             \u001b[0mfilename_or_obj\u001b[0m\u001b[1;33m,\u001b[0m \u001b[0mself\u001b[0m\u001b[1;33m.\u001b[0m\u001b[0mbuffer_rgba\u001b[0m\u001b[1;33m(\u001b[0m\u001b[1;33m)\u001b[0m\u001b[1;33m,\u001b[0m \u001b[0mformat\u001b[0m\u001b[1;33m=\u001b[0m\u001b[1;34m\"png\"\u001b[0m\u001b[1;33m,\u001b[0m \u001b[0morigin\u001b[0m\u001b[1;33m=\u001b[0m\u001b[1;34m\"upper\"\u001b[0m\u001b[1;33m,\u001b[0m\u001b[1;33m\u001b[0m\u001b[1;33m\u001b[0m\u001b[0m\n\u001b[0;32m    511\u001b[0m             dpi=self.figure.dpi, metadata=metadata, pil_kwargs=pil_kwargs)\n",
      "\u001b[1;32m~\\AppData\\Local\\Programs\\Python\\Python39\\lib\\site-packages\\matplotlib\\image.py\u001b[0m in \u001b[0;36mimsave\u001b[1;34m(fname, arr, vmin, vmax, cmap, format, origin, dpi, metadata, pil_kwargs)\u001b[0m\n\u001b[0;32m   1614\u001b[0m         \u001b[0mpil_kwargs\u001b[0m\u001b[1;33m.\u001b[0m\u001b[0msetdefault\u001b[0m\u001b[1;33m(\u001b[0m\u001b[1;34m\"format\"\u001b[0m\u001b[1;33m,\u001b[0m \u001b[0mformat\u001b[0m\u001b[1;33m)\u001b[0m\u001b[1;33m\u001b[0m\u001b[1;33m\u001b[0m\u001b[0m\n\u001b[0;32m   1615\u001b[0m         \u001b[0mpil_kwargs\u001b[0m\u001b[1;33m.\u001b[0m\u001b[0msetdefault\u001b[0m\u001b[1;33m(\u001b[0m\u001b[1;34m\"dpi\"\u001b[0m\u001b[1;33m,\u001b[0m \u001b[1;33m(\u001b[0m\u001b[0mdpi\u001b[0m\u001b[1;33m,\u001b[0m \u001b[0mdpi\u001b[0m\u001b[1;33m)\u001b[0m\u001b[1;33m)\u001b[0m\u001b[1;33m\u001b[0m\u001b[1;33m\u001b[0m\u001b[0m\n\u001b[1;32m-> 1616\u001b[1;33m         \u001b[0mimage\u001b[0m\u001b[1;33m.\u001b[0m\u001b[0msave\u001b[0m\u001b[1;33m(\u001b[0m\u001b[0mfname\u001b[0m\u001b[1;33m,\u001b[0m \u001b[1;33m**\u001b[0m\u001b[0mpil_kwargs\u001b[0m\u001b[1;33m)\u001b[0m\u001b[1;33m\u001b[0m\u001b[1;33m\u001b[0m\u001b[0m\n\u001b[0m\u001b[0;32m   1617\u001b[0m \u001b[1;33m\u001b[0m\u001b[0m\n\u001b[0;32m   1618\u001b[0m \u001b[1;33m\u001b[0m\u001b[0m\n",
      "\u001b[1;32m~\\AppData\\Local\\Programs\\Python\\Python39\\lib\\site-packages\\PIL\\Image.py\u001b[0m in \u001b[0;36msave\u001b[1;34m(self, fp, format, **params)\u001b[0m\n\u001b[0;32m   2170\u001b[0m \u001b[1;33m\u001b[0m\u001b[0m\n\u001b[0;32m   2171\u001b[0m         \u001b[1;32mtry\u001b[0m\u001b[1;33m:\u001b[0m\u001b[1;33m\u001b[0m\u001b[1;33m\u001b[0m\u001b[0m\n\u001b[1;32m-> 2172\u001b[1;33m             \u001b[0msave_handler\u001b[0m\u001b[1;33m(\u001b[0m\u001b[0mself\u001b[0m\u001b[1;33m,\u001b[0m \u001b[0mfp\u001b[0m\u001b[1;33m,\u001b[0m \u001b[0mfilename\u001b[0m\u001b[1;33m)\u001b[0m\u001b[1;33m\u001b[0m\u001b[1;33m\u001b[0m\u001b[0m\n\u001b[0m\u001b[0;32m   2173\u001b[0m         \u001b[1;32mfinally\u001b[0m\u001b[1;33m:\u001b[0m\u001b[1;33m\u001b[0m\u001b[1;33m\u001b[0m\u001b[0m\n\u001b[0;32m   2174\u001b[0m             \u001b[1;31m# do what we can to clean up\u001b[0m\u001b[1;33m\u001b[0m\u001b[1;33m\u001b[0m\u001b[1;33m\u001b[0m\u001b[0m\n",
      "\u001b[1;32m~\\AppData\\Local\\Programs\\Python\\Python39\\lib\\site-packages\\PIL\\PngImagePlugin.py\u001b[0m in \u001b[0;36m_save\u001b[1;34m(im, fp, filename, chunk, save_all)\u001b[0m\n\u001b[0;32m   1333\u001b[0m         \u001b[0m_write_multiple_frames\u001b[0m\u001b[1;33m(\u001b[0m\u001b[0mim\u001b[0m\u001b[1;33m,\u001b[0m \u001b[0mfp\u001b[0m\u001b[1;33m,\u001b[0m \u001b[0mchunk\u001b[0m\u001b[1;33m,\u001b[0m \u001b[0mrawmode\u001b[0m\u001b[1;33m)\u001b[0m\u001b[1;33m\u001b[0m\u001b[1;33m\u001b[0m\u001b[0m\n\u001b[0;32m   1334\u001b[0m     \u001b[1;32melse\u001b[0m\u001b[1;33m:\u001b[0m\u001b[1;33m\u001b[0m\u001b[1;33m\u001b[0m\u001b[0m\n\u001b[1;32m-> 1335\u001b[1;33m         \u001b[0mImageFile\u001b[0m\u001b[1;33m.\u001b[0m\u001b[0m_save\u001b[0m\u001b[1;33m(\u001b[0m\u001b[0mim\u001b[0m\u001b[1;33m,\u001b[0m \u001b[0m_idat\u001b[0m\u001b[1;33m(\u001b[0m\u001b[0mfp\u001b[0m\u001b[1;33m,\u001b[0m \u001b[0mchunk\u001b[0m\u001b[1;33m)\u001b[0m\u001b[1;33m,\u001b[0m \u001b[1;33m[\u001b[0m\u001b[1;33m(\u001b[0m\u001b[1;34m\"zip\"\u001b[0m\u001b[1;33m,\u001b[0m \u001b[1;33m(\u001b[0m\u001b[1;36m0\u001b[0m\u001b[1;33m,\u001b[0m \u001b[1;36m0\u001b[0m\u001b[1;33m)\u001b[0m \u001b[1;33m+\u001b[0m \u001b[0mim\u001b[0m\u001b[1;33m.\u001b[0m\u001b[0msize\u001b[0m\u001b[1;33m,\u001b[0m \u001b[1;36m0\u001b[0m\u001b[1;33m,\u001b[0m \u001b[0mrawmode\u001b[0m\u001b[1;33m)\u001b[0m\u001b[1;33m]\u001b[0m\u001b[1;33m)\u001b[0m\u001b[1;33m\u001b[0m\u001b[1;33m\u001b[0m\u001b[0m\n\u001b[0m\u001b[0;32m   1336\u001b[0m \u001b[1;33m\u001b[0m\u001b[0m\n\u001b[0;32m   1337\u001b[0m     \u001b[1;32mif\u001b[0m \u001b[0minfo\u001b[0m\u001b[1;33m:\u001b[0m\u001b[1;33m\u001b[0m\u001b[1;33m\u001b[0m\u001b[0m\n",
      "\u001b[1;32m~\\AppData\\Local\\Programs\\Python\\Python39\\lib\\site-packages\\PIL\\ImageFile.py\u001b[0m in \u001b[0;36m_save\u001b[1;34m(im, fp, tile, bufsize)\u001b[0m\n\u001b[0;32m    512\u001b[0m             \u001b[1;32melse\u001b[0m\u001b[1;33m:\u001b[0m\u001b[1;33m\u001b[0m\u001b[1;33m\u001b[0m\u001b[0m\n\u001b[0;32m    513\u001b[0m                 \u001b[1;32mwhile\u001b[0m \u001b[1;32mTrue\u001b[0m\u001b[1;33m:\u001b[0m\u001b[1;33m\u001b[0m\u001b[1;33m\u001b[0m\u001b[0m\n\u001b[1;32m--> 514\u001b[1;33m                     \u001b[0ml\u001b[0m\u001b[1;33m,\u001b[0m \u001b[0ms\u001b[0m\u001b[1;33m,\u001b[0m \u001b[0md\u001b[0m \u001b[1;33m=\u001b[0m \u001b[0me\u001b[0m\u001b[1;33m.\u001b[0m\u001b[0mencode\u001b[0m\u001b[1;33m(\u001b[0m\u001b[0mbufsize\u001b[0m\u001b[1;33m)\u001b[0m\u001b[1;33m\u001b[0m\u001b[1;33m\u001b[0m\u001b[0m\n\u001b[0m\u001b[0;32m    515\u001b[0m                     \u001b[0mfp\u001b[0m\u001b[1;33m.\u001b[0m\u001b[0mwrite\u001b[0m\u001b[1;33m(\u001b[0m\u001b[0md\u001b[0m\u001b[1;33m)\u001b[0m\u001b[1;33m\u001b[0m\u001b[1;33m\u001b[0m\u001b[0m\n\u001b[0;32m    516\u001b[0m                     \u001b[1;32mif\u001b[0m \u001b[0ms\u001b[0m\u001b[1;33m:\u001b[0m\u001b[1;33m\u001b[0m\u001b[1;33m\u001b[0m\u001b[0m\n",
      "\u001b[1;31mKeyboardInterrupt\u001b[0m: "
     ]
    },
    {
     "output_type": "display_data",
     "data": {
      "text/plain": [
       "<Figure size 1152x576 with 1 Axes>"
      ],
      "image/svg+xml": "<?xml version=\"1.0\" encoding=\"utf-8\" standalone=\"no\"?>\r\n<!DOCTYPE svg PUBLIC \"-//W3C//DTD SVG 1.1//EN\"\r\n  \"http://www.w3.org/Graphics/SVG/1.1/DTD/svg11.dtd\">\r\n<svg height=\"536.025313pt\" version=\"1.1\" viewBox=\"0 0 987.2 536.025313\" width=\"987.2pt\" xmlns=\"http://www.w3.org/2000/svg\" xmlns:xlink=\"http://www.w3.org/1999/xlink\">\r\n <metadata>\r\n  <rdf:RDF xmlns:cc=\"http://creativecommons.org/ns#\" xmlns:dc=\"http://purl.org/dc/elements/1.1/\" xmlns:rdf=\"http://www.w3.org/1999/02/22-rdf-syntax-ns#\">\r\n   <cc:Work>\r\n    <dc:type rdf:resource=\"http://purl.org/dc/dcmitype/StillImage\"/>\r\n    <dc:date>2021-08-12T16:15:57.771403</dc:date>\r\n    <dc:format>image/svg+xml</dc:format>\r\n    <dc:creator>\r\n     <cc:Agent>\r\n      <dc:title>Matplotlib v3.4.1, https://matplotlib.org/</dc:title>\r\n     </cc:Agent>\r\n    </dc:creator>\r\n   </cc:Work>\r\n  </rdf:RDF>\r\n </metadata>\r\n <defs>\r\n  <style type=\"text/css\">*{stroke-linecap:butt;stroke-linejoin:round;}</style>\r\n </defs>\r\n <g id=\"figure_1\">\r\n  <g id=\"patch_1\">\r\n   <path d=\"M 0 536.025313 \r\nL 987.2 536.025313 \r\nL 987.2 0 \r\nL 0 0 \r\nz\r\n\" style=\"fill:none;\"/>\r\n  </g>\r\n  <g id=\"axes_1\">\r\n   <g id=\"patch_2\">\r\n    <path d=\"M 87.2 499.68 \r\nL 980 499.68 \r\nL 980 64.8 \r\nL 87.2 64.8 \r\nz\r\n\" style=\"fill:#eaeaf2;\"/>\r\n   </g>\r\n   <g id=\"matplotlib.axis_1\">\r\n    <g id=\"xtick_1\">\r\n     <g id=\"text_1\">\r\n      <!-- Target -->\r\n      <g style=\"fill:#262626;\" transform=\"translate(287.476602 523.990391)scale(0.165 -0.165)\">\r\n       <defs>\r\n        <path d=\"M 1659 0 \r\nL 1659 4041 \r\nL 150 4041 \r\nL 150 4581 \r\nL 3781 4581 \r\nL 3781 4041 \r\nL 2266 4041 \r\nL 2266 0 \r\nL 1659 0 \r\nz\r\n\" id=\"ArialMT-54\" transform=\"scale(0.015625)\"/>\r\n        <path d=\"M 2588 409 \r\nQ 2275 144 1986 34 \r\nQ 1697 -75 1366 -75 \r\nQ 819 -75 525 192 \r\nQ 231 459 231 875 \r\nQ 231 1119 342 1320 \r\nQ 453 1522 633 1644 \r\nQ 813 1766 1038 1828 \r\nQ 1203 1872 1538 1913 \r\nQ 2219 1994 2541 2106 \r\nQ 2544 2222 2544 2253 \r\nQ 2544 2597 2384 2738 \r\nQ 2169 2928 1744 2928 \r\nQ 1347 2928 1158 2789 \r\nQ 969 2650 878 2297 \r\nL 328 2372 \r\nQ 403 2725 575 2942 \r\nQ 747 3159 1072 3276 \r\nQ 1397 3394 1825 3394 \r\nQ 2250 3394 2515 3294 \r\nQ 2781 3194 2906 3042 \r\nQ 3031 2891 3081 2659 \r\nQ 3109 2516 3109 2141 \r\nL 3109 1391 \r\nQ 3109 606 3145 398 \r\nQ 3181 191 3288 0 \r\nL 2700 0 \r\nQ 2613 175 2588 409 \r\nz\r\nM 2541 1666 \r\nQ 2234 1541 1622 1453 \r\nQ 1275 1403 1131 1340 \r\nQ 988 1278 909 1158 \r\nQ 831 1038 831 891 \r\nQ 831 666 1001 516 \r\nQ 1172 366 1500 366 \r\nQ 1825 366 2078 508 \r\nQ 2331 650 2450 897 \r\nQ 2541 1088 2541 1459 \r\nL 2541 1666 \r\nz\r\n\" id=\"ArialMT-61\" transform=\"scale(0.015625)\"/>\r\n        <path d=\"M 416 0 \r\nL 416 3319 \r\nL 922 3319 \r\nL 922 2816 \r\nQ 1116 3169 1280 3281 \r\nQ 1444 3394 1641 3394 \r\nQ 1925 3394 2219 3213 \r\nL 2025 2691 \r\nQ 1819 2813 1613 2813 \r\nQ 1428 2813 1281 2702 \r\nQ 1134 2591 1072 2394 \r\nQ 978 2094 978 1738 \r\nL 978 0 \r\nL 416 0 \r\nz\r\n\" id=\"ArialMT-72\" transform=\"scale(0.015625)\"/>\r\n        <path d=\"M 319 -275 \r\nL 866 -356 \r\nQ 900 -609 1056 -725 \r\nQ 1266 -881 1628 -881 \r\nQ 2019 -881 2231 -725 \r\nQ 2444 -569 2519 -288 \r\nQ 2563 -116 2559 434 \r\nQ 2191 0 1641 0 \r\nQ 956 0 581 494 \r\nQ 206 988 206 1678 \r\nQ 206 2153 378 2554 \r\nQ 550 2956 876 3175 \r\nQ 1203 3394 1644 3394 \r\nQ 2231 3394 2613 2919 \r\nL 2613 3319 \r\nL 3131 3319 \r\nL 3131 450 \r\nQ 3131 -325 2973 -648 \r\nQ 2816 -972 2473 -1159 \r\nQ 2131 -1347 1631 -1347 \r\nQ 1038 -1347 672 -1080 \r\nQ 306 -813 319 -275 \r\nz\r\nM 784 1719 \r\nQ 784 1066 1043 766 \r\nQ 1303 466 1694 466 \r\nQ 2081 466 2343 764 \r\nQ 2606 1063 2606 1700 \r\nQ 2606 2309 2336 2618 \r\nQ 2066 2928 1684 2928 \r\nQ 1309 2928 1046 2623 \r\nQ 784 2319 784 1719 \r\nz\r\n\" id=\"ArialMT-67\" transform=\"scale(0.015625)\"/>\r\n        <path d=\"M 2694 1069 \r\nL 3275 997 \r\nQ 3138 488 2766 206 \r\nQ 2394 -75 1816 -75 \r\nQ 1088 -75 661 373 \r\nQ 234 822 234 1631 \r\nQ 234 2469 665 2931 \r\nQ 1097 3394 1784 3394 \r\nQ 2450 3394 2872 2941 \r\nQ 3294 2488 3294 1666 \r\nQ 3294 1616 3291 1516 \r\nL 816 1516 \r\nQ 847 969 1125 678 \r\nQ 1403 388 1819 388 \r\nQ 2128 388 2347 550 \r\nQ 2566 713 2694 1069 \r\nz\r\nM 847 1978 \r\nL 2700 1978 \r\nQ 2663 2397 2488 2606 \r\nQ 2219 2931 1791 2931 \r\nQ 1403 2931 1139 2672 \r\nQ 875 2413 847 1978 \r\nz\r\n\" id=\"ArialMT-65\" transform=\"scale(0.015625)\"/>\r\n        <path d=\"M 1650 503 \r\nL 1731 6 \r\nQ 1494 -44 1306 -44 \r\nQ 1000 -44 831 53 \r\nQ 663 150 594 308 \r\nQ 525 466 525 972 \r\nL 525 2881 \r\nL 113 2881 \r\nL 113 3319 \r\nL 525 3319 \r\nL 525 4141 \r\nL 1084 4478 \r\nL 1084 3319 \r\nL 1650 3319 \r\nL 1650 2881 \r\nL 1084 2881 \r\nL 1084 941 \r\nQ 1084 700 1114 631 \r\nQ 1144 563 1211 522 \r\nQ 1278 481 1403 481 \r\nQ 1497 481 1650 503 \r\nz\r\n\" id=\"ArialMT-74\" transform=\"scale(0.015625)\"/>\r\n       </defs>\r\n       <use xlink:href=\"#ArialMT-54\"/>\r\n       <use x=\"49.958984\" xlink:href=\"#ArialMT-61\"/>\r\n       <use x=\"105.574219\" xlink:href=\"#ArialMT-72\"/>\r\n       <use x=\"138.875\" xlink:href=\"#ArialMT-67\"/>\r\n       <use x=\"194.490234\" xlink:href=\"#ArialMT-65\"/>\r\n       <use x=\"250.105469\" xlink:href=\"#ArialMT-74\"/>\r\n      </g>\r\n     </g>\r\n    </g>\r\n    <g id=\"xtick_2\">\r\n     <g id=\"text_2\">\r\n      <!-- AGYW_PREV results -->\r\n      <g style=\"fill:#262626;\" transform=\"translate(677.945469 524.191484)scale(0.165 -0.165)\">\r\n       <defs>\r\n        <path d=\"M -9 0 \r\nL 1750 4581 \r\nL 2403 4581 \r\nL 4278 0 \r\nL 3588 0 \r\nL 3053 1388 \r\nL 1138 1388 \r\nL 634 0 \r\nL -9 0 \r\nz\r\nM 1313 1881 \r\nL 2866 1881 \r\nL 2388 3150 \r\nQ 2169 3728 2063 4100 \r\nQ 1975 3659 1816 3225 \r\nL 1313 1881 \r\nz\r\n\" id=\"ArialMT-41\" transform=\"scale(0.015625)\"/>\r\n        <path d=\"M 2638 1797 \r\nL 2638 2334 \r\nL 4578 2338 \r\nL 4578 638 \r\nQ 4131 281 3656 101 \r\nQ 3181 -78 2681 -78 \r\nQ 2006 -78 1454 211 \r\nQ 903 500 622 1047 \r\nQ 341 1594 341 2269 \r\nQ 341 2938 620 3517 \r\nQ 900 4097 1425 4378 \r\nQ 1950 4659 2634 4659 \r\nQ 3131 4659 3532 4498 \r\nQ 3934 4338 4162 4050 \r\nQ 4391 3763 4509 3300 \r\nL 3963 3150 \r\nQ 3859 3500 3706 3700 \r\nQ 3553 3900 3268 4020 \r\nQ 2984 4141 2638 4141 \r\nQ 2222 4141 1919 4014 \r\nQ 1616 3888 1430 3681 \r\nQ 1244 3475 1141 3228 \r\nQ 966 2803 966 2306 \r\nQ 966 1694 1177 1281 \r\nQ 1388 869 1791 669 \r\nQ 2194 469 2647 469 \r\nQ 3041 469 3416 620 \r\nQ 3791 772 3984 944 \r\nL 3984 1797 \r\nL 2638 1797 \r\nz\r\n\" id=\"ArialMT-47\" transform=\"scale(0.015625)\"/>\r\n        <path d=\"M 1784 0 \r\nL 1784 1941 \r\nL 19 4581 \r\nL 756 4581 \r\nL 1659 3200 \r\nQ 1909 2813 2125 2425 \r\nQ 2331 2784 2625 3234 \r\nL 3513 4581 \r\nL 4219 4581 \r\nL 2391 1941 \r\nL 2391 0 \r\nL 1784 0 \r\nz\r\n\" id=\"ArialMT-59\" transform=\"scale(0.015625)\"/>\r\n        <path d=\"M 1294 0 \r\nL 78 4581 \r\nL 700 4581 \r\nL 1397 1578 \r\nQ 1509 1106 1591 641 \r\nQ 1766 1375 1797 1488 \r\nL 2669 4581 \r\nL 3400 4581 \r\nL 4056 2263 \r\nQ 4303 1400 4413 641 \r\nQ 4500 1075 4641 1638 \r\nL 5359 4581 \r\nL 5969 4581 \r\nL 4713 0 \r\nL 4128 0 \r\nL 3163 3491 \r\nQ 3041 3928 3019 4028 \r\nQ 2947 3713 2884 3491 \r\nL 1913 0 \r\nL 1294 0 \r\nz\r\n\" id=\"ArialMT-57\" transform=\"scale(0.015625)\"/>\r\n        <path d=\"M -97 -1272 \r\nL -97 -866 \r\nL 3631 -866 \r\nL 3631 -1272 \r\nL -97 -1272 \r\nz\r\n\" id=\"ArialMT-5f\" transform=\"scale(0.015625)\"/>\r\n        <path d=\"M 494 0 \r\nL 494 4581 \r\nL 2222 4581 \r\nQ 2678 4581 2919 4538 \r\nQ 3256 4481 3484 4323 \r\nQ 3713 4166 3852 3881 \r\nQ 3991 3597 3991 3256 \r\nQ 3991 2672 3619 2267 \r\nQ 3247 1863 2275 1863 \r\nL 1100 1863 \r\nL 1100 0 \r\nL 494 0 \r\nz\r\nM 1100 2403 \r\nL 2284 2403 \r\nQ 2872 2403 3119 2622 \r\nQ 3366 2841 3366 3238 \r\nQ 3366 3525 3220 3729 \r\nQ 3075 3934 2838 4000 \r\nQ 2684 4041 2272 4041 \r\nL 1100 4041 \r\nL 1100 2403 \r\nz\r\n\" id=\"ArialMT-50\" transform=\"scale(0.015625)\"/>\r\n        <path d=\"M 503 0 \r\nL 503 4581 \r\nL 2534 4581 \r\nQ 3147 4581 3465 4457 \r\nQ 3784 4334 3975 4021 \r\nQ 4166 3709 4166 3331 \r\nQ 4166 2844 3850 2509 \r\nQ 3534 2175 2875 2084 \r\nQ 3116 1969 3241 1856 \r\nQ 3506 1613 3744 1247 \r\nL 4541 0 \r\nL 3778 0 \r\nL 3172 953 \r\nQ 2906 1366 2734 1584 \r\nQ 2563 1803 2427 1890 \r\nQ 2291 1978 2150 2013 \r\nQ 2047 2034 1813 2034 \r\nL 1109 2034 \r\nL 1109 0 \r\nL 503 0 \r\nz\r\nM 1109 2559 \r\nL 2413 2559 \r\nQ 2828 2559 3062 2645 \r\nQ 3297 2731 3419 2920 \r\nQ 3541 3109 3541 3331 \r\nQ 3541 3656 3305 3865 \r\nQ 3069 4075 2559 4075 \r\nL 1109 4075 \r\nL 1109 2559 \r\nz\r\n\" id=\"ArialMT-52\" transform=\"scale(0.015625)\"/>\r\n        <path d=\"M 506 0 \r\nL 506 4581 \r\nL 3819 4581 \r\nL 3819 4041 \r\nL 1113 4041 \r\nL 1113 2638 \r\nL 3647 2638 \r\nL 3647 2100 \r\nL 1113 2100 \r\nL 1113 541 \r\nL 3925 541 \r\nL 3925 0 \r\nL 506 0 \r\nz\r\n\" id=\"ArialMT-45\" transform=\"scale(0.015625)\"/>\r\n        <path d=\"M 1803 0 \r\nL 28 4581 \r\nL 684 4581 \r\nL 1875 1253 \r\nQ 2019 853 2116 503 \r\nQ 2222 878 2363 1253 \r\nL 3600 4581 \r\nL 4219 4581 \r\nL 2425 0 \r\nL 1803 0 \r\nz\r\n\" id=\"ArialMT-56\" transform=\"scale(0.015625)\"/>\r\n        <path id=\"ArialMT-20\" transform=\"scale(0.015625)\"/>\r\n        <path d=\"M 197 991 \r\nL 753 1078 \r\nQ 800 744 1014 566 \r\nQ 1228 388 1613 388 \r\nQ 2000 388 2187 545 \r\nQ 2375 703 2375 916 \r\nQ 2375 1106 2209 1216 \r\nQ 2094 1291 1634 1406 \r\nQ 1016 1563 777 1677 \r\nQ 538 1791 414 1992 \r\nQ 291 2194 291 2438 \r\nQ 291 2659 392 2848 \r\nQ 494 3038 669 3163 \r\nQ 800 3259 1026 3326 \r\nQ 1253 3394 1513 3394 \r\nQ 1903 3394 2198 3281 \r\nQ 2494 3169 2634 2976 \r\nQ 2775 2784 2828 2463 \r\nL 2278 2388 \r\nQ 2241 2644 2061 2787 \r\nQ 1881 2931 1553 2931 \r\nQ 1166 2931 1000 2803 \r\nQ 834 2675 834 2503 \r\nQ 834 2394 903 2306 \r\nQ 972 2216 1119 2156 \r\nQ 1203 2125 1616 2013 \r\nQ 2213 1853 2448 1751 \r\nQ 2684 1650 2818 1456 \r\nQ 2953 1263 2953 975 \r\nQ 2953 694 2789 445 \r\nQ 2625 197 2315 61 \r\nQ 2006 -75 1616 -75 \r\nQ 969 -75 630 194 \r\nQ 291 463 197 991 \r\nz\r\n\" id=\"ArialMT-73\" transform=\"scale(0.015625)\"/>\r\n        <path d=\"M 2597 0 \r\nL 2597 488 \r\nQ 2209 -75 1544 -75 \r\nQ 1250 -75 995 37 \r\nQ 741 150 617 320 \r\nQ 494 491 444 738 \r\nQ 409 903 409 1263 \r\nL 409 3319 \r\nL 972 3319 \r\nL 972 1478 \r\nQ 972 1038 1006 884 \r\nQ 1059 663 1231 536 \r\nQ 1403 409 1656 409 \r\nQ 1909 409 2131 539 \r\nQ 2353 669 2445 892 \r\nQ 2538 1116 2538 1541 \r\nL 2538 3319 \r\nL 3100 3319 \r\nL 3100 0 \r\nL 2597 0 \r\nz\r\n\" id=\"ArialMT-75\" transform=\"scale(0.015625)\"/>\r\n        <path d=\"M 409 0 \r\nL 409 4581 \r\nL 972 4581 \r\nL 972 0 \r\nL 409 0 \r\nz\r\n\" id=\"ArialMT-6c\" transform=\"scale(0.015625)\"/>\r\n       </defs>\r\n       <use xlink:href=\"#ArialMT-41\"/>\r\n       <use x=\"66.699219\" xlink:href=\"#ArialMT-47\"/>\r\n       <use x=\"144.482422\" xlink:href=\"#ArialMT-59\"/>\r\n       <use x=\"211.181641\" xlink:href=\"#ArialMT-57\"/>\r\n       <use x=\"305.566406\" xlink:href=\"#ArialMT-5f\"/>\r\n       <use x=\"361.181641\" xlink:href=\"#ArialMT-50\"/>\r\n       <use x=\"427.880859\" xlink:href=\"#ArialMT-52\"/>\r\n       <use x=\"500.097656\" xlink:href=\"#ArialMT-45\"/>\r\n       <use x=\"566.796875\" xlink:href=\"#ArialMT-56\"/>\r\n       <use x=\"633.496094\" xlink:href=\"#ArialMT-20\"/>\r\n       <use x=\"661.279297\" xlink:href=\"#ArialMT-72\"/>\r\n       <use x=\"694.580078\" xlink:href=\"#ArialMT-65\"/>\r\n       <use x=\"750.195312\" xlink:href=\"#ArialMT-73\"/>\r\n       <use x=\"800.195312\" xlink:href=\"#ArialMT-75\"/>\r\n       <use x=\"855.810547\" xlink:href=\"#ArialMT-6c\"/>\r\n       <use x=\"878.027344\" xlink:href=\"#ArialMT-74\"/>\r\n       <use x=\"905.810547\" xlink:href=\"#ArialMT-73\"/>\r\n      </g>\r\n     </g>\r\n    </g>\r\n   </g>\r\n   <g id=\"matplotlib.axis_2\">\r\n    <g id=\"ytick_1\">\r\n     <g id=\"line2d_1\">\r\n      <path clip-path=\"url(#pdcd5fb8d98)\" d=\"M 87.2 499.68 \r\nL 980 499.68 \r\n\" style=\"fill:none;stroke:#ffffff;stroke-linecap:round;stroke-width:1.5;\"/>\r\n     </g>\r\n     <g id=\"text_3\">\r\n      <!-- 0 -->\r\n      <g style=\"fill:#262626;\" transform=\"translate(65.524453 505.585195)scale(0.165 -0.165)\">\r\n       <defs>\r\n        <path d=\"M 266 2259 \r\nQ 266 3072 433 3567 \r\nQ 600 4063 929 4331 \r\nQ 1259 4600 1759 4600 \r\nQ 2128 4600 2406 4451 \r\nQ 2684 4303 2865 4023 \r\nQ 3047 3744 3150 3342 \r\nQ 3253 2941 3253 2259 \r\nQ 3253 1453 3087 958 \r\nQ 2922 463 2592 192 \r\nQ 2263 -78 1759 -78 \r\nQ 1097 -78 719 397 \r\nQ 266 969 266 2259 \r\nz\r\nM 844 2259 \r\nQ 844 1131 1108 757 \r\nQ 1372 384 1759 384 \r\nQ 2147 384 2411 759 \r\nQ 2675 1134 2675 2259 \r\nQ 2675 3391 2411 3762 \r\nQ 2147 4134 1753 4134 \r\nQ 1366 4134 1134 3806 \r\nQ 844 3388 844 2259 \r\nz\r\n\" id=\"ArialMT-30\" transform=\"scale(0.015625)\"/>\r\n       </defs>\r\n       <use xlink:href=\"#ArialMT-30\"/>\r\n      </g>\r\n     </g>\r\n    </g>\r\n    <g id=\"ytick_2\">\r\n     <g id=\"line2d_2\">\r\n      <path clip-path=\"url(#pdcd5fb8d98)\" d=\"M 87.2 442.15619 \r\nL 980 442.15619 \r\n\" style=\"fill:none;stroke:#ffffff;stroke-linecap:round;stroke-width:1.5;\"/>\r\n     </g>\r\n     <g id=\"text_4\">\r\n      <!-- 2500 -->\r\n      <g style=\"fill:#262626;\" transform=\"translate(37.997813 448.061386)scale(0.165 -0.165)\">\r\n       <defs>\r\n        <path d=\"M 3222 541 \r\nL 3222 0 \r\nL 194 0 \r\nQ 188 203 259 391 \r\nQ 375 700 629 1000 \r\nQ 884 1300 1366 1694 \r\nQ 2113 2306 2375 2664 \r\nQ 2638 3022 2638 3341 \r\nQ 2638 3675 2398 3904 \r\nQ 2159 4134 1775 4134 \r\nQ 1369 4134 1125 3890 \r\nQ 881 3647 878 3216 \r\nL 300 3275 \r\nQ 359 3922 746 4261 \r\nQ 1134 4600 1788 4600 \r\nQ 2447 4600 2831 4234 \r\nQ 3216 3869 3216 3328 \r\nQ 3216 3053 3103 2787 \r\nQ 2991 2522 2730 2228 \r\nQ 2469 1934 1863 1422 \r\nQ 1356 997 1212 845 \r\nQ 1069 694 975 541 \r\nL 3222 541 \r\nz\r\n\" id=\"ArialMT-32\" transform=\"scale(0.015625)\"/>\r\n        <path d=\"M 266 1200 \r\nL 856 1250 \r\nQ 922 819 1161 601 \r\nQ 1400 384 1738 384 \r\nQ 2144 384 2425 690 \r\nQ 2706 997 2706 1503 \r\nQ 2706 1984 2436 2262 \r\nQ 2166 2541 1728 2541 \r\nQ 1456 2541 1237 2417 \r\nQ 1019 2294 894 2097 \r\nL 366 2166 \r\nL 809 4519 \r\nL 3088 4519 \r\nL 3088 3981 \r\nL 1259 3981 \r\nL 1013 2750 \r\nQ 1425 3038 1878 3038 \r\nQ 2478 3038 2890 2622 \r\nQ 3303 2206 3303 1553 \r\nQ 3303 931 2941 478 \r\nQ 2500 -78 1738 -78 \r\nQ 1113 -78 717 272 \r\nQ 322 622 266 1200 \r\nz\r\n\" id=\"ArialMT-35\" transform=\"scale(0.015625)\"/>\r\n       </defs>\r\n       <use xlink:href=\"#ArialMT-32\"/>\r\n       <use x=\"55.615234\" xlink:href=\"#ArialMT-35\"/>\r\n       <use x=\"111.230469\" xlink:href=\"#ArialMT-30\"/>\r\n       <use x=\"166.845703\" xlink:href=\"#ArialMT-30\"/>\r\n      </g>\r\n     </g>\r\n    </g>\r\n    <g id=\"ytick_3\">\r\n     <g id=\"line2d_3\">\r\n      <path clip-path=\"url(#pdcd5fb8d98)\" d=\"M 87.2 384.632381 \r\nL 980 384.632381 \r\n\" style=\"fill:none;stroke:#ffffff;stroke-linecap:round;stroke-width:1.5;\"/>\r\n     </g>\r\n     <g id=\"text_5\">\r\n      <!-- 5000 -->\r\n      <g style=\"fill:#262626;\" transform=\"translate(37.997813 390.537576)scale(0.165 -0.165)\">\r\n       <use xlink:href=\"#ArialMT-35\"/>\r\n       <use x=\"55.615234\" xlink:href=\"#ArialMT-30\"/>\r\n       <use x=\"111.230469\" xlink:href=\"#ArialMT-30\"/>\r\n       <use x=\"166.845703\" xlink:href=\"#ArialMT-30\"/>\r\n      </g>\r\n     </g>\r\n    </g>\r\n    <g id=\"ytick_4\">\r\n     <g id=\"line2d_4\">\r\n      <path clip-path=\"url(#pdcd5fb8d98)\" d=\"M 87.2 327.108571 \r\nL 980 327.108571 \r\n\" style=\"fill:none;stroke:#ffffff;stroke-linecap:round;stroke-width:1.5;\"/>\r\n     </g>\r\n     <g id=\"text_6\">\r\n      <!-- 7500 -->\r\n      <g style=\"fill:#262626;\" transform=\"translate(37.997813 333.013767)scale(0.165 -0.165)\">\r\n       <defs>\r\n        <path d=\"M 303 3981 \r\nL 303 4522 \r\nL 3269 4522 \r\nL 3269 4084 \r\nQ 2831 3619 2401 2847 \r\nQ 1972 2075 1738 1259 \r\nQ 1569 684 1522 0 \r\nL 944 0 \r\nQ 953 541 1156 1306 \r\nQ 1359 2072 1739 2783 \r\nQ 2119 3494 2547 3981 \r\nL 303 3981 \r\nz\r\n\" id=\"ArialMT-37\" transform=\"scale(0.015625)\"/>\r\n       </defs>\r\n       <use xlink:href=\"#ArialMT-37\"/>\r\n       <use x=\"55.615234\" xlink:href=\"#ArialMT-35\"/>\r\n       <use x=\"111.230469\" xlink:href=\"#ArialMT-30\"/>\r\n       <use x=\"166.845703\" xlink:href=\"#ArialMT-30\"/>\r\n      </g>\r\n     </g>\r\n    </g>\r\n    <g id=\"ytick_5\">\r\n     <g id=\"line2d_5\">\r\n      <path clip-path=\"url(#pdcd5fb8d98)\" d=\"M 87.2 269.584762 \r\nL 980 269.584762 \r\n\" style=\"fill:none;stroke:#ffffff;stroke-linecap:round;stroke-width:1.5;\"/>\r\n     </g>\r\n     <g id=\"text_7\">\r\n      <!-- 10000 -->\r\n      <g style=\"fill:#262626;\" transform=\"translate(28.822266 275.489957)scale(0.165 -0.165)\">\r\n       <defs>\r\n        <path d=\"M 2384 0 \r\nL 1822 0 \r\nL 1822 3584 \r\nQ 1619 3391 1289 3197 \r\nQ 959 3003 697 2906 \r\nL 697 3450 \r\nQ 1169 3672 1522 3987 \r\nQ 1875 4303 2022 4600 \r\nL 2384 4600 \r\nL 2384 0 \r\nz\r\n\" id=\"ArialMT-31\" transform=\"scale(0.015625)\"/>\r\n       </defs>\r\n       <use xlink:href=\"#ArialMT-31\"/>\r\n       <use x=\"55.615234\" xlink:href=\"#ArialMT-30\"/>\r\n       <use x=\"111.230469\" xlink:href=\"#ArialMT-30\"/>\r\n       <use x=\"166.845703\" xlink:href=\"#ArialMT-30\"/>\r\n       <use x=\"222.460938\" xlink:href=\"#ArialMT-30\"/>\r\n      </g>\r\n     </g>\r\n    </g>\r\n    <g id=\"ytick_6\">\r\n     <g id=\"line2d_6\">\r\n      <path clip-path=\"url(#pdcd5fb8d98)\" d=\"M 87.2 212.060952 \r\nL 980 212.060952 \r\n\" style=\"fill:none;stroke:#ffffff;stroke-linecap:round;stroke-width:1.5;\"/>\r\n     </g>\r\n     <g id=\"text_8\">\r\n      <!-- 12500 -->\r\n      <g style=\"fill:#262626;\" transform=\"translate(28.822266 217.966148)scale(0.165 -0.165)\">\r\n       <use xlink:href=\"#ArialMT-31\"/>\r\n       <use x=\"55.615234\" xlink:href=\"#ArialMT-32\"/>\r\n       <use x=\"111.230469\" xlink:href=\"#ArialMT-35\"/>\r\n       <use x=\"166.845703\" xlink:href=\"#ArialMT-30\"/>\r\n       <use x=\"222.460938\" xlink:href=\"#ArialMT-30\"/>\r\n      </g>\r\n     </g>\r\n    </g>\r\n    <g id=\"ytick_7\">\r\n     <g id=\"line2d_7\">\r\n      <path clip-path=\"url(#pdcd5fb8d98)\" d=\"M 87.2 154.537143 \r\nL 980 154.537143 \r\n\" style=\"fill:none;stroke:#ffffff;stroke-linecap:round;stroke-width:1.5;\"/>\r\n     </g>\r\n     <g id=\"text_9\">\r\n      <!-- 15000 -->\r\n      <g style=\"fill:#262626;\" transform=\"translate(28.822266 160.442338)scale(0.165 -0.165)\">\r\n       <use xlink:href=\"#ArialMT-31\"/>\r\n       <use x=\"55.615234\" xlink:href=\"#ArialMT-35\"/>\r\n       <use x=\"111.230469\" xlink:href=\"#ArialMT-30\"/>\r\n       <use x=\"166.845703\" xlink:href=\"#ArialMT-30\"/>\r\n       <use x=\"222.460938\" xlink:href=\"#ArialMT-30\"/>\r\n      </g>\r\n     </g>\r\n    </g>\r\n    <g id=\"ytick_8\">\r\n     <g id=\"line2d_8\">\r\n      <path clip-path=\"url(#pdcd5fb8d98)\" d=\"M 87.2 97.013333 \r\nL 980 97.013333 \r\n\" style=\"fill:none;stroke:#ffffff;stroke-linecap:round;stroke-width:1.5;\"/>\r\n     </g>\r\n     <g id=\"text_10\">\r\n      <!-- 17500 -->\r\n      <g style=\"fill:#262626;\" transform=\"translate(28.822266 102.918529)scale(0.165 -0.165)\">\r\n       <use xlink:href=\"#ArialMT-31\"/>\r\n       <use x=\"55.615234\" xlink:href=\"#ArialMT-37\"/>\r\n       <use x=\"111.230469\" xlink:href=\"#ArialMT-35\"/>\r\n       <use x=\"166.845703\" xlink:href=\"#ArialMT-30\"/>\r\n       <use x=\"222.460938\" xlink:href=\"#ArialMT-30\"/>\r\n      </g>\r\n     </g>\r\n    </g>\r\n   </g>\r\n   <g id=\"patch_3\">\r\n    <path clip-path=\"url(#pdcd5fb8d98)\" d=\"M 131.84 499.68 \r\nL 488.96 499.68 \r\nL 488.96 85.508571 \r\nL 131.84 85.508571 \r\nz\r\n\" style=\"fill:#cb3335;stroke:#ffffff;stroke-linejoin:miter;stroke-width:1.5;\"/>\r\n   </g>\r\n   <g id=\"patch_4\">\r\n    <path clip-path=\"url(#pdcd5fb8d98)\" d=\"M 578.24 499.68 \r\nL 935.36 499.68 \r\nL 935.36 153.984914 \r\nL 578.24 153.984914 \r\nz\r\n\" style=\"fill:#477ca8;stroke:#ffffff;stroke-linejoin:miter;stroke-width:1.5;\"/>\r\n   </g>\r\n   <g id=\"line2d_9\">\r\n    <path clip-path=\"url(#pdcd5fb8d98)\" d=\"M 0 0 \r\n\" style=\"fill:none;stroke:#424242;stroke-linecap:round;stroke-width:4.05;\"/>\r\n   </g>\r\n   <g id=\"line2d_10\">\r\n    <path clip-path=\"url(#pdcd5fb8d98)\" d=\"M 0 0 \r\n\" style=\"fill:none;stroke:#424242;stroke-linecap:round;stroke-width:4.05;\"/>\r\n   </g>\r\n   <g id=\"patch_5\">\r\n    <path d=\"M 87.2 499.68 \r\nL 87.2 64.8 \r\n\" style=\"fill:none;stroke:#ffffff;stroke-linecap:square;stroke-linejoin:miter;stroke-width:1.875;\"/>\r\n   </g>\r\n   <g id=\"patch_6\">\r\n    <path d=\"M 980 499.68 \r\nL 980 64.8 \r\n\" style=\"fill:none;stroke:#ffffff;stroke-linecap:square;stroke-linejoin:miter;stroke-width:1.875;\"/>\r\n   </g>\r\n   <g id=\"patch_7\">\r\n    <path d=\"M 87.2 499.68 \r\nL 980 499.68 \r\n\" style=\"fill:none;stroke:#ffffff;stroke-linecap:square;stroke-linejoin:miter;stroke-width:1.875;\"/>\r\n   </g>\r\n   <g id=\"patch_8\">\r\n    <path d=\"M 87.2 64.8 \r\nL 980 64.8 \r\n\" style=\"fill:none;stroke:#ffffff;stroke-linecap:square;stroke-linejoin:miter;stroke-width:1.875;\"/>\r\n   </g>\r\n   <g id=\"text_11\">\r\n    <!-- 18000 -->\r\n    <g style=\"fill:#ffffff;\" transform=\"translate(289.546484 296.47202)scale(0.15 -0.15)\">\r\n     <defs>\r\n      <path d=\"M 1131 2484 \r\nQ 781 2613 612 2850 \r\nQ 444 3088 444 3419 \r\nQ 444 3919 803 4259 \r\nQ 1163 4600 1759 4600 \r\nQ 2359 4600 2725 4251 \r\nQ 3091 3903 3091 3403 \r\nQ 3091 3084 2923 2848 \r\nQ 2756 2613 2416 2484 \r\nQ 2838 2347 3058 2040 \r\nQ 3278 1734 3278 1309 \r\nQ 3278 722 2862 322 \r\nQ 2447 -78 1769 -78 \r\nQ 1091 -78 675 323 \r\nQ 259 725 259 1325 \r\nQ 259 1772 486 2073 \r\nQ 713 2375 1131 2484 \r\nz\r\nM 1019 3438 \r\nQ 1019 3113 1228 2906 \r\nQ 1438 2700 1772 2700 \r\nQ 2097 2700 2305 2904 \r\nQ 2513 3109 2513 3406 \r\nQ 2513 3716 2298 3927 \r\nQ 2084 4138 1766 4138 \r\nQ 1444 4138 1231 3931 \r\nQ 1019 3725 1019 3438 \r\nz\r\nM 838 1322 \r\nQ 838 1081 952 856 \r\nQ 1066 631 1291 507 \r\nQ 1516 384 1775 384 \r\nQ 2178 384 2440 643 \r\nQ 2703 903 2703 1303 \r\nQ 2703 1709 2433 1975 \r\nQ 2163 2241 1756 2241 \r\nQ 1359 2241 1098 1978 \r\nQ 838 1716 838 1322 \r\nz\r\n\" id=\"ArialMT-38\" transform=\"scale(0.015625)\"/>\r\n     </defs>\r\n     <use xlink:href=\"#ArialMT-31\"/>\r\n     <use x=\"55.615234\" xlink:href=\"#ArialMT-38\"/>\r\n     <use x=\"111.230469\" xlink:href=\"#ArialMT-30\"/>\r\n     <use x=\"166.845703\" xlink:href=\"#ArialMT-30\"/>\r\n     <use x=\"222.460938\" xlink:href=\"#ArialMT-30\"/>\r\n    </g>\r\n   </g>\r\n   <g id=\"text_12\">\r\n    <!-- 15024 -->\r\n    <g style=\"fill:#ffffff;\" transform=\"translate(735.946484 330.710192)scale(0.15 -0.15)\">\r\n     <defs>\r\n      <path d=\"M 2069 0 \r\nL 2069 1097 \r\nL 81 1097 \r\nL 81 1613 \r\nL 2172 4581 \r\nL 2631 4581 \r\nL 2631 1613 \r\nL 3250 1613 \r\nL 3250 1097 \r\nL 2631 1097 \r\nL 2631 0 \r\nL 2069 0 \r\nz\r\nM 2069 1613 \r\nL 2069 3678 \r\nL 634 1613 \r\nL 2069 1613 \r\nz\r\n\" id=\"ArialMT-34\" transform=\"scale(0.015625)\"/>\r\n     </defs>\r\n     <use xlink:href=\"#ArialMT-31\"/>\r\n     <use x=\"55.615234\" xlink:href=\"#ArialMT-35\"/>\r\n     <use x=\"111.230469\" xlink:href=\"#ArialMT-30\"/>\r\n     <use x=\"166.845703\" xlink:href=\"#ArialMT-32\"/>\r\n     <use x=\"222.460938\" xlink:href=\"#ArialMT-34\"/>\r\n    </g>\r\n   </g>\r\n   <g id=\"text_13\">\r\n    <!-- source: HIVHaiti -->\r\n    <g style=\"fill:#262626;\" transform=\"translate(7.2 526.837813)scale(0.1 -0.1)\">\r\n     <defs>\r\n      <path d=\"M 213 1659 \r\nQ 213 2581 725 3025 \r\nQ 1153 3394 1769 3394 \r\nQ 2453 3394 2887 2945 \r\nQ 3322 2497 3322 1706 \r\nQ 3322 1066 3130 698 \r\nQ 2938 331 2570 128 \r\nQ 2203 -75 1769 -75 \r\nQ 1072 -75 642 372 \r\nQ 213 819 213 1659 \r\nz\r\nM 791 1659 \r\nQ 791 1022 1069 705 \r\nQ 1347 388 1769 388 \r\nQ 2188 388 2466 706 \r\nQ 2744 1025 2744 1678 \r\nQ 2744 2294 2464 2611 \r\nQ 2184 2928 1769 2928 \r\nQ 1347 2928 1069 2612 \r\nQ 791 2297 791 1659 \r\nz\r\n\" id=\"ArialMT-6f\" transform=\"scale(0.015625)\"/>\r\n      <path d=\"M 2588 1216 \r\nL 3141 1144 \r\nQ 3050 572 2676 248 \r\nQ 2303 -75 1759 -75 \r\nQ 1078 -75 664 370 \r\nQ 250 816 250 1647 \r\nQ 250 2184 428 2587 \r\nQ 606 2991 970 3192 \r\nQ 1334 3394 1763 3394 \r\nQ 2303 3394 2647 3120 \r\nQ 2991 2847 3088 2344 \r\nL 2541 2259 \r\nQ 2463 2594 2264 2762 \r\nQ 2066 2931 1784 2931 \r\nQ 1359 2931 1093 2626 \r\nQ 828 2322 828 1663 \r\nQ 828 994 1084 691 \r\nQ 1341 388 1753 388 \r\nQ 2084 388 2306 591 \r\nQ 2528 794 2588 1216 \r\nz\r\n\" id=\"ArialMT-63\" transform=\"scale(0.015625)\"/>\r\n      <path d=\"M 578 2678 \r\nL 578 3319 \r\nL 1219 3319 \r\nL 1219 2678 \r\nL 578 2678 \r\nz\r\nM 578 0 \r\nL 578 641 \r\nL 1219 641 \r\nL 1219 0 \r\nL 578 0 \r\nz\r\n\" id=\"ArialMT-3a\" transform=\"scale(0.015625)\"/>\r\n      <path d=\"M 513 0 \r\nL 513 4581 \r\nL 1119 4581 \r\nL 1119 2700 \r\nL 3500 2700 \r\nL 3500 4581 \r\nL 4106 4581 \r\nL 4106 0 \r\nL 3500 0 \r\nL 3500 2159 \r\nL 1119 2159 \r\nL 1119 0 \r\nL 513 0 \r\nz\r\n\" id=\"ArialMT-48\" transform=\"scale(0.015625)\"/>\r\n      <path d=\"M 597 0 \r\nL 597 4581 \r\nL 1203 4581 \r\nL 1203 0 \r\nL 597 0 \r\nz\r\n\" id=\"ArialMT-49\" transform=\"scale(0.015625)\"/>\r\n      <path d=\"M 425 3934 \r\nL 425 4581 \r\nL 988 4581 \r\nL 988 3934 \r\nL 425 3934 \r\nz\r\nM 425 0 \r\nL 425 3319 \r\nL 988 3319 \r\nL 988 0 \r\nL 425 0 \r\nz\r\n\" id=\"ArialMT-69\" transform=\"scale(0.015625)\"/>\r\n     </defs>\r\n     <use xlink:href=\"#ArialMT-73\"/>\r\n     <use x=\"50\" xlink:href=\"#ArialMT-6f\"/>\r\n     <use x=\"105.615234\" xlink:href=\"#ArialMT-75\"/>\r\n     <use x=\"161.230469\" xlink:href=\"#ArialMT-72\"/>\r\n     <use x=\"194.53125\" xlink:href=\"#ArialMT-63\"/>\r\n     <use x=\"244.53125\" xlink:href=\"#ArialMT-65\"/>\r\n     <use x=\"300.146484\" xlink:href=\"#ArialMT-3a\"/>\r\n     <use x=\"327.929688\" xlink:href=\"#ArialMT-20\"/>\r\n     <use x=\"355.712891\" xlink:href=\"#ArialMT-48\"/>\r\n     <use x=\"427.929688\" xlink:href=\"#ArialMT-49\"/>\r\n     <use x=\"455.712891\" xlink:href=\"#ArialMT-56\"/>\r\n     <use x=\"522.412109\" xlink:href=\"#ArialMT-48\"/>\r\n     <use x=\"594.628906\" xlink:href=\"#ArialMT-61\"/>\r\n     <use x=\"650.244141\" xlink:href=\"#ArialMT-69\"/>\r\n     <use x=\"672.460938\" xlink:href=\"#ArialMT-74\"/>\r\n     <use x=\"700.244141\" xlink:href=\"#ArialMT-69\"/>\r\n    </g>\r\n   </g>\r\n  </g>\r\n  <g id=\"text_14\">\r\n   <!-- AGYW_PREV datim indicator  and the periodic target -->\r\n   <g style=\"fill:#262626;\" transform=\"translate(264.088813 22.924125)scale(0.216 -0.216)\">\r\n    <defs>\r\n     <path d=\"M 2575 0 \r\nL 2575 419 \r\nQ 2259 -75 1647 -75 \r\nQ 1250 -75 917 144 \r\nQ 584 363 401 755 \r\nQ 219 1147 219 1656 \r\nQ 219 2153 384 2558 \r\nQ 550 2963 881 3178 \r\nQ 1213 3394 1622 3394 \r\nQ 1922 3394 2156 3267 \r\nQ 2391 3141 2538 2938 \r\nL 2538 4581 \r\nL 3097 4581 \r\nL 3097 0 \r\nL 2575 0 \r\nz\r\nM 797 1656 \r\nQ 797 1019 1065 703 \r\nQ 1334 388 1700 388 \r\nQ 2069 388 2326 689 \r\nQ 2584 991 2584 1609 \r\nQ 2584 2291 2321 2609 \r\nQ 2059 2928 1675 2928 \r\nQ 1300 2928 1048 2622 \r\nQ 797 2316 797 1656 \r\nz\r\n\" id=\"ArialMT-64\" transform=\"scale(0.015625)\"/>\r\n     <path d=\"M 422 0 \r\nL 422 3319 \r\nL 925 3319 \r\nL 925 2853 \r\nQ 1081 3097 1340 3245 \r\nQ 1600 3394 1931 3394 \r\nQ 2300 3394 2536 3241 \r\nQ 2772 3088 2869 2813 \r\nQ 3263 3394 3894 3394 \r\nQ 4388 3394 4653 3120 \r\nQ 4919 2847 4919 2278 \r\nL 4919 0 \r\nL 4359 0 \r\nL 4359 2091 \r\nQ 4359 2428 4304 2576 \r\nQ 4250 2725 4106 2815 \r\nQ 3963 2906 3769 2906 \r\nQ 3419 2906 3187 2673 \r\nQ 2956 2441 2956 1928 \r\nL 2956 0 \r\nL 2394 0 \r\nL 2394 2156 \r\nQ 2394 2531 2256 2718 \r\nQ 2119 2906 1806 2906 \r\nQ 1569 2906 1367 2781 \r\nQ 1166 2656 1075 2415 \r\nQ 984 2175 984 1722 \r\nL 984 0 \r\nL 422 0 \r\nz\r\n\" id=\"ArialMT-6d\" transform=\"scale(0.015625)\"/>\r\n     <path d=\"M 422 0 \r\nL 422 3319 \r\nL 928 3319 \r\nL 928 2847 \r\nQ 1294 3394 1984 3394 \r\nQ 2284 3394 2536 3286 \r\nQ 2788 3178 2913 3003 \r\nQ 3038 2828 3088 2588 \r\nQ 3119 2431 3119 2041 \r\nL 3119 0 \r\nL 2556 0 \r\nL 2556 2019 \r\nQ 2556 2363 2490 2533 \r\nQ 2425 2703 2258 2804 \r\nQ 2091 2906 1866 2906 \r\nQ 1506 2906 1245 2678 \r\nQ 984 2450 984 1813 \r\nL 984 0 \r\nL 422 0 \r\nz\r\n\" id=\"ArialMT-6e\" transform=\"scale(0.015625)\"/>\r\n     <path d=\"M 422 0 \r\nL 422 4581 \r\nL 984 4581 \r\nL 984 2938 \r\nQ 1378 3394 1978 3394 \r\nQ 2347 3394 2619 3248 \r\nQ 2891 3103 3008 2847 \r\nQ 3125 2591 3125 2103 \r\nL 3125 0 \r\nL 2563 0 \r\nL 2563 2103 \r\nQ 2563 2525 2380 2717 \r\nQ 2197 2909 1863 2909 \r\nQ 1613 2909 1392 2779 \r\nQ 1172 2650 1078 2428 \r\nQ 984 2206 984 1816 \r\nL 984 0 \r\nL 422 0 \r\nz\r\n\" id=\"ArialMT-68\" transform=\"scale(0.015625)\"/>\r\n     <path d=\"M 422 -1272 \r\nL 422 3319 \r\nL 934 3319 \r\nL 934 2888 \r\nQ 1116 3141 1344 3267 \r\nQ 1572 3394 1897 3394 \r\nQ 2322 3394 2647 3175 \r\nQ 2972 2956 3137 2557 \r\nQ 3303 2159 3303 1684 \r\nQ 3303 1175 3120 767 \r\nQ 2938 359 2589 142 \r\nQ 2241 -75 1856 -75 \r\nQ 1575 -75 1351 44 \r\nQ 1128 163 984 344 \r\nL 984 -1272 \r\nL 422 -1272 \r\nz\r\nM 931 1641 \r\nQ 931 1000 1190 694 \r\nQ 1450 388 1819 388 \r\nQ 2194 388 2461 705 \r\nQ 2728 1022 2728 1688 \r\nQ 2728 2322 2467 2637 \r\nQ 2206 2953 1844 2953 \r\nQ 1484 2953 1207 2617 \r\nQ 931 2281 931 1641 \r\nz\r\n\" id=\"ArialMT-70\" transform=\"scale(0.015625)\"/>\r\n    </defs>\r\n    <use xlink:href=\"#ArialMT-41\"/>\r\n    <use x=\"66.699219\" xlink:href=\"#ArialMT-47\"/>\r\n    <use x=\"144.482422\" xlink:href=\"#ArialMT-59\"/>\r\n    <use x=\"211.181641\" xlink:href=\"#ArialMT-57\"/>\r\n    <use x=\"305.566406\" xlink:href=\"#ArialMT-5f\"/>\r\n    <use x=\"361.181641\" xlink:href=\"#ArialMT-50\"/>\r\n    <use x=\"427.880859\" xlink:href=\"#ArialMT-52\"/>\r\n    <use x=\"500.097656\" xlink:href=\"#ArialMT-45\"/>\r\n    <use x=\"566.796875\" xlink:href=\"#ArialMT-56\"/>\r\n    <use x=\"633.496094\" xlink:href=\"#ArialMT-20\"/>\r\n    <use x=\"661.279297\" xlink:href=\"#ArialMT-64\"/>\r\n    <use x=\"716.894531\" xlink:href=\"#ArialMT-61\"/>\r\n    <use x=\"772.509766\" xlink:href=\"#ArialMT-74\"/>\r\n    <use x=\"800.292969\" xlink:href=\"#ArialMT-69\"/>\r\n    <use x=\"822.509766\" xlink:href=\"#ArialMT-6d\"/>\r\n    <use x=\"905.810547\" xlink:href=\"#ArialMT-20\"/>\r\n    <use x=\"933.59375\" xlink:href=\"#ArialMT-69\"/>\r\n    <use x=\"955.810547\" xlink:href=\"#ArialMT-6e\"/>\r\n    <use x=\"1011.425781\" xlink:href=\"#ArialMT-64\"/>\r\n    <use x=\"1067.041016\" xlink:href=\"#ArialMT-69\"/>\r\n    <use x=\"1089.257812\" xlink:href=\"#ArialMT-63\"/>\r\n    <use x=\"1139.257812\" xlink:href=\"#ArialMT-61\"/>\r\n    <use x=\"1194.873047\" xlink:href=\"#ArialMT-74\"/>\r\n    <use x=\"1222.65625\" xlink:href=\"#ArialMT-6f\"/>\r\n    <use x=\"1278.271484\" xlink:href=\"#ArialMT-72\"/>\r\n    <use x=\"1311.572266\" xlink:href=\"#ArialMT-20\"/>\r\n    <use x=\"1339.355469\" xlink:href=\"#ArialMT-20\"/>\r\n    <use x=\"1367.138672\" xlink:href=\"#ArialMT-61\"/>\r\n    <use x=\"1422.753906\" xlink:href=\"#ArialMT-6e\"/>\r\n    <use x=\"1478.369141\" xlink:href=\"#ArialMT-64\"/>\r\n    <use x=\"1533.984375\" xlink:href=\"#ArialMT-20\"/>\r\n    <use x=\"1561.767578\" xlink:href=\"#ArialMT-74\"/>\r\n    <use x=\"1589.550781\" xlink:href=\"#ArialMT-68\"/>\r\n    <use x=\"1645.166016\" xlink:href=\"#ArialMT-65\"/>\r\n    <use x=\"1700.78125\" xlink:href=\"#ArialMT-20\"/>\r\n    <use x=\"1728.564453\" xlink:href=\"#ArialMT-70\"/>\r\n    <use x=\"1784.179688\" xlink:href=\"#ArialMT-65\"/>\r\n    <use x=\"1839.794922\" xlink:href=\"#ArialMT-72\"/>\r\n    <use x=\"1873.095703\" xlink:href=\"#ArialMT-69\"/>\r\n    <use x=\"1895.3125\" xlink:href=\"#ArialMT-6f\"/>\r\n    <use x=\"1950.927734\" xlink:href=\"#ArialMT-64\"/>\r\n    <use x=\"2006.542969\" xlink:href=\"#ArialMT-69\"/>\r\n    <use x=\"2028.759766\" xlink:href=\"#ArialMT-63\"/>\r\n    <use x=\"2078.759766\" xlink:href=\"#ArialMT-20\"/>\r\n    <use x=\"2106.542969\" xlink:href=\"#ArialMT-74\"/>\r\n    <use x=\"2134.326172\" xlink:href=\"#ArialMT-61\"/>\r\n    <use x=\"2189.941406\" xlink:href=\"#ArialMT-72\"/>\r\n    <use x=\"2223.242188\" xlink:href=\"#ArialMT-67\"/>\r\n    <use x=\"2278.857422\" xlink:href=\"#ArialMT-65\"/>\r\n    <use x=\"2334.472656\" xlink:href=\"#ArialMT-74\"/>\r\n   </g>\r\n  </g>\r\n </g>\r\n <defs>\r\n  <clipPath id=\"pdcd5fb8d98\">\r\n   <rect height=\"434.88\" width=\"892.8\" x=\"87.2\" y=\"64.8\"/>\r\n  </clipPath>\r\n </defs>\r\n</svg>\r\n",
      "image/png": "[encoded data removed]"
     },
     "metadata": {
      "needs_background": "light"
     }
    }
   ],
   "metadata": {}
  },
  {
   "cell_type": "code",
   "execution_count": null,
   "source": [
    "datim.total_datimI\r\n",
    "datim.total_datimII\r\n",
    "datim.total_datimIII"
   ],
   "outputs": [
    {
     "output_type": "execute_result",
     "data": {
      "text/plain": [
       "6825"
      ]
     },
     "metadata": {},
     "execution_count": 45
    },
    {
     "output_type": "execute_result",
     "data": {
      "text/plain": [
       "1392"
      ]
     },
     "metadata": {},
     "execution_count": 45
    },
    {
     "output_type": "execute_result",
     "data": {
      "text/plain": [
       "7017"
      ]
     },
     "metadata": {},
     "execution_count": 45
    }
   ],
   "metadata": {}
  },
  {
   "cell_type": "code",
   "execution_count": null,
   "source": [
    "from plotnine import *"
   ],
   "outputs": [],
   "metadata": {}
  },
  {
   "cell_type": "code",
   "execution_count": null,
   "source": [
    "stack_data = pd.DataFrame( \r\n",
    "                  {     \r\n",
    "                        \"supp\":[\"target\",\"indicateur\",\"indicateur\",\"indicateur\"],\r\n",
    "                        \"label\": [\"target\",\"composante I\",\"composante II\",\"composante III\"],\r\n",
    "                        \"data\": [target,datim.total_datimI,\r\n",
    "                                datim.total_datimII,\r\n",
    "                                datim.total_datimIII]\r\n",
    "                  })\r\n",
    "\r\n",
    "stack_data\r\n"
   ],
   "outputs": [
    {
     "output_type": "execute_result",
     "data": {
      "text/plain": [
       "         supp           label   data\n",
       "0      target          target  18000\n",
       "1  indicateur    composante I   6825\n",
       "2  indicateur   composante II   1392\n",
       "3  indicateur  composante III   7017"
      ],
      "text/html": [
       "<div>\n",
       "<style scoped>\n",
       "    .dataframe tbody tr th:only-of-type {\n",
       "        vertical-align: middle;\n",
       "    }\n",
       "\n",
       "    .dataframe tbody tr th {\n",
       "        vertical-align: top;\n",
       "    }\n",
       "\n",
       "    .dataframe thead th {\n",
       "        text-align: right;\n",
       "    }\n",
       "</style>\n",
       "<table border=\"1\" class=\"dataframe\">\n",
       "  <thead>\n",
       "    <tr style=\"text-align: right;\">\n",
       "      <th></th>\n",
       "      <th>supp</th>\n",
       "      <th>label</th>\n",
       "      <th>data</th>\n",
       "    </tr>\n",
       "  </thead>\n",
       "  <tbody>\n",
       "    <tr>\n",
       "      <th>0</th>\n",
       "      <td>target</td>\n",
       "      <td>target</td>\n",
       "      <td>18000</td>\n",
       "    </tr>\n",
       "    <tr>\n",
       "      <th>1</th>\n",
       "      <td>indicateur</td>\n",
       "      <td>composante I</td>\n",
       "      <td>6825</td>\n",
       "    </tr>\n",
       "    <tr>\n",
       "      <th>2</th>\n",
       "      <td>indicateur</td>\n",
       "      <td>composante II</td>\n",
       "      <td>1392</td>\n",
       "    </tr>\n",
       "    <tr>\n",
       "      <th>3</th>\n",
       "      <td>indicateur</td>\n",
       "      <td>composante III</td>\n",
       "      <td>7017</td>\n",
       "    </tr>\n",
       "  </tbody>\n",
       "</table>\n",
       "</div>"
      ]
     },
     "metadata": {},
     "execution_count": 47
    }
   ],
   "metadata": {}
  },
  {
   "cell_type": "code",
   "execution_count": null,
   "source": [
    "p = (ggplot(stack_data,aes(x=\"supp\",y=\"data\",fill=\"label\",width=0.7)) \r\n",
    " + geom_bar(position=position_stack(vjust=0.5),stat=\"identity\")\r\n",
    " + geom_text(aes(label=\"data\"),position=position_stack(vjust=0.5))\r\n",
    " + ggtitle(\" Les composantes AGYW PREV face au Target\")\r\n",
    " + xlab(\"\")\r\n",
    " +ylab(\"\")\r\n",
    " +labs(caption =  \"HIVHaiti\")\r\n",
    " + theme_seaborn()\r\n",
    ")\r\n",
    "p\r\n",
    "ggsave(plot=p,filename=\"composante_agywpre.png\",dpi=1000)"
   ],
   "outputs": [
    {
     "output_type": "display_data",
     "data": {
      "text/plain": [
       "<Figure size 640x480 with 1 Axes>"
      ],
      "image/svg+xml": "<?xml version=\"1.0\" encoding=\"utf-8\" standalone=\"no\"?>\r\n<!DOCTYPE svg PUBLIC \"-//W3C//DTD SVG 1.1//EN\"\r\n  \"http://www.w3.org/Graphics/SVG/1.1/DTD/svg11.dtd\">\r\n<svg height=\"318.25557pt\" version=\"1.1\" viewBox=\"0 0 557.408281 318.25557\" width=\"557.408281pt\" xmlns=\"http://www.w3.org/2000/svg\" xmlns:xlink=\"http://www.w3.org/1999/xlink\">\r\n <metadata>\r\n  <rdf:RDF xmlns:cc=\"http://creativecommons.org/ns#\" xmlns:dc=\"http://purl.org/dc/elements/1.1/\" xmlns:rdf=\"http://www.w3.org/1999/02/22-rdf-syntax-ns#\">\r\n   <cc:Work>\r\n    <dc:type rdf:resource=\"http://purl.org/dc/dcmitype/StillImage\"/>\r\n    <dc:date>2021-08-12T16:02:53.316868</dc:date>\r\n    <dc:format>image/svg+xml</dc:format>\r\n    <dc:creator>\r\n     <cc:Agent>\r\n      <dc:title>Matplotlib v3.4.1, https://matplotlib.org/</dc:title>\r\n     </cc:Agent>\r\n    </dc:creator>\r\n   </cc:Work>\r\n  </rdf:RDF>\r\n </metadata>\r\n <defs>\r\n  <style type=\"text/css\">*{stroke-linecap:butt;stroke-linejoin:round;}</style>\r\n </defs>\r\n <g id=\"figure_1\">\r\n  <g id=\"patch_1\">\r\n   <path d=\"M 0 318.25557 \r\nL 557.408281 318.25557 \r\nL 557.408281 0 \r\nL 0 0 \r\nz\r\n\" style=\"fill:#ffffff;\"/>\r\n  </g>\r\n  <g id=\"axes_1\">\r\n   <g id=\"patch_2\">\r\n    <path d=\"M 46.185156 292.595726 \r\nL 403.305156 292.595726 \r\nL 403.305156 26.483726 \r\nL 46.185156 26.483726 \r\nz\r\n\" style=\"fill:#eaeaf2;\"/>\r\n   </g>\r\n   <g id=\"matplotlib.axis_1\">\r\n    <g id=\"xtick_1\">\r\n     <g id=\"line2d_1\">\r\n      <path clip-path=\"url(#p92db42a9d2)\" d=\"M 143.58152 292.595726 \r\nL 143.58152 26.483726 \r\n\" style=\"fill:none;stroke:#ffffff;stroke-linecap:round;\"/>\r\n     </g>\r\n     <g id=\"line2d_2\">\r\n      <defs>\r\n       <path d=\"M 0 0 \r\nL 0 6 \r\n\" id=\"m1db634733f\" style=\"stroke:#262626;stroke-width:1.25;\"/>\r\n      </defs>\r\n      <g>\r\n       <use style=\"fill:#262626;stroke:#262626;stroke-width:1.25;\" x=\"143.58152\" xlink:href=\"#m1db634733f\" y=\"292.595726\"/>\r\n      </g>\r\n     </g>\r\n     <g id=\"text_1\">\r\n      <!-- indicateur -->\r\n      <g style=\"fill:#262626;\" transform=\"translate(119.735582 308.86932)scale(0.11 -0.11)\">\r\n       <defs>\r\n        <path d=\"M 425 3934 \r\nL 425 4581 \r\nL 988 4581 \r\nL 988 3934 \r\nL 425 3934 \r\nz\r\nM 425 0 \r\nL 425 3319 \r\nL 988 3319 \r\nL 988 0 \r\nL 425 0 \r\nz\r\n\" id=\"ArialMT-69\" transform=\"scale(0.015625)\"/>\r\n        <path d=\"M 422 0 \r\nL 422 3319 \r\nL 928 3319 \r\nL 928 2847 \r\nQ 1294 3394 1984 3394 \r\nQ 2284 3394 2536 3286 \r\nQ 2788 3178 2913 3003 \r\nQ 3038 2828 3088 2588 \r\nQ 3119 2431 3119 2041 \r\nL 3119 0 \r\nL 2556 0 \r\nL 2556 2019 \r\nQ 2556 2363 2490 2533 \r\nQ 2425 2703 2258 2804 \r\nQ 2091 2906 1866 2906 \r\nQ 1506 2906 1245 2678 \r\nQ 984 2450 984 1813 \r\nL 984 0 \r\nL 422 0 \r\nz\r\n\" id=\"ArialMT-6e\" transform=\"scale(0.015625)\"/>\r\n        <path d=\"M 2575 0 \r\nL 2575 419 \r\nQ 2259 -75 1647 -75 \r\nQ 1250 -75 917 144 \r\nQ 584 363 401 755 \r\nQ 219 1147 219 1656 \r\nQ 219 2153 384 2558 \r\nQ 550 2963 881 3178 \r\nQ 1213 3394 1622 3394 \r\nQ 1922 3394 2156 3267 \r\nQ 2391 3141 2538 2938 \r\nL 2538 4581 \r\nL 3097 4581 \r\nL 3097 0 \r\nL 2575 0 \r\nz\r\nM 797 1656 \r\nQ 797 1019 1065 703 \r\nQ 1334 388 1700 388 \r\nQ 2069 388 2326 689 \r\nQ 2584 991 2584 1609 \r\nQ 2584 2291 2321 2609 \r\nQ 2059 2928 1675 2928 \r\nQ 1300 2928 1048 2622 \r\nQ 797 2316 797 1656 \r\nz\r\n\" id=\"ArialMT-64\" transform=\"scale(0.015625)\"/>\r\n        <path d=\"M 2588 1216 \r\nL 3141 1144 \r\nQ 3050 572 2676 248 \r\nQ 2303 -75 1759 -75 \r\nQ 1078 -75 664 370 \r\nQ 250 816 250 1647 \r\nQ 250 2184 428 2587 \r\nQ 606 2991 970 3192 \r\nQ 1334 3394 1763 3394 \r\nQ 2303 3394 2647 3120 \r\nQ 2991 2847 3088 2344 \r\nL 2541 2259 \r\nQ 2463 2594 2264 2762 \r\nQ 2066 2931 1784 2931 \r\nQ 1359 2931 1093 2626 \r\nQ 828 2322 828 1663 \r\nQ 828 994 1084 691 \r\nQ 1341 388 1753 388 \r\nQ 2084 388 2306 591 \r\nQ 2528 794 2588 1216 \r\nz\r\n\" id=\"ArialMT-63\" transform=\"scale(0.015625)\"/>\r\n        <path d=\"M 2588 409 \r\nQ 2275 144 1986 34 \r\nQ 1697 -75 1366 -75 \r\nQ 819 -75 525 192 \r\nQ 231 459 231 875 \r\nQ 231 1119 342 1320 \r\nQ 453 1522 633 1644 \r\nQ 813 1766 1038 1828 \r\nQ 1203 1872 1538 1913 \r\nQ 2219 1994 2541 2106 \r\nQ 2544 2222 2544 2253 \r\nQ 2544 2597 2384 2738 \r\nQ 2169 2928 1744 2928 \r\nQ 1347 2928 1158 2789 \r\nQ 969 2650 878 2297 \r\nL 328 2372 \r\nQ 403 2725 575 2942 \r\nQ 747 3159 1072 3276 \r\nQ 1397 3394 1825 3394 \r\nQ 2250 3394 2515 3294 \r\nQ 2781 3194 2906 3042 \r\nQ 3031 2891 3081 2659 \r\nQ 3109 2516 3109 2141 \r\nL 3109 1391 \r\nQ 3109 606 3145 398 \r\nQ 3181 191 3288 0 \r\nL 2700 0 \r\nQ 2613 175 2588 409 \r\nz\r\nM 2541 1666 \r\nQ 2234 1541 1622 1453 \r\nQ 1275 1403 1131 1340 \r\nQ 988 1278 909 1158 \r\nQ 831 1038 831 891 \r\nQ 831 666 1001 516 \r\nQ 1172 366 1500 366 \r\nQ 1825 366 2078 508 \r\nQ 2331 650 2450 897 \r\nQ 2541 1088 2541 1459 \r\nL 2541 1666 \r\nz\r\n\" id=\"ArialMT-61\" transform=\"scale(0.015625)\"/>\r\n        <path d=\"M 1650 503 \r\nL 1731 6 \r\nQ 1494 -44 1306 -44 \r\nQ 1000 -44 831 53 \r\nQ 663 150 594 308 \r\nQ 525 466 525 972 \r\nL 525 2881 \r\nL 113 2881 \r\nL 113 3319 \r\nL 525 3319 \r\nL 525 4141 \r\nL 1084 4478 \r\nL 1084 3319 \r\nL 1650 3319 \r\nL 1650 2881 \r\nL 1084 2881 \r\nL 1084 941 \r\nQ 1084 700 1114 631 \r\nQ 1144 563 1211 522 \r\nQ 1278 481 1403 481 \r\nQ 1497 481 1650 503 \r\nz\r\n\" id=\"ArialMT-74\" transform=\"scale(0.015625)\"/>\r\n        <path d=\"M 2694 1069 \r\nL 3275 997 \r\nQ 3138 488 2766 206 \r\nQ 2394 -75 1816 -75 \r\nQ 1088 -75 661 373 \r\nQ 234 822 234 1631 \r\nQ 234 2469 665 2931 \r\nQ 1097 3394 1784 3394 \r\nQ 2450 3394 2872 2941 \r\nQ 3294 2488 3294 1666 \r\nQ 3294 1616 3291 1516 \r\nL 816 1516 \r\nQ 847 969 1125 678 \r\nQ 1403 388 1819 388 \r\nQ 2128 388 2347 550 \r\nQ 2566 713 2694 1069 \r\nz\r\nM 847 1978 \r\nL 2700 1978 \r\nQ 2663 2397 2488 2606 \r\nQ 2219 2931 1791 2931 \r\nQ 1403 2931 1139 2672 \r\nQ 875 2413 847 1978 \r\nz\r\n\" id=\"ArialMT-65\" transform=\"scale(0.015625)\"/>\r\n        <path d=\"M 2597 0 \r\nL 2597 488 \r\nQ 2209 -75 1544 -75 \r\nQ 1250 -75 995 37 \r\nQ 741 150 617 320 \r\nQ 494 491 444 738 \r\nQ 409 903 409 1263 \r\nL 409 3319 \r\nL 972 3319 \r\nL 972 1478 \r\nQ 972 1038 1006 884 \r\nQ 1059 663 1231 536 \r\nQ 1403 409 1656 409 \r\nQ 1909 409 2131 539 \r\nQ 2353 669 2445 892 \r\nQ 2538 1116 2538 1541 \r\nL 2538 3319 \r\nL 3100 3319 \r\nL 3100 0 \r\nL 2597 0 \r\nz\r\n\" id=\"ArialMT-75\" transform=\"scale(0.015625)\"/>\r\n        <path d=\"M 416 0 \r\nL 416 3319 \r\nL 922 3319 \r\nL 922 2816 \r\nQ 1116 3169 1280 3281 \r\nQ 1444 3394 1641 3394 \r\nQ 1925 3394 2219 3213 \r\nL 2025 2691 \r\nQ 1819 2813 1613 2813 \r\nQ 1428 2813 1281 2702 \r\nQ 1134 2591 1072 2394 \r\nQ 978 2094 978 1738 \r\nL 978 0 \r\nL 416 0 \r\nz\r\n\" id=\"ArialMT-72\" transform=\"scale(0.015625)\"/>\r\n       </defs>\r\n       <use xlink:href=\"#ArialMT-69\"/>\r\n       <use x=\"22.216797\" xlink:href=\"#ArialMT-6e\"/>\r\n       <use x=\"77.832031\" xlink:href=\"#ArialMT-64\"/>\r\n       <use x=\"133.447266\" xlink:href=\"#ArialMT-69\"/>\r\n       <use x=\"155.664062\" xlink:href=\"#ArialMT-63\"/>\r\n       <use x=\"205.664062\" xlink:href=\"#ArialMT-61\"/>\r\n       <use x=\"261.279297\" xlink:href=\"#ArialMT-74\"/>\r\n       <use x=\"289.0625\" xlink:href=\"#ArialMT-65\"/>\r\n       <use x=\"344.677734\" xlink:href=\"#ArialMT-75\"/>\r\n       <use x=\"400.292969\" xlink:href=\"#ArialMT-72\"/>\r\n      </g>\r\n     </g>\r\n    </g>\r\n    <g id=\"xtick_2\">\r\n     <g id=\"line2d_3\">\r\n      <path clip-path=\"url(#p92db42a9d2)\" d=\"M 305.908793 292.595726 \r\nL 305.908793 26.483726 \r\n\" style=\"fill:none;stroke:#ffffff;stroke-linecap:round;\"/>\r\n     </g>\r\n     <g id=\"line2d_4\">\r\n      <g>\r\n       <use style=\"fill:#262626;stroke:#262626;stroke-width:1.25;\" x=\"305.908793\" xlink:href=\"#m1db634733f\" y=\"292.595726\"/>\r\n      </g>\r\n     </g>\r\n     <g id=\"text_2\">\r\n      <!-- target -->\r\n      <g style=\"fill:#262626;\" transform=\"translate(291.84598 308.740413)scale(0.11 -0.11)\">\r\n       <defs>\r\n        <path d=\"M 319 -275 \r\nL 866 -356 \r\nQ 900 -609 1056 -725 \r\nQ 1266 -881 1628 -881 \r\nQ 2019 -881 2231 -725 \r\nQ 2444 -569 2519 -288 \r\nQ 2563 -116 2559 434 \r\nQ 2191 0 1641 0 \r\nQ 956 0 581 494 \r\nQ 206 988 206 1678 \r\nQ 206 2153 378 2554 \r\nQ 550 2956 876 3175 \r\nQ 1203 3394 1644 3394 \r\nQ 2231 3394 2613 2919 \r\nL 2613 3319 \r\nL 3131 3319 \r\nL 3131 450 \r\nQ 3131 -325 2973 -648 \r\nQ 2816 -972 2473 -1159 \r\nQ 2131 -1347 1631 -1347 \r\nQ 1038 -1347 672 -1080 \r\nQ 306 -813 319 -275 \r\nz\r\nM 784 1719 \r\nQ 784 1066 1043 766 \r\nQ 1303 466 1694 466 \r\nQ 2081 466 2343 764 \r\nQ 2606 1063 2606 1700 \r\nQ 2606 2309 2336 2618 \r\nQ 2066 2928 1684 2928 \r\nQ 1309 2928 1046 2623 \r\nQ 784 2319 784 1719 \r\nz\r\n\" id=\"ArialMT-67\" transform=\"scale(0.015625)\"/>\r\n       </defs>\r\n       <use xlink:href=\"#ArialMT-74\"/>\r\n       <use x=\"27.783203\" xlink:href=\"#ArialMT-61\"/>\r\n       <use x=\"83.398438\" xlink:href=\"#ArialMT-72\"/>\r\n       <use x=\"116.699219\" xlink:href=\"#ArialMT-67\"/>\r\n       <use x=\"172.314453\" xlink:href=\"#ArialMT-65\"/>\r\n       <use x=\"227.929688\" xlink:href=\"#ArialMT-74\"/>\r\n      </g>\r\n     </g>\r\n    </g>\r\n   </g>\r\n   <g id=\"matplotlib.axis_2\">\r\n    <g id=\"ytick_1\">\r\n     <g id=\"line2d_5\">\r\n      <path clip-path=\"url(#p92db42a9d2)\" d=\"M 46.185156 280.499726 \r\nL 403.305156 280.499726 \r\n\" style=\"fill:none;stroke:#ffffff;stroke-linecap:round;\"/>\r\n     </g>\r\n     <g id=\"line2d_6\">\r\n      <defs>\r\n       <path d=\"M 0 0 \r\nL -6 0 \r\n\" id=\"m5007b1f6ed\" style=\"stroke:#262626;stroke-width:1.25;\"/>\r\n      </defs>\r\n      <g>\r\n       <use style=\"fill:#262626;stroke:#262626;stroke-width:1.25;\" x=\"46.185156\" xlink:href=\"#m5007b1f6ed\" y=\"280.499726\"/>\r\n      </g>\r\n     </g>\r\n     <g id=\"text_3\">\r\n      <!-- 0 -->\r\n      <g style=\"fill:#262626;\" transform=\"translate(31.668125 284.436523)scale(0.11 -0.11)\">\r\n       <defs>\r\n        <path d=\"M 266 2259 \r\nQ 266 3072 433 3567 \r\nQ 600 4063 929 4331 \r\nQ 1259 4600 1759 4600 \r\nQ 2128 4600 2406 4451 \r\nQ 2684 4303 2865 4023 \r\nQ 3047 3744 3150 3342 \r\nQ 3253 2941 3253 2259 \r\nQ 3253 1453 3087 958 \r\nQ 2922 463 2592 192 \r\nQ 2263 -78 1759 -78 \r\nQ 1097 -78 719 397 \r\nQ 266 969 266 2259 \r\nz\r\nM 844 2259 \r\nQ 844 1131 1108 757 \r\nQ 1372 384 1759 384 \r\nQ 2147 384 2411 759 \r\nQ 2675 1134 2675 2259 \r\nQ 2675 3391 2411 3762 \r\nQ 2147 4134 1753 4134 \r\nQ 1366 4134 1134 3806 \r\nQ 844 3388 844 2259 \r\nz\r\n\" id=\"ArialMT-30\" transform=\"scale(0.015625)\"/>\r\n       </defs>\r\n       <use xlink:href=\"#ArialMT-30\"/>\r\n      </g>\r\n     </g>\r\n    </g>\r\n    <g id=\"ytick_2\">\r\n     <g id=\"line2d_7\">\r\n      <path clip-path=\"url(#p92db42a9d2)\" d=\"M 46.185156 213.299726 \r\nL 403.305156 213.299726 \r\n\" style=\"fill:none;stroke:#ffffff;stroke-linecap:round;\"/>\r\n     </g>\r\n     <g id=\"line2d_8\">\r\n      <g>\r\n       <use style=\"fill:#262626;stroke:#262626;stroke-width:1.25;\" x=\"46.185156\" xlink:href=\"#m5007b1f6ed\" y=\"213.299726\"/>\r\n      </g>\r\n     </g>\r\n     <g id=\"text_4\">\r\n      <!-- 5000 -->\r\n      <g style=\"fill:#262626;\" transform=\"translate(13.317031 217.236523)scale(0.11 -0.11)\">\r\n       <defs>\r\n        <path d=\"M 266 1200 \r\nL 856 1250 \r\nQ 922 819 1161 601 \r\nQ 1400 384 1738 384 \r\nQ 2144 384 2425 690 \r\nQ 2706 997 2706 1503 \r\nQ 2706 1984 2436 2262 \r\nQ 2166 2541 1728 2541 \r\nQ 1456 2541 1237 2417 \r\nQ 1019 2294 894 2097 \r\nL 366 2166 \r\nL 809 4519 \r\nL 3088 4519 \r\nL 3088 3981 \r\nL 1259 3981 \r\nL 1013 2750 \r\nQ 1425 3038 1878 3038 \r\nQ 2478 3038 2890 2622 \r\nQ 3303 2206 3303 1553 \r\nQ 3303 931 2941 478 \r\nQ 2500 -78 1738 -78 \r\nQ 1113 -78 717 272 \r\nQ 322 622 266 1200 \r\nz\r\n\" id=\"ArialMT-35\" transform=\"scale(0.015625)\"/>\r\n       </defs>\r\n       <use xlink:href=\"#ArialMT-35\"/>\r\n       <use x=\"55.615234\" xlink:href=\"#ArialMT-30\"/>\r\n       <use x=\"111.230469\" xlink:href=\"#ArialMT-30\"/>\r\n       <use x=\"166.845703\" xlink:href=\"#ArialMT-30\"/>\r\n      </g>\r\n     </g>\r\n    </g>\r\n    <g id=\"ytick_3\">\r\n     <g id=\"line2d_9\">\r\n      <path clip-path=\"url(#p92db42a9d2)\" d=\"M 46.185156 146.099726 \r\nL 403.305156 146.099726 \r\n\" style=\"fill:none;stroke:#ffffff;stroke-linecap:round;\"/>\r\n     </g>\r\n     <g id=\"line2d_10\">\r\n      <g>\r\n       <use style=\"fill:#262626;stroke:#262626;stroke-width:1.25;\" x=\"46.185156\" xlink:href=\"#m5007b1f6ed\" y=\"146.099726\"/>\r\n      </g>\r\n     </g>\r\n     <g id=\"text_5\">\r\n      <!-- 10000 -->\r\n      <g style=\"fill:#262626;\" transform=\"translate(7.2 150.036523)scale(0.11 -0.11)\">\r\n       <defs>\r\n        <path d=\"M 2384 0 \r\nL 1822 0 \r\nL 1822 3584 \r\nQ 1619 3391 1289 3197 \r\nQ 959 3003 697 2906 \r\nL 697 3450 \r\nQ 1169 3672 1522 3987 \r\nQ 1875 4303 2022 4600 \r\nL 2384 4600 \r\nL 2384 0 \r\nz\r\n\" id=\"ArialMT-31\" transform=\"scale(0.015625)\"/>\r\n       </defs>\r\n       <use xlink:href=\"#ArialMT-31\"/>\r\n       <use x=\"55.615234\" xlink:href=\"#ArialMT-30\"/>\r\n       <use x=\"111.230469\" xlink:href=\"#ArialMT-30\"/>\r\n       <use x=\"166.845703\" xlink:href=\"#ArialMT-30\"/>\r\n       <use x=\"222.460938\" xlink:href=\"#ArialMT-30\"/>\r\n      </g>\r\n     </g>\r\n    </g>\r\n    <g id=\"ytick_4\">\r\n     <g id=\"line2d_11\">\r\n      <path clip-path=\"url(#p92db42a9d2)\" d=\"M 46.185156 78.899726 \r\nL 403.305156 78.899726 \r\n\" style=\"fill:none;stroke:#ffffff;stroke-linecap:round;\"/>\r\n     </g>\r\n     <g id=\"line2d_12\">\r\n      <g>\r\n       <use style=\"fill:#262626;stroke:#262626;stroke-width:1.25;\" x=\"46.185156\" xlink:href=\"#m5007b1f6ed\" y=\"78.899726\"/>\r\n      </g>\r\n     </g>\r\n     <g id=\"text_6\">\r\n      <!-- 15000 -->\r\n      <g style=\"fill:#262626;\" transform=\"translate(7.2 82.836523)scale(0.11 -0.11)\">\r\n       <use xlink:href=\"#ArialMT-31\"/>\r\n       <use x=\"55.615234\" xlink:href=\"#ArialMT-35\"/>\r\n       <use x=\"111.230469\" xlink:href=\"#ArialMT-30\"/>\r\n       <use x=\"166.845703\" xlink:href=\"#ArialMT-30\"/>\r\n       <use x=\"222.460938\" xlink:href=\"#ArialMT-30\"/>\r\n      </g>\r\n     </g>\r\n    </g>\r\n    <g id=\"ytick_5\">\r\n     <g id=\"line2d_13\">\r\n      <defs>\r\n       <path d=\"M 0 0 \r\nL -4 0 \r\n\" id=\"mbc50e34a74\" style=\"stroke:#262626;\"/>\r\n      </defs>\r\n      <g>\r\n       <use style=\"fill:#262626;stroke:#262626;\" x=\"46.185156\" xlink:href=\"#mbc50e34a74\" y=\"246.899726\"/>\r\n      </g>\r\n     </g>\r\n    </g>\r\n    <g id=\"ytick_6\">\r\n     <g id=\"line2d_14\">\r\n      <g>\r\n       <use style=\"fill:#262626;stroke:#262626;\" x=\"46.185156\" xlink:href=\"#mbc50e34a74\" y=\"179.699726\"/>\r\n      </g>\r\n     </g>\r\n    </g>\r\n    <g id=\"ytick_7\">\r\n     <g id=\"line2d_15\">\r\n      <g>\r\n       <use style=\"fill:#262626;stroke:#262626;\" x=\"46.185156\" xlink:href=\"#mbc50e34a74\" y=\"112.499726\"/>\r\n      </g>\r\n     </g>\r\n    </g>\r\n    <g id=\"ytick_8\">\r\n     <g id=\"line2d_16\">\r\n      <g>\r\n       <use style=\"fill:#262626;stroke:#262626;\" x=\"46.185156\" xlink:href=\"#mbc50e34a74\" y=\"45.299726\"/>\r\n      </g>\r\n     </g>\r\n    </g>\r\n   </g>\r\n   <g id=\"PolyCollection_1\">\r\n    <path clip-path=\"url(#p92db42a9d2)\" d=\"M 86.766974 280.499726 \r\nL 86.766974 186.191246 \r\nL 200.396065 186.191246 \r\nL 200.396065 280.499726 \r\nz\r\n\" style=\"fill:#57d3db;\"/>\r\n    <path clip-path=\"url(#p92db42a9d2)\" d=\"M 86.766974 186.191246 \r\nL 86.766974 167.482766 \r\nL 200.396065 167.482766 \r\nL 200.396065 186.191246 \r\nz\r\n\" style=\"fill:#91db57;\"/>\r\n    <path clip-path=\"url(#p92db42a9d2)\" d=\"M 86.766974 167.482766 \r\nL 86.766974 75.754766 \r\nL 200.396065 75.754766 \r\nL 200.396065 167.482766 \r\nz\r\n\" style=\"fill:#db5f57;\"/>\r\n    <path clip-path=\"url(#p92db42a9d2)\" d=\"M 249.094247 280.499726 \r\nL 249.094247 38.579726 \r\nL 362.723338 38.579726 \r\nL 362.723338 280.499726 \r\nz\r\n\" style=\"fill:#a157db;\"/>\r\n   </g>\r\n   <g id=\"text_7\">\r\n    <g clip-path=\"url(#p92db42a9d2)\">\r\n     <!-- 6825 -->\r\n     <g transform=\"translate(131.347457 124.462438)scale(0.11 -0.11)\">\r\n      <defs>\r\n       <path d=\"M 3184 3459 \r\nL 2625 3416 \r\nQ 2550 3747 2413 3897 \r\nQ 2184 4138 1850 4138 \r\nQ 1581 4138 1378 3988 \r\nQ 1113 3794 959 3422 \r\nQ 806 3050 800 2363 \r\nQ 1003 2672 1297 2822 \r\nQ 1591 2972 1913 2972 \r\nQ 2475 2972 2870 2558 \r\nQ 3266 2144 3266 1488 \r\nQ 3266 1056 3080 686 \r\nQ 2894 316 2569 119 \r\nQ 2244 -78 1831 -78 \r\nQ 1128 -78 684 439 \r\nQ 241 956 241 2144 \r\nQ 241 3472 731 4075 \r\nQ 1159 4600 1884 4600 \r\nQ 2425 4600 2770 4297 \r\nQ 3116 3994 3184 3459 \r\nz\r\nM 888 1484 \r\nQ 888 1194 1011 928 \r\nQ 1134 663 1356 523 \r\nQ 1578 384 1822 384 \r\nQ 2178 384 2434 671 \r\nQ 2691 959 2691 1453 \r\nQ 2691 1928 2437 2201 \r\nQ 2184 2475 1800 2475 \r\nQ 1419 2475 1153 2201 \r\nQ 888 1928 888 1484 \r\nz\r\n\" id=\"ArialMT-36\" transform=\"scale(0.015625)\"/>\r\n       <path d=\"M 1131 2484 \r\nQ 781 2613 612 2850 \r\nQ 444 3088 444 3419 \r\nQ 444 3919 803 4259 \r\nQ 1163 4600 1759 4600 \r\nQ 2359 4600 2725 4251 \r\nQ 3091 3903 3091 3403 \r\nQ 3091 3084 2923 2848 \r\nQ 2756 2613 2416 2484 \r\nQ 2838 2347 3058 2040 \r\nQ 3278 1734 3278 1309 \r\nQ 3278 722 2862 322 \r\nQ 2447 -78 1769 -78 \r\nQ 1091 -78 675 323 \r\nQ 259 725 259 1325 \r\nQ 259 1772 486 2073 \r\nQ 713 2375 1131 2484 \r\nz\r\nM 1019 3438 \r\nQ 1019 3113 1228 2906 \r\nQ 1438 2700 1772 2700 \r\nQ 2097 2700 2305 2904 \r\nQ 2513 3109 2513 3406 \r\nQ 2513 3716 2298 3927 \r\nQ 2084 4138 1766 4138 \r\nQ 1444 4138 1231 3931 \r\nQ 1019 3725 1019 3438 \r\nz\r\nM 838 1322 \r\nQ 838 1081 952 856 \r\nQ 1066 631 1291 507 \r\nQ 1516 384 1775 384 \r\nQ 2178 384 2440 643 \r\nQ 2703 903 2703 1303 \r\nQ 2703 1709 2433 1975 \r\nQ 2163 2241 1756 2241 \r\nQ 1359 2241 1098 1978 \r\nQ 838 1716 838 1322 \r\nz\r\n\" id=\"ArialMT-38\" transform=\"scale(0.015625)\"/>\r\n       <path d=\"M 3222 541 \r\nL 3222 0 \r\nL 194 0 \r\nQ 188 203 259 391 \r\nQ 375 700 629 1000 \r\nQ 884 1300 1366 1694 \r\nQ 2113 2306 2375 2664 \r\nQ 2638 3022 2638 3341 \r\nQ 2638 3675 2398 3904 \r\nQ 2159 4134 1775 4134 \r\nQ 1369 4134 1125 3890 \r\nQ 881 3647 878 3216 \r\nL 300 3275 \r\nQ 359 3922 746 4261 \r\nQ 1134 4600 1788 4600 \r\nQ 2447 4600 2831 4234 \r\nQ 3216 3869 3216 3328 \r\nQ 3216 3053 3103 2787 \r\nQ 2991 2522 2730 2228 \r\nQ 2469 1934 1863 1422 \r\nQ 1356 997 1212 845 \r\nQ 1069 694 975 541 \r\nL 3222 541 \r\nz\r\n\" id=\"ArialMT-32\" transform=\"scale(0.015625)\"/>\r\n      </defs>\r\n      <use xlink:href=\"#ArialMT-36\"/>\r\n      <use x=\"55.615234\" xlink:href=\"#ArialMT-38\"/>\r\n      <use x=\"111.230469\" xlink:href=\"#ArialMT-32\"/>\r\n      <use x=\"166.845703\" xlink:href=\"#ArialMT-35\"/>\r\n     </g>\r\n    </g>\r\n   </g>\r\n   <g id=\"text_8\">\r\n    <g clip-path=\"url(#p92db42a9d2)\">\r\n     <!-- 1392 -->\r\n     <g transform=\"translate(131.347457 179.680678)scale(0.11 -0.11)\">\r\n      <defs>\r\n       <path d=\"M 269 1209 \r\nL 831 1284 \r\nQ 928 806 1161 595 \r\nQ 1394 384 1728 384 \r\nQ 2125 384 2398 659 \r\nQ 2672 934 2672 1341 \r\nQ 2672 1728 2419 1979 \r\nQ 2166 2231 1775 2231 \r\nQ 1616 2231 1378 2169 \r\nL 1441 2663 \r\nQ 1497 2656 1531 2656 \r\nQ 1891 2656 2178 2843 \r\nQ 2466 3031 2466 3422 \r\nQ 2466 3731 2256 3934 \r\nQ 2047 4138 1716 4138 \r\nQ 1388 4138 1169 3931 \r\nQ 950 3725 888 3313 \r\nL 325 3413 \r\nQ 428 3978 793 4289 \r\nQ 1159 4600 1703 4600 \r\nQ 2078 4600 2393 4439 \r\nQ 2709 4278 2876 4000 \r\nQ 3044 3722 3044 3409 \r\nQ 3044 3113 2884 2869 \r\nQ 2725 2625 2413 2481 \r\nQ 2819 2388 3044 2092 \r\nQ 3269 1797 3269 1353 \r\nQ 3269 753 2831 336 \r\nQ 2394 -81 1725 -81 \r\nQ 1122 -81 723 278 \r\nQ 325 638 269 1209 \r\nz\r\n\" id=\"ArialMT-33\" transform=\"scale(0.015625)\"/>\r\n       <path d=\"M 350 1059 \r\nL 891 1109 \r\nQ 959 728 1153 556 \r\nQ 1347 384 1650 384 \r\nQ 1909 384 2104 503 \r\nQ 2300 622 2425 820 \r\nQ 2550 1019 2634 1356 \r\nQ 2719 1694 2719 2044 \r\nQ 2719 2081 2716 2156 \r\nQ 2547 1888 2255 1720 \r\nQ 1963 1553 1622 1553 \r\nQ 1053 1553 659 1965 \r\nQ 266 2378 266 3053 \r\nQ 266 3750 677 4175 \r\nQ 1088 4600 1706 4600 \r\nQ 2153 4600 2523 4359 \r\nQ 2894 4119 3086 3673 \r\nQ 3278 3228 3278 2384 \r\nQ 3278 1506 3087 986 \r\nQ 2897 466 2520 194 \r\nQ 2144 -78 1638 -78 \r\nQ 1100 -78 759 220 \r\nQ 419 519 350 1059 \r\nz\r\nM 2653 3081 \r\nQ 2653 3566 2395 3850 \r\nQ 2138 4134 1775 4134 \r\nQ 1400 4134 1122 3828 \r\nQ 844 3522 844 3034 \r\nQ 844 2597 1108 2323 \r\nQ 1372 2050 1759 2050 \r\nQ 2150 2050 2401 2323 \r\nQ 2653 2597 2653 3081 \r\nz\r\n\" id=\"ArialMT-39\" transform=\"scale(0.015625)\"/>\r\n      </defs>\r\n      <use xlink:href=\"#ArialMT-31\"/>\r\n      <use x=\"55.615234\" xlink:href=\"#ArialMT-33\"/>\r\n      <use x=\"111.230469\" xlink:href=\"#ArialMT-39\"/>\r\n      <use x=\"166.845703\" xlink:href=\"#ArialMT-32\"/>\r\n     </g>\r\n    </g>\r\n   </g>\r\n   <g id=\"text_9\">\r\n    <g clip-path=\"url(#p92db42a9d2)\">\r\n     <!-- 7017 -->\r\n     <g transform=\"translate(131.347457 236.189158)scale(0.11 -0.11)\">\r\n      <defs>\r\n       <path d=\"M 303 3981 \r\nL 303 4522 \r\nL 3269 4522 \r\nL 3269 4084 \r\nQ 2831 3619 2401 2847 \r\nQ 1972 2075 1738 1259 \r\nQ 1569 684 1522 0 \r\nL 944 0 \r\nQ 953 541 1156 1306 \r\nQ 1359 2072 1739 2783 \r\nQ 2119 3494 2547 3981 \r\nL 303 3981 \r\nz\r\n\" id=\"ArialMT-37\" transform=\"scale(0.015625)\"/>\r\n      </defs>\r\n      <use xlink:href=\"#ArialMT-37\"/>\r\n      <use x=\"55.615234\" xlink:href=\"#ArialMT-30\"/>\r\n      <use x=\"111.230469\" xlink:href=\"#ArialMT-31\"/>\r\n      <use x=\"166.845703\" xlink:href=\"#ArialMT-37\"/>\r\n     </g>\r\n    </g>\r\n   </g>\r\n   <g id=\"text_10\">\r\n    <g clip-path=\"url(#p92db42a9d2)\">\r\n     <!-- 18000 -->\r\n     <g transform=\"translate(290.616214 162.383398)scale(0.11 -0.11)\">\r\n      <use xlink:href=\"#ArialMT-31\"/>\r\n      <use x=\"55.615234\" xlink:href=\"#ArialMT-38\"/>\r\n      <use x=\"111.230469\" xlink:href=\"#ArialMT-30\"/>\r\n      <use x=\"166.845703\" xlink:href=\"#ArialMT-30\"/>\r\n      <use x=\"222.460938\" xlink:href=\"#ArialMT-30\"/>\r\n     </g>\r\n    </g>\r\n   </g>\r\n   <g id=\"patch_3\">\r\n    <path d=\"M 46.185156 292.595726 \r\nL 46.185156 26.483726 \r\n\" style=\"fill:none;stroke:#ffffff;stroke-linecap:square;stroke-linejoin:miter;stroke-width:1.25;\"/>\r\n   </g>\r\n   <g id=\"patch_4\">\r\n    <path d=\"M 403.305156 292.595726 \r\nL 403.305156 26.483726 \r\n\" style=\"fill:none;stroke:#ffffff;stroke-linecap:square;stroke-linejoin:miter;stroke-width:1.25;\"/>\r\n   </g>\r\n   <g id=\"patch_5\">\r\n    <path d=\"M 46.185156 292.595726 \r\nL 403.305156 292.595726 \r\n\" style=\"fill:none;stroke:#ffffff;stroke-linecap:square;stroke-linejoin:miter;stroke-width:1.25;\"/>\r\n   </g>\r\n   <g id=\"patch_6\">\r\n    <path d=\"M 46.185156 26.483726 \r\nL 403.305156 26.483726 \r\n\" style=\"fill:none;stroke:#ffffff;stroke-linecap:square;stroke-linejoin:miter;stroke-width:1.25;\"/>\r\n   </g>\r\n   <g id=\"text_11\">\r\n    <!-- label -->\r\n    <g transform=\"translate(430.505156 117.913913)scale(0.12 -0.12)\">\r\n     <defs>\r\n      <path d=\"M 409 0 \r\nL 409 4581 \r\nL 972 4581 \r\nL 972 0 \r\nL 409 0 \r\nz\r\n\" id=\"ArialMT-6c\" transform=\"scale(0.015625)\"/>\r\n      <path d=\"M 941 0 \r\nL 419 0 \r\nL 419 4581 \r\nL 981 4581 \r\nL 981 2947 \r\nQ 1338 3394 1891 3394 \r\nQ 2197 3394 2470 3270 \r\nQ 2744 3147 2920 2923 \r\nQ 3097 2700 3197 2384 \r\nQ 3297 2069 3297 1709 \r\nQ 3297 856 2875 390 \r\nQ 2453 -75 1863 -75 \r\nQ 1275 -75 941 416 \r\nL 941 0 \r\nz\r\nM 934 1684 \r\nQ 934 1088 1097 822 \r\nQ 1363 388 1816 388 \r\nQ 2184 388 2453 708 \r\nQ 2722 1028 2722 1663 \r\nQ 2722 2313 2464 2622 \r\nQ 2206 2931 1841 2931 \r\nQ 1472 2931 1203 2611 \r\nQ 934 2291 934 1684 \r\nz\r\n\" id=\"ArialMT-62\" transform=\"scale(0.015625)\"/>\r\n     </defs>\r\n     <use xlink:href=\"#ArialMT-6c\"/>\r\n     <use x=\"22.216797\" xlink:href=\"#ArialMT-61\"/>\r\n     <use x=\"77.832031\" xlink:href=\"#ArialMT-62\"/>\r\n     <use x=\"133.447266\" xlink:href=\"#ArialMT-65\"/>\r\n     <use x=\"189.0625\" xlink:href=\"#ArialMT-6c\"/>\r\n    </g>\r\n   </g>\r\n   <g id=\"patch_7\">\r\n    <path clip-path=\"url(#p6a81eee5c5)\" d=\"M 430.505156 146.298913 \r\nL 448.505156 146.298913 \r\nL 448.505156 128.298913 \r\nL 430.505156 128.298913 \r\nz\r\n\" style=\"fill:#ffffff;\"/>\r\n   </g>\r\n   <g id=\"patch_8\">\r\n    <path clip-path=\"url(#p6a81eee5c5)\" d=\"M 430.505156 146.298913 \r\nL 448.505156 146.298913 \r\nL 448.505156 128.298913 \r\nL 430.505156 128.298913 \r\nz\r\n\" style=\"fill:#db5f57;\"/>\r\n   </g>\r\n   <g id=\"text_12\">\r\n    <!-- composante I -->\r\n    <g transform=\"translate(451.505156 140.401101)scale(0.12 -0.12)\">\r\n     <defs>\r\n      <path d=\"M 213 1659 \r\nQ 213 2581 725 3025 \r\nQ 1153 3394 1769 3394 \r\nQ 2453 3394 2887 2945 \r\nQ 3322 2497 3322 1706 \r\nQ 3322 1066 3130 698 \r\nQ 2938 331 2570 128 \r\nQ 2203 -75 1769 -75 \r\nQ 1072 -75 642 372 \r\nQ 213 819 213 1659 \r\nz\r\nM 791 1659 \r\nQ 791 1022 1069 705 \r\nQ 1347 388 1769 388 \r\nQ 2188 388 2466 706 \r\nQ 2744 1025 2744 1678 \r\nQ 2744 2294 2464 2611 \r\nQ 2184 2928 1769 2928 \r\nQ 1347 2928 1069 2612 \r\nQ 791 2297 791 1659 \r\nz\r\n\" id=\"ArialMT-6f\" transform=\"scale(0.015625)\"/>\r\n      <path d=\"M 422 0 \r\nL 422 3319 \r\nL 925 3319 \r\nL 925 2853 \r\nQ 1081 3097 1340 3245 \r\nQ 1600 3394 1931 3394 \r\nQ 2300 3394 2536 3241 \r\nQ 2772 3088 2869 2813 \r\nQ 3263 3394 3894 3394 \r\nQ 4388 3394 4653 3120 \r\nQ 4919 2847 4919 2278 \r\nL 4919 0 \r\nL 4359 0 \r\nL 4359 2091 \r\nQ 4359 2428 4304 2576 \r\nQ 4250 2725 4106 2815 \r\nQ 3963 2906 3769 2906 \r\nQ 3419 2906 3187 2673 \r\nQ 2956 2441 2956 1928 \r\nL 2956 0 \r\nL 2394 0 \r\nL 2394 2156 \r\nQ 2394 2531 2256 2718 \r\nQ 2119 2906 1806 2906 \r\nQ 1569 2906 1367 2781 \r\nQ 1166 2656 1075 2415 \r\nQ 984 2175 984 1722 \r\nL 984 0 \r\nL 422 0 \r\nz\r\n\" id=\"ArialMT-6d\" transform=\"scale(0.015625)\"/>\r\n      <path d=\"M 422 -1272 \r\nL 422 3319 \r\nL 934 3319 \r\nL 934 2888 \r\nQ 1116 3141 1344 3267 \r\nQ 1572 3394 1897 3394 \r\nQ 2322 3394 2647 3175 \r\nQ 2972 2956 3137 2557 \r\nQ 3303 2159 3303 1684 \r\nQ 3303 1175 3120 767 \r\nQ 2938 359 2589 142 \r\nQ 2241 -75 1856 -75 \r\nQ 1575 -75 1351 44 \r\nQ 1128 163 984 344 \r\nL 984 -1272 \r\nL 422 -1272 \r\nz\r\nM 931 1641 \r\nQ 931 1000 1190 694 \r\nQ 1450 388 1819 388 \r\nQ 2194 388 2461 705 \r\nQ 2728 1022 2728 1688 \r\nQ 2728 2322 2467 2637 \r\nQ 2206 2953 1844 2953 \r\nQ 1484 2953 1207 2617 \r\nQ 931 2281 931 1641 \r\nz\r\n\" id=\"ArialMT-70\" transform=\"scale(0.015625)\"/>\r\n      <path d=\"M 197 991 \r\nL 753 1078 \r\nQ 800 744 1014 566 \r\nQ 1228 388 1613 388 \r\nQ 2000 388 2187 545 \r\nQ 2375 703 2375 916 \r\nQ 2375 1106 2209 1216 \r\nQ 2094 1291 1634 1406 \r\nQ 1016 1563 777 1677 \r\nQ 538 1791 414 1992 \r\nQ 291 2194 291 2438 \r\nQ 291 2659 392 2848 \r\nQ 494 3038 669 3163 \r\nQ 800 3259 1026 3326 \r\nQ 1253 3394 1513 3394 \r\nQ 1903 3394 2198 3281 \r\nQ 2494 3169 2634 2976 \r\nQ 2775 2784 2828 2463 \r\nL 2278 2388 \r\nQ 2241 2644 2061 2787 \r\nQ 1881 2931 1553 2931 \r\nQ 1166 2931 1000 2803 \r\nQ 834 2675 834 2503 \r\nQ 834 2394 903 2306 \r\nQ 972 2216 1119 2156 \r\nQ 1203 2125 1616 2013 \r\nQ 2213 1853 2448 1751 \r\nQ 2684 1650 2818 1456 \r\nQ 2953 1263 2953 975 \r\nQ 2953 694 2789 445 \r\nQ 2625 197 2315 61 \r\nQ 2006 -75 1616 -75 \r\nQ 969 -75 630 194 \r\nQ 291 463 197 991 \r\nz\r\n\" id=\"ArialMT-73\" transform=\"scale(0.015625)\"/>\r\n      <path id=\"ArialMT-20\" transform=\"scale(0.015625)\"/>\r\n      <path d=\"M 597 0 \r\nL 597 4581 \r\nL 1203 4581 \r\nL 1203 0 \r\nL 597 0 \r\nz\r\n\" id=\"ArialMT-49\" transform=\"scale(0.015625)\"/>\r\n     </defs>\r\n     <use xlink:href=\"#ArialMT-63\"/>\r\n     <use x=\"50\" xlink:href=\"#ArialMT-6f\"/>\r\n     <use x=\"105.615234\" xlink:href=\"#ArialMT-6d\"/>\r\n     <use x=\"188.916016\" xlink:href=\"#ArialMT-70\"/>\r\n     <use x=\"244.53125\" xlink:href=\"#ArialMT-6f\"/>\r\n     <use x=\"300.146484\" xlink:href=\"#ArialMT-73\"/>\r\n     <use x=\"350.146484\" xlink:href=\"#ArialMT-61\"/>\r\n     <use x=\"405.761719\" xlink:href=\"#ArialMT-6e\"/>\r\n     <use x=\"461.376953\" xlink:href=\"#ArialMT-74\"/>\r\n     <use x=\"489.160156\" xlink:href=\"#ArialMT-65\"/>\r\n     <use x=\"544.775391\" xlink:href=\"#ArialMT-20\"/>\r\n     <use x=\"572.558594\" xlink:href=\"#ArialMT-49\"/>\r\n    </g>\r\n   </g>\r\n   <g id=\"patch_9\">\r\n    <path clip-path=\"url(#p1da4c8ef69)\" d=\"M 430.505156 166.298913 \r\nL 448.505156 166.298913 \r\nL 448.505156 148.298913 \r\nL 430.505156 148.298913 \r\nz\r\n\" style=\"fill:#ffffff;\"/>\r\n   </g>\r\n   <g id=\"patch_10\">\r\n    <path clip-path=\"url(#p1da4c8ef69)\" d=\"M 430.505156 166.298913 \r\nL 448.505156 166.298913 \r\nL 448.505156 148.298913 \r\nL 430.505156 148.298913 \r\nz\r\n\" style=\"fill:#91db57;\"/>\r\n   </g>\r\n   <g id=\"text_13\">\r\n    <!-- composante II -->\r\n    <g transform=\"translate(451.505156 160.401101)scale(0.12 -0.12)\">\r\n     <use xlink:href=\"#ArialMT-63\"/>\r\n     <use x=\"50\" xlink:href=\"#ArialMT-6f\"/>\r\n     <use x=\"105.615234\" xlink:href=\"#ArialMT-6d\"/>\r\n     <use x=\"188.916016\" xlink:href=\"#ArialMT-70\"/>\r\n     <use x=\"244.53125\" xlink:href=\"#ArialMT-6f\"/>\r\n     <use x=\"300.146484\" xlink:href=\"#ArialMT-73\"/>\r\n     <use x=\"350.146484\" xlink:href=\"#ArialMT-61\"/>\r\n     <use x=\"405.761719\" xlink:href=\"#ArialMT-6e\"/>\r\n     <use x=\"461.376953\" xlink:href=\"#ArialMT-74\"/>\r\n     <use x=\"489.160156\" xlink:href=\"#ArialMT-65\"/>\r\n     <use x=\"544.775391\" xlink:href=\"#ArialMT-20\"/>\r\n     <use x=\"572.558594\" xlink:href=\"#ArialMT-49\"/>\r\n     <use x=\"600.341797\" xlink:href=\"#ArialMT-49\"/>\r\n    </g>\r\n   </g>\r\n   <g id=\"patch_11\">\r\n    <path clip-path=\"url(#p6fce9942bc)\" d=\"M 430.505156 186.298913 \r\nL 448.505156 186.298913 \r\nL 448.505156 168.298913 \r\nL 430.505156 168.298913 \r\nz\r\n\" style=\"fill:#ffffff;\"/>\r\n   </g>\r\n   <g id=\"patch_12\">\r\n    <path clip-path=\"url(#p6fce9942bc)\" d=\"M 430.505156 186.298913 \r\nL 448.505156 186.298913 \r\nL 448.505156 168.298913 \r\nL 430.505156 168.298913 \r\nz\r\n\" style=\"fill:#57d3db;\"/>\r\n   </g>\r\n   <g id=\"text_14\">\r\n    <!-- composante III -->\r\n    <g transform=\"translate(451.505156 180.401101)scale(0.12 -0.12)\">\r\n     <use xlink:href=\"#ArialMT-63\"/>\r\n     <use x=\"50\" xlink:href=\"#ArialMT-6f\"/>\r\n     <use x=\"105.615234\" xlink:href=\"#ArialMT-6d\"/>\r\n     <use x=\"188.916016\" xlink:href=\"#ArialMT-70\"/>\r\n     <use x=\"244.53125\" xlink:href=\"#ArialMT-6f\"/>\r\n     <use x=\"300.146484\" xlink:href=\"#ArialMT-73\"/>\r\n     <use x=\"350.146484\" xlink:href=\"#ArialMT-61\"/>\r\n     <use x=\"405.761719\" xlink:href=\"#ArialMT-6e\"/>\r\n     <use x=\"461.376953\" xlink:href=\"#ArialMT-74\"/>\r\n     <use x=\"489.160156\" xlink:href=\"#ArialMT-65\"/>\r\n     <use x=\"544.775391\" xlink:href=\"#ArialMT-20\"/>\r\n     <use x=\"572.558594\" xlink:href=\"#ArialMT-49\"/>\r\n     <use x=\"600.341797\" xlink:href=\"#ArialMT-49\"/>\r\n     <use x=\"628.125\" xlink:href=\"#ArialMT-49\"/>\r\n    </g>\r\n   </g>\r\n   <g id=\"patch_13\">\r\n    <path clip-path=\"url(#p979fde051d)\" d=\"M 430.505156 206.298913 \r\nL 448.505156 206.298913 \r\nL 448.505156 188.298913 \r\nL 430.505156 188.298913 \r\nz\r\n\" style=\"fill:#ffffff;\"/>\r\n   </g>\r\n   <g id=\"patch_14\">\r\n    <path clip-path=\"url(#p979fde051d)\" d=\"M 430.505156 206.298913 \r\nL 448.505156 206.298913 \r\nL 448.505156 188.298913 \r\nL 430.505156 188.298913 \r\nz\r\n\" style=\"fill:#a157db;\"/>\r\n   </g>\r\n   <g id=\"text_15\">\r\n    <!-- target -->\r\n    <g transform=\"translate(451.505156 200.330788)scale(0.12 -0.12)\">\r\n     <use xlink:href=\"#ArialMT-74\"/>\r\n     <use x=\"27.783203\" xlink:href=\"#ArialMT-61\"/>\r\n     <use x=\"83.398438\" xlink:href=\"#ArialMT-72\"/>\r\n     <use x=\"116.699219\" xlink:href=\"#ArialMT-67\"/>\r\n     <use x=\"172.314453\" xlink:href=\"#ArialMT-65\"/>\r\n     <use x=\"227.929688\" xlink:href=\"#ArialMT-74\"/>\r\n    </g>\r\n   </g>\r\n  </g>\r\n  <g id=\"text_16\">\r\n   <!--  Les composantes AGYW PREV face au Target -->\r\n   <g style=\"fill:#262626;\" transform=\"translate(93.035781 15.935625)scale(0.12 -0.12)\">\r\n    <defs>\r\n     <path d=\"M 469 0 \r\nL 469 4581 \r\nL 1075 4581 \r\nL 1075 541 \r\nL 3331 541 \r\nL 3331 0 \r\nL 469 0 \r\nz\r\n\" id=\"ArialMT-4c\" transform=\"scale(0.015625)\"/>\r\n     <path d=\"M -9 0 \r\nL 1750 4581 \r\nL 2403 4581 \r\nL 4278 0 \r\nL 3588 0 \r\nL 3053 1388 \r\nL 1138 1388 \r\nL 634 0 \r\nL -9 0 \r\nz\r\nM 1313 1881 \r\nL 2866 1881 \r\nL 2388 3150 \r\nQ 2169 3728 2063 4100 \r\nQ 1975 3659 1816 3225 \r\nL 1313 1881 \r\nz\r\n\" id=\"ArialMT-41\" transform=\"scale(0.015625)\"/>\r\n     <path d=\"M 2638 1797 \r\nL 2638 2334 \r\nL 4578 2338 \r\nL 4578 638 \r\nQ 4131 281 3656 101 \r\nQ 3181 -78 2681 -78 \r\nQ 2006 -78 1454 211 \r\nQ 903 500 622 1047 \r\nQ 341 1594 341 2269 \r\nQ 341 2938 620 3517 \r\nQ 900 4097 1425 4378 \r\nQ 1950 4659 2634 4659 \r\nQ 3131 4659 3532 4498 \r\nQ 3934 4338 4162 4050 \r\nQ 4391 3763 4509 3300 \r\nL 3963 3150 \r\nQ 3859 3500 3706 3700 \r\nQ 3553 3900 3268 4020 \r\nQ 2984 4141 2638 4141 \r\nQ 2222 4141 1919 4014 \r\nQ 1616 3888 1430 3681 \r\nQ 1244 3475 1141 3228 \r\nQ 966 2803 966 2306 \r\nQ 966 1694 1177 1281 \r\nQ 1388 869 1791 669 \r\nQ 2194 469 2647 469 \r\nQ 3041 469 3416 620 \r\nQ 3791 772 3984 944 \r\nL 3984 1797 \r\nL 2638 1797 \r\nz\r\n\" id=\"ArialMT-47\" transform=\"scale(0.015625)\"/>\r\n     <path d=\"M 1784 0 \r\nL 1784 1941 \r\nL 19 4581 \r\nL 756 4581 \r\nL 1659 3200 \r\nQ 1909 2813 2125 2425 \r\nQ 2331 2784 2625 3234 \r\nL 3513 4581 \r\nL 4219 4581 \r\nL 2391 1941 \r\nL 2391 0 \r\nL 1784 0 \r\nz\r\n\" id=\"ArialMT-59\" transform=\"scale(0.015625)\"/>\r\n     <path d=\"M 1294 0 \r\nL 78 4581 \r\nL 700 4581 \r\nL 1397 1578 \r\nQ 1509 1106 1591 641 \r\nQ 1766 1375 1797 1488 \r\nL 2669 4581 \r\nL 3400 4581 \r\nL 4056 2263 \r\nQ 4303 1400 4413 641 \r\nQ 4500 1075 4641 1638 \r\nL 5359 4581 \r\nL 5969 4581 \r\nL 4713 0 \r\nL 4128 0 \r\nL 3163 3491 \r\nQ 3041 3928 3019 4028 \r\nQ 2947 3713 2884 3491 \r\nL 1913 0 \r\nL 1294 0 \r\nz\r\n\" id=\"ArialMT-57\" transform=\"scale(0.015625)\"/>\r\n     <path d=\"M 494 0 \r\nL 494 4581 \r\nL 2222 4581 \r\nQ 2678 4581 2919 4538 \r\nQ 3256 4481 3484 4323 \r\nQ 3713 4166 3852 3881 \r\nQ 3991 3597 3991 3256 \r\nQ 3991 2672 3619 2267 \r\nQ 3247 1863 2275 1863 \r\nL 1100 1863 \r\nL 1100 0 \r\nL 494 0 \r\nz\r\nM 1100 2403 \r\nL 2284 2403 \r\nQ 2872 2403 3119 2622 \r\nQ 3366 2841 3366 3238 \r\nQ 3366 3525 3220 3729 \r\nQ 3075 3934 2838 4000 \r\nQ 2684 4041 2272 4041 \r\nL 1100 4041 \r\nL 1100 2403 \r\nz\r\n\" id=\"ArialMT-50\" transform=\"scale(0.015625)\"/>\r\n     <path d=\"M 503 0 \r\nL 503 4581 \r\nL 2534 4581 \r\nQ 3147 4581 3465 4457 \r\nQ 3784 4334 3975 4021 \r\nQ 4166 3709 4166 3331 \r\nQ 4166 2844 3850 2509 \r\nQ 3534 2175 2875 2084 \r\nQ 3116 1969 3241 1856 \r\nQ 3506 1613 3744 1247 \r\nL 4541 0 \r\nL 3778 0 \r\nL 3172 953 \r\nQ 2906 1366 2734 1584 \r\nQ 2563 1803 2427 1890 \r\nQ 2291 1978 2150 2013 \r\nQ 2047 2034 1813 2034 \r\nL 1109 2034 \r\nL 1109 0 \r\nL 503 0 \r\nz\r\nM 1109 2559 \r\nL 2413 2559 \r\nQ 2828 2559 3062 2645 \r\nQ 3297 2731 3419 2920 \r\nQ 3541 3109 3541 3331 \r\nQ 3541 3656 3305 3865 \r\nQ 3069 4075 2559 4075 \r\nL 1109 4075 \r\nL 1109 2559 \r\nz\r\n\" id=\"ArialMT-52\" transform=\"scale(0.015625)\"/>\r\n     <path d=\"M 506 0 \r\nL 506 4581 \r\nL 3819 4581 \r\nL 3819 4041 \r\nL 1113 4041 \r\nL 1113 2638 \r\nL 3647 2638 \r\nL 3647 2100 \r\nL 1113 2100 \r\nL 1113 541 \r\nL 3925 541 \r\nL 3925 0 \r\nL 506 0 \r\nz\r\n\" id=\"ArialMT-45\" transform=\"scale(0.015625)\"/>\r\n     <path d=\"M 1803 0 \r\nL 28 4581 \r\nL 684 4581 \r\nL 1875 1253 \r\nQ 2019 853 2116 503 \r\nQ 2222 878 2363 1253 \r\nL 3600 4581 \r\nL 4219 4581 \r\nL 2425 0 \r\nL 1803 0 \r\nz\r\n\" id=\"ArialMT-56\" transform=\"scale(0.015625)\"/>\r\n     <path d=\"M 556 0 \r\nL 556 2881 \r\nL 59 2881 \r\nL 59 3319 \r\nL 556 3319 \r\nL 556 3672 \r\nQ 556 4006 616 4169 \r\nQ 697 4388 901 4523 \r\nQ 1106 4659 1475 4659 \r\nQ 1713 4659 2000 4603 \r\nL 1916 4113 \r\nQ 1741 4144 1584 4144 \r\nQ 1328 4144 1222 4034 \r\nQ 1116 3925 1116 3625 \r\nL 1116 3319 \r\nL 1763 3319 \r\nL 1763 2881 \r\nL 1116 2881 \r\nL 1116 0 \r\nL 556 0 \r\nz\r\n\" id=\"ArialMT-66\" transform=\"scale(0.015625)\"/>\r\n     <path d=\"M 1659 0 \r\nL 1659 4041 \r\nL 150 4041 \r\nL 150 4581 \r\nL 3781 4581 \r\nL 3781 4041 \r\nL 2266 4041 \r\nL 2266 0 \r\nL 1659 0 \r\nz\r\n\" id=\"ArialMT-54\" transform=\"scale(0.015625)\"/>\r\n    </defs>\r\n    <use xlink:href=\"#ArialMT-20\"/>\r\n    <use x=\"27.783203\" xlink:href=\"#ArialMT-4c\"/>\r\n    <use x=\"83.398438\" xlink:href=\"#ArialMT-65\"/>\r\n    <use x=\"139.013672\" xlink:href=\"#ArialMT-73\"/>\r\n    <use x=\"189.013672\" xlink:href=\"#ArialMT-20\"/>\r\n    <use x=\"216.796875\" xlink:href=\"#ArialMT-63\"/>\r\n    <use x=\"266.796875\" xlink:href=\"#ArialMT-6f\"/>\r\n    <use x=\"322.412109\" xlink:href=\"#ArialMT-6d\"/>\r\n    <use x=\"405.712891\" xlink:href=\"#ArialMT-70\"/>\r\n    <use x=\"461.328125\" xlink:href=\"#ArialMT-6f\"/>\r\n    <use x=\"516.943359\" xlink:href=\"#ArialMT-73\"/>\r\n    <use x=\"566.943359\" xlink:href=\"#ArialMT-61\"/>\r\n    <use x=\"622.558594\" xlink:href=\"#ArialMT-6e\"/>\r\n    <use x=\"678.173828\" xlink:href=\"#ArialMT-74\"/>\r\n    <use x=\"705.957031\" xlink:href=\"#ArialMT-65\"/>\r\n    <use x=\"761.572266\" xlink:href=\"#ArialMT-73\"/>\r\n    <use x=\"811.572266\" xlink:href=\"#ArialMT-20\"/>\r\n    <use x=\"833.855469\" xlink:href=\"#ArialMT-41\"/>\r\n    <use x=\"900.554688\" xlink:href=\"#ArialMT-47\"/>\r\n    <use x=\"978.337891\" xlink:href=\"#ArialMT-59\"/>\r\n    <use x=\"1045.037109\" xlink:href=\"#ArialMT-57\"/>\r\n    <use x=\"1139.421875\" xlink:href=\"#ArialMT-20\"/>\r\n    <use x=\"1167.205078\" xlink:href=\"#ArialMT-50\"/>\r\n    <use x=\"1233.904297\" xlink:href=\"#ArialMT-52\"/>\r\n    <use x=\"1306.121094\" xlink:href=\"#ArialMT-45\"/>\r\n    <use x=\"1372.820312\" xlink:href=\"#ArialMT-56\"/>\r\n    <use x=\"1439.519531\" xlink:href=\"#ArialMT-20\"/>\r\n    <use x=\"1467.302734\" xlink:href=\"#ArialMT-66\"/>\r\n    <use x=\"1495.085938\" xlink:href=\"#ArialMT-61\"/>\r\n    <use x=\"1550.701172\" xlink:href=\"#ArialMT-63\"/>\r\n    <use x=\"1600.701172\" xlink:href=\"#ArialMT-65\"/>\r\n    <use x=\"1656.316406\" xlink:href=\"#ArialMT-20\"/>\r\n    <use x=\"1684.099609\" xlink:href=\"#ArialMT-61\"/>\r\n    <use x=\"1739.714844\" xlink:href=\"#ArialMT-75\"/>\r\n    <use x=\"1795.330078\" xlink:href=\"#ArialMT-20\"/>\r\n    <use x=\"1821.363281\" xlink:href=\"#ArialMT-54\"/>\r\n    <use x=\"1871.322266\" xlink:href=\"#ArialMT-61\"/>\r\n    <use x=\"1926.9375\" xlink:href=\"#ArialMT-72\"/>\r\n    <use x=\"1960.238281\" xlink:href=\"#ArialMT-67\"/>\r\n    <use x=\"2015.853516\" xlink:href=\"#ArialMT-65\"/>\r\n    <use x=\"2071.46875\" xlink:href=\"#ArialMT-74\"/>\r\n   </g>\r\n  </g>\r\n </g>\r\n <defs>\r\n  <clipPath id=\"p92db42a9d2\">\r\n   <rect height=\"266.112\" width=\"357.12\" x=\"46.185156\" y=\"26.483726\"/>\r\n  </clipPath>\r\n  <clipPath id=\"p6a81eee5c5\">\r\n   <path d=\"M 430.505156 146.298913 \r\nL 430.505156 128.298913 \r\nL 448.505156 128.298913 \r\nL 448.505156 146.298913 \r\n\"/>\r\n  </clipPath>\r\n  <clipPath id=\"p1da4c8ef69\">\r\n   <path d=\"M 430.505156 166.298913 \r\nL 430.505156 148.298913 \r\nL 448.505156 148.298913 \r\nL 448.505156 166.298913 \r\n\"/>\r\n  </clipPath>\r\n  <clipPath id=\"p6fce9942bc\">\r\n   <path d=\"M 430.505156 186.298913 \r\nL 430.505156 168.298913 \r\nL 448.505156 168.298913 \r\nL 448.505156 186.298913 \r\n\"/>\r\n  </clipPath>\r\n  <clipPath id=\"p979fde051d\">\r\n   <path d=\"M 430.505156 206.298913 \r\nL 430.505156 188.298913 \r\nL 448.505156 188.298913 \r\nL 448.505156 206.298913 \r\n\"/>\r\n  </clipPath>\r\n </defs>\r\n</svg>\r\n",
      "image/png": "[encoded data removed]"
     },
     "metadata": {}
    },
    {
     "output_type": "execute_result",
     "data": {
      "text/plain": [
       "<ggplot: (148150875685)>"
      ]
     },
     "metadata": {},
     "execution_count": 48
    },
    {
     "output_type": "stream",
     "name": "stderr",
     "text": [
      "C:\\Users\\Wedner Adrien\\AppData\\Local\\Programs\\Python\\Python39\\lib\\site-packages\\plotnine\\ggplot.py:719: PlotnineWarning: Saving 6.4 x 4.8 in image.\n",
      "C:\\Users\\Wedner Adrien\\AppData\\Local\\Programs\\Python\\Python39\\lib\\site-packages\\plotnine\\ggplot.py:722: PlotnineWarning: Filename: composante_agywpre.png\n"
     ]
    }
   ],
   "metadata": {}
  },
  {
   "cell_type": "markdown",
   "source": [
    "## Les NO secondary"
   ],
   "metadata": {}
  },
  {
   "cell_type": "code",
   "execution_count": null,
   "source": [
    "df= datim.data_dreams_valid"
   ],
   "outputs": [],
   "metadata": {}
  },
  {
   "cell_type": "code",
   "execution_count": null,
   "source": [
    "df.primary_only.unique()"
   ],
   "outputs": [
    {
     "output_type": "execute_result",
     "data": {
      "text/plain": [
       "array(['invalid', 'full_primary_only'], dtype=object)"
      ]
     },
     "metadata": {},
     "execution_count": 50
    }
   ],
   "metadata": {}
  },
  {
   "cell_type": "code",
   "execution_count": null,
   "source": [
    "df_prim_only = df[df.primary_only == \"full_primary_only\"]\r\n",
    "df_part_primary = df[df.partial_primary_services == \"primary_part_services\"]\r\n",
    "df_part_primary_no_secondary = df_part_primary[(df_part_primary.hts == \"errata\") & (df_part_primary.condoms == \"errata\") & (df_part_primary.post_care_treatment == \"no\") & (df_part_primary.socio_eco_app == \"no\")]"
   ],
   "outputs": [],
   "metadata": {}
  },
  {
   "cell_type": "code",
   "execution_count": null,
   "source": [
    "print(\"cohort\")\r\n",
    "total_cohort = df.code.count()\r\n",
    "total_cohort\r\n",
    "\r\n",
    "print(\"indicateur\")\r\n",
    "datim.total_datim_general\r\n",
    "\r\n",
    "print(\"service primaire seulement\")\r\n",
    "total_prim_only = df_prim_only.code.count()\r\n",
    "total_prim_only\r\n",
    "\r\n",
    "print(\"Part services primaires\")\r\n",
    "total_part_primary = df_part_primary.code.count()\r\n",
    "total_part_primary\r\n",
    "\r\n",
    "print(\"Part service primaires no service secondaires\")\r\n",
    "total_part_primary_no_secondary = df_part_primary_no_secondary.code.count()\r\n",
    "total_part_primary_no_secondary"
   ],
   "outputs": [
    {
     "output_type": "stream",
     "name": "stdout",
     "text": [
      "cohort\n"
     ]
    },
    {
     "output_type": "execute_result",
     "data": {
      "text/plain": [
       "18178"
      ]
     },
     "metadata": {},
     "execution_count": 52
    },
    {
     "output_type": "stream",
     "name": "stdout",
     "text": [
      "indicateur\n"
     ]
    },
    {
     "output_type": "execute_result",
     "data": {
      "text/plain": [
       "15234"
      ]
     },
     "metadata": {},
     "execution_count": 52
    },
    {
     "output_type": "stream",
     "name": "stdout",
     "text": [
      "service primaire seulement\n"
     ]
    },
    {
     "output_type": "execute_result",
     "data": {
      "text/plain": [
       "6825"
      ]
     },
     "metadata": {},
     "execution_count": 52
    },
    {
     "output_type": "stream",
     "name": "stdout",
     "text": [
      "Part services primaires\n"
     ]
    },
    {
     "output_type": "execute_result",
     "data": {
      "text/plain": [
       "7017"
      ]
     },
     "metadata": {},
     "execution_count": 52
    },
    {
     "output_type": "stream",
     "name": "stdout",
     "text": [
      "Part service primaires no service secondaires\n"
     ]
    },
    {
     "output_type": "execute_result",
     "data": {
      "text/plain": [
       "6066"
      ]
     },
     "metadata": {},
     "execution_count": 52
    }
   ],
   "metadata": {}
  },
  {
   "cell_type": "code",
   "execution_count": null,
   "source": [
    "data_for_MoreAGYWInfo = pd.DataFrame({\r\n",
    "    \"state\":[\"valid cohort\", \"Target\", \"AGYW_PREV\",\"Full primary only\",\"Partial Primary\",\"Partial primary no secondary\"],\r\n",
    "    \"data\":[total_cohort,18000,datim.total_datim_general,total_prim_only,total_part_primary,total_part_primary_no_secondary]\r\n",
    "    \r\n",
    "})"
   ],
   "outputs": [],
   "metadata": {}
  },
  {
   "cell_type": "code",
   "execution_count": null,
   "source": [
    "plt.subplots(figsize=(16,8))\r\n",
    "sns.set_style(\"darkgrid\")\r\n",
    "splot = sns.barplot(x=\"state\",y=\"data\",data=data_for_MoreAGYWInfo)\r\n",
    "splot.set_xlabel(\"\")\r\n",
    "splot.set_ylabel(\"\")\r\n",
    "plt.suptitle(\"Visualization of the AGYW with no secondary services\")\r\n",
    "for p in splot.patches:\r\n",
    "    height = p.get_height()\r\n",
    "    plt.text(\r\n",
    "                p.get_x() + p.get_width()/2, \r\n",
    "                0.5*p.get_height() + p.get_y(),\r\n",
    "                '{:1.0f}'.format(height), \r\n",
    "                ha='center', va='center',\r\n",
    "                size=15,\r\n",
    "                fontdict=dict(color=\"white\",fontsize=15)\r\n",
    "            )\r\n",
    "    \r\n",
    "plt.annotate(\r\n",
    "    \"source: HIVHaiti\",(0,0), (-80,-20), fontsize=10, \r\n",
    "             xycoords='axes fraction', textcoords='offset points', va='top'\r\n",
    ")\r\n",
    "plt.savefig(\"agyw_prev_with_no_secondary\",dpi=1000)"
   ],
   "outputs": [
    {
     "output_type": "execute_result",
     "data": {
      "text/plain": [
       "(<Figure size 1152x576 with 1 Axes>, <AxesSubplot:>)"
      ]
     },
     "metadata": {},
     "execution_count": 54
    },
    {
     "output_type": "execute_result",
     "data": {
      "text/plain": [
       "Text(0.5, 0, '')"
      ]
     },
     "metadata": {},
     "execution_count": 54
    },
    {
     "output_type": "execute_result",
     "data": {
      "text/plain": [
       "Text(0, 0.5, '')"
      ]
     },
     "metadata": {},
     "execution_count": 54
    },
    {
     "output_type": "execute_result",
     "data": {
      "text/plain": [
       "Text(0.5, 0.98, 'Visualization of the AGYW with no secondary services')"
      ]
     },
     "metadata": {},
     "execution_count": 54
    },
    {
     "output_type": "execute_result",
     "data": {
      "text/plain": [
       "Text(0.0, 9089.0, '18178')"
      ]
     },
     "metadata": {},
     "execution_count": 54
    },
    {
     "output_type": "execute_result",
     "data": {
      "text/plain": [
       "Text(1.0, 9000.0, '18000')"
      ]
     },
     "metadata": {},
     "execution_count": 54
    },
    {
     "output_type": "execute_result",
     "data": {
      "text/plain": [
       "Text(2.0, 7617.0, '15234')"
      ]
     },
     "metadata": {},
     "execution_count": 54
    },
    {
     "output_type": "execute_result",
     "data": {
      "text/plain": [
       "Text(3.0, 3412.5, '6825')"
      ]
     },
     "metadata": {},
     "execution_count": 54
    },
    {
     "output_type": "execute_result",
     "data": {
      "text/plain": [
       "Text(4.0, 3508.5, '7017')"
      ]
     },
     "metadata": {},
     "execution_count": 54
    },
    {
     "output_type": "execute_result",
     "data": {
      "text/plain": [
       "Text(5.0, 3033.0, '6066')"
      ]
     },
     "metadata": {},
     "execution_count": 54
    },
    {
     "output_type": "execute_result",
     "data": {
      "text/plain": [
       "Text(-80, -20, 'source: HIVHaiti')"
      ]
     },
     "metadata": {},
     "execution_count": 54
    },
    {
     "output_type": "display_data",
     "data": {
      "text/plain": [
       "<Figure size 1152x576 with 1 Axes>"
      ],
      "image/svg+xml": "<?xml version=\"1.0\" encoding=\"utf-8\" standalone=\"no\"?>\r\n<!DOCTYPE svg PUBLIC \"-//W3C//DTD SVG 1.1//EN\"\r\n  \"http://www.w3.org/Graphics/SVG/1.1/DTD/svg11.dtd\">\r\n<svg height=\"536.025313pt\" version=\"1.1\" viewBox=\"0 0 1017.79543 536.025313\" width=\"1017.79543pt\" xmlns=\"http://www.w3.org/2000/svg\" xmlns:xlink=\"http://www.w3.org/1999/xlink\">\r\n <metadata>\r\n  <rdf:RDF xmlns:cc=\"http://creativecommons.org/ns#\" xmlns:dc=\"http://purl.org/dc/elements/1.1/\" xmlns:rdf=\"http://www.w3.org/1999/02/22-rdf-syntax-ns#\">\r\n   <cc:Work>\r\n    <dc:type rdf:resource=\"http://purl.org/dc/dcmitype/StillImage\"/>\r\n    <dc:date>2021-08-12T16:03:05.492192</dc:date>\r\n    <dc:format>image/svg+xml</dc:format>\r\n    <dc:creator>\r\n     <cc:Agent>\r\n      <dc:title>Matplotlib v3.4.1, https://matplotlib.org/</dc:title>\r\n     </cc:Agent>\r\n    </dc:creator>\r\n   </cc:Work>\r\n  </rdf:RDF>\r\n </metadata>\r\n <defs>\r\n  <style type=\"text/css\">*{stroke-linecap:butt;stroke-linejoin:round;}</style>\r\n </defs>\r\n <g id=\"figure_1\">\r\n  <g id=\"patch_1\">\r\n   <path d=\"M 0 536.025313 \r\nL 1017.79543 536.025313 \r\nL 1017.79543 0 \r\nL 0 0 \r\nz\r\n\" style=\"fill:#ffffff;\"/>\r\n  </g>\r\n  <g id=\"axes_1\">\r\n   <g id=\"patch_2\">\r\n    <path d=\"M 87.2 499.68 \r\nL 980 499.68 \r\nL 980 64.8 \r\nL 87.2 64.8 \r\nz\r\n\" style=\"fill:#eaeaf2;\"/>\r\n   </g>\r\n   <g id=\"matplotlib.axis_1\">\r\n    <g id=\"xtick_1\">\r\n     <g id=\"text_1\">\r\n      <!-- valid cohort -->\r\n      <g style=\"fill:#262626;\" transform=\"translate(119.414141 523.990391)scale(0.165 -0.165)\">\r\n       <defs>\r\n        <path d=\"M 1344 0 \r\nL 81 3319 \r\nL 675 3319 \r\nL 1388 1331 \r\nQ 1503 1009 1600 663 \r\nQ 1675 925 1809 1294 \r\nL 2547 3319 \r\nL 3125 3319 \r\nL 1869 0 \r\nL 1344 0 \r\nz\r\n\" id=\"ArialMT-76\" transform=\"scale(0.015625)\"/>\r\n        <path d=\"M 2588 409 \r\nQ 2275 144 1986 34 \r\nQ 1697 -75 1366 -75 \r\nQ 819 -75 525 192 \r\nQ 231 459 231 875 \r\nQ 231 1119 342 1320 \r\nQ 453 1522 633 1644 \r\nQ 813 1766 1038 1828 \r\nQ 1203 1872 1538 1913 \r\nQ 2219 1994 2541 2106 \r\nQ 2544 2222 2544 2253 \r\nQ 2544 2597 2384 2738 \r\nQ 2169 2928 1744 2928 \r\nQ 1347 2928 1158 2789 \r\nQ 969 2650 878 2297 \r\nL 328 2372 \r\nQ 403 2725 575 2942 \r\nQ 747 3159 1072 3276 \r\nQ 1397 3394 1825 3394 \r\nQ 2250 3394 2515 3294 \r\nQ 2781 3194 2906 3042 \r\nQ 3031 2891 3081 2659 \r\nQ 3109 2516 3109 2141 \r\nL 3109 1391 \r\nQ 3109 606 3145 398 \r\nQ 3181 191 3288 0 \r\nL 2700 0 \r\nQ 2613 175 2588 409 \r\nz\r\nM 2541 1666 \r\nQ 2234 1541 1622 1453 \r\nQ 1275 1403 1131 1340 \r\nQ 988 1278 909 1158 \r\nQ 831 1038 831 891 \r\nQ 831 666 1001 516 \r\nQ 1172 366 1500 366 \r\nQ 1825 366 2078 508 \r\nQ 2331 650 2450 897 \r\nQ 2541 1088 2541 1459 \r\nL 2541 1666 \r\nz\r\n\" id=\"ArialMT-61\" transform=\"scale(0.015625)\"/>\r\n        <path d=\"M 409 0 \r\nL 409 4581 \r\nL 972 4581 \r\nL 972 0 \r\nL 409 0 \r\nz\r\n\" id=\"ArialMT-6c\" transform=\"scale(0.015625)\"/>\r\n        <path d=\"M 425 3934 \r\nL 425 4581 \r\nL 988 4581 \r\nL 988 3934 \r\nL 425 3934 \r\nz\r\nM 425 0 \r\nL 425 3319 \r\nL 988 3319 \r\nL 988 0 \r\nL 425 0 \r\nz\r\n\" id=\"ArialMT-69\" transform=\"scale(0.015625)\"/>\r\n        <path d=\"M 2575 0 \r\nL 2575 419 \r\nQ 2259 -75 1647 -75 \r\nQ 1250 -75 917 144 \r\nQ 584 363 401 755 \r\nQ 219 1147 219 1656 \r\nQ 219 2153 384 2558 \r\nQ 550 2963 881 3178 \r\nQ 1213 3394 1622 3394 \r\nQ 1922 3394 2156 3267 \r\nQ 2391 3141 2538 2938 \r\nL 2538 4581 \r\nL 3097 4581 \r\nL 3097 0 \r\nL 2575 0 \r\nz\r\nM 797 1656 \r\nQ 797 1019 1065 703 \r\nQ 1334 388 1700 388 \r\nQ 2069 388 2326 689 \r\nQ 2584 991 2584 1609 \r\nQ 2584 2291 2321 2609 \r\nQ 2059 2928 1675 2928 \r\nQ 1300 2928 1048 2622 \r\nQ 797 2316 797 1656 \r\nz\r\n\" id=\"ArialMT-64\" transform=\"scale(0.015625)\"/>\r\n        <path id=\"ArialMT-20\" transform=\"scale(0.015625)\"/>\r\n        <path d=\"M 2588 1216 \r\nL 3141 1144 \r\nQ 3050 572 2676 248 \r\nQ 2303 -75 1759 -75 \r\nQ 1078 -75 664 370 \r\nQ 250 816 250 1647 \r\nQ 250 2184 428 2587 \r\nQ 606 2991 970 3192 \r\nQ 1334 3394 1763 3394 \r\nQ 2303 3394 2647 3120 \r\nQ 2991 2847 3088 2344 \r\nL 2541 2259 \r\nQ 2463 2594 2264 2762 \r\nQ 2066 2931 1784 2931 \r\nQ 1359 2931 1093 2626 \r\nQ 828 2322 828 1663 \r\nQ 828 994 1084 691 \r\nQ 1341 388 1753 388 \r\nQ 2084 388 2306 591 \r\nQ 2528 794 2588 1216 \r\nz\r\n\" id=\"ArialMT-63\" transform=\"scale(0.015625)\"/>\r\n        <path d=\"M 213 1659 \r\nQ 213 2581 725 3025 \r\nQ 1153 3394 1769 3394 \r\nQ 2453 3394 2887 2945 \r\nQ 3322 2497 3322 1706 \r\nQ 3322 1066 3130 698 \r\nQ 2938 331 2570 128 \r\nQ 2203 -75 1769 -75 \r\nQ 1072 -75 642 372 \r\nQ 213 819 213 1659 \r\nz\r\nM 791 1659 \r\nQ 791 1022 1069 705 \r\nQ 1347 388 1769 388 \r\nQ 2188 388 2466 706 \r\nQ 2744 1025 2744 1678 \r\nQ 2744 2294 2464 2611 \r\nQ 2184 2928 1769 2928 \r\nQ 1347 2928 1069 2612 \r\nQ 791 2297 791 1659 \r\nz\r\n\" id=\"ArialMT-6f\" transform=\"scale(0.015625)\"/>\r\n        <path d=\"M 422 0 \r\nL 422 4581 \r\nL 984 4581 \r\nL 984 2938 \r\nQ 1378 3394 1978 3394 \r\nQ 2347 3394 2619 3248 \r\nQ 2891 3103 3008 2847 \r\nQ 3125 2591 3125 2103 \r\nL 3125 0 \r\nL 2563 0 \r\nL 2563 2103 \r\nQ 2563 2525 2380 2717 \r\nQ 2197 2909 1863 2909 \r\nQ 1613 2909 1392 2779 \r\nQ 1172 2650 1078 2428 \r\nQ 984 2206 984 1816 \r\nL 984 0 \r\nL 422 0 \r\nz\r\n\" id=\"ArialMT-68\" transform=\"scale(0.015625)\"/>\r\n        <path d=\"M 416 0 \r\nL 416 3319 \r\nL 922 3319 \r\nL 922 2816 \r\nQ 1116 3169 1280 3281 \r\nQ 1444 3394 1641 3394 \r\nQ 1925 3394 2219 3213 \r\nL 2025 2691 \r\nQ 1819 2813 1613 2813 \r\nQ 1428 2813 1281 2702 \r\nQ 1134 2591 1072 2394 \r\nQ 978 2094 978 1738 \r\nL 978 0 \r\nL 416 0 \r\nz\r\n\" id=\"ArialMT-72\" transform=\"scale(0.015625)\"/>\r\n        <path d=\"M 1650 503 \r\nL 1731 6 \r\nQ 1494 -44 1306 -44 \r\nQ 1000 -44 831 53 \r\nQ 663 150 594 308 \r\nQ 525 466 525 972 \r\nL 525 2881 \r\nL 113 2881 \r\nL 113 3319 \r\nL 525 3319 \r\nL 525 4141 \r\nL 1084 4478 \r\nL 1084 3319 \r\nL 1650 3319 \r\nL 1650 2881 \r\nL 1084 2881 \r\nL 1084 941 \r\nQ 1084 700 1114 631 \r\nQ 1144 563 1211 522 \r\nQ 1278 481 1403 481 \r\nQ 1497 481 1650 503 \r\nz\r\n\" id=\"ArialMT-74\" transform=\"scale(0.015625)\"/>\r\n       </defs>\r\n       <use xlink:href=\"#ArialMT-76\"/>\r\n       <use x=\"50\" xlink:href=\"#ArialMT-61\"/>\r\n       <use x=\"105.615234\" xlink:href=\"#ArialMT-6c\"/>\r\n       <use x=\"127.832031\" xlink:href=\"#ArialMT-69\"/>\r\n       <use x=\"150.048828\" xlink:href=\"#ArialMT-64\"/>\r\n       <use x=\"205.664062\" xlink:href=\"#ArialMT-20\"/>\r\n       <use x=\"233.447266\" xlink:href=\"#ArialMT-63\"/>\r\n       <use x=\"283.447266\" xlink:href=\"#ArialMT-6f\"/>\r\n       <use x=\"339.0625\" xlink:href=\"#ArialMT-68\"/>\r\n       <use x=\"394.677734\" xlink:href=\"#ArialMT-6f\"/>\r\n       <use x=\"450.292969\" xlink:href=\"#ArialMT-72\"/>\r\n       <use x=\"483.59375\" xlink:href=\"#ArialMT-74\"/>\r\n      </g>\r\n     </g>\r\n    </g>\r\n    <g id=\"xtick_2\">\r\n     <g id=\"text_2\">\r\n      <!-- Target -->\r\n      <g style=\"fill:#262626;\" transform=\"translate(287.476602 523.990391)scale(0.165 -0.165)\">\r\n       <defs>\r\n        <path d=\"M 1659 0 \r\nL 1659 4041 \r\nL 150 4041 \r\nL 150 4581 \r\nL 3781 4581 \r\nL 3781 4041 \r\nL 2266 4041 \r\nL 2266 0 \r\nL 1659 0 \r\nz\r\n\" id=\"ArialMT-54\" transform=\"scale(0.015625)\"/>\r\n        <path d=\"M 319 -275 \r\nL 866 -356 \r\nQ 900 -609 1056 -725 \r\nQ 1266 -881 1628 -881 \r\nQ 2019 -881 2231 -725 \r\nQ 2444 -569 2519 -288 \r\nQ 2563 -116 2559 434 \r\nQ 2191 0 1641 0 \r\nQ 956 0 581 494 \r\nQ 206 988 206 1678 \r\nQ 206 2153 378 2554 \r\nQ 550 2956 876 3175 \r\nQ 1203 3394 1644 3394 \r\nQ 2231 3394 2613 2919 \r\nL 2613 3319 \r\nL 3131 3319 \r\nL 3131 450 \r\nQ 3131 -325 2973 -648 \r\nQ 2816 -972 2473 -1159 \r\nQ 2131 -1347 1631 -1347 \r\nQ 1038 -1347 672 -1080 \r\nQ 306 -813 319 -275 \r\nz\r\nM 784 1719 \r\nQ 784 1066 1043 766 \r\nQ 1303 466 1694 466 \r\nQ 2081 466 2343 764 \r\nQ 2606 1063 2606 1700 \r\nQ 2606 2309 2336 2618 \r\nQ 2066 2928 1684 2928 \r\nQ 1309 2928 1046 2623 \r\nQ 784 2319 784 1719 \r\nz\r\n\" id=\"ArialMT-67\" transform=\"scale(0.015625)\"/>\r\n        <path d=\"M 2694 1069 \r\nL 3275 997 \r\nQ 3138 488 2766 206 \r\nQ 2394 -75 1816 -75 \r\nQ 1088 -75 661 373 \r\nQ 234 822 234 1631 \r\nQ 234 2469 665 2931 \r\nQ 1097 3394 1784 3394 \r\nQ 2450 3394 2872 2941 \r\nQ 3294 2488 3294 1666 \r\nQ 3294 1616 3291 1516 \r\nL 816 1516 \r\nQ 847 969 1125 678 \r\nQ 1403 388 1819 388 \r\nQ 2128 388 2347 550 \r\nQ 2566 713 2694 1069 \r\nz\r\nM 847 1978 \r\nL 2700 1978 \r\nQ 2663 2397 2488 2606 \r\nQ 2219 2931 1791 2931 \r\nQ 1403 2931 1139 2672 \r\nQ 875 2413 847 1978 \r\nz\r\n\" id=\"ArialMT-65\" transform=\"scale(0.015625)\"/>\r\n       </defs>\r\n       <use xlink:href=\"#ArialMT-54\"/>\r\n       <use x=\"49.958984\" xlink:href=\"#ArialMT-61\"/>\r\n       <use x=\"105.574219\" xlink:href=\"#ArialMT-72\"/>\r\n       <use x=\"138.875\" xlink:href=\"#ArialMT-67\"/>\r\n       <use x=\"194.490234\" xlink:href=\"#ArialMT-65\"/>\r\n       <use x=\"250.105469\" xlink:href=\"#ArialMT-74\"/>\r\n      </g>\r\n     </g>\r\n    </g>\r\n    <g id=\"xtick_3\">\r\n     <g id=\"text_3\">\r\n      <!-- AGYW_PREV -->\r\n      <g style=\"fill:#262626;\" transform=\"translate(406.934961 524.191484)scale(0.165 -0.165)\">\r\n       <defs>\r\n        <path d=\"M -9 0 \r\nL 1750 4581 \r\nL 2403 4581 \r\nL 4278 0 \r\nL 3588 0 \r\nL 3053 1388 \r\nL 1138 1388 \r\nL 634 0 \r\nL -9 0 \r\nz\r\nM 1313 1881 \r\nL 2866 1881 \r\nL 2388 3150 \r\nQ 2169 3728 2063 4100 \r\nQ 1975 3659 1816 3225 \r\nL 1313 1881 \r\nz\r\n\" id=\"ArialMT-41\" transform=\"scale(0.015625)\"/>\r\n        <path d=\"M 2638 1797 \r\nL 2638 2334 \r\nL 4578 2338 \r\nL 4578 638 \r\nQ 4131 281 3656 101 \r\nQ 3181 -78 2681 -78 \r\nQ 2006 -78 1454 211 \r\nQ 903 500 622 1047 \r\nQ 341 1594 341 2269 \r\nQ 341 2938 620 3517 \r\nQ 900 4097 1425 4378 \r\nQ 1950 4659 2634 4659 \r\nQ 3131 4659 3532 4498 \r\nQ 3934 4338 4162 4050 \r\nQ 4391 3763 4509 3300 \r\nL 3963 3150 \r\nQ 3859 3500 3706 3700 \r\nQ 3553 3900 3268 4020 \r\nQ 2984 4141 2638 4141 \r\nQ 2222 4141 1919 4014 \r\nQ 1616 3888 1430 3681 \r\nQ 1244 3475 1141 3228 \r\nQ 966 2803 966 2306 \r\nQ 966 1694 1177 1281 \r\nQ 1388 869 1791 669 \r\nQ 2194 469 2647 469 \r\nQ 3041 469 3416 620 \r\nQ 3791 772 3984 944 \r\nL 3984 1797 \r\nL 2638 1797 \r\nz\r\n\" id=\"ArialMT-47\" transform=\"scale(0.015625)\"/>\r\n        <path d=\"M 1784 0 \r\nL 1784 1941 \r\nL 19 4581 \r\nL 756 4581 \r\nL 1659 3200 \r\nQ 1909 2813 2125 2425 \r\nQ 2331 2784 2625 3234 \r\nL 3513 4581 \r\nL 4219 4581 \r\nL 2391 1941 \r\nL 2391 0 \r\nL 1784 0 \r\nz\r\n\" id=\"ArialMT-59\" transform=\"scale(0.015625)\"/>\r\n        <path d=\"M 1294 0 \r\nL 78 4581 \r\nL 700 4581 \r\nL 1397 1578 \r\nQ 1509 1106 1591 641 \r\nQ 1766 1375 1797 1488 \r\nL 2669 4581 \r\nL 3400 4581 \r\nL 4056 2263 \r\nQ 4303 1400 4413 641 \r\nQ 4500 1075 4641 1638 \r\nL 5359 4581 \r\nL 5969 4581 \r\nL 4713 0 \r\nL 4128 0 \r\nL 3163 3491 \r\nQ 3041 3928 3019 4028 \r\nQ 2947 3713 2884 3491 \r\nL 1913 0 \r\nL 1294 0 \r\nz\r\n\" id=\"ArialMT-57\" transform=\"scale(0.015625)\"/>\r\n        <path d=\"M -97 -1272 \r\nL -97 -866 \r\nL 3631 -866 \r\nL 3631 -1272 \r\nL -97 -1272 \r\nz\r\n\" id=\"ArialMT-5f\" transform=\"scale(0.015625)\"/>\r\n        <path d=\"M 494 0 \r\nL 494 4581 \r\nL 2222 4581 \r\nQ 2678 4581 2919 4538 \r\nQ 3256 4481 3484 4323 \r\nQ 3713 4166 3852 3881 \r\nQ 3991 3597 3991 3256 \r\nQ 3991 2672 3619 2267 \r\nQ 3247 1863 2275 1863 \r\nL 1100 1863 \r\nL 1100 0 \r\nL 494 0 \r\nz\r\nM 1100 2403 \r\nL 2284 2403 \r\nQ 2872 2403 3119 2622 \r\nQ 3366 2841 3366 3238 \r\nQ 3366 3525 3220 3729 \r\nQ 3075 3934 2838 4000 \r\nQ 2684 4041 2272 4041 \r\nL 1100 4041 \r\nL 1100 2403 \r\nz\r\n\" id=\"ArialMT-50\" transform=\"scale(0.015625)\"/>\r\n        <path d=\"M 503 0 \r\nL 503 4581 \r\nL 2534 4581 \r\nQ 3147 4581 3465 4457 \r\nQ 3784 4334 3975 4021 \r\nQ 4166 3709 4166 3331 \r\nQ 4166 2844 3850 2509 \r\nQ 3534 2175 2875 2084 \r\nQ 3116 1969 3241 1856 \r\nQ 3506 1613 3744 1247 \r\nL 4541 0 \r\nL 3778 0 \r\nL 3172 953 \r\nQ 2906 1366 2734 1584 \r\nQ 2563 1803 2427 1890 \r\nQ 2291 1978 2150 2013 \r\nQ 2047 2034 1813 2034 \r\nL 1109 2034 \r\nL 1109 0 \r\nL 503 0 \r\nz\r\nM 1109 2559 \r\nL 2413 2559 \r\nQ 2828 2559 3062 2645 \r\nQ 3297 2731 3419 2920 \r\nQ 3541 3109 3541 3331 \r\nQ 3541 3656 3305 3865 \r\nQ 3069 4075 2559 4075 \r\nL 1109 4075 \r\nL 1109 2559 \r\nz\r\n\" id=\"ArialMT-52\" transform=\"scale(0.015625)\"/>\r\n        <path d=\"M 506 0 \r\nL 506 4581 \r\nL 3819 4581 \r\nL 3819 4041 \r\nL 1113 4041 \r\nL 1113 2638 \r\nL 3647 2638 \r\nL 3647 2100 \r\nL 1113 2100 \r\nL 1113 541 \r\nL 3925 541 \r\nL 3925 0 \r\nL 506 0 \r\nz\r\n\" id=\"ArialMT-45\" transform=\"scale(0.015625)\"/>\r\n        <path d=\"M 1803 0 \r\nL 28 4581 \r\nL 684 4581 \r\nL 1875 1253 \r\nQ 2019 853 2116 503 \r\nQ 2222 878 2363 1253 \r\nL 3600 4581 \r\nL 4219 4581 \r\nL 2425 0 \r\nL 1803 0 \r\nz\r\n\" id=\"ArialMT-56\" transform=\"scale(0.015625)\"/>\r\n       </defs>\r\n       <use xlink:href=\"#ArialMT-41\"/>\r\n       <use x=\"66.699219\" xlink:href=\"#ArialMT-47\"/>\r\n       <use x=\"144.482422\" xlink:href=\"#ArialMT-59\"/>\r\n       <use x=\"211.181641\" xlink:href=\"#ArialMT-57\"/>\r\n       <use x=\"305.566406\" xlink:href=\"#ArialMT-5f\"/>\r\n       <use x=\"361.181641\" xlink:href=\"#ArialMT-50\"/>\r\n       <use x=\"427.880859\" xlink:href=\"#ArialMT-52\"/>\r\n       <use x=\"500.097656\" xlink:href=\"#ArialMT-45\"/>\r\n       <use x=\"566.796875\" xlink:href=\"#ArialMT-56\"/>\r\n      </g>\r\n     </g>\r\n    </g>\r\n    <g id=\"xtick_4\">\r\n     <g id=\"text_4\">\r\n      <!-- Full primary only -->\r\n      <g style=\"fill:#262626;\" transform=\"translate(547.490117 523.990391)scale(0.165 -0.165)\">\r\n       <defs>\r\n        <path d=\"M 525 0 \r\nL 525 4581 \r\nL 3616 4581 \r\nL 3616 4041 \r\nL 1131 4041 \r\nL 1131 2622 \r\nL 3281 2622 \r\nL 3281 2081 \r\nL 1131 2081 \r\nL 1131 0 \r\nL 525 0 \r\nz\r\n\" id=\"ArialMT-46\" transform=\"scale(0.015625)\"/>\r\n        <path d=\"M 2597 0 \r\nL 2597 488 \r\nQ 2209 -75 1544 -75 \r\nQ 1250 -75 995 37 \r\nQ 741 150 617 320 \r\nQ 494 491 444 738 \r\nQ 409 903 409 1263 \r\nL 409 3319 \r\nL 972 3319 \r\nL 972 1478 \r\nQ 972 1038 1006 884 \r\nQ 1059 663 1231 536 \r\nQ 1403 409 1656 409 \r\nQ 1909 409 2131 539 \r\nQ 2353 669 2445 892 \r\nQ 2538 1116 2538 1541 \r\nL 2538 3319 \r\nL 3100 3319 \r\nL 3100 0 \r\nL 2597 0 \r\nz\r\n\" id=\"ArialMT-75\" transform=\"scale(0.015625)\"/>\r\n        <path d=\"M 422 -1272 \r\nL 422 3319 \r\nL 934 3319 \r\nL 934 2888 \r\nQ 1116 3141 1344 3267 \r\nQ 1572 3394 1897 3394 \r\nQ 2322 3394 2647 3175 \r\nQ 2972 2956 3137 2557 \r\nQ 3303 2159 3303 1684 \r\nQ 3303 1175 3120 767 \r\nQ 2938 359 2589 142 \r\nQ 2241 -75 1856 -75 \r\nQ 1575 -75 1351 44 \r\nQ 1128 163 984 344 \r\nL 984 -1272 \r\nL 422 -1272 \r\nz\r\nM 931 1641 \r\nQ 931 1000 1190 694 \r\nQ 1450 388 1819 388 \r\nQ 2194 388 2461 705 \r\nQ 2728 1022 2728 1688 \r\nQ 2728 2322 2467 2637 \r\nQ 2206 2953 1844 2953 \r\nQ 1484 2953 1207 2617 \r\nQ 931 2281 931 1641 \r\nz\r\n\" id=\"ArialMT-70\" transform=\"scale(0.015625)\"/>\r\n        <path d=\"M 422 0 \r\nL 422 3319 \r\nL 925 3319 \r\nL 925 2853 \r\nQ 1081 3097 1340 3245 \r\nQ 1600 3394 1931 3394 \r\nQ 2300 3394 2536 3241 \r\nQ 2772 3088 2869 2813 \r\nQ 3263 3394 3894 3394 \r\nQ 4388 3394 4653 3120 \r\nQ 4919 2847 4919 2278 \r\nL 4919 0 \r\nL 4359 0 \r\nL 4359 2091 \r\nQ 4359 2428 4304 2576 \r\nQ 4250 2725 4106 2815 \r\nQ 3963 2906 3769 2906 \r\nQ 3419 2906 3187 2673 \r\nQ 2956 2441 2956 1928 \r\nL 2956 0 \r\nL 2394 0 \r\nL 2394 2156 \r\nQ 2394 2531 2256 2718 \r\nQ 2119 2906 1806 2906 \r\nQ 1569 2906 1367 2781 \r\nQ 1166 2656 1075 2415 \r\nQ 984 2175 984 1722 \r\nL 984 0 \r\nL 422 0 \r\nz\r\n\" id=\"ArialMT-6d\" transform=\"scale(0.015625)\"/>\r\n        <path d=\"M 397 -1278 \r\nL 334 -750 \r\nQ 519 -800 656 -800 \r\nQ 844 -800 956 -737 \r\nQ 1069 -675 1141 -563 \r\nQ 1194 -478 1313 -144 \r\nQ 1328 -97 1363 -6 \r\nL 103 3319 \r\nL 709 3319 \r\nL 1400 1397 \r\nQ 1534 1031 1641 628 \r\nQ 1738 1016 1872 1384 \r\nL 2581 3319 \r\nL 3144 3319 \r\nL 1881 -56 \r\nQ 1678 -603 1566 -809 \r\nQ 1416 -1088 1222 -1217 \r\nQ 1028 -1347 759 -1347 \r\nQ 597 -1347 397 -1278 \r\nz\r\n\" id=\"ArialMT-79\" transform=\"scale(0.015625)\"/>\r\n        <path d=\"M 422 0 \r\nL 422 3319 \r\nL 928 3319 \r\nL 928 2847 \r\nQ 1294 3394 1984 3394 \r\nQ 2284 3394 2536 3286 \r\nQ 2788 3178 2913 3003 \r\nQ 3038 2828 3088 2588 \r\nQ 3119 2431 3119 2041 \r\nL 3119 0 \r\nL 2556 0 \r\nL 2556 2019 \r\nQ 2556 2363 2490 2533 \r\nQ 2425 2703 2258 2804 \r\nQ 2091 2906 1866 2906 \r\nQ 1506 2906 1245 2678 \r\nQ 984 2450 984 1813 \r\nL 984 0 \r\nL 422 0 \r\nz\r\n\" id=\"ArialMT-6e\" transform=\"scale(0.015625)\"/>\r\n       </defs>\r\n       <use xlink:href=\"#ArialMT-46\"/>\r\n       <use x=\"61.083984\" xlink:href=\"#ArialMT-75\"/>\r\n       <use x=\"116.699219\" xlink:href=\"#ArialMT-6c\"/>\r\n       <use x=\"138.916016\" xlink:href=\"#ArialMT-6c\"/>\r\n       <use x=\"161.132812\" xlink:href=\"#ArialMT-20\"/>\r\n       <use x=\"188.916016\" xlink:href=\"#ArialMT-70\"/>\r\n       <use x=\"244.53125\" xlink:href=\"#ArialMT-72\"/>\r\n       <use x=\"277.832031\" xlink:href=\"#ArialMT-69\"/>\r\n       <use x=\"300.048828\" xlink:href=\"#ArialMT-6d\"/>\r\n       <use x=\"383.349609\" xlink:href=\"#ArialMT-61\"/>\r\n       <use x=\"438.964844\" xlink:href=\"#ArialMT-72\"/>\r\n       <use x=\"472.265625\" xlink:href=\"#ArialMT-79\"/>\r\n       <use x=\"522.265625\" xlink:href=\"#ArialMT-20\"/>\r\n       <use x=\"550.048828\" xlink:href=\"#ArialMT-6f\"/>\r\n       <use x=\"605.664062\" xlink:href=\"#ArialMT-6e\"/>\r\n       <use x=\"661.279297\" xlink:href=\"#ArialMT-6c\"/>\r\n       <use x=\"683.496094\" xlink:href=\"#ArialMT-79\"/>\r\n      </g>\r\n     </g>\r\n    </g>\r\n    <g id=\"xtick_5\">\r\n     <g id=\"text_5\">\r\n      <!-- Partial Primary -->\r\n      <g style=\"fill:#262626;\" transform=\"translate(702.709648 523.990391)scale(0.165 -0.165)\">\r\n       <use xlink:href=\"#ArialMT-50\"/>\r\n       <use x=\"66.699219\" xlink:href=\"#ArialMT-61\"/>\r\n       <use x=\"122.314453\" xlink:href=\"#ArialMT-72\"/>\r\n       <use x=\"155.615234\" xlink:href=\"#ArialMT-74\"/>\r\n       <use x=\"183.398438\" xlink:href=\"#ArialMT-69\"/>\r\n       <use x=\"205.615234\" xlink:href=\"#ArialMT-61\"/>\r\n       <use x=\"261.230469\" xlink:href=\"#ArialMT-6c\"/>\r\n       <use x=\"283.447266\" xlink:href=\"#ArialMT-20\"/>\r\n       <use x=\"311.230469\" xlink:href=\"#ArialMT-50\"/>\r\n       <use x=\"377.929688\" xlink:href=\"#ArialMT-72\"/>\r\n       <use x=\"411.230469\" xlink:href=\"#ArialMT-69\"/>\r\n       <use x=\"433.447266\" xlink:href=\"#ArialMT-6d\"/>\r\n       <use x=\"516.748047\" xlink:href=\"#ArialMT-61\"/>\r\n       <use x=\"572.363281\" xlink:href=\"#ArialMT-72\"/>\r\n       <use x=\"605.664062\" xlink:href=\"#ArialMT-79\"/>\r\n      </g>\r\n     </g>\r\n    </g>\r\n    <g id=\"xtick_6\">\r\n     <g id=\"text_6\">\r\n      <!-- Partial primary no secondary -->\r\n      <g style=\"fill:#262626;\" transform=\"translate(800.60457 523.990391)scale(0.165 -0.165)\">\r\n       <defs>\r\n        <path d=\"M 197 991 \r\nL 753 1078 \r\nQ 800 744 1014 566 \r\nQ 1228 388 1613 388 \r\nQ 2000 388 2187 545 \r\nQ 2375 703 2375 916 \r\nQ 2375 1106 2209 1216 \r\nQ 2094 1291 1634 1406 \r\nQ 1016 1563 777 1677 \r\nQ 538 1791 414 1992 \r\nQ 291 2194 291 2438 \r\nQ 291 2659 392 2848 \r\nQ 494 3038 669 3163 \r\nQ 800 3259 1026 3326 \r\nQ 1253 3394 1513 3394 \r\nQ 1903 3394 2198 3281 \r\nQ 2494 3169 2634 2976 \r\nQ 2775 2784 2828 2463 \r\nL 2278 2388 \r\nQ 2241 2644 2061 2787 \r\nQ 1881 2931 1553 2931 \r\nQ 1166 2931 1000 2803 \r\nQ 834 2675 834 2503 \r\nQ 834 2394 903 2306 \r\nQ 972 2216 1119 2156 \r\nQ 1203 2125 1616 2013 \r\nQ 2213 1853 2448 1751 \r\nQ 2684 1650 2818 1456 \r\nQ 2953 1263 2953 975 \r\nQ 2953 694 2789 445 \r\nQ 2625 197 2315 61 \r\nQ 2006 -75 1616 -75 \r\nQ 969 -75 630 194 \r\nQ 291 463 197 991 \r\nz\r\n\" id=\"ArialMT-73\" transform=\"scale(0.015625)\"/>\r\n       </defs>\r\n       <use xlink:href=\"#ArialMT-50\"/>\r\n       <use x=\"66.699219\" xlink:href=\"#ArialMT-61\"/>\r\n       <use x=\"122.314453\" xlink:href=\"#ArialMT-72\"/>\r\n       <use x=\"155.615234\" xlink:href=\"#ArialMT-74\"/>\r\n       <use x=\"183.398438\" xlink:href=\"#ArialMT-69\"/>\r\n       <use x=\"205.615234\" xlink:href=\"#ArialMT-61\"/>\r\n       <use x=\"261.230469\" xlink:href=\"#ArialMT-6c\"/>\r\n       <use x=\"283.447266\" xlink:href=\"#ArialMT-20\"/>\r\n       <use x=\"311.230469\" xlink:href=\"#ArialMT-70\"/>\r\n       <use x=\"366.845703\" xlink:href=\"#ArialMT-72\"/>\r\n       <use x=\"400.146484\" xlink:href=\"#ArialMT-69\"/>\r\n       <use x=\"422.363281\" xlink:href=\"#ArialMT-6d\"/>\r\n       <use x=\"505.664062\" xlink:href=\"#ArialMT-61\"/>\r\n       <use x=\"561.279297\" xlink:href=\"#ArialMT-72\"/>\r\n       <use x=\"594.580078\" xlink:href=\"#ArialMT-79\"/>\r\n       <use x=\"644.580078\" xlink:href=\"#ArialMT-20\"/>\r\n       <use x=\"672.363281\" xlink:href=\"#ArialMT-6e\"/>\r\n       <use x=\"727.978516\" xlink:href=\"#ArialMT-6f\"/>\r\n       <use x=\"783.59375\" xlink:href=\"#ArialMT-20\"/>\r\n       <use x=\"811.376953\" xlink:href=\"#ArialMT-73\"/>\r\n       <use x=\"861.376953\" xlink:href=\"#ArialMT-65\"/>\r\n       <use x=\"916.992188\" xlink:href=\"#ArialMT-63\"/>\r\n       <use x=\"966.992188\" xlink:href=\"#ArialMT-6f\"/>\r\n       <use x=\"1022.607422\" xlink:href=\"#ArialMT-6e\"/>\r\n       <use x=\"1078.222656\" xlink:href=\"#ArialMT-64\"/>\r\n       <use x=\"1133.837891\" xlink:href=\"#ArialMT-61\"/>\r\n       <use x=\"1189.453125\" xlink:href=\"#ArialMT-72\"/>\r\n       <use x=\"1222.753906\" xlink:href=\"#ArialMT-79\"/>\r\n      </g>\r\n     </g>\r\n    </g>\r\n   </g>\r\n   <g id=\"matplotlib.axis_2\">\r\n    <g id=\"ytick_1\">\r\n     <g id=\"line2d_1\">\r\n      <path clip-path=\"url(#pf70f8c8bb4)\" d=\"M 87.2 499.68 \r\nL 980 499.68 \r\n\" style=\"fill:none;stroke:#ffffff;stroke-linecap:round;stroke-width:1.5;\"/>\r\n     </g>\r\n     <g id=\"text_7\">\r\n      <!-- 0 -->\r\n      <g style=\"fill:#262626;\" transform=\"translate(65.524453 505.585195)scale(0.165 -0.165)\">\r\n       <defs>\r\n        <path d=\"M 266 2259 \r\nQ 266 3072 433 3567 \r\nQ 600 4063 929 4331 \r\nQ 1259 4600 1759 4600 \r\nQ 2128 4600 2406 4451 \r\nQ 2684 4303 2865 4023 \r\nQ 3047 3744 3150 3342 \r\nQ 3253 2941 3253 2259 \r\nQ 3253 1453 3087 958 \r\nQ 2922 463 2592 192 \r\nQ 2263 -78 1759 -78 \r\nQ 1097 -78 719 397 \r\nQ 266 969 266 2259 \r\nz\r\nM 844 2259 \r\nQ 844 1131 1108 757 \r\nQ 1372 384 1759 384 \r\nQ 2147 384 2411 759 \r\nQ 2675 1134 2675 2259 \r\nQ 2675 3391 2411 3762 \r\nQ 2147 4134 1753 4134 \r\nQ 1366 4134 1134 3806 \r\nQ 844 3388 844 2259 \r\nz\r\n\" id=\"ArialMT-30\" transform=\"scale(0.015625)\"/>\r\n       </defs>\r\n       <use xlink:href=\"#ArialMT-30\"/>\r\n      </g>\r\n     </g>\r\n    </g>\r\n    <g id=\"ytick_2\">\r\n     <g id=\"line2d_2\">\r\n      <path clip-path=\"url(#pf70f8c8bb4)\" d=\"M 87.2 442.719467 \r\nL 980 442.719467 \r\n\" style=\"fill:none;stroke:#ffffff;stroke-linecap:round;stroke-width:1.5;\"/>\r\n     </g>\r\n     <g id=\"text_8\">\r\n      <!-- 2500 -->\r\n      <g style=\"fill:#262626;\" transform=\"translate(37.997813 448.624662)scale(0.165 -0.165)\">\r\n       <defs>\r\n        <path d=\"M 3222 541 \r\nL 3222 0 \r\nL 194 0 \r\nQ 188 203 259 391 \r\nQ 375 700 629 1000 \r\nQ 884 1300 1366 1694 \r\nQ 2113 2306 2375 2664 \r\nQ 2638 3022 2638 3341 \r\nQ 2638 3675 2398 3904 \r\nQ 2159 4134 1775 4134 \r\nQ 1369 4134 1125 3890 \r\nQ 881 3647 878 3216 \r\nL 300 3275 \r\nQ 359 3922 746 4261 \r\nQ 1134 4600 1788 4600 \r\nQ 2447 4600 2831 4234 \r\nQ 3216 3869 3216 3328 \r\nQ 3216 3053 3103 2787 \r\nQ 2991 2522 2730 2228 \r\nQ 2469 1934 1863 1422 \r\nQ 1356 997 1212 845 \r\nQ 1069 694 975 541 \r\nL 3222 541 \r\nz\r\n\" id=\"ArialMT-32\" transform=\"scale(0.015625)\"/>\r\n        <path d=\"M 266 1200 \r\nL 856 1250 \r\nQ 922 819 1161 601 \r\nQ 1400 384 1738 384 \r\nQ 2144 384 2425 690 \r\nQ 2706 997 2706 1503 \r\nQ 2706 1984 2436 2262 \r\nQ 2166 2541 1728 2541 \r\nQ 1456 2541 1237 2417 \r\nQ 1019 2294 894 2097 \r\nL 366 2166 \r\nL 809 4519 \r\nL 3088 4519 \r\nL 3088 3981 \r\nL 1259 3981 \r\nL 1013 2750 \r\nQ 1425 3038 1878 3038 \r\nQ 2478 3038 2890 2622 \r\nQ 3303 2206 3303 1553 \r\nQ 3303 931 2941 478 \r\nQ 2500 -78 1738 -78 \r\nQ 1113 -78 717 272 \r\nQ 322 622 266 1200 \r\nz\r\n\" id=\"ArialMT-35\" transform=\"scale(0.015625)\"/>\r\n       </defs>\r\n       <use xlink:href=\"#ArialMT-32\"/>\r\n       <use x=\"55.615234\" xlink:href=\"#ArialMT-35\"/>\r\n       <use x=\"111.230469\" xlink:href=\"#ArialMT-30\"/>\r\n       <use x=\"166.845703\" xlink:href=\"#ArialMT-30\"/>\r\n      </g>\r\n     </g>\r\n    </g>\r\n    <g id=\"ytick_3\">\r\n     <g id=\"line2d_3\">\r\n      <path clip-path=\"url(#pf70f8c8bb4)\" d=\"M 87.2 385.758934 \r\nL 980 385.758934 \r\n\" style=\"fill:none;stroke:#ffffff;stroke-linecap:round;stroke-width:1.5;\"/>\r\n     </g>\r\n     <g id=\"text_9\">\r\n      <!-- 5000 -->\r\n      <g style=\"fill:#262626;\" transform=\"translate(37.997813 391.664129)scale(0.165 -0.165)\">\r\n       <use xlink:href=\"#ArialMT-35\"/>\r\n       <use x=\"55.615234\" xlink:href=\"#ArialMT-30\"/>\r\n       <use x=\"111.230469\" xlink:href=\"#ArialMT-30\"/>\r\n       <use x=\"166.845703\" xlink:href=\"#ArialMT-30\"/>\r\n      </g>\r\n     </g>\r\n    </g>\r\n    <g id=\"ytick_4\">\r\n     <g id=\"line2d_4\">\r\n      <path clip-path=\"url(#pf70f8c8bb4)\" d=\"M 87.2 328.798401 \r\nL 980 328.798401 \r\n\" style=\"fill:none;stroke:#ffffff;stroke-linecap:round;stroke-width:1.5;\"/>\r\n     </g>\r\n     <g id=\"text_10\">\r\n      <!-- 7500 -->\r\n      <g style=\"fill:#262626;\" transform=\"translate(37.997813 334.703596)scale(0.165 -0.165)\">\r\n       <defs>\r\n        <path d=\"M 303 3981 \r\nL 303 4522 \r\nL 3269 4522 \r\nL 3269 4084 \r\nQ 2831 3619 2401 2847 \r\nQ 1972 2075 1738 1259 \r\nQ 1569 684 1522 0 \r\nL 944 0 \r\nQ 953 541 1156 1306 \r\nQ 1359 2072 1739 2783 \r\nQ 2119 3494 2547 3981 \r\nL 303 3981 \r\nz\r\n\" id=\"ArialMT-37\" transform=\"scale(0.015625)\"/>\r\n       </defs>\r\n       <use xlink:href=\"#ArialMT-37\"/>\r\n       <use x=\"55.615234\" xlink:href=\"#ArialMT-35\"/>\r\n       <use x=\"111.230469\" xlink:href=\"#ArialMT-30\"/>\r\n       <use x=\"166.845703\" xlink:href=\"#ArialMT-30\"/>\r\n      </g>\r\n     </g>\r\n    </g>\r\n    <g id=\"ytick_5\">\r\n     <g id=\"line2d_5\">\r\n      <path clip-path=\"url(#pf70f8c8bb4)\" d=\"M 87.2 271.837867 \r\nL 980 271.837867 \r\n\" style=\"fill:none;stroke:#ffffff;stroke-linecap:round;stroke-width:1.5;\"/>\r\n     </g>\r\n     <g id=\"text_11\">\r\n      <!-- 10000 -->\r\n      <g style=\"fill:#262626;\" transform=\"translate(28.822266 277.743063)scale(0.165 -0.165)\">\r\n       <defs>\r\n        <path d=\"M 2384 0 \r\nL 1822 0 \r\nL 1822 3584 \r\nQ 1619 3391 1289 3197 \r\nQ 959 3003 697 2906 \r\nL 697 3450 \r\nQ 1169 3672 1522 3987 \r\nQ 1875 4303 2022 4600 \r\nL 2384 4600 \r\nL 2384 0 \r\nz\r\n\" id=\"ArialMT-31\" transform=\"scale(0.015625)\"/>\r\n       </defs>\r\n       <use xlink:href=\"#ArialMT-31\"/>\r\n       <use x=\"55.615234\" xlink:href=\"#ArialMT-30\"/>\r\n       <use x=\"111.230469\" xlink:href=\"#ArialMT-30\"/>\r\n       <use x=\"166.845703\" xlink:href=\"#ArialMT-30\"/>\r\n       <use x=\"222.460938\" xlink:href=\"#ArialMT-30\"/>\r\n      </g>\r\n     </g>\r\n    </g>\r\n    <g id=\"ytick_6\">\r\n     <g id=\"line2d_6\">\r\n      <path clip-path=\"url(#pf70f8c8bb4)\" d=\"M 87.2 214.877334 \r\nL 980 214.877334 \r\n\" style=\"fill:none;stroke:#ffffff;stroke-linecap:round;stroke-width:1.5;\"/>\r\n     </g>\r\n     <g id=\"text_12\">\r\n      <!-- 12500 -->\r\n      <g style=\"fill:#262626;\" transform=\"translate(28.822266 220.78253)scale(0.165 -0.165)\">\r\n       <use xlink:href=\"#ArialMT-31\"/>\r\n       <use x=\"55.615234\" xlink:href=\"#ArialMT-32\"/>\r\n       <use x=\"111.230469\" xlink:href=\"#ArialMT-35\"/>\r\n       <use x=\"166.845703\" xlink:href=\"#ArialMT-30\"/>\r\n       <use x=\"222.460938\" xlink:href=\"#ArialMT-30\"/>\r\n      </g>\r\n     </g>\r\n    </g>\r\n    <g id=\"ytick_7\">\r\n     <g id=\"line2d_7\">\r\n      <path clip-path=\"url(#pf70f8c8bb4)\" d=\"M 87.2 157.916801 \r\nL 980 157.916801 \r\n\" style=\"fill:none;stroke:#ffffff;stroke-linecap:round;stroke-width:1.5;\"/>\r\n     </g>\r\n     <g id=\"text_13\">\r\n      <!-- 15000 -->\r\n      <g style=\"fill:#262626;\" transform=\"translate(28.822266 163.821996)scale(0.165 -0.165)\">\r\n       <use xlink:href=\"#ArialMT-31\"/>\r\n       <use x=\"55.615234\" xlink:href=\"#ArialMT-35\"/>\r\n       <use x=\"111.230469\" xlink:href=\"#ArialMT-30\"/>\r\n       <use x=\"166.845703\" xlink:href=\"#ArialMT-30\"/>\r\n       <use x=\"222.460938\" xlink:href=\"#ArialMT-30\"/>\r\n      </g>\r\n     </g>\r\n    </g>\r\n    <g id=\"ytick_8\">\r\n     <g id=\"line2d_8\">\r\n      <path clip-path=\"url(#pf70f8c8bb4)\" d=\"M 87.2 100.956268 \r\nL 980 100.956268 \r\n\" style=\"fill:none;stroke:#ffffff;stroke-linecap:round;stroke-width:1.5;\"/>\r\n     </g>\r\n     <g id=\"text_14\">\r\n      <!-- 17500 -->\r\n      <g style=\"fill:#262626;\" transform=\"translate(28.822266 106.861463)scale(0.165 -0.165)\">\r\n       <use xlink:href=\"#ArialMT-31\"/>\r\n       <use x=\"55.615234\" xlink:href=\"#ArialMT-37\"/>\r\n       <use x=\"111.230469\" xlink:href=\"#ArialMT-35\"/>\r\n       <use x=\"166.845703\" xlink:href=\"#ArialMT-30\"/>\r\n       <use x=\"222.460938\" xlink:href=\"#ArialMT-30\"/>\r\n      </g>\r\n     </g>\r\n    </g>\r\n   </g>\r\n   <g id=\"patch_3\">\r\n    <path clip-path=\"url(#pf70f8c8bb4)\" d=\"M 102.08 499.68 \r\nL 221.12 499.68 \r\nL 221.12 85.508571 \r\nL 102.08 85.508571 \r\nz\r\n\" style=\"fill:#cb3335;stroke:#ffffff;stroke-linejoin:miter;stroke-width:1.5;\"/>\r\n   </g>\r\n   <g id=\"patch_4\">\r\n    <path clip-path=\"url(#pf70f8c8bb4)\" d=\"M 250.88 499.68 \r\nL 369.92 499.68 \r\nL 369.92 89.564161 \r\nL 250.88 89.564161 \r\nz\r\n\" style=\"fill:#477ca8;stroke:#ffffff;stroke-linejoin:miter;stroke-width:1.5;\"/>\r\n   </g>\r\n   <g id=\"patch_5\">\r\n    <path clip-path=\"url(#pf70f8c8bb4)\" d=\"M 399.68 499.68 \r\nL 518.72 499.68 \r\nL 518.72 152.585295 \r\nL 399.68 152.585295 \r\nz\r\n\" style=\"fill:#59a257;stroke:#ffffff;stroke-linejoin:miter;stroke-width:1.5;\"/>\r\n   </g>\r\n   <g id=\"patch_6\">\r\n    <path clip-path=\"url(#pf70f8c8bb4)\" d=\"M 548.48 499.68 \r\nL 667.52 499.68 \r\nL 667.52 344.177745 \r\nL 548.48 344.177745 \r\nz\r\n\" style=\"fill:#905998;stroke:#ffffff;stroke-linejoin:miter;stroke-width:1.5;\"/>\r\n   </g>\r\n   <g id=\"patch_7\">\r\n    <path clip-path=\"url(#pf70f8c8bb4)\" d=\"M 697.28 499.68 \r\nL 816.32 499.68 \r\nL 816.32 339.803176 \r\nL 697.28 339.803176 \r\nz\r\n\" style=\"fill:#df7f20;stroke:#ffffff;stroke-linejoin:miter;stroke-width:1.5;\"/>\r\n   </g>\r\n   <g id=\"patch_8\">\r\n    <path clip-path=\"url(#pf70f8c8bb4)\" d=\"M 846.08 499.68 \r\nL 965.12 499.68 \r\nL 965.12 361.470962 \r\nL 846.08 361.470962 \r\nz\r\n\" style=\"fill:#e6e64c;stroke:#ffffff;stroke-linejoin:miter;stroke-width:1.5;\"/>\r\n   </g>\r\n   <g id=\"line2d_9\">\r\n    <path clip-path=\"url(#pf70f8c8bb4)\" d=\"M 0 0 \r\n\" style=\"fill:none;stroke:#424242;stroke-linecap:round;stroke-width:4.05;\"/>\r\n   </g>\r\n   <g id=\"line2d_10\">\r\n    <path clip-path=\"url(#pf70f8c8bb4)\" d=\"M 0 0 \r\n\" style=\"fill:none;stroke:#424242;stroke-linecap:round;stroke-width:4.05;\"/>\r\n   </g>\r\n   <g id=\"line2d_11\">\r\n    <path clip-path=\"url(#pf70f8c8bb4)\" d=\"M 0 0 \r\n\" style=\"fill:none;stroke:#424242;stroke-linecap:round;stroke-width:4.05;\"/>\r\n   </g>\r\n   <g id=\"line2d_12\">\r\n    <path clip-path=\"url(#pf70f8c8bb4)\" d=\"M 0 0 \r\n\" style=\"fill:none;stroke:#424242;stroke-linecap:round;stroke-width:4.05;\"/>\r\n   </g>\r\n   <g id=\"line2d_13\">\r\n    <path clip-path=\"url(#pf70f8c8bb4)\" d=\"M 0 0 \r\n\" style=\"fill:none;stroke:#424242;stroke-linecap:round;stroke-width:4.05;\"/>\r\n   </g>\r\n   <g id=\"line2d_14\">\r\n    <path clip-path=\"url(#pf70f8c8bb4)\" d=\"M 0 0 \r\n\" style=\"fill:none;stroke:#424242;stroke-linecap:round;stroke-width:4.05;\"/>\r\n   </g>\r\n   <g id=\"patch_9\">\r\n    <path d=\"M 87.2 499.68 \r\nL 87.2 64.8 \r\n\" style=\"fill:none;stroke:#ffffff;stroke-linecap:square;stroke-linejoin:miter;stroke-width:1.875;\"/>\r\n   </g>\r\n   <g id=\"patch_10\">\r\n    <path d=\"M 980 499.68 \r\nL 980 64.8 \r\n\" style=\"fill:none;stroke:#ffffff;stroke-linecap:square;stroke-linejoin:miter;stroke-width:1.875;\"/>\r\n   </g>\r\n   <g id=\"patch_11\">\r\n    <path d=\"M 87.2 499.68 \r\nL 980 499.68 \r\n\" style=\"fill:none;stroke:#ffffff;stroke-linecap:square;stroke-linejoin:miter;stroke-width:1.875;\"/>\r\n   </g>\r\n   <g id=\"patch_12\">\r\n    <path d=\"M 87.2 64.8 \r\nL 980 64.8 \r\n\" style=\"fill:none;stroke:#ffffff;stroke-linecap:square;stroke-linejoin:miter;stroke-width:1.875;\"/>\r\n   </g>\r\n   <g id=\"text_15\">\r\n    <!-- 18178 -->\r\n    <g style=\"fill:#ffffff;\" transform=\"translate(140.746484 296.47202)scale(0.15 -0.15)\">\r\n     <defs>\r\n      <path d=\"M 1131 2484 \r\nQ 781 2613 612 2850 \r\nQ 444 3088 444 3419 \r\nQ 444 3919 803 4259 \r\nQ 1163 4600 1759 4600 \r\nQ 2359 4600 2725 4251 \r\nQ 3091 3903 3091 3403 \r\nQ 3091 3084 2923 2848 \r\nQ 2756 2613 2416 2484 \r\nQ 2838 2347 3058 2040 \r\nQ 3278 1734 3278 1309 \r\nQ 3278 722 2862 322 \r\nQ 2447 -78 1769 -78 \r\nQ 1091 -78 675 323 \r\nQ 259 725 259 1325 \r\nQ 259 1772 486 2073 \r\nQ 713 2375 1131 2484 \r\nz\r\nM 1019 3438 \r\nQ 1019 3113 1228 2906 \r\nQ 1438 2700 1772 2700 \r\nQ 2097 2700 2305 2904 \r\nQ 2513 3109 2513 3406 \r\nQ 2513 3716 2298 3927 \r\nQ 2084 4138 1766 4138 \r\nQ 1444 4138 1231 3931 \r\nQ 1019 3725 1019 3438 \r\nz\r\nM 838 1322 \r\nQ 838 1081 952 856 \r\nQ 1066 631 1291 507 \r\nQ 1516 384 1775 384 \r\nQ 2178 384 2440 643 \r\nQ 2703 903 2703 1303 \r\nQ 2703 1709 2433 1975 \r\nQ 2163 2241 1756 2241 \r\nQ 1359 2241 1098 1978 \r\nQ 838 1716 838 1322 \r\nz\r\n\" id=\"ArialMT-38\" transform=\"scale(0.015625)\"/>\r\n     </defs>\r\n     <use xlink:href=\"#ArialMT-31\"/>\r\n     <use x=\"55.615234\" xlink:href=\"#ArialMT-38\"/>\r\n     <use x=\"111.230469\" xlink:href=\"#ArialMT-31\"/>\r\n     <use x=\"166.845703\" xlink:href=\"#ArialMT-37\"/>\r\n     <use x=\"222.460938\" xlink:href=\"#ArialMT-38\"/>\r\n    </g>\r\n   </g>\r\n   <g id=\"text_16\">\r\n    <!-- 18000 -->\r\n    <g style=\"fill:#ffffff;\" transform=\"translate(289.546484 298.499815)scale(0.15 -0.15)\">\r\n     <use xlink:href=\"#ArialMT-31\"/>\r\n     <use x=\"55.615234\" xlink:href=\"#ArialMT-38\"/>\r\n     <use x=\"111.230469\" xlink:href=\"#ArialMT-30\"/>\r\n     <use x=\"166.845703\" xlink:href=\"#ArialMT-30\"/>\r\n     <use x=\"222.460938\" xlink:href=\"#ArialMT-30\"/>\r\n    </g>\r\n   </g>\r\n   <g id=\"text_17\">\r\n    <!-- 15234 -->\r\n    <g style=\"fill:#ffffff;\" transform=\"translate(438.346484 330.010382)scale(0.15 -0.15)\">\r\n     <defs>\r\n      <path d=\"M 269 1209 \r\nL 831 1284 \r\nQ 928 806 1161 595 \r\nQ 1394 384 1728 384 \r\nQ 2125 384 2398 659 \r\nQ 2672 934 2672 1341 \r\nQ 2672 1728 2419 1979 \r\nQ 2166 2231 1775 2231 \r\nQ 1616 2231 1378 2169 \r\nL 1441 2663 \r\nQ 1497 2656 1531 2656 \r\nQ 1891 2656 2178 2843 \r\nQ 2466 3031 2466 3422 \r\nQ 2466 3731 2256 3934 \r\nQ 2047 4138 1716 4138 \r\nQ 1388 4138 1169 3931 \r\nQ 950 3725 888 3313 \r\nL 325 3413 \r\nQ 428 3978 793 4289 \r\nQ 1159 4600 1703 4600 \r\nQ 2078 4600 2393 4439 \r\nQ 2709 4278 2876 4000 \r\nQ 3044 3722 3044 3409 \r\nQ 3044 3113 2884 2869 \r\nQ 2725 2625 2413 2481 \r\nQ 2819 2388 3044 2092 \r\nQ 3269 1797 3269 1353 \r\nQ 3269 753 2831 336 \r\nQ 2394 -81 1725 -81 \r\nQ 1122 -81 723 278 \r\nQ 325 638 269 1209 \r\nz\r\n\" id=\"ArialMT-33\" transform=\"scale(0.015625)\"/>\r\n      <path d=\"M 2069 0 \r\nL 2069 1097 \r\nL 81 1097 \r\nL 81 1613 \r\nL 2172 4581 \r\nL 2631 4581 \r\nL 2631 1613 \r\nL 3250 1613 \r\nL 3250 1097 \r\nL 2631 1097 \r\nL 2631 0 \r\nL 2069 0 \r\nz\r\nM 2069 1613 \r\nL 2069 3678 \r\nL 634 1613 \r\nL 2069 1613 \r\nz\r\n\" id=\"ArialMT-34\" transform=\"scale(0.015625)\"/>\r\n     </defs>\r\n     <use xlink:href=\"#ArialMT-31\"/>\r\n     <use x=\"55.615234\" xlink:href=\"#ArialMT-35\"/>\r\n     <use x=\"111.230469\" xlink:href=\"#ArialMT-32\"/>\r\n     <use x=\"166.845703\" xlink:href=\"#ArialMT-33\"/>\r\n     <use x=\"222.460938\" xlink:href=\"#ArialMT-34\"/>\r\n    </g>\r\n   </g>\r\n   <g id=\"text_18\">\r\n    <!-- 6825 -->\r\n    <g style=\"fill:#ffffff;\" transform=\"translate(591.317188 425.806607)scale(0.15 -0.15)\">\r\n     <defs>\r\n      <path d=\"M 3184 3459 \r\nL 2625 3416 \r\nQ 2550 3747 2413 3897 \r\nQ 2184 4138 1850 4138 \r\nQ 1581 4138 1378 3988 \r\nQ 1113 3794 959 3422 \r\nQ 806 3050 800 2363 \r\nQ 1003 2672 1297 2822 \r\nQ 1591 2972 1913 2972 \r\nQ 2475 2972 2870 2558 \r\nQ 3266 2144 3266 1488 \r\nQ 3266 1056 3080 686 \r\nQ 2894 316 2569 119 \r\nQ 2244 -78 1831 -78 \r\nQ 1128 -78 684 439 \r\nQ 241 956 241 2144 \r\nQ 241 3472 731 4075 \r\nQ 1159 4600 1884 4600 \r\nQ 2425 4600 2770 4297 \r\nQ 3116 3994 3184 3459 \r\nz\r\nM 888 1484 \r\nQ 888 1194 1011 928 \r\nQ 1134 663 1356 523 \r\nQ 1578 384 1822 384 \r\nQ 2178 384 2434 671 \r\nQ 2691 959 2691 1453 \r\nQ 2691 1928 2437 2201 \r\nQ 2184 2475 1800 2475 \r\nQ 1419 2475 1153 2201 \r\nQ 888 1928 888 1484 \r\nz\r\n\" id=\"ArialMT-36\" transform=\"scale(0.015625)\"/>\r\n     </defs>\r\n     <use xlink:href=\"#ArialMT-36\"/>\r\n     <use x=\"55.615234\" xlink:href=\"#ArialMT-38\"/>\r\n     <use x=\"111.230469\" xlink:href=\"#ArialMT-32\"/>\r\n     <use x=\"166.845703\" xlink:href=\"#ArialMT-35\"/>\r\n    </g>\r\n   </g>\r\n   <g id=\"text_19\">\r\n    <!-- 7017 -->\r\n    <g style=\"fill:#ffffff;\" transform=\"translate(740.117188 423.619322)scale(0.15 -0.15)\">\r\n     <use xlink:href=\"#ArialMT-37\"/>\r\n     <use x=\"55.615234\" xlink:href=\"#ArialMT-30\"/>\r\n     <use x=\"111.230469\" xlink:href=\"#ArialMT-31\"/>\r\n     <use x=\"166.845703\" xlink:href=\"#ArialMT-37\"/>\r\n    </g>\r\n   </g>\r\n   <g id=\"text_20\">\r\n    <!-- 6066 -->\r\n    <g style=\"fill:#ffffff;\" transform=\"translate(888.917187 434.453216)scale(0.15 -0.15)\">\r\n     <use xlink:href=\"#ArialMT-36\"/>\r\n     <use x=\"55.615234\" xlink:href=\"#ArialMT-30\"/>\r\n     <use x=\"111.230469\" xlink:href=\"#ArialMT-36\"/>\r\n     <use x=\"166.845703\" xlink:href=\"#ArialMT-36\"/>\r\n    </g>\r\n   </g>\r\n   <g id=\"text_21\">\r\n    <!-- source: HIVHaiti -->\r\n    <g style=\"fill:#262626;\" transform=\"translate(7.2 526.837813)scale(0.1 -0.1)\">\r\n     <defs>\r\n      <path d=\"M 578 2678 \r\nL 578 3319 \r\nL 1219 3319 \r\nL 1219 2678 \r\nL 578 2678 \r\nz\r\nM 578 0 \r\nL 578 641 \r\nL 1219 641 \r\nL 1219 0 \r\nL 578 0 \r\nz\r\n\" id=\"ArialMT-3a\" transform=\"scale(0.015625)\"/>\r\n      <path d=\"M 513 0 \r\nL 513 4581 \r\nL 1119 4581 \r\nL 1119 2700 \r\nL 3500 2700 \r\nL 3500 4581 \r\nL 4106 4581 \r\nL 4106 0 \r\nL 3500 0 \r\nL 3500 2159 \r\nL 1119 2159 \r\nL 1119 0 \r\nL 513 0 \r\nz\r\n\" id=\"ArialMT-48\" transform=\"scale(0.015625)\"/>\r\n      <path d=\"M 597 0 \r\nL 597 4581 \r\nL 1203 4581 \r\nL 1203 0 \r\nL 597 0 \r\nz\r\n\" id=\"ArialMT-49\" transform=\"scale(0.015625)\"/>\r\n     </defs>\r\n     <use xlink:href=\"#ArialMT-73\"/>\r\n     <use x=\"50\" xlink:href=\"#ArialMT-6f\"/>\r\n     <use x=\"105.615234\" xlink:href=\"#ArialMT-75\"/>\r\n     <use x=\"161.230469\" xlink:href=\"#ArialMT-72\"/>\r\n     <use x=\"194.53125\" xlink:href=\"#ArialMT-63\"/>\r\n     <use x=\"244.53125\" xlink:href=\"#ArialMT-65\"/>\r\n     <use x=\"300.146484\" xlink:href=\"#ArialMT-3a\"/>\r\n     <use x=\"327.929688\" xlink:href=\"#ArialMT-20\"/>\r\n     <use x=\"355.712891\" xlink:href=\"#ArialMT-48\"/>\r\n     <use x=\"427.929688\" xlink:href=\"#ArialMT-49\"/>\r\n     <use x=\"455.712891\" xlink:href=\"#ArialMT-56\"/>\r\n     <use x=\"522.412109\" xlink:href=\"#ArialMT-48\"/>\r\n     <use x=\"594.628906\" xlink:href=\"#ArialMT-61\"/>\r\n     <use x=\"650.244141\" xlink:href=\"#ArialMT-69\"/>\r\n     <use x=\"672.460938\" xlink:href=\"#ArialMT-74\"/>\r\n     <use x=\"700.244141\" xlink:href=\"#ArialMT-69\"/>\r\n    </g>\r\n   </g>\r\n  </g>\r\n  <g id=\"text_22\">\r\n   <!-- Visualization of the AGYW with no secondary services -->\r\n   <g style=\"fill:#262626;\" transform=\"translate(260.678375 22.924125)scale(0.216 -0.216)\">\r\n    <defs>\r\n     <path d=\"M 125 0 \r\nL 125 456 \r\nL 2238 2881 \r\nQ 1878 2863 1603 2863 \r\nL 250 2863 \r\nL 250 3319 \r\nL 2963 3319 \r\nL 2963 2947 \r\nL 1166 841 \r\nL 819 456 \r\nQ 1197 484 1528 484 \r\nL 3063 484 \r\nL 3063 0 \r\nL 125 0 \r\nz\r\n\" id=\"ArialMT-7a\" transform=\"scale(0.015625)\"/>\r\n     <path d=\"M 556 0 \r\nL 556 2881 \r\nL 59 2881 \r\nL 59 3319 \r\nL 556 3319 \r\nL 556 3672 \r\nQ 556 4006 616 4169 \r\nQ 697 4388 901 4523 \r\nQ 1106 4659 1475 4659 \r\nQ 1713 4659 2000 4603 \r\nL 1916 4113 \r\nQ 1741 4144 1584 4144 \r\nQ 1328 4144 1222 4034 \r\nQ 1116 3925 1116 3625 \r\nL 1116 3319 \r\nL 1763 3319 \r\nL 1763 2881 \r\nL 1116 2881 \r\nL 1116 0 \r\nL 556 0 \r\nz\r\n\" id=\"ArialMT-66\" transform=\"scale(0.015625)\"/>\r\n     <path d=\"M 1034 0 \r\nL 19 3319 \r\nL 600 3319 \r\nL 1128 1403 \r\nL 1325 691 \r\nQ 1338 744 1497 1375 \r\nL 2025 3319 \r\nL 2603 3319 \r\nL 3100 1394 \r\nL 3266 759 \r\nL 3456 1400 \r\nL 4025 3319 \r\nL 4572 3319 \r\nL 3534 0 \r\nL 2950 0 \r\nL 2422 1988 \r\nL 2294 2553 \r\nL 1622 0 \r\nL 1034 0 \r\nz\r\n\" id=\"ArialMT-77\" transform=\"scale(0.015625)\"/>\r\n    </defs>\r\n    <use xlink:href=\"#ArialMT-56\"/>\r\n    <use x=\"64.949219\" xlink:href=\"#ArialMT-69\"/>\r\n    <use x=\"87.166016\" xlink:href=\"#ArialMT-73\"/>\r\n    <use x=\"137.166016\" xlink:href=\"#ArialMT-75\"/>\r\n    <use x=\"192.78125\" xlink:href=\"#ArialMT-61\"/>\r\n    <use x=\"248.396484\" xlink:href=\"#ArialMT-6c\"/>\r\n    <use x=\"270.613281\" xlink:href=\"#ArialMT-69\"/>\r\n    <use x=\"292.830078\" xlink:href=\"#ArialMT-7a\"/>\r\n    <use x=\"342.830078\" xlink:href=\"#ArialMT-61\"/>\r\n    <use x=\"398.445312\" xlink:href=\"#ArialMT-74\"/>\r\n    <use x=\"426.228516\" xlink:href=\"#ArialMT-69\"/>\r\n    <use x=\"448.445312\" xlink:href=\"#ArialMT-6f\"/>\r\n    <use x=\"504.060547\" xlink:href=\"#ArialMT-6e\"/>\r\n    <use x=\"559.675781\" xlink:href=\"#ArialMT-20\"/>\r\n    <use x=\"587.458984\" xlink:href=\"#ArialMT-6f\"/>\r\n    <use x=\"643.074219\" xlink:href=\"#ArialMT-66\"/>\r\n    <use x=\"670.857422\" xlink:href=\"#ArialMT-20\"/>\r\n    <use x=\"698.640625\" xlink:href=\"#ArialMT-74\"/>\r\n    <use x=\"726.423828\" xlink:href=\"#ArialMT-68\"/>\r\n    <use x=\"782.039062\" xlink:href=\"#ArialMT-65\"/>\r\n    <use x=\"837.654297\" xlink:href=\"#ArialMT-20\"/>\r\n    <use x=\"859.9375\" xlink:href=\"#ArialMT-41\"/>\r\n    <use x=\"926.636719\" xlink:href=\"#ArialMT-47\"/>\r\n    <use x=\"1004.419922\" xlink:href=\"#ArialMT-59\"/>\r\n    <use x=\"1071.119141\" xlink:href=\"#ArialMT-57\"/>\r\n    <use x=\"1165.503906\" xlink:href=\"#ArialMT-20\"/>\r\n    <use x=\"1193.287109\" xlink:href=\"#ArialMT-77\"/>\r\n    <use x=\"1265.503906\" xlink:href=\"#ArialMT-69\"/>\r\n    <use x=\"1287.720703\" xlink:href=\"#ArialMT-74\"/>\r\n    <use x=\"1315.503906\" xlink:href=\"#ArialMT-68\"/>\r\n    <use x=\"1371.119141\" xlink:href=\"#ArialMT-20\"/>\r\n    <use x=\"1398.902344\" xlink:href=\"#ArialMT-6e\"/>\r\n    <use x=\"1454.517578\" xlink:href=\"#ArialMT-6f\"/>\r\n    <use x=\"1510.132812\" xlink:href=\"#ArialMT-20\"/>\r\n    <use x=\"1537.916016\" xlink:href=\"#ArialMT-73\"/>\r\n    <use x=\"1587.916016\" xlink:href=\"#ArialMT-65\"/>\r\n    <use x=\"1643.53125\" xlink:href=\"#ArialMT-63\"/>\r\n    <use x=\"1693.53125\" xlink:href=\"#ArialMT-6f\"/>\r\n    <use x=\"1749.146484\" xlink:href=\"#ArialMT-6e\"/>\r\n    <use x=\"1804.761719\" xlink:href=\"#ArialMT-64\"/>\r\n    <use x=\"1860.376953\" xlink:href=\"#ArialMT-61\"/>\r\n    <use x=\"1915.992188\" xlink:href=\"#ArialMT-72\"/>\r\n    <use x=\"1949.292969\" xlink:href=\"#ArialMT-79\"/>\r\n    <use x=\"1999.292969\" xlink:href=\"#ArialMT-20\"/>\r\n    <use x=\"2027.076172\" xlink:href=\"#ArialMT-73\"/>\r\n    <use x=\"2077.076172\" xlink:href=\"#ArialMT-65\"/>\r\n    <use x=\"2132.691406\" xlink:href=\"#ArialMT-72\"/>\r\n    <use x=\"2165.992188\" xlink:href=\"#ArialMT-76\"/>\r\n    <use x=\"2215.992188\" xlink:href=\"#ArialMT-69\"/>\r\n    <use x=\"2238.208984\" xlink:href=\"#ArialMT-63\"/>\r\n    <use x=\"2288.208984\" xlink:href=\"#ArialMT-65\"/>\r\n    <use x=\"2343.824219\" xlink:href=\"#ArialMT-73\"/>\r\n   </g>\r\n  </g>\r\n </g>\r\n <defs>\r\n  <clipPath id=\"pf70f8c8bb4\">\r\n   <rect height=\"434.88\" width=\"892.8\" x=\"87.2\" y=\"64.8\"/>\r\n  </clipPath>\r\n </defs>\r\n</svg>\r\n",
      "image/png": "[encoded data removed]"
     },
     "metadata": {}
    }
   ],
   "metadata": {}
  },
  {
   "cell_type": "code",
   "execution_count": null,
   "source": [
    "df_part_primary_no_secondary.to_excel(\"part_primary_no_secondary.xlsx\",index=False,na_rep=\"NULL\")\r\n",
    "df_prim_only.to_excel(\"primary_only.xlsx\",index=False,na_rep=\"NULL\")"
   ],
   "outputs": [],
   "metadata": {}
  },
  {
   "cell_type": "code",
   "execution_count": null,
   "source": [],
   "outputs": [],
   "metadata": {}
  }
 ],
 "metadata": {
  "interpreter": {
   "hash": "4534460e0bdca1b390927d45471088fb3501d39abc4e3f2cee293892e17d7fc6"
  },
  "kernelspec": {
   "name": "python3",
   "display_name": "Python 3.9.6 64-bit"
  },
  "language_info": {
   "codemirror_mode": {
    "name": "ipython",
    "version": 3
   },
   "file_extension": ".py",
   "mimetype": "text/x-python",
   "name": "python",
   "nbconvert_exporter": "python",
   "pygments_lexer": "ipython3",
   "version": "3.9.6"
  }
 },
 "nbformat": 4,
 "nbformat_minor": 5
}