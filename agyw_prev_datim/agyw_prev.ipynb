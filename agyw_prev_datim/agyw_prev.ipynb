{
 "cells": [
  {
   "cell_type": "markdown",
   "source": [
    "# AGYW_PREV DATIM"
   ],
   "metadata": {}
  },
  {
   "cell_type": "code",
   "execution_count": 1,
   "source": [
    "# load the modules\r\n",
    "from layeringOfServices import DREAMS_MASTERSHEET\r\n",
    "#multiples outputs\r\n",
    "from IPython.core.interactiveshell import InteractiveShell\r\n",
    "InteractiveShell.ast_node_interactivity = \"all\""
   ],
   "outputs": [],
   "metadata": {
    "tags": []
   }
  },
  {
   "cell_type": "code",
   "execution_count": 2,
   "source": [
    "from re import sub\r\n",
    "from pandas import DataFrame"
   ],
   "outputs": [],
   "metadata": {}
  },
  {
   "cell_type": "markdown",
   "source": [
    "## AGYW_PREV"
   ],
   "metadata": {}
  },
  {
   "cell_type": "code",
   "execution_count": 3,
   "source": [
    "pipo = list(DREAMS_MASTERSHEET.agyw_period_range.unique())\r\n",
    "pipo.append(\"Total\")\r\n",
    "sorted(list(DREAMS_MASTERSHEET.age_range.unique())[1:4])"
   ],
   "outputs": [
    {
     "output_type": "execute_result",
     "data": {
      "text/plain": [
       "['10-14', '15-19', '20-24']"
      ]
     },
     "metadata": {},
     "execution_count": 3
    }
   ],
   "metadata": {}
  },
  {
   "cell_type": "code",
   "execution_count": 4,
   "source": [
    "sorted(pipo)\r\n"
   ],
   "outputs": [
    {
     "output_type": "execute_result",
     "data": {
      "text/plain": [
       "['0-6 months', '07-12 months', '13-24 months', '25+ months', 'Total']"
      ]
     },
     "metadata": {},
     "execution_count": 4
    }
   ],
   "metadata": {}
  },
  {
   "cell_type": "code",
   "execution_count": 5,
   "source": [
    "class AgywPrev:\r\n",
    "    \"\"\"A class with properties and methods given the results of the indicator AGYW_PREV DATIM\"\"\" \r\n",
    "    __who_am_I =\"DATIM\"\r\n",
    "    __datim1_title=\"Number of individual AGYW that have fully completed the entire DREAMS primary package of services but have not received any services beyond the primary package.\"\r\n",
    "    __datim2_title=\"Number of individual AGYW that have fully completed the entire DREAMS primary package of services AND at least one additional secondary service.\"\r\n",
    "    __datim3_title=\"Number of individual AGYW that have fully completed at least one DREAMS primary package of services but not the full primary package of services.\"\r\n",
    "    \r\n",
    "    def __repr__(self):\r\n",
    "        return f\"<AgywPrev {self.__i_am}>\"\r\n",
    "    \r\n",
    "    def __str__(self):\r\n",
    "        return f\"<AgywPrev {self.__i_am}>\"\r\n",
    "    \r\n",
    "    @classmethod\r\n",
    "    def datim_titleI(cls):\r\n",
    "        return cls.__datim1_title\r\n",
    "    \r\n",
    "    @classmethod\r\n",
    "    def datim_titleII(cls):\r\n",
    "        return cls.__datim2_title\r\n",
    "    \r\n",
    "    @classmethod\r\n",
    "    def datim_titleIII(cls):\r\n",
    "        return cls.__datim3_title\r\n",
    "    \r\n",
    "    \r\n",
    "    def __init__(self,commune=None):\r\n",
    "        self.__commune = commune\r\n",
    "        self.__i_am = f\"{AgywPrev.__who_am_I}\"\r\n",
    "        self.__data =  DREAMS_MASTERSHEET\r\n",
    "        self. __total_mastersheet = self.__data.code.count()\r\n",
    "        if self.__commune == None:\r\n",
    "            self.__dreams_valid = self.__data[(self.__data.age_range !=\"not_valid_age\") & (self.__data.age_range != \"25-29\") & (self.__data.timeOn_system == \"required_Time_on\")]\r\n",
    "        else:\r\n",
    "            self.__dreams_valid = self.__data[(self.__data.age_range !=\"not_valid_age\") & (self.__data.age_range != \"25-29\") & (self.__data.timeOn_system == \"required_Time_on\")&(self.__data.actual_commune == f\"{self.__commune}\")]\r\n",
    "        self.__total_dreams_valid = self.__dreams_valid.code.count()\r\n",
    "        self.__dreams_valid[\"primary_only\"] = self.__dreams_valid.apply(lambda df: self.__primFunc(df),axis=1)\r\n",
    "        self.__dreams_valid[\"primary_and_OneSecondary_services\"] = self.__dreams_valid.apply(lambda df: self.__primLeastOneSecFunc(df),axis=1)\r\n",
    "        self.__dreams_valid[\"partial_primary_services\"] = self.__dreams_valid.apply(lambda df: self.__primPartFunc(df),axis=1)\r\n",
    "        self.__agyw_prevI = self.__dreams_valid[self.__dreams_valid.primary_only == \"full_primary_only\"]\r\n",
    "        self.__agyw_prevII = self.__dreams_valid[self.__dreams_valid.primary_and_OneSecondary_services == \"full_primary_leastOneSecondary\"]\r\n",
    "        self.__agyw_prevIII = self.__dreams_valid[self.__dreams_valid.partial_primary_services == \"primary_part_services\"]  \r\n",
    "        self.__agyw_prevI_total = self.__agyw_prevI.code.count()\r\n",
    "        self.__agyw_prevII_total = self.__agyw_prevII.code.count()\r\n",
    "        self.__agyw_prevIII_total = self.__agyw_prevIII.code.count()\r\n",
    "        self.__total_datim = self.__agyw_prevI_total + self.__agyw_prevII_total + self.__agyw_prevIII_total\r\n",
    "        \r\n",
    "        \r\n",
    "    @property\r\n",
    "    def who_am_i(self):\r\n",
    "        return self.__i_am\r\n",
    "    \r\n",
    "    @property\r\n",
    "    def data_mastersheet(self):\r\n",
    "        return self.__data\r\n",
    "    \r\n",
    "    @property\r\n",
    "    def data_dreams_valid(self):\r\n",
    "        return self.__dreams_valid\r\n",
    "\r\n",
    "    @property\r\n",
    "    def total_mastersheet(self):\r\n",
    "        return self.__total_mastersheet\r\n",
    "\r\n",
    "    @property\r\n",
    "    def total_dreams_valid(self):\r\n",
    "        return self.__total_dreams_valid\r\n",
    "    \r\n",
    "    def __primFunc(self,df):\r\n",
    "        if (df.ps_10_14 == \"curriculum-servis\" and df.hts == \"errata\" and df.condoms == \"errata\" and df.post_care_treatment == \"no\" and df.socio_eco_app == \"no\" ):\r\n",
    "            return \"full_primary_only\"\r\n",
    "        elif (df.ps_15_19 == \"condoms&curriculum\" and df.hts == \"errata\"  and df.post_care_treatment == \"no\" and df.socio_eco_app == \"no\" ):\r\n",
    "            return \"full_primary_only\"\r\n",
    "        #elif (df.ps_20_24 == \"condoms&hts&curriculum\"  and df.post_care_treatment == \"no\" and df.socio_eco_app == \"no\" ):\r\n",
    "        elif (df.ps_20_24 == \"condoms&curriculum\" and df.hts == \"errata\" and df.post_care_treatment == \"no\" and df.socio_eco_app == \"no\" ):\r\n",
    "            return \"full_primary_only\"\r\n",
    "        else:\r\n",
    "            return \"invalid\"\r\n",
    "    \r\n",
    "    def __primLeastOneSecFunc(self,df):\r\n",
    "        if (df.ps_10_14 == \"curriculum-servis\") and (df.hts == \"tested_on_given_date\" or df.condoms == \"tested_on_given_date\" or df.post_care_treatment == \"service_gyneco_vbg\" or df.socio_eco_app == \"service_muso_gardening\" ):\r\n",
    "            return \"full_primary_leastOneSecondary\"\r\n",
    "        elif (df.ps_15_19 == \"condoms&curriculum\") and (df.hts == \"tested_on_given_date\" or df.post_care_treatment == \"service_gyneco_vbg\" or df.socio_eco_app == \"service_muso_gardening\" ):\r\n",
    "            return \"full_primary_leastOneSecondary\"\r\n",
    "        #elif (df.ps_20_24 == \"condoms&hts&curriculum\") and (df.post_care_treatment == \"service_gyneco_vbg\" or df.socio_eco_app == \"service_muso_gardening\" ):\r\n",
    "        elif (df.ps_20_24 == \"condoms&curriculum\") and (df.hts == \"tested_on_given_date\" or df.post_care_treatment == \"service_gyneco_vbg\" or df.socio_eco_app == \"service_muso_gardening\" ):\r\n",
    "            return \"full_primary_leastOneSecondary\"\r\n",
    "        else:\r\n",
    "            return \"invalid\"\r\n",
    "        \r\n",
    "    def __primPartFunc(self,df):\r\n",
    "        if (df.age_range == \"15-19\") and ((df.condoms == \"tested_on_given_date\" and df.dreams_curriculum == \"curriculum_inc\") or (df.condoms == \"errata\" and df.dreams_curriculum == \"curriculum_completed\")):\r\n",
    "            return \"primary_part_services\"\r\n",
    "        #elif (df.age_range == \"20-24\") and ((df.dreams_curriculum == \"curriculum_completed\" and df.condoms==\"errata\" and df.hts==\"errata\")or(df.dreams_curriculum == \"curriculum_completed\" and df.condoms==\"tested_on_given_date\" and df.hts==\"errata\")or(df.dreams_curriculum == \"curriculum_completed\" and df.condoms==\"errata\" and df.hts==\"tested_on_given_date\")or(df.dreams_curriculum == \"curriculum_inc\" and df.condoms==\"tested_on_given_date\" and df.hts==\"errata\")or(df.dreams_curriculum == \"curriculum_inc\" and df.condoms==\"errata\" and df.hts==\"tested_on_given_date\")or(df.dreams_curriculum == \"curriculum_inc\" and df.condoms==\"tested_on_given_date\" and df.hts==\"tested_on_given_date\")):\r\n",
    "        elif (df.age_range == \"20-24\") and ((df.condoms == \"tested_on_given_date\" and df.dreams_curriculum == \"curriculum_inc\") or (df.condoms == \"errata\" and df.dreams_curriculum == \"curriculum_completed\")):\r\n",
    "            return \"primary_part_services\"\r\n",
    "        else:\r\n",
    "            return \"invalid\"\r\n",
    "         \r\n",
    "    @property\r\n",
    "    def total_datimI(self):\r\n",
    "        return self.__agyw_prevI_total\r\n",
    "    \r\n",
    "    @property\r\n",
    "    def total_datimII(self):\r\n",
    "        return self.__agyw_prevII_total\r\n",
    "    \r\n",
    "    @property\r\n",
    "    def total_datimIII(self):\r\n",
    "        return self.__agyw_prevIII_total\r\n",
    "    \r\n",
    "    @property\r\n",
    "    def total_datim_general(self):\r\n",
    "        return self.__total_datim\r\n",
    "    \r\n",
    "    @property\r\n",
    "    def data_agyw_prevI(self):\r\n",
    "        return self.__agyw_prevI\r\n",
    "\r\n",
    "    @property\r\n",
    "    def data_agyw_prevII(self):\r\n",
    "        return self.__agyw_prevII\r\n",
    "\r\n",
    "    @property\r\n",
    "    def data_agyw_prevIII(self):\r\n",
    "        return self.__agyw_prevIII\r\n",
    "\r\n",
    "    __PERIOD_DATIM = sorted(list(DREAMS_MASTERSHEET.agyw_period_range.unique()))\r\n",
    "    __PERIOD_DATIM.append(\"Total\")\r\n",
    "    __AGE_DATIM = sorted(list(DREAMS_MASTERSHEET.age_range.unique())[1:4])\r\n",
    "    def datim_agyw_prevI(self):\r\n",
    "        \r\n",
    "        try:\r\n",
    "            pivotableI = self.__agyw_prevI.rename(columns={\"age_range\":\"Age\", \"agyw_period_range\":\"Time\"})\r\n",
    "            agyw_prevI_pivot = pivotableI.pivot_table(index=\"Age\",columns=\"Time\", values=\"code\",aggfunc=\"count\",fill_value=0,margins=True,margins_name=\"Total\",dropna=False)[:-1]\r\n",
    "            columns_pivotI = list(agyw_prevI_pivot.columns)\r\n",
    "            indexes_pivotI = list(agyw_prevI_pivot.index)\r\n",
    "            for period in AgywPrev.__PERIOD_DATIM:\r\n",
    "                if period not in columns_pivotI:\r\n",
    "                    agyw_prevI_pivot[period] = 0\r\n",
    "            for age in AgywPrev.__AGE_DATIM:\r\n",
    "                if age not in indexes_pivotI:\r\n",
    "                    agyw_prevI_pivot.loc[age] = 0\r\n",
    "            agyw_prevI_pivot = agyw_prevI_pivot.reindex(index=AgywPrev.__AGE_DATIM, columns =AgywPrev.__PERIOD_DATIM)\r\n",
    "            agyw_prevI_pivot_final = agyw_prevI_pivot.reset_index().rename_axis(None, axis=1)\r\n",
    "            agyw_prevI_results_final = DataFrame( agyw_prevI_pivot_final.to_records(index=False))\r\n",
    "        except ValueError:\r\n",
    "            agyw_prevI_results_final = DataFrame({\"Age\":[\"10-14\",\"15-19\",\r\n",
    "                \"20-24\"],\r\n",
    "                \"0-6 months\":[0,0,0],\r\n",
    "                \"07-12 months\":[0,0,0],\r\n",
    "                \"13-24 months\":[0,0,0],\r\n",
    "                \"25+ months\":[0,0,0],\r\n",
    "                \"Total\":[0,0,0]\r\n",
    "            })\r\n",
    "        return agyw_prevI_results_final\r\n",
    "    \r\n",
    "    def datim_agyw_prevII(self):\r\n",
    "        try:\r\n",
    "            pivotableII = self.__agyw_prevII.rename(columns={\"age_range\":\"Age\", \"agyw_period_range\":\"Time\"})\r\n",
    "            agyw_prevII_pivot = pivotableII.pivot_table(index=\"Age\",columns=\"Time\", values=\"code\",aggfunc=\"count\",fill_value=0,margins=True,margins_name=\"Total\",dropna=False)[:-1]\r\n",
    "            columns_pivotII = list(agyw_prevII_pivot.columns)\r\n",
    "            indexes_pivotII = list(agyw_prevII_pivot.index)\r\n",
    "            for period in AgywPrev.__PERIOD_DATIM:\r\n",
    "                if period not in columns_pivotII:\r\n",
    "                    agyw_prevII_pivot[period] = 0\r\n",
    "            for age in AgywPrev.__AGE_DATIM:\r\n",
    "                if age not in indexes_pivotII:\r\n",
    "                    agyw_prevII_pivot.loc[age] = 0\r\n",
    "            agyw_prevII_pivot = agyw_prevII_pivot.reindex(index=AgywPrev.__AGE_DATIM,columns =AgywPrev.__PERIOD_DATIM)            \r\n",
    "            agyw_prevII_pivot_final = agyw_prevII_pivot.reset_index().rename_axis(None, axis=1)\r\n",
    "            agyw_prevII_results_final = DataFrame( agyw_prevII_pivot_final.to_records(index=False))\r\n",
    "        except ValueError:\r\n",
    "            agyw_prevII_results_final = DataFrame({\"Age\":[\"10-14\", \"15-19\",\r\n",
    "                \"20-24\"],\r\n",
    "                \"0-6 months\":[0,0,0],\r\n",
    "                \"07-12 months\":[0,0,0],\r\n",
    "                \"13-24 months\":[0,0,0],\r\n",
    "                \"25+ months\":[0,0,0],\r\n",
    "                \"Total\":[0,0,0]\r\n",
    "            })\r\n",
    "        return agyw_prevII_results_final\r\n",
    "    \r\n",
    "    def datim_agyw_prevIII(self):\r\n",
    "        try:\r\n",
    "            pivotableIII = self.__agyw_prevIII.rename(columns={\"age_range\":\"Age\", \"agyw_period_range\":\"Time\"})\r\n",
    "            agyw_prevIII_pivot = pivotableIII.pivot_table(index=\"Age\",columns=\"Time\", values=\"code\",aggfunc=\"count\",fill_value=0,margins=True,margins_name=\"Total\",dropna=False)[:-1]\r\n",
    "            columns_pivotIII = list(agyw_prevIII_pivot.columns)\r\n",
    "            indexes_pivotIII = list(agyw_prevIII_pivot.index)\r\n",
    "            for period in AgywPrev.__PERIOD_DATIM:\r\n",
    "                if period not in columns_pivotIII:\r\n",
    "                    agyw_prevIII_pivot[period] = 0\r\n",
    "            for age in AgywPrev.__AGE_DATIM:\r\n",
    "                if age not in indexes_pivotIII:\r\n",
    "                    agyw_prevIII_pivot.loc[age] = 0\r\n",
    "            agyw_prevIII_pivot = agyw_prevIII_pivot.reindex(index=AgywPrev.__AGE_DATIM,columns =AgywPrev.__PERIOD_DATIM)\r\n",
    "            agyw_prevIII_pivot_final = agyw_prevIII_pivot.reset_index().rename_axis(None, axis=1)\r\n",
    "            agyw_prevIII_results_final = DataFrame( agyw_prevIII_pivot_final.to_records(index=False))\r\n",
    "        except ValueError:\r\n",
    "            agyw_prevIII_results_final = DataFrame({\"Age\":[\"10-14\",                     \"15-19\",\r\n",
    "                \"20-24\"],\r\n",
    "                \"0-6 months\":[0,0,0],\r\n",
    "                \"07-12 months\":[0,0,0],\r\n",
    "                \"13-24 months\":[0,0,0],\r\n",
    "                \"25+ months\":[0,0,0],\r\n",
    "                \"Total\":[0,0,0]\r\n",
    "            })\r\n",
    "        return agyw_prevIII_results_final"
   ],
   "outputs": [],
   "metadata": {}
  },
  {
   "cell_type": "code",
   "execution_count": 6,
   "source": [
    "%%capture\r\n",
    "datim = AgywPrev()"
   ],
   "outputs": [],
   "metadata": {}
  },
  {
   "cell_type": "code",
   "execution_count": 7,
   "source": [
    "datim.total_mastersheet \r\n",
    "datim.total_dreams_valid\r\n",
    "datim.who_am_i\r\n",
    "datim.total_datimI\r\n",
    "datim.total_datimII\r\n",
    "datim.total_datimIII\r\n",
    "datim.total_datim_general\r\n",
    "AgywPrev.datim_titleI()\r\n",
    "datim.datim_agyw_prevI()\r\n",
    "AgywPrev.datim_titleII()\r\n",
    "datim.datim_agyw_prevII()\r\n",
    "AgywPrev.datim_titleIII()\r\n",
    "datim.datim_agyw_prevIII()"
   ],
   "outputs": [
    {
     "output_type": "execute_result",
     "data": {
      "text/plain": [
       "26197"
      ]
     },
     "metadata": {},
     "execution_count": 7
    },
    {
     "output_type": "execute_result",
     "data": {
      "text/plain": [
       "17296"
      ]
     },
     "metadata": {},
     "execution_count": 7
    },
    {
     "output_type": "execute_result",
     "data": {
      "text/plain": [
       "'DATIM'"
      ]
     },
     "metadata": {},
     "execution_count": 7
    },
    {
     "output_type": "execute_result",
     "data": {
      "text/plain": [
       "6409"
      ]
     },
     "metadata": {},
     "execution_count": 7
    },
    {
     "output_type": "execute_result",
     "data": {
      "text/plain": [
       "1301"
      ]
     },
     "metadata": {},
     "execution_count": 7
    },
    {
     "output_type": "execute_result",
     "data": {
      "text/plain": [
       "6702"
      ]
     },
     "metadata": {},
     "execution_count": 7
    },
    {
     "output_type": "execute_result",
     "data": {
      "text/plain": [
       "14412"
      ]
     },
     "metadata": {},
     "execution_count": 7
    },
    {
     "output_type": "execute_result",
     "data": {
      "text/plain": [
       "'Number of individual AGYW that have fully completed the entire DREAMS primary package of services but have not received any services beyond the primary package.'"
      ]
     },
     "metadata": {},
     "execution_count": 7
    },
    {
     "output_type": "execute_result",
     "data": {
      "text/plain": [
       "     Age  0-6 months  07-12 months  13-24 months  25+ months  Total\n",
       "0  10-14         519          1861          2521           0   4901\n",
       "1  15-19          55           446           403           0    904\n",
       "2  20-24          27           295           282           0    604"
      ],
      "text/html": [
       "<div>\n",
       "<style scoped>\n",
       "    .dataframe tbody tr th:only-of-type {\n",
       "        vertical-align: middle;\n",
       "    }\n",
       "\n",
       "    .dataframe tbody tr th {\n",
       "        vertical-align: top;\n",
       "    }\n",
       "\n",
       "    .dataframe thead th {\n",
       "        text-align: right;\n",
       "    }\n",
       "</style>\n",
       "<table border=\"1\" class=\"dataframe\">\n",
       "  <thead>\n",
       "    <tr style=\"text-align: right;\">\n",
       "      <th></th>\n",
       "      <th>Age</th>\n",
       "      <th>0-6 months</th>\n",
       "      <th>07-12 months</th>\n",
       "      <th>13-24 months</th>\n",
       "      <th>25+ months</th>\n",
       "      <th>Total</th>\n",
       "    </tr>\n",
       "  </thead>\n",
       "  <tbody>\n",
       "    <tr>\n",
       "      <th>0</th>\n",
       "      <td>10-14</td>\n",
       "      <td>519</td>\n",
       "      <td>1861</td>\n",
       "      <td>2521</td>\n",
       "      <td>0</td>\n",
       "      <td>4901</td>\n",
       "    </tr>\n",
       "    <tr>\n",
       "      <th>1</th>\n",
       "      <td>15-19</td>\n",
       "      <td>55</td>\n",
       "      <td>446</td>\n",
       "      <td>403</td>\n",
       "      <td>0</td>\n",
       "      <td>904</td>\n",
       "    </tr>\n",
       "    <tr>\n",
       "      <th>2</th>\n",
       "      <td>20-24</td>\n",
       "      <td>27</td>\n",
       "      <td>295</td>\n",
       "      <td>282</td>\n",
       "      <td>0</td>\n",
       "      <td>604</td>\n",
       "    </tr>\n",
       "  </tbody>\n",
       "</table>\n",
       "</div>"
      ]
     },
     "metadata": {},
     "execution_count": 7
    },
    {
     "output_type": "execute_result",
     "data": {
      "text/plain": [
       "'Number of individual AGYW that have fully completed the entire DREAMS primary package of services AND at least one additional secondary service.'"
      ]
     },
     "metadata": {},
     "execution_count": 7
    },
    {
     "output_type": "execute_result",
     "data": {
      "text/plain": [
       "     Age  0-6 months  07-12 months  13-24 months  25+ months  Total\n",
       "0  10-14          47           375           363           0    785\n",
       "1  15-19          15           117           167           0    299\n",
       "2  20-24          10            91           116           0    217"
      ],
      "text/html": [
       "<div>\n",
       "<style scoped>\n",
       "    .dataframe tbody tr th:only-of-type {\n",
       "        vertical-align: middle;\n",
       "    }\n",
       "\n",
       "    .dataframe tbody tr th {\n",
       "        vertical-align: top;\n",
       "    }\n",
       "\n",
       "    .dataframe thead th {\n",
       "        text-align: right;\n",
       "    }\n",
       "</style>\n",
       "<table border=\"1\" class=\"dataframe\">\n",
       "  <thead>\n",
       "    <tr style=\"text-align: right;\">\n",
       "      <th></th>\n",
       "      <th>Age</th>\n",
       "      <th>0-6 months</th>\n",
       "      <th>07-12 months</th>\n",
       "      <th>13-24 months</th>\n",
       "      <th>25+ months</th>\n",
       "      <th>Total</th>\n",
       "    </tr>\n",
       "  </thead>\n",
       "  <tbody>\n",
       "    <tr>\n",
       "      <th>0</th>\n",
       "      <td>10-14</td>\n",
       "      <td>47</td>\n",
       "      <td>375</td>\n",
       "      <td>363</td>\n",
       "      <td>0</td>\n",
       "      <td>785</td>\n",
       "    </tr>\n",
       "    <tr>\n",
       "      <th>1</th>\n",
       "      <td>15-19</td>\n",
       "      <td>15</td>\n",
       "      <td>117</td>\n",
       "      <td>167</td>\n",
       "      <td>0</td>\n",
       "      <td>299</td>\n",
       "    </tr>\n",
       "    <tr>\n",
       "      <th>2</th>\n",
       "      <td>20-24</td>\n",
       "      <td>10</td>\n",
       "      <td>91</td>\n",
       "      <td>116</td>\n",
       "      <td>0</td>\n",
       "      <td>217</td>\n",
       "    </tr>\n",
       "  </tbody>\n",
       "</table>\n",
       "</div>"
      ]
     },
     "metadata": {},
     "execution_count": 7
    },
    {
     "output_type": "execute_result",
     "data": {
      "text/plain": [
       "'Number of individual AGYW that have fully completed at least one DREAMS primary package of services but not the full primary package of services.'"
      ]
     },
     "metadata": {},
     "execution_count": 7
    },
    {
     "output_type": "execute_result",
     "data": {
      "text/plain": [
       "     Age  0-6 months  07-12 months  13-24 months  25+ months  Total\n",
       "0  10-14           0             0             0           0      0\n",
       "1  15-19         324          1640          2526           0   4490\n",
       "2  20-24         140           858          1214           0   2212"
      ],
      "text/html": [
       "<div>\n",
       "<style scoped>\n",
       "    .dataframe tbody tr th:only-of-type {\n",
       "        vertical-align: middle;\n",
       "    }\n",
       "\n",
       "    .dataframe tbody tr th {\n",
       "        vertical-align: top;\n",
       "    }\n",
       "\n",
       "    .dataframe thead th {\n",
       "        text-align: right;\n",
       "    }\n",
       "</style>\n",
       "<table border=\"1\" class=\"dataframe\">\n",
       "  <thead>\n",
       "    <tr style=\"text-align: right;\">\n",
       "      <th></th>\n",
       "      <th>Age</th>\n",
       "      <th>0-6 months</th>\n",
       "      <th>07-12 months</th>\n",
       "      <th>13-24 months</th>\n",
       "      <th>25+ months</th>\n",
       "      <th>Total</th>\n",
       "    </tr>\n",
       "  </thead>\n",
       "  <tbody>\n",
       "    <tr>\n",
       "      <th>0</th>\n",
       "      <td>10-14</td>\n",
       "      <td>0</td>\n",
       "      <td>0</td>\n",
       "      <td>0</td>\n",
       "      <td>0</td>\n",
       "      <td>0</td>\n",
       "    </tr>\n",
       "    <tr>\n",
       "      <th>1</th>\n",
       "      <td>15-19</td>\n",
       "      <td>324</td>\n",
       "      <td>1640</td>\n",
       "      <td>2526</td>\n",
       "      <td>0</td>\n",
       "      <td>4490</td>\n",
       "    </tr>\n",
       "    <tr>\n",
       "      <th>2</th>\n",
       "      <td>20-24</td>\n",
       "      <td>140</td>\n",
       "      <td>858</td>\n",
       "      <td>1214</td>\n",
       "      <td>0</td>\n",
       "      <td>2212</td>\n",
       "    </tr>\n",
       "  </tbody>\n",
       "</table>\n",
       "</div>"
      ]
     },
     "metadata": {},
     "execution_count": 7
    }
   ],
   "metadata": {}
  },
  {
   "cell_type": "code",
   "execution_count": 8,
   "source": [
    "datim"
   ],
   "outputs": [
    {
     "output_type": "execute_result",
     "data": {
      "text/plain": [
       "<AgywPrev DATIM>"
      ]
     },
     "metadata": {},
     "execution_count": 8
    }
   ],
   "metadata": {}
  },
  {
   "cell_type": "markdown",
   "source": [
    "## AGYW_Prev_Commune"
   ],
   "metadata": {}
  },
  {
   "cell_type": "code",
   "execution_count": 9,
   "source": [
    "class AgywPrevCommune(AgywPrev):\r\n",
    "    \"\"\"A class that extend AgywPrev with the purpose of the indicator AGYW_PREV DATIM by commune\"\"\"\r\n",
    "    __who_am_I =\"DATIM\"\r\n",
    "    def __init__(self,name):\r\n",
    "        self.__name = name\r\n",
    "        self.__i_am = f\"{AgywPrevCommune.__who_am_I} {self.__name}\"\r\n",
    "        #self.__data =  DREAMS_MASTERSHEET\r\n",
    "        super().__init__(self.__name)\r\n",
    "        \r\n",
    "    @property\r\n",
    "    def who_am_i(self):\r\n",
    "        return self.__i_am\r\n",
    "    \r\n",
    "    def __repr__(self):\r\n",
    "        return f\"<AgywPrevCommune {self.__i_am}>\"\r\n",
    "    \r\n",
    "    def __str__(self):\r\n",
    "        return f\"<AgywPrevCommune {self.__i_am}>\"\r\n",
    "      \r\n",
    "        \r\n",
    "    \r\n",
    "        \r\n",
    "        \r\n",
    "\r\n",
    "        "
   ],
   "outputs": [],
   "metadata": {}
  },
  {
   "cell_type": "code",
   "execution_count": 10,
   "source": [
    "DREAMS_MASTERSHEET.actual_commune.unique()"
   ],
   "outputs": [
    {
     "output_type": "execute_result",
     "data": {
      "text/plain": [
       "array(['Verrettes', 'Delmas', 'Port-au-Prince', 'Carrefour', 'Limonade',\n",
       "       'Plaine-du-Nord', 'Cap-Haïtien', 'Kenscoff', 'Dessalines',\n",
       "       'Pétionville', 'Gressier', 'Saint-Marc', 'Tabarre', 'La Chapelle',\n",
       "       'Milot', 'Liancourt', 'Quartier-Morin',\n",
       "       \"Petite Rivière de l'Artibonite\", 'Grande Saline', 'Montrouis',\n",
       "       'Desdunes'], dtype=object)"
      ]
     },
     "metadata": {},
     "execution_count": 10
    }
   ],
   "metadata": {}
  },
  {
   "cell_type": "markdown",
   "source": [
    "## dynamic"
   ],
   "metadata": {}
  },
  {
   "cell_type": "code",
   "execution_count": 11,
   "source": [
    "%%capture\r\n",
    "def name_handler(s):\r\n",
    "    s = sub(r\"[^\\w\\s]\", '', s)\r\n",
    "    # Replace all runs of whitespace with a single dash\r\n",
    "    s = sub(r\"\\s+\", '_', s)\r\n",
    "    return s\r\n",
    "\r\n",
    "datimcommunes = []\r\n",
    "\r\n",
    "for columns in DREAMS_MASTERSHEET.actual_commune.unique():\r\n",
    "    globals()[f\"datim_{name_handler(columns)}\"] = AgywPrevCommune(f\"{columns}\")\r\n",
    "    datimcommunes.append(globals().get(f\"datim_{name_handler(columns)}\"))\r\n",
    "   "
   ],
   "outputs": [],
   "metadata": {}
  },
  {
   "cell_type": "code",
   "execution_count": 12,
   "source": [
    "datimcommunes"
   ],
   "outputs": [
    {
     "output_type": "execute_result",
     "data": {
      "text/plain": [
       "[<AgywPrevCommune DATIM Verrettes>,\n",
       " <AgywPrevCommune DATIM Delmas>,\n",
       " <AgywPrevCommune DATIM Port-au-Prince>,\n",
       " <AgywPrevCommune DATIM Carrefour>,\n",
       " <AgywPrevCommune DATIM Limonade>,\n",
       " <AgywPrevCommune DATIM Plaine-du-Nord>,\n",
       " <AgywPrevCommune DATIM Cap-Haïtien>,\n",
       " <AgywPrevCommune DATIM Kenscoff>,\n",
       " <AgywPrevCommune DATIM Dessalines>,\n",
       " <AgywPrevCommune DATIM Pétionville>,\n",
       " <AgywPrevCommune DATIM Gressier>,\n",
       " <AgywPrevCommune DATIM Saint-Marc>,\n",
       " <AgywPrevCommune DATIM Tabarre>,\n",
       " <AgywPrevCommune DATIM La Chapelle>,\n",
       " <AgywPrevCommune DATIM Milot>,\n",
       " <AgywPrevCommune DATIM Liancourt>,\n",
       " <AgywPrevCommune DATIM Quartier-Morin>,\n",
       " <AgywPrevCommune DATIM Petite Rivière de l'Artibonite>,\n",
       " <AgywPrevCommune DATIM Grande Saline>,\n",
       " <AgywPrevCommune DATIM Montrouis>,\n",
       " <AgywPrevCommune DATIM Desdunes>]"
      ]
     },
     "metadata": {},
     "execution_count": 12
    }
   ],
   "metadata": {}
  },
  {
   "cell_type": "code",
   "execution_count": 13,
   "source": [
    "#for dcommunes in datimcommunes:\r\n",
    "#    dcommunes.total_mastersheet \r\n",
    "#    dcommunes.total_dreams_valid\r\n",
    "##    dcommunes.who_am_i\r\n",
    "  #  dcommunes.total_datimI\r\n",
    "   # dcommunes.total_datimII\r\n",
    "  #  dcommunes.total_datimIII\r\n",
    "  ##  dcommunes.total_datim_general\r\n",
    "  #  AgywPrevCommune.datim_titleI()\r\n",
    "  #  dcommunes.datim_agyw_prevI()\r\n",
    "  #  AgywPrevCommune.datim_titleII()\r\n",
    "  ##  dcommunes.datim_agyw_prevII()\r\n",
    "   # AgywPrevCommune.datim_titleIII()\r\n",
    "   # dcommunes.datim_agyw_prevIII()\r\n",
    "   # print(\" \")\r\n",
    "   # print(\" \")\r\n",
    "   # print(\" \")\r\n",
    "   # print(\" \")"
   ],
   "outputs": [],
   "metadata": {}
  },
  {
   "cell_type": "code",
   "execution_count": 14,
   "source": [
    "import pandas as pd\r\n",
    "import matplotlib.pyplot as plt\r\n",
    "%matplotlib inline\r\n",
    "import seaborn as sns\r\n",
    "import numpy as np"
   ],
   "outputs": [],
   "metadata": {}
  },
  {
   "cell_type": "code",
   "execution_count": 15,
   "source": [
    "datim.total_datim_general\r\n",
    "target= 18000\r\n",
    "\r\n",
    "data_plot = pd.DataFrame({\"state\":[\"Target\",\"AGYW_PREV results\"],\r\n",
    "                            \"data\": [target,datim.total_datim_general]                        \r\n",
    "})"
   ],
   "outputs": [
    {
     "output_type": "execute_result",
     "data": {
      "text/plain": [
       "14412"
      ]
     },
     "metadata": {},
     "execution_count": 15
    }
   ],
   "metadata": {}
  },
  {
   "cell_type": "code",
   "execution_count": 16,
   "source": [
    "plt.subplots(figsize=(16,8))\r\n",
    "sns.set_style(\"darkgrid\")\r\n",
    "splot = sns.barplot(x=\"state\",y=\"data\",data=data_plot)\r\n",
    "splot.set_xlabel(\"\")\r\n",
    "splot.set_ylabel(\"\")\r\n",
    "plt.suptitle(\"AGYW_PREV datim indicator  and the periodic target\")\r\n",
    "for p in splot.patches:\r\n",
    "    height = p.get_height()\r\n",
    "    plt.text(\r\n",
    "                p.get_x() + p.get_width()/2, \r\n",
    "                0.5*p.get_height() + p.get_y(),\r\n",
    "                '{:1.0f}'.format(height), \r\n",
    "                ha='center', va='center',\r\n",
    "                size=15,\r\n",
    "                fontdict=dict(color=\"white\",fontsize=15)\r\n",
    "            )\r\n",
    "    \r\n",
    "plt.annotate(\r\n",
    "    \"source: HIVHaiti\",(0,0), (-80,-20), fontsize=10, \r\n",
    "             xycoords='axes fraction', textcoords='offset points', va='top'\r\n",
    ")\r\n",
    "plt.savefig(\"agyw_prev_evolution\",dpi=1000)"
   ],
   "outputs": [
    {
     "output_type": "execute_result",
     "data": {
      "text/plain": [
       "(<Figure size 1152x576 with 1 Axes>, <AxesSubplot:>)"
      ]
     },
     "metadata": {},
     "execution_count": 16
    },
    {
     "output_type": "execute_result",
     "data": {
      "text/plain": [
       "Text(0.5, 0, '')"
      ]
     },
     "metadata": {},
     "execution_count": 16
    },
    {
     "output_type": "execute_result",
     "data": {
      "text/plain": [
       "Text(0, 0.5, '')"
      ]
     },
     "metadata": {},
     "execution_count": 16
    },
    {
     "output_type": "execute_result",
     "data": {
      "text/plain": [
       "Text(0.5, 0.98, 'AGYW_PREV datim indicator  and the periodic target')"
      ]
     },
     "metadata": {},
     "execution_count": 16
    },
    {
     "output_type": "execute_result",
     "data": {
      "text/plain": [
       "Text(0.0, 9000.0, '18000')"
      ]
     },
     "metadata": {},
     "execution_count": 16
    },
    {
     "output_type": "execute_result",
     "data": {
      "text/plain": [
       "Text(1.0, 7206.0, '14412')"
      ]
     },
     "metadata": {},
     "execution_count": 16
    },
    {
     "output_type": "execute_result",
     "data": {
      "text/plain": [
       "Text(-80, -20, 'source: HIVHaiti')"
      ]
     },
     "metadata": {},
     "execution_count": 16
    },
    {
     "output_type": "display_data",
     "data": {
      "text/plain": [
       "<Figure size 1152x576 with 1 Axes>"
      ],
      "image/png": "[encoded data removed]"
     },
     "metadata": {
      "needs_background": "light"
     }
    }
   ],
   "metadata": {}
  },
  {
   "cell_type": "code",
   "execution_count": 17,
   "source": [
    "datim.total_datimI\r\n",
    "datim.total_datimII\r\n",
    "datim.total_datimIII"
   ],
   "outputs": [
    {
     "output_type": "execute_result",
     "data": {
      "text/plain": [
       "6409"
      ]
     },
     "metadata": {},
     "execution_count": 17
    },
    {
     "output_type": "execute_result",
     "data": {
      "text/plain": [
       "1301"
      ]
     },
     "metadata": {},
     "execution_count": 17
    },
    {
     "output_type": "execute_result",
     "data": {
      "text/plain": [
       "6702"
      ]
     },
     "metadata": {},
     "execution_count": 17
    }
   ],
   "metadata": {}
  },
  {
   "cell_type": "code",
   "execution_count": 18,
   "source": [
    "from plotnine import *"
   ],
   "outputs": [],
   "metadata": {}
  },
  {
   "cell_type": "code",
   "execution_count": 19,
   "source": [
    "stack_data = pd.DataFrame( \r\n",
    "                  {     \r\n",
    "                        \"supp\":[\"target\",\"indicateur\",\"indicateur\",\"indicateur\"],\r\n",
    "                        \"label\": [\"target\",\"composante I\",\"composante II\",\"composante III\"],\r\n",
    "                        \"data\": [target,datim.total_datimI,\r\n",
    "                                datim.total_datimII,\r\n",
    "                                datim.total_datimIII]\r\n",
    "                  })\r\n",
    "\r\n",
    "stack_data\r\n"
   ],
   "outputs": [
    {
     "output_type": "execute_result",
     "data": {
      "text/plain": [
       "         supp           label   data\n",
       "0      target          target  18000\n",
       "1  indicateur    composante I   6409\n",
       "2  indicateur   composante II   1301\n",
       "3  indicateur  composante III   6702"
      ],
      "text/html": [
       "<div>\n",
       "<style scoped>\n",
       "    .dataframe tbody tr th:only-of-type {\n",
       "        vertical-align: middle;\n",
       "    }\n",
       "\n",
       "    .dataframe tbody tr th {\n",
       "        vertical-align: top;\n",
       "    }\n",
       "\n",
       "    .dataframe thead th {\n",
       "        text-align: right;\n",
       "    }\n",
       "</style>\n",
       "<table border=\"1\" class=\"dataframe\">\n",
       "  <thead>\n",
       "    <tr style=\"text-align: right;\">\n",
       "      <th></th>\n",
       "      <th>supp</th>\n",
       "      <th>label</th>\n",
       "      <th>data</th>\n",
       "    </tr>\n",
       "  </thead>\n",
       "  <tbody>\n",
       "    <tr>\n",
       "      <th>0</th>\n",
       "      <td>target</td>\n",
       "      <td>target</td>\n",
       "      <td>18000</td>\n",
       "    </tr>\n",
       "    <tr>\n",
       "      <th>1</th>\n",
       "      <td>indicateur</td>\n",
       "      <td>composante I</td>\n",
       "      <td>6409</td>\n",
       "    </tr>\n",
       "    <tr>\n",
       "      <th>2</th>\n",
       "      <td>indicateur</td>\n",
       "      <td>composante II</td>\n",
       "      <td>1301</td>\n",
       "    </tr>\n",
       "    <tr>\n",
       "      <th>3</th>\n",
       "      <td>indicateur</td>\n",
       "      <td>composante III</td>\n",
       "      <td>6702</td>\n",
       "    </tr>\n",
       "  </tbody>\n",
       "</table>\n",
       "</div>"
      ]
     },
     "metadata": {},
     "execution_count": 19
    }
   ],
   "metadata": {}
  },
  {
   "cell_type": "code",
   "execution_count": 20,
   "source": [
    "p = (ggplot(stack_data,aes(x=\"supp\",y=\"data\",fill=\"label\",width=0.7)) \r\n",
    " + geom_bar(position=position_stack(vjust=0.5),stat=\"identity\")\r\n",
    " + geom_text(aes(label=\"data\"),position=position_stack(vjust=0.5))\r\n",
    " + ggtitle(\" Les composantes AGYW PREV face au Target\")\r\n",
    " + xlab(\"\")\r\n",
    " +ylab(\"\")\r\n",
    " +labs(caption =  \"HIVHaiti\")\r\n",
    " + theme_seaborn()\r\n",
    ")\r\n",
    "p\r\n",
    "ggsave(plot=p,filename=\"composante_agywpre.png\",dpi=1000)"
   ],
   "outputs": [
    {
     "output_type": "display_data",
     "data": {
      "text/plain": [
       "<Figure size 640x480 with 1 Axes>"
      ],
      "image/png": "[encoded data removed]"
     },
     "metadata": {}
    },
    {
     "output_type": "execute_result",
     "data": {
      "text/plain": [
       "<ggplot: (122621316828)>"
      ]
     },
     "metadata": {},
     "execution_count": 20
    },
    {
     "output_type": "stream",
     "name": "stderr",
     "text": [
      "C:\\Users\\Wedner Adrien\\AppData\\Local\\Programs\\Python\\Python39\\lib\\site-packages\\plotnine\\ggplot.py:719: PlotnineWarning: Saving 6.4 x 4.8 in image.\n",
      "C:\\Users\\Wedner Adrien\\AppData\\Local\\Programs\\Python\\Python39\\lib\\site-packages\\plotnine\\ggplot.py:722: PlotnineWarning: Filename: composante_agywpre.png\n"
     ]
    }
   ],
   "metadata": {}
  },
  {
   "cell_type": "markdown",
   "source": [
    "## Les NO secondary"
   ],
   "metadata": {}
  },
  {
   "cell_type": "code",
   "execution_count": 21,
   "source": [
    "df= datim.data_dreams_valid"
   ],
   "outputs": [],
   "metadata": {}
  },
  {
   "cell_type": "code",
   "execution_count": 22,
   "source": [
    "df.primary_only.unique()"
   ],
   "outputs": [
    {
     "output_type": "execute_result",
     "data": {
      "text/plain": [
       "array(['invalid', 'full_primary_only'], dtype=object)"
      ]
     },
     "metadata": {},
     "execution_count": 22
    }
   ],
   "metadata": {}
  },
  {
   "cell_type": "code",
   "execution_count": 23,
   "source": [
    "df_prim_only = df[df.primary_only == \"full_primary_only\"]\r\n",
    "df_part_primary = df[df.partial_primary_services == \"primary_part_services\"]\r\n",
    "df_part_primary_no_secondary = df_part_primary[(df_part_primary.hts == \"errata\") & (df_part_primary.condoms == \"errata\") & (df_part_primary.post_care_treatment == \"no\") & (df_part_primary.socio_eco_app == \"no\")]"
   ],
   "outputs": [],
   "metadata": {}
  },
  {
   "cell_type": "code",
   "execution_count": 24,
   "source": [
    "print(\"cohort\")\r\n",
    "total_cohort = df.code.count()\r\n",
    "total_cohort\r\n",
    "\r\n",
    "print(\"indicateur\")\r\n",
    "datim.total_datim_general\r\n",
    "\r\n",
    "print(\"service primaire seulement\")\r\n",
    "total_prim_only = df_prim_only.code.count()\r\n",
    "total_prim_only\r\n",
    "\r\n",
    "print(\"Part services primaires\")\r\n",
    "total_part_primary = df_part_primary.code.count()\r\n",
    "total_part_primary\r\n",
    "\r\n",
    "print(\"Part service primaires no service secondaires\")\r\n",
    "total_part_primary_no_secondary = df_part_primary_no_secondary.code.count()\r\n",
    "total_part_primary_no_secondary"
   ],
   "outputs": [
    {
     "output_type": "stream",
     "name": "stdout",
     "text": [
      "cohort\n"
     ]
    },
    {
     "output_type": "execute_result",
     "data": {
      "text/plain": [
       "17296"
      ]
     },
     "metadata": {},
     "execution_count": 24
    },
    {
     "output_type": "stream",
     "name": "stdout",
     "text": [
      "indicateur\n"
     ]
    },
    {
     "output_type": "execute_result",
     "data": {
      "text/plain": [
       "14412"
      ]
     },
     "metadata": {},
     "execution_count": 24
    },
    {
     "output_type": "stream",
     "name": "stdout",
     "text": [
      "service primaire seulement\n"
     ]
    },
    {
     "output_type": "execute_result",
     "data": {
      "text/plain": [
       "6409"
      ]
     },
     "metadata": {},
     "execution_count": 24
    },
    {
     "output_type": "stream",
     "name": "stdout",
     "text": [
      "Part services primaires\n"
     ]
    },
    {
     "output_type": "execute_result",
     "data": {
      "text/plain": [
       "6702"
      ]
     },
     "metadata": {},
     "execution_count": 24
    },
    {
     "output_type": "stream",
     "name": "stdout",
     "text": [
      "Part service primaires no service secondaires\n"
     ]
    },
    {
     "output_type": "execute_result",
     "data": {
      "text/plain": [
       "5824"
      ]
     },
     "metadata": {},
     "execution_count": 24
    }
   ],
   "metadata": {}
  },
  {
   "cell_type": "code",
   "execution_count": 25,
   "source": [
    "data_for_MoreAGYWInfo = pd.DataFrame({\r\n",
    "    \"state\":[\"valid cohort\", \"Target\", \"AGYW_PREV\",\"Full primary only\",\"Partial Primary\",\"Partial primary no secondary\"],\r\n",
    "    \"data\":[total_cohort,18000,datim.total_datim_general,total_prim_only,total_part_primary,total_part_primary_no_secondary]\r\n",
    "    \r\n",
    "})"
   ],
   "outputs": [],
   "metadata": {}
  },
  {
   "cell_type": "code",
   "execution_count": 26,
   "source": [
    "plt.subplots(figsize=(16,8))\r\n",
    "sns.set_style(\"darkgrid\")\r\n",
    "splot = sns.barplot(x=\"state\",y=\"data\",data=data_for_MoreAGYWInfo)\r\n",
    "splot.set_xlabel(\"\")\r\n",
    "splot.set_ylabel(\"\")\r\n",
    "plt.suptitle(\"Visualization of the AGYW with no secondary services\")\r\n",
    "for p in splot.patches:\r\n",
    "    height = p.get_height()\r\n",
    "    plt.text(\r\n",
    "                p.get_x() + p.get_width()/2, \r\n",
    "                0.5*p.get_height() + p.get_y(),\r\n",
    "                '{:1.0f}'.format(height), \r\n",
    "                ha='center', va='center',\r\n",
    "                size=15,\r\n",
    "                fontdict=dict(color=\"white\",fontsize=15)\r\n",
    "            )\r\n",
    "    \r\n",
    "plt.annotate(\r\n",
    "    \"source: HIVHaiti\",(0,0), (-80,-20), fontsize=10, \r\n",
    "             xycoords='axes fraction', textcoords='offset points', va='top'\r\n",
    ")\r\n",
    "plt.savefig(\"agyw_prev_with_no_secondary\",dpi=1000)"
   ],
   "outputs": [
    {
     "output_type": "execute_result",
     "data": {
      "text/plain": [
       "(<Figure size 1152x576 with 1 Axes>, <AxesSubplot:>)"
      ]
     },
     "metadata": {},
     "execution_count": 26
    },
    {
     "output_type": "execute_result",
     "data": {
      "text/plain": [
       "Text(0.5, 0, '')"
      ]
     },
     "metadata": {},
     "execution_count": 26
    },
    {
     "output_type": "execute_result",
     "data": {
      "text/plain": [
       "Text(0, 0.5, '')"
      ]
     },
     "metadata": {},
     "execution_count": 26
    },
    {
     "output_type": "execute_result",
     "data": {
      "text/plain": [
       "Text(0.5, 0.98, 'Visualization of the AGYW with no secondary services')"
      ]
     },
     "metadata": {},
     "execution_count": 26
    },
    {
     "output_type": "execute_result",
     "data": {
      "text/plain": [
       "Text(0.0, 8648.0, '17296')"
      ]
     },
     "metadata": {},
     "execution_count": 26
    },
    {
     "output_type": "execute_result",
     "data": {
      "text/plain": [
       "Text(1.0, 9000.0, '18000')"
      ]
     },
     "metadata": {},
     "execution_count": 26
    },
    {
     "output_type": "execute_result",
     "data": {
      "text/plain": [
       "Text(2.0, 7206.0, '14412')"
      ]
     },
     "metadata": {},
     "execution_count": 26
    },
    {
     "output_type": "execute_result",
     "data": {
      "text/plain": [
       "Text(3.0, 3204.5, '6409')"
      ]
     },
     "metadata": {},
     "execution_count": 26
    },
    {
     "output_type": "execute_result",
     "data": {
      "text/plain": [
       "Text(4.0, 3351.0, '6702')"
      ]
     },
     "metadata": {},
     "execution_count": 26
    },
    {
     "output_type": "execute_result",
     "data": {
      "text/plain": [
       "Text(5.0, 2912.0, '5824')"
      ]
     },
     "metadata": {},
     "execution_count": 26
    },
    {
     "output_type": "execute_result",
     "data": {
      "text/plain": [
       "Text(-80, -20, 'source: HIVHaiti')"
      ]
     },
     "metadata": {},
     "execution_count": 26
    },
    {
     "output_type": "display_data",
     "data": {
      "text/plain": [
       "<Figure size 1152x576 with 1 Axes>"
      ],
      "image/png": "[encoded data removed]"
     },
     "metadata": {}
    }
   ],
   "metadata": {}
  },
  {
   "cell_type": "code",
   "execution_count": 27,
   "source": [
    "df_part_primary_no_secondary.to_excel(\"part_primary_no_secondary.xlsx\",index=False,na_rep=\"NULL\")\r\n",
    "df_prim_only.to_excel(\"primary_only.xlsx\",index=False,na_rep=\"NULL\")"
   ],
   "outputs": [],
   "metadata": {}
  },
  {
   "cell_type": "code",
   "execution_count": null,
   "source": [],
   "outputs": [],
   "metadata": {}
  }
 ],
 "metadata": {
  "interpreter": {
   "hash": "4534460e0bdca1b390927d45471088fb3501d39abc4e3f2cee293892e17d7fc6"
  },
  "kernelspec": {
   "name": "python3",
   "display_name": "Python 3.9.6 64-bit"
  },
  "language_info": {
   "codemirror_mode": {
    "name": "ipython",
    "version": 3
   },
   "file_extension": ".py",
   "mimetype": "text/x-python",
   "name": "python",
   "nbconvert_exporter": "python",
   "pygments_lexer": "ipython3",
   "version": "3.9.6"
  }
 },
 "nbformat": 4,
 "nbformat_minor": 5
}