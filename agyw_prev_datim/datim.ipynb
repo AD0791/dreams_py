{
 "cells": [
  {
   "cell_type": "code",
   "execution_count": 1,
   "metadata": {},
   "outputs": [],
   "source": [
    "from agyw import AgywPrev, AgywPrevCommune\n",
    "from re import sub\n",
    "\n",
    "from IPython.core.interactiveshell import InteractiveShell\n",
    "InteractiveShell.ast_node_interactivity = \"all\""
   ]
  },
  {
   "cell_type": "code",
   "execution_count": 2,
   "metadata": {},
   "outputs": [],
   "source": [
    "from openpyxl import Workbook\n",
    "from openpyxl.styles.colors import Color\n",
    "from openpyxl.styles.fills import PatternFill\n",
    "from openpyxl.styles import Font\n",
    "from openpyxl.styles.alignment import Alignment\n",
    "from openpyxl.utils.dataframe import dataframe_to_rows\n",
    "from openpyxl.styles.borders import Border, Side\n"
   ]
  },
  {
   "cell_type": "markdown",
   "metadata": {},
   "source": [
    "# Build Excel Datim / Communes"
   ]
  },
  {
   "cell_type": "code",
   "execution_count": 3,
   "metadata": {},
   "outputs": [],
   "source": [
    "%%capture\n",
    "datim = AgywPrev()"
   ]
  },
  {
   "cell_type": "code",
   "execution_count": 4,
   "metadata": {},
   "outputs": [],
   "source": [
    "my_blue = Color(rgb=\"0000FF\")\n",
    "blue_fill = PatternFill(patternType=\"solid\",fgColor=my_blue)\n",
    "my_red = Color(rgb=\"FF0000\")\n",
    "red_fill = PatternFill(patternType=\"solid\",fgColor=my_red)\n",
    "bold_12 = Font(size=12,bold=True)\n",
    "text_datim_title = Alignment(horizontal=\"center\",vertical=\"bottom\",wrapText=True)\n",
    "thin_border = Border(left=Side(style='thin'), \n",
    "                     right=Side(style='thin'), \n",
    "                     top=Side(style='thin'), \n",
    "                     bottom=Side(style='thin'))"
   ]
  },
  {
   "cell_type": "code",
   "execution_count": 5,
   "metadata": {},
   "outputs": [],
   "source": [
    "%%capture\n",
    "wb = Workbook()\n",
    "ws = wb.active\n",
    "ws.title = datim.who_am_i\n",
    "\n",
    "ws['A1'].fill = blue_fill\n",
    "ws['A9'].fill = blue_fill\n",
    "ws['A17'].fill = blue_fill\n",
    "\n",
    "for rows in ws.iter_rows(min_row=7,max_row=7,min_col=1,max_col=40):\n",
    "    for cell in rows:\n",
    "        cell.fill = red_fill\n",
    "for rows in ws.iter_rows(min_row=8,max_row=8,min_col=1,max_col=40):\n",
    "    for cell in rows:\n",
    "        cell.fill = red_fill\n",
    "for rows in ws.iter_rows(min_row=15,max_row=15,min_col=1,max_col=40):\n",
    "    for cell in rows:\n",
    "        cell.fill = red_fill\n",
    "for rows in ws.iter_rows(min_row=16,max_row=16,min_col=1,max_col=40):\n",
    "    for cell in rows:\n",
    "        cell.fill = red_fill\n",
    "\n",
    "ws.merge_cells(\"B1:C1\")\n",
    "ws.cell(row=1,column=2).value = AgywPrev.datim_titleI()\n",
    "ws.cell(row=1,column=2).font = bold_12\n",
    "ws.cell(row=1,column=2).alignment =  text_datim_title\n",
    "\n",
    "ws.merge_cells(\"B9:C9\")\n",
    "ws.cell(row=9,column=2).value = AgywPrev.datim_titleII()\n",
    "ws.cell(row=9,column=2).font = bold_12\n",
    "ws.cell(row=9,column=2).alignment =  text_datim_title\n",
    "\n",
    "ws.merge_cells(\"B17:C17\")\n",
    "ws.cell(row=17,column=2).value = AgywPrev.datim_titleIII()\n",
    "ws.cell(row=17,column=2).font = bold_12\n",
    "ws.cell(row=17,column=2).alignment =  text_datim_title\n",
    "\n",
    "ws['G5'] = datim.total_datimI\n",
    "ws['G13'] = datim.total_datimII\n",
    "ws['G20'] = datim.total_datimIII\n",
    "ws['I13'] = datim.total_datim_general\n",
    "\n",
    "rdf_datim_I = dataframe_to_rows(datim.datim_agyw_prevI(),index=False,header=True)\n",
    "for ridx, row in enumerate(rdf_datim_I,1):\n",
    "    for cidx, value in enumerate(row,1):\n",
    "        cells = ws.cell(ridx+1,cidx,value)\n",
    "        cells.border = thin_border\n",
    "        cells\n",
    "\n",
    "rdf_datim_II = dataframe_to_rows(datim.datim_agyw_prevII(),index=False,header=True)\n",
    "for ridx, row in enumerate(rdf_datim_II,1):\n",
    "    for cidx, value in enumerate(row,1):\n",
    "        cells = ws.cell(ridx+9,cidx,value)\n",
    "        cells.border = thin_border\n",
    "        cells\n",
    "\n",
    "rdf_datim_III = dataframe_to_rows(datim.datim_agyw_prevIII(),index=False,header=True)\n",
    "for ridx, row in enumerate(rdf_datim_III,1):\n",
    "    for cidx, value in enumerate(row,1):\n",
    "        cells = ws.cell(ridx+17,cidx,value)\n",
    "        cells.border = thin_border\n",
    "        cells\n"
   ]
  },
  {
   "cell_type": "code",
   "execution_count": 6,
   "metadata": {},
   "outputs": [],
   "source": [
    "#wb.sheetnames\n",
    "\n",
    "def name_handler(s):\n",
    "    s = sub(r\"[^\\w\\s]\", '', s)\n",
    "    # Replace all runs of whitespace with a single dash\n",
    "    s = sub(r\"\\s+\", '_', s)\n",
    "    return s\n",
    "\n"
   ]
  },
  {
   "cell_type": "code",
   "execution_count": 7,
   "metadata": {},
   "outputs": [],
   "source": [
    "%%capture\n",
    "worksheets = []\n",
    "datimcommunes = []\n",
    "for columns in datim.mastersheet_dataframe.actual_commune.unique():\n",
    "    globals()[f\"ws_{name_handler(columns)}\"] = wb.create_sheet(title=AgywPrevCommune(f\"{columns}\").who_am_i)\n",
    "    globals()[f\"datim_{name_handler(columns)}\"] =AgywPrevCommune(f\"{columns}\")\n",
    "    worksheets.append(globals().get(f\"ws_{name_handler(columns)}\"))\n",
    "    datimcommunes.append(globals().get(f\"datim_{name_handler(columns)}\"))\n"
   ]
  },
  {
   "cell_type": "code",
   "execution_count": 13,
   "metadata": {},
   "outputs": [
    {
     "output_type": "execute_result",
     "data": {
      "text/plain": [
       "[<Worksheet \"DATIM Verrettes\">,\n",
       " <Worksheet \"DATIM Delmas\">,\n",
       " <Worksheet \"DATIM Port-au-Prince\">,\n",
       " <Worksheet \"DATIM Carrefour\">,\n",
       " <Worksheet \"DATIM Limonade\">,\n",
       " <Worksheet \"DATIM Plaine-du-Nord\">,\n",
       " <Worksheet \"DATIM Cap-Haïtien\">,\n",
       " <Worksheet \"DATIM Kenscoff\">,\n",
       " <Worksheet \"DATIM Dessalines\">,\n",
       " <Worksheet \"DATIM Pétionville\">,\n",
       " <Worksheet \"DATIM Gressier\">,\n",
       " <Worksheet \"DATIM Saint-Marc\">,\n",
       " <Worksheet \"DATIM Tabarre\">,\n",
       " <Worksheet \"DATIM La Chapelle\">,\n",
       " <Worksheet \"DATIM Milot\">,\n",
       " <Worksheet \"DATIM Liancourt\">,\n",
       " <Worksheet \"DATIM Quartier-Morin\">,\n",
       " <Worksheet \"DATIM Petite Rivière de l'Artibonite\">,\n",
       " <Worksheet \"DATIM Grande Saline\">,\n",
       " <Worksheet \"DATIM Montrouis\">,\n",
       " <Worksheet \"DATIM Desdunes\">]"
      ]
     },
     "metadata": {},
     "execution_count": 13
    },
    {
     "output_type": "execute_result",
     "data": {
      "text/plain": [
       "[<agyw.AgywPrevCommune at 0x18dbf716460>,\n",
       " <agyw.AgywPrevCommune at 0x18dbf703f70>,\n",
       " <agyw.AgywPrevCommune at 0x18dc71377c0>,\n",
       " <agyw.AgywPrevCommune at 0x18dc713e400>,\n",
       " <agyw.AgywPrevCommune at 0x18dc7121940>,\n",
       " <agyw.AgywPrevCommune at 0x18dc7144eb0>,\n",
       " <agyw.AgywPrevCommune at 0x18dc7148430>,\n",
       " <agyw.AgywPrevCommune at 0x18dc714e970>,\n",
       " <agyw.AgywPrevCommune at 0x18dc7150f40>,\n",
       " <agyw.AgywPrevCommune at 0x18dc71564c0>,\n",
       " <agyw.AgywPrevCommune at 0x18dc715aa00>,\n",
       " <agyw.AgywPrevCommune at 0x18dc715bf40>,\n",
       " <agyw.AgywPrevCommune at 0x18dc07234c0>,\n",
       " <agyw.AgywPrevCommune at 0x18dc0729a00>,\n",
       " <agyw.AgywPrevCommune at 0x18dc072ef40>,\n",
       " <agyw.AgywPrevCommune at 0x18dc07364c0>,\n",
       " <agyw.AgywPrevCommune at 0x18dc0743a30>,\n",
       " <agyw.AgywPrevCommune at 0x18dc0746f70>,\n",
       " <agyw.AgywPrevCommune at 0x18dc07554f0>,\n",
       " <agyw.AgywPrevCommune at 0x18dc0759a30>,\n",
       " <agyw.AgywPrevCommune at 0x18dc075bf70>]"
      ]
     },
     "metadata": {},
     "execution_count": 13
    }
   ],
   "source": [
    "worksheets\n",
    "datimcommunes"
   ]
  },
  {
   "cell_type": "code",
   "execution_count": 16,
   "metadata": {},
   "outputs": [
    {
     "output_type": "execute_result",
     "data": {
      "text/plain": [
       "     Age  0-6 months  07-12 months  Total\n",
       "0  10-14           6            90     96\n",
       "1  15-19           0            24     24\n",
       "2  20-24           0             3      3"
      ],
      "text/html": "<div>\n<style scoped>\n    .dataframe tbody tr th:only-of-type {\n        vertical-align: middle;\n    }\n\n    .dataframe tbody tr th {\n        vertical-align: top;\n    }\n\n    .dataframe thead th {\n        text-align: right;\n    }\n</style>\n<table border=\"1\" class=\"dataframe\">\n  <thead>\n    <tr style=\"text-align: right;\">\n      <th></th>\n      <th>Age</th>\n      <th>0-6 months</th>\n      <th>07-12 months</th>\n      <th>Total</th>\n    </tr>\n  </thead>\n  <tbody>\n    <tr>\n      <th>0</th>\n      <td>10-14</td>\n      <td>6</td>\n      <td>90</td>\n      <td>96</td>\n    </tr>\n    <tr>\n      <th>1</th>\n      <td>15-19</td>\n      <td>0</td>\n      <td>24</td>\n      <td>24</td>\n    </tr>\n    <tr>\n      <th>2</th>\n      <td>20-24</td>\n      <td>0</td>\n      <td>3</td>\n      <td>3</td>\n    </tr>\n  </tbody>\n</table>\n</div>"
     },
     "metadata": {},
     "execution_count": 16
    },
    {
     "output_type": "execute_result",
     "data": {
      "text/plain": [
       "     Age  07-12 months  13-24 months  Total\n",
       "0  10-14            10             5     15\n",
       "1  15-19             4             4      8"
      ],
      "text/html": "<div>\n<style scoped>\n    .dataframe tbody tr th:only-of-type {\n        vertical-align: middle;\n    }\n\n    .dataframe tbody tr th {\n        vertical-align: top;\n    }\n\n    .dataframe thead th {\n        text-align: right;\n    }\n</style>\n<table border=\"1\" class=\"dataframe\">\n  <thead>\n    <tr style=\"text-align: right;\">\n      <th></th>\n      <th>Age</th>\n      <th>07-12 months</th>\n      <th>13-24 months</th>\n      <th>Total</th>\n    </tr>\n  </thead>\n  <tbody>\n    <tr>\n      <th>0</th>\n      <td>10-14</td>\n      <td>10</td>\n      <td>5</td>\n      <td>15</td>\n    </tr>\n    <tr>\n      <th>1</th>\n      <td>15-19</td>\n      <td>4</td>\n      <td>4</td>\n      <td>8</td>\n    </tr>\n  </tbody>\n</table>\n</div>"
     },
     "metadata": {},
     "execution_count": 16
    },
    {
     "output_type": "execute_result",
     "data": {
      "text/plain": [
       "     Age  07-12 months  Total\n",
       "0  10-14            11     11\n",
       "1  15-19             3      3"
      ],
      "text/html": "<div>\n<style scoped>\n    .dataframe tbody tr th:only-of-type {\n        vertical-align: middle;\n    }\n\n    .dataframe tbody tr th {\n        vertical-align: top;\n    }\n\n    .dataframe thead th {\n        text-align: right;\n    }\n</style>\n<table border=\"1\" class=\"dataframe\">\n  <thead>\n    <tr style=\"text-align: right;\">\n      <th></th>\n      <th>Age</th>\n      <th>07-12 months</th>\n      <th>Total</th>\n    </tr>\n  </thead>\n  <tbody>\n    <tr>\n      <th>0</th>\n      <td>10-14</td>\n      <td>11</td>\n      <td>11</td>\n    </tr>\n    <tr>\n      <th>1</th>\n      <td>15-19</td>\n      <td>3</td>\n      <td>3</td>\n    </tr>\n  </tbody>\n</table>\n</div>"
     },
     "metadata": {},
     "execution_count": 16
    },
    {
     "output_type": "execute_result",
     "data": {
      "text/plain": [
       "     Age  0-6 months  07-12 months  13-24 months  Total\n",
       "0  10-14           5            31             3     39\n",
       "1  15-19           0             4             0      4"
      ],
      "text/html": "<div>\n<style scoped>\n    .dataframe tbody tr th:only-of-type {\n        vertical-align: middle;\n    }\n\n    .dataframe tbody tr th {\n        vertical-align: top;\n    }\n\n    .dataframe thead th {\n        text-align: right;\n    }\n</style>\n<table border=\"1\" class=\"dataframe\">\n  <thead>\n    <tr style=\"text-align: right;\">\n      <th></th>\n      <th>Age</th>\n      <th>0-6 months</th>\n      <th>07-12 months</th>\n      <th>13-24 months</th>\n      <th>Total</th>\n    </tr>\n  </thead>\n  <tbody>\n    <tr>\n      <th>0</th>\n      <td>10-14</td>\n      <td>5</td>\n      <td>31</td>\n      <td>3</td>\n      <td>39</td>\n    </tr>\n    <tr>\n      <th>1</th>\n      <td>15-19</td>\n      <td>0</td>\n      <td>4</td>\n      <td>0</td>\n      <td>4</td>\n    </tr>\n  </tbody>\n</table>\n</div>"
     },
     "metadata": {},
     "execution_count": 16
    },
    {
     "output_type": "execute_result",
     "data": {
      "text/plain": [
       "     Age  0-6 months  07-12 months  Total\n",
       "0  10-14           2            21     23\n",
       "1  15-19           0            10     10"
      ],
      "text/html": "<div>\n<style scoped>\n    .dataframe tbody tr th:only-of-type {\n        vertical-align: middle;\n    }\n\n    .dataframe tbody tr th {\n        vertical-align: top;\n    }\n\n    .dataframe thead th {\n        text-align: right;\n    }\n</style>\n<table border=\"1\" class=\"dataframe\">\n  <thead>\n    <tr style=\"text-align: right;\">\n      <th></th>\n      <th>Age</th>\n      <th>0-6 months</th>\n      <th>07-12 months</th>\n      <th>Total</th>\n    </tr>\n  </thead>\n  <tbody>\n    <tr>\n      <th>0</th>\n      <td>10-14</td>\n      <td>2</td>\n      <td>21</td>\n      <td>23</td>\n    </tr>\n    <tr>\n      <th>1</th>\n      <td>15-19</td>\n      <td>0</td>\n      <td>10</td>\n      <td>10</td>\n    </tr>\n  </tbody>\n</table>\n</div>"
     },
     "metadata": {},
     "execution_count": 16
    },
    {
     "output_type": "execute_result",
     "data": {
      "text/plain": [
       "     Age  07-12 months  Total\n",
       "0  10-14             4      4\n",
       "1  15-19             1      1"
      ],
      "text/html": "<div>\n<style scoped>\n    .dataframe tbody tr th:only-of-type {\n        vertical-align: middle;\n    }\n\n    .dataframe tbody tr th {\n        vertical-align: top;\n    }\n\n    .dataframe thead th {\n        text-align: right;\n    }\n</style>\n<table border=\"1\" class=\"dataframe\">\n  <thead>\n    <tr style=\"text-align: right;\">\n      <th></th>\n      <th>Age</th>\n      <th>07-12 months</th>\n      <th>Total</th>\n    </tr>\n  </thead>\n  <tbody>\n    <tr>\n      <th>0</th>\n      <td>10-14</td>\n      <td>4</td>\n      <td>4</td>\n    </tr>\n    <tr>\n      <th>1</th>\n      <td>15-19</td>\n      <td>1</td>\n      <td>1</td>\n    </tr>\n  </tbody>\n</table>\n</div>"
     },
     "metadata": {},
     "execution_count": 16
    },
    {
     "output_type": "execute_result",
     "data": {
      "text/plain": [
       "     Age  07-12 months  Total\n",
       "0  10-14            12     12"
      ],
      "text/html": "<div>\n<style scoped>\n    .dataframe tbody tr th:only-of-type {\n        vertical-align: middle;\n    }\n\n    .dataframe tbody tr th {\n        vertical-align: top;\n    }\n\n    .dataframe thead th {\n        text-align: right;\n    }\n</style>\n<table border=\"1\" class=\"dataframe\">\n  <thead>\n    <tr style=\"text-align: right;\">\n      <th></th>\n      <th>Age</th>\n      <th>07-12 months</th>\n      <th>Total</th>\n    </tr>\n  </thead>\n  <tbody>\n    <tr>\n      <th>0</th>\n      <td>10-14</td>\n      <td>12</td>\n      <td>12</td>\n    </tr>\n  </tbody>\n</table>\n</div>"
     },
     "metadata": {},
     "execution_count": 16
    },
    {
     "output_type": "execute_result",
     "data": {
      "text/plain": [
       "     Age  0-6 months  07-12 months  13-24 months  Total\n",
       "0  10-14           2            66            19     87\n",
       "1  15-19           0            35            10     45"
      ],
      "text/html": "<div>\n<style scoped>\n    .dataframe tbody tr th:only-of-type {\n        vertical-align: middle;\n    }\n\n    .dataframe tbody tr th {\n        vertical-align: top;\n    }\n\n    .dataframe thead th {\n        text-align: right;\n    }\n</style>\n<table border=\"1\" class=\"dataframe\">\n  <thead>\n    <tr style=\"text-align: right;\">\n      <th></th>\n      <th>Age</th>\n      <th>0-6 months</th>\n      <th>07-12 months</th>\n      <th>13-24 months</th>\n      <th>Total</th>\n    </tr>\n  </thead>\n  <tbody>\n    <tr>\n      <th>0</th>\n      <td>10-14</td>\n      <td>2</td>\n      <td>66</td>\n      <td>19</td>\n      <td>87</td>\n    </tr>\n    <tr>\n      <th>1</th>\n      <td>15-19</td>\n      <td>0</td>\n      <td>35</td>\n      <td>10</td>\n      <td>45</td>\n    </tr>\n  </tbody>\n</table>\n</div>"
     },
     "metadata": {},
     "execution_count": 16
    },
    {
     "output_type": "execute_result",
     "data": {
      "text/plain": [
       "     Age  07-12 months  Total\n",
       "0  10-14            24     24\n",
       "1  15-19            28     28"
      ],
      "text/html": "<div>\n<style scoped>\n    .dataframe tbody tr th:only-of-type {\n        vertical-align: middle;\n    }\n\n    .dataframe tbody tr th {\n        vertical-align: top;\n    }\n\n    .dataframe thead th {\n        text-align: right;\n    }\n</style>\n<table border=\"1\" class=\"dataframe\">\n  <thead>\n    <tr style=\"text-align: right;\">\n      <th></th>\n      <th>Age</th>\n      <th>07-12 months</th>\n      <th>Total</th>\n    </tr>\n  </thead>\n  <tbody>\n    <tr>\n      <th>0</th>\n      <td>10-14</td>\n      <td>24</td>\n      <td>24</td>\n    </tr>\n    <tr>\n      <th>1</th>\n      <td>15-19</td>\n      <td>28</td>\n      <td>28</td>\n    </tr>\n  </tbody>\n</table>\n</div>"
     },
     "metadata": {},
     "execution_count": 16
    },
    {
     "output_type": "execute_result",
     "data": {
      "text/plain": [
       "     Age  07-12 months  13-24 months  Total\n",
       "0  10-14             4             2      6\n",
       "1  15-19             4             0      4\n",
       "2  20-24             1             0      1"
      ],
      "text/html": "<div>\n<style scoped>\n    .dataframe tbody tr th:only-of-type {\n        vertical-align: middle;\n    }\n\n    .dataframe tbody tr th {\n        vertical-align: top;\n    }\n\n    .dataframe thead th {\n        text-align: right;\n    }\n</style>\n<table border=\"1\" class=\"dataframe\">\n  <thead>\n    <tr style=\"text-align: right;\">\n      <th></th>\n      <th>Age</th>\n      <th>07-12 months</th>\n      <th>13-24 months</th>\n      <th>Total</th>\n    </tr>\n  </thead>\n  <tbody>\n    <tr>\n      <th>0</th>\n      <td>10-14</td>\n      <td>4</td>\n      <td>2</td>\n      <td>6</td>\n    </tr>\n    <tr>\n      <th>1</th>\n      <td>15-19</td>\n      <td>4</td>\n      <td>0</td>\n      <td>4</td>\n    </tr>\n    <tr>\n      <th>2</th>\n      <td>20-24</td>\n      <td>1</td>\n      <td>0</td>\n      <td>1</td>\n    </tr>\n  </tbody>\n</table>\n</div>"
     },
     "metadata": {},
     "execution_count": 16
    },
    {
     "output_type": "execute_result",
     "data": {
      "text/plain": [
       "     Age  07-12 months  Total\n",
       "0  10-14            22     22\n",
       "1  15-19             5      5\n",
       "2  20-24             1      1"
      ],
      "text/html": "<div>\n<style scoped>\n    .dataframe tbody tr th:only-of-type {\n        vertical-align: middle;\n    }\n\n    .dataframe tbody tr th {\n        vertical-align: top;\n    }\n\n    .dataframe thead th {\n        text-align: right;\n    }\n</style>\n<table border=\"1\" class=\"dataframe\">\n  <thead>\n    <tr style=\"text-align: right;\">\n      <th></th>\n      <th>Age</th>\n      <th>07-12 months</th>\n      <th>Total</th>\n    </tr>\n  </thead>\n  <tbody>\n    <tr>\n      <th>0</th>\n      <td>10-14</td>\n      <td>22</td>\n      <td>22</td>\n    </tr>\n    <tr>\n      <th>1</th>\n      <td>15-19</td>\n      <td>5</td>\n      <td>5</td>\n    </tr>\n    <tr>\n      <th>2</th>\n      <td>20-24</td>\n      <td>1</td>\n      <td>1</td>\n    </tr>\n  </tbody>\n</table>\n</div>"
     },
     "metadata": {},
     "execution_count": 16
    },
    {
     "output_type": "execute_result",
     "data": {
      "text/plain": [
       "     Age  0-6 months  07-12 months  Total\n",
       "0  10-14           9            45     54\n",
       "1  15-19           0            23     23"
      ],
      "text/html": "<div>\n<style scoped>\n    .dataframe tbody tr th:only-of-type {\n        vertical-align: middle;\n    }\n\n    .dataframe tbody tr th {\n        vertical-align: top;\n    }\n\n    .dataframe thead th {\n        text-align: right;\n    }\n</style>\n<table border=\"1\" class=\"dataframe\">\n  <thead>\n    <tr style=\"text-align: right;\">\n      <th></th>\n      <th>Age</th>\n      <th>0-6 months</th>\n      <th>07-12 months</th>\n      <th>Total</th>\n    </tr>\n  </thead>\n  <tbody>\n    <tr>\n      <th>0</th>\n      <td>10-14</td>\n      <td>9</td>\n      <td>45</td>\n      <td>54</td>\n    </tr>\n    <tr>\n      <th>1</th>\n      <td>15-19</td>\n      <td>0</td>\n      <td>23</td>\n      <td>23</td>\n    </tr>\n  </tbody>\n</table>\n</div>"
     },
     "metadata": {},
     "execution_count": 16
    },
    {
     "output_type": "execute_result",
     "data": {
      "text/plain": [
       "     Age  07-12 months  Total\n",
       "0  10-14            26     26\n",
       "1  15-19            11     11"
      ],
      "text/html": "<div>\n<style scoped>\n    .dataframe tbody tr th:only-of-type {\n        vertical-align: middle;\n    }\n\n    .dataframe tbody tr th {\n        vertical-align: top;\n    }\n\n    .dataframe thead th {\n        text-align: right;\n    }\n</style>\n<table border=\"1\" class=\"dataframe\">\n  <thead>\n    <tr style=\"text-align: right;\">\n      <th></th>\n      <th>Age</th>\n      <th>07-12 months</th>\n      <th>Total</th>\n    </tr>\n  </thead>\n  <tbody>\n    <tr>\n      <th>0</th>\n      <td>10-14</td>\n      <td>26</td>\n      <td>26</td>\n    </tr>\n    <tr>\n      <th>1</th>\n      <td>15-19</td>\n      <td>11</td>\n      <td>11</td>\n    </tr>\n  </tbody>\n</table>\n</div>"
     },
     "metadata": {},
     "execution_count": 16
    },
    {
     "output_type": "error",
     "ename": "ValueError",
     "evalue": "No objects to concatenate",
     "traceback": [
      "\u001b[1;31m---------------------------------------------------------------------------\u001b[0m",
      "\u001b[1;31mValueError\u001b[0m                                Traceback (most recent call last)",
      "\u001b[1;32m<ipython-input-16-489f5b8e1dcb>\u001b[0m in \u001b[0;36m<module>\u001b[1;34m\u001b[0m\n\u001b[0;32m      1\u001b[0m \u001b[1;32mfor\u001b[0m \u001b[0mdc\u001b[0m \u001b[1;32min\u001b[0m \u001b[0mdatimcommunes\u001b[0m\u001b[1;33m:\u001b[0m\u001b[1;33m\u001b[0m\u001b[1;33m\u001b[0m\u001b[0m\n\u001b[1;32m----> 2\u001b[1;33m     \u001b[0mdc\u001b[0m\u001b[1;33m.\u001b[0m\u001b[0mdatim_agyw_prevII\u001b[0m\u001b[1;33m(\u001b[0m\u001b[1;33m)\u001b[0m\u001b[1;33m\u001b[0m\u001b[1;33m\u001b[0m\u001b[0m\n\u001b[0m",
      "\u001b[1;32mc:\\Users\\Wedner Adrien\\Desktop\\dreams_py\\agyw_prev_datim\\agyw.py\u001b[0m in \u001b[0;36mdatim_agyw_prevII\u001b[1;34m(self)\u001b[0m\n\u001b[0;32m    115\u001b[0m     \u001b[1;32mdef\u001b[0m \u001b[0mdatim_agyw_prevII\u001b[0m\u001b[1;33m(\u001b[0m\u001b[0mself\u001b[0m\u001b[1;33m)\u001b[0m\u001b[1;33m:\u001b[0m\u001b[1;33m\u001b[0m\u001b[1;33m\u001b[0m\u001b[0m\n\u001b[0;32m    116\u001b[0m         \u001b[0mpivotableII\u001b[0m \u001b[1;33m=\u001b[0m \u001b[0mself\u001b[0m\u001b[1;33m.\u001b[0m\u001b[0m__agyw_prevII\u001b[0m\u001b[1;33m.\u001b[0m\u001b[0mrename\u001b[0m\u001b[1;33m(\u001b[0m\u001b[0mcolumns\u001b[0m\u001b[1;33m=\u001b[0m\u001b[1;33m{\u001b[0m\u001b[1;34m\"age_range\"\u001b[0m\u001b[1;33m:\u001b[0m\u001b[1;34m\"Age\"\u001b[0m\u001b[1;33m,\u001b[0m \u001b[1;34m\"agyw_period_range\"\u001b[0m\u001b[1;33m:\u001b[0m\u001b[1;34m\"Time\"\u001b[0m\u001b[1;33m}\u001b[0m\u001b[1;33m)\u001b[0m\u001b[1;33m\u001b[0m\u001b[1;33m\u001b[0m\u001b[0m\n\u001b[1;32m--> 117\u001b[1;33m         \u001b[0magyw_prevII_pivot\u001b[0m \u001b[1;33m=\u001b[0m \u001b[0mpivotableII\u001b[0m\u001b[1;33m.\u001b[0m\u001b[0mpivot_table\u001b[0m\u001b[1;33m(\u001b[0m\u001b[0mindex\u001b[0m\u001b[1;33m=\u001b[0m\u001b[1;34m\"Age\"\u001b[0m\u001b[1;33m,\u001b[0m\u001b[0mcolumns\u001b[0m\u001b[1;33m=\u001b[0m\u001b[1;34m\"Time\"\u001b[0m\u001b[1;33m,\u001b[0m \u001b[0mvalues\u001b[0m\u001b[1;33m=\u001b[0m\u001b[1;34m\"code\"\u001b[0m\u001b[1;33m,\u001b[0m\u001b[0maggfunc\u001b[0m\u001b[1;33m=\u001b[0m\u001b[1;34m\"count\"\u001b[0m\u001b[1;33m,\u001b[0m\u001b[0mfill_value\u001b[0m\u001b[1;33m=\u001b[0m\u001b[1;36m0\u001b[0m\u001b[1;33m,\u001b[0m\u001b[0mmargins\u001b[0m\u001b[1;33m=\u001b[0m\u001b[1;32mTrue\u001b[0m\u001b[1;33m,\u001b[0m\u001b[0mmargins_name\u001b[0m\u001b[1;33m=\u001b[0m\u001b[1;34m\"Total\"\u001b[0m\u001b[1;33m)\u001b[0m\u001b[1;33m\u001b[0m\u001b[1;33m\u001b[0m\u001b[0m\n\u001b[0m\u001b[0;32m    118\u001b[0m         \u001b[0magyw_prevII_pivot_final\u001b[0m \u001b[1;33m=\u001b[0m \u001b[0magyw_prevII_pivot\u001b[0m\u001b[1;33m.\u001b[0m\u001b[0mreset_index\u001b[0m\u001b[1;33m(\u001b[0m\u001b[1;33m)\u001b[0m\u001b[1;33m.\u001b[0m\u001b[0mrename_axis\u001b[0m\u001b[1;33m(\u001b[0m\u001b[1;32mNone\u001b[0m\u001b[1;33m,\u001b[0m \u001b[0maxis\u001b[0m\u001b[1;33m=\u001b[0m\u001b[1;36m1\u001b[0m\u001b[1;33m)\u001b[0m\u001b[1;33m[\u001b[0m\u001b[1;33m:\u001b[0m\u001b[1;33m-\u001b[0m\u001b[1;36m1\u001b[0m\u001b[1;33m]\u001b[0m\u001b[1;33m\u001b[0m\u001b[1;33m\u001b[0m\u001b[0m\n\u001b[0;32m    119\u001b[0m         \u001b[1;32mreturn\u001b[0m \u001b[0mDataFrame\u001b[0m\u001b[1;33m(\u001b[0m \u001b[0magyw_prevII_pivot_final\u001b[0m\u001b[1;33m.\u001b[0m\u001b[0mto_records\u001b[0m\u001b[1;33m(\u001b[0m\u001b[0mindex\u001b[0m\u001b[1;33m=\u001b[0m\u001b[1;32mFalse\u001b[0m\u001b[1;33m)\u001b[0m\u001b[1;33m)\u001b[0m\u001b[1;33m\u001b[0m\u001b[1;33m\u001b[0m\u001b[0m\n",
      "\u001b[1;32m~\\AppData\\Local\\Programs\\Python\\Python39\\lib\\site-packages\\pandas\\core\\frame.py\u001b[0m in \u001b[0;36mpivot_table\u001b[1;34m(self, values, index, columns, aggfunc, fill_value, margins, dropna, margins_name, observed)\u001b[0m\n\u001b[0;32m   7029\u001b[0m         \u001b[1;32mfrom\u001b[0m \u001b[0mpandas\u001b[0m\u001b[1;33m.\u001b[0m\u001b[0mcore\u001b[0m\u001b[1;33m.\u001b[0m\u001b[0mreshape\u001b[0m\u001b[1;33m.\u001b[0m\u001b[0mpivot\u001b[0m \u001b[1;32mimport\u001b[0m \u001b[0mpivot_table\u001b[0m\u001b[1;33m\u001b[0m\u001b[1;33m\u001b[0m\u001b[0m\n\u001b[0;32m   7030\u001b[0m \u001b[1;33m\u001b[0m\u001b[0m\n\u001b[1;32m-> 7031\u001b[1;33m         return pivot_table(\n\u001b[0m\u001b[0;32m   7032\u001b[0m             \u001b[0mself\u001b[0m\u001b[1;33m,\u001b[0m\u001b[1;33m\u001b[0m\u001b[1;33m\u001b[0m\u001b[0m\n\u001b[0;32m   7033\u001b[0m             \u001b[0mvalues\u001b[0m\u001b[1;33m=\u001b[0m\u001b[0mvalues\u001b[0m\u001b[1;33m,\u001b[0m\u001b[1;33m\u001b[0m\u001b[1;33m\u001b[0m\u001b[0m\n",
      "\u001b[1;32m~\\AppData\\Local\\Programs\\Python\\Python39\\lib\\site-packages\\pandas\\core\\reshape\\pivot.py\u001b[0m in \u001b[0;36mpivot_table\u001b[1;34m(data, values, index, columns, aggfunc, fill_value, margins, dropna, margins_name, observed)\u001b[0m\n\u001b[0;32m    170\u001b[0m         \u001b[1;32mif\u001b[0m \u001b[0mdropna\u001b[0m\u001b[1;33m:\u001b[0m\u001b[1;33m\u001b[0m\u001b[1;33m\u001b[0m\u001b[0m\n\u001b[0;32m    171\u001b[0m             \u001b[0mdata\u001b[0m \u001b[1;33m=\u001b[0m \u001b[0mdata\u001b[0m\u001b[1;33m[\u001b[0m\u001b[0mdata\u001b[0m\u001b[1;33m.\u001b[0m\u001b[0mnotna\u001b[0m\u001b[1;33m(\u001b[0m\u001b[1;33m)\u001b[0m\u001b[1;33m.\u001b[0m\u001b[0mall\u001b[0m\u001b[1;33m(\u001b[0m\u001b[0maxis\u001b[0m\u001b[1;33m=\u001b[0m\u001b[1;36m1\u001b[0m\u001b[1;33m)\u001b[0m\u001b[1;33m]\u001b[0m\u001b[1;33m\u001b[0m\u001b[1;33m\u001b[0m\u001b[0m\n\u001b[1;32m--> 172\u001b[1;33m         table = _add_margins(\n\u001b[0m\u001b[0;32m    173\u001b[0m             \u001b[0mtable\u001b[0m\u001b[1;33m,\u001b[0m\u001b[1;33m\u001b[0m\u001b[1;33m\u001b[0m\u001b[0m\n\u001b[0;32m    174\u001b[0m             \u001b[0mdata\u001b[0m\u001b[1;33m,\u001b[0m\u001b[1;33m\u001b[0m\u001b[1;33m\u001b[0m\u001b[0m\n",
      "\u001b[1;32m~\\AppData\\Local\\Programs\\Python\\Python39\\lib\\site-packages\\pandas\\core\\reshape\\pivot.py\u001b[0m in \u001b[0;36m_add_margins\u001b[1;34m(table, data, values, rows, cols, aggfunc, observed, margins_name, fill_value)\u001b[0m\n\u001b[0;32m    240\u001b[0m \u001b[1;33m\u001b[0m\u001b[0m\n\u001b[0;32m    241\u001b[0m     \u001b[1;32melif\u001b[0m \u001b[0mvalues\u001b[0m\u001b[1;33m:\u001b[0m\u001b[1;33m\u001b[0m\u001b[1;33m\u001b[0m\u001b[0m\n\u001b[1;32m--> 242\u001b[1;33m         marginal_result_set = _generate_marginal_results(\n\u001b[0m\u001b[0;32m    243\u001b[0m             \u001b[0mtable\u001b[0m\u001b[1;33m,\u001b[0m \u001b[0mdata\u001b[0m\u001b[1;33m,\u001b[0m \u001b[0mvalues\u001b[0m\u001b[1;33m,\u001b[0m \u001b[0mrows\u001b[0m\u001b[1;33m,\u001b[0m \u001b[0mcols\u001b[0m\u001b[1;33m,\u001b[0m \u001b[0maggfunc\u001b[0m\u001b[1;33m,\u001b[0m \u001b[0mobserved\u001b[0m\u001b[1;33m,\u001b[0m \u001b[0mmargins_name\u001b[0m\u001b[1;33m\u001b[0m\u001b[1;33m\u001b[0m\u001b[0m\n\u001b[0;32m    244\u001b[0m         )\n",
      "\u001b[1;32m~\\AppData\\Local\\Programs\\Python\\Python39\\lib\\site-packages\\pandas\\core\\reshape\\pivot.py\u001b[0m in \u001b[0;36m_generate_marginal_results\u001b[1;34m(table, data, values, rows, cols, aggfunc, observed, margins_name)\u001b[0m\n\u001b[0;32m    346\u001b[0m                 \u001b[0mmargin_keys\u001b[0m\u001b[1;33m.\u001b[0m\u001b[0mappend\u001b[0m\u001b[1;33m(\u001b[0m\u001b[0mall_key\u001b[0m\u001b[1;33m)\u001b[0m\u001b[1;33m\u001b[0m\u001b[1;33m\u001b[0m\u001b[0m\n\u001b[0;32m    347\u001b[0m \u001b[1;33m\u001b[0m\u001b[0m\n\u001b[1;32m--> 348\u001b[1;33m         \u001b[0mresult\u001b[0m \u001b[1;33m=\u001b[0m \u001b[0mconcat\u001b[0m\u001b[1;33m(\u001b[0m\u001b[0mtable_pieces\u001b[0m\u001b[1;33m,\u001b[0m \u001b[0maxis\u001b[0m\u001b[1;33m=\u001b[0m\u001b[0mcat_axis\u001b[0m\u001b[1;33m)\u001b[0m\u001b[1;33m\u001b[0m\u001b[1;33m\u001b[0m\u001b[0m\n\u001b[0m\u001b[0;32m    349\u001b[0m \u001b[1;33m\u001b[0m\u001b[0m\n\u001b[0;32m    350\u001b[0m         \u001b[1;32mif\u001b[0m \u001b[0mlen\u001b[0m\u001b[1;33m(\u001b[0m\u001b[0mrows\u001b[0m\u001b[1;33m)\u001b[0m \u001b[1;33m==\u001b[0m \u001b[1;36m0\u001b[0m\u001b[1;33m:\u001b[0m\u001b[1;33m\u001b[0m\u001b[1;33m\u001b[0m\u001b[0m\n",
      "\u001b[1;32m~\\AppData\\Local\\Programs\\Python\\Python39\\lib\\site-packages\\pandas\\core\\reshape\\concat.py\u001b[0m in \u001b[0;36mconcat\u001b[1;34m(objs, axis, join, ignore_index, keys, levels, names, verify_integrity, sort, copy)\u001b[0m\n\u001b[0;32m    283\u001b[0m     \u001b[0mValueError\u001b[0m\u001b[1;33m:\u001b[0m \u001b[0mIndexes\u001b[0m \u001b[0mhave\u001b[0m \u001b[0moverlapping\u001b[0m \u001b[0mvalues\u001b[0m\u001b[1;33m:\u001b[0m \u001b[1;33m[\u001b[0m\u001b[1;34m'a'\u001b[0m\u001b[1;33m]\u001b[0m\u001b[1;33m\u001b[0m\u001b[1;33m\u001b[0m\u001b[0m\n\u001b[0;32m    284\u001b[0m     \"\"\"\n\u001b[1;32m--> 285\u001b[1;33m     op = _Concatenator(\n\u001b[0m\u001b[0;32m    286\u001b[0m         \u001b[0mobjs\u001b[0m\u001b[1;33m,\u001b[0m\u001b[1;33m\u001b[0m\u001b[1;33m\u001b[0m\u001b[0m\n\u001b[0;32m    287\u001b[0m         \u001b[0maxis\u001b[0m\u001b[1;33m=\u001b[0m\u001b[0maxis\u001b[0m\u001b[1;33m,\u001b[0m\u001b[1;33m\u001b[0m\u001b[1;33m\u001b[0m\u001b[0m\n",
      "\u001b[1;32m~\\AppData\\Local\\Programs\\Python\\Python39\\lib\\site-packages\\pandas\\core\\reshape\\concat.py\u001b[0m in \u001b[0;36m__init__\u001b[1;34m(self, objs, axis, join, keys, levels, names, ignore_index, verify_integrity, copy, sort)\u001b[0m\n\u001b[0;32m    340\u001b[0m \u001b[1;33m\u001b[0m\u001b[0m\n\u001b[0;32m    341\u001b[0m         \u001b[1;32mif\u001b[0m \u001b[0mlen\u001b[0m\u001b[1;33m(\u001b[0m\u001b[0mobjs\u001b[0m\u001b[1;33m)\u001b[0m \u001b[1;33m==\u001b[0m \u001b[1;36m0\u001b[0m\u001b[1;33m:\u001b[0m\u001b[1;33m\u001b[0m\u001b[1;33m\u001b[0m\u001b[0m\n\u001b[1;32m--> 342\u001b[1;33m             \u001b[1;32mraise\u001b[0m \u001b[0mValueError\u001b[0m\u001b[1;33m(\u001b[0m\u001b[1;34m\"No objects to concatenate\"\u001b[0m\u001b[1;33m)\u001b[0m\u001b[1;33m\u001b[0m\u001b[1;33m\u001b[0m\u001b[0m\n\u001b[0m\u001b[0;32m    343\u001b[0m \u001b[1;33m\u001b[0m\u001b[0m\n\u001b[0;32m    344\u001b[0m         \u001b[1;32mif\u001b[0m \u001b[0mkeys\u001b[0m \u001b[1;32mis\u001b[0m \u001b[1;32mNone\u001b[0m\u001b[1;33m:\u001b[0m\u001b[1;33m\u001b[0m\u001b[1;33m\u001b[0m\u001b[0m\n",
      "\u001b[1;31mValueError\u001b[0m: No objects to concatenate"
     ]
    }
   ],
   "source": [
    "for dc in datimcommunes:\n",
    "    dc.datim_agyw_prevII()"
   ]
  },
  {
   "cell_type": "code",
   "execution_count": 14,
   "metadata": {},
   "outputs": [
    {
     "output_type": "error",
     "ename": "ValueError",
     "evalue": "No objects to concatenate",
     "traceback": [
      "\u001b[1;31m---------------------------------------------------------------------------\u001b[0m",
      "\u001b[1;31mValueError\u001b[0m                                Traceback (most recent call last)",
      "\u001b[1;32m<ipython-input-14-d3d85fe07ce6>\u001b[0m in \u001b[0;36m<module>\u001b[1;34m\u001b[0m\n\u001b[0;32m     39\u001b[0m             \u001b[0mcells\u001b[0m\u001b[1;33m\u001b[0m\u001b[1;33m\u001b[0m\u001b[0m\n\u001b[0;32m     40\u001b[0m \u001b[1;33m\u001b[0m\u001b[0m\n\u001b[1;32m---> 41\u001b[1;33m     \u001b[1;32mfor\u001b[0m \u001b[0mridx\u001b[0m\u001b[1;33m,\u001b[0m \u001b[0mrow\u001b[0m \u001b[1;32min\u001b[0m \u001b[0menumerate\u001b[0m\u001b[1;33m(\u001b[0m\u001b[0mdataframe_to_rows\u001b[0m\u001b[1;33m(\u001b[0m\u001b[0mdcommunes\u001b[0m\u001b[1;33m.\u001b[0m\u001b[0mdatim_agyw_prevII\u001b[0m\u001b[1;33m(\u001b[0m\u001b[1;33m)\u001b[0m\u001b[1;33m,\u001b[0m\u001b[0mindex\u001b[0m\u001b[1;33m=\u001b[0m\u001b[1;32mFalse\u001b[0m\u001b[1;33m,\u001b[0m\u001b[0mheader\u001b[0m\u001b[1;33m=\u001b[0m\u001b[1;32mTrue\u001b[0m\u001b[1;33m)\u001b[0m\u001b[1;33m,\u001b[0m\u001b[1;36m1\u001b[0m\u001b[1;33m)\u001b[0m\u001b[1;33m:\u001b[0m\u001b[1;33m\u001b[0m\u001b[1;33m\u001b[0m\u001b[0m\n\u001b[0m\u001b[0;32m     42\u001b[0m         \u001b[1;32mfor\u001b[0m \u001b[0mcidx\u001b[0m\u001b[1;33m,\u001b[0m \u001b[0mvalue\u001b[0m \u001b[1;32min\u001b[0m \u001b[0menumerate\u001b[0m\u001b[1;33m(\u001b[0m\u001b[0mrow\u001b[0m\u001b[1;33m,\u001b[0m\u001b[1;36m1\u001b[0m\u001b[1;33m)\u001b[0m\u001b[1;33m:\u001b[0m\u001b[1;33m\u001b[0m\u001b[1;33m\u001b[0m\u001b[0m\n\u001b[0;32m     43\u001b[0m             \u001b[0mcells\u001b[0m \u001b[1;33m=\u001b[0m \u001b[0mwscommunes\u001b[0m\u001b[1;33m.\u001b[0m\u001b[0mcell\u001b[0m\u001b[1;33m(\u001b[0m\u001b[0mridx\u001b[0m\u001b[1;33m+\u001b[0m\u001b[1;36m9\u001b[0m\u001b[1;33m,\u001b[0m\u001b[0mcidx\u001b[0m\u001b[1;33m,\u001b[0m\u001b[0mvalue\u001b[0m\u001b[1;33m)\u001b[0m\u001b[1;33m\u001b[0m\u001b[1;33m\u001b[0m\u001b[0m\n",
      "\u001b[1;32mc:\\Users\\Wedner Adrien\\Desktop\\dreams_py\\agyw_prev_datim\\agyw.py\u001b[0m in \u001b[0;36mdatim_agyw_prevII\u001b[1;34m(self)\u001b[0m\n\u001b[0;32m    115\u001b[0m     \u001b[1;32mdef\u001b[0m \u001b[0mdatim_agyw_prevII\u001b[0m\u001b[1;33m(\u001b[0m\u001b[0mself\u001b[0m\u001b[1;33m)\u001b[0m\u001b[1;33m:\u001b[0m\u001b[1;33m\u001b[0m\u001b[1;33m\u001b[0m\u001b[0m\n\u001b[0;32m    116\u001b[0m         \u001b[0mpivotableII\u001b[0m \u001b[1;33m=\u001b[0m \u001b[0mself\u001b[0m\u001b[1;33m.\u001b[0m\u001b[0m__agyw_prevII\u001b[0m\u001b[1;33m.\u001b[0m\u001b[0mrename\u001b[0m\u001b[1;33m(\u001b[0m\u001b[0mcolumns\u001b[0m\u001b[1;33m=\u001b[0m\u001b[1;33m{\u001b[0m\u001b[1;34m\"age_range\"\u001b[0m\u001b[1;33m:\u001b[0m\u001b[1;34m\"Age\"\u001b[0m\u001b[1;33m,\u001b[0m \u001b[1;34m\"agyw_period_range\"\u001b[0m\u001b[1;33m:\u001b[0m\u001b[1;34m\"Time\"\u001b[0m\u001b[1;33m}\u001b[0m\u001b[1;33m)\u001b[0m\u001b[1;33m\u001b[0m\u001b[1;33m\u001b[0m\u001b[0m\n\u001b[1;32m--> 117\u001b[1;33m         \u001b[0magyw_prevII_pivot\u001b[0m \u001b[1;33m=\u001b[0m \u001b[0mpivotableII\u001b[0m\u001b[1;33m.\u001b[0m\u001b[0mpivot_table\u001b[0m\u001b[1;33m(\u001b[0m\u001b[0mindex\u001b[0m\u001b[1;33m=\u001b[0m\u001b[1;34m\"Age\"\u001b[0m\u001b[1;33m,\u001b[0m\u001b[0mcolumns\u001b[0m\u001b[1;33m=\u001b[0m\u001b[1;34m\"Time\"\u001b[0m\u001b[1;33m,\u001b[0m \u001b[0mvalues\u001b[0m\u001b[1;33m=\u001b[0m\u001b[1;34m\"code\"\u001b[0m\u001b[1;33m,\u001b[0m\u001b[0maggfunc\u001b[0m\u001b[1;33m=\u001b[0m\u001b[1;34m\"count\"\u001b[0m\u001b[1;33m,\u001b[0m\u001b[0mfill_value\u001b[0m\u001b[1;33m=\u001b[0m\u001b[1;36m0\u001b[0m\u001b[1;33m,\u001b[0m\u001b[0mmargins\u001b[0m\u001b[1;33m=\u001b[0m\u001b[1;32mTrue\u001b[0m\u001b[1;33m,\u001b[0m\u001b[0mmargins_name\u001b[0m\u001b[1;33m=\u001b[0m\u001b[1;34m\"Total\"\u001b[0m\u001b[1;33m)\u001b[0m\u001b[1;33m\u001b[0m\u001b[1;33m\u001b[0m\u001b[0m\n\u001b[0m\u001b[0;32m    118\u001b[0m         \u001b[0magyw_prevII_pivot_final\u001b[0m \u001b[1;33m=\u001b[0m \u001b[0magyw_prevII_pivot\u001b[0m\u001b[1;33m.\u001b[0m\u001b[0mreset_index\u001b[0m\u001b[1;33m(\u001b[0m\u001b[1;33m)\u001b[0m\u001b[1;33m.\u001b[0m\u001b[0mrename_axis\u001b[0m\u001b[1;33m(\u001b[0m\u001b[1;32mNone\u001b[0m\u001b[1;33m,\u001b[0m \u001b[0maxis\u001b[0m\u001b[1;33m=\u001b[0m\u001b[1;36m1\u001b[0m\u001b[1;33m)\u001b[0m\u001b[1;33m[\u001b[0m\u001b[1;33m:\u001b[0m\u001b[1;33m-\u001b[0m\u001b[1;36m1\u001b[0m\u001b[1;33m]\u001b[0m\u001b[1;33m\u001b[0m\u001b[1;33m\u001b[0m\u001b[0m\n\u001b[0;32m    119\u001b[0m         \u001b[1;32mreturn\u001b[0m \u001b[0mDataFrame\u001b[0m\u001b[1;33m(\u001b[0m \u001b[0magyw_prevII_pivot_final\u001b[0m\u001b[1;33m.\u001b[0m\u001b[0mto_records\u001b[0m\u001b[1;33m(\u001b[0m\u001b[0mindex\u001b[0m\u001b[1;33m=\u001b[0m\u001b[1;32mFalse\u001b[0m\u001b[1;33m)\u001b[0m\u001b[1;33m)\u001b[0m\u001b[1;33m\u001b[0m\u001b[1;33m\u001b[0m\u001b[0m\n",
      "\u001b[1;32m~\\AppData\\Local\\Programs\\Python\\Python39\\lib\\site-packages\\pandas\\core\\frame.py\u001b[0m in \u001b[0;36mpivot_table\u001b[1;34m(self, values, index, columns, aggfunc, fill_value, margins, dropna, margins_name, observed)\u001b[0m\n\u001b[0;32m   7029\u001b[0m         \u001b[1;32mfrom\u001b[0m \u001b[0mpandas\u001b[0m\u001b[1;33m.\u001b[0m\u001b[0mcore\u001b[0m\u001b[1;33m.\u001b[0m\u001b[0mreshape\u001b[0m\u001b[1;33m.\u001b[0m\u001b[0mpivot\u001b[0m \u001b[1;32mimport\u001b[0m \u001b[0mpivot_table\u001b[0m\u001b[1;33m\u001b[0m\u001b[1;33m\u001b[0m\u001b[0m\n\u001b[0;32m   7030\u001b[0m \u001b[1;33m\u001b[0m\u001b[0m\n\u001b[1;32m-> 7031\u001b[1;33m         return pivot_table(\n\u001b[0m\u001b[0;32m   7032\u001b[0m             \u001b[0mself\u001b[0m\u001b[1;33m,\u001b[0m\u001b[1;33m\u001b[0m\u001b[1;33m\u001b[0m\u001b[0m\n\u001b[0;32m   7033\u001b[0m             \u001b[0mvalues\u001b[0m\u001b[1;33m=\u001b[0m\u001b[0mvalues\u001b[0m\u001b[1;33m,\u001b[0m\u001b[1;33m\u001b[0m\u001b[1;33m\u001b[0m\u001b[0m\n",
      "\u001b[1;32m~\\AppData\\Local\\Programs\\Python\\Python39\\lib\\site-packages\\pandas\\core\\reshape\\pivot.py\u001b[0m in \u001b[0;36mpivot_table\u001b[1;34m(data, values, index, columns, aggfunc, fill_value, margins, dropna, margins_name, observed)\u001b[0m\n\u001b[0;32m    170\u001b[0m         \u001b[1;32mif\u001b[0m \u001b[0mdropna\u001b[0m\u001b[1;33m:\u001b[0m\u001b[1;33m\u001b[0m\u001b[1;33m\u001b[0m\u001b[0m\n\u001b[0;32m    171\u001b[0m             \u001b[0mdata\u001b[0m \u001b[1;33m=\u001b[0m \u001b[0mdata\u001b[0m\u001b[1;33m[\u001b[0m\u001b[0mdata\u001b[0m\u001b[1;33m.\u001b[0m\u001b[0mnotna\u001b[0m\u001b[1;33m(\u001b[0m\u001b[1;33m)\u001b[0m\u001b[1;33m.\u001b[0m\u001b[0mall\u001b[0m\u001b[1;33m(\u001b[0m\u001b[0maxis\u001b[0m\u001b[1;33m=\u001b[0m\u001b[1;36m1\u001b[0m\u001b[1;33m)\u001b[0m\u001b[1;33m]\u001b[0m\u001b[1;33m\u001b[0m\u001b[1;33m\u001b[0m\u001b[0m\n\u001b[1;32m--> 172\u001b[1;33m         table = _add_margins(\n\u001b[0m\u001b[0;32m    173\u001b[0m             \u001b[0mtable\u001b[0m\u001b[1;33m,\u001b[0m\u001b[1;33m\u001b[0m\u001b[1;33m\u001b[0m\u001b[0m\n\u001b[0;32m    174\u001b[0m             \u001b[0mdata\u001b[0m\u001b[1;33m,\u001b[0m\u001b[1;33m\u001b[0m\u001b[1;33m\u001b[0m\u001b[0m\n",
      "\u001b[1;32m~\\AppData\\Local\\Programs\\Python\\Python39\\lib\\site-packages\\pandas\\core\\reshape\\pivot.py\u001b[0m in \u001b[0;36m_add_margins\u001b[1;34m(table, data, values, rows, cols, aggfunc, observed, margins_name, fill_value)\u001b[0m\n\u001b[0;32m    240\u001b[0m \u001b[1;33m\u001b[0m\u001b[0m\n\u001b[0;32m    241\u001b[0m     \u001b[1;32melif\u001b[0m \u001b[0mvalues\u001b[0m\u001b[1;33m:\u001b[0m\u001b[1;33m\u001b[0m\u001b[1;33m\u001b[0m\u001b[0m\n\u001b[1;32m--> 242\u001b[1;33m         marginal_result_set = _generate_marginal_results(\n\u001b[0m\u001b[0;32m    243\u001b[0m             \u001b[0mtable\u001b[0m\u001b[1;33m,\u001b[0m \u001b[0mdata\u001b[0m\u001b[1;33m,\u001b[0m \u001b[0mvalues\u001b[0m\u001b[1;33m,\u001b[0m \u001b[0mrows\u001b[0m\u001b[1;33m,\u001b[0m \u001b[0mcols\u001b[0m\u001b[1;33m,\u001b[0m \u001b[0maggfunc\u001b[0m\u001b[1;33m,\u001b[0m \u001b[0mobserved\u001b[0m\u001b[1;33m,\u001b[0m \u001b[0mmargins_name\u001b[0m\u001b[1;33m\u001b[0m\u001b[1;33m\u001b[0m\u001b[0m\n\u001b[0;32m    244\u001b[0m         )\n",
      "\u001b[1;32m~\\AppData\\Local\\Programs\\Python\\Python39\\lib\\site-packages\\pandas\\core\\reshape\\pivot.py\u001b[0m in \u001b[0;36m_generate_marginal_results\u001b[1;34m(table, data, values, rows, cols, aggfunc, observed, margins_name)\u001b[0m\n\u001b[0;32m    346\u001b[0m                 \u001b[0mmargin_keys\u001b[0m\u001b[1;33m.\u001b[0m\u001b[0mappend\u001b[0m\u001b[1;33m(\u001b[0m\u001b[0mall_key\u001b[0m\u001b[1;33m)\u001b[0m\u001b[1;33m\u001b[0m\u001b[1;33m\u001b[0m\u001b[0m\n\u001b[0;32m    347\u001b[0m \u001b[1;33m\u001b[0m\u001b[0m\n\u001b[1;32m--> 348\u001b[1;33m         \u001b[0mresult\u001b[0m \u001b[1;33m=\u001b[0m \u001b[0mconcat\u001b[0m\u001b[1;33m(\u001b[0m\u001b[0mtable_pieces\u001b[0m\u001b[1;33m,\u001b[0m \u001b[0maxis\u001b[0m\u001b[1;33m=\u001b[0m\u001b[0mcat_axis\u001b[0m\u001b[1;33m)\u001b[0m\u001b[1;33m\u001b[0m\u001b[1;33m\u001b[0m\u001b[0m\n\u001b[0m\u001b[0;32m    349\u001b[0m \u001b[1;33m\u001b[0m\u001b[0m\n\u001b[0;32m    350\u001b[0m         \u001b[1;32mif\u001b[0m \u001b[0mlen\u001b[0m\u001b[1;33m(\u001b[0m\u001b[0mrows\u001b[0m\u001b[1;33m)\u001b[0m \u001b[1;33m==\u001b[0m \u001b[1;36m0\u001b[0m\u001b[1;33m:\u001b[0m\u001b[1;33m\u001b[0m\u001b[1;33m\u001b[0m\u001b[0m\n",
      "\u001b[1;32m~\\AppData\\Local\\Programs\\Python\\Python39\\lib\\site-packages\\pandas\\core\\reshape\\concat.py\u001b[0m in \u001b[0;36mconcat\u001b[1;34m(objs, axis, join, ignore_index, keys, levels, names, verify_integrity, sort, copy)\u001b[0m\n\u001b[0;32m    283\u001b[0m     \u001b[0mValueError\u001b[0m\u001b[1;33m:\u001b[0m \u001b[0mIndexes\u001b[0m \u001b[0mhave\u001b[0m \u001b[0moverlapping\u001b[0m \u001b[0mvalues\u001b[0m\u001b[1;33m:\u001b[0m \u001b[1;33m[\u001b[0m\u001b[1;34m'a'\u001b[0m\u001b[1;33m]\u001b[0m\u001b[1;33m\u001b[0m\u001b[1;33m\u001b[0m\u001b[0m\n\u001b[0;32m    284\u001b[0m     \"\"\"\n\u001b[1;32m--> 285\u001b[1;33m     op = _Concatenator(\n\u001b[0m\u001b[0;32m    286\u001b[0m         \u001b[0mobjs\u001b[0m\u001b[1;33m,\u001b[0m\u001b[1;33m\u001b[0m\u001b[1;33m\u001b[0m\u001b[0m\n\u001b[0;32m    287\u001b[0m         \u001b[0maxis\u001b[0m\u001b[1;33m=\u001b[0m\u001b[0maxis\u001b[0m\u001b[1;33m,\u001b[0m\u001b[1;33m\u001b[0m\u001b[1;33m\u001b[0m\u001b[0m\n",
      "\u001b[1;32m~\\AppData\\Local\\Programs\\Python\\Python39\\lib\\site-packages\\pandas\\core\\reshape\\concat.py\u001b[0m in \u001b[0;36m__init__\u001b[1;34m(self, objs, axis, join, keys, levels, names, ignore_index, verify_integrity, copy, sort)\u001b[0m\n\u001b[0;32m    340\u001b[0m \u001b[1;33m\u001b[0m\u001b[0m\n\u001b[0;32m    341\u001b[0m         \u001b[1;32mif\u001b[0m \u001b[0mlen\u001b[0m\u001b[1;33m(\u001b[0m\u001b[0mobjs\u001b[0m\u001b[1;33m)\u001b[0m \u001b[1;33m==\u001b[0m \u001b[1;36m0\u001b[0m\u001b[1;33m:\u001b[0m\u001b[1;33m\u001b[0m\u001b[1;33m\u001b[0m\u001b[0m\n\u001b[1;32m--> 342\u001b[1;33m             \u001b[1;32mraise\u001b[0m \u001b[0mValueError\u001b[0m\u001b[1;33m(\u001b[0m\u001b[1;34m\"No objects to concatenate\"\u001b[0m\u001b[1;33m)\u001b[0m\u001b[1;33m\u001b[0m\u001b[1;33m\u001b[0m\u001b[0m\n\u001b[0m\u001b[0;32m    343\u001b[0m \u001b[1;33m\u001b[0m\u001b[0m\n\u001b[0;32m    344\u001b[0m         \u001b[1;32mif\u001b[0m \u001b[0mkeys\u001b[0m \u001b[1;32mis\u001b[0m \u001b[1;32mNone\u001b[0m\u001b[1;33m:\u001b[0m\u001b[1;33m\u001b[0m\u001b[1;33m\u001b[0m\u001b[0m\n",
      "\u001b[1;31mValueError\u001b[0m: No objects to concatenate"
     ]
    }
   ],
   "source": [
    "%%capture\n",
    "for wscommunes, dcommunes in zip(worksheets,datimcommunes):\n",
    "    wscommunes['A1'].fill = blue_fill\n",
    "    wscommunes['A9'].fill = blue_fill\n",
    "    wscommunes['A17'].fill = blue_fill\n",
    "    for rows in wscommunes.iter_rows(min_row=7,max_row=7,min_col=1,max_col=40):\n",
    "        for cell in rows:\n",
    "            cell.fill = red_fill\n",
    "    for rows in wscommunes.iter_rows(min_row=8,max_row=8,min_col=1,max_col=40):\n",
    "        for cell in rows:\n",
    "            cell.fill = red_fill\n",
    "    for rows in wscommunes.iter_rows(min_row=15,max_row=15,min_col=1,max_col=40):\n",
    "        for cell in rows:\n",
    "            cell.fill = red_fill\n",
    "    for rows in wscommunes.iter_rows(min_row=16,max_row=16,min_col=1,max_col=40):\n",
    "        for cell in rows:\n",
    "            cell.fill = red_fill\n",
    "\n",
    "    wscommunes.merge_cells(\"B1:C1\")\n",
    "    wscommunes.cell(row=1,column=2).value = AgywPrevCommune.datim_titleI()\n",
    "    wscommunes.cell(row=1,column=2).font = bold_12\n",
    "    wscommunes.cell(row=1,column=2).alignment =  text_datim_title\n",
    "    wscommunes.merge_cells(\"B9:C9\")\n",
    "    wscommunes.cell(row=9,column=2).value = AgywPrevCommune.datim_titleII()\n",
    "    wscommunes.cell(row=9,column=2).font = bold_12\n",
    "    wscommunes.cell(row=9,column=2).alignment =  text_datim_title\n",
    "    wscommunes.merge_cells(\"B17:C17\")\n",
    "    wscommunes.cell(row=17,column=2).value = AgywPrevCommune.datim_titleIII()\n",
    "    wscommunes.cell(row=17,column=2).font = bold_12\n",
    "    wscommunes.cell(row=17,column=2).alignment =  text_datim_title\n",
    "    wscommunes['G5'] = dcommunes.total_datimI\n",
    "    wscommunes['G13'] = dcommunes.total_datimII\n",
    "    wscommunes['G20'] = dcommunes.total_datimIII\n",
    "    wscommunes['I13'] = dcommunes.total_datim_general\n",
    "\n",
    "    for ridx, row in enumerate(dataframe_to_rows(dcommunes.datim_agyw_prevI(),index=False,header=True),1):\n",
    "        for cidx, value in enumerate(row,1):\n",
    "            cells = wscommunes.cell(ridx+1,cidx,value)\n",
    "            cells.border = thin_border\n",
    "            cells\n",
    "\n",
    "    for ridx, row in enumerate(dataframe_to_rows(dcommunes.datim_agyw_prevII(),index=False,header=True),1):\n",
    "        for cidx, value in enumerate(row,1):\n",
    "            cells = wscommunes.cell(ridx+9,cidx,value)\n",
    "            cells.border = thin_border\n",
    "            cells\n",
    "\n",
    "    for ridx, row in enumerate(dataframe_to_rows(dcommunes.datim_agyw_prevIII(),index=False,header=True),1):\n",
    "        for cidx, value in enumerate(row,1):\n",
    "            cells = wscommunes.cell(ridx+17,cidx,value)\n",
    "            cells.border = thin_border\n",
    "            cells\n"
   ]
  },
  {
   "cell_type": "code",
   "execution_count": 15,
   "metadata": {},
   "outputs": [],
   "source": [
    "wb.save(\"test_AGYWPREV.xlsx\")"
   ]
  },
  {
   "source": [
    "%%capture\n",
    "for columns in datim.mastersheet_dataframe.actual_commune.unique():\n",
    "    globals()[f\"ws_{name_handler(columns)}\"] = wb.create_sheet(title=AgywPrevCommune(f\"{columns}\").who_am_i)\n",
    "    globals()[f\"datim_{name_handler(columns)}\"] =AgywPrevCommune(f\"{columns}\")\n",
    "  \n",
    "    globals().get(f\"ws_{name_handler(columns)}\")['A1'].fill = blue_fill\n",
    "    globals().get(f\"ws_{name_handler(columns)}\")['A9'].fill = blue_fill\n",
    "    globals().get(f\"ws_{name_handler(columns)}\")['A17'].fill = blue_fill\n",
    "\n",
    "    for rows in globals().get(f\"ws_{name_handler(columns)}\").iter_rows(min_row=7,max_row=7,min_col=1,max_col=40):\n",
    "        for cell in rows:\n",
    "            cell.fill = red_fill\n",
    "    for rows in globals().get(f\"ws_{name_handler(columns)}\").iter_rows(min_row=8,max_row=8,min_col=1,max_col=40):\n",
    "        for cell in rows:\n",
    "            cell.fill = red_fill\n",
    "    for rows in globals().get(f\"ws_{name_handler(columns)}\").iter_rows(min_row=15,max_row=15,min_col=1,max_col=40):\n",
    "        for cell in rows:\n",
    "            cell.fill = red_fill\n",
    "    for rows in globals().get(f\"ws_{name_handler(columns)}\").iter_rows(min_row=16,max_row=16,min_col=1,max_col=40):\n",
    "        for cell in rows:\n",
    "            cell.fill = red_fill\n",
    "\n",
    "    globals().get(f\"ws_{name_handler(columns)}\").merge_cells(\"B1:C1\")\n",
    "    globals().get(f\"ws_{name_handler(columns)}\").cell(row=1,column=2).value = AgywPrevCommune.datim_titleI()\n",
    "    globals().get(f\"ws_{name_handler(columns)}\").cell(row=1,column=2).font = bold_12\n",
    "    globals().get(f\"ws_{name_handler(columns)}\").cell(row=1,column=2).alignment =  text_datim_title\n",
    "    globals().get(f\"ws_{name_handler(columns)}\").merge_cells(\"B9:C9\")\n",
    "    globals().get(f\"ws_{name_handler(columns)}\").cell(row=9,column=2).value = AgywPrevCommune.datim_titleII()\n",
    "    globals().get(f\"ws_{name_handler(columns)}\").cell(row=9,column=2).font = bold_12\n",
    "    globals().get(f\"ws_{name_handler(columns)}\").cell(row=9,column=2).alignment =  text_datim_title\n",
    "    globals().get(f\"ws_{name_handler(columns)}\").merge_cells(\"B17:C17\")\n",
    "    globals().get(f\"ws_{name_handler(columns)}\").cell(row=17,column=2).value = AgywPrevCommune.datim_titleIII()\n",
    "    globals().get(f\"ws_{name_handler(columns)}\").cell(row=17,column=2).font = bold_12\n",
    "    globals().get(f\"ws_{name_handler(columns)}\").cell(row=17,column=2).alignment =  text_datim_title\n",
    "    globals().get(f\"ws_{name_handler(columns)}\")['G5'] = globals().get(f\"datim_{name_handler(columns)}\").total_datimI\n",
    "    globals().get(f\"ws_{name_handler(columns)}\")['G13'] = globals().get(f\"datim_{name_handler(columns)}\").total_datimII\n",
    "    globals().get(f\"ws_{name_handler(columns)}\")['G20'] = globals().get(f\"datim_{name_handler(columns)}\").total_datimIII\n",
    "    globals().get(f\"ws_{name_handler(columns)}\")['I13'] = globals().get(f\"datim_{name_handler(columns)}\").total_datim_general\n",
    "    \n",
    "    #for ridx, row in enumerate(dataframe_to_rows(globals().get(f\"datim_{name_handler(columns)}\").datim_agyw_prevI(),index=False,header=True),1):\n",
    "     #   for cidx, value in enumerate(row,1):\n",
    "      #      cells = globals().get(f\"ws_{name_handler(columns)}\").cell(ridx+1,cidx,value)\n",
    "       #     cells.border = thin_border\n",
    "        #    cells\n",
    "\n",
    "    #for ridx, row in enumerate(dataframe_to_rows(globals().get(f\"datim_{name_handler(columns)}\").datim_agyw_prevII(),index=False,header=True),1):\n",
    "     #   for cidx, value in enumerate(row,1):\n",
    "      #      cells = globals().get(f\"ws_{name_handler(columns)}\").cell(ridx+9,cidx,value)\n",
    "       #     cells.border = thin_border\n",
    "        #    cells\n",
    "\n",
    "    #for ridx, row in enumerate(dataframe_to_rows(globals().get(f\"datim_{name_handler(columns)}\").datim_agyw_prevIII(),index=False,header=True),1):\n",
    "     #   for cidx, value in enumerate(row,1):\n",
    "      #      cells = globals().get(f\"ws_{name_handler(columns)}\").cell(ridx+17,cidx,value)\n",
    "       #     cells.border = thin_border\n",
    "        #    cells\n",
    "\n"
   ],
   "cell_type": "markdown",
   "metadata": {}
  },
  {
   "cell_type": "code",
   "execution_count": 32,
   "metadata": {},
   "outputs": [],
   "source": []
  },
  {
   "cell_type": "code",
   "execution_count": 39,
   "metadata": {},
   "outputs": [],
   "source": []
  }
 ],
 "metadata": {
  "kernelspec": {
   "name": "python392jvsc74a57bd04534460e0bdca1b390927d45471088fb3501d39abc4e3f2cee293892e17d7fc6",
   "display_name": "Python 3.9.2 64-bit"
  },
  "language_info": {
   "codemirror_mode": {
    "name": "ipython",
    "version": 3
   },
   "file_extension": ".py",
   "mimetype": "text/x-python",
   "name": "python",
   "nbconvert_exporter": "python",
   "pygments_lexer": "ipython3",
   "version": "3.9.2"
  }
 },
 "nbformat": 4,
 "nbformat_minor": 4
}