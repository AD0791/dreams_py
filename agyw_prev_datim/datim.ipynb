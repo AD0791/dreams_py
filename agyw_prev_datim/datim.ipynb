{
 "metadata": {
  "language_info": {
   "codemirror_mode": {
    "name": "ipython",
    "version": 3
   },
   "file_extension": ".py",
   "mimetype": "text/x-python",
   "name": "python",
   "nbconvert_exporter": "python",
   "pygments_lexer": "ipython3",
   "version": "3.9.2"
  },
  "orig_nbformat": 2,
  "kernelspec": {
   "name": "python392jvsc74a57bd04534460e0bdca1b390927d45471088fb3501d39abc4e3f2cee293892e17d7fc6",
   "display_name": "Python 3.9.2 64-bit"
  }
 },
 "nbformat": 4,
 "nbformat_minor": 2,
 "cells": [
  {
   "cell_type": "code",
   "execution_count": 1,
   "metadata": {},
   "outputs": [],
   "source": [
    "from agyw import AgywPrev, AgywPrevCommune\n",
    "from IPython.core.interactiveshell import InteractiveShell\n",
    "InteractiveShell.ast_node_interactivity = \"all\""
   ]
  },
  {
   "source": [
    "from openpyxl import Workbook\n",
    "from openpyxl.styles.colors import Color\n",
    "from openpyxl.styles.fills import PatternFill\n",
    "from openpyxl.styles import Font\n",
    "from openpyxl.styles.alignment import Alignment\n",
    "from openpyxl.utils.dataframe import dataframe_to_rows\n"
   ],
   "cell_type": "code",
   "metadata": {},
   "execution_count": 2,
   "outputs": []
  },
  {
   "source": [
    "# Build Excel Datim / Communes"
   ],
   "cell_type": "markdown",
   "metadata": {}
  },
  {
   "cell_type": "code",
   "execution_count": 3,
   "metadata": {},
   "outputs": [],
   "source": [
    "%%capture\n",
    "datim = AgywPrev()"
   ]
  },
  {
   "cell_type": "code",
   "execution_count": 12,
   "metadata": {},
   "outputs": [],
   "source": [
    "wb = Workbook()"
   ]
  },
  {
   "cell_type": "code",
   "execution_count": 13,
   "metadata": {},
   "outputs": [],
   "source": [
    "ws = wb.active\n",
    "ws.title = datim.who_am_i"
   ]
  },
  {
   "cell_type": "code",
   "execution_count": 14,
   "metadata": {},
   "outputs": [],
   "source": [
    "%%capture\n",
    "for columns in datim.mastersheet_dataframe.actual_commune.unique():\n",
    "    globals()[f\"ws_{columns.replace('-','_')}\"] = wb.create_sheet(title=AgywPrevCommune(f\"{columns}\").who_am_i)"
   ]
  },
  {
   "cell_type": "code",
   "execution_count": 15,
   "metadata": {},
   "outputs": [
    {
     "output_type": "execute_result",
     "data": {
      "text/plain": [
       "['DATIM',\n",
       " 'DATIM Verrettes',\n",
       " 'DATIM Delmas',\n",
       " 'DATIM Port-au-Prince',\n",
       " 'DATIM Carrefour',\n",
       " 'DATIM Limonade',\n",
       " 'DATIM Plaine-du-Nord',\n",
       " 'DATIM Cap-Haïtien',\n",
       " 'DATIM Kenscoff',\n",
       " 'DATIM Dessalines',\n",
       " 'DATIM Pétionville',\n",
       " 'DATIM Gressier',\n",
       " 'DATIM Saint-Marc',\n",
       " 'DATIM Tabarre',\n",
       " 'DATIM La Chapelle',\n",
       " 'DATIM Milot',\n",
       " 'DATIM Liancourt',\n",
       " 'DATIM Quartier-Morin',\n",
       " \"DATIM Petite Rivière de l'Artibonite\",\n",
       " 'DATIM Grande Saline',\n",
       " 'DATIM Montrouis',\n",
       " 'DATIM Desdunes']"
      ]
     },
     "metadata": {},
     "execution_count": 15
    }
   ],
   "source": [
    "wb.sheetnames"
   ]
  },
  {
   "source": [
    "## Focus on the Datim Worksheet"
   ],
   "cell_type": "markdown",
   "metadata": {}
  },
  {
   "cell_type": "code",
   "execution_count": 16,
   "metadata": {},
   "outputs": [],
   "source": [
    "my_blue = Color(rgb=\"0000FF\")\n",
    "blue_fill = PatternFill(patternType=\"solid\",fgColor=my_blue)\n",
    "my_red = Color(rgb=\"FF0000\")\n",
    "red_fill = PatternFill(patternType=\"solid\",fgColor=my_red)\n",
    "bold_12 = Font(size=12,bold=True)\n",
    "text_center = Alignment(horizontal=\"center\",vertical=\"center\")\n"
   ]
  },
  {
   "cell_type": "code",
   "execution_count": 19,
   "metadata": {},
   "outputs": [],
   "source": [
    "ws['A1'].fill = blue_fill\n",
    "ws['A9'].fill = blue_fill\n",
    "ws['A17'].fill = blue_fill\n",
    "\n",
    "for rows in ws.iter_rows(min_row=7,max_row=7,min_col=1,max_col=40):\n",
    "    for cell in rows:\n",
    "        cell.fill = red_fill\n",
    "for rows in ws.iter_rows(min_row=8,max_row=8,min_col=1,max_col=40):\n",
    "    for cell in rows:\n",
    "        cell.fill = red_fill\n",
    "for rows in ws.iter_rows(min_row=15,max_row=15,min_col=1,max_col=40):\n",
    "    for cell in rows:\n",
    "        cell.fill = red_fill\n",
    "for rows in ws.iter_rows(min_row=16,max_row=16,min_col=1,max_col=40):\n",
    "    for cell in rows:\n",
    "        cell.fill = red_fill\n",
    "\n",
    "ws.merge_cells(\"B1:C1\")\n",
    "ws['B1'] = AgywPrev.datim_titleI()\n",
    "ws['B1'].font = bold_12\n",
    "ws['B1'].alignment = text_center\n",
    "\n",
    "ws.merge_cells(\"B9:C9\")\n",
    "ws['B9'] = AgywPrev.datim_titleII()\n",
    "ws['B9'].font = bold_12\n",
    "ws['B9'].alignment = text_center\n",
    "\n",
    "ws.merge_cells(\"B17:C17\")\n",
    "ws['B17'] = AgywPrev.datim_titleIII()\n",
    "ws['B17'].font = bold_12\n",
    "ws['B17'].alignment = text_center\n",
    "\n",
    "ws['E6'] = datim.total_datimI\n",
    "ws['E14'] = datim.total_datimII\n",
    "ws['E22'] = datim.total_datimIII\n",
    "ws['I14'] = datim.total_datim_general\n",
    "\n",
    "ws.merge_cells(\"A2:D6\")\n",
    "#ws[\"A2\"] = datim.datim_agyw_prevI()\n",
    "\n",
    "\n",
    "ws.merge_cells(\"A10:D14\")\n",
    "#ws[\"A10\"] = datim.datim_agyw_prevII()\n",
    "\n",
    "ws.merge_cells(\"A18:D22\")\n",
    "#ws[\"A18\"] = datim.datim_agyw_prevIII()\n"
   ]
  },
  {
   "cell_type": "code",
   "execution_count": 18,
   "metadata": {},
   "outputs": [],
   "source": [
    "wb.save(\"test_AGYWPREV.xlsx\")"
   ]
  },
  {
   "cell_type": "code",
   "execution_count": null,
   "metadata": {},
   "outputs": [],
   "source": []
  }
 ]
}