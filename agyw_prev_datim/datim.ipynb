{
 "cells": [
  {
   "cell_type": "code",
   "execution_count": 1,
   "source": [
    "from agyw import AgywPrev, AgywPrevCommune\r\n",
    "from re import sub\r\n",
    "from IPython.core.interactiveshell import InteractiveShell\r\n",
    "InteractiveShell.ast_node_interactivity = \"all\""
   ],
   "outputs": [],
   "metadata": {}
  },
  {
   "cell_type": "code",
   "execution_count": 2,
   "source": [
    "from openpyxl import Workbook\r\n",
    "from openpyxl.styles.colors import Color\r\n",
    "from openpyxl.styles.fills import PatternFill\r\n",
    "from openpyxl.styles import Font\r\n",
    "from openpyxl.styles.alignment import Alignment\r\n",
    "from openpyxl.utils.dataframe import dataframe_to_rows\r\n",
    "from openpyxl.styles.borders import Border, Side\r\n"
   ],
   "outputs": [],
   "metadata": {}
  },
  {
   "cell_type": "markdown",
   "source": [
    "# Build Excel Datim / Communes"
   ],
   "metadata": {}
  },
  {
   "cell_type": "code",
   "execution_count": 3,
   "source": [
    "%%capture\r\n",
    "datim = AgywPrev()"
   ],
   "outputs": [],
   "metadata": {}
  },
  {
   "cell_type": "code",
   "execution_count": 4,
   "source": [
    "my_blue = Color(rgb=\"0000FF\")\r\n",
    "blue_fill = PatternFill(patternType=\"solid\",fgColor=my_blue)\r\n",
    "my_red = Color(rgb=\"FF0000\")\r\n",
    "red_fill = PatternFill(patternType=\"solid\",fgColor=my_red)\r\n",
    "bold_12 = Font(size=12,bold=True)\r\n",
    "text_datim_title = Alignment(horizontal=\"center\",vertical=\"bottom\",wrapText=True)\r\n",
    "thin_border = Border(left=Side(style='thin'), \r\n",
    "                     right=Side(style='thin'), \r\n",
    "                     top=Side(style='thin'), \r\n",
    "                     bottom=Side(style='thin'))"
   ],
   "outputs": [],
   "metadata": {}
  },
  {
   "cell_type": "code",
   "execution_count": 5,
   "source": [
    "%%capture\r\n",
    "wb = Workbook()\r\n",
    "ws = wb.active\r\n",
    "ws.title = datim.who_am_i\r\n",
    "\r\n",
    "ws['A1'].fill = blue_fill\r\n",
    "ws['A9'].fill = blue_fill\r\n",
    "ws['A17'].fill = blue_fill\r\n",
    "\r\n",
    "for rows in ws.iter_rows(min_row=7,max_row=7,min_col=1,max_col=40):\r\n",
    "    for cell in rows:\r\n",
    "        cell.fill = red_fill\r\n",
    "for rows in ws.iter_rows(min_row=8,max_row=8,min_col=1,max_col=40):\r\n",
    "    for cell in rows:\r\n",
    "        cell.fill = red_fill\r\n",
    "for rows in ws.iter_rows(min_row=15,max_row=15,min_col=1,max_col=40):\r\n",
    "    for cell in rows:\r\n",
    "        cell.fill = red_fill\r\n",
    "for rows in ws.iter_rows(min_row=16,max_row=16,min_col=1,max_col=40):\r\n",
    "    for cell in rows:\r\n",
    "        cell.fill = red_fill\r\n",
    "\r\n",
    "ws.merge_cells(\"B1:C1\")\r\n",
    "ws.cell(row=1,column=2).value = AgywPrev.datim_titleI()\r\n",
    "ws.cell(row=1,column=2).font = bold_12\r\n",
    "ws.cell(row=1,column=2).alignment =  text_datim_title\r\n",
    "\r\n",
    "ws.merge_cells(\"B9:C9\")\r\n",
    "ws.cell(row=9,column=2).value = AgywPrev.datim_titleII()\r\n",
    "ws.cell(row=9,column=2).font = bold_12\r\n",
    "ws.cell(row=9,column=2).alignment =  text_datim_title\r\n",
    "\r\n",
    "ws.merge_cells(\"B17:C17\")\r\n",
    "ws.cell(row=17,column=2).value = AgywPrev.datim_titleIII()\r\n",
    "ws.cell(row=17,column=2).font = bold_12\r\n",
    "ws.cell(row=17,column=2).alignment =  text_datim_title\r\n",
    "\r\n",
    "ws['G5'] = datim.total_datimI\r\n",
    "ws['G13'] = datim.total_datimII\r\n",
    "ws['G20'] = datim.total_datimIII\r\n",
    "ws['I13'] = datim.total_datim_general\r\n",
    "\r\n",
    "rdf_datim_I = dataframe_to_rows(datim.datim_agyw_prevI(),index=False,header=True)\r\n",
    "for ridx, row in enumerate(rdf_datim_I,1):\r\n",
    "    for cidx, value in enumerate(row,1):\r\n",
    "        cells = ws.cell(ridx+1,cidx,value)\r\n",
    "        cells.border = thin_border\r\n",
    "        cells\r\n",
    "\r\n",
    "rdf_datim_II = dataframe_to_rows(datim.datim_agyw_prevII(),index=False,header=True)\r\n",
    "for ridx, row in enumerate(rdf_datim_II,1):\r\n",
    "    for cidx, value in enumerate(row,1):\r\n",
    "        cells = ws.cell(ridx+9,cidx,value)\r\n",
    "        cells.border = thin_border\r\n",
    "        cells\r\n",
    "\r\n",
    "rdf_datim_III = dataframe_to_rows(datim.datim_agyw_prevIII(),index=False,header=True)\r\n",
    "for ridx, row in enumerate(rdf_datim_III,1):\r\n",
    "    for cidx, value in enumerate(row,1):\r\n",
    "        cells = ws.cell(ridx+17,cidx,value)\r\n",
    "        cells.border = thin_border\r\n",
    "        cells\r\n"
   ],
   "outputs": [],
   "metadata": {}
  },
  {
   "cell_type": "code",
   "execution_count": 6,
   "source": [
    "#wb.sheetnames\r\n",
    "\r\n",
    "def name_handler(s):\r\n",
    "    s = sub(r\"[^\\w\\s]\", '', s)\r\n",
    "    # Replace all runs of whitespace with a single dash\r\n",
    "    s = sub(r\"\\s+\", '_', s)\r\n",
    "    return s\r\n",
    "\r\n"
   ],
   "outputs": [],
   "metadata": {}
  },
  {
   "cell_type": "code",
   "execution_count": 7,
   "source": [
    "%%capture\r\n",
    "worksheets = []\r\n",
    "datimcommunes = []\r\n",
    "for columns in datim.data_mastersheet.actual_commune.unique():\r\n",
    "    globals()[f\"ws_{name_handler(columns)}\"] = wb.create_sheet(title=AgywPrevCommune(f\"{columns}\").who_am_i)\r\n",
    "    globals()[f\"datim_{name_handler(columns)}\"] =AgywPrevCommune(f\"{columns}\")\r\n",
    "    worksheets.append(globals().get(f\"ws_{name_handler(columns)}\"))\r\n",
    "    datimcommunes.append(globals().get(f\"datim_{name_handler(columns)}\"))\r\n"
   ],
   "outputs": [],
   "metadata": {}
  },
  {
   "cell_type": "code",
   "execution_count": 8,
   "source": [
    "worksheets\r\n",
    "datimcommunes"
   ],
   "outputs": [
    {
     "output_type": "execute_result",
     "data": {
      "text/plain": [
       "[<Worksheet \"DATIM Verrettes\">,\n",
       " <Worksheet \"DATIM Delmas\">,\n",
       " <Worksheet \"DATIM Port-au-Prince\">,\n",
       " <Worksheet \"DATIM Carrefour\">,\n",
       " <Worksheet \"DATIM Limonade\">,\n",
       " <Worksheet \"DATIM Plaine-du-Nord\">,\n",
       " <Worksheet \"DATIM Cap-Haïtien\">,\n",
       " <Worksheet \"DATIM Kenscoff\">,\n",
       " <Worksheet \"DATIM Dessalines\">,\n",
       " <Worksheet \"DATIM Pétionville\">,\n",
       " <Worksheet \"DATIM Gressier\">,\n",
       " <Worksheet \"DATIM Saint-Marc\">,\n",
       " <Worksheet \"DATIM Tabarre\">,\n",
       " <Worksheet \"DATIM La Chapelle\">,\n",
       " <Worksheet \"DATIM Milot\">,\n",
       " <Worksheet \"DATIM Liancourt\">,\n",
       " <Worksheet \"DATIM Quartier-Morin\">,\n",
       " <Worksheet \"DATIM Petite Rivière de l'Artibonite\">,\n",
       " <Worksheet \"DATIM Grande Saline\">,\n",
       " <Worksheet \"DATIM Montrouis\">,\n",
       " <Worksheet \"DATIM Desdunes\">]"
      ]
     },
     "metadata": {},
     "execution_count": 8
    },
    {
     "output_type": "execute_result",
     "data": {
      "text/plain": [
       "[<AgywPrevCommune DATIM Verrettes>,\n",
       " <AgywPrevCommune DATIM Delmas>,\n",
       " <AgywPrevCommune DATIM Port-au-Prince>,\n",
       " <AgywPrevCommune DATIM Carrefour>,\n",
       " <AgywPrevCommune DATIM Limonade>,\n",
       " <AgywPrevCommune DATIM Plaine-du-Nord>,\n",
       " <AgywPrevCommune DATIM Cap-Haïtien>,\n",
       " <AgywPrevCommune DATIM Kenscoff>,\n",
       " <AgywPrevCommune DATIM Dessalines>,\n",
       " <AgywPrevCommune DATIM Pétionville>,\n",
       " <AgywPrevCommune DATIM Gressier>,\n",
       " <AgywPrevCommune DATIM Saint-Marc>,\n",
       " <AgywPrevCommune DATIM Tabarre>,\n",
       " <AgywPrevCommune DATIM La Chapelle>,\n",
       " <AgywPrevCommune DATIM Milot>,\n",
       " <AgywPrevCommune DATIM Liancourt>,\n",
       " <AgywPrevCommune DATIM Quartier-Morin>,\n",
       " <AgywPrevCommune DATIM Petite Rivière de l'Artibonite>,\n",
       " <AgywPrevCommune DATIM Grande Saline>,\n",
       " <AgywPrevCommune DATIM Montrouis>,\n",
       " <AgywPrevCommune DATIM Desdunes>]"
      ]
     },
     "metadata": {},
     "execution_count": 8
    }
   ],
   "metadata": {}
  },
  {
   "cell_type": "code",
   "execution_count": 9,
   "source": [
    "%%capture\r\n",
    "for wscommunes, dcommunes in zip(worksheets,datimcommunes):\r\n",
    "    wscommunes['A1'].fill = blue_fill\r\n",
    "    wscommunes['A9'].fill = blue_fill\r\n",
    "    wscommunes['A17'].fill = blue_fill\r\n",
    "    for rows in wscommunes.iter_rows(min_row=7,max_row=7,min_col=1,max_col=40):\r\n",
    "        for cell in rows:\r\n",
    "            cell.fill = red_fill\r\n",
    "    for rows in wscommunes.iter_rows(min_row=8,max_row=8,min_col=1,max_col=40):\r\n",
    "        for cell in rows:\r\n",
    "            cell.fill = red_fill\r\n",
    "    for rows in wscommunes.iter_rows(min_row=15,max_row=15,min_col=1,max_col=40):\r\n",
    "        for cell in rows:\r\n",
    "            cell.fill = red_fill\r\n",
    "    for rows in wscommunes.iter_rows(min_row=16,max_row=16,min_col=1,max_col=40):\r\n",
    "        for cell in rows:\r\n",
    "            cell.fill = red_fill\r\n",
    "\r\n",
    "    wscommunes.merge_cells(\"B1:C1\")\r\n",
    "    wscommunes.cell(row=1,column=2).value = AgywPrevCommune.datim_titleI()\r\n",
    "    wscommunes.cell(row=1,column=2).font = bold_12\r\n",
    "    wscommunes.cell(row=1,column=2).alignment =  text_datim_title\r\n",
    "    wscommunes.merge_cells(\"B9:C9\")\r\n",
    "    wscommunes.cell(row=9,column=2).value = AgywPrevCommune.datim_titleII()\r\n",
    "    wscommunes.cell(row=9,column=2).font = bold_12\r\n",
    "    wscommunes.cell(row=9,column=2).alignment =  text_datim_title\r\n",
    "    wscommunes.merge_cells(\"B17:C17\")\r\n",
    "    wscommunes.cell(row=17,column=2).value = AgywPrevCommune.datim_titleIII()\r\n",
    "    wscommunes.cell(row=17,column=2).font = bold_12\r\n",
    "    wscommunes.cell(row=17,column=2).alignment =  text_datim_title\r\n",
    "    wscommunes['G5'] = dcommunes.total_datimI\r\n",
    "    wscommunes['G13'] = dcommunes.total_datimII\r\n",
    "    wscommunes['G20'] = dcommunes.total_datimIII\r\n",
    "    wscommunes['I13'] = dcommunes.total_datim_general\r\n",
    "\r\n",
    "    for ridx, row in enumerate(dataframe_to_rows(dcommunes.datim_agyw_prevI(),index=False,header=True),1):\r\n",
    "        for cidx, value in enumerate(row,1):\r\n",
    "            cells = wscommunes.cell(ridx+1,cidx,value)\r\n",
    "            cells.border = thin_border\r\n",
    "            cells\r\n",
    "\r\n",
    "    for ridx, row in enumerate(dataframe_to_rows(dcommunes.datim_agyw_prevII(),index=False,header=True),1):\r\n",
    "        for cidx, value in enumerate(row,1):\r\n",
    "            cells = wscommunes.cell(ridx+9,cidx,value)\r\n",
    "            cells.border = thin_border\r\n",
    "            cells\r\n",
    "\r\n",
    "    for ridx, row in enumerate(dataframe_to_rows(dcommunes.datim_agyw_prevIII(),index=False,header=True),1):\r\n",
    "        for cidx, value in enumerate(row,1):\r\n",
    "            cells = wscommunes.cell(ridx+17,cidx,value)\r\n",
    "            cells.border = thin_border\r\n",
    "            cells\r\n"
   ],
   "outputs": [],
   "metadata": {}
  },
  {
   "cell_type": "code",
   "execution_count": 10,
   "source": [
    "from datetime import datetime\r\n",
    "date_du_jour = datetime.today().strftime(\"%d_%m_%Y\")"
   ],
   "outputs": [],
   "metadata": {}
  },
  {
   "cell_type": "code",
   "execution_count": 11,
   "source": [
    "#wb.save(f\"AGYWPREV_{date_du_jour}.xlsx\")\r\n",
    "wb.save(f\"AGYWPREV_{date_du_jour}_Inception.xlsx\")"
   ],
   "outputs": [],
   "metadata": {}
  },
  {
   "cell_type": "markdown",
   "source": [
    "%%capture\n",
    "for columns in datim.mastersheet_dataframe.actual_commune.unique():\n",
    "    globals()[f\"ws_{name_handler(columns)}\"] = wb.create_sheet(title=AgywPrevCommune(f\"{columns}\").who_am_i)\n",
    "    globals()[f\"datim_{name_handler(columns)}\"] =AgywPrevCommune(f\"{columns}\")\n",
    "  \n",
    "    globals().get(f\"ws_{name_handler(columns)}\")['A1'].fill = blue_fill\n",
    "    globals().get(f\"ws_{name_handler(columns)}\")['A9'].fill = blue_fill\n",
    "    globals().get(f\"ws_{name_handler(columns)}\")['A17'].fill = blue_fill\n",
    "\n",
    "    for rows in globals().get(f\"ws_{name_handler(columns)}\").iter_rows(min_row=7,max_row=7,min_col=1,max_col=40):\n",
    "        for cell in rows:\n",
    "            cell.fill = red_fill\n",
    "    for rows in globals().get(f\"ws_{name_handler(columns)}\").iter_rows(min_row=8,max_row=8,min_col=1,max_col=40):\n",
    "        for cell in rows:\n",
    "            cell.fill = red_fill\n",
    "    for rows in globals().get(f\"ws_{name_handler(columns)}\").iter_rows(min_row=15,max_row=15,min_col=1,max_col=40):\n",
    "        for cell in rows:\n",
    "            cell.fill = red_fill\n",
    "    for rows in globals().get(f\"ws_{name_handler(columns)}\").iter_rows(min_row=16,max_row=16,min_col=1,max_col=40):\n",
    "        for cell in rows:\n",
    "            cell.fill = red_fill\n",
    "\n",
    "    globals().get(f\"ws_{name_handler(columns)}\").merge_cells(\"B1:C1\")\n",
    "    globals().get(f\"ws_{name_handler(columns)}\").cell(row=1,column=2).value = AgywPrevCommune.datim_titleI()\n",
    "    globals().get(f\"ws_{name_handler(columns)}\").cell(row=1,column=2).font = bold_12\n",
    "    globals().get(f\"ws_{name_handler(columns)}\").cell(row=1,column=2).alignment =  text_datim_title\n",
    "    globals().get(f\"ws_{name_handler(columns)}\").merge_cells(\"B9:C9\")\n",
    "    globals().get(f\"ws_{name_handler(columns)}\").cell(row=9,column=2).value = AgywPrevCommune.datim_titleII()\n",
    "    globals().get(f\"ws_{name_handler(columns)}\").cell(row=9,column=2).font = bold_12\n",
    "    globals().get(f\"ws_{name_handler(columns)}\").cell(row=9,column=2).alignment =  text_datim_title\n",
    "    globals().get(f\"ws_{name_handler(columns)}\").merge_cells(\"B17:C17\")\n",
    "    globals().get(f\"ws_{name_handler(columns)}\").cell(row=17,column=2).value = AgywPrevCommune.datim_titleIII()\n",
    "    globals().get(f\"ws_{name_handler(columns)}\").cell(row=17,column=2).font = bold_12\n",
    "    globals().get(f\"ws_{name_handler(columns)}\").cell(row=17,column=2).alignment =  text_datim_title\n",
    "    globals().get(f\"ws_{name_handler(columns)}\")['G5'] = globals().get(f\"datim_{name_handler(columns)}\").total_datimI\n",
    "    globals().get(f\"ws_{name_handler(columns)}\")['G13'] = globals().get(f\"datim_{name_handler(columns)}\").total_datimII\n",
    "    globals().get(f\"ws_{name_handler(columns)}\")['G20'] = globals().get(f\"datim_{name_handler(columns)}\").total_datimIII\n",
    "    globals().get(f\"ws_{name_handler(columns)}\")['I13'] = globals().get(f\"datim_{name_handler(columns)}\").total_datim_general\n",
    "    \n",
    "    #for ridx, row in enumerate(dataframe_to_rows(globals().get(f\"datim_{name_handler(columns)}\").datim_agyw_prevI(),index=False,header=True),1):\n",
    "     #   for cidx, value in enumerate(row,1):\n",
    "      #      cells = globals().get(f\"ws_{name_handler(columns)}\").cell(ridx+1,cidx,value)\n",
    "       #     cells.border = thin_border\n",
    "        #    cells\n",
    "\n",
    "    #for ridx, row in enumerate(dataframe_to_rows(globals().get(f\"datim_{name_handler(columns)}\").datim_agyw_prevII(),index=False,header=True),1):\n",
    "     #   for cidx, value in enumerate(row,1):\n",
    "      #      cells = globals().get(f\"ws_{name_handler(columns)}\").cell(ridx+9,cidx,value)\n",
    "       #     cells.border = thin_border\n",
    "        #    cells\n",
    "\n",
    "    #for ridx, row in enumerate(dataframe_to_rows(globals().get(f\"datim_{name_handler(columns)}\").datim_agyw_prevIII(),index=False,header=True),1):\n",
    "     #   for cidx, value in enumerate(row,1):\n",
    "      #      cells = globals().get(f\"ws_{name_handler(columns)}\").cell(ridx+17,cidx,value)\n",
    "       #     cells.border = thin_border\n",
    "        #    cells\n",
    "\n"
   ],
   "metadata": {}
  },
  {
   "cell_type": "code",
   "execution_count": null,
   "source": [],
   "outputs": [],
   "metadata": {}
  }
 ],
 "metadata": {
  "interpreter": {
   "hash": "4534460e0bdca1b390927d45471088fb3501d39abc4e3f2cee293892e17d7fc6"
  },
  "kernelspec": {
   "name": "python3",
   "display_name": "Python 3.9.6 64-bit"
  },
  "language_info": {
   "codemirror_mode": {
    "name": "ipython",
    "version": 3
   },
   "file_extension": ".py",
   "mimetype": "text/x-python",
   "name": "python",
   "nbconvert_exporter": "python",
   "pygments_lexer": "ipython3",
   "version": "3.9.6"
  }
 },
 "nbformat": 4,
 "nbformat_minor": 4
}