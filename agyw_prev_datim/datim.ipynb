{
 "cells": [
  {
   "cell_type": "code",
   "execution_count": null,
   "metadata": {},
   "outputs": [],
   "source": [
    "from agyw import AgywPrev, AgywPrevCommune\n",
    "from IPython.core.interactiveshell import InteractiveShell\n",
    "InteractiveShell.ast_node_interactivity = \"all\""
   ]
  },
  {
   "cell_type": "code",
   "execution_count": null,
   "metadata": {},
   "outputs": [],
   "source": [
    "from openpyxl import Workbook\n",
    "from openpyxl.styles.colors import Color\n",
    "from openpyxl.styles.fills import PatternFill\n",
    "from openpyxl.styles import Font\n",
    "from openpyxl.styles.alignment import Alignment\n",
    "from openpyxl.utils.dataframe import dataframe_to_rows\n"
   ]
  },
  {
   "cell_type": "markdown",
   "metadata": {},
   "source": [
    "# Build Excel Datim / Communes"
   ]
  },
  {
   "cell_type": "code",
   "execution_count": null,
   "metadata": {},
   "outputs": [],
   "source": [
    "%%capture\n",
    "datim = AgywPrev()"
   ]
  },
  {
   "cell_type": "code",
   "execution_count": null,
   "metadata": {},
   "outputs": [],
   "source": [
    "wb = Workbook()"
   ]
  },
  {
   "cell_type": "code",
   "execution_count": null,
   "metadata": {},
   "outputs": [],
   "source": [
    "ws = wb.active\n",
    "ws.title = datim.who_am_i"
   ]
  },
  {
   "cell_type": "code",
   "execution_count": null,
   "metadata": {},
   "outputs": [],
   "source": [
    "%%capture\n",
    "for columns in datim.mastersheet_dataframe.actual_commune.unique():\n",
    "    globals()[f\"ws_{columns.replace('-','_')}\"] = wb.create_sheet(title=AgywPrevCommune(f\"{columns}\").who_am_i)"
   ]
  },
  {
   "cell_type": "code",
   "execution_count": null,
   "metadata": {},
   "outputs": [],
   "source": [
    "wb.sheetnames"
   ]
  },
  {
   "cell_type": "markdown",
   "metadata": {},
   "source": [
    "## Focus on the Datim Worksheet"
   ]
  },
  {
   "cell_type": "code",
   "execution_count": null,
   "metadata": {},
   "outputs": [],
   "source": [
    "my_blue = Color(rgb=\"0000FF\")\n",
    "blue_fill = PatternFill(patternType=\"solid\",fgColor=my_blue)\n",
    "my_red = Color(rgb=\"FF0000\")\n",
    "red_fill = PatternFill(patternType=\"solid\",fgColor=my_red)\n",
    "bold_12 = Font(size=12,bold=True)\n",
    "text_center = Alignment(horizontal=\"center\",vertical=\"center\")\n"
   ]
  },
  {
   "cell_type": "code",
   "execution_count": null,
   "metadata": {},
   "outputs": [],
   "source": [
    "ws['A1'].fill = blue_fill\n",
    "ws['A9'].fill = blue_fill\n",
    "ws['A17'].fill = blue_fill\n",
    "\n",
    "for rows in ws.iter_rows(min_row=7,max_row=7,min_col=1,max_col=40):\n",
    "    for cell in rows:\n",
    "        cell.fill = red_fill\n",
    "for rows in ws.iter_rows(min_row=8,max_row=8,min_col=1,max_col=40):\n",
    "    for cell in rows:\n",
    "        cell.fill = red_fill\n",
    "for rows in ws.iter_rows(min_row=15,max_row=15,min_col=1,max_col=40):\n",
    "    for cell in rows:\n",
    "        cell.fill = red_fill\n",
    "for rows in ws.iter_rows(min_row=16,max_row=16,min_col=1,max_col=40):\n",
    "    for cell in rows:\n",
    "        cell.fill = red_fill\n",
    "\n",
    "ws.merge_cells(\"B1:C1\")\n",
    "ws['B1'] = AgywPrev.datim_titleI()\n",
    "ws['B1'].font = bold_12\n",
    "ws['B1'].alignment = text_center\n",
    "\n",
    "ws.merge_cells(\"B9:C9\")\n",
    "ws['B9'] = AgywPrev.datim_titleII()\n",
    "ws['B9'].font = bold_12\n",
    "ws['B9'].alignment = text_center\n",
    "\n",
    "ws.merge_cells(\"B17:C17\")\n",
    "ws['B17'] = AgywPrev.datim_titleIII()\n",
    "ws['B17'].font = bold_12\n",
    "ws['B17'].alignment = text_center\n",
    "\n",
    "ws['E6'] = datim.total_datimI\n",
    "ws['E14'] = datim.total_datimII\n",
    "ws['E22'] = datim.total_datimIII\n",
    "ws['I14'] = datim.total_datim_general\n",
    "\n",
    "ws.merge_cells(\"A2:D6\")\n",
    "#ws[\"A2\"] = datim.datim_agyw_prevI()\n",
    "\n",
    "\n",
    "ws.merge_cells(\"A10:D14\")\n",
    "#ws[\"A10\"] = datim.datim_agyw_prevII()\n",
    "\n",
    "ws.merge_cells(\"A18:D22\")\n",
    "#ws[\"A18\"] = datim.datim_agyw_prevIII()\n"
   ]
  },
  {
   "cell_type": "code",
   "execution_count": null,
   "metadata": {},
   "outputs": [],
   "source": [
    "wb.save(\"test_AGYWPREV.xlsx\")"
   ]
  },
  {
   "cell_type": "code",
   "execution_count": null,
   "metadata": {
    "tags": []
   },
   "outputs": [],
   "source": [
    "%%capture\n",
    "wb_test = Workbook()\n",
    "ws_test = wb_test.active\n",
    "ws_test.title = \"test\"\n",
    "rdf = dataframe_to_rows(datim.datim_agyw_prevI())\n",
    "for ridx, row in enumerate(rdf,1):\n",
    "    for cidx, value in enumerate(row,1):\n",
    "        ws_test.cell(ridx,cidx,value)\n",
    "\n",
    "wb_test.save(\"test.xlsx\")"
   ]
  },
  {
   "cell_type": "code",
   "execution_count": null,
   "metadata": {},
   "outputs": [],
   "source": [
    "datim.datim_agyw_prevI()"
   ]
  },
  {
   "cell_type": "code",
   "execution_count": null,
   "metadata": {},
   "outputs": [],
   "source": []
  }
 ],
 "metadata": {
  "kernelspec": {
   "display_name": "Python 3",
   "language": "python",
   "name": "python3"
  },
  "language_info": {
   "codemirror_mode": {
    "name": "ipython",
    "version": 3
   },
   "file_extension": ".py",
   "mimetype": "text/x-python",
   "name": "python",
   "nbconvert_exporter": "python",
   "pygments_lexer": "ipython3",
   "version": "3.9.2"
  }
 },
 "nbformat": 4,
 "nbformat_minor": 4
}
