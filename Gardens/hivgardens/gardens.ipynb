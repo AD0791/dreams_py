{
 "cells": [
  {
   "cell_type": "code",
   "execution_count": null,
   "metadata": {},
   "outputs": [],
   "source": [
    "from IPython.core.interactiveshell import InteractiveShell\n",
    "from pandas import Int32Dtype, read_excel\n",
    "\n",
    "\n",
    "from garden import(\n",
    "    gardening,\n",
    "    sdata,\n",
    "    garden_clean\n",
    ")\n",
    "\n",
    "\n",
    "InteractiveShell.ast_node_interactivity = \"all\"\n",
    "\n",
    "%%capture"
   ]
  },
  {
   "cell_type": "code",
   "execution_count": 2,
   "metadata": {},
   "outputs": [
    {
     "data": {
      "text/plain": [
       "759"
      ]
     },
     "execution_count": 2,
     "metadata": {},
     "output_type": "execute_result"
    },
    {
     "data": {
      "text/plain": [
       "66558"
      ]
     },
     "execution_count": 2,
     "metadata": {},
     "output_type": "execute_result"
    },
    {
     "data": {
      "text/plain": [
       "890"
      ]
     },
     "execution_count": 2,
     "metadata": {},
     "output_type": "execute_result"
    }
   ],
   "source": [
    "gardening.id_patient.count()\n",
    "sdata.case_id.count()\n",
    "sdata.id_patient = sdata.id_patient.astype(Int32Dtype())\n",
    "garden_clean.code_dreams.count()"
   ]
  },
  {
   "cell_type": "code",
   "execution_count": 3,
   "metadata": {},
   "outputs": [
    {
     "data": {
      "text/plain": [
       "812"
      ]
     },
     "execution_count": 3,
     "metadata": {},
     "output_type": "execute_result"
    },
    {
     "data": {
      "text/plain": [
       "78"
      ]
     },
     "execution_count": 3,
     "metadata": {},
     "output_type": "execute_result"
    }
   ],
   "source": [
    "gc_found = sdata[sdata.code.isin(garden_clean.code_dreams)]\n",
    "gc_notfound = garden_clean[~garden_clean.code_dreams.isin(sdata.code)]\n",
    "gc_found.code.count()\n",
    "gc_notfound.code_dreams.count()"
   ]
  },
  {
   "cell_type": "code",
   "execution_count": 4,
   "metadata": {},
   "outputs": [
    {
     "data": {
      "text/plain": [
       "812"
      ]
     },
     "execution_count": 4,
     "metadata": {},
     "output_type": "execute_result"
    }
   ],
   "source": [
    "thegardens = gc_found[['id_patient','code']]\n",
    "thegardens.code.count()"
   ]
  },
  {
   "cell_type": "code",
   "execution_count": 5,
   "metadata": {},
   "outputs": [
    {
     "data": {
      "text/plain": [
       "759"
      ]
     },
     "execution_count": 5,
     "metadata": {},
     "output_type": "execute_result"
    }
   ],
   "source": [
    "reportedGardening = gardening.merge(thegardens,on=\"id_patient\", how='left')\n",
    "reportedGardening.code.count()"
   ]
  },
  {
   "cell_type": "code",
   "execution_count": 6,
   "metadata": {},
   "outputs": [
    {
     "data": {
      "text/plain": [
       "53"
      ]
     },
     "execution_count": 6,
     "metadata": {},
     "output_type": "execute_result"
    }
   ],
   "source": [
    "rg_notfound = thegardens[~thegardens.id_patient.isin(reportedGardening.id_patient)]\n",
    "rg_notfound.id_patient.count()"
   ]
  },
  {
   "cell_type": "code",
   "execution_count": 7,
   "metadata": {},
   "outputs": [
    {
     "data": {
      "text/plain": [
       "53"
      ]
     },
     "execution_count": 7,
     "metadata": {},
     "output_type": "execute_result"
    }
   ],
   "source": [
    "overTheAge = gc_found[gc_found.id_patient.isin(rg_notfound.id_patient)]\n",
    "overTheAge.id_patient.count()"
   ]
  },
  {
   "cell_type": "markdown",
   "metadata": {},
   "source": [
    "# revision case_id soumis par Ismael"
   ]
  },
  {
   "cell_type": "code",
   "execution_count": null,
   "metadata": {},
   "outputs": [],
   "source": [
    "recentgdata = read_excel('../beneficiaresdreamsformesenMars.xlsx')"
   ]
  },
  {
   "cell_type": "code",
   "execution_count": 15,
   "metadata": {},
   "outputs": [
    {
     "data": {
      "text/plain": [
       "80"
      ]
     },
     "execution_count": 15,
     "metadata": {},
     "output_type": "execute_result"
    }
   ],
   "source": [
    "t = garden_clean[garden_clean.case_id.isin(recentgdata.Caseid)]\n",
    "t = t[['code_dreams']]\n",
    "t.code_dreams.count()"
   ]
  },
  {
   "cell_type": "code",
   "execution_count": 16,
   "metadata": {},
   "outputs": [
    {
     "data": {
      "text/html": [
       "<div>\n",
       "<style scoped>\n",
       "    .dataframe tbody tr th:only-of-type {\n",
       "        vertical-align: middle;\n",
       "    }\n",
       "\n",
       "    .dataframe tbody tr th {\n",
       "        vertical-align: top;\n",
       "    }\n",
       "\n",
       "    .dataframe thead th {\n",
       "        text-align: right;\n",
       "    }\n",
       "</style>\n",
       "<table border=\"1\" class=\"dataframe\">\n",
       "  <thead>\n",
       "    <tr style=\"text-align: right;\">\n",
       "      <th></th>\n",
       "      <th>case_id</th>\n",
       "      <th>id_patient</th>\n",
       "      <th>code</th>\n",
       "      <th>first_name</th>\n",
       "      <th>last_name</th>\n",
       "      <th>age</th>\n",
       "      <th>dob</th>\n",
       "      <th>interview_date</th>\n",
       "      <th>e__telefn</th>\n",
       "      <th>adress</th>\n",
       "      <th>...</th>\n",
       "      <th>interviewer_lastname</th>\n",
       "      <th>interviewer_role</th>\n",
       "      <th>interviewer_other_info</th>\n",
       "      <th>interview_location</th>\n",
       "      <th>is_your_parent_alive</th>\n",
       "      <th>mothers_name</th>\n",
       "      <th>fathers_name</th>\n",
       "      <th>who_is_your_law_parent</th>\n",
       "      <th>total</th>\n",
       "      <th>organisation</th>\n",
       "    </tr>\n",
       "  </thead>\n",
       "  <tbody>\n",
       "    <tr>\n",
       "      <th>1371</th>\n",
       "      <td>053f7022-c7b2-4e37-8e90-bfb906a259fa</td>\n",
       "      <td>78772</td>\n",
       "      <td>PAP/DRMS/032117017</td>\n",
       "      <td>Kendiana</td>\n",
       "      <td>Jeudy</td>\n",
       "      <td>13.0</td>\n",
       "      <td>2008-04-12</td>\n",
       "      <td>2019-11-29</td>\n",
       "      <td>37953653</td>\n",
       "      <td>Fermathe</td>\n",
       "      <td>...</td>\n",
       "      <td>Fanfan</td>\n",
       "      <td>ask</td>\n",
       "      <td>None</td>\n",
       "      <td>Fermathe</td>\n",
       "      <td>4.0</td>\n",
       "      <td>None</td>\n",
       "      <td>None</td>\n",
       "      <td>Jeudy Loudia</td>\n",
       "      <td>34.0</td>\n",
       "      <td>CARIS</td>\n",
       "    </tr>\n",
       "    <tr>\n",
       "      <th>1508</th>\n",
       "      <td>05d17708-2820-4e12-bb45-5f0b8e0ea703</td>\n",
       "      <td>112300</td>\n",
       "      <td>GON/DRMS/061242401</td>\n",
       "      <td>Nelda</td>\n",
       "      <td>Paul</td>\n",
       "      <td>19.0</td>\n",
       "      <td>2002-11-02</td>\n",
       "      <td>2020-12-21</td>\n",
       "      <td></td>\n",
       "      <td>Payen</td>\n",
       "      <td>...</td>\n",
       "      <td>Eriscart</td>\n",
       "      <td>mentor</td>\n",
       "      <td>None</td>\n",
       "      <td>Payen</td>\n",
       "      <td>0.0</td>\n",
       "      <td>Ilionique Phanor</td>\n",
       "      <td>Delano Paul</td>\n",
       "      <td></td>\n",
       "      <td>30.0</td>\n",
       "      <td>CARIS</td>\n",
       "    </tr>\n",
       "    <tr>\n",
       "      <th>2837</th>\n",
       "      <td>0b0ab791-eff3-4e42-8849-242a7b0de00a</td>\n",
       "      <td>97634</td>\n",
       "      <td>GON/DRMS/059209903</td>\n",
       "      <td>preskerdjine</td>\n",
       "      <td>fleurimond</td>\n",
       "      <td>15.0</td>\n",
       "      <td>2006-06-08</td>\n",
       "      <td>2020-09-13</td>\n",
       "      <td></td>\n",
       "      <td>rue dieuleme</td>\n",
       "      <td>...</td>\n",
       "      <td>Saint-Louis</td>\n",
       "      <td>mentor</td>\n",
       "      <td>None</td>\n",
       "      <td>liancourt</td>\n",
       "      <td>0.0</td>\n",
       "      <td>cleanne</td>\n",
       "      <td>presner</td>\n",
       "      <td></td>\n",
       "      <td>14.0</td>\n",
       "      <td>CARIS</td>\n",
       "    </tr>\n",
       "    <tr>\n",
       "      <th>4163</th>\n",
       "      <td>1015a788-0d4b-4158-9779-fd6231f2ee78</td>\n",
       "      <td>112301</td>\n",
       "      <td>GON/DRMS/061242402</td>\n",
       "      <td>Rolkinia</td>\n",
       "      <td>Dorzéma</td>\n",
       "      <td>19.0</td>\n",
       "      <td>2003-01-23</td>\n",
       "      <td>2020-12-23</td>\n",
       "      <td>32809271</td>\n",
       "      <td>Cité des oeuvres</td>\n",
       "      <td>...</td>\n",
       "      <td>Michaud</td>\n",
       "      <td>mentor</td>\n",
       "      <td>None</td>\n",
       "      <td>cité des oeuvres</td>\n",
       "      <td>0.0</td>\n",
       "      <td>Lismie Saint-Germain</td>\n",
       "      <td>Dorzéma Herold</td>\n",
       "      <td>Lismie saint-Germain</td>\n",
       "      <td>28.0</td>\n",
       "      <td>CARIS</td>\n",
       "    </tr>\n",
       "    <tr>\n",
       "      <th>5236</th>\n",
       "      <td>1443c1d7-0c65-4581-a71b-81938185df8f</td>\n",
       "      <td>117878</td>\n",
       "      <td>GON/DRMS/084264001</td>\n",
       "      <td>Negeline</td>\n",
       "      <td>Charles</td>\n",
       "      <td>19.0</td>\n",
       "      <td>2003-02-12</td>\n",
       "      <td>2020-09-29</td>\n",
       "      <td>38260226</td>\n",
       "      <td>Desarmes</td>\n",
       "      <td>...</td>\n",
       "      <td>Augustin</td>\n",
       "      <td>mentor</td>\n",
       "      <td>None</td>\n",
       "      <td>Desarmes</td>\n",
       "      <td>2.0</td>\n",
       "      <td></td>\n",
       "      <td>Alcine Negeste</td>\n",
       "      <td>Yolande Ovilmar</td>\n",
       "      <td>49.0</td>\n",
       "      <td>CARIS</td>\n",
       "    </tr>\n",
       "    <tr>\n",
       "      <th>...</th>\n",
       "      <td>...</td>\n",
       "      <td>...</td>\n",
       "      <td>...</td>\n",
       "      <td>...</td>\n",
       "      <td>...</td>\n",
       "      <td>...</td>\n",
       "      <td>...</td>\n",
       "      <td>...</td>\n",
       "      <td>...</td>\n",
       "      <td>...</td>\n",
       "      <td>...</td>\n",
       "      <td>...</td>\n",
       "      <td>...</td>\n",
       "      <td>...</td>\n",
       "      <td>...</td>\n",
       "      <td>...</td>\n",
       "      <td>...</td>\n",
       "      <td>...</td>\n",
       "      <td>...</td>\n",
       "      <td>...</td>\n",
       "      <td>...</td>\n",
       "    </tr>\n",
       "    <tr>\n",
       "      <th>56173</th>\n",
       "      <td>d7a727fc-1241-4b5e-96a8-00dfeb9805cb</td>\n",
       "      <td>81919</td>\n",
       "      <td>GON/DRMS/049048202</td>\n",
       "      <td>Marie Herlie</td>\n",
       "      <td>Calixte</td>\n",
       "      <td>20.0</td>\n",
       "      <td>2002-01-14</td>\n",
       "      <td>2020-07-08</td>\n",
       "      <td></td>\n",
       "      <td>Passe Royal</td>\n",
       "      <td>...</td>\n",
       "      <td>Maurice</td>\n",
       "      <td>mentor</td>\n",
       "      <td>None</td>\n",
       "      <td>Passe Royal</td>\n",
       "      <td>0.0</td>\n",
       "      <td>Calixte Mariline</td>\n",
       "      <td>Renan Casseus</td>\n",
       "      <td>manman</td>\n",
       "      <td>30.0</td>\n",
       "      <td>CARIS</td>\n",
       "    </tr>\n",
       "    <tr>\n",
       "      <th>60442</th>\n",
       "      <td>e880316c-0e9c-4d97-af93-9083065dbbf0</td>\n",
       "      <td>132286</td>\n",
       "      <td>GON/DRMS/084356409</td>\n",
       "      <td>Medeline</td>\n",
       "      <td>Edouard</td>\n",
       "      <td>15.0</td>\n",
       "      <td>2006-09-09</td>\n",
       "      <td>2021-12-18</td>\n",
       "      <td>36414698</td>\n",
       "      <td>majuin</td>\n",
       "      <td>...</td>\n",
       "      <td>Mystere</td>\n",
       "      <td>mentor</td>\n",
       "      <td>None</td>\n",
       "      <td>desarmes</td>\n",
       "      <td>0.0</td>\n",
       "      <td>Dolisca Jacqueline</td>\n",
       "      <td>Edouard Miritène</td>\n",
       "      <td>Dolisca Jacqueline</td>\n",
       "      <td>24.0</td>\n",
       "      <td>CARIS</td>\n",
       "    </tr>\n",
       "    <tr>\n",
       "      <th>60942</th>\n",
       "      <td>ea6df8ef-03b7-4c19-ac21-d4e55492a03f</td>\n",
       "      <td>91717</td>\n",
       "      <td>GON/DRMS/062189533</td>\n",
       "      <td>Dodena</td>\n",
       "      <td>Datilus</td>\n",
       "      <td>14.0</td>\n",
       "      <td>2007-11-27</td>\n",
       "      <td>2020-07-08</td>\n",
       "      <td>38144335</td>\n",
       "      <td>dezan</td>\n",
       "      <td>...</td>\n",
       "      <td>PHIDELUS</td>\n",
       "      <td>mentor</td>\n",
       "      <td>None</td>\n",
       "      <td>dezan</td>\n",
       "      <td>0.0</td>\n",
       "      <td>Nadine Joseph</td>\n",
       "      <td>Datilus Dieugrand</td>\n",
       "      <td>Nadine Joseph</td>\n",
       "      <td>28.0</td>\n",
       "      <td>CARIS</td>\n",
       "    </tr>\n",
       "    <tr>\n",
       "      <th>63676</th>\n",
       "      <td>f52ee4f8-9777-4484-8b9a-46e758be82f7</td>\n",
       "      <td>83483</td>\n",
       "      <td>GON/DRMS/049146415</td>\n",
       "      <td>Wistania</td>\n",
       "      <td>Charles</td>\n",
       "      <td>14.0</td>\n",
       "      <td>2008-02-12</td>\n",
       "      <td>2020-07-08</td>\n",
       "      <td></td>\n",
       "      <td>pas wayal</td>\n",
       "      <td>...</td>\n",
       "      <td>Dieujuste</td>\n",
       "      <td>mentor</td>\n",
       "      <td>None</td>\n",
       "      <td>pas Wayal</td>\n",
       "      <td>0.0</td>\n",
       "      <td>Geraldine</td>\n",
       "      <td>Luckner</td>\n",
       "      <td>Calixte Marie Yourie</td>\n",
       "      <td>15.0</td>\n",
       "      <td>CARIS</td>\n",
       "    </tr>\n",
       "    <tr>\n",
       "      <th>66245</th>\n",
       "      <td>fed69d20-f9ce-4536-ae22-f9876c71b7e2</td>\n",
       "      <td>92981</td>\n",
       "      <td>GON/DRMS/059195415</td>\n",
       "      <td>Christ yolanda</td>\n",
       "      <td>Darilus</td>\n",
       "      <td>14.0</td>\n",
       "      <td>2007-05-04</td>\n",
       "      <td>2020-09-20</td>\n",
       "      <td>40692028</td>\n",
       "      <td>liancourt</td>\n",
       "      <td>...</td>\n",
       "      <td>saget</td>\n",
       "      <td>mentor</td>\n",
       "      <td>None</td>\n",
       "      <td>liancourt</td>\n",
       "      <td>2.0</td>\n",
       "      <td></td>\n",
       "      <td></td>\n",
       "      <td></td>\n",
       "      <td>21.0</td>\n",
       "      <td>CARIS</td>\n",
       "    </tr>\n",
       "  </tbody>\n",
       "</table>\n",
       "<p>70 rows × 30 columns</p>\n",
       "</div>"
      ],
      "text/plain": [
       "                                    case_id  id_patient                code  \\\n",
       "1371   053f7022-c7b2-4e37-8e90-bfb906a259fa       78772  PAP/DRMS/032117017   \n",
       "1508   05d17708-2820-4e12-bb45-5f0b8e0ea703      112300  GON/DRMS/061242401   \n",
       "2837   0b0ab791-eff3-4e42-8849-242a7b0de00a       97634  GON/DRMS/059209903   \n",
       "4163   1015a788-0d4b-4158-9779-fd6231f2ee78      112301  GON/DRMS/061242402   \n",
       "5236   1443c1d7-0c65-4581-a71b-81938185df8f      117878  GON/DRMS/084264001   \n",
       "...                                     ...         ...                 ...   \n",
       "56173  d7a727fc-1241-4b5e-96a8-00dfeb9805cb       81919  GON/DRMS/049048202   \n",
       "60442  e880316c-0e9c-4d97-af93-9083065dbbf0      132286  GON/DRMS/084356409   \n",
       "60942  ea6df8ef-03b7-4c19-ac21-d4e55492a03f       91717  GON/DRMS/062189533   \n",
       "63676  f52ee4f8-9777-4484-8b9a-46e758be82f7       83483  GON/DRMS/049146415   \n",
       "66245  fed69d20-f9ce-4536-ae22-f9876c71b7e2       92981  GON/DRMS/059195415   \n",
       "\n",
       "           first_name   last_name   age         dob interview_date e__telefn  \\\n",
       "1371         Kendiana       Jeudy  13.0  2008-04-12     2019-11-29  37953653   \n",
       "1508            Nelda        Paul  19.0  2002-11-02     2020-12-21             \n",
       "2837     preskerdjine  fleurimond  15.0  2006-06-08     2020-09-13             \n",
       "4163         Rolkinia     Dorzéma  19.0  2003-01-23     2020-12-23  32809271   \n",
       "5236         Negeline     Charles  19.0  2003-02-12     2020-09-29  38260226   \n",
       "...               ...         ...   ...         ...            ...       ...   \n",
       "56173    Marie Herlie     Calixte  20.0  2002-01-14     2020-07-08             \n",
       "60442        Medeline     Edouard  15.0  2006-09-09     2021-12-18  36414698   \n",
       "60942          Dodena     Datilus  14.0  2007-11-27     2020-07-08  38144335   \n",
       "63676        Wistania     Charles  14.0  2008-02-12     2020-07-08             \n",
       "66245  Christ yolanda     Darilus  14.0  2007-05-04     2020-09-20  40692028   \n",
       "\n",
       "                 adress  ... interviewer_lastname  interviewer_role  \\\n",
       "1371           Fermathe  ...               Fanfan               ask   \n",
       "1508              Payen  ...             Eriscart            mentor   \n",
       "2837       rue dieuleme  ...          Saint-Louis            mentor   \n",
       "4163   Cité des oeuvres  ...              Michaud            mentor   \n",
       "5236           Desarmes  ...             Augustin            mentor   \n",
       "...                 ...  ...                  ...               ...   \n",
       "56173       Passe Royal  ...              Maurice            mentor   \n",
       "60442            majuin  ...              Mystere            mentor   \n",
       "60942             dezan  ...             PHIDELUS            mentor   \n",
       "63676         pas wayal  ...            Dieujuste            mentor   \n",
       "66245         liancourt  ...                saget            mentor   \n",
       "\n",
       "      interviewer_other_info  interview_location is_your_parent_alive  \\\n",
       "1371                    None            Fermathe                  4.0   \n",
       "1508                    None               Payen                  0.0   \n",
       "2837                    None           liancourt                  0.0   \n",
       "4163                    None    cité des oeuvres                  0.0   \n",
       "5236                    None            Desarmes                  2.0   \n",
       "...                      ...                 ...                  ...   \n",
       "56173                   None         Passe Royal                  0.0   \n",
       "60442                   None            desarmes                  0.0   \n",
       "60942                   None               dezan                  0.0   \n",
       "63676                   None           pas Wayal                  0.0   \n",
       "66245                   None           liancourt                  2.0   \n",
       "\n",
       "               mothers_name       fathers_name who_is_your_law_parent total  \\\n",
       "1371                   None               None           Jeudy Loudia  34.0   \n",
       "1508       Ilionique Phanor        Delano Paul                         30.0   \n",
       "2837                cleanne            presner                         14.0   \n",
       "4163   Lismie Saint-Germain     Dorzéma Herold   Lismie saint-Germain  28.0   \n",
       "5236                            Alcine Negeste        Yolande Ovilmar  49.0   \n",
       "...                     ...                ...                    ...   ...   \n",
       "56173      Calixte Mariline      Renan Casseus                 manman  30.0   \n",
       "60442    Dolisca Jacqueline   Edouard Miritène     Dolisca Jacqueline  24.0   \n",
       "60942         Nadine Joseph  Datilus Dieugrand          Nadine Joseph  28.0   \n",
       "63676             Geraldine            Luckner   Calixte Marie Yourie  15.0   \n",
       "66245                                                                  21.0   \n",
       "\n",
       "      organisation  \n",
       "1371         CARIS  \n",
       "1508         CARIS  \n",
       "2837         CARIS  \n",
       "4163         CARIS  \n",
       "5236         CARIS  \n",
       "...            ...  \n",
       "56173        CARIS  \n",
       "60442        CARIS  \n",
       "60942        CARIS  \n",
       "63676        CARIS  \n",
       "66245        CARIS  \n",
       "\n",
       "[70 rows x 30 columns]"
      ]
     },
     "execution_count": 16,
     "metadata": {},
     "output_type": "execute_result"
    }
   ],
   "source": [
    "gc_found[gc_found.code.isin(t.code_dreams)]"
   ]
  },
  {
   "cell_type": "code",
   "execution_count": null,
   "metadata": {},
   "outputs": [],
   "source": []
  }
 ],
 "metadata": {
  "interpreter": {
   "hash": "4534460e0bdca1b390927d45471088fb3501d39abc4e3f2cee293892e17d7fc6"
  },
  "kernelspec": {
   "display_name": "Python 3.9.6 64-bit",
   "name": "python3"
  },
  "language_info": {
   "codemirror_mode": {
    "name": "ipython",
    "version": 3
   },
   "file_extension": ".py",
   "mimetype": "text/x-python",
   "name": "python",
   "nbconvert_exporter": "python",
   "pygments_lexer": "ipython3",
   "version": "3.10.2"
  },
  "orig_nbformat": 4
 },
 "nbformat": 4,
 "nbformat_minor": 2
}
