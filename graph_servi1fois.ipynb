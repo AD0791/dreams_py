{
 "cells": [
  {
   "cell_type": "markdown",
   "metadata": {},
   "source": [
    "# Graphiques Servis au moins 1 fois\n"
   ]
  },
  {
   "cell_type": "code",
   "execution_count": 1,
   "metadata": {},
   "outputs": [],
   "source": [
    "%run layeringOfServices.ipynb"
   ]
  },
  {
   "cell_type": "code",
   "execution_count": 2,
   "metadata": {},
   "outputs": [],
   "source": [
    "one_services = dreams_mastersheet[(dreams_mastersheet.age_range !=\"not_valid_age\") & (dreams_mastersheet.age_range != \"25-29\") & (dreams_mastersheet.fiscal_year != \"not_valid_fy\") & (dreams_mastersheet.recevoir_1services != \"no\")  ]"
   ]
  },
  {
   "cell_type": "code",
   "execution_count": 3,
   "metadata": {},
   "outputs": [
    {
     "data": {
      "text/plain": [
       "2860"
      ]
     },
     "execution_count": 3,
     "metadata": {},
     "output_type": "execute_result"
    }
   ],
   "source": [
    "one_services.code.count()"
   ]
  },
  {
   "cell_type": "code",
   "execution_count": 4,
   "metadata": {},
   "outputs": [],
   "source": [
    "import matplotlib.pyplot as plt\n",
    "%matplotlib inline\n",
    "import seaborn as sns\n"
   ]
  },
  {
   "cell_type": "code",
   "execution_count": 5,
   "metadata": {},
   "outputs": [],
   "source": [
    "pivot_one = one_services.pivot_table(columns=\"fiscal_year\",values=\"code\",fill_value=0,aggfunc='count')"
   ]
  },
  {
   "cell_type": "code",
   "execution_count": 6,
   "metadata": {},
   "outputs": [
    {
     "data": {
      "text/plain": [
       "Index(['FY21Q1', 'FY21Q2', 'FY21Q3'], dtype='object', name='fiscal_year')"
      ]
     },
     "execution_count": 6,
     "metadata": {},
     "output_type": "execute_result"
    }
   ],
   "source": [
    "pivot_one.columns"
   ]
  },
  {
   "cell_type": "code",
   "execution_count": 7,
   "metadata": {},
   "outputs": [
    {
     "data": {
      "image/png": "[encoded data removed]",
      "text/plain": [
       "<Figure size 1152x576 with 1 Axes>"
      ]
     },
     "metadata": {
      "needs_background": "light"
     },
     "output_type": "display_data"
    }
   ],
   "source": [
    "X= list(pivot_one.columns)\n",
    "Y= pivot_one.values.tolist()[0]\n",
    "data = []\n",
    "colonnes = []\n",
    "\n",
    "for x,y in zip(X,Y):\n",
    "    data.append(y)\n",
    "    colonnes.append(x)\n",
    "\n",
    "\n",
    "df = pd.DataFrame({\"fy\":colonnes, \"dt\":data})\n",
    "\n",
    "plt.subplots(figsize=(16,8))\n",
    "splot = sns.barplot(x=\"dt\",y=\"fy\",data=df)\n",
    "splot.set_xlabel(\"\")\n",
    "splot.set_ylabel(\"\")\n",
    "plt.suptitle(\"AGYW served at least one time in a quarter\")\n",
    "for p in splot.patches:\n",
    "    width = p.get_width()\n",
    "    plt.text(2+p.get_width(), p.get_y()+0.50*p.get_height(),\n",
    "             '{:1.0f}'.format(width))\n",
    "\n",
    "plt.savefig(\"dreams_served_atleast1services\",dpi=400)\n",
    " "
   ]
  },
  {
   "cell_type": "code",
   "execution_count": null,
   "metadata": {},
   "outputs": [],
   "source": []
  }
 ],
 "metadata": {
  "interpreter": {
   "hash": "4534460e0bdca1b390927d45471088fb3501d39abc4e3f2cee293892e17d7fc6"
  },
  "kernelspec": {
   "display_name": "Python 3.9.2 64-bit",
   "name": "python3"
  },
  "language_info": {
   "codemirror_mode": {
    "name": "ipython",
    "version": 3
   },
   "file_extension": ".py",
   "mimetype": "text/x-python",
   "name": "python",
   "nbconvert_exporter": "python",
   "pygments_lexer": "ipython3",
   "version": "3.9.2"
  },
  "orig_nbformat": 4
 },
 "nbformat": 4,
 "nbformat_minor": 2
}