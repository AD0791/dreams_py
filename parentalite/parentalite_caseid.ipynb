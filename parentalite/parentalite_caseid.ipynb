{
 "cells": [
  {
   "cell_type": "code",
   "execution_count": 1,
   "metadata": {},
   "outputs": [],
   "source": [
    "#import os\n",
    "#from datetime import datetime\n",
    "#from datetime import date\n",
    "import pymysql\n",
    "from sqlalchemy import create_engine\n",
    "from decouple import config \n",
    "from dotenv import load_dotenv\n",
    "import matplotlib.pyplot as plt\n",
    "import seaborn as sns\n",
    "#from enum import Enum\n",
    "from pandas import read_excel, read_sql_query\n",
    "\n",
    "from IPython.core.interactiveshell import InteractiveShell\n",
    "InteractiveShell.ast_node_interactivity = \"all\"\n",
    "#pd.set_option(\"max_columns\",None)\n"
   ]
  },
  {
   "cell_type": "code",
   "execution_count": 2,
   "metadata": {},
   "outputs": [
    {
     "data": {
      "text/plain": [
       "True"
      ]
     },
     "execution_count": 2,
     "metadata": {},
     "output_type": "execute_result"
    }
   ],
   "source": [
    "load_dotenv()\n",
    "# get the environment variables needed\n",
    "USER= config('USRCaris')\n",
    "PASSWORD= config('PASSCaris')\n",
    "HOSTNAME= config('HOSTCaris')\n",
    "DBNAME= config('DBCaris')\n",
    "\n",
    "# get the engine to connect and fetch\n",
    "engine = create_engine(f\"mysql+pymysql://{USER}:{PASSWORD}@{HOSTNAME}/{DBNAME}\")\n",
    "query = f'''\n",
    "    SELECT \n",
    "    (a.score_7 + a.score_8a + score_9a + score_9b + score_17a + score_21 + score_21a + score_22 + score_22a + 1) AS parenting_score_total,\n",
    "    p.patient_code AS dreams_code,\n",
    "    dga.nbr_presence,\n",
    "    a.*\n",
    "FROM\n",
    "    (SELECT \n",
    "        CASE\n",
    "                WHEN\n",
    "                    d.a7_ak_kils_w_ap_viv_10_14 = '0'\n",
    "                        OR d.a7_Ak_kiles_w_ap_viv_15_19 = '0'\n",
    "                THEN\n",
    "                    2\n",
    "                WHEN\n",
    "                    d.a7_ak_kils_w_ap_viv_10_14 = '1'\n",
    "                        OR d.a7_Ak_kiles_w_ap_viv_15_19 = '1'\n",
    "                THEN\n",
    "                    4\n",
    "                WHEN\n",
    "                    d.a7_ak_kils_w_ap_viv_10_14 = '001'\n",
    "                        OR d.a7_Ak_kiles_w_ap_viv_15_19 = '01'\n",
    "                THEN\n",
    "                    4\n",
    "                WHEN\n",
    "                    d.a7_ak_kils_w_ap_viv_10_14 = '03'\n",
    "                        OR d.a7_Ak_kiles_w_ap_viv_15_19 = '2'\n",
    "                THEN\n",
    "                    4\n",
    "                WHEN\n",
    "                    d.a7_ak_kils_w_ap_viv_10_14 = 'lt_presize'\n",
    "                        OR d.a7_Ak_kiles_w_ap_viv_15_19 = 'lt_presize'\n",
    "                THEN\n",
    "                    2\n",
    "            END AS score_7,\n",
    "            IF(d.a8_eske_gen_yon_moun_ou_santi_ou_ka_al_kote_ = '0', 0, IF(d.a8_eske_gen_yon_moun_ou_santi_ou_ka_al_kote_ = '2', 4, 0)) AS score_8a,\n",
    "            IF(d.a9_ou_gen_lot_kote_ou_pa_santi_ou_ansekirite = '1', 2, 0) AS score_9a,\n",
    "            IF(d.b9_list_kote_ou_pa_an_sekirite IN ('1' , '3', '2', '04'), 4, IF(d.b9_list_kote_ou_pa_an_sekirite = '4', 8, IF(d.b9_list_kote_ou_pa_an_sekirite = '0001', 2, 0))) AS score_9b,\n",
    "            IF(a17 IN ('4' , '04', '004'), 8, 0) AS score_17a,\n",
    "            IF(d.eske_ou_konn_bwe_alkol = 'oui', 3, 0) AS score_21,\n",
    "            IF(d.a21_ske_ou_bw_alkl_osnon_itilize_lt_dwg_10_14 = '3'\n",
    "                OR a21_nan_ki_frenkans_ou_itilize_alkol = '2', 6, IF(d.a21_ske_ou_bw_alkl_osnon_itilize_lt_dwg_10_14 = '5'\n",
    "                OR a21_nan_ki_frenkans_ou_itilize_alkol = '5', 8, 0)) AS score_21a,\n",
    "            IF(d.eske_ou_konn_itilize_dwog = 'oui', 3, 0) AS score_22,\n",
    "            IF(d.ske_ou_konn_itilize_dwg_10_14 = '3'\n",
    "                OR ske_ou_konn_itilize_dwg_15_19 = '2', 6, IF(d.ske_ou_konn_itilize_dwg_10_14 = '5'\n",
    "                OR ske_ou_konn_itilize_dwg_15_19 = '5', 8, 0)) AS score_22a,\n",
    "            d.*\n",
    "    FROM\n",
    "        caris_db.dreams_surveys_data d\n",
    "    WHERE\n",
    "        (TIMESTAMPDIFF(YEAR, d.nan_ki_dat_ou_fet, NOW()) BETWEEN 10 AND 17)\n",
    "            AND (d.a7_ak_kils_w_ap_viv_10_14 NOT IN ('8' , '6')\n",
    "            OR d.a7_ak_kils_w_ap_viv_10_14 IS NULL)\n",
    "            AND (d.a7_Ak_kiles_w_ap_viv_15_19 NOT IN ('5' , '3')\n",
    "            OR d.a7_Ak_kiles_w_ap_viv_15_19 IS NULL)) a\n",
    "        LEFT JOIN\n",
    "    dream_member dm ON dm.case_id = a.case_id\n",
    "        LEFT JOIN\n",
    "    patient p ON p.id = dm.id_patient\n",
    "        LEFT JOIN\n",
    "    (SELECT \n",
    "        count(distinct dgs.topic) AS nbr_presence, id_patient\n",
    "    FROM\n",
    "        dream_group_attendance dga1\n",
    "        left join dream_group_session dgs on dga1.id_group_session=dgs.id where dga1.value=\"P\"\n",
    "    GROUP BY dga1.id_patient) dga ON dga.id_patient = dm.id_patient\n",
    "WHERE\n",
    "    a.total > 14\n",
    "ORDER BY (a.score_7 + a.score_8a + score_9a + score_9b + score_17a + score_21 + score_21a + score_22 + score_22a + 1) DESC\n",
    "'''\n",
    "\n",
    "parenting = read_sql_query(query,engine,parse_dates=True)\n",
    "# get the test excel file from Query\n",
    "\n",
    "# close the pool of connection\n",
    "engine.dispose()"
   ]
  },
  {
   "cell_type": "code",
   "execution_count": 3,
   "metadata": {},
   "outputs": [
    {
     "data": {
      "text/plain": [
       "29693"
      ]
     },
     "execution_count": 3,
     "metadata": {},
     "output_type": "execute_result"
    }
   ],
   "source": [
    "parenting.dreams_code.fillna(\"NULL\",inplace=True)\n",
    "parenting.dreams_code.count()"
   ]
  },
  {
   "cell_type": "code",
   "execution_count": 4,
   "metadata": {},
   "outputs": [],
   "source": [
    "parenting.to_excel('all_parenting_elligible.xlsx',na_rep=\"\", index=False)"
   ]
  },
  {
   "cell_type": "code",
   "execution_count": 5,
   "metadata": {},
   "outputs": [
    {
     "data": {
      "text/plain": [
       "Index(['parenting_score_total', 'dreams_code', 'nbr_presence', 'score_7',\n",
       "       'score_8a', 'score_9a', 'score_9b', 'score_17a', 'score_21',\n",
       "       'score_21a',\n",
       "       ...\n",
       "       'a20_swiv_tretman_pou_lot_ist',\n",
       "       'ou_konn_enkonsyan_apre_alcohol_ou_dwog', 'ou_konnen_sant_pou_planin',\n",
       "       'ou_konnen_kote_pou_sevis_sante_tretman_mal',\n",
       "       'tifi_a_nan_nivo_ti_ris_ou_wel_elijib', 'timeEnd', 'timeStart',\n",
       "       'agent_username', 'created_ad', 'organisation'],\n",
       "      dtype='object', length=213)"
      ]
     },
     "execution_count": 5,
     "metadata": {},
     "output_type": "execute_result"
    }
   ],
   "source": [
    "parenting.columns"
   ]
  },
  {
   "cell_type": "markdown",
   "metadata": {},
   "source": [
    "# Recherche"
   ]
  },
  {
   "cell_type": "code",
   "execution_count": 6,
   "metadata": {},
   "outputs": [],
   "source": [
    "selected = read_excel('./data/parent_update.xlsx')"
   ]
  },
  {
   "cell_type": "code",
   "execution_count": 7,
   "metadata": {},
   "outputs": [
    {
     "data": {
      "text/plain": [
       "2593"
      ]
     },
     "execution_count": 7,
     "metadata": {},
     "output_type": "execute_result"
    }
   ],
   "source": [
    "selected.case_id.count()"
   ]
  },
  {
   "cell_type": "code",
   "execution_count": 8,
   "metadata": {},
   "outputs": [],
   "source": [
    "# get the engine to connect and fetch\n",
    "engine = create_engine(f\"mysql+pymysql://{USER}:{PASSWORD}@{HOSTNAME}/{DBNAME}\")\n",
    "query = '''\n",
    "SELECT \n",
    "    d.case_id,\n",
    "    dm.id_patient as id_patient,\n",
    "    p.patient_code AS code,\n",
    "    d.a_non_patisipan_an AS first_name,\n",
    "    d.b_siyati AS last_name,\n",
    "    TIMESTAMPDIFF(YEAR,\n",
    "        d.nan_ki_dat_ou_fet,\n",
    "        now()) AS age,\n",
    "    d.nan_ki_dat_ou_fet AS dob,\n",
    "    d.a1_dat_entvyou_a_ft_jjmmaa_egz_010817 AS interview_date,\n",
    "    d.e__telefn,\n",
    "    d.d_adrs AS adress,\n",
    "    IF(dm.id IS NOT NULL, 'yes', 'no') AS already_in_a_group,\n",
    "    dm.id_group AS actual_id_group,\n",
    "    dg.name AS actual_group_name,\n",
    "    dm.id_parenting_group AS actual_id_parenting_group,\n",
    "    dpg.name AS actual_parenting_group_name,\n",
    "    dh.name AS actual_hub,\n",
    "    ld.name AS actual_departement,\n",
    "    d.f_komin AS commune,\n",
    "    d.g_seksyon_kominal AS commune_section,\n",
    "    d.b1_non_moun_mennen_entvyou_a AS interviewer_firstname,\n",
    "    d.c1_siyati_moun_ki_f_entvyou_a AS interviewer_lastname,\n",
    "    d.d1_kad AS interviewer_role,\n",
    "    d.lot_kad AS interviewer_other_info,\n",
    "    d.h_kote_entvyou_a_ft AS interview_location,\n",
    "    d.paran_ou_vivan AS is_your_parent_alive,\n",
    "    d.i_non_manman AS mothers_name,\n",
    "    d.j_non_papa AS fathers_name,\n",
    "    d.k_reskonsab_devan_lalwa AS who_is_your_law_parent,\n",
    "    d.total,\n",
    "    d.organisation\n",
    "FROM\n",
    "    caris_db.dreams_surveys_data d\n",
    "        LEFT JOIN\n",
    "    dream_member dm ON dm.case_id = d.case_id\n",
    "        LEFT JOIN\n",
    "    patient p ON p.id = dm.id_patient\n",
    "        LEFT JOIN\n",
    "    dream_group dg ON dg.id = dm.id_group\n",
    "        LEFT JOIN\n",
    "    dream_group dpg ON dpg.id = dm.id_parenting_group\n",
    "        LEFT JOIN\n",
    "    dream_hub dh ON dh.id = dg.id_dream_hub\n",
    "        LEFT JOIN\n",
    "    lookup_commune lc ON lc.id = dh.commune\n",
    "        LEFT JOIN\n",
    "    lookup_departement ld ON ld.id = lc.departement\n",
    "'''\n",
    "\n",
    "sdata = read_sql_query(query,engine,parse_dates=True)\n",
    "# get the test excel file from Query\n",
    "\n",
    "# close the pool of connection\n",
    "engine.dispose()"
   ]
  },
  {
   "cell_type": "code",
   "execution_count": 10,
   "metadata": {},
   "outputs": [
    {
     "data": {
      "text/plain": [
       "2593"
      ]
     },
     "execution_count": 10,
     "metadata": {},
     "output_type": "execute_result"
    }
   ],
   "source": [
    "update_parenting =  sdata[sdata.case_id.isin(selected.case_id)]\n",
    "update_parenting.case_id.count()"
   ]
  },
  {
   "cell_type": "code",
   "execution_count": 11,
   "metadata": {},
   "outputs": [],
   "source": [
    "update_parenting.to_excel('update_parenting.xlsx',index=False,na_rep=\"\")"
   ]
  },
  {
   "cell_type": "code",
   "execution_count": null,
   "metadata": {},
   "outputs": [],
   "source": []
  }
 ],
 "metadata": {
  "kernelspec": {
   "display_name": "Python 3.10.4 64-bit",
   "language": "python",
   "name": "python3"
  },
  "language_info": {
   "codemirror_mode": {
    "name": "ipython",
    "version": 3
   },
   "file_extension": ".py",
   "mimetype": "text/x-python",
   "name": "python",
   "nbconvert_exporter": "python",
   "pygments_lexer": "ipython3",
   "version": "3.10.4"
  },
  "orig_nbformat": 4,
  "vscode": {
   "interpreter": {
    "hash": "b460384b52104c1e5b9cf54bee46a255d22b2bef338f75ac4ad5d48196028d3c"
   }
  }
 },
 "nbformat": 4,
 "nbformat_minor": 2
}
