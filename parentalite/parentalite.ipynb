{
 "cells": [
  {
   "cell_type": "code",
   "execution_count": 28,
   "source": [
    "#import os\r\n",
    "#from datetime import datetime\r\n",
    "#from datetime import date\r\n",
    "import pymysql\r\n",
    "from sqlalchemy import create_engine\r\n",
    "from decouple import config \r\n",
    "from dotenv import load_dotenv\r\n",
    "import pandas as pd\r\n",
    "import matplotlib.pyplot as plt\r\n",
    "import seaborn as sns\r\n",
    "#from enum import Enum\r\n",
    "\r\n",
    "from IPython.core.interactiveshell import InteractiveShell\r\n",
    "InteractiveShell.ast_node_interactivity = \"all\"\r\n",
    "pd.set_option(\"max_columns\",None)\r\n"
   ],
   "outputs": [],
   "metadata": {}
  },
  {
   "cell_type": "code",
   "execution_count": 3,
   "source": [
    "load_dotenv()\r\n",
    "# get the environment variables needed\r\n",
    "USER= config('USRCaris')\r\n",
    "PASSWORD= config('PASSCaris')\r\n",
    "HOSTNAME= config('HOSTCaris')\r\n",
    "DBNAME= config('DBCaris')\r\n",
    "\r\n",
    "# get the engine to connect and fetch\r\n",
    "engine = create_engine(f\"mysql+pymysql://{USER}:{PASSWORD}@{HOSTNAME}/{DBNAME}\")\r\n",
    "query = f'''\r\n",
    "    SELECT \r\n",
    "    (a.score_7 + a.score_8a + score_9a + score_9b + score_17a + score_21 + score_21a + score_22 + score_22a + 1) AS parenting_score_total,\r\n",
    "    p.patient_code AS dreams_code,\r\n",
    "    dga.nbr_presence,\r\n",
    "    a.*\r\n",
    "FROM\r\n",
    "    (SELECT \r\n",
    "        CASE\r\n",
    "                WHEN\r\n",
    "                    d.a7_ak_kils_w_ap_viv_10_14 = '0'\r\n",
    "                        OR d.a7_Ak_kiles_w_ap_viv_15_19 = '0'\r\n",
    "                THEN\r\n",
    "                    2\r\n",
    "                WHEN\r\n",
    "                    d.a7_ak_kils_w_ap_viv_10_14 = '1'\r\n",
    "                        OR d.a7_Ak_kiles_w_ap_viv_15_19 = '1'\r\n",
    "                THEN\r\n",
    "                    4\r\n",
    "                WHEN\r\n",
    "                    d.a7_ak_kils_w_ap_viv_10_14 = '001'\r\n",
    "                        OR d.a7_Ak_kiles_w_ap_viv_15_19 = '01'\r\n",
    "                THEN\r\n",
    "                    4\r\n",
    "                WHEN\r\n",
    "                    d.a7_ak_kils_w_ap_viv_10_14 = '03'\r\n",
    "                        OR d.a7_Ak_kiles_w_ap_viv_15_19 = '2'\r\n",
    "                THEN\r\n",
    "                    4\r\n",
    "                WHEN\r\n",
    "                    d.a7_ak_kils_w_ap_viv_10_14 = 'lt_presize'\r\n",
    "                        OR d.a7_Ak_kiles_w_ap_viv_15_19 = 'lt_presize'\r\n",
    "                THEN\r\n",
    "                    2\r\n",
    "            END AS score_7,\r\n",
    "            IF(d.a8_eske_gen_yon_moun_ou_santi_ou_ka_al_kote_ = '0', 0, IF(d.a8_eske_gen_yon_moun_ou_santi_ou_ka_al_kote_ = '2', 4, 0)) AS score_8a,\r\n",
    "            IF(d.a9_ou_gen_lot_kote_ou_pa_santi_ou_ansekirite = '1', 2, 0) AS score_9a,\r\n",
    "            IF(d.b9_list_kote_ou_pa_an_sekirite IN ('1' , '3', '2', '04'), 4, IF(d.b9_list_kote_ou_pa_an_sekirite = '4', 8, IF(d.b9_list_kote_ou_pa_an_sekirite = '0001', 2, 0))) AS score_9b,\r\n",
    "            IF(a17 IN ('4' , '04', '004'), 8, 0) AS score_17a,\r\n",
    "            IF(d.eske_ou_konn_bwe_alkol = 'oui', 3, 0) AS score_21,\r\n",
    "            IF(d.a21_ske_ou_bw_alkl_osnon_itilize_lt_dwg_10_14 = '3'\r\n",
    "                OR a21_nan_ki_frenkans_ou_itilize_alkol = '2', 6, IF(d.a21_ske_ou_bw_alkl_osnon_itilize_lt_dwg_10_14 = '5'\r\n",
    "                OR a21_nan_ki_frenkans_ou_itilize_alkol = '5', 8, 0)) AS score_21a,\r\n",
    "            IF(d.eske_ou_konn_itilize_dwog = 'oui', 3, 0) AS score_22,\r\n",
    "            IF(d.ske_ou_konn_itilize_dwg_10_14 = '3'\r\n",
    "                OR ske_ou_konn_itilize_dwg_15_19 = '2', 6, IF(d.ske_ou_konn_itilize_dwg_10_14 = '5'\r\n",
    "                OR ske_ou_konn_itilize_dwg_15_19 = '5', 8, 0)) AS score_22a,\r\n",
    "            d.*\r\n",
    "    FROM\r\n",
    "        caris_db.dreams_surveys_data d\r\n",
    "    WHERE\r\n",
    "        (TIMESTAMPDIFF(YEAR, d.nan_ki_dat_ou_fet, NOW()) BETWEEN 10 AND 17)\r\n",
    "            AND (d.a7_ak_kils_w_ap_viv_10_14 NOT IN ('8' , '6')\r\n",
    "            OR d.a7_ak_kils_w_ap_viv_10_14 IS NULL)\r\n",
    "            AND (d.a7_Ak_kiles_w_ap_viv_15_19 NOT IN ('5' , '3')\r\n",
    "            OR d.a7_Ak_kiles_w_ap_viv_15_19 IS NULL)) a\r\n",
    "        LEFT JOIN\r\n",
    "    dream_member dm ON dm.case_id = a.case_id\r\n",
    "        LEFT JOIN\r\n",
    "    patient p ON p.id = dm.id_patient\r\n",
    "        LEFT JOIN\r\n",
    "    (SELECT \r\n",
    "        count(distinct dgs.topic) AS nbr_presence, id_patient\r\n",
    "    FROM\r\n",
    "        dream_group_attendance dga1\r\n",
    "        left join dream_group_session dgs on dga1.id_group_session=dgs.id where dga1.value=\"P\"\r\n",
    "    GROUP BY dga1.id_patient) dga ON dga.id_patient = dm.id_patient\r\n",
    "WHERE\r\n",
    "    a.total > 14\r\n",
    "ORDER BY (a.score_7 + a.score_8a + score_9a + score_9b + score_17a + score_21 + score_21a + score_22 + score_22a + 1) DESC\r\n",
    "'''\r\n",
    "\r\n",
    "parenting = pd.read_sql_query(query,engine,parse_dates=True)\r\n",
    "# get the test excel file from Query\r\n",
    "\r\n",
    "# close the pool of connection\r\n",
    "engine.dispose()"
   ],
   "outputs": [
    {
     "output_type": "execute_result",
     "data": {
      "text/plain": [
       "True"
      ]
     },
     "metadata": {},
     "execution_count": 3
    }
   ],
   "metadata": {}
  },
  {
   "cell_type": "code",
   "execution_count": 7,
   "source": [
    "parenting.dreams_code.fillna(\"NULL\",inplace=True)\r\n",
    "parenting.dreams_code.count()"
   ],
   "outputs": [
    {
     "output_type": "execute_result",
     "data": {
      "text/plain": [
       "22663"
      ]
     },
     "metadata": {},
     "execution_count": 7
    }
   ],
   "metadata": {}
  },
  {
   "cell_type": "code",
   "execution_count": 63,
   "source": [
    "old_data = pd.read_excel(\"old_data.xlsx\")\r\n",
    "old_data.dreams_code.count()"
   ],
   "outputs": [
    {
     "output_type": "execute_result",
     "data": {
      "text/plain": [
       "3072"
      ]
     },
     "metadata": {},
     "execution_count": 63
    }
   ],
   "metadata": {}
  },
  {
   "cell_type": "code",
   "execution_count": 30,
   "source": [
    "%matplotlib inline\r\n",
    "import numpy as np"
   ],
   "outputs": [],
   "metadata": {}
  },
  {
   "cell_type": "code",
   "execution_count": 57,
   "source": [
    "load_dotenv()\r\n",
    "# get the environment variables needed\r\n",
    "USER= config('USRCaris')\r\n",
    "PASSWORD= config('PASSCaris')\r\n",
    "HOSTNAME= config('HOSTCaris')\r\n",
    "DBNAME= config('DBCaris')\r\n",
    "\r\n",
    "# get the engine to connect and fetch\r\n",
    "engine = create_engine(f\"mysql+pymysql://{USER}:{PASSWORD}@{HOSTNAME}/{DBNAME}\")\r\n",
    "query = f'''\r\n",
    "    select * from dream_member dm \r\n",
    "left join patient p on p.id = dm.id_patient;\r\n",
    "'''\r\n",
    "\r\n",
    "dreams_members = pd.read_sql_query(query,engine,parse_dates=True)\r\n",
    "# get the test excel file from Query\r\n",
    "\r\n",
    "# close the pool of connection\r\n",
    "engine.dispose()"
   ],
   "outputs": [
    {
     "output_type": "execute_result",
     "data": {
      "text/plain": [
       "True"
      ]
     },
     "metadata": {},
     "execution_count": 57
    }
   ],
   "metadata": {}
  },
  {
   "cell_type": "code",
   "execution_count": null,
   "source": [
    "dreams_members.patient_code.fillna(\"NULL\",inplace=True)\r\n",
    "dreams_members.rename(columns={\"patient_code\":\"dreams_code\"},inplace=True)\r\n",
    "dreams_members.dreams_code.count()"
   ],
   "outputs": [],
   "metadata": {}
  },
  {
   "cell_type": "code",
   "execution_count": 64,
   "source": [
    "data_for_case_id = old_data.merge(dreams_members, on=\"dreams_code\",how=\"left\")"
   ],
   "outputs": [],
   "metadata": {}
  },
  {
   "cell_type": "code",
   "execution_count": 65,
   "source": [
    "data_for_case_id.case_id.count()\r\n",
    "old_data[\"case_id\"] = data_for_case_id.case_id\r\n",
    "old_data.case_id.count()"
   ],
   "outputs": [
    {
     "output_type": "execute_result",
     "data": {
      "text/plain": [
       "3072"
      ]
     },
     "metadata": {},
     "execution_count": 65
    },
    {
     "output_type": "execute_result",
     "data": {
      "text/plain": [
       "3072"
      ]
     },
     "metadata": {},
     "execution_count": 65
    }
   ],
   "metadata": {}
  },
  {
   "cell_type": "code",
   "execution_count": 69,
   "source": [
    "old_data.to_excel(\"liste_filles_parenting_with_CASEID.xlsx\",index=False,na_rep=\"NULL\")\r\n",
    "data_for_case_id.to_excel(\"parenting_test.xlsx\",index=False,na_rep=\"NULL\")"
   ],
   "outputs": [],
   "metadata": {}
  },
  {
   "cell_type": "code",
   "execution_count": 67,
   "source": [
    "case_plot = pd.DataFrame({\"state\":[\"Total_Eligible_Parenting\",\"Total_CASEID_Trouve\"],\r\n",
    "                            \"data\": [old_data.dreams_code.count(),old_data.case_id.count()]                        \r\n",
    "})"
   ],
   "outputs": [],
   "metadata": {}
  },
  {
   "cell_type": "code",
   "execution_count": 68,
   "source": [
    "plt.subplots(figsize=(16,8))\r\n",
    "sns.set_style(\"darkgrid\")\r\n",
    "sns.set_palette(\"Set1\")\r\n",
    "splot = sns.barplot(x=\"state\",y=\"data\",data=case_plot)\r\n",
    "splot.set_xlabel(\"\")\r\n",
    "splot.set_ylabel(\"\")\r\n",
    "plt.suptitle(\"Beneficiaires Dreams Parentalite et leur CASEID\")\r\n",
    "for p in splot.patches:\r\n",
    "    height = p.get_height()\r\n",
    "    plt.text(\r\n",
    "                p.get_x() + p.get_width()/2, \r\n",
    "                0.5*p.get_height() + p.get_y(),\r\n",
    "                '{:1.0f}'.format(height), \r\n",
    "                ha='center', va='center',\r\n",
    "                size=15,\r\n",
    "                fontdict=dict(color=\"white\",fontsize=15)\r\n",
    "            )\r\n",
    "    \r\n",
    "plt.annotate(\r\n",
    "    \"source: HIVHaiti\",(0,0), (-80,-20), fontsize=10, \r\n",
    "             xycoords='axes fraction', textcoords='offset points', va='top'\r\n",
    ")\r\n",
    "plt.savefig(\"parenting_caseid\",dpi=1000)"
   ],
   "outputs": [
    {
     "output_type": "execute_result",
     "data": {
      "text/plain": [
       "(<Figure size 1152x576 with 1 Axes>, <AxesSubplot:>)"
      ]
     },
     "metadata": {},
     "execution_count": 68
    },
    {
     "output_type": "execute_result",
     "data": {
      "text/plain": [
       "Text(0.5, 0, '')"
      ]
     },
     "metadata": {},
     "execution_count": 68
    },
    {
     "output_type": "execute_result",
     "data": {
      "text/plain": [
       "Text(0, 0.5, '')"
      ]
     },
     "metadata": {},
     "execution_count": 68
    },
    {
     "output_type": "execute_result",
     "data": {
      "text/plain": [
       "Text(0.5, 0.98, 'Beneficiaires Dreams Parentalite et leur CASEID')"
      ]
     },
     "metadata": {},
     "execution_count": 68
    },
    {
     "output_type": "execute_result",
     "data": {
      "text/plain": [
       "Text(0.0, 1536.0, '3072')"
      ]
     },
     "metadata": {},
     "execution_count": 68
    },
    {
     "output_type": "execute_result",
     "data": {
      "text/plain": [
       "Text(1.0, 1536.0, '3072')"
      ]
     },
     "metadata": {},
     "execution_count": 68
    },
    {
     "output_type": "execute_result",
     "data": {
      "text/plain": [
       "Text(-80, -20, 'source: HIVHaiti')"
      ]
     },
     "metadata": {},
     "execution_count": 68
    },
    {
     "output_type": "display_data",
     "data": {
      "text/plain": [
       "<Figure size 1152x576 with 1 Axes>"
      ],
      "image/png": "[encoded data removed]"
     },
     "metadata": {}
    }
   ],
   "metadata": {}
  },
  {
   "cell_type": "code",
   "execution_count": null,
   "source": [],
   "outputs": [],
   "metadata": {}
  }
 ],
 "metadata": {
  "orig_nbformat": 4,
  "language_info": {
   "name": "python",
   "version": "3.9.6",
   "mimetype": "text/x-python",
   "codemirror_mode": {
    "name": "ipython",
    "version": 3
   },
   "pygments_lexer": "ipython3",
   "nbconvert_exporter": "python",
   "file_extension": ".py"
  },
  "kernelspec": {
   "name": "python3",
   "display_name": "Python 3.9.6 64-bit"
  },
  "interpreter": {
   "hash": "4534460e0bdca1b390927d45471088fb3501d39abc4e3f2cee293892e17d7fc6"
  }
 },
 "nbformat": 4,
 "nbformat_minor": 2
}