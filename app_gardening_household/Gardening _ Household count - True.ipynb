{
 "cells": [
  {
   "cell_type": "markdown",
   "metadata": {},
   "source": [
    "# Gardening Household Count"
   ]
  },
  {
   "cell_type": "markdown",
   "metadata": {},
   "source": [
    "### Importing the required packages"
   ]
  },
  {
   "cell_type": "code",
   "execution_count": 1,
   "metadata": {},
   "outputs": [],
   "source": [
    "#Importing packages\n",
    "\n",
    "import pandas as pd\n",
    "import numpy as np\n",
    "from datetime import datetime\n",
    "import warnings\n",
    "warnings.filterwarnings('ignore')\n",
    "from dateutil.parser import parse\n",
    "from selenium import webdriver\n",
    "from webdriver_manager.chrome import ChromeDriverManager\n",
    "from selenium.webdriver.common.by import By\n",
    "import time\n",
    "from IPython.core.interactiveshell import InteractiveShell\n",
    "InteractiveShell.ast_node_interactivity = 'all'\n",
    "import os\n",
    "from dotenv import load_dotenv\n",
    "import plotly.express as px"
   ]
  },
  {
   "cell_type": "markdown",
   "metadata": {},
   "source": [
    "### Downloading 'All gardens' and Household Count files from Commcare"
   ]
  },
  {
   "cell_type": "code",
   "execution_count": 2,
   "metadata": {},
   "outputs": [
    {
     "data": {
      "text/plain": [
       "True"
      ]
     },
     "execution_count": 2,
     "metadata": {},
     "output_type": "execute_result"
    },
    {
     "name": "stdout",
     "output_type": "stream",
     "text": [
      "\n"
     ]
    }
   ],
   "source": [
    "#Connecting to Commcare\n",
    "load_dotenv('id_cc.env')\n",
    "email = os.getenv('COMCARE_EMAIL')\n",
    "password_cc = os.getenv('COMCARE_PASSWORD')\n",
    "\n",
    "#Defining the driver\n",
    "driver = webdriver.Chrome(ChromeDriverManager().install())\n",
    "driver.implicitly_wait(1000)\n",
    "\n",
    "#Creating login function\n",
    "def commcare_all_gardens():\n",
    "    driver.get(\n",
    "        'https://www.commcarehq.org/a/caris-test/data/export/custom/new/case/download/789629a97bddd10b4648d5138d17908e/'\n",
    "    )\n",
    "    driver.find_element(By.XPATH,'//*[@id=\"id_auth-username\"]').send_keys(email)\n",
    "    driver.find_element(By.XPATH,'//*[@id=\"id_auth-password\"]').send_keys(password_cc)\n",
    "    driver.find_element(By.CSS_SELECTOR,'button[type=submit]').click()\n",
    "\n",
    "#All_gardens\n",
    "commcare_all_gardens()\n",
    "\n",
    "#Download the database \"All gardens\"\n",
    "driver.find_element(By.XPATH,\"//*[@id='download-export-form']/form/div[2]/div/div[2]/div[1]/button/span[1]\").click()\n",
    "driver.find_element(By.XPATH,\"//*[@id='download-progress']/div/div/div[2]/div[1]/form/a/span[1]\").click()        \n",
    "\n",
    "#-----------------------------------------------------------------------------------------------------------------------\n",
    "\n",
    "#Household count\n",
    "def commcare_household_case():\n",
    "    driver.get(\n",
    "        'https://www.commcarehq.org/a/caris-test/data/export/custom/new/case/download/091321e0524e3ae7f5d5c1d3f43bd9c4/'\n",
    "    )\n",
    "    \n",
    "commcare_household_case()\n",
    "\n",
    "#Download the database \"Household count\"\n",
    "driver.find_element(By.XPATH,'//*[@id=\"download-export-form\"]/form/div[2]/div/div[2]/div[1]/button/span[1]').click()\n",
    "driver.find_element(By.XPATH,'//*[@id=\"download-progress\"]/div/div/div[2]/div[1]/form/a/span[1]').click()\n",
    "\n",
    "#-------------------------------------------------------------------------------------------------------------------------\n",
    "\n",
    "def commcare_household_form():\n",
    "    driver.get(\n",
    "        'https://www.commcarehq.org/a/caris-test/data/export/custom/new/form/download/091321e0524e3ae7f5d5c1d3f43dccca/'\n",
    "    )\n",
    "    \n",
    "commcare_household_form()\n",
    "\n",
    "\n",
    "driver.find_element(By.XPATH,'//*[@id=\"download-export-form\"]/form/div[2]/div/div[2]/div[1]/button/span[1]').click()\n",
    "driver.find_element(By.XPATH,'//*[@id=\"download-progress\"]/div/div/div[2]/div[1]/form/a/span[1]').click()\n",
    "\n",
    "#-------------------------------------------------------------------------------------------------------------------------\n",
    "\n",
    "time.sleep(5)"
   ]
  },
  {
   "cell_type": "markdown",
   "metadata": {},
   "source": [
    "### Importing the datasets"
   ]
  },
  {
   "cell_type": "code",
   "execution_count": 3,
   "metadata": {},
   "outputs": [],
   "source": [
    "all_gardens = pd.read_excel(f\"~/Downloads/All Gardens {str(datetime.today().strftime('%Y-%m-%d'))}.xlsx\")\n",
    "household = pd.read_excel(f\"~/Downloads/houshold_garden {str(datetime.today().strftime('%Y-%m-%d'))}.xlsx\", sheet_name = 'Cases')\n",
    "household_form = pd.read_excel(f\"~/Downloads/Caris Jardinage - Jaden Lakou - Comptage Menage {str(datetime.today().strftime('%Y-%m-%d'))}.xlsx\", sheet_name = 'Forms')"
   ]
  },
  {
   "cell_type": "code",
   "execution_count": 4,
   "metadata": {},
   "outputs": [
    {
     "data": {
      "text/html": [
       "<div>\n",
       "<style scoped>\n",
       "    .dataframe tbody tr th:only-of-type {\n",
       "        vertical-align: middle;\n",
       "    }\n",
       "\n",
       "    .dataframe tbody tr th {\n",
       "        vertical-align: top;\n",
       "    }\n",
       "\n",
       "    .dataframe thead th {\n",
       "        text-align: right;\n",
       "    }\n",
       "</style>\n",
       "<table border=\"1\" class=\"dataframe\">\n",
       "  <thead>\n",
       "    <tr style=\"text-align: right;\">\n",
       "      <th></th>\n",
       "      <th>number</th>\n",
       "      <th>caseid</th>\n",
       "      <th>name</th>\n",
       "      <th>age_in_year</th>\n",
       "      <th>caregiver_yes_no</th>\n",
       "      <th>dob</th>\n",
       "      <th>father_or_mother_has_dead_of_hiv</th>\n",
       "      <th>father_or_mother_has_hiv</th>\n",
       "      <th>first_name</th>\n",
       "      <th>gardining_member_relationship</th>\n",
       "      <th>...</th>\n",
       "      <th>indices.Garden</th>\n",
       "      <th>closed</th>\n",
       "      <th>closed_by_username</th>\n",
       "      <th>closed_date</th>\n",
       "      <th>last_modified_by_user_username</th>\n",
       "      <th>last_modified_date</th>\n",
       "      <th>opened_by_username</th>\n",
       "      <th>opened_date</th>\n",
       "      <th>owner_name</th>\n",
       "      <th>case_link</th>\n",
       "    </tr>\n",
       "  </thead>\n",
       "  <tbody>\n",
       "    <tr>\n",
       "      <th>0</th>\n",
       "      <td>0</td>\n",
       "      <td>16d4e0eb-2ea0-45c6-ab8c-cb980b08e6b5</td>\n",
       "      <td>Amicius Roseberline</td>\n",
       "      <td>17</td>\n",
       "      <td>---</td>\n",
       "      <td>2003-12-26</td>\n",
       "      <td>3</td>\n",
       "      <td>3</td>\n",
       "      <td>Roseberline</td>\n",
       "      <td>2.0</td>\n",
       "      <td>...</td>\n",
       "      <td>93c5ad1d-4b58-4521-b1e9-222f95d2f5ae</td>\n",
       "      <td>False</td>\n",
       "      <td>---</td>\n",
       "      <td>---</td>\n",
       "      <td>j1james</td>\n",
       "      <td>2021-07-02 20:18:21</td>\n",
       "      <td>j1james</td>\n",
       "      <td>2021-07-02 20:18:21</td>\n",
       "      <td>j1james</td>\n",
       "      <td>https://www.commcarehq.org/a/caris-test/report...</td>\n",
       "    </tr>\n",
       "    <tr>\n",
       "      <th>1</th>\n",
       "      <td>1</td>\n",
       "      <td>a5ad9762-ba87-4dde-a293-98696fd167c6</td>\n",
       "      <td>Ciné Louisemana</td>\n",
       "      <td>62</td>\n",
       "      <td>1</td>\n",
       "      <td>1958-07-05</td>\n",
       "      <td>---</td>\n",
       "      <td>---</td>\n",
       "      <td>Louisemana</td>\n",
       "      <td>1.0</td>\n",
       "      <td>...</td>\n",
       "      <td>93c5ad1d-4b58-4521-b1e9-222f95d2f5ae</td>\n",
       "      <td>False</td>\n",
       "      <td>---</td>\n",
       "      <td>---</td>\n",
       "      <td>j1james</td>\n",
       "      <td>2021-07-02 20:18:21</td>\n",
       "      <td>j1james</td>\n",
       "      <td>2021-07-02 20:18:21</td>\n",
       "      <td>j1james</td>\n",
       "      <td>https://www.commcarehq.org/a/caris-test/report...</td>\n",
       "    </tr>\n",
       "  </tbody>\n",
       "</table>\n",
       "<p>2 rows × 32 columns</p>\n",
       "</div>"
      ],
      "text/plain": [
       "   number                                caseid                 name  \\\n",
       "0       0  16d4e0eb-2ea0-45c6-ab8c-cb980b08e6b5  Amicius Roseberline   \n",
       "1       1  a5ad9762-ba87-4dde-a293-98696fd167c6      Ciné Louisemana   \n",
       "\n",
       "   age_in_year caregiver_yes_no         dob father_or_mother_has_dead_of_hiv  \\\n",
       "0           17              ---  2003-12-26                                3   \n",
       "1           62                1  1958-07-05                              ---   \n",
       "\n",
       "  father_or_mother_has_hiv   first_name  gardining_member_relationship  ...  \\\n",
       "0                        3  Roseberline                            2.0  ...   \n",
       "1                      ---   Louisemana                            1.0  ...   \n",
       "\n",
       "                         indices.Garden closed closed_by_username closed_date  \\\n",
       "0  93c5ad1d-4b58-4521-b1e9-222f95d2f5ae  False                ---         ---   \n",
       "1  93c5ad1d-4b58-4521-b1e9-222f95d2f5ae  False                ---         ---   \n",
       "\n",
       "  last_modified_by_user_username   last_modified_date opened_by_username  \\\n",
       "0                        j1james  2021-07-02 20:18:21            j1james   \n",
       "1                        j1james  2021-07-02 20:18:21            j1james   \n",
       "\n",
       "           opened_date owner_name  \\\n",
       "0  2021-07-02 20:18:21    j1james   \n",
       "1  2021-07-02 20:18:21    j1james   \n",
       "\n",
       "                                           case_link  \n",
       "0  https://www.commcarehq.org/a/caris-test/report...  \n",
       "1  https://www.commcarehq.org/a/caris-test/report...  \n",
       "\n",
       "[2 rows x 32 columns]"
      ]
     },
     "execution_count": 4,
     "metadata": {},
     "output_type": "execute_result"
    }
   ],
   "source": [
    "household_cases = household[household['closed'] == False]\n",
    "household_cases.head(2)"
   ]
  },
  {
   "cell_type": "markdown",
   "metadata": {},
   "source": [
    "### Statistics"
   ]
  },
  {
   "cell_type": "markdown",
   "metadata": {},
   "source": [
    "#### Number of household counted"
   ]
  },
  {
   "cell_type": "code",
   "execution_count": 5,
   "metadata": {},
   "outputs": [
    {
     "data": {
      "text/html": [
       "<div>\n",
       "<style scoped>\n",
       "    .dataframe tbody tr th:only-of-type {\n",
       "        vertical-align: middle;\n",
       "    }\n",
       "\n",
       "    .dataframe tbody tr th {\n",
       "        vertical-align: top;\n",
       "    }\n",
       "\n",
       "    .dataframe thead th {\n",
       "        text-align: right;\n",
       "    }\n",
       "</style>\n",
       "<table border=\"1\" class=\"dataframe\">\n",
       "  <thead>\n",
       "    <tr style=\"text-align: right;\">\n",
       "      <th></th>\n",
       "      <th>agent_code</th>\n",
       "      <th>Nombre de ménage compté</th>\n",
       "    </tr>\n",
       "  </thead>\n",
       "  <tbody>\n",
       "    <tr>\n",
       "      <th>20</th>\n",
       "      <td>j1seide</td>\n",
       "      <td>553</td>\n",
       "    </tr>\n",
       "    <tr>\n",
       "      <th>25</th>\n",
       "      <td>j3plaisime</td>\n",
       "      <td>394</td>\n",
       "    </tr>\n",
       "    <tr>\n",
       "      <th>32</th>\n",
       "      <td>j6arison</td>\n",
       "      <td>390</td>\n",
       "    </tr>\n",
       "    <tr>\n",
       "      <th>43</th>\n",
       "      <td>j6yvenes</td>\n",
       "      <td>328</td>\n",
       "    </tr>\n",
       "    <tr>\n",
       "      <th>9</th>\n",
       "      <td>j1edner</td>\n",
       "      <td>316</td>\n",
       "    </tr>\n",
       "    <tr>\n",
       "      <th>7</th>\n",
       "      <td>j1appolon</td>\n",
       "      <td>312</td>\n",
       "    </tr>\n",
       "    <tr>\n",
       "      <th>23</th>\n",
       "      <td>j3donathan</td>\n",
       "      <td>303</td>\n",
       "    </tr>\n",
       "    <tr>\n",
       "      <th>37</th>\n",
       "      <td>j6jeune</td>\n",
       "      <td>290</td>\n",
       "    </tr>\n",
       "    <tr>\n",
       "      <th>26</th>\n",
       "      <td>j4beauvais</td>\n",
       "      <td>288</td>\n",
       "    </tr>\n",
       "    <tr>\n",
       "      <th>36</th>\n",
       "      <td>j6guerby</td>\n",
       "      <td>279</td>\n",
       "    </tr>\n",
       "    <tr>\n",
       "      <th>18</th>\n",
       "      <td>j1pierregilles</td>\n",
       "      <td>269</td>\n",
       "    </tr>\n",
       "    <tr>\n",
       "      <th>15</th>\n",
       "      <td>j1moncion</td>\n",
       "      <td>269</td>\n",
       "    </tr>\n",
       "    <tr>\n",
       "      <th>41</th>\n",
       "      <td>j6patrick</td>\n",
       "      <td>266</td>\n",
       "    </tr>\n",
       "    <tr>\n",
       "      <th>28</th>\n",
       "      <td>j4frantz</td>\n",
       "      <td>263</td>\n",
       "    </tr>\n",
       "    <tr>\n",
       "      <th>16</th>\n",
       "      <td>j1napolean</td>\n",
       "      <td>251</td>\n",
       "    </tr>\n",
       "    <tr>\n",
       "      <th>39</th>\n",
       "      <td>j6loubenson</td>\n",
       "      <td>247</td>\n",
       "    </tr>\n",
       "    <tr>\n",
       "      <th>17</th>\n",
       "      <td>j1pierre</td>\n",
       "      <td>246</td>\n",
       "    </tr>\n",
       "    <tr>\n",
       "      <th>2</th>\n",
       "      <td>3carl</td>\n",
       "      <td>241</td>\n",
       "    </tr>\n",
       "    <tr>\n",
       "      <th>42</th>\n",
       "      <td>j6ribert</td>\n",
       "      <td>239</td>\n",
       "    </tr>\n",
       "    <tr>\n",
       "      <th>19</th>\n",
       "      <td>j1renaud</td>\n",
       "      <td>238</td>\n",
       "    </tr>\n",
       "    <tr>\n",
       "      <th>38</th>\n",
       "      <td>j6jonel</td>\n",
       "      <td>228</td>\n",
       "    </tr>\n",
       "    <tr>\n",
       "      <th>12</th>\n",
       "      <td>j1jnpierre</td>\n",
       "      <td>222</td>\n",
       "    </tr>\n",
       "    <tr>\n",
       "      <th>27</th>\n",
       "      <td>j4francois</td>\n",
       "      <td>220</td>\n",
       "    </tr>\n",
       "    <tr>\n",
       "      <th>1</th>\n",
       "      <td>1mackenson</td>\n",
       "      <td>213</td>\n",
       "    </tr>\n",
       "    <tr>\n",
       "      <th>29</th>\n",
       "      <td>j4wilnes</td>\n",
       "      <td>212</td>\n",
       "    </tr>\n",
       "    <tr>\n",
       "      <th>40</th>\n",
       "      <td>j6nechelet</td>\n",
       "      <td>204</td>\n",
       "    </tr>\n",
       "    <tr>\n",
       "      <th>35</th>\n",
       "      <td>j6geniel</td>\n",
       "      <td>183</td>\n",
       "    </tr>\n",
       "    <tr>\n",
       "      <th>8</th>\n",
       "      <td>j1cepoudy</td>\n",
       "      <td>162</td>\n",
       "    </tr>\n",
       "    <tr>\n",
       "      <th>5</th>\n",
       "      <td>6jkenson</td>\n",
       "      <td>160</td>\n",
       "    </tr>\n",
       "    <tr>\n",
       "      <th>31</th>\n",
       "      <td>j5oligene</td>\n",
       "      <td>159</td>\n",
       "    </tr>\n",
       "    <tr>\n",
       "      <th>0</th>\n",
       "      <td>1jdensy</td>\n",
       "      <td>158</td>\n",
       "    </tr>\n",
       "    <tr>\n",
       "      <th>10</th>\n",
       "      <td>j1fadeline</td>\n",
       "      <td>147</td>\n",
       "    </tr>\n",
       "    <tr>\n",
       "      <th>30</th>\n",
       "      <td>j5hilaire</td>\n",
       "      <td>129</td>\n",
       "    </tr>\n",
       "    <tr>\n",
       "      <th>24</th>\n",
       "      <td>j3hergy</td>\n",
       "      <td>129</td>\n",
       "    </tr>\n",
       "    <tr>\n",
       "      <th>13</th>\n",
       "      <td>j1louisjeune</td>\n",
       "      <td>125</td>\n",
       "    </tr>\n",
       "    <tr>\n",
       "      <th>14</th>\n",
       "      <td>j1maudeline</td>\n",
       "      <td>91</td>\n",
       "    </tr>\n",
       "    <tr>\n",
       "      <th>11</th>\n",
       "      <td>j1james</td>\n",
       "      <td>85</td>\n",
       "    </tr>\n",
       "    <tr>\n",
       "      <th>4</th>\n",
       "      <td>5mackendy</td>\n",
       "      <td>58</td>\n",
       "    </tr>\n",
       "    <tr>\n",
       "      <th>22</th>\n",
       "      <td>j2emilio</td>\n",
       "      <td>56</td>\n",
       "    </tr>\n",
       "    <tr>\n",
       "      <th>21</th>\n",
       "      <td>j1vincent</td>\n",
       "      <td>50</td>\n",
       "    </tr>\n",
       "    <tr>\n",
       "      <th>6</th>\n",
       "      <td>6wanes</td>\n",
       "      <td>49</td>\n",
       "    </tr>\n",
       "    <tr>\n",
       "      <th>3</th>\n",
       "      <td>5loudelene</td>\n",
       "      <td>49</td>\n",
       "    </tr>\n",
       "    <tr>\n",
       "      <th>33</th>\n",
       "      <td>j6benest</td>\n",
       "      <td>31</td>\n",
       "    </tr>\n",
       "    <tr>\n",
       "      <th>34</th>\n",
       "      <td>j6emanise</td>\n",
       "      <td>26</td>\n",
       "    </tr>\n",
       "  </tbody>\n",
       "</table>\n",
       "</div>"
      ],
      "text/plain": [
       "        agent_code  Nombre de ménage compté\n",
       "20         j1seide                      553\n",
       "25      j3plaisime                      394\n",
       "32        j6arison                      390\n",
       "43        j6yvenes                      328\n",
       "9          j1edner                      316\n",
       "7        j1appolon                      312\n",
       "23      j3donathan                      303\n",
       "37         j6jeune                      290\n",
       "26      j4beauvais                      288\n",
       "36        j6guerby                      279\n",
       "18  j1pierregilles                      269\n",
       "15       j1moncion                      269\n",
       "41       j6patrick                      266\n",
       "28        j4frantz                      263\n",
       "16      j1napolean                      251\n",
       "39     j6loubenson                      247\n",
       "17        j1pierre                      246\n",
       "2            3carl                      241\n",
       "42        j6ribert                      239\n",
       "19        j1renaud                      238\n",
       "38         j6jonel                      228\n",
       "12      j1jnpierre                      222\n",
       "27      j4francois                      220\n",
       "1       1mackenson                      213\n",
       "29        j4wilnes                      212\n",
       "40      j6nechelet                      204\n",
       "35        j6geniel                      183\n",
       "8        j1cepoudy                      162\n",
       "5         6jkenson                      160\n",
       "31       j5oligene                      159\n",
       "0          1jdensy                      158\n",
       "10      j1fadeline                      147\n",
       "30       j5hilaire                      129\n",
       "24         j3hergy                      129\n",
       "13    j1louisjeune                      125\n",
       "14     j1maudeline                       91\n",
       "11         j1james                       85\n",
       "4        5mackendy                       58\n",
       "22        j2emilio                       56\n",
       "21       j1vincent                       50\n",
       "6           6wanes                       49\n",
       "3       5loudelene                       49\n",
       "33        j6benest                       31\n",
       "34       j6emanise                       26"
      ]
     },
     "execution_count": 5,
     "metadata": {},
     "output_type": "execute_result"
    }
   ],
   "source": [
    "all_gardens = all_gardens[(all_gardens.closed == False) & (all_gardens['beneficiary_type'].isin(['malnutrition_program', 'neighbor', 'dreams']))]\n",
    "#---------------------------------------------------------------------------------------------------------------------------------------\n",
    "\n",
    "household_form = household_form.drop_duplicates('form.case.@case_id').reset_index(drop = True)\n",
    "household_form = household_form[household_form['form.case.@case_id'].isin(all_gardens['info.case_id'])]\n",
    "household_form['username'].replace(['j3carmelle', 'j1louis'], ['3carl', '1mackenson'], inplace = True)\n",
    "household_grouped = household_form.groupby('username').count()[['form.case.@case_id']]\n",
    "household_grouped.reset_index(inplace = True)\n",
    "household_grouped.rename(columns = {'form.case.@case_id': 'Nombre de ménage compté',\n",
    "                                   'username': 'agent_code'}, inplace = True)\n",
    "household_grouped.sort_values('Nombre de ménage compté', ascending = False, inplace = True)\n",
    "household_grouped"
   ]
  },
  {
   "cell_type": "code",
   "execution_count": 6,
   "metadata": {},
   "outputs": [],
   "source": [
    "# household_form.to_excel('Test_household.xlsx', index = False)"
   ]
  },
  {
   "cell_type": "code",
   "execution_count": 7,
   "metadata": {},
   "outputs": [],
   "source": [
    "# all_gardens = all_gardens[(all_gardens.closed == False) & (all_gardens['beneficiary_type'].isin(['Caris']))]\n",
    "# #---------------------------------------------------------------------------------------------------------------------------------------\n",
    "\n",
    "# household_form = household_form.drop_duplicates('form.case.@case_id').reset_index(drop = True)\n",
    "# household_form = household_form[household_form['form.case.@case_id'].isin(all_gardens['info.case_id'])]\n",
    "# household_grouped = household_form.groupby('username').count()[['form.case.@case_id']]\n",
    "# household_grouped.reset_index(inplace = True)\n",
    "# household_grouped.rename(columns = {'form.case.@case_id': 'Nombre de ménage compté',\n",
    "#                                    'username': 'agent_code'}, inplace = True)\n",
    "# household_grouped.sort_values('Nombre de ménage compté', ascending = False, inplace = True)\n",
    "# household_grouped.head()"
   ]
  },
  {
   "cell_type": "code",
   "execution_count": 8,
   "metadata": {},
   "outputs": [
    {
     "name": "stdout",
     "output_type": "stream",
     "text": [
      "Number of household counted: 9128.\n"
     ]
    }
   ],
   "source": [
    "print(f\"Number of household counted: {np.sum(household_grouped['Nombre de ménage compté'])}.\")"
   ]
  },
  {
   "cell_type": "markdown",
   "metadata": {},
   "source": [
    "#### Household counted by agent"
   ]
  },
  {
   "cell_type": "code",
   "execution_count": 9,
   "metadata": {},
   "outputs": [
    {
     "data": {
      "application/vnd.plotly.v1+json": {
       "config": {
        "plotlyServerURL": "https://plot.ly"
       },
       "data": [
        {
         "alignmentgroup": "True",
         "hovertemplate": "agent_code=%{x}<br>Nombre de ménage compté=%{y}<extra></extra>",
         "legendgroup": "",
         "marker": {
          "color": "#636efa",
          "pattern": {
           "shape": ""
          }
         },
         "name": "",
         "offsetgroup": "",
         "orientation": "v",
         "showlegend": false,
         "textposition": "auto",
         "type": "bar",
         "x": [
          "j1seide",
          "j3plaisime",
          "j6arison",
          "j6yvenes",
          "j1edner",
          "j1appolon",
          "j3donathan",
          "j6jeune",
          "j4beauvais",
          "j6guerby",
          "j1pierregilles",
          "j1moncion",
          "j6patrick",
          "j4frantz",
          "j1napolean",
          "j6loubenson",
          "j1pierre",
          "3carl",
          "j6ribert",
          "j1renaud",
          "j6jonel",
          "j1jnpierre",
          "j4francois",
          "1mackenson",
          "j4wilnes",
          "j6nechelet",
          "j6geniel",
          "j1cepoudy",
          "6jkenson",
          "j5oligene",
          "1jdensy",
          "j1fadeline",
          "j5hilaire",
          "j3hergy",
          "j1louisjeune",
          "j1maudeline",
          "j1james",
          "5mackendy",
          "j2emilio",
          "j1vincent",
          "6wanes",
          "5loudelene",
          "j6benest",
          "j6emanise"
         ],
         "xaxis": "x",
         "y": [
          553,
          394,
          390,
          328,
          316,
          312,
          303,
          290,
          288,
          279,
          269,
          269,
          266,
          263,
          251,
          247,
          246,
          241,
          239,
          238,
          228,
          222,
          220,
          213,
          212,
          204,
          183,
          162,
          160,
          159,
          158,
          147,
          129,
          129,
          125,
          91,
          85,
          58,
          56,
          50,
          49,
          49,
          31,
          26
         ],
         "yaxis": "y"
        }
       ],
       "layout": {
        "barmode": "relative",
        "legend": {
         "tracegroupgap": 0
        },
        "margin": {
         "t": 60
        },
        "template": {
         "data": {
          "bar": [
           {
            "error_x": {
             "color": "#2a3f5f"
            },
            "error_y": {
             "color": "#2a3f5f"
            },
            "marker": {
             "line": {
              "color": "#E5ECF6",
              "width": 0.5
             },
             "pattern": {
              "fillmode": "overlay",
              "size": 10,
              "solidity": 0.2
             }
            },
            "type": "bar"
           }
          ],
          "barpolar": [
           {
            "marker": {
             "line": {
              "color": "#E5ECF6",
              "width": 0.5
             },
             "pattern": {
              "fillmode": "overlay",
              "size": 10,
              "solidity": 0.2
             }
            },
            "type": "barpolar"
           }
          ],
          "carpet": [
           {
            "aaxis": {
             "endlinecolor": "#2a3f5f",
             "gridcolor": "white",
             "linecolor": "white",
             "minorgridcolor": "white",
             "startlinecolor": "#2a3f5f"
            },
            "baxis": {
             "endlinecolor": "#2a3f5f",
             "gridcolor": "white",
             "linecolor": "white",
             "minorgridcolor": "white",
             "startlinecolor": "#2a3f5f"
            },
            "type": "carpet"
           }
          ],
          "choropleth": [
           {
            "colorbar": {
             "outlinewidth": 0,
             "ticks": ""
            },
            "type": "choropleth"
           }
          ],
          "contour": [
           {
            "colorbar": {
             "outlinewidth": 0,
             "ticks": ""
            },
            "colorscale": [
             [
              0,
              "#0d0887"
             ],
             [
              0.1111111111111111,
              "#46039f"
             ],
             [
              0.2222222222222222,
              "#7201a8"
             ],
             [
              0.3333333333333333,
              "#9c179e"
             ],
             [
              0.4444444444444444,
              "#bd3786"
             ],
             [
              0.5555555555555556,
              "#d8576b"
             ],
             [
              0.6666666666666666,
              "#ed7953"
             ],
             [
              0.7777777777777778,
              "#fb9f3a"
             ],
             [
              0.8888888888888888,
              "#fdca26"
             ],
             [
              1,
              "#f0f921"
             ]
            ],
            "type": "contour"
           }
          ],
          "contourcarpet": [
           {
            "colorbar": {
             "outlinewidth": 0,
             "ticks": ""
            },
            "type": "contourcarpet"
           }
          ],
          "heatmap": [
           {
            "colorbar": {
             "outlinewidth": 0,
             "ticks": ""
            },
            "colorscale": [
             [
              0,
              "#0d0887"
             ],
             [
              0.1111111111111111,
              "#46039f"
             ],
             [
              0.2222222222222222,
              "#7201a8"
             ],
             [
              0.3333333333333333,
              "#9c179e"
             ],
             [
              0.4444444444444444,
              "#bd3786"
             ],
             [
              0.5555555555555556,
              "#d8576b"
             ],
             [
              0.6666666666666666,
              "#ed7953"
             ],
             [
              0.7777777777777778,
              "#fb9f3a"
             ],
             [
              0.8888888888888888,
              "#fdca26"
             ],
             [
              1,
              "#f0f921"
             ]
            ],
            "type": "heatmap"
           }
          ],
          "heatmapgl": [
           {
            "colorbar": {
             "outlinewidth": 0,
             "ticks": ""
            },
            "colorscale": [
             [
              0,
              "#0d0887"
             ],
             [
              0.1111111111111111,
              "#46039f"
             ],
             [
              0.2222222222222222,
              "#7201a8"
             ],
             [
              0.3333333333333333,
              "#9c179e"
             ],
             [
              0.4444444444444444,
              "#bd3786"
             ],
             [
              0.5555555555555556,
              "#d8576b"
             ],
             [
              0.6666666666666666,
              "#ed7953"
             ],
             [
              0.7777777777777778,
              "#fb9f3a"
             ],
             [
              0.8888888888888888,
              "#fdca26"
             ],
             [
              1,
              "#f0f921"
             ]
            ],
            "type": "heatmapgl"
           }
          ],
          "histogram": [
           {
            "marker": {
             "pattern": {
              "fillmode": "overlay",
              "size": 10,
              "solidity": 0.2
             }
            },
            "type": "histogram"
           }
          ],
          "histogram2d": [
           {
            "colorbar": {
             "outlinewidth": 0,
             "ticks": ""
            },
            "colorscale": [
             [
              0,
              "#0d0887"
             ],
             [
              0.1111111111111111,
              "#46039f"
             ],
             [
              0.2222222222222222,
              "#7201a8"
             ],
             [
              0.3333333333333333,
              "#9c179e"
             ],
             [
              0.4444444444444444,
              "#bd3786"
             ],
             [
              0.5555555555555556,
              "#d8576b"
             ],
             [
              0.6666666666666666,
              "#ed7953"
             ],
             [
              0.7777777777777778,
              "#fb9f3a"
             ],
             [
              0.8888888888888888,
              "#fdca26"
             ],
             [
              1,
              "#f0f921"
             ]
            ],
            "type": "histogram2d"
           }
          ],
          "histogram2dcontour": [
           {
            "colorbar": {
             "outlinewidth": 0,
             "ticks": ""
            },
            "colorscale": [
             [
              0,
              "#0d0887"
             ],
             [
              0.1111111111111111,
              "#46039f"
             ],
             [
              0.2222222222222222,
              "#7201a8"
             ],
             [
              0.3333333333333333,
              "#9c179e"
             ],
             [
              0.4444444444444444,
              "#bd3786"
             ],
             [
              0.5555555555555556,
              "#d8576b"
             ],
             [
              0.6666666666666666,
              "#ed7953"
             ],
             [
              0.7777777777777778,
              "#fb9f3a"
             ],
             [
              0.8888888888888888,
              "#fdca26"
             ],
             [
              1,
              "#f0f921"
             ]
            ],
            "type": "histogram2dcontour"
           }
          ],
          "mesh3d": [
           {
            "colorbar": {
             "outlinewidth": 0,
             "ticks": ""
            },
            "type": "mesh3d"
           }
          ],
          "parcoords": [
           {
            "line": {
             "colorbar": {
              "outlinewidth": 0,
              "ticks": ""
             }
            },
            "type": "parcoords"
           }
          ],
          "pie": [
           {
            "automargin": true,
            "type": "pie"
           }
          ],
          "scatter": [
           {
            "fillpattern": {
             "fillmode": "overlay",
             "size": 10,
             "solidity": 0.2
            },
            "type": "scatter"
           }
          ],
          "scatter3d": [
           {
            "line": {
             "colorbar": {
              "outlinewidth": 0,
              "ticks": ""
             }
            },
            "marker": {
             "colorbar": {
              "outlinewidth": 0,
              "ticks": ""
             }
            },
            "type": "scatter3d"
           }
          ],
          "scattercarpet": [
           {
            "marker": {
             "colorbar": {
              "outlinewidth": 0,
              "ticks": ""
             }
            },
            "type": "scattercarpet"
           }
          ],
          "scattergeo": [
           {
            "marker": {
             "colorbar": {
              "outlinewidth": 0,
              "ticks": ""
             }
            },
            "type": "scattergeo"
           }
          ],
          "scattergl": [
           {
            "marker": {
             "colorbar": {
              "outlinewidth": 0,
              "ticks": ""
             }
            },
            "type": "scattergl"
           }
          ],
          "scattermapbox": [
           {
            "marker": {
             "colorbar": {
              "outlinewidth": 0,
              "ticks": ""
             }
            },
            "type": "scattermapbox"
           }
          ],
          "scatterpolar": [
           {
            "marker": {
             "colorbar": {
              "outlinewidth": 0,
              "ticks": ""
             }
            },
            "type": "scatterpolar"
           }
          ],
          "scatterpolargl": [
           {
            "marker": {
             "colorbar": {
              "outlinewidth": 0,
              "ticks": ""
             }
            },
            "type": "scatterpolargl"
           }
          ],
          "scatterternary": [
           {
            "marker": {
             "colorbar": {
              "outlinewidth": 0,
              "ticks": ""
             }
            },
            "type": "scatterternary"
           }
          ],
          "surface": [
           {
            "colorbar": {
             "outlinewidth": 0,
             "ticks": ""
            },
            "colorscale": [
             [
              0,
              "#0d0887"
             ],
             [
              0.1111111111111111,
              "#46039f"
             ],
             [
              0.2222222222222222,
              "#7201a8"
             ],
             [
              0.3333333333333333,
              "#9c179e"
             ],
             [
              0.4444444444444444,
              "#bd3786"
             ],
             [
              0.5555555555555556,
              "#d8576b"
             ],
             [
              0.6666666666666666,
              "#ed7953"
             ],
             [
              0.7777777777777778,
              "#fb9f3a"
             ],
             [
              0.8888888888888888,
              "#fdca26"
             ],
             [
              1,
              "#f0f921"
             ]
            ],
            "type": "surface"
           }
          ],
          "table": [
           {
            "cells": {
             "fill": {
              "color": "#EBF0F8"
             },
             "line": {
              "color": "white"
             }
            },
            "header": {
             "fill": {
              "color": "#C8D4E3"
             },
             "line": {
              "color": "white"
             }
            },
            "type": "table"
           }
          ]
         },
         "layout": {
          "annotationdefaults": {
           "arrowcolor": "#2a3f5f",
           "arrowhead": 0,
           "arrowwidth": 1
          },
          "autotypenumbers": "strict",
          "coloraxis": {
           "colorbar": {
            "outlinewidth": 0,
            "ticks": ""
           }
          },
          "colorscale": {
           "diverging": [
            [
             0,
             "#8e0152"
            ],
            [
             0.1,
             "#c51b7d"
            ],
            [
             0.2,
             "#de77ae"
            ],
            [
             0.3,
             "#f1b6da"
            ],
            [
             0.4,
             "#fde0ef"
            ],
            [
             0.5,
             "#f7f7f7"
            ],
            [
             0.6,
             "#e6f5d0"
            ],
            [
             0.7,
             "#b8e186"
            ],
            [
             0.8,
             "#7fbc41"
            ],
            [
             0.9,
             "#4d9221"
            ],
            [
             1,
             "#276419"
            ]
           ],
           "sequential": [
            [
             0,
             "#0d0887"
            ],
            [
             0.1111111111111111,
             "#46039f"
            ],
            [
             0.2222222222222222,
             "#7201a8"
            ],
            [
             0.3333333333333333,
             "#9c179e"
            ],
            [
             0.4444444444444444,
             "#bd3786"
            ],
            [
             0.5555555555555556,
             "#d8576b"
            ],
            [
             0.6666666666666666,
             "#ed7953"
            ],
            [
             0.7777777777777778,
             "#fb9f3a"
            ],
            [
             0.8888888888888888,
             "#fdca26"
            ],
            [
             1,
             "#f0f921"
            ]
           ],
           "sequentialminus": [
            [
             0,
             "#0d0887"
            ],
            [
             0.1111111111111111,
             "#46039f"
            ],
            [
             0.2222222222222222,
             "#7201a8"
            ],
            [
             0.3333333333333333,
             "#9c179e"
            ],
            [
             0.4444444444444444,
             "#bd3786"
            ],
            [
             0.5555555555555556,
             "#d8576b"
            ],
            [
             0.6666666666666666,
             "#ed7953"
            ],
            [
             0.7777777777777778,
             "#fb9f3a"
            ],
            [
             0.8888888888888888,
             "#fdca26"
            ],
            [
             1,
             "#f0f921"
            ]
           ]
          },
          "colorway": [
           "#636efa",
           "#EF553B",
           "#00cc96",
           "#ab63fa",
           "#FFA15A",
           "#19d3f3",
           "#FF6692",
           "#B6E880",
           "#FF97FF",
           "#FECB52"
          ],
          "font": {
           "color": "#2a3f5f"
          },
          "geo": {
           "bgcolor": "white",
           "lakecolor": "white",
           "landcolor": "#E5ECF6",
           "showlakes": true,
           "showland": true,
           "subunitcolor": "white"
          },
          "hoverlabel": {
           "align": "left"
          },
          "hovermode": "closest",
          "mapbox": {
           "style": "light"
          },
          "paper_bgcolor": "white",
          "plot_bgcolor": "#E5ECF6",
          "polar": {
           "angularaxis": {
            "gridcolor": "white",
            "linecolor": "white",
            "ticks": ""
           },
           "bgcolor": "#E5ECF6",
           "radialaxis": {
            "gridcolor": "white",
            "linecolor": "white",
            "ticks": ""
           }
          },
          "scene": {
           "xaxis": {
            "backgroundcolor": "#E5ECF6",
            "gridcolor": "white",
            "gridwidth": 2,
            "linecolor": "white",
            "showbackground": true,
            "ticks": "",
            "zerolinecolor": "white"
           },
           "yaxis": {
            "backgroundcolor": "#E5ECF6",
            "gridcolor": "white",
            "gridwidth": 2,
            "linecolor": "white",
            "showbackground": true,
            "ticks": "",
            "zerolinecolor": "white"
           },
           "zaxis": {
            "backgroundcolor": "#E5ECF6",
            "gridcolor": "white",
            "gridwidth": 2,
            "linecolor": "white",
            "showbackground": true,
            "ticks": "",
            "zerolinecolor": "white"
           }
          },
          "shapedefaults": {
           "line": {
            "color": "#2a3f5f"
           }
          },
          "ternary": {
           "aaxis": {
            "gridcolor": "white",
            "linecolor": "white",
            "ticks": ""
           },
           "baxis": {
            "gridcolor": "white",
            "linecolor": "white",
            "ticks": ""
           },
           "bgcolor": "#E5ECF6",
           "caxis": {
            "gridcolor": "white",
            "linecolor": "white",
            "ticks": ""
           }
          },
          "title": {
           "x": 0.05
          },
          "xaxis": {
           "automargin": true,
           "gridcolor": "white",
           "linecolor": "white",
           "ticks": "",
           "title": {
            "standoff": 15
           },
           "zerolinecolor": "white",
           "zerolinewidth": 2
          },
          "yaxis": {
           "automargin": true,
           "gridcolor": "white",
           "linecolor": "white",
           "ticks": "",
           "title": {
            "standoff": 15
           },
           "zerolinecolor": "white",
           "zerolinewidth": 2
          }
         }
        },
        "xaxis": {
         "anchor": "y",
         "domain": [
          0,
          1
         ],
         "title": {
          "text": "agent_code"
         }
        },
        "yaxis": {
         "anchor": "x",
         "domain": [
          0,
          1
         ],
         "title": {
          "text": "Nombre de ménage compté"
         }
        }
       }
      }
     },
     "metadata": {},
     "output_type": "display_data"
    }
   ],
   "source": [
    "px.bar(household_grouped, x = 'agent_code', y = 'Nombre de ménage compté')"
   ]
  },
  {
   "cell_type": "code",
   "execution_count": 11,
   "metadata": {},
   "outputs": [
    {
     "data": {
      "text/html": [
       "<div>\n",
       "<style scoped>\n",
       "    .dataframe tbody tr th:only-of-type {\n",
       "        vertical-align: middle;\n",
       "    }\n",
       "\n",
       "    .dataframe tbody tr th {\n",
       "        vertical-align: top;\n",
       "    }\n",
       "\n",
       "    .dataframe thead th {\n",
       "        text-align: right;\n",
       "    }\n",
       "</style>\n",
       "<table border=\"1\" class=\"dataframe\">\n",
       "  <thead>\n",
       "    <tr style=\"text-align: right;\">\n",
       "      <th></th>\n",
       "      <th>agent_code</th>\n",
       "      <th>Agent_name</th>\n",
       "      <th>office</th>\n",
       "    </tr>\n",
       "  </thead>\n",
       "  <tbody>\n",
       "    <tr>\n",
       "      <th>0</th>\n",
       "      <td>j1appolon</td>\n",
       "      <td>Appolon Willy</td>\n",
       "      <td>Cap-Haïtien</td>\n",
       "    </tr>\n",
       "    <tr>\n",
       "      <th>1</th>\n",
       "      <td>j1cepoudy</td>\n",
       "      <td>Cepoudy Elide</td>\n",
       "      <td>Cap-Haïtien</td>\n",
       "    </tr>\n",
       "    <tr>\n",
       "      <th>2</th>\n",
       "      <td>j1fadeline</td>\n",
       "      <td>Fadeline Antenor</td>\n",
       "      <td>Cap-Haïtien</td>\n",
       "    </tr>\n",
       "    <tr>\n",
       "      <th>3</th>\n",
       "      <td>j1james</td>\n",
       "      <td>James Jean Pierre</td>\n",
       "      <td>Cap-Haïtien</td>\n",
       "    </tr>\n",
       "    <tr>\n",
       "      <th>4</th>\n",
       "      <td>j1louisjeune</td>\n",
       "      <td>Louis Jeune Dadie</td>\n",
       "      <td>Cap-Haïtien</td>\n",
       "    </tr>\n",
       "  </tbody>\n",
       "</table>\n",
       "</div>"
      ],
      "text/plain": [
       "     agent_code         Agent_name       office\n",
       "0     j1appolon      Appolon Willy  Cap-Haïtien\n",
       "1     j1cepoudy      Cepoudy Elide  Cap-Haïtien\n",
       "2    j1fadeline   Fadeline Antenor  Cap-Haïtien\n",
       "3       j1james  James Jean Pierre  Cap-Haïtien\n",
       "4  j1louisjeune  Louis Jeune Dadie  Cap-Haïtien"
      ]
     },
     "execution_count": 11,
     "metadata": {},
     "output_type": "execute_result"
    }
   ],
   "source": [
    "lookup_agent = pd.read_excel('./lookup_gardening.xlsx', sheet_name='Sheet1')\n",
    "lookup_agent.rename(columns = {'username': 'agent_code',\n",
    "                              'name': 'Agent_name'}, inplace = True)\n",
    "lookup_agent.head()"
   ]
  },
  {
   "cell_type": "markdown",
   "metadata": {},
   "source": [
    "### Beneficiaries infos"
   ]
  },
  {
   "cell_type": "code",
   "execution_count": 12,
   "metadata": {},
   "outputs": [
    {
     "data": {
      "text/html": [
       "<div>\n",
       "<style scoped>\n",
       "    .dataframe tbody tr th:only-of-type {\n",
       "        vertical-align: middle;\n",
       "    }\n",
       "\n",
       "    .dataframe tbody tr th {\n",
       "        vertical-align: top;\n",
       "    }\n",
       "\n",
       "    .dataframe thead th {\n",
       "        text-align: right;\n",
       "    }\n",
       "</style>\n",
       "<table border=\"1\" class=\"dataframe\">\n",
       "  <thead>\n",
       "    <tr style=\"text-align: right;\">\n",
       "      <th></th>\n",
       "      <th>agent_code</th>\n",
       "      <th>Nombre de ménage à compter</th>\n",
       "    </tr>\n",
       "  </thead>\n",
       "  <tbody>\n",
       "    <tr>\n",
       "      <th>0</th>\n",
       "      <td>1jdensy</td>\n",
       "      <td>158</td>\n",
       "    </tr>\n",
       "    <tr>\n",
       "      <th>1</th>\n",
       "      <td>1mackenson</td>\n",
       "      <td>213</td>\n",
       "    </tr>\n",
       "    <tr>\n",
       "      <th>2</th>\n",
       "      <td>3carl</td>\n",
       "      <td>246</td>\n",
       "    </tr>\n",
       "    <tr>\n",
       "      <th>3</th>\n",
       "      <td>5loudelene</td>\n",
       "      <td>49</td>\n",
       "    </tr>\n",
       "    <tr>\n",
       "      <th>4</th>\n",
       "      <td>5mackendy</td>\n",
       "      <td>60</td>\n",
       "    </tr>\n",
       "    <tr>\n",
       "      <th>5</th>\n",
       "      <td>6jkenson</td>\n",
       "      <td>160</td>\n",
       "    </tr>\n",
       "    <tr>\n",
       "      <th>6</th>\n",
       "      <td>6wanes</td>\n",
       "      <td>110</td>\n",
       "    </tr>\n",
       "    <tr>\n",
       "      <th>7</th>\n",
       "      <td>j1appolon</td>\n",
       "      <td>311</td>\n",
       "    </tr>\n",
       "    <tr>\n",
       "      <th>8</th>\n",
       "      <td>j1cepoudy</td>\n",
       "      <td>162</td>\n",
       "    </tr>\n",
       "    <tr>\n",
       "      <th>9</th>\n",
       "      <td>j1edner</td>\n",
       "      <td>316</td>\n",
       "    </tr>\n",
       "    <tr>\n",
       "      <th>10</th>\n",
       "      <td>j1fadeline</td>\n",
       "      <td>147</td>\n",
       "    </tr>\n",
       "    <tr>\n",
       "      <th>11</th>\n",
       "      <td>j1james</td>\n",
       "      <td>85</td>\n",
       "    </tr>\n",
       "    <tr>\n",
       "      <th>12</th>\n",
       "      <td>j1jnpierre</td>\n",
       "      <td>223</td>\n",
       "    </tr>\n",
       "    <tr>\n",
       "      <th>13</th>\n",
       "      <td>j1louisjeune</td>\n",
       "      <td>126</td>\n",
       "    </tr>\n",
       "    <tr>\n",
       "      <th>14</th>\n",
       "      <td>j1maudeline</td>\n",
       "      <td>91</td>\n",
       "    </tr>\n",
       "    <tr>\n",
       "      <th>15</th>\n",
       "      <td>j1moncion</td>\n",
       "      <td>269</td>\n",
       "    </tr>\n",
       "    <tr>\n",
       "      <th>16</th>\n",
       "      <td>j1napolean</td>\n",
       "      <td>251</td>\n",
       "    </tr>\n",
       "    <tr>\n",
       "      <th>17</th>\n",
       "      <td>j1pierre</td>\n",
       "      <td>246</td>\n",
       "    </tr>\n",
       "    <tr>\n",
       "      <th>18</th>\n",
       "      <td>j1pierregilles</td>\n",
       "      <td>269</td>\n",
       "    </tr>\n",
       "    <tr>\n",
       "      <th>19</th>\n",
       "      <td>j1renaud</td>\n",
       "      <td>238</td>\n",
       "    </tr>\n",
       "    <tr>\n",
       "      <th>20</th>\n",
       "      <td>j1seide</td>\n",
       "      <td>553</td>\n",
       "    </tr>\n",
       "    <tr>\n",
       "      <th>21</th>\n",
       "      <td>j1vincent</td>\n",
       "      <td>50</td>\n",
       "    </tr>\n",
       "    <tr>\n",
       "      <th>22</th>\n",
       "      <td>j2emilio</td>\n",
       "      <td>56</td>\n",
       "    </tr>\n",
       "    <tr>\n",
       "      <th>23</th>\n",
       "      <td>j3donathan</td>\n",
       "      <td>303</td>\n",
       "    </tr>\n",
       "    <tr>\n",
       "      <th>24</th>\n",
       "      <td>j3hergy</td>\n",
       "      <td>129</td>\n",
       "    </tr>\n",
       "    <tr>\n",
       "      <th>25</th>\n",
       "      <td>j3plaisime</td>\n",
       "      <td>394</td>\n",
       "    </tr>\n",
       "    <tr>\n",
       "      <th>26</th>\n",
       "      <td>j4beauvais</td>\n",
       "      <td>288</td>\n",
       "    </tr>\n",
       "    <tr>\n",
       "      <th>27</th>\n",
       "      <td>j4francois</td>\n",
       "      <td>222</td>\n",
       "    </tr>\n",
       "    <tr>\n",
       "      <th>28</th>\n",
       "      <td>j4frantz</td>\n",
       "      <td>263</td>\n",
       "    </tr>\n",
       "    <tr>\n",
       "      <th>29</th>\n",
       "      <td>j4wilnes</td>\n",
       "      <td>212</td>\n",
       "    </tr>\n",
       "    <tr>\n",
       "      <th>30</th>\n",
       "      <td>j5hilaire</td>\n",
       "      <td>129</td>\n",
       "    </tr>\n",
       "    <tr>\n",
       "      <th>31</th>\n",
       "      <td>j5oligene</td>\n",
       "      <td>159</td>\n",
       "    </tr>\n",
       "    <tr>\n",
       "      <th>32</th>\n",
       "      <td>j6arison</td>\n",
       "      <td>329</td>\n",
       "    </tr>\n",
       "    <tr>\n",
       "      <th>33</th>\n",
       "      <td>j6benest</td>\n",
       "      <td>31</td>\n",
       "    </tr>\n",
       "    <tr>\n",
       "      <th>34</th>\n",
       "      <td>j6emanise</td>\n",
       "      <td>27</td>\n",
       "    </tr>\n",
       "    <tr>\n",
       "      <th>35</th>\n",
       "      <td>j6geniel</td>\n",
       "      <td>183</td>\n",
       "    </tr>\n",
       "    <tr>\n",
       "      <th>36</th>\n",
       "      <td>j6guerby</td>\n",
       "      <td>279</td>\n",
       "    </tr>\n",
       "    <tr>\n",
       "      <th>37</th>\n",
       "      <td>j6jeune</td>\n",
       "      <td>290</td>\n",
       "    </tr>\n",
       "    <tr>\n",
       "      <th>38</th>\n",
       "      <td>j6jonel</td>\n",
       "      <td>228</td>\n",
       "    </tr>\n",
       "    <tr>\n",
       "      <th>39</th>\n",
       "      <td>j6loubenson</td>\n",
       "      <td>247</td>\n",
       "    </tr>\n",
       "    <tr>\n",
       "      <th>40</th>\n",
       "      <td>j6nechelet</td>\n",
       "      <td>204</td>\n",
       "    </tr>\n",
       "    <tr>\n",
       "      <th>41</th>\n",
       "      <td>j6patrick</td>\n",
       "      <td>266</td>\n",
       "    </tr>\n",
       "    <tr>\n",
       "      <th>42</th>\n",
       "      <td>j6ribert</td>\n",
       "      <td>239</td>\n",
       "    </tr>\n",
       "    <tr>\n",
       "      <th>43</th>\n",
       "      <td>j6yvenes</td>\n",
       "      <td>328</td>\n",
       "    </tr>\n",
       "  </tbody>\n",
       "</table>\n",
       "</div>"
      ],
      "text/plain": [
       "        agent_code  Nombre de ménage à compter\n",
       "0          1jdensy                         158\n",
       "1       1mackenson                         213\n",
       "2            3carl                         246\n",
       "3       5loudelene                          49\n",
       "4        5mackendy                          60\n",
       "5         6jkenson                         160\n",
       "6           6wanes                         110\n",
       "7        j1appolon                         311\n",
       "8        j1cepoudy                         162\n",
       "9          j1edner                         316\n",
       "10      j1fadeline                         147\n",
       "11         j1james                          85\n",
       "12      j1jnpierre                         223\n",
       "13    j1louisjeune                         126\n",
       "14     j1maudeline                          91\n",
       "15       j1moncion                         269\n",
       "16      j1napolean                         251\n",
       "17        j1pierre                         246\n",
       "18  j1pierregilles                         269\n",
       "19        j1renaud                         238\n",
       "20         j1seide                         553\n",
       "21       j1vincent                          50\n",
       "22        j2emilio                          56\n",
       "23      j3donathan                         303\n",
       "24         j3hergy                         129\n",
       "25      j3plaisime                         394\n",
       "26      j4beauvais                         288\n",
       "27      j4francois                         222\n",
       "28        j4frantz                         263\n",
       "29        j4wilnes                         212\n",
       "30       j5hilaire                         129\n",
       "31       j5oligene                         159\n",
       "32        j6arison                         329\n",
       "33        j6benest                          31\n",
       "34       j6emanise                          27\n",
       "35        j6geniel                         183\n",
       "36        j6guerby                         279\n",
       "37         j6jeune                         290\n",
       "38         j6jonel                         228\n",
       "39     j6loubenson                         247\n",
       "40      j6nechelet                         204\n",
       "41       j6patrick                         266\n",
       "42        j6ribert                         239\n",
       "43        j6yvenes                         328"
      ]
     },
     "execution_count": 12,
     "metadata": {},
     "output_type": "execute_result"
    }
   ],
   "source": [
    "agent_grouped_all = all_gardens.groupby('info.owner_name').count()[['info.case_id']]\n",
    "agent_grouped_all.reset_index(inplace = True)\n",
    "agent_grouped_all.rename(columns = {'info.case_id': 'Nombre de ménage à compter',\n",
    "                                   'info.owner_name': 'agent_code'}, inplace = True)\n",
    "agent_grouped_all"
   ]
  },
  {
   "cell_type": "code",
   "execution_count": 13,
   "metadata": {},
   "outputs": [
    {
     "data": {
      "text/html": [
       "<div>\n",
       "<style scoped>\n",
       "    .dataframe tbody tr th:only-of-type {\n",
       "        vertical-align: middle;\n",
       "    }\n",
       "\n",
       "    .dataframe tbody tr th {\n",
       "        vertical-align: top;\n",
       "    }\n",
       "\n",
       "    .dataframe thead th {\n",
       "        text-align: right;\n",
       "    }\n",
       "</style>\n",
       "<table border=\"1\" class=\"dataframe\">\n",
       "  <thead>\n",
       "    <tr style=\"text-align: right;\">\n",
       "      <th></th>\n",
       "      <th>address_department</th>\n",
       "      <th>Ménage global</th>\n",
       "    </tr>\n",
       "  </thead>\n",
       "  <tbody>\n",
       "    <tr>\n",
       "      <th>0</th>\n",
       "      <td>artibonite</td>\n",
       "      <td>2444</td>\n",
       "    </tr>\n",
       "    <tr>\n",
       "      <th>1</th>\n",
       "      <td>centre</td>\n",
       "      <td>2</td>\n",
       "    </tr>\n",
       "    <tr>\n",
       "      <th>2</th>\n",
       "      <td>grandanse</td>\n",
       "      <td>986</td>\n",
       "    </tr>\n",
       "    <tr>\n",
       "      <th>3</th>\n",
       "      <td>nippes</td>\n",
       "      <td>112</td>\n",
       "    </tr>\n",
       "    <tr>\n",
       "      <th>4</th>\n",
       "      <td>nord</td>\n",
       "      <td>2492</td>\n",
       "    </tr>\n",
       "    <tr>\n",
       "      <th>5</th>\n",
       "      <td>nord-est</td>\n",
       "      <td>1215</td>\n",
       "    </tr>\n",
       "    <tr>\n",
       "      <th>6</th>\n",
       "      <td>nord-ouest</td>\n",
       "      <td>842</td>\n",
       "    </tr>\n",
       "    <tr>\n",
       "      <th>7</th>\n",
       "      <td>ouest</td>\n",
       "      <td>87</td>\n",
       "    </tr>\n",
       "    <tr>\n",
       "      <th>8</th>\n",
       "      <td>sud</td>\n",
       "      <td>956</td>\n",
       "    </tr>\n",
       "  </tbody>\n",
       "</table>\n",
       "</div>"
      ],
      "text/plain": [
       "  address_department  Ménage global\n",
       "0         artibonite           2444\n",
       "1             centre              2\n",
       "2          grandanse            986\n",
       "3             nippes            112\n",
       "4               nord           2492\n",
       "5           nord-est           1215\n",
       "6         nord-ouest            842\n",
       "7              ouest             87\n",
       "8                sud            956"
      ]
     },
     "execution_count": 13,
     "metadata": {},
     "output_type": "execute_result"
    }
   ],
   "source": [
    "hh_td_depart = all_gardens.groupby('address_department').count()[['info.case_id']]\n",
    "hh_td_depart.reset_index(inplace = True)\n",
    "hh_td_depart.rename(columns = {'info.case_id': 'Ménage global'}, inplace = True)\n",
    "hh_td_depart"
   ]
  },
  {
   "cell_type": "code",
   "execution_count": 14,
   "metadata": {},
   "outputs": [],
   "source": [
    "# agent_grouped_all.to_excel('Agent_grouped.xlsx', index = False)\n",
    "# household_grouped.to_excel('Household_grouped.xlsx', index = False)"
   ]
  },
  {
   "cell_type": "code",
   "execution_count": 15,
   "metadata": {},
   "outputs": [
    {
     "data": {
      "text/html": [
       "<div>\n",
       "<style scoped>\n",
       "    .dataframe tbody tr th:only-of-type {\n",
       "        vertical-align: middle;\n",
       "    }\n",
       "\n",
       "    .dataframe tbody tr th {\n",
       "        vertical-align: top;\n",
       "    }\n",
       "\n",
       "    .dataframe thead th {\n",
       "        text-align: right;\n",
       "    }\n",
       "</style>\n",
       "<table border=\"1\" class=\"dataframe\">\n",
       "  <thead>\n",
       "    <tr style=\"text-align: right;\">\n",
       "      <th></th>\n",
       "      <th>agent_code</th>\n",
       "      <th>Nombre de ménage à compter</th>\n",
       "      <th>Nombre de ménage compté</th>\n",
       "    </tr>\n",
       "  </thead>\n",
       "  <tbody>\n",
       "    <tr>\n",
       "      <th>0</th>\n",
       "      <td>1jdensy</td>\n",
       "      <td>158</td>\n",
       "      <td>158</td>\n",
       "    </tr>\n",
       "    <tr>\n",
       "      <th>1</th>\n",
       "      <td>1mackenson</td>\n",
       "      <td>213</td>\n",
       "      <td>213</td>\n",
       "    </tr>\n",
       "    <tr>\n",
       "      <th>2</th>\n",
       "      <td>3carl</td>\n",
       "      <td>246</td>\n",
       "      <td>241</td>\n",
       "    </tr>\n",
       "    <tr>\n",
       "      <th>3</th>\n",
       "      <td>5loudelene</td>\n",
       "      <td>49</td>\n",
       "      <td>49</td>\n",
       "    </tr>\n",
       "    <tr>\n",
       "      <th>4</th>\n",
       "      <td>5mackendy</td>\n",
       "      <td>60</td>\n",
       "      <td>58</td>\n",
       "    </tr>\n",
       "    <tr>\n",
       "      <th>5</th>\n",
       "      <td>6jkenson</td>\n",
       "      <td>160</td>\n",
       "      <td>160</td>\n",
       "    </tr>\n",
       "    <tr>\n",
       "      <th>6</th>\n",
       "      <td>6wanes</td>\n",
       "      <td>110</td>\n",
       "      <td>49</td>\n",
       "    </tr>\n",
       "    <tr>\n",
       "      <th>7</th>\n",
       "      <td>j1appolon</td>\n",
       "      <td>311</td>\n",
       "      <td>312</td>\n",
       "    </tr>\n",
       "    <tr>\n",
       "      <th>8</th>\n",
       "      <td>j1cepoudy</td>\n",
       "      <td>162</td>\n",
       "      <td>162</td>\n",
       "    </tr>\n",
       "    <tr>\n",
       "      <th>9</th>\n",
       "      <td>j1edner</td>\n",
       "      <td>316</td>\n",
       "      <td>316</td>\n",
       "    </tr>\n",
       "    <tr>\n",
       "      <th>10</th>\n",
       "      <td>j1fadeline</td>\n",
       "      <td>147</td>\n",
       "      <td>147</td>\n",
       "    </tr>\n",
       "    <tr>\n",
       "      <th>11</th>\n",
       "      <td>j1james</td>\n",
       "      <td>85</td>\n",
       "      <td>85</td>\n",
       "    </tr>\n",
       "    <tr>\n",
       "      <th>12</th>\n",
       "      <td>j1jnpierre</td>\n",
       "      <td>223</td>\n",
       "      <td>222</td>\n",
       "    </tr>\n",
       "    <tr>\n",
       "      <th>13</th>\n",
       "      <td>j1louisjeune</td>\n",
       "      <td>126</td>\n",
       "      <td>125</td>\n",
       "    </tr>\n",
       "    <tr>\n",
       "      <th>14</th>\n",
       "      <td>j1maudeline</td>\n",
       "      <td>91</td>\n",
       "      <td>91</td>\n",
       "    </tr>\n",
       "    <tr>\n",
       "      <th>15</th>\n",
       "      <td>j1moncion</td>\n",
       "      <td>269</td>\n",
       "      <td>269</td>\n",
       "    </tr>\n",
       "    <tr>\n",
       "      <th>16</th>\n",
       "      <td>j1napolean</td>\n",
       "      <td>251</td>\n",
       "      <td>251</td>\n",
       "    </tr>\n",
       "    <tr>\n",
       "      <th>17</th>\n",
       "      <td>j1pierre</td>\n",
       "      <td>246</td>\n",
       "      <td>246</td>\n",
       "    </tr>\n",
       "    <tr>\n",
       "      <th>18</th>\n",
       "      <td>j1pierregilles</td>\n",
       "      <td>269</td>\n",
       "      <td>269</td>\n",
       "    </tr>\n",
       "    <tr>\n",
       "      <th>19</th>\n",
       "      <td>j1renaud</td>\n",
       "      <td>238</td>\n",
       "      <td>238</td>\n",
       "    </tr>\n",
       "    <tr>\n",
       "      <th>20</th>\n",
       "      <td>j1seide</td>\n",
       "      <td>553</td>\n",
       "      <td>553</td>\n",
       "    </tr>\n",
       "    <tr>\n",
       "      <th>21</th>\n",
       "      <td>j1vincent</td>\n",
       "      <td>50</td>\n",
       "      <td>50</td>\n",
       "    </tr>\n",
       "    <tr>\n",
       "      <th>22</th>\n",
       "      <td>j2emilio</td>\n",
       "      <td>56</td>\n",
       "      <td>56</td>\n",
       "    </tr>\n",
       "    <tr>\n",
       "      <th>23</th>\n",
       "      <td>j3donathan</td>\n",
       "      <td>303</td>\n",
       "      <td>303</td>\n",
       "    </tr>\n",
       "    <tr>\n",
       "      <th>24</th>\n",
       "      <td>j3hergy</td>\n",
       "      <td>129</td>\n",
       "      <td>129</td>\n",
       "    </tr>\n",
       "    <tr>\n",
       "      <th>25</th>\n",
       "      <td>j3plaisime</td>\n",
       "      <td>394</td>\n",
       "      <td>394</td>\n",
       "    </tr>\n",
       "    <tr>\n",
       "      <th>26</th>\n",
       "      <td>j4beauvais</td>\n",
       "      <td>288</td>\n",
       "      <td>288</td>\n",
       "    </tr>\n",
       "    <tr>\n",
       "      <th>27</th>\n",
       "      <td>j4francois</td>\n",
       "      <td>222</td>\n",
       "      <td>220</td>\n",
       "    </tr>\n",
       "    <tr>\n",
       "      <th>28</th>\n",
       "      <td>j4frantz</td>\n",
       "      <td>263</td>\n",
       "      <td>263</td>\n",
       "    </tr>\n",
       "    <tr>\n",
       "      <th>29</th>\n",
       "      <td>j4wilnes</td>\n",
       "      <td>212</td>\n",
       "      <td>212</td>\n",
       "    </tr>\n",
       "    <tr>\n",
       "      <th>30</th>\n",
       "      <td>j5hilaire</td>\n",
       "      <td>129</td>\n",
       "      <td>129</td>\n",
       "    </tr>\n",
       "    <tr>\n",
       "      <th>31</th>\n",
       "      <td>j5oligene</td>\n",
       "      <td>159</td>\n",
       "      <td>159</td>\n",
       "    </tr>\n",
       "    <tr>\n",
       "      <th>32</th>\n",
       "      <td>j6arison</td>\n",
       "      <td>329</td>\n",
       "      <td>390</td>\n",
       "    </tr>\n",
       "    <tr>\n",
       "      <th>33</th>\n",
       "      <td>j6benest</td>\n",
       "      <td>31</td>\n",
       "      <td>31</td>\n",
       "    </tr>\n",
       "    <tr>\n",
       "      <th>34</th>\n",
       "      <td>j6emanise</td>\n",
       "      <td>27</td>\n",
       "      <td>26</td>\n",
       "    </tr>\n",
       "    <tr>\n",
       "      <th>35</th>\n",
       "      <td>j6geniel</td>\n",
       "      <td>183</td>\n",
       "      <td>183</td>\n",
       "    </tr>\n",
       "    <tr>\n",
       "      <th>36</th>\n",
       "      <td>j6guerby</td>\n",
       "      <td>279</td>\n",
       "      <td>279</td>\n",
       "    </tr>\n",
       "    <tr>\n",
       "      <th>37</th>\n",
       "      <td>j6jeune</td>\n",
       "      <td>290</td>\n",
       "      <td>290</td>\n",
       "    </tr>\n",
       "    <tr>\n",
       "      <th>38</th>\n",
       "      <td>j6jonel</td>\n",
       "      <td>228</td>\n",
       "      <td>228</td>\n",
       "    </tr>\n",
       "    <tr>\n",
       "      <th>39</th>\n",
       "      <td>j6loubenson</td>\n",
       "      <td>247</td>\n",
       "      <td>247</td>\n",
       "    </tr>\n",
       "    <tr>\n",
       "      <th>40</th>\n",
       "      <td>j6nechelet</td>\n",
       "      <td>204</td>\n",
       "      <td>204</td>\n",
       "    </tr>\n",
       "    <tr>\n",
       "      <th>41</th>\n",
       "      <td>j6patrick</td>\n",
       "      <td>266</td>\n",
       "      <td>266</td>\n",
       "    </tr>\n",
       "    <tr>\n",
       "      <th>42</th>\n",
       "      <td>j6ribert</td>\n",
       "      <td>239</td>\n",
       "      <td>239</td>\n",
       "    </tr>\n",
       "    <tr>\n",
       "      <th>43</th>\n",
       "      <td>j6yvenes</td>\n",
       "      <td>328</td>\n",
       "      <td>328</td>\n",
       "    </tr>\n",
       "  </tbody>\n",
       "</table>\n",
       "</div>"
      ],
      "text/plain": [
       "        agent_code  Nombre de ménage à compter  Nombre de ménage compté\n",
       "0          1jdensy                         158                      158\n",
       "1       1mackenson                         213                      213\n",
       "2            3carl                         246                      241\n",
       "3       5loudelene                          49                       49\n",
       "4        5mackendy                          60                       58\n",
       "5         6jkenson                         160                      160\n",
       "6           6wanes                         110                       49\n",
       "7        j1appolon                         311                      312\n",
       "8        j1cepoudy                         162                      162\n",
       "9          j1edner                         316                      316\n",
       "10      j1fadeline                         147                      147\n",
       "11         j1james                          85                       85\n",
       "12      j1jnpierre                         223                      222\n",
       "13    j1louisjeune                         126                      125\n",
       "14     j1maudeline                          91                       91\n",
       "15       j1moncion                         269                      269\n",
       "16      j1napolean                         251                      251\n",
       "17        j1pierre                         246                      246\n",
       "18  j1pierregilles                         269                      269\n",
       "19        j1renaud                         238                      238\n",
       "20         j1seide                         553                      553\n",
       "21       j1vincent                          50                       50\n",
       "22        j2emilio                          56                       56\n",
       "23      j3donathan                         303                      303\n",
       "24         j3hergy                         129                      129\n",
       "25      j3plaisime                         394                      394\n",
       "26      j4beauvais                         288                      288\n",
       "27      j4francois                         222                      220\n",
       "28        j4frantz                         263                      263\n",
       "29        j4wilnes                         212                      212\n",
       "30       j5hilaire                         129                      129\n",
       "31       j5oligene                         159                      159\n",
       "32        j6arison                         329                      390\n",
       "33        j6benest                          31                       31\n",
       "34       j6emanise                          27                       26\n",
       "35        j6geniel                         183                      183\n",
       "36        j6guerby                         279                      279\n",
       "37         j6jeune                         290                      290\n",
       "38         j6jonel                         228                      228\n",
       "39     j6loubenson                         247                      247\n",
       "40      j6nechelet                         204                      204\n",
       "41       j6patrick                         266                      266\n",
       "42        j6ribert                         239                      239\n",
       "43        j6yvenes                         328                      328"
      ]
     },
     "execution_count": 15,
     "metadata": {},
     "output_type": "execute_result"
    }
   ],
   "source": [
    "summary_table = agent_grouped_all.merge(household_grouped, on = 'agent_code', how = 'left')\n",
    "summary_table"
   ]
  },
  {
   "cell_type": "markdown",
   "metadata": {},
   "source": [
    "## Performance"
   ]
  },
  {
   "cell_type": "code",
   "execution_count": 16,
   "metadata": {
    "scrolled": false
   },
   "outputs": [
    {
     "data": {
      "text/html": [
       "<div>\n",
       "<style scoped>\n",
       "    .dataframe tbody tr th:only-of-type {\n",
       "        vertical-align: middle;\n",
       "    }\n",
       "\n",
       "    .dataframe tbody tr th {\n",
       "        vertical-align: top;\n",
       "    }\n",
       "\n",
       "    .dataframe thead th {\n",
       "        text-align: right;\n",
       "    }\n",
       "</style>\n",
       "<table border=\"1\" class=\"dataframe\">\n",
       "  <thead>\n",
       "    <tr style=\"text-align: right;\">\n",
       "      <th></th>\n",
       "      <th>agent_code</th>\n",
       "      <th>Agent_name</th>\n",
       "      <th>Nombre de ménage à compter</th>\n",
       "      <th>Nombre de ménage compté</th>\n",
       "      <th>Proportion effectuée en %</th>\n",
       "      <th>Reste à compter</th>\n",
       "    </tr>\n",
       "  </thead>\n",
       "  <tbody>\n",
       "    <tr>\n",
       "      <th>0</th>\n",
       "      <td>j6arison</td>\n",
       "      <td>Arison Edmond</td>\n",
       "      <td>329</td>\n",
       "      <td>390</td>\n",
       "      <td>119.0%</td>\n",
       "      <td>-61</td>\n",
       "    </tr>\n",
       "    <tr>\n",
       "      <th>1</th>\n",
       "      <td>1jdensy</td>\n",
       "      <td>Densy Sanon</td>\n",
       "      <td>158</td>\n",
       "      <td>158</td>\n",
       "      <td>100.0%</td>\n",
       "      <td>0</td>\n",
       "    </tr>\n",
       "    <tr>\n",
       "      <th>2</th>\n",
       "      <td>j3donathan</td>\n",
       "      <td>Donathan Hyppolite</td>\n",
       "      <td>303</td>\n",
       "      <td>303</td>\n",
       "      <td>100.0%</td>\n",
       "      <td>0</td>\n",
       "    </tr>\n",
       "    <tr>\n",
       "      <th>3</th>\n",
       "      <td>j3hergy</td>\n",
       "      <td>Hergy Janvier</td>\n",
       "      <td>129</td>\n",
       "      <td>129</td>\n",
       "      <td>100.0%</td>\n",
       "      <td>0</td>\n",
       "    </tr>\n",
       "    <tr>\n",
       "      <th>4</th>\n",
       "      <td>j3plaisime</td>\n",
       "      <td>Plaisime Natacha</td>\n",
       "      <td>394</td>\n",
       "      <td>394</td>\n",
       "      <td>100.0%</td>\n",
       "      <td>0</td>\n",
       "    </tr>\n",
       "    <tr>\n",
       "      <th>5</th>\n",
       "      <td>j4beauvais</td>\n",
       "      <td>Beauvais Clennecy</td>\n",
       "      <td>288</td>\n",
       "      <td>288</td>\n",
       "      <td>100.0%</td>\n",
       "      <td>0</td>\n",
       "    </tr>\n",
       "    <tr>\n",
       "      <th>6</th>\n",
       "      <td>j4frantz</td>\n",
       "      <td>Frantz Paul</td>\n",
       "      <td>263</td>\n",
       "      <td>263</td>\n",
       "      <td>100.0%</td>\n",
       "      <td>0</td>\n",
       "    </tr>\n",
       "    <tr>\n",
       "      <th>7</th>\n",
       "      <td>j4wilnes</td>\n",
       "      <td>Wilnes Joassaint</td>\n",
       "      <td>212</td>\n",
       "      <td>212</td>\n",
       "      <td>100.0%</td>\n",
       "      <td>0</td>\n",
       "    </tr>\n",
       "    <tr>\n",
       "      <th>8</th>\n",
       "      <td>j5hilaire</td>\n",
       "      <td>Hilaire Ginette</td>\n",
       "      <td>129</td>\n",
       "      <td>129</td>\n",
       "      <td>100.0%</td>\n",
       "      <td>0</td>\n",
       "    </tr>\n",
       "    <tr>\n",
       "      <th>9</th>\n",
       "      <td>j5oligene</td>\n",
       "      <td>Oligene François</td>\n",
       "      <td>159</td>\n",
       "      <td>159</td>\n",
       "      <td>100.0%</td>\n",
       "      <td>0</td>\n",
       "    </tr>\n",
       "    <tr>\n",
       "      <th>10</th>\n",
       "      <td>j6benest</td>\n",
       "      <td>Benest Dorsainvil</td>\n",
       "      <td>31</td>\n",
       "      <td>31</td>\n",
       "      <td>100.0%</td>\n",
       "      <td>0</td>\n",
       "    </tr>\n",
       "    <tr>\n",
       "      <th>11</th>\n",
       "      <td>j1vincent</td>\n",
       "      <td>Vincent Vincent</td>\n",
       "      <td>50</td>\n",
       "      <td>50</td>\n",
       "      <td>100.0%</td>\n",
       "      <td>0</td>\n",
       "    </tr>\n",
       "    <tr>\n",
       "      <th>12</th>\n",
       "      <td>j6geniel</td>\n",
       "      <td>Geniel Dorzena</td>\n",
       "      <td>183</td>\n",
       "      <td>183</td>\n",
       "      <td>100.0%</td>\n",
       "      <td>0</td>\n",
       "    </tr>\n",
       "    <tr>\n",
       "      <th>13</th>\n",
       "      <td>j6guerby</td>\n",
       "      <td>Guerby  Brésil</td>\n",
       "      <td>279</td>\n",
       "      <td>279</td>\n",
       "      <td>100.0%</td>\n",
       "      <td>0</td>\n",
       "    </tr>\n",
       "    <tr>\n",
       "      <th>14</th>\n",
       "      <td>j6jeune</td>\n",
       "      <td>Jeune Daphney</td>\n",
       "      <td>290</td>\n",
       "      <td>290</td>\n",
       "      <td>100.0%</td>\n",
       "      <td>0</td>\n",
       "    </tr>\n",
       "    <tr>\n",
       "      <th>15</th>\n",
       "      <td>j6jonel</td>\n",
       "      <td>Jonel Louis XVI</td>\n",
       "      <td>228</td>\n",
       "      <td>228</td>\n",
       "      <td>100.0%</td>\n",
       "      <td>0</td>\n",
       "    </tr>\n",
       "    <tr>\n",
       "      <th>16</th>\n",
       "      <td>j6loubenson</td>\n",
       "      <td>Loubenson  Londeley Loiseau</td>\n",
       "      <td>247</td>\n",
       "      <td>247</td>\n",
       "      <td>100.0%</td>\n",
       "      <td>0</td>\n",
       "    </tr>\n",
       "    <tr>\n",
       "      <th>17</th>\n",
       "      <td>j6nechelet</td>\n",
       "      <td>Nechelet Pauleus</td>\n",
       "      <td>204</td>\n",
       "      <td>204</td>\n",
       "      <td>100.0%</td>\n",
       "      <td>0</td>\n",
       "    </tr>\n",
       "    <tr>\n",
       "      <th>18</th>\n",
       "      <td>j6patrick</td>\n",
       "      <td>Patrick Fortil</td>\n",
       "      <td>266</td>\n",
       "      <td>266</td>\n",
       "      <td>100.0%</td>\n",
       "      <td>0</td>\n",
       "    </tr>\n",
       "    <tr>\n",
       "      <th>19</th>\n",
       "      <td>j6ribert</td>\n",
       "      <td>Ribert Fuscien</td>\n",
       "      <td>239</td>\n",
       "      <td>239</td>\n",
       "      <td>100.0%</td>\n",
       "      <td>0</td>\n",
       "    </tr>\n",
       "    <tr>\n",
       "      <th>20</th>\n",
       "      <td>1mackenson</td>\n",
       "      <td>NaN</td>\n",
       "      <td>213</td>\n",
       "      <td>213</td>\n",
       "      <td>100.0%</td>\n",
       "      <td>0</td>\n",
       "    </tr>\n",
       "    <tr>\n",
       "      <th>21</th>\n",
       "      <td>j2emilio</td>\n",
       "      <td>Emilio Chevelon</td>\n",
       "      <td>56</td>\n",
       "      <td>56</td>\n",
       "      <td>100.0%</td>\n",
       "      <td>0</td>\n",
       "    </tr>\n",
       "    <tr>\n",
       "      <th>22</th>\n",
       "      <td>j1seide</td>\n",
       "      <td>Seide Francin</td>\n",
       "      <td>553</td>\n",
       "      <td>553</td>\n",
       "      <td>100.0%</td>\n",
       "      <td>0</td>\n",
       "    </tr>\n",
       "    <tr>\n",
       "      <th>23</th>\n",
       "      <td>j1jnpierre</td>\n",
       "      <td>Jamil Jean Pierre</td>\n",
       "      <td>223</td>\n",
       "      <td>222</td>\n",
       "      <td>100.0%</td>\n",
       "      <td>1</td>\n",
       "    </tr>\n",
       "    <tr>\n",
       "      <th>24</th>\n",
       "      <td>5loudelene</td>\n",
       "      <td>NaN</td>\n",
       "      <td>49</td>\n",
       "      <td>49</td>\n",
       "      <td>100.0%</td>\n",
       "      <td>0</td>\n",
       "    </tr>\n",
       "    <tr>\n",
       "      <th>25</th>\n",
       "      <td>6jkenson</td>\n",
       "      <td>Kenson Bien-Aimé</td>\n",
       "      <td>160</td>\n",
       "      <td>160</td>\n",
       "      <td>100.0%</td>\n",
       "      <td>0</td>\n",
       "    </tr>\n",
       "    <tr>\n",
       "      <th>26</th>\n",
       "      <td>j1appolon</td>\n",
       "      <td>Appolon Willy</td>\n",
       "      <td>311</td>\n",
       "      <td>312</td>\n",
       "      <td>100.0%</td>\n",
       "      <td>-1</td>\n",
       "    </tr>\n",
       "    <tr>\n",
       "      <th>27</th>\n",
       "      <td>j1cepoudy</td>\n",
       "      <td>Cepoudy Elide</td>\n",
       "      <td>162</td>\n",
       "      <td>162</td>\n",
       "      <td>100.0%</td>\n",
       "      <td>0</td>\n",
       "    </tr>\n",
       "    <tr>\n",
       "      <th>28</th>\n",
       "      <td>j1edner</td>\n",
       "      <td>Edner Orelus</td>\n",
       "      <td>316</td>\n",
       "      <td>316</td>\n",
       "      <td>100.0%</td>\n",
       "      <td>0</td>\n",
       "    </tr>\n",
       "    <tr>\n",
       "      <th>29</th>\n",
       "      <td>j1renaud</td>\n",
       "      <td>Renaud Verpreux</td>\n",
       "      <td>238</td>\n",
       "      <td>238</td>\n",
       "      <td>100.0%</td>\n",
       "      <td>0</td>\n",
       "    </tr>\n",
       "    <tr>\n",
       "      <th>30</th>\n",
       "      <td>j1james</td>\n",
       "      <td>James Jean Pierre</td>\n",
       "      <td>85</td>\n",
       "      <td>85</td>\n",
       "      <td>100.0%</td>\n",
       "      <td>0</td>\n",
       "    </tr>\n",
       "    <tr>\n",
       "      <th>31</th>\n",
       "      <td>j1fadeline</td>\n",
       "      <td>Fadeline Antenor</td>\n",
       "      <td>147</td>\n",
       "      <td>147</td>\n",
       "      <td>100.0%</td>\n",
       "      <td>0</td>\n",
       "    </tr>\n",
       "    <tr>\n",
       "      <th>32</th>\n",
       "      <td>j1maudeline</td>\n",
       "      <td>Maudeline Pierre</td>\n",
       "      <td>91</td>\n",
       "      <td>91</td>\n",
       "      <td>100.0%</td>\n",
       "      <td>0</td>\n",
       "    </tr>\n",
       "    <tr>\n",
       "      <th>33</th>\n",
       "      <td>j1moncion</td>\n",
       "      <td>Moncion Frisnel</td>\n",
       "      <td>269</td>\n",
       "      <td>269</td>\n",
       "      <td>100.0%</td>\n",
       "      <td>0</td>\n",
       "    </tr>\n",
       "    <tr>\n",
       "      <th>34</th>\n",
       "      <td>j1napolean</td>\n",
       "      <td>Napolean Djeha</td>\n",
       "      <td>251</td>\n",
       "      <td>251</td>\n",
       "      <td>100.0%</td>\n",
       "      <td>0</td>\n",
       "    </tr>\n",
       "    <tr>\n",
       "      <th>35</th>\n",
       "      <td>j1pierre</td>\n",
       "      <td>Pierre Nicolas</td>\n",
       "      <td>246</td>\n",
       "      <td>246</td>\n",
       "      <td>100.0%</td>\n",
       "      <td>0</td>\n",
       "    </tr>\n",
       "    <tr>\n",
       "      <th>36</th>\n",
       "      <td>j1pierregilles</td>\n",
       "      <td>Pierre Gilles Benel</td>\n",
       "      <td>269</td>\n",
       "      <td>269</td>\n",
       "      <td>100.0%</td>\n",
       "      <td>0</td>\n",
       "    </tr>\n",
       "    <tr>\n",
       "      <th>37</th>\n",
       "      <td>j6yvenes</td>\n",
       "      <td>Yvenes Silus</td>\n",
       "      <td>328</td>\n",
       "      <td>328</td>\n",
       "      <td>100.0%</td>\n",
       "      <td>0</td>\n",
       "    </tr>\n",
       "    <tr>\n",
       "      <th>38</th>\n",
       "      <td>j1louisjeune</td>\n",
       "      <td>Louis Jeune Dadie</td>\n",
       "      <td>126</td>\n",
       "      <td>125</td>\n",
       "      <td>99.0%</td>\n",
       "      <td>1</td>\n",
       "    </tr>\n",
       "    <tr>\n",
       "      <th>39</th>\n",
       "      <td>j4francois</td>\n",
       "      <td>François Michelet</td>\n",
       "      <td>222</td>\n",
       "      <td>220</td>\n",
       "      <td>99.0%</td>\n",
       "      <td>2</td>\n",
       "    </tr>\n",
       "    <tr>\n",
       "      <th>40</th>\n",
       "      <td>3carl</td>\n",
       "      <td>NaN</td>\n",
       "      <td>246</td>\n",
       "      <td>241</td>\n",
       "      <td>98.0%</td>\n",
       "      <td>5</td>\n",
       "    </tr>\n",
       "    <tr>\n",
       "      <th>41</th>\n",
       "      <td>5mackendy</td>\n",
       "      <td>NaN</td>\n",
       "      <td>60</td>\n",
       "      <td>58</td>\n",
       "      <td>97.0%</td>\n",
       "      <td>2</td>\n",
       "    </tr>\n",
       "    <tr>\n",
       "      <th>42</th>\n",
       "      <td>j6emanise</td>\n",
       "      <td>Emanise Louis</td>\n",
       "      <td>27</td>\n",
       "      <td>26</td>\n",
       "      <td>96.0%</td>\n",
       "      <td>1</td>\n",
       "    </tr>\n",
       "    <tr>\n",
       "      <th>43</th>\n",
       "      <td>6wanes</td>\n",
       "      <td>NaN</td>\n",
       "      <td>110</td>\n",
       "      <td>49</td>\n",
       "      <td>45.0%</td>\n",
       "      <td>61</td>\n",
       "    </tr>\n",
       "  </tbody>\n",
       "</table>\n",
       "</div>"
      ],
      "text/plain": [
       "        agent_code                   Agent_name  Nombre de ménage à compter  \\\n",
       "0         j6arison                Arison Edmond                         329   \n",
       "1          1jdensy                  Densy Sanon                         158   \n",
       "2       j3donathan           Donathan Hyppolite                         303   \n",
       "3          j3hergy                Hergy Janvier                         129   \n",
       "4       j3plaisime             Plaisime Natacha                         394   \n",
       "5       j4beauvais            Beauvais Clennecy                         288   \n",
       "6         j4frantz                  Frantz Paul                         263   \n",
       "7         j4wilnes             Wilnes Joassaint                         212   \n",
       "8        j5hilaire              Hilaire Ginette                         129   \n",
       "9        j5oligene             Oligene François                         159   \n",
       "10        j6benest            Benest Dorsainvil                          31   \n",
       "11       j1vincent              Vincent Vincent                          50   \n",
       "12        j6geniel               Geniel Dorzena                         183   \n",
       "13        j6guerby               Guerby  Brésil                         279   \n",
       "14         j6jeune                Jeune Daphney                         290   \n",
       "15         j6jonel              Jonel Louis XVI                         228   \n",
       "16     j6loubenson  Loubenson  Londeley Loiseau                         247   \n",
       "17      j6nechelet             Nechelet Pauleus                         204   \n",
       "18       j6patrick               Patrick Fortil                         266   \n",
       "19        j6ribert               Ribert Fuscien                         239   \n",
       "20      1mackenson                          NaN                         213   \n",
       "21        j2emilio              Emilio Chevelon                          56   \n",
       "22         j1seide                Seide Francin                         553   \n",
       "23      j1jnpierre            Jamil Jean Pierre                         223   \n",
       "24      5loudelene                          NaN                          49   \n",
       "25        6jkenson             Kenson Bien-Aimé                         160   \n",
       "26       j1appolon                Appolon Willy                         311   \n",
       "27       j1cepoudy                Cepoudy Elide                         162   \n",
       "28         j1edner                 Edner Orelus                         316   \n",
       "29        j1renaud              Renaud Verpreux                         238   \n",
       "30         j1james            James Jean Pierre                          85   \n",
       "31      j1fadeline             Fadeline Antenor                         147   \n",
       "32     j1maudeline             Maudeline Pierre                          91   \n",
       "33       j1moncion              Moncion Frisnel                         269   \n",
       "34      j1napolean               Napolean Djeha                         251   \n",
       "35        j1pierre               Pierre Nicolas                         246   \n",
       "36  j1pierregilles          Pierre Gilles Benel                         269   \n",
       "37        j6yvenes                 Yvenes Silus                         328   \n",
       "38    j1louisjeune            Louis Jeune Dadie                         126   \n",
       "39      j4francois            François Michelet                         222   \n",
       "40           3carl                          NaN                         246   \n",
       "41       5mackendy                          NaN                          60   \n",
       "42       j6emanise                Emanise Louis                          27   \n",
       "43          6wanes                          NaN                         110   \n",
       "\n",
       "    Nombre de ménage compté Proportion effectuée en %  Reste à compter  \n",
       "0                       390                    119.0%              -61  \n",
       "1                       158                    100.0%                0  \n",
       "2                       303                    100.0%                0  \n",
       "3                       129                    100.0%                0  \n",
       "4                       394                    100.0%                0  \n",
       "5                       288                    100.0%                0  \n",
       "6                       263                    100.0%                0  \n",
       "7                       212                    100.0%                0  \n",
       "8                       129                    100.0%                0  \n",
       "9                       159                    100.0%                0  \n",
       "10                       31                    100.0%                0  \n",
       "11                       50                    100.0%                0  \n",
       "12                      183                    100.0%                0  \n",
       "13                      279                    100.0%                0  \n",
       "14                      290                    100.0%                0  \n",
       "15                      228                    100.0%                0  \n",
       "16                      247                    100.0%                0  \n",
       "17                      204                    100.0%                0  \n",
       "18                      266                    100.0%                0  \n",
       "19                      239                    100.0%                0  \n",
       "20                      213                    100.0%                0  \n",
       "21                       56                    100.0%                0  \n",
       "22                      553                    100.0%                0  \n",
       "23                      222                    100.0%                1  \n",
       "24                       49                    100.0%                0  \n",
       "25                      160                    100.0%                0  \n",
       "26                      312                    100.0%               -1  \n",
       "27                      162                    100.0%                0  \n",
       "28                      316                    100.0%                0  \n",
       "29                      238                    100.0%                0  \n",
       "30                       85                    100.0%                0  \n",
       "31                      147                    100.0%                0  \n",
       "32                       91                    100.0%                0  \n",
       "33                      269                    100.0%                0  \n",
       "34                      251                    100.0%                0  \n",
       "35                      246                    100.0%                0  \n",
       "36                      269                    100.0%                0  \n",
       "37                      328                    100.0%                0  \n",
       "38                      125                     99.0%                1  \n",
       "39                      220                     99.0%                2  \n",
       "40                      241                     98.0%                5  \n",
       "41                       58                     97.0%                2  \n",
       "42                       26                     96.0%                1  \n",
       "43                       49                     45.0%               61  "
      ]
     },
     "execution_count": 16,
     "metadata": {},
     "output_type": "execute_result"
    }
   ],
   "source": [
    "index = ['agent_code','Agent_name', 'Nombre de ménage à compter', 'Nombre de ménage compté', 'Proportion effectuée en %', 'Reste à compter']\n",
    "#-------------------------------------------------------------------------------------------------------------------------\n",
    "\n",
    "summary_table.fillna(0, inplace = True)\n",
    "summary_table['Proportion effectuée en %'] = round((summary_table['Nombre de ménage compté']/summary_table['Nombre de ménage à compter'])*100, 0)\n",
    "summary_table['Reste à compter'] = summary_table['Nombre de ménage à compter'] - summary_table['Nombre de ménage compté']\n",
    "summary_table.sort_values(by='Proportion effectuée en %', ascending = False, inplace = True)\n",
    "summary_table['Proportion effectuée en %'] = round((summary_table['Nombre de ménage compté']/summary_table['Nombre de ménage à compter'])*100, 0).astype(str) + '%'\n",
    "summary_table = summary_table.reset_index(drop = True)\n",
    "summary_table = summary_table.merge(lookup_agent[['agent_code', 'Agent_name']], on = 'agent_code', how = 'left')\n",
    "summary_table = summary_table.reindex(columns = index)\n",
    "summary_table = summary_table.drop(index = summary_table[summary_table['agent_code'] == 'pierrerobentz.cassion@carisfoundationintl.org'].index)\n",
    "summary_table"
   ]
  },
  {
   "cell_type": "markdown",
   "metadata": {},
   "source": [
    "## Household to be counted"
   ]
  },
  {
   "cell_type": "code",
   "execution_count": 17,
   "metadata": {},
   "outputs": [
    {
     "data": {
      "text/html": [
       "<div>\n",
       "<style scoped>\n",
       "    .dataframe tbody tr th:only-of-type {\n",
       "        vertical-align: middle;\n",
       "    }\n",
       "\n",
       "    .dataframe tbody tr th {\n",
       "        vertical-align: top;\n",
       "    }\n",
       "\n",
       "    .dataframe thead th {\n",
       "        text-align: right;\n",
       "    }\n",
       "</style>\n",
       "<table border=\"1\" class=\"dataframe\">\n",
       "  <thead>\n",
       "    <tr style=\"text-align: right;\">\n",
       "      <th></th>\n",
       "      <th>info.owner_name</th>\n",
       "      <th>info.case_id</th>\n",
       "      <th>beneficiary_type</th>\n",
       "      <th>name</th>\n",
       "      <th>last_name</th>\n",
       "      <th>caris_site</th>\n",
       "      <th>info.last_modified_date</th>\n",
       "      <th>address_department</th>\n",
       "    </tr>\n",
       "  </thead>\n",
       "  <tbody>\n",
       "    <tr>\n",
       "      <th>3780</th>\n",
       "      <td>3carl</td>\n",
       "      <td>d9783ceb-d2c3-48fb-9eee-a8415edb90de</td>\n",
       "      <td>malnutrition_program</td>\n",
       "      <td>Nadege</td>\n",
       "      <td>Clerger</td>\n",
       "      <td>CAY/HICC - Hopital Immaculee Conception des Cayes</td>\n",
       "      <td>2022-02-17 14:09:18</td>\n",
       "      <td>sud</td>\n",
       "    </tr>\n",
       "    <tr>\n",
       "      <th>3781</th>\n",
       "      <td>3carl</td>\n",
       "      <td>87b60356-e579-4b7f-b823-9e3aa978750a</td>\n",
       "      <td>malnutrition_program</td>\n",
       "      <td>Micheline</td>\n",
       "      <td>Jean</td>\n",
       "      <td>CAY/HICC - Hopital Immaculee Conception des Cayes</td>\n",
       "      <td>2022-02-17 14:09:18</td>\n",
       "      <td>sud</td>\n",
       "    </tr>\n",
       "    <tr>\n",
       "      <th>3783</th>\n",
       "      <td>3carl</td>\n",
       "      <td>acdfcddc-3cd4-469c-9d4a-4755375ac04e</td>\n",
       "      <td>malnutrition_program</td>\n",
       "      <td>Fina</td>\n",
       "      <td>Pierre</td>\n",
       "      <td>CAY/HICC - Hopital Immaculee Conception des Cayes</td>\n",
       "      <td>2022-02-17 14:09:18</td>\n",
       "      <td>sud</td>\n",
       "    </tr>\n",
       "    <tr>\n",
       "      <th>4972</th>\n",
       "      <td>j1jnpierre</td>\n",
       "      <td>3ac3c5c1-3be0-4811-befe-c58327f944ee</td>\n",
       "      <td>malnutrition_program</td>\n",
       "      <td>awens</td>\n",
       "      <td>toussaint</td>\n",
       "      <td>MOR/CMSM - CAL de Mont Organise</td>\n",
       "      <td>2022-09-16 14:01:29</td>\n",
       "      <td>nord-est</td>\n",
       "    </tr>\n",
       "    <tr>\n",
       "      <th>10365</th>\n",
       "      <td>j4francois</td>\n",
       "      <td>b8510fec-e863-4bc9-ba8e-65c4c82ec44f</td>\n",
       "      <td>malnutrition_program</td>\n",
       "      <td>Jose</td>\n",
       "      <td>Maxceus</td>\n",
       "      <td>DMA/HCDM - Hopital de Communaute Dame-Marienne</td>\n",
       "      <td>2022-08-22 13:28:04</td>\n",
       "      <td>grandanse</td>\n",
       "    </tr>\n",
       "  </tbody>\n",
       "</table>\n",
       "</div>"
      ],
      "text/plain": [
       "      info.owner_name                          info.case_id  \\\n",
       "3780            3carl  d9783ceb-d2c3-48fb-9eee-a8415edb90de   \n",
       "3781            3carl  87b60356-e579-4b7f-b823-9e3aa978750a   \n",
       "3783            3carl  acdfcddc-3cd4-469c-9d4a-4755375ac04e   \n",
       "4972       j1jnpierre  3ac3c5c1-3be0-4811-befe-c58327f944ee   \n",
       "10365      j4francois  b8510fec-e863-4bc9-ba8e-65c4c82ec44f   \n",
       "\n",
       "           beneficiary_type       name  last_name  \\\n",
       "3780   malnutrition_program     Nadege    Clerger   \n",
       "3781   malnutrition_program  Micheline       Jean   \n",
       "3783   malnutrition_program       Fina     Pierre   \n",
       "4972   malnutrition_program      awens  toussaint   \n",
       "10365  malnutrition_program       Jose    Maxceus   \n",
       "\n",
       "                                              caris_site  \\\n",
       "3780   CAY/HICC - Hopital Immaculee Conception des Cayes   \n",
       "3781   CAY/HICC - Hopital Immaculee Conception des Cayes   \n",
       "3783   CAY/HICC - Hopital Immaculee Conception des Cayes   \n",
       "4972                     MOR/CMSM - CAL de Mont Organise   \n",
       "10365     DMA/HCDM - Hopital de Communaute Dame-Marienne   \n",
       "\n",
       "      info.last_modified_date address_department  \n",
       "3780      2022-02-17 14:09:18                sud  \n",
       "3781      2022-02-17 14:09:18                sud  \n",
       "3783      2022-02-17 14:09:18                sud  \n",
       "4972      2022-09-16 14:01:29           nord-est  \n",
       "10365     2022-08-22 13:28:04          grandanse  "
      ]
     },
     "execution_count": 17,
     "metadata": {},
     "output_type": "execute_result"
    }
   ],
   "source": [
    "rest_hh = all_gardens[(~all_gardens['info.case_id'].isin(household_form['form.case.@case_id'])) & (all_gardens.closed == False) & (all_gardens['last_name'] != '---')][['info.owner_name', 'info.case_id', 'beneficiary_type', 'name', 'last_name', 'caris_site', 'info.last_modified_date', 'address_department']]\n",
    "rest_hh.head(5)"
   ]
  },
  {
   "cell_type": "markdown",
   "metadata": {},
   "source": [
    "## Data by department"
   ]
  },
  {
   "cell_type": "code",
   "execution_count": 18,
   "metadata": {},
   "outputs": [
    {
     "data": {
      "text/html": [
       "<div>\n",
       "<style scoped>\n",
       "    .dataframe tbody tr th:only-of-type {\n",
       "        vertical-align: middle;\n",
       "    }\n",
       "\n",
       "    .dataframe tbody tr th {\n",
       "        vertical-align: top;\n",
       "    }\n",
       "\n",
       "    .dataframe thead th {\n",
       "        text-align: right;\n",
       "    }\n",
       "</style>\n",
       "<table border=\"1\" class=\"dataframe\">\n",
       "  <thead>\n",
       "    <tr style=\"text-align: right;\">\n",
       "      <th></th>\n",
       "      <th>address_department</th>\n",
       "      <th>Ménage global</th>\n",
       "      <th>Ménage à compter</th>\n",
       "      <th>Proportion à réaliser en %</th>\n",
       "    </tr>\n",
       "  </thead>\n",
       "  <tbody>\n",
       "    <tr>\n",
       "      <th>0</th>\n",
       "      <td>artibonite</td>\n",
       "      <td>2444</td>\n",
       "      <td>3.0</td>\n",
       "      <td>0.0%</td>\n",
       "    </tr>\n",
       "    <tr>\n",
       "      <th>1</th>\n",
       "      <td>centre</td>\n",
       "      <td>2</td>\n",
       "      <td>0.0</td>\n",
       "      <td>0.0%</td>\n",
       "    </tr>\n",
       "    <tr>\n",
       "      <th>2</th>\n",
       "      <td>grandanse</td>\n",
       "      <td>986</td>\n",
       "      <td>2.0</td>\n",
       "      <td>0.0%</td>\n",
       "    </tr>\n",
       "    <tr>\n",
       "      <th>3</th>\n",
       "      <td>nippes</td>\n",
       "      <td>112</td>\n",
       "      <td>0.0</td>\n",
       "      <td>0.0%</td>\n",
       "    </tr>\n",
       "    <tr>\n",
       "      <th>4</th>\n",
       "      <td>nord</td>\n",
       "      <td>2492</td>\n",
       "      <td>0.0</td>\n",
       "      <td>0.0%</td>\n",
       "    </tr>\n",
       "    <tr>\n",
       "      <th>5</th>\n",
       "      <td>nord-est</td>\n",
       "      <td>1215</td>\n",
       "      <td>1.0</td>\n",
       "      <td>0.0%</td>\n",
       "    </tr>\n",
       "    <tr>\n",
       "      <th>6</th>\n",
       "      <td>nord-ouest</td>\n",
       "      <td>842</td>\n",
       "      <td>0.0</td>\n",
       "      <td>0.0%</td>\n",
       "    </tr>\n",
       "    <tr>\n",
       "      <th>7</th>\n",
       "      <td>ouest</td>\n",
       "      <td>87</td>\n",
       "      <td>0.0</td>\n",
       "      <td>0.0%</td>\n",
       "    </tr>\n",
       "    <tr>\n",
       "      <th>8</th>\n",
       "      <td>sud</td>\n",
       "      <td>956</td>\n",
       "      <td>5.0</td>\n",
       "      <td>1.0%</td>\n",
       "    </tr>\n",
       "  </tbody>\n",
       "</table>\n",
       "</div>"
      ],
      "text/plain": [
       "  address_department  Ménage global  Ménage à compter  \\\n",
       "0         artibonite           2444               3.0   \n",
       "1             centre              2               0.0   \n",
       "2          grandanse            986               2.0   \n",
       "3             nippes            112               0.0   \n",
       "4               nord           2492               0.0   \n",
       "5           nord-est           1215               1.0   \n",
       "6         nord-ouest            842               0.0   \n",
       "7              ouest             87               0.0   \n",
       "8                sud            956               5.0   \n",
       "\n",
       "  Proportion à réaliser en %  \n",
       "0                       0.0%  \n",
       "1                       0.0%  \n",
       "2                       0.0%  \n",
       "3                       0.0%  \n",
       "4                       0.0%  \n",
       "5                       0.0%  \n",
       "6                       0.0%  \n",
       "7                       0.0%  \n",
       "8                       1.0%  "
      ]
     },
     "execution_count": 18,
     "metadata": {},
     "output_type": "execute_result"
    }
   ],
   "source": [
    "hh_depart = rest_hh.groupby('address_department').count()[['info.case_id']]\n",
    "hh_depart.reset_index(inplace = True)\n",
    "hh_depart.rename(columns = {'info.case_id': 'Ménage à compter'}, inplace = True)\n",
    "all_hh = hh_td_depart.merge(hh_depart, on = 'address_department', how = 'left')\n",
    "all_hh = all_hh.fillna(0)\n",
    "all_hh['Proportion à réaliser en %'] = round((all_hh['Ménage à compter']/all_hh['Ménage global'])*100, 0).astype(str) + '%'\n",
    "\n",
    "all_hh"
   ]
  },
  {
   "cell_type": "markdown",
   "metadata": {},
   "source": [
    "## Export data"
   ]
  },
  {
   "cell_type": "code",
   "execution_count": 19,
   "metadata": {},
   "outputs": [],
   "source": [
    "import openpyxl\n",
    "\n",
    "with pd.ExcelWriter('Household_Gardening_followup ' + str(datetime.today().strftime('%Y-%m-%d')) + '.xlsx', \n",
    "                        engine = 'openpyxl') as writer:\n",
    "    summary_table.to_excel(writer, sheet_name = 'Performance_agents', index = False, na_rep = '---')\n",
    "    rest_hh.to_excel(writer, sheet_name = 'Bénéficiaires à compter', index = False)\n",
    "    all_hh.to_excel(writer, sheet_name = 'A compter par département', index = False)\n"
   ]
  },
  {
   "cell_type": "code",
   "execution_count": null,
   "metadata": {},
   "outputs": [],
   "source": []
  },
  {
   "cell_type": "code",
   "execution_count": 20,
   "metadata": {},
   "outputs": [],
   "source": [
    "driver.quit()"
   ]
  }
 ],
 "metadata": {
  "kernelspec": {
   "display_name": "Python 3.10.6 64-bit",
   "language": "python",
   "name": "python3"
  },
  "language_info": {
   "codemirror_mode": {
    "name": "ipython",
    "version": 3
   },
   "file_extension": ".py",
   "mimetype": "text/x-python",
   "name": "python",
   "nbconvert_exporter": "python",
   "pygments_lexer": "ipython3",
   "version": "3.10.6"
  },
  "vscode": {
   "interpreter": {
    "hash": "b460384b52104c1e5b9cf54bee46a255d22b2bef338f75ac4ad5d48196028d3c"
   }
  }
 },
 "nbformat": 4,
 "nbformat_minor": 4
}
