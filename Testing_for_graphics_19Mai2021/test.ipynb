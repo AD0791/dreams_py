{
 "cells": [
  {
   "cell_type": "code",
   "execution_count": 1,
   "id": "afraid-ranch",
   "metadata": {},
   "outputs": [],
   "source": [
    "import pandas as pd\n",
    "import numpy as np"
   ]
  },
  {
   "source": [
    "## Girl Screened - services / eligibility"
   ],
   "cell_type": "markdown",
   "metadata": {}
  },
  {
   "cell_type": "code",
   "execution_count": 2,
   "id": "certain-values",
   "metadata": {},
   "outputs": [],
   "source": [
    "eligibility = pd.read_excel('./eligibility.xlsx',sheet_name='code')\n",
    "survey_data = pd.read_excel('./survey_data.xlsx',sheet_name='screening_Q1-Q3FY21')"
   ]
  },
  {
   "cell_type": "code",
   "execution_count": 3,
   "id": "passive-elizabeth",
   "metadata": {},
   "outputs": [
    {
     "output_type": "execute_result",
     "data": {
      "text/plain": [
       "(5116, 2)"
      ]
     },
     "metadata": {},
     "execution_count": 3
    }
   ],
   "source": [
    "eligibility.shape"
   ]
  },
  {
   "cell_type": "code",
   "execution_count": 4,
   "id": "provincial-tsunami",
   "metadata": {},
   "outputs": [
    {
     "output_type": "execute_result",
     "data": {
      "text/plain": [
       "(6023, 19)"
      ]
     },
     "metadata": {},
     "execution_count": 4
    }
   ],
   "source": [
    "survey_data.shape"
   ]
  },
  {
   "cell_type": "code",
   "execution_count": 5,
   "id": "existing-patrol",
   "metadata": {},
   "outputs": [],
   "source": [
    "eligibility.fillna(\"NULL\",inplace=True)\n",
    "survey_data.fillna(\"NULL\",inplace=True)"
   ]
  },
  {
   "cell_type": "code",
   "execution_count": 6,
   "id": "processed-input",
   "metadata": {},
   "outputs": [],
   "source": [
    "screener_periode_Q1Q3FY21 = survey_data.merge(eligibility,on='case_id',how='left')"
   ]
  },
  {
   "cell_type": "code",
   "execution_count": 20,
   "id": "meaning-arnold",
   "metadata": {},
   "outputs": [],
   "source": [
    "dreams_servis = pd.read_excel(\"./LayeringOF_services.xlsx\")"
   ]
  },
  {
   "source": [
    "## Le nombre de Screening pour la periode "
   ],
   "cell_type": "markdown",
   "metadata": {}
  },
  {
   "cell_type": "code",
   "execution_count": 8,
   "metadata": {},
   "outputs": [],
   "source": [
    "screener_periode_Q1Q3FY21.rename(columns={\"dreams_code\":\"code\"},inplace=True)"
   ]
  },
  {
   "cell_type": "code",
   "execution_count": 9,
   "metadata": {},
   "outputs": [
    {
     "output_type": "execute_result",
     "data": {
      "text/plain": [
       "6023"
      ]
     },
     "metadata": {},
     "execution_count": 9
    }
   ],
   "source": [
    "screener_periode_Q1Q3FY21.case_id.count()"
   ]
  },
  {
   "cell_type": "code",
   "execution_count": 10,
   "metadata": {},
   "outputs": [],
   "source": [
    "eligible_periode_Q1Q3FY21 = screener_periode_Q1Q3FY21[screener_periode_Q1Q3FY21.total>= 14]"
   ]
  },
  {
   "cell_type": "code",
   "execution_count": 11,
   "metadata": {},
   "outputs": [
    {
     "output_type": "execute_result",
     "data": {
      "text/plain": [
       "5100"
      ]
     },
     "metadata": {},
     "execution_count": 11
    }
   ],
   "source": [
    "eligible_periode_Q1Q3FY21.case_id.count()"
   ]
  },
  {
   "source": [
    "## Survey_data With Code"
   ],
   "cell_type": "markdown",
   "metadata": {}
  },
  {
   "cell_type": "code",
   "execution_count": 12,
   "metadata": {},
   "outputs": [],
   "source": [
    "eligible_periode_Q1Q3FY21_with_code = eligible_periode_Q1Q3FY21[eligible_periode_Q1Q3FY21.code!=\"NULL\"]"
   ]
  },
  {
   "cell_type": "code",
   "execution_count": 13,
   "metadata": {},
   "outputs": [
    {
     "output_type": "execute_result",
     "data": {
      "text/plain": [
       "2347"
      ]
     },
     "metadata": {},
     "execution_count": 13
    }
   ],
   "source": [
    "eligible_periode_Q1Q3FY21_with_code.code.count()"
   ]
  },
  {
   "source": [
    "## Survey data with No Code"
   ],
   "cell_type": "markdown",
   "metadata": {}
  },
  {
   "cell_type": "code",
   "execution_count": 14,
   "metadata": {},
   "outputs": [],
   "source": [
    "eligibile_periode_Q1Q3FY21_Without_Code = eligible_periode_Q1Q3FY21[eligible_periode_Q1Q3FY21.code==\"NULL\"]"
   ]
  },
  {
   "cell_type": "code",
   "execution_count": 15,
   "metadata": {},
   "outputs": [
    {
     "output_type": "execute_result",
     "data": {
      "text/plain": [
       "2753"
      ]
     },
     "metadata": {},
     "execution_count": 15
    }
   ],
   "source": [
    "eligibile_periode_Q1Q3FY21_Without_Code.code.count()"
   ]
  },
  {
   "source": [
    "## LayeringOS"
   ],
   "cell_type": "markdown",
   "metadata": {}
  },
  {
   "cell_type": "code",
   "execution_count": 22,
   "metadata": {},
   "outputs": [],
   "source": [
    "unefois_servis = pd.read_excel(\"./LayeringOS.xlsx\",sheet_name=\"1_services\")\n",
    "unefois_servis_Q1Q3fy21 = pd.read_excel(\"./LayeringOS.xlsx\",sheet_name=\"1_services_Q1Q3FY21\")\n",
    "unefois_servis.fillna(\"NULL\",inplace=True)\n",
    "unefois_servis_Q1Q3fy21.fillna(\"NULL\",inplace=True)"
   ]
  },
  {
   "cell_type": "code",
   "execution_count": 26,
   "metadata": {},
   "outputs": [
    {
     "output_type": "execute_result",
     "data": {
      "text/plain": [
       "18556"
      ]
     },
     "metadata": {},
     "execution_count": 26
    }
   ],
   "source": [
    "unefois_servis.code.count()"
   ]
  },
  {
   "cell_type": "code",
   "execution_count": 27,
   "metadata": {},
   "outputs": [
    {
     "output_type": "execute_result",
     "data": {
      "text/plain": [
       "2318"
      ]
     },
     "metadata": {},
     "execution_count": 27
    }
   ],
   "source": [
    "unefois_servis_Q1Q3fy21.code.count()"
   ]
  },
  {
   "cell_type": "code",
   "execution_count": 30,
   "metadata": {},
   "outputs": [],
   "source": [
    "code_servis_unefois_Q1Q3fy21 = pd.DataFrame({'code':unefois_servis_Q1Q3fy21.code})"
   ]
  },
  {
   "cell_type": "code",
   "execution_count": 36,
   "metadata": {},
   "outputs": [],
   "source": [
    "search_servis_again = code_servis_unefois_Q1Q3fy21.merge(unefois_servis,how=\"left\", on='code')"
   ]
  },
  {
   "cell_type": "code",
   "execution_count": 38,
   "metadata": {},
   "outputs": [],
   "source": [
    "search_servis_again.to_excel('search_servis_again.xlsx',index=False, na_rep=\"NULL\")"
   ]
  },
  {
   "cell_type": "code",
   "execution_count": null,
   "metadata": {},
   "outputs": [],
   "source": []
  }
 ],
 "metadata": {
  "kernelspec": {
   "name": "python392jvsc74a57bd04534460e0bdca1b390927d45471088fb3501d39abc4e3f2cee293892e17d7fc6",
   "display_name": "Python 3.9.2 64-bit"
  },
  "language_info": {
   "codemirror_mode": {
    "name": "ipython",
    "version": 3
   },
   "file_extension": ".py",
   "mimetype": "text/x-python",
   "name": "python",
   "nbconvert_exporter": "python",
   "pygments_lexer": "ipython3",
   "version": "3.9.2"
  }
 },
 "nbformat": 4,
 "nbformat_minor": 5
}