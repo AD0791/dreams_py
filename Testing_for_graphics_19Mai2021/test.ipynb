{
 "cells": [
  {
   "cell_type": "code",
   "execution_count": 1,
   "id": "afraid-ranch",
   "metadata": {},
   "outputs": [],
   "source": [
    "import pandas as pd\n",
    "import numpy as np"
   ]
  },
  {
   "source": [
    "## Girl Screened - services / eligibility"
   ],
   "cell_type": "markdown",
   "metadata": {}
  },
  {
   "cell_type": "code",
   "execution_count": 2,
   "id": "certain-values",
   "metadata": {},
   "outputs": [],
   "source": [
    "eligibility = pd.read_excel('./eligibility.xlsx',sheet_name='code')\n",
    "survey_data = pd.read_excel('./survey_data.xlsx',sheet_name='screening_Q1-Q3FY21')"
   ]
  },
  {
   "cell_type": "code",
   "execution_count": 3,
   "id": "passive-elizabeth",
   "metadata": {},
   "outputs": [
    {
     "output_type": "execute_result",
     "data": {
      "text/plain": [
       "(5116, 2)"
      ]
     },
     "metadata": {},
     "execution_count": 3
    }
   ],
   "source": [
    "eligibility.shape"
   ]
  },
  {
   "cell_type": "code",
   "execution_count": 4,
   "id": "provincial-tsunami",
   "metadata": {},
   "outputs": [
    {
     "output_type": "execute_result",
     "data": {
      "text/plain": [
       "(6023, 19)"
      ]
     },
     "metadata": {},
     "execution_count": 4
    }
   ],
   "source": [
    "survey_data.shape"
   ]
  },
  {
   "cell_type": "code",
   "execution_count": 5,
   "id": "existing-patrol",
   "metadata": {},
   "outputs": [],
   "source": [
    "eligibility.fillna(\"NULL\",inplace=True)\n",
    "survey_data.fillna(\"NULL\",inplace=True)"
   ]
  },
  {
   "cell_type": "code",
   "execution_count": 6,
   "id": "processed-input",
   "metadata": {},
   "outputs": [],
   "source": [
    "screener_periode_Q1Q3FY21 = survey_data.merge(eligibility,on='case_id',how='left')"
   ]
  },
  {
   "cell_type": "code",
   "execution_count": 7,
   "id": "meaning-arnold",
   "metadata": {},
   "outputs": [],
   "source": [
    "dreams_servis = pd.read_excel(\"./LayeringOF_services.xlsx\")"
   ]
  },
  {
   "source": [
    "## Le nombre de Screening pour la periode "
   ],
   "cell_type": "markdown",
   "metadata": {}
  },
  {
   "cell_type": "code",
   "execution_count": 8,
   "metadata": {},
   "outputs": [],
   "source": [
    "screener_periode_Q1Q3FY21.rename(columns={\"dreams_code\":\"code\"},inplace=True)"
   ]
  },
  {
   "cell_type": "code",
   "execution_count": 9,
   "metadata": {},
   "outputs": [
    {
     "output_type": "execute_result",
     "data": {
      "text/plain": [
       "6023"
      ]
     },
     "metadata": {},
     "execution_count": 9
    }
   ],
   "source": [
    "screener_periode_Q1Q3FY21.case_id.count()"
   ]
  },
  {
   "cell_type": "code",
   "execution_count": 10,
   "metadata": {},
   "outputs": [],
   "source": [
    "eligible_periode_Q1Q3FY21 = screener_periode_Q1Q3FY21[screener_periode_Q1Q3FY21.total>= 14]"
   ]
  },
  {
   "cell_type": "code",
   "execution_count": 11,
   "metadata": {},
   "outputs": [
    {
     "output_type": "execute_result",
     "data": {
      "text/plain": [
       "5100"
      ]
     },
     "metadata": {},
     "execution_count": 11
    }
   ],
   "source": [
    "eligible_periode_Q1Q3FY21.case_id.count()"
   ]
  },
  {
   "source": [
    "## Survey_data With Code"
   ],
   "cell_type": "markdown",
   "metadata": {}
  },
  {
   "cell_type": "code",
   "execution_count": 12,
   "metadata": {},
   "outputs": [],
   "source": [
    "eligible_periode_Q1Q3FY21_with_code = eligible_periode_Q1Q3FY21[eligible_periode_Q1Q3FY21.code!=\"NULL\"]"
   ]
  },
  {
   "cell_type": "code",
   "execution_count": 13,
   "metadata": {},
   "outputs": [
    {
     "output_type": "execute_result",
     "data": {
      "text/plain": [
       "2347"
      ]
     },
     "metadata": {},
     "execution_count": 13
    }
   ],
   "source": [
    "eligible_periode_Q1Q3FY21_with_code.code.count()"
   ]
  },
  {
   "source": [
    "## Survey data with No Code"
   ],
   "cell_type": "markdown",
   "metadata": {}
  },
  {
   "cell_type": "code",
   "execution_count": 14,
   "metadata": {},
   "outputs": [],
   "source": [
    "eligibile_periode_Q1Q3FY21_Without_Code = eligible_periode_Q1Q3FY21[eligible_periode_Q1Q3FY21.code==\"NULL\"]"
   ]
  },
  {
   "cell_type": "code",
   "execution_count": 15,
   "metadata": {},
   "outputs": [
    {
     "output_type": "execute_result",
     "data": {
      "text/plain": [
       "2753"
      ]
     },
     "metadata": {},
     "execution_count": 15
    }
   ],
   "source": [
    "eligibile_periode_Q1Q3FY21_Without_Code.code.count()"
   ]
  },
  {
   "source": [
    "## LayeringOS"
   ],
   "cell_type": "markdown",
   "metadata": {}
  },
  {
   "cell_type": "code",
   "execution_count": 16,
   "metadata": {},
   "outputs": [],
   "source": [
    "unefois_servis = pd.read_excel(\"./LayeringOS.xlsx\",sheet_name=\"1_services\")\n",
    "unefois_servis_Q1Q3fy21 = pd.read_excel(\"./LayeringOS.xlsx\",sheet_name=\"1_services_Q1Q3FY21\")\n",
    "unefois_servis.fillna(\"NULL\",inplace=True)\n",
    "unefois_servis_Q1Q3fy21.fillna(\"NULL\",inplace=True)"
   ]
  },
  {
   "cell_type": "code",
   "execution_count": 17,
   "metadata": {},
   "outputs": [
    {
     "output_type": "execute_result",
     "data": {
      "text/plain": [
       "18556"
      ]
     },
     "metadata": {},
     "execution_count": 17
    }
   ],
   "source": [
    "unefois_servis.code.count()"
   ]
  },
  {
   "cell_type": "code",
   "execution_count": 18,
   "metadata": {},
   "outputs": [
    {
     "output_type": "execute_result",
     "data": {
      "text/plain": [
       "2318"
      ]
     },
     "metadata": {},
     "execution_count": 18
    }
   ],
   "source": [
    "unefois_servis_Q1Q3fy21.code.count()"
   ]
  },
  {
   "cell_type": "code",
   "execution_count": 19,
   "metadata": {},
   "outputs": [],
   "source": [
    "code_servis_unefois_Q1Q3fy21 = pd.DataFrame({'code':unefois_servis_Q1Q3fy21.code})"
   ]
  },
  {
   "cell_type": "code",
   "execution_count": 20,
   "metadata": {},
   "outputs": [],
   "source": [
    "search_servis_again = code_servis_unefois_Q1Q3fy21.merge(unefois_servis,how=\"left\", on='code')"
   ]
  },
  {
   "cell_type": "code",
   "execution_count": 21,
   "metadata": {},
   "outputs": [],
   "source": [
    "search_servis_again.to_excel('search_servis_again.xlsx',index=False, na_rep=\"NULL\")"
   ]
  },
  {
   "cell_type": "code",
   "execution_count": 22,
   "metadata": {},
   "outputs": [
    {
     "output_type": "execute_result",
     "data": {
      "text/plain": [
       "                    code  main_id muso_eligibility  actual_id_group  \\\n",
       "0     PAP/DRMS/039203934      NaN              NaN              NaN   \n",
       "1     GON/DRMS/086207810      NaN              NaN              NaN   \n",
       "2     PAP/DRMS/032209801      NaN              NaN              NaN   \n",
       "3     GON/DRMS/059209905      NaN              NaN              NaN   \n",
       "4     GON/DRMS/059209906      NaN              NaN              NaN   \n",
       "...                  ...      ...              ...              ...   \n",
       "2313  GON/DRMS/058245560      NaN              NaN              NaN   \n",
       "2314  GON/DRMS/058245564      NaN              NaN              NaN   \n",
       "2315  GON/DRMS/058245569      NaN              NaN              NaN   \n",
       "2316  GON/DRMS/058245570      NaN              NaN              NaN   \n",
       "2317  GON/DRMS/058245574      NaN              NaN              NaN   \n",
       "\n",
       "     group_she_take_sessions last_name first_name dob  age  \\\n",
       "0                        NaN       NaN        NaN NaT  NaN   \n",
       "1                        NaN       NaN        NaN NaT  NaN   \n",
       "2                        NaN       NaN        NaN NaT  NaN   \n",
       "3                        NaN       NaN        NaN NaT  NaN   \n",
       "4                        NaN       NaN        NaN NaT  NaN   \n",
       "...                      ...       ...        ...  ..  ...   \n",
       "2313                     NaN       NaN        NaN NaT  NaN   \n",
       "2314                     NaN       NaN        NaN NaT  NaN   \n",
       "2315                     NaN       NaN        NaN NaT  NaN   \n",
       "2316                     NaN       NaN        NaN NaT  NaN   \n",
       "2317                     NaN       NaN        NaN NaT  NaN   \n",
       "\n",
       "      number_of_different_topic  ... condoms  vbg gyneco post_care_treatment  \\\n",
       "0                           NaN  ...     NaN  NaN    NaN                 NaN   \n",
       "1                           NaN  ...     NaN  NaN    NaN                 NaN   \n",
       "2                           NaN  ...     NaN  NaN    NaN                 NaN   \n",
       "3                           NaN  ...     NaN  NaN    NaN                 NaN   \n",
       "4                           NaN  ...     NaN  NaN    NaN                 NaN   \n",
       "...                         ...  ...     ...  ...    ...                 ...   \n",
       "2313                        NaN  ...     NaN  NaN    NaN                 NaN   \n",
       "2314                        NaN  ...     NaN  NaN    NaN                 NaN   \n",
       "2315                        NaN  ...     NaN  NaN    NaN                 NaN   \n",
       "2316                        NaN  ...     NaN  NaN    NaN                 NaN   \n",
       "2317                        NaN  ...     NaN  NaN    NaN                 NaN   \n",
       "\n",
       "     socio_eco_app recevoir_1services ps_10_14 ps_15_19 ps_20_24  \\\n",
       "0              NaN                NaN      NaN      NaN      NaN   \n",
       "1              NaN                NaN      NaN      NaN      NaN   \n",
       "2              NaN                NaN      NaN      NaN      NaN   \n",
       "3              NaN                NaN      NaN      NaN      NaN   \n",
       "4              NaN                NaN      NaN      NaN      NaN   \n",
       "...            ...                ...      ...      ...      ...   \n",
       "2313           NaN                NaN      NaN      NaN      NaN   \n",
       "2314           NaN                NaN      NaN      NaN      NaN   \n",
       "2315           NaN                NaN      NaN      NaN      NaN   \n",
       "2316           NaN                NaN      NaN      NaN      NaN   \n",
       "2317           NaN                NaN      NaN      NaN      NaN   \n",
       "\n",
       "     score_eligible_AGYW  \n",
       "0                    NaN  \n",
       "1                    NaN  \n",
       "2                    NaN  \n",
       "3                    NaN  \n",
       "4                    NaN  \n",
       "...                  ...  \n",
       "2313                 NaN  \n",
       "2314                 NaN  \n",
       "2315                 NaN  \n",
       "2316                 NaN  \n",
       "2317                 NaN  \n",
       "\n",
       "[2318 rows x 275 columns]"
      ],
      "text/html": "<div>\n<style scoped>\n    .dataframe tbody tr th:only-of-type {\n        vertical-align: middle;\n    }\n\n    .dataframe tbody tr th {\n        vertical-align: top;\n    }\n\n    .dataframe thead th {\n        text-align: right;\n    }\n</style>\n<table border=\"1\" class=\"dataframe\">\n  <thead>\n    <tr style=\"text-align: right;\">\n      <th></th>\n      <th>code</th>\n      <th>main_id</th>\n      <th>muso_eligibility</th>\n      <th>actual_id_group</th>\n      <th>group_she_take_sessions</th>\n      <th>last_name</th>\n      <th>first_name</th>\n      <th>dob</th>\n      <th>age</th>\n      <th>number_of_different_topic</th>\n      <th>...</th>\n      <th>condoms</th>\n      <th>vbg</th>\n      <th>gyneco</th>\n      <th>post_care_treatment</th>\n      <th>socio_eco_app</th>\n      <th>recevoir_1services</th>\n      <th>ps_10_14</th>\n      <th>ps_15_19</th>\n      <th>ps_20_24</th>\n      <th>score_eligible_AGYW</th>\n    </tr>\n  </thead>\n  <tbody>\n    <tr>\n      <th>0</th>\n      <td>PAP/DRMS/039203934</td>\n      <td>NaN</td>\n      <td>NaN</td>\n      <td>NaN</td>\n      <td>NaN</td>\n      <td>NaN</td>\n      <td>NaN</td>\n      <td>NaT</td>\n      <td>NaN</td>\n      <td>NaN</td>\n      <td>...</td>\n      <td>NaN</td>\n      <td>NaN</td>\n      <td>NaN</td>\n      <td>NaN</td>\n      <td>NaN</td>\n      <td>NaN</td>\n      <td>NaN</td>\n      <td>NaN</td>\n      <td>NaN</td>\n      <td>NaN</td>\n    </tr>\n    <tr>\n      <th>1</th>\n      <td>GON/DRMS/086207810</td>\n      <td>NaN</td>\n      <td>NaN</td>\n      <td>NaN</td>\n      <td>NaN</td>\n      <td>NaN</td>\n      <td>NaN</td>\n      <td>NaT</td>\n      <td>NaN</td>\n      <td>NaN</td>\n      <td>...</td>\n      <td>NaN</td>\n      <td>NaN</td>\n      <td>NaN</td>\n      <td>NaN</td>\n      <td>NaN</td>\n      <td>NaN</td>\n      <td>NaN</td>\n      <td>NaN</td>\n      <td>NaN</td>\n      <td>NaN</td>\n    </tr>\n    <tr>\n      <th>2</th>\n      <td>PAP/DRMS/032209801</td>\n      <td>NaN</td>\n      <td>NaN</td>\n      <td>NaN</td>\n      <td>NaN</td>\n      <td>NaN</td>\n      <td>NaN</td>\n      <td>NaT</td>\n      <td>NaN</td>\n      <td>NaN</td>\n      <td>...</td>\n      <td>NaN</td>\n      <td>NaN</td>\n      <td>NaN</td>\n      <td>NaN</td>\n      <td>NaN</td>\n      <td>NaN</td>\n      <td>NaN</td>\n      <td>NaN</td>\n      <td>NaN</td>\n      <td>NaN</td>\n    </tr>\n    <tr>\n      <th>3</th>\n      <td>GON/DRMS/059209905</td>\n      <td>NaN</td>\n      <td>NaN</td>\n      <td>NaN</td>\n      <td>NaN</td>\n      <td>NaN</td>\n      <td>NaN</td>\n      <td>NaT</td>\n      <td>NaN</td>\n      <td>NaN</td>\n      <td>...</td>\n      <td>NaN</td>\n      <td>NaN</td>\n      <td>NaN</td>\n      <td>NaN</td>\n      <td>NaN</td>\n      <td>NaN</td>\n      <td>NaN</td>\n      <td>NaN</td>\n      <td>NaN</td>\n      <td>NaN</td>\n    </tr>\n    <tr>\n      <th>4</th>\n      <td>GON/DRMS/059209906</td>\n      <td>NaN</td>\n      <td>NaN</td>\n      <td>NaN</td>\n      <td>NaN</td>\n      <td>NaN</td>\n      <td>NaN</td>\n      <td>NaT</td>\n      <td>NaN</td>\n      <td>NaN</td>\n      <td>...</td>\n      <td>NaN</td>\n      <td>NaN</td>\n      <td>NaN</td>\n      <td>NaN</td>\n      <td>NaN</td>\n      <td>NaN</td>\n      <td>NaN</td>\n      <td>NaN</td>\n      <td>NaN</td>\n      <td>NaN</td>\n    </tr>\n    <tr>\n      <th>...</th>\n      <td>...</td>\n      <td>...</td>\n      <td>...</td>\n      <td>...</td>\n      <td>...</td>\n      <td>...</td>\n      <td>...</td>\n      <td>...</td>\n      <td>...</td>\n      <td>...</td>\n      <td>...</td>\n      <td>...</td>\n      <td>...</td>\n      <td>...</td>\n      <td>...</td>\n      <td>...</td>\n      <td>...</td>\n      <td>...</td>\n      <td>...</td>\n      <td>...</td>\n      <td>...</td>\n    </tr>\n    <tr>\n      <th>2313</th>\n      <td>GON/DRMS/058245560</td>\n      <td>NaN</td>\n      <td>NaN</td>\n      <td>NaN</td>\n      <td>NaN</td>\n      <td>NaN</td>\n      <td>NaN</td>\n      <td>NaT</td>\n      <td>NaN</td>\n      <td>NaN</td>\n      <td>...</td>\n      <td>NaN</td>\n      <td>NaN</td>\n      <td>NaN</td>\n      <td>NaN</td>\n      <td>NaN</td>\n      <td>NaN</td>\n      <td>NaN</td>\n      <td>NaN</td>\n      <td>NaN</td>\n      <td>NaN</td>\n    </tr>\n    <tr>\n      <th>2314</th>\n      <td>GON/DRMS/058245564</td>\n      <td>NaN</td>\n      <td>NaN</td>\n      <td>NaN</td>\n      <td>NaN</td>\n      <td>NaN</td>\n      <td>NaN</td>\n      <td>NaT</td>\n      <td>NaN</td>\n      <td>NaN</td>\n      <td>...</td>\n      <td>NaN</td>\n      <td>NaN</td>\n      <td>NaN</td>\n      <td>NaN</td>\n      <td>NaN</td>\n      <td>NaN</td>\n      <td>NaN</td>\n      <td>NaN</td>\n      <td>NaN</td>\n      <td>NaN</td>\n    </tr>\n    <tr>\n      <th>2315</th>\n      <td>GON/DRMS/058245569</td>\n      <td>NaN</td>\n      <td>NaN</td>\n      <td>NaN</td>\n      <td>NaN</td>\n      <td>NaN</td>\n      <td>NaN</td>\n      <td>NaT</td>\n      <td>NaN</td>\n      <td>NaN</td>\n      <td>...</td>\n      <td>NaN</td>\n      <td>NaN</td>\n      <td>NaN</td>\n      <td>NaN</td>\n      <td>NaN</td>\n      <td>NaN</td>\n      <td>NaN</td>\n      <td>NaN</td>\n      <td>NaN</td>\n      <td>NaN</td>\n    </tr>\n    <tr>\n      <th>2316</th>\n      <td>GON/DRMS/058245570</td>\n      <td>NaN</td>\n      <td>NaN</td>\n      <td>NaN</td>\n      <td>NaN</td>\n      <td>NaN</td>\n      <td>NaN</td>\n      <td>NaT</td>\n      <td>NaN</td>\n      <td>NaN</td>\n      <td>...</td>\n      <td>NaN</td>\n      <td>NaN</td>\n      <td>NaN</td>\n      <td>NaN</td>\n      <td>NaN</td>\n      <td>NaN</td>\n      <td>NaN</td>\n      <td>NaN</td>\n      <td>NaN</td>\n      <td>NaN</td>\n    </tr>\n    <tr>\n      <th>2317</th>\n      <td>GON/DRMS/058245574</td>\n      <td>NaN</td>\n      <td>NaN</td>\n      <td>NaN</td>\n      <td>NaN</td>\n      <td>NaN</td>\n      <td>NaN</td>\n      <td>NaT</td>\n      <td>NaN</td>\n      <td>NaN</td>\n      <td>...</td>\n      <td>NaN</td>\n      <td>NaN</td>\n      <td>NaN</td>\n      <td>NaN</td>\n      <td>NaN</td>\n      <td>NaN</td>\n      <td>NaN</td>\n      <td>NaN</td>\n      <td>NaN</td>\n      <td>NaN</td>\n    </tr>\n  </tbody>\n</table>\n<p>2318 rows × 275 columns</p>\n</div>"
     },
     "metadata": {},
     "execution_count": 22
    }
   ],
   "source": [
    "search_servis_again"
   ]
  }
 ],
 "metadata": {
  "kernelspec": {
   "name": "python392jvsc74a57bd04534460e0bdca1b390927d45471088fb3501d39abc4e3f2cee293892e17d7fc6",
   "display_name": "Python 3.9.2 64-bit"
  },
  "language_info": {
   "codemirror_mode": {
    "name": "ipython",
    "version": 3
   },
   "file_extension": ".py",
   "mimetype": "text/x-python",
   "name": "python",
   "nbconvert_exporter": "python",
   "pygments_lexer": "ipython3",
   "version": "3.9.2"
  }
 },
 "nbformat": 4,
 "nbformat_minor": 5
}