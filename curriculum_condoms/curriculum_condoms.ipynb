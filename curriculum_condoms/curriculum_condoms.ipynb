{
 "cells": [
  {
   "cell_type": "code",
   "execution_count": 1,
   "source": [
    "%run \"../layeringOfServices.ipynb\""
   ],
   "outputs": [],
   "metadata": {}
  },
  {
   "cell_type": "code",
   "execution_count": 2,
   "source": [
    "import matplotlib.pyplot as plt\r\n",
    "%matplotlib inline\r\n",
    "import seaborn as sns\r\n",
    "\r\n",
    "from IPython.core.interactiveshell import InteractiveShell\r\n",
    "InteractiveShell.ast_node_interactivity = \"all\""
   ],
   "outputs": [],
   "metadata": {}
  },
  {
   "cell_type": "markdown",
   "source": [],
   "metadata": {}
  },
  {
   "cell_type": "code",
   "execution_count": 3,
   "source": [
    "df = dreams_mastersheet"
   ],
   "outputs": [],
   "metadata": {}
  },
  {
   "cell_type": "code",
   "execution_count": 4,
   "source": [
    "pd.set_option(\"max_columns\",None)\r\n",
    "df.head(1)"
   ],
   "outputs": [
    {
     "output_type": "execute_result",
     "data": {
      "text/plain": [
       "   main_id muso_eligibility  actual_id_group group_she_take_sessions  code  \\\n",
       "0        0             no17             1895                    None  None   \n",
       "\n",
       "  last_name first_name   dob   age  number_of_different_topic  \\\n",
       "0      None       None  None -1000                      -1000   \n",
       "\n",
       "  first_session_date last_session_date last_hiv_test_date test_results  \\\n",
       "0         0000-00-00        0000-00-00         0000-00-00         None   \n",
       "\n",
       "  test_results_with_label last_condoms_reception_date sensibilisation_condom  \\\n",
       "0                    None                  0000-00-00                   None   \n",
       "\n",
       "  acceptation_condom last_vbg_treatment_date last_gynecological_care_date  \\\n",
       "0               None              0000-00-00                   0000-00-00   \n",
       "\n",
       "  last_sensibilisation_prep last_reference_date_prep  \\\n",
       "0                      None                     None   \n",
       "\n",
       "  last_initiation_date_prep acceptation_prep actual_group_name  \\\n",
       "0                      None             None    Charlemagne 11   \n",
       "\n",
       "                                      actual_hub actual_commune  \\\n",
       "0  Ecole Nationale Charlemagne Peralte/Verrettes      Verrettes   \n",
       "\n",
       "   actual_commune_id actual_departement  actual_departement_id is_muso  \\\n",
       "0                 15         Artibonite                      4      no   \n",
       "\n",
       "  is_gardening  id  id_patient  f_under_1  f_1_4  f_5_9  f_10_14  f_15_17  \\\n",
       "0           no NaN         NaN        NaN    NaN    NaN      NaN      NaN   \n",
       "\n",
       "   f_18_25  f_25  m_under_1  m_1_4  m_5_9  m_10_14  m_15_17  m_18_25  m_25  \\\n",
       "0      NaN   NaN        NaN    NaN    NaN      NaN      NaN      NaN   NaN   \n",
       "\n",
       "   cf_18_24  cf_25  cm_18_24  cm_25 created_at updated_at  created_by  \\\n",
       "0       NaN    NaN       NaN    NaN        NaT       None         NaN   \n",
       "\n",
       "   updated_by     id  number                                formid  \\\n",
       "0         NaN  77516     NaN  282cdbc3-781f-465e-a13b-33c2c133b173   \n",
       "\n",
       "   non_konple_paran        siyen_paran a1_dat_entvyou_a_ft_jjmmaa_egz_010817  \\\n",
       "0  La mise Morantis  1600298364261.jpg                            2020-07-09   \n",
       "\n",
       "  b1_non_moun_mennen_entvyou_a c1_siyati_moun_ki_f_entvyou_a  d1_kad lot_kad  \\\n",
       "0                       Rosena                   St Fleurent  mentor    None   \n",
       "\n",
       "               h_kote_entvyou_a_ft a_non_patisipan_an    b_siyati  \\\n",
       "0  Centre rêve Charlemagne peralte            Metayou  Dorsainvil   \n",
       "\n",
       "  nan_ki_dat_ou_fet  c_laj    d_adrs e__telefn    f_komin g_seksyon_kominal  \\\n",
       "0        2003-12-25     16  Calvaire  32872507  verrettes                     \n",
       "\n",
       "   paran_ou_vivan i_non_manman j_non_papa k_reskonsab_devan_lalwa  \\\n",
       "0               0                                                   \n",
       "\n",
       "  b_gen_yon_granmoun_k_ap_asiste_entvyou_a  \\\n",
       "0                                      non   \n",
       "\n",
       "  c_4_lyen_moun_k_ap_asiste_a_ak_moun_y_ap_kesyone_a  \\\n",
       "0                                               None   \n",
       "\n",
       "   b5_konbyen_fwa_ou_al_dmi_tou_grangou_pandan_kat_dnye_semn_yo  \\\n",
       "0                                                NaN              \n",
       "\n",
       "   a_ske_ou_lekl  tranche_age_6a_15_19 b6_ki_klas_w_ap_f  \\\n",
       "0            NaN                   3.0              None   \n",
       "\n",
       "  b6_Ki_klas_w_ap_fe_listRepons c6_ske_ou_te_oblije_double_deja  \\\n",
       "0                                                          None   \n",
       "\n",
       "  c6b_kils_ki_peye_lekl_ou_10_14 lot_ki_peye  pc6b  \\\n",
       "0                           None        None  None   \n",
       "\n",
       "  c6b_Kiles_ki_peye_lekol_ou_Tranche_15_19 lot_presize_15_19  \\\n",
       "0                                     None              None   \n",
       "\n",
       "  bay_point_pou_lot_la_15-19 c61_depi_ki_l_ou_pa_al_lekl_ank  \\\n",
       "0                       None                                   \n",
       "\n",
       "  c62_ki_dnye_klas_ou_te_fini ki_denye_klas_ou_te_fe_lisrepons  \\\n",
       "0                                                          af7   \n",
       "\n",
       "  a7_ak_kils_w_ap_viv_10_14 presize_parent presize_fanmi presize_granmoune  \\\n",
       "0                      None           None          None              None   \n",
       "\n",
       "  lot_moune_wap_viv bay_pwen_pou_lot_moune_0123 a7_Ak_kiles_w_ap_viv_15_19  \\\n",
       "0              None                        None                          1   \n",
       "\n",
       "  presize_parent_15-19 presize_fanmi_15_17 presize_granmoune_15_17  \\\n",
       "0                                     None                    None   \n",
       "\n",
       "  lot_moune_kap_viv_15_17 bay_pwen_pou_lot_moun_0123  \\\n",
       "0                    None                       None   \n",
       "\n",
       "  a7_Ak_kiles_w_ap_viv_17_18 yon_sel_paran_persize_18_19  \\\n",
       "0                       None                        None   \n",
       "\n",
       "  yon_lot_fanmi_presize_18_19 yon_lot_granmoun_presize_18_19  \\\n",
       "0                        None                           None   \n",
       "\n",
       "  lot_presize_18_19 bay_pwen_pou_lot_moun_0123_-  \\\n",
       "0              None                         None   \n",
       "\n",
       "  b7_ki_lt_moun_k_ap_viv_av_w_10_14 konbyen_zanmi konbyen_fre_e_se  \\\n",
       "0                              None          None             None   \n",
       "\n",
       "  b7_ki_lot_moun_k_ap_viv_ave_w_15_17 konbye_zanmi_15_17  \\\n",
       "0                                None               None   \n",
       "\n",
       "  konbyen_fre_e_se_15_17 b7_ki_lot_moun_kap_viv_ave_w_18_19  \\\n",
       "0                   None                               None   \n",
       "\n",
       "  konbyen_zanmi_18_19 konbyen_fre_e_se_18_19  \\\n",
       "0                None                   None   \n",
       "\n",
       "  a8_eske_gen_yon_moun_ou_santi_ou_ka_al_kote_ presize_kiyes  \\\n",
       "0                                            2          None   \n",
       "\n",
       "  b8_eske_avan_sa_gen_yon_moun_ou_te_ka_al_kote_ ki_yes_moune_sa  \\\n",
       "0                                              0                   \n",
       "\n",
       "  presize_katye presize_lot_kote  \\\n",
       "0          None             None   \n",
       "\n",
       "  a10_si_ou_gen_pwoblm_kb_ske_w_gen_yon_moun_ou_ka_adrese  \\\n",
       "0                                                  1        \n",
       "\n",
       "  a111_a_kils_ou_adrese_w_dabitid presize_lot_moune_ou_adrese  \\\n",
       "0                            None                        None   \n",
       "\n",
       "  a112_si_ou_pa_gen_yon_moun_ou_ka_adrese_ske_ou presize_travay  \\\n",
       "0                                                          None   \n",
       "\n",
       "  bay_score_travaykomes_0_ou_1_ou_2 presize_lot_travay  \\\n",
       "0                              None               None   \n",
       "\n",
       "  bay_score_pou_lot_li_ye_a  ki_laj_ou_te_genyen_premye_fwa_ou_te_gen_menaj  \\\n",
       "0                      None                                            15.0   \n",
       "\n",
       "  si_ou_gen_menaj_deja_ou_konn_f_bagay_av_l  \\\n",
       "0                                        wi   \n",
       "\n",
       "   a12_ki_laj_ou_te_genyen_l_ou_te_kmanse_f_bagay_pou_premye_fwa  \\\n",
       "0                                                4.0               \n",
       "\n",
       "  b12_premye_fwa_ou_te_f_bagay_ske_se_te  \\\n",
       "0                                          \n",
       "\n",
       "  ske_w_ap_f_bagay_ak_yon_moun_pandan_3_dnye_mwa_sa_yo  \\\n",
       "0                                                        \n",
       "\n",
       "  ske_ou_svi_ak_kapt_deja_l_w_ap_f_bagay  \\\n",
       "0                                      0   \n",
       "\n",
       "  pandan_douz_dnye_mwa_yo_konbyen_fwa_ou_te_svi_ak_kapt  \\\n",
       "0                                                  3      \n",
       "\n",
       "  ske_ou_gen_pitit_10_14 ske_ou_gen_pitit_15_17 ske_ou_gen_pitit_18_19  \\\n",
       "0                   None                   None                   None   \n",
       "\n",
       "  konbyen_pitit_ou_genyen b181_ske_pitit_ou_ayo_ap_viv_avk_ou  \\\n",
       "0                    None                                None   \n",
       "\n",
       "  avk_kils_pitit_ou_ayo_ap_viv eske_ou_bay_kob_pou_pran_swen_piti_ou_ayo  \\\n",
       "0                         None                                      None   \n",
       "\n",
       "  ske_ou_f_ts_sida_deja eske_ou_konn_bwe_alkol  \\\n",
       "0                    wi                    oui   \n",
       "\n",
       "  a21_ske_ou_bw_alkl_osnon_itilize_lt_dwg_10_14  \\\n",
       "0                                          None   \n",
       "\n",
       "  a21_nan_ki_frenkans_ou_itilize_alkol eske_ou_konn_itilize_dwog  \\\n",
       "0                                    2                       non   \n",
       "\n",
       "  ske_ou_konn_itilize_dwg_10_14 ske_ou_konn_itilize_dwg_15_19  ris_imedia  \\\n",
       "0                          None                          None  Ris Imedia   \n",
       "\n",
       "  gwo_ris  ris_mwayen ti_ris  \\\n",
       "0    None  Ris Mwayen   None   \n",
       "\n",
       "  eske_ou_ta_renmen_patisipe_nan_aktivite_dreams_yo  \\\n",
       "0                                                wi   \n",
       "\n",
       "  eske_ou_dak_kategori_a_byen_idantifye_nivo_risk_ti_jn_fi_a  \\\n",
       "0                                                 wi           \n",
       "\n",
       "  poukisa_ou_voye_li komant_anket_a  calcul_age  paran       NN  debut  N2  \\\n",
       "0               None                       16.0      0  Metayou      5  ou   \n",
       "\n",
       "          pre  debutpre pre2        kkk premyelet   agetodate    DD randomID  \\\n",
       "0  Dorsainvil         8   il  verrettes       ver  1970-01-17  2503     XIR3   \n",
       "\n",
       "        codepaticipan  b5  qa6  P1a6  pc6  c6b0  c6b  c6b1919  pc6b1919  pc61  \\\n",
       "0  ouil/ver/2503/XIR3   0    0     3    0     0    0        0         0     0   \n",
       "\n",
       "   aa7  a7  aaa7  pa71517  aaaa7  pa71819  a7_1  b7  pb71517  pb71819  a8  b8  \\\n",
       "0    0   0     0        1      0        0     0   0        0        0   2   0   \n",
       "\n",
       "   a9  bb9  b9  a10  a11_1  aaa11_2_1  aa11_2_1  a11_2_1  a12  b12  a13  a14  \\\n",
       "0   0  0.0   0    1      0          0         0        0    4    0    0    0   \n",
       "\n",
       "   pb15  pa16  pa17  pb18  pb181  ppb181_17  pb181_19  point  pb182  pa20  \\\n",
       "0     3     2     4     0      0          0         0      0      0     3   \n",
       "\n",
       "   pa21  aaa22  a22  pa23  pa25  total completed_time started_time username  \\\n",
       "0     0      2    0     0     5     30           None         None   2yonie   \n",
       "\n",
       "               received_on form_link                               case_id  \\\n",
       "0  2020-09-28 19:01:57.255      None  fe6ffeb2-619d-4c32-b67e-c52b0a3c5dcf   \n",
       "\n",
       "  gen_moun_kap_asiste_moun_yap_poze_kesyon_an  \\\n",
       "0                                         non   \n",
       "\n",
       "  a_nan_kat_denye_semen_yo_ou_konn_domi_grangou  \\\n",
       "0                                                 \n",
       "\n",
       "  a71_laj_ou_te_genyen_lew_te_marye_ou_plase  \\\n",
       "0                                       None   \n",
       "\n",
       "   a9_ou_gen_lot_kote_ou_pa_santi_ou_ansekirite  \\\n",
       "0                                           0.0   \n",
       "\n",
       "  b9_list_kote_ou_pa_an_sekirite a1121_aktivite_pouw_rantre_kob_ou_vle_fe  \\\n",
       "0                           None                                     None   \n",
       "\n",
       "  a15_kiyes_ki_pi_gwo_a_patn_seksyel_avant_e_kunyea a17 b18_ske_ou_ansent  \\\n",
       "0                                                 2   4                 0   \n",
       "\n",
       "  b19_sa_deranjew_siw_pataje_rezilta c19_ou_enskri_nan_swen_asistans_vih  \\\n",
       "0                   gen_viris_sida_a                                 non   \n",
       "\n",
       "  c19_replacement_eske_w_ta_renmen_nou_fasilite_w_fe_tes_sida  \\\n",
       "0                                                 wi            \n",
       "\n",
       "  a20_swiv_tretman_pou_lot_ist ou_konn_enkonsyan_apre_alcohol_ou_dwog  \\\n",
       "0                            3                                      5   \n",
       "\n",
       "  ou_konnen_sant_pou_planin ou_konnen_kote_pou_sevis_sante_tretman_mal  \\\n",
       "0                        wi                                         wi   \n",
       "\n",
       "  tifi_a_nan_nivo_ti_ris_ou_wel_elijib             timeEnd  \\\n",
       "0                                 None 2020-09-17 03:51:57   \n",
       "\n",
       "            timeStart agent_username          created_ad organisation  \\\n",
       "0 2020-09-17 01:18:04         2yonie 2020-09-28 12:01:58        CARIS   \n",
       "\n",
       "       age_range   newage_range date_entevyou    fiscal_year  \\\n",
       "0  not_valid_age  not_valid_age    2020-07-09  Q3fy20-Q4fy20   \n",
       "\n",
       "      timeOn_system  months_now_dateEntevyou agyw_period_range  \\\n",
       "0  required_Time_on                       12       7-12 months   \n",
       "\n",
       "  curriculum_servis_auMoins_1fois curriculum curriculum_date_debut  \\\n",
       "0        zero_services_curriculum   non-recu                   NaT   \n",
       "\n",
       "  curriculum_date_end curriculum_date_debut_fy curriculum_date_end_fy  \\\n",
       "0                 NaT                   errata                 errata   \n",
       "\n",
       "  hts_date condoms_date vbg_date gyneco_date     hts condoms     vbg  gyneco  \\\n",
       "0      NaT          NaT      NaT         NaT  errata  errata  errata  errata   \n",
       "\n",
       "   hts_fy condoms_fy  vbg_fy gyneco_fy post_care_treatment socio_eco_app  \\\n",
       "0  errata     errata  errata    errata                  no            no   \n",
       "\n",
       "  recevoir_1services ps_10_14 ps_15_19 ps_20_24 score_eligible_AGYW  \\\n",
       "0                 no       no       no       no            eligible   \n",
       "\n",
       "  dreams_curriculum  \n",
       "0    curriculum_inc  "
      ],
      "text/html": [
       "<div>\n",
       "<style scoped>\n",
       "    .dataframe tbody tr th:only-of-type {\n",
       "        vertical-align: middle;\n",
       "    }\n",
       "\n",
       "    .dataframe tbody tr th {\n",
       "        vertical-align: top;\n",
       "    }\n",
       "\n",
       "    .dataframe thead th {\n",
       "        text-align: right;\n",
       "    }\n",
       "</style>\n",
       "<table border=\"1\" class=\"dataframe\">\n",
       "  <thead>\n",
       "    <tr style=\"text-align: right;\">\n",
       "      <th></th>\n",
       "      <th>main_id</th>\n",
       "      <th>muso_eligibility</th>\n",
       "      <th>actual_id_group</th>\n",
       "      <th>group_she_take_sessions</th>\n",
       "      <th>code</th>\n",
       "      <th>last_name</th>\n",
       "      <th>first_name</th>\n",
       "      <th>dob</th>\n",
       "      <th>age</th>\n",
       "      <th>number_of_different_topic</th>\n",
       "      <th>first_session_date</th>\n",
       "      <th>last_session_date</th>\n",
       "      <th>last_hiv_test_date</th>\n",
       "      <th>test_results</th>\n",
       "      <th>test_results_with_label</th>\n",
       "      <th>last_condoms_reception_date</th>\n",
       "      <th>sensibilisation_condom</th>\n",
       "      <th>acceptation_condom</th>\n",
       "      <th>last_vbg_treatment_date</th>\n",
       "      <th>last_gynecological_care_date</th>\n",
       "      <th>last_sensibilisation_prep</th>\n",
       "      <th>last_reference_date_prep</th>\n",
       "      <th>last_initiation_date_prep</th>\n",
       "      <th>acceptation_prep</th>\n",
       "      <th>actual_group_name</th>\n",
       "      <th>actual_hub</th>\n",
       "      <th>actual_commune</th>\n",
       "      <th>actual_commune_id</th>\n",
       "      <th>actual_departement</th>\n",
       "      <th>actual_departement_id</th>\n",
       "      <th>is_muso</th>\n",
       "      <th>is_gardening</th>\n",
       "      <th>id</th>\n",
       "      <th>id_patient</th>\n",
       "      <th>f_under_1</th>\n",
       "      <th>f_1_4</th>\n",
       "      <th>f_5_9</th>\n",
       "      <th>f_10_14</th>\n",
       "      <th>f_15_17</th>\n",
       "      <th>f_18_25</th>\n",
       "      <th>f_25</th>\n",
       "      <th>m_under_1</th>\n",
       "      <th>m_1_4</th>\n",
       "      <th>m_5_9</th>\n",
       "      <th>m_10_14</th>\n",
       "      <th>m_15_17</th>\n",
       "      <th>m_18_25</th>\n",
       "      <th>m_25</th>\n",
       "      <th>cf_18_24</th>\n",
       "      <th>cf_25</th>\n",
       "      <th>cm_18_24</th>\n",
       "      <th>cm_25</th>\n",
       "      <th>created_at</th>\n",
       "      <th>updated_at</th>\n",
       "      <th>created_by</th>\n",
       "      <th>updated_by</th>\n",
       "      <th>id</th>\n",
       "      <th>number</th>\n",
       "      <th>formid</th>\n",
       "      <th>non_konple_paran</th>\n",
       "      <th>siyen_paran</th>\n",
       "      <th>a1_dat_entvyou_a_ft_jjmmaa_egz_010817</th>\n",
       "      <th>b1_non_moun_mennen_entvyou_a</th>\n",
       "      <th>c1_siyati_moun_ki_f_entvyou_a</th>\n",
       "      <th>d1_kad</th>\n",
       "      <th>lot_kad</th>\n",
       "      <th>h_kote_entvyou_a_ft</th>\n",
       "      <th>a_non_patisipan_an</th>\n",
       "      <th>b_siyati</th>\n",
       "      <th>nan_ki_dat_ou_fet</th>\n",
       "      <th>c_laj</th>\n",
       "      <th>d_adrs</th>\n",
       "      <th>e__telefn</th>\n",
       "      <th>f_komin</th>\n",
       "      <th>g_seksyon_kominal</th>\n",
       "      <th>paran_ou_vivan</th>\n",
       "      <th>i_non_manman</th>\n",
       "      <th>j_non_papa</th>\n",
       "      <th>k_reskonsab_devan_lalwa</th>\n",
       "      <th>b_gen_yon_granmoun_k_ap_asiste_entvyou_a</th>\n",
       "      <th>c_4_lyen_moun_k_ap_asiste_a_ak_moun_y_ap_kesyone_a</th>\n",
       "      <th>b5_konbyen_fwa_ou_al_dmi_tou_grangou_pandan_kat_dnye_semn_yo</th>\n",
       "      <th>a_ske_ou_lekl</th>\n",
       "      <th>tranche_age_6a_15_19</th>\n",
       "      <th>b6_ki_klas_w_ap_f</th>\n",
       "      <th>b6_Ki_klas_w_ap_fe_listRepons</th>\n",
       "      <th>c6_ske_ou_te_oblije_double_deja</th>\n",
       "      <th>c6b_kils_ki_peye_lekl_ou_10_14</th>\n",
       "      <th>lot_ki_peye</th>\n",
       "      <th>pc6b</th>\n",
       "      <th>c6b_Kiles_ki_peye_lekol_ou_Tranche_15_19</th>\n",
       "      <th>lot_presize_15_19</th>\n",
       "      <th>bay_point_pou_lot_la_15-19</th>\n",
       "      <th>c61_depi_ki_l_ou_pa_al_lekl_ank</th>\n",
       "      <th>c62_ki_dnye_klas_ou_te_fini</th>\n",
       "      <th>ki_denye_klas_ou_te_fe_lisrepons</th>\n",
       "      <th>a7_ak_kils_w_ap_viv_10_14</th>\n",
       "      <th>presize_parent</th>\n",
       "      <th>presize_fanmi</th>\n",
       "      <th>presize_granmoune</th>\n",
       "      <th>lot_moune_wap_viv</th>\n",
       "      <th>bay_pwen_pou_lot_moune_0123</th>\n",
       "      <th>a7_Ak_kiles_w_ap_viv_15_19</th>\n",
       "      <th>presize_parent_15-19</th>\n",
       "      <th>presize_fanmi_15_17</th>\n",
       "      <th>presize_granmoune_15_17</th>\n",
       "      <th>lot_moune_kap_viv_15_17</th>\n",
       "      <th>bay_pwen_pou_lot_moun_0123</th>\n",
       "      <th>a7_Ak_kiles_w_ap_viv_17_18</th>\n",
       "      <th>yon_sel_paran_persize_18_19</th>\n",
       "      <th>yon_lot_fanmi_presize_18_19</th>\n",
       "      <th>yon_lot_granmoun_presize_18_19</th>\n",
       "      <th>lot_presize_18_19</th>\n",
       "      <th>bay_pwen_pou_lot_moun_0123_-</th>\n",
       "      <th>b7_ki_lt_moun_k_ap_viv_av_w_10_14</th>\n",
       "      <th>konbyen_zanmi</th>\n",
       "      <th>konbyen_fre_e_se</th>\n",
       "      <th>b7_ki_lot_moun_k_ap_viv_ave_w_15_17</th>\n",
       "      <th>konbye_zanmi_15_17</th>\n",
       "      <th>konbyen_fre_e_se_15_17</th>\n",
       "      <th>b7_ki_lot_moun_kap_viv_ave_w_18_19</th>\n",
       "      <th>konbyen_zanmi_18_19</th>\n",
       "      <th>konbyen_fre_e_se_18_19</th>\n",
       "      <th>a8_eske_gen_yon_moun_ou_santi_ou_ka_al_kote_</th>\n",
       "      <th>presize_kiyes</th>\n",
       "      <th>b8_eske_avan_sa_gen_yon_moun_ou_te_ka_al_kote_</th>\n",
       "      <th>ki_yes_moune_sa</th>\n",
       "      <th>presize_katye</th>\n",
       "      <th>presize_lot_kote</th>\n",
       "      <th>a10_si_ou_gen_pwoblm_kb_ske_w_gen_yon_moun_ou_ka_adrese</th>\n",
       "      <th>a111_a_kils_ou_adrese_w_dabitid</th>\n",
       "      <th>presize_lot_moune_ou_adrese</th>\n",
       "      <th>a112_si_ou_pa_gen_yon_moun_ou_ka_adrese_ske_ou</th>\n",
       "      <th>presize_travay</th>\n",
       "      <th>bay_score_travaykomes_0_ou_1_ou_2</th>\n",
       "      <th>presize_lot_travay</th>\n",
       "      <th>bay_score_pou_lot_li_ye_a</th>\n",
       "      <th>ki_laj_ou_te_genyen_premye_fwa_ou_te_gen_menaj</th>\n",
       "      <th>si_ou_gen_menaj_deja_ou_konn_f_bagay_av_l</th>\n",
       "      <th>a12_ki_laj_ou_te_genyen_l_ou_te_kmanse_f_bagay_pou_premye_fwa</th>\n",
       "      <th>b12_premye_fwa_ou_te_f_bagay_ske_se_te</th>\n",
       "      <th>ske_w_ap_f_bagay_ak_yon_moun_pandan_3_dnye_mwa_sa_yo</th>\n",
       "      <th>ske_ou_svi_ak_kapt_deja_l_w_ap_f_bagay</th>\n",
       "      <th>pandan_douz_dnye_mwa_yo_konbyen_fwa_ou_te_svi_ak_kapt</th>\n",
       "      <th>ske_ou_gen_pitit_10_14</th>\n",
       "      <th>ske_ou_gen_pitit_15_17</th>\n",
       "      <th>ske_ou_gen_pitit_18_19</th>\n",
       "      <th>konbyen_pitit_ou_genyen</th>\n",
       "      <th>b181_ske_pitit_ou_ayo_ap_viv_avk_ou</th>\n",
       "      <th>avk_kils_pitit_ou_ayo_ap_viv</th>\n",
       "      <th>eske_ou_bay_kob_pou_pran_swen_piti_ou_ayo</th>\n",
       "      <th>ske_ou_f_ts_sida_deja</th>\n",
       "      <th>eske_ou_konn_bwe_alkol</th>\n",
       "      <th>a21_ske_ou_bw_alkl_osnon_itilize_lt_dwg_10_14</th>\n",
       "      <th>a21_nan_ki_frenkans_ou_itilize_alkol</th>\n",
       "      <th>eske_ou_konn_itilize_dwog</th>\n",
       "      <th>ske_ou_konn_itilize_dwg_10_14</th>\n",
       "      <th>ske_ou_konn_itilize_dwg_15_19</th>\n",
       "      <th>ris_imedia</th>\n",
       "      <th>gwo_ris</th>\n",
       "      <th>ris_mwayen</th>\n",
       "      <th>ti_ris</th>\n",
       "      <th>eske_ou_ta_renmen_patisipe_nan_aktivite_dreams_yo</th>\n",
       "      <th>eske_ou_dak_kategori_a_byen_idantifye_nivo_risk_ti_jn_fi_a</th>\n",
       "      <th>poukisa_ou_voye_li</th>\n",
       "      <th>komant_anket_a</th>\n",
       "      <th>calcul_age</th>\n",
       "      <th>paran</th>\n",
       "      <th>NN</th>\n",
       "      <th>debut</th>\n",
       "      <th>N2</th>\n",
       "      <th>pre</th>\n",
       "      <th>debutpre</th>\n",
       "      <th>pre2</th>\n",
       "      <th>kkk</th>\n",
       "      <th>premyelet</th>\n",
       "      <th>agetodate</th>\n",
       "      <th>DD</th>\n",
       "      <th>randomID</th>\n",
       "      <th>codepaticipan</th>\n",
       "      <th>b5</th>\n",
       "      <th>qa6</th>\n",
       "      <th>P1a6</th>\n",
       "      <th>pc6</th>\n",
       "      <th>c6b0</th>\n",
       "      <th>c6b</th>\n",
       "      <th>c6b1919</th>\n",
       "      <th>pc6b1919</th>\n",
       "      <th>pc61</th>\n",
       "      <th>aa7</th>\n",
       "      <th>a7</th>\n",
       "      <th>aaa7</th>\n",
       "      <th>pa71517</th>\n",
       "      <th>aaaa7</th>\n",
       "      <th>pa71819</th>\n",
       "      <th>a7_1</th>\n",
       "      <th>b7</th>\n",
       "      <th>pb71517</th>\n",
       "      <th>pb71819</th>\n",
       "      <th>a8</th>\n",
       "      <th>b8</th>\n",
       "      <th>a9</th>\n",
       "      <th>bb9</th>\n",
       "      <th>b9</th>\n",
       "      <th>a10</th>\n",
       "      <th>a11_1</th>\n",
       "      <th>aaa11_2_1</th>\n",
       "      <th>aa11_2_1</th>\n",
       "      <th>a11_2_1</th>\n",
       "      <th>a12</th>\n",
       "      <th>b12</th>\n",
       "      <th>a13</th>\n",
       "      <th>a14</th>\n",
       "      <th>pb15</th>\n",
       "      <th>pa16</th>\n",
       "      <th>pa17</th>\n",
       "      <th>pb18</th>\n",
       "      <th>pb181</th>\n",
       "      <th>ppb181_17</th>\n",
       "      <th>pb181_19</th>\n",
       "      <th>point</th>\n",
       "      <th>pb182</th>\n",
       "      <th>pa20</th>\n",
       "      <th>pa21</th>\n",
       "      <th>aaa22</th>\n",
       "      <th>a22</th>\n",
       "      <th>pa23</th>\n",
       "      <th>pa25</th>\n",
       "      <th>total</th>\n",
       "      <th>completed_time</th>\n",
       "      <th>started_time</th>\n",
       "      <th>username</th>\n",
       "      <th>received_on</th>\n",
       "      <th>form_link</th>\n",
       "      <th>case_id</th>\n",
       "      <th>gen_moun_kap_asiste_moun_yap_poze_kesyon_an</th>\n",
       "      <th>a_nan_kat_denye_semen_yo_ou_konn_domi_grangou</th>\n",
       "      <th>a71_laj_ou_te_genyen_lew_te_marye_ou_plase</th>\n",
       "      <th>a9_ou_gen_lot_kote_ou_pa_santi_ou_ansekirite</th>\n",
       "      <th>b9_list_kote_ou_pa_an_sekirite</th>\n",
       "      <th>a1121_aktivite_pouw_rantre_kob_ou_vle_fe</th>\n",
       "      <th>a15_kiyes_ki_pi_gwo_a_patn_seksyel_avant_e_kunyea</th>\n",
       "      <th>a17</th>\n",
       "      <th>b18_ske_ou_ansent</th>\n",
       "      <th>b19_sa_deranjew_siw_pataje_rezilta</th>\n",
       "      <th>c19_ou_enskri_nan_swen_asistans_vih</th>\n",
       "      <th>c19_replacement_eske_w_ta_renmen_nou_fasilite_w_fe_tes_sida</th>\n",
       "      <th>a20_swiv_tretman_pou_lot_ist</th>\n",
       "      <th>ou_konn_enkonsyan_apre_alcohol_ou_dwog</th>\n",
       "      <th>ou_konnen_sant_pou_planin</th>\n",
       "      <th>ou_konnen_kote_pou_sevis_sante_tretman_mal</th>\n",
       "      <th>tifi_a_nan_nivo_ti_ris_ou_wel_elijib</th>\n",
       "      <th>timeEnd</th>\n",
       "      <th>timeStart</th>\n",
       "      <th>agent_username</th>\n",
       "      <th>created_ad</th>\n",
       "      <th>organisation</th>\n",
       "      <th>age_range</th>\n",
       "      <th>newage_range</th>\n",
       "      <th>date_entevyou</th>\n",
       "      <th>fiscal_year</th>\n",
       "      <th>timeOn_system</th>\n",
       "      <th>months_now_dateEntevyou</th>\n",
       "      <th>agyw_period_range</th>\n",
       "      <th>curriculum_servis_auMoins_1fois</th>\n",
       "      <th>curriculum</th>\n",
       "      <th>curriculum_date_debut</th>\n",
       "      <th>curriculum_date_end</th>\n",
       "      <th>curriculum_date_debut_fy</th>\n",
       "      <th>curriculum_date_end_fy</th>\n",
       "      <th>hts_date</th>\n",
       "      <th>condoms_date</th>\n",
       "      <th>vbg_date</th>\n",
       "      <th>gyneco_date</th>\n",
       "      <th>hts</th>\n",
       "      <th>condoms</th>\n",
       "      <th>vbg</th>\n",
       "      <th>gyneco</th>\n",
       "      <th>hts_fy</th>\n",
       "      <th>condoms_fy</th>\n",
       "      <th>vbg_fy</th>\n",
       "      <th>gyneco_fy</th>\n",
       "      <th>post_care_treatment</th>\n",
       "      <th>socio_eco_app</th>\n",
       "      <th>recevoir_1services</th>\n",
       "      <th>ps_10_14</th>\n",
       "      <th>ps_15_19</th>\n",
       "      <th>ps_20_24</th>\n",
       "      <th>score_eligible_AGYW</th>\n",
       "      <th>dreams_curriculum</th>\n",
       "    </tr>\n",
       "  </thead>\n",
       "  <tbody>\n",
       "    <tr>\n",
       "      <th>0</th>\n",
       "      <td>0</td>\n",
       "      <td>no17</td>\n",
       "      <td>1895</td>\n",
       "      <td>None</td>\n",
       "      <td>None</td>\n",
       "      <td>None</td>\n",
       "      <td>None</td>\n",
       "      <td>None</td>\n",
       "      <td>-1000</td>\n",
       "      <td>-1000</td>\n",
       "      <td>0000-00-00</td>\n",
       "      <td>0000-00-00</td>\n",
       "      <td>0000-00-00</td>\n",
       "      <td>None</td>\n",
       "      <td>None</td>\n",
       "      <td>0000-00-00</td>\n",
       "      <td>None</td>\n",
       "      <td>None</td>\n",
       "      <td>0000-00-00</td>\n",
       "      <td>0000-00-00</td>\n",
       "      <td>None</td>\n",
       "      <td>None</td>\n",
       "      <td>None</td>\n",
       "      <td>None</td>\n",
       "      <td>Charlemagne 11</td>\n",
       "      <td>Ecole Nationale Charlemagne Peralte/Verrettes</td>\n",
       "      <td>Verrettes</td>\n",
       "      <td>15</td>\n",
       "      <td>Artibonite</td>\n",
       "      <td>4</td>\n",
       "      <td>no</td>\n",
       "      <td>no</td>\n",
       "      <td>NaN</td>\n",
       "      <td>NaN</td>\n",
       "      <td>NaN</td>\n",
       "      <td>NaN</td>\n",
       "      <td>NaN</td>\n",
       "      <td>NaN</td>\n",
       "      <td>NaN</td>\n",
       "      <td>NaN</td>\n",
       "      <td>NaN</td>\n",
       "      <td>NaN</td>\n",
       "      <td>NaN</td>\n",
       "      <td>NaN</td>\n",
       "      <td>NaN</td>\n",
       "      <td>NaN</td>\n",
       "      <td>NaN</td>\n",
       "      <td>NaN</td>\n",
       "      <td>NaN</td>\n",
       "      <td>NaN</td>\n",
       "      <td>NaN</td>\n",
       "      <td>NaN</td>\n",
       "      <td>NaT</td>\n",
       "      <td>None</td>\n",
       "      <td>NaN</td>\n",
       "      <td>NaN</td>\n",
       "      <td>77516</td>\n",
       "      <td>NaN</td>\n",
       "      <td>282cdbc3-781f-465e-a13b-33c2c133b173</td>\n",
       "      <td>La mise Morantis</td>\n",
       "      <td>1600298364261.jpg</td>\n",
       "      <td>2020-07-09</td>\n",
       "      <td>Rosena</td>\n",
       "      <td>St Fleurent</td>\n",
       "      <td>mentor</td>\n",
       "      <td>None</td>\n",
       "      <td>Centre rêve Charlemagne peralte</td>\n",
       "      <td>Metayou</td>\n",
       "      <td>Dorsainvil</td>\n",
       "      <td>2003-12-25</td>\n",
       "      <td>16</td>\n",
       "      <td>Calvaire</td>\n",
       "      <td>32872507</td>\n",
       "      <td>verrettes</td>\n",
       "      <td></td>\n",
       "      <td>0</td>\n",
       "      <td></td>\n",
       "      <td></td>\n",
       "      <td></td>\n",
       "      <td>non</td>\n",
       "      <td>None</td>\n",
       "      <td>NaN</td>\n",
       "      <td>NaN</td>\n",
       "      <td>3.0</td>\n",
       "      <td>None</td>\n",
       "      <td></td>\n",
       "      <td>None</td>\n",
       "      <td>None</td>\n",
       "      <td>None</td>\n",
       "      <td>None</td>\n",
       "      <td>None</td>\n",
       "      <td>None</td>\n",
       "      <td>None</td>\n",
       "      <td></td>\n",
       "      <td></td>\n",
       "      <td>af7</td>\n",
       "      <td>None</td>\n",
       "      <td>None</td>\n",
       "      <td>None</td>\n",
       "      <td>None</td>\n",
       "      <td>None</td>\n",
       "      <td>None</td>\n",
       "      <td>1</td>\n",
       "      <td></td>\n",
       "      <td>None</td>\n",
       "      <td>None</td>\n",
       "      <td>None</td>\n",
       "      <td>None</td>\n",
       "      <td>None</td>\n",
       "      <td>None</td>\n",
       "      <td>None</td>\n",
       "      <td>None</td>\n",
       "      <td>None</td>\n",
       "      <td>None</td>\n",
       "      <td>None</td>\n",
       "      <td>None</td>\n",
       "      <td>None</td>\n",
       "      <td>None</td>\n",
       "      <td>None</td>\n",
       "      <td>None</td>\n",
       "      <td>None</td>\n",
       "      <td>None</td>\n",
       "      <td>None</td>\n",
       "      <td>2</td>\n",
       "      <td>None</td>\n",
       "      <td>0</td>\n",
       "      <td></td>\n",
       "      <td>None</td>\n",
       "      <td>None</td>\n",
       "      <td>1</td>\n",
       "      <td>None</td>\n",
       "      <td>None</td>\n",
       "      <td></td>\n",
       "      <td>None</td>\n",
       "      <td>None</td>\n",
       "      <td>None</td>\n",
       "      <td>None</td>\n",
       "      <td>15.0</td>\n",
       "      <td>wi</td>\n",
       "      <td>4.0</td>\n",
       "      <td></td>\n",
       "      <td></td>\n",
       "      <td>0</td>\n",
       "      <td>3</td>\n",
       "      <td>None</td>\n",
       "      <td>None</td>\n",
       "      <td>None</td>\n",
       "      <td>None</td>\n",
       "      <td>None</td>\n",
       "      <td>None</td>\n",
       "      <td>None</td>\n",
       "      <td>wi</td>\n",
       "      <td>oui</td>\n",
       "      <td>None</td>\n",
       "      <td>2</td>\n",
       "      <td>non</td>\n",
       "      <td>None</td>\n",
       "      <td>None</td>\n",
       "      <td>Ris Imedia</td>\n",
       "      <td>None</td>\n",
       "      <td>Ris Mwayen</td>\n",
       "      <td>None</td>\n",
       "      <td>wi</td>\n",
       "      <td>wi</td>\n",
       "      <td>None</td>\n",
       "      <td></td>\n",
       "      <td>16.0</td>\n",
       "      <td>0</td>\n",
       "      <td>Metayou</td>\n",
       "      <td>5</td>\n",
       "      <td>ou</td>\n",
       "      <td>Dorsainvil</td>\n",
       "      <td>8</td>\n",
       "      <td>il</td>\n",
       "      <td>verrettes</td>\n",
       "      <td>ver</td>\n",
       "      <td>1970-01-17</td>\n",
       "      <td>2503</td>\n",
       "      <td>XIR3</td>\n",
       "      <td>ouil/ver/2503/XIR3</td>\n",
       "      <td>0</td>\n",
       "      <td>0</td>\n",
       "      <td>3</td>\n",
       "      <td>0</td>\n",
       "      <td>0</td>\n",
       "      <td>0</td>\n",
       "      <td>0</td>\n",
       "      <td>0</td>\n",
       "      <td>0</td>\n",
       "      <td>0</td>\n",
       "      <td>0</td>\n",
       "      <td>0</td>\n",
       "      <td>1</td>\n",
       "      <td>0</td>\n",
       "      <td>0</td>\n",
       "      <td>0</td>\n",
       "      <td>0</td>\n",
       "      <td>0</td>\n",
       "      <td>0</td>\n",
       "      <td>2</td>\n",
       "      <td>0</td>\n",
       "      <td>0</td>\n",
       "      <td>0.0</td>\n",
       "      <td>0</td>\n",
       "      <td>1</td>\n",
       "      <td>0</td>\n",
       "      <td>0</td>\n",
       "      <td>0</td>\n",
       "      <td>0</td>\n",
       "      <td>4</td>\n",
       "      <td>0</td>\n",
       "      <td>0</td>\n",
       "      <td>0</td>\n",
       "      <td>3</td>\n",
       "      <td>2</td>\n",
       "      <td>4</td>\n",
       "      <td>0</td>\n",
       "      <td>0</td>\n",
       "      <td>0</td>\n",
       "      <td>0</td>\n",
       "      <td>0</td>\n",
       "      <td>0</td>\n",
       "      <td>3</td>\n",
       "      <td>0</td>\n",
       "      <td>2</td>\n",
       "      <td>0</td>\n",
       "      <td>0</td>\n",
       "      <td>5</td>\n",
       "      <td>30</td>\n",
       "      <td>None</td>\n",
       "      <td>None</td>\n",
       "      <td>2yonie</td>\n",
       "      <td>2020-09-28 19:01:57.255</td>\n",
       "      <td>None</td>\n",
       "      <td>fe6ffeb2-619d-4c32-b67e-c52b0a3c5dcf</td>\n",
       "      <td>non</td>\n",
       "      <td></td>\n",
       "      <td>None</td>\n",
       "      <td>0.0</td>\n",
       "      <td>None</td>\n",
       "      <td>None</td>\n",
       "      <td>2</td>\n",
       "      <td>4</td>\n",
       "      <td>0</td>\n",
       "      <td>gen_viris_sida_a</td>\n",
       "      <td>non</td>\n",
       "      <td>wi</td>\n",
       "      <td>3</td>\n",
       "      <td>5</td>\n",
       "      <td>wi</td>\n",
       "      <td>wi</td>\n",
       "      <td>None</td>\n",
       "      <td>2020-09-17 03:51:57</td>\n",
       "      <td>2020-09-17 01:18:04</td>\n",
       "      <td>2yonie</td>\n",
       "      <td>2020-09-28 12:01:58</td>\n",
       "      <td>CARIS</td>\n",
       "      <td>not_valid_age</td>\n",
       "      <td>not_valid_age</td>\n",
       "      <td>2020-07-09</td>\n",
       "      <td>Q3fy20-Q4fy20</td>\n",
       "      <td>required_Time_on</td>\n",
       "      <td>12</td>\n",
       "      <td>7-12 months</td>\n",
       "      <td>zero_services_curriculum</td>\n",
       "      <td>non-recu</td>\n",
       "      <td>NaT</td>\n",
       "      <td>NaT</td>\n",
       "      <td>errata</td>\n",
       "      <td>errata</td>\n",
       "      <td>NaT</td>\n",
       "      <td>NaT</td>\n",
       "      <td>NaT</td>\n",
       "      <td>NaT</td>\n",
       "      <td>errata</td>\n",
       "      <td>errata</td>\n",
       "      <td>errata</td>\n",
       "      <td>errata</td>\n",
       "      <td>errata</td>\n",
       "      <td>errata</td>\n",
       "      <td>errata</td>\n",
       "      <td>errata</td>\n",
       "      <td>no</td>\n",
       "      <td>no</td>\n",
       "      <td>no</td>\n",
       "      <td>no</td>\n",
       "      <td>no</td>\n",
       "      <td>no</td>\n",
       "      <td>eligible</td>\n",
       "      <td>curriculum_inc</td>\n",
       "    </tr>\n",
       "  </tbody>\n",
       "</table>\n",
       "</div>"
      ]
     },
     "metadata": {},
     "execution_count": 4
    }
   ],
   "metadata": {}
  },
  {
   "cell_type": "code",
   "execution_count": 5,
   "source": [
    "#cohort_Q3fy20_fy21 =  df[(df.age_range != \"not_valid_age\")\r\n",
    "#   &(df.age_range!=\"25-29\")\r\n",
    "#   &(df.timeOn_system==\"required_Time_on\")  \r\n",
    "#  ]\r\n",
    "\r\n",
    "total_cohort_Q3fy20_fy21 =  df[(df.age_range != \"not_valid_age\")\r\n",
    "   &(df.age_range!=\"25-29\")\r\n",
    "   &(df.timeOn_system==\"required_Time_on\")  \r\n",
    "  ].code.count()\r\n",
    "\r\n",
    "cohort_q3q4_total =  df[(df.age_range != \"not_valid_age\")\r\n",
    "   &(df.age_range!=\"25-29\")\r\n",
    "   &(df.timeOn_system==\"required_Time_on\")\r\n",
    "   &(df.fiscal_year == \"Q3fy20-Q4fy20\")\r\n",
    "  ].code.count()\r\n",
    "\r\n",
    "cohort_q1_total =  df[(df.age_range != \"not_valid_age\")\r\n",
    "   &(df.age_range!=\"25-29\")\r\n",
    "   &(df.timeOn_system==\"required_Time_on\")\r\n",
    "   &(df.fiscal_year == \"FY21Q1\")\r\n",
    "  ].code.count()\r\n",
    "\r\n",
    "cohort_q2_total =  df[(df.age_range != \"not_valid_age\")\r\n",
    "   &(df.age_range!=\"25-29\")\r\n",
    "   &(df.timeOn_system==\"required_Time_on\")\r\n",
    "   &(df.fiscal_year == \"FY21Q2\")\r\n",
    "  ].code.count()\r\n",
    "\r\n",
    "cohort_q3_total =  df[(df.age_range != \"not_valid_age\")\r\n",
    "   &(df.age_range!=\"25-29\")\r\n",
    "   &(df.timeOn_system==\"required_Time_on\")\r\n",
    "   &(df.fiscal_year == \"FY21Q3\")\r\n",
    "  ].code.count()\r\n",
    "\r\n",
    "cohort_q4_total =  df[(df.age_range != \"not_valid_age\")\r\n",
    "   &(df.age_range!=\"25-29\")\r\n",
    "   &(df.timeOn_system==\"required_Time_on\")\r\n",
    "   &(df.fiscal_year == \"FY21Q4\")\r\n",
    "  ].code.count()\r\n",
    "\r\n",
    "df.code.count()\r\n",
    "total_cohort_Q3fy20_fy21\r\n",
    "cohort_q3q4_total\r\n",
    "cohort_q1_total\r\n",
    "cohort_q2_total\r\n",
    "cohort_q3_total\r\n",
    "cohort_q4_total\r\n"
   ],
   "outputs": [
    {
     "output_type": "execute_result",
     "data": {
      "text/plain": [
       "26096"
      ]
     },
     "metadata": {},
     "execution_count": 5
    },
    {
     "output_type": "execute_result",
     "data": {
      "text/plain": [
       "17203"
      ]
     },
     "metadata": {},
     "execution_count": 5
    },
    {
     "output_type": "execute_result",
     "data": {
      "text/plain": [
       "12776"
      ]
     },
     "metadata": {},
     "execution_count": 5
    },
    {
     "output_type": "execute_result",
     "data": {
      "text/plain": [
       "2218"
      ]
     },
     "metadata": {},
     "execution_count": 5
    },
    {
     "output_type": "execute_result",
     "data": {
      "text/plain": [
       "1585"
      ]
     },
     "metadata": {},
     "execution_count": 5
    },
    {
     "output_type": "execute_result",
     "data": {
      "text/plain": [
       "481"
      ]
     },
     "metadata": {},
     "execution_count": 5
    },
    {
     "output_type": "execute_result",
     "data": {
      "text/plain": [
       "143"
      ]
     },
     "metadata": {},
     "execution_count": 5
    }
   ],
   "metadata": {}
  },
  {
   "cell_type": "code",
   "execution_count": 6,
   "source": [
    "cohort_data = pd.DataFrame({\"fiscal\":df.fiscal_year.unique().tolist(),\r\n",
    "                            \"data\":[cohort_q3q4_total,\r\n",
    "                                    cohort_q1_total,\r\n",
    "                                    cohort_q2_total,\r\n",
    "                                    cohort_q3_total,\r\n",
    "                                    cohort_q4_total]    \r\n",
    "                        })"
   ],
   "outputs": [],
   "metadata": {}
  },
  {
   "cell_type": "code",
   "execution_count": 7,
   "source": [
    "plt.figure(figsize=(16,8))\r\n",
    "sns.set_style(\"darkgrid\")\r\n",
    "splot = sns.barplot(x=\"data\",y=\"fiscal\",data=cohort_data)\r\n",
    "splot.set_xlabel(\"\")\r\n",
    "splot.set_ylabel(\"\")\r\n",
    "plt.suptitle(\"AGYW, enrolled since 1 april 2020\")\r\n",
    "for p in splot.patches:\r\n",
    "    width = p.get_width()\r\n",
    "    plt.text(2+p.get_width(), p.get_y()+0.50*p.get_height(),\r\n",
    "             '{:1.0f}'.format(width), fontdict=dict(color=\"red\",fontsize=12))\r\n",
    "    \r\n",
    "plt.annotate(\r\n",
    "    \"source: HIVHaiti\",(0,0), (-80,-20), fontsize=10, \r\n",
    "             xycoords='axes fraction', textcoords='offset points', va='top'\r\n",
    ")\r\n",
    "\r\n",
    "plt.savefig(\"cohort_evolution\",dpi=400)"
   ],
   "outputs": [
    {
     "output_type": "execute_result",
     "data": {
      "text/plain": [
       "<Figure size 1152x576 with 0 Axes>"
      ]
     },
     "metadata": {},
     "execution_count": 7
    },
    {
     "output_type": "execute_result",
     "data": {
      "text/plain": [
       "Text(0.5, 0, '')"
      ]
     },
     "metadata": {},
     "execution_count": 7
    },
    {
     "output_type": "execute_result",
     "data": {
      "text/plain": [
       "Text(0, 0.5, '')"
      ]
     },
     "metadata": {},
     "execution_count": 7
    },
    {
     "output_type": "execute_result",
     "data": {
      "text/plain": [
       "Text(0.5, 0.98, 'AGYW, enrolled since 1 april 2020')"
      ]
     },
     "metadata": {},
     "execution_count": 7
    },
    {
     "output_type": "execute_result",
     "data": {
      "text/plain": [
       "Text(12778.0, 0.0, '12776')"
      ]
     },
     "metadata": {},
     "execution_count": 7
    },
    {
     "output_type": "execute_result",
     "data": {
      "text/plain": [
       "Text(2220.0, 1.0, '2218')"
      ]
     },
     "metadata": {},
     "execution_count": 7
    },
    {
     "output_type": "execute_result",
     "data": {
      "text/plain": [
       "Text(1587.0, 2.0, '1585')"
      ]
     },
     "metadata": {},
     "execution_count": 7
    },
    {
     "output_type": "execute_result",
     "data": {
      "text/plain": [
       "Text(483.0, 3.0, '481')"
      ]
     },
     "metadata": {},
     "execution_count": 7
    },
    {
     "output_type": "execute_result",
     "data": {
      "text/plain": [
       "Text(145.0, 4.0, '143')"
      ]
     },
     "metadata": {},
     "execution_count": 7
    },
    {
     "output_type": "execute_result",
     "data": {
      "text/plain": [
       "Text(-80, -20, 'source: HIVHaiti')"
      ]
     },
     "metadata": {},
     "execution_count": 7
    },
    {
     "output_type": "display_data",
     "data": {
      "text/plain": [
       "<Figure size 1152x576 with 1 Axes>"
      ],
      "image/png": "[encoded data removed]"
     },
     "metadata": {
      "needs_background": "light"
     }
    }
   ],
   "metadata": {}
  },
  {
   "cell_type": "markdown",
   "source": [
    "## Curriculum State"
   ],
   "metadata": {}
  },
  {
   "cell_type": "code",
   "execution_count": 8,
   "source": [
    "total_curriculum_completed = df[(df.age_range != \"not_valid_age\")\r\n",
    "   &(df.age_range!=\"25-29\")\r\n",
    "   &(df.timeOn_system==\"required_Time_on\")\r\n",
    "   &(df.dreams_curriculum==\"curriculum_completed\")   \r\n",
    "  ].code.count()\r\n",
    "\r\n",
    "total_curriculum_incomplet = df[(df.age_range != \"not_valid_age\")\r\n",
    "   &(df.age_range!=\"25-29\")\r\n",
    "   &(df.timeOn_system==\"required_Time_on\")\r\n",
    "   &(df.curriculum==\"curriculum incomplet\")   \r\n",
    "  ].code.count()\r\n",
    "\r\n",
    "total_curriculum_non_recu = df[(df.age_range != \"not_valid_age\")\r\n",
    "   &(df.age_range!=\"25-29\")\r\n",
    "   &(df.timeOn_system==\"required_Time_on\")\r\n",
    "   &(df.curriculum==\"non-recu\")   \r\n",
    "  ].code.count()\r\n",
    "\r\n",
    "# df[(df.age_range != \"not_valid_age\")\r\n",
    "#   &(df.age_range!=\"25-29\")\r\n",
    "#   &(df.timeOn_system==\"required_Time_on\")\r\n",
    "#   &(df.dreams_curriculum==\"curriculum_inc\")   \r\n",
    "#  ].code.count()\r\n",
    "\r\n",
    "total_curriculum_completed\r\n",
    "total_curriculum_incomplet\r\n",
    "total_curriculum_non_recu\r\n"
   ],
   "outputs": [
    {
     "output_type": "execute_result",
     "data": {
      "text/plain": [
       "14103"
      ]
     },
     "metadata": {},
     "execution_count": 8
    },
    {
     "output_type": "execute_result",
     "data": {
      "text/plain": [
       "1918"
      ]
     },
     "metadata": {},
     "execution_count": 8
    },
    {
     "output_type": "execute_result",
     "data": {
      "text/plain": [
       "1182"
      ]
     },
     "metadata": {},
     "execution_count": 8
    }
   ],
   "metadata": {}
  },
  {
   "cell_type": "code",
   "execution_count": 9,
   "source": [
    "curriculum_data = pd.DataFrame({\r\n",
    "    \"state\":[\"Curriculum Completed\",\r\n",
    "                \"Curriculum incomplet\",\r\n",
    "                \"curriculum non recu\"\r\n",
    "            ],\r\n",
    "    \"data\": [\r\n",
    "        total_curriculum_completed,\r\n",
    "        total_curriculum_incomplet,\r\n",
    "        total_curriculum_non_recu\r\n",
    "    ]    \r\n",
    "})"
   ],
   "outputs": [],
   "metadata": {}
  },
  {
   "cell_type": "code",
   "execution_count": 10,
   "source": [
    "plt.subplots(figsize=(16,8))\r\n",
    "sns.set_style(\"darkgrid\")\r\n",
    "splot = sns.barplot(x=\"state\",y=\"data\",data=curriculum_data)\r\n",
    "splot.set_xlabel(\"\")\r\n",
    "splot.set_ylabel(\"\")\r\n",
    "plt.suptitle(\"AGYW  and their curriculum services status\")\r\n",
    "for p in splot.patches:\r\n",
    "    height = p.get_height()\r\n",
    "    plt.text(\r\n",
    "                    p.get_x() + p.get_width()/2, \r\n",
    "                    0.5*p.get_height() + p.get_y(),\r\n",
    "                    '{:1.0f}'.format(height), \r\n",
    "                    ha='center', va='center',\r\n",
    "                    size=15,\r\n",
    "                    fontdict=dict(color=\"white\",fontsize=15)\r\n",
    "                )\r\n",
    "    \r\n",
    "plt.annotate(\r\n",
    "    \"source: HIVHaiti\",(0,0), (-80,-20), fontsize=10, \r\n",
    "             xycoords='axes fraction', textcoords='offset points', va='top'\r\n",
    ")\r\n",
    "plt.savefig(\"Evolution_curriculum\",dpi=400)"
   ],
   "outputs": [
    {
     "output_type": "execute_result",
     "data": {
      "text/plain": [
       "(<Figure size 1152x576 with 1 Axes>, <AxesSubplot:>)"
      ]
     },
     "metadata": {},
     "execution_count": 10
    },
    {
     "output_type": "execute_result",
     "data": {
      "text/plain": [
       "Text(0.5, 0, '')"
      ]
     },
     "metadata": {},
     "execution_count": 10
    },
    {
     "output_type": "execute_result",
     "data": {
      "text/plain": [
       "Text(0, 0.5, '')"
      ]
     },
     "metadata": {},
     "execution_count": 10
    },
    {
     "output_type": "execute_result",
     "data": {
      "text/plain": [
       "Text(0.5, 0.98, 'AGYW  and their curriculum services status')"
      ]
     },
     "metadata": {},
     "execution_count": 10
    },
    {
     "output_type": "execute_result",
     "data": {
      "text/plain": [
       "Text(0.0, 7051.5, '14103')"
      ]
     },
     "metadata": {},
     "execution_count": 10
    },
    {
     "output_type": "execute_result",
     "data": {
      "text/plain": [
       "Text(1.0, 959.0, '1918')"
      ]
     },
     "metadata": {},
     "execution_count": 10
    },
    {
     "output_type": "execute_result",
     "data": {
      "text/plain": [
       "Text(2.0, 591.0, '1182')"
      ]
     },
     "metadata": {},
     "execution_count": 10
    },
    {
     "output_type": "execute_result",
     "data": {
      "text/plain": [
       "Text(-80, -20, 'source: HIVHaiti')"
      ]
     },
     "metadata": {},
     "execution_count": 10
    },
    {
     "output_type": "display_data",
     "data": {
      "text/plain": [
       "<Figure size 1152x576 with 1 Axes>"
      ],
      "image/png": "[encoded data removed]"
     },
     "metadata": {}
    }
   ],
   "metadata": {}
  },
  {
   "cell_type": "markdown",
   "source": [
    "## Condoms"
   ],
   "metadata": {}
  },
  {
   "cell_type": "code",
   "execution_count": 11,
   "source": [
    "total_condoms = df[(df.age_range != \"not_valid_age\")\r\n",
    "   &(df.age_range!=\"25-29\")\r\n",
    "   &(df.timeOn_system==\"required_Time_on\")\r\n",
    "   &(df.condoms==\"tested_on_given_date\")   \r\n",
    "  ].code.count()\r\n",
    "\r\n",
    "total_condoms_non_recu_15_24 = df[(df.age_range != \"not_valid_age\")\r\n",
    "   &(df.age_range!=\"25-29\")\r\n",
    "   &(df.age_range!=\"10-14\")\r\n",
    "   &(df.timeOn_system==\"required_Time_on\")\r\n",
    "   &(df.condoms==\"errata\")   \r\n",
    "  ].code.count()\r\n",
    "\r\n",
    "total_condoms_non_recu = df[(df.age_range != \"not_valid_age\")\r\n",
    "   &(df.age_range!=\"25-29\")\r\n",
    "   &(df.timeOn_system==\"required_Time_on\")\r\n",
    "   &(df.condoms==\"errata\")   \r\n",
    "  ].code.count()\r\n",
    "\r\n",
    "\r\n",
    "total_condoms\r\n",
    "total_condoms_non_recu_15_24\r\n",
    "total_condoms_non_recu"
   ],
   "outputs": [
    {
     "output_type": "execute_result",
     "data": {
      "text/plain": [
       "2598"
      ]
     },
     "metadata": {},
     "execution_count": 11
    },
    {
     "output_type": "execute_result",
     "data": {
      "text/plain": [
       "8078"
      ]
     },
     "metadata": {},
     "execution_count": 11
    },
    {
     "output_type": "execute_result",
     "data": {
      "text/plain": [
       "14605"
      ]
     },
     "metadata": {},
     "execution_count": 11
    }
   ],
   "metadata": {}
  },
  {
   "cell_type": "code",
   "execution_count": 12,
   "source": [
    "condom_data = pd.DataFrame({\"state\":[\r\n",
    "                                    \"condom non recu pour les 15-24ans\",\r\n",
    "                                    \"condom non recu\",\r\n",
    "                                    \"condom recu\"\r\n",
    "                                 ],\r\n",
    "                            \"data\": [\r\n",
    "                               total_condoms_non_recu_15_24,\r\n",
    "                               total_condoms_non_recu,\r\n",
    "                               total_condoms\r\n",
    "                            ]\r\n",
    "})"
   ],
   "outputs": [],
   "metadata": {}
  },
  {
   "cell_type": "code",
   "execution_count": 13,
   "source": [
    "plt.subplots(figsize=(16,8))\r\n",
    "sns.set_style(\"darkgrid\")\r\n",
    "splot = sns.barplot(x=\"state\",y=\"data\",data=condom_data)\r\n",
    "splot.set_xlabel(\"\")\r\n",
    "splot.set_ylabel(\"\")\r\n",
    "plt.suptitle(\"AGYW  and their curriculum services status\")\r\n",
    "for p in splot.patches:\r\n",
    "    height = p.get_height()\r\n",
    "    plt.text(\r\n",
    "                p.get_x() + p.get_width()/2, \r\n",
    "                0.5*p.get_height() + p.get_y(),\r\n",
    "                '{:1.0f}'.format(height), \r\n",
    "                ha='center', va='center',\r\n",
    "                size=15,\r\n",
    "                fontdict=dict(color=\"white\",fontsize=15)\r\n",
    "            )\r\n",
    "    \r\n",
    "plt.annotate(\r\n",
    "    \"source: HIVHaiti\",(0,0), (-80,-20), fontsize=10, \r\n",
    "             xycoords='axes fraction', textcoords='offset points', va='top'\r\n",
    ")\r\n",
    "plt.savefig(\"Evolution_condom\",dpi=400)"
   ],
   "outputs": [
    {
     "output_type": "execute_result",
     "data": {
      "text/plain": [
       "(<Figure size 1152x576 with 1 Axes>, <AxesSubplot:>)"
      ]
     },
     "metadata": {},
     "execution_count": 13
    },
    {
     "output_type": "execute_result",
     "data": {
      "text/plain": [
       "Text(0.5, 0, '')"
      ]
     },
     "metadata": {},
     "execution_count": 13
    },
    {
     "output_type": "execute_result",
     "data": {
      "text/plain": [
       "Text(0, 0.5, '')"
      ]
     },
     "metadata": {},
     "execution_count": 13
    },
    {
     "output_type": "execute_result",
     "data": {
      "text/plain": [
       "Text(0.5, 0.98, 'AGYW  and their curriculum services status')"
      ]
     },
     "metadata": {},
     "execution_count": 13
    },
    {
     "output_type": "execute_result",
     "data": {
      "text/plain": [
       "Text(0.0, 4039.0, '8078')"
      ]
     },
     "metadata": {},
     "execution_count": 13
    },
    {
     "output_type": "execute_result",
     "data": {
      "text/plain": [
       "Text(1.0, 7302.5, '14605')"
      ]
     },
     "metadata": {},
     "execution_count": 13
    },
    {
     "output_type": "execute_result",
     "data": {
      "text/plain": [
       "Text(2.0, 1299.0, '2598')"
      ]
     },
     "metadata": {},
     "execution_count": 13
    },
    {
     "output_type": "execute_result",
     "data": {
      "text/plain": [
       "Text(-80, -20, 'source: HIVHaiti')"
      ]
     },
     "metadata": {},
     "execution_count": 13
    },
    {
     "output_type": "display_data",
     "data": {
      "text/plain": [
       "<Figure size 1152x576 with 1 Axes>"
      ],
      "image/png": "[encoded data removed]"
     },
     "metadata": {}
    }
   ],
   "metadata": {}
  },
  {
   "cell_type": "markdown",
   "source": [
    "## HTS"
   ],
   "metadata": {}
  },
  {
   "cell_type": "code",
   "execution_count": 14,
   "source": [
    "total_hts = df[(df.age_range != \"not_valid_age\")\r\n",
    "   &(df.age_range!=\"25-29\")\r\n",
    "   &(df.timeOn_system==\"required_Time_on\")\r\n",
    "   &(df.hts==\"tested_on_given_date\")   \r\n",
    "  ].code.count()\r\n",
    "\r\n",
    "total_hts_non_recu_18_24 = df[(df.newage_range != \"not_valid_age\")\r\n",
    "   &(df.newage_range!=\"25-29\")\r\n",
    "   &(df.newage_range!=\"10-17\")\r\n",
    "   &(df.timeOn_system==\"required_Time_on\")\r\n",
    "   &(df.hts==\"errata\")   \r\n",
    "  ].code.count()\r\n",
    "\r\n",
    "total_hts_non_recu = df[(df.age_range != \"not_valid_age\")\r\n",
    "   &(df.age_range!=\"25-29\")\r\n",
    "   &(df.timeOn_system==\"required_Time_on\")\r\n",
    "   &(df.hts==\"errata\")   \r\n",
    "  ].code.count()\r\n",
    "\r\n",
    "total_hts\r\n",
    "total_hts_non_recu_18_24\r\n",
    "total_hts_non_recu"
   ],
   "outputs": [
    {
     "output_type": "execute_result",
     "data": {
      "text/plain": [
       "1478"
      ]
     },
     "metadata": {},
     "execution_count": 14
    },
    {
     "output_type": "execute_result",
     "data": {
      "text/plain": [
       "5113"
      ]
     },
     "metadata": {},
     "execution_count": 14
    },
    {
     "output_type": "execute_result",
     "data": {
      "text/plain": [
       "15725"
      ]
     },
     "metadata": {},
     "execution_count": 14
    }
   ],
   "metadata": {}
  },
  {
   "cell_type": "code",
   "execution_count": 15,
   "source": [
    "hts_data = pd.DataFrame({\"state\":[\r\n",
    "                                    \"hts non recu pour les 18-24ans\",\r\n",
    "                                    \"hts non recu\",\r\n",
    "                                    \"hts recu\"\r\n",
    "                                 ],\r\n",
    "                            \"data\": [\r\n",
    "                               total_hts_non_recu_18_24,\r\n",
    "                               total_hts_non_recu,\r\n",
    "                               total_hts\r\n",
    "                            ]\r\n",
    "})"
   ],
   "outputs": [],
   "metadata": {}
  },
  {
   "cell_type": "code",
   "execution_count": 16,
   "source": [
    "plt.subplots(figsize=(16,8))\r\n",
    "sns.set_style(\"darkgrid\")\r\n",
    "splot = sns.barplot(x=\"state\",y=\"data\",data=hts_data)\r\n",
    "splot.set_xlabel(\"\")\r\n",
    "splot.set_ylabel(\"\")\r\n",
    "plt.suptitle(\"AGYW  and their HTS services status\")\r\n",
    "for p in splot.patches:\r\n",
    "    height = p.get_height()\r\n",
    "    plt.text(\r\n",
    "                p.get_x() + p.get_width()/2, \r\n",
    "                0.5*p.get_height() + p.get_y(),\r\n",
    "                '{:1.0f}'.format(height), \r\n",
    "                ha='center', va='center',\r\n",
    "                size=15,\r\n",
    "                fontdict=dict(color=\"white\",fontsize=15)\r\n",
    "            )\r\n",
    "    \r\n",
    "plt.annotate(\r\n",
    "    \"source: HIVHaiti\",(0,0), (-80,-20), fontsize=10, \r\n",
    "             xycoords='axes fraction', textcoords='offset points', va='top'\r\n",
    ")\r\n",
    "plt.savefig(\"Evolution_Test_Depistage_VIH\",dpi=400)"
   ],
   "outputs": [
    {
     "output_type": "execute_result",
     "data": {
      "text/plain": [
       "(<Figure size 1152x576 with 1 Axes>, <AxesSubplot:>)"
      ]
     },
     "metadata": {},
     "execution_count": 16
    },
    {
     "output_type": "execute_result",
     "data": {
      "text/plain": [
       "Text(0.5, 0, '')"
      ]
     },
     "metadata": {},
     "execution_count": 16
    },
    {
     "output_type": "execute_result",
     "data": {
      "text/plain": [
       "Text(0, 0.5, '')"
      ]
     },
     "metadata": {},
     "execution_count": 16
    },
    {
     "output_type": "execute_result",
     "data": {
      "text/plain": [
       "Text(0.5, 0.98, 'AGYW  and their HTS services status')"
      ]
     },
     "metadata": {},
     "execution_count": 16
    },
    {
     "output_type": "execute_result",
     "data": {
      "text/plain": [
       "Text(0.0, 2556.5, '5113')"
      ]
     },
     "metadata": {},
     "execution_count": 16
    },
    {
     "output_type": "execute_result",
     "data": {
      "text/plain": [
       "Text(1.0, 7862.5, '15725')"
      ]
     },
     "metadata": {},
     "execution_count": 16
    },
    {
     "output_type": "execute_result",
     "data": {
      "text/plain": [
       "Text(2.0, 739.0, '1478')"
      ]
     },
     "metadata": {},
     "execution_count": 16
    },
    {
     "output_type": "execute_result",
     "data": {
      "text/plain": [
       "Text(-80, -20, 'source: HIVHaiti')"
      ]
     },
     "metadata": {},
     "execution_count": 16
    },
    {
     "output_type": "display_data",
     "data": {
      "text/plain": [
       "<Figure size 1152x576 with 1 Axes>"
      ],
      "image/png": "[encoded data removed]"
     },
     "metadata": {}
    }
   ],
   "metadata": {}
  },
  {
   "cell_type": "code",
   "execution_count": 17,
   "source": [
    "hts_total = df[(df.age_range != \"not_valid_age\")\r\n",
    "   &(df.age_range!=\"25-29\")\r\n",
    "   &(df.timeOn_system==\"required_Time_on\")\r\n",
    "   &(df.hts==\"tested_on_given_date\")   \r\n",
    "  ].code.count()\r\n",
    "\r\n",
    "hts_10_17 = df[(df.newage_range != \"not_valid_age\")\r\n",
    "   &(df.newage_range!=\"25-29\")\r\n",
    "   &(df.newage_range == \"10-17\")\r\n",
    "   &(df.timeOn_system==\"required_Time_on\")\r\n",
    "   &(df.hts==\"tested_on_given_date\")   \r\n",
    "  ].code.count()\r\n",
    "\r\n",
    "hts_18_24 = df[(df.newage_range != \"not_valid_age\")\r\n",
    "   &(df.newage_range!=\"25-29\")\r\n",
    "   &(df.newage_range!=\"10-17\")\r\n",
    "   &(df.timeOn_system==\"required_Time_on\")\r\n",
    "   &(df.hts==\"tested_on_given_date\")   \r\n",
    "  ].code.count()\r\n",
    "\r\n",
    "\r\n",
    "hts_data_age = pd.DataFrame({\"state\":[\r\n",
    "                                    \"hts recu\",\r\n",
    "                                    \"hts recu pour les 10-17ans\",\r\n",
    "                                    \"hts recu pour les 18-24ans\"\r\n",
    "                                 ],\r\n",
    "                            \"data\": [\r\n",
    "                               hts_total,\r\n",
    "                               hts_10_17,\r\n",
    "                               hts_18_24\r\n",
    "                            ]\r\n",
    "})"
   ],
   "outputs": [],
   "metadata": {}
  },
  {
   "cell_type": "code",
   "execution_count": 18,
   "source": [
    "plt.subplots(figsize=(16,8))\r\n",
    "sns.set_style(\"darkgrid\")\r\n",
    "splot = sns.barplot(x=\"state\",y=\"data\",data=hts_data_age)\r\n",
    "splot.set_xlabel(\"\")\r\n",
    "splot.set_ylabel(\"\")\r\n",
    "plt.suptitle(\"AGYW by age group and their HTS services status\")\r\n",
    "for p in splot.patches:\r\n",
    "    height = p.get_height()\r\n",
    "    plt.text(\r\n",
    "                p.get_x() + p.get_width()/2, \r\n",
    "                0.5*p.get_height() + p.get_y(),\r\n",
    "                '{:1.0f}'.format(height), \r\n",
    "                ha='center', va='center',\r\n",
    "                size=15,\r\n",
    "                fontdict=dict(color=\"white\",fontsize=15)\r\n",
    "            )\r\n",
    "    \r\n",
    "plt.annotate(\r\n",
    "    \"source: HIVHaiti\",(0,0), (-80,-20), fontsize=10, \r\n",
    "             xycoords='axes fraction', textcoords='offset points', va='top'\r\n",
    ")\r\n",
    "plt.savefig(\"Evolution_Test_Depistage_VIH_age\",dpi=400)"
   ],
   "outputs": [
    {
     "output_type": "execute_result",
     "data": {
      "text/plain": [
       "(<Figure size 1152x576 with 1 Axes>, <AxesSubplot:>)"
      ]
     },
     "metadata": {},
     "execution_count": 18
    },
    {
     "output_type": "execute_result",
     "data": {
      "text/plain": [
       "Text(0.5, 0, '')"
      ]
     },
     "metadata": {},
     "execution_count": 18
    },
    {
     "output_type": "execute_result",
     "data": {
      "text/plain": [
       "Text(0, 0.5, '')"
      ]
     },
     "metadata": {},
     "execution_count": 18
    },
    {
     "output_type": "execute_result",
     "data": {
      "text/plain": [
       "Text(0.5, 0.98, 'AGYW by age group and their HTS services status')"
      ]
     },
     "metadata": {},
     "execution_count": 18
    },
    {
     "output_type": "execute_result",
     "data": {
      "text/plain": [
       "Text(0.0, 739.0, '1478')"
      ]
     },
     "metadata": {},
     "execution_count": 18
    },
    {
     "output_type": "execute_result",
     "data": {
      "text/plain": [
       "Text(1.0, 418.5, '837')"
      ]
     },
     "metadata": {},
     "execution_count": 18
    },
    {
     "output_type": "execute_result",
     "data": {
      "text/plain": [
       "Text(2.0, 320.5, '641')"
      ]
     },
     "metadata": {},
     "execution_count": 18
    },
    {
     "output_type": "execute_result",
     "data": {
      "text/plain": [
       "Text(-80, -20, 'source: HIVHaiti')"
      ]
     },
     "metadata": {},
     "execution_count": 18
    },
    {
     "output_type": "display_data",
     "data": {
      "text/plain": [
       "<Figure size 1152x576 with 1 Axes>"
      ],
      "image/png": "[encoded data removed]"
     },
     "metadata": {}
    }
   ],
   "metadata": {}
  },
  {
   "cell_type": "markdown",
   "source": [
    "## Submission list"
   ],
   "metadata": {}
  },
  {
   "cell_type": "code",
   "execution_count": 22,
   "source": [
    "hts_10_17_data = df[(df.newage_range != \"not_valid_age\")\r\n",
    "   &(df.newage_range!=\"25-29\")\r\n",
    "   &(df.newage_range == \"10-17\")\r\n",
    "   &(df.timeOn_system==\"required_Time_on\")\r\n",
    "   &(df.hts==\"tested_on_given_date\")   \r\n",
    "]\r\n",
    "\r\n",
    "hts_18_24_data = df[(df.newage_range != \"not_valid_age\")\r\n",
    "   &(df.newage_range!=\"25-29\")\r\n",
    "   &(df.newage_range!=\"10-17\")\r\n",
    "   &(df.timeOn_system==\"required_Time_on\")\r\n",
    "   &(df.hts==\"tested_on_given_date\")   \r\n",
    "]\r\n",
    "\r\n"
   ],
   "outputs": [
    {
     "output_type": "execute_result",
     "data": {
      "text/plain": [
       "Timestamp('2020-06-01 00:00:00')"
      ]
     },
     "metadata": {},
     "execution_count": 22
    },
    {
     "output_type": "execute_result",
     "data": {
      "text/plain": [
       "Timestamp('2021-07-20 00:00:00')"
      ]
     },
     "metadata": {},
     "execution_count": 22
    }
   ],
   "metadata": {}
  },
  {
   "cell_type": "code",
   "execution_count": 23,
   "source": [
    "hts_18_24_data.hts_date.min().strftime(\"%Y-%m-%d\")\r\n",
    "hts_18_24_data.hts_date.max().strftime(\"%Y-%m-%d\")"
   ],
   "outputs": [
    {
     "output_type": "execute_result",
     "data": {
      "text/plain": [
       "'2020-06-08'"
      ]
     },
     "metadata": {},
     "execution_count": 23
    },
    {
     "output_type": "execute_result",
     "data": {
      "text/plain": [
       "'2021-07-20'"
      ]
     },
     "metadata": {},
     "execution_count": 23
    }
   ],
   "metadata": {}
  },
  {
   "cell_type": "code",
   "execution_count": 24,
   "source": [
    "hts_10_17_data.hts_date.min().strftime(\"%Y-%m-%d\")\r\n",
    "hts_10_17_data.hts_date.max().strftime(\"%Y-%m-%d\")"
   ],
   "outputs": [
    {
     "output_type": "execute_result",
     "data": {
      "text/plain": [
       "'2020-06-01'"
      ]
     },
     "metadata": {},
     "execution_count": 24
    },
    {
     "output_type": "execute_result",
     "data": {
      "text/plain": [
       "'2021-07-21'"
      ]
     },
     "metadata": {},
     "execution_count": 24
    }
   ],
   "metadata": {}
  },
  {
   "cell_type": "code",
   "execution_count": 25,
   "source": [
    "hts_10_17_data.to_excel(\"depistage_vih_1017.xlsx\",index=False,na_rep=\"NULL\")\r\n",
    "hts_18_24_data.to_excel(\"depistage_vih_1824.xlsx\",index=False,na_rep=\"NULL\")"
   ],
   "outputs": [],
   "metadata": {}
  },
  {
   "cell_type": "code",
   "execution_count": null,
   "source": [],
   "outputs": [],
   "metadata": {}
  }
 ],
 "metadata": {
  "interpreter": {
   "hash": "4534460e0bdca1b390927d45471088fb3501d39abc4e3f2cee293892e17d7fc6"
  },
  "kernelspec": {
   "name": "python3",
   "display_name": "Python 3.9.6 64-bit"
  },
  "language_info": {
   "codemirror_mode": {
    "name": "ipython",
    "version": 3
   },
   "file_extension": ".py",
   "mimetype": "text/x-python",
   "name": "python",
   "nbconvert_exporter": "python",
   "pygments_lexer": "ipython3",
   "version": "3.9.6"
  },
  "orig_nbformat": 4
 },
 "nbformat": 4,
 "nbformat_minor": 2
}