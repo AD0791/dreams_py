{
 "cells": [
  {
   "cell_type": "code",
   "execution_count": 2,
   "source": [
    "# %run \"../app/dreams\"\r\n",
    "from sys import path\r\n",
    "path.insert(0,'../app')\r\n",
    "from dreams import dreams_mastersheet\r\n"
   ],
   "outputs": [],
   "metadata": {}
  },
  {
   "cell_type": "code",
   "execution_count": 3,
   "source": [
    "#import os\r\n",
    "#from datetime import datetime\r\n",
    "#from datetime import date\r\n",
    "import pymysql\r\n",
    "from sqlalchemy import create_engine\r\n",
    "from decouple import config \r\n",
    "from dotenv import load_dotenv\r\n",
    "import pandas as pd\r\n",
    "#from numpy import int16\r\n",
    "#from enum import Enum\r\n",
    "\r\n",
    "from IPython.core.interactiveshell import InteractiveShell\r\n",
    "InteractiveShell.ast_node_interactivity = \"all\"\r\n",
    "pd.set_option(\"max_columns\",None)\r\n",
    "\r\n",
    "dreams_mastersheet.to_excel(\"los.xlsx\",index=False,na_rep='NULL')\r\n"
   ],
   "outputs": [],
   "metadata": {}
  },
  {
   "cell_type": "code",
   "execution_count": 4,
   "source": [
    "load_dotenv()\r\n",
    "# get the environment variables needed\r\n",
    "USER= config('USRCaris')\r\n",
    "PASSWORD= config('PASSCaris')\r\n",
    "HOSTNAME= config('HOSTCaris')\r\n",
    "DBNAME= config('DBCaris')\r\n",
    "\r\n",
    "# get the engine to connect and fetch\r\n",
    "engine = create_engine(f\"mysql+pymysql://{USER}:{PASSWORD}@{HOSTNAME}/{DBNAME}\")\r\n",
    "query = f'''\r\n",
    "    SELECT \r\n",
    "    gb.* \r\n",
    "    FROM caris_db.gardening_beneficiary gb \r\n",
    "    where  \r\n",
    "    gb.beneficiary_type ='dreams'\r\n",
    "'''\r\n",
    "\r\n",
    "gbd = pd.read_sql_query(query,engine,parse_dates=True)\r\n",
    "# get the test excel file from Query\r\n",
    "\r\n",
    "# close the pool of connection\r\n",
    "engine.dispose()"
   ],
   "outputs": [
    {
     "output_type": "execute_result",
     "data": {
      "text/plain": [
       "True"
      ]
     },
     "metadata": {},
     "execution_count": 4
    }
   ],
   "metadata": {}
  },
  {
   "cell_type": "code",
   "execution_count": 5,
   "source": [
    "gbd.to_excel(\"data_gardens.xlsx\",index=False,na_rep=\"NULL\")\r\n",
    "df = dreams_mastersheet\r\n",
    "\r\n",
    "cohorte = df[\r\n",
    "    (df.age_range != \"25-29\")&\r\n",
    "    (df.age_range != \"not_valid_age\")&\r\n",
    "    (df.timeOn_system==\"required_Time_on\")\r\n",
    "]\r\n",
    "\r\n",
    "\r\n",
    "jardinage = df[\r\n",
    "    (df.age_range != \"25-29\")&\r\n",
    "    (df.age_range != \"not_valid_age\")&\r\n",
    "    (df.timeOn_system==\"required_Time_on\")&\r\n",
    "    (df.is_gardening==\"yes\")\r\n",
    "]\r\n",
    "\r\n",
    "cohorte.code.count()\r\n",
    "gbd.case_id.count()\r\n",
    "jardinage.code.count()"
   ],
   "outputs": [
    {
     "output_type": "execute_result",
     "data": {
      "text/plain": [
       "19728"
      ]
     },
     "metadata": {},
     "execution_count": 5
    },
    {
     "output_type": "execute_result",
     "data": {
      "text/plain": [
       "1467"
      ]
     },
     "metadata": {},
     "execution_count": 5
    },
    {
     "output_type": "execute_result",
     "data": {
      "text/plain": [
       "478"
      ]
     },
     "metadata": {},
     "execution_count": 5
    }
   ],
   "metadata": {}
  },
  {
   "cell_type": "code",
   "execution_count": 6,
   "source": [
    "jardinage.pivot_table(index=\"age_range\",columns=\"fiscal_year\",\r\n",
    "                        values='code',\r\n",
    "                        aggfunc='count',\r\n",
    "                        fill_value=0,\r\n",
    "                        margins=True,\r\n",
    "                        margins_name=\"Grand Total\"                             \r\n",
    ")\r\n",
    "#lgb_old = pd.read_excel(\"liste_filles_dreams_eligibles_jardinage_24Mai2021.xlsx\")\r\n",
    "#lgb_old.code.count()"
   ],
   "outputs": [
    {
     "output_type": "execute_result",
     "data": {
      "text/html": [
       "<div>\n",
       "<style scoped>\n",
       "    .dataframe tbody tr th:only-of-type {\n",
       "        vertical-align: middle;\n",
       "    }\n",
       "\n",
       "    .dataframe tbody tr th {\n",
       "        vertical-align: top;\n",
       "    }\n",
       "\n",
       "    .dataframe thead th {\n",
       "        text-align: right;\n",
       "    }\n",
       "</style>\n",
       "<table border=\"1\" class=\"dataframe\">\n",
       "  <thead>\n",
       "    <tr style=\"text-align: right;\">\n",
       "      <th>fiscal_year</th>\n",
       "      <th>FY21Q1</th>\n",
       "      <th>FY21Q3</th>\n",
       "      <th>FY21Q4</th>\n",
       "      <th>Q3fy20-Q4fy20</th>\n",
       "      <th>Grand Total</th>\n",
       "    </tr>\n",
       "    <tr>\n",
       "      <th>age_range</th>\n",
       "      <th></th>\n",
       "      <th></th>\n",
       "      <th></th>\n",
       "      <th></th>\n",
       "      <th></th>\n",
       "    </tr>\n",
       "  </thead>\n",
       "  <tbody>\n",
       "    <tr>\n",
       "      <th>10-14</th>\n",
       "      <td>1</td>\n",
       "      <td>0</td>\n",
       "      <td>1</td>\n",
       "      <td>147</td>\n",
       "      <td>149</td>\n",
       "    </tr>\n",
       "    <tr>\n",
       "      <th>15-19</th>\n",
       "      <td>4</td>\n",
       "      <td>1</td>\n",
       "      <td>0</td>\n",
       "      <td>159</td>\n",
       "      <td>164</td>\n",
       "    </tr>\n",
       "    <tr>\n",
       "      <th>20-24</th>\n",
       "      <td>1</td>\n",
       "      <td>0</td>\n",
       "      <td>0</td>\n",
       "      <td>164</td>\n",
       "      <td>165</td>\n",
       "    </tr>\n",
       "    <tr>\n",
       "      <th>Grand Total</th>\n",
       "      <td>6</td>\n",
       "      <td>1</td>\n",
       "      <td>1</td>\n",
       "      <td>470</td>\n",
       "      <td>478</td>\n",
       "    </tr>\n",
       "  </tbody>\n",
       "</table>\n",
       "</div>"
      ],
      "text/plain": [
       "fiscal_year  FY21Q1  FY21Q3  FY21Q4  Q3fy20-Q4fy20  Grand Total\n",
       "age_range                                                      \n",
       "10-14             1       0       1            147          149\n",
       "15-19             4       1       0            159          164\n",
       "20-24             1       0       0            164          165\n",
       "Grand Total       6       1       1            470          478"
      ]
     },
     "metadata": {},
     "execution_count": 6
    }
   ],
   "metadata": {}
  },
  {
   "cell_type": "markdown",
   "source": [
    "# Radicial MOVE"
   ],
   "metadata": {}
  },
  {
   "cell_type": "code",
   "execution_count": 7,
   "source": [
    "garden_served = pd.read_excel(\"./Gardening_AGYW_served_From April 2020.xlsx\",sheet_name=\"Filles_Dreams_From_April_2020\")\r\n",
    "garden_served.code_dreams.fillna(\"NULL\",inplace=True)\r\n",
    "#garden_served.code_dreams = garden_served.code_dreams.str.upper()\r\n",
    "garden_served.code_dreams.count()"
   ],
   "outputs": [
    {
     "output_type": "execute_result",
     "data": {
      "text/plain": [
       "1460"
      ]
     },
     "metadata": {},
     "execution_count": 7
    }
   ],
   "metadata": {}
  },
  {
   "cell_type": "code",
   "execution_count": 8,
   "source": [
    "garden_served[\"validation_code_dreams\"]= garden_served.code_dreams.str.fullmatch(\"^[A-Z]{3}/DRMS/(\\d{9})$\")\r\n",
    "garden_served.rename(columns={'info.owner_name':'username'},inplace=True)\r\n",
    "code_occurence = garden_served.groupby(\"code_dreams\").count()[[\"username\"]]\r\n",
    "code_occurence.reset_index(inplace=True)\r\n",
    "code_occurence.rename(columns={'username':\"code_occurence\"},inplace=True)\r\n",
    "\r\n",
    "\r\n",
    "lookup_garden = pd.read_excel(\"lookup_gardening.xlsx\")\r\n",
    "lookup_garden.rename(columns={'name':'agent_name'},inplace=True)\r\n",
    "\r\n",
    "\r\n",
    "garden_served_complete =  lookup_garden.merge(garden_served,on='username',how='right')\r\n",
    "garden_served_complete = garden_served_complete.merge(code_occurence,on='code_dreams',how=\"right\")"
   ],
   "outputs": [],
   "metadata": {}
  },
  {
   "cell_type": "code",
   "execution_count": 9,
   "source": [
    "#garden_served_complete[\r\n",
    "#    (garden_served_complete.code_occurence!=1)&\r\n",
    "#    (garden_served_complete.code_occurence!=len(garden_served_complete[garden_served_complete.code_dreams == 'NULL'][['username']]))&\r\n",
    "#    (garden_served_complete.code_occurence!=len(garden_served_complete[garden_served_complete.code_dreams == '---'][['username']]))\r\n",
    "#]\r\n",
    "all_duplicated = garden_served_complete[(~garden_served_complete.code_dreams.isin(['---','NULL']))&(garden_served_complete.code_occurence!=1)]\r\n",
    "\r\n",
    "\r\n",
    "code_non_standard = garden_served_complete[(~garden_served_complete.code_dreams.isin(['---','NULL']))&(garden_served_complete.validation_code_dreams == False)]"
   ],
   "outputs": [],
   "metadata": {}
  },
  {
   "cell_type": "code",
   "execution_count": 10,
   "source": [
    "all_report = pd.ExcelWriter(f\"validation_garden.xlsx\",engine=\"xlsxwriter\")\r\n",
    "garden_served_complete.to_excel(all_report,sheet_name=\"table_global\",index=False,na_rep=\"NULL\")\r\n",
    "all_duplicated.to_excel(all_report,sheet_name=\"les_duplications\",index=False,na_rep=\"NULL\")\r\n",
    "code_non_standard.to_excel(all_report,sheet_name=\"codes_non_standards\",index=False,na_rep=\"NULL\")\r\n",
    "all_report.save()"
   ],
   "outputs": [],
   "metadata": {}
  },
  {
   "cell_type": "markdown",
   "source": [
    "## Visual data from excel pivot tables - validation_garden"
   ],
   "metadata": {}
  },
  {
   "cell_type": "code",
   "execution_count": 11,
   "source": [
    "import matplotlib.pyplot as plt \r\n",
    "%matplotlib inline\r\n",
    "import seaborn as sns"
   ],
   "outputs": [],
   "metadata": {}
  },
  {
   "cell_type": "code",
   "execution_count": 12,
   "source": [
    "duplication_plot = pd.DataFrame({\"state\":[\"duplication_total\",\"duplication_code_valid\",\"duplication_code_invalid\"],\r\n",
    "                            \"data\": [64,52,12]                        \r\n",
    "})\r\n",
    "\r\n",
    "plt.subplots(figsize=(16,8))\r\n",
    "sns.set_style(\"darkgrid\")\r\n",
    "sns.set_palette(\"Set1\")\r\n",
    "splot = sns.barplot(x=\"state\",y=\"data\",data=duplication_plot)\r\n",
    "splot.set_xlabel(\"\")\r\n",
    "splot.set_ylabel(\"\")\r\n",
    "plt.suptitle(\"Les duplications observees dans les codes dreams des beneficiaires Jardinages\")\r\n",
    "for p in splot.patches:\r\n",
    "    height = p.get_height()\r\n",
    "    plt.text(\r\n",
    "                p.get_x() + p.get_width()/2, \r\n",
    "                0.5*p.get_height() + p.get_y(),\r\n",
    "                '{:1.0f}'.format(height), \r\n",
    "                ha='center', va='center',\r\n",
    "                size=15,\r\n",
    "                fontdict=dict(color=\"white\",fontsize=15)\r\n",
    "            )\r\n",
    "    \r\n",
    "plt.annotate(\r\n",
    "    \"source: HIVHaiti\",(0,0), (-80,-20), fontsize=10, \r\n",
    "             xycoords='axes fraction', textcoords='offset points', va='top'\r\n",
    ")\r\n",
    "plt.savefig(\"all_garden_duplicate\",dpi=1000)"
   ],
   "outputs": [
    {
     "output_type": "execute_result",
     "data": {
      "text/plain": [
       "(<Figure size 1152x576 with 1 Axes>, <AxesSubplot:>)"
      ]
     },
     "metadata": {},
     "execution_count": 12
    },
    {
     "output_type": "execute_result",
     "data": {
      "text/plain": [
       "Text(0.5, 0, '')"
      ]
     },
     "metadata": {},
     "execution_count": 12
    },
    {
     "output_type": "execute_result",
     "data": {
      "text/plain": [
       "Text(0, 0.5, '')"
      ]
     },
     "metadata": {},
     "execution_count": 12
    },
    {
     "output_type": "execute_result",
     "data": {
      "text/plain": [
       "Text(0.5, 0.98, 'Les duplications observees dans les codes dreams des beneficiaires Jardinages')"
      ]
     },
     "metadata": {},
     "execution_count": 12
    },
    {
     "output_type": "execute_result",
     "data": {
      "text/plain": [
       "Text(0.0, 32.0, '64')"
      ]
     },
     "metadata": {},
     "execution_count": 12
    },
    {
     "output_type": "execute_result",
     "data": {
      "text/plain": [
       "Text(1.0, 26.0, '52')"
      ]
     },
     "metadata": {},
     "execution_count": 12
    },
    {
     "output_type": "execute_result",
     "data": {
      "text/plain": [
       "Text(2.0, 6.0, '12')"
      ]
     },
     "metadata": {},
     "execution_count": 12
    },
    {
     "output_type": "execute_result",
     "data": {
      "text/plain": [
       "Text(-80, -20, 'source: HIVHaiti')"
      ]
     },
     "metadata": {},
     "execution_count": 12
    },
    {
     "output_type": "display_data",
     "data": {
      "image/png": "[encoded data removed]",
      "text/plain": [
       "<Figure size 1152x576 with 1 Axes>"
      ]
     },
     "metadata": {
      "needs_background": "light"
     }
    }
   ],
   "metadata": {}
  },
  {
   "cell_type": "code",
   "execution_count": 13,
   "source": [
    "garden_plot = pd.DataFrame({\"state\":[\"all_total\",\"code_invalid\",\"code_valid\",\"duplications\"],\r\n",
    "                            \"data\": [1460,1051,409,64]                        \r\n",
    "})\r\n",
    "\r\n",
    "plt.subplots(figsize=(16,8))\r\n",
    "sns.set_style(\"darkgrid\")\r\n",
    "sns.set_palette(\"Set1\")\r\n",
    "splot = sns.barplot(x=\"state\",y=\"data\",data=garden_plot)\r\n",
    "splot.set_xlabel(\"\")\r\n",
    "splot.set_ylabel(\"\")\r\n",
    "plt.suptitle(\"La situation global des code dreams pour les beneficiaires Jardinages\")\r\n",
    "for p in splot.patches:\r\n",
    "    height = p.get_height()\r\n",
    "    plt.text(\r\n",
    "                p.get_x() + p.get_width()/2, \r\n",
    "                0.5*p.get_height() + p.get_y(),\r\n",
    "                '{:1.0f}'.format(height), \r\n",
    "                ha='center', va='center',\r\n",
    "                size=15,\r\n",
    "                fontdict=dict(color=\"white\",fontsize=15)\r\n",
    "            )\r\n",
    "    \r\n",
    "plt.annotate(\r\n",
    "    \"source: HIVHaiti\",(0,0), (-80,-20), fontsize=10, \r\n",
    "             xycoords='axes fraction', textcoords='offset points', va='top'\r\n",
    ")\r\n",
    "plt.savefig(\"all_garden\",dpi=1000)"
   ],
   "outputs": [
    {
     "output_type": "execute_result",
     "data": {
      "text/plain": [
       "(<Figure size 1152x576 with 1 Axes>, <AxesSubplot:>)"
      ]
     },
     "metadata": {},
     "execution_count": 13
    },
    {
     "output_type": "execute_result",
     "data": {
      "text/plain": [
       "Text(0.5, 0, '')"
      ]
     },
     "metadata": {},
     "execution_count": 13
    },
    {
     "output_type": "execute_result",
     "data": {
      "text/plain": [
       "Text(0, 0.5, '')"
      ]
     },
     "metadata": {},
     "execution_count": 13
    },
    {
     "output_type": "execute_result",
     "data": {
      "text/plain": [
       "Text(0.5, 0.98, 'La situation global des code dreams pour les beneficiaires Jardinages')"
      ]
     },
     "metadata": {},
     "execution_count": 13
    },
    {
     "output_type": "execute_result",
     "data": {
      "text/plain": [
       "Text(0.0, 730.0, '1460')"
      ]
     },
     "metadata": {},
     "execution_count": 13
    },
    {
     "output_type": "execute_result",
     "data": {
      "text/plain": [
       "Text(1.0, 525.5, '1051')"
      ]
     },
     "metadata": {},
     "execution_count": 13
    },
    {
     "output_type": "execute_result",
     "data": {
      "text/plain": [
       "Text(2.0, 204.5, '409')"
      ]
     },
     "metadata": {},
     "execution_count": 13
    },
    {
     "output_type": "execute_result",
     "data": {
      "text/plain": [
       "Text(3.0, 32.0, '64')"
      ]
     },
     "metadata": {},
     "execution_count": 13
    },
    {
     "output_type": "execute_result",
     "data": {
      "text/plain": [
       "Text(-80, -20, 'source: HIVHaiti')"
      ]
     },
     "metadata": {},
     "execution_count": 13
    },
    {
     "output_type": "display_data",
     "data": {
      "image/png": "[encoded data removed]",
      "text/plain": [
       "<Figure size 1152x576 with 1 Axes>"
      ]
     },
     "metadata": {}
    }
   ],
   "metadata": {}
  },
  {
   "cell_type": "code",
   "execution_count": 14,
   "source": [
    "bad_code_plot = pd.DataFrame({\"state\":[\"Code_invalid\",\"code_avec3_tirets\",\"code_null\",\"code_non_standard\"],\r\n",
    "                            \"data\": [1051,450,429,172]                        \r\n",
    "})\r\n",
    "\r\n",
    "plt.subplots(figsize=(16,8))\r\n",
    "sns.set_style(\"darkgrid\")\r\n",
    "sns.set_palette(\"Set1\")\r\n",
    "splot = sns.barplot(x=\"state\",y=\"data\",data=bad_code_plot)\r\n",
    "splot.set_xlabel(\"\")\r\n",
    "splot.set_ylabel(\"\")\r\n",
    "plt.suptitle(\"La situation des code dreams invalid pour Jardinage\")\r\n",
    "for p in splot.patches:\r\n",
    "    height = p.get_height()\r\n",
    "    plt.text(\r\n",
    "                p.get_x() + p.get_width()/2, \r\n",
    "                0.5*p.get_height() + p.get_y(),\r\n",
    "                '{:1.0f}'.format(height), \r\n",
    "                ha='center', va='center',\r\n",
    "                size=15,\r\n",
    "                fontdict=dict(color=\"white\",fontsize=15)\r\n",
    "            )\r\n",
    "    \r\n",
    "plt.annotate(\r\n",
    "    \"source: HIVHaiti\",(0,0), (-80,-20), fontsize=10, \r\n",
    "             xycoords='axes fraction', textcoords='offset points', va='top'\r\n",
    ")\r\n",
    "plt.savefig(\"garden_invalid\",dpi=1000)"
   ],
   "outputs": [
    {
     "output_type": "execute_result",
     "data": {
      "text/plain": [
       "(<Figure size 1152x576 with 1 Axes>, <AxesSubplot:>)"
      ]
     },
     "metadata": {},
     "execution_count": 14
    },
    {
     "output_type": "execute_result",
     "data": {
      "text/plain": [
       "Text(0.5, 0, '')"
      ]
     },
     "metadata": {},
     "execution_count": 14
    },
    {
     "output_type": "execute_result",
     "data": {
      "text/plain": [
       "Text(0, 0.5, '')"
      ]
     },
     "metadata": {},
     "execution_count": 14
    },
    {
     "output_type": "execute_result",
     "data": {
      "text/plain": [
       "Text(0.5, 0.98, 'La situation des code dreams invalid pour Jardinage')"
      ]
     },
     "metadata": {},
     "execution_count": 14
    },
    {
     "output_type": "execute_result",
     "data": {
      "text/plain": [
       "Text(0.0, 525.5, '1051')"
      ]
     },
     "metadata": {},
     "execution_count": 14
    },
    {
     "output_type": "execute_result",
     "data": {
      "text/plain": [
       "Text(1.0, 225.0, '450')"
      ]
     },
     "metadata": {},
     "execution_count": 14
    },
    {
     "output_type": "execute_result",
     "data": {
      "text/plain": [
       "Text(2.0, 214.5, '429')"
      ]
     },
     "metadata": {},
     "execution_count": 14
    },
    {
     "output_type": "execute_result",
     "data": {
      "text/plain": [
       "Text(3.0, 86.0, '172')"
      ]
     },
     "metadata": {},
     "execution_count": 14
    },
    {
     "output_type": "execute_result",
     "data": {
      "text/plain": [
       "Text(-80, -20, 'source: HIVHaiti')"
      ]
     },
     "metadata": {},
     "execution_count": 14
    },
    {
     "output_type": "display_data",
     "data": {
      "image/png": "[encoded data removed]",
      "text/plain": [
       "<Figure size 1152x576 with 1 Axes>"
      ]
     },
     "metadata": {}
    }
   ],
   "metadata": {}
  },
  {
   "cell_type": "markdown",
   "source": [
    "# New Verification"
   ],
   "metadata": {}
  },
  {
   "cell_type": "code",
   "execution_count": 15,
   "source": [
    "new_garden_served = pd.read_excel(\"Dreams_Gardening_09082021.xlsx\",sheet_name=\"Jardinage\")\r\n",
    "new_garden_served.code_dreams.fillna(\"NULL\",inplace=True)\r\n",
    "#new_garden_served.code_dreams = new_garden_served.code_dreams.str.upper()\r\n",
    "new_garden_served.code_dreams.count()"
   ],
   "outputs": [
    {
     "output_type": "execute_result",
     "data": {
      "text/plain": [
       "1467"
      ]
     },
     "metadata": {},
     "execution_count": 15
    }
   ],
   "metadata": {}
  },
  {
   "cell_type": "code",
   "execution_count": 16,
   "source": [
    "new_garden_served[\"validation_code_dreams\"]= new_garden_served.code_dreams.str.fullmatch(\"^[A-Z]{3}/DRMS/(\\d{9})$\")\r\n",
    "new_garden_served.rename(columns={'info.owner_name':'username'},inplace=True)\r\n",
    "new_code_occurence = new_garden_served.groupby(\"code_dreams\").count()[[\"username\"]]\r\n",
    "new_code_occurence.reset_index(inplace=True)\r\n",
    "new_code_occurence.rename(columns={'username':\"code_occurence\"},inplace=True)\r\n",
    "\r\n",
    "\r\n",
    "new_lookup_garden = pd.read_excel(\"lookup_gardening.xlsx\")\r\n",
    "new_lookup_garden.rename(columns={'name':'agent_name'},inplace=True)\r\n",
    "\r\n",
    "\r\n",
    "new_garden_served_complete =  new_lookup_garden.merge(new_garden_served,on='username',how='right')\r\n",
    "new_garden_served_complete = new_garden_served_complete.merge(new_code_occurence,on='code_dreams',how=\"right\")"
   ],
   "outputs": [],
   "metadata": {}
  },
  {
   "cell_type": "code",
   "execution_count": 17,
   "source": [
    "#new_garden_served_complete[\r\n",
    "#    (new_garden_served_complete.code_occurence!=1)&\r\n",
    "#    (new_garden_served_complete.code_occurence!=len(new_garden_served_complete[new_garden_served_complete.code_dreams == 'NULL'][['username']]))&\r\n",
    "#    (new_garden_served_complete.code_occurence!=len(new_garden_served_complete[new_garden_served_complete.code_dreams == '---'][['username']]))\r\n",
    "#]\r\n",
    "new_all_duplicated = new_garden_served_complete[(~new_garden_served_complete.code_dreams.isin(['---','NULL']))&(new_garden_served_complete.code_occurence!=1)]\r\n",
    "\r\n",
    "\r\n",
    "new_code_non_standard = new_garden_served_complete[(~new_garden_served_complete.code_dreams.isin(['---','NULL']))&(new_garden_served_complete.validation_code_dreams == False)]"
   ],
   "outputs": [],
   "metadata": {}
  },
  {
   "cell_type": "code",
   "execution_count": 18,
   "source": [
    "new_all_report = pd.ExcelWriter(f\"new_validation_garden.xlsx\",engine=\"xlsxwriter\")\r\n",
    "new_garden_served_complete.to_excel(new_all_report,sheet_name=\"table_global\",index=False,na_rep=\"NULL\")\r\n",
    "new_all_duplicated.to_excel(new_all_report,sheet_name=\"les_duplications\",index=False,na_rep=\"NULL\")\r\n",
    "new_code_non_standard.to_excel(new_all_report,sheet_name=\"codes_non_standards\",index=False,na_rep=\"NULL\")\r\n",
    "new_all_report.save()"
   ],
   "outputs": [],
   "metadata": {}
  },
  {
   "cell_type": "markdown",
   "source": [
    "# Code manquant search\r\n",
    "\r\n",
    "> 250 code alreeady submitted"
   ],
   "metadata": {}
  },
  {
   "cell_type": "code",
   "execution_count": null,
   "source": [],
   "outputs": [],
   "metadata": {}
  }
 ],
 "metadata": {
  "orig_nbformat": 4,
  "language_info": {
   "name": "python",
   "version": "3.9.6",
   "mimetype": "text/x-python",
   "codemirror_mode": {
    "name": "ipython",
    "version": 3
   },
   "pygments_lexer": "ipython3",
   "nbconvert_exporter": "python",
   "file_extension": ".py"
  },
  "kernelspec": {
   "name": "python3",
   "display_name": "Python 3.9.6 64-bit"
  },
  "interpreter": {
   "hash": "4534460e0bdca1b390927d45471088fb3501d39abc4e3f2cee293892e17d7fc6"
  }
 },
 "nbformat": 4,
 "nbformat_minor": 2
}