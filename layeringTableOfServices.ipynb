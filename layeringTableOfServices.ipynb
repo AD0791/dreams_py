{
 "cells": [
  {
   "cell_type": "code",
   "execution_count": 41,
   "id": "graduate-legislation",
   "metadata": {},
   "outputs": [],
   "source": [
    "import os\n",
    "from datetime import datetime\n",
    "#from datetime import date\n",
    "import pymysql\n",
    "from sqlalchemy import create_engine\n",
    "from decouple import config \n",
    "from dotenv import load_dotenv\n",
    "import pandas as pd\n",
    "from numpy import int16"
   ]
  },
  {
   "cell_type": "code",
   "execution_count": 2,
   "id": "noble-interaction",
   "metadata": {},
   "outputs": [],
   "source": [
    "load_dotenv()\n",
    "# get the environment variables needed\n",
    "USER= config('USRCaris')\n",
    "PASSWORD= config('PASSCaris')\n",
    "HOSTNAME= config('HOSTCaris')\n",
    "DBNAME= config('DBCaris')"
   ]
  },
  {
   "cell_type": "code",
   "execution_count": 3,
   "id": "secondary-southeast",
   "metadata": {},
   "outputs": [],
   "source": [
    "# get the engine to connect and fetch\n",
    "engine = create_engine(f\"mysql+pymysql://{USER}:{PASSWORD}@{HOSTNAME}/{DBNAME}\")\n",
    "query = '''\n",
    "SELECT \n",
    "    dm.id_patient AS main_id,\n",
    "    IF(TIMESTAMPDIFF(YEAR,\n",
    "            dsd.nan_ki_dat_ou_fet,\n",
    "            NOW()) >= 18,\n",
    "        IF(dsd.a7_Ak_kiles_w_ap_viv_15_19 = '3'\n",
    "                OR dsd.a1121_aktivite_pouw_rantre_kob_ou_vle_fe = '0'\n",
    "                or dsd.c6b_Kiles_ki_peye_lekol_ou_Tranche_15_19 = '3'\n",
    "                or dsd.eske_ou_bay_kob_pou_pran_swen_piti_ou_ayo = 'oui',\n",
    "            'yes_sup18',\n",
    "            'no18'),\n",
    "        if(\n",
    "\t\t\tdsd.a7_ak_kils_w_ap_viv_10_14 = '6'\n",
    "            OR dsd.a1121_aktivite_pouw_rantre_kob_ou_vle_fe = '0'\n",
    "            OR dsd.c6b_kils_ki_peye_lekl_ou_10_14 = '5'\n",
    "            or dsd.eske_ou_bay_kob_pou_pran_swen_piti_ou_ayo = 'oui',\n",
    "            'yes_inf17'\n",
    "            ,'no17'\t)\n",
    "\t\t) AS muso_eligibility,\n",
    "    dm.id_group AS actual_id_group,\n",
    "    b.groups AS group_she_take_sessions,\n",
    "    p.patient_code AS code,\n",
    "    ben.last_name,\n",
    "    ben.first_name,\n",
    "    ben.dob,\n",
    "    TIMESTAMPDIFF(YEAR, ben.dob, NOW()) AS age,\n",
    "    b.pres AS number_of_different_topic,\n",
    "    b.first_session_date,\n",
    "    b.last_session_date,\n",
    "    MAX(dhi.test_date) AS last_hiv_test_date,\n",
    "    GROUP_CONCAT(DISTINCT dhi.test_result, ',') AS test_results,\n",
    "    GROUP_CONCAT(DISTINCT ltlr.name, ',') AS test_results_with_label,\n",
    "    MAX(dhi.condoms_reception_date) AS last_condoms_reception_date,\n",
    "    MAX(dhi.vbg_treatment_date) AS last_vbg_treatment_date,\n",
    "    MAX(dhi.gynecological_care_date) AS last_gynecological_care_date,\n",
    "    dg.name AS actual_group_name,\n",
    "    dh.name AS actual_hub,\n",
    "    lc.name AS actual_commune,\n",
    "    dh.commune AS actual_commune_id,\n",
    "    ld.name AS actual_departement,\n",
    "    lc.departement AS actual_departement_id,\n",
    "    IF(mgm.id_patient IS NOT NULL,\n",
    "        'yes',\n",
    "        'no') AS is_muso,\n",
    "    IF(gb.case_id IS NOT NULL, 'yes', 'no') AS is_gardening,\n",
    "    tf.*,\n",
    "    dsd.*\n",
    "FROM\n",
    "    dream_member dm\n",
    "        LEFT JOIN\n",
    "    (SELECT \n",
    "        SUM(a.value = 'P') AS pres,\n",
    "            a.id_patient,\n",
    "            GROUP_CONCAT(DISTINCT a.id_group, ',') AS groups,\n",
    "            MIN(a.date) AS first_session_date,\n",
    "            MAX(a.date) AS last_session_date\n",
    "    FROM\n",
    "        (SELECT \n",
    "        dga.*, dgs.topic, dgs.date, dgs.id_group\n",
    "    FROM\n",
    "        dream_group_attendance dga\n",
    "    LEFT JOIN dream_group_session dgs ON dgs.id = dga.id_group_session\n",
    "    WHERE\n",
    "        dga.value = 'P'\n",
    "    GROUP BY dga.id_patient , dgs.topic) a\n",
    "    GROUP BY a.id_patient) b ON b.id_patient = dm.id_patient\n",
    "        LEFT JOIN\n",
    "    beneficiary ben ON ben.id_patient = dm.id_patient\n",
    "        LEFT JOIN\n",
    "    patient p ON p.id = dm.id_patient\n",
    "        LEFT JOIN\n",
    "    caris_db.dream_hivinfos dhi ON dhi.id_patient = dm.id_patient\n",
    "        LEFT JOIN\n",
    "    lookup_testing_lab_result ltlr ON ltlr.id = dhi.test_result\n",
    "        LEFT JOIN\n",
    "    caris_db.dream_group dg ON dg.id = dm.id_group\n",
    "        LEFT JOIN\n",
    "    dream_hub dh ON dh.id = dg.id_dream_hub\n",
    "        LEFT JOIN\n",
    "    lookup_commune lc ON lc.id = dh.commune\n",
    "        LEFT JOIN\n",
    "    lookup_departement ld ON ld.id = lc.departement\n",
    "        LEFT JOIN\n",
    "    dreams_surveys_data dsd ON dsd.case_id = dm.case_id\n",
    "        LEFT JOIN\n",
    "    tracking_familymember tf ON tf.id_patient = dm.id_patient\n",
    "        LEFT JOIN\n",
    "    muso_group_members mgm ON mgm.id_patient = dm.id_patient\n",
    "        LEFT JOIN\n",
    "    gardening_beneficiary gb ON gb.code_dreams = p.patient_code\n",
    "GROUP BY dm.id_patient\n",
    "'''\n",
    "\n",
    "dreams_mastersheet = pd.read_sql_query(query,engine,parse_dates=True)"
   ]
  },
  {
   "cell_type": "code",
   "execution_count": 16,
   "id": "talented-finance",
   "metadata": {},
   "outputs": [],
   "source": [
    "# close the pool of connection\n",
    "engine.dispose()"
   ]
  },
  {
   "cell_type": "markdown",
   "id": "planned-expression",
   "metadata": {},
   "source": [
    "## Work on the age aspect"
   ]
  },
  {
   "cell_type": "code",
   "execution_count": 11,
   "id": "moved-virginia",
   "metadata": {},
   "outputs": [
    {
     "data": {
      "text/plain": [
       "0"
      ]
     },
     "execution_count": 11,
     "metadata": {},
     "output_type": "execute_result"
    }
   ],
   "source": [
    "# how many NA\n",
    "dreams_mastersheet.age.isna().sum()"
   ]
  },
  {
   "cell_type": "code",
   "execution_count": 12,
   "id": "unauthorized-paraguay",
   "metadata": {},
   "outputs": [],
   "source": [
    "# turn to integer\n",
    "dreams_mastersheet.age = dreams_mastersheet.age.fillna(-1000)\n",
    "dreams_mastersheet.age = dreams_mastersheet.age.astype(int16)"
   ]
  },
  {
   "cell_type": "code",
   "execution_count": 13,
   "id": "eligible-composite",
   "metadata": {},
   "outputs": [
    {
     "data": {
      "text/plain": [
       "0       -1000\n",
       "1          16\n",
       "2          19\n",
       "3          20\n",
       "4          19\n",
       "         ... \n",
       "19973      13\n",
       "19974      10\n",
       "19975      15\n",
       "19976      12\n",
       "19977      14\n",
       "Name: age, Length: 19978, dtype: int16"
      ]
     },
     "execution_count": 13,
     "metadata": {},
     "output_type": "execute_result"
    }
   ],
   "source": [
    "dreams_mastersheet.age"
   ]
  },
  {
   "cell_type": "code",
   "execution_count": 7,
   "id": "interested-listening",
   "metadata": {},
   "outputs": [],
   "source": [
    "# tranche d'age classique pr les services agyw\n",
    "# tranche age mineur majeur pour les services agyw\n",
    "\n",
    "\n",
    "\n",
    "def tranche_age_classique(age):\n",
    "        if age>=10 and age<=14:\n",
    "            return \"10-14\"\n",
    "        elif age>=15 and age<=19:\n",
    "            return \"15-19\"\n",
    "        elif age>=20 and age<=24:\n",
    "            return \"20-24\"\n",
    "        elif age>=25 and age<=29:\n",
    "            return \"25-29\"\n",
    "        else:\n",
    "            return \"not_valid_age\"\n",
    "        \n",
    "def tranche_age_mineur_majeur(age):\n",
    "        if age>=10 and age<=17:\n",
    "            return \"10-17\"\n",
    "        elif age>=18 and age<=19:\n",
    "            return \"18-19\"\n",
    "        elif age>=20 and age<=24:\n",
    "            return \"20-24\"\n",
    "        elif age>=25 and age<=29:\n",
    "            return \"25-29\"\n",
    "        else:\n",
    "            return \"not_valid_age\""
   ]
  },
  {
   "cell_type": "code",
   "execution_count": 8,
   "id": "generous-commissioner",
   "metadata": {},
   "outputs": [],
   "source": [
    "dreams_mastersheet['age_range'] = dreams_mastersheet.age.map(tranche_age_classique)\n",
    "dreams_mastersheet['newage_range'] = dreams_mastersheet.age.map(tranche_age_mineur_majeur)"
   ]
  },
  {
   "cell_type": "code",
   "execution_count": 15,
   "id": "sophisticated-leisure",
   "metadata": {},
   "outputs": [
    {
     "data": {
      "text/plain": [
       "0        not_valid_age\n",
       "1                15-19\n",
       "2                15-19\n",
       "3                20-24\n",
       "4                15-19\n",
       "             ...      \n",
       "19973            10-14\n",
       "19974            10-14\n",
       "19975            15-19\n",
       "19976            10-14\n",
       "19977            10-14\n",
       "Name: age_range, Length: 19978, dtype: object"
      ]
     },
     "execution_count": 15,
     "metadata": {},
     "output_type": "execute_result"
    }
   ],
   "source": [
    "#dreams_mastersheet.newage_range\n",
    "dreams_mastersheet.age_range"
   ]
  },
  {
   "cell_type": "markdown",
   "id": "stunning-alarm",
   "metadata": {},
   "source": [
    "## Work on the interview date aspect"
   ]
  },
  {
   "cell_type": "code",
   "execution_count": 22,
   "id": "handed-jimmy",
   "metadata": {},
   "outputs": [
    {
     "data": {
      "text/plain": [
       "0"
      ]
     },
     "execution_count": 22,
     "metadata": {},
     "output_type": "execute_result"
    }
   ],
   "source": [
    "dreams_mastersheet.a1_dat_entvyou_a_ft_jjmmaa_egz_010817.isna().sum()"
   ]
  },
  {
   "cell_type": "code",
   "execution_count": 26,
   "id": "invisible-welcome",
   "metadata": {},
   "outputs": [],
   "source": [
    "dreams_mastersheet[\"date_entevyou\"] = pd.to_datetime( dreams_mastersheet.a1_dat_entvyou_a_ft_jjmmaa_egz_010817)"
   ]
  },
  {
   "cell_type": "code",
   "execution_count": 34,
   "id": "scientific-regulation",
   "metadata": {},
   "outputs": [
    {
     "data": {
      "text/plain": [
       "0       2020-07-09\n",
       "1       2019-12-18\n",
       "2       2019-12-18\n",
       "3       2019-12-18\n",
       "4       2019-12-18\n",
       "           ...    \n",
       "19973   2020-08-20\n",
       "19974   2020-12-13\n",
       "19975   2020-12-12\n",
       "19976   2020-12-11\n",
       "19977   2020-08-20\n",
       "Name: date_entevyou, Length: 19978, dtype: datetime64[ns]"
      ]
     },
     "execution_count": 34,
     "metadata": {},
     "output_type": "execute_result"
    }
   ],
   "source": [
    "dreams_mastersheet.date_entevyou"
   ]
  },
  {
   "cell_type": "code",
   "execution_count": 63,
   "id": "junior-reporter",
   "metadata": {},
   "outputs": [],
   "source": [
    "def fiscalYear21(date):\n",
    "    if date.year == 2021 and date.month>=1 and date.month<=3:\n",
    "        return \"FY21Q2\"\n",
    "    elif date.year == 2020 and date.month>=10 and date.month<=12:\n",
    "        return \"FY21Q1\"\n",
    "    else:\n",
    "        return \"not_valid_fy\"\n",
    "    \n",
    "\n",
    "    \n",
    "\n",
    "def validTimeOnSystem(date):\n",
    "    if date>= datetime.strptime(\"2020-04-01\",\"%Y-%m-%d\") and date<= datetime.now():\n",
    "        return \"required_Time_on\"\n",
    "    else:\n",
    "        return \"not_valid_time_on\"\n",
    "        \n",
    "    \n",
    "\n",
    "    \n",
    "def between_now_date_entevyou(date):\n",
    "    return (datetime.now().year - date.year) * 12 + (datetime.now().month - date.month)\n",
    "\n",
    "\n",
    "\n",
    "\n",
    "def agywPeriods(months):\n",
    "    if months <= 6:\n",
    "        return \"0-6 months\"\n",
    "    elif months>=7 and months<=12:\n",
    "        return \"7-12 months\"\n",
    "    elif months>=13 and months<=24:\n",
    "        return \"13-24 months\"\n",
    "    else:\n",
    "        return \"25+ months\""
   ]
  },
  {
   "cell_type": "code",
   "execution_count": 65,
   "id": "handled-multiple",
   "metadata": {},
   "outputs": [],
   "source": [
    "dreams_mastersheet[\"fiscal_year\"] = dreams_mastersheet.date_entevyou.map(fiscalYear21)\n",
    "dreams_mastersheet[\"timeOn_system\"] = dreams_mastersheet.date_entevyou.map(validTimeOnSystem)\n",
    "dreams_mastersheet[\"months_now_dateEntevyou\"] = dreams_mastersheet.date_entevyou.map(between_now_date_entevyou)\n",
    "dreams_mastersheet[\"agyw_period_range\"] = dreams_mastersheet.months_now_dateEntevyou.map(agywPeriods)"
   ]
  },
  {
   "cell_type": "code",
   "execution_count": 68,
   "id": "identical-lottery",
   "metadata": {},
   "outputs": [
    {
     "data": {
      "text/plain": [
       "0         7-12 months\n",
       "1        13-24 months\n",
       "2        13-24 months\n",
       "3        13-24 months\n",
       "4        13-24 months\n",
       "             ...     \n",
       "19973     7-12 months\n",
       "19974      0-6 months\n",
       "19975      0-6 months\n",
       "19976      0-6 months\n",
       "19977     7-12 months\n",
       "Name: agyw_period_range, Length: 19978, dtype: object"
      ]
     },
     "execution_count": 68,
     "metadata": {},
     "output_type": "execute_result"
    }
   ],
   "source": [
    "#dreams_mastersheet.fiscal_year\n",
    "#dreams_mastersheet.timeOn_system\n",
    "#dreams_mastersheet.months_now_dateEntevyou\n",
    "dreams_mastersheet.agyw_period_range"
   ]
  },
  {
   "cell_type": "markdown",
   "id": "together-occasions",
   "metadata": {},
   "source": [
    "## Curriculum services aspect"
   ]
  },
  {
   "cell_type": "code",
   "execution_count": 70,
   "id": "about-cannon",
   "metadata": {},
   "outputs": [
    {
     "data": {
      "text/plain": [
       "1580"
      ]
     },
     "execution_count": 70,
     "metadata": {},
     "output_type": "execute_result"
    }
   ],
   "source": [
    "dreams_mastersheet.number_of_different_topic.isna().sum()"
   ]
  },
  {
   "cell_type": "code",
   "execution_count": 72,
   "id": "otherwise-kernel",
   "metadata": {},
   "outputs": [],
   "source": [
    "dreams_mastersheet.number_of_different_topic = dreams_mastersheet.number_of_different_topic.fillna(-1000)\n",
    "dreams_mastersheet.number_of_different_topic = dreams_mastersheet.number_of_different_topic.astype(int16)"
   ]
  },
  {
   "cell_type": "code",
   "execution_count": 73,
   "id": "published-gamma",
   "metadata": {},
   "outputs": [
    {
     "data": {
      "text/plain": [
       "array([-1000,    18,    10,    13,    17,    14,    15,     6,    16,\n",
       "          11,     3,     2,     7,     9,     8,     1,     4,    12,\n",
       "           5], dtype=int16)"
      ]
     },
     "execution_count": 73,
     "metadata": {},
     "output_type": "execute_result"
    }
   ],
   "source": [
    "dreams_mastersheet.number_of_different_topic.unique()"
   ]
  },
  {
   "cell_type": "code",
   "execution_count": 79,
   "id": "demographic-librarian",
   "metadata": {},
   "outputs": [],
   "source": [
    "def curriculum_atLeastOneService(topics):\n",
    "    return \"servis_auMoins_1fois\" if topics>=1 and topics<=18 else \"zero_services_curriculum\"\n",
    "\n",
    "\n",
    "def status_curriculum(topics):\n",
    "    if topics>=1 and topics<=13:\n",
    "        return \"curriculum incomplet\"\n",
    "    elif topics>=14 and topics<=18:\n",
    "        return \"curriculum complet\"\n",
    "    else:\n",
    "        return \"non-recu0\"\n",
    "\n"
   ]
  },
  {
   "cell_type": "markdown",
   "id": "occasional-transsexual",
   "metadata": {},
   "source": [
    "### - Au moins un services du Curriculum"
   ]
  },
  {
   "cell_type": "code",
   "execution_count": 75,
   "id": "ambient-manitoba",
   "metadata": {},
   "outputs": [],
   "source": [
    "dreams_mastersheet['curriculum_servis_auMoins_1fois'] = dreams_mastersheet.number_of_different_topic.map(curriculum_atLeastOneService)"
   ]
  },
  {
   "cell_type": "code",
   "execution_count": 78,
   "id": "unnecessary-enemy",
   "metadata": {},
   "outputs": [
    {
     "data": {
      "text/plain": [
       "array(['zero_services_curriculum', 'servis_auMoins_1fois'], dtype=object)"
      ]
     },
     "execution_count": 78,
     "metadata": {},
     "output_type": "execute_result"
    }
   ],
   "source": [
    "dreams_mastersheet.curriculum_servis_auMoins_1fois.unique()"
   ]
  },
  {
   "cell_type": "markdown",
   "id": "presidential-wilson",
   "metadata": {},
   "source": [
    "### - Curriculum Status"
   ]
  },
  {
   "cell_type": "code",
   "execution_count": 80,
   "id": "other-pasta",
   "metadata": {},
   "outputs": [],
   "source": [
    "dreams_mastersheet['curriculum'] = dreams_mastersheet.number_of_different_topic.map(status_curriculum)"
   ]
  },
  {
   "cell_type": "code",
   "execution_count": 83,
   "id": "loose-guatemala",
   "metadata": {},
   "outputs": [
    {
     "data": {
      "text/plain": [
       "array(['non-recu0', 'curriculum complet', 'curriculum incomplet'],\n",
       "      dtype=object)"
      ]
     },
     "execution_count": 83,
     "metadata": {},
     "output_type": "execute_result"
    }
   ],
   "source": [
    "dreams_mastersheet.curriculum.unique()"
   ]
  },
  {
   "cell_type": "markdown",
   "id": "revised-georgia",
   "metadata": {},
   "source": [
    "## HTS aspect"
   ]
  },
  {
   "cell_type": "code",
   "execution_count": null,
   "id": "olive-scratch",
   "metadata": {},
   "outputs": [],
   "source": []
  }
 ],
 "metadata": {
  "kernelspec": {
   "display_name": "Python 3",
   "language": "python",
   "name": "python3"
  },
  "language_info": {
   "codemirror_mode": {
    "name": "ipython",
    "version": 3
   },
   "file_extension": ".py",
   "mimetype": "text/x-python",
   "name": "python",
   "nbconvert_exporter": "python",
   "pygments_lexer": "ipython3",
   "version": "3.9.2"
  }
 },
 "nbformat": 4,
 "nbformat_minor": 5
}
