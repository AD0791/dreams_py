{
 "cells": [
  {
   "cell_type": "code",
   "execution_count": 31,
   "id": "loved-craft",
   "metadata": {},
   "outputs": [],
   "source": [
    "import os\n",
    "import pymysql\n",
    "from sqlalchemy import create_engine\n",
    "from decouple import config \n",
    "from dotenv import load_dotenv\n",
    "import pandas as pd\n",
    "from numpy import int16"
   ]
  },
  {
   "cell_type": "code",
   "execution_count": 13,
   "id": "black-cassette",
   "metadata": {},
   "outputs": [],
   "source": [
    "load_dotenv()\n",
    "# get the environment variables needed\n",
    "USER= config('USRCaris')\n",
    "PASSWORD= config('PASSCaris')\n",
    "HOSTNAME= config('HOSTCaris')\n",
    "DBNAME= config('DBCaris')"
   ]
  },
  {
   "cell_type": "code",
   "execution_count": 18,
   "id": "humanitarian-newport",
   "metadata": {},
   "outputs": [],
   "source": [
    "# get the engine to connect and fetch\n",
    "engine = create_engine(f\"mysql+pymysql://{USER}:{PASSWORD}@{HOSTNAME}/{DBNAME}\")\n",
    "query = '''\n",
    "SELECT \n",
    "    dm.id_patient AS main_id,\n",
    "    IF(TIMESTAMPDIFF(YEAR,\n",
    "            dsd.nan_ki_dat_ou_fet,\n",
    "            NOW()) >= 18,\n",
    "        IF(dsd.a7_Ak_kiles_w_ap_viv_15_19 = '3'\n",
    "                OR dsd.a1121_aktivite_pouw_rantre_kob_ou_vle_fe = '0'\n",
    "                or dsd.c6b_Kiles_ki_peye_lekol_ou_Tranche_15_19 = '3'\n",
    "                or dsd.eske_ou_bay_kob_pou_pran_swen_piti_ou_ayo = 'oui',\n",
    "            'yes_sup18',\n",
    "            'no18'),\n",
    "        if(\n",
    "\t\t\tdsd.a7_ak_kils_w_ap_viv_10_14 = '6'\n",
    "            OR dsd.a1121_aktivite_pouw_rantre_kob_ou_vle_fe = '0'\n",
    "            OR dsd.c6b_kils_ki_peye_lekl_ou_10_14 = '5'\n",
    "            or dsd.eske_ou_bay_kob_pou_pran_swen_piti_ou_ayo = 'oui',\n",
    "            'yes_inf17'\n",
    "            ,'no17'\t)\n",
    "\t\t) AS muso_eligibility,\n",
    "    dm.id_group AS actual_id_group,\n",
    "    b.groups AS group_she_take_sessions,\n",
    "    p.patient_code AS code,\n",
    "    ben.last_name,\n",
    "    ben.first_name,\n",
    "    ben.dob,\n",
    "    TIMESTAMPDIFF(YEAR, ben.dob, NOW()) AS age,\n",
    "    b.pres AS number_of_different_topic,\n",
    "    b.first_session_date,\n",
    "    b.last_session_date,\n",
    "    MAX(dhi.test_date) AS last_hiv_test_date,\n",
    "    GROUP_CONCAT(DISTINCT dhi.test_result, ',') AS test_results,\n",
    "    GROUP_CONCAT(DISTINCT ltlr.name, ',') AS test_results_with_label,\n",
    "    MAX(dhi.condoms_reception_date) AS last_condoms_reception_date,\n",
    "    MAX(dhi.vbg_treatment_date) AS last_vbg_treatment_date,\n",
    "    MAX(dhi.gynecological_care_date) AS last_gynecological_care_date,\n",
    "    dg.name AS actual_group_name,\n",
    "    dh.name AS actual_hub,\n",
    "    lc.name AS actual_commune,\n",
    "    dh.commune AS actual_commune_id,\n",
    "    ld.name AS actual_departement,\n",
    "    lc.departement AS actual_departement_id,\n",
    "    IF(mgm.id_patient IS NOT NULL,\n",
    "        'yes',\n",
    "        'no') AS is_muso,\n",
    "    IF(gb.case_id IS NOT NULL, 'yes', 'no') AS is_gardening,\n",
    "    tf.*,\n",
    "    dsd.*\n",
    "FROM\n",
    "    dream_member dm\n",
    "        LEFT JOIN\n",
    "    (SELECT \n",
    "        SUM(a.value = 'P') AS pres,\n",
    "            a.id_patient,\n",
    "            GROUP_CONCAT(DISTINCT a.id_group, ',') AS groups,\n",
    "            MIN(a.date) AS first_session_date,\n",
    "            MAX(a.date) AS last_session_date\n",
    "    FROM\n",
    "        (SELECT \n",
    "        dga.*, dgs.topic, dgs.date, dgs.id_group\n",
    "    FROM\n",
    "        dream_group_attendance dga\n",
    "    LEFT JOIN dream_group_session dgs ON dgs.id = dga.id_group_session\n",
    "    WHERE\n",
    "        dga.value = 'P'\n",
    "    GROUP BY dga.id_patient , dgs.topic) a\n",
    "    GROUP BY a.id_patient) b ON b.id_patient = dm.id_patient\n",
    "        LEFT JOIN\n",
    "    beneficiary ben ON ben.id_patient = dm.id_patient\n",
    "        LEFT JOIN\n",
    "    patient p ON p.id = dm.id_patient\n",
    "        LEFT JOIN\n",
    "    caris_db.dream_hivinfos dhi ON dhi.id_patient = dm.id_patient\n",
    "        LEFT JOIN\n",
    "    lookup_testing_lab_result ltlr ON ltlr.id = dhi.test_result\n",
    "        LEFT JOIN\n",
    "    caris_db.dream_group dg ON dg.id = dm.id_group\n",
    "        LEFT JOIN\n",
    "    dream_hub dh ON dh.id = dg.id_dream_hub\n",
    "        LEFT JOIN\n",
    "    lookup_commune lc ON lc.id = dh.commune\n",
    "        LEFT JOIN\n",
    "    lookup_departement ld ON ld.id = lc.departement\n",
    "        LEFT JOIN\n",
    "    dreams_surveys_data dsd ON dsd.case_id = dm.case_id\n",
    "        LEFT JOIN\n",
    "    tracking_familymember tf ON tf.id_patient = dm.id_patient\n",
    "        LEFT JOIN\n",
    "    muso_group_members mgm ON mgm.id_patient = dm.id_patient\n",
    "        LEFT JOIN\n",
    "    gardening_beneficiary gb ON gb.code_dreams = p.patient_code\n",
    "GROUP BY dm.id_patient\n",
    "'''\n",
    "\n",
    "dreams_mastersheet = pd.read_sql_query(query,engine,parse_dates=True)"
   ]
  },
  {
   "cell_type": "markdown",
   "id": "overhead-tiffany",
   "metadata": {},
   "source": [
    "## Work on the age aspect"
   ]
  },
  {
   "cell_type": "code",
   "execution_count": 25,
   "id": "sound-glenn",
   "metadata": {},
   "outputs": [
    {
     "data": {
      "text/plain": [
       "2"
      ]
     },
     "execution_count": 25,
     "metadata": {},
     "output_type": "execute_result"
    }
   ],
   "source": [
    "# how many NA\n",
    "dreams_mastersheet.age.isna().sum()"
   ]
  },
  {
   "cell_type": "code",
   "execution_count": 34,
   "id": "compressed-character",
   "metadata": {},
   "outputs": [],
   "source": [
    "# turn to integer\n",
    "dreams_mastersheet.age = dreams_mastersheet.age.fillna(-1000)\n",
    "dreams_mastersheet.age = dreams_mastersheet.age.astype(int16)"
   ]
  },
  {
   "cell_type": "code",
   "execution_count": 57,
   "id": "anonymous-jackson",
   "metadata": {},
   "outputs": [
    {
     "data": {
      "text/plain": [
       "0       -1000\n",
       "1          16\n",
       "2          19\n",
       "3          20\n",
       "4          19\n",
       "         ... \n",
       "19973      13\n",
       "19974      10\n",
       "19975      15\n",
       "19976      12\n",
       "19977      14\n",
       "Name: age, Length: 19978, dtype: int16"
      ]
     },
     "execution_count": 57,
     "metadata": {},
     "output_type": "execute_result"
    }
   ],
   "source": [
    "dreams_mastersheet.age"
   ]
  },
  {
   "cell_type": "code",
   "execution_count": 104,
   "id": "cross-acoustic",
   "metadata": {},
   "outputs": [],
   "source": [
    "# tranche d'age classique pr les services agyw\n",
    "def tranche_age_classique():\n",
    "    container = []\n",
    "    for age in dreams_mastersheet.age:\n",
    "        if age>=10 and age<=14:\n",
    "            container.append(\"10-14\")\n",
    "        elif age>=15 and age<=19:\n",
    "            container.append(\"15-19\")\n",
    "        elif age>=20 and age<=24:\n",
    "            container.append(\"20-24\")\n",
    "        elif age>=25 and age<=29:\n",
    "            container.append(\"25-29\")\n",
    "        else:\n",
    "            container.append(\"not_valid_age\")\n",
    "    return pd.Series(container)"
   ]
  },
  {
   "cell_type": "code",
   "execution_count": 106,
   "id": "greater-korea",
   "metadata": {},
   "outputs": [],
   "source": [
    "dreams_mastersheet['new_age'] = tranche_age_classique()"
   ]
  },
  {
   "cell_type": "code",
   "execution_count": 107,
   "id": "narrative-triumph",
   "metadata": {},
   "outputs": [
    {
     "data": {
      "text/plain": [
       "0        not_valid_age\n",
       "1                15-19\n",
       "2                15-19\n",
       "3                20-24\n",
       "4                15-19\n",
       "             ...      \n",
       "19973            10-14\n",
       "19974            10-14\n",
       "19975            15-19\n",
       "19976            10-14\n",
       "19977            10-14\n",
       "Name: new_age, Length: 19978, dtype: object"
      ]
     },
     "execution_count": 107,
     "metadata": {},
     "output_type": "execute_result"
    }
   ],
   "source": [
    "dreams_mastersheet.new_age"
   ]
  },
  {
   "cell_type": "code",
   "execution_count": null,
   "id": "regulated-eating",
   "metadata": {},
   "outputs": [],
   "source": []
  }
 ],
 "metadata": {
  "kernelspec": {
   "display_name": "Python 3",
   "language": "python",
   "name": "python3"
  },
  "language_info": {
   "codemirror_mode": {
    "name": "ipython",
    "version": 3
   },
   "file_extension": ".py",
   "mimetype": "text/x-python",
   "name": "python",
   "nbconvert_exporter": "python",
   "pygments_lexer": "ipython3",
   "version": "3.9.2"
  }
 },
 "nbformat": 4,
 "nbformat_minor": 5
}
